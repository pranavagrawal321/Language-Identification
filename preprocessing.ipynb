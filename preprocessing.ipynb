{
 "cells": [
  {
   "cell_type": "markdown",
   "id": "34c50163-e754-415b-a759-8669d34321b6",
   "metadata": {},
   "source": [
    "## Assamese"
   ]
  },
  {
   "cell_type": "code",
   "execution_count": 1,
   "id": "e9b27c70-0f70-47e4-9fbf-2afd9bfffb2b",
   "metadata": {},
   "outputs": [],
   "source": [
    "import os"
   ]
  },
  {
   "cell_type": "code",
   "execution_count": 2,
   "id": "130b7614-7774-443d-a00d-6d1204a8f1f0",
   "metadata": {},
   "outputs": [
    {
     "data": {
      "text/plain": [
       "['Nepali.zip',\n",
       " 'Kannada.zip',\n",
       " 'Malayalam',\n",
       " 'Bengali.zip',\n",
       " 'Sanskrit.zip',\n",
       " 'Multilang.tgz',\n",
       " 'Kannada',\n",
       " 'Punjabi.zip',\n",
       " 'Punjabi',\n",
       " 'Malayalam.zip',\n",
       " 'Hindi',\n",
       " 'Tamil',\n",
       " 'Marathi.zip',\n",
       " 'Urdu',\n",
       " 'Gujarati.zip',\n",
       " 'Tamil.zip',\n",
       " 'Odia',\n",
       " 'Bodo.zip',\n",
       " 'English.zip',\n",
       " 'Bodo',\n",
       " 'Sindhi.zip',\n",
       " 'Assamese.zip',\n",
       " 'Urdu.zip',\n",
       " 'Hindi.zip',\n",
       " 'Sanskrit',\n",
       " 'Gujarati',\n",
       " 'Bengali',\n",
       " 'Assamese',\n",
       " 'Nepali',\n",
       " 'Kashmiri.csv',\n",
       " 'Odia.zip',\n",
       " 'Telugu',\n",
       " 'English',\n",
       " 'Marathi',\n",
       " 'Sindhi',\n",
       " 'Multilang',\n",
       " 'Telugu.zip']"
      ]
     },
     "execution_count": 2,
     "metadata": {},
     "output_type": "execute_result"
    }
   ],
   "source": [
    "os.listdir('datasets')"
   ]
  },
  {
   "cell_type": "code",
   "execution_count": 3,
   "id": "52ea16db-dbb2-46db-b8bd-31a1a0b17d8c",
   "metadata": {},
   "outputs": [
    {
     "name": "stdout",
     "output_type": "stream",
     "text": [
      "nenow_dataset.txt\n",
      "news18_preprocessed.csv\n",
      "nenow_preprocessed.csv\n",
      "new18_dataset.txt\n"
     ]
    }
   ],
   "source": [
    "for i in os.listdir('datasets/Assamese/'):\n",
    "    print(i)"
   ]
  },
  {
   "cell_type": "code",
   "execution_count": 4,
   "id": "e925695c-28ca-4689-a51b-0c9e3ecccca3",
   "metadata": {},
   "outputs": [],
   "source": [
    "import re"
   ]
  },
  {
   "cell_type": "code",
   "execution_count": 5,
   "id": "c500d0ba-e2b0-47d8-9cef-ce467000016c",
   "metadata": {},
   "outputs": [],
   "source": [
    "def extract_assamese_text(text):\n",
    "    # Regular expression pattern to match Assamese characters\n",
    "    assamese_pattern = re.compile(r'[\\u0980-\\u09FF\\s]+')\n",
    "    # Find all matches of Assamese text in the input text\n",
    "    assamese_matches = assamese_pattern.findall(text)\n",
    "    # Filter out empty strings\n",
    "    assamese_matches = [match.strip() for match in assamese_matches if match.strip()]\n",
    "    # Join the matches to form the extracted Assamese text\n",
    "    assamese_text = ' '.join(assamese_matches)\n",
    "    return assamese_text"
   ]
  },
  {
   "cell_type": "code",
   "execution_count": 6,
   "id": "7ea93d77-b040-4920-928e-c72ca95d3349",
   "metadata": {},
   "outputs": [],
   "source": [
    "os.makedirs('final', exist_ok=True)"
   ]
  },
  {
   "cell_type": "code",
   "execution_count": 7,
   "id": "55a071a8-d3a8-4e82-811d-866b5d49ecaa",
   "metadata": {},
   "outputs": [],
   "source": [
    "import pandas as pd\n",
    "data = pd.read_csv(\"datasets/Assamese/nenow_preprocessed.csv\")"
   ]
  },
  {
   "cell_type": "code",
   "execution_count": 8,
   "id": "4ce9e8df-c26a-4cfc-a135-6eca2b598cca",
   "metadata": {},
   "outputs": [
    {
     "data": {
      "text/html": [
       "<div>\n",
       "<style scoped>\n",
       "    .dataframe tbody tr th:only-of-type {\n",
       "        vertical-align: middle;\n",
       "    }\n",
       "\n",
       "    .dataframe tbody tr th {\n",
       "        vertical-align: top;\n",
       "    }\n",
       "\n",
       "    .dataframe thead th {\n",
       "        text-align: right;\n",
       "    }\n",
       "</style>\n",
       "<table border=\"1\" class=\"dataframe\">\n",
       "  <thead>\n",
       "    <tr style=\"text-align: right;\">\n",
       "      <th></th>\n",
       "      <th>S No.</th>\n",
       "      <th>summary</th>\n",
       "      <th>text</th>\n",
       "    </tr>\n",
       "  </thead>\n",
       "  <tbody>\n",
       "    <tr>\n",
       "      <th>0</th>\n",
       "      <td>1</td>\n",
       "      <td>কাৰাবন্দীৰ পৰা গৃহবন্দী হৈ উভতিল আং ছান ছু কী</td>\n",
       "      <td>আং ছান ছু কীফাইল ফটোসংগ্ৰহীতকাৰাগাৰৰ সূত্ৰই জন...</td>\n",
       "    </tr>\n",
       "    <tr>\n",
       "      <th>1</th>\n",
       "      <td>2</td>\n",
       "      <td>চীন কোৰিয়া ইণ্ডোনেছিয়াৰ পৰা আমদানি কৰা অপটিক...</td>\n",
       "      <td>ফটোসংগ্ৰহীতসস্তীয়া আমদানিৰ পৰা ঘৰুৱা উদ্যোগক ...</td>\n",
       "    </tr>\n",
       "    <tr>\n",
       "      <th>2</th>\n",
       "      <td>3</td>\n",
       "      <td>গ্ৰেপ্তাৰ হল ইমৰান খানদুৰ্নীতিৰ গোচৰত তিনিবছৰৰ...</td>\n",
       "      <td>বিপদে লগ নেৰা হৈছে পাকিস্তানৰ প্ৰাক্তন প্ৰধানম...</td>\n",
       "    </tr>\n",
       "    <tr>\n",
       "      <th>3</th>\n",
       "      <td>4</td>\n",
       "      <td>এইবাৰ পাকিস্তানৰ যুৱকৰ সৈতে বিয়াত বহিল দুই সন...</td>\n",
       "      <td>শচীনসীমা বিবাহ কাণ্ডই বিগত কিছুদিন ধৰি দুই চুব...</td>\n",
       "    </tr>\n",
       "    <tr>\n",
       "      <th>4</th>\n",
       "      <td>5</td>\n",
       "      <td>নিষেধাজ্ঞা নেওচি ভাৰতলৈ নেপালৰ বিলাহীঘোচ লৈ চা...</td>\n",
       "      <td>ভাৰতত আকাশলংঘী হৈছে বিলাহীৰ দামবিলাহীৰ এই অকল্...</td>\n",
       "    </tr>\n",
       "  </tbody>\n",
       "</table>\n",
       "</div>"
      ],
      "text/plain": [
       "   S No.                                            summary  \\\n",
       "0      1      কাৰাবন্দীৰ পৰা গৃহবন্দী হৈ উভতিল আং ছান ছু কী   \n",
       "1      2  চীন কোৰিয়া ইণ্ডোনেছিয়াৰ পৰা আমদানি কৰা অপটিক...   \n",
       "2      3  গ্ৰেপ্তাৰ হল ইমৰান খানদুৰ্নীতিৰ গোচৰত তিনিবছৰৰ...   \n",
       "3      4  এইবাৰ পাকিস্তানৰ যুৱকৰ সৈতে বিয়াত বহিল দুই সন...   \n",
       "4      5  নিষেধাজ্ঞা নেওচি ভাৰতলৈ নেপালৰ বিলাহীঘোচ লৈ চা...   \n",
       "\n",
       "                                                text  \n",
       "0  আং ছান ছু কীফাইল ফটোসংগ্ৰহীতকাৰাগাৰৰ সূত্ৰই জন...  \n",
       "1  ফটোসংগ্ৰহীতসস্তীয়া আমদানিৰ পৰা ঘৰুৱা উদ্যোগক ...  \n",
       "2  বিপদে লগ নেৰা হৈছে পাকিস্তানৰ প্ৰাক্তন প্ৰধানম...  \n",
       "3  শচীনসীমা বিবাহ কাণ্ডই বিগত কিছুদিন ধৰি দুই চুব...  \n",
       "4  ভাৰতত আকাশলংঘী হৈছে বিলাহীৰ দামবিলাহীৰ এই অকল্...  "
      ]
     },
     "execution_count": 8,
     "metadata": {},
     "output_type": "execute_result"
    }
   ],
   "source": [
    "data.head()"
   ]
  },
  {
   "cell_type": "code",
   "execution_count": 9,
   "id": "81e4e36c-a3cc-402e-92b3-520cdca8bff8",
   "metadata": {},
   "outputs": [],
   "source": [
    "data['cleaned'] = data['text'].apply(extract_assamese_text)"
   ]
  },
  {
   "cell_type": "code",
   "execution_count": 10,
   "id": "e9ea9c44-65a6-4ef7-ba84-ae0c7a5acdbf",
   "metadata": {},
   "outputs": [
    {
     "data": {
      "text/html": [
       "<div>\n",
       "<style scoped>\n",
       "    .dataframe tbody tr th:only-of-type {\n",
       "        vertical-align: middle;\n",
       "    }\n",
       "\n",
       "    .dataframe tbody tr th {\n",
       "        vertical-align: top;\n",
       "    }\n",
       "\n",
       "    .dataframe thead th {\n",
       "        text-align: right;\n",
       "    }\n",
       "</style>\n",
       "<table border=\"1\" class=\"dataframe\">\n",
       "  <thead>\n",
       "    <tr style=\"text-align: right;\">\n",
       "      <th></th>\n",
       "      <th>S No.</th>\n",
       "      <th>summary</th>\n",
       "      <th>text</th>\n",
       "      <th>cleaned</th>\n",
       "    </tr>\n",
       "  </thead>\n",
       "  <tbody>\n",
       "    <tr>\n",
       "      <th>0</th>\n",
       "      <td>1</td>\n",
       "      <td>কাৰাবন্দীৰ পৰা গৃহবন্দী হৈ উভতিল আং ছান ছু কী</td>\n",
       "      <td>আং ছান ছু কীফাইল ফটোসংগ্ৰহীতকাৰাগাৰৰ সূত্ৰই জন...</td>\n",
       "      <td>আং ছান ছু কীফাইল ফটোসংগ্ৰহীতকাৰাগাৰৰ সূত্ৰই জন...</td>\n",
       "    </tr>\n",
       "    <tr>\n",
       "      <th>1</th>\n",
       "      <td>2</td>\n",
       "      <td>চীন কোৰিয়া ইণ্ডোনেছিয়াৰ পৰা আমদানি কৰা অপটিক...</td>\n",
       "      <td>ফটোসংগ্ৰহীতসস্তীয়া আমদানিৰ পৰা ঘৰুৱা উদ্যোগক ...</td>\n",
       "      <td>ফটোসংগ্ৰহীতসস্তীয়া আমদানিৰ পৰা ঘৰুৱা উদ্যোগক ...</td>\n",
       "    </tr>\n",
       "    <tr>\n",
       "      <th>2</th>\n",
       "      <td>3</td>\n",
       "      <td>গ্ৰেপ্তাৰ হল ইমৰান খানদুৰ্নীতিৰ গোচৰত তিনিবছৰৰ...</td>\n",
       "      <td>বিপদে লগ নেৰা হৈছে পাকিস্তানৰ প্ৰাক্তন প্ৰধানম...</td>\n",
       "      <td>বিপদে লগ নেৰা হৈছে পাকিস্তানৰ প্ৰাক্তন প্ৰধানম...</td>\n",
       "    </tr>\n",
       "    <tr>\n",
       "      <th>3</th>\n",
       "      <td>4</td>\n",
       "      <td>এইবাৰ পাকিস্তানৰ যুৱকৰ সৈতে বিয়াত বহিল দুই সন...</td>\n",
       "      <td>শচীনসীমা বিবাহ কাণ্ডই বিগত কিছুদিন ধৰি দুই চুব...</td>\n",
       "      <td>শচীনসীমা বিবাহ কাণ্ডই বিগত কিছুদিন ধৰি দুই চুব...</td>\n",
       "    </tr>\n",
       "    <tr>\n",
       "      <th>4</th>\n",
       "      <td>5</td>\n",
       "      <td>নিষেধাজ্ঞা নেওচি ভাৰতলৈ নেপালৰ বিলাহীঘোচ লৈ চা...</td>\n",
       "      <td>ভাৰতত আকাশলংঘী হৈছে বিলাহীৰ দামবিলাহীৰ এই অকল্...</td>\n",
       "      <td>ভাৰতত আকাশলংঘী হৈছে বিলাহীৰ দামবিলাহীৰ এই অকল্...</td>\n",
       "    </tr>\n",
       "  </tbody>\n",
       "</table>\n",
       "</div>"
      ],
      "text/plain": [
       "   S No.                                            summary  \\\n",
       "0      1      কাৰাবন্দীৰ পৰা গৃহবন্দী হৈ উভতিল আং ছান ছু কী   \n",
       "1      2  চীন কোৰিয়া ইণ্ডোনেছিয়াৰ পৰা আমদানি কৰা অপটিক...   \n",
       "2      3  গ্ৰেপ্তাৰ হল ইমৰান খানদুৰ্নীতিৰ গোচৰত তিনিবছৰৰ...   \n",
       "3      4  এইবাৰ পাকিস্তানৰ যুৱকৰ সৈতে বিয়াত বহিল দুই সন...   \n",
       "4      5  নিষেধাজ্ঞা নেওচি ভাৰতলৈ নেপালৰ বিলাহীঘোচ লৈ চা...   \n",
       "\n",
       "                                                text  \\\n",
       "0  আং ছান ছু কীফাইল ফটোসংগ্ৰহীতকাৰাগাৰৰ সূত্ৰই জন...   \n",
       "1  ফটোসংগ্ৰহীতসস্তীয়া আমদানিৰ পৰা ঘৰুৱা উদ্যোগক ...   \n",
       "2  বিপদে লগ নেৰা হৈছে পাকিস্তানৰ প্ৰাক্তন প্ৰধানম...   \n",
       "3  শচীনসীমা বিবাহ কাণ্ডই বিগত কিছুদিন ধৰি দুই চুব...   \n",
       "4  ভাৰতত আকাশলংঘী হৈছে বিলাহীৰ দামবিলাহীৰ এই অকল্...   \n",
       "\n",
       "                                             cleaned  \n",
       "0  আং ছান ছু কীফাইল ফটোসংগ্ৰহীতকাৰাগাৰৰ সূত্ৰই জন...  \n",
       "1  ফটোসংগ্ৰহীতসস্তীয়া আমদানিৰ পৰা ঘৰুৱা উদ্যোগক ...  \n",
       "2  বিপদে লগ নেৰা হৈছে পাকিস্তানৰ প্ৰাক্তন প্ৰধানম...  \n",
       "3  শচীনসীমা বিবাহ কাণ্ডই বিগত কিছুদিন ধৰি দুই চুব...  \n",
       "4  ভাৰতত আকাশলংঘী হৈছে বিলাহীৰ দামবিলাহীৰ এই অকল্...  "
      ]
     },
     "execution_count": 10,
     "metadata": {},
     "output_type": "execute_result"
    }
   ],
   "source": [
    "data.head()"
   ]
  },
  {
   "cell_type": "code",
   "execution_count": 11,
   "id": "c0490474-6270-4e1e-be27-13b020949b20",
   "metadata": {},
   "outputs": [
    {
     "data": {
      "text/plain": [
       "'লকডাউনৰ বিৰুদ্ধে চীনত আজিও অব্যাহত আছে প্ৰতিবাদপ্ৰতিবাদ নিৰ্মূল কৰিবলৈ চীনৰ চৰকাৰে বিশ্ববিদ্যালয়ৰ শিক্ষাৰ্থীসকলক ঘৰলৈ যাবলৈ নিৰ্দেশ দিছেইপিনে চীনৰ এনে পৰিস্থিতিৰ বাতৰি সংগ্ৰহ কৰিবলৈ যোৱা বিবিচিৰ এজন সাংবাদিকক আজি চীনা সেনাই অকথ্য নিৰ্যাতন চলাই গ্ৰেপ্তাৰ কৰাৰ ঘটনাই সমগ্ৰ বিশ্বতে প্ৰতিক্ৰিয়াৰ সৃষ্টি কৰিছেউল্লেখ্য কোভিড সংক্ৰমণৰ বাবেই চীনৰ বিভিন্ন প্ৰান্তত কঠোৰ লকডাউন ঘোষণা কৰা হৈছেমানুহ গৃহবন্দী হৈ থাকিবলগীয়া হোৱাত অতিষ্ঠ হৈ পৰিছেএনে পৰিস্থিতিত মানুহ উত্তেজিত হৈ পৰিছে আৰু চৰকাৰৰ বিৰুদ্ধে প্ৰতিবাদ কৰিবলৈ ৰাজপথলৈ ওলাই আহিছেচৰকাৰৰ কোভিড নীতিৰ বিৰুদ্ধে প্ৰতিবাদ কৰিবলৈ বেইজিং আৰু ছাংহাইত হাজাৰ হাজাৰ মাউহে ৰাজপথলৈ ওলাই আহিছেআজিও আন্দোলন চলিয়েই আছেআৰক্ষীপ্ৰশাসনে প্ৰতিবাদকাৰীৰ বিৰুদ্ধে কঠোৰ ব্যৱস্থা গ্ৰহণ কৰিছেঝি জিনপিং চৰকাৰে কৰোনা ভাইৰাছৰ বিৰুদ্ধে দি থকা যুঁজত কোভিডমুক্ত নীতি গ্ৰহণ কৰিছেসেয়ে গ্ৰহণ কৰা হৈছে অধিক কঠোৰ পদক্ষেপচৰকাৰৰ কঠোৰ কোভিড নিয়মৰ বিৰুদ্ধে জনতাৰ প্ৰতিবাদ সমগ্ৰ দেশতে বিয়পি পৰিছেচৰকাৰৰ বিৰুদ্ধে এনে স্বতঃস্ফূৰ্ত গণ আন্দোলন চীনত বিৰল বুলি কব পাৰিআনকি কোভিডৰ প্ৰথম সংক্ৰমণৰ সময়তো তেনে হোৱা নাছিল নৰ্থইষ্ট নাও এটা মাল্টিএপ ভিত্তিক সম্পূৰ্ণভাৱে আঞ্চলিক দ্বিভাষিক নিউজ প্টেলপেচাদাৰী ব্যক্তিৰ এটা গোটৰ নেতৃত্বত এই ডিজিটেল অসমীয়া বাতৰি প্ৰতিষ্ঠানটোৱে উত্তৰপূবৰ আঠখন ৰাজ্য আৰু এইবোৰৰ প্ৰতিৱেশী দেশকেইখনৰ প্ৰতিটো খাখবৰ সামৰি লোৱাৰ চেষ্টা কৰিবদুটাকৈ ইংৰাজী এপ আৰু এটা অসমীয়া এপৰ সংস্কৰণ থকা এইটোৱে হল এই ধৰণৰ প্ৰথমটো নিউজ প্টেলআমি ৰাজনৈতিকভাৱে নিৰপেক্ষ আৰু দক্ষিণপূব আৰু দক্ষিণ এছিয়াৰ মাজৰ প্ৰকৃত বাবাতৰিৰ সাঁকোৰ ভূমিকা লবলৈ চেষ্টা কৰিম'"
      ]
     },
     "execution_count": 11,
     "metadata": {},
     "output_type": "execute_result"
    }
   ],
   "source": [
    "data['cleaned'][99]"
   ]
  },
  {
   "cell_type": "code",
   "execution_count": 12,
   "id": "e3f9ba3a-5041-436e-ab4b-a719625e4fa1",
   "metadata": {},
   "outputs": [
    {
     "name": "stdout",
     "output_type": "stream",
     "text": [
      "0 আং ছান ছু কীফাইল ফটোসংগ্ৰহীতকাৰাগাৰৰ সূত্ৰই জনোৱা মতে সোমবাৰে কাৰাগাৰৰ পৰা ৰাজধানী নেইপিড চৰকাৰী বাসগৃহলৈ স্থানান্তৰ কৰা হয় ছ্যু কীকলগতে পঢ়কআই এন এছ বিক্ৰান্তত যুৱ নৌসেনা জোৱানৰ মৃতদেহ উদ্ধাৰ ৰহস্যময় মৃত্যুক লৈ চাঞ্চল্য কাৰাগাৰৰ পৰা বদলি হোৱাৰ কথা আনুষ্ঠানিকভাৱে নিশ্চিত কৰা হোৱা নাইঅৱশ্যে গৃহবন্দী কৰাৰ বিষয়টো সামৰিক কৰ্তৃপক্ষৰ এক ইতিবাচক পদক্ষেপো হব পাৰেছ্যু কীক অসুস্থ বুলি বাতৰি প্ৰচাৰ হৈছিলঅৱশ্যে সেনাই এই কথা অস্বীকাৰ কৰিছেচলিত সপ্তাহৰ আৰম্ভণিতে কাৰাগাৰৰ সূত্ৰই প্ৰকাশ কৰা অনুসৰি ছু কীৰ স্বাস্থ্য ভালেই আছেলগতে পঢ়কমাজভাগতে শিক্ষা এৰিছে কেন্দ্ৰীয় বিশ্ববিদ্যালয়ৰ ২৫ হাজাৰ ৫৯৩ জন ছাত্ৰছাত্ৰীয়ে থাইলেণ্ডৰ বৈদেশিক মন্ত্ৰীয়ে চলিত মাহত কাৰাগাৰত থকা ছু কীৰ ওচৰলৈ গৈছিলঅৱশ্যে তেওঁ আৰু কোনো সবিশেষ তথ্য প্ৰকাশ কৰা নাই নৰ্থইষ্ট নাও এটা মাল্টিএপ ভিত্তিক সম্পূৰ্ণভাৱে আঞ্চলিক দ্বিভাষিক নিউজ প্টেলপেচাদাৰী ব্যক্তিৰ এটা গোটৰ নেতৃত্বত এই ডিজিটেল অসমীয়া বাতৰি প্ৰতিষ্ঠানটোৱে উত্তৰপূবৰ আঠখন ৰাজ্য আৰু এইবোৰৰ প্ৰতিৱেশী দেশকেইখনৰ প্ৰতিটো খাখবৰ সামৰি লোৱাৰ চেষ্টা কৰিবদুটাকৈ ইংৰাজী এপ আৰু এটা অসমীয়া এপৰ সংস্কৰণ থকা এইটোৱে হল এই ধৰণৰ প্ৰথমটো নিউজ প্টেলআমি ৰাজনৈতিকভাৱে নিৰপেক্ষ আৰু দক্ষিণপূব আৰু দক্ষিণ এছিয়াৰ মাজৰ প্ৰকৃত বাবাতৰিৰ সাঁকোৰ ভূমিকা লবলৈ চেষ্টা কৰিম\n"
     ]
    },
    {
     "name": "stderr",
     "output_type": "stream",
     "text": [
      "/tmp/ipykernel_6949/900385898.py:2: FutureWarning: Series.__getitem__ treating keys as positions is deprecated. In a future version, integer keys will always be treated as labels (consistent with DataFrame behavior). To access a value by position, use `ser.iloc[pos]`\n",
      "  print(i[0], i[1][2])\n"
     ]
    }
   ],
   "source": [
    "for i in data.head(1).iterrows():\n",
    "    print(i[0], i[1][2])"
   ]
  },
  {
   "cell_type": "code",
   "execution_count": 13,
   "id": "d6f10c23-0155-48ff-ba2c-c01f23c67d66",
   "metadata": {},
   "outputs": [],
   "source": [
    "w = data[['cleaned']]"
   ]
  },
  {
   "cell_type": "code",
   "execution_count": 14,
   "id": "88e138fa-eed8-4727-8434-51dcc8c76f23",
   "metadata": {},
   "outputs": [
    {
     "data": {
      "text/html": [
       "<div>\n",
       "<style scoped>\n",
       "    .dataframe tbody tr th:only-of-type {\n",
       "        vertical-align: middle;\n",
       "    }\n",
       "\n",
       "    .dataframe tbody tr th {\n",
       "        vertical-align: top;\n",
       "    }\n",
       "\n",
       "    .dataframe thead th {\n",
       "        text-align: right;\n",
       "    }\n",
       "</style>\n",
       "<table border=\"1\" class=\"dataframe\">\n",
       "  <thead>\n",
       "    <tr style=\"text-align: right;\">\n",
       "      <th></th>\n",
       "      <th>cleaned</th>\n",
       "    </tr>\n",
       "  </thead>\n",
       "  <tbody>\n",
       "    <tr>\n",
       "      <th>0</th>\n",
       "      <td>আং ছান ছু কীফাইল ফটোসংগ্ৰহীতকাৰাগাৰৰ সূত্ৰই জন...</td>\n",
       "    </tr>\n",
       "    <tr>\n",
       "      <th>1</th>\n",
       "      <td>ফটোসংগ্ৰহীতসস্তীয়া আমদানিৰ পৰা ঘৰুৱা উদ্যোগক ...</td>\n",
       "    </tr>\n",
       "    <tr>\n",
       "      <th>2</th>\n",
       "      <td>বিপদে লগ নেৰা হৈছে পাকিস্তানৰ প্ৰাক্তন প্ৰধানম...</td>\n",
       "    </tr>\n",
       "    <tr>\n",
       "      <th>3</th>\n",
       "      <td>শচীনসীমা বিবাহ কাণ্ডই বিগত কিছুদিন ধৰি দুই চুব...</td>\n",
       "    </tr>\n",
       "    <tr>\n",
       "      <th>4</th>\n",
       "      <td>ভাৰতত আকাশলংঘী হৈছে বিলাহীৰ দামবিলাহীৰ এই অকল্...</td>\n",
       "    </tr>\n",
       "  </tbody>\n",
       "</table>\n",
       "</div>"
      ],
      "text/plain": [
       "                                             cleaned\n",
       "0  আং ছান ছু কীফাইল ফটোসংগ্ৰহীতকাৰাগাৰৰ সূত্ৰই জন...\n",
       "1  ফটোসংগ্ৰহীতসস্তীয়া আমদানিৰ পৰা ঘৰুৱা উদ্যোগক ...\n",
       "2  বিপদে লগ নেৰা হৈছে পাকিস্তানৰ প্ৰাক্তন প্ৰধানম...\n",
       "3  শচীনসীমা বিবাহ কাণ্ডই বিগত কিছুদিন ধৰি দুই চুব...\n",
       "4  ভাৰতত আকাশলংঘী হৈছে বিলাহীৰ দামবিলাহীৰ এই অকল্..."
      ]
     },
     "execution_count": 14,
     "metadata": {},
     "output_type": "execute_result"
    }
   ],
   "source": [
    "w.head()"
   ]
  },
  {
   "cell_type": "code",
   "execution_count": 15,
   "id": "05950b26-8989-4ccb-95a7-7ac62cbaf2c6",
   "metadata": {},
   "outputs": [],
   "source": [
    "data = pd.read_csv(\"datasets/Assamese/news18_preprocessed.csv\")"
   ]
  },
  {
   "cell_type": "code",
   "execution_count": 16,
   "id": "adc426d8-379f-426b-9b73-e38654caa66c",
   "metadata": {},
   "outputs": [
    {
     "data": {
      "text/html": [
       "<div>\n",
       "<style scoped>\n",
       "    .dataframe tbody tr th:only-of-type {\n",
       "        vertical-align: middle;\n",
       "    }\n",
       "\n",
       "    .dataframe tbody tr th {\n",
       "        vertical-align: top;\n",
       "    }\n",
       "\n",
       "    .dataframe thead th {\n",
       "        text-align: right;\n",
       "    }\n",
       "</style>\n",
       "<table border=\"1\" class=\"dataframe\">\n",
       "  <thead>\n",
       "    <tr style=\"text-align: right;\">\n",
       "      <th></th>\n",
       "      <th>S No.</th>\n",
       "      <th>summary</th>\n",
       "      <th>text</th>\n",
       "    </tr>\n",
       "  </thead>\n",
       "  <tbody>\n",
       "    <tr>\n",
       "      <th>0</th>\n",
       "      <td>1</td>\n",
       "      <td>জিলা আয়ুক্তৰ বাসভৱনৰ কাষতে মহিলাৰ পৰা থপিয়াই...</td>\n",
       "      <td>নিৰাপত্তাহীনতাত ভুগিছে যোৰহাট নগৰবাসীয়েযোৰহাট...</td>\n",
       "    </tr>\n",
       "    <tr>\n",
       "      <th>1</th>\n",
       "      <td>2</td>\n",
       "      <td>পুনৰ জালুকবাৰীৰ নতুন শৰাইঘাট দলঙত অঘটন</td>\n",
       "      <td>পুনৰ জালুকবাৰীৰ নতুন শৰাইঘাট দলঙত অঘটনদলঙৰ মাজ...</td>\n",
       "    </tr>\n",
       "    <tr>\n",
       "      <th>2</th>\n",
       "      <td>3</td>\n",
       "      <td>দিহানামেৰে বিশ্ব অভিলেখৰ প্ৰস্তুতি কিন্তু আৰম্...</td>\n",
       "      <td>বাপতিসাহোন বিহুৰ পিছত এইবাৰ দিহানাম পৰিৱেশনেৰে...</td>\n",
       "    </tr>\n",
       "    <tr>\n",
       "      <th>3</th>\n",
       "      <td>4</td>\n",
       "      <td>আন্তঃৰাষ্ট্ৰীয় গণিত অলিম্পিয়াডত ছয়টা বিষয়ত...</td>\n",
       "      <td>নতুন দিল্লীৰ চিলভাৰ জন অলিম্পিয়াডৰ উদ্যোগত অন...</td>\n",
       "    </tr>\n",
       "    <tr>\n",
       "      <th>4</th>\n",
       "      <td>5</td>\n",
       "      <td>দিল্লীতে কিয় কেবিনেট ছিংগাপুৰলণ্ডনম্যানমাৰতো প...</td>\n",
       "      <td>বুধবাৰে সন্ধিয়া পাঁচ বজাত নতুন দিল্লীত অনুষ্ঠি...</td>\n",
       "    </tr>\n",
       "  </tbody>\n",
       "</table>\n",
       "</div>"
      ],
      "text/plain": [
       "   S No.                                            summary  \\\n",
       "0      1  জিলা আয়ুক্তৰ বাসভৱনৰ কাষতে মহিলাৰ পৰা থপিয়াই...   \n",
       "1      2             পুনৰ জালুকবাৰীৰ নতুন শৰাইঘাট দলঙত অঘটন   \n",
       "2      3  দিহানামেৰে বিশ্ব অভিলেখৰ প্ৰস্তুতি কিন্তু আৰম্...   \n",
       "3      4  আন্তঃৰাষ্ট্ৰীয় গণিত অলিম্পিয়াডত ছয়টা বিষয়ত...   \n",
       "4      5  দিল্লীতে কিয় কেবিনেট ছিংগাপুৰলণ্ডনম্যানমাৰতো প...   \n",
       "\n",
       "                                                text  \n",
       "0  নিৰাপত্তাহীনতাত ভুগিছে যোৰহাট নগৰবাসীয়েযোৰহাট...  \n",
       "1  পুনৰ জালুকবাৰীৰ নতুন শৰাইঘাট দলঙত অঘটনদলঙৰ মাজ...  \n",
       "2  বাপতিসাহোন বিহুৰ পিছত এইবাৰ দিহানাম পৰিৱেশনেৰে...  \n",
       "3  নতুন দিল্লীৰ চিলভাৰ জন অলিম্পিয়াডৰ উদ্যোগত অন...  \n",
       "4  বুধবাৰে সন্ধিয়া পাঁচ বজাত নতুন দিল্লীত অনুষ্ঠি...  "
      ]
     },
     "execution_count": 16,
     "metadata": {},
     "output_type": "execute_result"
    }
   ],
   "source": [
    "data.head()"
   ]
  },
  {
   "cell_type": "code",
   "execution_count": 17,
   "id": "82a7928b-c4b5-4bdb-86c3-5220832bd192",
   "metadata": {},
   "outputs": [],
   "source": [
    "data['cleaned'] = data['text'].apply(extract_assamese_text)"
   ]
  },
  {
   "cell_type": "code",
   "execution_count": 18,
   "id": "8521cb01-62b9-456e-8eef-81b850c52ae2",
   "metadata": {},
   "outputs": [
    {
     "data": {
      "text/html": [
       "<div>\n",
       "<style scoped>\n",
       "    .dataframe tbody tr th:only-of-type {\n",
       "        vertical-align: middle;\n",
       "    }\n",
       "\n",
       "    .dataframe tbody tr th {\n",
       "        vertical-align: top;\n",
       "    }\n",
       "\n",
       "    .dataframe thead th {\n",
       "        text-align: right;\n",
       "    }\n",
       "</style>\n",
       "<table border=\"1\" class=\"dataframe\">\n",
       "  <thead>\n",
       "    <tr style=\"text-align: right;\">\n",
       "      <th></th>\n",
       "      <th>S No.</th>\n",
       "      <th>summary</th>\n",
       "      <th>text</th>\n",
       "      <th>cleaned</th>\n",
       "    </tr>\n",
       "  </thead>\n",
       "  <tbody>\n",
       "    <tr>\n",
       "      <th>0</th>\n",
       "      <td>1</td>\n",
       "      <td>জিলা আয়ুক্তৰ বাসভৱনৰ কাষতে মহিলাৰ পৰা থপিয়াই...</td>\n",
       "      <td>নিৰাপত্তাহীনতাত ভুগিছে যোৰহাট নগৰবাসীয়েযোৰহাট...</td>\n",
       "      <td>নিৰাপত্তাহীনতাত ভুগিছে যোৰহাট নগৰবাসীয়েযোৰহাট...</td>\n",
       "    </tr>\n",
       "    <tr>\n",
       "      <th>1</th>\n",
       "      <td>2</td>\n",
       "      <td>পুনৰ জালুকবাৰীৰ নতুন শৰাইঘাট দলঙত অঘটন</td>\n",
       "      <td>পুনৰ জালুকবাৰীৰ নতুন শৰাইঘাট দলঙত অঘটনদলঙৰ মাজ...</td>\n",
       "      <td>পুনৰ জালুকবাৰীৰ নতুন শৰাইঘাট দলঙত অঘটনদলঙৰ মাজ...</td>\n",
       "    </tr>\n",
       "    <tr>\n",
       "      <th>2</th>\n",
       "      <td>3</td>\n",
       "      <td>দিহানামেৰে বিশ্ব অভিলেখৰ প্ৰস্তুতি কিন্তু আৰম্...</td>\n",
       "      <td>বাপতিসাহোন বিহুৰ পিছত এইবাৰ দিহানাম পৰিৱেশনেৰে...</td>\n",
       "      <td>বাপতিসাহোন বিহুৰ পিছত এইবাৰ দিহানাম পৰিৱেশনেৰে...</td>\n",
       "    </tr>\n",
       "    <tr>\n",
       "      <th>3</th>\n",
       "      <td>4</td>\n",
       "      <td>আন্তঃৰাষ্ট্ৰীয় গণিত অলিম্পিয়াডত ছয়টা বিষয়ত...</td>\n",
       "      <td>নতুন দিল্লীৰ চিলভাৰ জন অলিম্পিয়াডৰ উদ্যোগত অন...</td>\n",
       "      <td>নতুন দিল্লীৰ চিলভাৰ জন অলিম্পিয়াডৰ উদ্যোগত অন...</td>\n",
       "    </tr>\n",
       "    <tr>\n",
       "      <th>4</th>\n",
       "      <td>5</td>\n",
       "      <td>দিল্লীতে কিয় কেবিনেট ছিংগাপুৰলণ্ডনম্যানমাৰতো প...</td>\n",
       "      <td>বুধবাৰে সন্ধিয়া পাঁচ বজাত নতুন দিল্লীত অনুষ্ঠি...</td>\n",
       "      <td>বুধবাৰে সন্ধিয়া পাঁচ বজাত নতুন দিল্লীত অনুষ্ঠি...</td>\n",
       "    </tr>\n",
       "  </tbody>\n",
       "</table>\n",
       "</div>"
      ],
      "text/plain": [
       "   S No.                                            summary  \\\n",
       "0      1  জিলা আয়ুক্তৰ বাসভৱনৰ কাষতে মহিলাৰ পৰা থপিয়াই...   \n",
       "1      2             পুনৰ জালুকবাৰীৰ নতুন শৰাইঘাট দলঙত অঘটন   \n",
       "2      3  দিহানামেৰে বিশ্ব অভিলেখৰ প্ৰস্তুতি কিন্তু আৰম্...   \n",
       "3      4  আন্তঃৰাষ্ট্ৰীয় গণিত অলিম্পিয়াডত ছয়টা বিষয়ত...   \n",
       "4      5  দিল্লীতে কিয় কেবিনেট ছিংগাপুৰলণ্ডনম্যানমাৰতো প...   \n",
       "\n",
       "                                                text  \\\n",
       "0  নিৰাপত্তাহীনতাত ভুগিছে যোৰহাট নগৰবাসীয়েযোৰহাট...   \n",
       "1  পুনৰ জালুকবাৰীৰ নতুন শৰাইঘাট দলঙত অঘটনদলঙৰ মাজ...   \n",
       "2  বাপতিসাহোন বিহুৰ পিছত এইবাৰ দিহানাম পৰিৱেশনেৰে...   \n",
       "3  নতুন দিল্লীৰ চিলভাৰ জন অলিম্পিয়াডৰ উদ্যোগত অন...   \n",
       "4  বুধবাৰে সন্ধিয়া পাঁচ বজাত নতুন দিল্লীত অনুষ্ঠি...   \n",
       "\n",
       "                                             cleaned  \n",
       "0  নিৰাপত্তাহীনতাত ভুগিছে যোৰহাট নগৰবাসীয়েযোৰহাট...  \n",
       "1  পুনৰ জালুকবাৰীৰ নতুন শৰাইঘাট দলঙত অঘটনদলঙৰ মাজ...  \n",
       "2  বাপতিসাহোন বিহুৰ পিছত এইবাৰ দিহানাম পৰিৱেশনেৰে...  \n",
       "3  নতুন দিল্লীৰ চিলভাৰ জন অলিম্পিয়াডৰ উদ্যোগত অন...  \n",
       "4  বুধবাৰে সন্ধিয়া পাঁচ বজাত নতুন দিল্লীত অনুষ্ঠি...  "
      ]
     },
     "execution_count": 18,
     "metadata": {},
     "output_type": "execute_result"
    }
   ],
   "source": [
    "data.head()"
   ]
  },
  {
   "cell_type": "code",
   "execution_count": 19,
   "id": "b37576f3-483b-4691-8349-de7602d5ac7e",
   "metadata": {},
   "outputs": [],
   "source": [
    "s = data[['cleaned']]"
   ]
  },
  {
   "cell_type": "code",
   "execution_count": 20,
   "id": "075b1e50-e6d9-4598-984e-2904490de906",
   "metadata": {},
   "outputs": [
    {
     "data": {
      "text/html": [
       "<div>\n",
       "<style scoped>\n",
       "    .dataframe tbody tr th:only-of-type {\n",
       "        vertical-align: middle;\n",
       "    }\n",
       "\n",
       "    .dataframe tbody tr th {\n",
       "        vertical-align: top;\n",
       "    }\n",
       "\n",
       "    .dataframe thead th {\n",
       "        text-align: right;\n",
       "    }\n",
       "</style>\n",
       "<table border=\"1\" class=\"dataframe\">\n",
       "  <thead>\n",
       "    <tr style=\"text-align: right;\">\n",
       "      <th></th>\n",
       "      <th>cleaned</th>\n",
       "    </tr>\n",
       "  </thead>\n",
       "  <tbody>\n",
       "    <tr>\n",
       "      <th>0</th>\n",
       "      <td>নিৰাপত্তাহীনতাত ভুগিছে যোৰহাট নগৰবাসীয়েযোৰহাট...</td>\n",
       "    </tr>\n",
       "    <tr>\n",
       "      <th>1</th>\n",
       "      <td>পুনৰ জালুকবাৰীৰ নতুন শৰাইঘাট দলঙত অঘটনদলঙৰ মাজ...</td>\n",
       "    </tr>\n",
       "    <tr>\n",
       "      <th>2</th>\n",
       "      <td>বাপতিসাহোন বিহুৰ পিছত এইবাৰ দিহানাম পৰিৱেশনেৰে...</td>\n",
       "    </tr>\n",
       "    <tr>\n",
       "      <th>3</th>\n",
       "      <td>নতুন দিল্লীৰ চিলভাৰ জন অলিম্পিয়াডৰ উদ্যোগত অন...</td>\n",
       "    </tr>\n",
       "    <tr>\n",
       "      <th>4</th>\n",
       "      <td>বুধবাৰে সন্ধিয়া পাঁচ বজাত নতুন দিল্লীত অনুষ্ঠি...</td>\n",
       "    </tr>\n",
       "  </tbody>\n",
       "</table>\n",
       "</div>"
      ],
      "text/plain": [
       "                                             cleaned\n",
       "0  নিৰাপত্তাহীনতাত ভুগিছে যোৰহাট নগৰবাসীয়েযোৰহাট...\n",
       "1  পুনৰ জালুকবাৰীৰ নতুন শৰাইঘাট দলঙত অঘটনদলঙৰ মাজ...\n",
       "2  বাপতিসাহোন বিহুৰ পিছত এইবাৰ দিহানাম পৰিৱেশনেৰে...\n",
       "3  নতুন দিল্লীৰ চিলভাৰ জন অলিম্পিয়াডৰ উদ্যোগত অন...\n",
       "4  বুধবাৰে সন্ধিয়া পাঁচ বজাত নতুন দিল্লীত অনুষ্ঠি..."
      ]
     },
     "execution_count": 20,
     "metadata": {},
     "output_type": "execute_result"
    }
   ],
   "source": [
    "s.head()"
   ]
  },
  {
   "cell_type": "code",
   "execution_count": 21,
   "id": "ba4b8e4f-d039-4af4-a4b7-251266cb5093",
   "metadata": {},
   "outputs": [],
   "source": [
    "final = pd.concat([w, s])"
   ]
  },
  {
   "cell_type": "code",
   "execution_count": 22,
   "id": "74888aea-d5ff-468a-8db1-bd88182cd92c",
   "metadata": {},
   "outputs": [
    {
     "data": {
      "text/html": [
       "<div>\n",
       "<style scoped>\n",
       "    .dataframe tbody tr th:only-of-type {\n",
       "        vertical-align: middle;\n",
       "    }\n",
       "\n",
       "    .dataframe tbody tr th {\n",
       "        vertical-align: top;\n",
       "    }\n",
       "\n",
       "    .dataframe thead th {\n",
       "        text-align: right;\n",
       "    }\n",
       "</style>\n",
       "<table border=\"1\" class=\"dataframe\">\n",
       "  <thead>\n",
       "    <tr style=\"text-align: right;\">\n",
       "      <th></th>\n",
       "      <th>cleaned</th>\n",
       "    </tr>\n",
       "  </thead>\n",
       "  <tbody>\n",
       "    <tr>\n",
       "      <th>0</th>\n",
       "      <td>আং ছান ছু কীফাইল ফটোসংগ্ৰহীতকাৰাগাৰৰ সূত্ৰই জন...</td>\n",
       "    </tr>\n",
       "    <tr>\n",
       "      <th>1</th>\n",
       "      <td>ফটোসংগ্ৰহীতসস্তীয়া আমদানিৰ পৰা ঘৰুৱা উদ্যোগক ...</td>\n",
       "    </tr>\n",
       "    <tr>\n",
       "      <th>2</th>\n",
       "      <td>বিপদে লগ নেৰা হৈছে পাকিস্তানৰ প্ৰাক্তন প্ৰধানম...</td>\n",
       "    </tr>\n",
       "    <tr>\n",
       "      <th>3</th>\n",
       "      <td>শচীনসীমা বিবাহ কাণ্ডই বিগত কিছুদিন ধৰি দুই চুব...</td>\n",
       "    </tr>\n",
       "    <tr>\n",
       "      <th>4</th>\n",
       "      <td>ভাৰতত আকাশলংঘী হৈছে বিলাহীৰ দামবিলাহীৰ এই অকল্...</td>\n",
       "    </tr>\n",
       "  </tbody>\n",
       "</table>\n",
       "</div>"
      ],
      "text/plain": [
       "                                             cleaned\n",
       "0  আং ছান ছু কীফাইল ফটোসংগ্ৰহীতকাৰাগাৰৰ সূত্ৰই জন...\n",
       "1  ফটোসংগ্ৰহীতসস্তীয়া আমদানিৰ পৰা ঘৰুৱা উদ্যোগক ...\n",
       "2  বিপদে লগ নেৰা হৈছে পাকিস্তানৰ প্ৰাক্তন প্ৰধানম...\n",
       "3  শচীনসীমা বিবাহ কাণ্ডই বিগত কিছুদিন ধৰি দুই চুব...\n",
       "4  ভাৰতত আকাশলংঘী হৈছে বিলাহীৰ দামবিলাহীৰ এই অকল্..."
      ]
     },
     "execution_count": 22,
     "metadata": {},
     "output_type": "execute_result"
    }
   ],
   "source": [
    "final.head()"
   ]
  },
  {
   "cell_type": "code",
   "execution_count": 23,
   "id": "cd344694-56d3-41c8-83ef-f604d4d925c3",
   "metadata": {},
   "outputs": [],
   "source": [
    "final.to_csv('final/Assamese.csv', index=False, encoding='utf-8')"
   ]
  },
  {
   "cell_type": "code",
   "execution_count": null,
   "id": "8609658a-2c18-4832-86a6-77c76070cf91",
   "metadata": {},
   "outputs": [],
   "source": []
  },
  {
   "cell_type": "markdown",
   "id": "1aebba00-0b8a-489b-b96c-093bfc92273f",
   "metadata": {},
   "source": [
    "## Bengali"
   ]
  },
  {
   "cell_type": "code",
   "execution_count": 24,
   "id": "da8ef439-782c-4d35-bfe9-d177d75968e3",
   "metadata": {},
   "outputs": [],
   "source": [
    "with open('datasets/Bengali/prothom-alo_punctuation_balanced.txt') as f:\n",
    "    lines = f.readlines()"
   ]
  },
  {
   "cell_type": "code",
   "execution_count": 25,
   "id": "2d177034-8972-4c0a-813c-8990be6d7dda",
   "metadata": {},
   "outputs": [],
   "source": [
    "data = pd.DataFrame(lines, columns=['text'])"
   ]
  },
  {
   "cell_type": "code",
   "execution_count": 26,
   "id": "62f75183-facd-49b5-bcdc-765a3a6b6d5f",
   "metadata": {},
   "outputs": [
    {
     "data": {
      "text/html": [
       "<div>\n",
       "<style scoped>\n",
       "    .dataframe tbody tr th:only-of-type {\n",
       "        vertical-align: middle;\n",
       "    }\n",
       "\n",
       "    .dataframe tbody tr th {\n",
       "        vertical-align: top;\n",
       "    }\n",
       "\n",
       "    .dataframe thead th {\n",
       "        text-align: right;\n",
       "    }\n",
       "</style>\n",
       "<table border=\"1\" class=\"dataframe\">\n",
       "  <thead>\n",
       "    <tr style=\"text-align: right;\">\n",
       "      <th></th>\n",
       "      <th>text</th>\n",
       "    </tr>\n",
       "  </thead>\n",
       "  <tbody>\n",
       "    <tr>\n",
       "      <th>0</th>\n",
       "      <td>এই মুহূর্তে এই ধ্বনিতেই উচ্চকিত ফুটবল বিশ্ব। এ...</td>\n",
       "    </tr>\n",
       "    <tr>\n",
       "      <th>1</th>\n",
       "      <td>তিনি বলেন, ‘যারা সেনাবাহিনীর বিরুদ্ধে অপপ্রচার...</td>\n",
       "    </tr>\n",
       "    <tr>\n",
       "      <th>2</th>\n",
       "      <td>প্রায় ৪৫ গজ দূর থেকে নেওয়া শটে করেছেন লক্ষ্য...</td>\n",
       "    </tr>\n",
       "    <tr>\n",
       "      <th>3</th>\n",
       "      <td>রূপকথার গল্প তো মানুষ এমনিতেই বেশি পছন্দ করে! ...</td>\n",
       "    </tr>\n",
       "    <tr>\n",
       "      <th>4</th>\n",
       "      <td>তাহলে প্রকাশিত হওয়ার পর ওই নিবন্ধনের সমর্থনে ...</td>\n",
       "    </tr>\n",
       "  </tbody>\n",
       "</table>\n",
       "</div>"
      ],
      "text/plain": [
       "                                                text\n",
       "0  এই মুহূর্তে এই ধ্বনিতেই উচ্চকিত ফুটবল বিশ্ব। এ...\n",
       "1  তিনি বলেন, ‘যারা সেনাবাহিনীর বিরুদ্ধে অপপ্রচার...\n",
       "2  প্রায় ৪৫ গজ দূর থেকে নেওয়া শটে করেছেন লক্ষ্য...\n",
       "3  রূপকথার গল্প তো মানুষ এমনিতেই বেশি পছন্দ করে! ...\n",
       "4  তাহলে প্রকাশিত হওয়ার পর ওই নিবন্ধনের সমর্থনে ..."
      ]
     },
     "execution_count": 26,
     "metadata": {},
     "output_type": "execute_result"
    }
   ],
   "source": [
    "data.head()"
   ]
  },
  {
   "cell_type": "code",
   "execution_count": 27,
   "id": "d319ee3f-4e21-4878-9935-39e59d1ca5cb",
   "metadata": {},
   "outputs": [],
   "source": [
    "def extract_bengali_text(text):\n",
    "    # Regular expression pattern to match Bengali characters\n",
    "    bengali_pattern = re.compile(r'[\\u0980-\\u09FF\\s]+')\n",
    "    # Find all matches of Bengali text in the input text\n",
    "    bengali_matches = bengali_pattern.findall(text)\n",
    "    # Filter out empty strings\n",
    "    bengali_matches = [match.strip() for match in bengali_matches if match.strip()]\n",
    "    # Join the matches to form the extracted Bengali text\n",
    "    bengali_text = ' '.join(bengali_matches)\n",
    "    return bengali_text"
   ]
  },
  {
   "cell_type": "code",
   "execution_count": 28,
   "id": "3f69a12e-0a20-4c90-a541-b76492aae79c",
   "metadata": {},
   "outputs": [],
   "source": [
    "data['cleaned'] = data['text'].apply(extract_bengali_text)"
   ]
  },
  {
   "cell_type": "code",
   "execution_count": 29,
   "id": "c76e047c-33ea-4a1f-b4d9-182770396c52",
   "metadata": {},
   "outputs": [
    {
     "data": {
      "text/html": [
       "<div>\n",
       "<style scoped>\n",
       "    .dataframe tbody tr th:only-of-type {\n",
       "        vertical-align: middle;\n",
       "    }\n",
       "\n",
       "    .dataframe tbody tr th {\n",
       "        vertical-align: top;\n",
       "    }\n",
       "\n",
       "    .dataframe thead th {\n",
       "        text-align: right;\n",
       "    }\n",
       "</style>\n",
       "<table border=\"1\" class=\"dataframe\">\n",
       "  <thead>\n",
       "    <tr style=\"text-align: right;\">\n",
       "      <th></th>\n",
       "      <th>text</th>\n",
       "      <th>cleaned</th>\n",
       "    </tr>\n",
       "  </thead>\n",
       "  <tbody>\n",
       "    <tr>\n",
       "      <th>0</th>\n",
       "      <td>এই মুহূর্তে এই ধ্বনিতেই উচ্চকিত ফুটবল বিশ্ব। এ...</td>\n",
       "      <td>এই মুহূর্তে এই ধ্বনিতেই উচ্চকিত ফুটবল বিশ্ব এক...</td>\n",
       "    </tr>\n",
       "    <tr>\n",
       "      <th>1</th>\n",
       "      <td>তিনি বলেন, ‘যারা সেনাবাহিনীর বিরুদ্ধে অপপ্রচার...</td>\n",
       "      <td>তিনি বলেন যারা সেনাবাহিনীর বিরুদ্ধে অপপ্রচার চ...</td>\n",
       "    </tr>\n",
       "    <tr>\n",
       "      <th>2</th>\n",
       "      <td>প্রায় ৪৫ গজ দূর থেকে নেওয়া শটে করেছেন লক্ষ্য...</td>\n",
       "      <td>প্রায় ৪৫ গজ দূর থেকে নেওয়া শটে করেছেন লক্ষ্য...</td>\n",
       "    </tr>\n",
       "    <tr>\n",
       "      <th>3</th>\n",
       "      <td>রূপকথার গল্প তো মানুষ এমনিতেই বেশি পছন্দ করে! ...</td>\n",
       "      <td>রূপকথার গল্প তো মানুষ এমনিতেই বেশি পছন্দ করে স...</td>\n",
       "    </tr>\n",
       "    <tr>\n",
       "      <th>4</th>\n",
       "      <td>তাহলে প্রকাশিত হওয়ার পর ওই নিবন্ধনের সমর্থনে ...</td>\n",
       "      <td>তাহলে প্রকাশিত হওয়ার পর ওই নিবন্ধনের সমর্থনে ...</td>\n",
       "    </tr>\n",
       "  </tbody>\n",
       "</table>\n",
       "</div>"
      ],
      "text/plain": [
       "                                                text  \\\n",
       "0  এই মুহূর্তে এই ধ্বনিতেই উচ্চকিত ফুটবল বিশ্ব। এ...   \n",
       "1  তিনি বলেন, ‘যারা সেনাবাহিনীর বিরুদ্ধে অপপ্রচার...   \n",
       "2  প্রায় ৪৫ গজ দূর থেকে নেওয়া শটে করেছেন লক্ষ্য...   \n",
       "3  রূপকথার গল্প তো মানুষ এমনিতেই বেশি পছন্দ করে! ...   \n",
       "4  তাহলে প্রকাশিত হওয়ার পর ওই নিবন্ধনের সমর্থনে ...   \n",
       "\n",
       "                                             cleaned  \n",
       "0  এই মুহূর্তে এই ধ্বনিতেই উচ্চকিত ফুটবল বিশ্ব এক...  \n",
       "1  তিনি বলেন যারা সেনাবাহিনীর বিরুদ্ধে অপপ্রচার চ...  \n",
       "2  প্রায় ৪৫ গজ দূর থেকে নেওয়া শটে করেছেন লক্ষ্য...  \n",
       "3  রূপকথার গল্প তো মানুষ এমনিতেই বেশি পছন্দ করে স...  \n",
       "4  তাহলে প্রকাশিত হওয়ার পর ওই নিবন্ধনের সমর্থনে ...  "
      ]
     },
     "execution_count": 29,
     "metadata": {},
     "output_type": "execute_result"
    }
   ],
   "source": [
    "data.head()"
   ]
  },
  {
   "cell_type": "code",
   "execution_count": 30,
   "id": "70027fb5-191b-4402-992e-2e212c317104",
   "metadata": {},
   "outputs": [
    {
     "data": {
      "text/plain": [
       "'এই মুহূর্তে এই ধ্বনিতেই উচ্চকিত ফুটবল বিশ্ব। এক আসর থেকে আর কি-ই বা চাওয়া থাকতে পারে ২১ বছর বয়সী স্ট্রাইকারের! কথাটা নিজের মুখেই বলেছেন নেইমার।\\n'"
      ]
     },
     "execution_count": 30,
     "metadata": {},
     "output_type": "execute_result"
    }
   ],
   "source": [
    "data['text'][0]"
   ]
  },
  {
   "cell_type": "code",
   "execution_count": 31,
   "id": "73c6e610-1808-4639-94d8-263682725571",
   "metadata": {},
   "outputs": [
    {
     "data": {
      "text/plain": [
       "'এই মুহূর্তে এই ধ্বনিতেই উচ্চকিত ফুটবল বিশ্ব এক আসর থেকে আর কি ই বা চাওয়া থাকতে পারে ২১ বছর বয়সী স্ট্রাইকারের কথাটা নিজের মুখেই বলেছেন নেইমার'"
      ]
     },
     "execution_count": 31,
     "metadata": {},
     "output_type": "execute_result"
    }
   ],
   "source": [
    "data['cleaned'][0]"
   ]
  },
  {
   "cell_type": "code",
   "execution_count": 32,
   "id": "753f50d6-2139-46e5-9567-46605dbb6b64",
   "metadata": {},
   "outputs": [
    {
     "data": {
      "text/plain": [
       "16146"
      ]
     },
     "execution_count": 32,
     "metadata": {},
     "output_type": "execute_result"
    }
   ],
   "source": [
    "data['cleaned'].duplicated().sum()"
   ]
  },
  {
   "cell_type": "code",
   "execution_count": 33,
   "id": "523b045a-66e3-4f0a-81b0-49114b807eef",
   "metadata": {},
   "outputs": [
    {
     "data": {
      "text/plain": [
       "(99127, 2)"
      ]
     },
     "execution_count": 33,
     "metadata": {},
     "output_type": "execute_result"
    }
   ],
   "source": [
    "data.shape"
   ]
  },
  {
   "cell_type": "code",
   "execution_count": 34,
   "id": "54f39791-a9d2-4f69-b13c-5ade742e9aa6",
   "metadata": {},
   "outputs": [
    {
     "data": {
      "text/plain": [
       "15292"
      ]
     },
     "execution_count": 34,
     "metadata": {},
     "output_type": "execute_result"
    }
   ],
   "source": [
    "data['text'].duplicated().sum()"
   ]
  },
  {
   "cell_type": "code",
   "execution_count": 35,
   "id": "c2ec9bab-df84-41d7-9fef-376851c05ecc",
   "metadata": {},
   "outputs": [],
   "source": [
    "data.drop_duplicates(subset='cleaned', inplace=True)"
   ]
  },
  {
   "cell_type": "code",
   "execution_count": 36,
   "id": "ea0a41f2-81fb-47f4-a0e2-b4296d71bda0",
   "metadata": {},
   "outputs": [
    {
     "data": {
      "text/plain": [
       "(82981, 2)"
      ]
     },
     "execution_count": 36,
     "metadata": {},
     "output_type": "execute_result"
    }
   ],
   "source": [
    "data.shape"
   ]
  },
  {
   "cell_type": "code",
   "execution_count": 37,
   "id": "2bf06d90-0397-4d75-8626-928240886ea8",
   "metadata": {},
   "outputs": [
    {
     "data": {
      "text/html": [
       "<div>\n",
       "<style scoped>\n",
       "    .dataframe tbody tr th:only-of-type {\n",
       "        vertical-align: middle;\n",
       "    }\n",
       "\n",
       "    .dataframe tbody tr th {\n",
       "        vertical-align: top;\n",
       "    }\n",
       "\n",
       "    .dataframe thead th {\n",
       "        text-align: right;\n",
       "    }\n",
       "</style>\n",
       "<table border=\"1\" class=\"dataframe\">\n",
       "  <thead>\n",
       "    <tr style=\"text-align: right;\">\n",
       "      <th></th>\n",
       "      <th>text</th>\n",
       "      <th>cleaned</th>\n",
       "    </tr>\n",
       "  </thead>\n",
       "  <tbody>\n",
       "    <tr>\n",
       "      <th>0</th>\n",
       "      <td>এই মুহূর্তে এই ধ্বনিতেই উচ্চকিত ফুটবল বিশ্ব। এ...</td>\n",
       "      <td>এই মুহূর্তে এই ধ্বনিতেই উচ্চকিত ফুটবল বিশ্ব এক...</td>\n",
       "    </tr>\n",
       "    <tr>\n",
       "      <th>1</th>\n",
       "      <td>তিনি বলেন, ‘যারা সেনাবাহিনীর বিরুদ্ধে অপপ্রচার...</td>\n",
       "      <td>তিনি বলেন যারা সেনাবাহিনীর বিরুদ্ধে অপপ্রচার চ...</td>\n",
       "    </tr>\n",
       "    <tr>\n",
       "      <th>2</th>\n",
       "      <td>প্রায় ৪৫ গজ দূর থেকে নেওয়া শটে করেছেন লক্ষ্য...</td>\n",
       "      <td>প্রায় ৪৫ গজ দূর থেকে নেওয়া শটে করেছেন লক্ষ্য...</td>\n",
       "    </tr>\n",
       "    <tr>\n",
       "      <th>3</th>\n",
       "      <td>রূপকথার গল্প তো মানুষ এমনিতেই বেশি পছন্দ করে! ...</td>\n",
       "      <td>রূপকথার গল্প তো মানুষ এমনিতেই বেশি পছন্দ করে স...</td>\n",
       "    </tr>\n",
       "    <tr>\n",
       "      <th>4</th>\n",
       "      <td>তাহলে প্রকাশিত হওয়ার পর ওই নিবন্ধনের সমর্থনে ...</td>\n",
       "      <td>তাহলে প্রকাশিত হওয়ার পর ওই নিবন্ধনের সমর্থনে ...</td>\n",
       "    </tr>\n",
       "  </tbody>\n",
       "</table>\n",
       "</div>"
      ],
      "text/plain": [
       "                                                text  \\\n",
       "0  এই মুহূর্তে এই ধ্বনিতেই উচ্চকিত ফুটবল বিশ্ব। এ...   \n",
       "1  তিনি বলেন, ‘যারা সেনাবাহিনীর বিরুদ্ধে অপপ্রচার...   \n",
       "2  প্রায় ৪৫ গজ দূর থেকে নেওয়া শটে করেছেন লক্ষ্য...   \n",
       "3  রূপকথার গল্প তো মানুষ এমনিতেই বেশি পছন্দ করে! ...   \n",
       "4  তাহলে প্রকাশিত হওয়ার পর ওই নিবন্ধনের সমর্থনে ...   \n",
       "\n",
       "                                             cleaned  \n",
       "0  এই মুহূর্তে এই ধ্বনিতেই উচ্চকিত ফুটবল বিশ্ব এক...  \n",
       "1  তিনি বলেন যারা সেনাবাহিনীর বিরুদ্ধে অপপ্রচার চ...  \n",
       "2  প্রায় ৪৫ গজ দূর থেকে নেওয়া শটে করেছেন লক্ষ্য...  \n",
       "3  রূপকথার গল্প তো মানুষ এমনিতেই বেশি পছন্দ করে স...  \n",
       "4  তাহলে প্রকাশিত হওয়ার পর ওই নিবন্ধনের সমর্থনে ...  "
      ]
     },
     "execution_count": 37,
     "metadata": {},
     "output_type": "execute_result"
    }
   ],
   "source": [
    "data.head()"
   ]
  },
  {
   "cell_type": "code",
   "execution_count": 38,
   "id": "8a2a6ce1-2314-408d-89de-4f45f1ba3aa9",
   "metadata": {},
   "outputs": [],
   "source": [
    "data = data[['cleaned']]"
   ]
  },
  {
   "cell_type": "code",
   "execution_count": 39,
   "id": "0e5dd916-f004-454d-90b4-bdd6133ed161",
   "metadata": {},
   "outputs": [
    {
     "data": {
      "text/html": [
       "<div>\n",
       "<style scoped>\n",
       "    .dataframe tbody tr th:only-of-type {\n",
       "        vertical-align: middle;\n",
       "    }\n",
       "\n",
       "    .dataframe tbody tr th {\n",
       "        vertical-align: top;\n",
       "    }\n",
       "\n",
       "    .dataframe thead th {\n",
       "        text-align: right;\n",
       "    }\n",
       "</style>\n",
       "<table border=\"1\" class=\"dataframe\">\n",
       "  <thead>\n",
       "    <tr style=\"text-align: right;\">\n",
       "      <th></th>\n",
       "      <th>cleaned</th>\n",
       "    </tr>\n",
       "  </thead>\n",
       "  <tbody>\n",
       "    <tr>\n",
       "      <th>0</th>\n",
       "      <td>এই মুহূর্তে এই ধ্বনিতেই উচ্চকিত ফুটবল বিশ্ব এক...</td>\n",
       "    </tr>\n",
       "    <tr>\n",
       "      <th>1</th>\n",
       "      <td>তিনি বলেন যারা সেনাবাহিনীর বিরুদ্ধে অপপ্রচার চ...</td>\n",
       "    </tr>\n",
       "    <tr>\n",
       "      <th>2</th>\n",
       "      <td>প্রায় ৪৫ গজ দূর থেকে নেওয়া শটে করেছেন লক্ষ্য...</td>\n",
       "    </tr>\n",
       "    <tr>\n",
       "      <th>3</th>\n",
       "      <td>রূপকথার গল্প তো মানুষ এমনিতেই বেশি পছন্দ করে স...</td>\n",
       "    </tr>\n",
       "    <tr>\n",
       "      <th>4</th>\n",
       "      <td>তাহলে প্রকাশিত হওয়ার পর ওই নিবন্ধনের সমর্থনে ...</td>\n",
       "    </tr>\n",
       "  </tbody>\n",
       "</table>\n",
       "</div>"
      ],
      "text/plain": [
       "                                             cleaned\n",
       "0  এই মুহূর্তে এই ধ্বনিতেই উচ্চকিত ফুটবল বিশ্ব এক...\n",
       "1  তিনি বলেন যারা সেনাবাহিনীর বিরুদ্ধে অপপ্রচার চ...\n",
       "2  প্রায় ৪৫ গজ দূর থেকে নেওয়া শটে করেছেন লক্ষ্য...\n",
       "3  রূপকথার গল্প তো মানুষ এমনিতেই বেশি পছন্দ করে স...\n",
       "4  তাহলে প্রকাশিত হওয়ার পর ওই নিবন্ধনের সমর্থনে ..."
      ]
     },
     "execution_count": 39,
     "metadata": {},
     "output_type": "execute_result"
    }
   ],
   "source": [
    "data.head()"
   ]
  },
  {
   "cell_type": "code",
   "execution_count": 40,
   "id": "e567b8c6-901f-4f36-9f76-6c9453cd28cd",
   "metadata": {},
   "outputs": [],
   "source": [
    "final.to_csv('final/Bengali.csv', index=False, encoding='utf-8')"
   ]
  },
  {
   "cell_type": "markdown",
   "id": "d221eb5b-8aeb-4ade-9173-e76b3559093a",
   "metadata": {},
   "source": [
    "## Bodo"
   ]
  },
  {
   "cell_type": "code",
   "execution_count": 41,
   "id": "72ddd48d-669e-457d-b45f-dfa56c8aac3d",
   "metadata": {},
   "outputs": [
    {
     "name": "stdout",
     "output_type": "stream",
     "text": [
      "Requirement already satisfied: openpyxl in ./language_detection/lib/python3.11/site-packages (3.1.2)\n",
      "Requirement already satisfied: et-xmlfile in ./language_detection/lib/python3.11/site-packages (from openpyxl) (1.1.0)\n"
     ]
    }
   ],
   "source": [
    "!pip install openpyxl"
   ]
  },
  {
   "cell_type": "code",
   "execution_count": 42,
   "id": "3844a8a2-c5c8-4ed6-9b4e-8f57fe875a2c",
   "metadata": {},
   "outputs": [],
   "source": [
    "df1 = pd.read_excel('datasets/Bodo/1.xlsx')"
   ]
  },
  {
   "cell_type": "code",
   "execution_count": 43,
   "id": "c79502b0-e314-4147-b4ea-d9c8d87cac51",
   "metadata": {},
   "outputs": [
    {
     "data": {
      "text/html": [
       "<div>\n",
       "<style scoped>\n",
       "    .dataframe tbody tr th:only-of-type {\n",
       "        vertical-align: middle;\n",
       "    }\n",
       "\n",
       "    .dataframe tbody tr th {\n",
       "        vertical-align: top;\n",
       "    }\n",
       "\n",
       "    .dataframe thead th {\n",
       "        text-align: right;\n",
       "    }\n",
       "</style>\n",
       "<table border=\"1\" class=\"dataframe\">\n",
       "  <thead>\n",
       "    <tr style=\"text-align: right;\">\n",
       "      <th></th>\n",
       "      <th>bodo_sent</th>\n",
       "      <th>eng_sent</th>\n",
       "    </tr>\n",
       "  </thead>\n",
       "  <tbody>\n",
       "    <tr>\n",
       "      <th>0</th>\n",
       "      <td>अन्नानै आंंनो दिनैनि अक्टखौ खिन्था</td>\n",
       "      <td>please let me know today's date</td>\n",
       "    </tr>\n",
       "    <tr>\n",
       "      <th>1</th>\n",
       "      <td>बे ओनसोलनि फैगौ इभेन्टफोरखौ आंनो खोन्था।</td>\n",
       "      <td>show me upcoming events in this area</td>\n",
       "    </tr>\n",
       "    <tr>\n",
       "      <th>2</th>\n",
       "      <td>दानि थाखाय टेक्सि बुक खालाम।</td>\n",
       "      <td>book taxi for now</td>\n",
       "    </tr>\n",
       "    <tr>\n",
       "      <th>3</th>\n",
       "      <td>लेक्समार्कनि स्टक बेसेना बेसेबां?</td>\n",
       "      <td>what is the stock price for lexmark</td>\n",
       "    </tr>\n",
       "    <tr>\n",
       "      <th>4</th>\n",
       "      <td>अन्नानै गिबि फारिलाइखौ बोखार</td>\n",
       "      <td>please remove the first list</td>\n",
       "    </tr>\n",
       "  </tbody>\n",
       "</table>\n",
       "</div>"
      ],
      "text/plain": [
       "                                  bodo_sent  \\\n",
       "0        अन्नानै आंंनो दिनैनि अक्टखौ खिन्था   \n",
       "1  बे ओनसोलनि फैगौ इभेन्टफोरखौ आंनो खोन्था।   \n",
       "2              दानि थाखाय टेक्सि बुक खालाम।   \n",
       "3         लेक्समार्कनि स्टक बेसेना बेसेबां?   \n",
       "4              अन्नानै गिबि फारिलाइखौ बोखार   \n",
       "\n",
       "                               eng_sent  \n",
       "0       please let me know today's date  \n",
       "1  show me upcoming events in this area  \n",
       "2                     book taxi for now  \n",
       "3   what is the stock price for lexmark  \n",
       "4          please remove the first list  "
      ]
     },
     "execution_count": 43,
     "metadata": {},
     "output_type": "execute_result"
    }
   ],
   "source": [
    "df1.head()"
   ]
  },
  {
   "cell_type": "code",
   "execution_count": 44,
   "id": "25adc0da-8a03-45ce-9fa5-e4b844003be2",
   "metadata": {},
   "outputs": [],
   "source": [
    "df1 = df1[['bodo_sent']]"
   ]
  },
  {
   "cell_type": "code",
   "execution_count": 45,
   "id": "1a69c0a2-243f-4cf5-84c3-baa7477f17d2",
   "metadata": {},
   "outputs": [
    {
     "data": {
      "text/html": [
       "<div>\n",
       "<style scoped>\n",
       "    .dataframe tbody tr th:only-of-type {\n",
       "        vertical-align: middle;\n",
       "    }\n",
       "\n",
       "    .dataframe tbody tr th {\n",
       "        vertical-align: top;\n",
       "    }\n",
       "\n",
       "    .dataframe thead th {\n",
       "        text-align: right;\n",
       "    }\n",
       "</style>\n",
       "<table border=\"1\" class=\"dataframe\">\n",
       "  <thead>\n",
       "    <tr style=\"text-align: right;\">\n",
       "      <th></th>\n",
       "      <th>bodo_sent</th>\n",
       "    </tr>\n",
       "  </thead>\n",
       "  <tbody>\n",
       "    <tr>\n",
       "      <th>0</th>\n",
       "      <td>अन्नानै आंंनो दिनैनि अक्टखौ खिन्था</td>\n",
       "    </tr>\n",
       "    <tr>\n",
       "      <th>1</th>\n",
       "      <td>बे ओनसोलनि फैगौ इभेन्टफोरखौ आंनो खोन्था।</td>\n",
       "    </tr>\n",
       "    <tr>\n",
       "      <th>2</th>\n",
       "      <td>दानि थाखाय टेक्सि बुक खालाम।</td>\n",
       "    </tr>\n",
       "    <tr>\n",
       "      <th>3</th>\n",
       "      <td>लेक्समार्कनि स्टक बेसेना बेसेबां?</td>\n",
       "    </tr>\n",
       "    <tr>\n",
       "      <th>4</th>\n",
       "      <td>अन्नानै गिबि फारिलाइखौ बोखार</td>\n",
       "    </tr>\n",
       "  </tbody>\n",
       "</table>\n",
       "</div>"
      ],
      "text/plain": [
       "                                  bodo_sent\n",
       "0        अन्नानै आंंनो दिनैनि अक्टखौ खिन्था\n",
       "1  बे ओनसोलनि फैगौ इभेन्टफोरखौ आंनो खोन्था।\n",
       "2              दानि थाखाय टेक्सि बुक खालाम।\n",
       "3         लेक्समार्कनि स्टक बेसेना बेसेबां?\n",
       "4              अन्नानै गिबि फारिलाइखौ बोखार"
      ]
     },
     "execution_count": 45,
     "metadata": {},
     "output_type": "execute_result"
    }
   ],
   "source": [
    "df1.head()"
   ]
  },
  {
   "cell_type": "code",
   "execution_count": 46,
   "id": "cd21c962-3774-4014-b557-facaf279b3f7",
   "metadata": {},
   "outputs": [],
   "source": [
    "df1.rename(columns={\n",
    "    'bodo_sent': 'text'\n",
    "}, inplace=True)"
   ]
  },
  {
   "cell_type": "code",
   "execution_count": 47,
   "id": "58152b10-ca01-4e6c-8054-ef6c4098a419",
   "metadata": {},
   "outputs": [
    {
     "data": {
      "text/html": [
       "<div>\n",
       "<style scoped>\n",
       "    .dataframe tbody tr th:only-of-type {\n",
       "        vertical-align: middle;\n",
       "    }\n",
       "\n",
       "    .dataframe tbody tr th {\n",
       "        vertical-align: top;\n",
       "    }\n",
       "\n",
       "    .dataframe thead th {\n",
       "        text-align: right;\n",
       "    }\n",
       "</style>\n",
       "<table border=\"1\" class=\"dataframe\">\n",
       "  <thead>\n",
       "    <tr style=\"text-align: right;\">\n",
       "      <th></th>\n",
       "      <th>text</th>\n",
       "    </tr>\n",
       "  </thead>\n",
       "  <tbody>\n",
       "    <tr>\n",
       "      <th>0</th>\n",
       "      <td>अन्नानै आंंनो दिनैनि अक्टखौ खिन्था</td>\n",
       "    </tr>\n",
       "    <tr>\n",
       "      <th>1</th>\n",
       "      <td>बे ओनसोलनि फैगौ इभेन्टफोरखौ आंनो खोन्था।</td>\n",
       "    </tr>\n",
       "    <tr>\n",
       "      <th>2</th>\n",
       "      <td>दानि थाखाय टेक्सि बुक खालाम।</td>\n",
       "    </tr>\n",
       "    <tr>\n",
       "      <th>3</th>\n",
       "      <td>लेक्समार्कनि स्टक बेसेना बेसेबां?</td>\n",
       "    </tr>\n",
       "    <tr>\n",
       "      <th>4</th>\n",
       "      <td>अन्नानै गिबि फारिलाइखौ बोखार</td>\n",
       "    </tr>\n",
       "  </tbody>\n",
       "</table>\n",
       "</div>"
      ],
      "text/plain": [
       "                                       text\n",
       "0        अन्नानै आंंनो दिनैनि अक्टखौ खिन्था\n",
       "1  बे ओनसोलनि फैगौ इभेन्टफोरखौ आंनो खोन्था।\n",
       "2              दानि थाखाय टेक्सि बुक खालाम।\n",
       "3         लेक्समार्कनि स्टक बेसेना बेसेबां?\n",
       "4              अन्नानै गिबि फारिलाइखौ बोखार"
      ]
     },
     "execution_count": 47,
     "metadata": {},
     "output_type": "execute_result"
    }
   ],
   "source": [
    "df1.head()"
   ]
  },
  {
   "cell_type": "code",
   "execution_count": 48,
   "id": "bd903751-39e8-474a-94fd-65d4c48c5645",
   "metadata": {},
   "outputs": [],
   "source": [
    "with open('datasets/Bodo/1bodo.txt') as f:\n",
    "    lines = f.readlines()"
   ]
  },
  {
   "cell_type": "code",
   "execution_count": 49,
   "id": "88ca82c2-ccfb-4428-9fa3-805b87b3ce5a",
   "metadata": {},
   "outputs": [],
   "source": [
    "df2 = pd.DataFrame(lines, columns=['text'])"
   ]
  },
  {
   "cell_type": "code",
   "execution_count": 50,
   "id": "7c0377bc-2c71-4d56-b622-5178bb3cae61",
   "metadata": {},
   "outputs": [
    {
     "data": {
      "text/html": [
       "<div>\n",
       "<style scoped>\n",
       "    .dataframe tbody tr th:only-of-type {\n",
       "        vertical-align: middle;\n",
       "    }\n",
       "\n",
       "    .dataframe tbody tr th {\n",
       "        vertical-align: top;\n",
       "    }\n",
       "\n",
       "    .dataframe thead th {\n",
       "        text-align: right;\n",
       "    }\n",
       "</style>\n",
       "<table border=\"1\" class=\"dataframe\">\n",
       "  <thead>\n",
       "    <tr style=\"text-align: right;\">\n",
       "      <th></th>\n",
       "      <th>text</th>\n",
       "    </tr>\n",
       "  </thead>\n",
       "  <tbody>\n",
       "    <tr>\n",
       "      <th>0</th>\n",
       "      <td>अन्नानै आंंनो दिनैनि अक्टखौ खिन्था\\n</td>\n",
       "    </tr>\n",
       "    <tr>\n",
       "      <th>1</th>\n",
       "      <td>बे ओनसोलनि फैगौ इभेन्टफोरखौ आंनो खोन्था।\\n</td>\n",
       "    </tr>\n",
       "    <tr>\n",
       "      <th>2</th>\n",
       "      <td>दानि थाखाय टेक्सि बुक खालाम।\\n</td>\n",
       "    </tr>\n",
       "    <tr>\n",
       "      <th>3</th>\n",
       "      <td>लेक्समार्कनि स्टक बेसेना बेसेबां?\\n</td>\n",
       "    </tr>\n",
       "    <tr>\n",
       "      <th>4</th>\n",
       "      <td>अन्नानै गिबि फारिलाइखौ बोखार\\n</td>\n",
       "    </tr>\n",
       "  </tbody>\n",
       "</table>\n",
       "</div>"
      ],
      "text/plain": [
       "                                         text\n",
       "0        अन्नानै आंंनो दिनैनि अक्टखौ खिन्था\\n\n",
       "1  बे ओनसोलनि फैगौ इभेन्टफोरखौ आंनो खोन्था।\\n\n",
       "2              दानि थाखाय टेक्सि बुक खालाम।\\n\n",
       "3         लेक्समार्कनि स्टक बेसेना बेसेबां?\\n\n",
       "4              अन्नानै गिबि फारिलाइखौ बोखार\\n"
      ]
     },
     "execution_count": 50,
     "metadata": {},
     "output_type": "execute_result"
    }
   ],
   "source": [
    "df2.head()"
   ]
  },
  {
   "cell_type": "code",
   "execution_count": 51,
   "id": "8f7af046-ce4a-4284-92c4-b24d125347a2",
   "metadata": {},
   "outputs": [],
   "source": [
    "df3 = pd.read_excel('datasets/Bodo/2.xlsx')"
   ]
  },
  {
   "cell_type": "code",
   "execution_count": 52,
   "id": "e4d7a423-d0c6-42ba-b229-b14f367d1e3b",
   "metadata": {},
   "outputs": [
    {
     "data": {
      "text/html": [
       "<div>\n",
       "<style scoped>\n",
       "    .dataframe tbody tr th:only-of-type {\n",
       "        vertical-align: middle;\n",
       "    }\n",
       "\n",
       "    .dataframe tbody tr th {\n",
       "        vertical-align: top;\n",
       "    }\n",
       "\n",
       "    .dataframe thead th {\n",
       "        text-align: right;\n",
       "    }\n",
       "</style>\n",
       "<table border=\"1\" class=\"dataframe\">\n",
       "  <thead>\n",
       "    <tr style=\"text-align: right;\">\n",
       "      <th></th>\n",
       "      <th>bodo_sent</th>\n",
       "      <th>eng_sent</th>\n",
       "    </tr>\n",
       "  </thead>\n",
       "  <tbody>\n",
       "    <tr>\n",
       "      <th>0</th>\n",
       "      <td>पंजाब में समाज कल्याण विभाग के बाल अधिकार प्रक...</td>\n",
       "      <td>In Punjab, the Child Rights Cell of the Depart...</td>\n",
       "    </tr>\n",
       "    <tr>\n",
       "      <th>1</th>\n",
       "      <td>बावैसो बोसोरफोराव खमलायनायनि बे रोखोमा गुबुन ह...</td>\n",
       "      <td>In recent years this style of wrestling has al...</td>\n",
       "    </tr>\n",
       "    <tr>\n",
       "      <th>2</th>\n",
       "      <td>बायदिरोखोमनि जाठिआव तिसरा, चथुसरा, खंडा, मिश्र...</td>\n",
       "      <td>The different jathis are tisra, chathusra, kha...</td>\n",
       "    </tr>\n",
       "    <tr>\n",
       "      <th>3</th>\n",
       "      <td>सान्नाय खामानियाव मोनसे टेप एबा आखाइ खबनाय थाय...</td>\n",
       "      <td>The action for counting includes a tap or clap...</td>\n",
       "    </tr>\n",
       "    <tr>\n",
       "      <th>4</th>\n",
       "      <td>बेखौ खालामनायाव मोनसे टेप एबा आखाइ खबनाय थायो,...</td>\n",
       "      <td>Its action includes a tap or clap, followed by...</td>\n",
       "    </tr>\n",
       "  </tbody>\n",
       "</table>\n",
       "</div>"
      ],
      "text/plain": [
       "                                           bodo_sent  \\\n",
       "0  पंजाब में समाज कल्याण विभाग के बाल अधिकार प्रक...   \n",
       "1  बावैसो बोसोरफोराव खमलायनायनि बे रोखोमा गुबुन ह...   \n",
       "2  बायदिरोखोमनि जाठिआव तिसरा, चथुसरा, खंडा, मिश्र...   \n",
       "3  सान्नाय खामानियाव मोनसे टेप एबा आखाइ खबनाय थाय...   \n",
       "4  बेखौ खालामनायाव मोनसे टेप एबा आखाइ खबनाय थायो,...   \n",
       "\n",
       "                                            eng_sent  \n",
       "0  In Punjab, the Child Rights Cell of the Depart...  \n",
       "1  In recent years this style of wrestling has al...  \n",
       "2  The different jathis are tisra, chathusra, kha...  \n",
       "3  The action for counting includes a tap or clap...  \n",
       "4  Its action includes a tap or clap, followed by...  "
      ]
     },
     "execution_count": 52,
     "metadata": {},
     "output_type": "execute_result"
    }
   ],
   "source": [
    "df3.head()"
   ]
  },
  {
   "cell_type": "code",
   "execution_count": 53,
   "id": "ebcaeae2-9e0d-445f-86a3-52c191d722ee",
   "metadata": {},
   "outputs": [],
   "source": [
    "df3 = df3[['bodo_sent']]"
   ]
  },
  {
   "cell_type": "code",
   "execution_count": 54,
   "id": "b211ea4a-fe7f-4609-b165-585b38588e03",
   "metadata": {},
   "outputs": [
    {
     "data": {
      "text/html": [
       "<div>\n",
       "<style scoped>\n",
       "    .dataframe tbody tr th:only-of-type {\n",
       "        vertical-align: middle;\n",
       "    }\n",
       "\n",
       "    .dataframe tbody tr th {\n",
       "        vertical-align: top;\n",
       "    }\n",
       "\n",
       "    .dataframe thead th {\n",
       "        text-align: right;\n",
       "    }\n",
       "</style>\n",
       "<table border=\"1\" class=\"dataframe\">\n",
       "  <thead>\n",
       "    <tr style=\"text-align: right;\">\n",
       "      <th></th>\n",
       "      <th>bodo_sent</th>\n",
       "    </tr>\n",
       "  </thead>\n",
       "  <tbody>\n",
       "    <tr>\n",
       "      <th>0</th>\n",
       "      <td>पंजाब में समाज कल्याण विभाग के बाल अधिकार प्रक...</td>\n",
       "    </tr>\n",
       "    <tr>\n",
       "      <th>1</th>\n",
       "      <td>बावैसो बोसोरफोराव खमलायनायनि बे रोखोमा गुबुन ह...</td>\n",
       "    </tr>\n",
       "    <tr>\n",
       "      <th>2</th>\n",
       "      <td>बायदिरोखोमनि जाठिआव तिसरा, चथुसरा, खंडा, मिश्र...</td>\n",
       "    </tr>\n",
       "    <tr>\n",
       "      <th>3</th>\n",
       "      <td>सान्नाय खामानियाव मोनसे टेप एबा आखाइ खबनाय थाय...</td>\n",
       "    </tr>\n",
       "    <tr>\n",
       "      <th>4</th>\n",
       "      <td>बेखौ खालामनायाव मोनसे टेप एबा आखाइ खबनाय थायो,...</td>\n",
       "    </tr>\n",
       "  </tbody>\n",
       "</table>\n",
       "</div>"
      ],
      "text/plain": [
       "                                           bodo_sent\n",
       "0  पंजाब में समाज कल्याण विभाग के बाल अधिकार प्रक...\n",
       "1  बावैसो बोसोरफोराव खमलायनायनि बे रोखोमा गुबुन ह...\n",
       "2  बायदिरोखोमनि जाठिआव तिसरा, चथुसरा, खंडा, मिश्र...\n",
       "3  सान्नाय खामानियाव मोनसे टेप एबा आखाइ खबनाय थाय...\n",
       "4  बेखौ खालामनायाव मोनसे टेप एबा आखाइ खबनाय थायो,..."
      ]
     },
     "execution_count": 54,
     "metadata": {},
     "output_type": "execute_result"
    }
   ],
   "source": [
    "df3.head()"
   ]
  },
  {
   "cell_type": "code",
   "execution_count": 55,
   "id": "85de8cb8-5157-4a5b-8060-60f7da7c3231",
   "metadata": {},
   "outputs": [],
   "source": [
    "df3.rename(columns={\n",
    "    'bodo_sent': 'text'\n",
    "}, inplace=True)"
   ]
  },
  {
   "cell_type": "code",
   "execution_count": 56,
   "id": "0d5663ba-458c-4082-8c5d-aeeaa1dcee8f",
   "metadata": {},
   "outputs": [
    {
     "data": {
      "text/html": [
       "<div>\n",
       "<style scoped>\n",
       "    .dataframe tbody tr th:only-of-type {\n",
       "        vertical-align: middle;\n",
       "    }\n",
       "\n",
       "    .dataframe tbody tr th {\n",
       "        vertical-align: top;\n",
       "    }\n",
       "\n",
       "    .dataframe thead th {\n",
       "        text-align: right;\n",
       "    }\n",
       "</style>\n",
       "<table border=\"1\" class=\"dataframe\">\n",
       "  <thead>\n",
       "    <tr style=\"text-align: right;\">\n",
       "      <th></th>\n",
       "      <th>text</th>\n",
       "    </tr>\n",
       "  </thead>\n",
       "  <tbody>\n",
       "    <tr>\n",
       "      <th>0</th>\n",
       "      <td>पंजाब में समाज कल्याण विभाग के बाल अधिकार प्रक...</td>\n",
       "    </tr>\n",
       "    <tr>\n",
       "      <th>1</th>\n",
       "      <td>बावैसो बोसोरफोराव खमलायनायनि बे रोखोमा गुबुन ह...</td>\n",
       "    </tr>\n",
       "    <tr>\n",
       "      <th>2</th>\n",
       "      <td>बायदिरोखोमनि जाठिआव तिसरा, चथुसरा, खंडा, मिश्र...</td>\n",
       "    </tr>\n",
       "    <tr>\n",
       "      <th>3</th>\n",
       "      <td>सान्नाय खामानियाव मोनसे टेप एबा आखाइ खबनाय थाय...</td>\n",
       "    </tr>\n",
       "    <tr>\n",
       "      <th>4</th>\n",
       "      <td>बेखौ खालामनायाव मोनसे टेप एबा आखाइ खबनाय थायो,...</td>\n",
       "    </tr>\n",
       "  </tbody>\n",
       "</table>\n",
       "</div>"
      ],
      "text/plain": [
       "                                                text\n",
       "0  पंजाब में समाज कल्याण विभाग के बाल अधिकार प्रक...\n",
       "1  बावैसो बोसोरफोराव खमलायनायनि बे रोखोमा गुबुन ह...\n",
       "2  बायदिरोखोमनि जाठिआव तिसरा, चथुसरा, खंडा, मिश्र...\n",
       "3  सान्नाय खामानियाव मोनसे टेप एबा आखाइ खबनाय थाय...\n",
       "4  बेखौ खालामनायाव मोनसे टेप एबा आखाइ खबनाय थायो,..."
      ]
     },
     "execution_count": 56,
     "metadata": {},
     "output_type": "execute_result"
    }
   ],
   "source": [
    "df3.head()"
   ]
  },
  {
   "cell_type": "code",
   "execution_count": 57,
   "id": "f4acea33-b005-43ce-92ad-4961e5340c3a",
   "metadata": {},
   "outputs": [],
   "source": [
    "with open('datasets/Bodo/2bodo.txt') as f:\n",
    "    lines = f.readlines()"
   ]
  },
  {
   "cell_type": "code",
   "execution_count": 58,
   "id": "913a9f87-7f49-4bc9-9ac0-f6293d208772",
   "metadata": {},
   "outputs": [],
   "source": [
    "df4 = pd.DataFrame(lines, columns=['text'])"
   ]
  },
  {
   "cell_type": "code",
   "execution_count": 59,
   "id": "11f82f8c-99d4-4e4c-8cb6-bb04a59aaa9d",
   "metadata": {},
   "outputs": [
    {
     "data": {
      "text/html": [
       "<div>\n",
       "<style scoped>\n",
       "    .dataframe tbody tr th:only-of-type {\n",
       "        vertical-align: middle;\n",
       "    }\n",
       "\n",
       "    .dataframe tbody tr th {\n",
       "        vertical-align: top;\n",
       "    }\n",
       "\n",
       "    .dataframe thead th {\n",
       "        text-align: right;\n",
       "    }\n",
       "</style>\n",
       "<table border=\"1\" class=\"dataframe\">\n",
       "  <thead>\n",
       "    <tr style=\"text-align: right;\">\n",
       "      <th></th>\n",
       "      <th>text</th>\n",
       "    </tr>\n",
       "  </thead>\n",
       "  <tbody>\n",
       "    <tr>\n",
       "      <th>0</th>\n",
       "      <td>पंजाब में समाज कल्याण विभाग के बाल अधिकार प्रक...</td>\n",
       "    </tr>\n",
       "    <tr>\n",
       "      <th>1</th>\n",
       "      <td>बावैसो बोसोरफोराव खमलायनायनि बे रोखोमा गुबुन ह...</td>\n",
       "    </tr>\n",
       "    <tr>\n",
       "      <th>2</th>\n",
       "      <td>बायदिरोखोमनि जाठिआव तिसरा, चथुसरा, खंडा, मिश्र...</td>\n",
       "    </tr>\n",
       "    <tr>\n",
       "      <th>3</th>\n",
       "      <td>सान्नाय खामानियाव मोनसे टेप एबा आखाइ खबनाय थाय...</td>\n",
       "    </tr>\n",
       "    <tr>\n",
       "      <th>4</th>\n",
       "      <td>बेखौ खालामनायाव मोनसे टेप एबा आखाइ खबनाय थायो,...</td>\n",
       "    </tr>\n",
       "  </tbody>\n",
       "</table>\n",
       "</div>"
      ],
      "text/plain": [
       "                                                text\n",
       "0  पंजाब में समाज कल्याण विभाग के बाल अधिकार प्रक...\n",
       "1  बावैसो बोसोरफोराव खमलायनायनि बे रोखोमा गुबुन ह...\n",
       "2  बायदिरोखोमनि जाठिआव तिसरा, चथुसरा, खंडा, मिश्र...\n",
       "3  सान्नाय खामानियाव मोनसे टेप एबा आखाइ खबनाय थाय...\n",
       "4  बेखौ खालामनायाव मोनसे टेप एबा आखाइ खबनाय थायो,..."
      ]
     },
     "execution_count": 59,
     "metadata": {},
     "output_type": "execute_result"
    }
   ],
   "source": [
    "df4.head()"
   ]
  },
  {
   "cell_type": "code",
   "execution_count": 60,
   "id": "1f1a07fb-a865-46e7-af3d-4c139d8e0f08",
   "metadata": {},
   "outputs": [],
   "source": [
    "df5 = pd.read_excel('datasets/Bodo/3.xlsx')"
   ]
  },
  {
   "cell_type": "code",
   "execution_count": 61,
   "id": "c81b038f-e0e2-47fa-9b9c-90c7df6fe766",
   "metadata": {},
   "outputs": [
    {
     "data": {
      "text/html": [
       "<div>\n",
       "<style scoped>\n",
       "    .dataframe tbody tr th:only-of-type {\n",
       "        vertical-align: middle;\n",
       "    }\n",
       "\n",
       "    .dataframe tbody tr th {\n",
       "        vertical-align: top;\n",
       "    }\n",
       "\n",
       "    .dataframe thead th {\n",
       "        text-align: right;\n",
       "    }\n",
       "</style>\n",
       "<table border=\"1\" class=\"dataframe\">\n",
       "  <thead>\n",
       "    <tr style=\"text-align: right;\">\n",
       "      <th></th>\n",
       "      <th>bodo_sent</th>\n",
       "      <th>eng_sent</th>\n",
       "    </tr>\n",
       "  </thead>\n",
       "  <tbody>\n",
       "    <tr>\n",
       "      <th>0</th>\n",
       "      <td>KTouch खौ खेव।</td>\n",
       "      <td>Open KTouch.</td>\n",
       "    </tr>\n",
       "    <tr>\n",
       "      <th>1</th>\n",
       "      <td>tail hyphen f forward slash var slash log slas...</td>\n",
       "      <td>tail hyphen f forward slash var slash log slas...</td>\n",
       "    </tr>\n",
       "    <tr>\n",
       "      <th>2</th>\n",
       "      <td>दानिया input नि थुंगेनायखौ दिन्थिनो Enter key ...</td>\n",
       "      <td>Now press Enter key to indicate the end of input.</td>\n",
       "    </tr>\n",
       "    <tr>\n",
       "      <th>3</th>\n",
       "      <td>Manage Search Engines मेनेज सार्स इन्जिनस) आव ...</td>\n",
       "      <td>Click on “Manage Search Engines”.</td>\n",
       "    </tr>\n",
       "    <tr>\n",
       "      <th>4</th>\n",
       "      <td>आस्थाम आसिखौ ‘S’ हांखोनि सायाव दोन।</td>\n",
       "      <td>The 'Student Line' has become red.</td>\n",
       "    </tr>\n",
       "  </tbody>\n",
       "</table>\n",
       "</div>"
      ],
      "text/plain": [
       "                                           bodo_sent  \\\n",
       "0                                     KTouch खौ खेव।   \n",
       "1  tail hyphen f forward slash var slash log slas...   \n",
       "2  दानिया input नि थुंगेनायखौ दिन्थिनो Enter key ...   \n",
       "3  Manage Search Engines मेनेज सार्स इन्जिनस) आव ...   \n",
       "4                आस्थाम आसिखौ ‘S’ हांखोनि सायाव दोन।   \n",
       "\n",
       "                                            eng_sent  \n",
       "0                                       Open KTouch.  \n",
       "1  tail hyphen f forward slash var slash log slas...  \n",
       "2  Now press Enter key to indicate the end of input.  \n",
       "3                  Click on “Manage Search Engines”.  \n",
       "4                 The 'Student Line' has become red.  "
      ]
     },
     "execution_count": 61,
     "metadata": {},
     "output_type": "execute_result"
    }
   ],
   "source": [
    "df5.head()"
   ]
  },
  {
   "cell_type": "code",
   "execution_count": 62,
   "id": "de5892f3-52d0-4e74-84b3-d51d2c97d81b",
   "metadata": {},
   "outputs": [],
   "source": [
    "df5 = df5[['bodo_sent']]"
   ]
  },
  {
   "cell_type": "code",
   "execution_count": 63,
   "id": "f4fd3496-3ff5-4d61-9d40-22f17ca8a3cb",
   "metadata": {},
   "outputs": [
    {
     "data": {
      "text/html": [
       "<div>\n",
       "<style scoped>\n",
       "    .dataframe tbody tr th:only-of-type {\n",
       "        vertical-align: middle;\n",
       "    }\n",
       "\n",
       "    .dataframe tbody tr th {\n",
       "        vertical-align: top;\n",
       "    }\n",
       "\n",
       "    .dataframe thead th {\n",
       "        text-align: right;\n",
       "    }\n",
       "</style>\n",
       "<table border=\"1\" class=\"dataframe\">\n",
       "  <thead>\n",
       "    <tr style=\"text-align: right;\">\n",
       "      <th></th>\n",
       "      <th>bodo_sent</th>\n",
       "    </tr>\n",
       "  </thead>\n",
       "  <tbody>\n",
       "    <tr>\n",
       "      <th>0</th>\n",
       "      <td>KTouch खौ खेव।</td>\n",
       "    </tr>\n",
       "    <tr>\n",
       "      <th>1</th>\n",
       "      <td>tail hyphen f forward slash var slash log slas...</td>\n",
       "    </tr>\n",
       "    <tr>\n",
       "      <th>2</th>\n",
       "      <td>दानिया input नि थुंगेनायखौ दिन्थिनो Enter key ...</td>\n",
       "    </tr>\n",
       "    <tr>\n",
       "      <th>3</th>\n",
       "      <td>Manage Search Engines मेनेज सार्स इन्जिनस) आव ...</td>\n",
       "    </tr>\n",
       "    <tr>\n",
       "      <th>4</th>\n",
       "      <td>आस्थाम आसिखौ ‘S’ हांखोनि सायाव दोन।</td>\n",
       "    </tr>\n",
       "  </tbody>\n",
       "</table>\n",
       "</div>"
      ],
      "text/plain": [
       "                                           bodo_sent\n",
       "0                                     KTouch खौ खेव।\n",
       "1  tail hyphen f forward slash var slash log slas...\n",
       "2  दानिया input नि थुंगेनायखौ दिन्थिनो Enter key ...\n",
       "3  Manage Search Engines मेनेज सार्स इन्जिनस) आव ...\n",
       "4                आस्थाम आसिखौ ‘S’ हांखोनि सायाव दोन।"
      ]
     },
     "execution_count": 63,
     "metadata": {},
     "output_type": "execute_result"
    }
   ],
   "source": [
    "df5.head()"
   ]
  },
  {
   "cell_type": "code",
   "execution_count": 64,
   "id": "ac0722e0-6177-46d2-8c82-21f2e4014673",
   "metadata": {},
   "outputs": [],
   "source": [
    "df5.rename(columns={\n",
    "    'bodo_sent': 'text'\n",
    "}, inplace=True)"
   ]
  },
  {
   "cell_type": "code",
   "execution_count": 65,
   "id": "cd78d996-0c92-4084-a443-06fad2f4c4bf",
   "metadata": {},
   "outputs": [
    {
     "data": {
      "text/html": [
       "<div>\n",
       "<style scoped>\n",
       "    .dataframe tbody tr th:only-of-type {\n",
       "        vertical-align: middle;\n",
       "    }\n",
       "\n",
       "    .dataframe tbody tr th {\n",
       "        vertical-align: top;\n",
       "    }\n",
       "\n",
       "    .dataframe thead th {\n",
       "        text-align: right;\n",
       "    }\n",
       "</style>\n",
       "<table border=\"1\" class=\"dataframe\">\n",
       "  <thead>\n",
       "    <tr style=\"text-align: right;\">\n",
       "      <th></th>\n",
       "      <th>text</th>\n",
       "    </tr>\n",
       "  </thead>\n",
       "  <tbody>\n",
       "    <tr>\n",
       "      <th>0</th>\n",
       "      <td>KTouch खौ खेव।</td>\n",
       "    </tr>\n",
       "    <tr>\n",
       "      <th>1</th>\n",
       "      <td>tail hyphen f forward slash var slash log slas...</td>\n",
       "    </tr>\n",
       "    <tr>\n",
       "      <th>2</th>\n",
       "      <td>दानिया input नि थुंगेनायखौ दिन्थिनो Enter key ...</td>\n",
       "    </tr>\n",
       "    <tr>\n",
       "      <th>3</th>\n",
       "      <td>Manage Search Engines मेनेज सार्स इन्जिनस) आव ...</td>\n",
       "    </tr>\n",
       "    <tr>\n",
       "      <th>4</th>\n",
       "      <td>आस्थाम आसिखौ ‘S’ हांखोनि सायाव दोन।</td>\n",
       "    </tr>\n",
       "  </tbody>\n",
       "</table>\n",
       "</div>"
      ],
      "text/plain": [
       "                                                text\n",
       "0                                     KTouch खौ खेव।\n",
       "1  tail hyphen f forward slash var slash log slas...\n",
       "2  दानिया input नि थुंगेनायखौ दिन्थिनो Enter key ...\n",
       "3  Manage Search Engines मेनेज सार्स इन्जिनस) आव ...\n",
       "4                आस्थाम आसिखौ ‘S’ हांखोनि सायाव दोन।"
      ]
     },
     "execution_count": 65,
     "metadata": {},
     "output_type": "execute_result"
    }
   ],
   "source": [
    "df5.head()"
   ]
  },
  {
   "cell_type": "code",
   "execution_count": 66,
   "id": "bdadde3c-2def-460a-916d-89cca0a432fa",
   "metadata": {},
   "outputs": [],
   "source": [
    "with open('datasets/Bodo/3bodo.txt') as f:\n",
    "    lines = f.readlines()"
   ]
  },
  {
   "cell_type": "code",
   "execution_count": 67,
   "id": "b037c5c1-80ac-4e80-a54e-ef450d8ec6c8",
   "metadata": {},
   "outputs": [],
   "source": [
    "df6 = pd.DataFrame(lines, columns=['text'])"
   ]
  },
  {
   "cell_type": "code",
   "execution_count": 68,
   "id": "1661d299-a288-4d06-b621-ff60412bb751",
   "metadata": {},
   "outputs": [
    {
     "data": {
      "text/html": [
       "<div>\n",
       "<style scoped>\n",
       "    .dataframe tbody tr th:only-of-type {\n",
       "        vertical-align: middle;\n",
       "    }\n",
       "\n",
       "    .dataframe tbody tr th {\n",
       "        vertical-align: top;\n",
       "    }\n",
       "\n",
       "    .dataframe thead th {\n",
       "        text-align: right;\n",
       "    }\n",
       "</style>\n",
       "<table border=\"1\" class=\"dataframe\">\n",
       "  <thead>\n",
       "    <tr style=\"text-align: right;\">\n",
       "      <th></th>\n",
       "      <th>text</th>\n",
       "    </tr>\n",
       "  </thead>\n",
       "  <tbody>\n",
       "    <tr>\n",
       "      <th>0</th>\n",
       "      <td>KTouch खौ खेव।\\n</td>\n",
       "    </tr>\n",
       "    <tr>\n",
       "      <th>1</th>\n",
       "      <td>tail hyphen f forward slash var slash log slas...</td>\n",
       "    </tr>\n",
       "    <tr>\n",
       "      <th>2</th>\n",
       "      <td>दानिया input नि थुंगेनायखौ दिन्थिनो Enter key ...</td>\n",
       "    </tr>\n",
       "    <tr>\n",
       "      <th>3</th>\n",
       "      <td>Manage Search Engines मेनेज सार्स इन्जिनस) आव ...</td>\n",
       "    </tr>\n",
       "    <tr>\n",
       "      <th>4</th>\n",
       "      <td>आस्थाम आसिखौ ‘S’ हांखोनि सायाव दोन।\\n</td>\n",
       "    </tr>\n",
       "  </tbody>\n",
       "</table>\n",
       "</div>"
      ],
      "text/plain": [
       "                                                text\n",
       "0                                   KTouch खौ खेव।\\n\n",
       "1  tail hyphen f forward slash var slash log slas...\n",
       "2  दानिया input नि थुंगेनायखौ दिन्थिनो Enter key ...\n",
       "3  Manage Search Engines मेनेज सार्स इन्जिनस) आव ...\n",
       "4              आस्थाम आसिखौ ‘S’ हांखोनि सायाव दोन।\\n"
      ]
     },
     "execution_count": 68,
     "metadata": {},
     "output_type": "execute_result"
    }
   ],
   "source": [
    "df6.head()"
   ]
  },
  {
   "cell_type": "code",
   "execution_count": 69,
   "id": "5deb95f1-4d97-4236-9b72-b77f8a043a1a",
   "metadata": {},
   "outputs": [],
   "source": [
    "df7 = pd.read_excel('datasets/Bodo/4.xlsx')"
   ]
  },
  {
   "cell_type": "code",
   "execution_count": 70,
   "id": "88201e9b-6e4c-4fe4-9ed3-76cc967b917b",
   "metadata": {},
   "outputs": [
    {
     "data": {
      "text/html": [
       "<div>\n",
       "<style scoped>\n",
       "    .dataframe tbody tr th:only-of-type {\n",
       "        vertical-align: middle;\n",
       "    }\n",
       "\n",
       "    .dataframe tbody tr th {\n",
       "        vertical-align: top;\n",
       "    }\n",
       "\n",
       "    .dataframe thead th {\n",
       "        text-align: right;\n",
       "    }\n",
       "</style>\n",
       "<table border=\"1\" class=\"dataframe\">\n",
       "  <thead>\n",
       "    <tr style=\"text-align: right;\">\n",
       "      <th></th>\n",
       "      <th>bodo_sent</th>\n",
       "      <th>eng_sent</th>\n",
       "    </tr>\n",
       "  </thead>\n",
       "  <tbody>\n",
       "    <tr>\n",
       "      <th>0</th>\n",
       "      <td>मा जाखो?</td>\n",
       "      <td>What happened?</td>\n",
       "    </tr>\n",
       "    <tr>\n",
       "      <th>1</th>\n",
       "      <td>बा बाथ्रा?</td>\n",
       "      <td>What’s the matter?</td>\n",
       "    </tr>\n",
       "    <tr>\n",
       "      <th>2</th>\n",
       "      <td>खोलानि काश्मीरा मुन्नार ।</td>\n",
       "      <td>Munnar the Kashmir of the South .</td>\n",
       "    </tr>\n",
       "    <tr>\n",
       "      <th>3</th>\n",
       "      <td>हाजो , बिलो , हाग्रा , साहा बागान , मसलाफोरनि ...</td>\n",
       "      <td>Surrounded from all four sides with an abundan...</td>\n",
       "    </tr>\n",
       "    <tr>\n",
       "      <th>4</th>\n",
       "      <td>ओरैबादि मोनदाङो दि मुन्नारनि समायनाखौ मिथिंगाय...</td>\n",
       "      <td>It appears that Nature also has maintained gre...</td>\n",
       "    </tr>\n",
       "  </tbody>\n",
       "</table>\n",
       "</div>"
      ],
      "text/plain": [
       "                                           bodo_sent  \\\n",
       "0                                           मा जाखो?   \n",
       "1                                         बा बाथ्रा?   \n",
       "2                          खोलानि काश्मीरा मुन्नार ।   \n",
       "3  हाजो , बिलो , हाग्रा , साहा बागान , मसलाफोरनि ...   \n",
       "4  ओरैबादि मोनदाङो दि मुन्नारनि समायनाखौ मिथिंगाय...   \n",
       "\n",
       "                                            eng_sent  \n",
       "0                                     What happened?  \n",
       "1                                 What’s the matter?  \n",
       "2                  Munnar the Kashmir of the South .  \n",
       "3  Surrounded from all four sides with an abundan...  \n",
       "4  It appears that Nature also has maintained gre...  "
      ]
     },
     "execution_count": 70,
     "metadata": {},
     "output_type": "execute_result"
    }
   ],
   "source": [
    "df7.head()"
   ]
  },
  {
   "cell_type": "code",
   "execution_count": 71,
   "id": "420fa991-7214-4516-b13b-be972cb12d98",
   "metadata": {},
   "outputs": [],
   "source": [
    "df7 = df7[['bodo_sent']]"
   ]
  },
  {
   "cell_type": "code",
   "execution_count": 72,
   "id": "1d56b1bf-58be-40a9-8971-cb87ed1fc400",
   "metadata": {},
   "outputs": [
    {
     "data": {
      "text/html": [
       "<div>\n",
       "<style scoped>\n",
       "    .dataframe tbody tr th:only-of-type {\n",
       "        vertical-align: middle;\n",
       "    }\n",
       "\n",
       "    .dataframe tbody tr th {\n",
       "        vertical-align: top;\n",
       "    }\n",
       "\n",
       "    .dataframe thead th {\n",
       "        text-align: right;\n",
       "    }\n",
       "</style>\n",
       "<table border=\"1\" class=\"dataframe\">\n",
       "  <thead>\n",
       "    <tr style=\"text-align: right;\">\n",
       "      <th></th>\n",
       "      <th>bodo_sent</th>\n",
       "    </tr>\n",
       "  </thead>\n",
       "  <tbody>\n",
       "    <tr>\n",
       "      <th>0</th>\n",
       "      <td>मा जाखो?</td>\n",
       "    </tr>\n",
       "    <tr>\n",
       "      <th>1</th>\n",
       "      <td>बा बाथ्रा?</td>\n",
       "    </tr>\n",
       "    <tr>\n",
       "      <th>2</th>\n",
       "      <td>खोलानि काश्मीरा मुन्नार ।</td>\n",
       "    </tr>\n",
       "    <tr>\n",
       "      <th>3</th>\n",
       "      <td>हाजो , बिलो , हाग्रा , साहा बागान , मसलाफोरनि ...</td>\n",
       "    </tr>\n",
       "    <tr>\n",
       "      <th>4</th>\n",
       "      <td>ओरैबादि मोनदाङो दि मुन्नारनि समायनाखौ मिथिंगाय...</td>\n",
       "    </tr>\n",
       "  </tbody>\n",
       "</table>\n",
       "</div>"
      ],
      "text/plain": [
       "                                           bodo_sent\n",
       "0                                           मा जाखो?\n",
       "1                                         बा बाथ्रा?\n",
       "2                          खोलानि काश्मीरा मुन्नार ।\n",
       "3  हाजो , बिलो , हाग्रा , साहा बागान , मसलाफोरनि ...\n",
       "4  ओरैबादि मोनदाङो दि मुन्नारनि समायनाखौ मिथिंगाय..."
      ]
     },
     "execution_count": 72,
     "metadata": {},
     "output_type": "execute_result"
    }
   ],
   "source": [
    "df7.head()"
   ]
  },
  {
   "cell_type": "code",
   "execution_count": 73,
   "id": "754daf96-6e59-4a2b-ae67-16f576cff921",
   "metadata": {},
   "outputs": [],
   "source": [
    "df7.rename(columns={\n",
    "    \"bodo_sent\": \"text\"\n",
    "}, inplace=True)"
   ]
  },
  {
   "cell_type": "code",
   "execution_count": 74,
   "id": "afe09720-9649-4a40-b2ef-a771ad5cf112",
   "metadata": {},
   "outputs": [
    {
     "data": {
      "text/html": [
       "<div>\n",
       "<style scoped>\n",
       "    .dataframe tbody tr th:only-of-type {\n",
       "        vertical-align: middle;\n",
       "    }\n",
       "\n",
       "    .dataframe tbody tr th {\n",
       "        vertical-align: top;\n",
       "    }\n",
       "\n",
       "    .dataframe thead th {\n",
       "        text-align: right;\n",
       "    }\n",
       "</style>\n",
       "<table border=\"1\" class=\"dataframe\">\n",
       "  <thead>\n",
       "    <tr style=\"text-align: right;\">\n",
       "      <th></th>\n",
       "      <th>text</th>\n",
       "    </tr>\n",
       "  </thead>\n",
       "  <tbody>\n",
       "    <tr>\n",
       "      <th>0</th>\n",
       "      <td>मा जाखो?</td>\n",
       "    </tr>\n",
       "    <tr>\n",
       "      <th>1</th>\n",
       "      <td>बा बाथ्रा?</td>\n",
       "    </tr>\n",
       "    <tr>\n",
       "      <th>2</th>\n",
       "      <td>खोलानि काश्मीरा मुन्नार ।</td>\n",
       "    </tr>\n",
       "    <tr>\n",
       "      <th>3</th>\n",
       "      <td>हाजो , बिलो , हाग्रा , साहा बागान , मसलाफोरनि ...</td>\n",
       "    </tr>\n",
       "    <tr>\n",
       "      <th>4</th>\n",
       "      <td>ओरैबादि मोनदाङो दि मुन्नारनि समायनाखौ मिथिंगाय...</td>\n",
       "    </tr>\n",
       "  </tbody>\n",
       "</table>\n",
       "</div>"
      ],
      "text/plain": [
       "                                                text\n",
       "0                                           मा जाखो?\n",
       "1                                         बा बाथ्रा?\n",
       "2                          खोलानि काश्मीरा मुन्नार ।\n",
       "3  हाजो , बिलो , हाग्रा , साहा बागान , मसलाफोरनि ...\n",
       "4  ओरैबादि मोनदाङो दि मुन्नारनि समायनाखौ मिथिंगाय..."
      ]
     },
     "execution_count": 74,
     "metadata": {},
     "output_type": "execute_result"
    }
   ],
   "source": [
    "df7.head()"
   ]
  },
  {
   "cell_type": "code",
   "execution_count": 75,
   "id": "3d286829-03c5-47f7-914e-e89b05c68709",
   "metadata": {},
   "outputs": [],
   "source": [
    "with open('datasets/Bodo/4bodo.txt') as f:\n",
    "    lines = f.readlines()"
   ]
  },
  {
   "cell_type": "code",
   "execution_count": 76,
   "id": "cf640fbd-d047-4585-a14e-4a526578c719",
   "metadata": {},
   "outputs": [],
   "source": [
    "df8 = pd.DataFrame(lines, columns=['text'])"
   ]
  },
  {
   "cell_type": "code",
   "execution_count": 77,
   "id": "103f8d1d-9525-45e2-b62b-73eca073623a",
   "metadata": {},
   "outputs": [
    {
     "data": {
      "text/html": [
       "<div>\n",
       "<style scoped>\n",
       "    .dataframe tbody tr th:only-of-type {\n",
       "        vertical-align: middle;\n",
       "    }\n",
       "\n",
       "    .dataframe tbody tr th {\n",
       "        vertical-align: top;\n",
       "    }\n",
       "\n",
       "    .dataframe thead th {\n",
       "        text-align: right;\n",
       "    }\n",
       "</style>\n",
       "<table border=\"1\" class=\"dataframe\">\n",
       "  <thead>\n",
       "    <tr style=\"text-align: right;\">\n",
       "      <th></th>\n",
       "      <th>text</th>\n",
       "    </tr>\n",
       "  </thead>\n",
       "  <tbody>\n",
       "    <tr>\n",
       "      <th>0</th>\n",
       "      <td>मा जाखो?\\n</td>\n",
       "    </tr>\n",
       "    <tr>\n",
       "      <th>1</th>\n",
       "      <td>बा बाथ्रा?\\n</td>\n",
       "    </tr>\n",
       "    <tr>\n",
       "      <th>2</th>\n",
       "      <td>खोलानि काश्मीरा मुन्नार ।\\n</td>\n",
       "    </tr>\n",
       "    <tr>\n",
       "      <th>3</th>\n",
       "      <td>हाजो , बिलो , हाग्रा , साहा बागान , मसलाफोरनि ...</td>\n",
       "    </tr>\n",
       "    <tr>\n",
       "      <th>4</th>\n",
       "      <td>ओरैबादि मोनदाङो दि मुन्नारनि समायनाखौ मिथिंगाय...</td>\n",
       "    </tr>\n",
       "  </tbody>\n",
       "</table>\n",
       "</div>"
      ],
      "text/plain": [
       "                                                text\n",
       "0                                         मा जाखो?\\n\n",
       "1                                       बा बाथ्रा?\\n\n",
       "2                        खोलानि काश्मीरा मुन्नार ।\\n\n",
       "3  हाजो , बिलो , हाग्रा , साहा बागान , मसलाफोरनि ...\n",
       "4  ओरैबादि मोनदाङो दि मुन्नारनि समायनाखौ मिथिंगाय..."
      ]
     },
     "execution_count": 77,
     "metadata": {},
     "output_type": "execute_result"
    }
   ],
   "source": [
    "df8.head()"
   ]
  },
  {
   "cell_type": "code",
   "execution_count": 78,
   "id": "bcb5e15a-7385-4647-8522-75aaa6c66fde",
   "metadata": {},
   "outputs": [],
   "source": [
    "df9 = pd.read_excel('datasets/Bodo/5.xlsx')"
   ]
  },
  {
   "cell_type": "code",
   "execution_count": 79,
   "id": "6c68f4cd-391d-4c12-992e-e4bb08d0436c",
   "metadata": {},
   "outputs": [
    {
     "data": {
      "text/html": [
       "<div>\n",
       "<style scoped>\n",
       "    .dataframe tbody tr th:only-of-type {\n",
       "        vertical-align: middle;\n",
       "    }\n",
       "\n",
       "    .dataframe tbody tr th {\n",
       "        vertical-align: top;\n",
       "    }\n",
       "\n",
       "    .dataframe thead th {\n",
       "        text-align: right;\n",
       "    }\n",
       "</style>\n",
       "<table border=\"1\" class=\"dataframe\">\n",
       "  <thead>\n",
       "    <tr style=\"text-align: right;\">\n",
       "      <th></th>\n",
       "      <th>bodo_sent</th>\n",
       "      <th>eng_sent</th>\n",
       "    </tr>\n",
       "  </thead>\n",
       "  <tbody>\n",
       "    <tr>\n",
       "      <th>0</th>\n",
       "      <td>दि ग्रेन्टा केनियन स्टेट एबा कपार स्टेट एरिजना...</td>\n",
       "      <td>The Grand Canyon State or Copper State, Arizon...</td>\n",
       "    </tr>\n",
       "    <tr>\n",
       "      <th>1</th>\n",
       "      <td>हां-लानाय हगारनाय सावस्रिनि जेंना थानाय एबा दा...</td>\n",
       "      <td>Arizonaâ€™s clean, clear, dry air and warm wea...</td>\n",
       "    </tr>\n",
       "    <tr>\n",
       "      <th>2</th>\n",
       "      <td>थांनाय थामजि बोसोराव हादरसानि सुबुं अनजिमाया थ...</td>\n",
       "      <td>The stateâ€™s population has tripled in the la...</td>\n",
       "    </tr>\n",
       "    <tr>\n",
       "      <th>3</th>\n",
       "      <td>आथिखालाव मोनथाम एरिजनानसनि मादाव मोनसेया बुमिं...</td>\n",
       "      <td>Today, one out of three Arizonans live in boom...</td>\n",
       "    </tr>\n",
       "    <tr>\n",
       "      <th>4</th>\n",
       "      <td>हादरारि पार्क आरो गोजाम नेर्सोनफोरनि मादाव एरि...</td>\n",
       "      <td>National Parks &amp; Monuments in Arizona include ...</td>\n",
       "    </tr>\n",
       "  </tbody>\n",
       "</table>\n",
       "</div>"
      ],
      "text/plain": [
       "                                           bodo_sent  \\\n",
       "0  दि ग्रेन्टा केनियन स्टेट एबा कपार स्टेट एरिजना...   \n",
       "1  हां-लानाय हगारनाय सावस्रिनि जेंना थानाय एबा दा...   \n",
       "2  थांनाय थामजि बोसोराव हादरसानि सुबुं अनजिमाया थ...   \n",
       "3  आथिखालाव मोनथाम एरिजनानसनि मादाव मोनसेया बुमिं...   \n",
       "4  हादरारि पार्क आरो गोजाम नेर्सोनफोरनि मादाव एरि...   \n",
       "\n",
       "                                            eng_sent  \n",
       "0  The Grand Canyon State or Copper State, Arizon...  \n",
       "1  Arizonaâ€™s clean, clear, dry air and warm wea...  \n",
       "2  The stateâ€™s population has tripled in the la...  \n",
       "3  Today, one out of three Arizonans live in boom...  \n",
       "4  National Parks & Monuments in Arizona include ...  "
      ]
     },
     "execution_count": 79,
     "metadata": {},
     "output_type": "execute_result"
    }
   ],
   "source": [
    "df9.head()"
   ]
  },
  {
   "cell_type": "code",
   "execution_count": 80,
   "id": "b86834e9-c2cf-4482-aa6b-3123f2c58c4a",
   "metadata": {},
   "outputs": [],
   "source": [
    "df9 = df9[['bodo_sent']]"
   ]
  },
  {
   "cell_type": "code",
   "execution_count": 81,
   "id": "b6279834-cec2-404d-9ee0-505726f66591",
   "metadata": {},
   "outputs": [
    {
     "data": {
      "text/html": [
       "<div>\n",
       "<style scoped>\n",
       "    .dataframe tbody tr th:only-of-type {\n",
       "        vertical-align: middle;\n",
       "    }\n",
       "\n",
       "    .dataframe tbody tr th {\n",
       "        vertical-align: top;\n",
       "    }\n",
       "\n",
       "    .dataframe thead th {\n",
       "        text-align: right;\n",
       "    }\n",
       "</style>\n",
       "<table border=\"1\" class=\"dataframe\">\n",
       "  <thead>\n",
       "    <tr style=\"text-align: right;\">\n",
       "      <th></th>\n",
       "      <th>bodo_sent</th>\n",
       "    </tr>\n",
       "  </thead>\n",
       "  <tbody>\n",
       "    <tr>\n",
       "      <th>0</th>\n",
       "      <td>दि ग्रेन्टा केनियन स्टेट एबा कपार स्टेट एरिजना...</td>\n",
       "    </tr>\n",
       "    <tr>\n",
       "      <th>1</th>\n",
       "      <td>हां-लानाय हगारनाय सावस्रिनि जेंना थानाय एबा दा...</td>\n",
       "    </tr>\n",
       "    <tr>\n",
       "      <th>2</th>\n",
       "      <td>थांनाय थामजि बोसोराव हादरसानि सुबुं अनजिमाया थ...</td>\n",
       "    </tr>\n",
       "    <tr>\n",
       "      <th>3</th>\n",
       "      <td>आथिखालाव मोनथाम एरिजनानसनि मादाव मोनसेया बुमिं...</td>\n",
       "    </tr>\n",
       "    <tr>\n",
       "      <th>4</th>\n",
       "      <td>हादरारि पार्क आरो गोजाम नेर्सोनफोरनि मादाव एरि...</td>\n",
       "    </tr>\n",
       "  </tbody>\n",
       "</table>\n",
       "</div>"
      ],
      "text/plain": [
       "                                           bodo_sent\n",
       "0  दि ग्रेन्टा केनियन स्टेट एबा कपार स्टेट एरिजना...\n",
       "1  हां-लानाय हगारनाय सावस्रिनि जेंना थानाय एबा दा...\n",
       "2  थांनाय थामजि बोसोराव हादरसानि सुबुं अनजिमाया थ...\n",
       "3  आथिखालाव मोनथाम एरिजनानसनि मादाव मोनसेया बुमिं...\n",
       "4  हादरारि पार्क आरो गोजाम नेर्सोनफोरनि मादाव एरि..."
      ]
     },
     "execution_count": 81,
     "metadata": {},
     "output_type": "execute_result"
    }
   ],
   "source": [
    "df9.head()"
   ]
  },
  {
   "cell_type": "code",
   "execution_count": 82,
   "id": "dd39338f-6ddb-4935-ad02-da901437da0f",
   "metadata": {},
   "outputs": [],
   "source": [
    "df9.rename(columns={\n",
    "    \"bodo_sent\": \"text\"\n",
    "}, inplace=True)"
   ]
  },
  {
   "cell_type": "code",
   "execution_count": 83,
   "id": "a28668cf-4983-464c-a94b-5dc4958b2015",
   "metadata": {},
   "outputs": [
    {
     "data": {
      "text/html": [
       "<div>\n",
       "<style scoped>\n",
       "    .dataframe tbody tr th:only-of-type {\n",
       "        vertical-align: middle;\n",
       "    }\n",
       "\n",
       "    .dataframe tbody tr th {\n",
       "        vertical-align: top;\n",
       "    }\n",
       "\n",
       "    .dataframe thead th {\n",
       "        text-align: right;\n",
       "    }\n",
       "</style>\n",
       "<table border=\"1\" class=\"dataframe\">\n",
       "  <thead>\n",
       "    <tr style=\"text-align: right;\">\n",
       "      <th></th>\n",
       "      <th>text</th>\n",
       "    </tr>\n",
       "  </thead>\n",
       "  <tbody>\n",
       "    <tr>\n",
       "      <th>0</th>\n",
       "      <td>दि ग्रेन्टा केनियन स्टेट एबा कपार स्टेट एरिजना...</td>\n",
       "    </tr>\n",
       "    <tr>\n",
       "      <th>1</th>\n",
       "      <td>हां-लानाय हगारनाय सावस्रिनि जेंना थानाय एबा दा...</td>\n",
       "    </tr>\n",
       "    <tr>\n",
       "      <th>2</th>\n",
       "      <td>थांनाय थामजि बोसोराव हादरसानि सुबुं अनजिमाया थ...</td>\n",
       "    </tr>\n",
       "    <tr>\n",
       "      <th>3</th>\n",
       "      <td>आथिखालाव मोनथाम एरिजनानसनि मादाव मोनसेया बुमिं...</td>\n",
       "    </tr>\n",
       "    <tr>\n",
       "      <th>4</th>\n",
       "      <td>हादरारि पार्क आरो गोजाम नेर्सोनफोरनि मादाव एरि...</td>\n",
       "    </tr>\n",
       "  </tbody>\n",
       "</table>\n",
       "</div>"
      ],
      "text/plain": [
       "                                                text\n",
       "0  दि ग्रेन्टा केनियन स्टेट एबा कपार स्टेट एरिजना...\n",
       "1  हां-लानाय हगारनाय सावस्रिनि जेंना थानाय एबा दा...\n",
       "2  थांनाय थामजि बोसोराव हादरसानि सुबुं अनजिमाया थ...\n",
       "3  आथिखालाव मोनथाम एरिजनानसनि मादाव मोनसेया बुमिं...\n",
       "4  हादरारि पार्क आरो गोजाम नेर्सोनफोरनि मादाव एरि..."
      ]
     },
     "execution_count": 83,
     "metadata": {},
     "output_type": "execute_result"
    }
   ],
   "source": [
    "df9.head()"
   ]
  },
  {
   "cell_type": "code",
   "execution_count": 84,
   "id": "35b809c0-bd10-4646-9987-6ab72eeca083",
   "metadata": {},
   "outputs": [],
   "source": [
    "df10 = pd.read_excel('datasets/Bodo/6.xlsx')"
   ]
  },
  {
   "cell_type": "code",
   "execution_count": 85,
   "id": "fd78e541-a20a-4484-ae64-36d975e42412",
   "metadata": {},
   "outputs": [
    {
     "data": {
      "text/html": [
       "<div>\n",
       "<style scoped>\n",
       "    .dataframe tbody tr th:only-of-type {\n",
       "        vertical-align: middle;\n",
       "    }\n",
       "\n",
       "    .dataframe tbody tr th {\n",
       "        vertical-align: top;\n",
       "    }\n",
       "\n",
       "    .dataframe thead th {\n",
       "        text-align: right;\n",
       "    }\n",
       "</style>\n",
       "<table border=\"1\" class=\"dataframe\">\n",
       "  <thead>\n",
       "    <tr style=\"text-align: right;\">\n",
       "      <th></th>\n",
       "      <th>bodo_sent</th>\n",
       "      <th>eng_sent</th>\n",
       "    </tr>\n",
       "  </thead>\n",
       "  <tbody>\n",
       "    <tr>\n",
       "      <th>0</th>\n",
       "      <td>हादोरा बुहुमनि जौसिन दै बाज्रुम एंगोल दै बाज्र...</td>\n",
       "      <td>The country is home to the world's highest wat...</td>\n",
       "    </tr>\n",
       "    <tr>\n",
       "      <th>1</th>\n",
       "      <td>काराकास राजथावनिया समायना जारिनिनारि समायना खा...</td>\n",
       "      <td>The capital, Caracas, boasts fine historical m...</td>\n",
       "    </tr>\n",
       "    <tr>\n",
       "      <th>2</th>\n",
       "      <td>बे हादरनि नायथिंग्राफोरा मोनसे गोजोन रोंगौथिनि...</td>\n",
       "      <td>Visitors to this country have the choice of a ...</td>\n",
       "    </tr>\n",
       "    <tr>\n",
       "      <th>3</th>\n",
       "      <td>बिसोर गोजौनि बबेबा मोनसे एबा गासैबो बाहागोआवनो...</td>\n",
       "      <td>Whether they wish to experience one, or all of...</td>\n",
       "    </tr>\n",
       "    <tr>\n",
       "      <th>4</th>\n",
       "      <td>फ्राय 500 बोसोर स्पेनिस देरहागिरिफोरनि गोहोमखौ...</td>\n",
       "      <td>Almost 500 years on, the impact of Spanish con...</td>\n",
       "    </tr>\n",
       "  </tbody>\n",
       "</table>\n",
       "</div>"
      ],
      "text/plain": [
       "                                           bodo_sent  \\\n",
       "0  हादोरा बुहुमनि जौसिन दै बाज्रुम एंगोल दै बाज्र...   \n",
       "1  काराकास राजथावनिया समायना जारिनिनारि समायना खा...   \n",
       "2  बे हादरनि नायथिंग्राफोरा मोनसे गोजोन रोंगौथिनि...   \n",
       "3  बिसोर गोजौनि बबेबा मोनसे एबा गासैबो बाहागोआवनो...   \n",
       "4  फ्राय 500 बोसोर स्पेनिस देरहागिरिफोरनि गोहोमखौ...   \n",
       "\n",
       "                                            eng_sent  \n",
       "0  The country is home to the world's highest wat...  \n",
       "1  The capital, Caracas, boasts fine historical m...  \n",
       "2  Visitors to this country have the choice of a ...  \n",
       "3  Whether they wish to experience one, or all of...  \n",
       "4  Almost 500 years on, the impact of Spanish con...  "
      ]
     },
     "execution_count": 85,
     "metadata": {},
     "output_type": "execute_result"
    }
   ],
   "source": [
    "df10.head()"
   ]
  },
  {
   "cell_type": "code",
   "execution_count": 86,
   "id": "c1eaffe0-bec9-4165-8e73-b387e9613b8f",
   "metadata": {},
   "outputs": [],
   "source": [
    "df10 = df10[['bodo_sent']]"
   ]
  },
  {
   "cell_type": "code",
   "execution_count": 87,
   "id": "4b90d961-e597-4e57-9fa3-725073997383",
   "metadata": {},
   "outputs": [
    {
     "data": {
      "text/html": [
       "<div>\n",
       "<style scoped>\n",
       "    .dataframe tbody tr th:only-of-type {\n",
       "        vertical-align: middle;\n",
       "    }\n",
       "\n",
       "    .dataframe tbody tr th {\n",
       "        vertical-align: top;\n",
       "    }\n",
       "\n",
       "    .dataframe thead th {\n",
       "        text-align: right;\n",
       "    }\n",
       "</style>\n",
       "<table border=\"1\" class=\"dataframe\">\n",
       "  <thead>\n",
       "    <tr style=\"text-align: right;\">\n",
       "      <th></th>\n",
       "      <th>bodo_sent</th>\n",
       "    </tr>\n",
       "  </thead>\n",
       "  <tbody>\n",
       "    <tr>\n",
       "      <th>0</th>\n",
       "      <td>हादोरा बुहुमनि जौसिन दै बाज्रुम एंगोल दै बाज्र...</td>\n",
       "    </tr>\n",
       "    <tr>\n",
       "      <th>1</th>\n",
       "      <td>काराकास राजथावनिया समायना जारिनिनारि समायना खा...</td>\n",
       "    </tr>\n",
       "    <tr>\n",
       "      <th>2</th>\n",
       "      <td>बे हादरनि नायथिंग्राफोरा मोनसे गोजोन रोंगौथिनि...</td>\n",
       "    </tr>\n",
       "    <tr>\n",
       "      <th>3</th>\n",
       "      <td>बिसोर गोजौनि बबेबा मोनसे एबा गासैबो बाहागोआवनो...</td>\n",
       "    </tr>\n",
       "    <tr>\n",
       "      <th>4</th>\n",
       "      <td>फ्राय 500 बोसोर स्पेनिस देरहागिरिफोरनि गोहोमखौ...</td>\n",
       "    </tr>\n",
       "  </tbody>\n",
       "</table>\n",
       "</div>"
      ],
      "text/plain": [
       "                                           bodo_sent\n",
       "0  हादोरा बुहुमनि जौसिन दै बाज्रुम एंगोल दै बाज्र...\n",
       "1  काराकास राजथावनिया समायना जारिनिनारि समायना खा...\n",
       "2  बे हादरनि नायथिंग्राफोरा मोनसे गोजोन रोंगौथिनि...\n",
       "3  बिसोर गोजौनि बबेबा मोनसे एबा गासैबो बाहागोआवनो...\n",
       "4  फ्राय 500 बोसोर स्पेनिस देरहागिरिफोरनि गोहोमखौ..."
      ]
     },
     "execution_count": 87,
     "metadata": {},
     "output_type": "execute_result"
    }
   ],
   "source": [
    "df10.head()"
   ]
  },
  {
   "cell_type": "code",
   "execution_count": 88,
   "id": "a187975c-1c52-4233-80f8-ed6176f809a8",
   "metadata": {},
   "outputs": [],
   "source": [
    "df10.rename(columns={\n",
    "    'bodo_sent': 'text'\n",
    "}, inplace=True)"
   ]
  },
  {
   "cell_type": "code",
   "execution_count": 89,
   "id": "6a025982-bd24-4fa8-bf60-bdb83f71cddc",
   "metadata": {},
   "outputs": [
    {
     "data": {
      "text/html": [
       "<div>\n",
       "<style scoped>\n",
       "    .dataframe tbody tr th:only-of-type {\n",
       "        vertical-align: middle;\n",
       "    }\n",
       "\n",
       "    .dataframe tbody tr th {\n",
       "        vertical-align: top;\n",
       "    }\n",
       "\n",
       "    .dataframe thead th {\n",
       "        text-align: right;\n",
       "    }\n",
       "</style>\n",
       "<table border=\"1\" class=\"dataframe\">\n",
       "  <thead>\n",
       "    <tr style=\"text-align: right;\">\n",
       "      <th></th>\n",
       "      <th>text</th>\n",
       "    </tr>\n",
       "  </thead>\n",
       "  <tbody>\n",
       "    <tr>\n",
       "      <th>0</th>\n",
       "      <td>हादोरा बुहुमनि जौसिन दै बाज्रुम एंगोल दै बाज्र...</td>\n",
       "    </tr>\n",
       "    <tr>\n",
       "      <th>1</th>\n",
       "      <td>काराकास राजथावनिया समायना जारिनिनारि समायना खा...</td>\n",
       "    </tr>\n",
       "    <tr>\n",
       "      <th>2</th>\n",
       "      <td>बे हादरनि नायथिंग्राफोरा मोनसे गोजोन रोंगौथिनि...</td>\n",
       "    </tr>\n",
       "    <tr>\n",
       "      <th>3</th>\n",
       "      <td>बिसोर गोजौनि बबेबा मोनसे एबा गासैबो बाहागोआवनो...</td>\n",
       "    </tr>\n",
       "    <tr>\n",
       "      <th>4</th>\n",
       "      <td>फ्राय 500 बोसोर स्पेनिस देरहागिरिफोरनि गोहोमखौ...</td>\n",
       "    </tr>\n",
       "  </tbody>\n",
       "</table>\n",
       "</div>"
      ],
      "text/plain": [
       "                                                text\n",
       "0  हादोरा बुहुमनि जौसिन दै बाज्रुम एंगोल दै बाज्र...\n",
       "1  काराकास राजथावनिया समायना जारिनिनारि समायना खा...\n",
       "2  बे हादरनि नायथिंग्राफोरा मोनसे गोजोन रोंगौथिनि...\n",
       "3  बिसोर गोजौनि बबेबा मोनसे एबा गासैबो बाहागोआवनो...\n",
       "4  फ्राय 500 बोसोर स्पेनिस देरहागिरिफोरनि गोहोमखौ..."
      ]
     },
     "execution_count": 89,
     "metadata": {},
     "output_type": "execute_result"
    }
   ],
   "source": [
    "df10.head()"
   ]
  },
  {
   "cell_type": "code",
   "execution_count": 90,
   "id": "517105f1-f095-4f76-87c5-2abdcd775a35",
   "metadata": {},
   "outputs": [],
   "source": [
    "df11 = pd.read_csv('datasets/Bodo/7.csv')"
   ]
  },
  {
   "cell_type": "code",
   "execution_count": 91,
   "id": "1f6a74b5-0c14-41df-a5d2-ffb72c36335f",
   "metadata": {},
   "outputs": [
    {
     "data": {
      "text/html": [
       "<div>\n",
       "<style scoped>\n",
       "    .dataframe tbody tr th:only-of-type {\n",
       "        vertical-align: middle;\n",
       "    }\n",
       "\n",
       "    .dataframe tbody tr th {\n",
       "        vertical-align: top;\n",
       "    }\n",
       "\n",
       "    .dataframe thead th {\n",
       "        text-align: right;\n",
       "    }\n",
       "</style>\n",
       "<table border=\"1\" class=\"dataframe\">\n",
       "  <thead>\n",
       "    <tr style=\"text-align: right;\">\n",
       "      <th></th>\n",
       "      <th>ENGLISH</th>\n",
       "      <th>bodo</th>\n",
       "    </tr>\n",
       "  </thead>\n",
       "  <tbody>\n",
       "    <tr>\n",
       "      <th>0</th>\n",
       "      <td>Two of the best trains viz. Shatabdi express (...</td>\n",
       "      <td>रोखोमनै साबसिन त्रेइन जेरै- सताबदि अक्सप्रेस (...</td>\n",
       "    </tr>\n",
       "    <tr>\n",
       "      <th>1</th>\n",
       "      <td>Agra, on cross roads of national highways 2, 3...</td>\n",
       "      <td>राजा लामानि 2, 3, आरो 11 आ आग्रासिम थांनो थाखा...</td>\n",
       "    </tr>\n",
       "    <tr>\n",
       "      <th>2</th>\n",
       "      <td>Kheria Airport (Airport of Agra) is about 6 km...</td>\n",
       "      <td>सेरिया बिरखं गाथोना (आग्रानि बिरखं गाथोन) आरो ...</td>\n",
       "    </tr>\n",
       "    <tr>\n",
       "      <th>3</th>\n",
       "      <td>Agra is well connected by excellent train serv...</td>\n",
       "      <td>आग्रानिफअराय दिल्लीसिम थांनो थाखाय त्रेइननि फो...</td>\n",
       "    </tr>\n",
       "    <tr>\n",
       "      <th>4</th>\n",
       "      <td>Agra is the one of the prominent destinations ...</td>\n",
       "      <td>बुहुमनि दावबायारिफोरनि थाखाय आग्रानि मुंदांखा ...</td>\n",
       "    </tr>\n",
       "  </tbody>\n",
       "</table>\n",
       "</div>"
      ],
      "text/plain": [
       "                                             ENGLISH  \\\n",
       "0  Two of the best trains viz. Shatabdi express (...   \n",
       "1  Agra, on cross roads of national highways 2, 3...   \n",
       "2  Kheria Airport (Airport of Agra) is about 6 km...   \n",
       "3  Agra is well connected by excellent train serv...   \n",
       "4  Agra is the one of the prominent destinations ...   \n",
       "\n",
       "                                                bodo  \n",
       "0  रोखोमनै साबसिन त्रेइन जेरै- सताबदि अक्सप्रेस (...  \n",
       "1  राजा लामानि 2, 3, आरो 11 आ आग्रासिम थांनो थाखा...  \n",
       "2  सेरिया बिरखं गाथोना (आग्रानि बिरखं गाथोन) आरो ...  \n",
       "3  आग्रानिफअराय दिल्लीसिम थांनो थाखाय त्रेइननि फो...  \n",
       "4  बुहुमनि दावबायारिफोरनि थाखाय आग्रानि मुंदांखा ...  "
      ]
     },
     "execution_count": 91,
     "metadata": {},
     "output_type": "execute_result"
    }
   ],
   "source": [
    "df11.head()"
   ]
  },
  {
   "cell_type": "code",
   "execution_count": 92,
   "id": "ebc05706-77a5-412a-99f6-732d5a61c0b8",
   "metadata": {},
   "outputs": [],
   "source": [
    "df11 = df11[['bodo']]"
   ]
  },
  {
   "cell_type": "code",
   "execution_count": 93,
   "id": "f6845fd5-8e71-4fd4-a0ac-077007832fdd",
   "metadata": {},
   "outputs": [
    {
     "data": {
      "text/html": [
       "<div>\n",
       "<style scoped>\n",
       "    .dataframe tbody tr th:only-of-type {\n",
       "        vertical-align: middle;\n",
       "    }\n",
       "\n",
       "    .dataframe tbody tr th {\n",
       "        vertical-align: top;\n",
       "    }\n",
       "\n",
       "    .dataframe thead th {\n",
       "        text-align: right;\n",
       "    }\n",
       "</style>\n",
       "<table border=\"1\" class=\"dataframe\">\n",
       "  <thead>\n",
       "    <tr style=\"text-align: right;\">\n",
       "      <th></th>\n",
       "      <th>bodo</th>\n",
       "    </tr>\n",
       "  </thead>\n",
       "  <tbody>\n",
       "    <tr>\n",
       "      <th>0</th>\n",
       "      <td>रोखोमनै साबसिन त्रेइन जेरै- सताबदि अक्सप्रेस (...</td>\n",
       "    </tr>\n",
       "    <tr>\n",
       "      <th>1</th>\n",
       "      <td>राजा लामानि 2, 3, आरो 11 आ आग्रासिम थांनो थाखा...</td>\n",
       "    </tr>\n",
       "    <tr>\n",
       "      <th>2</th>\n",
       "      <td>सेरिया बिरखं गाथोना (आग्रानि बिरखं गाथोन) आरो ...</td>\n",
       "    </tr>\n",
       "    <tr>\n",
       "      <th>3</th>\n",
       "      <td>आग्रानिफअराय दिल्लीसिम थांनो थाखाय त्रेइननि फो...</td>\n",
       "    </tr>\n",
       "    <tr>\n",
       "      <th>4</th>\n",
       "      <td>बुहुमनि दावबायारिफोरनि थाखाय आग्रानि मुंदांखा ...</td>\n",
       "    </tr>\n",
       "  </tbody>\n",
       "</table>\n",
       "</div>"
      ],
      "text/plain": [
       "                                                bodo\n",
       "0  रोखोमनै साबसिन त्रेइन जेरै- सताबदि अक्सप्रेस (...\n",
       "1  राजा लामानि 2, 3, आरो 11 आ आग्रासिम थांनो थाखा...\n",
       "2  सेरिया बिरखं गाथोना (आग्रानि बिरखं गाथोन) आरो ...\n",
       "3  आग्रानिफअराय दिल्लीसिम थांनो थाखाय त्रेइननि फो...\n",
       "4  बुहुमनि दावबायारिफोरनि थाखाय आग्रानि मुंदांखा ..."
      ]
     },
     "execution_count": 93,
     "metadata": {},
     "output_type": "execute_result"
    }
   ],
   "source": [
    "df11.head()"
   ]
  },
  {
   "cell_type": "code",
   "execution_count": 94,
   "id": "93219afe-0945-4704-94ae-d5edc212dfe7",
   "metadata": {},
   "outputs": [],
   "source": [
    "df11.rename(columns={\n",
    "    'bodo': 'text'\n",
    "}, inplace=True)"
   ]
  },
  {
   "cell_type": "code",
   "execution_count": 95,
   "id": "82b83ad8-3311-45bb-b57f-941f1c9ffde5",
   "metadata": {},
   "outputs": [
    {
     "data": {
      "text/html": [
       "<div>\n",
       "<style scoped>\n",
       "    .dataframe tbody tr th:only-of-type {\n",
       "        vertical-align: middle;\n",
       "    }\n",
       "\n",
       "    .dataframe tbody tr th {\n",
       "        vertical-align: top;\n",
       "    }\n",
       "\n",
       "    .dataframe thead th {\n",
       "        text-align: right;\n",
       "    }\n",
       "</style>\n",
       "<table border=\"1\" class=\"dataframe\">\n",
       "  <thead>\n",
       "    <tr style=\"text-align: right;\">\n",
       "      <th></th>\n",
       "      <th>text</th>\n",
       "    </tr>\n",
       "  </thead>\n",
       "  <tbody>\n",
       "    <tr>\n",
       "      <th>0</th>\n",
       "      <td>रोखोमनै साबसिन त्रेइन जेरै- सताबदि अक्सप्रेस (...</td>\n",
       "    </tr>\n",
       "    <tr>\n",
       "      <th>1</th>\n",
       "      <td>राजा लामानि 2, 3, आरो 11 आ आग्रासिम थांनो थाखा...</td>\n",
       "    </tr>\n",
       "    <tr>\n",
       "      <th>2</th>\n",
       "      <td>सेरिया बिरखं गाथोना (आग्रानि बिरखं गाथोन) आरो ...</td>\n",
       "    </tr>\n",
       "    <tr>\n",
       "      <th>3</th>\n",
       "      <td>आग्रानिफअराय दिल्लीसिम थांनो थाखाय त्रेइननि फो...</td>\n",
       "    </tr>\n",
       "    <tr>\n",
       "      <th>4</th>\n",
       "      <td>बुहुमनि दावबायारिफोरनि थाखाय आग्रानि मुंदांखा ...</td>\n",
       "    </tr>\n",
       "  </tbody>\n",
       "</table>\n",
       "</div>"
      ],
      "text/plain": [
       "                                                text\n",
       "0  रोखोमनै साबसिन त्रेइन जेरै- सताबदि अक्सप्रेस (...\n",
       "1  राजा लामानि 2, 3, आरो 11 आ आग्रासिम थांनो थाखा...\n",
       "2  सेरिया बिरखं गाथोना (आग्रानि बिरखं गाथोन) आरो ...\n",
       "3  आग्रानिफअराय दिल्लीसिम थांनो थाखाय त्रेइननि फो...\n",
       "4  बुहुमनि दावबायारिफोरनि थाखाय आग्रानि मुंदांखा ..."
      ]
     },
     "execution_count": 95,
     "metadata": {},
     "output_type": "execute_result"
    }
   ],
   "source": [
    "df11.head()"
   ]
  },
  {
   "cell_type": "code",
   "execution_count": 96,
   "id": "9b7a8eed-69d0-487b-829b-539d4973cc39",
   "metadata": {},
   "outputs": [],
   "source": [
    "df12 = pd.read_csv('datasets/Bodo/bodo-mono.csv', header=None, names=['text'])"
   ]
  },
  {
   "cell_type": "code",
   "execution_count": 97,
   "id": "a12c7337-d0ed-4050-b3b7-6158b489dc5f",
   "metadata": {},
   "outputs": [
    {
     "data": {
      "text/html": [
       "<div>\n",
       "<style scoped>\n",
       "    .dataframe tbody tr th:only-of-type {\n",
       "        vertical-align: middle;\n",
       "    }\n",
       "\n",
       "    .dataframe tbody tr th {\n",
       "        vertical-align: top;\n",
       "    }\n",
       "\n",
       "    .dataframe thead th {\n",
       "        text-align: right;\n",
       "    }\n",
       "</style>\n",
       "<table border=\"1\" class=\"dataframe\">\n",
       "  <thead>\n",
       "    <tr style=\"text-align: right;\">\n",
       "      <th></th>\n",
       "      <th>text</th>\n",
       "    </tr>\n",
       "  </thead>\n",
       "  <tbody>\n",
       "    <tr>\n",
       "      <th>0</th>\n",
       "      <td>जोनोम लायि</td>\n",
       "    </tr>\n",
       "    <tr>\n",
       "      <th>1</th>\n",
       "      <td>जोनोम लायै</td>\n",
       "    </tr>\n",
       "    <tr>\n",
       "      <th>2</th>\n",
       "      <td>उजियि</td>\n",
       "    </tr>\n",
       "    <tr>\n",
       "      <th>3</th>\n",
       "      <td>उजियै</td>\n",
       "    </tr>\n",
       "    <tr>\n",
       "      <th>4</th>\n",
       "      <td>हाबि</td>\n",
       "    </tr>\n",
       "  </tbody>\n",
       "</table>\n",
       "</div>"
      ],
      "text/plain": [
       "         text\n",
       "0  जोनोम लायि\n",
       "1  जोनोम लायै\n",
       "2       उजियि\n",
       "3       उजियै\n",
       "4        हाबि"
      ]
     },
     "execution_count": 97,
     "metadata": {},
     "output_type": "execute_result"
    }
   ],
   "source": [
    "df12.head()"
   ]
  },
  {
   "cell_type": "code",
   "execution_count": 98,
   "id": "198694c6-ec81-4239-9983-99354bd9617d",
   "metadata": {},
   "outputs": [],
   "source": [
    "data = pd.concat([df1, df2, df3, df4, df5, df6, df7, df8, df9, df10, df11, df12])"
   ]
  },
  {
   "cell_type": "code",
   "execution_count": 99,
   "id": "9522827c-07ee-446c-b942-14d7fb7258ae",
   "metadata": {},
   "outputs": [
    {
     "data": {
      "text/plain": [
       "(279187, 1)"
      ]
     },
     "execution_count": 99,
     "metadata": {},
     "output_type": "execute_result"
    }
   ],
   "source": [
    "data.shape"
   ]
  },
  {
   "cell_type": "code",
   "execution_count": 100,
   "id": "d83f5e53-a3eb-4cd7-a101-a54abc0d4290",
   "metadata": {},
   "outputs": [
    {
     "data": {
      "text/plain": [
       "text    606\n",
       "dtype: int64"
      ]
     },
     "execution_count": 100,
     "metadata": {},
     "output_type": "execute_result"
    }
   ],
   "source": [
    "data.isna().sum()"
   ]
  },
  {
   "cell_type": "code",
   "execution_count": 101,
   "id": "7b2e32de-e006-4fab-95ea-a3d4325dcb73",
   "metadata": {},
   "outputs": [],
   "source": [
    "data.dropna(inplace=True)"
   ]
  },
  {
   "cell_type": "code",
   "execution_count": 102,
   "id": "6c678e78-e9b3-40d2-a601-1016d26f5b97",
   "metadata": {},
   "outputs": [
    {
     "data": {
      "text/plain": [
       "(278581, 1)"
      ]
     },
     "execution_count": 102,
     "metadata": {},
     "output_type": "execute_result"
    }
   ],
   "source": [
    "data.shape"
   ]
  },
  {
   "cell_type": "code",
   "execution_count": 103,
   "id": "cfe9b085-097f-40da-838f-3a3169c978df",
   "metadata": {},
   "outputs": [
    {
     "data": {
      "text/plain": [
       "21394"
      ]
     },
     "execution_count": 103,
     "metadata": {},
     "output_type": "execute_result"
    }
   ],
   "source": [
    "data.duplicated().sum()"
   ]
  },
  {
   "cell_type": "code",
   "execution_count": 104,
   "id": "eea80694-eb90-4a1c-b60a-a06631d4dee4",
   "metadata": {},
   "outputs": [],
   "source": [
    "data.drop_duplicates(inplace=True)"
   ]
  },
  {
   "cell_type": "code",
   "execution_count": 105,
   "id": "cdcfa31f-2690-4bab-bca5-e9e203f7da56",
   "metadata": {},
   "outputs": [
    {
     "data": {
      "text/plain": [
       "(257187, 1)"
      ]
     },
     "execution_count": 105,
     "metadata": {},
     "output_type": "execute_result"
    }
   ],
   "source": [
    "data.shape"
   ]
  },
  {
   "cell_type": "code",
   "execution_count": 106,
   "id": "eb117336-41ab-4524-ac1a-487542df774b",
   "metadata": {},
   "outputs": [
    {
     "data": {
      "text/html": [
       "<div>\n",
       "<style scoped>\n",
       "    .dataframe tbody tr th:only-of-type {\n",
       "        vertical-align: middle;\n",
       "    }\n",
       "\n",
       "    .dataframe tbody tr th {\n",
       "        vertical-align: top;\n",
       "    }\n",
       "\n",
       "    .dataframe thead th {\n",
       "        text-align: right;\n",
       "    }\n",
       "</style>\n",
       "<table border=\"1\" class=\"dataframe\">\n",
       "  <thead>\n",
       "    <tr style=\"text-align: right;\">\n",
       "      <th></th>\n",
       "      <th>text</th>\n",
       "    </tr>\n",
       "  </thead>\n",
       "  <tbody>\n",
       "    <tr>\n",
       "      <th>0</th>\n",
       "      <td>अन्नानै आंंनो दिनैनि अक्टखौ खिन्था</td>\n",
       "    </tr>\n",
       "    <tr>\n",
       "      <th>1</th>\n",
       "      <td>बे ओनसोलनि फैगौ इभेन्टफोरखौ आंनो खोन्था।</td>\n",
       "    </tr>\n",
       "    <tr>\n",
       "      <th>2</th>\n",
       "      <td>दानि थाखाय टेक्सि बुक खालाम।</td>\n",
       "    </tr>\n",
       "    <tr>\n",
       "      <th>3</th>\n",
       "      <td>लेक्समार्कनि स्टक बेसेना बेसेबां?</td>\n",
       "    </tr>\n",
       "    <tr>\n",
       "      <th>4</th>\n",
       "      <td>अन्नानै गिबि फारिलाइखौ बोखार</td>\n",
       "    </tr>\n",
       "  </tbody>\n",
       "</table>\n",
       "</div>"
      ],
      "text/plain": [
       "                                       text\n",
       "0        अन्नानै आंंनो दिनैनि अक्टखौ खिन्था\n",
       "1  बे ओनसोलनि फैगौ इभेन्टफोरखौ आंनो खोन्था।\n",
       "2              दानि थाखाय टेक्सि बुक खालाम।\n",
       "3         लेक्समार्कनि स्टक बेसेना बेसेबां?\n",
       "4              अन्नानै गिबि फारिलाइखौ बोखार"
      ]
     },
     "execution_count": 106,
     "metadata": {},
     "output_type": "execute_result"
    }
   ],
   "source": [
    "data.head()"
   ]
  },
  {
   "cell_type": "code",
   "execution_count": 107,
   "id": "d82f30a0-0391-47ca-9e02-25fc16483711",
   "metadata": {},
   "outputs": [],
   "source": [
    "data.to_csv('final/Bodo.csv')"
   ]
  },
  {
   "cell_type": "markdown",
   "id": "80bdb94e-cadf-4b62-a768-eb801d513734",
   "metadata": {},
   "source": [
    "## English"
   ]
  },
  {
   "cell_type": "code",
   "execution_count": 108,
   "id": "2eeca416-7f95-41db-8d5a-81df139c1973",
   "metadata": {},
   "outputs": [],
   "source": [
    "df1 = pd.read_csv('datasets/English/test.csv')"
   ]
  },
  {
   "cell_type": "code",
   "execution_count": 109,
   "id": "9750fbf8-93f3-42e2-a7e2-41f536914e30",
   "metadata": {},
   "outputs": [
    {
     "data": {
      "text/html": [
       "<div>\n",
       "<style scoped>\n",
       "    .dataframe tbody tr th:only-of-type {\n",
       "        vertical-align: middle;\n",
       "    }\n",
       "\n",
       "    .dataframe tbody tr th {\n",
       "        vertical-align: top;\n",
       "    }\n",
       "\n",
       "    .dataframe thead th {\n",
       "        text-align: right;\n",
       "    }\n",
       "</style>\n",
       "<table border=\"1\" class=\"dataframe\">\n",
       "  <thead>\n",
       "    <tr style=\"text-align: right;\">\n",
       "      <th></th>\n",
       "      <th>text_id</th>\n",
       "      <th>full_text</th>\n",
       "    </tr>\n",
       "  </thead>\n",
       "  <tbody>\n",
       "    <tr>\n",
       "      <th>0</th>\n",
       "      <td>0000C359D63E</td>\n",
       "      <td>when a person has no experience on a job their...</td>\n",
       "    </tr>\n",
       "    <tr>\n",
       "      <th>1</th>\n",
       "      <td>000BAD50D026</td>\n",
       "      <td>Do you think students would benefit from being...</td>\n",
       "    </tr>\n",
       "    <tr>\n",
       "      <th>2</th>\n",
       "      <td>00367BB2546B</td>\n",
       "      <td>Thomas Jefferson once states that \"it is wonde...</td>\n",
       "    </tr>\n",
       "  </tbody>\n",
       "</table>\n",
       "</div>"
      ],
      "text/plain": [
       "        text_id                                          full_text\n",
       "0  0000C359D63E  when a person has no experience on a job their...\n",
       "1  000BAD50D026  Do you think students would benefit from being...\n",
       "2  00367BB2546B  Thomas Jefferson once states that \"it is wonde..."
      ]
     },
     "execution_count": 109,
     "metadata": {},
     "output_type": "execute_result"
    }
   ],
   "source": [
    "df1.head()"
   ]
  },
  {
   "cell_type": "code",
   "execution_count": 110,
   "id": "cfcc2835-f07b-49e3-a262-126517a1c224",
   "metadata": {},
   "outputs": [],
   "source": [
    "df1 = df1[['full_text']]"
   ]
  },
  {
   "cell_type": "code",
   "execution_count": 111,
   "id": "df318e79-3789-4a12-8020-045613d8cc01",
   "metadata": {},
   "outputs": [
    {
     "data": {
      "text/html": [
       "<div>\n",
       "<style scoped>\n",
       "    .dataframe tbody tr th:only-of-type {\n",
       "        vertical-align: middle;\n",
       "    }\n",
       "\n",
       "    .dataframe tbody tr th {\n",
       "        vertical-align: top;\n",
       "    }\n",
       "\n",
       "    .dataframe thead th {\n",
       "        text-align: right;\n",
       "    }\n",
       "</style>\n",
       "<table border=\"1\" class=\"dataframe\">\n",
       "  <thead>\n",
       "    <tr style=\"text-align: right;\">\n",
       "      <th></th>\n",
       "      <th>full_text</th>\n",
       "    </tr>\n",
       "  </thead>\n",
       "  <tbody>\n",
       "    <tr>\n",
       "      <th>0</th>\n",
       "      <td>when a person has no experience on a job their...</td>\n",
       "    </tr>\n",
       "    <tr>\n",
       "      <th>1</th>\n",
       "      <td>Do you think students would benefit from being...</td>\n",
       "    </tr>\n",
       "    <tr>\n",
       "      <th>2</th>\n",
       "      <td>Thomas Jefferson once states that \"it is wonde...</td>\n",
       "    </tr>\n",
       "  </tbody>\n",
       "</table>\n",
       "</div>"
      ],
      "text/plain": [
       "                                           full_text\n",
       "0  when a person has no experience on a job their...\n",
       "1  Do you think students would benefit from being...\n",
       "2  Thomas Jefferson once states that \"it is wonde..."
      ]
     },
     "execution_count": 111,
     "metadata": {},
     "output_type": "execute_result"
    }
   ],
   "source": [
    "df1.head()"
   ]
  },
  {
   "cell_type": "code",
   "execution_count": 112,
   "id": "a9434921-f7e5-437d-89a8-066aba3bc629",
   "metadata": {},
   "outputs": [],
   "source": [
    "df1.rename(columns={\n",
    "    'full_text': 'text'\n",
    "}, inplace=True)"
   ]
  },
  {
   "cell_type": "code",
   "execution_count": 113,
   "id": "d7c5fd64-2bee-4210-bb50-a118033679f6",
   "metadata": {},
   "outputs": [
    {
     "data": {
      "text/html": [
       "<div>\n",
       "<style scoped>\n",
       "    .dataframe tbody tr th:only-of-type {\n",
       "        vertical-align: middle;\n",
       "    }\n",
       "\n",
       "    .dataframe tbody tr th {\n",
       "        vertical-align: top;\n",
       "    }\n",
       "\n",
       "    .dataframe thead th {\n",
       "        text-align: right;\n",
       "    }\n",
       "</style>\n",
       "<table border=\"1\" class=\"dataframe\">\n",
       "  <thead>\n",
       "    <tr style=\"text-align: right;\">\n",
       "      <th></th>\n",
       "      <th>text</th>\n",
       "    </tr>\n",
       "  </thead>\n",
       "  <tbody>\n",
       "    <tr>\n",
       "      <th>0</th>\n",
       "      <td>when a person has no experience on a job their...</td>\n",
       "    </tr>\n",
       "    <tr>\n",
       "      <th>1</th>\n",
       "      <td>Do you think students would benefit from being...</td>\n",
       "    </tr>\n",
       "    <tr>\n",
       "      <th>2</th>\n",
       "      <td>Thomas Jefferson once states that \"it is wonde...</td>\n",
       "    </tr>\n",
       "  </tbody>\n",
       "</table>\n",
       "</div>"
      ],
      "text/plain": [
       "                                                text\n",
       "0  when a person has no experience on a job their...\n",
       "1  Do you think students would benefit from being...\n",
       "2  Thomas Jefferson once states that \"it is wonde..."
      ]
     },
     "execution_count": 113,
     "metadata": {},
     "output_type": "execute_result"
    }
   ],
   "source": [
    "df1.head()"
   ]
  },
  {
   "cell_type": "code",
   "execution_count": 114,
   "id": "e9beb5c7-e77a-4514-b930-d720444e0ad6",
   "metadata": {},
   "outputs": [],
   "source": [
    "df2 = pd.read_csv('datasets/English/train.csv')"
   ]
  },
  {
   "cell_type": "code",
   "execution_count": 115,
   "id": "aebe5d2e-2493-45ba-9ea3-8771dca1ae94",
   "metadata": {},
   "outputs": [
    {
     "data": {
      "text/html": [
       "<div>\n",
       "<style scoped>\n",
       "    .dataframe tbody tr th:only-of-type {\n",
       "        vertical-align: middle;\n",
       "    }\n",
       "\n",
       "    .dataframe tbody tr th {\n",
       "        vertical-align: top;\n",
       "    }\n",
       "\n",
       "    .dataframe thead th {\n",
       "        text-align: right;\n",
       "    }\n",
       "</style>\n",
       "<table border=\"1\" class=\"dataframe\">\n",
       "  <thead>\n",
       "    <tr style=\"text-align: right;\">\n",
       "      <th></th>\n",
       "      <th>text_id</th>\n",
       "      <th>full_text</th>\n",
       "      <th>cohesion</th>\n",
       "      <th>syntax</th>\n",
       "      <th>vocabulary</th>\n",
       "      <th>phraseology</th>\n",
       "      <th>grammar</th>\n",
       "      <th>conventions</th>\n",
       "    </tr>\n",
       "  </thead>\n",
       "  <tbody>\n",
       "    <tr>\n",
       "      <th>0</th>\n",
       "      <td>0016926B079C</td>\n",
       "      <td>I think that students would benefit from learn...</td>\n",
       "      <td>3.5</td>\n",
       "      <td>3.5</td>\n",
       "      <td>3.0</td>\n",
       "      <td>3.0</td>\n",
       "      <td>4.0</td>\n",
       "      <td>3.0</td>\n",
       "    </tr>\n",
       "    <tr>\n",
       "      <th>1</th>\n",
       "      <td>0022683E9EA5</td>\n",
       "      <td>When a problem is a change you have to let it ...</td>\n",
       "      <td>2.5</td>\n",
       "      <td>2.5</td>\n",
       "      <td>3.0</td>\n",
       "      <td>2.0</td>\n",
       "      <td>2.0</td>\n",
       "      <td>2.5</td>\n",
       "    </tr>\n",
       "    <tr>\n",
       "      <th>2</th>\n",
       "      <td>00299B378633</td>\n",
       "      <td>Dear, Principal\\n\\nIf u change the school poli...</td>\n",
       "      <td>3.0</td>\n",
       "      <td>3.5</td>\n",
       "      <td>3.0</td>\n",
       "      <td>3.0</td>\n",
       "      <td>3.0</td>\n",
       "      <td>2.5</td>\n",
       "    </tr>\n",
       "    <tr>\n",
       "      <th>3</th>\n",
       "      <td>003885A45F42</td>\n",
       "      <td>The best time in life is when you become yours...</td>\n",
       "      <td>4.5</td>\n",
       "      <td>4.5</td>\n",
       "      <td>4.5</td>\n",
       "      <td>4.5</td>\n",
       "      <td>4.0</td>\n",
       "      <td>5.0</td>\n",
       "    </tr>\n",
       "    <tr>\n",
       "      <th>4</th>\n",
       "      <td>0049B1DF5CCC</td>\n",
       "      <td>Small act of kindness can impact in other peop...</td>\n",
       "      <td>2.5</td>\n",
       "      <td>3.0</td>\n",
       "      <td>3.0</td>\n",
       "      <td>3.0</td>\n",
       "      <td>2.5</td>\n",
       "      <td>2.5</td>\n",
       "    </tr>\n",
       "  </tbody>\n",
       "</table>\n",
       "</div>"
      ],
      "text/plain": [
       "        text_id                                          full_text  cohesion  \\\n",
       "0  0016926B079C  I think that students would benefit from learn...       3.5   \n",
       "1  0022683E9EA5  When a problem is a change you have to let it ...       2.5   \n",
       "2  00299B378633  Dear, Principal\\n\\nIf u change the school poli...       3.0   \n",
       "3  003885A45F42  The best time in life is when you become yours...       4.5   \n",
       "4  0049B1DF5CCC  Small act of kindness can impact in other peop...       2.5   \n",
       "\n",
       "   syntax  vocabulary  phraseology  grammar  conventions  \n",
       "0     3.5         3.0          3.0      4.0          3.0  \n",
       "1     2.5         3.0          2.0      2.0          2.5  \n",
       "2     3.5         3.0          3.0      3.0          2.5  \n",
       "3     4.5         4.5          4.5      4.0          5.0  \n",
       "4     3.0         3.0          3.0      2.5          2.5  "
      ]
     },
     "execution_count": 115,
     "metadata": {},
     "output_type": "execute_result"
    }
   ],
   "source": [
    "df2.head()"
   ]
  },
  {
   "cell_type": "code",
   "execution_count": 116,
   "id": "80aae1d0-a865-43da-b4f8-95a9d61931e5",
   "metadata": {},
   "outputs": [],
   "source": [
    "df2 = df2[['full_text']]"
   ]
  },
  {
   "cell_type": "code",
   "execution_count": 117,
   "id": "42575145-830a-4fdc-9dbb-1cb409fc6eb2",
   "metadata": {},
   "outputs": [
    {
     "data": {
      "text/html": [
       "<div>\n",
       "<style scoped>\n",
       "    .dataframe tbody tr th:only-of-type {\n",
       "        vertical-align: middle;\n",
       "    }\n",
       "\n",
       "    .dataframe tbody tr th {\n",
       "        vertical-align: top;\n",
       "    }\n",
       "\n",
       "    .dataframe thead th {\n",
       "        text-align: right;\n",
       "    }\n",
       "</style>\n",
       "<table border=\"1\" class=\"dataframe\">\n",
       "  <thead>\n",
       "    <tr style=\"text-align: right;\">\n",
       "      <th></th>\n",
       "      <th>full_text</th>\n",
       "    </tr>\n",
       "  </thead>\n",
       "  <tbody>\n",
       "    <tr>\n",
       "      <th>0</th>\n",
       "      <td>I think that students would benefit from learn...</td>\n",
       "    </tr>\n",
       "    <tr>\n",
       "      <th>1</th>\n",
       "      <td>When a problem is a change you have to let it ...</td>\n",
       "    </tr>\n",
       "    <tr>\n",
       "      <th>2</th>\n",
       "      <td>Dear, Principal\\n\\nIf u change the school poli...</td>\n",
       "    </tr>\n",
       "    <tr>\n",
       "      <th>3</th>\n",
       "      <td>The best time in life is when you become yours...</td>\n",
       "    </tr>\n",
       "    <tr>\n",
       "      <th>4</th>\n",
       "      <td>Small act of kindness can impact in other peop...</td>\n",
       "    </tr>\n",
       "  </tbody>\n",
       "</table>\n",
       "</div>"
      ],
      "text/plain": [
       "                                           full_text\n",
       "0  I think that students would benefit from learn...\n",
       "1  When a problem is a change you have to let it ...\n",
       "2  Dear, Principal\\n\\nIf u change the school poli...\n",
       "3  The best time in life is when you become yours...\n",
       "4  Small act of kindness can impact in other peop..."
      ]
     },
     "execution_count": 117,
     "metadata": {},
     "output_type": "execute_result"
    }
   ],
   "source": [
    "df2.head()"
   ]
  },
  {
   "cell_type": "code",
   "execution_count": 118,
   "id": "0aa30833-2974-4479-99b8-522dbf4004cc",
   "metadata": {},
   "outputs": [],
   "source": [
    "df2.rename(columns={\n",
    "    'full_text': 'text'\n",
    "}, inplace=True)"
   ]
  },
  {
   "cell_type": "code",
   "execution_count": 119,
   "id": "3acbae63-3aca-4382-b797-0918a1a3069f",
   "metadata": {},
   "outputs": [
    {
     "data": {
      "text/html": [
       "<div>\n",
       "<style scoped>\n",
       "    .dataframe tbody tr th:only-of-type {\n",
       "        vertical-align: middle;\n",
       "    }\n",
       "\n",
       "    .dataframe tbody tr th {\n",
       "        vertical-align: top;\n",
       "    }\n",
       "\n",
       "    .dataframe thead th {\n",
       "        text-align: right;\n",
       "    }\n",
       "</style>\n",
       "<table border=\"1\" class=\"dataframe\">\n",
       "  <thead>\n",
       "    <tr style=\"text-align: right;\">\n",
       "      <th></th>\n",
       "      <th>text</th>\n",
       "    </tr>\n",
       "  </thead>\n",
       "  <tbody>\n",
       "    <tr>\n",
       "      <th>0</th>\n",
       "      <td>I think that students would benefit from learn...</td>\n",
       "    </tr>\n",
       "    <tr>\n",
       "      <th>1</th>\n",
       "      <td>When a problem is a change you have to let it ...</td>\n",
       "    </tr>\n",
       "    <tr>\n",
       "      <th>2</th>\n",
       "      <td>Dear, Principal\\n\\nIf u change the school poli...</td>\n",
       "    </tr>\n",
       "    <tr>\n",
       "      <th>3</th>\n",
       "      <td>The best time in life is when you become yours...</td>\n",
       "    </tr>\n",
       "    <tr>\n",
       "      <th>4</th>\n",
       "      <td>Small act of kindness can impact in other peop...</td>\n",
       "    </tr>\n",
       "  </tbody>\n",
       "</table>\n",
       "</div>"
      ],
      "text/plain": [
       "                                                text\n",
       "0  I think that students would benefit from learn...\n",
       "1  When a problem is a change you have to let it ...\n",
       "2  Dear, Principal\\n\\nIf u change the school poli...\n",
       "3  The best time in life is when you become yours...\n",
       "4  Small act of kindness can impact in other peop..."
      ]
     },
     "execution_count": 119,
     "metadata": {},
     "output_type": "execute_result"
    }
   ],
   "source": [
    "df2.head()"
   ]
  },
  {
   "cell_type": "code",
   "execution_count": 120,
   "id": "b8c1a1e5-e917-40fb-b1d3-0c3fba3601e9",
   "metadata": {},
   "outputs": [],
   "source": [
    "data = pd.concat([df1, df2])"
   ]
  },
  {
   "cell_type": "code",
   "execution_count": 121,
   "id": "7b3476a5-4cb6-402b-961b-dfcf11de89a9",
   "metadata": {},
   "outputs": [
    {
     "data": {
      "text/html": [
       "<div>\n",
       "<style scoped>\n",
       "    .dataframe tbody tr th:only-of-type {\n",
       "        vertical-align: middle;\n",
       "    }\n",
       "\n",
       "    .dataframe tbody tr th {\n",
       "        vertical-align: top;\n",
       "    }\n",
       "\n",
       "    .dataframe thead th {\n",
       "        text-align: right;\n",
       "    }\n",
       "</style>\n",
       "<table border=\"1\" class=\"dataframe\">\n",
       "  <thead>\n",
       "    <tr style=\"text-align: right;\">\n",
       "      <th></th>\n",
       "      <th>text</th>\n",
       "    </tr>\n",
       "  </thead>\n",
       "  <tbody>\n",
       "    <tr>\n",
       "      <th>0</th>\n",
       "      <td>when a person has no experience on a job their...</td>\n",
       "    </tr>\n",
       "    <tr>\n",
       "      <th>1</th>\n",
       "      <td>Do you think students would benefit from being...</td>\n",
       "    </tr>\n",
       "    <tr>\n",
       "      <th>2</th>\n",
       "      <td>Thomas Jefferson once states that \"it is wonde...</td>\n",
       "    </tr>\n",
       "    <tr>\n",
       "      <th>0</th>\n",
       "      <td>I think that students would benefit from learn...</td>\n",
       "    </tr>\n",
       "    <tr>\n",
       "      <th>1</th>\n",
       "      <td>When a problem is a change you have to let it ...</td>\n",
       "    </tr>\n",
       "  </tbody>\n",
       "</table>\n",
       "</div>"
      ],
      "text/plain": [
       "                                                text\n",
       "0  when a person has no experience on a job their...\n",
       "1  Do you think students would benefit from being...\n",
       "2  Thomas Jefferson once states that \"it is wonde...\n",
       "0  I think that students would benefit from learn...\n",
       "1  When a problem is a change you have to let it ..."
      ]
     },
     "execution_count": 121,
     "metadata": {},
     "output_type": "execute_result"
    }
   ],
   "source": [
    "data.head()"
   ]
  },
  {
   "cell_type": "code",
   "execution_count": 122,
   "id": "d5c8b936-e2b4-4fcc-a77b-154b09ff49a9",
   "metadata": {},
   "outputs": [
    {
     "data": {
      "text/plain": [
       "(3914, 1)"
      ]
     },
     "execution_count": 122,
     "metadata": {},
     "output_type": "execute_result"
    }
   ],
   "source": [
    "data.shape"
   ]
  },
  {
   "cell_type": "code",
   "execution_count": 123,
   "id": "dea9760d-331e-4e9c-b7d7-893b0987d4d3",
   "metadata": {},
   "outputs": [
    {
     "data": {
      "text/plain": [
       "text    0\n",
       "dtype: int64"
      ]
     },
     "execution_count": 123,
     "metadata": {},
     "output_type": "execute_result"
    }
   ],
   "source": [
    "data.isna().sum()"
   ]
  },
  {
   "cell_type": "code",
   "execution_count": 124,
   "id": "7fd5ed6f-e92d-4d36-ae6a-f76832dce599",
   "metadata": {},
   "outputs": [
    {
     "data": {
      "text/plain": [
       "0"
      ]
     },
     "execution_count": 124,
     "metadata": {},
     "output_type": "execute_result"
    }
   ],
   "source": [
    "data.duplicated().sum()"
   ]
  },
  {
   "cell_type": "code",
   "execution_count": 125,
   "id": "e0b40146-4a4b-41c0-8da4-cc4ceb0ad63a",
   "metadata": {},
   "outputs": [],
   "source": [
    "def extract_english_text(text):\n",
    "    # Regular expression pattern to match English characters\n",
    "    english_pattern = re.compile(r'[A-Za-z\\s]+')\n",
    "    # Find all matches of English text in the input text\n",
    "    english_matches = english_pattern.findall(text)\n",
    "    # Filter out empty strings\n",
    "    english_matches = [match.strip() for match in english_matches if match.strip()]\n",
    "    # Join the matches to form the extracted English text\n",
    "    english_text = ' '.join(english_matches)\n",
    "    return english_text"
   ]
  },
  {
   "cell_type": "code",
   "execution_count": 126,
   "id": "4394e4dc-2430-4104-a7ce-85900fa81039",
   "metadata": {},
   "outputs": [],
   "source": [
    "data['cleaned'] = data['text'].apply(extract_english_text)"
   ]
  },
  {
   "cell_type": "code",
   "execution_count": 127,
   "id": "a1880ecc-562c-42dc-b64c-b4596719f373",
   "metadata": {},
   "outputs": [
    {
     "data": {
      "text/html": [
       "<div>\n",
       "<style scoped>\n",
       "    .dataframe tbody tr th:only-of-type {\n",
       "        vertical-align: middle;\n",
       "    }\n",
       "\n",
       "    .dataframe tbody tr th {\n",
       "        vertical-align: top;\n",
       "    }\n",
       "\n",
       "    .dataframe thead th {\n",
       "        text-align: right;\n",
       "    }\n",
       "</style>\n",
       "<table border=\"1\" class=\"dataframe\">\n",
       "  <thead>\n",
       "    <tr style=\"text-align: right;\">\n",
       "      <th></th>\n",
       "      <th>text</th>\n",
       "      <th>cleaned</th>\n",
       "    </tr>\n",
       "  </thead>\n",
       "  <tbody>\n",
       "    <tr>\n",
       "      <th>0</th>\n",
       "      <td>when a person has no experience on a job their...</td>\n",
       "      <td>when a person has no experience on a job their...</td>\n",
       "    </tr>\n",
       "    <tr>\n",
       "      <th>1</th>\n",
       "      <td>Do you think students would benefit from being...</td>\n",
       "      <td>Do you think students would benefit from being...</td>\n",
       "    </tr>\n",
       "    <tr>\n",
       "      <th>2</th>\n",
       "      <td>Thomas Jefferson once states that \"it is wonde...</td>\n",
       "      <td>Thomas Jefferson once states that it is wonder...</td>\n",
       "    </tr>\n",
       "    <tr>\n",
       "      <th>0</th>\n",
       "      <td>I think that students would benefit from learn...</td>\n",
       "      <td>I think that students would benefit from learn...</td>\n",
       "    </tr>\n",
       "    <tr>\n",
       "      <th>1</th>\n",
       "      <td>When a problem is a change you have to let it ...</td>\n",
       "      <td>When a problem is a change you have to let it ...</td>\n",
       "    </tr>\n",
       "  </tbody>\n",
       "</table>\n",
       "</div>"
      ],
      "text/plain": [
       "                                                text  \\\n",
       "0  when a person has no experience on a job their...   \n",
       "1  Do you think students would benefit from being...   \n",
       "2  Thomas Jefferson once states that \"it is wonde...   \n",
       "0  I think that students would benefit from learn...   \n",
       "1  When a problem is a change you have to let it ...   \n",
       "\n",
       "                                             cleaned  \n",
       "0  when a person has no experience on a job their...  \n",
       "1  Do you think students would benefit from being...  \n",
       "2  Thomas Jefferson once states that it is wonder...  \n",
       "0  I think that students would benefit from learn...  \n",
       "1  When a problem is a change you have to let it ...  "
      ]
     },
     "execution_count": 127,
     "metadata": {},
     "output_type": "execute_result"
    }
   ],
   "source": [
    "data.head()"
   ]
  },
  {
   "cell_type": "code",
   "execution_count": 128,
   "id": "3f1b917a-e7e8-41e9-98fb-1d138e91bda3",
   "metadata": {},
   "outputs": [],
   "source": [
    "data = data[['cleaned']]"
   ]
  },
  {
   "cell_type": "code",
   "execution_count": 129,
   "id": "d05f2b69-8418-4404-8d2d-7bcf2fd739a5",
   "metadata": {},
   "outputs": [
    {
     "data": {
      "text/html": [
       "<div>\n",
       "<style scoped>\n",
       "    .dataframe tbody tr th:only-of-type {\n",
       "        vertical-align: middle;\n",
       "    }\n",
       "\n",
       "    .dataframe tbody tr th {\n",
       "        vertical-align: top;\n",
       "    }\n",
       "\n",
       "    .dataframe thead th {\n",
       "        text-align: right;\n",
       "    }\n",
       "</style>\n",
       "<table border=\"1\" class=\"dataframe\">\n",
       "  <thead>\n",
       "    <tr style=\"text-align: right;\">\n",
       "      <th></th>\n",
       "      <th>cleaned</th>\n",
       "    </tr>\n",
       "  </thead>\n",
       "  <tbody>\n",
       "    <tr>\n",
       "      <th>0</th>\n",
       "      <td>when a person has no experience on a job their...</td>\n",
       "    </tr>\n",
       "    <tr>\n",
       "      <th>1</th>\n",
       "      <td>Do you think students would benefit from being...</td>\n",
       "    </tr>\n",
       "    <tr>\n",
       "      <th>2</th>\n",
       "      <td>Thomas Jefferson once states that it is wonder...</td>\n",
       "    </tr>\n",
       "    <tr>\n",
       "      <th>0</th>\n",
       "      <td>I think that students would benefit from learn...</td>\n",
       "    </tr>\n",
       "    <tr>\n",
       "      <th>1</th>\n",
       "      <td>When a problem is a change you have to let it ...</td>\n",
       "    </tr>\n",
       "  </tbody>\n",
       "</table>\n",
       "</div>"
      ],
      "text/plain": [
       "                                             cleaned\n",
       "0  when a person has no experience on a job their...\n",
       "1  Do you think students would benefit from being...\n",
       "2  Thomas Jefferson once states that it is wonder...\n",
       "0  I think that students would benefit from learn...\n",
       "1  When a problem is a change you have to let it ..."
      ]
     },
     "execution_count": 129,
     "metadata": {},
     "output_type": "execute_result"
    }
   ],
   "source": [
    "data.head()"
   ]
  },
  {
   "cell_type": "code",
   "execution_count": 130,
   "id": "5a774152-01b1-48bf-9e2d-ee03ba7b0240",
   "metadata": {},
   "outputs": [],
   "source": [
    "data.rename(columns={\n",
    "    'cleaned': 'text'\n",
    "}, inplace=True)"
   ]
  },
  {
   "cell_type": "code",
   "execution_count": 131,
   "id": "b46ee2a5-c8a4-4095-bdb8-fae2c6fc1bb4",
   "metadata": {},
   "outputs": [
    {
     "data": {
      "text/html": [
       "<div>\n",
       "<style scoped>\n",
       "    .dataframe tbody tr th:only-of-type {\n",
       "        vertical-align: middle;\n",
       "    }\n",
       "\n",
       "    .dataframe tbody tr th {\n",
       "        vertical-align: top;\n",
       "    }\n",
       "\n",
       "    .dataframe thead th {\n",
       "        text-align: right;\n",
       "    }\n",
       "</style>\n",
       "<table border=\"1\" class=\"dataframe\">\n",
       "  <thead>\n",
       "    <tr style=\"text-align: right;\">\n",
       "      <th></th>\n",
       "      <th>text</th>\n",
       "    </tr>\n",
       "  </thead>\n",
       "  <tbody>\n",
       "    <tr>\n",
       "      <th>0</th>\n",
       "      <td>when a person has no experience on a job their...</td>\n",
       "    </tr>\n",
       "    <tr>\n",
       "      <th>1</th>\n",
       "      <td>Do you think students would benefit from being...</td>\n",
       "    </tr>\n",
       "    <tr>\n",
       "      <th>2</th>\n",
       "      <td>Thomas Jefferson once states that it is wonder...</td>\n",
       "    </tr>\n",
       "    <tr>\n",
       "      <th>0</th>\n",
       "      <td>I think that students would benefit from learn...</td>\n",
       "    </tr>\n",
       "    <tr>\n",
       "      <th>1</th>\n",
       "      <td>When a problem is a change you have to let it ...</td>\n",
       "    </tr>\n",
       "  </tbody>\n",
       "</table>\n",
       "</div>"
      ],
      "text/plain": [
       "                                                text\n",
       "0  when a person has no experience on a job their...\n",
       "1  Do you think students would benefit from being...\n",
       "2  Thomas Jefferson once states that it is wonder...\n",
       "0  I think that students would benefit from learn...\n",
       "1  When a problem is a change you have to let it ..."
      ]
     },
     "execution_count": 131,
     "metadata": {},
     "output_type": "execute_result"
    }
   ],
   "source": [
    "data.head()"
   ]
  },
  {
   "cell_type": "code",
   "execution_count": 132,
   "id": "77e9236f-993f-41ae-93c1-6ecb3441bf6b",
   "metadata": {},
   "outputs": [],
   "source": [
    "data.to_csv('final/English.csv')"
   ]
  },
  {
   "cell_type": "markdown",
   "id": "f7fd4b98-6563-4801-88f9-8cf2cf8682a4",
   "metadata": {},
   "source": [
    "## Gujarati"
   ]
  },
  {
   "cell_type": "code",
   "execution_count": 154,
   "id": "7909dfdc-2d07-44ba-9e28-1e48ad63772c",
   "metadata": {},
   "outputs": [],
   "source": [
    "data = pd.DataFrame(columns=['text'])"
   ]
  },
  {
   "cell_type": "code",
   "execution_count": 155,
   "id": "03dde2e4-0f43-423a-af1c-2b4fef0ab6f8",
   "metadata": {
    "scrolled": true
   },
   "outputs": [],
   "source": [
    "for i in os.listdir('datasets/Gujarati/train/train'):\n",
    "    with open(f'datasets/Gujarati/train/train/{i}') as f:\n",
    "        data.loc[len(data.index)] = [f.read()]"
   ]
  },
  {
   "cell_type": "code",
   "execution_count": 156,
   "id": "e9983055-b6d5-42f8-bfeb-a62d29379d80",
   "metadata": {},
   "outputs": [
    {
     "data": {
      "text/html": [
       "<div>\n",
       "<style scoped>\n",
       "    .dataframe tbody tr th:only-of-type {\n",
       "        vertical-align: middle;\n",
       "    }\n",
       "\n",
       "    .dataframe tbody tr th {\n",
       "        vertical-align: top;\n",
       "    }\n",
       "\n",
       "    .dataframe thead th {\n",
       "        text-align: right;\n",
       "    }\n",
       "</style>\n",
       "<table border=\"1\" class=\"dataframe\">\n",
       "  <thead>\n",
       "    <tr style=\"text-align: right;\">\n",
       "      <th></th>\n",
       "      <th>text</th>\n",
       "    </tr>\n",
       "  </thead>\n",
       "  <tbody>\n",
       "    <tr>\n",
       "      <th>0</th>\n",
       "      <td>ગુજરાત અને ભારતમાં સ્થાન\\nદૂધની ડેરી\\nમકાઈ\\nબલ...</td>\n",
       "    </tr>\n",
       "    <tr>\n",
       "      <th>1</th>\n",
       "      <td>ગુજરાત અને ભારતમાં સ્થાન\\nજામલા ભારત દેશના પશ્...</td>\n",
       "    </tr>\n",
       "    <tr>\n",
       "      <th>2</th>\n",
       "      <td>\\nગુજરાત અને ભારતમાં સ્થાન\\nલાટવા ભારત દેશના પ...</td>\n",
       "    </tr>\n",
       "    <tr>\n",
       "      <th>3</th>\n",
       "      <td>જાંબુઘોડા તાલુકો ભારત દેશના પશ્ચિમ ભાગમાં આવેલ...</td>\n",
       "    </tr>\n",
       "    <tr>\n",
       "      <th>4</th>\n",
       "      <td>ગુજરાત અને ભારતમાં સ્થાન\\nડેરી\\nમાનગુ ભારત દેશ...</td>\n",
       "    </tr>\n",
       "  </tbody>\n",
       "</table>\n",
       "</div>"
      ],
      "text/plain": [
       "                                                text\n",
       "0  ગુજરાત અને ભારતમાં સ્થાન\\nદૂધની ડેરી\\nમકાઈ\\nબલ...\n",
       "1  ગુજરાત અને ભારતમાં સ્થાન\\nજામલા ભારત દેશના પશ્...\n",
       "2  \\nગુજરાત અને ભારતમાં સ્થાન\\nલાટવા ભારત દેશના પ...\n",
       "3  જાંબુઘોડા તાલુકો ભારત દેશના પશ્ચિમ ભાગમાં આવેલ...\n",
       "4  ગુજરાત અને ભારતમાં સ્થાન\\nડેરી\\nમાનગુ ભારત દેશ..."
      ]
     },
     "execution_count": 156,
     "metadata": {},
     "output_type": "execute_result"
    }
   ],
   "source": [
    "data.head()"
   ]
  },
  {
   "cell_type": "code",
   "execution_count": 157,
   "id": "270f0bbe-2a89-431b-8cdf-6e2fba4ff4e8",
   "metadata": {},
   "outputs": [],
   "source": [
    "for i in os.listdir('datasets/Gujarati/valid/valid'):\n",
    "    with open(f'datasets/Gujarati/valid/valid/{i}') as f:\n",
    "        data.loc[len(data.index)] = [f.read()]"
   ]
  },
  {
   "cell_type": "code",
   "execution_count": 158,
   "id": "36633aec-8b17-47be-b325-5af9e9b81938",
   "metadata": {},
   "outputs": [
    {
     "data": {
      "text/html": [
       "<div>\n",
       "<style scoped>\n",
       "    .dataframe tbody tr th:only-of-type {\n",
       "        vertical-align: middle;\n",
       "    }\n",
       "\n",
       "    .dataframe tbody tr th {\n",
       "        vertical-align: top;\n",
       "    }\n",
       "\n",
       "    .dataframe thead th {\n",
       "        text-align: right;\n",
       "    }\n",
       "</style>\n",
       "<table border=\"1\" class=\"dataframe\">\n",
       "  <thead>\n",
       "    <tr style=\"text-align: right;\">\n",
       "      <th></th>\n",
       "      <th>text</th>\n",
       "    </tr>\n",
       "  </thead>\n",
       "  <tbody>\n",
       "    <tr>\n",
       "      <th>0</th>\n",
       "      <td>ગુજરાત અને ભારતમાં સ્થાન\\nદૂધની ડેરી\\nમકાઈ\\nબલ...</td>\n",
       "    </tr>\n",
       "    <tr>\n",
       "      <th>1</th>\n",
       "      <td>ગુજરાત અને ભારતમાં સ્થાન\\nજામલા ભારત દેશના પશ્...</td>\n",
       "    </tr>\n",
       "    <tr>\n",
       "      <th>2</th>\n",
       "      <td>\\nગુજરાત અને ભારતમાં સ્થાન\\nલાટવા ભારત દેશના પ...</td>\n",
       "    </tr>\n",
       "    <tr>\n",
       "      <th>3</th>\n",
       "      <td>જાંબુઘોડા તાલુકો ભારત દેશના પશ્ચિમ ભાગમાં આવેલ...</td>\n",
       "    </tr>\n",
       "    <tr>\n",
       "      <th>4</th>\n",
       "      <td>ગુજરાત અને ભારતમાં સ્થાન\\nડેરી\\nમાનગુ ભારત દેશ...</td>\n",
       "    </tr>\n",
       "  </tbody>\n",
       "</table>\n",
       "</div>"
      ],
      "text/plain": [
       "                                                text\n",
       "0  ગુજરાત અને ભારતમાં સ્થાન\\nદૂધની ડેરી\\nમકાઈ\\nબલ...\n",
       "1  ગુજરાત અને ભારતમાં સ્થાન\\nજામલા ભારત દેશના પશ્...\n",
       "2  \\nગુજરાત અને ભારતમાં સ્થાન\\nલાટવા ભારત દેશના પ...\n",
       "3  જાંબુઘોડા તાલુકો ભારત દેશના પશ્ચિમ ભાગમાં આવેલ...\n",
       "4  ગુજરાત અને ભારતમાં સ્થાન\\nડેરી\\nમાનગુ ભારત દેશ..."
      ]
     },
     "execution_count": 158,
     "metadata": {},
     "output_type": "execute_result"
    }
   ],
   "source": [
    "data.head()"
   ]
  },
  {
   "cell_type": "code",
   "execution_count": 159,
   "id": "e6041ecb-1c01-4882-bf77-1871d6e29cf3",
   "metadata": {},
   "outputs": [
    {
     "data": {
      "text/plain": [
       "(31913, 1)"
      ]
     },
     "execution_count": 159,
     "metadata": {},
     "output_type": "execute_result"
    }
   ],
   "source": [
    "data.shape"
   ]
  },
  {
   "cell_type": "code",
   "execution_count": 160,
   "id": "7e7029ff-026f-40be-9ea8-2cc47221b6f2",
   "metadata": {},
   "outputs": [
    {
     "data": {
      "text/plain": [
       "text    0\n",
       "dtype: int64"
      ]
     },
     "execution_count": 160,
     "metadata": {},
     "output_type": "execute_result"
    }
   ],
   "source": [
    "data.isna().sum()"
   ]
  },
  {
   "cell_type": "code",
   "execution_count": 161,
   "id": "96e49ecf-7c67-4cf9-b0a2-c513801360c4",
   "metadata": {},
   "outputs": [
    {
     "data": {
      "text/plain": [
       "3522"
      ]
     },
     "execution_count": 161,
     "metadata": {},
     "output_type": "execute_result"
    }
   ],
   "source": [
    "data.duplicated().sum()"
   ]
  },
  {
   "cell_type": "code",
   "execution_count": 162,
   "id": "4abd2d14-1591-48be-ae5b-77072ff019cb",
   "metadata": {},
   "outputs": [],
   "source": [
    "data.drop_duplicates(inplace=True)"
   ]
  },
  {
   "cell_type": "code",
   "execution_count": 163,
   "id": "9a804e0d-5ec4-45af-8280-4d105d3649a6",
   "metadata": {},
   "outputs": [
    {
     "data": {
      "text/plain": [
       "(28391, 1)"
      ]
     },
     "execution_count": 163,
     "metadata": {},
     "output_type": "execute_result"
    }
   ],
   "source": [
    "data.shape"
   ]
  },
  {
   "cell_type": "code",
   "execution_count": null,
   "id": "89ab0fb4-3a47-431d-a0d4-cdc921699cc9",
   "metadata": {},
   "outputs": [],
   "source": []
  }
 ],
 "metadata": {
  "kernelspec": {
   "display_name": "language_detection",
   "language": "python",
   "name": "language_detection"
  },
  "language_info": {
   "codemirror_mode": {
    "name": "ipython",
    "version": 3
   },
   "file_extension": ".py",
   "mimetype": "text/x-python",
   "name": "python",
   "nbconvert_exporter": "python",
   "pygments_lexer": "ipython3",
   "version": "3.11.8"
  }
 },
 "nbformat": 4,
 "nbformat_minor": 5
}
