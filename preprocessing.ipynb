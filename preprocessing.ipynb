{
 "cells": [
  {
   "cell_type": "markdown",
   "id": "34c50163-e754-415b-a759-8669d34321b6",
   "metadata": {},
   "source": [
    "## Assamese"
   ]
  },
  {
   "cell_type": "code",
   "execution_count": 1,
   "id": "e9b27c70-0f70-47e4-9fbf-2afd9bfffb2b",
   "metadata": {},
   "outputs": [],
   "source": [
    "import os"
   ]
  },
  {
   "cell_type": "code",
   "execution_count": 2,
   "id": "130b7614-7774-443d-a00d-6d1204a8f1f0",
   "metadata": {},
   "outputs": [
    {
     "data": {
      "text/plain": [
       "['Sanskrit.zip',\n",
       " 'Odia',\n",
       " 'Kannada.zip',\n",
       " 'Assamese',\n",
       " 'Bengali.zip',\n",
       " 'Hindi',\n",
       " 'Bodo',\n",
       " 'Nepali.zip',\n",
       " 'Hindi.zip',\n",
       " 'Marathi',\n",
       " 'Gujarati',\n",
       " 'Tamil',\n",
       " 'Urdu',\n",
       " 'Urdu.zip',\n",
       " 'Multilang',\n",
       " 'Bodo.zip',\n",
       " 'Telugu',\n",
       " 'Malayalam',\n",
       " 'Sindhi',\n",
       " 'Punjabi.zip',\n",
       " 'Kashmiri.csv',\n",
       " 'English.zip',\n",
       " 'Tamil.zip',\n",
       " 'Sindhi.zip',\n",
       " 'Telugu.zip',\n",
       " 'Nepali',\n",
       " 'Marathi.zip',\n",
       " 'Gujarati.zip',\n",
       " 'English',\n",
       " 'Punjabi',\n",
       " 'Assamese.zip',\n",
       " 'Kannada',\n",
       " 'Bengali',\n",
       " 'Sanskrit',\n",
       " 'Malayalam.zip',\n",
       " 'Odia.zip']"
      ]
     },
     "execution_count": 2,
     "metadata": {},
     "output_type": "execute_result"
    }
   ],
   "source": [
    "os.listdir('datasets')"
   ]
  },
  {
   "cell_type": "code",
   "execution_count": 3,
   "id": "52ea16db-dbb2-46db-b8bd-31a1a0b17d8c",
   "metadata": {},
   "outputs": [
    {
     "name": "stdout",
     "output_type": "stream",
     "text": [
      "news18_preprocessed.csv\n",
      "nenow_preprocessed.csv\n",
      "nenow_dataset.txt\n",
      "new18_dataset.txt\n"
     ]
    }
   ],
   "source": [
    "for i in os.listdir('datasets/Assamese/'):\n",
    "    print(i)"
   ]
  },
  {
   "cell_type": "code",
   "execution_count": 4,
   "id": "e925695c-28ca-4689-a51b-0c9e3ecccca3",
   "metadata": {},
   "outputs": [],
   "source": [
    "import re"
   ]
  },
  {
   "cell_type": "code",
   "execution_count": 5,
   "id": "c500d0ba-e2b0-47d8-9cef-ce467000016c",
   "metadata": {},
   "outputs": [],
   "source": [
    "def extract_assamese_text(text):\n",
    "    # Regular expression pattern to match Assamese characters\n",
    "    assamese_pattern = re.compile(r'[\\u0980-\\u09FF\\s]+')\n",
    "    # Find all matches of Assamese text in the input text\n",
    "    assamese_matches = assamese_pattern.findall(text)\n",
    "    # Filter out empty strings\n",
    "    assamese_matches = [match.strip() for match in assamese_matches if match.strip()]\n",
    "    # Join the matches to form the extracted Assamese text\n",
    "    assamese_text = ' '.join(assamese_matches)\n",
    "    return assamese_text"
   ]
  },
  {
   "cell_type": "code",
   "execution_count": 6,
   "id": "010f461d-b0c5-45ae-b96e-07ef4f6525ef",
   "metadata": {},
   "outputs": [],
   "source": [
    "def extract_assamese_from_corpus(corpus_file_path, output_file_path):\n",
    "    # Read the corpus file\n",
    "    with open(corpus_file_path, 'r', encoding='utf-8') as file:\n",
    "        corpus_text = file.read()\n",
    "    # Extract Assamese text from the corpus\n",
    "    assamese_text = extract_assamese_text(corpus_text)\n",
    "    # Write the extracted Assamese text to the output file\n",
    "    with open(output_file_path, 'w', encoding='utf-8') as file:\n",
    "        file.write(assamese_text)"
   ]
  },
  {
   "cell_type": "code",
   "execution_count": 7,
   "id": "7ea93d77-b040-4920-928e-c72ca95d3349",
   "metadata": {},
   "outputs": [],
   "source": [
    "os.makedirs('final', exist_ok=True)"
   ]
  },
  {
   "cell_type": "code",
   "execution_count": 8,
   "id": "55a071a8-d3a8-4e82-811d-866b5d49ecaa",
   "metadata": {},
   "outputs": [],
   "source": [
    "import pandas as pd\n",
    "data = pd.read_csv(\"datasets/Assamese/nenow_preprocessed.csv\")"
   ]
  },
  {
   "cell_type": "code",
   "execution_count": 9,
   "id": "4ce9e8df-c26a-4cfc-a135-6eca2b598cca",
   "metadata": {},
   "outputs": [
    {
     "data": {
      "text/html": [
       "<div>\n",
       "<style scoped>\n",
       "    .dataframe tbody tr th:only-of-type {\n",
       "        vertical-align: middle;\n",
       "    }\n",
       "\n",
       "    .dataframe tbody tr th {\n",
       "        vertical-align: top;\n",
       "    }\n",
       "\n",
       "    .dataframe thead th {\n",
       "        text-align: right;\n",
       "    }\n",
       "</style>\n",
       "<table border=\"1\" class=\"dataframe\">\n",
       "  <thead>\n",
       "    <tr style=\"text-align: right;\">\n",
       "      <th></th>\n",
       "      <th>S No.</th>\n",
       "      <th>summary</th>\n",
       "      <th>text</th>\n",
       "    </tr>\n",
       "  </thead>\n",
       "  <tbody>\n",
       "    <tr>\n",
       "      <th>0</th>\n",
       "      <td>1</td>\n",
       "      <td>কাৰাবন্দীৰ পৰা গৃহবন্দী হৈ উভতিল আং ছান ছু কী</td>\n",
       "      <td>আং ছান ছু কীফাইল ফটোসংগ্ৰহীতকাৰাগাৰৰ সূত্ৰই জন...</td>\n",
       "    </tr>\n",
       "    <tr>\n",
       "      <th>1</th>\n",
       "      <td>2</td>\n",
       "      <td>চীন কোৰিয়া ইণ্ডোনেছিয়াৰ পৰা আমদানি কৰা অপটিক...</td>\n",
       "      <td>ফটোসংগ্ৰহীতসস্তীয়া আমদানিৰ পৰা ঘৰুৱা উদ্যোগক ...</td>\n",
       "    </tr>\n",
       "    <tr>\n",
       "      <th>2</th>\n",
       "      <td>3</td>\n",
       "      <td>গ্ৰেপ্তাৰ হল ইমৰান খানদুৰ্নীতিৰ গোচৰত তিনিবছৰৰ...</td>\n",
       "      <td>বিপদে লগ নেৰা হৈছে পাকিস্তানৰ প্ৰাক্তন প্ৰধানম...</td>\n",
       "    </tr>\n",
       "    <tr>\n",
       "      <th>3</th>\n",
       "      <td>4</td>\n",
       "      <td>এইবাৰ পাকিস্তানৰ যুৱকৰ সৈতে বিয়াত বহিল দুই সন...</td>\n",
       "      <td>শচীনসীমা বিবাহ কাণ্ডই বিগত কিছুদিন ধৰি দুই চুব...</td>\n",
       "    </tr>\n",
       "    <tr>\n",
       "      <th>4</th>\n",
       "      <td>5</td>\n",
       "      <td>নিষেধাজ্ঞা নেওচি ভাৰতলৈ নেপালৰ বিলাহীঘোচ লৈ চা...</td>\n",
       "      <td>ভাৰতত আকাশলংঘী হৈছে বিলাহীৰ দামবিলাহীৰ এই অকল্...</td>\n",
       "    </tr>\n",
       "  </tbody>\n",
       "</table>\n",
       "</div>"
      ],
      "text/plain": [
       "   S No.                                            summary  \\\n",
       "0      1      কাৰাবন্দীৰ পৰা গৃহবন্দী হৈ উভতিল আং ছান ছু কী   \n",
       "1      2  চীন কোৰিয়া ইণ্ডোনেছিয়াৰ পৰা আমদানি কৰা অপটিক...   \n",
       "2      3  গ্ৰেপ্তাৰ হল ইমৰান খানদুৰ্নীতিৰ গোচৰত তিনিবছৰৰ...   \n",
       "3      4  এইবাৰ পাকিস্তানৰ যুৱকৰ সৈতে বিয়াত বহিল দুই সন...   \n",
       "4      5  নিষেধাজ্ঞা নেওচি ভাৰতলৈ নেপালৰ বিলাহীঘোচ লৈ চা...   \n",
       "\n",
       "                                                text  \n",
       "0  আং ছান ছু কীফাইল ফটোসংগ্ৰহীতকাৰাগাৰৰ সূত্ৰই জন...  \n",
       "1  ফটোসংগ্ৰহীতসস্তীয়া আমদানিৰ পৰা ঘৰুৱা উদ্যোগক ...  \n",
       "2  বিপদে লগ নেৰা হৈছে পাকিস্তানৰ প্ৰাক্তন প্ৰধানম...  \n",
       "3  শচীনসীমা বিবাহ কাণ্ডই বিগত কিছুদিন ধৰি দুই চুব...  \n",
       "4  ভাৰতত আকাশলংঘী হৈছে বিলাহীৰ দামবিলাহীৰ এই অকল্...  "
      ]
     },
     "execution_count": 9,
     "metadata": {},
     "output_type": "execute_result"
    }
   ],
   "source": [
    "data.head()"
   ]
  },
  {
   "cell_type": "code",
   "execution_count": 10,
   "id": "81e4e36c-a3cc-402e-92b3-520cdca8bff8",
   "metadata": {},
   "outputs": [],
   "source": [
    "data['cleaned'] = data['text'].apply(extract_assamese_text)"
   ]
  },
  {
   "cell_type": "code",
   "execution_count": 11,
   "id": "e9ea9c44-65a6-4ef7-ba84-ae0c7a5acdbf",
   "metadata": {},
   "outputs": [
    {
     "data": {
      "text/html": [
       "<div>\n",
       "<style scoped>\n",
       "    .dataframe tbody tr th:only-of-type {\n",
       "        vertical-align: middle;\n",
       "    }\n",
       "\n",
       "    .dataframe tbody tr th {\n",
       "        vertical-align: top;\n",
       "    }\n",
       "\n",
       "    .dataframe thead th {\n",
       "        text-align: right;\n",
       "    }\n",
       "</style>\n",
       "<table border=\"1\" class=\"dataframe\">\n",
       "  <thead>\n",
       "    <tr style=\"text-align: right;\">\n",
       "      <th></th>\n",
       "      <th>S No.</th>\n",
       "      <th>summary</th>\n",
       "      <th>text</th>\n",
       "      <th>cleaned</th>\n",
       "    </tr>\n",
       "  </thead>\n",
       "  <tbody>\n",
       "    <tr>\n",
       "      <th>0</th>\n",
       "      <td>1</td>\n",
       "      <td>কাৰাবন্দীৰ পৰা গৃহবন্দী হৈ উভতিল আং ছান ছু কী</td>\n",
       "      <td>আং ছান ছু কীফাইল ফটোসংগ্ৰহীতকাৰাগাৰৰ সূত্ৰই জন...</td>\n",
       "      <td>আং ছান ছু কীফাইল ফটোসংগ্ৰহীতকাৰাগাৰৰ সূত্ৰই জন...</td>\n",
       "    </tr>\n",
       "    <tr>\n",
       "      <th>1</th>\n",
       "      <td>2</td>\n",
       "      <td>চীন কোৰিয়া ইণ্ডোনেছিয়াৰ পৰা আমদানি কৰা অপটিক...</td>\n",
       "      <td>ফটোসংগ্ৰহীতসস্তীয়া আমদানিৰ পৰা ঘৰুৱা উদ্যোগক ...</td>\n",
       "      <td>ফটোসংগ্ৰহীতসস্তীয়া আমদানিৰ পৰা ঘৰুৱা উদ্যোগক ...</td>\n",
       "    </tr>\n",
       "    <tr>\n",
       "      <th>2</th>\n",
       "      <td>3</td>\n",
       "      <td>গ্ৰেপ্তাৰ হল ইমৰান খানদুৰ্নীতিৰ গোচৰত তিনিবছৰৰ...</td>\n",
       "      <td>বিপদে লগ নেৰা হৈছে পাকিস্তানৰ প্ৰাক্তন প্ৰধানম...</td>\n",
       "      <td>বিপদে লগ নেৰা হৈছে পাকিস্তানৰ প্ৰাক্তন প্ৰধানম...</td>\n",
       "    </tr>\n",
       "    <tr>\n",
       "      <th>3</th>\n",
       "      <td>4</td>\n",
       "      <td>এইবাৰ পাকিস্তানৰ যুৱকৰ সৈতে বিয়াত বহিল দুই সন...</td>\n",
       "      <td>শচীনসীমা বিবাহ কাণ্ডই বিগত কিছুদিন ধৰি দুই চুব...</td>\n",
       "      <td>শচীনসীমা বিবাহ কাণ্ডই বিগত কিছুদিন ধৰি দুই চুব...</td>\n",
       "    </tr>\n",
       "    <tr>\n",
       "      <th>4</th>\n",
       "      <td>5</td>\n",
       "      <td>নিষেধাজ্ঞা নেওচি ভাৰতলৈ নেপালৰ বিলাহীঘোচ লৈ চা...</td>\n",
       "      <td>ভাৰতত আকাশলংঘী হৈছে বিলাহীৰ দামবিলাহীৰ এই অকল্...</td>\n",
       "      <td>ভাৰতত আকাশলংঘী হৈছে বিলাহীৰ দামবিলাহীৰ এই অকল্...</td>\n",
       "    </tr>\n",
       "  </tbody>\n",
       "</table>\n",
       "</div>"
      ],
      "text/plain": [
       "   S No.                                            summary  \\\n",
       "0      1      কাৰাবন্দীৰ পৰা গৃহবন্দী হৈ উভতিল আং ছান ছু কী   \n",
       "1      2  চীন কোৰিয়া ইণ্ডোনেছিয়াৰ পৰা আমদানি কৰা অপটিক...   \n",
       "2      3  গ্ৰেপ্তাৰ হল ইমৰান খানদুৰ্নীতিৰ গোচৰত তিনিবছৰৰ...   \n",
       "3      4  এইবাৰ পাকিস্তানৰ যুৱকৰ সৈতে বিয়াত বহিল দুই সন...   \n",
       "4      5  নিষেধাজ্ঞা নেওচি ভাৰতলৈ নেপালৰ বিলাহীঘোচ লৈ চা...   \n",
       "\n",
       "                                                text  \\\n",
       "0  আং ছান ছু কীফাইল ফটোসংগ্ৰহীতকাৰাগাৰৰ সূত্ৰই জন...   \n",
       "1  ফটোসংগ্ৰহীতসস্তীয়া আমদানিৰ পৰা ঘৰুৱা উদ্যোগক ...   \n",
       "2  বিপদে লগ নেৰা হৈছে পাকিস্তানৰ প্ৰাক্তন প্ৰধানম...   \n",
       "3  শচীনসীমা বিবাহ কাণ্ডই বিগত কিছুদিন ধৰি দুই চুব...   \n",
       "4  ভাৰতত আকাশলংঘী হৈছে বিলাহীৰ দামবিলাহীৰ এই অকল্...   \n",
       "\n",
       "                                             cleaned  \n",
       "0  আং ছান ছু কীফাইল ফটোসংগ্ৰহীতকাৰাগাৰৰ সূত্ৰই জন...  \n",
       "1  ফটোসংগ্ৰহীতসস্তীয়া আমদানিৰ পৰা ঘৰুৱা উদ্যোগক ...  \n",
       "2  বিপদে লগ নেৰা হৈছে পাকিস্তানৰ প্ৰাক্তন প্ৰধানম...  \n",
       "3  শচীনসীমা বিবাহ কাণ্ডই বিগত কিছুদিন ধৰি দুই চুব...  \n",
       "4  ভাৰতত আকাশলংঘী হৈছে বিলাহীৰ দামবিলাহীৰ এই অকল্...  "
      ]
     },
     "execution_count": 11,
     "metadata": {},
     "output_type": "execute_result"
    }
   ],
   "source": [
    "data.head()"
   ]
  },
  {
   "cell_type": "code",
   "execution_count": 12,
   "id": "c0490474-6270-4e1e-be27-13b020949b20",
   "metadata": {},
   "outputs": [
    {
     "data": {
      "text/plain": [
       "'লকডাউনৰ বিৰুদ্ধে চীনত আজিও অব্যাহত আছে প্ৰতিবাদপ্ৰতিবাদ নিৰ্মূল কৰিবলৈ চীনৰ চৰকাৰে বিশ্ববিদ্যালয়ৰ শিক্ষাৰ্থীসকলক ঘৰলৈ যাবলৈ নিৰ্দেশ দিছেইপিনে চীনৰ এনে পৰিস্থিতিৰ বাতৰি সংগ্ৰহ কৰিবলৈ যোৱা বিবিচিৰ এজন সাংবাদিকক আজি চীনা সেনাই অকথ্য নিৰ্যাতন চলাই গ্ৰেপ্তাৰ কৰাৰ ঘটনাই সমগ্ৰ বিশ্বতে প্ৰতিক্ৰিয়াৰ সৃষ্টি কৰিছেউল্লেখ্য কোভিড সংক্ৰমণৰ বাবেই চীনৰ বিভিন্ন প্ৰান্তত কঠোৰ লকডাউন ঘোষণা কৰা হৈছেমানুহ গৃহবন্দী হৈ থাকিবলগীয়া হোৱাত অতিষ্ঠ হৈ পৰিছেএনে পৰিস্থিতিত মানুহ উত্তেজিত হৈ পৰিছে আৰু চৰকাৰৰ বিৰুদ্ধে প্ৰতিবাদ কৰিবলৈ ৰাজপথলৈ ওলাই আহিছেচৰকাৰৰ কোভিড নীতিৰ বিৰুদ্ধে প্ৰতিবাদ কৰিবলৈ বেইজিং আৰু ছাংহাইত হাজাৰ হাজাৰ মাউহে ৰাজপথলৈ ওলাই আহিছেআজিও আন্দোলন চলিয়েই আছেআৰক্ষীপ্ৰশাসনে প্ৰতিবাদকাৰীৰ বিৰুদ্ধে কঠোৰ ব্যৱস্থা গ্ৰহণ কৰিছেঝি জিনপিং চৰকাৰে কৰোনা ভাইৰাছৰ বিৰুদ্ধে দি থকা যুঁজত কোভিডমুক্ত নীতি গ্ৰহণ কৰিছেসেয়ে গ্ৰহণ কৰা হৈছে অধিক কঠোৰ পদক্ষেপচৰকাৰৰ কঠোৰ কোভিড নিয়মৰ বিৰুদ্ধে জনতাৰ প্ৰতিবাদ সমগ্ৰ দেশতে বিয়পি পৰিছেচৰকাৰৰ বিৰুদ্ধে এনে স্বতঃস্ফূৰ্ত গণ আন্দোলন চীনত বিৰল বুলি কব পাৰিআনকি কোভিডৰ প্ৰথম সংক্ৰমণৰ সময়তো তেনে হোৱা নাছিল নৰ্থইষ্ট নাও এটা মাল্টিএপ ভিত্তিক সম্পূৰ্ণভাৱে আঞ্চলিক দ্বিভাষিক নিউজ প্টেলপেচাদাৰী ব্যক্তিৰ এটা গোটৰ নেতৃত্বত এই ডিজিটেল অসমীয়া বাতৰি প্ৰতিষ্ঠানটোৱে উত্তৰপূবৰ আঠখন ৰাজ্য আৰু এইবোৰৰ প্ৰতিৱেশী দেশকেইখনৰ প্ৰতিটো খাখবৰ সামৰি লোৱাৰ চেষ্টা কৰিবদুটাকৈ ইংৰাজী এপ আৰু এটা অসমীয়া এপৰ সংস্কৰণ থকা এইটোৱে হল এই ধৰণৰ প্ৰথমটো নিউজ প্টেলআমি ৰাজনৈতিকভাৱে নিৰপেক্ষ আৰু দক্ষিণপূব আৰু দক্ষিণ এছিয়াৰ মাজৰ প্ৰকৃত বাবাতৰিৰ সাঁকোৰ ভূমিকা লবলৈ চেষ্টা কৰিম'"
      ]
     },
     "execution_count": 12,
     "metadata": {},
     "output_type": "execute_result"
    }
   ],
   "source": [
    "data['cleaned'][99]"
   ]
  },
  {
   "cell_type": "code",
   "execution_count": 13,
   "id": "e3f9ba3a-5041-436e-ab4b-a719625e4fa1",
   "metadata": {},
   "outputs": [
    {
     "name": "stdout",
     "output_type": "stream",
     "text": [
      "0 আং ছান ছু কীফাইল ফটোসংগ্ৰহীতকাৰাগাৰৰ সূত্ৰই জনোৱা মতে সোমবাৰে কাৰাগাৰৰ পৰা ৰাজধানী নেইপিড চৰকাৰী বাসগৃহলৈ স্থানান্তৰ কৰা হয় ছ্যু কীকলগতে পঢ়কআই এন এছ বিক্ৰান্তত যুৱ নৌসেনা জোৱানৰ মৃতদেহ উদ্ধাৰ ৰহস্যময় মৃত্যুক লৈ চাঞ্চল্য কাৰাগাৰৰ পৰা বদলি হোৱাৰ কথা আনুষ্ঠানিকভাৱে নিশ্চিত কৰা হোৱা নাইঅৱশ্যে গৃহবন্দী কৰাৰ বিষয়টো সামৰিক কৰ্তৃপক্ষৰ এক ইতিবাচক পদক্ষেপো হব পাৰেছ্যু কীক অসুস্থ বুলি বাতৰি প্ৰচাৰ হৈছিলঅৱশ্যে সেনাই এই কথা অস্বীকাৰ কৰিছেচলিত সপ্তাহৰ আৰম্ভণিতে কাৰাগাৰৰ সূত্ৰই প্ৰকাশ কৰা অনুসৰি ছু কীৰ স্বাস্থ্য ভালেই আছেলগতে পঢ়কমাজভাগতে শিক্ষা এৰিছে কেন্দ্ৰীয় বিশ্ববিদ্যালয়ৰ ২৫ হাজাৰ ৫৯৩ জন ছাত্ৰছাত্ৰীয়ে থাইলেণ্ডৰ বৈদেশিক মন্ত্ৰীয়ে চলিত মাহত কাৰাগাৰত থকা ছু কীৰ ওচৰলৈ গৈছিলঅৱশ্যে তেওঁ আৰু কোনো সবিশেষ তথ্য প্ৰকাশ কৰা নাই নৰ্থইষ্ট নাও এটা মাল্টিএপ ভিত্তিক সম্পূৰ্ণভাৱে আঞ্চলিক দ্বিভাষিক নিউজ প্টেলপেচাদাৰী ব্যক্তিৰ এটা গোটৰ নেতৃত্বত এই ডিজিটেল অসমীয়া বাতৰি প্ৰতিষ্ঠানটোৱে উত্তৰপূবৰ আঠখন ৰাজ্য আৰু এইবোৰৰ প্ৰতিৱেশী দেশকেইখনৰ প্ৰতিটো খাখবৰ সামৰি লোৱাৰ চেষ্টা কৰিবদুটাকৈ ইংৰাজী এপ আৰু এটা অসমীয়া এপৰ সংস্কৰণ থকা এইটোৱে হল এই ধৰণৰ প্ৰথমটো নিউজ প্টেলআমি ৰাজনৈতিকভাৱে নিৰপেক্ষ আৰু দক্ষিণপূব আৰু দক্ষিণ এছিয়াৰ মাজৰ প্ৰকৃত বাবাতৰিৰ সাঁকোৰ ভূমিকা লবলৈ চেষ্টা কৰিম\n"
     ]
    },
    {
     "name": "stderr",
     "output_type": "stream",
     "text": [
      "/tmp/ipykernel_40491/900385898.py:2: FutureWarning: Series.__getitem__ treating keys as positions is deprecated. In a future version, integer keys will always be treated as labels (consistent with DataFrame behavior). To access a value by position, use `ser.iloc[pos]`\n",
      "  print(i[0], i[1][2])\n"
     ]
    }
   ],
   "source": [
    "for i in data.head(1).iterrows():\n",
    "    print(i[0], i[1][2])"
   ]
  },
  {
   "cell_type": "code",
   "execution_count": 14,
   "id": "d6f10c23-0155-48ff-ba2c-c01f23c67d66",
   "metadata": {},
   "outputs": [],
   "source": [
    "w = data[['cleaned']]"
   ]
  },
  {
   "cell_type": "code",
   "execution_count": 15,
   "id": "88e138fa-eed8-4727-8434-51dcc8c76f23",
   "metadata": {},
   "outputs": [
    {
     "data": {
      "text/html": [
       "<div>\n",
       "<style scoped>\n",
       "    .dataframe tbody tr th:only-of-type {\n",
       "        vertical-align: middle;\n",
       "    }\n",
       "\n",
       "    .dataframe tbody tr th {\n",
       "        vertical-align: top;\n",
       "    }\n",
       "\n",
       "    .dataframe thead th {\n",
       "        text-align: right;\n",
       "    }\n",
       "</style>\n",
       "<table border=\"1\" class=\"dataframe\">\n",
       "  <thead>\n",
       "    <tr style=\"text-align: right;\">\n",
       "      <th></th>\n",
       "      <th>cleaned</th>\n",
       "    </tr>\n",
       "  </thead>\n",
       "  <tbody>\n",
       "    <tr>\n",
       "      <th>0</th>\n",
       "      <td>আং ছান ছু কীফাইল ফটোসংগ্ৰহীতকাৰাগাৰৰ সূত্ৰই জন...</td>\n",
       "    </tr>\n",
       "    <tr>\n",
       "      <th>1</th>\n",
       "      <td>ফটোসংগ্ৰহীতসস্তীয়া আমদানিৰ পৰা ঘৰুৱা উদ্যোগক ...</td>\n",
       "    </tr>\n",
       "    <tr>\n",
       "      <th>2</th>\n",
       "      <td>বিপদে লগ নেৰা হৈছে পাকিস্তানৰ প্ৰাক্তন প্ৰধানম...</td>\n",
       "    </tr>\n",
       "    <tr>\n",
       "      <th>3</th>\n",
       "      <td>শচীনসীমা বিবাহ কাণ্ডই বিগত কিছুদিন ধৰি দুই চুব...</td>\n",
       "    </tr>\n",
       "    <tr>\n",
       "      <th>4</th>\n",
       "      <td>ভাৰতত আকাশলংঘী হৈছে বিলাহীৰ দামবিলাহীৰ এই অকল্...</td>\n",
       "    </tr>\n",
       "  </tbody>\n",
       "</table>\n",
       "</div>"
      ],
      "text/plain": [
       "                                             cleaned\n",
       "0  আং ছান ছু কীফাইল ফটোসংগ্ৰহীতকাৰাগাৰৰ সূত্ৰই জন...\n",
       "1  ফটোসংগ্ৰহীতসস্তীয়া আমদানিৰ পৰা ঘৰুৱা উদ্যোগক ...\n",
       "2  বিপদে লগ নেৰা হৈছে পাকিস্তানৰ প্ৰাক্তন প্ৰধানম...\n",
       "3  শচীনসীমা বিবাহ কাণ্ডই বিগত কিছুদিন ধৰি দুই চুব...\n",
       "4  ভাৰতত আকাশলংঘী হৈছে বিলাহীৰ দামবিলাহীৰ এই অকল্..."
      ]
     },
     "execution_count": 15,
     "metadata": {},
     "output_type": "execute_result"
    }
   ],
   "source": [
    "w.head()"
   ]
  },
  {
   "cell_type": "code",
   "execution_count": 16,
   "id": "05950b26-8989-4ccb-95a7-7ac62cbaf2c6",
   "metadata": {},
   "outputs": [],
   "source": [
    "data = pd.read_csv(\"datasets/Assamese/news18_preprocessed.csv\")"
   ]
  },
  {
   "cell_type": "code",
   "execution_count": 17,
   "id": "adc426d8-379f-426b-9b73-e38654caa66c",
   "metadata": {},
   "outputs": [
    {
     "data": {
      "text/html": [
       "<div>\n",
       "<style scoped>\n",
       "    .dataframe tbody tr th:only-of-type {\n",
       "        vertical-align: middle;\n",
       "    }\n",
       "\n",
       "    .dataframe tbody tr th {\n",
       "        vertical-align: top;\n",
       "    }\n",
       "\n",
       "    .dataframe thead th {\n",
       "        text-align: right;\n",
       "    }\n",
       "</style>\n",
       "<table border=\"1\" class=\"dataframe\">\n",
       "  <thead>\n",
       "    <tr style=\"text-align: right;\">\n",
       "      <th></th>\n",
       "      <th>S No.</th>\n",
       "      <th>summary</th>\n",
       "      <th>text</th>\n",
       "    </tr>\n",
       "  </thead>\n",
       "  <tbody>\n",
       "    <tr>\n",
       "      <th>0</th>\n",
       "      <td>1</td>\n",
       "      <td>জিলা আয়ুক্তৰ বাসভৱনৰ কাষতে মহিলাৰ পৰা থপিয়াই...</td>\n",
       "      <td>নিৰাপত্তাহীনতাত ভুগিছে যোৰহাট নগৰবাসীয়েযোৰহাট...</td>\n",
       "    </tr>\n",
       "    <tr>\n",
       "      <th>1</th>\n",
       "      <td>2</td>\n",
       "      <td>পুনৰ জালুকবাৰীৰ নতুন শৰাইঘাট দলঙত অঘটন</td>\n",
       "      <td>পুনৰ জালুকবাৰীৰ নতুন শৰাইঘাট দলঙত অঘটনদলঙৰ মাজ...</td>\n",
       "    </tr>\n",
       "    <tr>\n",
       "      <th>2</th>\n",
       "      <td>3</td>\n",
       "      <td>দিহানামেৰে বিশ্ব অভিলেখৰ প্ৰস্তুতি কিন্তু আৰম্...</td>\n",
       "      <td>বাপতিসাহোন বিহুৰ পিছত এইবাৰ দিহানাম পৰিৱেশনেৰে...</td>\n",
       "    </tr>\n",
       "    <tr>\n",
       "      <th>3</th>\n",
       "      <td>4</td>\n",
       "      <td>আন্তঃৰাষ্ট্ৰীয় গণিত অলিম্পিয়াডত ছয়টা বিষয়ত...</td>\n",
       "      <td>নতুন দিল্লীৰ চিলভাৰ জন অলিম্পিয়াডৰ উদ্যোগত অন...</td>\n",
       "    </tr>\n",
       "    <tr>\n",
       "      <th>4</th>\n",
       "      <td>5</td>\n",
       "      <td>দিল্লীতে কিয় কেবিনেট ছিংগাপুৰলণ্ডনম্যানমাৰতো প...</td>\n",
       "      <td>বুধবাৰে সন্ধিয়া পাঁচ বজাত নতুন দিল্লীত অনুষ্ঠি...</td>\n",
       "    </tr>\n",
       "  </tbody>\n",
       "</table>\n",
       "</div>"
      ],
      "text/plain": [
       "   S No.                                            summary  \\\n",
       "0      1  জিলা আয়ুক্তৰ বাসভৱনৰ কাষতে মহিলাৰ পৰা থপিয়াই...   \n",
       "1      2             পুনৰ জালুকবাৰীৰ নতুন শৰাইঘাট দলঙত অঘটন   \n",
       "2      3  দিহানামেৰে বিশ্ব অভিলেখৰ প্ৰস্তুতি কিন্তু আৰম্...   \n",
       "3      4  আন্তঃৰাষ্ট্ৰীয় গণিত অলিম্পিয়াডত ছয়টা বিষয়ত...   \n",
       "4      5  দিল্লীতে কিয় কেবিনেট ছিংগাপুৰলণ্ডনম্যানমাৰতো প...   \n",
       "\n",
       "                                                text  \n",
       "0  নিৰাপত্তাহীনতাত ভুগিছে যোৰহাট নগৰবাসীয়েযোৰহাট...  \n",
       "1  পুনৰ জালুকবাৰীৰ নতুন শৰাইঘাট দলঙত অঘটনদলঙৰ মাজ...  \n",
       "2  বাপতিসাহোন বিহুৰ পিছত এইবাৰ দিহানাম পৰিৱেশনেৰে...  \n",
       "3  নতুন দিল্লীৰ চিলভাৰ জন অলিম্পিয়াডৰ উদ্যোগত অন...  \n",
       "4  বুধবাৰে সন্ধিয়া পাঁচ বজাত নতুন দিল্লীত অনুষ্ঠি...  "
      ]
     },
     "execution_count": 17,
     "metadata": {},
     "output_type": "execute_result"
    }
   ],
   "source": [
    "data.head()"
   ]
  },
  {
   "cell_type": "code",
   "execution_count": 18,
   "id": "82a7928b-c4b5-4bdb-86c3-5220832bd192",
   "metadata": {},
   "outputs": [],
   "source": [
    "data['cleaned'] = data['text'].apply(extract_assamese_text)"
   ]
  },
  {
   "cell_type": "code",
   "execution_count": 19,
   "id": "8521cb01-62b9-456e-8eef-81b850c52ae2",
   "metadata": {},
   "outputs": [
    {
     "data": {
      "text/html": [
       "<div>\n",
       "<style scoped>\n",
       "    .dataframe tbody tr th:only-of-type {\n",
       "        vertical-align: middle;\n",
       "    }\n",
       "\n",
       "    .dataframe tbody tr th {\n",
       "        vertical-align: top;\n",
       "    }\n",
       "\n",
       "    .dataframe thead th {\n",
       "        text-align: right;\n",
       "    }\n",
       "</style>\n",
       "<table border=\"1\" class=\"dataframe\">\n",
       "  <thead>\n",
       "    <tr style=\"text-align: right;\">\n",
       "      <th></th>\n",
       "      <th>S No.</th>\n",
       "      <th>summary</th>\n",
       "      <th>text</th>\n",
       "      <th>cleaned</th>\n",
       "    </tr>\n",
       "  </thead>\n",
       "  <tbody>\n",
       "    <tr>\n",
       "      <th>0</th>\n",
       "      <td>1</td>\n",
       "      <td>জিলা আয়ুক্তৰ বাসভৱনৰ কাষতে মহিলাৰ পৰা থপিয়াই...</td>\n",
       "      <td>নিৰাপত্তাহীনতাত ভুগিছে যোৰহাট নগৰবাসীয়েযোৰহাট...</td>\n",
       "      <td>নিৰাপত্তাহীনতাত ভুগিছে যোৰহাট নগৰবাসীয়েযোৰহাট...</td>\n",
       "    </tr>\n",
       "    <tr>\n",
       "      <th>1</th>\n",
       "      <td>2</td>\n",
       "      <td>পুনৰ জালুকবাৰীৰ নতুন শৰাইঘাট দলঙত অঘটন</td>\n",
       "      <td>পুনৰ জালুকবাৰীৰ নতুন শৰাইঘাট দলঙত অঘটনদলঙৰ মাজ...</td>\n",
       "      <td>পুনৰ জালুকবাৰীৰ নতুন শৰাইঘাট দলঙত অঘটনদলঙৰ মাজ...</td>\n",
       "    </tr>\n",
       "    <tr>\n",
       "      <th>2</th>\n",
       "      <td>3</td>\n",
       "      <td>দিহানামেৰে বিশ্ব অভিলেখৰ প্ৰস্তুতি কিন্তু আৰম্...</td>\n",
       "      <td>বাপতিসাহোন বিহুৰ পিছত এইবাৰ দিহানাম পৰিৱেশনেৰে...</td>\n",
       "      <td>বাপতিসাহোন বিহুৰ পিছত এইবাৰ দিহানাম পৰিৱেশনেৰে...</td>\n",
       "    </tr>\n",
       "    <tr>\n",
       "      <th>3</th>\n",
       "      <td>4</td>\n",
       "      <td>আন্তঃৰাষ্ট্ৰীয় গণিত অলিম্পিয়াডত ছয়টা বিষয়ত...</td>\n",
       "      <td>নতুন দিল্লীৰ চিলভাৰ জন অলিম্পিয়াডৰ উদ্যোগত অন...</td>\n",
       "      <td>নতুন দিল্লীৰ চিলভাৰ জন অলিম্পিয়াডৰ উদ্যোগত অন...</td>\n",
       "    </tr>\n",
       "    <tr>\n",
       "      <th>4</th>\n",
       "      <td>5</td>\n",
       "      <td>দিল্লীতে কিয় কেবিনেট ছিংগাপুৰলণ্ডনম্যানমাৰতো প...</td>\n",
       "      <td>বুধবাৰে সন্ধিয়া পাঁচ বজাত নতুন দিল্লীত অনুষ্ঠি...</td>\n",
       "      <td>বুধবাৰে সন্ধিয়া পাঁচ বজাত নতুন দিল্লীত অনুষ্ঠি...</td>\n",
       "    </tr>\n",
       "  </tbody>\n",
       "</table>\n",
       "</div>"
      ],
      "text/plain": [
       "   S No.                                            summary  \\\n",
       "0      1  জিলা আয়ুক্তৰ বাসভৱনৰ কাষতে মহিলাৰ পৰা থপিয়াই...   \n",
       "1      2             পুনৰ জালুকবাৰীৰ নতুন শৰাইঘাট দলঙত অঘটন   \n",
       "2      3  দিহানামেৰে বিশ্ব অভিলেখৰ প্ৰস্তুতি কিন্তু আৰম্...   \n",
       "3      4  আন্তঃৰাষ্ট্ৰীয় গণিত অলিম্পিয়াডত ছয়টা বিষয়ত...   \n",
       "4      5  দিল্লীতে কিয় কেবিনেট ছিংগাপুৰলণ্ডনম্যানমাৰতো প...   \n",
       "\n",
       "                                                text  \\\n",
       "0  নিৰাপত্তাহীনতাত ভুগিছে যোৰহাট নগৰবাসীয়েযোৰহাট...   \n",
       "1  পুনৰ জালুকবাৰীৰ নতুন শৰাইঘাট দলঙত অঘটনদলঙৰ মাজ...   \n",
       "2  বাপতিসাহোন বিহুৰ পিছত এইবাৰ দিহানাম পৰিৱেশনেৰে...   \n",
       "3  নতুন দিল্লীৰ চিলভাৰ জন অলিম্পিয়াডৰ উদ্যোগত অন...   \n",
       "4  বুধবাৰে সন্ধিয়া পাঁচ বজাত নতুন দিল্লীত অনুষ্ঠি...   \n",
       "\n",
       "                                             cleaned  \n",
       "0  নিৰাপত্তাহীনতাত ভুগিছে যোৰহাট নগৰবাসীয়েযোৰহাট...  \n",
       "1  পুনৰ জালুকবাৰীৰ নতুন শৰাইঘাট দলঙত অঘটনদলঙৰ মাজ...  \n",
       "2  বাপতিসাহোন বিহুৰ পিছত এইবাৰ দিহানাম পৰিৱেশনেৰে...  \n",
       "3  নতুন দিল্লীৰ চিলভাৰ জন অলিম্পিয়াডৰ উদ্যোগত অন...  \n",
       "4  বুধবাৰে সন্ধিয়া পাঁচ বজাত নতুন দিল্লীত অনুষ্ঠি...  "
      ]
     },
     "execution_count": 19,
     "metadata": {},
     "output_type": "execute_result"
    }
   ],
   "source": [
    "data.head()"
   ]
  },
  {
   "cell_type": "code",
   "execution_count": 20,
   "id": "b37576f3-483b-4691-8349-de7602d5ac7e",
   "metadata": {},
   "outputs": [],
   "source": [
    "s = data[['cleaned']]"
   ]
  },
  {
   "cell_type": "code",
   "execution_count": 21,
   "id": "075b1e50-e6d9-4598-984e-2904490de906",
   "metadata": {},
   "outputs": [
    {
     "data": {
      "text/html": [
       "<div>\n",
       "<style scoped>\n",
       "    .dataframe tbody tr th:only-of-type {\n",
       "        vertical-align: middle;\n",
       "    }\n",
       "\n",
       "    .dataframe tbody tr th {\n",
       "        vertical-align: top;\n",
       "    }\n",
       "\n",
       "    .dataframe thead th {\n",
       "        text-align: right;\n",
       "    }\n",
       "</style>\n",
       "<table border=\"1\" class=\"dataframe\">\n",
       "  <thead>\n",
       "    <tr style=\"text-align: right;\">\n",
       "      <th></th>\n",
       "      <th>cleaned</th>\n",
       "    </tr>\n",
       "  </thead>\n",
       "  <tbody>\n",
       "    <tr>\n",
       "      <th>0</th>\n",
       "      <td>নিৰাপত্তাহীনতাত ভুগিছে যোৰহাট নগৰবাসীয়েযোৰহাট...</td>\n",
       "    </tr>\n",
       "    <tr>\n",
       "      <th>1</th>\n",
       "      <td>পুনৰ জালুকবাৰীৰ নতুন শৰাইঘাট দলঙত অঘটনদলঙৰ মাজ...</td>\n",
       "    </tr>\n",
       "    <tr>\n",
       "      <th>2</th>\n",
       "      <td>বাপতিসাহোন বিহুৰ পিছত এইবাৰ দিহানাম পৰিৱেশনেৰে...</td>\n",
       "    </tr>\n",
       "    <tr>\n",
       "      <th>3</th>\n",
       "      <td>নতুন দিল্লীৰ চিলভাৰ জন অলিম্পিয়াডৰ উদ্যোগত অন...</td>\n",
       "    </tr>\n",
       "    <tr>\n",
       "      <th>4</th>\n",
       "      <td>বুধবাৰে সন্ধিয়া পাঁচ বজাত নতুন দিল্লীত অনুষ্ঠি...</td>\n",
       "    </tr>\n",
       "  </tbody>\n",
       "</table>\n",
       "</div>"
      ],
      "text/plain": [
       "                                             cleaned\n",
       "0  নিৰাপত্তাহীনতাত ভুগিছে যোৰহাট নগৰবাসীয়েযোৰহাট...\n",
       "1  পুনৰ জালুকবাৰীৰ নতুন শৰাইঘাট দলঙত অঘটনদলঙৰ মাজ...\n",
       "2  বাপতিসাহোন বিহুৰ পিছত এইবাৰ দিহানাম পৰিৱেশনেৰে...\n",
       "3  নতুন দিল্লীৰ চিলভাৰ জন অলিম্পিয়াডৰ উদ্যোগত অন...\n",
       "4  বুধবাৰে সন্ধিয়া পাঁচ বজাত নতুন দিল্লীত অনুষ্ঠি..."
      ]
     },
     "execution_count": 21,
     "metadata": {},
     "output_type": "execute_result"
    }
   ],
   "source": [
    "s.head()"
   ]
  },
  {
   "cell_type": "code",
   "execution_count": 22,
   "id": "ba4b8e4f-d039-4af4-a4b7-251266cb5093",
   "metadata": {},
   "outputs": [],
   "source": [
    "final = pd.concat([w, s])"
   ]
  },
  {
   "cell_type": "code",
   "execution_count": 23,
   "id": "74888aea-d5ff-468a-8db1-bd88182cd92c",
   "metadata": {},
   "outputs": [
    {
     "data": {
      "text/html": [
       "<div>\n",
       "<style scoped>\n",
       "    .dataframe tbody tr th:only-of-type {\n",
       "        vertical-align: middle;\n",
       "    }\n",
       "\n",
       "    .dataframe tbody tr th {\n",
       "        vertical-align: top;\n",
       "    }\n",
       "\n",
       "    .dataframe thead th {\n",
       "        text-align: right;\n",
       "    }\n",
       "</style>\n",
       "<table border=\"1\" class=\"dataframe\">\n",
       "  <thead>\n",
       "    <tr style=\"text-align: right;\">\n",
       "      <th></th>\n",
       "      <th>cleaned</th>\n",
       "    </tr>\n",
       "  </thead>\n",
       "  <tbody>\n",
       "    <tr>\n",
       "      <th>0</th>\n",
       "      <td>আং ছান ছু কীফাইল ফটোসংগ্ৰহীতকাৰাগাৰৰ সূত্ৰই জন...</td>\n",
       "    </tr>\n",
       "    <tr>\n",
       "      <th>1</th>\n",
       "      <td>ফটোসংগ্ৰহীতসস্তীয়া আমদানিৰ পৰা ঘৰুৱা উদ্যোগক ...</td>\n",
       "    </tr>\n",
       "    <tr>\n",
       "      <th>2</th>\n",
       "      <td>বিপদে লগ নেৰা হৈছে পাকিস্তানৰ প্ৰাক্তন প্ৰধানম...</td>\n",
       "    </tr>\n",
       "    <tr>\n",
       "      <th>3</th>\n",
       "      <td>শচীনসীমা বিবাহ কাণ্ডই বিগত কিছুদিন ধৰি দুই চুব...</td>\n",
       "    </tr>\n",
       "    <tr>\n",
       "      <th>4</th>\n",
       "      <td>ভাৰতত আকাশলংঘী হৈছে বিলাহীৰ দামবিলাহীৰ এই অকল্...</td>\n",
       "    </tr>\n",
       "  </tbody>\n",
       "</table>\n",
       "</div>"
      ],
      "text/plain": [
       "                                             cleaned\n",
       "0  আং ছান ছু কীফাইল ফটোসংগ্ৰহীতকাৰাগাৰৰ সূত্ৰই জন...\n",
       "1  ফটোসংগ্ৰহীতসস্তীয়া আমদানিৰ পৰা ঘৰুৱা উদ্যোগক ...\n",
       "2  বিপদে লগ নেৰা হৈছে পাকিস্তানৰ প্ৰাক্তন প্ৰধানম...\n",
       "3  শচীনসীমা বিবাহ কাণ্ডই বিগত কিছুদিন ধৰি দুই চুব...\n",
       "4  ভাৰতত আকাশলংঘী হৈছে বিলাহীৰ দামবিলাহীৰ এই অকল্..."
      ]
     },
     "execution_count": 23,
     "metadata": {},
     "output_type": "execute_result"
    }
   ],
   "source": [
    "final.head()"
   ]
  },
  {
   "cell_type": "code",
   "execution_count": 24,
   "id": "cd344694-56d3-41c8-83ef-f604d4d925c3",
   "metadata": {},
   "outputs": [],
   "source": [
    "final.to_csv('final/Assamese.csv', index=False, encoding='utf-8')"
   ]
  },
  {
   "cell_type": "code",
   "execution_count": null,
   "id": "8609658a-2c18-4832-86a6-77c76070cf91",
   "metadata": {},
   "outputs": [],
   "source": []
  },
  {
   "cell_type": "markdown",
   "id": "1aebba00-0b8a-489b-b96c-093bfc92273f",
   "metadata": {},
   "source": [
    "## Bengali"
   ]
  },
  {
   "cell_type": "code",
   "execution_count": 84,
   "id": "60690022-dcef-4b0b-8cc5-714b86c300be",
   "metadata": {},
   "outputs": [],
   "source": [
    "with open(\"datasets/Bengali/Bangla-OPUS.txt\") as f:\n",
    "    data = f.read()"
   ]
  },
  {
   "cell_type": "code",
   "execution_count": 85,
   "id": "15e24cc2-c5db-4f22-bc44-eb8e7c60629d",
   "metadata": {},
   "outputs": [
    {
     "data": {
      "text/plain": [
       "'আজ ২১শে ফেব্রুয়ারী ইউনেস্কোর উদ্দ্যোগে আন্তর্জাতিক মাতৃভাষা দিবস উদযাপন হচ্ছে।\\nএর মুল লক্ষ্য হচ্ছে বিভিন্ন ভাষা ও সংস্কৃতির স্বকীয়তাকে তুলে ধরা। এটি আসলে ’একুশে ফেব্রুয়ারী’ বা বাংলাদেশের মাতৃভাষা আজ ২১শে ফেব্রুয়ারী ইউনেস্কোর উদ্দ্যোগে আন্তর্জাতিক মাতৃভাষা দিবস উদযাপন হচ্ছে।\\nশাওন৬৮ গর্বের সাথে জানাচ্ছে:\\nবাংলাদেশে একুশে মানেই একুশে ফেব্রুয়ারী, যেই দিনটিতে বাংলাদেশ ১৯৫২ সালের শহীদদের স্মরন করে এবং গর্বের সাথে বাংলা ভাষা আন্দোলনকে উদযাপন করে।\\nপিনাকি ভাষা আন্দোলনে সম্পৃক্ত ব্যক্তিদের এবং এর শহীদদের একটি তালিকা তৈরি করেছে।\\nইতিহাসের পাতা থেকে: ১৯৪৭ সালে ভারত ভাগ হয়ে পৃথিবীর বুকে জন্ম নেয় প্রায় ১৬০০ মাইল দুরে অবস্থিত, ও ভারত দ্বারা বিচ্ছিন্ন্ পাকিস্তানের দুটি অংশ, পূর্ব পাকিস্তান ও পশ্চিম পাকিস্তান।\\nএই বিভক্তির পেছনে কাজ করেছে মোহাম্মদ জিন্নাহর ধর্মভিত্তিক ”দ্বিজাতিত্ত” যা ভাষা ও সংস্কৃতিকে বিবেচনায় না রেখে শুধু মাত্র ধর্মের মিলকেই জাতি গঠনের জন্যে গুরুত্বপুর্ন বলে বিবেচনা করে।\\nনবগঠিত পাকিস্তানের অধিকাংশের বাস ছিল পূর্ব পাকিস্তান এবং তাদের মাতৃভাষা বাংলা।\\nএই ভাষার গৌরবময় ঐতিহ্য হাজার বছরেরও বে'"
      ]
     },
     "execution_count": 85,
     "metadata": {},
     "output_type": "execute_result"
    }
   ],
   "source": [
    "data[:1000]"
   ]
  },
  {
   "cell_type": "code",
   "execution_count": null,
   "id": "da8ef439-782c-4d35-bfe9-d177d75968e3",
   "metadata": {},
   "outputs": [],
   "source": []
  },
  {
   "cell_type": "code",
   "execution_count": null,
   "id": "4974ad64-e95b-4d27-bfd7-2fcaac983ac9",
   "metadata": {},
   "outputs": [],
   "source": []
  }
 ],
 "metadata": {
  "kernelspec": {
   "display_name": "language_detection",
   "language": "python",
   "name": "language_detection"
  },
  "language_info": {
   "codemirror_mode": {
    "name": "ipython",
    "version": 3
   },
   "file_extension": ".py",
   "mimetype": "text/x-python",
   "name": "python",
   "nbconvert_exporter": "python",
   "pygments_lexer": "ipython3",
   "version": "3.10.12"
  }
 },
 "nbformat": 4,
 "nbformat_minor": 5
}
