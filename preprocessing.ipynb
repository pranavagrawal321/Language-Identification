{
 "cells": [
  {
   "cell_type": "markdown",
   "id": "34c50163-e754-415b-a759-8669d34321b6",
   "metadata": {},
   "source": [
    "## Assamese"
   ]
  },
  {
   "cell_type": "code",
   "execution_count": 1,
   "id": "e9b27c70-0f70-47e4-9fbf-2afd9bfffb2b",
   "metadata": {},
   "outputs": [],
   "source": [
    "import os"
   ]
  },
  {
   "cell_type": "code",
   "execution_count": 2,
   "id": "130b7614-7774-443d-a00d-6d1204a8f1f0",
   "metadata": {},
   "outputs": [
    {
     "data": {
      "text/plain": [
       "['Nepali.zip',\n",
       " 'Kannada.zip',\n",
       " 'Malayalam',\n",
       " 'Bengali.zip',\n",
       " 'Sanskrit.zip',\n",
       " 'Multilang.tgz',\n",
       " 'Kannada',\n",
       " 'Punjabi.zip',\n",
       " 'Punjabi',\n",
       " 'Malayalam.zip',\n",
       " 'Hindi',\n",
       " 'Tamil',\n",
       " 'Marathi.zip',\n",
       " 'Urdu',\n",
       " 'Gujarati.zip',\n",
       " 'Tamil.zip',\n",
       " 'Odia',\n",
       " 'Bodo.zip',\n",
       " 'English.zip',\n",
       " 'Bodo',\n",
       " 'Sindhi.zip',\n",
       " 'Assamese.zip',\n",
       " 'Urdu.zip',\n",
       " 'Hindi.zip',\n",
       " 'Sanskrit',\n",
       " 'Gujarati',\n",
       " 'Bengali',\n",
       " 'Assamese',\n",
       " 'Nepali',\n",
       " 'Kashmiri.csv',\n",
       " 'Odia.zip',\n",
       " 'Telugu',\n",
       " 'English',\n",
       " 'Marathi',\n",
       " 'Sindhi',\n",
       " 'Multilang',\n",
       " 'Telugu.zip']"
      ]
     },
     "execution_count": 2,
     "metadata": {},
     "output_type": "execute_result"
    }
   ],
   "source": [
    "os.listdir('datasets')"
   ]
  },
  {
   "cell_type": "code",
   "execution_count": 3,
   "id": "52ea16db-dbb2-46db-b8bd-31a1a0b17d8c",
   "metadata": {},
   "outputs": [
    {
     "name": "stdout",
     "output_type": "stream",
     "text": [
      "nenow_dataset.txt\n",
      "news18_preprocessed.csv\n",
      "nenow_preprocessed.csv\n",
      "new18_dataset.txt\n"
     ]
    }
   ],
   "source": [
    "for i in os.listdir('datasets/Assamese/'):\n",
    "    print(i)"
   ]
  },
  {
   "cell_type": "code",
   "execution_count": 4,
   "id": "e925695c-28ca-4689-a51b-0c9e3ecccca3",
   "metadata": {},
   "outputs": [],
   "source": [
    "import re"
   ]
  },
  {
   "cell_type": "code",
   "execution_count": 5,
   "id": "c500d0ba-e2b0-47d8-9cef-ce467000016c",
   "metadata": {},
   "outputs": [],
   "source": [
    "def extract_assamese_text(text):\n",
    "    # Regular expression pattern to match Assamese characters\n",
    "    assamese_pattern = re.compile(r'[\\u0980-\\u09FF\\s]+')\n",
    "    # Find all matches of Assamese text in the input text\n",
    "    assamese_matches = assamese_pattern.findall(text)\n",
    "    # Filter out empty strings\n",
    "    assamese_matches = [match.strip() for match in assamese_matches if match.strip()]\n",
    "    # Join the matches to form the extracted Assamese text\n",
    "    assamese_text = ' '.join(assamese_matches)\n",
    "    return assamese_text"
   ]
  },
  {
   "cell_type": "code",
   "execution_count": 6,
   "id": "7ea93d77-b040-4920-928e-c72ca95d3349",
   "metadata": {},
   "outputs": [],
   "source": [
    "os.makedirs('final', exist_ok=True)"
   ]
  },
  {
   "cell_type": "code",
   "execution_count": 7,
   "id": "55a071a8-d3a8-4e82-811d-866b5d49ecaa",
   "metadata": {},
   "outputs": [],
   "source": [
    "import pandas as pd\n",
    "data = pd.read_csv(\"datasets/Assamese/nenow_preprocessed.csv\")"
   ]
  },
  {
   "cell_type": "code",
   "execution_count": 8,
   "id": "4ce9e8df-c26a-4cfc-a135-6eca2b598cca",
   "metadata": {},
   "outputs": [
    {
     "data": {
      "text/html": [
       "<div>\n",
       "<style scoped>\n",
       "    .dataframe tbody tr th:only-of-type {\n",
       "        vertical-align: middle;\n",
       "    }\n",
       "\n",
       "    .dataframe tbody tr th {\n",
       "        vertical-align: top;\n",
       "    }\n",
       "\n",
       "    .dataframe thead th {\n",
       "        text-align: right;\n",
       "    }\n",
       "</style>\n",
       "<table border=\"1\" class=\"dataframe\">\n",
       "  <thead>\n",
       "    <tr style=\"text-align: right;\">\n",
       "      <th></th>\n",
       "      <th>S No.</th>\n",
       "      <th>summary</th>\n",
       "      <th>text</th>\n",
       "    </tr>\n",
       "  </thead>\n",
       "  <tbody>\n",
       "    <tr>\n",
       "      <th>0</th>\n",
       "      <td>1</td>\n",
       "      <td>কাৰাবন্দীৰ পৰা গৃহবন্দী হৈ উভতিল আং ছান ছু কী</td>\n",
       "      <td>আং ছান ছু কীফাইল ফটোসংগ্ৰহীতকাৰাগাৰৰ সূত্ৰই জন...</td>\n",
       "    </tr>\n",
       "    <tr>\n",
       "      <th>1</th>\n",
       "      <td>2</td>\n",
       "      <td>চীন কোৰিয়া ইণ্ডোনেছিয়াৰ পৰা আমদানি কৰা অপটিক...</td>\n",
       "      <td>ফটোসংগ্ৰহীতসস্তীয়া আমদানিৰ পৰা ঘৰুৱা উদ্যোগক ...</td>\n",
       "    </tr>\n",
       "    <tr>\n",
       "      <th>2</th>\n",
       "      <td>3</td>\n",
       "      <td>গ্ৰেপ্তাৰ হল ইমৰান খানদুৰ্নীতিৰ গোচৰত তিনিবছৰৰ...</td>\n",
       "      <td>বিপদে লগ নেৰা হৈছে পাকিস্তানৰ প্ৰাক্তন প্ৰধানম...</td>\n",
       "    </tr>\n",
       "    <tr>\n",
       "      <th>3</th>\n",
       "      <td>4</td>\n",
       "      <td>এইবাৰ পাকিস্তানৰ যুৱকৰ সৈতে বিয়াত বহিল দুই সন...</td>\n",
       "      <td>শচীনসীমা বিবাহ কাণ্ডই বিগত কিছুদিন ধৰি দুই চুব...</td>\n",
       "    </tr>\n",
       "    <tr>\n",
       "      <th>4</th>\n",
       "      <td>5</td>\n",
       "      <td>নিষেধাজ্ঞা নেওচি ভাৰতলৈ নেপালৰ বিলাহীঘোচ লৈ চা...</td>\n",
       "      <td>ভাৰতত আকাশলংঘী হৈছে বিলাহীৰ দামবিলাহীৰ এই অকল্...</td>\n",
       "    </tr>\n",
       "  </tbody>\n",
       "</table>\n",
       "</div>"
      ],
      "text/plain": [
       "   S No.                                            summary  \\\n",
       "0      1      কাৰাবন্দীৰ পৰা গৃহবন্দী হৈ উভতিল আং ছান ছু কী   \n",
       "1      2  চীন কোৰিয়া ইণ্ডোনেছিয়াৰ পৰা আমদানি কৰা অপটিক...   \n",
       "2      3  গ্ৰেপ্তাৰ হল ইমৰান খানদুৰ্নীতিৰ গোচৰত তিনিবছৰৰ...   \n",
       "3      4  এইবাৰ পাকিস্তানৰ যুৱকৰ সৈতে বিয়াত বহিল দুই সন...   \n",
       "4      5  নিষেধাজ্ঞা নেওচি ভাৰতলৈ নেপালৰ বিলাহীঘোচ লৈ চা...   \n",
       "\n",
       "                                                text  \n",
       "0  আং ছান ছু কীফাইল ফটোসংগ্ৰহীতকাৰাগাৰৰ সূত্ৰই জন...  \n",
       "1  ফটোসংগ্ৰহীতসস্তীয়া আমদানিৰ পৰা ঘৰুৱা উদ্যোগক ...  \n",
       "2  বিপদে লগ নেৰা হৈছে পাকিস্তানৰ প্ৰাক্তন প্ৰধানম...  \n",
       "3  শচীনসীমা বিবাহ কাণ্ডই বিগত কিছুদিন ধৰি দুই চুব...  \n",
       "4  ভাৰতত আকাশলংঘী হৈছে বিলাহীৰ দামবিলাহীৰ এই অকল্...  "
      ]
     },
     "execution_count": 8,
     "metadata": {},
     "output_type": "execute_result"
    }
   ],
   "source": [
    "data.head()"
   ]
  },
  {
   "cell_type": "code",
   "execution_count": 9,
   "id": "81e4e36c-a3cc-402e-92b3-520cdca8bff8",
   "metadata": {},
   "outputs": [],
   "source": [
    "data['cleaned'] = data['text'].apply(extract_assamese_text)"
   ]
  },
  {
   "cell_type": "code",
   "execution_count": 10,
   "id": "e9ea9c44-65a6-4ef7-ba84-ae0c7a5acdbf",
   "metadata": {},
   "outputs": [
    {
     "data": {
      "text/html": [
       "<div>\n",
       "<style scoped>\n",
       "    .dataframe tbody tr th:only-of-type {\n",
       "        vertical-align: middle;\n",
       "    }\n",
       "\n",
       "    .dataframe tbody tr th {\n",
       "        vertical-align: top;\n",
       "    }\n",
       "\n",
       "    .dataframe thead th {\n",
       "        text-align: right;\n",
       "    }\n",
       "</style>\n",
       "<table border=\"1\" class=\"dataframe\">\n",
       "  <thead>\n",
       "    <tr style=\"text-align: right;\">\n",
       "      <th></th>\n",
       "      <th>S No.</th>\n",
       "      <th>summary</th>\n",
       "      <th>text</th>\n",
       "      <th>cleaned</th>\n",
       "    </tr>\n",
       "  </thead>\n",
       "  <tbody>\n",
       "    <tr>\n",
       "      <th>0</th>\n",
       "      <td>1</td>\n",
       "      <td>কাৰাবন্দীৰ পৰা গৃহবন্দী হৈ উভতিল আং ছান ছু কী</td>\n",
       "      <td>আং ছান ছু কীফাইল ফটোসংগ্ৰহীতকাৰাগাৰৰ সূত্ৰই জন...</td>\n",
       "      <td>আং ছান ছু কীফাইল ফটোসংগ্ৰহীতকাৰাগাৰৰ সূত্ৰই জন...</td>\n",
       "    </tr>\n",
       "    <tr>\n",
       "      <th>1</th>\n",
       "      <td>2</td>\n",
       "      <td>চীন কোৰিয়া ইণ্ডোনেছিয়াৰ পৰা আমদানি কৰা অপটিক...</td>\n",
       "      <td>ফটোসংগ্ৰহীতসস্তীয়া আমদানিৰ পৰা ঘৰুৱা উদ্যোগক ...</td>\n",
       "      <td>ফটোসংগ্ৰহীতসস্তীয়া আমদানিৰ পৰা ঘৰুৱা উদ্যোগক ...</td>\n",
       "    </tr>\n",
       "    <tr>\n",
       "      <th>2</th>\n",
       "      <td>3</td>\n",
       "      <td>গ্ৰেপ্তাৰ হল ইমৰান খানদুৰ্নীতিৰ গোচৰত তিনিবছৰৰ...</td>\n",
       "      <td>বিপদে লগ নেৰা হৈছে পাকিস্তানৰ প্ৰাক্তন প্ৰধানম...</td>\n",
       "      <td>বিপদে লগ নেৰা হৈছে পাকিস্তানৰ প্ৰাক্তন প্ৰধানম...</td>\n",
       "    </tr>\n",
       "    <tr>\n",
       "      <th>3</th>\n",
       "      <td>4</td>\n",
       "      <td>এইবাৰ পাকিস্তানৰ যুৱকৰ সৈতে বিয়াত বহিল দুই সন...</td>\n",
       "      <td>শচীনসীমা বিবাহ কাণ্ডই বিগত কিছুদিন ধৰি দুই চুব...</td>\n",
       "      <td>শচীনসীমা বিবাহ কাণ্ডই বিগত কিছুদিন ধৰি দুই চুব...</td>\n",
       "    </tr>\n",
       "    <tr>\n",
       "      <th>4</th>\n",
       "      <td>5</td>\n",
       "      <td>নিষেধাজ্ঞা নেওচি ভাৰতলৈ নেপালৰ বিলাহীঘোচ লৈ চা...</td>\n",
       "      <td>ভাৰতত আকাশলংঘী হৈছে বিলাহীৰ দামবিলাহীৰ এই অকল্...</td>\n",
       "      <td>ভাৰতত আকাশলংঘী হৈছে বিলাহীৰ দামবিলাহীৰ এই অকল্...</td>\n",
       "    </tr>\n",
       "  </tbody>\n",
       "</table>\n",
       "</div>"
      ],
      "text/plain": [
       "   S No.                                            summary  \\\n",
       "0      1      কাৰাবন্দীৰ পৰা গৃহবন্দী হৈ উভতিল আং ছান ছু কী   \n",
       "1      2  চীন কোৰিয়া ইণ্ডোনেছিয়াৰ পৰা আমদানি কৰা অপটিক...   \n",
       "2      3  গ্ৰেপ্তাৰ হল ইমৰান খানদুৰ্নীতিৰ গোচৰত তিনিবছৰৰ...   \n",
       "3      4  এইবাৰ পাকিস্তানৰ যুৱকৰ সৈতে বিয়াত বহিল দুই সন...   \n",
       "4      5  নিষেধাজ্ঞা নেওচি ভাৰতলৈ নেপালৰ বিলাহীঘোচ লৈ চা...   \n",
       "\n",
       "                                                text  \\\n",
       "0  আং ছান ছু কীফাইল ফটোসংগ্ৰহীতকাৰাগাৰৰ সূত্ৰই জন...   \n",
       "1  ফটোসংগ্ৰহীতসস্তীয়া আমদানিৰ পৰা ঘৰুৱা উদ্যোগক ...   \n",
       "2  বিপদে লগ নেৰা হৈছে পাকিস্তানৰ প্ৰাক্তন প্ৰধানম...   \n",
       "3  শচীনসীমা বিবাহ কাণ্ডই বিগত কিছুদিন ধৰি দুই চুব...   \n",
       "4  ভাৰতত আকাশলংঘী হৈছে বিলাহীৰ দামবিলাহীৰ এই অকল্...   \n",
       "\n",
       "                                             cleaned  \n",
       "0  আং ছান ছু কীফাইল ফটোসংগ্ৰহীতকাৰাগাৰৰ সূত্ৰই জন...  \n",
       "1  ফটোসংগ্ৰহীতসস্তীয়া আমদানিৰ পৰা ঘৰুৱা উদ্যোগক ...  \n",
       "2  বিপদে লগ নেৰা হৈছে পাকিস্তানৰ প্ৰাক্তন প্ৰধানম...  \n",
       "3  শচীনসীমা বিবাহ কাণ্ডই বিগত কিছুদিন ধৰি দুই চুব...  \n",
       "4  ভাৰতত আকাশলংঘী হৈছে বিলাহীৰ দামবিলাহীৰ এই অকল্...  "
      ]
     },
     "execution_count": 10,
     "metadata": {},
     "output_type": "execute_result"
    }
   ],
   "source": [
    "data.head()"
   ]
  },
  {
   "cell_type": "code",
   "execution_count": 11,
   "id": "c0490474-6270-4e1e-be27-13b020949b20",
   "metadata": {},
   "outputs": [
    {
     "data": {
      "text/plain": [
       "'লকডাউনৰ বিৰুদ্ধে চীনত আজিও অব্যাহত আছে প্ৰতিবাদপ্ৰতিবাদ নিৰ্মূল কৰিবলৈ চীনৰ চৰকাৰে বিশ্ববিদ্যালয়ৰ শিক্ষাৰ্থীসকলক ঘৰলৈ যাবলৈ নিৰ্দেশ দিছেইপিনে চীনৰ এনে পৰিস্থিতিৰ বাতৰি সংগ্ৰহ কৰিবলৈ যোৱা বিবিচিৰ এজন সাংবাদিকক আজি চীনা সেনাই অকথ্য নিৰ্যাতন চলাই গ্ৰেপ্তাৰ কৰাৰ ঘটনাই সমগ্ৰ বিশ্বতে প্ৰতিক্ৰিয়াৰ সৃষ্টি কৰিছেউল্লেখ্য কোভিড সংক্ৰমণৰ বাবেই চীনৰ বিভিন্ন প্ৰান্তত কঠোৰ লকডাউন ঘোষণা কৰা হৈছেমানুহ গৃহবন্দী হৈ থাকিবলগীয়া হোৱাত অতিষ্ঠ হৈ পৰিছেএনে পৰিস্থিতিত মানুহ উত্তেজিত হৈ পৰিছে আৰু চৰকাৰৰ বিৰুদ্ধে প্ৰতিবাদ কৰিবলৈ ৰাজপথলৈ ওলাই আহিছেচৰকাৰৰ কোভিড নীতিৰ বিৰুদ্ধে প্ৰতিবাদ কৰিবলৈ বেইজিং আৰু ছাংহাইত হাজাৰ হাজাৰ মাউহে ৰাজপথলৈ ওলাই আহিছেআজিও আন্দোলন চলিয়েই আছেআৰক্ষীপ্ৰশাসনে প্ৰতিবাদকাৰীৰ বিৰুদ্ধে কঠোৰ ব্যৱস্থা গ্ৰহণ কৰিছেঝি জিনপিং চৰকাৰে কৰোনা ভাইৰাছৰ বিৰুদ্ধে দি থকা যুঁজত কোভিডমুক্ত নীতি গ্ৰহণ কৰিছেসেয়ে গ্ৰহণ কৰা হৈছে অধিক কঠোৰ পদক্ষেপচৰকাৰৰ কঠোৰ কোভিড নিয়মৰ বিৰুদ্ধে জনতাৰ প্ৰতিবাদ সমগ্ৰ দেশতে বিয়পি পৰিছেচৰকাৰৰ বিৰুদ্ধে এনে স্বতঃস্ফূৰ্ত গণ আন্দোলন চীনত বিৰল বুলি কব পাৰিআনকি কোভিডৰ প্ৰথম সংক্ৰমণৰ সময়তো তেনে হোৱা নাছিল নৰ্থইষ্ট নাও এটা মাল্টিএপ ভিত্তিক সম্পূৰ্ণভাৱে আঞ্চলিক দ্বিভাষিক নিউজ প্টেলপেচাদাৰী ব্যক্তিৰ এটা গোটৰ নেতৃত্বত এই ডিজিটেল অসমীয়া বাতৰি প্ৰতিষ্ঠানটোৱে উত্তৰপূবৰ আঠখন ৰাজ্য আৰু এইবোৰৰ প্ৰতিৱেশী দেশকেইখনৰ প্ৰতিটো খাখবৰ সামৰি লোৱাৰ চেষ্টা কৰিবদুটাকৈ ইংৰাজী এপ আৰু এটা অসমীয়া এপৰ সংস্কৰণ থকা এইটোৱে হল এই ধৰণৰ প্ৰথমটো নিউজ প্টেলআমি ৰাজনৈতিকভাৱে নিৰপেক্ষ আৰু দক্ষিণপূব আৰু দক্ষিণ এছিয়াৰ মাজৰ প্ৰকৃত বাবাতৰিৰ সাঁকোৰ ভূমিকা লবলৈ চেষ্টা কৰিম'"
      ]
     },
     "execution_count": 11,
     "metadata": {},
     "output_type": "execute_result"
    }
   ],
   "source": [
    "data['cleaned'][99]"
   ]
  },
  {
   "cell_type": "code",
   "execution_count": 12,
   "id": "e3f9ba3a-5041-436e-ab4b-a719625e4fa1",
   "metadata": {},
   "outputs": [
    {
     "name": "stdout",
     "output_type": "stream",
     "text": [
      "0 আং ছান ছু কীফাইল ফটোসংগ্ৰহীতকাৰাগাৰৰ সূত্ৰই জনোৱা মতে সোমবাৰে কাৰাগাৰৰ পৰা ৰাজধানী নেইপিড চৰকাৰী বাসগৃহলৈ স্থানান্তৰ কৰা হয় ছ্যু কীকলগতে পঢ়কআই এন এছ বিক্ৰান্তত যুৱ নৌসেনা জোৱানৰ মৃতদেহ উদ্ধাৰ ৰহস্যময় মৃত্যুক লৈ চাঞ্চল্য কাৰাগাৰৰ পৰা বদলি হোৱাৰ কথা আনুষ্ঠানিকভাৱে নিশ্চিত কৰা হোৱা নাইঅৱশ্যে গৃহবন্দী কৰাৰ বিষয়টো সামৰিক কৰ্তৃপক্ষৰ এক ইতিবাচক পদক্ষেপো হব পাৰেছ্যু কীক অসুস্থ বুলি বাতৰি প্ৰচাৰ হৈছিলঅৱশ্যে সেনাই এই কথা অস্বীকাৰ কৰিছেচলিত সপ্তাহৰ আৰম্ভণিতে কাৰাগাৰৰ সূত্ৰই প্ৰকাশ কৰা অনুসৰি ছু কীৰ স্বাস্থ্য ভালেই আছেলগতে পঢ়কমাজভাগতে শিক্ষা এৰিছে কেন্দ্ৰীয় বিশ্ববিদ্যালয়ৰ ২৫ হাজাৰ ৫৯৩ জন ছাত্ৰছাত্ৰীয়ে থাইলেণ্ডৰ বৈদেশিক মন্ত্ৰীয়ে চলিত মাহত কাৰাগাৰত থকা ছু কীৰ ওচৰলৈ গৈছিলঅৱশ্যে তেওঁ আৰু কোনো সবিশেষ তথ্য প্ৰকাশ কৰা নাই নৰ্থইষ্ট নাও এটা মাল্টিএপ ভিত্তিক সম্পূৰ্ণভাৱে আঞ্চলিক দ্বিভাষিক নিউজ প্টেলপেচাদাৰী ব্যক্তিৰ এটা গোটৰ নেতৃত্বত এই ডিজিটেল অসমীয়া বাতৰি প্ৰতিষ্ঠানটোৱে উত্তৰপূবৰ আঠখন ৰাজ্য আৰু এইবোৰৰ প্ৰতিৱেশী দেশকেইখনৰ প্ৰতিটো খাখবৰ সামৰি লোৱাৰ চেষ্টা কৰিবদুটাকৈ ইংৰাজী এপ আৰু এটা অসমীয়া এপৰ সংস্কৰণ থকা এইটোৱে হল এই ধৰণৰ প্ৰথমটো নিউজ প্টেলআমি ৰাজনৈতিকভাৱে নিৰপেক্ষ আৰু দক্ষিণপূব আৰু দক্ষিণ এছিয়াৰ মাজৰ প্ৰকৃত বাবাতৰিৰ সাঁকোৰ ভূমিকা লবলৈ চেষ্টা কৰিম\n"
     ]
    },
    {
     "name": "stderr",
     "output_type": "stream",
     "text": [
      "/tmp/ipykernel_32540/900385898.py:2: FutureWarning: Series.__getitem__ treating keys as positions is deprecated. In a future version, integer keys will always be treated as labels (consistent with DataFrame behavior). To access a value by position, use `ser.iloc[pos]`\n",
      "  print(i[0], i[1][2])\n"
     ]
    }
   ],
   "source": [
    "for i in data.head(1).iterrows():\n",
    "    print(i[0], i[1][2])"
   ]
  },
  {
   "cell_type": "code",
   "execution_count": 13,
   "id": "d6f10c23-0155-48ff-ba2c-c01f23c67d66",
   "metadata": {},
   "outputs": [],
   "source": [
    "w = data[['cleaned']]"
   ]
  },
  {
   "cell_type": "code",
   "execution_count": 14,
   "id": "88e138fa-eed8-4727-8434-51dcc8c76f23",
   "metadata": {},
   "outputs": [
    {
     "data": {
      "text/html": [
       "<div>\n",
       "<style scoped>\n",
       "    .dataframe tbody tr th:only-of-type {\n",
       "        vertical-align: middle;\n",
       "    }\n",
       "\n",
       "    .dataframe tbody tr th {\n",
       "        vertical-align: top;\n",
       "    }\n",
       "\n",
       "    .dataframe thead th {\n",
       "        text-align: right;\n",
       "    }\n",
       "</style>\n",
       "<table border=\"1\" class=\"dataframe\">\n",
       "  <thead>\n",
       "    <tr style=\"text-align: right;\">\n",
       "      <th></th>\n",
       "      <th>cleaned</th>\n",
       "    </tr>\n",
       "  </thead>\n",
       "  <tbody>\n",
       "    <tr>\n",
       "      <th>0</th>\n",
       "      <td>আং ছান ছু কীফাইল ফটোসংগ্ৰহীতকাৰাগাৰৰ সূত্ৰই জন...</td>\n",
       "    </tr>\n",
       "    <tr>\n",
       "      <th>1</th>\n",
       "      <td>ফটোসংগ্ৰহীতসস্তীয়া আমদানিৰ পৰা ঘৰুৱা উদ্যোগক ...</td>\n",
       "    </tr>\n",
       "    <tr>\n",
       "      <th>2</th>\n",
       "      <td>বিপদে লগ নেৰা হৈছে পাকিস্তানৰ প্ৰাক্তন প্ৰধানম...</td>\n",
       "    </tr>\n",
       "    <tr>\n",
       "      <th>3</th>\n",
       "      <td>শচীনসীমা বিবাহ কাণ্ডই বিগত কিছুদিন ধৰি দুই চুব...</td>\n",
       "    </tr>\n",
       "    <tr>\n",
       "      <th>4</th>\n",
       "      <td>ভাৰতত আকাশলংঘী হৈছে বিলাহীৰ দামবিলাহীৰ এই অকল্...</td>\n",
       "    </tr>\n",
       "  </tbody>\n",
       "</table>\n",
       "</div>"
      ],
      "text/plain": [
       "                                             cleaned\n",
       "0  আং ছান ছু কীফাইল ফটোসংগ্ৰহীতকাৰাগাৰৰ সূত্ৰই জন...\n",
       "1  ফটোসংগ্ৰহীতসস্তীয়া আমদানিৰ পৰা ঘৰুৱা উদ্যোগক ...\n",
       "2  বিপদে লগ নেৰা হৈছে পাকিস্তানৰ প্ৰাক্তন প্ৰধানম...\n",
       "3  শচীনসীমা বিবাহ কাণ্ডই বিগত কিছুদিন ধৰি দুই চুব...\n",
       "4  ভাৰতত আকাশলংঘী হৈছে বিলাহীৰ দামবিলাহীৰ এই অকল্..."
      ]
     },
     "execution_count": 14,
     "metadata": {},
     "output_type": "execute_result"
    }
   ],
   "source": [
    "w.head()"
   ]
  },
  {
   "cell_type": "code",
   "execution_count": 15,
   "id": "05950b26-8989-4ccb-95a7-7ac62cbaf2c6",
   "metadata": {},
   "outputs": [],
   "source": [
    "data = pd.read_csv(\"datasets/Assamese/news18_preprocessed.csv\")"
   ]
  },
  {
   "cell_type": "code",
   "execution_count": 16,
   "id": "adc426d8-379f-426b-9b73-e38654caa66c",
   "metadata": {},
   "outputs": [
    {
     "data": {
      "text/html": [
       "<div>\n",
       "<style scoped>\n",
       "    .dataframe tbody tr th:only-of-type {\n",
       "        vertical-align: middle;\n",
       "    }\n",
       "\n",
       "    .dataframe tbody tr th {\n",
       "        vertical-align: top;\n",
       "    }\n",
       "\n",
       "    .dataframe thead th {\n",
       "        text-align: right;\n",
       "    }\n",
       "</style>\n",
       "<table border=\"1\" class=\"dataframe\">\n",
       "  <thead>\n",
       "    <tr style=\"text-align: right;\">\n",
       "      <th></th>\n",
       "      <th>S No.</th>\n",
       "      <th>summary</th>\n",
       "      <th>text</th>\n",
       "    </tr>\n",
       "  </thead>\n",
       "  <tbody>\n",
       "    <tr>\n",
       "      <th>0</th>\n",
       "      <td>1</td>\n",
       "      <td>জিলা আয়ুক্তৰ বাসভৱনৰ কাষতে মহিলাৰ পৰা থপিয়াই...</td>\n",
       "      <td>নিৰাপত্তাহীনতাত ভুগিছে যোৰহাট নগৰবাসীয়েযোৰহাট...</td>\n",
       "    </tr>\n",
       "    <tr>\n",
       "      <th>1</th>\n",
       "      <td>2</td>\n",
       "      <td>পুনৰ জালুকবাৰীৰ নতুন শৰাইঘাট দলঙত অঘটন</td>\n",
       "      <td>পুনৰ জালুকবাৰীৰ নতুন শৰাইঘাট দলঙত অঘটনদলঙৰ মাজ...</td>\n",
       "    </tr>\n",
       "    <tr>\n",
       "      <th>2</th>\n",
       "      <td>3</td>\n",
       "      <td>দিহানামেৰে বিশ্ব অভিলেখৰ প্ৰস্তুতি কিন্তু আৰম্...</td>\n",
       "      <td>বাপতিসাহোন বিহুৰ পিছত এইবাৰ দিহানাম পৰিৱেশনেৰে...</td>\n",
       "    </tr>\n",
       "    <tr>\n",
       "      <th>3</th>\n",
       "      <td>4</td>\n",
       "      <td>আন্তঃৰাষ্ট্ৰীয় গণিত অলিম্পিয়াডত ছয়টা বিষয়ত...</td>\n",
       "      <td>নতুন দিল্লীৰ চিলভাৰ জন অলিম্পিয়াডৰ উদ্যোগত অন...</td>\n",
       "    </tr>\n",
       "    <tr>\n",
       "      <th>4</th>\n",
       "      <td>5</td>\n",
       "      <td>দিল্লীতে কিয় কেবিনেট ছিংগাপুৰলণ্ডনম্যানমাৰতো প...</td>\n",
       "      <td>বুধবাৰে সন্ধিয়া পাঁচ বজাত নতুন দিল্লীত অনুষ্ঠি...</td>\n",
       "    </tr>\n",
       "  </tbody>\n",
       "</table>\n",
       "</div>"
      ],
      "text/plain": [
       "   S No.                                            summary  \\\n",
       "0      1  জিলা আয়ুক্তৰ বাসভৱনৰ কাষতে মহিলাৰ পৰা থপিয়াই...   \n",
       "1      2             পুনৰ জালুকবাৰীৰ নতুন শৰাইঘাট দলঙত অঘটন   \n",
       "2      3  দিহানামেৰে বিশ্ব অভিলেখৰ প্ৰস্তুতি কিন্তু আৰম্...   \n",
       "3      4  আন্তঃৰাষ্ট্ৰীয় গণিত অলিম্পিয়াডত ছয়টা বিষয়ত...   \n",
       "4      5  দিল্লীতে কিয় কেবিনেট ছিংগাপুৰলণ্ডনম্যানমাৰতো প...   \n",
       "\n",
       "                                                text  \n",
       "0  নিৰাপত্তাহীনতাত ভুগিছে যোৰহাট নগৰবাসীয়েযোৰহাট...  \n",
       "1  পুনৰ জালুকবাৰীৰ নতুন শৰাইঘাট দলঙত অঘটনদলঙৰ মাজ...  \n",
       "2  বাপতিসাহোন বিহুৰ পিছত এইবাৰ দিহানাম পৰিৱেশনেৰে...  \n",
       "3  নতুন দিল্লীৰ চিলভাৰ জন অলিম্পিয়াডৰ উদ্যোগত অন...  \n",
       "4  বুধবাৰে সন্ধিয়া পাঁচ বজাত নতুন দিল্লীত অনুষ্ঠি...  "
      ]
     },
     "execution_count": 16,
     "metadata": {},
     "output_type": "execute_result"
    }
   ],
   "source": [
    "data.head()"
   ]
  },
  {
   "cell_type": "code",
   "execution_count": 17,
   "id": "82a7928b-c4b5-4bdb-86c3-5220832bd192",
   "metadata": {},
   "outputs": [],
   "source": [
    "data['cleaned'] = data['text'].apply(extract_assamese_text)"
   ]
  },
  {
   "cell_type": "code",
   "execution_count": 18,
   "id": "8521cb01-62b9-456e-8eef-81b850c52ae2",
   "metadata": {},
   "outputs": [
    {
     "data": {
      "text/html": [
       "<div>\n",
       "<style scoped>\n",
       "    .dataframe tbody tr th:only-of-type {\n",
       "        vertical-align: middle;\n",
       "    }\n",
       "\n",
       "    .dataframe tbody tr th {\n",
       "        vertical-align: top;\n",
       "    }\n",
       "\n",
       "    .dataframe thead th {\n",
       "        text-align: right;\n",
       "    }\n",
       "</style>\n",
       "<table border=\"1\" class=\"dataframe\">\n",
       "  <thead>\n",
       "    <tr style=\"text-align: right;\">\n",
       "      <th></th>\n",
       "      <th>S No.</th>\n",
       "      <th>summary</th>\n",
       "      <th>text</th>\n",
       "      <th>cleaned</th>\n",
       "    </tr>\n",
       "  </thead>\n",
       "  <tbody>\n",
       "    <tr>\n",
       "      <th>0</th>\n",
       "      <td>1</td>\n",
       "      <td>জিলা আয়ুক্তৰ বাসভৱনৰ কাষতে মহিলাৰ পৰা থপিয়াই...</td>\n",
       "      <td>নিৰাপত্তাহীনতাত ভুগিছে যোৰহাট নগৰবাসীয়েযোৰহাট...</td>\n",
       "      <td>নিৰাপত্তাহীনতাত ভুগিছে যোৰহাট নগৰবাসীয়েযোৰহাট...</td>\n",
       "    </tr>\n",
       "    <tr>\n",
       "      <th>1</th>\n",
       "      <td>2</td>\n",
       "      <td>পুনৰ জালুকবাৰীৰ নতুন শৰাইঘাট দলঙত অঘটন</td>\n",
       "      <td>পুনৰ জালুকবাৰীৰ নতুন শৰাইঘাট দলঙত অঘটনদলঙৰ মাজ...</td>\n",
       "      <td>পুনৰ জালুকবাৰীৰ নতুন শৰাইঘাট দলঙত অঘটনদলঙৰ মাজ...</td>\n",
       "    </tr>\n",
       "    <tr>\n",
       "      <th>2</th>\n",
       "      <td>3</td>\n",
       "      <td>দিহানামেৰে বিশ্ব অভিলেখৰ প্ৰস্তুতি কিন্তু আৰম্...</td>\n",
       "      <td>বাপতিসাহোন বিহুৰ পিছত এইবাৰ দিহানাম পৰিৱেশনেৰে...</td>\n",
       "      <td>বাপতিসাহোন বিহুৰ পিছত এইবাৰ দিহানাম পৰিৱেশনেৰে...</td>\n",
       "    </tr>\n",
       "    <tr>\n",
       "      <th>3</th>\n",
       "      <td>4</td>\n",
       "      <td>আন্তঃৰাষ্ট্ৰীয় গণিত অলিম্পিয়াডত ছয়টা বিষয়ত...</td>\n",
       "      <td>নতুন দিল্লীৰ চিলভাৰ জন অলিম্পিয়াডৰ উদ্যোগত অন...</td>\n",
       "      <td>নতুন দিল্লীৰ চিলভাৰ জন অলিম্পিয়াডৰ উদ্যোগত অন...</td>\n",
       "    </tr>\n",
       "    <tr>\n",
       "      <th>4</th>\n",
       "      <td>5</td>\n",
       "      <td>দিল্লীতে কিয় কেবিনেট ছিংগাপুৰলণ্ডনম্যানমাৰতো প...</td>\n",
       "      <td>বুধবাৰে সন্ধিয়া পাঁচ বজাত নতুন দিল্লীত অনুষ্ঠি...</td>\n",
       "      <td>বুধবাৰে সন্ধিয়া পাঁচ বজাত নতুন দিল্লীত অনুষ্ঠি...</td>\n",
       "    </tr>\n",
       "  </tbody>\n",
       "</table>\n",
       "</div>"
      ],
      "text/plain": [
       "   S No.                                            summary  \\\n",
       "0      1  জিলা আয়ুক্তৰ বাসভৱনৰ কাষতে মহিলাৰ পৰা থপিয়াই...   \n",
       "1      2             পুনৰ জালুকবাৰীৰ নতুন শৰাইঘাট দলঙত অঘটন   \n",
       "2      3  দিহানামেৰে বিশ্ব অভিলেখৰ প্ৰস্তুতি কিন্তু আৰম্...   \n",
       "3      4  আন্তঃৰাষ্ট্ৰীয় গণিত অলিম্পিয়াডত ছয়টা বিষয়ত...   \n",
       "4      5  দিল্লীতে কিয় কেবিনেট ছিংগাপুৰলণ্ডনম্যানমাৰতো প...   \n",
       "\n",
       "                                                text  \\\n",
       "0  নিৰাপত্তাহীনতাত ভুগিছে যোৰহাট নগৰবাসীয়েযোৰহাট...   \n",
       "1  পুনৰ জালুকবাৰীৰ নতুন শৰাইঘাট দলঙত অঘটনদলঙৰ মাজ...   \n",
       "2  বাপতিসাহোন বিহুৰ পিছত এইবাৰ দিহানাম পৰিৱেশনেৰে...   \n",
       "3  নতুন দিল্লীৰ চিলভাৰ জন অলিম্পিয়াডৰ উদ্যোগত অন...   \n",
       "4  বুধবাৰে সন্ধিয়া পাঁচ বজাত নতুন দিল্লীত অনুষ্ঠি...   \n",
       "\n",
       "                                             cleaned  \n",
       "0  নিৰাপত্তাহীনতাত ভুগিছে যোৰহাট নগৰবাসীয়েযোৰহাট...  \n",
       "1  পুনৰ জালুকবাৰীৰ নতুন শৰাইঘাট দলঙত অঘটনদলঙৰ মাজ...  \n",
       "2  বাপতিসাহোন বিহুৰ পিছত এইবাৰ দিহানাম পৰিৱেশনেৰে...  \n",
       "3  নতুন দিল্লীৰ চিলভাৰ জন অলিম্পিয়াডৰ উদ্যোগত অন...  \n",
       "4  বুধবাৰে সন্ধিয়া পাঁচ বজাত নতুন দিল্লীত অনুষ্ঠি...  "
      ]
     },
     "execution_count": 18,
     "metadata": {},
     "output_type": "execute_result"
    }
   ],
   "source": [
    "data.head()"
   ]
  },
  {
   "cell_type": "code",
   "execution_count": 19,
   "id": "b37576f3-483b-4691-8349-de7602d5ac7e",
   "metadata": {},
   "outputs": [],
   "source": [
    "s = data[['cleaned']]"
   ]
  },
  {
   "cell_type": "code",
   "execution_count": 20,
   "id": "075b1e50-e6d9-4598-984e-2904490de906",
   "metadata": {},
   "outputs": [
    {
     "data": {
      "text/html": [
       "<div>\n",
       "<style scoped>\n",
       "    .dataframe tbody tr th:only-of-type {\n",
       "        vertical-align: middle;\n",
       "    }\n",
       "\n",
       "    .dataframe tbody tr th {\n",
       "        vertical-align: top;\n",
       "    }\n",
       "\n",
       "    .dataframe thead th {\n",
       "        text-align: right;\n",
       "    }\n",
       "</style>\n",
       "<table border=\"1\" class=\"dataframe\">\n",
       "  <thead>\n",
       "    <tr style=\"text-align: right;\">\n",
       "      <th></th>\n",
       "      <th>cleaned</th>\n",
       "    </tr>\n",
       "  </thead>\n",
       "  <tbody>\n",
       "    <tr>\n",
       "      <th>0</th>\n",
       "      <td>নিৰাপত্তাহীনতাত ভুগিছে যোৰহাট নগৰবাসীয়েযোৰহাট...</td>\n",
       "    </tr>\n",
       "    <tr>\n",
       "      <th>1</th>\n",
       "      <td>পুনৰ জালুকবাৰীৰ নতুন শৰাইঘাট দলঙত অঘটনদলঙৰ মাজ...</td>\n",
       "    </tr>\n",
       "    <tr>\n",
       "      <th>2</th>\n",
       "      <td>বাপতিসাহোন বিহুৰ পিছত এইবাৰ দিহানাম পৰিৱেশনেৰে...</td>\n",
       "    </tr>\n",
       "    <tr>\n",
       "      <th>3</th>\n",
       "      <td>নতুন দিল্লীৰ চিলভাৰ জন অলিম্পিয়াডৰ উদ্যোগত অন...</td>\n",
       "    </tr>\n",
       "    <tr>\n",
       "      <th>4</th>\n",
       "      <td>বুধবাৰে সন্ধিয়া পাঁচ বজাত নতুন দিল্লীত অনুষ্ঠি...</td>\n",
       "    </tr>\n",
       "  </tbody>\n",
       "</table>\n",
       "</div>"
      ],
      "text/plain": [
       "                                             cleaned\n",
       "0  নিৰাপত্তাহীনতাত ভুগিছে যোৰহাট নগৰবাসীয়েযোৰহাট...\n",
       "1  পুনৰ জালুকবাৰীৰ নতুন শৰাইঘাট দলঙত অঘটনদলঙৰ মাজ...\n",
       "2  বাপতিসাহোন বিহুৰ পিছত এইবাৰ দিহানাম পৰিৱেশনেৰে...\n",
       "3  নতুন দিল্লীৰ চিলভাৰ জন অলিম্পিয়াডৰ উদ্যোগত অন...\n",
       "4  বুধবাৰে সন্ধিয়া পাঁচ বজাত নতুন দিল্লীত অনুষ্ঠি..."
      ]
     },
     "execution_count": 20,
     "metadata": {},
     "output_type": "execute_result"
    }
   ],
   "source": [
    "s.head()"
   ]
  },
  {
   "cell_type": "code",
   "execution_count": 21,
   "id": "ba4b8e4f-d039-4af4-a4b7-251266cb5093",
   "metadata": {},
   "outputs": [],
   "source": [
    "final = pd.concat([w, s])"
   ]
  },
  {
   "cell_type": "code",
   "execution_count": 22,
   "id": "74888aea-d5ff-468a-8db1-bd88182cd92c",
   "metadata": {},
   "outputs": [
    {
     "data": {
      "text/html": [
       "<div>\n",
       "<style scoped>\n",
       "    .dataframe tbody tr th:only-of-type {\n",
       "        vertical-align: middle;\n",
       "    }\n",
       "\n",
       "    .dataframe tbody tr th {\n",
       "        vertical-align: top;\n",
       "    }\n",
       "\n",
       "    .dataframe thead th {\n",
       "        text-align: right;\n",
       "    }\n",
       "</style>\n",
       "<table border=\"1\" class=\"dataframe\">\n",
       "  <thead>\n",
       "    <tr style=\"text-align: right;\">\n",
       "      <th></th>\n",
       "      <th>cleaned</th>\n",
       "    </tr>\n",
       "  </thead>\n",
       "  <tbody>\n",
       "    <tr>\n",
       "      <th>0</th>\n",
       "      <td>আং ছান ছু কীফাইল ফটোসংগ্ৰহীতকাৰাগাৰৰ সূত্ৰই জন...</td>\n",
       "    </tr>\n",
       "    <tr>\n",
       "      <th>1</th>\n",
       "      <td>ফটোসংগ্ৰহীতসস্তীয়া আমদানিৰ পৰা ঘৰুৱা উদ্যোগক ...</td>\n",
       "    </tr>\n",
       "    <tr>\n",
       "      <th>2</th>\n",
       "      <td>বিপদে লগ নেৰা হৈছে পাকিস্তানৰ প্ৰাক্তন প্ৰধানম...</td>\n",
       "    </tr>\n",
       "    <tr>\n",
       "      <th>3</th>\n",
       "      <td>শচীনসীমা বিবাহ কাণ্ডই বিগত কিছুদিন ধৰি দুই চুব...</td>\n",
       "    </tr>\n",
       "    <tr>\n",
       "      <th>4</th>\n",
       "      <td>ভাৰতত আকাশলংঘী হৈছে বিলাহীৰ দামবিলাহীৰ এই অকল্...</td>\n",
       "    </tr>\n",
       "  </tbody>\n",
       "</table>\n",
       "</div>"
      ],
      "text/plain": [
       "                                             cleaned\n",
       "0  আং ছান ছু কীফাইল ফটোসংগ্ৰহীতকাৰাগাৰৰ সূত্ৰই জন...\n",
       "1  ফটোসংগ্ৰহীতসস্তীয়া আমদানিৰ পৰা ঘৰুৱা উদ্যোগক ...\n",
       "2  বিপদে লগ নেৰা হৈছে পাকিস্তানৰ প্ৰাক্তন প্ৰধানম...\n",
       "3  শচীনসীমা বিবাহ কাণ্ডই বিগত কিছুদিন ধৰি দুই চুব...\n",
       "4  ভাৰতত আকাশলংঘী হৈছে বিলাহীৰ দামবিলাহীৰ এই অকল্..."
      ]
     },
     "execution_count": 22,
     "metadata": {},
     "output_type": "execute_result"
    }
   ],
   "source": [
    "final.head()"
   ]
  },
  {
   "cell_type": "code",
   "execution_count": 23,
   "id": "cd344694-56d3-41c8-83ef-f604d4d925c3",
   "metadata": {},
   "outputs": [],
   "source": [
    "final.to_csv('final/Assamese.csv', index=False, encoding='utf-8')"
   ]
  },
  {
   "cell_type": "code",
   "execution_count": null,
   "id": "8609658a-2c18-4832-86a6-77c76070cf91",
   "metadata": {},
   "outputs": [],
   "source": []
  },
  {
   "cell_type": "markdown",
   "id": "1aebba00-0b8a-489b-b96c-093bfc92273f",
   "metadata": {},
   "source": [
    "## Bengali"
   ]
  },
  {
   "cell_type": "code",
   "execution_count": 24,
   "id": "da8ef439-782c-4d35-bfe9-d177d75968e3",
   "metadata": {},
   "outputs": [],
   "source": [
    "with open('datasets/Bengali/prothom-alo_punctuation_balanced.txt') as f:\n",
    "    lines = f.readlines()"
   ]
  },
  {
   "cell_type": "code",
   "execution_count": 25,
   "id": "2d177034-8972-4c0a-813c-8990be6d7dda",
   "metadata": {},
   "outputs": [],
   "source": [
    "data = pd.DataFrame(lines, columns=['text'])"
   ]
  },
  {
   "cell_type": "code",
   "execution_count": 26,
   "id": "62f75183-facd-49b5-bcdc-765a3a6b6d5f",
   "metadata": {},
   "outputs": [
    {
     "data": {
      "text/html": [
       "<div>\n",
       "<style scoped>\n",
       "    .dataframe tbody tr th:only-of-type {\n",
       "        vertical-align: middle;\n",
       "    }\n",
       "\n",
       "    .dataframe tbody tr th {\n",
       "        vertical-align: top;\n",
       "    }\n",
       "\n",
       "    .dataframe thead th {\n",
       "        text-align: right;\n",
       "    }\n",
       "</style>\n",
       "<table border=\"1\" class=\"dataframe\">\n",
       "  <thead>\n",
       "    <tr style=\"text-align: right;\">\n",
       "      <th></th>\n",
       "      <th>text</th>\n",
       "    </tr>\n",
       "  </thead>\n",
       "  <tbody>\n",
       "    <tr>\n",
       "      <th>0</th>\n",
       "      <td>এই মুহূর্তে এই ধ্বনিতেই উচ্চকিত ফুটবল বিশ্ব। এ...</td>\n",
       "    </tr>\n",
       "    <tr>\n",
       "      <th>1</th>\n",
       "      <td>তিনি বলেন, ‘যারা সেনাবাহিনীর বিরুদ্ধে অপপ্রচার...</td>\n",
       "    </tr>\n",
       "    <tr>\n",
       "      <th>2</th>\n",
       "      <td>প্রায় ৪৫ গজ দূর থেকে নেওয়া শটে করেছেন লক্ষ্য...</td>\n",
       "    </tr>\n",
       "    <tr>\n",
       "      <th>3</th>\n",
       "      <td>রূপকথার গল্প তো মানুষ এমনিতেই বেশি পছন্দ করে! ...</td>\n",
       "    </tr>\n",
       "    <tr>\n",
       "      <th>4</th>\n",
       "      <td>তাহলে প্রকাশিত হওয়ার পর ওই নিবন্ধনের সমর্থনে ...</td>\n",
       "    </tr>\n",
       "  </tbody>\n",
       "</table>\n",
       "</div>"
      ],
      "text/plain": [
       "                                                text\n",
       "0  এই মুহূর্তে এই ধ্বনিতেই উচ্চকিত ফুটবল বিশ্ব। এ...\n",
       "1  তিনি বলেন, ‘যারা সেনাবাহিনীর বিরুদ্ধে অপপ্রচার...\n",
       "2  প্রায় ৪৫ গজ দূর থেকে নেওয়া শটে করেছেন লক্ষ্য...\n",
       "3  রূপকথার গল্প তো মানুষ এমনিতেই বেশি পছন্দ করে! ...\n",
       "4  তাহলে প্রকাশিত হওয়ার পর ওই নিবন্ধনের সমর্থনে ..."
      ]
     },
     "execution_count": 26,
     "metadata": {},
     "output_type": "execute_result"
    }
   ],
   "source": [
    "data.head()"
   ]
  },
  {
   "cell_type": "code",
   "execution_count": 27,
   "id": "d319ee3f-4e21-4878-9935-39e59d1ca5cb",
   "metadata": {},
   "outputs": [],
   "source": [
    "def extract_bengali_text(text):\n",
    "    # Regular expression pattern to match Bengali characters\n",
    "    bengali_pattern = re.compile(r'[\\u0980-\\u09FF\\s]+')\n",
    "    # Find all matches of Bengali text in the input text\n",
    "    bengali_matches = bengali_pattern.findall(text)\n",
    "    # Filter out empty strings\n",
    "    bengali_matches = [match.strip() for match in bengali_matches if match.strip()]\n",
    "    # Join the matches to form the extracted Bengali text\n",
    "    bengali_text = ' '.join(bengali_matches)\n",
    "    return bengali_text"
   ]
  },
  {
   "cell_type": "code",
   "execution_count": 28,
   "id": "3f69a12e-0a20-4c90-a541-b76492aae79c",
   "metadata": {},
   "outputs": [],
   "source": [
    "data['cleaned'] = data['text'].apply(extract_bengali_text)"
   ]
  },
  {
   "cell_type": "code",
   "execution_count": 29,
   "id": "c76e047c-33ea-4a1f-b4d9-182770396c52",
   "metadata": {},
   "outputs": [
    {
     "data": {
      "text/html": [
       "<div>\n",
       "<style scoped>\n",
       "    .dataframe tbody tr th:only-of-type {\n",
       "        vertical-align: middle;\n",
       "    }\n",
       "\n",
       "    .dataframe tbody tr th {\n",
       "        vertical-align: top;\n",
       "    }\n",
       "\n",
       "    .dataframe thead th {\n",
       "        text-align: right;\n",
       "    }\n",
       "</style>\n",
       "<table border=\"1\" class=\"dataframe\">\n",
       "  <thead>\n",
       "    <tr style=\"text-align: right;\">\n",
       "      <th></th>\n",
       "      <th>text</th>\n",
       "      <th>cleaned</th>\n",
       "    </tr>\n",
       "  </thead>\n",
       "  <tbody>\n",
       "    <tr>\n",
       "      <th>0</th>\n",
       "      <td>এই মুহূর্তে এই ধ্বনিতেই উচ্চকিত ফুটবল বিশ্ব। এ...</td>\n",
       "      <td>এই মুহূর্তে এই ধ্বনিতেই উচ্চকিত ফুটবল বিশ্ব এক...</td>\n",
       "    </tr>\n",
       "    <tr>\n",
       "      <th>1</th>\n",
       "      <td>তিনি বলেন, ‘যারা সেনাবাহিনীর বিরুদ্ধে অপপ্রচার...</td>\n",
       "      <td>তিনি বলেন যারা সেনাবাহিনীর বিরুদ্ধে অপপ্রচার চ...</td>\n",
       "    </tr>\n",
       "    <tr>\n",
       "      <th>2</th>\n",
       "      <td>প্রায় ৪৫ গজ দূর থেকে নেওয়া শটে করেছেন লক্ষ্য...</td>\n",
       "      <td>প্রায় ৪৫ গজ দূর থেকে নেওয়া শটে করেছেন লক্ষ্য...</td>\n",
       "    </tr>\n",
       "    <tr>\n",
       "      <th>3</th>\n",
       "      <td>রূপকথার গল্প তো মানুষ এমনিতেই বেশি পছন্দ করে! ...</td>\n",
       "      <td>রূপকথার গল্প তো মানুষ এমনিতেই বেশি পছন্দ করে স...</td>\n",
       "    </tr>\n",
       "    <tr>\n",
       "      <th>4</th>\n",
       "      <td>তাহলে প্রকাশিত হওয়ার পর ওই নিবন্ধনের সমর্থনে ...</td>\n",
       "      <td>তাহলে প্রকাশিত হওয়ার পর ওই নিবন্ধনের সমর্থনে ...</td>\n",
       "    </tr>\n",
       "  </tbody>\n",
       "</table>\n",
       "</div>"
      ],
      "text/plain": [
       "                                                text  \\\n",
       "0  এই মুহূর্তে এই ধ্বনিতেই উচ্চকিত ফুটবল বিশ্ব। এ...   \n",
       "1  তিনি বলেন, ‘যারা সেনাবাহিনীর বিরুদ্ধে অপপ্রচার...   \n",
       "2  প্রায় ৪৫ গজ দূর থেকে নেওয়া শটে করেছেন লক্ষ্য...   \n",
       "3  রূপকথার গল্প তো মানুষ এমনিতেই বেশি পছন্দ করে! ...   \n",
       "4  তাহলে প্রকাশিত হওয়ার পর ওই নিবন্ধনের সমর্থনে ...   \n",
       "\n",
       "                                             cleaned  \n",
       "0  এই মুহূর্তে এই ধ্বনিতেই উচ্চকিত ফুটবল বিশ্ব এক...  \n",
       "1  তিনি বলেন যারা সেনাবাহিনীর বিরুদ্ধে অপপ্রচার চ...  \n",
       "2  প্রায় ৪৫ গজ দূর থেকে নেওয়া শটে করেছেন লক্ষ্য...  \n",
       "3  রূপকথার গল্প তো মানুষ এমনিতেই বেশি পছন্দ করে স...  \n",
       "4  তাহলে প্রকাশিত হওয়ার পর ওই নিবন্ধনের সমর্থনে ...  "
      ]
     },
     "execution_count": 29,
     "metadata": {},
     "output_type": "execute_result"
    }
   ],
   "source": [
    "data.head()"
   ]
  },
  {
   "cell_type": "code",
   "execution_count": 30,
   "id": "70027fb5-191b-4402-992e-2e212c317104",
   "metadata": {},
   "outputs": [
    {
     "data": {
      "text/plain": [
       "'এই মুহূর্তে এই ধ্বনিতেই উচ্চকিত ফুটবল বিশ্ব। এক আসর থেকে আর কি-ই বা চাওয়া থাকতে পারে ২১ বছর বয়সী স্ট্রাইকারের! কথাটা নিজের মুখেই বলেছেন নেইমার।\\n'"
      ]
     },
     "execution_count": 30,
     "metadata": {},
     "output_type": "execute_result"
    }
   ],
   "source": [
    "data['text'][0]"
   ]
  },
  {
   "cell_type": "code",
   "execution_count": 31,
   "id": "73c6e610-1808-4639-94d8-263682725571",
   "metadata": {},
   "outputs": [
    {
     "data": {
      "text/plain": [
       "'এই মুহূর্তে এই ধ্বনিতেই উচ্চকিত ফুটবল বিশ্ব এক আসর থেকে আর কি ই বা চাওয়া থাকতে পারে ২১ বছর বয়সী স্ট্রাইকারের কথাটা নিজের মুখেই বলেছেন নেইমার'"
      ]
     },
     "execution_count": 31,
     "metadata": {},
     "output_type": "execute_result"
    }
   ],
   "source": [
    "data['cleaned'][0]"
   ]
  },
  {
   "cell_type": "code",
   "execution_count": 32,
   "id": "753f50d6-2139-46e5-9567-46605dbb6b64",
   "metadata": {},
   "outputs": [
    {
     "data": {
      "text/plain": [
       "16146"
      ]
     },
     "execution_count": 32,
     "metadata": {},
     "output_type": "execute_result"
    }
   ],
   "source": [
    "data['cleaned'].duplicated().sum()"
   ]
  },
  {
   "cell_type": "code",
   "execution_count": 33,
   "id": "523b045a-66e3-4f0a-81b0-49114b807eef",
   "metadata": {},
   "outputs": [
    {
     "data": {
      "text/plain": [
       "(99127, 2)"
      ]
     },
     "execution_count": 33,
     "metadata": {},
     "output_type": "execute_result"
    }
   ],
   "source": [
    "data.shape"
   ]
  },
  {
   "cell_type": "code",
   "execution_count": 34,
   "id": "54f39791-a9d2-4f69-b13c-5ade742e9aa6",
   "metadata": {},
   "outputs": [
    {
     "data": {
      "text/plain": [
       "15292"
      ]
     },
     "execution_count": 34,
     "metadata": {},
     "output_type": "execute_result"
    }
   ],
   "source": [
    "data['text'].duplicated().sum()"
   ]
  },
  {
   "cell_type": "code",
   "execution_count": 35,
   "id": "c2ec9bab-df84-41d7-9fef-376851c05ecc",
   "metadata": {},
   "outputs": [],
   "source": [
    "data.drop_duplicates(subset='cleaned', inplace=True)"
   ]
  },
  {
   "cell_type": "code",
   "execution_count": 36,
   "id": "ea0a41f2-81fb-47f4-a0e2-b4296d71bda0",
   "metadata": {},
   "outputs": [
    {
     "data": {
      "text/plain": [
       "(82981, 2)"
      ]
     },
     "execution_count": 36,
     "metadata": {},
     "output_type": "execute_result"
    }
   ],
   "source": [
    "data.shape"
   ]
  },
  {
   "cell_type": "code",
   "execution_count": 37,
   "id": "2bf06d90-0397-4d75-8626-928240886ea8",
   "metadata": {},
   "outputs": [
    {
     "data": {
      "text/html": [
       "<div>\n",
       "<style scoped>\n",
       "    .dataframe tbody tr th:only-of-type {\n",
       "        vertical-align: middle;\n",
       "    }\n",
       "\n",
       "    .dataframe tbody tr th {\n",
       "        vertical-align: top;\n",
       "    }\n",
       "\n",
       "    .dataframe thead th {\n",
       "        text-align: right;\n",
       "    }\n",
       "</style>\n",
       "<table border=\"1\" class=\"dataframe\">\n",
       "  <thead>\n",
       "    <tr style=\"text-align: right;\">\n",
       "      <th></th>\n",
       "      <th>text</th>\n",
       "      <th>cleaned</th>\n",
       "    </tr>\n",
       "  </thead>\n",
       "  <tbody>\n",
       "    <tr>\n",
       "      <th>0</th>\n",
       "      <td>এই মুহূর্তে এই ধ্বনিতেই উচ্চকিত ফুটবল বিশ্ব। এ...</td>\n",
       "      <td>এই মুহূর্তে এই ধ্বনিতেই উচ্চকিত ফুটবল বিশ্ব এক...</td>\n",
       "    </tr>\n",
       "    <tr>\n",
       "      <th>1</th>\n",
       "      <td>তিনি বলেন, ‘যারা সেনাবাহিনীর বিরুদ্ধে অপপ্রচার...</td>\n",
       "      <td>তিনি বলেন যারা সেনাবাহিনীর বিরুদ্ধে অপপ্রচার চ...</td>\n",
       "    </tr>\n",
       "    <tr>\n",
       "      <th>2</th>\n",
       "      <td>প্রায় ৪৫ গজ দূর থেকে নেওয়া শটে করেছেন লক্ষ্য...</td>\n",
       "      <td>প্রায় ৪৫ গজ দূর থেকে নেওয়া শটে করেছেন লক্ষ্য...</td>\n",
       "    </tr>\n",
       "    <tr>\n",
       "      <th>3</th>\n",
       "      <td>রূপকথার গল্প তো মানুষ এমনিতেই বেশি পছন্দ করে! ...</td>\n",
       "      <td>রূপকথার গল্প তো মানুষ এমনিতেই বেশি পছন্দ করে স...</td>\n",
       "    </tr>\n",
       "    <tr>\n",
       "      <th>4</th>\n",
       "      <td>তাহলে প্রকাশিত হওয়ার পর ওই নিবন্ধনের সমর্থনে ...</td>\n",
       "      <td>তাহলে প্রকাশিত হওয়ার পর ওই নিবন্ধনের সমর্থনে ...</td>\n",
       "    </tr>\n",
       "  </tbody>\n",
       "</table>\n",
       "</div>"
      ],
      "text/plain": [
       "                                                text  \\\n",
       "0  এই মুহূর্তে এই ধ্বনিতেই উচ্চকিত ফুটবল বিশ্ব। এ...   \n",
       "1  তিনি বলেন, ‘যারা সেনাবাহিনীর বিরুদ্ধে অপপ্রচার...   \n",
       "2  প্রায় ৪৫ গজ দূর থেকে নেওয়া শটে করেছেন লক্ষ্য...   \n",
       "3  রূপকথার গল্প তো মানুষ এমনিতেই বেশি পছন্দ করে! ...   \n",
       "4  তাহলে প্রকাশিত হওয়ার পর ওই নিবন্ধনের সমর্থনে ...   \n",
       "\n",
       "                                             cleaned  \n",
       "0  এই মুহূর্তে এই ধ্বনিতেই উচ্চকিত ফুটবল বিশ্ব এক...  \n",
       "1  তিনি বলেন যারা সেনাবাহিনীর বিরুদ্ধে অপপ্রচার চ...  \n",
       "2  প্রায় ৪৫ গজ দূর থেকে নেওয়া শটে করেছেন লক্ষ্য...  \n",
       "3  রূপকথার গল্প তো মানুষ এমনিতেই বেশি পছন্দ করে স...  \n",
       "4  তাহলে প্রকাশিত হওয়ার পর ওই নিবন্ধনের সমর্থনে ...  "
      ]
     },
     "execution_count": 37,
     "metadata": {},
     "output_type": "execute_result"
    }
   ],
   "source": [
    "data.head()"
   ]
  },
  {
   "cell_type": "code",
   "execution_count": 38,
   "id": "8a2a6ce1-2314-408d-89de-4f45f1ba3aa9",
   "metadata": {},
   "outputs": [],
   "source": [
    "data = data[['cleaned']]"
   ]
  },
  {
   "cell_type": "code",
   "execution_count": 39,
   "id": "0e5dd916-f004-454d-90b4-bdd6133ed161",
   "metadata": {},
   "outputs": [
    {
     "data": {
      "text/html": [
       "<div>\n",
       "<style scoped>\n",
       "    .dataframe tbody tr th:only-of-type {\n",
       "        vertical-align: middle;\n",
       "    }\n",
       "\n",
       "    .dataframe tbody tr th {\n",
       "        vertical-align: top;\n",
       "    }\n",
       "\n",
       "    .dataframe thead th {\n",
       "        text-align: right;\n",
       "    }\n",
       "</style>\n",
       "<table border=\"1\" class=\"dataframe\">\n",
       "  <thead>\n",
       "    <tr style=\"text-align: right;\">\n",
       "      <th></th>\n",
       "      <th>cleaned</th>\n",
       "    </tr>\n",
       "  </thead>\n",
       "  <tbody>\n",
       "    <tr>\n",
       "      <th>0</th>\n",
       "      <td>এই মুহূর্তে এই ধ্বনিতেই উচ্চকিত ফুটবল বিশ্ব এক...</td>\n",
       "    </tr>\n",
       "    <tr>\n",
       "      <th>1</th>\n",
       "      <td>তিনি বলেন যারা সেনাবাহিনীর বিরুদ্ধে অপপ্রচার চ...</td>\n",
       "    </tr>\n",
       "    <tr>\n",
       "      <th>2</th>\n",
       "      <td>প্রায় ৪৫ গজ দূর থেকে নেওয়া শটে করেছেন লক্ষ্য...</td>\n",
       "    </tr>\n",
       "    <tr>\n",
       "      <th>3</th>\n",
       "      <td>রূপকথার গল্প তো মানুষ এমনিতেই বেশি পছন্দ করে স...</td>\n",
       "    </tr>\n",
       "    <tr>\n",
       "      <th>4</th>\n",
       "      <td>তাহলে প্রকাশিত হওয়ার পর ওই নিবন্ধনের সমর্থনে ...</td>\n",
       "    </tr>\n",
       "  </tbody>\n",
       "</table>\n",
       "</div>"
      ],
      "text/plain": [
       "                                             cleaned\n",
       "0  এই মুহূর্তে এই ধ্বনিতেই উচ্চকিত ফুটবল বিশ্ব এক...\n",
       "1  তিনি বলেন যারা সেনাবাহিনীর বিরুদ্ধে অপপ্রচার চ...\n",
       "2  প্রায় ৪৫ গজ দূর থেকে নেওয়া শটে করেছেন লক্ষ্য...\n",
       "3  রূপকথার গল্প তো মানুষ এমনিতেই বেশি পছন্দ করে স...\n",
       "4  তাহলে প্রকাশিত হওয়ার পর ওই নিবন্ধনের সমর্থনে ..."
      ]
     },
     "execution_count": 39,
     "metadata": {},
     "output_type": "execute_result"
    }
   ],
   "source": [
    "data.head()"
   ]
  },
  {
   "cell_type": "code",
   "execution_count": 40,
   "id": "e567b8c6-901f-4f36-9f76-6c9453cd28cd",
   "metadata": {},
   "outputs": [],
   "source": [
    "final.to_csv('final/Bengali.csv', index=False, encoding='utf-8')"
   ]
  },
  {
   "cell_type": "markdown",
   "id": "d221eb5b-8aeb-4ade-9173-e76b3559093a",
   "metadata": {},
   "source": [
    "## Bodo"
   ]
  },
  {
   "cell_type": "code",
   "execution_count": 41,
   "id": "72ddd48d-669e-457d-b45f-dfa56c8aac3d",
   "metadata": {},
   "outputs": [
    {
     "name": "stdout",
     "output_type": "stream",
     "text": [
      "Requirement already satisfied: openpyxl in ./language_detection/lib/python3.11/site-packages (3.1.2)\n",
      "Requirement already satisfied: et-xmlfile in ./language_detection/lib/python3.11/site-packages (from openpyxl) (1.1.0)\n"
     ]
    }
   ],
   "source": [
    "!pip install openpyxl"
   ]
  },
  {
   "cell_type": "code",
   "execution_count": 42,
   "id": "3844a8a2-c5c8-4ed6-9b4e-8f57fe875a2c",
   "metadata": {},
   "outputs": [],
   "source": [
    "df1 = pd.read_excel('datasets/Bodo/1.xlsx')"
   ]
  },
  {
   "cell_type": "code",
   "execution_count": 43,
   "id": "c79502b0-e314-4147-b4ea-d9c8d87cac51",
   "metadata": {},
   "outputs": [
    {
     "data": {
      "text/html": [
       "<div>\n",
       "<style scoped>\n",
       "    .dataframe tbody tr th:only-of-type {\n",
       "        vertical-align: middle;\n",
       "    }\n",
       "\n",
       "    .dataframe tbody tr th {\n",
       "        vertical-align: top;\n",
       "    }\n",
       "\n",
       "    .dataframe thead th {\n",
       "        text-align: right;\n",
       "    }\n",
       "</style>\n",
       "<table border=\"1\" class=\"dataframe\">\n",
       "  <thead>\n",
       "    <tr style=\"text-align: right;\">\n",
       "      <th></th>\n",
       "      <th>bodo_sent</th>\n",
       "      <th>eng_sent</th>\n",
       "    </tr>\n",
       "  </thead>\n",
       "  <tbody>\n",
       "    <tr>\n",
       "      <th>0</th>\n",
       "      <td>अन्नानै आंंनो दिनैनि अक्टखौ खिन्था</td>\n",
       "      <td>please let me know today's date</td>\n",
       "    </tr>\n",
       "    <tr>\n",
       "      <th>1</th>\n",
       "      <td>बे ओनसोलनि फैगौ इभेन्टफोरखौ आंनो खोन्था।</td>\n",
       "      <td>show me upcoming events in this area</td>\n",
       "    </tr>\n",
       "    <tr>\n",
       "      <th>2</th>\n",
       "      <td>दानि थाखाय टेक्सि बुक खालाम।</td>\n",
       "      <td>book taxi for now</td>\n",
       "    </tr>\n",
       "    <tr>\n",
       "      <th>3</th>\n",
       "      <td>लेक्समार्कनि स्टक बेसेना बेसेबां?</td>\n",
       "      <td>what is the stock price for lexmark</td>\n",
       "    </tr>\n",
       "    <tr>\n",
       "      <th>4</th>\n",
       "      <td>अन्नानै गिबि फारिलाइखौ बोखार</td>\n",
       "      <td>please remove the first list</td>\n",
       "    </tr>\n",
       "  </tbody>\n",
       "</table>\n",
       "</div>"
      ],
      "text/plain": [
       "                                  bodo_sent  \\\n",
       "0        अन्नानै आंंनो दिनैनि अक्टखौ खिन्था   \n",
       "1  बे ओनसोलनि फैगौ इभेन्टफोरखौ आंनो खोन्था।   \n",
       "2              दानि थाखाय टेक्सि बुक खालाम।   \n",
       "3         लेक्समार्कनि स्टक बेसेना बेसेबां?   \n",
       "4              अन्नानै गिबि फारिलाइखौ बोखार   \n",
       "\n",
       "                               eng_sent  \n",
       "0       please let me know today's date  \n",
       "1  show me upcoming events in this area  \n",
       "2                     book taxi for now  \n",
       "3   what is the stock price for lexmark  \n",
       "4          please remove the first list  "
      ]
     },
     "execution_count": 43,
     "metadata": {},
     "output_type": "execute_result"
    }
   ],
   "source": [
    "df1.head()"
   ]
  },
  {
   "cell_type": "code",
   "execution_count": 44,
   "id": "25adc0da-8a03-45ce-9fa5-e4b844003be2",
   "metadata": {},
   "outputs": [],
   "source": [
    "df1 = df1[['bodo_sent']]"
   ]
  },
  {
   "cell_type": "code",
   "execution_count": 45,
   "id": "1a69c0a2-243f-4cf5-84c3-baa7477f17d2",
   "metadata": {},
   "outputs": [
    {
     "data": {
      "text/html": [
       "<div>\n",
       "<style scoped>\n",
       "    .dataframe tbody tr th:only-of-type {\n",
       "        vertical-align: middle;\n",
       "    }\n",
       "\n",
       "    .dataframe tbody tr th {\n",
       "        vertical-align: top;\n",
       "    }\n",
       "\n",
       "    .dataframe thead th {\n",
       "        text-align: right;\n",
       "    }\n",
       "</style>\n",
       "<table border=\"1\" class=\"dataframe\">\n",
       "  <thead>\n",
       "    <tr style=\"text-align: right;\">\n",
       "      <th></th>\n",
       "      <th>bodo_sent</th>\n",
       "    </tr>\n",
       "  </thead>\n",
       "  <tbody>\n",
       "    <tr>\n",
       "      <th>0</th>\n",
       "      <td>अन्नानै आंंनो दिनैनि अक्टखौ खिन्था</td>\n",
       "    </tr>\n",
       "    <tr>\n",
       "      <th>1</th>\n",
       "      <td>बे ओनसोलनि फैगौ इभेन्टफोरखौ आंनो खोन्था।</td>\n",
       "    </tr>\n",
       "    <tr>\n",
       "      <th>2</th>\n",
       "      <td>दानि थाखाय टेक्सि बुक खालाम।</td>\n",
       "    </tr>\n",
       "    <tr>\n",
       "      <th>3</th>\n",
       "      <td>लेक्समार्कनि स्टक बेसेना बेसेबां?</td>\n",
       "    </tr>\n",
       "    <tr>\n",
       "      <th>4</th>\n",
       "      <td>अन्नानै गिबि फारिलाइखौ बोखार</td>\n",
       "    </tr>\n",
       "  </tbody>\n",
       "</table>\n",
       "</div>"
      ],
      "text/plain": [
       "                                  bodo_sent\n",
       "0        अन्नानै आंंनो दिनैनि अक्टखौ खिन्था\n",
       "1  बे ओनसोलनि फैगौ इभेन्टफोरखौ आंनो खोन्था।\n",
       "2              दानि थाखाय टेक्सि बुक खालाम।\n",
       "3         लेक्समार्कनि स्टक बेसेना बेसेबां?\n",
       "4              अन्नानै गिबि फारिलाइखौ बोखार"
      ]
     },
     "execution_count": 45,
     "metadata": {},
     "output_type": "execute_result"
    }
   ],
   "source": [
    "df1.head()"
   ]
  },
  {
   "cell_type": "code",
   "execution_count": 46,
   "id": "cd21c962-3774-4014-b557-facaf279b3f7",
   "metadata": {},
   "outputs": [],
   "source": [
    "df1.rename(columns={\n",
    "    'bodo_sent': 'text'\n",
    "}, inplace=True)"
   ]
  },
  {
   "cell_type": "code",
   "execution_count": 47,
   "id": "58152b10-ca01-4e6c-8054-ef6c4098a419",
   "metadata": {},
   "outputs": [
    {
     "data": {
      "text/html": [
       "<div>\n",
       "<style scoped>\n",
       "    .dataframe tbody tr th:only-of-type {\n",
       "        vertical-align: middle;\n",
       "    }\n",
       "\n",
       "    .dataframe tbody tr th {\n",
       "        vertical-align: top;\n",
       "    }\n",
       "\n",
       "    .dataframe thead th {\n",
       "        text-align: right;\n",
       "    }\n",
       "</style>\n",
       "<table border=\"1\" class=\"dataframe\">\n",
       "  <thead>\n",
       "    <tr style=\"text-align: right;\">\n",
       "      <th></th>\n",
       "      <th>text</th>\n",
       "    </tr>\n",
       "  </thead>\n",
       "  <tbody>\n",
       "    <tr>\n",
       "      <th>0</th>\n",
       "      <td>अन्नानै आंंनो दिनैनि अक्टखौ खिन्था</td>\n",
       "    </tr>\n",
       "    <tr>\n",
       "      <th>1</th>\n",
       "      <td>बे ओनसोलनि फैगौ इभेन्टफोरखौ आंनो खोन्था।</td>\n",
       "    </tr>\n",
       "    <tr>\n",
       "      <th>2</th>\n",
       "      <td>दानि थाखाय टेक्सि बुक खालाम।</td>\n",
       "    </tr>\n",
       "    <tr>\n",
       "      <th>3</th>\n",
       "      <td>लेक्समार्कनि स्टक बेसेना बेसेबां?</td>\n",
       "    </tr>\n",
       "    <tr>\n",
       "      <th>4</th>\n",
       "      <td>अन्नानै गिबि फारिलाइखौ बोखार</td>\n",
       "    </tr>\n",
       "  </tbody>\n",
       "</table>\n",
       "</div>"
      ],
      "text/plain": [
       "                                       text\n",
       "0        अन्नानै आंंनो दिनैनि अक्टखौ खिन्था\n",
       "1  बे ओनसोलनि फैगौ इभेन्टफोरखौ आंनो खोन्था।\n",
       "2              दानि थाखाय टेक्सि बुक खालाम।\n",
       "3         लेक्समार्कनि स्टक बेसेना बेसेबां?\n",
       "4              अन्नानै गिबि फारिलाइखौ बोखार"
      ]
     },
     "execution_count": 47,
     "metadata": {},
     "output_type": "execute_result"
    }
   ],
   "source": [
    "df1.head()"
   ]
  },
  {
   "cell_type": "code",
   "execution_count": 48,
   "id": "bd903751-39e8-474a-94fd-65d4c48c5645",
   "metadata": {},
   "outputs": [],
   "source": [
    "with open('datasets/Bodo/1bodo.txt') as f:\n",
    "    lines = f.readlines()"
   ]
  },
  {
   "cell_type": "code",
   "execution_count": 49,
   "id": "88ca82c2-ccfb-4428-9fa3-805b87b3ce5a",
   "metadata": {},
   "outputs": [],
   "source": [
    "df2 = pd.DataFrame(lines, columns=['text'])"
   ]
  },
  {
   "cell_type": "code",
   "execution_count": 50,
   "id": "7c0377bc-2c71-4d56-b622-5178bb3cae61",
   "metadata": {},
   "outputs": [
    {
     "data": {
      "text/html": [
       "<div>\n",
       "<style scoped>\n",
       "    .dataframe tbody tr th:only-of-type {\n",
       "        vertical-align: middle;\n",
       "    }\n",
       "\n",
       "    .dataframe tbody tr th {\n",
       "        vertical-align: top;\n",
       "    }\n",
       "\n",
       "    .dataframe thead th {\n",
       "        text-align: right;\n",
       "    }\n",
       "</style>\n",
       "<table border=\"1\" class=\"dataframe\">\n",
       "  <thead>\n",
       "    <tr style=\"text-align: right;\">\n",
       "      <th></th>\n",
       "      <th>text</th>\n",
       "    </tr>\n",
       "  </thead>\n",
       "  <tbody>\n",
       "    <tr>\n",
       "      <th>0</th>\n",
       "      <td>अन्नानै आंंनो दिनैनि अक्टखौ खिन्था\\n</td>\n",
       "    </tr>\n",
       "    <tr>\n",
       "      <th>1</th>\n",
       "      <td>बे ओनसोलनि फैगौ इभेन्टफोरखौ आंनो खोन्था।\\n</td>\n",
       "    </tr>\n",
       "    <tr>\n",
       "      <th>2</th>\n",
       "      <td>दानि थाखाय टेक्सि बुक खालाम।\\n</td>\n",
       "    </tr>\n",
       "    <tr>\n",
       "      <th>3</th>\n",
       "      <td>लेक्समार्कनि स्टक बेसेना बेसेबां?\\n</td>\n",
       "    </tr>\n",
       "    <tr>\n",
       "      <th>4</th>\n",
       "      <td>अन्नानै गिबि फारिलाइखौ बोखार\\n</td>\n",
       "    </tr>\n",
       "  </tbody>\n",
       "</table>\n",
       "</div>"
      ],
      "text/plain": [
       "                                         text\n",
       "0        अन्नानै आंंनो दिनैनि अक्टखौ खिन्था\\n\n",
       "1  बे ओनसोलनि फैगौ इभेन्टफोरखौ आंनो खोन्था।\\n\n",
       "2              दानि थाखाय टेक्सि बुक खालाम।\\n\n",
       "3         लेक्समार्कनि स्टक बेसेना बेसेबां?\\n\n",
       "4              अन्नानै गिबि फारिलाइखौ बोखार\\n"
      ]
     },
     "execution_count": 50,
     "metadata": {},
     "output_type": "execute_result"
    }
   ],
   "source": [
    "df2.head()"
   ]
  },
  {
   "cell_type": "code",
   "execution_count": 51,
   "id": "8f7af046-ce4a-4284-92c4-b24d125347a2",
   "metadata": {},
   "outputs": [],
   "source": [
    "df3 = pd.read_excel('datasets/Bodo/2.xlsx')"
   ]
  },
  {
   "cell_type": "code",
   "execution_count": 52,
   "id": "e4d7a423-d0c6-42ba-b229-b14f367d1e3b",
   "metadata": {},
   "outputs": [
    {
     "data": {
      "text/html": [
       "<div>\n",
       "<style scoped>\n",
       "    .dataframe tbody tr th:only-of-type {\n",
       "        vertical-align: middle;\n",
       "    }\n",
       "\n",
       "    .dataframe tbody tr th {\n",
       "        vertical-align: top;\n",
       "    }\n",
       "\n",
       "    .dataframe thead th {\n",
       "        text-align: right;\n",
       "    }\n",
       "</style>\n",
       "<table border=\"1\" class=\"dataframe\">\n",
       "  <thead>\n",
       "    <tr style=\"text-align: right;\">\n",
       "      <th></th>\n",
       "      <th>bodo_sent</th>\n",
       "      <th>eng_sent</th>\n",
       "    </tr>\n",
       "  </thead>\n",
       "  <tbody>\n",
       "    <tr>\n",
       "      <th>0</th>\n",
       "      <td>पंजाब में समाज कल्याण विभाग के बाल अधिकार प्रक...</td>\n",
       "      <td>In Punjab, the Child Rights Cell of the Depart...</td>\n",
       "    </tr>\n",
       "    <tr>\n",
       "      <th>1</th>\n",
       "      <td>बावैसो बोसोरफोराव खमलायनायनि बे रोखोमा गुबुन ह...</td>\n",
       "      <td>In recent years this style of wrestling has al...</td>\n",
       "    </tr>\n",
       "    <tr>\n",
       "      <th>2</th>\n",
       "      <td>बायदिरोखोमनि जाठिआव तिसरा, चथुसरा, खंडा, मिश्र...</td>\n",
       "      <td>The different jathis are tisra, chathusra, kha...</td>\n",
       "    </tr>\n",
       "    <tr>\n",
       "      <th>3</th>\n",
       "      <td>सान्नाय खामानियाव मोनसे टेप एबा आखाइ खबनाय थाय...</td>\n",
       "      <td>The action for counting includes a tap or clap...</td>\n",
       "    </tr>\n",
       "    <tr>\n",
       "      <th>4</th>\n",
       "      <td>बेखौ खालामनायाव मोनसे टेप एबा आखाइ खबनाय थायो,...</td>\n",
       "      <td>Its action includes a tap or clap, followed by...</td>\n",
       "    </tr>\n",
       "  </tbody>\n",
       "</table>\n",
       "</div>"
      ],
      "text/plain": [
       "                                           bodo_sent  \\\n",
       "0  पंजाब में समाज कल्याण विभाग के बाल अधिकार प्रक...   \n",
       "1  बावैसो बोसोरफोराव खमलायनायनि बे रोखोमा गुबुन ह...   \n",
       "2  बायदिरोखोमनि जाठिआव तिसरा, चथुसरा, खंडा, मिश्र...   \n",
       "3  सान्नाय खामानियाव मोनसे टेप एबा आखाइ खबनाय थाय...   \n",
       "4  बेखौ खालामनायाव मोनसे टेप एबा आखाइ खबनाय थायो,...   \n",
       "\n",
       "                                            eng_sent  \n",
       "0  In Punjab, the Child Rights Cell of the Depart...  \n",
       "1  In recent years this style of wrestling has al...  \n",
       "2  The different jathis are tisra, chathusra, kha...  \n",
       "3  The action for counting includes a tap or clap...  \n",
       "4  Its action includes a tap or clap, followed by...  "
      ]
     },
     "execution_count": 52,
     "metadata": {},
     "output_type": "execute_result"
    }
   ],
   "source": [
    "df3.head()"
   ]
  },
  {
   "cell_type": "code",
   "execution_count": 53,
   "id": "ebcaeae2-9e0d-445f-86a3-52c191d722ee",
   "metadata": {},
   "outputs": [],
   "source": [
    "df3 = df3[['bodo_sent']]"
   ]
  },
  {
   "cell_type": "code",
   "execution_count": 54,
   "id": "b211ea4a-fe7f-4609-b165-585b38588e03",
   "metadata": {},
   "outputs": [
    {
     "data": {
      "text/html": [
       "<div>\n",
       "<style scoped>\n",
       "    .dataframe tbody tr th:only-of-type {\n",
       "        vertical-align: middle;\n",
       "    }\n",
       "\n",
       "    .dataframe tbody tr th {\n",
       "        vertical-align: top;\n",
       "    }\n",
       "\n",
       "    .dataframe thead th {\n",
       "        text-align: right;\n",
       "    }\n",
       "</style>\n",
       "<table border=\"1\" class=\"dataframe\">\n",
       "  <thead>\n",
       "    <tr style=\"text-align: right;\">\n",
       "      <th></th>\n",
       "      <th>bodo_sent</th>\n",
       "    </tr>\n",
       "  </thead>\n",
       "  <tbody>\n",
       "    <tr>\n",
       "      <th>0</th>\n",
       "      <td>पंजाब में समाज कल्याण विभाग के बाल अधिकार प्रक...</td>\n",
       "    </tr>\n",
       "    <tr>\n",
       "      <th>1</th>\n",
       "      <td>बावैसो बोसोरफोराव खमलायनायनि बे रोखोमा गुबुन ह...</td>\n",
       "    </tr>\n",
       "    <tr>\n",
       "      <th>2</th>\n",
       "      <td>बायदिरोखोमनि जाठिआव तिसरा, चथुसरा, खंडा, मिश्र...</td>\n",
       "    </tr>\n",
       "    <tr>\n",
       "      <th>3</th>\n",
       "      <td>सान्नाय खामानियाव मोनसे टेप एबा आखाइ खबनाय थाय...</td>\n",
       "    </tr>\n",
       "    <tr>\n",
       "      <th>4</th>\n",
       "      <td>बेखौ खालामनायाव मोनसे टेप एबा आखाइ खबनाय थायो,...</td>\n",
       "    </tr>\n",
       "  </tbody>\n",
       "</table>\n",
       "</div>"
      ],
      "text/plain": [
       "                                           bodo_sent\n",
       "0  पंजाब में समाज कल्याण विभाग के बाल अधिकार प्रक...\n",
       "1  बावैसो बोसोरफोराव खमलायनायनि बे रोखोमा गुबुन ह...\n",
       "2  बायदिरोखोमनि जाठिआव तिसरा, चथुसरा, खंडा, मिश्र...\n",
       "3  सान्नाय खामानियाव मोनसे टेप एबा आखाइ खबनाय थाय...\n",
       "4  बेखौ खालामनायाव मोनसे टेप एबा आखाइ खबनाय थायो,..."
      ]
     },
     "execution_count": 54,
     "metadata": {},
     "output_type": "execute_result"
    }
   ],
   "source": [
    "df3.head()"
   ]
  },
  {
   "cell_type": "code",
   "execution_count": 55,
   "id": "85de8cb8-5157-4a5b-8060-60f7da7c3231",
   "metadata": {},
   "outputs": [],
   "source": [
    "df3.rename(columns={\n",
    "    'bodo_sent': 'text'\n",
    "}, inplace=True)"
   ]
  },
  {
   "cell_type": "code",
   "execution_count": 56,
   "id": "0d5663ba-458c-4082-8c5d-aeeaa1dcee8f",
   "metadata": {},
   "outputs": [
    {
     "data": {
      "text/html": [
       "<div>\n",
       "<style scoped>\n",
       "    .dataframe tbody tr th:only-of-type {\n",
       "        vertical-align: middle;\n",
       "    }\n",
       "\n",
       "    .dataframe tbody tr th {\n",
       "        vertical-align: top;\n",
       "    }\n",
       "\n",
       "    .dataframe thead th {\n",
       "        text-align: right;\n",
       "    }\n",
       "</style>\n",
       "<table border=\"1\" class=\"dataframe\">\n",
       "  <thead>\n",
       "    <tr style=\"text-align: right;\">\n",
       "      <th></th>\n",
       "      <th>text</th>\n",
       "    </tr>\n",
       "  </thead>\n",
       "  <tbody>\n",
       "    <tr>\n",
       "      <th>0</th>\n",
       "      <td>पंजाब में समाज कल्याण विभाग के बाल अधिकार प्रक...</td>\n",
       "    </tr>\n",
       "    <tr>\n",
       "      <th>1</th>\n",
       "      <td>बावैसो बोसोरफोराव खमलायनायनि बे रोखोमा गुबुन ह...</td>\n",
       "    </tr>\n",
       "    <tr>\n",
       "      <th>2</th>\n",
       "      <td>बायदिरोखोमनि जाठिआव तिसरा, चथुसरा, खंडा, मिश्र...</td>\n",
       "    </tr>\n",
       "    <tr>\n",
       "      <th>3</th>\n",
       "      <td>सान्नाय खामानियाव मोनसे टेप एबा आखाइ खबनाय थाय...</td>\n",
       "    </tr>\n",
       "    <tr>\n",
       "      <th>4</th>\n",
       "      <td>बेखौ खालामनायाव मोनसे टेप एबा आखाइ खबनाय थायो,...</td>\n",
       "    </tr>\n",
       "  </tbody>\n",
       "</table>\n",
       "</div>"
      ],
      "text/plain": [
       "                                                text\n",
       "0  पंजाब में समाज कल्याण विभाग के बाल अधिकार प्रक...\n",
       "1  बावैसो बोसोरफोराव खमलायनायनि बे रोखोमा गुबुन ह...\n",
       "2  बायदिरोखोमनि जाठिआव तिसरा, चथुसरा, खंडा, मिश्र...\n",
       "3  सान्नाय खामानियाव मोनसे टेप एबा आखाइ खबनाय थाय...\n",
       "4  बेखौ खालामनायाव मोनसे टेप एबा आखाइ खबनाय थायो,..."
      ]
     },
     "execution_count": 56,
     "metadata": {},
     "output_type": "execute_result"
    }
   ],
   "source": [
    "df3.head()"
   ]
  },
  {
   "cell_type": "code",
   "execution_count": 57,
   "id": "f4acea33-b005-43ce-92ad-4961e5340c3a",
   "metadata": {},
   "outputs": [],
   "source": [
    "with open('datasets/Bodo/2bodo.txt') as f:\n",
    "    lines = f.readlines()"
   ]
  },
  {
   "cell_type": "code",
   "execution_count": 58,
   "id": "913a9f87-7f49-4bc9-9ac0-f6293d208772",
   "metadata": {},
   "outputs": [],
   "source": [
    "df4 = pd.DataFrame(lines, columns=['text'])"
   ]
  },
  {
   "cell_type": "code",
   "execution_count": 59,
   "id": "11f82f8c-99d4-4e4c-8cb6-bb04a59aaa9d",
   "metadata": {},
   "outputs": [
    {
     "data": {
      "text/html": [
       "<div>\n",
       "<style scoped>\n",
       "    .dataframe tbody tr th:only-of-type {\n",
       "        vertical-align: middle;\n",
       "    }\n",
       "\n",
       "    .dataframe tbody tr th {\n",
       "        vertical-align: top;\n",
       "    }\n",
       "\n",
       "    .dataframe thead th {\n",
       "        text-align: right;\n",
       "    }\n",
       "</style>\n",
       "<table border=\"1\" class=\"dataframe\">\n",
       "  <thead>\n",
       "    <tr style=\"text-align: right;\">\n",
       "      <th></th>\n",
       "      <th>text</th>\n",
       "    </tr>\n",
       "  </thead>\n",
       "  <tbody>\n",
       "    <tr>\n",
       "      <th>0</th>\n",
       "      <td>पंजाब में समाज कल्याण विभाग के बाल अधिकार प्रक...</td>\n",
       "    </tr>\n",
       "    <tr>\n",
       "      <th>1</th>\n",
       "      <td>बावैसो बोसोरफोराव खमलायनायनि बे रोखोमा गुबुन ह...</td>\n",
       "    </tr>\n",
       "    <tr>\n",
       "      <th>2</th>\n",
       "      <td>बायदिरोखोमनि जाठिआव तिसरा, चथुसरा, खंडा, मिश्र...</td>\n",
       "    </tr>\n",
       "    <tr>\n",
       "      <th>3</th>\n",
       "      <td>सान्नाय खामानियाव मोनसे टेप एबा आखाइ खबनाय थाय...</td>\n",
       "    </tr>\n",
       "    <tr>\n",
       "      <th>4</th>\n",
       "      <td>बेखौ खालामनायाव मोनसे टेप एबा आखाइ खबनाय थायो,...</td>\n",
       "    </tr>\n",
       "  </tbody>\n",
       "</table>\n",
       "</div>"
      ],
      "text/plain": [
       "                                                text\n",
       "0  पंजाब में समाज कल्याण विभाग के बाल अधिकार प्रक...\n",
       "1  बावैसो बोसोरफोराव खमलायनायनि बे रोखोमा गुबुन ह...\n",
       "2  बायदिरोखोमनि जाठिआव तिसरा, चथुसरा, खंडा, मिश्र...\n",
       "3  सान्नाय खामानियाव मोनसे टेप एबा आखाइ खबनाय थाय...\n",
       "4  बेखौ खालामनायाव मोनसे टेप एबा आखाइ खबनाय थायो,..."
      ]
     },
     "execution_count": 59,
     "metadata": {},
     "output_type": "execute_result"
    }
   ],
   "source": [
    "df4.head()"
   ]
  },
  {
   "cell_type": "code",
   "execution_count": 60,
   "id": "1f1a07fb-a865-46e7-af3d-4c139d8e0f08",
   "metadata": {},
   "outputs": [],
   "source": [
    "df5 = pd.read_excel('datasets/Bodo/3.xlsx')"
   ]
  },
  {
   "cell_type": "code",
   "execution_count": 61,
   "id": "c81b038f-e0e2-47fa-9b9c-90c7df6fe766",
   "metadata": {},
   "outputs": [
    {
     "data": {
      "text/html": [
       "<div>\n",
       "<style scoped>\n",
       "    .dataframe tbody tr th:only-of-type {\n",
       "        vertical-align: middle;\n",
       "    }\n",
       "\n",
       "    .dataframe tbody tr th {\n",
       "        vertical-align: top;\n",
       "    }\n",
       "\n",
       "    .dataframe thead th {\n",
       "        text-align: right;\n",
       "    }\n",
       "</style>\n",
       "<table border=\"1\" class=\"dataframe\">\n",
       "  <thead>\n",
       "    <tr style=\"text-align: right;\">\n",
       "      <th></th>\n",
       "      <th>bodo_sent</th>\n",
       "      <th>eng_sent</th>\n",
       "    </tr>\n",
       "  </thead>\n",
       "  <tbody>\n",
       "    <tr>\n",
       "      <th>0</th>\n",
       "      <td>KTouch खौ खेव।</td>\n",
       "      <td>Open KTouch.</td>\n",
       "    </tr>\n",
       "    <tr>\n",
       "      <th>1</th>\n",
       "      <td>tail hyphen f forward slash var slash log slas...</td>\n",
       "      <td>tail hyphen f forward slash var slash log slas...</td>\n",
       "    </tr>\n",
       "    <tr>\n",
       "      <th>2</th>\n",
       "      <td>दानिया input नि थुंगेनायखौ दिन्थिनो Enter key ...</td>\n",
       "      <td>Now press Enter key to indicate the end of input.</td>\n",
       "    </tr>\n",
       "    <tr>\n",
       "      <th>3</th>\n",
       "      <td>Manage Search Engines मेनेज सार्स इन्जिनस) आव ...</td>\n",
       "      <td>Click on “Manage Search Engines”.</td>\n",
       "    </tr>\n",
       "    <tr>\n",
       "      <th>4</th>\n",
       "      <td>आस्थाम आसिखौ ‘S’ हांखोनि सायाव दोन।</td>\n",
       "      <td>The 'Student Line' has become red.</td>\n",
       "    </tr>\n",
       "  </tbody>\n",
       "</table>\n",
       "</div>"
      ],
      "text/plain": [
       "                                           bodo_sent  \\\n",
       "0                                     KTouch खौ खेव।   \n",
       "1  tail hyphen f forward slash var slash log slas...   \n",
       "2  दानिया input नि थुंगेनायखौ दिन्थिनो Enter key ...   \n",
       "3  Manage Search Engines मेनेज सार्स इन्जिनस) आव ...   \n",
       "4                आस्थाम आसिखौ ‘S’ हांखोनि सायाव दोन।   \n",
       "\n",
       "                                            eng_sent  \n",
       "0                                       Open KTouch.  \n",
       "1  tail hyphen f forward slash var slash log slas...  \n",
       "2  Now press Enter key to indicate the end of input.  \n",
       "3                  Click on “Manage Search Engines”.  \n",
       "4                 The 'Student Line' has become red.  "
      ]
     },
     "execution_count": 61,
     "metadata": {},
     "output_type": "execute_result"
    }
   ],
   "source": [
    "df5.head()"
   ]
  },
  {
   "cell_type": "code",
   "execution_count": 62,
   "id": "de5892f3-52d0-4e74-84b3-d51d2c97d81b",
   "metadata": {},
   "outputs": [],
   "source": [
    "df5 = df5[['bodo_sent']]"
   ]
  },
  {
   "cell_type": "code",
   "execution_count": 63,
   "id": "f4fd3496-3ff5-4d61-9d40-22f17ca8a3cb",
   "metadata": {},
   "outputs": [
    {
     "data": {
      "text/html": [
       "<div>\n",
       "<style scoped>\n",
       "    .dataframe tbody tr th:only-of-type {\n",
       "        vertical-align: middle;\n",
       "    }\n",
       "\n",
       "    .dataframe tbody tr th {\n",
       "        vertical-align: top;\n",
       "    }\n",
       "\n",
       "    .dataframe thead th {\n",
       "        text-align: right;\n",
       "    }\n",
       "</style>\n",
       "<table border=\"1\" class=\"dataframe\">\n",
       "  <thead>\n",
       "    <tr style=\"text-align: right;\">\n",
       "      <th></th>\n",
       "      <th>bodo_sent</th>\n",
       "    </tr>\n",
       "  </thead>\n",
       "  <tbody>\n",
       "    <tr>\n",
       "      <th>0</th>\n",
       "      <td>KTouch खौ खेव।</td>\n",
       "    </tr>\n",
       "    <tr>\n",
       "      <th>1</th>\n",
       "      <td>tail hyphen f forward slash var slash log slas...</td>\n",
       "    </tr>\n",
       "    <tr>\n",
       "      <th>2</th>\n",
       "      <td>दानिया input नि थुंगेनायखौ दिन्थिनो Enter key ...</td>\n",
       "    </tr>\n",
       "    <tr>\n",
       "      <th>3</th>\n",
       "      <td>Manage Search Engines मेनेज सार्स इन्जिनस) आव ...</td>\n",
       "    </tr>\n",
       "    <tr>\n",
       "      <th>4</th>\n",
       "      <td>आस्थाम आसिखौ ‘S’ हांखोनि सायाव दोन।</td>\n",
       "    </tr>\n",
       "  </tbody>\n",
       "</table>\n",
       "</div>"
      ],
      "text/plain": [
       "                                           bodo_sent\n",
       "0                                     KTouch खौ खेव।\n",
       "1  tail hyphen f forward slash var slash log slas...\n",
       "2  दानिया input नि थुंगेनायखौ दिन्थिनो Enter key ...\n",
       "3  Manage Search Engines मेनेज सार्स इन्जिनस) आव ...\n",
       "4                आस्थाम आसिखौ ‘S’ हांखोनि सायाव दोन।"
      ]
     },
     "execution_count": 63,
     "metadata": {},
     "output_type": "execute_result"
    }
   ],
   "source": [
    "df5.head()"
   ]
  },
  {
   "cell_type": "code",
   "execution_count": 64,
   "id": "ac0722e0-6177-46d2-8c82-21f2e4014673",
   "metadata": {},
   "outputs": [],
   "source": [
    "df5.rename(columns={\n",
    "    'bodo_sent': 'text'\n",
    "}, inplace=True)"
   ]
  },
  {
   "cell_type": "code",
   "execution_count": 65,
   "id": "cd78d996-0c92-4084-a443-06fad2f4c4bf",
   "metadata": {},
   "outputs": [
    {
     "data": {
      "text/html": [
       "<div>\n",
       "<style scoped>\n",
       "    .dataframe tbody tr th:only-of-type {\n",
       "        vertical-align: middle;\n",
       "    }\n",
       "\n",
       "    .dataframe tbody tr th {\n",
       "        vertical-align: top;\n",
       "    }\n",
       "\n",
       "    .dataframe thead th {\n",
       "        text-align: right;\n",
       "    }\n",
       "</style>\n",
       "<table border=\"1\" class=\"dataframe\">\n",
       "  <thead>\n",
       "    <tr style=\"text-align: right;\">\n",
       "      <th></th>\n",
       "      <th>text</th>\n",
       "    </tr>\n",
       "  </thead>\n",
       "  <tbody>\n",
       "    <tr>\n",
       "      <th>0</th>\n",
       "      <td>KTouch खौ खेव।</td>\n",
       "    </tr>\n",
       "    <tr>\n",
       "      <th>1</th>\n",
       "      <td>tail hyphen f forward slash var slash log slas...</td>\n",
       "    </tr>\n",
       "    <tr>\n",
       "      <th>2</th>\n",
       "      <td>दानिया input नि थुंगेनायखौ दिन्थिनो Enter key ...</td>\n",
       "    </tr>\n",
       "    <tr>\n",
       "      <th>3</th>\n",
       "      <td>Manage Search Engines मेनेज सार्स इन्जिनस) आव ...</td>\n",
       "    </tr>\n",
       "    <tr>\n",
       "      <th>4</th>\n",
       "      <td>आस्थाम आसिखौ ‘S’ हांखोनि सायाव दोन।</td>\n",
       "    </tr>\n",
       "  </tbody>\n",
       "</table>\n",
       "</div>"
      ],
      "text/plain": [
       "                                                text\n",
       "0                                     KTouch खौ खेव।\n",
       "1  tail hyphen f forward slash var slash log slas...\n",
       "2  दानिया input नि थुंगेनायखौ दिन्थिनो Enter key ...\n",
       "3  Manage Search Engines मेनेज सार्स इन्जिनस) आव ...\n",
       "4                आस्थाम आसिखौ ‘S’ हांखोनि सायाव दोन।"
      ]
     },
     "execution_count": 65,
     "metadata": {},
     "output_type": "execute_result"
    }
   ],
   "source": [
    "df5.head()"
   ]
  },
  {
   "cell_type": "code",
   "execution_count": 66,
   "id": "bdadde3c-2def-460a-916d-89cca0a432fa",
   "metadata": {},
   "outputs": [],
   "source": [
    "with open('datasets/Bodo/3bodo.txt') as f:\n",
    "    lines = f.readlines()"
   ]
  },
  {
   "cell_type": "code",
   "execution_count": 67,
   "id": "b037c5c1-80ac-4e80-a54e-ef450d8ec6c8",
   "metadata": {},
   "outputs": [],
   "source": [
    "df6 = pd.DataFrame(lines, columns=['text'])"
   ]
  },
  {
   "cell_type": "code",
   "execution_count": 68,
   "id": "1661d299-a288-4d06-b621-ff60412bb751",
   "metadata": {},
   "outputs": [
    {
     "data": {
      "text/html": [
       "<div>\n",
       "<style scoped>\n",
       "    .dataframe tbody tr th:only-of-type {\n",
       "        vertical-align: middle;\n",
       "    }\n",
       "\n",
       "    .dataframe tbody tr th {\n",
       "        vertical-align: top;\n",
       "    }\n",
       "\n",
       "    .dataframe thead th {\n",
       "        text-align: right;\n",
       "    }\n",
       "</style>\n",
       "<table border=\"1\" class=\"dataframe\">\n",
       "  <thead>\n",
       "    <tr style=\"text-align: right;\">\n",
       "      <th></th>\n",
       "      <th>text</th>\n",
       "    </tr>\n",
       "  </thead>\n",
       "  <tbody>\n",
       "    <tr>\n",
       "      <th>0</th>\n",
       "      <td>KTouch खौ खेव।\\n</td>\n",
       "    </tr>\n",
       "    <tr>\n",
       "      <th>1</th>\n",
       "      <td>tail hyphen f forward slash var slash log slas...</td>\n",
       "    </tr>\n",
       "    <tr>\n",
       "      <th>2</th>\n",
       "      <td>दानिया input नि थुंगेनायखौ दिन्थिनो Enter key ...</td>\n",
       "    </tr>\n",
       "    <tr>\n",
       "      <th>3</th>\n",
       "      <td>Manage Search Engines मेनेज सार्स इन्जिनस) आव ...</td>\n",
       "    </tr>\n",
       "    <tr>\n",
       "      <th>4</th>\n",
       "      <td>आस्थाम आसिखौ ‘S’ हांखोनि सायाव दोन।\\n</td>\n",
       "    </tr>\n",
       "  </tbody>\n",
       "</table>\n",
       "</div>"
      ],
      "text/plain": [
       "                                                text\n",
       "0                                   KTouch खौ खेव।\\n\n",
       "1  tail hyphen f forward slash var slash log slas...\n",
       "2  दानिया input नि थुंगेनायखौ दिन्थिनो Enter key ...\n",
       "3  Manage Search Engines मेनेज सार्स इन्जिनस) आव ...\n",
       "4              आस्थाम आसिखौ ‘S’ हांखोनि सायाव दोन।\\n"
      ]
     },
     "execution_count": 68,
     "metadata": {},
     "output_type": "execute_result"
    }
   ],
   "source": [
    "df6.head()"
   ]
  },
  {
   "cell_type": "code",
   "execution_count": 69,
   "id": "5deb95f1-4d97-4236-9b72-b77f8a043a1a",
   "metadata": {},
   "outputs": [],
   "source": [
    "df7 = pd.read_excel('datasets/Bodo/4.xlsx')"
   ]
  },
  {
   "cell_type": "code",
   "execution_count": 70,
   "id": "88201e9b-6e4c-4fe4-9ed3-76cc967b917b",
   "metadata": {},
   "outputs": [
    {
     "data": {
      "text/html": [
       "<div>\n",
       "<style scoped>\n",
       "    .dataframe tbody tr th:only-of-type {\n",
       "        vertical-align: middle;\n",
       "    }\n",
       "\n",
       "    .dataframe tbody tr th {\n",
       "        vertical-align: top;\n",
       "    }\n",
       "\n",
       "    .dataframe thead th {\n",
       "        text-align: right;\n",
       "    }\n",
       "</style>\n",
       "<table border=\"1\" class=\"dataframe\">\n",
       "  <thead>\n",
       "    <tr style=\"text-align: right;\">\n",
       "      <th></th>\n",
       "      <th>bodo_sent</th>\n",
       "      <th>eng_sent</th>\n",
       "    </tr>\n",
       "  </thead>\n",
       "  <tbody>\n",
       "    <tr>\n",
       "      <th>0</th>\n",
       "      <td>मा जाखो?</td>\n",
       "      <td>What happened?</td>\n",
       "    </tr>\n",
       "    <tr>\n",
       "      <th>1</th>\n",
       "      <td>बा बाथ्रा?</td>\n",
       "      <td>What’s the matter?</td>\n",
       "    </tr>\n",
       "    <tr>\n",
       "      <th>2</th>\n",
       "      <td>खोलानि काश्मीरा मुन्नार ।</td>\n",
       "      <td>Munnar the Kashmir of the South .</td>\n",
       "    </tr>\n",
       "    <tr>\n",
       "      <th>3</th>\n",
       "      <td>हाजो , बिलो , हाग्रा , साहा बागान , मसलाफोरनि ...</td>\n",
       "      <td>Surrounded from all four sides with an abundan...</td>\n",
       "    </tr>\n",
       "    <tr>\n",
       "      <th>4</th>\n",
       "      <td>ओरैबादि मोनदाङो दि मुन्नारनि समायनाखौ मिथिंगाय...</td>\n",
       "      <td>It appears that Nature also has maintained gre...</td>\n",
       "    </tr>\n",
       "  </tbody>\n",
       "</table>\n",
       "</div>"
      ],
      "text/plain": [
       "                                           bodo_sent  \\\n",
       "0                                           मा जाखो?   \n",
       "1                                         बा बाथ्रा?   \n",
       "2                          खोलानि काश्मीरा मुन्नार ।   \n",
       "3  हाजो , बिलो , हाग्रा , साहा बागान , मसलाफोरनि ...   \n",
       "4  ओरैबादि मोनदाङो दि मुन्नारनि समायनाखौ मिथिंगाय...   \n",
       "\n",
       "                                            eng_sent  \n",
       "0                                     What happened?  \n",
       "1                                 What’s the matter?  \n",
       "2                  Munnar the Kashmir of the South .  \n",
       "3  Surrounded from all four sides with an abundan...  \n",
       "4  It appears that Nature also has maintained gre...  "
      ]
     },
     "execution_count": 70,
     "metadata": {},
     "output_type": "execute_result"
    }
   ],
   "source": [
    "df7.head()"
   ]
  },
  {
   "cell_type": "code",
   "execution_count": 71,
   "id": "420fa991-7214-4516-b13b-be972cb12d98",
   "metadata": {},
   "outputs": [],
   "source": [
    "df7 = df7[['bodo_sent']]"
   ]
  },
  {
   "cell_type": "code",
   "execution_count": 72,
   "id": "1d56b1bf-58be-40a9-8971-cb87ed1fc400",
   "metadata": {},
   "outputs": [
    {
     "data": {
      "text/html": [
       "<div>\n",
       "<style scoped>\n",
       "    .dataframe tbody tr th:only-of-type {\n",
       "        vertical-align: middle;\n",
       "    }\n",
       "\n",
       "    .dataframe tbody tr th {\n",
       "        vertical-align: top;\n",
       "    }\n",
       "\n",
       "    .dataframe thead th {\n",
       "        text-align: right;\n",
       "    }\n",
       "</style>\n",
       "<table border=\"1\" class=\"dataframe\">\n",
       "  <thead>\n",
       "    <tr style=\"text-align: right;\">\n",
       "      <th></th>\n",
       "      <th>bodo_sent</th>\n",
       "    </tr>\n",
       "  </thead>\n",
       "  <tbody>\n",
       "    <tr>\n",
       "      <th>0</th>\n",
       "      <td>मा जाखो?</td>\n",
       "    </tr>\n",
       "    <tr>\n",
       "      <th>1</th>\n",
       "      <td>बा बाथ्रा?</td>\n",
       "    </tr>\n",
       "    <tr>\n",
       "      <th>2</th>\n",
       "      <td>खोलानि काश्मीरा मुन्नार ।</td>\n",
       "    </tr>\n",
       "    <tr>\n",
       "      <th>3</th>\n",
       "      <td>हाजो , बिलो , हाग्रा , साहा बागान , मसलाफोरनि ...</td>\n",
       "    </tr>\n",
       "    <tr>\n",
       "      <th>4</th>\n",
       "      <td>ओरैबादि मोनदाङो दि मुन्नारनि समायनाखौ मिथिंगाय...</td>\n",
       "    </tr>\n",
       "  </tbody>\n",
       "</table>\n",
       "</div>"
      ],
      "text/plain": [
       "                                           bodo_sent\n",
       "0                                           मा जाखो?\n",
       "1                                         बा बाथ्रा?\n",
       "2                          खोलानि काश्मीरा मुन्नार ।\n",
       "3  हाजो , बिलो , हाग्रा , साहा बागान , मसलाफोरनि ...\n",
       "4  ओरैबादि मोनदाङो दि मुन्नारनि समायनाखौ मिथिंगाय..."
      ]
     },
     "execution_count": 72,
     "metadata": {},
     "output_type": "execute_result"
    }
   ],
   "source": [
    "df7.head()"
   ]
  },
  {
   "cell_type": "code",
   "execution_count": 73,
   "id": "754daf96-6e59-4a2b-ae67-16f576cff921",
   "metadata": {},
   "outputs": [],
   "source": [
    "df7.rename(columns={\n",
    "    \"bodo_sent\": \"text\"\n",
    "}, inplace=True)"
   ]
  },
  {
   "cell_type": "code",
   "execution_count": 74,
   "id": "afe09720-9649-4a40-b2ef-a771ad5cf112",
   "metadata": {},
   "outputs": [
    {
     "data": {
      "text/html": [
       "<div>\n",
       "<style scoped>\n",
       "    .dataframe tbody tr th:only-of-type {\n",
       "        vertical-align: middle;\n",
       "    }\n",
       "\n",
       "    .dataframe tbody tr th {\n",
       "        vertical-align: top;\n",
       "    }\n",
       "\n",
       "    .dataframe thead th {\n",
       "        text-align: right;\n",
       "    }\n",
       "</style>\n",
       "<table border=\"1\" class=\"dataframe\">\n",
       "  <thead>\n",
       "    <tr style=\"text-align: right;\">\n",
       "      <th></th>\n",
       "      <th>text</th>\n",
       "    </tr>\n",
       "  </thead>\n",
       "  <tbody>\n",
       "    <tr>\n",
       "      <th>0</th>\n",
       "      <td>मा जाखो?</td>\n",
       "    </tr>\n",
       "    <tr>\n",
       "      <th>1</th>\n",
       "      <td>बा बाथ्रा?</td>\n",
       "    </tr>\n",
       "    <tr>\n",
       "      <th>2</th>\n",
       "      <td>खोलानि काश्मीरा मुन्नार ।</td>\n",
       "    </tr>\n",
       "    <tr>\n",
       "      <th>3</th>\n",
       "      <td>हाजो , बिलो , हाग्रा , साहा बागान , मसलाफोरनि ...</td>\n",
       "    </tr>\n",
       "    <tr>\n",
       "      <th>4</th>\n",
       "      <td>ओरैबादि मोनदाङो दि मुन्नारनि समायनाखौ मिथिंगाय...</td>\n",
       "    </tr>\n",
       "  </tbody>\n",
       "</table>\n",
       "</div>"
      ],
      "text/plain": [
       "                                                text\n",
       "0                                           मा जाखो?\n",
       "1                                         बा बाथ्रा?\n",
       "2                          खोलानि काश्मीरा मुन्नार ।\n",
       "3  हाजो , बिलो , हाग्रा , साहा बागान , मसलाफोरनि ...\n",
       "4  ओरैबादि मोनदाङो दि मुन्नारनि समायनाखौ मिथिंगाय..."
      ]
     },
     "execution_count": 74,
     "metadata": {},
     "output_type": "execute_result"
    }
   ],
   "source": [
    "df7.head()"
   ]
  },
  {
   "cell_type": "code",
   "execution_count": 75,
   "id": "3d286829-03c5-47f7-914e-e89b05c68709",
   "metadata": {},
   "outputs": [],
   "source": [
    "with open('datasets/Bodo/4bodo.txt') as f:\n",
    "    lines = f.readlines()"
   ]
  },
  {
   "cell_type": "code",
   "execution_count": 76,
   "id": "cf640fbd-d047-4585-a14e-4a526578c719",
   "metadata": {},
   "outputs": [],
   "source": [
    "df8 = pd.DataFrame(lines, columns=['text'])"
   ]
  },
  {
   "cell_type": "code",
   "execution_count": 77,
   "id": "103f8d1d-9525-45e2-b62b-73eca073623a",
   "metadata": {},
   "outputs": [
    {
     "data": {
      "text/html": [
       "<div>\n",
       "<style scoped>\n",
       "    .dataframe tbody tr th:only-of-type {\n",
       "        vertical-align: middle;\n",
       "    }\n",
       "\n",
       "    .dataframe tbody tr th {\n",
       "        vertical-align: top;\n",
       "    }\n",
       "\n",
       "    .dataframe thead th {\n",
       "        text-align: right;\n",
       "    }\n",
       "</style>\n",
       "<table border=\"1\" class=\"dataframe\">\n",
       "  <thead>\n",
       "    <tr style=\"text-align: right;\">\n",
       "      <th></th>\n",
       "      <th>text</th>\n",
       "    </tr>\n",
       "  </thead>\n",
       "  <tbody>\n",
       "    <tr>\n",
       "      <th>0</th>\n",
       "      <td>मा जाखो?\\n</td>\n",
       "    </tr>\n",
       "    <tr>\n",
       "      <th>1</th>\n",
       "      <td>बा बाथ्रा?\\n</td>\n",
       "    </tr>\n",
       "    <tr>\n",
       "      <th>2</th>\n",
       "      <td>खोलानि काश्मीरा मुन्नार ।\\n</td>\n",
       "    </tr>\n",
       "    <tr>\n",
       "      <th>3</th>\n",
       "      <td>हाजो , बिलो , हाग्रा , साहा बागान , मसलाफोरनि ...</td>\n",
       "    </tr>\n",
       "    <tr>\n",
       "      <th>4</th>\n",
       "      <td>ओरैबादि मोनदाङो दि मुन्नारनि समायनाखौ मिथिंगाय...</td>\n",
       "    </tr>\n",
       "  </tbody>\n",
       "</table>\n",
       "</div>"
      ],
      "text/plain": [
       "                                                text\n",
       "0                                         मा जाखो?\\n\n",
       "1                                       बा बाथ्रा?\\n\n",
       "2                        खोलानि काश्मीरा मुन्नार ।\\n\n",
       "3  हाजो , बिलो , हाग्रा , साहा बागान , मसलाफोरनि ...\n",
       "4  ओरैबादि मोनदाङो दि मुन्नारनि समायनाखौ मिथिंगाय..."
      ]
     },
     "execution_count": 77,
     "metadata": {},
     "output_type": "execute_result"
    }
   ],
   "source": [
    "df8.head()"
   ]
  },
  {
   "cell_type": "code",
   "execution_count": 78,
   "id": "bcb5e15a-7385-4647-8522-75aaa6c66fde",
   "metadata": {},
   "outputs": [],
   "source": [
    "df9 = pd.read_excel('datasets/Bodo/5.xlsx')"
   ]
  },
  {
   "cell_type": "code",
   "execution_count": 79,
   "id": "6c68f4cd-391d-4c12-992e-e4bb08d0436c",
   "metadata": {},
   "outputs": [
    {
     "data": {
      "text/html": [
       "<div>\n",
       "<style scoped>\n",
       "    .dataframe tbody tr th:only-of-type {\n",
       "        vertical-align: middle;\n",
       "    }\n",
       "\n",
       "    .dataframe tbody tr th {\n",
       "        vertical-align: top;\n",
       "    }\n",
       "\n",
       "    .dataframe thead th {\n",
       "        text-align: right;\n",
       "    }\n",
       "</style>\n",
       "<table border=\"1\" class=\"dataframe\">\n",
       "  <thead>\n",
       "    <tr style=\"text-align: right;\">\n",
       "      <th></th>\n",
       "      <th>bodo_sent</th>\n",
       "      <th>eng_sent</th>\n",
       "    </tr>\n",
       "  </thead>\n",
       "  <tbody>\n",
       "    <tr>\n",
       "      <th>0</th>\n",
       "      <td>दि ग्रेन्टा केनियन स्टेट एबा कपार स्टेट एरिजना...</td>\n",
       "      <td>The Grand Canyon State or Copper State, Arizon...</td>\n",
       "    </tr>\n",
       "    <tr>\n",
       "      <th>1</th>\n",
       "      <td>हां-लानाय हगारनाय सावस्रिनि जेंना थानाय एबा दा...</td>\n",
       "      <td>Arizonaâ€™s clean, clear, dry air and warm wea...</td>\n",
       "    </tr>\n",
       "    <tr>\n",
       "      <th>2</th>\n",
       "      <td>थांनाय थामजि बोसोराव हादरसानि सुबुं अनजिमाया थ...</td>\n",
       "      <td>The stateâ€™s population has tripled in the la...</td>\n",
       "    </tr>\n",
       "    <tr>\n",
       "      <th>3</th>\n",
       "      <td>आथिखालाव मोनथाम एरिजनानसनि मादाव मोनसेया बुमिं...</td>\n",
       "      <td>Today, one out of three Arizonans live in boom...</td>\n",
       "    </tr>\n",
       "    <tr>\n",
       "      <th>4</th>\n",
       "      <td>हादरारि पार्क आरो गोजाम नेर्सोनफोरनि मादाव एरि...</td>\n",
       "      <td>National Parks &amp; Monuments in Arizona include ...</td>\n",
       "    </tr>\n",
       "  </tbody>\n",
       "</table>\n",
       "</div>"
      ],
      "text/plain": [
       "                                           bodo_sent  \\\n",
       "0  दि ग्रेन्टा केनियन स्टेट एबा कपार स्टेट एरिजना...   \n",
       "1  हां-लानाय हगारनाय सावस्रिनि जेंना थानाय एबा दा...   \n",
       "2  थांनाय थामजि बोसोराव हादरसानि सुबुं अनजिमाया थ...   \n",
       "3  आथिखालाव मोनथाम एरिजनानसनि मादाव मोनसेया बुमिं...   \n",
       "4  हादरारि पार्क आरो गोजाम नेर्सोनफोरनि मादाव एरि...   \n",
       "\n",
       "                                            eng_sent  \n",
       "0  The Grand Canyon State or Copper State, Arizon...  \n",
       "1  Arizonaâ€™s clean, clear, dry air and warm wea...  \n",
       "2  The stateâ€™s population has tripled in the la...  \n",
       "3  Today, one out of three Arizonans live in boom...  \n",
       "4  National Parks & Monuments in Arizona include ...  "
      ]
     },
     "execution_count": 79,
     "metadata": {},
     "output_type": "execute_result"
    }
   ],
   "source": [
    "df9.head()"
   ]
  },
  {
   "cell_type": "code",
   "execution_count": 80,
   "id": "b86834e9-c2cf-4482-aa6b-3123f2c58c4a",
   "metadata": {},
   "outputs": [],
   "source": [
    "df9 = df9[['bodo_sent']]"
   ]
  },
  {
   "cell_type": "code",
   "execution_count": 81,
   "id": "b6279834-cec2-404d-9ee0-505726f66591",
   "metadata": {},
   "outputs": [
    {
     "data": {
      "text/html": [
       "<div>\n",
       "<style scoped>\n",
       "    .dataframe tbody tr th:only-of-type {\n",
       "        vertical-align: middle;\n",
       "    }\n",
       "\n",
       "    .dataframe tbody tr th {\n",
       "        vertical-align: top;\n",
       "    }\n",
       "\n",
       "    .dataframe thead th {\n",
       "        text-align: right;\n",
       "    }\n",
       "</style>\n",
       "<table border=\"1\" class=\"dataframe\">\n",
       "  <thead>\n",
       "    <tr style=\"text-align: right;\">\n",
       "      <th></th>\n",
       "      <th>bodo_sent</th>\n",
       "    </tr>\n",
       "  </thead>\n",
       "  <tbody>\n",
       "    <tr>\n",
       "      <th>0</th>\n",
       "      <td>दि ग्रेन्टा केनियन स्टेट एबा कपार स्टेट एरिजना...</td>\n",
       "    </tr>\n",
       "    <tr>\n",
       "      <th>1</th>\n",
       "      <td>हां-लानाय हगारनाय सावस्रिनि जेंना थानाय एबा दा...</td>\n",
       "    </tr>\n",
       "    <tr>\n",
       "      <th>2</th>\n",
       "      <td>थांनाय थामजि बोसोराव हादरसानि सुबुं अनजिमाया थ...</td>\n",
       "    </tr>\n",
       "    <tr>\n",
       "      <th>3</th>\n",
       "      <td>आथिखालाव मोनथाम एरिजनानसनि मादाव मोनसेया बुमिं...</td>\n",
       "    </tr>\n",
       "    <tr>\n",
       "      <th>4</th>\n",
       "      <td>हादरारि पार्क आरो गोजाम नेर्सोनफोरनि मादाव एरि...</td>\n",
       "    </tr>\n",
       "  </tbody>\n",
       "</table>\n",
       "</div>"
      ],
      "text/plain": [
       "                                           bodo_sent\n",
       "0  दि ग्रेन्टा केनियन स्टेट एबा कपार स्टेट एरिजना...\n",
       "1  हां-लानाय हगारनाय सावस्रिनि जेंना थानाय एबा दा...\n",
       "2  थांनाय थामजि बोसोराव हादरसानि सुबुं अनजिमाया थ...\n",
       "3  आथिखालाव मोनथाम एरिजनानसनि मादाव मोनसेया बुमिं...\n",
       "4  हादरारि पार्क आरो गोजाम नेर्सोनफोरनि मादाव एरि..."
      ]
     },
     "execution_count": 81,
     "metadata": {},
     "output_type": "execute_result"
    }
   ],
   "source": [
    "df9.head()"
   ]
  },
  {
   "cell_type": "code",
   "execution_count": 82,
   "id": "dd39338f-6ddb-4935-ad02-da901437da0f",
   "metadata": {},
   "outputs": [],
   "source": [
    "df9.rename(columns={\n",
    "    \"bodo_sent\": \"text\"\n",
    "}, inplace=True)"
   ]
  },
  {
   "cell_type": "code",
   "execution_count": 83,
   "id": "a28668cf-4983-464c-a94b-5dc4958b2015",
   "metadata": {},
   "outputs": [
    {
     "data": {
      "text/html": [
       "<div>\n",
       "<style scoped>\n",
       "    .dataframe tbody tr th:only-of-type {\n",
       "        vertical-align: middle;\n",
       "    }\n",
       "\n",
       "    .dataframe tbody tr th {\n",
       "        vertical-align: top;\n",
       "    }\n",
       "\n",
       "    .dataframe thead th {\n",
       "        text-align: right;\n",
       "    }\n",
       "</style>\n",
       "<table border=\"1\" class=\"dataframe\">\n",
       "  <thead>\n",
       "    <tr style=\"text-align: right;\">\n",
       "      <th></th>\n",
       "      <th>text</th>\n",
       "    </tr>\n",
       "  </thead>\n",
       "  <tbody>\n",
       "    <tr>\n",
       "      <th>0</th>\n",
       "      <td>दि ग्रेन्टा केनियन स्टेट एबा कपार स्टेट एरिजना...</td>\n",
       "    </tr>\n",
       "    <tr>\n",
       "      <th>1</th>\n",
       "      <td>हां-लानाय हगारनाय सावस्रिनि जेंना थानाय एबा दा...</td>\n",
       "    </tr>\n",
       "    <tr>\n",
       "      <th>2</th>\n",
       "      <td>थांनाय थामजि बोसोराव हादरसानि सुबुं अनजिमाया थ...</td>\n",
       "    </tr>\n",
       "    <tr>\n",
       "      <th>3</th>\n",
       "      <td>आथिखालाव मोनथाम एरिजनानसनि मादाव मोनसेया बुमिं...</td>\n",
       "    </tr>\n",
       "    <tr>\n",
       "      <th>4</th>\n",
       "      <td>हादरारि पार्क आरो गोजाम नेर्सोनफोरनि मादाव एरि...</td>\n",
       "    </tr>\n",
       "  </tbody>\n",
       "</table>\n",
       "</div>"
      ],
      "text/plain": [
       "                                                text\n",
       "0  दि ग्रेन्टा केनियन स्टेट एबा कपार स्टेट एरिजना...\n",
       "1  हां-लानाय हगारनाय सावस्रिनि जेंना थानाय एबा दा...\n",
       "2  थांनाय थामजि बोसोराव हादरसानि सुबुं अनजिमाया थ...\n",
       "3  आथिखालाव मोनथाम एरिजनानसनि मादाव मोनसेया बुमिं...\n",
       "4  हादरारि पार्क आरो गोजाम नेर्सोनफोरनि मादाव एरि..."
      ]
     },
     "execution_count": 83,
     "metadata": {},
     "output_type": "execute_result"
    }
   ],
   "source": [
    "df9.head()"
   ]
  },
  {
   "cell_type": "code",
   "execution_count": 84,
   "id": "35b809c0-bd10-4646-9987-6ab72eeca083",
   "metadata": {},
   "outputs": [],
   "source": [
    "df10 = pd.read_excel('datasets/Bodo/6.xlsx')"
   ]
  },
  {
   "cell_type": "code",
   "execution_count": 85,
   "id": "fd78e541-a20a-4484-ae64-36d975e42412",
   "metadata": {},
   "outputs": [
    {
     "data": {
      "text/html": [
       "<div>\n",
       "<style scoped>\n",
       "    .dataframe tbody tr th:only-of-type {\n",
       "        vertical-align: middle;\n",
       "    }\n",
       "\n",
       "    .dataframe tbody tr th {\n",
       "        vertical-align: top;\n",
       "    }\n",
       "\n",
       "    .dataframe thead th {\n",
       "        text-align: right;\n",
       "    }\n",
       "</style>\n",
       "<table border=\"1\" class=\"dataframe\">\n",
       "  <thead>\n",
       "    <tr style=\"text-align: right;\">\n",
       "      <th></th>\n",
       "      <th>bodo_sent</th>\n",
       "      <th>eng_sent</th>\n",
       "    </tr>\n",
       "  </thead>\n",
       "  <tbody>\n",
       "    <tr>\n",
       "      <th>0</th>\n",
       "      <td>हादोरा बुहुमनि जौसिन दै बाज्रुम एंगोल दै बाज्र...</td>\n",
       "      <td>The country is home to the world's highest wat...</td>\n",
       "    </tr>\n",
       "    <tr>\n",
       "      <th>1</th>\n",
       "      <td>काराकास राजथावनिया समायना जारिनिनारि समायना खा...</td>\n",
       "      <td>The capital, Caracas, boasts fine historical m...</td>\n",
       "    </tr>\n",
       "    <tr>\n",
       "      <th>2</th>\n",
       "      <td>बे हादरनि नायथिंग्राफोरा मोनसे गोजोन रोंगौथिनि...</td>\n",
       "      <td>Visitors to this country have the choice of a ...</td>\n",
       "    </tr>\n",
       "    <tr>\n",
       "      <th>3</th>\n",
       "      <td>बिसोर गोजौनि बबेबा मोनसे एबा गासैबो बाहागोआवनो...</td>\n",
       "      <td>Whether they wish to experience one, or all of...</td>\n",
       "    </tr>\n",
       "    <tr>\n",
       "      <th>4</th>\n",
       "      <td>फ्राय 500 बोसोर स्पेनिस देरहागिरिफोरनि गोहोमखौ...</td>\n",
       "      <td>Almost 500 years on, the impact of Spanish con...</td>\n",
       "    </tr>\n",
       "  </tbody>\n",
       "</table>\n",
       "</div>"
      ],
      "text/plain": [
       "                                           bodo_sent  \\\n",
       "0  हादोरा बुहुमनि जौसिन दै बाज्रुम एंगोल दै बाज्र...   \n",
       "1  काराकास राजथावनिया समायना जारिनिनारि समायना खा...   \n",
       "2  बे हादरनि नायथिंग्राफोरा मोनसे गोजोन रोंगौथिनि...   \n",
       "3  बिसोर गोजौनि बबेबा मोनसे एबा गासैबो बाहागोआवनो...   \n",
       "4  फ्राय 500 बोसोर स्पेनिस देरहागिरिफोरनि गोहोमखौ...   \n",
       "\n",
       "                                            eng_sent  \n",
       "0  The country is home to the world's highest wat...  \n",
       "1  The capital, Caracas, boasts fine historical m...  \n",
       "2  Visitors to this country have the choice of a ...  \n",
       "3  Whether they wish to experience one, or all of...  \n",
       "4  Almost 500 years on, the impact of Spanish con...  "
      ]
     },
     "execution_count": 85,
     "metadata": {},
     "output_type": "execute_result"
    }
   ],
   "source": [
    "df10.head()"
   ]
  },
  {
   "cell_type": "code",
   "execution_count": 86,
   "id": "c1eaffe0-bec9-4165-8e73-b387e9613b8f",
   "metadata": {},
   "outputs": [],
   "source": [
    "df10 = df10[['bodo_sent']]"
   ]
  },
  {
   "cell_type": "code",
   "execution_count": 87,
   "id": "4b90d961-e597-4e57-9fa3-725073997383",
   "metadata": {},
   "outputs": [
    {
     "data": {
      "text/html": [
       "<div>\n",
       "<style scoped>\n",
       "    .dataframe tbody tr th:only-of-type {\n",
       "        vertical-align: middle;\n",
       "    }\n",
       "\n",
       "    .dataframe tbody tr th {\n",
       "        vertical-align: top;\n",
       "    }\n",
       "\n",
       "    .dataframe thead th {\n",
       "        text-align: right;\n",
       "    }\n",
       "</style>\n",
       "<table border=\"1\" class=\"dataframe\">\n",
       "  <thead>\n",
       "    <tr style=\"text-align: right;\">\n",
       "      <th></th>\n",
       "      <th>bodo_sent</th>\n",
       "    </tr>\n",
       "  </thead>\n",
       "  <tbody>\n",
       "    <tr>\n",
       "      <th>0</th>\n",
       "      <td>हादोरा बुहुमनि जौसिन दै बाज्रुम एंगोल दै बाज्र...</td>\n",
       "    </tr>\n",
       "    <tr>\n",
       "      <th>1</th>\n",
       "      <td>काराकास राजथावनिया समायना जारिनिनारि समायना खा...</td>\n",
       "    </tr>\n",
       "    <tr>\n",
       "      <th>2</th>\n",
       "      <td>बे हादरनि नायथिंग्राफोरा मोनसे गोजोन रोंगौथिनि...</td>\n",
       "    </tr>\n",
       "    <tr>\n",
       "      <th>3</th>\n",
       "      <td>बिसोर गोजौनि बबेबा मोनसे एबा गासैबो बाहागोआवनो...</td>\n",
       "    </tr>\n",
       "    <tr>\n",
       "      <th>4</th>\n",
       "      <td>फ्राय 500 बोसोर स्पेनिस देरहागिरिफोरनि गोहोमखौ...</td>\n",
       "    </tr>\n",
       "  </tbody>\n",
       "</table>\n",
       "</div>"
      ],
      "text/plain": [
       "                                           bodo_sent\n",
       "0  हादोरा बुहुमनि जौसिन दै बाज्रुम एंगोल दै बाज्र...\n",
       "1  काराकास राजथावनिया समायना जारिनिनारि समायना खा...\n",
       "2  बे हादरनि नायथिंग्राफोरा मोनसे गोजोन रोंगौथिनि...\n",
       "3  बिसोर गोजौनि बबेबा मोनसे एबा गासैबो बाहागोआवनो...\n",
       "4  फ्राय 500 बोसोर स्पेनिस देरहागिरिफोरनि गोहोमखौ..."
      ]
     },
     "execution_count": 87,
     "metadata": {},
     "output_type": "execute_result"
    }
   ],
   "source": [
    "df10.head()"
   ]
  },
  {
   "cell_type": "code",
   "execution_count": 88,
   "id": "a187975c-1c52-4233-80f8-ed6176f809a8",
   "metadata": {},
   "outputs": [],
   "source": [
    "df10.rename(columns={\n",
    "    'bodo_sent': 'text'\n",
    "}, inplace=True)"
   ]
  },
  {
   "cell_type": "code",
   "execution_count": 89,
   "id": "6a025982-bd24-4fa8-bf60-bdb83f71cddc",
   "metadata": {},
   "outputs": [
    {
     "data": {
      "text/html": [
       "<div>\n",
       "<style scoped>\n",
       "    .dataframe tbody tr th:only-of-type {\n",
       "        vertical-align: middle;\n",
       "    }\n",
       "\n",
       "    .dataframe tbody tr th {\n",
       "        vertical-align: top;\n",
       "    }\n",
       "\n",
       "    .dataframe thead th {\n",
       "        text-align: right;\n",
       "    }\n",
       "</style>\n",
       "<table border=\"1\" class=\"dataframe\">\n",
       "  <thead>\n",
       "    <tr style=\"text-align: right;\">\n",
       "      <th></th>\n",
       "      <th>text</th>\n",
       "    </tr>\n",
       "  </thead>\n",
       "  <tbody>\n",
       "    <tr>\n",
       "      <th>0</th>\n",
       "      <td>हादोरा बुहुमनि जौसिन दै बाज्रुम एंगोल दै बाज्र...</td>\n",
       "    </tr>\n",
       "    <tr>\n",
       "      <th>1</th>\n",
       "      <td>काराकास राजथावनिया समायना जारिनिनारि समायना खा...</td>\n",
       "    </tr>\n",
       "    <tr>\n",
       "      <th>2</th>\n",
       "      <td>बे हादरनि नायथिंग्राफोरा मोनसे गोजोन रोंगौथिनि...</td>\n",
       "    </tr>\n",
       "    <tr>\n",
       "      <th>3</th>\n",
       "      <td>बिसोर गोजौनि बबेबा मोनसे एबा गासैबो बाहागोआवनो...</td>\n",
       "    </tr>\n",
       "    <tr>\n",
       "      <th>4</th>\n",
       "      <td>फ्राय 500 बोसोर स्पेनिस देरहागिरिफोरनि गोहोमखौ...</td>\n",
       "    </tr>\n",
       "  </tbody>\n",
       "</table>\n",
       "</div>"
      ],
      "text/plain": [
       "                                                text\n",
       "0  हादोरा बुहुमनि जौसिन दै बाज्रुम एंगोल दै बाज्र...\n",
       "1  काराकास राजथावनिया समायना जारिनिनारि समायना खा...\n",
       "2  बे हादरनि नायथिंग्राफोरा मोनसे गोजोन रोंगौथिनि...\n",
       "3  बिसोर गोजौनि बबेबा मोनसे एबा गासैबो बाहागोआवनो...\n",
       "4  फ्राय 500 बोसोर स्पेनिस देरहागिरिफोरनि गोहोमखौ..."
      ]
     },
     "execution_count": 89,
     "metadata": {},
     "output_type": "execute_result"
    }
   ],
   "source": [
    "df10.head()"
   ]
  },
  {
   "cell_type": "code",
   "execution_count": 90,
   "id": "517105f1-f095-4f76-87c5-2abdcd775a35",
   "metadata": {},
   "outputs": [],
   "source": [
    "df11 = pd.read_csv('datasets/Bodo/7.csv')"
   ]
  },
  {
   "cell_type": "code",
   "execution_count": 91,
   "id": "1f6a74b5-0c14-41df-a5d2-ffb72c36335f",
   "metadata": {},
   "outputs": [
    {
     "data": {
      "text/html": [
       "<div>\n",
       "<style scoped>\n",
       "    .dataframe tbody tr th:only-of-type {\n",
       "        vertical-align: middle;\n",
       "    }\n",
       "\n",
       "    .dataframe tbody tr th {\n",
       "        vertical-align: top;\n",
       "    }\n",
       "\n",
       "    .dataframe thead th {\n",
       "        text-align: right;\n",
       "    }\n",
       "</style>\n",
       "<table border=\"1\" class=\"dataframe\">\n",
       "  <thead>\n",
       "    <tr style=\"text-align: right;\">\n",
       "      <th></th>\n",
       "      <th>ENGLISH</th>\n",
       "      <th>bodo</th>\n",
       "    </tr>\n",
       "  </thead>\n",
       "  <tbody>\n",
       "    <tr>\n",
       "      <th>0</th>\n",
       "      <td>Two of the best trains viz. Shatabdi express (...</td>\n",
       "      <td>रोखोमनै साबसिन त्रेइन जेरै- सताबदि अक्सप्रेस (...</td>\n",
       "    </tr>\n",
       "    <tr>\n",
       "      <th>1</th>\n",
       "      <td>Agra, on cross roads of national highways 2, 3...</td>\n",
       "      <td>राजा लामानि 2, 3, आरो 11 आ आग्रासिम थांनो थाखा...</td>\n",
       "    </tr>\n",
       "    <tr>\n",
       "      <th>2</th>\n",
       "      <td>Kheria Airport (Airport of Agra) is about 6 km...</td>\n",
       "      <td>सेरिया बिरखं गाथोना (आग्रानि बिरखं गाथोन) आरो ...</td>\n",
       "    </tr>\n",
       "    <tr>\n",
       "      <th>3</th>\n",
       "      <td>Agra is well connected by excellent train serv...</td>\n",
       "      <td>आग्रानिफअराय दिल्लीसिम थांनो थाखाय त्रेइननि फो...</td>\n",
       "    </tr>\n",
       "    <tr>\n",
       "      <th>4</th>\n",
       "      <td>Agra is the one of the prominent destinations ...</td>\n",
       "      <td>बुहुमनि दावबायारिफोरनि थाखाय आग्रानि मुंदांखा ...</td>\n",
       "    </tr>\n",
       "  </tbody>\n",
       "</table>\n",
       "</div>"
      ],
      "text/plain": [
       "                                             ENGLISH  \\\n",
       "0  Two of the best trains viz. Shatabdi express (...   \n",
       "1  Agra, on cross roads of national highways 2, 3...   \n",
       "2  Kheria Airport (Airport of Agra) is about 6 km...   \n",
       "3  Agra is well connected by excellent train serv...   \n",
       "4  Agra is the one of the prominent destinations ...   \n",
       "\n",
       "                                                bodo  \n",
       "0  रोखोमनै साबसिन त्रेइन जेरै- सताबदि अक्सप्रेस (...  \n",
       "1  राजा लामानि 2, 3, आरो 11 आ आग्रासिम थांनो थाखा...  \n",
       "2  सेरिया बिरखं गाथोना (आग्रानि बिरखं गाथोन) आरो ...  \n",
       "3  आग्रानिफअराय दिल्लीसिम थांनो थाखाय त्रेइननि फो...  \n",
       "4  बुहुमनि दावबायारिफोरनि थाखाय आग्रानि मुंदांखा ...  "
      ]
     },
     "execution_count": 91,
     "metadata": {},
     "output_type": "execute_result"
    }
   ],
   "source": [
    "df11.head()"
   ]
  },
  {
   "cell_type": "code",
   "execution_count": 92,
   "id": "ebc05706-77a5-412a-99f6-732d5a61c0b8",
   "metadata": {},
   "outputs": [],
   "source": [
    "df11 = df11[['bodo']]"
   ]
  },
  {
   "cell_type": "code",
   "execution_count": 93,
   "id": "f6845fd5-8e71-4fd4-a0ac-077007832fdd",
   "metadata": {},
   "outputs": [
    {
     "data": {
      "text/html": [
       "<div>\n",
       "<style scoped>\n",
       "    .dataframe tbody tr th:only-of-type {\n",
       "        vertical-align: middle;\n",
       "    }\n",
       "\n",
       "    .dataframe tbody tr th {\n",
       "        vertical-align: top;\n",
       "    }\n",
       "\n",
       "    .dataframe thead th {\n",
       "        text-align: right;\n",
       "    }\n",
       "</style>\n",
       "<table border=\"1\" class=\"dataframe\">\n",
       "  <thead>\n",
       "    <tr style=\"text-align: right;\">\n",
       "      <th></th>\n",
       "      <th>bodo</th>\n",
       "    </tr>\n",
       "  </thead>\n",
       "  <tbody>\n",
       "    <tr>\n",
       "      <th>0</th>\n",
       "      <td>रोखोमनै साबसिन त्रेइन जेरै- सताबदि अक्सप्रेस (...</td>\n",
       "    </tr>\n",
       "    <tr>\n",
       "      <th>1</th>\n",
       "      <td>राजा लामानि 2, 3, आरो 11 आ आग्रासिम थांनो थाखा...</td>\n",
       "    </tr>\n",
       "    <tr>\n",
       "      <th>2</th>\n",
       "      <td>सेरिया बिरखं गाथोना (आग्रानि बिरखं गाथोन) आरो ...</td>\n",
       "    </tr>\n",
       "    <tr>\n",
       "      <th>3</th>\n",
       "      <td>आग्रानिफअराय दिल्लीसिम थांनो थाखाय त्रेइननि फो...</td>\n",
       "    </tr>\n",
       "    <tr>\n",
       "      <th>4</th>\n",
       "      <td>बुहुमनि दावबायारिफोरनि थाखाय आग्रानि मुंदांखा ...</td>\n",
       "    </tr>\n",
       "  </tbody>\n",
       "</table>\n",
       "</div>"
      ],
      "text/plain": [
       "                                                bodo\n",
       "0  रोखोमनै साबसिन त्रेइन जेरै- सताबदि अक्सप्रेस (...\n",
       "1  राजा लामानि 2, 3, आरो 11 आ आग्रासिम थांनो थाखा...\n",
       "2  सेरिया बिरखं गाथोना (आग्रानि बिरखं गाथोन) आरो ...\n",
       "3  आग्रानिफअराय दिल्लीसिम थांनो थाखाय त्रेइननि फो...\n",
       "4  बुहुमनि दावबायारिफोरनि थाखाय आग्रानि मुंदांखा ..."
      ]
     },
     "execution_count": 93,
     "metadata": {},
     "output_type": "execute_result"
    }
   ],
   "source": [
    "df11.head()"
   ]
  },
  {
   "cell_type": "code",
   "execution_count": 94,
   "id": "93219afe-0945-4704-94ae-d5edc212dfe7",
   "metadata": {},
   "outputs": [],
   "source": [
    "df11.rename(columns={\n",
    "    'bodo': 'text'\n",
    "}, inplace=True)"
   ]
  },
  {
   "cell_type": "code",
   "execution_count": 95,
   "id": "82b83ad8-3311-45bb-b57f-941f1c9ffde5",
   "metadata": {},
   "outputs": [
    {
     "data": {
      "text/html": [
       "<div>\n",
       "<style scoped>\n",
       "    .dataframe tbody tr th:only-of-type {\n",
       "        vertical-align: middle;\n",
       "    }\n",
       "\n",
       "    .dataframe tbody tr th {\n",
       "        vertical-align: top;\n",
       "    }\n",
       "\n",
       "    .dataframe thead th {\n",
       "        text-align: right;\n",
       "    }\n",
       "</style>\n",
       "<table border=\"1\" class=\"dataframe\">\n",
       "  <thead>\n",
       "    <tr style=\"text-align: right;\">\n",
       "      <th></th>\n",
       "      <th>text</th>\n",
       "    </tr>\n",
       "  </thead>\n",
       "  <tbody>\n",
       "    <tr>\n",
       "      <th>0</th>\n",
       "      <td>रोखोमनै साबसिन त्रेइन जेरै- सताबदि अक्सप्रेस (...</td>\n",
       "    </tr>\n",
       "    <tr>\n",
       "      <th>1</th>\n",
       "      <td>राजा लामानि 2, 3, आरो 11 आ आग्रासिम थांनो थाखा...</td>\n",
       "    </tr>\n",
       "    <tr>\n",
       "      <th>2</th>\n",
       "      <td>सेरिया बिरखं गाथोना (आग्रानि बिरखं गाथोन) आरो ...</td>\n",
       "    </tr>\n",
       "    <tr>\n",
       "      <th>3</th>\n",
       "      <td>आग्रानिफअराय दिल्लीसिम थांनो थाखाय त्रेइननि फो...</td>\n",
       "    </tr>\n",
       "    <tr>\n",
       "      <th>4</th>\n",
       "      <td>बुहुमनि दावबायारिफोरनि थाखाय आग्रानि मुंदांखा ...</td>\n",
       "    </tr>\n",
       "  </tbody>\n",
       "</table>\n",
       "</div>"
      ],
      "text/plain": [
       "                                                text\n",
       "0  रोखोमनै साबसिन त्रेइन जेरै- सताबदि अक्सप्रेस (...\n",
       "1  राजा लामानि 2, 3, आरो 11 आ आग्रासिम थांनो थाखा...\n",
       "2  सेरिया बिरखं गाथोना (आग्रानि बिरखं गाथोन) आरो ...\n",
       "3  आग्रानिफअराय दिल्लीसिम थांनो थाखाय त्रेइननि फो...\n",
       "4  बुहुमनि दावबायारिफोरनि थाखाय आग्रानि मुंदांखा ..."
      ]
     },
     "execution_count": 95,
     "metadata": {},
     "output_type": "execute_result"
    }
   ],
   "source": [
    "df11.head()"
   ]
  },
  {
   "cell_type": "code",
   "execution_count": 96,
   "id": "9b7a8eed-69d0-487b-829b-539d4973cc39",
   "metadata": {},
   "outputs": [],
   "source": [
    "df12 = pd.read_csv('datasets/Bodo/bodo-mono.csv', header=None, names=['text'])"
   ]
  },
  {
   "cell_type": "code",
   "execution_count": 97,
   "id": "a12c7337-d0ed-4050-b3b7-6158b489dc5f",
   "metadata": {},
   "outputs": [
    {
     "data": {
      "text/html": [
       "<div>\n",
       "<style scoped>\n",
       "    .dataframe tbody tr th:only-of-type {\n",
       "        vertical-align: middle;\n",
       "    }\n",
       "\n",
       "    .dataframe tbody tr th {\n",
       "        vertical-align: top;\n",
       "    }\n",
       "\n",
       "    .dataframe thead th {\n",
       "        text-align: right;\n",
       "    }\n",
       "</style>\n",
       "<table border=\"1\" class=\"dataframe\">\n",
       "  <thead>\n",
       "    <tr style=\"text-align: right;\">\n",
       "      <th></th>\n",
       "      <th>text</th>\n",
       "    </tr>\n",
       "  </thead>\n",
       "  <tbody>\n",
       "    <tr>\n",
       "      <th>0</th>\n",
       "      <td>जोनोम लायि</td>\n",
       "    </tr>\n",
       "    <tr>\n",
       "      <th>1</th>\n",
       "      <td>जोनोम लायै</td>\n",
       "    </tr>\n",
       "    <tr>\n",
       "      <th>2</th>\n",
       "      <td>उजियि</td>\n",
       "    </tr>\n",
       "    <tr>\n",
       "      <th>3</th>\n",
       "      <td>उजियै</td>\n",
       "    </tr>\n",
       "    <tr>\n",
       "      <th>4</th>\n",
       "      <td>हाबि</td>\n",
       "    </tr>\n",
       "  </tbody>\n",
       "</table>\n",
       "</div>"
      ],
      "text/plain": [
       "         text\n",
       "0  जोनोम लायि\n",
       "1  जोनोम लायै\n",
       "2       उजियि\n",
       "3       उजियै\n",
       "4        हाबि"
      ]
     },
     "execution_count": 97,
     "metadata": {},
     "output_type": "execute_result"
    }
   ],
   "source": [
    "df12.head()"
   ]
  },
  {
   "cell_type": "code",
   "execution_count": 98,
   "id": "198694c6-ec81-4239-9983-99354bd9617d",
   "metadata": {},
   "outputs": [],
   "source": [
    "data = pd.concat([df1, df2, df3, df4, df5, df6, df7, df8, df9, df10, df11, df12])"
   ]
  },
  {
   "cell_type": "code",
   "execution_count": 99,
   "id": "9522827c-07ee-446c-b942-14d7fb7258ae",
   "metadata": {},
   "outputs": [
    {
     "data": {
      "text/plain": [
       "(279187, 1)"
      ]
     },
     "execution_count": 99,
     "metadata": {},
     "output_type": "execute_result"
    }
   ],
   "source": [
    "data.shape"
   ]
  },
  {
   "cell_type": "code",
   "execution_count": 100,
   "id": "d83f5e53-a3eb-4cd7-a101-a54abc0d4290",
   "metadata": {},
   "outputs": [
    {
     "data": {
      "text/plain": [
       "text    606\n",
       "dtype: int64"
      ]
     },
     "execution_count": 100,
     "metadata": {},
     "output_type": "execute_result"
    }
   ],
   "source": [
    "data.isna().sum()"
   ]
  },
  {
   "cell_type": "code",
   "execution_count": 101,
   "id": "7b2e32de-e006-4fab-95ea-a3d4325dcb73",
   "metadata": {},
   "outputs": [],
   "source": [
    "data.dropna(inplace=True)"
   ]
  },
  {
   "cell_type": "code",
   "execution_count": 102,
   "id": "6c678e78-e9b3-40d2-a601-1016d26f5b97",
   "metadata": {},
   "outputs": [
    {
     "data": {
      "text/plain": [
       "(278581, 1)"
      ]
     },
     "execution_count": 102,
     "metadata": {},
     "output_type": "execute_result"
    }
   ],
   "source": [
    "data.shape"
   ]
  },
  {
   "cell_type": "code",
   "execution_count": 103,
   "id": "cfe9b085-097f-40da-838f-3a3169c978df",
   "metadata": {},
   "outputs": [
    {
     "data": {
      "text/plain": [
       "21394"
      ]
     },
     "execution_count": 103,
     "metadata": {},
     "output_type": "execute_result"
    }
   ],
   "source": [
    "data.duplicated().sum()"
   ]
  },
  {
   "cell_type": "code",
   "execution_count": 104,
   "id": "eea80694-eb90-4a1c-b60a-a06631d4dee4",
   "metadata": {},
   "outputs": [],
   "source": [
    "data.drop_duplicates(inplace=True)"
   ]
  },
  {
   "cell_type": "code",
   "execution_count": 105,
   "id": "cdcfa31f-2690-4bab-bca5-e9e203f7da56",
   "metadata": {},
   "outputs": [
    {
     "data": {
      "text/plain": [
       "(257187, 1)"
      ]
     },
     "execution_count": 105,
     "metadata": {},
     "output_type": "execute_result"
    }
   ],
   "source": [
    "data.shape"
   ]
  },
  {
   "cell_type": "code",
   "execution_count": 106,
   "id": "eb117336-41ab-4524-ac1a-487542df774b",
   "metadata": {},
   "outputs": [
    {
     "data": {
      "text/html": [
       "<div>\n",
       "<style scoped>\n",
       "    .dataframe tbody tr th:only-of-type {\n",
       "        vertical-align: middle;\n",
       "    }\n",
       "\n",
       "    .dataframe tbody tr th {\n",
       "        vertical-align: top;\n",
       "    }\n",
       "\n",
       "    .dataframe thead th {\n",
       "        text-align: right;\n",
       "    }\n",
       "</style>\n",
       "<table border=\"1\" class=\"dataframe\">\n",
       "  <thead>\n",
       "    <tr style=\"text-align: right;\">\n",
       "      <th></th>\n",
       "      <th>text</th>\n",
       "    </tr>\n",
       "  </thead>\n",
       "  <tbody>\n",
       "    <tr>\n",
       "      <th>0</th>\n",
       "      <td>अन्नानै आंंनो दिनैनि अक्टखौ खिन्था</td>\n",
       "    </tr>\n",
       "    <tr>\n",
       "      <th>1</th>\n",
       "      <td>बे ओनसोलनि फैगौ इभेन्टफोरखौ आंनो खोन्था।</td>\n",
       "    </tr>\n",
       "    <tr>\n",
       "      <th>2</th>\n",
       "      <td>दानि थाखाय टेक्सि बुक खालाम।</td>\n",
       "    </tr>\n",
       "    <tr>\n",
       "      <th>3</th>\n",
       "      <td>लेक्समार्कनि स्टक बेसेना बेसेबां?</td>\n",
       "    </tr>\n",
       "    <tr>\n",
       "      <th>4</th>\n",
       "      <td>अन्नानै गिबि फारिलाइखौ बोखार</td>\n",
       "    </tr>\n",
       "  </tbody>\n",
       "</table>\n",
       "</div>"
      ],
      "text/plain": [
       "                                       text\n",
       "0        अन्नानै आंंनो दिनैनि अक्टखौ खिन्था\n",
       "1  बे ओनसोलनि फैगौ इभेन्टफोरखौ आंनो खोन्था।\n",
       "2              दानि थाखाय टेक्सि बुक खालाम।\n",
       "3         लेक्समार्कनि स्टक बेसेना बेसेबां?\n",
       "4              अन्नानै गिबि फारिलाइखौ बोखार"
      ]
     },
     "execution_count": 106,
     "metadata": {},
     "output_type": "execute_result"
    }
   ],
   "source": [
    "data.head()"
   ]
  },
  {
   "cell_type": "code",
   "execution_count": 107,
   "id": "d82f30a0-0391-47ca-9e02-25fc16483711",
   "metadata": {},
   "outputs": [],
   "source": [
    "data.to_csv('final/Bodo.csv')"
   ]
  },
  {
   "cell_type": "markdown",
   "id": "80bdb94e-cadf-4b62-a768-eb801d513734",
   "metadata": {},
   "source": [
    "## English"
   ]
  },
  {
   "cell_type": "code",
   "execution_count": 108,
   "id": "2eeca416-7f95-41db-8d5a-81df139c1973",
   "metadata": {},
   "outputs": [],
   "source": [
    "df1 = pd.read_csv('datasets/English/test.csv')"
   ]
  },
  {
   "cell_type": "code",
   "execution_count": 109,
   "id": "9750fbf8-93f3-42e2-a7e2-41f536914e30",
   "metadata": {},
   "outputs": [
    {
     "data": {
      "text/html": [
       "<div>\n",
       "<style scoped>\n",
       "    .dataframe tbody tr th:only-of-type {\n",
       "        vertical-align: middle;\n",
       "    }\n",
       "\n",
       "    .dataframe tbody tr th {\n",
       "        vertical-align: top;\n",
       "    }\n",
       "\n",
       "    .dataframe thead th {\n",
       "        text-align: right;\n",
       "    }\n",
       "</style>\n",
       "<table border=\"1\" class=\"dataframe\">\n",
       "  <thead>\n",
       "    <tr style=\"text-align: right;\">\n",
       "      <th></th>\n",
       "      <th>text_id</th>\n",
       "      <th>full_text</th>\n",
       "    </tr>\n",
       "  </thead>\n",
       "  <tbody>\n",
       "    <tr>\n",
       "      <th>0</th>\n",
       "      <td>0000C359D63E</td>\n",
       "      <td>when a person has no experience on a job their...</td>\n",
       "    </tr>\n",
       "    <tr>\n",
       "      <th>1</th>\n",
       "      <td>000BAD50D026</td>\n",
       "      <td>Do you think students would benefit from being...</td>\n",
       "    </tr>\n",
       "    <tr>\n",
       "      <th>2</th>\n",
       "      <td>00367BB2546B</td>\n",
       "      <td>Thomas Jefferson once states that \"it is wonde...</td>\n",
       "    </tr>\n",
       "  </tbody>\n",
       "</table>\n",
       "</div>"
      ],
      "text/plain": [
       "        text_id                                          full_text\n",
       "0  0000C359D63E  when a person has no experience on a job their...\n",
       "1  000BAD50D026  Do you think students would benefit from being...\n",
       "2  00367BB2546B  Thomas Jefferson once states that \"it is wonde..."
      ]
     },
     "execution_count": 109,
     "metadata": {},
     "output_type": "execute_result"
    }
   ],
   "source": [
    "df1.head()"
   ]
  },
  {
   "cell_type": "code",
   "execution_count": 110,
   "id": "cfcc2835-f07b-49e3-a262-126517a1c224",
   "metadata": {},
   "outputs": [],
   "source": [
    "df1 = df1[['full_text']]"
   ]
  },
  {
   "cell_type": "code",
   "execution_count": 111,
   "id": "df318e79-3789-4a12-8020-045613d8cc01",
   "metadata": {},
   "outputs": [
    {
     "data": {
      "text/html": [
       "<div>\n",
       "<style scoped>\n",
       "    .dataframe tbody tr th:only-of-type {\n",
       "        vertical-align: middle;\n",
       "    }\n",
       "\n",
       "    .dataframe tbody tr th {\n",
       "        vertical-align: top;\n",
       "    }\n",
       "\n",
       "    .dataframe thead th {\n",
       "        text-align: right;\n",
       "    }\n",
       "</style>\n",
       "<table border=\"1\" class=\"dataframe\">\n",
       "  <thead>\n",
       "    <tr style=\"text-align: right;\">\n",
       "      <th></th>\n",
       "      <th>full_text</th>\n",
       "    </tr>\n",
       "  </thead>\n",
       "  <tbody>\n",
       "    <tr>\n",
       "      <th>0</th>\n",
       "      <td>when a person has no experience on a job their...</td>\n",
       "    </tr>\n",
       "    <tr>\n",
       "      <th>1</th>\n",
       "      <td>Do you think students would benefit from being...</td>\n",
       "    </tr>\n",
       "    <tr>\n",
       "      <th>2</th>\n",
       "      <td>Thomas Jefferson once states that \"it is wonde...</td>\n",
       "    </tr>\n",
       "  </tbody>\n",
       "</table>\n",
       "</div>"
      ],
      "text/plain": [
       "                                           full_text\n",
       "0  when a person has no experience on a job their...\n",
       "1  Do you think students would benefit from being...\n",
       "2  Thomas Jefferson once states that \"it is wonde..."
      ]
     },
     "execution_count": 111,
     "metadata": {},
     "output_type": "execute_result"
    }
   ],
   "source": [
    "df1.head()"
   ]
  },
  {
   "cell_type": "code",
   "execution_count": 112,
   "id": "a9434921-f7e5-437d-89a8-066aba3bc629",
   "metadata": {},
   "outputs": [],
   "source": [
    "df1.rename(columns={\n",
    "    'full_text': 'text'\n",
    "}, inplace=True)"
   ]
  },
  {
   "cell_type": "code",
   "execution_count": 113,
   "id": "d7c5fd64-2bee-4210-bb50-a118033679f6",
   "metadata": {},
   "outputs": [
    {
     "data": {
      "text/html": [
       "<div>\n",
       "<style scoped>\n",
       "    .dataframe tbody tr th:only-of-type {\n",
       "        vertical-align: middle;\n",
       "    }\n",
       "\n",
       "    .dataframe tbody tr th {\n",
       "        vertical-align: top;\n",
       "    }\n",
       "\n",
       "    .dataframe thead th {\n",
       "        text-align: right;\n",
       "    }\n",
       "</style>\n",
       "<table border=\"1\" class=\"dataframe\">\n",
       "  <thead>\n",
       "    <tr style=\"text-align: right;\">\n",
       "      <th></th>\n",
       "      <th>text</th>\n",
       "    </tr>\n",
       "  </thead>\n",
       "  <tbody>\n",
       "    <tr>\n",
       "      <th>0</th>\n",
       "      <td>when a person has no experience on a job their...</td>\n",
       "    </tr>\n",
       "    <tr>\n",
       "      <th>1</th>\n",
       "      <td>Do you think students would benefit from being...</td>\n",
       "    </tr>\n",
       "    <tr>\n",
       "      <th>2</th>\n",
       "      <td>Thomas Jefferson once states that \"it is wonde...</td>\n",
       "    </tr>\n",
       "  </tbody>\n",
       "</table>\n",
       "</div>"
      ],
      "text/plain": [
       "                                                text\n",
       "0  when a person has no experience on a job their...\n",
       "1  Do you think students would benefit from being...\n",
       "2  Thomas Jefferson once states that \"it is wonde..."
      ]
     },
     "execution_count": 113,
     "metadata": {},
     "output_type": "execute_result"
    }
   ],
   "source": [
    "df1.head()"
   ]
  },
  {
   "cell_type": "code",
   "execution_count": 114,
   "id": "e9beb5c7-e77a-4514-b930-d720444e0ad6",
   "metadata": {},
   "outputs": [],
   "source": [
    "df2 = pd.read_csv('datasets/English/train.csv')"
   ]
  },
  {
   "cell_type": "code",
   "execution_count": 115,
   "id": "aebe5d2e-2493-45ba-9ea3-8771dca1ae94",
   "metadata": {},
   "outputs": [
    {
     "data": {
      "text/html": [
       "<div>\n",
       "<style scoped>\n",
       "    .dataframe tbody tr th:only-of-type {\n",
       "        vertical-align: middle;\n",
       "    }\n",
       "\n",
       "    .dataframe tbody tr th {\n",
       "        vertical-align: top;\n",
       "    }\n",
       "\n",
       "    .dataframe thead th {\n",
       "        text-align: right;\n",
       "    }\n",
       "</style>\n",
       "<table border=\"1\" class=\"dataframe\">\n",
       "  <thead>\n",
       "    <tr style=\"text-align: right;\">\n",
       "      <th></th>\n",
       "      <th>text_id</th>\n",
       "      <th>full_text</th>\n",
       "      <th>cohesion</th>\n",
       "      <th>syntax</th>\n",
       "      <th>vocabulary</th>\n",
       "      <th>phraseology</th>\n",
       "      <th>grammar</th>\n",
       "      <th>conventions</th>\n",
       "    </tr>\n",
       "  </thead>\n",
       "  <tbody>\n",
       "    <tr>\n",
       "      <th>0</th>\n",
       "      <td>0016926B079C</td>\n",
       "      <td>I think that students would benefit from learn...</td>\n",
       "      <td>3.5</td>\n",
       "      <td>3.5</td>\n",
       "      <td>3.0</td>\n",
       "      <td>3.0</td>\n",
       "      <td>4.0</td>\n",
       "      <td>3.0</td>\n",
       "    </tr>\n",
       "    <tr>\n",
       "      <th>1</th>\n",
       "      <td>0022683E9EA5</td>\n",
       "      <td>When a problem is a change you have to let it ...</td>\n",
       "      <td>2.5</td>\n",
       "      <td>2.5</td>\n",
       "      <td>3.0</td>\n",
       "      <td>2.0</td>\n",
       "      <td>2.0</td>\n",
       "      <td>2.5</td>\n",
       "    </tr>\n",
       "    <tr>\n",
       "      <th>2</th>\n",
       "      <td>00299B378633</td>\n",
       "      <td>Dear, Principal\\n\\nIf u change the school poli...</td>\n",
       "      <td>3.0</td>\n",
       "      <td>3.5</td>\n",
       "      <td>3.0</td>\n",
       "      <td>3.0</td>\n",
       "      <td>3.0</td>\n",
       "      <td>2.5</td>\n",
       "    </tr>\n",
       "    <tr>\n",
       "      <th>3</th>\n",
       "      <td>003885A45F42</td>\n",
       "      <td>The best time in life is when you become yours...</td>\n",
       "      <td>4.5</td>\n",
       "      <td>4.5</td>\n",
       "      <td>4.5</td>\n",
       "      <td>4.5</td>\n",
       "      <td>4.0</td>\n",
       "      <td>5.0</td>\n",
       "    </tr>\n",
       "    <tr>\n",
       "      <th>4</th>\n",
       "      <td>0049B1DF5CCC</td>\n",
       "      <td>Small act of kindness can impact in other peop...</td>\n",
       "      <td>2.5</td>\n",
       "      <td>3.0</td>\n",
       "      <td>3.0</td>\n",
       "      <td>3.0</td>\n",
       "      <td>2.5</td>\n",
       "      <td>2.5</td>\n",
       "    </tr>\n",
       "  </tbody>\n",
       "</table>\n",
       "</div>"
      ],
      "text/plain": [
       "        text_id                                          full_text  cohesion  \\\n",
       "0  0016926B079C  I think that students would benefit from learn...       3.5   \n",
       "1  0022683E9EA5  When a problem is a change you have to let it ...       2.5   \n",
       "2  00299B378633  Dear, Principal\\n\\nIf u change the school poli...       3.0   \n",
       "3  003885A45F42  The best time in life is when you become yours...       4.5   \n",
       "4  0049B1DF5CCC  Small act of kindness can impact in other peop...       2.5   \n",
       "\n",
       "   syntax  vocabulary  phraseology  grammar  conventions  \n",
       "0     3.5         3.0          3.0      4.0          3.0  \n",
       "1     2.5         3.0          2.0      2.0          2.5  \n",
       "2     3.5         3.0          3.0      3.0          2.5  \n",
       "3     4.5         4.5          4.5      4.0          5.0  \n",
       "4     3.0         3.0          3.0      2.5          2.5  "
      ]
     },
     "execution_count": 115,
     "metadata": {},
     "output_type": "execute_result"
    }
   ],
   "source": [
    "df2.head()"
   ]
  },
  {
   "cell_type": "code",
   "execution_count": 116,
   "id": "80aae1d0-a865-43da-b4f8-95a9d61931e5",
   "metadata": {},
   "outputs": [],
   "source": [
    "df2 = df2[['full_text']]"
   ]
  },
  {
   "cell_type": "code",
   "execution_count": 117,
   "id": "42575145-830a-4fdc-9dbb-1cb409fc6eb2",
   "metadata": {},
   "outputs": [
    {
     "data": {
      "text/html": [
       "<div>\n",
       "<style scoped>\n",
       "    .dataframe tbody tr th:only-of-type {\n",
       "        vertical-align: middle;\n",
       "    }\n",
       "\n",
       "    .dataframe tbody tr th {\n",
       "        vertical-align: top;\n",
       "    }\n",
       "\n",
       "    .dataframe thead th {\n",
       "        text-align: right;\n",
       "    }\n",
       "</style>\n",
       "<table border=\"1\" class=\"dataframe\">\n",
       "  <thead>\n",
       "    <tr style=\"text-align: right;\">\n",
       "      <th></th>\n",
       "      <th>full_text</th>\n",
       "    </tr>\n",
       "  </thead>\n",
       "  <tbody>\n",
       "    <tr>\n",
       "      <th>0</th>\n",
       "      <td>I think that students would benefit from learn...</td>\n",
       "    </tr>\n",
       "    <tr>\n",
       "      <th>1</th>\n",
       "      <td>When a problem is a change you have to let it ...</td>\n",
       "    </tr>\n",
       "    <tr>\n",
       "      <th>2</th>\n",
       "      <td>Dear, Principal\\n\\nIf u change the school poli...</td>\n",
       "    </tr>\n",
       "    <tr>\n",
       "      <th>3</th>\n",
       "      <td>The best time in life is when you become yours...</td>\n",
       "    </tr>\n",
       "    <tr>\n",
       "      <th>4</th>\n",
       "      <td>Small act of kindness can impact in other peop...</td>\n",
       "    </tr>\n",
       "  </tbody>\n",
       "</table>\n",
       "</div>"
      ],
      "text/plain": [
       "                                           full_text\n",
       "0  I think that students would benefit from learn...\n",
       "1  When a problem is a change you have to let it ...\n",
       "2  Dear, Principal\\n\\nIf u change the school poli...\n",
       "3  The best time in life is when you become yours...\n",
       "4  Small act of kindness can impact in other peop..."
      ]
     },
     "execution_count": 117,
     "metadata": {},
     "output_type": "execute_result"
    }
   ],
   "source": [
    "df2.head()"
   ]
  },
  {
   "cell_type": "code",
   "execution_count": 118,
   "id": "0aa30833-2974-4479-99b8-522dbf4004cc",
   "metadata": {},
   "outputs": [],
   "source": [
    "df2.rename(columns={\n",
    "    'full_text': 'text'\n",
    "}, inplace=True)"
   ]
  },
  {
   "cell_type": "code",
   "execution_count": 119,
   "id": "3acbae63-3aca-4382-b797-0918a1a3069f",
   "metadata": {},
   "outputs": [
    {
     "data": {
      "text/html": [
       "<div>\n",
       "<style scoped>\n",
       "    .dataframe tbody tr th:only-of-type {\n",
       "        vertical-align: middle;\n",
       "    }\n",
       "\n",
       "    .dataframe tbody tr th {\n",
       "        vertical-align: top;\n",
       "    }\n",
       "\n",
       "    .dataframe thead th {\n",
       "        text-align: right;\n",
       "    }\n",
       "</style>\n",
       "<table border=\"1\" class=\"dataframe\">\n",
       "  <thead>\n",
       "    <tr style=\"text-align: right;\">\n",
       "      <th></th>\n",
       "      <th>text</th>\n",
       "    </tr>\n",
       "  </thead>\n",
       "  <tbody>\n",
       "    <tr>\n",
       "      <th>0</th>\n",
       "      <td>I think that students would benefit from learn...</td>\n",
       "    </tr>\n",
       "    <tr>\n",
       "      <th>1</th>\n",
       "      <td>When a problem is a change you have to let it ...</td>\n",
       "    </tr>\n",
       "    <tr>\n",
       "      <th>2</th>\n",
       "      <td>Dear, Principal\\n\\nIf u change the school poli...</td>\n",
       "    </tr>\n",
       "    <tr>\n",
       "      <th>3</th>\n",
       "      <td>The best time in life is when you become yours...</td>\n",
       "    </tr>\n",
       "    <tr>\n",
       "      <th>4</th>\n",
       "      <td>Small act of kindness can impact in other peop...</td>\n",
       "    </tr>\n",
       "  </tbody>\n",
       "</table>\n",
       "</div>"
      ],
      "text/plain": [
       "                                                text\n",
       "0  I think that students would benefit from learn...\n",
       "1  When a problem is a change you have to let it ...\n",
       "2  Dear, Principal\\n\\nIf u change the school poli...\n",
       "3  The best time in life is when you become yours...\n",
       "4  Small act of kindness can impact in other peop..."
      ]
     },
     "execution_count": 119,
     "metadata": {},
     "output_type": "execute_result"
    }
   ],
   "source": [
    "df2.head()"
   ]
  },
  {
   "cell_type": "code",
   "execution_count": 120,
   "id": "b8c1a1e5-e917-40fb-b1d3-0c3fba3601e9",
   "metadata": {},
   "outputs": [],
   "source": [
    "data = pd.concat([df1, df2])"
   ]
  },
  {
   "cell_type": "code",
   "execution_count": 121,
   "id": "7b3476a5-4cb6-402b-961b-dfcf11de89a9",
   "metadata": {},
   "outputs": [
    {
     "data": {
      "text/html": [
       "<div>\n",
       "<style scoped>\n",
       "    .dataframe tbody tr th:only-of-type {\n",
       "        vertical-align: middle;\n",
       "    }\n",
       "\n",
       "    .dataframe tbody tr th {\n",
       "        vertical-align: top;\n",
       "    }\n",
       "\n",
       "    .dataframe thead th {\n",
       "        text-align: right;\n",
       "    }\n",
       "</style>\n",
       "<table border=\"1\" class=\"dataframe\">\n",
       "  <thead>\n",
       "    <tr style=\"text-align: right;\">\n",
       "      <th></th>\n",
       "      <th>text</th>\n",
       "    </tr>\n",
       "  </thead>\n",
       "  <tbody>\n",
       "    <tr>\n",
       "      <th>0</th>\n",
       "      <td>when a person has no experience on a job their...</td>\n",
       "    </tr>\n",
       "    <tr>\n",
       "      <th>1</th>\n",
       "      <td>Do you think students would benefit from being...</td>\n",
       "    </tr>\n",
       "    <tr>\n",
       "      <th>2</th>\n",
       "      <td>Thomas Jefferson once states that \"it is wonde...</td>\n",
       "    </tr>\n",
       "    <tr>\n",
       "      <th>0</th>\n",
       "      <td>I think that students would benefit from learn...</td>\n",
       "    </tr>\n",
       "    <tr>\n",
       "      <th>1</th>\n",
       "      <td>When a problem is a change you have to let it ...</td>\n",
       "    </tr>\n",
       "  </tbody>\n",
       "</table>\n",
       "</div>"
      ],
      "text/plain": [
       "                                                text\n",
       "0  when a person has no experience on a job their...\n",
       "1  Do you think students would benefit from being...\n",
       "2  Thomas Jefferson once states that \"it is wonde...\n",
       "0  I think that students would benefit from learn...\n",
       "1  When a problem is a change you have to let it ..."
      ]
     },
     "execution_count": 121,
     "metadata": {},
     "output_type": "execute_result"
    }
   ],
   "source": [
    "data.head()"
   ]
  },
  {
   "cell_type": "code",
   "execution_count": 122,
   "id": "d5c8b936-e2b4-4fcc-a77b-154b09ff49a9",
   "metadata": {},
   "outputs": [
    {
     "data": {
      "text/plain": [
       "(3914, 1)"
      ]
     },
     "execution_count": 122,
     "metadata": {},
     "output_type": "execute_result"
    }
   ],
   "source": [
    "data.shape"
   ]
  },
  {
   "cell_type": "code",
   "execution_count": 123,
   "id": "dea9760d-331e-4e9c-b7d7-893b0987d4d3",
   "metadata": {},
   "outputs": [
    {
     "data": {
      "text/plain": [
       "text    0\n",
       "dtype: int64"
      ]
     },
     "execution_count": 123,
     "metadata": {},
     "output_type": "execute_result"
    }
   ],
   "source": [
    "data.isna().sum()"
   ]
  },
  {
   "cell_type": "code",
   "execution_count": 124,
   "id": "7fd5ed6f-e92d-4d36-ae6a-f76832dce599",
   "metadata": {},
   "outputs": [
    {
     "data": {
      "text/plain": [
       "0"
      ]
     },
     "execution_count": 124,
     "metadata": {},
     "output_type": "execute_result"
    }
   ],
   "source": [
    "data.duplicated().sum()"
   ]
  },
  {
   "cell_type": "code",
   "execution_count": 125,
   "id": "e0b40146-4a4b-41c0-8da4-cc4ceb0ad63a",
   "metadata": {},
   "outputs": [],
   "source": [
    "def extract_english_text(text):\n",
    "    # Regular expression pattern to match English characters\n",
    "    english_pattern = re.compile(r'[A-Za-z\\s]+')\n",
    "    # Find all matches of English text in the input text\n",
    "    english_matches = english_pattern.findall(text)\n",
    "    # Filter out empty strings\n",
    "    english_matches = [match.strip() for match in english_matches if match.strip()]\n",
    "    # Join the matches to form the extracted English text\n",
    "    english_text = ' '.join(english_matches)\n",
    "    return english_text"
   ]
  },
  {
   "cell_type": "code",
   "execution_count": 126,
   "id": "4394e4dc-2430-4104-a7ce-85900fa81039",
   "metadata": {},
   "outputs": [],
   "source": [
    "data['cleaned'] = data['text'].apply(extract_english_text)"
   ]
  },
  {
   "cell_type": "code",
   "execution_count": 127,
   "id": "a1880ecc-562c-42dc-b64c-b4596719f373",
   "metadata": {},
   "outputs": [
    {
     "data": {
      "text/html": [
       "<div>\n",
       "<style scoped>\n",
       "    .dataframe tbody tr th:only-of-type {\n",
       "        vertical-align: middle;\n",
       "    }\n",
       "\n",
       "    .dataframe tbody tr th {\n",
       "        vertical-align: top;\n",
       "    }\n",
       "\n",
       "    .dataframe thead th {\n",
       "        text-align: right;\n",
       "    }\n",
       "</style>\n",
       "<table border=\"1\" class=\"dataframe\">\n",
       "  <thead>\n",
       "    <tr style=\"text-align: right;\">\n",
       "      <th></th>\n",
       "      <th>text</th>\n",
       "      <th>cleaned</th>\n",
       "    </tr>\n",
       "  </thead>\n",
       "  <tbody>\n",
       "    <tr>\n",
       "      <th>0</th>\n",
       "      <td>when a person has no experience on a job their...</td>\n",
       "      <td>when a person has no experience on a job their...</td>\n",
       "    </tr>\n",
       "    <tr>\n",
       "      <th>1</th>\n",
       "      <td>Do you think students would benefit from being...</td>\n",
       "      <td>Do you think students would benefit from being...</td>\n",
       "    </tr>\n",
       "    <tr>\n",
       "      <th>2</th>\n",
       "      <td>Thomas Jefferson once states that \"it is wonde...</td>\n",
       "      <td>Thomas Jefferson once states that it is wonder...</td>\n",
       "    </tr>\n",
       "    <tr>\n",
       "      <th>0</th>\n",
       "      <td>I think that students would benefit from learn...</td>\n",
       "      <td>I think that students would benefit from learn...</td>\n",
       "    </tr>\n",
       "    <tr>\n",
       "      <th>1</th>\n",
       "      <td>When a problem is a change you have to let it ...</td>\n",
       "      <td>When a problem is a change you have to let it ...</td>\n",
       "    </tr>\n",
       "  </tbody>\n",
       "</table>\n",
       "</div>"
      ],
      "text/plain": [
       "                                                text  \\\n",
       "0  when a person has no experience on a job their...   \n",
       "1  Do you think students would benefit from being...   \n",
       "2  Thomas Jefferson once states that \"it is wonde...   \n",
       "0  I think that students would benefit from learn...   \n",
       "1  When a problem is a change you have to let it ...   \n",
       "\n",
       "                                             cleaned  \n",
       "0  when a person has no experience on a job their...  \n",
       "1  Do you think students would benefit from being...  \n",
       "2  Thomas Jefferson once states that it is wonder...  \n",
       "0  I think that students would benefit from learn...  \n",
       "1  When a problem is a change you have to let it ...  "
      ]
     },
     "execution_count": 127,
     "metadata": {},
     "output_type": "execute_result"
    }
   ],
   "source": [
    "data.head()"
   ]
  },
  {
   "cell_type": "code",
   "execution_count": 128,
   "id": "3f1b917a-e7e8-41e9-98fb-1d138e91bda3",
   "metadata": {},
   "outputs": [],
   "source": [
    "data = data[['cleaned']]"
   ]
  },
  {
   "cell_type": "code",
   "execution_count": 129,
   "id": "d05f2b69-8418-4404-8d2d-7bcf2fd739a5",
   "metadata": {},
   "outputs": [
    {
     "data": {
      "text/html": [
       "<div>\n",
       "<style scoped>\n",
       "    .dataframe tbody tr th:only-of-type {\n",
       "        vertical-align: middle;\n",
       "    }\n",
       "\n",
       "    .dataframe tbody tr th {\n",
       "        vertical-align: top;\n",
       "    }\n",
       "\n",
       "    .dataframe thead th {\n",
       "        text-align: right;\n",
       "    }\n",
       "</style>\n",
       "<table border=\"1\" class=\"dataframe\">\n",
       "  <thead>\n",
       "    <tr style=\"text-align: right;\">\n",
       "      <th></th>\n",
       "      <th>cleaned</th>\n",
       "    </tr>\n",
       "  </thead>\n",
       "  <tbody>\n",
       "    <tr>\n",
       "      <th>0</th>\n",
       "      <td>when a person has no experience on a job their...</td>\n",
       "    </tr>\n",
       "    <tr>\n",
       "      <th>1</th>\n",
       "      <td>Do you think students would benefit from being...</td>\n",
       "    </tr>\n",
       "    <tr>\n",
       "      <th>2</th>\n",
       "      <td>Thomas Jefferson once states that it is wonder...</td>\n",
       "    </tr>\n",
       "    <tr>\n",
       "      <th>0</th>\n",
       "      <td>I think that students would benefit from learn...</td>\n",
       "    </tr>\n",
       "    <tr>\n",
       "      <th>1</th>\n",
       "      <td>When a problem is a change you have to let it ...</td>\n",
       "    </tr>\n",
       "  </tbody>\n",
       "</table>\n",
       "</div>"
      ],
      "text/plain": [
       "                                             cleaned\n",
       "0  when a person has no experience on a job their...\n",
       "1  Do you think students would benefit from being...\n",
       "2  Thomas Jefferson once states that it is wonder...\n",
       "0  I think that students would benefit from learn...\n",
       "1  When a problem is a change you have to let it ..."
      ]
     },
     "execution_count": 129,
     "metadata": {},
     "output_type": "execute_result"
    }
   ],
   "source": [
    "data.head()"
   ]
  },
  {
   "cell_type": "code",
   "execution_count": 130,
   "id": "5a774152-01b1-48bf-9e2d-ee03ba7b0240",
   "metadata": {},
   "outputs": [],
   "source": [
    "data.rename(columns={\n",
    "    'cleaned': 'text'\n",
    "}, inplace=True)"
   ]
  },
  {
   "cell_type": "code",
   "execution_count": 131,
   "id": "b46ee2a5-c8a4-4095-bdb8-fae2c6fc1bb4",
   "metadata": {},
   "outputs": [
    {
     "data": {
      "text/html": [
       "<div>\n",
       "<style scoped>\n",
       "    .dataframe tbody tr th:only-of-type {\n",
       "        vertical-align: middle;\n",
       "    }\n",
       "\n",
       "    .dataframe tbody tr th {\n",
       "        vertical-align: top;\n",
       "    }\n",
       "\n",
       "    .dataframe thead th {\n",
       "        text-align: right;\n",
       "    }\n",
       "</style>\n",
       "<table border=\"1\" class=\"dataframe\">\n",
       "  <thead>\n",
       "    <tr style=\"text-align: right;\">\n",
       "      <th></th>\n",
       "      <th>text</th>\n",
       "    </tr>\n",
       "  </thead>\n",
       "  <tbody>\n",
       "    <tr>\n",
       "      <th>0</th>\n",
       "      <td>when a person has no experience on a job their...</td>\n",
       "    </tr>\n",
       "    <tr>\n",
       "      <th>1</th>\n",
       "      <td>Do you think students would benefit from being...</td>\n",
       "    </tr>\n",
       "    <tr>\n",
       "      <th>2</th>\n",
       "      <td>Thomas Jefferson once states that it is wonder...</td>\n",
       "    </tr>\n",
       "    <tr>\n",
       "      <th>0</th>\n",
       "      <td>I think that students would benefit from learn...</td>\n",
       "    </tr>\n",
       "    <tr>\n",
       "      <th>1</th>\n",
       "      <td>When a problem is a change you have to let it ...</td>\n",
       "    </tr>\n",
       "  </tbody>\n",
       "</table>\n",
       "</div>"
      ],
      "text/plain": [
       "                                                text\n",
       "0  when a person has no experience on a job their...\n",
       "1  Do you think students would benefit from being...\n",
       "2  Thomas Jefferson once states that it is wonder...\n",
       "0  I think that students would benefit from learn...\n",
       "1  When a problem is a change you have to let it ..."
      ]
     },
     "execution_count": 131,
     "metadata": {},
     "output_type": "execute_result"
    }
   ],
   "source": [
    "data.head()"
   ]
  },
  {
   "cell_type": "code",
   "execution_count": 132,
   "id": "77e9236f-993f-41ae-93c1-6ecb3441bf6b",
   "metadata": {},
   "outputs": [],
   "source": [
    "data.to_csv('final/English.csv')"
   ]
  },
  {
   "cell_type": "markdown",
   "id": "f7fd4b98-6563-4801-88f9-8cf2cf8682a4",
   "metadata": {},
   "source": [
    "## Gujarati"
   ]
  },
  {
   "cell_type": "code",
   "execution_count": 133,
   "id": "7909dfdc-2d07-44ba-9e28-1e48ad63772c",
   "metadata": {},
   "outputs": [],
   "source": [
    "data = pd.DataFrame(columns=['text'])"
   ]
  },
  {
   "cell_type": "code",
   "execution_count": 134,
   "id": "03dde2e4-0f43-423a-af1c-2b4fef0ab6f8",
   "metadata": {
    "scrolled": true
   },
   "outputs": [],
   "source": [
    "for i in os.listdir('datasets/Gujarati/train/train'):\n",
    "    with open(f'datasets/Gujarati/train/train/{i}') as f:\n",
    "        data.loc[len(data.index)] = [f.read()]"
   ]
  },
  {
   "cell_type": "code",
   "execution_count": 135,
   "id": "e9983055-b6d5-42f8-bfeb-a62d29379d80",
   "metadata": {},
   "outputs": [
    {
     "data": {
      "text/html": [
       "<div>\n",
       "<style scoped>\n",
       "    .dataframe tbody tr th:only-of-type {\n",
       "        vertical-align: middle;\n",
       "    }\n",
       "\n",
       "    .dataframe tbody tr th {\n",
       "        vertical-align: top;\n",
       "    }\n",
       "\n",
       "    .dataframe thead th {\n",
       "        text-align: right;\n",
       "    }\n",
       "</style>\n",
       "<table border=\"1\" class=\"dataframe\">\n",
       "  <thead>\n",
       "    <tr style=\"text-align: right;\">\n",
       "      <th></th>\n",
       "      <th>text</th>\n",
       "    </tr>\n",
       "  </thead>\n",
       "  <tbody>\n",
       "    <tr>\n",
       "      <th>0</th>\n",
       "      <td>ગુજરાત અને ભારતમાં સ્થાન\\nદૂધની ડેરી\\nમકાઈ\\nબલ...</td>\n",
       "    </tr>\n",
       "    <tr>\n",
       "      <th>1</th>\n",
       "      <td>ગુજરાત અને ભારતમાં સ્થાન\\nજામલા ભારત દેશના પશ્...</td>\n",
       "    </tr>\n",
       "    <tr>\n",
       "      <th>2</th>\n",
       "      <td>\\nગુજરાત અને ભારતમાં સ્થાન\\nલાટવા ભારત દેશના પ...</td>\n",
       "    </tr>\n",
       "    <tr>\n",
       "      <th>3</th>\n",
       "      <td>જાંબુઘોડા તાલુકો ભારત દેશના પશ્ચિમ ભાગમાં આવેલ...</td>\n",
       "    </tr>\n",
       "    <tr>\n",
       "      <th>4</th>\n",
       "      <td>ગુજરાત અને ભારતમાં સ્થાન\\nડેરી\\nમાનગુ ભારત દેશ...</td>\n",
       "    </tr>\n",
       "  </tbody>\n",
       "</table>\n",
       "</div>"
      ],
      "text/plain": [
       "                                                text\n",
       "0  ગુજરાત અને ભારતમાં સ્થાન\\nદૂધની ડેરી\\nમકાઈ\\nબલ...\n",
       "1  ગુજરાત અને ભારતમાં સ્થાન\\nજામલા ભારત દેશના પશ્...\n",
       "2  \\nગુજરાત અને ભારતમાં સ્થાન\\nલાટવા ભારત દેશના પ...\n",
       "3  જાંબુઘોડા તાલુકો ભારત દેશના પશ્ચિમ ભાગમાં આવેલ...\n",
       "4  ગુજરાત અને ભારતમાં સ્થાન\\nડેરી\\nમાનગુ ભારત દેશ..."
      ]
     },
     "execution_count": 135,
     "metadata": {},
     "output_type": "execute_result"
    }
   ],
   "source": [
    "data.head()"
   ]
  },
  {
   "cell_type": "code",
   "execution_count": 136,
   "id": "270f0bbe-2a89-431b-8cdf-6e2fba4ff4e8",
   "metadata": {},
   "outputs": [],
   "source": [
    "for i in os.listdir('datasets/Gujarati/valid/valid'):\n",
    "    with open(f'datasets/Gujarati/valid/valid/{i}') as f:\n",
    "        data.loc[len(data.index)] = [f.read()]"
   ]
  },
  {
   "cell_type": "code",
   "execution_count": 137,
   "id": "36633aec-8b17-47be-b325-5af9e9b81938",
   "metadata": {},
   "outputs": [
    {
     "data": {
      "text/html": [
       "<div>\n",
       "<style scoped>\n",
       "    .dataframe tbody tr th:only-of-type {\n",
       "        vertical-align: middle;\n",
       "    }\n",
       "\n",
       "    .dataframe tbody tr th {\n",
       "        vertical-align: top;\n",
       "    }\n",
       "\n",
       "    .dataframe thead th {\n",
       "        text-align: right;\n",
       "    }\n",
       "</style>\n",
       "<table border=\"1\" class=\"dataframe\">\n",
       "  <thead>\n",
       "    <tr style=\"text-align: right;\">\n",
       "      <th></th>\n",
       "      <th>text</th>\n",
       "    </tr>\n",
       "  </thead>\n",
       "  <tbody>\n",
       "    <tr>\n",
       "      <th>0</th>\n",
       "      <td>ગુજરાત અને ભારતમાં સ્થાન\\nદૂધની ડેરી\\nમકાઈ\\nબલ...</td>\n",
       "    </tr>\n",
       "    <tr>\n",
       "      <th>1</th>\n",
       "      <td>ગુજરાત અને ભારતમાં સ્થાન\\nજામલા ભારત દેશના પશ્...</td>\n",
       "    </tr>\n",
       "    <tr>\n",
       "      <th>2</th>\n",
       "      <td>\\nગુજરાત અને ભારતમાં સ્થાન\\nલાટવા ભારત દેશના પ...</td>\n",
       "    </tr>\n",
       "    <tr>\n",
       "      <th>3</th>\n",
       "      <td>જાંબુઘોડા તાલુકો ભારત દેશના પશ્ચિમ ભાગમાં આવેલ...</td>\n",
       "    </tr>\n",
       "    <tr>\n",
       "      <th>4</th>\n",
       "      <td>ગુજરાત અને ભારતમાં સ્થાન\\nડેરી\\nમાનગુ ભારત દેશ...</td>\n",
       "    </tr>\n",
       "  </tbody>\n",
       "</table>\n",
       "</div>"
      ],
      "text/plain": [
       "                                                text\n",
       "0  ગુજરાત અને ભારતમાં સ્થાન\\nદૂધની ડેરી\\nમકાઈ\\nબલ...\n",
       "1  ગુજરાત અને ભારતમાં સ્થાન\\nજામલા ભારત દેશના પશ્...\n",
       "2  \\nગુજરાત અને ભારતમાં સ્થાન\\nલાટવા ભારત દેશના પ...\n",
       "3  જાંબુઘોડા તાલુકો ભારત દેશના પશ્ચિમ ભાગમાં આવેલ...\n",
       "4  ગુજરાત અને ભારતમાં સ્થાન\\nડેરી\\nમાનગુ ભારત દેશ..."
      ]
     },
     "execution_count": 137,
     "metadata": {},
     "output_type": "execute_result"
    }
   ],
   "source": [
    "data.head()"
   ]
  },
  {
   "cell_type": "code",
   "execution_count": 138,
   "id": "e6041ecb-1c01-4882-bf77-1871d6e29cf3",
   "metadata": {},
   "outputs": [
    {
     "data": {
      "text/plain": [
       "(31913, 1)"
      ]
     },
     "execution_count": 138,
     "metadata": {},
     "output_type": "execute_result"
    }
   ],
   "source": [
    "data.shape"
   ]
  },
  {
   "cell_type": "code",
   "execution_count": 139,
   "id": "7e7029ff-026f-40be-9ea8-2cc47221b6f2",
   "metadata": {},
   "outputs": [
    {
     "data": {
      "text/plain": [
       "text    0\n",
       "dtype: int64"
      ]
     },
     "execution_count": 139,
     "metadata": {},
     "output_type": "execute_result"
    }
   ],
   "source": [
    "data.isna().sum()"
   ]
  },
  {
   "cell_type": "code",
   "execution_count": 140,
   "id": "96e49ecf-7c67-4cf9-b0a2-c513801360c4",
   "metadata": {},
   "outputs": [
    {
     "data": {
      "text/plain": [
       "3522"
      ]
     },
     "execution_count": 140,
     "metadata": {},
     "output_type": "execute_result"
    }
   ],
   "source": [
    "data.duplicated().sum()"
   ]
  },
  {
   "cell_type": "code",
   "execution_count": 141,
   "id": "4abd2d14-1591-48be-ae5b-77072ff019cb",
   "metadata": {},
   "outputs": [],
   "source": [
    "data.drop_duplicates(inplace=True)"
   ]
  },
  {
   "cell_type": "code",
   "execution_count": 142,
   "id": "9a804e0d-5ec4-45af-8280-4d105d3649a6",
   "metadata": {},
   "outputs": [
    {
     "data": {
      "text/plain": [
       "(28391, 1)"
      ]
     },
     "execution_count": 142,
     "metadata": {},
     "output_type": "execute_result"
    }
   ],
   "source": [
    "data.shape"
   ]
  },
  {
   "cell_type": "code",
   "execution_count": 143,
   "id": "89ab0fb4-3a47-431d-a0d4-cdc921699cc9",
   "metadata": {},
   "outputs": [
    {
     "data": {
      "text/plain": [
       "'ગુજરાત અને ભારતમાં સ્થાન\\nદૂધની ડેરી\\nમકાઈ\\nબલદેવા ભારત દેશના પશ્ચિમ ભાગમાં આવેલા ગુજરાત રાજ્યના મધ્ય ભાગ અને દક્ષિણ ભાગને જોડતા ભરુચ જિલ્લામાં આવેલા કુલ ૯ તાલુકાઓ પૈકીના એક એવા નેત્રંગ તાલુકાનું એક ગામ છે. બલદેવા ગામમાં ખાસ કરીને આદિવાસી લોકો વસે છે. આ ગામમાં આંગણવાડી, પ્રાથમિક શાળા, પંચાયતઘર, દુધની ડેરી વગેરે સવલતો પ્રાપ્ય છે.\\nઆ ગામના લોકો વ્યવસાયમાં મુખ્યત્વે ખેતી, ખેતમજૂરી તેમ જ પશુપાલન જેવાં કાર્યો કરે છે. આ ઉપરાંત કેટલાક લોકો સરકારી કે ખાનગી નોકરી પણ કરે છે. જુવાર, તુવર, મકાઈ, કપાસ તથા અન્ય શાકભાજી અહીંના મુખ્ય ખેત-ઉત્પાદનો છે. આ ઉપરાંત કેટલાક લોકો પિયતની સગવડ મેળવી શેરડી, કેળાં, ડાંગર વગેરેની ખેતી પણ કરે છે.\\n'"
      ]
     },
     "execution_count": 143,
     "metadata": {},
     "output_type": "execute_result"
    }
   ],
   "source": [
    "data.head(1)['text'][0]"
   ]
  },
  {
   "cell_type": "code",
   "execution_count": 144,
   "id": "96a5bb96-6a37-4501-813c-c86c51aa407f",
   "metadata": {},
   "outputs": [],
   "source": [
    "def clean_gujrati_text(text):\n",
    "    # Remove newline characters\n",
    "    cleaned_text = text.replace('\\n', ' ')\n",
    "\n",
    "    # Remove any extra spaces\n",
    "    cleaned_text = re.sub(' +', ' ', cleaned_text)\n",
    "\n",
    "    # Remove any characters that are not Gujarati letters\n",
    "    cleaned_text = re.sub(r'[^ઁ-૿\\s]', '', cleaned_text)\n",
    "\n",
    "    return cleaned_text.strip()"
   ]
  },
  {
   "cell_type": "code",
   "execution_count": 145,
   "id": "cfac1d0b-ea41-483c-b532-e02bc3a60a46",
   "metadata": {},
   "outputs": [],
   "source": [
    "data['cleaned'] = data['text'].apply(clean_gujrati_text)"
   ]
  },
  {
   "cell_type": "code",
   "execution_count": 146,
   "id": "49436816-d7bc-40a5-86d0-9774f032a6a2",
   "metadata": {},
   "outputs": [
    {
     "data": {
      "text/html": [
       "<div>\n",
       "<style scoped>\n",
       "    .dataframe tbody tr th:only-of-type {\n",
       "        vertical-align: middle;\n",
       "    }\n",
       "\n",
       "    .dataframe tbody tr th {\n",
       "        vertical-align: top;\n",
       "    }\n",
       "\n",
       "    .dataframe thead th {\n",
       "        text-align: right;\n",
       "    }\n",
       "</style>\n",
       "<table border=\"1\" class=\"dataframe\">\n",
       "  <thead>\n",
       "    <tr style=\"text-align: right;\">\n",
       "      <th></th>\n",
       "      <th>text</th>\n",
       "      <th>cleaned</th>\n",
       "    </tr>\n",
       "  </thead>\n",
       "  <tbody>\n",
       "    <tr>\n",
       "      <th>0</th>\n",
       "      <td>ગુજરાત અને ભારતમાં સ્થાન\\nદૂધની ડેરી\\nમકાઈ\\nબલ...</td>\n",
       "      <td>ગુજરાત અને ભારતમાં સ્થાન દૂધની ડેરી મકાઈ બલદેવ...</td>\n",
       "    </tr>\n",
       "    <tr>\n",
       "      <th>1</th>\n",
       "      <td>ગુજરાત અને ભારતમાં સ્થાન\\nજામલા ભારત દેશના પશ્...</td>\n",
       "      <td>ગુજરાત અને ભારતમાં સ્થાન જામલા ભારત દેશના પશ્ચ...</td>\n",
       "    </tr>\n",
       "    <tr>\n",
       "      <th>2</th>\n",
       "      <td>\\nગુજરાત અને ભારતમાં સ્થાન\\nલાટવા ભારત દેશના પ...</td>\n",
       "      <td>ગુજરાત અને ભારતમાં સ્થાન લાટવા ભારત દેશના પશ્ચ...</td>\n",
       "    </tr>\n",
       "    <tr>\n",
       "      <th>3</th>\n",
       "      <td>જાંબુઘોડા તાલુકો ભારત દેશના પશ્ચિમ ભાગમાં આવેલ...</td>\n",
       "      <td>જાંબુઘોડા તાલુકો ભારત દેશના પશ્ચિમ ભાગમાં આવેલ...</td>\n",
       "    </tr>\n",
       "    <tr>\n",
       "      <th>4</th>\n",
       "      <td>ગુજરાત અને ભારતમાં સ્થાન\\nડેરી\\nમાનગુ ભારત દેશ...</td>\n",
       "      <td>ગુજરાત અને ભારતમાં સ્થાન ડેરી માનગુ ભારત દેશના...</td>\n",
       "    </tr>\n",
       "  </tbody>\n",
       "</table>\n",
       "</div>"
      ],
      "text/plain": [
       "                                                text  \\\n",
       "0  ગુજરાત અને ભારતમાં સ્થાન\\nદૂધની ડેરી\\nમકાઈ\\nબલ...   \n",
       "1  ગુજરાત અને ભારતમાં સ્થાન\\nજામલા ભારત દેશના પશ્...   \n",
       "2  \\nગુજરાત અને ભારતમાં સ્થાન\\nલાટવા ભારત દેશના પ...   \n",
       "3  જાંબુઘોડા તાલુકો ભારત દેશના પશ્ચિમ ભાગમાં આવેલ...   \n",
       "4  ગુજરાત અને ભારતમાં સ્થાન\\nડેરી\\nમાનગુ ભારત દેશ...   \n",
       "\n",
       "                                             cleaned  \n",
       "0  ગુજરાત અને ભારતમાં સ્થાન દૂધની ડેરી મકાઈ બલદેવ...  \n",
       "1  ગુજરાત અને ભારતમાં સ્થાન જામલા ભારત દેશના પશ્ચ...  \n",
       "2  ગુજરાત અને ભારતમાં સ્થાન લાટવા ભારત દેશના પશ્ચ...  \n",
       "3  જાંબુઘોડા તાલુકો ભારત દેશના પશ્ચિમ ભાગમાં આવેલ...  \n",
       "4  ગુજરાત અને ભારતમાં સ્થાન ડેરી માનગુ ભારત દેશના...  "
      ]
     },
     "execution_count": 146,
     "metadata": {},
     "output_type": "execute_result"
    }
   ],
   "source": [
    "data.head()"
   ]
  },
  {
   "cell_type": "code",
   "execution_count": 147,
   "id": "9c1a4eb5-a1b3-45f3-a5ff-2b0024de9634",
   "metadata": {},
   "outputs": [],
   "source": [
    "data = data[['cleaned']]"
   ]
  },
  {
   "cell_type": "code",
   "execution_count": 148,
   "id": "6192cc23-4094-4d7d-8c76-6a2e63e193cd",
   "metadata": {},
   "outputs": [
    {
     "data": {
      "text/html": [
       "<div>\n",
       "<style scoped>\n",
       "    .dataframe tbody tr th:only-of-type {\n",
       "        vertical-align: middle;\n",
       "    }\n",
       "\n",
       "    .dataframe tbody tr th {\n",
       "        vertical-align: top;\n",
       "    }\n",
       "\n",
       "    .dataframe thead th {\n",
       "        text-align: right;\n",
       "    }\n",
       "</style>\n",
       "<table border=\"1\" class=\"dataframe\">\n",
       "  <thead>\n",
       "    <tr style=\"text-align: right;\">\n",
       "      <th></th>\n",
       "      <th>cleaned</th>\n",
       "    </tr>\n",
       "  </thead>\n",
       "  <tbody>\n",
       "    <tr>\n",
       "      <th>0</th>\n",
       "      <td>ગુજરાત અને ભારતમાં સ્થાન દૂધની ડેરી મકાઈ બલદેવ...</td>\n",
       "    </tr>\n",
       "    <tr>\n",
       "      <th>1</th>\n",
       "      <td>ગુજરાત અને ભારતમાં સ્થાન જામલા ભારત દેશના પશ્ચ...</td>\n",
       "    </tr>\n",
       "    <tr>\n",
       "      <th>2</th>\n",
       "      <td>ગુજરાત અને ભારતમાં સ્થાન લાટવા ભારત દેશના પશ્ચ...</td>\n",
       "    </tr>\n",
       "    <tr>\n",
       "      <th>3</th>\n",
       "      <td>જાંબુઘોડા તાલુકો ભારત દેશના પશ્ચિમ ભાગમાં આવેલ...</td>\n",
       "    </tr>\n",
       "    <tr>\n",
       "      <th>4</th>\n",
       "      <td>ગુજરાત અને ભારતમાં સ્થાન ડેરી માનગુ ભારત દેશના...</td>\n",
       "    </tr>\n",
       "  </tbody>\n",
       "</table>\n",
       "</div>"
      ],
      "text/plain": [
       "                                             cleaned\n",
       "0  ગુજરાત અને ભારતમાં સ્થાન દૂધની ડેરી મકાઈ બલદેવ...\n",
       "1  ગુજરાત અને ભારતમાં સ્થાન જામલા ભારત દેશના પશ્ચ...\n",
       "2  ગુજરાત અને ભારતમાં સ્થાન લાટવા ભારત દેશના પશ્ચ...\n",
       "3  જાંબુઘોડા તાલુકો ભારત દેશના પશ્ચિમ ભાગમાં આવેલ...\n",
       "4  ગુજરાત અને ભારતમાં સ્થાન ડેરી માનગુ ભારત દેશના..."
      ]
     },
     "execution_count": 148,
     "metadata": {},
     "output_type": "execute_result"
    }
   ],
   "source": [
    "data.head()"
   ]
  },
  {
   "cell_type": "code",
   "execution_count": 149,
   "id": "4efa6b6f-bbef-446b-9848-cd19c697d14b",
   "metadata": {},
   "outputs": [],
   "source": [
    "data.rename(columns={\n",
    "    'cleaned': 'text'\n",
    "}, inplace=True)"
   ]
  },
  {
   "cell_type": "code",
   "execution_count": 150,
   "id": "5651285c-ccea-4a03-91e2-664141770c09",
   "metadata": {},
   "outputs": [
    {
     "data": {
      "text/html": [
       "<div>\n",
       "<style scoped>\n",
       "    .dataframe tbody tr th:only-of-type {\n",
       "        vertical-align: middle;\n",
       "    }\n",
       "\n",
       "    .dataframe tbody tr th {\n",
       "        vertical-align: top;\n",
       "    }\n",
       "\n",
       "    .dataframe thead th {\n",
       "        text-align: right;\n",
       "    }\n",
       "</style>\n",
       "<table border=\"1\" class=\"dataframe\">\n",
       "  <thead>\n",
       "    <tr style=\"text-align: right;\">\n",
       "      <th></th>\n",
       "      <th>text</th>\n",
       "    </tr>\n",
       "  </thead>\n",
       "  <tbody>\n",
       "    <tr>\n",
       "      <th>0</th>\n",
       "      <td>ગુજરાત અને ભારતમાં સ્થાન દૂધની ડેરી મકાઈ બલદેવ...</td>\n",
       "    </tr>\n",
       "    <tr>\n",
       "      <th>1</th>\n",
       "      <td>ગુજરાત અને ભારતમાં સ્થાન જામલા ભારત દેશના પશ્ચ...</td>\n",
       "    </tr>\n",
       "    <tr>\n",
       "      <th>2</th>\n",
       "      <td>ગુજરાત અને ભારતમાં સ્થાન લાટવા ભારત દેશના પશ્ચ...</td>\n",
       "    </tr>\n",
       "    <tr>\n",
       "      <th>3</th>\n",
       "      <td>જાંબુઘોડા તાલુકો ભારત દેશના પશ્ચિમ ભાગમાં આવેલ...</td>\n",
       "    </tr>\n",
       "    <tr>\n",
       "      <th>4</th>\n",
       "      <td>ગુજરાત અને ભારતમાં સ્થાન ડેરી માનગુ ભારત દેશના...</td>\n",
       "    </tr>\n",
       "  </tbody>\n",
       "</table>\n",
       "</div>"
      ],
      "text/plain": [
       "                                                text\n",
       "0  ગુજરાત અને ભારતમાં સ્થાન દૂધની ડેરી મકાઈ બલદેવ...\n",
       "1  ગુજરાત અને ભારતમાં સ્થાન જામલા ભારત દેશના પશ્ચ...\n",
       "2  ગુજરાત અને ભારતમાં સ્થાન લાટવા ભારત દેશના પશ્ચ...\n",
       "3  જાંબુઘોડા તાલુકો ભારત દેશના પશ્ચિમ ભાગમાં આવેલ...\n",
       "4  ગુજરાત અને ભારતમાં સ્થાન ડેરી માનગુ ભારત દેશના..."
      ]
     },
     "execution_count": 150,
     "metadata": {},
     "output_type": "execute_result"
    }
   ],
   "source": [
    "data.head()"
   ]
  },
  {
   "cell_type": "code",
   "execution_count": 151,
   "id": "b13b9b88-b141-4ca7-8fc9-969f575fcc7e",
   "metadata": {},
   "outputs": [
    {
     "data": {
      "text/plain": [
       "text    0\n",
       "dtype: int64"
      ]
     },
     "execution_count": 151,
     "metadata": {},
     "output_type": "execute_result"
    }
   ],
   "source": [
    "data.isna().sum()"
   ]
  },
  {
   "cell_type": "code",
   "execution_count": 152,
   "id": "da7b0a2d-37e4-415b-8f39-b8dbbd5a6e09",
   "metadata": {},
   "outputs": [
    {
     "data": {
      "text/plain": [
       "27"
      ]
     },
     "execution_count": 152,
     "metadata": {},
     "output_type": "execute_result"
    }
   ],
   "source": [
    "data.duplicated().sum()"
   ]
  },
  {
   "cell_type": "code",
   "execution_count": 153,
   "id": "74185ac6-ce4d-4e09-b739-ec4ca79457d0",
   "metadata": {},
   "outputs": [],
   "source": [
    "data.drop_duplicates(inplace=True)"
   ]
  },
  {
   "cell_type": "code",
   "execution_count": 154,
   "id": "68554d67-bdf3-42ef-b95c-b3c5d44d86ab",
   "metadata": {},
   "outputs": [
    {
     "data": {
      "text/plain": [
       "0"
      ]
     },
     "execution_count": 154,
     "metadata": {},
     "output_type": "execute_result"
    }
   ],
   "source": [
    "data.duplicated().sum()"
   ]
  },
  {
   "cell_type": "code",
   "execution_count": 155,
   "id": "2ac9e4b7-b4a7-474e-a01f-0490619fba0a",
   "metadata": {},
   "outputs": [],
   "source": [
    "data.to_csv('final/Gujarati.csv')"
   ]
  },
  {
   "cell_type": "markdown",
   "id": "36454394-ad1c-4578-a29f-048e74516726",
   "metadata": {},
   "source": [
    "## Hindi"
   ]
  },
  {
   "cell_type": "code",
   "execution_count": 156,
   "id": "e325d19f-b2f9-4788-a25a-02c381424994",
   "metadata": {},
   "outputs": [],
   "source": [
    "data = pd.read_csv('datasets/Hindi/hindi_news_dataset.csv')"
   ]
  },
  {
   "cell_type": "code",
   "execution_count": 157,
   "id": "8160ac92-c1e5-41bf-8c71-871396d29154",
   "metadata": {},
   "outputs": [
    {
     "data": {
      "text/html": [
       "<div>\n",
       "<style scoped>\n",
       "    .dataframe tbody tr th:only-of-type {\n",
       "        vertical-align: middle;\n",
       "    }\n",
       "\n",
       "    .dataframe tbody tr th {\n",
       "        vertical-align: top;\n",
       "    }\n",
       "\n",
       "    .dataframe thead th {\n",
       "        text-align: right;\n",
       "    }\n",
       "</style>\n",
       "<table border=\"1\" class=\"dataframe\">\n",
       "  <thead>\n",
       "    <tr style=\"text-align: right;\">\n",
       "      <th></th>\n",
       "      <th>Headline</th>\n",
       "      <th>Content</th>\n",
       "      <th>News Categories</th>\n",
       "      <th>Date</th>\n",
       "    </tr>\n",
       "  </thead>\n",
       "  <tbody>\n",
       "    <tr>\n",
       "      <th>0</th>\n",
       "      <td>कांग्रेस नेता बलजिंदर सिंह की पंजाब में घर के ...</td>\n",
       "      <td>कांग्रेस नेता बलजिंदर सिंह की सोमवार को पंजाब ...</td>\n",
       "      <td>['national']</td>\n",
       "      <td>19-09-2023</td>\n",
       "    </tr>\n",
       "    <tr>\n",
       "      <th>1</th>\n",
       "      <td>केंद्रीय मंत्री बोले- महिला आरक्षण लाने का साह...</td>\n",
       "      <td>केंद्रीय मंत्री प्रह्लाद पटेल ने लोकसभा और विध...</td>\n",
       "      <td>['politics', 'national']</td>\n",
       "      <td>19-09-2023</td>\n",
       "    </tr>\n",
       "    <tr>\n",
       "      <th>2</th>\n",
       "      <td>ओपीएस लागू करने से अस्थिर हो सकती है राज्यों क...</td>\n",
       "      <td>आरबीआई के 5 अधिकारियों ने एक लेख में लिखा है क...</td>\n",
       "      <td>['business', 'national']</td>\n",
       "      <td>19-09-2023</td>\n",
       "    </tr>\n",
       "    <tr>\n",
       "      <th>3</th>\n",
       "      <td>तमिलनाडु में शावरमा खाने से 14 वर्षीय छात्रा क...</td>\n",
       "      <td>नामक्कल (तमिलनाडु) में शावरमा खाने से सोमवार क...</td>\n",
       "      <td>['national']</td>\n",
       "      <td>19-09-2023</td>\n",
       "    </tr>\n",
       "    <tr>\n",
       "      <th>4</th>\n",
       "      <td>मणिपुर में मुख्यमंत्री के आश्वासन के बाद मारे ...</td>\n",
       "      <td>मणिपुर के मुख्यमंत्री एन बीरेन सिंह के आश्वासन...</td>\n",
       "      <td>['national']</td>\n",
       "      <td>19-09-2023</td>\n",
       "    </tr>\n",
       "  </tbody>\n",
       "</table>\n",
       "</div>"
      ],
      "text/plain": [
       "                                            Headline  \\\n",
       "0  कांग्रेस नेता बलजिंदर सिंह की पंजाब में घर के ...   \n",
       "1  केंद्रीय मंत्री बोले- महिला आरक्षण लाने का साह...   \n",
       "2  ओपीएस लागू करने से अस्थिर हो सकती है राज्यों क...   \n",
       "3  तमिलनाडु में शावरमा खाने से 14 वर्षीय छात्रा क...   \n",
       "4  मणिपुर में मुख्यमंत्री के आश्वासन के बाद मारे ...   \n",
       "\n",
       "                                             Content  \\\n",
       "0  कांग्रेस नेता बलजिंदर सिंह की सोमवार को पंजाब ...   \n",
       "1  केंद्रीय मंत्री प्रह्लाद पटेल ने लोकसभा और विध...   \n",
       "2  आरबीआई के 5 अधिकारियों ने एक लेख में लिखा है क...   \n",
       "3  नामक्कल (तमिलनाडु) में शावरमा खाने से सोमवार क...   \n",
       "4  मणिपुर के मुख्यमंत्री एन बीरेन सिंह के आश्वासन...   \n",
       "\n",
       "            News Categories        Date  \n",
       "0              ['national']  19-09-2023  \n",
       "1  ['politics', 'national']  19-09-2023  \n",
       "2  ['business', 'national']  19-09-2023  \n",
       "3              ['national']  19-09-2023  \n",
       "4              ['national']  19-09-2023  "
      ]
     },
     "execution_count": 157,
     "metadata": {},
     "output_type": "execute_result"
    }
   ],
   "source": [
    "data.head()"
   ]
  },
  {
   "cell_type": "code",
   "execution_count": 158,
   "id": "8a3c7189-2a42-49a4-90b4-bbb2b3ed76b8",
   "metadata": {},
   "outputs": [
    {
     "data": {
      "text/plain": [
       "'आरबीआई के 5 अधिकारियों ने एक लेख में लिखा है कि राज्यों द्वारा पुरानी पेंशन योजना (ओपीएस) लागू करना पीछे ले जाने वाला कदम है। अधिकारियों के मुताबिक, इससे राज्यों की वित्तीय स्थिति अस्थिर हो सकती है और वित्तीय बोझ 4.5 गुना तक बढ़ सकता है। हाल ही में राजस्थान और छत्तीसगढ़ समेत कई राज्यों ने ओपीएस लागू किया है।'"
      ]
     },
     "execution_count": 158,
     "metadata": {},
     "output_type": "execute_result"
    }
   ],
   "source": [
    "data['Content'].iloc[2]"
   ]
  },
  {
   "cell_type": "code",
   "execution_count": 159,
   "id": "f4593c5c-f718-484b-bedd-7e2ebee24218",
   "metadata": {},
   "outputs": [],
   "source": [
    "def extract_hindi_text(text):\n",
    "    # Regular expression pattern to match Hindi characters and newline\n",
    "    hindi_pattern = re.compile(r'[\\u0900-\\u097F\\s\\n]+')\n",
    "    # Find all matches of Hindi text in the input text\n",
    "    hindi_matches = hindi_pattern.findall(text)\n",
    "    # Filter out empty strings, whitespace characters, and newline characters\n",
    "    hindi_matches = [match.strip() for match in hindi_matches if match.strip() != '\\n']\n",
    "    # Join the matches to form the extracted Hindi text\n",
    "    hindi_text = ' '.join(hindi_matches)\n",
    "    return hindi_text"
   ]
  },
  {
   "cell_type": "code",
   "execution_count": 160,
   "id": "27d1bbfa-1e14-4e8b-adf7-ba6ad36bc3b1",
   "metadata": {},
   "outputs": [
    {
     "data": {
      "text/plain": [
       "'आरबीआई के अधिकारियों ने एक लेख में लिखा है कि राज्यों द्वारा पुरानी पेंशन योजना ओपीएस लागू करना पीछे ले जाने वाला कदम है। अधिकारियों के मुताबिक इससे राज्यों की वित्तीय स्थिति अस्थिर हो सकती है और वित्तीय बोझ गुना तक बढ़ सकता है। हाल ही में राजस्थान और छत्तीसगढ़ समेत कई राज्यों ने ओपीएस लागू किया है।'"
      ]
     },
     "execution_count": 160,
     "metadata": {},
     "output_type": "execute_result"
    }
   ],
   "source": [
    "extract_hindi_text(data['Content'].iloc[2])"
   ]
  },
  {
   "cell_type": "code",
   "execution_count": 161,
   "id": "ab3cb6a5-3f14-4633-b255-6c04e0d71ad7",
   "metadata": {},
   "outputs": [],
   "source": [
    "data = data[['Content']]"
   ]
  },
  {
   "cell_type": "code",
   "execution_count": 162,
   "id": "08b20f85-72eb-4800-aea0-eb249efd08f7",
   "metadata": {},
   "outputs": [
    {
     "data": {
      "text/html": [
       "<div>\n",
       "<style scoped>\n",
       "    .dataframe tbody tr th:only-of-type {\n",
       "        vertical-align: middle;\n",
       "    }\n",
       "\n",
       "    .dataframe tbody tr th {\n",
       "        vertical-align: top;\n",
       "    }\n",
       "\n",
       "    .dataframe thead th {\n",
       "        text-align: right;\n",
       "    }\n",
       "</style>\n",
       "<table border=\"1\" class=\"dataframe\">\n",
       "  <thead>\n",
       "    <tr style=\"text-align: right;\">\n",
       "      <th></th>\n",
       "      <th>Content</th>\n",
       "    </tr>\n",
       "  </thead>\n",
       "  <tbody>\n",
       "    <tr>\n",
       "      <th>0</th>\n",
       "      <td>कांग्रेस नेता बलजिंदर सिंह की सोमवार को पंजाब ...</td>\n",
       "    </tr>\n",
       "    <tr>\n",
       "      <th>1</th>\n",
       "      <td>केंद्रीय मंत्री प्रह्लाद पटेल ने लोकसभा और विध...</td>\n",
       "    </tr>\n",
       "    <tr>\n",
       "      <th>2</th>\n",
       "      <td>आरबीआई के 5 अधिकारियों ने एक लेख में लिखा है क...</td>\n",
       "    </tr>\n",
       "    <tr>\n",
       "      <th>3</th>\n",
       "      <td>नामक्कल (तमिलनाडु) में शावरमा खाने से सोमवार क...</td>\n",
       "    </tr>\n",
       "    <tr>\n",
       "      <th>4</th>\n",
       "      <td>मणिपुर के मुख्यमंत्री एन बीरेन सिंह के आश्वासन...</td>\n",
       "    </tr>\n",
       "  </tbody>\n",
       "</table>\n",
       "</div>"
      ],
      "text/plain": [
       "                                             Content\n",
       "0  कांग्रेस नेता बलजिंदर सिंह की सोमवार को पंजाब ...\n",
       "1  केंद्रीय मंत्री प्रह्लाद पटेल ने लोकसभा और विध...\n",
       "2  आरबीआई के 5 अधिकारियों ने एक लेख में लिखा है क...\n",
       "3  नामक्कल (तमिलनाडु) में शावरमा खाने से सोमवार क...\n",
       "4  मणिपुर के मुख्यमंत्री एन बीरेन सिंह के आश्वासन..."
      ]
     },
     "execution_count": 162,
     "metadata": {},
     "output_type": "execute_result"
    }
   ],
   "source": [
    "data.head()"
   ]
  },
  {
   "cell_type": "code",
   "execution_count": 163,
   "id": "039f114d-0f47-456a-a1e1-808591163786",
   "metadata": {},
   "outputs": [],
   "source": [
    "data['text'] = data['Content'].apply(extract_hindi_text)"
   ]
  },
  {
   "cell_type": "code",
   "execution_count": 164,
   "id": "5d03f409-6dd6-4639-ada9-be9e319a2553",
   "metadata": {},
   "outputs": [
    {
     "data": {
      "text/html": [
       "<div>\n",
       "<style scoped>\n",
       "    .dataframe tbody tr th:only-of-type {\n",
       "        vertical-align: middle;\n",
       "    }\n",
       "\n",
       "    .dataframe tbody tr th {\n",
       "        vertical-align: top;\n",
       "    }\n",
       "\n",
       "    .dataframe thead th {\n",
       "        text-align: right;\n",
       "    }\n",
       "</style>\n",
       "<table border=\"1\" class=\"dataframe\">\n",
       "  <thead>\n",
       "    <tr style=\"text-align: right;\">\n",
       "      <th></th>\n",
       "      <th>Content</th>\n",
       "      <th>text</th>\n",
       "    </tr>\n",
       "  </thead>\n",
       "  <tbody>\n",
       "    <tr>\n",
       "      <th>0</th>\n",
       "      <td>कांग्रेस नेता बलजिंदर सिंह की सोमवार को पंजाब ...</td>\n",
       "      <td>कांग्रेस नेता बलजिंदर सिंह की सोमवार को पंजाब ...</td>\n",
       "    </tr>\n",
       "    <tr>\n",
       "      <th>1</th>\n",
       "      <td>केंद्रीय मंत्री प्रह्लाद पटेल ने लोकसभा और विध...</td>\n",
       "      <td>केंद्रीय मंत्री प्रह्लाद पटेल ने लोकसभा और विध...</td>\n",
       "    </tr>\n",
       "    <tr>\n",
       "      <th>2</th>\n",
       "      <td>आरबीआई के 5 अधिकारियों ने एक लेख में लिखा है क...</td>\n",
       "      <td>आरबीआई के अधिकारियों ने एक लेख में लिखा है कि ...</td>\n",
       "    </tr>\n",
       "    <tr>\n",
       "      <th>3</th>\n",
       "      <td>नामक्कल (तमिलनाडु) में शावरमा खाने से सोमवार क...</td>\n",
       "      <td>नामक्कल तमिलनाडु में शावरमा खाने से सोमवार को ...</td>\n",
       "    </tr>\n",
       "    <tr>\n",
       "      <th>4</th>\n",
       "      <td>मणिपुर के मुख्यमंत्री एन बीरेन सिंह के आश्वासन...</td>\n",
       "      <td>मणिपुर के मुख्यमंत्री एन बीरेन सिंह के आश्वासन...</td>\n",
       "    </tr>\n",
       "  </tbody>\n",
       "</table>\n",
       "</div>"
      ],
      "text/plain": [
       "                                             Content  \\\n",
       "0  कांग्रेस नेता बलजिंदर सिंह की सोमवार को पंजाब ...   \n",
       "1  केंद्रीय मंत्री प्रह्लाद पटेल ने लोकसभा और विध...   \n",
       "2  आरबीआई के 5 अधिकारियों ने एक लेख में लिखा है क...   \n",
       "3  नामक्कल (तमिलनाडु) में शावरमा खाने से सोमवार क...   \n",
       "4  मणिपुर के मुख्यमंत्री एन बीरेन सिंह के आश्वासन...   \n",
       "\n",
       "                                                text  \n",
       "0  कांग्रेस नेता बलजिंदर सिंह की सोमवार को पंजाब ...  \n",
       "1  केंद्रीय मंत्री प्रह्लाद पटेल ने लोकसभा और विध...  \n",
       "2  आरबीआई के अधिकारियों ने एक लेख में लिखा है कि ...  \n",
       "3  नामक्कल तमिलनाडु में शावरमा खाने से सोमवार को ...  \n",
       "4  मणिपुर के मुख्यमंत्री एन बीरेन सिंह के आश्वासन...  "
      ]
     },
     "execution_count": 164,
     "metadata": {},
     "output_type": "execute_result"
    }
   ],
   "source": [
    "data.head()"
   ]
  },
  {
   "cell_type": "code",
   "execution_count": 165,
   "id": "72ae202b-2664-4274-bfac-6386b9ade99b",
   "metadata": {},
   "outputs": [],
   "source": [
    "data = data[['text']]"
   ]
  },
  {
   "cell_type": "code",
   "execution_count": 166,
   "id": "82ecd1ee-23d4-48cc-bb32-fbe2621aa6a5",
   "metadata": {},
   "outputs": [
    {
     "data": {
      "text/html": [
       "<div>\n",
       "<style scoped>\n",
       "    .dataframe tbody tr th:only-of-type {\n",
       "        vertical-align: middle;\n",
       "    }\n",
       "\n",
       "    .dataframe tbody tr th {\n",
       "        vertical-align: top;\n",
       "    }\n",
       "\n",
       "    .dataframe thead th {\n",
       "        text-align: right;\n",
       "    }\n",
       "</style>\n",
       "<table border=\"1\" class=\"dataframe\">\n",
       "  <thead>\n",
       "    <tr style=\"text-align: right;\">\n",
       "      <th></th>\n",
       "      <th>text</th>\n",
       "    </tr>\n",
       "  </thead>\n",
       "  <tbody>\n",
       "    <tr>\n",
       "      <th>0</th>\n",
       "      <td>कांग्रेस नेता बलजिंदर सिंह की सोमवार को पंजाब ...</td>\n",
       "    </tr>\n",
       "    <tr>\n",
       "      <th>1</th>\n",
       "      <td>केंद्रीय मंत्री प्रह्लाद पटेल ने लोकसभा और विध...</td>\n",
       "    </tr>\n",
       "    <tr>\n",
       "      <th>2</th>\n",
       "      <td>आरबीआई के अधिकारियों ने एक लेख में लिखा है कि ...</td>\n",
       "    </tr>\n",
       "    <tr>\n",
       "      <th>3</th>\n",
       "      <td>नामक्कल तमिलनाडु में शावरमा खाने से सोमवार को ...</td>\n",
       "    </tr>\n",
       "    <tr>\n",
       "      <th>4</th>\n",
       "      <td>मणिपुर के मुख्यमंत्री एन बीरेन सिंह के आश्वासन...</td>\n",
       "    </tr>\n",
       "  </tbody>\n",
       "</table>\n",
       "</div>"
      ],
      "text/plain": [
       "                                                text\n",
       "0  कांग्रेस नेता बलजिंदर सिंह की सोमवार को पंजाब ...\n",
       "1  केंद्रीय मंत्री प्रह्लाद पटेल ने लोकसभा और विध...\n",
       "2  आरबीआई के अधिकारियों ने एक लेख में लिखा है कि ...\n",
       "3  नामक्कल तमिलनाडु में शावरमा खाने से सोमवार को ...\n",
       "4  मणिपुर के मुख्यमंत्री एन बीरेन सिंह के आश्वासन..."
      ]
     },
     "execution_count": 166,
     "metadata": {},
     "output_type": "execute_result"
    }
   ],
   "source": [
    "data.head()"
   ]
  },
  {
   "cell_type": "code",
   "execution_count": 167,
   "id": "466a0f27-22c2-43ce-ba93-dd17e6ce0869",
   "metadata": {},
   "outputs": [
    {
     "data": {
      "text/plain": [
       "text    0\n",
       "dtype: int64"
      ]
     },
     "execution_count": 167,
     "metadata": {},
     "output_type": "execute_result"
    }
   ],
   "source": [
    "data.isna().sum()"
   ]
  },
  {
   "cell_type": "code",
   "execution_count": 168,
   "id": "6acc68e3-eced-4241-ae3b-5a9ae8fceb4c",
   "metadata": {},
   "outputs": [
    {
     "data": {
      "text/plain": [
       "78053"
      ]
     },
     "execution_count": 168,
     "metadata": {},
     "output_type": "execute_result"
    }
   ],
   "source": [
    "data.duplicated().sum()"
   ]
  },
  {
   "cell_type": "code",
   "execution_count": 169,
   "id": "be852f99-b6b5-4825-aa87-71070ee71dd6",
   "metadata": {},
   "outputs": [
    {
     "data": {
      "text/plain": [
       "(89718, 1)"
      ]
     },
     "execution_count": 169,
     "metadata": {},
     "output_type": "execute_result"
    }
   ],
   "source": [
    "data.shape"
   ]
  },
  {
   "cell_type": "code",
   "execution_count": 170,
   "id": "6e0b1bb9-e301-460e-9a9f-50722b332864",
   "metadata": {},
   "outputs": [],
   "source": [
    "data.drop_duplicates(inplace=True)"
   ]
  },
  {
   "cell_type": "code",
   "execution_count": 171,
   "id": "75d5c793-d235-4f26-89ce-b65709ac34cb",
   "metadata": {},
   "outputs": [
    {
     "data": {
      "text/plain": [
       "(11665, 1)"
      ]
     },
     "execution_count": 171,
     "metadata": {},
     "output_type": "execute_result"
    }
   ],
   "source": [
    "data.shape"
   ]
  },
  {
   "cell_type": "code",
   "execution_count": 172,
   "id": "2d7a523c-04c2-4804-9c5b-865f1020fc7d",
   "metadata": {},
   "outputs": [],
   "source": [
    "data.to_csv('final/Hindi.csv')"
   ]
  },
  {
   "cell_type": "markdown",
   "id": "82687291-a5a8-4cfe-85d1-76e431ae4942",
   "metadata": {},
   "source": [
    "## Kannada"
   ]
  },
  {
   "cell_type": "code",
   "execution_count": 173,
   "id": "f82933af-3ff5-4a0e-bcbe-ec1ac08dc351",
   "metadata": {},
   "outputs": [],
   "source": [
    "data = pd.DataFrame(columns=['text'])"
   ]
  },
  {
   "cell_type": "code",
   "execution_count": 174,
   "id": "f10e8029-3d3d-483f-93b5-5f6dbb6b968b",
   "metadata": {},
   "outputs": [],
   "source": [
    "for i in os.listdir('datasets/Kannada/'):\n",
    "    with open(f'datasets/Kannada/{i}') as f:\n",
    "        data.loc[len(data.index)] = [f.read()]"
   ]
  },
  {
   "cell_type": "code",
   "execution_count": 175,
   "id": "68a652ec-ec01-4ee3-9ede-318b98f1a21c",
   "metadata": {},
   "outputs": [
    {
     "data": {
      "text/html": [
       "<div>\n",
       "<style scoped>\n",
       "    .dataframe tbody tr th:only-of-type {\n",
       "        vertical-align: middle;\n",
       "    }\n",
       "\n",
       "    .dataframe tbody tr th {\n",
       "        vertical-align: top;\n",
       "    }\n",
       "\n",
       "    .dataframe thead th {\n",
       "        text-align: right;\n",
       "    }\n",
       "</style>\n",
       "<table border=\"1\" class=\"dataframe\">\n",
       "  <thead>\n",
       "    <tr style=\"text-align: right;\">\n",
       "      <th></th>\n",
       "      <th>text</th>\n",
       "    </tr>\n",
       "  </thead>\n",
       "  <tbody>\n",
       "    <tr>\n",
       "      <th>0</th>\n",
       "      <td>\"ಕರೋನವೈರಸ್ನಿಂದ ವಿಸ್ಲ್ ಬ್ಲೋವರ್ ಡಾ. ಲಿ ವೆನ್ಲಿಯಾಂ...</td>\n",
       "    </tr>\n",
       "    <tr>\n",
       "      <th>1</th>\n",
       "      <td>\"ಮರೋಲಾ ಫಿಲಿಪೈನ್ಸ್ ಹೌಸ್ ಅಲ್ಪಸಂಖ್ಯಾತ ಮುಖಂಡ ಬಿಯೆನ...</td>\n",
       "    </tr>\n",
       "    <tr>\n",
       "      <th>2</th>\n",
       "      <td>ಡೆಬೊರಾ ಫ್ರಾನ್ಸಿಸ್ ವೈಟ್ ಹಾಸ್ಯನಟ ಮತ್ತು ದಿ ಗಿಲ್ಟಿ...</td>\n",
       "    </tr>\n",
       "    <tr>\n",
       "      <th>3</th>\n",
       "      <td>\"ವೈರಸ್ ಪ್ರಭಾವದ ಮೇಲೆ ಲಾಭದ ಎಚ್ಚರಿಕೆ ನೀಡಿದ ನಂತರ ಏ...</td>\n",
       "    </tr>\n",
       "    <tr>\n",
       "      <th>4</th>\n",
       "      <td>\"ಸೋಮವಾರ ತೆಗೆದ ವೀಡಿಯೊವೊಂದರ ಈ ಚಿತ್ರದಲ್ಲಿ ನೀವು ಪ್...</td>\n",
       "    </tr>\n",
       "  </tbody>\n",
       "</table>\n",
       "</div>"
      ],
      "text/plain": [
       "                                                text\n",
       "0  \"ಕರೋನವೈರಸ್ನಿಂದ ವಿಸ್ಲ್ ಬ್ಲೋವರ್ ಡಾ. ಲಿ ವೆನ್ಲಿಯಾಂ...\n",
       "1  \"ಮರೋಲಾ ಫಿಲಿಪೈನ್ಸ್ ಹೌಸ್ ಅಲ್ಪಸಂಖ್ಯಾತ ಮುಖಂಡ ಬಿಯೆನ...\n",
       "2  ಡೆಬೊರಾ ಫ್ರಾನ್ಸಿಸ್ ವೈಟ್ ಹಾಸ್ಯನಟ ಮತ್ತು ದಿ ಗಿಲ್ಟಿ...\n",
       "3  \"ವೈರಸ್ ಪ್ರಭಾವದ ಮೇಲೆ ಲಾಭದ ಎಚ್ಚರಿಕೆ ನೀಡಿದ ನಂತರ ಏ...\n",
       "4  \"ಸೋಮವಾರ ತೆಗೆದ ವೀಡಿಯೊವೊಂದರ ಈ ಚಿತ್ರದಲ್ಲಿ ನೀವು ಪ್..."
      ]
     },
     "execution_count": 175,
     "metadata": {},
     "output_type": "execute_result"
    }
   ],
   "source": [
    "data.head()"
   ]
  },
  {
   "cell_type": "code",
   "execution_count": 176,
   "id": "f640fd56-06f9-4371-93e2-f87fa3962086",
   "metadata": {
    "scrolled": true
   },
   "outputs": [
    {
     "data": {
      "text/plain": [
       "'\"ಮರೋಲಾ ಫಿಲಿಪೈನ್ಸ್ ಹೌಸ್ ಅಲ್ಪಸಂಖ್ಯಾತ ಮುಖಂಡ ಬಿಯೆನ್ವೆನಿಡೋ ಅಬಾಂಟೆ ಜೂನಿಯರ್ ಅವರು ಯುನೈಟೆಡ್ ಅರಬ್ ಎಮಿರೇಟ್ಸ್ ಯುಎಇಯ ವಿಮಾನ ನಿಲ್ದಾಣವೊಂದರಲ್ಲಿ ಸೌದಿ ಅರೇಬಿಯಾಕ್ಕೆ ತೆರಳುವ ವಿಮಾನವನ್ನು ಹತ್ತುವುದನ್ನು ನಿರ್ಬಂಧಿಸಲಾಗಿದೆ. ಕರೋನವೈರಸ್ ಕಾಯಿಲೆಯ ಬೆದರಿಕೆ ಮಧ್ಯೆ ಪ್ರಯಾಣ ನಿಷೇಧ ಹೇರಲಾಗಿದೆ OFWs ಇಲಾಖೆಯನ್ನು ಸ್ಥಾಪಿಸುವ ಉದ್ದೇಶಿತ ಮಸೂದೆಯ ಬಗ್ಗೆ ಚರ್ಚಿಸಲು ಮತ್ತು ಸಮಾಲೋಚನೆ ನಡೆಸಲು ಅಲ್ಲಿನ ಸಾಗರೋತ್ತರ ಫಿಲಿಪಿನೋ ಕಾರ್ಮಿಕರ OFW ಗಳ ಆಹ್ವಾನದ ನಂತರ ಅಧಿಕೃತ ಪ್ರವಾಸ. ವಿಮಾನಯಾನಕ್ಕೆ ಹತ್ತಲು ನಮಗೆ ಅವಕಾಶವಿರಲಿಲ್ಲ ಏಕೆಂದರೆ ಅವರು ತಡೆಯಲು ಸೌದಿ ಸರ್ಕಾರಕ್ಕೆ ಸಲಹೆ ಪಡೆದರು. COVID 19 ರ ಕಾರಣದಿಂದಾಗಿ ಪ್ರವಾಸಿಗರು ಮತ್ತು ಸಂದರ್ಶಕರು INQUIRER net ಗೆ ಪಠ್ಯ ಸಂದೇಶದಲ್ಲಿ ಅಬಾಂಟೆ ಗುರುವಾರ ರಾತ್ರಿಯ ಹೊತ್ತಿಗೆ ಮನಿಲಾ ಸಮಯದ ಪ್ರಕಾರ, ಯುಎಇ ವೀಸಾವನ್ನು ಪಡೆಯಲು ಫಿಲಿಪೈನ್ ಕಾನ್ಸುಲೇಟ್ ಸಹಾಯ ಮಾಡಿದ ನಂತರ ತಾನು ಇನ್ನೂ ದುಬೈನಲ್ಲಿದ್ದೇನೆ ಎಂದು ಅಬಾಂಟೆ ಹೇಳಿದ್ದಾರೆ. ಜೆಡ್ಡಾ ಸೌದಿ ಅರೇಬಿಯಾ ಇಂದು ನಿಷೇಧವನ್ನು ತೆಗೆದುಹಾಕಲು ನಾವು ಮುಂದುವರಿಯಬಹುದು ಏಕೆಂದರೆ ನಾನು ಪ್ರವಾಸಿಗನಲ್ಲ ಆದರೆ ನಮ್ಮ ಪ್ರೀತಿಯ ಅಧಿಕಾರಿ ಸೌದಿ ಅರೇಬಿಯಾದ ಕೆಎಸ್ಎ ಕಿಂಗ್ಡಮ್ನಲ್ಲಿ ನಮ್ಮ OFW ಗಳೊಂದಿಗೆ ಮಾತನಾಡಲು ಅಬಾಂಟೆ ಹೇಳಿದರು\",0\\n\"ವೆಡ್ಬಷ್ ಸೆಕ್ಯುರಿಟೀಸ್ ಬುಕಿಂಗ್ ಹೋಲ್ಡಿಂಗ್ಸ್ನಲ್ಲಿನ ಬೆಲೆ ಗುರಿಯನ್ನು ಕಡಿಮೆ ಮಾಡುತ್ತದೆ ನಾಸ್ಡಾಕ್ ಬಿಕೆಎನ್ಜಿ ಕಂಪನಿಯ ಕರೋನವೈರಸ್ ಪ್ರಭಾವಿತ ಮಾರ್ಗದರ್ಶನ ನವೀಕರಣಕ್ಕಾಗಿ ನಿನ್ನೆ ಹೊಂದಿಸಲು ನಾವು ನಮ್ಮ ನ್ಯೂಟ್ರಾಲ್ ರೇಟಿಂಗ್ ಅನ್ನು ಕಾಯ್ದುಕೊಳ್ಳುತ್ತಿದ್ದೇವೆ ಮತ್ತು ನಮ್ಮ ಬೆಲೆ ಗುರಿಯನ್ನು 1750 ಕ್ಕೆ ಇಳಿಸುತ್ತಿದ್ದೇವೆ ಅದು 17x ಅನ್ನು ಆಧರಿಸಿದೆ ನಮ್ಮ ಆಶಾದಾಯಕವಾಗಿ ಖಿನ್ನತೆಗೆ ಒಳಗಾದ 2020 ಇಪಿಎಸ್ ಅಂದಾಜು ಅಥವಾ 14x ನಮ್ಮ 2021 ಸಂಖ್ಯೆ ಆದಾಗ್ಯೂ, ಇಲ್ಲಿಂದ ಸಾಧಾರಣ ತಲೆಕೆಳಗಾಗಿ ಸೂಚಿಸುತ್ತದೆ ವಿಶ್ಲೇಷಕ ಜೇಮ್ಸ್ ಹಾರ್ಡಿಮನ್ ರಸ್ತೆಯ ಮತ್ತಷ್ಟು ಕೆಳಗೆ ನೋಡಿದಾಗ ಪ್ರಯಾಣದ ಬೇಡಿಕೆ ಮರುಕಳಿಸುತ್ತದೆ ಮತ್ತು ಬಲವಾದ ಪ್ರಯಾಣದ ಆಟಗಾರರು ಬಿಕೆಎನ್\\u200cಜಿ ಪ್ರೀಮಾರ್ಕೆಟ್\\u200cಗಿಂತ 1640 ಕ್ಕೆ ಬಲವಾಗಿ ಹೊರಹೊಮ್ಮಬಹುದು ಎಂದು ಬುಕಿಂಗ್ ನಿರ್ವಹಣೆ ಸರಿಯಾಗಿದೆ ಎಂದು ಹಾರ್ಡಿಮನ್ ಭಾವಿಸಿದ್ದಾರೆ.\",0\\n\"COVID 19 ಎಂದು ಹೆಸರಿಸಲಾದ ಈ ವೈರಸ್ ಚೀನಾದ ಬಹುಪಾಲು ವಾಣಿಜ್ಯವನ್ನು ಸ್ಥಗಿತಗೊಳಿಸಿದೆ ಮತ್ತು ಕಂಪನಿಯ ಗಳಿಕೆಯನ್ನು ಜಾಗತಿಕ ಸ್ಟಾಕ್ ಮಾರುಕಟ್ಟೆಗಳು ಮತ್ತು ಪ್ರಪಂಚದಾದ್ಯಂತ ಉತ್ಪಾದಿಸುತ್ತಿದೆ. WHO ಅಧಿಕಾರಿಗಳು ಕಳೆದ ತಿಂಗಳು ವೈರಸ್ ಅನ್ನು ಜಾಗತಿಕ ಆರೋಗ್ಯ ತುರ್ತುಸ್ಥಿತಿ ಎಂದು ಘೋಷಿಸಿದರು, ಆದರೆ ವೈರಸ್ಗೆ ಪ್ರತಿಕ್ರಿಯಿಸುವುದರ ವಿರುದ್ಧ ಸಾರ್ವಜನಿಕರನ್ನು ಒತ್ತಾಯಿಸಿದರು. ಪ್ರಕರಣಗಳು ಉತ್ತರ ಪ್ರದೇಶವಾದ ಲೊಂಬಾರ್ಡಿ ಮತ್ತು ನೆರೆಯ ವೆನೆಟೊದಲ್ಲಿ ವೈರಸ್ ಅನ್ನು ಒಳಗೊಂಡಿರುವ ಪ್ರಯತ್ನದಲ್ಲಿ ಅಧಿಕಾರಿಗಳು ಶಾಲೆಗಳನ್ನು ಮುಚ್ಚಿದ್ದಾರೆ ಮತ್ತು ಸಾರ್ವಜನಿಕ ಸಭೆಗಳನ್ನು ನಿಷೇಧಿಸಿದ್ದಾರೆ. ಚೀನಾದ ಹೊರಗೆ ದೈನಂದಿನ ಹೊಸ COVID 19 ಪ್ರಕರಣಗಳ ಸಂಖ್ಯೆ ದೇಶದೊಳಗಿನ ಪ್ರಕರಣಗಳನ್ನು ಮೀರಿದೆ ಎಂದು WHO ಬುಧವಾರ ಘೋಷಿಸಿತು ನಿನ್ನೆ ಚೀನಾದ ಹೊರಗೆ ವರದಿಯಾದ ಹೊಸ ಪ್ರಕರಣಗಳ ಸಂಖ್ಯೆ ಮೊದಲ ಬಾರಿಗೆ ಚೀನಾದಲ್ಲಿ ಹೊಸ ಪ್ರಕರಣಗಳ ಸಂಖ್ಯೆಯನ್ನು ಮೀರಿದೆ\",1\\n\"ಕಳೆದ ವರ್ಷದ ಇದೇ ಅವಧಿಗೆ ಹೋಲಿಸಿದರೆ ಈ ತ್ರೈಮಾಸಿಕದಲ್ಲಿ 10 ರಷ್ಟು ಹಿಂದಕ್ಕೆ ಬಡ್ಡಿ ತೆರಿಗೆ ಸವಕಳಿ ಮತ್ತು ಭೋಗ್ಯಕ್ಕೆ ಮುಂಚಿತವಾಗಿ ಬ್ರೆಜಿಲ್\\u200cನಲ್ಲಿನ ಕರೋನವೈರಸ್ ಮತ್ತು ಹೋಲಿಕೆಯ ಸವಾಲಿನ ಆಧಾರವು ತನ್ನ ಗಳಿಕೆಯನ್ನು ತಟ್ಟುತ್ತದೆ ಎಂದು ಆನ್\\u200cಹ್ಯೂಸರ್ ಬುಶ್ ಇನ್\\u200cಬೆವ್ ಎಸ್\\u200cಎ ಬಡ್ 0 94 ಗುರುವಾರ ತಿಳಿಸಿದೆ. ಕಂಪನಿಯು ಈಗಾಗಲೇ 170 ಮಿಲಿಯನ್ ಕಂಡಿದೆ ಚೀನಾದಲ್ಲಿ ಮೊದಲ ಎರಡು ತಿಂಗಳು ಬಡ್ಡಿ ತೆರಿಗೆ ಸವಕಳಿ ಮತ್ತು ಭೋಗ್ಯಕ್ಕೆ ಮುಂಚಿನ ಗಳಿಕೆಯ ಕುಸಿತ ಎಪಿಎಸಿ 1876 1 23 ಕಳೆದ ವರ್ಷ ಎಬಿ ಇನ್\\u200cಬೆವ್ ಏಷ್ಯಾದ ಘಟಕವು 2020 ರ ಮೊದಲ ಮೂರು ವಾರಗಳು ಪ್ರಬಲವಾಗಿದೆ ಎಂದು ಹೇಳಿದೆ ಆದರೆ ನಂತರ ಅನೇಕ ರೆಸ್ಟೋರೆಂಟ್\\u200cಗಳು ಮಾರಾಟವಾದವು. ಮತ್ತು ಬಾರ್\\u200cಗಳು ಮುಚ್ಚಿಹೋಗಿವೆ ಎಬಿ ಇನ್\\u200cಬೆವ್ ನೀವು ಬಡ್ವೈಸರ್\\u200cಗೆ ಅದೇ ರೀತಿಯ ಪ್ರೀಮಿಯಲೈಸೇಶನ್ ಕಾರ್ಯತಂತ್ರದೊಂದಿಗೆ ಲಾಭ ಗಳಿಸಿದೆ, ಉದಾಹರಣೆಗೆ ಕೆ ಕೆ ಬಡ್ವೈಸರ್ ಅನ್ನು ಚೀನಾದಲ್ಲಿ ಪ್ರೀಮಿಯಂ ಬ್ರಾಂಡ್ ಎಂದು ಪರಿಗಣಿಸಲಾಗಿದೆ. ಎಬಿ ಇನ್\\u200cಬೆವ್\\u200cನ ಮೌಲ್ಯಮಾಪನ ಇತ್ತೀಚಿನ ವರ್ಷಗಳಲ್ಲಿ ಏಕೆ ಕುಸಿದಿದೆ ಎಂಬುದನ್ನು ಇದು ವಿವರಿಸುತ್ತದೆ. ಈಗ ಎಬಿಟ್ಡಾದಲ್ಲಿ 10 ಪಟ್ಟು ಮುಂದಿದೆ\",0\\n\"ಕರೋನವೈರಸ್ ನಿವಾರಣೆಯನ್ನು ಅಭಿವೃದ್ಧಿಪಡಿಸುವ ಪ್ರಯತ್ನದ ಭಾಗವಾಗಿ ಚೀನಾದ ತಜ್ಞರು ಹಳೆಯ ಮಲೇರಿಯಾ drugs ಷಧಿಗಳನ್ನು ಪ್ರಯೋಗಿಸುತ್ತಿದ್ದಾರೆ. ಚೀನಾದ 10 ಆಸ್ಪತ್ರೆಗಳಲ್ಲಿ ಮತ್ತು ಗುವಾಂಗ್\\u200cಡಾಂಗ್ ಮತ್ತು ಹುನಾನ್ ಸನ್ ಯಾನ್\\u200cರೋಂಗ್ ಉಪ ಮುಖ್ಯಸ್ಥರಲ್ಲಿ 100 ಕ್ಕೂ ಹೆಚ್ಚು ರೋಗಿಗಳ ಮೇಲೆ ಕ್ಲೋರೊಕ್ವಿನ್ ಫಾಸ್ಫೇಟ್ ಪರೀಕ್ಷಿಸಲಾಗುತ್ತಿದೆ. ವಿಜ್ಞಾನ ಮತ್ತು ತಂತ್ರಜ್ಞಾನ ಸಚಿವಾಲಯದ ಅಧೀನದಲ್ಲಿರುವ ಚೀನಾ ನ್ಯಾಷನಲ್ ಸೆಂಟರ್ ಫಾರ್ ಬಯೋಟೆಕ್ನಾಲಜಿ ಡೆವಲಪ್ಮೆಂಟ್, ತಜ್ಞರು ಸರ್ವಾನುಮತದಿಂದ ಇದನ್ನು ಸಾಧ್ಯವಾದಷ್ಟು ಬೇಗ ವ್ಯಾಪಕವಾದ ಕ್ಲಿನಿಕಲ್ ಪ್ರಯೋಗಗಳಲ್ಲಿ ಅನ್ವಯಿಸಲು ಮುಂದಾಗಿದ್ದಾರೆ ಎಂದು ಹೇಳಿದರು. 70 ವರ್ಷಗಳಿಗಿಂತ ಹೆಚ್ಚು ಕಾಲ ಬಳಸಲಾಗುತ್ತಿರುವ drug ಷಧವನ್ನು ಅಸ್ತಿತ್ವದಲ್ಲಿರುವ ಸಾವಿರಾರು ಸಂಖ್ಯೆಯಿಂದ ತೆಗೆದುಕೊಳ್ಳಲಾಗಿದೆ ಅನೇಕ ಸುತ್ತಿನ ತಪಾಸಣೆಯ ನಂತರ medicines ಷಧಿಗಳು ಕ್ಲೋರೊಕ್ವಿನ್ ಫಾಸ್ಫೇಟ್ ಅನ್ನು ರೋಗಿಗಳ ಗುಂಪುಗಳು ನೀಡಿದ್ದವು, ಪರೀಕ್ಷೆಗಳಲ್ಲಿಲ್ಲದವರಿಗಿಂತ ಉತ್ತಮವಾಗಿದೆ\",0\\n\"2019 ರ ಅಂತ್ಯದಲ್ಲಿ ಯುಎಸ್ ಆರ್ಥಿಕತೆಗೆ ಏನಾಯಿತು ಎಂಬುದರ ಬಗ್ಗೆ ಯಾರೂ ಸಂಪೂರ್ಣವಾಗಿ ಕಾಳಜಿ ವಹಿಸುವುದಿಲ್ಲ, ಆದರೆ 2020 ರ ಮೊದಲ ತ್ರೈಮಾಸಿಕದಲ್ಲಿ ಚೀನಾದ ಜಿಡಿಪಿ ಈಗ negative ಣಾತ್ಮಕ ಪುಡಿಮಾಡುವ ಜಾಗತಿಕ ಆರ್ಥಿಕ ಬೆಳವಣಿಗೆಯನ್ನು ಮುದ್ರಿಸುತ್ತದೆ ಮತ್ತು ಯುಎಸ್ ಜಿಡಿಪಿಯನ್ನು ಕ್ಷಣಗಳ ಹಿಂದೆ ಮುದ್ರಿಸುತ್ತದೆ ಎಂದು ನಿರೀಕ್ಷಿಸಲಾಗಿದೆ. ಕ್ಯೂ 4 2019 ರ ಯುಎಸ್ ಜಿಡಿಪಿಗಾಗಿ ಬಿಇಎ ತನ್ನ ಎರಡನೇ ಅಂದಾಜನ್ನು ವರದಿ ಮಾಡಿದೆ ಮತ್ತು ಕನಿಷ್ಠ ಇಲ್ಲಿ 1 ನೇ ಎಸ್ಸಿಮೇಟ್ ವಿರುದ್ಧ 2 1 ಕ್ಕೆ ಬದಲಾಗದೆ ಬರುವ ಸಂಖ್ಯೆಯಲ್ಲಿ ಯಾವುದೇ ಆಶ್ಚರ್ಯಗಳಿಲ್ಲ ಮತ್ತು ನಿರೀಕ್ಷೆಗಳಿಗೆ ಅನುಗುಣವಾಗಿ ಕಳೆದ ತಿಂಗಳಂತೆಯೇ ನೈಜ ಜಿಡಿಪಿಯ ಹೆಚ್ಚಳವು ಗ್ರಾಹಕರ ಖರ್ಚಿನಲ್ಲಿ ಹೆಚ್ಚಳವನ್ನು ಪ್ರತಿಬಿಂಬಿಸುತ್ತದೆ ಸರಕಾರಿ ಖರ್ಚು ರಫ್ತು ಮತ್ತು ವಸತಿ ಹೂಡಿಕೆ ದಾಸ್ತಾನು ಹೂಡಿಕೆ ಮತ್ತು ವ್ಯಾಪಾರ ಹೂಡಿಕೆಯ ಇಳಿಕೆಯಿಂದ ಭಾಗಶಃ ಸರಿದೂಗಿಸಲ್ಪಟ್ಟಿದೆ. ಗ್ರಾಹಕರ ಖರ್ಚಿನ ಹೆಚ್ಚಳವು ಮೋಟಾರು ವಾಹನಗಳು ಮತ್ತು ಆರೋಗ್ಯ ರಕ್ಷಣೆಯ ನೇತೃತ್ವದ ಭಾಗಗಳು ಮತ್ತು ಸೇವೆಗಳ ನೇತೃತ್ವದ ಸರಕುಗಳ ಹೆಚ್ಚಳವನ್ನು ಪ್ರತಿಬಿಂಬಿಸುತ್ತದೆ ಒಟ್ಟಾರೆ ಜಿಡಿಪಿ ಬೆಲೆ ಸೂಚ್ಯಂಕವು 4 ಕ್ಯೂನಲ್ಲಿ 1 3 ಏರಿಕೆಯಾಗಿದೆ 1 8 ಮುಂಚಿನ ತ್ರೈಮಾಸಿಕದಲ್ಲಿ ಗ್ರಾಹಕ ಖರ್ಚಿನಲ್ಲಿನ ಹೆಚ್ಚಳ ಸರ್ಕಾರ ಖರ್ಚು ಮಾಡುವ ವ್ಯಾಪಾರ ಹೂಡಿಕೆ ಮತ್ತು ದಾಸ್ತಾನು ಹೂಡಿಕೆ ಭಾಗಶಃ ವಸತಿ ಹೂಡಿಕೆಯ ಇಳಿಕೆ ಮತ್ತು ಆಮದಿನ ಹೆಚ್ಚಳದಿಂದ ಆಫ್\\u200cಸೆಟ್\",0\\n\"ಫೈಲ್ ಫೋಟೋ ಯುರೋಪಿಯನ್ ಆಂತರಿಕ ಮಾರುಕಟ್ಟೆ ಆಯುಕ್ತ ಥಿಯೆರ್ರಿ ಬ್ರೆಟನ್ ಫೆಬ್ರವರಿ 19 2020 ರ ಬ್ರಸೆಲ್ಸ್ ಬೆಲ್ಜಿಯಂನಲ್ಲಿ ಯುರೋಪಿಯನ್ ಆಯೋಗದ ದತ್ತಾಂಶ ಡಿಜಿಟಲ್ ಕಾರ್ಯತಂತ್ರದ ಪ್ರಸ್ತುತಿಯ ಸಂದರ್ಭದಲ್ಲಿ ಮಾತನಾಡುತ್ತಾರೆ. ರಾಯಿಟರ್ಸ್ ವೈವ್ಸ್ ಹರ್ಮನ್\\u200cಬ್ರೂಸೆಲ್ಸ್ ರಾಯಿಟರ್ಸ್ ಯುರೋಪಿಯನ್ ಯೂನಿಯನ್ ಕೈಗಾರಿಕಾ ಆಯುಕ್ತರು ಗುರುವಾರ ವಲಯವನ್ನು ಬೆಂಬಲಿಸುವ ಸಂಭಾವ್ಯ ಕ್ರಮಗಳನ್ನು ಪರಿಗಣಿಸುತ್ತಿದ್ದಾರೆ ಎಂದು ಹೇಳಿದರು ಕೊರೊನಾವೈರಸ್ ಏಕಾಏಕಿ ಆದರೆ ಅದರ ನಿಖರವಾದ ಆರ್ಥಿಕ ಪರಿಣಾಮವನ್ನು ನಿರ್ಣಯಿಸಲು ಹೆಚ್ಚಿನ ಸಮಯ ಬೇಕಾಗುತ್ತದೆ. ನಾವು ತೆಗೆದುಕೊಳ್ಳಬಹುದಾದ ಕ್ರಮಗಳನ್ನು ಸಮನ್ವಯಗೊಳಿಸಲು ಪ್ರಾರಂಭಿಸುವುದು ಮುಖ್ಯವಾಗಿದೆ ಥಿಯೆರ್ರಿ ಬ್ರೆಟನ್ ಪ್ರವಾಸೋದ್ಯಮ ಕಾರುಗಳ ಎಲೆಕ್ಟ್ರಾನಿಕ್ಸ್ ಹೆಲ್ತ್\\u200cಕೇರ್ ಮತ್ತು ಕೈಗಾರಿಕಾ ವಲಯಗಳಲ್ಲಿ ಆಟಿಕೆಗಳನ್ನು ಪಟ್ಟಿ ಮಾಡುವ ವರದಿಗಾರರಿಗೆ ಹೇಳಿದರು. ಆರ್ಥಿಕ ಹಾನಿಯ ಸ್ಪಷ್ಟ ಮೌಲ್ಯಮಾಪನ ಮಾಡಿದ ನಂತರವೇ ಕ್ರಮಗಳನ್ನು ತೆಗೆದುಕೊಳ್ಳಬಹುದು ಎಂದು ಬ್ರಸೆಲ್ಸ್\\u200cನಲ್ಲಿ ನಡೆದ ಇಯು ಉದ್ಯಮ ಮಂತ್ರಿಗಳ ಸಭೆಯೊಂದರಲ್ಲಿ ಅವರು ಹೇಳಿದರು, ಇಯು ಈ ವಿಷಯವನ್ನು ಒಂದು ತಿಂಗಳ ಅವಧಿಯಲ್ಲಿ ಮತ್ತೆ ಚರ್ಚಿಸಲಿದೆ ಎಂದು ಹೇಳಿದರು\",0\\n\"ಫೈಲ್ ಫೋಟೋ ಗೋಲ್ಡ್ಮನ್ ಸ್ಯಾಚ್ಸ್ ಕಂಪನಿಯ ಲಾಂ New ನವು ನ್ಯೂಯಾರ್ಕ್ನ ನ್ಯೂಯಾರ್ಕ್ ಸ್ಟಾಕ್ ಎಕ್ಸ್ಚೇಂಜ್ ಎನ್ವೈಎಸ್ಇಯ ನೆಲದ ಮೇಲೆ ಕಂಪನಿಯ ಜಾಗದಲ್ಲಿ ಕಂಡುಬರುತ್ತದೆ ನೀವು ಏಪ್ರಿಲ್ 17 2018 REUTERS ಬ್ರೆಂಡನ್ ಮೆಕ್\\u200cಡೆರ್ಮಿಡ್ ಫೈಲ್ ಫೋಟೋ ರಾಯಿಟರ್ಸ್ ನೀವು ಎಸ್ ಕಂಪನಿಗಳು 2020 ರಲ್ಲಿ ಯಾವುದೇ ಗಳಿಕೆಯ ಬೆಳವಣಿಗೆಯನ್ನು ಉಂಟುಮಾಡುವುದಿಲ್ಲ ಕೊರೊನಾವೈರಸ್ ಚೀನಾವನ್ನು ಮೀರಿ ಜಾಗತಿಕ ಬೆಳವಣಿಗೆಗೆ ಅಪಾಯಗಳನ್ನು ಹೆಚ್ಚಿಸುತ್ತಿದೆ ಎಂದು ಗೋಲ್ಡ್ಮನ್ ಸ್ಯಾಚ್ಸ್ ಗುರುವಾರ ಹೇಳಿದ್ದಾರೆ, ಮೊದಲ ತ್ರೈಮಾಸಿಕದಲ್ಲಿ ಚೀನಾದ ಆರ್ಥಿಕ ಚಟುವಟಿಕೆಯ ತೀವ್ರ ಕುಸಿತವನ್ನು ಇತ್ತೀಚಿನ ಮುನ್ಸೂಚನೆಯು ಪ್ರತಿಬಿಂಬಿಸುತ್ತದೆ ಎಂದು ಎಸ್ ರಫ್ತುದಾರರಿಗೆ ಸರಬರಾಜು ಸರಪಳಿ ಅಡೆತಡೆಗಳು ಮತ್ತು ದೇಶೀಯ ಆರ್ಥಿಕ ಚಟುವಟಿಕೆಯ ಮಂದಗತಿ ಗೋಲ್ಡ್ಮನ್ ಹೇಳಿದರು ಎಸ್\\u200cಪಿ 500 ಸದ್ಯಕ್ಕೆ 2900 ಪಾಯಿಂಟ್\\u200cಗಳ ವಹಿವಾಟು ನಡೆಸಲಿದೆ ಎಂದು ನಿರೀಕ್ಷಿಸುತ್ತದೆ, ಇದು ಫೆಬ್ರವರಿ 19 ರಂದು ಸೂಚ್ಯಂಕದ ದಾಖಲೆಯ 14% ಕ್ಕಿಂತ ಕಡಿಮೆ ಇದೆ. ನೀವು ಎಸ್ 10 ವರ್ಷದ ಖಜಾನೆ ಇಳುವರಿ ಯುಎಸ್ 10 ವೈಟಿ ಆರ್ಆರ್ 1 ಕ್ಕೆ ಇಳಿಯುತ್ತದೆ. ಇಳುವರಿ 1 5 ಗೋಲ್ಡ್ಮ್ಯಾನ್\\u200cಗೆ ಏರಿದರೆ ವರ್ಷಾಂತ್ಯದ ವೇಳೆಗೆ ಎಸ್\\u200cಪಿ 500 3400 ಕ್ಕೆ ತಲುಪಲಿದೆ ಎಂದು ನಿರೀಕ್ಷಿಸುತ್ತದೆ\",1\\n\"ಪ್ರಪಂಚದಾದ್ಯಂತ ಪ್ರಯಾಣಿಸುತ್ತಿರುವಾಗ ಮುಖವಾಡಗಳನ್ನು ಧರಿಸಲು ಅನೇಕರು ಕೊರೋನವೈರಸ್ ಸಲಹೆಯನ್ನು ಹಂಚಿಕೊಳ್ಳಲು ಸೆಲೆಬ್ರಿಟೀಸ್ ಸರ್ಕಾರಗಳು ಮತ್ತು ಏಜೆನ್ಸಿಗಳನ್ನು ಸೇರಿಕೊಂಡಿದ್ದಾರೆ ಕಿಮ್ ಕಾರ್ಡಶಿಯಾನ್ ಅವರು ವಿಶ್ವದಾದ್ಯಂತ ನಡೆಯುತ್ತಿರುವ ಕರೋನವೈರಸ್ ಏಕಾಏಕಿ ಮಧ್ಯೆ ಟ್ರಾವೆಲ್ ಮಾಸ್ಕ್ ಧರಿಸಿದವರಲ್ಲಿ ಮೊದಲಿಗರು. ನಾಲ್ವರ ತಾಯಿ ಬಹಿರಂಗಪಡಿಸಿದ್ದಾರೆ ಫೇಸ್ ಮಾಸ್ಕ್ ಮತ್ತು ವಿಟಮಿನ್ ಸಿ ಟ್ಯಾಬ್ಲೆಟ್\\u200cಗಳು ಮತ್ತು ನೈರ್ಮಲ್ಯ ಕೈಗವಸುಗಳನ್ನು ಒಳಗೊಂಡಿರುವ ತುರ್ತು ಕಿಟ್\\u200cನೊಂದಿಗೆ ಅವಳು ಪ್ರಯಾಣಿಸುತ್ತಿದ್ದಳು, ಚೀನಾದ ನಗರವಾದ ವುಹಾನ್\\u200cನಲ್ಲಿ ಪ್ರಾರಂಭವಾದ ವೈರಸ್ ಭುಗಿಲೆದ್ದಿರುವುದರಿಂದ ಬೇಡಿಕೆಯನ್ನು ಉಳಿಸಿಕೊಳ್ಳಲು ಅವರಿಗೆ ಸಾಧ್ಯವಾಗಲಿಲ್ಲ ಎಂದು ಕಂಪನಿ ಆರೋಪಿಸಿದೆ. ಉದ್ದೇಶಪೂರ್ವಕವಾಗಿ ಮತ್ತು ಅದರ ಎಲ್ಲಾ ವಾಯು ಮುಖವಾಡಗಳು ಮತ್ತು ಅದರ ತುರ್ತು ಕಿಟ್\\u200cಗಳಲ್ಲಿ ಒಂದು 10 ಗಂಟೆಗಳಿಗಿಂತ ಕಡಿಮೆ ಅವಧಿಯಲ್ಲಿ ಮಾರಾಟವಾಗಿದೆ ಎಂದು ತಜ್ಞರು ಕರೋನವೈರಸ್ ಏಕಾಏಕಿ ಟಿಪ್ಪಿಂಗ್ ಪಾಯಿಂಟ್ ಅನ್ನು ಎಚ್ಚರಿಸಿದ್ದಾರೆ ಜಾಗತಿಕ ಸೋಂಕಿನ ಸಂಖ್ಯೆ ಈಗ 79441 ಕ್ಕೆ ತಲುಪಿದೆ ಮತ್ತು 2620 ಕೊಲೆಗಾರ ವೈರಸ್\\u200cನಿಂದ ಸಾವನ್ನಪ್ಪಿದೆ ಇತ್ತೀಚಿನ ದಿನಗಳಲ್ಲಿ ಪ್ರಕರಣಗಳು ಹೆಚ್ಚಾಗಿದೆ\",1\\n\"ಜಪಾನ್\\u200cನ ಕ್ರೂಸ್ ಹಡಗಿನಿಂದ 119 ಜನರನ್ನು ಸ್ಥಳಾಂತರಿಸಲಾಗಿದ್ದು, ಡೈಮಂಡ್ ಪ್ರಿನ್ಸೆಸ್ 76 ಮಂದಿಯನ್ನು ಚೀನಾದ ವುಹಾನ್\\u200cನಿಂದ ಪರಿಹಾರ ಮಿಲಿಟರಿ ವಿಮಾನದಿಂದ ವಾಪಸ್ ಕರೆತರಲಾಯಿತು. ಗಮನಾರ್ಹವಾಗಿ ಭಾರತವು 36 ವಿದೇಶಿ ಪ್ರಜೆಗಳನ್ನು ವುಹಾನ್\\u200cನಿಂದ ಸ್ಥಳಾಂತರಿಸಿದೆ ಮತ್ತು ಜಪಾನ್\\u200cನಿಂದ 5 ಜನರನ್ನು ಜಪಾನ್\\u200cನಿಂದ ಸ್ಥಳಾಂತರಿಸಲಾಗಿದೆ. ಶ್ರೀಲಂಕಾ ಮತ್ತು ನೇಪಾಳ ದಕ್ಷಿಣ ಆಫ್ರಿಕಾ ಮತ್ತು ಪೆರುವಿನಿಂದ ತಲಾ ಒಬ್ಬರು ಮುಖವಾಡ ಕೈಗವಸುಗಳು ಮತ್ತು ಇತರ ತುರ್ತು ವೈದ್ಯಕೀಯ ಉಪಕರಣಗಳನ್ನು ಒಳಗೊಂಡ 15000 ಕೆಜಿ ವೈದ್ಯಕೀಯ ಸಹಾಯವನ್ನು ಸಹ ಸಾಗಿಸಿದ್ದಾರೆ. ಭಾರತವು ವೂಹಾನ್ ನಿಂದ 3 ಪರಿಹಾರ ವಿಮಾನಗಳನ್ನು 723 ಭಾರತೀಯ ಪ್ರಜೆಗಳು ಮತ್ತು 43 ವಿದೇಶಿ ಪ್ರಜೆಗಳನ್ನು ಸ್ಥಳಾಂತರಿಸಿದೆ. ಜಪಾನ್\\u200cನ ಸಂದರ್ಭದಲ್ಲಿ ವಿಶೇಷ ಏರ್ ಇಂಡಿಯಾ ವಿಮಾನವು ಟೋಕಿಯೊದಿಂದ ಗುರುವಾರ ದೆಹಲಿಗೆ ಬಂದಿಳಿದಿದ್ದು, 119 ಭಾರತೀಯ ಪ್ರಜೆಗಳು 113 ಸಿಬ್ಬಂದಿ ಮತ್ತು 6 ಪ್ರಯಾಣಿಕರನ್ನು ಜಪಾನ್\\u200cನ ಯೊಕೊಹಾಮಾದಲ್ಲಿ ಹಡಗಿನಲ್ಲಿದ್ದ ಡೈಮಂಡ್ ಪ್ರಿನ್ಸೆಸ್ ಕ್ರೂಸ್ ಹಡಗಿನಲ್ಲಿದ್ದರು. ಎಲ್ಲಾ ಸ್ಥಳಾಂತರಿಸಿದವರು ಎ 14 ದಿನಕ್ಕೆ ಒಳಗಾಗುತ್ತಾರೆ ಮನೇಸರ್ ಹರಿಯಾಣದಲ್ಲಿ ಭಾರತೀಯ ಸೇನೆಯು ಸ್ಥಾಪಿಸಿದ ಸಂಪರ್ಕತಡೆಯನ್ನು ಸೌಲಭ್ಯದಲ್ಲಿ ಸಂಪರ್ಕತಡೆಯನ್ನು ಎಂಇಎ ಹೇಳಿಕೆಯೊಂದರಲ್ಲಿ ತಿಳಿಸಿದೆ. ಜಪಾನ್ ಸರ್ಕಾರವು ಜಾರಿಗೆ ತಂದಿರುವ ವಿಸ್ತೃತ ಸಂಪರ್ಕತಡೆಯನ್ನು ಪೂರ್ಣಗೊಳಿಸಲು ಕ್ರೂಸ್ ಹಡಗಿನಲ್ಲಿ ತಮ್ಮ ವಾಸ್ತವ್ಯವನ್ನು ಮುಂದುವರೆಸಬೇಕೆಂದು ಸರ್ಕಾರದ ಪ್ರಕಾರ ತಮ್ಮ ಆಶಯವನ್ನು ತಿಳಿಸಿದರು. ಒಟ್ಟು 138 ಭಾರತೀಯ ಪ್ರಜೆಗಳಲ್ಲಿ ಮೂಲತಃ ಬೋರ್ಡ್ ಡೈಮಂಡ್ ಪ್ರಿನ್ಸೆಸ್ 16 ಭಾರತೀಯ ಸಿಬ್ಬಂದಿ ಕರೋನವೈರಸ್ 2019 ಸಿಒವಿಐಡಿ 19 ಗಾಗಿ ಧನಾತ್ಮಕ ಪರೀಕ್ಷೆ ನಡೆಸಿದ್ದಾರೆ ಮತ್ತು ಜಪಾನ್\\u200cನ ಕಡಲಾಚೆಯ ವೈದ್ಯಕೀಯ ಸೌಲಭ್ಯಗಳಲ್ಲಿ ಅಗತ್ಯ ವೈದ್ಯಕೀಯ ಆರೈಕೆ ಮತ್ತು ಚಿಕಿತ್ಸೆಯನ್ನು ಪಡೆಯುತ್ತಿದ್ದಾರೆ\",1\\n\"ಕೆಲವೇ ದಿನಗಳಲ್ಲಿ ದೇಶದ ಮೂರನೇ ಚುನಾವಣೆಯೊಂದಿಗೆ 0715ET ಅನ್ನು ನವೀಕರಿಸಿ ಇಸ್ರೇಲ್ ಇಟಲಿ ಮತ್ತು ದಕ್ಷಿಣ ಕೊರಿಯಾವನ್ನು ದೂಷಿಸುವ ಮೂಲಕ ದೇಶದಲ್ಲಿ ದೃ confirmed ೀಕರಿಸಲ್ಪಟ್ಟ ಕರೋನವೈರಸ್ ಪ್ರಕರಣಗಳನ್ನು ಅಂಗೀಕರಿಸುವುದನ್ನು ತಪ್ಪಿಸಲು ಗಂಭೀರ ನೋವುಗಳನ್ನು ತೆಗೆದುಕೊಳ್ಳುತ್ತಿದೆ. ಪ್ರತಿ ಪ್ರಕರಣವು ಇತ್ತೀಚೆಗೆ ಹಿಂದಿರುಗಿದ ಪ್ರಯಾಣಿಕರನ್ನು ಒಳಗೊಂಡಿತ್ತು ಆ ಎರಡು ದೇಶಗಳಲ್ಲಿ ಒಂದಾದ ಯುಎಸ್ ಇಕ್ವಿಟಿ ಫ್ಯೂಚರ್\\u200cಗಳು ಗುರುವಾರ ಬೆಳಿಗ್ಗೆ ಮತ್ತೊಂದು ಕಡಿಮೆ ಮುಕ್ತತೆಯನ್ನು ತೋರಿಸುತ್ತಿವೆ, ಕಳೆದ ರಾತ್ರಿ ಅಧ್ಯಕ್ಷ ಟ್ರಂಪ್ ಅವರ ಪತ್ರಿಕಾಗೋಷ್ಠಿಯಲ್ಲಿ ವಾಪೊ ಅಡ್ಡಿಪಡಿಸಿದ ನಂತರ ಅಪರಿಚಿತ ಮೂಲದ ಮೊದಲ COVID 19 ಪ್ರಕರಣವನ್ನು ವರದಿ ಮಾಡಲು ಸಿಡಿಸಿ ನಂತರ ದೃ confirmed ಪಡಿಸಿತು, ಇದು ಸೋನೊಮಾ ಕೌಂಟಿಯಲ್ಲಿದೆ ಮತ್ತು ಆಗಿರಬಹುದು ಅಮೆರಿಕದ ಮೊದಲ ಸಮುದಾಯ ಏಕಾಏಕಿ ಕೇಂದ್ರಬಿಂದುವಾಗಿದೆ ದಕ್ಷಿಣ ಕೊರಿಯಾವು ಒಂದೇ ದಿನದಲ್ಲಿ ಅತಿ ಹೆಚ್ಚು ಹೊಸ ಕರೋನವೈರಸ್ ಪ್ರಕರಣಗಳನ್ನು ವರದಿ ಮಾಡಿದ ಬೆನ್ನಲ್ಲೇ, ಚೀನಾದ ಹೊರಗೆ ವರದಿಯಾದ ಹೊಸ ಪ್ರಕರಣಗಳ ಸಂಖ್ಯೆ ಮತ್ತೊಮ್ಮೆ ಚೀನಾದೊಳಗೆ ಮೀರಿದೆ. ಬ್ರೆಜಿಲ್ ದಕ್ಷಿಣ ಅಮೆರಿಕಾದಲ್ಲಿ ಮೊದಲ ಪ್ರಕರಣವನ್ನು ನಿನ್ನೆ ತಂದುಕೊಟ್ಟಿದೆ ಆಸ್ಟ್ರೇಲಿಯಾದಲ್ಲಿ ಅಂಟಾರ್ಕ್ಟಿಕಾವನ್ನು ಹೊರತುಪಡಿಸಿ ಪ್ರತಿಯೊಂದು ಖಂಡಕ್ಕೂ ವೈರಸ್ ಇದು ಕಿವಿಯ ಸಮಯದಲ್ಲಿ ಬೆರಳೆಣಿಕೆಯಷ್ಟು ಪ್ರಕರಣಗಳನ್ನು ದೃ confirmed ಪಡಿಸಿತು ಏಕಾಏಕಿ ದಿನಗಳು ಆದರೆ ಶಾಂತವಾಗಿದ್ದವು ಪಿಎಂ ಸ್ಕಾಟ್ ಮಾರಿಸನ್ ಗುರುವಾರ ಭಯಂಕರ ಭಾಷಣ ಎಂದು ಕೆಲವರು ವಿವರಿಸಬಹುದು, ಜಗತ್ತು ಶೀಘ್ರದಲ್ಲೇ ಕರೋನವೈರಸ್ನ ಸಾಂಕ್ರಾಮಿಕ ಹಂತವನ್ನು ಪ್ರವೇಶಿಸಲಿದೆ ಎಂಬ ಎಲ್ಲ ಸೂಚನೆಗಳಿವೆ.\",0\\nಅನೇಕ ಸಾಂಪ್ರದಾಯಿಕ ಚಿಲ್ಲರೆ ವ್ಯಾಪಾರಿಗಳು ಕಳಪೆ ಫಲಿತಾಂಶಗಳನ್ನು ವರದಿ ಮಾಡಿದ ಅವಧಿಯಲ್ಲಿ ಫೋನ್\\u200cಗಳು ಮತ್ತು ಉಪಕರಣಗಳಿಗೆ ಬಲವಾದ ಬೇಡಿಕೆಯನ್ನು ಉಲ್ಲೇಖಿಸಿ ರಜಾದಿನಗಳಲ್ಲಿ ಮಾರಾಟ ಹೆಚ್ಚಾಗಿದೆ ಎಂದು ಬೆಸ್ಟ್ ಬೈ ಬಿಬಿವೈ 0 35 ಹೇಳಿದೆ. ನಿಮ್ಮ ಆನ್\\u200cಲೈನ್ ಮಾರಾಟವು ಕಳೆದ ವರ್ಷದ ಇದೇ ತ್ರೈಮಾಸಿಕಕ್ಕೆ ಹೋಲಿಸಿದರೆ ಸುಮಾರು 19 ರಿಂದ 3 52 ಬಿಲಿಯನ್ ಹೆಚ್ಚಾಗಿದೆ. ಹೆಚ್ಚಿನ ಸರಾಸರಿ ಆರ್ಡರ್ ಮೌಲ್ಯಗಳು ಮತ್ತು ಆನ್\\u200cಲೈನ್\\u200cನಲ್ಲಿ ಖರೀದಿಸುವ ಹೆಚ್ಚಿನ ವ್ಯಾಪಾರಿಗಳಿಗೆ ಕಂಪನಿಯು ಪ್ರಸಕ್ತ ಹಣಕಾಸು ವರ್ಷದಲ್ಲಿ ಫ್ಲಾಟ್\\u200cನ ಹೋಲಿಸಬಹುದಾದ ಮಾರಾಟವನ್ನು 2 ಕ್ಕೆ ವರದಿ ಮಾಡುವ ನಿರೀಕ್ಷೆಯಿದೆ ಮತ್ತು 6 ರಿಂದ 6 30 ರ ಪ್ರತಿ ಷೇರಿನ ದುರ್ಬಲಗೊಳಿಸಿದ ಆದಾಯವನ್ನು ವರದಿ ಮಾಡಿದೆ ಎಂದು ಕಂಪನಿಯು ಹೇಳಿದೆ. ಸಿಇಒ ಆಗಿ ಅಧಿಕಾರ ವಹಿಸಿಕೊಳ್ಳುವ ಮೊದಲು ಎಂಎಸ್ ಬ್ಯಾರಿ ಸಹವರ್ತಿ ಮಾಜಿ ಕಾರ್ಯನಿರ್ವಾಹಕರೊಂದಿಗೆ ಅನುಚಿತ ಪ್ರಣಯ ಸಂಬಂಧವನ್ನು ಹೊಂದಿದ್ದರು ಎಂದು ಕಳೆದ ಡಿಸೆಂಬರ್\\u200cನಲ್ಲಿ ಮಂಡಳಿಗೆ ತಂದಿದ್ದ ಆರೋಪದ ಬಗ್ಗೆ ತನಿಖೆ ನಡೆಸಲು ಹೊರಗಿನ ಕಾನೂನು ಸಂಸ್ಥೆಯನ್ನು ನೇಮಕ ಮಾಡಿಕೊಂಡಿದೆ ಎಂದು ಕಂಪನಿಯು ಹೇಳಿದೆ. ಆ ಸಮಯದಲ್ಲಿ ಬೆಸ್ಟ್ ಬೈ ಭವಿಷ್ಯ ನುಡಿದಿದೆ ವರ್ಷಕ್ಕೆ 1 ರಿಂದ 2 ರವರೆಗಿನ ಮಾರಾಟದ ಬೆಳವಣಿಗೆ,1\\n\"ಸರಕು ಸಾಗಣೆದಾರರಿಗೆ ಸ್ಥಿರತೆಯ ಹೊಸ ಅವಧಿಯನ್ನು ಒದಗಿಸುವ ಪ್ರಮುಖ ಮಾರುಕಟ್ಟೆಗಳಲ್ಲಿ ವ್ಯಾಪಾರದ ಶಾಂತಿಯನ್ನು ಹೊಂದಿರುವ ವಿಶ್ವದ ಸಾಗರ ಸಾಗಣೆ ಕಂಪನಿಗಳಿಗೆ ಇದು ಚೇತರಿಕೆಯ ವರ್ಷವಾಗಬೇಕಿತ್ತು. ಕಂಟೈನರ್ ಶಿಪ್ಪಿಂಗ್ ಮಾರ್ಗಗಳು ಈ ತ್ರೈಮಾಸಿಕದಲ್ಲಿ ದಾಖಲೆಯ ವೇಗದಲ್ಲಿ ಹಡಗುಗಳನ್ನು ನಿಷ್ಕ್ರಿಯಗೊಳಿಸುತ್ತಿವೆ ಮತ್ತು ಡಜನ್ಗಟ್ಟಲೆ ನೌಕಾಯಾನಗಳನ್ನು ಕಡಿತಗೊಳಿಸಿವೆ ಯುರೋಪ್ ಮತ್ತು ಉತ್ತರ ಅಮೆರಿಕಾವನ್ನು ಚೀನಾಕ್ಕೆ ಸಂಪರ್ಕಿಸುವ ಪ್ರಮುಖ ವ್ಯಾಪಾರ ಮಾರ್ಗಗಳು ವಿಶ್ವದ ಅತಿದೊಡ್ಡ ಉತ್ಪಾದಕ ಉತ್ಪನ್ನಗಳ ರಫ್ತುದಾರ ಮತ್ತು ಕಚ್ಚಾ ಸರಕುಗಳ ಅತಿದೊಡ್ಡ ಆಮದುದಾರರಾಗಿದ್ದರೂ ಡೆನ್ಮಾರ್ಕ್\\u200cನ ಎಪಿ ಮೊಲ್ಲರ್ ಮಾರ್ಸ್ಕ್ ಎಎಸ್ ಮತ್ತು ಚೀನಾದ ಕಾಸ್ಕೊ ಶಿಪ್ಪಿಂಗ್ ಹೋಲ್ಡಿಂಗ್ಸ್\\u200cನಂತಹ ದೊಡ್ಡ ನಿರ್ವಾಹಕರು ತಮ್ಮ ಹಡಗುಗಳನ್ನು ಸಣ್ಣದಾಗಿ ನಿಲ್ಲಿಸುವ ಮೂಲಕ ಹಣಕಾಸಿನ ಸಂಖ್ಯೆಯನ್ನು ಹೀರಿಕೊಳ್ಳಬಹುದು ಚೀನಾದೊಂದಿಗಿನ ವ್ಯವಹಾರದ ಮೇಲೆ ಹೆಚ್ಚು ಅವಲಂಬಿತವಾಗಿರುವ ಕಂಪೆನಿಗಳು ಮರೆಮಾಡಲು ಕಡಿಮೆ ಜಾಗವನ್ನು ಹೊಂದಿರುತ್ತವೆ, ಆದರೆ ಆ ಕಂಪನಿಗಳು ಬೆರಳೆಣಿಕೆಯಷ್ಟು ಹಡಗುಗಳನ್ನು ಹೊಂದಿರಬಹುದು ಆದರೆ ದೊಡ್ಡ ಮಾರ್ಗಗಳ ನೆರಳುಗಳಲ್ಲಿ ಪ್ರಾದೇಶಿಕ ವ್ಯಾಪಾರ ಪಥಗಳಲ್ಲಿನ ಜಾಗತಿಕ ವ್ಯಾಪಾರ ಶಟ್ಲಿಂಗ್ ಕಂಟೇನರ್\\u200cಗಳು ಮತ್ತು ಸರಕುಗಳ ನಿರ್ಣಾಯಕ ಭಾಗವನ್ನು ಅವು ದೊಡ್ಡದಾಗಿ ಹೊಂದಿವೆ ವೈರಸ್ ಮತ್ತು ಒಟ್ಟಾರೆ ವ್ಯಾಪಾರ ಮಂದಗತಿಯ ಕಾರಣದಿಂದಾಗಿ ಉದ್ಯಮದ ಭಾಗಗಳು ಸ್ಥಗಿತಗೊಂಡಿವೆ ಸರಕು ಮಾಲೀಕರಿಗೆ ಇಂಧನ ವೆಚ್ಚವನ್ನು ರವಾನಿಸಲು fficult 15 ಕ್ಕೂ ಹೆಚ್ಚು ಸಣ್ಣ ಕಂಟೇನರ್ ಹಡಗುಗಳ ಏಷ್ಯಾದ ಮಾಲೀಕರು ಹೇಳಿದರು\",0\\n\"ಕರೋನವೈರಸ್ ಸಾಂಕ್ರಾಮಿಕವು ಉದ್ಯಮದ ಪೂರೈಕೆ ಸರಪಳಿಯನ್ನು ಅಡ್ಡಿಪಡಿಸುವುದರಿಂದ ಆಟಿಕೆ ಕಂಪನಿಗಳು ಸಾಗಣೆ ಮತ್ತು ಹೊಸ ಉತ್ಪನ್ನ ಬಿಡುಗಡೆಗಳನ್ನು ವಿಳಂಬಗೊಳಿಸುತ್ತಿವೆ ಮತ್ತು ಚಿಲ್ಲರೆ ಆದೇಶಗಳನ್ನು ತುಂಬಲು ಹೆಣಗಾಡುತ್ತಿವೆ. ಚೀನಾದ ಕೆಲವು ಆಟಿಕೆ ಕಾರ್ಖಾನೆಗಳು ವಿಶ್ವದ 85 ಆಟಿಕೆಗಳನ್ನು ತಯಾರಿಸಲಾಗುತ್ತದೆ ಮತ್ತು ಇತರವುಗಳು ಒಂದು ಭಾಗದಲ್ಲಿ ಕಾರ್ಯನಿರ್ವಹಿಸುತ್ತಿವೆ ಕಾರ್ಮಿಕರ ಕೊರತೆ ಅಥವಾ ತಮ್ಮ ಉತ್ಪನ್ನಗಳನ್ನು ತಯಾರಿಸಲು ಕಚ್ಚಾ ವಸ್ತುಗಳು ಮತ್ತು ಅಚ್ಚುಗಳನ್ನು ಭದ್ರಪಡಿಸುವಲ್ಲಿನ ತೊಂದರೆಗಳಿಂದಾಗಿ ಸಾಮರ್ಥ್ಯವು ಉದ್ಯಮದ ಕಾರ್ಯನಿರ್ವಾಹಕರು ಮತ್ತು ವಿಶ್ಲೇಷಕರು ಕಳೆದ ವರ್ಷ ನಿಮ್ಮ ಎಸ್\\u200cನಲ್ಲಿ ಟಾಯ್ ಮಾರಾಟವು 4 ರಷ್ಟು ಕುಸಿದಿದೆ ಎಂದು ಸಂಶೋಧನಾ ಸಂಸ್ಥೆ ಎನ್\\u200cಪಿಡಿ ಗ್ರೂಪ್ ಇಂಕ್ ಹಸ್ಬ್ರೋ ಹೇಳಿದೆ. ಮುಂದಿನ ಕೆಲವು ವರ್ಷಗಳಲ್ಲಿ ಚೀನಾ ಮತ್ತು ಅದನ್ನು ಸುಮಾರು 50 ಕ್ಕೆ ಇಳಿಸುವ ಗುರಿ ಹೊಂದಿದೆ, ಕಾರ್ಖಾನೆಗಳು ಆಟಿಕೆಗಳನ್ನು ವೇಗವಾಗಿ ಮೊಳಗಿಸಲು ಪ್ರಾರಂಭಿಸಿದರೂ ಸಹ, ಮತ್ತೊಂದು ಸವಾಲು ಅವುಗಳನ್ನು ಚೀನಾದಿಂದ ಹೊರತೆಗೆಯಲಿದೆ ಏಕೆಂದರೆ ಆಟಿಕೆಗಳು ಐಫೋನ್\\u200cಗಳು ಮತ್ತು ಇತರ ಗ್ರಾಹಕ ಉತ್ಪನ್ನಗಳೊಂದಿಗೆ ಸಾರಿಗೆಗಾಗಿ ಸ್ಪರ್ಧಿಸಬೇಕಾಗುತ್ತದೆ\",1\\n\"ಸ್ಟಾಕ್ಹೋಮ್ ಫೆಬ್ರವರಿ 27 ರಾಯಿಟರ್ಸ್ ಎಚ್\\u200cಎಂ ವಿಶ್ವದ ಎರಡನೇ ಅತಿದೊಡ್ಡ ಫ್ಯಾಷನ್ ಚಿಲ್ಲರೆ ವ್ಯಾಪಾರಿ ಗುರುವಾರ ಕರೋನವೈರಸ್ ಏಕಾಏಕಿ ಪೂರೈಕೆಯಲ್ಲಿ ಯಾವುದೇ ಪ್ರಮುಖ ವಿಳಂಬವನ್ನು ಕಾಣುತ್ತಿಲ್ಲ ಎಂದು ಹೇಳಿದರು. ಎಚ್\\u200cಎಂ ವಕ್ತಾರರನ್ನು ಪೂರೈಸುವಲ್ಲಿ ವೈರಸ್ ಯಾವುದೇ ದೊಡ್ಡ ವಿಳಂಬಕ್ಕೆ ಕಾರಣವಾಗುತ್ತದೆ ಎಂದು ನಾವು ಪ್ರಸ್ತುತ ನೋಡುತ್ತಿಲ್ಲ ಏಕಾಏಕಿ ಐಷಾರಾಮಿ ಕೈಚೀಲ ತಯಾರಕ ಹರ್ಮ್ಸ್ ಬುಧವಾರ ಹೇಳಿದ್ದು, ಏಷ್ಯಾದ ಅನೇಕ ಬಟ್ಟೆ ಕಾರ್ಖಾನೆಗಳ ಮೂಲ ಸರಬರಾಜುಗಳಾದ ಚೀನಾ ಎಚ್\\u200cಎಂನಿಂದ ಫ್ಯಾಬ್ರಿಕ್ ಮತ್ತು ನೂಲಿನಂತಹ ಸರಬರಾಜು ಈ ತಿಂಗಳ ಮೂರನೇ ಒಂದು ಭಾಗವನ್ನು ಮುಚ್ಚಿದ ನಂತರ ಕ್ರಮೇಣ ಚೀನಾದಲ್ಲಿ ತನ್ನ ಮಳಿಗೆಗಳನ್ನು ಪುನಃ ತೆರೆಯುತ್ತಿದೆ. ಏಕಾಏಕಿ ಚೀನಾ 15 ಮುಚ್ಚಿದ ನಂತರ ಮುಚ್ಚಿದೆ\",1\\n\"ಕರೋನವೈರಸ್\\u200cನಿಂದ ಉಂಟಾದ ಬಲವಾದ ಬೇಡಿಕೆಯನ್ನು ಪೂರೈಸಲು ಸಾಕಷ್ಟು ಹ್ಯಾಂಡ್ ಸ್ಯಾನಿಟೈಸರ್ ಇದೆ ಎಂದು ವಿಶ್ವದ ಅತಿದೊಡ್ಡ ಇಲಿ ಕ್ಯಾಚರ್ ರೆಂಟೊಕಿಲ್ ಹೇಳಿದ್ದಾರೆ ಆದರೆ ಅದರ ಉತ್ಪನ್ನಗಳ ದಾಸ್ತಾನು ಮುಂದಿನ ಕೆಲವು ತಿಂಗಳುಗಳವರೆಗೆ ಮಾತ್ರ ಉಳಿಯುತ್ತದೆ ಎಂದು ಕೈ ತೊಳೆಯುವುದು ಮತ್ತು ಕೈ ಸ್ವಚ್ it ಗೊಳಿಸುವ ಸೇವೆಗಳಿಗಾಗಿ ಗ್ರಾಹಕರ ವಿಚಾರಣೆ ಪ್ರಬಲವಾಗಿದೆ ಎಂದು ರೆಂಟೊಕಿಲ್ ಹೇಳಿದ್ದಾರೆ ಏಕಾಏಕಿ ಉದ್ದೇಶಿಸಿ ಗುರುವಾರ ಹೂಡಿಕೆದಾರರಿಗೆ ನೀಡಿದ ಹೇಳಿಕೆಯಲ್ಲಿ ಇದು ಚೀನಾದಲ್ಲಿ ಸರಬರಾಜುದಾರರಿಂದ ಪಡೆದ ಹೆಚ್ಚಿನ ಉತ್ಪನ್ನಗಳನ್ನು ಮುಂದಿನ ಕೆಲವು ತಿಂಗಳುಗಳವರೆಗೆ ಅಸ್ತಿತ್ವದಲ್ಲಿರುವ ಷೇರುಗಳಿಂದ ಆವರಿಸಿದೆ ಎಂದು ರೆಂಟೊಕಿಲ್ ಹೇಳಿದ್ದು, ತೆರಿಗೆಗೆ ಮುಂಚಿನ ಹೊಂದಾಣಿಕೆಯ ಲಾಭವು 2 7 ಬಿಲಿಯನ್ ಆದಾಯದ ಮೇಲೆ 10 7 ರಿಂದ 340 9 ದಶಲಕ್ಷಕ್ಕೆ ಏರಿದೆ ಇದು ಬೆಳೆಯಿತು 9 8 ಷೇರುಗಳು 2 2 ರಿಂದ 506 8p ಗೆ ಏರಿಕೆಯಾಗಿರುವುದರಿಂದ ಕಂಪನಿಯು ನಿರೀಕ್ಷೆಗಳಿಗೆ ಅನುಗುಣವಾಗಿ ಕಾರ್ಯನಿರ್ವಹಿಸಿದೆ ಎಂದು ವಿಶ್ಲೇಷಕರು ಹೇಳಿದ್ದಾರೆ\",1\\n\"ನಿಮ್ಮ ಸಾಧನದಲ್ಲಿ ಮೀಡಿಯಾ ಪ್ಲೇಬ್ಯಾಕ್ ಬೆಂಬಲಿಸುವುದಿಲ್ಲ ಕರೋನವೈರಸ್ ಭಯದ ಮಧ್ಯೆ ವೆನಿಸ್ ಬೀದಿಗಳಲ್ಲಿ ಮಾಧ್ಯಮ ಶೀರ್ಷಿಕೆ ಫ್ರಾನ್ಸ್ ಕರೋನವೈರಸ್ ಸಾಂಕ್ರಾಮಿಕಕ್ಕೆ ಅಧ್ಯಕ್ಷ ಇಮ್ಯಾನ್ಯುಯೆಲ್ ಮ್ಯಾಕ್ರೋನ್ ಹೇಳುತ್ತಾರೆ ಆದರೆ ಯುರೋಪಿನಲ್ಲಿ ಕೆಟ್ಟ ಪೀಡಿತ ದೇಶ ಇಟಲಿ ತಪ್ಪುದಾರಿಗೆಳೆಯುವ ಸುದ್ದಿಯನ್ನು ಸೃಷ್ಟಿಸುತ್ತಿದೆ ಎಂದು ಇಟಲಿ 24 ರಲ್ಲಿ ಕೊರೋನವೈರಸ್ ಪ್ರಕರಣಗಳಲ್ಲಿ 25 ಏರಿಕೆ ದಾಖಲಿಸಿದೆ ಗಂಟೆಗಳು ಮತ್ತು ಸೋಂಕುಗಳು ಎರಡು ಉತ್ತರದ ಪ್ರದೇಶಗಳಲ್ಲಿನ ಏಕಾಏಕಿ ಕೇಂದ್ರೀಕೃತವಾಗಿ ಉಳಿದಿವೆ ಲೊಂಬಾರ್ಡಿ ಮತ್ತು ವೆನೆಟೊ ಇಮೇಜ್ ಕೃತಿಸ್ವಾಮ್ಯ ರಾಯಿಟರ್ಸ್ ಚಿತ್ರ ಶೀರ್ಷಿಕೆ ಲೊಂಬಾರ್ಡಿ ಗವರ್ನರ್ ಅಟಿಲಿಯೊ ಫೊಂಟಾನಾ ತಮ್ಮನ್ನು ಸಂಪರ್ಕತಡೆಗೆ ಒಳಪಡಿಸಿದ್ದಾರೆ ಬುಧವಾರ ವಿಶ್ವ ಆರೋಗ್ಯ ಸಂಸ್ಥೆ ಡಬ್ಲ್ಯುಎಚ್\\u200cಒ ಮೊದಲ ಬಾರಿಗೆ ವೈರಸ್ ಚೀನಾದ ಹೊರಗೆ ವೇಗವಾಗಿ ಹರಡುತ್ತಿದೆ ಎಂದು ಹೇಳಿದರು. ಹೆಚ್ಚಿನ ಬೆಳವಣಿಗೆಗಳಲ್ಲಿ ಡೆನ್ಮಾರ್ಕ್ ಎಸ್ಟೋನಿಯಾದಲ್ಲಿ ಮೊದಲ ಕರೋನವೈರಸ್ ಪ್ರಕರಣಗಳನ್ನು ಘೋಷಿಸಲಾಗಿದೆ ಮತ್ತು ರೊಮೇನಿಯಾ ರೊಮೇನಿಯನ್ ಅಧ್ಯಕ್ಷ ಕ್ಲಾಸ್ ಐಹಾನಿಸ್ ರೊಮೇನಿಯನ್ನರನ್ನು ಭಯಭೀತರಾಗದಂತೆ ಕೋರಿದ್ದಾರೆ. ಆತಂಕಕ್ಕೊಳಗಾದ ವ್ಯಾಪಾರಿಗಳು ಸೂಪರ್ಮಾರ್ಕೆಟ್ ಕಪಾಟನ್ನು ಖಾಲಿ ಮಾಡಿದ್ದಾರೆ ಮತ್ತು ಏಷ್ಯನ್ ಜನರನ್ನು ಬೆದರಿಸುತ್ತಾರೆ ಎಂಬ ವರದಿಗಳ ನಡುವೆ ಎರಡು ರೋಗಿಗಳು ಇಂಗ್ಲೆಂಡ್\\u200cನಲ್ಲಿ ಧನಾತ್ಮಕ ಪರೀಕ್ಷೆಯನ್ನು ನಡೆಸಿದ್ದಾರೆ. ಯುಕೆ ಪ್ರಕರಣಗಳನ್ನು 15 ಕ್ಕೆ ತಲುಪಿಸಲಾಗಿದೆ ಹಂಗೇರಿಯನ್ ಫುಟ್ಬಾಲ್ ತಂಡವು ಇಟಾಲಿಯನ್ ಕೋಚ್ ಗೈಸೆಪೆ ಸನ್ನಿನೊ ಮತ್ತು ಅವರ ಸಹಾಯಕ ಅಲೆಸ್ಸಾಂಡ್ರೊ ಇತ್ತೀಚಿನವರನ್ನು ತಾತ್ಕಾಲಿಕವಾಗಿ ಅಮಾನತುಗೊಳಿಸಿದೆ, ಅವರು ಇಟಾಲಿಯನ್ ವೈರಸ್ ವಾಹಕಗಳೊಂದಿಗೆ ಸಂಪರ್ಕ ಹೊಂದಿರಬಹುದೆಂಬ ಭಯದಿಂದ ಇತ್ತೀಚಿನ ದಿನಗಳಲ್ಲಿ ಆಸ್ಟ್ರಿಯಾ ಕ್ರೊಯೇಷಿಯಾ ಗ್ರೀಸ್ ನಾರ್ವೆ ಸ್ವಿಟ್ಜರ್ಲೆಂಡ್ ಜಾರ್ಜಿಯಾ ಮತ್ತು ಉತ್ತರ ಮ್ಯಾಸಿಡೋನಿಯಾ ತಮ್ಮ ಮೊದಲ ಪ್ರಕರಣಗಳನ್ನು ವರದಿ ಮಾಡಿದೆ ಅವರಲ್ಲಿ ಇಟಲಿಗೆ ಹೋಗಿದ್ದ ಜನರು ಇಟಲಿಯ ಸಾಂಕ್ರಾಮಿಕ ಪರಿಸ್ಥಿತಿ ಅನಿವಾರ್ಯವಲ್ಲ\",0\\n\"2019 ರ ಜನವರಿಯಿಂದ ಡಬ್ಲ್ಯುಟಿಐ ತನ್ನ ಕಡಿಮೆ ಬೆಲೆಯಲ್ಲಿ ಬುಧವಾರ ಮುಚ್ಚಲ್ಪಟ್ಟಿದೆ ಎಂದು ಥೆವಾಲ್ ಸ್ಟ್ರೀಟ್ ಜರ್ನಲ್ ವರದಿ ಮಾಡಿದ ನಂತರ ಗುರುವಾರ ಯುಎಸ್ ಮತ್ತು ಜಾಗತಿಕ ತೈಲ ಬೆಲೆಗಳು ಕುಸಿದವು. ಕೊರೊನಾವೈರಸ್ ಆರೋಗ್ಯ ಬಿಕ್ಕಟ್ಟಿನ ಕುರಿತಾದ ವರದಿಗಳು ಹದಗೆಟ್ಟಿದ್ದರಿಂದ ಹೂಡಿಕೆದಾರರು ಆರ್ಥಿಕ ಕುಸಿತದಿಂದಾಗಿ ತೈಲ ಬೇಡಿಕೆಗೆ ತುತ್ತಾಗುತ್ತಾರೆ ಎಂಬ ಆತಂಕ. ಹೆಚ್ಚಿನ ಕಥೆಗಳಿಗಾಗಿ ಬಿಸಿನೆಸ್ ಇನ್ಸೈಡರ್ ಮುಖಪುಟ ಡಬ್ಲ್ಯುಟಿಐ ಕಚ್ಚಾ ತನ್ನ ಹಿಂದಿನ ಮುಕ್ತಾಯದ ಬೆಲೆಯಿಂದ 2 71 ಅನ್ನು ಬ್ಯಾರೆಲ್\\u200cಗೆ 47 41 ಕ್ಕೆ ಇಳಿಸಿತು. ಆ ಕುಸಿತವನ್ನು ಹೆಚ್ಚು ನಾಟಕೀಯವಾಗಿ ಬುಧವಾರದ ಮುಕ್ತಾಯದ ಬೆಲೆಯು ನಿಮಗೆ 12 ತಿಂಗಳ ಕಡಿಮೆ ಎಂದು ಎಸ್ ಕಚ್ಚಾ ವಾಲ್ ಸ್ಟ್ರೀಟ್ ಜರ್ನಲ್ ಈ ಹಿಂದೆ ವರದಿ ಮಾಡಿದೆ. ಕಚ್ಚಾ ಜಾಗತಿಕ ಮಾನದಂಡವು ಗುರುವಾರ 2 96 ರಷ್ಟು ಕುಸಿದಿದ್ದು, ಬ್ಯಾರೆಲ್\\u200cಗೆ 51 58 ರ ವಹಿವಾಟು ನಡೆಸಿತು. ಇದು ಬುಧವಾರದಿಂದ ಬ್ರೆಂಟ್ 2 8 ಅನ್ನು 53 43 ಕ್ಕೆ ಮುಚ್ಚಿದಾಗ ಕುಸಿತವನ್ನು ವಿಸ್ತರಿಸಿತು. ವುಹಾನ್ ಕರೋನವೈರಸ್ ಜಾಗತಿಕವಾಗಿ ಹದಗೆಡುತ್ತಿರುವ ಬೆದರಿಕೆಯ ಸುತ್ತಲಿನ ಭಾವನೆಯಂತೆ ಮಾರಾಟವು ಬರುತ್ತದೆ\",0\\n\"ಕರೋನವೈರಸ್ ಹರಡುವ ಭೀತಿಯ ಮಧ್ಯೆ ಯುಎಸ್ ಸುತ್ತಮುತ್ತಲಿನ ಶಾಪರ್\\u200cಗಳು ಆಹಾರ ಶೌಚಾಲಯದ ಕಾಗದ ಮತ್ತು ನೀರಿನ ಮೇಲೆ ಸಂಗ್ರಹಿಸುತ್ತಿದ್ದಾರೆ. ಟಿವಿ ಸ್ಟೇಷನ್ ಕೆಐಟಿವಿ ಪ್ರಕಾರ 14 ದಿನಗಳ ಮೌಲ್ಯದ ತುರ್ತು ಸರಬರಾಜುಗಳನ್ನು ಹೊಂದಲು ಪ್ರೋತ್ಸಾಹಿಸಲಾಯಿತು. ಚೀನಾ ಮುಖ್ಯ ಭೂಪ್ರದೇಶದಲ್ಲಿ 78000 ಕ್ಕೂ ಹೆಚ್ಚು ಪ್ರಕರಣಗಳನ್ನು ಹೊಂದಿರುವ ಕರೋನವೈರಸ್ ಈ ಹಿಂದೆ ಹೋಮ್ಲ್ಯಾಂಡ್ ಸೆಕ್ಯುರಿಟಿ ಇಲಾಖೆಯೊಂದಿಗೆ ನ್ಯೂಯಾರ್ಕ್ ನಿಯತಕಾಲಿಕೆಗೆ ತಿಳಿಸಿದ್ದು, ಮೊದಲ 72 ನಿಮ್ಮ ಮೇಲಿದೆ ಎಂದರೆ ಜನರು ಆರಂಭದಲ್ಲಿ ಮೂರು ಪೂರ್ಣ ದಿನಗಳ ಮೌಲ್ಯದ ಸರಬರಾಜುಗಳನ್ನು ಸಂಗ್ರಹಿಸಬೇಕು ಎಂದು ಅಧ್ಯಕ್ಷ ಟ್ರಂಪ್ ಜನರಿಗೆ ಭರವಸೆ ನೀಡಿದರು ನಿನ್ನೆ ಯುಎಸ್ ಕರೋನವೈರಸ್ ಏಕಾಏಕಿ ಏನನ್ನು ತರುತ್ತದೆ ಎಂಬುದಕ್ಕೆ ಸಿದ್ಧವಾಗಿದೆ ಮತ್ತು ಅವರು ಉಪಾಧ್ಯಕ್ಷ ಮೈಕ್ ಪೆನ್ಸ್ ಅವರನ್ನು ದೇಶದ ಪ್ರಯತ್ನಗಳ ಉಸ್ತುವಾರಿ ವಹಿಸಿದ್ದಾರೆ\",0\\nಮಿಲಿಟರಿ ಶಸ್ತ್ರಾಸ್ತ್ರಗಳ ಬುಕಿಂಗ್ ಹಿಮ್ಮುಖ ಮತ್ತು ಆಟೊಗಳಿಗೆ ಕಡಿಮೆ ಬೇಡಿಕೆಯಿಂದಾಗಿ ಬಾಳಿಕೆ ಬರುವ ಸರಕುಗಳ ಆದೇಶಗಳು ಜನವರಿ ತಿಂಗಳಲ್ಲಿ ಸ್ವಲ್ಪ ಕುಸಿಯಿತು ಆದರೆ ವ್ಯಾಪಾರ ಹೂಡಿಕೆ ಇನ್ನೂ ಮೃದುವಾಗಿರುತ್ತದೆ ಮತ್ತು ಹರಡುವ ಕರೋನವೈರಸ್ನಿಂದ ಬಾಳಿಕೆ ಬರುವ ಸರಕುಗಳ ಆದೇಶಗಳಿಂದ ಜಾಗತಿಕ ಆರ್ಥಿಕತೆಗೆ ಉಂಟಾಗುವ ಅಡೆತಡೆಗಳ ಬೆಳಕಿನಲ್ಲಿ ಉಳಿಯುತ್ತದೆ. ಕಳೆದ ತಿಂಗಳು 0 2 ರಷ್ಟು ಮುಳುಗಿದೆ ಎಂದು ಮಾರ್ಕೆಟ್\\u200cವಾಚ್ ಸಮೀಕ್ಷೆ ನಡೆಸಿದ ಅರ್ಥಶಾಸ್ತ್ರಜ್ಞರು ಕನಿಷ್ಟ ಮೂರು ವರ್ಷಗಳ ಕಾಲ ಬಾಳಿಕೆ ಬರುವ ಸರಕು ಉತ್ಪನ್ನಗಳ ಆದೇಶದಲ್ಲಿ 1 ಕುಸಿತದ ಮುನ್ಸೂಚನೆ ನೀಡಿದ್ದಾರೆ ಎಂದು ಸರ್ಕಾರ ಹೇಳಿದೆ. ಕರೋನವೈರಸ್ ತೊಂದರೆಗಳಿಗೆ ಗ್ರಾಹಕರನ್ನು ಪೂರೈಸುವ ಎಸ್ ಕಂಪನಿಗಳನ್ನು ಓದಿ. ಏನಾಯಿತು ಆದೇಶಗಳು ಆಟೋಗಳಿಗೆ 0 8 ಕುಸಿದವು ಬಾಳಿಕೆ ಬರುವ ಸರಕುಗಳ ದೊಡ್ಡ ವಿಭಾಗಗಳಲ್ಲಿ ಒಂದಾಗಿದೆ ಕರೋನವೈರಸ್ ಜಾಗತಿಕ ಆರ್ಥಿಕ ಸಾಂಕ್ರಾಮಿಕ ರೋಗವಾಗಿ ಪರಿಣಮಿಸುತ್ತದೆ ಎಂಬ ಭಯ ಹೆಚ್ಚುತ್ತಿದೆ ಮಾರ್ಕೆಟ್ ಪ್ರತಿಕ್ರಿಯೆ ಡೌ ಜೋನ್ಸ್ ಕೈಗಾರಿಕಾ ಸರಾಸರಿ ಡಿಜೆಐಎ 0 46 ಮತ್ತು ಎಸ್\\u200cಪಿ 500 ಎಸ್\\u200cಪಿಎಕ್ಸ್ 0 38 ಗುರುವಾರ ವಹಿವಾಟಿನಲ್ಲಿ ಕಡಿಮೆ ತೆರೆಯಲು ಸಿದ್ಧವಾಗಿದೆ,0\\n\"ಜಪಾನ್\\u200cನಲ್ಲಿನ ಕರೋನವೈರಸ್ ಏಕಾಏಕಿ ವಿದ್ಯಾರ್ಥಿಗಳು ವಿಶ್ವ ನಿಯಮಿತವಾಗಿ ಮುನ್ನೆಚ್ಚರಿಕೆಗಳನ್ನು ತೆಗೆದುಕೊಳ್ಳುವುದರಿಂದ ಅವರ ನಿಯಮಿತವಾಗಿ ನಿಗದಿತ ಶಾಲೆಗೆ ಅಲುಗಾಡುವಿಕೆಗೆ ಒಳಗಾಗುತ್ತಾರೆ. Let ಟ್\\u200cಲೆಟ್ ಪ್ರಕಾರ, ಕರೋನವೈರಸ್ನ ಮತ್ತಷ್ಟು ಹರಡುವಿಕೆಯನ್ನು ಸ್ಕ್ವ್ಯಾಷ್ ಮಾಡುವ ಆಶಯವು ದೇಶಾದ್ಯಂತ ಸುಮಾರು 34847 ಶಾಲೆಗಳ ಮೇಲೆ ಪರಿಣಾಮ ಬೀರುತ್ತದೆ. ತರಗತಿಗಳ ವಿದ್ಯಾರ್ಥಿಗಳು ಕಥೆಯ ಸೈನ್ ಅಪ್ ಅನ್ನು ಎಂದಿಗೂ ತಪ್ಪಿಸಿಕೊಳ್ಳಬೇಡಿ ಜನರು ರಸಭರಿತ ಸೆಲೆಬ್ರಿಟಿ ಸುದ್ದಿಗಳಿಂದ ಬಲವಾದ ಮಾನವ ಹಿತಾಸಕ್ತಿ ಕಥೆಗಳವರೆಗೆ ಜನರು ಏನು ನೀಡಬೇಕೆಂಬುದರ ಬಗ್ಗೆ ನವೀಕೃತವಾಗಿರಿ. ಕೇಟ್ ಹಡ್ಸನ್ ಮತ್ತು ಗ್ವಿನೆತ್ ಪಾಲ್ಟ್ರೋ ಅವರಂತಹ ಮುಖವಾಡಗಳು ಏಕೆ ಕೊರೊನಾವೈರಸ್ ಅನ್ನು ತಡೆಗಟ್ಟಲು ಸಾಕಾಗುವುದಿಲ್ಲ ಇತರ ದೇಶಗಳಲ್ಲಿನ ಹರಡುವಿಕೆಯು ನಮ್ಮ ಕಾಳಜಿಯ ಮಟ್ಟವನ್ನು ಹೆಚ್ಚಿಸಿದೆ ಮತ್ತು ನಾವು ಇಲ್ಲಿ ಸಮುದಾಯವನ್ನು ಹರಡಲಿದ್ದೇವೆ ಎಂಬ ನಮ್ಮ ನಿರೀಕ್ಷೆಯ ಮಟ್ಟವನ್ನು ಹೆಚ್ಚಿಸಿದೆ ಎಂದು ಮೆಸ್ಸೊನಿಯರ್ ಹೇಳಿದರು, ನಾವು ಪ್ರತಿ ವಲಯದ ಜನರನ್ನು ಮತ್ತು ಅವರ ಕುಟುಂಬದ ಜನರನ್ನು ಯೋಜನೆಯನ್ನು ಪ್ರಾರಂಭಿಸಲು ಕೇಳುತ್ತಿದ್ದೇವೆ ಇದಕ್ಕಾಗಿ ಏಕೆಂದರೆ ಇತ್ತೀಚಿನ ದೇಶಗಳಿಂದ ನಾವು ನೋಡಿದಂತೆ ಸಮುದಾಯವನ್ನು ಹರಡಿದಾಗ ಅದು ಆ ಕೌಂಟರ್\\u200cಗಳಲ್ಲಿ ಹೊಡೆದಾಗ ಅಂದರೆ ಅದು ಸಾಕಷ್ಟು ವೇಗವಾಗಿ ಚಲಿಸಿದೆ ಆದ್ದರಿಂದ ಅಮೆರಿಕಾದ ಸಾರ್ವಜನಿಕರು ಸಿದ್ಧರಾಗಿದ್ದಾರೆ ಎಂದು ಖಚಿತಪಡಿಸಿಕೊಳ್ಳಲು ನಾವು ಬಯಸುತ್ತೇವೆ ಮೆಸ್ಸೊನಿಯರ್ ಅವರು ಚೀನಾ ಇಟಲಿ ಮತ್ತು ದಕ್ಷಿಣ ಕೊರಿಯಾದಂತೆ ಹರಡುವಿಕೆಯ ನಾಟಕೀಯವಾಗಿ ನೀವು ಎಸ್ ಅನುಭವಿಸುವಿರಾ ಎಂದು ಸಿಡಿಸಿ ಖಚಿತವಾಗಿಲ್ಲ ಎಂದು ಹೇಳಿದರು.\",0\\n\"ಉತ್ಪಾದನಾ ಪೂರೈಕೆ ಸರಪಳಿ ಮತ್ತು ಕಾರ್ಯಾಚರಣೆಗಳ ಗುಂಪಿನಲ್ಲಿ ಕೆಲಸ ಮಾಡಿದ ಅನುಭವಿ ಕಾರ್ಯನಿರ್ವಾಹಕರನ್ನು ಆಪಲ್ ಇಂಕ್ ಕಳೆದುಕೊಂಡಿದೆ ಮತ್ತು ಕಂಪನಿಯ ಹಲವು ಪ್ರಮುಖ ಸಾಧನಗಳ ಉತ್ಪಾದನೆಯಲ್ಲಿ ಪ್ರಮುಖ ಭಾಗವಹಿಸುವವರಾಗಿತ್ತು. ಉತ್ಪಾದನಾ ವಿನ್ಯಾಸದ ಉಪಾಧ್ಯಕ್ಷ ನಿಕ್ ಫೋರ್ಲೆನ್ಜಾ ಆಪಲ್\\u200cನಿಂದ ನಿವೃತ್ತರಾಗಿದ್ದರೆ, ಮತ್ತೊಬ್ಬರು ಡುಕೋ ಪಾಸ್ಮೂಯಿಜ್ ಕಾರ್ಯಾಚರಣೆಗಳಲ್ಲಿ ಕೆಲಸ ಮಾಡಿದ ಉಪಾಧ್ಯಕ್ಷರು ಮುಂದಿನ ದಿನಗಳಲ್ಲಿ ನಿರ್ಗಮನದ ಬಗ್ಗೆ ಚರ್ಚಿಸುತ್ತಿದ್ದಾರೆ, ಆಪಲ್ ಕಂಪನಿಯಾದ್ಯಂತ ಸುಮಾರು ನೂರು ಉಪಾಧ್ಯಕ್ಷರನ್ನು ಹೊಂದಿದೆ, ಅವರು ಮುಖ್ಯ ಕಾರ್ಯನಿರ್ವಾಹಕ ಅಧಿಕಾರಿ ಟಿಮ್ ಕುಕ್ ಮತ್ತು ಹಿರಿಯ ಕಾರ್ಯನಿರ್ವಾಹಕ ತಂಡವು ವಿಶ್ವದ ಹೆಚ್ಚಿನದನ್ನು ನಡೆಸಲು ಸಹಾಯ ಮಾಡುತ್ತಾರೆ ಲಾಭದಾಯಕ ಕಂಪನಿಗಳು 20 ವರ್ಷಗಳ ಹಿಂದೆ ಆಪಲ್ಗೆ ಸೇರಿದಾಗಿನಿಂದ ಕುಕ್ ಕಡಿಮೆ ವೆಚ್ಚದ ನುರಿತ ಕಾರ್ಮಿಕರ ಸಹಾಯದಿಂದ ಸಾಧನಗಳನ್ನು ತಯಾರಿಸಲು ಮತ್ತು ಆ ಉತ್ಪನ್ನಗಳನ್ನು ಪ್ರಪಂಚದಾದ್ಯಂತ ಸಾಗಿಸಲು ಚೀನಾವನ್ನು ಅವಲಂಬಿಸಿರುವ ಆಪಲ್ನ ಸರಬರಾಜು ಸರಪಳಿಯನ್ನು ಮಾರ್ಪಡಿಸಿದೆ. ಪಾಸ್ಮೂಯಿಜ್ ಅನೇಕ ವರ್ಷಗಳಿಂದ ಆಪಲ್ ಉತ್ಪಾದನಾ ಕಾರ್ಯಾಚರಣೆಯನ್ನು ಮುನ್ನಡೆಸಲು ಸಹಾಯ ಮಾಡಿತು ಪ್ರಮುಖ ಉತ್ಪನ್ನ ಐಫೋನ್\",1\\n\"ಕಂಪನಿಯು ಕಳೆದ ಐದು ವರ್ಷಗಳಲ್ಲಿ ಸುಮಾರು 200 ಮಳಿಗೆಗಳನ್ನು ಇಳಿಸಿದೆ. ಫೆಬ್ರವರಿ 1 ಕ್ಕೆ ಕೊನೆಗೊಂಡ ಜೆಸಿಪೆನ್ನಿಯ ಆರ್ಥಿಕ ವರ್ಷದಲ್ಲಿ ಕನಿಷ್ಠ ಒಂದು ವರ್ಷ ತೆರೆದಿರುವ ಅಂಗಡಿಗಳಲ್ಲಿನ ಮಾರಾಟವು 5% ಕುಸಿದಿದೆ. ಜೆಸಿಪೆನ್ನೆ ಕನಿಷ್ಠ ಒಂದು ವರ್ಷ ತೆರೆದಿರುವ ಅಂಗಡಿಗಳಲ್ಲಿನ ಮಾರಾಟವು ಕುಸಿಯುತ್ತದೆ ಎಂದು ನಿರೀಕ್ಷಿಸಿದೆ ಪ್ರಸಕ್ತ ಹಣಕಾಸು ವರ್ಷದಲ್ಲಿ ಮತ್ತೊಂದು 3 5 ರಿಂದ 4 5 ರಷ್ಟಿದೆ ಎಂದು ಕಂಪನಿಯು ಹೇಳಿದ್ದರೂ, ಜೆಸಿಪೆನ್ನೆ ಪ್ರತಿಸ್ಪರ್ಧಿ ಈ ತಿಂಗಳ ಆರಂಭದಲ್ಲಿ ಯೋಜನೆಗಳನ್ನು ಘೋಷಿಸಿತು. ಕಳೆದ ವರ್ಷ ದಾಖಲೆಯ ಸಂಖ್ಯೆಯ ಮಳಿಗೆಗಳು ಮುಚ್ಚಲ್ಪಟ್ಟವು. ಜೆಸಿಪೆನ್ನೆ 125 ಮಳಿಗೆಗಳನ್ನು ಮುಚ್ಚುವ ಯೋಜನೆಗಳನ್ನು ಈ ತಿಂಗಳ ಆರಂಭದಲ್ಲಿ ಮುಚ್ಚಿದ್ದಾರೆ.\",0\\n\"ಜಪಾನ್ ಪ್ರಸ್ತುತ ಮುಂಬರುವ ಒಲಿಂಪಿಕ್ ಕ್ರೀಡಾಕೂಟಕ್ಕೆ ಬೆದರಿಕೆಯೊಡ್ಡುತ್ತಿರುವ ಅನೇಕ ಕರೋನವೈರಸ್ ಏಕಾಏಕಿ ರೋಗಗಳನ್ನು ಎದುರಿಸುತ್ತಿದೆ ಮತ್ತು ಈಗ ಶಸ್ತ್ರಚಿಕಿತ್ಸೆಯ ಮುಖವಾಡದ ಕೊರತೆಯ ವದಂತಿಗಳ ಮಧ್ಯೆ ಗದ್ದಲಗಳು ಬೀದಿಗಳಲ್ಲಿ ಭುಗಿಲೆದ್ದಿವೆ. ಮುಖವಾಡಗಳ ಬೇಡಿಕೆ ಜಪಾನ್\\u200cನಾದ್ಯಂತ ಗಗನಕ್ಕೇರಿದೆ. ಈಗಾಗಲೇ ಉದ್ವಿಗ್ನ ಪರಿಸ್ಥಿತಿ ದುರದೃಷ್ಟವಶಾತ್ ಉದ್ವಿಗ್ನತೆ ಉಂಟಾಗಿದೆ ಮತ್ತು ಹಲವಾರು ಬೀದಿ ಜಗಳಗಳಲ್ಲಿ ತೊಡಗಿರುವ ಹಲವಾರು ಶಾಪರ್\\u200cಗಳು ಈಗ ಜಪಾನ್\\u200cನಾದ್ಯಂತ 200 ಕ್ಕೂ ಹೆಚ್ಚು ಕರೋನವೈರಸ್ ಪ್ರಕರಣಗಳು ವರದಿಯಾಗಿವೆ, ಇದುವರೆಗೆ ನಾಲ್ಕು ಸಾವುಗಳು ದಾಖಲಾಗಿವೆ. ಈ ವಾರ ಒಸಾಕಾದಲ್ಲಿ ಮಹಿಳೆಯೊಬ್ಬರು ದೇಶದ ಮೊದಲ ವರದಿಯಾದ ಪ್ರಕರಣವಾಗಿದೆ ಅನಾರೋಗ್ಯದಿಂದ ಸಂಪೂರ್ಣವಾಗಿ ಚೇತರಿಸಿಕೊಂಡಂತೆ ಕಾಣಿಸಿಕೊಂಡ ನಂತರ ಆಸ್ಪತ್ರೆಯಿಂದ ಬಿಡುಗಡೆಯಾದ ನಂತರ ವ್ಯಕ್ತಿಯನ್ನು ಮರುಸೃಷ್ಟಿಸಲಾಗಿದೆ\",0\\n\"ಎಎಫ್\\u200cಪಿ ಫೋಟೋ ಪಾಲ್ ಜೆ ರಿಚರ್ಡ್ಸ್ ಫೋಟೋ ಕ್ರೆಡಿಟ್ ಓದಬೇಕು ಪಾಲ್ ಜೆ ರಿಚರ್ಡ್ಸ್ ಎಎಫ್\\u200cಪಿ ಗೆಟ್ಟಿ ಇಮೇಜಸ್ ಟ್ರಂಪ್ ಆಡಳಿತವು ಹೊಸ ಶೂನ್ಯ ಸಹಿಷ್ಣು ನೀತಿಯಡಿ ತಮ್ಮ ಹೆತ್ತವರಿಂದ ಬೇರ್ಪಟ್ಟ ವಲಸೆ ಮಕ್ಕಳನ್ನು ಅನೇಕರು ತಮ್ಮ ಆಡಳಿತದ ಪಕ್ಕದಲ್ಲಿರುವ ಡೇರೆಗಳ ನಡುವೆ ಒಂದೇ ಫೈಲ್\\u200cನಲ್ಲಿ ನಡೆದುಕೊಂಡು ಹೋಗುವುದನ್ನು ತೋರಿಸಲಾಗಿದೆ ಟೊರ್ನಿಲ್ಲೊ ಟೆಕ್ಸಾಸ್\\u200cನಲ್ಲಿ ಮೆಕ್ಸಿಕನ್ ಗಡಿ ನೀವು ಎಸ್ ಜೂನ್ 18 2018 ರಾಯಿಟರ್ಸ್ ಮೈಕ್ ಬ್ಲೇಕ್ ವಲಸೆ ಮಕ್ಕಳನ್ನು ಟ್ರಂಪ್ ಆಡಳಿತವು ಹೊಸ ಶೂನ್ಯ ಸಹಿಷ್ಣು ನೀತಿಯಡಿ ಪೋಷಕರಿಂದ ಬೇರ್ಪಡಿಸಲಾಗಿದೆ. ಟೊರ್ನಿಲ್ಲೊ ಟೆಕ್ಸಾಸ್\\u200cನ ಮೆಕ್ಸಿಕನ್ ಗಡಿಯ ಪಕ್ಕದ ಡೇರೆಗಳಲ್ಲಿ ನೀವು ಎಸ್ ಜೂನ್ 18 2018 REUTERS ಮೈಕ್ ಬ್ಲೇಕ್ ವಲಸೆ ಮಕ್ಕಳನ್ನು ಟ್ರಂಪ್ ಆಡಳಿತವು ಹೊಸ ಶೂನ್ಯ ಸಹಿಷ್ಣು ನೀತಿಯಡಿ ತಮ್ಮ ಹೆತ್ತವರಿಂದ ಬೇರ್ಪಡಿಸಲಾಗಿದೆ ಎಂದು ತೋರಿಸಲಾಗಿದೆ, ಟೊರ್ನಿಲ್ಲೊ ಟೆಕ್ಸಾಸ್\\u200cನ ಮೆಕ್ಸಿಕನ್ ಗಡಿಯ ಪಕ್ಕದಲ್ಲಿರುವ ತಮ್ಮ ಕಾಂಪೌಂಡ್\\u200cನಲ್ಲಿರುವ ಡೇರೆಗಳ ನಡುವೆ ಒಂದೇ ಫೈಲ್\\u200cನಲ್ಲಿ ನಡೆಯುತ್ತಿರುವುದನ್ನು ತೋರಿಸಲಾಗಿದೆ ಯು ಎಸ್ ಜೂನ್ 18 2018 REUTERS ಮೈಕ್ ಬ್ಲೇಕ್ ವಲಸೆ ಮಕ್ಕಳು ಅವರಲ್ಲಿ ಅನೇಕರು ತಮ್ಮ ಪೋಷಕರಿಂದ ಹೊಸ ಶೂನ್ಯ ಸಹಿಷ್ಣು ನೀತಿಯಡಿಯಲ್ಲಿ ಬೇರ್ಪಟ್ಟಿದ್ದಾರೆ ಟ್ರಂಪ್ ಆಡಳಿತವು ಟೊರ್ನಿಲ್ಲೊ ಟೆಕ್ಸಾಸ್\\u200cನ ಮೆಕ್ಸಿಕನ್ ಗಡಿಯ ಪಕ್ಕದಲ್ಲಿರುವ ತಮ್ಮ ಕಾಂಪೌಂಡ್\\u200cನಲ್ಲಿ ಡೇರೆಗಳ ನಡುವೆ ಒಂದೇ ಫೈಲ್\\u200cನಲ್ಲಿ ನಡೆಯುತ್ತಿರುವುದನ್ನು ತೋರಿಸಲಾಗಿದೆ ನೀವು ಜೂನ್ 18 2018 REUTERS ಮೈಕ್ ಬ್ಲೇಕ್ ವಲಸೆ ಮಕ್ಕಳು ಇವರಲ್ಲಿ ಅನೇಕರು ಟ್ರಂಪ್ ಆಡಳಿತದಿಂದ ಹೊಸ ಶೂನ್ಯ ಸಹಿಷ್ಣು ನೀತಿಯಡಿ ಪೋಷಕರಿಂದ ಬೇರ್ಪಟ್ಟಿದ್ದಾರೆ ಟೊರ್ನಿಲ್ಲೊ ಟೆಕ್ಸಾಸ್\\u200cನ ಮೆಕ್ಸಿಕನ್ ಗಡಿಯ ಪಕ್ಕದಲ್ಲಿರುವ ತಮ್ಮ ಕಾಂಪೌಂಡ್\\u200cನಲ್ಲಿ ಡೇರೆಗಳ ನಡುವೆ ಒಂದೇ ಫೈಲ್\\u200cನಲ್ಲಿ ನಡೆಯುವುದನ್ನು ತೋರಿಸಲಾಗಿದೆ ನೀವು ಜೂನ್ 18 2018\",0\\n\"ಫೆಬ್ರವರಿ 27 ರಾಯಿಟರ್ಸ್ ಯು ಎಸ್ ಕಂಪನಿಗಳು 2020 ರಲ್ಲಿ ಯಾವುದೇ ಆದಾಯದ ಬೆಳವಣಿಗೆಯನ್ನು ಉಂಟುಮಾಡುವುದಿಲ್ಲ, ಏಕೆಂದರೆ ಕರೋನವೈರಸ್ ಚೀನಾವನ್ನು ಮೀರಿ ಜಾಗತಿಕ ಬೆಳವಣಿಗೆಗೆ ಅಪಾಯಗಳನ್ನು ಹೆಚ್ಚಿಸುತ್ತದೆ ಗೋಲ್ಡ್ಮನ್ ಸ್ಯಾಚ್ಸ್ ಗುರುವಾರ ಹೇಳಿದ್ದಾರೆ, ಎಸ್ಪಿ 500 ಸೂಚ್ಯಂಕ ಕಂಪನಿಗಳ ಪ್ರತಿ ಷೇರಿನ ಅಂದಾಜಿನ ಪ್ರಕಾರ ಬೇಸ್ಲೈನ್ \\u200b\\u200bಗಳಿಕೆಯನ್ನು 174 ರಿಂದ 165 ಕ್ಕೆ ಇಳಿಸಿದೆ ಒಂದು ವರ್ಷದ ಹಿಂದೆ ಲಾಭವು ಬದಲಾಗದೆ ಉಳಿಯುತ್ತದೆ ಎಂದು 2020 ಸೂಚಿಸುತ್ತದೆ, ಇತ್ತೀಚಿನ ಮುನ್ಸೂಚನೆಯು ಮೊದಲ ತ್ರೈಮಾಸಿಕದಲ್ಲಿ ಚೀನಾದ ಆರ್ಥಿಕ ಚಟುವಟಿಕೆಯ ತೀವ್ರ ಕುಸಿತವನ್ನು ಪ್ರತಿಬಿಂಬಿಸುತ್ತದೆ ಎಂದು ನಿಮಗಾಗಿ ಎಸ್ ರಫ್ತುದಾರರು ಪೂರೈಕೆ ಸರಪಳಿ ಅಡೆತಡೆಗಳು ಮತ್ತು ದೇಶೀಯ ಆರ್ಥಿಕ ಚಟುವಟಿಕೆಯ ಕುಸಿತವನ್ನು ನಿರೀಕ್ಷಿಸುತ್ತದೆ ಎಂದು ಗೋಲ್ಡ್ಮನ್ ಹೇಳಿದರು. ಎಸ್\\u200cಪಿ 500 ಸದ್ಯಕ್ಕೆ 2900 ಪಾಯಿಂಟ್\\u200cಗಳ ವಹಿವಾಟು ನಡೆಸಲಿದೆ, ಇದು ಫೆಬ್ರವರಿ 19 ರಂದು ಸೂಚ್ಯಂಕದ ದಾಖಲೆಯ 14% ಕ್ಕಿಂತಲೂ ಕಡಿಮೆಯಾಗಿದೆ. ನೀವು ಎಸ್ 10 ವರ್ಷದ ಖಜಾನೆ ಇಳುವರಿ 1 ಕ್ಕೆ ಇಳಿಯುತ್ತದೆ ಎಂದು uming ಹಿಸಿ ಇಳುವರಿ 1 ಕ್ಕೆ ಏರಿದರೆ ಗೋಲ್ಡ್ಮನ್ ಎಸ್\\u200cಪಿ 500 ರಿಂದ ನಿರೀಕ್ಷಿಸುತ್ತಾನೆ ವರ್ಷಾಂತ್ಯದ ವೇಳೆಗೆ 3400 ಅನ್ನು ಹಿಟ್ ಮಾಡಿ\",1\\n\"ನನ್ನ ಸಹೋದ್ಯೋಗಿಗಳು ಮತ್ತು ನಾನು ಕೆಲವು ದಿನಗಳ ಹಿಂದೆ ದಕ್ಷಿಣ ಕೊರಿಯಾಕ್ಕೆ ಬಂದಾಗ ವೈಸ್ ನ್ಯೂಸ್ ಟುನೈಟ್ಗಾಗಿ ಒಂದೆರಡು ಭಾಗಗಳನ್ನು ಚಿತ್ರೀಕರಿಸುವುದು ತಿಂಗಳುಗಳ ಹಿಂದೆ ಸ್ಥಾಪಿಸಲ್ಪಟ್ಟಿದ್ದು, ಕೊರೊನಾವೈರಸ್ಗೆ ಸಂಪೂರ್ಣವಾಗಿ ಸಂಬಂಧವಿಲ್ಲದ ಯಾವುದನ್ನಾದರೂ ವರದಿ ಮಾಡಿದೆ. ಚೀನಾಕ್ಕೆ ವ್ಯತಿರಿಕ್ತವಾಗಿ ಇದು ಹರಡುವಿಕೆಯ ಬಗ್ಗೆ ಅಪಾರದರ್ಶಕವಾಗಿದೆ ತಮ್ಮ ಗಡಿಯೊಳಗಿನ ರೋಗವು ಕೊರೋನವೈರಸ್ ಪ್ರಕರಣಗಳ ಬಗ್ಗೆ ಕೊರಿಯನ್ ಅಧಿಕಾರಿಗಳು ಆಶ್ಚರ್ಯಕರವಾಗಿ ತೆರೆದಿರುತ್ತಾರೆ ಮತ್ತು ರೋಗಿಗಳ ವಯಸ್ಸು ಮತ್ತು ಲಿಂಗಗಳು ಯಾವಾಗ ಮತ್ತು ಎಲ್ಲಿ ಸೋಂಕುಗಳು ಪತ್ತೆಯಾದವು ಎಂಬುದರ ಬಗ್ಗೆ ಆನ್\\u200cಲೈನ್\\u200cನಲ್ಲಿ ಮಾಹಿತಿಯನ್ನು ಪ್ರಕಟಿಸುತ್ತಿವೆ ಮತ್ತು ಇತರ ದತ್ತಾಂಶಗಳ ಆತಿಥ್ಯವನ್ನು ಓದಿ ಕರೋನವೈರಸ್ ಈಗ ಎಲ್ಲರಲ್ಲೂ ಸಾಂಕ್ರಾಮಿಕ ರೋಗವಾಗಿದೆ ಆದರೆ ಜನರು ಸಂಭಾಷಣೆಯ ವಿರಾಮದ ಸಮಯದಲ್ಲಿ ಜನರು ನಕ್ಷೆಯ ಸುತ್ತಲೂ ಸುಮ್ಮನೆ ಸ್ವೈಪ್ ಮಾಡುವುದನ್ನು ನಾನು ಗಮನಿಸಿದ್ದೇನೆ, ಜನರು ಬೇಸರಗೊಂಡಾಗ ಜನರು ಅರಿವಿಲ್ಲದೆ ಇನ್\\u200cಸ್ಟಾಗ್ರಾಮ್\\u200cನಲ್ಲಿ ಹಾರಾಡುತ್ತಾರೆ. ಕೊರಿಯಾದ ಸಹೋದ್ಯೋಗಿ ಸ್ಕ್ಯಾನ್ ನೋಡುವುದನ್ನು ನಾನು ನನ್ನ ಕುತ್ತಿಗೆಯನ್ನು ಕ್ರೇನ್ ಮಾಡುತ್ತಿರುವಾಗ ಇದು ಸಂಭವಿಸಿದೆ. ಯುನೈಟೆಡ್ ಸ್ಟೇಟ್ಸ್ ಮತ್ತು ದಕ್ಷಿಣ ಕೊರಿಯಾದ ಸಂಸ್ಕೃತಿಗಳನ್ನು ನಾವು ಹೊಂದಿರಬಹುದಾದ ಯಾವುದೇ ವ್ಯತ್ಯಾಸಗಳು ಒಂದು ಹಂತದಲ್ಲಿ ನಮ್ಮ ಎ ಹೆಚ್ಚಿನ ವೇಗದ ಮಾಹಿತಿಯ ಡಿಡಿಕ್ಷನ್ ನಾನು ಕೊರಿಯಾದ ಅಕ್ಷರಗಳನ್ನು ಪರದೆಯ ಮೇಲೆ ನಿಧಾನವಾಗಿ ಧ್ವನಿಸಿದೆ ಮತ್ತು ಇವುಗಳು ಸ್ಕೋರ್\\u200cಗಳಲ್ಲ ಎಂದು ಅರಿತುಕೊಂಡರು ಅವು ಕೊರಿಯಾದ ವಿವಿಧ ಸ್ಥಳಗಳ ಹೆಸರುಗಳು ಮತ್ತು ಸಂಖ್ಯೆಯು ಕರೋನಾ ಸೋಂಕಿನ ಪ್ರಮಾಣವಾಗಿದೆ\",1\\n\"ರಜಾದಿನಗಳನ್ನು ಯೋಜಿಸಿರುವ ಬ್ರಿಟ್\\u200cಗಳಿಗೆ ಸಾಕಷ್ಟು ಪ್ರಯಾಣದ ಸಲಹೆಗಳಿವೆ ಆದರೆ ನೀವು ಈಗಾಗಲೇ ರಜಾದಿನಗಳಲ್ಲಿದ್ದರೆ ಮತ್ತು ನಿಮ್ಮ ಗಮ್ಯಸ್ಥಾನದಲ್ಲಿ ಏಕಾಏಕಿ ಸಂಭವಿಸಿದಲ್ಲಿ ಏನು ಇದು ರಜಾದಿನಗಳಲ್ಲಿ ಈಗಾಗಲೇ ಬ್ರಿಟ್ಸ್\\u200cಗೆ ಮಾರ್ಗದರ್ಶನ ಮತ್ತು ಸಲಹೆಯನ್ನು ಒಳಗೊಂಡಿರುತ್ತದೆ. ಎಫ್\\u200cಸಿಒ ಸಲಹೆಯು ಮಹತ್ವದ್ದಾಗಿದೆ ನಿಮ್ಮ ರಜಾದಿನಗಳಲ್ಲಿ ಮುಂದೆ ಏನಾಗುತ್ತದೆ ಎಂಬುದರ ಮೇಲೆ ಪರಿಣಾಮ ಏಕಾಏಕಿ ಇದ್ದರೂ ನಿಮ್ಮ ಗಮ್ಯಸ್ಥಾನಕ್ಕೆ ಪ್ರಯಾಣಕ್ಕೆ ವಿರುದ್ಧವಾಗಿ ಎಫ್\\u200cಸಿಒ ತನ್ನ ಸಲಹೆಯನ್ನು ಬದಲಾಯಿಸದಿದ್ದರೆ ನಿಮ್ಮ ರಜಾದಿನವು ಸಾಮಾನ್ಯ ರೀತಿಯಲ್ಲಿ ಮುಂದುವರಿಯಬಹುದು ಆದರೆ ಅಗತ್ಯ ಪ್ರಯಾಣದ ವಿರುದ್ಧ ಸಲಹೆ ನೀಡಲು ನಿಮ್ಮ ರಜಾದಿನಗಳಲ್ಲಿ ಎಫ್\\u200cಸಿಒ ಸಲಹೆ ಬದಲಾದರೆ ನಿಯಮಗಳು ವಿಭಿನ್ನವಾಗಿವೆ ಕೆಲವು ಕಾರಣಗಳಿಂದಾಗಿ ಅವರು ವೆಚ್ಚವನ್ನು ಭರಿಸಲು ಸಾಧ್ಯವಾಗದಿದ್ದರೆ ನಿಮ್ಮ ವಿಮಾ ಪಾಲಿಸಿಯನ್ನು ಪರಿಶೀಲಿಸುವುದು ಯೋಗ್ಯವಾಗಿದೆ ಏಕೆಂದರೆ ಕೆಲವು ಪೂರೈಕೆದಾರರು ಪ್ರಯಾಣಕ್ಕೆ ಅಡ್ಡಿಪಡಿಸುವುದನ್ನು ಒಳಗೊಳ್ಳುತ್ತಾರೆ, ಇದರಲ್ಲಿ ಎಫ್\\u200cಸಿಒ ಸಲಹೆಯಲ್ಲಿ ಬದಲಾವಣೆ ಇರುತ್ತದೆ\",0\\n\"ಇಂದು ನಾವು ನನ್ನ ಸಹೋದ್ಯೋಗಿ ಮೇರಿ ಟೇ ಮೆಕ್\\u200cಡರ್ಮೊಟ್\\u200cರಿಂದ ಅಧ್ಯಕ್ಷೀಯ ಪ್ರಾಥಮಿಕಗಳಲ್ಲಿನ ಕ್ಯಾಲಿಫೋರ್ನಿಯಾದ ಪ್ರಭಾವದ ಬಗ್ಗೆ ಮತ್ತು ಕಾಲಾನಂತರದಲ್ಲಿ ಅದನ್ನು ಹೇಗೆ ಬದಲಾಯಿಸಲಾಗಿದೆ ಎಂಬುದರ ಕುರಿತು ರವಾನೆಯೊಂದಿಗೆ ಪ್ರಾರಂಭಿಸುತ್ತಿದ್ದೇವೆ. ಈ ವರ್ಷ ಕ್ಯಾಲಿಫೋರ್ನಿಯಾ ಮಾರ್ಚ್ 3 ರಂದು ಸೂಪರ್ ಮಂಗಳವಾರ ಮತದಾನ ಮಾಡುವ ರಾಜ್ಯಗಳ ಗುಂಪಿಗೆ ಸೇರುತ್ತದೆ. ನಾಮನಿರ್ದೇಶನ ಪ್ರಕ್ರಿಯೆಯಲ್ಲಿ 500 ಡೆಮಾಕ್ರಟಿಕ್ ಪ್ರತಿನಿಧಿಗಳು ನಿರ್ಣಾಯಕ ಪಾತ್ರ ವಹಿಸಲಿದ್ದಾರೆ 2016 ರಲ್ಲಿ ಕ್ಲಿಂಟನ್ ಕ್ಯಾಲಿಫೋರ್ನಿಯಾದಲ್ಲಿ ಬರ್ನಿ ಸ್ಯಾಂಡರ್ಸ್\\u200cರನ್ನು 53 ರಿಂದ 46 ಪ್ರತಿಶತದಷ್ಟು ಸೋಲಿಸಿದರು ಆದರೆ ಅದರ ಬಗ್ಗೆ ಕೆಲವು ವಿವಾದಗಳಿವೆ ಏಕೆಂದರೆ ಅಸೋಸಿಯೇಟೆಡ್ ಪ್ರೆಸ್ ಕ್ಲಿಂಟನ್\\u200cಗೆ ನಾಮನಿರ್ದೇಶನಗೊಳ್ಳಲು ಸಾಕಷ್ಟು ಪ್ರತಿನಿಧಿಗಳನ್ನು ಹೊಂದಿದೆ ಎಂದು ಘೋಷಿಸಿತು ಕ್ಯಾಲಿಫೋರ್ನಿಯಾ ಪ್ರಾಥಮಿಕ ದಿ ನ್ಯೂಯಾರ್ಕ್ ಟೈಮ್ಸ್ ಸ್ಯಾಕ್ರಮೆಂಟೊ ಕೌಂಟಿಯಲ್ಲಿ ವೈದ್ಯಕೀಯ ಆರೈಕೆ ಪಡೆಯುತ್ತಿದ್ದ ಸೋಲಾನೊ ಕೌಂಟಿಯ ನಿವಾಸಿಯೊಬ್ಬರು ಕರೋನವೈರಸ್ಗೆ ಧನಾತ್ಮಕ ಪರೀಕ್ಷೆ ನಡೆಸಿದರು, ಅಧಿಕಾರಿಗಳು ವಿದೇಶದಲ್ಲಿ ಪ್ರಯಾಣಿಸಲು ತಿಳಿದಿಲ್ಲದ ಮೊದಲ ಸೋಂಕು ಎಂದು ಅಧಿಕಾರಿಗಳು ಹೇಳುತ್ತಾರೆ. ನ್ಯೂಯಾರ್ಕ್ ಟೈಮ್ಸ್ ಕ್ಯಾಲಿಫೋರ್ನಿಯಾದ ವಸತಿ ಸಂಸ್ಥೆ ಹೆಣಗಾಡುತ್ತಿದೆ ಗೋವ್ ಗೇವಿನ್ ನ್ಯೂಸಮ್ ಅವರ ದೊಡ್ಡ ಗುರಿಗಳೊಂದಿಗೆ ಮುಂದುವರಿಯಿರಿ ನ್ಯೂಯಾರ್ಕ್ ಟೈಮ್ಸ್ ಸ್ಯಾನ್ ಡಿಯಾಗೋ ನ್ಯಾಯಾಧೀಶರು ಇನ್ಸ್ಟಾಕಾರ್ಟ್ ಎಫ್ ಎಂದು ತೀರ್ಪು ನೀಡಿದರು ತನ್ನ ಉದ್ಯೋಗಿಗಳನ್ನು ಸ್ವತಂತ್ರ ಗುತ್ತಿಗೆದಾರರೆಂದು ವರ್ಗೀಕರಿಸುವ ಮೂಲಕ ರಾಜ್ಯದ ಹೊಸ ಗಿಗ್ ಕಾರ್ಮಿಕ ಕಾನೂನನ್ನು ಅನುಸರಿಸಲು ಅನಾರೋಗ್ಯ\",0\\n\"ಬ್ರಸೆಲ್ಸ್ ರಾಯಿಟರ್ಸ್ ಯುರೋಪಿಯನ್ ಯೂನಿಯನ್ ಕೈಗಾರಿಕಾ ಆಯುಕ್ತರು ಗುರುವಾರ ಕರೋನವೈರಸ್ ಏಕಾಏಕಿ ತೀವ್ರವಾಗಿ ಹಾನಿಗೊಳಗಾದ ಕ್ಷೇತ್ರಗಳನ್ನು ಬೆಂಬಲಿಸಲು ಸಂಭಾವ್ಯ ಕ್ರಮಗಳನ್ನು ಪರಿಗಣಿಸುತ್ತಿದ್ದಾರೆ ಆದರೆ ಅದರ ನಿಖರವಾದ ಆರ್ಥಿಕ ಪರಿಣಾಮವನ್ನು ನಿರ್ಣಯಿಸಲು ಹೆಚ್ಚಿನ ಸಮಯ ಬೇಕಾಗುತ್ತದೆ ಎಂದು ಹೇಳಿದರು. ನಾವು ತೆಗೆದುಕೊಳ್ಳಬಹುದಾದ ಕ್ರಮಗಳನ್ನು ಸಂಘಟಿಸಲು ಪ್ರಾರಂಭಿಸುವುದು ಮುಖ್ಯ ಕೈಗಾರಿಕಾ ವಲಯಗಳಲ್ಲಿ ಪ್ರವಾಸೋದ್ಯಮ ಕಾರುಗಳ ಎಲೆಕ್ಟ್ರಾನಿಕ್ಸ್ ಹೆಲ್ತ್\\u200cಕೇರ್ ಮತ್ತು ಆಟಿಕೆಗಳನ್ನು ಪಟ್ಟಿ ಮಾಡುವ ವರದಿಗಾರರಿಗೆ ಥಿಯೆರ್ರಿ ಬ್ರೆಟನ್ ಬ್ರಸೆಲ್ಸ್\\u200cನಲ್ಲಿ ನಡೆದ ಇಯು ಕೈಗಾರಿಕಾ ಮಂತ್ರಿಗಳ ಸಭೆಯೊಂದರಲ್ಲಿ ಮಾತನಾಡುತ್ತಾ, ಆರ್ಥಿಕ ಹಾನಿಯ ಸ್ಪಷ್ಟ ಮೌಲ್ಯಮಾಪನ ಮಾಡಿದ ನಂತರವೇ ಕ್ರಮಗಳನ್ನು ತೆಗೆದುಕೊಳ್ಳಬಹುದು ಎಂದು ಹೇಳಿದರು. ಒಂದು ತಿಂಗಳ ಅವಧಿಯಲ್ಲಿ ಇಯು ಈ ಬಗ್ಗೆ ಮತ್ತೆ ಚರ್ಚಿಸುತ್ತದೆ ಎಂದು ಹೇಳಿದರು\",0\\n\"2019 ಗ್ರೂಪ್ ಕೋರ್ ಲಾಭ 2 088 ಬಿಲಿಯನ್ ಯುರೋಸ್ ಅಪ್ 7 4 ಫ್ರಾನ್ಸ್ ಕೋರ್ ಲಾಭ 15 15 ಹೆಚ್ಚಿನ ಉಳಿತಾಯದ ಭರವಸೆ ಕೊರೊನಾವೈರಸ್ ಎಮ್ಎ ಹೆಚ್ಚು ಆಯ್ದ ಸಿಇಒ ಆಗಿರುತ್ತದೆ ಸಿಇಒ ಮತ್ತು ಸಿಎಫ್\\u200cಒ ಕಾರೋವೈರಸ್ ಎಂಎ ಕುರಿತು ಕಾಮೆಂಟ್\\u200cಗಳನ್ನು ಸೇರಿಸುತ್ತದೆ ಡೊಮಿನಿಕ್ ವಿಡಾಲನ್ ಪ್ಯಾರಿಸ್ ಫೆಬ್ರವರಿ 27 ರಾಯಿಟರ್ಸ್ ಫ್ರಾನ್ಸ್\\u200cನ ಕ್ಯಾರಿಫೋರ್ ತನ್ನ ಉಳಿತಾಯವನ್ನು ಹೆಚ್ಚಿಸಿದೆ ಯುರೋಪ್ನ ಅತಿದೊಡ್ಡ ಚಿಲ್ಲರೆ ವ್ಯಾಪಾರಿ ಕಳೆದ ವರ್ಷ 1 ಬಿಲಿಯನ್ ಯುರೋ 1 1 ಬಿಲಿಯನ್ ವೆಚ್ಚ ಕಡಿತವನ್ನು ವಿತರಿಸಿದ್ದರಿಂದ ಗುರುವಾರ ಗುರಿ ಇ-ಕಾಮರ್ಸ್ ಹೂಡಿಕೆಗಳು ಮತ್ತು ಗ್ರಾಹಕರಿಗೆ ಬೆಲೆ ಕಡಿತಕ್ಕೆ ಸಹಾಯ ಮಾಡುತ್ತದೆ. ಕ್ಯಾರಿಫೋರ್ ವೆಚ್ಚಗಳು ಮತ್ತು ಉದ್ಯೋಗಗಳನ್ನು ಕಡಿತಗೊಳಿಸುವ ಮತ್ತು ಉತ್ತೇಜಿಸುವ ಐದು ವರ್ಷಗಳ ಯೋಜನೆಯ ಮಧ್ಯದಲ್ಲಿದೆ. ಅಮೆಜಾನ್ ಕ್ಯಾರಿಫೋರ್\\u200cನಂತಹ ಪ್ರಮುಖ ಆನ್\\u200cಲೈನ್ ಪ್ರತಿಸ್ಪರ್ಧಿಗಳಿಂದ ಸ್ಪರ್ಧೆಯನ್ನು ನಿಭಾಯಿಸಲು ಅನೇಕ ಗೆಳೆಯರಂತೆ ಇ-ಕಾಮರ್ಸ್ ಹೂಡಿಕೆ ಇರುವುದರಿಂದ 2020 ರ ಅಂತ್ಯದ ವೇಳೆಗೆ ವಾರ್ಷಿಕ ಆಧಾರದ ಮೇಲೆ 2 8 ಬಿಲಿಯನ್ ಯುರೋಗಳಷ್ಟು ವೆಚ್ಚ ಉಳಿತಾಯವನ್ನು 2020 ರ ಅಂತ್ಯದ ವೇಳೆಗೆ ಗುರಿಪಡಿಸಲಾಗಿದೆ ಎಂದು ಹೇಳಿದರು. ಇಲ್ಲಿಯವರೆಗೆ 2 ಬಿಲಿಯನ್ ಯುರೋಗಳನ್ನು ಸಾಧಿಸಿದ 6 ಬಿಲಿಯನ್ ಯುರೋಗಳು ಕ್ಯಾರಿಫೋರ್ ಒಂದು ಘನ ಬ್ಯಾಲೆನ್ಸ್ ಶೀಟ್ ಅನ್ನು ಹೊಂದಿದ್ದು, ಉದ್ಯಮದಲ್ಲಿ ಪ್ರಬಲವಾದದ್ದು, ನಮ್ಮ ಎಂಎ ಕಾರ್ಯತಂತ್ರವನ್ನು ಹೊಸ ಆತ್ಮವಿಶ್ವಾಸದಿಂದ ಬೆಂಬಲಿಸುವ ಸಾಮರ್ಥ್ಯವನ್ನು ಹೊಂದಿದೆ ಅಂತಹ ಯಾವುದೇ ಚಟುವಟಿಕೆಯು ಹೆಚ್ಚು ಆಯ್ದ ಫ್ರೆಂಚ್ ಲಾಭದಾಯಕವಾಗಿದೆ ಎಂದು ಬೊಂಪಾರ್ಡ್ ಹೇಳಿದರು, ಅಲ್ಲಿ ಹೈಪಾರ್ ಮಾರ್ಕೆಟ್ ಮಳಿಗೆಗಳಲ್ಲಿ ಫ್ಲ್ಯಾಗಿಂಗ್ ಮಾರಾಟವನ್ನು ಪುನರುಜ್ಜೀವನಗೊಳಿಸುವಂತೆ ಬೊಂಪಾರ್ಡ್ ಮಾಡಿದ ಆದ್ಯತೆಯ ಕಾರ್ಯಾಚರಣಾ ಲಾಭವು 15% ಏರಿಕೆಯಾಗಿದೆ ಮತ್ತು ಕಂಪನಿಯ ಮಾರ್ಗದರ್ಶನಕ್ಕೆ ಅನುಗುಣವಾಗಿ ಕ್ಯಾರಿಫೋರ್ ತನ್ನ ಮನೆ ಮಾರುಕಟ್ಟೆಯಲ್ಲಿ ಖರೀದಿ ಮೈತ್ರಿಗಳನ್ನು ಪಡೆಯುತ್ತಿದೆ ಬ್ರಿಟನ್\\u200cನ ಟೆಸ್ಕೊ ಮತ್ತು ಫ್ರಾನ್ಸ್\\u200cನ ಸಿಸ್ಟಂ ಯು ಇದರೊಂದಿಗೆ ವಹಿವಾಟಿನ ಯೋಜನೆಯು ಫ್ರಾನ್ಸ್\\u200cನಲ್ಲಿ ಕಡಿಮೆ ಮಾರಾಟ ಪ್ರಚಾರಗಳನ್ನು ಹೊಂದಿದ್ದು, ಆಹಾರೇತರ ವಸ್ತುಗಳನ್ನು ಹಿಂತಿರುಗಿಸುವುದು ಮತ್ತು ಸಾವಯವ ಆಹಾರಕ್ಕೆ ಹೆಚ್ಚಿನ ಒತ್ತು ನೀಡುವುದು\",0\\nವೈರಸ್ ನಿಗ್ರಹಿಸಲು ಏನು ಬೇಕಾದರೂ ಮಾಡುವುದಾಗಿ ಗ್ರೀಸ್ ಹೇಳಿದೆ. ಮೊದಲ ಪ್ರಕರಣಗಳು ವರದಿಯಾದ ನಂತರ ವಲಸೆ ಶಿಬಿರಗಳತ್ತ ಚಿಂತೆ ತಿರುಗುತ್ತದೆ ಬಿಡುಗಡೆಗಳು ವಿವರಗಳನ್ನು ಸೇರಿಸುತ್ತವೆ ಮಿಚೆಲ್ ಕಾಂಬಾಸ್ ಅಥೆನ್ಸ್ ಫೆಬ್ರವರಿ 27 ರಾಯಿಟರ್ಸ್ ಕರೋನವೈರಸ್ ಹರಡುವುದನ್ನು ತಡೆಯಲು ಗ್ರೀಸ್ ತನ್ನ ಗಡಿ ನಿಯಂತ್ರಣವನ್ನು ಬಿಗಿಗೊಳಿಸಲಿದೆ ಎಂದು ಪ್ರಧಾನಿ ಕಿರಿಯಾಕೋಸ್ ಮಿಟ್ಸೋಟಾಕಿಸ್ ಗುರುವಾರ ಹೇಳಿದ್ದಾರೆ. ಇದು ಒಂದು ಪ್ರಮುಖ ವಲಸೆ ಮಾರ್ಗಕ್ಕೆ ನಿರ್ದಿಷ್ಟವಾಗಿ ಗಮನ ಹರಿಸುತ್ತದೆ. ದೇಶವು ಎರಡು ಹೊಸ ಕರೋನವೈರಸ್ ಪ್ರಕರಣಗಳನ್ನು ವರದಿ ಮಾಡಿದ್ದರಿಂದ ಗ್ರೀಸ್\\u200cನಲ್ಲಿ ಒಟ್ಟು ದೃ confirmed ಪಡಿಸಿದ ಪ್ರಕರಣಗಳ ಸಂಖ್ಯೆಯನ್ನು ಉತ್ತರ ನಗರ ಥೆಸಲೋನಿಕಿಯಲ್ಲಿ ಮೂರು ಎರಡಕ್ಕೆ ಮತ್ತು ರಾಜಧಾನಿ ಅಥೆನ್ಸ್ ಗ್ರೀಸ್\\u200cನಲ್ಲಿ ಒಂದು ಪ್ರಾಥಮಿಕವಾಗಿದೆ ಮಧ್ಯಪ್ರಾಚ್ಯ ಮತ್ತು ಅದರಾಚೆ ಯುದ್ಧ ಮತ್ತು ಬಡತನದಿಂದ ಪಲಾಯನ ಮಾಡುವ ನಿರಾಶ್ರಿತರು ಮತ್ತು ಆಶ್ರಯ ಪಡೆಯುವವರಿಗೆ 2015 ಮತ್ತು 2016 ರಲ್ಲಿ ಒಂದು ಮಿಲಿಯನ್\\u200cಗಿಂತಲೂ ಹೆಚ್ಚು ಜನರು ದೇಶವನ್ನು ಹಾದುಹೋಗಿದ್ದಾರೆ. ಸಾವಿರಾರು ವಲಸಿಗರು ಕಿಕ್ಕಿರಿದ ನಿರಾಶ್ರಿತರ ಶಿಬಿರಗಳಲ್ಲಿ ಸಿಲುಕಿಕೊಂಡಿದ್ದಾರೆ. ಪರಿಸ್ಥಿತಿಗಳಲ್ಲಿ ನೆರವು ಸಂಸ್ಥೆಗಳು ಭಯ ಹುಟ್ಟಿಸುತ್ತವೆ ಮತ್ತು ಯಾವ ಸರ್ಕಾರ ಸ್ವತಃ ಆರೋಗ್ಯದ ಬಾಂಬ್ ಎಂದು ವಿವರಿಸಲಾಗಿದೆ ಸರ್ಕಾರಗಳು ಗುರುವಾರ ಯುದ್ಧ ಮಾಡಲು ಕ್ರಮಗಳನ್ನು ಹೆಚ್ಚಿಸಿವೆ ಚೀನಾದ ಹೊರಗೆ ಹೊಸ ಸೋಂಕುಗಳ ಸಂಖ್ಯೆಯು ಮೊದಲ ಬಾರಿಗೆ ಏಕಾಏಕಿ ಪ್ರಾರಂಭವಾದ ದೇಶದಲ್ಲಿ ಹೊಸ ಪ್ರಕರಣಗಳನ್ನು ಮೀರಿಸಿದೆ ಎಂದು ಕೊರೊನಾವೈರಸ್ನ ಸಾಂಕ್ರಾಮಿಕ ರೋಗ,1\\nಕರೋನವೈರಸ್ನ ಜಾಗತಿಕ ಹರಡುವಿಕೆಗೆ ಸಂಬಂಧಿಸಿದ ಮುನ್ನೆಚ್ಚರಿಕೆ ಕ್ರಮವಾಗಿ ನೆಸ್ಲೆ ಎಸ್ಎ ತನ್ನ ಎಲ್ಲ ಉದ್ಯೋಗಿಗಳಿಗೆ ಅಂತರರಾಷ್ಟ್ರೀಯ ವ್ಯಾಪಾರ ಪ್ರಯಾಣವನ್ನು ಸ್ಥಗಿತಗೊಳಿಸಿದೆ. ನೀವು ಎಸ್ ವಿಭಾಗವನ್ನು ಹೊಂದಿರುವ ರೋಸ್ಲಿನ್ ಮೂಲದ ಅಂತರರಾಷ್ಟ್ರೀಯ ಆಹಾರ ಮತ್ತು ಸಾಕುಪ್ರಾಣಿ ಆರೈಕೆ ಕಂಪನಿಯು ಮಾರ್ಚ್ 15 ರವರೆಗೆ ಪ್ರಯಾಣ ನಿಷೇಧವನ್ನು ಜಾರಿಗೊಳಿಸಿದೆ. ವಕ್ತಾರರ ಪ್ರಕಾರ ಸ್ಥಳೀಯವಾಗಿ ನೆಲೆಸಿರುವವರು ಸೇರಿದಂತೆ ಎಲ್ಲಾ 291000 ನೆಸ್ಲೆ ಉದ್ಯೋಗಿಗಳಿಗೆ ಸ್ವಿಟ್ಜರ್ಲೆಂಡ್ ಮೂಲದ ಕಂಪನಿಯು ಸಾಧ್ಯವಾದಷ್ಟು ದೇಶೀಯ ಪ್ರವಾಸಗಳನ್ನು ರದ್ದುಗೊಳಿಸುವಂತೆ ಮತ್ತು ಉತ್ತೇಜಿಸಲು ವಿನಂತಿಸುತ್ತಿದೆ,0\\n\"ಯುಎಸ್ ಆರೋಗ್ಯ ಅಧಿಕಾರಿಗಳು ಎಚ್ಚರಿಸಿರುವ ಸಾಂಕ್ರಾಮಿಕ ರೋಗದ ಆತಂಕಗಳು ಬುಧವಾರದ ವೇಳೆಗೆ ಜಾಗತಿಕ ಷೇರು ಮಾರುಕಟ್ಟೆಗಳಿಂದ 3 6 ಟ್ರಿಲಿಯನ್ಗಿಂತಲೂ ಹೆಚ್ಚು ಹಣವನ್ನು ಅಳಿಸಿಹಾಕಿದೆ ಎಂದು ರಾಯಿಟರ್ಸ್ ವರದಿ ತಿಳಿಸಿದೆ. ಮೇನ್ಲ್ಯಾಂಡ್ ಚೀನಾವು ಫೆಬ್ರವರಿ 26 ರಂದು 433 ಹೊಸ ಕರೋನವೈರಸ್ ಸೋಂಕುಗಳನ್ನು ವರದಿ ಮಾಡಿದೆ ಎಂದು ರಾಷ್ಟ್ರೀಯ ಆರೋಗ್ಯ ಆಯೋಗ ತಿಳಿಸಿದೆ. ಹಿಂದಿನ ದಿನ 406 ರಿಂದ ಗುರುವಾರ ಹೆಚ್ಚಾಗಿದೆ ಎಂದು ರಾಯಿಟರ್ಸ್ ವರದಿಯ ಪ್ರಕಾರ, ಚೀನಾ ಮುಖ್ಯ ಭೂಭಾಗದಲ್ಲಿ ಒಟ್ಟು ದೃ confirmed ಪಡಿಸಿದ ಪ್ರಕರಣಗಳ ಸಂಖ್ಯೆ ಈಗ 78497 ಕ್ಕೆ ತಲುಪಿದೆ ಎಂದು ಆರೋಗ್ಯ ಪ್ರಾಧಿಕಾರ ಹೇಳಿದೆ. ಹೊಸ ಸಾವುಗಳ ಸಂಖ್ಯೆ ಜನವರಿ 28 ರಿಂದ 29 ರಷ್ಟಿದೆ ಮತ್ತು 52 ರಿಂದ ಕಡಿಮೆಯಾಗಿದೆ ಹಿಂದಿನ ದಿನ ಎಸ್\\u200cಬಿಐ ಇಕೋವ್ರಾಪ್ ಭಾರತದ ಜಿಡಿಪಿ ಬೆಳವಣಿಗೆಯು ಎಫ್\\u200cವೈ 19 20 ರ ಕ್ಯೂ 3 ರಲ್ಲಿ ಆರು ವರ್ಷಗಳಿಗಿಂತಲೂ ಕಡಿಮೆ ಮಟ್ಟದಲ್ಲಿ ಶೇ 4 ರಷ್ಟಿದೆ.\",0\\nಅಮೆರಿಕದ ಅಧ್ಯಕ್ಷ ಡೊನಾಲ್ಡ್ ಟ್ರಂಪ್ ಅವರು ಕರೋನವೈರಸ್ನ ಯಾವುದೇ ಸಂಭವನೀಯ ಏಕಾಏಕಿ ಉಂಟಾಗಲು ಸಿದ್ಧರಾಗಿದ್ದಾರೆ ಎಂದು ದೇಶದ ಪ್ರತಿಕ್ರಿಯೆಯನ್ನು ನಿರ್ವಹಿಸಲು ಟ್ರಂಪ್ ಉಪಾಧ್ಯಕ್ಷ ಮೈಕ್ ಪೆನ್ಸ್ ಅವರನ್ನು ನೇಮಕ ಮಾಡಿದ್ದಾರೆ ಎಂದು ಅಧ್ಯಕ್ಷರು ಹೇಳಿದ್ದಾರೆ. ಯುಎಸ್ ವೈರಸ್ಗೆ ಲಸಿಕೆಯನ್ನು ವೇಗವಾಗಿ ಅಭಿವೃದ್ಧಿಪಡಿಸುತ್ತಿದೆ ಎಂದು ಅಧ್ಯಕ್ಷರು ಹೇಳಿದರು ಆದರೆ ಸಾರ್ವಜನಿಕ ಆರೋಗ್ಯ ಅಧಿಕಾರಿಗಳು ಅದನ್ನು ಇನ್ನೂ ಮಾಡಬಹುದು ಏಕಾಏಕಿ ಯುಎಸ್ ಹೇಗೆ ಪ್ರತಿಕ್ರಿಯಿಸುತ್ತಿದೆ ಎಂಬುದರ ಕುರಿತು ಶ್ವೇತಭವನದಿಂದ ಅಲ್ ಜಜೀರಾ ಕಿಂಬರ್ಲಿ ಹಾಲ್ಕೆಟ್ ವರದಿ ಮಾಡಿದೆ,0\\n\"ಕೊರೊನಾವೈರಸ್ ರಾಷ್ಟ್ರೀಯ ಕಾರ್ಯಾಚರಣೆ ಕೇಂದ್ರದಲ್ಲಿ ಇಸ್ರೇಲಿ ಅರೆವೈದ್ಯರು ಕೇಂದ್ರ ನಗರದ ಕಿರ್ಯಾಟ್ ಒನೊ ಎಎಫ್\\u200cಪಿ ಯಲ್ಲಿ ಸ್ವಯಂಸೇವಕರ ಮೇಲೆ ಕರೋನವೈರಸ್ ಪರೀಕ್ಷೆಯನ್ನು ನಡೆಸುತ್ತಾರೆ ಫೋಟೋ ಜ್ಯಾಕ್ ಗುಯೆಜ್ ಟೆಲ್ ಅವೀವ್ ಎಎಫ್\\u200cಪಿ ಇಸ್ರೇಲ್ ಗುರುವಾರ ಇಟಲಿಯಿಂದ ವಿಮಾನಗಳಲ್ಲಿ ಇಳಿದ ಡಜನ್ಗಟ್ಟಲೆ ವಿದೇಶಿ ಪ್ರಜೆಗಳಿಗೆ ಪ್ರವೇಶವನ್ನು ನಿರಾಕರಿಸಿತು. ಹೊಸ ಕರೋನವೈರಸ್ ಹರಡುವಿಕೆಯನ್ನು ಒಳಗೊಂಡಿರುವ ಪ್ರಯತ್ನಗಳ ಭಾಗವಾಗಿ ಪ್ರಯಾಣ ಜಪಾನ್ ದಕ್ಷಿಣ ಕೊರಿಯಾ ಥೈಲ್ಯಾಂಡ್ ಮತ್ತು ಸಿಂಗಾಪುರ ಮತ್ತು ಮಕಾವು ಮತ್ತು ಹಾಂಗ್ ಕಾಂಗ್ ಮೂರು ವಿಮಾನಗಳು ಸೇರಿದಂತೆ ನಿರ್ಬಂಧಿತ ದೇಶಗಳ ಪಟ್ಟಿಗೆ ಇಟಲಿಯ ಪ್ರಯಾಣಿಕರಿಗೆ ಪ್ರವೇಶವನ್ನು ನೀಡಲಾಗುವುದಿಲ್ಲ ಎಂದು ಆಂತರಿಕ ಸಚಿವಾಲಯ ಘೋಷಿಸಿತು. ಇಟಲಿಯಿಂದ ಹುಟ್ಟಿದ ನಂತರ ಟೆಲ್ ಅವೀವ್\\u200cನ ಬೆನ್ ಗುರಿಯನ್ ವಿಮಾನ ನಿಲ್ದಾಣಕ್ಕೆ ಬಂದಿಳಿದಿದ್ದು, ಬೆರ್ಗಾಮೊದಿಂದ ವಿಮಾನದಲ್ಲಿ ಬಂದಿಳಿದ 19 ಇಟಾಲಿಯನ್ನರು ಸೇರಿದಂತೆ ಇಪ್ಪತ್ತೈದು ವಿದೇಶಿ ಪ್ರಜೆಗಳಿಗೆ ಪ್ರವೇಶ ನಿರಾಕರಿಸಲಾಗಿದೆ ಮತ್ತು ಅವರನ್ನು ಮತ್ತೆ ಹಾರಿಸಲಾಗುವುದು ಎಂದು ಆಂತರಿಕ ಸಚಿವಾಲಯ ತಿಳಿಸಿದೆ. ಇಟಲಿಯಿಂದ ಈಸಿ ಜೆಟ್ ವಿಮಾನದಲ್ಲಿದ್ದ ಇನ್ನೂ 23 ವಿದೇಶಿಯರು ಸಚಿವಾಲಯದ ವಕ್ತಾರರು ಪ್ರವೇಶಿಸುವುದನ್ನು ನಿರ್ಬಂಧಿಸಲಾಗಿದೆ\",0\\n\"ಕೆಲವು ಮಾರುಕಟ್ಟೆ ವೀಕ್ಷಕರು ಪರಿಸ್ಥಿತಿಯ ಬಗ್ಗೆ ಏನು ಹೇಳುತ್ತಿದ್ದಾರೆಂಬುದನ್ನು ಕರೋನವೈರಸ್ನಲ್ಲಿ ಎಸ್\\u200cಪಿ 500 ಅದರ 2020 ರ ಗರಿಷ್ಠ 10 ರಿಂದ 3050 ಕ್ಕೆ ಇಳಿದು 2018 ರ ಆರಂಭದಲ್ಲಿ ಕಡಿಮೆ ಚಂಚಲತೆಯನ್ನು ಬಿಚ್ಚಿರುವುದನ್ನು ನೋಡಿ ನಾವು ಆಶ್ಚರ್ಯಪಡಬೇಕಾಗಿಲ್ಲ ಎಂದು ಆರ್\\u200cಬಿಸಿ ಕ್ಯಾಪಿಟಲ್ ಮಾರ್ಕೆಟ್\\u200cಗಳ ಲೋರಿ ಕ್ಯಾಲ್ವಾಸಿನಾ ಹೇಳಿದರು ಟಿಪ್ಪಣಿ ಗುರುವಾರ ದರಗಳ ಹಣದುಬ್ಬರ ಮತ್ತು ಗಳಿಕೆಗಾಗಿ ನಮ್ಮ ಮುನ್ಸೂಚನೆಯನ್ನು ಬಳಸುವುದು ಮತ್ತು ಗಳಿಕೆಯ ಮಾದರಿ ಅಂದಾಜುಗೆ ಎಸ್\\u200cಪಿ ಮೇಲಿನ ನ್ಯಾಯಯುತ ಮೌಲ್ಯವು 2450 ಕ್ಕೆ ಹತ್ತಿರವಾಗಿದೆ ಎಂದು ಕ್ಯಾಂಟರ್ ಫಿಟ್ಜ್\\u200cಗೆರಾಲ್ಡ್ ಎಲ್ಪಿ ಯ ಮುಖ್ಯ ಮಾರುಕಟ್ಟೆ ತಂತ್ರಜ್ಞ ಪೀಟರ್ ಸೆಚಿನಿ ಬುಧವಾರ ಟಿಪ್ಪಣಿಯಲ್ಲಿ ತಿಳಿಸಿದ್ದಾರೆ ಗೋಲ್ಡ್ಮನ್ ಸಿಟಿ ಸ್ಟ್ರಾಟಜಿಸ್ಟ್ಸ್ ಎಸ್ಪಿ 500 ಮಾರ್ಗ ಹೋಗಲು ಹೆಚ್ಚು ಕಠಿಣವಾಗಿದೆ ನಮ್ಮ ಉತ್ತಮ is ಹೆಯೆಂದರೆ, ಅಪಾಯಕಾರಿಯಾದ ಆಸ್ತಿಗಳ ಕುಸಿತವು ಇನ್ನೂ ಹೆಚ್ಚಿನದಕ್ಕೆ ಹೋಗಬೇಕಾದರೂ, ಅಲ್ಪಾವಧಿಯ ಅಪಾಯಗಳು ಅಲ್ಪಾವಧಿಗೆ ಅಸಮಪಾರ್ಶ್ವವಾಗಿ ಕಂಡುಬರುತ್ತವೆ, ಆದರೆ ಗೋಲ್ಡ್ಮನ್ ಸ್ಯಾಚ್ಸ್ ಗ್ರೂಪ್ ಇಂಕ್ ತಂತ್ರಜ್ಞರಾದ ach ಾಕ್ ಪಾಂಡ್ಲ್ ಮತ್ತು ಕಾಮಾಕ್ಷ್ಯ ತ್ರಿವೇದಿ ಬುಧವಾರ ಟಿಪ್ಪಣಿಯಲ್ಲಿ ಓದಿ ಏಕಾಏಕಿ ಮಧ್ಯೆ ಹೆಚ್ಚು ಗೋಲ್ಡ್ಮನ್ ನಿಮಗಾಗಿ ಶೂನ್ಯ ಲಾಭದ ಬೆಳವಣಿಗೆಯನ್ನು ನೋಡುತ್ತಾನೆ ಎಸ್ ಕಂಪೆನಿಗಳು ಯಾವುದೇ ನೀತಿ ಪ್ರತಿಕ್ರಿಯೆಯು ಇನ್ಸು ಆಗಿರುತ್ತದೆ ಎಂಬ ಅರಿವಿಗೆ ಬರುತ್ತಿದೆ ಪೂರೈಕೆಯ ಕಳವಳಗಳಿಗೆ ವಿರುದ್ಧವಾಗಿ ಅದನ್ನು ನಿರೋಧಿಸಲು ಸಮರ್ಥವಾಗಿದೆ ಎಂದು ಸೀಮಾ ಶಾ ಗುರುವಾರ ಪ್ರಧಾನ ಜಾಗತಿಕ ಹೂಡಿಕೆದಾರರ ಮುಖ್ಯ ತಂತ್ರಜ್ಞರು ಟಿಪ್ಪಣಿಯಲ್ಲಿ ತಿಳಿಸಿದ್ದಾರೆ. ಚೀನಾದ ಹೊರಗೆ ಹೆಚ್ಚಿನ ಚಂಚಲತೆಯನ್ನು ನಿರೀಕ್ಷಿಸಬಹುದು ಎಂದು ಸಿಂಗಾಪುರದ ಬಿಎನ್\\u200cಪಿ ಪರಿಬಾಸ್ ವೆಲ್ತ್ ಮ್ಯಾನೇಜ್\\u200cಮೆಂಟ್\\u200cನಲ್ಲಿ ಏಷ್ಯಾದ ಮುಖ್ಯ ಹೂಡಿಕೆ ಅಧಿಕಾರಿ ಪ್ರಶಾಂತ್ ಭಯಾನಿ ಹೇಳಿದ್ದಾರೆ. ಜಾಗತಿಕ ಇಕ್ವಿಟಿಗಳಲ್ಲಿ ಕೆಲವು ವಾರಗಳು, ಅಂದರೆ ನಿಮ್ಮ ಎಸ್ ಸ್ಟಾಕ್\\u200cಗಳಲ್ಲಿನ ಲಾಭದ ಸಾಂದ್ರತೆಯು ಬೆರಳೆಣಿಕೆಯ ಮೆಗಾಕ್ಯಾಪ್ ಹೆಸರುಗಳಲ್ಲಿ\",1\\n\"ದಕ್ಷಿಣ ಚೀನಾದ ನಗರ ಶೆನ್\\u200dಜೆನ್ ಸ್ಥಳೀಯ ರೆಸ್ಟೋರೆಂಟ್\\u200cಗಳು ನಾಯಿಗಳು ಮತ್ತು ಬೆಕ್ಕುಗಳನ್ನು ತಮ್ಮ ಮೆನುಗಳಿಂದ ಹೊರತೆಗೆಯಬೇಕೆಂದು ಬಯಸುತ್ತವೆ, ಏಕೆಂದರೆ ದೇಶವು ವನ್ಯಜೀವಿ ವ್ಯಾಪಾರ ವಿಜ್ಞಾನಿಗಳ ಮೇಲೆ ಹಿಡಿತ ಸಾಧಿಸುವುದರಿಂದ ಮಾರಕ ಕರೋನವೈರಸ್ ಏಕಾಏಕಿ ಉಂಟಾಗುತ್ತದೆ ಎಂದು ಶಂಕಿಸಲಾಗಿದೆ ನಾಯಿಗಳಲ್ಲದೆ ಹೊಸ ಶೆನ್ಜೆನ್ ಆಕ್ಟ್ ಬಾರ್\\u200cಗಳು ಹಾವಿನ ಕಪ್ಪೆ ಮತ್ತು ಆಮೆ ಮಾಂಸವನ್ನು ಭೋಜನದಿಂದ ಕೋಷ್ಟಕ ಶೆನ್ಜೆನ್\\u200cನಲ್ಲಿ ನಾಯಿ ಮತ್ತು ಬೆಕ್ಕು ಮಾಂಸವನ್ನು ತಿನ್ನುವುದನ್ನು ನಿಷೇಧಿಸುವುದು ಅತ್ಯಂತ ಸ್ವಾಗತಾರ್ಹ ಎಂದು ಹ್ಯೂಮನ್ ಸೊಸೈಟಿ ಇಂಟರ್\\u200cನ್ಯಾಷನಲ್\\u200cನ ಪ್ರಾಣಿ ಕಲ್ಯಾಣ ಸಮೂಹದ ನೀತಿ ತಜ್ಞ ಪೀಟರ್ ಲಿ ಚೀನಾ ಪ್ರತಿ ವರ್ಷ ಚೀನಾದಲ್ಲಿ 10 ದಶಲಕ್ಷಕ್ಕೂ ಹೆಚ್ಚು ನಾಯಿಗಳು ಮತ್ತು ನಾಲ್ಕು ದಶಲಕ್ಷ ಬೆಕ್ಕುಗಳನ್ನು ತಮ್ಮ ಮಾಂಸಕ್ಕಾಗಿ ಕೊಲ್ಲಲಾಗುತ್ತದೆ ಎಂದು ವರದಿಯಾಗಿದೆ. ಕಾಡು ಪ್ರಾಣಿಗಳ ಎಲ್ಲಾ ವ್ಯಾಪಾರ ಮತ್ತು ಬಳಕೆಯನ್ನು ನಿಷೇಧಿಸಲು ಶಾಸಕಾಂಗ ಸಮಿತಿ ಸೋಮವಾರ ಹೊಸ ಶಾಸನವನ್ನು ಜಾರಿಗೆ ತಂದಿತು\",1\\n\"ಚೀನಾದ ಸಂದರ್ಶಕರ ಮೇಲೆ ಪ್ರಯಾಣದ ನಿಷೇಧವನ್ನು ವಿಸ್ತರಿಸಿದ್ದರಿಂದ ಯಾವುದೇ ಕರೋನವೈರಸ್ ಜಾಗತಿಕ ಸಾಂಕ್ರಾಮಿಕ ರೋಗಕ್ಕೆ ಸಿದ್ಧ ಎಂದು ಆಸ್ಟ್ರೇಲಿಯಾ ಗುರುವಾರ ಘೋಷಿಸಿತು. ಚೀನಾದ ಹೊರಗೆ ವೈರಸ್ ವೇಗವಾಗಿ ಹರಡಿತು, ಇದು ಆಸ್ಟ್ರೇಲಿಯಾದ ಪ್ರತಿಕ್ರಿಯೆಯನ್ನು ಹೆಚ್ಚಿಸಲು ತನ್ನ ಸರ್ಕಾರವನ್ನು ಪ್ರೇರೇಪಿಸಿತು ಎಂದು ಎಬಿಸಿ ನ್ಯೂಸ್ ವರದಿಗಳು ನಿಷೇಧದ ಅರ್ಥ ಚೀನಾ ಮುಖ್ಯ ಭೂಭಾಗದಲ್ಲಿರುವ ವಿದೇಶಿ ಪ್ರಜೆಗಳಿಗೆ ಅವರು ಚೀನಾವನ್ನು ತೊರೆದ ಸಮಯದಿಂದ 14 ದಿನಗಳವರೆಗೆ ಆಸ್ಟ್ರೇಲಿಯಾಕ್ಕೆ ಅನುಮತಿಸಲಾಗುವುದಿಲ್ಲ ಮೊರಿಸನ್ ವರದಿಗಾರರಿಗೆ ವಿಸ್ತೃತ ಪ್ರಯಾಣ ನಿಷೇಧದ ಭಾಗವಾಗಿ ಯಾವುದೇ ಕಾರ್ವ್ outs ಟ್\\u200cಗಳಿಲ್ಲ ಮತ್ತು ಮುಖ್ಯ ವೈದ್ಯಕೀಯ ಅಧಿಕಾರಿಯ ಸಲಹೆಯ ಮೇರೆಗೆ ವಿಸ್ತರಣೆಯಾಗಿದೆ ಮತ್ತು ವಿವಿಧ ರಾಜ್ಯಗಳಲ್ಲಿ ವೈರಸ್ ಸಂದರ್ಭಗಳು ವಿಕಸನಗೊಳ್ಳುತ್ತಿರುವುದರಿಂದ ಆಸ್ಟ್ರೇಲಿಯಾ ತನ್ನ ಪ್ರಯಾಣದ ಸಲಹೆಯನ್ನು ಪರಿಶೀಲಿಸುತ್ತಿದೆ\",0\\nಕರೋನವೈರಸ್ ಅನ್ನು ಒಳಗೊಂಡಿರುವ ಪ್ರಯತ್ನದಲ್ಲಿ ವಾರಗಳ ಲಾಕ್ ಡೌನ್ ನಂತರ ಅನೇಕ ಮನೆಗಳು ಆಹಾರದ ಕೊರತೆಯನ್ನು ಅನುಭವಿಸಲು ಪ್ರಾರಂಭಿಸಿದ ನಂತರ ಸಾವಿರಾರು ಟನ್ ಆಹಾರವನ್ನು ಗು iz ೌ ಪ್ರಾಂತ್ಯವು ಎ zh ೌ ನಗರಕ್ಕೆ ದಾನ ಮಾಡಿದೆ ಎಂದು ವರದಿಯಾಗಿದೆ. ಗೋದಾಮುಗಳಲ್ಲಿ 1000 ಟನ್\\u200cಗಿಂತಲೂ ಹೆಚ್ಚು ತರಕಾರಿಗಳನ್ನು ಕೊಳೆಯಲು ಅಥವಾ ಸುರಿಯಲು ಉಳಿದಿದೆ ಎಚೆಂಗ್ ಜಿಲ್ಲೆಯ ಫೀನಿಕ್ಸ್ ಪೊಲೀಸ್ ಠಾಣೆಯ ಉದ್ಯೋಗಿಯೊಬ್ಬರ ಕುಟುಂಬ ಸದಸ್ಯರೊಬ್ಬರು ಕಳೆದ ವಾರ ವೀಚಾಟ್\\u200cಗೆ ವೀಡಿಯೊ ಅಪ್\\u200cಲೋಡ್ ಮಾಡಿದ ನಂತರ ಅವರ ಕುಟುಂಬವು ಪಡೆದ ದೇಣಿಗೆಗಳನ್ನು ತೋರಿಸಿದ ನಂತರ ಪೊಲೀಸರು ದುರುಪಯೋಗದ ಹಿಂದೆ ಇದ್ದಾರೆ ಎಂದು ನಂಬಲಾಗಿದೆ. ಅನೇಕ ಬಾಕ್ಸ್ ಹಣ್ಣುಗಳು ತಾಜಾ ತರಕಾರಿಗಳು ಮತ್ತು ಮೊಟ್ಟೆಗಳನ್ನು ಒಳಗೊಂಡಂತೆ ಪೊಲೀಸ್ ಠಾಣೆಯಿಂದ ಪೊಲೀಸ್ ಅಧಿಕಾರಿಯನ್ನು ಮದುವೆಯಾದ ಇನ್ನೊಬ್ಬ ವೀಚಾಟ್ ಬಳಕೆದಾರರು ಆರು ಬ್ಯಾರೆಲ್ ತೈಲ ಬಹು ಚೀಲ ತರಕಾರಿಗಳು ನಾಲ್ಕು ಚೀಲ ಅಕ್ಕಿ ಮತ್ತು ನೂರಾರು ಮುಖವಾಡಗಳ ಫೋಟೋಗಳು ಸೇರಿದಂತೆ ಅವರ ಕುಟುಂಬಕ್ಕೆ ಉಡುಗೊರೆಯಾಗಿ ನೀಡಲಾದ ಸರಬರಾಜುಗಳ ಪಟ್ಟಿಯನ್ನು ಪೋಸ್ಟ್ ಮಾಡಿದ್ದಾರೆ. ಸೋಷಿಯಲ್ ಮೀಡಿಯಾದಲ್ಲಿ ಗೋದಾಮು ಮತ್ತು ಪೊಲೀಸ್ ಟ್ರಾನ್\\u200cನಲ್ಲಿನ ಗೋದಾಮುಗಳಲ್ಲಿ ಆಹಾರ ಕೊಳೆಯುತ್ತಿರುವುದನ್ನು ತೋರಿಸಿದೆ ತರಕಾರಿ ಪೆಟ್ಟಿಗೆಗಳನ್ನು ತಮ್ಮ ವಾಹನಗಳಲ್ಲಿ ಆಡುತ್ತಿದ್ದಾರೆ,0\\n\"ಪಾಕಿಸ್ತಾನ ಮತ್ತು ಚೀನಾ ನಡುವಿನ ಸ್ನೇಹ ಶಾಶ್ವತವಾಗಿದೆ ಮತ್ತು ಚೀನಾದ ಜನರು ಪಾಕಿಸ್ತಾನಿಗಳೊಂದಿಗಿನ ಸ್ನೇಹಕ್ಕಾಗಿ ಹೆಮ್ಮೆಪಡುತ್ತಾರೆ ಮತ್ತು ಉಭಯ ದೇಶಗಳ ನಡುವಿನ ಸ್ನೇಹವು ಬಲಗೊಳ್ಳುತ್ತದೆ ಎಂಬ ವಿಶ್ವಾಸವಿದೆ ಎಂದು ಇಸ್ಲಾಮಾಬಾದ್ ಮೂಲದ ಚೀನಾದ ಸಾಂಸ್ಕೃತಿಕ ಸಲಹೆಗಾರ ಜಾಂಗ್ ಹೆಕಿಂಗ್ ಹೇಳಿದ್ದಾರೆ. ಉರ್ದುಪಾಯಿಂಟ್ ಪಾಕಿಸ್ತಾನ ಪಾಯಿಂಟ್ ನ್ಯೂಸ್ 27 ಫೆಬ್ರವರಿ 2020 ಇಸ್ಲಾಮಾಬಾದ್ ಮೂಲದ ಚೀನೀ ಸಾಂಸ್ಕೃತಿಕ ಸಲಹೆಗಾರ ಚೀನೀ ಸಾಂಸ್ಕೃತಿಕ ಕಾನ್ಸುಲರ್ ಜಾಂಗ್ ಹೆಕಿಂಗ್ ಅವರು ಪಾಕಿಸ್ತಾನ ಮತ್ತು ಚೀನಾ ನಡುವಿನ ಸ್ನೇಹ ಶಾಶ್ವತವಾಗಿದೆ ಮತ್ತು ಚೀನಾದ ಜನರು ಪಾಕಿಸ್ತಾನಿಗಳೊಂದಿಗಿನ ಸ್ನೇಹಕ್ಕಾಗಿ ಹೆಮ್ಮೆಪಡುತ್ತಾರೆ ಮತ್ತು ಅವರು ಸ್ನೇಹಕ್ಕಾಗಿ ವಿಶ್ವಾಸ ಹೊಂದಿದ್ದಾರೆ ಎಂದು ಹೇಳಿದ್ದಾರೆ. ಉಭಯ ದೇಶಗಳು ಬಲಗೊಳ್ಳುತ್ತವೆ ಚೀನಾ ವಿಂಡೋದಲ್ಲಿ ಚೀನೀ ಭಾಷಾ ಕೋರ್ಸ್\\u200cಗಳನ್ನು ಪೂರ್ಣಗೊಳಿಸಿದ ವಿದ್ಯಾರ್ಥಿಗಳಿಗೆ ರುಜುವಾತುಗಳನ್ನು ವಿತರಿಸುವ ಸಮಾರಂಭದಲ್ಲಿ ಮಾತನಾಡುತ್ತಾ ಅವರು ಈ ಅಭಿಪ್ರಾಯಗಳನ್ನು ವ್ಯಕ್ತಪಡಿಸಿದರು. ಪೇಶಾವರದಲ್ಲಿರುವ ಚೀನೀ ಸಾಂಸ್ಕೃತಿಕ ಕೇಂದ್ರದಲ್ಲಿ ಜಾಂಗ್ ಹೆಕಿಂಗ್ ಅವರು ಚೀನಾ ವಿಂಡೋದಲ್ಲಿ ಉಚಿತ ತರಗತಿಗಳ ಸಂತೋಷವನ್ನು ವ್ಯಕ್ತಪಡಿಸಿದರು. ಮತ್ತು ವಿಶೇಷವಾಗಿ ನೇ ಇ ವಿದ್ಯಾರ್ಥಿ ವರ್ಗ ಈ ಸಂದರ್ಭದಲ್ಲಿ ಮಾತನಾಡಿದ ಪ್ರವಾಸೋದ್ಯಮ ನಿಗಮದ ಜನರಲ್ ಮ್ಯಾನೇಜರ್ ಖೈಬರ್ ಪಖ್ತುನ್ಖ್ವಾ ಮಾತನಾಡಿ, ಪ್ರಸ್ತುತ ಪರಿಸ್ಥಿತಿಯ ಹಿನ್ನೆಲೆಯಲ್ಲಿ ಚೀನೀ ಭಾಷೆಯ ಮಹತ್ವವನ್ನು 100 ವಿದ್ಯಾರ್ಥಿಗಳಿಗೆ ನೀಡಲಾಗುವುದು ಎಂದು ಹೇಳಿದರು. ಚೀನಾ ಸಹ ಸಹಕರಿಸುತ್ತದೆ ಎಂಬ ವಿಶ್ವಾಸವಿದೆ ಎಂದು ಹೇಳಿದರು. ಪ್ರವಾಸೋದ್ಯಮ ಕ್ಷೇತ್ರ ಮತ್ತು ವಿಶೇಷವಾಗಿ ಗಾಂಧಾರ ಸಂಸ್ಕೃತಿಯ ದೃಷ್ಟಿಯಿಂದ ಹೆಚ್ಚಿನ ಸಂಖ್ಯೆಯ ಚೀನಿಯರು ಪಾಕಿಸ್ತಾನಕ್ಕೆ ಬರುತ್ತಾರೆ\",0\\nಕ್ವೆಟ್ಟಾಫೈಜಾನ್ ಹಶ್ಮಿಯಲ್ಲಿ ಸಹಾಯಕ ಆಯುಕ್ತರು ಉಸಿರಾಟದ ಮುಖವಾಡಗಳ ವಿರುದ್ಧ ಹರ್ಡರ್\\u200cಗಳ ವಿರುದ್ಧ ಕ್ರಮಗಳನ್ನು ತೆಗೆದುಕೊಳ್ಳುತ್ತಾರೆ 5 ನಿಮಿಷಗಳ ಹಿಂದೆ ಥು 27 ಫೆಬ್ರವರಿ 2020 06 36 PM ಸಹಾಯಕ ಆಯುಕ್ತ ಎಸಿ ಕ್ವೆಟ್ಟಾ ನಿಡಾ ಕಜಾಮಿ ಆ ವೈದ್ಯಕೀಯ ಮಳಿಗೆಗಳು ಮತ್ತು ಹೋರ್ಡರ್\\u200cಗಳ ವಿರುದ್ಧ ಕ್ರಮ ಕೈಗೊಂಡರು. ದೇಶದಲ್ಲಿ ಎರಡು ಕರೋನವೈರಸ್ ಪ್ರಕರಣಗಳು ಕ್ವೆಟ್ಟಾ ಉರ್ದುಪಾಯಿಂಟ್ ಪಾಕಿಸ್ತಾನ ಪಾಯಿಂಟ್ ನ್ಯೂಸ್ 27 ಫೆಬ್ರವರಿ 2020 ಸಹಾಯಕ ಕಮಿಷನರ್ ಎಸಿ ಕ್ವೆಟ್ಟಾ ನಿಡಾ ಕಜಾಮಿ ಆ ವೈದ್ಯಕೀಯ ಮಳಿಗೆಗಳು ಮತ್ತು ಉಸಿರಾಟದ ಮುಖವಾಡಗಳನ್ನು ಕಪ್ಪು ಬಣ್ಣದಲ್ಲಿ ಮಾರಾಟ ಮಾಡುವ ಹೋರ್ಡರ್\\u200cಗಳ ವಿರುದ್ಧ ಕ್ರಮ ಕೈಗೊಂಡರು. ಕಜ್ಮಿ ಮತ್ತು ಅವರ ತಂಡದೊಂದಿಗೆ ವಿವಿಧ ವೈದ್ಯಕೀಯ ಅಂಗಡಿಗಳಲ್ಲಿ ದಾಳಿ ನಡೆಸಿ ಮುಖವಾಡಗಳನ್ನು ಅಪಾರ ಪ್ರಮಾಣದಲ್ಲಿ ವಶಪಡಿಸಿಕೊಂಡರು ಮತ್ತು ಮುಖವಾಡಗಳನ್ನು ದ್ವಿ ಬೆಲೆಯಲ್ಲಿ ಮಾರಾಟ ಮಾಡಿದ್ದಕ್ಕಾಗಿ ಹಲವಾರು ಲಾಭ ಮತ್ತು ಹೋರ್ಡರ್\\u200cಗಳನ್ನು ಬಂಧಿಸಿದ್ದಾರೆ ಎಂದು ಪತ್ರಿಕಾ ಪ್ರಕಟಣೆ ತಿಳಿಸಿದೆ. ಅಂಗಡಿ ಸಂಘ ಸಾರ್ವಜನಿಕ ನಿಡಾ ಕಜ್ಮಿಯ ಸೌಲಭ್ಯಗಳಿಗಾಗಿ ಕ್ವೆಟ್ಟಾದಲ್ಲಿನ ತಮ್ಮ ವೈದ್ಯಕೀಯ ಮಳಿಗೆಗಳಲ್ಲಿ ಮಾರಾಟ ಮಾಡುವಾಗ ಹೋರ್ಡರ್\\u200cಗಳನ್ನು ನಿರುತ್ಸಾಹಗೊಳಿಸಲು ಮತ್ತು ಬಾಯಿ ಮುಖವಾಡಗಳ ಪ್ರಮಾಣಿತ ಬೆಲೆಯನ್ನು ಖಚಿತಪಡಿಸಿಕೊಳ್ಳಲು ಈ ಸಂದರ್ಭದಲ್ಲಿ ಎಂಎಸ್\\u200cಎ ಮಧ್ಯದ ಮಾಲೀಕರಿಗೆ ಎಚ್ಚರಿಕೆ ನೀಡಿತು. ಕಾನೂನು ಉಲ್ಲಂಘಿಸಿ ಸ್ಥಾಪಿಸಲಾದ ವೈದ್ಯಕೀಯ ಮಳಿಗೆಗಳು ಕಠಿಣ ಕ್ರಮ ಕೈಗೊಳ್ಳಲಾಗುವುದು ಅವುಗಳ ವಿರುದ್ಧ ಆದಾಗ್ಯೂ ವೈದ್ಯಕೀಯ ಮಳಿಗೆಗಳು ಅದರ ಸಾಮಾನ್ಯ ಬೆಲೆ 5 ರೂಪಾಯಿಗಳ ಹೊರತಾಗಿಯೂ 20 ರಿಂದ 25 ರೂಪಾಯಿಗಳವರೆಗೆ ಉಸಿರಾಟದ ಮುಖವಾಡಗಳನ್ನು ಮಾರಾಟ ಮಾಡುತ್ತಿದ್ದವು ಮತ್ತು ದೇಶದಲ್ಲಿ ಎರಡು ಕರೋನವೈರಸ್ ಪ್ರಕರಣಗಳು ದೃ mation ೀಕರಿಸಲ್ಪಟ್ಟ ನಂತರ ಅದರ ಬೇಡಿಕೆಗಳನ್ನು ಹೆಚ್ಚಿಸಲಾಗಿದೆ,1\\n\"ಕರೋನವೈರಸ್ ಹರಡುವುದನ್ನು ತಡೆಗಟ್ಟಲು ಗ್ರೀಸ್ ತನ್ನ ಗಡಿ ನಿಯಂತ್ರಣವನ್ನು ಬಿಗಿಗೊಳಿಸಲಿದೆ ಎಂದು ಪ್ರಧಾನ ಮಂತ್ರಿ ಕಿರಿಯಾಕೋಸ್ ಮಿಟ್ಸೋಟಾಕಿಸ್ ಗುರುವಾರ ಹೇಳಿದ್ದಾರೆ, ಇದು ಪ್ರಮುಖ ವಲಸೆ ಮಾರ್ಗದ ಬಗ್ಗೆ ನಿರ್ದಿಷ್ಟವಾಗಿ ಗಮನ ಹರಿಸಲಿದೆ ಎಂದು ಹೇಳಿದರು. ಗ್ರೀಸ್\\u200cನಲ್ಲಿ ಉತ್ತರ ನಗರ ಥೆಸಲೋನಿಕಿಯಲ್ಲಿ ಮೂರು ಎರಡು ಮತ್ತು ರಾಜಧಾನಿ ಅಥೆನ್ಸ್\\u200cನಲ್ಲಿ ಒಂದು ಪ್ರಕರಣಗಳು ಮಧ್ಯಪ್ರಾಚ್ಯದಲ್ಲಿ ಯುದ್ಧ ಮತ್ತು ಬಡತನದಿಂದ ಪಲಾಯನ ಮಾಡುವ ನಿರಾಶ್ರಿತರು ಮತ್ತು ಆಶ್ರಯ ಪಡೆಯುವವರಿಗೆ ಒಂದು ಪ್ರಾಥಮಿಕ ಹೆಬ್ಬಾಗಿಲು ಗ್ರೀಸ್ ಒಂದು ದಶಲಕ್ಷಕ್ಕೂ ಹೆಚ್ಚು ದೇಶದಲ್ಲಿ ಹಾದುಹೋಗಿದೆ 2015 ಮತ್ತು 2016 ರ ಸರ್ಕಾರಗಳು ಗುರುವಾರ ಕರೋನವೈರಸ್ನ ಸಾಂಕ್ರಾಮಿಕ ರೋಗವನ್ನು ಎದುರಿಸಲು ಕ್ರಮಗಳನ್ನು ಹೆಚ್ಚಿಸಿವೆ, ಏಕೆಂದರೆ ಚೀನಾದ ಹೊರಗೆ ಹೊಸ ಸೋಂಕುಗಳ ಸಂಖ್ಯೆ ಮೊದಲ ಬಾರಿಗೆ ಏಕಾಏಕಿ ಪ್ರಾರಂಭವಾದ ದೇಶದಲ್ಲಿ ಹೊಸ ಪ್ರಕರಣಗಳನ್ನು ಮೀರಿಸಿದೆ ಎಂದು ಬ್ಯಾಂಕ್ ಆಫ್ ಗ್ರೀಸ್\\u200cನ ಅಧಿಕಾರಿಯೊಬ್ಬರು ರಾಯಿಟರ್ಸ್ ಕೇಂದ್ರಕ್ಕೆ ತಿಳಿಸಿದರು ಈ ವರ್ಷ 2 ರಿಂದ 2 5 ರ ಆರ್ಥಿಕ ವಿಸ್ತರಣೆಗಾಗಿ ಬ್ಯಾಂಕ್ ತನ್ನ ಪ್ರಕ್ಷೇಪಗಳಿಗೆ ಅಂಟಿಕೊಂಡಿತ್ತು\",0\\n\"ನೀವು ಎಸ್ ನಾಲ್ಕನೇ ತ್ರೈಮಾಸಿಕ ಜಿಡಿಪಿ ಪರಿಷ್ಕರಣೆಗಳು ದುರ್ಬಲ ಆಧಾರವಾಗಿರುವ ಬೇಡಿಕೆಯನ್ನು ತೋರಿಸಿ ಬ್ಲೂಮ್\\u200cಬರ್ಗ್ ನಿಮ್ಮ ಎಸ್ ಆರ್ಥಿಕತೆಯಲ್ಲಿ ಆಧಾರವಾಗಿರುವ ಬೇಡಿಕೆ ಆರಂಭದಲ್ಲಿ ಕಳೆದ ವರ್ಷದ ಕೊನೆಯಲ್ಲಿ ವರದಿಯಾಗಿದ್ದಕ್ಕಿಂತ ನಿಧಾನವಾಗಿತ್ತು, 2020 ರಲ್ಲಿ ಕರೋನವೈರಸ್ನಿಂದ ಉಂಟಾಗುವ ಅಪಾಯಗಳಿಗಿಂತ ದುರ್ಬಲ ಹೆಜ್ಜೆಯ ಮೇಲೆ ಬೆಳವಣಿಗೆಯನ್ನು ನೀಡಿತು. ವ್ಯಾಪಾರ ಮತ್ತು ದಾಸ್ತಾನುಗಳಿಂದ ಮೇಲ್ಮುಖವಾಗಿ ಪರಿಷ್ಕೃತ ಕೊಡುಗೆಗಳು ಆರಂಭದಲ್ಲಿ ವರದಿಯಾದ ದರದ ಯಾವುದೇ ಪರಿಷ್ಕರಣೆಗಾಗಿ ಒಟ್ಟು ದೇಶೀಯ ಉತ್ಪನ್ನವು ನಾಲ್ಕನೇ ತ್ರೈಮಾಸಿಕ ಹೊಂದಾಣಿಕೆಯ ಅಂದಾಜುಗಳಲ್ಲಿ ಘನ ವಾರ್ಷಿಕ ದರದಲ್ಲಿ ವಿಸ್ತರಿಸುತ್ತಲೇ ಇದೆ ಎಂದು ವಾಣಿಜ್ಯ ಇಲಾಖೆಯ ಮಾಹಿತಿಯು ಗುರುವಾರ ತೋರಿಸಿದೆ ಈ ತಿಂಗಳ ಆರಂಭದಲ್ಲಿ ಅರ್ಥಶಾಸ್ತ್ರಜ್ಞರು ನಿಮ್ಮ ತ್ರೈಮಾಸಿಕದಲ್ಲಿ ದುರ್ಬಲತೆಯ ಮಧ್ಯೆ ಮೊದಲ ತ್ರೈಮಾಸಿಕದಲ್ಲಿ 1% ಕ್ಕೆ ಇಳಿಯುತ್ತದೆ ಎಂದು ಮುನ್ಸೂಚನೆ ನೀಡಿದ್ದರು. ಸರ್ಕಾರಿ ಖರ್ಚಿನಲ್ಲಿನ ಲಾಭಗಳು ಮತ್ತು ಖಾಸಗಿ ಹೂಡಿಕೆಯಲ್ಲಿ ಸ್ವಲ್ಪ ಹೆಚ್ಚಳ ಮಾತ್ರ ವೈರಸ್\\u200cನಿಂದ ಪ್ರಭಾವವನ್ನು ನೀವು ಇನ್ನೂ ಪ್ರತಿಬಿಂಬಿಸಬೇಕಾಗಿಲ್ಲವಾದರೂ ಕೆಲವು ಸೂಚಕಗಳು ಜಿಡಿಪಿಗೆ ಸಂಭವನೀಯ ಹೊಡೆತವನ್ನು ಸೂಚಿಸುತ್ತವೆ. ಫೆಬ್ರವರಿ ತಿಂಗಳಿನ ಐಎಚ್\\u200cಎಸ್ ಮಾರ್ಕಿಟ್ output ಟ್\\u200cಪುಟ್ ಗೇಜ್ 2013 ರ ನಂತರದ ಅತ್ಯಂತ ಕಡಿಮೆ ಮಟ್ಟಕ್ಕೆ ಇಳಿದಿದೆ ಕಡಿಮೆ ಹೊಸ ಆದೇಶಗಳು ಮತ್ತು ಬೇಡಿಕೆ ಮತ್ತು ಕತ್ತರಿಸಿದ ಪೂರೈಕೆ ಸರಪಳಿಗಳ ಬಗ್ಗೆ ಕಾರ್ಖಾನೆಗಳು ಮತ್ತು ಸೇವಾ ಪೂರೈಕೆದಾರರಲ್ಲಿ ಕಾಳಜಿ ಒಂದು ಪ್ರಮುಖ ಅಳತೆ ದೇಶೀಯ ಖರೀದಿದಾರರಿಗೆ ಆಧಾರವಾಗಿರುವ ಬೇಡಿಕೆಯ ಅಂತಿಮ ಮಾರಾಟವು ನಾಲ್ಕನೇ ತ್ರೈಮಾಸಿಕದಲ್ಲಿ ವಾರ್ಷಿಕ 1 5 ರಷ್ಟು ಏರಿಕೆಯಾಗಿದ್ದು, ಆರಂಭದಲ್ಲಿ ವರದಿಯಾದ 1 6 ರಿಂದ ಪರಿಷ್ಕರಿಸಲ್ಪಟ್ಟಿದೆ ಮತ್ತು ಒಂದು ವರ್ಷದಲ್ಲಿ ದುರ್ಬಲವಾಗಿದೆ\",0\\n\"ಅವರು ಗುರುವಾರ ಮಾತನಾಡುತ್ತಾ ಡಕ್ ಜಿಯಾಂಗ್ ಜನರಲ್ ಆಸ್ಪತ್ರೆಗೆ ಭೇಟಿ ನೀಡಿದಾಗ ಐದು ಹನೋಯಿ ಆಸ್ಪತ್ರೆಗಳಲ್ಲಿ ಒಂದನ್ನು ಸಂಪರ್ಕಿಸಲು ಮತ್ತು ಕೋವಿಡ್ 19 ರೋಗಿಗಳಿಗೆ ಚಿಕಿತ್ಸೆ ನೀಡಲು ಗೊತ್ತು ಮಾಡಲಾಗಿದೆ. ಹನೋಯಿ ಅವರ 10 ಮಿಲಿಯನ್ ಪ್ರಬಲ ಜನಸಂಖ್ಯೆಯಲ್ಲಿ ದಕ್ಷಿಣ ಕೊರಿಯಾದ ದೊಡ್ಡ ಸಮುದಾಯವಿದೆ, ವಿಶೇಷವಾಗಿ ಥಾನ್ ಕ್ಸುವಾನ್ ಮತ್ತು ಕಾವ್ ಗಿಯೆ ಹ್ಯೂ ಫೆಬ್ರವರಿ 27, 2020 ರಂದು ಹನೋಯಿ ಆರೋಗ್ಯ ಇಲಾಖೆಯಲ್ಲಿನ ವೂಂಗ್ ದಿನ್ಹ್ ಹನೋಯಿ ಅವರ ಪಕ್ಷದ ಕಾರ್ಯದರ್ಶಿ ದಕ್ಷಿಣ ಕೊರಿಯಾ ಕಳೆದ ಕೆಲವು ದಿನಗಳಿಂದ ಅಂತರರಾಷ್ಟ್ರೀಯ ಮುಖ್ಯಾಂಶಗಳನ್ನು ಮಾಡಿದೆ, ಚೀನಾದ ನಂತರ 1766 ಕರೋನವೈರಸ್ ಸೋಂಕುಗಳು ಆಗ್ನೇಯ ನಗರವಾದ ಡೇಗು ಮತ್ತು ಹತ್ತಿರದ ಉತ್ತರ ಜಿಯೊಂಗ್\\u200cಸಾಂಗ್ ಪ್ರಾಂತ್ಯ ಬುಧವಾರದ ವೇಳೆಗೆ ಏಕಾಏಕಿ ಪ್ರದೇಶಗಳಿಂದ ಬರುವ ಸುಮಾರು 650 ಜನರನ್ನು ಹನೋಯಿ ಮಿಲಿಟರಿ ಹೈಕಮಾಂಡ್ ನಿರ್ವಹಿಸುತ್ತಿರುವ ವಲಯಗಳಲ್ಲಿ ನಿರ್ಬಂಧಿಸಲಾಗಿದೆ ಎಂದು ಪುರಸಭೆಯ ಆರೋಗ್ಯ ಇಲಾಖೆಯ ನಿರ್ದೇಶಕ ನ್ಗುಯೇನ್ ಖಾಕ್ ಹೈನ್ ಹೇಳಿದ್ದಾರೆ.\",0\\n\"ಹರಡುವಿಕೆಯನ್ನು ನಿಯಂತ್ರಿಸಲು ಸಾಮ್ರಾಜ್ಯದ ಎಲ್ಲಾ ಧಾರ್ಮಿಕ ಪ್ರವಾಸಗಳನ್ನು ನಿಲ್ಲಿಸುವ ಸೌದಿ ಅರೇಬಿಯಾದ ನಿರ್ಧಾರವು ಏರ್ ಇಂಡಿಯಾ ಇಂಡಿಗೊ ಮತ್ತು ಸೌದಿ ಅರಬ್ ಏರ್ಲೈನ್ಸ್ ಸೌದಿ ಜೊತೆಗೆ ಮೂರು ಭಾರತೀಯ ವಿಮಾನಯಾನ ಸಂಸ್ಥೆಗಳನ್ನು ಜೆಡ್ಡಾಗೆ 98 ಸಾಪ್ತಾಹಿಕ ವಿಮಾನಯಾನಗಳನ್ನು ನಡೆಸುತ್ತದೆ, ಇದು ಮೆಕ್ಕಾ ಮತ್ತು ಮದೀನಾಕ್ಕೆ ಪ್ರಮುಖ ಹೆಬ್ಬಾಗಿಲು ಸೌದಿ ಮೆಕ್ಕಾ ಮತ್ತು ಮದೀನಾಕ್ಕೆ ಉಮ್ರಾ ಅಥವಾ ಧಾರ್ಮಿಕ ಪ್ರವಾಸಗಳನ್ನು ತಾತ್ಕಾಲಿಕವಾಗಿ ಸ್ಥಗಿತಗೊಳಿಸುವುದಾಗಿ ಸರ್ಕಾರ ಗುರುವಾರ ಪ್ರಕಟಿಸಿದೆ. ಹೆಚ್ಚುವರಿಯಾಗಿ ಭಾರತ ಸೇರಿದಂತೆ ಇಪ್ಪತ್ತು ದೇಶಗಳ ಪ್ರವಾಸಿ ವೀಸಾ ಹೊಂದಿರುವವರಿಗೆ ಚೀನಾದಿಂದ ಯುರೋಪಿಗೆ ಹರಡಿರುವ ರೋಗದ ಹರಡುವಿಕೆಯನ್ನು ಪರೀಕ್ಷಿಸುವ ಅಸಾಧಾರಣ ನಿರ್ಧಾರದಲ್ಲಿ ಪ್ರವೇಶಿಸಲು ಅನುಮತಿಸಲಾಗುವುದಿಲ್ಲ. ಪಶ್ಚಿಮ ಏಷ್ಯಾ ಸೌದಿ ಅರೇಬಿಯಾ ಯುಎಇ ನಂತರ ಪಶ್ಚಿಮ ಏಷ್ಯಾದ ಭಾರತೀಯರಿಗೆ ಎರಡನೇ ಅತಿದೊಡ್ಡ ವಿಮಾನ ಪ್ರಯಾಣ ಮಾರುಕಟ್ಟೆಯಾಗಿದೆ ಮತ್ತು 2019 ರಲ್ಲಿ ಸುಮಾರು 9 ಮಿಲಿಯನ್ ಪ್ರಯಾಣಿಕರು ಉಭಯ ದೇಶಗಳ ನಡುವೆ ಹಾರಾಟ ನಡೆಸಿದ್ದಾರೆ. ಸೌದಿ ಸರ್ಕಾರದ ನಿರ್ಧಾರದ ನಂತರ ನಾವು ಜೆಡ್ಡಾ ಮಾರ್ಗದಲ್ಲಿ ಆವರ್ತನವನ್ನು ಕಡಿಮೆ ಮಾಡಬೇಕಾಗಬಹುದು.\",0\\n\"ಹೆಚ್ಚಿದ ಬೇಡಿಕೆಯು ಕೆಲವು ರಸಾಯನಶಾಸ್ತ್ರಜ್ಞರನ್ನು ಸಿಡ್ನಿಯಲ್ಲಿನ ಹಲವಾರು ಪ್ರಿಕ್ಲೈನ್ \\u200b\\u200bಮಳಿಗೆಗಳು ಸೇರಿದಂತೆ ಪಡಿತರ ಸರಬರಾಜಿಗೆ ಒತ್ತಾಯಿಸಿದೆ, ಅದು ಗ್ರಾಹಕರು ಖರೀದಿಸಬಹುದಾದ ಉತ್ಪನ್ನಗಳ ಸಂಖ್ಯೆಯನ್ನು ಸೀಮಿತಗೊಳಿಸುತ್ತದೆ ಎ ಪ್ರಿಕ್ಲೈನ್ \\u200b\\u200bವಕ್ತಾರರು ಹ್ಯಾಂಡ್ ಸ್ಯಾನಿಟೈಸರ್ ಸುತ್ತಲೂ ಗ್ರಾಹಕರ ಖರೀದಿಯನ್ನು ಸೀಮಿತಗೊಳಿಸುವ ಯಾವುದೇ ನಿರ್ಧಾರವನ್ನು ಪ್ರತ್ಯೇಕ ಮಳಿಗೆಗಳಿಂದ ಮಾಡಲಾಗುತ್ತದೆ ನಾವು ಪ್ರಸ್ತುತ ಕೊರತೆಗಳನ್ನು ಎದುರಿಸುತ್ತಿದ್ದೇವೆ ಸಾಮಾನ್ಯ ಗ್ರಾಹಕ ಬೇಡಿಕೆಗಿಂತ ಹೆಚ್ಚಿನದರಿಂದ ನಮ್ಮ ಅಂಗಡಿಗಳಲ್ಲಿ ಕೆಲವು ಆಂಟಿಬ್ಯಾಕ್ಟೀರಿಯಲ್ ಹ್ಯಾಂಡ್ ವಾಶ್ ಮತ್ತು ಸ್ಯಾನಿಟೈಸರ್ ಉತ್ಪನ್ನಗಳು ವಕ್ತಾರರು ಕಳೆದ ತಿಂಗಳು ಚಾಟ್ಸ್\\u200cವುಡ್\\u200cನಲ್ಲಿರುವ ಕೆಮಿಸ್ಟ್ ವೇರ್\\u200cಹೌಸ್ ಅಂಗಡಿಯ ಚಿತ್ರಗಳು ಹ್ಯಾಂಡ್ ಸ್ಯಾನಿಟೈಸರ್ ಮತ್ತು ಫೇಸ್ ಮಾಸ್ಕ್\\u200cಗಳ ಖಾಲಿ ಕಪಾಟನ್ನು ತೋರಿಸಿದೆ ಎಂದು ಹೇಳಿದರು. ಮತ್ತು ಎಲ್ಲವನ್ನೂ ಜನವರಿ 30 ರಂದು ಮಾರಾಟ ಮಾಡಲಾಗಿದೆ\",0\\n\"ಬುಧವಾರ ಬಿಡುಗಡೆಯಾದ ಹುರುನ್ ಗ್ಲೋಬಲ್ ರಿಚ್ ಲಿಸ್ಟ್ 2020 ರ ಪ್ರಕಾರ ಈ ವರ್ಷದ ಜನವರಿ 31 ರಂದು ಶತಕೋಟ್ಯಾಧಿಪತಿಗಳು ತಮ್ಮ ನಿವ್ವಳ ಮೌಲ್ಯದ ಆಧಾರದ ಮೇಲೆ ಒಟ್ಟು ಶೇಕಡಾ 16 ರಷ್ಟು ಏರಿಕೆಯಾಗಿದೆ. ಕೋಟ್ಯಾಧಿಪತಿಗಳನ್ನು ಎತ್ತರಕ್ಕೆ ದಾಖಲಿಸಲು ರೂಪರ್ಟ್ ಹೂಗ್ವೆರ್ಫ್ ಅಧ್ಯಕ್ಷ ಮತ್ತು ಹುರುನ್ ರಿಸರ್ಚ್ ಇನ್ಸ್ಟಿಟ್ಯೂಟ್ನ ಮುಖ್ಯ ಸಂಶೋಧಕ ವರದಿಯಲ್ಲಿ ಜೆಫ್ ಬೆಜೋಸ್ ಸತತ ಮೂರು ವರ್ಷಗಳಿಂದ ವಿಶ್ವದ ಅತ್ಯಂತ ಶ್ರೀಮಂತ ವ್ಯಕ್ತಿ ಮತ್ತು 140 ಬಿಲಿಯನ್ ಚೀನಾದ ಷೇರು ಮಾರುಕಟ್ಟೆಗಳ ಒಟ್ಟು ಮೌಲ್ಯವನ್ನು 14 ಕ್ಕೆ ಹೋಲಿಸಿದರೆ ಜನವರಿ 2019 ರ ಕರೋನವೈರಸ್ ಏಕಾಏಕಿ ಚೀನಾದ ಹೊಸ ವರ್ಷದ ಮಹಿಳೆಯರು ಕುಸಿತಕ್ಕೆ ಕಾರಣವಾದರೂ ವಿಶ್ವದ ಬಿಲಿಯನೇರ್\\u200cಗಳ ಪಟ್ಟಿಯಲ್ಲಿ ಕೇವಲ 15 ಪ್ರತಿಶತದಷ್ಟು ಮಹಿಳೆಯರು ಇದ್ದಾರೆ, ಶ್ರೀಮಂತರು 59 ಬಿಲಿಯನ್ ಮೌಲ್ಯದ ವಾಲ್\\u200cಮಾರ್ಟ್\\u200cನ ಆಲಿಸ್ ವಾಲ್ಟನ್ 70\",1\\nಎಪಿ ಫೋಟೋ ಸ್ಟೀವನ್ ಸೆನ್ನೆ ವಾಷಿಂಗ್ಟನ್ ಎಪಿ ಕಾರ್ಖಾನೆಗಳು ನಿಮಗೆ ಜನವರಿಯಲ್ಲಿ ಅದ್ದಿದ ಕಾರುಗಳ ಆಟೋ ಪಾರ್ಟ್ಸ್ ಮತ್ತು ಮಿಲಿಟರಿ ವಿಮಾನಗಳ ಬೇಡಿಕೆ ಕಡಿಮೆಯಾಗಿದೆ ಎಂದು ವಾಣಿಜ್ಯ ಇಲಾಖೆ ಗುರುವಾರ ತಿಳಿಸಿದೆ. ಕಳೆದ ತಿಂಗಳು 2 9 ಏರಿದ ನಂತರ ಬಾಳಿಕೆ ಬರುವ ಸರಕುಗಳ ಆದೇಶಗಳು 0 2 ರಷ್ಟು ಕುಸಿದಿದೆ ಎಂದು ವಾಣಿಜ್ಯ ಇಲಾಖೆ ಗುರುವಾರ ತಿಳಿಸಿದೆ. ಡಿಸೆಂಬರ್ನಲ್ಲಿ ಬಾಷ್ಪಶೀಲ ಸಾರಿಗೆ ಆದೇಶಗಳನ್ನು ಹೊರತುಪಡಿಸಿ ಬಾಳಿಕೆ ಬರುವ ಸರಕುಗಳ ಆದೇಶಗಳು ಏಪ್ರಿಲ್ 2018 ರಿಂದ 0 9 ರಷ್ಟು ವೇಗವಾಗಿ ಏರಿಕೆಯಾಗಿದೆ ಮಿಲಿಟರಿ ವಿಮಾನಗಳ ಆದೇಶಗಳು ಕಳೆದ ತಿಂಗಳು 19% ನಷ್ಟು ಕುಸಿದವು ಮತ್ತು ಕಾರುಗಳು ಮತ್ತು ವಾಹನ ಭಾಗಗಳ ಆದೇಶಗಳು ಕುಸಿದವು 0 8 ವಿಮಾನವನ್ನು ಹೊರತುಪಡಿಸಿ ಲಾಭರಹಿತ ಬಂಡವಾಳ ಸರಕುಗಳಿಗಾಗಿ ವ್ಯಾಪಾರ ಹೂಡಿಕೆ ಆದೇಶಗಳನ್ನು ಪತ್ತೆ ಮಾಡುವ ಒಂದು ವರ್ಗ ಗುಲಾಬಿ ಡಿಸೆಂಬರ್ನಲ್ಲಿ ಬಿದ್ದು ನವೆಂಬರ್ನಲ್ಲಿ ಫ್ಲಾಟ್ ಆದ ನಂತರ ಜನವರಿಯಲ್ಲಿ 1%,0\\n\"ಲಿಟಲ್ ರಾಕ್ ಅರ್ಕಾನ್ಸಾಸ್\\u200cನ ಮೇಫ್ಲವರ್ ಸಿಟಿ ಹಾಲ್\\u200cನಲ್ಲಿರುವ ನ್ಯಾಯಾಲಯವನ್ನು ತೆರವುಗೊಳಿಸಲು ನ್ಯಾಯಾಧೀಶರು ಆದೇಶಿಸಿದರು, ಸೆಲಿಯಾ ಹಿಲ್ ಮಾರಣಾಂತಿಕ ವೈರಸ್\\u200cಗೆ ತುತ್ತಾಗಿದ್ದಾರೆಂದು ಹೇಳಿಕೊಂಡ ನಂತರ ಹಿಲ್ 34 ವಾಂತಿ ಮಾಡಿದ ನಂತರ ಸಾಕ್ಷಿಗಳು ನ್ಯಾಯಾಲಯದಿಂದ ಓಡಿಹೋದರು ಮತ್ತು 102 ಎಫ್ ಜ್ವರವನ್ನು ನಡೆಸುತ್ತಿದ್ದಾರೆಂದು ಹೇಳಿಕೊಂಡರು ಆದರೆ ಅಧಿಕಾರಿಗಳು ನಂತರ ಹಿಲ್ ಎಂದು ಸ್ಥಾಪಿಸಿದರು ಸುಳ್ಳು ಹೇಳಲಾಗಿದೆ ಮತ್ತು ಈಗ ಈ ಘಟನೆಯ ಕುರಿತು ಹೆಚ್ಚಿನ ಅಪರಾಧಗಳನ್ನು ಹೊರಿಸಲು ಅವಳು ಸಿದ್ಧಳಾಗಿದ್ದಾಳೆ. ನ್ಯಾಯಾಲಯದ ತಿರಸ್ಕಾರದ ಆರೋಪವನ್ನು ಅವಳು ಎದುರಿಸುತ್ತಿದ್ದಾಳೆ ಸುಳ್ಳು ಪೊಲೀಸ್ ವರದಿಯನ್ನು ಸಲ್ಲಿಸಿದ ಮತ್ತು ಸರ್ಕಾರಿ ಕಾರ್ಯಾಚರಣೆಗಳಿಗೆ ಅಡ್ಡಿಯುಂಟುಮಾಡಿದ ಮೇಫ್ಲವರ್ ಪೊಲೀಸ್ ಮುಖ್ಯಸ್ಥ ರಾಬರ್ಟ್ ಅಲ್ಕಾನ್ ಅವರು ಹೇಳುವ ಪ್ರಕಾರ ನಾವು ಹೊಂದುವ ಬಗ್ಗೆ ಸುಳ್ಳು ಹೇಳಿದ್ದೇವೆ ಅರ್ಕಾನ್ಸಾಸ್\\u200cನಲ್ಲಿ ಯಾವುದೇ ಕೊರೊನಾವೈರಸ್ ರೋಗನಿರ್ಣಯಗಳು ನಡೆದಿಲ್ಲ ಎಂದು ಅಧಿಕಾರಿಗಳು ಹೇಳುತ್ತಾರೆ\",0\\n\"ಸಿರಸ್ ಲಾಜಿಕ್ ನಾಸ್ಡಾಕ್ ಕ್ರುಸ್ ಮತ್ತು ಕೊರ್ವೊ ನಾಸ್ಡಾಕ್ ಕ್ಯೂಆರ್ವಿಒ ಮುಂತಾದ ಪ್ರಮುಖ ಆಪಲ್ ಪೂರೈಕೆದಾರರು ತಡವಾದ ಸಿರಸ್ ಲಾಜಿಕ್ನ ಎರಡು ಅಂಕೆಗಳಿಂದ ಕುಸಿದಿದ್ದಾರೆ ಎಂಬುದು ಆಶ್ಚರ್ಯಕರವಲ್ಲ 5 ಜಿ ಸ್ಮಾರ್ಟ್\\u200cಫೋನ್ ಮಾರುಕಟ್ಟೆಯಲ್ಲಿ ಪ್ರಮುಖ ಡೆಂಟ್ ಮಾಡಲು ಅದರ ಬೃಹತ್ ಸ್ಥಾಪಿತ ನೆಲೆಗೆ ದೊಡ್ಡ ಅಪ್\\u200cಗ್ರೇಡ್ ಸೈಕಲ್ ಮತ್ತು ಅದರ ಸಾಧನಗಳನ್ನು ಹೆಚ್ಚು ಪ್ರವೇಶಿಸುವಂತೆ ಮಾಡುವ ಹೊಸ ತಂತ್ರ ಸಿರಸ್ ಇತ್ತೀಚಿನ ಆರ್ಥಿಕ ಪುನರುತ್ಥಾನವು ದೀರ್ಘಾವಧಿಯಲ್ಲಿ ಮುಂದುವರಿಯಬಹುದು ಹೂಡಿಕೆದಾರರು ಲಾಭ ಪಡೆಯಲು ಆಪಲ್ ಉತ್ಪನ್ನದ ನಾಟಕವನ್ನು ಹುಡುಕುತ್ತಿದ್ದಾರೆ 5 ಜಿ ಸ್ಮಾರ್ಟ್\\u200cಫೋನ್\\u200cಗಳಲ್ಲಿನ ಉತ್ಕರ್ಷವು ಸಿರಸ್ ಸ್ಟಾಕ್\\u200cನಲ್ಲಿನ ಹೆಚ್ಚಿನ ಪುಲ್\\u200cಬ್ಯಾಕ್\\u200cಗಳನ್ನು ದೀರ್ಘಾವಧಿಯಲ್ಲಿ ಬೆಳವಣಿಗೆಗೆ ನಿಗದಿಪಡಿಸಿದ ಕಂಪನಿಯೊಂದನ್ನು ಸ್ನ್ಯಾಪ್ ಮಾಡುವ ಅವಕಾಶವಾಗಿ ಪರಿಗಣಿಸಬಹುದು, ಆದರೆ ಕೊರ್ವೊ 5 ಜಿ ಸ್ಮಾರ್ಟ್\\u200cಫೋನ್ ಕ್ರಾಂತಿಯ ಮೇಲೆ ಒಂದು ದೊಡ್ಡ ನಾಟಕವಾಗಿದೆ, ಏಕೆಂದರೆ ಅದರ ಮೊಬೈಲ್ ವ್ಯವಹಾರವು ಒಟ್ಟು ಆದಾಯದ 76 ರಷ್ಟಿದೆ ಹಿಂದಿನ ತ್ರೈಮಾಸಿಕ\",0\\nಬಾಳಿಕೆ ಬರುವ ಸರಕುಗಳ ಯುಎಸ್ ಆದೇಶಗಳು ಜನವರಿಯಲ್ಲಿ 0 2 ಸ್ಲಿಪ್ ಕಾರುಗಳ ದುರ್ಬಲ ಬೇಡಿಕೆಯ ಮೇಲೆ ಜನವರಿಯಲ್ಲಿ 0 2 ಸ್ಲಿಪ್ 0 ಮಿಲಿಟರಿ ವೈಸ್ಮನ್ ಎಪಿ ಎಕನಾಮಿಕ್ಸ್ ರೈಟರ್ ಫೆಬ್ರವರಿ 27 2020 1 32 PM2 ನಿಮಿಷ ಓದುವಿಕೆ ವಾಷಿಂಗ್ಟನ್ ನಿಮಗೆ ದೊಡ್ಡ ಕಾರ್ಖಾನೆಗಳಲ್ಲಿ ತಯಾರಿಸಿದ ಸರಕುಗಳಿಗಾಗಿ ಕಾರ್ಖಾನೆಗಳು ಕಾರುಗಳ ಆಟೋ ಪಾರ್ಟ್ಸ್ ಮತ್ತು ಮಿಲಿಟರಿ ವಿಮಾನಗಳ ಬೇಡಿಕೆ ಕಡಿಮೆಯಾದ ಕಾರಣ ಜನವರಿಯು ಡಿಸೆಂಬರ್\\u200cನಲ್ಲಿ 2 9 ಅನ್ನು ಏರಿದ ನಂತರ ಬಾಳಿಕೆ ಬರುವ ಸರಕುಗಳ ಆದೇಶಗಳು 0 2 ರಷ್ಟು ಕುಸಿದಿದೆ ಎಂದು ವಾಣಿಜ್ಯ ಇಲಾಖೆ ಗುರುವಾರ ತಿಳಿಸಿದೆ. ಬಾಷ್ಪಶೀಲ ಸಾರಿಗೆ ಆದೇಶಗಳನ್ನು ಹೊರತುಪಡಿಸಿ ಬಾಳಿಕೆ ಬರುವ ಸರಕುಗಳ ಆದೇಶಗಳು ಏರಿತು 0 ಏಪ್ರಿಲ್ 2018 ರಿಂದ ವೇಗವಾಗಿ ಬೆಳವಣಿಗೆ ಮಿಲಿಟರಿ ವಿಮಾನಗಳಿಗಾಗಿ ಕಳೆದ ತಿಂಗಳು 19 6 ರಷ್ಟು ಕುಸಿದಿದೆ ಮತ್ತು ಕಾರುಗಳು ಮತ್ತು ಆಟೋ ಭಾಗಗಳ ಆದೇಶಗಳು ಕುಸಿದವು.,0\\n8 28 ಎಎಮ್ ಇಟಿ ಅನ್ಹ್ಯೂಸರ್ ಬುಶ್ ಇನ್ಬೆವ್ ಬಿಆರ್ ಎನ್ವೈಎಸ್ಇ ಸ್ಟಾಕ್ 2019 ರ ಕೊನೆಯ ಮೂರು ತಿಂಗಳುಗಳಲ್ಲಿ ನಿರಾಶಾದಾಯಕ ಆದಾಯವನ್ನು ವರದಿ ಮಾಡಿದ ನಂತರ ಎಂಟು ವರ್ಷಗಳ ಕನಿಷ್ಠ 8 ಕ್ಕೆ ಇಳಿದಿದೆ. ಎಬಿಐ ಸಹ ಕೋವಿಡ್ 19 ವೈರಸ್ ನಂತರದ ಮೊದಲ ತ್ರೈಮಾಸಿಕದಲ್ಲಿ ಇಬಿಐಟಿಡಿಎ 10 ರಷ್ಟು ಕುಸಿಯುತ್ತದೆ ಎಂದು ನಿರೀಕ್ಷಿಸಿದೆ. ಚೀನಾದಲ್ಲಿ ತನ್ನ ಕಾರ್ಯಾಚರಣೆಯನ್ನು ವಿಶೇಷವಾಗಿ ಕಠಿಣಗೊಳಿಸಿದೆ ಮೈಕ್ರೋಸಾಫ್ಟ್ ನಾಸ್ಡಾಕ್ ಸ್ಟಾಕ್ ತನ್ನ ಮೊದಲ ತ್ರೈಮಾಸಿಕ ಮಾರಾಟ ಮಾರ್ಗದರ್ಶನವನ್ನು ತಪ್ಪಿಸಿಕೊಳ್ಳುವುದಾಗಿ ಹೇಳುತ್ತಾ ಆಪಲ್ ನಾಸ್ಡಾಕ್ಗೆ ಸೇರ್ಪಡೆಗೊಂಡ ನಂತರ 4% ಕುಸಿದಿದೆ. ಕಂಪನಿಯು ಗಳಿಕೆಗಳಿಗೆ ಗಮನಾರ್ಹ ಮತ್ತು negative ಣಾತ್ಮಕ ಪರಿಣಾಮ ಬೀರುವ ಬಗ್ಗೆ ಎಚ್ಚರಿಕೆ ನೀಡಿದ ನಂತರ ನಾಸ್ಡಾಕ್ ಸ್ಟಾಕ್ 2% ಕುಸಿದಿದೆ. ಕರೋನವೈರಸ್ ಅದರ ನಾಲ್ಕನೇ ತ್ರೈಮಾಸಿಕ ಫಲಿತಾಂಶಗಳು ನಿರೀಕ್ಷೆಗಳಿಗಿಂತ ಮುಂಚೆಯೇ ಬಂದಿದ್ದರೂ ಕಂಪನಿಯು ಮೊದಲ ತ್ರೈಮಾಸಿಕದಲ್ಲಿ ಇಬಿಐಟಿಡಿಎ ಸುಮಾರು 575 ಮಿಲಿಯನ್ ಆಗಲಿದೆ ಎಂದು ಹೇಳಿದೆ.,0\\nಕೊರೋನವೈರಸ್ ಫಹಾದ್ ಶಬ್ಬೀರ್ ಅವರ ಮೊದಲ ಎರಡು ಪ್ರಕರಣಗಳನ್ನು ಪಾಕಿಸ್ತಾನ ದೃ 7 ಪಡಿಸಿದೆ 7 ನಿಮಿಷಗಳ ಹಿಂದೆ ಥು 27 ಫೆಬ್ರವರಿ 2020 06 30 PM ಇಸ್ಲಾಮಾಬಾದ್ ಉರ್ದುಪಾಯಿಂಟ್ ಪಾಕಿಸ್ತಾನ ಪಾಯಿಂಟ್ ನ್ಯೂಸ್ ವಾಮ್ 27 ಫೆಬ್ರವರಿ 2020 ಪಾಕಿಸ್ತಾನ ತನ್ನ ಮೊದಲ ಎರಡು ಕರೋನವೈರಸ್ ಪ್ರಕರಣಗಳನ್ನು ವರದಿ ಮಾಡಿದೆ COVID 19 ರಾಷ್ಟ್ರೀಯ ಆರೋಗ್ಯ ಸೇವೆಗಳ ಕ್ವೆಟ್ಟಾ ವಿಶೇಷ ಸಹಾಯಕದಲ್ಲಿ ಸುದ್ದಿಗೋಷ್ಠಿಯನ್ನು ಉದ್ದೇಶಿಸಿ ಎರಡೂ ರೋಗಿಗಳು ಇತ್ತೀಚೆಗೆ ಇರಾನ್\\u200cನಿಂದ ಆಗಮಿಸಿದ್ದಾರೆ ಎಂದು ಡಾ. ಜಾಫರ್ ಮಿರ್ಜಾ ಹೇಳಿದ್ದಾರೆ. ಇಸ್ಲಾಮಾಬಾದ್\\u200cನ ಎರಡನೇ ರೋಗಿಯನ್ನು ರಾಜಧಾನಿಯ ಪಾಕಿಸ್ತಾನ ವೈದ್ಯಕೀಯ ವಿಜ್ಞಾನ ಸಂಸ್ಥೆಗೆ ದಾಖಲಿಸಲಾಗಿದೆ. ಎರಡೂ ರೋಗಿಗಳು ಸ್ಥಿರ ಸ್ಥಿತಿಯಲ್ಲಿದ್ದಾರೆ ಎಂದು ಹೇಳಲಾಗುತ್ತದೆ ಬಲೂಚಿಸ್ತಾನ್ ಸರ್ಕಾರ ಮಾರ್ಚ್ 15 ರವರೆಗೆ ಶಾಲೆಗಳು ಮತ್ತು ಧಾರ್ಮಿಕ ಮದರಸಾಗಳನ್ನು ಮುಚ್ಚಿದೆ ಸಿಂಧ್ ಸರ್ಕಾರ ಫೆಬ್ರವರಿ 27 ಮತ್ತು 28 ರಂದು ಶಾಲೆಗಳನ್ನು ಮುಚ್ಚುವುದಾಗಿ ಘೋಷಿಸಿತು,1\\nಫೈಲ್ ಫೋಟೋ 2020 ಟೊಯೋಟಾ ಮಿರೈ ಹೈಡ್ರೋಜನ್ ಎಲೆಕ್ಟ್ರಿಕ್ ಇಂಧನ ಕೋಶ ಕಾರನ್ನು ಟೊರೊಂಟೊ ಒಂಟಾರಿಯೊ ಕೆನಡಾದಲ್ಲಿ ನಡೆದ ಕೆನಡಿಯನ್ ಇಂಟರ್ನ್ಯಾಷನಲ್ ಆಟೋ ಪ್ರದರ್ಶನದಲ್ಲಿ ಪ್ರದರ್ಶಿಸಲಾಗಿದೆ ಫೆಬ್ರವರಿ 18 2020 ರಾಯಿಟರ್ಸ್ ಕ್ರಿಸ್ ಹೆಲ್ಗ್ರೆನ್ಫ್ರಾಂಕ್ಫರ್ಟ್ ರಾಯಿಟರ್ಸ್ ಕಾರ್ ತಯಾರಕರು ಮುಂದಿನ ವಾರ ಜಿನೀವಾ ಕಾರು ಪ್ರದರ್ಶನಕ್ಕೆ ಹಾಜರಾಗುವ ಸಿಬ್ಬಂದಿಯನ್ನು ಕಡಿಮೆಗೊಳಿಸುತ್ತಿದ್ದಾರೆ. ಜಿನೀವಾ ಪ್ಯಾಲೆಕ್ಸ್\\u200cಪೋದಲ್ಲಿ ಒಂದನ್ನು ಒಳಗೊಂಡಂತೆ ಅಂತಾರಾಷ್ಟ್ರೀಯ ಪ್ರದರ್ಶನದ ಸಂಘಟಕರು ಜಿನೀವಾ ವಾಚ್ ಮೇಳವನ್ನು ರದ್ದುಗೊಳಿಸಿದಂತೆಯೇ ಕಾರ್ ಪ್ರದರ್ಶನವು ಮುಂದುವರಿಯುತ್ತದೆ ಎಂದು ಒತ್ತಾಯಿಸಿದರು ಮತ್ತು ಸ್ವಿಸ್ ಅಧಿಕಾರಿಗಳು ವರದಿ ಮಾಡಿದಂತೆ ಜಿನೀವಾ ಪ್ರಯಾಣದ ನಿರ್ಬಂಧಗಳಿಗೆ ವೈರಸ್ ಹರಡಿತು ಮತ್ತು ವೈರಸ್ ಹರಡುವ ಭೀತಿ ಈಗಾಗಲೇ ಬಾರ್ಸಿಲೋನಾದ ಫ್ರಾಂಕ್\\u200cಫರ್ಟ್\\u200cನ ಲೈಟ್ ಬಿಲ್ಡಿಂಗ್ ಫೇರ್ ಮತ್ತು ಬೀಜಿಂಗ್ ಆಟೋ ಶೋನಲ್ಲಿನ ಮೊಬೈಲ್ ವರ್ಲ್ಡ್ ಕಾಂಗ್ರೆಸ್ ಸೇರಿದಂತೆ ಇತರ ವ್ಯಾಪಾರ ಮೇಳಗಳನ್ನು ಮುಂದೂಡಲು ಅಥವಾ ರದ್ದುಗೊಳಿಸಲು ಕಾರಣವಾಯಿತು. ಫೆರಾರಿ ರೇಸ್ ಎಂಐ ಮತ್ತು ಬ್ರೇಕ್ ತಯಾರಕ ಬ್ರೆಂಬೊ ಬಿಆರ್\\u200cಬಿಐ ಎಂಐನ ಮುಖ್ಯ ಅಧಿಕಾರಿಗಳು ಸ್ವಿಸ್\\u200cನಲ್ಲಿ ತಮ್ಮ ಹಾಜರಾತಿಯನ್ನು ರದ್ದುಗೊಳಿಸಿದ್ದಾರೆ ಎಂದು ಬುಧವಾರ ತಿಳಿದುಬಂದಿದೆ. ಇಟಾಲಿಯನ್ ಆಟೋ ವಿಧಿಸಿದ ಪ್ರಯಾಣ ನಿರ್ಬಂಧಗಳಿಂದಾಗಿ ಕಾರ್ ಪ್ರದರ್ಶನ ಹೋರಿಟೀಸ್,0\\n\"ಜಾಗತಿಕ ಕರೋನವೈರಸ್ ಏಕಾಏಕಿ ಕಳೆದ ಮೂರು ಸೆಷನ್\\u200cಗಳಲ್ಲಿ 13% ಕುಸಿದಿರುವ ಸ್ಟಾಕ್ ಆರ್ಥಿಕ ಕುಸಿತದ ಭೀತಿಯನ್ನು ಹುಟ್ಟುಹಾಕಿದೆ ಮತ್ತು ಷೇರು ಮಾರುಕಟ್ಟೆ ಮಾರಾಟಕ್ಕೆ ಕಾರಣವಾಗಿದೆ. ಫೆಬ್ರವರಿ 19 ರಂದು ಷೇರು 917 42 ರಂತೆ ಮುಚ್ಚಿದಾಗಿನಿಂದ ಸ್ಟಾಕ್ ಬುಧವಾರದವರೆಗೆ 15 1 ನಷ್ಟವಾಗಿದೆ ಸ್ಟಾಕ್ 733 93 ಅಥವಾ ಅದಕ್ಕಿಂತ ಕಡಿಮೆ ಮುಚ್ಚಿದರೆ ಅದು ದಾಖಲೆಯ ಎತ್ತರದಿಂದ 20 ಅನ್ನು ಕಳೆದುಕೊಂಡಿರುತ್ತದೆ, ವಾಲ್ ಸ್ಟ್ರೀಟ್\\u200cನಲ್ಲಿರುವ ಅನೇಕರು ಅಧಿಕೃತವಾಗಿ ಷೇರುಗಳನ್ನು ಕರಡಿ ಮಾರುಕಟ್ಟೆಯಲ್ಲಿ ಇಡುತ್ತಾರೆ ಎಂದು ನಂಬುತ್ತಾರೆ. ಇತ್ತೀಚಿನ ದೌರ್ಬಲ್ಯದ ಹೊರತಾಗಿಯೂ ಸ್ಟಾಕ್ ಆ ಮಟ್ಟಕ್ಕಿಂತ ಕೆಳಗಿದೆ. ಕಳೆದ ಮೂರು ತಿಂಗಳುಗಳಲ್ಲಿ ಬುಧವಾರದವರೆಗೆ 135 ಕ್ಕಿಂತಲೂ ದ್ವಿಗುಣಗೊಂಡಿದೆ, ಆದರೆ ಎಸ್ಪಿ 500 ಎಸ್ಪಿಎಕ್ಸ್ 0 38 1 2 ಕುಸಿದಿದೆ\",1\\nನಿಮಗೆ ಆದೇಶಗಳು ಜನವರಿಯಲ್ಲಿ ಅದ್ದಿದ ದೊಡ್ಡ ಟಿಕೆಟ್ ತಯಾರಿಸಿದ ಸರಕುಗಳಿಗಾಗಿ ಎಸ್ ಕಾರ್ಖಾನೆಗಳು ಕಾರುಗಳ ಆಟೋ ಭಾಗಗಳು ಮತ್ತು ಮಿಲಿಟರಿ ವಿಮಾನಗಳ ಬೇಡಿಕೆ ಕಡಿಮೆಯಾಗಿದೆ ಎಂದು ವಾಣಿಜ್ಯ ಇಲಾಖೆ ಗುರುವಾರ ತಿಳಿಸಿದೆ. ಡಿಸೆಂಬರ್\\u200cನಲ್ಲಿ 2 9 ಅನ್ನು ಏರಿದ ನಂತರ ಬಾಳಿಕೆ ಬರುವ ಸರಕುಗಳ ಆದೇಶಗಳು ಕಳೆದ ತಿಂಗಳು 0 2 ರಷ್ಟು ಕುಸಿದಿದೆ ಎಂದು ವಾಣಿಜ್ಯ ಇಲಾಖೆ ಗುರುವಾರ ತಿಳಿಸಿದೆ. ಬಾಷ್ಪಶೀಲ ಸಾರಿಗೆ ಆದೇಶಗಳನ್ನು ಹೊರತುಪಡಿಸಿ ಬಾಳಿಕೆ ಬರುವ ಸರಕುಗಳ ಆದೇಶಗಳು ಏಪ್ರಿಲ್ 2018 ರಿಂದ 0 9 ರಷ್ಟು ವೇಗವಾಗಿ ಏರಿಕೆಯಾಗಿದೆ ಮಿಲಿಟರಿ ವಿಮಾನಗಳ ಆದೇಶಗಳು ಕಳೆದ ತಿಂಗಳು 19% ನಷ್ಟು ಕುಸಿದವು ಮತ್ತು ಕಾರುಗಳು ಮತ್ತು ವಾಹನ ಭಾಗಗಳ ಆದೇಶಗಳು ಕುಸಿದವು 0 8 ವಿಮಾನವನ್ನು ಹೊರತುಪಡಿಸಿ ಲಾಭರಹಿತ ಬಂಡವಾಳ ಸರಕುಗಳಿಗಾಗಿ ವ್ಯಾಪಾರ ಹೂಡಿಕೆ ಆದೇಶಗಳನ್ನು ಪತ್ತೆಹಚ್ಚುವ ಒಂದು ವರ್ಗವು ಜನವರಿಯಲ್ಲಿ 1% ರಷ್ಟು ಏರಿತು ಡಿಸೆಂಬರ್ ಮತ್ತು ನವೆಂಬರ್ನಲ್ಲಿ ಫ್ಲಾಟ್ ಆಗಿರುತ್ತದೆ,0\\nಬ್ಯಾಂಕ್ ಆಫ್ ಅಮೆರಿಕಾ ಪ್ರಕಾರ ಕರೋನವೈರಸ್ ಮತ್ತು ಇತರ ಅಂಶಗಳಿಂದ ಉಂಟಾಗುವ ಮಹಾ ಆರ್ಥಿಕ ಹಿಂಜರಿತದಿಂದಾಗಿ ಜಾಗತಿಕ ಆರ್ಥಿಕ ಬೆಳವಣಿಗೆಯು ಈ ವರ್ಷ ಅತ್ಯಂತ ಕೆಟ್ಟದಾಗಿದೆ. ವಿಶ್ವಾದ್ಯಂತದ ಒಟ್ಟು ದೇಶೀಯ ಉತ್ಪನ್ನಗಳ ಬೆಳವಣಿಗೆ 2020 ಕ್ಕೆ 2 8 ಕ್ಕೆ ಇಳಿಯಲಿದೆ ಎಂದು ಬೋಫಾ ಗ್ಲೋಬಲ್ ರಿಸರ್ಚ್ ಹೇಳಿದೆ ಆರ್ಥಿಕ ಹಿಂಜರಿತ ಮತ್ತು ಆರ್ಥಿಕ ಬಿಕ್ಕಟ್ಟು 2009 ರ ಮಧ್ಯದಲ್ಲಿ ಕೊನೆಗೊಂಡ ನಂತರದ ಮೊದಲ ಉಪ 3 ಓದುವಿಕೆ ಕರೋನವೈರಸ್ ಏಕಾಏಕಿ ರೋಗವು ಹರಡುತ್ತಿದ್ದಂತೆ ಚೀನಾದಲ್ಲಿ ಆರ್ಥಿಕ ಚಟುವಟಿಕೆಯನ್ನು ಕುಂಠಿತಗೊಳಿಸಿದೆ ಎಂದು ಬೋಫಾ ಅರ್ಥಶಾಸ್ತ್ರಜ್ಞರು ಹೇಳುತ್ತಾರೆ ನೀವು ಎಸ್ ಚೀನಾ ವ್ಯಾಪಾರ ಯುದ್ಧ ರಾಜಕೀಯ ಅನಿಶ್ಚಿತತೆ ಮತ್ತು ಜಪಾನ್\\u200cನಲ್ಲಿನ ದೌರ್ಬಲ್ಯ ಮತ್ತು ಕೆಲವು ದಕ್ಷಿಣ ಅಮೆರಿಕಾದ ಪ್ರದೇಶಗಳು ಸಹ output ಟ್\\u200cಪುಟ್\\u200cನ ತೂಕದ ದೊಡ್ಡ ಸ್ಪಿಲ್\\u200cಓವರ್ ಪರಿಣಾಮಗಳ ಭಾಗವಾಗಿದೆ ದುರ್ಬಲ ಪ್ರವಾಸಿ ಹರಿವು ಏಷ್ಯಾದ ಮತ್ತೊಂದು ಪ್ರಮುಖ ಅಂಶವಾಗಿದೆ ಏಷ್ಯಾ ಬೋಫಾ ಅರ್ಥಶಾಸ್ತ್ರಜ್ಞ ಆದಿತ್ಯ ಭಾವೆ ಟಿಪ್ಪಣಿಯಲ್ಲಿ,0\\n\"ಈ ಮಾರ್ನಿಂಗ್ ವೀಕ್ಷಕರು ಯುಕೆ ರಾಪರ್ ಡ್ರಿಲ್ಮಿನಿಸ್ಟರ್ ಅವರನ್ನು ತನ್ನ ಸಹಿ ಬಾಲಾಕ್ಲಾವಾ ಜೊತೆ ಪ್ರದರ್ಶಿಸಿದ ನಂತರ ಕೀಟಲೆ ಮಾಡಿದರು ಮತ್ತು ಇದು ಅವನನ್ನು ಕರೋನವೈರಸ್ನಿಂದ ರಕ್ಷಿಸುತ್ತದೆ ಎಂದು ಹೇಳಿಕೊಂಡರು. ಟೆನೆರೈಫ್ ಹೋಟೆಲ್ನಲ್ಲಿ ಉಚಿತ ಶಾಂಪೇನ್ ಮೇಲೆ ಈಜುಕೊಳ ಸಿಪ್ಪಿಂಗ್ ಮೂಲಕ ನಿರ್ನಾಮವಾದ ಪ್ರವಾಸಿಗರು ವಿಶ್ರಾಂತಿ ಪಡೆಯುತ್ತಿದ್ದಾರೆ ಎಂಬ ಸುದ್ದಿಯನ್ನು ಅನುಸರಿಸಿ ರಾಪರ್ ಅತಿಥಿಗಳು ಎಂದು ಹೇಳಿದ್ದಾರೆ ವಿದೇಶದಲ್ಲಿ ವಿಶಿಷ್ಟವಾದ ಬ್ರಿಟ್ಸ್ ಆಗಿರುತ್ತಾರೆ ಆದರೆ ಅವರು ವೈದ್ಯಕೀಯ ಮುಖವಾಡಗಳನ್ನು ಧರಿಸಿ ಬೆಸವಾಗಿ ಕಾಣುತ್ತಾರೆ ಎಂದು ಸೇರಿಸಿದರು, ಡ್ರಿಲ್ಮಿನಿಸ್ಟರ್ ಮುಖವಾಡಗಳನ್ನು ಧರಿಸಿದ ಇತರರನ್ನು ವಿನೋದದಿಂದ ನೋಡುವಾಗ ವ್ಯಂಗ್ಯವನ್ನು ಗಮನಸೆಳೆದರೆ, ಇತರರು ಅವರು ತಮ್ಮ ಕ್ಲಾಸಿಕ್ ಮುಖವಾಡವನ್ನು ಏಕೆ ಧರಿಸಿದ್ದಾರೆ ಮತ್ತು ಲ್ಯಾಬ್ ಕೋಟ್ ಆಗಿ ಕಾಣಿಸಿಕೊಂಡಿದ್ದಾರೆ ಎಂದು ಗೊಂದಲಕ್ಕೊಳಗಾಗಿದ್ದಾರೆ ಆದರೆ ಡ್ರಿಲ್\\u200cಮಿನಿಸ್ಟರ್ ನಾವು ಬ್ರಿಟಿಷ್ ಜನರಿಗೆ ಪಾನೀಯವನ್ನು ಹೇಗೆ ತಿಳಿದಿದ್ದೇವೆ ಎಂಬುದನ್ನು ಮರೆತಿದ್ದೇವೆ ಮತ್ತು ಅತಿಥಿಗಳು ವಿದೇಶದಲ್ಲಿ ಬೇರೆ ಯಾವುದೇ ಬ್ರಿಟ್\\u200cನಂತೆ ವರ್ತಿಸುತ್ತಿದ್ದಾರೆ ಎಂದು ವಾದಿಸಿದರು. ಮುಖವಾಡ ಧರಿಸಿದ ವ್ಯಕ್ತಿಯು ಮುಖವಾಡ ಧರಿಸಿದ ಇತರ ಜನರನ್ನು ಕರೋನವೈರಸ್ ವಿಲಕ್ಷಣ ವಿರುದ್ಧ ಸುರಕ್ಷತಾ ಕ್ರಮವಾಗಿ ಕರೆಯುತ್ತಾನೆ\",1\\nಹೊಸ ಕರೋನವೈರಸ್\\u200cಗೆ ಸಂಬಂಧಿಸಿರುವ ಉತ್ಪನ್ನಗಳ ಬಗ್ಗೆ ಸುಳ್ಳು ಹಕ್ಕು ಸಾಧಿಸುವ ಜಾಹೀರಾತುಗಳನ್ನು ನಿಷೇಧಿಸುತ್ತಿರುವುದಾಗಿ ಫೇಸ್\\u200cಬುಕ್ ಬುಧವಾರ ಹೇಳಿದೆ. ಉತ್ಪನ್ನವನ್ನು ಒಳಗೊಂಡಿರುವ ಜಾಹೀರಾತುಗಳನ್ನು ತೆಗೆದುಹಾಕುತ್ತಿದೆ ಮತ್ತು ಸೀಮಿತ ಪೂರೈಕೆಯನ್ನು ಸೂಚಿಸುತ್ತದೆ ಎಂದು ಖಾತರಿಪಡಿಸುವ ಕರೋನವೈರಸ್ ಜಾಹೀರಾತುಗಳ ಪ್ರಸ್ತಾಪದಲ್ಲಿ ತುರ್ತು ಪ್ರಜ್ಞೆಯನ್ನು ಸೃಷ್ಟಿಸುತ್ತದೆ ಎಂದು ಸಾಮಾಜಿಕ ನೆಟ್\\u200cವರ್ಕ್ ಹೇಳಿದೆ ಚಿಕಿತ್ಸೆ ಅಥವಾ ತಡೆಗಟ್ಟುವಿಕೆಯನ್ನು ಸಹ ನಿಷೇಧಿಸಲಾಗಿದೆ ಇದು ಉದಾಹರಣೆಗೆ ವೈರಸ್ ಹರಡುವುದನ್ನು ತಡೆಗಟ್ಟಲು ಉತ್ಪನ್ನಗಳು 100 ಗ್ಯಾರಂಟಿ ಎಂದು ಹೇಳುವ ಮುಖವಾಡಗಳ ಜಾಹೀರಾತುಗಳನ್ನು ಅನುಮತಿಸಲಾಗುವುದಿಲ್ಲ ಎಂದು ಕಂಪನಿ ಹೇಳಿದೆ ಈ ನಿಷೇಧವು ಈ ವಾರ ಜಾರಿಗೆ ಬಂದಿದ್ದು ಫೇಸ್\\u200cಬುಕ್ ಈ ಹಿಂದೆ ಜಾಹೀರಾತುಗಳನ್ನು ನಿಯಮಿತವಾಗಿ ನಿಷೇಧಿಸಿತ್ತು ಪಾವತಿಸದ ಪೋಸ್ಟ್\\u200cಗಳು ಬ್ಲೀಚ್ ಕುಡಿಯುವಂತಹ ನಕಲಿ ಪರಿಹಾರಗಳನ್ನು ವೈರಸ್ ಬಗ್ಗೆ ಪಿತೂರಿ ಸಿದ್ಧಾಂತಗಳನ್ನು ಹರಡುತ್ತವೆ ಅಥವಾ ವೈದ್ಯಕೀಯ ಚಿಕಿತ್ಸೆ ಪಡೆಯುವುದನ್ನು ಜನರನ್ನು ನಿರುತ್ಸಾಹಗೊಳಿಸುತ್ತವೆ. ಚೀನಾದ ಹೊರಗಿನ ಹೊಸ ಪ್ರಕರಣಗಳ ಸಂಖ್ಯೆ ಹೊಸ ಸೋಂಕುಗಳ ಸಂಖ್ಯೆಯನ್ನು ಮೀರಿದೆ ಎಂದು ವಿಶ್ವ ಆರೋಗ್ಯ ಸಂಸ್ಥೆ ವರದಿ ಮಾಡಿದ್ದರಿಂದ ನಿಷೇಧವು ಜಾರಿಗೆ ಬಂದಿತು. ಮಂಗಳವಾರ ಮೊದಲ ಬಾರಿಗೆ COVID 19 ವೈರಸ್ ಈಗ ಕನಿಷ್ಠ 39 ದೇಶಗಳಿಗೆ ಹರಡಿತು wi ಅನ್ನು ಅನುಸರಿಸಿ ಮತ್ತು ಸಂಪರ್ಕಿಸಿ ಟ್ವಿಟ್ಟರ್ ಫೇಸ್ಬುಕ್ ಲಿಂಕ್ಡ್ಇನ್ನಲ್ಲಿ ನಮಗೆ,0\\n\"ವಾಷಿಂಗ್ಟನ್ ಫೆಬ್ರವರಿ 27 ರಾಯಿಟರ್ಸ್ ನಿರುದ್ಯೋಗ ಸವಲತ್ತುಗಳಿಗಾಗಿ ಅರ್ಜಿ ಸಲ್ಲಿಸುವ ಅಮೆರಿಕನ್ನರ ಸಂಖ್ಯೆ ಕಳೆದ ವಾರ ನಿರೀಕ್ಷೆಗಿಂತ ಹೆಚ್ಚಾಗಿದೆ ಆದರೆ ಆಧಾರವಾಗಿರುವ ಪ್ರವೃತ್ತಿ ದೃ labor ವಾದ ಕಾರ್ಮಿಕ ಮಾರುಕಟ್ಟೆ ಪರಿಸ್ಥಿತಿಗಳಿಗೆ ಅನುಗುಣವಾಗಿ ಉಳಿದಿದೆ. ರಾಜ್ಯ ನಿರುದ್ಯೋಗ ಪ್ರಯೋಜನಗಳ ಆರಂಭಿಕ ಹಕ್ಕುಗಳು 8000 ರಷ್ಟು ಏರಿಕೆಯಾಗಿದ್ದು, ಫೆಬ್ರವರಿ 22 ಕ್ಕೆ ಕೊನೆಗೊಂಡ ವಾರಕ್ಕೆ 219000 ಕ್ಕೆ ಸರಿಹೊಂದಿಸಲಾಗಿದೆ. ಇಲಾಖೆ ಗುರುವಾರ ಹೇಳಿದೆ, ಆರಂಭಿಕ ಹಕ್ಕುಗಳ ನಾಲ್ಕು ವಾರಗಳ ಚಲಿಸುವ ಸರಾಸರಿ ಕಾರ್ಮಿಕ ಮಾರುಕಟ್ಟೆಯ ಪ್ರವೃತ್ತಿಗಳ ಉತ್ತಮ ಅಳತೆ ಎಂದು ಪರಿಗಣಿಸಲ್ಪಟ್ಟಿದೆ, ಏಕೆಂದರೆ ಇದು ವಾರದಿಂದ ವಾರಕ್ಕೆ ಚಂಚಲತೆಯನ್ನು ಕಳೆದ ವಾರ 500 ರಿಂದ 209750 ಕ್ಕೆ ಏರಿಸಿದೆ, ಆದರೆ ನಿರುದ್ಯೋಗ ದರವು ಶೇಕಡಾವಾರು ಪಾಯಿಂಟ್\\u200cನ ಹತ್ತನೇ ಒಂದು ಭಾಗದಷ್ಟು ಏರಿಕೆಯಾಗಿದ್ದು, ಕಳೆದ ತಿಂಗಳು 3 6 ಕ್ಕೆ ತಲುಪಿದೆ ಕಾರ್ಮಿಕ ಮಾರುಕಟ್ಟೆಯಲ್ಲಿ ವಿಶ್ವಾಸದ ಸಂಕೇತವಾಗಿ ಹೆಚ್ಚಿನ ಜನರು ಕಾರ್ಮಿಕ ಬಲವನ್ನು ಪ್ರವೇಶಿಸಿದ ಕಾರಣ ಜನವರಿ ಮತ್ತು ಫೆಬ್ರವರಿ ಮನೆಯ ಸಮೀಕ್ಷೆಯ ವಾರಗಳ ನಡುವೆ ನಾಲ್ಕು ವಾರಗಳ ಸರಾಸರಿ ಹಕ್ಕುಗಳು ನಿರುದ್ಯೋಗ ದರದಲ್ಲಿ ಸ್ವಲ್ಪ ಸುಧಾರಣೆಯನ್ನು ಸೂಚಿಸುತ್ತವೆ\",0\\nವಾಷಿಂಗ್ಟನ್ ಎಪಿ ನಿಮಗೆ ಆದೇಶಗಳು ಜನವರಿಯಲ್ಲಿ ಅದ್ದಿದ ದೊಡ್ಡ ಟಿಕೆಟ್ ತಯಾರಿಸಿದ ಸರಕುಗಳ ಕಾರ್ಖಾನೆಗಳು ಕಾರುಗಳ ಆಟೋ ಪಾರ್ಟ್ಸ್ ಮತ್ತು ಮಿಲಿಟರಿ ವಿಮಾನಗಳ ಬೇಡಿಕೆ ಕಡಿಮೆಯಾಗಿದೆ ಎಂದು ವಾಣಿಜ್ಯ ಇಲಾಖೆ ಗುರುವಾರ ತಿಳಿಸಿದೆ. ಸಾರಿಗೆ ಆದೇಶಗಳು ಬಾಳಿಕೆ ಬರುವ ಸರಕುಗಳ ಆದೇಶಗಳು ಏಪ್ರಿಲ್ 2018 ರಿಂದ 0 9 ರಷ್ಟು ವೇಗವಾಗಿ ಏರಿಕೆಯಾಗಿದೆ ಮಿಲಿಟರಿ ವಿಮಾನಗಳ ಆದೇಶಗಳು ಕಳೆದ ತಿಂಗಳು 19% ನಷ್ಟು ಕುಸಿದವು ಮತ್ತು ಕಾರುಗಳು ಮತ್ತು ವಾಹನ ಭಾಗಗಳ ಆದೇಶಗಳು ಕುಸಿದವು 0 8 ವಿಮಾನವನ್ನು ಹೊರತುಪಡಿಸಿ ಲಾಭರಹಿತ ಬಂಡವಾಳ ಸರಕುಗಳಿಗಾಗಿ ವ್ಯಾಪಾರ ಹೂಡಿಕೆ ಆದೇಶಗಳನ್ನು ಪತ್ತೆಹಚ್ಚುವ ಒಂದು ವರ್ಗವು ಜನವರಿಯಲ್ಲಿ 1% ಏರಿಕೆಯಾಗಿದೆ ಡಿಸೆಂಬರ್ ಕುಸಿದ ನಂತರ ಮತ್ತು ನವೆಂಬರ್ನಲ್ಲಿ ಸಮತಟ್ಟಾದ ನಂತರ,0\\n\"ವಾಷಿಂಗ್ಟನ್ ಫೆಬ್ರವರಿ 27 ರಾಯಿಟರ್ಸ್ ನೀವು ಕೀಗಾಗಿ ಹೊಸ ಆದೇಶಗಳು ಜನವರಿಯಲ್ಲಿ ಒಂದು ವರ್ಷದಲ್ಲಿ ಬಂಡವಾಳ ಸರಕುಗಳನ್ನು ಹೆಚ್ಚಿಸಿವೆ ಮತ್ತು ಸಾಗಣೆಗಳು ಮರುಕಳಿಸಿದವು ಆದರೆ ವ್ಯಾಪಾರ ಹೂಡಿಕೆಯಲ್ಲಿ ಸ್ಥಿರತೆಯ ಚಿಹ್ನೆಗಳು ಕೊರೊನಾವೈರಸ್ನಿಂದ ಮೃದುಗೊಳ್ಳುವ ಸಾಧ್ಯತೆಯಿದೆ, ಇದು ಸರಬರಾಜು ಸರಪಳಿಗಳನ್ನು ಅಡ್ಡಿಪಡಿಸುತ್ತದೆ ಎಂದು ನಿರೀಕ್ಷಿಸಲಾಗಿದೆ. ವಿಮಾನವನ್ನು ಹೊರತುಪಡಿಸಿ ರಕ್ಷಣಾ ರಹಿತ ಬಂಡವಾಳ ಸರಕುಗಳ ಆದೇಶಗಳು ಕಳೆದ ತಿಂಗಳು 1 ಡಾಲರ್\\u200cಗೆ ಏರಿದೆ ಎಂದು ಇಲಾಖೆ ತಿಳಿಸಿದೆ. ಕಳೆದ ತಿಂಗಳು ಜನವರಿ 2019 ರಿಂದ ಅತಿದೊಡ್ಡ ಲಾಭ ಗಳಿಸಿದೆ. ರಾಯಿಟರ್ಸ್ ಸಮೀಕ್ಷೆ ನಡೆಸಿದ ಅರ್ಥಶಾಸ್ತ್ರಜ್ಞರು ಪ್ರಮುಖ ಬಂಡವಾಳ ಸರಕುಗಳ ಆದೇಶಗಳನ್ನು ಜನವರಿಯಲ್ಲಿ 0 1 ಕ್ಕೆ ಏರಿಸುವ ಮುನ್ಸೂಚನೆ ನೀಡಿದ್ದಾರೆ. ವರ್ಷದ ಆರಂಭದಲ್ಲಿ ಕೋರ್ ಕ್ಯಾಪಿಟಲ್ ಗೂಡ್ಸ್ ಆರ್ಡರ್\\u200cಗಳು ಮತ್ತು ಸಾಗಣೆಗಳು ಮೂರು ನೇರ ತ್ರೈಮಾಸಿಕಗಳಿಗೆ ಸಂಕುಚಿತಗೊಂಡಿರುವ ವ್ಯಾಪಾರ ಹೂಡಿಕೆಯಲ್ಲಿ ಕೆಲವು ಸ್ಥಿರೀಕರಣವನ್ನು ಸೂಚಿಸುತ್ತದೆ. ಜನವರಿಯಲ್ಲಿ ಟೋಸ್ಟರ್\\u200cಗಳಿಂದ ವಿಮಾನದವರೆಗಿನ ಬಾಳಿಕೆ ಬರುವ ಸರಕು ವಸ್ತುಗಳ ಒಟ್ಟಾರೆ ಆದೇಶಗಳು ಮೂರು ವರ್ಷಗಳ ಅಥವಾ ಅದಕ್ಕಿಂತ ಹೆಚ್ಚು ಜಾರಿಬೀಳುತ್ತವೆ 2 ಹಿಂದಿನ ತಿಂಗಳಲ್ಲಿ 2 9 ಅನ್ನು ಹೆಚ್ಚಿಸಿದ ನಂತರ\",0\\n\"ನೀವು ಎಸ್ ಕರೋನವೈರಸ್ ಏಕಾಏಕಿ ಜನರ ಜೀವನ ಮತ್ತು ವ್ಯಾಪಾರ ಚಟುವಟಿಕೆಯ ತಾತ್ಕಾಲಿಕ ಆದರೆ ವ್ಯಾಪಕವಾದ ಅಡೆತಡೆಗಳನ್ನು ಪ್ರಚೋದಿಸುತ್ತದೆ, ಇದು ರಾಷ್ಟ್ರದ ಸುದೀರ್ಘ ಆರ್ಥಿಕ ವಿಸ್ತರಣೆಗೆ ಹೊಸ ಅಪಾಯವನ್ನುಂಟುಮಾಡುತ್ತದೆ ಸಾರ್ವಜನಿಕ ಆರೋಗ್ಯ ಅಧಿಕಾರಿಗಳು ಅಮೆರಿಕನ್ನರಿಗೆ ವೈರಸ್ ನಿಮ್ಮಲ್ಲಿ ಹರಡಬಹುದೆಂದು ನಿರೀಕ್ಷಿಸುವಂತೆ ಹೇಳಿದೆ. ಶಾಲೆ ಮುಚ್ಚುವಿಕೆಯು ರೆಸ್ಟೋರೆಂಟ್\\u200cಗಳು ಮತ್ತು ಪ್ರವಾಸೋದ್ಯಮದಿಂದ ಉತ್ಪಾದನೆಯವರೆಗಿನ ಕೈಗಾರಿಕೆಗಳಾದ್ಯಂತ ಸಾರ್ವಜನಿಕ ಈವೆಂಟ್ ರದ್ದತಿ ಮತ್ತು ವ್ಯಾಪಾರ ಅಡೆತಡೆಗಳು\",0\\n\"ಕೊರೊನಾವೈರಸ್ ಏಕಾಏಕಿ ಲೈವ್ ನವೀಕರಣಗಳು ಚೀನಾದ ರಾಷ್ಟ್ರೀಯ ಆರೋಗ್ಯ ಆಯೋಗವು ಗುರುವಾರ ಚೀನಾ ರಾಷ್ಟ್ರೀಯ ಆರೋಗ್ಯ ಆಯೋಗದ 433 ಹೊಸ ಪ್ರಕರಣಗಳನ್ನು ದೃ confirmed ಪಡಿಸಿದೆ. ಬೀಜಿಂಗ್\\u200cನಲ್ಲಿ ಹೊಸ ಪ್ರಕರಣಗಳ ಒಂದು ಗುಂಪಿನೊಂದಿಗೆ ಬೀಜಿಂಗ್\\u200cನಲ್ಲಿ ಕೆಲಸಕ್ಕೆ ಮರಳುವ ನೌಕರರ ನಿರ್ವಹಣೆಯ ಬಗ್ಗೆ ಆತಂಕ ಮೂಡಿಸಿದೆ. ಚೀನಾ ಈಗ 78497 ಕ್ಕೆ ತಲುಪಿದೆ ಎಂದು ಏಕಾಏಕಿ ಕೇಂದ್ರಬಿಂದುವಿನಲ್ಲಿರುವ ಕೇಂದ್ರ ಚೀನಾದ ಪ್ರಾಂತ್ಯದ ಹುಬೈ 409 ಹೊಸ ಪ್ರಕರಣಗಳು ಮತ್ತು 26 ಸಾವುಗಳನ್ನು ಬುಧವಾರ ವರದಿ ಮಾಡಿದೆ. ಸುದ್ದಿ ಸಂಸ್ಥೆ ಎಪಿ ವರದಿ ಮಾಡಿದೆ, ಜಪಾನ್ ದೇಶಾದ್ಯಂತ ಶಾಲೆಗಳನ್ನು ಮುಚ್ಚಲು ನಿರ್ಧರಿಸಿದೆ. ಹೊಸ ವೈರಸ್ ಸರ್ಕಾರ ಗುರುವಾರ ಘೋಷಿಸಿತು ವಾರ್ಷಿಕ ಹಜ್ ತೀರ್ಥಯಾತ್ರೆಗೆ ಕೆಲವೇ ತಿಂಗಳುಗಳ ಮುಂಚೆಯೇ ವೈರಲ್ ಸಾಂಕ್ರಾಮಿಕ ರೋಗದ ಭೀತಿಯಿಂದಾಗಿ ಸೌದಿ ಅರೇಬಿಯಾ ಇಸ್ಲಾಂ ಧರ್ಮದ ಪವಿತ್ರ ತಾಣಗಳಿಗೆ ಪ್ರಯಾಣವನ್ನು ನಿಲ್ಲಿಸಿದೆ ಎಂದು ವರದಿಯಾಗಿದೆ. ಹೊಸ ಕೊರೊನಾವೈರಸ್\",0\\n\"ಫೆಡರೇಟೆಡ್ ಹರ್ಮ್ಸ್ ಫಿಲ್ ಒರ್ಲ್ಯಾಂಡೊ ಅವರು ಕರೋನವೈರಸ್ ಜರ್ಜರಿತ ಸ್ಟಾಕ್\\u200cಗಳಲ್ಲಿ ಕೆಲಸ ಮಾಡಲು ಹಣವನ್ನು ಹಾಕುತ್ತಿದ್ದಾರೆ ವಿಶಾಲ ಮಾರುಕಟ್ಟೆಯಲ್ಲಿ 8 ಇಳಿಕೆಯಾಗಿರುವಾಗ ಈ ವರ್ಗದ ಬಹಳಷ್ಟು ಷೇರುಗಳು 15 ಅಥವಾ 20 ರಷ್ಟು ಕುಸಿದಿವೆ ಎಂದು ಅವರು ಸಿಎನ್\\u200cಬಿಸಿಯ ಟ್ರೇಡಿಂಗ್ ನೇಷನ್\\u200cಗೆ ಬುಧವಾರ ಹೇಳಿದರು. ಈ ವರ್ಷ ಮತ್ತು 2021 ರೊಳಗೆ ಈ ಸ್ಟಾಕ್\\u200cಗಳು ಭರ್ಜರಿ ಮೌಲ್ಯವನ್ನು ನೀಡುತ್ತಿವೆ 2020 ರ ವಾಲ್ ಸ್ಟ್ರೀಟ್\\u200cನ ಅತಿದೊಡ್ಡ ಎತ್ತುಗಳಲ್ಲಿ ಒಂದಾದ ಒರ್ಲ್ಯಾಂಡೊ, ಕರೋನವೈರಸ್ ಪತನವು ತಿಂಗಳುಗಳವರೆಗೆ ಷೇರುಗಳನ್ನು ಸ್ಲ್ಯಾಮ್ ಮಾಡಬಹುದೆಂದು ನಂಬುತ್ತಾರೆ. ಕಳೆದ ವರ್ಷ ತಡವಾಗಿ ಅವರು ಟ್ರೇಡಿಂಗ್ ನೇಷನ್\\u200cಗೆ ಮಾರುಕಟ್ಟೆ ಮೌಲ್ಯಮಾಪನಗಳನ್ನು ವಿಸ್ತರಿಸಿದ್ದಾರೆ ಮತ್ತು ಅವರು ನಿರೀಕ್ಷಿಸಿದ್ದಾರೆ ವಿರಾಮಗೊಳಿಸಲು ರೆಕಾರ್ಡ್ ರ್ಯಾಲಿ\",0\\n\"ಜಪಾನ್\\u200cನ ಎಲ್ಲಾ ಪ್ರಾಥಮಿಕ ಕಿರಿಯ ಮತ್ತು ಪ್ರೌ schools ಶಾಲೆಗಳನ್ನು ಮಾರ್ಚ್ 2 ರಿಂದ ತಮ್ಮ ಶಾಲಾ ವರ್ಷದ ಅಂತ್ಯದವರೆಗೆ ಮಾರ್ಚ್ ಅಂತ್ಯದವರೆಗೆ ಮುಚ್ಚಲು ಕೇಳಲಾಗುವುದು ಎಂದು ಜಪಾನಿನ ಪ್ರಧಾನಿ ಶಿಂಜೊ ಅಬೆ ಗುರುವಾರ ತಿಳಿಸಿದ್ದಾರೆ. ಕರೋನವೈರಸ್ ಹರಡುವಿಕೆಯ ಸುತ್ತಲಿನ ಆತಂಕಗಳು ಹೆಚ್ಚುತ್ತಿವೆ. ಒಸಾಕಾದ ಮಹಿಳೆಯೊಬ್ಬರು ಜಪಾನ್\\u200cನ ಮೊದಲ ವ್ಯಕ್ತಿಯಾಗಿದ್ದಾರೆ ಮತ್ತು ಎರಡನೇ ಬಾರಿಗೆ ಕರೋನವೈರಸ್ ರೋಗನಿರ್ಣಯ ಮಾಡಿದ ವಿಶ್ವದ ಕೆಲವೇ ಜನರಲ್ಲಿ ಒಬ್ಬರಾಗಿದ್ದಾರೆ ಎಂದು ಒಸಾಕಾ ಅಧಿಕಾರಿಗಳು ಎಲ್ಲಾ ಸಾರ್ವಜನಿಕ ಶಿಶುವಿಹಾರದ ಪ್ರಾಥಮಿಕ ಮತ್ತು ಕಿರಿಯ ಪ್ರೌ schools ಶಾಲೆಗಳನ್ನು ಎರಡು ಜನರಿಗೆ ಮುಚ್ಚುವುದಾಗಿ ಹೇಳಿದರು ಮಾರಣಾಂತಿಕ ವೈರಸ್ ಅನ್ನು ನಿಯಂತ್ರಿಸುವ ಪ್ರಯತ್ನದಲ್ಲಿ ಶನಿವಾರದಿಂದ ಪ್ರಾರಂಭವಾಗುವ ವಾರಗಳು ರಾಯಿಟರ್ಸ್ ಪ್ರಕಾರ, ಜಪಾನ್\\u200cನಲ್ಲಿ ದೃ cor ೀಕರಿಸಿದ ಕರೋನವೈರಸ್ ಪ್ರಕರಣಗಳ ಸಂಖ್ಯೆ 200 ಕ್ಕಿಂತ ಹೆಚ್ಚಾಗಿದೆ. ಹೊಕ್ಕೈಡೋ ಜಪಾನ್\\u200cನ ಮುಖ್ಯ ಉತ್ತರ ದ್ವೀಪವು 13 ಹೊಸ ಪ್ರಕರಣಗಳನ್ನು ವರದಿ ಮಾಡಿದೆ\",0\\nCOVID 19 ರ ಎಲ್ಲಾ 72314 ಪ್ರಕರಣಗಳ ಆಧಾರದ ಮೇಲೆ ಫೆಬ್ರವರಿ 11 ರ ಹೊತ್ತಿಗೆ ಚೀನಾದಲ್ಲಿ ಶಂಕಿತ ಮತ್ತು ಲಕ್ಷಣರಹಿತ ಪ್ರಕರಣಗಳನ್ನು ದೃ confirmed ಪಡಿಸಲಾಗಿದೆ. ಚೀನಾದ ಸಿಸಿಡಿಸಿ ಫೆಬ್ರವರಿ 17 ರಂದು ಬಿಡುಗಡೆ ಮಾಡಿ ಚೀನೀ ಜರ್ನಲ್ ಆಫ್ ಎಪಿಡೆಮಿಯಾಲಜಿ 1 ರಲ್ಲಿ ಪ್ರಕಟಿಸಿದೆ. ಸಾವಿನ ಅಪಾಯವು ನಿಮ್ಮ ವಯಸ್ಸನ್ನು ಹೆಚ್ಚಿಸುತ್ತದೆ ಎಂದು ಕಂಡುಹಿಡಿದಿದೆ ಈ ಕೆಳಗಿನಂತೆ ಸಾವಿನ ಪ್ರಮಾಣ ಸಾವಿನ ಸಂಖ್ಯೆ ವೈರಸ್\\u200cನಿಂದ ಸೋಂಕಿಗೆ ಒಳಗಾಗುವ ಸಂಭವನೀಯತೆ ಸಾವಿನ ಪ್ರಮಾಣ ಸಾವುಗಳ ಸಂಖ್ಯೆ ವೈರಸ್\\u200cನಿಂದ ಸೋಂಕಿಗೆ ಒಳಗಾಗಿದ್ದರೆ ಸಾಯುವ ಸಂಭವನೀಯತೆ ಸಾವಿನ ಪ್ರಮಾಣ ಸಾವಿನ ಸಂಖ್ಯೆ ಸಾವಿನ ಸಂಖ್ಯೆ ವೈರಸ್\\u200cನಿಂದ ಸೋಂಕಿಗೆ ಒಳಗಾಗಿದ್ದರೆ ಸಾಯುವ ಸಂಭವನೀಯತೆ ಸಾವಿನ ಪ್ರಮಾಣ ಸಾವುಗಳ ಸಂಖ್ಯೆ ವೈರಸ್ ಸೋಂಕಿಗೆ ಒಳಗಾಗಿದ್ದರೆ ಸಾಯುವ ಸಂಭವನೀಯತೆ COVID 19 ಸೋಂಕಿನಿಂದ ರೋಗಿಗಳನ್ನು ಸಾಯುವ ಹೆಚ್ಚಿನ ಅಪಾಯವನ್ನುಂಟುಮಾಡುವ ಪೂರ್ವ ಅಸ್ತಿತ್ವದಲ್ಲಿರುವ ಕಾಯಿಲೆಗಳು ಸಾವಿನ ಪ್ರಮಾಣ ಸಾವಿನ ಸಂಖ್ಯೆ ವೈರಸ್ ಸೋಂಕಿಗೆ ಒಳಗಾಗಿದ್ದರೆ ಸಾಯುವ ಸಂಭವನೀಯತೆ,0\\nಚಿತ್ರ ಶೀರ್ಷಿಕೆ ಸಾಂಕ್ರಾಮಿಕ ಕಾಯಿಲೆಗಳಿಂದ ಬಳಲುತ್ತಿರುವವರಿಗೆ ರಾಯಲ್ ವಿಕ್ಟೋರಿಯಾ ಆಸ್ಪತ್ರೆಯ ಕರೋನವೈರಸ್ ಪ್ರತ್ಯೇಕ ವಾರ್ಡ್\\u200cನಲ್ಲಿ ಚಿಕಿತ್ಸೆ ನೀಡಬಹುದು ಆದರೆ ಜನರು ಭಯಭೀತರಾಗಬಾರದು ಎಂದು ಕ್ವೀನ್ಸ್ ವಿಶ್ವವಿದ್ಯಾಲಯದ ವೈರಾಲಜಿಸ್ಟ್ ಬೆಲ್ಫಾಸ್ಟ್ ಹೇಳಿದ್ದಾರೆ. ಐರ್ಲೆಂಡ್ ವೈರಸ್ ಅನ್ನು ಹೊಂದಲು ಹೆಚ್ಚು ಕಷ್ಟಕರವಾಗುತ್ತಿದೆ ಮತ್ತು ಕಳೆದ ಹಲವಾರು ದಿನಗಳಲ್ಲಿ ವಿವಿಧ ದೇಶಗಳಲ್ಲಿ ಪ್ರಕರಣಗಳ ಸಂಖ್ಯೆಯಲ್ಲಿ ಹೆಚ್ಚಳ ಕಂಡುಬಂದಿದೆ ಎಂದು ಡಾ. ಬ್ರಾಡ್ಬೆಂಟ್ ಅವರು ಪ್ರಯಾಣದ ಮೂಲಕ ಉತ್ತರ ಐರ್ಲೆಂಡ್\\u200cಗೆ ತಲುಪುವ ಸಾಧ್ಯತೆ ಇದೆ ಎಂದು ಡಾ. ಬ್ರಾಡ್\\u200cಬೆಂಟ್ ಹೇಳಿದರು ಉತ್ತರ ಐರ್ಲೆಂಡ್\\u200cನಲ್ಲಿನ ಸೇವೆಯು ಕರೋನವೈರಸ್\\u200cನ ಆಗಮನಕ್ಕೆ ಸಾಕಷ್ಟು ಸಿದ್ಧತೆಗಳನ್ನು ಮಾಡಿದೆ. ಉತ್ತರ ಐರ್ಲೆಂಡ್\\u200cನಲ್ಲಿ ಯಾವುದೇ ದೃ confirmed ಪಡಿಸಿದ ಪ್ರಕರಣಗಳನ್ನು ಬೆಲ್\\u200cಫಾಸ್ಟ್\\u200cನ ರಾಯಲ್ ವಿಕ್ಟೋರಿಯಾ ಆಸ್ಪತ್ರೆಯಲ್ಲಿ ಸಾಂಕ್ರಾಮಿಕ ರೋಗ ಘಟಕಕ್ಕೆ ದಾಖಲಿಸಲಾಗುವುದು ಎಂದು ಅವರು ಹೇಳಿದರು.,0\\n\"COVID 19 ಲಸಿಕೆಗಾಗಿ ಮಾಡರ್ನಾ ಹುಡುಕಾಟವು ಮಾರುಕಟ್ಟೆಯಲ್ಲಿ ಹೂಡಿಕೆ ಮಾಡಲು ಏನನ್ನಾದರೂ ನೀಡುತ್ತದೆ, ಆದರೂ ಕಂಪನಿಯು ತನ್ನ ಷೇರುಗಳನ್ನು 15 ರಿಯಾಯಿತಿಯಲ್ಲಿ ಮಾರಾಟ ಮಾಡುವಲ್ಲಿ ಮಾರುಕಟ್ಟೆಗಳಿಗೆ ಮೂರ್ಖನಂತೆ ಕಾಣಿಸುತ್ತದೆಯಾದರೂ ಅದು ಸ್ವಲ್ಪ ಸಮಯೋಚಿತವಾಗಿ ಸಾಬೀತಾಗಿದೆ ಎಂದು ಮಾಡರ್ನಾ ಹೇಳಿದರು, ಹಂತ 2 ಸಿಎಮ್\\u200cವಿ ಲಸಿಕೆಯಲ್ಲಿ ಮೂರು ಡೋಸ್ ಸಮಂಜಸತೆಗಳಲ್ಲಿ ಎರಡು mRNA 1647 ಡೋಸ್ ದೃ mation ೀಕರಣ ಅಧ್ಯಯನವು ದಾಖಲಾತಿಯನ್ನು ಪೂರ್ಣಗೊಳಿಸಿದೆ ಆದರೆ ಅದರ CMV ಲಸಿಕೆ ಮೊದಲು ಮಾರುಕಟ್ಟೆಯನ್ನು ತಲುಪುವಲ್ಲಿ ಹೆಚ್ಚಿನ ಸಾಮರ್ಥ್ಯವನ್ನು ಹೊಂದಿದೆ ಆದರೆ ಸ್ಟಾಕ್ ಮಾರುಕಟ್ಟೆ ತನ್ನ COVID 19 ಲಸಿಕೆ ಅಭಿವೃದ್ಧಿಯಲ್ಲಿ ಹೆಚ್ಚು ಆಸಕ್ತಿ ಹೊಂದಿದೆ MRNA ಸ್ಟಾಕ್\\u200cನಲ್ಲಿ ಪ್ರೀಮಿಯಂ ಪಾವತಿಸಲು ಮಾರುಕಟ್ಟೆಯ ಇಚ್ ness ೆ ಮೌಲ್ಯ ಹೂಡಿಕೆದಾರರಿಗೆ ಅಸ್ವಸ್ಥತೆಯನ್ನುಂಟು ಮಾಡುತ್ತದೆ\",0\\nನೈಜ ದರಗಳು negative ಣಾತ್ಮಕ ಭೂಪ್ರದೇಶಕ್ಕೆ ಆಳವಾಗಿ ಕುಸಿಯುತ್ತಿರುವುದರಿಂದ ಮತ್ತು ಬೆಳ್ಳಿಯಿಂದ ಚಿನ್ನದ ಅನುಪಾತವು ಹಿಂದಿನದನ್ನು ಕಡಿಮೆಗೊಳಿಸುವುದರಿಂದ ಬೆಳ್ಳಿಯ ಬಲಿಷ್ ಪ್ರಕರಣವು ಉತ್ತಮವಾಗಿರಲು ಸಾಧ್ಯವಿಲ್ಲ ಚಿನ್ನ ಮತ್ತು ಬೆಳ್ಳಿ ಷೇರು ಮಾರುಕಟ್ಟೆಗೆ ಪರಸ್ಪರ ಸಂಬಂಧವಿಲ್ಲ ಮತ್ತು ಹಣದುಬ್ಬರ ಹೆಚ್ಚುತ್ತಿರುವಾಗ ಬಾಂಡ್\\u200cಗಳಂತಲ್ಲದೆ ಹೆಚ್ಚಿನ ಆದಾಯವನ್ನು ನೀಡುತ್ತದೆ ಹೆಚ್ಚು ಸಂಪ್ರದಾಯವಾದಿ ಹೂಡಿಕೆದಾರರು ಲೋಹಗಳನ್ನು ಸಾರಾಸಗಟಾಗಿ ಅಥವಾ ಚಿನ್ನಕ್ಕಾಗಿ ಜಿಎಲ್\\u200cಡಿ ಅಥವಾ ಬೆಳ್ಳಿಗೆ ಎಸ್\\u200cಎಲ್\\u200cವಿ ಯಂತಹ ಇಟಿಎಫ್ ಮೂಲಕ ಖರೀದಿಸಬಹುದು ಆದರೆ ಗಣಿಗಾರರು ತಮ್ಮ ಕಡಿಮೆ ಮೌಲ್ಯಮಾಪನಗಳು ಮತ್ತು ಸಾಮಾನ್ಯವಾಗಿ ಸಕಾರಾತ್ಮಕ ಹಣದ ಹರಿವಿನಿಂದಾಗಿ ಅತ್ಯುತ್ತಮ ಆಯ್ಕೆಯಾಗಿದೆ ಎಂದು ನಾನು ನಂಬುತ್ತೇನೆ. ಇದು ಅದರ ಸ್ಟಾಕ್ ಬೆಲೆಯಲ್ಲಿನ ಕಾರ್ಯಕ್ಷಮತೆಗೆ ಕಾರಣವಾಗಿದೆ ಕಿರಿಯ ಬೆಳ್ಳಿ ಗಣಿಗಾರ ಇಟಿಎಫ್ ಸಿಲ್ಜೆಗೆ ಅದರ ಒಟ್ಟು ಆದಾಯದ ಅನುಪಾತವು ಕುಸಿಯುತ್ತಿರುವ ಮೂಲಕ ನೀವು ನೋಡುವಂತೆ ಈ ಅನುಪಾತವು ಅದರ 2017 ರ ಕೊನೆಯಲ್ಲಿ ಮರುಪಡೆಯಲು ನಿರಾಕರಿಸಿದೆ. ಚಿನ್ನದಿಂದ ಬೆಳ್ಳಿಯ ಅನುಪಾತವು ಐತಿಹಾಸಿಕ ಮಾನದಂಡಗಳಿಗೆ ಏರಿದರೆ EXK ಇಂದು ನ್ಯಾಯಯುತ ಮೌಲ್ಯದಲ್ಲಿರಬಹುದು ನಿರೀಕ್ಷಿತ 5 ಎಕ್ಸ್ ಪಿ ಸಿಎಫ್ 24 25 ಬೆಳ್ಳಿ ಬೆಲೆಯನ್ನು ನೀಡಿದೆ,1\\n\"ಅಧ್ಯಕ್ಷ ಡೊನಾಲ್ಡ್ ಟ್ರಂಪ್ ಶಾಂತವಾಗಿರಲು ಮನವಿ ಮಾಡಿದ್ದಾರೆ ಮತ್ತು ಉಪಾಧ್ಯಕ್ಷ ಮೈಕ್ ಪೆನ್ಸ್ ಅವರನ್ನು ಅಮೆರಿಕದ ಕರೋನವೈರಸ್ ಪ್ರತಿಕ್ರಿಯೆಯ ಉಸ್ತುವಾರಿ ವಹಿಸಿ, ದೇಶವು ನಿಮ್ಮೊಳಗೆ ಹೆಚ್ಚು ವ್ಯಾಪಕವಾಗಿ ಹರಡಲು ಪ್ರಾರಂಭಿಸಿದರೂ ಸಹ ಮಾರಕ ರೋಗವನ್ನು ನಿಭಾಯಿಸಲು ಬಹಳ ಸಿದ್ಧವಾಗಿದೆ ಎಂದು ಒತ್ತಾಯಿಸಿದರು ಎಸ್ ಶ್ರೀ ಟ್ರಂಪ್ ಅಪಾಯವನ್ನು ಹೇಳಿದರು ಅಮೆರಿಕನ್ನರು ತೀರಾ ಕಡಿಮೆ ಇದ್ದರು ಆದರೆ ಚುನಾವಣಾ ವರ್ಷದಲ್ಲಿ ನರಗಳನ್ನು ಸರಾಗಗೊಳಿಸುವ ಮತ್ತು ಆಘಾತಕಾರಿ ಸ್ಟಾಕ್ ಮಾರುಕಟ್ಟೆಗಳನ್ನು ಹೆಚ್ಚಿಸುವ ಅವರ ಪ್ರಯತ್ನವು ಬಂದಿತು, ದೇಶದಲ್ಲಿ COVID 19 ಕಾಯಿಲೆಯ ಸಮುದಾಯ ಪ್ರಸರಣದ ಶಂಕಿತ ಮೊದಲ ಪ್ರಕರಣವನ್ನು ಅಧಿಕಾರಿಗಳು ದೃ confirmed ಪಡಿಸಿದರು. ಕ್ಯಾಲಿಫೋರ್ನಿಯಾದ ರೋಗಿಯೊಬ್ಬರು ಕರೋನವೈರಸ್ಗೆ ಇತ್ತೀಚಿನ ಪ್ರಯಾಣದ ಇತಿಹಾಸವನ್ನು ಹೊಂದಿಲ್ಲ ಹಾಟ್\\u200cಸ್ಪಾಟ್\\u200cಗಳು ಅಥವಾ ಸೋಂಕಿತ ಜನರೊಂದಿಗೆ ತಿಳಿದಿರುವ ಸಂಪರ್ಕ ಆದರೆ 40 ಕ್ಕೂ ಹೆಚ್ಚು ದೇಶಗಳಲ್ಲಿನ ಪ್ರಕರಣಗಳಲ್ಲಿ, ದಕ್ಷಿಣ ಕೊರಿಯಾ ಇಟಲಿ ಮತ್ತು ಇರಾನ್\\u200cಗಳಲ್ಲಿ ಚೀನಾದ ಹೊರಗೆ ಈ ರೋಗವು ವೇಗವಾಗಿ ಹರಡುತ್ತಿರುವುದನ್ನು ನೋಡಲು ಆಳವಾಗಿ ಸಂಬಂಧಿಸಿದೆ ಎಂದು ಹೇಳಿದರು. ದಕ್ಷಿಣ ಕೊರಿಯಾದೊಂದಿಗೆ ನಿಗದಿತ ಜಂಟಿ ಮಿಲಿಟರಿ ಕಸರತ್ತುಗಳನ್ನು ಮುಂದೂಡಿದೆ ಮತ್ತು ಮಾಜಿ ಹೋಮ್ಲ್ಯಾಂಡ್ ಸೆಕೂರ್ ದೇಶಕ್ಕೆ ಪ್ರಯಾಣಿಸುವುದನ್ನು ತಪ್ಪಿಸಲು ಅಮೆರಿಕನ್ನರನ್ನು ಒತ್ತಾಯಿಸಿದೆ ನಿಮ್ಮ ಮೇಲೆ ಎಸ್ ಕರೋನವೈರಸ್ ಪ್ರತಿಕ್ರಿಯೆ ಇಟಲಿಯು ಏಷ್ಯಾದ ಹೊರಗಿನ ಅತಿದೊಡ್ಡ ಏಕಾಏಕಿ ನೆಲೆಯಾಗಿದೆ ಮತ್ತು ನೆರೆಯ ಯುರೋಪಿಯನ್ ದೇಶಗಳಲ್ಲಿ ಸಣ್ಣ ರೋಗ ಸಮೂಹಗಳ ಮೂಲವು ಬುಧವಾರ ಪ್ರಕರಣಗಳಲ್ಲಿ 25 ಹೆಚ್ಚಳ ಕಂಡಿದೆ\",0\\n\"ವಸಂತಕಾಲದಲ್ಲಿ ಬೆಚ್ಚಗಾಗುವುದು ಸ್ವಾಭಾವಿಕವಾಗಿ ಕಡಿಮೆ ಪ್ರಮಾಣದ ಸೋಂಕುಗಳ ಮೇಲೆ ಪ್ರಭಾವ ಬೀರಬಹುದು ಆದರೆ ಮೇ ತಿಂಗಳಲ್ಲಿ ದಾಳಿ ಮಾಡಿದ ಹಂದಿ ಜ್ವರ ವೈರಸ್ ಅನ್ನು ನಾವು ನೆನಪಿನಲ್ಲಿಟ್ಟುಕೊಳ್ಳಬೇಕು ಮತ್ತು ಇದು ಸಕ್ರಿಯವಾಗಿದ್ದ ಮೊದಲ ವರ್ಷದಲ್ಲಿ ಬೇಸಿಗೆಯ ಉದ್ದಕ್ಕೂ ಸಕ್ರಿಯವಾಗಿತ್ತು. ಟೆನೆರೈಫ್ ಮತ್ತು ಇಟಲಿಯಲ್ಲಿ ರಜಾದಿನಗಳಲ್ಲಿ ಈ ವೈರಸ್ ಅನ್ನು ಇಬ್ಬರು ಜನರು ಸಂಕುಚಿತಗೊಳಿಸಿದರು ಈಗ ಚೀನಾದ ಮುಖ್ಯ ಭೂಭಾಗದ ಹೊರಗಿನ ಮೂರನೇ ದೊಡ್ಡ ಏಕಾಏಕಿ ಮತ್ತು ಯುರೋಪಿನ ಅತಿದೊಡ್ಡ ಏಕಾಏಕಿ ಬಳಲುತ್ತಿದೆ. ಚೀನಾದ ಹೊರಗೆ ಎರಡನೇ ಅತಿ ದೊಡ್ಡ ಏಕಾಏಕಿ ದಕ್ಷಿಣ ಕೊರಿಯಾದ ಮೇಲೆ ಬಿದ್ದಿದೆ, ಅಲ್ಲಿ ಸುಮಾರು 1600 ಜನರು ದೃ confirmed ಪಟ್ಟಿದ್ದಾರೆ ನಾನು ಗುರುವಾರ ದೃ will ಪಡಿಸುತ್ತೇನೆ ನಾನು ಬೈಬಲ್ ಮುನ್ಸೂಚಿಸಿದ ಕರೋನವೈರಸ್ ಅನ್ನು ತಪ್ಪಿಸುವುದಿಲ್ಲ ಇಟಲಿಯ ಬುಕ್ ಆಫ್ ರೆವೆಲೆಶನ್ ಅನಾಲಿಸಿಸ್ ಕರೋನವೈರಸ್ 11 ಪಟ್ಟಣಗಳು \\u200b\\u200bಬ್ರಿಟನ್ನರಿಗೆ MAP ಗೆ ಪ್ರಯಾಣಿಸುವುದನ್ನು ನಿಷೇಧಿಸಲಾಗಿದೆ ಕರೋನವೈರಸ್ ಪ್ರಯಾಣ ಸಲಹೆ ಯುರೋಪಿಗೆ ವೈರಸ್ ಬಡಿದಂತೆ ಫ್ರಾನ್ಸ್\\u200cಗೆ ಪ್ರಯಾಣಿಸುವುದು ಸುರಕ್ಷಿತವೇ?\",0\\n\"ಫೆಬ್ರವರಿ 26, 2020 ರಂದು ಯುನೈಟೆಡ್ ಸ್ಟೇಟ್ಸ್ ಆರೋಗ್ಯ ಮತ್ತು ಮಾನವ ಸೇವೆಗಳ ಕಾರ್ಯದರ್ಶಿ ಗೇಟ್ ಇಮೇಜಸ್ ಟಾಪ್ಲೈನ್ \\u200b\\u200bಅಲೆಕ್ಸ್ ಅಜರ್ ಆರೋಗ್ಯ ಮತ್ತು ಮಾನವ ಸೇವೆಗಳ ಕಾರ್ಯದರ್ಶಿ ಕರೋನವೈರಸ್ ಲಸಿಕೆ ಎಲ್ಲಾ ಅಮೆರಿಕನ್ನರಿಗೆ ಕೈಗೆಟುಕುವಂತಿಲ್ಲ ಮತ್ತು ಟ್ರಂಪ್ ಎಂದು ಸೂಚಿಸಿದ ನಂತರ ಡೆಮೋಕ್ರಾಟ್ಗಳಿಗೆ ಕೋಪ ತಂದಿದ್ದಾರೆ. ಕೋವಿಡ್ 19 ಸಂಶೋಧನೆಯಲ್ಲಿ ಖಾಸಗಿ ವಲಯದ ಹೂಡಿಕೆಯ ಅಗತ್ಯದಿಂದಾಗಿ ಆಡಳಿತವು ಅದರ ಬೆಲೆಯನ್ನು ಹಿಡಿಯಲು ಸಾಧ್ಯವಾಗಲಿಲ್ಲ. ಈ ವಾರ ಅಜರ್ ಈ ವಾರ ಕಾಂಗ್ರೆಸ್ಗೆ 2 5 ಬಿಲಿಯನ್ ಡಾಲರ್ ಹಣವನ್ನು ನೀಡುವ ಟ್ರಂಪ್ ಅವರ ಬೇಡಿಕೆಯನ್ನು ಅಂಗೀಕರಿಸುವಂತೆ ಕೇಳಿಕೊಂಡ ನಂತರ ಬಂದಿದ್ದು, ಈ ರೋಗದ ವಿರುದ್ಧ ಹೋರಾಡಲು ಲಸಿಕೆಗಳನ್ನು ಅಭಿವೃದ್ಧಿಪಡಿಸುವ ಕಡೆಗೆ ಮತ್ತು ಇತರ ಕ್ರಮಗಳ ನಡುವೆ ಸ್ಥಳೀಯ ಸರ್ಕಾರವನ್ನು ಬೆಂಬಲಿಸುವುದು ಟ್ರಂಪ್ ಬುಧವಾರ ಕರೋನವೈರಸ್ ವಿರುದ್ಧದ ಸರ್ಕಾರದ ಹೋರಾಟವನ್ನು ಮುನ್ನಡೆಸಲು ಉಪಾಧ್ಯಕ್ಷ ಮೈಕ್ ಪೆನ್ಸ್ ಅವರನ್ನು ಅಧಿಕೃತವಾಗಿ ನೇಮಕ ಮಾಡಿತು, ಇದು ಯೋಜಿತ ಪಿತೃತ್ವ ನಿಧಿಯನ್ನು ಕಡಿತಗೊಳಿಸಲು ಮತ ಚಲಾಯಿಸಿದಾಗ ಸೇರಿದಂತೆ ಸಾರ್ವಜನಿಕ ಆರೋಗ್ಯ ಸಮಸ್ಯೆಗಳ ಬಗ್ಗೆ ಪೆನ್ಸ್ ಅವರ ಹಿಂದಿನ ದಾಖಲೆಯಲ್ಲಿ ನಿರ್ದೇಶಿಸಲ್ಪಟ್ಟ ಟೀಕೆಗಳನ್ನು ಎದುರಿಸಬೇಕಾಯಿತು. ಮತ್ತು ನಂತರ ಅವರು ಆಡಳಿತದಲ್ಲಿದ್ದಾಗ ಎಚ್ಐವಿ ಏಕಾಏಕಿ ಮೇಲ್ವಿಚಾರಣೆ ಮಾಡಿದರು ಅಥವಾ ಪ್ರಮುಖ ಪಿಪಿ ಪರೀಕ್ಷಾ ತಾಣವನ್ನು ಮುಚ್ಚುವ ಸಂಬಂಧ ಹೊಂದಿರುವ ಇಂಡಿಯಾನಾದ ಟ್ರಂಪ್ ಬುಧವಾರ ಕರೋನವೈರಸ್ ವಿರುದ್ಧದ ಸರ್ಕಾರದ ಹೋರಾಟವನ್ನು ಮುನ್ನಡೆಸಲು ಉಪಾಧ್ಯಕ್ಷ ಮೈಕ್ ಪೆನ್ಸ್ ಅವರನ್ನು ಅಧಿಕೃತವಾಗಿ ನೇಮಕ ಮಾಡಿದರು, ಈ ಕ್ರಮವು ಸಾರ್ವಜನಿಕ ಆರೋಗ್ಯ ಸಮಸ್ಯೆಗಳೊಂದಿಗೆ ವ್ಯವಹರಿಸುವಾಗ ಪೆನ್ಸ್ ಅವರ ಹಿಂದಿನ ದಾಖಲೆಯಲ್ಲಿ ಟೀಕೆಗೆ ಗುರಿಯಾಯಿತು. ಹೆಚ್ಚಿನ ಓದಿಗಾಗಿ ಆರೋಗ್ಯ ಕಾರ್ಯದರ್ಶಿ ತುರ್ತು ಕೊರೊನಾವೈರಸ್ ನಿಧಿಯನ್ನು ಕೇಳಿದರೆ, ಸಿಡಿಸಿ ಬಜೆಟ್ ಲಿಸೆಟ್ ವಾಯ್ಟ್ಕೊಗೆ 16 ಕಟ್ ಮಾಡಲು ಟ್ರಂಪ್ ಕರೆ ನೀಡಿದ್ದಾರೆ\",1\\nಬೆರ್ಲಿನ್ ಫೆಬ್ರವರಿ 27 ರಾಯಿಟರ್ಸ್ ಜರ್ಮನಿಯ ಹೊಸ ಕಾರುಗಳ ನೋಂದಣಿ 2020 ರಲ್ಲಿ 6 ಕ್ಕೆ ಇಳಿಯುವ ನಿರೀಕ್ಷೆಯಿದೆ ಏಕೆಂದರೆ ಕರೋನವೈರಸ್ ಏಕಾಏಕಿ ತಯಾರಕರು ಮತ್ತು ಅವರ ಪೂರೈಕೆದಾರರ ವಾಹನ ಉದ್ಯಮ ಸಂಘ ವಿಡಿಎ ಗುರುವಾರ ಪರಿಣಾಮ ಬೀರಿದೆ. 2 ವಿಡಿಎ ಅಧ್ಯಕ್ಷ ಹಿಲ್ಡೆಗಾರ್ಡ್ ಮುಲ್ಲರ್ ಅವರ ಹಿಂದೆ ನಿರೀಕ್ಷಿತ ಕುಸಿತಕ್ಕೆ ಹೋಲಿಸಿದರೆ 7 ರಷ್ಟು ಕುಸಿತದ ಮುನ್ಸೂಚನೆಯ ಆಟೋ ಮಾರುಕಟ್ಟೆಯು ಕರೋನವೈರಸ್ನ ಪರಿಣಾಮಗಳು ಇನ್ನೂ ಸ್ಪಷ್ಟವಾಗಿಲ್ಲ ಆದರೆ ಶೀಘ್ರ ಸುಧಾರಣೆಯನ್ನು ನಿರೀಕ್ಷಿಸಲಾಗುವುದಿಲ್ಲ ಎಂದು ವಿಡಿಎ ಹೇಳಿದ್ದು ಬಿಕ್ಕಟ್ಟಿನ ಕಾರ್ಯಪಡೆ ಸ್ಥಾಪಿಸಿದೆ ಇದು ಕರೋನವೈರಸ್ ಪರಿಸ್ಥಿತಿಯನ್ನು ವಿಶ್ಲೇಷಿಸುತ್ತದೆ ಮತ್ತು ಸಂಭಾವ್ಯ ಪ್ರತಿಕ್ರಿಯೆಗಳನ್ನು ಚರ್ಚಿಸುತ್ತದೆ,1\\n\"ರೋಮ್ ರಾಯಿಟರ್ಸ್ ಇಟಲಿಯ ಸರ್ಕಾರವು ಗುರುವಾರ ಸಂಭವಿಸಿದ ಆರ್ಥಿಕ ಹಿಂಜರಿತವನ್ನು ತಡೆಯಲು ಹತಾಶವಾಗಿದೆ, ಇದು ಯುರೋಪಿನಲ್ಲಿ ಇನ್ನೂ ಕಂಡ ಕೆಟ್ಟದಾದ ಕೊರೊನಾವೈರಸ್ನ ಗುರುತ್ವಾಕರ್ಷಣೆಯಾಗಿದೆ, ಇದು ದೇಶದ ಒಂದು ಸಣ್ಣ ಭಾಗವನ್ನು ಮಾತ್ರ ಪರಿಣಾಮ ಬೀರಿದೆ ಎಂದು ಇಟಲಿಯ ಲೊಂಬಾರ್ಡಿ ಗವರ್ನರ್ ಅಟಿಲಿಯೊ ಫೊಂಟಾನಾ ರಕ್ಷಣಾತ್ಮಕ ಮುಖವಾಡವನ್ನು ಹಾಕಿದ್ದಾರೆ ಮಿಲನ್ ಇಟಲಿಯಲ್ಲಿ ಸೋಶಿಯಲ್ ಮೀಡಿಯಾ ವಿಡಿಯೋದಿಂದ ತೆಗೆದ ಈ ಸ್ಟಿಲ್ ಚಿತ್ರದಲ್ಲಿ ಅವರ ಸಹಾಯಕರೊಬ್ಬರು ಕರೋನವೈರಸ್ಗೆ ಧನಾತ್ಮಕ ಪರೀಕ್ಷೆ ನಡೆಸಿದ ನಂತರ ಅವರು ತಮ್ಮನ್ನು ಸಂಪರ್ಕತಡೆಯಲ್ಲಿ ಇರಿಸಿಕೊಂಡಿದ್ದಾರೆ ಎಂದು ಅವರು ಫೇಸ್\\u200cಬುಕ್\\u200cನಲ್ಲಿ ಘೋಷಿಸಿದಂತೆ ಫೆಬ್ರವರಿ 26 2020 ವಿಶ್ವದಾದ್ಯಂತ ಬೆಳೆಯುತ್ತಿರುವ ದೇಶಗಳ ಪಟ್ಟಿಯು ಕರೋನವೈರಸ್ ಪ್ರಕರಣಗಳನ್ನು ವರದಿ ಮಾಡಿದೆ ಕಳೆದ ಎರಡು ದಿನಗಳು ಇಟಲಿಯ ವಿರೋಧ ಲೀಗ್ ಪಕ್ಷದೊಂದಿಗಿನ ಸಂಪರ್ಕದಿಂದಾಗಿ ಪ್ರಧಾನಿ ಗೈಸೆಪೆ ಕಾಂಟೆ ಅವರು ಬಿಕ್ಕಟ್ಟನ್ನು ತಪ್ಪಾಗಿ ನಿರ್ವಹಿಸಿದ್ದಾರೆ ಎಂದು ಆರೋಪಿಸಿದ್ದಾರೆ ಮತ್ತು ರಾಷ್ಟ್ರೀಯ ಏಕತೆಯ ಸರ್ಕಾರವನ್ನು ರಚಿಸಲು ಗುರುವಾರ ಕರೆ ನೀಡಿದರು. ಸರ್ಕಾರವು ದಾಳಿಯನ್ನು ತಳ್ಳಿಹಾಕಿತು ಮತ್ತು ಒಂದನ್ನು ಜಯಿಸಲು ಮುಂದಾಗುವುದಾಗಿ ಪ್ರತಿಜ್ಞೆ ಮಾಡಿತು ಇಟಲಿಯು ಹಲವಾರು ವರ್ಷಗಳಿಂದ ಎದುರಿಸಬೇಕಾಗಿರುವ ಅತ್ಯಂತ ಗಂಭೀರ ಬಿಕ್ಕಟ್ಟುಗಳು\",0\\nಕರೋನವೈರಸ್ನ ಜಾಗತಿಕ ಹರಡುವಿಕೆಗೆ ಸಂಬಂಧಿಸಿದ ಮುನ್ನೆಚ್ಚರಿಕೆ ಕ್ರಮವಾಗಿ ನೆಸ್ಲೆ ಎಸ್ಎ ತನ್ನ ಎಲ್ಲ ಉದ್ಯೋಗಿಗಳಿಗೆ ಅಂತರರಾಷ್ಟ್ರೀಯ ವ್ಯಾಪಾರ ಪ್ರಯಾಣವನ್ನು ಸ್ಥಗಿತಗೊಳಿಸಿದೆ ಎಂದು ವರದಿಗಳು ತಿಳಿಸಿವೆ. ರೋಸ್ಲಿನ್ ನಲ್ಲಿ ನೀವು ಎಸ್ ವಿಭಾಗವನ್ನು ಹೊಂದಿರುವ ಅಂತರರಾಷ್ಟ್ರೀಯ ಆಹಾರ ಮತ್ತು ಸಾಕುಪ್ರಾಣಿ ಆರೈಕೆ ಕಂಪನಿಯು ಮಾರ್ಚ್ 15 ರವರೆಗೆ ಪ್ರಯಾಣ ನಿಷೇಧವನ್ನು ಜಾರಿಗೊಳಿಸಿದೆ. ಸ್ವಿಟ್ಜರ್ಲೆಂಡ್ ಮೂಲದ ಕಂಪನಿಯು ಸಾಧ್ಯವಾದಷ್ಟು ದೇಶೀಯ ಪ್ರವಾಸಗಳನ್ನು ರದ್ದುಗೊಳಿಸುವಂತೆ ವಿನಂತಿಸುತ್ತಿದೆ ಮತ್ತು ವರದಿಗಳ ಪ್ರಕಾರ ವಿಡಿಯೋಕಾನ್ಫರೆನ್ಸಿಂಗ್\\u200cನಂತಹ ಪರ್ಯಾಯ ಸಂವಹನದ ಬಳಕೆಯನ್ನು ಉತ್ತೇಜಿಸುತ್ತದೆ.,0\\n\"ವೋಕ್ಸ್\\u200cವ್ಯಾಗನ್ ತನ್ನ ಎಂಟನೇ ಜನ್ ಗಾಲ್ಫ್ ಜಿಟಿಐನಿಂದ ಹೊದಿಕೆಗಳನ್ನು ಎಳೆದಿದೆ ಮತ್ತು ಅದರೊಂದಿಗೆ ಡೀಸೆಲ್ ಸುಡುವ ಜಿಟಿಡಿ ಮತ್ತು ಹೈಬ್ರಿಡ್ ಜಿಟಿಇಯ ಪ್ಲಗ್ ಸಹ ಬಹಿರಂಗಗೊಂಡಿದೆ ಮುಂಬರುವ ಸ್ಕೋಡಾ ಆಕ್ಟೇವಿಯಾ ಆರ್ಎಸ್ ಮತ್ತು ಕುಪ್ರಾ ಲಿಯಾನ್ ಪ್ಲಗ್ ಇನ್ ರೂಪಾಂತರಗಳಲ್ಲಿ ಇತ್ತೀಚಿನ ಗಾಲ್ಫ್ ಜಿಟಿಇ 1 ನಿಂದ ಪ್ರೇರೇಪಿಸಲ್ಪಟ್ಟಿದೆ 4 ಲೀಟರ್ ಎಂಜಿನ್ 147 ಅಶ್ವಶಕ್ತಿ ಮತ್ತು 112 ಅಶ್ವಶಕ್ತಿ ಎಲೆಕ್ಟ್ರಿಕ್ ಮೋಟರ್ ಅನ್ನು ಜಿಟಿಐ ಎರಡು ನಿಷ್ಕಾಸಗಳನ್ನು ಪಡೆಯುತ್ತದೆ ಮತ್ತು ಜಿಟಿಡಿ ಒಂದೇ ಡ್ಯುಯಲ್ ಎಕ್ಸಿಟ್ ನಿಷ್ಕಾಸವನ್ನು ಪಡೆಯುತ್ತದೆ ಮತ್ತು ಜಿಟಿಇ ಹಿಂಭಾಗದ ಬಂಪರ್ ಹೋಲಿಕೆಯಿಂದ ಕೆಟ್ಟದಾಗಿ ಕಾಣುತ್ತದೆ ಆ ಎರಡು ಮಾದರಿಗಳು 0 6 ಇಂಚುಗಳು 1 5 ಸೆಂಟಿಮೀಟರ್ ಕಡಿಮೆ ಸ್ಟ್ಯಾಂಡರ್ಡ್ ಗಾಲ್ಫ್\\u200cಗಿಂತ ಮತ್ತು ಜಿಟಿಇ ಕಾರ್ಖಾನೆಯನ್ನು ಕಡಿಮೆಗೊಳಿಸಲಾಗಿಲ್ಲ ಎಂಬುದು ವಿಡಬ್ಲ್ಯೂ ಭಾಗದ ಒಂದು ಪ್ರಶ್ನಾರ್ಹ ನಿರ್ಧಾರವಾಗಿದೆ, ಕಡಿಮೆ ಸವಾರಿ ಎತ್ತರವು ಕಾರಿನ ಮೂಲೆಗೆ ಸಾಮರ್ಥ್ಯವನ್ನು ಹೆಚ್ಚಿಸುತ್ತದೆ ಆದರೆ ಇದು ಹೆಚ್ಚು ವಾಯುಬಲವೈಜ್ಞಾನಿಕವಾಗಿಸುತ್ತದೆ ಮತ್ತು ಆದ್ದರಿಂದ ಹೆಚ್ಚು ಪರಿಣಾಮಕಾರಿಯಾಗಿದೆ ಹೈಬ್ರಿಡ್ನಲ್ಲಿನ ಪ್ಲಗ್ ಆದ್ದರಿಂದ ಹೆಚ್ಚಿನ ಸವಾರಿ ಎತ್ತರದ ನಡುವೆ ಅದರ ಆರ್ಥಿಕ ಕಾರು ಹಿಂಭಾಗದ ಬಂಪರ್ ಮರ್ಯಾದೋಲ್ಲಂಘನೆ ನಿಷ್ಕಾಸಗಳು ಮತ್ತು ಚಕ್ರಗಳು ಜಿಟಿಐ ಅಥವಾ ಜಿಟಿಡಿಯಲ್ಲಿರುವಂತೆ ಆಕ್ರಮಣಕಾರಿಯಾಗಿ ಕಾಣುವುದಿಲ್ಲ ಜಿಟಿಇ ಸಾಕಷ್ಟು ಆಕ್ರಮಣಕಾರಿಯಾಗಿ ಕಾಣುವುದಿಲ್ಲ ಆ ಎರಡು ಎಂದು\",1\\n\"ಆಂಡ್ರಿಯಾ ಮಾಂಟೊವಾನಿ ದಿ ನ್ಯೂಯಾರ್ಕ್ ಟೈಮ್ಸ್ ತೈಲ ಕಂಪೆನಿ ಮತ್ತು ಮಾಧ್ಯಮ ಗುಂಪು ಲಂಡನ್\\u200cನಲ್ಲಿರುವ ನೂರಾರು ಉದ್ಯೋಗಿಗಳಿಗೆ ಮನೆಯಿಂದ ಕೆಲಸ ಮಾಡಲು ಮಿಲನ್\\u200cನಿಂದ ಬರ್ಲಿನ್\\u200cಗೆ ಲಂಡನ್ ಕಂಪೆನಿಗಳಿಗೆ ಪ್ರಾಯೋಗಿಕವಾಗಿ ಪ್ರತಿ ಉದ್ಯಮದಲ್ಲಿ ತಮ್ಮ ತುರ್ತು ಪ್ರೋಟೋಕಾಲ್\\u200cಗಳನ್ನು ಪರಿಷ್ಕರಿಸುತ್ತಿದೆ ಅಥವಾ ಏಕಾಏಕಿ ತಡೆಗಟ್ಟಲು ಪ್ರಯತ್ನಿಸುತ್ತಿದೆ. ಈ ವಾರ ಚೆವ್ರೊನ್ ತನ್ನ ಲಂಡನ್ ಕಚೇರಿಯೊಂದರಲ್ಲಿ 300 ಕಾರ್ಮಿಕರಿಗೆ ಇಟಲಿಯಿಂದ ಹಿಂದಿರುಗಿದ ಉದ್ಯೋಗಿಯೊಬ್ಬರು ಫ್ಲೂಲೈಕ್ ರೋಗಲಕ್ಷಣಗಳನ್ನು ಅಭಿವೃದ್ಧಿಪಡಿಸಿದ ನಂತರ ಮನೆಯಿಂದ ಕೆಲಸ ಮಾಡುವಂತೆ ಸೂಚನೆ ನೀಡಿದರು. ಬ್ರಿಟಿಷ್ ಪೇ ಟೆಲಿವಿಷನ್ ಕಂಪನಿ ಸ್ಕೈ ತನ್ನ ಹಲವಾರು ಯುರೋಪಿಯನ್ ಕಚೇರಿಗಳಲ್ಲಿ ಸಂದರ್ಶಕರನ್ನು ಪರೀಕ್ಷಿಸಲು ಪ್ರಾರಂಭಿಸಿದೆ, ಇತ್ತೀಚೆಗೆ ಪ್ರಯಾಣಿಸಿದ ಅತಿಥಿಗಳು ಹೆಚ್ಚಿನ ಅಪಾಯದ ದೇಶಗಳಾದ ಚೀನಾ ಮತ್ತು ಜಪಾನ್ ಅನ್ನು ನಿರ್ಬಂಧಿಸಲಾಗುವುದು ಏಕೆಂದರೆ ಹೆಚ್ಚಿನ ಗ್ರಾಹಕರು ಸೇವೆಯಲ್ಲಿ ಆಸಕ್ತಿಯನ್ನು ವ್ಯಕ್ತಪಡಿಸಿದ್ದರಿಂದ ಒಟ್ಟೊವಾ ಒಂಟಾರಿಯೊದಲ್ಲಿನ ಕಂಪನಿಯ ಪ್ರಧಾನ ಕಚೇರಿಗೆ ಕರೋನವೈರಸ್ ಹರಡಿದರೆ ವ್ಯಾಲಿ ತನ್ನ ಸ್ವಂತ ಉದ್ಯೋಗಿಗಳನ್ನು ಮನೆಗೆ ಕಳುಹಿಸಲು ತಯಾರಿ ನಡೆಸುತ್ತಿದ್ದಾನೆ.\",0\\n\"ಕರೋನವೈರಸ್ ಅಥವಾ COVID 19 ಏಕಾಏಕಿ ನಂತರ ಹಲವಾರು ಅಂತರರಾಷ್ಟ್ರೀಯ ವಿಮಾನಗಳ ಮುಚ್ಚುವಿಕೆಯನ್ನು ಸರಿದೂಗಿಸಲು ಹೊಸ ಮಾರ್ಗಗಳನ್ನು ಸಿದ್ಧಪಡಿಸುತ್ತಿದೆ ಎಂದು ಟೆಂಪೊ ಸಿಒ ಜಕಾರ್ತಾ ರಾಷ್ಟ್ರೀಯ ಧ್ವಜವಾಹಕ ನೌಕೆ ಗರುಡಾ ಇಂಡೋನೇಷ್ಯಾ ಸಿಇಒ ಇರ್ಫಾನ್ ಸೆಟಿಯಾಪುತ್ರಾ ಹೇಳಿದ್ದಾರೆ. ಫೆಬ್ರವರಿ 27 ರ ಗುರುವಾರ ಇರ್ಫಾನ್ ತಮ್ಮ ಕಚೇರಿಯಲ್ಲಿ ಇರ್ಫಾನ್ ಹೇಳಿರುವ ಮಾರ್ಗಗಳ ಕುರಿತು ಚರ್ಚೆಗಳು ಇನ್ನೂ ನಡೆಯುತ್ತಿವೆ ಎಂದು ನಾವು ಹೇಳುತ್ತೇವೆ. ನಷ್ಟದ ಕಾರಣ ನಾವು ಗೊಣಗುತ್ತಿರುವ ಕಂಪನಿಯಲ್ಲ, ಪರಿಸ್ಥಿತಿಯನ್ನು ಲೆಕ್ಕಿಸದೆ ಸಂಸ್ಥೆಯ ಕಾರ್ಯಕ್ಷಮತೆಯನ್ನು ಸುಧಾರಿಸಲು ಈ ಸ್ಥಿತಿಯನ್ನು ಸವಾಲುಗಳಾಗಿ ತೆಗೆದುಕೊಳ್ಳಲಾಗುವುದು ಎಂದು ಹೇಳಿದರು. ಸೌದಿ ಅರೇಬಿಯಾ ಹೊರಡಿಸಿದ ಉಮ್ರಾ ಪ್ರವೇಶದ ತಾತ್ಕಾಲಿಕ ನಿಷೇಧದ ಮೊದಲು ರಾಜ್ಯ ವಿಮಾನಯಾನ ಸಂಸ್ಥೆಗಳು ಚೀನಾ ಸೇರಿದಂತೆ ಹಲವಾರು ಅಂತರರಾಷ್ಟ್ರೀಯ ಮಾರ್ಗಗಳನ್ನು ಸ್ಥಗಿತಗೊಳಿಸಿದ್ದವು ಮತ್ತು ಹಾಂಗ್ ಕಾಂಗ್ ಮತ್ತು ಸಿಂಗಾಪುರಕ್ಕೆ ಹಾರಾಟದ ಆವರ್ತನವನ್ನು ಕಡಿಮೆಗೊಳಿಸಿದ್ದವು. ಗರುಡ ಸರ್ಕಾರಿ ಸ್ವಾಮ್ಯದ ಉದ್ಯಮವಾಗಿದೆ ಆದ್ದರಿಂದ ಮಾರ್ಗವನ್ನು ಮುಚ್ಚಬೇಕು ಸಂಬಂಧಿತ ಸಚಿವಾಲಯಗಳ ಅನುಮತಿ ಮತ್ತು ಆದೇಶವು ಉಭಯ ದೇಶಗಳ ದ್ವಿಪಕ್ಷೀಯ ಸಂಬಂಧದ ಮೇಲೆ ಪರಿಣಾಮ ಬೀರಬಹುದು ಎಂದು ಇರ್ಫಾನ್ ಹೇಳಿದರು ಸೀಸರ್ ಅಕ್ಬರ್\",0\\n\"ಆರೋಗ್ಯ ಮತ್ತು ಪ್ರಯಾಣದ ಆತಂಕಗಳ ಮಧ್ಯೆ ಒಲಿಂಪಿಕ್ಸ್ ಸಿಕ್ಸ್ ನೇಷನ್ಸ್ ಮತ್ತು ಸ್ಟಾರ್ಮ್\\u200cಜಿಯ ವಿಶ್ವ ಪ್ರವಾಸವು ಮಾರ್ಚ್ 7 ರಂದು ಡಬ್ಲಿನ್\\u200cನಲ್ಲಿ ಇಟಲಿ ವಿರುದ್ಧದ ಕೊರೊನಾವೈರಸ್ ಸಿಕ್ಸ್ ನೇಷನ್ಸ್ಇರೆಲ್ಯಾಂಡ್ ಪಂದ್ಯದ ಹರಡುವಿಕೆಯನ್ನು ಎದುರಿಸಲು ಅಧಿಕಾರಿಗಳು ಪ್ರಯತ್ನಿಸುತ್ತಿರುವುದರಿಂದ ಈಗ ಮುಂದೂಡಲಾಗಿದೆ. ದೇಶದ ಆರೋಗ್ಯ ಮಂತ್ರಿ ಇಂಗ್ಲೆಂಡ್ ವಿ ಇಟಲಿ ಫುಟ್ಬಾಲ್ ಅಸೋಸಿಯೇಷನ್ \\u200b\\u200bಇದು ಕರೋನವೈರಸ್ಗೆ ಹೇಗೆ ಪ್ರತಿಕ್ರಿಯಿಸುತ್ತದೆ ಎಂಬುದನ್ನು ಚರ್ಚಿಸುವ ಪ್ರಕ್ರಿಯೆಯನ್ನು ಪ್ರಾರಂಭಿಸಿದೆ ಮತ್ತು ನಿರ್ದಿಷ್ಟವಾಗಿ ಮಾರ್ಚ್ 27 ರಂದು ವೆಂಬ್ಲಿಯಲ್ಲಿ ಇಟಲಿಯೊಂದಿಗೆ ಇಂಗ್ಲೆಂಡ್ ಸ್ನೇಹಪರವಾಗಿದ್ದರೆ ಅಲ್ಲಿ ವೈರಸ್ ಹರಡುವುದನ್ನು ಗಮನಿಸಿದರೆ ಮುಂದೆ ಹೋಗಬಹುದು, ಇದು ಈಗಾಗಲೇ ನಾಲ್ಕು ಸೀರಿಗೆ ಕಾರಣವಾಗಿದೆ ಪಂದ್ಯಗಳನ್ನು ಮುಂದೂಡಲಾಗಿದೆ ಮತ್ತು ಇಂಟರ್ನ್ಯಾಜಿಯೋನೇಲ್ ಅವರ ಮನೆ ಯುರೋಪಾ ಲೀಗ್ ಗುರುವಾರ ಲುಡೋಗೊರೆಟ್ಸ್ ಜೊತೆಗಿನ ಪಂದ್ಯವು ಮುಚ್ಚಿದ ಬಾಗಿಲುಗಳ ಪಂದ್ಯವಾಗಿದೆ ಪ್ರವಾಸೋದ್ಯಮ ಸಂಗೀತಗಾರರು ಬ್ರಿಟಿಷ್ ಗ್ರಿಮ್ ಸ್ಟಾರ್ ಸ್ಟಾರ್ಮ್ಜಿ ಅವರು ತಮ್ಮ ಅತಿದೊಡ್ಡ ಪ್ರವಾಸವನ್ನು 2020 ರಲ್ಲಿ ಐದು ಖಂಡಗಳಲ್ಲಿ ಜಾಗತಿಕ ವಿಹಾರಕ್ಕೆ ಮುಂದಾಗಿದ್ದಾರೆ ಆದರೆ ಏಷ್ಯಾದ ಕಾಲು ಮುಂದೂಡಲ್ಪಟ್ಟಿದೆ ಸ್ಟಾರ್ಮ್ಜಿ ಕ್ಷಮೆಯಾಚಿಸುತ್ತಿದೆ ಕರೋನವಿ ಸುತ್ತಮುತ್ತಲಿನ ಆರೋಗ್ಯ ಮತ್ತು ಪ್ರಯಾಣದ ಕಾಳಜಿಗಳಿಂದಾಗಿ ರುಸ್ ನಾನು ವಿಷಾದನೀಯವಾಗಿ ಕೇನ್ಸ್ ವೆನಿಸ್ ಮತ್ತು ಇತರ ಚಲನಚಿತ್ರೋತ್ಸವಗಳನ್ನು ಮರುಹೊಂದಿಸಬೇಕಾಗಿದೆ. ಚಲನಚಿತ್ರೋದ್ಯಮವು ತೀವ್ರವಾಗಿ ಹೊಡೆದಿದೆ ಚೀನೀ ಚಿತ್ರಮಂದಿರಗಳು ಅಮೂಲ್ಯವಾದ ಚೀನೀ ಹೊಸ ವರ್ಷದ ಗಲ್ಲಾಪೆಟ್ಟಿಗೆಯನ್ನು ತಡೆಗಟ್ಟುವ ಕ್ರಮವಾಗಿ ತ್ವರಿತವಾಗಿ ಮುಚ್ಚಲ್ಪಟ್ಟವು ಮತ್ತು ಚೀನಾದ ಪ್ರಥಮ ಪ್ರದರ್ಶನಗಳಂತಹ ಉನ್ನತ ಮಟ್ಟದ ಘಟನೆಗಳನ್ನು ರದ್ದುಗೊಳಿಸುವಂತೆ ಒತ್ತಾಯಿಸಿತು. ಹೊಸ ಬಾಂಡ್ ಚಿತ್ರ ನೋ ಟೈಮ್ ಟು ಡೈ ಏಪ್ರಿಲ್ನಲ್ಲಿ ನಡೆಯಲಿದೆ\",0\\n\"ಫಾಕ್ಸ್ ನ್ಯೂಸ್ ಹಿರಿಯ ನ್ಯಾಯಾಂಗ ವಿಶ್ಲೇಷಕ ನ್ಯಾಯಾಧೀಶ ಆಂಡ್ರ್ಯೂ ನಪೊಲಿಟಾನೊ ಅವರು ಫಾಕ್ಸ್ ಆಂಪ್ ಫ್ರೆಂಡ್ಸ್ ಬಗ್ಗೆ ವಿವರಿಸಿದ್ದು, ರಷ್ಯಾದ ಬಗ್ಗೆ ಆಪ್ ಎಡ್ ಮೇಲೆ ಅಧ್ಯಕ್ಷರ ಮಾನಹಾನಿ ಮೊಕದ್ದಮೆಯನ್ನು ವಜಾಗೊಳಿಸಲಾಗುವುದು ಮತ್ತು ಅಭಯಾರಣ್ಯದ ತೀರ್ಪಿನಲ್ಲಿ ಶ್ವೇತಭವನದ ಗೆಲುವಿಗೆ ಪ್ರತಿಕ್ರಿಯಿಸುತ್ತದೆ ಎಂದು ಟ್ರಂಪ್ ಅಭಿಯಾನವು ಮಾನಹಾನಿಯನ್ನು ದಾಖಲಿಸಿದೆ ಅತ್ಯಂತ ಪಕ್ಷಪಾತದ ನ್ಯೂಯಾರ್ಕ್ ಟೈಮ್ಸ್ ವಿರುದ್ಧದ ಮೊಕದ್ದಮೆ ಒಂದು ಬುದ್ಧಿವಂತ ನಡೆ ಆದರೆ ಫಾಕ್ಸ್ ನ್ಯೂಸ್ ಹಿರಿಯ ನ್ಯಾಯಾಂಗ ವಿಶ್ಲೇಷಕ ನ್ಯಾಯಾಧೀಶ ಆಂಡ್ರ್ಯೂ ನಪೊಲಿಟಾನೊ ಅವರ ಪ್ರಕಾರ ಈ ಪ್ರಕರಣವನ್ನು ವಜಾಗೊಳಿಸಲಾಗುವುದು, ಆಗ ವಿಶೇಷ ವಕೀಲ ರಾಬರ್ಟ್ ಮುಲ್ಲರ್ ಟ್ರಂಪ್ ಅವರನ್ನು ಮುಕ್ತಗೊಳಿಸಲಿದ್ದಾರೆ ಎಂದು ತಿಳಿದಿದ್ದರಿಂದ ಮೊಕದ್ದಮೆಯಲ್ಲಿ ಮೊಕದ್ದಮೆ ವಾದಿಸುತ್ತದೆ ಪಿತೂರಿ ಹಕ್ಕುಗಳನ್ನು ರದ್ದುಗೊಳಿಸುವ ಮೊದಲು ಮುಲ್ಲರ್ ವರದಿಯನ್ನು ಬಿಡುಗಡೆ ಮಾಡುವ ಮೊದಲು ಅಧ್ಯಕ್ಷರ ಅಭಿಯಾನವನ್ನು ತ್ವರಿತವಾಗಿ ಹಾನಿಗೊಳಗಾಗಲು ಟೈಮ್ಸ್ ಪ್ರಯತ್ನಿಸಿತು, ಟ್ರಂಪ್ ರುಬಿಯಾ ಹೊಸ ಕೆಲಸದ ಸಮಯಗಳನ್ನು ರುಬಿಯಾ ಕನ್ಪೈರಸಿ ಒಪಿ ಸಂಪಾದಿಸಿ ಇಲ್ಲಿಗೆ ಫಾಕ್ಸ್ ನ್ಯೂಸ್ ಎಪಿಪಿನಾಪಾಲಿಟಾನೊ ಅವರು ಪ್ರಚಾರವನ್ನು ಏಕೆ ನಿಲ್ಲುತ್ತದೆ ಎಂದು ನಂಬುವುದಿಲ್ಲ ಎಂದು ವಿವರಿಸಿದರು. ಮಾನನಷ್ಟ ಮೊಕದ್ದಮೆ ಫಿರ್ಯಾದಿ ಟ್ರಂಪ್ ಅಭಿಯಾನ ಮತ್ತು ಮಾನಹಾನಿ ಕಾನೂನಿನಡಿಯಲ್ಲಿ ನ್ಯೂಯಾರ್ಕ್ನಲ್ಲಿ ಅವರು ದೂರು ದಾಖಲಿಸಿದ್ದಾರೆ ಒಂದು ಗುಂಪು ಫಿರ್ಯಾದಿಯಾಗಲು ಸಾಧ್ಯವಿಲ್ಲ, ಆಪಾದಿತ ಮಾನಹಾನಿಯಿಂದ ಹಾನಿಗೊಳಗಾದ ಒಬ್ಬ ವ್ಯಕ್ತಿ ಮಾತ್ರ ಫಿರ್ಯಾದಿಯಾಗಬಹುದು\",0\\n\"ಆದರೆ ವಿನಾಶಕಾರಿ ಕಾಡ್ಗಿಚ್ಚುಗಳು ಹತ್ತಾರು ಸ್ಥಳೀಯ ಪ್ರಾಣಿಗಳನ್ನು ಮತ್ತು ಅದರ 90 ಕೋಲಾ ಜನಸಂಖ್ಯೆಯನ್ನು ಕೊಲ್ಲುವ ದಶಕಗಳ ಎಚ್ಚರಿಕೆಯ ಸಂರಕ್ಷಣಾ ಕಾರ್ಯವನ್ನು ಹಿಮ್ಮೆಟ್ಟಿಸಿದವು. ದಕ್ಷಿಣ ಆಸ್ಟ್ರೇಲಿಯಾದ ಕರಾವಳಿಯಲ್ಲಿ ನೆಲೆಗೊಂಡಿರುವ ಕಾಂಗರೂ ದ್ವೀಪವು ರೋಡ್ ದ್ವೀಪಕ್ಕಿಂತ ಸುಮಾರು 50 ದೊಡ್ಡದಾಗಿದೆ ಮತ್ತು 4500 ಜನರಿಗೆ ನೆಲೆಯಾಗಿದೆ ಮತ್ತು ಅಭಿವೃದ್ಧಿ ಹೊಂದುತ್ತಿರುವ ಪರಿಸರ ಪ್ರವಾಸೋದ್ಯಮ ಯಾವುದು ಇಂಡಸ್ಟ್ರಿ ಸ್ಯಾಮ್\\u200cನ ವೆಟ್ಸ್ ತಜ್ಞರು ಮತ್ತು ವಿಶ್ವದಾದ್ಯಂತದ ಸ್ವಯಂಸೇವಕರು ಎರಡು ತಿಂಗಳ ಹಿಂದೆ ಬೆಂಕಿ ಪ್ರಾರಂಭವಾದಾಗಿನಿಂದ 600 ಪ್ರಾಣಿಗಳಿಗೆ ಚಿಕಿತ್ಸೆ ನೀಡಿದ್ದಾರೆ. 95 ಕೋಲಾಸ್ ಕಾಂಗರೂ ದ್ವೀಪದ ಆರ್ಥಿಕತೆಯು ಕೃಷಿ ಮತ್ತು ಪ್ರವಾಸೋದ್ಯಮವನ್ನು ಅವಲಂಬಿಸಿದೆ 180 ಮಿಲಿಯನ್ ಡಾಲರ್ ಮೌಲ್ಯದ ಮೌಲ್ಯವಾಗಿದೆ ಮತ್ತು ಈಗ ಗಮನ ಪುನರುಜ್ಜೀವನಗೊಳ್ಳುತ್ತಿದೆ ಕೈಗಾರಿಕೆಗಳು ಬುಷ್\\u200cಫೈರ್\\u200cಗಳನ್ನು ಪೋಸ್ಟ್ ಮಾಡುತ್ತವೆ ದಕ್ಷಿಣ ಆಸ್ಟ್ರೇಲಿಯಾದ ಪ್ರವಾಸೋದ್ಯಮ ಆಯೋಗವು ಅಡಿಲೇಡ್ ಹಿಲ್ಸ್ ಮತ್ತು ಕಾಂಗರೂ ದ್ವೀಪಗಳಲ್ಲಿನ ಬುಷ್\\u200cಫೈರ್ ಪೀಡಿತ ಪ್ರದೇಶಗಳಿಗೆ ಭೇಟಿ ನೀಡುವಂತೆ ಪ್ರವಾಸಿಗರನ್ನು ಉತ್ತೇಜಿಸಲು ಬುಕ್\\u200cಥೆಮ್ ut ಟ್ ಅಭಿಯಾನವನ್ನು ಪ್ರಾರಂಭಿಸಿತು, ಇತ್ತೀಚಿನ ಕಾಂಗರೂ ಕಪ್ ರೇಸಿಂಗ್ ಕಾರ್ನೀವಲ್ ಕಳೆದ ವಾರಾಂತ್ಯದಲ್ಲಿ ದಾಖಲೆಯ ಹಾಜರಾತಿಯನ್ನು ತಲುಪಿದೆ\",1\\n\"ನ್ಯಾಷನಲ್ ಎನರ್ಜಿ ಆಕ್ಷನ್ ಎನ್ಇಎ ಮತ್ತು ಪರಿಸರ ಗುಂಪು ಇ 3 ಜಿ ಸಂಶೋಧನೆಯ ಪ್ರಕಾರ ಪ್ರತಿವರ್ಷ ಸರಾಸರಿ 9700 ಸಾವುಗಳು ಶೀತಲ ಮನೆಯಲ್ಲಿ ವಾಸಿಸುತ್ತಿವೆ ಎಂದು ನಂಬಲಾಗಿದೆ. ಶೀತಲ ಮನೆಗಳಿಗೆ ಸಾರ್ವಜನಿಕ ಆರೋಗ್ಯ ವಿಧಾನವು ಎನ್ಇಎ ಪೀಟರ್ ಸ್ಮಿತ್ ಹೇಳುವಂತೆ ಸ್ಥಳೀಯ ಅಧಿಕಾರಿಗಳು ಹೊಂದಿದ್ದಾರೆ ದುರದೃಷ್ಟವಶಾತ್ ಕಳಪೆ ವಸತಿ ಮತ್ತು ಆರೋಗ್ಯದ ನಡುವಿನ ಸಂಪರ್ಕವನ್ನು ಹೆಚ್ಚು ಒಪ್ಪಿಕೊಳ್ಳಲಾಗಿದೆ ದುರದೃಷ್ಟವಶಾತ್ ಈ ವರ್ಷದ ವೇಳೆಗೆ ಸ್ಥಳೀಯ ಅಧಿಕಾರಿಗಳು ತಮ್ಮ ಬಜೆಟ್\\u200cಗಳಲ್ಲಿ ಸುಮಾರು 60 ಹಣವನ್ನು ಕಳೆದುಕೊಂಡಿದ್ದಾರೆ ಎಂದು is ಹಿಸಲಾಗಿದೆ, ಸಾರ್ವಜನಿಕ ಆರೋಗ್ಯದಂತಹ ಪ್ರಮುಖ ಸೇವೆಗಳನ್ನು ಹಿಸುಕಿ ಮತ್ತು ವಿಶೇಷವಾಗಿ ಬಡ ಪ್ರದೇಶಗಳಲ್ಲಿ ಕತ್ತರಿಸಲಾಗುತ್ತದೆ ಅಪಾಯವೆಂದರೆ ನಾವು ಯಾವುದರೊಂದಿಗೆ ಕೊನೆಗೊಳ್ಳುತ್ತೇವೆ ಕಳಪೆ ಆರೋಗ್ಯ ಹೊಂದಿರುವ ಜನರ ಏರಿಳಿಕೆ ಎಂದು ಸ್ಮಿತ್ ವಿವರಿಸುತ್ತಾರೆ, ಸಾಮಾನ್ಯವಾಗಿ ಉಸಿರಾಟ ಅಥವಾ ರಕ್ತಪರಿಚಲನಾ ಕಾಯಿಲೆಗಳು ಅನಾರೋಗ್ಯಕ್ಕೆ ಒಳಗಾಗುತ್ತವೆ ಮತ್ತು ಆಸ್ಪತ್ರೆಗೆ ಕಳುಹಿಸಲ್ಪಡುತ್ತವೆ ಮತ್ತು ನಂತರ ಹಾಸಿಗೆಯನ್ನು ತಡೆಯುವ ಕಾರಣದಿಂದ ಬೇಗನೆ ತೆಗೆದುಹಾಕಲಾಗುತ್ತದೆ ಮತ್ತು ನಂತರ ಅವರನ್ನು ತಣ್ಣನೆಯ ಪರಿಸ್ಥಿತಿಗಳಿಗೆ ಕಳುಹಿಸಲಾಗುತ್ತದೆ, ಇದರಿಂದಾಗಿ ನಾನು ಮೊದಲ ಸ್ಥಾನದಲ್ಲಿರುತ್ತೇನೆ ಸಂಶೋಧನೆ ಯುಸಿಎಲ್ ಇನ್ಸ್ಟಿಟ್ಯೂಟ್ ಆಫ್ ಹೆಲ್ತ್ ಇಕ್ವಿಟಿಯ ನಿರ್ದೇಶಕ ಮೈಕೆಲ್ ಮಾರ್ಮೊಟ್ ಅವರು ಮಾನಸಿಕ I ನಂತಹ ಇತರ ಸಾರ್ವಜನಿಕ ಆರೋಗ್ಯ ಪರಿಣಾಮಗಳನ್ನು ಬಹಿರಂಗಪಡಿಸಿದ್ದಾರೆ ಆರೋಗ್ಯ ಮತ್ತು ಪ್ರತ್ಯೇಕತೆ ಏಕೆಂದರೆ ಪಿಂಚಣಿದಾರರು ತಮ್ಮ ಶೀತ ಮನೆಗಳಿಗೆ ಸ್ನೇಹಿತರನ್ನು ಆಹ್ವಾನಿಸಲು ಸಾಧ್ಯವಿಲ್ಲ ಎಂದು ಭಾವಿಸುತ್ತಾರೆ\",0\\n\"ಐರ್ಲೆಂಡ್\\u200cನ ಅತಿದೊಡ್ಡ ಖಾಸಗಿ ಭೂಮಾಲೀಕರ ಷೇರುಗಳು ಒಂದು ವರ್ಷದ ಅವಧಿಯಲ್ಲಿ ಐರೆಸ್ ರೀಟ್\\u200cನ ಮಾರುಕಟ್ಟೆ ಮೌಲ್ಯಮಾಪನದಿಂದ ಸುಮಾರು 65 ಮೀಟರ್ ಅಳಿಸಿಹಾಕಿದ ನಂತರ ತಮ್ಮ ಕನಿಷ್ಠ ಮಟ್ಟಕ್ಕೆ ಕುಸಿದಿವೆ, ಅಂದರೆ ಫಿಯನ್ನಾ ಫೇಲ್ ಬಾಡಿಗೆ ಫ್ರೀಜ್\\u200cಗೆ ತನ್ನ ವಿರೋಧವನ್ನು ಬಿಡಲು ಸಿದ್ಧವಾಗಿದೆ ಎಂದು ವರದಿ ಮಾಡಿದೆ. ಸಂಭಾವ್ಯ ಸಮ್ಮಿಶ್ರ ಸರ್ಕಾರವನ್ನು ರಚಿಸುವ ಉದ್ದೇಶದಿಂದ ಮಾತುಕತೆ ಕೋಷ್ಟಕವು ಗುರುವಾರ ಐರೆಸ್ ಷೇರು ಬೆಲೆಯಲ್ಲಿ ಸುಮಾರು 9 ಶೇಕಡಾ ಕುಸಿತವನ್ನು ಉಂಟುಮಾಡಿತು, ಇದು ಐರಿಶ್ ಷೇರು ಮಾರುಕಟ್ಟೆಯ ಉಳಿದ ಭಾಗವು ಕೊರೋನವೈರಸ್ ಈ ವರ್ಷ ವ್ಯವಹಾರಗಳನ್ನು ಮುಟ್ಟುತ್ತದೆ ಎಂಬ ಭಯದಿಂದ ತತ್ತರಿಸುವುದಕ್ಕಿಂತ ಎರಡು ಪಟ್ಟು ದೊಡ್ಡ ಕುಸಿತವಾಗಿದೆ. ಸಾರ್ವತ್ರಿಕ ಚುನಾವಣಾ ಪ್ರಚಾರ ಫಿಯನ್ನಾ ಫೇಲ್ ಬಾಡಿಗೆ ಫ್ರೀಜ್\\u200cಗಳು ಕಾನೂನುಬದ್ಧವಾಗಿ ಸಾಧ್ಯವಿಲ್ಲ ಮತ್ತು ಆಸ್ತಿ ಹಕ್ಕುಗಳಿಗೆ ಹಸ್ತಕ್ಷೇಪ ಮಾಡುತ್ತದೆ ಎಂದು ಒತ್ತಾಯಿಸಿದರು, ಆದರೆ ಗ್ರೀನ್ ಪಾರ್ಟಿಯೊಂದಿಗೆ ಸರ್ಕಾರ ರಚನೆಯ ಮಾತುಕತೆಯ ನಂತರ ಪಕ್ಷವು ಈಗ ಬಾಡಿಗೆಗೆ ಅಲ್ಪಾವಧಿಯ ಕ್ಯಾಪ್\\u200cಗಳನ್ನು ಪರಿಚಯಿಸಲು ಪರಿಗಣಿಸುತ್ತಿದೆ ಎಂದು ಐರಿಶ್ ಇಂಡಿಪೆಂಡೆಂಟ್ ಗುರುವಾರ ವರದಿ ಮಾಡಿದೆ. ಅದರ ಬಗ್ಗೆ ಮಾತುಕತೆ ಮತ್ತು ಒಪ್ಪಂದಕ್ಕೆ ಮುಕ್ತವಾಗಿದೆ ಏಕೆಂದರೆ ಜನರು ಬಾಡಿಗೆದಾರರಿಗೆ ಸಹಾಯ ಮಾಡಲು ಕೆಲವು ತಕ್ಷಣವನ್ನು ನೋಡಲು ಅರ್ಹರು ಎಂದು ನಾವು ತಿಳಿದುಕೊಂಡಿದ್ದೇವೆ ಕಾನೂನು ಅಭಿಪ್ರಾಯದೊಂದಿಗೆ ಅವುಗಳನ್ನು ಪ್ಯಾನ್ ಮಾಡುವುದಕ್ಕಿಂತ ಹಿರಿಯ ಫಿಯನ್ನಾ ಫೇಲ್ ಮೂಲವೊಂದು ಆರು ಗಂಟೆಗಳಿಗಿಂತ ಹೆಚ್ಚು ಮಾತುಕತೆಗಳಲ್ಲಿ ಚರ್ಚಿಸಲಾದ ಇತರ ಹಲವು ನೀತಿ ಕ್ಷೇತ್ರಗಳಲ್ಲಿ ಈ ಸಮಸ್ಯೆಯನ್ನು ಗುರುತಿಸಲಾಗಿದೆ ಎಂದು ಗ್ರೀನ್ ಪಾರ್ಟಿ ಮೂಲವೊಂದು ದೃ confirmed ಪಡಿಸಿದೆ. ಎರಡು ವರ್ಷಗಳ ಬಾಡಿಗೆ ಫ್ರೀಜ್ ಇದೆಯೇ ಎಂದು ಪರೀಕ್ಷಿಸಲು ಫಿಯನ್ನಾ ಫೇಲ್ ಸಿದ್ಧವಾಗಿದೆ 2015 ರಲ್ಲಿ ಅಂದಿನ ವಸತಿ ಸಚಿವ ಅಲನ್ ಕೆಲ್ಲಿ ಅವರು ಮತ್ತೆ ಜಾರಿಗೆ ತರಬಹುದು ಐರೆಸ್ ರೀಟ್ ರಾಜ್ಯದ ಅತಿದೊಡ್ಡ ಖಾಸಗಿ ಭೂಮಾಲೀಕರು ಕಳೆದ ವಾರ ಅದು ನಿವ್ವಳ ಬಾಡಿಗೆ ಆದಾಯವನ್ನು 50 5 ಮಿ ಎಂದು ಕಳೆದ ವರ್ಷ ವರದಿ ಮಾಡಿದೆ. ಕುಸಿತದ ಖರೀದಿಯ ನಂತರ ಇಲ್ಲಿ ಸ್ಥಾಪಿಸಲಾದ 2018 ಐರೆಸ್ನಲ್ಲಿ 23 ಶೇಕಡಾ ಹೆಚ್ಚಳ ಡಬ್ಲಿನ್ ಮತ್ತು ಸುತ್ತಮುತ್ತಲಿನ ಸಂಪೂರ್ಣ ಅಪಾರ್ಟ್ಮೆಂಟ್ ಬ್ಲಾಕ್ಗಳನ್ನು ಸ್ನ್ಯಾಪ್ ಮಾಡುವ ಮೂಲಕ ಸುಮಾರು 3000 ಮನೆಗಳನ್ನು ಹೊಂದಿದೆ. ಇದರ ಬ್ಲಾಕ್ಗಳು \\u200b\\u200bಡಬ್ಲಿನ್ ಹಡಗುಕಟ್ಟೆಗಳ ಗ್ರ್ಯಾಂಡ್ ಕೆನಾಲ್ ಸ್ಕ್ವೇರ್ನಲ್ಲಿರುವ ಸೂಪರ್ ಹೈ ಎಂಡ್ ಮಾರ್ಕರ್ ಅಪಾರ್ಟ್ಮೆಂಟ್ ಮತ್ತು ಡಬ್ಲಿನ್ 4 ರ ಸೇಂಟ್ ವಿನ್ಸೆಂಟ್ಸ್ ಆಸ್ಪತ್ರೆ ಮತ್ತು ಆರ್ಟಿಗೆ ಹತ್ತಿರವಿರುವ ಎಲ್ಂಪಾರ್ಕ್ ಅಭಿವೃದ್ಧಿಯಿಂದ ಆಧುನಿಕ ಬೆಳವಣಿಗೆಗಳವರೆಗೆ ಟಾಲಾಟ್ ಫಿಂಗ್ಲಾಸ್ ಮತ್ತು ಇಂಚಿಕೋರ್ನಲ್ಲಿ ಕಳೆದ ವರ್ಷ ಐರೆಸ್ ತನ್ನ ಎಲ್ಲಾ ಆಸ್ತಿಗಳಲ್ಲಿ ತಿಂಗಳಿಗೆ ಸರಾಸರಿ 1596 ಬಾಡಿಗೆಗೆ 2018 ರ ಅಕಾರ್ಡಿ ಯಲ್ಲಿ ಸರಾಸರಿ ಬಾಡಿಗೆಗೆ ಸ್ವಲ್ಪ ಕಡಿಮೆಯಾಗಿದೆ ಗುಂಪಿನಿಂದ ವಾರ್ಷಿಕ ಫಲಿತಾಂಶಗಳಿಗೆ ng ಆದರೆ ಆಸ್ತಿಗಳ ಮಾಲೀಕತ್ವದ ಬಾಡಿಗೆಗಳು 1600 ರಿಂದ ತಿಂಗಳಿಗೆ 3pc ಗಿಂತ 1650 ಕ್ಕೆ ಏರಿದೆ\",0\\nಅರ್ಥಶಾಸ್ತ್ರಜ್ಞರ ರಾಯಿಟರ್ಸ್ ಸಮೀಕ್ಷೆಯ ಸರಾಸರಿ ಮುನ್ಸೂಚನೆಯು ಡಿಸೆಂಬರ್ ತ್ರೈಮಾಸಿಕದಲ್ಲಿ ವಾರ್ಷಿಕ ಆರ್ಥಿಕ ಬೆಳವಣಿಗೆಯನ್ನು ಹಿಂದಿನ ತ್ರೈಮಾಸಿಕದಲ್ಲಿ 4 5 ಕ್ಕಿಂತ ಸ್ವಲ್ಪ ಹೆಚ್ಚಿಸಿದೆ. ಗ್ರಾಮೀಣ ಬೇಡಿಕೆಯ ಖಾಸಗಿ ಬಳಕೆ ಮತ್ತು ಸರ್ಕಾರಿ ಖರ್ಚಿನಲ್ಲಿನ ಸಣ್ಣ ಏರಿಕೆಗೆ ಧನ್ಯವಾದಗಳು ಆರ್ಥಿಕತೆಯು ಚೇತರಿಕೆಯ ಕೆಲವು ಲಕ್ಷಣಗಳನ್ನು ತೋರಿಸಿದೆ ಹೆಚ್ಚಿನ ಸರ್ಕಾರಿ ಖರ್ಚು ಮತ್ತು ಬಾಹ್ಯ ಅಂಶಗಳಿಂದಾಗಿ ಡಿಸೆಂಬರ್ ತ್ರೈಮಾಸಿಕವು ಪ್ರಸಕ್ತ ತ್ರೈಮಾಸಿಕದಲ್ಲಿ ಮರುಕಳಿಸುವ ಅಪಾಯವನ್ನು ಎದುರಿಸುತ್ತಿದೆ. ಮುಖ್ಯವಾಗಿ ಕರೋನವೈರಸ್ ಕಾರಣ. ಎನ್.ಆರ್.ಭನುಮೂರ್ತಿ ಅವರು ನ್ಯಾಷನಲ್ ಇನ್ಸ್ಟಿಟ್ಯೂಟ್ ಆಫ್ ಪಬ್ಲಿಕ್ ಫೈನಾನ್ಸ್ ಮತ್ತು ಪಾಲಿಸಿ ಎನ್ಐಪಿಎಫ್ಪಿಯ ಅರ್ಥಶಾಸ್ತ್ರಜ್ಞ ದೆಹಲಿ ಮೂಲದ ಸರ್ಕಾರಿ ಅನುದಾನಿತ ಥಿಂಕ್ ಟ್ಯಾಂಕ್ ತನ್ನ ವಾರ್ಷಿಕ ಬಜೆಟ್ನಲ್ಲಿ ಈ ತಿಂಗಳ ಆರಂಭದಲ್ಲಿ ಸರ್ಕಾರವು ಮಾರ್ಚ್\\u200cನಲ್ಲಿ ಕೊನೆಗೊಳ್ಳುವ ಪ್ರಸಕ್ತ ಹಣಕಾಸು ವರ್ಷದಲ್ಲಿ ಆರ್ಥಿಕ ಬೆಳವಣಿಗೆಯನ್ನು 11 ವರ್ಷಗಳಷ್ಟು ಕಡಿಮೆ ಎಂದು ಅಂದಾಜಿಸಿದೆ. ಕಳೆದ ಸೆಪ್ಟೆಂಬರ್\\u200cನಲ್ಲಿ ಕಾರ್ಪೊರೇಟ್ ತೆರಿಗೆ ದರಗಳಲ್ಲಿನ ಕಡಿತ ಮತ್ತು ಸರ್ಕಾರದ ಖರ್ಚುಗಳನ್ನು ಹೆಚ್ಚಿಸುವ ಅನುಕೂಲಕರ ಮೂಲ ಪರಿಣಾಮದಿಂದ ಬೆಳವಣಿಗೆಯು ಕ್ರಮೇಣ ಹೆಚ್ಚಾಗುತ್ತದೆ ಎಂದು ವಿಶ್ಲೇಷಕರು ನಿರೀಕ್ಷಿಸಿದ್ದಾರೆ. ಹಿಂದಿನ ಅಂದಾಜುಗಿಂತ ಗೋಲ್ಡ್ಮನ್ ಸ್ಯಾಚ್ಸ್ ಮಾರ್ಚ್ ತ್ರೈಮಾಸಿಕದಲ್ಲಿ ತನ್ನ ಬೆಳವಣಿಗೆಯ ಮುನ್ಸೂಚನೆಯನ್ನು 4 9 ಕ್ಕೆ ಇಳಿಸಿತು ಆಫ್ 5 4,0\\n\"ಭಯಂಕರವಾದ ಕೊರೊನಾವೈರಸ್ ರೋಗವು ದೇಶಕ್ಕೆ ಬರದಂತೆ ನೋಡಿಕೊಳ್ಳಲು ಫೆಡರಲ್ ಸರ್ಕಾರವು ಸಾಕಷ್ಟು ಕೆಲಸ ಮಾಡುತ್ತಿಲ್ಲ ಎಂದು ಸೆನೆಟ್ ಗುರುವಾರ ಟೀಕಿಸಿತು. ಮೇಲ್ಕಂಡ ಶಾಸಕಾಂಗ ಕೊಠಡಿಯ ಸ್ಥಾನವು ಪಾಯಿಂಟ್ ಆಫ್ ಆರ್ಡರ್ ಅನ್ನು ಉಪನಾಯಕ ರಾಬರ್ಟ್ ಅಜಯ್ ಬೊರೊಫೈಸ್ ಅವರ ಗಮನ ಸೆಳೆಯಿತು. ದಕ್ಷಿಣ ಆಫ್ರಿಕಾದಿಂದ ಹಿಂದಿರುಗಿದ ನಂತರ ನೈಜೀರಿಯನ್ ವಿಮಾನ ನಿಲ್ದಾಣದಲ್ಲಿ ಅವರು ಗಮನ ಸೆಳೆದರು, ವಿಶೇಷವಾಗಿ ದೇಶಕ್ಕೆ ಬರುವ ಪ್ರವಾಸಿಗರನ್ನು ಪರೀಕ್ಷಿಸುವ ಕ್ಷೇತ್ರದಲ್ಲಿ ಹೆಚ್ಚಿನದನ್ನು ಮಾಡಲು ಸಂಬಂಧಿತ ಅಧಿಕಾರಿಗಳಿಗೆ ಕರೆ ನೀಡಿದ್ದಾರೆ. ಸೆನೆಟ್ ಅಧ್ಯಕ್ಷ ಅಹ್ಮದ್ ಲಾವನ್ ಮಾತನಾಡಿ, ಉತ್ತಮ ವೈದ್ಯಕೀಯ ಸೌಲಭ್ಯಗಳನ್ನು ಹೊಂದಿರುವ ಇತರ ದೇಶಗಳು ಮಾಡುತ್ತಿವೆ ರೋಗವನ್ನು ತಡೆಗಟ್ಟುವ ಎಲ್ಲವೂ ನೈಜೀರಿಯಾ ಅವರ ಮಾತಿನಲ್ಲಿ ಏನೂ ಮಾಡದೆ ನಿರತವಾಗಿದೆ ಕೊರೊನಾವೈರಸ್ನ ಬೆದರಿಕೆಗೆ ಪ್ರತಿಕ್ರಿಯಿಸಿ ಎಫ್ಜಿ ಸರ್ಕಾರವು ಈ ರೋಗವನ್ನು ನೈಜೀರಿಯಾ ತಲುಪುವುದನ್ನು ತಡೆಯಲು ಒಟ್ಟು N600 ಮೀಟರ್ ಅನ್ನು ಬಿಡುಗಡೆ ಮಾಡಿದೆ. ಇದು ಚೀನಾದ ಆಗ್ನೇಯದಲ್ಲಿ ಭುಗಿಲೆದ್ದ ಕೊರೋನವೈರಸ್ 2801 ಕ್ಕೂ ಹೆಚ್ಚು ಜನರನ್ನು ಬಲಿ ತೆಗೆದುಕೊಂಡಿದೆ ಯುರೋಪ್ ಮತ್ತು ಯುನೈಟೆಡ್ ಸ್ಟೇಟ್ಸ್ ಆಫ್ ಅಮೇರಿಕಾದಲ್ಲಿ ವರದಿಯಾಗಿದೆ\",0\\n\"ಮುಂಬೈ ಕಚ್ಚಾ ತೈಲ ಬೆಲೆಗಳನ್ನು ಸರಾಗಗೊಳಿಸುವ ಮತ್ತು ಗ್ರೀನ್\\u200cಬ್ಯಾಕ್ ಸಾಗರೋತ್ತರ ದುರ್ಬಲಗೊಂಡಿರುವ ಮಧ್ಯೆ ಗುರುವಾರ ಭಾರತೀಯ ಡಾಲರ್ ಎದುರು ಭಾರತೀಯ ರೂಪಾಯಿ ಮೌಲ್ಯ 6 ಪೈಸೆ ಏರಿಕೆ 71 59 ಕ್ಕೆ ತಲುಪಿದೆ. ವಿದೇಶಿ ವಿದೇಶೀ ವಿನಿಮಯ ವ್ಯಾಪಾರಿಗಳು, ವಿದೇಶಿ ನಿಧಿಯ ಹೊರಹರಿವು ಮತ್ತು ದೃ ust ವಾದ ಲಾಭಗಳನ್ನು ನಿರ್ಬಂಧಿಸಿರುವುದರಿಂದ ರೂಪಾಯಿ ಕಿರಿದಾದ ವ್ಯಾಪ್ತಿಯಲ್ಲಿ ಕ್ರೋ id ೀಕರಿಸಲ್ಪಟ್ಟಿದೆ ಎಂದು ಹೇಳಿದರು. ದೇಶೀಯ ಷೇರುಗಳಲ್ಲಿ ಮಾರಾಟ ಇಂಟರ್ಬ್ಯಾಂಕ್ ವಿದೇಶಿ ವಿನಿಮಯ ಮಾರುಕಟ್ಟೆಯಲ್ಲಿ ಸ್ಥಳೀಯ ಕರೆನ್ಸಿ 71 ಡಾಲರ್ಗೆ ಯುಎಸ್ ಡಾಲರ್ ರೂಪಾಯಿಗೆ ಕಿರಿದಾದ ವ್ಯಾಪ್ತಿಯಲ್ಲಿ ಕ್ರೋ id ೀಕರಿಸಲ್ಪಟ್ಟಿತು ಆದರೆ ಯುಎಸ್ ಡಾಲರ್ ವಿರುದ್ಧ ಸ್ವಲ್ಪ negative ಣಾತ್ಮಕ ಪಕ್ಷಪಾತದೊಂದಿಗೆ ವಹಿವಾಟು ನಡೆಸಿತು. ಗೌರಂಗ್ ಸೋಮಯ್ಯ ವಿದೇಶೀ ವಿನಿಮಯ ಬುಲಿಯನ್ ವಿಶ್ಲೇಷಕ ಮೋತಿಲಾಲ್ ಓಸ್ವಾಲ್ ಫೈನಾನ್ಷಿಯಲ್ ಸರ್ವೀಸಸ್ ಸೋಮಯ್ಯ ಅವರು ದೇಶೀಯ ಮುಂಭಾಗದ ಬೆಳವಣಿಗೆಯ ಸಂಖ್ಯೆಯನ್ನು ನಾಳೆ ಬಿಡುಗಡೆ ಮಾಡಲಾಗುವುದು ಮತ್ತು ನಿರೀಕ್ಷಿತ ಸಂಖ್ಯೆಗಿಂತ ದುರ್ಬಲವಾಗಿ ರೂಪಾಯಿ ಮೌಲ್ಯವನ್ನು ಒತ್ತಡದಲ್ಲಿರಿಸಿಕೊಳ್ಳಬಹುದು ಎಂದು ಯುಎಸ್ ತಿಳಿಸಿದೆ.\",0\\nಕರೋನವೈರಸ್ ಏಕಾಏಕಿ ಉಂಟಾದ ಪರಿಣಾಮವು ಹೂಡಿಕೆದಾರರನ್ನು ಬೆಚ್ಚಿ ಬೀಳಿಸುತ್ತಿರುವುದರಿಂದ ವಾಲ್ ಸ್ಟ್ರೀಟ್\\u200cನಲ್ಲಿನ ಫ್ಯೂಚರ್ಸ್ ಗುರುವಾರ ಸತತ ಆರನೇ ದಿನದ ನಷ್ಟವನ್ನು ಸೂಚಿಸಿದೆ. ಜಪಾನ್\\u200cನಲ್ಲಿನ ಏಷ್ಯಾದ ಷೇರುಗಳು ಶೇಕಡಾ 2 ಕ್ಕಿಂತಲೂ ಹೆಚ್ಚು ಕುಸಿದವು. ಶೇಕಡಾ 2 ಕ್ಕಿಂತಲೂ ಹೆಚ್ಚು ಚಿನ್ನದ ಗುಲಾಬಿ ಸಿಗ್ನಲಿಂಗ್ ಜಾಗತಿಕ ಹೂಡಿಕೆದಾರರಲ್ಲಿ ಆತಂಕವನ್ನು ಮುಂದುವರೆಸಿದೆ ನೆಸ್ಲ್ ದೈತ್ಯ ಸ್ವಿಸ್ ಮೂಲದ ಆಹಾರ ಕಂಪನಿ ತನ್ನ 290000 ಕಾರ್ಮಿಕರಿಗಾಗಿ ಮಾರ್ಚ್ ಮಧ್ಯದವರೆಗೆ ಎಲ್ಲಾ ಅಂತರರಾಷ್ಟ್ರೀಯ ವ್ಯಾಪಾರ ಪ್ರವಾಸಗಳನ್ನು ಸ್ಥಗಿತಗೊಳಿಸುವುದಾಗಿ ಹೇಳಿದೆ,0\\nಫೈಲ್ ಫೋಟೋ ಅಂತರರಾಷ್ಟ್ರೀಯ ಬ್ಯಾಚ್ ಅಂತರರಾಷ್ಟ್ರೀಯ ಒಲಿಂಪಿಕ್ ಸಮಿತಿಯ ಅಧ್ಯಕ್ಷ ಐಒಸಿ ಜನವರಿ 10 2020 ರ ಲೌಸನ್ನೆ ಸ್ವಿಟ್ಜರ್\\u200cಲ್ಯಾಂಡ್\\u200cನಲ್ಲಿ ನಡೆದ 135 ನೇ ಅಧಿವೇಶನದ ನಂತರ ಸುದ್ದಿಗೋಷ್ಠಿಯಲ್ಲಿ ಪಾಲ್ಗೊಂಡಿದ್ದಾರೆ. ರೆನಟರ್ಸ್ ಡೆನಿಸ್ ಬಾಲಿಬೌಸ್\\u200cಟೊಕಿಯೊ ರಾಯಿಟರ್ಸ್ ಅಂತರರಾಷ್ಟ್ರೀಯ ಒಲಿಂಪಿಕ್ ಸಮಿತಿಯು ಟೋಕಿಯೊ ಒಲಿಂಪಿಕ್ಸ್ ಅನ್ನು ನಿಗದಿತ ಸಮಯಕ್ಕೆ ನಡೆಸಲು ಸಂಪೂರ್ಣ ಬದ್ಧವಾಗಿದೆ. ಜುಲೈ 24 ರಿಂದ ಟೋಕಿಯೊದಲ್ಲಿ ನಡೆಯುವ ಯಶಸ್ವಿ ಒಲಿಂಪಿಕ್ ಕ್ರೀಡಾಕೂಟಕ್ಕೆ ಐಒಸಿ ಸಂಪೂರ್ಣ ಬದ್ಧವಾಗಿದೆ ಎಂದು ಬ್ಯಾಚ್ ಜಪಾನಿನ ಮಾಧ್ಯಮಗಳಿಗೆ ತಿಳಿಸಿದೆ ಎಂದು ಗುರುವಾರ ಕ್ಯೋಡೋ ಸುದ್ದಿ ಸಂಸ್ಥೆ ಬ್ಯಾಚ್ ಜಪಾನಿನ ಮಾಧ್ಯಮಕ್ಕೆ ತಿಳಿಸಿದೆ.,0\\n\"ಲೆಜೆಂಡರಿ ರಾಪ್ ಗ್ರೂಪ್ ಪಬ್ಲಿಕ್ ಎನಿಮಿ ಹಾಸ್ಯನಟ ಸಾರಾ ಸಿಲ್ವರ್\\u200cಮನ್ ಮತ್ತು ನಟ ಡಿಕ್ ವ್ಯಾನ್ ಡೈಕ್ ಅವರೊಂದಿಗೆ ಲಾಸ್ ಏಂಜಲೀಸ್\\u200cನ ರ್ಯಾಲಿಯಲ್ಲಿ ಸೇನ್ ಬರ್ನಿ ಸ್ಯಾಂಡರ್ಸ್ ಬರ್ನಿ ಸ್ಯಾಂಡರ್ಸ್ ಡಿಎನ್\\u200cಸಿ ಹಗರಣದ ಪ್ರಯತ್ನದ ನಂತರ ಸೈಬರ್\\u200c ಸುರಕ್ಷತೆಯ ಬಗ್ಗೆ ಅಭಿಯಾನಗಳನ್ನು ಎಚ್ಚರಿಸಿದೆ. ರಾತ್ರಿಯ ಆರೋಗ್ಯ ರಕ್ಷಣೆ ಪೆಲೋಸಿ ಪ್ಯಾನಿಕ್ ರಚಿಸಲು ಪ್ರಯತ್ನಿಸುತ್ತಾನೆ ಎಂದು ಆರೋಪಿಸಿ ಸಿಡಿಸಿ ಅಪರಿಚಿತ ಮೂಲದ ಪ್ರಕರಣವನ್ನು ದೃ ms ಪಡಿಸುತ್ತದೆ ಷುಮರ್ 5 ಬಿಲಿಯನ್ ತುರ್ತು ನಿಧಿಯನ್ನು ಬಯಸುತ್ತಾನೆ ಬಿಡೆನ್ ಎಸ್\\u200cಸಿಯಲ್ಲಿ ಮುನ್ನಡೆ ಸಾಧಿಸಲು ತೋರುತ್ತಾನೆ ರಾಜಕೀಯವಾಗಿ ಚಾರ್ಜ್ ಮಾಡಿದ ಸಾಹಿತ್ಯಕ್ಕೆ ಹೆಸರುವಾಸಿಯಾದ ರಾಪ್ ಗುಂಪು ಕ್ಯಾಲಿಫೋರ್ನಿಯಾದ ಮತದಾರರಿಗೆ ಎರಡು ದಿನಗಳ ಮೊದಲು ಪ್ರದರ್ಶನ ನೀಡಲಿದೆ ಅವರ ಪ್ರಾಥಮಿಕ ಮತಪತ್ರಗಳು ಸ್ಯಾಂಡರ್ಸ್ ಅಭಿಯಾನವು ಸಾರ್ವಜನಿಕ ಎನಿಮಿಯ 1989 ರ ಏಕಗೀತೆ ಫೈಟ್ ದಿ ಪವರ್ ಅನ್ನು ಆಹ್ವಾನಿಸುವ ಪೋಸ್ಟರ್\\u200cನೊಂದಿಗೆ ಈವೆಂಟ್ ಅನ್ನು ಘೋಷಿಸಿತು, ಅದೇ ವರ್ಷ ಸ್ಪೈಕ್ ಲೀ ಚಲನಚಿತ್ರ ಡು ದಿ ರೈಟ್ ಥಿಂಗ್\\u200cನ ವಿಷಯವಾಗಿ ಬಳಸಲ್ಪಟ್ಟಿತು ಸಾರ್ವಜನಿಕ ಎನಿಮಿ ಒಂದು ಪ್ರದರ್ಶನ ನೀಡುವ ಇತ್ತೀಚಿನ ಸಂಗೀತ ಕಾರ್ಯ ವರ್ಮೊಂಟ್ ಸೆನೆಟರ್ ಮತ್ತು ಡೆಮಾಕ್ರಟಿಕ್ ಮುಂಚೂಣಿಯಲ್ಲಿರುವ ವ್ಯಾನ್ ಡೈಕ್ ಅವರ ರ್ಯಾಲಿ ಈ ತಿಂಗಳ ಆರಂಭದಲ್ಲಿ ಸ್ಯಾಂಡರ್ಸ್\\u200cಗೆ ಅನುಮೋದನೆ ನೀಡಿತು ಅಭ್ಯರ್ಥಿಗೆ ಜಾಹೀರಾತು ಮತ್ತು ಹಳೆಯ ಮತದಾರರನ್ನು ಬೆಂಬಲಿಸುವಂತೆ ಒತ್ತಾಯಿಸುವುದು\",0\\nಗೆಟ್ಟಿ ಇಮೇಜಸ್ ಮೂಲಕ ಫೋಟೊ ಎಎಫ್\\u200cಪಿ ಸಿಂಗಾಪುರ ಆರೋಗ್ಯ ಸಚಿವಾಲಯವು ಫೆಬ್ರವರಿ 27 ರ ಗುರುವಾರ ಸಿಂಗಪುರದಲ್ಲಿ ಕೋವಿಡ್ 19 ಕರೋನವೈರಸ್\\u200cನ ಮೂರು ಹೊಸ ಪ್ರಕರಣಗಳನ್ನು ದೃ confirmed ಪಡಿಸಿದೆ. ಒಟ್ಟು 96 ಎಂಒಎಚ್\\u200cಗೆ ತಂದು ಸಿಂಗಪುರದವರಿಗೆ ಹುಬೈ ಪ್ರಾಂತ್ಯದ ಎಲ್ಲಾ ಪ್ರಯಾಣವನ್ನು ವುಹಾನ್\\u200cನಲ್ಲಿ ಮುಂದೂಡಲು ಸಿಂಗಪುರದವರಿಗೆ ತನ್ನ ಸಲಹೆಯನ್ನು ಪುನರುಚ್ಚರಿಸಿತು. ಚೀನಾ ಮುಖ್ಯ ಭೂಭಾಗಕ್ಕೆ ಎಲ್ಲಾ ಅನಿವಾರ್ಯವಲ್ಲದ ಪ್ರಯಾಣಗಳು ಕಳೆದ ಭಾನುವಾರ ದಕ್ಷಿಣ ಕೊರಿಯಾದ ಡೇಗು ನಗರ ಮತ್ತು ಚಿಯೊಂಗ್ಡೊ ಕೌಂಟಿಗೆ ಅನಿವಾರ್ಯವಲ್ಲದ ಪ್ರಯಾಣವನ್ನು ತಪ್ಪಿಸಲು ಸಾರ್ವಜನಿಕರಿಗೆ ಸಲಹೆ ನೀಡಿತು. ದೇಶದಲ್ಲಿ COVID 19 ಕರೋನವೈರಸ್ ಪ್ರಕರಣಗಳ ಸಂಖ್ಯೆಯಲ್ಲಿ ಹೆಚ್ಚಳವಾದ ನಂತರ ಜಾಗತಿಕ ತುರ್ತು ಪರಿಸ್ಥಿತಿ ಘೋಷಿಸಿತು ವಿಶ್ವ ಆರೋಗ್ಯ ಸಂಸ್ಥೆ WHO COVID 19 ಚೀನಾ ಮುಖ್ಯ ಭೂಭಾಗವನ್ನು ಮೀರಿ 50 ಪ್ರದೇಶಗಳಿಗೆ ಹರಡಿತು. 1766 ರಲ್ಲಿ 13 ಸಾವುಗಳು ಸೇರಿದಂತೆ ಸೋಂಕುಗಳು ದೃ confirmed ಪಟ್ಟಿದೆ ದಕ್ಷಿಣ ಚೀನಾ ಮುಖ್ಯ ಭೂಭಾಗದ ನಂತರ ದೃ confirmed ಪಡಿಸಿದ COVID 19 ಪ್ರಕರಣಗಳಲ್ಲಿ ಎರಡನೇ ಸ್ಥಾನದಲ್ಲಿದೆ.,0\\n\"ತನ್ನ 60 ರ ಹರೆಯದಲ್ಲಿರುವ ವ್ಯಕ್ತಿ ಸ್ವಯಂ ಪ್ರತ್ಯೇಕತೆಯಲ್ಲಿದ್ದಾನೆ ಎಂದು ಒಂಟಾರಿಯೊ ಆರೋಗ್ಯ ಅಧಿಕಾರಿಗಳು ಗುರುವಾರ ಬೆಳಿಗ್ಗೆ ಬಿಡುಗಡೆ ಮಾಡಿದ ಸುದ್ದಿ ಪ್ರಕಟಣೆಯಲ್ಲಿ ತಿಳಿಸಿದ್ದಾರೆ. ನಾವು ಈಗ ಟೊರೊಂಟೊ ಸಾರ್ವಜನಿಕ ಆರೋಗ್ಯದೊಂದಿಗೆ ಕೆಲಸ ಮಾಡುತ್ತಿದ್ದೇವೆ ಮತ್ತು ಅವರ ಸ್ವಯಂ ಪ್ರತ್ಯೇಕತೆಯ ಅವಧಿಯಲ್ಲಿ ಈ ವ್ಯಕ್ತಿಯೊಂದಿಗೆ ನಿಯಮಿತವಾಗಿ ಸಂಪರ್ಕದಲ್ಲಿರುತ್ತೇವೆ. ಆರೋಗ್ಯದ ವೈದ್ಯಕೀಯ ಅಧಿಕಾರಿ ಡಾ. ಡೇವಿಡ್ ವಿಲಿಯಮ್ಸ್ ಅವರು ಬುಧವಾರ ಅಧಿಕಾರಿಗಳು ಇರಾನ್\\u200cಗೆ ಪ್ರಯಾಣದ ಇತಿಹಾಸ ಮತ್ತು ಸನ್ನಿವಿ ಬ್ರೂಕ್ ಆರೋಗ್ಯ ವಿಜ್ಞಾನ ಕೇಂದ್ರದ ತುರ್ತು ವಿಭಾಗಕ್ಕೆ ಹಾಜರಾಗಿದ್ದಾರೆ ಎಂದು ಅಧಿಕಾರಿಗಳು ಘೋಷಿಸಿದ್ದಾರೆ ಮತ್ತು ಫೆಬ್ರವರಿ 24 ರಂದು COVID 19 ಗೆ ಅನುಗುಣವಾದ ಲಕ್ಷಣಗಳು. ಬುಧವಾರ ಅಧಿಕಾರಿಗಳು ಇಬ್ಬರು ಸದಸ್ಯರನ್ನು ಸೇರಿಸಿದ್ದಾರೆ ಮಹಿಳೆಯರ ಕುಟುಂಬವು ಮನೆಯಲ್ಲಿ ಗುರುವಾರ ತನ್ನ ಅಧಿಕಾರಿಗಳೊಂದಿಗೆ ಸ್ವಯಂ ಪ್ರತ್ಯೇಕತೆಯಲ್ಲಿದ್ದರು, ಅವರು ಸಂಪರ್ಕ ಪತ್ತೆಹಚ್ಚುವಿಕೆ ಮತ್ತು ಪ್ರಕರಣ ನಿರ್ವಹಣೆಯಲ್ಲಿ ಸಕ್ರಿಯವಾಗಿ ತೊಡಗಿಸಿಕೊಂಡಿದ್ದಾರೆ ಎಂದು ಹೇಳಿದರು.\",0\\n\"COVID 19 ಕಾಯಿಲೆಗೆ ತುತ್ತಾದ ವಯಸ್ಕರಲ್ಲಿ ರಿಮೆಡೆಸಿವಿರ್ನ ಸುರಕ್ಷತೆ ಮತ್ತು ಪರಿಣಾಮಕಾರಿತ್ವವನ್ನು ಗಿಲ್ಯಾಡ್ನ ಕ್ಲಿನಿಕಲ್ ಅಧ್ಯಯನಗಳು ನೋಡುತ್ತವೆ, ಇದು ವೈರಸ್ ಗಿಲಿಯಡ್ನ ಪ್ರಾಥಮಿಕ ಗಮನವನ್ನು COVID 19 ಮತ್ತು ಈ ಪೂರಕ ಶ್ರೇಣಿಗೆ ಸಂಭಾವ್ಯ ಚಿಕಿತ್ಸೆಯಾಗಿ ರೆಮೆಡೆಸಿವಿರ್ನ ಸುರಕ್ಷತೆ ಮತ್ತು ಪರಿಣಾಮಕಾರಿತ್ವವನ್ನು ವೇಗವಾಗಿ ನಿರ್ಧರಿಸುತ್ತದೆ. ಕಡಿಮೆ ಸಮಯದ ಅವಧಿಯಲ್ಲಿ drug ಷಧದ ಪ್ರೊಫೈಲ್\\u200cನಲ್ಲಿ ಜಾಗತಿಕವಾಗಿ ಹೆಚ್ಚು ವಿಸ್ತಾರವಾದ ದತ್ತಾಂಶವನ್ನು ನಮಗೆ ನೀಡಲು ಅಧ್ಯಯನಗಳು ಸಹಾಯ ಮಾಡುತ್ತವೆ, ನ್ಯೂ ಇಂಗ್ಲೆಂಡ್\\u200cನಲ್ಲಿ ಪ್ರಕಟವಾದ ಒಂದು ಅಧ್ಯಯನದ ಪ್ರಕಾರ, ವೈರಸ್\\u200cನೊಂದಿಗೆ ಮೊದಲ ಅಮೆರಿಕನ್ ರೋಗಿಯ ಚಿಕಿತ್ಸೆಯಲ್ಲಿ ರೆಮ್\\u200cಡೆಸಿವಿರ್ ಅನ್ನು ಬಳಸಲಾಗಿದೆ ಎಂದು ಪಾರ್ಸಿ ಹೇಳಿದರು. ಜರ್ನಲ್ ಆಫ್ ಮೆಡಿಸಿನ್ ಸಂಶೋಧಕರು ಅಧ್ಯಯನದಲ್ಲಿ ಹೇಳಿದ ಪ್ರಕಾರ, 2019 ಎನ್\\u200cಸಿಒವಿ ಸೋಂಕಿನ ರೋಗಿಗಳ ಚಿಕಿತ್ಸೆಗಾಗಿ ರಿಮೆಡೆಸಿವಿರ್ ಮತ್ತು ಇನ್ನಾವುದೇ ತನಿಖಾ ಏಜೆಂಟ್\\u200cಗಳ ಸುರಕ್ಷತೆ ಮತ್ತು ಪರಿಣಾಮಕಾರಿತ್ವವನ್ನು ನಿರ್ಧರಿಸಲು ಯಾದೃಚ್ ized ಿಕ ನಿಯಂತ್ರಿತ ಪ್ರಯೋಗಗಳು ಅಗತ್ಯವಾಗಿವೆ. ನೀವು ಎಸ್ ಅಧ್ಯಯನವನ್ನು ಪ್ರಕಟಿಸಿದೆ ನ್ಯಾಷನಲ್ ಇನ್\\u200cಸ್ಟಿಟ್ಯೂಟ್ ಆಫ್ ನ್ಯಾಷನಲ್ ಇನ್\\u200cಸ್ಟಿಟ್ಯೂಟ್\\u200cನ ನಿರ್ದೇಶಕ ಡಾ. ಅಲರ್ಜಿ ಮತ್ತು ಸಾಂಕ್ರಾಮಿಕ ರೋಗಗಳು ಕೆಲವು COVID 19 ರೋಗಿಗಳಿಗೆ ರಿಮೆಡೆಸಿವಿರ್ ಅನ್ನು ನೀಡಲಾಗಿದೆ ಎಂದು ಹೇಳಿದರು ಆದರೆ ನಾವು ಮಾಡುತ್ತೇವೆ ಇದು ಕ್ಲಿನಿಕಲ್ ಫಲಿತಾಂಶಗಳನ್ನು ಸುಧಾರಿಸುತ್ತದೆ ಎಂದು ಸೂಚಿಸಲು ಘನ ಡೇಟಾವನ್ನು ಹೊಂದಿಲ್ಲ\",0\\n\"ನ್ಯೂಯಾರ್ಕ್ ಕೌಂಟಿಯಲ್ಲಿ ಹೊಸ ಕೊರೊನಾವೈರಸ್ ಭಯದ ಮೇಲೆ ಪ್ರತ್ಯೇಕತೆಯಲ್ಲಿ ಸ್ಕಾಟ್ ಹೆನ್ಸ್ ಗೆಟ್ಟಿ ಇಮೇಜಸ್ 83 ನ್ಯೂಯಾರ್ಕ್ ರಾಜ್ಯದ ನಸ್ಸೌ ಕೌಂಟಿಯಲ್ಲಿ ಎಂಭತ್ತು ಮೂರು ಜನರು ಸ್ವಯಂಪ್ರೇರಿತ ಸಂಪರ್ಕತಡೆಯಲ್ಲಿದ್ದಾರೆ, ಹೊಸ ಕರೋನವೈರಸ್ ಅಧಿಕಾರಿಗಳ ಬಗ್ಗೆ ಕಳವಳದಿಂದಾಗಿ ನಾವು ತಮ್ಮನ್ನು ಪ್ರತ್ಯೇಕಿಸಲು ಕೇಳಿಕೊಳ್ಳುತ್ತಿದ್ದೇವೆ ನಾಸಾವು ಕೌಂಟಿ ಆರೋಗ್ಯ ಆಯುಕ್ತರು ಡಾ. ಲಾರೆನ್ಸ್ ಐಸೆನ್\\u200cಸ್ಟೈನ್ ಬುಧವಾರ ಪತ್ರಿಕಾಗೋಷ್ಠಿಯಲ್ಲಿ ಕೌಂಟಿ ಆರೋಗ್ಯ ಅಧಿಕಾರಿಗಳು ತಮ್ಮ ತಾಪಮಾನವನ್ನು ಪರೀಕ್ಷಿಸಲು ಪ್ರತಿದಿನವೂ ನಿರ್ಬಂಧಿತರಾಗಿರುವವರ ಮೇಲೆ ನಿಗಾ ಇಡುತ್ತಾರೆ ಮತ್ತು ಕ್ಯಾರೆಂಟೈನ್ ಅನ್ನು ಸ್ವಯಂಪ್ರೇರಣೆಯಿಂದ ಪಾಲಿಸುವ ಮಹತ್ವವನ್ನು ಚರ್ಚಿಸಲು ನಸ್ಸೌ ಕೌಂಟಿ ಕಾರ್ಯನಿರ್ವಾಹಕ ಲಾರಾ ಕುರ್ರನ್ ಸುದ್ದಿಗಾರರಿಗೆ ತಿಳಿಸಿದರು. ವೈರಸ್ ಕೌಂಟಿಯಲ್ಲಿ ಹರಡಲು ಪ್ರಾರಂಭಿಸಿದರೆ ರೋಗದ ತಡೆಗಟ್ಟುವಿಕೆಯು ಜ್ವರ ಕಾಲದಲ್ಲಿ ಶಿಫಾರಸು ಮಾಡಿದ ಉತ್ತಮ ನೈರ್ಮಲ್ಯ ಅಭ್ಯಾಸಗಳನ್ನು ಒಳಗೊಂಡಿರುತ್ತದೆ ಎಂದು ಅನಾರೋಗ್ಯ ಅಧಿಕಾರಿಗಳು ತಪ್ಪಿಸಿಕೊಳ್ಳುವುದು ಮತ್ತು ಆಗಾಗ್ಗೆ ಕೈ ತೊಳೆಯುವುದು ಸೇರಿದಂತೆ\",1\\n\"ಆಲಿ ಸಾಂಗ್ ರಾಯಿಟರ್ಸ್ ಯು ಎಸ್ ವಿಮಾನಯಾನ ಸಂಸ್ಥೆಗಳು ಮತ್ತು ಹೋಟೆಲ್\\u200cಗಳು ಗ್ರಾಹಕರಿಗೆ ಇಟಲಿ ಸೇರಿದಂತೆ ಬೆಳೆಯುತ್ತಿರುವ ದೇಶಗಳ ಪಟ್ಟಿಗೆ ಪ್ರಯಾಣವನ್ನು ಮರುಪರಿಶೀಲಿಸುವ ಆಯ್ಕೆಗಳನ್ನು ವಿಸ್ತರಿಸುತ್ತಿವೆ, ಏಕೆಂದರೆ ಚೀನಾದ ಹೊರಗೆ ಕರೋನವೈರಸ್ ಪ್ರಕರಣಗಳು ಹೆಚ್ಚಾದವು ಮತ್ತು ಜಾಗತಿಕ ಸಾಂಕ್ರಾಮಿಕ ಭೀತಿಯನ್ನು ಹುಟ್ಟುಹಾಕಿದೆ. ಯುನೈಟೆಡ್ ಸ್ಟೇಟ್ಸ್ ಫೆಬ್ರವರಿ 25 ರಂದು ಅಮೆರಿಕನ್ನರಿಗೆ ತಯಾರಿ ಪ್ರಾರಂಭಿಸಲು ತಿಳಿಸಿದೆ ಇರಾನ್ ದಕ್ಷಿಣ ಕೊರಿಯಾ ಮತ್ತು ಇಟಲಿಯಲ್ಲಿ ಏಕಾಏಕಿ ಏಕಾಏಕಿ ಹರಡುತ್ತಿದ್ದಂತೆ ದೇಶದೊಳಗೆ ಹರಡುವ ಕೊರೊನಾವೈರಸ್ ಜಾಗತಿಕ ಪ್ರಯಾಣದ ಬೇಡಿಕೆಗೆ ತುತ್ತಾಗುವ ಆತಂಕವನ್ನು ಹೆಚ್ಚಿಸಿದೆ. ದಕ್ಷಿಣ ಕೊರಿಯಾ ಜಪಾನ್ ಮತ್ತು ಇಟಲಿಯ ಪ್ರಯಾಣಿಕರು ತಮ್ಮ ಹೋಟೆಲ್ ಬುಕಿಂಗ್ ಅನ್ನು ರದ್ದುಗೊಳಿಸಲು ಅಥವಾ ಬದಲಾಯಿಸಲು ಉಚಿತವಾಗಿ ನೀತಿಯನ್ನು ವಿಸ್ತರಿಸಲು ಅವಕಾಶ ನೀಡುತ್ತದೆ ಎಂದು ಹಯಾಟ್ ಹೊಟೇಲ್ ಹೇಳಿದೆ ಮುಖ್ಯ ಭೂಭಾಗದಿಂದ ಚೀನಾ ಹಾಂಗ್ ಕಾಂಗ್ ಮಕಾವು ಮತ್ತು ತೈವಾನ್ ಪ್ರಮುಖ ವಿಮಾನಯಾನ ಸಂಸ್ಥೆಗಳು ದಕ್ಷಿಣ ಕೊರಿಯಾಕ್ಕೆ ಹಾರಾಟದ ಬದಲಾವಣೆಯ ಶುಲ್ಕವನ್ನು ತೆಗೆದುಹಾಕುವ ಪ್ರಯಾಣ ಮನ್ನಾವನ್ನು ಬಿಡುಗಡೆ ಮಾಡಿವೆ. ಕಾಂಗ್ ಮಕಾವು ಮತ್ತು ತೈವಾನ್\",0\\n\"ಆದಾಗ್ಯೂ ವಿಶ್ವ ಆರೋಗ್ಯ ಸಂಸ್ಥೆ ಡಬ್ಲ್ಯುಎಚ್\\u200cಒ ಜನರು ಕರೋನವೈರಸ್ ವೈರಸ್\\u200cನಿಂದಾಗಿ ಆಸ್ಟ್ರೇಲಿಯಾದ ಗ್ರ್ಯಾಂಡ್ ಪ್ರಿಕ್ಸ್ ನಿರ್ಧಾರವನ್ನು ತೆಗೆದುಕೊಳ್ಳುವಂತೆ ಎಚ್ಚರಿಸಿದ್ದಾರೆ. ಇನ್ಫ್ಲುಯೆನ್ಸವು ವರ್ಷಕ್ಕೆ ಸಾವಿರಾರು ಸಾವಿಗೆ ಕಾರಣವಾಗಬಹುದು ಎಂದು ಆಕ್ಸ್\\u200cಫರ್ಡ್ ವಿಶ್ವವಿದ್ಯಾಲಯವು 2008 ರಿಂದ 2009 ರಲ್ಲಿ ಯುಕೆಯಲ್ಲಿ ಮಾತ್ರ 13000 ಸಾವುಗಳು ಸಂಭವಿಸಿವೆ ಎಂದು ತಿಳಿಸಿದೆ. ಜ್ವರಕ್ಕೆ ಸಂಬಂಧಿಸಿದಂತೆ ವಿಶ್ವ ಆರೋಗ್ಯ ಸಂಸ್ಥೆ ಡಬ್ಲ್ಯುಎಚ್\\u200cಒ ಅಂದಾಜಿನ ಪ್ರಕಾರ ಜ್ವರದಿಂದಾಗಿ ಜಗತ್ತಿನಾದ್ಯಂತ ವಾರ್ಷಿಕವಾಗಿ ಸರಾಸರಿ 500000 ಜನರು ಸಾಯುತ್ತಾರೆ. ಅಕ್ಟೋಬರ್\\u200cನಿಂದ ಮಾತ್ರ ಯುಎಸ್\\u200cನಲ್ಲಿ 20000 ಜನರು ಫ್ಲೂ ಸಮಸ್ಯೆಯಿಂದ ಸಾವನ್ನಪ್ಪಿದ್ದಾರೆ, ಇದು ಒಬ್ಬ ತಜ್ಞರು ಕರೋನವೈರಸ್ ಅನ್ನು ವಿವರಿಸುತ್ತದೆ ವಾಂಡರ್ಬಿಲ್ಟ್ ಯೂನಿವರ್ಸಿಟಿ ಮೆಡಿಕಲ್ ಸೆಂಟರ್ನ ಲಸಿಕೆ ತಜ್ಞ ವಿಲಿಯಂ ಶಾಫ್ನರ್ ಕೈಸರ್ ಹೆಲ್ತ್ ನ್ಯೂಸ್ಗೆ ಈ ಹೊಸ ಕೊರೊನಾವೈರಸ್ ಮತ್ತು ಇನ್ಫ್ಲುಯೆನ್ಸದ ಸಾಪೇಕ್ಷ ಅಪಾಯದ ಬಗ್ಗೆ ನಾವು ಯೋಚಿಸಿದಾಗ ಯಾವುದೇ ಹೋಲಿಕೆ ಇಲ್ಲ\",1\\n\"ಈ ವಾರ ಲ್ಯಾಟಿನ್ ಅಮೆರಿಕದ ವೈರಸ್ ಪ್ರಕರಣವನ್ನು ಬ್ರೆಜಿಲ್ ದೃ confir ಪಡಿಸುವುದರೊಂದಿಗೆ, ಮಾರಣಾಂತಿಕ ರೋಗವು ಈಗ ಚೀನಾದ ವುಹಾನ್ ನಿಂದ ಹರಡಿದ ನಂತರ ಭೂಮಿಯ ಮೂಲೆ ಮೂಲೆಗೆ ತಲುಪಿದೆ. ವೈರಸ್\\u200cಗೆ ಹೇಗೆ ಸಿದ್ಧಪಡಿಸುವುದು ಇನ್ನಷ್ಟು ಇತ್ತೀಚಿನ ಕರೋನವೈರಸ್ ನವೀಕರಣಗಳನ್ನು ಅನುಸರಿಸಿ ಈ ವಾರ ಹೊಸ ಪ್ರಕರಣಗಳ ಸಂಖ್ಯೆ ಚೀನಾದ ಹೊರಗಿನ ವೈರಸ್ ಮೊದಲ ಬಾರಿಗೆ ದೇಶದೊಳಗಿನವರನ್ನು ಮೀರಿದೆ. ವೈರಸ್ ಹೊರಬರುವುದನ್ನು ತಡೆಯುವ ಉದ್ದೇಶದಿಂದ ವಿಶ್ವದ ಇತರ ದೇಶಗಳು ಚೀನಾದಿಂದ ವಿಮಾನ ಹಾರಾಟವನ್ನು ನಿಷೇಧಿಸಿದ ನಂತರ ಬಂದಿದೆ. ಹೊಸ ವೈರಸ್ 82000 ಕ್ಕೂ ಹೆಚ್ಚು ಜನರಿಗೆ ಸೋಂಕು ತಗುಲಿತು ಮತ್ತು ಪ್ರಪಂಚದಾದ್ಯಂತ 2800 ಜನರನ್ನು ಕೊಂದಿದೆ ಡಿಸೆಂಬರ್ ಅಂತ್ಯದಲ್ಲಿ ಚೀನಾದ ಹುಬೈ ಪ್ರಾಂತ್ಯದಲ್ಲಿ ಉತ್ತರ ಇಟಲಿ ದಕ್ಷಿಣ ಕೊರಿಯಾ ಜಪಾನ್ ಮತ್ತು ಇರಾನ್\\u200cಗೆ ವಿಶೇಷವಾಗಿ ತೀವ್ರ ಪೆಟ್ಟು ಬಿದ್ದಿದೆ ಎಂದು ಸೇಂಟ್ ಥಾಮಸ್ ಹೇಳಿದ್ದಾರೆ. ಎಲ್ಲಾ ಶಾಲೆಗಳಂತೆ ನಾವು ಕೋವಿಡ್ 19 ರ ಹರಡುವಿಕೆಗೆ ಸಂಬಂಧಿಸಿದ ಅಪಾಯಗಳನ್ನು ಬಹಳ ಗಂಭೀರವಾಗಿ ಪರಿಗಣಿಸುತ್ತಿದ್ದೇವೆ ಮತ್ತು ಈ ನಿಟ್ಟಿನಲ್ಲಿ ನಾವು ಸರ್ಕಾರವನ್ನು ಅನುಸರಿಸುತ್ತಿದ್ದೇವೆ ಸೋಂಕು ತಡೆಗಟ್ಟುವಿಕೆ ಮತ್ತು ಪ್ರಕರಣ ನಿರ್ವಹಣೆಯ ಕುರಿತಾದ ಪತ್ರಕ್ಕೆ ಸೂಚನೆಗಳು, ಇದರಲ್ಲಿ ಕೆಲವು ಸಿಬ್ಬಂದಿ ಅಥವಾ ವಿದ್ಯಾರ್ಥಿಗಳು ಒಡ್ಡಿಕೊಂಡಿದ್ದಾರೆ ಎಂದು ಶಂಕಿಸಲಾಗಿದೆ ವೈರಸ್ ಅಥವಾ ಯಾವುದೇ ರೋಗಲಕ್ಷಣಗಳನ್ನು ತೋರಿಸುತ್ತದೆ\",0\\nಏರೋ ಇಂಡಿಯಾ ಜೂನ್ 30 ರವರೆಗೆ ಚೀನಾ ಮತ್ತು ಹಾಂಗ್ ಕಾಂಗ್\\u200cಗೆ ಹಾರಾಟವನ್ನು ತಾತ್ಕಾಲಿಕವಾಗಿ ನಿಲ್ಲಿಸಿದೆ ಮತ್ತು ಕರೋನವೈರಸ್ ಸುರುಳಿಯಾಕಾರದ ಪ್ರಕರಣಗಳು ಫೆಬ್ರವರಿ 26 ರಂದು ಚೀನಾ 433 ಹೊಸ ಕೊರೊನಾವೈರಸ್ ಸೋಂಕನ್ನು ವರದಿ ಮಾಡಿರುವುದರಿಂದ ಸಿಂಗಾಪುರಕ್ಕೆ ಹಾರಾಟದ ಸಂಖ್ಯೆಯನ್ನು ಕಡಿಮೆ ಮಾಡಲು ನಿರ್ಧರಿಸಿದೆ. ದುರದೃಷ್ಟವಶಾತ್ ಕಾದಂಬರಿಗೆ ಯಾವುದೇ ಲಸಿಕೆ ಇಲ್ಲ ಕೊರೊನಾವೈರಸ್ ಇನ್ನೂ ಹೂಸ್ಟನ್ ಮೂಲದ ಜೆನೆಟಿಕ್ ಎಂಜಿನಿಯರಿಂಗ್ ಕಂಪನಿಯ ಗ್ರೆಫೆಕ್ಸ್\\u200cನ ಸಂಶೋಧಕರು ತಾವು ಕರೋನವೈರಸ್ ಲಸಿಕೆ ರಚಿಸಿದ್ದೇವೆ ಎಂದು ಹೇಳಿಕೊಂಡಿದ್ದಾರೆ. ಕರೋನವೈರಸ್ ಅಪಾಯವನ್ನು ಕಡಿಮೆ ಮಾಡಲು ಈ ಕೆಳಗಿನ ಕ್ರಮಗಳನ್ನು ತೆಗೆದುಕೊಳ್ಳಬಹುದು ಆಲ್ಕೋಹಾಲ್ ಆಧಾರಿತ ಹ್ಯಾಂಡ್ ರಬ್ ಬಳಸಿ,0\\n\"ಸಿಂಗಾಪುರ ಕೊರೋವೈರಸ್ ಕಾಯಿಲೆಯ ಮೂರು ಹೊಸ ಪ್ರಕರಣಗಳನ್ನು ಕೋವಿಡ್ 19 ಆರೋಗ್ಯ ಸಚಿವಾಲಯವು ಗುರುವಾರ ಫೆಬ್ರವರಿ 27 ರಂದು ದೃ confirmed ಪಡಿಸಿದೆ. ಹಿಂದಿನ ಪ್ರಕರಣಕ್ಕೆ ಸಂಬಂಧಿಸಿರುವ ಒಬ್ಬನೂ ಸೇರಿದಂತೆ. ಬಿಡುಗಡೆಯಾದ ಪ್ರಕರಣಗಳಲ್ಲಿ ಇಬ್ಬರು ಚೀನೀ ಪ್ರಜೆಗಳು ಮತ್ತು ಇಬ್ಬರು ಸಿಂಗಾಪುರದವರು ಗ್ರೇಸ್ ಅಸೆಂಬ್ಲಿ ಆಫ್ ಗಾಡ್ ಚರ್ಚ್ ಕ್ಲಸ್ಟರ್ ಪ್ರಕರಣದಿಂದ ಸೇರಿದ್ದಾರೆ ಜನವರಿ 22 ರಂದು ಸಿಂಗಪುರಕ್ಕೆ ಆಗಮಿಸಿದ ವುಹಾನ್\\u200cನ 31 ವರ್ಷದ ಮಹಿಳೆ ಕೇಸ್ 78 57 ವರ್ಷದ ಸಿಂಗಪುರದ ಮಹಿಳೆ ಗ್ರೇಸ್ ಅಸೆಂಬ್ಲಿ ಆಫ್ ಗಾಡ್ ಚರ್ಚ್\\u200cನ ಹಿರಿಯ ಪಾದ್ರಿಯೊಂದಿಗೆ ಸಂಪರ್ಕ ಹೊಂದಿದ್ದಾಳೆ, ಅವಳು 66 ನೇ ಪ್ರಕರಣಕ್ಕೆ ಸಂಬಂಧ ಹೊಂದಿದ್ದಾಳೆ ಗ್ರೇಸ್\\u200cನಲ್ಲಿ ಕೆಲಸ ಮಾಡುವ ಒಬ್ಬ ವ್ಯಕ್ತಿ ಗಾಡ್ ಚರ್ಚ್ನ ಅಸೆಂಬ್ಲಿ 23 ಪ್ರಕರಣಗಳೊಂದಿಗೆ ಗಾಡ್ ಚರ್ಚ್ನ ಗ್ರೇಸ್ ಅಸೆಂಬ್ಲಿ ಅತಿದೊಡ್ಡ ಕ್ಲಸ್ಟರ್ ಆಗಿ ಉಳಿದಿದೆ\",0\\nಚೀನಾದಲ್ಲಿ ಇಬ್ಬರು ದಾದಿಯರು ಕರೋನವೈರಸ್ ವಿರುದ್ಧ ಹೋರಾಡಲು ಸಹಾಯ ಮಾಡಲು ವಿಶ್ವದಾದ್ಯಂತದ ವೈದ್ಯಕೀಯ ಸಿಬ್ಬಂದಿಯನ್ನು ಕೇಳುವ ಮುಕ್ತ ಪತ್ರವೊಂದನ್ನು ಪ್ರಕಟಿಸಿದ್ದಾರೆ. ದೀರ್ಘಕಾಲದವರೆಗೆ ಮತ್ತು ರಕ್ಷಣಾತ್ಮಕ ಸಲಕರಣೆಗಳ ಪದರಗಳಿಗಾಗಿ ಎನ್ 95 ಉಸಿರಾಟವನ್ನು ಧರಿಸಿದ ಪರಿಣಾಮವಾಗಿ ಕೆಲವು ದಾದಿಯರು ಈಗ ಕಿವಿಗೆ ಒತ್ತಡದ ಹುಣ್ಣುಗಳನ್ನು ಹೊಂದಿದ್ದಾರೆ ಮತ್ತು ಹಣೆಯ ಇದು ಅನುಭವಿ ದಾದಿಯರು ಸಾಂದರ್ಭಿಕವಾಗಿ ಸಹೋದ್ಯೋಗಿಗಳಿಗೆ ಸಾಂತ್ವನ ನೀಡಲು ಸಮಯವನ್ನು ಕಂಡುಕೊಳ್ಳುತ್ತಾರೆ ಮತ್ತು ನಮ್ಮ ಆತಂಕವನ್ನು ನಿವಾರಿಸಲು ಪ್ರಯತ್ನಿಸುತ್ತಾರೆ ಗುವಾಂಗ್\\u200c ou ೌ ವೈದ್ಯಕೀಯ ಆಸ್ಪತ್ರೆಯಿಂದ g ೆಂಗ್ ಮತ್ತು ಸೂರ್ಯನಿಂದ hen ೆನ್ ಆದರೂ ಸೆನ್ ಮೆಮೋರಿಯಲ್ ಆಸ್ಪತ್ರೆಯು 14000 ದಾದಿಯರಲ್ಲಿ ವುಹಾನ್ಗೆ ಹೋದರು ಮತ್ತು ಕೊರೊನಾವೈರಸ್ ರೋಗಿಗಳಿಗೆ ಚಿಕಿತ್ಸೆ ನೀಡಲು ಸಹಾಯ ಮಾಡಲು ನಾವು ಇದ್ದೇವೆ ಈ ಯುದ್ಧದಲ್ಲಿ ನಮಗೆ ಸಹಾಯ ಮಾಡಲು ಈಗ ಚೀನಾಕ್ಕೆ ಬರಲು ವಿಶ್ವದ ದೇಶಗಳ ದಾದಿಯರು ಮತ್ತು ವೈದ್ಯಕೀಯ ಸಿಬ್ಬಂದಿಯನ್ನು ಕೇಳುತ್ತಿದ್ದಾರೆ,0\\n\"ಕೊರೊನಾವೈರಸ್ ಏಕಾಏಕಿ ಅಂತರರಾಷ್ಟ್ರೀಯ ಪ್ರಯಾಣವನ್ನು ಮುಟ್ಟಿದಂತೆ, ಅದು ಫ್ರಾನ್ಸ್\\u200cನ ಇಕ್ಕಟ್ಟಾದ ಪ್ರವಾಸೋದ್ಯಮ ಉದ್ಯಮದ ಮೇಲೆ ಹೇಗೆ ಪರಿಣಾಮ ಬೀರುತ್ತಿದೆ ಎಂಬುದನ್ನು ನಾವು ನೋಡುತ್ತೇವೆ ಪ್ರವಾಸೋದ್ಯಮ ಐರ್ಲೆಂಡ್\\u200cನ ಸಿಇಒ ನಿಯಾಲ್ ಗಿಬ್ಬನ್ಸ್ ಸಿಇಒ ಹಿಂದಿನ ಅನುಭವವು ಏಕಾಏಕಿ ಉಂಟಾದ ಹಾನಿಯಿಂದ ಈ ವಲಯವು ಪುಟಿಯುತ್ತದೆ ಎಂದು ತೋರಿಸುತ್ತದೆ\",0\\n\"ಬ್ಲೂಮ್\\u200cಬರ್ಗ್ ವಿಶ್ವದ ಕೆಲವು ದೊಡ್ಡ ಉದ್ಯೋಗದಾತರು ನೆಸ್ಲೆ ಸಿಕ್ಸ್ ಮತ್ತು ಎಲ್ ಓರಿಯಲ್ ಪಿಎ ವ್ಯವಹಾರ ಪ್ರಯಾಣವನ್ನು ಸ್ಥಗಿತಗೊಳಿಸಿದ್ದು, ಇದು ಕರೋನವೈರಸ್ ಹರಡುವುದನ್ನು ತಡೆಯಲು ಸಹಾಯ ಮಾಡುತ್ತದೆ ಆದರೆ ಜಾಗತಿಕ ಆರ್ಥಿಕತೆಗೆ ವೇಗವನ್ನು ನೀಡುತ್ತದೆ ನೆಸ್ಲೆ ವಿಶ್ವದ ಅತಿದೊಡ್ಡ ಆಹಾರ ಮತ್ತು ಪಾನೀಯ ಕಂಪನಿ ಪ್ರಯಾಣಿಕರನ್ನು ತಪ್ಪಿಸಲು ಉದ್ಯೋಗಿಗಳಿಗೆ ತಿಳಿಸಿದೆ ವ್ಯಾಪಾರಕ್ಕಾಗಿ ಕನಿಷ್ಠ ಮಾರ್ಚ್ ಮಧ್ಯದವರೆಗೆ ವಿಶ್ವದಾದ್ಯಂತ 291000 ಜನರನ್ನು ನೇಮಕ ಮಾಡುವ ನೆಸ್ಲೆ ನಿರ್ಣಾಯಕ ಹೆಜ್ಜೆ ಇಟ್ಟ ಮೊದಲ ಬಹುರಾಷ್ಟ್ರೀಯ ಕಂಪನಿಗಳಲ್ಲಿ ಒಂದಾಗಿದೆ, ಏಕೆಂದರೆ ಬ್ರೆಜಿಲ್ ಸೇರಿದಂತೆ ಹೊಸ ದೇಶಗಳಲ್ಲಿ ವೈರಸ್ ಬೀಜವು ಸಾಂಕ್ರಾಮಿಕ ರೋಗದ ಬಗ್ಗೆ ಕಳವಳ ವ್ಯಕ್ತಪಡಿಸುತ್ತಿದೆ ಜಾಗತಿಕ ಆರೋಗ್ಯ ಮಾರ್ಗಸೂಚಿಗಳ ಅನುಪಸ್ಥಿತಿಯಲ್ಲಿ ಕಂಪನಿಗಳು ತಮ್ಮ ಯೋಜನೆಯನ್ನು ರೂಪಿಸಬೇಕಾಗಿದೆ ಉದ್ಯೋಗಿಗಳನ್ನು ಸುರಕ್ಷಿತವಾಗಿಡಲು ಸ್ವಂತ ಯೋಜನೆಗಳು ಕಿಟ್ ಕ್ಯಾಟ್ ಸ್ನ್ಯಾಕ್ ಬಾರ್ ಮತ್ತು ನೆಸ್ಪ್ರೆಸೊ ಕ್ಯಾಪ್ಸುಲ್ಗಳ ಸ್ವಿಸ್ ತಯಾರಕ ನೆಸ್ಲೆ ಇದು ಕರೋನವೈರಸ್ನ ಸಾರ್ವಜನಿಕ ಆರೋಗ್ಯದ ಮೇಲೆ ಹರಡುವಿಕೆ ಮತ್ತು ಪ್ರಭಾವದ ಬಗ್ಗೆ ಜಾಗತಿಕ ಕಳವಳವನ್ನು ಹಂಚಿಕೊಳ್ಳುತ್ತದೆ ಎಂದು ಹೇಳಿದರು.\",0\\n\"ನವದೆಹಲಿ ದಕ್ಷಿಣ ಕೊರಿಯಾದ ರಾಷ್ಟ್ರೀಯ ಶೂಟಿಂಗ್ ಫೆಡರೇಶನ್ ಮಾರಣಾಂತಿಕ ಕಾದಂಬರಿ ಕೊರೊನಾವೈರಸ್ನ ಜಾಗತಿಕ ಹಾಟ್ಬೆಡ್ಗಳಲ್ಲಿ ಒಂದಾಗಿದೆ, ಮುಂದಿನ ತಿಂಗಳು ನಡೆಯಲಿರುವ ಐಎಸ್ಎಸ್ಎಫ್ ವಿಶ್ವಕಪ್ನಲ್ಲಿ ಪೂರ್ವ ಏಷ್ಯಾದ ದೇಶದ ಕ್ರೀಡಾಪಟುಗಳಿಗೆ ಅವಕಾಶ ನೀಡಲಾಗುತ್ತದೆಯೇ ಎಂಬ ಬಗ್ಗೆ ತನ್ನ ನಿಲುವನ್ನು ಸ್ಪಷ್ಟಪಡಿಸುವಂತೆ ತನ್ನ ಭಾರತೀಯ ಪ್ರತಿರೂಪವನ್ನು ಕೇಳಿದೆ. ಮಾರ್ಚ್ 15 ರಿಂದ 26 ರವರೆಗೆ ನಡೆಯುವ ಈವೆಂಟ್\\u200cನಲ್ಲಿ ಶೂಟರ್\\u200cಗಳು ಭಾಗವಹಿಸಲು ಉತ್ಸುಕರಾಗಿದ್ದಾರೆ ಎಂದು ನ್ಯಾಷನಲ್ ರೈಫಲ್ ಅಸೋಸಿಯೇಶನ್ ಆಫ್ ಇಂಡಿಯಾ ಎನ್\\u200cಆರ್\\u200cಎಐ ಅಧ್ಯಕ್ಷ ರಣಿಂದರ್ ಸಿಂಗ್ ಕೊರಿಯಾ ಶೂಟಿಂಗ್ ಫೆಡರೇಶನ್ ಪ್ರಧಾನ ಕಾರ್ಯದರ್ಶಿ ಯೋಂಗ್ಜೇ ಲೀ ಹೇಳಿದ್ದಾರೆ. ಪ್ರಸ್ತುತ ಕೊರಿಯಾದ ಹೆಚ್ಚಿನ ಕ್ರೀಡಾಪಟುಗಳು ಐಎಸ್\\u200cಎಸ್\\u200cಎಫ್\\u200cನಲ್ಲಿ ಕನಿಷ್ಠ ಅರ್ಹತಾ ಮಾನದಂಡವನ್ನು ಪಡೆಯಲು ಬಯಸುತ್ತಿದ್ದಾರೆ ವಿಶ್ವಕಪ್ ನವದೆಹಲಿ ಆದಾಗ್ಯೂ ಕ್ರೀಡಾಪಟುಗಳು ಮತ್ತು ಅಧಿಕಾರಿಗಳಲ್ಲಿ ಹೆಚ್ಚಿನ ಕಾಳಜಿ ಮತ್ತು ಆತಂಕಗಳಿವೆ, ಅವರು ಭಾಗವಹಿಸಲು ಸಾಧ್ಯವಾಗದಿರಬಹುದು ಎಂದು ಲೀ ಹೇಳಿದರು COVID 19 ರ ಬಗ್ಗೆ ನಿಮ್ಮ ನಿಲುವನ್ನು ದಯೆಯಿಂದ ತಿಳಿಸಿ ಅವರು ಹೇಳಿದರು ಕ್ರೀಡಾಪಟುಗಳು ಮತ್ತು ಅಧಿಕಾರಿಗಳ ಟಿಕೆಟ್\\u200cಗಳನ್ನು ಈಗಾಗಲೇ ಕಾಯ್ದಿರಿಸಲಾಗಿದೆ ಮತ್ತು ಅವರ ವೀಸಾ ಶುಲ್ಕವನ್ನು ಸಹ ಪಾವತಿಸಲಾಗಿದೆ ಫೆಬ್ರವರಿ 26 ರಂದು ಭಾರತೀಯ ರಾಯಭಾರ ಕಚೇರಿಯ ನಿರ್ದೇಶನದ ಮೂಲಕ ಈ ಪತ್ರವನ್ನು ಕೇಳಲಾಯಿತು ಫೆಬ್ರವರಿ 10 ರ ನಂತರ ಕೊರಿಯಾ ಇರಾನ್ ಮತ್ತು ಇಟಲಿಯಿಂದ ಭಾರತಕ್ಕೆ ಬರುವ ಜನರು ವೈರಸ್\\u200cನಿಂದ ತೀವ್ರವಾಗಿ ಬಾಧಿತರಾಗುತ್ತಾರೆ ಎಂದು 14 ದಿನಗಳ ಕಾಲ ನಿರ್ಬಂಧಿಸಬಹುದು ಎಂದು ತಿಳಿಸಲಾಗಿದೆ. ದಕ್ಷಿಣ ಕೊರಿಯಾದಲ್ಲಿ 1700 ಕ್ಕೂ ಹೆಚ್ಚು ಕರೋನವೈರಸ್ ಪ್ರಕರಣಗಳಿವೆ ಮತ್ತು ಇದುವರೆಗೆ 13 ಜನರು ಸಾವನ್ನಪ್ಪಿದ್ದಾರೆ ರೋಗದ ಕೇಂದ್ರಕೇಂದ್ರ ಚೀನಾ ಮತ್ತು ತೈವಾನ್ ಸೇರಿದಂತೆ ಆರು ದೇಶಗಳು ವೈರಸ್\\u200cನಿಂದಾಗಿ ವಿಶ್ವಕಪ್\\u200cನಿಂದ ಹೊರಬಂದಿವೆ\",0\\n\"ವುಡೀಸ್ ಮಾಲೀಕ ಗ್ರಾಫ್ಟನ್ ಚೀನಾದಿಂದ ನೂರಾರು ಮಿಲಿಯನ್ ಯೂರೋ ಮೌಲ್ಯದ ಉತ್ಪನ್ನಗಳಿಗೆ ಪರ್ಯಾಯ ಪೂರೈಕೆ ಸರಪಳಿಗಳನ್ನು ನಿರ್ಣಯಿಸುತ್ತಿದ್ದಾರೆ, ಇದು ಕರೋನವೈರಸ್ನ ಪ್ರಭಾವವನ್ನು ಹರಡುತ್ತಿದ್ದಂತೆ ಸಮೂಹದಾದ್ಯಂತ ಮಾರಾಟ ಮಾಡುತ್ತದೆ ಗ್ರಾಫ್ಟನ್ ಮುಖ್ಯ ಕಾರ್ಯನಿರ್ವಾಹಕ ಗೇವಿನ್ ಸ್ಲಾರ್ಕ್ ಇಂದು ಗುಂಪು ಮಾರಾಟದಲ್ಲಿ 8 ಪಿಸಿ ಗ್ರಾಫ್ಟನ್ಸ್ 2 67 ಬಿಎನ್ 3 14 ಬಿಎನ್ ಕಳೆದ ವರ್ಷ ಚೀನಾದಿಂದ ನೇರವಾಗಿ ಅಥವಾ ಪರೋಕ್ಷವಾಗಿ ಉತ್ಪಾದಿಸಲಾದ ಉತ್ಪನ್ನಗಳಿಂದ ಉತ್ಪಾದಿಸಲ್ಪಟ್ಟಿದೆ. ಇದು ಕಳೆದ ವರ್ಷ ಐರ್ಲೆಂಡ್\\u200cನಲ್ಲಿ ತನ್ನ ಆದಾಯದ ಸುಮಾರು 675 ಮಿಲಿಯನ್ ಗಳಿಸಿದೆ ಮತ್ತು ನೆದರ್\\u200cಲ್ಯಾಂಡ್\\u200cನಲ್ಲಿ ವ್ಯವಹಾರವನ್ನು ಸಹ ಹೊಂದಿದೆ ನಾವು ಉತ್ಪನ್ನಗಳಿಗೆ ಪರ್ಯಾಯ ಮೂಲಗಳನ್ನು ನೋಡಿದ್ದೇವೆ ಗ್ರಾಫ್ಟನ್ ಮುಖ್ಯ ಹಣಕಾಸು ಅಧಿಕಾರಿ ಡೇವಿಡ್ ಅರ್ನಾಲ್ಡ್ ಐರಿಶ್ ಇಂಡಿಪೆಂಡೆಂಟ್\\u200cಗೆ ತಿಳಿಸಿದರು ಚೀನಾದಲ್ಲಿ ಇದು ಸಾಕಷ್ಟು ಸಂಕೀರ್ಣವಾದ ಪ್ರಾದೇಶಿಕ ಚಿತ್ರಣವಾಗಿದೆ, ಕಾರ್ಖಾನೆಯ ಉತ್ಪಾದನೆಯಲ್ಲಿ ದೀರ್ಘಕಾಲದ ನಿಧಾನಗತಿಯನ್ನು ನಾವು ನೋಡಿದರೆ ಅದು ಪ್ರಭಾವ ಬೀರಬಹುದು ಆದರೆ ನಮ್ಮ ಪೂರೈಕೆ ಸರಪಳಿ ತಂಡಗಳು ನಮ್ಮ ಚೀನೀ ತಯಾರಕರು ಮತ್ತು ಪೂರೈಕೆದಾರರೊಂದಿಗೆ ನಿಜವಾಗಿಯೂ ಶ್ರಮಿಸುತ್ತಿವೆ ಆದರೆ ಪರ್ಯಾಯಗಳ ದೃಷ್ಟಿಯಿಂದಲೂ ಶ್ರೀ ಅರ್ನಾಲ್ಡ್ ಹೇಳಿದರು ಉದಾಹರಣೆಗೆ ಬಾತ್ರೂಮ್ ಉತ್ಪನ್ನಗಳಿಗೆ ಪರ್ಯಾಯ ಸರಬರಾಜುಗಳನ್ನು ದೇಶೀಯವಾಗಿ ಪೂರ್ಣವಾಗಿ ವರದಿ ಮಾಡಬಹುದು ಎಲ್ ವರ್ಷದ ಫಲಿತಾಂಶಗಳು ನಿನ್ನೆ ಗ್ರಾಫ್ಟನ್ 2019 ರಲ್ಲಿ ಮುಂದುವರಿದ ಕಾರ್ಯಾಚರಣೆಗಳಿಂದ ಆದಾಯವು 3 ಪಿಸಿ 2 67 ಬಿಎನ್ 3 14 ಬಿಲಿಯನ್ಗೆ ಏರಿದೆ ಮತ್ತು ಮುಂದುವರಿದ ಕಾರ್ಯಾಚರಣೆಗಳಿಂದ ಕಾರ್ಯಾಚರಣೆಯ ಲಾಭವು 4 ಐಪಿಸಿ ಪೂರ್ವ ಐಎಫ್ಆರ್ಎಸ್ ಆಧಾರದ ಮೇಲೆ 194 3 ಮೀ 228 5 ಮೀ ಹೆಚ್ಚಾಗಿದೆ. ನೆದರ್ಲ್ಯಾಂಡ್ಸ್ ಮೂಲದ ಪೋಲ್ವೋ ಹಾರ್ಡ್\\u200cವೇರ್ ಸರಪಳಿಯನ್ನು ಖರೀದಿಸಲು ಇದು 131 ಮಿ ಪಾವತಿಸಿದೆ ಐರ್ಲೆಂಡ್\\u200cನಲ್ಲಿನ ಅದರ ವ್ಯಾಪಾರ ವ್ಯವಹಾರವು ಸ್ಥಿರ ಕರೆನ್ಸಿ ಆಧಾರದ ಮೇಲೆ ಆದಾಯವನ್ನು 6 2pc ಯಿಂದ 464 8m ಗೆ ಏರಿಸಿತು. ಪೂರ್ವ ಐಎಫ್\\u200cಆರ್ಎಸ್ ಕಾರ್ಯಾಚರಣಾ ಲಾಭವು 12 9pc ಯಿಂದ 42 8m\",1\\nಬಿಬಿಸಿ ಬ್ರೇಕ್ಫಾಸ್ಟ್ ವೀಕ್ಷಕರು ವೈದ್ಯರ ಕೈಯಲ್ಲಿ ಕೆಮ್ಮಿದ್ದಕ್ಕಾಗಿ ಹ್ಯಾಂಡ್ ಸ್ಯಾನಿಟೈಸರ್ಗೆ ತಲುಪುವ ಮೊದಲು ಇಂದು ಒಂದು ವಿಭಾಗದಲ್ಲಿ ವೈರಸ್ ಹರಡುವುದನ್ನು ಉತ್ತಮ ನೈರ್ಮಲ್ಯದಿಂದ ದೂರವಿರಿಸಿದ್ದಾರೆ ಆದರೆ ಹ್ಯಾಂಡ್ ಸ್ಯಾನಿಟೈಸರ್ ಬಾಟಲಿಗೆ ತಲುಪುವ ಮುನ್ನ ಬ್ರಿಟಿಷ್ ಜಿಪಿ ಅವಳ ಕೈಗೆ ಸಿಕ್ಕಿತು ಹದ್ದು ಕಣ್ಣಿನ ವೀಕ್ಷಕರ ಗಮನದಿಂದ ತಪ್ಪಿಸಿಕೊಳ್ಳಲಿಲ್ಲ. ಕೊಲೆಗಾರ ಕರೋನವೈರಸ್ ಹರಡುವುದನ್ನು ನಿಲ್ಲಿಸುವ ದೃಷ್ಟಿಯಿಂದ ಕೈ ನೈರ್ಮಲ್ಯ ಎಷ್ಟು ಮುಖ್ಯವಾದುದು ಎಂದು ಡಾ. ರೋಸ್ಮರಿ ತನ್ನ ಪ್ರದರ್ಶನಕ್ಕೆ ಮುಂಚಿತವಾಗಿ ಹೇಳಿದರು. ಇದು ಒಂದು ಟಿಕ್ಲ್ ಎಂದು ಒತ್ತಾಯಿಸಿದರು ಮತ್ತು ಅವಳು ತನ್ನ ಕೈಯನ್ನು ಹಾಕುತ್ತಾಳೆ ಕೈಗಳನ್ನು ಒರೆಸದೆ ಹ್ಯಾಂಡ್ ಸ್ಯಾನಿಟೈಸರ್ ಬಾಟಲಿಯನ್ನು ಹಿಡಿಯುವ ಮೊದಲು ಅವಳ ಬಾಯಿ ಮೊದಲು ಕೋಪಗೊಂಡ ವೀಕ್ಷಕರು ಸಾಮಾಜಿಕ ಮಾಧ್ಯಮಗಳಿಗೆ ಜಿಪಿ ತನ್ನ ವೈರಸ್ ಅನ್ನು ಹ್ಯಾಂಡ್ ಸ್ಯಾನಿಟೈಸರ್ ಬಾಟಲಿಗೆ ಹರಡಿದ್ದಾರೆ ಎಂಬ ಕಳವಳವನ್ನು ವ್ಯಕ್ತಪಡಿಸಿದರು.,1\\n\"ಎಎನ್\\u200cಎಸ್\\u200cಎ ಲೋಡಿ ಫೆಬ್ರವರಿ 27 ಸಣ್ಣ ವ್ಯಾಪಾರ ಸಮೂಹದ ಲೋಡಿ ಶಾಖೆಯ ಕಾರ್ಯದರ್ಶಿ ಕಾನ್ಫಾರ್ಟಿಜಿಯಾನಟೊ ಗುರುವಾರ ಎಎನ್\\u200cಎಸ್\\u200cಎಗೆ ತಿಳಿಸಿದ್ದು, ಕರೋನವೈರಸ್ ಕೆಂಪು ವಲಯದೊಳಗಿನ ಕೆಲವು ಕಂಪನಿಗಳಿಗೆ ಕೆಲಸ ಮಾಡಲು ಲೋಡಿ ಪ್ರಾಂತ್ಯವು ಭಾಗಶಃ ಮರಳಲು ಅನುಮತಿ ನೀಡಿದೆ ಎಂದು ಬೊಸೆಲ್ಲಿ ಕೋರಿದ್ದಾರೆ, ಕಾರ್ಮಿಕರು ಮುನ್ನೆಚ್ಚರಿಕೆ ಕ್ರಮಗಳನ್ನು ಅನುಸರಿಸಬೇಕಾಗುತ್ತದೆ ಮುಖವಾಡಗಳ ಬಳಕೆ ಮತ್ತು ಸುರಕ್ಷಿತ ದೂರವನ್ನು ಕಾಪಾಡಿಕೊಳ್ಳುವುದು ಮತ್ತು ಉತ್ಪನ್ನಗಳನ್ನು ಕೆಂಪು ವಲಯದಿಂದ ಹೊರಗಿಡಲು ಸಾಂಕ್ರಾಮಿಕ ರೋಗವನ್ನು ತಪ್ಪಿಸಲು ಲೊಂಬಾರ್ಡಿಯ ಲೋಡಿಯ ಸುತ್ತಮುತ್ತಲಿನ ಪ್ರದೇಶವು ಇಟಲಿಯ ವೈರಸ್ ಏಕಾಏಕಿ ಹಾಟ್\\u200cಸ್ಪಾಟ್\\u200cಗಳಲ್ಲಿ ಒಂದಾಗಿದೆ\",0\\nಬೋಸ್ಟನ್ ರಾಯಿಟರ್ಸ್ ಯು ಎಸ್ ಖಜಾನೆ ಇಳುವರಿ ಗುರುವಾರ ಆರಂಭಿಕ ವಹಿವಾಟಿನಲ್ಲಿ 10 ವರ್ಷದ ಟಿಪ್ಪಣಿಗಳ ಇಳುವರಿಯೊಂದಿಗೆ ಇಳಿಮುಖವಾಗಿದೆ. ಯುಎಸ್ 2 ಯುಎಸ್ 10 ಆರ್ಆರ್ ಹೊಸ ದಾಖಲೆಯನ್ನು 1 2723 ಕ್ಕಿಂತ ಕಡಿಮೆ ಮುಟ್ಟಿದೆ.,1\\nಎಎನ್\\u200cಎಸ್\\u200cಎ ರೋಮ್ ಫೆಬ್ರವರಿ 27 ಇಟಲಿಯ ಉನ್ನತ ಆರೋಗ್ಯ ಸಂಸ್ಥೆ ಐಎಸ್\\u200cಎಸ್ ಇಟಲಿಯ ಎರಡು ಕರೋನವೈರಸ್ ಹಾಟ್\\u200cಬೆಡ್\\u200cಗಳ ನಡುವಿನ ಸಂಪರ್ಕವನ್ನು ಪರಿಶೀಲಿಸುತ್ತಿದೆ ಲೊಂಬಾರ್ಡಿ ಮತ್ತು ವೆನೆಟೊ ಗುರುವಾರ ಇಟಾಲಿಯನ್ ಆರೋಗ್ಯ ಸಚಿವ ರಾಬರ್ಟೊ ಸ್ಪೆರಾನ್ಜಾ ಅವರು ಈ ಅಧ್ಯಯನವು ಇನ್ನೂ ನಡೆಯುತ್ತಿದೆ ಮತ್ತು ನಾವು ಸಾಧ್ಯತೆಗಳ ಮಟ್ಟದಲ್ಲಿದ್ದೇವೆ ಆದರೆ ನಾವು ನೋಡುತ್ತಿದ್ದೇವೆ ಎರಡು ಹಾಟ್\\u200cಬೆಡ್\\u200cಗಳ ನಡುವಿನ ಸಂಪರ್ಕದ othes ಹೆಯು ವಿದೇಶಿ ಪತ್ರಿಕಾ ಸಂಘದಲ್ಲಿ ಪತ್ರಿಕಾಗೋಷ್ಠಿಯಲ್ಲಿ ದೇಶದ ಕರೋನವೈರಸ್ ತುರ್ತು ಪರಿಸ್ಥಿತಿಗೆ ಸಂಬಂಧಿಸಿದಂತೆ ಪ್ರಸ್ತುತ ಪರಿಸ್ಥಿತಿ ಕುರಿತು ಹೇಳಿದರು,0\\n\"ತನ್ನದೇ ದೇಶಕ್ಕೆ ಮ್ಯಾಕ್ರೋನ್\\u200cನ ಭೀಕರ ಎಚ್ಚರಿಕೆ ಯುಕೆಗೆ ವಿಪತ್ತು ಉಂಟುಮಾಡಬಹುದು, ಅದು ಫ್ರಾನ್ಸ್\\u200cನ ನೆರೆಯ ಯುಕೆ ಆರೋಗ್ಯ ಕಾರ್ಯದರ್ಶಿ ಮ್ಯಾಟ್ ಹ್ಯಾನ್\\u200cಕಾಕ್, ಬ್ರಿಟನ್ ಹೆಚ್ಚು ಗಂಭೀರವಾದ ಏಕಾಏಕಿ ತಯಾರಿ ನಡೆಸುತ್ತಿದೆ ಎಂದು ಸುಳಿವು ನೀಡಿದೆ. ವೈರಸ್\\u200cಗಾಗಿ ತಪಾಸಣೆ ಮಾಡಬಹುದಾದ ಜನರು ದೇಶಾದ್ಯಂತ ಎಂಟು ಎನ್\\u200cಎಚ್\\u200cಎಸ್ ಆಸ್ಪತ್ರೆಗಳಲ್ಲಿ ಹೊಸ ವ್ಯವಸ್ಥೆಯನ್ನು ಜಾರಿಗೆ ತಂದಿದ್ದಾರೆ ಮತ್ತು ಜಿಪಿ ಶಸ್ತ್ರಚಿಕಿತ್ಸೆಗಳಂತಹ ಸುಮಾರು 100 ಪ್ರಾಥಮಿಕ ಆರೈಕೆ ತಾಣಗಳು ಸಹ ಹೊಸ ಯೋಜನೆಯಲ್ಲಿ ಭಾಗವಹಿಸಲಿವೆ ಎಂದು ಡಬ್ಲ್ಯುಎಚ್\\u200cಒ ಮಹಾನಿರ್ದೇಶಕ ಟೆಡ್ರೊಸ್ ಅಧಾನಮ್ ಘೆಬ್ರೆಯೆಸಸ್ ಹೇಳಿದ್ದಾರೆ. ಸಮಯ ಈ ನಿರ್ಧಾರಕ್ಕೆ ಮುಖ್ಯ ಕಾರಣ ಚೀನಾದಲ್ಲಿ ಏನು ನಡೆಯುತ್ತಿದೆ ಎಂಬ ಕಾರಣದಿಂದಾಗಿ ಅಲ್ಲ ಆದರೆ ಇತರ ದೇಶಗಳಲ್ಲಿ ಏನು ನಡೆಯುತ್ತಿದೆ ಎಂಬ ಕಾರಣದಿಂದಾಗಿ ನಮ್ಮ ಹೆಚ್ಚಿನ ಕಾಳಜಿ ವೈರಸ್ ದುರ್ಬಲ ಆರೋಗ್ಯ ವ್ಯವಸ್ಥೆಗಳನ್ನು ಹೊಂದಿರುವ ದೇಶಗಳಿಗೆ ಹರಡುವ ಸಾಮರ್ಥ್ಯ ಮತ್ತು ಅವುಗಳಿಗೆ ನಾನು ಸಿದ್ಧನಾಗುತ್ತೇನೆ ಅದನ್ನು ನಿಭಾಯಿಸಲು\",0\\nಡುಬೈ ರಾಯಿಟರ್ಸ್ ಇರಾನ್ ಚೀನಾದ ನಾಗರಿಕರನ್ನು ದೇಶಕ್ಕೆ ಪ್ರವೇಶಿಸುವುದನ್ನು ನಿಷೇಧಿಸಿದೆ ಎಂದು ಇರಾನ್ ರಾಜ್ಯ ಸುದ್ದಿ ಸಂಸ್ಥೆ ಐಆರ್ಎನ್ಎ ಗುರುವಾರ ವರದಿ ಮಾಡಿದೆ. ಇಸ್ಲಾಮಿಕ್ ಗಣರಾಜ್ಯದಾದ್ಯಂತ ಹೊಸ ಕರೋನವೈರಸ್ ಹರಡಿರುವ ಸಂದರ್ಭದಲ್ಲಿ 26 ಇರಾನಿಯನ್ನರನ್ನು ಕೊಂದಿದೆ ಎಂದು ಇರಾನ್ ಹೇಳಿದೆ. ಗುರುವಾರ ಸೋಂಕಿತರ ಸಂಖ್ಯೆ 245 ಕ್ಕೆ ಏರಿದೆ,1\\nಟಿವಿ ವೈದ್ಯ ಹಿಲರಿ ಜೋನ್ಸ್ ಅವರು ಕರೋನವೈರಸ್ ಹಿಟ್ ಟೆನೆರೈಫ್ ಹೋಟೆಲ್ನಲ್ಲಿ ಸಂಪರ್ಕತಡೆಯನ್ನು ಅಳತೆ ಮಾಡಿದ್ದಾರೆ ಎಂದು ವಿದೇಶಾಂಗ ಕಚೇರಿ ಹೇಳಿದ್ದರಿಂದ ಪರಿಸ್ಥಿತಿಯನ್ನು ಪರಿಶೀಲನೆಯಲ್ಲಿರಿಸಿಕೊಳ್ಳಲಾಗಿದೆ ಎಂದು ಸೈಟ್ನಲ್ಲಿರುವ ಎಲ್ಲರಿಗೂ ಆರಂಭದಲ್ಲಿ ತಮ್ಮ ಕೋಣೆಗಳಲ್ಲಿ ಇರಬೇಕೆಂದು ತಿಳಿಸಲಾಗಿತ್ತು ಆದರೆ ಸ್ಥಳೀಯ ಅಧಿಕಾರಿಗಳು ಈಗ ರೋಗಲಕ್ಷಣಗಳಿಲ್ಲದ ಜನರು ಚಲಿಸಬಹುದು ಎಂದು ಹೇಳಿದ್ದಾರೆ ಪೂಲ್ ಮತ್ತು ಬಾರ್ ಸೇರಿದಂತೆ ಹೋಟೆಲ್ ಸುತ್ತಲೂ ಅವರು ಸೇರಿಸಿದ ಕ್ಷಣದಲ್ಲಿ ಆ ಹೋಟೆಲ್ನಲ್ಲಿ ಏನು ನಡೆಯುತ್ತಿದೆ ಎಂಬುದು ಸ್ವಯಂ ಪ್ರತ್ಯೇಕತೆಯಲ್ಲ ಏಕೆಂದರೆ ಜನರು ಕೊಳದ ಸುತ್ತಲೂ ಸೂರ್ಯನ ಸ್ನಾನ ಮಾಡುತ್ತಿದ್ದಾರೆ ಏಕೆಂದರೆ ನೀವು ಒಟ್ಟಿಗೆ ಸಾಮೂಹಿಕ ಸಂಪರ್ಕದಲ್ಲಿದ್ದೀರಿ ರೆಸ್ಟೋರೆಂಟ್ಗೆ ಹೋಗುತ್ತೀರಿ ನನ್ನ ಚಿಂತೆ ಮತ್ತು ನಿಮ್ಮ ಚಿಂತೆ ಇದು 14 ನೇ ದಿನದಂದು ನೀವು ಮನೆಗೆ ಬರಲು ಸಿದ್ಧರಾಗಿರುವಾಗ ಮತ್ತು ಯಾರಾದರೂ ಧನಾತ್ಮಕವಾಗಿ ಪರೀಕ್ಷಿಸಿದಾಗ ನೀವು ಇನ್ನೂ 14 ದಿನಗಳವರೆಗೆ ಮತ್ತೆ ಸಂಪರ್ಕತಡೆಯಲ್ಲಿರುವಿರಿ ಏಕೆಂದರೆ ನೀವು ಒಡ್ಡಿಕೊಳ್ಳುತ್ತೀರಿ ಏಕೆಂದರೆ ನೀವು 14 ನೇ ದಿನದಲ್ಲಿ ಯಾರಾದರೂ ಧನಾತ್ಮಕವಾಗಿ ಪರೀಕ್ಷಿಸಿದರೆ ನೀವು ಇನ್ನೂ 14 ದಿನಗಳವರೆಗೆ ಸಂಪರ್ಕತಡೆಯನ್ನು ಹೊಂದಿರಬಹುದು,0\\nಗೋಲ್ಡ್ಮನ್ ಸ್ಯಾಚ್ಸ್ ಪ್ರಕಾರ ಯುಎಸ್ ಕಂಪೆನಿಗಳು 2020 ರಲ್ಲಿ ಯಾವುದೇ ಆದಾಯದ ಬೆಳವಣಿಗೆಯನ್ನು ಗಳಿಸುವುದಿಲ್ಲ ಎಂದು ಗೋಲ್ಡ್ಮನ್ ಸ್ಯಾಚ್ಸ್ ಪ್ರಕಾರ ಯುಎಸ್ ಕಂಪೆನಿಗಳು 2020 ರಲ್ಲಿ ನಿಶ್ಚಲವಾಗಿರುತ್ತದೆ. ಗೋಲ್ಡ್ಮನ್ ಸ್ಯಾಚ್ಸ್ ಮುಖ್ಯಸ್ಥ ನೀವು ಎಸ್ ಇಕ್ವಿಟಿ ಸ್ಟ್ರಾಟಜಿಸ್ಟ್ ಡೇವಿಡ್ ಕೋಸ್ಟಿನ್ ಗುರುವಾರ ಗ್ರಾಹಕರಿಗೆ ನೀಡಿದ ಟಿಪ್ಪಣಿಯಲ್ಲಿ ಹೇಳಿದರು ಮುನ್ಸೂಚನೆಗಳು ಚೀನಾದ ಆರ್ಥಿಕ ಚಟುವಟಿಕೆಯ ತೀವ್ರ ಕುಸಿತವನ್ನು 1 ಕ್ಯೂ ಲೋವರ್ ಎಂಡ್ ಬೇಡಿಕೆಯಲ್ಲಿ ಯುಎಸ್ ರಫ್ತುದಾರರಿಗೆ ಪೂರೈಕೆ ಸರಪಳಿಗೆ ಅಡ್ಡಿಪಡಿಸುವುದರಿಂದ ಯುಎಸ್ ಆರ್ಥಿಕ ಚಟುವಟಿಕೆಯಲ್ಲಿನ ಕುಸಿತ ಮತ್ತು ಉನ್ನತ ವ್ಯವಹಾರ ಅನಿಶ್ಚಿತತೆಯು ಎಸ್\\u200cಪಿ 500 ಕಂಪನಿಗಳು ಕುಸಿತವನ್ನು ವರದಿ ಮಾಡುತ್ತವೆ ಎಂದು ಕೋಸ್ಟಿನ್ ಗೋಲ್ಡ್ಮನ್ ನಿರೀಕ್ಷಿಸಿದ್ದಾರೆ ವರ್ಷದ ಮೊದಲಾರ್ಧದಲ್ಲಿ ಗಳಿಕೆಗಳು ಆಪಲ್ ನೈಕ್ ಮತ್ತು ಯುನೈಟೆಡ್ ಏರ್ಲೈನ್ಸ್ ನಂತಹ ಕಂಪನಿಗಳು ಪೂರೈಕೆ ಸರಪಳಿಗಳ ಮೇಲೆ ವೈರಸ್ ಪ್ರಭಾವದಿಂದಾಗಿ ತಮ್ಮ ಗಳಿಕೆ ಮತ್ತು ಆದಾಯ ಮಾರ್ಗದರ್ಶನವನ್ನು ಪೂರೈಸುವುದಿಲ್ಲ ಎಂದು ಎಚ್ಚರಿಸಿದೆ.,0\\nಹೊಸ ಕರೋನವೈರಸ್ ಏಕಾಏಕಿ ಕಾರಣ ಪಟ್ಟಣವನ್ನು ಬೀಗ ಹಾಕಿದ ನಂತರ ಉತ್ತರ ಇಟಲಿಯ ಕೊಡೋಗ್ನೊದಲ್ಲಿನ ಬೀದಿಗಳು ಮತ್ತು ಅಂಗಡಿಗಳು ಖಾಲಿಯಾಗಿವೆ. ಈ ವೈರಸ್ ಇಲ್ಲಿಯವರೆಗೆ ಇಟಲಿಯಲ್ಲಿ 12 ಜನರನ್ನು ಬಲಿ ತೆಗೆದುಕೊಂಡಿದೆ ಮತ್ತು ಬುಧವಾರ ರಾತ್ರಿಯ ವೇಳೆಗೆ ದೇಶಾದ್ಯಂತ ಪ್ರಕರಣಗಳು 400 ಕ್ಕಿಂತಲೂ ಹೆಚ್ಚು ತಲುಪಿದೆ ಅವರಿಗೆ ನಾಲ್ಕು ಮತ್ತು 15 ವರ್ಷದೊಳಗಿನ ಐದು ಮಕ್ಕಳು,1\\n\"ಕೊರೊನಾವೈರಸ್ COVID 19 ನ 506 ಹೊಸ ಪ್ರಕರಣಗಳನ್ನು ಸರ್ಕಾರವು ವರದಿ ಮಾಡಿದೆ, ಇದು ದೇಶಾದ್ಯಂತ ಒಟ್ಟು ಸೋಂಕುಗಳ ಸಂಖ್ಯೆಯನ್ನು 1766 ಕ್ಕೆ ತಂದುಕೊಟ್ಟಿದೆ, ಇದು ದೇಶಾದ್ಯಂತ ವೇಗವಾಗಿ ಹರಡುವ ಮಾರಣಾಂತಿಕ ಕಾಯಿಲೆಯಾಗಿದೆ. ಸಿಡಿಸಿ ಕರೋನವೈರಸ್ನಲ್ಲಿ ಅತ್ಯುತ್ತಮವಾದ ಪದೇ ಪದೇ ಕೇಳಲಾಗುವ ಪ್ರಶ್ನೆಗಳ FAQ ವೆಬ್\\u200cಸೈಟ್ ಅನ್ನು ಒದಗಿಸಿದೆ. ವಿಶ್ವ ಆರೋಗ್ಯ ಸಂಸ್ಥೆಯ COVID 19 ಕೊರೊವೈರಸ್ COVID 19 ನ 334 ಹೊಸ ಪ್ರಕರಣಗಳನ್ನು ವರದಿ ಮಾಡಿದೆ. ದೇಶದಲ್ಲಿ ಒಟ್ಟು ಸೋಂಕುಗಳ ಸಂಖ್ಯೆಯನ್ನು 1595 ಕ್ಕೆ ತಂದುಕೊಟ್ಟಿದೆ. ಮಾರಣಾಂತಿಕ ಕಾಯಿಲೆ ದೇಶಾದ್ಯಂತ ವೇಗವಾಗಿ ಹರಡುತ್ತಿದೆ ಎಂದು ವಾಂಡರ್ಬಿಲ್ಟ್ ವಿಶ್ವವಿದ್ಯಾಲಯದ ಸಾಂಕ್ರಾಮಿಕ ರೋಗಗಳ ಪ್ರಾಧ್ಯಾಪಕ ವಿಲಿಯಂ ಶಾಫ್ನರ್ ಹೇಳಿದ್ದಾರೆ ನೆಕ್ಸಸ್ ಮೀಡಿಯಾದ ಮರ್ಲೀನ್ ಸಿಮನ್ಸ್ ಉಷ್ಣವಲಯದಲ್ಲಿ ವರ್ಷಪೂರ್ತಿ ಫ್ಲೂ ವೈರಸ್ಗಳು ಏಕೆ ಅಭಿವೃದ್ಧಿ ಹೊಂದುತ್ತವೆ ಎಂಬುದು ಸ್ಪಷ್ಟವಾಗಿಲ್ಲ ಎಂದು ಸಿಮನ್ಸ್ 2019 ರ ಲೇಖನವೊಂದರಲ್ಲಿ ಸಾಂಕ್ರಾಮಿಕ ರೋಗ ವಿಜ್ಞಾನಿಗಳು ಭಯಪಡುತ್ತಾರೆ ಎಂದು ಅವರು ಹೇಳಿದ್ದಾರೆ ಉಷ್ಣವಲಯ\",1\\n\"ಆರ್ಥಿಕ ಬೆಳವಣಿಗೆಗೆ ಹಾನಿ ಉಂಟುಮಾಡುವ ಅಭಿವೃದ್ಧಿಯು ವಿಶ್ವದಾದ್ಯಂತ ದೇಶಗಳಲ್ಲಿ ಕೊರೊನಾವೈರಸ್ ಹರಡುವುದರ ಬಗ್ಗೆ ಹೂಡಿಕೆದಾರರು ಚಿಂತಿಸುತ್ತಿರುವುದರಿಂದ ಜಾಗತಿಕ ಷೇರುಗಳು ಮುಳುಗುತ್ತಿವೆ. ಯುಬಿಎಸ್ ಗ್ಲೋಬಲ್ ವೆಲ್ತ್ ಮ್ಯಾನೇಜ್\\u200cಮೆಂಟ್\\u200cನ ಮಾರ್ಕ್ ಹೆಫೆಲ್ ಹೂಡಿಕೆದಾರರಿಗೆ ತಮ್ಮ ನಷ್ಟವನ್ನು ಮಿತಿಗೊಳಿಸಲು ಮತ್ತು ಆರ್ಥಿಕ ಮತ್ತು ಮಾರುಕಟ್ಟೆ ಬದಲಾವಣೆಗಳಿಂದ ಲಾಭ ಪಡೆಯಲು ಮೂರು ವಹಿವಾಟುಗಳನ್ನು ನೋಡುವಂತೆ ಹೇಳುತ್ತಿದ್ದಾರೆ. ಸಾಂಕ್ರಾಮಿಕ ರೋಗಕ್ಕೆ ಪ್ರತಿಕ್ರಿಯೆಯಾಗಿ ಯುಬಿಎಸ್ ಗ್ಲೋಬಲ್ ವೆಲ್ತ್ ಮ್ಯಾನೇಜ್\\u200cಮೆಂಟ್\\u200cನ ಮುಖ್ಯ ಹೂಡಿಕೆ ಅಧಿಕಾರಿ ಮಾರ್ಕ್ ಹೆಫೆಲೆ, ಯುಎಸ್ ಮತ್ತು ಯುರೋಪಿನ ಸರ್ಕಾರಗಳು ಅನಾರೋಗ್ಯದ ಹರಡುವಿಕೆಯನ್ನು ಮಿತಿಗೊಳಿಸಲು ಕಠಿಣ ಕ್ರಮಗಳನ್ನು ಕೈಗೊಂಡರೆ ಶೀಘ್ರದಲ್ಲೇ ಸ್ಪಷ್ಟವಾಗುತ್ತದೆ ಎಂದು ಹೇಳುತ್ತಾರೆ. ಮುಂದಿನ ಎರಡು ವಾರಗಳಲ್ಲಿ ವೈರಸ್\\u200cನ ಕಾವು ಕಾಲಾವಧಿಯನ್ನು ಗಮನಿಸಿದರೆ ಏಕಾಏಕಿ ಅಧಿಕಾರಿಗಳು ಅದನ್ನು ಸಿದ್ಧಪಡಿಸಲು ಮತ್ತು ತೆಗೆದುಕೊಳ್ಳಲು ಸಮರ್ಥವಾಗಿರುವ ಕ್ರಮಗಳನ್ನು ನಿರ್ಧರಿಸುವಲ್ಲಿ ನಿರ್ಣಾಯಕವಾಗುತ್ತಾರೆ ಮತ್ತು ಅವರು ಗ್ರಾಹಕರಿಗೆ ನೀಡಿದ ಟಿಪ್ಪಣಿಯಲ್ಲಿ ಅವರು ಬರೆದ ಆ ಕ್ರಮಗಳ ಆರ್ಥಿಕ ಪರಿಣಾಮವು ಯುರೋಪಿಗೆ ವೈರಸ್ ಹರಡುವುದನ್ನು ಪುಡಿಮಾಡಬಹುದು ಎಂದು ಹೇಫೆಲ್ ಹೇಳುತ್ತಾರೆ ಗ್ರಾಹಕ ಮತ್ತು ವ್ಯವಹಾರ ವಿಶ್ವಾಸ ಮತ್ತು ಉತ್ತರ ಅಮೆರಿಕಾದಲ್ಲಿ ಹೆಚ್ಚಿನ ಪ್ರಕರಣಗಳು ಆ ಪರಿಣಾಮವನ್ನು ಬೀರಬಹುದು ಮತ್ತು ಅದು ಯುಎಸ್ ಇಂಡಿಗೆ ಎರಡು ಕೆಟ್ಟ ದಿನಗಳ ನಂತರ ಎರಡು ವರ್ಷಗಳಲ್ಲಿ ನಿರ್ಗಮನವು ಸಾರ್ವಜನಿಕ ಮತ್ತು ಮಾರುಕಟ್ಟೆಗಳ ಮೇಲೆ ಅನಿಶ್ಚಿತತೆಯೊಂದಿಗೆ ಹೂಡಿಕೆದಾರರು ಸುರಕ್ಷಿತ ಹೂಡಿಕೆಯ ಪ್ರದೇಶಗಳನ್ನು ಕಂಡುಹಿಡಿಯಲು ಮತ್ತು ಕೆಲವು ಸಂಭಾವ್ಯ ಫಲಾನುಭವಿಗಳ ಲಾಭವನ್ನು ಪಡೆಯಲು ಹೂಡಿಕೆದಾರರು ಈ ಮೂರು ಕಾರ್ಯತಂತ್ರಗಳನ್ನು ಪರಿಗಣಿಸಬೇಕು ಎಂದು ಹೇಫೆಲ್ ಹೇಳುತ್ತಾರೆ. ಉದಯೋನ್ಮುಖ ಮಾರುಕಟ್ಟೆಗಳು ಏಕಾಏಕಿ ಒದಗಿಸುವ ಹೆಚ್ಚಿನ ಅವಕಾಶವನ್ನು ನೀಡುತ್ತವೆ ಮುಂದಿನ ಕೆಲವು ವಾರಗಳಲ್ಲಿ ಚೀನಾವನ್ನು ನಿಯಂತ್ರಣಕ್ಕೆ ತರಲಾಗುತ್ತದೆ, ಸಂಭವಿಸುತ್ತಿರುವ ಲಕ್ಷಣಗಳಿವೆ ಎಂದು ಹೇಫೆಲ್ ಹೇಳುತ್ತಾರೆ ಆದರೆ ಅಭಿವೃದ್ಧಿ ಹೊಂದಿದ ಪ್ರಪಂಚದಾದ್ಯಂತ ಚೀನಾ ಪ್ರಗತಿಯನ್ನು ಅನಿಶ್ಚಿತತೆ ಹೆಚ್ಚಿಸುತ್ತಿದೆ\",0\\nನೀವು ಎಸ್ ಅಧ್ಯಕ್ಷ ಟ್ರಂಪ್ ವಾಷಿಂಗ್ಟನ್ ಪ್ರೆಸಿಡೆಂಟ್ ಡೊನಾಲ್ಡ್ ಟ್ರಂಪ್ ಅವರ ಯು ಎಸ್ ಕ್ಯಾಪಿಟಲ್ ನಲ್ಲಿ ಸ್ಟೇಟ್ ಆಫ್ ದಿ ಯೂನಿಯನ್ ಭಾಷಣವನ್ನು ನೀಡಿದರು. ಕೊರೋನವೈರಸ್ ಹರಡುವಿಕೆಗೆ ಆಡಳಿತದ ಮಾರ್ಗವನ್ನು ಮುನ್ನಡೆಸಲು ಉಪಾಧ್ಯಕ್ಷ ಮೈಕ್ ಪೆನ್ಸ್ ಅವರನ್ನು ಟ್ಯಾಪ್ ಮಾಡಲಾಗಿದೆ ಎಂದು ಬುಧವಾರ ಘೋಷಿಸಿದರು ಆದರೆ ಇಂಡಿಯಾನಾದಲ್ಲಿ ಎಚ್ಐವಿ ಏಕಾಏಕಿ ಪೆನ್ಸ್ ಪ್ರತಿಕ್ರಿಯೆ ಅವರು ಈ ನೇಮಕಾತಿಯ ಬಗ್ಗೆ ರಾಜ್ಯ ಗವರ್ನರ್ ಆಗಿದ್ದಾಗ ಮತ್ತು ಈ ಪಾತ್ರಕ್ಕೆ ಅವರ ಸೂಕ್ತತೆಯ ಬಗ್ಗೆ ಪ್ರಶ್ನೆಗಳನ್ನು ಹುಟ್ಟುಹಾಕುತ್ತಾರೆ ಆರೋಗ್ಯ ಅಧಿಕಾರಿಗಳು 2014 ರ ಕೊನೆಯಲ್ಲಿ ಸ್ಕಾಟ್ ಕೌಂಟಿ ಇಂಡಿಯಾನಾದಲ್ಲಿ ಗ್ರಾಮೀಣ ಕೌಂಟಿಯಲ್ಲಿ ಎಚ್\\u200cಐವಿ ಏಕಾಏಕಿ 24000 ಜನಸಂಖ್ಯೆಯನ್ನು ಹೊಂದಿರುವ ಬಗ್ಗೆ ತಿಳಿದುಬಂದಿದೆ. ಅಧಿಕಾರಿಗಳು ಪತ್ತೆಯಾದ ಎರಡು ತಿಂಗಳ ನಂತರ ಏಕಾಏಕಿ ಪೆನ್ಸ್ ನ್ಯೂಯಾರ್ಕ್ ಟೈಮ್ಸ್ನ ಸ್ಕಾಟ್ ಕೌಂಟಿಯಲ್ಲಿ ಸಿರಿಂಜಿನ ವಿತರಣೆಗೆ ಅನುಮತಿ ನೀಡುವಂತೆ ಕಾರ್ಯನಿರ್ವಾಹಕ ಆದೇಶವನ್ನು ಹೊರಡಿಸಿತು. ಟ್ರಂಪ್ ಪೆನ್ಸ್ ಆಡಳಿತದ ಕೊರೊನಾವೈರಸ್ ಪ್ರತಿಕ್ರಿಯೆಯನ್ನು ಮುನ್ನಡೆಸಲಿದ್ದಾರೆ ಎಂದು ಘೋಷಿಸಿದ ನಂತರ ಇಂಡಿಯಾನಾದಲ್ಲಿ ಎಚ್ಐವಿ ಏಕಾಏಕಿ ನಿಭಾಯಿಸುವುದನ್ನು ಸಾಮಾಜಿಕ ಮಾಧ್ಯಮದಲ್ಲಿ ವ್ಯಾಪಕವಾಗಿ ಚರ್ಚಿಸಲಾಯಿತು,0\\nಟೋಕಿಯೊ ರಾಯಿಟರ್ಸ್ ಕರೋನವೈರಸ್ ಏಕಾಏಕಿ ಹೊರತಾಗಿಯೂ ಟೋಕಿಯೊ ಒಲಿಂಪಿಕ್ಸ್ ಅನ್ನು ನಿಗದಿತ ಸಮಯಕ್ಕೆ ನಡೆಸಲು ಅಂತರರಾಷ್ಟ್ರೀಯ ಒಲಿಂಪಿಕ್ ಸಮಿತಿಯು ಸಂಪೂರ್ಣ ಬದ್ಧವಾಗಿದೆ ಎಂದು ಐಒಸಿ ಅಧ್ಯಕ್ಷ ಥಾಮಸ್ ಬಾಚ್ ಗುರುವಾರ ಜಪಾನಿನ ಮಾಧ್ಯಮಕ್ಕೆ ತಿಳಿಸಿದರು. ಕ್ಯೋಡೋ ಸುದ್ದಿ ಸಂಸ್ಥೆ ವರದಿ ಮಾಡಿದೆ ಬ್ಯಾಚ್ ಜಪಾನಿನ ಮಾಧ್ಯಮಕ್ಕೆ ಐಒಸಿ ಯಶಸ್ವಿ ಒಲಿಂಪಿಕ್ಗೆ ಸಂಪೂರ್ಣ ಬದ್ಧವಾಗಿದೆ ಜುಲೈ 24 ರಿಂದ ಟೋಕಿಯೊದಲ್ಲಿ ನಡೆಯುವ ಆಟಗಳು ಕ್ಯೋಡೋ ಹೇಳಿದ್ದು ಬ್ಯಾಚ್,0\\n\"ರಷ್ಯಾದ ವೀಸಾವನ್ನು ಪಡೆಯುವುದು ಕುಖ್ಯಾತ ಕಷ್ಟ, ವಿಶ್ವಕಪ್ ವಿಜೇತ ಅಲೆಸ್ಸಾಂಡ್ರೊ ಡೆಲ್ ಪಿಯೆರೊಗೆ ಇಟಲಿಯಲ್ಲಿ ವೀಸಾ ಪಡೆಯುವುದನ್ನು ತಡೆಯಲಾಯಿತು, ಬದಲಿಗೆ ಕರೋನವೈರಸ್ ಭಯದಿಂದಾಗಿ LA ಯಿಂದ ಅರ್ಮೇನಿಯಾಗೆ ಪ್ರಯಾಣಿಸುತ್ತಿದ್ದರು ಆದ್ದರಿಂದ ಇಟಾಲಿಯನ್ ವಿಶ್ವಕಪ್ ವಿಜೇತ ಅಲೆಸ್ಸಾಂಡ್ರೊ ಡೆಲ್ ಪಿಯೆರೊಗೆ ಒಂದು ಆಲೋಚನೆಯನ್ನು ಬಿಡಿ 2006 ರಲ್ಲಿ ವಿಶ್ವಕಪ್ ಟ್ರೋಫಿಯನ್ನು ಎತ್ತುವ ಅ z ುರ್ರಿ ತಂಡದಲ್ಲಿ ಪ್ರಮುಖ ಪಾತ್ರ ವಹಿಸಿದ್ದ ಡೆಲ್ ಪಿಯೆರೊ ತನ್ನ ವೀಸಾವನ್ನು ಪಡೆಯಲು LA ಯಿಂದ ಅರ್ಮೇನಿಯನ್ ರಾಜಧಾನಿ ಯೆರೆವಾನ್\\u200cಗೆ ಪ್ರಯಾಣಿಸಬೇಕಾಯಿತು. ಅದೃಷ್ಟವಶಾತ್ ಮಾಜಿ ಜುವ್ ನಾಯಕನಿಗೆ ತನ್ನ ತಾಯ್ನಾಡಿಗೆ ಪ್ರವಾಸ ಅಗತ್ಯವಿರಲಿಲ್ಲ ಕಕೇಶಿಯನ್ ದೇಶದಲ್ಲಿ ವೀಸಾ ಪ್ರಕ್ರಿಯೆಯು ಯಶಸ್ವಿಯಾಗಿದೆ ಮತ್ತು ನಂತರ ಡೆಲ್ ಪಿಯೆರೊ ಅವರನ್ನು ಮಾಸ್ಕೋಗೆ ಕಳುಹಿಸಲಾಯಿತು. ಬುಧವಾರ ವೃತ್ತಿಪರ ಫುಟ್ಬಾಲ್ ಆಟಗಾರನಿಗೆ ಕೊರೊನಾವೈರಸ್ ಸೋಂಕಿಗೆ ಒಳಗಾದ ಮೊದಲ ಪ್ರಕರಣ ಬಹಿರಂಗವಾಯಿತು, ಸಿಯೆನಾದಲ್ಲಿ ಇಟಾಲಿಯನ್ ಸೀರಿ ಸಿ ಆಟಗಾರನು ಕೋವಿಡ್ 19 ವೈರಸ್\\u200cಗೆ ಧನಾತ್ಮಕ ಪರೀಕ್ಷೆಯನ್ನು ಲಾ ನಾಜಿಯೋನ್ ಪ್ರಕಾರ ಪತ್ರಿಕೆ\",0\\n\"ಬೆಸ್ಟ್ ಬೈ ಮುಖ್ಯ ಹಣಕಾಸು ಅಧಿಕಾರಿ ಮ್ಯಾಟ್ ಬಿಲುನಾಸ್ ಅವರು ಸುದ್ದಿ ಪ್ರಕಟಣೆಯಲ್ಲಿ ಕಂಪನಿಯು ಕರೋನವೈರಸ್ ಏಕಾಏಕಿ ಮೇಲ್ವಿಚಾರಣೆ ನಡೆಸುತ್ತಿದೆ ಮತ್ತು ಅದರ ಹೆಚ್ಚಿನ ಪರಿಣಾಮವು ವರ್ಷದ ಮೊದಲಾರ್ಧದಲ್ಲಿರಬೇಕೆಂದು ನಿರೀಕ್ಷಿಸುತ್ತದೆ ಎಂದು ಹೇಳಿದರು. ಇದರ ಆಧಾರದ ಮೇಲೆ ವಿಶ್ಲೇಷಕರು ನಿರೀಕ್ಷಿಸುತ್ತಿರುವುದರೊಂದಿಗೆ ಹೋಲಿಸಿದರೆ ಬೆಸ್ಟ್ ಬೈ ವರದಿ ಮಾಡಿದೆ ರಿಫಿನಿಟಿವ್ ಬೆಸ್ಟ್ ಬೈ ಸಿಇಒ ಕೋರಿ ಬ್ಯಾರಿ ಅವರ ವಿಶ್ಲೇಷಕರ ಸಮೀಕ್ಷೆಯು ತ್ರೈಮಾಸಿಕದಲ್ಲಿ ಚಿಲ್ಲರೆ ವ್ಯಾಪಾರಿಗಳ ಬೆಳವಣಿಗೆಯನ್ನು ಹೆಡ್\\u200cಫೋನ್\\u200cಗಳ ಕಂಪ್ಯೂಟಿಂಗ್ ಉಪಕರಣಗಳ ಮೊಬೈಲ್ ಫೋನ್\\u200cಗಳು ಮತ್ತು ಟ್ಯಾಬ್ಲೆಟ್\\u200cಗಳ ಮಾರಾಟದಿಂದ ನಡೆಸಲಾಗುತ್ತದೆ ಮತ್ತು ಇದು ಗೇಮಿಂಗ್\\u200cನಲ್ಲಿನ ಕುಸಿತವನ್ನು ಸರಿದೂಗಿಸಲು ಸಹಾಯ ಮಾಡಿದೆ ಎಂದು ಹೇಳಿದರು ಬೆಸ್ಟ್ ಬೈ ಗಳಿಸಿದ 2 90 ಪ್ರತಿ ಷೇರಿಗೆ 2 75 ಕ್ಕಿಂತ ಹೆಚ್ಚಿರುವ ಪ್ರತಿ ಷೇರಿನ ವಿಶ್ಲೇಷಕರು ರಿಫಿನಿಟಿವಿ ಪ್ರಕಾರ ನಿರೀಕ್ಷಿಸುತ್ತಿದ್ದರು 2021 ರ ಹಣಕಾಸಿನ ಚಿಲ್ಲರೆ ವ್ಯಾಪಾರಿಗಳ ಮುನ್ಸೂಚನೆಯು ಪ್ರತಿ ಷೇರಿಗೆ 6 ರಿಂದ 10 30 ರವರೆಗೆ ಹೊಂದಾಣಿಕೆಯ ಗಳಿಕೆಯ ಶ್ರೇಣಿಯನ್ನು ಮತ್ತು ಅದೇ ಅಂಗಡಿ ಮಾರಾಟವು 2 0 ವರೆಗೆ ಸಮತಟ್ಟಾಗಿರಬೇಕು ಎಂದು ಹೇಳುತ್ತದೆ. ಉದಾಹರಣೆಗೆ ಇದು ಟೋಟಲ್ ಟೆಕ್ ಬೆಂಬಲವನ್ನು ವಾರ್ಷಿಕ ಸದಸ್ಯತ್ವ ಕಾರ್ಯಕ್ರಮವನ್ನು ನೀಡುತ್ತದೆ, ಇದು ಗ್ರಾಹಕರಿಗೆ ಸ್ಮಾರ್ಟ್ ಡೋರ್\\u200cಬೆಲ್ ಅನ್ನು ಸ್ಥಾಪಿಸಲು ಟಿವಿಯನ್ನು ಆರೋಹಿಸಲು ಅಥವಾ ಕಂಪ್ಯೂಟರ್ ಗ್ಲಿಚ್ ಅನ್ನು ನಿವಾರಿಸಲು ಸಹಾಯ ಮಾಡುತ್ತದೆ\",1\\nಆದರೆ ನೀವು ಇನ್ನು ಮುಂದೆ ಹೋಗಲು ಇಷ್ಟಪಡದ ಕಾರಣ ನಿಮ್ಮ ಪ್ರಯಾಣ ವಿಮೆಯಲ್ಲಿ ನೀವು ಹಕ್ಕು ಪಡೆಯಲು ಸಾಧ್ಯವಿಲ್ಲವಾದರೂ ನೀವು ರದ್ದುಗೊಳಿಸಲು ಮತ್ತು ಇತರ ಆಧಾರದ ಮೇಲೆ ಪೂರ್ಣ ಮರುಪಾವತಿಯನ್ನು ಪಡೆಯಲು ಸಾಧ್ಯವಾಗಬಹುದು ಟ್ರಾವೆಲ್ ಹೇಳಿದರು ನೀವು ಮೊದಲೇ ಅಸ್ತಿತ್ವದಲ್ಲಿರುವ ವೈದ್ಯಕೀಯ ಸ್ಥಿತಿಯನ್ನು ಹೊಂದಿದ್ದರೆ ನೀವು ರದ್ದುಗೊಳಿಸಬಹುದು ಮತ್ತು ನಿಮ್ಮ ವೈದ್ಯರ ಸಲಹೆಯ ಆಧಾರದ ಮೇಲೆ ನಿಮ್ಮ ಪ್ರಯಾಣ ವಿಮೆಯ ಮೇಲೆ ಹಕ್ಕು ಪಡೆಯಿರಿ ಅವರು ಹೇಳಿದರು ಉತ್ತಮ ಪ್ರಯಾಣ ವಿಮಾ ಪಾಲಿಸಿಯು ವಿಶೇಷ ರ ಹೋಲಿಕೆ ಸೈಟ್ನಲ್ಲಿ ಟಾಮಿ ಲಾಯ್ಡ್ ಮುಖ್ಯ ಉತ್ಪನ್ನ ಅಧಿಕಾರಿಯನ್ನು ಹಾರಲು ಯೋಗ್ಯವಾಗಿರುವುದು ಸೇರಿದಂತೆ ರದ್ದತಿಯ ಬಗ್ಗೆ ಹಲವಾರು ಷರತ್ತುಗಳನ್ನು ಹೊಂದಿರುತ್ತದೆ. ವೈದ್ಯಕೀಯ ಪ್ರಯಾಣ ಹೋಲಿಕೆ ಸೇರಿಸಲಾಗಿದೆ ಸ್ಟ್ಯಾಂಡರ್ಡ್ ಟ್ರಾವೆಲ್ ಇನ್ಶುರೆನ್ಸ್ ಪಾಲಿಸಿಯ ವ್ಯಾಪ್ತಿಗೆ ಒಳಪಡಬೇಕು ಆದರೆ ಗ್ರಾಹಕರು ಈ ಸಮಯದಲ್ಲಿ ಪ್ರಯಾಣದ ವಿರುದ್ಧ ಸಲಹೆ ನೀಡುವ ವೈದ್ಯರ ಟಿಪ್ಪಣಿಯನ್ನು ಸ್ವೀಕರಿಸಿದ್ದರೆ ಅವರು ಇದನ್ನು ನೇರವಾಗಿ ಪ್ರಯಾಣ ವಿಮಾ ಪೂರೈಕೆದಾರರೊಂದಿಗೆ ಚರ್ಚಿಸಬೇಕು,0\\n\"ಫೋರ್ಟ್ ಮೈಯರ್ಸ್ ಫ್ಲಾ ಬೋಸ್ಟನ್ ರೆಡ್ ಸಾಕ್ಸ್ ಸಣ್ಣ ಲೀಗ್ ಪಿಚರ್ ಚಿಹ್ ಜಂಗ್ ಲಿಯು ಅವರನ್ನು ಕರೋನವೈರಸ್ ಭಯದಿಂದ ನಿರ್ಬಂಧಿಸಿಲ್ಲ ಎಂದು ತಂಡದ ಮಾಧ್ಯಮ ಸಂಬಂಧಗಳ ಉಪಾಧ್ಯಕ್ಷ ಕೆವಿನ್ ಗ್ರೆಗ್ ಬುಧವಾರ ಹೇಳಿದ್ದಾರೆ. 20 ವರ್ಷದ ತೈವಾನೀಸ್ ಬಲಗೈ ಆಟಗಾರನನ್ನು ತಂಡವು ನಿರ್ಬಂಧಿಸಿದೆ ಎಂದು ಬುಧವಾರ ತಪ್ಪಾದ ವರದಿಗಳು ತಿಳಿಸಿವೆ. ಅವರು ಕಳೆದ ವಾರ ತಮ್ಮ ಏಷ್ಯನ್ ತಾಯ್ನಾಡಿನಿಂದ ಫೋರ್ಟ್ ಮೈಯರ್ಸ್\\u200cಗೆ ಆಗಮಿಸಿದ್ದರು, ಜೆಟ್ ಬ್ಲೂ ಪಾರ್ಕ್\\u200cನಲ್ಲಿ ವಸಂತ ತರಬೇತಿಗೆ ಶನಿವಾರದವರೆಗೆ ವರದಿಯನ್ನು ವಿಳಂಬಗೊಳಿಸುವಂತೆ ತಂಡವು ಕೇಳಿಕೊಂಡಿದೆ ಎಂದು ಲಿಯು ತೈವಾನ್\\u200cನಿಂದ ಸ್ಯಾನ್ ಫ್ರಾನ್ಸಿಸ್ಕೋಗೆ ಹಾರಿದರು ಮತ್ತು ನಂತರ ಫೋರ್ಟ್ ಮೈಯರ್ಸ್\\u200cಗೆ ತಡವಾಗಿ ಕಳೆದ ವಾರ ಲಿಯು ಸೋಶಿಯಲ್ ಮೀಡಿಯಾದಲ್ಲಿ ದಿನಕ್ಕೆ ಮೂರು als ಟಗಳನ್ನು ವಿತರಿಸುತ್ತಿದ್ದಾನೆ ಮತ್ತು ಸ್ವಲ್ಪ ತೂಕದ ತರಬೇತಿ ನೀಡುತ್ತಿದ್ದಾನೆ ಮತ್ತು ಸಾಂದರ್ಭಿಕ ಓಟಕ್ಕೆ ಹೋಗುತ್ತಿದ್ದಾನೆ ಆದರೆ ಇಲ್ಲದಿದ್ದರೆ ತಂಡದ ಬಗ್ಗೆ ಆನ್\\u200cಲೈನ್\\u200cನಲ್ಲಿ ಸಮಯವನ್ನು ಕಳೆಯುತ್ತಿದ್ದಾನೆ ಮತ್ತು ದಿ ಬೋಸ್ಟನ್ ಗ್ಲೋಬ್ ಪ್ರಕಾರ ಓದುತ್ತಿದ್ದಾನೆ\",0\\n\"ವಾರಗಳವರೆಗೆ 3 ಎಂ ಕೋ ತನ್ನ ಉಸಿರಾಟದ ಫೇಸ್ ಮಾಸ್ಕ್\\u200cಗಳ ಉತ್ಪಾದನೆಯನ್ನು ಕೋವಿಡ್ 19 ಕರೋನವೈರಸ್ ವಿರುದ್ಧ ರಕ್ಷಣಾತ್ಮಕ ಗೇರ್\\u200cನ ಪ್ರಮುಖ ಭಾಗವಾಗಿಸುತ್ತಿದೆ ಆದರೆ ಕಂಪನಿಯು ಭವಿಷ್ಯದ ಬೇಡಿಕೆಗಾಗಿ ಮುಖವಾಡಗಳ ಪೂರೈಕೆಯನ್ನು ಮೀರುವ ಜಾಗತಿಕ ಬೇಡಿಕೆಯನ್ನು ನಿರೀಕ್ಷಿಸುತ್ತಿದೆ ಎಂದು ಸ್ಟಾರ್ ಟ್ರಿಬ್ಯೂನ್ ನವೀಕರಿಸಿದೆ 3M ನ ಮುಖವಾಡ ತಯಾರಿಸುವ ಪ್ರಯತ್ನಗಳು ಮ್ಯಾಪಲ್\\u200cವುಡ್\\u200c ಮೂಲದ ಕಂಪನಿಯು ಚೀನಾದಲ್ಲಿ ಉತ್ಪಾದನೆಯನ್ನು ಹೆಚ್ಚಿಸಿದೆ ಕೋವಿಡ್ 19 ಏಕಾಏಕಿ ಕೇಂದ್ರಬಿಂದುವಾಗಿದೆ, ಅಲ್ಲಿ ಹತ್ತಾರು ಜನರು ಅನಾರೋಗ್ಯಕ್ಕೆ ಒಳಗಾಗಿದ್ದಾರೆ ಮತ್ತು ಕಾರ್ಖಾನೆಗಳಲ್ಲಿ\",0\\n\"ವಿಶ್ವಾದ್ಯಂತ ಪ್ರಯಾಣಕ್ಕೆ ಯಾವುದೇ ಸಂಪರ್ಕವಿಲ್ಲದ ಕ್ಯಾಲಿಫೋರ್ನಿಯಾ ಆರೋಗ್ಯ ಅಧಿಕಾರಿಗಳು ಮೊದಲ ಬಾರಿಗೆ ನೀವು ಎಸ್ ಕರೋನವೈರಸ್ ಪ್ರಕರಣದ ಬಗ್ಗೆ ಎಚ್ಚರಿಕೆ ನೀಡುತ್ತಿದ್ದಾರೆ. ಈ ಪ್ರಕರಣವು ನಿಮ್ಮ ಎಸ್\\u200cನಲ್ಲಿ ತಿಳಿದಿರುವ 60 ಪ್ರಕರಣಗಳಲ್ಲಿ ಒಂದಾಗಿದೆ ಮತ್ತು ವಿಶ್ವಾದ್ಯಂತ 82000 ಕ್ಕೂ ಹೆಚ್ಚು ಪ್ರಕರಣಗಳು ವಿಶ್ವದಾದ್ಯಂತ ಸೌದಿ ಅರೇಬಿಯಾ ತನ್ನ ಎಲ್ಲಾ ಪ್ರಮುಖ ಇಸ್ಲಾಮಿಕ್ ಪವಿತ್ರ ತಾಣಗಳನ್ನು ಮುಚ್ಚಿದೆ ಕಾರ್ಟರ್ ಇವಾನ್ಸ್ ಹರಡದಂತೆ ಕರೋನವೈರಸ್ ಅನ್ನು ತಡೆಯಲು ಇಡೀ ತಿಂಗಳು ಎಲ್ಲಾ ಶಾಲೆಗಳನ್ನು ಮುಚ್ಚುವುದಾಗಿ ಜಪಾನ್ ಹೇಳಿದೆ, ಅಲ್ಲಿ ನೀವು ಇತ್ತೀಚಿನ ಎಸ್ ರೋಗಿಯನ್ನು ಪ್ರತ್ಯೇಕವಾಗಿ ಚಿಕಿತ್ಸೆ ಪಡೆಯುತ್ತಿದ್ದೀರಿ\",0\\n\"ಫ್ರಾಂಕ್\\u200cಫರ್ಟ್ ಫೆಬ್ರವರಿ 27 ರಾಯಿಟರ್ಸ್ ಕಾರ್ ತಯಾರಕರು ಮುಂದಿನ ವಾರ ಜಿನೀವಾ ಕಾರು ಪ್ರದರ್ಶನಕ್ಕೆ ಹಾಜರಾಗುವ ಸಿಬ್ಬಂದಿಯನ್ನು ಕಡಿಮೆಗೊಳಿಸುತ್ತಿದ್ದಾರೆ, ಏಕೆಂದರೆ ಜಿನೀವಾ ಟೊಯೋಟಾದಲ್ಲಿ ಒಂದು ಸೇರಿದಂತೆ ಮೂರು ಹೊಸ ಕರೋನವೈರಸ್ ಪ್ರಕರಣಗಳನ್ನು ಸ್ವಿಟ್ಜರ್ಲೆಂಡ್ ದೃ confirmed ಪಡಿಸಿದೆ ಎಂದು ಗುರುವಾರ ಹೇಳಿದೆ. ಜಿನೀವಾ ವಾಚ್ ಮೇಳವನ್ನು ರದ್ದುಪಡಿಸಿದಂತೆಯೇ ಕಾರ್ ಪ್ರದರ್ಶನವು ಮುಂದುವರಿಯುತ್ತದೆ ಮತ್ತು ಸ್ವಿಸ್ ಅಧಿಕಾರಿಗಳು ವರದಿ ಮಾಡಿದಂತೆ ಜಿನೀವಾ ಪ್ರಯಾಣದ ನಿರ್ಬಂಧಗಳಿಗೆ ವೈರಸ್ ಹರಡಿತು ಮತ್ತು ವೈರಸ್ ಹರಡುವ ಭೀತಿ ಈಗಾಗಲೇ ಮೊಬೈಲ್ ಸೇರಿದಂತೆ ಇತರ ವ್ಯಾಪಾರ ಮೇಳಗಳನ್ನು ಮುಂದೂಡಲು ಅಥವಾ ರದ್ದುಗೊಳಿಸಲು ಕಾರಣವಾಗಿದೆ ಬಾರ್ಸಿಲೋನಾದ ಫ್ರಾಂಕ್\\u200cಫರ್ಟ್\\u200cನ ಲೈಟ್ ಬಿಲ್ಡಿಂಗ್ ಫೇರ್ ಮತ್ತು ಬೀಜಿಂಗ್ ಆಟೋ ಶೋನಲ್ಲಿ ನಡೆದ ವಿಶ್ವ ಕಾಂಗ್ರೆಸ್ ಬುಧವಾರ ಫೆರಾರಿಯ ಮುಖ್ಯ ಕಾರ್ಯನಿರ್ವಾಹಕರು ಮತ್ತು ಬ್ರೇಕ್ ತಯಾರಕ ಬ್ರೆಂಬೊ ಅವರು ಇಟಾಲಿಯನ್ ಅಧಿಕಾರಿಗಳು ವಿಧಿಸಿದ ಪ್ರಯಾಣ ನಿರ್ಬಂಧದಿಂದಾಗಿ ಸ್ವಿಸ್ ಕಾರ್ ಪ್ರದರ್ಶನದಲ್ಲಿ ಹಾಜರಾತಿಯನ್ನು ರದ್ದುಗೊಳಿಸಿದ್ದಾರೆ ಎಂದು ತಿಳಿದುಬಂದಿದೆ.\",0\\n\"ಮೀಡ್ ಜಾನ್ಸನ್ ಸ್ವಾಧೀನದ ಮೇಲೆ 5 ಬಿಲಿಯನ್ ಪೌಂಡ್ ಶುಲ್ಕವನ್ನು ತೆಗೆದುಕೊಳ್ಳುತ್ತದೆ ಆರೋಗ್ಯ ನೈರ್ಮಲ್ಯ ಮತ್ತು ಪೌಷ್ಟಿಕಾಂಶದ ಷೇರುಗಳು ಸುಮಾರು 5 ಪತನದ ನಂತರ ಮರುಕಳಿಸುತ್ತದೆ ವಿಶ್ಲೇಷಕರ ಕಾಮೆಂಟ್ಗಳನ್ನು ಬ್ರೇಕಿಂಗ್ ವ್ಯೂಸ್ ಲಿಂಕ್ ಸೇರಿಸುತ್ತದೆ ಸಿದ್ಧಾರ್ಥ್ ಕ್ಯಾವಾಲೆ ಫೆಬ್ರವರಿ 27 ರಾಯಿಟರ್ಸ್ ರೆಕಿಟ್ ಬೆಂಕಿಸರ್ ಅವರ ಹೊಸ ಸಿಇಒ ಗುರುವಾರ 2 ಬಿಲಿಯನ್ ಪೌಂಡ್ಗಳನ್ನು ಖರ್ಚು ಮಾಡುವ ಯೋಜನೆಗಳನ್ನು ಅನಾವರಣಗೊಳಿಸಿದ್ದಾರೆ. ಮುಂದಿನ ಮೂರು ವರ್ಷಗಳಲ್ಲಿ ಕಂಪನಿಯು ತನ್ನ ಬೇಬಿ ಫಾರ್ಮುಲಾ ವ್ಯವಹಾರದ ಮೌಲ್ಯದ ಮೇಲೆ 5 ಬಿಲಿಯನ್ ಪೌಂಡ್ ರಿಟೌನ್ ಅನ್ನು ತೆಗೆದುಕೊಂಡಿದ್ದರಿಂದ ಮೀಡ್ ಜಾನ್ಸನ್ ರೆಕ್ಕಿಟ್ ಮೀಡ್ ಜಾನ್ಸನ್\\u200cರನ್ನು 2017 ರಲ್ಲಿ ಸುಮಾರು 13 ಬಿಲಿಯನ್ ಪೌಂಡ್\\u200cಗಳಿಗೆ ಖರೀದಿಸಿದರು. ಬ್ರಾಂಡೆಡ್ ಬೇಬಿ ಫಾರ್ಮುಲಾ ಉತ್ಪನ್ನಗಳಿಗೆ ಹೆಚ್ಚುತ್ತಿರುವ ಬೇಡಿಕೆಯ ಮೇಲೆ ಬೆಟ್ಟಿಂಗ್ ಅಭಿವೃದ್ಧಿ ಹೊಂದುತ್ತಿರುವ ಮಾರುಕಟ್ಟೆಗಳು ವಿಶೇಷವಾಗಿ ಚೀನಾ ರೆಕಿಟ್ ಷೇರುಗಳು ಸಕಾರಾತ್ಮಕ ಭೂಪ್ರದೇಶಕ್ಕೆ ಮರುಕಳಿಸುವ ಮೊದಲು 5 ಕ್ಕಿಂತಲೂ ಹೆಚ್ಚು ಕುಸಿದವು, ಏಕೆಂದರೆ ರೆಕ್ಕಿಟ್ ತನ್ನ ಗುರಿಗಳ ಮೇಲೆ ಹೆಚ್ಚಿನ ಸಾಧನೆ ಮಾಡಲಿಲ್ಲ ಏಕೆಂದರೆ ಹೊಸ ಯೋಜನೆಗಳು ನರಸಿಂಹನ್ ಅವರ ಯೋಜನೆಗಳು ಮೂರು ವರ್ಷಗಳಲ್ಲಿ 2 ಬಿಲಿಯನ್ ಪೌಂಡ್ಗಳಷ್ಟು ಹೂಡಿಕೆಯನ್ನು ಸುರಿಯುವುದನ್ನು ಒಳಗೊಂಡಿವೆ. ಏಕ ಅಂಕಿಯ ಮಾರಾಟ ಮತ್ತು ಪ್ರತಿ ಷೇರಿನ ಗಳಿಕೆ 7% ಬದಲಿಗೆ ಕಂಪನಿಯು ಹೊಸ ಹೂಡಿಕೆದಾರರಿಗೆ ಧನಸಹಾಯ ನೀಡಲು ಯೋಜಿಸಿದೆ 1 3 ಬಿಲಿಯನ್ ಪೌಂಡ್\\u200cಗಳ ಆಂತರಿಕ ಉತ್ಪಾದಕತೆಯ ಉಳಿತಾಯದ ಮೂಲಕ ಅದರ ಹೊಂದಾಣಿಕೆಯ ಅಂಚುಗಳನ್ನು ಸುಮಾರು 3 5 ಶೇಕಡಾ ಪಾಯಿಂಟ್\\u200cಗಳಿಂದ ಕಡಿಮೆ ಮಾಡುತ್ತದೆ ಮತ್ತು 2020 ರಲ್ಲಿ ಹೊಂದಾಣಿಕೆಯ ಗಳಿಕೆಯಲ್ಲಿ 20 ಇಳಿಕೆ ಕಂಡುಬರುತ್ತದೆ\",1\\nಆಪಲ್ ನಾಸ್ಡಾಕ್ ಎಎಪಿಎಲ್ ನಿಕ್ ಫೋರ್ಲೆನ್ಜಾ ಅವರ ಉತ್ಪಾದನಾ ವಿನ್ಯಾಸದ ನಿವೃತ್ತಿಯನ್ನು ಕಳೆದುಕೊಂಡಿತು ಮತ್ತು ಮಾಜಿ ಕಾರ್ಯಾಚರಣೆಗಳು ವಿಪಿ ಡುಕೋ ಪಾಸ್ಮೂಯಿಜ್ ಅವರು ತಮ್ಮ ನಿರ್ಗಮನದ ಬಗ್ಗೆ ಬ್ಲೂಮ್\\u200cಬರ್ಗ್ ಮೂಲಗಳ ಪ್ರಕಾರ ಚರ್ಚಿಸುತ್ತಿದ್ದಾರೆ. ಎಆರ್ ಹೆಡ್ ಆಪಲ್ ಕಂಪನಿಯಾದ್ಯಂತ ಸುಮಾರು ನೂರು ವಿಪಿಗಳನ್ನು ಹೊಂದಿದೆ ಆದರೆ ಉತ್ಪಾದನಾ ಪೂರೈಕೆ ಸರಪಳಿ ಮತ್ತು ಕಾರ್ಯಾಚರಣೆಗಳ ಗುಂಪು ಅನೇಕ ಪ್ರಮುಖ ಸಾಧನಗಳಲ್ಲಿ ಪ್ರಮುಖ ಪಾತ್ರ ವಹಿಸುತ್ತದೆ. ಯುಎಸ್ ಚೀನಾ ವ್ಯಾಪಾರ ಯುದ್ಧ ಮತ್ತು ಕೊರೊನಾವೈರಸ್ ಏಕಾಏಕಿ ಅಡ್ಡಿಪಡಿಸುವ ಪೂರೈಕೆ ಸರಪಳಿ ಸೇರಿದಂತೆ ಭೌಗೋಳಿಕ ರಾಜಕೀಯ ಸಮಸ್ಯೆಗಳನ್ನು ನಿಭಾಯಿಸಲು ಈ ಗುಂಪು ಸಹಾಯ ಮಾಡುತ್ತದೆ. ವಿಪಿ ನಿರ್ಗಮನಗಳು ಪರಸ್ಪರ ಸಂಬಂಧವಿಲ್ಲ ಅಥವಾ ಪೂರೈಕೆ ಸರಪಳಿ ಅಡ್ಡಿಪಡಿಸುತ್ತದೆ,1\\n\"ಚೀನಾದ ಹುಬೈ ಪ್ರಾಂತ್ಯದ ಕಿಯಾಂಜಿಯಾಂಗ್ ನಗರವು ಕರೋನವೈರಸ್ ಕಾದಂಬರಿಗೆ ಸಂಬಂಧಿಸಿದ ರೋಗಲಕ್ಷಣಗಳನ್ನು ಪೂರ್ವಭಾವಿಯಾಗಿ ವರದಿ ಮಾಡುವ ನಿವಾಸಿಗಳಿಗೆ ಪ್ರಶಸ್ತಿ ನೀಡುತ್ತಿದೆ ಮತ್ತು ರೋಗಲಕ್ಷಣಗಳನ್ನು ವರದಿ ಮಾಡುವ ಮತ್ತು ಕಾದಂಬರಿ ಕೊರೊನಾವೈರಸ್ ಹೊಂದಿದೆಯೆಂದು ದೃ is ೀಕರಿಸಲ್ಪಟ್ಟ ಯಾವುದೇ ನಿವಾಸಿಗಳಿಗೆ 10000 ಯುವಾನ್ ಅಥವಾ ಸುಮಾರು 1426 ರಂತೆ ಕಿಯಾಂಜಿಯಾಂಗ್ ಸರ್ಕಾರದ ಪತ್ರಿಕಾ ಪ್ರಕಟಣೆಯ ಪ್ರಕಾರ ಕಿಯಾನ್ಜಿಯಾಂಗ್ ಚೀನಾದ ಕರೋನವೈರಸ್ ಏಕಾಏಕಿ ಕೇಂದ್ರಬಿಂದುವಾಗಿರುವ ಹುಬೈ ಪ್ರಾಂತ್ಯವು ಕಾದಂಬರಿ ಕರೋನವೈರಸ್ ಮತ್ತು ಒಂಬತ್ತು ಸಾವುಗಳ 197 ದೃ confirmed ಪಡಿಸಿದ ಪ್ರಕರಣಗಳನ್ನು ವರದಿ ಮಾಡಿದೆ, ಇದು 65596 ದೃ confirmed ಪಡಿಸಿದ ಪ್ರಕರಣಗಳನ್ನು ಮತ್ತು 2641 ಕ್ಕೂ ಹೆಚ್ಚು ಸಾವುಗಳನ್ನು ಕಂಡಿದೆ ಮತ್ತು ಸಾಂಕ್ರಾಮಿಕ ರೋಗವು ಪ್ರಾರಂಭವಾದಾಗಿನಿಂದ ಇತರ ನಿವಾಸಿಗಳಿಗೆ ವಿತ್ತೀಯ ಪ್ರೋತ್ಸಾಹವನ್ನು ನೀಡುತ್ತಿದೆ ನಗರಗಳೂ ಸಹ ಹನ್ಯಾಂಗ್ ಜಿಯಾಂಗನ್ ವುಚಾಂಗ್ ಮತ್ತು ಶಿಯಾನ್ ಶಿಯಾನ್ ಅಧಿಕಾರಿಗಳು ಇತ್ತೀಚೆಗೆ ನಿವಾಸಿ 10000 ಯುವಾನ್ 1426 ಗೆ ಬಹುಮಾನ ನೀಡಿದರು ಆದರೆ ಬೇರೊಬ್ಬರನ್ನು ವರದಿ ಮಾಡಿದ್ದಕ್ಕಾಗಿ\",0\\n\"ನವೆಂಬರ್ 2002 ಮತ್ತು ಜುಲೈ 2003 ರ ನಡುವೆ 17 ದೇಶಗಳಲ್ಲಿ 774 ಸಾವುಗಳಿಗೆ ಕಾರಣವಾದ ಎಸ್\\u200cಒಆರ್ಎಸ್ ಕೊರೊನಾವೈರಸ್\\u200cಗಿಂತ ಕೋವಿಡ್ 19 ರ ಜೀವಕೋಶಗಳಿಗೆ ಸೋಂಕು ತಗುಲಿಸುವ ಸಾಮರ್ಥ್ಯ 1000 ಪಟ್ಟು ಹೆಚ್ಚು ಎಂದು ನಂಕೈ ವಿಶ್ವವಿದ್ಯಾಲಯದ ಹೊಸ ಅಧ್ಯಯನವೊಂದು ಆರೋಪಿಸಿದೆ. ನಂಕೈ ವಿಶ್ವವಿದ್ಯಾಲಯದ ಪ್ರೊಫೆಸರ್ ರುವಾನ್ ಜಿಶೌ ಮತ್ತು ಅವರ ತಂಡವು ಜೀನ್\\u200cಗಳನ್ನು ಕಂಡುಹಿಡಿದಿದೆ ಕೋವಿಡ್ 19 ರಲ್ಲಿ ಇದು SARS ನಲ್ಲಿ ಅಸ್ತಿತ್ವದಲ್ಲಿಲ್ಲ ಆದರೆ ದಕ್ಷಿಣ ಚೀನಾ ಮಾರ್ನಿಂಗ್ ಪೋಸ್ಟ್ ಪ್ರಕಾರ ಎಚ್\\u200cಐವಿ ಮತ್ತು ಎಬೋಲ್ ಹರಡುವ ಜವಾಬ್ದಾರಿಯುತ ಎರಡೂ ವೈರಸ್\\u200cಗಳಲ್ಲಿ ಕಂಡುಬರುತ್ತದೆ. ವೈರಸ್ icted ಹಿಸಿದಂತೆ ವರ್ತಿಸುತ್ತದೆಯೆ ಎಂದು ವಿಜ್ಞಾನಿಗಳು ತಮ್ಮ ಕಾಗದದಲ್ಲಿ ಹೇಳಿದ್ದಾರೆ. ಹೆಸರಿಸದ ಸಂಶೋಧಕರೊಬ್ಬರು ದಕ್ಷಿಣ ಚೀನಾ ಮಾರ್ನಿಂಗ್ ಪೋಸ್ಟ್ಗೆ ಹೇಳಿದ ಪ್ರಯೋಗಗಳು ಸೇರಿದಂತೆ ಇತರ ಸಾಕ್ಷ್ಯಗಳು ಬೇಕಾಗುತ್ತವೆ. ಇನ್ನೂ ಎರಡು ಕರೋನವೈರಸ್ ಪ್ರಕರಣಗಳು ಯುಕೆಯಲ್ಲಿ ದೃ confirmed ಪಟ್ಟಿದೆ, ಅಂದರೆ ದೇಶದಲ್ಲಿ ಒಟ್ಟು 15 ಜನರು ವೈರಸ್\\u200cಗೆ ಧನಾತ್ಮಕತೆಯನ್ನು ಪರೀಕ್ಷಿಸಿದ್ದಾರೆ\",0\\n\"ಕಳೆದ 12 ತಿಂಗಳುಗಳಲ್ಲಿ ಸರಣಿ ವಿಲೇವಾರಿಯ ನಂತರ ಹೆಚ್ಚುತ್ತಿರುವ ಲಾಭವನ್ನು ಕಾರು ವ್ಯಾಪಾರಿ ಮತ್ತು ವಿತರಕ ಇಂಚೇಪ್ ಬಹಿರಂಗಪಡಿಸಿದ್ದಾರೆ. ವಿಶ್ವದಾದ್ಯಂತ 32 ದೇಶಗಳಲ್ಲಿ ಕಾರ್ಯಾಚರಣೆ ನಡೆಸುತ್ತಿರುವ ವೆಸ್ಟ್ ಮಿಡ್ಲ್ಯಾಂಡ್ಸ್ ಮೂಲದ ವ್ಯವಹಾರವು ಯುಕೆ ನಲ್ಲಿ ಚೀನಾ ಫ್ಲೀಟ್ ವ್ಯವಹಾರದಲ್ಲಿ ಚಿಲ್ಲರೆ ಕಾರ್ಯಾಚರಣೆಯನ್ನು ಮಾರಾಟ ಮಾಡುವುದು ಮತ್ತು ಆಸ್ಟ್ರೇಲಿಯಾದ ಸೈಟ್\\u200cಗಳು ಸಹಾಯ ಮಾಡಿದೆ ಎಂದು ಹೇಳಿದರು. ಕರೋನವೈರಸ್ ಏಕಾಏಕಿ ಕಂಪನಿಯ ಮೇಲೆ ಪರಿಣಾಮ ಬೀರುವ ಸಣ್ಣ ಚಿಹ್ನೆಗಳನ್ನು ತೋರಿಸಲು ಪ್ರಾರಂಭಿಸುವುದರೊಂದಿಗೆ ಬ್ಯಾಂಕ್ 108 8 ಮಿಲಿಯನ್ ಮೇಲಧಿಕಾರಿಗಳು ಭವಿಷ್ಯದ ಬಗ್ಗೆ ಜಾಗರೂಕರಾಗಿದ್ದರು. ಬೇಡಿಕೆ ಮತ್ತು ಪೂರೈಕೆಯ ಮೇಲೆ ಕರೋನವೈರಸ್ ಪರಿಣಾಮವು ಅನಿಶ್ಚಿತವಾಗಿಯೇ ಉಳಿದಿದೆ ಮತ್ತು ನಾವು ಪರಿಸ್ಥಿತಿಯನ್ನು ಸೂಕ್ಷ್ಮವಾಗಿ ಗಮನಿಸುತ್ತಲೇ ಇರುತ್ತೇವೆ. ಪೂರೈಕೆ ಅನಿಶ್ಚಿತವಾಗಿ ಉಳಿದಿದೆ ಮತ್ತು ನಾವು ಪರಿಸ್ಥಿತಿಯನ್ನು ಸೂಕ್ಷ್ಮವಾಗಿ ಗಮನಿಸುತ್ತಲೇ ಇರುತ್ತೇವೆ ಫೆಬ್ರವರಿಯಲ್ಲಿ ನಾವು ನಮ್ಮ ಏಷ್ಯಾ ವ್ಯವಹಾರದ ಮೇಲೆ ಹಾಂಗ್ ಕಾಂಗ್ ಸಿಂಗಾಪುರ್ ಮತ್ತು ಮಕಾವುಗಳಲ್ಲಿ ಕಡಿಮೆ ಇಳಿಕೆಯೊಂದಿಗೆ ಸಣ್ಣ ಪರಿಣಾಮವನ್ನು ಕಂಡಿದ್ದೇವೆ. ಮಾರಾಟದ ಪರಿಣಾಮವಾಗಿ ಪ್ರಿಟಾಕ್ಸ್ ಲಾಭವು 256 ರಿಂದ 402 ದಶಲಕ್ಷಕ್ಕೆ ಏರಿತು. 1 ರಿಂದ 9 38 ಶತಕೋಟಿ ಡಾಲರ್ಗಳಷ್ಟು ಹೆಚ್ಚಳವು ಅದರ ಯುಕೆ ಒಂದರಲ್ಲಿ ಭಾರಿ 175 ಮಿಲಿಯನ್ ಸದ್ಭಾವನೆ ಮೌಲ್ಯದ ರಿಟೌನ್ ಆಗಿದೆ 2018 ರಲ್ಲಿ ಕಾರ್ಯಾಚರಣೆಗಳು ಬ್ಯಾಲೆನ್ಸ್ ಶೀಟ್\\u200cಗೆ ಒಂದು ಆಫ್ ವರ್ಧಕವನ್ನು ಹೊರತುಪಡಿಸಿ 6 ರಿಂದ 326 ಕ್ಕೆ ಇಳಿದಿದೆ ಎಂದು 3 ಮಿಲಿಯನ್ ಮುಖ್ಯ ಕಾರ್ಯನಿರ್ವಾಹಕ ಸ್ಟೀಫನ್ ಬೊಮ್ಹಾರ್ಡ್ ಹೇಳಿದರು, ಹಲವಾರು ಮಾರುಕಟ್ಟೆಗಳಲ್ಲಿ ಸವಾಲಿನ ಡೈನಾಮಿಕ್ಸ್\\u200cನ ಹಿನ್ನೆಲೆಯ ವಿರುದ್ಧ 2019 ರಲ್ಲಿ ನಮ್ಮ ಸಾಧನೆ ಇಂಚೇಪ್ಸ್ ವ್ಯವಹಾರ ಮಾದರಿಯಲ್ಲಿ ಸ್ಥಿತಿಸ್ಥಾಪಕತ್ವವನ್ನು ತೋರಿಸುತ್ತದೆ. ಕಂಪನಿಯು ವರ್ಷಕ್ಕೆ ಲಾಭವು ಸಾಧಾರಣವಾಗಿ ಕಡಿಮೆಯಾಗಲಿದೆ ಎಂದು ನಾವು ನಿರೀಕ್ಷಿಸುತ್ತೇವೆ ಇದು 2019 ರಲ್ಲಿ ವಿಲೇವಾರಿ ಮಾಡಿದ ನಂತರ ಕಳೆದುಹೋದ ನಿರೀಕ್ಷಿತ ವಹಿವಾಟಿನ ಆಸ್ಟ್ರೇಲಿಯಾದ ಡಾಲರ್ ಜಪಾನೀಸ್ ಯೆನ್ ಹೆಡ್\\u200cವಿಂಡ್ ಲಾಭವನ್ನು ಹೊರತುಪಡಿಸುತ್ತದೆ ಮತ್ತು ಕರೋನವೈರಸ್ ಕೀ ಡ್ರೈವರ್\\u200cಗಳಿಂದ ಯಾವುದೇ ಪರಿಣಾಮವು ಸಿಂಗಾಪುರದಲ್ಲಿ ಮಾರುಕಟ್ಟೆ ಸಂಕೋಚನವನ್ನು ಒಳಗೊಂಡಿರುತ್ತದೆ. ಆಸ್ಟ್ರೇಲಿಯಾದ ಮಾರುಕಟ್ಟೆಯಲ್ಲಿ ಕಾಂಗ್ ಮತ್ತು ದೌರ್ಬಲ್ಯ\",1\\n\"ಪ್ರಸ್ತುತ ಹಲವಾರು ನಕಲಿ ಜಾಹೀರಾತುಗಳು ಫೇಸ್\\u200cಬುಕ್\\u200cನಲ್ಲಿ ತಮ್ಮ ತಿರುವುಗಳನ್ನು ಪಡೆದುಕೊಳ್ಳುತ್ತಿವೆ ಮತ್ತು ಕರೋನವೈರಸ್ COVID 19 ಕಾದಂಬರಿಯ ವಿರುದ್ಧ ಪರಿಹಾರವನ್ನು ನೀಡುವುದಾಗಿ ಹೇಳಿಕೊಂಡಿದೆ. ಬಿಸಿನೆಸ್ ಇನ್ಸೈಡರ್ ಫೇಸ್\\u200cಬುಕ್\\u200cಗೆ ನೀಡಿದ ಹೇಳಿಕೆಯಲ್ಲಿ ಕಂಪನಿಯು ತನ್ನ ಮಾರ್ಕೆಟ್\\u200cಪ್ಲೇಸ್ ಪ್ಲಾಟ್\\u200cಫಾರ್ಮ್\\u200cಗೆ ಸಹ ಇದೇ ರೀತಿಯ ನೀತಿಗಳನ್ನು ಹೊಂದಿದೆ ಎಂದು ದೃ confirmed ಪಡಿಸಿದೆ, ಅದು ಬಳಕೆದಾರರಿಗೆ ವಸ್ತುಗಳನ್ನು ಖರೀದಿಸಲು ಮತ್ತು ಮಾರಾಟ ಮಾಡಲು ಅನುವು ಮಾಡಿಕೊಡುತ್ತದೆ ಕರೋನವೈರಸ್ ಅನ್ನು ಉಲ್ಲೇಖಿಸುವ ಉತ್ಪನ್ನಗಳಿಗೆ ಜಾಹೀರಾತುಗಳನ್ನು ನಿಲ್ಲಿಸಲು ಮತ್ತು ಸೀಮಿತ ಪೂರೈಕೆಯನ್ನು ಸೂಚಿಸುವ ಅಥವಾ ಚಿಕಿತ್ಸೆ ಅಥವಾ ತಡೆಗಟ್ಟುವಿಕೆಯನ್ನು ಖಾತರಿಪಡಿಸುವಂತಹ ತುರ್ತು ಪ್ರಜ್ಞೆಯನ್ನು ಸೃಷ್ಟಿಸುವ ಕ್ರಮಗಳನ್ನು ತೆಗೆದುಕೊಳ್ಳುವ ಮೂಲಕ ವಿಶ್ವ ಆರೋಗ್ಯ ಸಂಸ್ಥೆಯ ಪ್ರಯತ್ನಗಳನ್ನು ಬೆಂಬಲಿಸಲು ಫೇಸ್\\u200cಬುಕ್ ತನ್ನ ಅತ್ಯುತ್ತಮ ಪ್ರಯತ್ನವನ್ನು ಮಾಡುತ್ತಿದೆ. ಈ ಹಕ್ಕಿನ ಹೊರತಾಗಿಯೂ ಹಲವಾರು ವಿರೋಧಿ ಲಸಿಕೆ ಜಾಹೀರಾತುಗಳು ಪ್ಲಾಟ್\\u200cಫಾರ್ಮ್\\u200cನಲ್ಲಿ ಪಾಪ್ ಅಪ್ ಆಗಿವೆ ಎಂದು ವರದಿಗಳು ಸೂಚಿಸಿವೆ, ಆ ಜಾಹೀರಾತುಗಳಲ್ಲಿ ಯಾವುದೂ ಸೆಟ್ ನೀತಿಗಳನ್ನು ಉಲ್ಲಂಘಿಸಿಲ್ಲ ಎಂದು ಫೇಸ್\\u200cಬುಕ್ ಉತ್ತರಿಸಿದೆ. ಲಸಿಕೆ ತಪ್ಪು ಮಾಹಿತಿ ಹೊಂದಿರುವ ಜಾಹೀರಾತುಗಳನ್ನು ನಿಷೇಧಿಸುವುದು ನಮ್ಮ ನೀತಿಯಾಗಿದೆ ಎಂದು ಫೇಸ್\\u200cಬುಕ್ ಬ uzz ್ಫೀಡ್ ನ್ಯೂಸ್\\u200cಗೆ ತಿಳಿಸಿದೆ. ಇದು ಲಸಿಕೆಗಳಿಗೆ ವಿರೋಧ ವ್ಯಕ್ತಪಡಿಸುತ್ತದೆ\",0\\nಮೇಲ್ನೋಟಕ್ಕೆ ಇಯು ಮತ್ತು ನಿರ್ದಿಷ್ಟವಾಗಿ ಯುರೋಪಿಯನ್ ಸೆಂಟರ್ ಫಾರ್ ಡಿಸೀಸ್ ಪ್ರಿವೆನ್ಷನ್ ಅಂಡ್ ಕಂಟ್ರೋಲ್ ಇಸಿಡಿಸಿ ವೈರಸ್ ಅನ್ನು ಎದುರಿಸಲು ಪೂರ್ವಭಾವಿಯಾಗಿ ಕಾರ್ಯನಿರ್ವಹಿಸುತ್ತಿದೆ ಎಂದು ತೋರುತ್ತಿದೆ. ಇಟಲಿ ಫ್ರಾನ್ಸ್ ಮತ್ತು ಇತರ ಪಶ್ಚಿಮ ಯುರೋಪಿಯನ್ ದೇಶಗಳಲ್ಲಿ ಇತ್ತೀಚಿನ ಹರಡುವಿಕೆಯ ಹೊರತಾಗಿಯೂ ಇಸಿಡಿಸಿ ಡಿಡಬ್ಲ್ಯೂಗೆ ಇಯು ದೇಶಗಳಿಗೆ ತಿಳಿಸಿದೆ ಮತ್ತು ಯುರೋಪಿಯನ್ ಎಕನಾಮಿಕ್ ಏರಿಯಾದಲ್ಲಿರುವವರು ರಾಷ್ಟ್ರೀಯ ಆರೋಗ್ಯ ಪ್ರಾಧಿಕಾರಗಳಿಂದ ಸಕ್ರಿಯಗೊಳಿಸಬಹುದಾದ ಬೆದರಿಕೆಯನ್ನು ಮತ್ತು ಸಾಂಕ್ರಾಮಿಕ ಸನ್ನದ್ಧತೆ ಯೋಜನೆಗಳನ್ನು ಎದುರಿಸುವ ಪ್ರಯತ್ನಗಳನ್ನು ಬೆಂಬಲಿಸುವ ಒಂದು ಮಟ್ಟದ ಸನ್ನದ್ಧತೆಯನ್ನು ಹೊಂದಿದ್ದಾರೆ. ದೇಶದ ಆರ್ಥಿಕ ಶಕ್ತಿಗಿಂತ ಉತ್ತಮ ಯೋಜನೆ ಮುಖ್ಯ ಎಂದು ಆರೋಗ್ಯ ಸಂಸ್ಥೆ ಯುರೋಪ್ ಸನ್ನದ್ಧತೆ ಮತ್ತು ಸಾಮರ್ಥ್ಯ ವೃದ್ಧಿ ತಂಡ ಹೇಳಿದೆ. ಇಟಲಿಯ ಕ್ಲಸ್ಟರ್\\u200cಗಳ ಮೌಲ್ಯಮಾಪನವು ನಿರ್ಣಾಯಕ ಮಾಹಿತಿಯನ್ನು ಒದಗಿಸುತ್ತದೆ ಎಂದು ಇಸಿಡಿಸಿ ನಿರ್ದೇಶಕ ರೋಮ್\\u200cನಲ್ಲಿ ಬುಧವಾರ ಪತ್ರಿಕಾಗೋಷ್ಠಿಯಲ್ಲಿ ಹೇಳಿದರು. ಇತರ ಇಯು ದೇಶಗಳಿಗೆ ಇದರ ಅರ್ಥವೇನೆಂದರೆ ಸಹಜವಾಗಿ ವ್ಯತ್ಯಾಸವಿದೆ ಅಗತ್ಯ ಮಟ್ಟಗಳು ಮತ್ತು ವಿವಿಧ ಹಂತದ ಅಪಾಯಗಳು ಆದರೆ ಎಲ್ಲಾ ದೇಶಗಳು ಹೊಸ ಕರೋನವೈರಸ್\\u200cಗಾಗಿ ಕಾರ್ಯತಂತ್ರದ ಪೂರ್ವಸಿದ್ಧತೆ ಮತ್ತು ಪ್ರತಿಕ್ರಿಯೆ ಯೋಜನೆ ಯಾರೆಂಬುದರ ಮೂಲಕ ಆಯಾ ಯೋಜನೆಗಳನ್ನು ಅಭಿವೃದ್ಧಿಪಡಿಸುತ್ತಿವೆ ಆದ್ದರಿಂದ ಸಂಪನ್ಮೂಲಗಳು ಎಲ್ಲಿ ಅಗತ್ಯವಿದೆಯೋ ಅಲ್ಲಿ ಅಂತರವನ್ನು ಗುರುತಿಸಲಾಗುತ್ತದೆ,0\\n\"2019 ರ 1 773 ಬಿಲಿಯನ್ ಮಾರಾಟವು ದಾಖಲೆಯ ಬೆಳವಣಿಗೆಯ ಸತತ ಮೂರನೇ ವರ್ಷವಾಗಿದೆ .191 ರ ಕಾರ್ಯಾಚರಣೆಯ ಲಾಭ 130 8 ಮಿಲಿಯನ್ ಮತ್ತು 110 ರ ಹಿಂದಿನ ವರ್ಷ 4 ಮಿಲಿಯನ್ 201119 ನಿವ್ವಳ ಆದಾಯ 66 6 ಮಿಲಿಯನ್ ಮತ್ತು 23 ವರ್ಷದ ಹಿಂದಿನ ವರ್ಷ 4 4 ಮಿಲಿಯನ್2019 ಹೊಂದಾಣಿಕೆಯ ಇಬಿಐಟಿಡಿಎ 210 8 ಮಿಲಿಯನ್ ಮತ್ತು 221 ರ ಹಿಂದಿನ ವರ್ಷ 6 ಮಿಲಿಯನ್ ಪಿಟ್ಸ್\\u200cಬರ್ಗ್ ಫೆಬ್ರವರಿ 27 2020 ಪಿಆರ್\\u200cನ್ಯೂಸ್ವೈರ್ ಕೊಪ್ಪರ್ಸ್ ಹೋಲ್ಡಿಂಗ್ಸ್ ಇಂಕ್ ಎನ್ವೈಎಸ್ಇ ಕೆಒಪಿ ಸಂಸ್ಕರಿಸಿದ ಮರದ ಉತ್ಪನ್ನಗಳ ಸಂಯೋಜಿತ ಜಾಗತಿಕ ಪೂರೈಕೆದಾರ ಮರದ ಸಂಸ್ಕರಣಾ ರಾಸಾಯನಿಕಗಳು ಮತ್ತು ಇಂಗಾಲದ ಸಂಯುಕ್ತಗಳು ಇಂದು ನಿವ್ವಳ ಆದಾಯವನ್ನು ಕೊಪ್ಪರ್ಸ್\\u200cಗೆ ನಾಲ್ಕನೇ ತ್ರೈಮಾಸಿಕದಲ್ಲಿ 20 6 ಮಿಲಿಯನ್ ಅಥವಾ ದುರ್ಬಲಗೊಳಿಸಿದ ಪ್ರತಿ ಷೇರಿಗೆ 0 96 ರಷ್ಟು ನಿವ್ವಳ ನಷ್ಟಕ್ಕೆ ಹೋಲಿಸಿದರೆ ವರದಿ ಮಾಡಿದೆ. ಹಿಂದಿನ ವರ್ಷದ ತ್ರೈಮಾಸಿಕದಲ್ಲಿ ದುರ್ಬಲಗೊಳಿಸಿದ ಪ್ರತಿ ಷೇರಿಗೆ 2 6 ಮಿಲಿಯನ್ ಅಥವಾ 0 13 ರಂತೆ ಹೊಂದಾಣಿಕೆಯಾದ ನಿವ್ವಳ ಆದಾಯ ಮತ್ತು ಪ್ರತಿ ಷೇರಿಗೆ ಹೊಂದಾಣಿಕೆಯ ಗಳಿಕೆ ಇಪಿಎಸ್ 6 2 ಮಿಲಿಯನ್ ಮತ್ತು 2019 ರ ನಾಲ್ಕನೇ ತ್ರೈಮಾಸಿಕದಲ್ಲಿ ಪ್ರತಿ ಷೇರಿಗೆ 0 29 ರಷ್ಟಿದ್ದರೆ 12 4 ಮಿಲಿಯನ್ ಮತ್ತು ಪ್ರತಿ ಷೇರಿಗೆ 0 60 ಹಿಂದಿನ ವರ್ಷದ ತ್ರೈಮಾಸಿಕ ಕ್ರಮವಾಗಿ ಕೊಪ್ಪರ್ಸ್ ಇತ್ತೀಚೆಗೆ ಕೊಪ್ಪರ್ಸ್ ಜಿಯಾಂಗ್ಸು ಕಾರ್ಬನ್ ಕೆಮಿಕಲ್ ಕಂಪನಿ ಲಿಮಿಟೆಡ್ ಕೆಜೆಸಿಸಿಯನ್ನು 75 ಪ್ರತಿಶತದಷ್ಟು ಮಾರಾಟ ಮಾಡಲು ಖಚಿತವಾದ ಒಪ್ಪಂದ ಮಾಡಿಕೊಂಡಿದೆ ಎಂದು ಘೋಷಿಸಿತು ಒಡೆತನದ ಚೀನಾ ಕಲ್ಲಿದ್ದಲು ಟಾರ್ ಬಟ್ಟಿ ಇಳಿಸುವಿಕೆಯ ವ್ಯವಹಾರವು ಉಳಿದ 25 ಪ್ರತಿಶತದಷ್ಟು ಯಿ iz ೌ ಗ್ರೂಪ್ ಕಂಪನಿ ಲಿಮಿಟೆಡ್ ಒಡೆತನದಲ್ಲಿದೆ. ಕೆಜೆಸಿಸಿ ಕೊಪ್ಪರ್ಸ್ ಗಳಿಸಿದ ಲಾಭದ ಕೊಡುಗೆಯನ್ನು ಹೊರತುಪಡಿಸಿ, 2015 ರಿಂದ ಪ್ರಾರಂಭವಾಗುವ ಅವಧಿಗೆ ಮತ್ತು ಪ್ರತಿವರ್ಷ 2019 ರವರೆಗೆ ಸಂಯುಕ್ತ ವಾರ್ಷಿಕ ಬೆಳವಣಿಗೆಯನ್ನು ಪ್ರತಿನಿಧಿಸುತ್ತದೆ ಶೇಕಡಾ 7 ರ ದರ ಮುನ್ಸೂಚನೆಯ ಬಗ್ಗೆ ಪ್ರತಿಕ್ರಿಯಿಸಿದ ಶ್ರೀ ಬಾಲ್, ಕೆಜೆಸಿಸಿಯನ್ನು ಹೊರತುಪಡಿಸಿ ನಮ್ಮ ಬಂಡವಾಳವು ಸತತ ಆರನೇ ವರ್ಷದ ಲಾಭದಾಯಕ ಸುಧಾರಣೆಯನ್ನು ತುಲನಾತ್ಮಕ ಆಧಾರದ ಮೇಲೆ ಅರಿತುಕೊಳ್ಳಲು ಉದ್ದೇಶಿಸಿದೆ, ಇದು ಕೊಪ್ಪರ್ಸ್ ತಂತ್ರದ ಮುಂದುವರಿದ ಶಕ್ತಿಯನ್ನು ತೋರಿಸುತ್ತದೆ\",0\\n\"ರಾಯಿಟರ್ಸ್ ರೆಕ್ಕಿಟ್ ಬೆನ್\\u200cಕಿಸರ್\\u200cನ ಆರ್\\u200cಬಿ ಎಲ್ ಹೊಸ ಸಿಇಒ ಮುಂದಿನ ಮೂರು ವರ್ಷಗಳಲ್ಲಿ 2 ಬಿಲಿಯನ್ ಪೌಂಡ್\\u200cಗಳನ್ನು ಖರ್ಚು ಮಾಡುವ ಯೋಜನೆಯನ್ನು ಅನಾವರಣಗೊಳಿಸಿದ್ದು, ಕಂಪನಿಯು ತನ್ನ ಬೇಬಿ ಫಾರ್ಮುಲಾ ವ್ಯವಹಾರದ ಮೌಲ್ಯದ ಮೇಲೆ 5 ಬಿಲಿಯನ್ ಪೌಂಡ್ ರಿಟೌನ್ ಡೌನ್ ತೆಗೆದುಕೊಂಡಿದ್ದರಿಂದ ಮೀಡ್ ಜಾನ್ಸನ್ ರೆಕಿಟ್ ಮೀಡ್ ಜಾನ್ಸನ್\\u200cರನ್ನು ಸುಮಾರು ಖರೀದಿಸಿದರು ಅಭಿವೃದ್ಧಿ ಹೊಂದುತ್ತಿರುವ ಮಾರುಕಟ್ಟೆಗಳಲ್ಲಿ ಬ್ರಾಂಡೆಡ್ ಬೇಬಿ ಫಾರ್ಮುಲಾ ಉತ್ಪನ್ನಗಳಿಗೆ ಹೆಚ್ಚುತ್ತಿರುವ ಬೇಡಿಕೆಯ ಮೇಲೆ 2017 ರಲ್ಲಿ 13 ಬಿಲಿಯನ್ ಪೌಂಡ್ಗಳು ಬೆಟ್ಟಿಂಗ್ ಮಾಡಲಾಗಿದ್ದು, ವಿಶೇಷವಾಗಿ ಚೀನಾ ರೆಕಿಟ್ ಷೇರುಗಳು ಸಕಾರಾತ್ಮಕ ಪ್ರದೇಶಕ್ಕೆ ಮರಳುವ ಮೊದಲು 5 ಕ್ಕಿಂತಲೂ ಕಡಿಮೆಯಾಗಿದೆ ಎಂದು ವಿಶ್ಲೇಷಕರು ಹೇಳಿದ್ದಾರೆ, ಏಕೆಂದರೆ ರೆಕ್ಕಿಟ್ ತನ್ನ ಗುರಿಗಳ ಮೇಲೆ ಹೆಚ್ಚಿನ ಸಾಧನೆ ಮಾಡಲಿಲ್ಲ ಹೊಸ ಯೋಜನೆಗಳು ನರಸಿಂಹನ್ ಅವರ ಯೋಜನೆಗಳು ಸೇರಿವೆ ಮೂರು ವರ್ಷಗಳಲ್ಲಿ 2 ಬಿಲಿಯನ್ ಪೌಂಡ್ಗಳಷ್ಟು ಹೂಡಿಕೆಯನ್ನು ಸುರಿಯುವುದರಿಂದ ರೆಕ್ಕಿಟ್ ಅನ್ನು ಮಧ್ಯದ ಏಕ-ಅಂಕಿಯ ಮಾರಾಟಕ್ಕೆ ಹಿಂದಿರುಗಿಸಲು ಸಹಾಯ ಮಾಡುತ್ತದೆ ಮತ್ತು ಪ್ರತಿ ಷೇರಿನ ಬೆಳವಣಿಗೆಗೆ ಗಳಿಕೆ 7 9 ಬದಲಿಗೆ ಕಂಪನಿಯು 1 3 ಬಿಲಿಯನ್ ಪೌಂಡ್\\u200cಗಳ ಆಂತರಿಕ ಉತ್ಪಾದಕತೆ ಉಳಿತಾಯದ ಮೂಲಕ ಹೊಸ ಹೂಡಿಕೆಗೆ ಹಣವನ್ನು ಒದಗಿಸಲು ಯೋಜಿಸಿದೆ ಮತ್ತು ಅದು ಅದರ ಹೊಂದಾಣಿಕೆಯ ಅಂಚುಗಳನ್ನು ಕಡಿಮೆ ಮಾಡುತ್ತದೆ ಸುಮಾರು 3 5 ರಷ್ಟು ಅಂಕಗಳು ಮತ್ತು 2020 ರಲ್ಲಿ ಹೊಂದಾಣಿಕೆಯ ಗಳಿಕೆಯಲ್ಲಿ 20 ಕುಸಿತ\",1\\n\"ಬಿಟಿಐ ಬಡ್ ಪಿಎಂ ಎಫ್\\u200cಆರ್\\u200cಟಿ ಡಿ ಬಿಐಪಿ ಮತ್ತು ಪಿಪಿಎಲ್ ಕಡಿಮೆ ಐತಿಹಾಸಿಕ ಚಂಚಲತೆ ಮತ್ತು ಸರಾಸರಿ ಇಳುವರಿ ಹೊಂದಿರುವ ರಕ್ಷಣಾತ್ಮಕ ವಲಯದ ಹೆಸರುಗಳು ಸಮಂಜಸವಾಗಿ ಅಥವಾ ಆಕರ್ಷಕವಾಗಿವೆ. 4 ಈ ಮೇಲಿನ ಸರಾಸರಿ ಗುಣಮಟ್ಟದ ರಕ್ಷಣಾತ್ಮಕ ಕಡಿಮೆ ಚಂಚಲತೆಯ ಷೇರುಗಳನ್ನು ಖರೀದಿಸುವುದರಿಂದ ಮುಂಬರುವ ವರ್ಷಗಳಲ್ಲಿ ಮಾರುಕಟ್ಟೆಯನ್ನು ಸೋಲಿಸಬಹುದು. ಚೀನಾಕ್ಕೆ ಕನಿಷ್ಠ ಮಾನ್ಯತೆ ಹೊಂದಿರುವ ರಕ್ಷಣಾತ್ಮಕ ಸ್ಟಾಕ್\\u200cಗಳ ಹೆಚ್ಚಿನ ಇಳುವರಿ ಹೊಂದಿರುವ ನೀಲಿ ಚಿಪ್ ಪೋರ್ಟ್ಫೋಲಿಯೊವನ್ನು ಹೊಂದಿದ್ದು, ಇದರ ಸರಾಸರಿ ಚಂಚಲತೆಯು ಲಾಭಾಂಶದ ಶ್ರೀಮಂತರಿಗೆ ಸಮಾನವಾಗಿರುತ್ತದೆ. ಈ 11 ಷೇರುಗಳು ಏಳು ಸಾಬೀತಾಗಿರುವ ಆಲ್ಫಾ ಅಂಶಗಳಲ್ಲಿ ಐದನ್ನು ಪ್ರತಿನಿಧಿಸುತ್ತವೆ ಆದರೆ ನಾನು ನಿಮಗೆ 7 ಸುರಕ್ಷಿತ ಹೆಚ್ಚಿನ ಇಳುವರಿ ನೀಲಿ ಚಿಪ್\\u200cಗಳನ್ನು ಭರವಸೆ ನೀಡಿದ್ದೇನೆ ಲಾಭಾಂಶದ ಶ್ರೀಮಂತರಿಗೆ ಸರಾಸರಿ 22 ಕ್ಕಿಂತ ಹೆಚ್ಚು ವಾರ್ಷಿಕ ಚಂಚಲತೆಯನ್ನು ಹೊಂದಿರುವ ಯಾವುದೇ ಕಂಪನಿಯನ್ನು ನಾವು ಪ್ರದರ್ಶಿಸುತ್ತೇವೆ. 1927 ರಿಂದ ಕಡಿಮೆ ಚಂಚಲತೆಯ ಷೇರುಗಳು 15 ದಶಕಗಳ ಕಾಲ ವಿಶಾಲ ಮಾರುಕಟ್ಟೆಯಲ್ಲಿ ಉತ್ತಮ ಸಾಧನೆ ತೋರಿವೆ\",0\\n\"ಹೊಸ ಸಮೀಕ್ಷೆಯಲ್ಲಿ ಐವತ್ತಮೂರು ಪ್ರತಿಶತದಷ್ಟು ಜನರು ವಿಶ್ವದ ಸ್ಥಾನದ ಬಗ್ಗೆ ತೃಪ್ತರಾಗಿದ್ದಾರೆಂದು 2019 ರಿಂದ 8 ಪಾಯಿಂಟ್ ಹೆಚ್ಚಳವಾಗಿದೆ ಎಂದು ಹೇಳಿದರು ಆದರೆ ಅಧ್ಯಕ್ಷ ಟ್ರಂಪ್ ಡೊನಾಲ್ಡ್ ಜಾನ್ ಟ್ರಂಪ್ ಟ್ರಂಪ್ ಅವರು ಪೆನ್ಸ್ ಅನ್ನು ಅಪಾಯಕಾರಿ ಬಕ್ ಓವರ್ನೈಟ್ ಹೆಲ್ತ್ ಕೇರ್ ಅನ್ನು ಹಾದುಹೋಗುತ್ತಾರೆ ಎಂದು ನಂಬುತ್ತೀರಾ ಎಂದು ಪ್ರತಿಕ್ರಿಯಿಸಿದವರನ್ನು ಸಹ ಕೇಳಲಾಯಿತು. ಅಮೆರಿಕನ್ ಹೆಲ್ತ್ ಕೇರ್ ಅಸೋಸಿಯೇಷನ್ \\u200b\\u200bಪ್ರಸ್ತುತಪಡಿಸಿದ ಪೆರೋಸ್ ಪೆರೋಸಿ ಪ್ಯಾನಿಕ್ ಸಿಡಿಸಿ ರಚಿಸಲು ಪ್ರಯತ್ನಿಸುತ್ತಿದೆ ಎಂದು ಟ್ರಂಪ್ ಆರೋಪಿಸಿದ್ದಾರೆ ಸಿಡಿಸಿ ಅಪರಿಚಿತ ಮೂಲದ ಪ್ರಕರಣವನ್ನು ದೃ ms ಪಡಿಸುತ್ತದೆ ಶುಮರ್ 5 ಬಿಲಿಯನ್ ತುರ್ತು ನಿಧಿಗಳನ್ನು ಬಯಸುತ್ತಾನೆ ಸೀನುವ ನಂತರ ಸಾಧ್ಯವಾದಷ್ಟು ಇತರ ವಿಶ್ವ ನಾಯಕರು ಗೌರವಿಸುತ್ತಾರೆ ಮತ್ತು ಕೇವಲ 37 ಪ್ರತಿಶತದಷ್ಟು ಜನರು ಹೌದು ಎಂದು ಹೇಳಿದರು ಈ ಪ್ರಶ್ನೆಯು ರಿಪಬ್ಲಿಕನ್ ಮತ್ತು ಡೆಮೋಕ್ರಾಟ್ ನಡುವೆ ದೊಡ್ಡ ಅಂತರವನ್ನು ಹೊಂದಿದೆ, ಏಕೆಂದರೆ 74 ಪ್ರತಿಶತದಷ್ಟು ರಿಪಬ್ಲಿಕನ್ನರು ಅಧ್ಯಕ್ಷರನ್ನು ಇತರ ವಿಶ್ವ ನಾಯಕರು ಗೌರವಿಸುತ್ತಾರೆ ಎಂದು ಹೇಳಿದರು ಆದರೆ ಕೇವಲ 6 ಪ್ರತಿಶತದಷ್ಟು ಡೆಮೋಕ್ರಾಟ್ ಗ್ಯಾಲಪ್ ಪ್ರಕಾರ ಇತ್ತೀಚಿನ ಫಲಿತಾಂಶಗಳನ್ನು ಮಾಜಿ ಅಧ್ಯಕ್ಷ ಜಾರ್ಜ್ ಡಬ್ಲ್ಯೂಬಿಗೆ ಹೋಲಿಸಬಹುದು ಉಶ್ ಅವರ ಅಧ್ಯಕ್ಷತೆಯ ಅದೇ ಹಂತದಲ್ಲಿ ಹೋಲಿಕೆ ಮಾಡುವ ಮೂಲಕ 51 ಪ್ರತಿಶತದಷ್ಟು ಅಮೆರಿಕನ್ನರು ಮಾಜಿ ಅಧ್ಯಕ್ಷ ಒಬಾಮಾ ಅವರನ್ನು ಅಧ್ಯಕ್ಷ ಸ್ಥಾನದಲ್ಲಿ ಅದೇ ಸಮಯದಲ್ಲಿ ವಿದೇಶಿ ನಾಯಕರು ಗೌರವಿಸುತ್ತಾರೆ ಎಂದು ನಂಬಿದ್ದಾರೆ ಎಂದು ಹೇಳಿದರು.\",1\\n\"ದಕ್ಷಿಣ ಕೊರಿಯಾ ಮತ್ತು ಚೀನಾಗಳು ಗುರುವಾರ ನೂರಾರು ಹೆಚ್ಚು COVID 19 ಪ್ರಕರಣಗಳನ್ನು ವರದಿ ಮಾಡಿವೆ, ಏಕೆಂದರೆ ಹೊಸ ಅನಾರೋಗ್ಯವು ಹೆಚ್ಚು ಹಾನಿಗೊಳಗಾದ ಪ್ರದೇಶಗಳಲ್ಲಿ ಮುಂದುವರೆದಿದೆ ಮತ್ತು ಗಡಿಯನ್ನು ಮೀರಿ ಹರಡಿತು. ಹೆಚ್ಚಿನ ಹೊಸ ಪ್ರಕರಣಗಳು ದೇಶದ ನಾಲ್ಕನೇ ಅತಿದೊಡ್ಡ ನಗರ ಡೇಗುದಲ್ಲಿವೆ, ಅಲ್ಲಿ ಏಕಾಏಕಿ ತೀವ್ರವಾಗಿ ಹೊಡೆದಿದೆ ಮತ್ತು ರಾಷ್ಟ್ರೀಯ ಸರ್ಕಾರ ಪ್ರದೇಶದ ವಿಪರೀತ ವೈದ್ಯಕೀಯ ವ್ಯವಸ್ಥೆಗೆ ಸಹಾಯ ಮಾಡಲು ಸಾರ್ವಜನಿಕ ಆರೋಗ್ಯ ಸಾಧನಗಳನ್ನು ಸಜ್ಜುಗೊಳಿಸಿದೆ ಕಥೆ ಜಾಹೀರಾತಿನ ಕೆಳಗೆ ಮುಂದುವರಿಯುತ್ತದೆ ಹೊಸ ಪ್ರಕರಣಗಳಲ್ಲಿ 383 ವುಹಾನ್ ನಗರದ ಕೇಂದ್ರಬಿಂದುವಿನಲ್ಲಿ ಡಿಸೆಂಬರ್\\u200cನಲ್ಲಿ ವೈರಸ್ ಮೊದಲ ಬಾರಿಗೆ ಹೊರಹೊಮ್ಮಿತು. ಸಾಂಕ್ರಾಮಿಕ ರೋಗವು ವಿಸ್ತರಿಸಿದಂತೆ COVID 19 ಅನಾರೋಗ್ಯದ ಬಗ್ಗೆ ಜಾಗತಿಕ ಆತಂಕಗಳು ಹೆಚ್ಚಾಗುತ್ತಿವೆ ಭೌಗೋಳಿಕವಾಗಿ ಮತ್ತು ಮೊದಲ ಬಾರಿಗೆ ಚೀನಾದ ಹೊರಗೆ ದೇಶದೊಳಗೆ ಹೆಚ್ಚು ಹೊಸ ಪ್ರಕರಣಗಳಿಗೆ ಕಾರಣವಾಯಿತು 3 51 ಇಟಲಿ ಈಗ ಯುರೋಪಿನ COVID 19 ಏಕಾಏಕಿ ಇಟಲಿ ಈಗ ಯುರೋಪಿನ COVID 19 ಏಕಾಏಕಿ ಮಧ್ಯಪ್ರಾಚ್ಯದಲ್ಲಿ ಬಹ್ರೇನ್ ಕುವೈತ್ ಮತ್ತು ಇರಾಕ್ನಲ್ಲಿ ಪ್ರಕರಣಗಳು ಹೆಚ್ಚಾದ ಮಧ್ಯದಲ್ಲಿ ಇರಾನ್\\u200cನಲ್ಲಿ 19 ಸಾವುಗಳು ಚೀನಾದ ಹೊರಗೆ ಅತಿ ಹೆಚ್ಚು ಸಂಭವಿಸಿವೆ\",0\\nಬೆರ್ಲಿನ್ ಫೆಬ್ರವರಿ 27 ರಾಯಿಟರ್ಸ್ ಕರೋನವೈರಸ್ ಸಾಂಕ್ರಾಮಿಕವು ಆರ್ಥಿಕತೆಗೆ ಕಠಿಣ ವ್ಯವಹಾರವನ್ನು ಹೊಡೆದರೆ ಹಣಕಾಸಿನ ಉತ್ತೇಜನ ಕಾರ್ಯಕ್ರಮವನ್ನು ಪ್ರಾರಂಭಿಸಲು ಜರ್ಮನ್ ಸರ್ಕಾರ ಚಿಂತಿಸುತ್ತಿದೆ. ಸರ್ಕಾರಿ ಮೂಲಗಳನ್ನು ಉಲ್ಲೇಖಿಸಿ ಹ್ಯಾಂಡೆಲ್ಸ್ಬ್ಲಾಟ್ ಗುರುವಾರ ವರದಿ ಮಾಡಿದೆ. ನಾವು ಪ್ರಸ್ತುತ ವಿವಿಧ ಸನ್ನಿವೇಶಗಳನ್ನು ಮತ್ತು ಆರ್ಥಿಕತೆಯ ನೆರವು ಕ್ರಮಗಳನ್ನು ಪರಿಶೀಲಿಸುತ್ತಿದ್ದೇವೆ ಎಂದು ಪತ್ರಿಕೆ ಅಧಿಕೃತ ಉಲ್ಲೇಖಿಸಿದೆ ವೈರಸ್ ಎಷ್ಟು ಹರಡುತ್ತದೆ ಎಂಬುದರ ಆಧಾರದ ಮೇಲೆ ಟೇಬಲ್\\u200cನಲ್ಲಿ ವಿಭಿನ್ನ ಆಯ್ಕೆಗಳಿವೆ. ಕೆಲವೇ ದಿನಗಳಲ್ಲಿ ಯೋಜನೆ ಲಭ್ಯವಿರಬೇಕು ಎಂದು ಅಧಿಕಾರಿ ಹೇಳಿದರು,1\\n\"ಇಂದು ಒಂದು ವರದಿಯು ಆಪಲ್ ಒಂದು ಪ್ರಮುಖ ಅನುಭವಿ ಕಾರ್ಯನಿರ್ವಾಹಕನನ್ನು ಕಳೆದುಕೊಂಡಿದೆ ಮತ್ತು ಕಾರ್ಯಾಚರಣೆಗಳು ಮತ್ತು ಪೂರೈಕೆ ಸರಪಳಿ ನಿರ್ವಹಣೆಯಲ್ಲಿ ಕೆಲಸ ಮಾಡುವ ಪ್ರತಿಯೊಬ್ಬರನ್ನು ಕಳೆದುಕೊಳ್ಳಲಿದೆ ಎಂದು ಸೂಚಿಸುತ್ತದೆ. ಆಪಲ್ ತನ್ನ ಕೀಲಿಯಲ್ಲಿ ಕೊರೊನಾವೈರಸ್ ಏಕಾಏಕಿ ಉಂಟಾಗುವ ಪೂರೈಕೆ ಸರಪಳಿ ಸಮಸ್ಯೆಗಳಿಗೆ ಸ್ಪಂದಿಸಲು ಪ್ರಯತ್ನಿಸುತ್ತಿರುವಾಗ ನಿರ್ಗಮನಗಳು ಸೂಕ್ತವಾಗಿ ಸಮಯ ಹೊಂದಿಲ್ಲ. ಉತ್ಪಾದನಾ ವಿನ್ಯಾಸದ ಉಪಾಧ್ಯಕ್ಷರಾದ ನಿಕ್ ಫೋರ್ಲೆನ್ಜಾ ಅವರು ಆಪಲ್\\u200cನಿಂದ ನಿವೃತ್ತರಾಗಿದ್ದರೆ, ಕಾರ್ಯಾಚರಣೆಯಲ್ಲಿ ಕೆಲಸ ಮಾಡಿದ ಮತ್ತೊಬ್ಬ ಉಪಾಧ್ಯಕ್ಷ ಡುಕೊ ಪಾಸ್ಮೂಯಿಜ್ ಅವರು ಮುಂದಿನ ದಿನಗಳಲ್ಲಿ ನಿರ್ಗಮನದ ಬಗ್ಗೆ ಚರ್ಚಿಸುತ್ತಿದ್ದಾರೆ. ಕಂಪನಿಯ ವರ್ಧಿತ ರಿಯಾಲಿಟಿ ಪ್ರಯತ್ನಗಳ ಪಾತ್ರದ ವರದಿಗಾರಿಕೆಗೆ ತೆರಳಿ, ಚರ್ಚಿಸುವ ಸಿಬ್ಬಂದಿಯನ್ನು ಗುರುತಿಸಬಾರದೆಂದು ಕೇಳಿದ ಜನರು ಫೋರ್ಲೆನ್ಜಾ ಕಾಹ್ನ್ ಅವರ ಅಡಿಯಲ್ಲಿ ಉತ್ಪಾದನಾ ವಿನ್ಯಾಸದ ಉಸ್ತುವಾರಿ ವಹಿಸಿಕೊಂಡರು, ಪೂರೈಕೆ ಸರಪಳಿ ಮತ್ತು ಕಾರ್ಯಾಚರಣೆಯ ಕಾರ್ಯನಿರ್ವಾಹಕರ ತಂಡವನ್ನು ಜಾಗತಿಕವಾಗಿ ಜವಾಬ್ದಾರರಾಗಿರುತ್ತಾರೆ ಉತ್ಪಾದನಾ ಪ್ರಕ್ರಿಯೆಗಳು ಮತ್ತು ಉತ್ಪಾದನಾ ಉಪಕರಣಗಳು ಪಾಸ್ಮೂಯಿಜ್ ಅನೇಕ ವರ್ಷಗಳಿಂದ ಮುನ್ನಡೆ ಸಾಧಿಸಲು ಸಹಾಯ ಮಾಡಿದರು ಆಪಲ್ನ ಪ್ರಮುಖ ಉತ್ಪನ್ನವಾದ ರೋಫೇಶನ್ ಕಾರ್ಯಾಚರಣೆಗಳು ಐಫೋನ್ ಎ ರಾಯಿಟರ್ಸ್ ವರದಿಯು ಇಂದು ಆಪಲ್ನ ಎಂಜಿನಿಯರುಗಳು ಸಾಮಾನ್ಯವಾಗಿ ಚೀನಾಕ್ಕೆ ಆಗಾಗ್ಗೆ ಹಾರಾಟ ನಡೆಸುತ್ತಿದ್ದಾರೆ ಎಂದು ತೋರಿಸುತ್ತದೆ, ಮುಂಬರುವ ಐಫೋನ್ಗಳಿಗಾಗಿ ಜೋಡಣೆ ಪ್ರಕ್ರಿಯೆಯನ್ನು ಕಂಡುಹಿಡಿಯಲು ಪ್ರಾರಂಭವಾಗುತ್ತದೆ.\",1\\nವ್ಯಾಟಿಕನ್ ಸಿಟಿ ಪೋಪ್ ಫ್ರಾನ್ಸಿಸ್ ಅನಾರೋಗ್ಯದಿಂದ ಬಳಲುತ್ತಿದ್ದಾರೆ ಮತ್ತು ಪಟ್ಟಣದಾದ್ಯಂತ ರೋಮ್ ಪಾದ್ರಿಗಳೊಂದಿಗೆ ಯೋಜಿತ ಮಾಸ್ ಅನ್ನು ಬಿಟ್ಟುಬಿಟ್ಟಿದ್ದಾರೆ ಎಂದು ಅಧಿಕಾರಿಗಳು ತಿಳಿಸಿದ್ದಾರೆ. ವ್ಯಾಟಿಕನ್ನಿಂದ ಅವರ ಅನಾರೋಗ್ಯದ ಸ್ವರೂಪದ ಬಗ್ಗೆ ಯಾವುದೇ ಮಾತುಗಳಿಲ್ಲ ಆದರೆ ಪೋಪ್ ಕೆಮ್ಮು ಮತ್ತು ಮೂಗು ing ದಿಕೊಳ್ಳುವುದನ್ನು ಬೂದಿ ಬುಧವಾರ ಸಾಮೂಹಿಕ ಸಂದರ್ಭದಲ್ಲಿ ಏನು ತಿಳಿಯಬೇಕು ಫ್ರಾನ್ಸಿಸ್ ರೋಮ್ ಪಾದ್ರಿಗಳನ್ನು ಭೇಟಿಯಾಗಲು ಪಟ್ಟಣದಾದ್ಯಂತದ ಸೇಂಟ್ ಜಾನ್ ಲ್ಯಾಟೆರನ್ ಬೆಸಿಲಿಕಾಕ್ಕೆ ಹೋಗಲು ಮತ್ತು ಲೆಂಟ್ ಫ್ರಾನ್ಸಿಸ್ನ ಆರಂಭದಲ್ಲಿ ಪ್ರಾಯಶ್ಚಿತ್ತದ ಸಾಮೂಹಿಕ ಆಚರಣೆಯನ್ನು ಆಚರಿಸಲು ನಿರ್ಧರಿಸಲಾಗಿತ್ತು ಆದರೆ ರೋಮ್ನ ಬಿಷಪ್ ಆದರೆ ಆರ್ಚ್ಡಯಸೀಸ್ನ ದಿನನಿತ್ಯದ ಓಟವನ್ನು ವಿಕಾರ್ ಫ್ರಾನ್ಸಿಸ್ಗೆ ಪ್ರತಿನಿಧಿಸುತ್ತಾನೆ ರೋಮನ್ ಬೆಸಿಲಿಕಾದಲ್ಲಿ ಬುಧವಾರ ತನ್ನ ಸಾರ್ವಜನಿಕ ಸಾಮಾನ್ಯ ಪ್ರೇಕ್ಷಕರು ಮತ್ತು ನಂತರದ ದಿನಗಳಲ್ಲಿ ಬೂದಿ ಬುಧವಾರದ ಸೇವೆಯನ್ನು ಒಳಗೊಂಡಂತೆ ಬಿಡುವಿಲ್ಲದ ವೇಳಾಪಟ್ಟಿಯನ್ನು ಹೊಂದಿದೆ,0\\n\"ನಿಮ್ಮ ಸಾಧನದಲ್ಲಿ ಮೀಡಿಯಾ ಪ್ಲೇಬ್ಯಾಕ್ ಬೆಂಬಲಿಸುವುದಿಲ್ಲ ಮಾಧ್ಯಮ ಶೀರ್ಷಿಕೆ ಐದು ದೇಶಗಳು ಐದು ಪ್ರತಿಕ್ರಿಯೆಗಳು ವುಹಾನ್ ಚೀನಾದಲ್ಲಿ ಪ್ರಾರಂಭವಾದ ಕರೋನವೈರಸ್ ಈಗ ಡಜನ್ಗಟ್ಟಲೆ ದೇಶಗಳನ್ನು ತಲುಪಿದೆ ಮತ್ತು ಇದು ಯುಎಸ್ನಲ್ಲಿ ಹರಡಲು ಪ್ರಾರಂಭಿಸುವ ಮೊದಲು ಇದು ಕೇವಲ ಸಮಯದ ವಿಷಯವಾಗಿದೆ ನಿಮ್ಮ ಸಾಧನದಲ್ಲಿ ಮಾಧ್ಯಮ ಶೀರ್ಷಿಕೆ ಕೊರೊನವೈರಸ್ ಅಪಾಯವನ್ನು ಬೆಂಬಲಿಸುವುದಿಲ್ಲ ಅಮೆರಿಕದ ಜನರಿಗೆ ತೀರಾ ಕಡಿಮೆ ಉಳಿದಿದೆ ಎಂದು ಅಧ್ಯಕ್ಷ ಡೊನಾಲ್ಡ್ ಟ್ರಂಪ್ ಹೇಳಿದ್ದಾರೆ, ಆದರೆ ಸೆಂಟರ್ಸ್ ಫಾರ್ ಡಿಸೀಸ್ ಕಂಟ್ರೋಲ್ ಸಿಡಿಸಿ ಅಧಿಕಾರಿಗಳು ವೈರಸ್ ಹರಡುತ್ತದೆ ಮತ್ತು ದೈನಂದಿನ ಜೀವನವನ್ನು ತೀವ್ರವಾಗಿ ಅಡ್ಡಿಪಡಿಸಬಹುದು ಎಂದು ಎಚ್ಚರಿಸಿದ್ದಾರೆ. ಯುಎಸ್ ಆರೋಗ್ಯ ಮುಖ್ಯಸ್ಥ ಅಲೆಕ್ಸ್ ಅಜರ್ ಅವರು ಕಾಂಗ್ರೆಸ್ಗೆ 2 5 ಬಿಲಿಯನ್ 1 9 ಬಿಲಿಯನ್ ಕೇಳಿದ್ದಾರೆ ಲಸಿಕೆ ಅಭಿವೃದ್ಧಿಪಡಿಸಲು 1 ಬಿಲಿಯನ್ಗಿಂತ ಹೆಚ್ಚಿನ ಅಗತ್ಯವಿದೆ ಚಿತ್ರ ಹಕ್ಕುಸ್ವಾಮ್ಯ ಗೆಟ್ಟಿ ಇಮೇಜಸ್ ಚಿತ್ರ ಶೀರ್ಷಿಕೆ ಕೆಲವು ಯುಎಸ್ pharma ಷಧಾಲಯಗಳು ಈಗಾಗಲೇ ಮುಖವಾಡದ ಕೊರತೆಯನ್ನು ಎದುರಿಸುತ್ತಿವೆ. ಅಧ್ಯಕ್ಷರ ರಾಜಕೀಯ ಪ್ರತಿಸ್ಪರ್ಧಿಗಳು ರಾಷ್ಟ್ರೀಯ ಭದ್ರತಾ ಮಂಡಳಿಯ ಜಾಗತಿಕ ಆರೋಗ್ಯ ಘಟಕವನ್ನು ಕೆಡವಲು ಅವರ 2018 ರ ನಿರ್ಧಾರದ ಬಗ್ಗೆ ಟೀಕೆಗಳನ್ನು ನವೀಕರಿಸಿದ್ದಾರೆ. ಇದು ವೈರಸ್\\u200cಗೆ ಕಾರಣವಾಗಬಹುದು ಸೋಂಕಿತ ಜನರು ಹರಡುವುದರಿಂದ 14 ದಿನಗಳವರೆಗೆ ಗಮನಾರ್ಹ ಲಕ್ಷಣಗಳು ಕಂಡುಬರುವುದಿಲ್ಲ\",0\\n\"ಬ್ಯಾಂಕ್ ಲಾಭವು ಅಲ್ಪಾವಧಿಯಲ್ಲಿ ಸಂಪೂರ್ಣವಾಗಿ ಅನುಭವಿಸಬಹುದಾದರೂ, ಬ್ಯಾಂಕ್ ಆಫ್ ಅಮೇರಿಕಾ ಎನ್ವೈಎಸ್ಇ ಬಿಎಸಿ ಮತ್ತು ಗೋಲ್ಡ್ಮನ್ ಸ್ಯಾಚ್ಸ್ ಎನ್ವೈಎಸ್ಇ ಜಿಎಸ್ ನಂತಹ ಕೆಲವು ರಾಕ್ ಘನ ಬ್ಯಾಂಕ್ ಷೇರುಗಳನ್ನು ನಿಮ್ಮ ಪೋರ್ಟ್ಫೋಲಿಯೊಗೆ ಸೇರಿಸಲು ಇದು ಅತ್ಯುತ್ತಮ ಸಮಯವಾಗಿದೆ. ಪ್ರಭಾವಶಾಲಿ ಬೆಳವಣಿಗೆ ಮತ್ತು ಅಮೆರಿಕದ ಬೃಹತ್ ಬಂಡವಾಳ ರಿಟರ್ನ್ಬ್ಯಾಂಕ್ ಒಂದಾಗಿದೆ ಸ್ವಲ್ಪ ಸಮಯದವರೆಗೆ ನನ್ನ ಸ್ವಂತ ಸ್ಟಾಕ್ ಪೋರ್ಟ್ಫೋಲಿಯೊದಲ್ಲಿ ಅತಿದೊಡ್ಡ ಸ್ಥಾನಗಳು ಮತ್ತು ವಿಶೇಷವಾಗಿ ಬ್ಯಾಂಕಿನ ಇತ್ತೀಚಿನ ಸಂಖ್ಯೆಗಳ ನಂತರ ಯಾವುದೇ ಸಮಯದಲ್ಲಿ ಶೀಘ್ರದಲ್ಲೇ ಬದಲಾಗಬಹುದು ಎಂದು ನಾನು ನಿರೀಕ್ಷಿಸುವುದಿಲ್ಲ, ಆದರೆ ಇತರ ಅನೇಕ ದೊಡ್ಡ ಯು ಎಸ್ ಬ್ಯಾಂಕುಗಳಲ್ಲಿ ಬೆಳವಣಿಗೆ ನಿಧಾನವಾಗಿದ್ದರೂ ಎಸ್ ಬ್ಯಾಂಕ್ ಬ್ಯಾಂಕ್ ಆಫ್ ಅಮೇರಿಕಾ ತನ್ನ ಠೇವಣಿಗಳನ್ನು ಬೆಳೆಸಿದೆ ಮತ್ತು 2019 ರಲ್ಲಿ ಸಾಲಗಳನ್ನು ಕ್ರಮವಾಗಿ 5 ಮತ್ತು 7 ರಂತೆ ಗ್ರಾಹಕ ಬ್ಯಾಂಕಿಂಗ್ ಗೋಲ್ಡ್ಮನ್ ಸ್ಯಾಚ್ಸ್ಗೆ ಐತಿಹಾಸಿಕವಾಗಿ ಶ್ರೀಮಂತ ಸಂಸ್ಥೆಗಳ ಬ್ಯಾಂಕ್ ಎಂದು ಕರೆಯಲಾಗುತ್ತದೆ ಮತ್ತು 1 ಬಡ್ಡಿದರಗಳು ಐತಿಹಾಸಿಕ ಕನಿಷ್ಠ ಮಟ್ಟದಲ್ಲಿದ್ದರೆ ಅಥವಾ ಇನ್ನೂ ಹೆಚ್ಚಿನ ಲಾಭಾಂಶ ಮತ್ತು ಬ್ಯಾಂಕ್ ಸ್ಟಾಕ್ ಬೆಲೆಗಳು ಕುಸಿಯಬಹುದು ಬ್ಯಾಂಕಿಂಗ್ ಉದ್ಯಮ\",1\\n\"ವಿಜ್ಞಾನಿಗಳು ಮತ್ತು ಸಾರ್ವಜನಿಕ ಆರೋಗ್ಯ ಅಧಿಕಾರಿಗಳು ವೈರಸ್ ಹೇಗೆ ಮತ್ತು ಯಾವಾಗ ಹರಡುತ್ತಾರೆ ಮತ್ತು ಎಷ್ಟು ಅಪಾಯಕಾರಿ ಎಂಬುದರ ಬಗ್ಗೆ ಇನ್ನೂ ಕಲಿಯುತ್ತಿರುವುದರಿಂದ ದಕ್ಷಿಣ ಕೊರಿಯಾ ವೇಗವಾಗಿ ಅಭಿವೃದ್ಧಿ ಹೊಂದುತ್ತಿರುವ ಸಾಂಕ್ರಾಮಿಕ ರೋಗವನ್ನು ಹೇಗೆ ಎದುರಿಸುವುದು ಎಂಬುದರ ಬಗ್ಗೆ ಆಕ್ರಮಣಕಾರಿ ಪ್ರಯೋಗವು ಮುಂಚೆಯೇ ಸಾಬೀತಾಗಿದೆ, ಈ ಸಮಯದಲ್ಲಿ ಮಾಹಿತಿಯನ್ನು ಹೇಗೆ ತಡೆಹಿಡಿಯಲಾಗಿದೆ ಎಂಬ ಬಗ್ಗೆ ಸಾರ್ವಜನಿಕ ಟೀಕೆಗಳಿಂದ ಹೆಚ್ಚಾಗಿ ತಿಳಿಸಲಾಗಿದೆ 2015 ರಲ್ಲಿ ಮಧ್ಯಪ್ರಾಚ್ಯ ಉಸಿರಾಟದ ಸಿಂಡ್ರೋಮ್\\u200cನ ಸ್ಥಳೀಯ ಏಕಾಏಕಿ ಆಮೂಲಾಗ್ರ ಪಾರದರ್ಶಕತೆಯ ಬದಿಯಲ್ಲಿ ದಕ್ಷಿಣ ಕೊರಿಯಾ ಆಕ್ರಮಣಕಾರಿಯಾಗಿ ತಪ್ಪಾಗಿದೆ ಮತ್ತು ಪ್ರತಿಯೊಂದು ಸಕ್ರಿಯ ಪ್ರಕರಣಗಳ ಬಗ್ಗೆ ಮಾಹಿತಿಯನ್ನು ತಕ್ಷಣವೇ ಸಾರ್ವಜನಿಕರಿಗೆ ತಳ್ಳುತ್ತಿದೆ ದಕ್ಷಿಣ ಕೊರಿಯಾವು ಚೀನಾದ ಹೊರಗೆ ಹೆಚ್ಚಿನ ಸಂಖ್ಯೆಯ ರೋಗಿಗಳಿಗೆ ಕಾರಣವಾಗಿದೆ ಏಕಾಂಗಿಯಾಗಿರಿ ಸಾರ್ವಜನಿಕ ಆರೋಗ್ಯ ತಜ್ಞರು ಇತರ ದೇಶಗಳು ನೂರಾರು ಅಥವಾ ಸಾವಿರಾರು ಪತ್ತೆಯಾಗದ ಸೋಂಕುಗಳನ್ನು ಹೊಂದಿರಬಹುದೆಂದು ಶಂಕಿಸಿದ್ದಾರೆ ಏಕೆಂದರೆ ಅವುಗಳು ದಕ್ಷಿಣ ಕೊರಿಯಾಕ್ಕಿಂತ ಕಡಿಮೆ ಆಕ್ರಮಣಶೀಲತೆಯನ್ನು ಹೊಂದಿದ್ದು, ಸಂಭಾವ್ಯ ಮಾನ್ಯತೆಯ ನಿದರ್ಶನಗಳನ್ನು ಪತ್ತೆಹಚ್ಚುವಲ್ಲಿ ಮತ್ತು ಪ್ರಚಾರ ಮಾಡುವಲ್ಲಿ ದಕ್ಷಿಣ ಕೊರಿಯಾದಲ್ಲಿ ರೋಗಿಯ ಸಂಖ್ಯೆ 31 ಎಂದು ಕರೆಯಲ್ಪಡುವ ಮಹಿಳೆ ಸೂಪರ್ ಸ್ಪ್ರೆಡರ್ ಎಂದು ಶಂಕಿಸಲಾಗಿದೆ ದಕ್ಷಿಣ ಕೊರಿಯಾದ ಆಗ್ನೇಯ ಭಾಗದಲ್ಲಿ ಭಾರಿ ಏರಿಕೆಯಾಗಿದೆ ತೀವ್ರವಾದ ಸಾರ್ವಜನಿಕ ಹಿತಾಸಕ್ತಿ ಪರಿಶೀಲನೆ ಮತ್ತು ಟೀಕೆಗಳ ಒಂದು ಅಂಶವೆಂದರೆ ಡೇಗುದಲ್ಲಿನ ಸಿಯೋ ಗುನಲ್ಲಿ ಸೋಂಕು ತಡೆಗಟ್ಟುವಿಕೆಯ ಉಸ್ತುವಾರಿ ಹೊತ್ತಿರುವ ಸಾರ್ವಜನಿಕ ಆರೋಗ್ಯ ಅಧಿಕಾರಿಯೂ ಸಹ ವೈರಸ್ ರೋಗನಿರ್ಣಯದ ನಂತರ ಚರ್ಚ್\\u200cನ ಸದಸ್ಯನೆಂದು ತಿಳಿದುಬಂದಿದೆ\",1\\nಕಳೆದ ಎರಡು ವಾರಗಳಲ್ಲಿ ಈಶಾನ್ಯ ದೆಹಲಿಯ ಮುಸ್ತಾಬಾದ್ ನಿವಾಸಿ ಅಶ್ಫಾಕ್ ಹುಸೇನ್ ಮತ್ತು ಅವರ ಪತ್ನಿ ತಸ್ನೀಮ್ ಅವರ ಜೀವನದ ಅತ್ಯಂತ ಸಂತೋಷದಾಯಕ ದಿನಗಳು. ಮುಸ್ತಾಬಾದ್\\u200cನಲ್ಲಿ ಎಲೆಕ್ಟ್ರಿಷಿಯನ್ ಆಗಿ ಕೆಲಸ ಮಾಡುತ್ತಿದ್ದ ಹುಸೇನ್ 22 ಅವರು ಸಂಜೆ ಕೆಲಸ ಮುಗಿದು ಮನೆಗೆ ಮರಳುತ್ತಿದ್ದಾಗ ಸಂಜೆ ಸಿಕ್ಕಿಬಿದ್ದಾಗ ಈ ಪ್ರದೇಶವನ್ನು ದಿನಗಳವರೆಗೆ ಆವರಿಸಿರುವ ಹಿಂಸಾಚಾರ ಈ ಆರೋಪವು ಕಳೆದ ಕೆಲವು ದಿನಗಳಿಂದ ಈಶಾನ್ಯ ದೆಹಲಿಯಲ್ಲಿ ಗಲಭೆ ನಡೆಸುತ್ತಿರುವ ಜನಸಮೂಹದಿಂದ ನೂರಾರು ಮನೆಗಳ ಅಂಗಡಿಗಳು ಮತ್ತು ವಾಹನಗಳಿಗೆ ಬೆಂಕಿ ಹಚ್ಚಲಾಗಿದೆ 119 ವಜ್ರ ರಾಜಕುಮಾರಿಯಿಂದ ಸ್ಥಳಾಂತರಿಸಲಾಗಿದೆ ಹೋಮ್ ಎಸಿ 17 ಸಾರಿಗೆ ಕೊರೊನಾವೈರಸ್\\u200cನಿಂದ ಸುರಕ್ಷಿತವಾಗಿ ಹಾರಾಟ ನಡೆಸಿದ ಒಟ್ಟು 112 ಜನರನ್ನು ಹೊತ್ತೊಯ್ಯುವ ಭಾರತೀಯ ವಾಯುಪಡೆಯ ವಿಮಾನ ಗುರುವಾರ ರಾಷ್ಟ್ರ ರಾಜಧಾನಿಗೆ ಬಂದಿಳಿದಿದೆ. ಚೀನಾದ ನಗರವಾದ ವುಹಾನ್ ಕುನಾಲ್ ಕಮ್ರಾ ಅವರ ವಿಮಾನ ನಿಷೇಧವನ್ನು 3 ತಿಂಗಳವರೆಗೆ ಇಳಿಸಲಾಗಿದೆ ಡಿಜಿಸಿಎ ಅಂತಿಮ ಕರೆ ತೆಗೆದುಕೊಳ್ಳಲು ದೆಹಲಿ ಹೈಕೋರ್ಟ್ ಟಿವಿ ಆಂಕರ್ ಅರ್ನಾಬ್ ಗೋಸ್ವಾಮ್ ಅವರನ್ನು 6 ತಿಂಗಳ ಕಾಲ ಇಂಡಿಗೊ ವಿಮಾನಯಾನ ಸಂಸ್ಥೆಗಳು ವಿಧಿಸಿರುವ ಪ್ರಯಾಣ ನಿಷೇಧವನ್ನು ಪ್ರಶ್ನಿಸಿ ಸ್ಟ್ಯಾಂಡ್ ಅಪ್ ಹಾಸ್ಯನಟ ಕುನಾಲ್ ಕಮ್ರಾ ಅವರು ಮನವಿ ಸಲ್ಲಿಸಿದ್ದಾರೆ. ನಾನು ವಿಮಾನದಲ್ಲಿದ್ದೇನೆ,1\\nಸೋಂಕನ್ನು ಹಿಡಿಯುವುದನ್ನು ತಡೆಗಟ್ಟಲು ಸಾಮಾನ್ಯ ಮೇಲ್ಮೈಗಳನ್ನು ಸ್ಪರ್ಶಿಸಿದ ನಂತರ ನಿಮ್ಮ ಕೈಗಳನ್ನು ನಿಯಮಿತವಾಗಿ ಸ್ವಚ್ it ಗೊಳಿಸಿ ಹ್ಯಾಂಡ್\\u200cಶೇಕ್\\u200cಗಳನ್ನು ತಪ್ಪಿಸಿ ಹೆಚ್ಚಿನ ಫೈವ್\\u200cಗಳು ಅಪರಿಚಿತರು ಅಥವಾ ಪರಿಧಮನಿಯ ವೈರಸ್ ಸೋಂಕನ್ನು ತಡೆಗಟ್ಟಲು ನಿಮಗೆ ತಿಳಿದಿರುವ ಜನರೊಂದಿಗೆ ಕೈ ಮುಟ್ಟುವುದನ್ನು ತಪ್ಪಿಸಲು ಬಲವಾಗಿ ಸಲಹೆ ನೀಡಲಾಗುತ್ತದೆ ಮತ್ತು ನೀವು ಸೋಂಕಿತ ಪ್ರಾಣಿಗಳ ಮಾಂಸವನ್ನು ಸೇವಿಸುತ್ತಿದ್ದರೆ ಅದನ್ನು ಚೆನ್ನಾಗಿ ಬೇಯಿಸದಿದ್ದರೆ ಸೋಂಕು ಇನ್ನೂ ಅದರಲ್ಲಿ ಸಕ್ರಿಯವಾಗಿರುತ್ತದೆ ಮತ್ತು ರಾಯಿಟರ್ಸ್\\u200cಗೆ ಪ್ರವೇಶಿಸಿದ ನಂತರ ನಿಮ್ಮ ದೇಹಕ್ಕೆ ಸೋಂಕು ತರುತ್ತದೆ. ನೀವು ಅನಾರೋಗ್ಯಕ್ಕೆ ಒಳಗಾಗಿದ್ದರೆ ಹೊರಹೋಗಬೇಡಿ ನೀವು ಸಾಮಾನ್ಯ ಜ್ವರ ಅಥವಾ ಶೀತದಿಂದ ಕೆಳಗಿಳಿದಿದ್ದರೆ ಒಂದು ದಿನ ರಜೆ ತೆಗೆದುಕೊಳ್ಳುವುದರಿಂದ ನಿಮಗೆ ಬೇಗನೆ ಆರೋಗ್ಯವಾಗಲು ಸಹಾಯವಾಗುವುದಿಲ್ಲ ಆದರೆ ನೀವು ಸೋಂಕಿಗೆ ಒಳಗಾದ ವೈರಸ್ ಅನ್ನು ಹಿಡಿಯದಂತೆ ಇತರರನ್ನು ಉಳಿಸಿ. ನೀವು ನಿಜವಾಗಿಯೂ ಕರೋನವೈರಸ್ ಕಾದಂಬರಿಯೊಂದಿಗೆ ಸಂಪರ್ಕಕ್ಕೆ ಬಂದರೆ ಇದು ನಿಮ್ಮ ದೇಹವನ್ನು ಸಿದ್ಧವಾಗಿರಿಸುವುದಿಲ್ಲ.,0\\n\"ಕೊರೊನಾವೈರಸ್ ಪ್ರಕರಣಗಳಿಲ್ಲದೆ ದೇಶಗಳಿಗೆ ಹಾರುವಂತೆ ನಿಮ್ಮ ಪ್ರಯಾಣದ ಯೋಜನೆಗಳನ್ನು ನೀವು ಹಿಡಿದಿಟ್ಟುಕೊಳ್ಳಬೇಕೆಂದು ನಾವು ಬಲವಾಗಿ ಶಿಫಾರಸು ಮಾಡುತ್ತೇವೆ. ಹಾಂಗ್ ಕಾಂಗ್ ಕಾದಂಬರಿ ಕರೋನವೈರಸ್ನ 91 ದೃ confirmed ಪಡಿಸಿದ ಪ್ರಕರಣಗಳನ್ನು ಹೊಂದಿದೆ, ಆದರೆ ಮಕಾವು ಹಾಂಗ್ ಕಾಂಗ್ನ ಜನರು ಸಾಮಾನ್ಯವಾಗಿ ಪ್ರಯಾಣಿಸುವ ಮತ್ತೊಂದು ಪ್ರವಾಸಿ ತಾಣ 10 ದೃ confirmed ಪಡಿಸಿದ ಪ್ರಕರಣಗಳು ದಕ್ಷಿಣ ಕೊರಿಯಾ ಚೀನಾ ನಂತರ ದಕ್ಷಿಣ ಕೊರಿಯಾವು 1200 ಕ್ಕೂ ಹೆಚ್ಚು ದೃ confirmed ಪಡಿಸಿದ ಪ್ರಕರಣಗಳೊಂದಿಗೆ ಕಾದಂಬರಿ ಕರೋನವೈರಸ್\\u200cನಿಂದ ಸೋಂಕಿಗೆ ಒಳಗಾಗುವವರ ಸಂಖ್ಯೆಯಲ್ಲಿ ಗಣನೀಯ ಏರಿಕೆ ಕಂಡಿದೆ, ಏಕೆಂದರೆ ಪ್ರತಿ ಹಾದುಹೋಗುವ ದಿನದಲ್ಲಿ ಪರಿಸ್ಥಿತಿ ಇನ್ನಷ್ಟು ಹದಗೆಡುತ್ತದೆ ಇರಾನ್\\u200cನ ಹೊರಗಿನ ಇರಾನ್\\u200c uts ಟ್\\u200cಸೈಡ್ ಇರಾನ್\\u200cನ ಪ್ರಮುಖ ಮೂರು ಹಾಟ್\\u200cಸ್ಪಾಟ್\\u200cಗಳಲ್ಲಿ ಒಂದಾಗಿದೆ ಇರಾನ್\\u200cನ ಉಪ ಆರೋಗ್ಯ ಮಂತ್ರಿ ಮತ್ತು ಸಂಸದರು ಸೇರಿದಂತೆ 140 ದೃ confirmed ಪಡಿಸಿದ ಪ್ರಕರಣಗಳೊಂದಿಗೆ ಕೊರೊನಾವೈರಸ್ ಕಾದಂಬರಿ ಕೊರೋನವೈರಸ್ ಪ್ರಕರಣಗಳಿಲ್ಲದ ದೇಶಗಳಿಗೆ ಸಹ ಹಾರುವಂತೆ ನಿಮ್ಮ ಪ್ರಯಾಣದ ಯೋಜನೆಗಳನ್ನು ಹಿಡಿದಿಡಲು ನಾವು ಬಲವಾಗಿ ಶಿಫಾರಸು ಮಾಡುತ್ತೇವೆ.\",0\\n\"ಬಿಸಿನೆಸ್ ಇನ್ಸೈಡರ್ ಮಾರುಕಟ್ಟೆಯಲ್ಲಿನ ದೊಡ್ಡ ಪ್ರವೃತ್ತಿಗಳನ್ನು ಸೆರೆಹಿಡಿಯುವ ಚಾರ್ಟ್\\u200cಗಳನ್ನು ಹಂಚಿಕೊಳ್ಳಲು ನೊಬೆಲ್ ವಿಜೇತ ಅರ್ಥಶಾಸ್ತ್ರಜ್ಞರು ಮತ್ತು ಮೆಚ್ಚುಗೆ ಪಡೆದ ಹೂಡಿಕೆ ಮುಖ್ಯಸ್ಥರು ಸೇರಿದಂತೆ 20 ಹಣಕಾಸು ತಜ್ಞರನ್ನು ಕೇಳಿದೆ. ಮುಂದಿನ ಆರ್ಥಿಕ ಹಿಂಜರಿತ ಮತ್ತು ಇತರ ದೊಡ್ಡ ವಿಷಯಗಳಿಗೆ ಭವಿಷ್ಯದ ವೇಗವರ್ಧಕಗಳಿಗೆ ದಶಕದ ಮುಂದೆ ಇರುವ ಅವಕಾಶಗಳನ್ನು ಈ ಕೆಳಗಿನ ಪಟ್ಟಿಯಲ್ಲಿ ವಿವರಿಸುತ್ತದೆ. ಈಗ ಅವರ ಹಣವನ್ನು ಹಾಕಿಕೊಳ್ಳಿ ಹೆಚ್ಚಿನ ಬಿಐ ಅವಿಭಾಜ್ಯ ಕಥೆಗಳಿಗಾಗಿ ಇಲ್ಲಿ ಕ್ಲಿಕ್ ಮಾಡಿ ಹಣಕಾಸಿನ ಮಾರುಕಟ್ಟೆಗಳಲ್ಲಿ ಹೂಡಿಕೆ ಮಾಡುವುದು ಎಂದಿಗೂ ಅಗ್ಗವಾಗುವುದಿಲ್ಲ ಅಥವಾ ಹೆಚ್ಚು ಅನುಕೂಲಕರವಾಗಿಲ್ಲವಾದ್ದರಿಂದ ವಹಿವಾಟು ವೆಚ್ಚಗಳು ಶೂನ್ಯಕ್ಕೆ ಇಳಿಯುವುದರಿಂದ ಮತ್ತು ಡಜನ್ಗಟ್ಟಲೆ ಪ್ಲಾಟ್\\u200cಫಾರ್ಮ್\\u200cಗಳು ವಾಸ್ತವಿಕವಾಗಿ ಯಾವುದೇ ಆಸ್ತಿಯ ಮೊಬೈಲ್ ವ್ಯಾಪಾರವನ್ನು ಸಕ್ರಿಯಗೊಳಿಸುವುದರಿಂದ ಅದು ಉತ್ತಮವಾದ ಹೂಡಿಕೆ ಸಲಹೆಯನ್ನು ಹೊಂದಿರುವುದು ಕಡ್ಡಾಯವಾಗಿದೆ ಅದಕ್ಕಾಗಿಯೇ ಬಿಸಿನೆಸ್ ಇನ್ಸೈಡರ್ ಮತ್ತೊಮ್ಮೆ ವಾಲ್ ಸ್ಟ್ರೀಟ್\\u200cನ ಕೆಲವು ಮೆಚ್ಚುಗೆ ಪಡೆದ ತಜ್ಞರನ್ನು ಗಣ್ಯರ ಗುಂಪನ್ನು ಕೋರಿದೆ, ಇದರಲ್ಲಿ ಟ್ರಿಲಿಯನ್ಗಟ್ಟಲೆ ಆಸ್ತಿಗಳನ್ನು ಮೇಲ್ವಿಚಾರಣೆ ಮಾಡುವ ಹೂಡಿಕೆ ಮುಖ್ಯಸ್ಥರು ಸೇರಿದ್ದಾರೆ. ನೊಬೆಲ್ ವಿಜೇತ ಅರ್ಥಶಾಸ್ತ್ರಜ್ಞರು ಮತ್ತು ಮಾರುಕಟ್ಟೆಗಳನ್ನು ಚಲಿಸುವ ಸಾಮರ್ಥ್ಯ ಹೊಂದಿರುವ ತಂತ್ರಜ್ಞರನ್ನು ನಾವು ಪ್ರತಿಯೊಬ್ಬರಿಗೂ ಕೇಳಿದೆ ಅವರು ದೊಡ್ಡ ಸಂದೇಶವನ್ನು ವಿವರಿಸುವ ಚಾರ್ಟ್ ಅನ್ನು ಹಂಚಿಕೊಳ್ಳಲು ಹೂಡಿಕೆದಾರರಿಗೆ ಕಳುಹಿಸಲು ಬಯಸುತ್ತಾರೆ ಮುಂದಿನ ದಶಕದ ಆರ್ಥಿಕ ಹಿಂಜರಿತ ಮತ್ತು ಕರೋನವೈರಸ್ ಏಕಾಏಕಿ ಮಾರುಕಟ್ಟೆಯ ಪರಿಣಾಮಗಳಿಗೆ ವೇಗವರ್ಧಕಗಳನ್ನು ತಯಾರಿಸುವವರೆಗಿನ ಪ್ರತಿಕ್ರಿಯೆಗಳು ವ್ಯಾಪಕವಾದವು, ಅವುಗಳ ಪಟ್ಟಿಯಲ್ಲಿ ಪ್ರತಿ ಪ್ರವೃತ್ತಿಯ ವಿಷಯಗಳು ಮತ್ತು ಹಲವಾರು ತಜ್ಞರು ಎಲ್ಲಿ ಹೂಡಿಕೆ ಮಾಡಬೇಕೆಂಬುದರ ಬಗ್ಗೆ ನೇರ ಮಾರ್ಗದರ್ಶನಗಳನ್ನು ಒಳಗೊಂಡಿರುತ್ತಾರೆ.\",0\\nಇಸ್ರೇಲಿ ಗುರುವಾರ ತನ್ನ ಮೂರನೇ ಕರೋನವೈರಸ್ ಪ್ರಕರಣವನ್ನು ವರದಿ ಮಾಡಿದೆ. ಇಟಲಿಯಿಂದ ದೇಶಕ್ಕೆ ಮರಳಿದ ಇಸ್ರೇಲಿ ಖಾತರಿ ಅಡಿಯಲ್ಲಿ ರೋಗಿಯನ್ನು ತೆಗೆದುಕೊಳ್ಳಲಾಗಿದೆ ನಾಲ್ಕು ದಿನಗಳ ಹಿಂದೆ ಇಟಲಿಯಿಂದ ಹಿಂದಿರುಗಿದ ಇಸ್ರೇಲಿ ಪ್ರಜೆಯೊಬ್ಬರು ಗುರುವಾರ ಮಾರಕ ಕರೋನವೈರಸ್ಗೆ ಧನಾತ್ಮಕ ಪರೀಕ್ಷೆ ನಡೆಸಿದ್ದಾರೆ ಎಂದು ಆರೋಗ್ಯ ಸಚಿವಾಲಯ ತಿಳಿಸಿದೆ. ಏಕಾಏಕಿ ಇಟಲಿಯಿಂದ ಪ್ರಯಾಣಿಕರ ಪ್ರವೇಶವು ಇಸ್ರೇಲಿ ಪ್ರಸಾರ ಪ್ರಾಧಿಕಾರವು ಇಟಲಿಯಿಂದ ಬರುವ ಆಂತರಿಕ ಸಚಿವ ಆರ್ಯೆಹ್ ಡೆರಿ ಇಸ್ರೇಲಿ ನಾಗರಿಕರನ್ನು ವೈದ್ಯಕೀಯ ಕ್ಯಾರೆಂಟೈನ್ ಸಾಧನವಾಗಿ ನಾಲ್ಕು 14 ದಿನಗಳ ಕಾಲ ಮನೆಯಲ್ಲಿಯೇ ಇರಲು ನಿರ್ದೇಶಿಸಲಾಗಿದೆ ಎಂದು ಹೇಳಿದರು.,0\\nಕರಾಚಿ ದುನ್ಯಾ ನ್ಯೂಸ್ ಪ್ರಾಂತ್ಯದಾದ್ಯಂತ ಹರಡಿರುವ ಕರೋನವೈರಸ್ ಅನ್ನು ನಿಯಂತ್ರಿಸಲು ಕಾರ್ಯಪಡೆ ಸ್ಥಾಪಿಸಲಾಗಿದೆ ಎಂದು ಸಿಂಧ್ ಸಿಎಂ ಮುಖ್ಯಮಂತ್ರಿ ಮುರಾದ್ ಅಲಿ ಶಾ ಗುರುವಾರ ಹೇಳಿದ್ದಾರೆ. ಪಾಕಿಸ್ತಾನದಲ್ಲಿ ಕರೋನವೈರಸ್ ಪೀಡಿತರನ್ನು ಪ್ರತ್ಯೇಕವಾಗಿ ವಾರ್ಡ್ನಲ್ಲಿ ಇರಿಸಲಾಗಿದೆ ಎಂದು ಸಿಎಂ ಮಾಧ್ಯಮಗಳೊಂದಿಗೆ ಮಾತನಾಡುತ್ತಾ ಹೇಳಿದರು. ಇತ್ತೀಚೆಗೆ ಇರಾನ್\\u200cನಿಂದ ಪ್ರಯಾಣಿಸಿದ 1500 ಜನರನ್ನು ಕೂಡ ಒಟ್ಟುಗೂಡಿಸಲಾಗಿದೆ. ವೈರಸ್ ಹಿನ್ನೆಲೆಯಲ್ಲಿ ಪ್ರಾಂತ್ಯದಾದ್ಯಂತ ಶಾಲೆಗಳನ್ನು ಮುಚ್ಚಲಾಗಿದೆ ಎಂದು ಸಚಿವರು ತಿಳಿಸಿದ್ದಾರೆ. ಪಾಕಿಸ್ತಾನವು ಎರಡು ಕರೋನವೈರಸ್ ಪ್ರಕರಣಗಳನ್ನು ದೃ confirmed ಪಡಿಸಿದೆ ಎಂದು ರಾಜ್ಯ ಆರೋಗ್ಯ ಸಚಿವರು ಹೇಳಿದ್ದಾರೆ. ದೇಶದಲ್ಲಿ ವೈರಸ್ ಸಿಂಧ್ ಆರೋಗ್ಯ ಇಲಾಖೆಯ ಪ್ರಕಾರ 22 ವರ್ಷದ ಯಾಹ್ಯಾ ಇರಾನ್\\u200cನಿಂದ ಕರಾಚಿಗೆ ವಿಮಾನವನ್ನು ತೆಗೆದುಕೊಂಡರು,1\\n\"ಕರೋನವೈರಸ್ಗೆ ಚಿಕಿತ್ಸೆಯನ್ನು ಕಂಡುಹಿಡಿಯುವ ಸಂಶೋಧನಾ ಪ್ರಯತ್ನಗಳಲ್ಲಿ ಇಸ್ರೇಲ್ ಇನ್ಸ್ಟಿಟ್ಯೂಟ್ ಫಾರ್ ಬಯೋಲಾಜಿಕಲ್ ರಿಸರ್ಚ್ ಐಐಬಿಆರ್ ತಂತ್ರಜ್ಞಾನವನ್ನು ಟ್ಯಾಪ್ ಮಾಡಿದೆ ಐಐಬಿಆರ್ ಗುರು ಆಧಾರಿತ ಜೈವಿಕ ತಂತ್ರಜ್ಞಾನ ಕಂಪನಿಯ ನಾಸ್ಡಾಕ್ ಡಿವೈಎಐ ಸಿ 1 ವಿಧಾನವನ್ನು ವೇಗಗೊಳಿಸುವ ಮತ್ತು ವೆಚ್ಚವನ್ನು ಕಡಿಮೆ ಮಾಡುವ ಸಾಧನವಾಗಿ ಅನ್ವೇಷಿಸುತ್ತದೆ. ಮಾರಣಾಂತಿಕ ವೈರಸ್\\u200cಗೆ ಸಂಭಾವ್ಯ ಲಸಿಕೆ ಅಥವಾ ಚಿಕಿತ್ಸೆ ಜಾಗತಿಕ ವಿತರಣೆ 50 ಕ್ಕೂ ಹೆಚ್ಚು ಐಐಬಿಆರ್ ವಿಜ್ಞಾನಿಗಳು ಕರೋನವೈರಸ್\\u200cಗೆ ಲಸಿಕೆ ಕಂಡುಹಿಡಿಯಲು ಕೆಲಸ ಮಾಡುತ್ತಿದ್ದಾರೆ, ಇದು ಸುಮಾರು 3000 ಜನರನ್ನು ಕೊಂದಿದೆ ಮತ್ತು\",0\\nಇದು ವೈರಸ್ ಹರಡುವ ಮುಖ್ಯ ಮಾರ್ಗವಾಗಿದೆ ಮತ್ತು ಕೆಮ್ಮುವ ವ್ಯಕ್ತಿಯಿಂದ ಕನಿಷ್ಠ ಒಂದು ಮೀಟರ್ ದೂರದಲ್ಲಿರಲು ವಿಶ್ವ ಆರೋಗ್ಯ ಸಂಸ್ಥೆ ಶಿಫಾರಸು ಮಾಡುವ ಕಾರಣ COVID 19 ಸೇರಿದಂತೆ ಕೆಲವು ವೈರಸ್\\u200cಗಳು ಬಹುಶಃ ಆ ಹನಿಗಳಲ್ಲಿ ಹಲವಾರು ಗಂಟೆಗಳ ಕಾಲ ಬದುಕಬಹುದು ಎಂದು ನಮಗೆ ಖಚಿತವಾಗಿ ತಿಳಿದಿಲ್ಲ ಯಾರಾದರೂ ಒಂದನ್ನು ಸ್ಪರ್ಶಿಸಲು ಕಾಯುತ್ತಿದ್ದಾರೆ ಆದರೆ ನಿಮ್ಮ ಕೈಯಲ್ಲಿ ವೈರಸ್ ಬಂದರೆ ನಂತರ ನಿಮ್ಮ ಬಾಯಿ ಮೂಗು ಅಥವಾ ಕಣ್ಣುಗಳನ್ನು ಸ್ಪರ್ಶಿಸಿದರೆ ಸೂಕ್ಷ್ಮಾಣು ನಿಮ್ಮ ದೇಹದೊಳಗೆ ಪ್ರವೇಶಿಸಬಹುದು ಮತ್ತು ನಿಮಗೆ ಸೋಂಕು ತಗುಲಿಸಬಹುದು ನಾವು ವೈರಸ್ ಹನಿಗಳಿಂದ ಕಲುಷಿತವಾದ ಯಾವುದನ್ನಾದರೂ ಸ್ಪರ್ಶಿಸಿದರೆ ಮತ್ತು ನಂತರ ನಮ್ಮ ಫೋನ್\\u200cಗಳನ್ನು ಸ್ಪರ್ಶಿಸಿದರೆ ಅವು ಕಲುಷಿತವಾಗಬಹುದು ತುಂಬಾ ವೈರಸ್ ಹರಡುವುದು ತನ್ನ ಸಂಶೋಧನೆ ಮಾಡಿದ ನಂತರ ಪ್ರೊಫೆಸರ್ ಮೆಕ್ಲಾಸ್ ಈಗ ಅವಳ ಮುಖವನ್ನು ಸ್ಪರ್ಶಿಸುವ ಮೊದಲು ಬಳಸುವ ಸಣ್ಣ ಬಾಟಲಿ ಆಲ್ಕೋಹಾಲ್ ಆಧಾರಿತ ಹ್ಯಾಂಡ್ ಸ್ಯಾನಿಟೈಸರ್ ಅನ್ನು ಒಯ್ಯುತ್ತಾನೆ,1\\n\"1988 ರಲ್ಲಿ ದಕ್ಷಿಣ ಕೊರಿಯಾದಲ್ಲಿ ನಡೆದ ಬೇಸಿಗೆ ಒಲಿಂಪಿಕ್ಸ್\\u200cನಲ್ಲಿ ಡೋಪಿಂಗ್ ಮಾಡಲು ಬೆನ್ ಜಾನ್ಸನ್ ಅವರನ್ನು ಅನರ್ಹಗೊಳಿಸಲಾಯಿತು ಮತ್ತು ಮೇಜರ್ ಲೀಗ್ ಬೇಸ್\\u200cಬಾಲ್\\u200cನಲ್ಲಿ ಸ್ಟೀರಾಯ್ಡ್ ಯುಗದವರೆಗೆ ರಾಷ್ಟ್ರೀಯ ಕನ್ಕ್ಯುಶನ್ ವಿವಾದಗಳಿಗೆ ಬಾಬ್ ಕೋಸ್ಟಾಸ್ ತನ್ನ 40 ವರ್ಷಗಳಿಗಿಂತ ಹೆಚ್ಚಿನ ಅವಧಿಯಲ್ಲಿ ಕ್ರೀಡಾ ಹಗರಣಗಳನ್ನು ಕಂಡಿದ್ದಾನೆ. ಫುಟ್ಬಾಲ್ ಲೀಗ್ ಇದು ಕೆಟ್ಟದಾಗಿದೆ ಅಥವಾ ಒಲಿಂಪಿಕ್ಸ್\\u200cನಲ್ಲಿ ಡೋಪಿಂಗ್ ಅಥವಾ ಬೇಸ್\\u200cಬಾಲ್\\u200cನಲ್ಲಿನ ಸ್ಟೀರಾಯ್ಡ್ ಯುಗ ಅಥವಾ ಆಟದ ಸ್ವರೂಪ ಮತ್ತು ತಲೆ ಗಾಯಗಳ ಬಗ್ಗೆ ಫುಟ್\\u200cಬಾಲ್\\u200cನಲ್ಲಿ ಅಸ್ತಿತ್ವವಾದದ ಬಿಕ್ಕಟ್ಟಿನಷ್ಟು ಮಹತ್ವದ್ದಾಗಿದೆ ಎಂದು ನಾನು ಹೇಳಲಾರೆ ಎಂದು ಕೋಸ್ಟಾಸ್ ತನ್ನ ಬಹುಮುಖ ವೃತ್ತಿಜೀವನಕ್ಕೆ ಕ್ರೀಡೆಯಾಗಿ ಹೆಸರುವಾಸಿಯಾಗಿದ್ದಾನೆ ಎನ್\\u200cಬಿಸಿ ಯಲ್ಲಿ ಪತ್ರಕರ್ತ ಮತ್ತು ಈಗ ಎಂಎಲ್\\u200cಬಿ ನೆಟ್\\u200cವರ್ಕ್\\u200cಗಾಗಿ ಆಟದ ಕೆಲಸದಿಂದ ಮೇಜರ್ ಲೀಗ್ ಬೇಸ್\\u200cಬಾಲ್ ಮತ್ತು ಕಮಿಷನರ್ ರಾಬ್ ಮ್ಯಾನ್\\u200cಫ್ರೆಡ್ ತಮ್ಮ 2017 ರ ವಿಶ್ವ ಸರಣಿ ವಿಜೇತ ವರ್ಷದಲ್ಲಿ ಆಸ್ಟ್ರೋಸ್ ಸೈನ್ ಕದಿಯುವ ಯೋಜನೆಯ ಆಳ ಮತ್ತು ಶಿಸ್ತಿನ ಕೊರತೆಯ ಬಹಿರಂಗಪಡಿಸುವಿಕೆಯೊಂದಿಗೆ ಹಿಡಿತ ಸಾಧಿಸಿದ್ದಾರೆ. ಭಾಗಿಯಾದ ಆಟಗಾರರಿಗಾಗಿ ಕೋಸ್ಟಾಸ್ ಈ ದಿನಗಳಲ್ಲಿ ಬೇಸ್\\u200cಬಾಲ್ ಬಗ್ಗೆ ಸಾಕಷ್ಟು ಮಾತನಾಡುತ್ತಿದ್ದಾರೆ. ಡಸರ್ಟ್ ಸನ್ ಕೋಸ್ಟಾಸ್\\u200cನೊಂದಿಗಿನ ವಿಶೇಷ ಸಂದರ್ಶನದಲ್ಲಿ ಮ್ಯಾನ್\\u200cಫ್ರೆಡ್ ಸಹ ಇರಬಹುದು ಆಸ್ಟ್ರೋಸ್ ಆಟಗಾರರಿಗೆ ವಿನಾಯಿತಿ ನೀಡುವ ಮೂಲಕ ಆಸ್ಟ್ರೋಸ್ ಹಗರಣಕ್ಕೆ ಅವರು ನೀಡಿದ ಪ್ರತಿಕ್ರಿಯೆಯಲ್ಲಿ ದುರ್ಬಲ ಎಂದು ಪರಿಗಣಿಸಲಾಗಿದೆ, ಆಸ್ಟ್ರೋಸ್ ವ್ಯವಸ್ಥಾಪಕ ಎ.ಜೆ. ಹಿಂಚ್ ಮತ್ತು ಜನರಲ್ ಮ್ಯಾನೇಜರ್ ಜೆಫ್ ಲುಹ್ನೋ ಅವರನ್ನು ಒಂದು ವರ್ಷದವರೆಗೆ ಅಮಾನತುಗೊಳಿಸಿದ್ದಕ್ಕೆ ಸ್ಪಷ್ಟವಾದ ಪ್ರತಿಕ್ರಿಯೆಗೆ ಕೆಲವು ನ್ಯಾಯಸಮ್ಮತ ಕಾರಣಗಳಿವೆ. ಕಾರ್ಯಕ್ಷಮತೆಯನ್ನು ಹೆಚ್ಚಿಸುವ drugs ಷಧಿಗಳ ಉಲ್ಲಂಘನೆಗಾಗಿ ಎರಡು ಕಡೆಯವರು ಮಾಡಿದಂತೆ ಭವಿಷ್ಯದ ಯಾವುದೇ ಮೋಸ ಹಗರಣಗಳಿಗೆ ಶಿಸ್ತನ್ನು ಅನುಮತಿಸುವ ಒಪ್ಪಂದಕ್ಕೆ ಮೇಜರ್ ಲೀಗ್ ಬೇಸ್\\u200cಬಾಲ್ ಮತ್ತು ಆಟಗಾರರ ಸಂಘ ಬರಲಿದೆ.\",1\\nರಾಯಿಟರ್ಸ್ ಫಿಲಿಪ್ ವೊಜಾಜೆರ್ಲಾಂಡನ್ ರಾಯ್ಟರ್ಸ್ ಅಮುಂಡಿ ಅಸೆಟ್ ಮ್ಯಾನೇಜ್\\u200cಮೆಂಟ್ ಇದು ಯುರೋಪಿಯನ್ ಮತ್ತು ಯು ಎಸ್ ಸ್ಟಾಕ್\\u200cಗಳ ಬಗ್ಗೆ ಹೆಚ್ಚು ಜಾಗರೂಕತೆಯಿಂದ ಕೂಡಿದೆ ಮತ್ತು ಹೆಚ್ಚುತ್ತಿರುವ ಕೊರೊನಾವೈರಸ್ ಏಕಾಏಕಿ ಉಂಟಾಗುತ್ತಿರುವ ಮಾರಾಟದ ಮಧ್ಯೆ ಉದಯೋನ್ಮುಖ ಮಾರುಕಟ್ಟೆ ಷೇರುಗಳ ಬಗ್ಗೆ ತಟಸ್ಥ ನಿಲುವಿಗೆ ಸಾಗಿದೆ ಎಂದು ಹೇಳಿದರು. ಫೆಬ್ರವರಿಯಲ್ಲಿ ಐತಿಹಾಸಿಕ ಗರಿಷ್ಠ ಮಟ್ಟದಲ್ಲಿ ಅಪಾಯದ ಸ್ವತ್ತುಗಳು ಮತ್ತು ಅತಿಯಾದ ಪ್ರತಿಕ್ರಿಯೆಯಾಗಿ ಬದಲಾಗಬಲ್ಲ ಪ್ರಾಣಿ ಶಕ್ತಿಗಳ ಪ್ರತಿಕ್ರಿಯೆಯು 1 7 ಟ್ರಿಲಿಯನ್ ಯುರೋಗಳಷ್ಟು ನಿರ್ವಹಣೆಯಲ್ಲಿದೆ ಎಂದು ಅಮುಂಡಿಯ ಪ್ಯಾಸ್ಕಲ್ ಬ್ಲಾಂಕ್ ಸಿಐಒ ಹೇಳಿದರು ಅಲ್ಪಾವಧಿಯಲ್ಲಿ ಕೆಲವು ಲಾಭವನ್ನು ತೆಗೆದುಕೊಳ್ಳುವ ಅಪಾಯ ಕಡಿತ ಮತ್ತು ಹೆಡ್ಜಿಂಗ್ ಹೆಚ್ಚಳವನ್ನು ಖಾತರಿಪಡಿಸಲಾಗಿದೆ ಎಂದು ಬ್ಲಾಂಕ್ ಹೇಳಿದ್ದಾರೆ ಗುರುವಾರ ಸ್ವೀಕರಿಸಿದ ಟಿಪ್ಪಣಿ ಈ ವಾರದಲ್ಲಿ ಕೇವಲ 3 ಟ್ರಿಲಿಯನ್\\u200cಗಿಂತಲೂ ಹೆಚ್ಚು ತಮ್ಮ ಮಾರುಕಟ್ಟೆ ಮೌಲ್ಯವನ್ನು ಅಳಿಸಿಹಾಕಿದೆ. ಹೂಡಿಕೆದಾರರು ಬಾಂಡ್\\u200cಗಳು ಮತ್ತು ಚಿನ್ನದಂತಹ ಸುರಕ್ಷಿತ ಧಾಮ ಸ್ವತ್ತುಗಳಿಗಾಗಿ ಹೂಡಿಕೆದಾರರು ಡ್ಯಾಶ್ ಮಾಡಿರುವುದರಿಂದ ಎಂಕೆಟಿಎಸ್ ಗ್ಲೋಬ್ ಅಮುಂಡಿ ಆದಾಗ್ಯೂ ವೈರಸ್ ಉಲ್ಬಣಗೊಳ್ಳುವ ಅಪಾಯಗಳು ಒಮ್ಮೆ ಚಕ್ರದ ಮೌಲ್ಯವನ್ನು ಕಳೆದುಕೊಂಡಿವೆ ಎಂದು ಹೇಳಿದರು. ಷೇರುಗಳು ವಿಶೇಷವಾಗಿ ಯುರೋಪಿನಲ್ಲಿ ದೇಶೀಯವಾಗಿ ಕೇಂದ್ರೀಕೃತ ಉದಯೋನ್ಮುಖ ಮಾರುಕಟ್ಟೆ ಷೇರುಗಳು ಉದಯೋನ್ಮುಖ ಕರ್ರೆನ್ cies ಮತ್ತು ಅಭಿವೃದ್ಧಿಶೀಲ ರಾಷ್ಟ್ರಗಳು ಮತ್ತು ಇಟಲಿಯಲ್ಲಿ ಹೆಚ್ಚಿನ ಇಳುವರಿ ನೀಡುವ ಬಾಂಡ್\\u200cಗಳು ಮರುಕಳಿಸುವಿಕೆಯ ಸಾಲಿನಲ್ಲಿರುತ್ತವೆ,0\\nಕೊರೊನಾವೈರಸ್ ಕಾದಂಬರಿ ಯುರೋಪಿನಾದ್ಯಂತ ಹರಡುತ್ತಿದ್ದಂತೆ ಕನಿಷ್ಠ 11 ಯುರೋಪಿಯನ್ ರಾಷ್ಟ್ರಗಳು ಒತ್ತಡದ ಪ್ರಕರಣಗಳನ್ನು ದೃ ming ಪಡಿಸುತ್ತಿವೆ. ಹಲವಾರು ಯು.ಎಸ್. ವಿಶ್ವವಿದ್ಯಾಲಯಗಳು ತಮ್ಮ ವಿದ್ಯಾರ್ಥಿಗಳನ್ನು ಫ್ಲಾರೆನ್ಸ್ ಇಟಲಿಯಲ್ಲಿ ವಿದೇಶದಲ್ಲಿ ಅಧ್ಯಯನ ಮಾಡುವುದನ್ನು ರದ್ದುಗೊಳಿಸಿವೆ ಸಿಎನ್\\u200cಎನ್\\u200cನ ಮೆಲಿಸ್ಸಾ ಬೆಲ್ ಫ್ಲಾರೆನ್ಸ್\\u200cನ ವರದಿಗಳು,0\\n\"ಜಪಾನ್\\u200cನಿಂದ ಏರ್ ಇಂಡಿಯಾ ವಿಶೇಷ ವಿಮಾನದ ಮೂಲಕ ಯೊಕೊಹಾಮಾದ ಜಪಾನಿನ ಕರಾವಳಿಯ ಡೈಮಂಡ್ ಪ್ರಿನ್ಸೆಸ್ ಕ್ರೂಸ್ ಹಡಗಿನಿಂದ ವಾಪಸ್ ಕರೆತಂದ 114 ಭಾರತೀಯ ಪ್ರಜೆಗಳು ಮತ್ತು ಐದು ವಿದೇಶಿ ಪ್ರಜೆಗಳು ಸೇರಿದಂತೆ 119 ಜನರನ್ನು ಮನೇಸರ್\\u200cನಲ್ಲಿರುವ ಭಾರತೀಯ ಸೇನಾ ಸೌಲಭ್ಯದಲ್ಲಿ ನಿರ್ಬಂಧಿಸಲಾಗಿದೆ. 114 ಭಾರತೀಯ ಪ್ರಜೆಗಳು ಸೇರಿದ್ದಾರೆ ಒಂಬತ್ತು ಮಹಿಳೆಯರು ಮತ್ತು 105 ಪುರುಷರು ಮತ್ತು ವಿದೇಶಿ ಪ್ರಜೆಗಳು ನೇಪಾಳದ ಒಬ್ಬರು ಶ್ರೀಲಂಕಾದಿಂದ ಒಬ್ಬರು ಪೆರುವಿನಿಂದ ಮತ್ತು ಇನ್ನೊಬ್ಬರು ದಕ್ಷಿಣ ಆಫ್ರಿಕಾದಿಂದ ಸೇರಿದ್ದಾರೆ. ಸ್ಥಳಾಂತರಿಸುವವರನ್ನು ಅರ್ಹ ವೈದ್ಯರು ಮತ್ತು ಸಿಬ್ಬಂದಿ ಸದಸ್ಯರು ಎರಡು ವಾರಗಳವರೆಗೆ ಮೇಲ್ವಿಚಾರಣೆ ಮಾಡುತ್ತಾರೆ. ಈ ಮಧ್ಯೆ ಸೋಂಕಿತರನ್ನು ಸ್ಥಳಾಂತರಿಸಲಾಗುವುದು ಹೆಚ್ಚಿನ ವೈದ್ಯಕೀಯ ಪರೀಕ್ಷೆಗಳು ಮತ್ತು ಚೇತರಿಕೆಗಾಗಿ ಸಫ್ದರ್ಜಂಗ್ ಆಸ್ಪತ್ರೆಯ ಪ್ರತ್ಯೇಕ ವಾರ್ಡ್\\u200cಗೆ 132 ಸಿಬ್ಬಂದಿ ಮತ್ತು ಆರು ಪ್ರಯಾಣಿಕರು ಸೇರಿದಂತೆ 138 ಭಾರತೀಯರು ಐಷಾರಾಮಿ ಕ್ರೂಸ್ ಹಡಗಿನಲ್ಲಿರುವ 3711 ಜನರಲ್ಲಿ ಸೇರಿದ್ದಾರೆ, ಇದನ್ನು ಫೆಬ್ರವರಿ 5 ರಂದು ಜಪಾನಿನ ಕರಾವಳಿಯಲ್ಲಿ ನಿರ್ಬಂಧಿಸಲಾಗಿದೆ. ಪ್ರಯಾಣಿಕರು ವೈರಸ್\\u200cಗೆ ಧನಾತ್ಮಕ ಪರೀಕ್ಷೆ ಮಾಡಿದ್ದರು\",1\\n\"ಲಂಡನ್ ರಾಯಿಟರ್ಸ್ ಖಜಾನೆ ಇಳುವರಿ ಹೊಸ ಕುಸಿತವನ್ನು ಮುಂದುವರಿಸಿದ್ದರಿಂದ ಗುರುವಾರ ಡಾಲರ್ ಕುಸಿಯಿತು ಮತ್ತು ಹೂಡಿಕೆದಾರರು ಫೆಡರಲ್ ರಿಸರ್ವ್ ಬಡ್ಡಿದರಗಳನ್ನು ಕಡಿತಗೊಳಿಸಲಿದ್ದಾರೆ ಎಂದು ಹರಡಿಕೊಂಡಿದ್ದು, ಹರಡುವ ಕರೋನವೈರಸ್ ಯುರೋವನ್ನು ಎರಡು ವಾರಗಳಿಗಿಂತ ಹೆಚ್ಚಿನ ಅವಧಿಯಲ್ಲಿ ಎತ್ತುವ ಪರಿಣಾಮವನ್ನು ಸರಿದೂಗಿಸುತ್ತದೆ. ಯುರೋಪಿಯನ್ ಸೆಂಟ್ರಲ್ ಬ್ಯಾಂಕಿನ ನಿರೀಕ್ಷೆಗಳು ದರ ಕಡಿತವು ಈಗ ಹಣದ ಮಾರುಕಟ್ಟೆಗಳನ್ನೂ ಸಹ ಹೆಚ್ಚಿಸಿದೆ ಜುಲೈನಲ್ಲಿ 10 ಬೇಸಿಸ್ ಪಾಯಿಂಟ್ ದರ ಕಡಿತಕ್ಕೆ 80 ಕ್ಕಿಂತ ಹೆಚ್ಚು ಅವಕಾಶವಿದೆ. ಕಳೆದ ವಾರದಿಂದ ಇದು 1 2 ರಷ್ಟಿದೆ, ಅದು ಸುರಕ್ಷಿತ ಹೆವೆನ್ ಕರೆನ್ಸಿ ರುಜುವಾತುಗಳು ಮತ್ತು ಹೂಡಿಕೆದಾರರ ನಂಬಿಕೆಗೆ ಧನ್ಯವಾದಗಳು ನಿಮ್ಮ ಎಸ್ ಆರ್ಥಿಕತೆಯು ಕೊರೊನಾವೈರಸ್ ಪತನದಿಂದ ತುಲನಾತ್ಮಕವಾಗಿ ಆಶ್ರಯ ಪಡೆದಿದ್ದು, ಚೀನಾದ ಕಡಲಾಚೆಯ ಯುವಾನ್ ಒಂದು ವಾರದ ಗರಿಷ್ಠ ಮಟ್ಟಕ್ಕೆ ಬಲಗೊಂಡಿತು, ಡಾಲರ್ 0 ಡಾಲರ್ಗೆ 7 ಡಾಲರ್ಗೆ 010 ಯುವಾನ್ಗೆ ಇಳಿಯಿತು. ಚೀನಾದ ಕಡೆಗೆ ಹೂಡಿಕೆದಾರರ ಮನೋಭಾವಕ್ಕೆ ಪ್ರಾಕ್ಸಿಯಾಗಿ ಕಂಡುಬರುವ ಆಸ್ಟ್ರೇಲಿಯನ್ ಡಾಲರ್ 0 ರಿಂದ 5 ಕ್ಕೆ ಏರಿತು 0 6572 ದೂರದಲ್ಲಿ 11 ವರ್ಷದ ಕನಿಷ್ಠದಿಂದ ಬುಧವಾರ ಮುಟ್ಟಿದೆ\",0\\n\"ಕ್ಯಾಮೆರಾ ಫೋನ್ ಫೋಟೋಕ್ಕಾಗಿ ಪ್ರವಾಸಿಗರ ವಿಸ್ತೃತ ತೋಳಿಗೆ ಸಿದ್ಧವಾಗದೆ ಹೆಚ್ಚಿನ ದಿನಗಳಲ್ಲಿ ನೀವು ಸ್ಯಾನ್ ಫ್ರಾನ್ಸಿಸ್ಕೋದ ಐತಿಹಾಸಿಕ ಚೈನಾಟೌನ್ ಮೂಲಕ ನಡೆಯಲು ಸಾಧ್ಯವಿಲ್ಲ. ಕರೋನವೈರಸ್ ಏಕಾಏಕಿ ದೇಶದ ಅತಿದೊಡ್ಡ ಮತ್ತು ಹಳೆಯ ಚೈನಾಟೌನ್ ಪ್ರವಾಸೋದ್ಯಮವನ್ನು ಜನಾಂಗೀಯವಾಗಿ ing ಾಯೆಯಾಗಿ ನೋಡಿದೆ ಸ್ಯಾನ್ ಫ್ರಾನ್ಸಿಸ್ಕೋದಲ್ಲಿ ಕರೋನವೈರಸ್ ಪ್ರಕರಣಗಳು ದೃ confirmed ಪಟ್ಟಿಲ್ಲ ಎಂದು ಚೈನಾಟೌನ್ ನಿಯಂತ್ರಕರು ಹೇಳುತ್ತಾರೆ ಮತ್ತು ಬೀದಿಗಳು ಕಡಿಮೆ ಜನಸಂದಣಿಯಿಂದ ಕೂಡಿವೆ ಮತ್ತು ಜನರು ತಾವು ಹೇಳಿದ ವೈರಸ್ ಬಗ್ಗೆ ಅಲ್ಲ, ಆದರೆ ಅವರ ವ್ಯವಹಾರಗಳ ಬಗ್ಗೆ ಚಿಂತೆ ಮಾಡಲು ಪ್ರಾರಂಭಿಸಿದ್ದಾರೆ. ಈ ಕುಸಿತದಿಂದ ಬದುಕುಳಿಯಬಹುದು ಸ್ಯಾನ್ ಫ್ರಾನ್ಸಿಸ್ಕೋ ಚೈನಾಟೌನ್\\u200cನಲ್ಲಿ ನಾವು ಚೀನಾಕ್ಕೆ ಹೋಗಲಿಲ್ಲ ಚೈನಾಟೌನ್\\u200cನಲ್ಲಿ ಅವರು ಕುಟುಂಬಗಳು ವೃದ್ಧರು ಮತ್ತು ಮಕ್ಕಳನ್ನು ಹೊಂದಿದ್ದಾರೆ ಮತ್ತು ಅವರು ಕರೋನವೈರಸ್\\u200cನಿಂದ ರಕ್ಷಿಸಿಕೊಳ್ಳಲು ಬಯಸುತ್ತಾರೆ ಎಂದು ಅವರು ಗಮನಸೆಳೆದರು, ಹೇಗಾದರೂ ಅವರು ಅನಾರೋಗ್ಯಕರ ಅಥವಾ ಆರೋಗ್ಯ ಮುನ್ನೆಚ್ಚರಿಕೆಗಳನ್ನು ತೆಗೆದುಕೊಳ್ಳುತ್ತಿಲ್ಲ ಎಂದು is ಹಿಸಲಾಗಿದೆ\",0\\nಜನರು ತಮ್ಮ ಮನೆಗಳನ್ನು ಬಿಡಲು ಕಡಿಮೆ ಇಚ್ are ಿಸುತ್ತಿದ್ದಾರೆ ಎಂಬ ಕೊರೊನಾವೈರಸ್ ಚಾಲಿತ ನಿರೂಪಣೆ ಈ ವಾರ ಷೇರು ಮಾರುಕಟ್ಟೆಯಲ್ಲಿ ಉತ್ತಮವಾಗಿ ಆಡುತ್ತಿದೆ. ಮನೆಯ ಸ್ಟಾಕ್\\u200cಗಳಲ್ಲಿ ಉಳಿಯಿರಿ ವಿಶಾಲ ಮಾರುಕಟ್ಟೆಯನ್ನು ಮೀರಿಸುತ್ತಿದೆ ಮತ್ತು ಹರಡುವ ಮಾರಣಾಂತಿಕ ವೈರಸ್\\u200cನ ಬೆದರಿಕೆಯಿಂದ ಪ್ರಯಾಣವನ್ನು ಉತ್ತೇಜಿಸುವ ಕಂಪನಿಗಳು,1\\n\"ರಜಾದಿನಗಳಲ್ಲಿ ಕಡಿದಾದ ಮಾರಾಟ ಕುಸಿತದ ಹೊರತಾಗಿಯೂ ಜೆಸಿ ಪೆನ್ನಿಯ ನಾಲ್ಕನೇ ತ್ರೈಮಾಸಿಕದ ಆದಾಯವು ವಿಶ್ಲೇಷಕರ ನಿರೀಕ್ಷೆಯಲ್ಲಿ ಅಗ್ರಸ್ಥಾನದಲ್ಲಿದೆ ಎಂದು ಕಂಪನಿಯು ಗುರುವಾರ ಬೆಳಿಗ್ಗೆ ಹೇಳಿದೆ. ಕಂಪನಿಯು ಹಣಕಾಸಿನ ನಾಲ್ಕನೇ ತ್ರೈಮಾಸಿಕದಲ್ಲಿ ಫೆಬ್ರವರಿ 1 ಕ್ಕೆ ಕೊನೆಗೊಂಡಿದೆ. ರಿಫಿನಿಟಿವ್ ಸಿಇಒ ಜಿಲ್ ಎಳೆದ ದತ್ತಾಂಶದ ಆಧಾರದ ಮೇಲೆ ವಿಶ್ಲೇಷಕರು ನಿರೀಕ್ಷಿಸುತ್ತಿರುವುದಕ್ಕೆ ಹೋಲಿಸಿದರೆ ರಜಾದಿನಗಳಲ್ಲಿ ದುರ್ಬಲ ತಾಣವಾಗಿದ್ದ ಪೆನ್ನಿಯ ಮಹಿಳಾ ಉಡುಪು ವ್ಯವಹಾರದಲ್ಲಿನ ಸುಧಾರಣೆಗಳನ್ನು ಸೊಲ್ಟೌ ಉಲ್ಲೇಖಿಸಿದ್ದಾರೆ, ಪೆನ್ನಿ ಈಗ 2020 ರ ಆರ್ಥಿಕ ವರ್ಷದಲ್ಲಿ ಅದೇ ಅಂಗಡಿ ಮಾರಾಟವನ್ನು 3 5 ರಿಂದ 4 4 ಕ್ಕೆ ಇಳಿಸಲು ಕರೆ ನೀಡುತ್ತಿದೆ. ಕರೋನವೈರಸ್ ಏಕಾಏಕಿ ಅದೇ ಅಂಗಡಿಯ ಮಾರಾಟದಿಂದ ಯಾವುದೇ ಪರಿಣಾಮವನ್ನು ಹೊರತುಪಡಿಸಿ ಜನವರಿ 4 ರಂದು ಕೊನೆಗೊಂಡ ಒಂಬತ್ತು ವಾರಗಳ ಅವಧಿ 7 ಇಳಿದಿದೆ 7 5 ಪೆನ್ನೆ ಕಳೆದ ತಿಂಗಳು 233 3 ಮಿಲಿಯನ್ ಮಾರುಕಟ್ಟೆ ಕ್ಯಾಪ್ ಹೊಂದಿರುವ ಪೆನ್ನೆ ಕಳೆದ 12 ತಿಂಗಳುಗಳಲ್ಲಿ ತನ್ನ ಷೇರುಗಳು 40 ಕ್ಕಿಂತ ಹೆಚ್ಚು ಕುಸಿದಿದೆ ಎಂದು ಹೇಳಿದರು\",0\\nಕರೋನವೈರಸ್ ಏಕಾಏಕಿ ವಿಸ್ತರಿಸಿದಂತೆ ಕಲಾ ಪ್ರಪಂಚವು ಯಶಸ್ವಿಯಾಗುತ್ತಿದೆ ಅನೇಕ ಹಾಲಿವುಡ್ ಚಲನಚಿತ್ರಗಳು ಲಲಿತಕಲಾ ಪ್ರದರ್ಶನಗಳು ಮತ್ತು ಸಂಗೀತ ಕಚೇರಿಗಳನ್ನು ರದ್ದುಗೊಳಿಸಲಾಗಿದೆ ಅಥವಾ ವಿಳಂಬಗೊಳಿಸಲಾಗಿದೆ,0\\n\"ಎಪಿ ಫೈಲ್ ಫೋಟೋ ಸಿಂಗಾಪುರ COVID 19 ಏಕಾಏಕಿ ಪ್ರತಿಕೂಲ ಪರಿಣಾಮ ಬೀರುವ ಟ್ಯಾಕ್ಸಿ ಡ್ರೈವರ್\\u200cಗಳಿಗೆ ಹೆಚ್ಚಿನ ಆರ್ಥಿಕ ನೆರವು ನೀಡುವಂತೆ ಸಾರಿಗೆ ಗುಂಪಿನ ಕಂಫರ್ಟ್\\u200cಡೆಲ್\\u200cಗ್ರೋ ಟ್ಯಾಕ್ಸಿ ವ್ಯವಹಾರದ ಮುಖ್ಯ ಕಾರ್ಯನಿರ್ವಾಹಕ ಗುರುವಾರ ಫೆಬ್ರವರಿ 27 ರಂದು ಸರ್ಕಾರಕ್ಕೆ ಕರೆ ನೀಡಿದರು. ಪಾರ್ಲಿಮೆಂಟ್ ಕಂಫರ್ಟ್\\u200cಡೆಲ್ಗ್ರೋ ಟ್ಯಾಕ್ಸಿ ಸಿಇಒ ಇತ್ತೀಚೆಗೆ ಘೋಷಿಸಿದ 73 ಮಿಲಿಯನ್ ವಿಶೇಷ ಪರಿಹಾರ ನಿಧಿಯನ್ನು ಹೆಚ್ಚಿಸುವ ಮೂಲಕ ಟ್ಯಾಕ್ಸಿ ಕಂಪನಿಗಳು ತಮ್ಮ ಚಾಲಕರಿಗೆ ಏನು ಒದಗಿಸುತ್ತಿವೆ ಎಂಬುದನ್ನು ಹೊಂದಿಸುವುದು ಸರ್ಕಾರವು ಇದನ್ನು ಮಾಡಬಹುದಾದ ಒಂದು ಮಾರ್ಗವಾಗಿದೆ ಎಂದು ಆಂಗ್ ವೀ ನೆಂಗ್ ಗಮನಸೆಳೆದಿದ್ದಾರೆ. ಇಲ್ಲಿರುವ ಎಲ್ಲಾ ಟ್ಯಾಕ್ಸಿ ಕಂಪನಿಗಳು ಸರ್ಕಾರದ ವಿಶೇಷ ಮತ್ತು ಅದಕ್ಕಿಂತ ಹೆಚ್ಚಿನ ಸಹಾಯವನ್ನು ನೀಡುತ್ತಿವೆ ದಿನಕ್ಕೆ 10 ರ ಪರಿಹಾರ ನಿಧಿ ಜುರಾಂಗ್ ಜಿಆರ್\\u200cಸಿಗೆ ಸಂಸತ್ ಸದಸ್ಯರೂ ಆಗಿರುವ ಆಂಗ್, ಟ್ಯಾಕ್ಸಿ ಮತ್ತು ಖಾಸಗಿ ಬಾಡಿಗೆ ಕಾರು ಚಾಲಕರಿಗೆ 77 ಮಿಲಿಯನ್ ಬೆಂಬಲ ಪ್ಯಾಕೇಜ್\\u200cನ ನಿಧಿಯ ಅಡಿಯಲ್ಲಿ ಏಕಾಏಕಿ ಚಾಲಕರು ವೆಚ್ಚವನ್ನು ತಪ್ಪಿಸಲು ದಿನಕ್ಕೆ 20 ರವರೆಗೆ ಪಡೆಯುತ್ತಾರೆ ಮೂರು ತಿಂಗಳುಗಳ ಕಾಲ ಸರ್ಕಾರ ಮತ್ತು ನಿರ್ವಾಹಕರು ಸಮಾನವಾಗಿ ಕೊಡುಗೆ ನೀಡುತ್ತಾರೆ ಟ್ಯಾಕ್ಸಿ ಡ್ರೈವರ್\\u200cಗಳು ಹೆಚ್ಚುವರಿ ಆರ್ಥಿಕ ಸಹಾಯಕ್ಕಾಗಿ ಕರೆ ನೀಡುತ್ತಾರೆ 2003 ರಲ್ಲಿ ತೀವ್ರವಾದ ತೀವ್ರ ಉಸಿರಾಟದ ಸಿಂಡ್ರೋಮ್ SARS ಏಕಾಏಕಿ ಹೋಲಿಸಿದರೆ COVID 19 ಪರಿಸ್ಥಿತಿಯಿಂದ ಹೆಚ್ಚು ಪ್ರತಿಕೂಲ ಪರಿಣಾಮ ಬೀರಿತು.\",0\\n\"ಇಟಲಿಯಿಂದ ಸಿಬ್ಬಂದಿಯೊಬ್ಬರು ಹಿಂದಿರುಗಿದ ನಂತರ ಬುಧವಾರ ಅದನ್ನು ಮುಚ್ಚಲಾಗಿದೆ ಎಂದು ವಿಲಿಯಂ ಮಾರ್ಟಿನ್ ಕೋಫ್ ಜೂನಿಯರ್ ಶಿಶು ಮತ್ತು ನರ್ಸರಿ ಶಾಲೆ ಹೇಳಿದೆ. ಏತನ್ಮಧ್ಯೆ ಚೆಷೈರ್\\u200cನ ಸ್ಯಾಂಡ್\\u200cಬಾಚ್ ಪ್ರೌ School ಶಾಲೆ ಇಟಲಿಯ ಲೊಂಬಾರ್ಡಿ ಪ್ರದೇಶದ ಏಪ್ರಿಕಾಕ್ಕೆ ಭೇಟಿ ನೀಡಿದ ವಿದ್ಯಾರ್ಥಿಗಳು ಮತ್ತು ಸಿಬ್ಬಂದಿ ಒಳಾಂಗಣದಲ್ಲಿ ಮತ್ತು ಸ್ವಯಂ ಒಳಗೆ ಇರಬೇಕೆಂದು ಹೇಳಿದರು ಪ್ರತ್ಯೇಕಿಸಿ ನಾಂಟ್ವಿಚ್\\u200cನ ಮೂರನೇ ಚೆಷೈರ್ ಶಾಲೆ ಬ್ರೈನ್ ಲೀಸ್ ಸ್ಕೂಲ್, ಸಿಬ್ಬಂದಿ ಕೊರತೆಯಿಂದಾಗಿ ಅದರ ಆರನೇ ರೂಪವನ್ನು ಮುಚ್ಚಲಾಗಿದೆ ಎಂದು ಹೇಳಿದರು. ನ್ಯೂಕ್ವೇಯಲ್ಲಿನ ಟ್ರೆಥೆರಾಸ್ ಸ್ಕೀ ಪ್ರವಾಸಗಳಿಂದ ಹಿಂದಿರುಗಿದ ನಂತರ ಮನೆಯಲ್ಲೇ ಇರಲು ಸೂಚಿಸಲಾಗಿದೆ ಮತ್ತು ಪ್ರಿನ್ಸ್ ಜಾರ್ಜ್ ಮತ್ತು ಪ್ರಿನ್ಸೆಸ್ ಷಾರ್ಲೆಟ್ ಅವರ ಪ್ರಾಥಮಿಕ ಶಾಲೆಯಲ್ಲಿ ಥಾಮಸ್ ಬ್ಯಾಟರ್ಸಿಯಾದಲ್ಲಿ ನಾಲ್ಕು ವಿದ್ಯಾರ್ಥಿಗಳನ್ನು ಉತ್ತರ ಇಟಲಿಗೆ ಪ್ರವಾಸದ ನಂತರ ಮುನ್ನೆಚ್ಚರಿಕೆ ಕ್ರಮವಾಗಿ ಮನೆಗೆ ಕಳುಹಿಸಲಾಗಿದೆ ಎಂದು ವರದಿಯಾಗಿದೆ\",0\\n\"10 ಪ್ರಮುಖ ವಿಮಾನ ನಿಲ್ದಾಣಗಳ ಮೂಲಕ ಪ್ರಯಾಣಿಸುವ ಹೆಚ್ಚಿನ ಜನರು ತಮ್ಮ ಕೈಗಳನ್ನು ಸರಿಯಾಗಿ ತೊಳೆಯುತ್ತಿದ್ದರೆ ವಿಶ್ವಾದ್ಯಂತ ರೋಗ ಹರಡುವುದನ್ನು ಗಮನಾರ್ಹವಾಗಿ ಕಡಿಮೆ ಮಾಡಬಹುದು ಎಂದು ಡಿಸೆಂಬರ್\\u200cನಲ್ಲಿ ಪ್ರಕಟವಾದ ಅಧ್ಯಯನವು ಇದನ್ನು ಒತ್ತಿಹೇಳಿದೆ. ಜನರು ಕೈ ತೊಳೆಯುತ್ತಿದ್ದರೆ ಅದು ಹರಡುವುದನ್ನು ತಡೆಯಲು ಬಹಳ ದೂರ ಹೋಗುತ್ತದೆ ಅನಾರೋಗ್ಯದ ಕಚ್ಚಾ ಮಾಂಸವನ್ನು ಒಳಗೊಂಡ ಆಹಾರ ತಯಾರಿಕೆಯ ಸಮಯದಲ್ಲಿ ಕೈ ತೊಳೆಯುವ ಬಗ್ಗೆ ಯುಎಸ್\\u200cಡಿಎ ಅಧ್ಯಯನಗಳನ್ನು ಬ್ರಾಶಿಯರ್ಸ್ ಉಲ್ಲೇಖಿಸಿದ್ದಾರೆ, ಹೆಚ್ಚಿನ ಜನರು ಕೈ ತೊಳೆಯಬೇಕು ಎಂದು ತಿಳಿದಿರುವಾಗ ಲೋಡ್ ಆಗುತ್ತಿದೆ ಸಿಡಿಸಿ ಬಿಸಿನೀರು ಯಾವುದೇ ರೋಗಾಣುಗಳನ್ನು ಕೊಲ್ಲುವುದಿಲ್ಲ ಮತ್ತು ನಿಮ್ಮ ಕೈಗಳನ್ನು ಕೆರಳಿಸಬಹುದು ಎಂದು ಹೇಳುತ್ತದೆ ಆದ್ದರಿಂದ ಸಂಸ್ಥೆ ಶೀತವನ್ನು ಶಿಫಾರಸು ಮಾಡುತ್ತದೆ ಅಥವಾ ಬೆಚ್ಚಗಿನ ನೀರು ಸಿಡಿಸಿ ಸೋಪ್ ಮತ್ತು ನೀರಿಗೆ ಆದ್ಯತೆ ನೀಡುತ್ತದೆಯೆಂದರೆ ಎಲ್ಲಾ ರೋಗಾಣುಗಳನ್ನು ಕಡಿಮೆ ಮಾಡಲು ಅವು ಪರಿಣಾಮಕಾರಿ ಏಕೆಂದರೆ ಹ್ಯಾಂಡ್ ಸ್ಯಾನಿಟೈಸರ್ಗಳು ನಿಮಗೆ ಇನ್ನೊಂದು ಆಯ್ಕೆ ಇಲ್ಲದಿದ್ದರೆ ಉತ್ತಮ ಪರ್ಯಾಯವಾಗಿದೆ\",0\\nವಿದೇಶಾಂಗ ವ್ಯವಹಾರಗಳ ಸಿ.ಎಸ್. ವೈರಸ್\\u200cನಿಂದ 239 ಪ್ರಯಾಣಿಕರನ್ನು ಹೊತ್ತೊಯ್ಯುವ ವಿಮಾನವನ್ನು ಚೀನಾ ದೇಶಕ್ಕೆ ಅಪ್ಪಳಿಸಲು ಅನುಮತಿ ನೀಡುವ ಸರ್ಕಾರದ ಕ್ರಮವನ್ನು ವಿದೇಶಾಂಗ ವ್ಯವಹಾರಗಳ ಕ್ಯಾಬಿನೆಟ್ ಕಾರ್ಯದರ್ಶಿ ರೇಚೆಲ್ ಒಮಾಮೊ ಸಮರ್ಥಿಸಿಕೊಂಡಿದ್ದಾರೆ. ವಿಶ್ವ ಆರೋಗ್ಯ ಸಂಸ್ಥೆ ಡಬ್ಲ್ಯುಎಚ್\\u200cಒ ಮಾರ್ಗಸೂಚಿಗಳು ಸ್ವಯಂ ಸಂಪರ್ಕತಡೆಯನ್ನು ಹೇಳಿಕೆಯಿಂದ ಸಂಸದರು ಚೀನಾದಿಂದ ವಿಮಾನಗಳನ್ನು ತಕ್ಷಣವೇ ಸ್ಥಗಿತಗೊಳಿಸುವಂತೆ ಒಮಾಮೊ ಅವರನ್ನು ಕೇಳಿದರು.,0\\n\"ಪೋಪ್ ಫ್ರಾನ್ಸಿಸ್ 83 ನಾನು ರೋಮ್ನಲ್ಲಿ ಹೋಗುತ್ತೇನೆ ಮತ್ತು ಈವೆಂಟ್ ಅನ್ನು ರದ್ದುಗೊಳಿಸುತ್ತೇನೆ ಮಿರರ್ 27 ಫೆಬ್ರವರಿ 2020 15 57 10 ಜಿಎಂಟಿ 0300 ಪೋಪ್ ಫ್ರಾನ್ಸಿಸ್ ಚಿತ್ರವನ್ನು ತೆಗೆದುಕೊಂಡಿದ್ದೇನೆ ಮತ್ತು ರೋಮ್ ಬೆಸಿಲಿಕಾದಲ್ಲಿ ನಡೆದ ಘಟನೆಯನ್ನು ರದ್ದುಗೊಳಿಸಿದೆ ಏಕೆಂದರೆ ಉತ್ತರ ಇಟಲಿಯ ಪಟ್ಟಣಗಳನ್ನು ಕರೋನವೈರಸ್ ಬೀಗ ಹಾಕುತ್ತದೆ. ನೋಡಿ ಪೋಪ್ ಚಿತ್ರಹಿಂಸೆ ಗುಲಾಮಗಿರಿಯನ್ನು ಖಂಡಿಸಿದ್ದಾರೆ ಲಿಬಿಯಾದ ವಲಸೆ ಶಿಬಿರಗಳು ಸಾಂಟಾ ಮಾರ್ಟಾದೊಳಗೆ ಇರಲು ಅವರು ಆದ್ಯತೆ ನೀಡಿದ್ದರಿಂದ ವ್ಯಾಟಿಕನ್ 83 ವರ್ಷದ ಮಠಾಧೀಶರು ವಾಸಿಸುವ ವ್ಯಾಟಿಕನ್ ಅತಿಥಿಗೃಹವನ್ನು ಉಲ್ಲೇಖಿಸಿ ಈಗ ಚಂದಾದಾರರಾಗಿ ಪೋಪ್ ಶೀತದಿಂದ ಕಾಣಿಸಿಕೊಂಡರು ಮತ್ತು ಅವರ ಸಾಮಾನ್ಯ ಪ್ರೇಕ್ಷಕರಲ್ಲಿ ಸ್ವಲ್ಪ ಗಟ್ಟಿಯಾದ ಧ್ವನಿಯೊಂದಿಗೆ ಮಾತನಾಡಿದರು ರೋಮ್ ಚರ್ಚ್ನಲ್ಲಿ ಬುಧವಾರ ಬೂದಿ ಬುಧವಾರದ ಸೇವೆಯನ್ನೂ ನೋಡಿ ಪೋಪ್ ಮಹಿಳೆಯನ್ನು ಕಪಾಳಕ್ಕೆ ಕ್ಷಮಿಸಿ ಎಂದು ನೋಡಿ. ವ್ಯಾಟಿಕನ್ ಪೋಪ್ ಮತ್ತು ಕಾರ್ಡಿನಲ್ ಆಂಟೋನಿಯೊ ಟ್ಯಾಗಲ್ ಫಿಲಿಪಿನೊ ಚಿತ್ರವನ್ನು ಬಿಡುಗಡೆ ಮಾಡಿದೆ, ಅವರು ಗುರುವಾರ ಬೆಳಿಗ್ಗೆ ವ್ಯಾಟಿಕನ್ ಸಭೆಯಲ್ಲಿ ಹೊಸ ಪೋಸ್ಟ್ನಲ್ಲಿ ಪ್ರಾರಂಭಿಸಿದ್ದಾರೆ ಗ್ಲೋಬಲ್ ಕ್ಯಾಥೊಲಿಕ್ ಹವಾಮಾನ ಚಳವಳಿಯ ಸದಸ್ಯರೊಂದಿಗೆ ಅಂತರರಾಷ್ಟ್ರೀಯ ಪರಿಸರ ಸಮೂಹವನ್ನು ನೋಡಿ ಪೋಪ್ ಫ್ರಾನ್ಸಿಸ್ ನನ್ ಚುಂಬಿಸುತ್ತಾನೆ ಪೋಪ್ ಹೋಗಲು ಕಾರಣ ರೋಮನ್ ಪುರೋಹಿತರೊಂದಿಗೆ ಲೆಂಟನ್ ಸೇವೆಗಾಗಿ ಗುರುವಾರ ಬೆಳಿಗ್ಗೆ ಲ್ಯಾಟೆರನ್ನಲ್ಲಿರುವ ಸೇಂಟ್ ಜಾನ್ಸ್ ಬೆಸಿಲಿಕಾ\",0\\nಬೆರ್ಲಿನ್ ಫೆಬ್ರವರಿ 27 ರಾಯಿಟರ್ಸ್ ಕರೋನವೈರಸ್ ಸಾಂಕ್ರಾಮಿಕವು ಆರ್ಥಿಕತೆಗೆ ಕಠಿಣ ವ್ಯವಹಾರವನ್ನು ಹೊಡೆದರೆ ಹಣಕಾಸಿನ ಉತ್ತೇಜನ ಕಾರ್ಯಕ್ರಮವನ್ನು ಪ್ರಾರಂಭಿಸಲು ಜರ್ಮನ್ ಸರ್ಕಾರ ಚಿಂತಿಸುತ್ತಿದೆ. ಸರ್ಕಾರಿ ಮೂಲಗಳನ್ನು ಉಲ್ಲೇಖಿಸಿ ಹ್ಯಾಂಡೆಲ್ಸ್ಬ್ಲಾಟ್ ಗುರುವಾರ ವರದಿ ಮಾಡಿದೆ. ನಾವು ಪ್ರಸ್ತುತ ವಿವಿಧ ಸನ್ನಿವೇಶಗಳನ್ನು ಮತ್ತು ಆರ್ಥಿಕತೆಯ ನೆರವು ಕ್ರಮಗಳನ್ನು ಪರಿಶೀಲಿಸುತ್ತಿದ್ದೇವೆ ಎಂದು ಪತ್ರಿಕೆ ಅಧಿಕೃತ ಉಲ್ಲೇಖಿಸಿದೆ ವೈರಸ್ ಎಷ್ಟು ಹರಡುತ್ತದೆ ಎಂಬುದರ ಆಧಾರದ ಮೇಲೆ ಟೇಬಲ್\\u200cನಲ್ಲಿ ವಿಭಿನ್ನ ಆಯ್ಕೆಗಳಿವೆ. ಕೆಲವೇ ದಿನಗಳಲ್ಲಿ ಯೋಜನೆ ಲಭ್ಯವಿರಬೇಕು ಎಂದು ಅಧಿಕಾರಿ ಹೇಳಿದರು,1\\nಘಾನಾ ವಿಶ್ವವಿದ್ಯಾಲಯದ ಕ್ಯಾಂಪಸ್\\u200cಗಳಲ್ಲಿ 2019 ರ COVID 19 ಮತ್ತು ದೇಶವು ದೊಡ್ಡ ಪ್ರಮಾಣದಲ್ಲಿ ಕೊರೊನಾವೈರಸ್ ಕಾಯಿಲೆಯ ಯಾವುದೇ ಏಕಾಏಕಿ ಎದುರಿಸುವ ಯೋಜನೆಗಳ ಒಂದು ಭಾಗವಾಗಿದೆ ಮತ್ತು ಪ್ರಕರಣಗಳನ್ನು ನಿರ್ವಹಿಸಲು ಅದರ ಸಿದ್ಧತೆಯ ಬಗ್ಗೆ ವಿಶ್ವವಿದ್ಯಾಲಯ ಸಮುದಾಯವನ್ನು ನವೀಕರಿಸುವುದು ಅಧಿಕಾರಿಗಳು COVID ಯ ಎಲ್ಲಾ ದೃ confirmed ಪಡಿಸಿದ ಪ್ರಕರಣಗಳನ್ನು ಸೂಚಿಸಿದ್ದಾರೆ ಘಾನಾ ಪರೀಕ್ಷೆಯಲ್ಲಿ negative ಣಾತ್ಮಕವಾಗಿ 19 ಸೋಂಕನ್ನು ತಕ್ಷಣ ರಿಡ್ಜ್ ಆಸ್ಪತ್ರೆಗೆ ವರ್ಗಾಯಿಸಲಾಗುವುದು. ಈ ತಿಂಗಳ ಆರಂಭದಲ್ಲಿ 13 ಜನರು ವೈರಸ್ ಸೋಂಕಿಗೆ ಒಳಗಾಗಿದ್ದಾರೆಂದು ಶಂಕಿಸಲಾಗಿದೆ ಎಲ್ಲಾ negative ಣಾತ್ಮಕ ಪರೀಕ್ಷೆ ಘಾನಾ ಆರೋಗ್ಯ ಸೇವೆ ಘೋಷಿಸಿದೆ ಅಷ್ಟರಲ್ಲಿ ಆರೋಗ್ಯ ಸಚಿವಾಲಯವು ರಿಡ್ಜ್ ಆಸ್ಪತ್ರೆ ಮತ್ತು ದೇಶದಲ್ಲಿ ಕರೋನವೈರಸ್ ಸಂಭವನೀಯ ಪ್ರಕರಣಗಳನ್ನು ನಿರ್ವಹಿಸುವ ಕೇಂದ್ರಗಳಾಗಿ ತೆಮಾ ಜನರಲ್ ಆಸ್ಪತ್ರೆ ಈ ಕ್ರಮವು ದೇಶದಲ್ಲಿ ಪತ್ತೆಯಾಗಬಹುದಾದ ಯಾವುದೇ ಪ್ರಕರಣವನ್ನು ತಡೆಗಟ್ಟಲು ಮತ್ತು ನಿಯಂತ್ರಿಸಲು ಮತ್ತು ಅಂತಿಮವಾಗಿ ಘಾನಾದ ಜನಸಂಖ್ಯೆಯನ್ನು ರಕ್ಷಿಸುವ ಘಾನಾದ ಯೋಜನೆಗಳ ಒಂದು ಭಾಗವಾಗಿದೆ.,1\\nಅಟಲಾಂಟಾ 3 ರೊಂದಿಗಿನ ವೇಲೆನ್ಸಿಯಾದ ಚಾಂಪಿಯನ್ಸ್ ಲೀಗ್ ಘರ್ಷಣೆಯನ್ನು ಸರಿದೂಗಿಸಲು ಮಿಲನ್\\u200cಗೆ ಪ್ರಯಾಣಿಸಿದ ನಂತರ ಸ್ಪ್ಯಾನಿಷ್ ಪತ್ರಕರ್ತರೊಬ್ಬರು ಕರೋನವೈರಸ್\\u200cಗೆ ಧನಾತ್ಮಕ ಪರೀಕ್ಷೆ ಮಾಡಿದ್ದಾರೆ. ಡಬ್ಲಿನ್\\u200cನಲ್ಲಿ ಐರ್ಲೆಂಡ್ ವಿರುದ್ಧದ ಇಟಲಿಯ ಸಿಕ್ಸ್ ನೇಷನ್ಸ್ ಪಂದ್ಯವನ್ನು ಮಾರಣಾಂತಿಕ ವೈರಸ್\\u200cಗೆ ತುತ್ತಾಗಿರುವುದನ್ನು ದೃ to ೀಕರಿಸಲು ಅವರನ್ನು ರಾಷ್ಟ್ರೀಯ ಮೈಕ್ರೋಬಯಾಲಜಿ ಕೇಂದ್ರಕ್ಕೆ ಕರೆದೊಯ್ಯಲಾಗಿದೆ ಎಂದು ವರದಿ ಮಾಡಿದೆ. ಕೊರೊನಾವೈರಸ್ ಭಯದಿಂದಾಗಿ ಐರ್ಲೆಂಡ್ ಕೂಡ ಇಟಲಿಯನ್ನು ಅಂಡರ್ 20 ಸಿಕ್ಸ್ ನೇಷನ್ಸ್ ಆಟದಲ್ಲಿ ಆಡಲಿದೆ ಮತ್ತು ಆ ವಾರಾಂತ್ಯದಲ್ಲಿ ಮಹಿಳಾ ಅಂತರರಾಷ್ಟ್ರೀಯ ಪಂದ್ಯವನ್ನು ರದ್ದುಪಡಿಸಲಾಗಿದೆ 3 ಮಿಲನ್\\u200cನ ಸ್ಯಾನ್ ಸಿರೋದಲ್ಲಿ ಈ ಪಂದ್ಯ ನಡೆಯಿತು ಮತ್ತು ಸ್ಪೇನ್ ಕ್ರೆಡಿಟ್ ಇಪಾಸ್ಟೇಟ್ಮೆಂಟ್\\u200cನಲ್ಲಿ ಎರಡನೇ ಹಂತಕ್ಕೆ ಹಾಜರಾಗುವ ಅಟಲಾಂಟಾ ಅಭಿಮಾನಿಗಳನ್ನು ತಡೆಯಲು ವೇಲೆನ್ಸಿಯಾ ಚಿಂತಿಸುತ್ತಿದೆ.,0\\n\"ನೊರೀನ್ ಬರ್ಕ್ ಅವರಿಂದ ಇನ್ವೆಸ್ಟಿಂಗ್ ಕಾಮ್ ಗುರುವಾರ 370 ಪಾಯಿಂಟ್\\u200cಗಳಿಗಿಂತಲೂ ಹೆಚ್ಚು ಕುಸಿದಿದೆ ಮತ್ತು ಹೊಸ ದಾಖಲೆಯ ಕನಿಷ್ಠ ಮಟ್ಟವನ್ನು ಮುಟ್ಟಿತು, ಏಕೆಂದರೆ ಚೀನಾದೊಳಗಿನ ಹೊಸ ಕೊರೊನಾವೈರಸ್ ಪ್ರಕರಣಗಳು ಬೇರೆಡೆ ಹೊಸ ಪ್ರಕರಣಗಳಿಂದ ಹೊರಬಂದವು. ಪ್ರಪಂಚದಾದ್ಯಂತ ಸಾಂಕ್ರಾಮಿಕ ರೋಗ ಹರಡುವುದನ್ನು ಎತ್ತಿ ತೋರಿಸುತ್ತದೆ. 10 ವರ್ಷಗಳ ಸಾಲಕ್ಕೆ ಬೆಲೆ ಏರಿಕೆ 1 29 ಕ್ಕಿಂತ ಕಡಿಮೆಯಾದಾಗ ಮತ್ತು ಇಳುವರಿ ರೇಖೆಯು ಹಿಂಜರಿತದ ಎಚ್ಚರಿಕೆಗಳನ್ನು ಕಳುಹಿಸುತ್ತಲೇ ಇತ್ತು. ವೇಗವಾಗಿ ಹರಡುವ ವೈರಸ್\\u200cನಿಂದ ಜಾಗತಿಕ ಆರ್ಥಿಕ ಬೆಳವಣಿಗೆಗೆ ತುತ್ತಾಗುತ್ತಿರುವ ಆತಂಕಗಳು ಜಾಗತಿಕ ಷೇರು ಮಾರುಕಟ್ಟೆಗಳಲ್ಲಿ ಗುರುವಾರ ತಮ್ಮ ಮೌಲ್ಯ ಕುಸಿತವನ್ನು ಹೆಚ್ಚಿಸುತ್ತಿವೆ ಈ ವಾರದಲ್ಲಿ ಕೇವಲ 3 ಟ್ರಿಲಿಯನ್ಗಿಂತ ಹೆಚ್ಚು ಹೂಡಿಕೆದಾರರು ನಿಮ್ಮ ಅಧ್ಯಕ್ಷರಾದ ಡೊನಾಲ್ಡ್ ಟ್ರಂಪ್ ನಿಮ್ಮನ್ನು ಶಾಂತಗೊಳಿಸುವ ಪ್ರಯತ್ನವನ್ನು ಕೈಬಿಟ್ಟರು, ವೈರಸ್ನಿಂದ ಅಪಾಯವು ತುಂಬಾ ಕಡಿಮೆಯಾಗಿದೆ ಮತ್ತು ಬೆದರಿಕೆಯನ್ನು ಎದುರಿಸಲು ನೀವು ತುಂಬಾ ಸಿದ್ಧರಿದ್ದೀರಿ ಎಂದು ಹೇಳಿದ ಎಸ್ ಸ್ಟಾಕ್ ಮಾರುಕಟ್ಟೆಗಳು 0 ನೀವು ಎಸ್ ಖಜಾನೆ ಇಳುವರಿಯನ್ನು ಹೆಚ್ಚಿಸಿದರೂ 7 ನ್ಸ್ 1654 ಕ್ಕೆ 7\",0\\nಸಿಂಗಾಪುರ ಫೆಬ್ರವರಿ 26 ರ ಬುಧವಾರದಂದು ಇಲ್ಲಿರುವ ಎಲ್ಲಾ ಮನೆಗಳಲ್ಲಿ ಮೂರನೇ ಎರಡರಷ್ಟು ಜನರು ತಮ್ಮ ಉಚಿತ ಮುಖವಾಡಗಳನ್ನು ಸಂಗ್ರಹಿಸಿದ್ದಾರೆ ಎಂದು ಪೀಪಲ್ಸ್ ಅಸೋಸಿಯೇಷನ್ \\u200b\\u200bಪಿಎ ಗುರುವಾರ ಹೇಳಿಕೆಯಲ್ಲಿ ಮುಖವಾಡ ಸಂಗ್ರಹ ಅವಧಿಯನ್ನು ಫೆಬ್ರವರಿ 9 ರಿಂದ ಶನಿವಾರ ಫೆಬ್ರವರಿ 29 ರವರೆಗೆ ವಿಸ್ತರಿಸಿದ ನಂತರ ಈ ನವೀಕರಣವು ಬಂದಿದೆ ಎಂದು ಹೇಳಿದರು. [1] ಸರ್ಕಾರವು ಪ್ರತಿ ಮನೆಗೆ ನಾಲ್ಕು ಸಮುದಾಯಗಳ ಮುಖವಾಡಗಳನ್ನು ವಿವಿಧ ಸಮುದಾಯ ಕೇಂದ್ರಗಳಲ್ಲಿ ಸಂಗ್ರಹಿಸಲು ಲಭ್ಯವಾಯಿತು ಮತ್ತು ನಿವಾಸಿಗಳ ಸಮಿತಿ ಕೇಂದ್ರಗಳು ದ್ವೀಪವ್ಯಾಪಿ ಪಿಎ ಗುರುವಾರ ಮುಖವಾಡ ವಿತರಣೆಗೆ ಸಹಕರಿಸಿದ ಸ್ವಯಂಸೇವಕರಿಗೆ ಧನ್ಯವಾದಗಳನ್ನು ಅರ್ಪಿಸಿದೆ. ನಿವಾಸಿಗಳು ಜಾಗರೂಕರಾಗಿದ್ದರು ಮತ್ತು ಮುಖವಾಡಗಳನ್ನು ಮಾತ್ರ ಸಂಗ್ರಹಿಸಿದರೆ ಮಾತ್ರ ಅವರ ಕುಟುಂಬಕ್ಕೆ ಅವರಿಗೆ ಅಗತ್ಯವಿತ್ತು ನಮ್ಮ ಆರೋಗ್ಯ ಸಂಸ್ಥೆಗಳು ಮತ್ತು ಅಗತ್ಯವಿರುವವರಿಗೆ ಸರಬರಾಜು ಮಾಡಲು ಅವಕಾಶವಿದೆ ಎಂದು ಖಚಿತಪಡಿಸಿಕೊಳ್ಳಲು ಉಳಿದ ಮುಖವಾಡಗಳನ್ನು ರಾಷ್ಟ್ರೀಯ ದಾಸ್ತಾನುಗಳಿಗೆ ಹಿಂತಿರುಗಿಸಲಾಗುತ್ತದೆ ಮುಖವಾಡಗಳು ಅಗತ್ಯವಿರುವ ಮತ್ತು ಅವುಗಳನ್ನು ಸಂಗ್ರಹಿಸದವರಿಗೆ ಸಹ ಅವರು ಶನಿವಾರದವರೆಗೆ ಹಾಗೆ ಮಾಡಬಹುದು ಎಂದು ನೆನಪಿಸಲಾಯಿತು,1\\nಭಾರತೀಯ ವಾಯುಪಡೆಯ ಸಿ 17 ಗ್ಲೋಬ್\\u200cಮಾಸ್ಟರ್ ವಿಮಾನದಿಂದ ಮಾರಣಾಂತಿಕ ಕರೋನವೈರಸ್ ಏಕಾಏಕಿ ಉಂಟಾದ ವುಹಾನ್ ಕೇಂದ್ರಬಿಂದುವಿನಿಂದ ಗುರುವಾರ ದೆಹಲಿಗೆ ವಿಮಾನದಲ್ಲಿ ಸಾಗಿಸಲ್ಪಟ್ಟ 112 ಜನರನ್ನು ರಾಜಧಾನಿಯ ಚಾವ್ಲಾದಲ್ಲಿರುವ ಇಂಡೋ ಟಿಬೆಟಿಯನ್ ಬಾರ್ಡರ್ ಪೋಲಿಸ್ ಕ್ಯಾರೆಂಟೈನ್ ಸೌಲಭ್ಯದಲ್ಲಿ ನಿರ್ಬಂಧಿಸಲಾಗಿದೆ. ಸಿ 17 ಗ್ಲೋಬ್\\u200cಮಾಸ್ಟರ್ ವಿಮಾನ ಭಾರತೀಯ ವಾಯುಪಡೆಯ ಐಎಎಫ್ ಗುರುವಾರ ಬೆಳಿಗ್ಗೆ ಚೀನಾದಿಂದ 36 ವಿದೇಶಿ ಪ್ರಜೆಗಳು ಸೇರಿದಂತೆ 112 ಸ್ಥಳಾಂತರಗೊಂಡಿದೆ. ವಿದೇಶಿ ಪ್ರಜೆಗಳಲ್ಲಿ ಬಾಂಗ್ಲಾದೇಶದ 23 ಪ್ರಜೆಗಳು 6 ಚೀನಾದಿಂದ 2 ತಲಾ 2 ಮ್ಯಾನ್ಮಾರ್ ಮತ್ತು ಮಾಲ್ಡೀವ್ಸ್ ಮತ್ತು ದಕ್ಷಿಣ ಆಫ್ರಿಕಾ ಯುಎಸ್ಎ ಮತ್ತು ಮಡಗಾಸ್ಕರ್ ನಿಂದ ತಲಾ ಒಬ್ಬರು ಸೇರಿದ್ದಾರೆ. ಬುಧವಾರ ನಡೆದ ಕಾದಂಬರಿ ಕೊರೊನಾವೈರಸ್ ಏಕಾಏಕಿ ಕೇಂದ್ರಬಿಂದುವಾಗಿರುವ ವುಹಾನ್ ಕೆಲವು ವಾರಗಳ ಹಿಂದೆ ಚೀನಾದಿಂದ ತನ್ನ ಪ್ರಜೆಗಳು ಸೇರಿದಂತೆ ನೂರಾರು ಜನರನ್ನು ಚೀನಾದಿಂದ ಸ್ಥಳಾಂತರಿಸಿದ್ದಾರೆ,0\\n\"ಆದ್ದರಿಂದ ಪ್ರತಿ ಬಾರಿಯೂ ಷೇರುಗಳು ಬಾಂಡ್\\u200cಗಳನ್ನು ಹೆಚ್ಚಿಸಿದಾಗ ಮತ್ತು ತದ್ವಿರುದ್ದವಾಗಿ ಅಕಾಡೆಮಿ ಸೆಕ್ಯುರಿಟೀಸ್ ಪೀಟರ್ ಟಿಚಿರ್ ಯಾಹೂ ಫೈನಾನ್ಸ್\\u200cನ ಅಂತಿಮ ಸುತ್ತಿನಲ್ಲಿ ಹೇಳಿದರು, ಸಾಮಾನ್ಯವಾಗಿ ಹಣಕಾಸು ಮಾರುಕಟ್ಟೆಗಳ ವ್ಯಾಪಾರಸ್ಥರು ಮತ್ತು ಹೂಡಿಕೆದಾರರಲ್ಲಿ ಅನಿಶ್ಚಿತತೆಯ ಏರಿಕೆಗಳು ಷೇರುಗಳಂತಹ ಅಪಾಯಕಾರಿ ಸ್ವತ್ತುಗಳಿಂದ ಮತ್ತು ಬಾಂಡ್\\u200cಗಳಂತಹ ಸುರಕ್ಷಿತ ಧಾಮ ಸ್ವತ್ತುಗಳಾಗಿ ತಿರುಗುತ್ತವೆ. ಬಹುಶಃ ಚಿನ್ನದ ಟ್ಚಿರ್ ಬರೆದಿದ್ದಾರೆ, ಮಾರುಕಟ್ಟೆಯಲ್ಲಿ ಭಾಗವಹಿಸುವವರಿಗೆ ಪರಸ್ಪರ ಸಂಬಂಧಗಳಲ್ಲಿನ ಬದಲಾವಣೆಗಳ ಬಗ್ಗೆ ಅಸ್ಥಿರತೆ ಹೆಚ್ಚಾಗಿದ್ದರೆ, ಹೆಚ್ಚು ನಿಗೂ ot ವಾದವು ಹೆಚ್ಚು ಅಪಾಯಕಾರಿ. ಪರಸ್ಪರ ಸಂಬಂಧದಲ್ಲಿನ ಬದಲಾವಣೆಗಳು ಪೋರ್ಟ್ಫೋಲಿಯೋ ಮಟ್ಟದ ಚಂಚಲತೆಯನ್ನು ಹೆಚ್ಚು ನಾಟಕೀಯವಾಗಿ ಪರಿಣಾಮ ಬೀರಬಹುದು, ಆಸ್ತಿ ತರಗತಿಗಳಲ್ಲಿನ ಚಂಚಲತೆಯ ಸರಳ ಹೆಚ್ಚಳಕ್ಕಿಂತ ಇದು ನಾಟಕೀಯವಾಗಿದೆ ಆದರೆ ಇದು ಮುಖ್ಯವಾಗಿದೆ ಸರಕು ಮತ್ತು ಸೇವೆಗಳ ಪೂರೈಕೆ ಮತ್ತು ಬೇಡಿಕೆಯಂತಹ ಮೂಲಭೂತ ವಿಷಯಗಳಿಗೆ ಸಂಬಂಧಿಸಿದಂತೆ ವಿವೇಚನೆಯಿಲ್ಲದೆ ಸ್ವತ್ತುಗಳನ್ನು ಡಂಪ್ ಮಾಡುವುದರಿಂದ ಪ್ಯಾನಿಕ್ ಮಾರಾಟವು ನಿರೂಪಿಸಲ್ಪಡುತ್ತದೆ, ಆದರೆ ಕರೋನವೈರಸ್ ಹರಡುವಿಕೆಯು ಗ್ರಾಹಕರ ಮೇಲೆ ಪರಿಣಾಮ ಬೀರುವುದರಿಂದ ವಿಶ್ವ ಮಾರುಕಟ್ಟೆಗಳಲ್ಲಿ ಏನಾಗುತ್ತಿದೆ ಎಂಬುದನ್ನು ಸಮರ್ಥಿಸಲು ನೈಜವಾದ ಏನಾದರೂ ಇರಬಹುದು ಎಂದು ಟ್ಚಿರ್ ಹೇಳುತ್ತಾರೆ. ನಡವಳಿಕೆ\",1\\n\"ಕರೋನವೈರಸ್ ಏಕಾಏಕಿ ಆತಂಕಗಳನ್ನು to ಹಿಸಲು ಅಧ್ಯಕ್ಷ ಡೊನಾಲ್ಡ್ ಟ್ರಂಪ್ ಪ್ರಯತ್ನಿಸಿದ ನಂತರವೂ ಗುರುವಾರ ಬೆಳಿಗ್ಗೆ ನೀವು ಎಸ್ ಸ್ಟಾಕ್ ಫ್ಯೂಚರ್ಸ್ ಕುಸಿತವನ್ನು ತೋರಿಸಿದೆ, ಉತ್ತರ ಕ್ಯಾಲಿಫೋರ್ನಿಯಾದ ಅಜ್ಞಾತ ಮೂಲದ ಮೊದಲ ನೀವು ಎಸ್ ಕರೋನವೈರಸ್ ಪ್ರಕರಣವನ್ನು ಸಿಡಿಸಿ ದೃ confirmed ಪಡಿಸಿದ ನಂತರ ಸಮುದಾಯದ ಹರಡುವಿಕೆಯನ್ನು ಸೂಚಿಸುತ್ತದೆ ಕಾಯಿಲೆಯ ಆದರೆ ಟ್ರಂಪ್ ಮಾತನಾಡುವಾಗ ಕರೋನವೈರಸ್ ಪ್ರಕರಣವು ಸ್ಟಾಕ್ ಫ್ಯೂಚರ್\\u200cಗಳನ್ನು ಹೊಡೆಯುವ ವೇಗದಲ್ಲಿ ಹರಡುತ್ತಿದೆ ಎಂಬ ಕಳವಳವನ್ನು ಹೆಚ್ಚಿಸಿದೆ. ಕರೋನವೈರಸ್ ಕಾರ್ಪೊರೇಟ್ ಲಾಭದ ಮೇಲೆ ಹೇಗೆ ಪರಿಣಾಮ ಬೀರುತ್ತದೆ ಮತ್ತು ಜಾಗತಿಕ ಆರ್ಥಿಕ ಬೆಳವಣಿಗೆಯು ನಿಮ್ಮ ಎಸ್ ಸ್ಟಾಕ್ ಮಾರುಕಟ್ಟೆಯನ್ನು ರೋಲ್ ಮಾಡಿದೆ ಈ ವಾರ ದೃ confirmed ಪಡಿಸಿದ ಪ್ರಕರಣಗಳ ಸಂಖ್ಯೆಯು ಟ್ರಂಪ್\\u200cರ ಕಾಮೆಂಟ್\\u200cಗಳನ್ನು ಹೆಚ್ಚಿಸುತ್ತದೆ ಮತ್ತು ಮೈಕ್ರೋಸಾಫ್ಟ್\\u200cನ ಎಚ್ಚರಿಕೆ ಬುಧವಾರ ಡೌ 100 ಪಾಯಿಂಟ್\\u200cಗಳಿಗಿಂತಲೂ ಹೆಚ್ಚು ಕುಸಿದ ನಂತರ ಈ ವಾರದಲ್ಲಿ ಭಾರಿ ಕುಸಿತವನ್ನು ಹೆಚ್ಚಿಸಿದೆ\",0\\n\"ಇಲ್ಲಿ ಸೈನ್ ಅಪ್ ಮಾಡಿ ಕರೋನವೈರಸ್ 401 ಕೆ ಕೊರೊನವೈರಸ್ ಭಯದಿಂದ ಉಂಟಾಗುವ ಬಂಪಿ ಸ್ಟ್ರೆಚ್\\u200cನಂತಹ ಬಾಷ್ಪಶೀಲ ಅವಧಿಗಳಲ್ಲಿ ನಿಮ್ಮ ಹೂಡಿಕೆಗಳನ್ನು ರಕ್ಷಿಸಲು ಸಹಾಯ ಮಾಡಬಹುದೆಂದು ತಜ್ಞರು ಹೇಳುವ ನಾಲ್ಕು ಚಲನೆಗಳು ಇಲ್ಲಿವೆ. ನೀವು ಎಲ್ಲಿ ಹೂಡಿಕೆ ಮಾಡಿದ್ದೀರಿ ಮತ್ತು ಯಾವ ಕಂಪನಿಗಳು ಹೆಚ್ಚು ಸಾಧ್ಯತೆಗಳಿವೆ ಎಂಬುದರ ಬಗ್ಗೆ ಗಮನ ಕೊಡಿ ಪೋರ್ಟ್ಫೋಲಿಯೋ ವ್ಯವಸ್ಥಾಪಕರು ಪರಿಣಾಮ ಬೀರುತ್ತಾರೆ ಎಂದು ಸೌತ್ಫೀಲ್ಡ್ ಮಿಚಿಗನ್ ಮೂಲದ ಕಾರ್ನರ್ ಸ್ಟೋನ್ ಫೈನಾನ್ಷಿಯಲ್ ಸರ್ವಿಸಸ್ನ ವ್ಯವಸ್ಥಾಪಕ ಪಾಲುದಾರ ಡೇನಿಯಲ್ ಮಿಲನ್ ಹೇಳುತ್ತಾರೆ, ಸ್ಟಾಕ್ ಮಾರುಕಟ್ಟೆಯಲ್ಲಿ ವೈರಸ್ ಏಕಾಏಕಿ ಉಂಟಾಗುವ ಪರಿಣಾಮಗಳು ಅಲ್ಪಕಾಲಿಕವಾಗಿರುತ್ತವೆ ಮತ್ತು ಭಯವು ನಿಮ್ಮನ್ನು ಹೂಡಿಕೆ ನಿರ್ಧಾರಗಳಿಗೆ ಚಾಲನೆ ನೀಡದಂತೆ ಎಚ್ಚರಿಕೆ ನೀಡಿದೆ. ಷೇರು ಮಾರುಕಟ್ಟೆಯಲ್ಲಿ ಭಾವನಾತ್ಮಕ ನಿರ್ಧಾರಗಳನ್ನು ತೆಗೆದುಕೊಳ್ಳಿ, ಅದು ದೀರ್ಘಾವಧಿಯವರೆಗೆ ನಿಮಗೆ ಸೂಕ್ತವಾಗಿ ಹಂಚಿಕೆಯಾಗಿಲ್ಲ ಎಂಬ ಸಂಕೇತವಾಗಿದೆ, ಹೂಡಿಕೆದಾರರು ತಮ್ಮ ಬಂಡವಾಳವನ್ನು ಷೇರುಗಳ ಬಾಂಡ್\\u200cಗಳು ಮತ್ತು ಇತರ ಸ್ವತ್ತುಗಳ ನಡುವೆ ಹೇಗೆ ವಿಭಜಿಸಲು ಆಯ್ಕೆ ಮಾಡಿಕೊಂಡರು ಎಂಬುದನ್ನು ಉಲ್ಲೇಖಿಸಿ ಮಿಲನ್ ಪ್ರಯಾಣದಲ್ಲಿ ಏಷ್ಯನ್ ಷೇರುಗಳಿಗೆ ನಿಮ್ಮ ಒಡ್ಡುವಿಕೆಯನ್ನು ಕಡಿಮೆ ಮಾಡಲು ಸೂಚಿಸುತ್ತದೆ ಮತ್ತು ಚಿಲ್ಲರೆ ಉದ್ಯಮಗಳು ಶು ಕಾರಣದಿಂದಾಗಿ ಆದಾಯದ ಬೆಳವಣಿಗೆಯಲ್ಲಿ ಮಂದಗತಿಯನ್ನು ಕಾಣಬಹುದು ಸರಬರಾಜು ಸಮಸ್ಯೆಗಳು ಮತ್ತು ಗ್ರಾಹಕರ ಖರ್ಚಿನಲ್ಲಿನ ಕುಸಿತವು ಚೀನಾದ ಆರ್ಥಿಕತೆಗೆ ಹೆಚ್ಚಿನ ಮಾನ್ಯತೆ ಹೊಂದಿರುವ ಎಸ್ ಆಧಾರಿತ ಬಹುರಾಷ್ಟ್ರೀಯ ಕಂಪನಿಗಳು ವೈರಸ್\\u200cನಿಂದ ಉತ್ಪಾದನಾ ವಿಳಂಬವನ್ನು ಎದುರಿಸುತ್ತಿವೆ, ಉತ್ಪಾದನಾ ಆಟೋಮೋಟಿವ್ ಏರ್\\u200cಲೈನ್ಸ್ ಮತ್ತು ತಂತ್ರಜ್ಞಾನ\",1\\nಗೋಲ್ಡ್ಮನ್ ಸ್ಯಾಚ್ಸ್ ಗುರುವಾರ ಟಿಪ್ಪಣಿಯಲ್ಲಿ ನೀವು ಎಸ್ ಕಂಪನಿಗಳು 2020 ರಲ್ಲಿ ಯಾವುದೇ ಗಳಿಕೆಯ ಬೆಳವಣಿಗೆಯನ್ನು ಗಳಿಸುವುದಿಲ್ಲ ಎಂದು 2020 ಕ್ಕೆ ಗೋಲ್ಡ್ಮನ್ ತನ್ನ ಎಸ್ಪಿ 500 ಗಳಿಕೆಯ ಅಂದಾಜನ್ನು 9 ರಷ್ಟು ಕಡಿತಗೊಳಿಸಿದೆ ಮತ್ತು ಯಾವುದೇ ಗಳಿಕೆಯ ಬೆಳವಣಿಗೆಯನ್ನು ನಿರೀಕ್ಷಿಸುವುದಿಲ್ಲ 2021 ರಲ್ಲಿ ನೋಡುತ್ತಿರುವಾಗ ಗೋಲ್ಡ್ಮನ್ ಈಗ ಎಸ್ಪಿ 500 ಗಳಿಕೆಗಳಲ್ಲಿ 8 ಕಡಿಮೆ ಮತ್ತು ಸಾಧಾರಣ 6 ಅನ್ನು ನೋಡುತ್ತಾನೆ ಬೆಳವಣಿಗೆಯ ದರ ನಮ್ಮ ಕಡಿಮೆ ಲಾಭದ ಮುನ್ಸೂಚನೆಗಳು ಚೀನಾದ ಆರ್ಥಿಕ ಚಟುವಟಿಕೆಯ ತೀವ್ರ ಕುಸಿತವನ್ನು 1 ಕ್ಯೂ ಲೋವರ್ ಎಂಡ್ ಬೇಡಿಕೆಯಲ್ಲಿ ಪ್ರತಿಬಿಂಬಿಸುತ್ತದೆ. ಯುಎಸ್ ರಫ್ತುದಾರರಿಗೆ ಅನೇಕ ಯುಎಸ್ ಸಂಸ್ಥೆಗಳಿಗೆ ಪೂರೈಕೆ ಸರಪಳಿಗೆ ಅಡ್ಡಿಪಡಿಸುವುದು ಯುಎಸ್ ಆರ್ಥಿಕ ಚಟುವಟಿಕೆಯಲ್ಲಿನ ಕುಸಿತ ಮತ್ತು ಉನ್ನತ ವ್ಯವಹಾರ ಅನಿಶ್ಚಿತತೆಯು ಗೋಲ್ಡ್ಮನ್ ತಂತ್ರಜ್ಞ ಡೇವಿಡ್ ಕೋಸ್ಟಿನ್ ಬ್ರಿಯಾನ್ ಸೊ zz ಿ ಬರೆದಿದ್ದಾರೆ ಯಾಹೂ ಫೈನಾನ್ಸ್\\u200cನಲ್ಲಿ ದಿ ಫಸ್ಟ್ ಟ್ರೇಡ್\\u200cನ ದೊಡ್ಡ ಮತ್ತು ಸಹ ನಿರೂಪಕ ಸಂಪಾದಕ,0\\nಮಾರಣಾಂತಿಕ ವೈರಸ್ ಸೋಂಕಿತ ಕ್ರೂಸ್ ಹಡಗಿನಲ್ಲಿ ಪ್ರಯಾಣಿಸುತ್ತಿದ್ದ ಚೀನಾದ ನಗರವಾದ ವುಹಾನ್ ಮತ್ತು ಟೋಕಿಯೊದಿಂದ 124 ಜನರ ಗುಂಪನ್ನು ಭಾರತ ಗುರುವಾರ ವಾಪಸ್ ಕರೆತಂದಿದೆ. ಭಾರತೀಯ ವಾಯುಪಡೆಯ ಎಸಿ 17 ಗ್ಲೋಬ್ ಮಾಸ್ಟರ್ III ಸಾರಿಗೆ ವಿಮಾನವು 76 ಭಾರತೀಯರನ್ನು ಮತ್ತು 36 ವಿದೇಶಿಗಳನ್ನು ಸ್ಥಳಾಂತರಿಸಿದೆ ವುಹಾನ್\\u200cನ ಪ್ರಜೆಗಳು ಟೋಕಿಯೊದಿಂದ 124 ಜನರ ಗುಂಪನ್ನು ವಾಪಸ್ ಕರೆತಂದರು. ಭಾರತದ ನೆರೆಹೊರೆಯ ಮೊದಲ ನೀತಿ ಮತ್ತು ಇಂಡೋ ಪೆಸಿಫಿಕ್ ದೃಷ್ಟಿಗೆ ಅನುಗುಣವಾಗಿ ವಿಶೇಷ ವಿಮಾನವು ಐದು ವಿದೇಶಿ ಪ್ರಜೆಗಳನ್ನು ಸ್ಥಳಾಂತರಿಸಿತು ಇಬ್ಬರು ಶ್ರೀಲಂಕನ್ನರು ಒಂದು ನೇಪಾಳಿ ಒಬ್ಬರು ದಕ್ಷಿಣ ಆಫ್ರಿಕಾದವರು ಮತ್ತು ಒಬ್ಬ ಪೆರುವಿಯನ್ ವಿದೇಶಾಂಗ ವ್ಯವಹಾರಗಳ ಸಚಿವಾಲಯ ಭಾರತವು ಬುಧವಾರ ಸಿ 17 ಗ್ಲೋಬ್\\u200cಮಾಸ್ಟರ್ ಅನ್ನು ವುಹಾನ್\\u200cಗೆ ಕಳುಹಿಸಿದೆ ಮತ್ತು ಇದು ಕರೋನವೈರಸ್ ಪೀಡಿತ ಜನರಿಗೆ 15 ಟನ್ ವೈದ್ಯಕೀಯ ಸಾಮಗ್ರಿಗಳನ್ನು ಕೊಂಡೊಯ್ಯಿತು. ಹಿಂದಿರುಗಿದ ನಂತರ ವಿಮಾನವು 112 ಜನರನ್ನು ವಾಪಸ್ ಕರೆತಂದಿತು. ಬಾಂಗ್ಲಾದೇಶದ 23 ನಾಗರಿಕರು ಸೇರಿದಂತೆ ಆರು ಮಂದಿ ಚೀನಾದಿಂದ ಆರು ಮಂದಿ ಮ್ಯಾನ್ಮಾರ್ ಮತ್ತು ಮಾಲ್ಡೀವ್ಸ್ ಮತ್ತು ತಲಾ ಒಬ್ಬರು ದಕ್ಷಿಣ ಆಫ್ರಿಕಾದಿಂದ ಯುಎಸ್ ಮತ್ತು ಮಡಗಾಸ್ಕರ್ ಎಲ್ಲಾ 723 ಭಾರತೀಯ ಪ್ರಜೆಗಳು ಮತ್ತು 43 ವಿದೇಶಿ ಪ್ರಜೆಗಳನ್ನು ಸ್ಥಳಾಂತರಿಸಲಾಗಿದೆ rom ವುಹಾನ್ ಈ ಮೂರು ವಿಮಾನಗಳಲ್ಲಿ ವಿದೇಶಾಂಗ ಸಚಿವಾಲಯ ಎಂಇಎ ತಿಳಿಸಿದೆ,0\\n\"ಇತ್ತೀಚಿನ ಹಣಕಾಸು ಮಾರುಕಟ್ಟೆ ಪ್ರಕ್ಷುಬ್ಧತೆಯು ಕೇವಲ ನಾಲ್ಕು ವಹಿವಾಟು ಅವಧಿಗಳಲ್ಲಿ ಎಸ್\\u200cಪಿ 500 ಇತ್ತೀಚಿನ ಗರಿಷ್ಠಕ್ಕಿಂತ 7 ಕ್ಕಿಂತಲೂ ಹೆಚ್ಚು ಕುಸಿದಿದೆ ಮತ್ತು 10 ವರ್ಷಗಳ ಖಜಾನೆ ಇಳುವರಿ ದಾಖಲೆಯ ಕನಿಷ್ಠ ಮಟ್ಟವನ್ನು ಮುಟ್ಟಿದೆ. ಮಾರ್ಚ್ 18 ರ ಪ್ರಕಟಣೆಯಲ್ಲಿ ಫೆಡ್ ದರಗಳನ್ನು ಕಡಿತಗೊಳಿಸಲು ಒತ್ತಾಯಿಸಬಹುದೆಂದು ulation ಹಾಪೋಹಗಳಿಗೆ ಕಾರಣವಾಗಿದೆ. ಕುರ್ಚಿ ರಿಚರ್ಡ್ ಕ್ಲಾರಿಡಾ ಮಂಗಳವಾರ, ಕೊರೋನವೈರಸ್ ಸಂಬಂಧಿತ ಪರಿಣಾಮಗಳ ಗಾತ್ರ ಅಥವಾ ನಿರಂತರತೆಯ ಬಗ್ಗೆ spec ಹಿಸಲು ಇನ್ನೂ ಬೇಗನೆ ಇದೆ ಅಥವಾ ಪ್ಯಾಂಥಿಯಾನ್ ಮ್ಯಾಕ್ರೋ ಎಕನಾಮಿಕ್ಸ್ನಲ್ಲಿ ಇಯಾನ್ ಶೆಫರ್ಡ್ಸನ್ ದೃಷ್ಟಿಕೋನದಲ್ಲಿ ವಸ್ತು ಬದಲಾವಣೆಗೆ ಕಾರಣವಾಗುತ್ತದೆಯೇ ಎಂದು ಕ್ಲಾರಿಡಾ ಅವರ ಕಾಮೆಂಟ್ಗಳು ಬುಧವಾರ ಹೇಳಿದ್ದಾರೆ ಕೊರೊನಾವೈರಸ್ ಭಯಕ್ಕೆ ಬಂದಾಗ ಕುರ್ಚಿಯ ಧ್ವನಿ ಸಮಂಜಸವಾಗಿದೆ ಎಂದು ಜೆಫರೀಸ್\\u200cನಲ್ಲಿ ಡೇವಿಡ್ erv ೆರ್ವೋಸ್ ಹೇಳಿದ್ದಾರೆ, ಕ್ಲಾರಿಡಾ ಅವರ ಕಾಮೆಂಟ್\\u200cಗಳು ಇಲ್ಲಿ ನೀತಿ ದೋಷಕ್ಕೆ ಖಂಡಿತವಾಗಿಯೂ ಸ್ವಲ್ಪ ಅವಕಾಶವಿದೆ ಎಂದು ತೋರುತ್ತದೆ ಮತ್ತು ಫೆಡ್ ತನ್ನ ಪಾದಗಳನ್ನು ಎಳೆಯುವುದನ್ನು ಮುಂದುವರಿಸಿದರೆ ಕುರುಡಾಗಿ ಅದ್ದು ಕೊಳ್ಳುವುದರಿಂದ ಹೂಡಿಕೆದಾರರು ಸುಟ್ಟುಹೋಗಬಹುದು ಎಂದು ಎಚ್ಚರಿಸಿದ್ದಾರೆ ಆದರೆ ಮಾರ್ಚ್ 2 ರ ಬಿಡುಗಡೆಯು ಉತ್ಪಾದಕದಲ್ಲಿನ ಸಂಭಾವ್ಯ ಪೂರೈಕೆ ಸರಪಳಿ ಅಡೆತಡೆಗಳ ಬಗ್ಗೆ ಹೆಚ್ಚಿನ ಪುರಾವೆಗಳನ್ನು ನೋಡಲು ತುಂಬಾ ಮುಂಚೆಯೇ ಇರುತ್ತದೆ ಮಾರ್ಚ್ನಲ್ಲಿ ದರ ಕಡಿತಕ್ಕಾಗಿ ವಾದಗಳನ್ನು ಬ್ಯಾಕಪ್ ಮಾಡಲು ಫೆಡ್ ಬಹುಶಃ ಕಡಿಮೆ ಆರ್ಥಿಕ ಡೇಟಾವನ್ನು ಹೊಂದಿರಬಹುದು ಎಂದು ಸೂಚಿಸುತ್ತದೆ ಎಂದು ಸೆಕ್ಟರ್ ಬ್ರೈಸನ್ ಸೇರಿಸುತ್ತಾರೆ\",0\\n\"ಲಂಡನ್ ರಾಯಿಟರ್ಸ್ ತೈಲ ಬೆಲೆಗಳು ಗುರುವಾರ 2 ಕ್ಕೆ ಇಳಿದಿದ್ದು, 2019 ರ ಜನವರಿಯಿಂದ ಐದನೇ ದಿನಕ್ಕೆ ಇಳಿದಿದೆ. ಚೀನಾದ ಹೊರಗಿನ ಹೊಸ ಕರೋನವೈರಸ್ ಪ್ರಕರಣಗಳ ಏರಿಕೆಯು ಜಾಗತಿಕ ಆರ್ಥಿಕತೆಯನ್ನು ನಿಧಾನಗೊಳಿಸಬಲ್ಲ ಸಾಂಕ್ರಾಮಿಕ ರೋಗದ ಭಯವನ್ನು ಹೆಚ್ಚಿಸಿದೆ ಮತ್ತು ಕಚ್ಚಾ ಕನ್ಸಲ್ಟೆಂಟ್ಸ್ ಫ್ಯಾಕ್ಟ್ಸ್ ಗ್ಲೋಬಲ್ ಎನರ್ಜಿ ಮುನ್ಸೂಚನೆ 2020 ರಲ್ಲಿ ತೈಲ ಬೇಡಿಕೆ ದಿನಕ್ಕೆ 60000 ಬ್ಯಾರೆಲ್\\u200cಗಳಷ್ಟು ಹೆಚ್ಚಾಗುತ್ತದೆ. ಇದು ಏಕಾಏಕಿ ಕಾರಣ ಪ್ರಾಯೋಗಿಕವಾಗಿ ಶೂನ್ಯ ಎಂದು ಕರೆಯಲ್ಪಡುತ್ತದೆ. ವಿಶ್ವ ಆರೋಗ್ಯ ಸಂಸ್ಥೆಯಿಂದ ಕೊರೊನಾವೈರಸ್ ಅನ್ನು ಸಾಂಕ್ರಾಮಿಕ ಎಂದು ಘೋಷಿಸಿದರೆ ಸನ್ನಿಹಿತವಾಗಿ ಕಾಣುವಂತಹ negative ಣಾತ್ಮಕ ಬೆಲೆ ಪರಿಣಾಮ ತೀವ್ರಗೊಳ್ಳುತ್ತದೆ ಎಂದು ಪಿವಿಎಂ ಆಯಿಲ್ ಅಸೋಸಿಯೇಟ್ಸ್ ವಿಶ್ಲೇಷಕ ತಮಾಸ್ ವರ್ಗಾ ನೀವು ಎಸ್ ಕಚ್ಚಾ ತೈಲ ದಾಸ್ತಾನುಗಳು 452000 ಬ್ಯಾರೆಲ್\\u200cಗಳಿಂದ 443 3 ಮಿಲಿಯನ್ ಬ್ಯಾರೆಲ್\\u200cಗಳಿಗೆ ಏರಿದೆ ಎಂದು ಇಐಎ ಹೇಳಿದೆ, ಇದು 2 ಮಿಲಿಯನ್ ಬ್ಯಾರೆಲ್ ಏರಿಕೆ ವಿಶ್ಲೇಷಕರು ತೈಲವು ಫ್ರೀಫಾಲ್\\u200cನಲ್ಲಿದೆ ಎಂದು ನಿರೀಕ್ಷಿಸಿದ್ದರಿಂದ ಜಾಗತಿಕ ಕ್ಯಾರೆಂಟೈನ್ ಪ್ರಯತ್ನಗಳ ಪ್ರಮಾಣವು ಮುಂದಿನ ಎರಡು ತ್ರೈಮಾಸಿಕಗಳಿಗೆ ತೀವ್ರ ಬೇಡಿಕೆಯ ನಾಶವನ್ನು ನೀಡುತ್ತದೆ ಒವಾಂಡಾದ ಹಿರಿಯ ಮಾರುಕಟ್ಟೆ ವಿಶ್ಲೇಷಕ ಎಡ್ವರ್ಡ್ ಮೊಯಾ ಹೇಳಿದರು\",0\\n\"ರಾಯಿಟರ್ಸ್ ಲೊರೆನ್ ಎಲಿಯಟ್ ರಾಯಿಟರ್ಸ್ ಮೊಬೈಲ್ ಫೋನ್ ಟ್ಯಾಬ್ಲೆಟ್\\u200cಗಳು ಮತ್ತು ಹೆಡ್\\u200cಫೋನ್\\u200cಗಳ ಬಲವಾದ ಆನ್\\u200cಲೈನ್ ಮಾರಾಟವು ಬೆಸ್ಟ್ ಬೈ ಕೋ ಇಂಕ್ ಬಿಬಿವೈ ಎನ್ ಪೋಸ್ಟ್ ಅನ್ನು ಗುರುವಾರ ನಿರೀಕ್ಷಿತ ತ್ರೈಮಾಸಿಕ ಲಾಭ ಮತ್ತು ಮಾರಾಟಕ್ಕಿಂತ ಉತ್ತಮವಾಗಿ ಸಹಾಯ ಮಾಡಿದೆ, ಏಕೆಂದರೆ ಚಿಲ್ಲರೆ ವ್ಯಾಪಾರಿ ಇಟ್ಟಿಗೆ ಮತ್ತು ಗಾರೆ ಚಿಲ್ಲರೆ ವ್ಯಾಪಾರಿಗಳಿಗೆ ನಿರಾಶಾದಾಯಕ ರಜಾದಿನವನ್ನು ಮೀರಿದೆ. ಗ್ರಾಹಕ ಎಲೆಕ್ಟ್ರಾನಿಕ್ಸ್ ಚಿಲ್ಲರೆ ವ್ಯಾಪಾರಿಗಳ ಷೇರುಗಳು ಏರಿತು ವರ್ಷದ ಮೊದಲಾರ್ಧದಲ್ಲಿ ಕೊರೊನಾವೈರಸ್ ಏಕಾಏಕಿ ಆರ್ಥಿಕ ಹಿಟ್ ತೆಗೆದುಕೊಳ್ಳಲಿದೆ ಎಂದು ಕಂಪನಿ ಹೇಳಿದಂತೆ ಪ್ರೀ ಮಾರ್ಕೆಟ್ ವಹಿವಾಟಿನಲ್ಲಿ 3 ರಿಂದ 85 ರವರೆಗೆ ಫಲಿತಾಂಶಗಳು ದುರ್ಬಲ ಮಾರಾಟವನ್ನು ವರದಿ ಮಾಡಿದ ದೊಡ್ಡ ಚಿಲ್ಲರೆ ಹೆಸರುಗಳ ಪಟ್ಟಿಯಲ್ಲಿ ಬೆಸ್ಟ್ ಬೈ ಒಂದು ಹೊರಗಿನವನು ಎಂದು ಫಲಿತಾಂಶಗಳು ತೋರಿಸುತ್ತವೆ. ನಿರ್ಣಾಯಕ ರಜಾದಿನಗಳಲ್ಲಿ ಸಾಂಪ್ರದಾಯಿಕ ಇಟ್ಟಿಗೆ ಮತ್ತು ಗಾರೆ ವ್ಯವಹಾರಗಳು ಆನ್\\u200cಲೈನ್\\u200cನಲ್ಲಿ ಶಾಪಿಂಗ್ ಮಾಡಲು ಆಯ್ಕೆಮಾಡಿದ ಗ್ರಾಹಕರ ನೋವಿನಿಂದಾಗಿ ಬೆಸ್ಟ್ ಬೈನ ಒಟ್ಟಾರೆ ಅದೇ ಅಂಗಡಿ ಮಾರಾಟವು ಫೆಬ್ರವರಿ 2 ಕ್ಕೆ ಕೊನೆಗೊಂಡ ನಾಲ್ಕನೇ ತ್ರೈಮಾಸಿಕದಲ್ಲಿ 3% ಏರಿಕೆಯಾಗಿದೆ. ವಿಶ್ಲೇಷಕರನ್ನು ಸೋಲಿಸಿ ಸರಾಸರಿ 1% ಹೆಚ್ಚಳ ವಾಲ್ ಸ್ಟ್ರೀಟ್\\u200cನ ನಿರೀಕ್ಷೆಯೊಂದಿಗೆ ಹೋಲಿಸಿದರೆ ರೆಫಿನಿಟಿವ್ ಬೆಸ್ಟ್ ಬೈ ಮುನ್ಸೂಚನೆ ಹಣಕಾಸಿನ 2021 ರ ಐಬಿಇಎಸ್ ಮಾಹಿತಿಯ ಪ್ರಕಾರ ಫ್ಲಾಟ್\\u200cನ ಅದೇ ಅಂಗಡಿ ಮಾರಾಟದ ಬೆಳವಣಿಗೆ 2 ಕ್ಕೆ 1 9 ಹೆಚ್ಚಳದ ಅಯಾನುಗಳು\",0\\n\"ಈಗಾಗಲೇ ಅನುಮೋದಿತ drugs ಷಧಗಳು ಹೊಸ ವೈರಸ್\\u200cಗೆ ಚಿಕಿತ್ಸೆ ನೀಡುವಲ್ಲಿ ಪ್ರಮುಖವಾದುದು ಎಂದು ಸಾಂಕ್ರಾಮಿಕ ರೋಗಗಳ ಅಂತರರಾಷ್ಟ್ರೀಯ ಜರ್ನಲ್\\u200cನಲ್ಲಿ ಪ್ರಕಟಿಸಲಾದ ಅಧ್ಯಯನದ ಪ್ರಕಾರ, ಸಂಶೋಧಕರು ಈ ಮತ್ತು ಈಗಾಗಲೇ ಸುರಕ್ಷಿತವಾಗಿ ಪರೀಕ್ಷಿಸಲ್ಪಟ್ಟಿರುವ ಮ್ಯಾನ್ ಬ್ರಾಡ್ ಸ್ಪೆಕ್ಟ್ರಮ್ ಆಂಟಿವೈರಲ್ drugs ಷಧಗಳು ರೋಗದ ಚಿಕಿತ್ಸೆಗೆ ಉತ್ತಮ ಅಭ್ಯರ್ಥಿಗಳು ಎಂದು ಹೇಳಿದರು ಹೊಸ ಕರೋನವೈರಸ್ಗೆ ಪ್ರಸ್ತುತ ಯಾವುದೇ ಚಿಕಿತ್ಸೆಗಳಿಲ್ಲ ಎಂದು ಪ್ರಾರಂಭಿಸಿ, ವೈರಸ್ ರೋಗಗಳಿಗೆ ಪ್ರಾರಂಭಿಸಿದ ಅಥವಾ ವಿಫಲವಾದ drugs ಷಧಿಗಳನ್ನು ಮರುಹೊಂದಿಸುವುದು ಹೊಸ ವೈರಸ್ ನಿರ್ದಿಷ್ಟ drugs ಷಧಗಳು ಮತ್ತು ಲಸಿಕೆಗಳನ್ನು ಅಭಿವೃದ್ಧಿಪಡಿಸುವುದರೊಂದಿಗೆ ಹೋಲಿಸಿದರೆ ಮಾರುಕಟ್ಟೆಗೆ ಯಶಸ್ಸಿನ ಗಣನೀಯವಾಗಿ ಹೆಚ್ಚಿನ ಸಂಭವನೀಯತೆ ಸೇರಿದಂತೆ ಅನನ್ಯ ಅನುವಾದ ಅವಕಾಶಗಳನ್ನು ಒದಗಿಸುತ್ತದೆ. ಎರಡು ಅಥವಾ ಹೆಚ್ಚಿನ ವಿಭಿನ್ನ ವೈರಲ್ ಕುಟುಂಬಗಳಿಂದ ವೈರಸ್\\u200cಗಳನ್ನು ಗುರಿಯಾಗಿಸುವ drugs ಷಧಿಗಳಾದ ವಿಶಾಲ ಸ್ಪೆಕ್ಟ್ರಮ್ ಆಂಟಿವೈರಲ್ ಏಜೆಂಟ್\\u200cಗಳ ಆವಿಷ್ಕಾರ ಮತ್ತು ಅಭಿವೃದ್ಧಿಯ ಮಾಹಿತಿಯನ್ನು ಸಂಶೋಧಕರು ಪರಿಶೀಲಿಸಿದ್ದಾರೆ ಸಂಶೋಧಕರು ಇತ್ತೀಚೆಗೆ COVID 19 ವೈರಸ್\\u200cಗೆ ಚಿಕಿತ್ಸೆ ನೀಡಲು ಐದು ಸಂಭಾವ್ಯ drug ಷಧಿ ಅಭ್ಯರ್ಥಿಗಳ ಕ್ಲಿನಿಕಲ್ ತನಿಖೆಯನ್ನು ಪ್ರಾರಂಭಿಸಿದ್ದಾರೆ ಎಂದು ಸಂಶೋಧಕರು ಕಂಡುಕೊಂಡಿದ್ದಾರೆ.\",1\\n\"ಸಾಕಷ್ಟು ವೇಗವಾಗಿ ಕಾರ್ಯನಿರ್ವಹಿಸದ ಕಾರಣ ಮತ್ತು 2700 ಕ್ಕೂ ಹೆಚ್ಚು ಜನರನ್ನು ಬಲಿತೆಗೆದುಕೊಂಡಿರುವ ಸಾಂಕ್ರಾಮಿಕ ರೋಗದ ಬಗ್ಗೆ ಮೊದಲೇ ಎಚ್ಚರಿಸಲು ಪ್ರಯತ್ನಿಸಿದವರನ್ನು ಖಂಡಿಸುವುದಕ್ಕಾಗಿ ಸರ್ಕಾರವನ್ನು ದೂಷಿಸಲಾಗಿದೆ ಮತ್ತು ಡಿಸೆಂಬರ್\\u200cನಲ್ಲಿ ಮೊದಲ ಬಾರಿಗೆ ಸಾಂಕ್ರಾಮಿಕ ರೋಗ ಪತ್ತೆಯಾದ ಕೇಂದ್ರ ನಗರದ ವುಹಾನ್\\u200cನಲ್ಲಿ 78000 ಕ್ಕೂ ಹೆಚ್ಚು ಜನರು ಸೋಂಕಿಗೆ ಒಳಗಾಗಿದ್ದಾರೆ. ಜನವರಿ 23 ರಿಂದ ಲಾಕ್ಡೌನ್ ಅಡಿಯಲ್ಲಿ ನಾವು ಡಿಸೆಂಬರ್ ಆರಂಭದಲ್ಲಿ ಅಥವಾ ಜನವರಿ ಆರಂಭದಲ್ಲಿ ಕಟ್ಟುನಿಟ್ಟಾದ ತಡೆಗಟ್ಟುವ ಕ್ರಮಗಳನ್ನು ತೆಗೆದುಕೊಳ್ಳಬಹುದಾಗಿದ್ದರೆ ನಾವು ರೋಗಿಗಳ ಸಂಖ್ಯೆಯನ್ನು ಬಹಳವಾಗಿ ಕಡಿಮೆಗೊಳಿಸಬಹುದಿತ್ತು ಎಂದು ಚೀನಾದ ರಾಷ್ಟ್ರೀಯ ಆರೋಗ್ಯ ಆಯೋಗದಲ್ಲಿ ವೈರಸ್ ಹೋರಾಟದಲ್ಲಿ ತಜ್ಞರ ಗುಂಪನ್ನು ಮುನ್ನಡೆಸುವ ong ಾಂಗ್ ನನ್ಶಾನ್ ಹೇಳಿದ್ದಾರೆ. ವೈರಸ್ ಕೇಂದ್ರಕೇಂದ್ರಕ್ಕೆ ಬೀಗ ಹಾಕಲು ಅಧಿಕಾರಿಗಳು ಇನ್ನೂ ಕೆಲವು ದಿನಗಳು ಕಾಯುತ್ತಿದ್ದರೆ ರೋಗಿಗಳ ಸಂಖ್ಯೆ ಒಂದು ಲಕ್ಷಕ್ಕೂ ಹೆಚ್ಚಾಗುತ್ತಿತ್ತು, ಏಪ್ರಿಲ್ ಅಂತ್ಯದ ವೇಳೆಗೆ ಸಾಂಕ್ರಾಮಿಕ ರೋಗವು ನಿಯಂತ್ರಣದಲ್ಲಿರುತ್ತದೆ ಎಂದು ಅವರು ನಿರೀಕ್ಷಿಸಿದ್ದಾರೆ ಆದರೆ ಈ ತಿಂಗಳು ಗರಿಷ್ಠ ಸಂಭವಿಸುತ್ತಿದೆ ಗುವಾದಲ್ಲಿ ಮತ್ತೆ ವೈರಸ್\\u200cಗೆ ಧನಾತ್ಮಕ ಪರೀಕ್ಷೆಗೊಳಗಾದ 14 ಪ್ರತಿಶತದಷ್ಟು ರೋಗಿಗಳ ಚೇತರಿಸಿಕೊಂಡ ರೋಗಿಗಳ ಬಗ್ಗೆ ಇತರ ಆತಂಕಗಳು ಕಮ್ಯುನಿಸ್ಟ್ ಪಕ್ಷದ ಮುಖವಾಣಿ ಪೀಪಲ್ಸ್ ಡೈಲಿಯನ್ನು ಬುಧವಾರ ವರದಿ ಮಾಡಿದೆ\",0\\nಪ್ರೀ ಮಾರ್ಕೆಟ್\\u200cನಲ್ಲಿನ ಕೆಲವು ದೊಡ್ಡ ಸಾಗಣೆದಾರರನ್ನು ನೋಡೋಣ ಬೆಸ್ಟ್ ಬೈ ಬಿಬಿವೈ ಎಲೆಕ್ಟ್ರಾನಿಕ್ಸ್ ಚಿಲ್ಲರೆ ವ್ಯಾಪಾರಿ ಪ್ರತಿ ಷೇರಿಗೆ 2 90 ರಷ್ಟು ತ್ರೈಮಾಸಿಕ ಲಾಭವನ್ನು ವರದಿ ಮಾಡಿದೆ 15 ಸೆಂಟ್ಸ್ ಅಂದಾಜುಗಿಂತ ಹೆಚ್ಚಿನ ಪಾಲು ಕೆಯುರಿಗ್ ಡಾ ಪೆಪ್ಪರ್ ಕೆಡಿಪಿ ಪಾನೀಯ ತಯಾರಕರು ಮುನ್ಸೂಚನೆಗಳನ್ನು ಪ್ರತಿ ಷೇರಿಗೆ 35 ಸೆಂಟ್ಸ್ ಗಳಿಕೆಯೊಂದಿಗೆ ಹೊಂದಿಸಿದ್ದಾರೆ ಆದಾಯವು ಅಂದಾಜುಗಳಿಗಿಂತ ಸ್ವಲ್ಪ ಕಡಿಮೆಯಿತ್ತು. ಪ್ರಿಕ್ಲೈನ್ \\u200b\\u200bಮತ್ತು ಇತರ ಆನ್\\u200cಲೈನ್ ಪ್ರಯಾಣ ಸೇವೆಗಳ ಆಯೋಜಕರು ಆದಾಯದ ಬೀಟ್ ಅಂದಾಜುಗಳನ್ನು ಕಂಡರು ಆದರೆ ಕೊರೊನಾವೈರಸ್ ಏಕಾಏಕಿ ಪ್ರಯಾಣದ ಬೇಡಿಕೆಯ ಮೇಲೆ ಪರಿಣಾಮ ಬೀರುವುದರಿಂದ ನಿರೀಕ್ಷಿತ ಪ್ರಸಕ್ತ ತ್ರೈಮಾಸಿಕ ಮಾರ್ಗದರ್ಶನಕ್ಕಿಂತ ಕಡಿಮೆಯಾಗಿದೆ. ಬಾಕ್ಸ್ ಬಾಕ್ಸ್ ಬಾಕ್ಸ್ ಅಂದಾಜು 3 ಸೆಂಟ್ಸ್ ಪಾಲನ್ನು 7 ಸೆಂಟ್ಸ್ ತ್ರೈಮಾಸಿಕ ಲಾಭದೊಂದಿಗೆ ಪ್ರತಿ ಷೇರಿಗೆ ಸ್ಕ್ವೇರ್ ಎಸ್\\u200cಕ್ಯೂ ಸ್ಕ್ವೇರ್ ಪ್ರತಿ ಷೇರಿಗೆ 23 ಸೆಂಟ್ಸ್ ತ್ರೈಮಾಸಿಕ ಲಾಭದೊಂದಿಗೆ ಅಂದಾಜುಗಿಂತ 2 ಸೆಂಟ್ಸ್ ಪಾಲನ್ನು ಹೊಂದಿದೆ,0\\n\"ಸಿಲ್ಕೆ ಕೋಲ್ಟ್ರೊವಿಟ್ಜ್ ಜುರಿಕ್ ಫೆಬ್ರವರಿ 27 ರಾಯಿಟರ್ಸ್ ಕರೋನವೈರಸ್ ಚೀನಾದ ಪ್ರವಾಸಿಗರನ್ನು ತನ್ನ ಲಂಡನ್ ಅಂಗಡಿಗಳಿಂದ ದೂರವಿರಿಸುತ್ತಿದೆ ಎಂದು ಬ್ರಿಟಿಷ್ ಚಿಲ್ಲರೆ ವ್ಯಾಪಾರಿ ಸ್ವಿಟ್ಜರ್ಲೆಂಡ್\\u200cನ ವಾಚ್ಸ್ ಗುರುವಾರ ಹೇಳಿದೆ ಆದರೆ ರೋಲೆಕ್ಸ್ ಟೈಮ್\\u200cಪೀಸ್\\u200cಗಳಿಗೆ ಸ್ಥಳೀಯ ಬೇಡಿಕೆ ತುಂಬಾ ಪ್ರಬಲವಾಗಿದೆ, ಇದು ಕುಸಿತಕ್ಕೆ ಕಾರಣವಾಗಿದೆ ಎಂದು ಮುಖ್ಯ ಕಾರ್ಯನಿರ್ವಾಹಕ ಬ್ರಿಯಾನ್ ಡಫ್ಫಿ ಹೇಳಿದ್ದಾರೆ ಕಂಪನಿಯ ಆರಂಭಿಕ ಸಾರ್ವಜನಿಕ ಕೊಡುಗೆಯಿಂದ ಒಂಬತ್ತು ತಿಂಗಳಲ್ಲಿ ಚೀನಾದ ಪ್ರಜೆಗಳಿಗೆ ಮಾರಾಟದ ಪಾಲು ಸುಮಾರು 10 ರಿಂದ 7 ಕ್ಕೆ ಇಳಿದಿದೆ. 8 ಸ್ವಿಸ್ ಐಷಾರಾಮಿ ಕೈಗಡಿಯಾರಗಳ ಬೇಡಿಕೆ ಇತ್ತೀಚೆಗೆ ಒತ್ತಡಕ್ಕೆ ಒಳಗಾಗಿದೆ ಆದರೆ ರೋಲೆಕ್ಸ್ ಇತರ ಬ್ರಾಂಡ್\\u200cಗಳನ್ನು ಮೀರಿಸುತ್ತಿದೆ, ಇದು ವಾಚ್ಸ್ ಆಫ್ ಸ್ವಿಟ್ಜರ್ಲೆಂಡ್\\u200cಗೆ ಸಹಾಯ ಮಾಡುತ್ತದೆ 1 ಯುಕೆ ವಾಚಸ್ ಆಫ್ ಸ್ವಿಟ್ಜರ್ಲೆಂಡ್\\u200cನ ರೋಲೆಕ್ಸ್ ಚಿಲ್ಲರೆ ವ್ಯಾಪಾರಿ, ಇದು ಮ್ಯಾಪಿನ್ ವೆಬ್ ಗೋಲ್ಡ್ಸ್ಮಿತ್\\u200cಗಳನ್ನು ಸಹ ಹೊಂದಿದೆ ಮತ್ತು ನೀವು ಎಸ್ ಆಧಾರಿತ ಮೇಯರ್\\u200cಗಳು ಜನವರಿ 26 ರಿಂದ ಒಂಬತ್ತು ತಿಂಗಳವರೆಗೆ 8% ನಷ್ಟು ಮಾರಾಟದ ಬೆಳವಣಿಗೆಯನ್ನು ವರದಿ ಮಾಡಿದ್ದಾರೆ. ಗುಂಪಿನ ಅತಿದೊಡ್ಡ ಷೇರುದಾರರ ಖಾಸಗಿ ಷೇರು ಸಂಸ್ಥೆ ಅಪೊಲೊ ಗ್ಲೋಬಲ್ ಮ್ಯಾನೇಜ್\\u200cಮೆಂಟ್ ಒಂದು ಪಾಲನ್ನು ಮಾರಾಟ ಮಾಡಿದೆ ಕಳೆದ ತಿಂಗಳು ಚಿಲ್ಲರೆ ವ್ಯಾಪಾರದಲ್ಲಿ 118 8 ಮಿಲಿಯನ್ ಪೌಂಡ್ 154 37 ಮಿಲಿಯನ್ ಮೌಲ್ಯದ ತನ್ನ ಪಾಲನ್ನು 42 1 ಕ್ಕೆ ಇಳಿಸಿತು\",1\\n\"ಬ್ಯಾಂಕಾಕ್ ಫೆಬ್ರವರಿ 27 ರಾಯಿಟರ್ಸ್ ಥೈಲ್ಯಾಂಡ್ನ ಅತಿದೊಡ್ಡ ಚಿಲ್ಲರೆ ವ್ಯಾಪಾರಿ ಸೆಂಟ್ರಲ್ ರಿಟೇಲ್ ಕಾರ್ಪೊರೇಶನ್ ಪಿಎಲ್ಸಿ ಸಿಆರ್ಸಿ ದೇಶೀಯ ಆನ್\\u200cಲೈನ್ ಮಾರಾಟ ಮತ್ತು ವಿಯೆಟ್ನಾಂನಲ್ಲಿ ತನ್ನ ವ್ಯವಹಾರವನ್ನು ವಿಸ್ತರಿಸಲು ಯೋಜಿಸಿದೆ, ಏಕೆಂದರೆ ಕರೋನವೈರಸ್ ಏಕಾಏಕಿ ಮನೆಯಲ್ಲಿ ಆರ್ಥಿಕ ಬೆಳವಣಿಗೆಯನ್ನು ನಿಧಾನಗೊಳಿಸುತ್ತದೆ ಎಂದು ಉನ್ನತ ಅಧಿಕಾರಿ ಹೇಳಿದರು. ರಫ್ತು ಮತ್ತು ಪ್ರವಾಸೋದ್ಯಮದ ಮಂದಗತಿಯ ಮಧ್ಯೆ ಈ ವರ್ಷ ಬೆಳವಣಿಗೆಯನ್ನು 2 ಕ್ಕಿಂತ ಕಡಿಮೆಗೊಳಿಸಬಹುದು ಈ ಅಂಶಗಳು ಗ್ರಾಹಕರಿಗೆ ಹೊಸ ಅಭ್ಯಾಸವನ್ನು ಸೃಷ್ಟಿಸುತ್ತಿವೆ ಕಳೆದ ವರ್ಷ 5 ರಿಂದ 10 ಮಾರಾಟಕ್ಕೆ ಡಿಜಿಟಲ್ ಅಥವಾ ಆನ್\\u200cಲೈನ್ ಆದೇಶಗಳು ಕೊಡುಗೆ ನೀಡುತ್ತವೆ ಎಂದು ಯೋಲ್ ಹೇಳಿದರು. ಸಿಂಗಾಪುರ ಮೂಲದ ರೈಡ್ ಹೇಲಿಂಗ್ ಸ್ಟಾರ್ಟ್ಅಪ್\\u200cನೊಂದಿಗಿನ ಪಾಲುದಾರಿಕೆ ಕಳೆದ ವರ್ಷ ಥೈಲ್ಯಾಂಡ್\\u200cನ ಪ್ರವಾಸೋದ್ಯಮ ಆದಾಯದಲ್ಲಿ 28 ರಷ್ಟಿದೆ. ಐದು ವರ್ಷಗಳಲ್ಲಿ ಸಿಆರ್\\u200cಸಿ ತನ್ನ 65% ಆದಾಯವನ್ನು ಥೈಲ್ಯಾಂಡ್\\u200cನಿಂದ 25 ವಿಯೆಟ್ನಾಂನಿಂದ ಮತ್ತು ಉಳಿದವು ಇಟಲಿಯಿಂದ ಸ್ವಾಧೀನಗಳನ್ನು ಒಳಗೊಂಡಿಲ್ಲ ಎಂದು ಯೊಲ್ ಹೇಳಿದ್ದಾರೆ.\",1\\n\"ಮಿರರ್ ಆನ್\\u200cಲೈನ್\\u200cನಲ್ಲಿ ಮಾತನಾಡಿದ ಇಬ್ಬರು ವೈದ್ಯರು ಫೇಸ್ ಮಾಸ್ಕ್ ಹ್ಯಾಂಡ್ ಸ್ಯಾನಿಟೈಸರ್ ಮತ್ತು ಸಾರ್ವಜನಿಕ ಸಾರಿಗೆ ಕುರಿತು ತಮ್ಮ ಸಲಹೆಯನ್ನು ಒಳಗೊಂಡಂತೆ ಕೊರೊನಾವೈರಸ್ ಅನ್ನು ತಪ್ಪಿಸಲು ತಮ್ಮ ಉನ್ನತ ಸಲಹೆಗಳನ್ನು ಬಹಿರಂಗಪಡಿಸಿದ್ದಾರೆ. ವೈರಾವನ್ನು ತಪ್ಪಿಸಲು ಉತ್ತಮ ಮಾರ್ಗವೆಂದರೆ ನಿಯಮಿತವಾಗಿ ನಿಮ್ಮ ಕೈಗಳನ್ನು ಸಾಬೂನು ಮತ್ತು ನೀರಿನಿಂದ ತೊಳೆಯುವುದು ಎಂದು ಜಾವಾ ಅವರೊಂದಿಗಿನ ವೈದ್ಯ ಡಾ. ಬಾಬಕ್ ಅಶ್ರಫಿ ವಿವರಿಸಿದರು. ನೀವು ಹೊರಗಿದ್ದರೆ ಮತ್ತು ಇಂದು ಸುಮಾರು ಹಲವಾರು ಜನರು ಮುಖವಾಡಗಳನ್ನು ಧರಿಸಿರುವುದನ್ನು ನೀವು ಗಮನಿಸಬಹುದು ಆದರೆ ಡಾ. ಅಶ್ರಫಿ ವಿವರಿಸಿದ್ದು, ಇವುಗಳು ವೈರಸ್ ಹಿಡಿಯುವ ಅಪಾಯವನ್ನು ಕಡಿಮೆ ಮಾಡುತ್ತದೆ ಎಂಬುದಕ್ಕೆ ಬಹಳ ಕಡಿಮೆ ಪುರಾವೆಗಳಿವೆ ಆದ್ದರಿಂದ ಜನರು ಕೆಮ್ಮುವಾಗ ಅಥವಾ ಸೀನುವಾಗ ಅಂಗಾಂಶದಿಂದ ಬಾಯಿ ಮತ್ತು ಮೂಗುಗಳನ್ನು ಮುಚ್ಚಿಕೊಂಡರೆ ಅವರ ಬರಿ ಕೈಗಳನ್ನು ಬಳಸುವುದು ಮತ್ತು ನಂತರ ಅವರ ಸೋಂಕಿತ ಕೈಗಳನ್ನು ಬಸ್\\u200cನಲ್ಲಿ ಅಥವಾ ಭೂಗತ ಪ್ರದೇಶಗಳ ವಿರುದ್ಧ ಸ್ಪರ್ಶಿಸುವುದರಿಂದ ಸೋಂಕು ಹರಡುವ ಅಪಾಯ ಕಡಿಮೆಯಾಗುತ್ತದೆ ಅವಳು ಸೇರಿಸಿದಳು ನೀವು ನಿಯಮಿತವಾಗಿ ನಿಮ್ಮ ಕೈಗಳನ್ನು ತೊಳೆಯುವುದು ಮತ್ತು ತೊಳೆಯದ ಕೈಗಳಿಂದ ನಿಮ್ಮ ಮುಖವನ್ನು ಸ್ಪರ್ಶಿಸುವುದನ್ನು ತಪ್ಪಿಸಿದರೆ ನೀವು ಕಡಿಮೆ ಸಾಧ್ಯತೆ ನಿಮ್ಮ ಕೈಯಲ್ಲಿ ವೈರಸ್ ಅನ್ನು ಸಾಗಿಸಲು ಮತ್ತು ನಿಮ್ಮ ಕಣ್ಣುಗಳ ಮೂಗು ಅಥವಾ ಬಾಯಿಯ ಲೋಳೆಯ ಪೊರೆಗಳ ಮೂಲಕ ಅದನ್ನು ನಿಮ್ಮ ದೇಹಕ್ಕೆ ರವಾನಿಸಲು\",1\\n\"ನಾನು ಕೆಲವು ಬಾಂಡ್\\u200cಗಳನ್ನು ಲಾಭದಾಯಕವಾಗಿ ಮಾರಾಟ ಮಾಡುತ್ತಿದ್ದೇನೆ ಮತ್ತು ನಮ್ಮ ಪ್ರಸ್ತುತ ಕಡಿಮೆ ಬಡ್ಡಿದರದ ಪರಿಸರದ ಲಾಭ ಪಡೆಯಲು ಹಣವನ್ನು ಸಂಗ್ರಹಿಸುತ್ತಿದ್ದೇನೆ ಈಕ್ವಿಟಿಗಳು ಮಾರುಕಟ್ಟೆಗಳ ಏಕೈಕ ಭಾಗವಲ್ಲ ಮತ್ತು ನಾನು ಎಲ್ಲಿ ಸಾಕಷ್ಟು ನೋಡಿದ್ದೇನೆ ಎಂದು ನಿಮಗೆ ತಿಳಿದಿದ್ದರೆ ಕೆಲವು ನೈಜ ಅವಕಾಶಗಳು ತಮ್ಮನ್ನು ತಾವು ಪ್ರಸ್ತುತಪಡಿಸಿವೆ ಇದು ಸಾಲಗಾರರ ಸ್ವರ್ಗವನ್ನು ಪ್ರತಿನಿಧಿಸುತ್ತದೆ, ಅದು ನಿಸ್ಸಂಶಯವಾಗಿ ನಿಜ ಆದರೆ ಇದು ಆಯ್ದ ಬಾಂಡ್\\u200cಗಳಲ್ಲಿ ಲಾಭವನ್ನು ಪಡೆಯುವ ಒಂದು ಉತ್ತಮ ಅವಕಾಶವನ್ನು ಸಹ ಪ್ರತಿನಿಧಿಸುತ್ತದೆ ಮತ್ತು ವಿವಿಧ ಕಾರಣಗಳಿಗಾಗಿ ನಾನು ನಿರ್ವಹಿಸುವ ವೈಯಕ್ತಿಕ ಖಾತೆಗಳಲ್ಲಿ ನಾನು ಮಾಡುತ್ತಿರುವುದು ಆಯ್ದ ಕೆಲವು ಬಾಂಡ್\\u200cಗಳನ್ನು ಮಾರಾಟ ಮಾಡುತ್ತಿದೆ ನಮ್ಮ ಪ್ರಸ್ತುತ ಕಡಿಮೆ ಬಡ್ಡಿದರದ ಪರಿಸರದ ಲಾಭ ಪಡೆಯಲು ಲಾಭ ಮತ್ತು ಹಣವನ್ನು ಸಂಗ್ರಹಿಸುವುದು ಈಕ್ವಿಟಿ ಮಾರುಕಟ್ಟೆಗಳ ಹತ್ಯಾಕಾಂಡವು ಬಾಂಡ್ ಮಾರುಕಟ್ಟೆಗಳ ಅದೃಷ್ಟವಾಗಿದೆ ಮತ್ತು ಈಕ್ವಿಟಿ ಮಾರುಕಟ್ಟೆಗಳ ಕಾರ್ಯಕ್ಷಮತೆಗೆ ಮಾಧ್ಯಮಗಳು ಕೂಗು ಮತ್ತು ಕೂಗುಗಳೊಂದಿಗೆ ಪ್ರತಿಕ್ರಿಯಿಸುತ್ತಿರುವುದರಿಂದ ಈ ಅವಕಾಶದ ಬಗ್ಗೆ ನಿಮ್ಮ ಗಮನವನ್ನು ಇಂದು ನಿರ್ದೇಶಿಸಲು ನಾನು ಬಯಸುತ್ತೇನೆ.\",1\\nನಂತರ ಮಕ್ಕಳು ಇದ್ದಾರೆ ಏಕೆಂದರೆ ಪೋಷಕರಿಗೆ ಅನಾರೋಗ್ಯದ ಸಮಯದ ಕೊರತೆ ಮತ್ತು ಅವರ ಮಗು ಅನಾರೋಗ್ಯಕ್ಕೆ ಒಳಗಾಗಿದ್ದರೆ ಆರೋಗ್ಯ ರಕ್ಷಣೆಯ ನಿಷೇಧಿತ ವೆಚ್ಚದಿಂದಾಗಿ ಅವರು ಅವರೊಂದಿಗೆ ಮನೆಯಲ್ಲಿಯೇ ಇರಲು ಅಥವಾ ವೈದ್ಯಕೀಯ ಚಿಕಿತ್ಸೆಗೆ ಕರೆದೊಯ್ಯುವ ಸಾಧ್ಯತೆ ಕಡಿಮೆ,0\\n\"ಆಧುನಿಕ medicine ಷಧಿ ಮತ್ತು ಸಾರ್ವಜನಿಕ ಆರೋಗ್ಯ ಕ್ರಮಗಳೊಂದಿಗೆ ನಾವು ಉದಯೋನ್ಮುಖ ವೈರಸ್\\u200cಗಳೊಂದಿಗೆ ಬದುಕಲು ಕಲಿತಿದ್ದೇವೆ ಆದರೆ ನಾವು SARS ಅನ್ನು ನಿಯಂತ್ರಿಸುವಲ್ಲಿ ಯಶಸ್ವಿಯಾಗಿದ್ದೇವೆ, ಅದಕ್ಕಾಗಿ ನಾವು ಹೊಸ ಚಿಕಿತ್ಸೆಗಳು ಮತ್ತು ಲಸಿಕೆಗಳನ್ನು ಅಭಿವೃದ್ಧಿಪಡಿಸಿದ್ದೇವೆ ಎಬೋಲಾ ಮತ್ತು ಎಚ್\\u200cಐವಿ ಯನ್ನು ಮಾರಣಾಂತಿಕ ವೈರಸ್ ಅನ್ನು ದೀರ್ಘಕಾಲದ ನಿರ್ವಹಿಸಬಹುದಾದ ಸೋಂಕಾಗಿ ಬದಲಾಯಿಸಿದೆ. ಆದ್ದರಿಂದ ಅದು ಬಂದರೆ ನಾವು ಇತರರೊಂದಿಗೆ ನಿರ್ವಹಿಸಿದಂತೆಯೇ COVID 19 ವೈರಸ್\\u200cನೊಂದಿಗೆ ಬದುಕಲು ಒಂದು ಮಾರ್ಗವನ್ನು ಕಂಡುಕೊಳ್ಳುತ್ತೇವೆ ಅವರಿಗೆ ಸಾರ್ವಜನಿಕ ಆರೋಗ್ಯ ವ್ಯವಸ್ಥೆಗಳನ್ನು ಬಲಪಡಿಸಲು ತಂತ್ರಗಳು ಬೇಕಾಗಿವೆ ಎಲ್ಲಾ ದೇಶಗಳಲ್ಲಿ ಶ್ರೀಮಂತ ಮತ್ತು ಬಡವರು\",0\\nಯುಸಿ ಡೇವಿಸ್ ಮೆಡಿಕಲ್ ಸೆಂಟರ್ ಅವರು ಕಳೆದ ವಾರ ಪರೀಕ್ಷೆಯನ್ನು ಕೋರಿದ್ದರು ಆದರೆ ಸಿಡಿಸಿ ನಿರಾಕರಿಸಿದ್ದರಿಂದ ರೋಗಿಯು ಅಸ್ತಿತ್ವದಲ್ಲಿರುವ ಸಿಡಿಸಿಗೆ ಹೊಂದಿಕೆಯಾಗದ ಕಾರಣ ಬುಧವಾರ ಸಂಜೆ ಅಪರಿಚಿತ ಮೂಲಗಳೊಂದಿಗೆ ಕ್ಯಾಲಿಫೋರ್ನಿಯಾದಲ್ಲಿ ಕೊರೊನಾವೈರಸ್ ಪ್ರಕರಣ ಅಸ್ತಿತ್ವದಲ್ಲಿದೆ ಎಂದು ಸೆಂಟರ್ ಫಾರ್ ಡಿಸೀಸ್ ಕಂಟ್ರೋಲ್ ದೃ confirmed ಪಡಿಸಿದೆ. ಮಾನದಂಡಗಳು ಈ ಸಮಯದಲ್ಲಿ ರೋಗಿಯ ಮಾನ್ಯತೆ ತಿಳಿದಿಲ್ಲ ಸಿಡಿಸಿ ಹೇಳಿಕೆಯಲ್ಲಿ ನಿಮ್ಮ ಎಸ್ ನಲ್ಲಿ 15 ನೇ ದೃ confirmed ಪಡಿಸಿದ ದೇಶೀಯ ಪ್ರಕರಣದ ರೋಗಿಯನ್ನು ಕಳೆದ ವಾರ ಮತ್ತೊಂದು ಉತ್ತರ ಕ್ಯಾಲಿಫೋರ್ನಿಯಾ ಆಸ್ಪತ್ರೆಯಿಂದ ಡೇವಿಸ್ಗೆ ವರ್ಗಾಯಿಸಲಾಯಿತು. ಯುಸಿ ಡೇವಿಸ್ ಆರೋಗ್ಯ ಅಧಿಕಾರಿಗಳ ಹೇಳಿಕೆಯ ಪ್ರಕಾರ ರೋಗಿಯನ್ನು ಈಗಾಗಲೇ ವೆಂಟಿಲೇಟರ್\\u200cನಲ್ಲಿದ್ದರು ಮತ್ತು ವರ್ಗಾವಣೆ ಮಾಡಿದಾಗ ರೋಗನಿರ್ಣಯ ಮಾಡದ ಮತ್ತು ಶಂಕಿತ ವೈರಲ್ ಸ್ಥಿತಿಯ ಕಾರಣ ಹನಿ ರಕ್ಷಣೆಯ ಆದೇಶಗಳನ್ನು ನೀಡಲಾಯಿತು. ಸ್ಯಾಕ್ರಮೆಂಟೊ ಕೌಂಟಿ ಅಥವಾ ಕ್ಯಾಲಿಫೋರ್ನಿಯಾ ಸಾರ್ವಜನಿಕ ಆರೋಗ್ಯ ಇಲಾಖೆಯು ಕರೋನವೈರಸ್\\u200cಗಾಗಿ ಪರೀಕ್ಷೆಯನ್ನು ಮಾಡುತ್ತಿಲ್ಲವಾದ್ದರಿಂದ ನಾವು ಸಿಡಿಸಿಯಿಂದ COVID 19 ಪರೀಕ್ಷೆಯನ್ನು ಕೋರಿದ್ದೇವೆ. ಈ ಸಮಯದಲ್ಲಿ ಹೇಳಿಕೆಯನ್ನು ಓದುತ್ತದೆ,0\\n\"ಆದಾಯದ ಚಿತ್ರವು ಪರಿಶೀಲನೆಯ ತ್ರೈಮಾಸಿಕದಲ್ಲಿ ಮಿಡಲ್ಬಿಯ ಮಾರಾಟವು 787 6 ಮಿಲಿಯನ್ ಆಗಿದ್ದು, ವರ್ಷ 4 ರ ಬೆಳವಣಿಗೆಯನ್ನು ಪ್ರತಿಬಿಂಬಿಸುತ್ತದೆ. 1 1 ಆ ವಿಭಾಗಗಳ ಸಂಕ್ಷಿಪ್ತ ಚರ್ಚೆಯನ್ನು ವಾಣಿಜ್ಯ ಆಹಾರ ಸೇವೆ ಸಲಕರಣೆ ಸಮೂಹದ ಮಾರಾಟದ ಕೆಳಗೆ ನೀಡಲಾಗಿದೆ. ವರದಿಯಾದ ತ್ರೈಮಾಸಿಕದ ನಿವ್ವಳ ಮಾರಾಟದಲ್ಲಿ 65% ಪ್ರತಿನಿಧಿಸುತ್ತದೆ 512 5 ವರದಿಯ ತ್ರೈಮಾಸಿಕದ ನಿವ್ವಳ ಮಾರಾಟದಲ್ಲಿ 19% ಪ್ರತಿನಿಧಿಸುವ ರೆಸಿಡೆನ್ಶಿಯಲ್ ಕಿಚನ್ ಎಕ್ವಿಪ್ಮೆಂಟ್ ಗ್ರೂಪ್ನ ಮಾರಾಟವು 153 6 ಮಿಲಿಯನ್ ಇಂಚುಗಳು ವರ್ಷಕ್ಕೆ 0 2 ವರ್ಷಗಳನ್ನು ಹೆಚ್ಚಿಸಿದೆ. ಆಹಾರ ಸಂಸ್ಕರಣಾ ಸಲಕರಣೆ ಗುಂಪಿನ ಮಾರಾಟವು ವರದಿಯಾದ ತ್ರೈಮಾಸಿಕದಲ್ಲಿ 15% ಅನ್ನು ಪ್ರತಿನಿಧಿಸುತ್ತದೆ ನಿವ್ವಳ ಮಾರಾಟವು ವರ್ಷಕ್ಕೆ 2 ವರ್ಷ ಹೆಚ್ಚಾಗುತ್ತಿದೆ ಮಾರ್ಜಿನ್ ಪ್ರೊಫೈಲ್ ಪರಿಶೀಲನೆಯ ತ್ರೈಮಾಸಿಕದಲ್ಲಿ ಮಿಡಲ್ಬಿ ಮಾರಾಟದ ವೆಚ್ಚವು ವರ್ಷಕ್ಕೆ 4 ವರ್ಷ ಏರಿಕೆಯಾಗಿ 497 9 ಮಿಲಿಯನ್ಗೆ ತಲುಪಿದೆ\",1\\n\"ಟೋಕಿಯೊ ಟೊಯೋಟಾ ಬುಧವಾರ ಜಪಾನ್\\u200cನಲ್ಲಿನ ತನ್ನ ಸ್ಥಾವರಗಳಲ್ಲಿನ ಕಾರ್ಯಾಚರಣೆಗಳು ಜಾಗತಿಕ ಏಕಾಏಕಿ ವೇಗವನ್ನು ಹೆಚ್ಚಿಸುವುದರಿಂದ ಮುಂಬರುವ ವಾರಗಳಲ್ಲಿ ಹೊಸ ಕೊರೊನಾವೈರಸ್ ಏಕಾಏಕಿ ಸಂಬಂಧಿಸಿರುವ ಪೂರೈಕೆ ಸರಪಳಿ ಸಮಸ್ಯೆಗಳಿಂದ ಪ್ರಭಾವಿತವಾಗಬಹುದು ಎಂದು ಹೇಳಿದರು. ಜಪಾನ್\\u200cನಲ್ಲಿ 16 ವಾಹನ ಮತ್ತು ಘಟಕಗಳ ತಾಣಗಳನ್ನು ನಿರ್ವಹಿಸುವ ವಾಹನ ತಯಾರಕ ಸಂಸ್ಥೆ ಮಾರ್ಚ್ 2 ರ ವಾರದಲ್ಲಿ ಉತ್ಪಾದನೆಯನ್ನು ಸಾಮಾನ್ಯವಾಗಿಸಿದ ನಂತರ ಮಾರ್ಚ್ 9 ರ ವಾರದಿಂದ ತನ್ನ ದೇಶೀಯ ಸ್ಥಾವರಗಳಲ್ಲಿ ಕಾರ್ಯಾಚರಣೆಯನ್ನು ಹೇಗೆ ಮುಂದುವರಿಸುವುದು ಎಂದು ನಿರ್ಧರಿಸಿ. ಚೀನಾದಲ್ಲಿ ಸಂಭವನೀಯ ಪೂರೈಕೆ ಅಡೆತಡೆಗಳಿಂದ ಸಸ್ಯಗಳು ಪರಿಣಾಮ ಬೀರಬಹುದು ಏಕೆಂದರೆ ವೈರಸ್ ಏಕಾಏಕಿ ಕೇಂದ್ರದಲ್ಲಿ ಕೆಲವು ಸಸ್ಯಗಳು ಉಳಿದಿಲ್ಲ. ಪ್ರಾದೇಶಿಕ ಅಧಿಕಾರಿಗಳ ಆದೇಶದ ಮೇರೆಗೆ ಕೆಲವು ಸ್ಥಾವರಗಳು ಮುಚ್ಚಲ್ಪಟ್ಟಿವೆ, ಆದರೆ ನಾವು ಚೀನಾದಿಂದ ಭಾಗಗಳನ್ನು ಸಾಮಾನ್ಯವಾಗಿಸುತ್ತಿದ್ದೇವೆ ಆದರೆ ಮಾರ್ಚ್ 2 ರ ವಾರದ ನಂತರ ನಾವು ಪರಿಸ್ಥಿತಿಯನ್ನು ನಿರ್ಣಯಿಸುತ್ತೇವೆ ಎಂದು ಟೊಯೋಟಾ ವಕ್ತಾರರು ರಾಯಿಟರ್ಸ್ಗೆ ತಿಳಿಸಿದರು. ಜಪಾನ್\\u200cನಲ್ಲಿನ ಉದ್ಯೋಗಿಗಳಿಗೆ ಅನಿವಾರ್ಯವಲ್ಲದ ಪ್ರಯಾಣ ವೈರಸ್ ಹರಡುವಿಕೆಯ ವೇಗವಾಗಿ ಕಾರ್ಯಾಚರಣೆಯನ್ನು ತಡೆಯುವ ಜಾಗತಿಕ ಕಂಪನಿಯ ಇತ್ತೀಚಿನ ಕ್ರಮ ವೇಗವನ್ನು ಸಂಗ್ರಹಿಸಲು ಕಾಣುತ್ತದೆ\",0\\n\"ಧ್ವನಿವರ್ಧಕಗಳು ನೈರ್ಮಲ್ಯ ಸಂದೇಶಗಳನ್ನು ಹೊಡೆಯುವುದರೊಂದಿಗೆ ವಿದೇಶಿ ರಾಯಭಾರಿಗಳು ತಮ್ಮ ಕಾಂಪೌಂಡ್\\u200cಗಳಲ್ಲಿ ಲಾಕ್ ಆಗಿದ್ದಾರೆ ಮತ್ತು ಆರೋಗ್ಯ ಅಧಿಕಾರಿಗಳಿಗೆ ಸಂಪೂರ್ಣ ವಿಧೇಯತೆ ನೀಡುವಂತೆ ಒತ್ತಾಯಿಸುವ ರಾಜ್ಯ ಮಾಧ್ಯಮಗಳು ಉತ್ತರ ಕೊರಿಯಾವು ರಾಜತಾಂತ್ರಿಕರು ಅಭೂತಪೂರ್ವ ಕ್ರಮಗಳನ್ನು ಕರೆಯುತ್ತಿರುವುದನ್ನು ತೆಗೆದುಕೊಳ್ಳುತ್ತಿದೆ. ನೆರೆಯ ಚೀನಾದಲ್ಲಿ ಮೊದಲು ಹೊರಹೊಮ್ಮಿದ ವೈರಸ್\\u200cನಿಂದ ತನ್ನನ್ನು ತಾನು ರಕ್ಷಿಸಿಕೊಳ್ಳಿ ಅದರ ಪ್ರಮುಖ ರಾಜತಾಂತ್ರಿಕ ಮಿತ್ರ ಮತ್ತು ವ್ಯಾಪಾರ ಪಾಲುದಾರ ವೈರಸ್ ಹೊರಹೊಮ್ಮಿದ ನಂತರ ಪ್ಯೊಂಗ್ಯಾಂಗ್ ತನ್ನ ಗಡಿಗಳನ್ನು ಹೊರಗಿನ ಪ್ರಪಂಚದಿಂದ ಕತ್ತರಿಸಿಕೊಂಡು ಒಂದು ಕ್ರಮದಲ್ಲಿ ರಾಜತಾಂತ್ರಿಕರು ಮತ್ತು ವಿಶ್ಲೇಷಕರು ಹೇಳುವ ಪ್ರಕಾರ ಇದು ಸ್ವಯಂ ರಕ್ಷಣೆಯ ಅತ್ಯುತ್ತಮ ವಿಧಾನವಾಗಿದೆ ಅದರ ಆರೋಗ್ಯ ಮೂಲಸೌಕರ್ಯದ ದೌರ್ಬಲ್ಯವು 30 ದಿನಗಳ ಪ್ರತ್ಯೇಕತೆಗೆ ಒಳಪಟ್ಟಿರುತ್ತದೆ ಮತ್ತು ಇದು ಅಧಿಕೃತ ಕೆಸಿಎನ್\\u200cಎಯೊಂದಿಗೆ ಆಂತರಿಕವಾಗಿ ತನ್ನ ಪ್ರಯತ್ನಗಳನ್ನು ಚುರುಕುಗೊಳಿಸಿದೆ, ಮನೆ ಬಾಗಿಲಿನ ಆರೋಗ್ಯ ತಪಾಸಣೆ ಮತ್ತು ಧ್ವನಿವರ್ಧಕ ವ್ಯಾನ್\\u200cಗಳು ಸೇರಿದಂತೆ ದೇಶಾದ್ಯಂತದ ನೈರ್ಮಲ್ಯ ಪದ್ಧತಿಗಳ ಬಗ್ಗೆ ನಾಗರಿಕರಿಗೆ ಸೂಚನೆ ನೀಡುವ ವಿದೇಶಿಗರು ವಿಶೇಷವಾಗಿ ಕಠಿಣ ಎದುರಿಸುತ್ತಿದೆ h ನಿರ್ಬಂಧಗಳು ಫೆಬ್ರವರಿ ಆರಂಭದಿಂದ ದೇಶದಲ್ಲಿ ವಾಸಿಸುವ ಎಲ್ಲರನ್ನು ತಮ್ಮ ಆವರಣದಲ್ಲಿ ಸಂಪರ್ಕತಡೆಗೆ ಒಳಪಡಿಸಲಾಗಿದೆ\",0\\n\"ಡೆಡಿಕೇಟೆಡ್ ಫ್ರೈಟ್ ಕಾರಿಡಾರ್ ಡಿಎಫ್\\u200cಸಿ ಮೂಲತಃ ಅದರ ಸರಕು ಸ್ಟೇಟ್ ರನ್ ಕಂಟೇನರ್ ಪೋರ್ಟ್ ಜೆಎನ್\\u200cಪಿಟಿಗೆ ಉದ್ದೇಶಿತವಾಗಿದೆ ಎಂದು ಪ್ರತಿಪಾದಿಸಿದ್ದು, ಅದಾನಿಗಳು ನಡೆಸುತ್ತಿರುವ ಖಾಸಗಿ ವಲಯದ ಮುಂಡ್ರಾ ಬಂದರು ಯೋಜನೆಯ ಮೂಲಕ ಸಂಪರ್ಕದಲ್ಲಿ ಆದ್ಯತೆ ಪಡೆಯುವುದಿಲ್ಲ ಎಂದು ಖಚಿತಪಡಿಸಿಕೊಳ್ಳಲು ಕೇಂದ್ರ ಸರ್ಕಾರವನ್ನು ಗುರುವಾರ ಕೇಳಿದೆ. ದೇಶದ ಅತಿದೊಡ್ಡ ಕಂಟೇನರ್ ಬಂದರು ಮುಂಡ್ರಾ ಕಾರಿಡಾರ್\\u200cನಲ್ಲಿ ಮೊದಲು ಸಂಪರ್ಕ ಸಾಧಿಸುವುದರಿಂದ ಅದರ ವ್ಯವಹಾರದ ಮೇಲೆ ಪ್ರತಿಕೂಲ ಪರಿಣಾಮ ಬೀರುತ್ತದೆ, ಏಕೆಂದರೆ ಒಳನಾಡಿನ ಸರಕು ಅದಾನಿ ರನ್ ಬಂದರಿಗೆ ಹೋಗುತ್ತದೆ ಮತ್ತು ಇದು ಡಿಎಫ್\\u200cಸಿಗೆ ಸಂಪರ್ಕ ಹೊಂದಿದೆಯೆ ಎಂದು ಖಚಿತಪಡಿಸಿಕೊಳ್ಳಲು ಸರ್ಕಾರದ ಸಹಾಯವನ್ನು ಕೋರಿದೆ 2019 ರಲ್ಲಿ ಬಂದರು ಸರಕು ನಿರ್ವಹಣೆಯಲ್ಲಿ ಜಿಗಿತವನ್ನು ಹೊಂದಿದೆ ಕರೋನವೈರಸ್ ಸಂಬಂಧಿತ ಪರಿಣಾಮದಿಂದಾಗಿ ವರ್ಷದ ಹಿಂದಿನ ಅವಧಿಯಂತೆ ಮಾರ್ಚ್ ತ್ರೈಮಾಸಿಕದಲ್ಲಿ ಕಾರ್ಯಕ್ಷಮತೆ ಸಮತಟ್ಟಾಗುತ್ತದೆ ಎಂದು ಸೇಥಿ ಹೇಳಿದ್ದಾರೆ. ಏತನ್ಮಧ್ಯೆ ಕೇಂದ್ರ ಕ್ಯಾಬಿನೆಟ್ ದಹನು ಕರಾವಳಿಯ ಗ್ರೀನ್ಫೀಲ್ಡ್ ವಾಧವನ್ ಬಂದರನ್ನು ತೆರವುಗೊಳಿಸಿದೆ ಎಂದು ಸೇಥಿ ಹೇಳಿದ್ದಾರೆ. ಜೆಎನ್\\u200cಪಿಟಿ ಮಹತ್ವಾಕಾಂಕ್ಷೆಯ ಯೋಜನೆಗಾಗಿ ಕಾನ್\\u200cಕಾರ್\\u200cನಂತಹ ಇತರ ರಾಜ್ಯ ನಡೆಸುವ ಸಂಸ್ಥೆಗಳೊಂದಿಗೆ ಒಪ್ಪಂದ ಮಾಡಿಕೊಳ್ಳಲು ಬಯಸುತ್ತದೆ ಎರ್ 60000 ಕೋಟಿ ರೂ. ಇತರ ವಿಸ್ತರಣಾ ಯೋಜನೆಗಳ ಬಗ್ಗೆ ಕೇಳಿದಾಗ ಬಂದರು ದಿವಾಳಿಯಾದ ಡಿಘಿ ಬಂದರನ್ನು ಸ್ವಾಧೀನಪಡಿಸಿಕೊಳ್ಳಲು ಆಸಕ್ತಿ ಹೊಂದಿದೆ ಎಂದು ವರದಿಯಾಗಿದೆ ಮತ್ತು ಇನ್ನೂ ರೇವಾಸ್ ಬಂದರನ್ನು ತನ್ನ ಪಕ್ಕದಲ್ಲಿಯೇ ಪ್ರಾರಂಭಿಸಬೇಕಾಗಿಲ್ಲ ಎಂದು ಸೇಥಿ ಹೇಳಿದ್ದಾರೆ. ಪ್ರಸ್ತುತ ಇದು ಕೇವಲ ವಾಧವನ್ ಮಾತ್ರ ಕೇಂದ್ರೀಕರಿಸಿದೆ\",0\\n\"ಕಚ್ಚಾ ತೈಲ ಬೆಲೆಗಳನ್ನು ಸರಾಗಗೊಳಿಸುವ ಮತ್ತು ಗ್ರೀನ್\\u200cಬ್ಯಾಕ್ ಸಾಗರೋತ್ತರ ದುರ್ಬಲಗೊಂಡಿರುವ ಮಧ್ಯೆ ಗುರುವಾರ ಭಾರತೀಯ ಡಾಲರ್ ಎದುರು 6 ಪೈಸೆ ಏರಿಕೆ 71 59 ಕ್ಕೆ ತಲುಪಿದೆ. ವಿದೇಶಿ ವಿದೇಶೀ ವಿನಿಮಯ ವ್ಯಾಪಾರಿಗಳು, ವಿದೇಶಿ ನಿಧಿಯ ಹೊರಹರಿವು ಮತ್ತು ದೃ sales ವಾದ ಮಾರಾಟದಿಂದ ಲಾಭಗಳನ್ನು ನಿರ್ಬಂಧಿಸಲಾಗಿರುವುದರಿಂದ ರೂಪಾಯಿ ಕಿರಿದಾದ ವ್ಯಾಪ್ತಿಯಲ್ಲಿ ಕ್ರೋ id ೀಕರಿಸಲ್ಪಟ್ಟಿದೆ ಎಂದು ಹೇಳಿದರು. ದೇಶೀಯ ಇಕ್ವಿಟಿಗಳಲ್ಲಿ ಇಂಟರ್ಬ್ಯಾಂಕ್ ವಿದೇಶಿ ವಿನಿಮಯ ಮಾರುಕಟ್ಟೆಯಲ್ಲಿ ಸ್ಥಳೀಯ ಕರೆನ್ಸಿ ಯುಎಸ್ ಡಾಲರ್ ರೂಪಾಯಿಗೆ 71% ಕ್ಕೆ ತೆರೆದು ಸಂಕುಚಿತ ವ್ಯಾಪ್ತಿಯಲ್ಲಿ ಕ್ರೋ id ೀಕರಿಸಲ್ಪಟ್ಟಿತು ಆದರೆ ಯುಎಸ್ ಡಾಲರ್ ವಿರುದ್ಧ ಸ್ವಲ್ಪ negative ಣಾತ್ಮಕ ಪಕ್ಷಪಾತದೊಂದಿಗೆ ವಹಿವಾಟು ನಡೆಸಿತು, ಇದು ಯುಎಸ್ನಿಂದ ಬಿಡುಗಡೆಯಾಗುವ ಪ್ರಾಥಮಿಕ ಜಿಡಿಪಿ ಸಂಖ್ಯೆಗೆ ಮುಂಚಿತವಾಗಿ ಇಂದು ಸಂಜೆ ಗೌರಂಗ್ ಸೋಮಯ್ಯ ವಿದೇಶೀ ವಿನಿಮಯ ಬುಲಿಯನ್ ವಿಶ್ಲೇಷಕ ಮೋತಿಲಾಲ್ ಓಸ್ವಾಲ್ ಫೈನಾನ್ಷಿಯಲ್ ಸರ್ವೀಸಸ್ ಸೋಮಯ್ಯ ಅವರು ದೇಶೀಯ ಮುಂಭಾಗದ ಬೆಳವಣಿಗೆಯ ಸಂಖ್ಯೆಯನ್ನು ನಾಳೆ ಬಿಡುಗಡೆ ಮಾಡಲಾಗುವುದು ಮತ್ತು ನಿರೀಕ್ಷಿತ ಸಂಖ್ಯೆಗಿಂತ ದುರ್ಬಲವಾಗಿ ರೂಪಾಯಿಯನ್ನು ಒತ್ತಡದಲ್ಲಿರಿಸಿಕೊಳ್ಳಬಹುದು ಎಂದು ಹೇಳಿದರು.\",0\\n\"ಚೀನಾದ ನಗರವಾದ ವುಹಾನ್ ಮತ್ತು ನಿರ್ಬಂಧಿತ ಕ್ರೂಸ್ ಹಡಗು ಡೈಮಂಡ್ ರಾಜಕುಮಾರಿಯಿಂದ ವಿದೇಶಿ ಸಚಿವಾಲಯವು ಒಟ್ಟು 1952 ಭಾರತೀಯರನ್ನು ಮತ್ತು 41 ವಿದೇಶಿ ಪ್ರಜೆಗಳನ್ನು ಸ್ಥಳಾಂತರಿಸಿದೆ ಎಂದು ವಿದೇಶಾಂಗ ಸಚಿವಾಲಯ ಗುರುವಾರ ತಿಳಿಸಿದೆ. ಇಲ್ಲಿಯವರೆಗೆ ಒಟ್ಟು 842 ಭಾರತೀಯರು ಮತ್ತು 48 ವಿದೇಶಿ ನಾಗರಿಕರನ್ನು ಸ್ಥಳಾಂತರಿಸಲಾಗಿದೆ ಚೀನಾ ಮತ್ತು ಜಪಾನ್\\u200cನಿಂದ ಫೆಬ್ರವರಿ 5 ರಿಂದ ಜಪಾನ್ ಕರಾವಳಿಯಲ್ಲಿ ನಿರ್ಬಂಧಿಸಲಾದ 138 ಭಾರತೀಯ ಪ್ರಜೆಗಳ ಪೈಕಿ 119 ಜನರನ್ನು ವಜಾಗೊಳಿಸಲಾಗಿದೆ. ಹೆಚ್ಚುವರಿಯಾಗಿ 5 ವಿದೇಶಿ ಪ್ರಜೆಗಳು ಇಬ್ಬರು ಶ್ರೀಲಂಕಾದವರು ಒಂದು ನೇಪಾಳಿ ಮತ್ತು ಪೆರು ಮತ್ತು ದಕ್ಷಿಣ ಆಫ್ರಿಕಾದಿಂದ ತಲಾ ಒಬ್ಬರು ಸ್ಥಳಾಂತರಿಸಿದ ಎಂಇಎ ವಕ್ತಾರ ರವೀಶ್ ಕುಮಾರ್ ಮಾತನಾಡಿ, ಬಾಂಗ್ಲಾದೇಶದ 23 ಮಂದಿ ಸೇರಿದಂತೆ 76 ಭಾರತೀಯ ಪ್ರಜೆಗಳು ಮತ್ತು 36 ವಿದೇಶಿ ಪ್ರಜೆಗಳು ಚೀನಾದಿಂದ ಆರು ಮಂದಿ ಚೀನಾದಿಂದ ಇಬ್ಬರು ಮ್ಯಾನ್ಮಾರ್ ಮತ್ತು ಮಾಲ್ಡೀವ್ಸ್ ಮತ್ತು ದಕ್ಷಿಣ ಆಫ್ರಿಕಾದಿಂದ ತಲಾ ಒಬ್ಬರನ್ನು ಯುನೈಟೆಡ್ ಸ್ಟೇಟ್ಸ್ ಮತ್ತು ಮಡಗಾಸ್ಕರ್ ವುಹಾನ್ ನಿಂದ ಸ್ಥಳಾಂತರಿಸಲಾಗಿದೆ\",1\\nಮುಂದಿನ ತಿಂಗಳು ನಡೆಯಲಿರುವ ಐಎಸ್\\u200cಎಸ್\\u200cಎಫ್ ವಿಶ್ವಕಪ್\\u200cನಲ್ಲಿ ಪೂರ್ವ ಏಷ್ಯಾದ ದೇಶದ ಕ್ರೀಡಾಪಟುಗಳಿಗೆ ಅವಕಾಶ ನೀಡಲಾಗುತ್ತದೆಯೇ ಎಂಬ ಬಗ್ಗೆ ತನ್ನ ನಿಲುವನ್ನು ಸ್ಪಷ್ಟಪಡಿಸುವಂತೆ ದಕ್ಷಿಣ ಕೊರಿಯಾದ ರಾಷ್ಟ್ರೀಯ ಶೂಟಿಂಗ್ ಫೆಡರೇಶನ್ ಕೊರೋನವೈರಸ್\\u200cನ ಜಾಗತಿಕ ಹಾಟ್\\u200cಬೆಡ್\\u200cಗಳಲ್ಲಿ ಒಂದಾಗಿದೆ. ಮಾರ್ಚ್ 15 ರಿಂದ 26 ರವರೆಗೆ ನಡೆಯುವ ಈವೆಂಟ್\\u200cನಲ್ಲಿ ಶೂಟರ್\\u200cಗಳು ಭಾಗವಹಿಸಲು ಉತ್ಸುಕರಾಗಿದ್ದಾರೆ ಎಂದು ನ್ಯಾಷನಲ್ ರೈಫಲ್ ಅಸೋಸಿಯೇಶನ್ ಆಫ್ ಇಂಡಿಯಾ ಎನ್\\u200cಆರ್\\u200cಎಐ ಅಧ್ಯಕ್ಷ ರಣಿಂದರ್ ಸಿಂಗ್ ಕೊರಿಯಾ ಶೂಟಿಂಗ್ ಫೆಡರೇಶನ್ ಪ್ರಧಾನ ಕಾರ್ಯದರ್ಶಿ ಯೋಂಗ್ಜೇ ಲೀ ಹೇಳಿದ್ದಾರೆ. ಪ್ರಸ್ತುತ ಕೊರಿಯಾದ ಹೆಚ್ಚಿನ ಕ್ರೀಡಾಪಟುಗಳು ಐಎಸ್\\u200cಎಸ್ಎಫ್ ವಿಶ್ವಕಪ್\\u200cನಲ್ಲಿ ಕನಿಷ್ಠ ಅರ್ಹತಾ ಮಾನದಂಡವನ್ನು ಪಡೆಯಲು ಬಯಸುತ್ತಿದ್ದಾರೆ ನವದೆಹಲಿ ಫೆಬ್ರವರಿ 26 ರ ನಂತರ ಕೊರಿಯಾ ಇರಾನ್ ಮತ್ತು ಇಟಲಿಯಿಂದ ಭಾರತಕ್ಕೆ ಬರುವ ಜನರು ವೈರಸ್ನಿಂದ ತೀವ್ರವಾಗಿ ಬಾಧಿತರಾಗಿದ್ದಾರೆ ಎಂದು ಫೆಬ್ರವರಿ 26 ರ ನಂತರ ಭಾರತ ರಾಯಭಾರ ಕಚೇರಿಯ ನಿರ್ದೇಶನದ ಮೂಲಕ ಈ ಪತ್ರವನ್ನು ಸೂಚಿಸಲಾಗಿದೆ. ದಕ್ಷಿಣ ಕೊರಿಯಾಕ್ಕೆ ಆಗಮಿಸಿದಾಗ 14 ದಿನಗಳವರೆಗೆ ನಿರ್ಬಂಧಿಸಬಹುದು ಕರೋನವೈರಸ್ನ 1700 ಕ್ಕೂ ಹೆಚ್ಚು ಪ್ರಕರಣಗಳು ದೃ confirmed ಪಟ್ಟಿದೆ ಮತ್ತು 13 ಜನರು ಈ ಕಾಯಿಲೆಯಿಂದ ಸಾವನ್ನಪ್ಪಿದ್ದಾರೆ,0\\n\"ಪ್ರಮುಖ ನಗರ ವ್ಯವಹಾರಗಳು ಉದ್ಯೋಗಿಗಳನ್ನು ಈಗಾಗಲೇ ಮನೆಗೆ ಕಳುಹಿಸುವುದರಿಂದ ವ್ಯಾಪಾರ ಪ್ರಯಾಣ ನಿಷೇಧವನ್ನು ಜಾರಿಗೆ ತರುವುದರಿಂದ ಉದ್ಯೋಗದಾತರು ಈಗಾಗಲೇ ಪರಿಣಾಮಗಳನ್ನು ಅನುಭವಿಸುತ್ತಿದ್ದಾರೆ ಮತ್ತು ಪರಿಸ್ಥಿತಿ ಹದಗೆಟ್ಟರೆ ಅವುಗಳು ಜೋಡಿಸಲ್ಪಡುತ್ತವೆ ಎಂದು ಖಚಿತಪಡಿಸಿಕೊಳ್ಳಲು ಅನಾರೋಗ್ಯದ ನೀತಿಗಳು ಮತ್ತು ನಿಬಂಧನೆಗಳನ್ನು ಆತುರದಿಂದ ಉಲ್ಲೇಖಿಸುತ್ತದೆ. ಇಲ್ಲಿಯವರೆಗೆ ನಮಗೆ ತಿಳಿದಿರುವುದು ಮತ್ತು ಹೇಗೆ ಇದು ಉದ್ಯೋಗದಾತರ ಮೇಲೆ ಪರಿಣಾಮ ಬೀರಬಹುದು ಆರೋಗ್ಯ ಇಲಾಖೆಯ ಇತ್ತೀಚಿನ ಮಾಹಿತಿಯ ಪ್ರಕಾರ, ಈ ವಾರದ ಆರಂಭದಲ್ಲಿ ಇನ್ನೂ ನಾಲ್ಕು ರೋಗಿಗಳು ವೈರಸ್\\u200cಗೆ ಧನಾತ್ಮಕ ಪರೀಕ್ಷೆ ನಡೆಸಿದ ನಂತರ ಯುಕೆಯಲ್ಲಿ 13 ಪ್ರಕರಣಗಳು ದೃ confirmed ಪಟ್ಟಿದೆ ಎಂದು ವರದಿಗಳು ಬಹಿರಂಗಪಡಿಸಿದ್ದು ಗೋಲ್ಡ್ಮನ್ ಸ್ಯಾಚ್ಸ್ ಮತ್ತು ಸ್ಟ್ಯಾಂಡರ್ಡ್ ಚಾರ್ಟರ್ಡ್ ಸೇರಿದಂತೆ ಹಲವಾರು ಉದ್ಯೋಗದಾತರು ಹೇಳಿದ್ದಾರೆ ನಗರ ಕಾರ್ಮಿಕರಲ್ಲಿ ವೈರಸ್ ಹರಡುವುದನ್ನು ತಪ್ಪಿಸಲು ಅವರು ಮನೆಯಲ್ಲಿಯೇ ಇರಬೇಕು ಎಂದು ಲಂಡನ್ ಮೂಲದ ಸಿಬ್ಬಂದಿ ಸಿಟಿಗ್ರೂಪ್ ಮತ್ತು ಡಾಯ್ಚ ಬ್ಯಾಂಕ್ ಸೇರಿದಂತೆ ಹಣಕಾಸು ಸೇವಾ ವಲಯದ ಇತರ ಉದ್ಯೋಗದಾತರು ಇಟಲಿಗೆ ನೌಕರರ ಪ್ರಯಾಣವನ್ನು ನಿರ್ಬಂಧಿಸಿದ್ದಾರೆ, ಅಲ್ಲಿ ವೈರಸ್ ಹರಡುವಿಕೆ ಹರಡಬಹುದೆಂಬ ಭಯದಿಂದ ಎಕ್ಸ್ಪರ್ಟ್ಹೆಚ್ಆರ್ ಫ್ಲೂ ಸಾಂಕ್ರಾಮಿಕ ಆಕಸ್ಮಿಕ ಯೋಜನೆಯಲ್ಲಿ ಸಾರಾ ಇವಾನ್ಸ್ ಎಮ್ ಒಳಗೊಂಡಿರಬಹುದು ಉದ್ಯೋಗಿಗಳ ಎಲ್ಲಾ ಸಂವಹನವು ಸ್ಪಷ್ಟವಾಗಿದೆ ಮತ್ತು ಕಾರ್ಮಿಕರ ಅನುಪಸ್ಥಿತಿಯಲ್ಲಿ ಆಕಸ್ಮಿಕ ಯೋಜನೆಗಳೊಂದಿಗೆ ಪರಿಗಣಿಸಲಾಗಿದೆಯೆ ಎಂದು ಖಚಿತಪಡಿಸಿಕೊಳ್ಳಲು ಈ ಸನ್ನಿವೇಶವು ಆರೋಗ್ಯ ಮತ್ತು ಸುರಕ್ಷತಾ ನೀತಿಗಳನ್ನು ಎಚ್ಚರಿಕೆಯಿಂದ ನೋಡಬೇಕಾದರೆ ಎಚ್\\u200cಆರ್ ಇಲಾಖೆಗಳು ಈ ಸಮಯವನ್ನು ಯೋಜಿಸಲು ಮುಂದಾಗಬೇಕೆಂದು ಜೆಎಂಡಬ್ಲ್ಯು ಸಾಲಿಸಿಟರ್ಸ್\\u200cನ ಉದ್ಯೋಗ ಕಾನೂನು ಪಾಲುದಾರ ಹೇಳುತ್ತಾರೆ.\",0\\nಮಾರಣಾಂತಿಕ ಕರೋನವೈರಸ್ ಏಕಾಏಕಿ ಕೇಂದ್ರಬಿಂದುವಾಗಿರುವ ವುಹಾನ್\\u200cಗೆ ಭಾರತದ ವೈದ್ಯಕೀಯ ನೆರವು ನೀಡಿದ ಬಗ್ಗೆ ಕೃತಜ್ಞತೆ ವ್ಯಕ್ತಪಡಿಸಿದ ಚೀನಾದ ಭಾರತದ ರಾಯಭಾರಿ ಸನ್ ವೀಡಾಂಗ್ ಗುರುವಾರ ಈ ಪ್ರಯತ್ನವು ಎರಡು ನೆರೆಹೊರೆಯವರ ನಡುವಿನ ಒಗ್ಗಟ್ಟಿನ ಮತ್ತು ಸ್ನೇಹದ ಪ್ರತಿಬಿಂಬವಾಗಿದೆ ಎಂದು ವಿದೇಶಾಂಗ ವ್ಯವಹಾರಗಳ ಸಚಿವಾಲಯ ಹೇಳಿದೆ. ಕರೋನವೈರಸ್ನಲ್ಲಿ ಬಂದಿಳಿದ ಮುಖವಾಡ ಕೈಗವಸುಗಳು ಮತ್ತು ಇತರ ತುರ್ತು ವೈದ್ಯಕೀಯ ಉಪಕರಣಗಳನ್ನು ಒಳಗೊಂಡ ಸುಮಾರು 15 ಟನ್ ವೈದ್ಯಕೀಯ ಸಹಾಯವನ್ನು ಹೊತ್ತೊಯ್ಯುವ ಐಎಎಫ್ ವಿಶೇಷ ವಿಮಾನವು ಬುಧವಾರ ಚೀನಾದ ನಗರವಾದ ವುಹಾನ್ಗೆ ಅಪ್ಪಳಿಸಿತು. ಈ ಸೋಂಕಿನ ಏಕಾಏಕಿ ನಿಯಂತ್ರಿಸಲು ಚೀನಾದ ಪ್ರಯತ್ನಗಳನ್ನು ಹೆಚ್ಚಿಸಲು ವೈದ್ಯಕೀಯ ಸರಬರಾಜು ಸಹಾಯ ಮಾಡುತ್ತದೆ. ದೇಶದಲ್ಲಿ 2700 ಕ್ಕೂ ಹೆಚ್ಚು ಜನರು ವಾಸಿಸುತ್ತಿದ್ದಾರೆ ಮತ್ತು ಇದನ್ನು ವಿಶ್ವ ಆರೋಗ್ಯ ಸಂಸ್ಥೆ ಡಬ್ಲ್ಯುಎಚ್\\u200cಒ ಸಾರ್ವಜನಿಕ ಆರೋಗ್ಯ ತುರ್ತುಸ್ಥಿತಿ ಎಂದು ಘೋಷಿಸಿದೆ. ಚೀನಾದಲ್ಲಿ ಕೊರೊನಾವೈರಸ್ ಕೋವಿಡ್ 19 ಏಕಾಏಕಿ ಮತ್ತು ಮುಖವಾಡಗಳು ಮತ್ತು ವೈದ್ಯಕೀಯ ಉಪಕರಣಗಳಂತಹ ಸರಬರಾಜುಗಳನ್ನು ಒದಗಿಸುವಂತೆ ಚೀನಾ ಕೋರಿಕೆಯ ಹಿನ್ನೆಲೆಯಲ್ಲಿ ಈ ನೆರವು ನೀಡಲಾಗಿದೆ. ಪರಿಹಾರದ ಜೊತೆಗೆ ಈ ಹಿಂದೆ ಬಿಡುಗಡೆ ಮಾಡಿದ ಹೇಳಿಕೆಯಲ್ಲಿ ಸಚಿವಾಲಯ ಹೇಳಿದೆ ಐಎಎಫ್ ವಿಶೇಷ ಹಾರಾಟವು ನವದೆಹಲಿಯ ನೆರೆಹೊರೆಯ ಮೊದಲ ನೀತಿಗೆ ಅನುಗುಣವಾಗಿ ಭಾರತಕ್ಕೆ ಪ್ರಯಾಣಿಸಲು ನೆರವು ಕೋರಿದ ಕೆಲವು ನೆರೆಯ ರಾಷ್ಟ್ರಗಳ ಭಾರತೀಯ ಮತ್ತು ವಿದೇಶಿ ಪ್ರಜೆಗಳನ್ನು ಮರಳಿ ಕರೆತಂದಿತು.,1\\n\"ಕರೋನವೈರಸ್\\u200cನಿಂದ ಚೇತರಿಸಿಕೊಂಡ ನಂತರ ಇತ್ತೀಚೆಗೆ ಆಸ್ಪತ್ರೆಯಿಂದ ಬಿಡುಗಡೆಯಾದ ಜಪಾನ್\\u200cನ ಟೂರ್ ಗೈಡ್ ವರದಿಗಳ ಪ್ರಕಾರ ಮತ್ತೆ ಧನಾತ್ಮಕತೆಯನ್ನು ಪರೀಕ್ಷಿಸಿದೆ. ತನ್ನ 40 ರ ಹರೆಯದ ಒಸಾಕಾ ಮಹಿಳೆ ಚೀನಾದ ಕೇಂದ್ರಕೇಂದ್ರ ನಗರವಾದ ವುಹಾನ್\\u200cನ ಪ್ರವಾಸಿಗರೊಂದಿಗೆ ಬಸ್\\u200cನಲ್ಲಿ ಕೆಲಸ ಮಾಡುತ್ತಿದ್ದಾಗ ದೃ confirmed ಪಟ್ಟಾಗ ಜನವರಿ 29 ರಂದು ಅನಾರೋಗ್ಯದಿಂದ ಸೋಂಕಿಗೆ ಒಳಗಾಗಿದ್ದಾರೆ ಎಂದು ಒಜೆಕಾದ ಅಧಿಕಾರಿಯೊಬ್ಬರು ಹೇಳಿದ್ದಾರೆ, ಜಪಾನ್\\u200cನಲ್ಲಿ COVID 19 ಗೆ ಧನಾತ್ಮಕ ಪರೀಕ್ಷೆ ನಡೆಸಿದ ವ್ಯಕ್ತಿಯಲ್ಲಿ ಈ ಪ್ರಕರಣವು ಮೊದಲನೆಯದು ಎಂದು ಸ್ಪಷ್ಟಪಡಿಸಲಾಗಿದೆ. ಇದನ್ನು ತೆರವುಗೊಳಿಸಿದ ನಂತರ ಎರಡನೇ ಸಕಾರಾತ್ಮಕ ಪರೀಕ್ಷೆಗಳ ಪ್ರಕರಣಗಳು ಈಗಾಗಲೇ ಚೀನಾದಲ್ಲಿ ವರದಿಯಾಗಿದೆ ರಾಯಿಟರ್ಸ್ಗೆ ಜಪಾನ್ನಲ್ಲಿ ಒಟ್ಟು ಏಳು ಜನರು ಅನಾರೋಗ್ಯದಿಂದ ಸಾವನ್ನಪ್ಪಿದ್ದಾರೆ, ರಾಯಿಟರ್ಸ್ ಪ್ರಕಾರ ಡೈಮಂಡ್ ಪ್ರಿನ್ಸೆಸ್ ಕ್ರೂಸ್ ಹಡಗಿನಲ್ಲಿದ್ದ ನಾಲ್ವರು ಸೇರಿದಂತೆ\",0\\n\"ಕರೋನವೈರಸ್ ಕಳವಳಗಳ ನಡುವೆಯೂ ಮುಂದುವರಿಯಲು ಎಫ್ 1 ರ ಆಸ್ಟ್ರೇಲಿಯನ್ ಜಿಪಿ ಸಚಿವರು ಹೇಳುತ್ತಾರೆ ನ್ಯೂಸ್ ಮಾರ್ಪಡಿಸಲಾಗಿದೆ 27 ಫೆಬ್ರವರಿ 2020 18 16 ಐಎಸ್ಟಿ ಮೆಲ್ಬೋರ್ನ್\\u200cನ ಆಲ್ಬರ್ಟ್ ಪಾರ್ಕ್\\u200cನಲ್ಲಿ ಫೆರಾರಿಯ ಸೆಬಾಸ್ಟಿಯನ್ ವೆಟ್ಟೆಲ್ ರೇಸಿಂಗ್ ಫಾರ್ಮುಲಾ ಒಂದು season ತುವಿನ ಆರಂಭಿಕ ಆಸ್ಟ್ರೇಲಿಯಾದ ಗ್ರ್ಯಾಂಡ್ ಪ್ರಿಕ್ಸ್ ಪ್ರಾರಂಭವಾಗಲಿದೆ ಎಂದು ಕೊರೊನಾವೈರಸ್ ಕಳವಳಗಳ ಹೊರತಾಗಿಯೂ ವಿಕ್ಟೋರಿಯಾ ಸರ್ಕಾರ ದೃ confirmed ಪಡಿಸಿದೆ ಚೀನಾದಲ್ಲಿ ಹುಟ್ಟಿದ ಮತ್ತು ಶಾಂಘೈನಲ್ಲಿ ಏಪ್ರಿಲ್ ಓಟವನ್ನು ಮುಂದೂಡಲು ಕಾರಣವಾದ ಜಾಗತಿಕ ಏಕಾಏಕಿ ಆರಂಭಿಕ ಗ್ರಾಂಡ್ಸ್ ಪ್ರಿಕ್ಸ್ ಅನ್ನು ಪ್ರದರ್ಶಿಸುವ ಸೂಕ್ತತೆಯ ಬಗ್ಗೆ ulation ಹಾಪೋಹಗಳಿಗೆ ಪ್ರೇರೇಪಿಸಿದೆ, ಅದರಲ್ಲಿ ಮೊದಲನೆಯದು ಮಾರ್ಚ್ 15 ರಂದು ಮೆಲ್ಬೋರ್ನ್ನಲ್ಲಿ ನಡೆಯಲಿದೆ ಮೆಲ್ಬೋರ್ನ್ ಏಕೈಕ ನಗರ ಫಾರ್ಮುಲಾ ಒನ್ ರೇಸ್ ಮತ್ತು ಗ್ರ್ಯಾಂಡ್ ಸ್ಲ್ಯಾಮ್ ಟೆನಿಸ್ ಪಂದ್ಯಾವಳಿಯನ್ನು ಆಯೋಜಿಸುವ ಜಗತ್ತು ಮತ್ತು ಮಾರ್ಚ್ 15 ರಂದು ಆಲ್ಬರ್ಟ್ ಪಾರ್ಕ್\\u200cನಲ್ಲಿ 25 ವರ್ಷಗಳನ್ನು ಆಚರಿಸುವ ಗ್ರ್ಯಾಂಡ್ ಪ್ರಿಕ್ಸ್\\u200cಗಾಗಿ ನಾವು ಎದುರು ನೋಡುತ್ತಿದ್ದೇವೆ, ಮುಂದಿನ ವಾರಾಂತ್ಯದಲ್ಲಿ ಪಕುಲಾ ಎಫ್ 1 ಬಹ್ರೇನ್\\u200cಗೆ ತೆರಳಲಿದ್ದು, ಉದ್ಘಾಟನಾ ವಿಯೆಟ್ನಾಂ ಗ್ರ್ಯಾಂಡ್ ಪ್ರಿಕ್ಸ್ ಕ್ಯಾಲೆಂಡರ್\\u200cನಲ್ಲಿ ಮೂರನೇ ಸ್ಥಾನದಲ್ಲಿದೆ ವಿಯೆಟ್ನಾಂ ಗ್ರ್ಯಾಂಡ್ ಪ್ರಿಕ್ಸ್ ಏಪ್ರಿಲ್ 5 ರಂದು ಹನೋಯಿಯಲ್ಲಿ ನಡೆಯಲಿದೆ ಮತ್ತು ಇನ್ನೊಂದು ಪ್ರಶ್ನೆಯನ್ನು ನಿರೀಕ್ಷಿಸಲು ನಾವು ಮುಂದುವರಿಯಲು ಯೋಜಿಸುತ್ತೇವೆ ಈ ವಾರ ಕಾನ್ಫರೆನ್ಸ್ ಕರೆಯ ಸಂದರ್ಭದಲ್ಲಿ ಅವರು ಹೇಳಿದರು\",1\\n\"ಕಾದಂಬರಿ ಕರೋನವೈರಸ್ COVID 19 ಗಾಗಿ ಪ್ರಯಾಣಿಕರನ್ನು ಪರೀಕ್ಷಿಸುವ ವ್ಯವಸ್ಥೆಗಳನ್ನು ಪರಿಶೀಲಿಸಲು ಗುರುವಾರ ಗೋವಾದ ಪನಾಜಿ ಬಳಿಯ ದಬೋಲಿಮ್ ಅಂತರಾಷ್ಟ್ರೀಯ ವಿಮಾನ ನಿಲ್ದಾಣದಲ್ಲಿ ಉನ್ನತ ಮಟ್ಟದ ಸಭೆ ನಡೆಸಲಾಯಿತು. ಗೋವಾ ಆರೋಗ್ಯ ಸಚಿವ ವಿಶ್ವಜಿತ್ ರಾಣೆ ಅಧ್ಯಕ್ಷತೆ ವಹಿಸಿದ್ದ ಸಭೆಯಲ್ಲಿ ಕೇಂದ್ರ ಆರೋಗ್ಯ ಸಚಿವಾಲಯದ ಜಂಟಿ ಕಾರ್ಯದರ್ಶಿ ಅಲೋಕ್ ಭಾಗವಹಿಸಿದ್ದರು. ಸಕ್ಸೇನಾ ಜೊತೆಗೆ ಭಾರತದ ವಿಮಾನ ನಿಲ್ದಾಣ ಪ್ರಾಧಿಕಾರ ಮತ್ತು ರಾಜ್ಯ ಆರೋಗ್ಯ ಇಲಾಖೆಯ ಅಧಿಕಾರಿಗಳೊಂದಿಗೆ ನಾವು ಎಲ್ಲಾ ಪ್ರಯಾಣಿಕರನ್ನು ಪರೀಕ್ಷಿಸಲಾಗಿದೆಯೆ ಎಂದು ಖಚಿತಪಡಿಸಿಕೊಳ್ಳುತ್ತೇವೆ ಮತ್ತು ಶಂಕಿತ ಪ್ರಕರಣಗಳನ್ನು ಗುರುತಿಸಲಾಗಿದೆ ಎಂದು ಶ್ರೀ ರಾಣೆ ಸಭೆಯ ನಂತರ ಸುದ್ದಿಗಾರರಿಗೆ ತಿಳಿಸಿದರು. ವಿಮಾನ ನಿಲ್ದಾಣದಲ್ಲಿ ಅಗತ್ಯ ವ್ಯವಸ್ಥೆಗಳು ಜಾರಿಯಲ್ಲಿವೆ, ಇದರಿಂದಾಗಿ ರಾಜ್ಯದ ಜನರು COVID 19 ಬಗ್ಗೆ ಜಾಗೃತಿ ಮೂಡಿಸಲಾಗುತ್ತಿದೆ ಎಂದು ಅವರು ಹೇಳಿದರು. ಸುದ್ದಿಗಾರರೊಂದಿಗೆ ಮಾತನಾಡಿದ ಶ್ರೀ ಸಕ್ಸೇನಾ, ಎಲ್ಲಾ ರಾಜ್ಯಗಳ ಸರ್ಕಾರಗಳು ನೀಡಿದ ಸಹಕಾರವು ದೇಶದಲ್ಲಿ ಮಾರಕ ವೈರಸ್ ಹರಡುವುದನ್ನು ತಡೆಯಲು ಸಹಾಯ ಮಾಡಿದೆ ಎಂದು ಹೇಳಿದರು\",0\\n\"ಜಪಾನ್\\u200cನ ಪ್ರಧಾನ ಮಂತ್ರಿ ಶಿಂಜೊ ಅಬೆ ಮುಂದಿನ ಸೋಮವಾರದಿಂದ ಏಪ್ರಿಲ್\\u200cನಲ್ಲಿ ವಸಂತಕಾಲದ ವಿರಾಮದ ಅಂತ್ಯದವರೆಗೆ ಎಲ್ಲಾ ಸಾರ್ವಜನಿಕ ಶಾಲೆಗಳನ್ನು ಮುಚ್ಚಬೇಕೆಂದು ಕರೆ ನೀಡಿದ್ದಾರೆ, ಏಕೆಂದರೆ ಚೀನಾದ ಹೊರಗಿನ ವೈರಸ್\\u200cನ ಹೊಸ ಸೋಂಕುಗಳು ಚೀನಾದಲ್ಲಿರುವುದಕ್ಕಿಂತ ಹೆಚ್ಚಿನದಾಗಿದೆ. ಒಟ್ಟಾರೆಯಾಗಿ 50 ದೇಶಗಳು ಅಥವಾ ಪ್ರಾಂತ್ಯಗಳು ದಕ್ಷಿಣ ವೈರಸ್ ಪ್ರಕರಣಗಳನ್ನು ದೃ confirmed ಪಡಿಸಿವೆ ಕೊರಿಯಾ ಮತ್ತೆ ಸೋಂಕಿನಲ್ಲಿ ತನ್ನ ಅತಿದೊಡ್ಡ ಏಕದಿನ ಜಿಗಿತವನ್ನು ಕಂಡಿದೆ ಮತ್ತು ವೈರಸ್\\u200cನ ಭೀತಿಯಿಂದಾಗಿ ಸೌದಿ ಅರೇಬಿಯಾ ಧಾರ್ಮಿಕ ಯಾತ್ರಾ ಸ್ಥಳಗಳಿಗೆ ಪ್ರಯಾಣಿಸುವುದನ್ನು ನಿಲ್ಲಿಸಿದೆ. ಯುರೋಪಿನಲ್ಲಿ ಇಟಲಿಯ ಏಕಾಏಕಿ ಹದಗೆಟ್ಟಿದೆ ಮತ್ತು ರೊಮೇನಿಯಾ ಡೆನ್ಮಾರ್ಕ್ ಮತ್ತು ಎಸ್ಟೋನಿಯಾ ಪ್ರಕರಣಗಳನ್ನು ದೃ to ೀಕರಿಸುವ ಇತ್ತೀಚಿನ ದೇಶಗಳು ಸಾಂಕ್ರಾಮಿಕ ರೋಗವನ್ನು ನಿವಾರಿಸಲು ಹೋರಾಡುತ್ತಿದ್ದಾರೆ\",0\\nಈ ಪ್ರಬಲ ಹೂಡಿಕೆ ಅಂಕಿಅಂಶವು ನಿಮ್ಮ ಪೋರ್ಟ್ಫೋಲಿಯೊ ಬಗ್ಗೆ ಹೆಚ್ಚು ಉತ್ತಮ ಭಾವನೆ ಮೂಡಿಸುತ್ತದೆ. ಇದೀಗ ವಾಲ್ ಸ್ಟ್ರೀಟ್\\u200cನಲ್ಲಿ ಸಾಕಷ್ಟು ಭೀತಿ ಇದೆ ಆದರೆ ಸ್ಟಾಕ್ ಮಾರುಕಟ್ಟೆಯ ಚಂಚಲತೆ ಹೆಚ್ಚಾದಂತೆ ದೀರ್ಘಾವಧಿಯ ಹೂಡಿಕೆದಾರರಿಗೆ ನೆಮ್ಮದಿಯ ನಿಟ್ಟುಸಿರು ಬಿಡಲು ಅವಕಾಶ ನೀಡುವ ಒಂದು ನಿಜವಾಗಿಯೂ ಶಕ್ತಿಯುತ ಹೂಡಿಕೆ ಅಂಕಿಅಂಶವೂ ಇದೆ. ಅಲ್ಪಾವಧಿಯಲ್ಲಿ ಏರಿಕೆಯಾದ ನಂತರವೂ ಸ್ಟಾಕ್ ಮಾರುಕಟ್ಟೆಯನ್ನು ಸೋಲಿಸಿದ ನಂತರವೂ ಎಸ್\\u200cಪಿಡಿಆರ್ ಎಸ್\\u200cಪಿ 500 ಇಟಿಎಫ್ ಟ್ರಸ್ಟ್ ಅನ್ನು ಖರೀದಿಸಿದ ಹೆಚ್ಚಿನ ಹೂಡಿಕೆದಾರರು 6851 ವಹಿವಾಟಿನ ದಿನಗಳಲ್ಲಿ 6798 ವಹಿವಾಟಿನ ದಿನಗಳಲ್ಲಿ ಲಾಭಾಂಶವನ್ನು ಒಳಗೊಂಡಿರುತ್ತಾರೆ. ಮಾರುಕಟ್ಟೆ ತಿದ್ದುಪಡಿಗಳು ಯಾವಾಗಲೂ ಕೊಳ್ಳುವ ಅವಕಾಶವಾಗಿದೆ ಮತ್ತು ಎಸ್\\u200cಪಿಡಿಆರ್ ಎಸ್\\u200cಪಿ 500 ಇಟಿಎಫ್ ಟ್ರಸ್ಟ್\\u200cನ ಚೊಚ್ಚಲ ಪ್ರವೇಶಕ್ಕಿಂತಲೂ ನಾವು ಇನ್ನೂ ಹಿಂದಕ್ಕೆ ಹೋದರೆ ಅದು ನಿಜವಾಗಿದೆ. 1950 ರ ಆರಂಭದಿಂದ ಎಸ್\\u200cಪಿ 500 ರಲ್ಲಿ 37 ನಿಜವಾದ ಷೇರು ಮಾರುಕಟ್ಟೆ ತಿದ್ದುಪಡಿಗಳು ನಡೆದಿವೆ. ರೌಂಡಿಂಗ್ ಅಥವಾ ಪ್ರತಿ 1 89 ವರ್ಷಗಳಿಗೊಮ್ಮೆ ಒಳಗೊಂಡಿರದ ಇತ್ತೀಚಿನ ಗರಿಷ್ಠದಿಂದ ಕನಿಷ್ಠ 10 ನಿಮ್ಮ ಕೆಲಸದಲ್ಲಿ ಕೆಲವು ಹಣವನ್ನು ಇಡುವುದನ್ನು ಪರಿಗಣಿಸಲು ನಿಮಗೆ ಕೊನೆಯ ಪೆಪ್ ಟಾಕ್ ಅಗತ್ಯವಿದೆಯೇ? ಇ ಸ್ಟಾಕ್ ಮಾರುಕಟ್ಟೆ ಇದೀಗ ಪರಿಗಣಿಸಬೇಕಾದ ಇನ್ನೊಂದು ವಿಷಯವೆಂದರೆ ಈ ಶತಮಾನದ ಪ್ರತಿಯೊಂದು ತೀವ್ರವಾದ ಸಾಂಕ್ರಾಮಿಕ ಬೆದರಿಕೆಗಳಾದ ತೀವ್ರವಾದ ತೀವ್ರ ಉಸಿರಾಟದ ಸಿಂಡ್ರೋಮ್ ಎಸ್ಎಆರ್ಎಸ್ ಮಧ್ಯಪ್ರಾಚ್ಯ ಉಸಿರಾಟದ ಸಿಂಡ್ರೋಮ್ ಮರ್ಸ್ ಎಬೋಲಾ ಮತ್ತು ಏವಿಯನ್ ಫ್ಲೂ ತಾತ್ಕಾಲಿಕವಾಗಿ 6 \\u200b\\u200bಮತ್ತು 12 ರ ನಡುವೆ ಸ್ಟಾಕ್ ಮಾರುಕಟ್ಟೆಗಳ ಮೌಲ್ಯವನ್ನು ತುಲನಾತ್ಮಕವಾಗಿ ಅಳಿಸಿಹಾಕಿದೆ ಆಗಾಗ್ಗೆ ವಾರಗಳಿಂದ ಕೆಲವು ತಿಂಗಳುಗಳವರೆಗೆ,1\\n\"ಮೂಳೆಗಳಿಲ್ಲದ ಕೋಳಿ ಸ್ತನ ಮಾಂಸದ ಮಾರುಕಟ್ಟೆ ಬೆಲೆಗಳು ದಾಖಲೆಯ ಕನಿಷ್ಠ ಮಟ್ಟಕ್ಕೆ ಇಳಿದಿದ್ದರಿಂದ ಎಸ್\\u200cಎಫ್\\u200cಎಂ 3 34 ಗುರುವಾರ ಹಣಕಾಸಿನ ಮೊದಲ ತ್ರೈಮಾಸಿಕದ ನಷ್ಟವನ್ನು ವರದಿ ಮಾಡಿದೆ, ಆದರೆ ಆದಾಯವು ಮುನ್ಸೂಚನೆಗಿಂತ ಹೆಚ್ಚಾಗಿದೆ. ಕೋಳಿ ಮಾಂಸ ಉತ್ಪಾದಕರ ಸ್ಟಾಕ್ ಇನ್ನೂ ಮಾರುಕಟ್ಟೆ ವ್ಯಾಪಾರದಲ್ಲಿ ನಿಷ್ಕ್ರಿಯವಾಗಿದೆ ಒಟ್ಟಾರೆ ಮಾರುಕಟ್ಟೆ ಬೆಲೆಗಳು ಮೂಳೆಗಳಿಲ್ಲದ ಸ್ತನ ಮಾಂಸದ ಬೆಲೆಗಳು 3% ರಷ್ಟು ಕುಸಿದಿದ್ದರಿಂದ ಕೋಳಿ ಉತ್ಪನ್ನಗಳು ಕುಸಿಯಿತು ಮತ್ತು ಸಂಸ್ಕರಿಸಿದ ಕೋಳಿ ಉತ್ಪನ್ನಗಳ ಪ್ರತಿ ಪೌಂಡ್\\u200cಗೆ ಸರಾಸರಿ ಫೀಡ್ ವೆಚ್ಚ ಹೆಚ್ಚಾಗಿದೆ [3] ಚೀನಾದಲ್ಲಿ ಆಫ್ರಿಕನ್ ಹಂದಿ ಜ್ವರ ಹರಡುವುದರಿಂದ ಜಾಗತಿಕವಾಗಿ ಹಂದಿಮಾಂಸದ ಪೂರೈಕೆಯನ್ನು ಕಡಿಮೆಗೊಳಿಸಿದೆ ಎಂದು ಕೋಳಿ ಉತ್ಪನ್ನ ಹೇಳಿದೆ. ಯು ಎಸ್ ನಲ್ಲಿ ಮಾರುಕಟ್ಟೆ ಮತ್ತು 2019 ರ ಕೊನೆಯಲ್ಲಿ ಚೀನಾ ನಿಮ್ಮ ಎಸ್ ಚಿಕನ್ ಆಮದಿನ ಮೇಲಿನ ನಿಷೇಧವನ್ನು ತೆಗೆದುಹಾಕಿದಾಗಿನಿಂದ ಕಂಪನಿಯು ಸುಮಾರು 18 ಮಿಲಿಯನ್ ಪೌಂಡ್ ಕೋಳಿ ಉತ್ಪನ್ನಗಳಿಗೆ ಚೀನಾ ಗ್ರಾಹಕರಿಂದ ಆದೇಶಗಳನ್ನು ಸ್ವೀಕರಿಸಿದೆ, ಆದರೆ ಕಂಪನಿಯು ಕೋವಿಡ್ 19 ವೈರಸ್ ಈಗ ಅಡ್ಡಿಪಡಿಸುತ್ತಿದೆ ಎಂದು ಹೇಳಿದರು ಮಾರುಕಟ್ಟೆಗಳು ಬೇಡಿಕೆಯನ್ನು ಕುಗ್ಗಿಸುವ ಹಡಗು ಮತ್ತು ಪೂರೈಕೆ ಸರಪಳಿ ಲಾಜಿಸ್ಟಿಕ್ಸ್ ಮತ್ತು ಚೀನಾದ ಆರ್ಥಿಕ ಬೆಳವಣಿಗೆಯ ದರವನ್ನು ನಿಧಾನಗೊಳಿಸುತ್ತದೆ\",0\\n\"ಅನಾರೋಗ್ಯದ ಕಾರಣ ಪೋಪ್ ಫ್ರಾನ್ಸಿಸ್ ರೋಮ್ ಪಾದ್ರಿಗಳೊಂದಿಗೆ ಯೋಜಿತ ಮಾಸ್ ಅನ್ನು ತಪ್ಪಿಸಿಕೊಂಡಿದ್ದಾನೆ, ಫ್ರಾನ್ಸಿಸ್ ಸೇಂಟ್ ಜಾನ್ ಲ್ಯಾಟೆರನ್ ಬೆಸಿಲಿಕಾಕ್ಕೆ ರೋಮ್ ಪಾದ್ರಿಗಳನ್ನು ಭೇಟಿಯಾಗಲು ಮತ್ತು ಪ್ರಾಯಶ್ಚಿತ್ತ ಮಾಸ್ ಅನ್ನು ಆಚರಿಸಲು ನಿರ್ಧರಿಸಲಾಗಿತ್ತು. ಲೆಂಟ್ ಫ್ರಾನ್ಸಿಸ್ ರೋಮ್ನ ಬಿಷಪ್ ಆದರೆ ದಿನವನ್ನು ಪ್ರತಿನಿಧಿಸುತ್ತಾನೆ ಫ್ರಾನ್ಸಿಸ್ಗೆ ಆರ್ಚ್ಡಯಸೀಸ್ನ ದಿನದ ಓಟವು ಇತ್ತೀಚೆಗೆ ತನ್ನ ಸಾರ್ವಜನಿಕ ಸಾಮಾನ್ಯ ಪ್ರೇಕ್ಷಕರನ್ನು ಮತ್ತು ರೋಮನ್ ಬೆಸಿಲಿಕಾದಲ್ಲಿ ಆಶ್ ಬುಧವಾರದ ಸೇವೆಯನ್ನು ಒಳಗೊಂಡಂತೆ ಬಿಡುವಿಲ್ಲದ ವೇಳಾಪಟ್ಟಿಯನ್ನು ಹೊಂದಿದೆ. ಪ್ರೇಕ್ಷಕರ ಸಮಯದಲ್ಲಿ ಫ್ರಾನ್ಸಿಸ್ ನಂಬಿಗಸ್ತರೊಂದಿಗೆ ಕೈಕುಲುಕಲು ಒಂದು ವಿಷಯವನ್ನು ತಿಳಿಸಿದರು ಮುಂದಿನ ಸಾಲು ಸೇಂಟ್ ಪೀಟರ್ಸ್ ಸ್ಕ್ವೇರ್ ಮೂಲಕ ಪೋಪ್ಮೊಬೈಲ್ ಸವಾರಿಯಲ್ಲಿ ಮಗುವನ್ನು ಚುಂಬಿಸಿತು ಮತ್ತು ಕೊನೆಯಲ್ಲಿ ಭೇಟಿ ನೀಡುವ ಬಿಷಪ್ಗಳನ್ನು ಸ್ವಾಗತಿಸಿತು\",0\\n\"ಟೋಕಿಯೊ ಫೆಬ್ರವರಿ 27 ಜಿಜಿ ಪ್ರೆಸ್ ಜಪಾನ್\\u200cನ ಸ್ಥಳೀಯ ಸರ್ಕಾರಗಳು ಹೊಸ ಕರೋನವೈರಸ್ ಹರಡುವಿಕೆಗೆ ಅನುಗುಣವಾಗಿ ಅಂಗಡಿಗಳಲ್ಲಿ ಈ ವಸ್ತುಗಳು ಮಾರಾಟವಾಗುತ್ತಿರುವ ಸಮಯದಲ್ಲಿ ತಮ್ಮ ಮುಖದ ಮುಖವಾಡಗಳು ಮತ್ತು ಸೋಂಕುನಿವಾರಕಗಳನ್ನು ಅಂತರ್ಜಾಲದಲ್ಲಿ ತಯಾರಿಸುವ ಮಾರ್ಗಗಳನ್ನು ನಿವಾಸಿಗಳಿಗೆ ಪರಿಚಯಿಸುತ್ತಿವೆ. ವಿಶೇಷವಾಗಿ ಮುಖವಾಡದ ಕೊರತೆಯ ಬಗ್ಗೆ ನಿವಾಸಿಗಳಿಂದ ಬಂದ ದೂರುಗಳಿಂದ ಬಾಂಬ್ ದಾಳಿ ನಡೆಸಲಾಗಿದೆ. ಓಯಿಟಾ ನೈ w ತ್ಯ ಜಪಾನ್\\u200cನ ಪ್ರಿಫೆಕ್ಚರಲ್ ಸರ್ಕಾರದ ಆರೋಗ್ಯ ಪ್ರಚಾರ ಬೆಂಬಲ ವಿಭಾಗವು ಫೆಬ್ರವರಿ ಆರಂಭದಲ್ಲಿ ತನ್ನ ವೆಬ್\\u200cಸೈಟ್\\u200cನಲ್ಲಿ ಪೋಸ್ಟ್ ಮಾಡುವ ವಿಧಾನಗಳನ್ನು ಪ್ರಕಟಿಸಿದೆ. 2009 ರಲ್ಲಿ ಹೊಸ ರೀತಿಯ ಇನ್ಫ್ಲುಯೆನ್ಸ ಏಕಾಏಕಿ ಸಂಭವಿಸಿದಾಗ ಓಯಿಟಾ ಸರ್ಕಾರವು ಇದೇ ರೀತಿಯ ಸೂಚನೆಗಳನ್ನು ನೀಡಿತು, ಇದು ಮುಖವಾಡದ ಕೊರತೆಗೆ ಕಾರಣವಾಯಿತು. ಹೊಸ ಜ್ವರದಿಂದ ನಮ್ಮ ಅನುಭವವನ್ನು ನಾವು ಚೆನ್ನಾಗಿ ಬಳಸಿಕೊಂಡಿದ್ದೇವೆ ಎಂದು ವಿಭಾಗದ ಅಧಿಕಾರಿಯೊಬ್ಬರು ತಿಳಿಸಿದ್ದಾರೆ\",1\\n\"ಮ್ಯಾರಿಯೊಟ್ ಇಂಟರ್ನ್ಯಾಷನಲ್ ನಾಸ್ಡಾಕ್ ಎಂಎಆರ್ ಕರೋನವೈರಸ್ ಏಕಾಏಕಿ ಮಾಸಿಕ ಶುಲ್ಕ ಆದಾಯಕ್ಕೆ 25 ಎಂ ಹಿಟ್ ನಿರೀಕ್ಷೆಯಿದೆ ಎಂದು ಎಚ್ಚರಿಸಿದ ನಂತರ ಮ್ಯಾರಿಯಟ್ ತನ್ನ ಪೂರ್ಣ ವರ್ಷದ ಲಾಭದ ಮಾರ್ಗದರ್ಶನದಲ್ಲಿ ಕರೋನವೈರಸ್ ಪ್ರಭಾವವನ್ನು ಸೇರಿಸಲಿಲ್ಲ, ಅದು 6 30 ರಿಂದ 6 53 ಮತ್ತು 6 47 ಒಮ್ಮತದಲ್ಲಿ ಬಂದಿತು. 3 70 ಬಿ ಯಿಂದ 3 80 ಬಿ ಯ ಹೊಂದಾಣಿಕೆಯ ಇಬಿಐಟಿಡಿಎ ವಿರುದ್ಧ 3 80 ಬಿ ಒಮ್ಮತವನ್ನು ನಿರೀಕ್ಷಿಸಲಾಗಿದೆ\",0\\nಪ್ರತಿಸ್ಪರ್ಧಿ ಸರಬರಾಜುದಾರ ಅರ್ಜೆಂಟೀನಾ ಕೃಷಿ ರಫ್ತುಗಳ ನೋಂದಣಿಯನ್ನು ಸ್ಥಗಿತಗೊಳಿಸಿದೆ ಎಂಬ ಸುದ್ದಿಯಿಂದ ಬೆಂಬಲಿತವಾದ ಒಂದು ದಿನದ ಮುಂಚೆಯೇ ನೀವು ಎಸ್ ಸೋಯಾಬೀನ್ ಸರಾಗಗೊಳಿಸಿದ್ದೀರಿ. ಚೀನಾದಲ್ಲಿನ ಕಾಯಿಲೆಯಿಂದ ಉಂಟಾಗುವ ಆರ್ಥಿಕ ಅಡೆತಡೆಗಳು ಚೀನಾದ ಆಮದುಗಳ ವೇಗವನ್ನು ಹೆಚ್ಚಿಸುವ ಭರವಸೆಯನ್ನು ತಣ್ಣಗಾಗಿಸಿದೆ. ಬೀಜಿಂಗ್ ಮತ್ತು ವಾಷಿಂಗ್ಟನ್ ನಿಮ್ಮ ಚುರುಕಾದ ರಫ್ತಿನಿಂದ ಗಮನ ಸೆಳೆಯುವಾಗ ಎಸ್ ಕಾರ್ನ್ ಧಾನ್ಯ ಮಾರುಕಟ್ಟೆಗಳು ಸಾಪ್ತಾಹಿಕ ಯು ನಿಂದ ರಫ್ತು ಬೇಡಿಕೆಯ ಸೂಚನೆಯನ್ನು ಪಡೆಯುತ್ತವೆ. 1330 ಜಿಎಂಟಿ ಚಿಕಾಗೊ ಸೋಯಾಬೀನ್ ಬೆಲೆಗಳನ್ನು ಬುಧವಾರದಂದು ನಿಮ್ಮ ಕೃಷಿ ಇಲಾಖೆಯಿಂದ ಎಸ್ ರಫ್ತು ಮಾರಾಟ ಅಂಕಿಅಂಶಗಳನ್ನು ತೆಗೆದುಹಾಕಲಾಗಿದೆ ಅರ್ಜೆಂಟೀನಾ ಕೃಷಿ ಸಚಿವಾಲಯವು ಕೃಷಿ ರಫ್ತು ನೋಂದಣಿಯನ್ನು ಸ್ಥಗಿತಗೊಳಿಸಿದೆ ಎಂಬ ಸುದ್ದಿಯು ಸಾಲದ ಪೀಡಿತ ದೇಶದಲ್ಲಿ ಧಾನ್ಯ ರಫ್ತು ಸುಂಕದ ಏರಿಕೆಯನ್ನು ಸೂಚಿಸುತ್ತದೆ. ಗೋಧಿ ಮಾರುಕಟ್ಟೆಗಳು ಕಪ್ಪು ಸಮುದ್ರದ ಪ್ರದೇಶದಲ್ಲಿ ಅಂತರರಾಷ್ಟ್ರೀಯ ಬೇಡಿಕೆ ಕುಸಿಯುತ್ತಿರುವ ಬೆಲೆಗಳು ಮತ್ತು ವ್ಯತಿರಿಕ್ತ ಸುಗ್ಗಿಯ ನಿರೀಕ್ಷೆಗಳನ್ನು ಉತ್ತರ ಗೋಳಾರ್ಧದಲ್ಲಿ,0\\n\"ಬೆರ್ಲಿನ್ ಫೆಬ್ರವರಿ 27 ರಾಯಿಟರ್ಸ್ ಕರೋನವೈರಸ್ ಏಕಾಏಕಿ ತಯಾರಕರ ಮೇಲೆ ಪರಿಣಾಮ ಬೀರುತ್ತಿರುವುದರಿಂದ ಜರ್ಮನಿಯ ಹೊಸ ಕಾರು ನೋಂದಣಿ 2020 ರಲ್ಲಿ 6 ಕ್ಕೆ ಇಳಿಯುವ ನಿರೀಕ್ಷೆಯಿದೆ ಮತ್ತು ಅವರ ಪೂರೈಕೆದಾರರ ಆಟೋಮೋಟಿವ್ ಇಂಡಸ್ಟ್ರಿ ಅಸೋಸಿಯೇಷನ್ \\u200b\\u200bವಿಡಿಎ ಗುರುವಾರ ವಿಡಿಎ ಗುರುವಾರ ಚೀನಾದ ವಾಹನ ಮಾರುಕಟ್ಟೆಯ ಮೇಲೆ ಹೆಚ್ಚಿನ ಪರಿಣಾಮ ಬೀರುತ್ತದೆ ಎಂದು ಹೇಳಿದೆ. 2 ವಿಡಿಎ ಅಧ್ಯಕ್ಷ ಹಿಲ್ಡೆಗಾರ್ಡ್ ಮುಲ್ಲರ್ ಅವರ ಹಿಂದೆ ನಿರೀಕ್ಷಿತ ಕುಸಿತಕ್ಕೆ ಹೋಲಿಸಿದರೆ, ಕರೋನವೈರಸ್ನ ಪರಿಣಾಮಗಳು ಇನ್ನೂ ಸ್ಪಷ್ಟವಾಗಿಲ್ಲ ಆದರೆ ಶೀಘ್ರ ಸುಧಾರಣೆಯನ್ನು ನಿರೀಕ್ಷಿಸಬೇಕಾಗಿಲ್ಲ ಎಂದು ವಿಡಿಎ ಹೇಳಿದೆ, ಇದು ಬಿಕ್ಕಟ್ಟಿನ ಕಾರ್ಯಪಡೆ ಸ್ಥಾಪಿಸಿದೆ ಮತ್ತು ಇದು ಕರೋನವೈರಸ್ ಪರಿಸ್ಥಿತಿಯನ್ನು ವಿಶ್ಲೇಷಿಸುತ್ತದೆ ಮತ್ತು ಸಂಭಾವ್ಯ ಪ್ರತಿಕ್ರಿಯೆಗಳನ್ನು ಚರ್ಚಿಸಿ ಮುಲ್ಲರ್ ಅವರು ಮುಂದಿನ ವಾರದ ಜಿನೀವಾ ಆಟೋ ಪ್ರದರ್ಶನಕ್ಕೆ ಸೋಮವಾರ ಪ್ರಯಾಣಿಸಲು ಯೋಜಿಸಿದ್ದಾರೆ ಎಂದು ಹೇಳಿದರು, ಸಾರ್ವಜನಿಕ ಜೀವನವು ಮುಂದುವರಿಯಬೇಕು ಎಂದು ಹೇಳಿದರು\",1\\n\"ಫ್ರಾಂಕ್\\u200cಫರ್ಟ್ ಫೆಬ್ರವರಿ 27 ರಾಯಿಟರ್ಸ್ ಕಾರ್ ತಯಾರಕರು ಮುಂದಿನ ವಾರ ಜಿನೀವಾ ಕಾರು ಪ್ರದರ್ಶನಕ್ಕೆ ಹಾಜರಾಗುವ ಸಿಬ್ಬಂದಿಯನ್ನು ಕಡಿಮೆಗೊಳಿಸುತ್ತಿದ್ದಾರೆ, ಏಕೆಂದರೆ ಜಿನೀವಾ ಟೊಯೋಟಾದಲ್ಲಿ ಒಂದು ಸೇರಿದಂತೆ ಮೂರು ಹೊಸ ಕರೋನವೈರಸ್ ಪ್ರಕರಣಗಳನ್ನು ಸ್ವಿಟ್ಜರ್ಲೆಂಡ್ ದೃ confirmed ಪಡಿಸಿದೆ ಎಂದು ಗುರುವಾರ ಹೇಳಿದೆ. ಜಿನೀವಾ ವಾಚ್ ಮೇಳವನ್ನು ರದ್ದುಪಡಿಸಿದಂತೆಯೇ ಕಾರ್ ಪ್ರದರ್ಶನವು ಮುಂದುವರಿಯುತ್ತದೆ ಮತ್ತು ಸ್ವಿಸ್ ಅಧಿಕಾರಿಗಳು ವರದಿ ಮಾಡಿದಂತೆ ಜಿನೀವಾ ಪ್ರಯಾಣದ ನಿರ್ಬಂಧಗಳಿಗೆ ವೈರಸ್ ಹರಡಿತು ಮತ್ತು ವೈರಸ್ ಹರಡುವ ಭೀತಿ ಈಗಾಗಲೇ ಮೊಬೈಲ್ ಸೇರಿದಂತೆ ಇತರ ವ್ಯಾಪಾರ ಮೇಳಗಳನ್ನು ಮುಂದೂಡಲು ಅಥವಾ ರದ್ದುಗೊಳಿಸಲು ಕಾರಣವಾಗಿದೆ ಬಾರ್ಸಿಲೋನಾದ ಫ್ರಾಂಕ್\\u200cಫರ್ಟ್\\u200cನ ಲೈಟ್ ಬಿಲ್ಡಿಂಗ್ ಫೇರ್ ಮತ್ತು ಬೀಜಿಂಗ್ ಆಟೋ ಶೋನಲ್ಲಿ ನಡೆದ ವಿಶ್ವ ಕಾಂಗ್ರೆಸ್ ಬುಧವಾರ ಫೆರಾರಿಯ ಮುಖ್ಯ ಕಾರ್ಯನಿರ್ವಾಹಕರು ಮತ್ತು ಬ್ರೇಕ್ ತಯಾರಕ ಬ್ರೆಂಬೊ ಅವರು ಇಟಾಲಿಯನ್ ಅಧಿಕಾರಿಗಳು ವಿಧಿಸಿದ ಪ್ರಯಾಣ ನಿರ್ಬಂಧದಿಂದಾಗಿ ಸ್ವಿಸ್ ಕಾರ್ ಪ್ರದರ್ಶನದಲ್ಲಿ ಹಾಜರಾತಿಯನ್ನು ರದ್ದುಗೊಳಿಸಿದ್ದಾರೆ ಎಂದು ತಿಳಿದುಬಂದಿದೆ.\",0\\nಮಾನವನ ಕರೋನವೈರಸ್\\u200cನ ಕೆಲವು ಪ್ರಕಾರಗಳನ್ನು ಒಳಗೊಂಡಂತೆ ಬ್ಯಾಕ್ಟೀರಿಯಾ ಮತ್ತು ಶೀತ ಮತ್ತು ಜ್ವರ ವೈರಸ್\\u200cಗಳನ್ನು ಕೊಲ್ಲಲು ರೂಪಿಸಲಾದ ಹೊಸ ಸಾಲಿನ ಮನೆ ಶುದ್ಧೀಕರಣ ಉತ್ಪನ್ನಗಳನ್ನು ಪ್ರಾಕ್ಟರ್ ಗ್ಯಾಂಬಲ್ ಕೋ ಪ್ರಾರಂಭಿಸಿದೆ. ಮೈಕ್ರೋಬನ್ 24 ಉತ್ಪನ್ನಗಳು ಶೀತ ಮತ್ತು ಜ್ವರ ವೈರಸ್ ಸೇರಿದಂತೆ 99 9 ರೋಗಾಣುಗಳನ್ನು ಕಠಿಣ ಮತ್ತು ಮೃದುವಾದ ಸಂಪರ್ಕದಲ್ಲಿ ಕೊಲ್ಲುತ್ತವೆ ಪಿಜಿ ಪ್ರಕಾರ ಮೇಲ್ಮೈಗಳು ಕರೋನವೈರಸ್ಗಳ ನಿರ್ದಿಷ್ಟ ತಳಿಗಳು ಏಕೆಂದರೆ ವಿವಿಧ ರೀತಿಯ ಕಾಯಿಲೆಗಳು ಪಿಜಿ ಎನ್ವೈಎಸ್ಇ ಪಿಜಿ ವಕ್ತಾರರು ಉತ್ಪನ್ನಗಳು ಮಾರಣಾಂತಿಕ ವಿರುದ್ಧ ಪರಿಣಾಮಕಾರಿಯಾಗುತ್ತದೆಯೇ ಎಂಬುದು ಸ್ಪಷ್ಟವಾಗಿಲ್ಲ,0\\n\"ಸೌದಿ ಅರೇಬಿಯಾ ಇಸ್ಲಾಂನ ಪವಿತ್ರ ತಾಣಗಳಿಗೆ ಪ್ರಯಾಣವನ್ನು ಕಡಿತಗೊಳಿಸಿತು ದಕ್ಷಿಣ ಕೊರಿಯಾವು ಲ್ಯಾಟಿನ್ ಅಮೆರಿಕಾದಾದ್ಯಂತದ ಸಂಪರ್ಕತಡೆಯನ್ನು ಮತ್ತು ವಿಮಾನ ನಿಲ್ದಾಣಗಳನ್ನು ಮುರಿಯುವವರಿಗೆ ದಂಡವನ್ನು ಕಠಿಣಗೊಳಿಸಿದೆ ಗುರುವಾರ ಅನಾರೋಗ್ಯದ ಪ್ರಯಾಣಿಕರ ಚಿಹ್ನೆಗಳನ್ನು ಹುಡುಕಿತು, ಏಕೆಂದರೆ ಹೊಸ ವೈರಸ್ ಜಗತ್ತಿನ ಅಣಬೆ ಪ್ರದೇಶವನ್ನು ತೊಂದರೆಗೊಳಿಸಿತು. ಸೋಂಕುಗಳು ಮತ್ತು ಮೊದಲ ಪ್ರಕರಣ ದಕ್ಷಿಣ ಅಮೆರಿಕಾದಲ್ಲಿ ಕಂಡುಬಂದಿದೆ ವಾಯು ಮಾರ್ಗಗಳನ್ನು ಸ್ಥಗಿತಗೊಳಿಸಲಾಯಿತು ಮತ್ತು ಗಡಿ ನಿಯಂತ್ರಣವನ್ನು ಕಠಿಣಗೊಳಿಸಲಾಯಿತು ದಕ್ಷಿಣ ಕೊರಿಯಾದಲ್ಲಿ ಚೀನಾದ ಹೊರಗಿನ ಅತ್ಯಂತ ಕಠಿಣವಾದ ದೇಶ ವರ್ಣರಂಜಿತ ರೇಷ್ಮೆಗಳಿಗೆ ಹೆಸರುವಾಸಿಯಾದ ನಾಲ್ಕು ಬುಸಾನ್ ಮಾರುಕಟ್ಟೆಗಳು ಮತ್ತು ಇತರ ಸರಕುಗಳ ತಲೆತಿರುಗುವಿಕೆಯನ್ನು ಮುಚ್ಚಲಾಯಿತು ಮತ್ತು ದೇಶದ ಮಿಲಿಟರಿ ನೂರಾರು ಕಳುಹಿಸಿತು ಚಿಕಿತ್ಸೆಯಲ್ಲಿ ಸಹಾಯ ಮಾಡಲು ಅದರ ವೈದ್ಯರು ಮತ್ತು ಸೈನಿಕರು 2 33COVID 19 ಏಕಾಏಕಿ ಇಟಲಿಯಲ್ಲಿ ಇನ್ನೂ ಏರುತ್ತಿರುವ ಪ್ರಕರಣಗಳು ದಕ್ಷಿಣ ಕೊರಿಯಾ COVID 19 ಏಕಾಏಕಿ ಇಟಲಿಯಲ್ಲಿ ಇನ್ನೂ ಹೆಚ್ಚುತ್ತಿರುವ ಪ್ರಕರಣಗಳು ದಕ್ಷಿಣ ಕೊರಿಯಾ ರೋಗವು 19 ನೇ ಶತಮಾನದಲ್ಲಿ ಕಾಲರಾ ಏಕಾಏಕಿ ಹಜ್ ಸುತ್ತಮುತ್ತಲಿನ ನಿರಂತರ ಕಾಳಜಿಯಾಗಿದೆ. ಟ್ರಿಪ್ ಮಾಡುವುದು 0 52 ದಕ್ಷಿಣ ಕೊರಿಯಾದಲ್ಲಿ ಮುಖವಾಡಗಳಿಗಾಗಿ ಡ್ರೋನ್ ವೀಡಿಯೊ ದೀರ್ಘ ರೇಖೆಗಳನ್ನು ತೋರಿಸುತ್ತದೆ ಡ್ರೋನ್ ವೀಡಿಯೊ ತೋರಿಸುತ್ತದೆ ದಕ್ಷಿಣ ಕೊರಿಯಾದಲ್ಲಿ ಮುಖವಾಡಗಳಿಗಾಗಿ ಎನ್\\u200cಜಿ ರೇಖೆಗಳು ಚೀನಾದಲ್ಲಿ ಗುರುವಾರ 433 ಹೊಸ ಪ್ರಕರಣಗಳು ಮತ್ತು ದಕ್ಷಿಣ ಕೊರಿಯಾದಲ್ಲಿ 505 ಹೊಸ ಪ್ರಕರಣಗಳು ವರದಿಯಾಗಿವೆ. ವೈರಸ್\\u200cನಿಂದ ಬಳಲುತ್ತಿರುವವರ ಜಾಗತಿಕ ಎಣಿಕೆ 82000 ರಷ್ಟಿದೆ.\",1\\n\"ಒಟಾವಾ ಆರೋಗ್ಯ ಸಚಿವ ಪ್ಯಾಟಿ ಹಜ್ದು ಅವರು ಕೆನಡಿಯನ್ನರನ್ನು ತಮ್ಮ ಮನೆಗಳಲ್ಲಿ ಆಹಾರ ಮತ್ತು ation ಷಧಿಗಳನ್ನು ಸಂಗ್ರಹಿಸಲು ಪ್ರೋತ್ಸಾಹಿಸುತ್ತಿದ್ದಾರೆ, ಅವರು ಅಥವಾ ಪ್ರೀತಿಪಾತ್ರರು ಬೀಳಬೇಕಾದರೆ ಕೆನಡಾದಲ್ಲಿ ಈ ಕಾಯಿಲೆಗೆ ತುತ್ತಾಗುವ ಅಪಾಯ ಕಡಿಮೆ ಇದ್ದರೂ ನಾನು ಕಾದಂಬರಿ ಕರೋನವೈರಸ್ನೊಂದಿಗೆ ಹೋಗುತ್ತೇನೆ ಕೆನಡಾದ ಉಪ ಮುಖ್ಯ ಸಾರ್ವಜನಿಕ ಆರೋಗ್ಯ ಅಧಿಕಾರಿ ಡಾ. ಕೆನಡಾವನ್ನು ಹೊಡೆದರೆ ವೈರಸ್ ಹರಡುವುದನ್ನು ತಡೆಯಲು ಆರೋಗ್ಯ ವ್ಯವಸ್ಥೆಗಿಂತ ಹೆಚ್ಚಿನ ಸಮಯ ತೆಗೆದುಕೊಳ್ಳುತ್ತದೆ ಎಂದು ಹೊವಾರ್ಡ್ ನ್ಜೂ ಗುರುವಾರ ಹೌಸ್ ಆಫ್ ಕಾಮನ್ಸ್ ಆರೋಗ್ಯ ಸಮಿತಿಗೆ ತಿಳಿಸಿದರು. ವಿಶ್ವದಾದ್ಯಂತ ಸುಮಾರು 81000 ಜನರು ಈಗ ವಿಶ್ವ ಆರೋಗ್ಯ ಸಂಸ್ಥೆಯ ವರದಿಯೊಂದಿಗೆ COVID 19 ರೊಂದಿಗೆ ನಾನು ಆಗುತ್ತೇನೆ ಚೀನಾದ ಹೊರಗಿನ 37 ದೇಶಗಳಲ್ಲಿ ಪ್ರಕರಣಗಳು ಕಳೆದ ವಾರದಲ್ಲಿ ಇಟಲಿ ಇರಾನ್ ದಕ್ಷಿಣ ಕೊರಿಯಾ ಮತ್ತು ಜಪಾನ್\\u200cನಲ್ಲಿ ಹೊಸ ಪ್ರಕರಣಗಳು ಕಾಣಿಸಿಕೊಂಡಿವೆ ಮತ್ತು ಸೋಂಕಿನ ಚಿಹ್ನೆಗಳಿಗಾಗಿ ಜನರನ್ನು ಮೇಲ್ವಿಚಾರಣೆ ಮಾಡುವ ಸಾಮರ್ಥ್ಯವಿಲ್ಲದ ಇತರ ದೇಶಗಳಲ್ಲಿ ವೈರಸ್ ಪತ್ತೆಯಾಗುವುದಿಲ್ಲ ಎಂದು ಅಧಿಕಾರಿಗಳು ಆತಂಕ ವ್ಯಕ್ತಪಡಿಸಿದ್ದಾರೆ. ಕೆನಡಿಯನ್ನರು ದೇಶವನ್ನು ತೊರೆದಾಗ ಗ್ಲೋಬಲ್ ಅಫೇರ್ಸ್ ಕೆನಡಾದಲ್ಲಿ ನೋಂದಾಯಿಸಿಕೊಳ್ಳುವುದು ಬಹಳ ಮುಖ್ಯ, ಇದರಿಂದ ಅಧಿಕಾರಿಗಳು ಅವರನ್ನು ಸಂಪರ್ಕಿಸಬಹುದು ಅವರು ದೂರದಲ್ಲಿರುವಾಗ ತುರ್ತು ಪರಿಸ್ಥಿತಿ ಉಂಟಾದರೆ ಸುಲಭವಾಗಿ\",0\\nಪ್ರಜಾಪ್ರಭುತ್ವದ ಪ್ರತಿಸ್ಪರ್ಧಿಗಳಿಗೆ ಸಿಕ್ಕಿತು ಸೆನ್ ಬರ್ನಿ ಸ್ಯಾಂಡರ್ಸ್ ಹಗರಣದ ಪ್ರಯತ್ನದ ನಂತರ ಸೈಬರ್ ಸುರಕ್ಷತೆಯ ಬಗ್ಗೆ ಅಭಿಯಾನಗಳನ್ನು ಎಚ್ಚರಿಸಿದ್ದಾರೆ ಅಮೆರಿಕನ್ ಹೆಲ್ತ್ ಕೇರ್ ಅಸೋಸಿಯೇಷನ್ \\u200b\\u200bಪ್ರಸ್ತುತಪಡಿಸಿದ ಆರೋಗ್ಯ ರಕ್ಷಣೆ ಟ್ರಂಪ್ ಪೆರೋಸ್ ಅನ್ನು ಕರೋನವೈರಸ್ ಪ್ರತಿಕ್ರಿಯೆಯನ್ನು ಮುನ್ನಡೆಸಲು ಟ್ರಂಪ್ ಪೆನೊಸಿ ಪ್ಯಾನಿಕ್ ರಚಿಸಲು ಪ್ರಯತ್ನಿಸುತ್ತಿದ್ದಾರೆ ಎಂದು ಆರೋಪಿಸಿದರು ಸಿಡಿಸಿ ಅಪರಿಚಿತ ಮೂಲದ ಪ್ರಕರಣವನ್ನು ದೃ ms ಪಡಿಸುತ್ತದೆ. ತುರ್ತು ನಿಧಿಗಳು ಎಸ್\\u200cಸಿ ಯಲ್ಲಿ ಬಿಡೆನ್ ಮುನ್ನಡೆ ಸಾಧಿಸುತ್ತಿದೆ. ಡೆಮಾಕ್ರಟಿಕ್ ಅಧ್ಯಕ್ಷೀಯ ನಾಮನಿರ್ದೇಶನಕ್ಕೆ ಮುಂಚೂಣಿಯಲ್ಲಿರುವ ವರ್ಮೊಂಟ್ ಸಮಾಜವಾದಿ ಖಾಸಗಿ ಆರೋಗ್ಯ ವಿಮೆಯನ್ನು ತೆಗೆದುಹಾಕುವುದರಿಂದ ಹಿಡಿದು ಫೆಡರಲ್ ಖರ್ಚಿನ ಬೃಹತ್ ವಿಸ್ತರಣೆ ಮತ್ತು ಗನ್ ಲಾಬಿಗೆ ಹಿಂದಿನ ಬೆಂಬಲವನ್ನು ಮಾರ್ಪಡಿಸಿದ ಹೊಗಳಿಕೆಗೆ ಸಂಬಂಧಿಸಿದ ಅವರ ಆಮೂಲಾಗ್ರ ಕಲ್ಪನೆಗಳ ಮೇಲೆ ಸುಟ್ಟುಹಾಕಲಾಯಿತು. ಕ್ಯೂಬಾದಂತಹ ಸರ್ವಾಧಿಕಾರಿ ಎಡಪಂಥೀಯ ಸರ್ಕಾರಗಳಿಗೆ ಮತ್ತು ಬರಾಕ್ ಒಬಾಮ ಬರಾಕ್ ಹುಸೇನ್ ಒಬಾಮಾಗೆ ಅವರ ತಂಪಾಗಿರುವುದು ಬೆಟ್ಟದ ಪ್ರಚಾರ ವರದಿ ದಕ್ಷಿಣ ಕೆರೊಲಿನಾದಲ್ಲಿ ಕೈಗವಸುಗಳು 6 ವಿಧಾನಗಳು ಪ್ರಾಥಮಿಕ ಹೋರಾಟವು ಪ್ರಜಾಪ್ರಭುತ್ವವಾದಿಗಳನ್ನು ಕಠಿಣಗೊಳಿಸುತ್ತಿದೆ ಸಾರ್ವತ್ರಿಕ ಚುನಾವಣೆಗೆ ಬ್ಲೂಮ್\\u200cಬರ್ಗ್ ಸಾಮಾಜಿಕ ಭದ್ರತೆ ಮತ್ತು ಪೊಂಜಿ ಯೋಜನೆ ಎಂದು ಮೇಯರ್ ಎಂದು ಕರೆಯುತ್ತಾರೆ ಹೆಚ್ಚು ಹೇಳುವ ಅಂಶವಾಗಿರಬಹುದು ಮಾಜಿ ಸೌತ್ ಬೆಂಡ್ ಇಂಡಿಯನ್ ಮೇಯರ್ ಪೀಟ್ ಬುಟ್ಟಿಗೀಗ್ ಪೀಟರ್ ಪೀಟ್ ಪಾಲ್ ಬುಟ್ಟಿಗೀಗ್ಬಿಡೆನ್ ಅವರು ಎಸ್\\u200cಸಿ ವಲ್ನರಬಲ್ ಡೆಮೋಕ್ರಾಟ್\\u200cಗಳಲ್ಲಿ ಮುನ್ನಡೆ ಸಾಧಿಸಲು ಮುಂದಾಗಿದ್ದಾರೆ. ಸ್ಯಾಂಡರ್ಸ್\\u200cಗಾಗಿ ಟಿಕೆಟ್\\u200cನ ಮೇಲಿರುವ ಹಿಲ್ಸ್ ಕ್ಯಾಂಪೇನ್ ರಿಪೋರ್ಟ್ ಗ್ಲೋವ್ಸ್ ಆಫ್ ದಕ್ಷಿಣ ಕೆರೊಲಿನಾದಲ್ಲಿ ರಷ್ಯಾದ ಚುನಾವಣಾ ಮಧ್ಯಸ್ಥಿಕೆ ಪಕ್ಷದ ಬಗ್ಗೆ ಹೆಚ್ಚು ಅಲ್ಲ ಎಂದು ಗಮನಿಸಿದರು ಕಳೆದ ನಾಲ್ಕು ವರ್ಷಗಳು ಅಸ್ತವ್ಯಸ್ತವಾಗಿರುವ ವಿಭಜಕ ವಿಷಕಾರಿ ಬಳಲಿಕೆಯಾಗಿದೆ ಎಂದು ನೀವು ಭಾವಿಸಿದರೆ 2020 ರ ಉತ್ತಮ ಭಾಗವನ್ನು ಬರ್ನಿ ಸ್ಯಾಂಡರ್ಸ್ ವಿರುದ್ಧ ಡೊನಾಲ್ಡ್ ಟ್ರಂಪ್ ಡೊನಾಲ್ಡ್ ಟ್ರಂಪ್ ಡೊನಾಲ್ಡ್ ಜಾನ್ ಟ್ರಂಪ್ ಟ್ರಂಪ್ ಅವರು ಪೆನ್ಸ್ ಅಪಾಯಕಾರಿ ಬಕ್ ಹಾದುಹೋಗುತ್ತಾರೆ ಅಮೆರಿಕನ್ ಹೆಲ್ತ್ ಕೇರ್ ಅಸೋಸಿಯೇಷನ್ \\u200b\\u200bಪ್ರಸ್ತುತಪಡಿಸಿದ ರಾತ್ರಿಯ ಆರೋಗ್ಯ ಕೊರೋನವೈರಸ್ ಪ್ರತಿಕ್ರಿಯೆಯನ್ನು ಮುನ್ನಡೆಸಲು ಟ್ರಂಪ್ ಪೆನ್ಸ್ ಅನ್ನು ಟ್ಯಾಪ್ ಮಾಡಿದ್ದಾರೆ ಟ್ರಂಪ್ ಪೆಲೋಸಿ ಪ್ಯಾನಿಕ್ ಸಿಡಿಸಿ ರಚಿಸಲು ಪ್ರಯತ್ನಿಸುತ್ತಿದ್ದಾರೆ ಎಂದು ಅಪರಿಚಿತ ಮೂಲದ ಪ್ರಕರಣವನ್ನು ದೃ ms ಪಡಿಸುತ್ತದೆ ಶುಮರ್ 5 ಬಿಲಿಯನ್ ತುರ್ತು ನಿಧಿಯನ್ನು ಬಯಸಿದ್ದಾರೆ ಎಂದು ಟ್ರಂಪ್ ಕರೋನವೈರಸ್ ಬ್ರೀಫಿಂಗ್ ಸಮಯದಲ್ಲಿ ಜರ್ಮಾಫೋಬ್ ಎಂದು ಖ್ಯಾತಿ ಪಡೆದಿದ್ದಾರೆ. ಸೀನುವ ನಂತರ ನಾನು ಸಾಧ್ಯವಾದಷ್ಟು ಜಾಮೀನು ನೀಡಲು ಪ್ರಯತ್ನಿಸುತ್ತೇನೆ ಸ್ಯಾಂಡರ್ಸ್\\u200cನ ಕೊರತೆಗಳಿಗೆ ಸ್ಥಿರವಾಗಿ ಮರಳಿದ ಬುಟ್ಟಿಗೀಗ್ ಇಬ್ಬರು ಪ್ರಬಲ ವಕೀಲರು ಸಾಮಾನ್ಯ ಚುನಾವಣಾ ಅಭ್ಯರ್ಥಿ ಮತ್ತು ವಿಶೇಷವಾಗಿ ಮಾಜಿ ಉಪಾಧ್ಯಕ್ಷ ಜೋ ಬಿಡೆನ್ ಜೋ ಬಿಡೆನ್\\u200cಬಿಡೆನ್ ಎಸ್\\u200cಸಿ ಹಿಲಿಕಾನ್ ವ್ಯಾಲಿ ಡೆಮ್ಸ್\\u200cನಲ್ಲಿ ಮುನ್ನಡೆ ಸಾಧಿಸಲು ಮುಂದಾಗಿದ್ದಾರೆ. ಕೆಲವು ಪರಿಧಮನಿಯ ಜಾಹೀರಾತುಗಳನ್ನು ನಿಷೇಧಿಸಲು ಫೇಸ್\\u200cಬುಕ್\\u200cಗೆ ತಿದ್ದುಪಡಿಗಳನ್ನು ತಳ್ಳಿದ ನಂತರ ಕಣ್ಗಾವಲು ಮತವನ್ನು ರದ್ದುಗೊಳಿಸಲಾಗಿದೆ. ಶಾಸಕರು ಗ್ರಿಲ್ ಆನ್\\u200cಲೈನ್ ಟಿಕೆಟಿಂಗ್ ಕಾರ್ಯಗತಗೊಳಿಸುತ್ತಾರೆ ಹ್ಯಾಕರ್ ಪ್ರವೇಶಿಸಿದ ಮುಖ ಗುರುತಿಸುವಿಕೆ ಕಂಪನಿಯ ಡೇಟಾಬೇಸ್ ದುರ್ಬಲ ಡೆಮೋಕ್ರಾಟ್\\u200cಗಳು ದಕ್ಷಿಣ ಕೆರೊಲಿನಾದ ಶನಿವಾರದ ಪ್ರಾಥಮಿಕ ಹಂತದಲ್ಲಿ ಅರ್ಧದಷ್ಟು ಡೆಮಾಕ್ರಟಿಕ್ ಮತದಾರರನ್ನು ಒಳಗೊಂಡಿರುವ ಆಫ್ರಿಕನ್ ಅಮೆರಿಕನ್ನರಿಗೆ ಬಂದೂಕು ನಿಯಂತ್ರಣ ಕ್ರಮಗಳ ಬಗ್ಗೆ ಸ್ಯಾಂಡರ್ಸ್ ಹಿಂದಿನ ವಿರೋಧದ ನಂತರ ಮತ್ತು ಬೆಂಕಿಯಲ್ಲಿದ್ದ ಸ್ಯಾಂಡರ್ಸ್ಗೆ ಬ್ರೇಸ್ ನಂತರ ಮುಖ್ಯವಾಹಿನಿಯ ಡೆಮಾಕ್ರಟಿಕ್ ಅಭ್ಯರ್ಥಿಗಳನ್ನು ಪರಿಗಣಿಸಿ ಹೌಸ್ ಆಡಳಿತಾಧಿಕಾರಿಗಳು ಸ್ಪರ್ಧಾತ್ಮಕ ಜಿಲ್ಲೆಗಳಲ್ಲಿ ಮತ್ತು ಸೆನೆಟ್ ಚಾಲೆಂಜರ್\\u200cಗಳಲ್ಲಿ ಮಿಚ್ ಮೆಕ್\\u200cಕಾನ್ನೆಲ್ ಅಡಿಸನ್ ಮಿಚ್ ಮಿಚೆಲ್ ಮೆಕ್\\u200cಕಾನ್ನೆಲ್ ಓವರ್\\u200cನೈಟ್ ಹೆಲ್ತ್ ಕೇರ್ ಅಮೆರಿಕನ್ ಹೆಲ್ತ್ ಕೇರ್ ಅಸೋಸಿಯೇಷನ್ \\u200b\\u200bಪ್ರಸ್ತುತಪಡಿಸಿದೆ ಟ್ರಂಪ್ ಪೆರೋಸ್ ಅನ್ನು ಕರೋನವೈರಸ್ ಪ್ರತಿಕ್ರಿಯೆಯನ್ನು ಮುನ್ನಡೆಸಲು ಟ್ಯಾಪ್ ಮಾಡಿದ್ದಾರೆ ಪೆಲೋಸಿ ಪ್ಯಾನಿಕ್ ಸಿಡಿಸಿ ರಚಿಸಲು ಪ್ರಯತ್ನಿಸುತ್ತಿದ್ದಾರೆ ಎಂದು ಅಪರಿಚಿತ ಮೂಲದ ಪ್ರಕರಣವನ್ನು ದೃ ms ಪಡಿಸುತ್ತದೆ ಶುಮರ್ 5 ಬಿಲಿಯನ್ ತುರ್ತು ನಿಧಿಗಳನ್ನು ಬಯಸುತ್ತಾರೆ ರಾಷ್ಟ್ರೀಯ ಜನಪ್ರಿಯ ಮತ ಚಳುವಳಿಗೆ ಪುಶ್ ಸಂಪ್ರದಾಯವಾದಿಗಳಿಂದ ಉತ್ತೇಜನ ಪಡೆಯುತ್ತದೆ ನವೆಂಬರ್ ದುರಂತವನ್ನು ತಪ್ಪಿಸಲು ಡೆಮೋಕ್ರಾಟ್\\u200cಗಳು ಕೆಒ ಸ್ಯಾಂಡರ್ಸ್ ಮಾಡಬೇಕಾಗಿರುವುದು ತಮ್ಮ ರಿಪಬ್ಲಿಕನ್ ಬಹುಮತವನ್ನು ಅವರು ಜಿಲ್ಲೆಗಳನ್ನು ಪ್ರತಿನಿಧಿಸುತ್ತದೆ ಮತ್ತು ಅಧ್ಯಕ್ಷ ಸ್ಥಾನವನ್ನು ಗೆಲ್ಲಲು ಡೆಮೋಕ್ರಾಟ್ ನಡೆಸಬೇಕಾಗಿದೆ ಎಂದು ಹೇಳುತ್ತದೆ,0\\n\"ಕರೋನವೈರಸ್ ತಮ್ಮ ಸಮುದಾಯಗಳನ್ನು ಸ್ಥಗಿತಗೊಳಿಸಿದಲ್ಲಿ ಬ್ರಿಟನ್ನರು ಭಯಭೀತರಾಗಿದ್ದಾರೆ ಟಾಯ್ಲೆಟ್ ರೋಲ್ ಸೂಪ್ ಟಿನ್ಡ್ ಫ್ರೂಟ್ ಪಿಇಟಿ ಫುಡ್ ಮೆಡಿಸಿನ್ ಬಾಟಲ್ ವಾಟರ್ ವೈನ್ ಮತ್ತು ಮನೆಯಲ್ಲಿ ಪ್ರತ್ಯೇಕ ಕೊಠಡಿಗಳನ್ನು ಸ್ಥಾಪಿಸುವುದು ಇಂದು ಬಹಿರಂಗವಾಯಿತು. ಕೊಲೆಗಾರ ವೈರಸ್\\u200cಗೆ ಸಂಬಂಧಪಟ್ಟ ಪರೀಕ್ಷೆಗಳು ಸಕಾರಾತ್ಮಕವಾಗಿದ್ದರೆ ಲೂ ಹಂಚಿಕೊಳ್ಳುವುದನ್ನು ತಪ್ಪಿಸಲು ಆಹಾರ ಮತ್ತು ಪೋರ್ಟಬಲ್ ಕ್ಯಾಂಪ್ ಶೌಚಾಲಯಗಳನ್ನು ತುಂಬಲು ಹೊಸ ಎದೆಯ ಫ್ರೀಜರ್\\u200cಗಳನ್ನು ಖರೀದಿಸುವುದು ತಜ್ಞರು ನಂಬುವಂತೆ ಕುಟುಂಬ ಮನೆಗಳಲ್ಲಿ medicine ಷಧಿ ಮತ್ತು ಆಹಾರವನ್ನು ಸಂಗ್ರಹಿಸುವುದು ತೀವ್ರವಾಗಬಹುದು ಎಂದು ಜನರು ನಂಬುತ್ತಾರೆ. ಅದು ಸಂಭವಿಸಿದಲ್ಲಿ ಸುಮಾರು 200 ಜನರು ಸಂದೇಶಕ್ಕೆ ಪ್ರತಿಕ್ರಿಯಿಸಿದರು, ಅವರು ಟಿನ್ ಮಾಡಿದ ಸರಕುಗಳ ಟಾಯ್ಲೆಟ್ ರೋಲ್ ಮತ್ತು ಇತರ ಸರಬರಾಜುಗಳನ್ನು ಸಹ ಸಂಗ್ರಹಿಸುತ್ತಿದ್ದಾರೆ ಎಂದು ಯುಕೆ ಇಂಗ್ಲೆಂಡ್ನ ಮುಖ್ಯ ವೈದ್ಯಕೀಯ ಅಧಿಕಾರಿ ಪ್ರೊಫೆಸರ್ ಕ್ರಿಸ್ ವಿಟ್ಟಿ ಹೇಳಿದ್ದಾರೆ, ಜನರು ಸಾಧ್ಯವಾದಾಗ ವೈರಸ್ ಹರಡಿದರೆ ಶಾಲೆ ಮುಚ್ಚಬಹುದು ಅವರ ಕುಟುಂಬಗಳೊಂದಿಗೆ ಮನೆಯಲ್ಲಿಯೇ ಇರಲು ಕೇಳಲಾಗುತ್ತದೆ\",1\\n\"ಮಲ್ಟಿಬಿಲಿಯನ್ ಡಾಲರ್ ತನ್ನ ಅತಿದೊಡ್ಡ ಒಪ್ಪಂದ ಮತ್ತು ಅಂಚು ಮರುಹೊಂದಿಸುವಿಕೆಯ ಹೊರತಾಗಿಯೂ ಲೈಸೊಲ್ ಸೋಂಕುನಿವಾರಕ ರೆಕಿಟ್ ಬೆನ್\\u200cಕಿಸರ್\\u200cನ ಆರ್\\u200cಬಿಜಿಎಲ್\\u200cವೈ 0 06 ಸ್ವಚ್ clean ಗೊಳಿಸುವಿಕೆಯು ಕಂಪನಿಗೆ ಒಳ್ಳೆಯ ಸುದ್ದಿ ಇದೆ. ಕಂಪನಿಯ 17 ಬಿಲಿಯನ್ ಖರೀದಿ ಎಸ್ ಬೇಬಿ ಫುಡ್ ಬಿಸಿನೆಸ್ ಮೀಡ್ ಜಾನ್ಸನ್ ಅವರು ಮೀಡ್ ಜಾನ್ಸನ್\\u200cಗೆ ಹೆಚ್ಚಿನ ಹಣವನ್ನು ಪಾವತಿಸಿದ್ದಲ್ಲದೆ, ಕಂಪನಿಯ ಅನೇಕ ಸಮಸ್ಯೆಗಳನ್ನು ಸರಬರಾಜು ಸರಪಳಿಗಳು ಮತ್ತು ಸಂಶೋಧನೆ ಮತ್ತು ಅಭಿವೃದ್ಧಿ ತಂಡಗಳಿಗೆ ಸರಿಯಾಗಿ ಧನಸಹಾಯ ನೀಡಿದ್ದರೆ ತಪ್ಪಿಸಬಹುದಿತ್ತು. ಪ್ರಸ್ತುತ ಚೀನಾದಲ್ಲಿ ಹೆಚ್ಚಿನ ಗಮನ ಸೆಳೆಯುತ್ತಿರುವ ಕಂಪನಿಯು ಕರೋನವೈರಸ್ ಏಕಾಏಕಿ ನಂತರ ಹೆಚ್ಚಿನ ಬೇಡಿಕೆಯನ್ನು ಕಾಣುತ್ತಿದೆ ಆದರೆ ಕಳೆದ ವರ್ಷ 3 6 ರ ಆದಾಯದ ಬೆಳವಣಿಗೆಯೊಂದಿಗೆ ಉದಯೋನ್ಮುಖ ಮಾರುಕಟ್ಟೆಗಳಲ್ಲಿ ನೈರ್ಮಲ್ಯ ವಿಭಾಗವು ಉತ್ತಮವಾಗಿ ಕಾರ್ಯನಿರ್ವಹಿಸುತ್ತಿದೆ. ಮೀಡ್ ಜಾನ್ಸನ್ ಒಪ್ಪಂದವು ಕಂಪನಿಯ ಚೀನಾಕ್ಕೆ ಹೆಚ್ಚಿನ ಒಡ್ಡುವಿಕೆಯನ್ನು ಹೆಚ್ಚಿಸಿದೆ ಇದು ರಾತ್ರಿಯಿಡೀ ತನ್ನ 20 ರಿಂದ ಎರಡನೇ ಅತಿದೊಡ್ಡ ಮಾರುಕಟ್ಟೆಗೆ ಹೋಯಿತು\",0\\n\"ವ್ಯಾಟಿಕನ್ ಸಿಟಿ ರಾಯಿಟರ್ಸ್ ಪೋಪ್ ಫ್ರಾನ್ಸಿಸ್ ಸ್ವಲ್ಪ ಅಸ್ವಸ್ಥರಾಗಿದ್ದಾರೆ ಮತ್ತು ರೋಮ್ ಬೆಸಿಲಿಕಾದಲ್ಲಿ ನಡೆದ ಕಾರ್ಯಕ್ರಮವೊಂದನ್ನು ರದ್ದುಗೊಳಿಸಿದ್ದಾರೆ ಆದರೆ ಅವರ ಉಳಿದ ವೇಳಾಪಟ್ಟಿಯನ್ನು ತಮ್ಮ ನಿವಾಸದಲ್ಲಿ ನಿರ್ವಹಿಸುತ್ತಿದ್ದಾರೆ ಎಂದು ವ್ಯಾಟಿಕನ್ ಗುರುವಾರ ತಿಳಿಸಿದೆ. ಜಾಗತಿಕ ಕ್ಯಾಥೊಲಿಕ್ ಹವಾಮಾನ ಚಳವಳಿಯ ಸದಸ್ಯರೊಂದಿಗೆ ಗುರುವಾರ ಬೆಳಿಗ್ಗೆ ವ್ಯಾಟಿಕನ್ ಸಭೆಯಲ್ಲಿ ಹೊಸ ಪೋಸ್ಟ್ನಲ್ಲಿ ಪ್ರಾರಂಭವಾಯಿತು ಅಂತರರಾಷ್ಟ್ರೀಯ ಪರಿಸರ ಗುಂಪು ಪೋಪ್ ಶೀತದಿಂದ ಕಾಣಿಸಿಕೊಂಡರು ಮತ್ತು ಬುಧವಾರ ತಮ್ಮ ಸಾಮಾನ್ಯ ಪ್ರೇಕ್ಷಕರಲ್ಲಿ ಸ್ವಲ್ಪ ಗಟ್ಟಿಯಾದ ಧ್ವನಿಯೊಂದಿಗೆ ಮಾತನಾಡಿದರು ಮತ್ತು ಮಧ್ಯಾಹ್ನದ ಸಮಯದಲ್ಲಿ ಕೂಗಿದರು ರೋಮ್ ಚರ್ಚ್ನಲ್ಲಿ ಬೂದಿ ಬುಧವಾರ ಸೇವೆ ರೋಪ್ ಪುರೋಹಿತರೊಂದಿಗಿನ ಲೆಂಟನ್ ಸೇವೆಗಾಗಿ ಪೋಪ್ ಗುರುವಾರ ಬೆಳಿಗ್ಗೆ ಲ್ಯಾಟೆರನ್ನ ಸೇಂಟ್ ಜಾನ್ಸ್ ಬೆಸಿಲಿಕಾಕ್ಕೆ ಹೋಗಬೇಕಾಗಿತ್ತು, ಬುಧವಾರ ಪ್ರೇಕ್ಷಕರಲ್ಲಿ ಸೇಂಟ್ ಪೀಟರ್ಸ್ ಸ್ಕ್ವೇರ್ನಲ್ಲಿ ಹಲವಾರು ಜನರು ಮುಖವಾಡಗಳನ್ನು ಧರಿಸಿದ್ದರು ಆದರೆ ಕೇವಲ ಪೋಪ್ನ ಬೂದಿ ಬುಧವಾರ ಸೇವೆಯಲ್ಲಿ ಒಬ್ಬ ವ್ಯಕ್ತಿಯನ್ನು ಧರಿಸಿರುವುದು ಕಂಡುಬಂದಿದೆ\",1\\nಟ್ರಂಪ್ ಅಭಿಯಾನವು ತನ್ನನ್ನು ರಕ್ಷಿಸಿಕೊಳ್ಳುವ ಗಂಭೀರ ಕರ್ತವ್ಯವನ್ನು ಹೊಂದಿದೆ ಎಂದು ಅಧ್ಯಕ್ಷರಿಗೆ ತಿಳಿದಿದೆ ಏಕೆಂದರೆ ಕರೋನವೈರಸ್ ತನ್ನ ಮರು ಚುನಾವಣೆಯ ಬಿಡ್ ಅನ್ನು ನೋಯಿಸುತ್ತದೆ ಎಂಬ ಭಯದಿಂದಾಗಿ ಕರೋನವೈರಸ್ ಬಗ್ಗೆ ಕಳವಳಗಳು ಟ್ಯಾಂಕ್ ಸ್ಟಾಕ್ ಬೆಲೆಗಳಿಗೆ ಸಹಾಯ ಮಾಡಿವೆ ಆದರೆ ಅವುಗಳು ಅನೇಕ ಯುನೈಟೆಡ್ ಸ್ಟೇಟ್ಸ್ನಲ್ಲಿ ಮುಖವಾಡಗಳನ್ನು ಧರಿಸಲು ಕಾರಣವಾಗಿವೆ ಮತ್ತು ಸಿಡಿಸಿ ಹೊಂದಿದೆ ಮುಖದ ಕೂದಲಿನ ಶೈಲಿಗಳು ಉಸಿರಾಟದ ಮುಖವಾಡಗಳನ್ನು ಧರಿಸಲು ಯಾವುದು ಉತ್ತಮ ಮತ್ತು ಯಾವ ಕೆಲಸ ಮಾಡುವುದಿಲ್ಲ ಎಂದು ವಿವರಿಸುವ ಈ ನಿಜವಾದ ಗ್ರಾಫಿಕ್ ಅನ್ನು ಬಿಡುಗಡೆ ಮಾಡಿದೆ ಎಂದು ಅವರು ಹೇಳಿದರು. ಡೈಲಿ ಶೋ ಸಹ ಟ್ರಂಪ್\\u200cನ ಕರೋನವೈರಸ್ ಮುದ್ರಣದೋಷವನ್ನು ಧೈರ್ಯಕೊಡುವುದಕ್ಕಿಂತ ಕಡಿಮೆ ಕಂಡುಹಿಡಿದಿದೆ ಮತ್ತು ಆದ್ದರಿಂದ ಇಂದು ಯುನೈಟೆಡ್ ಸ್ಟೇಟ್ಸ್ ಅಧ್ಯಕ್ಷರು ತುರ್ತು ಪತ್ರಿಕಾಗೋಷ್ಠಿ ನಡೆಸಿದರು ಜನರ ಕಾಳಜಿಯನ್ನು ಪರಿಹರಿಸಲು ಅವರು ಉಪಾಧ್ಯಕ್ಷ ಮೈಕ್ ಪೆನ್ಸ್ ಅವರನ್ನು ವೈರಸ್\\u200cಗೆ ಅಮೆರಿಕದ ಪ್ರತಿಕ್ರಿಯೆಯ ಉಸ್ತುವಾರಿ ವಹಿಸಿಕೊಂಡರು. ಮೈಕ್ ಪೆನ್ಸ್ ಇಂಡಿಯಾನಾದ ಗವರ್ನರ್ ಆಗಿದ್ದಾಗ ಅವರು ಸಾರ್ವಜನಿಕ ಆರೋಗ್ಯ ಅಧಿಕಾರಿಗಳ ಸಲಹೆಯನ್ನು ಪಾಲಿಸದಿದ್ದಾಗ ಎಚ್\\u200cಐವಿ ಏಕಾಏಕಿ ಸಕ್ರಿಯಗೊಳಿಸಿದರು ಆದರೆ ನಾನು ಪ್ರಾಮಾಣಿಕ ನಾನು ಟ್ರಂಪ್\\u200cಗಿಂತಲೂ ಅವರೊಂದಿಗೆ ಸುರಕ್ಷಿತವಾಗಿರುತ್ತೇನೆ,0\\n\"ಆಪಲ್ ಇದೀಗ ಒಬ್ಬ ಅನುಭವಿ ಕಾರ್ಯನಿರ್ವಾಹಕನನ್ನು ಕಳೆದುಕೊಂಡಿದೆ, ಶೀಘ್ರದಲ್ಲೇ ನಿರ್ಗಮಿಸಲು ನೋಡುತ್ತಿರುವ ಬ್ಲೂಮ್\\u200cಬರ್ಗ್ ಫೋರ್ಲೆನ್ಜಾ ಅವರ ಉತ್ಪಾದನಾ ವಿನ್ಯಾಸ ಶೀರ್ಷಿಕೆ ಅವರು ಆಪಲ್ ಉತ್ಪನ್ನಗಳನ್ನು ವಿನ್ಯಾಸಗೊಳಿಸುವ ಜವಾಬ್ದಾರಿಯನ್ನು ಹೊಂದಿದ್ದಾರೆಂದು ಅರ್ಥವಲ್ಲ ಬದಲಿಗೆ ಅವರ ಸ್ಥಾನವು ಕಾರ್ಯಾಚರಣೆಯ ಪಾತ್ರವಾಗಿದ್ದು ಆಪಲ್ ಉತ್ಪಾದನೆಗಾಗಿ ಉತ್ಪಾದನಾ ಪ್ರಕ್ರಿಯೆಗಳಿಗೆ ಕಾರಣವಾಗಿದೆ ಸಾಧನಗಳು ಇತರ ನಿರ್ವಾಹಕ ಬ್ಲೂಮ್\\u200cಬರ್ಗ್ ಶೀಘ್ರದಲ್ಲೇ ನಿರ್ಗಮಿಸಲಿದ್ದಾರೆ ಎಂದು ಕಂಪನಿಯ ದೀರ್ಘಕಾಲದ ಕಾರ್ಯಾಚರಣೆಯ ವಿ.ಪಿ.ಯವರು ಇತ್ತೀಚಿನ ವರ್ಷಗಳಲ್ಲಿ ಕಂಪನಿಯ ವರ್ಧಿತ ರಿಯಾಲಿಟಿ ವಿಭಾಗಕ್ಕೆ ತೆರಳಿದ್ದಾರೆ. ಕಾರ್ಯಾಚರಣೆಯಂತೆ ವಿ.ಪಿ.ಪಾಸ್ಮೂಯಿಜ್ ಐಫೋನ್ ಫೋರ್ಲೆನ್ಜಾ ಮತ್ತು ಉತ್ಪನ್ನ ಉತ್ಪನ್ನಗಳ ಮೇಲ್ವಿಚಾರಣೆಯನ್ನು ವರ್ಷಗಳನ್ನು ಕಳೆದರು. ಸರಬರಾಜು ಸರಪಳಿ ನಿರ್ವಹಣೆಯಲ್ಲಿ ಪಾಸ್\\u200cಮೂಯಿಜ್ ಅವರ ಪಾತ್ರಗಳು ನಿರ್ಣಾಯಕವಾಗಿದ್ದು, ಇದೀಗ ಚೀನಾದೊಂದಿಗಿನ ಟ್ರಂಪ್\\u200cರ ವ್ಯಾಪಾರ ಸುಂಕಗಳು ಮತ್ತು ಸಾಗರೋತ್ತರ ಉತ್ಪಾದನಾ ಸೌಲಭ್ಯಗಳಲ್ಲಿನ ಕಾರ್ಯಾಚರಣೆಗಳ ಮೇಲೆ ಪರಿಣಾಮ ಬೀರುವ ಕೊರೊನಾವೈರಸ್\\u200cನ ಹರಡುವಿಕೆಯನ್ನು ನೀಡಲಾಗಿದೆ.\",0\\n\"ಬೀಜಿಂಗ್ ಶಾಂಘೈ ರಾಯಿಟರ್ಸ್ ಚೀನಾವು ಕರೋನವೈರಸ್ ಸೋಂಕಿತರನ್ನು ಗಡಿ ದಾಟದಂತೆ ತಡೆಯುವತ್ತ ಗಮನ ಹರಿಸಲಿದೆ ಮತ್ತು ಅಂತರರಾಷ್ಟ್ರೀಯ ಸಹಕಾರವನ್ನು ಬಲಪಡಿಸುವ ನಿಟ್ಟಿನಲ್ಲಿ ರಾಷ್ಟ್ರೀಯ ಆರೋಗ್ಯ ಆಯೋಗದ ವಕ್ತಾರ ಎನ್\\u200cಎಚ್\\u200cಸಿ ಗುರುವಾರ ಸುದ್ದಿಗೋಷ್ಠಿಯಲ್ಲಿ ಮಿ ಫೆಂಗ್ ಅವರು ವಿದೇಶದಲ್ಲಿ ಹೊಸ ಸೋಂಕುಗಳ ಸಂಖ್ಯೆಯನ್ನು ಮೀರಿದ ನಂತರ ಬಂದಿದ್ದಾರೆ ಈ ವಾರ ಚೀನಾದಲ್ಲಿ ಮೊದಲ ಬಾರಿಗೆ ಇಟಲಿ ಮತ್ತು ಇರಾನ್ ಹೊಸ ಕೇಂದ್ರ ಬಿಂದುಗಳಾಗಿ ಹೊರಹೊಮ್ಮುತ್ತಿವೆ. ಆಮದು ಮಾಡಿಕೊಂಡ ಕೆಲವು ಪ್ರಕರಣಗಳು ಈಗಾಗಲೇ ಶಾಂಘೈ ನಗರದಲ್ಲಿ ಗುರುವಾರ ಕಂಡುಬಂದಿವೆ, ಕರೋನವೈರಸ್ ರೋಗಿಯೊಬ್ಬರು ಫೆಬ್ರವರಿ 20 ರಂದು ಇರಾನ್\\u200cನಿಂದ ವಿಮಾನವನ್ನು ತೆಗೆದುಕೊಂಡು ಬಂದಿದ್ದಾರೆ ಎಂದು ಹೇಳಿದ್ದಾರೆ. ಮಾಸ್ಕೋ ಪ್ರಯಾಣದುದ್ದಕ್ಕೂ ಮುಖವಾಡ ಧರಿಸಿದ ರೋಗಿಯು ನಂತರ ರೈಲಿನಲ್ಲಿ ಲಾಂ zh ೌ ನಗರದ ಮೂಲಕ ong ೊಂಗ್ವೇಗೆ ಪ್ರಯಾಣ ಬೆಳೆಸಿದರು ಶಾಂಘೈ ಅಧಿಕಾರಿಗಳು ಪ್ರತ್ಯೇಕ ಪತ್ರಿಕಾಗೋಷ್ಠಿಯಲ್ಲಿ ಹೇಳಿದರು, ಹೆಚ್ಚಿನ ಸಂಖ್ಯೆಯ ಸೋಂಕು ಪ್ರಕರಣಗಳೊಂದಿಗೆ ದೇಶಗಳಿಂದ ಪ್ರಯಾಣಿಸುವ ಜನರ ಮೇಲೆ ತಮ್ಮ ಮೇಲ್ವಿಚಾರಣೆಯನ್ನು ಬಲಪಡಿಸುತ್ತೇವೆ ಮತ್ತು ಜನರು ವಿದೇಶದಿಂದ ವೈರಸ್ ತರದಂತೆ ತಡೆಯುವ ಕೆಲಸ\",1\\n\"ಮಾಂಟ್ರಿಯಲ್ ರಾಯಿಟರ್ಸ್ ಈ ವರ್ಷದ ಟೋಕಿಯೊ ಒಲಿಂಪಿಕ್ಸ್ ಅನ್ನು ಕರೋನವೈರಸ್ ಏಕಾಏಕಿ ರದ್ದುಗೊಳಿಸುವುದು ಅಥವಾ ಮುಂದೂಡುವುದು ವಿಶ್ವದ ಆರೋಗ್ಯಕ್ಕೆ ಅಪಾಯವನ್ನುಂಟುಮಾಡುತ್ತದೆ ಎಂದು ಅಂತರರಾಷ್ಟ್ರೀಯ ಒಲಿಂಪಿಕ್ ಸಮಿತಿಯ ಐಒಸಿ ಸದಸ್ಯ ಡಿಕ್ ಪೌಂಡ್ ಬುಧವಾರ ಹೇಳಿದ್ದಾರೆ, ಒಂದು ವರ್ಷದವರೆಗೆ ಒಲಿಂಪಿಕ್ಸ್ ಅನ್ನು ಮರು ನಿಗದಿಪಡಿಸುವುದು ಅಸಾಧ್ಯವಲ್ಲ ಜುಲೈ 24 ರಂದು ನಡೆದ ಉದ್ಘಾಟನಾ ಸಮಾರಂಭಗಳಲ್ಲಿ ಐಒಸಿ ಅವರನ್ನು ಹೊಂದಲು ಸಂಪೂರ್ಣವಾಗಿ ಬದ್ಧವಾಗಿದೆ ಎಂದು ತಿಳಿಯಲು ಟೋಕಿಯೊಗೆ ತರಬೇತಿ ಪಡೆಯುತ್ತಿರುವ ಕ್ರೀಡಾಪಟುಗಳು ಒಲಿಂಪಿಕ್ಸ್ ಅನ್ನು ರದ್ದುಗೊಳಿಸಬೇಕೇ ಅಥವಾ ಮುಂದೂಡಬೇಕೆ ಎಂಬ ಬಗ್ಗೆ ಯಾವುದೇ ನಿರ್ಧಾರವು ಸಾಕಷ್ಟು ಚಲಿಸುವ ಭಾಗಗಳನ್ನು ಹೊಂದಿದೆ ಮತ್ತು ಐಒಸಿ ಟೋಕಿಯೊವನ್ನು ಒಳಗೊಂಡಿರುತ್ತದೆ ಈ ಘಟನೆಯನ್ನು ನಡೆಸುವುದು ಸುರಕ್ಷಿತ ಸನ್ನಿವೇಶವಲ್ಲ ಎಂದು ಭಾವಿಸಿದ ಅಧಿಕಾರಿಗಳು ಸರ್ಕಾರಗಳು ಮತ್ತು ಅಂತರರಾಷ್ಟ್ರೀಯ ಏಜೆನ್ಸಿಗಳು ಅದೇ ದಿನ ಪೌಂಡ್ ಅವರ ಕಾಮೆಂಟ್\\u200cಗಳು ಬಂದವು, ಜಪಾನಿನ ಪ್ರಧಾನಿ ಶಿಂಜೊ ಅಬೆ ಅವರು ದೇಶದಲ್ಲಿ ಇನ್ನೂ ಎರಡು ಕರೋನವೈರಸ್ ಸಾವುಗಳು ಹೆಚ್ಚಾಗುತ್ತಿದ್ದಂತೆ ಕ್ರೀಡಾಕೂಟಗಳಿಗೆ ಎರಡು ವಾರಗಳ ನಿರ್ಬಂಧ ಹೇರಲು ಕರೆ ನೀಡಿದರು. ಏಕಾಏಕಿ ಟೋಕಿಯೊ ಒಲಿಂಪಿಕ್ಸ್ ಅಂತರರಾಷ್ಟ್ರೀಯ ಒಲಿಂಪಿಕ್ ಸಮಿತಿಯ ಐಒಸಿ ಸದಸ್ಯ ಡಿಕ್ ಪೌಂಡ್ ಮಾಂಟ್ರಿಯಲ್ ಕ್ವಿಬೆಕ್ ಕ್ಯಾನ್ನಲ್ಲಿರುವ ತನ್ನ ಕಚೇರಿಗಳಲ್ಲಿ ಪೋಸ್ ನೀಡಬಹುದು ಅದಾ ಫೆಬ್ರವರಿ 26 2020\",0\\n\"ಸ್ಟಾಕ್ಪೈಲಿಂಗ್ ಬೆಲೆಗಳನ್ನು ಹೆಚ್ಚಿಸಬಹುದು ಎಂದು ಹೇಳುತ್ತದೆ ಉತ್ಪನ್ನ ಕರಗುವ ಉಪಉತ್ಪನ್ನ ಸಲ್ಫ್ಯೂರಿಕ್ ಆಮ್ಲದ ಆಮದುಗಳ ಮೇಲೆ ಸ್ಥಗಿತಗೊಳಿಸಲು ಕರೆಗಳು 59 ತಾಮ್ರದ ಅಲ್ಯೂಮಿನಿಯಂ ಪ್ರೊಸೆಸರ್ಗಳಲ್ಲಿ 59 ತಾಮ್ರ ಅಲ್ಯೂಮಿನಿಯಂ ಸೀಸ ಮತ್ತು ಸತು ಕರಗಿಸುವಿಕೆ 80 ಸಾಮರ್ಥ್ಯಕ್ಕಿಂತ ಹೆಚ್ಚಿನದಾಗಿದೆ. ಟಾಮ್ ಡಾಲಿ ಬೀಜಿಂಗ್ ಫೆಬ್ರವರಿ 27 ರಾಯಿಟರ್ಸ್ ಚೀನಾ ಕೆಲವು ದಾಸ್ತಾನು ಮಾಡಬೇಕು ಚೀನಾದ ನಾನ್ಫರಸ್ ಮೆಟಲ್ಸ್ ಇಂಡಸ್ಟ್ರಿ ಅಸೋಸಿಯೇಷನ್ \\u200b\\u200bಸಿಎನ್ಐಎ ಗುರುವಾರ ದೇಶದ ಕರೋನವೈರಸ್ ಏಕಾಏಕಿ ಏಕಾಏಕಿ ಉಂಟಾಗುತ್ತಿರುವ ಉತ್ಪಾದಕರ ಒತ್ತಡವನ್ನು ತೆಗೆದುಕೊಳ್ಳಲು ಫೆರಸ್ ಅಲ್ಲದ ಲೋಹಗಳು ಸಿಎನ್ಐಎ ಗುರುವಾರ ಹೇಳಿದೆ. ವಿಸ್ತೃತ ಚಂದ್ರನ ಹೊಸ ವರ್ಷದ ವಿರಾಮದ ನಂತರ ಅವರು ಕೆಲಸಕ್ಕೆ ಮರಳಲು ವಿಳಂಬವಾಗಿದ್ದರೆ, ಸಿಎನ್\\u200cಐಎಯ ಉಪ ಪ್ರಧಾನ ಕಾರ್ಯದರ್ಶಿ ಜಿಯಾ ಮಿಂಗ್\\u200cಸಿಂಗ್ ಅವರು ಲೋಹಗಳ ಬೇಡಿಕೆ ತಾತ್ಕಾಲಿಕವಾಗಿ ಕುಸಿದಿದೆ ಎಂದು ಸಿಎನ್\\u200cಐಎ ನಡೆಸುತ್ತಿರುವ ಪತ್ರಿಕೆಯಲ್ಲಿ ಜಿಯಾ ಉಲ್ಲೇಖಿಸಿದ್ದು, ಸ್ಮೆಲ್ಟರ್ ದಾಸ್ತಾನುಗಳು ಏರಿಕೆಯಾಗಿದೆ ಎಂದು ಹೇಳಿದರು ಪರಿಣಾಮವಾಗಿ ತಾಮ್ರ ಮತ್ತು ಅಲ್ಯೂಮಿನಿಯಂ ಸಂಸ್ಕಾರಕಗಳ ಸಮೀಕ್ಷೆಯಲ್ಲಿ ಬಳಕೆಯ ದರಗಳು ಸಿಎನ್\\u200cಐಎ ಫೆಬ್ರವರಿ 26 ರಂದು 59 ಕ್ಕೆ ಏರಿದೆ. ಹಿಂದಿನ ವಾರಕ್ಕಿಂತ 12 ಶೇಕಡಾ 9 ಪಾಯಿಂಟ್\\u200cಗಳು ಜಿಯಾ ರಜೆಯ ನಂತರ ಚೇತರಿಸಿಕೊಳ್ಳಲು ನಿಧಾನವಾಗಿದೆ ಎಂದು ಹೇಳಿದರು ಏಕೆಂದರೆ ಕಾರ್ಮಿಕರು ವೈರಸ್ ಸಂಬಂಧಿತ ಪ್ರಯಾಣ ನಿರ್ಬಂಧಗಳಿಂದ ಹಾನಿಗೊಳಗಾಗಿದ್ದಾರೆ. ತಾಮ್ರದ ಕರಗಿಸುವವರಿಗೆ ಸಾಮರ್ಥ್ಯ ಬಳಕೆಯ ದರಗಳು ಸರಾಸರಿ 81 5 ರಷ್ಟಿದೆ 87 6 ಅಲ್ಯೂಮಿನಿಯಂ ಸ್ಮೆಲ್ಟರ್\\u200cಗಳಿಗೆ ಮತ್ತು ಸೀಸ ಮತ್ತು ಸತು ಕರಗಿಸುವವರಿಗೆ 80 2 ಹಿಂದಿನ ವಾರ ಅಂಕಿಅಂಶಗಳನ್ನು ನೀಡದೆ ಜಿಯಾ ಹೇಳಿದರು\",0\\n\"ನೈಕ್\\u200cನ ಅತ್ಯಾಧುನಿಕ ಸ್ನೀಕರ್ ತಂತ್ರಜ್ಞಾನವನ್ನು ಪ್ರಶ್ನಿಸುವ ಒಂದು ಕ್ರಮದಲ್ಲಿ ಸ್ಕೆಚರ್ಸ್ ಎನ್\\u200cವೈಎಸ್\\u200cಇ ಎಸ್\\u200cಕೆಎಕ್ಸ್ ತನ್ನ ಸ್ನೀಕರ್\\u200cಗಳಿಗಾಗಿ ನವೀನ ಬಾಳಿಕೆ ಬರುವ ಹಗುರವಾದ ಏಕೈಕ ತಂತ್ರಜ್ಞಾನವನ್ನು ಅಭಿವೃದ್ಧಿಪಡಿಸಲು ಗುಡ್\\u200cಇಯರ್ ಟೈರ್ ಮತ್ತು ರಬ್ಬರ್ ಕಂಪನಿ ನಾಸ್ಡಾಕ್ ಜಿಟಿಯೊಂದಿಗೆ ಒಪ್ಪಂದವನ್ನು ಘೋಷಿಸಿತು. ಸ್ನೀಕರ್\\u200cಗಳು ಟೈರ್\\u200cಗಳಂತೆ ಕಾರ್ಯನಿರ್ವಹಿಸುತ್ತವೆ. ಯಾವುದೇ ಹವಾಮಾನ ಮತ್ತು ಮಹೋನ್ನತ ಎಳೆತದಲ್ಲಿ ಬಲವಾದ ಹಿಡಿತ ಗುಡ್\\u200cಇಯರ್ ಪರ್ಫಾರ್ಮೆಸ್ ಮೆಟ್ಟಿನ ಹೊರ ಅಟ್ಟೆಗಳನ್ನು ಸ್ಕೆಚರ್ಸ್ GO ರನ್ ಚಾಲನೆಯಲ್ಲಿರುವ ಶೂಗಳ ಸಾಲಿನಿಂದ ಮೂರು ಶೈಲಿಗಳ ಮೇಲೆ ಪ್ರಾಯೋಗಿಕವಾಗಿ ನಡೆಸಲಾಯಿತು ಮತ್ತು ಪುರುಷ ಮಹಿಳೆಯರು ಮತ್ತು ಮಕ್ಕಳಿಗಾಗಿ ಇತರ ಸಂಗ್ರಹಗಳಿಗೆ ವಿಸ್ತರಿಸಲಾಗುವುದು ಸ್ಕೆಚೆರ್ಸ್\\u200cಕೆಚೆರ್ಸ್\\u200cಗೆ ಇದು ಏಕೆ ಒಳ್ಳೆಯದು ನಾಲ್ಕನೇ ತ್ರೈಮಾಸಿಕದಲ್ಲಿ ಗಳಿಕೆಯನ್ನು ಪುಡಿಮಾಡಿದ ಮತ್ತು ಅದರ ಕಾರ್ಯಕ್ಷಮತೆಯ ಪಾದರಕ್ಷೆಗಳಿಗಾಗಿ ಹಲವಾರು ಪ್ರಶಸ್ತಿಗಳನ್ನು ಪಡೆದುಕೊಳ್ಳುವುದು ಗುಡ್\\u200cಇಯರ್\\u200cನೊಂದಿಗೆ ಕೆಲಸ ಮಾಡುವುದರಿಂದ ಕಂಪನಿಯ ಕಾರ್ಯಕ್ಷಮತೆಯ ಬೂಟುಗಳನ್ನು ಒಂದು ಹಂತದವರೆಗೆ ಒದೆಯುತ್ತದೆ, ಏಕೆಂದರೆ ಸ್ಕೆಚರ್ಸ್ ಹೆಚ್ಚು ಸ್ಪರ್ಧಾತ್ಮಕ ತಂತ್ರಜ್ಞಾನದೊಂದಿಗೆ ಉತ್ತಮ ಬೂಟುಗಳತ್ತ ಸಾಗುತ್ತಾರೆ\",1\\nಚೀನಾದಲ್ಲಿ ಟೆಲ್ಕೋಸ್ ಕಾರ್ಯನಿರ್ವಹಿಸದಿದ್ದರೆ ಕರೋನವೈರಸ್ ವೆರಿ iz ೋನ್ ಸ್ಟಾಕ್ ಎವೆನ್ ಮೇಲೆ ಹೇಗೆ ಪರಿಣಾಮ ಬೀರಬಹುದು ಎಟಿಟಿಯ ಹೆಚ್ಚಿನ ಇಳುವರಿ ಬೆಲೆಗೆ ಬರುತ್ತದೆ. ಮೊದಲ ನೋಟದಲ್ಲಿ ಹೂಡಿಕೆದಾರರು ಎಟಿಟಿಯನ್ನು ವೆರಿ iz ೋನ್ ಗೆ ಲಾಭಾಂಶದ ಆಟವಾಗಿ ಎಟಿಟಿಯ ಪಾವತಿಯ ಇಳುವರಿ ನಿಂತಿದೆ ವೆರಿ iz ೋನ್\\u200cನ ಇಳುವರಿಗಿಂತ ಸುಮಾರು 5% ಕ್ಕಿಂತ ಹೆಚ್ಚು ಶೇಕಡಾವಾರು. ಯುನೈಟೆಡ್ ಸ್ಟೇಟ್ಸ್\\u200cನಲ್ಲಿ 5 ಜಿ ನೆಟ್\\u200cವರ್ಕ್\\u200cಗಳನ್ನು ನಿರ್ಮಿಸುವ ಏಕೈಕ ಕಂಪನಿ ವೆರಿ iz ೋನ್ ಎಟಿಟಿ ಮತ್ತು ಟಿ ಮೊಬೈಲ್. ಹೆಚ್ಚಿನ ಗ್ರಾಹಕರು ಮತ್ತು ವ್ಯವಹಾರಗಳು 5 ಜಿ ಮತ್ತು ಲಾಭಗಳು ಹೆಚ್ಚಾಗುತ್ತಿದ್ದಂತೆ ವೆರಿ iz ೋನ್ ಹೆಚ್ಚುತ್ತಿರುವ ಲಾಭಾಂಶದ ಪ್ರವಾಹವನ್ನು ಉತ್ಪಾದಿಸಬೇಕು ಅಂತಿಮವಾಗಿ ಅದನ್ನು ಲಾಭಾಂಶ ಶ್ರೀಮಂತ ಸ್ಥಿತಿಗೆ ತೆಗೆದುಕೊಳ್ಳಿ,0\\n\"ಸ್ಟ್ಯಾಂಡರ್ಡ್ ಚಾರ್ಟರ್ಡ್ ಈ ವರ್ಷ ತನ್ನ ಹಣಕಾಸಿನ ಗುರಿಗಳನ್ನು ಕಳೆದುಕೊಳ್ಳಲಿದೆ ಎಂದು ಹೇಳಿದೆ ಮತ್ತು ಕರೋನವೈರಸ್ ಏಕಾಏಕಿ ಒಟ್ಟು ವೆಚ್ಚವನ್ನು to ಹಿಸಲು ಇದು ತುಂಬಾ ಮುಂಚೆಯೇ ಎಂದು ಎಚ್ಚರಿಸಿದೆ ಏಷ್ಯಾ ಕೇಂದ್ರೀಕೃತ ಬ್ಯಾಂಕ್ ಗುರುವಾರ ಕೋವಿಡ್ ಆಗಿ ಆದಾಯದ ಬೆಳವಣಿಗೆಯ ಗುರಿಗಳನ್ನು 5 ರಿಂದ 7 ರವರೆಗೆ ತಲುಪಲು ಅಸಂಭವವಾಗಿದೆ ಎಂದು ಗುರುವಾರ ತಿಳಿಸಿದೆ. ಹಾಂಗ್ ಕಾಂಗ್ ಮುಖ್ಯಭೂಮಿ ಚೀನಾ ಮತ್ತು ಸಿಂಗಾಪುರ್ ಸ್ಟ್ಯಾಂಡರ್ಡ್ ಚಾರ್ಟರ್ಡ್ ಷೇರುಗಳು ಸೇರಿದಂತೆ ಕೆಲವು ಪ್ರಮುಖ ಮಾರುಕಟ್ಟೆಗಳಲ್ಲಿ 19 ಹರಡುವಿಕೆಗಳು ಬೆಳಿಗ್ಗೆ 2018 ರ ವಹಿವಾಟಿನಲ್ಲಿ 4 ರಿಂದ 564 ಪಿ ವರೆಗೆ ಕುಸಿದವು. ಆದರೆ ಸ್ಟ್ಯಾಂಡರ್ಡ್ ಚಾರ್ಟರ್ಡ್\\u200cನ ಮುಖ್ಯ ಹಣಕಾಸು ಅಧಿಕಾರಿ ಆಂಡಿ ಹಾಲ್ಫೋರ್ಡ್ ಅವರ ಎಷ್ಟು ಮಾರ್ಗದರ್ಶನ ನೀಡಲು ನಿರಾಕರಿಸಿದರು ಸ್ಟ್ಯಾಂಡರ್ಡ್ ಚಾರ್ಟರ್ಡ್ ಪೂರ್ಣ ವರ್ಷದ ಫಲಿತಾಂಶಗಳನ್ನು ವರದಿ ಮಾಡಿದಂತೆ ಬ್ಯಾಂಕ್ ಅನ್ನು ಪಕ್ಕಕ್ಕೆ ಹಾಕಲು ಒತ್ತಾಯಿಸಬಹುದು, ಇದು ತೆರಿಗೆಗೆ ಮುಂಚಿನ ಲಾಭದಲ್ಲಿ 3 7 ಬಿಲಿಯನ್ 2 9 ಬಿಲಿಯನ್ಗೆ 46 ಏರಿಕೆ ತೋರಿಸಿದೆ\",0\\n\"ಐಫೋನ್ 12 ಪರಿಕಲ್ಪನೆಯು ಹೊಸ ಗಾತ್ರಗಳನ್ನು ತೋರಿಸುತ್ತದೆ ಬೆನ್ ಗೆಸ್ಕಿನ್ ಆಪಲ್ ಐಫೋನ್ 12 ನಾವು ಇಲ್ಲಿಯವರೆಗೆ ತಿಳಿದಿರುವ ಎಲ್ಲವೂ ನವೀಕರಿಸಲಾಗಿದೆ ಫೋರ್ಬ್ಸ್ ಗೋರ್ಡಾನ್ ಕೆಲ್ಲಿ ಐಫೋನ್ ಪೂರೈಕೆಯ ಬಗ್ಗೆ ಇತ್ತೀಚಿನ ನಿಕ್ಕಿ ಎಚ್ಚರಿಕೆಗಳ ಬಗ್ಗೆ ರಾಯಿಟರ್ಸ್\\u200cನಿಂದ ಹೊಸ ವಿಶೇಷವಾದವು ಆಪಲ್ನ ಮೌಲ್ಯ ಮತ್ತು ದಂಡದ ಸಾಮರ್ಥ್ಯದ ಮೇಲೆ ಕೊರೊನಾವೈರಸ್\\u200cನ ಪ್ರಭಾವವನ್ನು ಬಹಿರಂಗಪಡಿಸುತ್ತದೆ ಐಫೋನ್ 12 ಗಾಗಿ ಅಸೆಂಬ್ಲಿ ಪ್ರಕ್ರಿಯೆಗಳನ್ನು ಟ್ಯೂನ್ ಮಾಡಿ ಆಪಲ್ ಹುವಾವೇ ಒಪ್ಪೊ ಮತ್ತು ಸ್ಯಾಮ್\\u200cಸಂಗ್ ಸೇರಿದಂತೆ ಕಂಪೆನಿಗಳ ಒಂದು ಭಾಗವಾಗಿದೆ ಎಂದು ವರದಿ ಮಾಡಿದೆ, ಇವರೆಲ್ಲರೂ ಗ್ಯಾಲಿಯಮ್ ನೈಟ್ರೈಡ್ ಗಾನ್ ಅನ್ನು ಕಡಿಮೆ ಆಯಾಮಗಳೊಂದಿಗೆ ಹೆಚ್ಚು ಶಕ್ತಿಶಾಲಿ ಹೆಚ್ಚು ಪರಿಣಾಮಕಾರಿಯಾದ ಸ್ಮಾರ್ಟ್\\u200cಫೋನ್ ಚಾರ್ಜರ್\\u200cಗಳನ್ನು ಉತ್ಪಾದಿಸಲು ಯೋಜಿಸಿದ್ದಾರೆ ಎಂದು ರಾಯಿಟರ್ಸ್ ಎರಡನೇ ಒಳಗಿನವರನ್ನು ಉಲ್ಲೇಖಿಸಿದೆ ಐಫೋನ್ ಮೂಲಮಾದರಿಯಿಂದ ಲಕ್ಷಾಂತರ ಘಟಕಗಳ ಜೋಡಣೆಗೆ ಆಪಲ್ನ ಪರಿವರ್ತನೆ ಪ್ರಕ್ರಿಯೆಯು ಜನವರಿ ಅಂತ್ಯ ಮತ್ತು ಫೆಬ್ರವರಿ ಆರಂಭದ ನಡುವೆ ಶ್ರದ್ಧೆಯಿಂದ ಪ್ರಾರಂಭವಾಗುತ್ತದೆ ಮತ್ತು ಆ ಸಮಯದಲ್ಲಿ ಆಪಲ್ ಸಾಮಾನ್ಯವಾಗಿ ಅನೇಕ ಮೂಲಮಾದರಿಗಳನ್ನು ಪರೀಕ್ಷಿಸಿದೆ, ಅದು ಎಂಜಿನಿಯರಿಂಗ್ ಮೌಲ್ಯಮಾಪನ ಆಪಲ್ ಐಫೋನ್ 12 ಪರಿಕಲ್ಪನೆಯನ್ನು ನಿರೂಪಿಸುತ್ತದೆ ಹೊಸ ಬಣ್ಣ ಆಯ್ಕೆಯನ್ನು ನಿರೀಕ್ಷಿಸಲಾಗಿದೆ ಆಪಲ್ಇನ್\\u200cಸೈಡರ್ ಆಪಲ್ ಐಫೋನ್ ಎಸ್\\u200cಇ 2 ನಾವು ಇಲ್ಲಿಯವರೆಗೆ ತಿಳಿದಿರುವ ಎಲ್ಲವೂ ನವೀಕರಿಸಿದ ಫೋರ್ಬ್ಸ್ ಗೋರ್ಡಾನ್ ಕೆಲ್ಲಿ ಏತನ್ಮಧ್ಯೆ ಆಪಲ್ ಯಾವುದೇ ಅವಕಾಶಗಳನ್ನು ತೆಗೆದುಕೊಳ್ಳುತ್ತಿಲ್ಲ ಫೋರ್ಬ್ಸ್ನಲ್ಲಿ ಇನ್ನಷ್ಟು ಗೋರ್ಡಾನ್ ಅನ್ನು ಅನುಸರಿಸಿ ವ್ಯತ್ಯಾಸವೇನು\",0\\nಅದೇ ಸಮಯದಲ್ಲಿ ಕಂಪನಿಯು ತನ್ನ ಕ್ರೆಡಿಟ್ ಕಾರ್ಡ್ ಬ್ರ್ಯಾಂಡಿಂಗ್ ಮೇಲೆ ಕೇಂದ್ರೀಕರಿಸಿದೆ 8 ಮಿಲಿಯನ್ ಆಕ್ಟಿವ್ ಕಾರ್ಡ್\\u200cಗಳು ಎಂದರೆ ರಾಯಲ್ ಡಚ್\\u200cಗೆ ಸಾಕಷ್ಟು ನಿಷ್ಠರಾಗಿರುವ 8 ಮಿಲಿಯನ್ ಗ್ರಾಹಕರು ಅವಳು ನಿಯಮಿತವಾಗಿ ಹಿಂತಿರುಗುವರು. ಈಗಾಗಲೇ ಹೇಳಿದಂತೆ ನಾನು ಈ ಅವೆನ್ಯೂ ಕೆಳಗೆ ಪರಿವರ್ತಿಸುವ ಕಂಪನಿಯ ಅಗಾಧ ಅಭಿಮಾನಿ. ರಾಯಲ್ ಡಚ್\\u200cಗೆ ತನ್ನ ಭವಿಷ್ಯವನ್ನು ಇಲ್ಲಿ ಕಾಪಾಡಿಕೊಳ್ಳಲು ಇರುವ ಮಾರ್ಗಗಳು ಸಂಪೂರ್ಣವಾಗಿ ಅಗಾಧವಾಗಿವೆ ಎಂದು ಯೋಚಿಸಿ ಕಂಪನಿಯು ತನ್ನ ಬೃಹತ್ 25 ಬಿಲಿಯನ್ ಷೇರು ಮರುಖರೀದಿ ಕಾರ್ಯಕ್ರಮವನ್ನು ಪೂರ್ಣಗೊಳಿಸಲು ಯೋಜಿಸುತ್ತಿದೆ ಅದರ ಪ್ರಸ್ತುತ ಕಡಿಮೆ ಷೇರು ಬೆಲೆ ಮತ್ತು ಹೆಚ್ಚಿನ ಲಾಭಾಂಶವನ್ನು ನಾನು ನೋಡಲು ಬಯಸುತ್ತೇನೆ. ರಾಯಲ್ ಡಚ್ ಅವರು ವೈವಿಧ್ಯಗೊಳಿಸಲಿದ್ದಾರೆ ಆದರೆ ಬಲವಾದ ಷೇರುದಾರರ ಪ್ರತಿಫಲವನ್ನು ಗಳಿಸಲು ಕಂಪನಿಯು ಸ್ವತಃ ಉತ್ತಮವಾಗಿ ತಯಾರಿ ನಡೆಸುತ್ತಿದೆ ದಿನದ ಕೊನೆಯಲ್ಲಿ ರಾಯಲ್ ಡಚ್ ಅವರು ಗಮನಾರ್ಹ ಪ್ರಮಾಣದ ತೈಲವನ್ನು ಮಾರಾಟ ಮಾಡುತ್ತಾರೆ ಮತ್ತು ಇದರರ್ಥ ತೈಲ ಬೆಲೆಗಳ ಕುಸಿತಕ್ಕೆ ಕಂಪನಿಯು ಒಳಗಾಗುತ್ತದೆ,1\\nಕರೋನವೈರಸ್ ಭಯದಿಂದ ಮೆಕ್ಕಾಗೆ ಭೇಟಿ ನೀಡಲು ಬಯಸುವ ಯಾತ್ರಾರ್ಥಿಗಳಿಗೆ ಸೌದಿ ಅರೇಬಿಯಾ ಗುರುವಾರ ವೀಸಾಗಳನ್ನು ಅಮಾನತುಗೊಳಿಸಿದೆ ರಿಯಾಡ್ ಎಎಫ್\\u200cಪಿ ಸೌದಿ ಅರೇಬಿಯಾ ಗುರುವಾರ ಪರಿಧಮನಿಯ ಭಯದಿಂದ ಮೆಕ್ಕಾಕ್ಕೆ ಭೇಟಿ ನೀಡಲು ಬಯಸುವ ಯಾತ್ರಾರ್ಥಿಗಳಿಗೆ ವೀಸಾಗಳನ್ನು ಅಮಾನತುಗೊಳಿಸಿದೆ ಎಂದು ವಿದೇಶಾಂಗ ಸಚಿವಾಲಯ ತಿಳಿಸಿದೆ. ಅಲ್ಲಿ ಹೊಸ ವೈರಸ್ ಅಪಾಯವಾಗಿದೆ 15 ಜನರು ಅಧಿಕೃತವಾಗಿ COVID ಎಂದು ಕರೆಯಲ್ಪಡುವ ರೋಗಕ್ಕೆ ಬಲಿಯಾದ ಪ್ರದೇಶದ ಪ್ರಮುಖ ತಾಣವಾಗಿ ಇರಾನ್ ಹೊರಹೊಮ್ಮಿದೆ 19 ಕೊಲ್ಲಿ ರಾಜ್ಯಗಳಾದ ಕುವೈತ್ ಮತ್ತು ಬಹ್ರೇನ್ ಸಹ ಈ ವಾರ ಹೆಚ್ಚುವರಿ ಪ್ರಕರಣಗಳನ್ನು ಘೋಷಿಸಿವೆ,0\\n\"2016 ರ ನಿಮ್ಮ ಸ್ವಾಧೀನದಿಂದ ಕೆ ಆಧಾರಿತ ರಿಯಲ್ ಟೈಮ್ ಪಾವತಿ ನಾವೀನ್ಯಕಾರ ವೊಕಲಿಂಕ್ ಡ್ಯಾನಿಶ್ ಪಾವತಿ ಸಂಸ್ಥೆಯ ನೆಟ್ಸ್ ಕಾರ್ಪೊರೇಟ್ ವ್ಯವಹಾರದ 3 ಬಿಲಿಯನ್ ಡಾಲರ್ ಖರೀದಿಗೆ ಮಾಸ್ಟರ್\\u200cಕಾರ್ಡ್ ಇತಿಹಾಸದಲ್ಲಿ ಅತಿದೊಡ್ಡ ಸ್ವಾಧೀನವಾಗಿದೆ, ಕಂಪನಿಯು ವಕ್ರರೇಖೆಯ ಮುಂದೆ ಉಳಿಯಲು ಮತ್ತು ಅದರ ವೈವಿಧ್ಯತೆಯನ್ನು ಕಡಿಮೆ ಮಾಡಲು ಕಡಿಮೆ ಖರ್ಚನ್ನು ಉಳಿಸಿದೆ ಅದರ ಸಾಂಪ್ರದಾಯಿಕ ಬ್ರೆಡ್ ಮತ್ತು ಬೆಣ್ಣೆ ಕಾರ್ಡುಗಳ ವ್ಯವಹಾರವನ್ನು ಮೀರಿದ ಸೇವೆಗಳು ನಾವು 50 ವರ್ಷಗಳಲ್ಲಿ ಕ್ರೆಡಿಟ್ ಕಾರ್ಡ್\\u200cಗಳಲ್ಲಿ ವ್ಯವಹಾರವನ್ನು ನಿರ್ಮಿಸಿದ್ದೇವೆ ಮತ್ತು ಸಂಕೀರ್ಣವಾದದ್ದನ್ನು ಸರಳವಾಗಿ ಮಾಡಿದ್ದೇವೆ ಮೈಕೆಲ್ ಮೀಬಾಚ್ ಮಾಸ್ಟರ್\\u200cಕಾರ್ಡ್\\u200cನ ಮುಖ್ಯ ಉತ್ಪನ್ನ ಮತ್ತು ನಾವೀನ್ಯತೆ ಅಧಿಕಾರಿ ಕಳೆದ ಬೇಸಿಗೆಯಲ್ಲಿ ಫಾರ್ಚೂನ್\\u200cಗೆ ತಿಳಿಸಿದರು ಆದರೆ ಮೈಬ್ಯಾಕ್ ಬಂಗಾ ಅವರು ಮಾಸ್ಟರ್\\u200cಕಾರ್ಡ್ ಕಂಡುಕೊಂಡಿದ್ದಾರೆ ಎಂದು ನಂಬಿದ್ದಾರೆ ಉತ್ತಮವಾಗಿ ದುಂಡಾದ ಮತ್ತು ಅನುಭವಿ ಉತ್ತರಾಧಿಕಾರಿ, ಅವರ ಜ್ಞಾನವು ಬ್ಯಾಂಕಿಂಗ್ ಪಾವತಿ ಮತ್ತು ನಿಯಂತ್ರಣದ ಹೆಚ್ಚು ಸಾಂಪ್ರದಾಯಿಕ ಕ್ಷೇತ್ರಗಳನ್ನು ವ್ಯಾಪಿಸಿದೆ, 2010 ರಲ್ಲಿ ಮಾಸ್ಟರ್\\u200cಕಾರ್ಡ್\\u200cಗೆ ಸೇರುವ ಮೊದಲು ಸಿಟಿಬೂಪ್ ಮತ್ತು ಬಾರ್ಕ್ಲೇಸ್ ಎರಡರಲ್ಲೂ ಕೆಲಸ ಮಾಡಿದ ಮೈಬಾಕ್ ಮತ್ತು ನನ್ನ ವೃತ್ತಿಜೀವನದ ಕೊನೆಯ ದಶಕವನ್ನು ನಾನು ಮೀಸಲಿಟ್ಟಿರುವ ತಂತ್ರಜ್ಞಾನ ಮತ್ತು ಡೇಟಾದ ಹೆಚ್ಚು ಮುಂದಾಲೋಚನೆಯ ಕ್ಷೇತ್ರಗಳು ಪಾವತಿ ನಾವೀನ್ಯತೆಗೆ ಮೈಬಾಚ್ ಮಂಗಳವಾರ ಹೇಳಿದರು, ಅವರು ಅದ್ಭುತ ಒ ನೋಡುತ್ತಾರೆ ಕಂಪನಿಯ ವ್ಯವಹಾರವನ್ನು ಮುಂದಕ್ಕೆ ತಳ್ಳಲು 5 ಜಿ ಟೆಕ್ನಾಲಜಿ ಡಾಟಾ ಅನಾಲಿಟಿಕ್ಸ್ ಕೃತಕ ಬುದ್ಧಿಮತ್ತೆ ಮತ್ತು ಓಪನ್ ಬ್ಯಾಂಕಿಂಗ್\\u200cನ ಸಾಮರ್ಥ್ಯದಲ್ಲಿನ ಸಾಮರ್ಥ್ಯವು ವೀಸಾ ಅಲ್ ಕೆಲ್ಲಿಯಲ್ಲಿ ಶೀಘ್ರದಲ್ಲೇ ಪ್ರತಿರೂಪವಾಗಲಿದೆ. ಯಾವುದೇ ಸಂಸ್ಥೆಗೆ ಹಣದ ಚಲನೆಯತ್ತ ತನ್ನದೇ ಆದ ಸಂಸ್ಥೆಯ ಗಮನವನ್ನು ಮರುಸಂಗ್ರಹಿಸುವ ಬಯಕೆಯನ್ನು ಗಮನಿಸಿ. ಪ್ರಪಂಚದಾದ್ಯಂತದ ಉದ್ದೇಶ ಮಾಸ್ಟರ್\\u200cಕಾರ್ಡ್\\u200cನ ಹೊಸ ಸಿಇಒ ಅವರು ಫಿನ್ಟೆಕ್ ಶಸ್ತ್ರಾಸ್ತ್ರ ಸ್ಪರ್ಧೆಯ ದಪ್ಪದಲ್ಲಿ ಕಾಣುತ್ತಾರೆ, ಅದು ಹಣಕಾಸು ಸೇವೆಗಳ ಉದ್ಯಮದ ಪ್ರತಿಯೊಂದು ಮೂಲೆಯನ್ನೂ ವ್ಯಾಪಿಸುತ್ತದೆ\",1\\n\"ಫೆಬ್ರವರಿ 27 ರಾಯಿಟರ್ಸ್ ಕೆನಡಾದ ಮುಖ್ಯ ಸ್ಟಾಕ್ ಇಂಡೆಕ್ಸ್ ಫ್ಯೂಚರ್\\u200cಗಳು ಗುರುವಾರ ಕುಸಿದಿದ್ದು, ಚೀನಾದ ಹೊರಗಿನ ಕೊರೊನಾವೈರಸ್ ಪ್ರಕರಣಗಳ ಏರಿಕೆಯಿಂದಾಗಿ ಬೇಡಿಕೆಯ ಚಿಂತೆಗಳ ಮೇಲೆ ತೈಲ ಬೆಲೆಗಳು 2 ಕುಸಿದವು. ಮಾರ್ಚ್ ಎಸ್\\u200cಪಿ ಟಿಎಸ್\\u200cಎಕ್ಸ್ ಸೂಚ್ಯಂಕದ ಭವಿಷ್ಯವು ಬೆಳಿಗ್ಗೆ 0 00 ಕ್ಕೆ ಇಳಿದಿದೆ. ಕೆನಡಾ ತನ್ನ ಹಣಕಾಸು ಮಾರುಕಟ್ಟೆಗಳು ಮತ್ತು ಸಂಪತ್ತು ನಿರ್ವಹಣಾ ಘಟಕಗಳ ಬೆಳವಣಿಗೆಯಿಂದ ತ್ರೈಮಾಸಿಕ ಲಾಭದ ಅಂದಾಜುಗಳನ್ನು ಗುರುವಾರ ಸೋಲಿಸಿದೆ. ಟಿಡಿ ಬ್ಯಾಂಕ್ ಗ್ರೂಪ್ ಗುರುವಾರ ತ್ರೈಮಾಸಿಕ ಲಾಭದಲ್ಲಿ 24 ಏರಿಕೆ ದಾಖಲಿಸಿದೆ. ಮಾರುಕಟ್ಟೆ ಮೌಲ್ಯದಿಂದ ಕೆನಡಾದ ಎರಡನೇ ಅತಿದೊಡ್ಡ ಸಾಲಗಾರ ತನ್ನ ಸಗಟು ಬ್ಯಾಂಕಿಂಗ್ ಘಟಕ ಅನಾಲಿಸ್ಟ್\\u200cನಲ್ಲಿನ ಪ್ರಬಲ ಕಾರ್ಯಕ್ಷಮತೆಯಿಂದ ಲಾಭ ಪಡೆದಿದೆ. ಸಂಶೋಧನಾ ಹೈಲೈಟ್ಸ್ ಕೆನಡಿಯನ್ ಇಂಪೀರಿಯಲ್ ಬ್ಯಾಂಕ್ ಆಫ್ ಕಾಮರ್ಸ್ ಸ್ಕಾಟಿಯಾಬ್ಯಾಂಕ್ ಸಿ 119 ರಿಂದ ಟಾರ್ಗೆಟ್ ಬೆಲೆಯನ್ನು ಸಿ 119 ಕ್ಕೆ ಏರಿಸಿದೆ ನಾರ್ತ್ಲ್ಯಾಂಡ್ ಪವರ್ ಇಂಕ್ ಆರ್ಬಿಸಿ ಸಿ 28 ರಿಂದ ಸಿ 33 ಗೆ ಗುರಿ ಬೆಲೆಯನ್ನು ಹೆಚ್ಚಿಸಿದೆ. ಫ್ರೆಶಿಯಿ ಇಂಕ್ ಸಿಐಬಿಸಿ ಸಿ 3 ಕಮೊಡಿಟೈಸ್ನಿಂದ ಸಿ 2 50 ಕ್ಕೆ ಗುರಿ ಬೆಲೆಯನ್ನು ಸಿ 3 50 ಕ್ಕೆ ಇಳಿಸುತ್ತದೆ. ಫ್ಯೂಚರ್ಸ್ 1651 1 0 49 ಯುಎಸ್ ಕಚ್ಚಾ 47 53 2 46 ಬ್ರೆಂಟ್ ಕಚ್ಚಾ 52 13 2 43 ನೀವು ಎಸ್ ಎಕಾನಮಿಕ್ ಡಾಟಾ ಗುರುವಾರ ಗುರುವಾರ 0830 ಜನರಿಗಾಗಿ ಬಾಳಿಕೆ ಬರುವ ಸರಕುಗಳು ನಿರೀಕ್ಷಿತ 1 5 ಮೊದಲು 2 4 0830 ಬಾಳಿಕೆ ಬರುವ ವಸ್ತುಗಳು ಜನ ನಿರೀಕ್ಷಿತ 0 2 ಮೊದಲು 0 1 0830 ಜನರಿಗಾಗಿ ಡ್ಯುರಬಲ್ಸ್ ಎಕ್ಸ್ ಡಿಫೆನ್ಸ್ ಎಂಎಂ 2 4 0830 ಜನನಿಗಾಗಿ ನಾನ್ ಡಿಫೆನ್ಸ್ ಕ್ಯಾಪ್ ಎಕ್ಸ್ ಏರ್ ನಿರೀಕ್ಷಿತ 0 1 ಮೊದಲು 0 8 0830 ಕ್ಯೂ 4 ಗಾಗಿ ಜಿಡಿಪಿ 2 ನೇ ಅಂದಾಜು 2 1 ಮೊದಲು 2 1 0830 ಕ್ಯೂ 4 ಮೊದಲು 3 ಜಿಡಿಪಿ ಮಾರಾಟ ಪೂರ್ವಭಾವಿ 2 0830 ಕ್ಯೂಡಿ 4 ಗೆ ಜಿಡಿಪಿ ಕಾನ್ಸ್ ಪೂರ್ವಭಾವಿ ಖರ್ಚು 1 8 0830 ಕ್ಯೂ 4 ಗಾಗಿ ಜಿಡಿಪಿ ಡಿಫ್ಲೇಟರ್ ಪೂರ್ವಭಾವಿ ನಿರೀಕ್ಷಿತ 1 4 ಮೊದಲು 1 5 0830 ಕೋರ್ ಪಿಸಿಇ ಬೆಲೆಗಳು ಕ್ಯೂ 4 ಗೆ ಪೂರ್ವಭಾವಿ 1 3 ಮೊದಲು 1 3 0830 ಕ್ಯೂ 4 ಪೂರ್ವಭಾವಿ 1 6 0830 ಆರಂಭಿಕ ನಿರುದ್ಯೋಗ ಹಕ್ಕುಗಳು ನಿರೀಕ್ಷಿತ 212000 ಮೊದಲು 210000 0830 ನಿರುದ್ಯೋಗ ಹಕ್ಕುಗಳು 4 ವಾರಗಳ ಸರಾಸರಿ ಮೊದಲು 209000 0830 ಮುಂದುವರಿದ ನಿರುದ್ಯೋಗ ಹಕ್ಕುಗಳು ನಿರೀಕ್ಷಿತ 1 715 ಮಿಲಿಯನ್ ಮೊದಲು 1 726 ಮಿಲಿಯನ್ 1000 ಜನವರಿಯ ಬಾಕಿ ಉಳಿದಿರುವ ಮನೆಗಳ ಸೂಚ್ಯಂಕ 103 2 1000 ಜನರಿಗಾಗಿ ಬಾಕಿ ಇರುವ ಮಾರಾಟ ಬದಲಾವಣೆ ಎಂಎಂ ನಿರೀಕ್ಷಿತ 2 2 ಮೊದಲು 4 9 1100 ಕೆಸಿ ಫೆಡ್ ಉತ್ಪಾದನೆ ಫೆಬ್ರವರಿ ಮೊದಲು 4 1100 ಕೆಸಿ ಫೆಡ್ ಸಂಯೋಜಿತ ಸೂಚ್ಯಂಕ ಫೆಬ್ರವರಿ ಮೊದಲು ಕೆನಡಾದ ಮಾರುಕಟ್ಟೆಗಳ ಸುದ್ದಿಗಳಿಗಾಗಿ ಕೋಡ್\\u200cಗಳ ಮೇಲೆ ಕ್ಲಿಕ್ ಮಾಡಿ ಟಿಎಸ್\\u200cಎಕ್ಸ್ ಮಾರುಕಟ್ಟೆ ವರದಿ ಕೆನಡಿಯನ್ ಡಾಲರ್ ಮತ್ತು ಬಾಂಡ್\\u200cಗಳ ವರದಿ ಕೆನಡಾದ ಕೆನಡಾದ ಮಾರುಕಟ್ಟೆಗಳ ಡೈರೆಕ್ಟರಿಗಾಗಿ ರಾಯಿಟರ್ಸ್ ಜಾಗತಿಕ ಷೇರುಗಳ ಸಮೀಕ್ಷೆ 1 ಸಿ 1 33 ಪೂಜಾ ಕೇಶವನ್ ಅವರ ವರದಿ ಬೆಂಗಳೂರು ಸಂಪಾದನೆಯಲ್ಲಿ ಬರ್ನಾರ್ಡ್ ಓರ್\",1\\n\"ಫೈಲ್ ಫೋಟೋ ಹಾಲಿಡೇ ಶಾಪರ್\\u200cಗಳು ಆರ್ಲಿಂಗ್ಟನ್ ವರ್ಜೀನಿಯಾದ ಪೆಂಟಗನ್ ಸೆಂಟರ್ ಶಾಪಿಂಗ್ ಮಾಲ್\\u200cನಲ್ಲಿ ಬೆಸ್ಟ್ ಬೈ ಸ್ಟೋರ್ ಅನ್ನು ಬಿಡುತ್ತಾರೆ ನೀವು ನವೆಂಬರ್ 29 2019 ರಾಯಿಟರ್ಸ್ ಲೊರೆನ್ ಎಲಿಯಟ್ ರಾಯಿಟರ್ಸ್ ಬೆಸ್ಟ್ ಬೈ ಕೋ ಇಂಕ್ ಬಿಬಿವೈ ಎನ್ ತ್ರೈಮಾಸಿಕ ಅದೇ ಅಂಗಡಿ ಮಾರಾಟ ಅಂದಾಜುಗಳನ್ನು ಗುರುವಾರ ಪ್ರಬಲ ಆನ್\\u200cಲೈನ್ ಮತ್ತು ಅಪ್ಲಿಕೇಶನ್ ಮಾರಾಟದಲ್ಲಿ ಮೀರಿಸಿದೆ ಇಟ್ಟಿಗೆ ಮತ್ತು ಗಾರೆ ಚಿಲ್ಲರೆ ವ್ಯಾಪಾರಿಗಳಿಗೆ ನಿರಾಶಾದಾಯಕ ರಜಾದಿನಗಳು ಆದಾಗ್ಯೂ, ವರ್ಷದ ಮೊದಲಾರ್ಧದಲ್ಲಿ ಕೊರೊನಾವೈರಸ್ ಏಕಾಏಕಿ ಆರ್ಥಿಕ ಹಿಟ್ ತೆಗೆದುಕೊಳ್ಳಲಿದೆ ಎಂದು ಕಂಪನಿಯು ಹೇಳಿದೆ ಮತ್ತು ಹಣಕಾಸಿನ 2021 ರ ಮುನ್ಸೂಚನೆ 2021 ರ ವಾಲ್ ಸ್ಟ್ರೀಟ್\\u200cನ ನಿರೀಕ್ಷೆಗಳೊಂದಿಗೆ ಹೋಲಿಸಿದರೆ ಫ್ಲಾಟ್\\u200cನ ಅದೇ ಅಂಗಡಿ ಮಾರಾಟದ ಬೆಳವಣಿಗೆ 2 ಕ್ಕೆ ಫೆಬ್ರವರಿ 1 ಕ್ಕೆ ಕೊನೆಗೊಂಡ ನಾಲ್ಕನೇ ತ್ರೈಮಾಸಿಕದಲ್ಲಿ ಬೆಸ್ಟ್ ಬೈನ ಒಟ್ಟಾರೆ ಅದೇ ಅಂಗಡಿ ಮಾರಾಟವು 3% ಏರಿಕೆಯಾಗಿದೆ.\",1\\n\"ಯುರೋ ವಲಯ ಪರಿಧಿಯ ಸರ್ಕಾರಿ ಬಾಂಡ್ ಇಳುವರಿ tmsnrt rs 2ii2Bqr ನವೀಕರಣಗಳ ಬೆಲೆಗಳು ಗ್ರಾಫಿಕ್ ಅನ್ನು ಸೇರಿಸುತ್ತವೆ ಬೈ ಸೈಕತ್ ಚಟರ್ಜಿ ಲಂಡನ್ ಫೆಬ್ರವರಿ 27 ರಾಯಿಟರ್ಸ್ ಯುರೋಪಿಯನ್ ಸರ್ಕಾರದ ಬಾಂಡ್ ಇಳುವರಿ ಗುರುವಾರ ಕುಸಿದಿದ್ದು, ಜರ್ಮನಿಯ ಮಾನದಂಡ ಸಾಲ ಇಳುವರಿ ನಾಲ್ಕು ತಿಂಗಳಿಗಿಂತಲೂ ಕಡಿಮೆ ಅವಧಿಯಲ್ಲಿ ಜರ್ಮನಿಯ ಮಾನದಂಡದ ಸಾಲ ಇಳುವರಿ ಕುಸಿಯಿತು. ಮಾನದಂಡದ ಮೇಲಿನ ಇಳುವರಿ ಜರ್ಮನ್ 10 ವರ್ಷದ ಮೆಚುರಿಟಿಗಳು ಅಕ್ಟೋಬರ್ ಆರಂಭದಲ್ಲಿ 2 0 ಬಿಪಿಗಳಿಗಿಂತಲೂ ಹೆಚ್ಚು ಕುಸಿದು 0 5230 ಕ್ಕೆ ತಲುಪಿದ್ದವು, ಹಿಂದಿನ ಅಧಿವೇಶನದಲ್ಲಿ ತಲುಪಿದ 0 472 ರಷ್ಟಿತ್ತು. ಜರ್ಮನ್ ಸಾಲ ಮತ್ತು ಅನುಗುಣವಾದ ಇಟಾಲಿಯನ್ ಬಾಂಡ್\\u200cಗಳ ನಡುವೆ ಇಳುವರಿ ಹರಡುವುದು 151 ಬೇಸಿಸ್ ಪಾಯಿಂಟ್\\u200cಗಳಿಗಿಂತ ಒಂದು ತಿಂಗಳ ಗರಿಷ್ಠಕ್ಕೆ ವಿಸ್ತರಿಸಿದೆ. ಬೆಂಚ್\\u200cಮಾರ್ಕ್ ಇಟಾಲಿಯನ್ ಬಾಂಡ್ ಇಳುವರಿ 3 ಬಿಪಿಎಸ್ ಏರಿಕೆಯಾಗಿ 1 038 ಕ್ಕೆ ತಲುಪಿದೆ\",0\\n\"ಬೆಸ್ಟ್ ಬೈ ನಿರೀಕ್ಷಿತ ನಾಲ್ಕನೇ ತ್ರೈಮಾಸಿಕ ಫಲಿತಾಂಶಗಳಿಗಿಂತ ಉತ್ತಮವಾಗಿ ವರದಿ ಮಾಡಿದೆ ಮತ್ತು ಕೊರೊನಾವೈರಸ್\\u200cನಿಂದ ಉಂಟಾಗುವ ಯಾವುದೇ ಅಡೆತಡೆಗಳು ತಾತ್ಕಾಲಿಕವಾಗಿ ಕಳುಹಿಸುವ ಷೇರುಗಳನ್ನು ಹೆಚ್ಚಿಸುತ್ತವೆ ಎಂದು ಹೇಳಿದರು BBYBEST BUY82 18 0 29 0 35 ರಿಚ್\\u200cಫೀಲ್ಡ್ ಮಿನ್ನೇಸೋಟ ಮೂಲದ ಎಲೆಕ್ಟ್ರಾನಿಕ್ಸ್ ಚಿಲ್ಲರೆ ತನ್ನ ನಾಲ್ಕನೇ ತ್ರೈಮಾಸಿಕ ಲಾಭವು 1 ಶೇಕಡಾ ಏರಿಕೆಯಾಗಿ 745 ದಶಲಕ್ಷಕ್ಕೆ ಅಥವಾ 2 84 ಒಂದು ಪಾಲು ಹೊಂದಾಣಿಕೆಯ ಗಳಿಕೆ 2 90 ಒಂದು ಪಾಲು ಮತ್ತು 15 2 ಬಿಲಿಯನ್ ಆದಾಯವು 2 7 ಪ್ರತಿಶತದಷ್ಟು ಹೆಚ್ಚಳವು ನಿರೀಕ್ಷಿತಕ್ಕಿಂತ ಉತ್ತಮವಾಗಿದೆ ದೇಶೀಯ ಹೋಲಿಕೆ ಮಾರಾಟವು ಒಂದು ವರ್ಷದ ಹಿಂದೆ 3 ಶೇಕಡಾ ಏರಿಕೆಯಾಗಿದೆ ಮತ್ತು ದೇಶೀಯ ಹೋಲಿಸಬಹುದಾದ ಆನ್\\u200cಲೈನ್ ಮಾರಾಟವು 18 ಶೇಕಡಾ ಏರಿಕೆಯಾಗಿ 3 52 ಕ್ಕೆ ತಲುಪಿದೆ ಬಿಲಿಯನ್ ಒಟ್ಟಾರೆ ಅದೇ ಅಂಗಡಿಗಳ ಮಾರಾಟವು 3 ಶೇಕಡಾ ಏರಿಕೆಯಾಗಿದ್ದು, ನಿರೀಕ್ಷಿತ ಲಾಭವನ್ನು 1 ಶೇಕಡಾ ಮೀರಿಸಿದೆ\",1\\nಅನಿರ್ದಿಷ್ಟ ಅನಾರೋಗ್ಯದ ಕಾರಣ ಪೋಪ್ ಫ್ರಾನ್ಸಿಸ್ ರೋಮ್ನಲ್ಲಿ ಪಾದ್ರಿಗಳೊಂದಿಗೆ ಯೋಜಿತ ಮಾಸ್ ಅನ್ನು ತಪ್ಪಿಸಿಕೊಂಡಿದ್ದಾನೆ ವ್ಯಾಟಿಕನ್ನಿಂದ ಅವನ ಅನಾರೋಗ್ಯದ ಸ್ವರೂಪದ ಬಗ್ಗೆ ಯಾವುದೇ ಮಾತುಗಳಿಲ್ಲ ಆದರೆ ಬೂದಿ ಬುಧವಾರದಂದು ಪೋಪ್ ಕೆಮ್ಮುವುದು ಮತ್ತು ಮೂಗು ಬೀಸುತ್ತಿರುವುದು ಕಂಡುಬಂತು. ಇತ್ತೀಚೆಗೆ ಬುಧವಾರ ಅವರ ಸಾರ್ವಜನಿಕ ಸಾಮಾನ್ಯ ಪ್ರೇಕ್ಷಕರು ಮತ್ತು ನಂತರದ ದಿನಗಳಲ್ಲಿ ರೋಮನ್ ಬೆಸಿಲಿಕಾದಲ್ಲಿ ಬೂದಿ ಬುಧವಾರದ ಸೇವೆಯನ್ನು ಒಳಗೊಂಡಂತೆ ಕೆಲವು ಲೆಂಟ್ ಬೂದಿ ಬುಧವಾರ ಸೇವೆಗಳನ್ನು ರದ್ದುಗೊಳಿಸಲಾಯಿತು ಅಥವಾ ಉತ್ತರ ಇಟಲಿಯ ಪ್ರದೇಶಗಳಲ್ಲಿ ಸೀಮಿತಗೊಳಿಸಲಾಯಿತು ಮತ್ತು ಕೊರೊನಾವೈರಸ್ ಹರಡುವಿಕೆಯಿಂದಾಗಿ ಹಲವಾರು ಜನರು ಸೇಂಟ್ ಪೀಟರ್\\u200cನಲ್ಲಿ ಮುಖವಾಡಗಳನ್ನು ಧರಿಸಿದ್ದರು ನಿನ್ನೆ ಪ್ರೇಕ್ಷಕರಲ್ಲಿ ಸ್ಕ್ವೇರ್ ಆದರೆ ಪೋಪ್ನ ಬೂದಿ ಬುಧವಾರ ಸೇವೆಯಲ್ಲಿ ಒಬ್ಬ ವ್ಯಕ್ತಿ ಮಾತ್ರ ಧರಿಸಿರುವುದು ಕಂಡುಬಂದಿದೆ,0\\nಜಾಗತಿಕ ಕರೋನವೈರಸ್ ಏಕಾಏಕಿ ಅದರ ದೃಷ್ಟಿಕೋನಕ್ಕೆ ಏಕಾಏಕಿ ಉಂಟಾದ ನಿರ್ವಹಣಾ ಅಂಶಗಳ ನಂತರ ಅನ್ಹ್ಯೂಸರ್ ಬುಶ್ ಎನ್\\u200cವೈಎಸ್\\u200cಇ ಬಡ್ ತೀವ್ರವಾಗಿ ಕುಸಿಯುತ್ತದೆ ಆದರೆ ಬಿಯರ್ ದೈತ್ಯ ತನ್ನ ವ್ಯವಹಾರದ ಮೇಲೆ ಏಕಾಏಕಿ ಪರಿಣಾಮವು 285 ಎಂ ಆದಾಯವನ್ನು ಮುಂದುವರೆಸುತ್ತಿದೆ ಮತ್ತು 170 ಎಮ್\\u200cನ ಇಬಿಐಟಿಡಿಎ ಈಗಾಗಲೇ ಚೀನಾದಲ್ಲಿ ಕಳೆದುಹೋಗಿದೆ ಕರೋನವೈರಸ್ ಮತ್ತು ಬ್ರೆಜಿಲ್ನಂತಹ ಕೆಲವು ಪ್ರದೇಶಗಳಲ್ಲಿ ಹೋಲಿಸಬಹುದಾದ ಕಠಿಣತೆಯಿಂದಾಗಿ ಕ್ಯೂ 1 ಇಬಿಐಟಿಡಿಎ ಸುಮಾರು 10 ವರ್ಷಗಳು ಕಡಿಮೆಯಾಗಲಿದೆ ಎಂದು ಎಬಿ ನಿರೀಕ್ಷಿಸುತ್ತಿದೆ. ಕಂಪನಿಯು ಇಬಿಐಟಿಡಿಎ ಬೆಳವಣಿಗೆಯನ್ನು 2 ರಿಂದ 5 ರವರೆಗೆ ಪೂರ್ಣ ವರ್ಷಕ್ಕೆ ನಿರೀಕ್ಷಿಸುತ್ತದೆ BUD ಯ ಷೇರುಗಳು 61 05 ಕ್ಕೆ ಪೂರ್ವ ಮಾರುಕಟ್ಟೆಯಾಗಿದೆ,0\\nಸಿಡಿಸಿ ಇನ್ಫೋಗ್ರಾಫಿಕ್ ಮುಖವಾಡಗಳ ಪ್ರಕಾರ ಸೈಡ್ ವಿಸ್ಕರ್ಸ್ ಸೋಲ್ ಪ್ಯಾಚ್ ಲ್ಯಾಂಪ್\\u200cಶೇಡ್\\u200cಗಳು ಮತ್ತು ಹ್ಯಾಂಡಲ್\\u200cಬಾರ್ ಮೀಸೆಗಳು ಹೋಗುವುದು ಒಳ್ಳೆಯದು ಮತ್ತು ಜಾಗತಿಕವಾಗಿ 80000 ಕ್ಕೂ ಹೆಚ್ಚು ಪ್ರಕರಣಗಳನ್ನು ತಲುಪಿದ ಕರೋನವೈರಸ್ ಕಾದಂಬರಿಯ ಹರಡುವಿಕೆಯನ್ನು ತಡೆಗಟ್ಟಲು ವಿಶ್ವದಾದ್ಯಂತ ಉಸಿರಾಟಕಾರಕಗಳನ್ನು ಬಳಸಲಾಗುತ್ತಿದೆ. ಉಸಿರಾಟಕಾರಕವು ಕನಿಷ್ಠ ಮೂಗು ಮತ್ತು ಬಾಯಿ ಮತ್ತು ಸಾಂಕ್ರಾಮಿಕ ಏಜೆಂಟ್ ಸೇರಿದಂತೆ ಕಣಗಳಿಂದ ರಕ್ಷಿಸುತ್ತದೆ ಸಿಡಿಸಿ ಮುಖದ ಕೂದಲು ಉಸಿರಾಟದ ಪರಿಣಾಮಕಾರಿತ್ವಕ್ಕೆ ಅಪಾಯವನ್ನುಂಟುಮಾಡುತ್ತದೆ ಏಕೆಂದರೆ ಇಬ್ಬರೂ ಇನ್ಫೋಗ್ರಾಫಿಕ್ ಅನ್ನು ಸಂಪರ್ಕಿಸಿದರೆ ಉಸಿರಾಟದ ಕವಾಟವನ್ನು ಸರಿಯಾಗಿ ಕಾರ್ಯನಿರ್ವಹಿಸದಂತೆ ಮಾಡುತ್ತದೆ ಎಂದು ಹೇಳಿದರು. ಶೈಲಿಯ ಆಯ್ಕೆಯ ಹೊರತಾಗಿಯೂ ಕೂದಲು ದಾಟಬಾರದು ಇನ್ಫೋಗ್ರಾಫಿಕ್ ಹೇಳಿದ ಉಸಿರಾಟದ ಸೀಲಿಂಗ್ ಮೇಲ್ಮೈ,0\\nಪೋಪ್ ಫ್ರಾನ್ಸಿಸ್ ಅವರು ಅನಾರೋಗ್ಯದಿಂದ ಬಳಲುತ್ತಿದ್ದರಿಂದ ಇಂದು ಒಂದು ರಾಶಿಯನ್ನು ರದ್ದುಗೊಳಿಸಿದ್ದಾರೆ 83 ವರ್ಷದ ಮಠಾಧೀಶರು ರೋಮ್ನ ಇನ್ನೊಂದು ಬದಿಯಲ್ಲಿರುವ ಸೇಂಟ್ ಜಾನ್ ಲ್ಯಾಟೆರನ್ ಬೆಸಿಲಿಕಾದಲ್ಲಿ ಪಾದ್ರಿಗಳೊಂದಿಗೆ ಪೂಜಿಸಬೇಕಾಗಿತ್ತು ಆದರೆ ವ್ಯಾಟಿಕನ್ನಲ್ಲಿ ಮನೆಯಲ್ಲಿಯೇ ಇದ್ದರು ಎಂಬುದು ಅವರ ಸ್ಪಷ್ಟತೆ ರೋಗಲಕ್ಷಣಗಳು ಆದರೆ ಸೇಂಟ್ ಪೀಟರ್ಸ್ನಲ್ಲಿ ನಿನ್ನೆ ಬೂದಿ ಬುಧವಾರದ ಸೇವೆಯ ಸಮಯದಲ್ಲಿ ಅವರು ಮೂಗು ing ದುವಂತೆ ಮತ್ತು ಬಾಯಿ ಮುಚ್ಚಿಕೊಳ್ಳುತ್ತಿರುವುದು ಕಂಡುಬಂತು. ಸೇಂಟ್ ಪೀಟರ್ಸ್ ಸ್ಕ್ವೇರ್ ರೋಮ್ನಲ್ಲಿ ದೊಡ್ಡ ಜನಸಮೂಹವನ್ನು ಸ್ವಾಗತಿಸುತ್ತಿದ್ದಂತೆ ಫ್ರಾನ್ಸಿಸ್ ಉತ್ತಮ ಉತ್ಸಾಹದಿಂದ ಕಾಣಿಸಿಕೊಂಡರು.,0\\n\"COVID 19 ರ ಬಗ್ಗೆ ಉತ್ತರ ಕೆರೊಲಿನಾ ಅಧಿಕಾರಿಗಳು ನಿವಾಸಿಗಳಿಗೆ ಮತ್ತು ವ್ಯವಹಾರಗಳಿಗೆ ಸಂದೇಶ ಕೊರೋನವೈರಸ್ ನೀವು ಅದರ ಬಗ್ಗೆ ಯೋಚಿಸಲು ಪ್ರಾರಂಭಿಸದಿದ್ದರೆ ಇದು ಪ್ರಾರಂಭಿಸುವ ಸಮಯ ಎಂದು ನಿರ್ದಿಷ್ಟವಾಗಿ ವ್ಯವಹಾರಗಳ ಅಧಿಕಾರಿಗಳು ಹೇಳಿದರು, ಇದು ಮಾನವ ಸಂಪನ್ಮೂಲ ಕೈಪಿಡಿಗಳನ್ನು ಮುರಿಯಲು ಮತ್ತು ಉದ್ಯೋಗಿಗಳಿಗೆ ಅವರ ಆಯ್ಕೆಗಳನ್ನು ತಿಳಿದಿದೆಯೇ ಎಂದು ಖಚಿತಪಡಿಸಿಕೊಳ್ಳಿ ಟೆಲಿಹೆಲ್ತ್ ಮತ್ತು ದೂರದಿಂದ ಕೆಲಸ ಮಾಡುವುದು ಬುಧವಾರ ಮಧ್ಯಾಹ್ನ ಗೋವ್ ರಾಯ್ ಕೂಪರ್ ಅವರ ಕರೋನವೈರಸ್ ಟಾಸ್ಕ್ ಫೋರ್ಸ್ನ ಸಹ ಕುರ್ಚಿಗಳು ಉತ್ತರ ಕೆರೊಲಿನಾ ನಿವಾಸಿಗಳಿಗೆ ಕೆಲವು ಸೀಮಿತ ಕ್ರಮಗಳನ್ನು ಪ್ರಾರಂಭಿಸಲು ಒತ್ತಾಯಿಸಿದರು\",0\\n\"ಬೀಜಿಂಗ್ ರಾಯಿಟರ್ಸ್ ಕರೋನೊವೈರಸ್ ಏಕಾಏಕಿ ಮಧ್ಯೆ ವಾಂಗ್ ಕ್ಸುರೊಂಗ್ ಚೀನಾದ ರಾಜಧಾನಿಯ ಸುತ್ತ ಪ್ರಯಾಣಿಕರನ್ನು ಓಡಿಸುತ್ತಿದ್ದಂತೆ, ಆಕೆ ತನ್ನ ಪ್ರಯಾಣಿಕರಿಂದ ಬೇರ್ಪಡಿಸುವ ಪ್ಲಾಸ್ಟಿಕ್ ಹಾಳೆಯನ್ನು ರಕ್ಷಿಸಿದಳು. ಚೀನಾದ ಸವಾರಿ ಹೇಲಿಂಗ್ ದೈತ್ಯ ದೀದಿ ಚುಕ್ಸಿಂಗ್ ಅವರ ಅಭಿಯಾನದ ಭಾಗವಾಗಿ ವಾಂಗ್ ಕಳೆದ ವಾರ ಹಾಳೆಯನ್ನು ಸ್ಥಾಪಿಸಿದ್ದಾನೆ. ಚಾಲಕರಿಗೆ ಯಾವುದೇ ಶುಲ್ಕವಿಲ್ಲದೆ ಬೀಜಿಂಗ್\\u200cನಲ್ಲಿ ದಿನಕ್ಕೆ 100 ರಿಂದ 200 ಗುರಾಣಿಗಳನ್ನು ಸ್ಥಾಪಿಸುತ್ತಿದೆ ಎಂದು ಕಂಪನಿ ಹೇಳಿದೆ. ಪ್ಲಾಸ್ಟಿಕ್ ಕೈಗವಸುಗಳು ಮುಖವಾಡಗಳು ಮತ್ತು ಇತರ ರಕ್ಷಣಾತ್ಮಕ ಸಾಧನಗಳನ್ನು ಚಾಲಕರಿಗೆ ಒದಗಿಸುತ್ತದೆ ಎಂದು ಕಂಪನಿಯು ಹೇಳಿದೆ. ಏಕಾಏಕಿ ವಾಂಗ್ 43 ಗುರುವಾರ ತನ್ನ ಬಿಳಿ ಟೊಯೋಟಾವನ್ನು ಓಡಿಸುತ್ತಿದೆ ಎಂದು ಹೇಳಿದರು ಕೊರೊಲ್ಲಾ ಪ್ರತಿದಿನ 8 ರಿಂದ 10 ಗಂಟೆಗಳವರೆಗೆ ಮತ್ತು ಪ್ರತಿ ನಾಲ್ಕು ಗಂಟೆಗಳಿಗೊಮ್ಮೆ ಅದನ್ನು ಸೋಂಕುರಹಿತಗೊಳಿಸುತ್ತದೆ ಕೊರೊನಾವೈರಸ್ ಏಕಾಏಕಿ ಚೀನಾದಲ್ಲಿ ಸುಮಾರು 78500 ಜನರಿಗೆ 2744 ಸಾವುನೋವುಗಳನ್ನು ಉಂಟುಮಾಡಿದೆ\",1\\n\"ಬೇಡಿಕೆ ಹೆಚ್ಚಾದಂತೆ ದಕ್ಷಿಣ ಕೊರಿಯಾ ಡ್ರೈವ್ ಥ್ರೂ ಕೊರೊನವೈರಸ್ ಪರೀಕ್ಷಾ ಸೌಲಭ್ಯಗಳನ್ನು ಪ್ರಾರಂಭಿಸಿದೆ ದಕ್ಷಿಣ ಕೊರಿಯಾದಲ್ಲಿ ದಕ್ಷಿಣ ಕೊರಿಯಾದಲ್ಲಿ ಹೆಚ್ಚುತ್ತಿರುವ ಸ್ಥಳೀಯ ಸರ್ಕಾರಗಳು ಈ ವಾರ ರಸ್ತೆಬದಿಯ ಪರೀಕ್ಷಾ ಸೌಲಭ್ಯಗಳನ್ನು ಪ್ರಾರಂಭಿಸುತ್ತಿವೆ, ಏಕೆಂದರೆ ತಪಾಸಣೆಗಾಗಿ ಬೇಡಿಕೆ ಹೆಚ್ಚಾಗುತ್ತದೆ ಮತ್ತು ಕಾಯುವ ಸಮಯ ಹೆಚ್ಚಾಗುವುದು ಸೋಂಕಿನ ಅಪಾಯವನ್ನು ಹೆಚ್ಚಿಸುತ್ತದೆ. ರಾಜಧಾನಿ ಸಿಯೋಲ್\\u200cನ ವಾಯುವ್ಯ ದಿಕ್ಕಿನಲ್ಲಿ ಸುಮಾರು 16 ಕಿ.ಮೀ ದೂರದಲ್ಲಿರುವ ಗೊಯಾಂಗ್\\u200cನಲ್ಲಿ ತಾತ್ಕಾಲಿಕ ಪರೀಕ್ಷಾ ಸೌಲಭ್ಯವನ್ನು ತೆರೆಯಲಾಯಿತು ಬುಧವಾರ ಸಾರ್ವಜನಿಕ ಪಾರ್ಕಿಂಗ್ ಸ್ಥಳದಲ್ಲಿ 100 ಕ್ಕೂ ಹೆಚ್ಚು ನಿವಾಸಿಗಳು ಪ್ರತಿದಿನ ಪರೀಕ್ಷೆಗೆ ಒಳಪಡುತ್ತಾರೆ ಎಂದು ನಗರ ಹೇಳಿಕೆಯೊಂದರಲ್ಲಿ ತಿಳಿಸಿದೆ. ದಕ್ಷಿಣ ಕೊರಿಯಾದಲ್ಲಿ ಹೆಚ್ಚಿನ ಪ್ರಕರಣಗಳು ಆಗ್ನೇಯ ನಗರವಾದ ಡೇಗು ಮೂಲದವು, ದೇಶದ ಏಕಾಏಕಿ ಕೇಂದ್ರದಲ್ಲಿ ಚರ್ಚ್ ಇರುವ ಸ್ಥಳ ಇದು ಡ್ರೈವ್ ಥ್ರೂ ಸೌಲಭ್ಯವನ್ನು ಸಹ ತೆರೆದಿದೆ ಇಲ್ಲಿ ಕಡಿಮೆ ಜನಸಂದಣಿಯ ರೀತಿಯಲ್ಲಿ ನಾವು ಅನೇಕ ಜನರನ್ನು ಅಲ್ಪಾವಧಿಯಲ್ಲಿಯೇ ಪರೀಕ್ಷಿಸಬಹುದು ಮತ್ತು ಸೋಂಕಿನ ಕಡಿಮೆ ಅಪಾಯಗಳಿವೆ ಏಕೆಂದರೆ ಇದನ್ನು ಕಾರಿನೊಳಗೆ ಮಾಡಲಾಗುತ್ತದೆ ಕಿಮ್ ಗೊಯಾಂಗ್ ಸಮುದಾಯ ಆರೋಗ್ಯ ಕೇಂದ್ರದ ಮುಖ್ಯಸ್ಥ ಸ್ಥಳೀಯ ಪ್ರಸಾರಕರಾದ ಎಮ್\\u200cಬಿಸಿಗೆ ತಿಳಿಸಿದರು\",1\\nವುಹಾನ್ ಚೀನಾದಲ್ಲಿ 2019 ರ ಡಿಸೆಂಬರ್\\u200cನಲ್ಲಿ ಕರೋನವೈರಸ್ ಏಕಾಏಕಿ ಜಿಂಬಾಬ್ವೆಯ ಆರ್ಥಿಕ ದೃಷ್ಟಿಕೋನವನ್ನು ಉಲ್ಬಣಗೊಳಿಸುತ್ತಿದೆ ಎಂದು ಐಎಂಎಫ್ ತಜ್ಞರು ಹೇಳಿದ್ದಾರೆ. ಜಿಂಬಾಬ್ವೆ ತನ್ನ ಲುಕ್ ಈಸ್ಟ್ ನೀತಿಯನ್ನು 2004 ರಲ್ಲಿ ಪ್ರಾರಂಭಿಸಿದಾಗಿನಿಂದ ಪಶ್ಚಿಮದಲ್ಲಿ ಅನೇಕ ಜಿಂಬಾಬ್ವೆಯರು ಚೀನಾಕ್ಕೆ ಮೊಬೈಲ್ ಫೋನ್ ಮತ್ತು ಅಗ್ಗದ ವಸ್ತುಗಳನ್ನು ಖರೀದಿಸಲು ಪ್ರಯಾಣ ಬೆಳೆಸಿದರು. ಬಿಡಿಭಾಗಗಳು ಬಟ್ಟೆ ಮತ್ತು ಜಿಂಬಾಬ್ವೆಯ ಮರುಮಾರಾಟಕ್ಕಾಗಿ ಇತರ ಅಗತ್ಯ ವಸ್ತುಗಳು ಆದರೆ ವೈರಸ್ ಸ್ಫೋಟದ ನಂತರ ಚೀನಾದ ಅಧಿಕಾರಿಗಳು ವಿಧಿಸಿರುವ ಪ್ರಯಾಣದ ನಿರ್ಬಂಧಗಳು ಸರಕುಗಳನ್ನು ಆಮದು ಮಾಡಿಕೊಳ್ಳಲು ಜಿಂಬಾಬ್ವೆಯ ಸಣ್ಣ ಉದ್ಯಮಿಗಳನ್ನು ನಿರ್ಬಂಧಿಸುತ್ತಿವೆ. ಅವನಿಗೆ ಇತರ ಅಭಿವೃದ್ಧಿ ಹೊಂದಿದ ದೇಶಗಳಿಗಿಂತ ಚೀನಾದಿಂದ ಜಿಂಬಾಬ್ವೆಗೆ ಸಾಗಣೆಯನ್ನು ಕಳುಹಿಸುವುದು ಸುಲಭವಾಗಿದೆ. ಚೀನಾಕ್ಕೆ ಸಂಪನ್ಮೂಲಗಳನ್ನು ಮಾರಾಟ ಮಾಡುವುದನ್ನು ಅವಲಂಬಿಸಿರುವ ಕನಿಷ್ಠ 21 ಆಫ್ರಿಕನ್ ದೇಶಗಳಿಗೆ ತೀವ್ರ ಹೊಡೆತ ಬೀಳಲಿದೆ ಮತ್ತು ಜಿಂಬಾಬ್ವೆ ಇದಕ್ಕೆ ಹೊರತಾಗಿಲ್ಲ ಎಂದು ಹಣಕಾಸು ನಿಧಿ ಹೇಳಿದೆ,0\\nಹೊಸ ಕರೋನವೈರಸ್ ಹರಡುವುದನ್ನು ತಡೆಗಟ್ಟಲು ಮಾರ್ಚ್ 2 ರಿಂದ ಹಲವಾರು ವಾರಗಳವರೆಗೆ ಶಾಲೆಗಳನ್ನು ರಾಷ್ಟ್ರವ್ಯಾಪಿ ಮುಚ್ಚುವಂತೆ ಜಪಾನ್ ಪ್ರಧಾನಿ ಶಿಂಜೊ ಅಬೆ ಗುರುವಾರ ಕರೆ ನೀಡಿದರು. ರಾಷ್ಟ್ರದಾದ್ಯಂತದ ಎಲ್ಲಾ ಪ್ರಾಥಮಿಕ ಕಿರಿಯ ಪ್ರೌ and ಮತ್ತು ಪ್ರೌ schools ಶಾಲೆಗಳನ್ನು ಮುಂದಿನ ವಾರ ಮಾರ್ಚ್ 2 ರಿಂದ ವಸಂತಕಾಲದವರೆಗೆ ತಾತ್ಕಾಲಿಕವಾಗಿ ಮುಚ್ಚುವಂತೆ ನಾವು ವಿನಂತಿಸುತ್ತೇವೆ. ವಿರಾಮ ಸಾರ್ವಜನಿಕ ಶಾಲೆಗಳಿಗೆ ವಸಂತ ವಿರಾಮ ಸಾಮಾನ್ಯವಾಗಿ ಜಪಾನ್\\u200cನಲ್ಲಿ ಮಾರ್ಚ್ ಅಂತ್ಯದಲ್ಲಿ ಪ್ರಾರಂಭವಾಗುತ್ತದೆ ಮತ್ತು ಹಲವಾರು ವಾರಗಳವರೆಗೆ ಇರುತ್ತದೆ. ಉತ್ತರ ಹೊಕ್ಕೈಡೊದಲ್ಲಿನ ಅನೇಕ ಸಾರ್ವಜನಿಕ ಪ್ರಾಥಮಿಕ ಶಾಲೆಗಳು ಮತ್ತು ಕಿರಿಯ ಪ್ರೌ schools ಶಾಲೆಗಳನ್ನು ಗುರುವಾರ ಈಗಾಗಲೇ ಮುಚ್ಚಲಾಯಿತು. ರಾಜ್ಯಪಾಲರು ಸಾರ್ವಜನಿಕ ಶಾಲೆಗಳನ್ನು ಒಂದು ವಾರದವರೆಗೆ ಮುಚ್ಚುವಂತೆ ವಿನಂತಿಸಿದ ನಂತರ ಒಸಾಕಾ ನಗರ ತನ್ನ ಶಿಶುವಿಹಾರದ ಪ್ರಾಥಮಿಕ ಮತ್ತು ಕಿರಿಯ ಪ್ರೌ schools ಶಾಲೆಗಳನ್ನು ಶನಿವಾರದಿಂದ ಎರಡು ವಾರಗಳವರೆಗೆ ಮುಚ್ಚುವುದಾಗಿ ಹೇಳಿದೆ,1\\nಸಿಂಗಾಪುರ ಸಿಂಗಾಪುರ್ ಎಕ್ಸ್ಚೇಂಜ್ ಎಸ್\\u200cಜಿಎಕ್ಸ್ ಹೆಚ್ಚು ಪಟ್ಟಿಮಾಡಿದ ಕಂಪೆನಿಗಳು ತಮ್ಮ ಪೂರ್ಣ ವರ್ಷದ ಫಲಿತಾಂಶಗಳನ್ನು ಎರಡು ತಿಂಗಳವರೆಗೆ ವಿಳಂಬಗೊಳಿಸಲು ಅವಕಾಶ ಮಾಡಿಕೊಟ್ಟಿದೆ. ವಿನಿಮಯ ಕೇಂದ್ರವು ಫೆಬ್ರವರಿ 27 ರ ಗುರುವಾರ ಹೇಳಿದೆ. ಫೆಬ್ರವರಿ 7 ರಂದು ಎಸ್\\u200cಜಿಎಕ್ಸ್ ಎರಡು ತಿಂಗಳ ವಿಸ್ತರಣೆಯು ಕಂಪೆನಿಗಳಿಗೆ ಮಾತ್ರ ಅನ್ವಯಿಸುತ್ತದೆ ಎಂದು ಹೇಳಿದರು ಹಣಕಾಸು ವರ್ಷವು ಡಿಸೆಂಬರ್ 31 ರಂದು ಕೊನೆಗೊಳ್ಳುತ್ತದೆ ಮತ್ತು ಚೀನಾವು ಅವರ ವ್ಯವಹಾರದ ಪ್ರಮುಖ ಸ್ಥಳವಾಗಿದ್ದರೆ ಅಥವಾ ಅಲ್ಲಿ ಅವರು ಗಮನಾರ್ಹವಾದ ಕಾರ್ಯಾಚರಣೆಗಳನ್ನು ಹೊಂದಿದ್ದರೆ ಆದರೆ ಗುರುವಾರ ಪ್ರಕಟಣೆಯೊಂದಿಗೆ ವಿಸ್ತರಣೆಯು ಕಂಪೆನಿಗಳಿಗೆ ತಮ್ಮ ವ್ಯವಹಾರ ಅಥವಾ ಕಾರ್ಯಾಚರಣೆಯ ಸ್ಥಳವು ನಿರ್ದಿಷ್ಟವಾಗಿ ಕಾರ್ಯಗತಗೊಳಿಸಲು ಹೆಚ್ಚಿನ ಸಮಯ ಅಗತ್ಯವಿರುವ ಸಂಸ್ಥೆಗಳಾಗಿರಲಿ. ಕರೋನವೈರಸ್ ಕಳವಳಗಳನ್ನು ಪರಿಹರಿಸುವ ಕ್ರಮಗಳು ಹೆಚ್ಚಿನ ಕಂಪೆನಿಗಳು ತಮ್ಮ ಪೂರ್ಣ ವರ್ಷದ ಫಲಿತಾಂಶಗಳನ್ನು ವಿಳಂಬಗೊಳಿಸಲು ಅನುಮತಿಸುವ ಕ್ರಮವನ್ನು ವಿವರಿಸುವುದು ಎಸ್\\u200cಜಿಎಕ್ಸ್ ವೈರಸ್ ಏಕಾಏಕಿ ಪ್ರತಿಕ್ರಿಯೆಯಾಗಿ ಹೇರಿದ ಕ್ರಮಗಳಿಂದಾಗಿ ಕೆಲವು ಲೆಕ್ಕ ಪರಿಶೋಧಕರು ಎದುರಿಸುತ್ತಿರುವ ತೊಂದರೆಗಳನ್ನು ಉದಾಹರಿಸಿದ್ದಾರೆ. ಈ ಅವಧಿಯಲ್ಲಿ ಎಜಿಎಂಗಳು ಎಸ್\\u200cಜಿಎಕ್ಸ್ ವಿಸ್ತರಣೆಯು ಕಂಪನಿಗಳಿಗೆ ಹೆಚ್ಚಿನ ಸಮಯವನ್ನು ನೀಡುತ್ತದೆ ಎಂದು ಹೇಳಿದರು ಕಂಪೆನಿಗಳು ವೆಬ್\\u200cಕಾಸ್ಟ್\\u200cಗಳಂತಹ ಅಳವಡಿಸಿಕೊಳ್ಳಬಹುದಾದ ಅಥವಾ ಎಜಿಎಂಗೆ ಭೌತಿಕವಾಗಿ ಹಾಜರಾಗದೆ ಪ್ರಾಕ್ಸಿಗಳ ಮೂಲಕ ಷೇರುದಾರರಿಗೆ ಮತ ಚಲಾಯಿಸಲು ಅವಕಾಶ ನೀಡುವಂತಹ ತಮ್ಮ ಎಜಿಎಂ ಮತ್ತು ಪಟ್ಟಿಮಾಡಿದ ವರ್ಚುವಲ್ ಚಾನೆಲ್\\u200cಗಳನ್ನು ನಡೆಸಲು ಉತ್ತಮ ಮಾರ್ಗವನ್ನು ಪರಿಗಣಿಸುವುದು.,0\\nಫೇರ್ ಸೊಸೈಟಿ ಹೆಲ್ತಿ ಲೈವ್ಸ್ ಅನ್ನು ಮಾರ್ಮೊಟ್ ರಿವ್ಯೂ ಎಂದು ಕರೆಯಲಾಗುತ್ತದೆ 2010 ರಲ್ಲಿ ಪ್ರಕಟವಾಯಿತು ಮತ್ತು ಜೀವನದುದ್ದಕ್ಕೂ ಆರೋಗ್ಯದ ಸಾಮಾಜಿಕ ನಿರ್ಧಾರಕಗಳ ಮೇಲೆ ಕಾರ್ಯನಿರ್ವಹಿಸಲು ನೀತಿಗಳನ್ನು ಶಿಫಾರಸು ಮಾಡಿದೆ. ಹೊಸ ವರದಿಯಲ್ಲಿ ಮಾರ್ಮೊಟ್ ಕಳೆದ ದಶಕದಲ್ಲಿ ಜೀವಿತಾವಧಿಯಲ್ಲಿನ ಲಾಭಗಳು ನಾಟಕೀಯವಾಗಿ ನಿಧಾನವಾಗಿದೆ ಮತ್ತು ಸಾಮಾಜಿಕ ಅಸಮಾನತೆಗಳು ವಿಸ್ತರಿಸುವುದು ರಾಜಕೀಯ ಬದ್ಧತೆಯಾಗಿದೆ ಏಕೆಂದರೆ ಆರೋಗ್ಯ ಅಸಮಾನತೆಗಳು ಅನಿವಾರ್ಯವಲ್ಲ ಆದರೆ ಸಮಾಜದಲ್ಲಿನ ತಪ್ಪಿಸಬಹುದಾದ ಅಸಮಾನತೆಗಳಿಂದ ಉದ್ಭವಿಸುತ್ತದೆ ಮೈಕೆಲ್ ಆಂಡರ್ಸನ್ ಮತ್ತು ಸಹೋದ್ಯೋಗಿಗಳು ಖಾಸಗಿ ಆಸ್ಪತ್ರೆಗಳ ಚಟುವಟಿಕೆ ಮತ್ತು ಫಲಿತಾಂಶಗಳ ಕಳಪೆ ವರದಿಯನ್ನು ಟೀಕಿಸುತ್ತಾರೆ ಮತ್ತು ಸ್ವತಂತ್ರ ವಲಯವನ್ನು ಅನುಗುಣವಾಗಿ ತರಲು ತುರ್ತು ಕ್ರಮಕ್ಕೆ ಕರೆ ನೀಡುತ್ತಾರೆ NHS doi 10 1136 bmj m577 ನಿಗದಿಪಡಿಸಿದ ಮಾನದಂಡಗಳು ಸಾಮಾಜಿಕ ನಿರ್ಧಾರಕಗಳು ಮತ್ತು ಆರೋಗ್ಯ ಅಸಮಾನತೆಗಳ ವಿಷಯಕ್ಕೆ ಬಂದಾಗ ಬಹುಶಃ ನಾವು ಹೆಚ್ಚು ವಿವೇಕಯುತ ಕಾಳಜಿಯನ್ನು ಹೊಂದಿದ್ದೇವೆ,0\\n\"ಟೋಕಿಯೊ ಜಪಾನ್ ಜಪಾನ್ ಪ್ರಧಾನಿ ಶಿಂಜೊ ಅಬೆ ಅವರು ಫೆಬ್ರವರಿ 27 ರ ಗುರುವಾರ ಸಾರ್ವಜನಿಕ ಶಾಲೆಗಳಿಗೆ ಮಾರ್ಚ್ 2 ರಿಂದ ರಾಷ್ಟ್ರವ್ಯಾಪಿ ಮುಚ್ಚಬೇಕೆಂದು ಕರೆ ನೀಡಿದರು. ಹೊಸ ಪರಿಧಮನಿಯ ಹರಡುವಿಕೆಯನ್ನು ತಡೆಗಟ್ಟಲು ರಾಷ್ಟ್ರದಾದ್ಯಂತದ ಎಲ್ಲಾ ಪ್ರಾಥಮಿಕ ಕಿರಿಯ ಪ್ರೌ and ಮತ್ತು ಪ್ರೌ schools ಶಾಲೆಗಳನ್ನು ಮುಂದಿನ ವಾರ ಮಾರ್ಚ್ 2 ರಿಂದ ತಾತ್ಕಾಲಿಕವಾಗಿ ಮುಚ್ಚುವಂತೆ ನಾವು ವಿನಂತಿಸುತ್ತೇವೆ ವಸಂತ ವಿರಾಮ ಸಾರ್ವಜನಿಕ ಶಾಲೆಗಳಿಗೆ ವಸಂತ ವಿರಾಮ ಸಾಮಾನ್ಯವಾಗಿ ಜಪಾನ್\\u200cನಲ್ಲಿ ಮಾರ್ಚ್ ಅಂತ್ಯದಲ್ಲಿ ಪ್ರಾರಂಭವಾಗುತ್ತದೆ. ಉತ್ತರ ಹೊಕ್ಕೈಡೊದಲ್ಲಿನ ಅನೇಕ ಸಾರ್ವಜನಿಕ ಪ್ರಾಥಮಿಕ ಶಾಲೆಗಳು ಮತ್ತು ಕಿರಿಯ ಪ್ರೌ schools ಶಾಲೆಗಳನ್ನು ಗುರುವಾರ ಮುಚ್ಚಲಾಯಿತು, ಏಕೆಂದರೆ ಸಾರ್ವಜನಿಕ ಶಾಲೆಗಳನ್ನು ಸುಮಾರು ಒಂದು ವಾರ ಮುಚ್ಚಬೇಕೆಂದು ರಾಜ್ಯಪಾಲರು ವಿನಂತಿಸಿದ್ದಾರೆ. ಒಸಾಕಾ ನಗರ ಕೂಡ ಹೇಳಿದೆ ಇದು ತನ್ನ ಶಿಶುವಿಹಾರದ ಪ್ರಾಥಮಿಕ ಮತ್ತು ಕಿರಿಯ ಪ್ರೌ schools ಶಾಲೆಗಳನ್ನು ಫೆಬ್ರವರಿ 29 ರ ಶನಿವಾರದಿಂದ ಎರಡು ವಾರಗಳವರೆಗೆ ಮುಚ್ಚಲಿದೆ\",1\\nಬೀಜಿಂಗ್ ಚೀನಾ ವೈರಸ್ ಪೀಡಿತ ಚೀನಾದಲ್ಲಿನ ವಿದೇಶಿ ಸಂಸ್ಥೆಗಳು ವಿಶೇಷವಾಗಿ ವರ್ಷದ ಮೊದಲಾರ್ಧದಲ್ಲಿ ತಮ್ಮ ವ್ಯಾಪಾರ ಗುರಿಗಳನ್ನು ಕಡಿಮೆ ಮಾಡಲು ಕೆಲವು ಯೋಜನೆಗಳೊಂದಿಗೆ ಆದಾಯದಲ್ಲಿ ದೊಡ್ಡ ಕುಸಿತವನ್ನು ನಿರೀಕ್ಷಿಸುತ್ತಿವೆ ಎಂದು ವ್ಯಾಪಾರ ಸಂಘಗಳು ಗುರುವಾರ ಫೆಬ್ರವರಿ 27 ರಂದು ವ್ಯಾಪಾರ ಸಂಘಗಳು ತಿಳಿಸಿವೆ. ಚೀನಾದಲ್ಲಿನ ಅಮೇರಿಕನ್ ಚೇಂಬರ್ ಆಫ್ ಕಾಮರ್ಸ್ ನಡೆಸಿದ ಸಮೀಕ್ಷೆಯೊಂದು ಬಿಡುಗಡೆ ಮಾಡಿದೆ ಏಪ್ರಿಲ್ ಅಂತ್ಯದ ಮೊದಲು ವ್ಯವಹಾರವು ಸಾಮಾನ್ಯ ಸ್ಥಿತಿಗೆ ಬರಲು ಸಾಧ್ಯವಾಗದಿದ್ದರೆ ಚೀನಾದಲ್ಲಿ ಆದಾಯವು ಈ ವರ್ಷ ಕುಸಿಯುತ್ತದೆ ಎಂದು ಗುರುವಾರ ತನ್ನ 169 ಪ್ರತಿಕ್ರಿಯಿಸಿದವರಲ್ಲಿ ಅರ್ಧದಷ್ಟು ಜನರು ನಿರೀಕ್ಷಿಸಿದ್ದಾರೆ. ಚೀನಾ ಹೊಸ ವರ್ಷದ ರಜಾದಿನದ ನಂತರ ಚೀನಾ ವ್ಯವಹಾರವನ್ನು ನಿಧಾನವಾಗಿ ಪುನರಾರಂಭಿಸಿದೆ ಎಂದು ಜನವರಿ ಅಂತ್ಯದಲ್ಲಿ ಚೀನಾ ಹೇಳಿದೆ. ಮಾರಣಾಂತಿಕ ಕೊರೊನಾವೈರಸ್ನ ಮತ್ತಷ್ಟು ಹರಡುವಿಕೆ ಈ ಬಿಕ್ಕಟ್ಟು ಭವಿಷ್ಯದಲ್ಲಿ ನಾವು ವ್ಯವಹಾರ ಮಾಡುವ ವಿಧಾನವನ್ನು ಪ್ರಶ್ನಿಸಲಿದೆ ಎಂದು ಚೀನಾದ ಇಯು ಚೇಂಬರ್ನ ಅಧ್ಯಕ್ಷ ಜೋರ್ಗ್ ವುಟ್ಕೆ ಗುರುವಾರ ಸುದ್ದಿಗಾರರಿಗೆ ತಿಳಿಸಿದರು. ವೈರಸ್ ಹರಡಿದ ನಂತರ ಚೀನಾದಲ್ಲಿನ ಹೆಚ್ಚಿನ ಸಣ್ಣ ಸಂಸ್ಥೆಗಳು ಇನ್ನೂ ತೆರೆಯಬೇಕಾಗಿಲ್ಲ ಬ್ರಿಟಿಷ್ ವ್ಯವಹಾರ ಕಚೇರಿಗಳು ಮುಚ್ಚಲ್ಪಟ್ಟಿವೆ,0\\nಮನಿಲಾ ಫಿಲಿಪೈನ್ಸ್ ಕರೋನವೈರಸ್ ಕಾದಂಬರಿಯ ಸಂಭವನೀಯ ಪ್ರಕರಣಗಳನ್ನು ಪತ್ತೆಹಚ್ಚುವ ಪ್ರಯತ್ನವನ್ನು ಆರೋಗ್ಯ ಅಧಿಕಾರಿಗಳು ಮುಂದುವರೆಸಿದ್ದಾರೆ. ಫೆಬ್ರವರಿ 27 ರ ಗುರುವಾರ ಆರೋಗ್ಯ ಇಲಾಖೆ 615 ರೋಗಿಗಳನ್ನು ತನಿಖೆ ಮಾಡಿದೆ ಎಂದು ಹೇಳಿದೆ. ಈ ಸಂಖ್ಯೆಯಲ್ಲಿ ಫಿಲಿಪೈನ್ಸ್\\u200cನಲ್ಲಿ ದೃ confirmed ಪಡಿಸಿದ 3 ಪ್ರಕರಣಗಳಲ್ಲಿ ಒಂದು ತೀವ್ರತರವಾದ ಕಾರಣ ಸಾವನ್ನಪ್ಪಿದೆ COVID 19 ರ ಕಾರಣದಿಂದಾಗಿ ನ್ಯುಮೋನಿಯಾ ಹೊಸ ವೈರಸ್\\u200cನಿಂದ ಉಂಟಾದ ರೋಗ ಮತ್ತು ಇತರ ಎರಡು ಚೇತರಿಸಿಕೊಂಡಿದೆ ಎಂದು ವಿಶ್ವ ಆರೋಗ್ಯ ಸಂಸ್ಥೆ ಈ ಹಿಂದೆ ಏಕಾಏಕಿ ಅಂತಾರಾಷ್ಟ್ರೀಯ ತುರ್ತು ಎಚ್ಚರಿಕೆ ಘೋಷಿಸಿತು.,0\\nಅಧ್ಯಕ್ಷ ಡೊನಾಲ್ಡ್ ಟ್ರಂಪ್ ಕೋವಿಡ್ 19 ಏಕಾಏಕಿ ಯುಎಸ್ ಪ್ರತಿಕ್ರಿಯೆಯನ್ನು ಅದ್ಭುತ ಯಶಸ್ಸು ಎಂದು ಬಣ್ಣಿಸಿದರು ಮತ್ತು ಫೆಬ್ರವರಿ 27 ರ ಬುಧವಾರ ರಾಷ್ಟ್ರೀಯವಾಗಿ ದೂರದರ್ಶನದಲ್ಲಿ ಪ್ರಸಾರವಾದ ಅಪರೂಪದ ಪತ್ರಿಕಾಗೋಷ್ಠಿಯಲ್ಲಿ ಅಮೆರಿಕನ್ನರಿಗೆ ಅಪಾಯವು ತುಂಬಾ ಕಡಿಮೆಯಾಗಿದೆ ಎಂದು ಪ್ರತಿಪಾದಿಸಿದರು. ಯುಎಸ್ನಲ್ಲಿ 60 ಕೋವಿಡ್ 19 ರೋಗಿಗಳು ಹೆಚ್ಚಾಗಿ ಒಬ್ಬರು ಗಂಭೀರವಾಗಿ ಉಳಿದಿದ್ದರೂ ನಾನು ಉತ್ತಮವಾಗಿ ಕಾರ್ಯನಿರ್ವಹಿಸುತ್ತೇನೆ 19 ಸೋಂಕಿತ ಪ್ರದೇಶಗಳಿಂದ ಜನರನ್ನು ತಪಾಸಣೆ ಮಾಡುವಂತೆ ಮತ್ತು ಅಪಾಯವನ್ನು ಎದುರಿಸುತ್ತಿರುವ ಲಸಿಕೆಯನ್ನು ಅಭಿವೃದ್ಧಿಪಡಿಸುವಂತೆ ಅವರು ಸಲಹೆ ನೀಡಿದರು. ವೇಗವಾಗಿ ಬೆಳೆಯುತ್ತಿರುವ ಲಸಿಕೆಯನ್ನು ಅಭಿವೃದ್ಧಿಪಡಿಸಲು ಟ್ರಂಪ್ ಅವರು ಕಾಂಗ್ರೆಸ್ ಅನ್ನು 2 5 ಬಿಎನ್ 1 94 ಬಿಎನ್ 2 29 ಬಿಲಿಯನ್ ಗೆ ವೈರಸ್ನಿಂದ ಹೋರಾಡಲು ಕೇಳಿಕೊಂಡಿದ್ದಾರೆ ಎಂದು ಹೇಳಿದರು. ಎಬೋಲಾ ಪ್ರತಿಕ್ರಿಯೆ ಬಜೆಟ್ ಆದರೆ ಕಾಂಗ್ರೆಸ್ಸಿನ ರಿಪಬ್ಲಿಕನ್ನರು 4 ಬಿಲಿಯನ್ ಮತ್ತು ಡೆಮೋಕ್ರಾಟ್ ಗಳು 8 5 ಬಿಲಿಯನ್ಗೆ ಮುಂದಾಗಿದ್ದರು ಎಂದು ಅವರು ಸೂಚಿಸಿದರು,1\\n\"ಟೋಕಿಯೊ ರಾಯಿಟರ್ಸ್ ಜಪಾನ್\\u200cನ ಪ್ರಾಥಮಿಕದಿಂದ ಪ್ರೌ schools ಶಾಲೆಗಳವರೆಗಿನ ಸಂಪೂರ್ಣ ಶಾಲಾ ವ್ಯವಸ್ಥೆಯನ್ನು ಮಾರ್ಚ್ 2 ರಿಂದ ಮುಂಬರುವ ವಸಂತಕಾಲದ ವಿರಾಮದವರೆಗೆ ಮುಚ್ಚಲು ಕೇಳಲಾಗುವುದು. ಇದು ಕರೋನವೈರಸ್ ಏಕಾಏಕಿ ತಡೆಗಟ್ಟಲು ಸಹಾಯ ಮಾಡುತ್ತದೆ ಎಂದು ಪ್ರಧಾನಿ ಶಿಂಜೊ ಅಬೆ ಗುರುವಾರ ಹೇಳಿದ್ದಾರೆ. ಜಪಾನ್\\u200cನಲ್ಲಿ ವರದಿಯಾದ ಪ್ರಕರಣಗಳು ಒಳಗೊಂಡಿಲ್ಲ ಈ ತಿಂಗಳ ಆರಂಭದಲ್ಲಿ ಟೋಕಿಯೊದಿಂದ ಪ್ರತ್ಯೇಕಿಸಲ್ಪಟ್ಟ ಡೈಮಂಡ್ ಪ್ರಿನ್ಸೆಸ್ ಕ್ರೂಸ್ ಲೈನರ್\\u200cನಲ್ಲಿ ಏಕಾಏಕಿ 705 ವರದಿಯಾಗಿದೆ. ಕರೋನವೈರಸ್ ಅನ್ನು ಸಂಕುಚಿತಗೊಳಿಸಿದ ನಂತರ 80 ರ ಹರೆಯದ ವ್ಯಕ್ತಿಯು ಹೊಕ್ಕೈಡೋದಲ್ಲಿ ಸಾವನ್ನಪ್ಪಿದ್ದಾನೆ ಎಂದು ಪ್ರಿಫೆಕ್ಚರಲ್ ಸರ್ಕಾರ ಹೇಳಿದೆ, ಜಪಾನ್\\u200cನಲ್ಲಿ ಮೃತಪಟ್ಟ ಒಟ್ಟು ಜನರನ್ನು ನಾಲ್ಕು ಸೇರಿದಂತೆ ಪಶ್ಚಿಮ ಜಪಾನ್\\u200cನ ಒಸಾಕಾ ನಿವಾಸಿಯಲ್ಲಿ ಎರಡು ಬಾರಿ ಧನಾತ್ಮಕ ಪರೀಕ್ಷೆ ನಡೆಸಿದ ಮಹಿಳೆ ನೋಯುತ್ತಿರುವ ಗಂಟಲು ಮತ್ತು ಎದೆ ನೋವುಗಳನ್ನು ಅಭಿವೃದ್ಧಿಪಡಿಸಿದ ನಂತರ ಬುಧವಾರ ಧನಾತ್ಮಕ ಪರೀಕ್ಷೆ ನಡೆಸಿದ್ದಾರೆ ಎಂದು ಪ್ರಿಫೆಕ್ಚರಲ್ ಸರ್ಕಾರವು ತನ್ನ 40 ರ ದಶಕದಲ್ಲಿದೆ ಎಂದು ವಿವರಿಸುವ ಹೇಳಿಕೆಯಲ್ಲಿ ತಿಳಿಸಿದೆ. ಗುರುವಾರ ಡೈಮಂಡ್ ರಾಜಕುಮಾರಿಯೊಂದಿಗೆ ಟೋಕಿಯೊದ ದಕ್ಷಿಣಕ್ಕೆ ಸುಮಾರು 240 ವಿದೇಶಿ ಮತ್ತು ಜಪಾನೀಸ್ ಸಿಬ್ಬಂದಿ ಇದ್ದಾರೆ ಮುಂದಿನ ಕೆಲವು ದಿನಗಳಲ್ಲಿ ವೈರಸ್\\u200cಗೆ ನಕಾರಾತ್ಮಕತೆಯನ್ನು ಪರೀಕ್ಷಿಸಲಾಗಿದೆ\",0\\nಮನಿಲಾ ಫಿಲಿಪೈನ್ಸ್ ಫೆಬ್ರವರಿ 27 ರ ಗುರುವಾರ ಬ್ಯೂರೋ ಆಫ್ ದಿ ಖಜಾನೆ ಬಿಟಿಆರ್ ಪ್ರಕಾರ 1 ನೇ ತ್ರೈಮಾಸಿಕದಲ್ಲಿ ಪುನಃ ಜಾರಿಗೆ ತಂದ ಬಜೆಟ್ ಅಡಿಯಲ್ಲಿ ಕಾರ್ಯನಿರ್ವಹಿಸಿದ ನಂತರ ಫಿಲಿಪೈನ್ ಸರ್ಕಾರವು 2019 ರ ಡಿಸೆಂಬರ್\\u200cನಲ್ಲಿ ಖರ್ಚು ಹಿಡಿಯುವಲ್ಲಿ ಯಶಸ್ವಿಯಾಗಿದೆ. ಕಳೆದ ವರ್ಷದ ಬಜೆಟ್ ಕೊರತೆಯು ದೇಶದ 3% ತಲುಪಿದೆ ಒಟ್ಟು ದೇಶೀಯ ಉತ್ಪನ್ನ ಜಿಡಿಪಿ ಸರ್ಕಾರದ ಗುರಿಯನ್ನು ಮೀರಿದೆ 3 25 ಡಿಸೆಂಬರ್\\u200cನಲ್ಲಿ ಹೆಚ್ಚಿನ ಖರ್ಚಿನೊಂದಿಗೆ ಐಎನ್\\u200cಜಿ ಬ್ಯಾಂಕ್ ಮನಿಲಾ ಮುಖ್ಯ ಅರ್ಥಶಾಸ್ತ್ರಜ್ಞ ನಿಕೋಲಸ್ ಮಾಪಾ ಅವರು 4 ನೇ ತ್ರೈಮಾಸಿಕದಲ್ಲಿ ಜಿಡಿಪಿ ಬೆಳವಣಿಗೆಯನ್ನು ಮೇಲ್ಮುಖವಾಗಿ ಪರಿಷ್ಕರಿಸುವ ಸಾಧ್ಯತೆಯಿದೆ ಮತ್ತು ಪೂರ್ಣ ವರ್ಷದ ಬೆಳವಣಿಗೆಯನ್ನು 6 ಕ್ಕೆ ತಲುಪಿಸಬಹುದು 2019 ರ ಸರ್ಕಾರದ ಗುರಿ ಡಿಸೆಂಬರ್\\u200cನಲ್ಲಿನ ಖರ್ಚಿನಲ್ಲಿನ ಅಚ್ಚರಿಯ ಉಲ್ಬಣವು ತಡವಾಗಿ ಖಜಾನೆಯ ಬ್ಯೂರೋದ ಆಕ್ರಮಣಕಾರಿ ಸಾಲ ನಿಲುವಿನಲ್ಲಿ ಪ್ರತಿಫಲಿಸುತ್ತದೆ ಮತ್ತು ಈ ವರ್ಷ ಸಮಾನಾಂತರವಾಗಿ ನಡೆಯುತ್ತಿರುವ ಏಕಕಾಲೀನ 2019 ಮತ್ತು 2020 ರ ಬಜೆಟ್\\u200cಗಳನ್ನು ಗಮನಿಸಿದರೆ ಈ ನಡವಳಿಕೆ ಮುಂದುವರಿಯುತ್ತದೆ ಎಂದು ನಾವು ನಿರೀಕ್ಷಿಸಬಹುದು. 2020 ರ ಮೊದಲಾರ್ಧದಲ್ಲಿ ಫಿಲಿಪೈನ್ ಆರ್ಥಿಕತೆಯನ್ನು ನಕಾರಾತ್ಮಕ ಪ್ರಭಾವದಿಂದ ವಿಂಗಡಿಸುವ ಮೂಲಕ ಸರ್ಕಾರದ ಹಣಕಾಸಿನ ಖರ್ಚು ಪ್ರಬಲವಾಗಿ ಉಳಿಯುವ ಸಾಧ್ಯತೆಯಿದೆ ಕರೋನವೈರಸ್ ಕಾದಂಬರಿಯ,1\\n\"ಕರೋನವೈರಸ್ನ ತ್ವರಿತ ಹರಡುವಿಕೆಯು ಮಾರುಕಟ್ಟೆಯ ಭಾವನೆಯಲ್ಲಿ ಪ್ರಾಬಲ್ಯ ಸಾಧಿಸುತ್ತಿರುವುದರಿಂದ ಯುರೋಪಿಯನ್ ಷೇರುಗಳು ಗುರುವಾರ ಮತ್ತಷ್ಟು ಕುಸಿದವು. ಈಗ 81000 ಕ್ಕೂ ಹೆಚ್ಚು ಜನರಿಗೆ ಸೋಂಕು ತಗುಲಿ 2700 ಕ್ಕೂ ಹೆಚ್ಚು ಜನರನ್ನು ಕೊಂದಿರುವ ಕರೋನವೈರಸ್ ಹರಡುವಿಕೆಯು ವಿಶ್ವದಾದ್ಯಂತ ಮಾರುಕಟ್ಟೆಗಳು ಮತ್ತು ನೀತಿ ನಿರೂಪಕರನ್ನು ಗದರಿಸುತ್ತಿದೆ. ಯುರೋಪಿಯನ್ ರಾಷ್ಟ್ರಗಳಾದ ಎಸ್ಟೋನಿಯಾ ಮತ್ತು ಡೆನ್ಮಾರ್ಕ್ ಎರಡೂ ಗುರುವಾರ ಬೆಳಿಗ್ಗೆ ದಕ್ಷಿಣ ಕೊರಿಯಾದ ತಮ್ಮ ಮೊದಲ ದೃ confirmed ಪಡಿಸಿದ ಪ್ರಕರಣಗಳನ್ನು ವರದಿ ಮಾಡಿದೆ, ಅಲ್ಲಿ ಚೀನಾ ಗುರುವಾರ ಬೆಳಿಗ್ಗೆ 334 ಹೆಚ್ಚಿನ ಪ್ರಕರಣಗಳ ಏರಿಕೆ ದೃ confirmed ಪಡಿಸಿದ ನಂತರ ಎರಡನೇ ಅತಿದೊಡ್ಡ ಏಕಾಏಕಿ ಸಂಭವಿಸಿದೆ. ದೇಶದ ಒಟ್ಟು ಮೊತ್ತವನ್ನು 1595 ಕ್ಕೆ ತಂದು ಗುರುವಾರ ಮಧ್ಯಾಹ್ನ ವ್ಯಾಪಾರದಲ್ಲಿ ಕುಸಿದಿದೆ\",0\\nಪೋಪ್ ಫ್ರಾನ್ಸಿಸ್ ವ್ಯಾಟಿಕನ್\\u200cನಲ್ಲಿ ಸಾಪ್ತಾಹಿಕ ಸಾಮಾನ್ಯ ಪ್ರೇಕ್ಷಕರನ್ನು ಹೊಂದಿದ್ದಾರೆ ಫಿಲಿಪ್ ಪುಲ್ಲೆಲ್ಲಾ ವ್ಯಾಟಿಕನ್ ಸಿಟಿ ರಾಯಿಟರ್ಸ್ ಪೋಪ್ ಫ್ರಾನ್ಸಿಸ್ ಸ್ವಲ್ಪ ಅಸ್ವಸ್ಥರಾಗಿದ್ದಾರೆ ಮತ್ತು ರೋಮ್ ಬೆಸಿಲಿಕಾದಲ್ಲಿ ನಡೆದ ಕಾರ್ಯಕ್ರಮವೊಂದನ್ನು ರದ್ದುಗೊಳಿಸಿದ್ದಾರೆ ಆದರೆ ಅವರ ಉಳಿದ ವೇಳಾಪಟ್ಟಿಯನ್ನು ತಮ್ಮ ನಿವಾಸದಲ್ಲಿ ನಿರ್ವಹಿಸುತ್ತಿದ್ದಾರೆ ಎಂದು ವ್ಯಾಟಿಕನ್ ಗುರುವಾರ ಬಿಡುಗಡೆ ಮಾಡಿದೆ ಜಾಗತಿಕ ಕ್ಯಾಥೊಲಿಕ್ ಹವಾಮಾನ ಚಳವಳಿಯ ಸದಸ್ಯರೊಂದಿಗೆ ಗುರುವಾರ ಬೆಳಿಗ್ಗೆ ವ್ಯಾಟಿಕನ್ ಸಭೆಯಲ್ಲಿ ಹೊಸ ಪೋಸ್ಟ್\\u200cನಲ್ಲಿ ಪ್ರಾರಂಭಿಸಿರುವ ಪೋಪ್ ಮತ್ತು ಕಾರ್ಡಿನಲ್ ಆಂಟೋನಿಯೊ ಟ್ಯಾಗಲ್ ಫಿಲಿಪಿನೋ ಚಿತ್ರ ಅಂತರರಾಷ್ಟ್ರೀಯ ಪರಿಸರ ಗುಂಪು ಪೋಪ್ ಶೀತದಿಂದ ಕಾಣಿಸಿಕೊಂಡರು ಮತ್ತು ಸ್ವಲ್ಪ ಗಟ್ಟಿಯಾಗಿ ಮಾತನಾಡಿದರು ರೋಮ್ ಚರ್ಚ್ನಲ್ಲಿ ಬುಧವಾರ ಬೂದಿ ಬುಧವಾರ ಸೇವೆಯ ಸಮಯದಲ್ಲಿ ಅವರ ಸಾಮಾನ್ಯ ಪ್ರೇಕ್ಷಕರಲ್ಲಿ ಧ್ವನಿ ಮತ್ತು ಪೋಪ್ ಗುರುವಾರ ಬೆಳಿಗ್ಗೆ ಲ್ಯಾಟೆರನ್ನ ಸೇಂಟ್ ಜಾನ್ಸ್ನ ಬೆಸಿಲಿಕಾಕ್ಕೆ ರೋಮನ್ ಪುರೋಹಿತರೊಂದಿಗೆ ಲೆಂಟನ್ ಸೇವೆಗಾಗಿ ಹೋಗಬೇಕಾಗಿತ್ತು. ಹಲವಾರು ಜನರು ಧರಿಸಿದ್ದರು ಬುಧವಾರದ ಪ್ರೇಕ್ಷಕರಲ್ಲಿ ಸೇಂಟ್ ಪೀಟರ್ಸ್ ಸ್ಕ್ವೇರ್ ಎನ್ವೈಎಸ್ಇಯಲ್ಲಿ ಮುಖವಾಡಗಳು ಆದರೆ ಪೋಪ್ನ ಬೂದಿ ಬುಧವಾರ ಸೇವೆಯಲ್ಲಿ ಒಬ್ಬ ವ್ಯಕ್ತಿ ಮಾತ್ರ ಧರಿಸಿರುವುದು ಕಂಡುಬಂದಿದೆ,1\\n\"ಜೆಸ್ಸಿ ಕೊಹೆನ್ಇನ್ವೆಸ್ಟಿಂಗ್ ಕಾಮ್ ಅವರು ಗುರುವಾರ ಹೊರಗಡೆ ಆರನೇ ದಿನಕ್ಕೆ ಕುಸಿದಿದ್ದಾರೆ, ಚೀನಾದ ಹೊರಗೆ ಕರೋನವೈರಸ್ ವೇಗವಾಗಿ ಹರಡುವುದರಿಂದ ಜಾಗತಿಕ ಸಾಂಕ್ರಾಮಿಕ ಭೀತಿ ಮೂಡಿತು ಚೀನಾದಲ್ಲಿ ಹೊಸ ಸೋಂಕುಗಳ ಸಂಖ್ಯೆ ಏಕಾಏಕಿ ಉಂಟಾಗಿದೆ ದಕ್ಷಿಣ ಕೊರಿಯಾ ಇಟಲಿ ಮತ್ತು ಇರಾನ್\\u200cಗಳಲ್ಲಿ ಮೊದಲ ಬಾರಿಗೆ ಹೊಸ ಪ್ರಕರಣಗಳಿಂದ ಮೊದಲ ಬಾರಿಗೆ ಕರೋನವೈರಸ್ ಪ್ರಪಂಚದಾದ್ಯಂತ 80000 ಕ್ಕೂ ಹೆಚ್ಚು ಜನರಿಗೆ ಸೋಂಕು ತಗುಲಿಸಿದೆ ಮತ್ತು ಚೀನಾದಲ್ಲಿ ಸುಮಾರು 2800 ಜನರನ್ನು ಕೊಂದಿದೆ. ಈ ಕಾಯಿಲೆಯ ಬಗ್ಗೆ ಹೆಚ್ಚು ತಿಳಿದಿಲ್ಲ ಆದರೆ ಪ್ರಪಂಚದ ತೀವ್ರತೆಗಳು ಸ್ಪಷ್ಟವಾಗಿವೆ ಜಾಗತಿಕ ಆರ್ಥಿಕತೆ ಮತ್ತು ನೀವು ಎಸ್ ವ್ಯವಹಾರಗಳ ಮೇಲೆ ಬಿಕ್ಕಟ್ಟಿನ ಪ್ರಭಾವದ ಬಗ್ಗೆ ಹೂಡಿಕೆದಾರರು ಚಿಂತಿತರಾಗಿರುವುದರಿಂದ ಒಂದು ತಿಂಗಳು ಅಥವಾ ಹೆಚ್ಚಿನ ಅವಧಿಗೆ ಲಾಕ್\\u200cಡೌನ್\\u200cನಲ್ಲಿ ಎರಡನೇ ಅತಿದೊಡ್ಡ ಆರ್ಥಿಕತೆಯು ವಿಶಾಲವಾದ ವಾಲ್ ಸ್ಟ್ರೀಟ್\\u200cನ ಪ್ರಮುಖ ಸೂಚ್ಯಂಕಗಳು ಬುಧವಾರ ಐದನೇ ನೇರ ಅಧಿವೇಶನಕ್ಕೆ ಕುಸಿದವು.\",0\\nಪೀಠೋಪಕರಣಗಳಂತಹ ಸರಕುಗಳ ಮೇಲೆ ಆಮದು ತೆರಿಗೆಯನ್ನು ಹೆಚ್ಚಿಸುವ ಭಾರತದ ಕ್ರಮವನ್ನು ಅನುಸರಿಸಿ ಮುಂಬೈ ಸ್ವೀಡನ್\\u200cನ ಐಕೆಇಎ ಅಲ್ಪಾವಧಿಯಲ್ಲಿ ಭಾರತದಲ್ಲಿ ಬೆಲೆಗಳನ್ನು ಹೆಚ್ಚಿಸಲು ಯೋಜಿಸುತ್ತಿಲ್ಲ ಎಂದು ಕಂಪನಿಯ ಕಾರ್ಯನಿರ್ವಾಹಕರೊಬ್ಬರು ಗುರುವಾರ ಐಕೆಇಎ ಭಾರತದಲ್ಲಿ ಮಾರಾಟ ಮಾಡುವ 75 ಸರಕುಗಳನ್ನು ಆಮದು ಮಾಡಿಕೊಳ್ಳುತ್ತೇವೆ ಎಂದು ಹೇಳಿದರು. ನಮ್ಮ ಬ್ರ್ಯಾಂಡ್ ಗ್ರಾಹಕರ ಕಡೆಗೆ ಬೆಲೆಗಳು ಏಕೆಂದರೆ ನಾವು ಕೈಗೆಟುಕುವೆವು ಎಂದು ನಾವು ಹೇಳುತ್ತೇವೆ ಐಕೆಇಎ ಭಾರತದ ವ್ಯವಸ್ಥಾಪಕ ನಿರ್ದೇಶಕ ಭಾರತದ ಆರ್ಥಿಕ ರಾಜಧಾನಿ ಮುಂಬೈ ಭಾರತದ ಸಮಾವೇಶದಲ್ಲಿ ಈ ತಿಂಗಳು ಎಲೆಕ್ಟ್ರಾನಿಕ್ ವಸ್ತುಗಳ ಆಟಿಕೆಗಳು ಮತ್ತು ಪೀಠೋಪಕರಣಗಳಂತಹ ಸರಕುಗಳ ಆಮದಿನ ಮೇಲೆ ಹೆಚ್ಚಿನ ತೆರಿಗೆಯನ್ನು ಘೋಷಿಸಿದೆ. ದೇಶೀಯ ಉತ್ಪಾದನೆಯನ್ನು ಹೆಚ್ಚಿಸುವ ಗುರಿಯನ್ನು ಐಕೆಇಎ ಸುಂಕಗಳ ಕುರಿತು ಭಾರತದೊಂದಿಗೆ ಮಾತುಕತೆ ನಡೆಸುತ್ತಿದೆ ಎಂದು ಬೆಟ್ಜೆಲ್ ಹೇಳಿದರು.,1\\nನಿಮ್ಮ ಸಾಧನದಲ್ಲಿ ಮೀಡಿಯಾ ಪ್ಲೇಬ್ಯಾಕ್ ಬೆಂಬಲಿತವಾಗಿಲ್ಲ. ಗಂಟೆಗಳು ಮತ್ತು ಸೋಂಕುಗಳು ಎರಡು ಉತ್ತರದ ಪ್ರದೇಶಗಳಲ್ಲಿನ ಏಕಾಏಕಿ ಕೇಂದ್ರೀಕೃತವಾಗಿ ಉಳಿದಿವೆ ಲೊಂಬಾರ್ಡಿ ಮತ್ತು ವೆನೆಟೊ ಇಮೇಜ್ ಕೃತಿಸ್ವಾಮ್ಯ ರಾಯಿಟರ್ಸ್ ಚಿತ್ರ ಶೀರ್ಷಿಕೆ ಲೊಂಬಾರ್ಡಿ ಗವರ್ನರ್ ಅಟಿಲಿಯೊ ಫೊಂಟಾನಾ ತಮ್ಮನ್ನು ಸಂಪರ್ಕತಡೆಗೆ ಒಳಪಡಿಸಿದ್ದಾರೆ ಬುಧವಾರ ವಿಶ್ವ ಆರೋಗ್ಯ ಸಂಸ್ಥೆ ಮೊದಲ ಬಾರಿಗೆ ವೈರಸ್ ಚೀನಾದ ಹೊರಗೆ ವೇಗವಾಗಿ ಹರಡುತ್ತಿದೆ ಎಂದು ಹೇಳಿದರು. ನಿಮ್ಮ ಸಾಧನದಲ್ಲಿ ಮೀಡಿಯಾ ಪ್ಲೇಬ್ಯಾಕ್ ಬೆಂಬಲಿಸುವುದಿಲ್ಲ ಮಾಧ್ಯಮ ಶೀರ್ಷಿಕೆ ಕೊರೋನವೈರಸ್ ಐದು ದೇಶಗಳು ಐದು ಪ್ರತಿಕ್ರಿಯೆಗಳು ಹೆಚ್ಚಿನ ಬೆಳವಣಿಗೆಗಳಲ್ಲಿ ಡೆನ್ಮಾರ್ಕ್ ಎಸ್ಟೋನಿಯಾದಲ್ಲಿ ಮೊದಲ ಕರೋನವೈರಸ್ ಪ್ರಕರಣಗಳನ್ನು ಘೋಷಿಸಲಾಗಿದೆ ಮತ್ತು ರೊಮೇನಿಯಾ ರೊಮೇನಿಯನ್ ಅಧ್ಯಕ್ಷ ಕ್ಲಾಸ್ ಐಹಾನಿಸ್ ರೊಮೇನಿಯನ್ನರನ್ನು ಭಯಭೀತರಾಗಬಾರದು ಎಂದು ಆತಂಕ ವ್ಯಕ್ತಪಡಿಸಿದ್ದಾರೆ. ಏಷ್ಯಾದ ಜನರನ್ನು ಬೆದರಿಸುವುದು ಎರಡು ರೋಗಿಗಳು ಇಂಗ್ಲೆಂಡ್\\u200cನಲ್ಲಿ ಧನಾತ್ಮಕ ಪರೀಕ್ಷೆಯನ್ನು ಯುಕೆ ಪ್ರಕರಣಗಳ ಸಂಖ್ಯೆಯನ್ನು 15 ಕ್ಕೆ ತಂದುಕೊಟ್ಟಿದ್ದಾರೆ. ಹಂಗೇರಿಯನ್ ಫುಟ್\\u200cಬಾಲ್ ತಂಡವು ತನ್ನ ಇಟಾಲಿಯನ್ ತರಬೇತುದಾರ ಗೈಸೆಪೆ ಸನ್ನಿನೊ ಮತ್ತು ಅವರ ಸಹಾಯಕ ಅಲೆಸ್ಸಾಂಡ್ರೊ ಇತ್ತೀಚಿನವರನ್ನು ತಾತ್ಕಾಲಿಕವಾಗಿ ಅಮಾನತುಗೊಳಿಸಿದೆ ಇಟಾಲಿಯನ್ ವೈರಸ್ ವಾಹಕಗಳೊಂದಿಗೆ ಸಂಪರ್ಕ ಹೊಂದಿರಬಹುದೆಂಬ ಭಯದಿಂದ ಇತ್ತೀಚಿನ ದಿನಗಳಲ್ಲಿ ಆಸ್ಟ್ರಿಯಾ ಕ್ರೊಯೇಷಿಯಾ ಗ್ರೀಸ್ ನಾರ್ವೆ ಸ್ವಿಟ್ಜರ್ಲ್ಯಾಂಡ್ ಜಾರ್ಜಿಯಾ ಮತ್ತು ಉತ್ತರ ಮ್ಯಾಸಿಡೋನಿಯಾ ಅವರಲ್ಲಿ ಅನೇಕರು ಇಟಲಿಗೆ ಹೋಗಿದ್ದ ಜನರು ಇಟಲಿಯಲ್ಲಿ ಏನಾಗಿದೆ ಸಾಂಕ್ರಾಮಿಕ ರೋಗ ಅನಿವಾರ್ಯವಲ್ಲ ಫಿಲಿಪ್ಪಾ ರಾಕ್ಸ್ಬಿ ಬಿಬಿಸಿ ಆರೋಗ್ಯ ವರದಿಗಾರರಿಂದ ಕರೋನವೈರಸ್ ಏಕಾಏಕಿ ಚೀನಾದಿಂದ ವಿಶ್ವದ ಇತರ ಭಾಗಗಳಿಗೆ ಸ್ಥಳಾಂತರಗೊಳ್ಳುತ್ತಿದೆ ವಿಶೇಷವಾಗಿ ಯುರೋಪ್,0\\n\"ಆದ್ದರಿಂದ ಶಿಸ್ತುಬದ್ಧವಾಗಿರಲು ಮತ್ತು ನಾವು ಬಯಸುವ ಸ್ಥಾನಗಳಿಗೆ ಸ್ಮಾರ್ಟ್ ರೀತಿಯಲ್ಲಿ ಪ್ರವೇಶಿಸಲು ನಾನು ತಿಳಿದಿರುವ ಮೂಲಭೂತ ತಂತ್ರಕ್ಕೆ ಮಾತ್ರ ಹಿಂತಿರುಗಲು ಬಯಸುತ್ತೇನೆ ಅದು ನನಗೆ ತಿಳಿದಿರುವ ಕಾಲಕ್ರಮೇಣ ಭಾರಿ ಲಾಭವನ್ನು ಗಳಿಸುವಲ್ಲಿ ಎಂದಿಗೂ ವಿಫಲವಾಗುವುದಿಲ್ಲ ಇದು ನಿಮಗೆ ಉನ್ಮಾದವನ್ನು ಕಡಿಮೆ ಮಾಡಲು ಉತ್ತಮ ಮಾರ್ಗವಾಗಿದೆ ಮತ್ತು ಅದೇ ಸಮಯದಲ್ಲಿ ದೊಡ್ಡ ಲಾಭವನ್ನು ಗಳಿಸಿ ಇದು ನಿಮ್ಮ ಹಣವನ್ನು ಏಕಕಾಲದಲ್ಲಿ ಡೈವಿಂಗ್ ಮಾಡುವ ಬದಲು ವಾರಕ್ಕೆ ಒಂದು ವಾರಕ್ಕೊಮ್ಮೆ ನಿಮ್ಮ ಹಣವನ್ನು ಹರಡುವ ಮೂಲಕ ಷೇರುಗಳು ಮತ್ತು ಇತರ ಹೂಡಿಕೆಗಳಲ್ಲಿ ಖರೀದಿಸಲು ನಿಮಗೆ ಅವಕಾಶ ಮಾಡಿಕೊಡುತ್ತದೆ 1200 ಒಟ್ಟು ಹೂಡಿಕೆ 50 ಪ್ರತಿ ಷೇರಿಗೆ 24 ಷೇರುಗಳು 16 ಹೆಚ್ಚು ಷೇರುಗಳು ಕಾಲಾನಂತರದಲ್ಲಿ ಸುಂದರವಾಗಿ ತೀರಿಸಬಹುದು, ವಿಶೇಷವಾಗಿ ನಿಮ್ಮ ಎಲ್ಲಾ ದೀರ್ಘಾವಧಿಯ ಖರೀದಿಗಳೊಂದಿಗೆ ನೀವು ಅದನ್ನು ಮಾಡುತ್ತಿದ್ದರೆ ಮತ್ತು ಅಂತಿಮವಾಗಿ ಡಾಲರ್ ವೆಚ್ಚವು ಸರಾಸರಿಗಳು ಬೆಲೆಗಳು ಕಡಿಮೆಯಾದಾಗ ಹೆಚ್ಚಿನ ಷೇರುಗಳನ್ನು ಖರೀದಿಸಲು ನಿಮ್ಮನ್ನು ಒತ್ತಾಯಿಸುತ್ತದೆ ಅಂದರೆ ನಿಮ್ಮ ವೆಚ್ಚದ ಆಧಾರವು ನಿಮ್ಮ ಒಟ್ಟು ವೆಚ್ಚವನ್ನು ಹೇಳುವ ಒಂದು ಅಲಂಕಾರಿಕ ಮಾರ್ಗವಾಗಿದೆ ಮತ್ತು ಇದರರ್ಥ ನೀವು ಹೆಚ್ಚು ಲಾಭದ ಸಾಮರ್ಥ್ಯವನ್ನು ಹೊಂದಿದ್ದೀರಿ ಎಂದರ್ಥ\",0\\n\"ಕೊರೋವೈರಸ್ ಅನ್ನು ನಿಭಾಯಿಸಲು ಇಟಲಿಗೆ ಹಣ ಒದಗಿಸಲು ಇಯು ನೋಡಬೇಕು ವಕ್ತಾರ ಫಹಾದ್ ಶಬ್ಬೀರ್ 6 ನಿಮಿಷಗಳ ಹಿಂದೆ ಥು 27 ಫೆಬ್ರವರಿ 2020 05 31 PM ದೇಶದಲ್ಲಿ ಕರೋನವೈರಸ್ ರೋಗ ಹರಡುವಿಕೆಯ ಮಧ್ಯೆ ಇಟಲಿ ಇನ್ನೂ ಯುರೋಪಿಯನ್ ಒಕ್ಕೂಟದಿಂದ ಯಾವುದೇ ಹಣಕಾಸಿನ ನೆರವು ಕೋರಿಲ್ಲ ಆದರೆ ಬಣ ಸಿದ್ಧವಾಗಿದೆ ಅಂತಹ ವಿನಂತಿಯನ್ನು ಪರಿಗಣಿಸಿದರೆ ಅದನ್ನು ಪರಿಗಣಿಸಲು ಯುರೋಪಿಯನ್ ಆಯೋಗದ ವಕ್ತಾರ ಡಾನಾ ಸ್ಪಿನಂಟ್ ಗುರುವಾರ ಬ್ರಸೆಲ್ಸ್ ಉರ್ದುಪಾಯಿಂಟ್ ನ್ಯೂಸ್ ಸ್ಪುಟ್ನಿಕ್ 27 ಫೆಬ್ರವರಿ 2020 ರಂದು ಹೇಳಿದರು, ದೇಶದಲ್ಲಿ ಕರೋನವೈರಸ್ ರೋಗ ಹರಡುವಿಕೆಯ ಮಧ್ಯೆ ಇಟಲಿ ಇನ್ನೂ ಯುರೋಪಿಯನ್ ಒಕ್ಕೂಟದಿಂದ ಯಾವುದೇ ಹಣಕಾಸಿನ ನೆರವು ಕೋರಿಲ್ಲ ಆದರೆ ಬಣವು ಸಿದ್ಧವಾಗಿದೆ ಇಂತಹ ವಿನಂತಿಯನ್ನು ಪರಿಗಣಿಸಿದರೆ ಅದನ್ನು ಪರಿಗಣಿಸಿ ಯುರೋಪಿಯನ್ ಆಯೋಗದ ವಕ್ತಾರ ಡಾನಾ ಸ್ಪಿನಾಂಟ್ ಗುರುವಾರ ಇಯು ಒಗ್ಗಟ್ಟಿನ ನಿಧಿಗಳ ಬಳಕೆಗೆ ಸಂಬಂಧಿಸಿದಂತೆ ಇಟಲಿಯ ಯಾವುದೇ ಅಧಿಕೃತ ವಿನಂತಿಯ ಬಗ್ಗೆ ನನಗೆ ತಿಳಿದಿಲ್ಲ ಆದರೆ ಇಟಲಿಯಿಂದ ಅಂತಹ ಅರ್ಜಿಯನ್ನು ಮತ್ತು ಅಂತಹ ವಿನಂತಿಯನ್ನು ನಾವು ಸ್ವೀಕರಿಸಿದರೆ ನಾವು ಅದನ್ನು ಪರಿಶೀಲಿಸುತ್ತೇವೆ ಮತ್ತು ಸ್ಪಿನಂಟ್ ಈ ಹಿಂದೆ ಘೋಷಿಸಿದ ಬ್ರೀಫಿಂಗ್\\u200cನಲ್ಲಿ ನಾವು ನಿಮಗೆ ಹೆಚ್ಚು ಹೇಳಲು ಸಾಧ್ಯವಾಗುತ್ತದೆ ಇಯು ಮತ್ತು ವಿಶ್ವ ಆರೋಗ್ಯ ಸಂಸ್ಥೆಯ ಜಂಟಿ ಆಯೋಗವು ಇಟಲಿಯ ಪರಿಸ್ಥಿತಿಯನ್ನು ಮೇಲ್ವಿಚಾರಣೆ ಮಾಡುವುದನ್ನು ಮುಂದುವರೆಸಿದೆ, ಅದರ ನಂತರ ಅಪಾಯಗಳನ್ನು ಪರಿಶೀಲಿಸಲಾಗುತ್ತದೆ ಮತ್ತು ಇಯು ಸದಸ್ಯ ರಾಷ್ಟ್ರಗಳಿಗೆ ಶಿಫಾರಸುಗಳನ್ನು ನೀಡಲಾಗುತ್ತದೆ\",0\\n\"ಕೊರೊನಾವೈರಸ್ ಚೀನಾದ ವುಹಾನ್\\u200cನಿಂದ ವಿಶ್ವದಾದ್ಯಂತ 80000 ಕ್ಕೂ ಹೆಚ್ಚು ದೃ confirmed ಪಡಿಸಿದ ಪ್ರಕರಣಗಳು ಮತ್ತು ವಿಶ್ವದಾದ್ಯಂತ ಸುಮಾರು 3000 ಸಾವುಗಳು ಸಂಭವಿಸಿವೆ ಎಂದು ಆರೋಗ್ಯ ಕಾರ್ಯದರ್ಶಿ ಮ್ಯಾಟ್ ಹ್ಯಾನ್\\u200cಕಾಕ್ ಹೇಳಿದ್ದಾರೆ, ವೈರಸ್\\u200cಗಾಗಿ ತಪಾಸಣೆ ಮಾಡಬಹುದಾದ ಜನರ ಸಂಖ್ಯೆಯನ್ನು ವಿಸ್ತರಿಸಲು ಮನೆ ಪರೀಕ್ಷೆಯನ್ನು ವಿಸ್ತರಿಸಲು ಎನ್\\u200cಎಚ್\\u200cಎಸ್ ನೋಡುತ್ತಿದೆ. ಕೊರೊನಾವೈರಸ್ ಪ್ರಾಣಿಗಳು ಮತ್ತು ಜನರ ನಡುವೆ ಹರಡುವ oon ೂನೋಟಿಕ್ ಅರ್ಥವಾಗಿದೆ ಜೇನ್ ಬಾರ್ಲೋ ಪಿಎ ಕೊರೊನಾವೈರಸ್ಗಳು ವೈರಸ್ಗಳ ಒಂದು ದೊಡ್ಡ ಕುಟುಂಬವಾಗಿದೆ, ಏಕೆಂದರೆ ಸಾಮಾನ್ಯ ಶೀತದಿಂದ ತೀವ್ರವಾದ ಕಾಯಿಲೆಗಳಂತಹ ತೀವ್ರವಾದ ತೀವ್ರವಾದ ಉಸಿರಾಟದ ಸಿಂಡ್ರೋಮ್ ಸಾರ್ಸ್ ಕೊರೊನಾವೈರಸ್ಗಳು ಪ್ರಾಣಿಗಳ ನಡುವೆ ಹರಡುತ್ತವೆ ಮತ್ತು oon ೂನೋಟಿಕ್ ಅರ್ಥಗಳಾಗಿವೆ ವಿಶ್ವ ಆರೋಗ್ಯ ಸಂಸ್ಥೆ ಹೇಳುತ್ತದೆ ವಿಶ್ವ ಆರೋಗ್ಯ ಸಂಸ್ಥೆ ವೈರಸ್\\u200cಗೆ ತುತ್ತಾದ ಐದರಲ್ಲಿ ನಾಲ್ವರಲ್ಲಿ ಸೌಮ್ಯ ಲಕ್ಷಣಗಳು ಬರುತ್ತವೆ ಮತ್ತು ಚೇತರಿಸಿಕೊಳ್ಳುತ್ತವೆ ಎಂದು ಹೇಳಿದೆ\",0\\nಹಾಲೆ ಕಚೇರಿಯು ಫಾಕ್ಸ್ ನ್ಯೂಸ್\\u200cಗೆ ವೈದ್ಯಕೀಯ ಸರಬರಾಜು ಸರಪಳಿ ಭದ್ರತಾ ಕಾಯ್ದೆ ಎಂಬ ಶೀರ್ಷಿಕೆಯ ಮಸೂದೆಯನ್ನು ಅದರ ವಿಷಯಗಳ ರೂಪರೇಖೆಯೊಂದಿಗೆ ಒದಗಿಸಿತು. ಈ ಪ್ರಸ್ತಾಪದ ಮುಖ್ಯ ಕಾರ್ಯವೆಂದರೆ 1938 ರ ಫೆಡರಲ್ ಫುಡ್ ಡ್ರಗ್ ಮತ್ತು ಕಾಸ್ಮೆಟಿಕ್ ಆಕ್ಟ್ ಅನ್ನು ಪದಗಳು ಅಥವಾ ಸಾಧನವನ್ನು ಪಟ್ಟಿ ಮಾಡಲು ತಿದ್ದುಪಡಿ ಮಾಡುವುದು. ಹೆಚ್ಚಿನ ನಿಖರತೆ ಮತ್ತು ದಕ್ಷತೆಯೊಂದಿಗೆ ವೈದ್ಯಕೀಯ ಸಾಧನಗಳ ಕೊರತೆಯನ್ನು ಮೇಲ್ವಿಚಾರಣೆ ಮಾಡಲು ಆಹಾರ ಮತ್ತು ug ಷಧ ಆಡಳಿತವನ್ನು ಅನುಮತಿಸಲು ಮಸೂದೆ drug ಷಧ ಅಥವಾ ಸಾಧನದ ಕೊರತೆಗಾಗಿ drug ಷಧದ ಕೊರತೆಯ ಪದಗಳನ್ನು ವಿನಿಮಯ ಮಾಡಿಕೊಳ್ಳುತ್ತದೆ ಮತ್ತು ಪೂರ್ವ ಮಾರುಕಟ್ಟೆಯ ಅಗತ್ಯವಿರುವ ಅಗತ್ಯ ವೈದ್ಯಕೀಯ ಸಾಧನಗಳ ವಿಮರ್ಶೆಯನ್ನು ತ್ವರಿತಗೊಳಿಸಲು ಎಫ್\\u200cಡಿಎಗೆ ಅವಕಾಶ ನೀಡುತ್ತದೆ. ಅನುಮೋದನೆ ಈ ವಾರದ ಆರಂಭದಲ್ಲಿ ಸಂಭಾವ್ಯ drug ಷಧ ಮತ್ತು ವೈದ್ಯಕೀಯ ಸಾಧನಗಳ ಕೊರತೆಯನ್ನು ಸರಿದೂಗಿಸಲು ಏನು ಮಾಡಲಾಗುತ್ತಿದೆ ಎಂಬುದರ ಕುರಿತು ಉತ್ತರಗಳನ್ನು ಕೋರಿ ಹಾಲೆ ಎಫ್\\u200cಡಿಎಗೆ ಪತ್ರವೊಂದನ್ನು ಕಳುಹಿಸಿದ್ದಾರೆ. ಈ ಶಾಸನವು ನಮ್ಮ ಪೂರೈಕೆ ಸರಪಳಿಯನ್ನು ಉತ್ತಮವಾಗಿ ಭದ್ರಪಡಿಸಿಕೊಳ್ಳಲು ಮತ್ತು ಅಮೆರಿಕನ್ನರಿಗೆ ಜೀವನಕ್ಕೆ ನಿರಂತರ ಪ್ರವೇಶವನ್ನು ಹೊಂದಿದೆಯೆ ಎಂದು ಖಚಿತಪಡಿಸಿಕೊಳ್ಳಲು ನಮಗೆ ಅಗತ್ಯವಾದ ಮಾಹಿತಿಯನ್ನು ನೀಡುತ್ತದೆ. drugs ಷಧಗಳು ಮತ್ತು ವೈದ್ಯಕೀಯ ಸಾಧನಗಳನ್ನು ಉಳಿಸುವುದು ಎಂದು ಅವರು ಹೇಳಿದರು,0\\nಅನಾರೋಗ್ಯದ ಕಾರಣ ಪೋಪ್ ಫ್ರಾನ್ಸಿಸ್ ರೋಮ್ ಪಾದ್ರಿಗಳೊಂದಿಗೆ ಯೋಜಿತ ಮಾಸ್ ಅನ್ನು ತಪ್ಪಿಸಿಕೊಂಡಿದ್ದಾನೆ ವ್ಯಾಟಿಕನ್ನಿಂದ ಅವನ ಅನಾರೋಗ್ಯದ ಸ್ವರೂಪದ ಬಗ್ಗೆ ಯಾವುದೇ ಮಾತುಗಳಿಲ್ಲ ಆದರೆ ಬೂದಿ ಬುಧವಾರದಂದು ಪೋಪ್ ಕೆಮ್ಮುವುದು ಮತ್ತು ಮೂಗು ಬೀಸುತ್ತಿರುವುದು ಕಂಡುಬಂತು. ಮಾಸ್ ಫ್ರಾನ್ಸಿಸ್ ಸೇಂಟ್ ಗೆ ಹೋಗಲು ನಿರ್ಧರಿಸಲಾಗಿತ್ತು. ಜಾನ್ ಲ್ಯಾಟೆರನ್ ಬೆಸಿಲಿಕಾ ರೋಮ್ ಪಾದ್ರಿಗಳನ್ನು ಭೇಟಿಯಾಗಲು ಮತ್ತು ಲೆಂಟ್ ಫ್ರಾನ್ಸಿಸ್ನ ಆರಂಭದಲ್ಲಿ ಪ್ರಾಯಶ್ಚಿತ್ತ ಮಾಸ್ ಅನ್ನು ಆಚರಿಸಲು ರೋಮ್ನ ಬಿಷಪ್ ಆದರೆ ಆರ್ಚ್ಡಯಸೀಸ್ನ ದಿನನಿತ್ಯದ ಓಟವನ್ನು ವಿಕಾರ್ಗೆ ಪ್ರತಿನಿಧಿಸುತ್ತಾನೆ ಫ್ರಾನ್ಸಿಸ್ ಇತ್ತೀಚೆಗೆ ತನ್ನ ಸಾರ್ವಜನಿಕ ಸಾಮಾನ್ಯ ಪ್ರೇಕ್ಷಕರನ್ನು ಒಳಗೊಂಡಂತೆ ಕಾರ್ಯನಿರತ ವೇಳಾಪಟ್ಟಿಯನ್ನು ಹೊಂದಿದ್ದಾನೆ ಮತ್ತು ನಂತರದ ದಿನಗಳಲ್ಲಿ ಬೂದಿ ಬುಧವಾರ ಸೇವೆ ರೋಮನ್ ಬೆಸಿಲಿಕಾದಲ್ಲಿ,0\\nಚೀನಾಕ್ಕೆ ಹೋಗದ ಅಥವಾ ಇನ್ನೊಬ್ಬ ವ್ಯಕ್ತಿಗೆ ಒಡ್ಡಿಕೊಂಡ ವ್ಯಕ್ತಿಯಲ್ಲಿ COVID 19 ಸೋಂಕಿನ ಮೊದಲ ಪ್ರಕರಣವನ್ನು ನೀವು ಎಸ್ ವರದಿ ಮಾಡಿದ್ದೀರಿ ಎಂದು ಕರೋನವೈರಸ್ ಕಾದಂಬರಿಯೊಂದಿಗೆ ರೋಗ ನಿಯಂತ್ರಣ ಮತ್ತು ತಡೆಗಟ್ಟುವಿಕೆ ಕೇಂದ್ರಗಳು ಬುಧವಾರ ರಾತ್ರಿ ಹೇಳಿದೆ. ಇದು ತಜ್ಞರು ಕರೆಯುವ ಮೊದಲ ಉದಾಹರಣೆಯಾಗಿದೆ ಸಮುದಾಯದಲ್ಲಿ ನೀವು ಹರಡಿದ್ದೀರಿ ಎಸ್ ಹಿಂದಿನ ಎಲ್ಲಾ ಎಸ್ ಪ್ರಕರಣಗಳನ್ನು ಡೈಮಂಡ್ ಪ್ರಿನ್ಸೆಸ್ ಕ್ರೂಸ್ ಹಡಗಿನಲ್ಲಿ ಪ್ರಯಾಣಿಕರಾಗಿ ಚೀನಾ ಸಮಯಕ್ಕೆ ಪ್ರಯಾಣಿಸಲು ನೇರವಾಗಿ ಸಂಪರ್ಕಿಸಬಹುದು ಅಥವಾ ಸಂಗಾತಿಗಳ ನಡುವೆ ವೈರಸ್ ಹರಡಿದ ಎರಡು ನಿದರ್ಶನಗಳನ್ನು ಅಧ್ಯಕ್ಷ ಡೊನಾಲ್ಡ್ ನಂತರ ಸಿಡಿಸಿ ಘೋಷಿಸಿತು ನಿಮ್ಮ ಅಧ್ಯಕ್ಷರ ಉಪಾಧ್ಯಕ್ಷ ಮೈಕೆಲ್ ಪೆನ್ಸ್ ಅವರನ್ನು ನಿಮ್ಮ ಎಸ್ ಕೋವಿಡ್ 19 ಪ್ರತಿಕ್ರಿಯೆಯ ಉಸ್ತುವಾರಿ ವಹಿಸುವ ಮೂಲಕ ಏಕಾಏಕಿ ಅಮೆರಿಕದ ಚಿಂತೆಗಳನ್ನು ಸರಾಗಗೊಳಿಸುವ ಉದ್ದೇಶದಿಂದ ಟ್ರಂಪ್ ಸುದ್ದಿಗೋಷ್ಠಿ ನಡೆಸಿದರು. ಈಗ ನಿಮ್ಮ ಎಸ್ ನಲ್ಲಿ 60 ಸಿಒವಿಐಡಿ 19 ಪ್ರಕರಣಗಳಿವೆ. ಡೈಮಂಡ್ ಪ್ರಿನ್ಸೆಸ್ ಮತ್ತು ವುಹಾನ್ ಚೀನಾದಿಂದ ಡಿಸೆಂಬರ್\\u200cನಲ್ಲಿ ಮೊದಲ ಬಾರಿಗೆ ವೈರಸ್ ಪತ್ತೆಯಾದ ನಗರದಿಂದ ಆರು ಜನರನ್ನು ನಿಮ್ಮ ಎಸ್ ವರ್ಲ್ಡ್\\u200cವೈಡ್\\u200cನಲ್ಲಿ ಚೇತರಿಸಿಕೊಂಡಂತೆ ಎಣಿಸಲಾಗಿದೆ ಈಗ 8244 ಸಿಒವಿಐಡಿ 19 ಪ್ರಕರಣಗಳಲ್ಲಿ ಕನಿಷ್ಠ 2808 ಸಾವುಗಳು ಮತ್ತು ಸುಮಾರು 33179 ಜನರು ಪ್ರಾಥಮಿಕವಾಗಿ ಚೀನಾದ ಹುಬೈ ಪ್ರಾಂತ್ಯದಲ್ಲಿ ಜಾನ್ಸ್ ಹಾಪ್ಕಿನ್ಸ್ ವೈಟಿಂಗ್ ಸ್ಕೂಲ್ ಆಫ್ ಎಂಜಿನಿಯರಿಂಗ್ ಕೇಂದ್ರಗಳ ಸಿಸ್ಟಮ್ಸ್ ಸೈನ್ಸ್ ಮತ್ತು ಎಂಜಿನಿಯರಿಂಗ್\\u200cನ ಇತ್ತೀಚಿನ ಅಂಕಿಅಂಶಗಳ ಪ್ರಕಾರ ಚೇತರಿಸಿಕೊಂಡಿದ್ದಾರೆ.,1\\n\"ವಾಲ್\\u200cಸ್ಟ್ರೀಟ್ ಒಮ್ಮತದ ಅಂದಾಜುಗಳನ್ನು ಕಂಪನಿಯು ಮೇಲಿನ ಮತ್ತು ಕೆಳಗಿನ ಎರಡೂ ಹಂತಗಳಲ್ಲಿ ಪುಡಿಮಾಡಿರುವುದರಿಂದ ಮತ್ತು ಕಾರ್ಯಾಚರಣೆಗಳಿಂದ ಹೊಂದಾಣಿಕೆಯಾದ ಹಣವನ್ನು ಎಎಫ್\\u200cಎಫ್\\u200cಒ ಬಲವಾದ ನವೀನ ಕೈಗಾರಿಕಾ ಪ್ರಾಪರ್ಟೀಸ್ ಪ್ರಮುಖ ಸಂಖ್ಯೆಗಳಲ್ಲಿ ಬಂದಿರುವುದರಿಂದ ಸಾಮಾನ್ಯ ಮಾರುಕಟ್ಟೆಯಲ್ಲಿ ಈ ಷೇರು ಗುರುವಾರ ಏರಿಕೆಯಾಗಲಿದೆ. ಮೆಟ್ರಿಕ್ ಕ್ಯೂ 4 2019 ಕ್ಯೂ 4 2018 ಬಾಡಿಗೆ ಆದಾಯವನ್ನು ಬದಲಾಯಿಸಿ 17 7 ಮಿಲಿಯನ್ 4 8 ಮಿಲಿಯನ್ 269 ಕಾರ್ಯಾಚರಣಾ ಆದಾಯ 10 6 ಮಿಲಿಯನ್ 1 8 ಮಿಲಿಯನ್ 487 ನಿವ್ವಳ ಆದಾಯ 9 6 ಮಿಲಿಯನ್ 2 3 ಮಿಲಿಯನ್ 311 ಪ್ರತಿ ಷೇರಿಗೆ ಗಳಿಕೆ ಇಪಿಎಸ್ 0 78 0 24225 ಕಾರ್ಯಾಚರಣೆಗಳಿಂದ ಹೊಂದಾಣಿಕೆಯಾದ ಹಣ ಎಎಫ್\\u200cಎಫ್\\u200cಒ 14 3 ಮಿಲಿಯನ್ 3 6 ಮಿಲಿಯನ್ 293 ಪ್ರತಿ ಷೇರಿಗೆ ಎಎಫ್\\u200cಎಫ್\\u200cಒ 1 18 0 38211 ಡೇಟಾ ಮೂಲ ನವೀನ ಕೈಗಾರಿಕಾ ಗುಣಲಕ್ಷಣಗಳು ತ್ರೈಮಾಸಿಕದಲ್ಲಿ ವಾಲ್ ಸ್ಟ್ರೀಟ್ 14 4 ಮಿಲಿಯನ್ ಆದಾಯದ ಮೇಲೆ ಪ್ರತಿ ಷೇರಿನ ಇಪಿಎಸ್ 0 57 ರಷ್ಟನ್ನು ಹುಡುಕುತ್ತಿತ್ತು, ಆದ್ದರಿಂದ ಐಐಪಿ ಎರಡೂ ನಿರೀಕ್ಷೆಗಳಿಂದ ನೌಕಾಯಾನ ಮಾಡಿತು ಸೆಪ್ಟೆಂಬರ್ನಲ್ಲಿ ಇದು ಸೆಪ್ಟೆಂಬರ್ನಿಂದ ಫೆಬ್ರವರಿ 26 ರವರೆಗೆ ಸಾಮಾನ್ಯ ಷೇರುಗಳ ಷೇರುಗಳನ್ನು ನೀಡುವ ಮಾರುಕಟ್ಟೆ ಇಕ್ವಿಟಿ ಕೊಡುಗೆ ಕಾರ್ಯಕ್ರಮದಲ್ಲಿ ಸ್ಥಾಪಿಸಿತು. ಕಂಪನಿಯ ಗಳಿಕೆಯ ಬಿಡುಗಡೆಯ ಪ್ರಕಾರ ನಿವ್ವಳ ಒಟ್ಟು ಮೊತ್ತ ಸುಮಾರು 8 8 ಮಿಲಿಯನ್ ಇಲ್ಲಿದೆ ಗಳಿಕೆಯ ಬಿಡುಗಡೆಯಿಂದ ತೆಗೆದ ಡಸ್ಟ್ರಿಯಲ್ ಪ್ರಾಪರ್ಟೀಸ್ ಪೋರ್ಟ್ಫೋಲಿಯೊ ಫೆಬ್ರವರಿ 26 ರಂತೆ ಐಐಪಿ ಒಡೆತನದ 51 ಆಸ್ತಿಗಳನ್ನು ಅರಿ z ೋನಾ ಕ್ಯಾಲಿಫೋರ್ನಿಯಾದಲ್ಲಿದೆ. ಅಭಿವೃದ್ಧಿ ಪುನರಾಭಿವೃದ್ಧಿಯ ಅಡಿಯಲ್ಲಿ ಚದರ ಅಡಿಗಳು 98% ಅನ್ನು ಗುತ್ತಿಗೆಗೆ ನೀಡಲಾಗಿದ್ದು, ಚದರ ತುಣುಕನ್ನು ಆಧರಿಸಿ ಸುಮಾರು 15 6 ವರ್ಷಗಳ ತೂಕದ ಸರಾಸರಿ ಗುತ್ತಿಗೆ ಅವಧಿಯೊಂದಿಗೆ\",1\\nದಾಖಲೆಯ ತ್ರೈಮಾಸಿಕ ಸಾಸ್ ಮಾರಾಟ ಸೇರಿದಂತೆ ಒಟ್ಟು ನಾಲ್ಕನೇ ತ್ರೈಮಾಸಿಕ ಫಲಿತಾಂಶಗಳನ್ನು ತಲುಪಿಸುವ ಮೂಲಕ ನಾವು 2019 ಅನ್ನು ಪೂರ್ಣಗೊಳಿಸಿದ್ದೇವೆ ಮತ್ತು ಇದು ಒಟ್ಟು ಮಾರಾಟದ 26% ರಷ್ಟಿದೆ ಮತ್ತು ಪ್ರತಿ ಷೇರಿಗೆ ತ್ರೈಮಾಸಿಕ ಗಳಿಕೆಯ ಗಳಿಕೆಯಲ್ಲಿ ವರ್ಷದಿಂದ ವರ್ಷಕ್ಕೆ ಗಮನಾರ್ಹ ಹೆಚ್ಚಳ ಮತ್ತು ಉಚಿತ ನಗದು ಹರಿವು ನಿರ್ದಿಷ್ಟವಾಗಿ 2019 ರಲ್ಲಿ ನಮ್ಮ ಮಾರುಕಟ್ಟೆ ಷೇರು ಕಾರ್ಯಕ್ಷಮತೆಯನ್ನು ಕೇಂದ್ರೀಕರಿಸಿದೆ ಎಸ್\\u200cಇಸಿಯ ಐಎಕ್ಸ್\\u200cಬಿಆರ್ಎಲ್ ಮತ್ತು ಫಾಸ್ಟ್ ಆಕ್ಟ್ ಆದೇಶಗಳು ನಮ್ಮ ಸುಧಾರಣೆಯ ಪಕ್ಕದಲ್ಲಿ ಚಲಿಸುವ ಅವಕಾಶವನ್ನು ಸೆರೆಹಿಡಿಯುವ ಮೂಲಕ 10 ವರ್ಷಗಳಲ್ಲಿ ಮೊದಲ ಬಾರಿಗೆ 10 ಕೆ 10 ಕ್ಯೂ ಮತ್ತು ನೋಟಿಸ್ ಮತ್ತು ಪ್ರಾಕ್ಸಿ ಫೈಲಿಂಗ್\\u200cಗಳನ್ನು 10 ವರ್ಷಗಳಲ್ಲಿ ಹೆಚ್ಚಿಸಿದ್ದಕ್ಕಾಗಿ ನಾವು ಸಂತೋಷಪಟ್ಟಿದ್ದೇವೆ. ಆದಾಯ ಮಿಶ್ರಣವು ಸ್ಥಳ ಆಕ್ಟಿವ್ ಡಿಸ್ಕ್ಲೋಸರ್ ಮತ್ತು ಫಂಡ್\\u200cಸೂಟ್ ಆರ್ಕ್ ಮಾರಾಟದಲ್ಲಿ ಯಶಸ್ಸನ್ನು ಗಳಿಸಿತು ಮತ್ತು ಇಬ್ರೆವಿಯಾದ ಆರೋಗ್ಯಕರ ಕೊಡುಗೆಯೊಂದಿಗೆ ಒಟ್ಟು ಸಾಸ್ ನಿವ್ವಳ ಮಾರಾಟವು ವರ್ಷದ ಒಟ್ಟು ನಿವ್ವಳ ಮಾರಾಟದ 22 ಕ್ಕೆ ತಲುಪಲು ಕಾರಣವಾಯಿತು. ಕ್ಯಾಪಿಟಲ್ ಮಾರ್ಕೆಟ್\\u200cಗಳಲ್ಲಿ ಆಕ್ಟಿವ್ ಡಿಸ್ಕ್ಲೋಸರ್ ನಾಲ್ಕನೇ ತ್ರೈಮಾಸಿಕದ ಆದಾಯವನ್ನು ಸುಮಾರು 21 ವರ್ಷಗಳಲ್ಲಿ ಹೆಚ್ಚಿಸಿದೆ ವರ್ಷ ಮತ್ತೆ ನಮ್ಮ ಬಂಡವಾಳ ಮಾರುಕಟ್ಟೆಗಳಲ್ಲಿ ಬೇರೆಡೆ ಡಜನ್ಗಟ್ಟಲೆ ಹೊಸ ಗ್ರಾಹಕರನ್ನು ಸೇರಿಸುವುದು ವಹಿವಾಟು ಮತ್ತು ಸ್ಥಳ ಕೊಡುಗೆಗಳು ಎಂಎ ಎನ್ವಿ ನಾಲ್ಕನೇ ತ್ರೈಮಾಸಿಕದಲ್ಲಿ ಒಟ್ಟು ಮುಚ್ಚಿದ ಎಂಎ ವಹಿವಾಟುಗಳು ಮತ್ತು ಎಸ್\\u200cಇಸಿ ವಿಲೀನ ದಾಖಲಾತಿಗಳು 2018 ರ ನಾಲ್ಕನೇ ತ್ರೈಮಾಸಿಕಕ್ಕೆ ಹೋಲಿಸಿದರೆ 25 ಕ್ಕಿಂತಲೂ ಕಡಿಮೆಯಾಗಿದೆ,1\\n\"ಫೆಬ್ರವರಿ 27 ರಾಯಿಟರ್ಸ್ ಮೊಬೈಲ್ ಫೋನ್ ಟ್ಯಾಬ್ಲೆಟ್\\u200cಗಳು ಮತ್ತು ಹೆಡ್\\u200cಫೋನ್\\u200cಗಳ ಬಲವಾದ ಆನ್\\u200cಲೈನ್ ಮಾರಾಟವು ಗುರುವಾರ ನಿರೀಕ್ಷಿತ ತ್ರೈಮಾಸಿಕ ಲಾಭ ಮತ್ತು ಮಾರಾಟಕ್ಕಿಂತ ಉತ್ತಮವಾಗಿ ಬೆಸ್ಟ್ ಬೈ ಕೋ ಇಂಕ್ ಪೋಸ್ಟ್\\u200cಗೆ ಸಹಾಯ ಮಾಡಿತು, ಏಕೆಂದರೆ ಚಿಲ್ಲರೆ ವ್ಯಾಪಾರಿ ಇಟ್ಟಿಗೆ ಮತ್ತು ಗಾರೆ ಚಿಲ್ಲರೆ ವ್ಯಾಪಾರಿಗಳಿಗೆ ನಿರಾಶಾದಾಯಕ ರಜಾದಿನವನ್ನು ಮೀರಿದೆ. ಗ್ರಾಹಕ ಎಲೆಕ್ಟ್ರಾನಿಕ್ಸ್ ಚಿಲ್ಲರೆ ವ್ಯಾಪಾರಿಗಳ ಷೇರುಗಳು 3% ಕ್ಕೆ ಏರಿದೆ ವರ್ಷದ ಮೊದಲಾರ್ಧದಲ್ಲಿ ಕೊರೊನಾವೈರಸ್ ಏಕಾಏಕಿ ಆರ್ಥಿಕ ಹಿಟ್ ತೆಗೆದುಕೊಳ್ಳಲಿದೆ ಎಂದು ಕಂಪನಿಯು ಹೇಳಿದಂತೆ ಪ್ರೀಮಾರ್ಕೆಟ್ ವಹಿವಾಟಿನಲ್ಲಿ 85 ಫಲಿತಾಂಶಗಳು ನಿರ್ಣಾಯಕ ಸಮಯದಲ್ಲಿ ದುರ್ಬಲ ಮಾರಾಟವನ್ನು ವರದಿ ಮಾಡಿದ ದೊಡ್ಡ ಚಿಲ್ಲರೆ ಹೆಸರುಗಳ ಪಟ್ಟಿಯಲ್ಲಿ ಬೆಸ್ಟ್ ಬೈ ಒಂದು ಹೊರಗಿನವನು ಎಂದು ಫಲಿತಾಂಶಗಳು ತೋರಿಸುತ್ತವೆ. ಸಾಂಪ್ರದಾಯಿಕ ಇಟ್ಟಿಗೆ ಮತ್ತು ಗಾರೆ ವ್ಯವಹಾರಗಳು ರಜಾದಿನಗಳು ಆನ್\\u200cಲೈನ್\\u200cನಲ್ಲಿ ಶಾಪಿಂಗ್ ಮಾಡಲು ಆಯ್ಕೆಮಾಡಿದ ಗ್ರಾಹಕರ ನೋವನ್ನು ಅನುಭವಿಸಿದವು. ಬೆಸ್ಟ್ ಬೈ ಒಟ್ಟಾರೆ ಅದೇ ಅಂಗಡಿ ಮಾರಾಟವು ಫೆಬ್ರವರಿ ಕೊನೆಗೊಂಡ ನಾಲ್ಕನೇ ತ್ರೈಮಾಸಿಕದಲ್ಲಿ 3% ಏರಿಕೆಯಾಗಿದೆ. ಐಬಿಇಎಸ್ ಪ್ರಕಾರ ವಿಶ್ಲೇಷಕರ ಸರಾಸರಿ ಅಂದಾಜು 1 9 ಹೆಚ್ಚಳ ವಾಲ್ ಸ್ಟ್ರೀಟ್\\u200cನ 1 9 ಏರಿಕೆಗಳ ನಿರೀಕ್ಷೆಯೊಂದಿಗೆ ಹೋಲಿಸಿದರೆ ರೆಫಿನಿಟಿವ್ ಬೆಸ್ಟ್ ಬೈ ಮುನ್ಸೂಚನೆ ಹಣಕಾಸು 2021 ರ ಅದೇ ಅಂಗಡಿ ಮಾರಾಟದ ಬೆಳವಣಿಗೆ ಫ್ಲಾಟ್\\u200cಗೆ 2 ಕ್ಕೆ ಇ\",0\\n\"ಆಸ್ಟ್ರೇಲಿಯಾದ ಸಿಡ್ನಿ ವಿಶ್ವವಿದ್ಯಾನಿಲಯಗಳು ಸಿಕ್ಕಿಬಿದ್ದ ಚೀನೀ ವಿದ್ಯಾರ್ಥಿಗಳಿಗೆ ತಮ್ಮ ಅಧ್ಯಯನವನ್ನು ಪುನರಾರಂಭಿಸಲು ಪ್ರೋತ್ಸಾಹಿಸಲು ಮತ್ತು ಮೂರನೇ ದೇಶದ ಮೂಲಕ ಆಸ್ಟ್ರೇಲಿಯಾಕ್ಕೆ ಪ್ರಯಾಣಿಸಲು ಸಹಾಯ ಮಾಡಲು ಹಣವನ್ನು ನೀಡಿವೆ, ಆದ್ದರಿಂದ ಅವರು ಕರೋನವೈರಸ್ ಸಂಬಂಧಿತ ಪ್ರಯಾಣ ನಿಷೇಧಕ್ಕೆ ಒಳಪಡುವುದಿಲ್ಲ ಆಸ್ಟ್ರೇಲಿಯಾದ ವಿಶ್ವವಿದ್ಯಾಲಯಗಳು ಅಂದಾಜು ನಷ್ಟವನ್ನು ಎದುರಿಸುತ್ತಿವೆ ಪ್ರಯಾಣ ನಿಷೇಧದಿಂದಾಗಿ 3 ಬಿಲಿಯನ್ ವರೆಗೆ ಮತ್ತು ಚೀನೀ ವಿದ್ಯಾರ್ಥಿಗಳಿಗೆ ತಮ್ಮ ದಾಖಲಾತಿಗಳನ್ನು ಮುಂದುವರಿಸಲು ಅನುವು ಮಾಡಿಕೊಡುವ ಮಾರ್ಗಗಳನ್ನು ಹುಡುಕಲು ತುರ್ತಾಗಿ ಪ್ರಯತ್ನಿಸುತ್ತಿದ್ದೇವೆ. ಮೊದಲ ಸೆಮಿಸ್ಟರ್ ಕೋರ್ಸ್\\u200cಗಳಿಗೆ ದಾಖಲಾದ 109000 ಚೀನೀ ವಿಶ್ವವಿದ್ಯಾಲಯದ ವಿದ್ಯಾರ್ಥಿಗಳಲ್ಲಿ ಸುಮಾರು 65800 ಮಂದಿ ಚೀನಾದಲ್ಲಿಯೇ ಉಳಿದಿದ್ದಾರೆ ಮತ್ತು ಪ್ರಯಾಣಿಸಲು ಸಾಧ್ಯವಾಗುತ್ತಿಲ್ಲ ನಿಷೇಧದಿಂದಾಗಿ ಆಸ್ಟ್ರೇಲಿಯಾಕ್ಕೆ ವಿದ್ಯಾರ್ಥಿಗಳಿಗೆ ಸಹಾಯ ಮಾಡಲು ಆಸ್ಟ್ರೇಲಿಯಾ ವಿಶ್ವವಿದ್ಯಾನಿಲಯಗಳು ಅನುದಾನವನ್ನು ನೀಡುತ್ತಿವೆ, ಅವುಗಳಲ್ಲಿ ಕೆಲವು ಮೂರನೇ ದೇಶದಲ್ಲಿ ವಿದ್ಯಾರ್ಥಿಗಳನ್ನು ಸಾಗಿಸಲು ಪ್ರೋತ್ಸಾಹಿಸಲು ವಿನ್ಯಾಸಗೊಳಿಸಲಾಗಿದೆ, ಅಲ್ಲಿ ಅವರು ಆಸ್ಟ್ರೇಲಿಯಾಕ್ಕೆ ಬರುವ ಮೊದಲು ಕನಿಷ್ಠ 14 ದಿನಗಳವರೆಗೆ ಇರಬೇಕಾಗುತ್ತದೆ. ಚೀನಾದಿಂದ ಸುಮಾರು 13000 ವಿದ್ಯಾರ್ಥಿಗಳು ಪ್ರಯಾಣ ನಿಷೇಧ ಇಮ್ ಆಗಿರುವುದರಿಂದ ಥೈಲ್ಯಾಂಡ್ ಮಲೇಷ್ಯಾ ಮತ್ತು ಕಾಂಬೋಡಿಯಾದಂತಹ ಮೂರನೇ ದೇಶಗಳ ಮೂಲಕ ಆಸ್ಟ್ರೇಲಿಯಾವನ್ನು ಪ್ರವೇಶಿಸಿದೆ ಎಂದು ವರದಿಯಾಗಿದೆ ಫೆಬ್ರವರಿ 1 ರಂದು ಒಡ್ಡಲಾಗಿದೆ\",0\\n\"ಡೇವಿಡ್ ಬೆಕ್ಹ್ಯಾಮ್ ತನ್ನ ಲೆಗೊ ತಯಾರಿಕೆಯ ಅಭ್ಯಾಸವನ್ನು ತ್ಯಜಿಸಲು ಅಪಹಾಸ್ಯಕ್ಕೊಳಗಾಗುವುದಿಲ್ಲ ಏಕೆಂದರೆ ಸಣ್ಣ ಕಟ್ಟಡದ ಇಟ್ಟಿಗೆಗಳೊಂದಿಗೆ ಆಟವಾಡುವುದು ಅವನನ್ನು ಶಾಂತಗೊಳಿಸುತ್ತದೆ ಎಂದು ಅವರು ಹೇಳುತ್ತಾರೆ ಟುನೈಟ್ ಶೋ ವಿತ್ ಜಿಮ್ಮಿ ಫಾಲನ್ ಬೆಕ್ಸ್ ಅವರು ತಮ್ಮ ಲೆಗೊ ಸ್ಪ್ಲೇಯೊಂದಿಗೆ ರಾತ್ರಿಯಿಡೀ ಕುಳಿತುಕೊಳ್ಳಲು ವಿಷಯಕ್ಕಿಂತ ಹೆಚ್ಚಿನವರಾಗಿದ್ದಾರೆ ಎಂದು ಬಹಿರಂಗಪಡಿಸಿದರು. ಅವನ ಮುಂದೆ 20 ವರ್ಷ ವಯಸ್ಸಿನ ಅವನ ಹೆಂಡತಿ ವಿಕ್ಟೋರಿಯಾ ಸಹಾಯ ಮಾಡಲಾರಳು ಆದರೆ ಅವನನ್ನು ನೋಡಿ ನಗುವುದು ಕ್ಲಿಪ್ ವಿಕ್ಟೋರಿಯಾ ಚಿತ್ರವನ್ನು ಡೇವಿಡ್ ತನ್ನ ಲೆಗೊ ಮೇಲೆ ಗಲಾಟೆ ಮಾಡುತ್ತಿರುವುದನ್ನು ನೋಡಿದೆ, ಆದರೆ ಹಿನ್ನೆಲೆಯಲ್ಲಿ ಕೇಳಬಹುದು ಡೇವಿಡ್ ಕ್ಲಿಪ್ನಲ್ಲಿ ಎಷ್ಟು ಸಮಯ ಹಿಂದೆ ನಗುತ್ತಿದ್ದಾನೆ ಎಂದು ಡೇವಿಡ್ ನಂತರ ನಾನು ಬಹಿರಂಗಪಡಿಸಿದೆ ಲವ್ ಲೆಗೊ ನಾನು ಅದನ್ನು ತಯಾರಿಸುವಾಗ ಅದು ನನ್ನನ್ನು ಶಾಂತಗೊಳಿಸುತ್ತದೆ ಮತ್ತು ಅವನ ಲೆಗೊ ಪ್ರೀತಿಯ ಮಾರ್ಗಗಳನ್ನು ಮುಂದುವರಿಸಲು ಉತ್ಸುಕನಾಗಿದ್ದಾನೆ ಆತಿಥೇಯ ಜಿಮ್ಮಿ ನಂತರ ಡೇವಿಡ್ಗೆ ಹೊಚ್ಚ ಹೊಸ ಲೆಗೊವನ್ನು ಸ್ಟಾರ್ ವಾರ್ಸ್\\u200cನಿಂದ ಮಿಲೇನಿಯಮ್ ಫಾಲ್ಕನ್ ಅನ್ನು ಹೊಂದಿಸಿದನು ಮತ್ತು ಮಾಜಿ ಫುಟ್ಬಾಲ್ ಆಟಗಾರ ವಿಕ್ಟೋರಿಯಾಳನ್ನು ಚಂದ್ರನ ಮೇಲೆ ಹೋಗುತ್ತಿದ್ದಾನೆ ಎಂದು ಗೇಲಿ ಮಾಡಿದರು\",1\\n\"ಕರೋನವೈರಸ್ನ ಪರಿಣಾಮವನ್ನು ನವೀಕರಿಸಲು ಬುಧವಾರ ಪತ್ರಿಕಾಗೋಷ್ಠಿಯಲ್ಲಿ ಎಸ್ ಅಧ್ಯಕ್ಷ ಟ್ರಂಪ್ ಅವರು ವರ್ಷಕ್ಕೆ ಸಾವಿರಾರು ಜನರನ್ನು ಕೊಲ್ಲುವ ಜ್ವರ ಬಗ್ಗೆ ಮಾತನಾಡಿದರು, ಇದುವರೆಗೆ ಕರೋನವೈರಸ್ ಅನ್ನು ಸಂಕುಚಿತಗೊಳಿಸಿದ 15 ನೀವು ಎಸ್ ನಾಗರಿಕರಿಗೆ ಹೋಲಿಸಿದರೆ ಟ್ರಂಪ್ ಹೇಗೆ ಕರೋನವೈರಸ್ ಹೊಂದಿರುವ ನಿಮ್ಮ ಎಸ್ ನಾಗರಿಕರ ಸಂಖ್ಯೆಯನ್ನು 15 ಕ್ಕೆ ಇರಿಸಲು ನೀವು ಸಮರ್ಥರಾಗಿದ್ದೀರಿ ಎಂದು ಅವರು ಹೇಳಿದರು. ನೀವು ಅಲ್ಲದ ಎಸ್ ನಾಗರಿಕರು ನಿಮ್ಮೊಳಗೆ ಬರುವುದನ್ನು ನಿಲ್ಲಿಸುವುದು ಚೀನಾದಿಂದ ಎಸ್ ಅನ್ನು ಕರೋನವೈರಸ್ ಹೊಂದಿದೆಯೆಂದು ತಿಳಿದಿರುವ ಆ ದೇಶಗಳ ಜನರನ್ನು ಸ್ಕ್ರೀನಿಂಗ್ ಮಾಡುವುದು ಮತ್ತು ಸೋಂಕಿತರನ್ನು ನಿರ್ಬಂಧಿಸುವುದು ಪ್ರಮುಖವಾದುದು ಕಡಿಮೆ ಮಟ್ಟಕ್ಕೆ ಸೋಂಕು ತಗುಲಿದ ಅವರು ನಿಮ್ಮಲ್ಲಿ ಕೊರೊನಾವೈರಸ್ ಏಕಾಏಕಿ ಸಂಭವಿಸುವ ಪ್ರತಿಕ್ರಿಯೆಯ ಜವಾಬ್ದಾರಿಯನ್ನು ಉಪಾಧ್ಯಕ್ಷ ಮೈಕ್ ಪೆನ್ಸ್ ಅವರನ್ನು ವಹಿಸಿಕೊಳ್ಳುವುದಾಗಿ ಘೋಷಿಸಿದರು. ಹೆಚ್ಚಿನ ಮಾಹಿತಿಗಾಗಿ ದಯವಿಟ್ಟು ಗ್ಲೋಬಲ್ ನ್ಯೂಸ್ ಚಾನೆಲ್ಗೆ ಹೋಗಿ ಇಲ್ಲಿ ಫೇಸ್\\u200cಬುಕ್\\u200cನಲ್ಲಿ ಗ್ಲೋಬಲ್ ನ್ಯೂಸ್ ಟ್ವಿಟರ್ ಇನ್ಸ್ಟಾಗ್ರಾಮ್ನಲ್ಲಿ ಜಾಗತಿಕ ಸುದ್ದಿ ಇಲ್ಲಿ ಗ್ಲೋಬಲ್ನ್ಯೂಸ್\",0\\n\"ಪ್ಯಾರಿಸ್ ಎಎಫ್\\u200cಪಿ ಅಧ್ಯಕ್ಷ ಎಮ್ಯಾನುಯೆಲ್ ಮ್ಯಾಕ್ರೋನ್ ಗುರುವಾರ ಫೆಬ್ರವರಿ 27 ರಂದು ಫ್ರಾನ್ಸ್ ಕರೋನವೈರಸ್ ಪ್ರಕರಣಗಳ ಸಂಖ್ಯೆಯಲ್ಲಿ ಹೆಚ್ಚಳಕ್ಕೆ ತಯಾರಿ ನಡೆಸುತ್ತಿದೆ ಎಂದು ಹೇಳಿದರು ಮತ್ತು ನಾವು ಅದನ್ನು ಸಾಧ್ಯವಾದಷ್ಟು ಉತ್ತಮವಾಗಿ ಎದುರಿಸಬೇಕಾಗಿದೆ ಮತ್ತು ನಾವು ಬಿಕ್ಕಟ್ಟನ್ನು ಎದುರಿಸುತ್ತಿದ್ದೇವೆ ಸಾಂಕ್ರಾಮಿಕ ರೋಗವು ಶ್ರೀ ಮ್ಯಾಕ್ರೋನ್ ಹೇಳಿದರು ಪ್ಯಾರಿಸ್ನ ಲಾ ಪಿಟಿ ಸಾಲ್ಪೆಟ್ರಿಯೆರ್ ಆಸ್ಪತ್ರೆಯಲ್ಲಿ ಸಿಬ್ಬಂದಿಯನ್ನು ಭೇಟಿ ಮಾಡುವಾಗ ಹೊಸ ಕರೋನವೈರಸ್ ಹೊತ್ತ ಮೊದಲ ಫ್ರೆಂಚ್ ವ್ಯಕ್ತಿ ಮಂಗಳವಾರ ನಿಧನರಾದರು ಫ್ರಾನ್ಸ್ ಇದುವರೆಗೆ 18 ಪ್ರಕರಣಗಳನ್ನು ವರದಿ ಮಾಡಿದೆ ಮತ್ತು 80 ವರ್ಷದ ಚೀನಾದ ಪ್ರವಾಸಿ ಸೇರಿದಂತೆ ಎರಡು ಸಾವುಗಳು ವರದಿಯಾಗಿದೆ. ಏಷ್ಯಾ ಎರಡನೆಯದು 60 ವರ್ಷದ ಶಿಕ್ಷಕನಾಗಿದ್ದು, ಅವರು ಏಕಾಏಕಿ ಹಾಟ್ ಸ್ಪಾಟ್\\u200cಗೆ ಪ್ರಯಾಣಿಸದ ಕಾರಣ ಅಧಿಕಾರಿಗಳನ್ನು ಆತಂಕಕ್ಕೊಳಗಾಗಿದ್ದಾರೆ. ಅದೇ ಪ್ರದೇಶದ 55 ವರ್ಷದ ವ್ಯಕ್ತಿಯೊಬ್ಬರು ಏಕಾಏಕಿ ವಲಯಕ್ಕೆ ಪ್ರಯಾಣಿಸದ ಶಿಕ್ಷಕನನ್ನು ಸಹ ಆಸ್ಪತ್ರೆಗೆ ದಾಖಲಿಸಲಾಗಿದೆ ಫ್ರೆಂಚ್ ನೆಲದಲ್ಲಿ ಸೋಂಕಿನ ಮೂಲವನ್ನು ಕಂಡುಹಿಡಿಯಲು ವೈರಸ್ ಮತ್ತು ತನಿಖೆಗಳು ನಡೆಯುತ್ತಿವೆ\",1\\n\"ಈ ಲೇಖನವು ಮೂಲತಃ ABACUSThe ಸ್ಮ್ಯಾಶ್ ಹಿಟ್ ಸಾಂಕ್ರಾಮಿಕ ಸಿಮ್ಯುಲೇಶನ್ ಗೇಮ್\\u200cನಲ್ಲಿ ಕಾಣಿಸಿಕೊಂಡಿತು, ಕರೋನವೈರಸ್ ಏಕಾಏಕಿ ಪ್ರಾರಂಭವಾದಾಗಿನಿಂದ ದೇಶದಲ್ಲಿ ಹಿಟ್ ಆದ ನಂತರ ಪ್ಲೇಗ್ ಇಂಕ್ ಚೀನಾದಲ್ಲಿನ ಆಪ್ ಸ್ಟೋರ್\\u200cನಿಂದ ಕಣ್ಮರೆಯಾಗಿದೆ. 8 ವರ್ಷದ ಆಟವು ಚೀನಾದಲ್ಲಿ ಹೊಸ ಜನಪ್ರಿಯತೆಯನ್ನು ಗಳಿಸಿತು ಏಕೆಂದರೆ ಅದರ ಪ್ರಮೇಯ ಆಟಗಾರರು ಮಾನವ ಜನಾಂಗವನ್ನು ಅಳಿಸಿಹಾಕುವ ಅಂತಿಮ ಗುರಿಯೊಂದಿಗೆ ಸೂಪರ್ ವೈರಸ್ ಅನ್ನು ಎಂಜಿನಿಯರ್ ಮಾಡಬೇಕು ಆದರೆ ಈಗ ಐಫೋನ್ ಮಾಲೀಕರು ಚೀನಾದ ಮುಖ್ಯ ಭೂಭಾಗದಲ್ಲಿರುವ ಐಒಎಸ್ ಆಪ್ ಸ್ಟೋರ್\\u200cನಲ್ಲಿ ಆಟವನ್ನು ಡೌನ್\\u200cಲೋಡ್ ಮಾಡಲು ಅಥವಾ ನವೀಕರಿಸಲು ಸಾಧ್ಯವಿಲ್ಲ.\",1\\n\"ಸಿಡ್ನಿ ದುಬೈ ರಾಯಿಟರ್ಸ್ ಇರಾನ್ ಇಟಲಿಯ ದಕ್ಷಿಣ ಕೊರಿಯಾ ಮತ್ತು ಇತರೆಡೆಗಳಲ್ಲಿ ಶೀಘ್ರವಾಗಿ ಹರಡಿರುವ ತುರ್ತು ಕ್ರಮಗಳನ್ನು ಜಾರಿಗೆ ತರಲು ವಿಶ್ವದಾದ್ಯಂತ ಆತಂಕಕ್ಕೊಳಗಾದ ಸರ್ಕಾರಗಳು ಮತ್ತು ಜನರು ಗುರುವಾರ ಧಾವಿಸಿದ್ದಾರೆ. ಕರೋನವೈರಸ್ ಮುಖ್ಯವಾಗಿ ಚೀನಾವನ್ನು ಹೊಡೆದಿದೆ 78596 ಪ್ರಕರಣಗಳು ಮತ್ತು 2746 ಸಾವುಗಳು ಇಲ್ಲಿ ಕರೋನವೈರಸ್ ಸುದ್ದಿಗಳಿಗಾಗಿ ಲೈವ್ ಬ್ಲಾಗ್ ಆನ್\\u200cಲೈನ್ ಸೈಟ್ ಆರನೇ ದಿನಕ್ಕೆ ಇಳಿದು ವಿಶ್ವದ ಎರಡನೇ ಅತಿದೊಡ್ಡ ಆರ್ಥಿಕತೆ ಮತ್ತು ಕಾರ್ಪೊರೇಟ್ ಪೂರೈಕೆ ಸರಪಳಿಗಳ ಹೃದಯ ಮತ್ತು ಇತರ ದೇಶಗಳ ಮೇಲೆ ಹೆಚ್ಚುತ್ತಿರುವ ಪರಿಣಾಮದಿಂದ ಪ್ರಭಾವಿತವಾಗಿದೆ ಸ್ಟಾಕ್ ಮಾರುಕಟ್ಟೆಗಳು ಕೆಂಪು ಮತ್ತು ತೈಲ ಬೆಲೆಗಳು ಆಳವಾಗಿ ಮುಳುಗಿದವು ಜಾಗತಿಕ ಮಾರುಕಟ್ಟೆಗಳು ಸತತ ಆರು ದಿನಗಳವರೆಗೆ ಕುಸಿದಿವೆ 3 6 ಟ್ರಿಲಿಯನ್ಗಿಂತಲೂ ಹೆಚ್ಚಿನ ಮೌಲ್ಯವು ದಕ್ಷಿಣ ಕೊರಿಯಾದಲ್ಲಿ ಹೊಸ ಪ್ರಕರಣಗಳು 12 ಸಾವುಗಳೊಂದಿಗೆ 1261 ಕ್ಕೆ ತಲುಪಿದ್ದರೆ, ಯುರೋಪಿನ ಹಾಟ್ಸ್ಪಾಟ್ ಇಟಲಿಯಲ್ಲಿ 453 ಸೋಂಕುಗಳು ಮತ್ತು 12 ಸಾವುಗಳು ಸಂಭವಿಸಿವೆ ಮತ್ತು ಇರಾನ್ 245 ಪ್ರಕರಣಗಳು ಮತ್ತು 26 ಸಾವುನೋವುಗಳನ್ನು ವರದಿ ಮಾಡಿದೆ. ಇಲ್ಲಿ ಹೊಸ ಕರೋನವೈರಸ್ನಲ್ಲಿ ಗ್ರಾಫಿಕ್ ರಾಯಿಟರ್ಸ್ ಗ್ರಾಫಿಕ್ಸ್ ಜನರನ್ನು ಒತ್ತಾಯಿಸುತ್ತಿದೆ ಅನಗತ್ಯ ಪ್ರಯಾಣವನ್ನು ತಪ್ಪಿಸಲು ಟೆಹ್ರಾನ್ ಚಿತ್ರಮಂದಿರಗಳ ಸಾಂಸ್ಕೃತಿಕ ಕಾರ್ಯಕ್ರಮಗಳು ಮತ್ತು ಸಮ್ಮೇಳನಗಳನ್ನು ಮುಚ್ಚುವುದನ್ನು ವಿಸ್ತರಿಸಿತು ವಾರ\",1\\n\"ದಕ್ಷಿಣ ಕೊರಿಯಾದಲ್ಲಿ ಕರೋನವೈರಸ್ ಹರಡುವಿಕೆಯಿಂದಾಗಿ ವಾರ್ಷಿಕ ಜಂಟಿ ಮಿಲಿಟರಿ ವ್ಯಾಯಾಮವನ್ನು ಮುಂದೂಡುವುದಾಗಿ ನೀವು ಎಸ್ ಮತ್ತು ದಕ್ಷಿಣ ಕೊರಿಯಾ ಗುರುವಾರ ಪ್ರಕಟಿಸಿದೆ. ಸಂಯೋಜಿತ ತರಬೇತಿಯನ್ನು ಮುಂದೂಡಿದರೂ ಸಹ, ROK ಯುಎಸ್ ಮೈತ್ರಿ ವಿಶ್ವಾಸಾರ್ಹ ಮಿಲಿಟರಿ ತಡೆಗಟ್ಟುವಿಕೆಯನ್ನು ಒದಗಿಸಲು ಮತ್ತು ದೃ ust ವಾದ ಸಂಯೋಜನೆಯನ್ನು ಕಾಪಾಡಿಕೊಳ್ಳಲು ಬದ್ಧವಾಗಿದೆ ನೀವು ಯಾವುದೇ ಬೆದರಿಕೆಯಿಂದ ರಕ್ಷಿಸಲು ಆರ್ಒಕೆ ರಿಪಬ್ಲಿಕ್ ಆಫ್ ಕೊರಿಯಾವನ್ನು ರಕ್ಷಿಸುವ ಭಂಗಿ ಎಸ್ ಮಿಲಿಟರಿ ವಕ್ತಾರ ಕೋಲ್ ಲೀ ಪೀಟರ್ಸ್ ದಕ್ಷಿಣ ಕೊರಿಯಾದಲ್ಲಿ ಸುಮಾರು 1800 ವರದಿಯಾದ ಪ್ರಕರಣಗಳು ವರದಿಯಾಗಿದ್ದು, ಚೀನಾ ಮುಖ್ಯ ಭೂಭಾಗದ ಹೊರಗೆ ಅತಿ ಹೆಚ್ಚು ಸಂಖ್ಯೆಯ ಕೊರೊನಾವೈರಸ್ ಸೋಂಕುಗಳಿವೆ, ಅಲ್ಲಿ ಏಕಾಏಕಿ ಎಪಿ ಟಿಪ್ಪಣಿಗಳು ಪ್ರಾರಂಭವಾದವು ಇತ್ತೀಚಿನ ಕ್ರಮ ದಕ್ಷಿಣ ಕೊರಿಯಾ ತನ್ನ 9990 ಸೈನಿಕರನ್ನು ನಿರ್ಬಂಧಿಸಿದ ನಂತರ ಮತ್ತು ಸೇರ್ಪಡೆಗೊಂಡ ಸೈನಿಕರಲ್ಲಿ ಹೆಚ್ಚಿನವರು ತಮ್ಮ ನೆಲೆಗಳನ್ನು ಬಿಡುವುದನ್ನು ನಿಷೇಧಿಸಿದ ನಂತರ ನೀವು ಎಸ್ ಪ್ರಸ್ತುತ ದೇಶದಲ್ಲಿ 28500 ಸೈನಿಕರನ್ನು ಹೊಂದಿದ್ದರೆ ದಕ್ಷಿಣ ಕೊರಿಯಾದ ಮಿಲಿಟರಿ 600000 ಪ್ರಬಲವಾಗಿದೆ\",0\\nನಿಮ್ಮ ಮೇಲೆ ಮಾಜಿ ಡಿಎಚ್\\u200cಎಸ್ ಅಧಿಕಾರಿ ಎಸ್ ಕರೋನವೈರಸ್ ಪ್ರತಿಕ್ರಿಯೆ ಅಧ್ಯಕ್ಷ ಜಾರ್ಜ್ ಡಬ್ಲ್ಯು ಬುಷ್\\u200cಗೆ ಹೋಮ್ಲ್ಯಾಂಡ್ ಸೆಕ್ಯುರಿಟಿ ಸಲಹೆಗಾರನಾಗಿ ಫ್ರಾನ್ ಟೌನ್\\u200cಸೆಂಡ್ ಸಂಭಾವ್ಯ ಫ್ಲೂ ಸಾಂಕ್ರಾಮಿಕ ರೋಗವನ್ನು ನಿಭಾಯಿಸಲು ತನ್ನ ಆಡಳಿತದ ಕಾರ್ಯತಂತ್ರವನ್ನು ರಚಿಸಲು ಸಹಾಯ ಮಾಡಿದಳು ಅವಳು ಸಿಬಿಎಸ್ ದಿಸ್ ಮಾರ್ನಿಂಗ್\\u200cಗೆ ಸೇರುತ್ತಾಳೆ. ಏಕಾಏಕಿ ಜಾಗತಿಕ ಸಾಂಕ್ರಾಮಿಕ ರೋಗವಾಗಲಿದೆ ಎಂದು ವಿದೇಶದಲ್ಲಿ,1\\n\"ಕೊರೊನಾವೈರಸ್ ಕುರಿತು ಟ್ರಂಪ್ ಸಿಡಿಸಿಯೊಂದಿಗೆ ಭಿನ್ನಾಭಿಪ್ರಾಯ ಹೊಂದಿದ್ದಾರೆ ಅಧ್ಯಕ್ಷ ಟ್ರಂಪ್ ಅವರ ಬುಧವಾರ ಕರೋನವೈರಸ್ ಪತ್ರಿಕಾಗೋಷ್ಠಿಯು ಶ್ವೇತಭವನದ ಬ್ರೀಫಿಂಗ್ ಕೋಣೆಯಲ್ಲಿ ತನ್ನ ಎರಡನೇ ಬಾರಿಗೆ ಕಾಣಿಸಿಕೊಂಡಿದೆ ಎಂದು ಆಡಳಿತ ಆರೋಗ್ಯ ಮತ್ತು ಸಿಡಿಸಿ ಅಧಿಕಾರಿಗಳು ಸುತ್ತುವರೆದಿದ್ದಾರೆ, ಸಿಡಿಸಿ ವಾಸಿಸುವವರಿಗೆ ಎಚ್ಚರಿಕೆ ನೀಡಿದ್ದರೂ ಸಹ ಪರಿಸ್ಥಿತಿ ಇದೆ ಎಂದು ಅಮೆರಿಕನ್ನರಿಗೆ ಧೈರ್ಯ ತುಂಬಲು ಪ್ರಯತ್ನಿಸಿದರು. ಪೌಲಾ ರೀಡ್ ಶ್ವೇತಭವನದಲ್ಲಿದ್ದಾರೆ, ಏಕೆಂದರೆ ಆರೋಗ್ಯ ತಜ್ಞರು ಹೆಚ್ಚು ಸಕಾರಾತ್ಮಕ ದೃಷ್ಟಿಕೋನವನ್ನು ಚಿತ್ರಿಸಿಲ್ಲ ಎಂದು ಟ್ರಂಪ್ ನಿರಾಶೆಗೊಂಡಿದ್ದಾರೆ ಎಂದು ವರದಿಯಾಗಿದೆ.\",0\\n\"ಲಂಡನ್ ರಾಯಿಟರ್ಸ್ ಅಪಾಯ ನಿವಾರಣೆಯು ಗುರುವಾರ ಜಾಗತಿಕ ಷೇರುಗಳನ್ನು ಕಡಿಮೆ ಮಾಡಿ ಈ ವಾರದಲ್ಲಿ ಕೇವಲ 3 ಟ್ರಿಲಿಯನ್\\u200cಗಿಂತಲೂ ಹೆಚ್ಚಿನ ಮೌಲ್ಯವನ್ನು ಕುಸಿಯಿತು ಮತ್ತು ನೀವು ಎಸ್ ಖಜಾನೆಗಳ ಇಳುವರಿ ದಾಖಲೆಯ ಕನಿಷ್ಠ ಮಟ್ಟವನ್ನು ಮುಟ್ಟಿದೆ ಏಕೆಂದರೆ ಕರೋನವೈರಸ್ ಚೀನಾದ ಹೊರಗೆ ವೇಗವಾಗಿ ಹರಡಿಕೊಂಡಿರುವುದರಿಂದ ಸುರಕ್ಷಿತ ಧಾಮದ ಕರೆನ್ಸಿಗಳು ಉತ್ತಮವಾಗಿ ಕಾರ್ಯನಿರ್ವಹಿಸುತ್ತಿವೆ ಮತ್ತು ಚಿನ್ನ ಚೀನಾ ಅಪಾಯದ ಮನೋಭಾವದ ಹೊರಗಿನ ಕೊರೊನಾವೈರಸ್ ಪ್ರಕರಣಗಳಲ್ಲಿನ ಮಂದಗತಿಯನ್ನು ನಾವು ನೋಡದಿದ್ದರೆ, ಲಂಡನ್ ಯುಬಿಪಿಯಲ್ಲಿ ಯುಬಿಪಿಯಲ್ಲಿ ಎಫ್ಎಕ್ಸ್ ಕಾರ್ಯತಂತ್ರದ ಜಾಗತಿಕ ಮುಖ್ಯಸ್ಥ ಪೀಟರ್ ಕಿನ್ಸೆಲ್ಲಾ ನಿಮ್ಮ ಮೇಲೆ ಬರುತ್ತದೆ ಎಸ್ ಖಜಾನೆಗಳು ಬೆಲೆಗಳು ಏರಿದಾಗ 10 ಕ್ಕೆ 1 3 ಕ್ಕಿಂತ ಕಡಿಮೆಯಾಗಿದೆ ವರ್ಷದ ಸಾಲ ಮತ್ತು ಇಳುವರಿ ಕರ್ವ್ ಆರ್ಥಿಕ ಹಿಂಜರಿತದ ಎಚ್ಚರಿಕೆಗಳನ್ನು ಕಳುಹಿಸುತ್ತಲೇ ಇತ್ತು. ಎಸ್\\u200cಪಿ 500 ರ ಇ ಮಿನಿ ಫ್ಯೂಚರ್\\u200cಗಳು 0 9 ರಷ್ಟು ಕುಸಿದವು ಮತ್ತು ಜಾಗತಿಕ ಬೆಳವಣಿಗೆಗೆ ಸೂಕ್ಷ್ಮವಾದ ತೈಲವು 14 ತಿಂಗಳಲ್ಲಿ 2 ಕ್ಕಿಂತಲೂ ಕಡಿಮೆಯಾಗಿದೆ. ದಕ್ಷಿಣ ಕೊರಿಯಾದ ಷೇರುಗಳು ಗುರುವಾರ ಮುಕ್ತಾಯಗೊಳ್ಳಲಿದ್ದು 1 ಕಳೆದ ತಿಂಗಳು ಮೊದಲ ಸೋಂಕಿನ ನಂತರ ಹೊಸ ವೈರಸ್ ಪ್ರಕರಣಗಳಲ್ಲಿ ಇದು ಅತಿದೊಡ್ಡ ದೈನಂದಿನ ಏರಿಕೆಯನ್ನು ವರದಿ ಮಾಡಿರುವುದರಿಂದ ನಾಲ್ಕು ತಿಂಗಳ ಕಡಿಮೆ ಸೂಚ್ಯಂಕ 0 3 ಮುಗಿದಿದೆ\",0\\n\"ಕರೋನವೈರಸ್ ಉತ್ತರ ಇಟಲಿಯ ಪಟ್ಟಣಗಳನ್ನು ಲಾಕ್ ಮಾಡುತ್ತಿರುವಂತೆ ಪೋಪ್ ಫ್ರಾನ್ಸಿಸ್ ನಾನು ತೆಗೆದುಕೊಳ್ಳುತ್ತೇನೆ ಮತ್ತು ರೋಮ್ ಬೆಸಿಲಿಕಾದಲ್ಲಿ ನಡೆದ ಕಾರ್ಯಕ್ರಮವನ್ನು ರದ್ದುಗೊಳಿಸಿದ್ದೇನೆ ವ್ಯಾಟಿಕನ್ ಪೋಪ್ ಮತ್ತು ಕಾರ್ಡಿನಲ್ ಆಂಟೋನಿಯೊ ಟ್ಯಾಗಲ್ ಫಿಲಿಪಿನೋ ಅವರ ಚಿತ್ರವನ್ನು ಬಿಡುಗಡೆ ಮಾಡಿದೆ, ಅವರು ಗುರುವಾರ ವ್ಯಾಟಿಕನ್ ಸಭೆಯಲ್ಲಿ ಹೊಸ ಪೋಸ್ಟ್ನಲ್ಲಿ ಪ್ರಾರಂಭಿಸಿದ್ದಾರೆ ಗ್ಲೋಬಲ್ ಕ್ಯಾಥೊಲಿಕ್ ಹವಾಮಾನ ಚಳವಳಿಯ ಸದಸ್ಯರೊಂದಿಗೆ ಬೆಳಿಗ್ಗೆ ಅಂತರರಾಷ್ಟ್ರೀಯ ಪರಿಸರ ಗುಂಪು ಪೋಪ್ ಶೀತದಿಂದ ಕಾಣಿಸಿಕೊಂಡರು ಮತ್ತು ಬುಧವಾರ ತಮ್ಮ ಸಾಮಾನ್ಯ ಪ್ರೇಕ್ಷಕರಲ್ಲಿ ಸ್ವಲ್ಪ ಗಟ್ಟಿಯಾದ ಧ್ವನಿಯಲ್ಲಿ ಮಾತನಾಡಿದರು ಮತ್ತು ರೋಮ್ ಚರ್ಚ್ನಲ್ಲಿ ಮಧ್ಯಾಹ್ನ ಬೂದಿ ಬುಧವಾರ ಸೇವೆಯ ಸಮಯದಲ್ಲಿ ಕೂಗಿದರು ಪೋಪ್ ಕಾರಣ ರೋಮನ್ ಪುರೋಹಿತರೊಂದಿಗಿನ ಲೆಂಟನ್ ಸೇವೆಗಾಗಿ ಗುರುವಾರ ಬೆಳಿಗ್ಗೆ ಲ್ಯಾಟೆರನ್\\u200cನ ಸೇಂಟ್ ಜಾನ್ಸ್ ಬೆಸಿಲಿಕಾಕ್ಕೆ ಹೋಗಲು ಕೆಲವು ಲೆಂಟ್ ಬೂದಿ ಬುಧವಾರ ಸೇವೆಗಳನ್ನು ರದ್ದುಗೊಳಿಸಲಾಯಿತು ಅಥವಾ ಉತ್ತರ ಇಟಲಿಯ ಪ್ರದೇಶಗಳಲ್ಲಿ ಸೀಮಿತಗೊಳಿಸಲಾಯಿತು ಮತ್ತು ಕೊರೊನಾವೈರಸ್ ಹರಡಿತು\",0\\n\"ಕರೋನವೈರಸ್ನಿಂದ ಇರಾನ್ನ ಸಾವಿನ ಸಂಖ್ಯೆ 26 ಆರೋಗ್ಯ ಸಚಿವಾಲಯವನ್ನು ತಲುಪಿದೆ ರಾಯಿಟರ್ಸ್ 27 ಫೆಬ್ರವರಿ 2020 15 24 33 ಜಿಎಂಟಿ 0300 ಇರಾನಿನ ಮಹಿಳೆಯರು ಟೆಹ್ರಾನ್ ಇರಾನ್ನಲ್ಲಿ ಬೀದಿಯಲ್ಲಿ ನಡೆದುಕೊಂಡು ಹೋಗುವಾಗ ಕೊರೊನಾವೈರಸ್ ಅನ್ನು ತಡೆಗಟ್ಟಲು ರಕ್ಷಣಾತ್ಮಕ ಮುಖವಾಡಗಳನ್ನು ಧರಿಸುತ್ತಾರೆ ಫೆಬ್ರವರಿ 25 2020 ಇರಾನ್ ಗುರುವಾರ ಕರೋನವೈರಸ್ನಿಂದ ಸಾವನ್ನಪ್ಪಿದೆ ಎಂದು ಹೇಳಿದರು 26 ಕ್ಕೆ ಏರಿದೆ ಮತ್ತು ಒಟ್ಟು ಸೋಂಕಿತರ ಸಂಖ್ಯೆ ಈಗ 245 ರಷ್ಟಿದೆ, ಕಳೆದ 24 ಗಂಟೆಗಳಲ್ಲಿ ನಾವು 106 ಹೊಸ ದೃ confirmed ಪಡಿಸಿದ ಪ್ರಕರಣಗಳನ್ನು ಹೊಂದಿದ್ದೇವೆ. ಸಾವಿನ ಸಂಖ್ಯೆ 26 ತಲುಪಿದೆ ಎಂದು ಆರೋಗ್ಯ ಸಚಿವಾಲಯದ ವಕ್ತಾರ ಕಿಯಾನುಷ್ ಜಹಾನ್ಪುರ್ ರಾಜ್ಯ ಟಿವಿಗೆ ತಿಳಿಸಿದ್ದಾರೆ ದೇಶದೊಳಗೆ ಅನಗತ್ಯ ಪ್ರವಾಸಗಳನ್ನು ತಪ್ಪಿಸಲು ಇರಾನಿಯನ್ನರಿಗೆ ಕರೆ ನೀಡಿದ್ದು, ನ್ಯಾಯಾಲಯದ ಗೆಲುವಿನ ನಂತರ ಕ್ವಾಲೆ ಮಿಲ್ಲರ್ ಕಾರ್ಯಾಚರಣೆಯನ್ನು ಪುನರಾರಂಭಿಸಿ ಅಧ್ಯಕ್ಷ ಹಸನ್ ರೂಹಾನಿ ಸೇರಿದಂತೆ ಅಧಿಕಾರಿಗಳು ಬುಧವಾರ ಇರಾನ್ ಯಾವುದೇ ನಗರಗಳು ಮತ್ತು ಜಿಲ್ಲೆಗಳನ್ನು ಪ್ರತ್ಯೇಕಿಸಲು ಯಾವುದೇ ಯೋಜನೆಯನ್ನು ಹೊಂದಿಲ್ಲ ಎಂದು ಹೇಳಿದರು. ಕಳೆದ ವಾರ ಇದ್ದಂತೆ ಕರೋನವೈರಸ್ನಿಂದ ಮೊದಲ ಸಾವುಗಳು ಮತ್ತು ಸೋಂಕುಗಳು\",0\\nಆದಾಯವು ಕಳೆದ ವರ್ಷ 215 0 ಮಿಲಿಯನ್\\u200cನಿಂದ 263 0 ಮಿಲಿಯನ್ ಹೆಚ್ಚಾಗಿದೆ ಮತ್ತು 260 0 ಮಿಲಿಯನ್ ಫ್ಯಾಕ್ಟ್\\u200cಸೆಟ್ ಒಮ್ಮತವನ್ನು ಸೋಲಿಸಿದೆ ಮೊದಲ ತ್ರೈಮಾಸಿಕದಲ್ಲಿ ಆದಾಯವು 305 ಮಿಲಿಯನ್ ಮತ್ತು 325 ಮಿಲಿಯನ್ ನಡುವೆ ಫ್ಯಾಕ್ಟ್\\u200cಸೆಟ್ ಒಮ್ಮತಕ್ಕಿಂತ 342 9 ಮಿಲಿಯನ್ ಕ್ರೋಕ್\\u200cಗಳಿಗೆ ಆದಾಯವನ್ನು ನಿರೀಕ್ಷಿಸುತ್ತದೆ ಕರೋನವೈರಸ್\\u200cನಿಂದ ಏಷ್ಯಾದಲ್ಲಿ ಉಂಟಾದ ಅಡೆತಡೆಗಳಿಂದಾಗಿ 20 ಮಿಲಿಯನ್\\u200cನಿಂದ 30 ಮಿಲಿಯನ್\\u200cವರೆಗೆ ಆದಾಯವು 8 ರಿಂದ 12 ಕ್ಕೆ ಏರಿಕೆಯಾಗಲಿದೆ ಎಂದು ಕ್ರೋಕ್ಸ್ ನಿರೀಕ್ಷಿಸುತ್ತಾನೆ. ಫ್ಯಾಕ್ಟ್\\u200cಸೆಟ್ ದೃಷ್ಟಿಕೋನವು 1 38 ಬಿಲಿಯನ್ ಆದಾಯಕ್ಕಾಗಿ 12% ಹೆಚ್ಚಳವನ್ನು ಸೂಚಿಸುತ್ತದೆ,0\\n\"ಲಂಡನ್ ಫೆಬ್ರವರಿ 27 ರಾಯಿಟರ್ಸ್ ಯುರೋಪಿಯನ್ ಸರ್ಕಾರದ ಬಾಂಡ್ ಇಳುವರಿ ಗುರುವಾರ ಜರ್ಮನಿಯ ಬೆಂಚ್\\u200cಮಾರ್ಕ್ ಸಾಲ ಇಳುವರಿಯೊಂದಿಗೆ ನಾಲ್ಕು ತಿಂಗಳಿಗಿಂತಲೂ ಕಡಿಮೆ ಅವಧಿಯಲ್ಲಿ ಕುಸಿಯಿತು, ಏಕೆಂದರೆ ಕರೋನವೈರಸ್ ಹರಡುವಿಕೆಯು ಅಪಾಯದ ಮನೋಭಾವವನ್ನು ದುರ್ಬಲಗೊಳಿಸಿತು ಜರ್ಮನಿಯ 10 ವರ್ಷದ ಮೆಚುರಿಟಿಗಳು 2 ಬಿಪಿಎಸ್\\u200cಗಿಂತಲೂ ಕಡಿಮೆಯಾಗಿ 0 5230 ಕ್ಕೆ ತಲುಪಿದೆ ಹಿಂದಿನ ಅಧಿವೇಶನದಲ್ಲಿ ಅಕ್ಟೋಬರ್ ಆರಂಭದಲ್ಲಿ 0 472 ರಷ್ಟನ್ನು ತಲುಪಿದೆ, ಆದರೆ ಜರ್ಮನ್ ಬಾಂಡ್\\u200cಗಳು ಸುರಕ್ಷತೆಯ ಭರಾಟೆಯಿಂದ ಪ್ರಯೋಜನ ಪಡೆದಿವೆ ಆದರೆ ಇಟಾಲಿಯನ್ ಸಾಲವು ಇಟಲಿಯ ಕೊರೊನಾವೈರಸ್ ಏಕಾಏಕಿ ಯುರೋಪಿನ ಕೆಟ್ಟದಾಗಿದೆ. ಜರ್ಮನ್ ಸಾಲ ಮತ್ತು ಅನುಗುಣವಾದ ಇಟಾಲಿಯನ್ ಬಾಂಡ್\\u200cಗಳ ನಡುವೆ ಇಳುವರಿ ಒಂದು ತಿಂಗಳ ಎತ್ತರಕ್ಕೆ ವಿಸ್ತರಿಸಿದೆ 151 ಬೇಸಿಸ್ ಪಾಯಿಂಟ್\\u200cಗಳು ಕೊರೊನಾವೈರಸ್ ಸುದ್ದಿ ಯುರೋಪಿಯನ್ ಸೆಂಟ್ರಲ್ ಬ್ಯಾಂಕ್ ನೀತಿ ನಿರೂಪಕರ ಯಾವುದೇ ಕಾಮೆಂಟ್\\u200cಗಳನ್ನು ಮರೆಮಾಚುವ ಸಾಧ್ಯತೆಯಿದೆ, ಅವರಲ್ಲಿ ಅನೇಕರು ಗುರುವಾರ ಮಾತನಾಡುತ್ತಿದ್ದರು\",0\\n\"ಸೆನೆಟ್ ಸೆನೆಟರ್ ಅಧ್ಯಕ್ಷ ಅಹ್ಮದ್ ಲಾವನ್ ಅವರ ಸಂದರ್ಭದಲ್ಲಿ ಗುರುವಾರ ಅಬುಜಾದಲ್ಲಿ ಮಾತನಾಡಿದ ಅವರು, ಫೆಡರಲ್ ಸರ್ಕಾರವು ಕೆಲವು ಪೂರ್ವಭಾವಿ ಕ್ರಮಗಳನ್ನು ಕೈಗೊಳ್ಳುತ್ತಿರುವಾಗ ಅದು ಸಾಕಷ್ಟು ಮಾಡುತ್ತಿಲ್ಲ ಮತ್ತು ನೈಜೀರಿಯಾ ಸೋಂಕಿನಿಂದ ತಪ್ಪಿಸಿಕೊಳ್ಳಬೇಕಾದರೆ ಇದನ್ನು ಸುಧಾರಿಸಬೇಕು ಎಂದು ಉಪ ಸೆನೆಟ್ ನಾಯಕ ಸೆನೆಟರ್ ರಾಬರ್ಟ್ ಅಜಯ್ ಬೊರೊಫೈಸ್ ಎಲ್ಲಾ ಪ್ರಗತಿಪರ ಕಾಂಗ್ರೆಸ್ ಎಪಿಸಿ ಒಂಡೋ ನಾರ್ತ್ ಅವರು ದಕ್ಷಿಣ ಆಫ್ರಿಕಾದಲ್ಲಿ ಪಡೆಯುವದಕ್ಕೆ ಹೋಲಿಸಿದರೆ ಪರಿಸ್ಥಿತಿಯನ್ನು ಸರಿಯಾಗಿ ನಿಭಾಯಿಸುವುದು ಮತ್ತು ರಾಷ್ಟ್ರದ ವಿಮಾನ ನಿಲ್ದಾಣದಲ್ಲಿ ಸರಿಯಾದ ತಪಾಸಣೆಯ ಕೊರತೆ ಕುರಿತು ಆದೇಶವನ್ನು ಎತ್ತಿದ್ದಾರೆ. ಇದರ ಪರಿಣಾಮವಾಗಿ ಸೆನೆಟ್ ತನ್ನ ಸೆನೆಟರ್ ಚುಕ್ವುಕಾ ಉಟಾಜಿ ಪೀಪಲ್ಸ್ ಡೆಮಾಕ್ರಟಿಕ್ ಪಾರ್ಟಿ ಪಿಡಿಪಿ ಎನುಗು ನಾರ್ತ್ ನೇತೃತ್ವದಲ್ಲಿ ಪ್ರಾಥಮಿಕ ಆರೋಗ್ಯ ಮತ್ತು ಸಾಂಕ್ರಾಮಿಕ ಕಾಯಿಲೆಗಳ ಸೆನೆಟ್ ಸಮಿತಿ ಮತ್ತು ಸೆನೆಟರ್ ಯಹಾಯಾ ಒಲೋರಿಗ್ಬೆ ಎಪಿಸಿ ಕ್ವಾರಾ ಸೆಂಟ್ರಲ್ ನೇತೃತ್ವದ ಆರೋಗ್ಯ ದ್ವಿತೀಯ ಮತ್ತು ತೃತೀಯ ಸಮಿತಿಯು ಆರೋಗ್ಯ ಸಚಿವ ಡಾ. ಒಸಾಗಿ ಎಹಾನೈರ್ ಅವರನ್ನು ಮತ್ತೊಮ್ಮೆ ಅವರೊಂದಿಗೆ ತೊಡಗಿಸಿಕೊಳ್ಳಲು ಕರೆಸಿಕೊಂಡಿದೆ. ಮಾಡಬೇಕಾದ ಸೆನೆಟ್ ಸ್ಟ್ಯಾಂಡಿಂಗ್ ಆದೇಶಗಳ ಆರ್ಡರ್ 43 ರ ಅಡಿಯಲ್ಲಿ ಬಂದ ಬೊರೊಫೈಸ್ ವೈಯಕ್ತಿಕ ವಿವರಣೆಯೊಂದಿಗೆ ನಮ್ಡಿ ಅಜಿಕಿವೆ ವಿಮಾನ ನಿಲ್ದಾಣದ ಸಿಬ್ಬಂದಿ ಯಾವುದೇ ಸ್ಕ್ರೀನಿಂಗ್ ಇಲ್ಲದೆ ವರ್ತಿಸಿದ ರೀತಿ ಮತ್ತು ಆರೋಗ್ಯ ಸಚಿವ ಒಸಾಗಿ ಎಹಾನೈರ್ ಅವರು ಆರೋಗ್ಯದ ಬಗ್ಗೆ ಸೆನೆಟ್ ಸಮಿತಿಯ ಮುಂದೆ ಹಾಜರಾದಾಗ ಸೆನೆಟ್ ಸಮಿತಿಗೆ ತಮ್ಮ ಸಚಿವಾಲಯದ ಸಿದ್ಧತೆಯ ಮಟ್ಟವನ್ನು ವಿವರಿಸಿದಾಗ ಈ ವಿಷಯವನ್ನು ತಿಳಿಸಿದರು. ದೇಶದಲ್ಲಿ ಕೊರೊನಾವೈರಸ್ ಏಕಾಏಕಿ ನಿರ್ವಹಿಸಲು\",0\\n\"ಕೆಲವೇ ತಿಂಗಳುಗಳ ಹಿಂದೆ ಪ್ರಮುಖ ಪ್ರವಾಹದ ಪರಿಣಾಮಗಳಿಂದ ತತ್ತರಿಸಿರುವ ವೆನಿಸ್ ಹೊಸ ತುರ್ತು ಪರಿಸ್ಥಿತಿಯನ್ನು ಎದುರಿಸುತ್ತಿದೆ, ಇದು ಇಟಲಿಯಾದ್ಯಂತ ಹೊಸ ವೈರಸ್ ಹರಡುವ ಭೀತಿಯನ್ನು ಎದುರಿಸುತ್ತಿದೆ, ಅದು ವಿಶ್ವದಾದ್ಯಂತ ಅಂತರರಾಷ್ಟ್ರೀಯ ಸಂದರ್ಶಕರನ್ನು ಹೆದರಿಸುತ್ತಿದೆ ಮತ್ತು ಆರ್ಥಿಕತೆಯನ್ನು ಕಠಿಣಗೊಳಿಸುತ್ತಿದೆ ಎಪಿ ಫೋಟೋ ರೆನಾಟಾ ಬ್ರಿಟೊ ವೆನಿಸ್ ಇಟಲಿ ಎಪಿ ಇನ್ನೂ ಹಿಮ್ಮೆಟ್ಟುತ್ತಿದೆ ಕೆಲವೇ ತಿಂಗಳುಗಳ ಹಿಂದೆ ಪ್ರಮುಖ ಪ್ರವಾಹದ ಪರಿಣಾಮಗಳು ವೆನಿಸ್ ಹೊಸ ತುರ್ತು ಪರಿಸ್ಥಿತಿಯನ್ನು ಎದುರಿಸುತ್ತಿದೆ, ಇದು ಇಟಲಿಯಾದ್ಯಂತ ಹೊಸ ವೈರಸ್ ಹರಡುವ ಭೀತಿಯನ್ನು ಎದುರಿಸುತ್ತಿದೆ, ಇದು ವಿಶ್ವಾದ್ಯಂತ ಅಂತರರಾಷ್ಟ್ರೀಯ ಪ್ರವಾಸಿಗರನ್ನು ಚಿಂತೆಗೀಡುಮಾಡುತ್ತಿದೆ ಮತ್ತು ಆರ್ಥಿಕತೆಯನ್ನು ತೀವ್ರವಾಗಿ ಹೊಡೆಯುತ್ತಿದೆ ಇಟಾಲಿಯನ್ ಸರ್ಕಾರವು ಎರಡು ಪ್ರಮುಖ ವೈರಸ್ ಏಕಾಏಕಿಗಳನ್ನು ಹೊಂದಲು ಅಸಾಧಾರಣ ಕ್ರಮಗಳನ್ನು ತೆಗೆದುಕೊಳ್ಳುತ್ತಿದೆ. ವೆನೆಟೊ ಮತ್ತು ಲೊಂಬಾರ್ಡಿಯ ಎರಡು ಪ್ರದೇಶಗಳು ಒಟ್ಟಾಗಿ ಇಟಲಿಯ ಆರ್ಥಿಕ ಉತ್ಪಾದನೆಯ 30 ಕ್ಕೂ ಹೆಚ್ಚು ಉತ್ಪಾದಿಸುವ ಎರಡು ಪ್ರದೇಶಗಳು ಆರ್ಥಿಕ ಅಭಿವೃದ್ಧಿಗಾಗಿ ವೆನಿಸ್ ನಗರ ಕೌನ್ಸಿಲರ್ ಸಿಮೋನೆ ವೆಂಚುರಿನಿ, ಹೊಸ ವೈರಸ್ ಏಕಾಏಕಿ ಆರ್ಥಿಕ ಪರಿಣಾಮವು ಸಾರ್ವಜನಿಕ ಅಧಿಕಾರಿಗಳ ಮೇಲೆ ಎಷ್ಟು ಪರಿಣಾಮ ಬೀರುತ್ತದೆಯೋ ಅಷ್ಟೇ ರಾಷ್ಟ್ರೀಯ ಅಧಿಕಾರಿಗಳನ್ನು ಚಿಂತೆ ಮಾಡುತ್ತದೆ ಎಂದು ಹೇಳಿದರು. ಆರ್ಥಿಕ ತಜ್ಞರು ಮತ್ತು ವ್ಯಾಪಾರ ಸಂಘಗಳು ವೈರಸ್ ಹರಡುವುದರಿಂದ ಇದರ ಮೇಲೆ ಹೆಚ್ಚಿನ ನಷ್ಟ ಉಂಟಾಗುತ್ತದೆ ಎಂದು ict ಹಿಸುತ್ತದೆ ಅಲಿಯ ಉತ್ಪಾದನೆಯು ಈ ವರ್ಷ 0 5 ಮತ್ತು 1 ರ ನಡುವೆ ಕುಸಿಯುತ್ತಿರುವುದು 60000 ಉದ್ಯೋಗಗಳ ನಷ್ಟಕ್ಕೆ ಕಾರಣವಾಗಿದೆ\",0\\n\"ಚಿತ್ರ ಹಕ್ಕುಸ್ವಾಮ್ಯ ಗೆಟ್ಟಿ ಇಮೇಜಸ್ ಕೊರೊನಾವೈರಸ್ ಏಕಾಏಕಿ ಮುಂದುವರಿಯುತ್ತಿರುವುದರಿಂದ ಕೆಲವು ಡೆಟೊಲ್ ಉತ್ಪನ್ನಗಳ ಬೇಡಿಕೆಯನ್ನು ಮೀರಿಸಿದೆ ಎಬಿ ಇನ್\\u200cಬೆವ್\\u200cನಲ್ಲಿನ ಷೇರುಗಳು 2020 ರಲ್ಲಿ ಮ್ಯೂಟ್ ಬೆಳವಣಿಗೆಯನ್ನು cast ಹಿಸಿದ ನಂತರ ವಿಶ್ವದ ಅತಿದೊಡ್ಡ ಬಿಯರ್ ತಯಾರಕ 8 ಕುಸಿದಿದೆ. ಏಕಾಏಕಿ ಆಸ್ಟನ್ ಮಾರ್ಟಿನ್ ಷೇರುಗಳು ದಾಖಲೆಯ ಮಟ್ಟಕ್ಕೆ ಕುಸಿದ ಕಾರಣ ತೆರಿಗೆಗೆ ಮುಂಚಿತವಾಗಿ 104 ಮೀ ನಷ್ಟವನ್ನು ಪೋಸ್ಟ್ ಮಾಡಿದೆ ಮತ್ತು ವೈರಸ್\\u200cನಿಂದಾಗಿ ಇದು ಬೇಡಿಕೆ ಕುಸಿತ ಕಂಡಿದೆ ಎಂದು ಎಚ್ಚರಿಸಿದ್ದಾರೆ ಚೀನಾದಲ್ಲಿ ನಮ್ಮ ಗ್ರಾಹಕರಿಗೆ ಆನ್\\u200cಲೈನ್\\u200cನಲ್ಲಿ ಹೆಚ್ಚಿನ ಚಟುವಟಿಕೆಯನ್ನು ನಾವು ನೋಡುತ್ತೇವೆ ಡೆಟೊಲ್ ಮಾಲೀಕ ರೆಕ್ಕಿಟ್ ಬೆನ್\\u200cಕಿಸರ್ ಗುರುವಾರ ತನ್ನ ಫಲಿತಾಂಶದಲ್ಲಿ ತಿಳಿಸಿದ್ದಾರೆ, ಏತನ್ಮಧ್ಯೆ ಎಬಿ ಇನ್\\u200cಬೆವ್ ಮೊದಲ ತ್ರೈಮಾಸಿಕ ಲಾಭದಲ್ಲಿ 10 ಕುಸಿತದ ಮುನ್ಸೂಚನೆ ನೀಡಿದೆ ಚೀನಾದ ಹೊಸ ವರ್ಷದ ಆಯ್ಸ್ಟನ್ ಮಾರ್ಟಿನ್ ಸಮಯದಲ್ಲಿ ಕರೋನವೈರಸ್ ಏಕಾಏಕಿ ಬಿಯರ್ ಮಾರಾಟವನ್ನು ನೋಯಿಸಿದೆ, ಇದು ಚೀನಾವನ್ನು ತನ್ನ ವೇಗವಾಗಿ ಬೆಳೆಯುತ್ತಿರುವ ಮಾರುಕಟ್ಟೆಯೆಂದು ಪರಿಗಣಿಸುತ್ತದೆ ಮತ್ತು ಏಕಾಏಕಿ ತನ್ನ ಮಾರಾಟ ಮತ್ತು ಪೂರೈಕೆ ಸರಪಳಿಯ ಮೇಲೆ ಪರಿಣಾಮ ಬೀರುತ್ತಿದೆ ಎಂದು ಗುರುವಾರ ಹೇಳಿದೆ\",1\\n\"ಕೊರೊನಾವೈರಸ್ ಏಕಾಏಕಿ ಜಾಗತಿಕ ಬೆಳವಣಿಗೆಯನ್ನು 30 ಬೇಸಿಸ್ ಪಾಯಿಂಟ್ ಅಥವಾ 250 ಬಿಲಿಯನ್ ಕೈಗಾರಿಕಾ ಸಂಸ್ಥೆಯ ಮೇಲೆ ly ಣಾತ್ಮಕ ಪರಿಣಾಮ ಬೀರಬಹುದು ಎಂದು ಪಿಎಚ್\\u200cಡಿಸಿಸಿಐ ಗುರುವಾರ ಪಿಎಚ್\\u200cಡಿಸಿಸಿಐ ಅಧ್ಯಕ್ಷ ಡಿ.ಕೆ. ಅಗರ್\\u200cವಾಲ್ ಹೇಳಿದ್ದಾರೆ, ಜಾಗತಿಕ ಪೂರೈಕೆ ಸರಪಳಿಗಳಲ್ಲಿನ ಅಡೆತಡೆಗಳು ಚೀನಾದ ರಫ್ತಿಗೆ ಮಾತ್ರವಲ್ಲದೆ ಆಮದು ಮಾಡಿಕೊಳ್ಳುವ ದೇಶಗಳ ರಫ್ತುಗೂ ಸಹ ಪರಿಣಾಮ ಬೀರುತ್ತವೆ ಇತರ ಸ್ಥಳಗಳಿಗೆ ರಫ್ತು ಮಾಡುವಾಗ ಚೀನಾದಿಂದ ದೊಡ್ಡ ಪ್ರಮಾಣದ ಕಚ್ಚಾ ವಸ್ತುಗಳು ಮತ್ತು ಮಧ್ಯಂತರ ಸರಕುಗಳು ಈ ಸಮಯದಲ್ಲಿ ನಾವು ನಮ್ಮ ದೇಶೀಯ ಬಳಕೆ ಬೇಡಿಕೆ ಮತ್ತು ಜಾಗತಿಕ ವ್ಯಾಪಾರದ ಮೇಲೆ ಕೊರೊನಾವೈರಸ್ನ ಪ್ರಭಾವವನ್ನು ತಗ್ಗಿಸಲು ದೇಶೀಯ ಸಾಮರ್ಥ್ಯಗಳನ್ನು ಹೆಚ್ಚಿಸಬೇಕಾಗಿದೆ ಎಂದು ಅಗರ್ವಾಲ್ ಹೇಳಿದರು pharma ಷಧೀಯ ಸೌರ ಮುಂತಾದ ಕ್ಷೇತ್ರಗಳು ಮತ್ತು ವೈರಸ್ ಹರಡಿದ ಕಾರಣ ಕಬ್ಬಿಣ ಮತ್ತು ಉಕ್ಕು ಚೀನಾದಿಂದ ಕಚ್ಚಾ ವಸ್ತುಗಳ ಆಮದಿನಲ್ಲಿ ಅಡೆತಡೆಗಳನ್ನು ಎದುರಿಸುತ್ತಿದೆ. ಅಗರ್\\u200cವಾಲ್ ಪ್ರಕಾರ, ಜಾಗತಿಕ ವ್ಯಾಪಾರದಲ್ಲಿ ಚೀನಾ ಪ್ರಮುಖ ಪಾತ್ರ ವಹಿಸುತ್ತಿರುವುದರಿಂದ ವಿಶ್ವ ಸರಕು ರಫ್ತುಗಳಲ್ಲಿ 13 ಪ್ರತಿಶತದಷ್ಟು ಕೊಡುಗೆಯನ್ನು ಯುಎಸ್ ಹಾಂಗ್ ಕಾಂಗ್ ಜಪಾನ್\\u200cಗೆ ರಫ್ತು ಮಾಡುತ್ತದೆ ಕೊರಿಯಾ ವಿಯೆಟ್ನಾಂ ಜರ್ಮನಿ ಭಾರತ ನೆದರ್ಲ್ಯಾಂಡ್ಸ್ ಜಾಗತಿಕ ಟ್ರಾ ಮೇಲೆ ಪರಿಣಾಮ ಬೀರುತ್ತದೆ ವಿಶ್ವ ಆರ್ಥಿಕತೆಯ ಬೆಳವಣಿಗೆಯ ಭವಿಷ್ಯವನ್ನು ಹಾಳುಮಾಡುತ್ತದೆ. ಕರೋನವೈರಸ್ನ ನಿರಂತರ ಹರಡುವಿಕೆಯು ಜಾಗತಿಕ ಬೆಳವಣಿಗೆಯನ್ನು 0 3 ಶೇಕಡಾ ಅಂಕಗಳಿಂದ ಪರಿಣಾಮ ಬೀರಬಹುದು, ಅದು 250 ಬಿಲಿಯನ್ ಅಗರ್ವಾಲ್ ಆಗುತ್ತದೆ\",1\\n\"ಭಾರತದಲ್ಲಿ ವೇಗದ ಫ್ಯಾಷನ್\\u200cಗೆ ಹೆಸರುವಾಸಿಯಾದ ಸ್ವೀಡಿಷ್ ಚಿಲ್ಲರೆ ವ್ಯಾಪಾರಿ ಹೆನ್ನೆಸ್ ಮೌರಿಟ್ಜ್ ಎಚ್\\u200cಎಂ ತನ್ನ ಜಾಗತಿಕ ಪೀಠೋಪಕರಣ ವ್ಯವಹಾರವನ್ನು ಭಾರತಕ್ಕೆ ತರಲು ಯೋಜಿಸುತ್ತಿದೆ ಎಂದು ಜನ್ನೆ ಐನೊಲ ಸಿಇಒ ಮತ್ತು ಕಂಟ್ರಿ ಹೆಡ್ ಎಚ್\\u200cಎಂ ಫೆಬ್ರವರಿ 1 ರಂದು ಮಂಡಿಸಿದ ಕೇಂದ್ರ ಬಜೆಟ್\\u200cನಲ್ಲಿ ಹಣಕಾಸು ಸಚಿವಾಲಯವು ಮರದ ಪೀಠೋಪಕರಣಗಳ ಮೇಲಿನ ಆಮದು ಸುಂಕವನ್ನು ಹೆಚ್ಚಿಸಲು ಪ್ರಸ್ತಾಪಿಸಿದೆ ಪ್ರಸ್ತುತ 20 ಶೇಕಡಾದಿಂದ 30 ಪ್ರತಿಶತದವರೆಗೆ ನಾವು ಇಲ್ಲಿಯವರೆಗೆ ಭಾರತಕ್ಕೆ ಮನೆ ಮತ್ತು ಸೌಂದರ್ಯ ವ್ಯವಹಾರಗಳನ್ನು ತರಲು ಯೋಜಿಸಿದ್ದೇವೆ ಐನೊಲಾ ಹೇಳಿದರು ಸೋರ್ಸಿಂಗ್ ಸರಕುಗಳ ಬಗ್ಗೆ ಕೇಳಿದಾಗ ಐನೊಲಾ ಹೇಳಿದರು, ಮನೆ ಸೋರ್ಸಿಂಗ್\\u200cಗೆ ಭಾರತವು ಒಂದು ದೊಡ್ಡ ಭಾಗವಾಗಿದೆ ಎಂದು ಜಾಗತಿಕವಾಗಿ ವಿಶೇಷವಾಗಿ ಕಠಿಣ ಸರಕುಗಳಾದ ಮರದ ಐನೊಲಾ ತಿಳಿಸಿದೆ ಕಂಪನಿಯು ಅಕ್ಟೋಬರ್ 2015 ರಲ್ಲಿ ಅಂಗಡಿ ಸ್ಥಾಪಿಸಿದಾಗಿನಿಂದ ಇದುವರೆಗೆ ಭಾರತದಲ್ಲಿ ತಿಂಗಳಿಗೆ ಒಂದು ಅಂಗಡಿಯನ್ನು ತೆರೆದಿದೆ\",1\\n\"ಕೌಲಾಲಂಪುರ್ ರಾಯಿಟರ್ಸ್ ಮಲೇಷ್ಯಾದ ಪ್ರಮುಖ ಬಜೆಟ್ ವಾಹಕ ಏರ್ ಏಷ್ಯಾ ಗ್ರೂಪ್ ಬಿಎಡಿ ಎಐಆರ್ಎ ಕೆಎಲ್ ಈ ವರ್ಷ ತನ್ನ ಆಂತರಿಕ ಪ್ರಕ್ಷೇಪಗಳನ್ನು ಸಾಧಿಸದಿರಬಹುದು, ಏಕೆಂದರೆ ಉದ್ಯಮವು ಕರೋನವೈರಸ್ ಏಕಾಏಕಿ ತೀವ್ರ ಹೊಡೆತವನ್ನು ಅನುಭವಿಸುತ್ತದೆ ಎಂದು ಗುರುವಾರ ಹೇಳಿಕೆ ನೀಡಿದೆ ಎಂದು ರಾಯಿಟರ್ಸ್ ಲಿಮ್ ಹ್ಯೂಯಿ ಟೆಂಗ್ಏರ್ ಏಷ್ಯಾ ತಿಳಿಸಿದೆ. ಈ ವರ್ಷ ವೈರಸ್ ವೇಗವಾಗಿ ಹರಡುವುದರಿಂದ ತೀವ್ರವಾಗಿ ಪರಿಣಾಮ ಬೀರಿದೆ ಮತ್ತು ಇದು ಸಾಮರ್ಥ್ಯ ಮತ್ತು ವೆಚ್ಚಗಳನ್ನು ನಿರ್ವಹಿಸುತ್ತಿದೆ ಎಂದು ಗುಂಪು ಹೇಳಿದೆ, ಅಕ್ಟೋಬರ್ ಡಿಸೆಂಬರ್ ಅವಧಿಯ ಆರ್ಥಿಕ ಕಾರ್ಯಕ್ಷಮತೆಯನ್ನು ಸಹವರ್ತಿಗಳು ಮತ್ತು ಜಂಟಿ ಉದ್ಯಮಗಳ ಫಲಿತಾಂಶಗಳಿಂದ ಕೆಳಕ್ಕೆ ಎಳೆದಿದೆ, ಇದರಲ್ಲಿ ಏರ್\\u200cಏಷ್ಯಾ ಇಂಡಿಯಾ ನಷ್ಟಗಳನ್ನು ಗುರುತಿಸುವುದು ಸೇರಿದೆ. ಒಂದು ವರ್ಷದ ಹಿಂದೆ 88 1 ಮಿಲಿಯನ್ ರಿಂಗ್\\u200cಗಿಟ್ ನಷ್ಟಕ್ಕೆ ಹೋಲಿಸಿದರೆ 95 8 ಮಿಲಿಯನ್ ರಿಂಗ್\\u200cಗಿಟ್\\u200cನ ನಿವ್ವಳ ನಷ್ಟವನ್ನು ದಾಖಲಿಸಿದೆ ಎಂದು ಏರ್\\u200cಏಶಿಯಾ ಎಕ್ಸ್ ಹೇಳಿದೆ. ಜಪಾನ್ ಕೊರಿಯಾ ಮತ್ತು ಆಸ್ಟ್ರೇಲಿಯಾಕ್ಕೆ ಟಿಕೆಟ್ ಮಾರಾಟವು ಪರಿಣಾಮ ಬೀರಿದೆ ಆದರೆ ಚೀನಾದ ಮಾರುಕಟ್ಟೆಯಲ್ಲಿ ಹಿಟ್ ಆಗಿದೆ ವೈರಸ್ ಏಕಾಏಕಿ ಕಠಿಣ\",0\\n\"ಓರ್ಮರ್ ನ್ಯೂಯಾರ್ಕ್ ಮೇಯರ್ ಮೈಕ್ ಬ್ಲೂಮ್\\u200cಬರ್ಗ್ ಮತ್ತು ಮಾಜಿ ಉಪಾಧ್ಯಕ್ಷ ಜೋ ಬಿಡೆನ್ ಜೋ ಬಿಡೆನ್\\u200cಬಿಡೆನ್ ಎಸ್\\u200cಸಿ ಹಿಲಿಕಾನ್ ವ್ಯಾಲಿ ಡೆಮ್ಸ್\\u200cನಲ್ಲಿ ಮುನ್ನಡೆ ಸಾಧಿಸಲು ಮುಂದಾಗಿದ್ದಾರೆ. ಕೆಲವು ಪರಿಧಮನಿಯ ಜಾಹೀರಾತುಗಳನ್ನು ನಿಷೇಧಿಸಲು ಫೇಸ್\\u200cಬುಕ್ ತಿದ್ದುಪಡಿಗಳಿಗೆ ಪುಷ್\\u200cಬ್ಯಾಕ್ ಮಾಡಿದ ನಂತರ ಕಣ್ಗಾವಲು ಮತವನ್ನು ರದ್ದುಗೊಳಿಸಿದ್ದಾರೆ. ಶಾಸಕರು ಗ್ರಿಲ್ ಆನ್\\u200cಲೈನ್ ಟಿಕೆಟಿಂಗ್ ಎಕ್ಸಿಕ್ಯೂಟ್\\u200cಗಳು ಹ್ಯಾಕರ್ ಪ್ರವೇಶಿಸಿದ ಮುಖ ಗುರುತಿಸುವಿಕೆ ಕಂಪನಿಯ ಡೇಟಾಬೇಸ್ ದುರ್ಬಲ ಪ್ರಜಾಪ್ರಭುತ್ವವಾದಿಗಳು ಟಿಕೆಟ್ ಮೇಲೆ ಸ್ಯಾಂಡರ್ಸ್\\u200cಗೆ ಬ್ರೇಸ್ ನೀಡುತ್ತಾರೆ ಡೆಮೋಕ್ರಾಟಿಕ್ ನಾಮನಿರ್ದೇಶನಕ್ಕೆ ನಾನು ಬೆಂಬಲಿಸುವ ಇಬ್ಬರು ಅಭ್ಯರ್ಥಿಗಳು ಮಂಗಳವಾರದ ಚರ್ಚೆಯನ್ನು ಬಳಸಬೇಕಾಗಿತ್ತು ಮತ್ತು ಅಧ್ಯಕ್ಷ ಟ್ರಂಪ್ ಡೊನಾಲ್ಡ್ ಜಾನ್ ಟ್ರಂಪ್ ಟ್ರಂಪ್ ರಚಿಸಿದ ಗಂಭೀರ ಅಪಾಯದ ಬಗ್ಗೆ ರಾಷ್ಟ್ರವನ್ನು ಎಚ್ಚರಿಸಲು ಇಂದು ಪ್ರತಿಯೊಂದು ಅವಕಾಶವನ್ನೂ ಬಳಸಿಕೊಳ್ಳಬೇಕು. ಅಪಾಯಕಾರಿ ಬಕ್ ಓವರ್\\u200cನೈಟ್ ಹೆಲ್ತ್ ಕೇರ್ ಅಮೆರಿಕನ್ ಹೆಲ್ತ್ ಕೇರ್ ಅಸೋಸಿಯೇಷನ್ \\u200b\\u200bಪ್ರಸ್ತುತಪಡಿಸಿದ ಪೆರೋಸಿ ಪೆರೋಸಿ ಪ್ಯಾನಿಕ್ ರಚಿಸಲು ಪ್ರಯತ್ನಿಸುತ್ತಿದೆ ಎಂದು ಟ್ರಂಪ್ ಆರೋಪಿಸಿದ್ದಾರೆ ಸಿಡಿಸಿ ಅಪರಿಚಿತ ಮೂಲದ ಪ್ರಕರಣವನ್ನು ದೃ ms ಪಡಿಸುತ್ತದೆ ಶುಮರ್ 5 ಬಿಲಿಯನ್ ತುರ್ತು ನಿಧಿಗಳನ್ನು ಬಯಸುತ್ತಾನೆ ಟ್ರಂಪ್ ಕರೋನವೈರಸ್ ಬ್ರೀಫಿಂಗ್ ಸಮಯದಲ್ಲಿ ಜರ್ಮಾಫೋಬ್ ಎಂದು ಖ್ಯಾತಿ ಪಡೆದಿದ್ದಾರೆ ಸಾಧ್ಯವಾದಷ್ಟು ಜಾಮೀನು ನೀಡಲು ಕರೋನವೈರಸ್ ಬಿಕ್ಕಟ್ಟಿಗೆ ಹೆಚ್ಚಿನ ಅಸಮರ್ಥ ಪ್ರತಿಕ್ರಿಯೆ ವೈರಸ್ ವಿಶ್ವದಾದ್ಯಂತದ ಮಾರಕ ಸಾಂಕ್ರಾಮಿಕ ರೋಗವಾಗಿ ಪರಿಣಮಿಸುತ್ತದೆ, ಇದು ಅಸಂಖ್ಯಾತ ಸಾವುಗಳಿಗೆ ಕಾರಣವಾಗುತ್ತದೆ ಜಾಗತಿಕ ಆರ್ಥಿಕ ಹಿಂಜರಿತವು ಒಂದು ಪ್ರಮುಖ ಸ್ಟಾಕ್ ಮಾರುಕಟ್ಟೆ ಕುಸಿತ ಮತ್ತು ಅಮೆರಿಕಕ್ಕೆ ದುರಂತದ ಹಾನಿ ಮತ್ತು ರಾಜಕೀಯ ಭವಿಷ್ಯ ಮಾಜಿ ಅಧ್ಯಕ್ಷ ಜಾರ್ಜ್ ಡಬ್ಲ್ಯು ಬುಷ್ ಪ್ರಜಾಪ್ರಭುತ್ವವಾದಿಗಳ ನೇತೃತ್ವದಲ್ಲಿ ಕತ್ರಿನಾ ಚಂಡಮಾರುತವನ್ನು ರಾಜಕೀಯವಾಗಿ ನೆನಪಿಸುವ ಟ್ರಂಪ್ ಅವರು ಹಗರಣದ ಪ್ರಯತ್ನದ ನಂತರ ಸೈಬರ್ ಸುರಕ್ಷತೆಯ ಬಗ್ಗೆ ಅಭಿಯಾನಗಳನ್ನು ಎಚ್ಚರಿಸಿದ್ದಾರೆ. ಅಮೆರಿಕನ್ ಹೆಲ್ತ್ ಕೇರ್ ಅಸೋಸಿಯೇಷನ್ \\u200b\\u200bಪ್ರಸ್ತುತಪಡಿಸಿದ ಆರೋಗ್ಯ ರಕ್ಷಣೆ ಟ್ರಂಪ್ ಪೆರೋಸ್ ಅನ್ನು ಕರೋನವೈರಸ್ ಪ್ರತಿಕ್ರಿಯೆಯನ್ನು ಮುನ್ನಡೆಸಲು ಟ್ಯಾಪ್ ಮಾಡಿದ್ದಾರೆ ಪೆಲೋಸಿ ಭಯಭೀತರಾಗಲು ಪ್ರಯತ್ನಿಸುತ್ತಿದ್ದಾರೆ ಎಂದು ಟ್ರಂಪ್ ಆರೋಪಿಸಿದ್ದಾರೆ, ಅಪರಿಚಿತ ಮೂಲದ ಷುಮರ್ 5 ಬಿಲಿಯನ್ ತುರ್ತು ನಿಧಿಯನ್ನು ಬಯಸಿದ್ದಾರೆ ಎಂದು ಬಿಡೆನ್ ಎಸ್\\u200cಸಿಯಲ್ಲಿ ಮುನ್ನಡೆ ಸಾಧಿಸಲು ತೋರುತ್ತಿದ್ದಾರೆ, ಅವರು ಪ್ರಮುಖ ಚುನಾವಣಾ ರಾಜ್ಯಗಳನ್ನು ಗೆಲ್ಲಬಹುದು ಮತ್ತು ಸಮಾಜವಾದವನ್ನು ಗೆಲ್ಲುವ ಮೂಲಕ ಮತ್ತು ಪ್ರಶಂಸಿಸುವ ಮೂಲಕ ಕಾಂಗ್ರೆಸ್ಗೆ ಡೆಮೋಕ್ರಾಟ್ಗಳನ್ನು ಆಯ್ಕೆ ಮಾಡಬಹುದು ಎಂದು ಸೂಚಿಸಲು ಚರ್ಚೆಯನ್ನು ಬಳಸಿಕೊಳ್ಳುತ್ತಾರೆ ಫಿಡೆಲ್ ಕ್ಯಾಸ್ಟ್ರೋ ಮತ್ತು ಸೇನ್ ಎಲಿಜಬೆತ್ ವಾರೆನ್ ಎಲಿಜಾಬ್ ಅವರನ್ನು ನೋಡುತ್ತಿದ್ದಾರೆ ಎಥ್ ಆನ್ ವಾರೆನ್ಬಿಡೆನ್ ಎಸ್ಸಿ ಹಿಲಿಕಾನ್ ವ್ಯಾಲಿ ಡೆಮ್ಸ್ನಲ್ಲಿ ಕೆಲವು ಕರೋನವೈರಸ್ ಜಾಹೀರಾತುಗಳನ್ನು ನಿಷೇಧಿಸಲು ಫೇಸ್ಬುಕ್ಗೆ ತಿದ್ದುಪಡಿ ಮಾಡಿದ ನಂತರ ಕಣ್ಗಾವಲು ಮತವನ್ನು ರದ್ದುಗೊಳಿಸಿದ್ದಾರೆ. ಶಾಸಕರು ಗ್ರಿಲ್ ಆನ್\\u200cಲೈನ್ ಟಿಕೆಟಿಂಗ್ ಎಕ್ಸಿಕ್ಯೂಟ್\\u200cಗಳು ಹ್ಯಾಕರ್ ಪ್ರವೇಶಿಸಿದ ಮುಖ ಗುರುತಿಸುವಿಕೆ ಕಂಪನಿಯ ಡೇಟಾಬೇಸ್ ರಾಷ್ಟ್ರೀಯ ಜನಪ್ರಿಯ ಮತ ಆಂದೋಲನಕ್ಕೆ ಪುಶ್ ಸಂಪ್ರದಾಯವಾದಿಗಳಿಂದ ಹೆಚ್ಚಿನದಾಗಿದೆ ಮಾಸ್ ಬಿಡೆನ್ ಬ್ಲೂಮ್\\u200cಬರ್ಗ್ ಮತ್ತು ಇತರ ಡೆಮಾಕ್ರಟಿಕ್ ಅಭ್ಯರ್ಥಿಗಳು ಅಸಮರ್ಪಕ ನಿರೀಕ್ಷೆ ಸಿದ್ಧತೆ ಮತ್ತು ಮಾರಕ ಮತ್ತು ಆರ್ಥಿಕವಾಗಿ ದುರಂತದ ಕೊರೊನಾವೈರಸ್ ಸಾಂಕ್ರಾಮಿಕಕ್ಕೆ ಪ್ರತಿಕ್ರಿಯೆಯಿಂದ ಗಂಭೀರ ಅಪಾಯಗಳನ್ನು ಉಂಟುಮಾಡಲು ಈ ಎಲ್ಲಾ ಕ್ರಮಗಳು ಕಾರಣವಾಗುತ್ತವೆ ಎಂದು ಆರೋಪಿಸಬೇಕು.\",0\\n\"ಪಿಎಚ್\\u200cಡಿಸಿಸಿಐ ಅಧ್ಯಕ್ಷ ಡಿ.ಕೆ. ಅಗರ್\\u200cವಾಲ್ ಮಾತನಾಡಿ, ಜಾಗತಿಕ ಪೂರೈಕೆ ಸರಪಳಿಗಳಲ್ಲಿನ ಅಡೆತಡೆಗಳು ಚೀನಾದ ರಫ್ತಿಗೆ ಮಾತ್ರವಲ್ಲದೆ ಆಮದು ಮಾಡಿಕೊಳ್ಳುವ ದೇಶಗಳ ರಫ್ತುಗೂ ಸಹ ಪರಿಣಾಮ ಬೀರುತ್ತವೆ, ಏಕೆಂದರೆ ಅವರು ಇತರ ಗಮ್ಯಸ್ಥಾನಗಳಿಗೆ ರಫ್ತು ಮಾಡುವಾಗ ಚೀನಾದಿಂದ ದೊಡ್ಡ ಪ್ರಮಾಣದ ಕಚ್ಚಾ ವಸ್ತುಗಳು ಮತ್ತು ಮಧ್ಯಂತರ ಸರಕುಗಳನ್ನು ಆಮದು ಮಾಡಿಕೊಳ್ಳುತ್ತಾರೆ. ಜಾಗತಿಕ ವ್ಯಾಪಾರದ ಮೇಲೆ ಉಂಟಾಗುವ ಪರಿಣಾಮವನ್ನು ತಗ್ಗಿಸಲು ನಮ್ಮ ದೇಶೀಯ ಬಳಕೆ ಬೇಡಿಕೆ ಮತ್ತು ದೇಶೀಯ ಸಾಮರ್ಥ್ಯಗಳನ್ನು ಹೆಚ್ಚಿಸುವ ಅವಶ್ಯಕತೆಯಿದೆ ಎಂದು ಅಗರ್\\u200cವಾಲ್ ಹೇಳಿದರು. ವೈರಸ್ ಹರಡಿದ ಕಾರಣ ಚೀನಾದಿಂದ ಕಚ್ಚಾ ವಸ್ತುಗಳ ಆಮದಿನಲ್ಲಿ ce ಷಧೀಯ ಸೌರ ಮತ್ತು ಕಬ್ಬಿಣ ಮತ್ತು ಉಕ್ಕಿನಂತಹ ಕ್ಷೇತ್ರಗಳು ಅಡೆತಡೆಗಳನ್ನು ಎದುರಿಸುತ್ತಿವೆ. ಅಗರ್ವಾಲ್ ಅವರ ಪ್ರಕಾರ, ಯುಎಸ್ ವ್ಯಾಪಾರಕ್ಕೆ ರಫ್ತು ಮಾಡುವಲ್ಲಿ ಚೀನಾ ಜಾಗತಿಕ ವ್ಯಾಪಾರದಲ್ಲಿ ಶೇ 13 ರಷ್ಟು ಕೊಡುಗೆ ನೀಡುತ್ತಿದೆ. ಯುಎಸ್ ಹಾಂಗ್ ಕಾಂಗ್ ಜಪಾನ್ ಕೊರಿಯಾ ವಿಯೆಟ್ನಾಂ ಜರ್ಮನಿ ಭಾರತ ನೆದರ್ಲ್ಯಾಂಡ್ಸ್ ಜಾಗತಿಕ ವ್ಯಾಪಾರದ ಮೇಲಿನ ಪರಿಣಾಮವು ವಿಶ್ವ ಆರ್ಥಿಕತೆಯ ಬೆಳವಣಿಗೆಯ ಭವಿಷ್ಯವನ್ನು ಹಾಳು ಮಾಡುತ್ತದೆ ಏಕಾಏಕಿ ಜಾಗತಿಕ ಆರ್ಥಿಕತೆ ಮತ್ತು ಸಾಮರ್ಥ್ಯವನ್ನು ಹೊಂದಿದೆ ಎಂದು ಅವರು ಹೇಳಿದರು ಮಾರುಕಟ್ಟೆ ಸ್ಥಳಾಂತರಿಸುವುದು ಆದರೆ ರೋಗದ ಆರ್ಥಿಕ ಪರಿಣಾಮವು ಅದರ ಅವಧಿ ಮತ್ತು ತೀವ್ರತೆಯನ್ನು ಅವಲಂಬಿಸಿರುತ್ತದೆ. ನಿರಂತರ ಹರಡುವಿಕೆಯು 0 3 ಶೇಕಡಾವಾರು ಬಿಂದುಗಳಿಂದ ಪ್ರಭಾವ ಬೀರಬಹುದು, ಅದು 250 ಬಿಲಿಯನ್ ಅಗರ್\\u200cವಾಲ್ ಆಗುತ್ತದೆ\",1\\n\"ಸೆನೆಟ್ ಸೆನೆಟರ್ ಅಧ್ಯಕ್ಷ ಅಹ್ಮದ್ ಲಾವನ್ ಅವರ ನಿನ್ನೆ ಅಬುಜಾದಲ್ಲಿ ಮಾತನಾಡಿದ ಅವರು, ಫೆಡರಲ್ ಕೆಲವು ಪೂರ್ವಭಾವಿ ಕ್ರಮಗಳನ್ನು ಕೈಗೊಳ್ಳುತ್ತಿರುವಾಗ ಅದು ಸಾಕಷ್ಟು ಮಾಡುತ್ತಿಲ್ಲ ಮತ್ತು ನೈಜೀರಿಯಾ ಸೋಂಕಿನಿಂದ ತಪ್ಪಿಸಿಕೊಳ್ಳಬೇಕಾದರೆ ಇದನ್ನು ಸುಧಾರಿಸಬೇಕು ಎಂದು ಉಪ ಸೆನೆಟ್ ನಾಯಕ ಸೆನೆಟರ್ ರಾಬರ್ಟ್ ಅಜಯ್ ಬೊರೊಫೈಸ್ ಆಲ್ ಪ್ರೋಗ್ರೆಸ್ಸಿವ್ ಕಾಂಗ್ರೆಸ್ ಎಪಿಸಿ ಒಂಡೋ ನಾರ್ತ್ ಅವರು ದಕ್ಷಿಣ ಆಫ್ರಿಕಾದಲ್ಲಿ ಪಡೆಯುವದಕ್ಕೆ ಹೋಲಿಸಿದರೆ ಪರಿಸ್ಥಿತಿಯನ್ನು ಸರಿಯಾಗಿ ನಿಭಾಯಿಸುವುದು ಮತ್ತು ರಾಷ್ಟ್ರದ ವಿಮಾನ ನಿಲ್ದಾಣದಲ್ಲಿ ಸರಿಯಾದ ಸ್ಕ್ರೀನಿಂಗ್ ಕೊರತೆಯ ಬಗ್ಗೆ ಆದೇಶವನ್ನು ಎತ್ತಿದ್ದಾರೆ. ಇದರ ಪರಿಣಾಮವಾಗಿ ಸೆನೆಟ್ ತನ್ನ ಸೆನೆಟರ್ ಚುಕ್ವುಕಾ ಉಟಾಜಿ ಪೀಪಲ್ಸ್ ಡೆಮಾಕ್ರಟಿಕ್ ಪಕ್ಷವನ್ನು ಆದೇಶಿಸಿದೆ ಪಿಡಿಪಿ ಎನುಗು ನಾರ್ತ್ ನೇತೃತ್ವದ ಪ್ರಾಥಮಿಕ ಆರೋಗ್ಯ ಮತ್ತು ಸಾಂಕ್ರಾಮಿಕ ಕಾಯಿಲೆಗಳ ಸೆನೆಟ್ ಸಮಿತಿ ಮತ್ತು ಸೆನೆಟರ್ ಯಹಾಯಾ ಒಲೋರಿಗ್ಬೆ ಎಪಿಸಿ ಕ್ವಾರಾ ಸೆಂಟ್ರಲ್ ನೇತೃತ್ವದ ಆರೋಗ್ಯ ದ್ವಿತೀಯ ಮತ್ತು ತೃತೀಯ ಸಮಿತಿಯು ಆರೋಗ್ಯ ಸಚಿವ ಡಾ. ಒಸಾಗಿ ಎಹನೈರ್ ಅವರನ್ನು ಮತ್ತೊಮ್ಮೆ ಅವರೊಂದಿಗೆ ತೊಡಗಿಸಿಕೊಳ್ಳಲು ಕರೆಸಿಕೊಳ್ಳುವಂತೆ ಸೆನೆಟ್ ಅಧ್ಯಕ್ಷರು ಹೇಳಿದರು ಫೆಡರಲ್ ಆರೋಗ್ಯ ಸಚಿವಾಲಯ ಮತ್ತು ಸಂಬಂಧಿತ ಏಜೆನ್ಸಿಗಳು ತಮ್ಮ ಅತ್ಯುತ್ತಮ ಬುದ್ಧಿ ಮಾಡುತ್ತಿರಬಹುದು ಈ ವಿವರಣೆಯು ಫೆಡರಲ್ ಆರೋಗ್ಯ ಸಚಿವಾಲಯದೊಂದಿಗೆ ಮತ್ತೊಮ್ಮೆ ತೊಡಗಿಸಿಕೊಳ್ಳಲು ಪ್ರಾಥಮಿಕ ಆರೋಗ್ಯ ಮತ್ತು ಆರೋಗ್ಯದ ಸಮಿತಿಗಳನ್ನು ಒತ್ತಾಯಿಸಲು ನಾನು ಬಯಸುತ್ತೇನೆ ನಮ್ಮ ವಿಮಾನ ನಿಲ್ದಾಣಗಳು ಅಥವಾ ಬಂದರಿನಲ್ಲಿ ಮಾಡಿದ ಎಲ್ಲ ಪ್ರಯತ್ನಗಳನ್ನು ನೋಡಲು ನಾವು ಬಯಸುತ್ತೇವೆ\",0\\nಮಾರ್ಚ್ 6 ರಂದು ನಡೆಯಲಿರುವ ಚೀನಾ ಮತ್ತು ದಕ್ಷಿಣ ಕೊರಿಯಾ ನಡುವಿನ ಮಹಿಳಾ ಒಲಿಂಪಿಕ್ ಅರ್ಹತಾ ಪ್ಲೇಆಫ್\\u200cಗೆ ಪರ್ಯಾಯ ದಿನಾಂಕಗಳನ್ನು ನೋಡುತ್ತಿರುವುದಾಗಿ ಎಎಫ್\\u200cಸಿ ತಿಳಿಸಿದೆ. ತೈವಾನ್\\u200cನಲ್ಲಿ ಒಂದು ಮತ್ತು ಚೀನಾದಲ್ಲಿ ಮಾರ್ಚ್ ಮತ್ತು ಏಪ್ರಿಲ್\\u200cನಲ್ಲಿ ನಡೆಯಲಿರುವ ಎರಡು ಪಂದ್ಯಗಳನ್ನು ಸಹ ಮುಂದೂಡಲಾಗಿದೆ. ಮತ್ತು 11 ಟೆನಿಸ್ ಅಂತರರಾಷ್ಟ್ರೀಯ ಟೆನಿಸ್ ಫೆಡರೇಶನ್ ಫೆಡ್ ಕಪ್ ಏಷ್ಯಾ ಓಷಿಯಾನಿಯಾ ಗ್ರೂಪ್ I ಈವೆಂಟ್ ಅನ್ನು ಚೀನಾ ತೈವಾನ್ ಇಂಡೋನೇಷ್ಯಾ ದಕ್ಷಿಣ ಕೊರಿಯಾ ಮತ್ತು ಉಜ್ಬೇಕಿಸ್ತಾನ್ ಅನ್ನು ಚೀನಾದ ನಗರವಾದ ಡಾಂಗ್ಗುವಾನ್ ನಿಂದ ನೂರ್ ಸುಲ್ತಾನ್ಗೆ ಕ Kazakh ಾಕಿಸ್ತಾನದಲ್ಲಿ ಹಿಂದೆ ಅಸ್ತಾನಾಗೆ ಸ್ಥಳಾಂತರಿಸಿತು. ಮಹಿಳೆಯರ ಕ್ಸಿ ಓಪನ್ ಟೆನಿಸ್ ಪಂದ್ಯಾವಳಿ ಏಪ್ರಿಲ್ 13 ರಂದು ನಡೆಯಲಿದೆ. 19 ರದ್ದಾಗಿದೆ ಮತ್ತು ಡಬ್ಲ್ಯುಟಿಎ the ತುವಿನ ದ್ವಿತೀಯಾರ್ಧದಲ್ಲಿ ಚೀನಾದಲ್ಲಿ ನಡೆಯಲಿರುವ ಹಲವಾರು ಘಟನೆಗಳೊಂದಿಗೆ ಪರಿಸ್ಥಿತಿಯನ್ನು ಮೇಲ್ವಿಚಾರಣೆ ಮಾಡುತ್ತಿದೆ ಎಂದು ಹೇಳಿದರು ಬ್ಯಾಡ್ಮಿಂಟನ್ 2020 ಜರ್ಮನ್ ಓಪನ್ ಮಾರ್ಚ್ 3 ರಿಂದ ಮುಯೆಲ್ಹೈಮ್ ಆನ್ ಡೆರ್ ರುಹ್ರ್ನಲ್ಲಿ ನಡೆಯಬೇಕಿತ್ತು ಮತ್ತು ಇದು ಒಲಿಂಪಿಕ್ ಅರ್ಹತಾ ಪಂದ್ಯವನ್ನು ರದ್ದುಪಡಿಸಲಾಗಿದೆ ಎಂದು ಬ್ಯಾಡ್ಮಿಂಟನ್ ವಿಶ್ವ ಫೆಡರೇಶನ್ ತಿಳಿಸಿದೆ,1\\n\"ನಾವು ಮುಂದಿನ ವರ್ಷ ಬಜೆಟ್ ಅನ್ನು ಹೆಚ್ಚುವರಿ ಮೊತ್ತಕ್ಕೆ ತಂದಿದ್ದೇವೆ, ಕಳೆದ ವರ್ಷದ ಚುನಾವಣೆಯ ಮುನ್ನಾದಿನದಂದು ಸ್ಕಾಟ್ ಮಾರಿಸನ್ ಘೋಷಿಸಿದ್ದು, ಇತ್ತೀಚಿನ ಸ್ಮರಣೆಯಲ್ಲಿ ಹೆಚ್ಚು ಅಸಂಬದ್ಧ ರಾಜಕೀಯ ಹೇಳಿಕೆಗಳಲ್ಲಿ ಯಾವುದು ಎಂದು ಅವರು ಹೆಚ್ಚು ನಿಖರವಾಗಿ ಹೇಳಬಹುದಾಗಿತ್ತು, ನಾವು ಬಜೆಟ್ ಅನ್ನು ಅಂತಹ ಸ್ಥಾನಕ್ಕೆ ಹಿಂದಿರುಗಿಸಿದ್ದೇವೆ ಮುಂದಿನ ವರ್ಷ ಅದು ಹೆಚ್ಚುವರಿ ಮೊತ್ತದಲ್ಲಿದೆ ಎಂದು ನಾವು ಈಗ ನಿರೀಕ್ಷಿಸುತ್ತೇವೆ ಆದರೆ ಪ್ರಚಾರದ ರ್ಯಾಲಿಯಲ್ಲಿ ಎಸಿ ಡಿಸಿ ಬ್ಯಾಕ್ ಇನ್ ಬ್ಲ್ಯಾಕ್\\u200cಗೆ ಹೊರಹೋಗಲು ಇದು ನಿಜವಾಗಿಯೂ ನಿಮಗೆ ಅನುಮತಿಸುವುದಿಲ್ಲ. ಜನರು ಎಷ್ಟು ಮುಖ್ಯವಾದ ಬಜೆಟ್ ಹೆಚ್ಚುವರಿಗಳಾಗಿದ್ದರೂ ಅದನ್ನು ಮುಂದುವರಿಸಲು ಯಾವುದೇ ಅರ್ಥವಿಲ್ಲ ಬಜೆಟ್ ನೋವುಗಿಂತ ಕೆಟ್ಟದಾದ ನೈಜ ಪ್ರಪಂಚದ ಪರಿಣಾಮಗಳನ್ನು ಮುಂದಿಡುವ ಮೂಲಕ ನಿಮ್ಮ ಸಮುದಾಯವು ನಾಶವಾದಾಗ ಅಥವಾ ನೀವು ಭೀಕರವಾಗಿ ಅಸ್ವಸ್ಥರಾಗಿರುವಿರಿ ಎಂದು ನೀವು ಭಾವಿಸಿದಾಗ ಬಜೆಟ್ ಹೆಚ್ಚುವರಿ ಏನಿದೆ? ಮೋರಿಸನ್ ತನ್ನ ಹೆಚ್ಚುವರಿ ಕೊರತೆಯಿಂದಾಗಿ ಸಹಿಸಿಕೊಂಡಿದ್ದ ಯಾವುದೇ ರಾಜಕೀಯ ನೋವನ್ನು ಸರಾಗಗೊಳಿಸುವ ಎಲ್ಲ\",0\\n\"ಕಾದಂಬರಿ ಕೊರೊವೈರಸ್ ಅನ್ನು ಈಗ COVID 19 ಎಂದು ಹೆಸರಿಸಲಾಗಿದೆ. ಇದು ಹೊಸ ವೈರಸ್ ಎಂದು ಡಾ. ಮಾರ್ಕ್ ಫಾಕ್ಸ್ ಹೇಳಿದ್ದಾರೆ, ಆದ್ದರಿಂದ ಪ್ರಸರಣವನ್ನು ಅರ್ಥಮಾಡಿಕೊಳ್ಳಲು ಸ್ವಲ್ಪ ಸಮಯ ತೆಗೆದುಕೊಳ್ಳುತ್ತದೆ ಫಾಕ್ಸ್ ಸೇಂಟ್ ಜೋಸೆಫ್ ಕೌಂಟಿ ಕೊರೊನಾವೈರಸ್\\u200cಗಳ ಉಪ ಆರೋಗ್ಯ ಅಧಿಕಾರಿ ವಾಸ್ತವವಾಗಿ ವೈರಸ್\\u200cಗಳ ಒಂದು ದೊಡ್ಡ ಕುಟುಂಬವಾಗಿದ್ದು ಅವು ಸಾಮಾನ್ಯವಾಗಿ ಹುಟ್ಟಿಕೊಂಡಿವೆ ಪ್ರಾಣಿಗಳು ಮತ್ತು ನಂತರ ಕೆಲವು ಸಂದರ್ಭಗಳಲ್ಲಿ ವಿಕಸನಗೊಂಡಿವೆ ಮತ್ತು ನಿಜವಾಗಿ ಮಾನವರಲ್ಲಿ ಹರಡುತ್ತವೆ ಎಂದು ಫಾಕ್ಸ್ ವಿವರಿಸಿದರು COVID 19 ಗಾಗಿ ನಮ್ಮಲ್ಲಿ ಇನ್ನೂ ಯಾವುದೂ ಇಲ್ಲ ಏಕೆಂದರೆ ಇದು ಹೊಚ್ಚ ಹೊಸ ವೈರಸ್ ಫಾಕ್ಸ್ ಹೇಳಿದರು ಈ ನಿಗೂ erious ಹೊಸ ವೈರಸ್ ಬಗ್ಗೆ ಪ್ರಪಂಚವು ಇನ್ನಷ್ಟು ತಿಳಿದುಕೊಳ್ಳುವುದನ್ನು ಮುಂದುವರಿಸಿದಂತೆ ಸೇಂಟ್ ಜೋಸೆಫ್ COVID 19 ಮನೆಯಲ್ಲಿ ಕಾಣಿಸಿಕೊಂಡಾಗ ಕೌಂಟಿ ಮುಂದೆ ಯೋಜಿಸುತ್ತಿದೆ\",1\\n\"ನಿಮ್ಮ ದಿನವನ್ನು ಪ್ರಾರಂಭಿಸಲು ನೀವು ತಿಳಿದುಕೊಳ್ಳಬೇಕಾದ ಕೆಲವು ಪ್ರಮುಖ ಕಥೆಗಳು ಇಲ್ಲಿವೆ. ಮಿಲ್ವಾಕಿಯ ಮೊಲ್ಸನ್ ಕೂರ್ಸ್ ಬ್ರೂಯಿಂಗ್ ಕೋ ಕ್ಯಾಂಪಸ್\\u200cನಲ್ಲಿ ಬುಧವಾರ ಸಕ್ರಿಯವಾಗಿ ನಡೆದ ಶೂಟಿಂಗ್ ವರದಿಗಳಿಗೆ ಪೊಲೀಸರು ಪ್ರತಿಕ್ರಿಯಿಸುತ್ತಾರೆ ಫೆಬ್ರವರಿ 26 2020 ಇಟಲಿಯಲ್ಲಿ ಕರೋನವೈರಸ್ ಪ್ರಕರಣಗಳ ಸಂಖ್ಯೆ ಇತ್ತೀಚಿನ ದಿನಗಳಲ್ಲಿ ಹೆಚ್ಚಾಗಿದೆ ಇಲಿನಾಯ್ಸ್ ಆರೋಗ್ಯ ಅಮೆರಿಕದ ಸಮುದಾಯಗಳಿಗೆ ರೋಗ ಹರಡುವುದು ಅನಿವಾರ್ಯ ಆದರೆ ರಾಷ್ಟ್ರೀಯ ತಜ್ಞರ ಎಚ್ಚರಿಕೆಯ ನಂತರ ಕರೋನವೈರಸ್\\u200cನ ಯಾವುದೇ ಬೆದರಿಕೆಯನ್ನು ಕಾಪಾಡಲು ಲಭ್ಯವಿರುವ ಎಲ್ಲಾ ತಡೆಗಟ್ಟುವ ಕ್ರಮಗಳನ್ನು ಅವರು ತೆಗೆದುಕೊಳ್ಳುತ್ತಿದ್ದಾರೆ ಎಂದು ಅಧಿಕಾರಿಗಳು ಬುಧವಾರ ಹೇಳಿದ್ದಾರೆ ಆದರೆ ಚಿಕಾಗೊ ಮೇಯರ್ ಲೋರಿ ಲೈಟ್\\u200cಫೂಟ್ ತಮ್ಮ ನಗರ ಅಸಾಧಾರಣವಾದ ಕ್ರಮಗಳನ್ನು ತೆಗೆದುಕೊಳ್ಳಲು ಸಿದ್ಧವಾಗಿದೆ ಎಂದು ಹೇಳಿದರು ಅಗತ್ಯವಿದ್ದರೆ ಕ್ರಮಗಳು ಬುಧವಾರ ರೋಗ ನಿಯಂತ್ರಣ ಮತ್ತು ತಡೆಗಟ್ಟುವಿಕೆ ಕೇಂದ್ರಗಳ ಎಚ್ಚರಿಕೆ ಜನರು ಭಯಭೀತರಾಗಲು ಕಾರಣವಾಗಬಾರದು ಎಂದು ಅಧ್ಯಕ್ಷ ಟ್ರಂಪ್ ಹೇಳಿದ್ದಾರೆ. ಕರೋನವೈರಸ್ ಹೆಸರುಗಳಿಗೆ ಯುಎಸ್ ತುಂಬಾ ಸಿದ್ಧವಾಗಿದೆ ಎಂದು ಬೆದರಿಕೆಗಳಿಗೆ ಸರ್ಕಾರದ ಪ್ರತಿಕ್ರಿಯೆಯನ್ನು ಮುನ್ನಡೆಸಲು ಉಪಾಧ್ಯಕ್ಷ ಪೆನ್ಸ್ ಸಬರ್ಬನ್ ಶಾಲಾ ಅಧಿಕಾರಿಗಳು ನಿರೀಕ್ಷಿತ ಆಗಮನಕ್ಕೆ ಸಿದ್ಧರಾಗಿದ್ದಾರೆ ಕರೋನವೈರಸ್ ಇದು ಬಹುಶಃ ಮಾಜಿ ರಾಜ್ಯ ಸೇನ್ ಮಾರ್ ಚಂಡಮಾರುತದ ಮೊದಲು ಶಾಂತವಾಗಿದೆ ಜನವರಿ 28 2020 ರಂದು ಲಂಚ ಮತ್ತು ತೆರಿಗೆ ಶುಲ್ಕಗಳಿಗೆ ತಪ್ಪೊಪ್ಪಿಕೊಂಡ ನಂತರ ಟಿನ್ ಸ್ಯಾಂಡೋವಲ್ ಡಿರ್ಕ್ಸನ್ ಯು ಎಸ್ ಕೋರ್ಟ್\\u200cಹೌಸ್\\u200cನಿಂದ ಹೊರಹೊಮ್ಮಿದ್ದಾನೆ ರೆಡ್ ಲೈಟ್ ಕಂಪನಿ ಸೇಫ್\\u200cಸ್ಪೀಡ್ ಇದು ಸ್ಯಾಂಡೋವಲ್\\u200cನ ಫೆಡರಲ್ ಮನವಿ ಒಪ್ಪಂದದಲ್ಲಿ ಹೆಸರಿಸಲ್ಪಟ್ಟ ಸಂಸ್ಥೆಯಾಗಿದೆ ಎಂದು ಒಪ್ಪಿಕೊಂಡಿದೆ. ಇಲಿನಾಯ್ಸ್ ಹೌಸ್ ಬುಧವಾರ ವಿವಾದಾತ್ಮಕ ಕೆಂಪು ದೀಪವನ್ನು ನಿಷೇಧಿಸುವ ಶಾಸನವನ್ನು ಜಾರಿಗೆ ತಂದಿದೆ ಅನೇಕ ಇಲಿನಾಯ್ಸ್ ಸಮುದಾಯಗಳಲ್ಲಿನ ಕ್ಯಾಮೆರಾಗಳು 2015 ರಲ್ಲಿ ನಿರ್ಬಂಧಿಸಿದಂತೆಯೇ ಹಿಂದಿನ ಸೆನ್ ಮಾರ್ಟಿನ್ ಸ್ಯಾಂಡೋವಲ್ ಅವರು ರಾಜೀನಾಮೆ ನೀಡಿದ್ದಾರೆ ಮತ್ತು ರೆಡ್ ಲೈಟ್ ಕ್ಯಾಮೆರಾ ಕಂಪನಿಯಿಂದ ಲಂಚ ಪಡೆದಿದ್ದಕ್ಕಾಗಿ ತಪ್ಪೊಪ್ಪಿಕೊಂಡಿದ್ದಾರೆ. ಲೇನ್ ಟೆಕ್ ಕಾಲೇಜ್ ಪ್ರೆಪ್ ಹೈಸ್ಕೂಲ್\\u200cನಲ್ಲಿ ಚಿತ್ರಿಸಿದ ಡಜನ್ಗಟ್ಟಲೆ ಭಿತ್ತಿಚಿತ್ರಗಳ ಸಂಗ್ರಹವಿದೆ 20 ನೇ ಶತಮಾನದ ಆರಂಭ ಮತ್ತು ಮಧ್ಯಭಾಗದಲ್ಲಿ ಚಿಕಾಗೊ ಶಿಕ್ಷಣ ಮಂಡಳಿಯು ಅದರ ಕಟ್ಟಡಗಳನ್ನು ಅಲಂಕರಿಸುವ ಕಲಾಕೃತಿಗಳ ಬಗ್ಗೆ ಹೊಸ ನೀತಿಯನ್ನು ಪ್ರಸ್ತಾಪಿಸಿದಾಗ ಜನರು ಒಂದು ನಿರ್ದಿಷ್ಟವಾದ ತುಂಡುಗಳನ್ನು ತೂಗುತ್ತಾರೆ, ಅವರು ಸ್ಥಳೀಯ ಜನರು ಮತ್ತು ಬಿಳಿ ವಸಾಹತುಗಾರರನ್ನು ಚಿತ್ರಿಸುವ ಜಿಲ್ಲಾ ಕಚೇರಿ ಕಟ್ಟಡದಲ್ಲಿ ಭಿತ್ತಿಚಿತ್ರಗಳನ್ನು ಹೋಗಬೇಕೆಂದು ಬಯಸುತ್ತಾರೆ. ಚಾರ್ಲ್ಸ್ ಎಂ ನೆಟ್ಟರ್\\u200cಸ್ಟ್ರಾಮ್ ಹೌಸ್ 833 W ಆಲ್ಡೈನ್ ಅವೆನ್ಯೂ ಅನ್ನು ಗ್ರೇಟ್ ಚಿಕಾಗೊ ಬೆಂಕಿಯ ನಂತರ 1871 ರಲ್ಲಿ ನಿರ್ಮಿಸಲಾಯಿತು ಮತ್ತು ಇದು ವಿಶಿಷ್ಟವಾದ a ವಾಸ್ತುಶಿಲ್ಪದ ವಿವರಗಳು ಪ್ರತಿ ಕಟ್ಟಡವು ಒಂದು ಕಥೆಯನ್ನು ಹೊಂದಿದೆ ಮತ್ತು ಮ್ಯಾಟ್ ವಿಕ್ಲಂಡ್ ಯಾವಾಗಲೂ ಅವುಗಳನ್ನು ತಿಳಿದುಕೊಳ್ಳಲು ಬಯಸುತ್ತಾರೆ ವಾಸ್ತುಶಿಲ್ಪ ಇತಿಹಾಸದಲ್ಲಿ ವೃತ್ತಿಜೀವನ ಮತ್ತು ಗಮನಾರ್ಹವಾದ ಚಿಕಾಗೊ ಕಟ್ಟಡಗಳನ್ನು ಸಂರಕ್ಷಿಸುವ ಉತ್ಸಾಹದಿಂದ ವಿಕ್ಲಂಡ್ ನಗರದ ಮನೆಗಳ ಬಗ್ಗೆ ವಿವರಗಳನ್ನು ಹೇಗೆ ಅಗೆಯುವುದು ಎಂದು ತಿಳಿದಿದ್ದಾರೆ. ಮುಂಭಾಗದಲ್ಲಿ ಸಂಕೀರ್ಣವಾದ ವಿವರ\",0\\nಬೆಸ್ಟ್ ಬೈ ಎನ್ವೈಎಸ್ಇ ಬಿಬಿವೈ ವರದಿ ಮಾಡಿದೆ ದೇಶೀಯ ಹೋಲಿಕೆ ಮಾಡಬಹುದಾದ ಅಂಗಡಿಗಳ ಮಾರಾಟವು ಕ್ಯೂ 4 ಮತ್ತು 2 2 ಒಮ್ಮತದಲ್ಲಿ 3% ಏರಿಕೆಯಾಗಿದೆ ದೇಶೀಯ ಹೋಲಿಕೆ ಮಾಡಬಹುದಾದ ಆನ್\\u200cಲೈನ್ ಮಾರಾಟವು ತ್ರೈಮಾಸಿಕದಲ್ಲಿ 18 7 ವರ್ಷಗಳು ಏರಿಕೆಯಾಗಿದೆ ತ್ರೈಮಾಸಿಕದಲ್ಲಿ ಒಟ್ಟು ಉದ್ಯಮ ಹೋಲಿಕೆ ಮಾಡಬಹುದಾದ ಮಾರಾಟವು 3% ಏರಿಕೆಯಾಗಿದೆ ಬೆಸ್ಟ್ ಬೈ 9 1 ಬಿ ಯಿಂದ 9 2 ಬಿ ವರ್ಸಸ್ 9 3 ಬಿ ಒಮ್ಮತ ಮತ್ತು 1 00 ರಿಂದ 1 05 ವರ್ಸಸ್ 1 01 ರ ಒಮ್ಮತದ ಕ್ಯೂ 1 ಎಂಟರ್\\u200cಪ್ರೈಸ್ ಆದಾಯವನ್ನು ನೋಡುತ್ತದೆ.,0\\nವಿಶ್ವ ಆರೋಗ್ಯ ಸಂಸ್ಥೆಯ ಮಹಾನಿರ್ದೇಶಕರ ಮಹಾನಿರ್ದೇಶಕರ ವಿಶೇಷ ಸಲಹೆಗಾರ ಡಾ. ಎ z ೆಕಿಯೆಲ್ ಇಮ್ಯಾನ್ಯುಯೆಲ್ ಅವರು ಬುಧವಾರ ಅಧ್ಯಕ್ಷ ಟ್ರಂಪ್ ಡೊನಾಲ್ಡ್ ಜಾನ್ ಟ್ರಂಪ್ ಟ್ರಂಪ್ ಪೆನ್ಸ್ ಅಪಾಯಕಾರಿ ಬಕ್ ಅನ್ನು ಹಾದುಹೋಗಿದ್ದಾರೆಂದು ಕಂಡುಹಿಡಿದಿದ್ದಾರೆ ಎಂದು ಅಮೆರಿಕನ್ ಹೆಲ್ತ್ ಕೇರ್ ಅಸೋಸಿಯೇಷನ್ \\u200b\\u200bಪ್ರಸ್ತುತಪಡಿಸಿದ ರಾತ್ರಿಯ ಆರೋಗ್ಯ ರಕ್ಷಣೆ ಟ್ರಂಪ್ ಪೆರೋಸ್ ಅನ್ನು ಕರೋನವೈರಸ್ ಪ್ರತಿಕ್ರಿಯೆಯನ್ನು ಮುನ್ನಡೆಸಲು ಟ್ರಂಪ್ ಪೆಲೋಸಿ ಆರೋಪಿಸಿದ್ದಾರೆ ಪ್ಯಾನಿಕ್ ಸಿಡಿಸಿ ಸೃಷ್ಟಿಸಲು ಪ್ರಯತ್ನಿಸುವುದರಿಂದ ಅಪರಿಚಿತ ಮೂಲದ ಷುಮರ್ 5 ಬಿಲಿಯನ್ ತುರ್ತು ನಿಧಿಯನ್ನು ಬಯಸುತ್ತಾನೆ ಎಂದು ದೃ ro ಪಡಿಸುತ್ತಾನೆ. ಕರೋನವೈರಸ್ ಬ್ರೀಫಿಂಗ್ ಸಮಯದಲ್ಲಿ ಟ್ರಂಪ್ ಜರ್ಮಾಫೋಬ್ ಎಂದು ಖ್ಯಾತಿ ಪಡೆದಿದ್ದಾರೆ. ಸೀನುವ ನಂತರ ನಾನು ಸಾಧ್ಯವಾದಷ್ಟು ಜಾಮೀನು ನೀಡಲು ಪ್ರಯತ್ನಿಸುತ್ತೇನೆ ಕರೋನವೈರಸ್ ಏಕಾಏಕಿ ಅವರ ಆಡಳಿತದ ಪ್ರತಿಕ್ರಿಯೆಯ ಕುರಿತು ಹೆಚ್ಚಿನ ಪತ್ರಿಕಾಗೋಷ್ಠಿಯನ್ನು ಸೀನುವ ನಂತರ ಸ್ವಲ್ಪ ಅಸಂಗತ ಎಂಎಸ್ಎನ್\\u200cಬಿಸಿಯ ಹಾರ್ಡ್\\u200cಬಾಲ್ ಕುರಿತು ಮಾತನಾಡಿದ ಒಬಾಮಾ ಆಡಳಿತದ ಮಾಜಿ ಆರೋಗ್ಯ ನೀತಿ ಸಲಹೆಗಾರ ಟ್ರಂಪ್ ಅವರ ಹೇಳಿಕೆಗಳು ಸಾರ್ವಜನಿಕ ಆರೋಗ್ಯದ ಬಗ್ಗೆ ತನಗೆ ಎಷ್ಟು ತಿಳಿದಿದೆ ಎಂದು ಸೂಚಿಸುತ್ತದೆ ಮತ್ತು ಚೀನಾದಲ್ಲಿ ಮೊದಲು ಕಾಣಿಸಿಕೊಂಡ ವೈರಸ್ ಬಗ್ಗೆ ಆರೋಗ್ಯ ಅಧಿಕಾರಿಗಳಿಗೆ ಇನ್ನೂ ಪ್ರಮುಖ ಮಾಹಿತಿ ತಿಳಿದಿಲ್ಲ ಎಂದು ಒತ್ತಿ ಹೇಳಿದರು. ಮತ್ತು ನಂತರ 80000 ಕ್ಕೂ ಹೆಚ್ಚು ಜನರಿಗೆ ಹೆಚ್ಚು ಟಿ ಸೋಂಕು ತಗುಲಿತು ಹಾನ್ ಮೂರು ಡಜನ್ ದೇಶಗಳು ದೇಶದಲ್ಲಿ ಹರಡುವಿಕೆಯನ್ನು ಶ್ವೇತಭವನದ ನಿರ್ವಹಣೆಯಲ್ಲಿ ಎಸ್ ವಿಶ್ವಾಸವನ್ನು ಹೆಚ್ಚಿಸಲು ಅವರು ಉಪಾಧ್ಯಕ್ಷ ಪೆನ್ಸ್ ಆಡಳಿತದ ಕೊರೊನಾವೈರಸ್ ಪ್ರತಿಕ್ರಿಯೆಯನ್ನು ಮುನ್ನಡೆಸುತ್ತಾರೆ ಎಂದು ಟ್ರಂಪ್ ಘೋಷಿಸಿದ ಕೆಲವೇ ಕ್ಷಣಗಳಲ್ಲಿ ಈ ಅಭಿಪ್ರಾಯಗಳು ಬಂದವು. ಬುಧವಾರ ರಾತ್ರಿ ಪತ್ರಿಕಾಗೋಷ್ಠಿ ಬಂದಿತು ನಿಮ್ಮ ಎಸ್ ನಲ್ಲಿ ಏಕಾಏಕಿ ಅನಿವಾರ್ಯ ಎಂಬ ಎಚ್ಚರಿಕೆಯ ಮಧ್ಯೆ ಮತ್ತು ಶಾಸಕರು ಟ್ರಂಪ್ ಅವರ ತುರ್ತು ನಿಧಿಯ ವಿನಂತಿಯನ್ನು ಸಾಕಷ್ಟಿಲ್ಲ ಎಂದು ಕರೆದಿದ್ದರಿಂದ ಟ್ರಂಪ್ ಆಡಳಿತವು ಈ ವಾರದ ಆರಂಭದಲ್ಲಿ ಕರೋನವೈರಸ್ ಪ್ರತಿಕ್ರಿಯೆಗಾಗಿ ಕಾಂಗ್ರೆಸ್ನಿಂದ 5 ಬಿಲಿಯನ್ ಡಾಲರ್ ತುರ್ತು ಹಣವನ್ನು ಕೋರಿದೆ.,0\\nಇದರ ಇತ್ತೀಚಿನ ತಾಂತ್ರಿಕ ಮಾದರಿಯು 45 ಗುರಿಯನ್ನು ಸೂಚಿಸುತ್ತದೆ ಮತ್ತು ದೀರ್ಘ ಶ್ರೇಣಿಯು 40 ಡಬ್ಲ್ಯೂಟಿಐ ಡೈಲಿ ಚಾರ್ಟ್ ಗಿಂತಲೂ ಕಡಿಮೆ ಗುರಿಯನ್ನು ಸೂಚಿಸುತ್ತದೆ. ಜನವರಿ 23 ರಿಂದ 50 ರವರೆಗೆ 5 ಕ್ಕಿಂತ ಹೆಚ್ಚು ಇರುವ ವ್ಯಾಪ್ತಿಯು ತಾಂತ್ರಿಕ ಸರಪಳಿ ಕ್ರಿಯೆಯು ಅಂದಾಜು ಗುರಿಯನ್ನು ಆಯ್ಕೆಮಾಡುವ ತೊಂದರೆಯಲ್ಲಿ ಅದೇ ಅಂತರವನ್ನು ಪುನರಾವರ್ತಿಸುತ್ತದೆ ಎಂದು ಸೂಚಿಸುತ್ತದೆ 45 ಟ್ರೇಡ್ ಸ್ಟ್ರಾಟಜೀಸ್ ಕನ್ಸರ್ವೇಟಿವ್ ವ್ಯಾಪಾರಿಗಳು ಕಡಿಮೆ ಸ್ಥಾನಕ್ಕೆ ಬರುವ ಮೊದಲು 50 ಪ್ರತಿರೋಧವನ್ನು ಮರುಪರಿಶೀಲಿಸಲು ಕಾಯಬೇಕು ಆಕ್ರಮಣಕಾರಿ ವ್ಯಾಪಾರಿಗಳು ಅಳತೆಯ ನಿಲುಗಡೆ ನಷ್ಟದೊಂದಿಗೆ ವ್ಯತಿರಿಕ್ತ ವ್ಯಾಪಾರವನ್ನು ಪ್ರವೇಶಿಸಬಹುದು ಏಕೆಂದರೆ ಅದು ಕಡಿಮೆ ವಹಿವಾಟು ಮಾದರಿ ಆಕ್ರಮಣಕಾರಿ ಟ್ರೇಡ್ ಎಂಟ್ರಿ 48 ಸ್ಟಾಪ್ ಅನ್ನು ಮುಂದುವರಿಸುವ ಮೊದಲು ಬೆಲೆ ಹಿಂದಕ್ಕೆ ಎಳೆಯುವ ಸಾಧ್ಯತೆಯಿದೆ. ನಷ್ಟ 47 75 ರಿಸ್ಕ್ 0 25 ಫೆಬ್ರವರಿ 49 ರ ಕೆಳಗೆ ಟಾರ್ಗೆಟ್ 49 25 ಹಿಂದಿನ ಮಾದರಿಯಲ್ಲಿ ಕಡಿಮೆ ಕಡಿಮೆ ರಿವಾರ್ಡ್ 1 25 ರಿಸ್ಕ್ ರಿವಾರ್ಡ್ ಅನುಪಾತ 1 5,0\\n\"ಡೌ ಜೋನ್ಸ್ ಕೈಗಾರಿಕಾ ಸರಾಸರಿ YM00 0 94 ರ ಭವಿಷ್ಯವು 254 ಪಾಯಿಂಟ್\\u200cಗಳು ಅಥವಾ 1 ರಿಂದ 26660 ಕ್ಕೆ ತಲುಪಿದ್ದರೆ, ಎಸ್\\u200cಪಿ 500 ಇಎಸ್ 00 0 91 ಅವರು 28 70 ಪಾಯಿಂಟ್\\u200cಗಳು ಅಥವಾ 0 9 ಅನ್ನು 3081 ಕ್ಕೆ ವಹಿವಾಟು ನಡೆಸುತ್ತಾರೆ 50 ಓದಿ ಕರೋನವೈರಸ್ ಸರಬರಾಜು ಆಘಾತವನ್ನು ನೀಡುತ್ತದೆ ಕೇಂದ್ರ ಬ್ಯಾಂಕರ್\\u200cಗಳು ಸರಿಪಡಿಸಲು ಸಾಧ್ಯವಿಲ್ಲ ಬುಧವಾರ ಡೌ ಡಿಜೆಐಎ 0 46 ಮುಚ್ಚಿದ 123 77 ಪಾಯಿಂಟ್\\u200cಗಳು 0 5 ನಷ್ಟವನ್ನು 26957 59 ಕ್ಕೆ ಇಳಿಸಿದರೆ, ಎಸ್\\u200cಪಿ 500 11 82 ಪಾಯಿಂಟ್\\u200cಗಳು ಅಥವಾ 0 4 ಕ್ಕೆ ಇಳಿದು 3116 ಕ್ಕೆ ತಲುಪಿದೆ 39 ಸೂಚ್ಯಂಕ ಭವಿಷ್ಯಗಳು ಬುಧವಾರ ರಾತ್ರಿ ಸುದ್ದಿಯ ನಂತರ ಹೊಸ ಒತ್ತಡವನ್ನು ಕಂಡವು ಅಧ್ಯಕ್ಷ ಡೊನಾಲ್ಡ್ ಟ್ರಂಪ್ ಅವರ ಸಮ್ಮೇಳನವು ಹೂಡಿಕೆದಾರರಿಗೆ ಧೈರ್ಯ ತುಂಬುವಲ್ಲಿ ವಿಫಲವಾಗಿದೆ ಮತ್ತು ಕ್ಯಾಲಿಫೋರ್ನಿಯಾದಲ್ಲಿ ಪರಿಚಿತ ಮೂಲವಿಲ್ಲದ ಕೊರೊನಾವೈರಸ್ನ ಹೊಸ ಪ್ರಕರಣ ಪತ್ತೆಯಾಗಿದೆ ಎಂದು ಓಂಡಾದ ಹಿರಿಯ ಏಷ್ಯಾ ಪೆಸಿಫಿಕ್ ಮಾರುಕಟ್ಟೆ ವಿಶ್ಲೇಷಕ ಜೆಫ್ರಿ ಹ್ಯಾಲಿ ಬರೆದಿದ್ದಾರೆ. ಅದರ ಸಂಭಾವ್ಯ ಹರಡುವಿಕೆಯನ್ನು ನಿಯಂತ್ರಿಸುವಲ್ಲಿ ಸರ್ಕಾರದ ಪ್ರತಿಕ್ರಿಯೆ ಈಗಾಗಲೇ ಅಲುಗಾಡುತ್ತಿರುವ ಉತ್ತರ ಅಮೆರಿಕಾದ ಮಾರುಕಟ್ಟೆಯ ಗೋಲ್ಡ್ ಫ್ಯೂಚರ್ಸ್ GC00 0 48 ಗುಲಾಬಿ 0 5 ರಷ್ಟನ್ನು ಪ್ರೇರೇಪಿಸಲಿಲ್ಲ, ಆದರೆ ನಿಮಗಾಗಿ ಮುಂದುವರಿದ ರ್ಯಾಲಿಯು ಎಸ್ ಖಜಾನೆಗಳು ವೈ ಅನ್ನು ಕೆಳಕ್ಕೆ ತಳ್ಳಿತು 10 ವರ್ಷದ TMUBMUSD10Y 3 56 ದರವು 1 9 ಬೇಸಿಸ್ ಪಾಯಿಂಟ್\\u200cಗಳನ್ನು 1 292 ಕ್ಕೆ ಇಳಿಸಿ, ಅದು ಸಾರ್ವಕಾಲಿಕ ಕಡಿಮೆಯಾಗಿದೆ\",0\\n\"ಟಿಂಗ್\\u200cಶು ವಾಂಗ್ ರಾಯಿಟರ್ಸ್ ಚೀನಾದ ವಿದೇಶಿ ವ್ಯಾಪಾರವು ಸಣ್ಣ ಮತ್ತು ಮಧ್ಯಮ ಗಾತ್ರದ ಸಂಸ್ಥೆಗಳು ಅದರ ಪೂರೈಕೆ ಸರಪಳಿಗಳಲ್ಲಿ ಯುದ್ಧದ ಹಣಕಾಸಿನ ತೊಂದರೆಗಳನ್ನು ಎದುರಿಸುತ್ತಿದೆ, ವ್ಯಾಪಾರ ನಿರ್ಬಂಧಗಳ ನಡುವೆ ಕಚ್ಚಾ ವಸ್ತುಗಳ ಕೊರತೆ ಮತ್ತು ಕೊರೊನಾವೈರಸ್ ಏಕಾಏಕಿ ಪಾವತಿ ವಿಳಂಬವಾಗಿದೆ ಎಂದು ವಾಣಿಜ್ಯ ಸಚಿವಾಲಯವು ಫೆಬ್ರವರಿ 27 ರಂದು ತಿಳಿಸಿದೆ. ಏಕಾಏಕಿ ಏಕಾಏಕಿ ವಿದೇಶಿ ವ್ಯಾಪಾರದಲ್ಲಿ ತೊಡಗಿರುವ ಸುಮಾರು 7000 ಕಂಪೆನಿಗಳಲ್ಲಿ 90 ಪ್ರತಿಶತವು ಸಾಗಣೆ ಮತ್ತು ಪಾವತಿಗಳಲ್ಲಿ ವಿಳಂಬವನ್ನು ಎದುರಿಸಿದೆ ಎಂದು ಸಚಿವಾಲಯವು ಆನ್\\u200cಲೈನ್ ಬ್ರೀಫಿಂಗ್\\u200cನಲ್ಲಿ ಸುದ್ದಿಗಾರರಿಗೆ ತಿಳಿಸಿದೆ. ರದ್ದಾದ ಆದೇಶಗಳು ಮತ್ತು ಉತ್ಪನ್ನ ವಿತರಣೆ ಮತ್ತು ಪಾವತಿಗಳಲ್ಲಿನ ನಿರಾಕರಣೆಗಳ ಗಮನಾರ್ಹ ಅಪಾಯಗಳನ್ನು ಅನೇಕ ಕಂಪನಿಗಳು ಎದುರಿಸುತ್ತಿವೆ ಎಂದು ಸಚಿವಾಲಯದ ನಿರ್ದೇಶಕ ಲಿ ಕ್ಸಿಂಗ್\\u200cಕಿಯಾನ್ ಹೇಳಿದ್ದಾರೆ. ವಿದೇಶಿ ವ್ಯಾಪಾರ ಇಲಾಖೆಯು ಅವರಿಗೆ ತುರ್ತಾಗಿ ಅಗತ್ಯವಿರುವ ರಫ್ತು ಸಾಲ ವಿಮೆಯನ್ನು ಕೋರಿದೆ ಆದರೆ ಚೀನಾ ಸಚಿವಾಲಯದ ಅಧಿಕಾರಿಗಳಿಂದ ಸರಬರಾಜು ಅಥವಾ ಉತ್ಪಾದನಾ ಸರಪಳಿಗಳ ಪ್ರಮುಖ ಬದಲಾವಣೆಯಾಗಿಲ್ಲ, ಕೆಲವು ವಿದೇಶಿ ಕಂಪನಿಗಳು ಚೀನೀಯರ ದೀರ್ಘಾವಧಿಯ ಭವಿಷ್ಯದ ಮೇಲೆ ಬೆಟ್ಟಿಂಗ್ ಹೂಡಿಕೆ ಮಾಡುವುದನ್ನು ಮುಂದುವರಿಸುತ್ತಿವೆ ಎಂದು ಹೇಳಿದರು. ಮಾರುಕಟ್ಟೆ ಕರೋನವೈರಸ್ ಏಕಾಏಕಿ ಸಪ್ ಮೇಲೆ ಪರಿಣಾಮ ಲೈ ಮತ್ತು ಕೈಗಾರಿಕಾ ಸರಪಳಿಗಳನ್ನು ತಾತ್ಕಾಲಿಕವಾಗಿ ಸೇರಿಸಲಾಗಿದೆ ಸಚಿವಾಲಯದ ವಿದೇಶಿ ಹೂಡಿಕೆ ವಿಭಾಗದ ನಿರ್ದೇಶಕ\",0\\n\"ಇರಾನ್\\u200cನ ಸಂಸದೀಯ ಭದ್ರತೆ ಮತ್ತು ವಿದೇಶಾಂಗ ಸಂಬಂಧ ಆಯೋಗದ ಮುಖ್ಯಸ್ಥ ಮೊಜ್ತಾಬಾ on ೊನೂರ್ ಅವರು ಕರೋನವೈರಸ್\\u200cಗೆ ಧನಾತ್ಮಕ ಪರೀಕ್ಷೆ ಮಾಡಿದ್ದಾರೆ ಎಂದು ಹೇಳಿದ್ದಾರೆ. ಈ ಹಿಂದೆ ಮತ್ತೊಬ್ಬ ಶಾಸಕರಾದ ಮಹಮೂದ್ ಸಾಡೆಘಿ ತಮ್ಮ ಕರೋನಾ ಪರೀಕ್ಷೆ ಸಕಾರಾತ್ಮಕವಾಗಿದೆ ಎಂದು ಟ್ವಿಟರ್\\u200cನಲ್ಲಿ ಬರೆದಿದ್ದಾರೆ. ಇರಾನ್\\u200cನಲ್ಲಿ ಒಟ್ಟು ಕರೋನವೈರಸ್ ಪ್ರಕರಣಗಳು 139 ಕ್ಕೆ ತಲುಪಿದ್ದು, 19 ರಲ್ಲಿ ಇಲ್ಲಿಯವರೆಗೆ ವೈರಸ್\\u200cನಿಂದ ಸಾವುಗಳು COVID 19 ಎಂದು ಅಧಿಕೃತವಾಗಿ ಹೆಸರಿಸಲಾದ ಕೊರೊನಾವೈರಸ್ ಚೀನಾದ ನಗರವಾದ ವುಹಾನ್\\u200cನಲ್ಲಿ ಡಿಸೆಂಬರ್ ಅಂತ್ಯದಲ್ಲಿ ಹುಟ್ಟಿಕೊಂಡಿತು ಮತ್ತು ಇದುವರೆಗೆ 82200 ಕ್ಕೂ ಹೆಚ್ಚು ಜನರಿಗೆ ಸೋಂಕು ತಗುಲಿದ್ದು, ಇದರ ಪರಿಣಾಮವಾಗಿ 2800 ಕ್ಕೂ ಹೆಚ್ಚು ಜನರು ಸಾವನ್ನಪ್ಪಿದ್ದಾರೆ. ಈ ಕಾಯಿಲೆಗೆ ತುತ್ತಾದವರಲ್ಲಿ ಮೂರನೇ ಒಂದು ಭಾಗದಷ್ಟು ಜನರು ಕಳೆದ 24 ಗಂಟೆಗಳಲ್ಲಿ 2820 ಕ್ಕೂ ಹೆಚ್ಚು ಜನರನ್ನು ಒಳಗೊಂಡಂತೆ ಚೇತರಿಸಿಕೊಂಡಿದೆ\",0\\nಜೆರೆಮಿ ಕ್ಯಾಪ್ರಾನ್ ಇಂದು ಆಸ್ಪತ್ರೆಗಳಲ್ಲಿನ ಮುಖ್ಯ ರೊಬೊಟಿಕ್ಸ್ ಅಪ್ಲಿಕೇಶನ್ ಅಂತರ್ಬೋಧೆಯ ಸರ್ಜಿಕಲ್ ಗ್ಲೋಬಸ್ ಮೆಡಿಕಲ್ ಸೀಮೆನ್ಸ್ ಹೆಲ್ತ್\\u200cನೈರ್ಸ್ ಸ್ಟ್ರೈಕರ್ ಮೆಡ್\\u200cಟ್ರಾನಿಕ್ ಮತ್ತು ಜೆಜೆ ಯಿಂದ ಶಸ್ತ್ರಚಿಕಿತ್ಸೆಯ ರೋಬೋಟ್\\u200cಗಳಾಗಿ ಉಳಿದಿದೆ ಆದರೆ ಆಸ್ಪತ್ರೆಗಳಲ್ಲಿ ಅಭಿವೃದ್ಧಿ ಹೊಂದುತ್ತಿರುವ ಇತರ ರೊಬೊಟಿಕ್ಸ್ ಅಪ್ಲಿಕೇಶನ್\\u200cಗಳನ್ನು ನಾವು ನೋಡುತ್ತೇವೆ. ಸೌಲಭ್ಯಗಳು ನೀನಾ ಡೆಕಾ ಆಸ್ಪತ್ರೆಗಳು ಖಾಸಗಿ ಸ್ವಾಮ್ಯದ ಕ್ಸೆನೆಕ್ಸ್ ಸೋಂಕುಗಳೆತ ಸೇವೆಗಳಿಂದ ರೋಬೋಟ್ ಖರೀದಿಸಲು ತಮ್ಮ ವಿಪತ್ತು ಸಿದ್ಧತೆ ಬಜೆಟ್\\u200cನಲ್ಲಿ 3 ನಿಮಿಷಗಳಲ್ಲಿ ಸಾಂಕ್ರಾಮಿಕ ರೋಗಕಾರಕಗಳನ್ನು ಕೊಲ್ಲುತ್ತವೆ. ಜಿಎನ್ ಸಾಂಕ್ರಾಮಿಕ ರೋಗಗಳಿಗೆ ಸಂಬಂಧಿಸಿದಂತೆ ಆರೋಗ್ಯ ರಕ್ಷಣೆಯಲ್ಲಿ ರೋಬೋಟ್\\u200cಗಳ ದೃಷ್ಟಿಕೋನ ಏನು? ಜೆರೆಮಿ ಕ್ಯಾಪ್ರಾನ್ ಹೆಚ್ಚು ಸಾಮಾನ್ಯವಾಗಿ ಶಸ್ತ್ರಚಿಕಿತ್ಸೆಯಲ್ಲಿ ರೋಬೋಟ್\\u200cಗಳಿಗೆ ಶಕ್ತಿ ತುಂಬುವಿಕೆಯಿಂದ ಹಿಡಿದು ರೋಗನಿರ್ಣಯವನ್ನು ಓದುವ ವೈದ್ಯಕೀಯ ಚಿತ್ರಣವನ್ನು ವರ್ಚುವಲ್ ನರ್ಸಿಂಗ್ ಅಸಿಸ್ಟೆಂಟ್ಸ್ ation ಷಧಿ ನಿರ್ವಹಣೆ ಇತ್ಯಾದಿಗಳವರೆಗಿನ ಅಪ್ಲಿಕೇಶನ್\\u200cಗಳೊಂದಿಗೆ ಆರೋಗ್ಯ ರಕ್ಷಣೆಯಲ್ಲಿ AI ನಿಯೋಜನೆಯು ವಿಶೇಷವಾಗಿ ರೋಮಾಂಚನಕಾರಿಯಾಗಿದೆ.,1\\n\"REUTERS Yves Herman File PhotoMUMBAI ರಾಯಿಟರ್ಸ್ ಸ್ವೀಡನ್\\u200cನ ಐಕೆಇಎ ಅಲ್ಪಾವಧಿಯಲ್ಲಿ ಭಾರತದಲ್ಲಿ ಬೆಲೆಗಳನ್ನು ಹೆಚ್ಚಿಸಲು ಯೋಜಿಸುತ್ತಿಲ್ಲ, ಪೀಠೋಪಕರಣಗಳಂತಹ ಸರಕುಗಳ ಮೇಲೆ ಆಮದು ತೆರಿಗೆಯನ್ನು ಹೆಚ್ಚಿಸುವ ಭಾರತದ ಕ್ರಮವನ್ನು ಅನುಸರಿಸಿ ಕಂಪನಿಯ ಕಾರ್ಯನಿರ್ವಾಹಕ ಗುರುವಾರ ಐಕೆಇಎ ತಾನು ಮಾರಾಟ ಮಾಡುವ 75 ಸರಕುಗಳನ್ನು ಆಮದು ಮಾಡಿಕೊಳ್ಳುತ್ತದೆ ಭಾರತ ನಾವು ನಮ್ಮ ಬ್ರ್ಯಾಂಡ್ ಗ್ರಾಹಕರ ಕಡೆಗೆ ಬೆಲೆಗಳನ್ನು ಹೆಚ್ಚಿಸುವುದಿಲ್ಲ ಏಕೆಂದರೆ ನಾವು ಕೈಗೆಟುಕುವವರಾಗಿರುತ್ತೇವೆ ಎಂದು ನಾವು ಹೇಳುತ್ತೇವೆ ಐಕೆಇಎ ಭಾರತದ ವ್ಯವಸ್ಥಾಪಕ ನಿರ್ದೇಶಕ ಭಾರತದ ಆರ್ಥಿಕ ರಾಜಧಾನಿ ಮುಂಬೈ ಭಾರತದ ಸಮಾವೇಶದಲ್ಲಿ ಈ ತಿಂಗಳು ಎಲೆಕ್ಟ್ರಾನಿಕ್ ವಸ್ತುಗಳ ಆಟಿಕೆಗಳಂತಹ ಸರಕುಗಳ ಆಮದಿನ ಮೇಲೆ ಹೆಚ್ಚಿನ ತೆರಿಗೆ ವಿಧಿಸುವುದಾಗಿ ಘೋಷಿಸಿದರು. ಮತ್ತು ದೇಶೀಯ ಉತ್ಪಾದನೆಯನ್ನು ಹೆಚ್ಚಿಸುವ ಗುರಿಯನ್ನು ಹೊಂದಿರುವ ಪೀಠೋಪಕರಣಗಳು ಐಕೆಇಎ ಸುಂಕದ ಬಗ್ಗೆ ಭಾರತದೊಂದಿಗೆ ಮಾತುಕತೆ ನಡೆಸುತ್ತಿದೆ ಎಂದು ಬೆಟ್ಜೆಲ್ ಹೇಳಿದರು.\",0\\nಕೊ Z ುಮೆಲ್ ಎಎಫ್\\u200cಪಿ 6000 ಜನರನ್ನು ಹೊತ್ತೊಯ್ಯುವ ಕ್ರೂಸ್ ಹಡಗು ಜಮೈಕಾ ಮತ್ತು ಕೇಮನ್ ದ್ವೀಪಗಳಿಂದ ಹೊರಟುಹೋಯಿತು. ಸಿಬ್ಬಂದಿಯೊಬ್ಬರು ಜ್ವರಕ್ಕೆ ಧನಾತ್ಮಕ ಪರೀಕ್ಷೆ ನಡೆಸಿದ ನಂತರ ಮೆಕ್ಸಿಕೊದಲ್ಲಿ ಡಾಕ್ ಮಾಡಲಾಗಿದೆ ಎಂದು ಕಂಪನಿ ಹೇಳಿದೆ ಕೇಮನ್ ದ್ವೀಪಗಳು ಮತ್ತು ಜಮೈಕಾ ಹಡಗಿನ ಹಡಗನ್ನು ಹಡಗಿನಲ್ಲಿ ಸಾಗಿಸಲು ಅನುಮತಿಸಲು ನಿರಾಕರಿಸಿದೆ ಹೊಸ ಕರೋನವೈರಸ್ ವೈದ್ಯಕೀಯ ದಾಖಲೆಗಳನ್ನು ಒದಗಿಸಿದ್ದರೂ ಸಹ ಜಮೈಕಾದ ಅಧಿಕಾರಿಗಳು ಹಡಗು ತೆರವುಗೊಳಿಸುವ ನಿರ್ಧಾರವನ್ನು ವಿಳಂಬ ಮಾಡಿರುವುದು ಅತ್ಯಂತ ನಿರಾಶೆಯಾಗಿದೆ ಎಂದು ಇದು ಹೇಳಿದೆ. ಗ್ರ್ಯಾಂಡ್ ಕೇಮನ್ ಅಧಿಕಾರಿಗಳು ಸಹ ಹಡಗಿನ ವೈದ್ಯಕೀಯ ದಾಖಲೆಗಳನ್ನು ಪರಿಶೀಲಿಸದೆ ಹಡಗನ್ನು ತಿರುಗಿಸಿದ್ದಾರೆ ಎಂದು ಹೇಳಿದರು. ಎಂಎಸ್ಸಿ ಮೆರಾವಿಗ್ಲಿಯಾ ಅಥವಾ ಎಂಎಸ್ಸಿ ಕ್ರೂಸಸ್ ಫ್ಲೀಟ್ನಲ್ಲಿರುವ ಯಾವುದೇ ಹಡಗಿನಲ್ಲಿ COVID 19 ವೈರಸ್ ವರದಿಯಾಗಿದೆ,0\\n\"ಕನ್ಸರ್ವೇಟಿವ್ ಅಂಕಣಕಾರ ಮ್ಯಾಕ್ಸ್ ಬೂಟ್ ಅವರು ವಾಷಿಂಗ್ಟನ್ ಪೋಸ್ಟ್\\u200cಗಾಗಿ ತಮ್ಮ ಇತ್ತೀಚಿನ ಅಭಿಪ್ರಾಯದ ತುಣುಕಿನಲ್ಲಿ, ಕರೋನವೈರಸ್ ಏಕಾಏಕಿ ಟ್ರಂಪ್ ಶ್ವೇತಭವನದ ಕಾಯಿಲೆಗಳ ಕೆಟ್ಟ ಗುಣಲಕ್ಷಣಗಳನ್ನು ಯಾವುದೇ ಮಾನವ ಶತ್ರುಗಳು ನಿರ್ದಯವಾಗಿ ಬಹಿರಂಗಪಡಿಸುವ ಮತ್ತು ತಮ್ಮ ಬಲಿಪಶುಗಳ ದೌರ್ಬಲ್ಯಗಳನ್ನು ಬಹಿರಂಗಪಡಿಸುವದಕ್ಕಿಂತ ಹೆಚ್ಚಾಗಿ ಬಹಿರಂಗಪಡಿಸುತ್ತಿದ್ದಾರೆ ಎಂದು ವಾದಿಸಿದರು. ಡೊನಾಲ್ಡ್ ಟ್ರಂಪ್ ಅವರ 2016 ರ ಚುನಾವಣಾ ಗೆಲುವು ಮತ್ತು ಈಗಿನಿಂದಲೂ ಅವರನ್ನು ತೀವ್ರವಾಗಿ ಟೀಕಿಸುತ್ತಿದೆ, ಈಗ ಕರೋನವೈರಸ್ ಏಕಾಏಕಿ ಟ್ರಂಪ್ ಆಡಳಿತದ ರೋಗಶಾಸ್ತ್ರವನ್ನು ಬೇರ್ಪಡಿಸುತ್ತಿದೆ, ಇದರಲ್ಲಿ ಕಡ್ಡಾಯವಾಗಿ ಸುಳ್ಳು ಹೇಳುವುದು ಸರ್ವಾಧಿಕಾರಿಗಳಿಗೆ ಸೈದ್ಧಾಂತಿಕ ದ್ವೇಷವನ್ನು ಜಾಗತಿಕತೆಗೆ ವಿರೋಧಿಸುತ್ತದೆ ಮತ್ತು ತಜ್ಞರು ಮತ್ತು ಪರಿಣತಿಯ ಬಗೆಗಿನ ದ್ವೇಷ ಮತ್ತು ಸಂಬಂಧಿತ ಅಭಿವೃದ್ಧಿಯಲ್ಲಿ ಸಂಪೂರ್ಣ ಅಸಮರ್ಥತೆ ಬೂಟ್ ಸೇರಿಸಲಾಗಿದೆ ಮಾಜಿ ಅಧ್ಯಕ್ಷ ಬರಾಕ್ ಒಬಾಮಾ ಅವರ ಪರಂಪರೆಯನ್ನು ಹಿಮ್ಮೆಟ್ಟಿಸುವ ಟ್ರಂಪ್ ಅವರ ಪ್ರಯತ್ನಗಳು ಕರೋನವೈರಸ್ ಹರಡುವಿಕೆಯನ್ನು ಒಳಗೊಂಡಿರುವ ಸರ್ಕಾರದ ಸಾಮರ್ಥ್ಯಕ್ಕೆ ಹೇಗೆ ಹಾನಿಯಾಗಬಹುದು ಎಂದು ಅವ್ಯವಸ್ಥೆಯ ಅಧ್ಯಕ್ಷರು ಬಲಿಪಶುಗಳನ್ನು ಹುಡುಕಲು ಪ್ರಯತ್ನಿಸುತ್ತಾರೆ ಆದರೆ ಇದಕ್ಕೆ ಯಾರೂ ಕಾರಣವಲ್ಲ ಅಸ್ತವ್ಯಸ್ತವಾಗಿರುವ ಪ್ರತಿಕ್ರಿಯೆ ಸಿ ಅನ್ನು ಹೇಗೆ ಉಚ್ಚರಿಸಬೇಕೆಂದು ಅವನು ಕಂಡುಹಿಡಿಯಲು ಸಾಧ್ಯವಿಲ್ಲ ಒರೊನವೈರಸ್ ಅದನ್ನು ಹೇಗೆ ಹೋರಾಡಬೇಕು ಎಂಬುದು ಟ್ವಿಟ್ಟರ್ನಲ್ಲಿ ಟ್ರಂಪ್ ಅವರ ಪದದ ಕಾಗುಣಿತವನ್ನು ಉಲ್ಲೇಖಿಸಿ ಬೂಟ್ ಸೇರಿಸಲಾಗಿದೆ\",0\\nಕರೋನವೈರಸ್ ಏಕಾಏಕಿ ಸೋಫಿಯಾ ರಾಯಿಟರ್ಸ್ ಬಲ್ಗೇರಿಯಾದ ರಾಷ್ಟ್ರೀಯ ಪುರುಷರ ಬ್ಯಾಸ್ಕೆಟ್\\u200cಬಾಲ್ ತಂಡವು ಚೀನಾದ ಬೇಸಿಗೆ ಪ್ರವಾಸವನ್ನು ರದ್ದುಗೊಳಿಸಿದೆ ಎಂದು ಅವರ ತರಬೇತುದಾರ ಗುರುವಾರ ಹೇಳಿದ್ದಾರೆ. ನಾವು ಚೀನಾದಲ್ಲಿ ಆರು ಮತ್ತು ಒಂಬತ್ತು ಪಂದ್ಯಗಳ ನಡುವೆ ಪ್ರಬಲ ಕ್ಲಬ್\\u200cಗಳ ವಿರುದ್ಧ ಆಡಬೇಕಾಗಿತ್ತು ಮತ್ತು ಎಸ್ಟೋನಿಯಾ ಸೇರಿದಂತೆ ರಾಷ್ಟ್ರೀಯ ತಂಡಗಳಿಗೆ ಭೇಟಿ ನೀಡಿದ್ದೇವೆ ಮತ್ತು ಅದು ಅದ್ಭುತವಾಗಿದೆ ಅಂತಹ ಪ್ರವಾಸಕ್ಕೆ ಹೋಗಲು ರೋಸೆನ್ ಬಾರ್ಚೊವ್ಸ್ಕಿ ಸ್ಥಳೀಯ ಮಾಧ್ಯಮಗಳಿಗೆ ಹೇಳಿದರು ಆದರೆ ಕರೋನವೈರಸ್ ಕಾರಣದಿಂದಾಗಿ ನಾವು ಅದನ್ನು ರದ್ದುಗೊಳಿಸಬೇಕಾಗಿದೆ ಮತ್ತು ನಾವು ಇನ್ನೊಂದು ಆಯ್ಕೆಯನ್ನು ಹುಡುಕುತ್ತೇವೆ ಚೀನಾದಲ್ಲಿ ಮೊದಲು ಹೊರಹೊಮ್ಮಿದ ಕರೋನವೈರಸ್ 80000 ಕ್ಕೂ ಹೆಚ್ಚು ಜನರಿಗೆ ಸೋಂಕು ತಗುಲಿ ಸುಮಾರು 2800 ಜನರನ್ನು ಕೊಂದಿದೆ,0\\n\"ಯುಕೆಯಲ್ಲಿ ಇನ್ನೂ ಎರಡು ಕರೋನವೈರಸ್ ಪ್ರಕರಣಗಳು ದೃ been ಪಟ್ಟಿದೆ, ಅಂದರೆ ದೇಶದಲ್ಲಿ ಒಟ್ಟು 15 ಜನರು ವೈರಸ್\\u200cಗೆ ಧನಾತ್ಮಕ ಪರೀಕ್ಷೆ ಮಾಡಿದ್ದಾರೆ ಎಂದು ಇಂಗ್ಲೆಂಡ್\\u200cನ ಮುಖ್ಯ ವೈದ್ಯಕೀಯ ಅಧಿಕಾರಿ ಪ್ರೊಫೆಸರ್ ಕ್ರಿಸ್ ವಿಟ್ಟಿ ಹೇಳಿದ್ದಾರೆ. ಇಂಗ್ಲೆಂಡ್\\u200cನಲ್ಲಿ ಇನ್ನೂ ಇಬ್ಬರು ರೋಗಿಗಳು COVID 19 ಗೆ ಧನಾತ್ಮಕ ಪರೀಕ್ಷೆ ಮಾಡಿದ್ದಾರೆ. ಯುಕೆ ಪ್ರಕರಣಗಳಲ್ಲಿ 15 ಕ್ಕೆ ದೃ confirmed ಪಡಿಸಿದ ಪ್ರಕರಣಗಳ ಸಂಖ್ಯೆಯೊಂದಿಗೆ, ವೈರಸ್ ಹರಡುವಿಕೆಗೆ ಯುಕೆ ಎಷ್ಟು ಸಿದ್ಧವಾಗಿದೆ ಎಂಬುದರ ಬಗ್ಗೆ ನಮಗೆ ತಿಳಿದಿದೆ ಮತ್ತು ನಾವು ಎಷ್ಟು ಆತಂಕಕ್ಕೊಳಗಾಗಬೇಕು ಎಂಬುದರ ಬಗ್ಗೆ ತಜ್ಞರು ಏನು ಹೇಳಿದ್ದಾರೆ ಎಂದು ಯುಕೆ ಮುಖ್ಯ ವೈದ್ಯಕೀಯ ಅಧಿಕಾರಿಗಳು ಅಪಾಯವನ್ನು ಹೆಚ್ಚಿಸಿದ್ದಾರೆ ಕೊರೊನಾವೈರಸ್ ಅನ್ನು ಸಾರ್ವಜನಿಕರಿಗೆ ಮಧ್ಯಮ ಮಟ್ಟಕ್ಕೆ ಆದಾಗ್ಯೂ ಅವರು ಎಲ್ಲಾ ಸಂಭವನೀಯತೆಗಳಿಗೆ ಯೋಜನೆ ರೂಪಿಸಬೇಕು ಮತ್ತು ವ್ಯಕ್ತಿಗಳಿಗೆ ಅಪಾಯವು ಕಡಿಮೆ ಇದೆ ಎಂದು ಅವರು ಒತ್ತಿಹೇಳುತ್ತಾರೆ ಏತನ್ಮಧ್ಯೆ ಅಧ್ಯಕ್ಷ ಟ್ರಂಪ್ ಕರೋನವೈರಸ್ ಬೆದರಿಕೆಯನ್ನು ಕಡಿಮೆ ಮಾಡಿದ್ದಾರೆ ಮತ್ತು ಏಕಾಏಕಿ ನಿಭಾಯಿಸಲು ದೇಶವು ತುಂಬಾ ಸಿದ್ಧವಾಗಿದೆ ಎಂದು ಒತ್ತಾಯಿಸಿದ್ದಾರೆ\",1\\n\"ಈ ವ್ಯಕ್ತಿ ತನ್ನ ತಾಯ್ನಾಡಿನ ಇರಾನ್\\u200cನಿಂದ ಕೇವಲ 1 ಮಿಲಿಯನ್ ಜನರ ಬಾಲ್ಟಿಕ್ ರಾಷ್ಟ್ರಕ್ಕೆ ಮರಳಿದ ಒಂದು ದಿನದ ನಂತರ ಗುರುವಾರ ಎಸ್ಟೋನಿಯಾ ತನ್ನ ಮೊದಲ ಸಿಒವಿಐಡಿ 19 ಪ್ರಕರಣವನ್ನು ವರದಿ ಮಾಡಿದೆ. ನಾಗರಿಕನಲ್ಲದ ಎಸ್ಟೋನಿಯಾದ ಖಾಯಂ ನಿವಾಸಿ ಬುಧವಾರ ಸಂಜೆ ಎಸ್ಟೋನಿಯಾಗೆ ಆಗಮಿಸಿದ ಸಾಮಾಜಿಕ ವ್ಯವಹಾರಗಳ ಸಚಿವ ತಾನೆಲ್ ಕಿಕ್ ಸಾರ್ವಜನಿಕ ಪ್ರಸಾರ ಇಆರ್ಆರ್ಗೆ ರೋಗಿಯನ್ನು ಪ್ರತ್ಯೇಕಿಸಲಾಗಿದೆ ರೋಗ ಹರಡುವ ಅಪಾಯವಿಲ್ಲ ಈಗ ರೋಗಿಯನ್ನು ಇರಾನ್ ಸಂಪರ್ಕದಲ್ಲಿದ್ದ ಎಲ್ಲ ಜನರನ್ನು ನಾವು ಗುರುತಿಸಬೇಕಾಗಿದೆ ಒಟ್ಟು 19 ಸಾವುಗಳು ಮತ್ತು ದೇಶದ ಉಪ ಸೇರಿದಂತೆ 130 ಕ್ಕೂ ಹೆಚ್ಚು ಸೋಂಕುಗಳು ಆರೋಗ್ಯ ಸಚಿವ ಇರಾನ್\\u200cನ ಕರೋನವೈರಸ್ ಸಾವಿನ ಸಂಖ್ಯೆ ಚೀನಾದ ನಂತರ ಅತಿ ಹೆಚ್ಚು, ಈ ರೋಗದಿಂದ 2700 ಕ್ಕೂ ಹೆಚ್ಚು ಜನರು ಸಾವನ್ನಪ್ಪಿದ್ದಾರೆ\",0\\nಈ ಫೋಟೋ ಗ್ಯಾಲರಿಯು ಮಧ್ಯಪ್ರಾಚ್ಯ ಅಫ್ಘಾನಿಸ್ತಾನ ಪಾಕಿಸ್ತಾನ ಪ್ರದೇಶದ ಅಸೋಸಿಯೇಟೆಡ್ ಪ್ರೆಸ್ ographer ಾಯಾಗ್ರಾಹಕರು ತಯಾರಿಸಿದ ಅಥವಾ ಪ್ರಕಟಿಸಿದ ಕೆಲವು ಬಲವಾದ ಚಿತ್ರಗಳನ್ನು ಎತ್ತಿ ತೋರಿಸುತ್ತದೆ ಫೆಬ್ರವರಿ 20 26 2020 ಗ್ಯಾಲರಿಯನ್ನು ಎಪಿ ಮಿಡಲ್ ಈಸ್ಟ್ ಡೆಪ್ಯೂಟಿ ನ್ಯೂಸ್ ಡೈರೆಕ್ಟರ್ ಫಾರ್ ಫೋಟೋಗ್ರಫಿ ಡುಸಾನ್ ವ್ರಾನಿಕ್ ಮತ್ತು ographer ಾಯಾಗ್ರಾಹಕ ಓಡೆಡ್ ಬಾಲಿಟಿ ಅನುಸರಿಸಿ ಎಪಿ ದೃಶ್ಯ ಪತ್ರಿಕೋದ್ಯಮ ಇನ್ಸ್ಟಾಗ್ರಾಮ್ ಎಪಿ ಚಿತ್ರಗಳು ಟ್ವಿಟರ್ ಎಪಿ ಚಿತ್ರಗಳು ಬ್ಲಾಗ್ನಲ್ಲಿ,0\\nಫೆಬ್ರವರಿ 27 ರಾಯಿಟರ್ಸ್ ಬೆಸ್ಟ್ ಬೈ ಕೋ ಇಂಕ್ ಗುರುವಾರ ತ್ರೈಮಾಸಿಕ ಅದೇ ಅಂಗಡಿ ಮಾರಾಟದ ಅಂದಾಜುಗಳನ್ನು ಬಲವಾದ ಆನ್\\u200cಲೈನ್ ಮತ್ತು ಅಪ್ಲಿಕೇಶನ್ ಮಾರಾಟದಲ್ಲಿ ಇಟ್ಟಿಗೆ ಮತ್ತು ಗಾರೆ ಚಿಲ್ಲರೆ ವ್ಯಾಪಾರಿಗಳಿಗೆ ಹೆಚ್ಚಾಗಿ ನಿರಾಶಾದಾಯಕ ರಜಾದಿನವನ್ನು ಮೀರಿದೆ. ವರ್ಷದ ಮತ್ತು ಮುನ್ಸೂಚನೆಯ ಹಣಕಾಸು 2021 ವಾಲ್ ಸ್ಟ್ರೀಟ್\\u200cನ 1% ಹೆಚ್ಚಳದ ನಿರೀಕ್ಷೆಯೊಂದಿಗೆ ಹೋಲಿಸಿದರೆ ಫ್ಲಾಟ್\\u200cನ ಅದೇ ಅಂಗಡಿ ಮಾರಾಟದ ಬೆಳವಣಿಗೆ 2 ಕ್ಕೆ ಏರಿಕೆಯಾಗಿದೆ ಬೆಸ್ಟ್ ಬೈನ ಒಟ್ಟಾರೆ ಅದೇ ಅಂಗಡಿ ಮಾರಾಟವು ಫೆಬ್ರವರಿ 2 ಕ್ಕೆ ಕೊನೆಗೊಂಡ ನಾಲ್ಕನೇ ತ್ರೈಮಾಸಿಕದಲ್ಲಿ 3% ಏರಿಕೆಯಾಗಿದೆ. ರಿಫಿನಿಟಿವ್\\u200cನಿಂದ ಐಬಿಇಎಸ್ ಡೇಟಾದ ಪ್ರಕಾರ 9 ಹೆಚ್ಚಳ,1\\nಈ ವಾರದ ಆಯ್ಕೆಯು ಈಜಿಪ್ಟ್\\u200cನ ಉಚ್ ed ಾಟಿತ ನಿರಂಕುಶಾಧಿಕಾರಿ ಅಧ್ಯಕ್ಷ ಹೊಸ್ನಿ ಮುಬಾರಕ್ ಅವರ ಅಂತ್ಯಕ್ರಿಯೆಯನ್ನು ಸಿರಿಯಾದಲ್ಲಿ ಕರೋನವೈರಸ್ ಹರಡಿತು ಮತ್ತು ಇರಾನ್\\u200cನಲ್ಲಿ ನಡೆದ ಚುನಾವಣೆಗಳು ಬಾಗ್ದಾದ್ ಪ್ಯಾಲೆಸ್ಟೀನಿಯಾದ ಪಶ್ಚಿಮ ಬ್ಯಾಂಕ್ ಯಹೂದಿ ವಸಾಹತುಗಳ ವಿರುದ್ಧ ಪ್ರತಿಭಟಿಸುತ್ತಾ ಗಾಜಾದ ದೈನಂದಿನ ಜೀವನದಲ್ಲಿ ಇಸ್ರೇಲ್ ತೊರೆದ ಪ್ರವಾಸಿಗರು ಮತ್ತು ಇಸ್ರೇಲಿ ಚುನಾವಣಾ ಪ್ರಚಾರದ ಜಾಹೀರಾತು ಫಲಕ ಎ ನ್ಯೂ ಕೈರೋ ಈಜಿಪ್ಟ್\\u200cನಲ್ಲಿ ಅವರ ಅಂತ್ಯಕ್ರಿಯೆಗೆ ಮುನ್ನ ಮಸೀದಿಯ ಗೇಟ್ ಹೊರಗೆ ಅಳುತ್ತಿರುವಾಗ ಈಜಿಪ್ಟ್\\u200cನ ಉಚ್ ed ಾಟಿತ ನಿರಂಕುಶಾಧಿಕಾರಿ ಅಧ್ಯಕ್ಷ ಹೊಸ್ನಿ ಮುಬಾರಕ್ ಅವರ ಫೋಟೋವನ್ನು ಬೆಂಬಲಿಗರು ಹೊಂದಿದ್ದಾರೆ. ಬುಧವಾರ ಫೆಬ್ರವರಿ 26 2020 ಎಪಿ ಫೋಟೋ ಮಾಯಾ ಅಲ್ಲೆರು zz ೊ ಇಸ್ರೇಲಿ ಸೈನಿಕರು ಯಹೂದಿ ವಸಾಹತು ಬಳಿ ಪ್ಯಾಲೇಸ್ಟಿನಿಯನ್ ಪ್ರದರ್ಶನಕಾರರ ಮೇಲೆ ಪೆಪ್ಪರ್ ಸ್ಪ್ರೇ ಬಳಸುತ್ತಾರೆ ಶುಕ್ರವಾರ ಫೆಬ್ರವರಿ 21 2020 ರಂದು ವೆಸ್ಟ್ ಬ್ಯಾಂಕ್ ನಗರ ನಬ್ಲಸ್ ಬಳಿ ಯಿತ್ har ಾರ್ ಎಪಿ ಫೋಟೋ ಇಬ್ರಾಹಿಂ ನೊರೂಜಿ ಮತದಾರರು ಟೆಹ್ರಾನ್ ಇರಾನ್\\u200cನ ಮತದಾನ ಕೇಂದ್ರವೊಂದರಲ್ಲಿ ಸಂಸತ್ ಚುನಾವಣೆಯ ಸಂದರ್ಭದಲ್ಲಿ ಸೆಲ್ಫಿಗೆ ಪೋಸ್ ನೀಡಿದ್ದಾರೆ ಶುಕ್ರವಾರ ಫೆಬ್ರವರಿ 21 2020 ಎಪಿ ಫೋಟೋ ಇಬ್ರಾಹಿಂ ನೊರೂಜಿ ಪದಚ್ಯುತ ಅಧ್ಯಕ್ಷ ಹೊಸ್ನಿ ಮುಬಾರಕ್ ಅವರ ಬೆಂಬಲಿಗರು ಸ್ಮಶಾನದ ಬಳಿ ಅವರ photograph ಾಯಾಚಿತ್ರವನ್ನು ಸಮಾಧಿ ಮಾಡಲಾಗುವುದು ಕೈರೋ ಈಜಿಪ್ಟ್\\u200cನ ಹೆಲಿಯೊಪೊಲಿಸ್ ನೆರೆಹೊರೆ ಬುಧವಾರ ಫೆಬ್ರವರಿ 26 2020,1\\n\"ಕೊರೊನಾವೈರಸ್ ಕಾರಣದಿಂದಾಗಿ ಸ್ವಯಂ ಪ್ರತ್ಯೇಕಿಸಲು ಕೇಳಲಾಗುವ ಸಿಬ್ಬಂದಿಗಳು ಅನಾರೋಗ್ಯ ರಜೆ ತೆಗೆದುಕೊಳ್ಳಲು ಅರ್ಹರಾಗಿದ್ದಾರೆ ಎಂದು ಸರ್ಕಾರ ಹೇಳಿದೆ, ಯಾರಾದರೂ ಕೊರೊನಾವೈರಸ್ ಹೊಂದಿದ್ದರೆ ಕೆಲಸದ ಸ್ಥಳದ ಸಾಮಾನ್ಯ ಅನಾರೋಗ್ಯ ವೇತನ ನೀತಿಗಳು ಅನ್ವಯಿಸುತ್ತವೆ ಆದರೆ ಯಾರಾದರೂ ಕೆಲಸಕ್ಕೆ ಬರಬಾರದೆಂದು ಹೇಳಿದರೆ ಅವರು ಹಿಂದಿರುಗಿದ್ದರೆ ಚೀನಾದಿಂದ ಅವರು ತಮ್ಮ ಸಾಮಾನ್ಯ ವೇತನವನ್ನು ಪಡೆಯಬೇಕು ಎಂದು ಶಿಫಾರಸು ಮಾಡಲಾಗಿದೆ ಅಕಾಸ್ ಮುಖ್ಯ ಕಾರ್ಯನಿರ್ವಾಹಕ ಸುಸಾನ್ ಕ್ಲೆವ್ಸ್ ಅವರು ನಮ್ಮ ಹೊಸ ಸಲಹೆಯು ಕೆಲಸದಲ್ಲಿ ಕರೋನವೈರಸ್ನ ಪರಿಣಾಮವನ್ನು ನಿಭಾಯಿಸಲು ಸಹಾಯ ಮಾಡುವ ಉದ್ದೇಶವನ್ನು ಹೊಂದಿದೆ ಎಂದು ಸಾರಿಗೆ ಕಾರ್ಯದರ್ಶಿ ಗ್ರಾಂಟ್ ಶಾಪ್ಸ್ ಅವರಿಗೆ ಬರೆದ ಪತ್ರದಲ್ಲಿ ಆರ್ಎಂಟಿ ಪ್ರಧಾನ ಕಾರ್ಯದರ್ಶಿ ಮಿಕ್ ಕ್ಯಾಶ್ ಸೇರಿಸಲಾಗಿದೆ ಇದು ಸ್ಪಷ್ಟವಾಗಿದೆ ಮತ್ತು ನಮ್ಮ ಸದಸ್ಯರು ತಮ್ಮಷ್ಟಕ್ಕೇ ಆರೋಗ್ಯ ಮತ್ತು ಯೋಗಕ್ಷೇಮವನ್ನು ನಿಭಾಯಿಸುತ್ತಿದ್ದಾರೆ ಆದರೆ ಪ್ರಯಾಣಿಕ ಸಾರ್ವಜನಿಕ ಉದ್ಯೋಗದಾತರು ಸಿಬ್ಬಂದಿಗಳು ಆರೋಗ್ಯ ಸಲಹೆಯನ್ನು ತೆಗೆದುಕೊಳ್ಳಲು ಸಮರ್ಥರಾಗಿದ್ದಾರೆ ಎಂದು ಖಚಿತಪಡಿಸಿಕೊಳ್ಳಲು ಕಾಳಜಿಯ ಕರ್ತವ್ಯವನ್ನು ಹೊಂದಿದ್ದಾರೆ ಎಂದು ತುರ್ತು ವಿಷಯವಾಗಿ ಸಾರಿಗೆ ಇಲಾಖೆಯಿಂದ ಸ್ಥಿರವಾದ ಸಲಹೆಯನ್ನು ನೀಡಲಾಗುತ್ತದೆ.\",0\\n\"ಟೂರ್ ಬಸ್ ಗೈಡ್ ಆಗಿ ಕೆಲಸ ಮಾಡುತ್ತಿರುವ ಮಹಿಳೆಯೊಬ್ಬರು ಎರಡನೇ ಬಾರಿಗೆ ಕರೋನವೈರಸ್ಗೆ ಧನಾತ್ಮಕ ಪರೀಕ್ಷೆ ನಡೆಸಿದ ನಂತರ ಈ ಸುದ್ದಿ ಬಂದಿದೆ. ಬುಧವಾರ ಅವರು ಒಸಾಕಾದಲ್ಲಿ ಎರಡನೇ ಬಾರಿಗೆ ಕರೋನವೈರಸ್ಗೆ ಧನಾತ್ಮಕ ಪರೀಕ್ಷೆ ನಡೆಸಿದರು, ಡೈಮಂಡ್ ಪ್ರಿನ್ಸೆಸ್ ಕ್ರೂಸ್ ಹಡಗಿನಲ್ಲಿ ಸುಮಾರು 700 ಜನರಿಗೆ ವೈರಸ್ ಇರುವುದು ಪತ್ತೆಯಾಗಿದೆ ಎಂದು ಹೇಳಿದರು, ಇದನ್ನು ಜಪಾನ್\\u200cನಿಂದ ನಿರ್ಬಂಧಿಸಲಾಗಿದೆ. [45 45] ಈಗ ರೋಗಲಕ್ಷಣಗಳನ್ನು ತೋರಿಸಲಾಗುತ್ತಿದೆ ಎಡಿನ್ಬರ್ಗ್ ವಿಶ್ವವಿದ್ಯಾಲಯದ ಪಶುವೈದ್ಯಕೀಯ ಸಾಂಕ್ರಾಮಿಕ ರೋಗಶಾಸ್ತ್ರ ಮತ್ತು ದತ್ತಾಂಶ ವಿಜ್ಞಾನದ ಪ್ರಾಧ್ಯಾಪಕ ಪ್ರೊ. ರೋಲ್ಯಾಂಡ್ ಕಾವೊ ಅವರು ತಪ್ಪಾಗಿ ರೋಗನಿರ್ಣಯ ಮಾಡುವ ಸಾಧ್ಯತೆ ಇದೆ ಎಂದು uming ಹಿಸಿದರೆ ಪ್ರಕಟವಾದ ವರದಿಗಳಿಂದ ಇದು ಇನ್ನೂ ಸ್ಪಷ್ಟವಾಗಿಲ್ಲ. ಭಾಗಶಃ ತೆರವುಗೊಳಿಸಿರಬಹುದು ಅಥವಾ ಬಹುಶಃ ಸುಪ್ತವಾಗಬಹುದು ಸೋಂಕು ಆದರೆ ಪ್ರೊಫೆಸರ್ ಪಾಲ್ ಹಂಟೆ ಈಸ್ಟ್ ಆಂಗ್ಲಿಯಾ ಮೆಡಿಸಿನ್ ವಿಶ್ವವಿದ್ಯಾಲಯದ ಪ್ರಾಧ್ಯಾಪಕ ಯುಇಎ ಹೆಚ್ಚಿನ ಮಾಹಿತಿ ಲಭ್ಯವಾಗುವವರೆಗೆ ಯಾವುದೇ ಆತುರದ ನಿರ್ಧಾರಗಳನ್ನು ತೆಗೆದುಕೊಳ್ಳದಂತೆ ಎಚ್ಚರಿಕೆ ನೀಡಿದೆ\",0\\n\"ಕರೋನವೈರಸ್ ಸಾವಿನ ಸಂಖ್ಯೆ 3000 ದಕ್ಷಿಣ ಕೊರಿಯಾವನ್ನು ಸಮೀಪಿಸುತ್ತಿರುವುದರಿಂದ ಮೈಕ್ರೋಸಾಫ್ಟ್ ನಂತಹ ಆರ್ಥಿಕ ಎಚ್ಚರಿಕೆಗಳು ಮತ್ತು ಆಸ್ಟ್ರೇಲಿಯಾದಲ್ಲಿ ತುರ್ತು ಪ್ರತಿಕ್ರಿಯೆ ಯೋಜನೆಯನ್ನು ಪ್ರಾರಂಭಿಸುವುದರಿಂದ ಗುರುವಾರ ಬೆಳಿಗ್ಗೆ ಒಂದು ಸೌಕರ್ಯವನ್ನು ಸಹ ಕಂಡುಹಿಡಿಯುವುದು ಕಷ್ಟಕರವಾಗಿತ್ತು ಮೈಕ್ ಪೆನ್ಸ್ ಅವರ ನೀತಿಗಳು ಇಂಡಿಯಾನಾದ ಕೆಟ್ಟ ಎಚ್\\u200cಐವಿ ಏಕಾಏಕಿ ಬಿಕ್ಕಟ್ಟಿನ ಉತ್ತುಂಗಕ್ಕೆ ಕಾರಣವಾಗಲು ಸಹಾಯ ಮಾಡಿತು ಆದರೆ 2014 ರಲ್ಲಿ 15 ಅನ್ನು ಕರೋನವೈರಸ್\\u200cಗೆ ಯುಎಸ್ ಪ್ರತಿಕ್ರಿಯೆಯ ಉಸ್ತುವಾರಿ ವಹಿಸಲಾಗಿದೆ ಎಂಬುದು ಹೂಡಿಕೆದಾರರಿಗೆ ಒಂದು ಪ್ರಮುಖ ಅಂಶವಾಗಿದೆ ಎಂಬುದು ಬುಧವಾರ ಅಧ್ಯಕ್ಷರ ಅನುಮಾನಾಸ್ಪದ ಆಯ್ಕೆಯಾಗಿದೆ ಅಮೆರಿಕದ ಪ್ರಕರಣಗಳ ಉಲ್ಬಣವು ದೇಶವನ್ನು ಆರ್ಥಿಕ ಹಿಂಜರಿತಕ್ಕೆ ಒತ್ತಾಯಿಸುತ್ತದೆ ಎಂದು ಮಾಜಿ ಫೆಡ್ ಕುರ್ಚಿ ಜಾನೆಟ್ ಯೆಲೆನ್ spec ಹಿಸಿದಾಗಿನಿಂದ, ಮಾರುಕಟ್ಟೆಯ ಇಚ್ for ೆಯ ವಿಷಯದಲ್ಲಿ ರಾತ್ರಿಯು ತುಂಬಾ ಅಸಹ್ಯಕರವಾಗಿದೆ.\",0\\n\"ಕೌಲಾಲಂಪುರ್ ರಾಯಿಟರ್ಸ್ ಮಲೇಷ್ಯಾ ಸಂಸತ್ತು ಸೋಮವಾರ ಪ್ರಧಾನ ಮಂತ್ರಿಯ ಹೊಸ ಅಭ್ಯರ್ಥಿಯ ಮೇಲೆ ಮತ ಚಲಾಯಿಸಲಿದೆ ಮತ್ತು ಯಾರೂ ಬಹುಮತದ ಬೆಂಬಲವನ್ನು ಗೆಲ್ಲಲು ಸಾಧ್ಯವಾಗದಿದ್ದರೆ ಶೀಘ್ರ ಚುನಾವಣೆ ನಡೆಯಲಿದೆ ಎಂದು ಮಧ್ಯಂತರ ಪ್ರಧಾನಿ ಮಹಾತಿರ್ ಮೊಹಮದ್ ಗುರುವಾರ ಮಲೇಷ್ಯಾದ ಮಧ್ಯಂತರ ಪ್ರಧಾನಿ ಮಹಾತಿರ್ ಮೊಹಮದ್ ಸುದ್ದಿಗೋಷ್ಠಿಯಲ್ಲಿ ಮಾತನಾಡಿದರು ಪುತ್ರಜಯ ಮಲೇಷ್ಯಾದಲ್ಲಿ ಫೆಬ್ರವರಿ 27 2020 ಮಹಾತಿರ್ ಅವರು ಪ್ರಧಾನ ಮಂತ್ರಿಯಾಗಲು ಯಾವುದೇ ಅಭ್ಯರ್ಥಿಯು ಸಾಕಷ್ಟು ಬೆಂಬಲವನ್ನು ನೀಡಿಲ್ಲ ಎಂದು ರಾಜ ಹೇಳಿದ ನಂತರ ಪ್ರಧಾನ ಮಂತ್ರಿಯ ಆಯ್ಕೆ ಸಂಸತ್ತಿಗೆ ಹೋಗುತ್ತದೆ ಎಂದು ಹೇಳಿದರು ಮಹಾತಿರ್ ಅವರ ರಾಜೀನಾಮೆ ಅನ್ವರ್ ಅವರೊಂದಿಗಿನ ಒಕ್ಕೂಟವನ್ನು ಮುರಿದು ಎರಡು ವರ್ಷಗಳ ಕಾಲ ಅಚ್ಚರಿಯ ಚುನಾವಣಾ ಗೆಲುವು ಸಾಧಿಸಿತು ಹಿಂದೆ 1981 ರಿಂದ ಮಲೇಷ್ಯಾವನ್ನು ಆಳಿದ ನಾಯಕನನ್ನು ಅಧಿಕಾರಕ್ಕೆ ತಂದುಕೊಟ್ಟರು, ಅವರು ಒಂದು ದಿನ ಅನ್ವರ್\\u200cಗೆ ಹಸ್ತಾಂತರಿಸುವುದಾಗಿ ಭರವಸೆ ನೀಡಿದರು REUTERS ಲಿಮ್ ಹ್ಯೂಯಿ ತೆಂಗ್ಅನ್ವಾರ್ ಮಹಾತಿರ್ ಅವರ ಉಪ ಮತ್ತು ಮಹಾತಿರ್ ಮೊದಲ ಬಾರಿಗೆ ಪ್ರಧಾನಿಯಾಗಿದ್ದಾಗ ಉದಯೋನ್ಮುಖ ರಾಜಕೀಯ ತಾರೆ ಆದರೆ ಅವರು ಹೊರನಡೆದರು\",1\\n\"ಮಾರಾಟವು ಕುಸಿಯುತ್ತಿದ್ದಂತೆ 2019 ರಲ್ಲಿ ಆಯ್ಸ್ಟನ್ ಮಾರ್ಟಿನ್ ನಷ್ಟವು ವಿಸ್ತರಿಸಿತು ಮತ್ತು ಫ್ಯಾಶನ್ ಮೊಗಲ್ ಲಾರೆನ್ಸ್ ಸ್ಟ್ರೋಲ್ ನೇತೃತ್ವದ ಬೇಲ್ out ಟ್ಗಾಗಿ ಹೆಣಗಾಡುತ್ತಿರುವ ಕಾರು ತಯಾರಕರ ಅಗತ್ಯವನ್ನು ಒತ್ತಿಹೇಳುವ ಕೊರೊನಾವೈರಸ್ ಏಕಾಏಕಿ ಸಂಭವನೀಯ ಅಡ್ಡಿ ಉಂಟಾಗುತ್ತದೆ ಎಂದು ಎಚ್ಚರಿಸಿದೆ. ವಿತರಕರು ಹೊಂದಿರುವ ಕಾರುಗಳ ಸಂಖ್ಯೆ ಮತ್ತು ಕೋವಿಡ್ 19 ಏಕಾಏಕಿ ಅದರ ಪೂರೈಕೆ ಸರಪಳಿ ಮತ್ತು ಮಾರಾಟವನ್ನು ಹೊಡೆಯಬಹುದು ಎಂದು ಎಚ್ಚರಿಸಿದೆ. 2019 ರಲ್ಲಿ ಆಸ್ಟನ್ ಮಾರ್ಟಿನ್ ಅವರ ಚೀನೀ ಮಾರಾಟವು 28 ರಷ್ಟು ಏರಿಕೆಯಾಗಿದೆ ಮತ್ತು ಯುಕೆ ಮತ್ತು ಯುರೋಪ್ನಲ್ಲಿನ ಮಾರಾಟವು ಚೀನಾದ ಅನೇಕ ಭಾಗಗಳಲ್ಲಿನ ಸಂಪರ್ಕತಡೆಯನ್ನು ಸೂಚಿಸುತ್ತದೆ ಇತ್ತೀಚಿನ ಜೇಮ್ಸ್ ಬಾಂಡ್ ಚಲನಚಿತ್ರ ಆಸ್ಟನ್ ಮಾರ್ಟಿನ್ ನಲ್ಲಿ ಕಾಣಿಸಿಕೊಂಡಿರುವ ಮೂರು ಕಾರುಗಳೊಂದಿಗೆ ಮಾರ್ಕೆಟಿಂಗ್ ವರ್ಧಕವನ್ನು ಹೊಂದಿದ್ದರೂ ಸಹ ಕಾರ್ ತಯಾರಕರ ಆದಾಯದ ಮೇಲೆ ಹೆಚ್ಚಿನ ತೂಕವನ್ನು ಹೊಂದಿರಿ, ಚೀನಾ ಮತ್ತು ಇತರ ಮಾರುಕಟ್ಟೆಗಳಲ್ಲಿ ಪೂರೈಕೆ ಸರಪಳಿ ಮತ್ತು ಗ್ರಾಹಕರ ಬೇಡಿಕೆಯ ಮೇಲೆ ಪರಿಣಾಮ ಬೀರುವ ಸಾಮರ್ಥ್ಯವನ್ನು ಕೋವಿಡ್ 19 ಹೊಂದಿದೆ ಎಂದು ಹೇಳಿದರು. ಮೈಕೆಲ್ ಕಾರ್ಸ್\\u200cನಂತಹ ಫ್ಯಾಶನ್ ಬ್ರ್ಯಾಂಡ್\\u200cಗಳನ್ನು ಬೆಂಬಲಿಸಿದ ಕೆನಡಾದ ಬಿಲಿಯನೇರ್ ಸ್ಟ್ರೋಲ್ ನೇತೃತ್ವದ ಸಂಚಿಕೆ ಸಂಪೂರ್ಣ ಬದ್ಧವಾಗಿದೆ ಮತ್ತು ಕಾರು ತಯಾರಕನಿಗೆ ಪ್ರತಿ ಷೇರಿಗೆ 4 ರಂತೆ ಅಂಡರ್ರೈಟ್ ಮಾಡಲಾಗಿದೆ ಜನವರಿ ಅಂತ್ಯದಲ್ಲಿ ಬೇಲ್ out ಟ್ ಘೋಷಣೆಯಾದ ನಂತರ ಆಯ್ಸ್ಟನ್ ಮಾರ್ಟಿನ್ ಷೇರುಗಳ ಬೆಲೆ ಆ ಮಟ್ಟಕ್ಕಿಂತ ಕಡಿಮೆಯಾಗಿದ್ದರೂ ಘೋಷಿಸಲಾಗಿದೆ\",0\\n\"ಇರಾಕ್ ಮತ್ತು ಕುವೈತ್ ಏಕಾಏಕಿ ತಡೆಗಟ್ಟಲು ಶಾಲೆಗಳನ್ನು ಮುಚ್ಚಿದೆ ಎಂದು ಬೈರುತ್\\u200cನಲ್ಲಿ ಕ್ಲೋ ಕಾರ್ನಿಷ್ ಮತ್ತು ದುಬೈನ ಸಿಮಿಯೋನ್ ಕೆರ್ ವರದಿ ಮಾಡಿದ್ದಾರೆ ಇರಾಕ್ ಮತ್ತು ಕುವೈತ್ ಶಿಕ್ಷಣ ಸಂಸ್ಥೆಗಳನ್ನು ಮುಚ್ಚುತ್ತಿವೆ ಏಕೆಂದರೆ ಮಧ್ಯಪ್ರಾಚ್ಯದ ಅಧಿಕಾರಿಗಳು ವೇಗವಾಗಿ ಹರಡುವ ಕರೋನವೈರಸ್ ಶಾಲೆಗಳು ಮತ್ತು ವಿಶ್ವವಿದ್ಯಾಲಯಗಳನ್ನು ಮಾರ್ಚ್ 7 ರವರೆಗೆ ಮುಚ್ಚಲಾಗುತ್ತಿದೆ. ಏತನ್ಮಧ್ಯೆ, ಏಕಾಏಕಿ ಎದುರಿಸುತ್ತಿರುವ ದೇಶಗಳಿಂದ ಪ್ರಜೆಗಳನ್ನು ಸ್ಥಳಾಂತರಿಸಲು ಮತ್ತು ಅವರನ್ನು ಸಂಪರ್ಕತಡೆಗೆ ಒಳಪಡಿಸಲು ಕುವೈತ್ ಕೆಲಸ ಮಾಡುತ್ತಿದೆ. ಸೌದಿ ಅರೇಬಿಯಾ ಉಮ್ರಾ ಯಾತ್ರಿಗಳನ್ನು ರಾಜ್ಯಕ್ಕೆ ನಿಷೇಧಿಸುವುದಾಗಿ ಘೋಷಿಸುವುದರ ಜೊತೆಗೆ ವೈರಸ್ ಪೀಡಿತ ದೇಶಗಳಿಂದ ಪ್ರವಾಸಿ ವೀಸಾಗಳಿಗೆ ಪ್ರವೇಶವನ್ನು ನಿರ್ಬಂಧಿಸುತ್ತದೆ. ಚೀನಾ ಇರಾನ್ ಇಟಲಿ ಪಾಕಿಸ್ತಾನ ದಕ್ಷಿಣ ಕೊರಿಯಾ ಜಪಾನ್ ಮತ್ತು ಸಿಂಗಾಪುರ ಸೇರಿದಂತೆ 20 ಕ್ಕೂ ಹೆಚ್ಚು ದೇಶಗಳ ವೀಸಾಗಳೊಂದಿಗೆ ಸೌದಿ ಪ್ರಯಾಣಿಕರನ್ನು ಸ್ವೀಕರಿಸುವುದಿಲ್ಲ ಎಂದು ಸರ್ಕಾರಿ ಸ್ವಾಮ್ಯದ ವಾಹಕವು ಘೋಷಿಸಿದೆ.\",0\\nಪ್ರಿನ್ಸ್ ಜಾರ್ಜ್ ಮತ್ತು ಪ್ರಿನ್ಸೆಸ್ ಷಾರ್ಲೆಟ್ ಶಾಲೆಯಲ್ಲಿನ ವಿದ್ಯಾರ್ಥಿಗಳು ಉತ್ತರ ಇಟಲಿಯನ್ನು ಕರೋನವೈರಸ್ನಿಂದ ಹಿಂದಿರುಗಿದ ನಂತರ ಸ್ವಯಂ ಪ್ರತ್ಯೇಕತೆ ಹೊಂದಿದವರಲ್ಲಿ ಸೇರಿದ್ದಾರೆ. ಇಟಲಿಯಲ್ಲಿ ವೈರಸ್ ಹರಡಿದ ನಂತರ ಯುಕೆನಾದ್ಯಂತ ಹಲವಾರು ಶಾಲೆಗಳು ಮುಚ್ಚಲ್ಪಟ್ಟಿವೆ. ರೋಗಲಕ್ಷಣಗಳಂತಹ ಜ್ವರ ಕಾಣಿಸಿಕೊಂಡರೆ ಅನಾರೋಗ್ಯದ ಹರಡುವಿಕೆಯನ್ನು ತಡೆಯುವ ಕ್ರಮಗಳ ಭಾಗವಾಗಿ ಉತ್ತರ ಇಟಲಿಯ ಯುಕೆ ಅವರಿಗೆ ಸ್ವಯಂ ಪ್ರತ್ಯೇಕಿಸುವ ಅಗತ್ಯವಿರುತ್ತದೆ ಎಂದು ಕಿಡ್ಡರ್\\u200cಮಿನಿಸ್ಟರ್\\u200cನ ಕಂಟಿನ್ಯು ಪ್ಲಸ್ ಅಕಾಡೆಮಿ ಬುಧವಾರ ಸಿಬ್ಬಂದಿಯೊಬ್ಬರು ಇದ್ದ ನಂತರ ಅದನ್ನು ಮುಚ್ಚಲಾಗಿದೆ ಎಂದು ಹೇಳಿದರು. ಉತ್ತರ ಇಟಲಿಗೆ ಪ್ರವಾಸದ ನಂತರ ಸ್ವಯಂ ಪ್ರತ್ಯೇಕವಾಗಿದ್ದ ಕುಟುಂಬ ಸದಸ್ಯರೊಂದಿಗಿನ ನಿಕಟ ಸಂಪರ್ಕ ಇಟಲಿ ವಿರುದ್ಧ ಸಿಕ್ಸ್ ನೇಷನ್ಸ್ ರಗ್ಬಿ ಪಂದ್ಯವನ್ನು ಮುಂದೂಡುವ ನಿರ್ಧಾರವನ್ನು ಐರಿಶ್ ಆರೋಗ್ಯ ಸಚಿವ ಸೈಮನ್ ಹ್ಯಾರಿಸ್ ಅವರೊಂದಿಗಿನ ಸಭೆಯ ನಂತರ ಮಾಡಲಾಗಿದೆ ಎಂದು ಯೂನಿಯನ್ ಹೇಳಿದೆ,0\\n\"ತಮ್ಮ ವಿಶ್ವಕಪ್ ಅಭಿಯಾನವನ್ನು ಚಂಡಮಾರುತದಿಂದ ಬೀಸಿದ ಬಗ್ಗೆ ಇಂಗ್ಲೆಂಡ್\\u200cನ ಪ್ರತಿಕ್ರಿಯೆ ಅವರು ಯಾವುದೇ ಕರೋನವೈರಸ್ ಅಡ್ಡಿಗಳನ್ನು ನಿಭಾಯಿಸಬಲ್ಲದು ಎಂದು ಮನವರಿಕೆ ಮಾಡಿಕೊಟ್ಟಿದೆ ಎಂದು ಜೇಮಿ ಜಾರ್ಜ್ ಹೇಳಿದ್ದಾರೆ. ಶನಿವಾರ ಇಟಲಿ ವಿರುದ್ಧ ಐರ್ಲೆಂಡ್\\u200cನ ಹೋಮ್ ಸಿಕ್ಸ್ ನೇಷನ್ಸ್ ಪಂದ್ಯವನ್ನು ಮುಂದೂಡುವ ಐರಿಶ್ ಸರ್ಕಾರದ ನಿರ್ಧಾರವು ಶನಿವಾರದಂದು ಹೆಚ್ಚಾಗುತ್ತದೆ ಏಳು ದಿನಗಳ ನಂತರ ಇಟಲಿಯಲ್ಲಿ ನಡೆದ ಇಂಗ್ಲೆಂಡ್ ಪಂದ್ಯದ ಮೇಲೆ ಪ್ಲಗ್ ಅನ್ನು ಎಳೆಯಲಾಗಿದ್ದು, ಹಗೀಬಿಸ್ 98 ಜನರನ್ನು ಕೊಂದರು ಪೂರ್ವ ಜಪಾನ್\\u200cನಾದ್ಯಂತ ದುರಂತದ ವಿನಾಶಕ್ಕೆ ಕಾರಣರಾದರು ಮತ್ತು ಫ್ರಾನ್ಸ್ ವಿರುದ್ಧದ ಇಂಗ್ಲೆಂಡ್\\u200cನ ಪೂಲ್ ಘರ್ಷಣೆಯನ್ನು ರದ್ದುಗೊಳಿಸಲು ವಿಶ್ವಕಪ್ ಸಂಘಟಕರು ಕಾರಣರಾದರು. ಜೋನ್ಸ್ ಮತ್ತೆ ಫಿಟ್ ಅನ್ನು ಇಂಗ್ಲೆಂಡ್ ಜೋಡಿ ಆಂಥೋನಿ ವ್ಯಾಟ್ಸನ್ ಮತ್ತು ಮಾರ್ಕ್ ವಿಲ್ಸನ್ ತಂಡಕ್ಕೆ ಪುನಃಸ್ಥಾಪಿಸಿದ್ದಾರೆ, ಇದು ಆಕ್ಸ್ಫರ್ಡ್ಶೈರ್ನಲ್ಲಿ ಈ ಸಿಕ್ಸ್ ನೇಷನ್ಸ್ ಫಾಲೋ ವಾರ ತರಬೇತಿಯನ್ನು ಕಳೆಯುತ್ತಿದೆ\",1\\n\"ಬೆನ್ ಪಾಲಿಂಗ್ ತನ್ನ ಮುಖ್ಯ ಚೆಲ್ಟೆನ್ಹ್ಯಾಮ್ ಉತ್ಸವದ ಸ್ಪರ್ಧಿ ಗ್ಲೋಬಲ್ ಸಿಟಿಜನ್\\u200cಗಾಗಿ ಹವಾಮಾನ ಮುನ್ಸೂಚನೆಯನ್ನು ಮೇಲ್ವಿಚಾರಣೆ ಮಾಡುತ್ತಿದ್ದಾನೆ. ಎಂಟು ವರ್ಷದವನು ಮಾರ್ಚ್ 10 ರಂದು ರೇಸಿಂಗ್ ಪೋಸ್ಟ್ ಆರ್ಕಲ್ ಚೇಸ್\\u200cನಲ್ಲಿ ಓಡಲಿದ್ದಾನೆ, ಕಳೆದ ವರ್ಷದ ಚಾಂಪಿಯನ್ ಹರ್ಡಲ್\\u200cನಲ್ಲಿ ನಿರಾಶಾದಾಯಕವಾದ ನಂತರ ಗ್ರೇಡ್ ಒನ್ ಮಟ್ಟದಲ್ಲಿ ತನ್ನ ಮೊದಲ ಓಟದ ಸ್ಪರ್ಧೆ ನಡೆಯುತ್ತಿದೆ ಚಾಂಪಿಯನ್ ದಿನದಂದು ಟೇಪ್\\u200cಗಳು ಹೆಚ್ಚಾಗುತ್ತಿದ್ದಂತೆ ಇದು ಮೃದುವಾಗಿರಬಹುದೆಂದು ನಿರೀಕ್ಷಿಸಲಾಗಿದೆ. ಅದು ತುಂಬಾ ಮೃದುವಾದರೆ ನಾನು ಅದನ್ನು ತಿರುಗಿಸಿ ಐನ್\\u200cಟ್ರೀ ಪಾಲಿಂಗ್\\u200cಗೆ ಹೋಗುತ್ತೇನೆ 14 1 ಶಾಟ್ ಜಾಗತಿಕ ನಾಗರಿಕ ನಾಗರಿಕ ಅಲ್ಕಾಡೆಮ್ ಮಗ ಗ್ರೇಡ್ ಗೆದ್ದನು ಕ್ರಿಸ್\\u200cಮಸ್ ರೂಪದ ಮೇಲೆ ಕೆಂಪ್ಟನ್\\u200cನಲ್ಲಿ ಎರಡು ಲ್ಯಾಡ್\\u200cಬ್ರೋಕ್ಸ್ ವೇವರ್ಡ್ ಲಾಡ್ ನೊವೀಸ್ ಚೇಸ್, ಇದನ್ನು ರನ್ನರ್ ಅಪ್ ರೂಜ್ ವಿಫ್ ಅವರು ಸ್ಪಷ್ಟಪಡಿಸಿದ್ದಾರೆ\",0\\n\"ಕರೋನವೈರಸ್ನ ಎರಡು ಹೊಸ ಪ್ರಕರಣಗಳು ಇಂಗ್ಲೆಂಡ್ನಲ್ಲಿ ಒಟ್ಟು 15 ಕ್ಕೆ ತಂದುಕೊಟ್ಟಿವೆ ಎಂದು ಆರೋಗ್ಯ ಇಲಾಖೆ ತಿಳಿಸಿದೆ. ಸೋಂಕಿತರಲ್ಲಿ ಒಬ್ಬರು ಇಟಲಿಯಲ್ಲಿ ವೈರಸ್ ಅನ್ನು ಸೆಳೆದರೆ, ಇನ್ನೊಬ್ಬರು ಅದನ್ನು ಟೆನೆರೈಫ್ನಲ್ಲಿ ತೆಗೆದುಕೊಂಡರು. ಕ್ಯಾನರಿ ದ್ವೀಪಗಳಿಗೆ ಏತನ್ಮಧ್ಯೆ, ಪೋಷಕರು ಕರೋನವೈರಸ್ ಅನ್ನು ಸಂಕುಚಿತಗೊಳಿಸಿದ ನಂತರ ಡರ್ಬಿಶೈರ್ನ ಶಾಲೆಯನ್ನು ಮುಚ್ಚಲಾಗಿದೆ, ಆದರೆ ಈ ಪ್ರಕರಣವನ್ನು ಆರೋಗ್ಯ ಇಲಾಖೆಯಿಂದ ತಕ್ಷಣವೇ ದೃ confirmed ೀಕರಿಸಲಾಗಿಲ್ಲ\",0\\nಟ್ರಂಪ್ ಕೊರೊನಾವೈರಸ್ ಬೆದರಿಕೆ ಮತ್ತು ಕಾರ್ಯಗಳನ್ನು ಮೈಕ್ ಪೆನ್ಸ್ ಮೇಲ್ವಿಚಾರಣೆಯೊಂದಿಗೆ ಕಡಿಮೆ ಮಾಡಿದ್ದಾರೆ ಡೊನಾಲ್ಡ್ ಟ್ರಂಪ್ ಬುಧವಾರ ರಾತ್ರಿ ಶ್ವೇತಭವನದ ಪತ್ರಿಕಾಗೋಷ್ಠಿಯಲ್ಲಿ ಕೊರೊನಾವೈರಸ್ ಎದುರಿಸುತ್ತಿರುವ ಬೆದರಿಕೆಯನ್ನು ಕಡಿಮೆ ಮಾಡಲು ಪ್ರಯತ್ನಿಸಿದರು. ಆಡಳಿತದ ಪ್ರತಿಕ್ರಿಯೆ ಟ್ರಂಪ್ ತನ್ನ ಆಡಳಿತವನ್ನು ಜಾನ್ಸ್ ಹಾಪ್ಕಿನ್ಸ್ ವಿಶ್ವವಿದ್ಯಾಲಯದ ಸಾಂಕ್ರಾಮಿಕ ರೋಗವನ್ನು ಎದುರಿಸಲು ಉತ್ತಮವಾಗಿ ಸಿದ್ಧಪಡಿಸಿದ ದೇಶಗಳ ಅಧ್ಯಯನವನ್ನು ವೈರಸ್ ಅನ್ನು ಎದುರಿಸಲು ಬಹಳ ಸಿದ್ಧ ಎಂದು ಬಣ್ಣಿಸಿದ್ದಾರೆ. ಅಧ್ಯಕ್ಷರ ಹೊಳಪಿನ ಆಶಾವಾದವು ತನ್ನ ಶತ್ರುಗಳ ಮೇಲೆ ದಿ ನ್ಯೂ ಅನ್ನು ಪ್ರತ್ಯೇಕವಾಗಿ ಹೊಡೆಯುವುದು ಸಾಮಾನ್ಯವಾಗಿದೆ ಟೀಕೆಗೆ ಯಾರ್ಕ್ ಟೈಮ್ಸ್ ಅವರು ಮಾನನಷ್ಟ ಮೊಕದ್ದಮೆ ಹೂಡಿದ್ದಾರೆ ಮತ್ತು ಹೌಸ್ ಸ್ಪೀಕರ್ ನ್ಯಾನ್ಸಿ ಪೆಲೋಸಿ ಅವರನ್ನು ಬೆದರಿಸುತ್ತಿದ್ದಾರೆ ಮತ್ತು ಭಯಭೀತರಾಗಲು ಪ್ರಯತ್ನಿಸುತ್ತಿದ್ದಾರೆ ಎಂದು ಪೆಲೋಸಿ ಹಿಂದಿನ ದಿನ ಅವರ ಪ್ರತಿಕ್ರಿಯೆಯನ್ನು ನಾಚಿಕೆಗೇಡಿನಂತೆ ಕರೆದರು ಮತ್ತು ಅಧ್ಯಕ್ಷರು ತಾವು ಏನು ಮಾತನಾಡುತ್ತಿದ್ದಾರೆಂದು ತಿಳಿದಿದ್ದಾರೆಂದು ಅವರು ಭಾವಿಸುವುದಿಲ್ಲ ಕ್ಯಾಲಿಫೋರ್ನಿಯಾ ಸಿಟ್ ನಂತರ ಸ್ಥಳೀಯರಿಗೆ ಧೈರ್ಯ ತುಂಬಲು ಸ್ಯಾನ್ ಫ್ರಾನ್ಸಿಸ್ಕೋದ ಚೈನಾಟೌನ್ ಜಿಲ್ಲೆಗೆ ಭೇಟಿ ನೀಡಿದ ನಂತರ ಸಂಚಿಕೆ ವೈ ತುರ್ತು ಪರಿಸ್ಥಿತಿಯನ್ನು ಘೋಷಿಸಿದರು ಸ್ಪೀಕರ್ ಪೆಲೋಸಿ ಅವರ ಅಸಮರ್ಥ ಟ್ರಂಪ್ ಹಿಡಿತದಲ್ಲಿದ್ದಾರೆ ಎಂದು ನಾನು ಭಾವಿಸುತ್ತೇನೆ,0\\n\"ಹರಡುವಿಕೆ ಮತ್ತು ಸ್ಟಟರ್ ಮಾರ್ಕೆಟ್\\u200cಗಳು ಕೋವಿಡ್ 19 ರ ಪರಿಣಾಮಗಳಿಗೆ ತುತ್ತಾಗುತ್ತವೆ. ಮಾರುಕಟ್ಟೆ ಪ್ರಕ್ಷುಬ್ಧತೆಯು ಆರ್ಥಿಕ ಅಡೆತಡೆಯನ್ನು ಹೆಚ್ಚಿಸುತ್ತದೆ. ಅಮೆರಿಕಾ ಜಾಗತಿಕ ಬಂಡವಾಳದ ಕೇಂದ್ರವು ಆರ್ಥಿಕ ವಿಸ್ತರಣೆಯವರೆಗೆ ಮತ್ತು ಬುಲ್ ಮಾರುಕಟ್ಟೆ ಹೂಡಿಕೆದಾರರು ಎರಡು ಸಂಘರ್ಷದ ಪ್ರಚೋದನೆಗಳನ್ನು ಅನುಭವಿಸಿದಾಗ ಎರಡು ಚಿಂತೆಗಳು ಮನಸ್ಸಿನ ಮೇಲ್ಭಾಗದಲ್ಲಿವೆ ಕಡಿಮೆ ಚಂಚಲತೆ ಮತ್ತು credit ದಿಕೊಂಡ ಕ್ರೆಡಿಟ್ ಮಾರುಕಟ್ಟೆಗಳ ಮೇಲೆ ಅವಲಂಬಿತವಾಗಿರುವ ಹಣಕಾಸು ಸಾಧನಗಳ ಅಪಾರದರ್ಶಕ ಕಟ್ಟಡವು ಒಂದು ದೊಡ್ಡ ಚಿಂತೆ ಕ್ರೆಡಿಟ್ ಮಾರುಕಟ್ಟೆಗಳು ಮತ್ತು ನಿರ್ದಿಷ್ಟವಾಗಿ ಕಳೆದ ದಶಕದಲ್ಲಿ ಗಗನಕ್ಕೇರಿರುವ ಕಾರ್ಪೊರೇಟ್ ಸಾಲ. ಕಾಗದವು 4 3 ಶೇಕಡಾವಾರು ಬಿಂದುಗಳಿಗೆ ವಿಸ್ತರಿಸಿದೆ, ಇಂಧನ ವಲಯದ ಬಾಂಡ್\\u200cಗಳು ಅನುಭವಿಸಿದ ಹೆಚ್ಚಿನ ಪ್ರಭಾವವು ಚಾರ್ಟ್ 2 ನೋಡಿ\",0\\n\"ಮಾಸ್ಕೋ ರಾಯಿಟರ್ಸ್ ಪ್ರಾಣಿಗಳ ಹಕ್ಕುಗಳ ಪ್ರಚಾರಕರು ಕ್ರೂರ ಮತ್ತು ವೈಜ್ಞಾನಿಕವಾಗಿ ಆಧಾರರಹಿತವೆಂದು ಘೋಷಿಸಿದ ಹೊಸ ಕರೋನವೈರಸ್ ಕ್ರಮಗಳ ವಿರುದ್ಧ ಮುನ್ನೆಚ್ಚರಿಕೆಯಾಗಿ ಮಾಸ್ಕೋ ಅಧಿಕಾರಿಗಳು ದಾರಿತಪ್ಪಿ ಪ್ರಾಣಿಗಳನ್ನು ಸುತ್ತುವರೆದಿದ್ದಾರೆ ಮತ್ತು ಇಲಿಗಳನ್ನು ನಿರ್ನಾಮ ಮಾಡುತ್ತಿದ್ದಾರೆ. ರಷ್ಯಾದಾದ್ಯಂತ ನೂರಾರು ಜನರನ್ನು ನಿರ್ಬಂಧಿಸಲಾಗಿದೆ ಮತ್ತು ಮಾಸ್ಕೋದ ಅಧಿಕಾರಿಗಳು ಸಂಭಾವ್ಯ ವಾಹಕಗಳ ಮೇಲೆ ದಾಳಿ ನಡೆಸಿದ್ದಾರೆ ವೈರಸ್ ಮತ್ತು ಮೂಲೆಗುಂಪು ಕ್ರಮಗಳನ್ನು ಜಾರಿಗೊಳಿಸಲು ಮುಖ ಗುರುತಿಸುವಿಕೆ ತಂತ್ರಜ್ಞಾನವನ್ನು ಬಳಸಲಾಗಿದೆ ಬಾರ್ಕಿಂಗ್ ನ್ಯೂಸ್ ಪ್ರಾಣಿಗಳ ಬಗ್ಗೆ ಸುದ್ದಿಗಳನ್ನು ಒಳಗೊಂಡಿರುವ ರಷ್ಯಾದ ಮಾಧ್ಯಮವೊಂದು ದಾರಿತಪ್ಪಿ ನಾಯಿಗಳು ಮತ್ತು ಬೆಕ್ಕುಗಳ ವಿರುದ್ಧದ ಕ್ರಮವನ್ನು ಅವಿವೇಕಿ ಅವೈಜ್ಞಾನಿಕ ಮತ್ತು ಸರಳವಾಗಿ ಕ್ರೂರವೆಂದು ಘೋಷಿಸಿತು ಇದು ಮಾಸ್ಕೋ ಮೂಲದ ವೈರಾಲಜಿಸ್ಟ್ ನಿಕೊಲಾಯ್ ನಿಕಿಟಿನ್ ಅವರನ್ನು ಉಲ್ಲೇಖಿಸಿ ಯಾವುದೇ ಪುರಾವೆಗಳಿಲ್ಲ ದಾರಿತಪ್ಪಿ ನಾಯಿಗಳು ಮತ್ತು ಬೆಕ್ಕುಗಳು ಹೊಸ ಕರೋನವೈರಸ್ ಅನ್ನು ಸಂಕುಚಿತಗೊಳಿಸಬಹುದು ಅಥವಾ ತರುವಾಯ ಅದನ್ನು ಮಾಸ್ಕೋದಲ್ಲಿ ದಾರಿತಪ್ಪಿ ನಾಯಿಗಳು ಮತ್ತು ಬೆಕ್ಕುಗಳ ಹೆಚ್ಚಿನ ಜನಸಂಖ್ಯೆಯನ್ನು ಹೊಂದಿದ್ದವು ಆದರೆ ಅವು ಮಧ್ಯ ಮಾಸ್ಕೋದಲ್ಲಿ ಅಪರೂಪದ ದೃಶ್ಯವಾಗಿ ಮಾರ್ಪಟ್ಟಿವೆ, ಆದರೂ ದಾರಿತಪ್ಪಿ ನಾಯಿಗಳ ಪ್ಯಾಕ್\\u200cಗಳು ಕೆಲವೊಮ್ಮೆ ಕೇಂದ್ರದ ಹೊರಗೆ ಕಂಡುಬರುತ್ತವೆ\",0\\nಹಣಕಾಸಿನ ಮೊದಲ ತ್ರೈಮಾಸಿಕದಲ್ಲಿ ಬೆಸ್ಟ್ ಬೈ ಉದ್ಯಮ ಆದಾಯವು 1 1 ಬಿಲಿಯನ್ ನಿಂದ 9 2 ಬಿಲಿಯನ್ ವರೆಗೆ ಫ್ಲಾಟ್ನ 1 ರಿಂದ 1 ರವರೆಗಿನ ಒಂದೇ ಅಂಗಡಿ ಮಾರಾಟದ ಬೆಳವಣಿಗೆಯನ್ನು ನಿರೀಕ್ಷಿಸುತ್ತದೆ ಮತ್ತು 1 00 ರಿಂದ 1 05 ರವರೆಗಿನ ಇಪಿಎಸ್ ಅನ್ನು ಸರಿಹೊಂದಿಸುತ್ತದೆ. 8 ಮತ್ತು ಇಪಿಎಸ್ 1 01 ವರ್ಷಕ್ಕೆ ಬೆಸ್ಟ್ ಬೈ 43 3 ಬಿಲಿಯನ್ ನಿಂದ 44 3 ಬಿಲಿಯನ್ ಒಂದೇ ಅಂಗಡಿ ಮಾರಾಟದ ಬೆಳವಣಿಗೆಯನ್ನು ಫ್ಲಾಟ್\\u200cನಿಂದ 2 ಮತ್ತು 6 ರಿಂದ 10 ರವರೆಗೆ ಹೊಂದಿಸಿದ ಇಪಿಎಸ್ ಅನ್ನು ನಿರೀಕ್ಷಿಸುತ್ತದೆ 30 ಫ್ಯಾಕ್ಟ್\\u200cಸೆಟ್ ಮಾರ್ಗದರ್ಶನವು 44 2 ಬಿಲಿಯನ್ ಅದೇ ಅಂಗಡಿ ಮಾರಾಟದ ಆದಾಯಕ್ಕಾಗಿ 1 6 ರ ಬೆಳವಣಿಗೆ ಮತ್ತು 6 26 ಬೆಸ್ಟ್ ಬೈ ಸ್ಟಾಕ್ನ ಇಪಿಎಸ್ ಕಳೆದ ವರ್ಷದಲ್ಲಿ 19% ಗಳಿಸಿದೆ ಮತ್ತು ಎಸ್ಪಿ 500 ಸೂಚ್ಯಂಕ ಎಸ್ಪಿಎಕ್ಸ್ 0 38 ಈ ಅವಧಿಯಲ್ಲಿ 11 6 ಏರಿಕೆಯಾಗಿದೆ,1\\n\"ಚೀನಾದ ಹೊರಗಿನ ಕರೋನವೈರಸ್ ವೇಗವಾಗಿ ಹರಡುವುದು ಈ ವಾರ ಹಣಕಾಸು ಮಾರುಕಟ್ಟೆಗಳಲ್ಲಿ ಪ್ರಕ್ಷುಬ್ಧತೆಯನ್ನು ಉಂಟುಮಾಡಿದೆ ಎಂದು ಹೂಡಿಕೆದಾರರು ಹೇಳುತ್ತಾರೆ, ಆಯ್ಕೆ ವ್ಯಾಪಾರಿಗಳ ಹೆಡ್ಜಿಂಗ್ ಚಟುವಟಿಕೆಯು ಅದನ್ನು ಇನ್ನಷ್ಟು ಹದಗೆಡಿಸಿರಬಹುದು ಎಂದು ಮಾರುಕಟ್ಟೆ ಚಂಚಲತೆ ಈ ವಾರ ಮತ್ತೆ ಘರ್ಜಿಸಿತು. ದಿನಗಳ ಹಿಂದೆ ಎಸ್\\u200cಪಿ 500 ಆಗಸ್ಟ್ 2015 ರಿಂದ ಸೋಮವಾರ ಮತ್ತು ಮಂಗಳವಾರ ತನ್ನ ಅತಿದೊಡ್ಡ ಎರಡು ದಿನಗಳ ಸ್ಲೈಡ್ ಅನ್ನು ಅನುಭವಿಸಿತು, ಆದರೆ ಪಟ್ಟಿಮಾಡಿದ ಆಯ್ಕೆಗಳ ಚಟುವಟಿಕೆ ಮಂಗಳವಾರ ಎರಡನೇ ಗರಿಷ್ಠ ಮಟ್ಟವನ್ನು ಮುಟ್ಟಿದೆ\",1\\nಕರೋನವೈರಸ್ ಕಾರಣದಿಂದಾಗಿ ಬಾಸ್ಕೆಟ್\\u200cಬಾಲ್ ಬಲ್ಗೇರಿಯಾದ ಚೀನಾ ಪ್ರವಾಸವನ್ನು ರದ್ದುಪಡಿಸಲಾಗಿದೆ ಸೋಫಿಯಾ ರಾಯಿಟರ್ಸ್ ಬಲ್ಗೇರಿಯಾದ ರಾಷ್ಟ್ರೀಯ ಪುರುಷರ ಬ್ಯಾಸ್ಕೆಟ್\\u200cಬಾಲ್ ತಂಡವು ಕರೋನವೈರಸ್ ಏಕಾಏಕಿ ಚೀನಾದ ಬೇಸಿಗೆ ಪ್ರವಾಸವನ್ನು ರದ್ದುಗೊಳಿಸಿದೆ ಎಂದು ಅವರ ತರಬೇತುದಾರ ಗುರುವಾರ ಹೇಳಿದ್ದಾರೆ. ಎಸ್ಟೋನಿಯಾ ಸೇರಿದಂತೆ ರಾಷ್ಟ್ರೀಯ ತಂಡಗಳು ಮತ್ತು ಅಂತಹ ಪ್ರವಾಸಕ್ಕೆ ಹೋಗುವುದು ಉತ್ತಮ ಎಂದು ರೋಸೆನ್ ಬಾರ್ಚೊವ್ಸ್ಕಿ ಸ್ಥಳೀಯ ಮಾಧ್ಯಮಗಳಿಗೆ ತಿಳಿಸಿದರು ಆದರೆ ಕರೋನವೈರಸ್ ಕಾರಣ ನಾವು ಅದನ್ನು ರದ್ದುಗೊಳಿಸಬೇಕಾಗಿದೆ ಮತ್ತು ನಾವು ಇನ್ನೊಂದು ಆಯ್ಕೆಯನ್ನು ಹುಡುಕುತ್ತೇವೆ ಚೀನಾದಲ್ಲಿ ಮೊದಲು ಹೊರಹೊಮ್ಮಿದ ಕರೋನವೈರಸ್ 80000 ಕ್ಕೂ ಹೆಚ್ಚು ಜನರಿಗೆ ಸೋಂಕು ತಗುಲಿತು ಮತ್ತು ಸುಮಾರು 2800 ಜನರನ್ನು ಕೊಂದರು,0\\nಹೊಸ ಕರೋನವೈರಸ್ನ ಸಂಭಾವ್ಯ ಬೆದರಿಕೆಗೆ ಸಿದ್ಧವಾಗಲು ಸ್ಯಾನ್ ಫ್ರಾನ್ಸಿಸ್ಕೋ ನಗರವು ತುರ್ತು ಪರಿಸ್ಥಿತಿಯನ್ನು ಘೋಷಿಸಿದೆ ಫೋಟೋ ಜೇಸನ್ಡೊಯಿ ಗೆಟ್ಟಿ ಇಮೇಜಸ್ ಫೋಟೋ ಜೇಸನ್ಡೊಯಿ ಗೆಟ್ಟಿ ಚಿತ್ರಗಳು ಹೊಸ ಕರೋನವೈರಸ್ನ ಸಂಭಾವ್ಯ ಬೆದರಿಕೆಗೆ ಸಿದ್ಧವಾಗಲು ಸ್ಯಾನ್ ಫ್ರಾನ್ಸಿಸ್ಕೋ ನಗರವು ತುರ್ತು ಪರಿಸ್ಥಿತಿಯನ್ನು ಘೋಷಿಸಿದೆ. ಸ್ಯಾನ್ ಫ್ರಾನ್ಸಿಸ್ಕೋ ನಗರವು ಹೊಸ ಕರೋನವೈರಸ್ನ ಸಂಭಾವ್ಯ ಬೆದರಿಕೆಗೆ ಸಿದ್ಧವಾಗಲು ತುರ್ತು ಪರಿಸ್ಥಿತಿಯನ್ನು ಘೋಷಿಸಿದೆ ಫೋಟೋ ಜೇಸನ್ಡೊಯಿ ಗೆಟ್ಟಿ ಇಮೇಜಸ್ ಏಕೆ ಸ್ಯಾನ್ ಫ್ರಾನ್ಸಿಸ್ಕೊ \\u200b\\u200bಕರೋನವೈರಸ್ ತುರ್ತು ಪರಿಸ್ಥಿತಿಯನ್ನು ಘೋಷಿಸಿದೆ ನಿಮ್ಮ ಪ್ರಶ್ನೆಗಳಿಗೆ ಉತ್ತರಿಸಿದ ಸ್ಯಾನ್ ಫ್ರಾನ್ಸಿಸ್ಕೊ \\u200b\\u200bಮೇಯರ್ ಲಂಡನ್ ತಳಿ ತುರ್ತು ಪರಿಸ್ಥಿತಿಯನ್ನು ಘೋಷಿಸಿತು ನಗರವು ಮಂಗಳವಾರ ಜಗತ್ತಿನಾದ್ಯಂತ ಹರಡಿರುವ ಹೊಸ ಕರೋನವೈರಸ್ ಬಗ್ಗೆ ಹೆಚ್ಚಿನ ಕಾಳಜಿಯ ನಡುವೆ ನಾವು ನಗರವಾಗಿ ಏನು ಮಾಡುತ್ತಿದ್ದೇವೆ ಎಂಬುದರ ಕುರಿತು ಸಾಮಾನ್ಯ ಮಾಹಿತಿ ಬೇಕಾದರೆ ಸ್ಯಾನ್ ಫ್ರಾನ್ಸಿಸ್ಕೋ ಸಾರ್ವಜನಿಕ ಆರೋಗ್ಯ ಇಲಾಖೆಯ ವೆಬ್\\u200cಸೈಟ್\\u200cಗೆ sfdph org ಅಥವಾ ಸ್ಯಾನ್ ಫ್ರಾನ್ಸಿಸ್ಕೋ ಡಿಪಾರ್ಟ್ಮೆಂಟ್ ಆಫ್ ಎಮರ್ಜೆನ್ಸಿ ಮ್ಯಾನೇಜ್\\u200cಮೆಂಟ್ ವೆಬ್\\u200cಸೈಟ್ sf72 ಗೆ ಭೇಟಿ ನೀಡಿ org,1\\nಸೋಫಿಯಾ ಫೆಬ್ರವರಿ 27 ರಾಯಿಟರ್ಸ್ ಬರೋಗೇರಿಯ ರಾಷ್ಟ್ರೀಯ ಪುರುಷರ ಬ್ಯಾಸ್ಕೆಟ್\\u200cಬಾಲ್ ತಂಡವು ತಮ್ಮ ಚೀನಾ ಪ್ರವಾಸವನ್ನು ರದ್ದುಗೊಳಿಸಿದೆ ಎಂದು ಅವರ ತರಬೇತುದಾರ ಗುರುವಾರ ಹೇಳಿದ್ದಾರೆ. ಚೀನಾದಲ್ಲಿ ನಾವು ಆರು ಮತ್ತು ಒಂಬತ್ತು ಪಂದ್ಯಗಳ ನಡುವೆ ಪ್ರಬಲ ಕ್ಲಬ್\\u200cಗಳ ವಿರುದ್ಧ ಆಡಬೇಕಾಗಿತ್ತು ಮತ್ತು ಎಸ್ಟೋನಿಯಾ ಸೇರಿದಂತೆ ರಾಷ್ಟ್ರೀಯ ತಂಡಗಳಿಗೆ ಭೇಟಿ ನೀಡಬೇಕಾಗಿತ್ತು. ಅಂತಹ ಪ್ರವಾಸಕ್ಕೆ ಹೋಗಲು ಉತ್ತಮವಾಗಿರಿ ರೋಸೆನ್ ಬಾರ್ಚೊವ್ಸ್ಕಿ ಸ್ಥಳೀಯ ಮಾಧ್ಯಮಗಳಿಗೆ ಹೇಳಿದರು ಆದರೆ ಕರೋನವೈರಸ್ ಕಾರಣದಿಂದಾಗಿ ನಾವು ಅದನ್ನು ರದ್ದುಗೊಳಿಸಬೇಕಾಗಿದೆ ಮತ್ತು ನಾವು ಇನ್ನೊಂದು ಆಯ್ಕೆಯನ್ನು ಹುಡುಕುತ್ತೇವೆ ಚೀನಾದಲ್ಲಿ ಮೊದಲು ಹೊರಹೊಮ್ಮಿದ ಕರೋನವೈರಸ್ 80000 ಕ್ಕೂ ಹೆಚ್ಚು ಜನರಿಗೆ ಸೋಂಕು ತಗುಲಿ ಸುಮಾರು 2800 ಜನರನ್ನು ಕೊಂದಿದೆ,0\\n\"ಇತ್ತೀಚಿನ ದಿನಗಳಲ್ಲಿ ಬೀಜಿಂಗ್ ಹೊಸ ಸೋಂಕುಗಳ ಕುಸಿತವನ್ನು ವರದಿ ಮಾಡಿದೆ ಎಂಬುದು ಚೀನಾದಲ್ಲಿ ಏಕಾಏಕಿ ಸುಧಾರಿತ ಸ್ಥಿತಿಯನ್ನು ಸೂಚಿಸುತ್ತದೆ ಆದರೆ ನಿಧಾನಗತಿಯು ಎಷ್ಟು ವೇಗವಾಗಿದೆಯೆಂದರೆ ಅದು ಸಂದೇಹವಾದವನ್ನು ಉಂಟುಮಾಡುತ್ತಿದೆ, ಬೀಳುವ ಸಂಖ್ಯೆಗಳು ವಾಸ್ತವವನ್ನು ಪ್ರತಿಬಿಂಬಿಸುತ್ತದೆಯೇ ಅಥವಾ ಇದು ಸಹಾಯಕವಾದ ನಿರೂಪಣೆಯಾಗಿದೆಯೇ ಎಂದು ತಜ್ಞರು ಆಶ್ಚರ್ಯ ಪಡುತ್ತಾರೆ ಚೀನಾದ ಆರ್ಥಿಕತೆಯನ್ನು ಮತ್ತೆ ಟ್ರ್ಯಾಕ್\\u200cನಲ್ಲಿ ಪಡೆಯಿರಿ ಎಣಿಕೆಗಾಗಿ ಚೀನಾದಲ್ಲಿ ಕರೋನವೈರಸ್ ಹರಡುವಿಕೆಯು ಹುಬೈ ಪ್ರಾಂತ್ಯದ ಭೂಕಂಪದ ಹೊರಗಿನ ಪ್ರದೇಶಗಳಲ್ಲಿ ಸ್ಥಗಿತಗೊಂಡಿದೆ ಆದರೆ ಮಂಗಳವಾರ ಐದು ಹೊಸ ಪ್ರಕರಣಗಳು ದೃ confirmed ಪಟ್ಟಿದೆ ಮತ್ತು 24 ಬುಧವಾರ ದೃ confirmed ಪಟ್ಟಿದೆ 78497 ಅಧಿಕೃತ ಪ್ರಕರಣಗಳು ಚೀನಾದ ರಾಷ್ಟ್ರೀಯ ಆರೋಗ್ಯ ಆಯೋಗದ ಪ್ರಕಾರ ಬುಧವಾರದಂದು ಚೀನಾದಲ್ಲಿ ಕೊರೊನಾವೈರಸ್ ಆದರೆ ಚೀನಾದ ರಾಷ್ಟ್ರೀಯ ಆರೋಗ್ಯ ಆಯೋಗವು ಒಂದು ವಾರದ ನಂತರ ಆ ನಿರ್ಧಾರವನ್ನು ಹಿಮ್ಮೆಟ್ಟಿಸಿತು ಮತ್ತು ಹೊಸ ದೃ confirmed ಪಡಿಸಿದ ಪ್ರಕರಣಗಳು ಹುಬೈ ಒಳಗೆ ಮೂರು ಅಂಕೆಗಳಿಗೆ ಮತ್ತು ಅದರ ಹೊರಗಿನ ಬೆರಳೆಣಿಕೆಯಷ್ಟು ಕಡಿಮೆಯಾಗಲು ಪ್ರಾರಂಭಿಸಿದವು ಫಾರ್ಚೂನ್ ಯುರೋಪಿನ ಕಥೆಗಳನ್ನು ಓದಬೇಕು ಮೊದಲ ದೊಡ್ಡ ಕೋವಿಡ್ 19 ಏಕಾಏಕಿ ಜಾಗತಿಕ ಮಾರುಕಟ್ಟೆಗಳು ಬಿಲಿಯನೇರ್\\u200cಗಳು ಚೀನಾದ ಕರೋನವೈರಸ್ ಫಾರ್ಚೂನ್ 1000 ರ ವಿರುದ್ಧ ಹೋರಾಡಲು ದೇಣಿಗೆ ನೀಡುತ್ತಿದ್ದಾರೆ ಕೊರೊನಾವೈರಸ್ ಪೂರೈಕೆ ಸರಪಳಿ ಅಡೆತಡೆಗಳು ಕರೋನವೈರಸ್ ತಪ್ಪು ಮಾಹಿತಿಯು ಸರ್ಕಾರದ ಅಪನಂಬಿಕೆಯಿಂದ ಉತ್ತೇಜಿಸಲ್ಪಟ್ಟಿದೆ ಕೊರೊನಾವೈರಸ್ ತೈಲ ಫ್ರ್ಯಾಕಿಂಗ್\\u200cನ ಹಿಂಭಾಗವನ್ನು ಒಡೆಯುವ ಒಣಹುಲ್ಲಿನದ್ದಾಗಿರಬಹುದು ಏಷ್ಯಾದಲ್ಲಿ ವ್ಯವಹಾರದಲ್ಲಿ ಪ್ರಾಬಲ್ಯ ಏನು ಎಂಬುದರ ಕುರಿತು ತಜ್ಞರ ಒಳನೋಟಕ್ಕಾಗಿ ಫಾರ್ಚೂನ್\\u200cನ ಮುಂಬರುವ ಈಸ್ಟ್\\u200cವರ್ಲ್ಡ್ ಸುದ್ದಿಪತ್ರಕ್ಕೆ ಚಂದಾದಾರರಾಗಿ.\",0\\n\"ಅನಾರೋಗ್ಯದ ಜನರಿಂದ ತುಂಬಿದ ಆಸ್ಪತ್ರೆಗೆ ಹೋಗಬೇಕೆಂದು ತಪ್ಪಾಗಿ ಹೇಳಿದ ನಂತರ ಸಸ್ಪೆಕ್ಟೆಡ್ ಕರೋನವೈರಸ್ ರೋಗಿಯೊಬ್ಬರು ಎನ್\\u200cಎಚ್\\u200cಎಸ್ ಅನ್ನು ಸ್ಫೋಟಿಸಿದ್ದಾರೆ. ಪ್ರೊಫೆಸರ್ ವಿಟ್ಟಿ ಅವರು ಇಂಗ್ಲೆಂಡ್\\u200cನಲ್ಲಿ ಇನ್ನೂ ಇಬ್ಬರು ರೋಗಿಗಳು ಕೋವಿಡ್ 19 ಕ್ಕೆ ಧನಾತ್ಮಕ ಪರೀಕ್ಷೆ ನಡೆಸಿದ್ದಾರೆ. ಒಟ್ಟು ಯುಕೆ ಪ್ರಕರಣಗಳನ್ನು 15 ಕ್ಕೆ ತಂದುಕೊಟ್ಟಿದೆ. ಉಚಿತ ಆಸ್ಪತ್ರೆ ಲಂಡನ್ ಯುಕೆನಾದ್ಯಂತ ಕನಿಷ್ಠ ಎಂಟು ಶಾಲೆಗಳು ಮುಚ್ಚಲ್ಪಟ್ಟವು ಮತ್ತು ಪ್ರಿನ್ಸ್ ಜಾರ್ಜ್ ಸೇರಿದಂತೆ ಇತರರು ವಿದ್ಯಾರ್ಥಿಗಳನ್ನು ಮನೆಗೆ ಕಳುಹಿಸಿದ್ದಾರೆ, ಅವರು ಉತ್ತರ ಇಟಲಿಗೆ ಅರ್ಧಾವಧಿಯ ಪ್ರವಾಸದ ಸಮಯದಲ್ಲಿ ಕರೋನವೈರಸ್ಗೆ ಒಳಗಾಗಬಹುದು ಎಂಬ ಭಯದ ನಡುವೆ\",0\\nವಾಟರ್ ಕೂಲೆಸ್ಟ್ ದೈನಂದಿನ ವ್ಯವಹಾರ ಸುದ್ದಿ ಮತ್ತು ವೃತ್ತಿಪರ ಸಲಹೆಯ ಇಮೇಲ್ ಸುದ್ದಿಪತ್ರವು ಬ್ರೋಸ್ ರೀಡ್\\u200cಗೆ ಸಜ್ಜಾಗಿದೆ ಫಿಲ್ಟರ್ ಮಾಡದ ವ್ಯಾಖ್ಯಾನ ಮತ್ತು ಕೆಲಸದಲ್ಲಿ ಕಡಿಮೆ ಹೀರುವುದು ಹೇಗೆ ಎಂಬ ಸಲಹೆಯ ಹೃತ್ಪೂರ್ವಕ ಸಹಾಯವನ್ನು ನಿರೀಕ್ಷಿಸಬಹುದು ಪೆಲೋಟಾನ್ ಸ್ಟಾಕ್ ನಿನ್ನೆ 7 ರಿಂದ 29 19 ಕ್ಕೆ ಏರಿದೆ ಎಂಬ ನಿರೀಕ್ಷೆಯಲ್ಲಿ ಸೋಂಕಿತ ಅಪರಿಚಿತರು ನಿಮ್ಮ ಹತ್ತಿರ ಹೆಚ್ಚು ಉಸಿರಾಡುತ್ತಾರೆ ಏಕೆಂದರೆ ಜೂಮ್ ಈಗಾಗಲೇ ಹೆಚ್ಚಿನ ಮಾಸಿಕ ಸಕ್ರಿಯ ಬಳಕೆದಾರರನ್ನು ಎಂಎಯುಗಳನ್ನು ಮೊದಲ ಎರಡು ತಿಂಗಳಲ್ಲಿ 2020 ರಲ್ಲಿ ಸೇರಿಸಿದೆ. ಕಳೆದ ವರ್ಷಕ್ಕೆ ಹೋಲಿಸಿದರೆ ಚಾಟ್\\u200cರೌಲೆಟ್ ಪರ್ಯಾಯ ಷೇರುಗಳ ಬೆಲೆ ಫೆಬ್ರವರಿಯಲ್ಲಿ 40 ಏರಿಕೆಯಾಗಿದೆ ಹೂಡಿಕೆದಾರರು O ೂಮ್\\u200cನ ಆದಾಯ ಮತ್ತು ಅದರ MAUs DAU ಗಳ ದೈನಂದಿನ ಸಕ್ರಿಯ ಬಳಕೆದಾರರ ನಡುವಿನ ಬಲವಾದ ಸಂಬಂಧವು DUI ಗಳು ಮತ್ತು ಡೌನ್\\u200cಲೋಡ್\\u200cಗಳೊಂದಿಗೆ ಗೊಂದಲಕ್ಕೀಡಾಗಬಾರದು. ಜೂಮ್ ಇತ್ತೀಚೆಗೆ ಚೀನಾದಿಂದ ಉಚಿತ ಬಳಕೆದಾರರ ಮೇಲೆ 40 ನಿಮಿಷಗಳ ಸಭೆಯ ಮಿತಿಯನ್ನು ತೆಗೆದುಹಾಕಿದೆ ಮತ್ತು ಅನೇಕ ಹೊಸ ಬಳಕೆದಾರರು ಉಚಿತವಾಗಿದ್ದರೂ ಸಹ ಆ ಅವಕಾಶವಿದೆ ಫ್ರೀಬಿಗಳನ್ನು ಪ್ರೀಮಿಯಂ ಸದಸ್ಯರನ್ನಾಗಿ ಪರಿವರ್ತಿಸಲಾಗುತ್ತದೆ,1\\n\"ಡೌ ಜೋನ್ಸ್ ಕೈಗಾರಿಕಾ ಸರಾಸರಿ ಮತ್ತು ಎಸ್\\u200cಪಿ 500 ಕಳೆದ ತಿಂಗಳೊಳಗೆ ಹೆಚ್ಚಿನ ಕುಸಿತದೊಂದಿಗೆ ತೀವ್ರ ಕುಸಿತ ಕಂಡಿದೆ ಅಥವಾ ಕರೋನವೈರಸ್ ಹರಡುವಿಕೆಯ ಬಗ್ಗೆ ಆತಂಕಗಳು ವಿಶ್ವಾದ್ಯಂತ ಏರಿಕೆಯಾಗಿವೆ. ಶ್ಲೋಸ್\\u200cಬರ್ಗ್ ಈ ಪರಿಸರಕ್ಕಾಗಿ ಶಿಫಾರಸು ಮಾಡಿದ ಎರಡು ಜೋಡಿ ವಹಿವಾಟುಗಳು ದೀರ್ಘಕಾಲ ಸಾಗುತ್ತಿವೆ ಇನ್ವೆಸ್ಕೊ ಎಸ್ಪಿ 500 ಕಡಿಮೆ ಚಂಚಲತೆ ಇಟಿಎಫ್ ಎಸ್ಪಿಎಲ್ವಿ ಮತ್ತು ಇನ್ವೆಸ್ಕೊ ಎಸ್ಪಿ 500 ಹೈ ಬೀಟಾ ಇಟಿಎಫ್ ಎಸ್ಪಿಹೆಚ್ಬಿ ಅಥವಾ ಡೌಗೆ ಹೋಗುವ ಸರಳೀಕೃತ ಆವೃತ್ತಿಯು ಮತ್ತು ನಾಸ್ಡಾಕ್ ಅನ್ನು ಕಡಿಮೆಗೊಳಿಸುವುದು ಈ ವರ್ಷದ ದೀರ್ಘಾವಧಿಯ ದೃಷ್ಟಿಕೋನದಿಂದ ಮುಂದೆ ಹೋಗುವುದರಿಂದ ಇದು ಸಾಕಷ್ಟು ಅರ್ಥವನ್ನು ನೀಡುತ್ತದೆ ಡೌ ಶಾರ್ಟ್ ನಾಸ್ಡಾಕ್ ಅನ್ನು ಪಡೆಯಲು ನೀವು ಹರಡುವ ವ್ಯಾಪಾರವನ್ನು ಮಾಡಲು ಹೊರಟಿದ್ದರೆ ಮತ್ತು ಅದು ನಾವು 10 ವರ್ಷಗಳ ನಾಸ್ಡಾಕ್ ಸಾಧನೆ ಹೊಂದಿದ್ದರಿಂದಾಗಿ ಶ್ಲೋಸ್\\u200cಬರ್ಗ್ ಹೇಳಿದರು, ಪೈಪರ್ ಸ್ಯಾಂಡ್ಲರ್\\u200cನ ಹಿರಿಯ ತಾಂತ್ರಿಕ ಸಂಶೋಧನಾ ವಿಶ್ಲೇಷಕ ಕ್ರೇಗ್ ಜಾನ್ಸನ್ ಶ್ಲೋಸ್\\u200cಬರ್ಗ್\\u200cನೊಂದಿಗೆ ಒಪ್ಪಿಕೊಂಡರು, ಷೇರುಗಳು ಇನ್ನೂ ಕೆಲವು ತೊಂದರೆಯನ್ನು ಸಹಿಸಿಕೊಳ್ಳಬಹುದು ಅವರು ನಿರ್ವಹಿಸಿದ್ದನ್ನು ಪುನರಾರಂಭಿಸುವ ಮೊದಲು ಅಖಂಡ ಜಾತ್ಯತೀತ ಬುಲ್ ಮಾರುಕಟ್ಟೆಯಾಗಿದೆ. ವ್ಯಾಪಾರ\",0\\nಕರೋನವೈರಸ್ ಕಾರ್ಯನಿರ್ವಾಹಕ ಬ್ರಸೆಲ್ಸ್ ರಾಯಿಟರ್ಸ್ ಮೇಲೆ ಈಗ ಯಾವುದೇ ಇಯು ದೇಶವು ಗಡಿ ತಪಾಸಣೆಗಳನ್ನು ಯೋಜಿಸಿಲ್ಲ. ಯಾವುದೇ ಯುರೋಪಿಯನ್ ಯೂನಿಯನ್ ದೇಶವು ಪ್ರಸ್ತುತ ಕರೋನವೈರಸ್ ಏಕಾಏಕಿ ಮುಕ್ತ ಪ್ರಯಾಣದ ವಲಯದೊಳಗೆ ಗಡಿ ನಿಯಂತ್ರಣಗಳನ್ನು ಪುನಃ ಸ್ಥಾಪಿಸುವ ಯೋಜನೆಯನ್ನು ಹೊಂದಿಲ್ಲ ಎಂದು ಕಾರ್ಯನಿರ್ವಾಹಕ ಯುರೋಪಿಯನ್ ಕಮಿಷನ್ ಗುರುವಾರ ಹೇಳಿದೆ ಸೆಬಿ ಗೇಬ್ರಿಯೆಲಾ ಬ್ಯಾ zy ೈನ್ಸ್ಕಾ ಒಲುಸ್ವರ್ಲ್ಡ್ ರಾಯಿಟರ್ಸ್ ಯುಎಸ್ ಆನ್\\u200cಲೈನ್ ವಿಶ್ವ ಸುದ್ದಿ 20200227T115854 0000 ವರದಿ ಮಾಡಿ,1\\nಆದ್ದರಿಂದ ಕ್ಸಿ ಜಿನ್\\u200cಪಿಂಗ್\\u200cನ ಚೀನಾ ಮತ್ತು ವ್ಲಾಡಿಮಿರ್ ಪುಟಿನ್ ರಷ್ಯಾದ ದೇಶಗಳಲ್ಲಿ ಸರ್ವಾಧಿಕಾರವು ಹೇಗೆ ಕಾರ್ಯನಿರ್ವಹಿಸುತ್ತದೆ ಹೌದು ಚೀನಾ ಸರ್ವಾಧಿಕಾರವಾಗಿದೆ ಎಂದು ಬ್ಲೂಮ್\\u200cಬರ್ಗ್ ಹೇಳಿಕೆಗೆ ಆಶ್ಚರ್ಯಚಕಿತರಾದರು ಎಂದು ಸ್ಯಾಂಡರ್ಸ್ ಹೇಳಿದ್ದಾರೆ. ಚೀನಾ ಸರ್ಕಾರವು ಪೊಲಿಟ್\\u200cಬ್ಯುರೊಗೆ ಸ್ಪಂದಿಸುತ್ತದೆ ಆದರೆ ಯಾರು ಪಾಲಿಟ್\\u200cಬ್ಯುರೊ ಎಂದು ಹೇಳಿದರು ಸ್ಪಂದಿಸುವ ಆದರೆ ಸರ್ವಾಧಿಕಾರಿಗಳು ದೇಶೀಯ ಘಟಕಗಳಿಗೆ ಇನ್ನೂ ಉತ್ತರಿಸುತ್ತಾರೆ ಚೀನಾ ಮತ್ತು ರಷ್ಯಾವನ್ನು ಹೋಲಿಸುವ ನಮ್ಮ ಹೊಸ ಪುಸ್ತಕ ನಾಗರಿಕರು ಮತ್ತು ಸರ್ವಾಧಿಕಾರಿ ಆಡಳಿತದಲ್ಲಿ ನಮ್ಮ ಕೊಡುಗೆದಾರರು ನಾಗರಿಕರು ತಮ್ಮ ಸರ್ವಾಧಿಕಾರಿ ಆಡಳಿತಗಾರರನ್ನು ಜವಾಬ್ದಾರಿಯುತವಾಗಿ ಹಿಡಿದಿಟ್ಟುಕೊಳ್ಳಬಹುದು ಮತ್ತು ಪ್ರಜಾಪ್ರಭುತ್ವಗಳಿಗಿಂತ ವಿಭಿನ್ನ ಕಾರ್ಯವಿಧಾನಗಳು ಕಾರ್ಯನಿರ್ವಹಿಸುತ್ತಿವೆ ಎಂದು ತೋರಿಸುತ್ತದೆ. ಚೀನಾದಲ್ಲಿ ಅಧಿಕಾರ ಮತ್ತು ರಷ್ಯಾ ಒಂದು ಗಾತ್ರವು ಎಲ್ಲರಿಗೂ ಹೊಂದಿಕೆಯಾಗುವುದಿಲ್ಲ ಎಲ್ಲಾ ನಿರಂಕುಶಾಧಿಕಾರಿಗಳು ಕ್ಸಿ ಜಿನ್\\u200cಪಿಂಗ್ ರಾಜಕೀಯ ಸ್ಥಿರತೆ ಮತ್ತು ವಿಶ್ವಾಸಾರ್ಹ ಮಾಹಿತಿ ಎರಡನ್ನೂ ಒದಗಿಸುವ ಕಾರ್ಯತಂತ್ರವನ್ನು ರೂಪಿಸುವಲ್ಲಿ ತೊಂದರೆ ಎದುರಿಸುತ್ತಾರೆ. ಈ ವ್ಯಾಪಾರ ವಹಿವಾಟುಗಳು ಚೀನಾ ರಷ್ಯಾ ಕ್ಯೂಬಾ ಮತ್ತು ಉತ್ತರ ಕೊರಿಯಾದಂತಹ ದೇಶಗಳು ಅನುಸರಿಸಿದ ಒಂದೇ ಒಂದು ಸರ್ವಾಧಿಕಾರಿ ಮಾದರಿ ಇಲ್ಲ,1\\nಇಟಲಿಯ ಸಿವಿಲ್ ಪ್ರೊಟೆಕ್ಷನ್ ಏಜೆನ್ಸಿಯ ಮುಖ್ಯಸ್ಥ ಏಂಜೆಲೊ ಬೊರೆಲ್ಲಿ ರೋಮ್ನಲ್ಲಿ ಇಟಲಿಯಲ್ಲಿ ಹೊಸ ಕರೋನವೈರಸ್ ಏಕಾಏಕಿ ಮಾಧ್ಯಮಕ್ಕೆ ನವೀಕರಣವನ್ನು ನೀಡಿದ್ದಾರೆ ಫೆಬ್ರವರಿ 24 2020 ರಾಯಿಟರ್ಸ್ ರೆಮೋ ಕ್ಯಾಸಿಲಿರೋಮ್ ರಾಯಿಟರ್ಸ್ ಇಟಲಿಯಲ್ಲಿ ಕರೋನವೈರಸ್ನಿಂದ ಇನ್ನೆರಡು ಜನರು ಸಾವನ್ನಪ್ಪಿದ್ದಾರೆ. ಇನ್ನೂ ಯುರೋಪಿನಲ್ಲಿ 14 ಕ್ಕೆ ಸಿವಿಲ್ ಪ್ರೊಟೆಕ್ಷನ್ ಏಜೆನ್ಸಿ ಗುರುವಾರ ಹೇಳಿಕೆಯಲ್ಲಿ ತಿಳಿಸಿದೆ. ಇತ್ತೀಚಿನ ಎರಡು ಸಾವುಗಳಿಗೆ ಕರೋನವೈರಸ್ ಕಾರಣ ಎಂದು ಅಧಿಕಾರಿಗಳು ಇನ್ನೂ ದೃ mation ೀಕರಣವನ್ನು ಹುಡುಕುತ್ತಿದ್ದಾರೆ ಎಂದು ಏಜೆನ್ಸಿ ಮುಖ್ಯಸ್ಥ ಏಂಜೆಲೊ ಬೊರೆಲ್ಲಿ ಈ ಹಿಂದೆ ಸುದ್ದಿಗಾರರಿಗೆ ತಿಳಿಸಿದ್ದಾರೆ. ದೃ confirmed ಪಡಿಸಿದ ಪ್ರಕರಣಗಳ ಸಂಖ್ಯೆ 528 ಕ್ಕೆ ಏರಿದೆ ಸುಮಾರು 420 ಬುಧವಾರ ಉತ್ತರ ಇಟಲಿಯ ಬಹುಪಾಲು ವರದಿಯನ್ನು ಕ್ರಿಸ್ಪಿಯನ್ ಬಾಲ್ಮರ್ ಅವರಿಂದ ಏಂಜೆಲೊ ಅಮಾಂಟೆ ಎಡಿಟಿಂಗ್ ವರದಿ ಮಾಡಿದೆ,0\\n\"ಕೊರೋನವೈರಸ್ ಸಾಂಕ್ರಾಮಿಕ ರೋಗವಾಗಿ ಪರಿಣಮಿಸುತ್ತದೆ ಎಂಬ ಭಯದಿಂದ ಉದ್ಭವಿಸಿದ ದುರ್ಬಲ ಜಾಗತಿಕ ಮನೋಭಾವವನ್ನು ಪ್ರತಿಧ್ವನಿಸುವ ಮತ್ತು ಮುಕ್ತಾಯದ ದಿನದಂದು ಸತತ ಐದನೇ ಅಧಿವೇಶನಕ್ಕೆ ಸೂಚ್ಯಂಕವು ಕೆಳಮುಖ ಪ್ರವೃತ್ತಿಯನ್ನು ಮುಂದುವರೆಸಿತು ಮತ್ತು ದೈನಂದಿನ ಪಟ್ಟಿಯಲ್ಲಿ ಹ್ಯಾಮರ್ ಮಾದರಿಯನ್ನು ಹೋಲುವ ಸಣ್ಣ ದೇಹದ ಕೆಂಪು ಮೇಣದಬತ್ತಿಯನ್ನು ರೂಪಿಸಿತು. ಕಳೆದ 55 ದಿನಗಳ ಬೆಲೆ 11536 ಮಟ್ಟಗಳ ಕನಿಷ್ಠ ಮಟ್ಟದಿಂದ ನಿಫ್ಟಿ ಹಿಮ್ಮೆಟ್ಟಿದಂತೆ ಕಂಡುಬರುವ ಕ್ರಿಯೆಯಿಂದ ಕೆಲವು ರೀತಿಯ ಇಳಿಜಾರಿನ ಚಾನಲ್ ಅನ್ನು ಚಾಕ್ ಮಾಡಿದಂತೆ ಕಂಡುಬರುತ್ತದೆ, ಆದ್ದರಿಂದ ಈ ಸೂಚ್ಯಂಕವು 11500 ಮಟ್ಟಕ್ಕಿಂತಲೂ ಹೆಚ್ಚಿರುವವರೆಗೂ ಧನಾತ್ಮಕ ಪಕ್ಷಪಾತದೊಂದಿಗೆ ಕೆಲವು ಪಕ್ಕದ ಬಲವರ್ಧನೆಯನ್ನು ನಿರೀಕ್ಷಿಸಬಹುದು ಕಳೆದ ಐದು ಸತತ ಅಧಿವೇಶನಗಳಲ್ಲಿ ನಿಫ್ಟಿ ಈಗಾಗಲೇ 12152 ರ ಗರಿಷ್ಠ ಮಟ್ಟದಿಂದ ಲಂಬವಾಗಿ ಕುಸಿದಿದೆ. ಮ Maz ಾರ್ ಮೊಹಮ್ಮದ್ ಮುಖ್ಯ ತಂತ್ರಜ್ಞ ತಾಂತ್ರಿಕ ಸಂಶೋಧನಾ ವ್ಯಾಪಾರ ಸಲಹಾ ಚಾರ್ಟ್ವ್ಯೂಂಡಿಯಾ ಮನಿ ಕಂಟ್ರೋಲ್ ಆಯ್ಕೆಗಳ ದತ್ತಾಂಶವನ್ನು ಹತ್ತಿರದ ಮುಷ್ಕರದಲ್ಲಿ ಚದುರಿಹೋಗಿದೆ, ಆದ್ದರಿಂದ ತಕ್ಷಣದ ವ್ಯಾಪ್ತಿಗೆ ಯಾವುದೇ ಅರ್ಥವನ್ನು ನೀಡುವುದಿಲ್ಲ ಚಂಚಲತೆ ನಿಫ್ಟಿ ಚಂದನ್ ತಪರಿಯಾ ವಿಕ್\\u200cಗೆ ವಿಶಾಲ ವ್ಯಾಪಾರ ಶ್ರೇಣಿ 11300 ರಿಂದ 12000 ವಲಯವಾಗಬಹುದು ಅಧ್ಯಕ್ಷ ವಿಶ್ಲೇಷಕ ಉತ್ಪನ್ನಗಳಾದ ಮೋತಿಲಾಲ್ ಓಸ್ವಾಲ್ ಫೈನಾನ್ಷಿಯಲ್ ಸರ್ವೀಸಸ್ ಸೂಚ್ಯಂಕವು 30187 ಕ್ಕೆ 0 40 ರಷ್ಟು ಕುಸಿದಿದೆ ಮತ್ತು ದೈನಂದಿನ ಪಟ್ಟಿಯಲ್ಲಿ ಹ್ಯಾಮರ್ ಕ್ಯಾಂಡಲ್ ಅನ್ನು ರೂಪಿಸಿದೆ ಎಂದು ತಿಳಿಸಿದೆ.\",0\\n\"95 ಶತಕೋಟಿ ಬಯೋಟೆಕ್ ಗಿಲ್ಯಾಡ್ ಸೈನ್ಸಸ್ COVID 19 ಗೆ ಚಿಕಿತ್ಸೆ ನೀಡುವ ಭರವಸೆಯ drug ಷಧಿಯನ್ನು ಪರೀಕ್ಷಿಸುವ ಪ್ರಯತ್ನವನ್ನು ಚುರುಕುಗೊಳಿಸುತ್ತಿದೆ. ಹರಡುವ ಕರೋನವೈರಸ್ ಏಕಾಏಕಿ ಉಂಟಾಗುವ ರೋಗವನ್ನು ಅಧ್ಯಯನಗಳು COVID 19 ರೋಗಿಗಳಲ್ಲಿ ಸುಮಾರು 1000 ರೋಗಿಗಳಲ್ಲಿ ಪ್ರಾಯೋಗಿಕ ಆಂಟಿವೈರಲ್ ation ಷಧಿ ರಿಮೆಡಿವೈರ್ನ ವಿವಿಧ ಪ್ರಮಾಣಗಳು ಮತ್ತು ಚಿಕಿತ್ಸಾ ಕೋರ್ಸ್\\u200cಗಳನ್ನು ನಿರ್ಣಯಿಸುತ್ತವೆ. ನ್ಯಾಷನಲ್ ಇನ್\\u200cಸ್ಟಿಟ್ಯೂಟ್ ಆಫ್ ಹೆಲ್ತ್\\u200cನ ಸಾಂಕ್ರಾಮಿಕ ರೋಗ ಘಟಕವು ಇತ್ತೀಚೆಗೆ ಯುಎಸ್\\u200cನಲ್ಲಿ ಸಿಒವಿಐಡಿ 19 ರೋಗಿಗಳೊಂದಿಗೆ ರೆಮ್\\u200cಡೆಸಿವಿರ್\\u200cನ ಪ್ರಯೋಗವನ್ನು ಪ್ರಾರಂಭಿಸಿತು. ಗಿಲ್ಯಾಡ್\\u200cನ ಪ್ರಾಥಮಿಕ ಗಮನವು ಸಿಒವಿಐಡಿ 19 ಗೆ ಸಂಭಾವ್ಯ ಚಿಕಿತ್ಸೆಯಾಗಿ ರೆಮ್\\u200cಡೆಸಿವಿರ್\\u200cನ ಸುರಕ್ಷತೆ ಮತ್ತು ಪರಿಣಾಮಕಾರಿತ್ವವನ್ನು ತ್ವರಿತವಾಗಿ ನಿರ್ಧರಿಸುವಲ್ಲಿ ಕೇಂದ್ರೀಕರಿಸಿದೆ ಮತ್ತು ಈ ಪೂರಕ ಶ್ರೇಣಿಯ ಅಧ್ಯಯನಗಳು ಸಹಾಯ ಮಾಡುತ್ತದೆ ಅಲ್ಪಾವಧಿಯಲ್ಲಿಯೇ drug ಷಧದ ಪ್ರೊಫೈಲ್\\u200cನಲ್ಲಿ ಜಾಗತಿಕವಾಗಿ ಹೆಚ್ಚು ವಿಸ್ತಾರವಾದ ದತ್ತಾಂಶವನ್ನು ನಮಗೆ ನೀಡಿ. ಮೆರ್ಡಾಡ್ ಪಾರ್ಸಿ ಗಿಲ್ಯಾಡ್\\u200cನ ಮುಖ್ಯ ವೈದ್ಯಕೀಯ ಅಧಿಕಾರಿ ಹೇಳಿಕೆಯಲ್ಲಿ ತಿಳಿಸಿದ್ದು, ಇದೀಗ ಒಂದೇ ಒಂದು drug ಷಧಿ ಇದೆ, ಅದು ನಿಜವಾದ ಪರಿಣಾಮಕಾರಿತ್ವವನ್ನು ಹೊಂದಿರಬಹುದು ಎಂದು ನಾವು ಭಾವಿಸುತ್ತೇವೆ ಮತ್ತು ಅದು ರೆಮೆಡೆಸಿವಿರ್ ಬ್ರೂಸ್ ವಿಶ್ವ ಆರೋಗ್ಯ ಸಂಸ್ಥೆಯ ಸಹಾಯಕ ಮಹಾನಿರ್ದೇಶಕ ಐಲ್ವರ್ಡ್ ಇತ್ತೀಚಿನ ಪತ್ರಿಕಾಗೋಷ್ಠಿಯಲ್ಲಿ ಸಿಎನ್ಎನ್ ವರದಿಯಲ್ಲಿ ಹೇಳಿದರು ಆವೃತ್ತಿ\",1\\n\"ಗುರುವಾರ ಬೆಳಿಗ್ಗೆ ಡಬ್ಲ್ಯುಪಿಪಿಯಲ್ಲಿನ ಷೇರುಗಳು ಕಲ್ಲಿನಂತೆ ಕುಸಿದವು, ಅದರ ಮೊದಲ ವರ್ಷದ ಯೋಜನೆಗಳು ವಿಶ್ಲೇಷಕರು ಏನು ಹುಡುಕುತ್ತಿವೆ ಎಂಬುದನ್ನು ವ್ಯಾಪಾರವು ಬಹಿರಂಗಪಡಿಸಿಲ್ಲ ಎಂದು ಜಾಹೀರಾತು ದೈತ್ಯ ಹೇಳಿದೆ, ಅದರ ಹೆಚ್ಚು ವೀಕ್ಷಿಸಿದ ಆದಾಯದ ಅಳತೆಯು ವೆಚ್ಚಗಳ ಮೂಲಕ ಹಾದುಹೋಗುವಿಕೆಯನ್ನು ತೆಗೆದುಹಾಕುತ್ತದೆ. 10 8 ಬಿಲಿಯನ್ ಇದರ ಮೇಲೆ ಅದು 982 ಮಿಲಿಯನ್ ತೆರಿಗೆಗೆ ಮುಂಚಿತವಾಗಿ ಲಾಭವನ್ನು ಗಳಿಸಿತು 22 ಡ್ರಾಪ್ ಷೇರುಗಳು ಗುರುವಾರ ಬೆಳಿಗ್ಗೆ ಒಂದು ಹಂತದಲ್ಲಿ 17 ಕ್ಕಿಂತಲೂ ಕಡಿಮೆಯಾಗದಂತೆ ಕುಸಿಯಿತು. ನಂತರ ಅವರು ಕೆಲವು ನೆಲವನ್ನು 14 ಕ್ಕೆ ಇಳಿಸಿದರು. ವರ್ಷದ ಕೊನೆಯ ನಾಲ್ಕು ತಿಂಗಳುಗಳು ಹೂಡಿಕೆದಾರರು ಡಬ್ಲ್ಯುಪಿಪಿಗಾಗಿ ಆಶಿಸಿದ್ದಕ್ಕಿಂತ ಕೆಟ್ಟ ಫಲಿತಾಂಶವು ಕರೋನವೈರಸ್ನ ಸಂಭವನೀಯ ಪರಿಣಾಮವನ್ನು ಗಣನೆಗೆ ತೆಗೆದುಕೊಳ್ಳುವ ಮೊದಲೇ 2020 ರಲ್ಲಿ ಆದಾಯವು ಸಮತಟ್ಟಾಗಿರುತ್ತದೆ ಎಂದು ಹೇಳಿದರು. ವೇಗವನ್ನು ಉಳಿಸಿಕೊಳ್ಳುವ ಸಾಮರ್ಥ್ಯವನ್ನು ಹೂಡಿಕೆದಾರರಿಗೆ ಮನವರಿಕೆ ಮಾಡಲು ಸಂಸ್ಥೆ ಉತ್ತಮವಾಗಿ ಮಾಡಬೇಕು ಕಳೆದ ತ್ರೈಮಾಸಿಕದಲ್ಲಿ ಎಲ್\\u200cಎಫ್\\u200cಎಲ್ ನಿವ್ವಳ ಮಾರಾಟದಂತೆಯೇ 1% ಕುಸಿತವನ್ನು ಸಂಸ್ಥೆಯು ಬಹಿರಂಗಪಡಿಸಿದ ನಂತರ ಡಬ್ಲ್ಯುಪಿಪಿ ಷೇರುಗಳು ಇಂದು ಕುಸಿದಿವೆ ಎಂದು ಸಿಎಮ್\\u200cಸಿ ಮಾರ್ಕೆಟ್ಸ್\\u200cನ ವಿಶ್ಲೇಷಕ ಡೇವಿಡ್ ಮ್ಯಾಡೆನ್ ಹೇಳಿದ್ದಾರೆ. ಹಿಂದಿನ ಮುನ್ಸೂಚನೆಗಳಿಗಿಂತ ಕಡಿಮೆಯಾಗುವ ವರ್ಷದಲ್ಲಿ ವಾರ್ಷಿಕ ಎಲ್\\u200cಎಫ್\\u200cಎಲ್ ನಿವ್ವಳ ಮಾರಾಟವು ಸಮತಟ್ಟಾಗಲಿದೆ ಎಂದು ಅವರು ಈಗ ನಿರೀಕ್ಷಿಸಿದ್ದಾರೆ. ಕಳೆದ ವರ್ಷ ಮೂರು ವರ್ಷಗಳ ವಹಿವಾಟು ಯೋಜನೆಯ ಮೊದಲನೆಯದು, ಇದನ್ನು ಸಂಸ್ಥಾಪಕ ಮತ್ತು ಮಾಜಿ ಮುಖ್ಯ ಕಾರ್ಯನಿರ್ವಾಹಕ ಸರ್ ಮಾರ್ಟಿನ್ ಸೊರೆಲ್ ತ್ಯಜಿಸಿದ ನಂತರ ಡಬ್ಲ್ಯುಪಿಪಿಗಳ ಹೊಸ ನಿರ್ವಹಣೆ ಪ್ರಾರಂಭಿಸಿತು. ಅವರು ವೇಶ್ಯೆಯೊಬ್ಬರಿಗೆ ಕಂಪನಿಯ ಹಣವನ್ನು ಖರ್ಚು ಮಾಡಿದ್ದಾರೆಯೇ ಎಂಬ ಹಗರಣ ಈ ವಾರದ ಆರಂಭದಲ್ಲಿ ಸರ್ ಮಾರ್ಟಿನ್ ಅವರು ತಮ್ಮ ಎರಡನೇ ಪತ್ನಿ ಕ್ರಿಸ್ಟಿಯಾನಾಗೆ ವಿಚ್ cing ೇದನ ನೀಡುವುದಾಗಿ ಘೋಷಿಸಿದರು ಹೂಡಿಕೆದಾರರ ನಿರಾಶೆಯ ಹೊರತಾಗಿಯೂ ಮುಖ್ಯ ಕಾರ್ಯನಿರ್ವಾಹಕ ಮಾರ್ಕ್ ರೀಡ್ ಫಲಿತಾಂಶಗಳಿಗೆ ಸಕಾರಾತ್ಮಕ ಭಾಗವನ್ನು ಕಂಡರು ನಮ್ಮ ಎಲ್ಲ ಸಹೋದ್ಯೋಗಿಗಳ ಕಠಿಣ ಪರಿಶ್ರಮಕ್ಕೆ ಧನ್ಯವಾದಗಳು ಅಲ್ಪಾವಧಿಯಲ್ಲಿಯೇ ಗಣನೀಯ ಪ್ರಗತಿಯನ್ನು ಸಾಧಿಸಿದೆ ಎಂದು ಅವರು ಹೇಳಿದರು, ತಂತ್ರಜ್ಞಾನದಿಂದ ನಡೆಸಲ್ಪಡುವ ನಮ್ಮ ಹೊಸ ಸೃಜನಶೀಲತೆಯ ಕೊಡುಗೆ ಗ್ರಾಹಕರೊಂದಿಗೆ ಪ್ರತಿಧ್ವನಿಸಿದೆ, ಏಕೆಂದರೆ ನಾವು ಉತ್ತಮ ಧಾರಣ ದರಗಳು ಮತ್ತು ಪ್ರಮುಖ ಗೆಲುವುಗಳನ್ನು ನೋಡಿದ್ದೇವೆ. ಮೊದಲ ಕ್ರಿಸ್ ಡಾಲಿ ಮುಖ್ಯ ಕಾರ್ಯನಿರ್ವಾಹಕರಿಗಿಂತ ದ್ವಿತೀಯಾರ್ಧವು ಉತ್ತಮವಾಗಿದೆ ಎಂದು ಅವರು ಹೇಳಿದರು. ಚಾರ್ಟರ್ಡ್ ಇನ್ಸ್ಟಿಟ್ಯೂಟ್ ಆಫ್ ಮಾರ್ಕೆಟಿಂಗ್ ಹೇಳಿದೆ, ಡಬ್ಲ್ಯುಪಿಪಿಗೆ ಅವಕಾಶವು ಮಹತ್ವದ್ದಾಗಿದೆ, ಅದರಲ್ಲೂ ವಿಶೇಷವಾಗಿ ಮಾರ್ಕೆಟಿಂಗ್ ಬಜೆಟ್ ಹೆಚ್ಚಾಗಿದೆ ಇತ್ತೀಚಿನ ಐಪಿಎ ಬೆಲ್\\u200cವೆಥರ್ ವರದಿಯ ಪ್ರಕಾರ ಅವರು ಜನವರಿ 2019 ರಿಂದ ಮೊದಲಿಗರು. ಆದರೆ ಇದರ ಲಾಭ ಪಡೆಯಲು ಉದ್ಯಮದಲ್ಲಿ ಕ್ರಿಯಾತ್ಮಕ ಬದಲಾವಣೆಗಳೊಂದಿಗೆ ವೇಗವನ್ನು ಉಳಿಸಿಕೊಳ್ಳುವ ಸಾಮರ್ಥ್ಯವನ್ನು ಹೂಡಿಕೆದಾರರಿಗೆ ಮನವರಿಕೆ ಮಾಡಲು ಸಂಸ್ಥೆ ಉತ್ತಮವಾಗಿ ಕಾರ್ಯನಿರ್ವಹಿಸಬೇಕು 2020 ದೃಷ್ಟಿಕೋನವು ಸಂಭಾವ್ಯ ಪರಿಣಾಮಗಳನ್ನು ಗಣನೆಗೆ ತೆಗೆದುಕೊಳ್ಳುವುದಿಲ್ಲ ಕರೋನವೈರಸ್ WPP ಹೇಳಿದರು\",0\\n\"ಆದರೆ ಟೆಕ್ ಪರಾಕ್ರಮದ ಈ ಪ್ರದರ್ಶನವು ಕ್ರೀಡಾಂಗಣಗಳಿಗೆ ಸೀಮಿತವಾಗಿಲ್ಲ. ಎಲ್ಲಾ ನಿಪ್ಪಾನ್ ಏರ್ವೇಸ್ ಎಎನ್ಎ ಜಪಾನ್\\u200cನ ಅತಿದೊಡ್ಡ ವಿಮಾನಯಾನವು ರಾಷ್ಟ್ರದ ವಿಮಾನ ನಿಲ್ದಾಣಗಳಲ್ಲಿ ಮತ್ತು ಟಾಯ್ಕೊದ ಶಾಪಿಂಗ್ ಕೇಂದ್ರಗಳು ಮತ್ತು ಪ್ರವಾಸಿ ಆಕರ್ಷಣೆಗಳಲ್ಲಿ ಬಳಸಬೇಕಾದ ವಿವಿಧ ಪ್ರಯಾಣ ಕೇಂದ್ರಿತ ತಂತ್ರಜ್ಞಾನಗಳನ್ನು ಅಭಿವೃದ್ಧಿಪಡಿಸುವಲ್ಲಿ ನಿರತವಾಗಿದೆ. ಈ ಬೇಸಿಗೆಯಲ್ಲಿ ವಿದೇಶಿ ಪ್ರವಾಸಿಗರ ಹೆಚ್ಚಳಕ್ಕೆ ಕಾರಣವಾಗುವ ಆಟಗಳು ಕರೋನವೈರಸ್\\u200cನಿಂದಾಗಿ ರದ್ದಾಗುವುದಿಲ್ಲವಾದ್ದರಿಂದ, ಜಪಾನ್\\u200cನ ವಿಮಾನ ನಿಲ್ದಾಣಗಳಲ್ಲಿನ ಎಲ್ಲಾ ಪ್ರಯಾಣಿಕರೊಂದಿಗೆ ಪರಿಣಾಮಕಾರಿಯಾಗಿ ಸಂವಹನ ನಡೆಸಲು ತನ್ನ ನೆಲದ ಸಿಬ್ಬಂದಿಗೆ ಹೆಚ್ಚಿನ ಪ್ರಯತ್ನಗಳು ಬೇಕಾಗುತ್ತವೆ ಎಂದು ಎಎನ್\\u200cಎ ಗುರುತಿಸಿದೆ. ಜಪಾನೀಸ್ ಅಥವಾ ಇಂಗ್ಲಿಷ್\\u200cನಲ್ಲಿ ಮಾರ್ಚ್ ಅಂತ್ಯದ ವೇಳೆಗೆ ಸಾಧನವು ಜಪಾನ್\\u200cನ ಎಲ್ಲಾ 50 ವಿಮಾನ ನಿಲ್ದಾಣಗಳಲ್ಲಿ ಎಎನ್\\u200cಎ ಸೇವೆ ಸಲ್ಲಿಸುತ್ತದೆ. ಎಎನ್\\u200cಎ ಸೇವೆ ಸಲ್ಲಿಸುತ್ತಿದ್ದರೆ ಪಾಕೆಟಾಕ್ ಉತ್ತಮವಾಗಿ ಕಾರ್ಯನಿರ್ವಹಿಸಿದರೆ ಎಎನ್\\u200cಎ ವಿಮಾನಗಳಲ್ಲಿ ಮತ್ತು ಜಪಾನ್ ಹೊರಗಿನ ವಿಮಾನ ನಿಲ್ದಾಣಗಳಲ್ಲಿ ಸಾಧನವನ್ನು ಕಾರ್ಯಗತಗೊಳಿಸಲು ಎಎನ್\\u200cಎ ಯೋಜಿಸಿದೆ. ಟೋಕಿಯೊದ ನರಿಟಾ ವಿಮಾನ ನಿಲ್ದಾಣದಲ್ಲಿ ಗಾಲಿಕುರ್ಚಿಗಳಿಗಾಗಿ ಪ್ರಯಾಣಿಕರ ವಿನಂತಿಗಳ ಸಂಖ್ಯೆ ಹೆಚ್ಚಾಗುತ್ತಿದೆ.\",1\\n\"REUTERS Hemanshi Kamani FilesMUMBAI ರಾಯಿಟರ್ಸ್ ಸ್ವೀಡನ್\\u200cನ ಐಕೆಇಎ ಅಲ್ಪಾವಧಿಯಲ್ಲಿ ಭಾರತದಲ್ಲಿ ಬೆಲೆಗಳನ್ನು ಹೆಚ್ಚಿಸಲು ಯೋಜಿಸುತ್ತಿಲ್ಲ, ಪೀಠೋಪಕರಣಗಳಂತಹ ಸರಕುಗಳ ಮೇಲೆ ಆಮದು ತೆರಿಗೆಯನ್ನು ಹೆಚ್ಚಿಸುವ ಭಾರತದ ಕ್ರಮವನ್ನು ಅನುಸರಿಸಿ ಕಂಪನಿಯ ಕಾರ್ಯನಿರ್ವಾಹಕ ಗುರುವಾರ ಐಕೆಇಎ ಭಾರತದಲ್ಲಿ ಮಾರಾಟ ಮಾಡುವ 75 ಸರಕುಗಳನ್ನು ಆಮದು ಮಾಡಿಕೊಳ್ಳುತ್ತದೆ ನಾವು ನಮ್ಮ ಬ್ರ್ಯಾಂಡ್ ಗ್ರಾಹಕರ ಕಡೆಗೆ ಬೆಲೆಗಳನ್ನು ಹೆಚ್ಚಿಸುವುದಿಲ್ಲ ಏಕೆಂದರೆ ನಾವು ಕೈಗೆಟುಕುವೆವು ಎಂದು ನಾವು ಹೇಳುತ್ತೇವೆ ಐಕೆಇಎ ಭಾರತದ ವ್ಯವಸ್ಥಾಪಕ ನಿರ್ದೇಶಕ ಭಾರತದ ಆರ್ಥಿಕ ರಾಜಧಾನಿ ಮುಂಬೈ ಭಾರತದ ಸಮಾವೇಶದಲ್ಲಿ ಈ ತಿಂಗಳು ಎಲೆಕ್ಟ್ರಾನಿಕ್ ವಸ್ತುಗಳ ಆಟಿಕೆಗಳಂತಹ ಸರಕುಗಳ ಆಮದಿನ ಮೇಲೆ ಹೆಚ್ಚಿನ ತೆರಿಗೆಯನ್ನು ಘೋಷಿಸಿದರು ಮತ್ತು ದೇಶೀಯ ಉತ್ಪಾದನೆಯನ್ನು ಹೆಚ್ಚಿಸುವ ಗುರಿಯನ್ನು ಹೊಂದಿರುವ ಪೀಠೋಪಕರಣಗಳು ಐಕೆಇಎ ಸುಂಕದ ಬಗ್ಗೆ ಭಾರತದೊಂದಿಗೆ ಮಾತುಕತೆ ನಡೆಸುತ್ತಿದೆ ಬೆಟ್ಜೆಲ್ ಸರ್ಕಾರ ಬಹಳ ಮುಕ್ತವಾಗಿದೆ ಎಂದು ಹೇಳಿದರು\",0\\nಕರೋನವೈರಸ್ ಭೀತಿ ಉಂಟಾಗುತ್ತಿದ್ದಂತೆ ಮಾರುಕಟ್ಟೆಗಳು ಭಯದಿಂದ ವಹಿವಾಟು ನಡೆಸುತ್ತಿವೆ. ಕರೋನವೈರಸ್ ಏಕಾಏಕಿ ಗಮನಾರ್ಹವಾಗಿ ಕಡಿಮೆ ಗಳಿಕೆ ಮತ್ತು ರಕ್ತಹೀನತೆಯ ಜಾಗತಿಕ ಬೆಳವಣಿಗೆಗೆ ಅನುವಾದಿಸುತ್ತದೆ ಎಂದು ಮಾರುಕಟ್ಟೆ ಅರ್ಥೈಸಿಕೊಳ್ಳುತ್ತಿದೆ. ಜಾಗತಿಕ ಪೂರೈಕೆ ಸರಪಳಿಗಳಿಗೆ ಲಾಭದಾಯಕವಾದ ಪ್ರಯಾಣದ ನಿರ್ಬಂಧಗಳು ಮದ್ಯದ ದೈತ್ಯವು ಪ್ರಮುಖ ಲಾಭದಲ್ಲಿ 5% ಕುಸಿತವನ್ನು ಕಂಡಿತು ಮತ್ತು ಕರೋನವೈರಸ್ ತನ್ನ ದೃಷ್ಟಿಕೋನವನ್ನು ನೋಯಿಸಿದೆ ಎಂದು ಎಚ್ಚರಿಸಿದೆ 7 ಬ್ರಿಟನ್ ವ್ಯಾಪಾರದ ಮೇಲೆ ಇಯು ಜೊತೆ ಘರ್ಷಣೆಯ ಹಾದಿಯಲ್ಲಿದೆ,0\\nಈ ವ್ಯಕ್ತಿ ತನ್ನ ತಾಯ್ನಾಡಿನ ವ್ಯಾಪಾರ ಪ್ರವಾಸದಿಂದ ಬಾಲ್ಟಿಕ್ ರಾಷ್ಟ್ರಕ್ಕೆ ಮರಳಿದ ಒಂದು ದಿನದ ನಂತರ ಗುರುವಾರ ಎಸ್ಟೋನಿಯಾ ತನ್ನ ಮೊದಲ ಕರೋನವೈರಸ್ ಪ್ರಕರಣವನ್ನು ವರದಿ ಮಾಡಿದೆ. ಇರಾನ್ ಟ್ಯಾಲಿನ್ ಉರ್ದುಪಾಯಿಂಟ್ ಪಾಕಿಸ್ತಾನ ಪಾಯಿಂಟ್ ನ್ಯೂಸ್ 27 ಫೆಬ್ರವರಿ 2020 ಎಸ್ಟೋನಿಯಾ ತನ್ನ ಮೊದಲ ಕರೋನವೈರಸ್ ಪ್ರಕರಣವನ್ನು ಗುರುವಾರ ವರದಿ ಮಾಡಿದೆ. ತನ್ನ ತಾಯ್ನಾಡಿನ ವ್ಯಾಪಾರ ಪ್ರವಾಸದಿಂದ ಬಾಲ್ಟಿಕ್ ರಾಷ್ಟ್ರ ಇರಾನ್\\u200cನ ಪ್ರಜೆಯಲ್ಲದ ಖಾಯಂ ನಿವಾಸಿ ಬುಧವಾರ ಸಂಜೆ ಎಸ್ಟೋನಿಯಾಗೆ ಬಂದರು ಎಂದು ಕಿಕ್ ಹೇಳಿದ್ದಾರೆ. ಲಾಟ್ವಿಯನ್ ರಾಜಧಾನಿಯಿಂದ ಬಸ್ ಮೂಲಕ ಟ್ಯಾಲಿನ್\\u200cಗೆ ಬಂದ ನಂತರ ಈ ವ್ಯಕ್ತಿ ಆರೋಗ್ಯ ಅಧಿಕಾರಿಗಳನ್ನು ಸಂಪರ್ಕಿಸಿದ್ದಾನೆ ಎಂದು ಸ್ಥಳೀಯ ಮಾಧ್ಯಮಗಳು ತಿಳಿಸಿವೆ. ಇಸ್ತಾಂಬುಲ್ ಇರಾನ್\\u200cನಿಂದ ಅವರು ಹಾರಾಟ ನಡೆಸಿದ ರಿಗಾ ಒಟ್ಟು 19 ಸಾವುಗಳನ್ನು ಘೋಷಿಸಿದೆ ಮತ್ತು ದೇಶದ ಉಪ ಆರೋಗ್ಯ ಸಚಿವ ಇರಾನ್ ಅವರ ಕರೋನವೈರಸ್ ಸಾವಿನ ಸಂಖ್ಯೆ ಸೇರಿದಂತೆ 130 ಕ್ಕೂ ಹೆಚ್ಚು ಸೋಂಕುಗಳು ಚೀನಾದ ನಂತರ ಅತಿ ಹೆಚ್ಚು ಎಂದು 2700 ಕ್ಕೂ ಹೆಚ್ಚು ಜನರು ಸಾವನ್ನಪ್ಪಿದ್ದಾರೆ,0\\nCOVID 19Fiizan Hashmi ಯಿಂದ ಮಕ್ಕಳನ್ನು ರಕ್ಷಿಸಲು ಜಪಾನ್\\u200cನ ಎಲ್ಲಾ ಶಾಲೆಗಳನ್ನು ತಾತ್ಕಾಲಿಕವಾಗಿ ಮುಚ್ಚುವಂತೆ ಅಬೆ ವಿನಂತಿಸಿದ್ದಾರೆ 4 ನಿಮಿಷಗಳ ಹಿಂದೆ Thu 27th February 2020 05 06 PM ಜಪಾನಿನ ಪ್ರಧಾನಿ ಶಿಂಜೊ ಅಬೆ ಗುರುವಾರ ಮಾರ್ಚ್ 2 ರಿಂದ ವಸಂತ ವಿರಾಮದವರೆಗೆ ದೇಶದ ಎಲ್ಲಾ ಶಾಲೆಗಳನ್ನು ಮುಚ್ಚುವಂತೆ ಸೂಚನೆ ನೀಡಿದ್ದಾರೆ. ಕೊರೊನಾವೈರಸ್ ಉಸಿರಾಟದ ಕಾಯಿಲೆಯ ಹರಡುವಿಕೆಯಿಂದ ಮಕ್ಕಳನ್ನು ರಕ್ಷಿಸಿ COVID 19MOSCOW ಉರ್ದುಪಾಯಿಂಟ್ ನ್ಯೂಸ್ ಸ್ಪುಟ್ನಿಕ್ 27 ಫೆಬ್ರವರಿ 2020 ಜಪಾನಿನ ಪ್ರಧಾನಿ ಶಿಂಜೊ ಅಬೆ ಗುರುವಾರ ದೇಶದ ಎಲ್ಲ ಶಾಲೆಗಳನ್ನು ಮಾರ್ಚ್ 2 ರಿಂದ ವಸಂತಕಾಲದ ವಿರಾಮದವರೆಗೆ ಮುಚ್ಚುವಂತೆ ಸೂಚನೆ ನೀಡಿದ್ದಾರೆ. ಕಾದಂಬರಿ ಕೊರೊನಾವೈರಸ್ ಉಸಿರಾಟದ ಕಾಯಿಲೆ COVID 19 ಮಕ್ಕಳ ಆರೋಗ್ಯ ಮತ್ತು ಸುರಕ್ಷತೆಯನ್ನು ಮೊದಲು ಇಡುವುದು ಮತ್ತು ಅನೇಕ ಮಕ್ಕಳು ಮತ್ತು ಶಿಕ್ಷಕರು ಪ್ರತಿದಿನ ಒಂದೇ ಸ್ಥಳದಲ್ಲಿ ಒಟ್ಟುಗೂಡಿಸುವುದರಿಂದ ಉಂಟಾಗುವ ಸೋಂಕಿನ ಅಪಾಯವನ್ನು ಪರಿಹರಿಸಲು ಪ್ರಾಥಮಿಕ ಕ್ರಮಗಳನ್ನು ತೆಗೆದುಕೊಳ್ಳುವ ದೃಷ್ಟಿಕೋನದಿಂದ ನಾನು ಎಲ್ಲರಿಗೂ ವಿನಂತಿಸುತ್ತೇನೆ ಪ್ರಾಥಮಿಕ ಕಿರಿಯ ಮತ್ತು ಪ್ರೌ schools ಶಾಲೆಗಳು ಮತ್ತು ವಿಶೇಷ ಅಗತ್ಯವಿರುವ ಶಾಲೆಗಳನ್ನು ಮಾರ್ಚ್ 2 ರಿಂದ ತಾತ್ಕಾಲಿಕವಾಗಿ ಮುಚ್ಚಲಾಗುತ್ತದೆ ಸ್ಪ್ರಿಂಗ್ ಬ್ರೇಕ್ ಅಬೆ ಎನ್\\u200cಎಚ್\\u200cಕೆ ಬ್ರಾಡ್\\u200cಕಾಸ್ಟರ್ ಪ್ರಸಾರ ಮಾಡಿದ ಕಾದಂಬರಿ ಕೊರೊನಾವೈರಸ್ ಪ್ರತಿಕ್ರಿಯೆ ಕೇಂದ್ರ ಕಚೇರಿಯೊಂದಕ್ಕೆ ತಿಳಿಸಿದರು. ಜಪಾನ್\\u200cನ ಉತ್ತರದ ದಿಕ್ಕಿನ ಹೊಕ್ಕೈಡೋ ಪ್ರಾಂತ್ಯದಲ್ಲಿ 10 ವರ್ಷದೊಳಗಿನ ಇಬ್ಬರು ಬಾಲಕರು ವೈರಸ್\\u200cಗೆ ಧನಾತ್ಮಕ ಪರೀಕ್ಷೆ ನಡೆಸಿದ ನಂತರ ಈ ಕ್ರಮವು ದೇಶದ ಒಟ್ಟು ಪ್ರಕರಣಗಳ ಸಂಖ್ಯೆಯನ್ನು ಹೊಂದಿದೆ ಈ ತಿಂಗಳ ಆರಂಭದಲ್ಲಿ ಯೊಕೊಹಾಮಾದಲ್ಲಿ ನಿರ್ಬಂಧಿಸಲಾದ ವೈರಸ್ ಪೀಡಿತ ಡೈಮಂಡ್ ಪ್ರಿನ್ಸೆಸ್ ಕ್ರೂಸ್ ಹಡಗಿನಿಂದ 705 ಅನ್ನು ಹೊರತುಪಡಿಸಿ 200 ಅನ್ನು ಈಗ ನಿಗ್ರಹಿಸಲಾಗಿದೆ ಎಂದು ಸ್ಥಳೀಯ ಅಧಿಕಾರಿಗಳನ್ನು ಉಲ್ಲೇಖಿಸಿ ಎನ್ಎಚ್ಕೆ ಪ್ರಸಾರ ಗುರುವಾರ ವರದಿ ಮಾಡಿದೆ,1\\n\"ವಿದೇಶಿ ಕಚೇರಿ ವಕ್ತಾರ ಆಯಿಷಾ ಫಾರೂಕಿ ತನ್ನ ಸಾಪ್ತಾಹಿಕ ಸುದ್ದಿಗೋಷ್ಠಿಯಲ್ಲಿ, ವೈರಸ್ ಹರಡುವಿಕೆಯನ್ನು ನಿರ್ವಹಿಸುವಲ್ಲಿ ಇರಾನಿನ ಅಧಿಕಾರಿಗಳ ಪ್ರಯತ್ನವನ್ನು ಪಾಕಿಸ್ತಾನ ಸಂಪೂರ್ಣವಾಗಿ ಬೆಂಬಲಿಸಿದೆ ಎಂದು ವಕ್ತಾರರು ಹೇಳಿದ್ದಾರೆ, ಆದರೆ ಯುಎಸ್ ಮತ್ತು ಭಾರತದ ನಡುವಿನ ರಕ್ಷಣಾ ಒಪ್ಪಂದಗಳ ಬಗ್ಗೆ ಪಾಕಿಸ್ತಾನವು ಕಳವಳವನ್ನು ಹೊಂದಿದೆ, ವಿಶೇಷವಾಗಿ ಅತ್ಯಾಧುನಿಕ ಶಸ್ತ್ರಾಸ್ತ್ರ ವ್ಯವಸ್ಥೆಯನ್ನು ಮಾರಾಟ ಮಾಡುವುದು ನವದೆಹಲಿ ಪಾಕಿಸ್ತಾನದ ಕಡೆಗೆ ಮಾತ್ರವಲ್ಲದೆ ಈ ಪ್ರದೇಶದ ಇತರ ದೇಶಗಳ ಬಗ್ಗೆಯೂ ಭಾರತದ ಆಕ್ರಮಣಕಾರಿ ವಿನ್ಯಾಸಗಳ ಬಗ್ಗೆ ನಾವು ಅನೇಕ ಬಾರಿ ಅಂತರರಾಷ್ಟ್ರೀಯ ಸಮುದಾಯವನ್ನು ಎಚ್ಚರಿಸಿದ್ದೇವೆ ಎಂದು ಅವರು ಹೇಳಿದರು. ಪೂರ್ವ ಗಡಿಯಿಂದ ಹೊರಹೊಮ್ಮುವ ರಾಜ್ಯ ಭಯೋತ್ಪಾದನೆಗೆ ಪಾಕಿಸ್ತಾನ ಬಲಿಯಾಗಿದೆ ಎಂದು ಅವರು ಹೇಳಿದರು. ಯುಎಸ್ ಮತ್ತು ಅಫಘಾನ್ ತಾಲಿಬಾನ್ ನಡುವೆ ಶನಿವಾರ ಮಾಡಿಕೊಳ್ಳಲಿರುವ ಶಾಂತಿ ಒಪ್ಪಂದವನ್ನು ಪಾಕಿಸ್ತಾನ ಸ್ವಾಗತಿಸುತ್ತಿದೆ ಎಂದು ಅಂತಾರಾಷ್ಟ್ರೀಯ ಸಮುದಾಯದ ಆಯಿಷಾ ಫಾರೂಕಿ ಹೇಳಿದ್ದಾರೆ.\",1\\n\"ತಜ್ಞರ ಶಿಫಾರಸಿನ ಆಧಾರದ ಮೇಲೆ ಮತ್ತು ಸಾರ್ವಜನಿಕ ಆರೋಗ್ಯವನ್ನು ಕಾಪಾಡಲು ನಾವು ಇತರ ಗ್ರೀಸ್ ದೇಶಗಳಲ್ಲಿ ಕಾರ್ನೀವಲ್ ಘಟನೆಗಳನ್ನು ರದ್ದುಗೊಳಿಸಲು ನಿರ್ಧರಿಸಿದ್ದೇವೆ ಏಕೆಂದರೆ ಇತರ ಯುರೋಪಿಯನ್ ರಾಷ್ಟ್ರಗಳು ಆರೋಗ್ಯ ಸಚಿವ ವಾಸಿಲಿಸ್ ಕಿಕಿಲಿಯಾಸ್ ಸುದ್ದಿಗೋಷ್ಠಿಯಲ್ಲಿ ಹೇಳಿದರು ಮೂರನೇ ಪ್ರಕರಣ ಅಥೆನ್ಸ್\\u200cನಲ್ಲಿದೆ, ಮಹಿಳೆಯೊಬ್ಬರು ಇಟಲಿಗೆ ಪ್ರಯಾಣ ಬೆಳೆಸಿದರು ವೈರಸ್ ಬಗ್ಗೆ ಸಚಿವಾಲಯದ ವಕ್ತಾರ ಸೋತಿರಿಸ್ ಸಿಯೋಡ್ರಾಸ್ ಸುದ್ದಿಗಾರರಿಗೆ ತಿಳಿಸಿದರು, ಸಾಮೂಹಿಕ ಏಕಾಏಕಿ ಸಂಭವಿಸಿದಲ್ಲಿ ಕೆಲವು ಸಾರ್ವಜನಿಕ ಪ್ರದೇಶಗಳನ್ನು ಸ್ಥಗಿತಗೊಳಿಸುವುದು ಮತ್ತು ಪ್ರಯಾಣ ನಿರ್ಬಂಧಗಳನ್ನು ಸಕ್ರಿಯಗೊಳಿಸಲಾಗುವುದು ಎಂದು ಗ್ರೀಕ್ ಸರ್ಕಾರ ಈ ವಾರ ಹೇಳಿದೆ. ಶಾಲೆಗಳ ಸ್ಥಳಗಳಂತಹ ಒಳಾಂಗಣ ಸಾರ್ವಜನಿಕ ಸಭೆ ಪ್ರದೇಶಗಳನ್ನು ತಾತ್ಕಾಲಿಕವಾಗಿ ಮುಚ್ಚುವುದನ್ನು ಸಹ ಈ ತೀರ್ಪು ಮುನ್ಸೂಚಿಸುತ್ತದೆ. ಪೂಜಾ ಚಿತ್ರಮಂದಿರಗಳ ಕ್ರೀಡಾ ಸಭಾಂಗಣಗಳು ಮತ್ತು ವ್ಯವಹಾರಗಳು ಸಾರ್ವಜನಿಕ ಆರೋಗ್ಯ ಸರ್ಕಾರದ ವಕ್ತಾರ ಸ್ಟೆಲಿಯೊಸ್ ಪೆಟ್ಸಾಸ್ ಸುದ್ದಿಗಾರರಿಗೆ ತಿಳಿಸಿದರು\",0\\nಸಿಂಗಾಪುರ್ ದಿ ಬ್ಯುಸಿನೆಸ್ ಟೈಮ್ಸ್ ಎಸ್\\u200cಪಿಹೆಚ್ ರೀಟ್ ತನ್ನ ಬಾಡಿಗೆದಾರರಿಗೆ ವೈಯಕ್ತಿಕ ಬಾಡಿಗೆದಾರರ ಸಂದರ್ಭಗಳಿಗೆ ಅನುಗುಣವಾಗಿ ಸಹಾಯ ಪ್ಯಾಕೇಜ್\\u200cಗಳ ರೂಪದಲ್ಲಿ ಕೊರೊನಾವೈರಸ್ ಏಕಾಏಕಿ ಹವಾಮಾನವನ್ನು ಹೆಚ್ಚಿಸಲು ಹೆಚ್ಚುವರಿ ಸಹಾಯವನ್ನು ನೀಡಲಿದೆ ಎಂದು ಗುರುವಾರ ಫೆಬ್ರವರಿ 26 ರಂದು ರಿಯಲ್ ಎಸ್ಟೇಟ್ ಇನ್ವೆಸ್ಟ್ಮೆಂಟ್ ಟ್ರಸ್ಟ್ ರೀಟ್ ತನ್ನ ಬಾಡಿಗೆದಾರರನ್ನು ತೊಡಗಿಸಿಕೊಳ್ಳಲು ಯೋಜಿಸಿದೆ ವಿವಿಧ ವ್ಯಾಪಾರ ಪ್ರಕಾರಗಳನ್ನು ಹೊಂದಿರುವ ಬಾಡಿಗೆದಾರರು ವಿಭಿನ್ನ ಆಪರೇಟಿಂಗ್ ಮೆಟ್ರಿಕ್\\u200cಗಳನ್ನು ಹೊಂದಿರುವುದರಿಂದ ಕೋವಿಡ್ 19 ರ ಪ್ರಕಾರ ಮತ್ತು ಪ್ಯಾಕೇಜ್\\u200cಗಳನ್ನು ಹೊಂದಿಸಿ ಎಂದು ಎಸ್\\u200cಪಿಹೆಚ್ ರೀಟ್ ಸಿಇಒ ಸುಸಾನ್ ಲೆಂಗ್ ಹೇಳಿದರು. ಬಜೆಟ್ 2020 ರಲ್ಲಿ ಘೋಷಿಸಿದ 15 ಪ್ರತಿಶತದಷ್ಟು ಆಸ್ತಿ ತೆರಿಗೆ ರಿಯಾಯಿತಿಯ ಮೇಲೆ ಪರಿಹಾರ ಪ್ಯಾಕೇಜುಗಳು ಎಸ್\\u200cಪಿಹೆಚ್ ರೀಟ್ ಯೋಜಿಸಿದೆ ಅರ್ಹತಾ ಬಾಡಿಗೆದಾರರಿಗೆ ಹಾದುಹೋಗು ಎಸ್\\u200cಪಿಹೆಚ್ ರೀಟ್\\u200cನ ಅಡಿಯಲ್ಲಿರುವ ಮಾಲ್\\u200cಗಳು ಪ್ರಮಾಣಿತ ಗಂಟೆಗಳಲ್ಲಿ ಕಾರ್ಯನಿರ್ವಹಿಸುವುದನ್ನು ಮುಂದುವರಿಸುತ್ತವೆ ಆದರೆ ಬಾಡಿಗೆದಾರರಿಗೆ ಸಿಬ್ಬಂದಿ ವೆಚ್ಚವನ್ನು ಕಡಿಮೆ ಮಾಡಲು ಮತ್ತು ಮಾನವಶಕ್ತಿ ಯೋಜನೆಯಲ್ಲಿ ಸಹಾಯವನ್ನು ಕಡಿಮೆ ಮಾಡಲು ಸಮಯವನ್ನು ಕಡಿಮೆ ಮಾಡಲು ಅನುಮತಿಸಲಾಗುವುದು ಎಸ್\\u200cಪಿಹೆಚ್ ರೀಟ್\\u200cನ ವ್ಯವಸ್ಥಾಪಕರು ಸ್ವಚ್ cleaning ಗೊಳಿಸುವಿಕೆ ಮತ್ತು ತೀವ್ರಗೊಳಿಸುವಂತಹ ಮುನ್ನೆಚ್ಚರಿಕೆ ಕ್ರಮಗಳನ್ನು ಜಾರಿಗೆ ತಂದಿದ್ದಾರೆ. ಅದರ ಮಾಲ್\\u200cಗಳನ್ನು ಸೋಂಕುರಹಿತಗೊಳಿಸುವುದು ವಿಶೇಷವಾಗಿ ಹೆಚ್ಚಿನ ಮಾನವ ಸಂಚಾರ ಸಂಪರ್ಕ ಕೇಂದ್ರಗಳಾದ ಟಾಯ್ಲೆಟ್ ಲಿಫ್ಟ್\\u200cಗಳಲ್ಲಿ ಬಿನ್\\u200cಗಳನ್ನು ನಿರಾಕರಿಸುತ್ತದೆ d ಕೈ ಹಳಿಗಳು,1\\n\"ಕಳೆದ ಒಂದು ತಿಂಗಳಲ್ಲಿ ಭಾರತದಲ್ಲಿ ನವದೆಹಲಿ ಚಿಕನ್ ಮಾರಾಟವು ಶೇಕಡಾ 50 ಕ್ಕಿಂತಲೂ ಕಡಿಮೆಯಾಗಿದೆ ಮತ್ತು ಬೆಲೆಗಳು ಶೇಕಡಾ 70 ರಷ್ಟು ಇಳಿಕೆಯಾಗಿವೆ ಎಂದು ಸಾಮಾಜಿಕ ಮಾಧ್ಯಮಗಳಲ್ಲಿ ulation ಹಾಪೋಹಗಳು ಹರಡಿವೆ. ವ್ಯವಸ್ಥಾಪಕ ನಿರ್ದೇಶಕ ಬಿ.ಎಸ್. ಯಾದವ್, ಅದರ ಕೋಳಿ ತೋಳು ಗೋದ್ರೆಜ್ ಟೈಸನ್ ಫುಡ್ಸ್ ಸಹ ವಾರದಲ್ಲಿ 600000 ಪಕ್ಷಿಗಳಿಂದ ಕಳೆದ ಒಂದು ತಿಂಗಳಲ್ಲಿ ಮಾರಾಟವು ಶೇಕಡಾ 40 ರಷ್ಟು ತೀವ್ರವಾಗಿ ಕುಸಿದಿದೆ ಎಂದು ಅವರು ಹೇಳಿದರು, ಆದರೆ ಒಮ್ಮೆ ವದಂತಿಗಳು ಕಡಿಮೆಯಾಗಿ ಮುಂದಿನ 2 3 ರಲ್ಲಿ ಬಳಕೆ ಹೆಚ್ಚಾಗುತ್ತದೆ ತಿಂಗಳುಗಳಲ್ಲಿ ದೇಶದಲ್ಲಿ ಕೋಳಿ ಕೊರತೆ ಉಂಟಾಗುತ್ತದೆ, ಭಾರತದಲ್ಲಿ ಚಿಕನ್ ಸುರಕ್ಷಿತವಾಗಿದೆ ಎಂದು ಅವರು ಗಮನಿಸಿದರು ಆದರೆ ಕೋಳಿಯಿಂದ ಕರೋನವೈರಸ್ ಹರಡುವ ವದಂತಿಗಳು ನಮ್ಮ ದೇಶದಲ್ಲಿ ಕೇವಲ ಒಂದು ತಿಂಗಳಲ್ಲಿ 50 ಪ್ರತಿಶತದಷ್ಟು ಬೇಡಿಕೆಯನ್ನು ತೀವ್ರವಾಗಿ ಹೆಚ್ಚಿಸಿವೆ ಮತ್ತು ಮಾಜಿ ಜಮೀನಿನಲ್ಲಿ ಗೇಟ್ ಬೆಲೆಗಳು ಸಹ ಶೇಕಡಾ 70 ರಷ್ಟು ಕುಸಿದಿವೆ ಎಂದು ಯಾದವ್ ಸುದ್ದಿಗಾರರಿಗೆ ತಿಳಿಸಿದರು. ದೇಶಾದ್ಯಂತ ವಾರಕ್ಕೆ 75 ಪಕ್ಷಿಗಳಿಂದ ಕೋಳಿ ಮಾರಾಟವು ವಾರಕ್ಕೆ 35 ಮಿಲಿಯನ್ ಪಕ್ಷಿಗಳಿಗೆ ಇಳಿದಿದೆ, ಆದರೆ ಮಾಜಿ ಫಾರ್ಮ್ ಗೇಟ್ ಬೆಲೆಗಳು ಕಳೆದ ಒಂದು ತಿಂಗಳಲ್ಲಿ ಪ್ರತಿ ಕೆಜಿಗೆ 100 ರೂ.ನಿಂದ 70 ಪ್ರತಿಶತದಷ್ಟು ಇಳಿದು ಕೆ.ಜಿ.ಗೆ 35 ರೂ.ಗೆ ಇಳಿದಿದ್ದರೂ ಉತ್ಪಾದನಾ ವೆಚ್ಚ ಪ್ರತಿ ಕೆ.ಜಿ.ಗೆ 75 ರೂ.\",0\\nಭಾರತದ ದೇಶೀಯ ಅನಿಲ ಬೇಡಿಕೆಯು ಪ್ರತಿಫಲನ ಹಂತದಲ್ಲಿದೆ ಮತ್ತು ಮುಂದಿನ ಐದು ವರ್ಷಗಳಲ್ಲಿ ಶೇಕಡಾ 66 ರಷ್ಟು ಪರಿಮಾಣದ ಬೆಳವಣಿಗೆಯನ್ನು ಕಾಣುವ ನಿರೀಕ್ಷೆಯಿದೆ. ಮುಖ್ಯವಾಗಿ ವರದಿಯ ಪ್ರಕಾರ ನಿರಂತರ ದುರ್ಬಲ ಎಲ್\\u200cಎನ್\\u200cಜಿ ಬೆಲೆಗಳಿಂದ ಪ್ರೇರಿತವಾಗಿದೆ. ಚಿಲ್ಲರೆ ವ್ಯಾಪಾರದಿಂದ 52 ಎಂಎಂಸಿಎಮ್\\u200cಡಿ ಹೆಚ್ಚುವರಿ ಬೇಡಿಕೆ ಬರುತ್ತದೆ ಕೈಗಾರಿಕೆಗಳಿಗೆ ಮತ್ತು ಮನೆಗಳಿಗೆ ಸಿಎನ್\\u200cಜಿ ಮತ್ತು ನೈಸರ್ಗಿಕ ಅನಿಲವನ್ನು ಕೈಗಾರಿಕೆಗಳಿಗೆ ಮತ್ತು ಮನೆಗಳಿಗೆ ಪೈಪ್ ಮಾಡಲಾಗಿದೆ ಮತ್ತು ದೇಶೀಯ ಅನಿಲ ಬೇಡಿಕೆಯು ಉಬ್ಬರವಿಳಿತದ ಹಂತದಲ್ಲಿದೆ ಮತ್ತು ಜಾಗತಿಕ ಪೂರೈಕೆಯಿಂದಾಗಿ ನಿರಂತರ ದುರ್ಬಲ ಎಲ್\\u200cಎನ್\\u200cಜಿ ಬೆಲೆಗಳ ವಾತಾವರಣವನ್ನು ನೀಡಿ ಮುಂದಿನ ಐದು ವರ್ಷಗಳಲ್ಲಿ ಶೇಕಡಾ 66 ರಷ್ಟು ಪರಿಮಾಣದ ಬೆಳವಣಿಗೆ ಅಥವಾ 102 ಎಂಎಂಸಿಎಂಡಿ ನಿರೀಕ್ಷಿಸಲಾಗಿದೆ. ಕರೋನವೈರಸ್ ಏಕಾಏಕಿ ಉಲ್ಬಣಗೊಂಡಿರುವ ಚೀನಾದಿಂದ ಹೊಳಪು ಮತ್ತು ಮ್ಯೂಟ್ ಬೇಡಿಕೆ 2020 2 ರ ಕ್ಯಾಲೆಂಡರ್ ವರ್ಷದಲ್ಲಿ 47 ಮಿಲಿಯನ್ ಟನ್ ಹೊಸ ಎಲ್ಎನ್ಜಿ ಪೂರೈಕೆ ಸೇರ್ಪಡೆಯಿಂದಾಗಿ ಮುಂದಿನ 2 3 ವರ್ಷಗಳಲ್ಲಿ ಎಲ್ಎನ್ಜಿ ಬೆಲೆಗಳು ದುರ್ಬಲವಾಗಿರುತ್ತವೆ ಎಂದು ನಾವು ನಿರೀಕ್ಷಿಸುತ್ತೇವೆ ಮತ್ತು ಚೀನಾವನ್ನು ನಿಗ್ರಹಿಸಿದೆ ಹೆಚ್ಚುತ್ತಿರುವ ಸ್ಥಳೀಯ ಅನಿಲ ಉತ್ಪಾದನೆ ಮತ್ತು 104 ಎಂಎಂಸಿಎಂಡಿ ರಷ್ಯಾವನ್ನು ಚೀನಾ ಗ್ಯಾಸ್ ಪೈಪ್\\u200cಲೈನ್\\u200cಗೆ ನಿಯೋಜಿಸುವುದರ ಮೇಲೆ ಎಲ್\\u200cಎನ್\\u200cಜಿ ಬೇಡಿಕೆಯ ಬೆಳವಣಿಗೆ ಅದು ಹೆಚ್ಚುವರಿ ಬೇಡಿಕೆಯ ಎಲಾರಾ ಸೆಕ್ಯುರಿಟೀಸ್\\u200cನ ಅಂದಾಜಿನ ವಿಘಟನೆಯನ್ನು ನೀಡುತ್ತದೆ ಕೈಗಾರಿಕಾ ಸಿಜಿಡಿ 24 ಎಂಎಂಸಿಎಂಡಿ ಅನಿಲವನ್ನು ಮತ್ತು ಕೈಗಾರಿಕಾವಲ್ಲದ ಸಿಜಿಡಿ ಸಿಎನ್\\u200cಜಿ ಮನೆಯ ಮತ್ತು ವಾಣಿಜ್ಯ ಪೈಪ್ಡ್ ಅನಿಲದಿಂದ 28 ಎಂಎಂಸಿಎಂಡಿ ಸೇವಿಸುವ ಸಾಧ್ಯತೆಯಿದೆ ಎಂದು ಹೇಳಿದರು.,0\\n\"ವಾಲ್ ಸ್ಟ್ರೀಟ್\\u200cನಲ್ಲಿ ಗುರುವಾರ ತೆರೆದಿದ್ದ ಡೌ ಜೋನ್ಸ್ ಕೈಗಾರಿಕಾ ಸರಾಸರಿಗೆ ನೀವು ಎಸ್ ಸ್ಟಾಕ್ ಫ್ಯೂಚರ್\\u200cಗಳು ಸುಮಾರು 300 ಪಾಯಿಂಟ್\\u200cಗಳ ನಷ್ಟವನ್ನು ಸೂಚಿಸುತ್ತಿದ್ದೀರಿ, ಸಿಡಿಸಿ ಅಪರಿಚಿತ ಮೂಲದ ದಕ್ಷಿಣ ಕೊರಿಯಾದ ಮೊದಲ ನೀವು ಎಸ್ ಕರೋನವೈರಸ್ ಪ್ರಕರಣವನ್ನು 1766 ರ ಒಟ್ಟು ಕರೋನವೈರಸ್ ಪ್ರಕರಣಗಳೊಂದಿಗೆ 505 ಹೊಸ ಪ್ರಕರಣಗಳನ್ನು ವರದಿ ಮಾಡಿದೆ. ಚೀನಾದಲ್ಲಿ ವರದಿಯಾದ 433 ಹೊಸ ಪ್ರಕರಣಗಳನ್ನು ಮೀರಿಸಿದೆ ಎಂದು ಅಧ್ಯಕ್ಷ ಡೊನಾಲ್ಡ್ ಟ್ರಂಪ್ ಬುಧವಾರ ರಾತ್ರಿ ಶ್ವೇತಭವನದ ಸುದ್ದಿಗೋಷ್ಠಿಯಲ್ಲಿ ಈ ಘೋಷಣೆ ಮಾಡಿದ್ದಾರೆ, ಅಮೆರಿಕದ ಮತ್ತೊಂದು ಪ್ರಮುಖ ಕಂಪನಿ ಮೈಕ್ರೋಸಾಫ್ಟ್ ಕರೋನವೈರಸ್ ಪ್ರಭಾವದ ಬಗ್ಗೆ ಎಚ್ಚರಿಕೆ ನೀಡಿದ್ದರಿಂದ ಪೂರೈಕೆಯಿಂದಾಗಿ ತನ್ನ ಪಿಸಿ ವಿಭಾಗಕ್ಕೆ ಪೂರ್ವ ಮಾರ್ಗದರ್ಶನ ನೀಡುವ ನಿರೀಕ್ಷೆಯಿಲ್ಲ ಎಂದು ಹೇಳಿದ್ದಾರೆ. ಸರಪಳಿ ಅಡೆತಡೆಗಳು ಶನಿವಾರದ ದಕ್ಷಿಣ ಕೆರೊಲಿನಾ ಡೆಮಾಕ್ರಟಿಕ್ ಅಧ್ಯಕ್ಷೀಯ ಪ್ರಾಥಮಿಕ ಹಾಲಿ ಪ್ರತಿನಿಧಿ ನಾಯಕ ಸೆನ್ ಬರ್ನಿ ಸ್ಯಾಂಡರ್ಸ್ ಇಬ್ಬರೂ ಸಿಲಿಕಾನ್ ವ್ಯಾಲಿ ಕಾರ್ಮಿಕರ ಬೆಂಬಲವನ್ನು ಪಡೆಯಲು ಯೋಜಿಸಿದ್ದಾರೆ ಮತ್ತು ಕ್ಯಾಲಿಫೋರ್ನಿಯಾದ ಟೆಕ್ ಉಬ್ಬಿಕೊಂಡಿರುವ ವಸತಿ ಬಿಕ್ಕಟ್ಟಿನಿಂದ ಗಾಯಗೊಂಡವರು ಮಾಜಿ ಉಪಾಧ್ಯಕ್ಷ ಜೋ ಬಿಡನ್ ಶನಿವಾರ ದಕ್ಷಿಣ ಕೆರೊಲಿನಾವನ್ನು ನೋಡುತ್ತಿದ್ದಾರೆ ಅವರ ಹೋರಾಟದ ಅಭಿಯಾನವನ್ನು ಪುನರುಜ್ಜೀವನಗೊಳಿಸಲು ಸೂಪರ್ ಮಂಗಳವಾರದ ಪ್ರಾಥಮಿಕ ಮತ್ತು ಸ್ಪರ್ಧೆಗಳು\",0\\n'"
      ]
     },
     "execution_count": 176,
     "metadata": {},
     "output_type": "execute_result"
    }
   ],
   "source": [
    "data['text'].iloc[1]"
   ]
  },
  {
   "cell_type": "code",
   "execution_count": 177,
   "id": "b9ec30e3-ae18-43df-8d9a-bc775408234c",
   "metadata": {},
   "outputs": [],
   "source": [
    "def extract_kannada_text(text):\n",
    "    # Regular expression pattern to match Kannada characters and newline\n",
    "    kannada_pattern = re.compile(r'[\\u0C80-\\u0CFF\\s\\n]+')\n",
    "    # Find all matches of Kannada text in the input text\n",
    "    kannada_matches = kannada_pattern.findall(text)\n",
    "    # Filter out empty strings, whitespace characters, and newline characters\n",
    "    kannada_matches = [match.strip() for match in kannada_matches if match.strip() != '\\n']\n",
    "    # Join the matches to form the extracted Kannada text\n",
    "    kannada_text = ' '.join(kannada_matches)\n",
    "    # Remove extra spaces\n",
    "    kannada_text = ' '.join(kannada_text.split())\n",
    "    return kannada_text"
   ]
  },
  {
   "cell_type": "code",
   "execution_count": 178,
   "id": "76d681c2-98d8-4735-84c6-448fa521a9b7",
   "metadata": {
    "scrolled": true
   },
   "outputs": [
    {
     "data": {
      "text/plain": [
       "'ಮರೋಲಾ ಫಿಲಿಪೈನ್ಸ್ ಹೌಸ್ ಅಲ್ಪಸಂಖ್ಯಾತ ಮುಖಂಡ ಬಿಯೆನ್ವೆನಿಡೋ ಅಬಾಂಟೆ ಜೂನಿಯರ್ ಅವರು ಯುನೈಟೆಡ್ ಅರಬ್ ಎಮಿರೇಟ್ಸ್ ಯುಎಇಯ ವಿಮಾನ ನಿಲ್ದಾಣವೊಂದರಲ್ಲಿ ಸೌದಿ ಅರೇಬಿಯಾಕ್ಕೆ ತೆರಳುವ ವಿಮಾನವನ್ನು ಹತ್ತುವುದನ್ನು ನಿರ್ಬಂಧಿಸಲಾಗಿದೆ ಕರೋನವೈರಸ್ ಕಾಯಿಲೆಯ ಬೆದರಿಕೆ ಮಧ್ಯೆ ಪ್ರಯಾಣ ನಿಷೇಧ ಹೇರಲಾಗಿದೆ ಇಲಾಖೆಯನ್ನು ಸ್ಥಾಪಿಸುವ ಉದ್ದೇಶಿತ ಮಸೂದೆಯ ಬಗ್ಗೆ ಚರ್ಚಿಸಲು ಮತ್ತು ಸಮಾಲೋಚನೆ ನಡೆಸಲು ಅಲ್ಲಿನ ಸಾಗರೋತ್ತರ ಫಿಲಿಪಿನೋ ಕಾರ್ಮಿಕರ ಗಳ ಆಹ್ವಾನದ ನಂತರ ಅಧಿಕೃತ ಪ್ರವಾಸ ವಿಮಾನಯಾನಕ್ಕೆ ಹತ್ತಲು ನಮಗೆ ಅವಕಾಶವಿರಲಿಲ್ಲ ಏಕೆಂದರೆ ಅವರು ತಡೆಯಲು ಸೌದಿ ಸರ್ಕಾರಕ್ಕೆ ಸಲಹೆ ಪಡೆದರು ರ ಕಾರಣದಿಂದಾಗಿ ಪ್ರವಾಸಿಗರು ಮತ್ತು ಸಂದರ್ಶಕರು ಗೆ ಪಠ್ಯ ಸಂದೇಶದಲ್ಲಿ ಅಬಾಂಟೆ ಗುರುವಾರ ರಾತ್ರಿಯ ಹೊತ್ತಿಗೆ ಮನಿಲಾ ಸಮಯದ ಪ್ರಕಾರ ಯುಎಇ ವೀಸಾವನ್ನು ಪಡೆಯಲು ಫಿಲಿಪೈನ್ ಕಾನ್ಸುಲೇಟ್ ಸಹಾಯ ಮಾಡಿದ ನಂತರ ತಾನು ಇನ್ನೂ ದುಬೈನಲ್ಲಿದ್ದೇನೆ ಎಂದು ಅಬಾಂಟೆ ಹೇಳಿದ್ದಾರೆ ಜೆಡ್ಡಾ ಸೌದಿ ಅರೇಬಿಯಾ ಇಂದು ನಿಷೇಧವನ್ನು ತೆಗೆದುಹಾಕಲು ನಾವು ಮುಂದುವರಿಯಬಹುದು ಏಕೆಂದರೆ ನಾನು ಪ್ರವಾಸಿಗನಲ್ಲ ಆದರೆ ನಮ್ಮ ಪ್ರೀತಿಯ ಅಧಿಕಾರಿ ಸೌದಿ ಅರೇಬಿಯಾದ ಕೆಎಸ್ಎ ಕಿಂಗ್ಡಮ್ನಲ್ಲಿ ನಮ್ಮ ಗಳೊಂದಿಗೆ ಮಾತನಾಡಲು ಅಬಾಂಟೆ ಹೇಳಿದರು ವೆಡ್ಬಷ್ ಸೆಕ್ಯುರಿಟೀಸ್ ಬುಕಿಂಗ್ ಹೋಲ್ಡಿಂಗ್ಸ್ನಲ್ಲಿನ ಬೆಲೆ ಗುರಿಯನ್ನು ಕಡಿಮೆ ಮಾಡುತ್ತದೆ ನಾಸ್ಡಾಕ್ ಬಿಕೆಎನ್ಜಿ ಕಂಪನಿಯ ಕರೋನವೈರಸ್ ಪ್ರಭಾವಿತ ಮಾರ್ಗದರ್ಶನ ನವೀಕರಣಕ್ಕಾಗಿ ನಿನ್ನೆ ಹೊಂದಿಸಲು ನಾವು ನಮ್ಮ ನ್ಯೂಟ್ರಾಲ್ ರೇಟಿಂಗ್ ಅನ್ನು ಕಾಯ್ದುಕೊಳ್ಳುತ್ತಿದ್ದೇವೆ ಮತ್ತು ನಮ್ಮ ಬೆಲೆ ಗುರಿಯನ್ನು ಕ್ಕೆ ಇಳಿಸುತ್ತಿದ್ದೇವೆ ಅದು ಅನ್ನು ಆಧರಿಸಿದೆ ನಮ್ಮ ಆಶಾದಾಯಕವಾಗಿ ಖಿನ್ನತೆಗೆ ಒಳಗಾದ ಇಪಿಎಸ್ ಅಂದಾಜು ಅಥವಾ ನಮ್ಮ ಸಂಖ್ಯೆ ಆದಾಗ್ಯೂ ಇಲ್ಲಿಂದ ಸಾಧಾರಣ ತಲೆಕೆಳಗಾಗಿ ಸೂಚಿಸುತ್ತದೆ ವಿಶ್ಲೇಷಕ ಜೇಮ್ಸ್ ಹಾರ್ಡಿಮನ್ ರಸ್ತೆಯ ಮತ್ತಷ್ಟು ಕೆಳಗೆ ನೋಡಿದಾಗ ಪ್ರಯಾಣದ ಬೇಡಿಕೆ ಮರುಕಳಿಸುತ್ತದೆ ಮತ್ತು ಬಲವಾದ ಪ್ರಯಾಣದ ಆಟಗಾರರು ಬಿಕೆಎನ್ ಜಿ ಪ್ರೀಮಾರ್ಕೆಟ್ ಗಿಂತ ಕ್ಕೆ ಬಲವಾಗಿ ಹೊರಹೊಮ್ಮಬಹುದು ಎಂದು ಬುಕಿಂಗ್ ನಿರ್ವಹಣೆ ಸರಿಯಾಗಿದೆ ಎಂದು ಹಾರ್ಡಿಮನ್ ಭಾವಿಸಿದ್ದಾರೆ ಎಂದು ಹೆಸರಿಸಲಾದ ಈ ವೈರಸ್ ಚೀನಾದ ಬಹುಪಾಲು ವಾಣಿಜ್ಯವನ್ನು ಸ್ಥಗಿತಗೊಳಿಸಿದೆ ಮತ್ತು ಕಂಪನಿಯ ಗಳಿಕೆಯನ್ನು ಜಾಗತಿಕ ಸ್ಟಾಕ್ ಮಾರುಕಟ್ಟೆಗಳು ಮತ್ತು ಪ್ರಪಂಚದಾದ್ಯಂತ ಉತ್ಪಾದಿಸುತ್ತಿದೆ ಅಧಿಕಾರಿಗಳು ಕಳೆದ ತಿಂಗಳು ವೈರಸ್ ಅನ್ನು ಜಾಗತಿಕ ಆರೋಗ್ಯ ತುರ್ತುಸ್ಥಿತಿ ಎಂದು ಘೋಷಿಸಿದರು ಆದರೆ ವೈರಸ್ಗೆ ಪ್ರತಿಕ್ರಿಯಿಸುವುದರ ವಿರುದ್ಧ ಸಾರ್ವಜನಿಕರನ್ನು ಒತ್ತಾಯಿಸಿದರು ಪ್ರಕರಣಗಳು ಉತ್ತರ ಪ್ರದೇಶವಾದ ಲೊಂಬಾರ್ಡಿ ಮತ್ತು ನೆರೆಯ ವೆನೆಟೊದಲ್ಲಿ ವೈರಸ್ ಅನ್ನು ಒಳಗೊಂಡಿರುವ ಪ್ರಯತ್ನದಲ್ಲಿ ಅಧಿಕಾರಿಗಳು ಶಾಲೆಗಳನ್ನು ಮುಚ್ಚಿದ್ದಾರೆ ಮತ್ತು ಸಾರ್ವಜನಿಕ ಸಭೆಗಳನ್ನು ನಿಷೇಧಿಸಿದ್ದಾರೆ ಚೀನಾದ ಹೊರಗೆ ದೈನಂದಿನ ಹೊಸ ಪ್ರಕರಣಗಳ ಸಂಖ್ಯೆ ದೇಶದೊಳಗಿನ ಪ್ರಕರಣಗಳನ್ನು ಮೀರಿದೆ ಎಂದು ಬುಧವಾರ ಘೋಷಿಸಿತು ನಿನ್ನೆ ಚೀನಾದ ಹೊರಗೆ ವರದಿಯಾದ ಹೊಸ ಪ್ರಕರಣಗಳ ಸಂಖ್ಯೆ ಮೊದಲ ಬಾರಿಗೆ ಚೀನಾದಲ್ಲಿ ಹೊಸ ಪ್ರಕರಣಗಳ ಸಂಖ್ಯೆಯನ್ನು ಮೀರಿದೆ ಕಳೆದ ವರ್ಷದ ಇದೇ ಅವಧಿಗೆ ಹೋಲಿಸಿದರೆ ಈ ತ್ರೈಮಾಸಿಕದಲ್ಲಿ ರಷ್ಟು ಹಿಂದಕ್ಕೆ ಬಡ್ಡಿ ತೆರಿಗೆ ಸವಕಳಿ ಮತ್ತು ಭೋಗ್ಯಕ್ಕೆ ಮುಂಚಿತವಾಗಿ ಬ್ರೆಜಿಲ್ ನಲ್ಲಿನ ಕರೋನವೈರಸ್ ಮತ್ತು ಹೋಲಿಕೆಯ ಸವಾಲಿನ ಆಧಾರವು ತನ್ನ ಗಳಿಕೆಯನ್ನು ತಟ್ಟುತ್ತದೆ ಎಂದು ಆನ್ ಹ್ಯೂಸರ್ ಬುಶ್ ಇನ್ ಬೆವ್ ಎಸ್ ಎ ಬಡ್ ಗುರುವಾರ ತಿಳಿಸಿದೆ ಕಂಪನಿಯು ಈಗಾಗಲೇ ಮಿಲಿಯನ್ ಕಂಡಿದೆ ಚೀನಾದಲ್ಲಿ ಮೊದಲ ಎರಡು ತಿಂಗಳು ಬಡ್ಡಿ ತೆರಿಗೆ ಸವಕಳಿ ಮತ್ತು ಭೋಗ್ಯಕ್ಕೆ ಮುಂಚಿನ ಗಳಿಕೆಯ ಕುಸಿತ ಎಪಿಎಸಿ ಕಳೆದ ವರ್ಷ ಎಬಿ ಇನ್ ಬೆವ್ ಏಷ್ಯಾದ ಘಟಕವು ರ ಮೊದಲ ಮೂರು ವಾರಗಳು ಪ್ರಬಲವಾಗಿದೆ ಎಂದು ಹೇಳಿದೆ ಆದರೆ ನಂತರ ಅನೇಕ ರೆಸ್ಟೋರೆಂಟ್ ಗಳು ಮಾರಾಟವಾದವು ಮತ್ತು ಬಾರ್ ಗಳು ಮುಚ್ಚಿಹೋಗಿವೆ ಎಬಿ ಇನ್ ಬೆವ್ ನೀವು ಬಡ್ವೈಸರ್ ಗೆ ಅದೇ ರೀತಿಯ ಪ್ರೀಮಿಯಲೈಸೇಶನ್ ಕಾರ್ಯತಂತ್ರದೊಂದಿಗೆ ಲಾಭ ಗಳಿಸಿದೆ ಉದಾಹರಣೆಗೆ ಕೆ ಕೆ ಬಡ್ವೈಸರ್ ಅನ್ನು ಚೀನಾದಲ್ಲಿ ಪ್ರೀಮಿಯಂ ಬ್ರಾಂಡ್ ಎಂದು ಪರಿಗಣಿಸಲಾಗಿದೆ ಎಬಿ ಇನ್ ಬೆವ್ ನ ಮೌಲ್ಯಮಾಪನ ಇತ್ತೀಚಿನ ವರ್ಷಗಳಲ್ಲಿ ಏಕೆ ಕುಸಿದಿದೆ ಎಂಬುದನ್ನು ಇದು ವಿವರಿಸುತ್ತದೆ ಈಗ ಎಬಿಟ್ಡಾದಲ್ಲಿ ಪಟ್ಟು ಮುಂದಿದೆ ಕರೋನವೈರಸ್ ನಿವಾರಣೆಯನ್ನು ಅಭಿವೃದ್ಧಿಪಡಿಸುವ ಪ್ರಯತ್ನದ ಭಾಗವಾಗಿ ಚೀನಾದ ತಜ್ಞರು ಹಳೆಯ ಮಲೇರಿಯಾ ಷಧಿಗಳನ್ನು ಪ್ರಯೋಗಿಸುತ್ತಿದ್ದಾರೆ ಚೀನಾದ ಆಸ್ಪತ್ರೆಗಳಲ್ಲಿ ಮತ್ತು ಗುವಾಂಗ್ ಡಾಂಗ್ ಮತ್ತು ಹುನಾನ್ ಸನ್ ಯಾನ್ ರೋಂಗ್ ಉಪ ಮುಖ್ಯಸ್ಥರಲ್ಲಿ ಕ್ಕೂ ಹೆಚ್ಚು ರೋಗಿಗಳ ಮೇಲೆ ಕ್ಲೋರೊಕ್ವಿನ್ ಫಾಸ್ಫೇಟ್ ಪರೀಕ್ಷಿಸಲಾಗುತ್ತಿದೆ ವಿಜ್ಞಾನ ಮತ್ತು ತಂತ್ರಜ್ಞಾನ ಸಚಿವಾಲಯದ ಅಧೀನದಲ್ಲಿರುವ ಚೀನಾ ನ್ಯಾಷನಲ್ ಸೆಂಟರ್ ಫಾರ್ ಬಯೋಟೆಕ್ನಾಲಜಿ ಡೆವಲಪ್ಮೆಂಟ್ ತಜ್ಞರು ಸರ್ವಾನುಮತದಿಂದ ಇದನ್ನು ಸಾಧ್ಯವಾದಷ್ಟು ಬೇಗ ವ್ಯಾಪಕವಾದ ಕ್ಲಿನಿಕಲ್ ಪ್ರಯೋಗಗಳಲ್ಲಿ ಅನ್ವಯಿಸಲು ಮುಂದಾಗಿದ್ದಾರೆ ಎಂದು ಹೇಳಿದರು ವರ್ಷಗಳಿಗಿಂತ ಹೆಚ್ಚು ಕಾಲ ಬಳಸಲಾಗುತ್ತಿರುವ ಷಧವನ್ನು ಅಸ್ತಿತ್ವದಲ್ಲಿರುವ ಸಾವಿರಾರು ಸಂಖ್ಯೆಯಿಂದ ತೆಗೆದುಕೊಳ್ಳಲಾಗಿದೆ ಅನೇಕ ಸುತ್ತಿನ ತಪಾಸಣೆಯ ನಂತರ ಷಧಿಗಳು ಕ್ಲೋರೊಕ್ವಿನ್ ಫಾಸ್ಫೇಟ್ ಅನ್ನು ರೋಗಿಗಳ ಗುಂಪುಗಳು ನೀಡಿದ್ದವು ಪರೀಕ್ಷೆಗಳಲ್ಲಿಲ್ಲದವರಿಗಿಂತ ಉತ್ತಮವಾಗಿದೆ ರ ಅಂತ್ಯದಲ್ಲಿ ಯುಎಸ್ ಆರ್ಥಿಕತೆಗೆ ಏನಾಯಿತು ಎಂಬುದರ ಬಗ್ಗೆ ಯಾರೂ ಸಂಪೂರ್ಣವಾಗಿ ಕಾಳಜಿ ವಹಿಸುವುದಿಲ್ಲ ಆದರೆ ರ ಮೊದಲ ತ್ರೈಮಾಸಿಕದಲ್ಲಿ ಚೀನಾದ ಜಿಡಿಪಿ ಈಗ ಣಾತ್ಮಕ ಪುಡಿಮಾಡುವ ಜಾಗತಿಕ ಆರ್ಥಿಕ ಬೆಳವಣಿಗೆಯನ್ನು ಮುದ್ರಿಸುತ್ತದೆ ಮತ್ತು ಯುಎಸ್ ಜಿಡಿಪಿಯನ್ನು ಕ್ಷಣಗಳ ಹಿಂದೆ ಮುದ್ರಿಸುತ್ತದೆ ಎಂದು ನಿರೀಕ್ಷಿಸಲಾಗಿದೆ ಕ್ಯೂ ರ ಯುಎಸ್ ಜಿಡಿಪಿಗಾಗಿ ಬಿಇಎ ತನ್ನ ಎರಡನೇ ಅಂದಾಜನ್ನು ವರದಿ ಮಾಡಿದೆ ಮತ್ತು ಕನಿಷ್ಠ ಇಲ್ಲಿ ನೇ ಎಸ್ಸಿಮೇಟ್ ವಿರುದ್ಧ ಕ್ಕೆ ಬದಲಾಗದೆ ಬರುವ ಸಂಖ್ಯೆಯಲ್ಲಿ ಯಾವುದೇ ಆಶ್ಚರ್ಯಗಳಿಲ್ಲ ಮತ್ತು ನಿರೀಕ್ಷೆಗಳಿಗೆ ಅನುಗುಣವಾಗಿ ಕಳೆದ ತಿಂಗಳಂತೆಯೇ ನೈಜ ಜಿಡಿಪಿಯ ಹೆಚ್ಚಳವು ಗ್ರಾಹಕರ ಖರ್ಚಿನಲ್ಲಿ ಹೆಚ್ಚಳವನ್ನು ಪ್ರತಿಬಿಂಬಿಸುತ್ತದೆ ಸರಕಾರಿ ಖರ್ಚು ರಫ್ತು ಮತ್ತು ವಸತಿ ಹೂಡಿಕೆ ದಾಸ್ತಾನು ಹೂಡಿಕೆ ಮತ್ತು ವ್ಯಾಪಾರ ಹೂಡಿಕೆಯ ಇಳಿಕೆಯಿಂದ ಭಾಗಶಃ ಸರಿದೂಗಿಸಲ್ಪಟ್ಟಿದೆ ಗ್ರಾಹಕರ ಖರ್ಚಿನ ಹೆಚ್ಚಳವು ಮೋಟಾರು ವಾಹನಗಳು ಮತ್ತು ಆರೋಗ್ಯ ರಕ್ಷಣೆಯ ನೇತೃತ್ವದ ಭಾಗಗಳು ಮತ್ತು ಸೇವೆಗಳ ನೇತೃತ್ವದ ಸರಕುಗಳ ಹೆಚ್ಚಳವನ್ನು ಪ್ರತಿಬಿಂಬಿಸುತ್ತದೆ ಒಟ್ಟಾರೆ ಜಿಡಿಪಿ ಬೆಲೆ ಸೂಚ್ಯಂಕವು ಕ್ಯೂನಲ್ಲಿ ಏರಿಕೆಯಾಗಿದೆ ಮುಂಚಿನ ತ್ರೈಮಾಸಿಕದಲ್ಲಿ ಗ್ರಾಹಕ ಖರ್ಚಿನಲ್ಲಿನ ಹೆಚ್ಚಳ ಸರ್ಕಾರ ಖರ್ಚು ಮಾಡುವ ವ್ಯಾಪಾರ ಹೂಡಿಕೆ ಮತ್ತು ದಾಸ್ತಾನು ಹೂಡಿಕೆ ಭಾಗಶಃ ವಸತಿ ಹೂಡಿಕೆಯ ಇಳಿಕೆ ಮತ್ತು ಆಮದಿನ ಹೆಚ್ಚಳದಿಂದ ಆಫ್ ಸೆಟ್ ಫೈಲ್ ಫೋಟೋ ಯುರೋಪಿಯನ್ ಆಂತರಿಕ ಮಾರುಕಟ್ಟೆ ಆಯುಕ್ತ ಥಿಯೆರ್ರಿ ಬ್ರೆಟನ್ ಫೆಬ್ರವರಿ ರ ಬ್ರಸೆಲ್ಸ್ ಬೆಲ್ಜಿಯಂನಲ್ಲಿ ಯುರೋಪಿಯನ್ ಆಯೋಗದ ದತ್ತಾಂಶ ಡಿಜಿಟಲ್ ಕಾರ್ಯತಂತ್ರದ ಪ್ರಸ್ತುತಿಯ ಸಂದರ್ಭದಲ್ಲಿ ಮಾತನಾಡುತ್ತಾರೆ ರಾಯಿಟರ್ಸ್ ವೈವ್ಸ್ ಹರ್ಮನ್ ಬ್ರೂಸೆಲ್ಸ್ ರಾಯಿಟರ್ಸ್ ಯುರೋಪಿಯನ್ ಯೂನಿಯನ್ ಕೈಗಾರಿಕಾ ಆಯುಕ್ತರು ಗುರುವಾರ ವಲಯವನ್ನು ಬೆಂಬಲಿಸುವ ಸಂಭಾವ್ಯ ಕ್ರಮಗಳನ್ನು ಪರಿಗಣಿಸುತ್ತಿದ್ದಾರೆ ಎಂದು ಹೇಳಿದರು ಕೊರೊನಾವೈರಸ್ ಏಕಾಏಕಿ ಆದರೆ ಅದರ ನಿಖರವಾದ ಆರ್ಥಿಕ ಪರಿಣಾಮವನ್ನು ನಿರ್ಣಯಿಸಲು ಹೆಚ್ಚಿನ ಸಮಯ ಬೇಕಾಗುತ್ತದೆ ನಾವು ತೆಗೆದುಕೊಳ್ಳಬಹುದಾದ ಕ್ರಮಗಳನ್ನು ಸಮನ್ವಯಗೊಳಿಸಲು ಪ್ರಾರಂಭಿಸುವುದು ಮುಖ್ಯವಾಗಿದೆ ಥಿಯೆರ್ರಿ ಬ್ರೆಟನ್ ಪ್ರವಾಸೋದ್ಯಮ ಕಾರುಗಳ ಎಲೆಕ್ಟ್ರಾನಿಕ್ಸ್ ಹೆಲ್ತ್ ಕೇರ್ ಮತ್ತು ಕೈಗಾರಿಕಾ ವಲಯಗಳಲ್ಲಿ ಆಟಿಕೆಗಳನ್ನು ಪಟ್ಟಿ ಮಾಡುವ ವರದಿಗಾರರಿಗೆ ಹೇಳಿದರು ಆರ್ಥಿಕ ಹಾನಿಯ ಸ್ಪಷ್ಟ ಮೌಲ್ಯಮಾಪನ ಮಾಡಿದ ನಂತರವೇ ಕ್ರಮಗಳನ್ನು ತೆಗೆದುಕೊಳ್ಳಬಹುದು ಎಂದು ಬ್ರಸೆಲ್ಸ್ ನಲ್ಲಿ ನಡೆದ ಇಯು ಉದ್ಯಮ ಮಂತ್ರಿಗಳ ಸಭೆಯೊಂದರಲ್ಲಿ ಅವರು ಹೇಳಿದರು ಇಯು ಈ ವಿಷಯವನ್ನು ಒಂದು ತಿಂಗಳ ಅವಧಿಯಲ್ಲಿ ಮತ್ತೆ ಚರ್ಚಿಸಲಿದೆ ಎಂದು ಹೇಳಿದರು ಫೈಲ್ ಫೋಟೋ ಗೋಲ್ಡ್ಮನ್ ಸ್ಯಾಚ್ಸ್ ಕಂಪನಿಯ ಲಾಂ ನವು ನ್ಯೂಯಾರ್ಕ್ನ ನ್ಯೂಯಾರ್ಕ್ ಸ್ಟಾಕ್ ಎಕ್ಸ್ಚೇಂಜ್ ಎನ್ವೈಎಸ್ಇಯ ನೆಲದ ಮೇಲೆ ಕಂಪನಿಯ ಜಾಗದಲ್ಲಿ ಕಂಡುಬರುತ್ತದೆ ನೀವು ಏಪ್ರಿಲ್ ಬ್ರೆಂಡನ್ ಮೆಕ್ ಡೆರ್ಮಿಡ್ ಫೈಲ್ ಫೋಟೋ ರಾಯಿಟರ್ಸ್ ನೀವು ಎಸ್ ಕಂಪನಿಗಳು ರಲ್ಲಿ ಯಾವುದೇ ಗಳಿಕೆಯ ಬೆಳವಣಿಗೆಯನ್ನು ಉಂಟುಮಾಡುವುದಿಲ್ಲ ಕೊರೊನಾವೈರಸ್ ಚೀನಾವನ್ನು ಮೀರಿ ಜಾಗತಿಕ ಬೆಳವಣಿಗೆಗೆ ಅಪಾಯಗಳನ್ನು ಹೆಚ್ಚಿಸುತ್ತಿದೆ ಎಂದು ಗೋಲ್ಡ್ಮನ್ ಸ್ಯಾಚ್ಸ್ ಗುರುವಾರ ಹೇಳಿದ್ದಾರೆ ಮೊದಲ ತ್ರೈಮಾಸಿಕದಲ್ಲಿ ಚೀನಾದ ಆರ್ಥಿಕ ಚಟುವಟಿಕೆಯ ತೀವ್ರ ಕುಸಿತವನ್ನು ಇತ್ತೀಚಿನ ಮುನ್ಸೂಚನೆಯು ಪ್ರತಿಬಿಂಬಿಸುತ್ತದೆ ಎಂದು ಎಸ್ ರಫ್ತುದಾರರಿಗೆ ಸರಬರಾಜು ಸರಪಳಿ ಅಡೆತಡೆಗಳು ಮತ್ತು ದೇಶೀಯ ಆರ್ಥಿಕ ಚಟುವಟಿಕೆಯ ಮಂದಗತಿ ಗೋಲ್ಡ್ಮನ್ ಹೇಳಿದರು ಎಸ್ ಪಿ ಸದ್ಯಕ್ಕೆ ಪಾಯಿಂಟ್ ಗಳ ವಹಿವಾಟು ನಡೆಸಲಿದೆ ಎಂದು ನಿರೀಕ್ಷಿಸುತ್ತದೆ ಇದು ಫೆಬ್ರವರಿ ರಂದು ಸೂಚ್ಯಂಕದ ದಾಖಲೆಯ ಕ್ಕಿಂತ ಕಡಿಮೆ ಇದೆ ನೀವು ಎಸ್ ವರ್ಷದ ಖಜಾನೆ ಇಳುವರಿ ಯುಎಸ್ ವೈಟಿ ಆರ್ಆರ್ ಕ್ಕೆ ಇಳಿಯುತ್ತದೆ ಇಳುವರಿ ಗೋಲ್ಡ್ಮ್ಯಾನ್ ಗೆ ಏರಿದರೆ ವರ್ಷಾಂತ್ಯದ ವೇಳೆಗೆ ಎಸ್ ಪಿ ಕ್ಕೆ ತಲುಪಲಿದೆ ಎಂದು ನಿರೀಕ್ಷಿಸುತ್ತದೆ ಪ್ರಪಂಚದಾದ್ಯಂತ ಪ್ರಯಾಣಿಸುತ್ತಿರುವಾಗ ಮುಖವಾಡಗಳನ್ನು ಧರಿಸಲು ಅನೇಕರು ಕೊರೋನವೈರಸ್ ಸಲಹೆಯನ್ನು ಹಂಚಿಕೊಳ್ಳಲು ಸೆಲೆಬ್ರಿಟೀಸ್ ಸರ್ಕಾರಗಳು ಮತ್ತು ಏಜೆನ್ಸಿಗಳನ್ನು ಸೇರಿಕೊಂಡಿದ್ದಾರೆ ಕಿಮ್ ಕಾರ್ಡಶಿಯಾನ್ ಅವರು ವಿಶ್ವದಾದ್ಯಂತ ನಡೆಯುತ್ತಿರುವ ಕರೋನವೈರಸ್ ಏಕಾಏಕಿ ಮಧ್ಯೆ ಟ್ರಾವೆಲ್ ಮಾಸ್ಕ್ ಧರಿಸಿದವರಲ್ಲಿ ಮೊದಲಿಗರು ನಾಲ್ವರ ತಾಯಿ ಬಹಿರಂಗಪಡಿಸಿದ್ದಾರೆ ಫೇಸ್ ಮಾಸ್ಕ್ ಮತ್ತು ವಿಟಮಿನ್ ಸಿ ಟ್ಯಾಬ್ಲೆಟ್ ಗಳು ಮತ್ತು ನೈರ್ಮಲ್ಯ ಕೈಗವಸುಗಳನ್ನು ಒಳಗೊಂಡಿರುವ ತುರ್ತು ಕಿಟ್ ನೊಂದಿಗೆ ಅವಳು ಪ್ರಯಾಣಿಸುತ್ತಿದ್ದಳು ಚೀನಾದ ನಗರವಾದ ವುಹಾನ್ ನಲ್ಲಿ ಪ್ರಾರಂಭವಾದ ವೈರಸ್ ಭುಗಿಲೆದ್ದಿರುವುದರಿಂದ ಬೇಡಿಕೆಯನ್ನು ಉಳಿಸಿಕೊಳ್ಳಲು ಅವರಿಗೆ ಸಾಧ್ಯವಾಗಲಿಲ್ಲ ಎಂದು ಕಂಪನಿ ಆರೋಪಿಸಿದೆ ಉದ್ದೇಶಪೂರ್ವಕವಾಗಿ ಮತ್ತು ಅದರ ಎಲ್ಲಾ ವಾಯು ಮುಖವಾಡಗಳು ಮತ್ತು ಅದರ ತುರ್ತು ಕಿಟ್ ಗಳಲ್ಲಿ ಒಂದು ಗಂಟೆಗಳಿಗಿಂತ ಕಡಿಮೆ ಅವಧಿಯಲ್ಲಿ ಮಾರಾಟವಾಗಿದೆ ಎಂದು ತಜ್ಞರು ಕರೋನವೈರಸ್ ಏಕಾಏಕಿ ಟಿಪ್ಪಿಂಗ್ ಪಾಯಿಂಟ್ ಅನ್ನು ಎಚ್ಚರಿಸಿದ್ದಾರೆ ಜಾಗತಿಕ ಸೋಂಕಿನ ಸಂಖ್ಯೆ ಈಗ ಕ್ಕೆ ತಲುಪಿದೆ ಮತ್ತು ಕೊಲೆಗಾರ ವೈರಸ್ ನಿಂದ ಸಾವನ್ನಪ್ಪಿದೆ ಇತ್ತೀಚಿನ ದಿನಗಳಲ್ಲಿ ಪ್ರಕರಣಗಳು ಹೆಚ್ಚಾಗಿದೆ ಜಪಾನ್ ನ ಕ್ರೂಸ್ ಹಡಗಿನಿಂದ ಜನರನ್ನು ಸ್ಥಳಾಂತರಿಸಲಾಗಿದ್ದು ಡೈಮಂಡ್ ಪ್ರಿನ್ಸೆಸ್ ಮಂದಿಯನ್ನು ಚೀನಾದ ವುಹಾನ್ ನಿಂದ ಪರಿಹಾರ ಮಿಲಿಟರಿ ವಿಮಾನದಿಂದ ವಾಪಸ್ ಕರೆತರಲಾಯಿತು ಗಮನಾರ್ಹವಾಗಿ ಭಾರತವು ವಿದೇಶಿ ಪ್ರಜೆಗಳನ್ನು ವುಹಾನ್ ನಿಂದ ಸ್ಥಳಾಂತರಿಸಿದೆ ಮತ್ತು ಜಪಾನ್ ನಿಂದ ಜನರನ್ನು ಜಪಾನ್ ನಿಂದ ಸ್ಥಳಾಂತರಿಸಲಾಗಿದೆ ಶ್ರೀಲಂಕಾ ಮತ್ತು ನೇಪಾಳ ದಕ್ಷಿಣ ಆಫ್ರಿಕಾ ಮತ್ತು ಪೆರುವಿನಿಂದ ತಲಾ ಒಬ್ಬರು ಮುಖವಾಡ ಕೈಗವಸುಗಳು ಮತ್ತು ಇತರ ತುರ್ತು ವೈದ್ಯಕೀಯ ಉಪಕರಣಗಳನ್ನು ಒಳಗೊಂಡ ಕೆಜಿ ವೈದ್ಯಕೀಯ ಸಹಾಯವನ್ನು ಸಹ ಸಾಗಿಸಿದ್ದಾರೆ ಭಾರತವು ವೂಹಾನ್ ನಿಂದ ಪರಿಹಾರ ವಿಮಾನಗಳನ್ನು ಭಾರತೀಯ ಪ್ರಜೆಗಳು ಮತ್ತು ವಿದೇಶಿ ಪ್ರಜೆಗಳನ್ನು ಸ್ಥಳಾಂತರಿಸಿದೆ ಜಪಾನ್ ನ ಸಂದರ್ಭದಲ್ಲಿ ವಿಶೇಷ ಏರ್ ಇಂಡಿಯಾ ವಿಮಾನವು ಟೋಕಿಯೊದಿಂದ ಗುರುವಾರ ದೆಹಲಿಗೆ ಬಂದಿಳಿದಿದ್ದು ಭಾರತೀಯ ಪ್ರಜೆಗಳು ಸಿಬ್ಬಂದಿ ಮತ್ತು ಪ್ರಯಾಣಿಕರನ್ನು ಜಪಾನ್ ನ ಯೊಕೊಹಾಮಾದಲ್ಲಿ ಹಡಗಿನಲ್ಲಿದ್ದ ಡೈಮಂಡ್ ಪ್ರಿನ್ಸೆಸ್ ಕ್ರೂಸ್ ಹಡಗಿನಲ್ಲಿದ್ದರು ಎಲ್ಲಾ ಸ್ಥಳಾಂತರಿಸಿದವರು ಎ ದಿನಕ್ಕೆ ಒಳಗಾಗುತ್ತಾರೆ ಮನೇಸರ್ ಹರಿಯಾಣದಲ್ಲಿ ಭಾರತೀಯ ಸೇನೆಯು ಸ್ಥಾಪಿಸಿದ ಸಂಪರ್ಕತಡೆಯನ್ನು ಸೌಲಭ್ಯದಲ್ಲಿ ಸಂಪರ್ಕತಡೆಯನ್ನು ಎಂಇಎ ಹೇಳಿಕೆಯೊಂದರಲ್ಲಿ ತಿಳಿಸಿದೆ ಜಪಾನ್ ಸರ್ಕಾರವು ಜಾರಿಗೆ ತಂದಿರುವ ವಿಸ್ತೃತ ಸಂಪರ್ಕತಡೆಯನ್ನು ಪೂರ್ಣಗೊಳಿಸಲು ಕ್ರೂಸ್ ಹಡಗಿನಲ್ಲಿ ತಮ್ಮ ವಾಸ್ತವ್ಯವನ್ನು ಮುಂದುವರೆಸಬೇಕೆಂದು ಸರ್ಕಾರದ ಪ್ರಕಾರ ತಮ್ಮ ಆಶಯವನ್ನು ತಿಳಿಸಿದರು ಒಟ್ಟು ಭಾರತೀಯ ಪ್ರಜೆಗಳಲ್ಲಿ ಮೂಲತಃ ಬೋರ್ಡ್ ಡೈಮಂಡ್ ಪ್ರಿನ್ಸೆಸ್ ಭಾರತೀಯ ಸಿಬ್ಬಂದಿ ಕರೋನವೈರಸ್ ಸಿಒವಿಐಡಿ ಗಾಗಿ ಧನಾತ್ಮಕ ಪರೀಕ್ಷೆ ನಡೆಸಿದ್ದಾರೆ ಮತ್ತು ಜಪಾನ್ ನ ಕಡಲಾಚೆಯ ವೈದ್ಯಕೀಯ ಸೌಲಭ್ಯಗಳಲ್ಲಿ ಅಗತ್ಯ ವೈದ್ಯಕೀಯ ಆರೈಕೆ ಮತ್ತು ಚಿಕಿತ್ಸೆಯನ್ನು ಪಡೆಯುತ್ತಿದ್ದಾರೆ ಕೆಲವೇ ದಿನಗಳಲ್ಲಿ ದೇಶದ ಮೂರನೇ ಚುನಾವಣೆಯೊಂದಿಗೆ ಅನ್ನು ನವೀಕರಿಸಿ ಇಸ್ರೇಲ್ ಇಟಲಿ ಮತ್ತು ದಕ್ಷಿಣ ಕೊರಿಯಾವನ್ನು ದೂಷಿಸುವ ಮೂಲಕ ದೇಶದಲ್ಲಿ ದೃ ೀಕರಿಸಲ್ಪಟ್ಟ ಕರೋನವೈರಸ್ ಪ್ರಕರಣಗಳನ್ನು ಅಂಗೀಕರಿಸುವುದನ್ನು ತಪ್ಪಿಸಲು ಗಂಭೀರ ನೋವುಗಳನ್ನು ತೆಗೆದುಕೊಳ್ಳುತ್ತಿದೆ ಪ್ರತಿ ಪ್ರಕರಣವು ಇತ್ತೀಚೆಗೆ ಹಿಂದಿರುಗಿದ ಪ್ರಯಾಣಿಕರನ್ನು ಒಳಗೊಂಡಿತ್ತು ಆ ಎರಡು ದೇಶಗಳಲ್ಲಿ ಒಂದಾದ ಯುಎಸ್ ಇಕ್ವಿಟಿ ಫ್ಯೂಚರ್ ಗಳು ಗುರುವಾರ ಬೆಳಿಗ್ಗೆ ಮತ್ತೊಂದು ಕಡಿಮೆ ಮುಕ್ತತೆಯನ್ನು ತೋರಿಸುತ್ತಿವೆ ಕಳೆದ ರಾತ್ರಿ ಅಧ್ಯಕ್ಷ ಟ್ರಂಪ್ ಅವರ ಪತ್ರಿಕಾಗೋಷ್ಠಿಯಲ್ಲಿ ವಾಪೊ ಅಡ್ಡಿಪಡಿಸಿದ ನಂತರ ಅಪರಿಚಿತ ಮೂಲದ ಮೊದಲ ಪ್ರಕರಣವನ್ನು ವರದಿ ಮಾಡಲು ಸಿಡಿಸಿ ನಂತರ ದೃ ಪಡಿಸಿತು ಇದು ಸೋನೊಮಾ ಕೌಂಟಿಯಲ್ಲಿದೆ ಮತ್ತು ಆಗಿರಬಹುದು ಅಮೆರಿಕದ ಮೊದಲ ಸಮುದಾಯ ಏಕಾಏಕಿ ಕೇಂದ್ರಬಿಂದುವಾಗಿದೆ ದಕ್ಷಿಣ ಕೊರಿಯಾವು ಒಂದೇ ದಿನದಲ್ಲಿ ಅತಿ ಹೆಚ್ಚು ಹೊಸ ಕರೋನವೈರಸ್ ಪ್ರಕರಣಗಳನ್ನು ವರದಿ ಮಾಡಿದ ಬೆನ್ನಲ್ಲೇ ಚೀನಾದ ಹೊರಗೆ ವರದಿಯಾದ ಹೊಸ ಪ್ರಕರಣಗಳ ಸಂಖ್ಯೆ ಮತ್ತೊಮ್ಮೆ ಚೀನಾದೊಳಗೆ ಮೀರಿದೆ ಬ್ರೆಜಿಲ್ ದಕ್ಷಿಣ ಅಮೆರಿಕಾದಲ್ಲಿ ಮೊದಲ ಪ್ರಕರಣವನ್ನು ನಿನ್ನೆ ತಂದುಕೊಟ್ಟಿದೆ ಆಸ್ಟ್ರೇಲಿಯಾದಲ್ಲಿ ಅಂಟಾರ್ಕ್ಟಿಕಾವನ್ನು ಹೊರತುಪಡಿಸಿ ಪ್ರತಿಯೊಂದು ಖಂಡಕ್ಕೂ ವೈರಸ್ ಇದು ಕಿವಿಯ ಸಮಯದಲ್ಲಿ ಬೆರಳೆಣಿಕೆಯಷ್ಟು ಪ್ರಕರಣಗಳನ್ನು ದೃ ಪಡಿಸಿತು ಏಕಾಏಕಿ ದಿನಗಳು ಆದರೆ ಶಾಂತವಾಗಿದ್ದವು ಪಿಎಂ ಸ್ಕಾಟ್ ಮಾರಿಸನ್ ಗುರುವಾರ ಭಯಂಕರ ಭಾಷಣ ಎಂದು ಕೆಲವರು ವಿವರಿಸಬಹುದು ಜಗತ್ತು ಶೀಘ್ರದಲ್ಲೇ ಕರೋನವೈರಸ್ನ ಸಾಂಕ್ರಾಮಿಕ ಹಂತವನ್ನು ಪ್ರವೇಶಿಸಲಿದೆ ಎಂಬ ಎಲ್ಲ ಸೂಚನೆಗಳಿವೆ ಅನೇಕ ಸಾಂಪ್ರದಾಯಿಕ ಚಿಲ್ಲರೆ ವ್ಯಾಪಾರಿಗಳು ಕಳಪೆ ಫಲಿತಾಂಶಗಳನ್ನು ವರದಿ ಮಾಡಿದ ಅವಧಿಯಲ್ಲಿ ಫೋನ್ ಗಳು ಮತ್ತು ಉಪಕರಣಗಳಿಗೆ ಬಲವಾದ ಬೇಡಿಕೆಯನ್ನು ಉಲ್ಲೇಖಿಸಿ ರಜಾದಿನಗಳಲ್ಲಿ ಮಾರಾಟ ಹೆಚ್ಚಾಗಿದೆ ಎಂದು ಬೆಸ್ಟ್ ಬೈ ಬಿಬಿವೈ ಹೇಳಿದೆ ನಿಮ್ಮ ಆನ್ ಲೈನ್ ಮಾರಾಟವು ಕಳೆದ ವರ್ಷದ ಇದೇ ತ್ರೈಮಾಸಿಕಕ್ಕೆ ಹೋಲಿಸಿದರೆ ಸುಮಾರು ರಿಂದ ಬಿಲಿಯನ್ ಹೆಚ್ಚಾಗಿದೆ ಹೆಚ್ಚಿನ ಸರಾಸರಿ ಆರ್ಡರ್ ಮೌಲ್ಯಗಳು ಮತ್ತು ಆನ್ ಲೈನ್ ನಲ್ಲಿ ಖರೀದಿಸುವ ಹೆಚ್ಚಿನ ವ್ಯಾಪಾರಿಗಳಿಗೆ ಕಂಪನಿಯು ಪ್ರಸಕ್ತ ಹಣಕಾಸು ವರ್ಷದಲ್ಲಿ ಫ್ಲಾಟ್ ನ ಹೋಲಿಸಬಹುದಾದ ಮಾರಾಟವನ್ನು ಕ್ಕೆ ವರದಿ ಮಾಡುವ ನಿರೀಕ್ಷೆಯಿದೆ ಮತ್ತು ರಿಂದ ರ ಪ್ರತಿ ಷೇರಿನ ದುರ್ಬಲಗೊಳಿಸಿದ ಆದಾಯವನ್ನು ವರದಿ ಮಾಡಿದೆ ಎಂದು ಕಂಪನಿಯು ಹೇಳಿದೆ ಸಿಇಒ ಆಗಿ ಅಧಿಕಾರ ವಹಿಸಿಕೊಳ್ಳುವ ಮೊದಲು ಎಂಎಸ್ ಬ್ಯಾರಿ ಸಹವರ್ತಿ ಮಾಜಿ ಕಾರ್ಯನಿರ್ವಾಹಕರೊಂದಿಗೆ ಅನುಚಿತ ಪ್ರಣಯ ಸಂಬಂಧವನ್ನು ಹೊಂದಿದ್ದರು ಎಂದು ಕಳೆದ ಡಿಸೆಂಬರ್ ನಲ್ಲಿ ಮಂಡಳಿಗೆ ತಂದಿದ್ದ ಆರೋಪದ ಬಗ್ಗೆ ತನಿಖೆ ನಡೆಸಲು ಹೊರಗಿನ ಕಾನೂನು ಸಂಸ್ಥೆಯನ್ನು ನೇಮಕ ಮಾಡಿಕೊಂಡಿದೆ ಎಂದು ಕಂಪನಿಯು ಹೇಳಿದೆ ಆ ಸಮಯದಲ್ಲಿ ಬೆಸ್ಟ್ ಬೈ ಭವಿಷ್ಯ ನುಡಿದಿದೆ ವರ್ಷಕ್ಕೆ ರಿಂದ ರವರೆಗಿನ ಮಾರಾಟದ ಬೆಳವಣಿಗೆ ಸರಕು ಸಾಗಣೆದಾರರಿಗೆ ಸ್ಥಿರತೆಯ ಹೊಸ ಅವಧಿಯನ್ನು ಒದಗಿಸುವ ಪ್ರಮುಖ ಮಾರುಕಟ್ಟೆಗಳಲ್ಲಿ ವ್ಯಾಪಾರದ ಶಾಂತಿಯನ್ನು ಹೊಂದಿರುವ ವಿಶ್ವದ ಸಾಗರ ಸಾಗಣೆ ಕಂಪನಿಗಳಿಗೆ ಇದು ಚೇತರಿಕೆಯ ವರ್ಷವಾಗಬೇಕಿತ್ತು ಕಂಟೈನರ್ ಶಿಪ್ಪಿಂಗ್ ಮಾರ್ಗಗಳು ಈ ತ್ರೈಮಾಸಿಕದಲ್ಲಿ ದಾಖಲೆಯ ವೇಗದಲ್ಲಿ ಹಡಗುಗಳನ್ನು ನಿಷ್ಕ್ರಿಯಗೊಳಿಸುತ್ತಿವೆ ಮತ್ತು ಡಜನ್ಗಟ್ಟಲೆ ನೌಕಾಯಾನಗಳನ್ನು ಕಡಿತಗೊಳಿಸಿವೆ ಯುರೋಪ್ ಮತ್ತು ಉತ್ತರ ಅಮೆರಿಕಾವನ್ನು ಚೀನಾಕ್ಕೆ ಸಂಪರ್ಕಿಸುವ ಪ್ರಮುಖ ವ್ಯಾಪಾರ ಮಾರ್ಗಗಳು ವಿಶ್ವದ ಅತಿದೊಡ್ಡ ಉತ್ಪಾದಕ ಉತ್ಪನ್ನಗಳ ರಫ್ತುದಾರ ಮತ್ತು ಕಚ್ಚಾ ಸರಕುಗಳ ಅತಿದೊಡ್ಡ ಆಮದುದಾರರಾಗಿದ್ದರೂ ಡೆನ್ಮಾರ್ಕ್ ನ ಎಪಿ ಮೊಲ್ಲರ್ ಮಾರ್ಸ್ಕ್ ಎಎಸ್ ಮತ್ತು ಚೀನಾದ ಕಾಸ್ಕೊ ಶಿಪ್ಪಿಂಗ್ ಹೋಲ್ಡಿಂಗ್ಸ್ ನಂತಹ ದೊಡ್ಡ ನಿರ್ವಾಹಕರು ತಮ್ಮ ಹಡಗುಗಳನ್ನು ಸಣ್ಣದಾಗಿ ನಿಲ್ಲಿಸುವ ಮೂಲಕ ಹಣಕಾಸಿನ ಸಂಖ್ಯೆಯನ್ನು ಹೀರಿಕೊಳ್ಳಬಹುದು ಚೀನಾದೊಂದಿಗಿನ ವ್ಯವಹಾರದ ಮೇಲೆ ಹೆಚ್ಚು ಅವಲಂಬಿತವಾಗಿರುವ ಕಂಪೆನಿಗಳು ಮರೆಮಾಡಲು ಕಡಿಮೆ ಜಾಗವನ್ನು ಹೊಂದಿರುತ್ತವೆ ಆದರೆ ಆ ಕಂಪನಿಗಳು ಬೆರಳೆಣಿಕೆಯಷ್ಟು ಹಡಗುಗಳನ್ನು ಹೊಂದಿರಬಹುದು ಆದರೆ ದೊಡ್ಡ ಮಾರ್ಗಗಳ ನೆರಳುಗಳಲ್ಲಿ ಪ್ರಾದೇಶಿಕ ವ್ಯಾಪಾರ ಪಥಗಳಲ್ಲಿನ ಜಾಗತಿಕ ವ್ಯಾಪಾರ ಶಟ್ಲಿಂಗ್ ಕಂಟೇನರ್ ಗಳು ಮತ್ತು ಸರಕುಗಳ ನಿರ್ಣಾಯಕ ಭಾಗವನ್ನು ಅವು ದೊಡ್ಡದಾಗಿ ಹೊಂದಿವೆ ವೈರಸ್ ಮತ್ತು ಒಟ್ಟಾರೆ ವ್ಯಾಪಾರ ಮಂದಗತಿಯ ಕಾರಣದಿಂದಾಗಿ ಉದ್ಯಮದ ಭಾಗಗಳು ಸ್ಥಗಿತಗೊಂಡಿವೆ ಸರಕು ಮಾಲೀಕರಿಗೆ ಇಂಧನ ವೆಚ್ಚವನ್ನು ರವಾನಿಸಲು ಕ್ಕೂ ಹೆಚ್ಚು ಸಣ್ಣ ಕಂಟೇನರ್ ಹಡಗುಗಳ ಏಷ್ಯಾದ ಮಾಲೀಕರು ಹೇಳಿದರು ಕರೋನವೈರಸ್ ಸಾಂಕ್ರಾಮಿಕವು ಉದ್ಯಮದ ಪೂರೈಕೆ ಸರಪಳಿಯನ್ನು ಅಡ್ಡಿಪಡಿಸುವುದರಿಂದ ಆಟಿಕೆ ಕಂಪನಿಗಳು ಸಾಗಣೆ ಮತ್ತು ಹೊಸ ಉತ್ಪನ್ನ ಬಿಡುಗಡೆಗಳನ್ನು ವಿಳಂಬಗೊಳಿಸುತ್ತಿವೆ ಮತ್ತು ಚಿಲ್ಲರೆ ಆದೇಶಗಳನ್ನು ತುಂಬಲು ಹೆಣಗಾಡುತ್ತಿವೆ ಚೀನಾದ ಕೆಲವು ಆಟಿಕೆ ಕಾರ್ಖಾನೆಗಳು ವಿಶ್ವದ ಆಟಿಕೆಗಳನ್ನು ತಯಾರಿಸಲಾಗುತ್ತದೆ ಮತ್ತು ಇತರವುಗಳು ಒಂದು ಭಾಗದಲ್ಲಿ ಕಾರ್ಯನಿರ್ವಹಿಸುತ್ತಿವೆ ಕಾರ್ಮಿಕರ ಕೊರತೆ ಅಥವಾ ತಮ್ಮ ಉತ್ಪನ್ನಗಳನ್ನು ತಯಾರಿಸಲು ಕಚ್ಚಾ ವಸ್ತುಗಳು ಮತ್ತು ಅಚ್ಚುಗಳನ್ನು ಭದ್ರಪಡಿಸುವಲ್ಲಿನ ತೊಂದರೆಗಳಿಂದಾಗಿ ಸಾಮರ್ಥ್ಯವು ಉದ್ಯಮದ ಕಾರ್ಯನಿರ್ವಾಹಕರು ಮತ್ತು ವಿಶ್ಲೇಷಕರು ಕಳೆದ ವರ್ಷ ನಿಮ್ಮ ಎಸ್ ನಲ್ಲಿ ಟಾಯ್ ಮಾರಾಟವು ರಷ್ಟು ಕುಸಿದಿದೆ ಎಂದು ಸಂಶೋಧನಾ ಸಂಸ್ಥೆ ಎನ್ ಪಿಡಿ ಗ್ರೂಪ್ ಇಂಕ್ ಹಸ್ಬ್ರೋ ಹೇಳಿದೆ ಮುಂದಿನ ಕೆಲವು ವರ್ಷಗಳಲ್ಲಿ ಚೀನಾ ಮತ್ತು ಅದನ್ನು ಸುಮಾರು ಕ್ಕೆ ಇಳಿಸುವ ಗುರಿ ಹೊಂದಿದೆ ಕಾರ್ಖಾನೆಗಳು ಆಟಿಕೆಗಳನ್ನು ವೇಗವಾಗಿ ಮೊಳಗಿಸಲು ಪ್ರಾರಂಭಿಸಿದರೂ ಸಹ ಮತ್ತೊಂದು ಸವಾಲು ಅವುಗಳನ್ನು ಚೀನಾದಿಂದ ಹೊರತೆಗೆಯಲಿದೆ ಏಕೆಂದರೆ ಆಟಿಕೆಗಳು ಐಫೋನ್ ಗಳು ಮತ್ತು ಇತರ ಗ್ರಾಹಕ ಉತ್ಪನ್ನಗಳೊಂದಿಗೆ ಸಾರಿಗೆಗಾಗಿ ಸ್ಪರ್ಧಿಸಬೇಕಾಗುತ್ತದೆ ಸ್ಟಾಕ್ಹೋಮ್ ಫೆಬ್ರವರಿ ರಾಯಿಟರ್ಸ್ ಎಚ್ ಎಂ ವಿಶ್ವದ ಎರಡನೇ ಅತಿದೊಡ್ಡ ಫ್ಯಾಷನ್ ಚಿಲ್ಲರೆ ವ್ಯಾಪಾರಿ ಗುರುವಾರ ಕರೋನವೈರಸ್ ಏಕಾಏಕಿ ಪೂರೈಕೆಯಲ್ಲಿ ಯಾವುದೇ ಪ್ರಮುಖ ವಿಳಂಬವನ್ನು ಕಾಣುತ್ತಿಲ್ಲ ಎಂದು ಹೇಳಿದರು ಎಚ್ ಎಂ ವಕ್ತಾರರನ್ನು ಪೂರೈಸುವಲ್ಲಿ ವೈರಸ್ ಯಾವುದೇ ದೊಡ್ಡ ವಿಳಂಬಕ್ಕೆ ಕಾರಣವಾಗುತ್ತದೆ ಎಂದು ನಾವು ಪ್ರಸ್ತುತ ನೋಡುತ್ತಿಲ್ಲ ಏಕಾಏಕಿ ಐಷಾರಾಮಿ ಕೈಚೀಲ ತಯಾರಕ ಹರ್ಮ್ಸ್ ಬುಧವಾರ ಹೇಳಿದ್ದು ಏಷ್ಯಾದ ಅನೇಕ ಬಟ್ಟೆ ಕಾರ್ಖಾನೆಗಳ ಮೂಲ ಸರಬರಾಜುಗಳಾದ ಚೀನಾ ಎಚ್ ಎಂನಿಂದ ಫ್ಯಾಬ್ರಿಕ್ ಮತ್ತು ನೂಲಿನಂತಹ ಸರಬರಾಜು ಈ ತಿಂಗಳ ಮೂರನೇ ಒಂದು ಭಾಗವನ್ನು ಮುಚ್ಚಿದ ನಂತರ ಕ್ರಮೇಣ ಚೀನಾದಲ್ಲಿ ತನ್ನ ಮಳಿಗೆಗಳನ್ನು ಪುನಃ ತೆರೆಯುತ್ತಿದೆ ಏಕಾಏಕಿ ಚೀನಾ ಮುಚ್ಚಿದ ನಂತರ ಮುಚ್ಚಿದೆ ಕರೋನವೈರಸ್ ನಿಂದ ಉಂಟಾದ ಬಲವಾದ ಬೇಡಿಕೆಯನ್ನು ಪೂರೈಸಲು ಸಾಕಷ್ಟು ಹ್ಯಾಂಡ್ ಸ್ಯಾನಿಟೈಸರ್ ಇದೆ ಎಂದು ವಿಶ್ವದ ಅತಿದೊಡ್ಡ ಇಲಿ ಕ್ಯಾಚರ್ ರೆಂಟೊಕಿಲ್ ಹೇಳಿದ್ದಾರೆ ಆದರೆ ಅದರ ಉತ್ಪನ್ನಗಳ ದಾಸ್ತಾನು ಮುಂದಿನ ಕೆಲವು ತಿಂಗಳುಗಳವರೆಗೆ ಮಾತ್ರ ಉಳಿಯುತ್ತದೆ ಎಂದು ಕೈ ತೊಳೆಯುವುದು ಮತ್ತು ಕೈ ಸ್ವಚ್ ಗೊಳಿಸುವ ಸೇವೆಗಳಿಗಾಗಿ ಗ್ರಾಹಕರ ವಿಚಾರಣೆ ಪ್ರಬಲವಾಗಿದೆ ಎಂದು ರೆಂಟೊಕಿಲ್ ಹೇಳಿದ್ದಾರೆ ಏಕಾಏಕಿ ಉದ್ದೇಶಿಸಿ ಗುರುವಾರ ಹೂಡಿಕೆದಾರರಿಗೆ ನೀಡಿದ ಹೇಳಿಕೆಯಲ್ಲಿ ಇದು ಚೀನಾದಲ್ಲಿ ಸರಬರಾಜುದಾರರಿಂದ ಪಡೆದ ಹೆಚ್ಚಿನ ಉತ್ಪನ್ನಗಳನ್ನು ಮುಂದಿನ ಕೆಲವು ತಿಂಗಳುಗಳವರೆಗೆ ಅಸ್ತಿತ್ವದಲ್ಲಿರುವ ಷೇರುಗಳಿಂದ ಆವರಿಸಿದೆ ಎಂದು ರೆಂಟೊಕಿಲ್ ಹೇಳಿದ್ದು ತೆರಿಗೆಗೆ ಮುಂಚಿನ ಹೊಂದಾಣಿಕೆಯ ಲಾಭವು ಬಿಲಿಯನ್ ಆದಾಯದ ಮೇಲೆ ರಿಂದ ದಶಲಕ್ಷಕ್ಕೆ ಏರಿದೆ ಇದು ಬೆಳೆಯಿತು ಷೇರುಗಳು ರಿಂದ ಗೆ ಏರಿಕೆಯಾಗಿರುವುದರಿಂದ ಕಂಪನಿಯು ನಿರೀಕ್ಷೆಗಳಿಗೆ ಅನುಗುಣವಾಗಿ ಕಾರ್ಯನಿರ್ವಹಿಸಿದೆ ಎಂದು ವಿಶ್ಲೇಷಕರು ಹೇಳಿದ್ದಾರೆ ನಿಮ್ಮ ಸಾಧನದಲ್ಲಿ ಮೀಡಿಯಾ ಪ್ಲೇಬ್ಯಾಕ್ ಬೆಂಬಲಿಸುವುದಿಲ್ಲ ಕರೋನವೈರಸ್ ಭಯದ ಮಧ್ಯೆ ವೆನಿಸ್ ಬೀದಿಗಳಲ್ಲಿ ಮಾಧ್ಯಮ ಶೀರ್ಷಿಕೆ ಫ್ರಾನ್ಸ್ ಕರೋನವೈರಸ್ ಸಾಂಕ್ರಾಮಿಕಕ್ಕೆ ಅಧ್ಯಕ್ಷ ಇಮ್ಯಾನ್ಯುಯೆಲ್ ಮ್ಯಾಕ್ರೋನ್ ಹೇಳುತ್ತಾರೆ ಆದರೆ ಯುರೋಪಿನಲ್ಲಿ ಕೆಟ್ಟ ಪೀಡಿತ ದೇಶ ಇಟಲಿ ತಪ್ಪುದಾರಿಗೆಳೆಯುವ ಸುದ್ದಿಯನ್ನು ಸೃಷ್ಟಿಸುತ್ತಿದೆ ಎಂದು ಇಟಲಿ ರಲ್ಲಿ ಕೊರೋನವೈರಸ್ ಪ್ರಕರಣಗಳಲ್ಲಿ ಏರಿಕೆ ದಾಖಲಿಸಿದೆ ಗಂಟೆಗಳು ಮತ್ತು ಸೋಂಕುಗಳು ಎರಡು ಉತ್ತರದ ಪ್ರದೇಶಗಳಲ್ಲಿನ ಏಕಾಏಕಿ ಕೇಂದ್ರೀಕೃತವಾಗಿ ಉಳಿದಿವೆ ಲೊಂಬಾರ್ಡಿ ಮತ್ತು ವೆನೆಟೊ ಇಮೇಜ್ ಕೃತಿಸ್ವಾಮ್ಯ ರಾಯಿಟರ್ಸ್ ಚಿತ್ರ ಶೀರ್ಷಿಕೆ ಲೊಂಬಾರ್ಡಿ ಗವರ್ನರ್ ಅಟಿಲಿಯೊ ಫೊಂಟಾನಾ ತಮ್ಮನ್ನು ಸಂಪರ್ಕತಡೆಗೆ ಒಳಪಡಿಸಿದ್ದಾರೆ ಬುಧವಾರ ವಿಶ್ವ ಆರೋಗ್ಯ ಸಂಸ್ಥೆ ಡಬ್ಲ್ಯುಎಚ್ ಒ ಮೊದಲ ಬಾರಿಗೆ ವೈರಸ್ ಚೀನಾದ ಹೊರಗೆ ವೇಗವಾಗಿ ಹರಡುತ್ತಿದೆ ಎಂದು ಹೇಳಿದರು ಹೆಚ್ಚಿನ ಬೆಳವಣಿಗೆಗಳಲ್ಲಿ ಡೆನ್ಮಾರ್ಕ್ ಎಸ್ಟೋನಿಯಾದಲ್ಲಿ ಮೊದಲ ಕರೋನವೈರಸ್ ಪ್ರಕರಣಗಳನ್ನು ಘೋಷಿಸಲಾಗಿದೆ ಮತ್ತು ರೊಮೇನಿಯಾ ರೊಮೇನಿಯನ್ ಅಧ್ಯಕ್ಷ ಕ್ಲಾಸ್ ಐಹಾನಿಸ್ ರೊಮೇನಿಯನ್ನರನ್ನು ಭಯಭೀತರಾಗದಂತೆ ಕೋರಿದ್ದಾರೆ ಆತಂಕಕ್ಕೊಳಗಾದ ವ್ಯಾಪಾರಿಗಳು ಸೂಪರ್ಮಾರ್ಕೆಟ್ ಕಪಾಟನ್ನು ಖಾಲಿ ಮಾಡಿದ್ದಾರೆ ಮತ್ತು ಏಷ್ಯನ್ ಜನರನ್ನು ಬೆದರಿಸುತ್ತಾರೆ ಎಂಬ ವರದಿಗಳ ನಡುವೆ ಎರಡು ರೋಗಿಗಳು ಇಂಗ್ಲೆಂಡ್ ನಲ್ಲಿ ಧನಾತ್ಮಕ ಪರೀಕ್ಷೆಯನ್ನು ನಡೆಸಿದ್ದಾರೆ ಯುಕೆ ಪ್ರಕರಣಗಳನ್ನು ಕ್ಕೆ ತಲುಪಿಸಲಾಗಿದೆ ಹಂಗೇರಿಯನ್ ಫುಟ್ಬಾಲ್ ತಂಡವು ಇಟಾಲಿಯನ್ ಕೋಚ್ ಗೈಸೆಪೆ ಸನ್ನಿನೊ ಮತ್ತು ಅವರ ಸಹಾಯಕ ಅಲೆಸ್ಸಾಂಡ್ರೊ ಇತ್ತೀಚಿನವರನ್ನು ತಾತ್ಕಾಲಿಕವಾಗಿ ಅಮಾನತುಗೊಳಿಸಿದೆ ಅವರು ಇಟಾಲಿಯನ್ ವೈರಸ್ ವಾಹಕಗಳೊಂದಿಗೆ ಸಂಪರ್ಕ ಹೊಂದಿರಬಹುದೆಂಬ ಭಯದಿಂದ ಇತ್ತೀಚಿನ ದಿನಗಳಲ್ಲಿ ಆಸ್ಟ್ರಿಯಾ ಕ್ರೊಯೇಷಿಯಾ ಗ್ರೀಸ್ ನಾರ್ವೆ ಸ್ವಿಟ್ಜರ್ಲೆಂಡ್ ಜಾರ್ಜಿಯಾ ಮತ್ತು ಉತ್ತರ ಮ್ಯಾಸಿಡೋನಿಯಾ ತಮ್ಮ ಮೊದಲ ಪ್ರಕರಣಗಳನ್ನು ವರದಿ ಮಾಡಿದೆ ಅವರಲ್ಲಿ ಇಟಲಿಗೆ ಹೋಗಿದ್ದ ಜನರು ಇಟಲಿಯ ಸಾಂಕ್ರಾಮಿಕ ಪರಿಸ್ಥಿತಿ ಅನಿವಾರ್ಯವಲ್ಲ ರ ಜನವರಿಯಿಂದ ಡಬ್ಲ್ಯುಟಿಐ ತನ್ನ ಕಡಿಮೆ ಬೆಲೆಯಲ್ಲಿ ಬುಧವಾರ ಮುಚ್ಚಲ್ಪಟ್ಟಿದೆ ಎಂದು ಥೆವಾಲ್ ಸ್ಟ್ರೀಟ್ ಜರ್ನಲ್ ವರದಿ ಮಾಡಿದ ನಂತರ ಗುರುವಾರ ಯುಎಸ್ ಮತ್ತು ಜಾಗತಿಕ ತೈಲ ಬೆಲೆಗಳು ಕುಸಿದವು ಕೊರೊನಾವೈರಸ್ ಆರೋಗ್ಯ ಬಿಕ್ಕಟ್ಟಿನ ಕುರಿತಾದ ವರದಿಗಳು ಹದಗೆಟ್ಟಿದ್ದರಿಂದ ಹೂಡಿಕೆದಾರರು ಆರ್ಥಿಕ ಕುಸಿತದಿಂದಾಗಿ ತೈಲ ಬೇಡಿಕೆಗೆ ತುತ್ತಾಗುತ್ತಾರೆ ಎಂಬ ಆತಂಕ ಹೆಚ್ಚಿನ ಕಥೆಗಳಿಗಾಗಿ ಬಿಸಿನೆಸ್ ಇನ್ಸೈಡರ್ ಮುಖಪುಟ ಡಬ್ಲ್ಯುಟಿಐ ಕಚ್ಚಾ ತನ್ನ ಹಿಂದಿನ ಮುಕ್ತಾಯದ ಬೆಲೆಯಿಂದ ಅನ್ನು ಬ್ಯಾರೆಲ್ ಗೆ ಕ್ಕೆ ಇಳಿಸಿತು ಆ ಕುಸಿತವನ್ನು ಹೆಚ್ಚು ನಾಟಕೀಯವಾಗಿ ಬುಧವಾರದ ಮುಕ್ತಾಯದ ಬೆಲೆಯು ನಿಮಗೆ ತಿಂಗಳ ಕಡಿಮೆ ಎಂದು ಎಸ್ ಕಚ್ಚಾ ವಾಲ್ ಸ್ಟ್ರೀಟ್ ಜರ್ನಲ್ ಈ ಹಿಂದೆ ವರದಿ ಮಾಡಿದೆ ಕಚ್ಚಾ ಜಾಗತಿಕ ಮಾನದಂಡವು ಗುರುವಾರ ರಷ್ಟು ಕುಸಿದಿದ್ದು ಬ್ಯಾರೆಲ್ ಗೆ ರ ವಹಿವಾಟು ನಡೆಸಿತು ಇದು ಬುಧವಾರದಿಂದ ಬ್ರೆಂಟ್ ಅನ್ನು ಕ್ಕೆ ಮುಚ್ಚಿದಾಗ ಕುಸಿತವನ್ನು ವಿಸ್ತರಿಸಿತು ವುಹಾನ್ ಕರೋನವೈರಸ್ ಜಾಗತಿಕವಾಗಿ ಹದಗೆಡುತ್ತಿರುವ ಬೆದರಿಕೆಯ ಸುತ್ತಲಿನ ಭಾವನೆಯಂತೆ ಮಾರಾಟವು ಬರುತ್ತದೆ ಕರೋನವೈರಸ್ ಹರಡುವ ಭೀತಿಯ ಮಧ್ಯೆ ಯುಎಸ್ ಸುತ್ತಮುತ್ತಲಿನ ಶಾಪರ್ ಗಳು ಆಹಾರ ಶೌಚಾಲಯದ ಕಾಗದ ಮತ್ತು ನೀರಿನ ಮೇಲೆ ಸಂಗ್ರಹಿಸುತ್ತಿದ್ದಾರೆ ಟಿವಿ ಸ್ಟೇಷನ್ ಕೆಐಟಿವಿ ಪ್ರಕಾರ ದಿನಗಳ ಮೌಲ್ಯದ ತುರ್ತು ಸರಬರಾಜುಗಳನ್ನು ಹೊಂದಲು ಪ್ರೋತ್ಸಾಹಿಸಲಾಯಿತು ಚೀನಾ ಮುಖ್ಯ ಭೂಪ್ರದೇಶದಲ್ಲಿ ಕ್ಕೂ ಹೆಚ್ಚು ಪ್ರಕರಣಗಳನ್ನು ಹೊಂದಿರುವ ಕರೋನವೈರಸ್ ಈ ಹಿಂದೆ ಹೋಮ್ಲ್ಯಾಂಡ್ ಸೆಕ್ಯುರಿಟಿ ಇಲಾಖೆಯೊಂದಿಗೆ ನ್ಯೂಯಾರ್ಕ್ ನಿಯತಕಾಲಿಕೆಗೆ ತಿಳಿಸಿದ್ದು ಮೊದಲ ನಿಮ್ಮ ಮೇಲಿದೆ ಎಂದರೆ ಜನರು ಆರಂಭದಲ್ಲಿ ಮೂರು ಪೂರ್ಣ ದಿನಗಳ ಮೌಲ್ಯದ ಸರಬರಾಜುಗಳನ್ನು ಸಂಗ್ರಹಿಸಬೇಕು ಎಂದು ಅಧ್ಯಕ್ಷ ಟ್ರಂಪ್ ಜನರಿಗೆ ಭರವಸೆ ನೀಡಿದರು ನಿನ್ನೆ ಯುಎಸ್ ಕರೋನವೈರಸ್ ಏಕಾಏಕಿ ಏನನ್ನು ತರುತ್ತದೆ ಎಂಬುದಕ್ಕೆ ಸಿದ್ಧವಾಗಿದೆ ಮತ್ತು ಅವರು ಉಪಾಧ್ಯಕ್ಷ ಮೈಕ್ ಪೆನ್ಸ್ ಅವರನ್ನು ದೇಶದ ಪ್ರಯತ್ನಗಳ ಉಸ್ತುವಾರಿ ವಹಿಸಿದ್ದಾರೆ ಮಿಲಿಟರಿ ಶಸ್ತ್ರಾಸ್ತ್ರಗಳ ಬುಕಿಂಗ್ ಹಿಮ್ಮುಖ ಮತ್ತು ಆಟೊಗಳಿಗೆ ಕಡಿಮೆ ಬೇಡಿಕೆಯಿಂದಾಗಿ ಬಾಳಿಕೆ ಬರುವ ಸರಕುಗಳ ಆದೇಶಗಳು ಜನವರಿ ತಿಂಗಳಲ್ಲಿ ಸ್ವಲ್ಪ ಕುಸಿಯಿತು ಆದರೆ ವ್ಯಾಪಾರ ಹೂಡಿಕೆ ಇನ್ನೂ ಮೃದುವಾಗಿರುತ್ತದೆ ಮತ್ತು ಹರಡುವ ಕರೋನವೈರಸ್ನಿಂದ ಬಾಳಿಕೆ ಬರುವ ಸರಕುಗಳ ಆದೇಶಗಳಿಂದ ಜಾಗತಿಕ ಆರ್ಥಿಕತೆಗೆ ಉಂಟಾಗುವ ಅಡೆತಡೆಗಳ ಬೆಳಕಿನಲ್ಲಿ ಉಳಿಯುತ್ತದೆ ಕಳೆದ ತಿಂಗಳು ರಷ್ಟು ಮುಳುಗಿದೆ ಎಂದು ಮಾರ್ಕೆಟ್ ವಾಚ್ ಸಮೀಕ್ಷೆ ನಡೆಸಿದ ಅರ್ಥಶಾಸ್ತ್ರಜ್ಞರು ಕನಿಷ್ಟ ಮೂರು ವರ್ಷಗಳ ಕಾಲ ಬಾಳಿಕೆ ಬರುವ ಸರಕು ಉತ್ಪನ್ನಗಳ ಆದೇಶದಲ್ಲಿ ಕುಸಿತದ ಮುನ್ಸೂಚನೆ ನೀಡಿದ್ದಾರೆ ಎಂದು ಸರ್ಕಾರ ಹೇಳಿದೆ ಕರೋನವೈರಸ್ ತೊಂದರೆಗಳಿಗೆ ಗ್ರಾಹಕರನ್ನು ಪೂರೈಸುವ ಎಸ್ ಕಂಪನಿಗಳನ್ನು ಓದಿ ಏನಾಯಿತು ಆದೇಶಗಳು ಆಟೋಗಳಿಗೆ ಕುಸಿದವು ಬಾಳಿಕೆ ಬರುವ ಸರಕುಗಳ ದೊಡ್ಡ ವಿಭಾಗಗಳಲ್ಲಿ ಒಂದಾಗಿದೆ ಕರೋನವೈರಸ್ ಜಾಗತಿಕ ಆರ್ಥಿಕ ಸಾಂಕ್ರಾಮಿಕ ರೋಗವಾಗಿ ಪರಿಣಮಿಸುತ್ತದೆ ಎಂಬ ಭಯ ಹೆಚ್ಚುತ್ತಿದೆ ಮಾರ್ಕೆಟ್ ಪ್ರತಿಕ್ರಿಯೆ ಡೌ ಜೋನ್ಸ್ ಕೈಗಾರಿಕಾ ಸರಾಸರಿ ಡಿಜೆಐಎ ಮತ್ತು ಎಸ್ ಪಿ ಎಸ್ ಪಿಎಕ್ಸ್ ಗುರುವಾರ ವಹಿವಾಟಿನಲ್ಲಿ ಕಡಿಮೆ ತೆರೆಯಲು ಸಿದ್ಧವಾಗಿದೆ ಜಪಾನ್ ನಲ್ಲಿನ ಕರೋನವೈರಸ್ ಏಕಾಏಕಿ ವಿದ್ಯಾರ್ಥಿಗಳು ವಿಶ್ವ ನಿಯಮಿತವಾಗಿ ಮುನ್ನೆಚ್ಚರಿಕೆಗಳನ್ನು ತೆಗೆದುಕೊಳ್ಳುವುದರಿಂದ ಅವರ ನಿಯಮಿತವಾಗಿ ನಿಗದಿತ ಶಾಲೆಗೆ ಅಲುಗಾಡುವಿಕೆಗೆ ಒಳಗಾಗುತ್ತಾರೆ ಟ್ ಲೆಟ್ ಪ್ರಕಾರ ಕರೋನವೈರಸ್ನ ಮತ್ತಷ್ಟು ಹರಡುವಿಕೆಯನ್ನು ಸ್ಕ್ವ್ಯಾಷ್ ಮಾಡುವ ಆಶಯವು ದೇಶಾದ್ಯಂತ ಸುಮಾರು ಶಾಲೆಗಳ ಮೇಲೆ ಪರಿಣಾಮ ಬೀರುತ್ತದೆ ತರಗತಿಗಳ ವಿದ್ಯಾರ್ಥಿಗಳು ಕಥೆಯ ಸೈನ್ ಅಪ್ ಅನ್ನು ಎಂದಿಗೂ ತಪ್ಪಿಸಿಕೊಳ್ಳಬೇಡಿ ಜನರು ರಸಭರಿತ ಸೆಲೆಬ್ರಿಟಿ ಸುದ್ದಿಗಳಿಂದ ಬಲವಾದ ಮಾನವ ಹಿತಾಸಕ್ತಿ ಕಥೆಗಳವರೆಗೆ ಜನರು ಏನು ನೀಡಬೇಕೆಂಬುದರ ಬಗ್ಗೆ ನವೀಕೃತವಾಗಿರಿ ಕೇಟ್ ಹಡ್ಸನ್ ಮತ್ತು ಗ್ವಿನೆತ್ ಪಾಲ್ಟ್ರೋ ಅವರಂತಹ ಮುಖವಾಡಗಳು ಏಕೆ ಕೊರೊನಾವೈರಸ್ ಅನ್ನು ತಡೆಗಟ್ಟಲು ಸಾಕಾಗುವುದಿಲ್ಲ ಇತರ ದೇಶಗಳಲ್ಲಿನ ಹರಡುವಿಕೆಯು ನಮ್ಮ ಕಾಳಜಿಯ ಮಟ್ಟವನ್ನು ಹೆಚ್ಚಿಸಿದೆ ಮತ್ತು ನಾವು ಇಲ್ಲಿ ಸಮುದಾಯವನ್ನು ಹರಡಲಿದ್ದೇವೆ ಎಂಬ ನಮ್ಮ ನಿರೀಕ್ಷೆಯ ಮಟ್ಟವನ್ನು ಹೆಚ್ಚಿಸಿದೆ ಎಂದು ಮೆಸ್ಸೊನಿಯರ್ ಹೇಳಿದರು ನಾವು ಪ್ರತಿ ವಲಯದ ಜನರನ್ನು ಮತ್ತು ಅವರ ಕುಟುಂಬದ ಜನರನ್ನು ಯೋಜನೆಯನ್ನು ಪ್ರಾರಂಭಿಸಲು ಕೇಳುತ್ತಿದ್ದೇವೆ ಇದಕ್ಕಾಗಿ ಏಕೆಂದರೆ ಇತ್ತೀಚಿನ ದೇಶಗಳಿಂದ ನಾವು ನೋಡಿದಂತೆ ಸಮುದಾಯವನ್ನು ಹರಡಿದಾಗ ಅದು ಆ ಕೌಂಟರ್ ಗಳಲ್ಲಿ ಹೊಡೆದಾಗ ಅಂದರೆ ಅದು ಸಾಕಷ್ಟು ವೇಗವಾಗಿ ಚಲಿಸಿದೆ ಆದ್ದರಿಂದ ಅಮೆರಿಕಾದ ಸಾರ್ವಜನಿಕರು ಸಿದ್ಧರಾಗಿದ್ದಾರೆ ಎಂದು ಖಚಿತಪಡಿಸಿಕೊಳ್ಳಲು ನಾವು ಬಯಸುತ್ತೇವೆ ಮೆಸ್ಸೊನಿಯರ್ ಅವರು ಚೀನಾ ಇಟಲಿ ಮತ್ತು ದಕ್ಷಿಣ ಕೊರಿಯಾದಂತೆ ಹರಡುವಿಕೆಯ ನಾಟಕೀಯವಾಗಿ ನೀವು ಎಸ್ ಅನುಭವಿಸುವಿರಾ ಎಂದು ಸಿಡಿಸಿ ಖಚಿತವಾಗಿಲ್ಲ ಎಂದು ಹೇಳಿದರು ಉತ್ಪಾದನಾ ಪೂರೈಕೆ ಸರಪಳಿ ಮತ್ತು ಕಾರ್ಯಾಚರಣೆಗಳ ಗುಂಪಿನಲ್ಲಿ ಕೆಲಸ ಮಾಡಿದ ಅನುಭವಿ ಕಾರ್ಯನಿರ್ವಾಹಕರನ್ನು ಆಪಲ್ ಇಂಕ್ ಕಳೆದುಕೊಂಡಿದೆ ಮತ್ತು ಕಂಪನಿಯ ಹಲವು ಪ್ರಮುಖ ಸಾಧನಗಳ ಉತ್ಪಾದನೆಯಲ್ಲಿ ಪ್ರಮುಖ ಭಾಗವಹಿಸುವವರಾಗಿತ್ತು ಉತ್ಪಾದನಾ ವಿನ್ಯಾಸದ ಉಪಾಧ್ಯಕ್ಷ ನಿಕ್ ಫೋರ್ಲೆನ್ಜಾ ಆಪಲ್ ನಿಂದ ನಿವೃತ್ತರಾಗಿದ್ದರೆ ಮತ್ತೊಬ್ಬರು ಡುಕೋ ಪಾಸ್ಮೂಯಿಜ್ ಕಾರ್ಯಾಚರಣೆಗಳಲ್ಲಿ ಕೆಲಸ ಮಾಡಿದ ಉಪಾಧ್ಯಕ್ಷರು ಮುಂದಿನ ದಿನಗಳಲ್ಲಿ ನಿರ್ಗಮನದ ಬಗ್ಗೆ ಚರ್ಚಿಸುತ್ತಿದ್ದಾರೆ ಆಪಲ್ ಕಂಪನಿಯಾದ್ಯಂತ ಸುಮಾರು ನೂರು ಉಪಾಧ್ಯಕ್ಷರನ್ನು ಹೊಂದಿದೆ ಅವರು ಮುಖ್ಯ ಕಾರ್ಯನಿರ್ವಾಹಕ ಅಧಿಕಾರಿ ಟಿಮ್ ಕುಕ್ ಮತ್ತು ಹಿರಿಯ ಕಾರ್ಯನಿರ್ವಾಹಕ ತಂಡವು ವಿಶ್ವದ ಹೆಚ್ಚಿನದನ್ನು ನಡೆಸಲು ಸಹಾಯ ಮಾಡುತ್ತಾರೆ ಲಾಭದಾಯಕ ಕಂಪನಿಗಳು ವರ್ಷಗಳ ಹಿಂದೆ ಆಪಲ್ಗೆ ಸೇರಿದಾಗಿನಿಂದ ಕುಕ್ ಕಡಿಮೆ ವೆಚ್ಚದ ನುರಿತ ಕಾರ್ಮಿಕರ ಸಹಾಯದಿಂದ ಸಾಧನಗಳನ್ನು ತಯಾರಿಸಲು ಮತ್ತು ಆ ಉತ್ಪನ್ನಗಳನ್ನು ಪ್ರಪಂಚದಾದ್ಯಂತ ಸಾಗಿಸಲು ಚೀನಾವನ್ನು ಅವಲಂಬಿಸಿರುವ ಆಪಲ್ನ ಸರಬರಾಜು ಸರಪಳಿಯನ್ನು ಮಾರ್ಪಡಿಸಿದೆ ಪಾಸ್ಮೂಯಿಜ್ ಅನೇಕ ವರ್ಷಗಳಿಂದ ಆಪಲ್ ಉತ್ಪಾದನಾ ಕಾರ್ಯಾಚರಣೆಯನ್ನು ಮುನ್ನಡೆಸಲು ಸಹಾಯ ಮಾಡಿತು ಪ್ರಮುಖ ಉತ್ಪನ್ನ ಐಫೋನ್ ಕಂಪನಿಯು ಕಳೆದ ಐದು ವರ್ಷಗಳಲ್ಲಿ ಸುಮಾರು ಮಳಿಗೆಗಳನ್ನು ಇಳಿಸಿದೆ ಫೆಬ್ರವರಿ ಕ್ಕೆ ಕೊನೆಗೊಂಡ ಜೆಸಿಪೆನ್ನಿಯ ಆರ್ಥಿಕ ವರ್ಷದಲ್ಲಿ ಕನಿಷ್ಠ ಒಂದು ವರ್ಷ ತೆರೆದಿರುವ ಅಂಗಡಿಗಳಲ್ಲಿನ ಮಾರಾಟವು ಕುಸಿದಿದೆ ಜೆಸಿಪೆನ್ನೆ ಕನಿಷ್ಠ ಒಂದು ವರ್ಷ ತೆರೆದಿರುವ ಅಂಗಡಿಗಳಲ್ಲಿನ ಮಾರಾಟವು ಕುಸಿಯುತ್ತದೆ ಎಂದು ನಿರೀಕ್ಷಿಸಿದೆ ಪ್ರಸಕ್ತ ಹಣಕಾಸು ವರ್ಷದಲ್ಲಿ ಮತ್ತೊಂದು ರಿಂದ ರಷ್ಟಿದೆ ಎಂದು ಕಂಪನಿಯು ಹೇಳಿದ್ದರೂ ಜೆಸಿಪೆನ್ನೆ ಪ್ರತಿಸ್ಪರ್ಧಿ ಈ ತಿಂಗಳ ಆರಂಭದಲ್ಲಿ ಯೋಜನೆಗಳನ್ನು ಘೋಷಿಸಿತು ಕಳೆದ ವರ್ಷ ದಾಖಲೆಯ ಸಂಖ್ಯೆಯ ಮಳಿಗೆಗಳು ಮುಚ್ಚಲ್ಪಟ್ಟವು ಜೆಸಿಪೆನ್ನೆ ಮಳಿಗೆಗಳನ್ನು ಮುಚ್ಚುವ ಯೋಜನೆಗಳನ್ನು ಈ ತಿಂಗಳ ಆರಂಭದಲ್ಲಿ ಮುಚ್ಚಿದ್ದಾರೆ ಜಪಾನ್ ಪ್ರಸ್ತುತ ಮುಂಬರುವ ಒಲಿಂಪಿಕ್ ಕ್ರೀಡಾಕೂಟಕ್ಕೆ ಬೆದರಿಕೆಯೊಡ್ಡುತ್ತಿರುವ ಅನೇಕ ಕರೋನವೈರಸ್ ಏಕಾಏಕಿ ರೋಗಗಳನ್ನು ಎದುರಿಸುತ್ತಿದೆ ಮತ್ತು ಈಗ ಶಸ್ತ್ರಚಿಕಿತ್ಸೆಯ ಮುಖವಾಡದ ಕೊರತೆಯ ವದಂತಿಗಳ ಮಧ್ಯೆ ಗದ್ದಲಗಳು ಬೀದಿಗಳಲ್ಲಿ ಭುಗಿಲೆದ್ದಿವೆ ಮುಖವಾಡಗಳ ಬೇಡಿಕೆ ಜಪಾನ್ ನಾದ್ಯಂತ ಗಗನಕ್ಕೇರಿದೆ ಈಗಾಗಲೇ ಉದ್ವಿಗ್ನ ಪರಿಸ್ಥಿತಿ ದುರದೃಷ್ಟವಶಾತ್ ಉದ್ವಿಗ್ನತೆ ಉಂಟಾಗಿದೆ ಮತ್ತು ಹಲವಾರು ಬೀದಿ ಜಗಳಗಳಲ್ಲಿ ತೊಡಗಿರುವ ಹಲವಾರು ಶಾಪರ್ ಗಳು ಈಗ ಜಪಾನ್ ನಾದ್ಯಂತ ಕ್ಕೂ ಹೆಚ್ಚು ಕರೋನವೈರಸ್ ಪ್ರಕರಣಗಳು ವರದಿಯಾಗಿವೆ ಇದುವರೆಗೆ ನಾಲ್ಕು ಸಾವುಗಳು ದಾಖಲಾಗಿವೆ ಈ ವಾರ ಒಸಾಕಾದಲ್ಲಿ ಮಹಿಳೆಯೊಬ್ಬರು ದೇಶದ ಮೊದಲ ವರದಿಯಾದ ಪ್ರಕರಣವಾಗಿದೆ ಅನಾರೋಗ್ಯದಿಂದ ಸಂಪೂರ್ಣವಾಗಿ ಚೇತರಿಸಿಕೊಂಡಂತೆ ಕಾಣಿಸಿಕೊಂಡ ನಂತರ ಆಸ್ಪತ್ರೆಯಿಂದ ಬಿಡುಗಡೆಯಾದ ನಂತರ ವ್ಯಕ್ತಿಯನ್ನು ಮರುಸೃಷ್ಟಿಸಲಾಗಿದೆ ಎಎಫ್ ಪಿ ಫೋಟೋ ಪಾಲ್ ಜೆ ರಿಚರ್ಡ್ಸ್ ಫೋಟೋ ಕ್ರೆಡಿಟ್ ಓದಬೇಕು ಪಾಲ್ ಜೆ ರಿಚರ್ಡ್ಸ್ ಎಎಫ್ ಪಿ ಗೆಟ್ಟಿ ಇಮೇಜಸ್ ಟ್ರಂಪ್ ಆಡಳಿತವು ಹೊಸ ಶೂನ್ಯ ಸಹಿಷ್ಣು ನೀತಿಯಡಿ ತಮ್ಮ ಹೆತ್ತವರಿಂದ ಬೇರ್ಪಟ್ಟ ವಲಸೆ ಮಕ್ಕಳನ್ನು ಅನೇಕರು ತಮ್ಮ ಆಡಳಿತದ ಪಕ್ಕದಲ್ಲಿರುವ ಡೇರೆಗಳ ನಡುವೆ ಒಂದೇ ಫೈಲ್ ನಲ್ಲಿ ನಡೆದುಕೊಂಡು ಹೋಗುವುದನ್ನು ತೋರಿಸಲಾಗಿದೆ ಟೊರ್ನಿಲ್ಲೊ ಟೆಕ್ಸಾಸ್ ನಲ್ಲಿ ಮೆಕ್ಸಿಕನ್ ಗಡಿ ನೀವು ಎಸ್ ಜೂನ್ ರಾಯಿಟರ್ಸ್ ಮೈಕ್ ಬ್ಲೇಕ್ ವಲಸೆ ಮಕ್ಕಳನ್ನು ಟ್ರಂಪ್ ಆಡಳಿತವು ಹೊಸ ಶೂನ್ಯ ಸಹಿಷ್ಣು ನೀತಿಯಡಿ ಪೋಷಕರಿಂದ ಬೇರ್ಪಡಿಸಲಾಗಿದೆ ಟೊರ್ನಿಲ್ಲೊ ಟೆಕ್ಸಾಸ್ ನ ಮೆಕ್ಸಿಕನ್ ಗಡಿಯ ಪಕ್ಕದ ಡೇರೆಗಳಲ್ಲಿ ನೀವು ಎಸ್ ಜೂನ್ ಮೈಕ್ ಬ್ಲೇಕ್ ವಲಸೆ ಮಕ್ಕಳನ್ನು ಟ್ರಂಪ್ ಆಡಳಿತವು ಹೊಸ ಶೂನ್ಯ ಸಹಿಷ್ಣು ನೀತಿಯಡಿ ತಮ್ಮ ಹೆತ್ತವರಿಂದ ಬೇರ್ಪಡಿಸಲಾಗಿದೆ ಎಂದು ತೋರಿಸಲಾಗಿದೆ ಟೊರ್ನಿಲ್ಲೊ ಟೆಕ್ಸಾಸ್ ನ ಮೆಕ್ಸಿಕನ್ ಗಡಿಯ ಪಕ್ಕದಲ್ಲಿರುವ ತಮ್ಮ ಕಾಂಪೌಂಡ್ ನಲ್ಲಿರುವ ಡೇರೆಗಳ ನಡುವೆ ಒಂದೇ ಫೈಲ್ ನಲ್ಲಿ ನಡೆಯುತ್ತಿರುವುದನ್ನು ತೋರಿಸಲಾಗಿದೆ ಯು ಎಸ್ ಜೂನ್ ಮೈಕ್ ಬ್ಲೇಕ್ ವಲಸೆ ಮಕ್ಕಳು ಅವರಲ್ಲಿ ಅನೇಕರು ತಮ್ಮ ಪೋಷಕರಿಂದ ಹೊಸ ಶೂನ್ಯ ಸಹಿಷ್ಣು ನೀತಿಯಡಿಯಲ್ಲಿ ಬೇರ್ಪಟ್ಟಿದ್ದಾರೆ ಟ್ರಂಪ್ ಆಡಳಿತವು ಟೊರ್ನಿಲ್ಲೊ ಟೆಕ್ಸಾಸ್ ನ ಮೆಕ್ಸಿಕನ್ ಗಡಿಯ ಪಕ್ಕದಲ್ಲಿರುವ ತಮ್ಮ ಕಾಂಪೌಂಡ್ ನಲ್ಲಿ ಡೇರೆಗಳ ನಡುವೆ ಒಂದೇ ಫೈಲ್ ನಲ್ಲಿ ನಡೆಯುತ್ತಿರುವುದನ್ನು ತೋರಿಸಲಾಗಿದೆ ನೀವು ಜೂನ್ ಮೈಕ್ ಬ್ಲೇಕ್ ವಲಸೆ ಮಕ್ಕಳು ಇವರಲ್ಲಿ ಅನೇಕರು ಟ್ರಂಪ್ ಆಡಳಿತದಿಂದ ಹೊಸ ಶೂನ್ಯ ಸಹಿಷ್ಣು ನೀತಿಯಡಿ ಪೋಷಕರಿಂದ ಬೇರ್ಪಟ್ಟಿದ್ದಾರೆ ಟೊರ್ನಿಲ್ಲೊ ಟೆಕ್ಸಾಸ್ ನ ಮೆಕ್ಸಿಕನ್ ಗಡಿಯ ಪಕ್ಕದಲ್ಲಿರುವ ತಮ್ಮ ಕಾಂಪೌಂಡ್ ನಲ್ಲಿ ಡೇರೆಗಳ ನಡುವೆ ಒಂದೇ ಫೈಲ್ ನಲ್ಲಿ ನಡೆಯುವುದನ್ನು ತೋರಿಸಲಾಗಿದೆ ನೀವು ಜೂನ್ ಫೆಬ್ರವರಿ ರಾಯಿಟರ್ಸ್ ಯು ಎಸ್ ಕಂಪನಿಗಳು ರಲ್ಲಿ ಯಾವುದೇ ಆದಾಯದ ಬೆಳವಣಿಗೆಯನ್ನು ಉಂಟುಮಾಡುವುದಿಲ್ಲ ಏಕೆಂದರೆ ಕರೋನವೈರಸ್ ಚೀನಾವನ್ನು ಮೀರಿ ಜಾಗತಿಕ ಬೆಳವಣಿಗೆಗೆ ಅಪಾಯಗಳನ್ನು ಹೆಚ್ಚಿಸುತ್ತದೆ ಗೋಲ್ಡ್ಮನ್ ಸ್ಯಾಚ್ಸ್ ಗುರುವಾರ ಹೇಳಿದ್ದಾರೆ ಎಸ್ಪಿ ಸೂಚ್ಯಂಕ ಕಂಪನಿಗಳ ಪ್ರತಿ ಷೇರಿನ ಅಂದಾಜಿನ ಪ್ರಕಾರ ಬೇಸ್ಲೈನ್ ಗಳಿಕೆಯನ್ನು ರಿಂದ ಕ್ಕೆ ಇಳಿಸಿದೆ ಒಂದು ವರ್ಷದ ಹಿಂದೆ ಲಾಭವು ಬದಲಾಗದೆ ಉಳಿಯುತ್ತದೆ ಎಂದು ಸೂಚಿಸುತ್ತದೆ ಇತ್ತೀಚಿನ ಮುನ್ಸೂಚನೆಯು ಮೊದಲ ತ್ರೈಮಾಸಿಕದಲ್ಲಿ ಚೀನಾದ ಆರ್ಥಿಕ ಚಟುವಟಿಕೆಯ ತೀವ್ರ ಕುಸಿತವನ್ನು ಪ್ರತಿಬಿಂಬಿಸುತ್ತದೆ ಎಂದು ನಿಮಗಾಗಿ ಎಸ್ ರಫ್ತುದಾರರು ಪೂರೈಕೆ ಸರಪಳಿ ಅಡೆತಡೆಗಳು ಮತ್ತು ದೇಶೀಯ ಆರ್ಥಿಕ ಚಟುವಟಿಕೆಯ ಕುಸಿತವನ್ನು ನಿರೀಕ್ಷಿಸುತ್ತದೆ ಎಂದು ಗೋಲ್ಡ್ಮನ್ ಹೇಳಿದರು ಎಸ್ ಪಿ ಸದ್ಯಕ್ಕೆ ಪಾಯಿಂಟ್ ಗಳ ವಹಿವಾಟು ನಡೆಸಲಿದೆ ಇದು ಫೆಬ್ರವರಿ ರಂದು ಸೂಚ್ಯಂಕದ ದಾಖಲೆಯ ಕ್ಕಿಂತಲೂ ಕಡಿಮೆಯಾಗಿದೆ ನೀವು ಎಸ್ ವರ್ಷದ ಖಜಾನೆ ಇಳುವರಿ ಕ್ಕೆ ಇಳಿಯುತ್ತದೆ ಎಂದು ಹಿಸಿ ಇಳುವರಿ ಕ್ಕೆ ಏರಿದರೆ ಗೋಲ್ಡ್ಮನ್ ಎಸ್ ಪಿ ರಿಂದ ನಿರೀಕ್ಷಿಸುತ್ತಾನೆ ವರ್ಷಾಂತ್ಯದ ವೇಳೆಗೆ ಅನ್ನು ಹಿಟ್ ಮಾಡಿ ನನ್ನ ಸಹೋದ್ಯೋಗಿಗಳು ಮತ್ತು ನಾನು ಕೆಲವು ದಿನಗಳ ಹಿಂದೆ ದಕ್ಷಿಣ ಕೊರಿಯಾಕ್ಕೆ ಬಂದಾಗ ವೈಸ್ ನ್ಯೂಸ್ ಟುನೈಟ್ಗಾಗಿ ಒಂದೆರಡು ಭಾಗಗಳನ್ನು ಚಿತ್ರೀಕರಿಸುವುದು ತಿಂಗಳುಗಳ ಹಿಂದೆ ಸ್ಥಾಪಿಸಲ್ಪಟ್ಟಿದ್ದು ಕೊರೊನಾವೈರಸ್ಗೆ ಸಂಪೂರ್ಣವಾಗಿ ಸಂಬಂಧವಿಲ್ಲದ ಯಾವುದನ್ನಾದರೂ ವರದಿ ಮಾಡಿದೆ ಚೀನಾಕ್ಕೆ ವ್ಯತಿರಿಕ್ತವಾಗಿ ಇದು ಹರಡುವಿಕೆಯ ಬಗ್ಗೆ ಅಪಾರದರ್ಶಕವಾಗಿದೆ ತಮ್ಮ ಗಡಿಯೊಳಗಿನ ರೋಗವು ಕೊರೋನವೈರಸ್ ಪ್ರಕರಣಗಳ ಬಗ್ಗೆ ಕೊರಿಯನ್ ಅಧಿಕಾರಿಗಳು ಆಶ್ಚರ್ಯಕರವಾಗಿ ತೆರೆದಿರುತ್ತಾರೆ ಮತ್ತು ರೋಗಿಗಳ ವಯಸ್ಸು ಮತ್ತು ಲಿಂಗಗಳು ಯಾವಾಗ ಮತ್ತು ಎಲ್ಲಿ ಸೋಂಕುಗಳು ಪತ್ತೆಯಾದವು ಎಂಬುದರ ಬಗ್ಗೆ ಆನ್ ಲೈನ್ ನಲ್ಲಿ ಮಾಹಿತಿಯನ್ನು ಪ್ರಕಟಿಸುತ್ತಿವೆ ಮತ್ತು ಇತರ ದತ್ತಾಂಶಗಳ ಆತಿಥ್ಯವನ್ನು ಓದಿ ಕರೋನವೈರಸ್ ಈಗ ಎಲ್ಲರಲ್ಲೂ ಸಾಂಕ್ರಾಮಿಕ ರೋಗವಾಗಿದೆ ಆದರೆ ಜನರು ಸಂಭಾಷಣೆಯ ವಿರಾಮದ ಸಮಯದಲ್ಲಿ ಜನರು ನಕ್ಷೆಯ ಸುತ್ತಲೂ ಸುಮ್ಮನೆ ಸ್ವೈಪ್ ಮಾಡುವುದನ್ನು ನಾನು ಗಮನಿಸಿದ್ದೇನೆ ಜನರು ಬೇಸರಗೊಂಡಾಗ ಜನರು ಅರಿವಿಲ್ಲದೆ ಇನ್ ಸ್ಟಾಗ್ರಾಮ್ ನಲ್ಲಿ ಹಾರಾಡುತ್ತಾರೆ ಕೊರಿಯಾದ ಸಹೋದ್ಯೋಗಿ ಸ್ಕ್ಯಾನ್ ನೋಡುವುದನ್ನು ನಾನು ನನ್ನ ಕುತ್ತಿಗೆಯನ್ನು ಕ್ರೇನ್ ಮಾಡುತ್ತಿರುವಾಗ ಇದು ಸಂಭವಿಸಿದೆ ಯುನೈಟೆಡ್ ಸ್ಟೇಟ್ಸ್ ಮತ್ತು ದಕ್ಷಿಣ ಕೊರಿಯಾದ ಸಂಸ್ಕೃತಿಗಳನ್ನು ನಾವು ಹೊಂದಿರಬಹುದಾದ ಯಾವುದೇ ವ್ಯತ್ಯಾಸಗಳು ಒಂದು ಹಂತದಲ್ಲಿ ನಮ್ಮ ಎ ಹೆಚ್ಚಿನ ವೇಗದ ಮಾಹಿತಿಯ ಡಿಡಿಕ್ಷನ್ ನಾನು ಕೊರಿಯಾದ ಅಕ್ಷರಗಳನ್ನು ಪರದೆಯ ಮೇಲೆ ನಿಧಾನವಾಗಿ ಧ್ವನಿಸಿದೆ ಮತ್ತು ಇವುಗಳು ಸ್ಕೋರ್ ಗಳಲ್ಲ ಎಂದು ಅರಿತುಕೊಂಡರು ಅವು ಕೊರಿಯಾದ ವಿವಿಧ ಸ್ಥಳಗಳ ಹೆಸರುಗಳು ಮತ್ತು ಸಂಖ್ಯೆಯು ಕರೋನಾ ಸೋಂಕಿನ ಪ್ರಮಾಣವಾಗಿದೆ ರಜಾದಿನಗಳನ್ನು ಯೋಜಿಸಿರುವ ಬ್ರಿಟ್ ಗಳಿಗೆ ಸಾಕಷ್ಟು ಪ್ರಯಾಣದ ಸಲಹೆಗಳಿವೆ ಆದರೆ ನೀವು ಈಗಾಗಲೇ ರಜಾದಿನಗಳಲ್ಲಿದ್ದರೆ ಮತ್ತು ನಿಮ್ಮ ಗಮ್ಯಸ್ಥಾನದಲ್ಲಿ ಏಕಾಏಕಿ ಸಂಭವಿಸಿದಲ್ಲಿ ಏನು ಇದು ರಜಾದಿನಗಳಲ್ಲಿ ಈಗಾಗಲೇ ಬ್ರಿಟ್ಸ್ ಗೆ ಮಾರ್ಗದರ್ಶನ ಮತ್ತು ಸಲಹೆಯನ್ನು ಒಳಗೊಂಡಿರುತ್ತದೆ ಎಫ್ ಸಿಒ ಸಲಹೆಯು ಮಹತ್ವದ್ದಾಗಿದೆ ನಿಮ್ಮ ರಜಾದಿನಗಳಲ್ಲಿ ಮುಂದೆ ಏನಾಗುತ್ತದೆ ಎಂಬುದರ ಮೇಲೆ ಪರಿಣಾಮ ಏಕಾಏಕಿ ಇದ್ದರೂ ನಿಮ್ಮ ಗಮ್ಯಸ್ಥಾನಕ್ಕೆ ಪ್ರಯಾಣಕ್ಕೆ ವಿರುದ್ಧವಾಗಿ ಎಫ್ ಸಿಒ ತನ್ನ ಸಲಹೆಯನ್ನು ಬದಲಾಯಿಸದಿದ್ದರೆ ನಿಮ್ಮ ರಜಾದಿನವು ಸಾಮಾನ್ಯ ರೀತಿಯಲ್ಲಿ ಮುಂದುವರಿಯಬಹುದು ಆದರೆ ಅಗತ್ಯ ಪ್ರಯಾಣದ ವಿರುದ್ಧ ಸಲಹೆ ನೀಡಲು ನಿಮ್ಮ ರಜಾದಿನಗಳಲ್ಲಿ ಎಫ್ ಸಿಒ ಸಲಹೆ ಬದಲಾದರೆ ನಿಯಮಗಳು ವಿಭಿನ್ನವಾಗಿವೆ ಕೆಲವು ಕಾರಣಗಳಿಂದಾಗಿ ಅವರು ವೆಚ್ಚವನ್ನು ಭರಿಸಲು ಸಾಧ್ಯವಾಗದಿದ್ದರೆ ನಿಮ್ಮ ವಿಮಾ ಪಾಲಿಸಿಯನ್ನು ಪರಿಶೀಲಿಸುವುದು ಯೋಗ್ಯವಾಗಿದೆ ಏಕೆಂದರೆ ಕೆಲವು ಪೂರೈಕೆದಾರರು ಪ್ರಯಾಣಕ್ಕೆ ಅಡ್ಡಿಪಡಿಸುವುದನ್ನು ಒಳಗೊಳ್ಳುತ್ತಾರೆ ಇದರಲ್ಲಿ ಎಫ್ ಸಿಒ ಸಲಹೆಯಲ್ಲಿ ಬದಲಾವಣೆ ಇರುತ್ತದೆ ಇಂದು ನಾವು ನನ್ನ ಸಹೋದ್ಯೋಗಿ ಮೇರಿ ಟೇ ಮೆಕ್ ಡರ್ಮೊಟ್ ರಿಂದ ಅಧ್ಯಕ್ಷೀಯ ಪ್ರಾಥಮಿಕಗಳಲ್ಲಿನ ಕ್ಯಾಲಿಫೋರ್ನಿಯಾದ ಪ್ರಭಾವದ ಬಗ್ಗೆ ಮತ್ತು ಕಾಲಾನಂತರದಲ್ಲಿ ಅದನ್ನು ಹೇಗೆ ಬದಲಾಯಿಸಲಾಗಿದೆ ಎಂಬುದರ ಕುರಿತು ರವಾನೆಯೊಂದಿಗೆ ಪ್ರಾರಂಭಿಸುತ್ತಿದ್ದೇವೆ ಈ ವರ್ಷ ಕ್ಯಾಲಿಫೋರ್ನಿಯಾ ಮಾರ್ಚ್ ರಂದು ಸೂಪರ್ ಮಂಗಳವಾರ ಮತದಾನ ಮಾಡುವ ರಾಜ್ಯಗಳ ಗುಂಪಿಗೆ ಸೇರುತ್ತದೆ ನಾಮನಿರ್ದೇಶನ ಪ್ರಕ್ರಿಯೆಯಲ್ಲಿ ಡೆಮಾಕ್ರಟಿಕ್ ಪ್ರತಿನಿಧಿಗಳು ನಿರ್ಣಾಯಕ ಪಾತ್ರ ವಹಿಸಲಿದ್ದಾರೆ ರಲ್ಲಿ ಕ್ಲಿಂಟನ್ ಕ್ಯಾಲಿಫೋರ್ನಿಯಾದಲ್ಲಿ ಬರ್ನಿ ಸ್ಯಾಂಡರ್ಸ್ ರನ್ನು ರಿಂದ ಪ್ರತಿಶತದಷ್ಟು ಸೋಲಿಸಿದರು ಆದರೆ ಅದರ ಬಗ್ಗೆ ಕೆಲವು ವಿವಾದಗಳಿವೆ ಏಕೆಂದರೆ ಅಸೋಸಿಯೇಟೆಡ್ ಪ್ರೆಸ್ ಕ್ಲಿಂಟನ್ ಗೆ ನಾಮನಿರ್ದೇಶನಗೊಳ್ಳಲು ಸಾಕಷ್ಟು ಪ್ರತಿನಿಧಿಗಳನ್ನು ಹೊಂದಿದೆ ಎಂದು ಘೋಷಿಸಿತು ಕ್ಯಾಲಿಫೋರ್ನಿಯಾ ಪ್ರಾಥಮಿಕ ದಿ ನ್ಯೂಯಾರ್ಕ್ ಟೈಮ್ಸ್ ಸ್ಯಾಕ್ರಮೆಂಟೊ ಕೌಂಟಿಯಲ್ಲಿ ವೈದ್ಯಕೀಯ ಆರೈಕೆ ಪಡೆಯುತ್ತಿದ್ದ ಸೋಲಾನೊ ಕೌಂಟಿಯ ನಿವಾಸಿಯೊಬ್ಬರು ಕರೋನವೈರಸ್ಗೆ ಧನಾತ್ಮಕ ಪರೀಕ್ಷೆ ನಡೆಸಿದರು ಅಧಿಕಾರಿಗಳು ವಿದೇಶದಲ್ಲಿ ಪ್ರಯಾಣಿಸಲು ತಿಳಿದಿಲ್ಲದ ಮೊದಲ ಸೋಂಕು ಎಂದು ಅಧಿಕಾರಿಗಳು ಹೇಳುತ್ತಾರೆ ನ್ಯೂಯಾರ್ಕ್ ಟೈಮ್ಸ್ ಕ್ಯಾಲಿಫೋರ್ನಿಯಾದ ವಸತಿ ಸಂಸ್ಥೆ ಹೆಣಗಾಡುತ್ತಿದೆ ಗೋವ್ ಗೇವಿನ್ ನ್ಯೂಸಮ್ ಅವರ ದೊಡ್ಡ ಗುರಿಗಳೊಂದಿಗೆ ಮುಂದುವರಿಯಿರಿ ನ್ಯೂಯಾರ್ಕ್ ಟೈಮ್ಸ್ ಸ್ಯಾನ್ ಡಿಯಾಗೋ ನ್ಯಾಯಾಧೀಶರು ಇನ್ಸ್ಟಾಕಾರ್ಟ್ ಎಫ್ ಎಂದು ತೀರ್ಪು ನೀಡಿದರು ತನ್ನ ಉದ್ಯೋಗಿಗಳನ್ನು ಸ್ವತಂತ್ರ ಗುತ್ತಿಗೆದಾರರೆಂದು ವರ್ಗೀಕರಿಸುವ ಮೂಲಕ ರಾಜ್ಯದ ಹೊಸ ಗಿಗ್ ಕಾರ್ಮಿಕ ಕಾನೂನನ್ನು ಅನುಸರಿಸಲು ಅನಾರೋಗ್ಯ ಬ್ರಸೆಲ್ಸ್ ರಾಯಿಟರ್ಸ್ ಯುರೋಪಿಯನ್ ಯೂನಿಯನ್ ಕೈಗಾರಿಕಾ ಆಯುಕ್ತರು ಗುರುವಾರ ಕರೋನವೈರಸ್ ಏಕಾಏಕಿ ತೀವ್ರವಾಗಿ ಹಾನಿಗೊಳಗಾದ ಕ್ಷೇತ್ರಗಳನ್ನು ಬೆಂಬಲಿಸಲು ಸಂಭಾವ್ಯ ಕ್ರಮಗಳನ್ನು ಪರಿಗಣಿಸುತ್ತಿದ್ದಾರೆ ಆದರೆ ಅದರ ನಿಖರವಾದ ಆರ್ಥಿಕ ಪರಿಣಾಮವನ್ನು ನಿರ್ಣಯಿಸಲು ಹೆಚ್ಚಿನ ಸಮಯ ಬೇಕಾಗುತ್ತದೆ ಎಂದು ಹೇಳಿದರು ನಾವು ತೆಗೆದುಕೊಳ್ಳಬಹುದಾದ ಕ್ರಮಗಳನ್ನು ಸಂಘಟಿಸಲು ಪ್ರಾರಂಭಿಸುವುದು ಮುಖ್ಯ ಕೈಗಾರಿಕಾ ವಲಯಗಳಲ್ಲಿ ಪ್ರವಾಸೋದ್ಯಮ ಕಾರುಗಳ ಎಲೆಕ್ಟ್ರಾನಿಕ್ಸ್ ಹೆಲ್ತ್ ಕೇರ್ ಮತ್ತು ಆಟಿಕೆಗಳನ್ನು ಪಟ್ಟಿ ಮಾಡುವ ವರದಿಗಾರರಿಗೆ ಥಿಯೆರ್ರಿ ಬ್ರೆಟನ್ ಬ್ರಸೆಲ್ಸ್ ನಲ್ಲಿ ನಡೆದ ಇಯು ಕೈಗಾರಿಕಾ ಮಂತ್ರಿಗಳ ಸಭೆಯೊಂದರಲ್ಲಿ ಮಾತನಾಡುತ್ತಾ ಆರ್ಥಿಕ ಹಾನಿಯ ಸ್ಪಷ್ಟ ಮೌಲ್ಯಮಾಪನ ಮಾಡಿದ ನಂತರವೇ ಕ್ರಮಗಳನ್ನು ತೆಗೆದುಕೊಳ್ಳಬಹುದು ಎಂದು ಹೇಳಿದರು ಒಂದು ತಿಂಗಳ ಅವಧಿಯಲ್ಲಿ ಇಯು ಈ ಬಗ್ಗೆ ಮತ್ತೆ ಚರ್ಚಿಸುತ್ತದೆ ಎಂದು ಹೇಳಿದರು ಗ್ರೂಪ್ ಕೋರ್ ಲಾಭ ಬಿಲಿಯನ್ ಯುರೋಸ್ ಅಪ್ ಫ್ರಾನ್ಸ್ ಕೋರ್ ಲಾಭ ಹೆಚ್ಚಿನ ಉಳಿತಾಯದ ಭರವಸೆ ಕೊರೊನಾವೈರಸ್ ಎಮ್ಎ ಹೆಚ್ಚು ಆಯ್ದ ಸಿಇಒ ಆಗಿರುತ್ತದೆ ಸಿಇಒ ಮತ್ತು ಸಿಎಫ್ ಒ ಕಾರೋವೈರಸ್ ಎಂಎ ಕುರಿತು ಕಾಮೆಂಟ್ ಗಳನ್ನು ಸೇರಿಸುತ್ತದೆ ಡೊಮಿನಿಕ್ ವಿಡಾಲನ್ ಪ್ಯಾರಿಸ್ ಫೆಬ್ರವರಿ ರಾಯಿಟರ್ಸ್ ಫ್ರಾನ್ಸ್ ನ ಕ್ಯಾರಿಫೋರ್ ತನ್ನ ಉಳಿತಾಯವನ್ನು ಹೆಚ್ಚಿಸಿದೆ ಯುರೋಪ್ನ ಅತಿದೊಡ್ಡ ಚಿಲ್ಲರೆ ವ್ಯಾಪಾರಿ ಕಳೆದ ವರ್ಷ ಬಿಲಿಯನ್ ಯುರೋ ಬಿಲಿಯನ್ ವೆಚ್ಚ ಕಡಿತವನ್ನು ವಿತರಿಸಿದ್ದರಿಂದ ಗುರುವಾರ ಗುರಿ ಇ ಕಾಮರ್ಸ್ ಹೂಡಿಕೆಗಳು ಮತ್ತು ಗ್ರಾಹಕರಿಗೆ ಬೆಲೆ ಕಡಿತಕ್ಕೆ ಸಹಾಯ ಮಾಡುತ್ತದೆ ಕ್ಯಾರಿಫೋರ್ ವೆಚ್ಚಗಳು ಮತ್ತು ಉದ್ಯೋಗಗಳನ್ನು ಕಡಿತಗೊಳಿಸುವ ಮತ್ತು ಉತ್ತೇಜಿಸುವ ಐದು ವರ್ಷಗಳ ಯೋಜನೆಯ ಮಧ್ಯದಲ್ಲಿದೆ ಅಮೆಜಾನ್ ಕ್ಯಾರಿಫೋರ್ ನಂತಹ ಪ್ರಮುಖ ಆನ್ ಲೈನ್ ಪ್ರತಿಸ್ಪರ್ಧಿಗಳಿಂದ ಸ್ಪರ್ಧೆಯನ್ನು ನಿಭಾಯಿಸಲು ಅನೇಕ ಗೆಳೆಯರಂತೆ ಇ ಕಾಮರ್ಸ್ ಹೂಡಿಕೆ ಇರುವುದರಿಂದ ರ ಅಂತ್ಯದ ವೇಳೆಗೆ ವಾರ್ಷಿಕ ಆಧಾರದ ಮೇಲೆ ಬಿಲಿಯನ್ ಯುರೋಗಳಷ್ಟು ವೆಚ್ಚ ಉಳಿತಾಯವನ್ನು ರ ಅಂತ್ಯದ ವೇಳೆಗೆ ಗುರಿಪಡಿಸಲಾಗಿದೆ ಎಂದು ಹೇಳಿದರು ಇಲ್ಲಿಯವರೆಗೆ ಬಿಲಿಯನ್ ಯುರೋಗಳನ್ನು ಸಾಧಿಸಿದ ಬಿಲಿಯನ್ ಯುರೋಗಳು ಕ್ಯಾರಿಫೋರ್ ಒಂದು ಘನ ಬ್ಯಾಲೆನ್ಸ್ ಶೀಟ್ ಅನ್ನು ಹೊಂದಿದ್ದು ಉದ್ಯಮದಲ್ಲಿ ಪ್ರಬಲವಾದದ್ದು ನಮ್ಮ ಎಂಎ ಕಾರ್ಯತಂತ್ರವನ್ನು ಹೊಸ ಆತ್ಮವಿಶ್ವಾಸದಿಂದ ಬೆಂಬಲಿಸುವ ಸಾಮರ್ಥ್ಯವನ್ನು ಹೊಂದಿದೆ ಅಂತಹ ಯಾವುದೇ ಚಟುವಟಿಕೆಯು ಹೆಚ್ಚು ಆಯ್ದ ಫ್ರೆಂಚ್ ಲಾಭದಾಯಕವಾಗಿದೆ ಎಂದು ಬೊಂಪಾರ್ಡ್ ಹೇಳಿದರು ಅಲ್ಲಿ ಹೈಪಾರ್ ಮಾರ್ಕೆಟ್ ಮಳಿಗೆಗಳಲ್ಲಿ ಫ್ಲ್ಯಾಗಿಂಗ್ ಮಾರಾಟವನ್ನು ಪುನರುಜ್ಜೀವನಗೊಳಿಸುವಂತೆ ಬೊಂಪಾರ್ಡ್ ಮಾಡಿದ ಆದ್ಯತೆಯ ಕಾರ್ಯಾಚರಣಾ ಲಾಭವು ಏರಿಕೆಯಾಗಿದೆ ಮತ್ತು ಕಂಪನಿಯ ಮಾರ್ಗದರ್ಶನಕ್ಕೆ ಅನುಗುಣವಾಗಿ ಕ್ಯಾರಿಫೋರ್ ತನ್ನ ಮನೆ ಮಾರುಕಟ್ಟೆಯಲ್ಲಿ ಖರೀದಿ ಮೈತ್ರಿಗಳನ್ನು ಪಡೆಯುತ್ತಿದೆ ಬ್ರಿಟನ್ ನ ಟೆಸ್ಕೊ ಮತ್ತು ಫ್ರಾನ್ಸ್ ನ ಸಿಸ್ಟಂ ಯು ಇದರೊಂದಿಗೆ ವಹಿವಾಟಿನ ಯೋಜನೆಯು ಫ್ರಾನ್ಸ್ ನಲ್ಲಿ ಕಡಿಮೆ ಮಾರಾಟ ಪ್ರಚಾರಗಳನ್ನು ಹೊಂದಿದ್ದು ಆಹಾರೇತರ ವಸ್ತುಗಳನ್ನು ಹಿಂತಿರುಗಿಸುವುದು ಮತ್ತು ಸಾವಯವ ಆಹಾರಕ್ಕೆ ಹೆಚ್ಚಿನ ಒತ್ತು ನೀಡುವುದು ವೈರಸ್ ನಿಗ್ರಹಿಸಲು ಏನು ಬೇಕಾದರೂ ಮಾಡುವುದಾಗಿ ಗ್ರೀಸ್ ಹೇಳಿದೆ ಮೊದಲ ಪ್ರಕರಣಗಳು ವರದಿಯಾದ ನಂತರ ವಲಸೆ ಶಿಬಿರಗಳತ್ತ ಚಿಂತೆ ತಿರುಗುತ್ತದೆ ಬಿಡುಗಡೆಗಳು ವಿವರಗಳನ್ನು ಸೇರಿಸುತ್ತವೆ ಮಿಚೆಲ್ ಕಾಂಬಾಸ್ ಅಥೆನ್ಸ್ ಫೆಬ್ರವರಿ ರಾಯಿಟರ್ಸ್ ಕರೋನವೈರಸ್ ಹರಡುವುದನ್ನು ತಡೆಯಲು ಗ್ರೀಸ್ ತನ್ನ ಗಡಿ ನಿಯಂತ್ರಣವನ್ನು ಬಿಗಿಗೊಳಿಸಲಿದೆ ಎಂದು ಪ್ರಧಾನಿ ಕಿರಿಯಾಕೋಸ್ ಮಿಟ್ಸೋಟಾಕಿಸ್ ಗುರುವಾರ ಹೇಳಿದ್ದಾರೆ ಇದು ಒಂದು ಪ್ರಮುಖ ವಲಸೆ ಮಾರ್ಗಕ್ಕೆ ನಿರ್ದಿಷ್ಟವಾಗಿ ಗಮನ ಹರಿಸುತ್ತದೆ ದೇಶವು ಎರಡು ಹೊಸ ಕರೋನವೈರಸ್ ಪ್ರಕರಣಗಳನ್ನು ವರದಿ ಮಾಡಿದ್ದರಿಂದ ಗ್ರೀಸ್ ನಲ್ಲಿ ಒಟ್ಟು ದೃ ಪಡಿಸಿದ ಪ್ರಕರಣಗಳ ಸಂಖ್ಯೆಯನ್ನು ಉತ್ತರ ನಗರ ಥೆಸಲೋನಿಕಿಯಲ್ಲಿ ಮೂರು ಎರಡಕ್ಕೆ ಮತ್ತು ರಾಜಧಾನಿ ಅಥೆನ್ಸ್ ಗ್ರೀಸ್ ನಲ್ಲಿ ಒಂದು ಪ್ರಾಥಮಿಕವಾಗಿದೆ ಮಧ್ಯಪ್ರಾಚ್ಯ ಮತ್ತು ಅದರಾಚೆ ಯುದ್ಧ ಮತ್ತು ಬಡತನದಿಂದ ಪಲಾಯನ ಮಾಡುವ ನಿರಾಶ್ರಿತರು ಮತ್ತು ಆಶ್ರಯ ಪಡೆಯುವವರಿಗೆ ಮತ್ತು ರಲ್ಲಿ ಒಂದು ಮಿಲಿಯನ್ ಗಿಂತಲೂ ಹೆಚ್ಚು ಜನರು ದೇಶವನ್ನು ಹಾದುಹೋಗಿದ್ದಾರೆ ಸಾವಿರಾರು ವಲಸಿಗರು ಕಿಕ್ಕಿರಿದ ನಿರಾಶ್ರಿತರ ಶಿಬಿರಗಳಲ್ಲಿ ಸಿಲುಕಿಕೊಂಡಿದ್ದಾರೆ ಪರಿಸ್ಥಿತಿಗಳಲ್ಲಿ ನೆರವು ಸಂಸ್ಥೆಗಳು ಭಯ ಹುಟ್ಟಿಸುತ್ತವೆ ಮತ್ತು ಯಾವ ಸರ್ಕಾರ ಸ್ವತಃ ಆರೋಗ್ಯದ ಬಾಂಬ್ ಎಂದು ವಿವರಿಸಲಾಗಿದೆ ಸರ್ಕಾರಗಳು ಗುರುವಾರ ಯುದ್ಧ ಮಾಡಲು ಕ್ರಮಗಳನ್ನು ಹೆಚ್ಚಿಸಿವೆ ಚೀನಾದ ಹೊರಗೆ ಹೊಸ ಸೋಂಕುಗಳ ಸಂಖ್ಯೆಯು ಮೊದಲ ಬಾರಿಗೆ ಏಕಾಏಕಿ ಪ್ರಾರಂಭವಾದ ದೇಶದಲ್ಲಿ ಹೊಸ ಪ್ರಕರಣಗಳನ್ನು ಮೀರಿಸಿದೆ ಎಂದು ಕೊರೊನಾವೈರಸ್ನ ಸಾಂಕ್ರಾಮಿಕ ರೋಗ ಕರೋನವೈರಸ್ನ ಜಾಗತಿಕ ಹರಡುವಿಕೆಗೆ ಸಂಬಂಧಿಸಿದ ಮುನ್ನೆಚ್ಚರಿಕೆ ಕ್ರಮವಾಗಿ ನೆಸ್ಲೆ ಎಸ್ಎ ತನ್ನ ಎಲ್ಲ ಉದ್ಯೋಗಿಗಳಿಗೆ ಅಂತರರಾಷ್ಟ್ರೀಯ ವ್ಯಾಪಾರ ಪ್ರಯಾಣವನ್ನು ಸ್ಥಗಿತಗೊಳಿಸಿದೆ ನೀವು ಎಸ್ ವಿಭಾಗವನ್ನು ಹೊಂದಿರುವ ರೋಸ್ಲಿನ್ ಮೂಲದ ಅಂತರರಾಷ್ಟ್ರೀಯ ಆಹಾರ ಮತ್ತು ಸಾಕುಪ್ರಾಣಿ ಆರೈಕೆ ಕಂಪನಿಯು ಮಾರ್ಚ್ ರವರೆಗೆ ಪ್ರಯಾಣ ನಿಷೇಧವನ್ನು ಜಾರಿಗೊಳಿಸಿದೆ ವಕ್ತಾರರ ಪ್ರಕಾರ ಸ್ಥಳೀಯವಾಗಿ ನೆಲೆಸಿರುವವರು ಸೇರಿದಂತೆ ಎಲ್ಲಾ ನೆಸ್ಲೆ ಉದ್ಯೋಗಿಗಳಿಗೆ ಸ್ವಿಟ್ಜರ್ಲೆಂಡ್ ಮೂಲದ ಕಂಪನಿಯು ಸಾಧ್ಯವಾದಷ್ಟು ದೇಶೀಯ ಪ್ರವಾಸಗಳನ್ನು ರದ್ದುಗೊಳಿಸುವಂತೆ ಮತ್ತು ಉತ್ತೇಜಿಸಲು ವಿನಂತಿಸುತ್ತಿದೆ ಯುಎಸ್ ಆರೋಗ್ಯ ಅಧಿಕಾರಿಗಳು ಎಚ್ಚರಿಸಿರುವ ಸಾಂಕ್ರಾಮಿಕ ರೋಗದ ಆತಂಕಗಳು ಬುಧವಾರದ ವೇಳೆಗೆ ಜಾಗತಿಕ ಷೇರು ಮಾರುಕಟ್ಟೆಗಳಿಂದ ಟ್ರಿಲಿಯನ್ಗಿಂತಲೂ ಹೆಚ್ಚು ಹಣವನ್ನು ಅಳಿಸಿಹಾಕಿದೆ ಎಂದು ರಾಯಿಟರ್ಸ್ ವರದಿ ತಿಳಿಸಿದೆ ಮೇನ್ಲ್ಯಾಂಡ್ ಚೀನಾವು ಫೆಬ್ರವರಿ ರಂದು ಹೊಸ ಕರೋನವೈರಸ್ ಸೋಂಕುಗಳನ್ನು ವರದಿ ಮಾಡಿದೆ ಎಂದು ರಾಷ್ಟ್ರೀಯ ಆರೋಗ್ಯ ಆಯೋಗ ತಿಳಿಸಿದೆ ಹಿಂದಿನ ದಿನ ರಿಂದ ಗುರುವಾರ ಹೆಚ್ಚಾಗಿದೆ ಎಂದು ರಾಯಿಟರ್ಸ್ ವರದಿಯ ಪ್ರಕಾರ ಚೀನಾ ಮುಖ್ಯ ಭೂಭಾಗದಲ್ಲಿ ಒಟ್ಟು ದೃ ಪಡಿಸಿದ ಪ್ರಕರಣಗಳ ಸಂಖ್ಯೆ ಈಗ ಕ್ಕೆ ತಲುಪಿದೆ ಎಂದು ಆರೋಗ್ಯ ಪ್ರಾಧಿಕಾರ ಹೇಳಿದೆ ಹೊಸ ಸಾವುಗಳ ಸಂಖ್ಯೆ ಜನವರಿ ರಿಂದ ರಷ್ಟಿದೆ ಮತ್ತು ರಿಂದ ಕಡಿಮೆಯಾಗಿದೆ ಹಿಂದಿನ ದಿನ ಎಸ್ ಬಿಐ ಇಕೋವ್ರಾಪ್ ಭಾರತದ ಜಿಡಿಪಿ ಬೆಳವಣಿಗೆಯು ಎಫ್ ವೈ ರ ಕ್ಯೂ ರಲ್ಲಿ ಆರು ವರ್ಷಗಳಿಗಿಂತಲೂ ಕಡಿಮೆ ಮಟ್ಟದಲ್ಲಿ ಶೇ ರಷ್ಟಿದೆ ಅಮೆರಿಕದ ಅಧ್ಯಕ್ಷ ಡೊನಾಲ್ಡ್ ಟ್ರಂಪ್ ಅವರು ಕರೋನವೈರಸ್ನ ಯಾವುದೇ ಸಂಭವನೀಯ ಏಕಾಏಕಿ ಉಂಟಾಗಲು ಸಿದ್ಧರಾಗಿದ್ದಾರೆ ಎಂದು ದೇಶದ ಪ್ರತಿಕ್ರಿಯೆಯನ್ನು ನಿರ್ವಹಿಸಲು ಟ್ರಂಪ್ ಉಪಾಧ್ಯಕ್ಷ ಮೈಕ್ ಪೆನ್ಸ್ ಅವರನ್ನು ನೇಮಕ ಮಾಡಿದ್ದಾರೆ ಎಂದು ಅಧ್ಯಕ್ಷರು ಹೇಳಿದ್ದಾರೆ ಯುಎಸ್ ವೈರಸ್ಗೆ ಲಸಿಕೆಯನ್ನು ವೇಗವಾಗಿ ಅಭಿವೃದ್ಧಿಪಡಿಸುತ್ತಿದೆ ಎಂದು ಅಧ್ಯಕ್ಷರು ಹೇಳಿದರು ಆದರೆ ಸಾರ್ವಜನಿಕ ಆರೋಗ್ಯ ಅಧಿಕಾರಿಗಳು ಅದನ್ನು ಇನ್ನೂ ಮಾಡಬಹುದು ಏಕಾಏಕಿ ಯುಎಸ್ ಹೇಗೆ ಪ್ರತಿಕ್ರಿಯಿಸುತ್ತಿದೆ ಎಂಬುದರ ಕುರಿತು ಶ್ವೇತಭವನದಿಂದ ಅಲ್ ಜಜೀರಾ ಕಿಂಬರ್ಲಿ ಹಾಲ್ಕೆಟ್ ವರದಿ ಮಾಡಿದೆ ಕೊರೊನಾವೈರಸ್ ರಾಷ್ಟ್ರೀಯ ಕಾರ್ಯಾಚರಣೆ ಕೇಂದ್ರದಲ್ಲಿ ಇಸ್ರೇಲಿ ಅರೆವೈದ್ಯರು ಕೇಂದ್ರ ನಗರದ ಕಿರ್ಯಾಟ್ ಒನೊ ಎಎಫ್ ಪಿ ಯಲ್ಲಿ ಸ್ವಯಂಸೇವಕರ ಮೇಲೆ ಕರೋನವೈರಸ್ ಪರೀಕ್ಷೆಯನ್ನು ನಡೆಸುತ್ತಾರೆ ಫೋಟೋ ಜ್ಯಾಕ್ ಗುಯೆಜ್ ಟೆಲ್ ಅವೀವ್ ಎಎಫ್ ಪಿ ಇಸ್ರೇಲ್ ಗುರುವಾರ ಇಟಲಿಯಿಂದ ವಿಮಾನಗಳಲ್ಲಿ ಇಳಿದ ಡಜನ್ಗಟ್ಟಲೆ ವಿದೇಶಿ ಪ್ರಜೆಗಳಿಗೆ ಪ್ರವೇಶವನ್ನು ನಿರಾಕರಿಸಿತು ಹೊಸ ಕರೋನವೈರಸ್ ಹರಡುವಿಕೆಯನ್ನು ಒಳಗೊಂಡಿರುವ ಪ್ರಯತ್ನಗಳ ಭಾಗವಾಗಿ ಪ್ರಯಾಣ ಜಪಾನ್ ದಕ್ಷಿಣ ಕೊರಿಯಾ ಥೈಲ್ಯಾಂಡ್ ಮತ್ತು ಸಿಂಗಾಪುರ ಮತ್ತು ಮಕಾವು ಮತ್ತು ಹಾಂಗ್ ಕಾಂಗ್ ಮೂರು ವಿಮಾನಗಳು ಸೇರಿದಂತೆ ನಿರ್ಬಂಧಿತ ದೇಶಗಳ ಪಟ್ಟಿಗೆ ಇಟಲಿಯ ಪ್ರಯಾಣಿಕರಿಗೆ ಪ್ರವೇಶವನ್ನು ನೀಡಲಾಗುವುದಿಲ್ಲ ಎಂದು ಆಂತರಿಕ ಸಚಿವಾಲಯ ಘೋಷಿಸಿತು ಇಟಲಿಯಿಂದ ಹುಟ್ಟಿದ ನಂತರ ಟೆಲ್ ಅವೀವ್ ನ ಬೆನ್ ಗುರಿಯನ್ ವಿಮಾನ ನಿಲ್ದಾಣಕ್ಕೆ ಬಂದಿಳಿದಿದ್ದು ಬೆರ್ಗಾಮೊದಿಂದ ವಿಮಾನದಲ್ಲಿ ಬಂದಿಳಿದ ಇಟಾಲಿಯನ್ನರು ಸೇರಿದಂತೆ ಇಪ್ಪತ್ತೈದು ವಿದೇಶಿ ಪ್ರಜೆಗಳಿಗೆ ಪ್ರವೇಶ ನಿರಾಕರಿಸಲಾಗಿದೆ ಮತ್ತು ಅವರನ್ನು ಮತ್ತೆ ಹಾರಿಸಲಾಗುವುದು ಎಂದು ಆಂತರಿಕ ಸಚಿವಾಲಯ ತಿಳಿಸಿದೆ ಇಟಲಿಯಿಂದ ಈಸಿ ಜೆಟ್ ವಿಮಾನದಲ್ಲಿದ್ದ ಇನ್ನೂ ವಿದೇಶಿಯರು ಸಚಿವಾಲಯದ ವಕ್ತಾರರು ಪ್ರವೇಶಿಸುವುದನ್ನು ನಿರ್ಬಂಧಿಸಲಾಗಿದೆ ಕೆಲವು ಮಾರುಕಟ್ಟೆ ವೀಕ್ಷಕರು ಪರಿಸ್ಥಿತಿಯ ಬಗ್ಗೆ ಏನು ಹೇಳುತ್ತಿದ್ದಾರೆಂಬುದನ್ನು ಕರೋನವೈರಸ್ನಲ್ಲಿ ಎಸ್ ಪಿ ಅದರ ರ ಗರಿಷ್ಠ ರಿಂದ ಕ್ಕೆ ಇಳಿದು ರ ಆರಂಭದಲ್ಲಿ ಕಡಿಮೆ ಚಂಚಲತೆಯನ್ನು ಬಿಚ್ಚಿರುವುದನ್ನು ನೋಡಿ ನಾವು ಆಶ್ಚರ್ಯಪಡಬೇಕಾಗಿಲ್ಲ ಎಂದು ಆರ್ ಬಿಸಿ ಕ್ಯಾಪಿಟಲ್ ಮಾರ್ಕೆಟ್ ಗಳ ಲೋರಿ ಕ್ಯಾಲ್ವಾಸಿನಾ ಹೇಳಿದರು ಟಿಪ್ಪಣಿ ಗುರುವಾರ ದರಗಳ ಹಣದುಬ್ಬರ ಮತ್ತು ಗಳಿಕೆಗಾಗಿ ನಮ್ಮ ಮುನ್ಸೂಚನೆಯನ್ನು ಬಳಸುವುದು ಮತ್ತು ಗಳಿಕೆಯ ಮಾದರಿ ಅಂದಾಜುಗೆ ಎಸ್ ಪಿ ಮೇಲಿನ ನ್ಯಾಯಯುತ ಮೌಲ್ಯವು ಕ್ಕೆ ಹತ್ತಿರವಾಗಿದೆ ಎಂದು ಕ್ಯಾಂಟರ್ ಫಿಟ್ಜ್ ಗೆರಾಲ್ಡ್ ಎಲ್ಪಿ ಯ ಮುಖ್ಯ ಮಾರುಕಟ್ಟೆ ತಂತ್ರಜ್ಞ ಪೀಟರ್ ಸೆಚಿನಿ ಬುಧವಾರ ಟಿಪ್ಪಣಿಯಲ್ಲಿ ತಿಳಿಸಿದ್ದಾರೆ ಗೋಲ್ಡ್ಮನ್ ಸಿಟಿ ಸ್ಟ್ರಾಟಜಿಸ್ಟ್ಸ್ ಎಸ್ಪಿ ಮಾರ್ಗ ಹೋಗಲು ಹೆಚ್ಚು ಕಠಿಣವಾಗಿದೆ ನಮ್ಮ ಉತ್ತಮ ಹೆಯೆಂದರೆ ಅಪಾಯಕಾರಿಯಾದ ಆಸ್ತಿಗಳ ಕುಸಿತವು ಇನ್ನೂ ಹೆಚ್ಚಿನದಕ್ಕೆ ಹೋಗಬೇಕಾದರೂ ಅಲ್ಪಾವಧಿಯ ಅಪಾಯಗಳು ಅಲ್ಪಾವಧಿಗೆ ಅಸಮಪಾರ್ಶ್ವವಾಗಿ ಕಂಡುಬರುತ್ತವೆ ಆದರೆ ಗೋಲ್ಡ್ಮನ್ ಸ್ಯಾಚ್ಸ್ ಗ್ರೂಪ್ ಇಂಕ್ ತಂತ್ರಜ್ಞರಾದ ಾಕ್ ಪಾಂಡ್ಲ್ ಮತ್ತು ಕಾಮಾಕ್ಷ್ಯ ತ್ರಿವೇದಿ ಬುಧವಾರ ಟಿಪ್ಪಣಿಯಲ್ಲಿ ಓದಿ ಏಕಾಏಕಿ ಮಧ್ಯೆ ಹೆಚ್ಚು ಗೋಲ್ಡ್ಮನ್ ನಿಮಗಾಗಿ ಶೂನ್ಯ ಲಾಭದ ಬೆಳವಣಿಗೆಯನ್ನು ನೋಡುತ್ತಾನೆ ಎಸ್ ಕಂಪೆನಿಗಳು ಯಾವುದೇ ನೀತಿ ಪ್ರತಿಕ್ರಿಯೆಯು ಇನ್ಸು ಆಗಿರುತ್ತದೆ ಎಂಬ ಅರಿವಿಗೆ ಬರುತ್ತಿದೆ ಪೂರೈಕೆಯ ಕಳವಳಗಳಿಗೆ ವಿರುದ್ಧವಾಗಿ ಅದನ್ನು ನಿರೋಧಿಸಲು ಸಮರ್ಥವಾಗಿದೆ ಎಂದು ಸೀಮಾ ಶಾ ಗುರುವಾರ ಪ್ರಧಾನ ಜಾಗತಿಕ ಹೂಡಿಕೆದಾರರ ಮುಖ್ಯ ತಂತ್ರಜ್ಞರು ಟಿಪ್ಪಣಿಯಲ್ಲಿ ತಿಳಿಸಿದ್ದಾರೆ ಚೀನಾದ ಹೊರಗೆ ಹೆಚ್ಚಿನ ಚಂಚಲತೆಯನ್ನು ನಿರೀಕ್ಷಿಸಬಹುದು ಎಂದು ಸಿಂಗಾಪುರದ ಬಿಎನ್ ಪಿ ಪರಿಬಾಸ್ ವೆಲ್ತ್ ಮ್ಯಾನೇಜ್ ಮೆಂಟ್ ನಲ್ಲಿ ಏಷ್ಯಾದ ಮುಖ್ಯ ಹೂಡಿಕೆ ಅಧಿಕಾರಿ ಪ್ರಶಾಂತ್ ಭಯಾನಿ ಹೇಳಿದ್ದಾರೆ ಜಾಗತಿಕ ಇಕ್ವಿಟಿಗಳಲ್ಲಿ ಕೆಲವು ವಾರಗಳು ಅಂದರೆ ನಿಮ್ಮ ಎಸ್ ಸ್ಟಾಕ್ ಗಳಲ್ಲಿನ ಲಾಭದ ಸಾಂದ್ರತೆಯು ಬೆರಳೆಣಿಕೆಯ ಮೆಗಾಕ್ಯಾಪ್ ಹೆಸರುಗಳಲ್ಲಿ ದಕ್ಷಿಣ ಚೀನಾದ ನಗರ ಶೆನ್ ಜೆನ್ ಸ್ಥಳೀಯ ರೆಸ್ಟೋರೆಂಟ್ ಗಳು ನಾಯಿಗಳು ಮತ್ತು ಬೆಕ್ಕುಗಳನ್ನು ತಮ್ಮ ಮೆನುಗಳಿಂದ ಹೊರತೆಗೆಯಬೇಕೆಂದು ಬಯಸುತ್ತವೆ ಏಕೆಂದರೆ ದೇಶವು ವನ್ಯಜೀವಿ ವ್ಯಾಪಾರ ವಿಜ್ಞಾನಿಗಳ ಮೇಲೆ ಹಿಡಿತ ಸಾಧಿಸುವುದರಿಂದ ಮಾರಕ ಕರೋನವೈರಸ್ ಏಕಾಏಕಿ ಉಂಟಾಗುತ್ತದೆ ಎಂದು ಶಂಕಿಸಲಾಗಿದೆ ನಾಯಿಗಳಲ್ಲದೆ ಹೊಸ ಶೆನ್ಜೆನ್ ಆಕ್ಟ್ ಬಾರ್ ಗಳು ಹಾವಿನ ಕಪ್ಪೆ ಮತ್ತು ಆಮೆ ಮಾಂಸವನ್ನು ಭೋಜನದಿಂದ ಕೋಷ್ಟಕ ಶೆನ್ಜೆನ್ ನಲ್ಲಿ ನಾಯಿ ಮತ್ತು ಬೆಕ್ಕು ಮಾಂಸವನ್ನು ತಿನ್ನುವುದನ್ನು ನಿಷೇಧಿಸುವುದು ಅತ್ಯಂತ ಸ್ವಾಗತಾರ್ಹ ಎಂದು ಹ್ಯೂಮನ್ ಸೊಸೈಟಿ ಇಂಟರ್ ನ್ಯಾಷನಲ್ ನ ಪ್ರಾಣಿ ಕಲ್ಯಾಣ ಸಮೂಹದ ನೀತಿ ತಜ್ಞ ಪೀಟರ್ ಲಿ ಚೀನಾ ಪ್ರತಿ ವರ್ಷ ಚೀನಾದಲ್ಲಿ ದಶಲಕ್ಷಕ್ಕೂ ಹೆಚ್ಚು ನಾಯಿಗಳು ಮತ್ತು ನಾಲ್ಕು ದಶಲಕ್ಷ ಬೆಕ್ಕುಗಳನ್ನು ತಮ್ಮ ಮಾಂಸಕ್ಕಾಗಿ ಕೊಲ್ಲಲಾಗುತ್ತದೆ ಎಂದು ವರದಿಯಾಗಿದೆ ಕಾಡು ಪ್ರಾಣಿಗಳ ಎಲ್ಲಾ ವ್ಯಾಪಾರ ಮತ್ತು ಬಳಕೆಯನ್ನು ನಿಷೇಧಿಸಲು ಶಾಸಕಾಂಗ ಸಮಿತಿ ಸೋಮವಾರ ಹೊಸ ಶಾಸನವನ್ನು ಜಾರಿಗೆ ತಂದಿತು ಚೀನಾದ ಸಂದರ್ಶಕರ ಮೇಲೆ ಪ್ರಯಾಣದ ನಿಷೇಧವನ್ನು ವಿಸ್ತರಿಸಿದ್ದರಿಂದ ಯಾವುದೇ ಕರೋನವೈರಸ್ ಜಾಗತಿಕ ಸಾಂಕ್ರಾಮಿಕ ರೋಗಕ್ಕೆ ಸಿದ್ಧ ಎಂದು ಆಸ್ಟ್ರೇಲಿಯಾ ಗುರುವಾರ ಘೋಷಿಸಿತು ಚೀನಾದ ಹೊರಗೆ ವೈರಸ್ ವೇಗವಾಗಿ ಹರಡಿತು ಇದು ಆಸ್ಟ್ರೇಲಿಯಾದ ಪ್ರತಿಕ್ರಿಯೆಯನ್ನು ಹೆಚ್ಚಿಸಲು ತನ್ನ ಸರ್ಕಾರವನ್ನು ಪ್ರೇರೇಪಿಸಿತು ಎಂದು ಎಬಿಸಿ ನ್ಯೂಸ್ ವರದಿಗಳು ನಿಷೇಧದ ಅರ್ಥ ಚೀನಾ ಮುಖ್ಯ ಭೂಭಾಗದಲ್ಲಿರುವ ವಿದೇಶಿ ಪ್ರಜೆಗಳಿಗೆ ಅವರು ಚೀನಾವನ್ನು ತೊರೆದ ಸಮಯದಿಂದ ದಿನಗಳವರೆಗೆ ಆಸ್ಟ್ರೇಲಿಯಾಕ್ಕೆ ಅನುಮತಿಸಲಾಗುವುದಿಲ್ಲ ಮೊರಿಸನ್ ವರದಿಗಾರರಿಗೆ ವಿಸ್ತೃತ ಪ್ರಯಾಣ ನಿಷೇಧದ ಭಾಗವಾಗಿ ಯಾವುದೇ ಕಾರ್ವ್ ಟ್ ಗಳಿಲ್ಲ ಮತ್ತು ಮುಖ್ಯ ವೈದ್ಯಕೀಯ ಅಧಿಕಾರಿಯ ಸಲಹೆಯ ಮೇರೆಗೆ ವಿಸ್ತರಣೆಯಾಗಿದೆ ಮತ್ತು ವಿವಿಧ ರಾಜ್ಯಗಳಲ್ಲಿ ವೈರಸ್ ಸಂದರ್ಭಗಳು ವಿಕಸನಗೊಳ್ಳುತ್ತಿರುವುದರಿಂದ ಆಸ್ಟ್ರೇಲಿಯಾ ತನ್ನ ಪ್ರಯಾಣದ ಸಲಹೆಯನ್ನು ಪರಿಶೀಲಿಸುತ್ತಿದೆ ಕರೋನವೈರಸ್ ಅನ್ನು ಒಳಗೊಂಡಿರುವ ಪ್ರಯತ್ನದಲ್ಲಿ ವಾರಗಳ ಲಾಕ್ ಡೌನ್ ನಂತರ ಅನೇಕ ಮನೆಗಳು ಆಹಾರದ ಕೊರತೆಯನ್ನು ಅನುಭವಿಸಲು ಪ್ರಾರಂಭಿಸಿದ ನಂತರ ಸಾವಿರಾರು ಟನ್ ಆಹಾರವನ್ನು ಗು ೌ ಪ್ರಾಂತ್ಯವು ಎ ೌ ನಗರಕ್ಕೆ ದಾನ ಮಾಡಿದೆ ಎಂದು ವರದಿಯಾಗಿದೆ ಗೋದಾಮುಗಳಲ್ಲಿ ಟನ್ ಗಿಂತಲೂ ಹೆಚ್ಚು ತರಕಾರಿಗಳನ್ನು ಕೊಳೆಯಲು ಅಥವಾ ಸುರಿಯಲು ಉಳಿದಿದೆ ಎಚೆಂಗ್ ಜಿಲ್ಲೆಯ ಫೀನಿಕ್ಸ್ ಪೊಲೀಸ್ ಠಾಣೆಯ ಉದ್ಯೋಗಿಯೊಬ್ಬರ ಕುಟುಂಬ ಸದಸ್ಯರೊಬ್ಬರು ಕಳೆದ ವಾರ ವೀಚಾಟ್ ಗೆ ವೀಡಿಯೊ ಅಪ್ ಲೋಡ್ ಮಾಡಿದ ನಂತರ ಅವರ ಕುಟುಂಬವು ಪಡೆದ ದೇಣಿಗೆಗಳನ್ನು ತೋರಿಸಿದ ನಂತರ ಪೊಲೀಸರು ದುರುಪಯೋಗದ ಹಿಂದೆ ಇದ್ದಾರೆ ಎಂದು ನಂಬಲಾಗಿದೆ ಅನೇಕ ಬಾಕ್ಸ್ ಹಣ್ಣುಗಳು ತಾಜಾ ತರಕಾರಿಗಳು ಮತ್ತು ಮೊಟ್ಟೆಗಳನ್ನು ಒಳಗೊಂಡಂತೆ ಪೊಲೀಸ್ ಠಾಣೆಯಿಂದ ಪೊಲೀಸ್ ಅಧಿಕಾರಿಯನ್ನು ಮದುವೆಯಾದ ಇನ್ನೊಬ್ಬ ವೀಚಾಟ್ ಬಳಕೆದಾರರು ಆರು ಬ್ಯಾರೆಲ್ ತೈಲ ಬಹು ಚೀಲ ತರಕಾರಿಗಳು ನಾಲ್ಕು ಚೀಲ ಅಕ್ಕಿ ಮತ್ತು ನೂರಾರು ಮುಖವಾಡಗಳ ಫೋಟೋಗಳು ಸೇರಿದಂತೆ ಅವರ ಕುಟುಂಬಕ್ಕೆ ಉಡುಗೊರೆಯಾಗಿ ನೀಡಲಾದ ಸರಬರಾಜುಗಳ ಪಟ್ಟಿಯನ್ನು ಪೋಸ್ಟ್ ಮಾಡಿದ್ದಾರೆ ಸೋಷಿಯಲ್ ಮೀಡಿಯಾದಲ್ಲಿ ಗೋದಾಮು ಮತ್ತು ಪೊಲೀಸ್ ಟ್ರಾನ್ ನಲ್ಲಿನ ಗೋದಾಮುಗಳಲ್ಲಿ ಆಹಾರ ಕೊಳೆಯುತ್ತಿರುವುದನ್ನು ತೋರಿಸಿದೆ ತರಕಾರಿ ಪೆಟ್ಟಿಗೆಗಳನ್ನು ತಮ್ಮ ವಾಹನಗಳಲ್ಲಿ ಆಡುತ್ತಿದ್ದಾರೆ ಪಾಕಿಸ್ತಾನ ಮತ್ತು ಚೀನಾ ನಡುವಿನ ಸ್ನೇಹ ಶಾಶ್ವತವಾಗಿದೆ ಮತ್ತು ಚೀನಾದ ಜನರು ಪಾಕಿಸ್ತಾನಿಗಳೊಂದಿಗಿನ ಸ್ನೇಹಕ್ಕಾಗಿ ಹೆಮ್ಮೆಪಡುತ್ತಾರೆ ಮತ್ತು ಉಭಯ ದೇಶಗಳ ನಡುವಿನ ಸ್ನೇಹವು ಬಲಗೊಳ್ಳುತ್ತದೆ ಎಂಬ ವಿಶ್ವಾಸವಿದೆ ಎಂದು ಇಸ್ಲಾಮಾಬಾದ್ ಮೂಲದ ಚೀನಾದ ಸಾಂಸ್ಕೃತಿಕ ಸಲಹೆಗಾರ ಜಾಂಗ್ ಹೆಕಿಂಗ್ ಹೇಳಿದ್ದಾರೆ ಉರ್ದುಪಾಯಿಂಟ್ ಪಾಕಿಸ್ತಾನ ಪಾಯಿಂಟ್ ನ್ಯೂಸ್ ಫೆಬ್ರವರಿ ಇಸ್ಲಾಮಾಬಾದ್ ಮೂಲದ ಚೀನೀ ಸಾಂಸ್ಕೃತಿಕ ಸಲಹೆಗಾರ ಚೀನೀ ಸಾಂಸ್ಕೃತಿಕ ಕಾನ್ಸುಲರ್ ಜಾಂಗ್ ಹೆಕಿಂಗ್ ಅವರು ಪಾಕಿಸ್ತಾನ ಮತ್ತು ಚೀನಾ ನಡುವಿನ ಸ್ನೇಹ ಶಾಶ್ವತವಾಗಿದೆ ಮತ್ತು ಚೀನಾದ ಜನರು ಪಾಕಿಸ್ತಾನಿಗಳೊಂದಿಗಿನ ಸ್ನೇಹಕ್ಕಾಗಿ ಹೆಮ್ಮೆಪಡುತ್ತಾರೆ ಮತ್ತು ಅವರು ಸ್ನೇಹಕ್ಕಾಗಿ ವಿಶ್ವಾಸ ಹೊಂದಿದ್ದಾರೆ ಎಂದು ಹೇಳಿದ್ದಾರೆ ಉಭಯ ದೇಶಗಳು ಬಲಗೊಳ್ಳುತ್ತವೆ ಚೀನಾ ವಿಂಡೋದಲ್ಲಿ ಚೀನೀ ಭಾಷಾ ಕೋರ್ಸ್ ಗಳನ್ನು ಪೂರ್ಣಗೊಳಿಸಿದ ವಿದ್ಯಾರ್ಥಿಗಳಿಗೆ ರುಜುವಾತುಗಳನ್ನು ವಿತರಿಸುವ ಸಮಾರಂಭದಲ್ಲಿ ಮಾತನಾಡುತ್ತಾ ಅವರು ಈ ಅಭಿಪ್ರಾಯಗಳನ್ನು ವ್ಯಕ್ತಪಡಿಸಿದರು ಪೇಶಾವರದಲ್ಲಿರುವ ಚೀನೀ ಸಾಂಸ್ಕೃತಿಕ ಕೇಂದ್ರದಲ್ಲಿ ಜಾಂಗ್ ಹೆಕಿಂಗ್ ಅವರು ಚೀನಾ ವಿಂಡೋದಲ್ಲಿ ಉಚಿತ ತರಗತಿಗಳ ಸಂತೋಷವನ್ನು ವ್ಯಕ್ತಪಡಿಸಿದರು ಮತ್ತು ವಿಶೇಷವಾಗಿ ನೇ ಇ ವಿದ್ಯಾರ್ಥಿ ವರ್ಗ ಈ ಸಂದರ್ಭದಲ್ಲಿ ಮಾತನಾಡಿದ ಪ್ರವಾಸೋದ್ಯಮ ನಿಗಮದ ಜನರಲ್ ಮ್ಯಾನೇಜರ್ ಖೈಬರ್ ಪಖ್ತುನ್ಖ್ವಾ ಮಾತನಾಡಿ ಪ್ರಸ್ತುತ ಪರಿಸ್ಥಿತಿಯ ಹಿನ್ನೆಲೆಯಲ್ಲಿ ಚೀನೀ ಭಾಷೆಯ ಮಹತ್ವವನ್ನು ವಿದ್ಯಾರ್ಥಿಗಳಿಗೆ ನೀಡಲಾಗುವುದು ಎಂದು ಹೇಳಿದರು ಚೀನಾ ಸಹ ಸಹಕರಿಸುತ್ತದೆ ಎಂಬ ವಿಶ್ವಾಸವಿದೆ ಎಂದು ಹೇಳಿದರು ಪ್ರವಾಸೋದ್ಯಮ ಕ್ಷೇತ್ರ ಮತ್ತು ವಿಶೇಷವಾಗಿ ಗಾಂಧಾರ ಸಂಸ್ಕೃತಿಯ ದೃಷ್ಟಿಯಿಂದ ಹೆಚ್ಚಿನ ಸಂಖ್ಯೆಯ ಚೀನಿಯರು ಪಾಕಿಸ್ತಾನಕ್ಕೆ ಬರುತ್ತಾರೆ ಕ್ವೆಟ್ಟಾಫೈಜಾನ್ ಹಶ್ಮಿಯಲ್ಲಿ ಸಹಾಯಕ ಆಯುಕ್ತರು ಉಸಿರಾಟದ ಮುಖವಾಡಗಳ ವಿರುದ್ಧ ಹರ್ಡರ್ ಗಳ ವಿರುದ್ಧ ಕ್ರಮಗಳನ್ನು ತೆಗೆದುಕೊಳ್ಳುತ್ತಾರೆ ನಿಮಿಷಗಳ ಹಿಂದೆ ಥು ಫೆಬ್ರವರಿ ಸಹಾಯಕ ಆಯುಕ್ತ ಎಸಿ ಕ್ವೆಟ್ಟಾ ನಿಡಾ ಕಜಾಮಿ ಆ ವೈದ್ಯಕೀಯ ಮಳಿಗೆಗಳು ಮತ್ತು ಹೋರ್ಡರ್ ಗಳ ವಿರುದ್ಧ ಕ್ರಮ ಕೈಗೊಂಡರು ದೇಶದಲ್ಲಿ ಎರಡು ಕರೋನವೈರಸ್ ಪ್ರಕರಣಗಳು ಕ್ವೆಟ್ಟಾ ಉರ್ದುಪಾಯಿಂಟ್ ಪಾಕಿಸ್ತಾನ ಪಾಯಿಂಟ್ ನ್ಯೂಸ್ ಫೆಬ್ರವರಿ ಸಹಾಯಕ ಕಮಿಷನರ್ ಎಸಿ ಕ್ವೆಟ್ಟಾ ನಿಡಾ ಕಜಾಮಿ ಆ ವೈದ್ಯಕೀಯ ಮಳಿಗೆಗಳು ಮತ್ತು ಉಸಿರಾಟದ ಮುಖವಾಡಗಳನ್ನು ಕಪ್ಪು ಬಣ್ಣದಲ್ಲಿ ಮಾರಾಟ ಮಾಡುವ ಹೋರ್ಡರ್ ಗಳ ವಿರುದ್ಧ ಕ್ರಮ ಕೈಗೊಂಡರು ಕಜ್ಮಿ ಮತ್ತು ಅವರ ತಂಡದೊಂದಿಗೆ ವಿವಿಧ ವೈದ್ಯಕೀಯ ಅಂಗಡಿಗಳಲ್ಲಿ ದಾಳಿ ನಡೆಸಿ ಮುಖವಾಡಗಳನ್ನು ಅಪಾರ ಪ್ರಮಾಣದಲ್ಲಿ ವಶಪಡಿಸಿಕೊಂಡರು ಮತ್ತು ಮುಖವಾಡಗಳನ್ನು ದ್ವಿ ಬೆಲೆಯಲ್ಲಿ ಮಾರಾಟ ಮಾಡಿದ್ದಕ್ಕಾಗಿ ಹಲವಾರು ಲಾಭ ಮತ್ತು ಹೋರ್ಡರ್ ಗಳನ್ನು ಬಂಧಿಸಿದ್ದಾರೆ ಎಂದು ಪತ್ರಿಕಾ ಪ್ರಕಟಣೆ ತಿಳಿಸಿದೆ ಅಂಗಡಿ ಸಂಘ ಸಾರ್ವಜನಿಕ ನಿಡಾ ಕಜ್ಮಿಯ ಸೌಲಭ್ಯಗಳಿಗಾಗಿ ಕ್ವೆಟ್ಟಾದಲ್ಲಿನ ತಮ್ಮ ವೈದ್ಯಕೀಯ ಮಳಿಗೆಗಳಲ್ಲಿ ಮಾರಾಟ ಮಾಡುವಾಗ ಹೋರ್ಡರ್ ಗಳನ್ನು ನಿರುತ್ಸಾಹಗೊಳಿಸಲು ಮತ್ತು ಬಾಯಿ ಮುಖವಾಡಗಳ ಪ್ರಮಾಣಿತ ಬೆಲೆಯನ್ನು ಖಚಿತಪಡಿಸಿಕೊಳ್ಳಲು ಈ ಸಂದರ್ಭದಲ್ಲಿ ಎಂಎಸ್ ಎ ಮಧ್ಯದ ಮಾಲೀಕರಿಗೆ ಎಚ್ಚರಿಕೆ ನೀಡಿತು ಕಾನೂನು ಉಲ್ಲಂಘಿಸಿ ಸ್ಥಾಪಿಸಲಾದ ವೈದ್ಯಕೀಯ ಮಳಿಗೆಗಳು ಕಠಿಣ ಕ್ರಮ ಕೈಗೊಳ್ಳಲಾಗುವುದು ಅವುಗಳ ವಿರುದ್ಧ ಆದಾಗ್ಯೂ ವೈದ್ಯಕೀಯ ಮಳಿಗೆಗಳು ಅದರ ಸಾಮಾನ್ಯ ಬೆಲೆ ರೂಪಾಯಿಗಳ ಹೊರತಾಗಿಯೂ ರಿಂದ ರೂಪಾಯಿಗಳವರೆಗೆ ಉಸಿರಾಟದ ಮುಖವಾಡಗಳನ್ನು ಮಾರಾಟ ಮಾಡುತ್ತಿದ್ದವು ಮತ್ತು ದೇಶದಲ್ಲಿ ಎರಡು ಕರೋನವೈರಸ್ ಪ್ರಕರಣಗಳು ದೃ ೀಕರಿಸಲ್ಪಟ್ಟ ನಂತರ ಅದರ ಬೇಡಿಕೆಗಳನ್ನು ಹೆಚ್ಚಿಸಲಾಗಿದೆ ಕರೋನವೈರಸ್ ಹರಡುವುದನ್ನು ತಡೆಗಟ್ಟಲು ಗ್ರೀಸ್ ತನ್ನ ಗಡಿ ನಿಯಂತ್ರಣವನ್ನು ಬಿಗಿಗೊಳಿಸಲಿದೆ ಎಂದು ಪ್ರಧಾನ ಮಂತ್ರಿ ಕಿರಿಯಾಕೋಸ್ ಮಿಟ್ಸೋಟಾಕಿಸ್ ಗುರುವಾರ ಹೇಳಿದ್ದಾರೆ ಇದು ಪ್ರಮುಖ ವಲಸೆ ಮಾರ್ಗದ ಬಗ್ಗೆ ನಿರ್ದಿಷ್ಟವಾಗಿ ಗಮನ ಹರಿಸಲಿದೆ ಎಂದು ಹೇಳಿದರು ಗ್ರೀಸ್ ನಲ್ಲಿ ಉತ್ತರ ನಗರ ಥೆಸಲೋನಿಕಿಯಲ್ಲಿ ಮೂರು ಎರಡು ಮತ್ತು ರಾಜಧಾನಿ ಅಥೆನ್ಸ್ ನಲ್ಲಿ ಒಂದು ಪ್ರಕರಣಗಳು ಮಧ್ಯಪ್ರಾಚ್ಯದಲ್ಲಿ ಯುದ್ಧ ಮತ್ತು ಬಡತನದಿಂದ ಪಲಾಯನ ಮಾಡುವ ನಿರಾಶ್ರಿತರು ಮತ್ತು ಆಶ್ರಯ ಪಡೆಯುವವರಿಗೆ ಒಂದು ಪ್ರಾಥಮಿಕ ಹೆಬ್ಬಾಗಿಲು ಗ್ರೀಸ್ ಒಂದು ದಶಲಕ್ಷಕ್ಕೂ ಹೆಚ್ಚು ದೇಶದಲ್ಲಿ ಹಾದುಹೋಗಿದೆ ಮತ್ತು ರ ಸರ್ಕಾರಗಳು ಗುರುವಾರ ಕರೋನವೈರಸ್ನ ಸಾಂಕ್ರಾಮಿಕ ರೋಗವನ್ನು ಎದುರಿಸಲು ಕ್ರಮಗಳನ್ನು ಹೆಚ್ಚಿಸಿವೆ ಏಕೆಂದರೆ ಚೀನಾದ ಹೊರಗೆ ಹೊಸ ಸೋಂಕುಗಳ ಸಂಖ್ಯೆ ಮೊದಲ ಬಾರಿಗೆ ಏಕಾಏಕಿ ಪ್ರಾರಂಭವಾದ ದೇಶದಲ್ಲಿ ಹೊಸ ಪ್ರಕರಣಗಳನ್ನು ಮೀರಿಸಿದೆ ಎಂದು ಬ್ಯಾಂಕ್ ಆಫ್ ಗ್ರೀಸ್ ನ ಅಧಿಕಾರಿಯೊಬ್ಬರು ರಾಯಿಟರ್ಸ್ ಕೇಂದ್ರಕ್ಕೆ ತಿಳಿಸಿದರು ಈ ವರ್ಷ ರಿಂದ ರ ಆರ್ಥಿಕ ವಿಸ್ತರಣೆಗಾಗಿ ಬ್ಯಾಂಕ್ ತನ್ನ ಪ್ರಕ್ಷೇಪಗಳಿಗೆ ಅಂಟಿಕೊಂಡಿತ್ತು ನೀವು ಎಸ್ ನಾಲ್ಕನೇ ತ್ರೈಮಾಸಿಕ ಜಿಡಿಪಿ ಪರಿಷ್ಕರಣೆಗಳು ದುರ್ಬಲ ಆಧಾರವಾಗಿರುವ ಬೇಡಿಕೆಯನ್ನು ತೋರಿಸಿ ಬ್ಲೂಮ್ ಬರ್ಗ್ ನಿಮ್ಮ ಎಸ್ ಆರ್ಥಿಕತೆಯಲ್ಲಿ ಆಧಾರವಾಗಿರುವ ಬೇಡಿಕೆ ಆರಂಭದಲ್ಲಿ ಕಳೆದ ವರ್ಷದ ಕೊನೆಯಲ್ಲಿ ವರದಿಯಾಗಿದ್ದಕ್ಕಿಂತ ನಿಧಾನವಾಗಿತ್ತು ರಲ್ಲಿ ಕರೋನವೈರಸ್ನಿಂದ ಉಂಟಾಗುವ ಅಪಾಯಗಳಿಗಿಂತ ದುರ್ಬಲ ಹೆಜ್ಜೆಯ ಮೇಲೆ ಬೆಳವಣಿಗೆಯನ್ನು ನೀಡಿತು ವ್ಯಾಪಾರ ಮತ್ತು ದಾಸ್ತಾನುಗಳಿಂದ ಮೇಲ್ಮುಖವಾಗಿ ಪರಿಷ್ಕೃತ ಕೊಡುಗೆಗಳು ಆರಂಭದಲ್ಲಿ ವರದಿಯಾದ ದರದ ಯಾವುದೇ ಪರಿಷ್ಕರಣೆಗಾಗಿ ಒಟ್ಟು ದೇಶೀಯ ಉತ್ಪನ್ನವು ನಾಲ್ಕನೇ ತ್ರೈಮಾಸಿಕ ಹೊಂದಾಣಿಕೆಯ ಅಂದಾಜುಗಳಲ್ಲಿ ಘನ ವಾರ್ಷಿಕ ದರದಲ್ಲಿ ವಿಸ್ತರಿಸುತ್ತಲೇ ಇದೆ ಎಂದು ವಾಣಿಜ್ಯ ಇಲಾಖೆಯ ಮಾಹಿತಿಯು ಗುರುವಾರ ತೋರಿಸಿದೆ ಈ ತಿಂಗಳ ಆರಂಭದಲ್ಲಿ ಅರ್ಥಶಾಸ್ತ್ರಜ್ಞರು ನಿಮ್ಮ ತ್ರೈಮಾಸಿಕದಲ್ಲಿ ದುರ್ಬಲತೆಯ ಮಧ್ಯೆ ಮೊದಲ ತ್ರೈಮಾಸಿಕದಲ್ಲಿ ಕ್ಕೆ ಇಳಿಯುತ್ತದೆ ಎಂದು ಮುನ್ಸೂಚನೆ ನೀಡಿದ್ದರು ಸರ್ಕಾರಿ ಖರ್ಚಿನಲ್ಲಿನ ಲಾಭಗಳು ಮತ್ತು ಖಾಸಗಿ ಹೂಡಿಕೆಯಲ್ಲಿ ಸ್ವಲ್ಪ ಹೆಚ್ಚಳ ಮಾತ್ರ ವೈರಸ್ ನಿಂದ ಪ್ರಭಾವವನ್ನು ನೀವು ಇನ್ನೂ ಪ್ರತಿಬಿಂಬಿಸಬೇಕಾಗಿಲ್ಲವಾದರೂ ಕೆಲವು ಸೂಚಕಗಳು ಜಿಡಿಪಿಗೆ ಸಂಭವನೀಯ ಹೊಡೆತವನ್ನು ಸೂಚಿಸುತ್ತವೆ ಫೆಬ್ರವರಿ ತಿಂಗಳಿನ ಐಎಚ್ ಎಸ್ ಮಾರ್ಕಿಟ್ ಟ್ ಪುಟ್ ಗೇಜ್ ರ ನಂತರದ ಅತ್ಯಂತ ಕಡಿಮೆ ಮಟ್ಟಕ್ಕೆ ಇಳಿದಿದೆ ಕಡಿಮೆ ಹೊಸ ಆದೇಶಗಳು ಮತ್ತು ಬೇಡಿಕೆ ಮತ್ತು ಕತ್ತರಿಸಿದ ಪೂರೈಕೆ ಸರಪಳಿಗಳ ಬಗ್ಗೆ ಕಾರ್ಖಾನೆಗಳು ಮತ್ತು ಸೇವಾ ಪೂರೈಕೆದಾರರಲ್ಲಿ ಕಾಳಜಿ ಒಂದು ಪ್ರಮುಖ ಅಳತೆ ದೇಶೀಯ ಖರೀದಿದಾರರಿಗೆ ಆಧಾರವಾಗಿರುವ ಬೇಡಿಕೆಯ ಅಂತಿಮ ಮಾರಾಟವು ನಾಲ್ಕನೇ ತ್ರೈಮಾಸಿಕದಲ್ಲಿ ವಾರ್ಷಿಕ ರಷ್ಟು ಏರಿಕೆಯಾಗಿದ್ದು ಆರಂಭದಲ್ಲಿ ವರದಿಯಾದ ರಿಂದ ಪರಿಷ್ಕರಿಸಲ್ಪಟ್ಟಿದೆ ಮತ್ತು ಒಂದು ವರ್ಷದಲ್ಲಿ ದುರ್ಬಲವಾಗಿದೆ ಅವರು ಗುರುವಾರ ಮಾತನಾಡುತ್ತಾ ಡಕ್ ಜಿಯಾಂಗ್ ಜನರಲ್ ಆಸ್ಪತ್ರೆಗೆ ಭೇಟಿ ನೀಡಿದಾಗ ಐದು ಹನೋಯಿ ಆಸ್ಪತ್ರೆಗಳಲ್ಲಿ ಒಂದನ್ನು ಸಂಪರ್ಕಿಸಲು ಮತ್ತು ಕೋವಿಡ್ ರೋಗಿಗಳಿಗೆ ಚಿಕಿತ್ಸೆ ನೀಡಲು ಗೊತ್ತು ಮಾಡಲಾಗಿದೆ ಹನೋಯಿ ಅವರ ಮಿಲಿಯನ್ ಪ್ರಬಲ ಜನಸಂಖ್ಯೆಯಲ್ಲಿ ದಕ್ಷಿಣ ಕೊರಿಯಾದ ದೊಡ್ಡ ಸಮುದಾಯವಿದೆ ವಿಶೇಷವಾಗಿ ಥಾನ್ ಕ್ಸುವಾನ್ ಮತ್ತು ಕಾವ್ ಗಿಯೆ ಹ್ಯೂ ಫೆಬ್ರವರಿ ರಂದು ಹನೋಯಿ ಆರೋಗ್ಯ ಇಲಾಖೆಯಲ್ಲಿನ ವೂಂಗ್ ದಿನ್ಹ್ ಹನೋಯಿ ಅವರ ಪಕ್ಷದ ಕಾರ್ಯದರ್ಶಿ ದಕ್ಷಿಣ ಕೊರಿಯಾ ಕಳೆದ ಕೆಲವು ದಿನಗಳಿಂದ ಅಂತರರಾಷ್ಟ್ರೀಯ ಮುಖ್ಯಾಂಶಗಳನ್ನು ಮಾಡಿದೆ ಚೀನಾದ ನಂತರ ಕರೋನವೈರಸ್ ಸೋಂಕುಗಳು ಆಗ್ನೇಯ ನಗರವಾದ ಡೇಗು ಮತ್ತು ಹತ್ತಿರದ ಉತ್ತರ ಜಿಯೊಂಗ್ ಸಾಂಗ್ ಪ್ರಾಂತ್ಯ ಬುಧವಾರದ ವೇಳೆಗೆ ಏಕಾಏಕಿ ಪ್ರದೇಶಗಳಿಂದ ಬರುವ ಸುಮಾರು ಜನರನ್ನು ಹನೋಯಿ ಮಿಲಿಟರಿ ಹೈಕಮಾಂಡ್ ನಿರ್ವಹಿಸುತ್ತಿರುವ ವಲಯಗಳಲ್ಲಿ ನಿರ್ಬಂಧಿಸಲಾಗಿದೆ ಎಂದು ಪುರಸಭೆಯ ಆರೋಗ್ಯ ಇಲಾಖೆಯ ನಿರ್ದೇಶಕ ನ್ಗುಯೇನ್ ಖಾಕ್ ಹೈನ್ ಹೇಳಿದ್ದಾರೆ ಹರಡುವಿಕೆಯನ್ನು ನಿಯಂತ್ರಿಸಲು ಸಾಮ್ರಾಜ್ಯದ ಎಲ್ಲಾ ಧಾರ್ಮಿಕ ಪ್ರವಾಸಗಳನ್ನು ನಿಲ್ಲಿಸುವ ಸೌದಿ ಅರೇಬಿಯಾದ ನಿರ್ಧಾರವು ಏರ್ ಇಂಡಿಯಾ ಇಂಡಿಗೊ ಮತ್ತು ಸೌದಿ ಅರಬ್ ಏರ್ಲೈನ್ಸ್ ಸೌದಿ ಜೊತೆಗೆ ಮೂರು ಭಾರತೀಯ ವಿಮಾನಯಾನ ಸಂಸ್ಥೆಗಳನ್ನು ಜೆಡ್ಡಾಗೆ ಸಾಪ್ತಾಹಿಕ ವಿಮಾನಯಾನಗಳನ್ನು ನಡೆಸುತ್ತದೆ ಇದು ಮೆಕ್ಕಾ ಮತ್ತು ಮದೀನಾಕ್ಕೆ ಪ್ರಮುಖ ಹೆಬ್ಬಾಗಿಲು ಸೌದಿ ಮೆಕ್ಕಾ ಮತ್ತು ಮದೀನಾಕ್ಕೆ ಉಮ್ರಾ ಅಥವಾ ಧಾರ್ಮಿಕ ಪ್ರವಾಸಗಳನ್ನು ತಾತ್ಕಾಲಿಕವಾಗಿ ಸ್ಥಗಿತಗೊಳಿಸುವುದಾಗಿ ಸರ್ಕಾರ ಗುರುವಾರ ಪ್ರಕಟಿಸಿದೆ ಹೆಚ್ಚುವರಿಯಾಗಿ ಭಾರತ ಸೇರಿದಂತೆ ಇಪ್ಪತ್ತು ದೇಶಗಳ ಪ್ರವಾಸಿ ವೀಸಾ ಹೊಂದಿರುವವರಿಗೆ ಚೀನಾದಿಂದ ಯುರೋಪಿಗೆ ಹರಡಿರುವ ರೋಗದ ಹರಡುವಿಕೆಯನ್ನು ಪರೀಕ್ಷಿಸುವ ಅಸಾಧಾರಣ ನಿರ್ಧಾರದಲ್ಲಿ ಪ್ರವೇಶಿಸಲು ಅನುಮತಿಸಲಾಗುವುದಿಲ್ಲ ಪಶ್ಚಿಮ ಏಷ್ಯಾ ಸೌದಿ ಅರೇಬಿಯಾ ಯುಎಇ ನಂತರ ಪಶ್ಚಿಮ ಏಷ್ಯಾದ ಭಾರತೀಯರಿಗೆ ಎರಡನೇ ಅತಿದೊಡ್ಡ ವಿಮಾನ ಪ್ರಯಾಣ ಮಾರುಕಟ್ಟೆಯಾಗಿದೆ ಮತ್ತು ರಲ್ಲಿ ಸುಮಾರು ಮಿಲಿಯನ್ ಪ್ರಯಾಣಿಕರು ಉಭಯ ದೇಶಗಳ ನಡುವೆ ಹಾರಾಟ ನಡೆಸಿದ್ದಾರೆ ಸೌದಿ ಸರ್ಕಾರದ ನಿರ್ಧಾರದ ನಂತರ ನಾವು ಜೆಡ್ಡಾ ಮಾರ್ಗದಲ್ಲಿ ಆವರ್ತನವನ್ನು ಕಡಿಮೆ ಮಾಡಬೇಕಾಗಬಹುದು ಹೆಚ್ಚಿದ ಬೇಡಿಕೆಯು ಕೆಲವು ರಸಾಯನಶಾಸ್ತ್ರಜ್ಞರನ್ನು ಸಿಡ್ನಿಯಲ್ಲಿನ ಹಲವಾರು ಪ್ರಿಕ್ಲೈನ್ ಮಳಿಗೆಗಳು ಸೇರಿದಂತೆ ಪಡಿತರ ಸರಬರಾಜಿಗೆ ಒತ್ತಾಯಿಸಿದೆ ಅದು ಗ್ರಾಹಕರು ಖರೀದಿಸಬಹುದಾದ ಉತ್ಪನ್ನಗಳ ಸಂಖ್ಯೆಯನ್ನು ಸೀಮಿತಗೊಳಿಸುತ್ತದೆ ಎ ಪ್ರಿಕ್ಲೈನ್ ವಕ್ತಾರರು ಹ್ಯಾಂಡ್ ಸ್ಯಾನಿಟೈಸರ್ ಸುತ್ತಲೂ ಗ್ರಾಹಕರ ಖರೀದಿಯನ್ನು ಸೀಮಿತಗೊಳಿಸುವ ಯಾವುದೇ ನಿರ್ಧಾರವನ್ನು ಪ್ರತ್ಯೇಕ ಮಳಿಗೆಗಳಿಂದ ಮಾಡಲಾಗುತ್ತದೆ ನಾವು ಪ್ರಸ್ತುತ ಕೊರತೆಗಳನ್ನು ಎದುರಿಸುತ್ತಿದ್ದೇವೆ ಸಾಮಾನ್ಯ ಗ್ರಾಹಕ ಬೇಡಿಕೆಗಿಂತ ಹೆಚ್ಚಿನದರಿಂದ ನಮ್ಮ ಅಂಗಡಿಗಳಲ್ಲಿ ಕೆಲವು ಆಂಟಿಬ್ಯಾಕ್ಟೀರಿಯಲ್ ಹ್ಯಾಂಡ್ ವಾಶ್ ಮತ್ತು ಸ್ಯಾನಿಟೈಸರ್ ಉತ್ಪನ್ನಗಳು ವಕ್ತಾರರು ಕಳೆದ ತಿಂಗಳು ಚಾಟ್ಸ್ ವುಡ್ ನಲ್ಲಿರುವ ಕೆಮಿಸ್ಟ್ ವೇರ್ ಹೌಸ್ ಅಂಗಡಿಯ ಚಿತ್ರಗಳು ಹ್ಯಾಂಡ್ ಸ್ಯಾನಿಟೈಸರ್ ಮತ್ತು ಫೇಸ್ ಮಾಸ್ಕ್ ಗಳ ಖಾಲಿ ಕಪಾಟನ್ನು ತೋರಿಸಿದೆ ಎಂದು ಹೇಳಿದರು ಮತ್ತು ಎಲ್ಲವನ್ನೂ ಜನವರಿ ರಂದು ಮಾರಾಟ ಮಾಡಲಾಗಿದೆ ಬುಧವಾರ ಬಿಡುಗಡೆಯಾದ ಹುರುನ್ ಗ್ಲೋಬಲ್ ರಿಚ್ ಲಿಸ್ಟ್ ರ ಪ್ರಕಾರ ಈ ವರ್ಷದ ಜನವರಿ ರಂದು ಶತಕೋಟ್ಯಾಧಿಪತಿಗಳು ತಮ್ಮ ನಿವ್ವಳ ಮೌಲ್ಯದ ಆಧಾರದ ಮೇಲೆ ಒಟ್ಟು ಶೇಕಡಾ ರಷ್ಟು ಏರಿಕೆಯಾಗಿದೆ ಕೋಟ್ಯಾಧಿಪತಿಗಳನ್ನು ಎತ್ತರಕ್ಕೆ ದಾಖಲಿಸಲು ರೂಪರ್ಟ್ ಹೂಗ್ವೆರ್ಫ್ ಅಧ್ಯಕ್ಷ ಮತ್ತು ಹುರುನ್ ರಿಸರ್ಚ್ ಇನ್ಸ್ಟಿಟ್ಯೂಟ್ನ ಮುಖ್ಯ ಸಂಶೋಧಕ ವರದಿಯಲ್ಲಿ ಜೆಫ್ ಬೆಜೋಸ್ ಸತತ ಮೂರು ವರ್ಷಗಳಿಂದ ವಿಶ್ವದ ಅತ್ಯಂತ ಶ್ರೀಮಂತ ವ್ಯಕ್ತಿ ಮತ್ತು ಬಿಲಿಯನ್ ಚೀನಾದ ಷೇರು ಮಾರುಕಟ್ಟೆಗಳ ಒಟ್ಟು ಮೌಲ್ಯವನ್ನು ಕ್ಕೆ ಹೋಲಿಸಿದರೆ ಜನವರಿ ರ ಕರೋನವೈರಸ್ ಏಕಾಏಕಿ ಚೀನಾದ ಹೊಸ ವರ್ಷದ ಮಹಿಳೆಯರು ಕುಸಿತಕ್ಕೆ ಕಾರಣವಾದರೂ ವಿಶ್ವದ ಬಿಲಿಯನೇರ್ ಗಳ ಪಟ್ಟಿಯಲ್ಲಿ ಕೇವಲ ಪ್ರತಿಶತದಷ್ಟು ಮಹಿಳೆಯರು ಇದ್ದಾರೆ ಶ್ರೀಮಂತರು ಬಿಲಿಯನ್ ಮೌಲ್ಯದ ವಾಲ್ ಮಾರ್ಟ್ ನ ಆಲಿಸ್ ವಾಲ್ಟನ್ ಎಪಿ ಫೋಟೋ ಸ್ಟೀವನ್ ಸೆನ್ನೆ ವಾಷಿಂಗ್ಟನ್ ಎಪಿ ಕಾರ್ಖಾನೆಗಳು ನಿಮಗೆ ಜನವರಿಯಲ್ಲಿ ಅದ್ದಿದ ಕಾರುಗಳ ಆಟೋ ಪಾರ್ಟ್ಸ್ ಮತ್ತು ಮಿಲಿಟರಿ ವಿಮಾನಗಳ ಬೇಡಿಕೆ ಕಡಿಮೆಯಾಗಿದೆ ಎಂದು ವಾಣಿಜ್ಯ ಇಲಾಖೆ ಗುರುವಾರ ತಿಳಿಸಿದೆ ಕಳೆದ ತಿಂಗಳು ಏರಿದ ನಂತರ ಬಾಳಿಕೆ ಬರುವ ಸರಕುಗಳ ಆದೇಶಗಳು ರಷ್ಟು ಕುಸಿದಿದೆ ಎಂದು ವಾಣಿಜ್ಯ ಇಲಾಖೆ ಗುರುವಾರ ತಿಳಿಸಿದೆ ಡಿಸೆಂಬರ್ನಲ್ಲಿ ಬಾಷ್ಪಶೀಲ ಸಾರಿಗೆ ಆದೇಶಗಳನ್ನು ಹೊರತುಪಡಿಸಿ ಬಾಳಿಕೆ ಬರುವ ಸರಕುಗಳ ಆದೇಶಗಳು ಏಪ್ರಿಲ್ ರಿಂದ ರಷ್ಟು ವೇಗವಾಗಿ ಏರಿಕೆಯಾಗಿದೆ ಮಿಲಿಟರಿ ವಿಮಾನಗಳ ಆದೇಶಗಳು ಕಳೆದ ತಿಂಗಳು ನಷ್ಟು ಕುಸಿದವು ಮತ್ತು ಕಾರುಗಳು ಮತ್ತು ವಾಹನ ಭಾಗಗಳ ಆದೇಶಗಳು ಕುಸಿದವು ವಿಮಾನವನ್ನು ಹೊರತುಪಡಿಸಿ ಲಾಭರಹಿತ ಬಂಡವಾಳ ಸರಕುಗಳಿಗಾಗಿ ವ್ಯಾಪಾರ ಹೂಡಿಕೆ ಆದೇಶಗಳನ್ನು ಪತ್ತೆ ಮಾಡುವ ಒಂದು ವರ್ಗ ಗುಲಾಬಿ ಡಿಸೆಂಬರ್ನಲ್ಲಿ ಬಿದ್ದು ನವೆಂಬರ್ನಲ್ಲಿ ಫ್ಲಾಟ್ ಆದ ನಂತರ ಜನವರಿಯಲ್ಲಿ ಲಿಟಲ್ ರಾಕ್ ಅರ್ಕಾನ್ಸಾಸ್ ನ ಮೇಫ್ಲವರ್ ಸಿಟಿ ಹಾಲ್ ನಲ್ಲಿರುವ ನ್ಯಾಯಾಲಯವನ್ನು ತೆರವುಗೊಳಿಸಲು ನ್ಯಾಯಾಧೀಶರು ಆದೇಶಿಸಿದರು ಸೆಲಿಯಾ ಹಿಲ್ ಮಾರಣಾಂತಿಕ ವೈರಸ್ ಗೆ ತುತ್ತಾಗಿದ್ದಾರೆಂದು ಹೇಳಿಕೊಂಡ ನಂತರ ಹಿಲ್ ವಾಂತಿ ಮಾಡಿದ ನಂತರ ಸಾಕ್ಷಿಗಳು ನ್ಯಾಯಾಲಯದಿಂದ ಓಡಿಹೋದರು ಮತ್ತು ಎಫ್ ಜ್ವರವನ್ನು ನಡೆಸುತ್ತಿದ್ದಾರೆಂದು ಹೇಳಿಕೊಂಡರು ಆದರೆ ಅಧಿಕಾರಿಗಳು ನಂತರ ಹಿಲ್ ಎಂದು ಸ್ಥಾಪಿಸಿದರು ಸುಳ್ಳು ಹೇಳಲಾಗಿದೆ ಮತ್ತು ಈಗ ಈ ಘಟನೆಯ ಕುರಿತು ಹೆಚ್ಚಿನ ಅಪರಾಧಗಳನ್ನು ಹೊರಿಸಲು ಅವಳು ಸಿದ್ಧಳಾಗಿದ್ದಾಳೆ ನ್ಯಾಯಾಲಯದ ತಿರಸ್ಕಾರದ ಆರೋಪವನ್ನು ಅವಳು ಎದುರಿಸುತ್ತಿದ್ದಾಳೆ ಸುಳ್ಳು ಪೊಲೀಸ್ ವರದಿಯನ್ನು ಸಲ್ಲಿಸಿದ ಮತ್ತು ಸರ್ಕಾರಿ ಕಾರ್ಯಾಚರಣೆಗಳಿಗೆ ಅಡ್ಡಿಯುಂಟುಮಾಡಿದ ಮೇಫ್ಲವರ್ ಪೊಲೀಸ್ ಮುಖ್ಯಸ್ಥ ರಾಬರ್ಟ್ ಅಲ್ಕಾನ್ ಅವರು ಹೇಳುವ ಪ್ರಕಾರ ನಾವು ಹೊಂದುವ ಬಗ್ಗೆ ಸುಳ್ಳು ಹೇಳಿದ್ದೇವೆ ಅರ್ಕಾನ್ಸಾಸ್ ನಲ್ಲಿ ಯಾವುದೇ ಕೊರೊನಾವೈರಸ್ ರೋಗನಿರ್ಣಯಗಳು ನಡೆದಿಲ್ಲ ಎಂದು ಅಧಿಕಾರಿಗಳು ಹೇಳುತ್ತಾರೆ ಸಿರಸ್ ಲಾಜಿಕ್ ನಾಸ್ಡಾಕ್ ಕ್ರುಸ್ ಮತ್ತು ಕೊರ್ವೊ ನಾಸ್ಡಾಕ್ ಕ್ಯೂಆರ್ವಿಒ ಮುಂತಾದ ಪ್ರಮುಖ ಆಪಲ್ ಪೂರೈಕೆದಾರರು ತಡವಾದ ಸಿರಸ್ ಲಾಜಿಕ್ನ ಎರಡು ಅಂಕೆಗಳಿಂದ ಕುಸಿದಿದ್ದಾರೆ ಎಂಬುದು ಆಶ್ಚರ್ಯಕರವಲ್ಲ ಜಿ ಸ್ಮಾರ್ಟ್ ಫೋನ್ ಮಾರುಕಟ್ಟೆಯಲ್ಲಿ ಪ್ರಮುಖ ಡೆಂಟ್ ಮಾಡಲು ಅದರ ಬೃಹತ್ ಸ್ಥಾಪಿತ ನೆಲೆಗೆ ದೊಡ್ಡ ಅಪ್ ಗ್ರೇಡ್ ಸೈಕಲ್ ಮತ್ತು ಅದರ ಸಾಧನಗಳನ್ನು ಹೆಚ್ಚು ಪ್ರವೇಶಿಸುವಂತೆ ಮಾಡುವ ಹೊಸ ತಂತ್ರ ಸಿರಸ್ ಇತ್ತೀಚಿನ ಆರ್ಥಿಕ ಪುನರುತ್ಥಾನವು ದೀರ್ಘಾವಧಿಯಲ್ಲಿ ಮುಂದುವರಿಯಬಹುದು ಹೂಡಿಕೆದಾರರು ಲಾಭ ಪಡೆಯಲು ಆಪಲ್ ಉತ್ಪನ್ನದ ನಾಟಕವನ್ನು ಹುಡುಕುತ್ತಿದ್ದಾರೆ ಜಿ ಸ್ಮಾರ್ಟ್ ಫೋನ್ ಗಳಲ್ಲಿನ ಉತ್ಕರ್ಷವು ಸಿರಸ್ ಸ್ಟಾಕ್ ನಲ್ಲಿನ ಹೆಚ್ಚಿನ ಪುಲ್ ಬ್ಯಾಕ್ ಗಳನ್ನು ದೀರ್ಘಾವಧಿಯಲ್ಲಿ ಬೆಳವಣಿಗೆಗೆ ನಿಗದಿಪಡಿಸಿದ ಕಂಪನಿಯೊಂದನ್ನು ಸ್ನ್ಯಾಪ್ ಮಾಡುವ ಅವಕಾಶವಾಗಿ ಪರಿಗಣಿಸಬಹುದು ಆದರೆ ಕೊರ್ವೊ ಜಿ ಸ್ಮಾರ್ಟ್ ಫೋನ್ ಕ್ರಾಂತಿಯ ಮೇಲೆ ಒಂದು ದೊಡ್ಡ ನಾಟಕವಾಗಿದೆ ಏಕೆಂದರೆ ಅದರ ಮೊಬೈಲ್ ವ್ಯವಹಾರವು ಒಟ್ಟು ಆದಾಯದ ರಷ್ಟಿದೆ ಹಿಂದಿನ ತ್ರೈಮಾಸಿಕ ಬಾಳಿಕೆ ಬರುವ ಸರಕುಗಳ ಯುಎಸ್ ಆದೇಶಗಳು ಜನವರಿಯಲ್ಲಿ ಸ್ಲಿಪ್ ಕಾರುಗಳ ದುರ್ಬಲ ಬೇಡಿಕೆಯ ಮೇಲೆ ಜನವರಿಯಲ್ಲಿ ಸ್ಲಿಪ್ ಮಿಲಿಟರಿ ವೈಸ್ಮನ್ ಎಪಿ ಎಕನಾಮಿಕ್ಸ್ ರೈಟರ್ ಫೆಬ್ರವರಿ ನಿಮಿಷ ಓದುವಿಕೆ ವಾಷಿಂಗ್ಟನ್ ನಿಮಗೆ ದೊಡ್ಡ ಕಾರ್ಖಾನೆಗಳಲ್ಲಿ ತಯಾರಿಸಿದ ಸರಕುಗಳಿಗಾಗಿ ಕಾರ್ಖಾನೆಗಳು ಕಾರುಗಳ ಆಟೋ ಪಾರ್ಟ್ಸ್ ಮತ್ತು ಮಿಲಿಟರಿ ವಿಮಾನಗಳ ಬೇಡಿಕೆ ಕಡಿಮೆಯಾದ ಕಾರಣ ಜನವರಿಯು ಡಿಸೆಂಬರ್ ನಲ್ಲಿ ಅನ್ನು ಏರಿದ ನಂತರ ಬಾಳಿಕೆ ಬರುವ ಸರಕುಗಳ ಆದೇಶಗಳು ರಷ್ಟು ಕುಸಿದಿದೆ ಎಂದು ವಾಣಿಜ್ಯ ಇಲಾಖೆ ಗುರುವಾರ ತಿಳಿಸಿದೆ ಬಾಷ್ಪಶೀಲ ಸಾರಿಗೆ ಆದೇಶಗಳನ್ನು ಹೊರತುಪಡಿಸಿ ಬಾಳಿಕೆ ಬರುವ ಸರಕುಗಳ ಆದೇಶಗಳು ಏರಿತು ಏಪ್ರಿಲ್ ರಿಂದ ವೇಗವಾಗಿ ಬೆಳವಣಿಗೆ ಮಿಲಿಟರಿ ವಿಮಾನಗಳಿಗಾಗಿ ಕಳೆದ ತಿಂಗಳು ರಷ್ಟು ಕುಸಿದಿದೆ ಮತ್ತು ಕಾರುಗಳು ಮತ್ತು ಆಟೋ ಭಾಗಗಳ ಆದೇಶಗಳು ಕುಸಿದವು ಎಎಮ್ ಇಟಿ ಅನ್ಹ್ಯೂಸರ್ ಬುಶ್ ಇನ್ಬೆವ್ ಬಿಆರ್ ಎನ್ವೈಎಸ್ಇ ಸ್ಟಾಕ್ ರ ಕೊನೆಯ ಮೂರು ತಿಂಗಳುಗಳಲ್ಲಿ ನಿರಾಶಾದಾಯಕ ಆದಾಯವನ್ನು ವರದಿ ಮಾಡಿದ ನಂತರ ಎಂಟು ವರ್ಷಗಳ ಕನಿಷ್ಠ ಕ್ಕೆ ಇಳಿದಿದೆ ಎಬಿಐ ಸಹ ಕೋವಿಡ್ ವೈರಸ್ ನಂತರದ ಮೊದಲ ತ್ರೈಮಾಸಿಕದಲ್ಲಿ ಇಬಿಐಟಿಡಿಎ ರಷ್ಟು ಕುಸಿಯುತ್ತದೆ ಎಂದು ನಿರೀಕ್ಷಿಸಿದೆ ಚೀನಾದಲ್ಲಿ ತನ್ನ ಕಾರ್ಯಾಚರಣೆಯನ್ನು ವಿಶೇಷವಾಗಿ ಕಠಿಣಗೊಳಿಸಿದೆ ಮೈಕ್ರೋಸಾಫ್ಟ್ ನಾಸ್ಡಾಕ್ ಸ್ಟಾಕ್ ತನ್ನ ಮೊದಲ ತ್ರೈಮಾಸಿಕ ಮಾರಾಟ ಮಾರ್ಗದರ್ಶನವನ್ನು ತಪ್ಪಿಸಿಕೊಳ್ಳುವುದಾಗಿ ಹೇಳುತ್ತಾ ಆಪಲ್ ನಾಸ್ಡಾಕ್ಗೆ ಸೇರ್ಪಡೆಗೊಂಡ ನಂತರ ಕುಸಿದಿದೆ ಕಂಪನಿಯು ಗಳಿಕೆಗಳಿಗೆ ಗಮನಾರ್ಹ ಮತ್ತು ಣಾತ್ಮಕ ಪರಿಣಾಮ ಬೀರುವ ಬಗ್ಗೆ ಎಚ್ಚರಿಕೆ ನೀಡಿದ ನಂತರ ನಾಸ್ಡಾಕ್ ಸ್ಟಾಕ್ ಕುಸಿದಿದೆ ಕರೋನವೈರಸ್ ಅದರ ನಾಲ್ಕನೇ ತ್ರೈಮಾಸಿಕ ಫಲಿತಾಂಶಗಳು ನಿರೀಕ್ಷೆಗಳಿಗಿಂತ ಮುಂಚೆಯೇ ಬಂದಿದ್ದರೂ ಕಂಪನಿಯು ಮೊದಲ ತ್ರೈಮಾಸಿಕದಲ್ಲಿ ಇಬಿಐಟಿಡಿಎ ಸುಮಾರು ಮಿಲಿಯನ್ ಆಗಲಿದೆ ಎಂದು ಹೇಳಿದೆ ಕೊರೋನವೈರಸ್ ಫಹಾದ್ ಶಬ್ಬೀರ್ ಅವರ ಮೊದಲ ಎರಡು ಪ್ರಕರಣಗಳನ್ನು ಪಾಕಿಸ್ತಾನ ದೃ ಪಡಿಸಿದೆ ನಿಮಿಷಗಳ ಹಿಂದೆ ಥು ಫೆಬ್ರವರಿ ಇಸ್ಲಾಮಾಬಾದ್ ಉರ್ದುಪಾಯಿಂಟ್ ಪಾಕಿಸ್ತಾನ ಪಾಯಿಂಟ್ ನ್ಯೂಸ್ ವಾಮ್ ಫೆಬ್ರವರಿ ಪಾಕಿಸ್ತಾನ ತನ್ನ ಮೊದಲ ಎರಡು ಕರೋನವೈರಸ್ ಪ್ರಕರಣಗಳನ್ನು ವರದಿ ಮಾಡಿದೆ ರಾಷ್ಟ್ರೀಯ ಆರೋಗ್ಯ ಸೇವೆಗಳ ಕ್ವೆಟ್ಟಾ ವಿಶೇಷ ಸಹಾಯಕದಲ್ಲಿ ಸುದ್ದಿಗೋಷ್ಠಿಯನ್ನು ಉದ್ದೇಶಿಸಿ ಎರಡೂ ರೋಗಿಗಳು ಇತ್ತೀಚೆಗೆ ಇರಾನ್ ನಿಂದ ಆಗಮಿಸಿದ್ದಾರೆ ಎಂದು ಡಾ ಜಾಫರ್ ಮಿರ್ಜಾ ಹೇಳಿದ್ದಾರೆ ಇಸ್ಲಾಮಾಬಾದ್ ನ ಎರಡನೇ ರೋಗಿಯನ್ನು ರಾಜಧಾನಿಯ ಪಾಕಿಸ್ತಾನ ವೈದ್ಯಕೀಯ ವಿಜ್ಞಾನ ಸಂಸ್ಥೆಗೆ ದಾಖಲಿಸಲಾಗಿದೆ ಎರಡೂ ರೋಗಿಗಳು ಸ್ಥಿರ ಸ್ಥಿತಿಯಲ್ಲಿದ್ದಾರೆ ಎಂದು ಹೇಳಲಾಗುತ್ತದೆ ಬಲೂಚಿಸ್ತಾನ್ ಸರ್ಕಾರ ಮಾರ್ಚ್ ರವರೆಗೆ ಶಾಲೆಗಳು ಮತ್ತು ಧಾರ್ಮಿಕ ಮದರಸಾಗಳನ್ನು ಮುಚ್ಚಿದೆ ಸಿಂಧ್ ಸರ್ಕಾರ ಫೆಬ್ರವರಿ ಮತ್ತು ರಂದು ಶಾಲೆಗಳನ್ನು ಮುಚ್ಚುವುದಾಗಿ ಘೋಷಿಸಿತು ಫೈಲ್ ಫೋಟೋ ಟೊಯೋಟಾ ಮಿರೈ ಹೈಡ್ರೋಜನ್ ಎಲೆಕ್ಟ್ರಿಕ್ ಇಂಧನ ಕೋಶ ಕಾರನ್ನು ಟೊರೊಂಟೊ ಒಂಟಾರಿಯೊ ಕೆನಡಾದಲ್ಲಿ ನಡೆದ ಕೆನಡಿಯನ್ ಇಂಟರ್ನ್ಯಾಷನಲ್ ಆಟೋ ಪ್ರದರ್ಶನದಲ್ಲಿ ಪ್ರದರ್ಶಿಸಲಾಗಿದೆ ಫೆಬ್ರವರಿ ರಾಯಿಟರ್ಸ್ ಕ್ರಿಸ್ ಹೆಲ್ಗ್ರೆನ್ಫ್ರಾಂಕ್ಫರ್ಟ್ ರಾಯಿಟರ್ಸ್ ಕಾರ್ ತಯಾರಕರು ಮುಂದಿನ ವಾರ ಜಿನೀವಾ ಕಾರು ಪ್ರದರ್ಶನಕ್ಕೆ ಹಾಜರಾಗುವ ಸಿಬ್ಬಂದಿಯನ್ನು ಕಡಿಮೆಗೊಳಿಸುತ್ತಿದ್ದಾರೆ ಜಿನೀವಾ ಪ್ಯಾಲೆಕ್ಸ್ ಪೋದಲ್ಲಿ ಒಂದನ್ನು ಒಳಗೊಂಡಂತೆ ಅಂತಾರಾಷ್ಟ್ರೀಯ ಪ್ರದರ್ಶನದ ಸಂಘಟಕರು ಜಿನೀವಾ ವಾಚ್ ಮೇಳವನ್ನು ರದ್ದುಗೊಳಿಸಿದಂತೆಯೇ ಕಾರ್ ಪ್ರದರ್ಶನವು ಮುಂದುವರಿಯುತ್ತದೆ ಎಂದು ಒತ್ತಾಯಿಸಿದರು ಮತ್ತು ಸ್ವಿಸ್ ಅಧಿಕಾರಿಗಳು ವರದಿ ಮಾಡಿದಂತೆ ಜಿನೀವಾ ಪ್ರಯಾಣದ ನಿರ್ಬಂಧಗಳಿಗೆ ವೈರಸ್ ಹರಡಿತು ಮತ್ತು ವೈರಸ್ ಹರಡುವ ಭೀತಿ ಈಗಾಗಲೇ ಬಾರ್ಸಿಲೋನಾದ ಫ್ರಾಂಕ್ ಫರ್ಟ್ ನ ಲೈಟ್ ಬಿಲ್ಡಿಂಗ್ ಫೇರ್ ಮತ್ತು ಬೀಜಿಂಗ್ ಆಟೋ ಶೋನಲ್ಲಿನ ಮೊಬೈಲ್ ವರ್ಲ್ಡ್ ಕಾಂಗ್ರೆಸ್ ಸೇರಿದಂತೆ ಇತರ ವ್ಯಾಪಾರ ಮೇಳಗಳನ್ನು ಮುಂದೂಡಲು ಅಥವಾ ರದ್ದುಗೊಳಿಸಲು ಕಾರಣವಾಯಿತು ಫೆರಾರಿ ರೇಸ್ ಎಂಐ ಮತ್ತು ಬ್ರೇಕ್ ತಯಾರಕ ಬ್ರೆಂಬೊ ಬಿಆರ್ ಬಿಐ ಎಂಐನ ಮುಖ್ಯ ಅಧಿಕಾರಿಗಳು ಸ್ವಿಸ್ ನಲ್ಲಿ ತಮ್ಮ ಹಾಜರಾತಿಯನ್ನು ರದ್ದುಗೊಳಿಸಿದ್ದಾರೆ ಎಂದು ಬುಧವಾರ ತಿಳಿದುಬಂದಿದೆ ಇಟಾಲಿಯನ್ ಆಟೋ ವಿಧಿಸಿದ ಪ್ರಯಾಣ ನಿರ್ಬಂಧಗಳಿಂದಾಗಿ ಕಾರ್ ಪ್ರದರ್ಶನ ಹೋರಿಟೀಸ್ ಜಾಗತಿಕ ಕರೋನವೈರಸ್ ಏಕಾಏಕಿ ಕಳೆದ ಮೂರು ಸೆಷನ್ ಗಳಲ್ಲಿ ಕುಸಿದಿರುವ ಸ್ಟಾಕ್ ಆರ್ಥಿಕ ಕುಸಿತದ ಭೀತಿಯನ್ನು ಹುಟ್ಟುಹಾಕಿದೆ ಮತ್ತು ಷೇರು ಮಾರುಕಟ್ಟೆ ಮಾರಾಟಕ್ಕೆ ಕಾರಣವಾಗಿದೆ ಫೆಬ್ರವರಿ ರಂದು ಷೇರು ರಂತೆ ಮುಚ್ಚಿದಾಗಿನಿಂದ ಸ್ಟಾಕ್ ಬುಧವಾರದವರೆಗೆ ನಷ್ಟವಾಗಿದೆ ಸ್ಟಾಕ್ ಅಥವಾ ಅದಕ್ಕಿಂತ ಕಡಿಮೆ ಮುಚ್ಚಿದರೆ ಅದು ದಾಖಲೆಯ ಎತ್ತರದಿಂದ ಅನ್ನು ಕಳೆದುಕೊಂಡಿರುತ್ತದೆ ವಾಲ್ ಸ್ಟ್ರೀಟ್ ನಲ್ಲಿರುವ ಅನೇಕರು ಅಧಿಕೃತವಾಗಿ ಷೇರುಗಳನ್ನು ಕರಡಿ ಮಾರುಕಟ್ಟೆಯಲ್ಲಿ ಇಡುತ್ತಾರೆ ಎಂದು ನಂಬುತ್ತಾರೆ ಇತ್ತೀಚಿನ ದೌರ್ಬಲ್ಯದ ಹೊರತಾಗಿಯೂ ಸ್ಟಾಕ್ ಆ ಮಟ್ಟಕ್ಕಿಂತ ಕೆಳಗಿದೆ ಕಳೆದ ಮೂರು ತಿಂಗಳುಗಳಲ್ಲಿ ಬುಧವಾರದವರೆಗೆ ಕ್ಕಿಂತಲೂ ದ್ವಿಗುಣಗೊಂಡಿದೆ ಆದರೆ ಎಸ್ಪಿ ಎಸ್ಪಿಎಕ್ಸ್ ಕುಸಿದಿದೆ ನಿಮಗೆ ಆದೇಶಗಳು ಜನವರಿಯಲ್ಲಿ ಅದ್ದಿದ ದೊಡ್ಡ ಟಿಕೆಟ್ ತಯಾರಿಸಿದ ಸರಕುಗಳಿಗಾಗಿ ಎಸ್ ಕಾರ್ಖಾನೆಗಳು ಕಾರುಗಳ ಆಟೋ ಭಾಗಗಳು ಮತ್ತು ಮಿಲಿಟರಿ ವಿಮಾನಗಳ ಬೇಡಿಕೆ ಕಡಿಮೆಯಾಗಿದೆ ಎಂದು ವಾಣಿಜ್ಯ ಇಲಾಖೆ ಗುರುವಾರ ತಿಳಿಸಿದೆ ಡಿಸೆಂಬರ್ ನಲ್ಲಿ ಅನ್ನು ಏರಿದ ನಂತರ ಬಾಳಿಕೆ ಬರುವ ಸರಕುಗಳ ಆದೇಶಗಳು ಕಳೆದ ತಿಂಗಳು ರಷ್ಟು ಕುಸಿದಿದೆ ಎಂದು ವಾಣಿಜ್ಯ ಇಲಾಖೆ ಗುರುವಾರ ತಿಳಿಸಿದೆ ಬಾಷ್ಪಶೀಲ ಸಾರಿಗೆ ಆದೇಶಗಳನ್ನು ಹೊರತುಪಡಿಸಿ ಬಾಳಿಕೆ ಬರುವ ಸರಕುಗಳ ಆದೇಶಗಳು ಏಪ್ರಿಲ್ ರಿಂದ ರಷ್ಟು ವೇಗವಾಗಿ ಏರಿಕೆಯಾಗಿದೆ ಮಿಲಿಟರಿ ವಿಮಾನಗಳ ಆದೇಶಗಳು ಕಳೆದ ತಿಂಗಳು ನಷ್ಟು ಕುಸಿದವು ಮತ್ತು ಕಾರುಗಳು ಮತ್ತು ವಾಹನ ಭಾಗಗಳ ಆದೇಶಗಳು ಕುಸಿದವು ವಿಮಾನವನ್ನು ಹೊರತುಪಡಿಸಿ ಲಾಭರಹಿತ ಬಂಡವಾಳ ಸರಕುಗಳಿಗಾಗಿ ವ್ಯಾಪಾರ ಹೂಡಿಕೆ ಆದೇಶಗಳನ್ನು ಪತ್ತೆಹಚ್ಚುವ ಒಂದು ವರ್ಗವು ಜನವರಿಯಲ್ಲಿ ರಷ್ಟು ಏರಿತು ಡಿಸೆಂಬರ್ ಮತ್ತು ನವೆಂಬರ್ನಲ್ಲಿ ಫ್ಲಾಟ್ ಆಗಿರುತ್ತದೆ ಬ್ಯಾಂಕ್ ಆಫ್ ಅಮೆರಿಕಾ ಪ್ರಕಾರ ಕರೋನವೈರಸ್ ಮತ್ತು ಇತರ ಅಂಶಗಳಿಂದ ಉಂಟಾಗುವ ಮಹಾ ಆರ್ಥಿಕ ಹಿಂಜರಿತದಿಂದಾಗಿ ಜಾಗತಿಕ ಆರ್ಥಿಕ ಬೆಳವಣಿಗೆಯು ಈ ವರ್ಷ ಅತ್ಯಂತ ಕೆಟ್ಟದಾಗಿದೆ ವಿಶ್ವಾದ್ಯಂತದ ಒಟ್ಟು ದೇಶೀಯ ಉತ್ಪನ್ನಗಳ ಬೆಳವಣಿಗೆ ಕ್ಕೆ ಕ್ಕೆ ಇಳಿಯಲಿದೆ ಎಂದು ಬೋಫಾ ಗ್ಲೋಬಲ್ ರಿಸರ್ಚ್ ಹೇಳಿದೆ ಆರ್ಥಿಕ ಹಿಂಜರಿತ ಮತ್ತು ಆರ್ಥಿಕ ಬಿಕ್ಕಟ್ಟು ರ ಮಧ್ಯದಲ್ಲಿ ಕೊನೆಗೊಂಡ ನಂತರದ ಮೊದಲ ಉಪ ಓದುವಿಕೆ ಕರೋನವೈರಸ್ ಏಕಾಏಕಿ ರೋಗವು ಹರಡುತ್ತಿದ್ದಂತೆ ಚೀನಾದಲ್ಲಿ ಆರ್ಥಿಕ ಚಟುವಟಿಕೆಯನ್ನು ಕುಂಠಿತಗೊಳಿಸಿದೆ ಎಂದು ಬೋಫಾ ಅರ್ಥಶಾಸ್ತ್ರಜ್ಞರು ಹೇಳುತ್ತಾರೆ ನೀವು ಎಸ್ ಚೀನಾ ವ್ಯಾಪಾರ ಯುದ್ಧ ರಾಜಕೀಯ ಅನಿಶ್ಚಿತತೆ ಮತ್ತು ಜಪಾನ್ ನಲ್ಲಿನ ದೌರ್ಬಲ್ಯ ಮತ್ತು ಕೆಲವು ದಕ್ಷಿಣ ಅಮೆರಿಕಾದ ಪ್ರದೇಶಗಳು ಸಹ ಟ್ ಪುಟ್ ನ ತೂಕದ ದೊಡ್ಡ ಸ್ಪಿಲ್ ಓವರ್ ಪರಿಣಾಮಗಳ ಭಾಗವಾಗಿದೆ ದುರ್ಬಲ ಪ್ರವಾಸಿ ಹರಿವು ಏಷ್ಯಾದ ಮತ್ತೊಂದು ಪ್ರಮುಖ ಅಂಶವಾಗಿದೆ ಏಷ್ಯಾ ಬೋಫಾ ಅರ್ಥಶಾಸ್ತ್ರಜ್ಞ ಆದಿತ್ಯ ಭಾವೆ ಟಿಪ್ಪಣಿಯಲ್ಲಿ ಈ ಮಾರ್ನಿಂಗ್ ವೀಕ್ಷಕರು ಯುಕೆ ರಾಪರ್ ಡ್ರಿಲ್ಮಿನಿಸ್ಟರ್ ಅವರನ್ನು ತನ್ನ ಸಹಿ ಬಾಲಾಕ್ಲಾವಾ ಜೊತೆ ಪ್ರದರ್ಶಿಸಿದ ನಂತರ ಕೀಟಲೆ ಮಾಡಿದರು ಮತ್ತು ಇದು ಅವನನ್ನು ಕರೋನವೈರಸ್ನಿಂದ ರಕ್ಷಿಸುತ್ತದೆ ಎಂದು ಹೇಳಿಕೊಂಡರು ಟೆನೆರೈಫ್ ಹೋಟೆಲ್ನಲ್ಲಿ ಉಚಿತ ಶಾಂಪೇನ್ ಮೇಲೆ ಈಜುಕೊಳ ಸಿಪ್ಪಿಂಗ್ ಮೂಲಕ ನಿರ್ನಾಮವಾದ ಪ್ರವಾಸಿಗರು ವಿಶ್ರಾಂತಿ ಪಡೆಯುತ್ತಿದ್ದಾರೆ ಎಂಬ ಸುದ್ದಿಯನ್ನು ಅನುಸರಿಸಿ ರಾಪರ್ ಅತಿಥಿಗಳು ಎಂದು ಹೇಳಿದ್ದಾರೆ ವಿದೇಶದಲ್ಲಿ ವಿಶಿಷ್ಟವಾದ ಬ್ರಿಟ್ಸ್ ಆಗಿರುತ್ತಾರೆ ಆದರೆ ಅವರು ವೈದ್ಯಕೀಯ ಮುಖವಾಡಗಳನ್ನು ಧರಿಸಿ ಬೆಸವಾಗಿ ಕಾಣುತ್ತಾರೆ ಎಂದು ಸೇರಿಸಿದರು ಡ್ರಿಲ್ಮಿನಿಸ್ಟರ್ ಮುಖವಾಡಗಳನ್ನು ಧರಿಸಿದ ಇತರರನ್ನು ವಿನೋದದಿಂದ ನೋಡುವಾಗ ವ್ಯಂಗ್ಯವನ್ನು ಗಮನಸೆಳೆದರೆ ಇತರರು ಅವರು ತಮ್ಮ ಕ್ಲಾಸಿಕ್ ಮುಖವಾಡವನ್ನು ಏಕೆ ಧರಿಸಿದ್ದಾರೆ ಮತ್ತು ಲ್ಯಾಬ್ ಕೋಟ್ ಆಗಿ ಕಾಣಿಸಿಕೊಂಡಿದ್ದಾರೆ ಎಂದು ಗೊಂದಲಕ್ಕೊಳಗಾಗಿದ್ದಾರೆ ಆದರೆ ಡ್ರಿಲ್ ಮಿನಿಸ್ಟರ್ ನಾವು ಬ್ರಿಟಿಷ್ ಜನರಿಗೆ ಪಾನೀಯವನ್ನು ಹೇಗೆ ತಿಳಿದಿದ್ದೇವೆ ಎಂಬುದನ್ನು ಮರೆತಿದ್ದೇವೆ ಮತ್ತು ಅತಿಥಿಗಳು ವಿದೇಶದಲ್ಲಿ ಬೇರೆ ಯಾವುದೇ ಬ್ರಿಟ್ ನಂತೆ ವರ್ತಿಸುತ್ತಿದ್ದಾರೆ ಎಂದು ವಾದಿಸಿದರು ಮುಖವಾಡ ಧರಿಸಿದ ವ್ಯಕ್ತಿಯು ಮುಖವಾಡ ಧರಿಸಿದ ಇತರ ಜನರನ್ನು ಕರೋನವೈರಸ್ ವಿಲಕ್ಷಣ ವಿರುದ್ಧ ಸುರಕ್ಷತಾ ಕ್ರಮವಾಗಿ ಕರೆಯುತ್ತಾನೆ ಹೊಸ ಕರೋನವೈರಸ್ ಗೆ ಸಂಬಂಧಿಸಿರುವ ಉತ್ಪನ್ನಗಳ ಬಗ್ಗೆ ಸುಳ್ಳು ಹಕ್ಕು ಸಾಧಿಸುವ ಜಾಹೀರಾತುಗಳನ್ನು ನಿಷೇಧಿಸುತ್ತಿರುವುದಾಗಿ ಫೇಸ್ ಬುಕ್ ಬುಧವಾರ ಹೇಳಿದೆ ಉತ್ಪನ್ನವನ್ನು ಒಳಗೊಂಡಿರುವ ಜಾಹೀರಾತುಗಳನ್ನು ತೆಗೆದುಹಾಕುತ್ತಿದೆ ಮತ್ತು ಸೀಮಿತ ಪೂರೈಕೆಯನ್ನು ಸೂಚಿಸುತ್ತದೆ ಎಂದು ಖಾತರಿಪಡಿಸುವ ಕರೋನವೈರಸ್ ಜಾಹೀರಾತುಗಳ ಪ್ರಸ್ತಾಪದಲ್ಲಿ ತುರ್ತು ಪ್ರಜ್ಞೆಯನ್ನು ಸೃಷ್ಟಿಸುತ್ತದೆ ಎಂದು ಸಾಮಾಜಿಕ ನೆಟ್ ವರ್ಕ್ ಹೇಳಿದೆ ಚಿಕಿತ್ಸೆ ಅಥವಾ ತಡೆಗಟ್ಟುವಿಕೆಯನ್ನು ಸಹ ನಿಷೇಧಿಸಲಾಗಿದೆ ಇದು ಉದಾಹರಣೆಗೆ ವೈರಸ್ ಹರಡುವುದನ್ನು ತಡೆಗಟ್ಟಲು ಉತ್ಪನ್ನಗಳು ಗ್ಯಾರಂಟಿ ಎಂದು ಹೇಳುವ ಮುಖವಾಡಗಳ ಜಾಹೀರಾತುಗಳನ್ನು ಅನುಮತಿಸಲಾಗುವುದಿಲ್ಲ ಎಂದು ಕಂಪನಿ ಹೇಳಿದೆ ಈ ನಿಷೇಧವು ಈ ವಾರ ಜಾರಿಗೆ ಬಂದಿದ್ದು ಫೇಸ್ ಬುಕ್ ಈ ಹಿಂದೆ ಜಾಹೀರಾತುಗಳನ್ನು ನಿಯಮಿತವಾಗಿ ನಿಷೇಧಿಸಿತ್ತು ಪಾವತಿಸದ ಪೋಸ್ಟ್ ಗಳು ಬ್ಲೀಚ್ ಕುಡಿಯುವಂತಹ ನಕಲಿ ಪರಿಹಾರಗಳನ್ನು ವೈರಸ್ ಬಗ್ಗೆ ಪಿತೂರಿ ಸಿದ್ಧಾಂತಗಳನ್ನು ಹರಡುತ್ತವೆ ಅಥವಾ ವೈದ್ಯಕೀಯ ಚಿಕಿತ್ಸೆ ಪಡೆಯುವುದನ್ನು ಜನರನ್ನು ನಿರುತ್ಸಾಹಗೊಳಿಸುತ್ತವೆ ಚೀನಾದ ಹೊರಗಿನ ಹೊಸ ಪ್ರಕರಣಗಳ ಸಂಖ್ಯೆ ಹೊಸ ಸೋಂಕುಗಳ ಸಂಖ್ಯೆಯನ್ನು ಮೀರಿದೆ ಎಂದು ವಿಶ್ವ ಆರೋಗ್ಯ ಸಂಸ್ಥೆ ವರದಿ ಮಾಡಿದ್ದರಿಂದ ನಿಷೇಧವು ಜಾರಿಗೆ ಬಂದಿತು ಮಂಗಳವಾರ ಮೊದಲ ಬಾರಿಗೆ ವೈರಸ್ ಈಗ ಕನಿಷ್ಠ ದೇಶಗಳಿಗೆ ಹರಡಿತು ಅನ್ನು ಅನುಸರಿಸಿ ಮತ್ತು ಸಂಪರ್ಕಿಸಿ ಟ್ವಿಟ್ಟರ್ ಫೇಸ್ಬುಕ್ ಲಿಂಕ್ಡ್ಇನ್ನಲ್ಲಿ ನಮಗೆ ವಾಷಿಂಗ್ಟನ್ ಫೆಬ್ರವರಿ ರಾಯಿಟರ್ಸ್ ನಿರುದ್ಯೋಗ ಸವಲತ್ತುಗಳಿಗಾಗಿ ಅರ್ಜಿ ಸಲ್ಲಿಸುವ ಅಮೆರಿಕನ್ನರ ಸಂಖ್ಯೆ ಕಳೆದ ವಾರ ನಿರೀಕ್ಷೆಗಿಂತ ಹೆಚ್ಚಾಗಿದೆ ಆದರೆ ಆಧಾರವಾಗಿರುವ ಪ್ರವೃತ್ತಿ ದೃ ವಾದ ಕಾರ್ಮಿಕ ಮಾರುಕಟ್ಟೆ ಪರಿಸ್ಥಿತಿಗಳಿಗೆ ಅನುಗುಣವಾಗಿ ಉಳಿದಿದೆ ರಾಜ್ಯ ನಿರುದ್ಯೋಗ ಪ್ರಯೋಜನಗಳ ಆರಂಭಿಕ ಹಕ್ಕುಗಳು ರಷ್ಟು ಏರಿಕೆಯಾಗಿದ್ದು ಫೆಬ್ರವರಿ ಕ್ಕೆ ಕೊನೆಗೊಂಡ ವಾರಕ್ಕೆ ಕ್ಕೆ ಸರಿಹೊಂದಿಸಲಾಗಿದೆ ಇಲಾಖೆ ಗುರುವಾರ ಹೇಳಿದೆ ಆರಂಭಿಕ ಹಕ್ಕುಗಳ ನಾಲ್ಕು ವಾರಗಳ ಚಲಿಸುವ ಸರಾಸರಿ ಕಾರ್ಮಿಕ ಮಾರುಕಟ್ಟೆಯ ಪ್ರವೃತ್ತಿಗಳ ಉತ್ತಮ ಅಳತೆ ಎಂದು ಪರಿಗಣಿಸಲ್ಪಟ್ಟಿದೆ ಏಕೆಂದರೆ ಇದು ವಾರದಿಂದ ವಾರಕ್ಕೆ ಚಂಚಲತೆಯನ್ನು ಕಳೆದ ವಾರ ರಿಂದ ಕ್ಕೆ ಏರಿಸಿದೆ ಆದರೆ ನಿರುದ್ಯೋಗ ದರವು ಶೇಕಡಾವಾರು ಪಾಯಿಂಟ್ ನ ಹತ್ತನೇ ಒಂದು ಭಾಗದಷ್ಟು ಏರಿಕೆಯಾಗಿದ್ದು ಕಳೆದ ತಿಂಗಳು ಕ್ಕೆ ತಲುಪಿದೆ ಕಾರ್ಮಿಕ ಮಾರುಕಟ್ಟೆಯಲ್ಲಿ ವಿಶ್ವಾಸದ ಸಂಕೇತವಾಗಿ ಹೆಚ್ಚಿನ ಜನರು ಕಾರ್ಮಿಕ ಬಲವನ್ನು ಪ್ರವೇಶಿಸಿದ ಕಾರಣ ಜನವರಿ ಮತ್ತು ಫೆಬ್ರವರಿ ಮನೆಯ ಸಮೀಕ್ಷೆಯ ವಾರಗಳ ನಡುವೆ ನಾಲ್ಕು ವಾರಗಳ ಸರಾಸರಿ ಹಕ್ಕುಗಳು ನಿರುದ್ಯೋಗ ದರದಲ್ಲಿ ಸ್ವಲ್ಪ ಸುಧಾರಣೆಯನ್ನು ಸೂಚಿಸುತ್ತವೆ ವಾಷಿಂಗ್ಟನ್ ಎಪಿ ನಿಮಗೆ ಆದೇಶಗಳು ಜನವರಿಯಲ್ಲಿ ಅದ್ದಿದ ದೊಡ್ಡ ಟಿಕೆಟ್ ತಯಾರಿಸಿದ ಸರಕುಗಳ ಕಾರ್ಖಾನೆಗಳು ಕಾರುಗಳ ಆಟೋ ಪಾರ್ಟ್ಸ್ ಮತ್ತು ಮಿಲಿಟರಿ ವಿಮಾನಗಳ ಬೇಡಿಕೆ ಕಡಿಮೆಯಾಗಿದೆ ಎಂದು ವಾಣಿಜ್ಯ ಇಲಾಖೆ ಗುರುವಾರ ತಿಳಿಸಿದೆ ಸಾರಿಗೆ ಆದೇಶಗಳು ಬಾಳಿಕೆ ಬರುವ ಸರಕುಗಳ ಆದೇಶಗಳು ಏಪ್ರಿಲ್ ರಿಂದ ರಷ್ಟು ವೇಗವಾಗಿ ಏರಿಕೆಯಾಗಿದೆ ಮಿಲಿಟರಿ ವಿಮಾನಗಳ ಆದೇಶಗಳು ಕಳೆದ ತಿಂಗಳು ನಷ್ಟು ಕುಸಿದವು ಮತ್ತು ಕಾರುಗಳು ಮತ್ತು ವಾಹನ ಭಾಗಗಳ ಆದೇಶಗಳು ಕುಸಿದವು ವಿಮಾನವನ್ನು ಹೊರತುಪಡಿಸಿ ಲಾಭರಹಿತ ಬಂಡವಾಳ ಸರಕುಗಳಿಗಾಗಿ ವ್ಯಾಪಾರ ಹೂಡಿಕೆ ಆದೇಶಗಳನ್ನು ಪತ್ತೆಹಚ್ಚುವ ಒಂದು ವರ್ಗವು ಜನವರಿಯಲ್ಲಿ ಏರಿಕೆಯಾಗಿದೆ ಡಿಸೆಂಬರ್ ಕುಸಿದ ನಂತರ ಮತ್ತು ನವೆಂಬರ್ನಲ್ಲಿ ಸಮತಟ್ಟಾದ ನಂತರ ವಾಷಿಂಗ್ಟನ್ ಫೆಬ್ರವರಿ ರಾಯಿಟರ್ಸ್ ನೀವು ಕೀಗಾಗಿ ಹೊಸ ಆದೇಶಗಳು ಜನವರಿಯಲ್ಲಿ ಒಂದು ವರ್ಷದಲ್ಲಿ ಬಂಡವಾಳ ಸರಕುಗಳನ್ನು ಹೆಚ್ಚಿಸಿವೆ ಮತ್ತು ಸಾಗಣೆಗಳು ಮರುಕಳಿಸಿದವು ಆದರೆ ವ್ಯಾಪಾರ ಹೂಡಿಕೆಯಲ್ಲಿ ಸ್ಥಿರತೆಯ ಚಿಹ್ನೆಗಳು ಕೊರೊನಾವೈರಸ್ನಿಂದ ಮೃದುಗೊಳ್ಳುವ ಸಾಧ್ಯತೆಯಿದೆ ಇದು ಸರಬರಾಜು ಸರಪಳಿಗಳನ್ನು ಅಡ್ಡಿಪಡಿಸುತ್ತದೆ ಎಂದು ನಿರೀಕ್ಷಿಸಲಾಗಿದೆ ವಿಮಾನವನ್ನು ಹೊರತುಪಡಿಸಿ ರಕ್ಷಣಾ ರಹಿತ ಬಂಡವಾಳ ಸರಕುಗಳ ಆದೇಶಗಳು ಕಳೆದ ತಿಂಗಳು ಡಾಲರ್ ಗೆ ಏರಿದೆ ಎಂದು ಇಲಾಖೆ ತಿಳಿಸಿದೆ ಕಳೆದ ತಿಂಗಳು ಜನವರಿ ರಿಂದ ಅತಿದೊಡ್ಡ ಲಾಭ ಗಳಿಸಿದೆ ರಾಯಿಟರ್ಸ್ ಸಮೀಕ್ಷೆ ನಡೆಸಿದ ಅರ್ಥಶಾಸ್ತ್ರಜ್ಞರು ಪ್ರಮುಖ ಬಂಡವಾಳ ಸರಕುಗಳ ಆದೇಶಗಳನ್ನು ಜನವರಿಯಲ್ಲಿ ಕ್ಕೆ ಏರಿಸುವ ಮುನ್ಸೂಚನೆ ನೀಡಿದ್ದಾರೆ ವರ್ಷದ ಆರಂಭದಲ್ಲಿ ಕೋರ್ ಕ್ಯಾಪಿಟಲ್ ಗೂಡ್ಸ್ ಆರ್ಡರ್ ಗಳು ಮತ್ತು ಸಾಗಣೆಗಳು ಮೂರು ನೇರ ತ್ರೈಮಾಸಿಕಗಳಿಗೆ ಸಂಕುಚಿತಗೊಂಡಿರುವ ವ್ಯಾಪಾರ ಹೂಡಿಕೆಯಲ್ಲಿ ಕೆಲವು ಸ್ಥಿರೀಕರಣವನ್ನು ಸೂಚಿಸುತ್ತದೆ ಜನವರಿಯಲ್ಲಿ ಟೋಸ್ಟರ್ ಗಳಿಂದ ವಿಮಾನದವರೆಗಿನ ಬಾಳಿಕೆ ಬರುವ ಸರಕು ವಸ್ತುಗಳ ಒಟ್ಟಾರೆ ಆದೇಶಗಳು ಮೂರು ವರ್ಷಗಳ ಅಥವಾ ಅದಕ್ಕಿಂತ ಹೆಚ್ಚು ಜಾರಿಬೀಳುತ್ತವೆ ಹಿಂದಿನ ತಿಂಗಳಲ್ಲಿ ಅನ್ನು ಹೆಚ್ಚಿಸಿದ ನಂತರ ನೀವು ಎಸ್ ಕರೋನವೈರಸ್ ಏಕಾಏಕಿ ಜನರ ಜೀವನ ಮತ್ತು ವ್ಯಾಪಾರ ಚಟುವಟಿಕೆಯ ತಾತ್ಕಾಲಿಕ ಆದರೆ ವ್ಯಾಪಕವಾದ ಅಡೆತಡೆಗಳನ್ನು ಪ್ರಚೋದಿಸುತ್ತದೆ ಇದು ರಾಷ್ಟ್ರದ ಸುದೀರ್ಘ ಆರ್ಥಿಕ ವಿಸ್ತರಣೆಗೆ ಹೊಸ ಅಪಾಯವನ್ನುಂಟುಮಾಡುತ್ತದೆ ಸಾರ್ವಜನಿಕ ಆರೋಗ್ಯ ಅಧಿಕಾರಿಗಳು ಅಮೆರಿಕನ್ನರಿಗೆ ವೈರಸ್ ನಿಮ್ಮಲ್ಲಿ ಹರಡಬಹುದೆಂದು ನಿರೀಕ್ಷಿಸುವಂತೆ ಹೇಳಿದೆ ಶಾಲೆ ಮುಚ್ಚುವಿಕೆಯು ರೆಸ್ಟೋರೆಂಟ್ ಗಳು ಮತ್ತು ಪ್ರವಾಸೋದ್ಯಮದಿಂದ ಉತ್ಪಾದನೆಯವರೆಗಿನ ಕೈಗಾರಿಕೆಗಳಾದ್ಯಂತ ಸಾರ್ವಜನಿಕ ಈವೆಂಟ್ ರದ್ದತಿ ಮತ್ತು ವ್ಯಾಪಾರ ಅಡೆತಡೆಗಳು ಕೊರೊನಾವೈರಸ್ ಏಕಾಏಕಿ ಲೈವ್ ನವೀಕರಣಗಳು ಚೀನಾದ ರಾಷ್ಟ್ರೀಯ ಆರೋಗ್ಯ ಆಯೋಗವು ಗುರುವಾರ ಚೀನಾ ರಾಷ್ಟ್ರೀಯ ಆರೋಗ್ಯ ಆಯೋಗದ ಹೊಸ ಪ್ರಕರಣಗಳನ್ನು ದೃ ಪಡಿಸಿದೆ ಬೀಜಿಂಗ್ ನಲ್ಲಿ ಹೊಸ ಪ್ರಕರಣಗಳ ಒಂದು ಗುಂಪಿನೊಂದಿಗೆ ಬೀಜಿಂಗ್ ನಲ್ಲಿ ಕೆಲಸಕ್ಕೆ ಮರಳುವ ನೌಕರರ ನಿರ್ವಹಣೆಯ ಬಗ್ಗೆ ಆತಂಕ ಮೂಡಿಸಿದೆ ಚೀನಾ ಈಗ ಕ್ಕೆ ತಲುಪಿದೆ ಎಂದು ಏಕಾಏಕಿ ಕೇಂದ್ರಬಿಂದುವಿನಲ್ಲಿರುವ ಕೇಂದ್ರ ಚೀನಾದ ಪ್ರಾಂತ್ಯದ ಹುಬೈ ಹೊಸ ಪ್ರಕರಣಗಳು ಮತ್ತು ಸಾವುಗಳನ್ನು ಬುಧವಾರ ವರದಿ ಮಾಡಿದೆ ಸುದ್ದಿ ಸಂಸ್ಥೆ ಎಪಿ ವರದಿ ಮಾಡಿದೆ ಜಪಾನ್ ದೇಶಾದ್ಯಂತ ಶಾಲೆಗಳನ್ನು ಮುಚ್ಚಲು ನಿರ್ಧರಿಸಿದೆ ಹೊಸ ವೈರಸ್ ಸರ್ಕಾರ ಗುರುವಾರ ಘೋಷಿಸಿತು ವಾರ್ಷಿಕ ಹಜ್ ತೀರ್ಥಯಾತ್ರೆಗೆ ಕೆಲವೇ ತಿಂಗಳುಗಳ ಮುಂಚೆಯೇ ವೈರಲ್ ಸಾಂಕ್ರಾಮಿಕ ರೋಗದ ಭೀತಿಯಿಂದಾಗಿ ಸೌದಿ ಅರೇಬಿಯಾ ಇಸ್ಲಾಂ ಧರ್ಮದ ಪವಿತ್ರ ತಾಣಗಳಿಗೆ ಪ್ರಯಾಣವನ್ನು ನಿಲ್ಲಿಸಿದೆ ಎಂದು ವರದಿಯಾಗಿದೆ ಹೊಸ ಕೊರೊನಾವೈರಸ್ ಫೆಡರೇಟೆಡ್ ಹರ್ಮ್ಸ್ ಫಿಲ್ ಒರ್ಲ್ಯಾಂಡೊ ಅವರು ಕರೋನವೈರಸ್ ಜರ್ಜರಿತ ಸ್ಟಾಕ್ ಗಳಲ್ಲಿ ಕೆಲಸ ಮಾಡಲು ಹಣವನ್ನು ಹಾಕುತ್ತಿದ್ದಾರೆ ವಿಶಾಲ ಮಾರುಕಟ್ಟೆಯಲ್ಲಿ ಇಳಿಕೆಯಾಗಿರುವಾಗ ಈ ವರ್ಗದ ಬಹಳಷ್ಟು ಷೇರುಗಳು ಅಥವಾ ರಷ್ಟು ಕುಸಿದಿವೆ ಎಂದು ಅವರು ಸಿಎನ್ ಬಿಸಿಯ ಟ್ರೇಡಿಂಗ್ ನೇಷನ್ ಗೆ ಬುಧವಾರ ಹೇಳಿದರು ಈ ವರ್ಷ ಮತ್ತು ರೊಳಗೆ ಈ ಸ್ಟಾಕ್ ಗಳು ಭರ್ಜರಿ ಮೌಲ್ಯವನ್ನು ನೀಡುತ್ತಿವೆ ರ ವಾಲ್ ಸ್ಟ್ರೀಟ್ ನ ಅತಿದೊಡ್ಡ ಎತ್ತುಗಳಲ್ಲಿ ಒಂದಾದ ಒರ್ಲ್ಯಾಂಡೊ ಕರೋನವೈರಸ್ ಪತನವು ತಿಂಗಳುಗಳವರೆಗೆ ಷೇರುಗಳನ್ನು ಸ್ಲ್ಯಾಮ್ ಮಾಡಬಹುದೆಂದು ನಂಬುತ್ತಾರೆ ಕಳೆದ ವರ್ಷ ತಡವಾಗಿ ಅವರು ಟ್ರೇಡಿಂಗ್ ನೇಷನ್ ಗೆ ಮಾರುಕಟ್ಟೆ ಮೌಲ್ಯಮಾಪನಗಳನ್ನು ವಿಸ್ತರಿಸಿದ್ದಾರೆ ಮತ್ತು ಅವರು ನಿರೀಕ್ಷಿಸಿದ್ದಾರೆ ವಿರಾಮಗೊಳಿಸಲು ರೆಕಾರ್ಡ್ ರ್ಯಾಲಿ ಜಪಾನ್ ನ ಎಲ್ಲಾ ಪ್ರಾಥಮಿಕ ಕಿರಿಯ ಮತ್ತು ಪ್ರೌ ಶಾಲೆಗಳನ್ನು ಮಾರ್ಚ್ ರಿಂದ ತಮ್ಮ ಶಾಲಾ ವರ್ಷದ ಅಂತ್ಯದವರೆಗೆ ಮಾರ್ಚ್ ಅಂತ್ಯದವರೆಗೆ ಮುಚ್ಚಲು ಕೇಳಲಾಗುವುದು ಎಂದು ಜಪಾನಿನ ಪ್ರಧಾನಿ ಶಿಂಜೊ ಅಬೆ ಗುರುವಾರ ತಿಳಿಸಿದ್ದಾರೆ ಕರೋನವೈರಸ್ ಹರಡುವಿಕೆಯ ಸುತ್ತಲಿನ ಆತಂಕಗಳು ಹೆಚ್ಚುತ್ತಿವೆ ಒಸಾಕಾದ ಮಹಿಳೆಯೊಬ್ಬರು ಜಪಾನ್ ನ ಮೊದಲ ವ್ಯಕ್ತಿಯಾಗಿದ್ದಾರೆ ಮತ್ತು ಎರಡನೇ ಬಾರಿಗೆ ಕರೋನವೈರಸ್ ರೋಗನಿರ್ಣಯ ಮಾಡಿದ ವಿಶ್ವದ ಕೆಲವೇ ಜನರಲ್ಲಿ ಒಬ್ಬರಾಗಿದ್ದಾರೆ ಎಂದು ಒಸಾಕಾ ಅಧಿಕಾರಿಗಳು ಎಲ್ಲಾ ಸಾರ್ವಜನಿಕ ಶಿಶುವಿಹಾರದ ಪ್ರಾಥಮಿಕ ಮತ್ತು ಕಿರಿಯ ಪ್ರೌ ಶಾಲೆಗಳನ್ನು ಎರಡು ಜನರಿಗೆ ಮುಚ್ಚುವುದಾಗಿ ಹೇಳಿದರು ಮಾರಣಾಂತಿಕ ವೈರಸ್ ಅನ್ನು ನಿಯಂತ್ರಿಸುವ ಪ್ರಯತ್ನದಲ್ಲಿ ಶನಿವಾರದಿಂದ ಪ್ರಾರಂಭವಾಗುವ ವಾರಗಳು ರಾಯಿಟರ್ಸ್ ಪ್ರಕಾರ ಜಪಾನ್ ನಲ್ಲಿ ದೃ ೀಕರಿಸಿದ ಕರೋನವೈರಸ್ ಪ್ರಕರಣಗಳ ಸಂಖ್ಯೆ ಕ್ಕಿಂತ ಹೆಚ್ಚಾಗಿದೆ ಹೊಕ್ಕೈಡೋ ಜಪಾನ್ ನ ಮುಖ್ಯ ಉತ್ತರ ದ್ವೀಪವು ಹೊಸ ಪ್ರಕರಣಗಳನ್ನು ವರದಿ ಮಾಡಿದೆ ರ ಎಲ್ಲಾ ಪ್ರಕರಣಗಳ ಆಧಾರದ ಮೇಲೆ ಫೆಬ್ರವರಿ ರ ಹೊತ್ತಿಗೆ ಚೀನಾದಲ್ಲಿ ಶಂಕಿತ ಮತ್ತು ಲಕ್ಷಣರಹಿತ ಪ್ರಕರಣಗಳನ್ನು ದೃ ಪಡಿಸಲಾಗಿದೆ ಚೀನಾದ ಸಿಸಿಡಿಸಿ ಫೆಬ್ರವರಿ ರಂದು ಬಿಡುಗಡೆ ಮಾಡಿ ಚೀನೀ ಜರ್ನಲ್ ಆಫ್ ಎಪಿಡೆಮಿಯಾಲಜಿ ರಲ್ಲಿ ಪ್ರಕಟಿಸಿದೆ ಸಾವಿನ ಅಪಾಯವು ನಿಮ್ಮ ವಯಸ್ಸನ್ನು ಹೆಚ್ಚಿಸುತ್ತದೆ ಎಂದು ಕಂಡುಹಿಡಿದಿದೆ ಈ ಕೆಳಗಿನಂತೆ ಸಾವಿನ ಪ್ರಮಾಣ ಸಾವಿನ ಸಂಖ್ಯೆ ವೈರಸ್ ನಿಂದ ಸೋಂಕಿಗೆ ಒಳಗಾಗುವ ಸಂಭವನೀಯತೆ ಸಾವಿನ ಪ್ರಮಾಣ ಸಾವುಗಳ ಸಂಖ್ಯೆ ವೈರಸ್ ನಿಂದ ಸೋಂಕಿಗೆ ಒಳಗಾಗಿದ್ದರೆ ಸಾಯುವ ಸಂಭವನೀಯತೆ ಸಾವಿನ ಪ್ರಮಾಣ ಸಾವಿನ ಸಂಖ್ಯೆ ಸಾವಿನ ಸಂಖ್ಯೆ ವೈರಸ್ ನಿಂದ ಸೋಂಕಿಗೆ ಒಳಗಾಗಿದ್ದರೆ ಸಾಯುವ ಸಂಭವನೀಯತೆ ಸಾವಿನ ಪ್ರಮಾಣ ಸಾವುಗಳ ಸಂಖ್ಯೆ ವೈರಸ್ ಸೋಂಕಿಗೆ ಒಳಗಾಗಿದ್ದರೆ ಸಾಯುವ ಸಂಭವನೀಯತೆ ಸೋಂಕಿನಿಂದ ರೋಗಿಗಳನ್ನು ಸಾಯುವ ಹೆಚ್ಚಿನ ಅಪಾಯವನ್ನುಂಟುಮಾಡುವ ಪೂರ್ವ ಅಸ್ತಿತ್ವದಲ್ಲಿರುವ ಕಾಯಿಲೆಗಳು ಸಾವಿನ ಪ್ರಮಾಣ ಸಾವಿನ ಸಂಖ್ಯೆ ವೈರಸ್ ಸೋಂಕಿಗೆ ಒಳಗಾಗಿದ್ದರೆ ಸಾಯುವ ಸಂಭವನೀಯತೆ ಚಿತ್ರ ಶೀರ್ಷಿಕೆ ಸಾಂಕ್ರಾಮಿಕ ಕಾಯಿಲೆಗಳಿಂದ ಬಳಲುತ್ತಿರುವವರಿಗೆ ರಾಯಲ್ ವಿಕ್ಟೋರಿಯಾ ಆಸ್ಪತ್ರೆಯ ಕರೋನವೈರಸ್ ಪ್ರತ್ಯೇಕ ವಾರ್ಡ್ ನಲ್ಲಿ ಚಿಕಿತ್ಸೆ ನೀಡಬಹುದು ಆದರೆ ಜನರು ಭಯಭೀತರಾಗಬಾರದು ಎಂದು ಕ್ವೀನ್ಸ್ ವಿಶ್ವವಿದ್ಯಾಲಯದ ವೈರಾಲಜಿಸ್ಟ್ ಬೆಲ್ಫಾಸ್ಟ್ ಹೇಳಿದ್ದಾರೆ ಐರ್ಲೆಂಡ್ ವೈರಸ್ ಅನ್ನು ಹೊಂದಲು ಹೆಚ್ಚು ಕಷ್ಟಕರವಾಗುತ್ತಿದೆ ಮತ್ತು ಕಳೆದ ಹಲವಾರು ದಿನಗಳಲ್ಲಿ ವಿವಿಧ ದೇಶಗಳಲ್ಲಿ ಪ್ರಕರಣಗಳ ಸಂಖ್ಯೆಯಲ್ಲಿ ಹೆಚ್ಚಳ ಕಂಡುಬಂದಿದೆ ಎಂದು ಡಾ ಬ್ರಾಡ್ಬೆಂಟ್ ಅವರು ಪ್ರಯಾಣದ ಮೂಲಕ ಉತ್ತರ ಐರ್ಲೆಂಡ್ ಗೆ ತಲುಪುವ ಸಾಧ್ಯತೆ ಇದೆ ಎಂದು ಡಾ ಬ್ರಾಡ್ ಬೆಂಟ್ ಹೇಳಿದರು ಉತ್ತರ ಐರ್ಲೆಂಡ್ ನಲ್ಲಿನ ಸೇವೆಯು ಕರೋನವೈರಸ್ ನ ಆಗಮನಕ್ಕೆ ಸಾಕಷ್ಟು ಸಿದ್ಧತೆಗಳನ್ನು ಮಾಡಿದೆ ಉತ್ತರ ಐರ್ಲೆಂಡ್ ನಲ್ಲಿ ಯಾವುದೇ ದೃ ಪಡಿಸಿದ ಪ್ರಕರಣಗಳನ್ನು ಬೆಲ್ ಫಾಸ್ಟ್ ನ ರಾಯಲ್ ವಿಕ್ಟೋರಿಯಾ ಆಸ್ಪತ್ರೆಯಲ್ಲಿ ಸಾಂಕ್ರಾಮಿಕ ರೋಗ ಘಟಕಕ್ಕೆ ದಾಖಲಿಸಲಾಗುವುದು ಎಂದು ಅವರು ಹೇಳಿದರು ಲಸಿಕೆಗಾಗಿ ಮಾಡರ್ನಾ ಹುಡುಕಾಟವು ಮಾರುಕಟ್ಟೆಯಲ್ಲಿ ಹೂಡಿಕೆ ಮಾಡಲು ಏನನ್ನಾದರೂ ನೀಡುತ್ತದೆ ಆದರೂ ಕಂಪನಿಯು ತನ್ನ ಷೇರುಗಳನ್ನು ರಿಯಾಯಿತಿಯಲ್ಲಿ ಮಾರಾಟ ಮಾಡುವಲ್ಲಿ ಮಾರುಕಟ್ಟೆಗಳಿಗೆ ಮೂರ್ಖನಂತೆ ಕಾಣಿಸುತ್ತದೆಯಾದರೂ ಅದು ಸ್ವಲ್ಪ ಸಮಯೋಚಿತವಾಗಿ ಸಾಬೀತಾಗಿದೆ ಎಂದು ಮಾಡರ್ನಾ ಹೇಳಿದರು ಹಂತ ಸಿಎಮ್ ವಿ ಲಸಿಕೆಯಲ್ಲಿ ಮೂರು ಡೋಸ್ ಸಮಂಜಸತೆಗಳಲ್ಲಿ ಎರಡು ಡೋಸ್ ದೃ ೀಕರಣ ಅಧ್ಯಯನವು ದಾಖಲಾತಿಯನ್ನು ಪೂರ್ಣಗೊಳಿಸಿದೆ ಆದರೆ ಅದರ ಲಸಿಕೆ ಮೊದಲು ಮಾರುಕಟ್ಟೆಯನ್ನು ತಲುಪುವಲ್ಲಿ ಹೆಚ್ಚಿನ ಸಾಮರ್ಥ್ಯವನ್ನು ಹೊಂದಿದೆ ಆದರೆ ಸ್ಟಾಕ್ ಮಾರುಕಟ್ಟೆ ತನ್ನ ಲಸಿಕೆ ಅಭಿವೃದ್ಧಿಯಲ್ಲಿ ಹೆಚ್ಚು ಆಸಕ್ತಿ ಹೊಂದಿದೆ ಸ್ಟಾಕ್ ನಲ್ಲಿ ಪ್ರೀಮಿಯಂ ಪಾವತಿಸಲು ಮಾರುಕಟ್ಟೆಯ ಇಚ್ ೆ ಮೌಲ್ಯ ಹೂಡಿಕೆದಾರರಿಗೆ ಅಸ್ವಸ್ಥತೆಯನ್ನುಂಟು ಮಾಡುತ್ತದೆ ನೈಜ ದರಗಳು ಣಾತ್ಮಕ ಭೂಪ್ರದೇಶಕ್ಕೆ ಆಳವಾಗಿ ಕುಸಿಯುತ್ತಿರುವುದರಿಂದ ಮತ್ತು ಬೆಳ್ಳಿಯಿಂದ ಚಿನ್ನದ ಅನುಪಾತವು ಹಿಂದಿನದನ್ನು ಕಡಿಮೆಗೊಳಿಸುವುದರಿಂದ ಬೆಳ್ಳಿಯ ಬಲಿಷ್ ಪ್ರಕರಣವು ಉತ್ತಮವಾಗಿರಲು ಸಾಧ್ಯವಿಲ್ಲ ಚಿನ್ನ ಮತ್ತು ಬೆಳ್ಳಿ ಷೇರು ಮಾರುಕಟ್ಟೆಗೆ ಪರಸ್ಪರ ಸಂಬಂಧವಿಲ್ಲ ಮತ್ತು ಹಣದುಬ್ಬರ ಹೆಚ್ಚುತ್ತಿರುವಾಗ ಬಾಂಡ್ ಗಳಂತಲ್ಲದೆ ಹೆಚ್ಚಿನ ಆದಾಯವನ್ನು ನೀಡುತ್ತದೆ ಹೆಚ್ಚು ಸಂಪ್ರದಾಯವಾದಿ ಹೂಡಿಕೆದಾರರು ಲೋಹಗಳನ್ನು ಸಾರಾಸಗಟಾಗಿ ಅಥವಾ ಚಿನ್ನಕ್ಕಾಗಿ ಜಿಎಲ್ ಡಿ ಅಥವಾ ಬೆಳ್ಳಿಗೆ ಎಸ್ ಎಲ್ ವಿ ಯಂತಹ ಇಟಿಎಫ್ ಮೂಲಕ ಖರೀದಿಸಬಹುದು ಆದರೆ ಗಣಿಗಾರರು ತಮ್ಮ ಕಡಿಮೆ ಮೌಲ್ಯಮಾಪನಗಳು ಮತ್ತು ಸಾಮಾನ್ಯವಾಗಿ ಸಕಾರಾತ್ಮಕ ಹಣದ ಹರಿವಿನಿಂದಾಗಿ ಅತ್ಯುತ್ತಮ ಆಯ್ಕೆಯಾಗಿದೆ ಎಂದು ನಾನು ನಂಬುತ್ತೇನೆ ಇದು ಅದರ ಸ್ಟಾಕ್ ಬೆಲೆಯಲ್ಲಿನ ಕಾರ್ಯಕ್ಷಮತೆಗೆ ಕಾರಣವಾಗಿದೆ ಕಿರಿಯ ಬೆಳ್ಳಿ ಗಣಿಗಾರ ಇಟಿಎಫ್ ಸಿಲ್ಜೆಗೆ ಅದರ ಒಟ್ಟು ಆದಾಯದ ಅನುಪಾತವು ಕುಸಿಯುತ್ತಿರುವ ಮೂಲಕ ನೀವು ನೋಡುವಂತೆ ಈ ಅನುಪಾತವು ಅದರ ರ ಕೊನೆಯಲ್ಲಿ ಮರುಪಡೆಯಲು ನಿರಾಕರಿಸಿದೆ ಚಿನ್ನದಿಂದ ಬೆಳ್ಳಿಯ ಅನುಪಾತವು ಐತಿಹಾಸಿಕ ಮಾನದಂಡಗಳಿಗೆ ಏರಿದರೆ ಇಂದು ನ್ಯಾಯಯುತ ಮೌಲ್ಯದಲ್ಲಿರಬಹುದು ನಿರೀಕ್ಷಿತ ಎಕ್ಸ್ ಪಿ ಸಿಎಫ್ ಬೆಳ್ಳಿ ಬೆಲೆಯನ್ನು ನೀಡಿದೆ ಅಧ್ಯಕ್ಷ ಡೊನಾಲ್ಡ್ ಟ್ರಂಪ್ ಶಾಂತವಾಗಿರಲು ಮನವಿ ಮಾಡಿದ್ದಾರೆ ಮತ್ತು ಉಪಾಧ್ಯಕ್ಷ ಮೈಕ್ ಪೆನ್ಸ್ ಅವರನ್ನು ಅಮೆರಿಕದ ಕರೋನವೈರಸ್ ಪ್ರತಿಕ್ರಿಯೆಯ ಉಸ್ತುವಾರಿ ವಹಿಸಿ ದೇಶವು ನಿಮ್ಮೊಳಗೆ ಹೆಚ್ಚು ವ್ಯಾಪಕವಾಗಿ ಹರಡಲು ಪ್ರಾರಂಭಿಸಿದರೂ ಸಹ ಮಾರಕ ರೋಗವನ್ನು ನಿಭಾಯಿಸಲು ಬಹಳ ಸಿದ್ಧವಾಗಿದೆ ಎಂದು ಒತ್ತಾಯಿಸಿದರು ಎಸ್ ಶ್ರೀ ಟ್ರಂಪ್ ಅಪಾಯವನ್ನು ಹೇಳಿದರು ಅಮೆರಿಕನ್ನರು ತೀರಾ ಕಡಿಮೆ ಇದ್ದರು ಆದರೆ ಚುನಾವಣಾ ವರ್ಷದಲ್ಲಿ ನರಗಳನ್ನು ಸರಾಗಗೊಳಿಸುವ ಮತ್ತು ಆಘಾತಕಾರಿ ಸ್ಟಾಕ್ ಮಾರುಕಟ್ಟೆಗಳನ್ನು ಹೆಚ್ಚಿಸುವ ಅವರ ಪ್ರಯತ್ನವು ಬಂದಿತು ದೇಶದಲ್ಲಿ ಕಾಯಿಲೆಯ ಸಮುದಾಯ ಪ್ರಸರಣದ ಶಂಕಿತ ಮೊದಲ ಪ್ರಕರಣವನ್ನು ಅಧಿಕಾರಿಗಳು ದೃ ಪಡಿಸಿದರು ಕ್ಯಾಲಿಫೋರ್ನಿಯಾದ ರೋಗಿಯೊಬ್ಬರು ಕರೋನವೈರಸ್ಗೆ ಇತ್ತೀಚಿನ ಪ್ರಯಾಣದ ಇತಿಹಾಸವನ್ನು ಹೊಂದಿಲ್ಲ ಹಾಟ್ ಸ್ಪಾಟ್ ಗಳು ಅಥವಾ ಸೋಂಕಿತ ಜನರೊಂದಿಗೆ ತಿಳಿದಿರುವ ಸಂಪರ್ಕ ಆದರೆ ಕ್ಕೂ ಹೆಚ್ಚು ದೇಶಗಳಲ್ಲಿನ ಪ್ರಕರಣಗಳಲ್ಲಿ ದಕ್ಷಿಣ ಕೊರಿಯಾ ಇಟಲಿ ಮತ್ತು ಇರಾನ್ ಗಳಲ್ಲಿ ಚೀನಾದ ಹೊರಗೆ ಈ ರೋಗವು ವೇಗವಾಗಿ ಹರಡುತ್ತಿರುವುದನ್ನು ನೋಡಲು ಆಳವಾಗಿ ಸಂಬಂಧಿಸಿದೆ ಎಂದು ಹೇಳಿದರು ದಕ್ಷಿಣ ಕೊರಿಯಾದೊಂದಿಗೆ ನಿಗದಿತ ಜಂಟಿ ಮಿಲಿಟರಿ ಕಸರತ್ತುಗಳನ್ನು ಮುಂದೂಡಿದೆ ಮತ್ತು ಮಾಜಿ ಹೋಮ್ಲ್ಯಾಂಡ್ ಸೆಕೂರ್ ದೇಶಕ್ಕೆ ಪ್ರಯಾಣಿಸುವುದನ್ನು ತಪ್ಪಿಸಲು ಅಮೆರಿಕನ್ನರನ್ನು ಒತ್ತಾಯಿಸಿದೆ ನಿಮ್ಮ ಮೇಲೆ ಎಸ್ ಕರೋನವೈರಸ್ ಪ್ರತಿಕ್ರಿಯೆ ಇಟಲಿಯು ಏಷ್ಯಾದ ಹೊರಗಿನ ಅತಿದೊಡ್ಡ ಏಕಾಏಕಿ ನೆಲೆಯಾಗಿದೆ ಮತ್ತು ನೆರೆಯ ಯುರೋಪಿಯನ್ ದೇಶಗಳಲ್ಲಿ ಸಣ್ಣ ರೋಗ ಸಮೂಹಗಳ ಮೂಲವು ಬುಧವಾರ ಪ್ರಕರಣಗಳಲ್ಲಿ ಹೆಚ್ಚಳ ಕಂಡಿದೆ ವಸಂತಕಾಲದಲ್ಲಿ ಬೆಚ್ಚಗಾಗುವುದು ಸ್ವಾಭಾವಿಕವಾಗಿ ಕಡಿಮೆ ಪ್ರಮಾಣದ ಸೋಂಕುಗಳ ಮೇಲೆ ಪ್ರಭಾವ ಬೀರಬಹುದು ಆದರೆ ಮೇ ತಿಂಗಳಲ್ಲಿ ದಾಳಿ ಮಾಡಿದ ಹಂದಿ ಜ್ವರ ವೈರಸ್ ಅನ್ನು ನಾವು ನೆನಪಿನಲ್ಲಿಟ್ಟುಕೊಳ್ಳಬೇಕು ಮತ್ತು ಇದು ಸಕ್ರಿಯವಾಗಿದ್ದ ಮೊದಲ ವರ್ಷದಲ್ಲಿ ಬೇಸಿಗೆಯ ಉದ್ದಕ್ಕೂ ಸಕ್ರಿಯವಾಗಿತ್ತು ಟೆನೆರೈಫ್ ಮತ್ತು ಇಟಲಿಯಲ್ಲಿ ರಜಾದಿನಗಳಲ್ಲಿ ಈ ವೈರಸ್ ಅನ್ನು ಇಬ್ಬರು ಜನರು ಸಂಕುಚಿತಗೊಳಿಸಿದರು ಈಗ ಚೀನಾದ ಮುಖ್ಯ ಭೂಭಾಗದ ಹೊರಗಿನ ಮೂರನೇ ದೊಡ್ಡ ಏಕಾಏಕಿ ಮತ್ತು ಯುರೋಪಿನ ಅತಿದೊಡ್ಡ ಏಕಾಏಕಿ ಬಳಲುತ್ತಿದೆ ಚೀನಾದ ಹೊರಗೆ ಎರಡನೇ ಅತಿ ದೊಡ್ಡ ಏಕಾಏಕಿ ದಕ್ಷಿಣ ಕೊರಿಯಾದ ಮೇಲೆ ಬಿದ್ದಿದೆ ಅಲ್ಲಿ ಸುಮಾರು ಜನರು ದೃ ಪಟ್ಟಿದ್ದಾರೆ ನಾನು ಗುರುವಾರ ದೃ ಪಡಿಸುತ್ತೇನೆ ನಾನು ಬೈಬಲ್ ಮುನ್ಸೂಚಿಸಿದ ಕರೋನವೈರಸ್ ಅನ್ನು ತಪ್ಪಿಸುವುದಿಲ್ಲ ಇಟಲಿಯ ಬುಕ್ ಆಫ್ ರೆವೆಲೆಶನ್ ಅನಾಲಿಸಿಸ್ ಕರೋನವೈರಸ್ ಪಟ್ಟಣಗಳು ಬ್ರಿಟನ್ನರಿಗೆ ಗೆ ಪ್ರಯಾಣಿಸುವುದನ್ನು ನಿಷೇಧಿಸಲಾಗಿದೆ ಕರೋನವೈರಸ್ ಪ್ರಯಾಣ ಸಲಹೆ ಯುರೋಪಿಗೆ ವೈರಸ್ ಬಡಿದಂತೆ ಫ್ರಾನ್ಸ್ ಗೆ ಪ್ರಯಾಣಿಸುವುದು ಸುರಕ್ಷಿತವೇ ಫೆಬ್ರವರಿ ರಂದು ಯುನೈಟೆಡ್ ಸ್ಟೇಟ್ಸ್ ಆರೋಗ್ಯ ಮತ್ತು ಮಾನವ ಸೇವೆಗಳ ಕಾರ್ಯದರ್ಶಿ ಗೇಟ್ ಇಮೇಜಸ್ ಟಾಪ್ಲೈನ್ ಅಲೆಕ್ಸ್ ಅಜರ್ ಆರೋಗ್ಯ ಮತ್ತು ಮಾನವ ಸೇವೆಗಳ ಕಾರ್ಯದರ್ಶಿ ಕರೋನವೈರಸ್ ಲಸಿಕೆ ಎಲ್ಲಾ ಅಮೆರಿಕನ್ನರಿಗೆ ಕೈಗೆಟುಕುವಂತಿಲ್ಲ ಮತ್ತು ಟ್ರಂಪ್ ಎಂದು ಸೂಚಿಸಿದ ನಂತರ ಡೆಮೋಕ್ರಾಟ್ಗಳಿಗೆ ಕೋಪ ತಂದಿದ್ದಾರೆ ಕೋವಿಡ್ ಸಂಶೋಧನೆಯಲ್ಲಿ ಖಾಸಗಿ ವಲಯದ ಹೂಡಿಕೆಯ ಅಗತ್ಯದಿಂದಾಗಿ ಆಡಳಿತವು ಅದರ ಬೆಲೆಯನ್ನು ಹಿಡಿಯಲು ಸಾಧ್ಯವಾಗಲಿಲ್ಲ ಈ ವಾರ ಅಜರ್ ಈ ವಾರ ಕಾಂಗ್ರೆಸ್ಗೆ ಬಿಲಿಯನ್ ಡಾಲರ್ ಹಣವನ್ನು ನೀಡುವ ಟ್ರಂಪ್ ಅವರ ಬೇಡಿಕೆಯನ್ನು ಅಂಗೀಕರಿಸುವಂತೆ ಕೇಳಿಕೊಂಡ ನಂತರ ಬಂದಿದ್ದು ಈ ರೋಗದ ವಿರುದ್ಧ ಹೋರಾಡಲು ಲಸಿಕೆಗಳನ್ನು ಅಭಿವೃದ್ಧಿಪಡಿಸುವ ಕಡೆಗೆ ಮತ್ತು ಇತರ ಕ್ರಮಗಳ ನಡುವೆ ಸ್ಥಳೀಯ ಸರ್ಕಾರವನ್ನು ಬೆಂಬಲಿಸುವುದು ಟ್ರಂಪ್ ಬುಧವಾರ ಕರೋನವೈರಸ್ ವಿರುದ್ಧದ ಸರ್ಕಾರದ ಹೋರಾಟವನ್ನು ಮುನ್ನಡೆಸಲು ಉಪಾಧ್ಯಕ್ಷ ಮೈಕ್ ಪೆನ್ಸ್ ಅವರನ್ನು ಅಧಿಕೃತವಾಗಿ ನೇಮಕ ಮಾಡಿತು ಇದು ಯೋಜಿತ ಪಿತೃತ್ವ ನಿಧಿಯನ್ನು ಕಡಿತಗೊಳಿಸಲು ಮತ ಚಲಾಯಿಸಿದಾಗ ಸೇರಿದಂತೆ ಸಾರ್ವಜನಿಕ ಆರೋಗ್ಯ ಸಮಸ್ಯೆಗಳ ಬಗ್ಗೆ ಪೆನ್ಸ್ ಅವರ ಹಿಂದಿನ ದಾಖಲೆಯಲ್ಲಿ ನಿರ್ದೇಶಿಸಲ್ಪಟ್ಟ ಟೀಕೆಗಳನ್ನು ಎದುರಿಸಬೇಕಾಯಿತು ಮತ್ತು ನಂತರ ಅವರು ಆಡಳಿತದಲ್ಲಿದ್ದಾಗ ಎಚ್ಐವಿ ಏಕಾಏಕಿ ಮೇಲ್ವಿಚಾರಣೆ ಮಾಡಿದರು ಅಥವಾ ಪ್ರಮುಖ ಪಿಪಿ ಪರೀಕ್ಷಾ ತಾಣವನ್ನು ಮುಚ್ಚುವ ಸಂಬಂಧ ಹೊಂದಿರುವ ಇಂಡಿಯಾನಾದ ಟ್ರಂಪ್ ಬುಧವಾರ ಕರೋನವೈರಸ್ ವಿರುದ್ಧದ ಸರ್ಕಾರದ ಹೋರಾಟವನ್ನು ಮುನ್ನಡೆಸಲು ಉಪಾಧ್ಯಕ್ಷ ಮೈಕ್ ಪೆನ್ಸ್ ಅವರನ್ನು ಅಧಿಕೃತವಾಗಿ ನೇಮಕ ಮಾಡಿದರು ಈ ಕ್ರಮವು ಸಾರ್ವಜನಿಕ ಆರೋಗ್ಯ ಸಮಸ್ಯೆಗಳೊಂದಿಗೆ ವ್ಯವಹರಿಸುವಾಗ ಪೆನ್ಸ್ ಅವರ ಹಿಂದಿನ ದಾಖಲೆಯಲ್ಲಿ ಟೀಕೆಗೆ ಗುರಿಯಾಯಿತು ಹೆಚ್ಚಿನ ಓದಿಗಾಗಿ ಆರೋಗ್ಯ ಕಾರ್ಯದರ್ಶಿ ತುರ್ತು ಕೊರೊನಾವೈರಸ್ ನಿಧಿಯನ್ನು ಕೇಳಿದರೆ ಸಿಡಿಸಿ ಬಜೆಟ್ ಲಿಸೆಟ್ ವಾಯ್ಟ್ಕೊಗೆ ಕಟ್ ಮಾಡಲು ಟ್ರಂಪ್ ಕರೆ ನೀಡಿದ್ದಾರೆ ಬೆರ್ಲಿನ್ ಫೆಬ್ರವರಿ ರಾಯಿಟರ್ಸ್ ಜರ್ಮನಿಯ ಹೊಸ ಕಾರುಗಳ ನೋಂದಣಿ ರಲ್ಲಿ ಕ್ಕೆ ಇಳಿಯುವ ನಿರೀಕ್ಷೆಯಿದೆ ಏಕೆಂದರೆ ಕರೋನವೈರಸ್ ಏಕಾಏಕಿ ತಯಾರಕರು ಮತ್ತು ಅವರ ಪೂರೈಕೆದಾರರ ವಾಹನ ಉದ್ಯಮ ಸಂಘ ವಿಡಿಎ ಗುರುವಾರ ಪರಿಣಾಮ ಬೀರಿದೆ ವಿಡಿಎ ಅಧ್ಯಕ್ಷ ಹಿಲ್ಡೆಗಾರ್ಡ್ ಮುಲ್ಲರ್ ಅವರ ಹಿಂದೆ ನಿರೀಕ್ಷಿತ ಕುಸಿತಕ್ಕೆ ಹೋಲಿಸಿದರೆ ರಷ್ಟು ಕುಸಿತದ ಮುನ್ಸೂಚನೆಯ ಆಟೋ ಮಾರುಕಟ್ಟೆಯು ಕರೋನವೈರಸ್ನ ಪರಿಣಾಮಗಳು ಇನ್ನೂ ಸ್ಪಷ್ಟವಾಗಿಲ್ಲ ಆದರೆ ಶೀಘ್ರ ಸುಧಾರಣೆಯನ್ನು ನಿರೀಕ್ಷಿಸಲಾಗುವುದಿಲ್ಲ ಎಂದು ವಿಡಿಎ ಹೇಳಿದ್ದು ಬಿಕ್ಕಟ್ಟಿನ ಕಾರ್ಯಪಡೆ ಸ್ಥಾಪಿಸಿದೆ ಇದು ಕರೋನವೈರಸ್ ಪರಿಸ್ಥಿತಿಯನ್ನು ವಿಶ್ಲೇಷಿಸುತ್ತದೆ ಮತ್ತು ಸಂಭಾವ್ಯ ಪ್ರತಿಕ್ರಿಯೆಗಳನ್ನು ಚರ್ಚಿಸುತ್ತದೆ ರೋಮ್ ರಾಯಿಟರ್ಸ್ ಇಟಲಿಯ ಸರ್ಕಾರವು ಗುರುವಾರ ಸಂಭವಿಸಿದ ಆರ್ಥಿಕ ಹಿಂಜರಿತವನ್ನು ತಡೆಯಲು ಹತಾಶವಾಗಿದೆ ಇದು ಯುರೋಪಿನಲ್ಲಿ ಇನ್ನೂ ಕಂಡ ಕೆಟ್ಟದಾದ ಕೊರೊನಾವೈರಸ್ನ ಗುರುತ್ವಾಕರ್ಷಣೆಯಾಗಿದೆ ಇದು ದೇಶದ ಒಂದು ಸಣ್ಣ ಭಾಗವನ್ನು ಮಾತ್ರ ಪರಿಣಾಮ ಬೀರಿದೆ ಎಂದು ಇಟಲಿಯ ಲೊಂಬಾರ್ಡಿ ಗವರ್ನರ್ ಅಟಿಲಿಯೊ ಫೊಂಟಾನಾ ರಕ್ಷಣಾತ್ಮಕ ಮುಖವಾಡವನ್ನು ಹಾಕಿದ್ದಾರೆ ಮಿಲನ್ ಇಟಲಿಯಲ್ಲಿ ಸೋಶಿಯಲ್ ಮೀಡಿಯಾ ವಿಡಿಯೋದಿಂದ ತೆಗೆದ ಈ ಸ್ಟಿಲ್ ಚಿತ್ರದಲ್ಲಿ ಅವರ ಸಹಾಯಕರೊಬ್ಬರು ಕರೋನವೈರಸ್ಗೆ ಧನಾತ್ಮಕ ಪರೀಕ್ಷೆ ನಡೆಸಿದ ನಂತರ ಅವರು ತಮ್ಮನ್ನು ಸಂಪರ್ಕತಡೆಯಲ್ಲಿ ಇರಿಸಿಕೊಂಡಿದ್ದಾರೆ ಎಂದು ಅವರು ಫೇಸ್ ಬುಕ್ ನಲ್ಲಿ ಘೋಷಿಸಿದಂತೆ ಫೆಬ್ರವರಿ ವಿಶ್ವದಾದ್ಯಂತ ಬೆಳೆಯುತ್ತಿರುವ ದೇಶಗಳ ಪಟ್ಟಿಯು ಕರೋನವೈರಸ್ ಪ್ರಕರಣಗಳನ್ನು ವರದಿ ಮಾಡಿದೆ ಕಳೆದ ಎರಡು ದಿನಗಳು ಇಟಲಿಯ ವಿರೋಧ ಲೀಗ್ ಪಕ್ಷದೊಂದಿಗಿನ ಸಂಪರ್ಕದಿಂದಾಗಿ ಪ್ರಧಾನಿ ಗೈಸೆಪೆ ಕಾಂಟೆ ಅವರು ಬಿಕ್ಕಟ್ಟನ್ನು ತಪ್ಪಾಗಿ ನಿರ್ವಹಿಸಿದ್ದಾರೆ ಎಂದು ಆರೋಪಿಸಿದ್ದಾರೆ ಮತ್ತು ರಾಷ್ಟ್ರೀಯ ಏಕತೆಯ ಸರ್ಕಾರವನ್ನು ರಚಿಸಲು ಗುರುವಾರ ಕರೆ ನೀಡಿದರು ಸರ್ಕಾರವು ದಾಳಿಯನ್ನು ತಳ್ಳಿಹಾಕಿತು ಮತ್ತು ಒಂದನ್ನು ಜಯಿಸಲು ಮುಂದಾಗುವುದಾಗಿ ಪ್ರತಿಜ್ಞೆ ಮಾಡಿತು ಇಟಲಿಯು ಹಲವಾರು ವರ್ಷಗಳಿಂದ ಎದುರಿಸಬೇಕಾಗಿರುವ ಅತ್ಯಂತ ಗಂಭೀರ ಬಿಕ್ಕಟ್ಟುಗಳು ಕರೋನವೈರಸ್ನ ಜಾಗತಿಕ ಹರಡುವಿಕೆಗೆ ಸಂಬಂಧಿಸಿದ ಮುನ್ನೆಚ್ಚರಿಕೆ ಕ್ರಮವಾಗಿ ನೆಸ್ಲೆ ಎಸ್ಎ ತನ್ನ ಎಲ್ಲ ಉದ್ಯೋಗಿಗಳಿಗೆ ಅಂತರರಾಷ್ಟ್ರೀಯ ವ್ಯಾಪಾರ ಪ್ರಯಾಣವನ್ನು ಸ್ಥಗಿತಗೊಳಿಸಿದೆ ಎಂದು ವರದಿಗಳು ತಿಳಿಸಿವೆ ರೋಸ್ಲಿನ್ ನಲ್ಲಿ ನೀವು ಎಸ್ ವಿಭಾಗವನ್ನು ಹೊಂದಿರುವ ಅಂತರರಾಷ್ಟ್ರೀಯ ಆಹಾರ ಮತ್ತು ಸಾಕುಪ್ರಾಣಿ ಆರೈಕೆ ಕಂಪನಿಯು ಮಾರ್ಚ್ ರವರೆಗೆ ಪ್ರಯಾಣ ನಿಷೇಧವನ್ನು ಜಾರಿಗೊಳಿಸಿದೆ ಸ್ವಿಟ್ಜರ್ಲೆಂಡ್ ಮೂಲದ ಕಂಪನಿಯು ಸಾಧ್ಯವಾದಷ್ಟು ದೇಶೀಯ ಪ್ರವಾಸಗಳನ್ನು ರದ್ದುಗೊಳಿಸುವಂತೆ ವಿನಂತಿಸುತ್ತಿದೆ ಮತ್ತು ವರದಿಗಳ ಪ್ರಕಾರ ವಿಡಿಯೋಕಾನ್ಫರೆನ್ಸಿಂಗ್ ನಂತಹ ಪರ್ಯಾಯ ಸಂವಹನದ ಬಳಕೆಯನ್ನು ಉತ್ತೇಜಿಸುತ್ತದೆ ವೋಕ್ಸ್ ವ್ಯಾಗನ್ ತನ್ನ ಎಂಟನೇ ಜನ್ ಗಾಲ್ಫ್ ಜಿಟಿಐನಿಂದ ಹೊದಿಕೆಗಳನ್ನು ಎಳೆದಿದೆ ಮತ್ತು ಅದರೊಂದಿಗೆ ಡೀಸೆಲ್ ಸುಡುವ ಜಿಟಿಡಿ ಮತ್ತು ಹೈಬ್ರಿಡ್ ಜಿಟಿಇಯ ಪ್ಲಗ್ ಸಹ ಬಹಿರಂಗಗೊಂಡಿದೆ ಮುಂಬರುವ ಸ್ಕೋಡಾ ಆಕ್ಟೇವಿಯಾ ಆರ್ಎಸ್ ಮತ್ತು ಕುಪ್ರಾ ಲಿಯಾನ್ ಪ್ಲಗ್ ಇನ್ ರೂಪಾಂತರಗಳಲ್ಲಿ ಇತ್ತೀಚಿನ ಗಾಲ್ಫ್ ಜಿಟಿಇ ನಿಂದ ಪ್ರೇರೇಪಿಸಲ್ಪಟ್ಟಿದೆ ಲೀಟರ್ ಎಂಜಿನ್ ಅಶ್ವಶಕ್ತಿ ಮತ್ತು ಅಶ್ವಶಕ್ತಿ ಎಲೆಕ್ಟ್ರಿಕ್ ಮೋಟರ್ ಅನ್ನು ಜಿಟಿಐ ಎರಡು ನಿಷ್ಕಾಸಗಳನ್ನು ಪಡೆಯುತ್ತದೆ ಮತ್ತು ಜಿಟಿಡಿ ಒಂದೇ ಡ್ಯುಯಲ್ ಎಕ್ಸಿಟ್ ನಿಷ್ಕಾಸವನ್ನು ಪಡೆಯುತ್ತದೆ ಮತ್ತು ಜಿಟಿಇ ಹಿಂಭಾಗದ ಬಂಪರ್ ಹೋಲಿಕೆಯಿಂದ ಕೆಟ್ಟದಾಗಿ ಕಾಣುತ್ತದೆ ಆ ಎರಡು ಮಾದರಿಗಳು ಇಂಚುಗಳು ಸೆಂಟಿಮೀಟರ್ ಕಡಿಮೆ ಸ್ಟ್ಯಾಂಡರ್ಡ್ ಗಾಲ್ಫ್ ಗಿಂತ ಮತ್ತು ಜಿಟಿಇ ಕಾರ್ಖಾನೆಯನ್ನು ಕಡಿಮೆಗೊಳಿಸಲಾಗಿಲ್ಲ ಎಂಬುದು ವಿಡಬ್ಲ್ಯೂ ಭಾಗದ ಒಂದು ಪ್ರಶ್ನಾರ್ಹ ನಿರ್ಧಾರವಾಗಿದೆ ಕಡಿಮೆ ಸವಾರಿ ಎತ್ತರವು ಕಾರಿನ ಮೂಲೆಗೆ ಸಾಮರ್ಥ್ಯವನ್ನು ಹೆಚ್ಚಿಸುತ್ತದೆ ಆದರೆ ಇದು ಹೆಚ್ಚು ವಾಯುಬಲವೈಜ್ಞಾನಿಕವಾಗಿಸುತ್ತದೆ ಮತ್ತು ಆದ್ದರಿಂದ ಹೆಚ್ಚು ಪರಿಣಾಮಕಾರಿಯಾಗಿದೆ ಹೈಬ್ರಿಡ್ನಲ್ಲಿನ ಪ್ಲಗ್ ಆದ್ದರಿಂದ ಹೆಚ್ಚಿನ ಸವಾರಿ ಎತ್ತರದ ನಡುವೆ ಅದರ ಆರ್ಥಿಕ ಕಾರು ಹಿಂಭಾಗದ ಬಂಪರ್ ಮರ್ಯಾದೋಲ್ಲಂಘನೆ ನಿಷ್ಕಾಸಗಳು ಮತ್ತು ಚಕ್ರಗಳು ಜಿಟಿಐ ಅಥವಾ ಜಿಟಿಡಿಯಲ್ಲಿರುವಂತೆ ಆಕ್ರಮಣಕಾರಿಯಾಗಿ ಕಾಣುವುದಿಲ್ಲ ಜಿಟಿಇ ಸಾಕಷ್ಟು ಆಕ್ರಮಣಕಾರಿಯಾಗಿ ಕಾಣುವುದಿಲ್ಲ ಆ ಎರಡು ಎಂದು ಆಂಡ್ರಿಯಾ ಮಾಂಟೊವಾನಿ ದಿ ನ್ಯೂಯಾರ್ಕ್ ಟೈಮ್ಸ್ ತೈಲ ಕಂಪೆನಿ ಮತ್ತು ಮಾಧ್ಯಮ ಗುಂಪು ಲಂಡನ್ ನಲ್ಲಿರುವ ನೂರಾರು ಉದ್ಯೋಗಿಗಳಿಗೆ ಮನೆಯಿಂದ ಕೆಲಸ ಮಾಡಲು ಮಿಲನ್ ನಿಂದ ಬರ್ಲಿನ್ ಗೆ ಲಂಡನ್ ಕಂಪೆನಿಗಳಿಗೆ ಪ್ರಾಯೋಗಿಕವಾಗಿ ಪ್ರತಿ ಉದ್ಯಮದಲ್ಲಿ ತಮ್ಮ ತುರ್ತು ಪ್ರೋಟೋಕಾಲ್ ಗಳನ್ನು ಪರಿಷ್ಕರಿಸುತ್ತಿದೆ ಅಥವಾ ಏಕಾಏಕಿ ತಡೆಗಟ್ಟಲು ಪ್ರಯತ್ನಿಸುತ್ತಿದೆ ಈ ವಾರ ಚೆವ್ರೊನ್ ತನ್ನ ಲಂಡನ್ ಕಚೇರಿಯೊಂದರಲ್ಲಿ ಕಾರ್ಮಿಕರಿಗೆ ಇಟಲಿಯಿಂದ ಹಿಂದಿರುಗಿದ ಉದ್ಯೋಗಿಯೊಬ್ಬರು ಫ್ಲೂಲೈಕ್ ರೋಗಲಕ್ಷಣಗಳನ್ನು ಅಭಿವೃದ್ಧಿಪಡಿಸಿದ ನಂತರ ಮನೆಯಿಂದ ಕೆಲಸ ಮಾಡುವಂತೆ ಸೂಚನೆ ನೀಡಿದರು ಬ್ರಿಟಿಷ್ ಪೇ ಟೆಲಿವಿಷನ್ ಕಂಪನಿ ಸ್ಕೈ ತನ್ನ ಹಲವಾರು ಯುರೋಪಿಯನ್ ಕಚೇರಿಗಳಲ್ಲಿ ಸಂದರ್ಶಕರನ್ನು ಪರೀಕ್ಷಿಸಲು ಪ್ರಾರಂಭಿಸಿದೆ ಇತ್ತೀಚೆಗೆ ಪ್ರಯಾಣಿಸಿದ ಅತಿಥಿಗಳು ಹೆಚ್ಚಿನ ಅಪಾಯದ ದೇಶಗಳಾದ ಚೀನಾ ಮತ್ತು ಜಪಾನ್ ಅನ್ನು ನಿರ್ಬಂಧಿಸಲಾಗುವುದು ಏಕೆಂದರೆ ಹೆಚ್ಚಿನ ಗ್ರಾಹಕರು ಸೇವೆಯಲ್ಲಿ ಆಸಕ್ತಿಯನ್ನು ವ್ಯಕ್ತಪಡಿಸಿದ್ದರಿಂದ ಒಟ್ಟೊವಾ ಒಂಟಾರಿಯೊದಲ್ಲಿನ ಕಂಪನಿಯ ಪ್ರಧಾನ ಕಚೇರಿಗೆ ಕರೋನವೈರಸ್ ಹರಡಿದರೆ ವ್ಯಾಲಿ ತನ್ನ ಸ್ವಂತ ಉದ್ಯೋಗಿಗಳನ್ನು ಮನೆಗೆ ಕಳುಹಿಸಲು ತಯಾರಿ ನಡೆಸುತ್ತಿದ್ದಾನೆ ಕರೋನವೈರಸ್ ಅಥವಾ ಏಕಾಏಕಿ ನಂತರ ಹಲವಾರು ಅಂತರರಾಷ್ಟ್ರೀಯ ವಿಮಾನಗಳ ಮುಚ್ಚುವಿಕೆಯನ್ನು ಸರಿದೂಗಿಸಲು ಹೊಸ ಮಾರ್ಗಗಳನ್ನು ಸಿದ್ಧಪಡಿಸುತ್ತಿದೆ ಎಂದು ಟೆಂಪೊ ಸಿಒ ಜಕಾರ್ತಾ ರಾಷ್ಟ್ರೀಯ ಧ್ವಜವಾಹಕ ನೌಕೆ ಗರುಡಾ ಇಂಡೋನೇಷ್ಯಾ ಸಿಇಒ ಇರ್ಫಾನ್ ಸೆಟಿಯಾಪುತ್ರಾ ಹೇಳಿದ್ದಾರೆ ಫೆಬ್ರವರಿ ರ ಗುರುವಾರ ಇರ್ಫಾನ್ ತಮ್ಮ ಕಚೇರಿಯಲ್ಲಿ ಇರ್ಫಾನ್ ಹೇಳಿರುವ ಮಾರ್ಗಗಳ ಕುರಿತು ಚರ್ಚೆಗಳು ಇನ್ನೂ ನಡೆಯುತ್ತಿವೆ ಎಂದು ನಾವು ಹೇಳುತ್ತೇವೆ ನಷ್ಟದ ಕಾರಣ ನಾವು ಗೊಣಗುತ್ತಿರುವ ಕಂಪನಿಯಲ್ಲ ಪರಿಸ್ಥಿತಿಯನ್ನು ಲೆಕ್ಕಿಸದೆ ಸಂಸ್ಥೆಯ ಕಾರ್ಯಕ್ಷಮತೆಯನ್ನು ಸುಧಾರಿಸಲು ಈ ಸ್ಥಿತಿಯನ್ನು ಸವಾಲುಗಳಾಗಿ ತೆಗೆದುಕೊಳ್ಳಲಾಗುವುದು ಎಂದು ಹೇಳಿದರು ಸೌದಿ ಅರೇಬಿಯಾ ಹೊರಡಿಸಿದ ಉಮ್ರಾ ಪ್ರವೇಶದ ತಾತ್ಕಾಲಿಕ ನಿಷೇಧದ ಮೊದಲು ರಾಜ್ಯ ವಿಮಾನಯಾನ ಸಂಸ್ಥೆಗಳು ಚೀನಾ ಸೇರಿದಂತೆ ಹಲವಾರು ಅಂತರರಾಷ್ಟ್ರೀಯ ಮಾರ್ಗಗಳನ್ನು ಸ್ಥಗಿತಗೊಳಿಸಿದ್ದವು ಮತ್ತು ಹಾಂಗ್ ಕಾಂಗ್ ಮತ್ತು ಸಿಂಗಾಪುರಕ್ಕೆ ಹಾರಾಟದ ಆವರ್ತನವನ್ನು ಕಡಿಮೆಗೊಳಿಸಿದ್ದವು ಗರುಡ ಸರ್ಕಾರಿ ಸ್ವಾಮ್ಯದ ಉದ್ಯಮವಾಗಿದೆ ಆದ್ದರಿಂದ ಮಾರ್ಗವನ್ನು ಮುಚ್ಚಬೇಕು ಸಂಬಂಧಿತ ಸಚಿವಾಲಯಗಳ ಅನುಮತಿ ಮತ್ತು ಆದೇಶವು ಉಭಯ ದೇಶಗಳ ದ್ವಿಪಕ್ಷೀಯ ಸಂಬಂಧದ ಮೇಲೆ ಪರಿಣಾಮ ಬೀರಬಹುದು ಎಂದು ಇರ್ಫಾನ್ ಹೇಳಿದರು ಸೀಸರ್ ಅಕ್ಬರ್ ಆರೋಗ್ಯ ಮತ್ತು ಪ್ರಯಾಣದ ಆತಂಕಗಳ ಮಧ್ಯೆ ಒಲಿಂಪಿಕ್ಸ್ ಸಿಕ್ಸ್ ನೇಷನ್ಸ್ ಮತ್ತು ಸ್ಟಾರ್ಮ್ ಜಿಯ ವಿಶ್ವ ಪ್ರವಾಸವು ಮಾರ್ಚ್ ರಂದು ಡಬ್ಲಿನ್ ನಲ್ಲಿ ಇಟಲಿ ವಿರುದ್ಧದ ಕೊರೊನಾವೈರಸ್ ಸಿಕ್ಸ್ ನೇಷನ್ಸ್ಇರೆಲ್ಯಾಂಡ್ ಪಂದ್ಯದ ಹರಡುವಿಕೆಯನ್ನು ಎದುರಿಸಲು ಅಧಿಕಾರಿಗಳು ಪ್ರಯತ್ನಿಸುತ್ತಿರುವುದರಿಂದ ಈಗ ಮುಂದೂಡಲಾಗಿದೆ ದೇಶದ ಆರೋಗ್ಯ ಮಂತ್ರಿ ಇಂಗ್ಲೆಂಡ್ ವಿ ಇಟಲಿ ಫುಟ್ಬಾಲ್ ಅಸೋಸಿಯೇಷನ್ ಇದು ಕರೋನವೈರಸ್ಗೆ ಹೇಗೆ ಪ್ರತಿಕ್ರಿಯಿಸುತ್ತದೆ ಎಂಬುದನ್ನು ಚರ್ಚಿಸುವ ಪ್ರಕ್ರಿಯೆಯನ್ನು ಪ್ರಾರಂಭಿಸಿದೆ ಮತ್ತು ನಿರ್ದಿಷ್ಟವಾಗಿ ಮಾರ್ಚ್ ರಂದು ವೆಂಬ್ಲಿಯಲ್ಲಿ ಇಟಲಿಯೊಂದಿಗೆ ಇಂಗ್ಲೆಂಡ್ ಸ್ನೇಹಪರವಾಗಿದ್ದರೆ ಅಲ್ಲಿ ವೈರಸ್ ಹರಡುವುದನ್ನು ಗಮನಿಸಿದರೆ ಮುಂದೆ ಹೋಗಬಹುದು ಇದು ಈಗಾಗಲೇ ನಾಲ್ಕು ಸೀರಿಗೆ ಕಾರಣವಾಗಿದೆ ಪಂದ್ಯಗಳನ್ನು ಮುಂದೂಡಲಾಗಿದೆ ಮತ್ತು ಇಂಟರ್ನ್ಯಾಜಿಯೋನೇಲ್ ಅವರ ಮನೆ ಯುರೋಪಾ ಲೀಗ್ ಗುರುವಾರ ಲುಡೋಗೊರೆಟ್ಸ್ ಜೊತೆಗಿನ ಪಂದ್ಯವು ಮುಚ್ಚಿದ ಬಾಗಿಲುಗಳ ಪಂದ್ಯವಾಗಿದೆ ಪ್ರವಾಸೋದ್ಯಮ ಸಂಗೀತಗಾರರು ಬ್ರಿಟಿಷ್ ಗ್ರಿಮ್ ಸ್ಟಾರ್ ಸ್ಟಾರ್ಮ್ಜಿ ಅವರು ತಮ್ಮ ಅತಿದೊಡ್ಡ ಪ್ರವಾಸವನ್ನು ರಲ್ಲಿ ಐದು ಖಂಡಗಳಲ್ಲಿ ಜಾಗತಿಕ ವಿಹಾರಕ್ಕೆ ಮುಂದಾಗಿದ್ದಾರೆ ಆದರೆ ಏಷ್ಯಾದ ಕಾಲು ಮುಂದೂಡಲ್ಪಟ್ಟಿದೆ ಸ್ಟಾರ್ಮ್ಜಿ ಕ್ಷಮೆಯಾಚಿಸುತ್ತಿದೆ ಕರೋನವಿ ಸುತ್ತಮುತ್ತಲಿನ ಆರೋಗ್ಯ ಮತ್ತು ಪ್ರಯಾಣದ ಕಾಳಜಿಗಳಿಂದಾಗಿ ರುಸ್ ನಾನು ವಿಷಾದನೀಯವಾಗಿ ಕೇನ್ಸ್ ವೆನಿಸ್ ಮತ್ತು ಇತರ ಚಲನಚಿತ್ರೋತ್ಸವಗಳನ್ನು ಮರುಹೊಂದಿಸಬೇಕಾಗಿದೆ ಚಲನಚಿತ್ರೋದ್ಯಮವು ತೀವ್ರವಾಗಿ ಹೊಡೆದಿದೆ ಚೀನೀ ಚಿತ್ರಮಂದಿರಗಳು ಅಮೂಲ್ಯವಾದ ಚೀನೀ ಹೊಸ ವರ್ಷದ ಗಲ್ಲಾಪೆಟ್ಟಿಗೆಯನ್ನು ತಡೆಗಟ್ಟುವ ಕ್ರಮವಾಗಿ ತ್ವರಿತವಾಗಿ ಮುಚ್ಚಲ್ಪಟ್ಟವು ಮತ್ತು ಚೀನಾದ ಪ್ರಥಮ ಪ್ರದರ್ಶನಗಳಂತಹ ಉನ್ನತ ಮಟ್ಟದ ಘಟನೆಗಳನ್ನು ರದ್ದುಗೊಳಿಸುವಂತೆ ಒತ್ತಾಯಿಸಿತು ಹೊಸ ಬಾಂಡ್ ಚಿತ್ರ ನೋ ಟೈಮ್ ಟು ಡೈ ಏಪ್ರಿಲ್ನಲ್ಲಿ ನಡೆಯಲಿದೆ ಫಾಕ್ಸ್ ನ್ಯೂಸ್ ಹಿರಿಯ ನ್ಯಾಯಾಂಗ ವಿಶ್ಲೇಷಕ ನ್ಯಾಯಾಧೀಶ ಆಂಡ್ರ್ಯೂ ನಪೊಲಿಟಾನೊ ಅವರು ಫಾಕ್ಸ್ ಆಂಪ್ ಫ್ರೆಂಡ್ಸ್ ಬಗ್ಗೆ ವಿವರಿಸಿದ್ದು ರಷ್ಯಾದ ಬಗ್ಗೆ ಆಪ್ ಎಡ್ ಮೇಲೆ ಅಧ್ಯಕ್ಷರ ಮಾನಹಾನಿ ಮೊಕದ್ದಮೆಯನ್ನು ವಜಾಗೊಳಿಸಲಾಗುವುದು ಮತ್ತು ಅಭಯಾರಣ್ಯದ ತೀರ್ಪಿನಲ್ಲಿ ಶ್ವೇತಭವನದ ಗೆಲುವಿಗೆ ಪ್ರತಿಕ್ರಿಯಿಸುತ್ತದೆ ಎಂದು ಟ್ರಂಪ್ ಅಭಿಯಾನವು ಮಾನಹಾನಿಯನ್ನು ದಾಖಲಿಸಿದೆ ಅತ್ಯಂತ ಪಕ್ಷಪಾತದ ನ್ಯೂಯಾರ್ಕ್ ಟೈಮ್ಸ್ ವಿರುದ್ಧದ ಮೊಕದ್ದಮೆ ಒಂದು ಬುದ್ಧಿವಂತ ನಡೆ ಆದರೆ ಫಾಕ್ಸ್ ನ್ಯೂಸ್ ಹಿರಿಯ ನ್ಯಾಯಾಂಗ ವಿಶ್ಲೇಷಕ ನ್ಯಾಯಾಧೀಶ ಆಂಡ್ರ್ಯೂ ನಪೊಲಿಟಾನೊ ಅವರ ಪ್ರಕಾರ ಈ ಪ್ರಕರಣವನ್ನು ವಜಾಗೊಳಿಸಲಾಗುವುದು ಆಗ ವಿಶೇಷ ವಕೀಲ ರಾಬರ್ಟ್ ಮುಲ್ಲರ್ ಟ್ರಂಪ್ ಅವರನ್ನು ಮುಕ್ತಗೊಳಿಸಲಿದ್ದಾರೆ ಎಂದು ತಿಳಿದಿದ್ದರಿಂದ ಮೊಕದ್ದಮೆಯಲ್ಲಿ ಮೊಕದ್ದಮೆ ವಾದಿಸುತ್ತದೆ ಪಿತೂರಿ ಹಕ್ಕುಗಳನ್ನು ರದ್ದುಗೊಳಿಸುವ ಮೊದಲು ಮುಲ್ಲರ್ ವರದಿಯನ್ನು ಬಿಡುಗಡೆ ಮಾಡುವ ಮೊದಲು ಅಧ್ಯಕ್ಷರ ಅಭಿಯಾನವನ್ನು ತ್ವರಿತವಾಗಿ ಹಾನಿಗೊಳಗಾಗಲು ಟೈಮ್ಸ್ ಪ್ರಯತ್ನಿಸಿತು ಟ್ರಂಪ್ ರುಬಿಯಾ ಹೊಸ ಕೆಲಸದ ಸಮಯಗಳನ್ನು ರುಬಿಯಾ ಕನ್ಪೈರಸಿ ಒಪಿ ಸಂಪಾದಿಸಿ ಇಲ್ಲಿಗೆ ಫಾಕ್ಸ್ ನ್ಯೂಸ್ ಎಪಿಪಿನಾಪಾಲಿಟಾನೊ ಅವರು ಪ್ರಚಾರವನ್ನು ಏಕೆ ನಿಲ್ಲುತ್ತದೆ ಎಂದು ನಂಬುವುದಿಲ್ಲ ಎಂದು ವಿವರಿಸಿದರು ಮಾನನಷ್ಟ ಮೊಕದ್ದಮೆ ಫಿರ್ಯಾದಿ ಟ್ರಂಪ್ ಅಭಿಯಾನ ಮತ್ತು ಮಾನಹಾನಿ ಕಾನೂನಿನಡಿಯಲ್ಲಿ ನ್ಯೂಯಾರ್ಕ್ನಲ್ಲಿ ಅವರು ದೂರು ದಾಖಲಿಸಿದ್ದಾರೆ ಒಂದು ಗುಂಪು ಫಿರ್ಯಾದಿಯಾಗಲು ಸಾಧ್ಯವಿಲ್ಲ ಆಪಾದಿತ ಮಾನಹಾನಿಯಿಂದ ಹಾನಿಗೊಳಗಾದ ಒಬ್ಬ ವ್ಯಕ್ತಿ ಮಾತ್ರ ಫಿರ್ಯಾದಿಯಾಗಬಹುದು ಆದರೆ ವಿನಾಶಕಾರಿ ಕಾಡ್ಗಿಚ್ಚುಗಳು ಹತ್ತಾರು ಸ್ಥಳೀಯ ಪ್ರಾಣಿಗಳನ್ನು ಮತ್ತು ಅದರ ಕೋಲಾ ಜನಸಂಖ್ಯೆಯನ್ನು ಕೊಲ್ಲುವ ದಶಕಗಳ ಎಚ್ಚರಿಕೆಯ ಸಂರಕ್ಷಣಾ ಕಾರ್ಯವನ್ನು ಹಿಮ್ಮೆಟ್ಟಿಸಿದವು ದಕ್ಷಿಣ ಆಸ್ಟ್ರೇಲಿಯಾದ ಕರಾವಳಿಯಲ್ಲಿ ನೆಲೆಗೊಂಡಿರುವ ಕಾಂಗರೂ ದ್ವೀಪವು ರೋಡ್ ದ್ವೀಪಕ್ಕಿಂತ ಸುಮಾರು ದೊಡ್ಡದಾಗಿದೆ ಮತ್ತು ಜನರಿಗೆ ನೆಲೆಯಾಗಿದೆ ಮತ್ತು ಅಭಿವೃದ್ಧಿ ಹೊಂದುತ್ತಿರುವ ಪರಿಸರ ಪ್ರವಾಸೋದ್ಯಮ ಯಾವುದು ಇಂಡಸ್ಟ್ರಿ ಸ್ಯಾಮ್ ನ ವೆಟ್ಸ್ ತಜ್ಞರು ಮತ್ತು ವಿಶ್ವದಾದ್ಯಂತದ ಸ್ವಯಂಸೇವಕರು ಎರಡು ತಿಂಗಳ ಹಿಂದೆ ಬೆಂಕಿ ಪ್ರಾರಂಭವಾದಾಗಿನಿಂದ ಪ್ರಾಣಿಗಳಿಗೆ ಚಿಕಿತ್ಸೆ ನೀಡಿದ್ದಾರೆ ಕೋಲಾಸ್ ಕಾಂಗರೂ ದ್ವೀಪದ ಆರ್ಥಿಕತೆಯು ಕೃಷಿ ಮತ್ತು ಪ್ರವಾಸೋದ್ಯಮವನ್ನು ಅವಲಂಬಿಸಿದೆ ಮಿಲಿಯನ್ ಡಾಲರ್ ಮೌಲ್ಯದ ಮೌಲ್ಯವಾಗಿದೆ ಮತ್ತು ಈಗ ಗಮನ ಪುನರುಜ್ಜೀವನಗೊಳ್ಳುತ್ತಿದೆ ಕೈಗಾರಿಕೆಗಳು ಬುಷ್ ಫೈರ್ ಗಳನ್ನು ಪೋಸ್ಟ್ ಮಾಡುತ್ತವೆ ದಕ್ಷಿಣ ಆಸ್ಟ್ರೇಲಿಯಾದ ಪ್ರವಾಸೋದ್ಯಮ ಆಯೋಗವು ಅಡಿಲೇಡ್ ಹಿಲ್ಸ್ ಮತ್ತು ಕಾಂಗರೂ ದ್ವೀಪಗಳಲ್ಲಿನ ಬುಷ್ ಫೈರ್ ಪೀಡಿತ ಪ್ರದೇಶಗಳಿಗೆ ಭೇಟಿ ನೀಡುವಂತೆ ಪ್ರವಾಸಿಗರನ್ನು ಉತ್ತೇಜಿಸಲು ಬುಕ್ ಥೆಮ್ ಟ್ ಅಭಿಯಾನವನ್ನು ಪ್ರಾರಂಭಿಸಿತು ಇತ್ತೀಚಿನ ಕಾಂಗರೂ ಕಪ್ ರೇಸಿಂಗ್ ಕಾರ್ನೀವಲ್ ಕಳೆದ ವಾರಾಂತ್ಯದಲ್ಲಿ ದಾಖಲೆಯ ಹಾಜರಾತಿಯನ್ನು ತಲುಪಿದೆ ನ್ಯಾಷನಲ್ ಎನರ್ಜಿ ಆಕ್ಷನ್ ಎನ್ಇಎ ಮತ್ತು ಪರಿಸರ ಗುಂಪು ಇ ಜಿ ಸಂಶೋಧನೆಯ ಪ್ರಕಾರ ಪ್ರತಿವರ್ಷ ಸರಾಸರಿ ಸಾವುಗಳು ಶೀತಲ ಮನೆಯಲ್ಲಿ ವಾಸಿಸುತ್ತಿವೆ ಎಂದು ನಂಬಲಾಗಿದೆ ಶೀತಲ ಮನೆಗಳಿಗೆ ಸಾರ್ವಜನಿಕ ಆರೋಗ್ಯ ವಿಧಾನವು ಎನ್ಇಎ ಪೀಟರ್ ಸ್ಮಿತ್ ಹೇಳುವಂತೆ ಸ್ಥಳೀಯ ಅಧಿಕಾರಿಗಳು ಹೊಂದಿದ್ದಾರೆ ದುರದೃಷ್ಟವಶಾತ್ ಕಳಪೆ ವಸತಿ ಮತ್ತು ಆರೋಗ್ಯದ ನಡುವಿನ ಸಂಪರ್ಕವನ್ನು ಹೆಚ್ಚು ಒಪ್ಪಿಕೊಳ್ಳಲಾಗಿದೆ ದುರದೃಷ್ಟವಶಾತ್ ಈ ವರ್ಷದ ವೇಳೆಗೆ ಸ್ಥಳೀಯ ಅಧಿಕಾರಿಗಳು ತಮ್ಮ ಬಜೆಟ್ ಗಳಲ್ಲಿ ಸುಮಾರು ಹಣವನ್ನು ಕಳೆದುಕೊಂಡಿದ್ದಾರೆ ಎಂದು ಹಿಸಲಾಗಿದೆ ಸಾರ್ವಜನಿಕ ಆರೋಗ್ಯದಂತಹ ಪ್ರಮುಖ ಸೇವೆಗಳನ್ನು ಹಿಸುಕಿ ಮತ್ತು ವಿಶೇಷವಾಗಿ ಬಡ ಪ್ರದೇಶಗಳಲ್ಲಿ ಕತ್ತರಿಸಲಾಗುತ್ತದೆ ಅಪಾಯವೆಂದರೆ ನಾವು ಯಾವುದರೊಂದಿಗೆ ಕೊನೆಗೊಳ್ಳುತ್ತೇವೆ ಕಳಪೆ ಆರೋಗ್ಯ ಹೊಂದಿರುವ ಜನರ ಏರಿಳಿಕೆ ಎಂದು ಸ್ಮಿತ್ ವಿವರಿಸುತ್ತಾರೆ ಸಾಮಾನ್ಯವಾಗಿ ಉಸಿರಾಟ ಅಥವಾ ರಕ್ತಪರಿಚಲನಾ ಕಾಯಿಲೆಗಳು ಅನಾರೋಗ್ಯಕ್ಕೆ ಒಳಗಾಗುತ್ತವೆ ಮತ್ತು ಆಸ್ಪತ್ರೆಗೆ ಕಳುಹಿಸಲ್ಪಡುತ್ತವೆ ಮತ್ತು ನಂತರ ಹಾಸಿಗೆಯನ್ನು ತಡೆಯುವ ಕಾರಣದಿಂದ ಬೇಗನೆ ತೆಗೆದುಹಾಕಲಾಗುತ್ತದೆ ಮತ್ತು ನಂತರ ಅವರನ್ನು ತಣ್ಣನೆಯ ಪರಿಸ್ಥಿತಿಗಳಿಗೆ ಕಳುಹಿಸಲಾಗುತ್ತದೆ ಇದರಿಂದಾಗಿ ನಾನು ಮೊದಲ ಸ್ಥಾನದಲ್ಲಿರುತ್ತೇನೆ ಸಂಶೋಧನೆ ಯುಸಿಎಲ್ ಇನ್ಸ್ಟಿಟ್ಯೂಟ್ ಆಫ್ ಹೆಲ್ತ್ ಇಕ್ವಿಟಿಯ ನಿರ್ದೇಶಕ ಮೈಕೆಲ್ ಮಾರ್ಮೊಟ್ ಅವರು ಮಾನಸಿಕ ನಂತಹ ಇತರ ಸಾರ್ವಜನಿಕ ಆರೋಗ್ಯ ಪರಿಣಾಮಗಳನ್ನು ಬಹಿರಂಗಪಡಿಸಿದ್ದಾರೆ ಆರೋಗ್ಯ ಮತ್ತು ಪ್ರತ್ಯೇಕತೆ ಏಕೆಂದರೆ ಪಿಂಚಣಿದಾರರು ತಮ್ಮ ಶೀತ ಮನೆಗಳಿಗೆ ಸ್ನೇಹಿತರನ್ನು ಆಹ್ವಾನಿಸಲು ಸಾಧ್ಯವಿಲ್ಲ ಎಂದು ಭಾವಿಸುತ್ತಾರೆ ಐರ್ಲೆಂಡ್ ನ ಅತಿದೊಡ್ಡ ಖಾಸಗಿ ಭೂಮಾಲೀಕರ ಷೇರುಗಳು ಒಂದು ವರ್ಷದ ಅವಧಿಯಲ್ಲಿ ಐರೆಸ್ ರೀಟ್ ನ ಮಾರುಕಟ್ಟೆ ಮೌಲ್ಯಮಾಪನದಿಂದ ಸುಮಾರು ಮೀಟರ್ ಅಳಿಸಿಹಾಕಿದ ನಂತರ ತಮ್ಮ ಕನಿಷ್ಠ ಮಟ್ಟಕ್ಕೆ ಕುಸಿದಿವೆ ಅಂದರೆ ಫಿಯನ್ನಾ ಫೇಲ್ ಬಾಡಿಗೆ ಫ್ರೀಜ್ ಗೆ ತನ್ನ ವಿರೋಧವನ್ನು ಬಿಡಲು ಸಿದ್ಧವಾಗಿದೆ ಎಂದು ವರದಿ ಮಾಡಿದೆ ಸಂಭಾವ್ಯ ಸಮ್ಮಿಶ್ರ ಸರ್ಕಾರವನ್ನು ರಚಿಸುವ ಉದ್ದೇಶದಿಂದ ಮಾತುಕತೆ ಕೋಷ್ಟಕವು ಗುರುವಾರ ಐರೆಸ್ ಷೇರು ಬೆಲೆಯಲ್ಲಿ ಸುಮಾರು ಶೇಕಡಾ ಕುಸಿತವನ್ನು ಉಂಟುಮಾಡಿತು ಇದು ಐರಿಶ್ ಷೇರು ಮಾರುಕಟ್ಟೆಯ ಉಳಿದ ಭಾಗವು ಕೊರೋನವೈರಸ್ ಈ ವರ್ಷ ವ್ಯವಹಾರಗಳನ್ನು ಮುಟ್ಟುತ್ತದೆ ಎಂಬ ಭಯದಿಂದ ತತ್ತರಿಸುವುದಕ್ಕಿಂತ ಎರಡು ಪಟ್ಟು ದೊಡ್ಡ ಕುಸಿತವಾಗಿದೆ ಸಾರ್ವತ್ರಿಕ ಚುನಾವಣಾ ಪ್ರಚಾರ ಫಿಯನ್ನಾ ಫೇಲ್ ಬಾಡಿಗೆ ಫ್ರೀಜ್ ಗಳು ಕಾನೂನುಬದ್ಧವಾಗಿ ಸಾಧ್ಯವಿಲ್ಲ ಮತ್ತು ಆಸ್ತಿ ಹಕ್ಕುಗಳಿಗೆ ಹಸ್ತಕ್ಷೇಪ ಮಾಡುತ್ತದೆ ಎಂದು ಒತ್ತಾಯಿಸಿದರು ಆದರೆ ಗ್ರೀನ್ ಪಾರ್ಟಿಯೊಂದಿಗೆ ಸರ್ಕಾರ ರಚನೆಯ ಮಾತುಕತೆಯ ನಂತರ ಪಕ್ಷವು ಈಗ ಬಾಡಿಗೆಗೆ ಅಲ್ಪಾವಧಿಯ ಕ್ಯಾಪ್ ಗಳನ್ನು ಪರಿಚಯಿಸಲು ಪರಿಗಣಿಸುತ್ತಿದೆ ಎಂದು ಐರಿಶ್ ಇಂಡಿಪೆಂಡೆಂಟ್ ಗುರುವಾರ ವರದಿ ಮಾಡಿದೆ ಅದರ ಬಗ್ಗೆ ಮಾತುಕತೆ ಮತ್ತು ಒಪ್ಪಂದಕ್ಕೆ ಮುಕ್ತವಾಗಿದೆ ಏಕೆಂದರೆ ಜನರು ಬಾಡಿಗೆದಾರರಿಗೆ ಸಹಾಯ ಮಾಡಲು ಕೆಲವು ತಕ್ಷಣವನ್ನು ನೋಡಲು ಅರ್ಹರು ಎಂದು ನಾವು ತಿಳಿದುಕೊಂಡಿದ್ದೇವೆ ಕಾನೂನು ಅಭಿಪ್ರಾಯದೊಂದಿಗೆ ಅವುಗಳನ್ನು ಪ್ಯಾನ್ ಮಾಡುವುದಕ್ಕಿಂತ ಹಿರಿಯ ಫಿಯನ್ನಾ ಫೇಲ್ ಮೂಲವೊಂದು ಆರು ಗಂಟೆಗಳಿಗಿಂತ ಹೆಚ್ಚು ಮಾತುಕತೆಗಳಲ್ಲಿ ಚರ್ಚಿಸಲಾದ ಇತರ ಹಲವು ನೀತಿ ಕ್ಷೇತ್ರಗಳಲ್ಲಿ ಈ ಸಮಸ್ಯೆಯನ್ನು ಗುರುತಿಸಲಾಗಿದೆ ಎಂದು ಗ್ರೀನ್ ಪಾರ್ಟಿ ಮೂಲವೊಂದು ದೃ ಪಡಿಸಿದೆ ಎರಡು ವರ್ಷಗಳ ಬಾಡಿಗೆ ಫ್ರೀಜ್ ಇದೆಯೇ ಎಂದು ಪರೀಕ್ಷಿಸಲು ಫಿಯನ್ನಾ ಫೇಲ್ ಸಿದ್ಧವಾಗಿದೆ ರಲ್ಲಿ ಅಂದಿನ ವಸತಿ ಸಚಿವ ಅಲನ್ ಕೆಲ್ಲಿ ಅವರು ಮತ್ತೆ ಜಾರಿಗೆ ತರಬಹುದು ಐರೆಸ್ ರೀಟ್ ರಾಜ್ಯದ ಅತಿದೊಡ್ಡ ಖಾಸಗಿ ಭೂಮಾಲೀಕರು ಕಳೆದ ವಾರ ಅದು ನಿವ್ವಳ ಬಾಡಿಗೆ ಆದಾಯವನ್ನು ಮಿ ಎಂದು ಕಳೆದ ವರ್ಷ ವರದಿ ಮಾಡಿದೆ ಕುಸಿತದ ಖರೀದಿಯ ನಂತರ ಇಲ್ಲಿ ಸ್ಥಾಪಿಸಲಾದ ಐರೆಸ್ನಲ್ಲಿ ಶೇಕಡಾ ಹೆಚ್ಚಳ ಡಬ್ಲಿನ್ ಮತ್ತು ಸುತ್ತಮುತ್ತಲಿನ ಸಂಪೂರ್ಣ ಅಪಾರ್ಟ್ಮೆಂಟ್ ಬ್ಲಾಕ್ಗಳನ್ನು ಸ್ನ್ಯಾಪ್ ಮಾಡುವ ಮೂಲಕ ಸುಮಾರು ಮನೆಗಳನ್ನು ಹೊಂದಿದೆ ಇದರ ಬ್ಲಾಕ್ಗಳು ಡಬ್ಲಿನ್ ಹಡಗುಕಟ್ಟೆಗಳ ಗ್ರ್ಯಾಂಡ್ ಕೆನಾಲ್ ಸ್ಕ್ವೇರ್ನಲ್ಲಿರುವ ಸೂಪರ್ ಹೈ ಎಂಡ್ ಮಾರ್ಕರ್ ಅಪಾರ್ಟ್ಮೆಂಟ್ ಮತ್ತು ಡಬ್ಲಿನ್ ರ ಸೇಂಟ್ ವಿನ್ಸೆಂಟ್ಸ್ ಆಸ್ಪತ್ರೆ ಮತ್ತು ಆರ್ಟಿಗೆ ಹತ್ತಿರವಿರುವ ಎಲ್ಂಪಾರ್ಕ್ ಅಭಿವೃದ್ಧಿಯಿಂದ ಆಧುನಿಕ ಬೆಳವಣಿಗೆಗಳವರೆಗೆ ಟಾಲಾಟ್ ಫಿಂಗ್ಲಾಸ್ ಮತ್ತು ಇಂಚಿಕೋರ್ನಲ್ಲಿ ಕಳೆದ ವರ್ಷ ಐರೆಸ್ ತನ್ನ ಎಲ್ಲಾ ಆಸ್ತಿಗಳಲ್ಲಿ ತಿಂಗಳಿಗೆ ಸರಾಸರಿ ಬಾಡಿಗೆಗೆ ರ ಅಕಾರ್ಡಿ ಯಲ್ಲಿ ಸರಾಸರಿ ಬಾಡಿಗೆಗೆ ಸ್ವಲ್ಪ ಕಡಿಮೆಯಾಗಿದೆ ಗುಂಪಿನಿಂದ ವಾರ್ಷಿಕ ಫಲಿತಾಂಶಗಳಿಗೆ ಆದರೆ ಆಸ್ತಿಗಳ ಮಾಲೀಕತ್ವದ ಬಾಡಿಗೆಗಳು ರಿಂದ ತಿಂಗಳಿಗೆ ಗಿಂತ ಕ್ಕೆ ಏರಿದೆ ಅರ್ಥಶಾಸ್ತ್ರಜ್ಞರ ರಾಯಿಟರ್ಸ್ ಸಮೀಕ್ಷೆಯ ಸರಾಸರಿ ಮುನ್ಸೂಚನೆಯು ಡಿಸೆಂಬರ್ ತ್ರೈಮಾಸಿಕದಲ್ಲಿ ವಾರ್ಷಿಕ ಆರ್ಥಿಕ ಬೆಳವಣಿಗೆಯನ್ನು ಹಿಂದಿನ ತ್ರೈಮಾಸಿಕದಲ್ಲಿ ಕ್ಕಿಂತ ಸ್ವಲ್ಪ ಹೆಚ್ಚಿಸಿದೆ ಗ್ರಾಮೀಣ ಬೇಡಿಕೆಯ ಖಾಸಗಿ ಬಳಕೆ ಮತ್ತು ಸರ್ಕಾರಿ ಖರ್ಚಿನಲ್ಲಿನ ಸಣ್ಣ ಏರಿಕೆಗೆ ಧನ್ಯವಾದಗಳು ಆರ್ಥಿಕತೆಯು ಚೇತರಿಕೆಯ ಕೆಲವು ಲಕ್ಷಣಗಳನ್ನು ತೋರಿಸಿದೆ ಹೆಚ್ಚಿನ ಸರ್ಕಾರಿ ಖರ್ಚು ಮತ್ತು ಬಾಹ್ಯ ಅಂಶಗಳಿಂದಾಗಿ ಡಿಸೆಂಬರ್ ತ್ರೈಮಾಸಿಕವು ಪ್ರಸಕ್ತ ತ್ರೈಮಾಸಿಕದಲ್ಲಿ ಮರುಕಳಿಸುವ ಅಪಾಯವನ್ನು ಎದುರಿಸುತ್ತಿದೆ ಮುಖ್ಯವಾಗಿ ಕರೋನವೈರಸ್ ಕಾರಣ ಎನ್ ಆರ್ ಭನುಮೂರ್ತಿ ಅವರು ನ್ಯಾಷನಲ್ ಇನ್ಸ್ಟಿಟ್ಯೂಟ್ ಆಫ್ ಪಬ್ಲಿಕ್ ಫೈನಾನ್ಸ್ ಮತ್ತು ಪಾಲಿಸಿ ಎನ್ಐಪಿಎಫ್ಪಿಯ ಅರ್ಥಶಾಸ್ತ್ರಜ್ಞ ದೆಹಲಿ ಮೂಲದ ಸರ್ಕಾರಿ ಅನುದಾನಿತ ಥಿಂಕ್ ಟ್ಯಾಂಕ್ ತನ್ನ ವಾರ್ಷಿಕ ಬಜೆಟ್ನಲ್ಲಿ ಈ ತಿಂಗಳ ಆರಂಭದಲ್ಲಿ ಸರ್ಕಾರವು ಮಾರ್ಚ್ ನಲ್ಲಿ ಕೊನೆಗೊಳ್ಳುವ ಪ್ರಸಕ್ತ ಹಣಕಾಸು ವರ್ಷದಲ್ಲಿ ಆರ್ಥಿಕ ಬೆಳವಣಿಗೆಯನ್ನು ವರ್ಷಗಳಷ್ಟು ಕಡಿಮೆ ಎಂದು ಅಂದಾಜಿಸಿದೆ ಕಳೆದ ಸೆಪ್ಟೆಂಬರ್ ನಲ್ಲಿ ಕಾರ್ಪೊರೇಟ್ ತೆರಿಗೆ ದರಗಳಲ್ಲಿನ ಕಡಿತ ಮತ್ತು ಸರ್ಕಾರದ ಖರ್ಚುಗಳನ್ನು ಹೆಚ್ಚಿಸುವ ಅನುಕೂಲಕರ ಮೂಲ ಪರಿಣಾಮದಿಂದ ಬೆಳವಣಿಗೆಯು ಕ್ರಮೇಣ ಹೆಚ್ಚಾಗುತ್ತದೆ ಎಂದು ವಿಶ್ಲೇಷಕರು ನಿರೀಕ್ಷಿಸಿದ್ದಾರೆ ಹಿಂದಿನ ಅಂದಾಜುಗಿಂತ ಗೋಲ್ಡ್ಮನ್ ಸ್ಯಾಚ್ಸ್ ಮಾರ್ಚ್ ತ್ರೈಮಾಸಿಕದಲ್ಲಿ ತನ್ನ ಬೆಳವಣಿಗೆಯ ಮುನ್ಸೂಚನೆಯನ್ನು ಕ್ಕೆ ಇಳಿಸಿತು ಆಫ್ ಭಯಂಕರವಾದ ಕೊರೊನಾವೈರಸ್ ರೋಗವು ದೇಶಕ್ಕೆ ಬರದಂತೆ ನೋಡಿಕೊಳ್ಳಲು ಫೆಡರಲ್ ಸರ್ಕಾರವು ಸಾಕಷ್ಟು ಕೆಲಸ ಮಾಡುತ್ತಿಲ್ಲ ಎಂದು ಸೆನೆಟ್ ಗುರುವಾರ ಟೀಕಿಸಿತು ಮೇಲ್ಕಂಡ ಶಾಸಕಾಂಗ ಕೊಠಡಿಯ ಸ್ಥಾನವು ಪಾಯಿಂಟ್ ಆಫ್ ಆರ್ಡರ್ ಅನ್ನು ಉಪನಾಯಕ ರಾಬರ್ಟ್ ಅಜಯ್ ಬೊರೊಫೈಸ್ ಅವರ ಗಮನ ಸೆಳೆಯಿತು ದಕ್ಷಿಣ ಆಫ್ರಿಕಾದಿಂದ ಹಿಂದಿರುಗಿದ ನಂತರ ನೈಜೀರಿಯನ್ ವಿಮಾನ ನಿಲ್ದಾಣದಲ್ಲಿ ಅವರು ಗಮನ ಸೆಳೆದರು ವಿಶೇಷವಾಗಿ ದೇಶಕ್ಕೆ ಬರುವ ಪ್ರವಾಸಿಗರನ್ನು ಪರೀಕ್ಷಿಸುವ ಕ್ಷೇತ್ರದಲ್ಲಿ ಹೆಚ್ಚಿನದನ್ನು ಮಾಡಲು ಸಂಬಂಧಿತ ಅಧಿಕಾರಿಗಳಿಗೆ ಕರೆ ನೀಡಿದ್ದಾರೆ ಸೆನೆಟ್ ಅಧ್ಯಕ್ಷ ಅಹ್ಮದ್ ಲಾವನ್ ಮಾತನಾಡಿ ಉತ್ತಮ ವೈದ್ಯಕೀಯ ಸೌಲಭ್ಯಗಳನ್ನು ಹೊಂದಿರುವ ಇತರ ದೇಶಗಳು ಮಾಡುತ್ತಿವೆ ರೋಗವನ್ನು ತಡೆಗಟ್ಟುವ ಎಲ್ಲವೂ ನೈಜೀರಿಯಾ ಅವರ ಮಾತಿನಲ್ಲಿ ಏನೂ ಮಾಡದೆ ನಿರತವಾಗಿದೆ ಕೊರೊನಾವೈರಸ್ನ ಬೆದರಿಕೆಗೆ ಪ್ರತಿಕ್ರಿಯಿಸಿ ಎಫ್ಜಿ ಸರ್ಕಾರವು ಈ ರೋಗವನ್ನು ನೈಜೀರಿಯಾ ತಲುಪುವುದನ್ನು ತಡೆಯಲು ಒಟ್ಟು ಮೀಟರ್ ಅನ್ನು ಬಿಡುಗಡೆ ಮಾಡಿದೆ ಇದು ಚೀನಾದ ಆಗ್ನೇಯದಲ್ಲಿ ಭುಗಿಲೆದ್ದ ಕೊರೋನವೈರಸ್ ಕ್ಕೂ ಹೆಚ್ಚು ಜನರನ್ನು ಬಲಿ ತೆಗೆದುಕೊಂಡಿದೆ ಯುರೋಪ್ ಮತ್ತು ಯುನೈಟೆಡ್ ಸ್ಟೇಟ್ಸ್ ಆಫ್ ಅಮೇರಿಕಾದಲ್ಲಿ ವರದಿಯಾಗಿದೆ ಮುಂಬೈ ಕಚ್ಚಾ ತೈಲ ಬೆಲೆಗಳನ್ನು ಸರಾಗಗೊಳಿಸುವ ಮತ್ತು ಗ್ರೀನ್ ಬ್ಯಾಕ್ ಸಾಗರೋತ್ತರ ದುರ್ಬಲಗೊಂಡಿರುವ ಮಧ್ಯೆ ಗುರುವಾರ ಭಾರತೀಯ ಡಾಲರ್ ಎದುರು ಭಾರತೀಯ ರೂಪಾಯಿ ಮೌಲ್ಯ ಪೈಸೆ ಏರಿಕೆ ಕ್ಕೆ ತಲುಪಿದೆ ವಿದೇಶಿ ವಿದೇಶೀ ವಿನಿಮಯ ವ್ಯಾಪಾರಿಗಳು ವಿದೇಶಿ ನಿಧಿಯ ಹೊರಹರಿವು ಮತ್ತು ದೃ ವಾದ ಲಾಭಗಳನ್ನು ನಿರ್ಬಂಧಿಸಿರುವುದರಿಂದ ರೂಪಾಯಿ ಕಿರಿದಾದ ವ್ಯಾಪ್ತಿಯಲ್ಲಿ ಕ್ರೋ ೀಕರಿಸಲ್ಪಟ್ಟಿದೆ ಎಂದು ಹೇಳಿದರು ದೇಶೀಯ ಷೇರುಗಳಲ್ಲಿ ಮಾರಾಟ ಇಂಟರ್ಬ್ಯಾಂಕ್ ವಿದೇಶಿ ವಿನಿಮಯ ಮಾರುಕಟ್ಟೆಯಲ್ಲಿ ಸ್ಥಳೀಯ ಕರೆನ್ಸಿ ಡಾಲರ್ಗೆ ಯುಎಸ್ ಡಾಲರ್ ರೂಪಾಯಿಗೆ ಕಿರಿದಾದ ವ್ಯಾಪ್ತಿಯಲ್ಲಿ ಕ್ರೋ ೀಕರಿಸಲ್ಪಟ್ಟಿತು ಆದರೆ ಯುಎಸ್ ಡಾಲರ್ ವಿರುದ್ಧ ಸ್ವಲ್ಪ ಣಾತ್ಮಕ ಪಕ್ಷಪಾತದೊಂದಿಗೆ ವಹಿವಾಟು ನಡೆಸಿತು ಗೌರಂಗ್ ಸೋಮಯ್ಯ ವಿದೇಶೀ ವಿನಿಮಯ ಬುಲಿಯನ್ ವಿಶ್ಲೇಷಕ ಮೋತಿಲಾಲ್ ಓಸ್ವಾಲ್ ಫೈನಾನ್ಷಿಯಲ್ ಸರ್ವೀಸಸ್ ಸೋಮಯ್ಯ ಅವರು ದೇಶೀಯ ಮುಂಭಾಗದ ಬೆಳವಣಿಗೆಯ ಸಂಖ್ಯೆಯನ್ನು ನಾಳೆ ಬಿಡುಗಡೆ ಮಾಡಲಾಗುವುದು ಮತ್ತು ನಿರೀಕ್ಷಿತ ಸಂಖ್ಯೆಗಿಂತ ದುರ್ಬಲವಾಗಿ ರೂಪಾಯಿ ಮೌಲ್ಯವನ್ನು ಒತ್ತಡದಲ್ಲಿರಿಸಿಕೊಳ್ಳಬಹುದು ಎಂದು ಯುಎಸ್ ತಿಳಿಸಿದೆ ಕರೋನವೈರಸ್ ಏಕಾಏಕಿ ಉಂಟಾದ ಪರಿಣಾಮವು ಹೂಡಿಕೆದಾರರನ್ನು ಬೆಚ್ಚಿ ಬೀಳಿಸುತ್ತಿರುವುದರಿಂದ ವಾಲ್ ಸ್ಟ್ರೀಟ್ ನಲ್ಲಿನ ಫ್ಯೂಚರ್ಸ್ ಗುರುವಾರ ಸತತ ಆರನೇ ದಿನದ ನಷ್ಟವನ್ನು ಸೂಚಿಸಿದೆ ಜಪಾನ್ ನಲ್ಲಿನ ಏಷ್ಯಾದ ಷೇರುಗಳು ಶೇಕಡಾ ಕ್ಕಿಂತಲೂ ಹೆಚ್ಚು ಕುಸಿದವು ಶೇಕಡಾ ಕ್ಕಿಂತಲೂ ಹೆಚ್ಚು ಚಿನ್ನದ ಗುಲಾಬಿ ಸಿಗ್ನಲಿಂಗ್ ಜಾಗತಿಕ ಹೂಡಿಕೆದಾರರಲ್ಲಿ ಆತಂಕವನ್ನು ಮುಂದುವರೆಸಿದೆ ನೆಸ್ಲ್ ದೈತ್ಯ ಸ್ವಿಸ್ ಮೂಲದ ಆಹಾರ ಕಂಪನಿ ತನ್ನ ಕಾರ್ಮಿಕರಿಗಾಗಿ ಮಾರ್ಚ್ ಮಧ್ಯದವರೆಗೆ ಎಲ್ಲಾ ಅಂತರರಾಷ್ಟ್ರೀಯ ವ್ಯಾಪಾರ ಪ್ರವಾಸಗಳನ್ನು ಸ್ಥಗಿತಗೊಳಿಸುವುದಾಗಿ ಹೇಳಿದೆ ಫೈಲ್ ಫೋಟೋ ಅಂತರರಾಷ್ಟ್ರೀಯ ಬ್ಯಾಚ್ ಅಂತರರಾಷ್ಟ್ರೀಯ ಒಲಿಂಪಿಕ್ ಸಮಿತಿಯ ಅಧ್ಯಕ್ಷ ಐಒಸಿ ಜನವರಿ ರ ಲೌಸನ್ನೆ ಸ್ವಿಟ್ಜರ್ ಲ್ಯಾಂಡ್ ನಲ್ಲಿ ನಡೆದ ನೇ ಅಧಿವೇಶನದ ನಂತರ ಸುದ್ದಿಗೋಷ್ಠಿಯಲ್ಲಿ ಪಾಲ್ಗೊಂಡಿದ್ದಾರೆ ರೆನಟರ್ಸ್ ಡೆನಿಸ್ ಬಾಲಿಬೌಸ್ ಟೊಕಿಯೊ ರಾಯಿಟರ್ಸ್ ಅಂತರರಾಷ್ಟ್ರೀಯ ಒಲಿಂಪಿಕ್ ಸಮಿತಿಯು ಟೋಕಿಯೊ ಒಲಿಂಪಿಕ್ಸ್ ಅನ್ನು ನಿಗದಿತ ಸಮಯಕ್ಕೆ ನಡೆಸಲು ಸಂಪೂರ್ಣ ಬದ್ಧವಾಗಿದೆ ಜುಲೈ ರಿಂದ ಟೋಕಿಯೊದಲ್ಲಿ ನಡೆಯುವ ಯಶಸ್ವಿ ಒಲಿಂಪಿಕ್ ಕ್ರೀಡಾಕೂಟಕ್ಕೆ ಐಒಸಿ ಸಂಪೂರ್ಣ ಬದ್ಧವಾಗಿದೆ ಎಂದು ಬ್ಯಾಚ್ ಜಪಾನಿನ ಮಾಧ್ಯಮಗಳಿಗೆ ತಿಳಿಸಿದೆ ಎಂದು ಗುರುವಾರ ಕ್ಯೋಡೋ ಸುದ್ದಿ ಸಂಸ್ಥೆ ಬ್ಯಾಚ್ ಜಪಾನಿನ ಮಾಧ್ಯಮಕ್ಕೆ ತಿಳಿಸಿದೆ ಲೆಜೆಂಡರಿ ರಾಪ್ ಗ್ರೂಪ್ ಪಬ್ಲಿಕ್ ಎನಿಮಿ ಹಾಸ್ಯನಟ ಸಾರಾ ಸಿಲ್ವರ್ ಮನ್ ಮತ್ತು ನಟ ಡಿಕ್ ವ್ಯಾನ್ ಡೈಕ್ ಅವರೊಂದಿಗೆ ಲಾಸ್ ಏಂಜಲೀಸ್ ನ ರ್ಯಾಲಿಯಲ್ಲಿ ಸೇನ್ ಬರ್ನಿ ಸ್ಯಾಂಡರ್ಸ್ ಬರ್ನಿ ಸ್ಯಾಂಡರ್ಸ್ ಡಿಎನ್ ಸಿ ಹಗರಣದ ಪ್ರಯತ್ನದ ನಂತರ ಸೈಬರ್ ಸುರಕ್ಷತೆಯ ಬಗ್ಗೆ ಅಭಿಯಾನಗಳನ್ನು ಎಚ್ಚರಿಸಿದೆ ರಾತ್ರಿಯ ಆರೋಗ್ಯ ರಕ್ಷಣೆ ಪೆಲೋಸಿ ಪ್ಯಾನಿಕ್ ರಚಿಸಲು ಪ್ರಯತ್ನಿಸುತ್ತಾನೆ ಎಂದು ಆರೋಪಿಸಿ ಸಿಡಿಸಿ ಅಪರಿಚಿತ ಮೂಲದ ಪ್ರಕರಣವನ್ನು ದೃ ಪಡಿಸುತ್ತದೆ ಷುಮರ್ ಬಿಲಿಯನ್ ತುರ್ತು ನಿಧಿಯನ್ನು ಬಯಸುತ್ತಾನೆ ಬಿಡೆನ್ ಎಸ್ ಸಿಯಲ್ಲಿ ಮುನ್ನಡೆ ಸಾಧಿಸಲು ತೋರುತ್ತಾನೆ ರಾಜಕೀಯವಾಗಿ ಚಾರ್ಜ್ ಮಾಡಿದ ಸಾಹಿತ್ಯಕ್ಕೆ ಹೆಸರುವಾಸಿಯಾದ ರಾಪ್ ಗುಂಪು ಕ್ಯಾಲಿಫೋರ್ನಿಯಾದ ಮತದಾರರಿಗೆ ಎರಡು ದಿನಗಳ ಮೊದಲು ಪ್ರದರ್ಶನ ನೀಡಲಿದೆ ಅವರ ಪ್ರಾಥಮಿಕ ಮತಪತ್ರಗಳು ಸ್ಯಾಂಡರ್ಸ್ ಅಭಿಯಾನವು ಸಾರ್ವಜನಿಕ ಎನಿಮಿಯ ರ ಏಕಗೀತೆ ಫೈಟ್ ದಿ ಪವರ್ ಅನ್ನು ಆಹ್ವಾನಿಸುವ ಪೋಸ್ಟರ್ ನೊಂದಿಗೆ ಈವೆಂಟ್ ಅನ್ನು ಘೋಷಿಸಿತು ಅದೇ ವರ್ಷ ಸ್ಪೈಕ್ ಲೀ ಚಲನಚಿತ್ರ ಡು ದಿ ರೈಟ್ ಥಿಂಗ್ ನ ವಿಷಯವಾಗಿ ಬಳಸಲ್ಪಟ್ಟಿತು ಸಾರ್ವಜನಿಕ ಎನಿಮಿ ಒಂದು ಪ್ರದರ್ಶನ ನೀಡುವ ಇತ್ತೀಚಿನ ಸಂಗೀತ ಕಾರ್ಯ ವರ್ಮೊಂಟ್ ಸೆನೆಟರ್ ಮತ್ತು ಡೆಮಾಕ್ರಟಿಕ್ ಮುಂಚೂಣಿಯಲ್ಲಿರುವ ವ್ಯಾನ್ ಡೈಕ್ ಅವರ ರ್ಯಾಲಿ ಈ ತಿಂಗಳ ಆರಂಭದಲ್ಲಿ ಸ್ಯಾಂಡರ್ಸ್ ಗೆ ಅನುಮೋದನೆ ನೀಡಿತು ಅಭ್ಯರ್ಥಿಗೆ ಜಾಹೀರಾತು ಮತ್ತು ಹಳೆಯ ಮತದಾರರನ್ನು ಬೆಂಬಲಿಸುವಂತೆ ಒತ್ತಾಯಿಸುವುದು ಗೆಟ್ಟಿ ಇಮೇಜಸ್ ಮೂಲಕ ಫೋಟೊ ಎಎಫ್ ಪಿ ಸಿಂಗಾಪುರ ಆರೋಗ್ಯ ಸಚಿವಾಲಯವು ಫೆಬ್ರವರಿ ರ ಗುರುವಾರ ಸಿಂಗಪುರದಲ್ಲಿ ಕೋವಿಡ್ ಕರೋನವೈರಸ್ ನ ಮೂರು ಹೊಸ ಪ್ರಕರಣಗಳನ್ನು ದೃ ಪಡಿಸಿದೆ ಒಟ್ಟು ಎಂಒಎಚ್ ಗೆ ತಂದು ಸಿಂಗಪುರದವರಿಗೆ ಹುಬೈ ಪ್ರಾಂತ್ಯದ ಎಲ್ಲಾ ಪ್ರಯಾಣವನ್ನು ವುಹಾನ್ ನಲ್ಲಿ ಮುಂದೂಡಲು ಸಿಂಗಪುರದವರಿಗೆ ತನ್ನ ಸಲಹೆಯನ್ನು ಪುನರುಚ್ಚರಿಸಿತು ಚೀನಾ ಮುಖ್ಯ ಭೂಭಾಗಕ್ಕೆ ಎಲ್ಲಾ ಅನಿವಾರ್ಯವಲ್ಲದ ಪ್ರಯಾಣಗಳು ಕಳೆದ ಭಾನುವಾರ ದಕ್ಷಿಣ ಕೊರಿಯಾದ ಡೇಗು ನಗರ ಮತ್ತು ಚಿಯೊಂಗ್ಡೊ ಕೌಂಟಿಗೆ ಅನಿವಾರ್ಯವಲ್ಲದ ಪ್ರಯಾಣವನ್ನು ತಪ್ಪಿಸಲು ಸಾರ್ವಜನಿಕರಿಗೆ ಸಲಹೆ ನೀಡಿತು ದೇಶದಲ್ಲಿ ಕರೋನವೈರಸ್ ಪ್ರಕರಣಗಳ ಸಂಖ್ಯೆಯಲ್ಲಿ ಹೆಚ್ಚಳವಾದ ನಂತರ ಜಾಗತಿಕ ತುರ್ತು ಪರಿಸ್ಥಿತಿ ಘೋಷಿಸಿತು ವಿಶ್ವ ಆರೋಗ್ಯ ಸಂಸ್ಥೆ ಚೀನಾ ಮುಖ್ಯ ಭೂಭಾಗವನ್ನು ಮೀರಿ ಪ್ರದೇಶಗಳಿಗೆ ಹರಡಿತು ರಲ್ಲಿ ಸಾವುಗಳು ಸೇರಿದಂತೆ ಸೋಂಕುಗಳು ದೃ ಪಟ್ಟಿದೆ ದಕ್ಷಿಣ ಚೀನಾ ಮುಖ್ಯ ಭೂಭಾಗದ ನಂತರ ದೃ ಪಡಿಸಿದ ಪ್ರಕರಣಗಳಲ್ಲಿ ಎರಡನೇ ಸ್ಥಾನದಲ್ಲಿದೆ ತನ್ನ ರ ಹರೆಯದಲ್ಲಿರುವ ವ್ಯಕ್ತಿ ಸ್ವಯಂ ಪ್ರತ್ಯೇಕತೆಯಲ್ಲಿದ್ದಾನೆ ಎಂದು ಒಂಟಾರಿಯೊ ಆರೋಗ್ಯ ಅಧಿಕಾರಿಗಳು ಗುರುವಾರ ಬೆಳಿಗ್ಗೆ ಬಿಡುಗಡೆ ಮಾಡಿದ ಸುದ್ದಿ ಪ್ರಕಟಣೆಯಲ್ಲಿ ತಿಳಿಸಿದ್ದಾರೆ ನಾವು ಈಗ ಟೊರೊಂಟೊ ಸಾರ್ವಜನಿಕ ಆರೋಗ್ಯದೊಂದಿಗೆ ಕೆಲಸ ಮಾಡುತ್ತಿದ್ದೇವೆ ಮತ್ತು ಅವರ ಸ್ವಯಂ ಪ್ರತ್ಯೇಕತೆಯ ಅವಧಿಯಲ್ಲಿ ಈ ವ್ಯಕ್ತಿಯೊಂದಿಗೆ ನಿಯಮಿತವಾಗಿ ಸಂಪರ್ಕದಲ್ಲಿರುತ್ತೇವೆ ಆರೋಗ್ಯದ ವೈದ್ಯಕೀಯ ಅಧಿಕಾರಿ ಡಾ ಡೇವಿಡ್ ವಿಲಿಯಮ್ಸ್ ಅವರು ಬುಧವಾರ ಅಧಿಕಾರಿಗಳು ಇರಾನ್ ಗೆ ಪ್ರಯಾಣದ ಇತಿಹಾಸ ಮತ್ತು ಸನ್ನಿವಿ ಬ್ರೂಕ್ ಆರೋಗ್ಯ ವಿಜ್ಞಾನ ಕೇಂದ್ರದ ತುರ್ತು ವಿಭಾಗಕ್ಕೆ ಹಾಜರಾಗಿದ್ದಾರೆ ಎಂದು ಅಧಿಕಾರಿಗಳು ಘೋಷಿಸಿದ್ದಾರೆ ಮತ್ತು ಫೆಬ್ರವರಿ ರಂದು ಗೆ ಅನುಗುಣವಾದ ಲಕ್ಷಣಗಳು ಬುಧವಾರ ಅಧಿಕಾರಿಗಳು ಇಬ್ಬರು ಸದಸ್ಯರನ್ನು ಸೇರಿಸಿದ್ದಾರೆ ಮಹಿಳೆಯರ ಕುಟುಂಬವು ಮನೆಯಲ್ಲಿ ಗುರುವಾರ ತನ್ನ ಅಧಿಕಾರಿಗಳೊಂದಿಗೆ ಸ್ವಯಂ ಪ್ರತ್ಯೇಕತೆಯಲ್ಲಿದ್ದರು ಅವರು ಸಂಪರ್ಕ ಪತ್ತೆಹಚ್ಚುವಿಕೆ ಮತ್ತು ಪ್ರಕರಣ ನಿರ್ವಹಣೆಯಲ್ಲಿ ಸಕ್ರಿಯವಾಗಿ ತೊಡಗಿಸಿಕೊಂಡಿದ್ದಾರೆ ಎಂದು ಹೇಳಿದರು ಕಾಯಿಲೆಗೆ ತುತ್ತಾದ ವಯಸ್ಕರಲ್ಲಿ ರಿಮೆಡೆಸಿವಿರ್ನ ಸುರಕ್ಷತೆ ಮತ್ತು ಪರಿಣಾಮಕಾರಿತ್ವವನ್ನು ಗಿಲ್ಯಾಡ್ನ ಕ್ಲಿನಿಕಲ್ ಅಧ್ಯಯನಗಳು ನೋಡುತ್ತವೆ ಇದು ವೈರಸ್ ಗಿಲಿಯಡ್ನ ಪ್ರಾಥಮಿಕ ಗಮನವನ್ನು ಮತ್ತು ಈ ಪೂರಕ ಶ್ರೇಣಿಗೆ ಸಂಭಾವ್ಯ ಚಿಕಿತ್ಸೆಯಾಗಿ ರೆಮೆಡೆಸಿವಿರ್ನ ಸುರಕ್ಷತೆ ಮತ್ತು ಪರಿಣಾಮಕಾರಿತ್ವವನ್ನು ವೇಗವಾಗಿ ನಿರ್ಧರಿಸುತ್ತದೆ ಕಡಿಮೆ ಸಮಯದ ಅವಧಿಯಲ್ಲಿ ಷಧದ ಪ್ರೊಫೈಲ್ ನಲ್ಲಿ ಜಾಗತಿಕವಾಗಿ ಹೆಚ್ಚು ವಿಸ್ತಾರವಾದ ದತ್ತಾಂಶವನ್ನು ನಮಗೆ ನೀಡಲು ಅಧ್ಯಯನಗಳು ಸಹಾಯ ಮಾಡುತ್ತವೆ ನ್ಯೂ ಇಂಗ್ಲೆಂಡ್ ನಲ್ಲಿ ಪ್ರಕಟವಾದ ಒಂದು ಅಧ್ಯಯನದ ಪ್ರಕಾರ ವೈರಸ್ ನೊಂದಿಗೆ ಮೊದಲ ಅಮೆರಿಕನ್ ರೋಗಿಯ ಚಿಕಿತ್ಸೆಯಲ್ಲಿ ರೆಮ್ ಡೆಸಿವಿರ್ ಅನ್ನು ಬಳಸಲಾಗಿದೆ ಎಂದು ಪಾರ್ಸಿ ಹೇಳಿದರು ಜರ್ನಲ್ ಆಫ್ ಮೆಡಿಸಿನ್ ಸಂಶೋಧಕರು ಅಧ್ಯಯನದಲ್ಲಿ ಹೇಳಿದ ಪ್ರಕಾರ ಎನ್ ಸಿಒವಿ ಸೋಂಕಿನ ರೋಗಿಗಳ ಚಿಕಿತ್ಸೆಗಾಗಿ ರಿಮೆಡೆಸಿವಿರ್ ಮತ್ತು ಇನ್ನಾವುದೇ ತನಿಖಾ ಏಜೆಂಟ್ ಗಳ ಸುರಕ್ಷತೆ ಮತ್ತು ಪರಿಣಾಮಕಾರಿತ್ವವನ್ನು ನಿರ್ಧರಿಸಲು ಯಾದೃಚ್ ಿಕ ನಿಯಂತ್ರಿತ ಪ್ರಯೋಗಗಳು ಅಗತ್ಯವಾಗಿವೆ ನೀವು ಎಸ್ ಅಧ್ಯಯನವನ್ನು ಪ್ರಕಟಿಸಿದೆ ನ್ಯಾಷನಲ್ ಇನ್ ಸ್ಟಿಟ್ಯೂಟ್ ಆಫ್ ನ್ಯಾಷನಲ್ ಇನ್ ಸ್ಟಿಟ್ಯೂಟ್ ನ ನಿರ್ದೇಶಕ ಡಾ ಅಲರ್ಜಿ ಮತ್ತು ಸಾಂಕ್ರಾಮಿಕ ರೋಗಗಳು ಕೆಲವು ರೋಗಿಗಳಿಗೆ ರಿಮೆಡೆಸಿವಿರ್ ಅನ್ನು ನೀಡಲಾಗಿದೆ ಎಂದು ಹೇಳಿದರು ಆದರೆ ನಾವು ಮಾಡುತ್ತೇವೆ ಇದು ಕ್ಲಿನಿಕಲ್ ಫಲಿತಾಂಶಗಳನ್ನು ಸುಧಾರಿಸುತ್ತದೆ ಎಂದು ಸೂಚಿಸಲು ಘನ ಡೇಟಾವನ್ನು ಹೊಂದಿಲ್ಲ ನ್ಯೂಯಾರ್ಕ್ ಕೌಂಟಿಯಲ್ಲಿ ಹೊಸ ಕೊರೊನಾವೈರಸ್ ಭಯದ ಮೇಲೆ ಪ್ರತ್ಯೇಕತೆಯಲ್ಲಿ ಸ್ಕಾಟ್ ಹೆನ್ಸ್ ಗೆಟ್ಟಿ ಇಮೇಜಸ್ ನ್ಯೂಯಾರ್ಕ್ ರಾಜ್ಯದ ನಸ್ಸೌ ಕೌಂಟಿಯಲ್ಲಿ ಎಂಭತ್ತು ಮೂರು ಜನರು ಸ್ವಯಂಪ್ರೇರಿತ ಸಂಪರ್ಕತಡೆಯಲ್ಲಿದ್ದಾರೆ ಹೊಸ ಕರೋನವೈರಸ್ ಅಧಿಕಾರಿಗಳ ಬಗ್ಗೆ ಕಳವಳದಿಂದಾಗಿ ನಾವು ತಮ್ಮನ್ನು ಪ್ರತ್ಯೇಕಿಸಲು ಕೇಳಿಕೊಳ್ಳುತ್ತಿದ್ದೇವೆ ನಾಸಾವು ಕೌಂಟಿ ಆರೋಗ್ಯ ಆಯುಕ್ತರು ಡಾ ಲಾರೆನ್ಸ್ ಐಸೆನ್ ಸ್ಟೈನ್ ಬುಧವಾರ ಪತ್ರಿಕಾಗೋಷ್ಠಿಯಲ್ಲಿ ಕೌಂಟಿ ಆರೋಗ್ಯ ಅಧಿಕಾರಿಗಳು ತಮ್ಮ ತಾಪಮಾನವನ್ನು ಪರೀಕ್ಷಿಸಲು ಪ್ರತಿದಿನವೂ ನಿರ್ಬಂಧಿತರಾಗಿರುವವರ ಮೇಲೆ ನಿಗಾ ಇಡುತ್ತಾರೆ ಮತ್ತು ಕ್ಯಾರೆಂಟೈನ್ ಅನ್ನು ಸ್ವಯಂಪ್ರೇರಣೆಯಿಂದ ಪಾಲಿಸುವ ಮಹತ್ವವನ್ನು ಚರ್ಚಿಸಲು ನಸ್ಸೌ ಕೌಂಟಿ ಕಾರ್ಯನಿರ್ವಾಹಕ ಲಾರಾ ಕುರ್ರನ್ ಸುದ್ದಿಗಾರರಿಗೆ ತಿಳಿಸಿದರು ವೈರಸ್ ಕೌಂಟಿಯಲ್ಲಿ ಹರಡಲು ಪ್ರಾರಂಭಿಸಿದರೆ ರೋಗದ ತಡೆಗಟ್ಟುವಿಕೆಯು ಜ್ವರ ಕಾಲದಲ್ಲಿ ಶಿಫಾರಸು ಮಾಡಿದ ಉತ್ತಮ ನೈರ್ಮಲ್ಯ ಅಭ್ಯಾಸಗಳನ್ನು ಒಳಗೊಂಡಿರುತ್ತದೆ ಎಂದು ಅನಾರೋಗ್ಯ ಅಧಿಕಾರಿಗಳು ತಪ್ಪಿಸಿಕೊಳ್ಳುವುದು ಮತ್ತು ಆಗಾಗ್ಗೆ ಕೈ ತೊಳೆಯುವುದು ಸೇರಿದಂತೆ ಆಲಿ ಸಾಂಗ್ ರಾಯಿಟರ್ಸ್ ಯು ಎಸ್ ವಿಮಾನಯಾನ ಸಂಸ್ಥೆಗಳು ಮತ್ತು ಹೋಟೆಲ್ ಗಳು ಗ್ರಾಹಕರಿಗೆ ಇಟಲಿ ಸೇರಿದಂತೆ ಬೆಳೆಯುತ್ತಿರುವ ದೇಶಗಳ ಪಟ್ಟಿಗೆ ಪ್ರಯಾಣವನ್ನು ಮರುಪರಿಶೀಲಿಸುವ ಆಯ್ಕೆಗಳನ್ನು ವಿಸ್ತರಿಸುತ್ತಿವೆ ಏಕೆಂದರೆ ಚೀನಾದ ಹೊರಗೆ ಕರೋನವೈರಸ್ ಪ್ರಕರಣಗಳು ಹೆಚ್ಚಾದವು ಮತ್ತು ಜಾಗತಿಕ ಸಾಂಕ್ರಾಮಿಕ ಭೀತಿಯನ್ನು ಹುಟ್ಟುಹಾಕಿದೆ ಯುನೈಟೆಡ್ ಸ್ಟೇಟ್ಸ್ ಫೆಬ್ರವರಿ ರಂದು ಅಮೆರಿಕನ್ನರಿಗೆ ತಯಾರಿ ಪ್ರಾರಂಭಿಸಲು ತಿಳಿಸಿದೆ ಇರಾನ್ ದಕ್ಷಿಣ ಕೊರಿಯಾ ಮತ್ತು ಇಟಲಿಯಲ್ಲಿ ಏಕಾಏಕಿ ಏಕಾಏಕಿ ಹರಡುತ್ತಿದ್ದಂತೆ ದೇಶದೊಳಗೆ ಹರಡುವ ಕೊರೊನಾವೈರಸ್ ಜಾಗತಿಕ ಪ್ರಯಾಣದ ಬೇಡಿಕೆಗೆ ತುತ್ತಾಗುವ ಆತಂಕವನ್ನು ಹೆಚ್ಚಿಸಿದೆ ದಕ್ಷಿಣ ಕೊರಿಯಾ ಜಪಾನ್ ಮತ್ತು ಇಟಲಿಯ ಪ್ರಯಾಣಿಕರು ತಮ್ಮ ಹೋಟೆಲ್ ಬುಕಿಂಗ್ ಅನ್ನು ರದ್ದುಗೊಳಿಸಲು ಅಥವಾ ಬದಲಾಯಿಸಲು ಉಚಿತವಾಗಿ ನೀತಿಯನ್ನು ವಿಸ್ತರಿಸಲು ಅವಕಾಶ ನೀಡುತ್ತದೆ ಎಂದು ಹಯಾಟ್ ಹೊಟೇಲ್ ಹೇಳಿದೆ ಮುಖ್ಯ ಭೂಭಾಗದಿಂದ ಚೀನಾ ಹಾಂಗ್ ಕಾಂಗ್ ಮಕಾವು ಮತ್ತು ತೈವಾನ್ ಪ್ರಮುಖ ವಿಮಾನಯಾನ ಸಂಸ್ಥೆಗಳು ದಕ್ಷಿಣ ಕೊರಿಯಾಕ್ಕೆ ಹಾರಾಟದ ಬದಲಾವಣೆಯ ಶುಲ್ಕವನ್ನು ತೆಗೆದುಹಾಕುವ ಪ್ರಯಾಣ ಮನ್ನಾವನ್ನು ಬಿಡುಗಡೆ ಮಾಡಿವೆ ಕಾಂಗ್ ಮಕಾವು ಮತ್ತು ತೈವಾನ್ ಆದಾಗ್ಯೂ ವಿಶ್ವ ಆರೋಗ್ಯ ಸಂಸ್ಥೆ ಡಬ್ಲ್ಯುಎಚ್ ಒ ಜನರು ಕರೋನವೈರಸ್ ವೈರಸ್ ನಿಂದಾಗಿ ಆಸ್ಟ್ರೇಲಿಯಾದ ಗ್ರ್ಯಾಂಡ್ ಪ್ರಿಕ್ಸ್ ನಿರ್ಧಾರವನ್ನು ತೆಗೆದುಕೊಳ್ಳುವಂತೆ ಎಚ್ಚರಿಸಿದ್ದಾರೆ ಇನ್ಫ್ಲುಯೆನ್ಸವು ವರ್ಷಕ್ಕೆ ಸಾವಿರಾರು ಸಾವಿಗೆ ಕಾರಣವಾಗಬಹುದು ಎಂದು ಆಕ್ಸ್ ಫರ್ಡ್ ವಿಶ್ವವಿದ್ಯಾಲಯವು ರಿಂದ ರಲ್ಲಿ ಯುಕೆಯಲ್ಲಿ ಮಾತ್ರ ಸಾವುಗಳು ಸಂಭವಿಸಿವೆ ಎಂದು ತಿಳಿಸಿದೆ ಜ್ವರಕ್ಕೆ ಸಂಬಂಧಿಸಿದಂತೆ ವಿಶ್ವ ಆರೋಗ್ಯ ಸಂಸ್ಥೆ ಡಬ್ಲ್ಯುಎಚ್ ಒ ಅಂದಾಜಿನ ಪ್ರಕಾರ ಜ್ವರದಿಂದಾಗಿ ಜಗತ್ತಿನಾದ್ಯಂತ ವಾರ್ಷಿಕವಾಗಿ ಸರಾಸರಿ ಜನರು ಸಾಯುತ್ತಾರೆ ಅಕ್ಟೋಬರ್ ನಿಂದ ಮಾತ್ರ ಯುಎಸ್ ನಲ್ಲಿ ಜನರು ಫ್ಲೂ ಸಮಸ್ಯೆಯಿಂದ ಸಾವನ್ನಪ್ಪಿದ್ದಾರೆ ಇದು ಒಬ್ಬ ತಜ್ಞರು ಕರೋನವೈರಸ್ ಅನ್ನು ವಿವರಿಸುತ್ತದೆ ವಾಂಡರ್ಬಿಲ್ಟ್ ಯೂನಿವರ್ಸಿಟಿ ಮೆಡಿಕಲ್ ಸೆಂಟರ್ನ ಲಸಿಕೆ ತಜ್ಞ ವಿಲಿಯಂ ಶಾಫ್ನರ್ ಕೈಸರ್ ಹೆಲ್ತ್ ನ್ಯೂಸ್ಗೆ ಈ ಹೊಸ ಕೊರೊನಾವೈರಸ್ ಮತ್ತು ಇನ್ಫ್ಲುಯೆನ್ಸದ ಸಾಪೇಕ್ಷ ಅಪಾಯದ ಬಗ್ಗೆ ನಾವು ಯೋಚಿಸಿದಾಗ ಯಾವುದೇ ಹೋಲಿಕೆ ಇಲ್ಲ ಈ ವಾರ ಲ್ಯಾಟಿನ್ ಅಮೆರಿಕದ ವೈರಸ್ ಪ್ರಕರಣವನ್ನು ಬ್ರೆಜಿಲ್ ದೃ ಪಡಿಸುವುದರೊಂದಿಗೆ ಮಾರಣಾಂತಿಕ ರೋಗವು ಈಗ ಚೀನಾದ ವುಹಾನ್ ನಿಂದ ಹರಡಿದ ನಂತರ ಭೂಮಿಯ ಮೂಲೆ ಮೂಲೆಗೆ ತಲುಪಿದೆ ವೈರಸ್ ಗೆ ಹೇಗೆ ಸಿದ್ಧಪಡಿಸುವುದು ಇನ್ನಷ್ಟು ಇತ್ತೀಚಿನ ಕರೋನವೈರಸ್ ನವೀಕರಣಗಳನ್ನು ಅನುಸರಿಸಿ ಈ ವಾರ ಹೊಸ ಪ್ರಕರಣಗಳ ಸಂಖ್ಯೆ ಚೀನಾದ ಹೊರಗಿನ ವೈರಸ್ ಮೊದಲ ಬಾರಿಗೆ ದೇಶದೊಳಗಿನವರನ್ನು ಮೀರಿದೆ ವೈರಸ್ ಹೊರಬರುವುದನ್ನು ತಡೆಯುವ ಉದ್ದೇಶದಿಂದ ವಿಶ್ವದ ಇತರ ದೇಶಗಳು ಚೀನಾದಿಂದ ವಿಮಾನ ಹಾರಾಟವನ್ನು ನಿಷೇಧಿಸಿದ ನಂತರ ಬಂದಿದೆ ಹೊಸ ವೈರಸ್ ಕ್ಕೂ ಹೆಚ್ಚು ಜನರಿಗೆ ಸೋಂಕು ತಗುಲಿತು ಮತ್ತು ಪ್ರಪಂಚದಾದ್ಯಂತ ಜನರನ್ನು ಕೊಂದಿದೆ ಡಿಸೆಂಬರ್ ಅಂತ್ಯದಲ್ಲಿ ಚೀನಾದ ಹುಬೈ ಪ್ರಾಂತ್ಯದಲ್ಲಿ ಉತ್ತರ ಇಟಲಿ ದಕ್ಷಿಣ ಕೊರಿಯಾ ಜಪಾನ್ ಮತ್ತು ಇರಾನ್ ಗೆ ವಿಶೇಷವಾಗಿ ತೀವ್ರ ಪೆಟ್ಟು ಬಿದ್ದಿದೆ ಎಂದು ಸೇಂಟ್ ಥಾಮಸ್ ಹೇಳಿದ್ದಾರೆ ಎಲ್ಲಾ ಶಾಲೆಗಳಂತೆ ನಾವು ಕೋವಿಡ್ ರ ಹರಡುವಿಕೆಗೆ ಸಂಬಂಧಿಸಿದ ಅಪಾಯಗಳನ್ನು ಬಹಳ ಗಂಭೀರವಾಗಿ ಪರಿಗಣಿಸುತ್ತಿದ್ದೇವೆ ಮತ್ತು ಈ ನಿಟ್ಟಿನಲ್ಲಿ ನಾವು ಸರ್ಕಾರವನ್ನು ಅನುಸರಿಸುತ್ತಿದ್ದೇವೆ ಸೋಂಕು ತಡೆಗಟ್ಟುವಿಕೆ ಮತ್ತು ಪ್ರಕರಣ ನಿರ್ವಹಣೆಯ ಕುರಿತಾದ ಪತ್ರಕ್ಕೆ ಸೂಚನೆಗಳು ಇದರಲ್ಲಿ ಕೆಲವು ಸಿಬ್ಬಂದಿ ಅಥವಾ ವಿದ್ಯಾರ್ಥಿಗಳು ಒಡ್ಡಿಕೊಂಡಿದ್ದಾರೆ ಎಂದು ಶಂಕಿಸಲಾಗಿದೆ ವೈರಸ್ ಅಥವಾ ಯಾವುದೇ ರೋಗಲಕ್ಷಣಗಳನ್ನು ತೋರಿಸುತ್ತದೆ ಏರೋ ಇಂಡಿಯಾ ಜೂನ್ ರವರೆಗೆ ಚೀನಾ ಮತ್ತು ಹಾಂಗ್ ಕಾಂಗ್ ಗೆ ಹಾರಾಟವನ್ನು ತಾತ್ಕಾಲಿಕವಾಗಿ ನಿಲ್ಲಿಸಿದೆ ಮತ್ತು ಕರೋನವೈರಸ್ ಸುರುಳಿಯಾಕಾರದ ಪ್ರಕರಣಗಳು ಫೆಬ್ರವರಿ ರಂದು ಚೀನಾ ಹೊಸ ಕೊರೊನಾವೈರಸ್ ಸೋಂಕನ್ನು ವರದಿ ಮಾಡಿರುವುದರಿಂದ ಸಿಂಗಾಪುರಕ್ಕೆ ಹಾರಾಟದ ಸಂಖ್ಯೆಯನ್ನು ಕಡಿಮೆ ಮಾಡಲು ನಿರ್ಧರಿಸಿದೆ ದುರದೃಷ್ಟವಶಾತ್ ಕಾದಂಬರಿಗೆ ಯಾವುದೇ ಲಸಿಕೆ ಇಲ್ಲ ಕೊರೊನಾವೈರಸ್ ಇನ್ನೂ ಹೂಸ್ಟನ್ ಮೂಲದ ಜೆನೆಟಿಕ್ ಎಂಜಿನಿಯರಿಂಗ್ ಕಂಪನಿಯ ಗ್ರೆಫೆಕ್ಸ್ ನ ಸಂಶೋಧಕರು ತಾವು ಕರೋನವೈರಸ್ ಲಸಿಕೆ ರಚಿಸಿದ್ದೇವೆ ಎಂದು ಹೇಳಿಕೊಂಡಿದ್ದಾರೆ ಕರೋನವೈರಸ್ ಅಪಾಯವನ್ನು ಕಡಿಮೆ ಮಾಡಲು ಈ ಕೆಳಗಿನ ಕ್ರಮಗಳನ್ನು ತೆಗೆದುಕೊಳ್ಳಬಹುದು ಆಲ್ಕೋಹಾಲ್ ಆಧಾರಿತ ಹ್ಯಾಂಡ್ ರಬ್ ಬಳಸಿ ಸಿಂಗಾಪುರ ಕೊರೋವೈರಸ್ ಕಾಯಿಲೆಯ ಮೂರು ಹೊಸ ಪ್ರಕರಣಗಳನ್ನು ಕೋವಿಡ್ ಆರೋಗ್ಯ ಸಚಿವಾಲಯವು ಗುರುವಾರ ಫೆಬ್ರವರಿ ರಂದು ದೃ ಪಡಿಸಿದೆ ಹಿಂದಿನ ಪ್ರಕರಣಕ್ಕೆ ಸಂಬಂಧಿಸಿರುವ ಒಬ್ಬನೂ ಸೇರಿದಂತೆ ಬಿಡುಗಡೆಯಾದ ಪ್ರಕರಣಗಳಲ್ಲಿ ಇಬ್ಬರು ಚೀನೀ ಪ್ರಜೆಗಳು ಮತ್ತು ಇಬ್ಬರು ಸಿಂಗಾಪುರದವರು ಗ್ರೇಸ್ ಅಸೆಂಬ್ಲಿ ಆಫ್ ಗಾಡ್ ಚರ್ಚ್ ಕ್ಲಸ್ಟರ್ ಪ್ರಕರಣದಿಂದ ಸೇರಿದ್ದಾರೆ ಜನವರಿ ರಂದು ಸಿಂಗಪುರಕ್ಕೆ ಆಗಮಿಸಿದ ವುಹಾನ್ ನ ವರ್ಷದ ಮಹಿಳೆ ಕೇಸ್ ವರ್ಷದ ಸಿಂಗಪುರದ ಮಹಿಳೆ ಗ್ರೇಸ್ ಅಸೆಂಬ್ಲಿ ಆಫ್ ಗಾಡ್ ಚರ್ಚ್ ನ ಹಿರಿಯ ಪಾದ್ರಿಯೊಂದಿಗೆ ಸಂಪರ್ಕ ಹೊಂದಿದ್ದಾಳೆ ಅವಳು ನೇ ಪ್ರಕರಣಕ್ಕೆ ಸಂಬಂಧ ಹೊಂದಿದ್ದಾಳೆ ಗ್ರೇಸ್ ನಲ್ಲಿ ಕೆಲಸ ಮಾಡುವ ಒಬ್ಬ ವ್ಯಕ್ತಿ ಗಾಡ್ ಚರ್ಚ್ನ ಅಸೆಂಬ್ಲಿ ಪ್ರಕರಣಗಳೊಂದಿಗೆ ಗಾಡ್ ಚರ್ಚ್ನ ಗ್ರೇಸ್ ಅಸೆಂಬ್ಲಿ ಅತಿದೊಡ್ಡ ಕ್ಲಸ್ಟರ್ ಆಗಿ ಉಳಿದಿದೆ ಚೀನಾದಲ್ಲಿ ಇಬ್ಬರು ದಾದಿಯರು ಕರೋನವೈರಸ್ ವಿರುದ್ಧ ಹೋರಾಡಲು ಸಹಾಯ ಮಾಡಲು ವಿಶ್ವದಾದ್ಯಂತದ ವೈದ್ಯಕೀಯ ಸಿಬ್ಬಂದಿಯನ್ನು ಕೇಳುವ ಮುಕ್ತ ಪತ್ರವೊಂದನ್ನು ಪ್ರಕಟಿಸಿದ್ದಾರೆ ದೀರ್ಘಕಾಲದವರೆಗೆ ಮತ್ತು ರಕ್ಷಣಾತ್ಮಕ ಸಲಕರಣೆಗಳ ಪದರಗಳಿಗಾಗಿ ಎನ್ ಉಸಿರಾಟವನ್ನು ಧರಿಸಿದ ಪರಿಣಾಮವಾಗಿ ಕೆಲವು ದಾದಿಯರು ಈಗ ಕಿವಿಗೆ ಒತ್ತಡದ ಹುಣ್ಣುಗಳನ್ನು ಹೊಂದಿದ್ದಾರೆ ಮತ್ತು ಹಣೆಯ ಇದು ಅನುಭವಿ ದಾದಿಯರು ಸಾಂದರ್ಭಿಕವಾಗಿ ಸಹೋದ್ಯೋಗಿಗಳಿಗೆ ಸಾಂತ್ವನ ನೀಡಲು ಸಮಯವನ್ನು ಕಂಡುಕೊಳ್ಳುತ್ತಾರೆ ಮತ್ತು ನಮ್ಮ ಆತಂಕವನ್ನು ನಿವಾರಿಸಲು ಪ್ರಯತ್ನಿಸುತ್ತಾರೆ ಗುವಾಂಗ್ ೌ ವೈದ್ಯಕೀಯ ಆಸ್ಪತ್ರೆಯಿಂದ ೆಂಗ್ ಮತ್ತು ಸೂರ್ಯನಿಂದ ೆನ್ ಆದರೂ ಸೆನ್ ಮೆಮೋರಿಯಲ್ ಆಸ್ಪತ್ರೆಯು ದಾದಿಯರಲ್ಲಿ ವುಹಾನ್ಗೆ ಹೋದರು ಮತ್ತು ಕೊರೊನಾವೈರಸ್ ರೋಗಿಗಳಿಗೆ ಚಿಕಿತ್ಸೆ ನೀಡಲು ಸಹಾಯ ಮಾಡಲು ನಾವು ಇದ್ದೇವೆ ಈ ಯುದ್ಧದಲ್ಲಿ ನಮಗೆ ಸಹಾಯ ಮಾಡಲು ಈಗ ಚೀನಾಕ್ಕೆ ಬರಲು ವಿಶ್ವದ ದೇಶಗಳ ದಾದಿಯರು ಮತ್ತು ವೈದ್ಯಕೀಯ ಸಿಬ್ಬಂದಿಯನ್ನು ಕೇಳುತ್ತಿದ್ದಾರೆ ಕೊರೊನಾವೈರಸ್ ಏಕಾಏಕಿ ಅಂತರರಾಷ್ಟ್ರೀಯ ಪ್ರಯಾಣವನ್ನು ಮುಟ್ಟಿದಂತೆ ಅದು ಫ್ರಾನ್ಸ್ ನ ಇಕ್ಕಟ್ಟಾದ ಪ್ರವಾಸೋದ್ಯಮ ಉದ್ಯಮದ ಮೇಲೆ ಹೇಗೆ ಪರಿಣಾಮ ಬೀರುತ್ತಿದೆ ಎಂಬುದನ್ನು ನಾವು ನೋಡುತ್ತೇವೆ ಪ್ರವಾಸೋದ್ಯಮ ಐರ್ಲೆಂಡ್ ನ ಸಿಇಒ ನಿಯಾಲ್ ಗಿಬ್ಬನ್ಸ್ ಸಿಇಒ ಹಿಂದಿನ ಅನುಭವವು ಏಕಾಏಕಿ ಉಂಟಾದ ಹಾನಿಯಿಂದ ಈ ವಲಯವು ಪುಟಿಯುತ್ತದೆ ಎಂದು ತೋರಿಸುತ್ತದೆ ಬ್ಲೂಮ್ ಬರ್ಗ್ ವಿಶ್ವದ ಕೆಲವು ದೊಡ್ಡ ಉದ್ಯೋಗದಾತರು ನೆಸ್ಲೆ ಸಿಕ್ಸ್ ಮತ್ತು ಎಲ್ ಓರಿಯಲ್ ಪಿಎ ವ್ಯವಹಾರ ಪ್ರಯಾಣವನ್ನು ಸ್ಥಗಿತಗೊಳಿಸಿದ್ದು ಇದು ಕರೋನವೈರಸ್ ಹರಡುವುದನ್ನು ತಡೆಯಲು ಸಹಾಯ ಮಾಡುತ್ತದೆ ಆದರೆ ಜಾಗತಿಕ ಆರ್ಥಿಕತೆಗೆ ವೇಗವನ್ನು ನೀಡುತ್ತದೆ ನೆಸ್ಲೆ ವಿಶ್ವದ ಅತಿದೊಡ್ಡ ಆಹಾರ ಮತ್ತು ಪಾನೀಯ ಕಂಪನಿ ಪ್ರಯಾಣಿಕರನ್ನು ತಪ್ಪಿಸಲು ಉದ್ಯೋಗಿಗಳಿಗೆ ತಿಳಿಸಿದೆ ವ್ಯಾಪಾರಕ್ಕಾಗಿ ಕನಿಷ್ಠ ಮಾರ್ಚ್ ಮಧ್ಯದವರೆಗೆ ವಿಶ್ವದಾದ್ಯಂತ ಜನರನ್ನು ನೇಮಕ ಮಾಡುವ ನೆಸ್ಲೆ ನಿರ್ಣಾಯಕ ಹೆಜ್ಜೆ ಇಟ್ಟ ಮೊದಲ ಬಹುರಾಷ್ಟ್ರೀಯ ಕಂಪನಿಗಳಲ್ಲಿ ಒಂದಾಗಿದೆ ಏಕೆಂದರೆ ಬ್ರೆಜಿಲ್ ಸೇರಿದಂತೆ ಹೊಸ ದೇಶಗಳಲ್ಲಿ ವೈರಸ್ ಬೀಜವು ಸಾಂಕ್ರಾಮಿಕ ರೋಗದ ಬಗ್ಗೆ ಕಳವಳ ವ್ಯಕ್ತಪಡಿಸುತ್ತಿದೆ ಜಾಗತಿಕ ಆರೋಗ್ಯ ಮಾರ್ಗಸೂಚಿಗಳ ಅನುಪಸ್ಥಿತಿಯಲ್ಲಿ ಕಂಪನಿಗಳು ತಮ್ಮ ಯೋಜನೆಯನ್ನು ರೂಪಿಸಬೇಕಾಗಿದೆ ಉದ್ಯೋಗಿಗಳನ್ನು ಸುರಕ್ಷಿತವಾಗಿಡಲು ಸ್ವಂತ ಯೋಜನೆಗಳು ಕಿಟ್ ಕ್ಯಾಟ್ ಸ್ನ್ಯಾಕ್ ಬಾರ್ ಮತ್ತು ನೆಸ್ಪ್ರೆಸೊ ಕ್ಯಾಪ್ಸುಲ್ಗಳ ಸ್ವಿಸ್ ತಯಾರಕ ನೆಸ್ಲೆ ಇದು ಕರೋನವೈರಸ್ನ ಸಾರ್ವಜನಿಕ ಆರೋಗ್ಯದ ಮೇಲೆ ಹರಡುವಿಕೆ ಮತ್ತು ಪ್ರಭಾವದ ಬಗ್ಗೆ ಜಾಗತಿಕ ಕಳವಳವನ್ನು ಹಂಚಿಕೊಳ್ಳುತ್ತದೆ ಎಂದು ಹೇಳಿದರು ನವದೆಹಲಿ ದಕ್ಷಿಣ ಕೊರಿಯಾದ ರಾಷ್ಟ್ರೀಯ ಶೂಟಿಂಗ್ ಫೆಡರೇಶನ್ ಮಾರಣಾಂತಿಕ ಕಾದಂಬರಿ ಕೊರೊನಾವೈರಸ್ನ ಜಾಗತಿಕ ಹಾಟ್ಬೆಡ್ಗಳಲ್ಲಿ ಒಂದಾಗಿದೆ ಮುಂದಿನ ತಿಂಗಳು ನಡೆಯಲಿರುವ ಐಎಸ್ಎಸ್ಎಫ್ ವಿಶ್ವಕಪ್ನಲ್ಲಿ ಪೂರ್ವ ಏಷ್ಯಾದ ದೇಶದ ಕ್ರೀಡಾಪಟುಗಳಿಗೆ ಅವಕಾಶ ನೀಡಲಾಗುತ್ತದೆಯೇ ಎಂಬ ಬಗ್ಗೆ ತನ್ನ ನಿಲುವನ್ನು ಸ್ಪಷ್ಟಪಡಿಸುವಂತೆ ತನ್ನ ಭಾರತೀಯ ಪ್ರತಿರೂಪವನ್ನು ಕೇಳಿದೆ ಮಾರ್ಚ್ ರಿಂದ ರವರೆಗೆ ನಡೆಯುವ ಈವೆಂಟ್ ನಲ್ಲಿ ಶೂಟರ್ ಗಳು ಭಾಗವಹಿಸಲು ಉತ್ಸುಕರಾಗಿದ್ದಾರೆ ಎಂದು ನ್ಯಾಷನಲ್ ರೈಫಲ್ ಅಸೋಸಿಯೇಶನ್ ಆಫ್ ಇಂಡಿಯಾ ಎನ್ ಆರ್ ಎಐ ಅಧ್ಯಕ್ಷ ರಣಿಂದರ್ ಸಿಂಗ್ ಕೊರಿಯಾ ಶೂಟಿಂಗ್ ಫೆಡರೇಶನ್ ಪ್ರಧಾನ ಕಾರ್ಯದರ್ಶಿ ಯೋಂಗ್ಜೇ ಲೀ ಹೇಳಿದ್ದಾರೆ ಪ್ರಸ್ತುತ ಕೊರಿಯಾದ ಹೆಚ್ಚಿನ ಕ್ರೀಡಾಪಟುಗಳು ಐಎಸ್ ಎಸ್ ಎಫ್ ನಲ್ಲಿ ಕನಿಷ್ಠ ಅರ್ಹತಾ ಮಾನದಂಡವನ್ನು ಪಡೆಯಲು ಬಯಸುತ್ತಿದ್ದಾರೆ ವಿಶ್ವಕಪ್ ನವದೆಹಲಿ ಆದಾಗ್ಯೂ ಕ್ರೀಡಾಪಟುಗಳು ಮತ್ತು ಅಧಿಕಾರಿಗಳಲ್ಲಿ ಹೆಚ್ಚಿನ ಕಾಳಜಿ ಮತ್ತು ಆತಂಕಗಳಿವೆ ಅವರು ಭಾಗವಹಿಸಲು ಸಾಧ್ಯವಾಗದಿರಬಹುದು ಎಂದು ಲೀ ಹೇಳಿದರು ರ ಬಗ್ಗೆ ನಿಮ್ಮ ನಿಲುವನ್ನು ದಯೆಯಿಂದ ತಿಳಿಸಿ ಅವರು ಹೇಳಿದರು ಕ್ರೀಡಾಪಟುಗಳು ಮತ್ತು ಅಧಿಕಾರಿಗಳ ಟಿಕೆಟ್ ಗಳನ್ನು ಈಗಾಗಲೇ ಕಾಯ್ದಿರಿಸಲಾಗಿದೆ ಮತ್ತು ಅವರ ವೀಸಾ ಶುಲ್ಕವನ್ನು ಸಹ ಪಾವತಿಸಲಾಗಿದೆ ಫೆಬ್ರವರಿ ರಂದು ಭಾರತೀಯ ರಾಯಭಾರ ಕಚೇರಿಯ ನಿರ್ದೇಶನದ ಮೂಲಕ ಈ ಪತ್ರವನ್ನು ಕೇಳಲಾಯಿತು ಫೆಬ್ರವರಿ ರ ನಂತರ ಕೊರಿಯಾ ಇರಾನ್ ಮತ್ತು ಇಟಲಿಯಿಂದ ಭಾರತಕ್ಕೆ ಬರುವ ಜನರು ವೈರಸ್ ನಿಂದ ತೀವ್ರವಾಗಿ ಬಾಧಿತರಾಗುತ್ತಾರೆ ಎಂದು ದಿನಗಳ ಕಾಲ ನಿರ್ಬಂಧಿಸಬಹುದು ಎಂದು ತಿಳಿಸಲಾಗಿದೆ ದಕ್ಷಿಣ ಕೊರಿಯಾದಲ್ಲಿ ಕ್ಕೂ ಹೆಚ್ಚು ಕರೋನವೈರಸ್ ಪ್ರಕರಣಗಳಿವೆ ಮತ್ತು ಇದುವರೆಗೆ ಜನರು ಸಾವನ್ನಪ್ಪಿದ್ದಾರೆ ರೋಗದ ಕೇಂದ್ರಕೇಂದ್ರ ಚೀನಾ ಮತ್ತು ತೈವಾನ್ ಸೇರಿದಂತೆ ಆರು ದೇಶಗಳು ವೈರಸ್ ನಿಂದಾಗಿ ವಿಶ್ವಕಪ್ ನಿಂದ ಹೊರಬಂದಿವೆ ವುಡೀಸ್ ಮಾಲೀಕ ಗ್ರಾಫ್ಟನ್ ಚೀನಾದಿಂದ ನೂರಾರು ಮಿಲಿಯನ್ ಯೂರೋ ಮೌಲ್ಯದ ಉತ್ಪನ್ನಗಳಿಗೆ ಪರ್ಯಾಯ ಪೂರೈಕೆ ಸರಪಳಿಗಳನ್ನು ನಿರ್ಣಯಿಸುತ್ತಿದ್ದಾರೆ ಇದು ಕರೋನವೈರಸ್ನ ಪ್ರಭಾವವನ್ನು ಹರಡುತ್ತಿದ್ದಂತೆ ಸಮೂಹದಾದ್ಯಂತ ಮಾರಾಟ ಮಾಡುತ್ತದೆ ಗ್ರಾಫ್ಟನ್ ಮುಖ್ಯ ಕಾರ್ಯನಿರ್ವಾಹಕ ಗೇವಿನ್ ಸ್ಲಾರ್ಕ್ ಇಂದು ಗುಂಪು ಮಾರಾಟದಲ್ಲಿ ಪಿಸಿ ಗ್ರಾಫ್ಟನ್ಸ್ ಬಿಎನ್ ಬಿಎನ್ ಕಳೆದ ವರ್ಷ ಚೀನಾದಿಂದ ನೇರವಾಗಿ ಅಥವಾ ಪರೋಕ್ಷವಾಗಿ ಉತ್ಪಾದಿಸಲಾದ ಉತ್ಪನ್ನಗಳಿಂದ ಉತ್ಪಾದಿಸಲ್ಪಟ್ಟಿದೆ ಇದು ಕಳೆದ ವರ್ಷ ಐರ್ಲೆಂಡ್ ನಲ್ಲಿ ತನ್ನ ಆದಾಯದ ಸುಮಾರು ಮಿಲಿಯನ್ ಗಳಿಸಿದೆ ಮತ್ತು ನೆದರ್ ಲ್ಯಾಂಡ್ ನಲ್ಲಿ ವ್ಯವಹಾರವನ್ನು ಸಹ ಹೊಂದಿದೆ ನಾವು ಉತ್ಪನ್ನಗಳಿಗೆ ಪರ್ಯಾಯ ಮೂಲಗಳನ್ನು ನೋಡಿದ್ದೇವೆ ಗ್ರಾಫ್ಟನ್ ಮುಖ್ಯ ಹಣಕಾಸು ಅಧಿಕಾರಿ ಡೇವಿಡ್ ಅರ್ನಾಲ್ಡ್ ಐರಿಶ್ ಇಂಡಿಪೆಂಡೆಂಟ್ ಗೆ ತಿಳಿಸಿದರು ಚೀನಾದಲ್ಲಿ ಇದು ಸಾಕಷ್ಟು ಸಂಕೀರ್ಣವಾದ ಪ್ರಾದೇಶಿಕ ಚಿತ್ರಣವಾಗಿದೆ ಕಾರ್ಖಾನೆಯ ಉತ್ಪಾದನೆಯಲ್ಲಿ ದೀರ್ಘಕಾಲದ ನಿಧಾನಗತಿಯನ್ನು ನಾವು ನೋಡಿದರೆ ಅದು ಪ್ರಭಾವ ಬೀರಬಹುದು ಆದರೆ ನಮ್ಮ ಪೂರೈಕೆ ಸರಪಳಿ ತಂಡಗಳು ನಮ್ಮ ಚೀನೀ ತಯಾರಕರು ಮತ್ತು ಪೂರೈಕೆದಾರರೊಂದಿಗೆ ನಿಜವಾಗಿಯೂ ಶ್ರಮಿಸುತ್ತಿವೆ ಆದರೆ ಪರ್ಯಾಯಗಳ ದೃಷ್ಟಿಯಿಂದಲೂ ಶ್ರೀ ಅರ್ನಾಲ್ಡ್ ಹೇಳಿದರು ಉದಾಹರಣೆಗೆ ಬಾತ್ರೂಮ್ ಉತ್ಪನ್ನಗಳಿಗೆ ಪರ್ಯಾಯ ಸರಬರಾಜುಗಳನ್ನು ದೇಶೀಯವಾಗಿ ಪೂರ್ಣವಾಗಿ ವರದಿ ಮಾಡಬಹುದು ಎಲ್ ವರ್ಷದ ಫಲಿತಾಂಶಗಳು ನಿನ್ನೆ ಗ್ರಾಫ್ಟನ್ ರಲ್ಲಿ ಮುಂದುವರಿದ ಕಾರ್ಯಾಚರಣೆಗಳಿಂದ ಆದಾಯವು ಪಿಸಿ ಬಿಎನ್ ಬಿಲಿಯನ್ಗೆ ಏರಿದೆ ಮತ್ತು ಮುಂದುವರಿದ ಕಾರ್ಯಾಚರಣೆಗಳಿಂದ ಕಾರ್ಯಾಚರಣೆಯ ಲಾಭವು ಐಪಿಸಿ ಪೂರ್ವ ಐಎಫ್ಆರ್ಎಸ್ ಆಧಾರದ ಮೇಲೆ ಮೀ ಮೀ ಹೆಚ್ಚಾಗಿದೆ ನೆದರ್ಲ್ಯಾಂಡ್ಸ್ ಮೂಲದ ಪೋಲ್ವೋ ಹಾರ್ಡ್ ವೇರ್ ಸರಪಳಿಯನ್ನು ಖರೀದಿಸಲು ಇದು ಮಿ ಪಾವತಿಸಿದೆ ಐರ್ಲೆಂಡ್ ನಲ್ಲಿನ ಅದರ ವ್ಯಾಪಾರ ವ್ಯವಹಾರವು ಸ್ಥಿರ ಕರೆನ್ಸಿ ಆಧಾರದ ಮೇಲೆ ಆದಾಯವನ್ನು ಯಿಂದ ಗೆ ಏರಿಸಿತು ಪೂರ್ವ ಐಎಫ್ ಆರ್ಎಸ್ ಕಾರ್ಯಾಚರಣಾ ಲಾಭವು ಯಿಂದ ಬಿಬಿಸಿ ಬ್ರೇಕ್ಫಾಸ್ಟ್ ವೀಕ್ಷಕರು ವೈದ್ಯರ ಕೈಯಲ್ಲಿ ಕೆಮ್ಮಿದ್ದಕ್ಕಾಗಿ ಹ್ಯಾಂಡ್ ಸ್ಯಾನಿಟೈಸರ್ಗೆ ತಲುಪುವ ಮೊದಲು ಇಂದು ಒಂದು ವಿಭಾಗದಲ್ಲಿ ವೈರಸ್ ಹರಡುವುದನ್ನು ಉತ್ತಮ ನೈರ್ಮಲ್ಯದಿಂದ ದೂರವಿರಿಸಿದ್ದಾರೆ ಆದರೆ ಹ್ಯಾಂಡ್ ಸ್ಯಾನಿಟೈಸರ್ ಬಾಟಲಿಗೆ ತಲುಪುವ ಮುನ್ನ ಬ್ರಿಟಿಷ್ ಜಿಪಿ ಅವಳ ಕೈಗೆ ಸಿಕ್ಕಿತು ಹದ್ದು ಕಣ್ಣಿನ ವೀಕ್ಷಕರ ಗಮನದಿಂದ ತಪ್ಪಿಸಿಕೊಳ್ಳಲಿಲ್ಲ ಕೊಲೆಗಾರ ಕರೋನವೈರಸ್ ಹರಡುವುದನ್ನು ನಿಲ್ಲಿಸುವ ದೃಷ್ಟಿಯಿಂದ ಕೈ ನೈರ್ಮಲ್ಯ ಎಷ್ಟು ಮುಖ್ಯವಾದುದು ಎಂದು ಡಾ ರೋಸ್ಮರಿ ತನ್ನ ಪ್ರದರ್ಶನಕ್ಕೆ ಮುಂಚಿತವಾಗಿ ಹೇಳಿದರು ಇದು ಒಂದು ಟಿಕ್ಲ್ ಎಂದು ಒತ್ತಾಯಿಸಿದರು ಮತ್ತು ಅವಳು ತನ್ನ ಕೈಯನ್ನು ಹಾಕುತ್ತಾಳೆ ಕೈಗಳನ್ನು ಒರೆಸದೆ ಹ್ಯಾಂಡ್ ಸ್ಯಾನಿಟೈಸರ್ ಬಾಟಲಿಯನ್ನು ಹಿಡಿಯುವ ಮೊದಲು ಅವಳ ಬಾಯಿ ಮೊದಲು ಕೋಪಗೊಂಡ ವೀಕ್ಷಕರು ಸಾಮಾಜಿಕ ಮಾಧ್ಯಮಗಳಿಗೆ ಜಿಪಿ ತನ್ನ ವೈರಸ್ ಅನ್ನು ಹ್ಯಾಂಡ್ ಸ್ಯಾನಿಟೈಸರ್ ಬಾಟಲಿಗೆ ಹರಡಿದ್ದಾರೆ ಎಂಬ ಕಳವಳವನ್ನು ವ್ಯಕ್ತಪಡಿಸಿದರು ಎಎನ್ ಎಸ್ ಎ ಲೋಡಿ ಫೆಬ್ರವರಿ ಸಣ್ಣ ವ್ಯಾಪಾರ ಸಮೂಹದ ಲೋಡಿ ಶಾಖೆಯ ಕಾರ್ಯದರ್ಶಿ ಕಾನ್ಫಾರ್ಟಿಜಿಯಾನಟೊ ಗುರುವಾರ ಎಎನ್ ಎಸ್ ಎಗೆ ತಿಳಿಸಿದ್ದು ಕರೋನವೈರಸ್ ಕೆಂಪು ವಲಯದೊಳಗಿನ ಕೆಲವು ಕಂಪನಿಗಳಿಗೆ ಕೆಲಸ ಮಾಡಲು ಲೋಡಿ ಪ್ರಾಂತ್ಯವು ಭಾಗಶಃ ಮರಳಲು ಅನುಮತಿ ನೀಡಿದೆ ಎಂದು ಬೊಸೆಲ್ಲಿ ಕೋರಿದ್ದಾರೆ ಕಾರ್ಮಿಕರು ಮುನ್ನೆಚ್ಚರಿಕೆ ಕ್ರಮಗಳನ್ನು ಅನುಸರಿಸಬೇಕಾಗುತ್ತದೆ ಮುಖವಾಡಗಳ ಬಳಕೆ ಮತ್ತು ಸುರಕ್ಷಿತ ದೂರವನ್ನು ಕಾಪಾಡಿಕೊಳ್ಳುವುದು ಮತ್ತು ಉತ್ಪನ್ನಗಳನ್ನು ಕೆಂಪು ವಲಯದಿಂದ ಹೊರಗಿಡಲು ಸಾಂಕ್ರಾಮಿಕ ರೋಗವನ್ನು ತಪ್ಪಿಸಲು ಲೊಂಬಾರ್ಡಿಯ ಲೋಡಿಯ ಸುತ್ತಮುತ್ತಲಿನ ಪ್ರದೇಶವು ಇಟಲಿಯ ವೈರಸ್ ಏಕಾಏಕಿ ಹಾಟ್ ಸ್ಪಾಟ್ ಗಳಲ್ಲಿ ಒಂದಾಗಿದೆ ಬೋಸ್ಟನ್ ರಾಯಿಟರ್ಸ್ ಯು ಎಸ್ ಖಜಾನೆ ಇಳುವರಿ ಗುರುವಾರ ಆರಂಭಿಕ ವಹಿವಾಟಿನಲ್ಲಿ ವರ್ಷದ ಟಿಪ್ಪಣಿಗಳ ಇಳುವರಿಯೊಂದಿಗೆ ಇಳಿಮುಖವಾಗಿದೆ ಯುಎಸ್ ಯುಎಸ್ ಆರ್ಆರ್ ಹೊಸ ದಾಖಲೆಯನ್ನು ಕ್ಕಿಂತ ಕಡಿಮೆ ಮುಟ್ಟಿದೆ ಎಎನ್ ಎಸ್ ಎ ರೋಮ್ ಫೆಬ್ರವರಿ ಇಟಲಿಯ ಉನ್ನತ ಆರೋಗ್ಯ ಸಂಸ್ಥೆ ಐಎಸ್ ಎಸ್ ಇಟಲಿಯ ಎರಡು ಕರೋನವೈರಸ್ ಹಾಟ್ ಬೆಡ್ ಗಳ ನಡುವಿನ ಸಂಪರ್ಕವನ್ನು ಪರಿಶೀಲಿಸುತ್ತಿದೆ ಲೊಂಬಾರ್ಡಿ ಮತ್ತು ವೆನೆಟೊ ಗುರುವಾರ ಇಟಾಲಿಯನ್ ಆರೋಗ್ಯ ಸಚಿವ ರಾಬರ್ಟೊ ಸ್ಪೆರಾನ್ಜಾ ಅವರು ಈ ಅಧ್ಯಯನವು ಇನ್ನೂ ನಡೆಯುತ್ತಿದೆ ಮತ್ತು ನಾವು ಸಾಧ್ಯತೆಗಳ ಮಟ್ಟದಲ್ಲಿದ್ದೇವೆ ಆದರೆ ನಾವು ನೋಡುತ್ತಿದ್ದೇವೆ ಎರಡು ಹಾಟ್ ಬೆಡ್ ಗಳ ನಡುವಿನ ಸಂಪರ್ಕದ ಹೆಯು ವಿದೇಶಿ ಪತ್ರಿಕಾ ಸಂಘದಲ್ಲಿ ಪತ್ರಿಕಾಗೋಷ್ಠಿಯಲ್ಲಿ ದೇಶದ ಕರೋನವೈರಸ್ ತುರ್ತು ಪರಿಸ್ಥಿತಿಗೆ ಸಂಬಂಧಿಸಿದಂತೆ ಪ್ರಸ್ತುತ ಪರಿಸ್ಥಿತಿ ಕುರಿತು ಹೇಳಿದರು ತನ್ನದೇ ದೇಶಕ್ಕೆ ಮ್ಯಾಕ್ರೋನ್ ನ ಭೀಕರ ಎಚ್ಚರಿಕೆ ಯುಕೆಗೆ ವಿಪತ್ತು ಉಂಟುಮಾಡಬಹುದು ಅದು ಫ್ರಾನ್ಸ್ ನ ನೆರೆಯ ಯುಕೆ ಆರೋಗ್ಯ ಕಾರ್ಯದರ್ಶಿ ಮ್ಯಾಟ್ ಹ್ಯಾನ್ ಕಾಕ್ ಬ್ರಿಟನ್ ಹೆಚ್ಚು ಗಂಭೀರವಾದ ಏಕಾಏಕಿ ತಯಾರಿ ನಡೆಸುತ್ತಿದೆ ಎಂದು ಸುಳಿವು ನೀಡಿದೆ ವೈರಸ್ ಗಾಗಿ ತಪಾಸಣೆ ಮಾಡಬಹುದಾದ ಜನರು ದೇಶಾದ್ಯಂತ ಎಂಟು ಎನ್ ಎಚ್ ಎಸ್ ಆಸ್ಪತ್ರೆಗಳಲ್ಲಿ ಹೊಸ ವ್ಯವಸ್ಥೆಯನ್ನು ಜಾರಿಗೆ ತಂದಿದ್ದಾರೆ ಮತ್ತು ಜಿಪಿ ಶಸ್ತ್ರಚಿಕಿತ್ಸೆಗಳಂತಹ ಸುಮಾರು ಪ್ರಾಥಮಿಕ ಆರೈಕೆ ತಾಣಗಳು ಸಹ ಹೊಸ ಯೋಜನೆಯಲ್ಲಿ ಭಾಗವಹಿಸಲಿವೆ ಎಂದು ಡಬ್ಲ್ಯುಎಚ್ ಒ ಮಹಾನಿರ್ದೇಶಕ ಟೆಡ್ರೊಸ್ ಅಧಾನಮ್ ಘೆಬ್ರೆಯೆಸಸ್ ಹೇಳಿದ್ದಾರೆ ಸಮಯ ಈ ನಿರ್ಧಾರಕ್ಕೆ ಮುಖ್ಯ ಕಾರಣ ಚೀನಾದಲ್ಲಿ ಏನು ನಡೆಯುತ್ತಿದೆ ಎಂಬ ಕಾರಣದಿಂದಾಗಿ ಅಲ್ಲ ಆದರೆ ಇತರ ದೇಶಗಳಲ್ಲಿ ಏನು ನಡೆಯುತ್ತಿದೆ ಎಂಬ ಕಾರಣದಿಂದಾಗಿ ನಮ್ಮ ಹೆಚ್ಚಿನ ಕಾಳಜಿ ವೈರಸ್ ದುರ್ಬಲ ಆರೋಗ್ಯ ವ್ಯವಸ್ಥೆಗಳನ್ನು ಹೊಂದಿರುವ ದೇಶಗಳಿಗೆ ಹರಡುವ ಸಾಮರ್ಥ್ಯ ಮತ್ತು ಅವುಗಳಿಗೆ ನಾನು ಸಿದ್ಧನಾಗುತ್ತೇನೆ ಅದನ್ನು ನಿಭಾಯಿಸಲು ಡುಬೈ ರಾಯಿಟರ್ಸ್ ಇರಾನ್ ಚೀನಾದ ನಾಗರಿಕರನ್ನು ದೇಶಕ್ಕೆ ಪ್ರವೇಶಿಸುವುದನ್ನು ನಿಷೇಧಿಸಿದೆ ಎಂದು ಇರಾನ್ ರಾಜ್ಯ ಸುದ್ದಿ ಸಂಸ್ಥೆ ಐಆರ್ಎನ್ಎ ಗುರುವಾರ ವರದಿ ಮಾಡಿದೆ ಇಸ್ಲಾಮಿಕ್ ಗಣರಾಜ್ಯದಾದ್ಯಂತ ಹೊಸ ಕರೋನವೈರಸ್ ಹರಡಿರುವ ಸಂದರ್ಭದಲ್ಲಿ ಇರಾನಿಯನ್ನರನ್ನು ಕೊಂದಿದೆ ಎಂದು ಇರಾನ್ ಹೇಳಿದೆ ಗುರುವಾರ ಸೋಂಕಿತರ ಸಂಖ್ಯೆ ಕ್ಕೆ ಏರಿದೆ ಟಿವಿ ವೈದ್ಯ ಹಿಲರಿ ಜೋನ್ಸ್ ಅವರು ಕರೋನವೈರಸ್ ಹಿಟ್ ಟೆನೆರೈಫ್ ಹೋಟೆಲ್ನಲ್ಲಿ ಸಂಪರ್ಕತಡೆಯನ್ನು ಅಳತೆ ಮಾಡಿದ್ದಾರೆ ಎಂದು ವಿದೇಶಾಂಗ ಕಚೇರಿ ಹೇಳಿದ್ದರಿಂದ ಪರಿಸ್ಥಿತಿಯನ್ನು ಪರಿಶೀಲನೆಯಲ್ಲಿರಿಸಿಕೊಳ್ಳಲಾಗಿದೆ ಎಂದು ಸೈಟ್ನಲ್ಲಿರುವ ಎಲ್ಲರಿಗೂ ಆರಂಭದಲ್ಲಿ ತಮ್ಮ ಕೋಣೆಗಳಲ್ಲಿ ಇರಬೇಕೆಂದು ತಿಳಿಸಲಾಗಿತ್ತು ಆದರೆ ಸ್ಥಳೀಯ ಅಧಿಕಾರಿಗಳು ಈಗ ರೋಗಲಕ್ಷಣಗಳಿಲ್ಲದ ಜನರು ಚಲಿಸಬಹುದು ಎಂದು ಹೇಳಿದ್ದಾರೆ ಪೂಲ್ ಮತ್ತು ಬಾರ್ ಸೇರಿದಂತೆ ಹೋಟೆಲ್ ಸುತ್ತಲೂ ಅವರು ಸೇರಿಸಿದ ಕ್ಷಣದಲ್ಲಿ ಆ ಹೋಟೆಲ್ನಲ್ಲಿ ಏನು ನಡೆಯುತ್ತಿದೆ ಎಂಬುದು ಸ್ವಯಂ ಪ್ರತ್ಯೇಕತೆಯಲ್ಲ ಏಕೆಂದರೆ ಜನರು ಕೊಳದ ಸುತ್ತಲೂ ಸೂರ್ಯನ ಸ್ನಾನ ಮಾಡುತ್ತಿದ್ದಾರೆ ಏಕೆಂದರೆ ನೀವು ಒಟ್ಟಿಗೆ ಸಾಮೂಹಿಕ ಸಂಪರ್ಕದಲ್ಲಿದ್ದೀರಿ ರೆಸ್ಟೋರೆಂಟ್ಗೆ ಹೋಗುತ್ತೀರಿ ನನ್ನ ಚಿಂತೆ ಮತ್ತು ನಿಮ್ಮ ಚಿಂತೆ ಇದು ನೇ ದಿನದಂದು ನೀವು ಮನೆಗೆ ಬರಲು ಸಿದ್ಧರಾಗಿರುವಾಗ ಮತ್ತು ಯಾರಾದರೂ ಧನಾತ್ಮಕವಾಗಿ ಪರೀಕ್ಷಿಸಿದಾಗ ನೀವು ಇನ್ನೂ ದಿನಗಳವರೆಗೆ ಮತ್ತೆ ಸಂಪರ್ಕತಡೆಯಲ್ಲಿರುವಿರಿ ಏಕೆಂದರೆ ನೀವು ಒಡ್ಡಿಕೊಳ್ಳುತ್ತೀರಿ ಏಕೆಂದರೆ ನೀವು ನೇ ದಿನದಲ್ಲಿ ಯಾರಾದರೂ ಧನಾತ್ಮಕವಾಗಿ ಪರೀಕ್ಷಿಸಿದರೆ ನೀವು ಇನ್ನೂ ದಿನಗಳವರೆಗೆ ಸಂಪರ್ಕತಡೆಯನ್ನು ಹೊಂದಿರಬಹುದು ಗೋಲ್ಡ್ಮನ್ ಸ್ಯಾಚ್ಸ್ ಪ್ರಕಾರ ಯುಎಸ್ ಕಂಪೆನಿಗಳು ರಲ್ಲಿ ಯಾವುದೇ ಆದಾಯದ ಬೆಳವಣಿಗೆಯನ್ನು ಗಳಿಸುವುದಿಲ್ಲ ಎಂದು ಗೋಲ್ಡ್ಮನ್ ಸ್ಯಾಚ್ಸ್ ಪ್ರಕಾರ ಯುಎಸ್ ಕಂಪೆನಿಗಳು ರಲ್ಲಿ ನಿಶ್ಚಲವಾಗಿರುತ್ತದೆ ಗೋಲ್ಡ್ಮನ್ ಸ್ಯಾಚ್ಸ್ ಮುಖ್ಯಸ್ಥ ನೀವು ಎಸ್ ಇಕ್ವಿಟಿ ಸ್ಟ್ರಾಟಜಿಸ್ಟ್ ಡೇವಿಡ್ ಕೋಸ್ಟಿನ್ ಗುರುವಾರ ಗ್ರಾಹಕರಿಗೆ ನೀಡಿದ ಟಿಪ್ಪಣಿಯಲ್ಲಿ ಹೇಳಿದರು ಮುನ್ಸೂಚನೆಗಳು ಚೀನಾದ ಆರ್ಥಿಕ ಚಟುವಟಿಕೆಯ ತೀವ್ರ ಕುಸಿತವನ್ನು ಕ್ಯೂ ಲೋವರ್ ಎಂಡ್ ಬೇಡಿಕೆಯಲ್ಲಿ ಯುಎಸ್ ರಫ್ತುದಾರರಿಗೆ ಪೂರೈಕೆ ಸರಪಳಿಗೆ ಅಡ್ಡಿಪಡಿಸುವುದರಿಂದ ಯುಎಸ್ ಆರ್ಥಿಕ ಚಟುವಟಿಕೆಯಲ್ಲಿನ ಕುಸಿತ ಮತ್ತು ಉನ್ನತ ವ್ಯವಹಾರ ಅನಿಶ್ಚಿತತೆಯು ಎಸ್ ಪಿ ಕಂಪನಿಗಳು ಕುಸಿತವನ್ನು ವರದಿ ಮಾಡುತ್ತವೆ ಎಂದು ಕೋಸ್ಟಿನ್ ಗೋಲ್ಡ್ಮನ್ ನಿರೀಕ್ಷಿಸಿದ್ದಾರೆ ವರ್ಷದ ಮೊದಲಾರ್ಧದಲ್ಲಿ ಗಳಿಕೆಗಳು ಆಪಲ್ ನೈಕ್ ಮತ್ತು ಯುನೈಟೆಡ್ ಏರ್ಲೈನ್ಸ್ ನಂತಹ ಕಂಪನಿಗಳು ಪೂರೈಕೆ ಸರಪಳಿಗಳ ಮೇಲೆ ವೈರಸ್ ಪ್ರಭಾವದಿಂದಾಗಿ ತಮ್ಮ ಗಳಿಕೆ ಮತ್ತು ಆದಾಯ ಮಾರ್ಗದರ್ಶನವನ್ನು ಪೂರೈಸುವುದಿಲ್ಲ ಎಂದು ಎಚ್ಚರಿಸಿದೆ ಹೊಸ ಕರೋನವೈರಸ್ ಏಕಾಏಕಿ ಕಾರಣ ಪಟ್ಟಣವನ್ನು ಬೀಗ ಹಾಕಿದ ನಂತರ ಉತ್ತರ ಇಟಲಿಯ ಕೊಡೋಗ್ನೊದಲ್ಲಿನ ಬೀದಿಗಳು ಮತ್ತು ಅಂಗಡಿಗಳು ಖಾಲಿಯಾಗಿವೆ ಈ ವೈರಸ್ ಇಲ್ಲಿಯವರೆಗೆ ಇಟಲಿಯಲ್ಲಿ ಜನರನ್ನು ಬಲಿ ತೆಗೆದುಕೊಂಡಿದೆ ಮತ್ತು ಬುಧವಾರ ರಾತ್ರಿಯ ವೇಳೆಗೆ ದೇಶಾದ್ಯಂತ ಪ್ರಕರಣಗಳು ಕ್ಕಿಂತಲೂ ಹೆಚ್ಚು ತಲುಪಿದೆ ಅವರಿಗೆ ನಾಲ್ಕು ಮತ್ತು ವರ್ಷದೊಳಗಿನ ಐದು ಮಕ್ಕಳು ಕೊರೊನಾವೈರಸ್ ನ ಹೊಸ ಪ್ರಕರಣಗಳನ್ನು ಸರ್ಕಾರವು ವರದಿ ಮಾಡಿದೆ ಇದು ದೇಶಾದ್ಯಂತ ಒಟ್ಟು ಸೋಂಕುಗಳ ಸಂಖ್ಯೆಯನ್ನು ಕ್ಕೆ ತಂದುಕೊಟ್ಟಿದೆ ಇದು ದೇಶಾದ್ಯಂತ ವೇಗವಾಗಿ ಹರಡುವ ಮಾರಣಾಂತಿಕ ಕಾಯಿಲೆಯಾಗಿದೆ ಸಿಡಿಸಿ ಕರೋನವೈರಸ್ನಲ್ಲಿ ಅತ್ಯುತ್ತಮವಾದ ಪದೇ ಪದೇ ಕೇಳಲಾಗುವ ಪ್ರಶ್ನೆಗಳ ವೆಬ್ ಸೈಟ್ ಅನ್ನು ಒದಗಿಸಿದೆ ವಿಶ್ವ ಆರೋಗ್ಯ ಸಂಸ್ಥೆಯ ಕೊರೊವೈರಸ್ ನ ಹೊಸ ಪ್ರಕರಣಗಳನ್ನು ವರದಿ ಮಾಡಿದೆ ದೇಶದಲ್ಲಿ ಒಟ್ಟು ಸೋಂಕುಗಳ ಸಂಖ್ಯೆಯನ್ನು ಕ್ಕೆ ತಂದುಕೊಟ್ಟಿದೆ ಮಾರಣಾಂತಿಕ ಕಾಯಿಲೆ ದೇಶಾದ್ಯಂತ ವೇಗವಾಗಿ ಹರಡುತ್ತಿದೆ ಎಂದು ವಾಂಡರ್ಬಿಲ್ಟ್ ವಿಶ್ವವಿದ್ಯಾಲಯದ ಸಾಂಕ್ರಾಮಿಕ ರೋಗಗಳ ಪ್ರಾಧ್ಯಾಪಕ ವಿಲಿಯಂ ಶಾಫ್ನರ್ ಹೇಳಿದ್ದಾರೆ ನೆಕ್ಸಸ್ ಮೀಡಿಯಾದ ಮರ್ಲೀನ್ ಸಿಮನ್ಸ್ ಉಷ್ಣವಲಯದಲ್ಲಿ ವರ್ಷಪೂರ್ತಿ ಫ್ಲೂ ವೈರಸ್ಗಳು ಏಕೆ ಅಭಿವೃದ್ಧಿ ಹೊಂದುತ್ತವೆ ಎಂಬುದು ಸ್ಪಷ್ಟವಾಗಿಲ್ಲ ಎಂದು ಸಿಮನ್ಸ್ ರ ಲೇಖನವೊಂದರಲ್ಲಿ ಸಾಂಕ್ರಾಮಿಕ ರೋಗ ವಿಜ್ಞಾನಿಗಳು ಭಯಪಡುತ್ತಾರೆ ಎಂದು ಅವರು ಹೇಳಿದ್ದಾರೆ ಉಷ್ಣವಲಯ ಆರ್ಥಿಕ ಬೆಳವಣಿಗೆಗೆ ಹಾನಿ ಉಂಟುಮಾಡುವ ಅಭಿವೃದ್ಧಿಯು ವಿಶ್ವದಾದ್ಯಂತ ದೇಶಗಳಲ್ಲಿ ಕೊರೊನಾವೈರಸ್ ಹರಡುವುದರ ಬಗ್ಗೆ ಹೂಡಿಕೆದಾರರು ಚಿಂತಿಸುತ್ತಿರುವುದರಿಂದ ಜಾಗತಿಕ ಷೇರುಗಳು ಮುಳುಗುತ್ತಿವೆ ಯುಬಿಎಸ್ ಗ್ಲೋಬಲ್ ವೆಲ್ತ್ ಮ್ಯಾನೇಜ್ ಮೆಂಟ್ ನ ಮಾರ್ಕ್ ಹೆಫೆಲ್ ಹೂಡಿಕೆದಾರರಿಗೆ ತಮ್ಮ ನಷ್ಟವನ್ನು ಮಿತಿಗೊಳಿಸಲು ಮತ್ತು ಆರ್ಥಿಕ ಮತ್ತು ಮಾರುಕಟ್ಟೆ ಬದಲಾವಣೆಗಳಿಂದ ಲಾಭ ಪಡೆಯಲು ಮೂರು ವಹಿವಾಟುಗಳನ್ನು ನೋಡುವಂತೆ ಹೇಳುತ್ತಿದ್ದಾರೆ ಸಾಂಕ್ರಾಮಿಕ ರೋಗಕ್ಕೆ ಪ್ರತಿಕ್ರಿಯೆಯಾಗಿ ಯುಬಿಎಸ್ ಗ್ಲೋಬಲ್ ವೆಲ್ತ್ ಮ್ಯಾನೇಜ್ ಮೆಂಟ್ ನ ಮುಖ್ಯ ಹೂಡಿಕೆ ಅಧಿಕಾರಿ ಮಾರ್ಕ್ ಹೆಫೆಲೆ ಯುಎಸ್ ಮತ್ತು ಯುರೋಪಿನ ಸರ್ಕಾರಗಳು ಅನಾರೋಗ್ಯದ ಹರಡುವಿಕೆಯನ್ನು ಮಿತಿಗೊಳಿಸಲು ಕಠಿಣ ಕ್ರಮಗಳನ್ನು ಕೈಗೊಂಡರೆ ಶೀಘ್ರದಲ್ಲೇ ಸ್ಪಷ್ಟವಾಗುತ್ತದೆ ಎಂದು ಹೇಳುತ್ತಾರೆ ಮುಂದಿನ ಎರಡು ವಾರಗಳಲ್ಲಿ ವೈರಸ್ ನ ಕಾವು ಕಾಲಾವಧಿಯನ್ನು ಗಮನಿಸಿದರೆ ಏಕಾಏಕಿ ಅಧಿಕಾರಿಗಳು ಅದನ್ನು ಸಿದ್ಧಪಡಿಸಲು ಮತ್ತು ತೆಗೆದುಕೊಳ್ಳಲು ಸಮರ್ಥವಾಗಿರುವ ಕ್ರಮಗಳನ್ನು ನಿರ್ಧರಿಸುವಲ್ಲಿ ನಿರ್ಣಾಯಕವಾಗುತ್ತಾರೆ ಮತ್ತು ಅವರು ಗ್ರಾಹಕರಿಗೆ ನೀಡಿದ ಟಿಪ್ಪಣಿಯಲ್ಲಿ ಅವರು ಬರೆದ ಆ ಕ್ರಮಗಳ ಆರ್ಥಿಕ ಪರಿಣಾಮವು ಯುರೋಪಿಗೆ ವೈರಸ್ ಹರಡುವುದನ್ನು ಪುಡಿಮಾಡಬಹುದು ಎಂದು ಹೇಫೆಲ್ ಹೇಳುತ್ತಾರೆ ಗ್ರಾಹಕ ಮತ್ತು ವ್ಯವಹಾರ ವಿಶ್ವಾಸ ಮತ್ತು ಉತ್ತರ ಅಮೆರಿಕಾದಲ್ಲಿ ಹೆಚ್ಚಿನ ಪ್ರಕರಣಗಳು ಆ ಪರಿಣಾಮವನ್ನು ಬೀರಬಹುದು ಮತ್ತು ಅದು ಯುಎಸ್ ಇಂಡಿಗೆ ಎರಡು ಕೆಟ್ಟ ದಿನಗಳ ನಂತರ ಎರಡು ವರ್ಷಗಳಲ್ಲಿ ನಿರ್ಗಮನವು ಸಾರ್ವಜನಿಕ ಮತ್ತು ಮಾರುಕಟ್ಟೆಗಳ ಮೇಲೆ ಅನಿಶ್ಚಿತತೆಯೊಂದಿಗೆ ಹೂಡಿಕೆದಾರರು ಸುರಕ್ಷಿತ ಹೂಡಿಕೆಯ ಪ್ರದೇಶಗಳನ್ನು ಕಂಡುಹಿಡಿಯಲು ಮತ್ತು ಕೆಲವು ಸಂಭಾವ್ಯ ಫಲಾನುಭವಿಗಳ ಲಾಭವನ್ನು ಪಡೆಯಲು ಹೂಡಿಕೆದಾರರು ಈ ಮೂರು ಕಾರ್ಯತಂತ್ರಗಳನ್ನು ಪರಿಗಣಿಸಬೇಕು ಎಂದು ಹೇಫೆಲ್ ಹೇಳುತ್ತಾರೆ ಉದಯೋನ್ಮುಖ ಮಾರುಕಟ್ಟೆಗಳು ಏಕಾಏಕಿ ಒದಗಿಸುವ ಹೆಚ್ಚಿನ ಅವಕಾಶವನ್ನು ನೀಡುತ್ತವೆ ಮುಂದಿನ ಕೆಲವು ವಾರಗಳಲ್ಲಿ ಚೀನಾವನ್ನು ನಿಯಂತ್ರಣಕ್ಕೆ ತರಲಾಗುತ್ತದೆ ಸಂಭವಿಸುತ್ತಿರುವ ಲಕ್ಷಣಗಳಿವೆ ಎಂದು ಹೇಫೆಲ್ ಹೇಳುತ್ತಾರೆ ಆದರೆ ಅಭಿವೃದ್ಧಿ ಹೊಂದಿದ ಪ್ರಪಂಚದಾದ್ಯಂತ ಚೀನಾ ಪ್ರಗತಿಯನ್ನು ಅನಿಶ್ಚಿತತೆ ಹೆಚ್ಚಿಸುತ್ತಿದೆ ನೀವು ಎಸ್ ಅಧ್ಯಕ್ಷ ಟ್ರಂಪ್ ವಾಷಿಂಗ್ಟನ್ ಪ್ರೆಸಿಡೆಂಟ್ ಡೊನಾಲ್ಡ್ ಟ್ರಂಪ್ ಅವರ ಯು ಎಸ್ ಕ್ಯಾಪಿಟಲ್ ನಲ್ಲಿ ಸ್ಟೇಟ್ ಆಫ್ ದಿ ಯೂನಿಯನ್ ಭಾಷಣವನ್ನು ನೀಡಿದರು ಕೊರೋನವೈರಸ್ ಹರಡುವಿಕೆಗೆ ಆಡಳಿತದ ಮಾರ್ಗವನ್ನು ಮುನ್ನಡೆಸಲು ಉಪಾಧ್ಯಕ್ಷ ಮೈಕ್ ಪೆನ್ಸ್ ಅವರನ್ನು ಟ್ಯಾಪ್ ಮಾಡಲಾಗಿದೆ ಎಂದು ಬುಧವಾರ ಘೋಷಿಸಿದರು ಆದರೆ ಇಂಡಿಯಾನಾದಲ್ಲಿ ಎಚ್ಐವಿ ಏಕಾಏಕಿ ಪೆನ್ಸ್ ಪ್ರತಿಕ್ರಿಯೆ ಅವರು ಈ ನೇಮಕಾತಿಯ ಬಗ್ಗೆ ರಾಜ್ಯ ಗವರ್ನರ್ ಆಗಿದ್ದಾಗ ಮತ್ತು ಈ ಪಾತ್ರಕ್ಕೆ ಅವರ ಸೂಕ್ತತೆಯ ಬಗ್ಗೆ ಪ್ರಶ್ನೆಗಳನ್ನು ಹುಟ್ಟುಹಾಕುತ್ತಾರೆ ಆರೋಗ್ಯ ಅಧಿಕಾರಿಗಳು ರ ಕೊನೆಯಲ್ಲಿ ಸ್ಕಾಟ್ ಕೌಂಟಿ ಇಂಡಿಯಾನಾದಲ್ಲಿ ಗ್ರಾಮೀಣ ಕೌಂಟಿಯಲ್ಲಿ ಎಚ್ ಐವಿ ಏಕಾಏಕಿ ಜನಸಂಖ್ಯೆಯನ್ನು ಹೊಂದಿರುವ ಬಗ್ಗೆ ತಿಳಿದುಬಂದಿದೆ ಅಧಿಕಾರಿಗಳು ಪತ್ತೆಯಾದ ಎರಡು ತಿಂಗಳ ನಂತರ ಏಕಾಏಕಿ ಪೆನ್ಸ್ ನ್ಯೂಯಾರ್ಕ್ ಟೈಮ್ಸ್ನ ಸ್ಕಾಟ್ ಕೌಂಟಿಯಲ್ಲಿ ಸಿರಿಂಜಿನ ವಿತರಣೆಗೆ ಅನುಮತಿ ನೀಡುವಂತೆ ಕಾರ್ಯನಿರ್ವಾಹಕ ಆದೇಶವನ್ನು ಹೊರಡಿಸಿತು ಟ್ರಂಪ್ ಪೆನ್ಸ್ ಆಡಳಿತದ ಕೊರೊನಾವೈರಸ್ ಪ್ರತಿಕ್ರಿಯೆಯನ್ನು ಮುನ್ನಡೆಸಲಿದ್ದಾರೆ ಎಂದು ಘೋಷಿಸಿದ ನಂತರ ಇಂಡಿಯಾನಾದಲ್ಲಿ ಎಚ್ಐವಿ ಏಕಾಏಕಿ ನಿಭಾಯಿಸುವುದನ್ನು ಸಾಮಾಜಿಕ ಮಾಧ್ಯಮದಲ್ಲಿ ವ್ಯಾಪಕವಾಗಿ ಚರ್ಚಿಸಲಾಯಿತು ಟೋಕಿಯೊ ರಾಯಿಟರ್ಸ್ ಕರೋನವೈರಸ್ ಏಕಾಏಕಿ ಹೊರತಾಗಿಯೂ ಟೋಕಿಯೊ ಒಲಿಂಪಿಕ್ಸ್ ಅನ್ನು ನಿಗದಿತ ಸಮಯಕ್ಕೆ ನಡೆಸಲು ಅಂತರರಾಷ್ಟ್ರೀಯ ಒಲಿಂಪಿಕ್ ಸಮಿತಿಯು ಸಂಪೂರ್ಣ ಬದ್ಧವಾಗಿದೆ ಎಂದು ಐಒಸಿ ಅಧ್ಯಕ್ಷ ಥಾಮಸ್ ಬಾಚ್ ಗುರುವಾರ ಜಪಾನಿನ ಮಾಧ್ಯಮಕ್ಕೆ ತಿಳಿಸಿದರು ಕ್ಯೋಡೋ ಸುದ್ದಿ ಸಂಸ್ಥೆ ವರದಿ ಮಾಡಿದೆ ಬ್ಯಾಚ್ ಜಪಾನಿನ ಮಾಧ್ಯಮಕ್ಕೆ ಐಒಸಿ ಯಶಸ್ವಿ ಒಲಿಂಪಿಕ್ಗೆ ಸಂಪೂರ್ಣ ಬದ್ಧವಾಗಿದೆ ಜುಲೈ ರಿಂದ ಟೋಕಿಯೊದಲ್ಲಿ ನಡೆಯುವ ಆಟಗಳು ಕ್ಯೋಡೋ ಹೇಳಿದ್ದು ಬ್ಯಾಚ್ ರಷ್ಯಾದ ವೀಸಾವನ್ನು ಪಡೆಯುವುದು ಕುಖ್ಯಾತ ಕಷ್ಟ ವಿಶ್ವಕಪ್ ವಿಜೇತ ಅಲೆಸ್ಸಾಂಡ್ರೊ ಡೆಲ್ ಪಿಯೆರೊಗೆ ಇಟಲಿಯಲ್ಲಿ ವೀಸಾ ಪಡೆಯುವುದನ್ನು ತಡೆಯಲಾಯಿತು ಬದಲಿಗೆ ಕರೋನವೈರಸ್ ಭಯದಿಂದಾಗಿ ಯಿಂದ ಅರ್ಮೇನಿಯಾಗೆ ಪ್ರಯಾಣಿಸುತ್ತಿದ್ದರು ಆದ್ದರಿಂದ ಇಟಾಲಿಯನ್ ವಿಶ್ವಕಪ್ ವಿಜೇತ ಅಲೆಸ್ಸಾಂಡ್ರೊ ಡೆಲ್ ಪಿಯೆರೊಗೆ ಒಂದು ಆಲೋಚನೆಯನ್ನು ಬಿಡಿ ರಲ್ಲಿ ವಿಶ್ವಕಪ್ ಟ್ರೋಫಿಯನ್ನು ಎತ್ತುವ ಅ ುರ್ರಿ ತಂಡದಲ್ಲಿ ಪ್ರಮುಖ ಪಾತ್ರ ವಹಿಸಿದ್ದ ಡೆಲ್ ಪಿಯೆರೊ ತನ್ನ ವೀಸಾವನ್ನು ಪಡೆಯಲು ಯಿಂದ ಅರ್ಮೇನಿಯನ್ ರಾಜಧಾನಿ ಯೆರೆವಾನ್ ಗೆ ಪ್ರಯಾಣಿಸಬೇಕಾಯಿತು ಅದೃಷ್ಟವಶಾತ್ ಮಾಜಿ ಜುವ್ ನಾಯಕನಿಗೆ ತನ್ನ ತಾಯ್ನಾಡಿಗೆ ಪ್ರವಾಸ ಅಗತ್ಯವಿರಲಿಲ್ಲ ಕಕೇಶಿಯನ್ ದೇಶದಲ್ಲಿ ವೀಸಾ ಪ್ರಕ್ರಿಯೆಯು ಯಶಸ್ವಿಯಾಗಿದೆ ಮತ್ತು ನಂತರ ಡೆಲ್ ಪಿಯೆರೊ ಅವರನ್ನು ಮಾಸ್ಕೋಗೆ ಕಳುಹಿಸಲಾಯಿತು ಬುಧವಾರ ವೃತ್ತಿಪರ ಫುಟ್ಬಾಲ್ ಆಟಗಾರನಿಗೆ ಕೊರೊನಾವೈರಸ್ ಸೋಂಕಿಗೆ ಒಳಗಾದ ಮೊದಲ ಪ್ರಕರಣ ಬಹಿರಂಗವಾಯಿತು ಸಿಯೆನಾದಲ್ಲಿ ಇಟಾಲಿಯನ್ ಸೀರಿ ಸಿ ಆಟಗಾರನು ಕೋವಿಡ್ ವೈರಸ್ ಗೆ ಧನಾತ್ಮಕ ಪರೀಕ್ಷೆಯನ್ನು ಲಾ ನಾಜಿಯೋನ್ ಪ್ರಕಾರ ಪತ್ರಿಕೆ ಬೆಸ್ಟ್ ಬೈ ಮುಖ್ಯ ಹಣಕಾಸು ಅಧಿಕಾರಿ ಮ್ಯಾಟ್ ಬಿಲುನಾಸ್ ಅವರು ಸುದ್ದಿ ಪ್ರಕಟಣೆಯಲ್ಲಿ ಕಂಪನಿಯು ಕರೋನವೈರಸ್ ಏಕಾಏಕಿ ಮೇಲ್ವಿಚಾರಣೆ ನಡೆಸುತ್ತಿದೆ ಮತ್ತು ಅದರ ಹೆಚ್ಚಿನ ಪರಿಣಾಮವು ವರ್ಷದ ಮೊದಲಾರ್ಧದಲ್ಲಿರಬೇಕೆಂದು ನಿರೀಕ್ಷಿಸುತ್ತದೆ ಎಂದು ಹೇಳಿದರು ಇದರ ಆಧಾರದ ಮೇಲೆ ವಿಶ್ಲೇಷಕರು ನಿರೀಕ್ಷಿಸುತ್ತಿರುವುದರೊಂದಿಗೆ ಹೋಲಿಸಿದರೆ ಬೆಸ್ಟ್ ಬೈ ವರದಿ ಮಾಡಿದೆ ರಿಫಿನಿಟಿವ್ ಬೆಸ್ಟ್ ಬೈ ಸಿಇಒ ಕೋರಿ ಬ್ಯಾರಿ ಅವರ ವಿಶ್ಲೇಷಕರ ಸಮೀಕ್ಷೆಯು ತ್ರೈಮಾಸಿಕದಲ್ಲಿ ಚಿಲ್ಲರೆ ವ್ಯಾಪಾರಿಗಳ ಬೆಳವಣಿಗೆಯನ್ನು ಹೆಡ್ ಫೋನ್ ಗಳ ಕಂಪ್ಯೂಟಿಂಗ್ ಉಪಕರಣಗಳ ಮೊಬೈಲ್ ಫೋನ್ ಗಳು ಮತ್ತು ಟ್ಯಾಬ್ಲೆಟ್ ಗಳ ಮಾರಾಟದಿಂದ ನಡೆಸಲಾಗುತ್ತದೆ ಮತ್ತು ಇದು ಗೇಮಿಂಗ್ ನಲ್ಲಿನ ಕುಸಿತವನ್ನು ಸರಿದೂಗಿಸಲು ಸಹಾಯ ಮಾಡಿದೆ ಎಂದು ಹೇಳಿದರು ಬೆಸ್ಟ್ ಬೈ ಗಳಿಸಿದ ಪ್ರತಿ ಷೇರಿಗೆ ಕ್ಕಿಂತ ಹೆಚ್ಚಿರುವ ಪ್ರತಿ ಷೇರಿನ ವಿಶ್ಲೇಷಕರು ರಿಫಿನಿಟಿವಿ ಪ್ರಕಾರ ನಿರೀಕ್ಷಿಸುತ್ತಿದ್ದರು ರ ಹಣಕಾಸಿನ ಚಿಲ್ಲರೆ ವ್ಯಾಪಾರಿಗಳ ಮುನ್ಸೂಚನೆಯು ಪ್ರತಿ ಷೇರಿಗೆ ರಿಂದ ರವರೆಗೆ ಹೊಂದಾಣಿಕೆಯ ಗಳಿಕೆಯ ಶ್ರೇಣಿಯನ್ನು ಮತ್ತು ಅದೇ ಅಂಗಡಿ ಮಾರಾಟವು ವರೆಗೆ ಸಮತಟ್ಟಾಗಿರಬೇಕು ಎಂದು ಹೇಳುತ್ತದೆ ಉದಾಹರಣೆಗೆ ಇದು ಟೋಟಲ್ ಟೆಕ್ ಬೆಂಬಲವನ್ನು ವಾರ್ಷಿಕ ಸದಸ್ಯತ್ವ ಕಾರ್ಯಕ್ರಮವನ್ನು ನೀಡುತ್ತದೆ ಇದು ಗ್ರಾಹಕರಿಗೆ ಸ್ಮಾರ್ಟ್ ಡೋರ್ ಬೆಲ್ ಅನ್ನು ಸ್ಥಾಪಿಸಲು ಟಿವಿಯನ್ನು ಆರೋಹಿಸಲು ಅಥವಾ ಕಂಪ್ಯೂಟರ್ ಗ್ಲಿಚ್ ಅನ್ನು ನಿವಾರಿಸಲು ಸಹಾಯ ಮಾಡುತ್ತದೆ ಆದರೆ ನೀವು ಇನ್ನು ಮುಂದೆ ಹೋಗಲು ಇಷ್ಟಪಡದ ಕಾರಣ ನಿಮ್ಮ ಪ್ರಯಾಣ ವಿಮೆಯಲ್ಲಿ ನೀವು ಹಕ್ಕು ಪಡೆಯಲು ಸಾಧ್ಯವಿಲ್ಲವಾದರೂ ನೀವು ರದ್ದುಗೊಳಿಸಲು ಮತ್ತು ಇತರ ಆಧಾರದ ಮೇಲೆ ಪೂರ್ಣ ಮರುಪಾವತಿಯನ್ನು ಪಡೆಯಲು ಸಾಧ್ಯವಾಗಬಹುದು ಟ್ರಾವೆಲ್ ಹೇಳಿದರು ನೀವು ಮೊದಲೇ ಅಸ್ತಿತ್ವದಲ್ಲಿರುವ ವೈದ್ಯಕೀಯ ಸ್ಥಿತಿಯನ್ನು ಹೊಂದಿದ್ದರೆ ನೀವು ರದ್ದುಗೊಳಿಸಬಹುದು ಮತ್ತು ನಿಮ್ಮ ವೈದ್ಯರ ಸಲಹೆಯ ಆಧಾರದ ಮೇಲೆ ನಿಮ್ಮ ಪ್ರಯಾಣ ವಿಮೆಯ ಮೇಲೆ ಹಕ್ಕು ಪಡೆಯಿರಿ ಅವರು ಹೇಳಿದರು ಉತ್ತಮ ಪ್ರಯಾಣ ವಿಮಾ ಪಾಲಿಸಿಯು ವಿಶೇಷ ರ ಹೋಲಿಕೆ ಸೈಟ್ನಲ್ಲಿ ಟಾಮಿ ಲಾಯ್ಡ್ ಮುಖ್ಯ ಉತ್ಪನ್ನ ಅಧಿಕಾರಿಯನ್ನು ಹಾರಲು ಯೋಗ್ಯವಾಗಿರುವುದು ಸೇರಿದಂತೆ ರದ್ದತಿಯ ಬಗ್ಗೆ ಹಲವಾರು ಷರತ್ತುಗಳನ್ನು ಹೊಂದಿರುತ್ತದೆ ವೈದ್ಯಕೀಯ ಪ್ರಯಾಣ ಹೋಲಿಕೆ ಸೇರಿಸಲಾಗಿದೆ ಸ್ಟ್ಯಾಂಡರ್ಡ್ ಟ್ರಾವೆಲ್ ಇನ್ಶುರೆನ್ಸ್ ಪಾಲಿಸಿಯ ವ್ಯಾಪ್ತಿಗೆ ಒಳಪಡಬೇಕು ಆದರೆ ಗ್ರಾಹಕರು ಈ ಸಮಯದಲ್ಲಿ ಪ್ರಯಾಣದ ವಿರುದ್ಧ ಸಲಹೆ ನೀಡುವ ವೈದ್ಯರ ಟಿಪ್ಪಣಿಯನ್ನು ಸ್ವೀಕರಿಸಿದ್ದರೆ ಅವರು ಇದನ್ನು ನೇರವಾಗಿ ಪ್ರಯಾಣ ವಿಮಾ ಪೂರೈಕೆದಾರರೊಂದಿಗೆ ಚರ್ಚಿಸಬೇಕು ಫೋರ್ಟ್ ಮೈಯರ್ಸ್ ಫ್ಲಾ ಬೋಸ್ಟನ್ ರೆಡ್ ಸಾಕ್ಸ್ ಸಣ್ಣ ಲೀಗ್ ಪಿಚರ್ ಚಿಹ್ ಜಂಗ್ ಲಿಯು ಅವರನ್ನು ಕರೋನವೈರಸ್ ಭಯದಿಂದ ನಿರ್ಬಂಧಿಸಿಲ್ಲ ಎಂದು ತಂಡದ ಮಾಧ್ಯಮ ಸಂಬಂಧಗಳ ಉಪಾಧ್ಯಕ್ಷ ಕೆವಿನ್ ಗ್ರೆಗ್ ಬುಧವಾರ ಹೇಳಿದ್ದಾರೆ ವರ್ಷದ ತೈವಾನೀಸ್ ಬಲಗೈ ಆಟಗಾರನನ್ನು ತಂಡವು ನಿರ್ಬಂಧಿಸಿದೆ ಎಂದು ಬುಧವಾರ ತಪ್ಪಾದ ವರದಿಗಳು ತಿಳಿಸಿವೆ ಅವರು ಕಳೆದ ವಾರ ತಮ್ಮ ಏಷ್ಯನ್ ತಾಯ್ನಾಡಿನಿಂದ ಫೋರ್ಟ್ ಮೈಯರ್ಸ್ ಗೆ ಆಗಮಿಸಿದ್ದರು ಜೆಟ್ ಬ್ಲೂ ಪಾರ್ಕ್ ನಲ್ಲಿ ವಸಂತ ತರಬೇತಿಗೆ ಶನಿವಾರದವರೆಗೆ ವರದಿಯನ್ನು ವಿಳಂಬಗೊಳಿಸುವಂತೆ ತಂಡವು ಕೇಳಿಕೊಂಡಿದೆ ಎಂದು ಲಿಯು ತೈವಾನ್ ನಿಂದ ಸ್ಯಾನ್ ಫ್ರಾನ್ಸಿಸ್ಕೋಗೆ ಹಾರಿದರು ಮತ್ತು ನಂತರ ಫೋರ್ಟ್ ಮೈಯರ್ಸ್ ಗೆ ತಡವಾಗಿ ಕಳೆದ ವಾರ ಲಿಯು ಸೋಶಿಯಲ್ ಮೀಡಿಯಾದಲ್ಲಿ ದಿನಕ್ಕೆ ಮೂರು ಟಗಳನ್ನು ವಿತರಿಸುತ್ತಿದ್ದಾನೆ ಮತ್ತು ಸ್ವಲ್ಪ ತೂಕದ ತರಬೇತಿ ನೀಡುತ್ತಿದ್ದಾನೆ ಮತ್ತು ಸಾಂದರ್ಭಿಕ ಓಟಕ್ಕೆ ಹೋಗುತ್ತಿದ್ದಾನೆ ಆದರೆ ಇಲ್ಲದಿದ್ದರೆ ತಂಡದ ಬಗ್ಗೆ ಆನ್ ಲೈನ್ ನಲ್ಲಿ ಸಮಯವನ್ನು ಕಳೆಯುತ್ತಿದ್ದಾನೆ ಮತ್ತು ದಿ ಬೋಸ್ಟನ್ ಗ್ಲೋಬ್ ಪ್ರಕಾರ ಓದುತ್ತಿದ್ದಾನೆ ವಾರಗಳವರೆಗೆ ಎಂ ಕೋ ತನ್ನ ಉಸಿರಾಟದ ಫೇಸ್ ಮಾಸ್ಕ್ ಗಳ ಉತ್ಪಾದನೆಯನ್ನು ಕೋವಿಡ್ ಕರೋನವೈರಸ್ ವಿರುದ್ಧ ರಕ್ಷಣಾತ್ಮಕ ಗೇರ್ ನ ಪ್ರಮುಖ ಭಾಗವಾಗಿಸುತ್ತಿದೆ ಆದರೆ ಕಂಪನಿಯು ಭವಿಷ್ಯದ ಬೇಡಿಕೆಗಾಗಿ ಮುಖವಾಡಗಳ ಪೂರೈಕೆಯನ್ನು ಮೀರುವ ಜಾಗತಿಕ ಬೇಡಿಕೆಯನ್ನು ನಿರೀಕ್ಷಿಸುತ್ತಿದೆ ಎಂದು ಸ್ಟಾರ್ ಟ್ರಿಬ್ಯೂನ್ ನವೀಕರಿಸಿದೆ ನ ಮುಖವಾಡ ತಯಾರಿಸುವ ಪ್ರಯತ್ನಗಳು ಮ್ಯಾಪಲ್ ವುಡ್ ಮೂಲದ ಕಂಪನಿಯು ಚೀನಾದಲ್ಲಿ ಉತ್ಪಾದನೆಯನ್ನು ಹೆಚ್ಚಿಸಿದೆ ಕೋವಿಡ್ ಏಕಾಏಕಿ ಕೇಂದ್ರಬಿಂದುವಾಗಿದೆ ಅಲ್ಲಿ ಹತ್ತಾರು ಜನರು ಅನಾರೋಗ್ಯಕ್ಕೆ ಒಳಗಾಗಿದ್ದಾರೆ ಮತ್ತು ಕಾರ್ಖಾನೆಗಳಲ್ಲಿ ವಿಶ್ವಾದ್ಯಂತ ಪ್ರಯಾಣಕ್ಕೆ ಯಾವುದೇ ಸಂಪರ್ಕವಿಲ್ಲದ ಕ್ಯಾಲಿಫೋರ್ನಿಯಾ ಆರೋಗ್ಯ ಅಧಿಕಾರಿಗಳು ಮೊದಲ ಬಾರಿಗೆ ನೀವು ಎಸ್ ಕರೋನವೈರಸ್ ಪ್ರಕರಣದ ಬಗ್ಗೆ ಎಚ್ಚರಿಕೆ ನೀಡುತ್ತಿದ್ದಾರೆ ಈ ಪ್ರಕರಣವು ನಿಮ್ಮ ಎಸ್ ನಲ್ಲಿ ತಿಳಿದಿರುವ ಪ್ರಕರಣಗಳಲ್ಲಿ ಒಂದಾಗಿದೆ ಮತ್ತು ವಿಶ್ವಾದ್ಯಂತ ಕ್ಕೂ ಹೆಚ್ಚು ಪ್ರಕರಣಗಳು ವಿಶ್ವದಾದ್ಯಂತ ಸೌದಿ ಅರೇಬಿಯಾ ತನ್ನ ಎಲ್ಲಾ ಪ್ರಮುಖ ಇಸ್ಲಾಮಿಕ್ ಪವಿತ್ರ ತಾಣಗಳನ್ನು ಮುಚ್ಚಿದೆ ಕಾರ್ಟರ್ ಇವಾನ್ಸ್ ಹರಡದಂತೆ ಕರೋನವೈರಸ್ ಅನ್ನು ತಡೆಯಲು ಇಡೀ ತಿಂಗಳು ಎಲ್ಲಾ ಶಾಲೆಗಳನ್ನು ಮುಚ್ಚುವುದಾಗಿ ಜಪಾನ್ ಹೇಳಿದೆ ಅಲ್ಲಿ ನೀವು ಇತ್ತೀಚಿನ ಎಸ್ ರೋಗಿಯನ್ನು ಪ್ರತ್ಯೇಕವಾಗಿ ಚಿಕಿತ್ಸೆ ಪಡೆಯುತ್ತಿದ್ದೀರಿ ಫ್ರಾಂಕ್ ಫರ್ಟ್ ಫೆಬ್ರವರಿ ರಾಯಿಟರ್ಸ್ ಕಾರ್ ತಯಾರಕರು ಮುಂದಿನ ವಾರ ಜಿನೀವಾ ಕಾರು ಪ್ರದರ್ಶನಕ್ಕೆ ಹಾಜರಾಗುವ ಸಿಬ್ಬಂದಿಯನ್ನು ಕಡಿಮೆಗೊಳಿಸುತ್ತಿದ್ದಾರೆ ಏಕೆಂದರೆ ಜಿನೀವಾ ಟೊಯೋಟಾದಲ್ಲಿ ಒಂದು ಸೇರಿದಂತೆ ಮೂರು ಹೊಸ ಕರೋನವೈರಸ್ ಪ್ರಕರಣಗಳನ್ನು ಸ್ವಿಟ್ಜರ್ಲೆಂಡ್ ದೃ ಪಡಿಸಿದೆ ಎಂದು ಗುರುವಾರ ಹೇಳಿದೆ ಜಿನೀವಾ ವಾಚ್ ಮೇಳವನ್ನು ರದ್ದುಪಡಿಸಿದಂತೆಯೇ ಕಾರ್ ಪ್ರದರ್ಶನವು ಮುಂದುವರಿಯುತ್ತದೆ ಮತ್ತು ಸ್ವಿಸ್ ಅಧಿಕಾರಿಗಳು ವರದಿ ಮಾಡಿದಂತೆ ಜಿನೀವಾ ಪ್ರಯಾಣದ ನಿರ್ಬಂಧಗಳಿಗೆ ವೈರಸ್ ಹರಡಿತು ಮತ್ತು ವೈರಸ್ ಹರಡುವ ಭೀತಿ ಈಗಾಗಲೇ ಮೊಬೈಲ್ ಸೇರಿದಂತೆ ಇತರ ವ್ಯಾಪಾರ ಮೇಳಗಳನ್ನು ಮುಂದೂಡಲು ಅಥವಾ ರದ್ದುಗೊಳಿಸಲು ಕಾರಣವಾಗಿದೆ ಬಾರ್ಸಿಲೋನಾದ ಫ್ರಾಂಕ್ ಫರ್ಟ್ ನ ಲೈಟ್ ಬಿಲ್ಡಿಂಗ್ ಫೇರ್ ಮತ್ತು ಬೀಜಿಂಗ್ ಆಟೋ ಶೋನಲ್ಲಿ ನಡೆದ ವಿಶ್ವ ಕಾಂಗ್ರೆಸ್ ಬುಧವಾರ ಫೆರಾರಿಯ ಮುಖ್ಯ ಕಾರ್ಯನಿರ್ವಾಹಕರು ಮತ್ತು ಬ್ರೇಕ್ ತಯಾರಕ ಬ್ರೆಂಬೊ ಅವರು ಇಟಾಲಿಯನ್ ಅಧಿಕಾರಿಗಳು ವಿಧಿಸಿದ ಪ್ರಯಾಣ ನಿರ್ಬಂಧದಿಂದಾಗಿ ಸ್ವಿಸ್ ಕಾರ್ ಪ್ರದರ್ಶನದಲ್ಲಿ ಹಾಜರಾತಿಯನ್ನು ರದ್ದುಗೊಳಿಸಿದ್ದಾರೆ ಎಂದು ತಿಳಿದುಬಂದಿದೆ ಮೀಡ್ ಜಾನ್ಸನ್ ಸ್ವಾಧೀನದ ಮೇಲೆ ಬಿಲಿಯನ್ ಪೌಂಡ್ ಶುಲ್ಕವನ್ನು ತೆಗೆದುಕೊಳ್ಳುತ್ತದೆ ಆರೋಗ್ಯ ನೈರ್ಮಲ್ಯ ಮತ್ತು ಪೌಷ್ಟಿಕಾಂಶದ ಷೇರುಗಳು ಸುಮಾರು ಪತನದ ನಂತರ ಮರುಕಳಿಸುತ್ತದೆ ವಿಶ್ಲೇಷಕರ ಕಾಮೆಂಟ್ಗಳನ್ನು ಬ್ರೇಕಿಂಗ್ ವ್ಯೂಸ್ ಲಿಂಕ್ ಸೇರಿಸುತ್ತದೆ ಸಿದ್ಧಾರ್ಥ್ ಕ್ಯಾವಾಲೆ ಫೆಬ್ರವರಿ ರಾಯಿಟರ್ಸ್ ರೆಕಿಟ್ ಬೆಂಕಿಸರ್ ಅವರ ಹೊಸ ಸಿಇಒ ಗುರುವಾರ ಬಿಲಿಯನ್ ಪೌಂಡ್ಗಳನ್ನು ಖರ್ಚು ಮಾಡುವ ಯೋಜನೆಗಳನ್ನು ಅನಾವರಣಗೊಳಿಸಿದ್ದಾರೆ ಮುಂದಿನ ಮೂರು ವರ್ಷಗಳಲ್ಲಿ ಕಂಪನಿಯು ತನ್ನ ಬೇಬಿ ಫಾರ್ಮುಲಾ ವ್ಯವಹಾರದ ಮೌಲ್ಯದ ಮೇಲೆ ಬಿಲಿಯನ್ ಪೌಂಡ್ ರಿಟೌನ್ ಅನ್ನು ತೆಗೆದುಕೊಂಡಿದ್ದರಿಂದ ಮೀಡ್ ಜಾನ್ಸನ್ ರೆಕ್ಕಿಟ್ ಮೀಡ್ ಜಾನ್ಸನ್ ರನ್ನು ರಲ್ಲಿ ಸುಮಾರು ಬಿಲಿಯನ್ ಪೌಂಡ್ ಗಳಿಗೆ ಖರೀದಿಸಿದರು ಬ್ರಾಂಡೆಡ್ ಬೇಬಿ ಫಾರ್ಮುಲಾ ಉತ್ಪನ್ನಗಳಿಗೆ ಹೆಚ್ಚುತ್ತಿರುವ ಬೇಡಿಕೆಯ ಮೇಲೆ ಬೆಟ್ಟಿಂಗ್ ಅಭಿವೃದ್ಧಿ ಹೊಂದುತ್ತಿರುವ ಮಾರುಕಟ್ಟೆಗಳು ವಿಶೇಷವಾಗಿ ಚೀನಾ ರೆಕಿಟ್ ಷೇರುಗಳು ಸಕಾರಾತ್ಮಕ ಭೂಪ್ರದೇಶಕ್ಕೆ ಮರುಕಳಿಸುವ ಮೊದಲು ಕ್ಕಿಂತಲೂ ಹೆಚ್ಚು ಕುಸಿದವು ಏಕೆಂದರೆ ರೆಕ್ಕಿಟ್ ತನ್ನ ಗುರಿಗಳ ಮೇಲೆ ಹೆಚ್ಚಿನ ಸಾಧನೆ ಮಾಡಲಿಲ್ಲ ಏಕೆಂದರೆ ಹೊಸ ಯೋಜನೆಗಳು ನರಸಿಂಹನ್ ಅವರ ಯೋಜನೆಗಳು ಮೂರು ವರ್ಷಗಳಲ್ಲಿ ಬಿಲಿಯನ್ ಪೌಂಡ್ಗಳಷ್ಟು ಹೂಡಿಕೆಯನ್ನು ಸುರಿಯುವುದನ್ನು ಒಳಗೊಂಡಿವೆ ಏಕ ಅಂಕಿಯ ಮಾರಾಟ ಮತ್ತು ಪ್ರತಿ ಷೇರಿನ ಗಳಿಕೆ ಬದಲಿಗೆ ಕಂಪನಿಯು ಹೊಸ ಹೂಡಿಕೆದಾರರಿಗೆ ಧನಸಹಾಯ ನೀಡಲು ಯೋಜಿಸಿದೆ ಬಿಲಿಯನ್ ಪೌಂಡ್ ಗಳ ಆಂತರಿಕ ಉತ್ಪಾದಕತೆಯ ಉಳಿತಾಯದ ಮೂಲಕ ಅದರ ಹೊಂದಾಣಿಕೆಯ ಅಂಚುಗಳನ್ನು ಸುಮಾರು ಶೇಕಡಾ ಪಾಯಿಂಟ್ ಗಳಿಂದ ಕಡಿಮೆ ಮಾಡುತ್ತದೆ ಮತ್ತು ರಲ್ಲಿ ಹೊಂದಾಣಿಕೆಯ ಗಳಿಕೆಯಲ್ಲಿ ಇಳಿಕೆ ಕಂಡುಬರುತ್ತದೆ ಆಪಲ್ ನಾಸ್ಡಾಕ್ ಎಎಪಿಎಲ್ ನಿಕ್ ಫೋರ್ಲೆನ್ಜಾ ಅವರ ಉತ್ಪಾದನಾ ವಿನ್ಯಾಸದ ನಿವೃತ್ತಿಯನ್ನು ಕಳೆದುಕೊಂಡಿತು ಮತ್ತು ಮಾಜಿ ಕಾರ್ಯಾಚರಣೆಗಳು ವಿಪಿ ಡುಕೋ ಪಾಸ್ಮೂಯಿಜ್ ಅವರು ತಮ್ಮ ನಿರ್ಗಮನದ ಬಗ್ಗೆ ಬ್ಲೂಮ್ ಬರ್ಗ್ ಮೂಲಗಳ ಪ್ರಕಾರ ಚರ್ಚಿಸುತ್ತಿದ್ದಾರೆ ಎಆರ್ ಹೆಡ್ ಆಪಲ್ ಕಂಪನಿಯಾದ್ಯಂತ ಸುಮಾರು ನೂರು ವಿಪಿಗಳನ್ನು ಹೊಂದಿದೆ ಆದರೆ ಉತ್ಪಾದನಾ ಪೂರೈಕೆ ಸರಪಳಿ ಮತ್ತು ಕಾರ್ಯಾಚರಣೆಗಳ ಗುಂಪು ಅನೇಕ ಪ್ರಮುಖ ಸಾಧನಗಳಲ್ಲಿ ಪ್ರಮುಖ ಪಾತ್ರ ವಹಿಸುತ್ತದೆ ಯುಎಸ್ ಚೀನಾ ವ್ಯಾಪಾರ ಯುದ್ಧ ಮತ್ತು ಕೊರೊನಾವೈರಸ್ ಏಕಾಏಕಿ ಅಡ್ಡಿಪಡಿಸುವ ಪೂರೈಕೆ ಸರಪಳಿ ಸೇರಿದಂತೆ ಭೌಗೋಳಿಕ ರಾಜಕೀಯ ಸಮಸ್ಯೆಗಳನ್ನು ನಿಭಾಯಿಸಲು ಈ ಗುಂಪು ಸಹಾಯ ಮಾಡುತ್ತದೆ ವಿಪಿ ನಿರ್ಗಮನಗಳು ಪರಸ್ಪರ ಸಂಬಂಧವಿಲ್ಲ ಅಥವಾ ಪೂರೈಕೆ ಸರಪಳಿ ಅಡ್ಡಿಪಡಿಸುತ್ತದೆ ಚೀನಾದ ಹುಬೈ ಪ್ರಾಂತ್ಯದ ಕಿಯಾಂಜಿಯಾಂಗ್ ನಗರವು ಕರೋನವೈರಸ್ ಕಾದಂಬರಿಗೆ ಸಂಬಂಧಿಸಿದ ರೋಗಲಕ್ಷಣಗಳನ್ನು ಪೂರ್ವಭಾವಿಯಾಗಿ ವರದಿ ಮಾಡುವ ನಿವಾಸಿಗಳಿಗೆ ಪ್ರಶಸ್ತಿ ನೀಡುತ್ತಿದೆ ಮತ್ತು ರೋಗಲಕ್ಷಣಗಳನ್ನು ವರದಿ ಮಾಡುವ ಮತ್ತು ಕಾದಂಬರಿ ಕೊರೊನಾವೈರಸ್ ಹೊಂದಿದೆಯೆಂದು ದೃ ೀಕರಿಸಲ್ಪಟ್ಟ ಯಾವುದೇ ನಿವಾಸಿಗಳಿಗೆ ಯುವಾನ್ ಅಥವಾ ಸುಮಾರು ರಂತೆ ಕಿಯಾಂಜಿಯಾಂಗ್ ಸರ್ಕಾರದ ಪತ್ರಿಕಾ ಪ್ರಕಟಣೆಯ ಪ್ರಕಾರ ಕಿಯಾನ್ಜಿಯಾಂಗ್ ಚೀನಾದ ಕರೋನವೈರಸ್ ಏಕಾಏಕಿ ಕೇಂದ್ರಬಿಂದುವಾಗಿರುವ ಹುಬೈ ಪ್ರಾಂತ್ಯವು ಕಾದಂಬರಿ ಕರೋನವೈರಸ್ ಮತ್ತು ಒಂಬತ್ತು ಸಾವುಗಳ ದೃ ಪಡಿಸಿದ ಪ್ರಕರಣಗಳನ್ನು ವರದಿ ಮಾಡಿದೆ ಇದು ದೃ ಪಡಿಸಿದ ಪ್ರಕರಣಗಳನ್ನು ಮತ್ತು ಕ್ಕೂ ಹೆಚ್ಚು ಸಾವುಗಳನ್ನು ಕಂಡಿದೆ ಮತ್ತು ಸಾಂಕ್ರಾಮಿಕ ರೋಗವು ಪ್ರಾರಂಭವಾದಾಗಿನಿಂದ ಇತರ ನಿವಾಸಿಗಳಿಗೆ ವಿತ್ತೀಯ ಪ್ರೋತ್ಸಾಹವನ್ನು ನೀಡುತ್ತಿದೆ ನಗರಗಳೂ ಸಹ ಹನ್ಯಾಂಗ್ ಜಿಯಾಂಗನ್ ವುಚಾಂಗ್ ಮತ್ತು ಶಿಯಾನ್ ಶಿಯಾನ್ ಅಧಿಕಾರಿಗಳು ಇತ್ತೀಚೆಗೆ ನಿವಾಸಿ ಯುವಾನ್ ಗೆ ಬಹುಮಾನ ನೀಡಿದರು ಆದರೆ ಬೇರೊಬ್ಬರನ್ನು ವರದಿ ಮಾಡಿದ್ದಕ್ಕಾಗಿ ನವೆಂಬರ್ ಮತ್ತು ಜುಲೈ ರ ನಡುವೆ ದೇಶಗಳಲ್ಲಿ ಸಾವುಗಳಿಗೆ ಕಾರಣವಾದ ಎಸ್ ಒಆರ್ಎಸ್ ಕೊರೊನಾವೈರಸ್ ಗಿಂತ ಕೋವಿಡ್ ರ ಜೀವಕೋಶಗಳಿಗೆ ಸೋಂಕು ತಗುಲಿಸುವ ಸಾಮರ್ಥ್ಯ ಪಟ್ಟು ಹೆಚ್ಚು ಎಂದು ನಂಕೈ ವಿಶ್ವವಿದ್ಯಾಲಯದ ಹೊಸ ಅಧ್ಯಯನವೊಂದು ಆರೋಪಿಸಿದೆ ನಂಕೈ ವಿಶ್ವವಿದ್ಯಾಲಯದ ಪ್ರೊಫೆಸರ್ ರುವಾನ್ ಜಿಶೌ ಮತ್ತು ಅವರ ತಂಡವು ಜೀನ್ ಗಳನ್ನು ಕಂಡುಹಿಡಿದಿದೆ ಕೋವಿಡ್ ರಲ್ಲಿ ಇದು ನಲ್ಲಿ ಅಸ್ತಿತ್ವದಲ್ಲಿಲ್ಲ ಆದರೆ ದಕ್ಷಿಣ ಚೀನಾ ಮಾರ್ನಿಂಗ್ ಪೋಸ್ಟ್ ಪ್ರಕಾರ ಎಚ್ ಐವಿ ಮತ್ತು ಎಬೋಲ್ ಹರಡುವ ಜವಾಬ್ದಾರಿಯುತ ಎರಡೂ ವೈರಸ್ ಗಳಲ್ಲಿ ಕಂಡುಬರುತ್ತದೆ ವೈರಸ್ ಹಿಸಿದಂತೆ ವರ್ತಿಸುತ್ತದೆಯೆ ಎಂದು ವಿಜ್ಞಾನಿಗಳು ತಮ್ಮ ಕಾಗದದಲ್ಲಿ ಹೇಳಿದ್ದಾರೆ ಹೆಸರಿಸದ ಸಂಶೋಧಕರೊಬ್ಬರು ದಕ್ಷಿಣ ಚೀನಾ ಮಾರ್ನಿಂಗ್ ಪೋಸ್ಟ್ಗೆ ಹೇಳಿದ ಪ್ರಯೋಗಗಳು ಸೇರಿದಂತೆ ಇತರ ಸಾಕ್ಷ್ಯಗಳು ಬೇಕಾಗುತ್ತವೆ ಇನ್ನೂ ಎರಡು ಕರೋನವೈರಸ್ ಪ್ರಕರಣಗಳು ಯುಕೆಯಲ್ಲಿ ದೃ ಪಟ್ಟಿದೆ ಅಂದರೆ ದೇಶದಲ್ಲಿ ಒಟ್ಟು ಜನರು ವೈರಸ್ ಗೆ ಧನಾತ್ಮಕತೆಯನ್ನು ಪರೀಕ್ಷಿಸಿದ್ದಾರೆ ಕಳೆದ ತಿಂಗಳುಗಳಲ್ಲಿ ಸರಣಿ ವಿಲೇವಾರಿಯ ನಂತರ ಹೆಚ್ಚುತ್ತಿರುವ ಲಾಭವನ್ನು ಕಾರು ವ್ಯಾಪಾರಿ ಮತ್ತು ವಿತರಕ ಇಂಚೇಪ್ ಬಹಿರಂಗಪಡಿಸಿದ್ದಾರೆ ವಿಶ್ವದಾದ್ಯಂತ ದೇಶಗಳಲ್ಲಿ ಕಾರ್ಯಾಚರಣೆ ನಡೆಸುತ್ತಿರುವ ವೆಸ್ಟ್ ಮಿಡ್ಲ್ಯಾಂಡ್ಸ್ ಮೂಲದ ವ್ಯವಹಾರವು ಯುಕೆ ನಲ್ಲಿ ಚೀನಾ ಫ್ಲೀಟ್ ವ್ಯವಹಾರದಲ್ಲಿ ಚಿಲ್ಲರೆ ಕಾರ್ಯಾಚರಣೆಯನ್ನು ಮಾರಾಟ ಮಾಡುವುದು ಮತ್ತು ಆಸ್ಟ್ರೇಲಿಯಾದ ಸೈಟ್ ಗಳು ಸಹಾಯ ಮಾಡಿದೆ ಎಂದು ಹೇಳಿದರು ಕರೋನವೈರಸ್ ಏಕಾಏಕಿ ಕಂಪನಿಯ ಮೇಲೆ ಪರಿಣಾಮ ಬೀರುವ ಸಣ್ಣ ಚಿಹ್ನೆಗಳನ್ನು ತೋರಿಸಲು ಪ್ರಾರಂಭಿಸುವುದರೊಂದಿಗೆ ಬ್ಯಾಂಕ್ ಮಿಲಿಯನ್ ಮೇಲಧಿಕಾರಿಗಳು ಭವಿಷ್ಯದ ಬಗ್ಗೆ ಜಾಗರೂಕರಾಗಿದ್ದರು ಬೇಡಿಕೆ ಮತ್ತು ಪೂರೈಕೆಯ ಮೇಲೆ ಕರೋನವೈರಸ್ ಪರಿಣಾಮವು ಅನಿಶ್ಚಿತವಾಗಿಯೇ ಉಳಿದಿದೆ ಮತ್ತು ನಾವು ಪರಿಸ್ಥಿತಿಯನ್ನು ಸೂಕ್ಷ್ಮವಾಗಿ ಗಮನಿಸುತ್ತಲೇ ಇರುತ್ತೇವೆ ಪೂರೈಕೆ ಅನಿಶ್ಚಿತವಾಗಿ ಉಳಿದಿದೆ ಮತ್ತು ನಾವು ಪರಿಸ್ಥಿತಿಯನ್ನು ಸೂಕ್ಷ್ಮವಾಗಿ ಗಮನಿಸುತ್ತಲೇ ಇರುತ್ತೇವೆ ಫೆಬ್ರವರಿಯಲ್ಲಿ ನಾವು ನಮ್ಮ ಏಷ್ಯಾ ವ್ಯವಹಾರದ ಮೇಲೆ ಹಾಂಗ್ ಕಾಂಗ್ ಸಿಂಗಾಪುರ್ ಮತ್ತು ಮಕಾವುಗಳಲ್ಲಿ ಕಡಿಮೆ ಇಳಿಕೆಯೊಂದಿಗೆ ಸಣ್ಣ ಪರಿಣಾಮವನ್ನು ಕಂಡಿದ್ದೇವೆ ಮಾರಾಟದ ಪರಿಣಾಮವಾಗಿ ಪ್ರಿಟಾಕ್ಸ್ ಲಾಭವು ರಿಂದ ದಶಲಕ್ಷಕ್ಕೆ ಏರಿತು ರಿಂದ ಶತಕೋಟಿ ಡಾಲರ್ಗಳಷ್ಟು ಹೆಚ್ಚಳವು ಅದರ ಯುಕೆ ಒಂದರಲ್ಲಿ ಭಾರಿ ಮಿಲಿಯನ್ ಸದ್ಭಾವನೆ ಮೌಲ್ಯದ ರಿಟೌನ್ ಆಗಿದೆ ರಲ್ಲಿ ಕಾರ್ಯಾಚರಣೆಗಳು ಬ್ಯಾಲೆನ್ಸ್ ಶೀಟ್ ಗೆ ಒಂದು ಆಫ್ ವರ್ಧಕವನ್ನು ಹೊರತುಪಡಿಸಿ ರಿಂದ ಕ್ಕೆ ಇಳಿದಿದೆ ಎಂದು ಮಿಲಿಯನ್ ಮುಖ್ಯ ಕಾರ್ಯನಿರ್ವಾಹಕ ಸ್ಟೀಫನ್ ಬೊಮ್ಹಾರ್ಡ್ ಹೇಳಿದರು ಹಲವಾರು ಮಾರುಕಟ್ಟೆಗಳಲ್ಲಿ ಸವಾಲಿನ ಡೈನಾಮಿಕ್ಸ್ ನ ಹಿನ್ನೆಲೆಯ ವಿರುದ್ಧ ರಲ್ಲಿ ನಮ್ಮ ಸಾಧನೆ ಇಂಚೇಪ್ಸ್ ವ್ಯವಹಾರ ಮಾದರಿಯಲ್ಲಿ ಸ್ಥಿತಿಸ್ಥಾಪಕತ್ವವನ್ನು ತೋರಿಸುತ್ತದೆ ಕಂಪನಿಯು ವರ್ಷಕ್ಕೆ ಲಾಭವು ಸಾಧಾರಣವಾಗಿ ಕಡಿಮೆಯಾಗಲಿದೆ ಎಂದು ನಾವು ನಿರೀಕ್ಷಿಸುತ್ತೇವೆ ಇದು ರಲ್ಲಿ ವಿಲೇವಾರಿ ಮಾಡಿದ ನಂತರ ಕಳೆದುಹೋದ ನಿರೀಕ್ಷಿತ ವಹಿವಾಟಿನ ಆಸ್ಟ್ರೇಲಿಯಾದ ಡಾಲರ್ ಜಪಾನೀಸ್ ಯೆನ್ ಹೆಡ್ ವಿಂಡ್ ಲಾಭವನ್ನು ಹೊರತುಪಡಿಸುತ್ತದೆ ಮತ್ತು ಕರೋನವೈರಸ್ ಕೀ ಡ್ರೈವರ್ ಗಳಿಂದ ಯಾವುದೇ ಪರಿಣಾಮವು ಸಿಂಗಾಪುರದಲ್ಲಿ ಮಾರುಕಟ್ಟೆ ಸಂಕೋಚನವನ್ನು ಒಳಗೊಂಡಿರುತ್ತದೆ ಆಸ್ಟ್ರೇಲಿಯಾದ ಮಾರುಕಟ್ಟೆಯಲ್ಲಿ ಕಾಂಗ್ ಮತ್ತು ದೌರ್ಬಲ್ಯ ಪ್ರಸ್ತುತ ಹಲವಾರು ನಕಲಿ ಜಾಹೀರಾತುಗಳು ಫೇಸ್ ಬುಕ್ ನಲ್ಲಿ ತಮ್ಮ ತಿರುವುಗಳನ್ನು ಪಡೆದುಕೊಳ್ಳುತ್ತಿವೆ ಮತ್ತು ಕರೋನವೈರಸ್ ಕಾದಂಬರಿಯ ವಿರುದ್ಧ ಪರಿಹಾರವನ್ನು ನೀಡುವುದಾಗಿ ಹೇಳಿಕೊಂಡಿದೆ ಬಿಸಿನೆಸ್ ಇನ್ಸೈಡರ್ ಫೇಸ್ ಬುಕ್ ಗೆ ನೀಡಿದ ಹೇಳಿಕೆಯಲ್ಲಿ ಕಂಪನಿಯು ತನ್ನ ಮಾರ್ಕೆಟ್ ಪ್ಲೇಸ್ ಪ್ಲಾಟ್ ಫಾರ್ಮ್ ಗೆ ಸಹ ಇದೇ ರೀತಿಯ ನೀತಿಗಳನ್ನು ಹೊಂದಿದೆ ಎಂದು ದೃ ಪಡಿಸಿದೆ ಅದು ಬಳಕೆದಾರರಿಗೆ ವಸ್ತುಗಳನ್ನು ಖರೀದಿಸಲು ಮತ್ತು ಮಾರಾಟ ಮಾಡಲು ಅನುವು ಮಾಡಿಕೊಡುತ್ತದೆ ಕರೋನವೈರಸ್ ಅನ್ನು ಉಲ್ಲೇಖಿಸುವ ಉತ್ಪನ್ನಗಳಿಗೆ ಜಾಹೀರಾತುಗಳನ್ನು ನಿಲ್ಲಿಸಲು ಮತ್ತು ಸೀಮಿತ ಪೂರೈಕೆಯನ್ನು ಸೂಚಿಸುವ ಅಥವಾ ಚಿಕಿತ್ಸೆ ಅಥವಾ ತಡೆಗಟ್ಟುವಿಕೆಯನ್ನು ಖಾತರಿಪಡಿಸುವಂತಹ ತುರ್ತು ಪ್ರಜ್ಞೆಯನ್ನು ಸೃಷ್ಟಿಸುವ ಕ್ರಮಗಳನ್ನು ತೆಗೆದುಕೊಳ್ಳುವ ಮೂಲಕ ವಿಶ್ವ ಆರೋಗ್ಯ ಸಂಸ್ಥೆಯ ಪ್ರಯತ್ನಗಳನ್ನು ಬೆಂಬಲಿಸಲು ಫೇಸ್ ಬುಕ್ ತನ್ನ ಅತ್ಯುತ್ತಮ ಪ್ರಯತ್ನವನ್ನು ಮಾಡುತ್ತಿದೆ ಈ ಹಕ್ಕಿನ ಹೊರತಾಗಿಯೂ ಹಲವಾರು ವಿರೋಧಿ ಲಸಿಕೆ ಜಾಹೀರಾತುಗಳು ಪ್ಲಾಟ್ ಫಾರ್ಮ್ ನಲ್ಲಿ ಪಾಪ್ ಅಪ್ ಆಗಿವೆ ಎಂದು ವರದಿಗಳು ಸೂಚಿಸಿವೆ ಆ ಜಾಹೀರಾತುಗಳಲ್ಲಿ ಯಾವುದೂ ಸೆಟ್ ನೀತಿಗಳನ್ನು ಉಲ್ಲಂಘಿಸಿಲ್ಲ ಎಂದು ಫೇಸ್ ಬುಕ್ ಉತ್ತರಿಸಿದೆ ಲಸಿಕೆ ತಪ್ಪು ಮಾಹಿತಿ ಹೊಂದಿರುವ ಜಾಹೀರಾತುಗಳನ್ನು ನಿಷೇಧಿಸುವುದು ನಮ್ಮ ನೀತಿಯಾಗಿದೆ ಎಂದು ಫೇಸ್ ಬುಕ್ ಬ ್ಫೀಡ್ ನ್ಯೂಸ್ ಗೆ ತಿಳಿಸಿದೆ ಇದು ಲಸಿಕೆಗಳಿಗೆ ವಿರೋಧ ವ್ಯಕ್ತಪಡಿಸುತ್ತದೆ ಮೇಲ್ನೋಟಕ್ಕೆ ಇಯು ಮತ್ತು ನಿರ್ದಿಷ್ಟವಾಗಿ ಯುರೋಪಿಯನ್ ಸೆಂಟರ್ ಫಾರ್ ಡಿಸೀಸ್ ಪ್ರಿವೆನ್ಷನ್ ಅಂಡ್ ಕಂಟ್ರೋಲ್ ಇಸಿಡಿಸಿ ವೈರಸ್ ಅನ್ನು ಎದುರಿಸಲು ಪೂರ್ವಭಾವಿಯಾಗಿ ಕಾರ್ಯನಿರ್ವಹಿಸುತ್ತಿದೆ ಎಂದು ತೋರುತ್ತಿದೆ ಇಟಲಿ ಫ್ರಾನ್ಸ್ ಮತ್ತು ಇತರ ಪಶ್ಚಿಮ ಯುರೋಪಿಯನ್ ದೇಶಗಳಲ್ಲಿ ಇತ್ತೀಚಿನ ಹರಡುವಿಕೆಯ ಹೊರತಾಗಿಯೂ ಇಸಿಡಿಸಿ ಡಿಡಬ್ಲ್ಯೂಗೆ ಇಯು ದೇಶಗಳಿಗೆ ತಿಳಿಸಿದೆ ಮತ್ತು ಯುರೋಪಿಯನ್ ಎಕನಾಮಿಕ್ ಏರಿಯಾದಲ್ಲಿರುವವರು ರಾಷ್ಟ್ರೀಯ ಆರೋಗ್ಯ ಪ್ರಾಧಿಕಾರಗಳಿಂದ ಸಕ್ರಿಯಗೊಳಿಸಬಹುದಾದ ಬೆದರಿಕೆಯನ್ನು ಮತ್ತು ಸಾಂಕ್ರಾಮಿಕ ಸನ್ನದ್ಧತೆ ಯೋಜನೆಗಳನ್ನು ಎದುರಿಸುವ ಪ್ರಯತ್ನಗಳನ್ನು ಬೆಂಬಲಿಸುವ ಒಂದು ಮಟ್ಟದ ಸನ್ನದ್ಧತೆಯನ್ನು ಹೊಂದಿದ್ದಾರೆ ದೇಶದ ಆರ್ಥಿಕ ಶಕ್ತಿಗಿಂತ ಉತ್ತಮ ಯೋಜನೆ ಮುಖ್ಯ ಎಂದು ಆರೋಗ್ಯ ಸಂಸ್ಥೆ ಯುರೋಪ್ ಸನ್ನದ್ಧತೆ ಮತ್ತು ಸಾಮರ್ಥ್ಯ ವೃದ್ಧಿ ತಂಡ ಹೇಳಿದೆ ಇಟಲಿಯ ಕ್ಲಸ್ಟರ್ ಗಳ ಮೌಲ್ಯಮಾಪನವು ನಿರ್ಣಾಯಕ ಮಾಹಿತಿಯನ್ನು ಒದಗಿಸುತ್ತದೆ ಎಂದು ಇಸಿಡಿಸಿ ನಿರ್ದೇಶಕ ರೋಮ್ ನಲ್ಲಿ ಬುಧವಾರ ಪತ್ರಿಕಾಗೋಷ್ಠಿಯಲ್ಲಿ ಹೇಳಿದರು ಇತರ ಇಯು ದೇಶಗಳಿಗೆ ಇದರ ಅರ್ಥವೇನೆಂದರೆ ಸಹಜವಾಗಿ ವ್ಯತ್ಯಾಸವಿದೆ ಅಗತ್ಯ ಮಟ್ಟಗಳು ಮತ್ತು ವಿವಿಧ ಹಂತದ ಅಪಾಯಗಳು ಆದರೆ ಎಲ್ಲಾ ದೇಶಗಳು ಹೊಸ ಕರೋನವೈರಸ್ ಗಾಗಿ ಕಾರ್ಯತಂತ್ರದ ಪೂರ್ವಸಿದ್ಧತೆ ಮತ್ತು ಪ್ರತಿಕ್ರಿಯೆ ಯೋಜನೆ ಯಾರೆಂಬುದರ ಮೂಲಕ ಆಯಾ ಯೋಜನೆಗಳನ್ನು ಅಭಿವೃದ್ಧಿಪಡಿಸುತ್ತಿವೆ ಆದ್ದರಿಂದ ಸಂಪನ್ಮೂಲಗಳು ಎಲ್ಲಿ ಅಗತ್ಯವಿದೆಯೋ ಅಲ್ಲಿ ಅಂತರವನ್ನು ಗುರುತಿಸಲಾಗುತ್ತದೆ ರ ಬಿಲಿಯನ್ ಮಾರಾಟವು ದಾಖಲೆಯ ಬೆಳವಣಿಗೆಯ ಸತತ ಮೂರನೇ ವರ್ಷವಾಗಿದೆ ರ ಕಾರ್ಯಾಚರಣೆಯ ಲಾಭ ಮಿಲಿಯನ್ ಮತ್ತು ರ ಹಿಂದಿನ ವರ್ಷ ಮಿಲಿಯನ್ ನಿವ್ವಳ ಆದಾಯ ಮಿಲಿಯನ್ ಮತ್ತು ವರ್ಷದ ಹಿಂದಿನ ವರ್ಷ ಮಿಲಿಯನ್ ಹೊಂದಾಣಿಕೆಯ ಇಬಿಐಟಿಡಿಎ ಮಿಲಿಯನ್ ಮತ್ತು ರ ಹಿಂದಿನ ವರ್ಷ ಮಿಲಿಯನ್ ಪಿಟ್ಸ್ ಬರ್ಗ್ ಫೆಬ್ರವರಿ ಪಿಆರ್ ನ್ಯೂಸ್ವೈರ್ ಕೊಪ್ಪರ್ಸ್ ಹೋಲ್ಡಿಂಗ್ಸ್ ಇಂಕ್ ಎನ್ವೈಎಸ್ಇ ಕೆಒಪಿ ಸಂಸ್ಕರಿಸಿದ ಮರದ ಉತ್ಪನ್ನಗಳ ಸಂಯೋಜಿತ ಜಾಗತಿಕ ಪೂರೈಕೆದಾರ ಮರದ ಸಂಸ್ಕರಣಾ ರಾಸಾಯನಿಕಗಳು ಮತ್ತು ಇಂಗಾಲದ ಸಂಯುಕ್ತಗಳು ಇಂದು ನಿವ್ವಳ ಆದಾಯವನ್ನು ಕೊಪ್ಪರ್ಸ್ ಗೆ ನಾಲ್ಕನೇ ತ್ರೈಮಾಸಿಕದಲ್ಲಿ ಮಿಲಿಯನ್ ಅಥವಾ ದುರ್ಬಲಗೊಳಿಸಿದ ಪ್ರತಿ ಷೇರಿಗೆ ರಷ್ಟು ನಿವ್ವಳ ನಷ್ಟಕ್ಕೆ ಹೋಲಿಸಿದರೆ ವರದಿ ಮಾಡಿದೆ ಹಿಂದಿನ ವರ್ಷದ ತ್ರೈಮಾಸಿಕದಲ್ಲಿ ದುರ್ಬಲಗೊಳಿಸಿದ ಪ್ರತಿ ಷೇರಿಗೆ ಮಿಲಿಯನ್ ಅಥವಾ ರಂತೆ ಹೊಂದಾಣಿಕೆಯಾದ ನಿವ್ವಳ ಆದಾಯ ಮತ್ತು ಪ್ರತಿ ಷೇರಿಗೆ ಹೊಂದಾಣಿಕೆಯ ಗಳಿಕೆ ಇಪಿಎಸ್ ಮಿಲಿಯನ್ ಮತ್ತು ರ ನಾಲ್ಕನೇ ತ್ರೈಮಾಸಿಕದಲ್ಲಿ ಪ್ರತಿ ಷೇರಿಗೆ ರಷ್ಟಿದ್ದರೆ ಮಿಲಿಯನ್ ಮತ್ತು ಪ್ರತಿ ಷೇರಿಗೆ ಹಿಂದಿನ ವರ್ಷದ ತ್ರೈಮಾಸಿಕ ಕ್ರಮವಾಗಿ ಕೊಪ್ಪರ್ಸ್ ಇತ್ತೀಚೆಗೆ ಕೊಪ್ಪರ್ಸ್ ಜಿಯಾಂಗ್ಸು ಕಾರ್ಬನ್ ಕೆಮಿಕಲ್ ಕಂಪನಿ ಲಿಮಿಟೆಡ್ ಕೆಜೆಸಿಸಿಯನ್ನು ಪ್ರತಿಶತದಷ್ಟು ಮಾರಾಟ ಮಾಡಲು ಖಚಿತವಾದ ಒಪ್ಪಂದ ಮಾಡಿಕೊಂಡಿದೆ ಎಂದು ಘೋಷಿಸಿತು ಒಡೆತನದ ಚೀನಾ ಕಲ್ಲಿದ್ದಲು ಟಾರ್ ಬಟ್ಟಿ ಇಳಿಸುವಿಕೆಯ ವ್ಯವಹಾರವು ಉಳಿದ ಪ್ರತಿಶತದಷ್ಟು ಯಿ ೌ ಗ್ರೂಪ್ ಕಂಪನಿ ಲಿಮಿಟೆಡ್ ಒಡೆತನದಲ್ಲಿದೆ ಕೆಜೆಸಿಸಿ ಕೊಪ್ಪರ್ಸ್ ಗಳಿಸಿದ ಲಾಭದ ಕೊಡುಗೆಯನ್ನು ಹೊರತುಪಡಿಸಿ ರಿಂದ ಪ್ರಾರಂಭವಾಗುವ ಅವಧಿಗೆ ಮತ್ತು ಪ್ರತಿವರ್ಷ ರವರೆಗೆ ಸಂಯುಕ್ತ ವಾರ್ಷಿಕ ಬೆಳವಣಿಗೆಯನ್ನು ಪ್ರತಿನಿಧಿಸುತ್ತದೆ ಶೇಕಡಾ ರ ದರ ಮುನ್ಸೂಚನೆಯ ಬಗ್ಗೆ ಪ್ರತಿಕ್ರಿಯಿಸಿದ ಶ್ರೀ ಬಾಲ್ ಕೆಜೆಸಿಸಿಯನ್ನು ಹೊರತುಪಡಿಸಿ ನಮ್ಮ ಬಂಡವಾಳವು ಸತತ ಆರನೇ ವರ್ಷದ ಲಾಭದಾಯಕ ಸುಧಾರಣೆಯನ್ನು ತುಲನಾತ್ಮಕ ಆಧಾರದ ಮೇಲೆ ಅರಿತುಕೊಳ್ಳಲು ಉದ್ದೇಶಿಸಿದೆ ಇದು ಕೊಪ್ಪರ್ಸ್ ತಂತ್ರದ ಮುಂದುವರಿದ ಶಕ್ತಿಯನ್ನು ತೋರಿಸುತ್ತದೆ ರಾಯಿಟರ್ಸ್ ರೆಕ್ಕಿಟ್ ಬೆನ್ ಕಿಸರ್ ನ ಆರ್ ಬಿ ಎಲ್ ಹೊಸ ಸಿಇಒ ಮುಂದಿನ ಮೂರು ವರ್ಷಗಳಲ್ಲಿ ಬಿಲಿಯನ್ ಪೌಂಡ್ ಗಳನ್ನು ಖರ್ಚು ಮಾಡುವ ಯೋಜನೆಯನ್ನು ಅನಾವರಣಗೊಳಿಸಿದ್ದು ಕಂಪನಿಯು ತನ್ನ ಬೇಬಿ ಫಾರ್ಮುಲಾ ವ್ಯವಹಾರದ ಮೌಲ್ಯದ ಮೇಲೆ ಬಿಲಿಯನ್ ಪೌಂಡ್ ರಿಟೌನ್ ಡೌನ್ ತೆಗೆದುಕೊಂಡಿದ್ದರಿಂದ ಮೀಡ್ ಜಾನ್ಸನ್ ರೆಕಿಟ್ ಮೀಡ್ ಜಾನ್ಸನ್ ರನ್ನು ಸುಮಾರು ಖರೀದಿಸಿದರು ಅಭಿವೃದ್ಧಿ ಹೊಂದುತ್ತಿರುವ ಮಾರುಕಟ್ಟೆಗಳಲ್ಲಿ ಬ್ರಾಂಡೆಡ್ ಬೇಬಿ ಫಾರ್ಮುಲಾ ಉತ್ಪನ್ನಗಳಿಗೆ ಹೆಚ್ಚುತ್ತಿರುವ ಬೇಡಿಕೆಯ ಮೇಲೆ ರಲ್ಲಿ ಬಿಲಿಯನ್ ಪೌಂಡ್ಗಳು ಬೆಟ್ಟಿಂಗ್ ಮಾಡಲಾಗಿದ್ದು ವಿಶೇಷವಾಗಿ ಚೀನಾ ರೆಕಿಟ್ ಷೇರುಗಳು ಸಕಾರಾತ್ಮಕ ಪ್ರದೇಶಕ್ಕೆ ಮರಳುವ ಮೊದಲು ಕ್ಕಿಂತಲೂ ಕಡಿಮೆಯಾಗಿದೆ ಎಂದು ವಿಶ್ಲೇಷಕರು ಹೇಳಿದ್ದಾರೆ ಏಕೆಂದರೆ ರೆಕ್ಕಿಟ್ ತನ್ನ ಗುರಿಗಳ ಮೇಲೆ ಹೆಚ್ಚಿನ ಸಾಧನೆ ಮಾಡಲಿಲ್ಲ ಹೊಸ ಯೋಜನೆಗಳು ನರಸಿಂಹನ್ ಅವರ ಯೋಜನೆಗಳು ಸೇರಿವೆ ಮೂರು ವರ್ಷಗಳಲ್ಲಿ ಬಿಲಿಯನ್ ಪೌಂಡ್ಗಳಷ್ಟು ಹೂಡಿಕೆಯನ್ನು ಸುರಿಯುವುದರಿಂದ ರೆಕ್ಕಿಟ್ ಅನ್ನು ಮಧ್ಯದ ಏಕ ಅಂಕಿಯ ಮಾರಾಟಕ್ಕೆ ಹಿಂದಿರುಗಿಸಲು ಸಹಾಯ ಮಾಡುತ್ತದೆ ಮತ್ತು ಪ್ರತಿ ಷೇರಿನ ಬೆಳವಣಿಗೆಗೆ ಗಳಿಕೆ ಬದಲಿಗೆ ಕಂಪನಿಯು ಬಿಲಿಯನ್ ಪೌಂಡ್ ಗಳ ಆಂತರಿಕ ಉತ್ಪಾದಕತೆ ಉಳಿತಾಯದ ಮೂಲಕ ಹೊಸ ಹೂಡಿಕೆಗೆ ಹಣವನ್ನು ಒದಗಿಸಲು ಯೋಜಿಸಿದೆ ಮತ್ತು ಅದು ಅದರ ಹೊಂದಾಣಿಕೆಯ ಅಂಚುಗಳನ್ನು ಕಡಿಮೆ ಮಾಡುತ್ತದೆ ಸುಮಾರು ರಷ್ಟು ಅಂಕಗಳು ಮತ್ತು ರಲ್ಲಿ ಹೊಂದಾಣಿಕೆಯ ಗಳಿಕೆಯಲ್ಲಿ ಕುಸಿತ ಬಿಟಿಐ ಬಡ್ ಪಿಎಂ ಎಫ್ ಆರ್ ಟಿ ಡಿ ಬಿಐಪಿ ಮತ್ತು ಪಿಪಿಎಲ್ ಕಡಿಮೆ ಐತಿಹಾಸಿಕ ಚಂಚಲತೆ ಮತ್ತು ಸರಾಸರಿ ಇಳುವರಿ ಹೊಂದಿರುವ ರಕ್ಷಣಾತ್ಮಕ ವಲಯದ ಹೆಸರುಗಳು ಸಮಂಜಸವಾಗಿ ಅಥವಾ ಆಕರ್ಷಕವಾಗಿವೆ ಈ ಮೇಲಿನ ಸರಾಸರಿ ಗುಣಮಟ್ಟದ ರಕ್ಷಣಾತ್ಮಕ ಕಡಿಮೆ ಚಂಚಲತೆಯ ಷೇರುಗಳನ್ನು ಖರೀದಿಸುವುದರಿಂದ ಮುಂಬರುವ ವರ್ಷಗಳಲ್ಲಿ ಮಾರುಕಟ್ಟೆಯನ್ನು ಸೋಲಿಸಬಹುದು ಚೀನಾಕ್ಕೆ ಕನಿಷ್ಠ ಮಾನ್ಯತೆ ಹೊಂದಿರುವ ರಕ್ಷಣಾತ್ಮಕ ಸ್ಟಾಕ್ ಗಳ ಹೆಚ್ಚಿನ ಇಳುವರಿ ಹೊಂದಿರುವ ನೀಲಿ ಚಿಪ್ ಪೋರ್ಟ್ಫೋಲಿಯೊವನ್ನು ಹೊಂದಿದ್ದು ಇದರ ಸರಾಸರಿ ಚಂಚಲತೆಯು ಲಾಭಾಂಶದ ಶ್ರೀಮಂತರಿಗೆ ಸಮಾನವಾಗಿರುತ್ತದೆ ಈ ಷೇರುಗಳು ಏಳು ಸಾಬೀತಾಗಿರುವ ಆಲ್ಫಾ ಅಂಶಗಳಲ್ಲಿ ಐದನ್ನು ಪ್ರತಿನಿಧಿಸುತ್ತವೆ ಆದರೆ ನಾನು ನಿಮಗೆ ಸುರಕ್ಷಿತ ಹೆಚ್ಚಿನ ಇಳುವರಿ ನೀಲಿ ಚಿಪ್ ಗಳನ್ನು ಭರವಸೆ ನೀಡಿದ್ದೇನೆ ಲಾಭಾಂಶದ ಶ್ರೀಮಂತರಿಗೆ ಸರಾಸರಿ ಕ್ಕಿಂತ ಹೆಚ್ಚು ವಾರ್ಷಿಕ ಚಂಚಲತೆಯನ್ನು ಹೊಂದಿರುವ ಯಾವುದೇ ಕಂಪನಿಯನ್ನು ನಾವು ಪ್ರದರ್ಶಿಸುತ್ತೇವೆ ರಿಂದ ಕಡಿಮೆ ಚಂಚಲತೆಯ ಷೇರುಗಳು ದಶಕಗಳ ಕಾಲ ವಿಶಾಲ ಮಾರುಕಟ್ಟೆಯಲ್ಲಿ ಉತ್ತಮ ಸಾಧನೆ ತೋರಿವೆ ಹೊಸ ಸಮೀಕ್ಷೆಯಲ್ಲಿ ಐವತ್ತಮೂರು ಪ್ರತಿಶತದಷ್ಟು ಜನರು ವಿಶ್ವದ ಸ್ಥಾನದ ಬಗ್ಗೆ ತೃಪ್ತರಾಗಿದ್ದಾರೆಂದು ರಿಂದ ಪಾಯಿಂಟ್ ಹೆಚ್ಚಳವಾಗಿದೆ ಎಂದು ಹೇಳಿದರು ಆದರೆ ಅಧ್ಯಕ್ಷ ಟ್ರಂಪ್ ಡೊನಾಲ್ಡ್ ಜಾನ್ ಟ್ರಂಪ್ ಟ್ರಂಪ್ ಅವರು ಪೆನ್ಸ್ ಅನ್ನು ಅಪಾಯಕಾರಿ ಬಕ್ ಓವರ್ನೈಟ್ ಹೆಲ್ತ್ ಕೇರ್ ಅನ್ನು ಹಾದುಹೋಗುತ್ತಾರೆ ಎಂದು ನಂಬುತ್ತೀರಾ ಎಂದು ಪ್ರತಿಕ್ರಿಯಿಸಿದವರನ್ನು ಸಹ ಕೇಳಲಾಯಿತು ಅಮೆರಿಕನ್ ಹೆಲ್ತ್ ಕೇರ್ ಅಸೋಸಿಯೇಷನ್ ಪ್ರಸ್ತುತಪಡಿಸಿದ ಪೆರೋಸ್ ಪೆರೋಸಿ ಪ್ಯಾನಿಕ್ ಸಿಡಿಸಿ ರಚಿಸಲು ಪ್ರಯತ್ನಿಸುತ್ತಿದೆ ಎಂದು ಟ್ರಂಪ್ ಆರೋಪಿಸಿದ್ದಾರೆ ಸಿಡಿಸಿ ಅಪರಿಚಿತ ಮೂಲದ ಪ್ರಕರಣವನ್ನು ದೃ ಪಡಿಸುತ್ತದೆ ಶುಮರ್ ಬಿಲಿಯನ್ ತುರ್ತು ನಿಧಿಗಳನ್ನು ಬಯಸುತ್ತಾನೆ ಸೀನುವ ನಂತರ ಸಾಧ್ಯವಾದಷ್ಟು ಇತರ ವಿಶ್ವ ನಾಯಕರು ಗೌರವಿಸುತ್ತಾರೆ ಮತ್ತು ಕೇವಲ ಪ್ರತಿಶತದಷ್ಟು ಜನರು ಹೌದು ಎಂದು ಹೇಳಿದರು ಈ ಪ್ರಶ್ನೆಯು ರಿಪಬ್ಲಿಕನ್ ಮತ್ತು ಡೆಮೋಕ್ರಾಟ್ ನಡುವೆ ದೊಡ್ಡ ಅಂತರವನ್ನು ಹೊಂದಿದೆ ಏಕೆಂದರೆ ಪ್ರತಿಶತದಷ್ಟು ರಿಪಬ್ಲಿಕನ್ನರು ಅಧ್ಯಕ್ಷರನ್ನು ಇತರ ವಿಶ್ವ ನಾಯಕರು ಗೌರವಿಸುತ್ತಾರೆ ಎಂದು ಹೇಳಿದರು ಆದರೆ ಕೇವಲ ಪ್ರತಿಶತದಷ್ಟು ಡೆಮೋಕ್ರಾಟ್ ಗ್ಯಾಲಪ್ ಪ್ರಕಾರ ಇತ್ತೀಚಿನ ಫಲಿತಾಂಶಗಳನ್ನು ಮಾಜಿ ಅಧ್ಯಕ್ಷ ಜಾರ್ಜ್ ಡಬ್ಲ್ಯೂಬಿಗೆ ಹೋಲಿಸಬಹುದು ಉಶ್ ಅವರ ಅಧ್ಯಕ್ಷತೆಯ ಅದೇ ಹಂತದಲ್ಲಿ ಹೋಲಿಕೆ ಮಾಡುವ ಮೂಲಕ ಪ್ರತಿಶತದಷ್ಟು ಅಮೆರಿಕನ್ನರು ಮಾಜಿ ಅಧ್ಯಕ್ಷ ಒಬಾಮಾ ಅವರನ್ನು ಅಧ್ಯಕ್ಷ ಸ್ಥಾನದಲ್ಲಿ ಅದೇ ಸಮಯದಲ್ಲಿ ವಿದೇಶಿ ನಾಯಕರು ಗೌರವಿಸುತ್ತಾರೆ ಎಂದು ನಂಬಿದ್ದಾರೆ ಎಂದು ಹೇಳಿದರು ದಕ್ಷಿಣ ಕೊರಿಯಾ ಮತ್ತು ಚೀನಾಗಳು ಗುರುವಾರ ನೂರಾರು ಹೆಚ್ಚು ಪ್ರಕರಣಗಳನ್ನು ವರದಿ ಮಾಡಿವೆ ಏಕೆಂದರೆ ಹೊಸ ಅನಾರೋಗ್ಯವು ಹೆಚ್ಚು ಹಾನಿಗೊಳಗಾದ ಪ್ರದೇಶಗಳಲ್ಲಿ ಮುಂದುವರೆದಿದೆ ಮತ್ತು ಗಡಿಯನ್ನು ಮೀರಿ ಹರಡಿತು ಹೆಚ್ಚಿನ ಹೊಸ ಪ್ರಕರಣಗಳು ದೇಶದ ನಾಲ್ಕನೇ ಅತಿದೊಡ್ಡ ನಗರ ಡೇಗುದಲ್ಲಿವೆ ಅಲ್ಲಿ ಏಕಾಏಕಿ ತೀವ್ರವಾಗಿ ಹೊಡೆದಿದೆ ಮತ್ತು ರಾಷ್ಟ್ರೀಯ ಸರ್ಕಾರ ಪ್ರದೇಶದ ವಿಪರೀತ ವೈದ್ಯಕೀಯ ವ್ಯವಸ್ಥೆಗೆ ಸಹಾಯ ಮಾಡಲು ಸಾರ್ವಜನಿಕ ಆರೋಗ್ಯ ಸಾಧನಗಳನ್ನು ಸಜ್ಜುಗೊಳಿಸಿದೆ ಕಥೆ ಜಾಹೀರಾತಿನ ಕೆಳಗೆ ಮುಂದುವರಿಯುತ್ತದೆ ಹೊಸ ಪ್ರಕರಣಗಳಲ್ಲಿ ವುಹಾನ್ ನಗರದ ಕೇಂದ್ರಬಿಂದುವಿನಲ್ಲಿ ಡಿಸೆಂಬರ್ ನಲ್ಲಿ ವೈರಸ್ ಮೊದಲ ಬಾರಿಗೆ ಹೊರಹೊಮ್ಮಿತು ಸಾಂಕ್ರಾಮಿಕ ರೋಗವು ವಿಸ್ತರಿಸಿದಂತೆ ಅನಾರೋಗ್ಯದ ಬಗ್ಗೆ ಜಾಗತಿಕ ಆತಂಕಗಳು ಹೆಚ್ಚಾಗುತ್ತಿವೆ ಭೌಗೋಳಿಕವಾಗಿ ಮತ್ತು ಮೊದಲ ಬಾರಿಗೆ ಚೀನಾದ ಹೊರಗೆ ದೇಶದೊಳಗೆ ಹೆಚ್ಚು ಹೊಸ ಪ್ರಕರಣಗಳಿಗೆ ಕಾರಣವಾಯಿತು ಇಟಲಿ ಈಗ ಯುರೋಪಿನ ಏಕಾಏಕಿ ಇಟಲಿ ಈಗ ಯುರೋಪಿನ ಏಕಾಏಕಿ ಮಧ್ಯಪ್ರಾಚ್ಯದಲ್ಲಿ ಬಹ್ರೇನ್ ಕುವೈತ್ ಮತ್ತು ಇರಾಕ್ನಲ್ಲಿ ಪ್ರಕರಣಗಳು ಹೆಚ್ಚಾದ ಮಧ್ಯದಲ್ಲಿ ಇರಾನ್ ನಲ್ಲಿ ಸಾವುಗಳು ಚೀನಾದ ಹೊರಗೆ ಅತಿ ಹೆಚ್ಚು ಸಂಭವಿಸಿವೆ ಬೆರ್ಲಿನ್ ಫೆಬ್ರವರಿ ರಾಯಿಟರ್ಸ್ ಕರೋನವೈರಸ್ ಸಾಂಕ್ರಾಮಿಕವು ಆರ್ಥಿಕತೆಗೆ ಕಠಿಣ ವ್ಯವಹಾರವನ್ನು ಹೊಡೆದರೆ ಹಣಕಾಸಿನ ಉತ್ತೇಜನ ಕಾರ್ಯಕ್ರಮವನ್ನು ಪ್ರಾರಂಭಿಸಲು ಜರ್ಮನ್ ಸರ್ಕಾರ ಚಿಂತಿಸುತ್ತಿದೆ ಸರ್ಕಾರಿ ಮೂಲಗಳನ್ನು ಉಲ್ಲೇಖಿಸಿ ಹ್ಯಾಂಡೆಲ್ಸ್ಬ್ಲಾಟ್ ಗುರುವಾರ ವರದಿ ಮಾಡಿದೆ ನಾವು ಪ್ರಸ್ತುತ ವಿವಿಧ ಸನ್ನಿವೇಶಗಳನ್ನು ಮತ್ತು ಆರ್ಥಿಕತೆಯ ನೆರವು ಕ್ರಮಗಳನ್ನು ಪರಿಶೀಲಿಸುತ್ತಿದ್ದೇವೆ ಎಂದು ಪತ್ರಿಕೆ ಅಧಿಕೃತ ಉಲ್ಲೇಖಿಸಿದೆ ವೈರಸ್ ಎಷ್ಟು ಹರಡುತ್ತದೆ ಎಂಬುದರ ಆಧಾರದ ಮೇಲೆ ಟೇಬಲ್ ನಲ್ಲಿ ವಿಭಿನ್ನ ಆಯ್ಕೆಗಳಿವೆ ಕೆಲವೇ ದಿನಗಳಲ್ಲಿ ಯೋಜನೆ ಲಭ್ಯವಿರಬೇಕು ಎಂದು ಅಧಿಕಾರಿ ಹೇಳಿದರು ಇಂದು ಒಂದು ವರದಿಯು ಆಪಲ್ ಒಂದು ಪ್ರಮುಖ ಅನುಭವಿ ಕಾರ್ಯನಿರ್ವಾಹಕನನ್ನು ಕಳೆದುಕೊಂಡಿದೆ ಮತ್ತು ಕಾರ್ಯಾಚರಣೆಗಳು ಮತ್ತು ಪೂರೈಕೆ ಸರಪಳಿ ನಿರ್ವಹಣೆಯಲ್ಲಿ ಕೆಲಸ ಮಾಡುವ ಪ್ರತಿಯೊಬ್ಬರನ್ನು ಕಳೆದುಕೊಳ್ಳಲಿದೆ ಎಂದು ಸೂಚಿಸುತ್ತದೆ ಆಪಲ್ ತನ್ನ ಕೀಲಿಯಲ್ಲಿ ಕೊರೊನಾವೈರಸ್ ಏಕಾಏಕಿ ಉಂಟಾಗುವ ಪೂರೈಕೆ ಸರಪಳಿ ಸಮಸ್ಯೆಗಳಿಗೆ ಸ್ಪಂದಿಸಲು ಪ್ರಯತ್ನಿಸುತ್ತಿರುವಾಗ ನಿರ್ಗಮನಗಳು ಸೂಕ್ತವಾಗಿ ಸಮಯ ಹೊಂದಿಲ್ಲ ಉತ್ಪಾದನಾ ವಿನ್ಯಾಸದ ಉಪಾಧ್ಯಕ್ಷರಾದ ನಿಕ್ ಫೋರ್ಲೆನ್ಜಾ ಅವರು ಆಪಲ್ ನಿಂದ ನಿವೃತ್ತರಾಗಿದ್ದರೆ ಕಾರ್ಯಾಚರಣೆಯಲ್ಲಿ ಕೆಲಸ ಮಾಡಿದ ಮತ್ತೊಬ್ಬ ಉಪಾಧ್ಯಕ್ಷ ಡುಕೊ ಪಾಸ್ಮೂಯಿಜ್ ಅವರು ಮುಂದಿನ ದಿನಗಳಲ್ಲಿ ನಿರ್ಗಮನದ ಬಗ್ಗೆ ಚರ್ಚಿಸುತ್ತಿದ್ದಾರೆ ಕಂಪನಿಯ ವರ್ಧಿತ ರಿಯಾಲಿಟಿ ಪ್ರಯತ್ನಗಳ ಪಾತ್ರದ ವರದಿಗಾರಿಕೆಗೆ ತೆರಳಿ ಚರ್ಚಿಸುವ ಸಿಬ್ಬಂದಿಯನ್ನು ಗುರುತಿಸಬಾರದೆಂದು ಕೇಳಿದ ಜನರು ಫೋರ್ಲೆನ್ಜಾ ಕಾಹ್ನ್ ಅವರ ಅಡಿಯಲ್ಲಿ ಉತ್ಪಾದನಾ ವಿನ್ಯಾಸದ ಉಸ್ತುವಾರಿ ವಹಿಸಿಕೊಂಡರು ಪೂರೈಕೆ ಸರಪಳಿ ಮತ್ತು ಕಾರ್ಯಾಚರಣೆಯ ಕಾರ್ಯನಿರ್ವಾಹಕರ ತಂಡವನ್ನು ಜಾಗತಿಕವಾಗಿ ಜವಾಬ್ದಾರರಾಗಿರುತ್ತಾರೆ ಉತ್ಪಾದನಾ ಪ್ರಕ್ರಿಯೆಗಳು ಮತ್ತು ಉತ್ಪಾದನಾ ಉಪಕರಣಗಳು ಪಾಸ್ಮೂಯಿಜ್ ಅನೇಕ ವರ್ಷಗಳಿಂದ ಮುನ್ನಡೆ ಸಾಧಿಸಲು ಸಹಾಯ ಮಾಡಿದರು ಆಪಲ್ನ ಪ್ರಮುಖ ಉತ್ಪನ್ನವಾದ ರೋಫೇಶನ್ ಕಾರ್ಯಾಚರಣೆಗಳು ಐಫೋನ್ ಎ ರಾಯಿಟರ್ಸ್ ವರದಿಯು ಇಂದು ಆಪಲ್ನ ಎಂಜಿನಿಯರುಗಳು ಸಾಮಾನ್ಯವಾಗಿ ಚೀನಾಕ್ಕೆ ಆಗಾಗ್ಗೆ ಹಾರಾಟ ನಡೆಸುತ್ತಿದ್ದಾರೆ ಎಂದು ತೋರಿಸುತ್ತದೆ ಮುಂಬರುವ ಐಫೋನ್ಗಳಿಗಾಗಿ ಜೋಡಣೆ ಪ್ರಕ್ರಿಯೆಯನ್ನು ಕಂಡುಹಿಡಿಯಲು ಪ್ರಾರಂಭವಾಗುತ್ತದೆ ವ್ಯಾಟಿಕನ್ ಸಿಟಿ ಪೋಪ್ ಫ್ರಾನ್ಸಿಸ್ ಅನಾರೋಗ್ಯದಿಂದ ಬಳಲುತ್ತಿದ್ದಾರೆ ಮತ್ತು ಪಟ್ಟಣದಾದ್ಯಂತ ರೋಮ್ ಪಾದ್ರಿಗಳೊಂದಿಗೆ ಯೋಜಿತ ಮಾಸ್ ಅನ್ನು ಬಿಟ್ಟುಬಿಟ್ಟಿದ್ದಾರೆ ಎಂದು ಅಧಿಕಾರಿಗಳು ತಿಳಿಸಿದ್ದಾರೆ ವ್ಯಾಟಿಕನ್ನಿಂದ ಅವರ ಅನಾರೋಗ್ಯದ ಸ್ವರೂಪದ ಬಗ್ಗೆ ಯಾವುದೇ ಮಾತುಗಳಿಲ್ಲ ಆದರೆ ಪೋಪ್ ಕೆಮ್ಮು ಮತ್ತು ಮೂಗು ದಿಕೊಳ್ಳುವುದನ್ನು ಬೂದಿ ಬುಧವಾರ ಸಾಮೂಹಿಕ ಸಂದರ್ಭದಲ್ಲಿ ಏನು ತಿಳಿಯಬೇಕು ಫ್ರಾನ್ಸಿಸ್ ರೋಮ್ ಪಾದ್ರಿಗಳನ್ನು ಭೇಟಿಯಾಗಲು ಪಟ್ಟಣದಾದ್ಯಂತದ ಸೇಂಟ್ ಜಾನ್ ಲ್ಯಾಟೆರನ್ ಬೆಸಿಲಿಕಾಕ್ಕೆ ಹೋಗಲು ಮತ್ತು ಲೆಂಟ್ ಫ್ರಾನ್ಸಿಸ್ನ ಆರಂಭದಲ್ಲಿ ಪ್ರಾಯಶ್ಚಿತ್ತದ ಸಾಮೂಹಿಕ ಆಚರಣೆಯನ್ನು ಆಚರಿಸಲು ನಿರ್ಧರಿಸಲಾಗಿತ್ತು ಆದರೆ ರೋಮ್ನ ಬಿಷಪ್ ಆದರೆ ಆರ್ಚ್ಡಯಸೀಸ್ನ ದಿನನಿತ್ಯದ ಓಟವನ್ನು ವಿಕಾರ್ ಫ್ರಾನ್ಸಿಸ್ಗೆ ಪ್ರತಿನಿಧಿಸುತ್ತಾನೆ ರೋಮನ್ ಬೆಸಿಲಿಕಾದಲ್ಲಿ ಬುಧವಾರ ತನ್ನ ಸಾರ್ವಜನಿಕ ಸಾಮಾನ್ಯ ಪ್ರೇಕ್ಷಕರು ಮತ್ತು ನಂತರದ ದಿನಗಳಲ್ಲಿ ಬೂದಿ ಬುಧವಾರದ ಸೇವೆಯನ್ನು ಒಳಗೊಂಡಂತೆ ಬಿಡುವಿಲ್ಲದ ವೇಳಾಪಟ್ಟಿಯನ್ನು ಹೊಂದಿದೆ ನಿಮ್ಮ ಸಾಧನದಲ್ಲಿ ಮೀಡಿಯಾ ಪ್ಲೇಬ್ಯಾಕ್ ಬೆಂಬಲಿಸುವುದಿಲ್ಲ ಮಾಧ್ಯಮ ಶೀರ್ಷಿಕೆ ಐದು ದೇಶಗಳು ಐದು ಪ್ರತಿಕ್ರಿಯೆಗಳು ವುಹಾನ್ ಚೀನಾದಲ್ಲಿ ಪ್ರಾರಂಭವಾದ ಕರೋನವೈರಸ್ ಈಗ ಡಜನ್ಗಟ್ಟಲೆ ದೇಶಗಳನ್ನು ತಲುಪಿದೆ ಮತ್ತು ಇದು ಯುಎಸ್ನಲ್ಲಿ ಹರಡಲು ಪ್ರಾರಂಭಿಸುವ ಮೊದಲು ಇದು ಕೇವಲ ಸಮಯದ ವಿಷಯವಾಗಿದೆ ನಿಮ್ಮ ಸಾಧನದಲ್ಲಿ ಮಾಧ್ಯಮ ಶೀರ್ಷಿಕೆ ಕೊರೊನವೈರಸ್ ಅಪಾಯವನ್ನು ಬೆಂಬಲಿಸುವುದಿಲ್ಲ ಅಮೆರಿಕದ ಜನರಿಗೆ ತೀರಾ ಕಡಿಮೆ ಉಳಿದಿದೆ ಎಂದು ಅಧ್ಯಕ್ಷ ಡೊನಾಲ್ಡ್ ಟ್ರಂಪ್ ಹೇಳಿದ್ದಾರೆ ಆದರೆ ಸೆಂಟರ್ಸ್ ಫಾರ್ ಡಿಸೀಸ್ ಕಂಟ್ರೋಲ್ ಸಿಡಿಸಿ ಅಧಿಕಾರಿಗಳು ವೈರಸ್ ಹರಡುತ್ತದೆ ಮತ್ತು ದೈನಂದಿನ ಜೀವನವನ್ನು ತೀವ್ರವಾಗಿ ಅಡ್ಡಿಪಡಿಸಬಹುದು ಎಂದು ಎಚ್ಚರಿಸಿದ್ದಾರೆ ಯುಎಸ್ ಆರೋಗ್ಯ ಮುಖ್ಯಸ್ಥ ಅಲೆಕ್ಸ್ ಅಜರ್ ಅವರು ಕಾಂಗ್ರೆಸ್ಗೆ ಬಿಲಿಯನ್ ಬಿಲಿಯನ್ ಕೇಳಿದ್ದಾರೆ ಲಸಿಕೆ ಅಭಿವೃದ್ಧಿಪಡಿಸಲು ಬಿಲಿಯನ್ಗಿಂತ ಹೆಚ್ಚಿನ ಅಗತ್ಯವಿದೆ ಚಿತ್ರ ಹಕ್ಕುಸ್ವಾಮ್ಯ ಗೆಟ್ಟಿ ಇಮೇಜಸ್ ಚಿತ್ರ ಶೀರ್ಷಿಕೆ ಕೆಲವು ಯುಎಸ್ ಷಧಾಲಯಗಳು ಈಗಾಗಲೇ ಮುಖವಾಡದ ಕೊರತೆಯನ್ನು ಎದುರಿಸುತ್ತಿವೆ ಅಧ್ಯಕ್ಷರ ರಾಜಕೀಯ ಪ್ರತಿಸ್ಪರ್ಧಿಗಳು ರಾಷ್ಟ್ರೀಯ ಭದ್ರತಾ ಮಂಡಳಿಯ ಜಾಗತಿಕ ಆರೋಗ್ಯ ಘಟಕವನ್ನು ಕೆಡವಲು ಅವರ ರ ನಿರ್ಧಾರದ ಬಗ್ಗೆ ಟೀಕೆಗಳನ್ನು ನವೀಕರಿಸಿದ್ದಾರೆ ಇದು ವೈರಸ್ ಗೆ ಕಾರಣವಾಗಬಹುದು ಸೋಂಕಿತ ಜನರು ಹರಡುವುದರಿಂದ ದಿನಗಳವರೆಗೆ ಗಮನಾರ್ಹ ಲಕ್ಷಣಗಳು ಕಂಡುಬರುವುದಿಲ್ಲ ಬ್ಯಾಂಕ್ ಲಾಭವು ಅಲ್ಪಾವಧಿಯಲ್ಲಿ ಸಂಪೂರ್ಣವಾಗಿ ಅನುಭವಿಸಬಹುದಾದರೂ ಬ್ಯಾಂಕ್ ಆಫ್ ಅಮೇರಿಕಾ ಎನ್ವೈಎಸ್ಇ ಬಿಎಸಿ ಮತ್ತು ಗೋಲ್ಡ್ಮನ್ ಸ್ಯಾಚ್ಸ್ ಎನ್ವೈಎಸ್ಇ ಜಿಎಸ್ ನಂತಹ ಕೆಲವು ರಾಕ್ ಘನ ಬ್ಯಾಂಕ್ ಷೇರುಗಳನ್ನು ನಿಮ್ಮ ಪೋರ್ಟ್ಫೋಲಿಯೊಗೆ ಸೇರಿಸಲು ಇದು ಅತ್ಯುತ್ತಮ ಸಮಯವಾಗಿದೆ ಪ್ರಭಾವಶಾಲಿ ಬೆಳವಣಿಗೆ ಮತ್ತು ಅಮೆರಿಕದ ಬೃಹತ್ ಬಂಡವಾಳ ರಿಟರ್ನ್ಬ್ಯಾಂಕ್ ಒಂದಾಗಿದೆ ಸ್ವಲ್ಪ ಸಮಯದವರೆಗೆ ನನ್ನ ಸ್ವಂತ ಸ್ಟಾಕ್ ಪೋರ್ಟ್ಫೋಲಿಯೊದಲ್ಲಿ ಅತಿದೊಡ್ಡ ಸ್ಥಾನಗಳು ಮತ್ತು ವಿಶೇಷವಾಗಿ ಬ್ಯಾಂಕಿನ ಇತ್ತೀಚಿನ ಸಂಖ್ಯೆಗಳ ನಂತರ ಯಾವುದೇ ಸಮಯದಲ್ಲಿ ಶೀಘ್ರದಲ್ಲೇ ಬದಲಾಗಬಹುದು ಎಂದು ನಾನು ನಿರೀಕ್ಷಿಸುವುದಿಲ್ಲ ಆದರೆ ಇತರ ಅನೇಕ ದೊಡ್ಡ ಯು ಎಸ್ ಬ್ಯಾಂಕುಗಳಲ್ಲಿ ಬೆಳವಣಿಗೆ ನಿಧಾನವಾಗಿದ್ದರೂ ಎಸ್ ಬ್ಯಾಂಕ್ ಬ್ಯಾಂಕ್ ಆಫ್ ಅಮೇರಿಕಾ ತನ್ನ ಠೇವಣಿಗಳನ್ನು ಬೆಳೆಸಿದೆ ಮತ್ತು ರಲ್ಲಿ ಸಾಲಗಳನ್ನು ಕ್ರಮವಾಗಿ ಮತ್ತು ರಂತೆ ಗ್ರಾಹಕ ಬ್ಯಾಂಕಿಂಗ್ ಗೋಲ್ಡ್ಮನ್ ಸ್ಯಾಚ್ಸ್ಗೆ ಐತಿಹಾಸಿಕವಾಗಿ ಶ್ರೀಮಂತ ಸಂಸ್ಥೆಗಳ ಬ್ಯಾಂಕ್ ಎಂದು ಕರೆಯಲಾಗುತ್ತದೆ ಮತ್ತು ಬಡ್ಡಿದರಗಳು ಐತಿಹಾಸಿಕ ಕನಿಷ್ಠ ಮಟ್ಟದಲ್ಲಿದ್ದರೆ ಅಥವಾ ಇನ್ನೂ ಹೆಚ್ಚಿನ ಲಾಭಾಂಶ ಮತ್ತು ಬ್ಯಾಂಕ್ ಸ್ಟಾಕ್ ಬೆಲೆಗಳು ಕುಸಿಯಬಹುದು ಬ್ಯಾಂಕಿಂಗ್ ಉದ್ಯಮ ವಿಜ್ಞಾನಿಗಳು ಮತ್ತು ಸಾರ್ವಜನಿಕ ಆರೋಗ್ಯ ಅಧಿಕಾರಿಗಳು ವೈರಸ್ ಹೇಗೆ ಮತ್ತು ಯಾವಾಗ ಹರಡುತ್ತಾರೆ ಮತ್ತು ಎಷ್ಟು ಅಪಾಯಕಾರಿ ಎಂಬುದರ ಬಗ್ಗೆ ಇನ್ನೂ ಕಲಿಯುತ್ತಿರುವುದರಿಂದ ದಕ್ಷಿಣ ಕೊರಿಯಾ ವೇಗವಾಗಿ ಅಭಿವೃದ್ಧಿ ಹೊಂದುತ್ತಿರುವ ಸಾಂಕ್ರಾಮಿಕ ರೋಗವನ್ನು ಹೇಗೆ ಎದುರಿಸುವುದು ಎಂಬುದರ ಬಗ್ಗೆ ಆಕ್ರಮಣಕಾರಿ ಪ್ರಯೋಗವು ಮುಂಚೆಯೇ ಸಾಬೀತಾಗಿದೆ ಈ ಸಮಯದಲ್ಲಿ ಮಾಹಿತಿಯನ್ನು ಹೇಗೆ ತಡೆಹಿಡಿಯಲಾಗಿದೆ ಎಂಬ ಬಗ್ಗೆ ಸಾರ್ವಜನಿಕ ಟೀಕೆಗಳಿಂದ ಹೆಚ್ಚಾಗಿ ತಿಳಿಸಲಾಗಿದೆ ರಲ್ಲಿ ಮಧ್ಯಪ್ರಾಚ್ಯ ಉಸಿರಾಟದ ಸಿಂಡ್ರೋಮ್ ನ ಸ್ಥಳೀಯ ಏಕಾಏಕಿ ಆಮೂಲಾಗ್ರ ಪಾರದರ್ಶಕತೆಯ ಬದಿಯಲ್ಲಿ ದಕ್ಷಿಣ ಕೊರಿಯಾ ಆಕ್ರಮಣಕಾರಿಯಾಗಿ ತಪ್ಪಾಗಿದೆ ಮತ್ತು ಪ್ರತಿಯೊಂದು ಸಕ್ರಿಯ ಪ್ರಕರಣಗಳ ಬಗ್ಗೆ ಮಾಹಿತಿಯನ್ನು ತಕ್ಷಣವೇ ಸಾರ್ವಜನಿಕರಿಗೆ ತಳ್ಳುತ್ತಿದೆ ದಕ್ಷಿಣ ಕೊರಿಯಾವು ಚೀನಾದ ಹೊರಗೆ ಹೆಚ್ಚಿನ ಸಂಖ್ಯೆಯ ರೋಗಿಗಳಿಗೆ ಕಾರಣವಾಗಿದೆ ಏಕಾಂಗಿಯಾಗಿರಿ ಸಾರ್ವಜನಿಕ ಆರೋಗ್ಯ ತಜ್ಞರು ಇತರ ದೇಶಗಳು ನೂರಾರು ಅಥವಾ ಸಾವಿರಾರು ಪತ್ತೆಯಾಗದ ಸೋಂಕುಗಳನ್ನು ಹೊಂದಿರಬಹುದೆಂದು ಶಂಕಿಸಿದ್ದಾರೆ ಏಕೆಂದರೆ ಅವುಗಳು ದಕ್ಷಿಣ ಕೊರಿಯಾಕ್ಕಿಂತ ಕಡಿಮೆ ಆಕ್ರಮಣಶೀಲತೆಯನ್ನು ಹೊಂದಿದ್ದು ಸಂಭಾವ್ಯ ಮಾನ್ಯತೆಯ ನಿದರ್ಶನಗಳನ್ನು ಪತ್ತೆಹಚ್ಚುವಲ್ಲಿ ಮತ್ತು ಪ್ರಚಾರ ಮಾಡುವಲ್ಲಿ ದಕ್ಷಿಣ ಕೊರಿಯಾದಲ್ಲಿ ರೋಗಿಯ ಸಂಖ್ಯೆ ಎಂದು ಕರೆಯಲ್ಪಡುವ ಮಹಿಳೆ ಸೂಪರ್ ಸ್ಪ್ರೆಡರ್ ಎಂದು ಶಂಕಿಸಲಾಗಿದೆ ದಕ್ಷಿಣ ಕೊರಿಯಾದ ಆಗ್ನೇಯ ಭಾಗದಲ್ಲಿ ಭಾರಿ ಏರಿಕೆಯಾಗಿದೆ ತೀವ್ರವಾದ ಸಾರ್ವಜನಿಕ ಹಿತಾಸಕ್ತಿ ಪರಿಶೀಲನೆ ಮತ್ತು ಟೀಕೆಗಳ ಒಂದು ಅಂಶವೆಂದರೆ ಡೇಗುದಲ್ಲಿನ ಸಿಯೋ ಗುನಲ್ಲಿ ಸೋಂಕು ತಡೆಗಟ್ಟುವಿಕೆಯ ಉಸ್ತುವಾರಿ ಹೊತ್ತಿರುವ ಸಾರ್ವಜನಿಕ ಆರೋಗ್ಯ ಅಧಿಕಾರಿಯೂ ಸಹ ವೈರಸ್ ರೋಗನಿರ್ಣಯದ ನಂತರ ಚರ್ಚ್ ನ ಸದಸ್ಯನೆಂದು ತಿಳಿದುಬಂದಿದೆ ಕಳೆದ ಎರಡು ವಾರಗಳಲ್ಲಿ ಈಶಾನ್ಯ ದೆಹಲಿಯ ಮುಸ್ತಾಬಾದ್ ನಿವಾಸಿ ಅಶ್ಫಾಕ್ ಹುಸೇನ್ ಮತ್ತು ಅವರ ಪತ್ನಿ ತಸ್ನೀಮ್ ಅವರ ಜೀವನದ ಅತ್ಯಂತ ಸಂತೋಷದಾಯಕ ದಿನಗಳು ಮುಸ್ತಾಬಾದ್ ನಲ್ಲಿ ಎಲೆಕ್ಟ್ರಿಷಿಯನ್ ಆಗಿ ಕೆಲಸ ಮಾಡುತ್ತಿದ್ದ ಹುಸೇನ್ ಅವರು ಸಂಜೆ ಕೆಲಸ ಮುಗಿದು ಮನೆಗೆ ಮರಳುತ್ತಿದ್ದಾಗ ಸಂಜೆ ಸಿಕ್ಕಿಬಿದ್ದಾಗ ಈ ಪ್ರದೇಶವನ್ನು ದಿನಗಳವರೆಗೆ ಆವರಿಸಿರುವ ಹಿಂಸಾಚಾರ ಈ ಆರೋಪವು ಕಳೆದ ಕೆಲವು ದಿನಗಳಿಂದ ಈಶಾನ್ಯ ದೆಹಲಿಯಲ್ಲಿ ಗಲಭೆ ನಡೆಸುತ್ತಿರುವ ಜನಸಮೂಹದಿಂದ ನೂರಾರು ಮನೆಗಳ ಅಂಗಡಿಗಳು ಮತ್ತು ವಾಹನಗಳಿಗೆ ಬೆಂಕಿ ಹಚ್ಚಲಾಗಿದೆ ವಜ್ರ ರಾಜಕುಮಾರಿಯಿಂದ ಸ್ಥಳಾಂತರಿಸಲಾಗಿದೆ ಹೋಮ್ ಎಸಿ ಸಾರಿಗೆ ಕೊರೊನಾವೈರಸ್ ನಿಂದ ಸುರಕ್ಷಿತವಾಗಿ ಹಾರಾಟ ನಡೆಸಿದ ಒಟ್ಟು ಜನರನ್ನು ಹೊತ್ತೊಯ್ಯುವ ಭಾರತೀಯ ವಾಯುಪಡೆಯ ವಿಮಾನ ಗುರುವಾರ ರಾಷ್ಟ್ರ ರಾಜಧಾನಿಗೆ ಬಂದಿಳಿದಿದೆ ಚೀನಾದ ನಗರವಾದ ವುಹಾನ್ ಕುನಾಲ್ ಕಮ್ರಾ ಅವರ ವಿಮಾನ ನಿಷೇಧವನ್ನು ತಿಂಗಳವರೆಗೆ ಇಳಿಸಲಾಗಿದೆ ಡಿಜಿಸಿಎ ಅಂತಿಮ ಕರೆ ತೆಗೆದುಕೊಳ್ಳಲು ದೆಹಲಿ ಹೈಕೋರ್ಟ್ ಟಿವಿ ಆಂಕರ್ ಅರ್ನಾಬ್ ಗೋಸ್ವಾಮ್ ಅವರನ್ನು ತಿಂಗಳ ಕಾಲ ಇಂಡಿಗೊ ವಿಮಾನಯಾನ ಸಂಸ್ಥೆಗಳು ವಿಧಿಸಿರುವ ಪ್ರಯಾಣ ನಿಷೇಧವನ್ನು ಪ್ರಶ್ನಿಸಿ ಸ್ಟ್ಯಾಂಡ್ ಅಪ್ ಹಾಸ್ಯನಟ ಕುನಾಲ್ ಕಮ್ರಾ ಅವರು ಮನವಿ ಸಲ್ಲಿಸಿದ್ದಾರೆ ನಾನು ವಿಮಾನದಲ್ಲಿದ್ದೇನೆ ಸೋಂಕನ್ನು ಹಿಡಿಯುವುದನ್ನು ತಡೆಗಟ್ಟಲು ಸಾಮಾನ್ಯ ಮೇಲ್ಮೈಗಳನ್ನು ಸ್ಪರ್ಶಿಸಿದ ನಂತರ ನಿಮ್ಮ ಕೈಗಳನ್ನು ನಿಯಮಿತವಾಗಿ ಸ್ವಚ್ ಗೊಳಿಸಿ ಹ್ಯಾಂಡ್ ಶೇಕ್ ಗಳನ್ನು ತಪ್ಪಿಸಿ ಹೆಚ್ಚಿನ ಫೈವ್ ಗಳು ಅಪರಿಚಿತರು ಅಥವಾ ಪರಿಧಮನಿಯ ವೈರಸ್ ಸೋಂಕನ್ನು ತಡೆಗಟ್ಟಲು ನಿಮಗೆ ತಿಳಿದಿರುವ ಜನರೊಂದಿಗೆ ಕೈ ಮುಟ್ಟುವುದನ್ನು ತಪ್ಪಿಸಲು ಬಲವಾಗಿ ಸಲಹೆ ನೀಡಲಾಗುತ್ತದೆ ಮತ್ತು ನೀವು ಸೋಂಕಿತ ಪ್ರಾಣಿಗಳ ಮಾಂಸವನ್ನು ಸೇವಿಸುತ್ತಿದ್ದರೆ ಅದನ್ನು ಚೆನ್ನಾಗಿ ಬೇಯಿಸದಿದ್ದರೆ ಸೋಂಕು ಇನ್ನೂ ಅದರಲ್ಲಿ ಸಕ್ರಿಯವಾಗಿರುತ್ತದೆ ಮತ್ತು ರಾಯಿಟರ್ಸ್ ಗೆ ಪ್ರವೇಶಿಸಿದ ನಂತರ ನಿಮ್ಮ ದೇಹಕ್ಕೆ ಸೋಂಕು ತರುತ್ತದೆ ನೀವು ಅನಾರೋಗ್ಯಕ್ಕೆ ಒಳಗಾಗಿದ್ದರೆ ಹೊರಹೋಗಬೇಡಿ ನೀವು ಸಾಮಾನ್ಯ ಜ್ವರ ಅಥವಾ ಶೀತದಿಂದ ಕೆಳಗಿಳಿದಿದ್ದರೆ ಒಂದು ದಿನ ರಜೆ ತೆಗೆದುಕೊಳ್ಳುವುದರಿಂದ ನಿಮಗೆ ಬೇಗನೆ ಆರೋಗ್ಯವಾಗಲು ಸಹಾಯವಾಗುವುದಿಲ್ಲ ಆದರೆ ನೀವು ಸೋಂಕಿಗೆ ಒಳಗಾದ ವೈರಸ್ ಅನ್ನು ಹಿಡಿಯದಂತೆ ಇತರರನ್ನು ಉಳಿಸಿ ನೀವು ನಿಜವಾಗಿಯೂ ಕರೋನವೈರಸ್ ಕಾದಂಬರಿಯೊಂದಿಗೆ ಸಂಪರ್ಕಕ್ಕೆ ಬಂದರೆ ಇದು ನಿಮ್ಮ ದೇಹವನ್ನು ಸಿದ್ಧವಾಗಿರಿಸುವುದಿಲ್ಲ ಕೊರೊನಾವೈರಸ್ ಪ್ರಕರಣಗಳಿಲ್ಲದೆ ದೇಶಗಳಿಗೆ ಹಾರುವಂತೆ ನಿಮ್ಮ ಪ್ರಯಾಣದ ಯೋಜನೆಗಳನ್ನು ನೀವು ಹಿಡಿದಿಟ್ಟುಕೊಳ್ಳಬೇಕೆಂದು ನಾವು ಬಲವಾಗಿ ಶಿಫಾರಸು ಮಾಡುತ್ತೇವೆ ಹಾಂಗ್ ಕಾಂಗ್ ಕಾದಂಬರಿ ಕರೋನವೈರಸ್ನ ದೃ ಪಡಿಸಿದ ಪ್ರಕರಣಗಳನ್ನು ಹೊಂದಿದೆ ಆದರೆ ಮಕಾವು ಹಾಂಗ್ ಕಾಂಗ್ನ ಜನರು ಸಾಮಾನ್ಯವಾಗಿ ಪ್ರಯಾಣಿಸುವ ಮತ್ತೊಂದು ಪ್ರವಾಸಿ ತಾಣ ದೃ ಪಡಿಸಿದ ಪ್ರಕರಣಗಳು ದಕ್ಷಿಣ ಕೊರಿಯಾ ಚೀನಾ ನಂತರ ದಕ್ಷಿಣ ಕೊರಿಯಾವು ಕ್ಕೂ ಹೆಚ್ಚು ದೃ ಪಡಿಸಿದ ಪ್ರಕರಣಗಳೊಂದಿಗೆ ಕಾದಂಬರಿ ಕರೋನವೈರಸ್ ನಿಂದ ಸೋಂಕಿಗೆ ಒಳಗಾಗುವವರ ಸಂಖ್ಯೆಯಲ್ಲಿ ಗಣನೀಯ ಏರಿಕೆ ಕಂಡಿದೆ ಏಕೆಂದರೆ ಪ್ರತಿ ಹಾದುಹೋಗುವ ದಿನದಲ್ಲಿ ಪರಿಸ್ಥಿತಿ ಇನ್ನಷ್ಟು ಹದಗೆಡುತ್ತದೆ ಇರಾನ್ ನ ಹೊರಗಿನ ಇರಾನ್ ಟ್ ಸೈಡ್ ಇರಾನ್ ನ ಪ್ರಮುಖ ಮೂರು ಹಾಟ್ ಸ್ಪಾಟ್ ಗಳಲ್ಲಿ ಒಂದಾಗಿದೆ ಇರಾನ್ ನ ಉಪ ಆರೋಗ್ಯ ಮಂತ್ರಿ ಮತ್ತು ಸಂಸದರು ಸೇರಿದಂತೆ ದೃ ಪಡಿಸಿದ ಪ್ರಕರಣಗಳೊಂದಿಗೆ ಕೊರೊನಾವೈರಸ್ ಕಾದಂಬರಿ ಕೊರೋನವೈರಸ್ ಪ್ರಕರಣಗಳಿಲ್ಲದ ದೇಶಗಳಿಗೆ ಸಹ ಹಾರುವಂತೆ ನಿಮ್ಮ ಪ್ರಯಾಣದ ಯೋಜನೆಗಳನ್ನು ಹಿಡಿದಿಡಲು ನಾವು ಬಲವಾಗಿ ಶಿಫಾರಸು ಮಾಡುತ್ತೇವೆ ಬಿಸಿನೆಸ್ ಇನ್ಸೈಡರ್ ಮಾರುಕಟ್ಟೆಯಲ್ಲಿನ ದೊಡ್ಡ ಪ್ರವೃತ್ತಿಗಳನ್ನು ಸೆರೆಹಿಡಿಯುವ ಚಾರ್ಟ್ ಗಳನ್ನು ಹಂಚಿಕೊಳ್ಳಲು ನೊಬೆಲ್ ವಿಜೇತ ಅರ್ಥಶಾಸ್ತ್ರಜ್ಞರು ಮತ್ತು ಮೆಚ್ಚುಗೆ ಪಡೆದ ಹೂಡಿಕೆ ಮುಖ್ಯಸ್ಥರು ಸೇರಿದಂತೆ ಹಣಕಾಸು ತಜ್ಞರನ್ನು ಕೇಳಿದೆ ಮುಂದಿನ ಆರ್ಥಿಕ ಹಿಂಜರಿತ ಮತ್ತು ಇತರ ದೊಡ್ಡ ವಿಷಯಗಳಿಗೆ ಭವಿಷ್ಯದ ವೇಗವರ್ಧಕಗಳಿಗೆ ದಶಕದ ಮುಂದೆ ಇರುವ ಅವಕಾಶಗಳನ್ನು ಈ ಕೆಳಗಿನ ಪಟ್ಟಿಯಲ್ಲಿ ವಿವರಿಸುತ್ತದೆ ಈಗ ಅವರ ಹಣವನ್ನು ಹಾಕಿಕೊಳ್ಳಿ ಹೆಚ್ಚಿನ ಬಿಐ ಅವಿಭಾಜ್ಯ ಕಥೆಗಳಿಗಾಗಿ ಇಲ್ಲಿ ಕ್ಲಿಕ್ ಮಾಡಿ ಹಣಕಾಸಿನ ಮಾರುಕಟ್ಟೆಗಳಲ್ಲಿ ಹೂಡಿಕೆ ಮಾಡುವುದು ಎಂದಿಗೂ ಅಗ್ಗವಾಗುವುದಿಲ್ಲ ಅಥವಾ ಹೆಚ್ಚು ಅನುಕೂಲಕರವಾಗಿಲ್ಲವಾದ್ದರಿಂದ ವಹಿವಾಟು ವೆಚ್ಚಗಳು ಶೂನ್ಯಕ್ಕೆ ಇಳಿಯುವುದರಿಂದ ಮತ್ತು ಡಜನ್ಗಟ್ಟಲೆ ಪ್ಲಾಟ್ ಫಾರ್ಮ್ ಗಳು ವಾಸ್ತವಿಕವಾಗಿ ಯಾವುದೇ ಆಸ್ತಿಯ ಮೊಬೈಲ್ ವ್ಯಾಪಾರವನ್ನು ಸಕ್ರಿಯಗೊಳಿಸುವುದರಿಂದ ಅದು ಉತ್ತಮವಾದ ಹೂಡಿಕೆ ಸಲಹೆಯನ್ನು ಹೊಂದಿರುವುದು ಕಡ್ಡಾಯವಾಗಿದೆ ಅದಕ್ಕಾಗಿಯೇ ಬಿಸಿನೆಸ್ ಇನ್ಸೈಡರ್ ಮತ್ತೊಮ್ಮೆ ವಾಲ್ ಸ್ಟ್ರೀಟ್ ನ ಕೆಲವು ಮೆಚ್ಚುಗೆ ಪಡೆದ ತಜ್ಞರನ್ನು ಗಣ್ಯರ ಗುಂಪನ್ನು ಕೋರಿದೆ ಇದರಲ್ಲಿ ಟ್ರಿಲಿಯನ್ಗಟ್ಟಲೆ ಆಸ್ತಿಗಳನ್ನು ಮೇಲ್ವಿಚಾರಣೆ ಮಾಡುವ ಹೂಡಿಕೆ ಮುಖ್ಯಸ್ಥರು ಸೇರಿದ್ದಾರೆ ನೊಬೆಲ್ ವಿಜೇತ ಅರ್ಥಶಾಸ್ತ್ರಜ್ಞರು ಮತ್ತು ಮಾರುಕಟ್ಟೆಗಳನ್ನು ಚಲಿಸುವ ಸಾಮರ್ಥ್ಯ ಹೊಂದಿರುವ ತಂತ್ರಜ್ಞರನ್ನು ನಾವು ಪ್ರತಿಯೊಬ್ಬರಿಗೂ ಕೇಳಿದೆ ಅವರು ದೊಡ್ಡ ಸಂದೇಶವನ್ನು ವಿವರಿಸುವ ಚಾರ್ಟ್ ಅನ್ನು ಹಂಚಿಕೊಳ್ಳಲು ಹೂಡಿಕೆದಾರರಿಗೆ ಕಳುಹಿಸಲು ಬಯಸುತ್ತಾರೆ ಮುಂದಿನ ದಶಕದ ಆರ್ಥಿಕ ಹಿಂಜರಿತ ಮತ್ತು ಕರೋನವೈರಸ್ ಏಕಾಏಕಿ ಮಾರುಕಟ್ಟೆಯ ಪರಿಣಾಮಗಳಿಗೆ ವೇಗವರ್ಧಕಗಳನ್ನು ತಯಾರಿಸುವವರೆಗಿನ ಪ್ರತಿಕ್ರಿಯೆಗಳು ವ್ಯಾಪಕವಾದವು ಅವುಗಳ ಪಟ್ಟಿಯಲ್ಲಿ ಪ್ರತಿ ಪ್ರವೃತ್ತಿಯ ವಿಷಯಗಳು ಮತ್ತು ಹಲವಾರು ತಜ್ಞರು ಎಲ್ಲಿ ಹೂಡಿಕೆ ಮಾಡಬೇಕೆಂಬುದರ ಬಗ್ಗೆ ನೇರ ಮಾರ್ಗದರ್ಶನಗಳನ್ನು ಒಳಗೊಂಡಿರುತ್ತಾರೆ ಇಸ್ರೇಲಿ ಗುರುವಾರ ತನ್ನ ಮೂರನೇ ಕರೋನವೈರಸ್ ಪ್ರಕರಣವನ್ನು ವರದಿ ಮಾಡಿದೆ ಇಟಲಿಯಿಂದ ದೇಶಕ್ಕೆ ಮರಳಿದ ಇಸ್ರೇಲಿ ಖಾತರಿ ಅಡಿಯಲ್ಲಿ ರೋಗಿಯನ್ನು ತೆಗೆದುಕೊಳ್ಳಲಾಗಿದೆ ನಾಲ್ಕು ದಿನಗಳ ಹಿಂದೆ ಇಟಲಿಯಿಂದ ಹಿಂದಿರುಗಿದ ಇಸ್ರೇಲಿ ಪ್ರಜೆಯೊಬ್ಬರು ಗುರುವಾರ ಮಾರಕ ಕರೋನವೈರಸ್ಗೆ ಧನಾತ್ಮಕ ಪರೀಕ್ಷೆ ನಡೆಸಿದ್ದಾರೆ ಎಂದು ಆರೋಗ್ಯ ಸಚಿವಾಲಯ ತಿಳಿಸಿದೆ ಏಕಾಏಕಿ ಇಟಲಿಯಿಂದ ಪ್ರಯಾಣಿಕರ ಪ್ರವೇಶವು ಇಸ್ರೇಲಿ ಪ್ರಸಾರ ಪ್ರಾಧಿಕಾರವು ಇಟಲಿಯಿಂದ ಬರುವ ಆಂತರಿಕ ಸಚಿವ ಆರ್ಯೆಹ್ ಡೆರಿ ಇಸ್ರೇಲಿ ನಾಗರಿಕರನ್ನು ವೈದ್ಯಕೀಯ ಕ್ಯಾರೆಂಟೈನ್ ಸಾಧನವಾಗಿ ನಾಲ್ಕು ದಿನಗಳ ಕಾಲ ಮನೆಯಲ್ಲಿಯೇ ಇರಲು ನಿರ್ದೇಶಿಸಲಾಗಿದೆ ಎಂದು ಹೇಳಿದರು ಕರಾಚಿ ದುನ್ಯಾ ನ್ಯೂಸ್ ಪ್ರಾಂತ್ಯದಾದ್ಯಂತ ಹರಡಿರುವ ಕರೋನವೈರಸ್ ಅನ್ನು ನಿಯಂತ್ರಿಸಲು ಕಾರ್ಯಪಡೆ ಸ್ಥಾಪಿಸಲಾಗಿದೆ ಎಂದು ಸಿಂಧ್ ಸಿಎಂ ಮುಖ್ಯಮಂತ್ರಿ ಮುರಾದ್ ಅಲಿ ಶಾ ಗುರುವಾರ ಹೇಳಿದ್ದಾರೆ ಪಾಕಿಸ್ತಾನದಲ್ಲಿ ಕರೋನವೈರಸ್ ಪೀಡಿತರನ್ನು ಪ್ರತ್ಯೇಕವಾಗಿ ವಾರ್ಡ್ನಲ್ಲಿ ಇರಿಸಲಾಗಿದೆ ಎಂದು ಸಿಎಂ ಮಾಧ್ಯಮಗಳೊಂದಿಗೆ ಮಾತನಾಡುತ್ತಾ ಹೇಳಿದರು ಇತ್ತೀಚೆಗೆ ಇರಾನ್ ನಿಂದ ಪ್ರಯಾಣಿಸಿದ ಜನರನ್ನು ಕೂಡ ಒಟ್ಟುಗೂಡಿಸಲಾಗಿದೆ ವೈರಸ್ ಹಿನ್ನೆಲೆಯಲ್ಲಿ ಪ್ರಾಂತ್ಯದಾದ್ಯಂತ ಶಾಲೆಗಳನ್ನು ಮುಚ್ಚಲಾಗಿದೆ ಎಂದು ಸಚಿವರು ತಿಳಿಸಿದ್ದಾರೆ ಪಾಕಿಸ್ತಾನವು ಎರಡು ಕರೋನವೈರಸ್ ಪ್ರಕರಣಗಳನ್ನು ದೃ ಪಡಿಸಿದೆ ಎಂದು ರಾಜ್ಯ ಆರೋಗ್ಯ ಸಚಿವರು ಹೇಳಿದ್ದಾರೆ ದೇಶದಲ್ಲಿ ವೈರಸ್ ಸಿಂಧ್ ಆರೋಗ್ಯ ಇಲಾಖೆಯ ಪ್ರಕಾರ ವರ್ಷದ ಯಾಹ್ಯಾ ಇರಾನ್ ನಿಂದ ಕರಾಚಿಗೆ ವಿಮಾನವನ್ನು ತೆಗೆದುಕೊಂಡರು ಕರೋನವೈರಸ್ಗೆ ಚಿಕಿತ್ಸೆಯನ್ನು ಕಂಡುಹಿಡಿಯುವ ಸಂಶೋಧನಾ ಪ್ರಯತ್ನಗಳಲ್ಲಿ ಇಸ್ರೇಲ್ ಇನ್ಸ್ಟಿಟ್ಯೂಟ್ ಫಾರ್ ಬಯೋಲಾಜಿಕಲ್ ರಿಸರ್ಚ್ ಐಐಬಿಆರ್ ತಂತ್ರಜ್ಞಾನವನ್ನು ಟ್ಯಾಪ್ ಮಾಡಿದೆ ಐಐಬಿಆರ್ ಗುರು ಆಧಾರಿತ ಜೈವಿಕ ತಂತ್ರಜ್ಞಾನ ಕಂಪನಿಯ ನಾಸ್ಡಾಕ್ ಡಿವೈಎಐ ಸಿ ವಿಧಾನವನ್ನು ವೇಗಗೊಳಿಸುವ ಮತ್ತು ವೆಚ್ಚವನ್ನು ಕಡಿಮೆ ಮಾಡುವ ಸಾಧನವಾಗಿ ಅನ್ವೇಷಿಸುತ್ತದೆ ಮಾರಣಾಂತಿಕ ವೈರಸ್ ಗೆ ಸಂಭಾವ್ಯ ಲಸಿಕೆ ಅಥವಾ ಚಿಕಿತ್ಸೆ ಜಾಗತಿಕ ವಿತರಣೆ ಕ್ಕೂ ಹೆಚ್ಚು ಐಐಬಿಆರ್ ವಿಜ್ಞಾನಿಗಳು ಕರೋನವೈರಸ್ ಗೆ ಲಸಿಕೆ ಕಂಡುಹಿಡಿಯಲು ಕೆಲಸ ಮಾಡುತ್ತಿದ್ದಾರೆ ಇದು ಸುಮಾರು ಜನರನ್ನು ಕೊಂದಿದೆ ಮತ್ತು ಇದು ವೈರಸ್ ಹರಡುವ ಮುಖ್ಯ ಮಾರ್ಗವಾಗಿದೆ ಮತ್ತು ಕೆಮ್ಮುವ ವ್ಯಕ್ತಿಯಿಂದ ಕನಿಷ್ಠ ಒಂದು ಮೀಟರ್ ದೂರದಲ್ಲಿರಲು ವಿಶ್ವ ಆರೋಗ್ಯ ಸಂಸ್ಥೆ ಶಿಫಾರಸು ಮಾಡುವ ಕಾರಣ ಸೇರಿದಂತೆ ಕೆಲವು ವೈರಸ್ ಗಳು ಬಹುಶಃ ಆ ಹನಿಗಳಲ್ಲಿ ಹಲವಾರು ಗಂಟೆಗಳ ಕಾಲ ಬದುಕಬಹುದು ಎಂದು ನಮಗೆ ಖಚಿತವಾಗಿ ತಿಳಿದಿಲ್ಲ ಯಾರಾದರೂ ಒಂದನ್ನು ಸ್ಪರ್ಶಿಸಲು ಕಾಯುತ್ತಿದ್ದಾರೆ ಆದರೆ ನಿಮ್ಮ ಕೈಯಲ್ಲಿ ವೈರಸ್ ಬಂದರೆ ನಂತರ ನಿಮ್ಮ ಬಾಯಿ ಮೂಗು ಅಥವಾ ಕಣ್ಣುಗಳನ್ನು ಸ್ಪರ್ಶಿಸಿದರೆ ಸೂಕ್ಷ್ಮಾಣು ನಿಮ್ಮ ದೇಹದೊಳಗೆ ಪ್ರವೇಶಿಸಬಹುದು ಮತ್ತು ನಿಮಗೆ ಸೋಂಕು ತಗುಲಿಸಬಹುದು ನಾವು ವೈರಸ್ ಹನಿಗಳಿಂದ ಕಲುಷಿತವಾದ ಯಾವುದನ್ನಾದರೂ ಸ್ಪರ್ಶಿಸಿದರೆ ಮತ್ತು ನಂತರ ನಮ್ಮ ಫೋನ್ ಗಳನ್ನು ಸ್ಪರ್ಶಿಸಿದರೆ ಅವು ಕಲುಷಿತವಾಗಬಹುದು ತುಂಬಾ ವೈರಸ್ ಹರಡುವುದು ತನ್ನ ಸಂಶೋಧನೆ ಮಾಡಿದ ನಂತರ ಪ್ರೊಫೆಸರ್ ಮೆಕ್ಲಾಸ್ ಈಗ ಅವಳ ಮುಖವನ್ನು ಸ್ಪರ್ಶಿಸುವ ಮೊದಲು ಬಳಸುವ ಸಣ್ಣ ಬಾಟಲಿ ಆಲ್ಕೋಹಾಲ್ ಆಧಾರಿತ ಹ್ಯಾಂಡ್ ಸ್ಯಾನಿಟೈಸರ್ ಅನ್ನು ಒಯ್ಯುತ್ತಾನೆ ರಲ್ಲಿ ದಕ್ಷಿಣ ಕೊರಿಯಾದಲ್ಲಿ ನಡೆದ ಬೇಸಿಗೆ ಒಲಿಂಪಿಕ್ಸ್ ನಲ್ಲಿ ಡೋಪಿಂಗ್ ಮಾಡಲು ಬೆನ್ ಜಾನ್ಸನ್ ಅವರನ್ನು ಅನರ್ಹಗೊಳಿಸಲಾಯಿತು ಮತ್ತು ಮೇಜರ್ ಲೀಗ್ ಬೇಸ್ ಬಾಲ್ ನಲ್ಲಿ ಸ್ಟೀರಾಯ್ಡ್ ಯುಗದವರೆಗೆ ರಾಷ್ಟ್ರೀಯ ಕನ್ಕ್ಯುಶನ್ ವಿವಾದಗಳಿಗೆ ಬಾಬ್ ಕೋಸ್ಟಾಸ್ ತನ್ನ ವರ್ಷಗಳಿಗಿಂತ ಹೆಚ್ಚಿನ ಅವಧಿಯಲ್ಲಿ ಕ್ರೀಡಾ ಹಗರಣಗಳನ್ನು ಕಂಡಿದ್ದಾನೆ ಫುಟ್ಬಾಲ್ ಲೀಗ್ ಇದು ಕೆಟ್ಟದಾಗಿದೆ ಅಥವಾ ಒಲಿಂಪಿಕ್ಸ್ ನಲ್ಲಿ ಡೋಪಿಂಗ್ ಅಥವಾ ಬೇಸ್ ಬಾಲ್ ನಲ್ಲಿನ ಸ್ಟೀರಾಯ್ಡ್ ಯುಗ ಅಥವಾ ಆಟದ ಸ್ವರೂಪ ಮತ್ತು ತಲೆ ಗಾಯಗಳ ಬಗ್ಗೆ ಫುಟ್ ಬಾಲ್ ನಲ್ಲಿ ಅಸ್ತಿತ್ವವಾದದ ಬಿಕ್ಕಟ್ಟಿನಷ್ಟು ಮಹತ್ವದ್ದಾಗಿದೆ ಎಂದು ನಾನು ಹೇಳಲಾರೆ ಎಂದು ಕೋಸ್ಟಾಸ್ ತನ್ನ ಬಹುಮುಖ ವೃತ್ತಿಜೀವನಕ್ಕೆ ಕ್ರೀಡೆಯಾಗಿ ಹೆಸರುವಾಸಿಯಾಗಿದ್ದಾನೆ ಎನ್ ಬಿಸಿ ಯಲ್ಲಿ ಪತ್ರಕರ್ತ ಮತ್ತು ಈಗ ಎಂಎಲ್ ಬಿ ನೆಟ್ ವರ್ಕ್ ಗಾಗಿ ಆಟದ ಕೆಲಸದಿಂದ ಮೇಜರ್ ಲೀಗ್ ಬೇಸ್ ಬಾಲ್ ಮತ್ತು ಕಮಿಷನರ್ ರಾಬ್ ಮ್ಯಾನ್ ಫ್ರೆಡ್ ತಮ್ಮ ರ ವಿಶ್ವ ಸರಣಿ ವಿಜೇತ ವರ್ಷದಲ್ಲಿ ಆಸ್ಟ್ರೋಸ್ ಸೈನ್ ಕದಿಯುವ ಯೋಜನೆಯ ಆಳ ಮತ್ತು ಶಿಸ್ತಿನ ಕೊರತೆಯ ಬಹಿರಂಗಪಡಿಸುವಿಕೆಯೊಂದಿಗೆ ಹಿಡಿತ ಸಾಧಿಸಿದ್ದಾರೆ ಭಾಗಿಯಾದ ಆಟಗಾರರಿಗಾಗಿ ಕೋಸ್ಟಾಸ್ ಈ ದಿನಗಳಲ್ಲಿ ಬೇಸ್ ಬಾಲ್ ಬಗ್ಗೆ ಸಾಕಷ್ಟು ಮಾತನಾಡುತ್ತಿದ್ದಾರೆ ಡಸರ್ಟ್ ಸನ್ ಕೋಸ್ಟಾಸ್ ನೊಂದಿಗಿನ ವಿಶೇಷ ಸಂದರ್ಶನದಲ್ಲಿ ಮ್ಯಾನ್ ಫ್ರೆಡ್ ಸಹ ಇರಬಹುದು ಆಸ್ಟ್ರೋಸ್ ಆಟಗಾರರಿಗೆ ವಿನಾಯಿತಿ ನೀಡುವ ಮೂಲಕ ಆಸ್ಟ್ರೋಸ್ ಹಗರಣಕ್ಕೆ ಅವರು ನೀಡಿದ ಪ್ರತಿಕ್ರಿಯೆಯಲ್ಲಿ ದುರ್ಬಲ ಎಂದು ಪರಿಗಣಿಸಲಾಗಿದೆ ಆಸ್ಟ್ರೋಸ್ ವ್ಯವಸ್ಥಾಪಕ ಎ ಜೆ ಹಿಂಚ್ ಮತ್ತು ಜನರಲ್ ಮ್ಯಾನೇಜರ್ ಜೆಫ್ ಲುಹ್ನೋ ಅವರನ್ನು ಒಂದು ವರ್ಷದವರೆಗೆ ಅಮಾನತುಗೊಳಿಸಿದ್ದಕ್ಕೆ ಸ್ಪಷ್ಟವಾದ ಪ್ರತಿಕ್ರಿಯೆಗೆ ಕೆಲವು ನ್ಯಾಯಸಮ್ಮತ ಕಾರಣಗಳಿವೆ ಕಾರ್ಯಕ್ಷಮತೆಯನ್ನು ಹೆಚ್ಚಿಸುವ ಷಧಿಗಳ ಉಲ್ಲಂಘನೆಗಾಗಿ ಎರಡು ಕಡೆಯವರು ಮಾಡಿದಂತೆ ಭವಿಷ್ಯದ ಯಾವುದೇ ಮೋಸ ಹಗರಣಗಳಿಗೆ ಶಿಸ್ತನ್ನು ಅನುಮತಿಸುವ ಒಪ್ಪಂದಕ್ಕೆ ಮೇಜರ್ ಲೀಗ್ ಬೇಸ್ ಬಾಲ್ ಮತ್ತು ಆಟಗಾರರ ಸಂಘ ಬರಲಿದೆ ರಾಯಿಟರ್ಸ್ ಫಿಲಿಪ್ ವೊಜಾಜೆರ್ಲಾಂಡನ್ ರಾಯ್ಟರ್ಸ್ ಅಮುಂಡಿ ಅಸೆಟ್ ಮ್ಯಾನೇಜ್ ಮೆಂಟ್ ಇದು ಯುರೋಪಿಯನ್ ಮತ್ತು ಯು ಎಸ್ ಸ್ಟಾಕ್ ಗಳ ಬಗ್ಗೆ ಹೆಚ್ಚು ಜಾಗರೂಕತೆಯಿಂದ ಕೂಡಿದೆ ಮತ್ತು ಹೆಚ್ಚುತ್ತಿರುವ ಕೊರೊನಾವೈರಸ್ ಏಕಾಏಕಿ ಉಂಟಾಗುತ್ತಿರುವ ಮಾರಾಟದ ಮಧ್ಯೆ ಉದಯೋನ್ಮುಖ ಮಾರುಕಟ್ಟೆ ಷೇರುಗಳ ಬಗ್ಗೆ ತಟಸ್ಥ ನಿಲುವಿಗೆ ಸಾಗಿದೆ ಎಂದು ಹೇಳಿದರು ಫೆಬ್ರವರಿಯಲ್ಲಿ ಐತಿಹಾಸಿಕ ಗರಿಷ್ಠ ಮಟ್ಟದಲ್ಲಿ ಅಪಾಯದ ಸ್ವತ್ತುಗಳು ಮತ್ತು ಅತಿಯಾದ ಪ್ರತಿಕ್ರಿಯೆಯಾಗಿ ಬದಲಾಗಬಲ್ಲ ಪ್ರಾಣಿ ಶಕ್ತಿಗಳ ಪ್ರತಿಕ್ರಿಯೆಯು ಟ್ರಿಲಿಯನ್ ಯುರೋಗಳಷ್ಟು ನಿರ್ವಹಣೆಯಲ್ಲಿದೆ ಎಂದು ಅಮುಂಡಿಯ ಪ್ಯಾಸ್ಕಲ್ ಬ್ಲಾಂಕ್ ಸಿಐಒ ಹೇಳಿದರು ಅಲ್ಪಾವಧಿಯಲ್ಲಿ ಕೆಲವು ಲಾಭವನ್ನು ತೆಗೆದುಕೊಳ್ಳುವ ಅಪಾಯ ಕಡಿತ ಮತ್ತು ಹೆಡ್ಜಿಂಗ್ ಹೆಚ್ಚಳವನ್ನು ಖಾತರಿಪಡಿಸಲಾಗಿದೆ ಎಂದು ಬ್ಲಾಂಕ್ ಹೇಳಿದ್ದಾರೆ ಗುರುವಾರ ಸ್ವೀಕರಿಸಿದ ಟಿಪ್ಪಣಿ ಈ ವಾರದಲ್ಲಿ ಕೇವಲ ಟ್ರಿಲಿಯನ್ ಗಿಂತಲೂ ಹೆಚ್ಚು ತಮ್ಮ ಮಾರುಕಟ್ಟೆ ಮೌಲ್ಯವನ್ನು ಅಳಿಸಿಹಾಕಿದೆ ಹೂಡಿಕೆದಾರರು ಬಾಂಡ್ ಗಳು ಮತ್ತು ಚಿನ್ನದಂತಹ ಸುರಕ್ಷಿತ ಧಾಮ ಸ್ವತ್ತುಗಳಿಗಾಗಿ ಹೂಡಿಕೆದಾರರು ಡ್ಯಾಶ್ ಮಾಡಿರುವುದರಿಂದ ಎಂಕೆಟಿಎಸ್ ಗ್ಲೋಬ್ ಅಮುಂಡಿ ಆದಾಗ್ಯೂ ವೈರಸ್ ಉಲ್ಬಣಗೊಳ್ಳುವ ಅಪಾಯಗಳು ಒಮ್ಮೆ ಚಕ್ರದ ಮೌಲ್ಯವನ್ನು ಕಳೆದುಕೊಂಡಿವೆ ಎಂದು ಹೇಳಿದರು ಷೇರುಗಳು ವಿಶೇಷವಾಗಿ ಯುರೋಪಿನಲ್ಲಿ ದೇಶೀಯವಾಗಿ ಕೇಂದ್ರೀಕೃತ ಉದಯೋನ್ಮುಖ ಮಾರುಕಟ್ಟೆ ಷೇರುಗಳು ಉದಯೋನ್ಮುಖ ಕರ್ರೆನ್ ಮತ್ತು ಅಭಿವೃದ್ಧಿಶೀಲ ರಾಷ್ಟ್ರಗಳು ಮತ್ತು ಇಟಲಿಯಲ್ಲಿ ಹೆಚ್ಚಿನ ಇಳುವರಿ ನೀಡುವ ಬಾಂಡ್ ಗಳು ಮರುಕಳಿಸುವಿಕೆಯ ಸಾಲಿನಲ್ಲಿರುತ್ತವೆ ಕೊರೊನಾವೈರಸ್ ಕಾದಂಬರಿ ಯುರೋಪಿನಾದ್ಯಂತ ಹರಡುತ್ತಿದ್ದಂತೆ ಕನಿಷ್ಠ ಯುರೋಪಿಯನ್ ರಾಷ್ಟ್ರಗಳು ಒತ್ತಡದ ಪ್ರಕರಣಗಳನ್ನು ದೃ ಪಡಿಸುತ್ತಿವೆ ಹಲವಾರು ಯು ಎಸ್ ವಿಶ್ವವಿದ್ಯಾಲಯಗಳು ತಮ್ಮ ವಿದ್ಯಾರ್ಥಿಗಳನ್ನು ಫ್ಲಾರೆನ್ಸ್ ಇಟಲಿಯಲ್ಲಿ ವಿದೇಶದಲ್ಲಿ ಅಧ್ಯಯನ ಮಾಡುವುದನ್ನು ರದ್ದುಗೊಳಿಸಿವೆ ಸಿಎನ್ ಎನ್ ನ ಮೆಲಿಸ್ಸಾ ಬೆಲ್ ಫ್ಲಾರೆನ್ಸ್ ನ ವರದಿಗಳು ಜಪಾನ್ ನಿಂದ ಏರ್ ಇಂಡಿಯಾ ವಿಶೇಷ ವಿಮಾನದ ಮೂಲಕ ಯೊಕೊಹಾಮಾದ ಜಪಾನಿನ ಕರಾವಳಿಯ ಡೈಮಂಡ್ ಪ್ರಿನ್ಸೆಸ್ ಕ್ರೂಸ್ ಹಡಗಿನಿಂದ ವಾಪಸ್ ಕರೆತಂದ ಭಾರತೀಯ ಪ್ರಜೆಗಳು ಮತ್ತು ಐದು ವಿದೇಶಿ ಪ್ರಜೆಗಳು ಸೇರಿದಂತೆ ಜನರನ್ನು ಮನೇಸರ್ ನಲ್ಲಿರುವ ಭಾರತೀಯ ಸೇನಾ ಸೌಲಭ್ಯದಲ್ಲಿ ನಿರ್ಬಂಧಿಸಲಾಗಿದೆ ಭಾರತೀಯ ಪ್ರಜೆಗಳು ಸೇರಿದ್ದಾರೆ ಒಂಬತ್ತು ಮಹಿಳೆಯರು ಮತ್ತು ಪುರುಷರು ಮತ್ತು ವಿದೇಶಿ ಪ್ರಜೆಗಳು ನೇಪಾಳದ ಒಬ್ಬರು ಶ್ರೀಲಂಕಾದಿಂದ ಒಬ್ಬರು ಪೆರುವಿನಿಂದ ಮತ್ತು ಇನ್ನೊಬ್ಬರು ದಕ್ಷಿಣ ಆಫ್ರಿಕಾದಿಂದ ಸೇರಿದ್ದಾರೆ ಸ್ಥಳಾಂತರಿಸುವವರನ್ನು ಅರ್ಹ ವೈದ್ಯರು ಮತ್ತು ಸಿಬ್ಬಂದಿ ಸದಸ್ಯರು ಎರಡು ವಾರಗಳವರೆಗೆ ಮೇಲ್ವಿಚಾರಣೆ ಮಾಡುತ್ತಾರೆ ಈ ಮಧ್ಯೆ ಸೋಂಕಿತರನ್ನು ಸ್ಥಳಾಂತರಿಸಲಾಗುವುದು ಹೆಚ್ಚಿನ ವೈದ್ಯಕೀಯ ಪರೀಕ್ಷೆಗಳು ಮತ್ತು ಚೇತರಿಕೆಗಾಗಿ ಸಫ್ದರ್ಜಂಗ್ ಆಸ್ಪತ್ರೆಯ ಪ್ರತ್ಯೇಕ ವಾರ್ಡ್ ಗೆ ಸಿಬ್ಬಂದಿ ಮತ್ತು ಆರು ಪ್ರಯಾಣಿಕರು ಸೇರಿದಂತೆ ಭಾರತೀಯರು ಐಷಾರಾಮಿ ಕ್ರೂಸ್ ಹಡಗಿನಲ್ಲಿರುವ ಜನರಲ್ಲಿ ಸೇರಿದ್ದಾರೆ ಇದನ್ನು ಫೆಬ್ರವರಿ ರಂದು ಜಪಾನಿನ ಕರಾವಳಿಯಲ್ಲಿ ನಿರ್ಬಂಧಿಸಲಾಗಿದೆ ಪ್ರಯಾಣಿಕರು ವೈರಸ್ ಗೆ ಧನಾತ್ಮಕ ಪರೀಕ್ಷೆ ಮಾಡಿದ್ದರು ಲಂಡನ್ ರಾಯಿಟರ್ಸ್ ಖಜಾನೆ ಇಳುವರಿ ಹೊಸ ಕುಸಿತವನ್ನು ಮುಂದುವರಿಸಿದ್ದರಿಂದ ಗುರುವಾರ ಡಾಲರ್ ಕುಸಿಯಿತು ಮತ್ತು ಹೂಡಿಕೆದಾರರು ಫೆಡರಲ್ ರಿಸರ್ವ್ ಬಡ್ಡಿದರಗಳನ್ನು ಕಡಿತಗೊಳಿಸಲಿದ್ದಾರೆ ಎಂದು ಹರಡಿಕೊಂಡಿದ್ದು ಹರಡುವ ಕರೋನವೈರಸ್ ಯುರೋವನ್ನು ಎರಡು ವಾರಗಳಿಗಿಂತ ಹೆಚ್ಚಿನ ಅವಧಿಯಲ್ಲಿ ಎತ್ತುವ ಪರಿಣಾಮವನ್ನು ಸರಿದೂಗಿಸುತ್ತದೆ ಯುರೋಪಿಯನ್ ಸೆಂಟ್ರಲ್ ಬ್ಯಾಂಕಿನ ನಿರೀಕ್ಷೆಗಳು ದರ ಕಡಿತವು ಈಗ ಹಣದ ಮಾರುಕಟ್ಟೆಗಳನ್ನೂ ಸಹ ಹೆಚ್ಚಿಸಿದೆ ಜುಲೈನಲ್ಲಿ ಬೇಸಿಸ್ ಪಾಯಿಂಟ್ ದರ ಕಡಿತಕ್ಕೆ ಕ್ಕಿಂತ ಹೆಚ್ಚು ಅವಕಾಶವಿದೆ ಕಳೆದ ವಾರದಿಂದ ಇದು ರಷ್ಟಿದೆ ಅದು ಸುರಕ್ಷಿತ ಹೆವೆನ್ ಕರೆನ್ಸಿ ರುಜುವಾತುಗಳು ಮತ್ತು ಹೂಡಿಕೆದಾರರ ನಂಬಿಕೆಗೆ ಧನ್ಯವಾದಗಳು ನಿಮ್ಮ ಎಸ್ ಆರ್ಥಿಕತೆಯು ಕೊರೊನಾವೈರಸ್ ಪತನದಿಂದ ತುಲನಾತ್ಮಕವಾಗಿ ಆಶ್ರಯ ಪಡೆದಿದ್ದು ಚೀನಾದ ಕಡಲಾಚೆಯ ಯುವಾನ್ ಒಂದು ವಾರದ ಗರಿಷ್ಠ ಮಟ್ಟಕ್ಕೆ ಬಲಗೊಂಡಿತು ಡಾಲರ್ ಡಾಲರ್ಗೆ ಡಾಲರ್ಗೆ ಯುವಾನ್ಗೆ ಇಳಿಯಿತು ಚೀನಾದ ಕಡೆಗೆ ಹೂಡಿಕೆದಾರರ ಮನೋಭಾವಕ್ಕೆ ಪ್ರಾಕ್ಸಿಯಾಗಿ ಕಂಡುಬರುವ ಆಸ್ಟ್ರೇಲಿಯನ್ ಡಾಲರ್ ರಿಂದ ಕ್ಕೆ ಏರಿತು ದೂರದಲ್ಲಿ ವರ್ಷದ ಕನಿಷ್ಠದಿಂದ ಬುಧವಾರ ಮುಟ್ಟಿದೆ ಕ್ಯಾಮೆರಾ ಫೋನ್ ಫೋಟೋಕ್ಕಾಗಿ ಪ್ರವಾಸಿಗರ ವಿಸ್ತೃತ ತೋಳಿಗೆ ಸಿದ್ಧವಾಗದೆ ಹೆಚ್ಚಿನ ದಿನಗಳಲ್ಲಿ ನೀವು ಸ್ಯಾನ್ ಫ್ರಾನ್ಸಿಸ್ಕೋದ ಐತಿಹಾಸಿಕ ಚೈನಾಟೌನ್ ಮೂಲಕ ನಡೆಯಲು ಸಾಧ್ಯವಿಲ್ಲ ಕರೋನವೈರಸ್ ಏಕಾಏಕಿ ದೇಶದ ಅತಿದೊಡ್ಡ ಮತ್ತು ಹಳೆಯ ಚೈನಾಟೌನ್ ಪ್ರವಾಸೋದ್ಯಮವನ್ನು ಜನಾಂಗೀಯವಾಗಿ ಾಯೆಯಾಗಿ ನೋಡಿದೆ ಸ್ಯಾನ್ ಫ್ರಾನ್ಸಿಸ್ಕೋದಲ್ಲಿ ಕರೋನವೈರಸ್ ಪ್ರಕರಣಗಳು ದೃ ಪಟ್ಟಿಲ್ಲ ಎಂದು ಚೈನಾಟೌನ್ ನಿಯಂತ್ರಕರು ಹೇಳುತ್ತಾರೆ ಮತ್ತು ಬೀದಿಗಳು ಕಡಿಮೆ ಜನಸಂದಣಿಯಿಂದ ಕೂಡಿವೆ ಮತ್ತು ಜನರು ತಾವು ಹೇಳಿದ ವೈರಸ್ ಬಗ್ಗೆ ಅಲ್ಲ ಆದರೆ ಅವರ ವ್ಯವಹಾರಗಳ ಬಗ್ಗೆ ಚಿಂತೆ ಮಾಡಲು ಪ್ರಾರಂಭಿಸಿದ್ದಾರೆ ಈ ಕುಸಿತದಿಂದ ಬದುಕುಳಿಯಬಹುದು ಸ್ಯಾನ್ ಫ್ರಾನ್ಸಿಸ್ಕೋ ಚೈನಾಟೌನ್ ನಲ್ಲಿ ನಾವು ಚೀನಾಕ್ಕೆ ಹೋಗಲಿಲ್ಲ ಚೈನಾಟೌನ್ ನಲ್ಲಿ ಅವರು ಕುಟುಂಬಗಳು ವೃದ್ಧರು ಮತ್ತು ಮಕ್ಕಳನ್ನು ಹೊಂದಿದ್ದಾರೆ ಮತ್ತು ಅವರು ಕರೋನವೈರಸ್ ನಿಂದ ರಕ್ಷಿಸಿಕೊಳ್ಳಲು ಬಯಸುತ್ತಾರೆ ಎಂದು ಅವರು ಗಮನಸೆಳೆದರು ಹೇಗಾದರೂ ಅವರು ಅನಾರೋಗ್ಯಕರ ಅಥವಾ ಆರೋಗ್ಯ ಮುನ್ನೆಚ್ಚರಿಕೆಗಳನ್ನು ತೆಗೆದುಕೊಳ್ಳುತ್ತಿಲ್ಲ ಎಂದು ಹಿಸಲಾಗಿದೆ ಜನರು ತಮ್ಮ ಮನೆಗಳನ್ನು ಬಿಡಲು ಕಡಿಮೆ ಇಚ್ ಿಸುತ್ತಿದ್ದಾರೆ ಎಂಬ ಕೊರೊನಾವೈರಸ್ ಚಾಲಿತ ನಿರೂಪಣೆ ಈ ವಾರ ಷೇರು ಮಾರುಕಟ್ಟೆಯಲ್ಲಿ ಉತ್ತಮವಾಗಿ ಆಡುತ್ತಿದೆ ಮನೆಯ ಸ್ಟಾಕ್ ಗಳಲ್ಲಿ ಉಳಿಯಿರಿ ವಿಶಾಲ ಮಾರುಕಟ್ಟೆಯನ್ನು ಮೀರಿಸುತ್ತಿದೆ ಮತ್ತು ಹರಡುವ ಮಾರಣಾಂತಿಕ ವೈರಸ್ ನ ಬೆದರಿಕೆಯಿಂದ ಪ್ರಯಾಣವನ್ನು ಉತ್ತೇಜಿಸುವ ಕಂಪನಿಗಳು ರಜಾದಿನಗಳಲ್ಲಿ ಕಡಿದಾದ ಮಾರಾಟ ಕುಸಿತದ ಹೊರತಾಗಿಯೂ ಜೆಸಿ ಪೆನ್ನಿಯ ನಾಲ್ಕನೇ ತ್ರೈಮಾಸಿಕದ ಆದಾಯವು ವಿಶ್ಲೇಷಕರ ನಿರೀಕ್ಷೆಯಲ್ಲಿ ಅಗ್ರಸ್ಥಾನದಲ್ಲಿದೆ ಎಂದು ಕಂಪನಿಯು ಗುರುವಾರ ಬೆಳಿಗ್ಗೆ ಹೇಳಿದೆ ಕಂಪನಿಯು ಹಣಕಾಸಿನ ನಾಲ್ಕನೇ ತ್ರೈಮಾಸಿಕದಲ್ಲಿ ಫೆಬ್ರವರಿ ಕ್ಕೆ ಕೊನೆಗೊಂಡಿದೆ ರಿಫಿನಿಟಿವ್ ಸಿಇಒ ಜಿಲ್ ಎಳೆದ ದತ್ತಾಂಶದ ಆಧಾರದ ಮೇಲೆ ವಿಶ್ಲೇಷಕರು ನಿರೀಕ್ಷಿಸುತ್ತಿರುವುದಕ್ಕೆ ಹೋಲಿಸಿದರೆ ರಜಾದಿನಗಳಲ್ಲಿ ದುರ್ಬಲ ತಾಣವಾಗಿದ್ದ ಪೆನ್ನಿಯ ಮಹಿಳಾ ಉಡುಪು ವ್ಯವಹಾರದಲ್ಲಿನ ಸುಧಾರಣೆಗಳನ್ನು ಸೊಲ್ಟೌ ಉಲ್ಲೇಖಿಸಿದ್ದಾರೆ ಪೆನ್ನಿ ಈಗ ರ ಆರ್ಥಿಕ ವರ್ಷದಲ್ಲಿ ಅದೇ ಅಂಗಡಿ ಮಾರಾಟವನ್ನು ರಿಂದ ಕ್ಕೆ ಇಳಿಸಲು ಕರೆ ನೀಡುತ್ತಿದೆ ಕರೋನವೈರಸ್ ಏಕಾಏಕಿ ಅದೇ ಅಂಗಡಿಯ ಮಾರಾಟದಿಂದ ಯಾವುದೇ ಪರಿಣಾಮವನ್ನು ಹೊರತುಪಡಿಸಿ ಜನವರಿ ರಂದು ಕೊನೆಗೊಂಡ ಒಂಬತ್ತು ವಾರಗಳ ಅವಧಿ ಇಳಿದಿದೆ ಪೆನ್ನೆ ಕಳೆದ ತಿಂಗಳು ಮಿಲಿಯನ್ ಮಾರುಕಟ್ಟೆ ಕ್ಯಾಪ್ ಹೊಂದಿರುವ ಪೆನ್ನೆ ಕಳೆದ ತಿಂಗಳುಗಳಲ್ಲಿ ತನ್ನ ಷೇರುಗಳು ಕ್ಕಿಂತ ಹೆಚ್ಚು ಕುಸಿದಿದೆ ಎಂದು ಹೇಳಿದರು ಕರೋನವೈರಸ್ ಏಕಾಏಕಿ ವಿಸ್ತರಿಸಿದಂತೆ ಕಲಾ ಪ್ರಪಂಚವು ಯಶಸ್ವಿಯಾಗುತ್ತಿದೆ ಅನೇಕ ಹಾಲಿವುಡ್ ಚಲನಚಿತ್ರಗಳು ಲಲಿತಕಲಾ ಪ್ರದರ್ಶನಗಳು ಮತ್ತು ಸಂಗೀತ ಕಚೇರಿಗಳನ್ನು ರದ್ದುಗೊಳಿಸಲಾಗಿದೆ ಅಥವಾ ವಿಳಂಬಗೊಳಿಸಲಾಗಿದೆ ಎಪಿ ಫೈಲ್ ಫೋಟೋ ಸಿಂಗಾಪುರ ಏಕಾಏಕಿ ಪ್ರತಿಕೂಲ ಪರಿಣಾಮ ಬೀರುವ ಟ್ಯಾಕ್ಸಿ ಡ್ರೈವರ್ ಗಳಿಗೆ ಹೆಚ್ಚಿನ ಆರ್ಥಿಕ ನೆರವು ನೀಡುವಂತೆ ಸಾರಿಗೆ ಗುಂಪಿನ ಕಂಫರ್ಟ್ ಡೆಲ್ ಗ್ರೋ ಟ್ಯಾಕ್ಸಿ ವ್ಯವಹಾರದ ಮುಖ್ಯ ಕಾರ್ಯನಿರ್ವಾಹಕ ಗುರುವಾರ ಫೆಬ್ರವರಿ ರಂದು ಸರ್ಕಾರಕ್ಕೆ ಕರೆ ನೀಡಿದರು ಪಾರ್ಲಿಮೆಂಟ್ ಕಂಫರ್ಟ್ ಡೆಲ್ಗ್ರೋ ಟ್ಯಾಕ್ಸಿ ಸಿಇಒ ಇತ್ತೀಚೆಗೆ ಘೋಷಿಸಿದ ಮಿಲಿಯನ್ ವಿಶೇಷ ಪರಿಹಾರ ನಿಧಿಯನ್ನು ಹೆಚ್ಚಿಸುವ ಮೂಲಕ ಟ್ಯಾಕ್ಸಿ ಕಂಪನಿಗಳು ತಮ್ಮ ಚಾಲಕರಿಗೆ ಏನು ಒದಗಿಸುತ್ತಿವೆ ಎಂಬುದನ್ನು ಹೊಂದಿಸುವುದು ಸರ್ಕಾರವು ಇದನ್ನು ಮಾಡಬಹುದಾದ ಒಂದು ಮಾರ್ಗವಾಗಿದೆ ಎಂದು ಆಂಗ್ ವೀ ನೆಂಗ್ ಗಮನಸೆಳೆದಿದ್ದಾರೆ ಇಲ್ಲಿರುವ ಎಲ್ಲಾ ಟ್ಯಾಕ್ಸಿ ಕಂಪನಿಗಳು ಸರ್ಕಾರದ ವಿಶೇಷ ಮತ್ತು ಅದಕ್ಕಿಂತ ಹೆಚ್ಚಿನ ಸಹಾಯವನ್ನು ನೀಡುತ್ತಿವೆ ದಿನಕ್ಕೆ ರ ಪರಿಹಾರ ನಿಧಿ ಜುರಾಂಗ್ ಜಿಆರ್ ಸಿಗೆ ಸಂಸತ್ ಸದಸ್ಯರೂ ಆಗಿರುವ ಆಂಗ್ ಟ್ಯಾಕ್ಸಿ ಮತ್ತು ಖಾಸಗಿ ಬಾಡಿಗೆ ಕಾರು ಚಾಲಕರಿಗೆ ಮಿಲಿಯನ್ ಬೆಂಬಲ ಪ್ಯಾಕೇಜ್ ನ ನಿಧಿಯ ಅಡಿಯಲ್ಲಿ ಏಕಾಏಕಿ ಚಾಲಕರು ವೆಚ್ಚವನ್ನು ತಪ್ಪಿಸಲು ದಿನಕ್ಕೆ ರವರೆಗೆ ಪಡೆಯುತ್ತಾರೆ ಮೂರು ತಿಂಗಳುಗಳ ಕಾಲ ಸರ್ಕಾರ ಮತ್ತು ನಿರ್ವಾಹಕರು ಸಮಾನವಾಗಿ ಕೊಡುಗೆ ನೀಡುತ್ತಾರೆ ಟ್ಯಾಕ್ಸಿ ಡ್ರೈವರ್ ಗಳು ಹೆಚ್ಚುವರಿ ಆರ್ಥಿಕ ಸಹಾಯಕ್ಕಾಗಿ ಕರೆ ನೀಡುತ್ತಾರೆ ರಲ್ಲಿ ತೀವ್ರವಾದ ತೀವ್ರ ಉಸಿರಾಟದ ಸಿಂಡ್ರೋಮ್ ಏಕಾಏಕಿ ಹೋಲಿಸಿದರೆ ಪರಿಸ್ಥಿತಿಯಿಂದ ಹೆಚ್ಚು ಪ್ರತಿಕೂಲ ಪರಿಣಾಮ ಬೀರಿತು ಇಟಲಿಯಿಂದ ಸಿಬ್ಬಂದಿಯೊಬ್ಬರು ಹಿಂದಿರುಗಿದ ನಂತರ ಬುಧವಾರ ಅದನ್ನು ಮುಚ್ಚಲಾಗಿದೆ ಎಂದು ವಿಲಿಯಂ ಮಾರ್ಟಿನ್ ಕೋಫ್ ಜೂನಿಯರ್ ಶಿಶು ಮತ್ತು ನರ್ಸರಿ ಶಾಲೆ ಹೇಳಿದೆ ಏತನ್ಮಧ್ಯೆ ಚೆಷೈರ್ ನ ಸ್ಯಾಂಡ್ ಬಾಚ್ ಪ್ರೌ ಶಾಲೆ ಇಟಲಿಯ ಲೊಂಬಾರ್ಡಿ ಪ್ರದೇಶದ ಏಪ್ರಿಕಾಕ್ಕೆ ಭೇಟಿ ನೀಡಿದ ವಿದ್ಯಾರ್ಥಿಗಳು ಮತ್ತು ಸಿಬ್ಬಂದಿ ಒಳಾಂಗಣದಲ್ಲಿ ಮತ್ತು ಸ್ವಯಂ ಒಳಗೆ ಇರಬೇಕೆಂದು ಹೇಳಿದರು ಪ್ರತ್ಯೇಕಿಸಿ ನಾಂಟ್ವಿಚ್ ನ ಮೂರನೇ ಚೆಷೈರ್ ಶಾಲೆ ಬ್ರೈನ್ ಲೀಸ್ ಸ್ಕೂಲ್ ಸಿಬ್ಬಂದಿ ಕೊರತೆಯಿಂದಾಗಿ ಅದರ ಆರನೇ ರೂಪವನ್ನು ಮುಚ್ಚಲಾಗಿದೆ ಎಂದು ಹೇಳಿದರು ನ್ಯೂಕ್ವೇಯಲ್ಲಿನ ಟ್ರೆಥೆರಾಸ್ ಸ್ಕೀ ಪ್ರವಾಸಗಳಿಂದ ಹಿಂದಿರುಗಿದ ನಂತರ ಮನೆಯಲ್ಲೇ ಇರಲು ಸೂಚಿಸಲಾಗಿದೆ ಮತ್ತು ಪ್ರಿನ್ಸ್ ಜಾರ್ಜ್ ಮತ್ತು ಪ್ರಿನ್ಸೆಸ್ ಷಾರ್ಲೆಟ್ ಅವರ ಪ್ರಾಥಮಿಕ ಶಾಲೆಯಲ್ಲಿ ಥಾಮಸ್ ಬ್ಯಾಟರ್ಸಿಯಾದಲ್ಲಿ ನಾಲ್ಕು ವಿದ್ಯಾರ್ಥಿಗಳನ್ನು ಉತ್ತರ ಇಟಲಿಗೆ ಪ್ರವಾಸದ ನಂತರ ಮುನ್ನೆಚ್ಚರಿಕೆ ಕ್ರಮವಾಗಿ ಮನೆಗೆ ಕಳುಹಿಸಲಾಗಿದೆ ಎಂದು ವರದಿಯಾಗಿದೆ ಪ್ರಮುಖ ವಿಮಾನ ನಿಲ್ದಾಣಗಳ ಮೂಲಕ ಪ್ರಯಾಣಿಸುವ ಹೆಚ್ಚಿನ ಜನರು ತಮ್ಮ ಕೈಗಳನ್ನು ಸರಿಯಾಗಿ ತೊಳೆಯುತ್ತಿದ್ದರೆ ವಿಶ್ವಾದ್ಯಂತ ರೋಗ ಹರಡುವುದನ್ನು ಗಮನಾರ್ಹವಾಗಿ ಕಡಿಮೆ ಮಾಡಬಹುದು ಎಂದು ಡಿಸೆಂಬರ್ ನಲ್ಲಿ ಪ್ರಕಟವಾದ ಅಧ್ಯಯನವು ಇದನ್ನು ಒತ್ತಿಹೇಳಿದೆ ಜನರು ಕೈ ತೊಳೆಯುತ್ತಿದ್ದರೆ ಅದು ಹರಡುವುದನ್ನು ತಡೆಯಲು ಬಹಳ ದೂರ ಹೋಗುತ್ತದೆ ಅನಾರೋಗ್ಯದ ಕಚ್ಚಾ ಮಾಂಸವನ್ನು ಒಳಗೊಂಡ ಆಹಾರ ತಯಾರಿಕೆಯ ಸಮಯದಲ್ಲಿ ಕೈ ತೊಳೆಯುವ ಬಗ್ಗೆ ಯುಎಸ್ ಡಿಎ ಅಧ್ಯಯನಗಳನ್ನು ಬ್ರಾಶಿಯರ್ಸ್ ಉಲ್ಲೇಖಿಸಿದ್ದಾರೆ ಹೆಚ್ಚಿನ ಜನರು ಕೈ ತೊಳೆಯಬೇಕು ಎಂದು ತಿಳಿದಿರುವಾಗ ಲೋಡ್ ಆಗುತ್ತಿದೆ ಸಿಡಿಸಿ ಬಿಸಿನೀರು ಯಾವುದೇ ರೋಗಾಣುಗಳನ್ನು ಕೊಲ್ಲುವುದಿಲ್ಲ ಮತ್ತು ನಿಮ್ಮ ಕೈಗಳನ್ನು ಕೆರಳಿಸಬಹುದು ಎಂದು ಹೇಳುತ್ತದೆ ಆದ್ದರಿಂದ ಸಂಸ್ಥೆ ಶೀತವನ್ನು ಶಿಫಾರಸು ಮಾಡುತ್ತದೆ ಅಥವಾ ಬೆಚ್ಚಗಿನ ನೀರು ಸಿಡಿಸಿ ಸೋಪ್ ಮತ್ತು ನೀರಿಗೆ ಆದ್ಯತೆ ನೀಡುತ್ತದೆಯೆಂದರೆ ಎಲ್ಲಾ ರೋಗಾಣುಗಳನ್ನು ಕಡಿಮೆ ಮಾಡಲು ಅವು ಪರಿಣಾಮಕಾರಿ ಏಕೆಂದರೆ ಹ್ಯಾಂಡ್ ಸ್ಯಾನಿಟೈಸರ್ಗಳು ನಿಮಗೆ ಇನ್ನೊಂದು ಆಯ್ಕೆ ಇಲ್ಲದಿದ್ದರೆ ಉತ್ತಮ ಪರ್ಯಾಯವಾಗಿದೆ ವಿದೇಶಾಂಗ ವ್ಯವಹಾರಗಳ ಸಿ ಎಸ್ ವೈರಸ್ ನಿಂದ ಪ್ರಯಾಣಿಕರನ್ನು ಹೊತ್ತೊಯ್ಯುವ ವಿಮಾನವನ್ನು ಚೀನಾ ದೇಶಕ್ಕೆ ಅಪ್ಪಳಿಸಲು ಅನುಮತಿ ನೀಡುವ ಸರ್ಕಾರದ ಕ್ರಮವನ್ನು ವಿದೇಶಾಂಗ ವ್ಯವಹಾರಗಳ ಕ್ಯಾಬಿನೆಟ್ ಕಾರ್ಯದರ್ಶಿ ರೇಚೆಲ್ ಒಮಾಮೊ ಸಮರ್ಥಿಸಿಕೊಂಡಿದ್ದಾರೆ ವಿಶ್ವ ಆರೋಗ್ಯ ಸಂಸ್ಥೆ ಡಬ್ಲ್ಯುಎಚ್ ಒ ಮಾರ್ಗಸೂಚಿಗಳು ಸ್ವಯಂ ಸಂಪರ್ಕತಡೆಯನ್ನು ಹೇಳಿಕೆಯಿಂದ ಸಂಸದರು ಚೀನಾದಿಂದ ವಿಮಾನಗಳನ್ನು ತಕ್ಷಣವೇ ಸ್ಥಗಿತಗೊಳಿಸುವಂತೆ ಒಮಾಮೊ ಅವರನ್ನು ಕೇಳಿದರು ಪೋಪ್ ಫ್ರಾನ್ಸಿಸ್ ನಾನು ರೋಮ್ನಲ್ಲಿ ಹೋಗುತ್ತೇನೆ ಮತ್ತು ಈವೆಂಟ್ ಅನ್ನು ರದ್ದುಗೊಳಿಸುತ್ತೇನೆ ಮಿರರ್ ಫೆಬ್ರವರಿ ಜಿಎಂಟಿ ಪೋಪ್ ಫ್ರಾನ್ಸಿಸ್ ಚಿತ್ರವನ್ನು ತೆಗೆದುಕೊಂಡಿದ್ದೇನೆ ಮತ್ತು ರೋಮ್ ಬೆಸಿಲಿಕಾದಲ್ಲಿ ನಡೆದ ಘಟನೆಯನ್ನು ರದ್ದುಗೊಳಿಸಿದೆ ಏಕೆಂದರೆ ಉತ್ತರ ಇಟಲಿಯ ಪಟ್ಟಣಗಳನ್ನು ಕರೋನವೈರಸ್ ಬೀಗ ಹಾಕುತ್ತದೆ ನೋಡಿ ಪೋಪ್ ಚಿತ್ರಹಿಂಸೆ ಗುಲಾಮಗಿರಿಯನ್ನು ಖಂಡಿಸಿದ್ದಾರೆ ಲಿಬಿಯಾದ ವಲಸೆ ಶಿಬಿರಗಳು ಸಾಂಟಾ ಮಾರ್ಟಾದೊಳಗೆ ಇರಲು ಅವರು ಆದ್ಯತೆ ನೀಡಿದ್ದರಿಂದ ವ್ಯಾಟಿಕನ್ ವರ್ಷದ ಮಠಾಧೀಶರು ವಾಸಿಸುವ ವ್ಯಾಟಿಕನ್ ಅತಿಥಿಗೃಹವನ್ನು ಉಲ್ಲೇಖಿಸಿ ಈಗ ಚಂದಾದಾರರಾಗಿ ಪೋಪ್ ಶೀತದಿಂದ ಕಾಣಿಸಿಕೊಂಡರು ಮತ್ತು ಅವರ ಸಾಮಾನ್ಯ ಪ್ರೇಕ್ಷಕರಲ್ಲಿ ಸ್ವಲ್ಪ ಗಟ್ಟಿಯಾದ ಧ್ವನಿಯೊಂದಿಗೆ ಮಾತನಾಡಿದರು ರೋಮ್ ಚರ್ಚ್ನಲ್ಲಿ ಬುಧವಾರ ಬೂದಿ ಬುಧವಾರದ ಸೇವೆಯನ್ನೂ ನೋಡಿ ಪೋಪ್ ಮಹಿಳೆಯನ್ನು ಕಪಾಳಕ್ಕೆ ಕ್ಷಮಿಸಿ ಎಂದು ನೋಡಿ ವ್ಯಾಟಿಕನ್ ಪೋಪ್ ಮತ್ತು ಕಾರ್ಡಿನಲ್ ಆಂಟೋನಿಯೊ ಟ್ಯಾಗಲ್ ಫಿಲಿಪಿನೊ ಚಿತ್ರವನ್ನು ಬಿಡುಗಡೆ ಮಾಡಿದೆ ಅವರು ಗುರುವಾರ ಬೆಳಿಗ್ಗೆ ವ್ಯಾಟಿಕನ್ ಸಭೆಯಲ್ಲಿ ಹೊಸ ಪೋಸ್ಟ್ನಲ್ಲಿ ಪ್ರಾರಂಭಿಸಿದ್ದಾರೆ ಗ್ಲೋಬಲ್ ಕ್ಯಾಥೊಲಿಕ್ ಹವಾಮಾನ ಚಳವಳಿಯ ಸದಸ್ಯರೊಂದಿಗೆ ಅಂತರರಾಷ್ಟ್ರೀಯ ಪರಿಸರ ಸಮೂಹವನ್ನು ನೋಡಿ ಪೋಪ್ ಫ್ರಾನ್ಸಿಸ್ ನನ್ ಚುಂಬಿಸುತ್ತಾನೆ ಪೋಪ್ ಹೋಗಲು ಕಾರಣ ರೋಮನ್ ಪುರೋಹಿತರೊಂದಿಗೆ ಲೆಂಟನ್ ಸೇವೆಗಾಗಿ ಗುರುವಾರ ಬೆಳಿಗ್ಗೆ ಲ್ಯಾಟೆರನ್ನಲ್ಲಿರುವ ಸೇಂಟ್ ಜಾನ್ಸ್ ಬೆಸಿಲಿಕಾ ಬೆರ್ಲಿನ್ ಫೆಬ್ರವರಿ ರಾಯಿಟರ್ಸ್ ಕರೋನವೈರಸ್ ಸಾಂಕ್ರಾಮಿಕವು ಆರ್ಥಿಕತೆಗೆ ಕಠಿಣ ವ್ಯವಹಾರವನ್ನು ಹೊಡೆದರೆ ಹಣಕಾಸಿನ ಉತ್ತೇಜನ ಕಾರ್ಯಕ್ರಮವನ್ನು ಪ್ರಾರಂಭಿಸಲು ಜರ್ಮನ್ ಸರ್ಕಾರ ಚಿಂತಿಸುತ್ತಿದೆ ಸರ್ಕಾರಿ ಮೂಲಗಳನ್ನು ಉಲ್ಲೇಖಿಸಿ ಹ್ಯಾಂಡೆಲ್ಸ್ಬ್ಲಾಟ್ ಗುರುವಾರ ವರದಿ ಮಾಡಿದೆ ನಾವು ಪ್ರಸ್ತುತ ವಿವಿಧ ಸನ್ನಿವೇಶಗಳನ್ನು ಮತ್ತು ಆರ್ಥಿಕತೆಯ ನೆರವು ಕ್ರಮಗಳನ್ನು ಪರಿಶೀಲಿಸುತ್ತಿದ್ದೇವೆ ಎಂದು ಪತ್ರಿಕೆ ಅಧಿಕೃತ ಉಲ್ಲೇಖಿಸಿದೆ ವೈರಸ್ ಎಷ್ಟು ಹರಡುತ್ತದೆ ಎಂಬುದರ ಆಧಾರದ ಮೇಲೆ ಟೇಬಲ್ ನಲ್ಲಿ ವಿಭಿನ್ನ ಆಯ್ಕೆಗಳಿವೆ ಕೆಲವೇ ದಿನಗಳಲ್ಲಿ ಯೋಜನೆ ಲಭ್ಯವಿರಬೇಕು ಎಂದು ಅಧಿಕಾರಿ ಹೇಳಿದರು ಘಾನಾ ವಿಶ್ವವಿದ್ಯಾಲಯದ ಕ್ಯಾಂಪಸ್ ಗಳಲ್ಲಿ ರ ಮತ್ತು ದೇಶವು ದೊಡ್ಡ ಪ್ರಮಾಣದಲ್ಲಿ ಕೊರೊನಾವೈರಸ್ ಕಾಯಿಲೆಯ ಯಾವುದೇ ಏಕಾಏಕಿ ಎದುರಿಸುವ ಯೋಜನೆಗಳ ಒಂದು ಭಾಗವಾಗಿದೆ ಮತ್ತು ಪ್ರಕರಣಗಳನ್ನು ನಿರ್ವಹಿಸಲು ಅದರ ಸಿದ್ಧತೆಯ ಬಗ್ಗೆ ವಿಶ್ವವಿದ್ಯಾಲಯ ಸಮುದಾಯವನ್ನು ನವೀಕರಿಸುವುದು ಅಧಿಕಾರಿಗಳು ಯ ಎಲ್ಲಾ ದೃ ಪಡಿಸಿದ ಪ್ರಕರಣಗಳನ್ನು ಸೂಚಿಸಿದ್ದಾರೆ ಘಾನಾ ಪರೀಕ್ಷೆಯಲ್ಲಿ ಣಾತ್ಮಕವಾಗಿ ಸೋಂಕನ್ನು ತಕ್ಷಣ ರಿಡ್ಜ್ ಆಸ್ಪತ್ರೆಗೆ ವರ್ಗಾಯಿಸಲಾಗುವುದು ಈ ತಿಂಗಳ ಆರಂಭದಲ್ಲಿ ಜನರು ವೈರಸ್ ಸೋಂಕಿಗೆ ಒಳಗಾಗಿದ್ದಾರೆಂದು ಶಂಕಿಸಲಾಗಿದೆ ಎಲ್ಲಾ ಣಾತ್ಮಕ ಪರೀಕ್ಷೆ ಘಾನಾ ಆರೋಗ್ಯ ಸೇವೆ ಘೋಷಿಸಿದೆ ಅಷ್ಟರಲ್ಲಿ ಆರೋಗ್ಯ ಸಚಿವಾಲಯವು ರಿಡ್ಜ್ ಆಸ್ಪತ್ರೆ ಮತ್ತು ದೇಶದಲ್ಲಿ ಕರೋನವೈರಸ್ ಸಂಭವನೀಯ ಪ್ರಕರಣಗಳನ್ನು ನಿರ್ವಹಿಸುವ ಕೇಂದ್ರಗಳಾಗಿ ತೆಮಾ ಜನರಲ್ ಆಸ್ಪತ್ರೆ ಈ ಕ್ರಮವು ದೇಶದಲ್ಲಿ ಪತ್ತೆಯಾಗಬಹುದಾದ ಯಾವುದೇ ಪ್ರಕರಣವನ್ನು ತಡೆಗಟ್ಟಲು ಮತ್ತು ನಿಯಂತ್ರಿಸಲು ಮತ್ತು ಅಂತಿಮವಾಗಿ ಘಾನಾದ ಜನಸಂಖ್ಯೆಯನ್ನು ರಕ್ಷಿಸುವ ಘಾನಾದ ಯೋಜನೆಗಳ ಒಂದು ಭಾಗವಾಗಿದೆ ಅಟಲಾಂಟಾ ರೊಂದಿಗಿನ ವೇಲೆನ್ಸಿಯಾದ ಚಾಂಪಿಯನ್ಸ್ ಲೀಗ್ ಘರ್ಷಣೆಯನ್ನು ಸರಿದೂಗಿಸಲು ಮಿಲನ್ ಗೆ ಪ್ರಯಾಣಿಸಿದ ನಂತರ ಸ್ಪ್ಯಾನಿಷ್ ಪತ್ರಕರ್ತರೊಬ್ಬರು ಕರೋನವೈರಸ್ ಗೆ ಧನಾತ್ಮಕ ಪರೀಕ್ಷೆ ಮಾಡಿದ್ದಾರೆ ಡಬ್ಲಿನ್ ನಲ್ಲಿ ಐರ್ಲೆಂಡ್ ವಿರುದ್ಧದ ಇಟಲಿಯ ಸಿಕ್ಸ್ ನೇಷನ್ಸ್ ಪಂದ್ಯವನ್ನು ಮಾರಣಾಂತಿಕ ವೈರಸ್ ಗೆ ತುತ್ತಾಗಿರುವುದನ್ನು ದೃ ೀಕರಿಸಲು ಅವರನ್ನು ರಾಷ್ಟ್ರೀಯ ಮೈಕ್ರೋಬಯಾಲಜಿ ಕೇಂದ್ರಕ್ಕೆ ಕರೆದೊಯ್ಯಲಾಗಿದೆ ಎಂದು ವರದಿ ಮಾಡಿದೆ ಕೊರೊನಾವೈರಸ್ ಭಯದಿಂದಾಗಿ ಐರ್ಲೆಂಡ್ ಕೂಡ ಇಟಲಿಯನ್ನು ಅಂಡರ್ ಸಿಕ್ಸ್ ನೇಷನ್ಸ್ ಆಟದಲ್ಲಿ ಆಡಲಿದೆ ಮತ್ತು ಆ ವಾರಾಂತ್ಯದಲ್ಲಿ ಮಹಿಳಾ ಅಂತರರಾಷ್ಟ್ರೀಯ ಪಂದ್ಯವನ್ನು ರದ್ದುಪಡಿಸಲಾಗಿದೆ ಮಿಲನ್ ನ ಸ್ಯಾನ್ ಸಿರೋದಲ್ಲಿ ಈ ಪಂದ್ಯ ನಡೆಯಿತು ಮತ್ತು ಸ್ಪೇನ್ ಕ್ರೆಡಿಟ್ ಇಪಾಸ್ಟೇಟ್ಮೆಂಟ್ ನಲ್ಲಿ ಎರಡನೇ ಹಂತಕ್ಕೆ ಹಾಜರಾಗುವ ಅಟಲಾಂಟಾ ಅಭಿಮಾನಿಗಳನ್ನು ತಡೆಯಲು ವೇಲೆನ್ಸಿಯಾ ಚಿಂತಿಸುತ್ತಿದೆ ನೊರೀನ್ ಬರ್ಕ್ ಅವರಿಂದ ಇನ್ವೆಸ್ಟಿಂಗ್ ಕಾಮ್ ಗುರುವಾರ ಪಾಯಿಂಟ್ ಗಳಿಗಿಂತಲೂ ಹೆಚ್ಚು ಕುಸಿದಿದೆ ಮತ್ತು ಹೊಸ ದಾಖಲೆಯ ಕನಿಷ್ಠ ಮಟ್ಟವನ್ನು ಮುಟ್ಟಿತು ಏಕೆಂದರೆ ಚೀನಾದೊಳಗಿನ ಹೊಸ ಕೊರೊನಾವೈರಸ್ ಪ್ರಕರಣಗಳು ಬೇರೆಡೆ ಹೊಸ ಪ್ರಕರಣಗಳಿಂದ ಹೊರಬಂದವು ಪ್ರಪಂಚದಾದ್ಯಂತ ಸಾಂಕ್ರಾಮಿಕ ರೋಗ ಹರಡುವುದನ್ನು ಎತ್ತಿ ತೋರಿಸುತ್ತದೆ ವರ್ಷಗಳ ಸಾಲಕ್ಕೆ ಬೆಲೆ ಏರಿಕೆ ಕ್ಕಿಂತ ಕಡಿಮೆಯಾದಾಗ ಮತ್ತು ಇಳುವರಿ ರೇಖೆಯು ಹಿಂಜರಿತದ ಎಚ್ಚರಿಕೆಗಳನ್ನು ಕಳುಹಿಸುತ್ತಲೇ ಇತ್ತು ವೇಗವಾಗಿ ಹರಡುವ ವೈರಸ್ ನಿಂದ ಜಾಗತಿಕ ಆರ್ಥಿಕ ಬೆಳವಣಿಗೆಗೆ ತುತ್ತಾಗುತ್ತಿರುವ ಆತಂಕಗಳು ಜಾಗತಿಕ ಷೇರು ಮಾರುಕಟ್ಟೆಗಳಲ್ಲಿ ಗುರುವಾರ ತಮ್ಮ ಮೌಲ್ಯ ಕುಸಿತವನ್ನು ಹೆಚ್ಚಿಸುತ್ತಿವೆ ಈ ವಾರದಲ್ಲಿ ಕೇವಲ ಟ್ರಿಲಿಯನ್ಗಿಂತ ಹೆಚ್ಚು ಹೂಡಿಕೆದಾರರು ನಿಮ್ಮ ಅಧ್ಯಕ್ಷರಾದ ಡೊನಾಲ್ಡ್ ಟ್ರಂಪ್ ನಿಮ್ಮನ್ನು ಶಾಂತಗೊಳಿಸುವ ಪ್ರಯತ್ನವನ್ನು ಕೈಬಿಟ್ಟರು ವೈರಸ್ನಿಂದ ಅಪಾಯವು ತುಂಬಾ ಕಡಿಮೆಯಾಗಿದೆ ಮತ್ತು ಬೆದರಿಕೆಯನ್ನು ಎದುರಿಸಲು ನೀವು ತುಂಬಾ ಸಿದ್ಧರಿದ್ದೀರಿ ಎಂದು ಹೇಳಿದ ಎಸ್ ಸ್ಟಾಕ್ ಮಾರುಕಟ್ಟೆಗಳು ನೀವು ಎಸ್ ಖಜಾನೆ ಇಳುವರಿಯನ್ನು ಹೆಚ್ಚಿಸಿದರೂ ನ್ಸ್ ಕ್ಕೆ ಸಿಂಗಾಪುರ ಫೆಬ್ರವರಿ ರ ಬುಧವಾರದಂದು ಇಲ್ಲಿರುವ ಎಲ್ಲಾ ಮನೆಗಳಲ್ಲಿ ಮೂರನೇ ಎರಡರಷ್ಟು ಜನರು ತಮ್ಮ ಉಚಿತ ಮುಖವಾಡಗಳನ್ನು ಸಂಗ್ರಹಿಸಿದ್ದಾರೆ ಎಂದು ಪೀಪಲ್ಸ್ ಅಸೋಸಿಯೇಷನ್ ಪಿಎ ಗುರುವಾರ ಹೇಳಿಕೆಯಲ್ಲಿ ಮುಖವಾಡ ಸಂಗ್ರಹ ಅವಧಿಯನ್ನು ಫೆಬ್ರವರಿ ರಿಂದ ಶನಿವಾರ ಫೆಬ್ರವರಿ ರವರೆಗೆ ವಿಸ್ತರಿಸಿದ ನಂತರ ಈ ನವೀಕರಣವು ಬಂದಿದೆ ಎಂದು ಹೇಳಿದರು ಸರ್ಕಾರವು ಪ್ರತಿ ಮನೆಗೆ ನಾಲ್ಕು ಸಮುದಾಯಗಳ ಮುಖವಾಡಗಳನ್ನು ವಿವಿಧ ಸಮುದಾಯ ಕೇಂದ್ರಗಳಲ್ಲಿ ಸಂಗ್ರಹಿಸಲು ಲಭ್ಯವಾಯಿತು ಮತ್ತು ನಿವಾಸಿಗಳ ಸಮಿತಿ ಕೇಂದ್ರಗಳು ದ್ವೀಪವ್ಯಾಪಿ ಪಿಎ ಗುರುವಾರ ಮುಖವಾಡ ವಿತರಣೆಗೆ ಸಹಕರಿಸಿದ ಸ್ವಯಂಸೇವಕರಿಗೆ ಧನ್ಯವಾದಗಳನ್ನು ಅರ್ಪಿಸಿದೆ ನಿವಾಸಿಗಳು ಜಾಗರೂಕರಾಗಿದ್ದರು ಮತ್ತು ಮುಖವಾಡಗಳನ್ನು ಮಾತ್ರ ಸಂಗ್ರಹಿಸಿದರೆ ಮಾತ್ರ ಅವರ ಕುಟುಂಬಕ್ಕೆ ಅವರಿಗೆ ಅಗತ್ಯವಿತ್ತು ನಮ್ಮ ಆರೋಗ್ಯ ಸಂಸ್ಥೆಗಳು ಮತ್ತು ಅಗತ್ಯವಿರುವವರಿಗೆ ಸರಬರಾಜು ಮಾಡಲು ಅವಕಾಶವಿದೆ ಎಂದು ಖಚಿತಪಡಿಸಿಕೊಳ್ಳಲು ಉಳಿದ ಮುಖವಾಡಗಳನ್ನು ರಾಷ್ಟ್ರೀಯ ದಾಸ್ತಾನುಗಳಿಗೆ ಹಿಂತಿರುಗಿಸಲಾಗುತ್ತದೆ ಮುಖವಾಡಗಳು ಅಗತ್ಯವಿರುವ ಮತ್ತು ಅವುಗಳನ್ನು ಸಂಗ್ರಹಿಸದವರಿಗೆ ಸಹ ಅವರು ಶನಿವಾರದವರೆಗೆ ಹಾಗೆ ಮಾಡಬಹುದು ಎಂದು ನೆನಪಿಸಲಾಯಿತು ಭಾರತೀಯ ವಾಯುಪಡೆಯ ಸಿ ಗ್ಲೋಬ್ ಮಾಸ್ಟರ್ ವಿಮಾನದಿಂದ ಮಾರಣಾಂತಿಕ ಕರೋನವೈರಸ್ ಏಕಾಏಕಿ ಉಂಟಾದ ವುಹಾನ್ ಕೇಂದ್ರಬಿಂದುವಿನಿಂದ ಗುರುವಾರ ದೆಹಲಿಗೆ ವಿಮಾನದಲ್ಲಿ ಸಾಗಿಸಲ್ಪಟ್ಟ ಜನರನ್ನು ರಾಜಧಾನಿಯ ಚಾವ್ಲಾದಲ್ಲಿರುವ ಇಂಡೋ ಟಿಬೆಟಿಯನ್ ಬಾರ್ಡರ್ ಪೋಲಿಸ್ ಕ್ಯಾರೆಂಟೈನ್ ಸೌಲಭ್ಯದಲ್ಲಿ ನಿರ್ಬಂಧಿಸಲಾಗಿದೆ ಸಿ ಗ್ಲೋಬ್ ಮಾಸ್ಟರ್ ವಿಮಾನ ಭಾರತೀಯ ವಾಯುಪಡೆಯ ಐಎಎಫ್ ಗುರುವಾರ ಬೆಳಿಗ್ಗೆ ಚೀನಾದಿಂದ ವಿದೇಶಿ ಪ್ರಜೆಗಳು ಸೇರಿದಂತೆ ಸ್ಥಳಾಂತರಗೊಂಡಿದೆ ವಿದೇಶಿ ಪ್ರಜೆಗಳಲ್ಲಿ ಬಾಂಗ್ಲಾದೇಶದ ಪ್ರಜೆಗಳು ಚೀನಾದಿಂದ ತಲಾ ಮ್ಯಾನ್ಮಾರ್ ಮತ್ತು ಮಾಲ್ಡೀವ್ಸ್ ಮತ್ತು ದಕ್ಷಿಣ ಆಫ್ರಿಕಾ ಯುಎಸ್ಎ ಮತ್ತು ಮಡಗಾಸ್ಕರ್ ನಿಂದ ತಲಾ ಒಬ್ಬರು ಸೇರಿದ್ದಾರೆ ಬುಧವಾರ ನಡೆದ ಕಾದಂಬರಿ ಕೊರೊನಾವೈರಸ್ ಏಕಾಏಕಿ ಕೇಂದ್ರಬಿಂದುವಾಗಿರುವ ವುಹಾನ್ ಕೆಲವು ವಾರಗಳ ಹಿಂದೆ ಚೀನಾದಿಂದ ತನ್ನ ಪ್ರಜೆಗಳು ಸೇರಿದಂತೆ ನೂರಾರು ಜನರನ್ನು ಚೀನಾದಿಂದ ಸ್ಥಳಾಂತರಿಸಿದ್ದಾರೆ ಆದ್ದರಿಂದ ಪ್ರತಿ ಬಾರಿಯೂ ಷೇರುಗಳು ಬಾಂಡ್ ಗಳನ್ನು ಹೆಚ್ಚಿಸಿದಾಗ ಮತ್ತು ತದ್ವಿರುದ್ದವಾಗಿ ಅಕಾಡೆಮಿ ಸೆಕ್ಯುರಿಟೀಸ್ ಪೀಟರ್ ಟಿಚಿರ್ ಯಾಹೂ ಫೈನಾನ್ಸ್ ನ ಅಂತಿಮ ಸುತ್ತಿನಲ್ಲಿ ಹೇಳಿದರು ಸಾಮಾನ್ಯವಾಗಿ ಹಣಕಾಸು ಮಾರುಕಟ್ಟೆಗಳ ವ್ಯಾಪಾರಸ್ಥರು ಮತ್ತು ಹೂಡಿಕೆದಾರರಲ್ಲಿ ಅನಿಶ್ಚಿತತೆಯ ಏರಿಕೆಗಳು ಷೇರುಗಳಂತಹ ಅಪಾಯಕಾರಿ ಸ್ವತ್ತುಗಳಿಂದ ಮತ್ತು ಬಾಂಡ್ ಗಳಂತಹ ಸುರಕ್ಷಿತ ಧಾಮ ಸ್ವತ್ತುಗಳಾಗಿ ತಿರುಗುತ್ತವೆ ಬಹುಶಃ ಚಿನ್ನದ ಟ್ಚಿರ್ ಬರೆದಿದ್ದಾರೆ ಮಾರುಕಟ್ಟೆಯಲ್ಲಿ ಭಾಗವಹಿಸುವವರಿಗೆ ಪರಸ್ಪರ ಸಂಬಂಧಗಳಲ್ಲಿನ ಬದಲಾವಣೆಗಳ ಬಗ್ಗೆ ಅಸ್ಥಿರತೆ ಹೆಚ್ಚಾಗಿದ್ದರೆ ಹೆಚ್ಚು ನಿಗೂ ವಾದವು ಹೆಚ್ಚು ಅಪಾಯಕಾರಿ ಪರಸ್ಪರ ಸಂಬಂಧದಲ್ಲಿನ ಬದಲಾವಣೆಗಳು ಪೋರ್ಟ್ಫೋಲಿಯೋ ಮಟ್ಟದ ಚಂಚಲತೆಯನ್ನು ಹೆಚ್ಚು ನಾಟಕೀಯವಾಗಿ ಪರಿಣಾಮ ಬೀರಬಹುದು ಆಸ್ತಿ ತರಗತಿಗಳಲ್ಲಿನ ಚಂಚಲತೆಯ ಸರಳ ಹೆಚ್ಚಳಕ್ಕಿಂತ ಇದು ನಾಟಕೀಯವಾಗಿದೆ ಆದರೆ ಇದು ಮುಖ್ಯವಾಗಿದೆ ಸರಕು ಮತ್ತು ಸೇವೆಗಳ ಪೂರೈಕೆ ಮತ್ತು ಬೇಡಿಕೆಯಂತಹ ಮೂಲಭೂತ ವಿಷಯಗಳಿಗೆ ಸಂಬಂಧಿಸಿದಂತೆ ವಿವೇಚನೆಯಿಲ್ಲದೆ ಸ್ವತ್ತುಗಳನ್ನು ಡಂಪ್ ಮಾಡುವುದರಿಂದ ಪ್ಯಾನಿಕ್ ಮಾರಾಟವು ನಿರೂಪಿಸಲ್ಪಡುತ್ತದೆ ಆದರೆ ಕರೋನವೈರಸ್ ಹರಡುವಿಕೆಯು ಗ್ರಾಹಕರ ಮೇಲೆ ಪರಿಣಾಮ ಬೀರುವುದರಿಂದ ವಿಶ್ವ ಮಾರುಕಟ್ಟೆಗಳಲ್ಲಿ ಏನಾಗುತ್ತಿದೆ ಎಂಬುದನ್ನು ಸಮರ್ಥಿಸಲು ನೈಜವಾದ ಏನಾದರೂ ಇರಬಹುದು ಎಂದು ಟ್ಚಿರ್ ಹೇಳುತ್ತಾರೆ ನಡವಳಿಕೆ ಕರೋನವೈರಸ್ ಏಕಾಏಕಿ ಆತಂಕಗಳನ್ನು ಹಿಸಲು ಅಧ್ಯಕ್ಷ ಡೊನಾಲ್ಡ್ ಟ್ರಂಪ್ ಪ್ರಯತ್ನಿಸಿದ ನಂತರವೂ ಗುರುವಾರ ಬೆಳಿಗ್ಗೆ ನೀವು ಎಸ್ ಸ್ಟಾಕ್ ಫ್ಯೂಚರ್ಸ್ ಕುಸಿತವನ್ನು ತೋರಿಸಿದೆ ಉತ್ತರ ಕ್ಯಾಲಿಫೋರ್ನಿಯಾದ ಅಜ್ಞಾತ ಮೂಲದ ಮೊದಲ ನೀವು ಎಸ್ ಕರೋನವೈರಸ್ ಪ್ರಕರಣವನ್ನು ಸಿಡಿಸಿ ದೃ ಪಡಿಸಿದ ನಂತರ ಸಮುದಾಯದ ಹರಡುವಿಕೆಯನ್ನು ಸೂಚಿಸುತ್ತದೆ ಕಾಯಿಲೆಯ ಆದರೆ ಟ್ರಂಪ್ ಮಾತನಾಡುವಾಗ ಕರೋನವೈರಸ್ ಪ್ರಕರಣವು ಸ್ಟಾಕ್ ಫ್ಯೂಚರ್ ಗಳನ್ನು ಹೊಡೆಯುವ ವೇಗದಲ್ಲಿ ಹರಡುತ್ತಿದೆ ಎಂಬ ಕಳವಳವನ್ನು ಹೆಚ್ಚಿಸಿದೆ ಕರೋನವೈರಸ್ ಕಾರ್ಪೊರೇಟ್ ಲಾಭದ ಮೇಲೆ ಹೇಗೆ ಪರಿಣಾಮ ಬೀರುತ್ತದೆ ಮತ್ತು ಜಾಗತಿಕ ಆರ್ಥಿಕ ಬೆಳವಣಿಗೆಯು ನಿಮ್ಮ ಎಸ್ ಸ್ಟಾಕ್ ಮಾರುಕಟ್ಟೆಯನ್ನು ರೋಲ್ ಮಾಡಿದೆ ಈ ವಾರ ದೃ ಪಡಿಸಿದ ಪ್ರಕರಣಗಳ ಸಂಖ್ಯೆಯು ಟ್ರಂಪ್ ರ ಕಾಮೆಂಟ್ ಗಳನ್ನು ಹೆಚ್ಚಿಸುತ್ತದೆ ಮತ್ತು ಮೈಕ್ರೋಸಾಫ್ಟ್ ನ ಎಚ್ಚರಿಕೆ ಬುಧವಾರ ಡೌ ಪಾಯಿಂಟ್ ಗಳಿಗಿಂತಲೂ ಹೆಚ್ಚು ಕುಸಿದ ನಂತರ ಈ ವಾರದಲ್ಲಿ ಭಾರಿ ಕುಸಿತವನ್ನು ಹೆಚ್ಚಿಸಿದೆ ಇಲ್ಲಿ ಸೈನ್ ಅಪ್ ಮಾಡಿ ಕರೋನವೈರಸ್ ಕೆ ಕೊರೊನವೈರಸ್ ಭಯದಿಂದ ಉಂಟಾಗುವ ಬಂಪಿ ಸ್ಟ್ರೆಚ್ ನಂತಹ ಬಾಷ್ಪಶೀಲ ಅವಧಿಗಳಲ್ಲಿ ನಿಮ್ಮ ಹೂಡಿಕೆಗಳನ್ನು ರಕ್ಷಿಸಲು ಸಹಾಯ ಮಾಡಬಹುದೆಂದು ತಜ್ಞರು ಹೇಳುವ ನಾಲ್ಕು ಚಲನೆಗಳು ಇಲ್ಲಿವೆ ನೀವು ಎಲ್ಲಿ ಹೂಡಿಕೆ ಮಾಡಿದ್ದೀರಿ ಮತ್ತು ಯಾವ ಕಂಪನಿಗಳು ಹೆಚ್ಚು ಸಾಧ್ಯತೆಗಳಿವೆ ಎಂಬುದರ ಬಗ್ಗೆ ಗಮನ ಕೊಡಿ ಪೋರ್ಟ್ಫೋಲಿಯೋ ವ್ಯವಸ್ಥಾಪಕರು ಪರಿಣಾಮ ಬೀರುತ್ತಾರೆ ಎಂದು ಸೌತ್ಫೀಲ್ಡ್ ಮಿಚಿಗನ್ ಮೂಲದ ಕಾರ್ನರ್ ಸ್ಟೋನ್ ಫೈನಾನ್ಷಿಯಲ್ ಸರ್ವಿಸಸ್ನ ವ್ಯವಸ್ಥಾಪಕ ಪಾಲುದಾರ ಡೇನಿಯಲ್ ಮಿಲನ್ ಹೇಳುತ್ತಾರೆ ಸ್ಟಾಕ್ ಮಾರುಕಟ್ಟೆಯಲ್ಲಿ ವೈರಸ್ ಏಕಾಏಕಿ ಉಂಟಾಗುವ ಪರಿಣಾಮಗಳು ಅಲ್ಪಕಾಲಿಕವಾಗಿರುತ್ತವೆ ಮತ್ತು ಭಯವು ನಿಮ್ಮನ್ನು ಹೂಡಿಕೆ ನಿರ್ಧಾರಗಳಿಗೆ ಚಾಲನೆ ನೀಡದಂತೆ ಎಚ್ಚರಿಕೆ ನೀಡಿದೆ ಷೇರು ಮಾರುಕಟ್ಟೆಯಲ್ಲಿ ಭಾವನಾತ್ಮಕ ನಿರ್ಧಾರಗಳನ್ನು ತೆಗೆದುಕೊಳ್ಳಿ ಅದು ದೀರ್ಘಾವಧಿಯವರೆಗೆ ನಿಮಗೆ ಸೂಕ್ತವಾಗಿ ಹಂಚಿಕೆಯಾಗಿಲ್ಲ ಎಂಬ ಸಂಕೇತವಾಗಿದೆ ಹೂಡಿಕೆದಾರರು ತಮ್ಮ ಬಂಡವಾಳವನ್ನು ಷೇರುಗಳ ಬಾಂಡ್ ಗಳು ಮತ್ತು ಇತರ ಸ್ವತ್ತುಗಳ ನಡುವೆ ಹೇಗೆ ವಿಭಜಿಸಲು ಆಯ್ಕೆ ಮಾಡಿಕೊಂಡರು ಎಂಬುದನ್ನು ಉಲ್ಲೇಖಿಸಿ ಮಿಲನ್ ಪ್ರಯಾಣದಲ್ಲಿ ಏಷ್ಯನ್ ಷೇರುಗಳಿಗೆ ನಿಮ್ಮ ಒಡ್ಡುವಿಕೆಯನ್ನು ಕಡಿಮೆ ಮಾಡಲು ಸೂಚಿಸುತ್ತದೆ ಮತ್ತು ಚಿಲ್ಲರೆ ಉದ್ಯಮಗಳು ಶು ಕಾರಣದಿಂದಾಗಿ ಆದಾಯದ ಬೆಳವಣಿಗೆಯಲ್ಲಿ ಮಂದಗತಿಯನ್ನು ಕಾಣಬಹುದು ಸರಬರಾಜು ಸಮಸ್ಯೆಗಳು ಮತ್ತು ಗ್ರಾಹಕರ ಖರ್ಚಿನಲ್ಲಿನ ಕುಸಿತವು ಚೀನಾದ ಆರ್ಥಿಕತೆಗೆ ಹೆಚ್ಚಿನ ಮಾನ್ಯತೆ ಹೊಂದಿರುವ ಎಸ್ ಆಧಾರಿತ ಬಹುರಾಷ್ಟ್ರೀಯ ಕಂಪನಿಗಳು ವೈರಸ್ ನಿಂದ ಉತ್ಪಾದನಾ ವಿಳಂಬವನ್ನು ಎದುರಿಸುತ್ತಿವೆ ಉತ್ಪಾದನಾ ಆಟೋಮೋಟಿವ್ ಏರ್ ಲೈನ್ಸ್ ಮತ್ತು ತಂತ್ರಜ್ಞಾನ ಗೋಲ್ಡ್ಮನ್ ಸ್ಯಾಚ್ಸ್ ಗುರುವಾರ ಟಿಪ್ಪಣಿಯಲ್ಲಿ ನೀವು ಎಸ್ ಕಂಪನಿಗಳು ರಲ್ಲಿ ಯಾವುದೇ ಗಳಿಕೆಯ ಬೆಳವಣಿಗೆಯನ್ನು ಗಳಿಸುವುದಿಲ್ಲ ಎಂದು ಕ್ಕೆ ಗೋಲ್ಡ್ಮನ್ ತನ್ನ ಎಸ್ಪಿ ಗಳಿಕೆಯ ಅಂದಾಜನ್ನು ರಷ್ಟು ಕಡಿತಗೊಳಿಸಿದೆ ಮತ್ತು ಯಾವುದೇ ಗಳಿಕೆಯ ಬೆಳವಣಿಗೆಯನ್ನು ನಿರೀಕ್ಷಿಸುವುದಿಲ್ಲ ರಲ್ಲಿ ನೋಡುತ್ತಿರುವಾಗ ಗೋಲ್ಡ್ಮನ್ ಈಗ ಎಸ್ಪಿ ಗಳಿಕೆಗಳಲ್ಲಿ ಕಡಿಮೆ ಮತ್ತು ಸಾಧಾರಣ ಅನ್ನು ನೋಡುತ್ತಾನೆ ಬೆಳವಣಿಗೆಯ ದರ ನಮ್ಮ ಕಡಿಮೆ ಲಾಭದ ಮುನ್ಸೂಚನೆಗಳು ಚೀನಾದ ಆರ್ಥಿಕ ಚಟುವಟಿಕೆಯ ತೀವ್ರ ಕುಸಿತವನ್ನು ಕ್ಯೂ ಲೋವರ್ ಎಂಡ್ ಬೇಡಿಕೆಯಲ್ಲಿ ಪ್ರತಿಬಿಂಬಿಸುತ್ತದೆ ಯುಎಸ್ ರಫ್ತುದಾರರಿಗೆ ಅನೇಕ ಯುಎಸ್ ಸಂಸ್ಥೆಗಳಿಗೆ ಪೂರೈಕೆ ಸರಪಳಿಗೆ ಅಡ್ಡಿಪಡಿಸುವುದು ಯುಎಸ್ ಆರ್ಥಿಕ ಚಟುವಟಿಕೆಯಲ್ಲಿನ ಕುಸಿತ ಮತ್ತು ಉನ್ನತ ವ್ಯವಹಾರ ಅನಿಶ್ಚಿತತೆಯು ಗೋಲ್ಡ್ಮನ್ ತಂತ್ರಜ್ಞ ಡೇವಿಡ್ ಕೋಸ್ಟಿನ್ ಬ್ರಿಯಾನ್ ಸೊ ಿ ಬರೆದಿದ್ದಾರೆ ಯಾಹೂ ಫೈನಾನ್ಸ್ ನಲ್ಲಿ ದಿ ಫಸ್ಟ್ ಟ್ರೇಡ್ ನ ದೊಡ್ಡ ಮತ್ತು ಸಹ ನಿರೂಪಕ ಸಂಪಾದಕ ಮಾರಣಾಂತಿಕ ವೈರಸ್ ಸೋಂಕಿತ ಕ್ರೂಸ್ ಹಡಗಿನಲ್ಲಿ ಪ್ರಯಾಣಿಸುತ್ತಿದ್ದ ಚೀನಾದ ನಗರವಾದ ವುಹಾನ್ ಮತ್ತು ಟೋಕಿಯೊದಿಂದ ಜನರ ಗುಂಪನ್ನು ಭಾರತ ಗುರುವಾರ ವಾಪಸ್ ಕರೆತಂದಿದೆ ಭಾರತೀಯ ವಾಯುಪಡೆಯ ಎಸಿ ಗ್ಲೋಬ್ ಮಾಸ್ಟರ್ ಸಾರಿಗೆ ವಿಮಾನವು ಭಾರತೀಯರನ್ನು ಮತ್ತು ವಿದೇಶಿಗಳನ್ನು ಸ್ಥಳಾಂತರಿಸಿದೆ ವುಹಾನ್ ನ ಪ್ರಜೆಗಳು ಟೋಕಿಯೊದಿಂದ ಜನರ ಗುಂಪನ್ನು ವಾಪಸ್ ಕರೆತಂದರು ಭಾರತದ ನೆರೆಹೊರೆಯ ಮೊದಲ ನೀತಿ ಮತ್ತು ಇಂಡೋ ಪೆಸಿಫಿಕ್ ದೃಷ್ಟಿಗೆ ಅನುಗುಣವಾಗಿ ವಿಶೇಷ ವಿಮಾನವು ಐದು ವಿದೇಶಿ ಪ್ರಜೆಗಳನ್ನು ಸ್ಥಳಾಂತರಿಸಿತು ಇಬ್ಬರು ಶ್ರೀಲಂಕನ್ನರು ಒಂದು ನೇಪಾಳಿ ಒಬ್ಬರು ದಕ್ಷಿಣ ಆಫ್ರಿಕಾದವರು ಮತ್ತು ಒಬ್ಬ ಪೆರುವಿಯನ್ ವಿದೇಶಾಂಗ ವ್ಯವಹಾರಗಳ ಸಚಿವಾಲಯ ಭಾರತವು ಬುಧವಾರ ಸಿ ಗ್ಲೋಬ್ ಮಾಸ್ಟರ್ ಅನ್ನು ವುಹಾನ್ ಗೆ ಕಳುಹಿಸಿದೆ ಮತ್ತು ಇದು ಕರೋನವೈರಸ್ ಪೀಡಿತ ಜನರಿಗೆ ಟನ್ ವೈದ್ಯಕೀಯ ಸಾಮಗ್ರಿಗಳನ್ನು ಕೊಂಡೊಯ್ಯಿತು ಹಿಂದಿರುಗಿದ ನಂತರ ವಿಮಾನವು ಜನರನ್ನು ವಾಪಸ್ ಕರೆತಂದಿತು ಬಾಂಗ್ಲಾದೇಶದ ನಾಗರಿಕರು ಸೇರಿದಂತೆ ಆರು ಮಂದಿ ಚೀನಾದಿಂದ ಆರು ಮಂದಿ ಮ್ಯಾನ್ಮಾರ್ ಮತ್ತು ಮಾಲ್ಡೀವ್ಸ್ ಮತ್ತು ತಲಾ ಒಬ್ಬರು ದಕ್ಷಿಣ ಆಫ್ರಿಕಾದಿಂದ ಯುಎಸ್ ಮತ್ತು ಮಡಗಾಸ್ಕರ್ ಎಲ್ಲಾ ಭಾರತೀಯ ಪ್ರಜೆಗಳು ಮತ್ತು ವಿದೇಶಿ ಪ್ರಜೆಗಳನ್ನು ಸ್ಥಳಾಂತರಿಸಲಾಗಿದೆ ವುಹಾನ್ ಈ ಮೂರು ವಿಮಾನಗಳಲ್ಲಿ ವಿದೇಶಾಂಗ ಸಚಿವಾಲಯ ಎಂಇಎ ತಿಳಿಸಿದೆ ಇತ್ತೀಚಿನ ಹಣಕಾಸು ಮಾರುಕಟ್ಟೆ ಪ್ರಕ್ಷುಬ್ಧತೆಯು ಕೇವಲ ನಾಲ್ಕು ವಹಿವಾಟು ಅವಧಿಗಳಲ್ಲಿ ಎಸ್ ಪಿ ಇತ್ತೀಚಿನ ಗರಿಷ್ಠಕ್ಕಿಂತ ಕ್ಕಿಂತಲೂ ಹೆಚ್ಚು ಕುಸಿದಿದೆ ಮತ್ತು ವರ್ಷಗಳ ಖಜಾನೆ ಇಳುವರಿ ದಾಖಲೆಯ ಕನಿಷ್ಠ ಮಟ್ಟವನ್ನು ಮುಟ್ಟಿದೆ ಮಾರ್ಚ್ ರ ಪ್ರಕಟಣೆಯಲ್ಲಿ ಫೆಡ್ ದರಗಳನ್ನು ಕಡಿತಗೊಳಿಸಲು ಒತ್ತಾಯಿಸಬಹುದೆಂದು ಹಾಪೋಹಗಳಿಗೆ ಕಾರಣವಾಗಿದೆ ಕುರ್ಚಿ ರಿಚರ್ಡ್ ಕ್ಲಾರಿಡಾ ಮಂಗಳವಾರ ಕೊರೋನವೈರಸ್ ಸಂಬಂಧಿತ ಪರಿಣಾಮಗಳ ಗಾತ್ರ ಅಥವಾ ನಿರಂತರತೆಯ ಬಗ್ಗೆ ಹಿಸಲು ಇನ್ನೂ ಬೇಗನೆ ಇದೆ ಅಥವಾ ಪ್ಯಾಂಥಿಯಾನ್ ಮ್ಯಾಕ್ರೋ ಎಕನಾಮಿಕ್ಸ್ನಲ್ಲಿ ಇಯಾನ್ ಶೆಫರ್ಡ್ಸನ್ ದೃಷ್ಟಿಕೋನದಲ್ಲಿ ವಸ್ತು ಬದಲಾವಣೆಗೆ ಕಾರಣವಾಗುತ್ತದೆಯೇ ಎಂದು ಕ್ಲಾರಿಡಾ ಅವರ ಕಾಮೆಂಟ್ಗಳು ಬುಧವಾರ ಹೇಳಿದ್ದಾರೆ ಕೊರೊನಾವೈರಸ್ ಭಯಕ್ಕೆ ಬಂದಾಗ ಕುರ್ಚಿಯ ಧ್ವನಿ ಸಮಂಜಸವಾಗಿದೆ ಎಂದು ಜೆಫರೀಸ್ ನಲ್ಲಿ ಡೇವಿಡ್ ೆರ್ವೋಸ್ ಹೇಳಿದ್ದಾರೆ ಕ್ಲಾರಿಡಾ ಅವರ ಕಾಮೆಂಟ್ ಗಳು ಇಲ್ಲಿ ನೀತಿ ದೋಷಕ್ಕೆ ಖಂಡಿತವಾಗಿಯೂ ಸ್ವಲ್ಪ ಅವಕಾಶವಿದೆ ಎಂದು ತೋರುತ್ತದೆ ಮತ್ತು ಫೆಡ್ ತನ್ನ ಪಾದಗಳನ್ನು ಎಳೆಯುವುದನ್ನು ಮುಂದುವರಿಸಿದರೆ ಕುರುಡಾಗಿ ಅದ್ದು ಕೊಳ್ಳುವುದರಿಂದ ಹೂಡಿಕೆದಾರರು ಸುಟ್ಟುಹೋಗಬಹುದು ಎಂದು ಎಚ್ಚರಿಸಿದ್ದಾರೆ ಆದರೆ ಮಾರ್ಚ್ ರ ಬಿಡುಗಡೆಯು ಉತ್ಪಾದಕದಲ್ಲಿನ ಸಂಭಾವ್ಯ ಪೂರೈಕೆ ಸರಪಳಿ ಅಡೆತಡೆಗಳ ಬಗ್ಗೆ ಹೆಚ್ಚಿನ ಪುರಾವೆಗಳನ್ನು ನೋಡಲು ತುಂಬಾ ಮುಂಚೆಯೇ ಇರುತ್ತದೆ ಮಾರ್ಚ್ನಲ್ಲಿ ದರ ಕಡಿತಕ್ಕಾಗಿ ವಾದಗಳನ್ನು ಬ್ಯಾಕಪ್ ಮಾಡಲು ಫೆಡ್ ಬಹುಶಃ ಕಡಿಮೆ ಆರ್ಥಿಕ ಡೇಟಾವನ್ನು ಹೊಂದಿರಬಹುದು ಎಂದು ಸೂಚಿಸುತ್ತದೆ ಎಂದು ಸೆಕ್ಟರ್ ಬ್ರೈಸನ್ ಸೇರಿಸುತ್ತಾರೆ ಲಂಡನ್ ರಾಯಿಟರ್ಸ್ ತೈಲ ಬೆಲೆಗಳು ಗುರುವಾರ ಕ್ಕೆ ಇಳಿದಿದ್ದು ರ ಜನವರಿಯಿಂದ ಐದನೇ ದಿನಕ್ಕೆ ಇಳಿದಿದೆ ಚೀನಾದ ಹೊರಗಿನ ಹೊಸ ಕರೋನವೈರಸ್ ಪ್ರಕರಣಗಳ ಏರಿಕೆಯು ಜಾಗತಿಕ ಆರ್ಥಿಕತೆಯನ್ನು ನಿಧಾನಗೊಳಿಸಬಲ್ಲ ಸಾಂಕ್ರಾಮಿಕ ರೋಗದ ಭಯವನ್ನು ಹೆಚ್ಚಿಸಿದೆ ಮತ್ತು ಕಚ್ಚಾ ಕನ್ಸಲ್ಟೆಂಟ್ಸ್ ಫ್ಯಾಕ್ಟ್ಸ್ ಗ್ಲೋಬಲ್ ಎನರ್ಜಿ ಮುನ್ಸೂಚನೆ ರಲ್ಲಿ ತೈಲ ಬೇಡಿಕೆ ದಿನಕ್ಕೆ ಬ್ಯಾರೆಲ್ ಗಳಷ್ಟು ಹೆಚ್ಚಾಗುತ್ತದೆ ಇದು ಏಕಾಏಕಿ ಕಾರಣ ಪ್ರಾಯೋಗಿಕವಾಗಿ ಶೂನ್ಯ ಎಂದು ಕರೆಯಲ್ಪಡುತ್ತದೆ ವಿಶ್ವ ಆರೋಗ್ಯ ಸಂಸ್ಥೆಯಿಂದ ಕೊರೊನಾವೈರಸ್ ಅನ್ನು ಸಾಂಕ್ರಾಮಿಕ ಎಂದು ಘೋಷಿಸಿದರೆ ಸನ್ನಿಹಿತವಾಗಿ ಕಾಣುವಂತಹ ಣಾತ್ಮಕ ಬೆಲೆ ಪರಿಣಾಮ ತೀವ್ರಗೊಳ್ಳುತ್ತದೆ ಎಂದು ಪಿವಿಎಂ ಆಯಿಲ್ ಅಸೋಸಿಯೇಟ್ಸ್ ವಿಶ್ಲೇಷಕ ತಮಾಸ್ ವರ್ಗಾ ನೀವು ಎಸ್ ಕಚ್ಚಾ ತೈಲ ದಾಸ್ತಾನುಗಳು ಬ್ಯಾರೆಲ್ ಗಳಿಂದ ಮಿಲಿಯನ್ ಬ್ಯಾರೆಲ್ ಗಳಿಗೆ ಏರಿದೆ ಎಂದು ಇಐಎ ಹೇಳಿದೆ ಇದು ಮಿಲಿಯನ್ ಬ್ಯಾರೆಲ್ ಏರಿಕೆ ವಿಶ್ಲೇಷಕರು ತೈಲವು ಫ್ರೀಫಾಲ್ ನಲ್ಲಿದೆ ಎಂದು ನಿರೀಕ್ಷಿಸಿದ್ದರಿಂದ ಜಾಗತಿಕ ಕ್ಯಾರೆಂಟೈನ್ ಪ್ರಯತ್ನಗಳ ಪ್ರಮಾಣವು ಮುಂದಿನ ಎರಡು ತ್ರೈಮಾಸಿಕಗಳಿಗೆ ತೀವ್ರ ಬೇಡಿಕೆಯ ನಾಶವನ್ನು ನೀಡುತ್ತದೆ ಒವಾಂಡಾದ ಹಿರಿಯ ಮಾರುಕಟ್ಟೆ ವಿಶ್ಲೇಷಕ ಎಡ್ವರ್ಡ್ ಮೊಯಾ ಹೇಳಿದರು ರಾಯಿಟರ್ಸ್ ಲೊರೆನ್ ಎಲಿಯಟ್ ರಾಯಿಟರ್ಸ್ ಮೊಬೈಲ್ ಫೋನ್ ಟ್ಯಾಬ್ಲೆಟ್ ಗಳು ಮತ್ತು ಹೆಡ್ ಫೋನ್ ಗಳ ಬಲವಾದ ಆನ್ ಲೈನ್ ಮಾರಾಟವು ಬೆಸ್ಟ್ ಬೈ ಕೋ ಇಂಕ್ ಬಿಬಿವೈ ಎನ್ ಪೋಸ್ಟ್ ಅನ್ನು ಗುರುವಾರ ನಿರೀಕ್ಷಿತ ತ್ರೈಮಾಸಿಕ ಲಾಭ ಮತ್ತು ಮಾರಾಟಕ್ಕಿಂತ ಉತ್ತಮವಾಗಿ ಸಹಾಯ ಮಾಡಿದೆ ಏಕೆಂದರೆ ಚಿಲ್ಲರೆ ವ್ಯಾಪಾರಿ ಇಟ್ಟಿಗೆ ಮತ್ತು ಗಾರೆ ಚಿಲ್ಲರೆ ವ್ಯಾಪಾರಿಗಳಿಗೆ ನಿರಾಶಾದಾಯಕ ರಜಾದಿನವನ್ನು ಮೀರಿದೆ ಗ್ರಾಹಕ ಎಲೆಕ್ಟ್ರಾನಿಕ್ಸ್ ಚಿಲ್ಲರೆ ವ್ಯಾಪಾರಿಗಳ ಷೇರುಗಳು ಏರಿತು ವರ್ಷದ ಮೊದಲಾರ್ಧದಲ್ಲಿ ಕೊರೊನಾವೈರಸ್ ಏಕಾಏಕಿ ಆರ್ಥಿಕ ಹಿಟ್ ತೆಗೆದುಕೊಳ್ಳಲಿದೆ ಎಂದು ಕಂಪನಿ ಹೇಳಿದಂತೆ ಪ್ರೀ ಮಾರ್ಕೆಟ್ ವಹಿವಾಟಿನಲ್ಲಿ ರಿಂದ ರವರೆಗೆ ಫಲಿತಾಂಶಗಳು ದುರ್ಬಲ ಮಾರಾಟವನ್ನು ವರದಿ ಮಾಡಿದ ದೊಡ್ಡ ಚಿಲ್ಲರೆ ಹೆಸರುಗಳ ಪಟ್ಟಿಯಲ್ಲಿ ಬೆಸ್ಟ್ ಬೈ ಒಂದು ಹೊರಗಿನವನು ಎಂದು ಫಲಿತಾಂಶಗಳು ತೋರಿಸುತ್ತವೆ ನಿರ್ಣಾಯಕ ರಜಾದಿನಗಳಲ್ಲಿ ಸಾಂಪ್ರದಾಯಿಕ ಇಟ್ಟಿಗೆ ಮತ್ತು ಗಾರೆ ವ್ಯವಹಾರಗಳು ಆನ್ ಲೈನ್ ನಲ್ಲಿ ಶಾಪಿಂಗ್ ಮಾಡಲು ಆಯ್ಕೆಮಾಡಿದ ಗ್ರಾಹಕರ ನೋವಿನಿಂದಾಗಿ ಬೆಸ್ಟ್ ಬೈನ ಒಟ್ಟಾರೆ ಅದೇ ಅಂಗಡಿ ಮಾರಾಟವು ಫೆಬ್ರವರಿ ಕ್ಕೆ ಕೊನೆಗೊಂಡ ನಾಲ್ಕನೇ ತ್ರೈಮಾಸಿಕದಲ್ಲಿ ಏರಿಕೆಯಾಗಿದೆ ವಿಶ್ಲೇಷಕರನ್ನು ಸೋಲಿಸಿ ಸರಾಸರಿ ಹೆಚ್ಚಳ ವಾಲ್ ಸ್ಟ್ರೀಟ್ ನ ನಿರೀಕ್ಷೆಯೊಂದಿಗೆ ಹೋಲಿಸಿದರೆ ರೆಫಿನಿಟಿವ್ ಬೆಸ್ಟ್ ಬೈ ಮುನ್ಸೂಚನೆ ಹಣಕಾಸಿನ ರ ಐಬಿಇಎಸ್ ಮಾಹಿತಿಯ ಪ್ರಕಾರ ಫ್ಲಾಟ್ ನ ಅದೇ ಅಂಗಡಿ ಮಾರಾಟದ ಬೆಳವಣಿಗೆ ಕ್ಕೆ ಹೆಚ್ಚಳದ ಅಯಾನುಗಳು ಈಗಾಗಲೇ ಅನುಮೋದಿತ ಷಧಗಳು ಹೊಸ ವೈರಸ್ ಗೆ ಚಿಕಿತ್ಸೆ ನೀಡುವಲ್ಲಿ ಪ್ರಮುಖವಾದುದು ಎಂದು ಸಾಂಕ್ರಾಮಿಕ ರೋಗಗಳ ಅಂತರರಾಷ್ಟ್ರೀಯ ಜರ್ನಲ್ ನಲ್ಲಿ ಪ್ರಕಟಿಸಲಾದ ಅಧ್ಯಯನದ ಪ್ರಕಾರ ಸಂಶೋಧಕರು ಈ ಮತ್ತು ಈಗಾಗಲೇ ಸುರಕ್ಷಿತವಾಗಿ ಪರೀಕ್ಷಿಸಲ್ಪಟ್ಟಿರುವ ಮ್ಯಾನ್ ಬ್ರಾಡ್ ಸ್ಪೆಕ್ಟ್ರಮ್ ಆಂಟಿವೈರಲ್ ಷಧಗಳು ರೋಗದ ಚಿಕಿತ್ಸೆಗೆ ಉತ್ತಮ ಅಭ್ಯರ್ಥಿಗಳು ಎಂದು ಹೇಳಿದರು ಹೊಸ ಕರೋನವೈರಸ್ಗೆ ಪ್ರಸ್ತುತ ಯಾವುದೇ ಚಿಕಿತ್ಸೆಗಳಿಲ್ಲ ಎಂದು ಪ್ರಾರಂಭಿಸಿ ವೈರಸ್ ರೋಗಗಳಿಗೆ ಪ್ರಾರಂಭಿಸಿದ ಅಥವಾ ವಿಫಲವಾದ ಷಧಿಗಳನ್ನು ಮರುಹೊಂದಿಸುವುದು ಹೊಸ ವೈರಸ್ ನಿರ್ದಿಷ್ಟ ಷಧಗಳು ಮತ್ತು ಲಸಿಕೆಗಳನ್ನು ಅಭಿವೃದ್ಧಿಪಡಿಸುವುದರೊಂದಿಗೆ ಹೋಲಿಸಿದರೆ ಮಾರುಕಟ್ಟೆಗೆ ಯಶಸ್ಸಿನ ಗಣನೀಯವಾಗಿ ಹೆಚ್ಚಿನ ಸಂಭವನೀಯತೆ ಸೇರಿದಂತೆ ಅನನ್ಯ ಅನುವಾದ ಅವಕಾಶಗಳನ್ನು ಒದಗಿಸುತ್ತದೆ ಎರಡು ಅಥವಾ ಹೆಚ್ಚಿನ ವಿಭಿನ್ನ ವೈರಲ್ ಕುಟುಂಬಗಳಿಂದ ವೈರಸ್ ಗಳನ್ನು ಗುರಿಯಾಗಿಸುವ ಷಧಿಗಳಾದ ವಿಶಾಲ ಸ್ಪೆಕ್ಟ್ರಮ್ ಆಂಟಿವೈರಲ್ ಏಜೆಂಟ್ ಗಳ ಆವಿಷ್ಕಾರ ಮತ್ತು ಅಭಿವೃದ್ಧಿಯ ಮಾಹಿತಿಯನ್ನು ಸಂಶೋಧಕರು ಪರಿಶೀಲಿಸಿದ್ದಾರೆ ಸಂಶೋಧಕರು ಇತ್ತೀಚೆಗೆ ವೈರಸ್ ಗೆ ಚಿಕಿತ್ಸೆ ನೀಡಲು ಐದು ಸಂಭಾವ್ಯ ಷಧಿ ಅಭ್ಯರ್ಥಿಗಳ ಕ್ಲಿನಿಕಲ್ ತನಿಖೆಯನ್ನು ಪ್ರಾರಂಭಿಸಿದ್ದಾರೆ ಎಂದು ಸಂಶೋಧಕರು ಕಂಡುಕೊಂಡಿದ್ದಾರೆ ಸಾಕಷ್ಟು ವೇಗವಾಗಿ ಕಾರ್ಯನಿರ್ವಹಿಸದ ಕಾರಣ ಮತ್ತು ಕ್ಕೂ ಹೆಚ್ಚು ಜನರನ್ನು ಬಲಿತೆಗೆದುಕೊಂಡಿರುವ ಸಾಂಕ್ರಾಮಿಕ ರೋಗದ ಬಗ್ಗೆ ಮೊದಲೇ ಎಚ್ಚರಿಸಲು ಪ್ರಯತ್ನಿಸಿದವರನ್ನು ಖಂಡಿಸುವುದಕ್ಕಾಗಿ ಸರ್ಕಾರವನ್ನು ದೂಷಿಸಲಾಗಿದೆ ಮತ್ತು ಡಿಸೆಂಬರ್ ನಲ್ಲಿ ಮೊದಲ ಬಾರಿಗೆ ಸಾಂಕ್ರಾಮಿಕ ರೋಗ ಪತ್ತೆಯಾದ ಕೇಂದ್ರ ನಗರದ ವುಹಾನ್ ನಲ್ಲಿ ಕ್ಕೂ ಹೆಚ್ಚು ಜನರು ಸೋಂಕಿಗೆ ಒಳಗಾಗಿದ್ದಾರೆ ಜನವರಿ ರಿಂದ ಲಾಕ್ಡೌನ್ ಅಡಿಯಲ್ಲಿ ನಾವು ಡಿಸೆಂಬರ್ ಆರಂಭದಲ್ಲಿ ಅಥವಾ ಜನವರಿ ಆರಂಭದಲ್ಲಿ ಕಟ್ಟುನಿಟ್ಟಾದ ತಡೆಗಟ್ಟುವ ಕ್ರಮಗಳನ್ನು ತೆಗೆದುಕೊಳ್ಳಬಹುದಾಗಿದ್ದರೆ ನಾವು ರೋಗಿಗಳ ಸಂಖ್ಯೆಯನ್ನು ಬಹಳವಾಗಿ ಕಡಿಮೆಗೊಳಿಸಬಹುದಿತ್ತು ಎಂದು ಚೀನಾದ ರಾಷ್ಟ್ರೀಯ ಆರೋಗ್ಯ ಆಯೋಗದಲ್ಲಿ ವೈರಸ್ ಹೋರಾಟದಲ್ಲಿ ತಜ್ಞರ ಗುಂಪನ್ನು ಮುನ್ನಡೆಸುವ ಾಂಗ್ ನನ್ಶಾನ್ ಹೇಳಿದ್ದಾರೆ ವೈರಸ್ ಕೇಂದ್ರಕೇಂದ್ರಕ್ಕೆ ಬೀಗ ಹಾಕಲು ಅಧಿಕಾರಿಗಳು ಇನ್ನೂ ಕೆಲವು ದಿನಗಳು ಕಾಯುತ್ತಿದ್ದರೆ ರೋಗಿಗಳ ಸಂಖ್ಯೆ ಒಂದು ಲಕ್ಷಕ್ಕೂ ಹೆಚ್ಚಾಗುತ್ತಿತ್ತು ಏಪ್ರಿಲ್ ಅಂತ್ಯದ ವೇಳೆಗೆ ಸಾಂಕ್ರಾಮಿಕ ರೋಗವು ನಿಯಂತ್ರಣದಲ್ಲಿರುತ್ತದೆ ಎಂದು ಅವರು ನಿರೀಕ್ಷಿಸಿದ್ದಾರೆ ಆದರೆ ಈ ತಿಂಗಳು ಗರಿಷ್ಠ ಸಂಭವಿಸುತ್ತಿದೆ ಗುವಾದಲ್ಲಿ ಮತ್ತೆ ವೈರಸ್ ಗೆ ಧನಾತ್ಮಕ ಪರೀಕ್ಷೆಗೊಳಗಾದ ಪ್ರತಿಶತದಷ್ಟು ರೋಗಿಗಳ ಚೇತರಿಸಿಕೊಂಡ ರೋಗಿಗಳ ಬಗ್ಗೆ ಇತರ ಆತಂಕಗಳು ಕಮ್ಯುನಿಸ್ಟ್ ಪಕ್ಷದ ಮುಖವಾಣಿ ಪೀಪಲ್ಸ್ ಡೈಲಿಯನ್ನು ಬುಧವಾರ ವರದಿ ಮಾಡಿದೆ ಪ್ರೀ ಮಾರ್ಕೆಟ್ ನಲ್ಲಿನ ಕೆಲವು ದೊಡ್ಡ ಸಾಗಣೆದಾರರನ್ನು ನೋಡೋಣ ಬೆಸ್ಟ್ ಬೈ ಬಿಬಿವೈ ಎಲೆಕ್ಟ್ರಾನಿಕ್ಸ್ ಚಿಲ್ಲರೆ ವ್ಯಾಪಾರಿ ಪ್ರತಿ ಷೇರಿಗೆ ರಷ್ಟು ತ್ರೈಮಾಸಿಕ ಲಾಭವನ್ನು ವರದಿ ಮಾಡಿದೆ ಸೆಂಟ್ಸ್ ಅಂದಾಜುಗಿಂತ ಹೆಚ್ಚಿನ ಪಾಲು ಕೆಯುರಿಗ್ ಡಾ ಪೆಪ್ಪರ್ ಕೆಡಿಪಿ ಪಾನೀಯ ತಯಾರಕರು ಮುನ್ಸೂಚನೆಗಳನ್ನು ಪ್ರತಿ ಷೇರಿಗೆ ಸೆಂಟ್ಸ್ ಗಳಿಕೆಯೊಂದಿಗೆ ಹೊಂದಿಸಿದ್ದಾರೆ ಆದಾಯವು ಅಂದಾಜುಗಳಿಗಿಂತ ಸ್ವಲ್ಪ ಕಡಿಮೆಯಿತ್ತು ಪ್ರಿಕ್ಲೈನ್ ಮತ್ತು ಇತರ ಆನ್ ಲೈನ್ ಪ್ರಯಾಣ ಸೇವೆಗಳ ಆಯೋಜಕರು ಆದಾಯದ ಬೀಟ್ ಅಂದಾಜುಗಳನ್ನು ಕಂಡರು ಆದರೆ ಕೊರೊನಾವೈರಸ್ ಏಕಾಏಕಿ ಪ್ರಯಾಣದ ಬೇಡಿಕೆಯ ಮೇಲೆ ಪರಿಣಾಮ ಬೀರುವುದರಿಂದ ನಿರೀಕ್ಷಿತ ಪ್ರಸಕ್ತ ತ್ರೈಮಾಸಿಕ ಮಾರ್ಗದರ್ಶನಕ್ಕಿಂತ ಕಡಿಮೆಯಾಗಿದೆ ಬಾಕ್ಸ್ ಬಾಕ್ಸ್ ಬಾಕ್ಸ್ ಅಂದಾಜು ಸೆಂಟ್ಸ್ ಪಾಲನ್ನು ಸೆಂಟ್ಸ್ ತ್ರೈಮಾಸಿಕ ಲಾಭದೊಂದಿಗೆ ಪ್ರತಿ ಷೇರಿಗೆ ಸ್ಕ್ವೇರ್ ಎಸ್ ಕ್ಯೂ ಸ್ಕ್ವೇರ್ ಪ್ರತಿ ಷೇರಿಗೆ ಸೆಂಟ್ಸ್ ತ್ರೈಮಾಸಿಕ ಲಾಭದೊಂದಿಗೆ ಅಂದಾಜುಗಿಂತ ಸೆಂಟ್ಸ್ ಪಾಲನ್ನು ಹೊಂದಿದೆ ಸಿಲ್ಕೆ ಕೋಲ್ಟ್ರೊವಿಟ್ಜ್ ಜುರಿಕ್ ಫೆಬ್ರವರಿ ರಾಯಿಟರ್ಸ್ ಕರೋನವೈರಸ್ ಚೀನಾದ ಪ್ರವಾಸಿಗರನ್ನು ತನ್ನ ಲಂಡನ್ ಅಂಗಡಿಗಳಿಂದ ದೂರವಿರಿಸುತ್ತಿದೆ ಎಂದು ಬ್ರಿಟಿಷ್ ಚಿಲ್ಲರೆ ವ್ಯಾಪಾರಿ ಸ್ವಿಟ್ಜರ್ಲೆಂಡ್ ನ ವಾಚ್ಸ್ ಗುರುವಾರ ಹೇಳಿದೆ ಆದರೆ ರೋಲೆಕ್ಸ್ ಟೈಮ್ ಪೀಸ್ ಗಳಿಗೆ ಸ್ಥಳೀಯ ಬೇಡಿಕೆ ತುಂಬಾ ಪ್ರಬಲವಾಗಿದೆ ಇದು ಕುಸಿತಕ್ಕೆ ಕಾರಣವಾಗಿದೆ ಎಂದು ಮುಖ್ಯ ಕಾರ್ಯನಿರ್ವಾಹಕ ಬ್ರಿಯಾನ್ ಡಫ್ಫಿ ಹೇಳಿದ್ದಾರೆ ಕಂಪನಿಯ ಆರಂಭಿಕ ಸಾರ್ವಜನಿಕ ಕೊಡುಗೆಯಿಂದ ಒಂಬತ್ತು ತಿಂಗಳಲ್ಲಿ ಚೀನಾದ ಪ್ರಜೆಗಳಿಗೆ ಮಾರಾಟದ ಪಾಲು ಸುಮಾರು ರಿಂದ ಕ್ಕೆ ಇಳಿದಿದೆ ಸ್ವಿಸ್ ಐಷಾರಾಮಿ ಕೈಗಡಿಯಾರಗಳ ಬೇಡಿಕೆ ಇತ್ತೀಚೆಗೆ ಒತ್ತಡಕ್ಕೆ ಒಳಗಾಗಿದೆ ಆದರೆ ರೋಲೆಕ್ಸ್ ಇತರ ಬ್ರಾಂಡ್ ಗಳನ್ನು ಮೀರಿಸುತ್ತಿದೆ ಇದು ವಾಚ್ಸ್ ಆಫ್ ಸ್ವಿಟ್ಜರ್ಲೆಂಡ್ ಗೆ ಸಹಾಯ ಮಾಡುತ್ತದೆ ಯುಕೆ ವಾಚಸ್ ಆಫ್ ಸ್ವಿಟ್ಜರ್ಲೆಂಡ್ ನ ರೋಲೆಕ್ಸ್ ಚಿಲ್ಲರೆ ವ್ಯಾಪಾರಿ ಇದು ಮ್ಯಾಪಿನ್ ವೆಬ್ ಗೋಲ್ಡ್ಸ್ಮಿತ್ ಗಳನ್ನು ಸಹ ಹೊಂದಿದೆ ಮತ್ತು ನೀವು ಎಸ್ ಆಧಾರಿತ ಮೇಯರ್ ಗಳು ಜನವರಿ ರಿಂದ ಒಂಬತ್ತು ತಿಂಗಳವರೆಗೆ ನಷ್ಟು ಮಾರಾಟದ ಬೆಳವಣಿಗೆಯನ್ನು ವರದಿ ಮಾಡಿದ್ದಾರೆ ಗುಂಪಿನ ಅತಿದೊಡ್ಡ ಷೇರುದಾರರ ಖಾಸಗಿ ಷೇರು ಸಂಸ್ಥೆ ಅಪೊಲೊ ಗ್ಲೋಬಲ್ ಮ್ಯಾನೇಜ್ ಮೆಂಟ್ ಒಂದು ಪಾಲನ್ನು ಮಾರಾಟ ಮಾಡಿದೆ ಕಳೆದ ತಿಂಗಳು ಚಿಲ್ಲರೆ ವ್ಯಾಪಾರದಲ್ಲಿ ಮಿಲಿಯನ್ ಪೌಂಡ್ ಮಿಲಿಯನ್ ಮೌಲ್ಯದ ತನ್ನ ಪಾಲನ್ನು ಕ್ಕೆ ಇಳಿಸಿತು ಬ್ಯಾಂಕಾಕ್ ಫೆಬ್ರವರಿ ರಾಯಿಟರ್ಸ್ ಥೈಲ್ಯಾಂಡ್ನ ಅತಿದೊಡ್ಡ ಚಿಲ್ಲರೆ ವ್ಯಾಪಾರಿ ಸೆಂಟ್ರಲ್ ರಿಟೇಲ್ ಕಾರ್ಪೊರೇಶನ್ ಪಿಎಲ್ಸಿ ಸಿಆರ್ಸಿ ದೇಶೀಯ ಆನ್ ಲೈನ್ ಮಾರಾಟ ಮತ್ತು ವಿಯೆಟ್ನಾಂನಲ್ಲಿ ತನ್ನ ವ್ಯವಹಾರವನ್ನು ವಿಸ್ತರಿಸಲು ಯೋಜಿಸಿದೆ ಏಕೆಂದರೆ ಕರೋನವೈರಸ್ ಏಕಾಏಕಿ ಮನೆಯಲ್ಲಿ ಆರ್ಥಿಕ ಬೆಳವಣಿಗೆಯನ್ನು ನಿಧಾನಗೊಳಿಸುತ್ತದೆ ಎಂದು ಉನ್ನತ ಅಧಿಕಾರಿ ಹೇಳಿದರು ರಫ್ತು ಮತ್ತು ಪ್ರವಾಸೋದ್ಯಮದ ಮಂದಗತಿಯ ಮಧ್ಯೆ ಈ ವರ್ಷ ಬೆಳವಣಿಗೆಯನ್ನು ಕ್ಕಿಂತ ಕಡಿಮೆಗೊಳಿಸಬಹುದು ಈ ಅಂಶಗಳು ಗ್ರಾಹಕರಿಗೆ ಹೊಸ ಅಭ್ಯಾಸವನ್ನು ಸೃಷ್ಟಿಸುತ್ತಿವೆ ಕಳೆದ ವರ್ಷ ರಿಂದ ಮಾರಾಟಕ್ಕೆ ಡಿಜಿಟಲ್ ಅಥವಾ ಆನ್ ಲೈನ್ ಆದೇಶಗಳು ಕೊಡುಗೆ ನೀಡುತ್ತವೆ ಎಂದು ಯೋಲ್ ಹೇಳಿದರು ಸಿಂಗಾಪುರ ಮೂಲದ ರೈಡ್ ಹೇಲಿಂಗ್ ಸ್ಟಾರ್ಟ್ಅಪ್ ನೊಂದಿಗಿನ ಪಾಲುದಾರಿಕೆ ಕಳೆದ ವರ್ಷ ಥೈಲ್ಯಾಂಡ್ ನ ಪ್ರವಾಸೋದ್ಯಮ ಆದಾಯದಲ್ಲಿ ರಷ್ಟಿದೆ ಐದು ವರ್ಷಗಳಲ್ಲಿ ಸಿಆರ್ ಸಿ ತನ್ನ ಆದಾಯವನ್ನು ಥೈಲ್ಯಾಂಡ್ ನಿಂದ ವಿಯೆಟ್ನಾಂನಿಂದ ಮತ್ತು ಉಳಿದವು ಇಟಲಿಯಿಂದ ಸ್ವಾಧೀನಗಳನ್ನು ಒಳಗೊಂಡಿಲ್ಲ ಎಂದು ಯೊಲ್ ಹೇಳಿದ್ದಾರೆ ಮಿರರ್ ಆನ್ ಲೈನ್ ನಲ್ಲಿ ಮಾತನಾಡಿದ ಇಬ್ಬರು ವೈದ್ಯರು ಫೇಸ್ ಮಾಸ್ಕ್ ಹ್ಯಾಂಡ್ ಸ್ಯಾನಿಟೈಸರ್ ಮತ್ತು ಸಾರ್ವಜನಿಕ ಸಾರಿಗೆ ಕುರಿತು ತಮ್ಮ ಸಲಹೆಯನ್ನು ಒಳಗೊಂಡಂತೆ ಕೊರೊನಾವೈರಸ್ ಅನ್ನು ತಪ್ಪಿಸಲು ತಮ್ಮ ಉನ್ನತ ಸಲಹೆಗಳನ್ನು ಬಹಿರಂಗಪಡಿಸಿದ್ದಾರೆ ವೈರಾವನ್ನು ತಪ್ಪಿಸಲು ಉತ್ತಮ ಮಾರ್ಗವೆಂದರೆ ನಿಯಮಿತವಾಗಿ ನಿಮ್ಮ ಕೈಗಳನ್ನು ಸಾಬೂನು ಮತ್ತು ನೀರಿನಿಂದ ತೊಳೆಯುವುದು ಎಂದು ಜಾವಾ ಅವರೊಂದಿಗಿನ ವೈದ್ಯ ಡಾ ಬಾಬಕ್ ಅಶ್ರಫಿ ವಿವರಿಸಿದರು ನೀವು ಹೊರಗಿದ್ದರೆ ಮತ್ತು ಇಂದು ಸುಮಾರು ಹಲವಾರು ಜನರು ಮುಖವಾಡಗಳನ್ನು ಧರಿಸಿರುವುದನ್ನು ನೀವು ಗಮನಿಸಬಹುದು ಆದರೆ ಡಾ ಅಶ್ರಫಿ ವಿವರಿಸಿದ್ದು ಇವುಗಳು ವೈರಸ್ ಹಿಡಿಯುವ ಅಪಾಯವನ್ನು ಕಡಿಮೆ ಮಾಡುತ್ತದೆ ಎಂಬುದಕ್ಕೆ ಬಹಳ ಕಡಿಮೆ ಪುರಾವೆಗಳಿವೆ ಆದ್ದರಿಂದ ಜನರು ಕೆಮ್ಮುವಾಗ ಅಥವಾ ಸೀನುವಾಗ ಅಂಗಾಂಶದಿಂದ ಬಾಯಿ ಮತ್ತು ಮೂಗುಗಳನ್ನು ಮುಚ್ಚಿಕೊಂಡರೆ ಅವರ ಬರಿ ಕೈಗಳನ್ನು ಬಳಸುವುದು ಮತ್ತು ನಂತರ ಅವರ ಸೋಂಕಿತ ಕೈಗಳನ್ನು ಬಸ್ ನಲ್ಲಿ ಅಥವಾ ಭೂಗತ ಪ್ರದೇಶಗಳ ವಿರುದ್ಧ ಸ್ಪರ್ಶಿಸುವುದರಿಂದ ಸೋಂಕು ಹರಡುವ ಅಪಾಯ ಕಡಿಮೆಯಾಗುತ್ತದೆ ಅವಳು ಸೇರಿಸಿದಳು ನೀವು ನಿಯಮಿತವಾಗಿ ನಿಮ್ಮ ಕೈಗಳನ್ನು ತೊಳೆಯುವುದು ಮತ್ತು ತೊಳೆಯದ ಕೈಗಳಿಂದ ನಿಮ್ಮ ಮುಖವನ್ನು ಸ್ಪರ್ಶಿಸುವುದನ್ನು ತಪ್ಪಿಸಿದರೆ ನೀವು ಕಡಿಮೆ ಸಾಧ್ಯತೆ ನಿಮ್ಮ ಕೈಯಲ್ಲಿ ವೈರಸ್ ಅನ್ನು ಸಾಗಿಸಲು ಮತ್ತು ನಿಮ್ಮ ಕಣ್ಣುಗಳ ಮೂಗು ಅಥವಾ ಬಾಯಿಯ ಲೋಳೆಯ ಪೊರೆಗಳ ಮೂಲಕ ಅದನ್ನು ನಿಮ್ಮ ದೇಹಕ್ಕೆ ರವಾನಿಸಲು ನಾನು ಕೆಲವು ಬಾಂಡ್ ಗಳನ್ನು ಲಾಭದಾಯಕವಾಗಿ ಮಾರಾಟ ಮಾಡುತ್ತಿದ್ದೇನೆ ಮತ್ತು ನಮ್ಮ ಪ್ರಸ್ತುತ ಕಡಿಮೆ ಬಡ್ಡಿದರದ ಪರಿಸರದ ಲಾಭ ಪಡೆಯಲು ಹಣವನ್ನು ಸಂಗ್ರಹಿಸುತ್ತಿದ್ದೇನೆ ಈಕ್ವಿಟಿಗಳು ಮಾರುಕಟ್ಟೆಗಳ ಏಕೈಕ ಭಾಗವಲ್ಲ ಮತ್ತು ನಾನು ಎಲ್ಲಿ ಸಾಕಷ್ಟು ನೋಡಿದ್ದೇನೆ ಎಂದು ನಿಮಗೆ ತಿಳಿದಿದ್ದರೆ ಕೆಲವು ನೈಜ ಅವಕಾಶಗಳು ತಮ್ಮನ್ನು ತಾವು ಪ್ರಸ್ತುತಪಡಿಸಿವೆ ಇದು ಸಾಲಗಾರರ ಸ್ವರ್ಗವನ್ನು ಪ್ರತಿನಿಧಿಸುತ್ತದೆ ಅದು ನಿಸ್ಸಂಶಯವಾಗಿ ನಿಜ ಆದರೆ ಇದು ಆಯ್ದ ಬಾಂಡ್ ಗಳಲ್ಲಿ ಲಾಭವನ್ನು ಪಡೆಯುವ ಒಂದು ಉತ್ತಮ ಅವಕಾಶವನ್ನು ಸಹ ಪ್ರತಿನಿಧಿಸುತ್ತದೆ ಮತ್ತು ವಿವಿಧ ಕಾರಣಗಳಿಗಾಗಿ ನಾನು ನಿರ್ವಹಿಸುವ ವೈಯಕ್ತಿಕ ಖಾತೆಗಳಲ್ಲಿ ನಾನು ಮಾಡುತ್ತಿರುವುದು ಆಯ್ದ ಕೆಲವು ಬಾಂಡ್ ಗಳನ್ನು ಮಾರಾಟ ಮಾಡುತ್ತಿದೆ ನಮ್ಮ ಪ್ರಸ್ತುತ ಕಡಿಮೆ ಬಡ್ಡಿದರದ ಪರಿಸರದ ಲಾಭ ಪಡೆಯಲು ಲಾಭ ಮತ್ತು ಹಣವನ್ನು ಸಂಗ್ರಹಿಸುವುದು ಈಕ್ವಿಟಿ ಮಾರುಕಟ್ಟೆಗಳ ಹತ್ಯಾಕಾಂಡವು ಬಾಂಡ್ ಮಾರುಕಟ್ಟೆಗಳ ಅದೃಷ್ಟವಾಗಿದೆ ಮತ್ತು ಈಕ್ವಿಟಿ ಮಾರುಕಟ್ಟೆಗಳ ಕಾರ್ಯಕ್ಷಮತೆಗೆ ಮಾಧ್ಯಮಗಳು ಕೂಗು ಮತ್ತು ಕೂಗುಗಳೊಂದಿಗೆ ಪ್ರತಿಕ್ರಿಯಿಸುತ್ತಿರುವುದರಿಂದ ಈ ಅವಕಾಶದ ಬಗ್ಗೆ ನಿಮ್ಮ ಗಮನವನ್ನು ಇಂದು ನಿರ್ದೇಶಿಸಲು ನಾನು ಬಯಸುತ್ತೇನೆ ನಂತರ ಮಕ್ಕಳು ಇದ್ದಾರೆ ಏಕೆಂದರೆ ಪೋಷಕರಿಗೆ ಅನಾರೋಗ್ಯದ ಸಮಯದ ಕೊರತೆ ಮತ್ತು ಅವರ ಮಗು ಅನಾರೋಗ್ಯಕ್ಕೆ ಒಳಗಾಗಿದ್ದರೆ ಆರೋಗ್ಯ ರಕ್ಷಣೆಯ ನಿಷೇಧಿತ ವೆಚ್ಚದಿಂದಾಗಿ ಅವರು ಅವರೊಂದಿಗೆ ಮನೆಯಲ್ಲಿಯೇ ಇರಲು ಅಥವಾ ವೈದ್ಯಕೀಯ ಚಿಕಿತ್ಸೆಗೆ ಕರೆದೊಯ್ಯುವ ಸಾಧ್ಯತೆ ಕಡಿಮೆ ಆಧುನಿಕ ಷಧಿ ಮತ್ತು ಸಾರ್ವಜನಿಕ ಆರೋಗ್ಯ ಕ್ರಮಗಳೊಂದಿಗೆ ನಾವು ಉದಯೋನ್ಮುಖ ವೈರಸ್ ಗಳೊಂದಿಗೆ ಬದುಕಲು ಕಲಿತಿದ್ದೇವೆ ಆದರೆ ನಾವು ಅನ್ನು ನಿಯಂತ್ರಿಸುವಲ್ಲಿ ಯಶಸ್ವಿಯಾಗಿದ್ದೇವೆ ಅದಕ್ಕಾಗಿ ನಾವು ಹೊಸ ಚಿಕಿತ್ಸೆಗಳು ಮತ್ತು ಲಸಿಕೆಗಳನ್ನು ಅಭಿವೃದ್ಧಿಪಡಿಸಿದ್ದೇವೆ ಎಬೋಲಾ ಮತ್ತು ಎಚ್ ಐವಿ ಯನ್ನು ಮಾರಣಾಂತಿಕ ವೈರಸ್ ಅನ್ನು ದೀರ್ಘಕಾಲದ ನಿರ್ವಹಿಸಬಹುದಾದ ಸೋಂಕಾಗಿ ಬದಲಾಯಿಸಿದೆ ಆದ್ದರಿಂದ ಅದು ಬಂದರೆ ನಾವು ಇತರರೊಂದಿಗೆ ನಿರ್ವಹಿಸಿದಂತೆಯೇ ವೈರಸ್ ನೊಂದಿಗೆ ಬದುಕಲು ಒಂದು ಮಾರ್ಗವನ್ನು ಕಂಡುಕೊಳ್ಳುತ್ತೇವೆ ಅವರಿಗೆ ಸಾರ್ವಜನಿಕ ಆರೋಗ್ಯ ವ್ಯವಸ್ಥೆಗಳನ್ನು ಬಲಪಡಿಸಲು ತಂತ್ರಗಳು ಬೇಕಾಗಿವೆ ಎಲ್ಲಾ ದೇಶಗಳಲ್ಲಿ ಶ್ರೀಮಂತ ಮತ್ತು ಬಡವರು ಯುಸಿ ಡೇವಿಸ್ ಮೆಡಿಕಲ್ ಸೆಂಟರ್ ಅವರು ಕಳೆದ ವಾರ ಪರೀಕ್ಷೆಯನ್ನು ಕೋರಿದ್ದರು ಆದರೆ ಸಿಡಿಸಿ ನಿರಾಕರಿಸಿದ್ದರಿಂದ ರೋಗಿಯು ಅಸ್ತಿತ್ವದಲ್ಲಿರುವ ಸಿಡಿಸಿಗೆ ಹೊಂದಿಕೆಯಾಗದ ಕಾರಣ ಬುಧವಾರ ಸಂಜೆ ಅಪರಿಚಿತ ಮೂಲಗಳೊಂದಿಗೆ ಕ್ಯಾಲಿಫೋರ್ನಿಯಾದಲ್ಲಿ ಕೊರೊನಾವೈರಸ್ ಪ್ರಕರಣ ಅಸ್ತಿತ್ವದಲ್ಲಿದೆ ಎಂದು ಸೆಂಟರ್ ಫಾರ್ ಡಿಸೀಸ್ ಕಂಟ್ರೋಲ್ ದೃ ಪಡಿಸಿದೆ ಮಾನದಂಡಗಳು ಈ ಸಮಯದಲ್ಲಿ ರೋಗಿಯ ಮಾನ್ಯತೆ ತಿಳಿದಿಲ್ಲ ಸಿಡಿಸಿ ಹೇಳಿಕೆಯಲ್ಲಿ ನಿಮ್ಮ ಎಸ್ ನಲ್ಲಿ ನೇ ದೃ ಪಡಿಸಿದ ದೇಶೀಯ ಪ್ರಕರಣದ ರೋಗಿಯನ್ನು ಕಳೆದ ವಾರ ಮತ್ತೊಂದು ಉತ್ತರ ಕ್ಯಾಲಿಫೋರ್ನಿಯಾ ಆಸ್ಪತ್ರೆಯಿಂದ ಡೇವಿಸ್ಗೆ ವರ್ಗಾಯಿಸಲಾಯಿತು ಯುಸಿ ಡೇವಿಸ್ ಆರೋಗ್ಯ ಅಧಿಕಾರಿಗಳ ಹೇಳಿಕೆಯ ಪ್ರಕಾರ ರೋಗಿಯನ್ನು ಈಗಾಗಲೇ ವೆಂಟಿಲೇಟರ್ ನಲ್ಲಿದ್ದರು ಮತ್ತು ವರ್ಗಾವಣೆ ಮಾಡಿದಾಗ ರೋಗನಿರ್ಣಯ ಮಾಡದ ಮತ್ತು ಶಂಕಿತ ವೈರಲ್ ಸ್ಥಿತಿಯ ಕಾರಣ ಹನಿ ರಕ್ಷಣೆಯ ಆದೇಶಗಳನ್ನು ನೀಡಲಾಯಿತು ಸ್ಯಾಕ್ರಮೆಂಟೊ ಕೌಂಟಿ ಅಥವಾ ಕ್ಯಾಲಿಫೋರ್ನಿಯಾ ಸಾರ್ವಜನಿಕ ಆರೋಗ್ಯ ಇಲಾಖೆಯು ಕರೋನವೈರಸ್ ಗಾಗಿ ಪರೀಕ್ಷೆಯನ್ನು ಮಾಡುತ್ತಿಲ್ಲವಾದ್ದರಿಂದ ನಾವು ಸಿಡಿಸಿಯಿಂದ ಪರೀಕ್ಷೆಯನ್ನು ಕೋರಿದ್ದೇವೆ ಈ ಸಮಯದಲ್ಲಿ ಹೇಳಿಕೆಯನ್ನು ಓದುತ್ತದೆ ಆದಾಯದ ಚಿತ್ರವು ಪರಿಶೀಲನೆಯ ತ್ರೈಮಾಸಿಕದಲ್ಲಿ ಮಿಡಲ್ಬಿಯ ಮಾರಾಟವು ಮಿಲಿಯನ್ ಆಗಿದ್ದು ವರ್ಷ ರ ಬೆಳವಣಿಗೆಯನ್ನು ಪ್ರತಿಬಿಂಬಿಸುತ್ತದೆ ಆ ವಿಭಾಗಗಳ ಸಂಕ್ಷಿಪ್ತ ಚರ್ಚೆಯನ್ನು ವಾಣಿಜ್ಯ ಆಹಾರ ಸೇವೆ ಸಲಕರಣೆ ಸಮೂಹದ ಮಾರಾಟದ ಕೆಳಗೆ ನೀಡಲಾಗಿದೆ ವರದಿಯಾದ ತ್ರೈಮಾಸಿಕದ ನಿವ್ವಳ ಮಾರಾಟದಲ್ಲಿ ಪ್ರತಿನಿಧಿಸುತ್ತದೆ ವರದಿಯ ತ್ರೈಮಾಸಿಕದ ನಿವ್ವಳ ಮಾರಾಟದಲ್ಲಿ ಪ್ರತಿನಿಧಿಸುವ ರೆಸಿಡೆನ್ಶಿಯಲ್ ಕಿಚನ್ ಎಕ್ವಿಪ್ಮೆಂಟ್ ಗ್ರೂಪ್ನ ಮಾರಾಟವು ಮಿಲಿಯನ್ ಇಂಚುಗಳು ವರ್ಷಕ್ಕೆ ವರ್ಷಗಳನ್ನು ಹೆಚ್ಚಿಸಿದೆ ಆಹಾರ ಸಂಸ್ಕರಣಾ ಸಲಕರಣೆ ಗುಂಪಿನ ಮಾರಾಟವು ವರದಿಯಾದ ತ್ರೈಮಾಸಿಕದಲ್ಲಿ ಅನ್ನು ಪ್ರತಿನಿಧಿಸುತ್ತದೆ ನಿವ್ವಳ ಮಾರಾಟವು ವರ್ಷಕ್ಕೆ ವರ್ಷ ಹೆಚ್ಚಾಗುತ್ತಿದೆ ಮಾರ್ಜಿನ್ ಪ್ರೊಫೈಲ್ ಪರಿಶೀಲನೆಯ ತ್ರೈಮಾಸಿಕದಲ್ಲಿ ಮಿಡಲ್ಬಿ ಮಾರಾಟದ ವೆಚ್ಚವು ವರ್ಷಕ್ಕೆ ವರ್ಷ ಏರಿಕೆಯಾಗಿ ಮಿಲಿಯನ್ಗೆ ತಲುಪಿದೆ ಟೋಕಿಯೊ ಟೊಯೋಟಾ ಬುಧವಾರ ಜಪಾನ್ ನಲ್ಲಿನ ತನ್ನ ಸ್ಥಾವರಗಳಲ್ಲಿನ ಕಾರ್ಯಾಚರಣೆಗಳು ಜಾಗತಿಕ ಏಕಾಏಕಿ ವೇಗವನ್ನು ಹೆಚ್ಚಿಸುವುದರಿಂದ ಮುಂಬರುವ ವಾರಗಳಲ್ಲಿ ಹೊಸ ಕೊರೊನಾವೈರಸ್ ಏಕಾಏಕಿ ಸಂಬಂಧಿಸಿರುವ ಪೂರೈಕೆ ಸರಪಳಿ ಸಮಸ್ಯೆಗಳಿಂದ ಪ್ರಭಾವಿತವಾಗಬಹುದು ಎಂದು ಹೇಳಿದರು ಜಪಾನ್ ನಲ್ಲಿ ವಾಹನ ಮತ್ತು ಘಟಕಗಳ ತಾಣಗಳನ್ನು ನಿರ್ವಹಿಸುವ ವಾಹನ ತಯಾರಕ ಸಂಸ್ಥೆ ಮಾರ್ಚ್ ರ ವಾರದಲ್ಲಿ ಉತ್ಪಾದನೆಯನ್ನು ಸಾಮಾನ್ಯವಾಗಿಸಿದ ನಂತರ ಮಾರ್ಚ್ ರ ವಾರದಿಂದ ತನ್ನ ದೇಶೀಯ ಸ್ಥಾವರಗಳಲ್ಲಿ ಕಾರ್ಯಾಚರಣೆಯನ್ನು ಹೇಗೆ ಮುಂದುವರಿಸುವುದು ಎಂದು ನಿರ್ಧರಿಸಿ ಚೀನಾದಲ್ಲಿ ಸಂಭವನೀಯ ಪೂರೈಕೆ ಅಡೆತಡೆಗಳಿಂದ ಸಸ್ಯಗಳು ಪರಿಣಾಮ ಬೀರಬಹುದು ಏಕೆಂದರೆ ವೈರಸ್ ಏಕಾಏಕಿ ಕೇಂದ್ರದಲ್ಲಿ ಕೆಲವು ಸಸ್ಯಗಳು ಉಳಿದಿಲ್ಲ ಪ್ರಾದೇಶಿಕ ಅಧಿಕಾರಿಗಳ ಆದೇಶದ ಮೇರೆಗೆ ಕೆಲವು ಸ್ಥಾವರಗಳು ಮುಚ್ಚಲ್ಪಟ್ಟಿವೆ ಆದರೆ ನಾವು ಚೀನಾದಿಂದ ಭಾಗಗಳನ್ನು ಸಾಮಾನ್ಯವಾಗಿಸುತ್ತಿದ್ದೇವೆ ಆದರೆ ಮಾರ್ಚ್ ರ ವಾರದ ನಂತರ ನಾವು ಪರಿಸ್ಥಿತಿಯನ್ನು ನಿರ್ಣಯಿಸುತ್ತೇವೆ ಎಂದು ಟೊಯೋಟಾ ವಕ್ತಾರರು ರಾಯಿಟರ್ಸ್ಗೆ ತಿಳಿಸಿದರು ಜಪಾನ್ ನಲ್ಲಿನ ಉದ್ಯೋಗಿಗಳಿಗೆ ಅನಿವಾರ್ಯವಲ್ಲದ ಪ್ರಯಾಣ ವೈರಸ್ ಹರಡುವಿಕೆಯ ವೇಗವಾಗಿ ಕಾರ್ಯಾಚರಣೆಯನ್ನು ತಡೆಯುವ ಜಾಗತಿಕ ಕಂಪನಿಯ ಇತ್ತೀಚಿನ ಕ್ರಮ ವೇಗವನ್ನು ಸಂಗ್ರಹಿಸಲು ಕಾಣುತ್ತದೆ ಧ್ವನಿವರ್ಧಕಗಳು ನೈರ್ಮಲ್ಯ ಸಂದೇಶಗಳನ್ನು ಹೊಡೆಯುವುದರೊಂದಿಗೆ ವಿದೇಶಿ ರಾಯಭಾರಿಗಳು ತಮ್ಮ ಕಾಂಪೌಂಡ್ ಗಳಲ್ಲಿ ಲಾಕ್ ಆಗಿದ್ದಾರೆ ಮತ್ತು ಆರೋಗ್ಯ ಅಧಿಕಾರಿಗಳಿಗೆ ಸಂಪೂರ್ಣ ವಿಧೇಯತೆ ನೀಡುವಂತೆ ಒತ್ತಾಯಿಸುವ ರಾಜ್ಯ ಮಾಧ್ಯಮಗಳು ಉತ್ತರ ಕೊರಿಯಾವು ರಾಜತಾಂತ್ರಿಕರು ಅಭೂತಪೂರ್ವ ಕ್ರಮಗಳನ್ನು ಕರೆಯುತ್ತಿರುವುದನ್ನು ತೆಗೆದುಕೊಳ್ಳುತ್ತಿದೆ ನೆರೆಯ ಚೀನಾದಲ್ಲಿ ಮೊದಲು ಹೊರಹೊಮ್ಮಿದ ವೈರಸ್ ನಿಂದ ತನ್ನನ್ನು ತಾನು ರಕ್ಷಿಸಿಕೊಳ್ಳಿ ಅದರ ಪ್ರಮುಖ ರಾಜತಾಂತ್ರಿಕ ಮಿತ್ರ ಮತ್ತು ವ್ಯಾಪಾರ ಪಾಲುದಾರ ವೈರಸ್ ಹೊರಹೊಮ್ಮಿದ ನಂತರ ಪ್ಯೊಂಗ್ಯಾಂಗ್ ತನ್ನ ಗಡಿಗಳನ್ನು ಹೊರಗಿನ ಪ್ರಪಂಚದಿಂದ ಕತ್ತರಿಸಿಕೊಂಡು ಒಂದು ಕ್ರಮದಲ್ಲಿ ರಾಜತಾಂತ್ರಿಕರು ಮತ್ತು ವಿಶ್ಲೇಷಕರು ಹೇಳುವ ಪ್ರಕಾರ ಇದು ಸ್ವಯಂ ರಕ್ಷಣೆಯ ಅತ್ಯುತ್ತಮ ವಿಧಾನವಾಗಿದೆ ಅದರ ಆರೋಗ್ಯ ಮೂಲಸೌಕರ್ಯದ ದೌರ್ಬಲ್ಯವು ದಿನಗಳ ಪ್ರತ್ಯೇಕತೆಗೆ ಒಳಪಟ್ಟಿರುತ್ತದೆ ಮತ್ತು ಇದು ಅಧಿಕೃತ ಕೆಸಿಎನ್ ಎಯೊಂದಿಗೆ ಆಂತರಿಕವಾಗಿ ತನ್ನ ಪ್ರಯತ್ನಗಳನ್ನು ಚುರುಕುಗೊಳಿಸಿದೆ ಮನೆ ಬಾಗಿಲಿನ ಆರೋಗ್ಯ ತಪಾಸಣೆ ಮತ್ತು ಧ್ವನಿವರ್ಧಕ ವ್ಯಾನ್ ಗಳು ಸೇರಿದಂತೆ ದೇಶಾದ್ಯಂತದ ನೈರ್ಮಲ್ಯ ಪದ್ಧತಿಗಳ ಬಗ್ಗೆ ನಾಗರಿಕರಿಗೆ ಸೂಚನೆ ನೀಡುವ ವಿದೇಶಿಗರು ವಿಶೇಷವಾಗಿ ಕಠಿಣ ಎದುರಿಸುತ್ತಿದೆ ನಿರ್ಬಂಧಗಳು ಫೆಬ್ರವರಿ ಆರಂಭದಿಂದ ದೇಶದಲ್ಲಿ ವಾಸಿಸುವ ಎಲ್ಲರನ್ನು ತಮ್ಮ ಆವರಣದಲ್ಲಿ ಸಂಪರ್ಕತಡೆಗೆ ಒಳಪಡಿಸಲಾಗಿದೆ ಡೆಡಿಕೇಟೆಡ್ ಫ್ರೈಟ್ ಕಾರಿಡಾರ್ ಡಿಎಫ್ ಸಿ ಮೂಲತಃ ಅದರ ಸರಕು ಸ್ಟೇಟ್ ರನ್ ಕಂಟೇನರ್ ಪೋರ್ಟ್ ಜೆಎನ್ ಪಿಟಿಗೆ ಉದ್ದೇಶಿತವಾಗಿದೆ ಎಂದು ಪ್ರತಿಪಾದಿಸಿದ್ದು ಅದಾನಿಗಳು ನಡೆಸುತ್ತಿರುವ ಖಾಸಗಿ ವಲಯದ ಮುಂಡ್ರಾ ಬಂದರು ಯೋಜನೆಯ ಮೂಲಕ ಸಂಪರ್ಕದಲ್ಲಿ ಆದ್ಯತೆ ಪಡೆಯುವುದಿಲ್ಲ ಎಂದು ಖಚಿತಪಡಿಸಿಕೊಳ್ಳಲು ಕೇಂದ್ರ ಸರ್ಕಾರವನ್ನು ಗುರುವಾರ ಕೇಳಿದೆ ದೇಶದ ಅತಿದೊಡ್ಡ ಕಂಟೇನರ್ ಬಂದರು ಮುಂಡ್ರಾ ಕಾರಿಡಾರ್ ನಲ್ಲಿ ಮೊದಲು ಸಂಪರ್ಕ ಸಾಧಿಸುವುದರಿಂದ ಅದರ ವ್ಯವಹಾರದ ಮೇಲೆ ಪ್ರತಿಕೂಲ ಪರಿಣಾಮ ಬೀರುತ್ತದೆ ಏಕೆಂದರೆ ಒಳನಾಡಿನ ಸರಕು ಅದಾನಿ ರನ್ ಬಂದರಿಗೆ ಹೋಗುತ್ತದೆ ಮತ್ತು ಇದು ಡಿಎಫ್ ಸಿಗೆ ಸಂಪರ್ಕ ಹೊಂದಿದೆಯೆ ಎಂದು ಖಚಿತಪಡಿಸಿಕೊಳ್ಳಲು ಸರ್ಕಾರದ ಸಹಾಯವನ್ನು ಕೋರಿದೆ ರಲ್ಲಿ ಬಂದರು ಸರಕು ನಿರ್ವಹಣೆಯಲ್ಲಿ ಜಿಗಿತವನ್ನು ಹೊಂದಿದೆ ಕರೋನವೈರಸ್ ಸಂಬಂಧಿತ ಪರಿಣಾಮದಿಂದಾಗಿ ವರ್ಷದ ಹಿಂದಿನ ಅವಧಿಯಂತೆ ಮಾರ್ಚ್ ತ್ರೈಮಾಸಿಕದಲ್ಲಿ ಕಾರ್ಯಕ್ಷಮತೆ ಸಮತಟ್ಟಾಗುತ್ತದೆ ಎಂದು ಸೇಥಿ ಹೇಳಿದ್ದಾರೆ ಏತನ್ಮಧ್ಯೆ ಕೇಂದ್ರ ಕ್ಯಾಬಿನೆಟ್ ದಹನು ಕರಾವಳಿಯ ಗ್ರೀನ್ಫೀಲ್ಡ್ ವಾಧವನ್ ಬಂದರನ್ನು ತೆರವುಗೊಳಿಸಿದೆ ಎಂದು ಸೇಥಿ ಹೇಳಿದ್ದಾರೆ ಜೆಎನ್ ಪಿಟಿ ಮಹತ್ವಾಕಾಂಕ್ಷೆಯ ಯೋಜನೆಗಾಗಿ ಕಾನ್ ಕಾರ್ ನಂತಹ ಇತರ ರಾಜ್ಯ ನಡೆಸುವ ಸಂಸ್ಥೆಗಳೊಂದಿಗೆ ಒಪ್ಪಂದ ಮಾಡಿಕೊಳ್ಳಲು ಬಯಸುತ್ತದೆ ಎರ್ ಕೋಟಿ ರೂ ಇತರ ವಿಸ್ತರಣಾ ಯೋಜನೆಗಳ ಬಗ್ಗೆ ಕೇಳಿದಾಗ ಬಂದರು ದಿವಾಳಿಯಾದ ಡಿಘಿ ಬಂದರನ್ನು ಸ್ವಾಧೀನಪಡಿಸಿಕೊಳ್ಳಲು ಆಸಕ್ತಿ ಹೊಂದಿದೆ ಎಂದು ವರದಿಯಾಗಿದೆ ಮತ್ತು ಇನ್ನೂ ರೇವಾಸ್ ಬಂದರನ್ನು ತನ್ನ ಪಕ್ಕದಲ್ಲಿಯೇ ಪ್ರಾರಂಭಿಸಬೇಕಾಗಿಲ್ಲ ಎಂದು ಸೇಥಿ ಹೇಳಿದ್ದಾರೆ ಪ್ರಸ್ತುತ ಇದು ಕೇವಲ ವಾಧವನ್ ಮಾತ್ರ ಕೇಂದ್ರೀಕರಿಸಿದೆ ಕಚ್ಚಾ ತೈಲ ಬೆಲೆಗಳನ್ನು ಸರಾಗಗೊಳಿಸುವ ಮತ್ತು ಗ್ರೀನ್ ಬ್ಯಾಕ್ ಸಾಗರೋತ್ತರ ದುರ್ಬಲಗೊಂಡಿರುವ ಮಧ್ಯೆ ಗುರುವಾರ ಭಾರತೀಯ ಡಾಲರ್ ಎದುರು ಪೈಸೆ ಏರಿಕೆ ಕ್ಕೆ ತಲುಪಿದೆ ವಿದೇಶಿ ವಿದೇಶೀ ವಿನಿಮಯ ವ್ಯಾಪಾರಿಗಳು ವಿದೇಶಿ ನಿಧಿಯ ಹೊರಹರಿವು ಮತ್ತು ದೃ ವಾದ ಮಾರಾಟದಿಂದ ಲಾಭಗಳನ್ನು ನಿರ್ಬಂಧಿಸಲಾಗಿರುವುದರಿಂದ ರೂಪಾಯಿ ಕಿರಿದಾದ ವ್ಯಾಪ್ತಿಯಲ್ಲಿ ಕ್ರೋ ೀಕರಿಸಲ್ಪಟ್ಟಿದೆ ಎಂದು ಹೇಳಿದರು ದೇಶೀಯ ಇಕ್ವಿಟಿಗಳಲ್ಲಿ ಇಂಟರ್ಬ್ಯಾಂಕ್ ವಿದೇಶಿ ವಿನಿಮಯ ಮಾರುಕಟ್ಟೆಯಲ್ಲಿ ಸ್ಥಳೀಯ ಕರೆನ್ಸಿ ಯುಎಸ್ ಡಾಲರ್ ರೂಪಾಯಿಗೆ ಕ್ಕೆ ತೆರೆದು ಸಂಕುಚಿತ ವ್ಯಾಪ್ತಿಯಲ್ಲಿ ಕ್ರೋ ೀಕರಿಸಲ್ಪಟ್ಟಿತು ಆದರೆ ಯುಎಸ್ ಡಾಲರ್ ವಿರುದ್ಧ ಸ್ವಲ್ಪ ಣಾತ್ಮಕ ಪಕ್ಷಪಾತದೊಂದಿಗೆ ವಹಿವಾಟು ನಡೆಸಿತು ಇದು ಯುಎಸ್ನಿಂದ ಬಿಡುಗಡೆಯಾಗುವ ಪ್ರಾಥಮಿಕ ಜಿಡಿಪಿ ಸಂಖ್ಯೆಗೆ ಮುಂಚಿತವಾಗಿ ಇಂದು ಸಂಜೆ ಗೌರಂಗ್ ಸೋಮಯ್ಯ ವಿದೇಶೀ ವಿನಿಮಯ ಬುಲಿಯನ್ ವಿಶ್ಲೇಷಕ ಮೋತಿಲಾಲ್ ಓಸ್ವಾಲ್ ಫೈನಾನ್ಷಿಯಲ್ ಸರ್ವೀಸಸ್ ಸೋಮಯ್ಯ ಅವರು ದೇಶೀಯ ಮುಂಭಾಗದ ಬೆಳವಣಿಗೆಯ ಸಂಖ್ಯೆಯನ್ನು ನಾಳೆ ಬಿಡುಗಡೆ ಮಾಡಲಾಗುವುದು ಮತ್ತು ನಿರೀಕ್ಷಿತ ಸಂಖ್ಯೆಗಿಂತ ದುರ್ಬಲವಾಗಿ ರೂಪಾಯಿಯನ್ನು ಒತ್ತಡದಲ್ಲಿರಿಸಿಕೊಳ್ಳಬಹುದು ಎಂದು ಹೇಳಿದರು ಚೀನಾದ ನಗರವಾದ ವುಹಾನ್ ಮತ್ತು ನಿರ್ಬಂಧಿತ ಕ್ರೂಸ್ ಹಡಗು ಡೈಮಂಡ್ ರಾಜಕುಮಾರಿಯಿಂದ ವಿದೇಶಿ ಸಚಿವಾಲಯವು ಒಟ್ಟು ಭಾರತೀಯರನ್ನು ಮತ್ತು ವಿದೇಶಿ ಪ್ರಜೆಗಳನ್ನು ಸ್ಥಳಾಂತರಿಸಿದೆ ಎಂದು ವಿದೇಶಾಂಗ ಸಚಿವಾಲಯ ಗುರುವಾರ ತಿಳಿಸಿದೆ ಇಲ್ಲಿಯವರೆಗೆ ಒಟ್ಟು ಭಾರತೀಯರು ಮತ್ತು ವಿದೇಶಿ ನಾಗರಿಕರನ್ನು ಸ್ಥಳಾಂತರಿಸಲಾಗಿದೆ ಚೀನಾ ಮತ್ತು ಜಪಾನ್ ನಿಂದ ಫೆಬ್ರವರಿ ರಿಂದ ಜಪಾನ್ ಕರಾವಳಿಯಲ್ಲಿ ನಿರ್ಬಂಧಿಸಲಾದ ಭಾರತೀಯ ಪ್ರಜೆಗಳ ಪೈಕಿ ಜನರನ್ನು ವಜಾಗೊಳಿಸಲಾಗಿದೆ ಹೆಚ್ಚುವರಿಯಾಗಿ ವಿದೇಶಿ ಪ್ರಜೆಗಳು ಇಬ್ಬರು ಶ್ರೀಲಂಕಾದವರು ಒಂದು ನೇಪಾಳಿ ಮತ್ತು ಪೆರು ಮತ್ತು ದಕ್ಷಿಣ ಆಫ್ರಿಕಾದಿಂದ ತಲಾ ಒಬ್ಬರು ಸ್ಥಳಾಂತರಿಸಿದ ಎಂಇಎ ವಕ್ತಾರ ರವೀಶ್ ಕುಮಾರ್ ಮಾತನಾಡಿ ಬಾಂಗ್ಲಾದೇಶದ ಮಂದಿ ಸೇರಿದಂತೆ ಭಾರತೀಯ ಪ್ರಜೆಗಳು ಮತ್ತು ವಿದೇಶಿ ಪ್ರಜೆಗಳು ಚೀನಾದಿಂದ ಆರು ಮಂದಿ ಚೀನಾದಿಂದ ಇಬ್ಬರು ಮ್ಯಾನ್ಮಾರ್ ಮತ್ತು ಮಾಲ್ಡೀವ್ಸ್ ಮತ್ತು ದಕ್ಷಿಣ ಆಫ್ರಿಕಾದಿಂದ ತಲಾ ಒಬ್ಬರನ್ನು ಯುನೈಟೆಡ್ ಸ್ಟೇಟ್ಸ್ ಮತ್ತು ಮಡಗಾಸ್ಕರ್ ವುಹಾನ್ ನಿಂದ ಸ್ಥಳಾಂತರಿಸಲಾಗಿದೆ ಮುಂದಿನ ತಿಂಗಳು ನಡೆಯಲಿರುವ ಐಎಸ್ ಎಸ್ ಎಫ್ ವಿಶ್ವಕಪ್ ನಲ್ಲಿ ಪೂರ್ವ ಏಷ್ಯಾದ ದೇಶದ ಕ್ರೀಡಾಪಟುಗಳಿಗೆ ಅವಕಾಶ ನೀಡಲಾಗುತ್ತದೆಯೇ ಎಂಬ ಬಗ್ಗೆ ತನ್ನ ನಿಲುವನ್ನು ಸ್ಪಷ್ಟಪಡಿಸುವಂತೆ ದಕ್ಷಿಣ ಕೊರಿಯಾದ ರಾಷ್ಟ್ರೀಯ ಶೂಟಿಂಗ್ ಫೆಡರೇಶನ್ ಕೊರೋನವೈರಸ್ ನ ಜಾಗತಿಕ ಹಾಟ್ ಬೆಡ್ ಗಳಲ್ಲಿ ಒಂದಾಗಿದೆ ಮಾರ್ಚ್ ರಿಂದ ರವರೆಗೆ ನಡೆಯುವ ಈವೆಂಟ್ ನಲ್ಲಿ ಶೂಟರ್ ಗಳು ಭಾಗವಹಿಸಲು ಉತ್ಸುಕರಾಗಿದ್ದಾರೆ ಎಂದು ನ್ಯಾಷನಲ್ ರೈಫಲ್ ಅಸೋಸಿಯೇಶನ್ ಆಫ್ ಇಂಡಿಯಾ ಎನ್ ಆರ್ ಎಐ ಅಧ್ಯಕ್ಷ ರಣಿಂದರ್ ಸಿಂಗ್ ಕೊರಿಯಾ ಶೂಟಿಂಗ್ ಫೆಡರೇಶನ್ ಪ್ರಧಾನ ಕಾರ್ಯದರ್ಶಿ ಯೋಂಗ್ಜೇ ಲೀ ಹೇಳಿದ್ದಾರೆ ಪ್ರಸ್ತುತ ಕೊರಿಯಾದ ಹೆಚ್ಚಿನ ಕ್ರೀಡಾಪಟುಗಳು ಐಎಸ್ ಎಸ್ಎಫ್ ವಿಶ್ವಕಪ್ ನಲ್ಲಿ ಕನಿಷ್ಠ ಅರ್ಹತಾ ಮಾನದಂಡವನ್ನು ಪಡೆಯಲು ಬಯಸುತ್ತಿದ್ದಾರೆ ನವದೆಹಲಿ ಫೆಬ್ರವರಿ ರ ನಂತರ ಕೊರಿಯಾ ಇರಾನ್ ಮತ್ತು ಇಟಲಿಯಿಂದ ಭಾರತಕ್ಕೆ ಬರುವ ಜನರು ವೈರಸ್ನಿಂದ ತೀವ್ರವಾಗಿ ಬಾಧಿತರಾಗಿದ್ದಾರೆ ಎಂದು ಫೆಬ್ರವರಿ ರ ನಂತರ ಭಾರತ ರಾಯಭಾರ ಕಚೇರಿಯ ನಿರ್ದೇಶನದ ಮೂಲಕ ಈ ಪತ್ರವನ್ನು ಸೂಚಿಸಲಾಗಿದೆ ದಕ್ಷಿಣ ಕೊರಿಯಾಕ್ಕೆ ಆಗಮಿಸಿದಾಗ ದಿನಗಳವರೆಗೆ ನಿರ್ಬಂಧಿಸಬಹುದು ಕರೋನವೈರಸ್ನ ಕ್ಕೂ ಹೆಚ್ಚು ಪ್ರಕರಣಗಳು ದೃ ಪಟ್ಟಿದೆ ಮತ್ತು ಜನರು ಈ ಕಾಯಿಲೆಯಿಂದ ಸಾವನ್ನಪ್ಪಿದ್ದಾರೆ ಪ್ರಮುಖ ನಗರ ವ್ಯವಹಾರಗಳು ಉದ್ಯೋಗಿಗಳನ್ನು ಈಗಾಗಲೇ ಮನೆಗೆ ಕಳುಹಿಸುವುದರಿಂದ ವ್ಯಾಪಾರ ಪ್ರಯಾಣ ನಿಷೇಧವನ್ನು ಜಾರಿಗೆ ತರುವುದರಿಂದ ಉದ್ಯೋಗದಾತರು ಈಗಾಗಲೇ ಪರಿಣಾಮಗಳನ್ನು ಅನುಭವಿಸುತ್ತಿದ್ದಾರೆ ಮತ್ತು ಪರಿಸ್ಥಿತಿ ಹದಗೆಟ್ಟರೆ ಅವುಗಳು ಜೋಡಿಸಲ್ಪಡುತ್ತವೆ ಎಂದು ಖಚಿತಪಡಿಸಿಕೊಳ್ಳಲು ಅನಾರೋಗ್ಯದ ನೀತಿಗಳು ಮತ್ತು ನಿಬಂಧನೆಗಳನ್ನು ಆತುರದಿಂದ ಉಲ್ಲೇಖಿಸುತ್ತದೆ ಇಲ್ಲಿಯವರೆಗೆ ನಮಗೆ ತಿಳಿದಿರುವುದು ಮತ್ತು ಹೇಗೆ ಇದು ಉದ್ಯೋಗದಾತರ ಮೇಲೆ ಪರಿಣಾಮ ಬೀರಬಹುದು ಆರೋಗ್ಯ ಇಲಾಖೆಯ ಇತ್ತೀಚಿನ ಮಾಹಿತಿಯ ಪ್ರಕಾರ ಈ ವಾರದ ಆರಂಭದಲ್ಲಿ ಇನ್ನೂ ನಾಲ್ಕು ರೋಗಿಗಳು ವೈರಸ್ ಗೆ ಧನಾತ್ಮಕ ಪರೀಕ್ಷೆ ನಡೆಸಿದ ನಂತರ ಯುಕೆಯಲ್ಲಿ ಪ್ರಕರಣಗಳು ದೃ ಪಟ್ಟಿದೆ ಎಂದು ವರದಿಗಳು ಬಹಿರಂಗಪಡಿಸಿದ್ದು ಗೋಲ್ಡ್ಮನ್ ಸ್ಯಾಚ್ಸ್ ಮತ್ತು ಸ್ಟ್ಯಾಂಡರ್ಡ್ ಚಾರ್ಟರ್ಡ್ ಸೇರಿದಂತೆ ಹಲವಾರು ಉದ್ಯೋಗದಾತರು ಹೇಳಿದ್ದಾರೆ ನಗರ ಕಾರ್ಮಿಕರಲ್ಲಿ ವೈರಸ್ ಹರಡುವುದನ್ನು ತಪ್ಪಿಸಲು ಅವರು ಮನೆಯಲ್ಲಿಯೇ ಇರಬೇಕು ಎಂದು ಲಂಡನ್ ಮೂಲದ ಸಿಬ್ಬಂದಿ ಸಿಟಿಗ್ರೂಪ್ ಮತ್ತು ಡಾಯ್ಚ ಬ್ಯಾಂಕ್ ಸೇರಿದಂತೆ ಹಣಕಾಸು ಸೇವಾ ವಲಯದ ಇತರ ಉದ್ಯೋಗದಾತರು ಇಟಲಿಗೆ ನೌಕರರ ಪ್ರಯಾಣವನ್ನು ನಿರ್ಬಂಧಿಸಿದ್ದಾರೆ ಅಲ್ಲಿ ವೈರಸ್ ಹರಡುವಿಕೆ ಹರಡಬಹುದೆಂಬ ಭಯದಿಂದ ಎಕ್ಸ್ಪರ್ಟ್ಹೆಚ್ಆರ್ ಫ್ಲೂ ಸಾಂಕ್ರಾಮಿಕ ಆಕಸ್ಮಿಕ ಯೋಜನೆಯಲ್ಲಿ ಸಾರಾ ಇವಾನ್ಸ್ ಎಮ್ ಒಳಗೊಂಡಿರಬಹುದು ಉದ್ಯೋಗಿಗಳ ಎಲ್ಲಾ ಸಂವಹನವು ಸ್ಪಷ್ಟವಾಗಿದೆ ಮತ್ತು ಕಾರ್ಮಿಕರ ಅನುಪಸ್ಥಿತಿಯಲ್ಲಿ ಆಕಸ್ಮಿಕ ಯೋಜನೆಗಳೊಂದಿಗೆ ಪರಿಗಣಿಸಲಾಗಿದೆಯೆ ಎಂದು ಖಚಿತಪಡಿಸಿಕೊಳ್ಳಲು ಈ ಸನ್ನಿವೇಶವು ಆರೋಗ್ಯ ಮತ್ತು ಸುರಕ್ಷತಾ ನೀತಿಗಳನ್ನು ಎಚ್ಚರಿಕೆಯಿಂದ ನೋಡಬೇಕಾದರೆ ಎಚ್ ಆರ್ ಇಲಾಖೆಗಳು ಈ ಸಮಯವನ್ನು ಯೋಜಿಸಲು ಮುಂದಾಗಬೇಕೆಂದು ಜೆಎಂಡಬ್ಲ್ಯು ಸಾಲಿಸಿಟರ್ಸ್ ನ ಉದ್ಯೋಗ ಕಾನೂನು ಪಾಲುದಾರ ಹೇಳುತ್ತಾರೆ ಮಾರಣಾಂತಿಕ ಕರೋನವೈರಸ್ ಏಕಾಏಕಿ ಕೇಂದ್ರಬಿಂದುವಾಗಿರುವ ವುಹಾನ್ ಗೆ ಭಾರತದ ವೈದ್ಯಕೀಯ ನೆರವು ನೀಡಿದ ಬಗ್ಗೆ ಕೃತಜ್ಞತೆ ವ್ಯಕ್ತಪಡಿಸಿದ ಚೀನಾದ ಭಾರತದ ರಾಯಭಾರಿ ಸನ್ ವೀಡಾಂಗ್ ಗುರುವಾರ ಈ ಪ್ರಯತ್ನವು ಎರಡು ನೆರೆಹೊರೆಯವರ ನಡುವಿನ ಒಗ್ಗಟ್ಟಿನ ಮತ್ತು ಸ್ನೇಹದ ಪ್ರತಿಬಿಂಬವಾಗಿದೆ ಎಂದು ವಿದೇಶಾಂಗ ವ್ಯವಹಾರಗಳ ಸಚಿವಾಲಯ ಹೇಳಿದೆ ಕರೋನವೈರಸ್ನಲ್ಲಿ ಬಂದಿಳಿದ ಮುಖವಾಡ ಕೈಗವಸುಗಳು ಮತ್ತು ಇತರ ತುರ್ತು ವೈದ್ಯಕೀಯ ಉಪಕರಣಗಳನ್ನು ಒಳಗೊಂಡ ಸುಮಾರು ಟನ್ ವೈದ್ಯಕೀಯ ಸಹಾಯವನ್ನು ಹೊತ್ತೊಯ್ಯುವ ಐಎಎಫ್ ವಿಶೇಷ ವಿಮಾನವು ಬುಧವಾರ ಚೀನಾದ ನಗರವಾದ ವುಹಾನ್ಗೆ ಅಪ್ಪಳಿಸಿತು ಈ ಸೋಂಕಿನ ಏಕಾಏಕಿ ನಿಯಂತ್ರಿಸಲು ಚೀನಾದ ಪ್ರಯತ್ನಗಳನ್ನು ಹೆಚ್ಚಿಸಲು ವೈದ್ಯಕೀಯ ಸರಬರಾಜು ಸಹಾಯ ಮಾಡುತ್ತದೆ ದೇಶದಲ್ಲಿ ಕ್ಕೂ ಹೆಚ್ಚು ಜನರು ವಾಸಿಸುತ್ತಿದ್ದಾರೆ ಮತ್ತು ಇದನ್ನು ವಿಶ್ವ ಆರೋಗ್ಯ ಸಂಸ್ಥೆ ಡಬ್ಲ್ಯುಎಚ್ ಒ ಸಾರ್ವಜನಿಕ ಆರೋಗ್ಯ ತುರ್ತುಸ್ಥಿತಿ ಎಂದು ಘೋಷಿಸಿದೆ ಚೀನಾದಲ್ಲಿ ಕೊರೊನಾವೈರಸ್ ಕೋವಿಡ್ ಏಕಾಏಕಿ ಮತ್ತು ಮುಖವಾಡಗಳು ಮತ್ತು ವೈದ್ಯಕೀಯ ಉಪಕರಣಗಳಂತಹ ಸರಬರಾಜುಗಳನ್ನು ಒದಗಿಸುವಂತೆ ಚೀನಾ ಕೋರಿಕೆಯ ಹಿನ್ನೆಲೆಯಲ್ಲಿ ಈ ನೆರವು ನೀಡಲಾಗಿದೆ ಪರಿಹಾರದ ಜೊತೆಗೆ ಈ ಹಿಂದೆ ಬಿಡುಗಡೆ ಮಾಡಿದ ಹೇಳಿಕೆಯಲ್ಲಿ ಸಚಿವಾಲಯ ಹೇಳಿದೆ ಐಎಎಫ್ ವಿಶೇಷ ಹಾರಾಟವು ನವದೆಹಲಿಯ ನೆರೆಹೊರೆಯ ಮೊದಲ ನೀತಿಗೆ ಅನುಗುಣವಾಗಿ ಭಾರತಕ್ಕೆ ಪ್ರಯಾಣಿಸಲು ನೆರವು ಕೋರಿದ ಕೆಲವು ನೆರೆಯ ರಾಷ್ಟ್ರಗಳ ಭಾರತೀಯ ಮತ್ತು ವಿದೇಶಿ ಪ್ರಜೆಗಳನ್ನು ಮರಳಿ ಕರೆತಂದಿತು ಕರೋನವೈರಸ್ ನಿಂದ ಚೇತರಿಸಿಕೊಂಡ ನಂತರ ಇತ್ತೀಚೆಗೆ ಆಸ್ಪತ್ರೆಯಿಂದ ಬಿಡುಗಡೆಯಾದ ಜಪಾನ್ ನ ಟೂರ್ ಗೈಡ್ ವರದಿಗಳ ಪ್ರಕಾರ ಮತ್ತೆ ಧನಾತ್ಮಕತೆಯನ್ನು ಪರೀಕ್ಷಿಸಿದೆ ತನ್ನ ರ ಹರೆಯದ ಒಸಾಕಾ ಮಹಿಳೆ ಚೀನಾದ ಕೇಂದ್ರಕೇಂದ್ರ ನಗರವಾದ ವುಹಾನ್ ನ ಪ್ರವಾಸಿಗರೊಂದಿಗೆ ಬಸ್ ನಲ್ಲಿ ಕೆಲಸ ಮಾಡುತ್ತಿದ್ದಾಗ ದೃ ಪಟ್ಟಾಗ ಜನವರಿ ರಂದು ಅನಾರೋಗ್ಯದಿಂದ ಸೋಂಕಿಗೆ ಒಳಗಾಗಿದ್ದಾರೆ ಎಂದು ಒಜೆಕಾದ ಅಧಿಕಾರಿಯೊಬ್ಬರು ಹೇಳಿದ್ದಾರೆ ಜಪಾನ್ ನಲ್ಲಿ ಗೆ ಧನಾತ್ಮಕ ಪರೀಕ್ಷೆ ನಡೆಸಿದ ವ್ಯಕ್ತಿಯಲ್ಲಿ ಈ ಪ್ರಕರಣವು ಮೊದಲನೆಯದು ಎಂದು ಸ್ಪಷ್ಟಪಡಿಸಲಾಗಿದೆ ಇದನ್ನು ತೆರವುಗೊಳಿಸಿದ ನಂತರ ಎರಡನೇ ಸಕಾರಾತ್ಮಕ ಪರೀಕ್ಷೆಗಳ ಪ್ರಕರಣಗಳು ಈಗಾಗಲೇ ಚೀನಾದಲ್ಲಿ ವರದಿಯಾಗಿದೆ ರಾಯಿಟರ್ಸ್ಗೆ ಜಪಾನ್ನಲ್ಲಿ ಒಟ್ಟು ಏಳು ಜನರು ಅನಾರೋಗ್ಯದಿಂದ ಸಾವನ್ನಪ್ಪಿದ್ದಾರೆ ರಾಯಿಟರ್ಸ್ ಪ್ರಕಾರ ಡೈಮಂಡ್ ಪ್ರಿನ್ಸೆಸ್ ಕ್ರೂಸ್ ಹಡಗಿನಲ್ಲಿದ್ದ ನಾಲ್ವರು ಸೇರಿದಂತೆ ಕರೋನವೈರಸ್ ಕಳವಳಗಳ ನಡುವೆಯೂ ಮುಂದುವರಿಯಲು ಎಫ್ ರ ಆಸ್ಟ್ರೇಲಿಯನ್ ಜಿಪಿ ಸಚಿವರು ಹೇಳುತ್ತಾರೆ ನ್ಯೂಸ್ ಮಾರ್ಪಡಿಸಲಾಗಿದೆ ಫೆಬ್ರವರಿ ಐಎಸ್ಟಿ ಮೆಲ್ಬೋರ್ನ್ ನ ಆಲ್ಬರ್ಟ್ ಪಾರ್ಕ್ ನಲ್ಲಿ ಫೆರಾರಿಯ ಸೆಬಾಸ್ಟಿಯನ್ ವೆಟ್ಟೆಲ್ ರೇಸಿಂಗ್ ಫಾರ್ಮುಲಾ ಒಂದು ತುವಿನ ಆರಂಭಿಕ ಆಸ್ಟ್ರೇಲಿಯಾದ ಗ್ರ್ಯಾಂಡ್ ಪ್ರಿಕ್ಸ್ ಪ್ರಾರಂಭವಾಗಲಿದೆ ಎಂದು ಕೊರೊನಾವೈರಸ್ ಕಳವಳಗಳ ಹೊರತಾಗಿಯೂ ವಿಕ್ಟೋರಿಯಾ ಸರ್ಕಾರ ದೃ ಪಡಿಸಿದೆ ಚೀನಾದಲ್ಲಿ ಹುಟ್ಟಿದ ಮತ್ತು ಶಾಂಘೈನಲ್ಲಿ ಏಪ್ರಿಲ್ ಓಟವನ್ನು ಮುಂದೂಡಲು ಕಾರಣವಾದ ಜಾಗತಿಕ ಏಕಾಏಕಿ ಆರಂಭಿಕ ಗ್ರಾಂಡ್ಸ್ ಪ್ರಿಕ್ಸ್ ಅನ್ನು ಪ್ರದರ್ಶಿಸುವ ಸೂಕ್ತತೆಯ ಬಗ್ಗೆ ಹಾಪೋಹಗಳಿಗೆ ಪ್ರೇರೇಪಿಸಿದೆ ಅದರಲ್ಲಿ ಮೊದಲನೆಯದು ಮಾರ್ಚ್ ರಂದು ಮೆಲ್ಬೋರ್ನ್ನಲ್ಲಿ ನಡೆಯಲಿದೆ ಮೆಲ್ಬೋರ್ನ್ ಏಕೈಕ ನಗರ ಫಾರ್ಮುಲಾ ಒನ್ ರೇಸ್ ಮತ್ತು ಗ್ರ್ಯಾಂಡ್ ಸ್ಲ್ಯಾಮ್ ಟೆನಿಸ್ ಪಂದ್ಯಾವಳಿಯನ್ನು ಆಯೋಜಿಸುವ ಜಗತ್ತು ಮತ್ತು ಮಾರ್ಚ್ ರಂದು ಆಲ್ಬರ್ಟ್ ಪಾರ್ಕ್ ನಲ್ಲಿ ವರ್ಷಗಳನ್ನು ಆಚರಿಸುವ ಗ್ರ್ಯಾಂಡ್ ಪ್ರಿಕ್ಸ್ ಗಾಗಿ ನಾವು ಎದುರು ನೋಡುತ್ತಿದ್ದೇವೆ ಮುಂದಿನ ವಾರಾಂತ್ಯದಲ್ಲಿ ಪಕುಲಾ ಎಫ್ ಬಹ್ರೇನ್ ಗೆ ತೆರಳಲಿದ್ದು ಉದ್ಘಾಟನಾ ವಿಯೆಟ್ನಾಂ ಗ್ರ್ಯಾಂಡ್ ಪ್ರಿಕ್ಸ್ ಕ್ಯಾಲೆಂಡರ್ ನಲ್ಲಿ ಮೂರನೇ ಸ್ಥಾನದಲ್ಲಿದೆ ವಿಯೆಟ್ನಾಂ ಗ್ರ್ಯಾಂಡ್ ಪ್ರಿಕ್ಸ್ ಏಪ್ರಿಲ್ ರಂದು ಹನೋಯಿಯಲ್ಲಿ ನಡೆಯಲಿದೆ ಮತ್ತು ಇನ್ನೊಂದು ಪ್ರಶ್ನೆಯನ್ನು ನಿರೀಕ್ಷಿಸಲು ನಾವು ಮುಂದುವರಿಯಲು ಯೋಜಿಸುತ್ತೇವೆ ಈ ವಾರ ಕಾನ್ಫರೆನ್ಸ್ ಕರೆಯ ಸಂದರ್ಭದಲ್ಲಿ ಅವರು ಹೇಳಿದರು ಕಾದಂಬರಿ ಕರೋನವೈರಸ್ ಗಾಗಿ ಪ್ರಯಾಣಿಕರನ್ನು ಪರೀಕ್ಷಿಸುವ ವ್ಯವಸ್ಥೆಗಳನ್ನು ಪರಿಶೀಲಿಸಲು ಗುರುವಾರ ಗೋವಾದ ಪನಾಜಿ ಬಳಿಯ ದಬೋಲಿಮ್ ಅಂತರಾಷ್ಟ್ರೀಯ ವಿಮಾನ ನಿಲ್ದಾಣದಲ್ಲಿ ಉನ್ನತ ಮಟ್ಟದ ಸಭೆ ನಡೆಸಲಾಯಿತು ಗೋವಾ ಆರೋಗ್ಯ ಸಚಿವ ವಿಶ್ವಜಿತ್ ರಾಣೆ ಅಧ್ಯಕ್ಷತೆ ವಹಿಸಿದ್ದ ಸಭೆಯಲ್ಲಿ ಕೇಂದ್ರ ಆರೋಗ್ಯ ಸಚಿವಾಲಯದ ಜಂಟಿ ಕಾರ್ಯದರ್ಶಿ ಅಲೋಕ್ ಭಾಗವಹಿಸಿದ್ದರು ಸಕ್ಸೇನಾ ಜೊತೆಗೆ ಭಾರತದ ವಿಮಾನ ನಿಲ್ದಾಣ ಪ್ರಾಧಿಕಾರ ಮತ್ತು ರಾಜ್ಯ ಆರೋಗ್ಯ ಇಲಾಖೆಯ ಅಧಿಕಾರಿಗಳೊಂದಿಗೆ ನಾವು ಎಲ್ಲಾ ಪ್ರಯಾಣಿಕರನ್ನು ಪರೀಕ್ಷಿಸಲಾಗಿದೆಯೆ ಎಂದು ಖಚಿತಪಡಿಸಿಕೊಳ್ಳುತ್ತೇವೆ ಮತ್ತು ಶಂಕಿತ ಪ್ರಕರಣಗಳನ್ನು ಗುರುತಿಸಲಾಗಿದೆ ಎಂದು ಶ್ರೀ ರಾಣೆ ಸಭೆಯ ನಂತರ ಸುದ್ದಿಗಾರರಿಗೆ ತಿಳಿಸಿದರು ವಿಮಾನ ನಿಲ್ದಾಣದಲ್ಲಿ ಅಗತ್ಯ ವ್ಯವಸ್ಥೆಗಳು ಜಾರಿಯಲ್ಲಿವೆ ಇದರಿಂದಾಗಿ ರಾಜ್ಯದ ಜನರು ಬಗ್ಗೆ ಜಾಗೃತಿ ಮೂಡಿಸಲಾಗುತ್ತಿದೆ ಎಂದು ಅವರು ಹೇಳಿದರು ಸುದ್ದಿಗಾರರೊಂದಿಗೆ ಮಾತನಾಡಿದ ಶ್ರೀ ಸಕ್ಸೇನಾ ಎಲ್ಲಾ ರಾಜ್ಯಗಳ ಸರ್ಕಾರಗಳು ನೀಡಿದ ಸಹಕಾರವು ದೇಶದಲ್ಲಿ ಮಾರಕ ವೈರಸ್ ಹರಡುವುದನ್ನು ತಡೆಯಲು ಸಹಾಯ ಮಾಡಿದೆ ಎಂದು ಹೇಳಿದರು ಜಪಾನ್ ನ ಪ್ರಧಾನ ಮಂತ್ರಿ ಶಿಂಜೊ ಅಬೆ ಮುಂದಿನ ಸೋಮವಾರದಿಂದ ಏಪ್ರಿಲ್ ನಲ್ಲಿ ವಸಂತಕಾಲದ ವಿರಾಮದ ಅಂತ್ಯದವರೆಗೆ ಎಲ್ಲಾ ಸಾರ್ವಜನಿಕ ಶಾಲೆಗಳನ್ನು ಮುಚ್ಚಬೇಕೆಂದು ಕರೆ ನೀಡಿದ್ದಾರೆ ಏಕೆಂದರೆ ಚೀನಾದ ಹೊರಗಿನ ವೈರಸ್ ನ ಹೊಸ ಸೋಂಕುಗಳು ಚೀನಾದಲ್ಲಿರುವುದಕ್ಕಿಂತ ಹೆಚ್ಚಿನದಾಗಿದೆ ಒಟ್ಟಾರೆಯಾಗಿ ದೇಶಗಳು ಅಥವಾ ಪ್ರಾಂತ್ಯಗಳು ದಕ್ಷಿಣ ವೈರಸ್ ಪ್ರಕರಣಗಳನ್ನು ದೃ ಪಡಿಸಿವೆ ಕೊರಿಯಾ ಮತ್ತೆ ಸೋಂಕಿನಲ್ಲಿ ತನ್ನ ಅತಿದೊಡ್ಡ ಏಕದಿನ ಜಿಗಿತವನ್ನು ಕಂಡಿದೆ ಮತ್ತು ವೈರಸ್ ನ ಭೀತಿಯಿಂದಾಗಿ ಸೌದಿ ಅರೇಬಿಯಾ ಧಾರ್ಮಿಕ ಯಾತ್ರಾ ಸ್ಥಳಗಳಿಗೆ ಪ್ರಯಾಣಿಸುವುದನ್ನು ನಿಲ್ಲಿಸಿದೆ ಯುರೋಪಿನಲ್ಲಿ ಇಟಲಿಯ ಏಕಾಏಕಿ ಹದಗೆಟ್ಟಿದೆ ಮತ್ತು ರೊಮೇನಿಯಾ ಡೆನ್ಮಾರ್ಕ್ ಮತ್ತು ಎಸ್ಟೋನಿಯಾ ಪ್ರಕರಣಗಳನ್ನು ದೃ ೀಕರಿಸುವ ಇತ್ತೀಚಿನ ದೇಶಗಳು ಸಾಂಕ್ರಾಮಿಕ ರೋಗವನ್ನು ನಿವಾರಿಸಲು ಹೋರಾಡುತ್ತಿದ್ದಾರೆ ಈ ಪ್ರಬಲ ಹೂಡಿಕೆ ಅಂಕಿಅಂಶವು ನಿಮ್ಮ ಪೋರ್ಟ್ಫೋಲಿಯೊ ಬಗ್ಗೆ ಹೆಚ್ಚು ಉತ್ತಮ ಭಾವನೆ ಮೂಡಿಸುತ್ತದೆ ಇದೀಗ ವಾಲ್ ಸ್ಟ್ರೀಟ್ ನಲ್ಲಿ ಸಾಕಷ್ಟು ಭೀತಿ ಇದೆ ಆದರೆ ಸ್ಟಾಕ್ ಮಾರುಕಟ್ಟೆಯ ಚಂಚಲತೆ ಹೆಚ್ಚಾದಂತೆ ದೀರ್ಘಾವಧಿಯ ಹೂಡಿಕೆದಾರರಿಗೆ ನೆಮ್ಮದಿಯ ನಿಟ್ಟುಸಿರು ಬಿಡಲು ಅವಕಾಶ ನೀಡುವ ಒಂದು ನಿಜವಾಗಿಯೂ ಶಕ್ತಿಯುತ ಹೂಡಿಕೆ ಅಂಕಿಅಂಶವೂ ಇದೆ ಅಲ್ಪಾವಧಿಯಲ್ಲಿ ಏರಿಕೆಯಾದ ನಂತರವೂ ಸ್ಟಾಕ್ ಮಾರುಕಟ್ಟೆಯನ್ನು ಸೋಲಿಸಿದ ನಂತರವೂ ಎಸ್ ಪಿಡಿಆರ್ ಎಸ್ ಪಿ ಇಟಿಎಫ್ ಟ್ರಸ್ಟ್ ಅನ್ನು ಖರೀದಿಸಿದ ಹೆಚ್ಚಿನ ಹೂಡಿಕೆದಾರರು ವಹಿವಾಟಿನ ದಿನಗಳಲ್ಲಿ ವಹಿವಾಟಿನ ದಿನಗಳಲ್ಲಿ ಲಾಭಾಂಶವನ್ನು ಒಳಗೊಂಡಿರುತ್ತಾರೆ ಮಾರುಕಟ್ಟೆ ತಿದ್ದುಪಡಿಗಳು ಯಾವಾಗಲೂ ಕೊಳ್ಳುವ ಅವಕಾಶವಾಗಿದೆ ಮತ್ತು ಎಸ್ ಪಿಡಿಆರ್ ಎಸ್ ಪಿ ಇಟಿಎಫ್ ಟ್ರಸ್ಟ್ ನ ಚೊಚ್ಚಲ ಪ್ರವೇಶಕ್ಕಿಂತಲೂ ನಾವು ಇನ್ನೂ ಹಿಂದಕ್ಕೆ ಹೋದರೆ ಅದು ನಿಜವಾಗಿದೆ ರ ಆರಂಭದಿಂದ ಎಸ್ ಪಿ ರಲ್ಲಿ ನಿಜವಾದ ಷೇರು ಮಾರುಕಟ್ಟೆ ತಿದ್ದುಪಡಿಗಳು ನಡೆದಿವೆ ರೌಂಡಿಂಗ್ ಅಥವಾ ಪ್ರತಿ ವರ್ಷಗಳಿಗೊಮ್ಮೆ ಒಳಗೊಂಡಿರದ ಇತ್ತೀಚಿನ ಗರಿಷ್ಠದಿಂದ ಕನಿಷ್ಠ ನಿಮ್ಮ ಕೆಲಸದಲ್ಲಿ ಕೆಲವು ಹಣವನ್ನು ಇಡುವುದನ್ನು ಪರಿಗಣಿಸಲು ನಿಮಗೆ ಕೊನೆಯ ಪೆಪ್ ಟಾಕ್ ಅಗತ್ಯವಿದೆಯೇ ಇ ಸ್ಟಾಕ್ ಮಾರುಕಟ್ಟೆ ಇದೀಗ ಪರಿಗಣಿಸಬೇಕಾದ ಇನ್ನೊಂದು ವಿಷಯವೆಂದರೆ ಈ ಶತಮಾನದ ಪ್ರತಿಯೊಂದು ತೀವ್ರವಾದ ಸಾಂಕ್ರಾಮಿಕ ಬೆದರಿಕೆಗಳಾದ ತೀವ್ರವಾದ ತೀವ್ರ ಉಸಿರಾಟದ ಸಿಂಡ್ರೋಮ್ ಎಸ್ಎಆರ್ಎಸ್ ಮಧ್ಯಪ್ರಾಚ್ಯ ಉಸಿರಾಟದ ಸಿಂಡ್ರೋಮ್ ಮರ್ಸ್ ಎಬೋಲಾ ಮತ್ತು ಏವಿಯನ್ ಫ್ಲೂ ತಾತ್ಕಾಲಿಕವಾಗಿ ಮತ್ತು ರ ನಡುವೆ ಸ್ಟಾಕ್ ಮಾರುಕಟ್ಟೆಗಳ ಮೌಲ್ಯವನ್ನು ತುಲನಾತ್ಮಕವಾಗಿ ಅಳಿಸಿಹಾಕಿದೆ ಆಗಾಗ್ಗೆ ವಾರಗಳಿಂದ ಕೆಲವು ತಿಂಗಳುಗಳವರೆಗೆ ಮೂಳೆಗಳಿಲ್ಲದ ಕೋಳಿ ಸ್ತನ ಮಾಂಸದ ಮಾರುಕಟ್ಟೆ ಬೆಲೆಗಳು ದಾಖಲೆಯ ಕನಿಷ್ಠ ಮಟ್ಟಕ್ಕೆ ಇಳಿದಿದ್ದರಿಂದ ಎಸ್ ಎಫ್ ಎಂ ಗುರುವಾರ ಹಣಕಾಸಿನ ಮೊದಲ ತ್ರೈಮಾಸಿಕದ ನಷ್ಟವನ್ನು ವರದಿ ಮಾಡಿದೆ ಆದರೆ ಆದಾಯವು ಮುನ್ಸೂಚನೆಗಿಂತ ಹೆಚ್ಚಾಗಿದೆ ಕೋಳಿ ಮಾಂಸ ಉತ್ಪಾದಕರ ಸ್ಟಾಕ್ ಇನ್ನೂ ಮಾರುಕಟ್ಟೆ ವ್ಯಾಪಾರದಲ್ಲಿ ನಿಷ್ಕ್ರಿಯವಾಗಿದೆ ಒಟ್ಟಾರೆ ಮಾರುಕಟ್ಟೆ ಬೆಲೆಗಳು ಮೂಳೆಗಳಿಲ್ಲದ ಸ್ತನ ಮಾಂಸದ ಬೆಲೆಗಳು ರಷ್ಟು ಕುಸಿದಿದ್ದರಿಂದ ಕೋಳಿ ಉತ್ಪನ್ನಗಳು ಕುಸಿಯಿತು ಮತ್ತು ಸಂಸ್ಕರಿಸಿದ ಕೋಳಿ ಉತ್ಪನ್ನಗಳ ಪ್ರತಿ ಪೌಂಡ್ ಗೆ ಸರಾಸರಿ ಫೀಡ್ ವೆಚ್ಚ ಹೆಚ್ಚಾಗಿದೆ ಚೀನಾದಲ್ಲಿ ಆಫ್ರಿಕನ್ ಹಂದಿ ಜ್ವರ ಹರಡುವುದರಿಂದ ಜಾಗತಿಕವಾಗಿ ಹಂದಿಮಾಂಸದ ಪೂರೈಕೆಯನ್ನು ಕಡಿಮೆಗೊಳಿಸಿದೆ ಎಂದು ಕೋಳಿ ಉತ್ಪನ್ನ ಹೇಳಿದೆ ಯು ಎಸ್ ನಲ್ಲಿ ಮಾರುಕಟ್ಟೆ ಮತ್ತು ರ ಕೊನೆಯಲ್ಲಿ ಚೀನಾ ನಿಮ್ಮ ಎಸ್ ಚಿಕನ್ ಆಮದಿನ ಮೇಲಿನ ನಿಷೇಧವನ್ನು ತೆಗೆದುಹಾಕಿದಾಗಿನಿಂದ ಕಂಪನಿಯು ಸುಮಾರು ಮಿಲಿಯನ್ ಪೌಂಡ್ ಕೋಳಿ ಉತ್ಪನ್ನಗಳಿಗೆ ಚೀನಾ ಗ್ರಾಹಕರಿಂದ ಆದೇಶಗಳನ್ನು ಸ್ವೀಕರಿಸಿದೆ ಆದರೆ ಕಂಪನಿಯು ಕೋವಿಡ್ ವೈರಸ್ ಈಗ ಅಡ್ಡಿಪಡಿಸುತ್ತಿದೆ ಎಂದು ಹೇಳಿದರು ಮಾರುಕಟ್ಟೆಗಳು ಬೇಡಿಕೆಯನ್ನು ಕುಗ್ಗಿಸುವ ಹಡಗು ಮತ್ತು ಪೂರೈಕೆ ಸರಪಳಿ ಲಾಜಿಸ್ಟಿಕ್ಸ್ ಮತ್ತು ಚೀನಾದ ಆರ್ಥಿಕ ಬೆಳವಣಿಗೆಯ ದರವನ್ನು ನಿಧಾನಗೊಳಿಸುತ್ತದೆ ಅನಾರೋಗ್ಯದ ಕಾರಣ ಪೋಪ್ ಫ್ರಾನ್ಸಿಸ್ ರೋಮ್ ಪಾದ್ರಿಗಳೊಂದಿಗೆ ಯೋಜಿತ ಮಾಸ್ ಅನ್ನು ತಪ್ಪಿಸಿಕೊಂಡಿದ್ದಾನೆ ಫ್ರಾನ್ಸಿಸ್ ಸೇಂಟ್ ಜಾನ್ ಲ್ಯಾಟೆರನ್ ಬೆಸಿಲಿಕಾಕ್ಕೆ ರೋಮ್ ಪಾದ್ರಿಗಳನ್ನು ಭೇಟಿಯಾಗಲು ಮತ್ತು ಪ್ರಾಯಶ್ಚಿತ್ತ ಮಾಸ್ ಅನ್ನು ಆಚರಿಸಲು ನಿರ್ಧರಿಸಲಾಗಿತ್ತು ಲೆಂಟ್ ಫ್ರಾನ್ಸಿಸ್ ರೋಮ್ನ ಬಿಷಪ್ ಆದರೆ ದಿನವನ್ನು ಪ್ರತಿನಿಧಿಸುತ್ತಾನೆ ಫ್ರಾನ್ಸಿಸ್ಗೆ ಆರ್ಚ್ಡಯಸೀಸ್ನ ದಿನದ ಓಟವು ಇತ್ತೀಚೆಗೆ ತನ್ನ ಸಾರ್ವಜನಿಕ ಸಾಮಾನ್ಯ ಪ್ರೇಕ್ಷಕರನ್ನು ಮತ್ತು ರೋಮನ್ ಬೆಸಿಲಿಕಾದಲ್ಲಿ ಆಶ್ ಬುಧವಾರದ ಸೇವೆಯನ್ನು ಒಳಗೊಂಡಂತೆ ಬಿಡುವಿಲ್ಲದ ವೇಳಾಪಟ್ಟಿಯನ್ನು ಹೊಂದಿದೆ ಪ್ರೇಕ್ಷಕರ ಸಮಯದಲ್ಲಿ ಫ್ರಾನ್ಸಿಸ್ ನಂಬಿಗಸ್ತರೊಂದಿಗೆ ಕೈಕುಲುಕಲು ಒಂದು ವಿಷಯವನ್ನು ತಿಳಿಸಿದರು ಮುಂದಿನ ಸಾಲು ಸೇಂಟ್ ಪೀಟರ್ಸ್ ಸ್ಕ್ವೇರ್ ಮೂಲಕ ಪೋಪ್ಮೊಬೈಲ್ ಸವಾರಿಯಲ್ಲಿ ಮಗುವನ್ನು ಚುಂಬಿಸಿತು ಮತ್ತು ಕೊನೆಯಲ್ಲಿ ಭೇಟಿ ನೀಡುವ ಬಿಷಪ್ಗಳನ್ನು ಸ್ವಾಗತಿಸಿತು ಟೋಕಿಯೊ ಫೆಬ್ರವರಿ ಜಿಜಿ ಪ್ರೆಸ್ ಜಪಾನ್ ನ ಸ್ಥಳೀಯ ಸರ್ಕಾರಗಳು ಹೊಸ ಕರೋನವೈರಸ್ ಹರಡುವಿಕೆಗೆ ಅನುಗುಣವಾಗಿ ಅಂಗಡಿಗಳಲ್ಲಿ ಈ ವಸ್ತುಗಳು ಮಾರಾಟವಾಗುತ್ತಿರುವ ಸಮಯದಲ್ಲಿ ತಮ್ಮ ಮುಖದ ಮುಖವಾಡಗಳು ಮತ್ತು ಸೋಂಕುನಿವಾರಕಗಳನ್ನು ಅಂತರ್ಜಾಲದಲ್ಲಿ ತಯಾರಿಸುವ ಮಾರ್ಗಗಳನ್ನು ನಿವಾಸಿಗಳಿಗೆ ಪರಿಚಯಿಸುತ್ತಿವೆ ವಿಶೇಷವಾಗಿ ಮುಖವಾಡದ ಕೊರತೆಯ ಬಗ್ಗೆ ನಿವಾಸಿಗಳಿಂದ ಬಂದ ದೂರುಗಳಿಂದ ಬಾಂಬ್ ದಾಳಿ ನಡೆಸಲಾಗಿದೆ ಓಯಿಟಾ ನೈ ತ್ಯ ಜಪಾನ್ ನ ಪ್ರಿಫೆಕ್ಚರಲ್ ಸರ್ಕಾರದ ಆರೋಗ್ಯ ಪ್ರಚಾರ ಬೆಂಬಲ ವಿಭಾಗವು ಫೆಬ್ರವರಿ ಆರಂಭದಲ್ಲಿ ತನ್ನ ವೆಬ್ ಸೈಟ್ ನಲ್ಲಿ ಪೋಸ್ಟ್ ಮಾಡುವ ವಿಧಾನಗಳನ್ನು ಪ್ರಕಟಿಸಿದೆ ರಲ್ಲಿ ಹೊಸ ರೀತಿಯ ಇನ್ಫ್ಲುಯೆನ್ಸ ಏಕಾಏಕಿ ಸಂಭವಿಸಿದಾಗ ಓಯಿಟಾ ಸರ್ಕಾರವು ಇದೇ ರೀತಿಯ ಸೂಚನೆಗಳನ್ನು ನೀಡಿತು ಇದು ಮುಖವಾಡದ ಕೊರತೆಗೆ ಕಾರಣವಾಯಿತು ಹೊಸ ಜ್ವರದಿಂದ ನಮ್ಮ ಅನುಭವವನ್ನು ನಾವು ಚೆನ್ನಾಗಿ ಬಳಸಿಕೊಂಡಿದ್ದೇವೆ ಎಂದು ವಿಭಾಗದ ಅಧಿಕಾರಿಯೊಬ್ಬರು ತಿಳಿಸಿದ್ದಾರೆ ಮ್ಯಾರಿಯೊಟ್ ಇಂಟರ್ನ್ಯಾಷನಲ್ ನಾಸ್ಡಾಕ್ ಎಂಎಆರ್ ಕರೋನವೈರಸ್ ಏಕಾಏಕಿ ಮಾಸಿಕ ಶುಲ್ಕ ಆದಾಯಕ್ಕೆ ಎಂ ಹಿಟ್ ನಿರೀಕ್ಷೆಯಿದೆ ಎಂದು ಎಚ್ಚರಿಸಿದ ನಂತರ ಮ್ಯಾರಿಯಟ್ ತನ್ನ ಪೂರ್ಣ ವರ್ಷದ ಲಾಭದ ಮಾರ್ಗದರ್ಶನದಲ್ಲಿ ಕರೋನವೈರಸ್ ಪ್ರಭಾವವನ್ನು ಸೇರಿಸಲಿಲ್ಲ ಅದು ರಿಂದ ಮತ್ತು ಒಮ್ಮತದಲ್ಲಿ ಬಂದಿತು ಬಿ ಯಿಂದ ಬಿ ಯ ಹೊಂದಾಣಿಕೆಯ ಇಬಿಐಟಿಡಿಎ ವಿರುದ್ಧ ಬಿ ಒಮ್ಮತವನ್ನು ನಿರೀಕ್ಷಿಸಲಾಗಿದೆ ಪ್ರತಿಸ್ಪರ್ಧಿ ಸರಬರಾಜುದಾರ ಅರ್ಜೆಂಟೀನಾ ಕೃಷಿ ರಫ್ತುಗಳ ನೋಂದಣಿಯನ್ನು ಸ್ಥಗಿತಗೊಳಿಸಿದೆ ಎಂಬ ಸುದ್ದಿಯಿಂದ ಬೆಂಬಲಿತವಾದ ಒಂದು ದಿನದ ಮುಂಚೆಯೇ ನೀವು ಎಸ್ ಸೋಯಾಬೀನ್ ಸರಾಗಗೊಳಿಸಿದ್ದೀರಿ ಚೀನಾದಲ್ಲಿನ ಕಾಯಿಲೆಯಿಂದ ಉಂಟಾಗುವ ಆರ್ಥಿಕ ಅಡೆತಡೆಗಳು ಚೀನಾದ ಆಮದುಗಳ ವೇಗವನ್ನು ಹೆಚ್ಚಿಸುವ ಭರವಸೆಯನ್ನು ತಣ್ಣಗಾಗಿಸಿದೆ ಬೀಜಿಂಗ್ ಮತ್ತು ವಾಷಿಂಗ್ಟನ್ ನಿಮ್ಮ ಚುರುಕಾದ ರಫ್ತಿನಿಂದ ಗಮನ ಸೆಳೆಯುವಾಗ ಎಸ್ ಕಾರ್ನ್ ಧಾನ್ಯ ಮಾರುಕಟ್ಟೆಗಳು ಸಾಪ್ತಾಹಿಕ ಯು ನಿಂದ ರಫ್ತು ಬೇಡಿಕೆಯ ಸೂಚನೆಯನ್ನು ಪಡೆಯುತ್ತವೆ ಜಿಎಂಟಿ ಚಿಕಾಗೊ ಸೋಯಾಬೀನ್ ಬೆಲೆಗಳನ್ನು ಬುಧವಾರದಂದು ನಿಮ್ಮ ಕೃಷಿ ಇಲಾಖೆಯಿಂದ ಎಸ್ ರಫ್ತು ಮಾರಾಟ ಅಂಕಿಅಂಶಗಳನ್ನು ತೆಗೆದುಹಾಕಲಾಗಿದೆ ಅರ್ಜೆಂಟೀನಾ ಕೃಷಿ ಸಚಿವಾಲಯವು ಕೃಷಿ ರಫ್ತು ನೋಂದಣಿಯನ್ನು ಸ್ಥಗಿತಗೊಳಿಸಿದೆ ಎಂಬ ಸುದ್ದಿಯು ಸಾಲದ ಪೀಡಿತ ದೇಶದಲ್ಲಿ ಧಾನ್ಯ ರಫ್ತು ಸುಂಕದ ಏರಿಕೆಯನ್ನು ಸೂಚಿಸುತ್ತದೆ ಗೋಧಿ ಮಾರುಕಟ್ಟೆಗಳು ಕಪ್ಪು ಸಮುದ್ರದ ಪ್ರದೇಶದಲ್ಲಿ ಅಂತರರಾಷ್ಟ್ರೀಯ ಬೇಡಿಕೆ ಕುಸಿಯುತ್ತಿರುವ ಬೆಲೆಗಳು ಮತ್ತು ವ್ಯತಿರಿಕ್ತ ಸುಗ್ಗಿಯ ನಿರೀಕ್ಷೆಗಳನ್ನು ಉತ್ತರ ಗೋಳಾರ್ಧದಲ್ಲಿ ಬೆರ್ಲಿನ್ ಫೆಬ್ರವರಿ ರಾಯಿಟರ್ಸ್ ಕರೋನವೈರಸ್ ಏಕಾಏಕಿ ತಯಾರಕರ ಮೇಲೆ ಪರಿಣಾಮ ಬೀರುತ್ತಿರುವುದರಿಂದ ಜರ್ಮನಿಯ ಹೊಸ ಕಾರು ನೋಂದಣಿ ರಲ್ಲಿ ಕ್ಕೆ ಇಳಿಯುವ ನಿರೀಕ್ಷೆಯಿದೆ ಮತ್ತು ಅವರ ಪೂರೈಕೆದಾರರ ಆಟೋಮೋಟಿವ್ ಇಂಡಸ್ಟ್ರಿ ಅಸೋಸಿಯೇಷನ್ ವಿಡಿಎ ಗುರುವಾರ ವಿಡಿಎ ಗುರುವಾರ ಚೀನಾದ ವಾಹನ ಮಾರುಕಟ್ಟೆಯ ಮೇಲೆ ಹೆಚ್ಚಿನ ಪರಿಣಾಮ ಬೀರುತ್ತದೆ ಎಂದು ಹೇಳಿದೆ ವಿಡಿಎ ಅಧ್ಯಕ್ಷ ಹಿಲ್ಡೆಗಾರ್ಡ್ ಮುಲ್ಲರ್ ಅವರ ಹಿಂದೆ ನಿರೀಕ್ಷಿತ ಕುಸಿತಕ್ಕೆ ಹೋಲಿಸಿದರೆ ಕರೋನವೈರಸ್ನ ಪರಿಣಾಮಗಳು ಇನ್ನೂ ಸ್ಪಷ್ಟವಾಗಿಲ್ಲ ಆದರೆ ಶೀಘ್ರ ಸುಧಾರಣೆಯನ್ನು ನಿರೀಕ್ಷಿಸಬೇಕಾಗಿಲ್ಲ ಎಂದು ವಿಡಿಎ ಹೇಳಿದೆ ಇದು ಬಿಕ್ಕಟ್ಟಿನ ಕಾರ್ಯಪಡೆ ಸ್ಥಾಪಿಸಿದೆ ಮತ್ತು ಇದು ಕರೋನವೈರಸ್ ಪರಿಸ್ಥಿತಿಯನ್ನು ವಿಶ್ಲೇಷಿಸುತ್ತದೆ ಮತ್ತು ಸಂಭಾವ್ಯ ಪ್ರತಿಕ್ರಿಯೆಗಳನ್ನು ಚರ್ಚಿಸಿ ಮುಲ್ಲರ್ ಅವರು ಮುಂದಿನ ವಾರದ ಜಿನೀವಾ ಆಟೋ ಪ್ರದರ್ಶನಕ್ಕೆ ಸೋಮವಾರ ಪ್ರಯಾಣಿಸಲು ಯೋಜಿಸಿದ್ದಾರೆ ಎಂದು ಹೇಳಿದರು ಸಾರ್ವಜನಿಕ ಜೀವನವು ಮುಂದುವರಿಯಬೇಕು ಎಂದು ಹೇಳಿದರು ಫ್ರಾಂಕ್ ಫರ್ಟ್ ಫೆಬ್ರವರಿ ರಾಯಿಟರ್ಸ್ ಕಾರ್ ತಯಾರಕರು ಮುಂದಿನ ವಾರ ಜಿನೀವಾ ಕಾರು ಪ್ರದರ್ಶನಕ್ಕೆ ಹಾಜರಾಗುವ ಸಿಬ್ಬಂದಿಯನ್ನು ಕಡಿಮೆಗೊಳಿಸುತ್ತಿದ್ದಾರೆ ಏಕೆಂದರೆ ಜಿನೀವಾ ಟೊಯೋಟಾದಲ್ಲಿ ಒಂದು ಸೇರಿದಂತೆ ಮೂರು ಹೊಸ ಕರೋನವೈರಸ್ ಪ್ರಕರಣಗಳನ್ನು ಸ್ವಿಟ್ಜರ್ಲೆಂಡ್ ದೃ ಪಡಿಸಿದೆ ಎಂದು ಗುರುವಾರ ಹೇಳಿದೆ ಜಿನೀವಾ ವಾಚ್ ಮೇಳವನ್ನು ರದ್ದುಪಡಿಸಿದಂತೆಯೇ ಕಾರ್ ಪ್ರದರ್ಶನವು ಮುಂದುವರಿಯುತ್ತದೆ ಮತ್ತು ಸ್ವಿಸ್ ಅಧಿಕಾರಿಗಳು ವರದಿ ಮಾಡಿದಂತೆ ಜಿನೀವಾ ಪ್ರಯಾಣದ ನಿರ್ಬಂಧಗಳಿಗೆ ವೈರಸ್ ಹರಡಿತು ಮತ್ತು ವೈರಸ್ ಹರಡುವ ಭೀತಿ ಈಗಾಗಲೇ ಮೊಬೈಲ್ ಸೇರಿದಂತೆ ಇತರ ವ್ಯಾಪಾರ ಮೇಳಗಳನ್ನು ಮುಂದೂಡಲು ಅಥವಾ ರದ್ದುಗೊಳಿಸಲು ಕಾರಣವಾಗಿದೆ ಬಾರ್ಸಿಲೋನಾದ ಫ್ರಾಂಕ್ ಫರ್ಟ್ ನ ಲೈಟ್ ಬಿಲ್ಡಿಂಗ್ ಫೇರ್ ಮತ್ತು ಬೀಜಿಂಗ್ ಆಟೋ ಶೋನಲ್ಲಿ ನಡೆದ ವಿಶ್ವ ಕಾಂಗ್ರೆಸ್ ಬುಧವಾರ ಫೆರಾರಿಯ ಮುಖ್ಯ ಕಾರ್ಯನಿರ್ವಾಹಕರು ಮತ್ತು ಬ್ರೇಕ್ ತಯಾರಕ ಬ್ರೆಂಬೊ ಅವರು ಇಟಾಲಿಯನ್ ಅಧಿಕಾರಿಗಳು ವಿಧಿಸಿದ ಪ್ರಯಾಣ ನಿರ್ಬಂಧದಿಂದಾಗಿ ಸ್ವಿಸ್ ಕಾರ್ ಪ್ರದರ್ಶನದಲ್ಲಿ ಹಾಜರಾತಿಯನ್ನು ರದ್ದುಗೊಳಿಸಿದ್ದಾರೆ ಎಂದು ತಿಳಿದುಬಂದಿದೆ ಮಾನವನ ಕರೋನವೈರಸ್ ನ ಕೆಲವು ಪ್ರಕಾರಗಳನ್ನು ಒಳಗೊಂಡಂತೆ ಬ್ಯಾಕ್ಟೀರಿಯಾ ಮತ್ತು ಶೀತ ಮತ್ತು ಜ್ವರ ವೈರಸ್ ಗಳನ್ನು ಕೊಲ್ಲಲು ರೂಪಿಸಲಾದ ಹೊಸ ಸಾಲಿನ ಮನೆ ಶುದ್ಧೀಕರಣ ಉತ್ಪನ್ನಗಳನ್ನು ಪ್ರಾಕ್ಟರ್ ಗ್ಯಾಂಬಲ್ ಕೋ ಪ್ರಾರಂಭಿಸಿದೆ ಮೈಕ್ರೋಬನ್ ಉತ್ಪನ್ನಗಳು ಶೀತ ಮತ್ತು ಜ್ವರ ವೈರಸ್ ಸೇರಿದಂತೆ ರೋಗಾಣುಗಳನ್ನು ಕಠಿಣ ಮತ್ತು ಮೃದುವಾದ ಸಂಪರ್ಕದಲ್ಲಿ ಕೊಲ್ಲುತ್ತವೆ ಪಿಜಿ ಪ್ರಕಾರ ಮೇಲ್ಮೈಗಳು ಕರೋನವೈರಸ್ಗಳ ನಿರ್ದಿಷ್ಟ ತಳಿಗಳು ಏಕೆಂದರೆ ವಿವಿಧ ರೀತಿಯ ಕಾಯಿಲೆಗಳು ಪಿಜಿ ಎನ್ವೈಎಸ್ಇ ಪಿಜಿ ವಕ್ತಾರರು ಉತ್ಪನ್ನಗಳು ಮಾರಣಾಂತಿಕ ವಿರುದ್ಧ ಪರಿಣಾಮಕಾರಿಯಾಗುತ್ತದೆಯೇ ಎಂಬುದು ಸ್ಪಷ್ಟವಾಗಿಲ್ಲ ಸೌದಿ ಅರೇಬಿಯಾ ಇಸ್ಲಾಂನ ಪವಿತ್ರ ತಾಣಗಳಿಗೆ ಪ್ರಯಾಣವನ್ನು ಕಡಿತಗೊಳಿಸಿತು ದಕ್ಷಿಣ ಕೊರಿಯಾವು ಲ್ಯಾಟಿನ್ ಅಮೆರಿಕಾದಾದ್ಯಂತದ ಸಂಪರ್ಕತಡೆಯನ್ನು ಮತ್ತು ವಿಮಾನ ನಿಲ್ದಾಣಗಳನ್ನು ಮುರಿಯುವವರಿಗೆ ದಂಡವನ್ನು ಕಠಿಣಗೊಳಿಸಿದೆ ಗುರುವಾರ ಅನಾರೋಗ್ಯದ ಪ್ರಯಾಣಿಕರ ಚಿಹ್ನೆಗಳನ್ನು ಹುಡುಕಿತು ಏಕೆಂದರೆ ಹೊಸ ವೈರಸ್ ಜಗತ್ತಿನ ಅಣಬೆ ಪ್ರದೇಶವನ್ನು ತೊಂದರೆಗೊಳಿಸಿತು ಸೋಂಕುಗಳು ಮತ್ತು ಮೊದಲ ಪ್ರಕರಣ ದಕ್ಷಿಣ ಅಮೆರಿಕಾದಲ್ಲಿ ಕಂಡುಬಂದಿದೆ ವಾಯು ಮಾರ್ಗಗಳನ್ನು ಸ್ಥಗಿತಗೊಳಿಸಲಾಯಿತು ಮತ್ತು ಗಡಿ ನಿಯಂತ್ರಣವನ್ನು ಕಠಿಣಗೊಳಿಸಲಾಯಿತು ದಕ್ಷಿಣ ಕೊರಿಯಾದಲ್ಲಿ ಚೀನಾದ ಹೊರಗಿನ ಅತ್ಯಂತ ಕಠಿಣವಾದ ದೇಶ ವರ್ಣರಂಜಿತ ರೇಷ್ಮೆಗಳಿಗೆ ಹೆಸರುವಾಸಿಯಾದ ನಾಲ್ಕು ಬುಸಾನ್ ಮಾರುಕಟ್ಟೆಗಳು ಮತ್ತು ಇತರ ಸರಕುಗಳ ತಲೆತಿರುಗುವಿಕೆಯನ್ನು ಮುಚ್ಚಲಾಯಿತು ಮತ್ತು ದೇಶದ ಮಿಲಿಟರಿ ನೂರಾರು ಕಳುಹಿಸಿತು ಚಿಕಿತ್ಸೆಯಲ್ಲಿ ಸಹಾಯ ಮಾಡಲು ಅದರ ವೈದ್ಯರು ಮತ್ತು ಸೈನಿಕರು ಏಕಾಏಕಿ ಇಟಲಿಯಲ್ಲಿ ಇನ್ನೂ ಏರುತ್ತಿರುವ ಪ್ರಕರಣಗಳು ದಕ್ಷಿಣ ಕೊರಿಯಾ ಏಕಾಏಕಿ ಇಟಲಿಯಲ್ಲಿ ಇನ್ನೂ ಹೆಚ್ಚುತ್ತಿರುವ ಪ್ರಕರಣಗಳು ದಕ್ಷಿಣ ಕೊರಿಯಾ ರೋಗವು ನೇ ಶತಮಾನದಲ್ಲಿ ಕಾಲರಾ ಏಕಾಏಕಿ ಹಜ್ ಸುತ್ತಮುತ್ತಲಿನ ನಿರಂತರ ಕಾಳಜಿಯಾಗಿದೆ ಟ್ರಿಪ್ ಮಾಡುವುದು ದಕ್ಷಿಣ ಕೊರಿಯಾದಲ್ಲಿ ಮುಖವಾಡಗಳಿಗಾಗಿ ಡ್ರೋನ್ ವೀಡಿಯೊ ದೀರ್ಘ ರೇಖೆಗಳನ್ನು ತೋರಿಸುತ್ತದೆ ಡ್ರೋನ್ ವೀಡಿಯೊ ತೋರಿಸುತ್ತದೆ ದಕ್ಷಿಣ ಕೊರಿಯಾದಲ್ಲಿ ಮುಖವಾಡಗಳಿಗಾಗಿ ಎನ್ ಜಿ ರೇಖೆಗಳು ಚೀನಾದಲ್ಲಿ ಗುರುವಾರ ಹೊಸ ಪ್ರಕರಣಗಳು ಮತ್ತು ದಕ್ಷಿಣ ಕೊರಿಯಾದಲ್ಲಿ ಹೊಸ ಪ್ರಕರಣಗಳು ವರದಿಯಾಗಿವೆ ವೈರಸ್ ನಿಂದ ಬಳಲುತ್ತಿರುವವರ ಜಾಗತಿಕ ಎಣಿಕೆ ರಷ್ಟಿದೆ ಒಟಾವಾ ಆರೋಗ್ಯ ಸಚಿವ ಪ್ಯಾಟಿ ಹಜ್ದು ಅವರು ಕೆನಡಿಯನ್ನರನ್ನು ತಮ್ಮ ಮನೆಗಳಲ್ಲಿ ಆಹಾರ ಮತ್ತು ಷಧಿಗಳನ್ನು ಸಂಗ್ರಹಿಸಲು ಪ್ರೋತ್ಸಾಹಿಸುತ್ತಿದ್ದಾರೆ ಅವರು ಅಥವಾ ಪ್ರೀತಿಪಾತ್ರರು ಬೀಳಬೇಕಾದರೆ ಕೆನಡಾದಲ್ಲಿ ಈ ಕಾಯಿಲೆಗೆ ತುತ್ತಾಗುವ ಅಪಾಯ ಕಡಿಮೆ ಇದ್ದರೂ ನಾನು ಕಾದಂಬರಿ ಕರೋನವೈರಸ್ನೊಂದಿಗೆ ಹೋಗುತ್ತೇನೆ ಕೆನಡಾದ ಉಪ ಮುಖ್ಯ ಸಾರ್ವಜನಿಕ ಆರೋಗ್ಯ ಅಧಿಕಾರಿ ಡಾ ಕೆನಡಾವನ್ನು ಹೊಡೆದರೆ ವೈರಸ್ ಹರಡುವುದನ್ನು ತಡೆಯಲು ಆರೋಗ್ಯ ವ್ಯವಸ್ಥೆಗಿಂತ ಹೆಚ್ಚಿನ ಸಮಯ ತೆಗೆದುಕೊಳ್ಳುತ್ತದೆ ಎಂದು ಹೊವಾರ್ಡ್ ನ್ಜೂ ಗುರುವಾರ ಹೌಸ್ ಆಫ್ ಕಾಮನ್ಸ್ ಆರೋಗ್ಯ ಸಮಿತಿಗೆ ತಿಳಿಸಿದರು ವಿಶ್ವದಾದ್ಯಂತ ಸುಮಾರು ಜನರು ಈಗ ವಿಶ್ವ ಆರೋಗ್ಯ ಸಂಸ್ಥೆಯ ವರದಿಯೊಂದಿಗೆ ರೊಂದಿಗೆ ನಾನು ಆಗುತ್ತೇನೆ ಚೀನಾದ ಹೊರಗಿನ ದೇಶಗಳಲ್ಲಿ ಪ್ರಕರಣಗಳು ಕಳೆದ ವಾರದಲ್ಲಿ ಇಟಲಿ ಇರಾನ್ ದಕ್ಷಿಣ ಕೊರಿಯಾ ಮತ್ತು ಜಪಾನ್ ನಲ್ಲಿ ಹೊಸ ಪ್ರಕರಣಗಳು ಕಾಣಿಸಿಕೊಂಡಿವೆ ಮತ್ತು ಸೋಂಕಿನ ಚಿಹ್ನೆಗಳಿಗಾಗಿ ಜನರನ್ನು ಮೇಲ್ವಿಚಾರಣೆ ಮಾಡುವ ಸಾಮರ್ಥ್ಯವಿಲ್ಲದ ಇತರ ದೇಶಗಳಲ್ಲಿ ವೈರಸ್ ಪತ್ತೆಯಾಗುವುದಿಲ್ಲ ಎಂದು ಅಧಿಕಾರಿಗಳು ಆತಂಕ ವ್ಯಕ್ತಪಡಿಸಿದ್ದಾರೆ ಕೆನಡಿಯನ್ನರು ದೇಶವನ್ನು ತೊರೆದಾಗ ಗ್ಲೋಬಲ್ ಅಫೇರ್ಸ್ ಕೆನಡಾದಲ್ಲಿ ನೋಂದಾಯಿಸಿಕೊಳ್ಳುವುದು ಬಹಳ ಮುಖ್ಯ ಇದರಿಂದ ಅಧಿಕಾರಿಗಳು ಅವರನ್ನು ಸಂಪರ್ಕಿಸಬಹುದು ಅವರು ದೂರದಲ್ಲಿರುವಾಗ ತುರ್ತು ಪರಿಸ್ಥಿತಿ ಉಂಟಾದರೆ ಸುಲಭವಾಗಿ ಪ್ರಜಾಪ್ರಭುತ್ವದ ಪ್ರತಿಸ್ಪರ್ಧಿಗಳಿಗೆ ಸಿಕ್ಕಿತು ಸೆನ್ ಬರ್ನಿ ಸ್ಯಾಂಡರ್ಸ್ ಹಗರಣದ ಪ್ರಯತ್ನದ ನಂತರ ಸೈಬರ್ ಸುರಕ್ಷತೆಯ ಬಗ್ಗೆ ಅಭಿಯಾನಗಳನ್ನು ಎಚ್ಚರಿಸಿದ್ದಾರೆ ಅಮೆರಿಕನ್ ಹೆಲ್ತ್ ಕೇರ್ ಅಸೋಸಿಯೇಷನ್ ಪ್ರಸ್ತುತಪಡಿಸಿದ ಆರೋಗ್ಯ ರಕ್ಷಣೆ ಟ್ರಂಪ್ ಪೆರೋಸ್ ಅನ್ನು ಕರೋನವೈರಸ್ ಪ್ರತಿಕ್ರಿಯೆಯನ್ನು ಮುನ್ನಡೆಸಲು ಟ್ರಂಪ್ ಪೆನೊಸಿ ಪ್ಯಾನಿಕ್ ರಚಿಸಲು ಪ್ರಯತ್ನಿಸುತ್ತಿದ್ದಾರೆ ಎಂದು ಆರೋಪಿಸಿದರು ಸಿಡಿಸಿ ಅಪರಿಚಿತ ಮೂಲದ ಪ್ರಕರಣವನ್ನು ದೃ ಪಡಿಸುತ್ತದೆ ತುರ್ತು ನಿಧಿಗಳು ಎಸ್ ಸಿ ಯಲ್ಲಿ ಬಿಡೆನ್ ಮುನ್ನಡೆ ಸಾಧಿಸುತ್ತಿದೆ ಡೆಮಾಕ್ರಟಿಕ್ ಅಧ್ಯಕ್ಷೀಯ ನಾಮನಿರ್ದೇಶನಕ್ಕೆ ಮುಂಚೂಣಿಯಲ್ಲಿರುವ ವರ್ಮೊಂಟ್ ಸಮಾಜವಾದಿ ಖಾಸಗಿ ಆರೋಗ್ಯ ವಿಮೆಯನ್ನು ತೆಗೆದುಹಾಕುವುದರಿಂದ ಹಿಡಿದು ಫೆಡರಲ್ ಖರ್ಚಿನ ಬೃಹತ್ ವಿಸ್ತರಣೆ ಮತ್ತು ಗನ್ ಲಾಬಿಗೆ ಹಿಂದಿನ ಬೆಂಬಲವನ್ನು ಮಾರ್ಪಡಿಸಿದ ಹೊಗಳಿಕೆಗೆ ಸಂಬಂಧಿಸಿದ ಅವರ ಆಮೂಲಾಗ್ರ ಕಲ್ಪನೆಗಳ ಮೇಲೆ ಸುಟ್ಟುಹಾಕಲಾಯಿತು ಕ್ಯೂಬಾದಂತಹ ಸರ್ವಾಧಿಕಾರಿ ಎಡಪಂಥೀಯ ಸರ್ಕಾರಗಳಿಗೆ ಮತ್ತು ಬರಾಕ್ ಒಬಾಮ ಬರಾಕ್ ಹುಸೇನ್ ಒಬಾಮಾಗೆ ಅವರ ತಂಪಾಗಿರುವುದು ಬೆಟ್ಟದ ಪ್ರಚಾರ ವರದಿ ದಕ್ಷಿಣ ಕೆರೊಲಿನಾದಲ್ಲಿ ಕೈಗವಸುಗಳು ವಿಧಾನಗಳು ಪ್ರಾಥಮಿಕ ಹೋರಾಟವು ಪ್ರಜಾಪ್ರಭುತ್ವವಾದಿಗಳನ್ನು ಕಠಿಣಗೊಳಿಸುತ್ತಿದೆ ಸಾರ್ವತ್ರಿಕ ಚುನಾವಣೆಗೆ ಬ್ಲೂಮ್ ಬರ್ಗ್ ಸಾಮಾಜಿಕ ಭದ್ರತೆ ಮತ್ತು ಪೊಂಜಿ ಯೋಜನೆ ಎಂದು ಮೇಯರ್ ಎಂದು ಕರೆಯುತ್ತಾರೆ ಹೆಚ್ಚು ಹೇಳುವ ಅಂಶವಾಗಿರಬಹುದು ಮಾಜಿ ಸೌತ್ ಬೆಂಡ್ ಇಂಡಿಯನ್ ಮೇಯರ್ ಪೀಟ್ ಬುಟ್ಟಿಗೀಗ್ ಪೀಟರ್ ಪೀಟ್ ಪಾಲ್ ಬುಟ್ಟಿಗೀಗ್ಬಿಡೆನ್ ಅವರು ಎಸ್ ಸಿ ವಲ್ನರಬಲ್ ಡೆಮೋಕ್ರಾಟ್ ಗಳಲ್ಲಿ ಮುನ್ನಡೆ ಸಾಧಿಸಲು ಮುಂದಾಗಿದ್ದಾರೆ ಸ್ಯಾಂಡರ್ಸ್ ಗಾಗಿ ಟಿಕೆಟ್ ನ ಮೇಲಿರುವ ಹಿಲ್ಸ್ ಕ್ಯಾಂಪೇನ್ ರಿಪೋರ್ಟ್ ಗ್ಲೋವ್ಸ್ ಆಫ್ ದಕ್ಷಿಣ ಕೆರೊಲಿನಾದಲ್ಲಿ ರಷ್ಯಾದ ಚುನಾವಣಾ ಮಧ್ಯಸ್ಥಿಕೆ ಪಕ್ಷದ ಬಗ್ಗೆ ಹೆಚ್ಚು ಅಲ್ಲ ಎಂದು ಗಮನಿಸಿದರು ಕಳೆದ ನಾಲ್ಕು ವರ್ಷಗಳು ಅಸ್ತವ್ಯಸ್ತವಾಗಿರುವ ವಿಭಜಕ ವಿಷಕಾರಿ ಬಳಲಿಕೆಯಾಗಿದೆ ಎಂದು ನೀವು ಭಾವಿಸಿದರೆ ರ ಉತ್ತಮ ಭಾಗವನ್ನು ಬರ್ನಿ ಸ್ಯಾಂಡರ್ಸ್ ವಿರುದ್ಧ ಡೊನಾಲ್ಡ್ ಟ್ರಂಪ್ ಡೊನಾಲ್ಡ್ ಟ್ರಂಪ್ ಡೊನಾಲ್ಡ್ ಜಾನ್ ಟ್ರಂಪ್ ಟ್ರಂಪ್ ಅವರು ಪೆನ್ಸ್ ಅಪಾಯಕಾರಿ ಬಕ್ ಹಾದುಹೋಗುತ್ತಾರೆ ಅಮೆರಿಕನ್ ಹೆಲ್ತ್ ಕೇರ್ ಅಸೋಸಿಯೇಷನ್ ಪ್ರಸ್ತುತಪಡಿಸಿದ ರಾತ್ರಿಯ ಆರೋಗ್ಯ ಕೊರೋನವೈರಸ್ ಪ್ರತಿಕ್ರಿಯೆಯನ್ನು ಮುನ್ನಡೆಸಲು ಟ್ರಂಪ್ ಪೆನ್ಸ್ ಅನ್ನು ಟ್ಯಾಪ್ ಮಾಡಿದ್ದಾರೆ ಟ್ರಂಪ್ ಪೆಲೋಸಿ ಪ್ಯಾನಿಕ್ ಸಿಡಿಸಿ ರಚಿಸಲು ಪ್ರಯತ್ನಿಸುತ್ತಿದ್ದಾರೆ ಎಂದು ಅಪರಿಚಿತ ಮೂಲದ ಪ್ರಕರಣವನ್ನು ದೃ ಪಡಿಸುತ್ತದೆ ಶುಮರ್ ಬಿಲಿಯನ್ ತುರ್ತು ನಿಧಿಯನ್ನು ಬಯಸಿದ್ದಾರೆ ಎಂದು ಟ್ರಂಪ್ ಕರೋನವೈರಸ್ ಬ್ರೀಫಿಂಗ್ ಸಮಯದಲ್ಲಿ ಜರ್ಮಾಫೋಬ್ ಎಂದು ಖ್ಯಾತಿ ಪಡೆದಿದ್ದಾರೆ ಸೀನುವ ನಂತರ ನಾನು ಸಾಧ್ಯವಾದಷ್ಟು ಜಾಮೀನು ನೀಡಲು ಪ್ರಯತ್ನಿಸುತ್ತೇನೆ ಸ್ಯಾಂಡರ್ಸ್ ನ ಕೊರತೆಗಳಿಗೆ ಸ್ಥಿರವಾಗಿ ಮರಳಿದ ಬುಟ್ಟಿಗೀಗ್ ಇಬ್ಬರು ಪ್ರಬಲ ವಕೀಲರು ಸಾಮಾನ್ಯ ಚುನಾವಣಾ ಅಭ್ಯರ್ಥಿ ಮತ್ತು ವಿಶೇಷವಾಗಿ ಮಾಜಿ ಉಪಾಧ್ಯಕ್ಷ ಜೋ ಬಿಡೆನ್ ಜೋ ಬಿಡೆನ್ ಬಿಡೆನ್ ಎಸ್ ಸಿ ಹಿಲಿಕಾನ್ ವ್ಯಾಲಿ ಡೆಮ್ಸ್ ನಲ್ಲಿ ಮುನ್ನಡೆ ಸಾಧಿಸಲು ಮುಂದಾಗಿದ್ದಾರೆ ಕೆಲವು ಪರಿಧಮನಿಯ ಜಾಹೀರಾತುಗಳನ್ನು ನಿಷೇಧಿಸಲು ಫೇಸ್ ಬುಕ್ ಗೆ ತಿದ್ದುಪಡಿಗಳನ್ನು ತಳ್ಳಿದ ನಂತರ ಕಣ್ಗಾವಲು ಮತವನ್ನು ರದ್ದುಗೊಳಿಸಲಾಗಿದೆ ಶಾಸಕರು ಗ್ರಿಲ್ ಆನ್ ಲೈನ್ ಟಿಕೆಟಿಂಗ್ ಕಾರ್ಯಗತಗೊಳಿಸುತ್ತಾರೆ ಹ್ಯಾಕರ್ ಪ್ರವೇಶಿಸಿದ ಮುಖ ಗುರುತಿಸುವಿಕೆ ಕಂಪನಿಯ ಡೇಟಾಬೇಸ್ ದುರ್ಬಲ ಡೆಮೋಕ್ರಾಟ್ ಗಳು ದಕ್ಷಿಣ ಕೆರೊಲಿನಾದ ಶನಿವಾರದ ಪ್ರಾಥಮಿಕ ಹಂತದಲ್ಲಿ ಅರ್ಧದಷ್ಟು ಡೆಮಾಕ್ರಟಿಕ್ ಮತದಾರರನ್ನು ಒಳಗೊಂಡಿರುವ ಆಫ್ರಿಕನ್ ಅಮೆರಿಕನ್ನರಿಗೆ ಬಂದೂಕು ನಿಯಂತ್ರಣ ಕ್ರಮಗಳ ಬಗ್ಗೆ ಸ್ಯಾಂಡರ್ಸ್ ಹಿಂದಿನ ವಿರೋಧದ ನಂತರ ಮತ್ತು ಬೆಂಕಿಯಲ್ಲಿದ್ದ ಸ್ಯಾಂಡರ್ಸ್ಗೆ ಬ್ರೇಸ್ ನಂತರ ಮುಖ್ಯವಾಹಿನಿಯ ಡೆಮಾಕ್ರಟಿಕ್ ಅಭ್ಯರ್ಥಿಗಳನ್ನು ಪರಿಗಣಿಸಿ ಹೌಸ್ ಆಡಳಿತಾಧಿಕಾರಿಗಳು ಸ್ಪರ್ಧಾತ್ಮಕ ಜಿಲ್ಲೆಗಳಲ್ಲಿ ಮತ್ತು ಸೆನೆಟ್ ಚಾಲೆಂಜರ್ ಗಳಲ್ಲಿ ಮಿಚ್ ಮೆಕ್ ಕಾನ್ನೆಲ್ ಅಡಿಸನ್ ಮಿಚ್ ಮಿಚೆಲ್ ಮೆಕ್ ಕಾನ್ನೆಲ್ ಓವರ್ ನೈಟ್ ಹೆಲ್ತ್ ಕೇರ್ ಅಮೆರಿಕನ್ ಹೆಲ್ತ್ ಕೇರ್ ಅಸೋಸಿಯೇಷನ್ ಪ್ರಸ್ತುತಪಡಿಸಿದೆ ಟ್ರಂಪ್ ಪೆರೋಸ್ ಅನ್ನು ಕರೋನವೈರಸ್ ಪ್ರತಿಕ್ರಿಯೆಯನ್ನು ಮುನ್ನಡೆಸಲು ಟ್ಯಾಪ್ ಮಾಡಿದ್ದಾರೆ ಪೆಲೋಸಿ ಪ್ಯಾನಿಕ್ ಸಿಡಿಸಿ ರಚಿಸಲು ಪ್ರಯತ್ನಿಸುತ್ತಿದ್ದಾರೆ ಎಂದು ಅಪರಿಚಿತ ಮೂಲದ ಪ್ರಕರಣವನ್ನು ದೃ ಪಡಿಸುತ್ತದೆ ಶುಮರ್ ಬಿಲಿಯನ್ ತುರ್ತು ನಿಧಿಗಳನ್ನು ಬಯಸುತ್ತಾರೆ ರಾಷ್ಟ್ರೀಯ ಜನಪ್ರಿಯ ಮತ ಚಳುವಳಿಗೆ ಪುಶ್ ಸಂಪ್ರದಾಯವಾದಿಗಳಿಂದ ಉತ್ತೇಜನ ಪಡೆಯುತ್ತದೆ ನವೆಂಬರ್ ದುರಂತವನ್ನು ತಪ್ಪಿಸಲು ಡೆಮೋಕ್ರಾಟ್ ಗಳು ಕೆಒ ಸ್ಯಾಂಡರ್ಸ್ ಮಾಡಬೇಕಾಗಿರುವುದು ತಮ್ಮ ರಿಪಬ್ಲಿಕನ್ ಬಹುಮತವನ್ನು ಅವರು ಜಿಲ್ಲೆಗಳನ್ನು ಪ್ರತಿನಿಧಿಸುತ್ತದೆ ಮತ್ತು ಅಧ್ಯಕ್ಷ ಸ್ಥಾನವನ್ನು ಗೆಲ್ಲಲು ಡೆಮೋಕ್ರಾಟ್ ನಡೆಸಬೇಕಾಗಿದೆ ಎಂದು ಹೇಳುತ್ತದೆ ಕರೋನವೈರಸ್ ತಮ್ಮ ಸಮುದಾಯಗಳನ್ನು ಸ್ಥಗಿತಗೊಳಿಸಿದಲ್ಲಿ ಬ್ರಿಟನ್ನರು ಭಯಭೀತರಾಗಿದ್ದಾರೆ ಟಾಯ್ಲೆಟ್ ರೋಲ್ ಸೂಪ್ ಟಿನ್ಡ್ ಫ್ರೂಟ್ ಪಿಇಟಿ ಫುಡ್ ಮೆಡಿಸಿನ್ ಬಾಟಲ್ ವಾಟರ್ ವೈನ್ ಮತ್ತು ಮನೆಯಲ್ಲಿ ಪ್ರತ್ಯೇಕ ಕೊಠಡಿಗಳನ್ನು ಸ್ಥಾಪಿಸುವುದು ಇಂದು ಬಹಿರಂಗವಾಯಿತು ಕೊಲೆಗಾರ ವೈರಸ್ ಗೆ ಸಂಬಂಧಪಟ್ಟ ಪರೀಕ್ಷೆಗಳು ಸಕಾರಾತ್ಮಕವಾಗಿದ್ದರೆ ಲೂ ಹಂಚಿಕೊಳ್ಳುವುದನ್ನು ತಪ್ಪಿಸಲು ಆಹಾರ ಮತ್ತು ಪೋರ್ಟಬಲ್ ಕ್ಯಾಂಪ್ ಶೌಚಾಲಯಗಳನ್ನು ತುಂಬಲು ಹೊಸ ಎದೆಯ ಫ್ರೀಜರ್ ಗಳನ್ನು ಖರೀದಿಸುವುದು ತಜ್ಞರು ನಂಬುವಂತೆ ಕುಟುಂಬ ಮನೆಗಳಲ್ಲಿ ಷಧಿ ಮತ್ತು ಆಹಾರವನ್ನು ಸಂಗ್ರಹಿಸುವುದು ತೀವ್ರವಾಗಬಹುದು ಎಂದು ಜನರು ನಂಬುತ್ತಾರೆ ಅದು ಸಂಭವಿಸಿದಲ್ಲಿ ಸುಮಾರು ಜನರು ಸಂದೇಶಕ್ಕೆ ಪ್ರತಿಕ್ರಿಯಿಸಿದರು ಅವರು ಟಿನ್ ಮಾಡಿದ ಸರಕುಗಳ ಟಾಯ್ಲೆಟ್ ರೋಲ್ ಮತ್ತು ಇತರ ಸರಬರಾಜುಗಳನ್ನು ಸಹ ಸಂಗ್ರಹಿಸುತ್ತಿದ್ದಾರೆ ಎಂದು ಯುಕೆ ಇಂಗ್ಲೆಂಡ್ನ ಮುಖ್ಯ ವೈದ್ಯಕೀಯ ಅಧಿಕಾರಿ ಪ್ರೊಫೆಸರ್ ಕ್ರಿಸ್ ವಿಟ್ಟಿ ಹೇಳಿದ್ದಾರೆ ಜನರು ಸಾಧ್ಯವಾದಾಗ ವೈರಸ್ ಹರಡಿದರೆ ಶಾಲೆ ಮುಚ್ಚಬಹುದು ಅವರ ಕುಟುಂಬಗಳೊಂದಿಗೆ ಮನೆಯಲ್ಲಿಯೇ ಇರಲು ಕೇಳಲಾಗುತ್ತದೆ ಮಲ್ಟಿಬಿಲಿಯನ್ ಡಾಲರ್ ತನ್ನ ಅತಿದೊಡ್ಡ ಒಪ್ಪಂದ ಮತ್ತು ಅಂಚು ಮರುಹೊಂದಿಸುವಿಕೆಯ ಹೊರತಾಗಿಯೂ ಲೈಸೊಲ್ ಸೋಂಕುನಿವಾರಕ ರೆಕಿಟ್ ಬೆನ್ ಕಿಸರ್ ನ ಆರ್ ಬಿಜಿಎಲ್ ವೈ ಸ್ವಚ್ ಗೊಳಿಸುವಿಕೆಯು ಕಂಪನಿಗೆ ಒಳ್ಳೆಯ ಸುದ್ದಿ ಇದೆ ಕಂಪನಿಯ ಬಿಲಿಯನ್ ಖರೀದಿ ಎಸ್ ಬೇಬಿ ಫುಡ್ ಬಿಸಿನೆಸ್ ಮೀಡ್ ಜಾನ್ಸನ್ ಅವರು ಮೀಡ್ ಜಾನ್ಸನ್ ಗೆ ಹೆಚ್ಚಿನ ಹಣವನ್ನು ಪಾವತಿಸಿದ್ದಲ್ಲದೆ ಕಂಪನಿಯ ಅನೇಕ ಸಮಸ್ಯೆಗಳನ್ನು ಸರಬರಾಜು ಸರಪಳಿಗಳು ಮತ್ತು ಸಂಶೋಧನೆ ಮತ್ತು ಅಭಿವೃದ್ಧಿ ತಂಡಗಳಿಗೆ ಸರಿಯಾಗಿ ಧನಸಹಾಯ ನೀಡಿದ್ದರೆ ತಪ್ಪಿಸಬಹುದಿತ್ತು ಪ್ರಸ್ತುತ ಚೀನಾದಲ್ಲಿ ಹೆಚ್ಚಿನ ಗಮನ ಸೆಳೆಯುತ್ತಿರುವ ಕಂಪನಿಯು ಕರೋನವೈರಸ್ ಏಕಾಏಕಿ ನಂತರ ಹೆಚ್ಚಿನ ಬೇಡಿಕೆಯನ್ನು ಕಾಣುತ್ತಿದೆ ಆದರೆ ಕಳೆದ ವರ್ಷ ರ ಆದಾಯದ ಬೆಳವಣಿಗೆಯೊಂದಿಗೆ ಉದಯೋನ್ಮುಖ ಮಾರುಕಟ್ಟೆಗಳಲ್ಲಿ ನೈರ್ಮಲ್ಯ ವಿಭಾಗವು ಉತ್ತಮವಾಗಿ ಕಾರ್ಯನಿರ್ವಹಿಸುತ್ತಿದೆ ಮೀಡ್ ಜಾನ್ಸನ್ ಒಪ್ಪಂದವು ಕಂಪನಿಯ ಚೀನಾಕ್ಕೆ ಹೆಚ್ಚಿನ ಒಡ್ಡುವಿಕೆಯನ್ನು ಹೆಚ್ಚಿಸಿದೆ ಇದು ರಾತ್ರಿಯಿಡೀ ತನ್ನ ರಿಂದ ಎರಡನೇ ಅತಿದೊಡ್ಡ ಮಾರುಕಟ್ಟೆಗೆ ಹೋಯಿತು ವ್ಯಾಟಿಕನ್ ಸಿಟಿ ರಾಯಿಟರ್ಸ್ ಪೋಪ್ ಫ್ರಾನ್ಸಿಸ್ ಸ್ವಲ್ಪ ಅಸ್ವಸ್ಥರಾಗಿದ್ದಾರೆ ಮತ್ತು ರೋಮ್ ಬೆಸಿಲಿಕಾದಲ್ಲಿ ನಡೆದ ಕಾರ್ಯಕ್ರಮವೊಂದನ್ನು ರದ್ದುಗೊಳಿಸಿದ್ದಾರೆ ಆದರೆ ಅವರ ಉಳಿದ ವೇಳಾಪಟ್ಟಿಯನ್ನು ತಮ್ಮ ನಿವಾಸದಲ್ಲಿ ನಿರ್ವಹಿಸುತ್ತಿದ್ದಾರೆ ಎಂದು ವ್ಯಾಟಿಕನ್ ಗುರುವಾರ ತಿಳಿಸಿದೆ ಜಾಗತಿಕ ಕ್ಯಾಥೊಲಿಕ್ ಹವಾಮಾನ ಚಳವಳಿಯ ಸದಸ್ಯರೊಂದಿಗೆ ಗುರುವಾರ ಬೆಳಿಗ್ಗೆ ವ್ಯಾಟಿಕನ್ ಸಭೆಯಲ್ಲಿ ಹೊಸ ಪೋಸ್ಟ್ನಲ್ಲಿ ಪ್ರಾರಂಭವಾಯಿತು ಅಂತರರಾಷ್ಟ್ರೀಯ ಪರಿಸರ ಗುಂಪು ಪೋಪ್ ಶೀತದಿಂದ ಕಾಣಿಸಿಕೊಂಡರು ಮತ್ತು ಬುಧವಾರ ತಮ್ಮ ಸಾಮಾನ್ಯ ಪ್ರೇಕ್ಷಕರಲ್ಲಿ ಸ್ವಲ್ಪ ಗಟ್ಟಿಯಾದ ಧ್ವನಿಯೊಂದಿಗೆ ಮಾತನಾಡಿದರು ಮತ್ತು ಮಧ್ಯಾಹ್ನದ ಸಮಯದಲ್ಲಿ ಕೂಗಿದರು ರೋಮ್ ಚರ್ಚ್ನಲ್ಲಿ ಬೂದಿ ಬುಧವಾರ ಸೇವೆ ರೋಪ್ ಪುರೋಹಿತರೊಂದಿಗಿನ ಲೆಂಟನ್ ಸೇವೆಗಾಗಿ ಪೋಪ್ ಗುರುವಾರ ಬೆಳಿಗ್ಗೆ ಲ್ಯಾಟೆರನ್ನ ಸೇಂಟ್ ಜಾನ್ಸ್ ಬೆಸಿಲಿಕಾಕ್ಕೆ ಹೋಗಬೇಕಾಗಿತ್ತು ಬುಧವಾರ ಪ್ರೇಕ್ಷಕರಲ್ಲಿ ಸೇಂಟ್ ಪೀಟರ್ಸ್ ಸ್ಕ್ವೇರ್ನಲ್ಲಿ ಹಲವಾರು ಜನರು ಮುಖವಾಡಗಳನ್ನು ಧರಿಸಿದ್ದರು ಆದರೆ ಕೇವಲ ಪೋಪ್ನ ಬೂದಿ ಬುಧವಾರ ಸೇವೆಯಲ್ಲಿ ಒಬ್ಬ ವ್ಯಕ್ತಿಯನ್ನು ಧರಿಸಿರುವುದು ಕಂಡುಬಂದಿದೆ ಟ್ರಂಪ್ ಅಭಿಯಾನವು ತನ್ನನ್ನು ರಕ್ಷಿಸಿಕೊಳ್ಳುವ ಗಂಭೀರ ಕರ್ತವ್ಯವನ್ನು ಹೊಂದಿದೆ ಎಂದು ಅಧ್ಯಕ್ಷರಿಗೆ ತಿಳಿದಿದೆ ಏಕೆಂದರೆ ಕರೋನವೈರಸ್ ತನ್ನ ಮರು ಚುನಾವಣೆಯ ಬಿಡ್ ಅನ್ನು ನೋಯಿಸುತ್ತದೆ ಎಂಬ ಭಯದಿಂದಾಗಿ ಕರೋನವೈರಸ್ ಬಗ್ಗೆ ಕಳವಳಗಳು ಟ್ಯಾಂಕ್ ಸ್ಟಾಕ್ ಬೆಲೆಗಳಿಗೆ ಸಹಾಯ ಮಾಡಿವೆ ಆದರೆ ಅವುಗಳು ಅನೇಕ ಯುನೈಟೆಡ್ ಸ್ಟೇಟ್ಸ್ನಲ್ಲಿ ಮುಖವಾಡಗಳನ್ನು ಧರಿಸಲು ಕಾರಣವಾಗಿವೆ ಮತ್ತು ಸಿಡಿಸಿ ಹೊಂದಿದೆ ಮುಖದ ಕೂದಲಿನ ಶೈಲಿಗಳು ಉಸಿರಾಟದ ಮುಖವಾಡಗಳನ್ನು ಧರಿಸಲು ಯಾವುದು ಉತ್ತಮ ಮತ್ತು ಯಾವ ಕೆಲಸ ಮಾಡುವುದಿಲ್ಲ ಎಂದು ವಿವರಿಸುವ ಈ ನಿಜವಾದ ಗ್ರಾಫಿಕ್ ಅನ್ನು ಬಿಡುಗಡೆ ಮಾಡಿದೆ ಎಂದು ಅವರು ಹೇಳಿದರು ಡೈಲಿ ಶೋ ಸಹ ಟ್ರಂಪ್ ನ ಕರೋನವೈರಸ್ ಮುದ್ರಣದೋಷವನ್ನು ಧೈರ್ಯಕೊಡುವುದಕ್ಕಿಂತ ಕಡಿಮೆ ಕಂಡುಹಿಡಿದಿದೆ ಮತ್ತು ಆದ್ದರಿಂದ ಇಂದು ಯುನೈಟೆಡ್ ಸ್ಟೇಟ್ಸ್ ಅಧ್ಯಕ್ಷರು ತುರ್ತು ಪತ್ರಿಕಾಗೋಷ್ಠಿ ನಡೆಸಿದರು ಜನರ ಕಾಳಜಿಯನ್ನು ಪರಿಹರಿಸಲು ಅವರು ಉಪಾಧ್ಯಕ್ಷ ಮೈಕ್ ಪೆನ್ಸ್ ಅವರನ್ನು ವೈರಸ್ ಗೆ ಅಮೆರಿಕದ ಪ್ರತಿಕ್ರಿಯೆಯ ಉಸ್ತುವಾರಿ ವಹಿಸಿಕೊಂಡರು ಮೈಕ್ ಪೆನ್ಸ್ ಇಂಡಿಯಾನಾದ ಗವರ್ನರ್ ಆಗಿದ್ದಾಗ ಅವರು ಸಾರ್ವಜನಿಕ ಆರೋಗ್ಯ ಅಧಿಕಾರಿಗಳ ಸಲಹೆಯನ್ನು ಪಾಲಿಸದಿದ್ದಾಗ ಎಚ್ ಐವಿ ಏಕಾಏಕಿ ಸಕ್ರಿಯಗೊಳಿಸಿದರು ಆದರೆ ನಾನು ಪ್ರಾಮಾಣಿಕ ನಾನು ಟ್ರಂಪ್ ಗಿಂತಲೂ ಅವರೊಂದಿಗೆ ಸುರಕ್ಷಿತವಾಗಿರುತ್ತೇನೆ ಆಪಲ್ ಇದೀಗ ಒಬ್ಬ ಅನುಭವಿ ಕಾರ್ಯನಿರ್ವಾಹಕನನ್ನು ಕಳೆದುಕೊಂಡಿದೆ ಶೀಘ್ರದಲ್ಲೇ ನಿರ್ಗಮಿಸಲು ನೋಡುತ್ತಿರುವ ಬ್ಲೂಮ್ ಬರ್ಗ್ ಫೋರ್ಲೆನ್ಜಾ ಅವರ ಉತ್ಪಾದನಾ ವಿನ್ಯಾಸ ಶೀರ್ಷಿಕೆ ಅವರು ಆಪಲ್ ಉತ್ಪನ್ನಗಳನ್ನು ವಿನ್ಯಾಸಗೊಳಿಸುವ ಜವಾಬ್ದಾರಿಯನ್ನು ಹೊಂದಿದ್ದಾರೆಂದು ಅರ್ಥವಲ್ಲ ಬದಲಿಗೆ ಅವರ ಸ್ಥಾನವು ಕಾರ್ಯಾಚರಣೆಯ ಪಾತ್ರವಾಗಿದ್ದು ಆಪಲ್ ಉತ್ಪಾದನೆಗಾಗಿ ಉತ್ಪಾದನಾ ಪ್ರಕ್ರಿಯೆಗಳಿಗೆ ಕಾರಣವಾಗಿದೆ ಸಾಧನಗಳು ಇತರ ನಿರ್ವಾಹಕ ಬ್ಲೂಮ್ ಬರ್ಗ್ ಶೀಘ್ರದಲ್ಲೇ ನಿರ್ಗಮಿಸಲಿದ್ದಾರೆ ಎಂದು ಕಂಪನಿಯ ದೀರ್ಘಕಾಲದ ಕಾರ್ಯಾಚರಣೆಯ ವಿ ಪಿ ಯವರು ಇತ್ತೀಚಿನ ವರ್ಷಗಳಲ್ಲಿ ಕಂಪನಿಯ ವರ್ಧಿತ ರಿಯಾಲಿಟಿ ವಿಭಾಗಕ್ಕೆ ತೆರಳಿದ್ದಾರೆ ಕಾರ್ಯಾಚರಣೆಯಂತೆ ವಿ ಪಿ ಪಾಸ್ಮೂಯಿಜ್ ಐಫೋನ್ ಫೋರ್ಲೆನ್ಜಾ ಮತ್ತು ಉತ್ಪನ್ನ ಉತ್ಪನ್ನಗಳ ಮೇಲ್ವಿಚಾರಣೆಯನ್ನು ವರ್ಷಗಳನ್ನು ಕಳೆದರು ಸರಬರಾಜು ಸರಪಳಿ ನಿರ್ವಹಣೆಯಲ್ಲಿ ಪಾಸ್ ಮೂಯಿಜ್ ಅವರ ಪಾತ್ರಗಳು ನಿರ್ಣಾಯಕವಾಗಿದ್ದು ಇದೀಗ ಚೀನಾದೊಂದಿಗಿನ ಟ್ರಂಪ್ ರ ವ್ಯಾಪಾರ ಸುಂಕಗಳು ಮತ್ತು ಸಾಗರೋತ್ತರ ಉತ್ಪಾದನಾ ಸೌಲಭ್ಯಗಳಲ್ಲಿನ ಕಾರ್ಯಾಚರಣೆಗಳ ಮೇಲೆ ಪರಿಣಾಮ ಬೀರುವ ಕೊರೊನಾವೈರಸ್ ನ ಹರಡುವಿಕೆಯನ್ನು ನೀಡಲಾಗಿದೆ ಬೀಜಿಂಗ್ ಶಾಂಘೈ ರಾಯಿಟರ್ಸ್ ಚೀನಾವು ಕರೋನವೈರಸ್ ಸೋಂಕಿತರನ್ನು ಗಡಿ ದಾಟದಂತೆ ತಡೆಯುವತ್ತ ಗಮನ ಹರಿಸಲಿದೆ ಮತ್ತು ಅಂತರರಾಷ್ಟ್ರೀಯ ಸಹಕಾರವನ್ನು ಬಲಪಡಿಸುವ ನಿಟ್ಟಿನಲ್ಲಿ ರಾಷ್ಟ್ರೀಯ ಆರೋಗ್ಯ ಆಯೋಗದ ವಕ್ತಾರ ಎನ್ ಎಚ್ ಸಿ ಗುರುವಾರ ಸುದ್ದಿಗೋಷ್ಠಿಯಲ್ಲಿ ಮಿ ಫೆಂಗ್ ಅವರು ವಿದೇಶದಲ್ಲಿ ಹೊಸ ಸೋಂಕುಗಳ ಸಂಖ್ಯೆಯನ್ನು ಮೀರಿದ ನಂತರ ಬಂದಿದ್ದಾರೆ ಈ ವಾರ ಚೀನಾದಲ್ಲಿ ಮೊದಲ ಬಾರಿಗೆ ಇಟಲಿ ಮತ್ತು ಇರಾನ್ ಹೊಸ ಕೇಂದ್ರ ಬಿಂದುಗಳಾಗಿ ಹೊರಹೊಮ್ಮುತ್ತಿವೆ ಆಮದು ಮಾಡಿಕೊಂಡ ಕೆಲವು ಪ್ರಕರಣಗಳು ಈಗಾಗಲೇ ಶಾಂಘೈ ನಗರದಲ್ಲಿ ಗುರುವಾರ ಕಂಡುಬಂದಿವೆ ಕರೋನವೈರಸ್ ರೋಗಿಯೊಬ್ಬರು ಫೆಬ್ರವರಿ ರಂದು ಇರಾನ್ ನಿಂದ ವಿಮಾನವನ್ನು ತೆಗೆದುಕೊಂಡು ಬಂದಿದ್ದಾರೆ ಎಂದು ಹೇಳಿದ್ದಾರೆ ಮಾಸ್ಕೋ ಪ್ರಯಾಣದುದ್ದಕ್ಕೂ ಮುಖವಾಡ ಧರಿಸಿದ ರೋಗಿಯು ನಂತರ ರೈಲಿನಲ್ಲಿ ಲಾಂ ೌ ನಗರದ ಮೂಲಕ ೊಂಗ್ವೇಗೆ ಪ್ರಯಾಣ ಬೆಳೆಸಿದರು ಶಾಂಘೈ ಅಧಿಕಾರಿಗಳು ಪ್ರತ್ಯೇಕ ಪತ್ರಿಕಾಗೋಷ್ಠಿಯಲ್ಲಿ ಹೇಳಿದರು ಹೆಚ್ಚಿನ ಸಂಖ್ಯೆಯ ಸೋಂಕು ಪ್ರಕರಣಗಳೊಂದಿಗೆ ದೇಶಗಳಿಂದ ಪ್ರಯಾಣಿಸುವ ಜನರ ಮೇಲೆ ತಮ್ಮ ಮೇಲ್ವಿಚಾರಣೆಯನ್ನು ಬಲಪಡಿಸುತ್ತೇವೆ ಮತ್ತು ಜನರು ವಿದೇಶದಿಂದ ವೈರಸ್ ತರದಂತೆ ತಡೆಯುವ ಕೆಲಸ ಮಾಂಟ್ರಿಯಲ್ ರಾಯಿಟರ್ಸ್ ಈ ವರ್ಷದ ಟೋಕಿಯೊ ಒಲಿಂಪಿಕ್ಸ್ ಅನ್ನು ಕರೋನವೈರಸ್ ಏಕಾಏಕಿ ರದ್ದುಗೊಳಿಸುವುದು ಅಥವಾ ಮುಂದೂಡುವುದು ವಿಶ್ವದ ಆರೋಗ್ಯಕ್ಕೆ ಅಪಾಯವನ್ನುಂಟುಮಾಡುತ್ತದೆ ಎಂದು ಅಂತರರಾಷ್ಟ್ರೀಯ ಒಲಿಂಪಿಕ್ ಸಮಿತಿಯ ಐಒಸಿ ಸದಸ್ಯ ಡಿಕ್ ಪೌಂಡ್ ಬುಧವಾರ ಹೇಳಿದ್ದಾರೆ ಒಂದು ವರ್ಷದವರೆಗೆ ಒಲಿಂಪಿಕ್ಸ್ ಅನ್ನು ಮರು ನಿಗದಿಪಡಿಸುವುದು ಅಸಾಧ್ಯವಲ್ಲ ಜುಲೈ ರಂದು ನಡೆದ ಉದ್ಘಾಟನಾ ಸಮಾರಂಭಗಳಲ್ಲಿ ಐಒಸಿ ಅವರನ್ನು ಹೊಂದಲು ಸಂಪೂರ್ಣವಾಗಿ ಬದ್ಧವಾಗಿದೆ ಎಂದು ತಿಳಿಯಲು ಟೋಕಿಯೊಗೆ ತರಬೇತಿ ಪಡೆಯುತ್ತಿರುವ ಕ್ರೀಡಾಪಟುಗಳು ಒಲಿಂಪಿಕ್ಸ್ ಅನ್ನು ರದ್ದುಗೊಳಿಸಬೇಕೇ ಅಥವಾ ಮುಂದೂಡಬೇಕೆ ಎಂಬ ಬಗ್ಗೆ ಯಾವುದೇ ನಿರ್ಧಾರವು ಸಾಕಷ್ಟು ಚಲಿಸುವ ಭಾಗಗಳನ್ನು ಹೊಂದಿದೆ ಮತ್ತು ಐಒಸಿ ಟೋಕಿಯೊವನ್ನು ಒಳಗೊಂಡಿರುತ್ತದೆ ಈ ಘಟನೆಯನ್ನು ನಡೆಸುವುದು ಸುರಕ್ಷಿತ ಸನ್ನಿವೇಶವಲ್ಲ ಎಂದು ಭಾವಿಸಿದ ಅಧಿಕಾರಿಗಳು ಸರ್ಕಾರಗಳು ಮತ್ತು ಅಂತರರಾಷ್ಟ್ರೀಯ ಏಜೆನ್ಸಿಗಳು ಅದೇ ದಿನ ಪೌಂಡ್ ಅವರ ಕಾಮೆಂಟ್ ಗಳು ಬಂದವು ಜಪಾನಿನ ಪ್ರಧಾನಿ ಶಿಂಜೊ ಅಬೆ ಅವರು ದೇಶದಲ್ಲಿ ಇನ್ನೂ ಎರಡು ಕರೋನವೈರಸ್ ಸಾವುಗಳು ಹೆಚ್ಚಾಗುತ್ತಿದ್ದಂತೆ ಕ್ರೀಡಾಕೂಟಗಳಿಗೆ ಎರಡು ವಾರಗಳ ನಿರ್ಬಂಧ ಹೇರಲು ಕರೆ ನೀಡಿದರು ಏಕಾಏಕಿ ಟೋಕಿಯೊ ಒಲಿಂಪಿಕ್ಸ್ ಅಂತರರಾಷ್ಟ್ರೀಯ ಒಲಿಂಪಿಕ್ ಸಮಿತಿಯ ಐಒಸಿ ಸದಸ್ಯ ಡಿಕ್ ಪೌಂಡ್ ಮಾಂಟ್ರಿಯಲ್ ಕ್ವಿಬೆಕ್ ಕ್ಯಾನ್ನಲ್ಲಿರುವ ತನ್ನ ಕಚೇರಿಗಳಲ್ಲಿ ಪೋಸ್ ನೀಡಬಹುದು ಅದಾ ಫೆಬ್ರವರಿ ಸ್ಟಾಕ್ಪೈಲಿಂಗ್ ಬೆಲೆಗಳನ್ನು ಹೆಚ್ಚಿಸಬಹುದು ಎಂದು ಹೇಳುತ್ತದೆ ಉತ್ಪನ್ನ ಕರಗುವ ಉಪಉತ್ಪನ್ನ ಸಲ್ಫ್ಯೂರಿಕ್ ಆಮ್ಲದ ಆಮದುಗಳ ಮೇಲೆ ಸ್ಥಗಿತಗೊಳಿಸಲು ಕರೆಗಳು ತಾಮ್ರದ ಅಲ್ಯೂಮಿನಿಯಂ ಪ್ರೊಸೆಸರ್ಗಳಲ್ಲಿ ತಾಮ್ರ ಅಲ್ಯೂಮಿನಿಯಂ ಸೀಸ ಮತ್ತು ಸತು ಕರಗಿಸುವಿಕೆ ಸಾಮರ್ಥ್ಯಕ್ಕಿಂತ ಹೆಚ್ಚಿನದಾಗಿದೆ ಟಾಮ್ ಡಾಲಿ ಬೀಜಿಂಗ್ ಫೆಬ್ರವರಿ ರಾಯಿಟರ್ಸ್ ಚೀನಾ ಕೆಲವು ದಾಸ್ತಾನು ಮಾಡಬೇಕು ಚೀನಾದ ನಾನ್ಫರಸ್ ಮೆಟಲ್ಸ್ ಇಂಡಸ್ಟ್ರಿ ಅಸೋಸಿಯೇಷನ್ ಸಿಎನ್ಐಎ ಗುರುವಾರ ದೇಶದ ಕರೋನವೈರಸ್ ಏಕಾಏಕಿ ಏಕಾಏಕಿ ಉಂಟಾಗುತ್ತಿರುವ ಉತ್ಪಾದಕರ ಒತ್ತಡವನ್ನು ತೆಗೆದುಕೊಳ್ಳಲು ಫೆರಸ್ ಅಲ್ಲದ ಲೋಹಗಳು ಸಿಎನ್ಐಎ ಗುರುವಾರ ಹೇಳಿದೆ ವಿಸ್ತೃತ ಚಂದ್ರನ ಹೊಸ ವರ್ಷದ ವಿರಾಮದ ನಂತರ ಅವರು ಕೆಲಸಕ್ಕೆ ಮರಳಲು ವಿಳಂಬವಾಗಿದ್ದರೆ ಸಿಎನ್ ಐಎಯ ಉಪ ಪ್ರಧಾನ ಕಾರ್ಯದರ್ಶಿ ಜಿಯಾ ಮಿಂಗ್ ಸಿಂಗ್ ಅವರು ಲೋಹಗಳ ಬೇಡಿಕೆ ತಾತ್ಕಾಲಿಕವಾಗಿ ಕುಸಿದಿದೆ ಎಂದು ಸಿಎನ್ ಐಎ ನಡೆಸುತ್ತಿರುವ ಪತ್ರಿಕೆಯಲ್ಲಿ ಜಿಯಾ ಉಲ್ಲೇಖಿಸಿದ್ದು ಸ್ಮೆಲ್ಟರ್ ದಾಸ್ತಾನುಗಳು ಏರಿಕೆಯಾಗಿದೆ ಎಂದು ಹೇಳಿದರು ಪರಿಣಾಮವಾಗಿ ತಾಮ್ರ ಮತ್ತು ಅಲ್ಯೂಮಿನಿಯಂ ಸಂಸ್ಕಾರಕಗಳ ಸಮೀಕ್ಷೆಯಲ್ಲಿ ಬಳಕೆಯ ದರಗಳು ಸಿಎನ್ ಐಎ ಫೆಬ್ರವರಿ ರಂದು ಕ್ಕೆ ಏರಿದೆ ಹಿಂದಿನ ವಾರಕ್ಕಿಂತ ಶೇಕಡಾ ಪಾಯಿಂಟ್ ಗಳು ಜಿಯಾ ರಜೆಯ ನಂತರ ಚೇತರಿಸಿಕೊಳ್ಳಲು ನಿಧಾನವಾಗಿದೆ ಎಂದು ಹೇಳಿದರು ಏಕೆಂದರೆ ಕಾರ್ಮಿಕರು ವೈರಸ್ ಸಂಬಂಧಿತ ಪ್ರಯಾಣ ನಿರ್ಬಂಧಗಳಿಂದ ಹಾನಿಗೊಳಗಾಗಿದ್ದಾರೆ ತಾಮ್ರದ ಕರಗಿಸುವವರಿಗೆ ಸಾಮರ್ಥ್ಯ ಬಳಕೆಯ ದರಗಳು ಸರಾಸರಿ ರಷ್ಟಿದೆ ಅಲ್ಯೂಮಿನಿಯಂ ಸ್ಮೆಲ್ಟರ್ ಗಳಿಗೆ ಮತ್ತು ಸೀಸ ಮತ್ತು ಸತು ಕರಗಿಸುವವರಿಗೆ ಹಿಂದಿನ ವಾರ ಅಂಕಿಅಂಶಗಳನ್ನು ನೀಡದೆ ಜಿಯಾ ಹೇಳಿದರು ನೈಕ್ ನ ಅತ್ಯಾಧುನಿಕ ಸ್ನೀಕರ್ ತಂತ್ರಜ್ಞಾನವನ್ನು ಪ್ರಶ್ನಿಸುವ ಒಂದು ಕ್ರಮದಲ್ಲಿ ಸ್ಕೆಚರ್ಸ್ ಎನ್ ವೈಎಸ್ ಇ ಎಸ್ ಕೆಎಕ್ಸ್ ತನ್ನ ಸ್ನೀಕರ್ ಗಳಿಗಾಗಿ ನವೀನ ಬಾಳಿಕೆ ಬರುವ ಹಗುರವಾದ ಏಕೈಕ ತಂತ್ರಜ್ಞಾನವನ್ನು ಅಭಿವೃದ್ಧಿಪಡಿಸಲು ಗುಡ್ ಇಯರ್ ಟೈರ್ ಮತ್ತು ರಬ್ಬರ್ ಕಂಪನಿ ನಾಸ್ಡಾಕ್ ಜಿಟಿಯೊಂದಿಗೆ ಒಪ್ಪಂದವನ್ನು ಘೋಷಿಸಿತು ಸ್ನೀಕರ್ ಗಳು ಟೈರ್ ಗಳಂತೆ ಕಾರ್ಯನಿರ್ವಹಿಸುತ್ತವೆ ಯಾವುದೇ ಹವಾಮಾನ ಮತ್ತು ಮಹೋನ್ನತ ಎಳೆತದಲ್ಲಿ ಬಲವಾದ ಹಿಡಿತ ಗುಡ್ ಇಯರ್ ಪರ್ಫಾರ್ಮೆಸ್ ಮೆಟ್ಟಿನ ಹೊರ ಅಟ್ಟೆಗಳನ್ನು ಸ್ಕೆಚರ್ಸ್ ರನ್ ಚಾಲನೆಯಲ್ಲಿರುವ ಶೂಗಳ ಸಾಲಿನಿಂದ ಮೂರು ಶೈಲಿಗಳ ಮೇಲೆ ಪ್ರಾಯೋಗಿಕವಾಗಿ ನಡೆಸಲಾಯಿತು ಮತ್ತು ಪುರುಷ ಮಹಿಳೆಯರು ಮತ್ತು ಮಕ್ಕಳಿಗಾಗಿ ಇತರ ಸಂಗ್ರಹಗಳಿಗೆ ವಿಸ್ತರಿಸಲಾಗುವುದು ಸ್ಕೆಚೆರ್ಸ್ ಕೆಚೆರ್ಸ್ ಗೆ ಇದು ಏಕೆ ಒಳ್ಳೆಯದು ನಾಲ್ಕನೇ ತ್ರೈಮಾಸಿಕದಲ್ಲಿ ಗಳಿಕೆಯನ್ನು ಪುಡಿಮಾಡಿದ ಮತ್ತು ಅದರ ಕಾರ್ಯಕ್ಷಮತೆಯ ಪಾದರಕ್ಷೆಗಳಿಗಾಗಿ ಹಲವಾರು ಪ್ರಶಸ್ತಿಗಳನ್ನು ಪಡೆದುಕೊಳ್ಳುವುದು ಗುಡ್ ಇಯರ್ ನೊಂದಿಗೆ ಕೆಲಸ ಮಾಡುವುದರಿಂದ ಕಂಪನಿಯ ಕಾರ್ಯಕ್ಷಮತೆಯ ಬೂಟುಗಳನ್ನು ಒಂದು ಹಂತದವರೆಗೆ ಒದೆಯುತ್ತದೆ ಏಕೆಂದರೆ ಸ್ಕೆಚರ್ಸ್ ಹೆಚ್ಚು ಸ್ಪರ್ಧಾತ್ಮಕ ತಂತ್ರಜ್ಞಾನದೊಂದಿಗೆ ಉತ್ತಮ ಬೂಟುಗಳತ್ತ ಸಾಗುತ್ತಾರೆ ಚೀನಾದಲ್ಲಿ ಟೆಲ್ಕೋಸ್ ಕಾರ್ಯನಿರ್ವಹಿಸದಿದ್ದರೆ ಕರೋನವೈರಸ್ ವೆರಿ ೋನ್ ಸ್ಟಾಕ್ ಎವೆನ್ ಮೇಲೆ ಹೇಗೆ ಪರಿಣಾಮ ಬೀರಬಹುದು ಎಟಿಟಿಯ ಹೆಚ್ಚಿನ ಇಳುವರಿ ಬೆಲೆಗೆ ಬರುತ್ತದೆ ಮೊದಲ ನೋಟದಲ್ಲಿ ಹೂಡಿಕೆದಾರರು ಎಟಿಟಿಯನ್ನು ವೆರಿ ೋನ್ ಗೆ ಲಾಭಾಂಶದ ಆಟವಾಗಿ ಎಟಿಟಿಯ ಪಾವತಿಯ ಇಳುವರಿ ನಿಂತಿದೆ ವೆರಿ ೋನ್ ನ ಇಳುವರಿಗಿಂತ ಸುಮಾರು ಕ್ಕಿಂತ ಹೆಚ್ಚು ಶೇಕಡಾವಾರು ಯುನೈಟೆಡ್ ಸ್ಟೇಟ್ಸ್ ನಲ್ಲಿ ಜಿ ನೆಟ್ ವರ್ಕ್ ಗಳನ್ನು ನಿರ್ಮಿಸುವ ಏಕೈಕ ಕಂಪನಿ ವೆರಿ ೋನ್ ಎಟಿಟಿ ಮತ್ತು ಟಿ ಮೊಬೈಲ್ ಹೆಚ್ಚಿನ ಗ್ರಾಹಕರು ಮತ್ತು ವ್ಯವಹಾರಗಳು ಜಿ ಮತ್ತು ಲಾಭಗಳು ಹೆಚ್ಚಾಗುತ್ತಿದ್ದಂತೆ ವೆರಿ ೋನ್ ಹೆಚ್ಚುತ್ತಿರುವ ಲಾಭಾಂಶದ ಪ್ರವಾಹವನ್ನು ಉತ್ಪಾದಿಸಬೇಕು ಅಂತಿಮವಾಗಿ ಅದನ್ನು ಲಾಭಾಂಶ ಶ್ರೀಮಂತ ಸ್ಥಿತಿಗೆ ತೆಗೆದುಕೊಳ್ಳಿ ಸ್ಟ್ಯಾಂಡರ್ಡ್ ಚಾರ್ಟರ್ಡ್ ಈ ವರ್ಷ ತನ್ನ ಹಣಕಾಸಿನ ಗುರಿಗಳನ್ನು ಕಳೆದುಕೊಳ್ಳಲಿದೆ ಎಂದು ಹೇಳಿದೆ ಮತ್ತು ಕರೋನವೈರಸ್ ಏಕಾಏಕಿ ಒಟ್ಟು ವೆಚ್ಚವನ್ನು ಹಿಸಲು ಇದು ತುಂಬಾ ಮುಂಚೆಯೇ ಎಂದು ಎಚ್ಚರಿಸಿದೆ ಏಷ್ಯಾ ಕೇಂದ್ರೀಕೃತ ಬ್ಯಾಂಕ್ ಗುರುವಾರ ಕೋವಿಡ್ ಆಗಿ ಆದಾಯದ ಬೆಳವಣಿಗೆಯ ಗುರಿಗಳನ್ನು ರಿಂದ ರವರೆಗೆ ತಲುಪಲು ಅಸಂಭವವಾಗಿದೆ ಎಂದು ಗುರುವಾರ ತಿಳಿಸಿದೆ ಹಾಂಗ್ ಕಾಂಗ್ ಮುಖ್ಯಭೂಮಿ ಚೀನಾ ಮತ್ತು ಸಿಂಗಾಪುರ್ ಸ್ಟ್ಯಾಂಡರ್ಡ್ ಚಾರ್ಟರ್ಡ್ ಷೇರುಗಳು ಸೇರಿದಂತೆ ಕೆಲವು ಪ್ರಮುಖ ಮಾರುಕಟ್ಟೆಗಳಲ್ಲಿ ಹರಡುವಿಕೆಗಳು ಬೆಳಿಗ್ಗೆ ರ ವಹಿವಾಟಿನಲ್ಲಿ ರಿಂದ ಪಿ ವರೆಗೆ ಕುಸಿದವು ಆದರೆ ಸ್ಟ್ಯಾಂಡರ್ಡ್ ಚಾರ್ಟರ್ಡ್ ನ ಮುಖ್ಯ ಹಣಕಾಸು ಅಧಿಕಾರಿ ಆಂಡಿ ಹಾಲ್ಫೋರ್ಡ್ ಅವರ ಎಷ್ಟು ಮಾರ್ಗದರ್ಶನ ನೀಡಲು ನಿರಾಕರಿಸಿದರು ಸ್ಟ್ಯಾಂಡರ್ಡ್ ಚಾರ್ಟರ್ಡ್ ಪೂರ್ಣ ವರ್ಷದ ಫಲಿತಾಂಶಗಳನ್ನು ವರದಿ ಮಾಡಿದಂತೆ ಬ್ಯಾಂಕ್ ಅನ್ನು ಪಕ್ಕಕ್ಕೆ ಹಾಕಲು ಒತ್ತಾಯಿಸಬಹುದು ಇದು ತೆರಿಗೆಗೆ ಮುಂಚಿನ ಲಾಭದಲ್ಲಿ ಬಿಲಿಯನ್ ಬಿಲಿಯನ್ಗೆ ಏರಿಕೆ ತೋರಿಸಿದೆ ಐಫೋನ್ ಪರಿಕಲ್ಪನೆಯು ಹೊಸ ಗಾತ್ರಗಳನ್ನು ತೋರಿಸುತ್ತದೆ ಬೆನ್ ಗೆಸ್ಕಿನ್ ಆಪಲ್ ಐಫೋನ್ ನಾವು ಇಲ್ಲಿಯವರೆಗೆ ತಿಳಿದಿರುವ ಎಲ್ಲವೂ ನವೀಕರಿಸಲಾಗಿದೆ ಫೋರ್ಬ್ಸ್ ಗೋರ್ಡಾನ್ ಕೆಲ್ಲಿ ಐಫೋನ್ ಪೂರೈಕೆಯ ಬಗ್ಗೆ ಇತ್ತೀಚಿನ ನಿಕ್ಕಿ ಎಚ್ಚರಿಕೆಗಳ ಬಗ್ಗೆ ರಾಯಿಟರ್ಸ್ ನಿಂದ ಹೊಸ ವಿಶೇಷವಾದವು ಆಪಲ್ನ ಮೌಲ್ಯ ಮತ್ತು ದಂಡದ ಸಾಮರ್ಥ್ಯದ ಮೇಲೆ ಕೊರೊನಾವೈರಸ್ ನ ಪ್ರಭಾವವನ್ನು ಬಹಿರಂಗಪಡಿಸುತ್ತದೆ ಐಫೋನ್ ಗಾಗಿ ಅಸೆಂಬ್ಲಿ ಪ್ರಕ್ರಿಯೆಗಳನ್ನು ಟ್ಯೂನ್ ಮಾಡಿ ಆಪಲ್ ಹುವಾವೇ ಒಪ್ಪೊ ಮತ್ತು ಸ್ಯಾಮ್ ಸಂಗ್ ಸೇರಿದಂತೆ ಕಂಪೆನಿಗಳ ಒಂದು ಭಾಗವಾಗಿದೆ ಎಂದು ವರದಿ ಮಾಡಿದೆ ಇವರೆಲ್ಲರೂ ಗ್ಯಾಲಿಯಮ್ ನೈಟ್ರೈಡ್ ಗಾನ್ ಅನ್ನು ಕಡಿಮೆ ಆಯಾಮಗಳೊಂದಿಗೆ ಹೆಚ್ಚು ಶಕ್ತಿಶಾಲಿ ಹೆಚ್ಚು ಪರಿಣಾಮಕಾರಿಯಾದ ಸ್ಮಾರ್ಟ್ ಫೋನ್ ಚಾರ್ಜರ್ ಗಳನ್ನು ಉತ್ಪಾದಿಸಲು ಯೋಜಿಸಿದ್ದಾರೆ ಎಂದು ರಾಯಿಟರ್ಸ್ ಎರಡನೇ ಒಳಗಿನವರನ್ನು ಉಲ್ಲೇಖಿಸಿದೆ ಐಫೋನ್ ಮೂಲಮಾದರಿಯಿಂದ ಲಕ್ಷಾಂತರ ಘಟಕಗಳ ಜೋಡಣೆಗೆ ಆಪಲ್ನ ಪರಿವರ್ತನೆ ಪ್ರಕ್ರಿಯೆಯು ಜನವರಿ ಅಂತ್ಯ ಮತ್ತು ಫೆಬ್ರವರಿ ಆರಂಭದ ನಡುವೆ ಶ್ರದ್ಧೆಯಿಂದ ಪ್ರಾರಂಭವಾಗುತ್ತದೆ ಮತ್ತು ಆ ಸಮಯದಲ್ಲಿ ಆಪಲ್ ಸಾಮಾನ್ಯವಾಗಿ ಅನೇಕ ಮೂಲಮಾದರಿಗಳನ್ನು ಪರೀಕ್ಷಿಸಿದೆ ಅದು ಎಂಜಿನಿಯರಿಂಗ್ ಮೌಲ್ಯಮಾಪನ ಆಪಲ್ ಐಫೋನ್ ಪರಿಕಲ್ಪನೆಯನ್ನು ನಿರೂಪಿಸುತ್ತದೆ ಹೊಸ ಬಣ್ಣ ಆಯ್ಕೆಯನ್ನು ನಿರೀಕ್ಷಿಸಲಾಗಿದೆ ಆಪಲ್ಇನ್ ಸೈಡರ್ ಆಪಲ್ ಐಫೋನ್ ಎಸ್ ಇ ನಾವು ಇಲ್ಲಿಯವರೆಗೆ ತಿಳಿದಿರುವ ಎಲ್ಲವೂ ನವೀಕರಿಸಿದ ಫೋರ್ಬ್ಸ್ ಗೋರ್ಡಾನ್ ಕೆಲ್ಲಿ ಏತನ್ಮಧ್ಯೆ ಆಪಲ್ ಯಾವುದೇ ಅವಕಾಶಗಳನ್ನು ತೆಗೆದುಕೊಳ್ಳುತ್ತಿಲ್ಲ ಫೋರ್ಬ್ಸ್ನಲ್ಲಿ ಇನ್ನಷ್ಟು ಗೋರ್ಡಾನ್ ಅನ್ನು ಅನುಸರಿಸಿ ವ್ಯತ್ಯಾಸವೇನು ಅದೇ ಸಮಯದಲ್ಲಿ ಕಂಪನಿಯು ತನ್ನ ಕ್ರೆಡಿಟ್ ಕಾರ್ಡ್ ಬ್ರ್ಯಾಂಡಿಂಗ್ ಮೇಲೆ ಕೇಂದ್ರೀಕರಿಸಿದೆ ಮಿಲಿಯನ್ ಆಕ್ಟಿವ್ ಕಾರ್ಡ್ ಗಳು ಎಂದರೆ ರಾಯಲ್ ಡಚ್ ಗೆ ಸಾಕಷ್ಟು ನಿಷ್ಠರಾಗಿರುವ ಮಿಲಿಯನ್ ಗ್ರಾಹಕರು ಅವಳು ನಿಯಮಿತವಾಗಿ ಹಿಂತಿರುಗುವರು ಈಗಾಗಲೇ ಹೇಳಿದಂತೆ ನಾನು ಈ ಅವೆನ್ಯೂ ಕೆಳಗೆ ಪರಿವರ್ತಿಸುವ ಕಂಪನಿಯ ಅಗಾಧ ಅಭಿಮಾನಿ ರಾಯಲ್ ಡಚ್ ಗೆ ತನ್ನ ಭವಿಷ್ಯವನ್ನು ಇಲ್ಲಿ ಕಾಪಾಡಿಕೊಳ್ಳಲು ಇರುವ ಮಾರ್ಗಗಳು ಸಂಪೂರ್ಣವಾಗಿ ಅಗಾಧವಾಗಿವೆ ಎಂದು ಯೋಚಿಸಿ ಕಂಪನಿಯು ತನ್ನ ಬೃಹತ್ ಬಿಲಿಯನ್ ಷೇರು ಮರುಖರೀದಿ ಕಾರ್ಯಕ್ರಮವನ್ನು ಪೂರ್ಣಗೊಳಿಸಲು ಯೋಜಿಸುತ್ತಿದೆ ಅದರ ಪ್ರಸ್ತುತ ಕಡಿಮೆ ಷೇರು ಬೆಲೆ ಮತ್ತು ಹೆಚ್ಚಿನ ಲಾಭಾಂಶವನ್ನು ನಾನು ನೋಡಲು ಬಯಸುತ್ತೇನೆ ರಾಯಲ್ ಡಚ್ ಅವರು ವೈವಿಧ್ಯಗೊಳಿಸಲಿದ್ದಾರೆ ಆದರೆ ಬಲವಾದ ಷೇರುದಾರರ ಪ್ರತಿಫಲವನ್ನು ಗಳಿಸಲು ಕಂಪನಿಯು ಸ್ವತಃ ಉತ್ತಮವಾಗಿ ತಯಾರಿ ನಡೆಸುತ್ತಿದೆ ದಿನದ ಕೊನೆಯಲ್ಲಿ ರಾಯಲ್ ಡಚ್ ಅವರು ಗಮನಾರ್ಹ ಪ್ರಮಾಣದ ತೈಲವನ್ನು ಮಾರಾಟ ಮಾಡುತ್ತಾರೆ ಮತ್ತು ಇದರರ್ಥ ತೈಲ ಬೆಲೆಗಳ ಕುಸಿತಕ್ಕೆ ಕಂಪನಿಯು ಒಳಗಾಗುತ್ತದೆ ಕರೋನವೈರಸ್ ಭಯದಿಂದ ಮೆಕ್ಕಾಗೆ ಭೇಟಿ ನೀಡಲು ಬಯಸುವ ಯಾತ್ರಾರ್ಥಿಗಳಿಗೆ ಸೌದಿ ಅರೇಬಿಯಾ ಗುರುವಾರ ವೀಸಾಗಳನ್ನು ಅಮಾನತುಗೊಳಿಸಿದೆ ರಿಯಾಡ್ ಎಎಫ್ ಪಿ ಸೌದಿ ಅರೇಬಿಯಾ ಗುರುವಾರ ಪರಿಧಮನಿಯ ಭಯದಿಂದ ಮೆಕ್ಕಾಕ್ಕೆ ಭೇಟಿ ನೀಡಲು ಬಯಸುವ ಯಾತ್ರಾರ್ಥಿಗಳಿಗೆ ವೀಸಾಗಳನ್ನು ಅಮಾನತುಗೊಳಿಸಿದೆ ಎಂದು ವಿದೇಶಾಂಗ ಸಚಿವಾಲಯ ತಿಳಿಸಿದೆ ಅಲ್ಲಿ ಹೊಸ ವೈರಸ್ ಅಪಾಯವಾಗಿದೆ ಜನರು ಅಧಿಕೃತವಾಗಿ ಎಂದು ಕರೆಯಲ್ಪಡುವ ರೋಗಕ್ಕೆ ಬಲಿಯಾದ ಪ್ರದೇಶದ ಪ್ರಮುಖ ತಾಣವಾಗಿ ಇರಾನ್ ಹೊರಹೊಮ್ಮಿದೆ ಕೊಲ್ಲಿ ರಾಜ್ಯಗಳಾದ ಕುವೈತ್ ಮತ್ತು ಬಹ್ರೇನ್ ಸಹ ಈ ವಾರ ಹೆಚ್ಚುವರಿ ಪ್ರಕರಣಗಳನ್ನು ಘೋಷಿಸಿವೆ ರ ನಿಮ್ಮ ಸ್ವಾಧೀನದಿಂದ ಕೆ ಆಧಾರಿತ ರಿಯಲ್ ಟೈಮ್ ಪಾವತಿ ನಾವೀನ್ಯಕಾರ ವೊಕಲಿಂಕ್ ಡ್ಯಾನಿಶ್ ಪಾವತಿ ಸಂಸ್ಥೆಯ ನೆಟ್ಸ್ ಕಾರ್ಪೊರೇಟ್ ವ್ಯವಹಾರದ ಬಿಲಿಯನ್ ಡಾಲರ್ ಖರೀದಿಗೆ ಮಾಸ್ಟರ್ ಕಾರ್ಡ್ ಇತಿಹಾಸದಲ್ಲಿ ಅತಿದೊಡ್ಡ ಸ್ವಾಧೀನವಾಗಿದೆ ಕಂಪನಿಯು ವಕ್ರರೇಖೆಯ ಮುಂದೆ ಉಳಿಯಲು ಮತ್ತು ಅದರ ವೈವಿಧ್ಯತೆಯನ್ನು ಕಡಿಮೆ ಮಾಡಲು ಕಡಿಮೆ ಖರ್ಚನ್ನು ಉಳಿಸಿದೆ ಅದರ ಸಾಂಪ್ರದಾಯಿಕ ಬ್ರೆಡ್ ಮತ್ತು ಬೆಣ್ಣೆ ಕಾರ್ಡುಗಳ ವ್ಯವಹಾರವನ್ನು ಮೀರಿದ ಸೇವೆಗಳು ನಾವು ವರ್ಷಗಳಲ್ಲಿ ಕ್ರೆಡಿಟ್ ಕಾರ್ಡ್ ಗಳಲ್ಲಿ ವ್ಯವಹಾರವನ್ನು ನಿರ್ಮಿಸಿದ್ದೇವೆ ಮತ್ತು ಸಂಕೀರ್ಣವಾದದ್ದನ್ನು ಸರಳವಾಗಿ ಮಾಡಿದ್ದೇವೆ ಮೈಕೆಲ್ ಮೀಬಾಚ್ ಮಾಸ್ಟರ್ ಕಾರ್ಡ್ ನ ಮುಖ್ಯ ಉತ್ಪನ್ನ ಮತ್ತು ನಾವೀನ್ಯತೆ ಅಧಿಕಾರಿ ಕಳೆದ ಬೇಸಿಗೆಯಲ್ಲಿ ಫಾರ್ಚೂನ್ ಗೆ ತಿಳಿಸಿದರು ಆದರೆ ಮೈಬ್ಯಾಕ್ ಬಂಗಾ ಅವರು ಮಾಸ್ಟರ್ ಕಾರ್ಡ್ ಕಂಡುಕೊಂಡಿದ್ದಾರೆ ಎಂದು ನಂಬಿದ್ದಾರೆ ಉತ್ತಮವಾಗಿ ದುಂಡಾದ ಮತ್ತು ಅನುಭವಿ ಉತ್ತರಾಧಿಕಾರಿ ಅವರ ಜ್ಞಾನವು ಬ್ಯಾಂಕಿಂಗ್ ಪಾವತಿ ಮತ್ತು ನಿಯಂತ್ರಣದ ಹೆಚ್ಚು ಸಾಂಪ್ರದಾಯಿಕ ಕ್ಷೇತ್ರಗಳನ್ನು ವ್ಯಾಪಿಸಿದೆ ರಲ್ಲಿ ಮಾಸ್ಟರ್ ಕಾರ್ಡ್ ಗೆ ಸೇರುವ ಮೊದಲು ಸಿಟಿಬೂಪ್ ಮತ್ತು ಬಾರ್ಕ್ಲೇಸ್ ಎರಡರಲ್ಲೂ ಕೆಲಸ ಮಾಡಿದ ಮೈಬಾಕ್ ಮತ್ತು ನನ್ನ ವೃತ್ತಿಜೀವನದ ಕೊನೆಯ ದಶಕವನ್ನು ನಾನು ಮೀಸಲಿಟ್ಟಿರುವ ತಂತ್ರಜ್ಞಾನ ಮತ್ತು ಡೇಟಾದ ಹೆಚ್ಚು ಮುಂದಾಲೋಚನೆಯ ಕ್ಷೇತ್ರಗಳು ಪಾವತಿ ನಾವೀನ್ಯತೆಗೆ ಮೈಬಾಚ್ ಮಂಗಳವಾರ ಹೇಳಿದರು ಅವರು ಅದ್ಭುತ ಒ ನೋಡುತ್ತಾರೆ ಕಂಪನಿಯ ವ್ಯವಹಾರವನ್ನು ಮುಂದಕ್ಕೆ ತಳ್ಳಲು ಜಿ ಟೆಕ್ನಾಲಜಿ ಡಾಟಾ ಅನಾಲಿಟಿಕ್ಸ್ ಕೃತಕ ಬುದ್ಧಿಮತ್ತೆ ಮತ್ತು ಓಪನ್ ಬ್ಯಾಂಕಿಂಗ್ ನ ಸಾಮರ್ಥ್ಯದಲ್ಲಿನ ಸಾಮರ್ಥ್ಯವು ವೀಸಾ ಅಲ್ ಕೆಲ್ಲಿಯಲ್ಲಿ ಶೀಘ್ರದಲ್ಲೇ ಪ್ರತಿರೂಪವಾಗಲಿದೆ ಯಾವುದೇ ಸಂಸ್ಥೆಗೆ ಹಣದ ಚಲನೆಯತ್ತ ತನ್ನದೇ ಆದ ಸಂಸ್ಥೆಯ ಗಮನವನ್ನು ಮರುಸಂಗ್ರಹಿಸುವ ಬಯಕೆಯನ್ನು ಗಮನಿಸಿ ಪ್ರಪಂಚದಾದ್ಯಂತದ ಉದ್ದೇಶ ಮಾಸ್ಟರ್ ಕಾರ್ಡ್ ನ ಹೊಸ ಸಿಇಒ ಅವರು ಫಿನ್ಟೆಕ್ ಶಸ್ತ್ರಾಸ್ತ್ರ ಸ್ಪರ್ಧೆಯ ದಪ್ಪದಲ್ಲಿ ಕಾಣುತ್ತಾರೆ ಅದು ಹಣಕಾಸು ಸೇವೆಗಳ ಉದ್ಯಮದ ಪ್ರತಿಯೊಂದು ಮೂಲೆಯನ್ನೂ ವ್ಯಾಪಿಸುತ್ತದೆ ಫೆಬ್ರವರಿ ರಾಯಿಟರ್ಸ್ ಕೆನಡಾದ ಮುಖ್ಯ ಸ್ಟಾಕ್ ಇಂಡೆಕ್ಸ್ ಫ್ಯೂಚರ್ ಗಳು ಗುರುವಾರ ಕುಸಿದಿದ್ದು ಚೀನಾದ ಹೊರಗಿನ ಕೊರೊನಾವೈರಸ್ ಪ್ರಕರಣಗಳ ಏರಿಕೆಯಿಂದಾಗಿ ಬೇಡಿಕೆಯ ಚಿಂತೆಗಳ ಮೇಲೆ ತೈಲ ಬೆಲೆಗಳು ಕುಸಿದವು ಮಾರ್ಚ್ ಎಸ್ ಪಿ ಟಿಎಸ್ ಎಕ್ಸ್ ಸೂಚ್ಯಂಕದ ಭವಿಷ್ಯವು ಬೆಳಿಗ್ಗೆ ಕ್ಕೆ ಇಳಿದಿದೆ ಕೆನಡಾ ತನ್ನ ಹಣಕಾಸು ಮಾರುಕಟ್ಟೆಗಳು ಮತ್ತು ಸಂಪತ್ತು ನಿರ್ವಹಣಾ ಘಟಕಗಳ ಬೆಳವಣಿಗೆಯಿಂದ ತ್ರೈಮಾಸಿಕ ಲಾಭದ ಅಂದಾಜುಗಳನ್ನು ಗುರುವಾರ ಸೋಲಿಸಿದೆ ಟಿಡಿ ಬ್ಯಾಂಕ್ ಗ್ರೂಪ್ ಗುರುವಾರ ತ್ರೈಮಾಸಿಕ ಲಾಭದಲ್ಲಿ ಏರಿಕೆ ದಾಖಲಿಸಿದೆ ಮಾರುಕಟ್ಟೆ ಮೌಲ್ಯದಿಂದ ಕೆನಡಾದ ಎರಡನೇ ಅತಿದೊಡ್ಡ ಸಾಲಗಾರ ತನ್ನ ಸಗಟು ಬ್ಯಾಂಕಿಂಗ್ ಘಟಕ ಅನಾಲಿಸ್ಟ್ ನಲ್ಲಿನ ಪ್ರಬಲ ಕಾರ್ಯಕ್ಷಮತೆಯಿಂದ ಲಾಭ ಪಡೆದಿದೆ ಸಂಶೋಧನಾ ಹೈಲೈಟ್ಸ್ ಕೆನಡಿಯನ್ ಇಂಪೀರಿಯಲ್ ಬ್ಯಾಂಕ್ ಆಫ್ ಕಾಮರ್ಸ್ ಸ್ಕಾಟಿಯಾಬ್ಯಾಂಕ್ ಸಿ ರಿಂದ ಟಾರ್ಗೆಟ್ ಬೆಲೆಯನ್ನು ಸಿ ಕ್ಕೆ ಏರಿಸಿದೆ ನಾರ್ತ್ಲ್ಯಾಂಡ್ ಪವರ್ ಇಂಕ್ ಆರ್ಬಿಸಿ ಸಿ ರಿಂದ ಸಿ ಗೆ ಗುರಿ ಬೆಲೆಯನ್ನು ಹೆಚ್ಚಿಸಿದೆ ಫ್ರೆಶಿಯಿ ಇಂಕ್ ಸಿಐಬಿಸಿ ಸಿ ಕಮೊಡಿಟೈಸ್ನಿಂದ ಸಿ ಕ್ಕೆ ಗುರಿ ಬೆಲೆಯನ್ನು ಸಿ ಕ್ಕೆ ಇಳಿಸುತ್ತದೆ ಫ್ಯೂಚರ್ಸ್ ಯುಎಸ್ ಕಚ್ಚಾ ಬ್ರೆಂಟ್ ಕಚ್ಚಾ ನೀವು ಎಸ್ ಎಕಾನಮಿಕ್ ಡಾಟಾ ಗುರುವಾರ ಗುರುವಾರ ಜನರಿಗಾಗಿ ಬಾಳಿಕೆ ಬರುವ ಸರಕುಗಳು ನಿರೀಕ್ಷಿತ ಮೊದಲು ಬಾಳಿಕೆ ಬರುವ ವಸ್ತುಗಳು ಜನ ನಿರೀಕ್ಷಿತ ಮೊದಲು ಜನರಿಗಾಗಿ ಡ್ಯುರಬಲ್ಸ್ ಎಕ್ಸ್ ಡಿಫೆನ್ಸ್ ಎಂಎಂ ಜನನಿಗಾಗಿ ನಾನ್ ಡಿಫೆನ್ಸ್ ಕ್ಯಾಪ್ ಎಕ್ಸ್ ಏರ್ ನಿರೀಕ್ಷಿತ ಮೊದಲು ಕ್ಯೂ ಗಾಗಿ ಜಿಡಿಪಿ ನೇ ಅಂದಾಜು ಮೊದಲು ಕ್ಯೂ ಮೊದಲು ಜಿಡಿಪಿ ಮಾರಾಟ ಪೂರ್ವಭಾವಿ ಕ್ಯೂಡಿ ಗೆ ಜಿಡಿಪಿ ಕಾನ್ಸ್ ಪೂರ್ವಭಾವಿ ಖರ್ಚು ಕ್ಯೂ ಗಾಗಿ ಜಿಡಿಪಿ ಡಿಫ್ಲೇಟರ್ ಪೂರ್ವಭಾವಿ ನಿರೀಕ್ಷಿತ ಮೊದಲು ಕೋರ್ ಪಿಸಿಇ ಬೆಲೆಗಳು ಕ್ಯೂ ಗೆ ಪೂರ್ವಭಾವಿ ಮೊದಲು ಕ್ಯೂ ಪೂರ್ವಭಾವಿ ಆರಂಭಿಕ ನಿರುದ್ಯೋಗ ಹಕ್ಕುಗಳು ನಿರೀಕ್ಷಿತ ಮೊದಲು ನಿರುದ್ಯೋಗ ಹಕ್ಕುಗಳು ವಾರಗಳ ಸರಾಸರಿ ಮೊದಲು ಮುಂದುವರಿದ ನಿರುದ್ಯೋಗ ಹಕ್ಕುಗಳು ನಿರೀಕ್ಷಿತ ಮಿಲಿಯನ್ ಮೊದಲು ಮಿಲಿಯನ್ ಜನವರಿಯ ಬಾಕಿ ಉಳಿದಿರುವ ಮನೆಗಳ ಸೂಚ್ಯಂಕ ಜನರಿಗಾಗಿ ಬಾಕಿ ಇರುವ ಮಾರಾಟ ಬದಲಾವಣೆ ಎಂಎಂ ನಿರೀಕ್ಷಿತ ಮೊದಲು ಕೆಸಿ ಫೆಡ್ ಉತ್ಪಾದನೆ ಫೆಬ್ರವರಿ ಮೊದಲು ಕೆಸಿ ಫೆಡ್ ಸಂಯೋಜಿತ ಸೂಚ್ಯಂಕ ಫೆಬ್ರವರಿ ಮೊದಲು ಕೆನಡಾದ ಮಾರುಕಟ್ಟೆಗಳ ಸುದ್ದಿಗಳಿಗಾಗಿ ಕೋಡ್ ಗಳ ಮೇಲೆ ಕ್ಲಿಕ್ ಮಾಡಿ ಟಿಎಸ್ ಎಕ್ಸ್ ಮಾರುಕಟ್ಟೆ ವರದಿ ಕೆನಡಿಯನ್ ಡಾಲರ್ ಮತ್ತು ಬಾಂಡ್ ಗಳ ವರದಿ ಕೆನಡಾದ ಕೆನಡಾದ ಮಾರುಕಟ್ಟೆಗಳ ಡೈರೆಕ್ಟರಿಗಾಗಿ ರಾಯಿಟರ್ಸ್ ಜಾಗತಿಕ ಷೇರುಗಳ ಸಮೀಕ್ಷೆ ಸಿ ಪೂಜಾ ಕೇಶವನ್ ಅವರ ವರದಿ ಬೆಂಗಳೂರು ಸಂಪಾದನೆಯಲ್ಲಿ ಬರ್ನಾರ್ಡ್ ಓರ್ ಫೈಲ್ ಫೋಟೋ ಹಾಲಿಡೇ ಶಾಪರ್ ಗಳು ಆರ್ಲಿಂಗ್ಟನ್ ವರ್ಜೀನಿಯಾದ ಪೆಂಟಗನ್ ಸೆಂಟರ್ ಶಾಪಿಂಗ್ ಮಾಲ್ ನಲ್ಲಿ ಬೆಸ್ಟ್ ಬೈ ಸ್ಟೋರ್ ಅನ್ನು ಬಿಡುತ್ತಾರೆ ನೀವು ನವೆಂಬರ್ ರಾಯಿಟರ್ಸ್ ಲೊರೆನ್ ಎಲಿಯಟ್ ರಾಯಿಟರ್ಸ್ ಬೆಸ್ಟ್ ಬೈ ಕೋ ಇಂಕ್ ಬಿಬಿವೈ ಎನ್ ತ್ರೈಮಾಸಿಕ ಅದೇ ಅಂಗಡಿ ಮಾರಾಟ ಅಂದಾಜುಗಳನ್ನು ಗುರುವಾರ ಪ್ರಬಲ ಆನ್ ಲೈನ್ ಮತ್ತು ಅಪ್ಲಿಕೇಶನ್ ಮಾರಾಟದಲ್ಲಿ ಮೀರಿಸಿದೆ ಇಟ್ಟಿಗೆ ಮತ್ತು ಗಾರೆ ಚಿಲ್ಲರೆ ವ್ಯಾಪಾರಿಗಳಿಗೆ ನಿರಾಶಾದಾಯಕ ರಜಾದಿನಗಳು ಆದಾಗ್ಯೂ ವರ್ಷದ ಮೊದಲಾರ್ಧದಲ್ಲಿ ಕೊರೊನಾವೈರಸ್ ಏಕಾಏಕಿ ಆರ್ಥಿಕ ಹಿಟ್ ತೆಗೆದುಕೊಳ್ಳಲಿದೆ ಎಂದು ಕಂಪನಿಯು ಹೇಳಿದೆ ಮತ್ತು ಹಣಕಾಸಿನ ರ ಮುನ್ಸೂಚನೆ ರ ವಾಲ್ ಸ್ಟ್ರೀಟ್ ನ ನಿರೀಕ್ಷೆಗಳೊಂದಿಗೆ ಹೋಲಿಸಿದರೆ ಫ್ಲಾಟ್ ನ ಅದೇ ಅಂಗಡಿ ಮಾರಾಟದ ಬೆಳವಣಿಗೆ ಕ್ಕೆ ಫೆಬ್ರವರಿ ಕ್ಕೆ ಕೊನೆಗೊಂಡ ನಾಲ್ಕನೇ ತ್ರೈಮಾಸಿಕದಲ್ಲಿ ಬೆಸ್ಟ್ ಬೈನ ಒಟ್ಟಾರೆ ಅದೇ ಅಂಗಡಿ ಮಾರಾಟವು ಏರಿಕೆಯಾಗಿದೆ ಯುರೋ ವಲಯ ಪರಿಧಿಯ ಸರ್ಕಾರಿ ಬಾಂಡ್ ಇಳುವರಿ ನವೀಕರಣಗಳ ಬೆಲೆಗಳು ಗ್ರಾಫಿಕ್ ಅನ್ನು ಸೇರಿಸುತ್ತವೆ ಬೈ ಸೈಕತ್ ಚಟರ್ಜಿ ಲಂಡನ್ ಫೆಬ್ರವರಿ ರಾಯಿಟರ್ಸ್ ಯುರೋಪಿಯನ್ ಸರ್ಕಾರದ ಬಾಂಡ್ ಇಳುವರಿ ಗುರುವಾರ ಕುಸಿದಿದ್ದು ಜರ್ಮನಿಯ ಮಾನದಂಡ ಸಾಲ ಇಳುವರಿ ನಾಲ್ಕು ತಿಂಗಳಿಗಿಂತಲೂ ಕಡಿಮೆ ಅವಧಿಯಲ್ಲಿ ಜರ್ಮನಿಯ ಮಾನದಂಡದ ಸಾಲ ಇಳುವರಿ ಕುಸಿಯಿತು ಮಾನದಂಡದ ಮೇಲಿನ ಇಳುವರಿ ಜರ್ಮನ್ ವರ್ಷದ ಮೆಚುರಿಟಿಗಳು ಅಕ್ಟೋಬರ್ ಆರಂಭದಲ್ಲಿ ಬಿಪಿಗಳಿಗಿಂತಲೂ ಹೆಚ್ಚು ಕುಸಿದು ಕ್ಕೆ ತಲುಪಿದ್ದವು ಹಿಂದಿನ ಅಧಿವೇಶನದಲ್ಲಿ ತಲುಪಿದ ರಷ್ಟಿತ್ತು ಜರ್ಮನ್ ಸಾಲ ಮತ್ತು ಅನುಗುಣವಾದ ಇಟಾಲಿಯನ್ ಬಾಂಡ್ ಗಳ ನಡುವೆ ಇಳುವರಿ ಹರಡುವುದು ಬೇಸಿಸ್ ಪಾಯಿಂಟ್ ಗಳಿಗಿಂತ ಒಂದು ತಿಂಗಳ ಗರಿಷ್ಠಕ್ಕೆ ವಿಸ್ತರಿಸಿದೆ ಬೆಂಚ್ ಮಾರ್ಕ್ ಇಟಾಲಿಯನ್ ಬಾಂಡ್ ಇಳುವರಿ ಬಿಪಿಎಸ್ ಏರಿಕೆಯಾಗಿ ಕ್ಕೆ ತಲುಪಿದೆ ಬೆಸ್ಟ್ ಬೈ ನಿರೀಕ್ಷಿತ ನಾಲ್ಕನೇ ತ್ರೈಮಾಸಿಕ ಫಲಿತಾಂಶಗಳಿಗಿಂತ ಉತ್ತಮವಾಗಿ ವರದಿ ಮಾಡಿದೆ ಮತ್ತು ಕೊರೊನಾವೈರಸ್ ನಿಂದ ಉಂಟಾಗುವ ಯಾವುದೇ ಅಡೆತಡೆಗಳು ತಾತ್ಕಾಲಿಕವಾಗಿ ಕಳುಹಿಸುವ ಷೇರುಗಳನ್ನು ಹೆಚ್ಚಿಸುತ್ತವೆ ಎಂದು ಹೇಳಿದರು ರಿಚ್ ಫೀಲ್ಡ್ ಮಿನ್ನೇಸೋಟ ಮೂಲದ ಎಲೆಕ್ಟ್ರಾನಿಕ್ಸ್ ಚಿಲ್ಲರೆ ತನ್ನ ನಾಲ್ಕನೇ ತ್ರೈಮಾಸಿಕ ಲಾಭವು ಶೇಕಡಾ ಏರಿಕೆಯಾಗಿ ದಶಲಕ್ಷಕ್ಕೆ ಅಥವಾ ಒಂದು ಪಾಲು ಹೊಂದಾಣಿಕೆಯ ಗಳಿಕೆ ಒಂದು ಪಾಲು ಮತ್ತು ಬಿಲಿಯನ್ ಆದಾಯವು ಪ್ರತಿಶತದಷ್ಟು ಹೆಚ್ಚಳವು ನಿರೀಕ್ಷಿತಕ್ಕಿಂತ ಉತ್ತಮವಾಗಿದೆ ದೇಶೀಯ ಹೋಲಿಕೆ ಮಾರಾಟವು ಒಂದು ವರ್ಷದ ಹಿಂದೆ ಶೇಕಡಾ ಏರಿಕೆಯಾಗಿದೆ ಮತ್ತು ದೇಶೀಯ ಹೋಲಿಸಬಹುದಾದ ಆನ್ ಲೈನ್ ಮಾರಾಟವು ಶೇಕಡಾ ಏರಿಕೆಯಾಗಿ ಕ್ಕೆ ತಲುಪಿದೆ ಬಿಲಿಯನ್ ಒಟ್ಟಾರೆ ಅದೇ ಅಂಗಡಿಗಳ ಮಾರಾಟವು ಶೇಕಡಾ ಏರಿಕೆಯಾಗಿದ್ದು ನಿರೀಕ್ಷಿತ ಲಾಭವನ್ನು ಶೇಕಡಾ ಮೀರಿಸಿದೆ ಅನಿರ್ದಿಷ್ಟ ಅನಾರೋಗ್ಯದ ಕಾರಣ ಪೋಪ್ ಫ್ರಾನ್ಸಿಸ್ ರೋಮ್ನಲ್ಲಿ ಪಾದ್ರಿಗಳೊಂದಿಗೆ ಯೋಜಿತ ಮಾಸ್ ಅನ್ನು ತಪ್ಪಿಸಿಕೊಂಡಿದ್ದಾನೆ ವ್ಯಾಟಿಕನ್ನಿಂದ ಅವನ ಅನಾರೋಗ್ಯದ ಸ್ವರೂಪದ ಬಗ್ಗೆ ಯಾವುದೇ ಮಾತುಗಳಿಲ್ಲ ಆದರೆ ಬೂದಿ ಬುಧವಾರದಂದು ಪೋಪ್ ಕೆಮ್ಮುವುದು ಮತ್ತು ಮೂಗು ಬೀಸುತ್ತಿರುವುದು ಕಂಡುಬಂತು ಇತ್ತೀಚೆಗೆ ಬುಧವಾರ ಅವರ ಸಾರ್ವಜನಿಕ ಸಾಮಾನ್ಯ ಪ್ರೇಕ್ಷಕರು ಮತ್ತು ನಂತರದ ದಿನಗಳಲ್ಲಿ ರೋಮನ್ ಬೆಸಿಲಿಕಾದಲ್ಲಿ ಬೂದಿ ಬುಧವಾರದ ಸೇವೆಯನ್ನು ಒಳಗೊಂಡಂತೆ ಕೆಲವು ಲೆಂಟ್ ಬೂದಿ ಬುಧವಾರ ಸೇವೆಗಳನ್ನು ರದ್ದುಗೊಳಿಸಲಾಯಿತು ಅಥವಾ ಉತ್ತರ ಇಟಲಿಯ ಪ್ರದೇಶಗಳಲ್ಲಿ ಸೀಮಿತಗೊಳಿಸಲಾಯಿತು ಮತ್ತು ಕೊರೊನಾವೈರಸ್ ಹರಡುವಿಕೆಯಿಂದಾಗಿ ಹಲವಾರು ಜನರು ಸೇಂಟ್ ಪೀಟರ್ ನಲ್ಲಿ ಮುಖವಾಡಗಳನ್ನು ಧರಿಸಿದ್ದರು ನಿನ್ನೆ ಪ್ರೇಕ್ಷಕರಲ್ಲಿ ಸ್ಕ್ವೇರ್ ಆದರೆ ಪೋಪ್ನ ಬೂದಿ ಬುಧವಾರ ಸೇವೆಯಲ್ಲಿ ಒಬ್ಬ ವ್ಯಕ್ತಿ ಮಾತ್ರ ಧರಿಸಿರುವುದು ಕಂಡುಬಂದಿದೆ ಜಾಗತಿಕ ಕರೋನವೈರಸ್ ಏಕಾಏಕಿ ಅದರ ದೃಷ್ಟಿಕೋನಕ್ಕೆ ಏಕಾಏಕಿ ಉಂಟಾದ ನಿರ್ವಹಣಾ ಅಂಶಗಳ ನಂತರ ಅನ್ಹ್ಯೂಸರ್ ಬುಶ್ ಎನ್ ವೈಎಸ್ ಇ ಬಡ್ ತೀವ್ರವಾಗಿ ಕುಸಿಯುತ್ತದೆ ಆದರೆ ಬಿಯರ್ ದೈತ್ಯ ತನ್ನ ವ್ಯವಹಾರದ ಮೇಲೆ ಏಕಾಏಕಿ ಪರಿಣಾಮವು ಎಂ ಆದಾಯವನ್ನು ಮುಂದುವರೆಸುತ್ತಿದೆ ಮತ್ತು ಎಮ್ ನ ಇಬಿಐಟಿಡಿಎ ಈಗಾಗಲೇ ಚೀನಾದಲ್ಲಿ ಕಳೆದುಹೋಗಿದೆ ಕರೋನವೈರಸ್ ಮತ್ತು ಬ್ರೆಜಿಲ್ನಂತಹ ಕೆಲವು ಪ್ರದೇಶಗಳಲ್ಲಿ ಹೋಲಿಸಬಹುದಾದ ಕಠಿಣತೆಯಿಂದಾಗಿ ಕ್ಯೂ ಇಬಿಐಟಿಡಿಎ ಸುಮಾರು ವರ್ಷಗಳು ಕಡಿಮೆಯಾಗಲಿದೆ ಎಂದು ಎಬಿ ನಿರೀಕ್ಷಿಸುತ್ತಿದೆ ಕಂಪನಿಯು ಇಬಿಐಟಿಡಿಎ ಬೆಳವಣಿಗೆಯನ್ನು ರಿಂದ ರವರೆಗೆ ಪೂರ್ಣ ವರ್ಷಕ್ಕೆ ನಿರೀಕ್ಷಿಸುತ್ತದೆ ಯ ಷೇರುಗಳು ಕ್ಕೆ ಪೂರ್ವ ಮಾರುಕಟ್ಟೆಯಾಗಿದೆ ಸಿಡಿಸಿ ಇನ್ಫೋಗ್ರಾಫಿಕ್ ಮುಖವಾಡಗಳ ಪ್ರಕಾರ ಸೈಡ್ ವಿಸ್ಕರ್ಸ್ ಸೋಲ್ ಪ್ಯಾಚ್ ಲ್ಯಾಂಪ್ ಶೇಡ್ ಗಳು ಮತ್ತು ಹ್ಯಾಂಡಲ್ ಬಾರ್ ಮೀಸೆಗಳು ಹೋಗುವುದು ಒಳ್ಳೆಯದು ಮತ್ತು ಜಾಗತಿಕವಾಗಿ ಕ್ಕೂ ಹೆಚ್ಚು ಪ್ರಕರಣಗಳನ್ನು ತಲುಪಿದ ಕರೋನವೈರಸ್ ಕಾದಂಬರಿಯ ಹರಡುವಿಕೆಯನ್ನು ತಡೆಗಟ್ಟಲು ವಿಶ್ವದಾದ್ಯಂತ ಉಸಿರಾಟಕಾರಕಗಳನ್ನು ಬಳಸಲಾಗುತ್ತಿದೆ ಉಸಿರಾಟಕಾರಕವು ಕನಿಷ್ಠ ಮೂಗು ಮತ್ತು ಬಾಯಿ ಮತ್ತು ಸಾಂಕ್ರಾಮಿಕ ಏಜೆಂಟ್ ಸೇರಿದಂತೆ ಕಣಗಳಿಂದ ರಕ್ಷಿಸುತ್ತದೆ ಸಿಡಿಸಿ ಮುಖದ ಕೂದಲು ಉಸಿರಾಟದ ಪರಿಣಾಮಕಾರಿತ್ವಕ್ಕೆ ಅಪಾಯವನ್ನುಂಟುಮಾಡುತ್ತದೆ ಏಕೆಂದರೆ ಇಬ್ಬರೂ ಇನ್ಫೋಗ್ರಾಫಿಕ್ ಅನ್ನು ಸಂಪರ್ಕಿಸಿದರೆ ಉಸಿರಾಟದ ಕವಾಟವನ್ನು ಸರಿಯಾಗಿ ಕಾರ್ಯನಿರ್ವಹಿಸದಂತೆ ಮಾಡುತ್ತದೆ ಎಂದು ಹೇಳಿದರು ಶೈಲಿಯ ಆಯ್ಕೆಯ ಹೊರತಾಗಿಯೂ ಕೂದಲು ದಾಟಬಾರದು ಇನ್ಫೋಗ್ರಾಫಿಕ್ ಹೇಳಿದ ಉಸಿರಾಟದ ಸೀಲಿಂಗ್ ಮೇಲ್ಮೈ ಪೋಪ್ ಫ್ರಾನ್ಸಿಸ್ ಅವರು ಅನಾರೋಗ್ಯದಿಂದ ಬಳಲುತ್ತಿದ್ದರಿಂದ ಇಂದು ಒಂದು ರಾಶಿಯನ್ನು ರದ್ದುಗೊಳಿಸಿದ್ದಾರೆ ವರ್ಷದ ಮಠಾಧೀಶರು ರೋಮ್ನ ಇನ್ನೊಂದು ಬದಿಯಲ್ಲಿರುವ ಸೇಂಟ್ ಜಾನ್ ಲ್ಯಾಟೆರನ್ ಬೆಸಿಲಿಕಾದಲ್ಲಿ ಪಾದ್ರಿಗಳೊಂದಿಗೆ ಪೂಜಿಸಬೇಕಾಗಿತ್ತು ಆದರೆ ವ್ಯಾಟಿಕನ್ನಲ್ಲಿ ಮನೆಯಲ್ಲಿಯೇ ಇದ್ದರು ಎಂಬುದು ಅವರ ಸ್ಪಷ್ಟತೆ ರೋಗಲಕ್ಷಣಗಳು ಆದರೆ ಸೇಂಟ್ ಪೀಟರ್ಸ್ನಲ್ಲಿ ನಿನ್ನೆ ಬೂದಿ ಬುಧವಾರದ ಸೇವೆಯ ಸಮಯದಲ್ಲಿ ಅವರು ಮೂಗು ದುವಂತೆ ಮತ್ತು ಬಾಯಿ ಮುಚ್ಚಿಕೊಳ್ಳುತ್ತಿರುವುದು ಕಂಡುಬಂತು ಸೇಂಟ್ ಪೀಟರ್ಸ್ ಸ್ಕ್ವೇರ್ ರೋಮ್ನಲ್ಲಿ ದೊಡ್ಡ ಜನಸಮೂಹವನ್ನು ಸ್ವಾಗತಿಸುತ್ತಿದ್ದಂತೆ ಫ್ರಾನ್ಸಿಸ್ ಉತ್ತಮ ಉತ್ಸಾಹದಿಂದ ಕಾಣಿಸಿಕೊಂಡರು ರ ಬಗ್ಗೆ ಉತ್ತರ ಕೆರೊಲಿನಾ ಅಧಿಕಾರಿಗಳು ನಿವಾಸಿಗಳಿಗೆ ಮತ್ತು ವ್ಯವಹಾರಗಳಿಗೆ ಸಂದೇಶ ಕೊರೋನವೈರಸ್ ನೀವು ಅದರ ಬಗ್ಗೆ ಯೋಚಿಸಲು ಪ್ರಾರಂಭಿಸದಿದ್ದರೆ ಇದು ಪ್ರಾರಂಭಿಸುವ ಸಮಯ ಎಂದು ನಿರ್ದಿಷ್ಟವಾಗಿ ವ್ಯವಹಾರಗಳ ಅಧಿಕಾರಿಗಳು ಹೇಳಿದರು ಇದು ಮಾನವ ಸಂಪನ್ಮೂಲ ಕೈಪಿಡಿಗಳನ್ನು ಮುರಿಯಲು ಮತ್ತು ಉದ್ಯೋಗಿಗಳಿಗೆ ಅವರ ಆಯ್ಕೆಗಳನ್ನು ತಿಳಿದಿದೆಯೇ ಎಂದು ಖಚಿತಪಡಿಸಿಕೊಳ್ಳಿ ಟೆಲಿಹೆಲ್ತ್ ಮತ್ತು ದೂರದಿಂದ ಕೆಲಸ ಮಾಡುವುದು ಬುಧವಾರ ಮಧ್ಯಾಹ್ನ ಗೋವ್ ರಾಯ್ ಕೂಪರ್ ಅವರ ಕರೋನವೈರಸ್ ಟಾಸ್ಕ್ ಫೋರ್ಸ್ನ ಸಹ ಕುರ್ಚಿಗಳು ಉತ್ತರ ಕೆರೊಲಿನಾ ನಿವಾಸಿಗಳಿಗೆ ಕೆಲವು ಸೀಮಿತ ಕ್ರಮಗಳನ್ನು ಪ್ರಾರಂಭಿಸಲು ಒತ್ತಾಯಿಸಿದರು ಬೀಜಿಂಗ್ ರಾಯಿಟರ್ಸ್ ಕರೋನೊವೈರಸ್ ಏಕಾಏಕಿ ಮಧ್ಯೆ ವಾಂಗ್ ಕ್ಸುರೊಂಗ್ ಚೀನಾದ ರಾಜಧಾನಿಯ ಸುತ್ತ ಪ್ರಯಾಣಿಕರನ್ನು ಓಡಿಸುತ್ತಿದ್ದಂತೆ ಆಕೆ ತನ್ನ ಪ್ರಯಾಣಿಕರಿಂದ ಬೇರ್ಪಡಿಸುವ ಪ್ಲಾಸ್ಟಿಕ್ ಹಾಳೆಯನ್ನು ರಕ್ಷಿಸಿದಳು ಚೀನಾದ ಸವಾರಿ ಹೇಲಿಂಗ್ ದೈತ್ಯ ದೀದಿ ಚುಕ್ಸಿಂಗ್ ಅವರ ಅಭಿಯಾನದ ಭಾಗವಾಗಿ ವಾಂಗ್ ಕಳೆದ ವಾರ ಹಾಳೆಯನ್ನು ಸ್ಥಾಪಿಸಿದ್ದಾನೆ ಚಾಲಕರಿಗೆ ಯಾವುದೇ ಶುಲ್ಕವಿಲ್ಲದೆ ಬೀಜಿಂಗ್ ನಲ್ಲಿ ದಿನಕ್ಕೆ ರಿಂದ ಗುರಾಣಿಗಳನ್ನು ಸ್ಥಾಪಿಸುತ್ತಿದೆ ಎಂದು ಕಂಪನಿ ಹೇಳಿದೆ ಪ್ಲಾಸ್ಟಿಕ್ ಕೈಗವಸುಗಳು ಮುಖವಾಡಗಳು ಮತ್ತು ಇತರ ರಕ್ಷಣಾತ್ಮಕ ಸಾಧನಗಳನ್ನು ಚಾಲಕರಿಗೆ ಒದಗಿಸುತ್ತದೆ ಎಂದು ಕಂಪನಿಯು ಹೇಳಿದೆ ಏಕಾಏಕಿ ವಾಂಗ್ ಗುರುವಾರ ತನ್ನ ಬಿಳಿ ಟೊಯೋಟಾವನ್ನು ಓಡಿಸುತ್ತಿದೆ ಎಂದು ಹೇಳಿದರು ಕೊರೊಲ್ಲಾ ಪ್ರತಿದಿನ ರಿಂದ ಗಂಟೆಗಳವರೆಗೆ ಮತ್ತು ಪ್ರತಿ ನಾಲ್ಕು ಗಂಟೆಗಳಿಗೊಮ್ಮೆ ಅದನ್ನು ಸೋಂಕುರಹಿತಗೊಳಿಸುತ್ತದೆ ಕೊರೊನಾವೈರಸ್ ಏಕಾಏಕಿ ಚೀನಾದಲ್ಲಿ ಸುಮಾರು ಜನರಿಗೆ ಸಾವುನೋವುಗಳನ್ನು ಉಂಟುಮಾಡಿದೆ ಬೇಡಿಕೆ ಹೆಚ್ಚಾದಂತೆ ದಕ್ಷಿಣ ಕೊರಿಯಾ ಡ್ರೈವ್ ಥ್ರೂ ಕೊರೊನವೈರಸ್ ಪರೀಕ್ಷಾ ಸೌಲಭ್ಯಗಳನ್ನು ಪ್ರಾರಂಭಿಸಿದೆ ದಕ್ಷಿಣ ಕೊರಿಯಾದಲ್ಲಿ ದಕ್ಷಿಣ ಕೊರಿಯಾದಲ್ಲಿ ಹೆಚ್ಚುತ್ತಿರುವ ಸ್ಥಳೀಯ ಸರ್ಕಾರಗಳು ಈ ವಾರ ರಸ್ತೆಬದಿಯ ಪರೀಕ್ಷಾ ಸೌಲಭ್ಯಗಳನ್ನು ಪ್ರಾರಂಭಿಸುತ್ತಿವೆ ಏಕೆಂದರೆ ತಪಾಸಣೆಗಾಗಿ ಬೇಡಿಕೆ ಹೆಚ್ಚಾಗುತ್ತದೆ ಮತ್ತು ಕಾಯುವ ಸಮಯ ಹೆಚ್ಚಾಗುವುದು ಸೋಂಕಿನ ಅಪಾಯವನ್ನು ಹೆಚ್ಚಿಸುತ್ತದೆ ರಾಜಧಾನಿ ಸಿಯೋಲ್ ನ ವಾಯುವ್ಯ ದಿಕ್ಕಿನಲ್ಲಿ ಸುಮಾರು ಕಿ ಮೀ ದೂರದಲ್ಲಿರುವ ಗೊಯಾಂಗ್ ನಲ್ಲಿ ತಾತ್ಕಾಲಿಕ ಪರೀಕ್ಷಾ ಸೌಲಭ್ಯವನ್ನು ತೆರೆಯಲಾಯಿತು ಬುಧವಾರ ಸಾರ್ವಜನಿಕ ಪಾರ್ಕಿಂಗ್ ಸ್ಥಳದಲ್ಲಿ ಕ್ಕೂ ಹೆಚ್ಚು ನಿವಾಸಿಗಳು ಪ್ರತಿದಿನ ಪರೀಕ್ಷೆಗೆ ಒಳಪಡುತ್ತಾರೆ ಎಂದು ನಗರ ಹೇಳಿಕೆಯೊಂದರಲ್ಲಿ ತಿಳಿಸಿದೆ ದಕ್ಷಿಣ ಕೊರಿಯಾದಲ್ಲಿ ಹೆಚ್ಚಿನ ಪ್ರಕರಣಗಳು ಆಗ್ನೇಯ ನಗರವಾದ ಡೇಗು ಮೂಲದವು ದೇಶದ ಏಕಾಏಕಿ ಕೇಂದ್ರದಲ್ಲಿ ಚರ್ಚ್ ಇರುವ ಸ್ಥಳ ಇದು ಡ್ರೈವ್ ಥ್ರೂ ಸೌಲಭ್ಯವನ್ನು ಸಹ ತೆರೆದಿದೆ ಇಲ್ಲಿ ಕಡಿಮೆ ಜನಸಂದಣಿಯ ರೀತಿಯಲ್ಲಿ ನಾವು ಅನೇಕ ಜನರನ್ನು ಅಲ್ಪಾವಧಿಯಲ್ಲಿಯೇ ಪರೀಕ್ಷಿಸಬಹುದು ಮತ್ತು ಸೋಂಕಿನ ಕಡಿಮೆ ಅಪಾಯಗಳಿವೆ ಏಕೆಂದರೆ ಇದನ್ನು ಕಾರಿನೊಳಗೆ ಮಾಡಲಾಗುತ್ತದೆ ಕಿಮ್ ಗೊಯಾಂಗ್ ಸಮುದಾಯ ಆರೋಗ್ಯ ಕೇಂದ್ರದ ಮುಖ್ಯಸ್ಥ ಸ್ಥಳೀಯ ಪ್ರಸಾರಕರಾದ ಎಮ್ ಬಿಸಿಗೆ ತಿಳಿಸಿದರು ವುಹಾನ್ ಚೀನಾದಲ್ಲಿ ರ ಡಿಸೆಂಬರ್ ನಲ್ಲಿ ಕರೋನವೈರಸ್ ಏಕಾಏಕಿ ಜಿಂಬಾಬ್ವೆಯ ಆರ್ಥಿಕ ದೃಷ್ಟಿಕೋನವನ್ನು ಉಲ್ಬಣಗೊಳಿಸುತ್ತಿದೆ ಎಂದು ಐಎಂಎಫ್ ತಜ್ಞರು ಹೇಳಿದ್ದಾರೆ ಜಿಂಬಾಬ್ವೆ ತನ್ನ ಲುಕ್ ಈಸ್ಟ್ ನೀತಿಯನ್ನು ರಲ್ಲಿ ಪ್ರಾರಂಭಿಸಿದಾಗಿನಿಂದ ಪಶ್ಚಿಮದಲ್ಲಿ ಅನೇಕ ಜಿಂಬಾಬ್ವೆಯರು ಚೀನಾಕ್ಕೆ ಮೊಬೈಲ್ ಫೋನ್ ಮತ್ತು ಅಗ್ಗದ ವಸ್ತುಗಳನ್ನು ಖರೀದಿಸಲು ಪ್ರಯಾಣ ಬೆಳೆಸಿದರು ಬಿಡಿಭಾಗಗಳು ಬಟ್ಟೆ ಮತ್ತು ಜಿಂಬಾಬ್ವೆಯ ಮರುಮಾರಾಟಕ್ಕಾಗಿ ಇತರ ಅಗತ್ಯ ವಸ್ತುಗಳು ಆದರೆ ವೈರಸ್ ಸ್ಫೋಟದ ನಂತರ ಚೀನಾದ ಅಧಿಕಾರಿಗಳು ವಿಧಿಸಿರುವ ಪ್ರಯಾಣದ ನಿರ್ಬಂಧಗಳು ಸರಕುಗಳನ್ನು ಆಮದು ಮಾಡಿಕೊಳ್ಳಲು ಜಿಂಬಾಬ್ವೆಯ ಸಣ್ಣ ಉದ್ಯಮಿಗಳನ್ನು ನಿರ್ಬಂಧಿಸುತ್ತಿವೆ ಅವನಿಗೆ ಇತರ ಅಭಿವೃದ್ಧಿ ಹೊಂದಿದ ದೇಶಗಳಿಗಿಂತ ಚೀನಾದಿಂದ ಜಿಂಬಾಬ್ವೆಗೆ ಸಾಗಣೆಯನ್ನು ಕಳುಹಿಸುವುದು ಸುಲಭವಾಗಿದೆ ಚೀನಾಕ್ಕೆ ಸಂಪನ್ಮೂಲಗಳನ್ನು ಮಾರಾಟ ಮಾಡುವುದನ್ನು ಅವಲಂಬಿಸಿರುವ ಕನಿಷ್ಠ ಆಫ್ರಿಕನ್ ದೇಶಗಳಿಗೆ ತೀವ್ರ ಹೊಡೆತ ಬೀಳಲಿದೆ ಮತ್ತು ಜಿಂಬಾಬ್ವೆ ಇದಕ್ಕೆ ಹೊರತಾಗಿಲ್ಲ ಎಂದು ಹಣಕಾಸು ನಿಧಿ ಹೇಳಿದೆ ಹೊಸ ಕರೋನವೈರಸ್ ಹರಡುವುದನ್ನು ತಡೆಗಟ್ಟಲು ಮಾರ್ಚ್ ರಿಂದ ಹಲವಾರು ವಾರಗಳವರೆಗೆ ಶಾಲೆಗಳನ್ನು ರಾಷ್ಟ್ರವ್ಯಾಪಿ ಮುಚ್ಚುವಂತೆ ಜಪಾನ್ ಪ್ರಧಾನಿ ಶಿಂಜೊ ಅಬೆ ಗುರುವಾರ ಕರೆ ನೀಡಿದರು ರಾಷ್ಟ್ರದಾದ್ಯಂತದ ಎಲ್ಲಾ ಪ್ರಾಥಮಿಕ ಕಿರಿಯ ಪ್ರೌ ಮತ್ತು ಪ್ರೌ ಶಾಲೆಗಳನ್ನು ಮುಂದಿನ ವಾರ ಮಾರ್ಚ್ ರಿಂದ ವಸಂತಕಾಲದವರೆಗೆ ತಾತ್ಕಾಲಿಕವಾಗಿ ಮುಚ್ಚುವಂತೆ ನಾವು ವಿನಂತಿಸುತ್ತೇವೆ ವಿರಾಮ ಸಾರ್ವಜನಿಕ ಶಾಲೆಗಳಿಗೆ ವಸಂತ ವಿರಾಮ ಸಾಮಾನ್ಯವಾಗಿ ಜಪಾನ್ ನಲ್ಲಿ ಮಾರ್ಚ್ ಅಂತ್ಯದಲ್ಲಿ ಪ್ರಾರಂಭವಾಗುತ್ತದೆ ಮತ್ತು ಹಲವಾರು ವಾರಗಳವರೆಗೆ ಇರುತ್ತದೆ ಉತ್ತರ ಹೊಕ್ಕೈಡೊದಲ್ಲಿನ ಅನೇಕ ಸಾರ್ವಜನಿಕ ಪ್ರಾಥಮಿಕ ಶಾಲೆಗಳು ಮತ್ತು ಕಿರಿಯ ಪ್ರೌ ಶಾಲೆಗಳನ್ನು ಗುರುವಾರ ಈಗಾಗಲೇ ಮುಚ್ಚಲಾಯಿತು ರಾಜ್ಯಪಾಲರು ಸಾರ್ವಜನಿಕ ಶಾಲೆಗಳನ್ನು ಒಂದು ವಾರದವರೆಗೆ ಮುಚ್ಚುವಂತೆ ವಿನಂತಿಸಿದ ನಂತರ ಒಸಾಕಾ ನಗರ ತನ್ನ ಶಿಶುವಿಹಾರದ ಪ್ರಾಥಮಿಕ ಮತ್ತು ಕಿರಿಯ ಪ್ರೌ ಶಾಲೆಗಳನ್ನು ಶನಿವಾರದಿಂದ ಎರಡು ವಾರಗಳವರೆಗೆ ಮುಚ್ಚುವುದಾಗಿ ಹೇಳಿದೆ ಸಿಂಗಾಪುರ ಸಿಂಗಾಪುರ್ ಎಕ್ಸ್ಚೇಂಜ್ ಎಸ್ ಜಿಎಕ್ಸ್ ಹೆಚ್ಚು ಪಟ್ಟಿಮಾಡಿದ ಕಂಪೆನಿಗಳು ತಮ್ಮ ಪೂರ್ಣ ವರ್ಷದ ಫಲಿತಾಂಶಗಳನ್ನು ಎರಡು ತಿಂಗಳವರೆಗೆ ವಿಳಂಬಗೊಳಿಸಲು ಅವಕಾಶ ಮಾಡಿಕೊಟ್ಟಿದೆ ವಿನಿಮಯ ಕೇಂದ್ರವು ಫೆಬ್ರವರಿ ರ ಗುರುವಾರ ಹೇಳಿದೆ ಫೆಬ್ರವರಿ ರಂದು ಎಸ್ ಜಿಎಕ್ಸ್ ಎರಡು ತಿಂಗಳ ವಿಸ್ತರಣೆಯು ಕಂಪೆನಿಗಳಿಗೆ ಮಾತ್ರ ಅನ್ವಯಿಸುತ್ತದೆ ಎಂದು ಹೇಳಿದರು ಹಣಕಾಸು ವರ್ಷವು ಡಿಸೆಂಬರ್ ರಂದು ಕೊನೆಗೊಳ್ಳುತ್ತದೆ ಮತ್ತು ಚೀನಾವು ಅವರ ವ್ಯವಹಾರದ ಪ್ರಮುಖ ಸ್ಥಳವಾಗಿದ್ದರೆ ಅಥವಾ ಅಲ್ಲಿ ಅವರು ಗಮನಾರ್ಹವಾದ ಕಾರ್ಯಾಚರಣೆಗಳನ್ನು ಹೊಂದಿದ್ದರೆ ಆದರೆ ಗುರುವಾರ ಪ್ರಕಟಣೆಯೊಂದಿಗೆ ವಿಸ್ತರಣೆಯು ಕಂಪೆನಿಗಳಿಗೆ ತಮ್ಮ ವ್ಯವಹಾರ ಅಥವಾ ಕಾರ್ಯಾಚರಣೆಯ ಸ್ಥಳವು ನಿರ್ದಿಷ್ಟವಾಗಿ ಕಾರ್ಯಗತಗೊಳಿಸಲು ಹೆಚ್ಚಿನ ಸಮಯ ಅಗತ್ಯವಿರುವ ಸಂಸ್ಥೆಗಳಾಗಿರಲಿ ಕರೋನವೈರಸ್ ಕಳವಳಗಳನ್ನು ಪರಿಹರಿಸುವ ಕ್ರಮಗಳು ಹೆಚ್ಚಿನ ಕಂಪೆನಿಗಳು ತಮ್ಮ ಪೂರ್ಣ ವರ್ಷದ ಫಲಿತಾಂಶಗಳನ್ನು ವಿಳಂಬಗೊಳಿಸಲು ಅನುಮತಿಸುವ ಕ್ರಮವನ್ನು ವಿವರಿಸುವುದು ಎಸ್ ಜಿಎಕ್ಸ್ ವೈರಸ್ ಏಕಾಏಕಿ ಪ್ರತಿಕ್ರಿಯೆಯಾಗಿ ಹೇರಿದ ಕ್ರಮಗಳಿಂದಾಗಿ ಕೆಲವು ಲೆಕ್ಕ ಪರಿಶೋಧಕರು ಎದುರಿಸುತ್ತಿರುವ ತೊಂದರೆಗಳನ್ನು ಉದಾಹರಿಸಿದ್ದಾರೆ ಈ ಅವಧಿಯಲ್ಲಿ ಎಜಿಎಂಗಳು ಎಸ್ ಜಿಎಕ್ಸ್ ವಿಸ್ತರಣೆಯು ಕಂಪನಿಗಳಿಗೆ ಹೆಚ್ಚಿನ ಸಮಯವನ್ನು ನೀಡುತ್ತದೆ ಎಂದು ಹೇಳಿದರು ಕಂಪೆನಿಗಳು ವೆಬ್ ಕಾಸ್ಟ್ ಗಳಂತಹ ಅಳವಡಿಸಿಕೊಳ್ಳಬಹುದಾದ ಅಥವಾ ಎಜಿಎಂಗೆ ಭೌತಿಕವಾಗಿ ಹಾಜರಾಗದೆ ಪ್ರಾಕ್ಸಿಗಳ ಮೂಲಕ ಷೇರುದಾರರಿಗೆ ಮತ ಚಲಾಯಿಸಲು ಅವಕಾಶ ನೀಡುವಂತಹ ತಮ್ಮ ಎಜಿಎಂ ಮತ್ತು ಪಟ್ಟಿಮಾಡಿದ ವರ್ಚುವಲ್ ಚಾನೆಲ್ ಗಳನ್ನು ನಡೆಸಲು ಉತ್ತಮ ಮಾರ್ಗವನ್ನು ಪರಿಗಣಿಸುವುದು ಫೇರ್ ಸೊಸೈಟಿ ಹೆಲ್ತಿ ಲೈವ್ಸ್ ಅನ್ನು ಮಾರ್ಮೊಟ್ ರಿವ್ಯೂ ಎಂದು ಕರೆಯಲಾಗುತ್ತದೆ ರಲ್ಲಿ ಪ್ರಕಟವಾಯಿತು ಮತ್ತು ಜೀವನದುದ್ದಕ್ಕೂ ಆರೋಗ್ಯದ ಸಾಮಾಜಿಕ ನಿರ್ಧಾರಕಗಳ ಮೇಲೆ ಕಾರ್ಯನಿರ್ವಹಿಸಲು ನೀತಿಗಳನ್ನು ಶಿಫಾರಸು ಮಾಡಿದೆ ಹೊಸ ವರದಿಯಲ್ಲಿ ಮಾರ್ಮೊಟ್ ಕಳೆದ ದಶಕದಲ್ಲಿ ಜೀವಿತಾವಧಿಯಲ್ಲಿನ ಲಾಭಗಳು ನಾಟಕೀಯವಾಗಿ ನಿಧಾನವಾಗಿದೆ ಮತ್ತು ಸಾಮಾಜಿಕ ಅಸಮಾನತೆಗಳು ವಿಸ್ತರಿಸುವುದು ರಾಜಕೀಯ ಬದ್ಧತೆಯಾಗಿದೆ ಏಕೆಂದರೆ ಆರೋಗ್ಯ ಅಸಮಾನತೆಗಳು ಅನಿವಾರ್ಯವಲ್ಲ ಆದರೆ ಸಮಾಜದಲ್ಲಿನ ತಪ್ಪಿಸಬಹುದಾದ ಅಸಮಾನತೆಗಳಿಂದ ಉದ್ಭವಿಸುತ್ತದೆ ಮೈಕೆಲ್ ಆಂಡರ್ಸನ್ ಮತ್ತು ಸಹೋದ್ಯೋಗಿಗಳು ಖಾಸಗಿ ಆಸ್ಪತ್ರೆಗಳ ಚಟುವಟಿಕೆ ಮತ್ತು ಫಲಿತಾಂಶಗಳ ಕಳಪೆ ವರದಿಯನ್ನು ಟೀಕಿಸುತ್ತಾರೆ ಮತ್ತು ಸ್ವತಂತ್ರ ವಲಯವನ್ನು ಅನುಗುಣವಾಗಿ ತರಲು ತುರ್ತು ಕ್ರಮಕ್ಕೆ ಕರೆ ನೀಡುತ್ತಾರೆ ನಿಗದಿಪಡಿಸಿದ ಮಾನದಂಡಗಳು ಸಾಮಾಜಿಕ ನಿರ್ಧಾರಕಗಳು ಮತ್ತು ಆರೋಗ್ಯ ಅಸಮಾನತೆಗಳ ವಿಷಯಕ್ಕೆ ಬಂದಾಗ ಬಹುಶಃ ನಾವು ಹೆಚ್ಚು ವಿವೇಕಯುತ ಕಾಳಜಿಯನ್ನು ಹೊಂದಿದ್ದೇವೆ ಟೋಕಿಯೊ ಜಪಾನ್ ಜಪಾನ್ ಪ್ರಧಾನಿ ಶಿಂಜೊ ಅಬೆ ಅವರು ಫೆಬ್ರವರಿ ರ ಗುರುವಾರ ಸಾರ್ವಜನಿಕ ಶಾಲೆಗಳಿಗೆ ಮಾರ್ಚ್ ರಿಂದ ರಾಷ್ಟ್ರವ್ಯಾಪಿ ಮುಚ್ಚಬೇಕೆಂದು ಕರೆ ನೀಡಿದರು ಹೊಸ ಪರಿಧಮನಿಯ ಹರಡುವಿಕೆಯನ್ನು ತಡೆಗಟ್ಟಲು ರಾಷ್ಟ್ರದಾದ್ಯಂತದ ಎಲ್ಲಾ ಪ್ರಾಥಮಿಕ ಕಿರಿಯ ಪ್ರೌ ಮತ್ತು ಪ್ರೌ ಶಾಲೆಗಳನ್ನು ಮುಂದಿನ ವಾರ ಮಾರ್ಚ್ ರಿಂದ ತಾತ್ಕಾಲಿಕವಾಗಿ ಮುಚ್ಚುವಂತೆ ನಾವು ವಿನಂತಿಸುತ್ತೇವೆ ವಸಂತ ವಿರಾಮ ಸಾರ್ವಜನಿಕ ಶಾಲೆಗಳಿಗೆ ವಸಂತ ವಿರಾಮ ಸಾಮಾನ್ಯವಾಗಿ ಜಪಾನ್ ನಲ್ಲಿ ಮಾರ್ಚ್ ಅಂತ್ಯದಲ್ಲಿ ಪ್ರಾರಂಭವಾಗುತ್ತದೆ ಉತ್ತರ ಹೊಕ್ಕೈಡೊದಲ್ಲಿನ ಅನೇಕ ಸಾರ್ವಜನಿಕ ಪ್ರಾಥಮಿಕ ಶಾಲೆಗಳು ಮತ್ತು ಕಿರಿಯ ಪ್ರೌ ಶಾಲೆಗಳನ್ನು ಗುರುವಾರ ಮುಚ್ಚಲಾಯಿತು ಏಕೆಂದರೆ ಸಾರ್ವಜನಿಕ ಶಾಲೆಗಳನ್ನು ಸುಮಾರು ಒಂದು ವಾರ ಮುಚ್ಚಬೇಕೆಂದು ರಾಜ್ಯಪಾಲರು ವಿನಂತಿಸಿದ್ದಾರೆ ಒಸಾಕಾ ನಗರ ಕೂಡ ಹೇಳಿದೆ ಇದು ತನ್ನ ಶಿಶುವಿಹಾರದ ಪ್ರಾಥಮಿಕ ಮತ್ತು ಕಿರಿಯ ಪ್ರೌ ಶಾಲೆಗಳನ್ನು ಫೆಬ್ರವರಿ ರ ಶನಿವಾರದಿಂದ ಎರಡು ವಾರಗಳವರೆಗೆ ಮುಚ್ಚಲಿದೆ ಬೀಜಿಂಗ್ ಚೀನಾ ವೈರಸ್ ಪೀಡಿತ ಚೀನಾದಲ್ಲಿನ ವಿದೇಶಿ ಸಂಸ್ಥೆಗಳು ವಿಶೇಷವಾಗಿ ವರ್ಷದ ಮೊದಲಾರ್ಧದಲ್ಲಿ ತಮ್ಮ ವ್ಯಾಪಾರ ಗುರಿಗಳನ್ನು ಕಡಿಮೆ ಮಾಡಲು ಕೆಲವು ಯೋಜನೆಗಳೊಂದಿಗೆ ಆದಾಯದಲ್ಲಿ ದೊಡ್ಡ ಕುಸಿತವನ್ನು ನಿರೀಕ್ಷಿಸುತ್ತಿವೆ ಎಂದು ವ್ಯಾಪಾರ ಸಂಘಗಳು ಗುರುವಾರ ಫೆಬ್ರವರಿ ರಂದು ವ್ಯಾಪಾರ ಸಂಘಗಳು ತಿಳಿಸಿವೆ ಚೀನಾದಲ್ಲಿನ ಅಮೇರಿಕನ್ ಚೇಂಬರ್ ಆಫ್ ಕಾಮರ್ಸ್ ನಡೆಸಿದ ಸಮೀಕ್ಷೆಯೊಂದು ಬಿಡುಗಡೆ ಮಾಡಿದೆ ಏಪ್ರಿಲ್ ಅಂತ್ಯದ ಮೊದಲು ವ್ಯವಹಾರವು ಸಾಮಾನ್ಯ ಸ್ಥಿತಿಗೆ ಬರಲು ಸಾಧ್ಯವಾಗದಿದ್ದರೆ ಚೀನಾದಲ್ಲಿ ಆದಾಯವು ಈ ವರ್ಷ ಕುಸಿಯುತ್ತದೆ ಎಂದು ಗುರುವಾರ ತನ್ನ ಪ್ರತಿಕ್ರಿಯಿಸಿದವರಲ್ಲಿ ಅರ್ಧದಷ್ಟು ಜನರು ನಿರೀಕ್ಷಿಸಿದ್ದಾರೆ ಚೀನಾ ಹೊಸ ವರ್ಷದ ರಜಾದಿನದ ನಂತರ ಚೀನಾ ವ್ಯವಹಾರವನ್ನು ನಿಧಾನವಾಗಿ ಪುನರಾರಂಭಿಸಿದೆ ಎಂದು ಜನವರಿ ಅಂತ್ಯದಲ್ಲಿ ಚೀನಾ ಹೇಳಿದೆ ಮಾರಣಾಂತಿಕ ಕೊರೊನಾವೈರಸ್ನ ಮತ್ತಷ್ಟು ಹರಡುವಿಕೆ ಈ ಬಿಕ್ಕಟ್ಟು ಭವಿಷ್ಯದಲ್ಲಿ ನಾವು ವ್ಯವಹಾರ ಮಾಡುವ ವಿಧಾನವನ್ನು ಪ್ರಶ್ನಿಸಲಿದೆ ಎಂದು ಚೀನಾದ ಇಯು ಚೇಂಬರ್ನ ಅಧ್ಯಕ್ಷ ಜೋರ್ಗ್ ವುಟ್ಕೆ ಗುರುವಾರ ಸುದ್ದಿಗಾರರಿಗೆ ತಿಳಿಸಿದರು ವೈರಸ್ ಹರಡಿದ ನಂತರ ಚೀನಾದಲ್ಲಿನ ಹೆಚ್ಚಿನ ಸಣ್ಣ ಸಂಸ್ಥೆಗಳು ಇನ್ನೂ ತೆರೆಯಬೇಕಾಗಿಲ್ಲ ಬ್ರಿಟಿಷ್ ವ್ಯವಹಾರ ಕಚೇರಿಗಳು ಮುಚ್ಚಲ್ಪಟ್ಟಿವೆ ಮನಿಲಾ ಫಿಲಿಪೈನ್ಸ್ ಕರೋನವೈರಸ್ ಕಾದಂಬರಿಯ ಸಂಭವನೀಯ ಪ್ರಕರಣಗಳನ್ನು ಪತ್ತೆಹಚ್ಚುವ ಪ್ರಯತ್ನವನ್ನು ಆರೋಗ್ಯ ಅಧಿಕಾರಿಗಳು ಮುಂದುವರೆಸಿದ್ದಾರೆ ಫೆಬ್ರವರಿ ರ ಗುರುವಾರ ಆರೋಗ್ಯ ಇಲಾಖೆ ರೋಗಿಗಳನ್ನು ತನಿಖೆ ಮಾಡಿದೆ ಎಂದು ಹೇಳಿದೆ ಈ ಸಂಖ್ಯೆಯಲ್ಲಿ ಫಿಲಿಪೈನ್ಸ್ ನಲ್ಲಿ ದೃ ಪಡಿಸಿದ ಪ್ರಕರಣಗಳಲ್ಲಿ ಒಂದು ತೀವ್ರತರವಾದ ಕಾರಣ ಸಾವನ್ನಪ್ಪಿದೆ ರ ಕಾರಣದಿಂದಾಗಿ ನ್ಯುಮೋನಿಯಾ ಹೊಸ ವೈರಸ್ ನಿಂದ ಉಂಟಾದ ರೋಗ ಮತ್ತು ಇತರ ಎರಡು ಚೇತರಿಸಿಕೊಂಡಿದೆ ಎಂದು ವಿಶ್ವ ಆರೋಗ್ಯ ಸಂಸ್ಥೆ ಈ ಹಿಂದೆ ಏಕಾಏಕಿ ಅಂತಾರಾಷ್ಟ್ರೀಯ ತುರ್ತು ಎಚ್ಚರಿಕೆ ಘೋಷಿಸಿತು ಅಧ್ಯಕ್ಷ ಡೊನಾಲ್ಡ್ ಟ್ರಂಪ್ ಕೋವಿಡ್ ಏಕಾಏಕಿ ಯುಎಸ್ ಪ್ರತಿಕ್ರಿಯೆಯನ್ನು ಅದ್ಭುತ ಯಶಸ್ಸು ಎಂದು ಬಣ್ಣಿಸಿದರು ಮತ್ತು ಫೆಬ್ರವರಿ ರ ಬುಧವಾರ ರಾಷ್ಟ್ರೀಯವಾಗಿ ದೂರದರ್ಶನದಲ್ಲಿ ಪ್ರಸಾರವಾದ ಅಪರೂಪದ ಪತ್ರಿಕಾಗೋಷ್ಠಿಯಲ್ಲಿ ಅಮೆರಿಕನ್ನರಿಗೆ ಅಪಾಯವು ತುಂಬಾ ಕಡಿಮೆಯಾಗಿದೆ ಎಂದು ಪ್ರತಿಪಾದಿಸಿದರು ಯುಎಸ್ನಲ್ಲಿ ಕೋವಿಡ್ ರೋಗಿಗಳು ಹೆಚ್ಚಾಗಿ ಒಬ್ಬರು ಗಂಭೀರವಾಗಿ ಉಳಿದಿದ್ದರೂ ನಾನು ಉತ್ತಮವಾಗಿ ಕಾರ್ಯನಿರ್ವಹಿಸುತ್ತೇನೆ ಸೋಂಕಿತ ಪ್ರದೇಶಗಳಿಂದ ಜನರನ್ನು ತಪಾಸಣೆ ಮಾಡುವಂತೆ ಮತ್ತು ಅಪಾಯವನ್ನು ಎದುರಿಸುತ್ತಿರುವ ಲಸಿಕೆಯನ್ನು ಅಭಿವೃದ್ಧಿಪಡಿಸುವಂತೆ ಅವರು ಸಲಹೆ ನೀಡಿದರು ವೇಗವಾಗಿ ಬೆಳೆಯುತ್ತಿರುವ ಲಸಿಕೆಯನ್ನು ಅಭಿವೃದ್ಧಿಪಡಿಸಲು ಟ್ರಂಪ್ ಅವರು ಕಾಂಗ್ರೆಸ್ ಅನ್ನು ಬಿಎನ್ ಬಿಎನ್ ಬಿಲಿಯನ್ ಗೆ ವೈರಸ್ನಿಂದ ಹೋರಾಡಲು ಕೇಳಿಕೊಂಡಿದ್ದಾರೆ ಎಂದು ಹೇಳಿದರು ಎಬೋಲಾ ಪ್ರತಿಕ್ರಿಯೆ ಬಜೆಟ್ ಆದರೆ ಕಾಂಗ್ರೆಸ್ಸಿನ ರಿಪಬ್ಲಿಕನ್ನರು ಬಿಲಿಯನ್ ಮತ್ತು ಡೆಮೋಕ್ರಾಟ್ ಗಳು ಬಿಲಿಯನ್ಗೆ ಮುಂದಾಗಿದ್ದರು ಎಂದು ಅವರು ಸೂಚಿಸಿದರು ಟೋಕಿಯೊ ರಾಯಿಟರ್ಸ್ ಜಪಾನ್ ನ ಪ್ರಾಥಮಿಕದಿಂದ ಪ್ರೌ ಶಾಲೆಗಳವರೆಗಿನ ಸಂಪೂರ್ಣ ಶಾಲಾ ವ್ಯವಸ್ಥೆಯನ್ನು ಮಾರ್ಚ್ ರಿಂದ ಮುಂಬರುವ ವಸಂತಕಾಲದ ವಿರಾಮದವರೆಗೆ ಮುಚ್ಚಲು ಕೇಳಲಾಗುವುದು ಇದು ಕರೋನವೈರಸ್ ಏಕಾಏಕಿ ತಡೆಗಟ್ಟಲು ಸಹಾಯ ಮಾಡುತ್ತದೆ ಎಂದು ಪ್ರಧಾನಿ ಶಿಂಜೊ ಅಬೆ ಗುರುವಾರ ಹೇಳಿದ್ದಾರೆ ಜಪಾನ್ ನಲ್ಲಿ ವರದಿಯಾದ ಪ್ರಕರಣಗಳು ಒಳಗೊಂಡಿಲ್ಲ ಈ ತಿಂಗಳ ಆರಂಭದಲ್ಲಿ ಟೋಕಿಯೊದಿಂದ ಪ್ರತ್ಯೇಕಿಸಲ್ಪಟ್ಟ ಡೈಮಂಡ್ ಪ್ರಿನ್ಸೆಸ್ ಕ್ರೂಸ್ ಲೈನರ್ ನಲ್ಲಿ ಏಕಾಏಕಿ ವರದಿಯಾಗಿದೆ ಕರೋನವೈರಸ್ ಅನ್ನು ಸಂಕುಚಿತಗೊಳಿಸಿದ ನಂತರ ರ ಹರೆಯದ ವ್ಯಕ್ತಿಯು ಹೊಕ್ಕೈಡೋದಲ್ಲಿ ಸಾವನ್ನಪ್ಪಿದ್ದಾನೆ ಎಂದು ಪ್ರಿಫೆಕ್ಚರಲ್ ಸರ್ಕಾರ ಹೇಳಿದೆ ಜಪಾನ್ ನಲ್ಲಿ ಮೃತಪಟ್ಟ ಒಟ್ಟು ಜನರನ್ನು ನಾಲ್ಕು ಸೇರಿದಂತೆ ಪಶ್ಚಿಮ ಜಪಾನ್ ನ ಒಸಾಕಾ ನಿವಾಸಿಯಲ್ಲಿ ಎರಡು ಬಾರಿ ಧನಾತ್ಮಕ ಪರೀಕ್ಷೆ ನಡೆಸಿದ ಮಹಿಳೆ ನೋಯುತ್ತಿರುವ ಗಂಟಲು ಮತ್ತು ಎದೆ ನೋವುಗಳನ್ನು ಅಭಿವೃದ್ಧಿಪಡಿಸಿದ ನಂತರ ಬುಧವಾರ ಧನಾತ್ಮಕ ಪರೀಕ್ಷೆ ನಡೆಸಿದ್ದಾರೆ ಎಂದು ಪ್ರಿಫೆಕ್ಚರಲ್ ಸರ್ಕಾರವು ತನ್ನ ರ ದಶಕದಲ್ಲಿದೆ ಎಂದು ವಿವರಿಸುವ ಹೇಳಿಕೆಯಲ್ಲಿ ತಿಳಿಸಿದೆ ಗುರುವಾರ ಡೈಮಂಡ್ ರಾಜಕುಮಾರಿಯೊಂದಿಗೆ ಟೋಕಿಯೊದ ದಕ್ಷಿಣಕ್ಕೆ ಸುಮಾರು ವಿದೇಶಿ ಮತ್ತು ಜಪಾನೀಸ್ ಸಿಬ್ಬಂದಿ ಇದ್ದಾರೆ ಮುಂದಿನ ಕೆಲವು ದಿನಗಳಲ್ಲಿ ವೈರಸ್ ಗೆ ನಕಾರಾತ್ಮಕತೆಯನ್ನು ಪರೀಕ್ಷಿಸಲಾಗಿದೆ ಮನಿಲಾ ಫಿಲಿಪೈನ್ಸ್ ಫೆಬ್ರವರಿ ರ ಗುರುವಾರ ಬ್ಯೂರೋ ಆಫ್ ದಿ ಖಜಾನೆ ಬಿಟಿಆರ್ ಪ್ರಕಾರ ನೇ ತ್ರೈಮಾಸಿಕದಲ್ಲಿ ಪುನಃ ಜಾರಿಗೆ ತಂದ ಬಜೆಟ್ ಅಡಿಯಲ್ಲಿ ಕಾರ್ಯನಿರ್ವಹಿಸಿದ ನಂತರ ಫಿಲಿಪೈನ್ ಸರ್ಕಾರವು ರ ಡಿಸೆಂಬರ್ ನಲ್ಲಿ ಖರ್ಚು ಹಿಡಿಯುವಲ್ಲಿ ಯಶಸ್ವಿಯಾಗಿದೆ ಕಳೆದ ವರ್ಷದ ಬಜೆಟ್ ಕೊರತೆಯು ದೇಶದ ತಲುಪಿದೆ ಒಟ್ಟು ದೇಶೀಯ ಉತ್ಪನ್ನ ಜಿಡಿಪಿ ಸರ್ಕಾರದ ಗುರಿಯನ್ನು ಮೀರಿದೆ ಡಿಸೆಂಬರ್ ನಲ್ಲಿ ಹೆಚ್ಚಿನ ಖರ್ಚಿನೊಂದಿಗೆ ಐಎನ್ ಜಿ ಬ್ಯಾಂಕ್ ಮನಿಲಾ ಮುಖ್ಯ ಅರ್ಥಶಾಸ್ತ್ರಜ್ಞ ನಿಕೋಲಸ್ ಮಾಪಾ ಅವರು ನೇ ತ್ರೈಮಾಸಿಕದಲ್ಲಿ ಜಿಡಿಪಿ ಬೆಳವಣಿಗೆಯನ್ನು ಮೇಲ್ಮುಖವಾಗಿ ಪರಿಷ್ಕರಿಸುವ ಸಾಧ್ಯತೆಯಿದೆ ಮತ್ತು ಪೂರ್ಣ ವರ್ಷದ ಬೆಳವಣಿಗೆಯನ್ನು ಕ್ಕೆ ತಲುಪಿಸಬಹುದು ರ ಸರ್ಕಾರದ ಗುರಿ ಡಿಸೆಂಬರ್ ನಲ್ಲಿನ ಖರ್ಚಿನಲ್ಲಿನ ಅಚ್ಚರಿಯ ಉಲ್ಬಣವು ತಡವಾಗಿ ಖಜಾನೆಯ ಬ್ಯೂರೋದ ಆಕ್ರಮಣಕಾರಿ ಸಾಲ ನಿಲುವಿನಲ್ಲಿ ಪ್ರತಿಫಲಿಸುತ್ತದೆ ಮತ್ತು ಈ ವರ್ಷ ಸಮಾನಾಂತರವಾಗಿ ನಡೆಯುತ್ತಿರುವ ಏಕಕಾಲೀನ ಮತ್ತು ರ ಬಜೆಟ್ ಗಳನ್ನು ಗಮನಿಸಿದರೆ ಈ ನಡವಳಿಕೆ ಮುಂದುವರಿಯುತ್ತದೆ ಎಂದು ನಾವು ನಿರೀಕ್ಷಿಸಬಹುದು ರ ಮೊದಲಾರ್ಧದಲ್ಲಿ ಫಿಲಿಪೈನ್ ಆರ್ಥಿಕತೆಯನ್ನು ನಕಾರಾತ್ಮಕ ಪ್ರಭಾವದಿಂದ ವಿಂಗಡಿಸುವ ಮೂಲಕ ಸರ್ಕಾರದ ಹಣಕಾಸಿನ ಖರ್ಚು ಪ್ರಬಲವಾಗಿ ಉಳಿಯುವ ಸಾಧ್ಯತೆಯಿದೆ ಕರೋನವೈರಸ್ ಕಾದಂಬರಿಯ ಕರೋನವೈರಸ್ನ ತ್ವರಿತ ಹರಡುವಿಕೆಯು ಮಾರುಕಟ್ಟೆಯ ಭಾವನೆಯಲ್ಲಿ ಪ್ರಾಬಲ್ಯ ಸಾಧಿಸುತ್ತಿರುವುದರಿಂದ ಯುರೋಪಿಯನ್ ಷೇರುಗಳು ಗುರುವಾರ ಮತ್ತಷ್ಟು ಕುಸಿದವು ಈಗ ಕ್ಕೂ ಹೆಚ್ಚು ಜನರಿಗೆ ಸೋಂಕು ತಗುಲಿ ಕ್ಕೂ ಹೆಚ್ಚು ಜನರನ್ನು ಕೊಂದಿರುವ ಕರೋನವೈರಸ್ ಹರಡುವಿಕೆಯು ವಿಶ್ವದಾದ್ಯಂತ ಮಾರುಕಟ್ಟೆಗಳು ಮತ್ತು ನೀತಿ ನಿರೂಪಕರನ್ನು ಗದರಿಸುತ್ತಿದೆ ಯುರೋಪಿಯನ್ ರಾಷ್ಟ್ರಗಳಾದ ಎಸ್ಟೋನಿಯಾ ಮತ್ತು ಡೆನ್ಮಾರ್ಕ್ ಎರಡೂ ಗುರುವಾರ ಬೆಳಿಗ್ಗೆ ದಕ್ಷಿಣ ಕೊರಿಯಾದ ತಮ್ಮ ಮೊದಲ ದೃ ಪಡಿಸಿದ ಪ್ರಕರಣಗಳನ್ನು ವರದಿ ಮಾಡಿದೆ ಅಲ್ಲಿ ಚೀನಾ ಗುರುವಾರ ಬೆಳಿಗ್ಗೆ ಹೆಚ್ಚಿನ ಪ್ರಕರಣಗಳ ಏರಿಕೆ ದೃ ಪಡಿಸಿದ ನಂತರ ಎರಡನೇ ಅತಿದೊಡ್ಡ ಏಕಾಏಕಿ ಸಂಭವಿಸಿದೆ ದೇಶದ ಒಟ್ಟು ಮೊತ್ತವನ್ನು ಕ್ಕೆ ತಂದು ಗುರುವಾರ ಮಧ್ಯಾಹ್ನ ವ್ಯಾಪಾರದಲ್ಲಿ ಕುಸಿದಿದೆ ಪೋಪ್ ಫ್ರಾನ್ಸಿಸ್ ವ್ಯಾಟಿಕನ್ ನಲ್ಲಿ ಸಾಪ್ತಾಹಿಕ ಸಾಮಾನ್ಯ ಪ್ರೇಕ್ಷಕರನ್ನು ಹೊಂದಿದ್ದಾರೆ ಫಿಲಿಪ್ ಪುಲ್ಲೆಲ್ಲಾ ವ್ಯಾಟಿಕನ್ ಸಿಟಿ ರಾಯಿಟರ್ಸ್ ಪೋಪ್ ಫ್ರಾನ್ಸಿಸ್ ಸ್ವಲ್ಪ ಅಸ್ವಸ್ಥರಾಗಿದ್ದಾರೆ ಮತ್ತು ರೋಮ್ ಬೆಸಿಲಿಕಾದಲ್ಲಿ ನಡೆದ ಕಾರ್ಯಕ್ರಮವೊಂದನ್ನು ರದ್ದುಗೊಳಿಸಿದ್ದಾರೆ ಆದರೆ ಅವರ ಉಳಿದ ವೇಳಾಪಟ್ಟಿಯನ್ನು ತಮ್ಮ ನಿವಾಸದಲ್ಲಿ ನಿರ್ವಹಿಸುತ್ತಿದ್ದಾರೆ ಎಂದು ವ್ಯಾಟಿಕನ್ ಗುರುವಾರ ಬಿಡುಗಡೆ ಮಾಡಿದೆ ಜಾಗತಿಕ ಕ್ಯಾಥೊಲಿಕ್ ಹವಾಮಾನ ಚಳವಳಿಯ ಸದಸ್ಯರೊಂದಿಗೆ ಗುರುವಾರ ಬೆಳಿಗ್ಗೆ ವ್ಯಾಟಿಕನ್ ಸಭೆಯಲ್ಲಿ ಹೊಸ ಪೋಸ್ಟ್ ನಲ್ಲಿ ಪ್ರಾರಂಭಿಸಿರುವ ಪೋಪ್ ಮತ್ತು ಕಾರ್ಡಿನಲ್ ಆಂಟೋನಿಯೊ ಟ್ಯಾಗಲ್ ಫಿಲಿಪಿನೋ ಚಿತ್ರ ಅಂತರರಾಷ್ಟ್ರೀಯ ಪರಿಸರ ಗುಂಪು ಪೋಪ್ ಶೀತದಿಂದ ಕಾಣಿಸಿಕೊಂಡರು ಮತ್ತು ಸ್ವಲ್ಪ ಗಟ್ಟಿಯಾಗಿ ಮಾತನಾಡಿದರು ರೋಮ್ ಚರ್ಚ್ನಲ್ಲಿ ಬುಧವಾರ ಬೂದಿ ಬುಧವಾರ ಸೇವೆಯ ಸಮಯದಲ್ಲಿ ಅವರ ಸಾಮಾನ್ಯ ಪ್ರೇಕ್ಷಕರಲ್ಲಿ ಧ್ವನಿ ಮತ್ತು ಪೋಪ್ ಗುರುವಾರ ಬೆಳಿಗ್ಗೆ ಲ್ಯಾಟೆರನ್ನ ಸೇಂಟ್ ಜಾನ್ಸ್ನ ಬೆಸಿಲಿಕಾಕ್ಕೆ ರೋಮನ್ ಪುರೋಹಿತರೊಂದಿಗೆ ಲೆಂಟನ್ ಸೇವೆಗಾಗಿ ಹೋಗಬೇಕಾಗಿತ್ತು ಹಲವಾರು ಜನರು ಧರಿಸಿದ್ದರು ಬುಧವಾರದ ಪ್ರೇಕ್ಷಕರಲ್ಲಿ ಸೇಂಟ್ ಪೀಟರ್ಸ್ ಸ್ಕ್ವೇರ್ ಎನ್ವೈಎಸ್ಇಯಲ್ಲಿ ಮುಖವಾಡಗಳು ಆದರೆ ಪೋಪ್ನ ಬೂದಿ ಬುಧವಾರ ಸೇವೆಯಲ್ಲಿ ಒಬ್ಬ ವ್ಯಕ್ತಿ ಮಾತ್ರ ಧರಿಸಿರುವುದು ಕಂಡುಬಂದಿದೆ ಜೆಸ್ಸಿ ಕೊಹೆನ್ಇನ್ವೆಸ್ಟಿಂಗ್ ಕಾಮ್ ಅವರು ಗುರುವಾರ ಹೊರಗಡೆ ಆರನೇ ದಿನಕ್ಕೆ ಕುಸಿದಿದ್ದಾರೆ ಚೀನಾದ ಹೊರಗೆ ಕರೋನವೈರಸ್ ವೇಗವಾಗಿ ಹರಡುವುದರಿಂದ ಜಾಗತಿಕ ಸಾಂಕ್ರಾಮಿಕ ಭೀತಿ ಮೂಡಿತು ಚೀನಾದಲ್ಲಿ ಹೊಸ ಸೋಂಕುಗಳ ಸಂಖ್ಯೆ ಏಕಾಏಕಿ ಉಂಟಾಗಿದೆ ದಕ್ಷಿಣ ಕೊರಿಯಾ ಇಟಲಿ ಮತ್ತು ಇರಾನ್ ಗಳಲ್ಲಿ ಮೊದಲ ಬಾರಿಗೆ ಹೊಸ ಪ್ರಕರಣಗಳಿಂದ ಮೊದಲ ಬಾರಿಗೆ ಕರೋನವೈರಸ್ ಪ್ರಪಂಚದಾದ್ಯಂತ ಕ್ಕೂ ಹೆಚ್ಚು ಜನರಿಗೆ ಸೋಂಕು ತಗುಲಿಸಿದೆ ಮತ್ತು ಚೀನಾದಲ್ಲಿ ಸುಮಾರು ಜನರನ್ನು ಕೊಂದಿದೆ ಈ ಕಾಯಿಲೆಯ ಬಗ್ಗೆ ಹೆಚ್ಚು ತಿಳಿದಿಲ್ಲ ಆದರೆ ಪ್ರಪಂಚದ ತೀವ್ರತೆಗಳು ಸ್ಪಷ್ಟವಾಗಿವೆ ಜಾಗತಿಕ ಆರ್ಥಿಕತೆ ಮತ್ತು ನೀವು ಎಸ್ ವ್ಯವಹಾರಗಳ ಮೇಲೆ ಬಿಕ್ಕಟ್ಟಿನ ಪ್ರಭಾವದ ಬಗ್ಗೆ ಹೂಡಿಕೆದಾರರು ಚಿಂತಿತರಾಗಿರುವುದರಿಂದ ಒಂದು ತಿಂಗಳು ಅಥವಾ ಹೆಚ್ಚಿನ ಅವಧಿಗೆ ಲಾಕ್ ಡೌನ್ ನಲ್ಲಿ ಎರಡನೇ ಅತಿದೊಡ್ಡ ಆರ್ಥಿಕತೆಯು ವಿಶಾಲವಾದ ವಾಲ್ ಸ್ಟ್ರೀಟ್ ನ ಪ್ರಮುಖ ಸೂಚ್ಯಂಕಗಳು ಬುಧವಾರ ಐದನೇ ನೇರ ಅಧಿವೇಶನಕ್ಕೆ ಕುಸಿದವು ಪೀಠೋಪಕರಣಗಳಂತಹ ಸರಕುಗಳ ಮೇಲೆ ಆಮದು ತೆರಿಗೆಯನ್ನು ಹೆಚ್ಚಿಸುವ ಭಾರತದ ಕ್ರಮವನ್ನು ಅನುಸರಿಸಿ ಮುಂಬೈ ಸ್ವೀಡನ್ ನ ಐಕೆಇಎ ಅಲ್ಪಾವಧಿಯಲ್ಲಿ ಭಾರತದಲ್ಲಿ ಬೆಲೆಗಳನ್ನು ಹೆಚ್ಚಿಸಲು ಯೋಜಿಸುತ್ತಿಲ್ಲ ಎಂದು ಕಂಪನಿಯ ಕಾರ್ಯನಿರ್ವಾಹಕರೊಬ್ಬರು ಗುರುವಾರ ಐಕೆಇಎ ಭಾರತದಲ್ಲಿ ಮಾರಾಟ ಮಾಡುವ ಸರಕುಗಳನ್ನು ಆಮದು ಮಾಡಿಕೊಳ್ಳುತ್ತೇವೆ ಎಂದು ಹೇಳಿದರು ನಮ್ಮ ಬ್ರ್ಯಾಂಡ್ ಗ್ರಾಹಕರ ಕಡೆಗೆ ಬೆಲೆಗಳು ಏಕೆಂದರೆ ನಾವು ಕೈಗೆಟುಕುವೆವು ಎಂದು ನಾವು ಹೇಳುತ್ತೇವೆ ಐಕೆಇಎ ಭಾರತದ ವ್ಯವಸ್ಥಾಪಕ ನಿರ್ದೇಶಕ ಭಾರತದ ಆರ್ಥಿಕ ರಾಜಧಾನಿ ಮುಂಬೈ ಭಾರತದ ಸಮಾವೇಶದಲ್ಲಿ ಈ ತಿಂಗಳು ಎಲೆಕ್ಟ್ರಾನಿಕ್ ವಸ್ತುಗಳ ಆಟಿಕೆಗಳು ಮತ್ತು ಪೀಠೋಪಕರಣಗಳಂತಹ ಸರಕುಗಳ ಆಮದಿನ ಮೇಲೆ ಹೆಚ್ಚಿನ ತೆರಿಗೆಯನ್ನು ಘೋಷಿಸಿದೆ ದೇಶೀಯ ಉತ್ಪಾದನೆಯನ್ನು ಹೆಚ್ಚಿಸುವ ಗುರಿಯನ್ನು ಐಕೆಇಎ ಸುಂಕಗಳ ಕುರಿತು ಭಾರತದೊಂದಿಗೆ ಮಾತುಕತೆ ನಡೆಸುತ್ತಿದೆ ಎಂದು ಬೆಟ್ಜೆಲ್ ಹೇಳಿದರು ನಿಮ್ಮ ಸಾಧನದಲ್ಲಿ ಮೀಡಿಯಾ ಪ್ಲೇಬ್ಯಾಕ್ ಬೆಂಬಲಿತವಾಗಿಲ್ಲ ಗಂಟೆಗಳು ಮತ್ತು ಸೋಂಕುಗಳು ಎರಡು ಉತ್ತರದ ಪ್ರದೇಶಗಳಲ್ಲಿನ ಏಕಾಏಕಿ ಕೇಂದ್ರೀಕೃತವಾಗಿ ಉಳಿದಿವೆ ಲೊಂಬಾರ್ಡಿ ಮತ್ತು ವೆನೆಟೊ ಇಮೇಜ್ ಕೃತಿಸ್ವಾಮ್ಯ ರಾಯಿಟರ್ಸ್ ಚಿತ್ರ ಶೀರ್ಷಿಕೆ ಲೊಂಬಾರ್ಡಿ ಗವರ್ನರ್ ಅಟಿಲಿಯೊ ಫೊಂಟಾನಾ ತಮ್ಮನ್ನು ಸಂಪರ್ಕತಡೆಗೆ ಒಳಪಡಿಸಿದ್ದಾರೆ ಬುಧವಾರ ವಿಶ್ವ ಆರೋಗ್ಯ ಸಂಸ್ಥೆ ಮೊದಲ ಬಾರಿಗೆ ವೈರಸ್ ಚೀನಾದ ಹೊರಗೆ ವೇಗವಾಗಿ ಹರಡುತ್ತಿದೆ ಎಂದು ಹೇಳಿದರು ನಿಮ್ಮ ಸಾಧನದಲ್ಲಿ ಮೀಡಿಯಾ ಪ್ಲೇಬ್ಯಾಕ್ ಬೆಂಬಲಿಸುವುದಿಲ್ಲ ಮಾಧ್ಯಮ ಶೀರ್ಷಿಕೆ ಕೊರೋನವೈರಸ್ ಐದು ದೇಶಗಳು ಐದು ಪ್ರತಿಕ್ರಿಯೆಗಳು ಹೆಚ್ಚಿನ ಬೆಳವಣಿಗೆಗಳಲ್ಲಿ ಡೆನ್ಮಾರ್ಕ್ ಎಸ್ಟೋನಿಯಾದಲ್ಲಿ ಮೊದಲ ಕರೋನವೈರಸ್ ಪ್ರಕರಣಗಳನ್ನು ಘೋಷಿಸಲಾಗಿದೆ ಮತ್ತು ರೊಮೇನಿಯಾ ರೊಮೇನಿಯನ್ ಅಧ್ಯಕ್ಷ ಕ್ಲಾಸ್ ಐಹಾನಿಸ್ ರೊಮೇನಿಯನ್ನರನ್ನು ಭಯಭೀತರಾಗಬಾರದು ಎಂದು ಆತಂಕ ವ್ಯಕ್ತಪಡಿಸಿದ್ದಾರೆ ಏಷ್ಯಾದ ಜನರನ್ನು ಬೆದರಿಸುವುದು ಎರಡು ರೋಗಿಗಳು ಇಂಗ್ಲೆಂಡ್ ನಲ್ಲಿ ಧನಾತ್ಮಕ ಪರೀಕ್ಷೆಯನ್ನು ಯುಕೆ ಪ್ರಕರಣಗಳ ಸಂಖ್ಯೆಯನ್ನು ಕ್ಕೆ ತಂದುಕೊಟ್ಟಿದ್ದಾರೆ ಹಂಗೇರಿಯನ್ ಫುಟ್ ಬಾಲ್ ತಂಡವು ತನ್ನ ಇಟಾಲಿಯನ್ ತರಬೇತುದಾರ ಗೈಸೆಪೆ ಸನ್ನಿನೊ ಮತ್ತು ಅವರ ಸಹಾಯಕ ಅಲೆಸ್ಸಾಂಡ್ರೊ ಇತ್ತೀಚಿನವರನ್ನು ತಾತ್ಕಾಲಿಕವಾಗಿ ಅಮಾನತುಗೊಳಿಸಿದೆ ಇಟಾಲಿಯನ್ ವೈರಸ್ ವಾಹಕಗಳೊಂದಿಗೆ ಸಂಪರ್ಕ ಹೊಂದಿರಬಹುದೆಂಬ ಭಯದಿಂದ ಇತ್ತೀಚಿನ ದಿನಗಳಲ್ಲಿ ಆಸ್ಟ್ರಿಯಾ ಕ್ರೊಯೇಷಿಯಾ ಗ್ರೀಸ್ ನಾರ್ವೆ ಸ್ವಿಟ್ಜರ್ಲ್ಯಾಂಡ್ ಜಾರ್ಜಿಯಾ ಮತ್ತು ಉತ್ತರ ಮ್ಯಾಸಿಡೋನಿಯಾ ಅವರಲ್ಲಿ ಅನೇಕರು ಇಟಲಿಗೆ ಹೋಗಿದ್ದ ಜನರು ಇಟಲಿಯಲ್ಲಿ ಏನಾಗಿದೆ ಸಾಂಕ್ರಾಮಿಕ ರೋಗ ಅನಿವಾರ್ಯವಲ್ಲ ಫಿಲಿಪ್ಪಾ ರಾಕ್ಸ್ಬಿ ಬಿಬಿಸಿ ಆರೋಗ್ಯ ವರದಿಗಾರರಿಂದ ಕರೋನವೈರಸ್ ಏಕಾಏಕಿ ಚೀನಾದಿಂದ ವಿಶ್ವದ ಇತರ ಭಾಗಗಳಿಗೆ ಸ್ಥಳಾಂತರಗೊಳ್ಳುತ್ತಿದೆ ವಿಶೇಷವಾಗಿ ಯುರೋಪ್ ಆದ್ದರಿಂದ ಶಿಸ್ತುಬದ್ಧವಾಗಿರಲು ಮತ್ತು ನಾವು ಬಯಸುವ ಸ್ಥಾನಗಳಿಗೆ ಸ್ಮಾರ್ಟ್ ರೀತಿಯಲ್ಲಿ ಪ್ರವೇಶಿಸಲು ನಾನು ತಿಳಿದಿರುವ ಮೂಲಭೂತ ತಂತ್ರಕ್ಕೆ ಮಾತ್ರ ಹಿಂತಿರುಗಲು ಬಯಸುತ್ತೇನೆ ಅದು ನನಗೆ ತಿಳಿದಿರುವ ಕಾಲಕ್ರಮೇಣ ಭಾರಿ ಲಾಭವನ್ನು ಗಳಿಸುವಲ್ಲಿ ಎಂದಿಗೂ ವಿಫಲವಾಗುವುದಿಲ್ಲ ಇದು ನಿಮಗೆ ಉನ್ಮಾದವನ್ನು ಕಡಿಮೆ ಮಾಡಲು ಉತ್ತಮ ಮಾರ್ಗವಾಗಿದೆ ಮತ್ತು ಅದೇ ಸಮಯದಲ್ಲಿ ದೊಡ್ಡ ಲಾಭವನ್ನು ಗಳಿಸಿ ಇದು ನಿಮ್ಮ ಹಣವನ್ನು ಏಕಕಾಲದಲ್ಲಿ ಡೈವಿಂಗ್ ಮಾಡುವ ಬದಲು ವಾರಕ್ಕೆ ಒಂದು ವಾರಕ್ಕೊಮ್ಮೆ ನಿಮ್ಮ ಹಣವನ್ನು ಹರಡುವ ಮೂಲಕ ಷೇರುಗಳು ಮತ್ತು ಇತರ ಹೂಡಿಕೆಗಳಲ್ಲಿ ಖರೀದಿಸಲು ನಿಮಗೆ ಅವಕಾಶ ಮಾಡಿಕೊಡುತ್ತದೆ ಒಟ್ಟು ಹೂಡಿಕೆ ಪ್ರತಿ ಷೇರಿಗೆ ಷೇರುಗಳು ಹೆಚ್ಚು ಷೇರುಗಳು ಕಾಲಾನಂತರದಲ್ಲಿ ಸುಂದರವಾಗಿ ತೀರಿಸಬಹುದು ವಿಶೇಷವಾಗಿ ನಿಮ್ಮ ಎಲ್ಲಾ ದೀರ್ಘಾವಧಿಯ ಖರೀದಿಗಳೊಂದಿಗೆ ನೀವು ಅದನ್ನು ಮಾಡುತ್ತಿದ್ದರೆ ಮತ್ತು ಅಂತಿಮವಾಗಿ ಡಾಲರ್ ವೆಚ್ಚವು ಸರಾಸರಿಗಳು ಬೆಲೆಗಳು ಕಡಿಮೆಯಾದಾಗ ಹೆಚ್ಚಿನ ಷೇರುಗಳನ್ನು ಖರೀದಿಸಲು ನಿಮ್ಮನ್ನು ಒತ್ತಾಯಿಸುತ್ತದೆ ಅಂದರೆ ನಿಮ್ಮ ವೆಚ್ಚದ ಆಧಾರವು ನಿಮ್ಮ ಒಟ್ಟು ವೆಚ್ಚವನ್ನು ಹೇಳುವ ಒಂದು ಅಲಂಕಾರಿಕ ಮಾರ್ಗವಾಗಿದೆ ಮತ್ತು ಇದರರ್ಥ ನೀವು ಹೆಚ್ಚು ಲಾಭದ ಸಾಮರ್ಥ್ಯವನ್ನು ಹೊಂದಿದ್ದೀರಿ ಎಂದರ್ಥ ಕೊರೋವೈರಸ್ ಅನ್ನು ನಿಭಾಯಿಸಲು ಇಟಲಿಗೆ ಹಣ ಒದಗಿಸಲು ಇಯು ನೋಡಬೇಕು ವಕ್ತಾರ ಫಹಾದ್ ಶಬ್ಬೀರ್ ನಿಮಿಷಗಳ ಹಿಂದೆ ಥು ಫೆಬ್ರವರಿ ದೇಶದಲ್ಲಿ ಕರೋನವೈರಸ್ ರೋಗ ಹರಡುವಿಕೆಯ ಮಧ್ಯೆ ಇಟಲಿ ಇನ್ನೂ ಯುರೋಪಿಯನ್ ಒಕ್ಕೂಟದಿಂದ ಯಾವುದೇ ಹಣಕಾಸಿನ ನೆರವು ಕೋರಿಲ್ಲ ಆದರೆ ಬಣ ಸಿದ್ಧವಾಗಿದೆ ಅಂತಹ ವಿನಂತಿಯನ್ನು ಪರಿಗಣಿಸಿದರೆ ಅದನ್ನು ಪರಿಗಣಿಸಲು ಯುರೋಪಿಯನ್ ಆಯೋಗದ ವಕ್ತಾರ ಡಾನಾ ಸ್ಪಿನಂಟ್ ಗುರುವಾರ ಬ್ರಸೆಲ್ಸ್ ಉರ್ದುಪಾಯಿಂಟ್ ನ್ಯೂಸ್ ಸ್ಪುಟ್ನಿಕ್ ಫೆಬ್ರವರಿ ರಂದು ಹೇಳಿದರು ದೇಶದಲ್ಲಿ ಕರೋನವೈರಸ್ ರೋಗ ಹರಡುವಿಕೆಯ ಮಧ್ಯೆ ಇಟಲಿ ಇನ್ನೂ ಯುರೋಪಿಯನ್ ಒಕ್ಕೂಟದಿಂದ ಯಾವುದೇ ಹಣಕಾಸಿನ ನೆರವು ಕೋರಿಲ್ಲ ಆದರೆ ಬಣವು ಸಿದ್ಧವಾಗಿದೆ ಇಂತಹ ವಿನಂತಿಯನ್ನು ಪರಿಗಣಿಸಿದರೆ ಅದನ್ನು ಪರಿಗಣಿಸಿ ಯುರೋಪಿಯನ್ ಆಯೋಗದ ವಕ್ತಾರ ಡಾನಾ ಸ್ಪಿನಾಂಟ್ ಗುರುವಾರ ಇಯು ಒಗ್ಗಟ್ಟಿನ ನಿಧಿಗಳ ಬಳಕೆಗೆ ಸಂಬಂಧಿಸಿದಂತೆ ಇಟಲಿಯ ಯಾವುದೇ ಅಧಿಕೃತ ವಿನಂತಿಯ ಬಗ್ಗೆ ನನಗೆ ತಿಳಿದಿಲ್ಲ ಆದರೆ ಇಟಲಿಯಿಂದ ಅಂತಹ ಅರ್ಜಿಯನ್ನು ಮತ್ತು ಅಂತಹ ವಿನಂತಿಯನ್ನು ನಾವು ಸ್ವೀಕರಿಸಿದರೆ ನಾವು ಅದನ್ನು ಪರಿಶೀಲಿಸುತ್ತೇವೆ ಮತ್ತು ಸ್ಪಿನಂಟ್ ಈ ಹಿಂದೆ ಘೋಷಿಸಿದ ಬ್ರೀಫಿಂಗ್ ನಲ್ಲಿ ನಾವು ನಿಮಗೆ ಹೆಚ್ಚು ಹೇಳಲು ಸಾಧ್ಯವಾಗುತ್ತದೆ ಇಯು ಮತ್ತು ವಿಶ್ವ ಆರೋಗ್ಯ ಸಂಸ್ಥೆಯ ಜಂಟಿ ಆಯೋಗವು ಇಟಲಿಯ ಪರಿಸ್ಥಿತಿಯನ್ನು ಮೇಲ್ವಿಚಾರಣೆ ಮಾಡುವುದನ್ನು ಮುಂದುವರೆಸಿದೆ ಅದರ ನಂತರ ಅಪಾಯಗಳನ್ನು ಪರಿಶೀಲಿಸಲಾಗುತ್ತದೆ ಮತ್ತು ಇಯು ಸದಸ್ಯ ರಾಷ್ಟ್ರಗಳಿಗೆ ಶಿಫಾರಸುಗಳನ್ನು ನೀಡಲಾಗುತ್ತದೆ ಕೊರೊನಾವೈರಸ್ ಚೀನಾದ ವುಹಾನ್ ನಿಂದ ವಿಶ್ವದಾದ್ಯಂತ ಕ್ಕೂ ಹೆಚ್ಚು ದೃ ಪಡಿಸಿದ ಪ್ರಕರಣಗಳು ಮತ್ತು ವಿಶ್ವದಾದ್ಯಂತ ಸುಮಾರು ಸಾವುಗಳು ಸಂಭವಿಸಿವೆ ಎಂದು ಆರೋಗ್ಯ ಕಾರ್ಯದರ್ಶಿ ಮ್ಯಾಟ್ ಹ್ಯಾನ್ ಕಾಕ್ ಹೇಳಿದ್ದಾರೆ ವೈರಸ್ ಗಾಗಿ ತಪಾಸಣೆ ಮಾಡಬಹುದಾದ ಜನರ ಸಂಖ್ಯೆಯನ್ನು ವಿಸ್ತರಿಸಲು ಮನೆ ಪರೀಕ್ಷೆಯನ್ನು ವಿಸ್ತರಿಸಲು ಎನ್ ಎಚ್ ಎಸ್ ನೋಡುತ್ತಿದೆ ಕೊರೊನಾವೈರಸ್ ಪ್ರಾಣಿಗಳು ಮತ್ತು ಜನರ ನಡುವೆ ಹರಡುವ ೂನೋಟಿಕ್ ಅರ್ಥವಾಗಿದೆ ಜೇನ್ ಬಾರ್ಲೋ ಪಿಎ ಕೊರೊನಾವೈರಸ್ಗಳು ವೈರಸ್ಗಳ ಒಂದು ದೊಡ್ಡ ಕುಟುಂಬವಾಗಿದೆ ಏಕೆಂದರೆ ಸಾಮಾನ್ಯ ಶೀತದಿಂದ ತೀವ್ರವಾದ ಕಾಯಿಲೆಗಳಂತಹ ತೀವ್ರವಾದ ತೀವ್ರವಾದ ಉಸಿರಾಟದ ಸಿಂಡ್ರೋಮ್ ಸಾರ್ಸ್ ಕೊರೊನಾವೈರಸ್ಗಳು ಪ್ರಾಣಿಗಳ ನಡುವೆ ಹರಡುತ್ತವೆ ಮತ್ತು ೂನೋಟಿಕ್ ಅರ್ಥಗಳಾಗಿವೆ ವಿಶ್ವ ಆರೋಗ್ಯ ಸಂಸ್ಥೆ ಹೇಳುತ್ತದೆ ವಿಶ್ವ ಆರೋಗ್ಯ ಸಂಸ್ಥೆ ವೈರಸ್ ಗೆ ತುತ್ತಾದ ಐದರಲ್ಲಿ ನಾಲ್ವರಲ್ಲಿ ಸೌಮ್ಯ ಲಕ್ಷಣಗಳು ಬರುತ್ತವೆ ಮತ್ತು ಚೇತರಿಸಿಕೊಳ್ಳುತ್ತವೆ ಎಂದು ಹೇಳಿದೆ ಹಾಲೆ ಕಚೇರಿಯು ಫಾಕ್ಸ್ ನ್ಯೂಸ್ ಗೆ ವೈದ್ಯಕೀಯ ಸರಬರಾಜು ಸರಪಳಿ ಭದ್ರತಾ ಕಾಯ್ದೆ ಎಂಬ ಶೀರ್ಷಿಕೆಯ ಮಸೂದೆಯನ್ನು ಅದರ ವಿಷಯಗಳ ರೂಪರೇಖೆಯೊಂದಿಗೆ ಒದಗಿಸಿತು ಈ ಪ್ರಸ್ತಾಪದ ಮುಖ್ಯ ಕಾರ್ಯವೆಂದರೆ ರ ಫೆಡರಲ್ ಫುಡ್ ಡ್ರಗ್ ಮತ್ತು ಕಾಸ್ಮೆಟಿಕ್ ಆಕ್ಟ್ ಅನ್ನು ಪದಗಳು ಅಥವಾ ಸಾಧನವನ್ನು ಪಟ್ಟಿ ಮಾಡಲು ತಿದ್ದುಪಡಿ ಮಾಡುವುದು ಹೆಚ್ಚಿನ ನಿಖರತೆ ಮತ್ತು ದಕ್ಷತೆಯೊಂದಿಗೆ ವೈದ್ಯಕೀಯ ಸಾಧನಗಳ ಕೊರತೆಯನ್ನು ಮೇಲ್ವಿಚಾರಣೆ ಮಾಡಲು ಆಹಾರ ಮತ್ತು ಷಧ ಆಡಳಿತವನ್ನು ಅನುಮತಿಸಲು ಮಸೂದೆ ಷಧ ಅಥವಾ ಸಾಧನದ ಕೊರತೆಗಾಗಿ ಷಧದ ಕೊರತೆಯ ಪದಗಳನ್ನು ವಿನಿಮಯ ಮಾಡಿಕೊಳ್ಳುತ್ತದೆ ಮತ್ತು ಪೂರ್ವ ಮಾರುಕಟ್ಟೆಯ ಅಗತ್ಯವಿರುವ ಅಗತ್ಯ ವೈದ್ಯಕೀಯ ಸಾಧನಗಳ ವಿಮರ್ಶೆಯನ್ನು ತ್ವರಿತಗೊಳಿಸಲು ಎಫ್ ಡಿಎಗೆ ಅವಕಾಶ ನೀಡುತ್ತದೆ ಅನುಮೋದನೆ ಈ ವಾರದ ಆರಂಭದಲ್ಲಿ ಸಂಭಾವ್ಯ ಷಧ ಮತ್ತು ವೈದ್ಯಕೀಯ ಸಾಧನಗಳ ಕೊರತೆಯನ್ನು ಸರಿದೂಗಿಸಲು ಏನು ಮಾಡಲಾಗುತ್ತಿದೆ ಎಂಬುದರ ಕುರಿತು ಉತ್ತರಗಳನ್ನು ಕೋರಿ ಹಾಲೆ ಎಫ್ ಡಿಎಗೆ ಪತ್ರವೊಂದನ್ನು ಕಳುಹಿಸಿದ್ದಾರೆ ಈ ಶಾಸನವು ನಮ್ಮ ಪೂರೈಕೆ ಸರಪಳಿಯನ್ನು ಉತ್ತಮವಾಗಿ ಭದ್ರಪಡಿಸಿಕೊಳ್ಳಲು ಮತ್ತು ಅಮೆರಿಕನ್ನರಿಗೆ ಜೀವನಕ್ಕೆ ನಿರಂತರ ಪ್ರವೇಶವನ್ನು ಹೊಂದಿದೆಯೆ ಎಂದು ಖಚಿತಪಡಿಸಿಕೊಳ್ಳಲು ನಮಗೆ ಅಗತ್ಯವಾದ ಮಾಹಿತಿಯನ್ನು ನೀಡುತ್ತದೆ ಷಧಗಳು ಮತ್ತು ವೈದ್ಯಕೀಯ ಸಾಧನಗಳನ್ನು ಉಳಿಸುವುದು ಎಂದು ಅವರು ಹೇಳಿದರು ಅನಾರೋಗ್ಯದ ಕಾರಣ ಪೋಪ್ ಫ್ರಾನ್ಸಿಸ್ ರೋಮ್ ಪಾದ್ರಿಗಳೊಂದಿಗೆ ಯೋಜಿತ ಮಾಸ್ ಅನ್ನು ತಪ್ಪಿಸಿಕೊಂಡಿದ್ದಾನೆ ವ್ಯಾಟಿಕನ್ನಿಂದ ಅವನ ಅನಾರೋಗ್ಯದ ಸ್ವರೂಪದ ಬಗ್ಗೆ ಯಾವುದೇ ಮಾತುಗಳಿಲ್ಲ ಆದರೆ ಬೂದಿ ಬುಧವಾರದಂದು ಪೋಪ್ ಕೆಮ್ಮುವುದು ಮತ್ತು ಮೂಗು ಬೀಸುತ್ತಿರುವುದು ಕಂಡುಬಂತು ಮಾಸ್ ಫ್ರಾನ್ಸಿಸ್ ಸೇಂಟ್ ಗೆ ಹೋಗಲು ನಿರ್ಧರಿಸಲಾಗಿತ್ತು ಜಾನ್ ಲ್ಯಾಟೆರನ್ ಬೆಸಿಲಿಕಾ ರೋಮ್ ಪಾದ್ರಿಗಳನ್ನು ಭೇಟಿಯಾಗಲು ಮತ್ತು ಲೆಂಟ್ ಫ್ರಾನ್ಸಿಸ್ನ ಆರಂಭದಲ್ಲಿ ಪ್ರಾಯಶ್ಚಿತ್ತ ಮಾಸ್ ಅನ್ನು ಆಚರಿಸಲು ರೋಮ್ನ ಬಿಷಪ್ ಆದರೆ ಆರ್ಚ್ಡಯಸೀಸ್ನ ದಿನನಿತ್ಯದ ಓಟವನ್ನು ವಿಕಾರ್ಗೆ ಪ್ರತಿನಿಧಿಸುತ್ತಾನೆ ಫ್ರಾನ್ಸಿಸ್ ಇತ್ತೀಚೆಗೆ ತನ್ನ ಸಾರ್ವಜನಿಕ ಸಾಮಾನ್ಯ ಪ್ರೇಕ್ಷಕರನ್ನು ಒಳಗೊಂಡಂತೆ ಕಾರ್ಯನಿರತ ವೇಳಾಪಟ್ಟಿಯನ್ನು ಹೊಂದಿದ್ದಾನೆ ಮತ್ತು ನಂತರದ ದಿನಗಳಲ್ಲಿ ಬೂದಿ ಬುಧವಾರ ಸೇವೆ ರೋಮನ್ ಬೆಸಿಲಿಕಾದಲ್ಲಿ ಚೀನಾಕ್ಕೆ ಹೋಗದ ಅಥವಾ ಇನ್ನೊಬ್ಬ ವ್ಯಕ್ತಿಗೆ ಒಡ್ಡಿಕೊಂಡ ವ್ಯಕ್ತಿಯಲ್ಲಿ ಸೋಂಕಿನ ಮೊದಲ ಪ್ರಕರಣವನ್ನು ನೀವು ಎಸ್ ವರದಿ ಮಾಡಿದ್ದೀರಿ ಎಂದು ಕರೋನವೈರಸ್ ಕಾದಂಬರಿಯೊಂದಿಗೆ ರೋಗ ನಿಯಂತ್ರಣ ಮತ್ತು ತಡೆಗಟ್ಟುವಿಕೆ ಕೇಂದ್ರಗಳು ಬುಧವಾರ ರಾತ್ರಿ ಹೇಳಿದೆ ಇದು ತಜ್ಞರು ಕರೆಯುವ ಮೊದಲ ಉದಾಹರಣೆಯಾಗಿದೆ ಸಮುದಾಯದಲ್ಲಿ ನೀವು ಹರಡಿದ್ದೀರಿ ಎಸ್ ಹಿಂದಿನ ಎಲ್ಲಾ ಎಸ್ ಪ್ರಕರಣಗಳನ್ನು ಡೈಮಂಡ್ ಪ್ರಿನ್ಸೆಸ್ ಕ್ರೂಸ್ ಹಡಗಿನಲ್ಲಿ ಪ್ರಯಾಣಿಕರಾಗಿ ಚೀನಾ ಸಮಯಕ್ಕೆ ಪ್ರಯಾಣಿಸಲು ನೇರವಾಗಿ ಸಂಪರ್ಕಿಸಬಹುದು ಅಥವಾ ಸಂಗಾತಿಗಳ ನಡುವೆ ವೈರಸ್ ಹರಡಿದ ಎರಡು ನಿದರ್ಶನಗಳನ್ನು ಅಧ್ಯಕ್ಷ ಡೊನಾಲ್ಡ್ ನಂತರ ಸಿಡಿಸಿ ಘೋಷಿಸಿತು ನಿಮ್ಮ ಅಧ್ಯಕ್ಷರ ಉಪಾಧ್ಯಕ್ಷ ಮೈಕೆಲ್ ಪೆನ್ಸ್ ಅವರನ್ನು ನಿಮ್ಮ ಎಸ್ ಕೋವಿಡ್ ಪ್ರತಿಕ್ರಿಯೆಯ ಉಸ್ತುವಾರಿ ವಹಿಸುವ ಮೂಲಕ ಏಕಾಏಕಿ ಅಮೆರಿಕದ ಚಿಂತೆಗಳನ್ನು ಸರಾಗಗೊಳಿಸುವ ಉದ್ದೇಶದಿಂದ ಟ್ರಂಪ್ ಸುದ್ದಿಗೋಷ್ಠಿ ನಡೆಸಿದರು ಈಗ ನಿಮ್ಮ ಎಸ್ ನಲ್ಲಿ ಸಿಒವಿಐಡಿ ಪ್ರಕರಣಗಳಿವೆ ಡೈಮಂಡ್ ಪ್ರಿನ್ಸೆಸ್ ಮತ್ತು ವುಹಾನ್ ಚೀನಾದಿಂದ ಡಿಸೆಂಬರ್ ನಲ್ಲಿ ಮೊದಲ ಬಾರಿಗೆ ವೈರಸ್ ಪತ್ತೆಯಾದ ನಗರದಿಂದ ಆರು ಜನರನ್ನು ನಿಮ್ಮ ಎಸ್ ವರ್ಲ್ಡ್ ವೈಡ್ ನಲ್ಲಿ ಚೇತರಿಸಿಕೊಂಡಂತೆ ಎಣಿಸಲಾಗಿದೆ ಈಗ ಸಿಒವಿಐಡಿ ಪ್ರಕರಣಗಳಲ್ಲಿ ಕನಿಷ್ಠ ಸಾವುಗಳು ಮತ್ತು ಸುಮಾರು ಜನರು ಪ್ರಾಥಮಿಕವಾಗಿ ಚೀನಾದ ಹುಬೈ ಪ್ರಾಂತ್ಯದಲ್ಲಿ ಜಾನ್ಸ್ ಹಾಪ್ಕಿನ್ಸ್ ವೈಟಿಂಗ್ ಸ್ಕೂಲ್ ಆಫ್ ಎಂಜಿನಿಯರಿಂಗ್ ಕೇಂದ್ರಗಳ ಸಿಸ್ಟಮ್ಸ್ ಸೈನ್ಸ್ ಮತ್ತು ಎಂಜಿನಿಯರಿಂಗ್ ನ ಇತ್ತೀಚಿನ ಅಂಕಿಅಂಶಗಳ ಪ್ರಕಾರ ಚೇತರಿಸಿಕೊಂಡಿದ್ದಾರೆ ವಾಲ್ ಸ್ಟ್ರೀಟ್ ಒಮ್ಮತದ ಅಂದಾಜುಗಳನ್ನು ಕಂಪನಿಯು ಮೇಲಿನ ಮತ್ತು ಕೆಳಗಿನ ಎರಡೂ ಹಂತಗಳಲ್ಲಿ ಪುಡಿಮಾಡಿರುವುದರಿಂದ ಮತ್ತು ಕಾರ್ಯಾಚರಣೆಗಳಿಂದ ಹೊಂದಾಣಿಕೆಯಾದ ಹಣವನ್ನು ಎಎಫ್ ಎಫ್ ಒ ಬಲವಾದ ನವೀನ ಕೈಗಾರಿಕಾ ಪ್ರಾಪರ್ಟೀಸ್ ಪ್ರಮುಖ ಸಂಖ್ಯೆಗಳಲ್ಲಿ ಬಂದಿರುವುದರಿಂದ ಸಾಮಾನ್ಯ ಮಾರುಕಟ್ಟೆಯಲ್ಲಿ ಈ ಷೇರು ಗುರುವಾರ ಏರಿಕೆಯಾಗಲಿದೆ ಮೆಟ್ರಿಕ್ ಕ್ಯೂ ಕ್ಯೂ ಬಾಡಿಗೆ ಆದಾಯವನ್ನು ಬದಲಾಯಿಸಿ ಮಿಲಿಯನ್ ಮಿಲಿಯನ್ ಕಾರ್ಯಾಚರಣಾ ಆದಾಯ ಮಿಲಿಯನ್ ಮಿಲಿಯನ್ ನಿವ್ವಳ ಆದಾಯ ಮಿಲಿಯನ್ ಮಿಲಿಯನ್ ಪ್ರತಿ ಷೇರಿಗೆ ಗಳಿಕೆ ಇಪಿಎಸ್ ಕಾರ್ಯಾಚರಣೆಗಳಿಂದ ಹೊಂದಾಣಿಕೆಯಾದ ಹಣ ಎಎಫ್ ಎಫ್ ಒ ಮಿಲಿಯನ್ ಮಿಲಿಯನ್ ಪ್ರತಿ ಷೇರಿಗೆ ಎಎಫ್ ಎಫ್ ಒ ಡೇಟಾ ಮೂಲ ನವೀನ ಕೈಗಾರಿಕಾ ಗುಣಲಕ್ಷಣಗಳು ತ್ರೈಮಾಸಿಕದಲ್ಲಿ ವಾಲ್ ಸ್ಟ್ರೀಟ್ ಮಿಲಿಯನ್ ಆದಾಯದ ಮೇಲೆ ಪ್ರತಿ ಷೇರಿನ ಇಪಿಎಸ್ ರಷ್ಟನ್ನು ಹುಡುಕುತ್ತಿತ್ತು ಆದ್ದರಿಂದ ಐಐಪಿ ಎರಡೂ ನಿರೀಕ್ಷೆಗಳಿಂದ ನೌಕಾಯಾನ ಮಾಡಿತು ಸೆಪ್ಟೆಂಬರ್ನಲ್ಲಿ ಇದು ಸೆಪ್ಟೆಂಬರ್ನಿಂದ ಫೆಬ್ರವರಿ ರವರೆಗೆ ಸಾಮಾನ್ಯ ಷೇರುಗಳ ಷೇರುಗಳನ್ನು ನೀಡುವ ಮಾರುಕಟ್ಟೆ ಇಕ್ವಿಟಿ ಕೊಡುಗೆ ಕಾರ್ಯಕ್ರಮದಲ್ಲಿ ಸ್ಥಾಪಿಸಿತು ಕಂಪನಿಯ ಗಳಿಕೆಯ ಬಿಡುಗಡೆಯ ಪ್ರಕಾರ ನಿವ್ವಳ ಒಟ್ಟು ಮೊತ್ತ ಸುಮಾರು ಮಿಲಿಯನ್ ಇಲ್ಲಿದೆ ಗಳಿಕೆಯ ಬಿಡುಗಡೆಯಿಂದ ತೆಗೆದ ಡಸ್ಟ್ರಿಯಲ್ ಪ್ರಾಪರ್ಟೀಸ್ ಪೋರ್ಟ್ಫೋಲಿಯೊ ಫೆಬ್ರವರಿ ರಂತೆ ಐಐಪಿ ಒಡೆತನದ ಆಸ್ತಿಗಳನ್ನು ಅರಿ ೋನಾ ಕ್ಯಾಲಿಫೋರ್ನಿಯಾದಲ್ಲಿದೆ ಅಭಿವೃದ್ಧಿ ಪುನರಾಭಿವೃದ್ಧಿಯ ಅಡಿಯಲ್ಲಿ ಚದರ ಅಡಿಗಳು ಅನ್ನು ಗುತ್ತಿಗೆಗೆ ನೀಡಲಾಗಿದ್ದು ಚದರ ತುಣುಕನ್ನು ಆಧರಿಸಿ ಸುಮಾರು ವರ್ಷಗಳ ತೂಕದ ಸರಾಸರಿ ಗುತ್ತಿಗೆ ಅವಧಿಯೊಂದಿಗೆ ದಾಖಲೆಯ ತ್ರೈಮಾಸಿಕ ಸಾಸ್ ಮಾರಾಟ ಸೇರಿದಂತೆ ಒಟ್ಟು ನಾಲ್ಕನೇ ತ್ರೈಮಾಸಿಕ ಫಲಿತಾಂಶಗಳನ್ನು ತಲುಪಿಸುವ ಮೂಲಕ ನಾವು ಅನ್ನು ಪೂರ್ಣಗೊಳಿಸಿದ್ದೇವೆ ಮತ್ತು ಇದು ಒಟ್ಟು ಮಾರಾಟದ ರಷ್ಟಿದೆ ಮತ್ತು ಪ್ರತಿ ಷೇರಿಗೆ ತ್ರೈಮಾಸಿಕ ಗಳಿಕೆಯ ಗಳಿಕೆಯಲ್ಲಿ ವರ್ಷದಿಂದ ವರ್ಷಕ್ಕೆ ಗಮನಾರ್ಹ ಹೆಚ್ಚಳ ಮತ್ತು ಉಚಿತ ನಗದು ಹರಿವು ನಿರ್ದಿಷ್ಟವಾಗಿ ರಲ್ಲಿ ನಮ್ಮ ಮಾರುಕಟ್ಟೆ ಷೇರು ಕಾರ್ಯಕ್ಷಮತೆಯನ್ನು ಕೇಂದ್ರೀಕರಿಸಿದೆ ಎಸ್ ಇಸಿಯ ಐಎಕ್ಸ್ ಬಿಆರ್ಎಲ್ ಮತ್ತು ಫಾಸ್ಟ್ ಆಕ್ಟ್ ಆದೇಶಗಳು ನಮ್ಮ ಸುಧಾರಣೆಯ ಪಕ್ಕದಲ್ಲಿ ಚಲಿಸುವ ಅವಕಾಶವನ್ನು ಸೆರೆಹಿಡಿಯುವ ಮೂಲಕ ವರ್ಷಗಳಲ್ಲಿ ಮೊದಲ ಬಾರಿಗೆ ಕೆ ಕ್ಯೂ ಮತ್ತು ನೋಟಿಸ್ ಮತ್ತು ಪ್ರಾಕ್ಸಿ ಫೈಲಿಂಗ್ ಗಳನ್ನು ವರ್ಷಗಳಲ್ಲಿ ಹೆಚ್ಚಿಸಿದ್ದಕ್ಕಾಗಿ ನಾವು ಸಂತೋಷಪಟ್ಟಿದ್ದೇವೆ ಆದಾಯ ಮಿಶ್ರಣವು ಸ್ಥಳ ಆಕ್ಟಿವ್ ಡಿಸ್ಕ್ಲೋಸರ್ ಮತ್ತು ಫಂಡ್ ಸೂಟ್ ಆರ್ಕ್ ಮಾರಾಟದಲ್ಲಿ ಯಶಸ್ಸನ್ನು ಗಳಿಸಿತು ಮತ್ತು ಇಬ್ರೆವಿಯಾದ ಆರೋಗ್ಯಕರ ಕೊಡುಗೆಯೊಂದಿಗೆ ಒಟ್ಟು ಸಾಸ್ ನಿವ್ವಳ ಮಾರಾಟವು ವರ್ಷದ ಒಟ್ಟು ನಿವ್ವಳ ಮಾರಾಟದ ಕ್ಕೆ ತಲುಪಲು ಕಾರಣವಾಯಿತು ಕ್ಯಾಪಿಟಲ್ ಮಾರ್ಕೆಟ್ ಗಳಲ್ಲಿ ಆಕ್ಟಿವ್ ಡಿಸ್ಕ್ಲೋಸರ್ ನಾಲ್ಕನೇ ತ್ರೈಮಾಸಿಕದ ಆದಾಯವನ್ನು ಸುಮಾರು ವರ್ಷಗಳಲ್ಲಿ ಹೆಚ್ಚಿಸಿದೆ ವರ್ಷ ಮತ್ತೆ ನಮ್ಮ ಬಂಡವಾಳ ಮಾರುಕಟ್ಟೆಗಳಲ್ಲಿ ಬೇರೆಡೆ ಡಜನ್ಗಟ್ಟಲೆ ಹೊಸ ಗ್ರಾಹಕರನ್ನು ಸೇರಿಸುವುದು ವಹಿವಾಟು ಮತ್ತು ಸ್ಥಳ ಕೊಡುಗೆಗಳು ಎಂಎ ಎನ್ವಿ ನಾಲ್ಕನೇ ತ್ರೈಮಾಸಿಕದಲ್ಲಿ ಒಟ್ಟು ಮುಚ್ಚಿದ ಎಂಎ ವಹಿವಾಟುಗಳು ಮತ್ತು ಎಸ್ ಇಸಿ ವಿಲೀನ ದಾಖಲಾತಿಗಳು ರ ನಾಲ್ಕನೇ ತ್ರೈಮಾಸಿಕಕ್ಕೆ ಹೋಲಿಸಿದರೆ ಕ್ಕಿಂತಲೂ ಕಡಿಮೆಯಾಗಿದೆ ಫೆಬ್ರವರಿ ರಾಯಿಟರ್ಸ್ ಮೊಬೈಲ್ ಫೋನ್ ಟ್ಯಾಬ್ಲೆಟ್ ಗಳು ಮತ್ತು ಹೆಡ್ ಫೋನ್ ಗಳ ಬಲವಾದ ಆನ್ ಲೈನ್ ಮಾರಾಟವು ಗುರುವಾರ ನಿರೀಕ್ಷಿತ ತ್ರೈಮಾಸಿಕ ಲಾಭ ಮತ್ತು ಮಾರಾಟಕ್ಕಿಂತ ಉತ್ತಮವಾಗಿ ಬೆಸ್ಟ್ ಬೈ ಕೋ ಇಂಕ್ ಪೋಸ್ಟ್ ಗೆ ಸಹಾಯ ಮಾಡಿತು ಏಕೆಂದರೆ ಚಿಲ್ಲರೆ ವ್ಯಾಪಾರಿ ಇಟ್ಟಿಗೆ ಮತ್ತು ಗಾರೆ ಚಿಲ್ಲರೆ ವ್ಯಾಪಾರಿಗಳಿಗೆ ನಿರಾಶಾದಾಯಕ ರಜಾದಿನವನ್ನು ಮೀರಿದೆ ಗ್ರಾಹಕ ಎಲೆಕ್ಟ್ರಾನಿಕ್ಸ್ ಚಿಲ್ಲರೆ ವ್ಯಾಪಾರಿಗಳ ಷೇರುಗಳು ಕ್ಕೆ ಏರಿದೆ ವರ್ಷದ ಮೊದಲಾರ್ಧದಲ್ಲಿ ಕೊರೊನಾವೈರಸ್ ಏಕಾಏಕಿ ಆರ್ಥಿಕ ಹಿಟ್ ತೆಗೆದುಕೊಳ್ಳಲಿದೆ ಎಂದು ಕಂಪನಿಯು ಹೇಳಿದಂತೆ ಪ್ರೀಮಾರ್ಕೆಟ್ ವಹಿವಾಟಿನಲ್ಲಿ ಫಲಿತಾಂಶಗಳು ನಿರ್ಣಾಯಕ ಸಮಯದಲ್ಲಿ ದುರ್ಬಲ ಮಾರಾಟವನ್ನು ವರದಿ ಮಾಡಿದ ದೊಡ್ಡ ಚಿಲ್ಲರೆ ಹೆಸರುಗಳ ಪಟ್ಟಿಯಲ್ಲಿ ಬೆಸ್ಟ್ ಬೈ ಒಂದು ಹೊರಗಿನವನು ಎಂದು ಫಲಿತಾಂಶಗಳು ತೋರಿಸುತ್ತವೆ ಸಾಂಪ್ರದಾಯಿಕ ಇಟ್ಟಿಗೆ ಮತ್ತು ಗಾರೆ ವ್ಯವಹಾರಗಳು ರಜಾದಿನಗಳು ಆನ್ ಲೈನ್ ನಲ್ಲಿ ಶಾಪಿಂಗ್ ಮಾಡಲು ಆಯ್ಕೆಮಾಡಿದ ಗ್ರಾಹಕರ ನೋವನ್ನು ಅನುಭವಿಸಿದವು ಬೆಸ್ಟ್ ಬೈ ಒಟ್ಟಾರೆ ಅದೇ ಅಂಗಡಿ ಮಾರಾಟವು ಫೆಬ್ರವರಿ ಕೊನೆಗೊಂಡ ನಾಲ್ಕನೇ ತ್ರೈಮಾಸಿಕದಲ್ಲಿ ಏರಿಕೆಯಾಗಿದೆ ಐಬಿಇಎಸ್ ಪ್ರಕಾರ ವಿಶ್ಲೇಷಕರ ಸರಾಸರಿ ಅಂದಾಜು ಹೆಚ್ಚಳ ವಾಲ್ ಸ್ಟ್ರೀಟ್ ನ ಏರಿಕೆಗಳ ನಿರೀಕ್ಷೆಯೊಂದಿಗೆ ಹೋಲಿಸಿದರೆ ರೆಫಿನಿಟಿವ್ ಬೆಸ್ಟ್ ಬೈ ಮುನ್ಸೂಚನೆ ಹಣಕಾಸು ರ ಅದೇ ಅಂಗಡಿ ಮಾರಾಟದ ಬೆಳವಣಿಗೆ ಫ್ಲಾಟ್ ಗೆ ಕ್ಕೆ ಇ ಆಸ್ಟ್ರೇಲಿಯಾದ ಸಿಡ್ನಿ ವಿಶ್ವವಿದ್ಯಾನಿಲಯಗಳು ಸಿಕ್ಕಿಬಿದ್ದ ಚೀನೀ ವಿದ್ಯಾರ್ಥಿಗಳಿಗೆ ತಮ್ಮ ಅಧ್ಯಯನವನ್ನು ಪುನರಾರಂಭಿಸಲು ಪ್ರೋತ್ಸಾಹಿಸಲು ಮತ್ತು ಮೂರನೇ ದೇಶದ ಮೂಲಕ ಆಸ್ಟ್ರೇಲಿಯಾಕ್ಕೆ ಪ್ರಯಾಣಿಸಲು ಸಹಾಯ ಮಾಡಲು ಹಣವನ್ನು ನೀಡಿವೆ ಆದ್ದರಿಂದ ಅವರು ಕರೋನವೈರಸ್ ಸಂಬಂಧಿತ ಪ್ರಯಾಣ ನಿಷೇಧಕ್ಕೆ ಒಳಪಡುವುದಿಲ್ಲ ಆಸ್ಟ್ರೇಲಿಯಾದ ವಿಶ್ವವಿದ್ಯಾಲಯಗಳು ಅಂದಾಜು ನಷ್ಟವನ್ನು ಎದುರಿಸುತ್ತಿವೆ ಪ್ರಯಾಣ ನಿಷೇಧದಿಂದಾಗಿ ಬಿಲಿಯನ್ ವರೆಗೆ ಮತ್ತು ಚೀನೀ ವಿದ್ಯಾರ್ಥಿಗಳಿಗೆ ತಮ್ಮ ದಾಖಲಾತಿಗಳನ್ನು ಮುಂದುವರಿಸಲು ಅನುವು ಮಾಡಿಕೊಡುವ ಮಾರ್ಗಗಳನ್ನು ಹುಡುಕಲು ತುರ್ತಾಗಿ ಪ್ರಯತ್ನಿಸುತ್ತಿದ್ದೇವೆ ಮೊದಲ ಸೆಮಿಸ್ಟರ್ ಕೋರ್ಸ್ ಗಳಿಗೆ ದಾಖಲಾದ ಚೀನೀ ವಿಶ್ವವಿದ್ಯಾಲಯದ ವಿದ್ಯಾರ್ಥಿಗಳಲ್ಲಿ ಸುಮಾರು ಮಂದಿ ಚೀನಾದಲ್ಲಿಯೇ ಉಳಿದಿದ್ದಾರೆ ಮತ್ತು ಪ್ರಯಾಣಿಸಲು ಸಾಧ್ಯವಾಗುತ್ತಿಲ್ಲ ನಿಷೇಧದಿಂದಾಗಿ ಆಸ್ಟ್ರೇಲಿಯಾಕ್ಕೆ ವಿದ್ಯಾರ್ಥಿಗಳಿಗೆ ಸಹಾಯ ಮಾಡಲು ಆಸ್ಟ್ರೇಲಿಯಾ ವಿಶ್ವವಿದ್ಯಾನಿಲಯಗಳು ಅನುದಾನವನ್ನು ನೀಡುತ್ತಿವೆ ಅವುಗಳಲ್ಲಿ ಕೆಲವು ಮೂರನೇ ದೇಶದಲ್ಲಿ ವಿದ್ಯಾರ್ಥಿಗಳನ್ನು ಸಾಗಿಸಲು ಪ್ರೋತ್ಸಾಹಿಸಲು ವಿನ್ಯಾಸಗೊಳಿಸಲಾಗಿದೆ ಅಲ್ಲಿ ಅವರು ಆಸ್ಟ್ರೇಲಿಯಾಕ್ಕೆ ಬರುವ ಮೊದಲು ಕನಿಷ್ಠ ದಿನಗಳವರೆಗೆ ಇರಬೇಕಾಗುತ್ತದೆ ಚೀನಾದಿಂದ ಸುಮಾರು ವಿದ್ಯಾರ್ಥಿಗಳು ಪ್ರಯಾಣ ನಿಷೇಧ ಇಮ್ ಆಗಿರುವುದರಿಂದ ಥೈಲ್ಯಾಂಡ್ ಮಲೇಷ್ಯಾ ಮತ್ತು ಕಾಂಬೋಡಿಯಾದಂತಹ ಮೂರನೇ ದೇಶಗಳ ಮೂಲಕ ಆಸ್ಟ್ರೇಲಿಯಾವನ್ನು ಪ್ರವೇಶಿಸಿದೆ ಎಂದು ವರದಿಯಾಗಿದೆ ಫೆಬ್ರವರಿ ರಂದು ಒಡ್ಡಲಾಗಿದೆ ಡೇವಿಡ್ ಬೆಕ್ಹ್ಯಾಮ್ ತನ್ನ ಲೆಗೊ ತಯಾರಿಕೆಯ ಅಭ್ಯಾಸವನ್ನು ತ್ಯಜಿಸಲು ಅಪಹಾಸ್ಯಕ್ಕೊಳಗಾಗುವುದಿಲ್ಲ ಏಕೆಂದರೆ ಸಣ್ಣ ಕಟ್ಟಡದ ಇಟ್ಟಿಗೆಗಳೊಂದಿಗೆ ಆಟವಾಡುವುದು ಅವನನ್ನು ಶಾಂತಗೊಳಿಸುತ್ತದೆ ಎಂದು ಅವರು ಹೇಳುತ್ತಾರೆ ಟುನೈಟ್ ಶೋ ವಿತ್ ಜಿಮ್ಮಿ ಫಾಲನ್ ಬೆಕ್ಸ್ ಅವರು ತಮ್ಮ ಲೆಗೊ ಸ್ಪ್ಲೇಯೊಂದಿಗೆ ರಾತ್ರಿಯಿಡೀ ಕುಳಿತುಕೊಳ್ಳಲು ವಿಷಯಕ್ಕಿಂತ ಹೆಚ್ಚಿನವರಾಗಿದ್ದಾರೆ ಎಂದು ಬಹಿರಂಗಪಡಿಸಿದರು ಅವನ ಮುಂದೆ ವರ್ಷ ವಯಸ್ಸಿನ ಅವನ ಹೆಂಡತಿ ವಿಕ್ಟೋರಿಯಾ ಸಹಾಯ ಮಾಡಲಾರಳು ಆದರೆ ಅವನನ್ನು ನೋಡಿ ನಗುವುದು ಕ್ಲಿಪ್ ವಿಕ್ಟೋರಿಯಾ ಚಿತ್ರವನ್ನು ಡೇವಿಡ್ ತನ್ನ ಲೆಗೊ ಮೇಲೆ ಗಲಾಟೆ ಮಾಡುತ್ತಿರುವುದನ್ನು ನೋಡಿದೆ ಆದರೆ ಹಿನ್ನೆಲೆಯಲ್ಲಿ ಕೇಳಬಹುದು ಡೇವಿಡ್ ಕ್ಲಿಪ್ನಲ್ಲಿ ಎಷ್ಟು ಸಮಯ ಹಿಂದೆ ನಗುತ್ತಿದ್ದಾನೆ ಎಂದು ಡೇವಿಡ್ ನಂತರ ನಾನು ಬಹಿರಂಗಪಡಿಸಿದೆ ಲವ್ ಲೆಗೊ ನಾನು ಅದನ್ನು ತಯಾರಿಸುವಾಗ ಅದು ನನ್ನನ್ನು ಶಾಂತಗೊಳಿಸುತ್ತದೆ ಮತ್ತು ಅವನ ಲೆಗೊ ಪ್ರೀತಿಯ ಮಾರ್ಗಗಳನ್ನು ಮುಂದುವರಿಸಲು ಉತ್ಸುಕನಾಗಿದ್ದಾನೆ ಆತಿಥೇಯ ಜಿಮ್ಮಿ ನಂತರ ಡೇವಿಡ್ಗೆ ಹೊಚ್ಚ ಹೊಸ ಲೆಗೊವನ್ನು ಸ್ಟಾರ್ ವಾರ್ಸ್ ನಿಂದ ಮಿಲೇನಿಯಮ್ ಫಾಲ್ಕನ್ ಅನ್ನು ಹೊಂದಿಸಿದನು ಮತ್ತು ಮಾಜಿ ಫುಟ್ಬಾಲ್ ಆಟಗಾರ ವಿಕ್ಟೋರಿಯಾಳನ್ನು ಚಂದ್ರನ ಮೇಲೆ ಹೋಗುತ್ತಿದ್ದಾನೆ ಎಂದು ಗೇಲಿ ಮಾಡಿದರು ಕರೋನವೈರಸ್ನ ಪರಿಣಾಮವನ್ನು ನವೀಕರಿಸಲು ಬುಧವಾರ ಪತ್ರಿಕಾಗೋಷ್ಠಿಯಲ್ಲಿ ಎಸ್ ಅಧ್ಯಕ್ಷ ಟ್ರಂಪ್ ಅವರು ವರ್ಷಕ್ಕೆ ಸಾವಿರಾರು ಜನರನ್ನು ಕೊಲ್ಲುವ ಜ್ವರ ಬಗ್ಗೆ ಮಾತನಾಡಿದರು ಇದುವರೆಗೆ ಕರೋನವೈರಸ್ ಅನ್ನು ಸಂಕುಚಿತಗೊಳಿಸಿದ ನೀವು ಎಸ್ ನಾಗರಿಕರಿಗೆ ಹೋಲಿಸಿದರೆ ಟ್ರಂಪ್ ಹೇಗೆ ಕರೋನವೈರಸ್ ಹೊಂದಿರುವ ನಿಮ್ಮ ಎಸ್ ನಾಗರಿಕರ ಸಂಖ್ಯೆಯನ್ನು ಕ್ಕೆ ಇರಿಸಲು ನೀವು ಸಮರ್ಥರಾಗಿದ್ದೀರಿ ಎಂದು ಅವರು ಹೇಳಿದರು ನೀವು ಅಲ್ಲದ ಎಸ್ ನಾಗರಿಕರು ನಿಮ್ಮೊಳಗೆ ಬರುವುದನ್ನು ನಿಲ್ಲಿಸುವುದು ಚೀನಾದಿಂದ ಎಸ್ ಅನ್ನು ಕರೋನವೈರಸ್ ಹೊಂದಿದೆಯೆಂದು ತಿಳಿದಿರುವ ಆ ದೇಶಗಳ ಜನರನ್ನು ಸ್ಕ್ರೀನಿಂಗ್ ಮಾಡುವುದು ಮತ್ತು ಸೋಂಕಿತರನ್ನು ನಿರ್ಬಂಧಿಸುವುದು ಪ್ರಮುಖವಾದುದು ಕಡಿಮೆ ಮಟ್ಟಕ್ಕೆ ಸೋಂಕು ತಗುಲಿದ ಅವರು ನಿಮ್ಮಲ್ಲಿ ಕೊರೊನಾವೈರಸ್ ಏಕಾಏಕಿ ಸಂಭವಿಸುವ ಪ್ರತಿಕ್ರಿಯೆಯ ಜವಾಬ್ದಾರಿಯನ್ನು ಉಪಾಧ್ಯಕ್ಷ ಮೈಕ್ ಪೆನ್ಸ್ ಅವರನ್ನು ವಹಿಸಿಕೊಳ್ಳುವುದಾಗಿ ಘೋಷಿಸಿದರು ಹೆಚ್ಚಿನ ಮಾಹಿತಿಗಾಗಿ ದಯವಿಟ್ಟು ಗ್ಲೋಬಲ್ ನ್ಯೂಸ್ ಚಾನೆಲ್ಗೆ ಹೋಗಿ ಇಲ್ಲಿ ಫೇಸ್ ಬುಕ್ ನಲ್ಲಿ ಗ್ಲೋಬಲ್ ನ್ಯೂಸ್ ಟ್ವಿಟರ್ ಇನ್ಸ್ಟಾಗ್ರಾಮ್ನಲ್ಲಿ ಜಾಗತಿಕ ಸುದ್ದಿ ಇಲ್ಲಿ ಗ್ಲೋಬಲ್ನ್ಯೂಸ್ ಪ್ಯಾರಿಸ್ ಎಎಫ್ ಪಿ ಅಧ್ಯಕ್ಷ ಎಮ್ಯಾನುಯೆಲ್ ಮ್ಯಾಕ್ರೋನ್ ಗುರುವಾರ ಫೆಬ್ರವರಿ ರಂದು ಫ್ರಾನ್ಸ್ ಕರೋನವೈರಸ್ ಪ್ರಕರಣಗಳ ಸಂಖ್ಯೆಯಲ್ಲಿ ಹೆಚ್ಚಳಕ್ಕೆ ತಯಾರಿ ನಡೆಸುತ್ತಿದೆ ಎಂದು ಹೇಳಿದರು ಮತ್ತು ನಾವು ಅದನ್ನು ಸಾಧ್ಯವಾದಷ್ಟು ಉತ್ತಮವಾಗಿ ಎದುರಿಸಬೇಕಾಗಿದೆ ಮತ್ತು ನಾವು ಬಿಕ್ಕಟ್ಟನ್ನು ಎದುರಿಸುತ್ತಿದ್ದೇವೆ ಸಾಂಕ್ರಾಮಿಕ ರೋಗವು ಶ್ರೀ ಮ್ಯಾಕ್ರೋನ್ ಹೇಳಿದರು ಪ್ಯಾರಿಸ್ನ ಲಾ ಪಿಟಿ ಸಾಲ್ಪೆಟ್ರಿಯೆರ್ ಆಸ್ಪತ್ರೆಯಲ್ಲಿ ಸಿಬ್ಬಂದಿಯನ್ನು ಭೇಟಿ ಮಾಡುವಾಗ ಹೊಸ ಕರೋನವೈರಸ್ ಹೊತ್ತ ಮೊದಲ ಫ್ರೆಂಚ್ ವ್ಯಕ್ತಿ ಮಂಗಳವಾರ ನಿಧನರಾದರು ಫ್ರಾನ್ಸ್ ಇದುವರೆಗೆ ಪ್ರಕರಣಗಳನ್ನು ವರದಿ ಮಾಡಿದೆ ಮತ್ತು ವರ್ಷದ ಚೀನಾದ ಪ್ರವಾಸಿ ಸೇರಿದಂತೆ ಎರಡು ಸಾವುಗಳು ವರದಿಯಾಗಿದೆ ಏಷ್ಯಾ ಎರಡನೆಯದು ವರ್ಷದ ಶಿಕ್ಷಕನಾಗಿದ್ದು ಅವರು ಏಕಾಏಕಿ ಹಾಟ್ ಸ್ಪಾಟ್ ಗೆ ಪ್ರಯಾಣಿಸದ ಕಾರಣ ಅಧಿಕಾರಿಗಳನ್ನು ಆತಂಕಕ್ಕೊಳಗಾಗಿದ್ದಾರೆ ಅದೇ ಪ್ರದೇಶದ ವರ್ಷದ ವ್ಯಕ್ತಿಯೊಬ್ಬರು ಏಕಾಏಕಿ ವಲಯಕ್ಕೆ ಪ್ರಯಾಣಿಸದ ಶಿಕ್ಷಕನನ್ನು ಸಹ ಆಸ್ಪತ್ರೆಗೆ ದಾಖಲಿಸಲಾಗಿದೆ ಫ್ರೆಂಚ್ ನೆಲದಲ್ಲಿ ಸೋಂಕಿನ ಮೂಲವನ್ನು ಕಂಡುಹಿಡಿಯಲು ವೈರಸ್ ಮತ್ತು ತನಿಖೆಗಳು ನಡೆಯುತ್ತಿವೆ ಈ ಲೇಖನವು ಮೂಲತಃ ಸ್ಮ್ಯಾಶ್ ಹಿಟ್ ಸಾಂಕ್ರಾಮಿಕ ಸಿಮ್ಯುಲೇಶನ್ ಗೇಮ್ ನಲ್ಲಿ ಕಾಣಿಸಿಕೊಂಡಿತು ಕರೋನವೈರಸ್ ಏಕಾಏಕಿ ಪ್ರಾರಂಭವಾದಾಗಿನಿಂದ ದೇಶದಲ್ಲಿ ಹಿಟ್ ಆದ ನಂತರ ಪ್ಲೇಗ್ ಇಂಕ್ ಚೀನಾದಲ್ಲಿನ ಆಪ್ ಸ್ಟೋರ್ ನಿಂದ ಕಣ್ಮರೆಯಾಗಿದೆ ವರ್ಷದ ಆಟವು ಚೀನಾದಲ್ಲಿ ಹೊಸ ಜನಪ್ರಿಯತೆಯನ್ನು ಗಳಿಸಿತು ಏಕೆಂದರೆ ಅದರ ಪ್ರಮೇಯ ಆಟಗಾರರು ಮಾನವ ಜನಾಂಗವನ್ನು ಅಳಿಸಿಹಾಕುವ ಅಂತಿಮ ಗುರಿಯೊಂದಿಗೆ ಸೂಪರ್ ವೈರಸ್ ಅನ್ನು ಎಂಜಿನಿಯರ್ ಮಾಡಬೇಕು ಆದರೆ ಈಗ ಐಫೋನ್ ಮಾಲೀಕರು ಚೀನಾದ ಮುಖ್ಯ ಭೂಭಾಗದಲ್ಲಿರುವ ಐಒಎಸ್ ಆಪ್ ಸ್ಟೋರ್ ನಲ್ಲಿ ಆಟವನ್ನು ಡೌನ್ ಲೋಡ್ ಮಾಡಲು ಅಥವಾ ನವೀಕರಿಸಲು ಸಾಧ್ಯವಿಲ್ಲ ಸಿಡ್ನಿ ದುಬೈ ರಾಯಿಟರ್ಸ್ ಇರಾನ್ ಇಟಲಿಯ ದಕ್ಷಿಣ ಕೊರಿಯಾ ಮತ್ತು ಇತರೆಡೆಗಳಲ್ಲಿ ಶೀಘ್ರವಾಗಿ ಹರಡಿರುವ ತುರ್ತು ಕ್ರಮಗಳನ್ನು ಜಾರಿಗೆ ತರಲು ವಿಶ್ವದಾದ್ಯಂತ ಆತಂಕಕ್ಕೊಳಗಾದ ಸರ್ಕಾರಗಳು ಮತ್ತು ಜನರು ಗುರುವಾರ ಧಾವಿಸಿದ್ದಾರೆ ಕರೋನವೈರಸ್ ಮುಖ್ಯವಾಗಿ ಚೀನಾವನ್ನು ಹೊಡೆದಿದೆ ಪ್ರಕರಣಗಳು ಮತ್ತು ಸಾವುಗಳು ಇಲ್ಲಿ ಕರೋನವೈರಸ್ ಸುದ್ದಿಗಳಿಗಾಗಿ ಲೈವ್ ಬ್ಲಾಗ್ ಆನ್ ಲೈನ್ ಸೈಟ್ ಆರನೇ ದಿನಕ್ಕೆ ಇಳಿದು ವಿಶ್ವದ ಎರಡನೇ ಅತಿದೊಡ್ಡ ಆರ್ಥಿಕತೆ ಮತ್ತು ಕಾರ್ಪೊರೇಟ್ ಪೂರೈಕೆ ಸರಪಳಿಗಳ ಹೃದಯ ಮತ್ತು ಇತರ ದೇಶಗಳ ಮೇಲೆ ಹೆಚ್ಚುತ್ತಿರುವ ಪರಿಣಾಮದಿಂದ ಪ್ರಭಾವಿತವಾಗಿದೆ ಸ್ಟಾಕ್ ಮಾರುಕಟ್ಟೆಗಳು ಕೆಂಪು ಮತ್ತು ತೈಲ ಬೆಲೆಗಳು ಆಳವಾಗಿ ಮುಳುಗಿದವು ಜಾಗತಿಕ ಮಾರುಕಟ್ಟೆಗಳು ಸತತ ಆರು ದಿನಗಳವರೆಗೆ ಕುಸಿದಿವೆ ಟ್ರಿಲಿಯನ್ಗಿಂತಲೂ ಹೆಚ್ಚಿನ ಮೌಲ್ಯವು ದಕ್ಷಿಣ ಕೊರಿಯಾದಲ್ಲಿ ಹೊಸ ಪ್ರಕರಣಗಳು ಸಾವುಗಳೊಂದಿಗೆ ಕ್ಕೆ ತಲುಪಿದ್ದರೆ ಯುರೋಪಿನ ಹಾಟ್ಸ್ಪಾಟ್ ಇಟಲಿಯಲ್ಲಿ ಸೋಂಕುಗಳು ಮತ್ತು ಸಾವುಗಳು ಸಂಭವಿಸಿವೆ ಮತ್ತು ಇರಾನ್ ಪ್ರಕರಣಗಳು ಮತ್ತು ಸಾವುನೋವುಗಳನ್ನು ವರದಿ ಮಾಡಿದೆ ಇಲ್ಲಿ ಹೊಸ ಕರೋನವೈರಸ್ನಲ್ಲಿ ಗ್ರಾಫಿಕ್ ರಾಯಿಟರ್ಸ್ ಗ್ರಾಫಿಕ್ಸ್ ಜನರನ್ನು ಒತ್ತಾಯಿಸುತ್ತಿದೆ ಅನಗತ್ಯ ಪ್ರಯಾಣವನ್ನು ತಪ್ಪಿಸಲು ಟೆಹ್ರಾನ್ ಚಿತ್ರಮಂದಿರಗಳ ಸಾಂಸ್ಕೃತಿಕ ಕಾರ್ಯಕ್ರಮಗಳು ಮತ್ತು ಸಮ್ಮೇಳನಗಳನ್ನು ಮುಚ್ಚುವುದನ್ನು ವಿಸ್ತರಿಸಿತು ವಾರ ದಕ್ಷಿಣ ಕೊರಿಯಾದಲ್ಲಿ ಕರೋನವೈರಸ್ ಹರಡುವಿಕೆಯಿಂದಾಗಿ ವಾರ್ಷಿಕ ಜಂಟಿ ಮಿಲಿಟರಿ ವ್ಯಾಯಾಮವನ್ನು ಮುಂದೂಡುವುದಾಗಿ ನೀವು ಎಸ್ ಮತ್ತು ದಕ್ಷಿಣ ಕೊರಿಯಾ ಗುರುವಾರ ಪ್ರಕಟಿಸಿದೆ ಸಂಯೋಜಿತ ತರಬೇತಿಯನ್ನು ಮುಂದೂಡಿದರೂ ಸಹ ಯುಎಸ್ ಮೈತ್ರಿ ವಿಶ್ವಾಸಾರ್ಹ ಮಿಲಿಟರಿ ತಡೆಗಟ್ಟುವಿಕೆಯನ್ನು ಒದಗಿಸಲು ಮತ್ತು ದೃ ವಾದ ಸಂಯೋಜನೆಯನ್ನು ಕಾಪಾಡಿಕೊಳ್ಳಲು ಬದ್ಧವಾಗಿದೆ ನೀವು ಯಾವುದೇ ಬೆದರಿಕೆಯಿಂದ ರಕ್ಷಿಸಲು ಆರ್ಒಕೆ ರಿಪಬ್ಲಿಕ್ ಆಫ್ ಕೊರಿಯಾವನ್ನು ರಕ್ಷಿಸುವ ಭಂಗಿ ಎಸ್ ಮಿಲಿಟರಿ ವಕ್ತಾರ ಕೋಲ್ ಲೀ ಪೀಟರ್ಸ್ ದಕ್ಷಿಣ ಕೊರಿಯಾದಲ್ಲಿ ಸುಮಾರು ವರದಿಯಾದ ಪ್ರಕರಣಗಳು ವರದಿಯಾಗಿದ್ದು ಚೀನಾ ಮುಖ್ಯ ಭೂಭಾಗದ ಹೊರಗೆ ಅತಿ ಹೆಚ್ಚು ಸಂಖ್ಯೆಯ ಕೊರೊನಾವೈರಸ್ ಸೋಂಕುಗಳಿವೆ ಅಲ್ಲಿ ಏಕಾಏಕಿ ಎಪಿ ಟಿಪ್ಪಣಿಗಳು ಪ್ರಾರಂಭವಾದವು ಇತ್ತೀಚಿನ ಕ್ರಮ ದಕ್ಷಿಣ ಕೊರಿಯಾ ತನ್ನ ಸೈನಿಕರನ್ನು ನಿರ್ಬಂಧಿಸಿದ ನಂತರ ಮತ್ತು ಸೇರ್ಪಡೆಗೊಂಡ ಸೈನಿಕರಲ್ಲಿ ಹೆಚ್ಚಿನವರು ತಮ್ಮ ನೆಲೆಗಳನ್ನು ಬಿಡುವುದನ್ನು ನಿಷೇಧಿಸಿದ ನಂತರ ನೀವು ಎಸ್ ಪ್ರಸ್ತುತ ದೇಶದಲ್ಲಿ ಸೈನಿಕರನ್ನು ಹೊಂದಿದ್ದರೆ ದಕ್ಷಿಣ ಕೊರಿಯಾದ ಮಿಲಿಟರಿ ಪ್ರಬಲವಾಗಿದೆ ನಿಮ್ಮ ಮೇಲೆ ಮಾಜಿ ಡಿಎಚ್ ಎಸ್ ಅಧಿಕಾರಿ ಎಸ್ ಕರೋನವೈರಸ್ ಪ್ರತಿಕ್ರಿಯೆ ಅಧ್ಯಕ್ಷ ಜಾರ್ಜ್ ಡಬ್ಲ್ಯು ಬುಷ್ ಗೆ ಹೋಮ್ಲ್ಯಾಂಡ್ ಸೆಕ್ಯುರಿಟಿ ಸಲಹೆಗಾರನಾಗಿ ಫ್ರಾನ್ ಟೌನ್ ಸೆಂಡ್ ಸಂಭಾವ್ಯ ಫ್ಲೂ ಸಾಂಕ್ರಾಮಿಕ ರೋಗವನ್ನು ನಿಭಾಯಿಸಲು ತನ್ನ ಆಡಳಿತದ ಕಾರ್ಯತಂತ್ರವನ್ನು ರಚಿಸಲು ಸಹಾಯ ಮಾಡಿದಳು ಅವಳು ಸಿಬಿಎಸ್ ದಿಸ್ ಮಾರ್ನಿಂಗ್ ಗೆ ಸೇರುತ್ತಾಳೆ ಏಕಾಏಕಿ ಜಾಗತಿಕ ಸಾಂಕ್ರಾಮಿಕ ರೋಗವಾಗಲಿದೆ ಎಂದು ವಿದೇಶದಲ್ಲಿ ಕೊರೊನಾವೈರಸ್ ಕುರಿತು ಟ್ರಂಪ್ ಸಿಡಿಸಿಯೊಂದಿಗೆ ಭಿನ್ನಾಭಿಪ್ರಾಯ ಹೊಂದಿದ್ದಾರೆ ಅಧ್ಯಕ್ಷ ಟ್ರಂಪ್ ಅವರ ಬುಧವಾರ ಕರೋನವೈರಸ್ ಪತ್ರಿಕಾಗೋಷ್ಠಿಯು ಶ್ವೇತಭವನದ ಬ್ರೀಫಿಂಗ್ ಕೋಣೆಯಲ್ಲಿ ತನ್ನ ಎರಡನೇ ಬಾರಿಗೆ ಕಾಣಿಸಿಕೊಂಡಿದೆ ಎಂದು ಆಡಳಿತ ಆರೋಗ್ಯ ಮತ್ತು ಸಿಡಿಸಿ ಅಧಿಕಾರಿಗಳು ಸುತ್ತುವರೆದಿದ್ದಾರೆ ಸಿಡಿಸಿ ವಾಸಿಸುವವರಿಗೆ ಎಚ್ಚರಿಕೆ ನೀಡಿದ್ದರೂ ಸಹ ಪರಿಸ್ಥಿತಿ ಇದೆ ಎಂದು ಅಮೆರಿಕನ್ನರಿಗೆ ಧೈರ್ಯ ತುಂಬಲು ಪ್ರಯತ್ನಿಸಿದರು ಪೌಲಾ ರೀಡ್ ಶ್ವೇತಭವನದಲ್ಲಿದ್ದಾರೆ ಏಕೆಂದರೆ ಆರೋಗ್ಯ ತಜ್ಞರು ಹೆಚ್ಚು ಸಕಾರಾತ್ಮಕ ದೃಷ್ಟಿಕೋನವನ್ನು ಚಿತ್ರಿಸಿಲ್ಲ ಎಂದು ಟ್ರಂಪ್ ನಿರಾಶೆಗೊಂಡಿದ್ದಾರೆ ಎಂದು ವರದಿಯಾಗಿದೆ ಲಂಡನ್ ರಾಯಿಟರ್ಸ್ ಅಪಾಯ ನಿವಾರಣೆಯು ಗುರುವಾರ ಜಾಗತಿಕ ಷೇರುಗಳನ್ನು ಕಡಿಮೆ ಮಾಡಿ ಈ ವಾರದಲ್ಲಿ ಕೇವಲ ಟ್ರಿಲಿಯನ್ ಗಿಂತಲೂ ಹೆಚ್ಚಿನ ಮೌಲ್ಯವನ್ನು ಕುಸಿಯಿತು ಮತ್ತು ನೀವು ಎಸ್ ಖಜಾನೆಗಳ ಇಳುವರಿ ದಾಖಲೆಯ ಕನಿಷ್ಠ ಮಟ್ಟವನ್ನು ಮುಟ್ಟಿದೆ ಏಕೆಂದರೆ ಕರೋನವೈರಸ್ ಚೀನಾದ ಹೊರಗೆ ವೇಗವಾಗಿ ಹರಡಿಕೊಂಡಿರುವುದರಿಂದ ಸುರಕ್ಷಿತ ಧಾಮದ ಕರೆನ್ಸಿಗಳು ಉತ್ತಮವಾಗಿ ಕಾರ್ಯನಿರ್ವಹಿಸುತ್ತಿವೆ ಮತ್ತು ಚಿನ್ನ ಚೀನಾ ಅಪಾಯದ ಮನೋಭಾವದ ಹೊರಗಿನ ಕೊರೊನಾವೈರಸ್ ಪ್ರಕರಣಗಳಲ್ಲಿನ ಮಂದಗತಿಯನ್ನು ನಾವು ನೋಡದಿದ್ದರೆ ಲಂಡನ್ ಯುಬಿಪಿಯಲ್ಲಿ ಯುಬಿಪಿಯಲ್ಲಿ ಎಫ್ಎಕ್ಸ್ ಕಾರ್ಯತಂತ್ರದ ಜಾಗತಿಕ ಮುಖ್ಯಸ್ಥ ಪೀಟರ್ ಕಿನ್ಸೆಲ್ಲಾ ನಿಮ್ಮ ಮೇಲೆ ಬರುತ್ತದೆ ಎಸ್ ಖಜಾನೆಗಳು ಬೆಲೆಗಳು ಏರಿದಾಗ ಕ್ಕೆ ಕ್ಕಿಂತ ಕಡಿಮೆಯಾಗಿದೆ ವರ್ಷದ ಸಾಲ ಮತ್ತು ಇಳುವರಿ ಕರ್ವ್ ಆರ್ಥಿಕ ಹಿಂಜರಿತದ ಎಚ್ಚರಿಕೆಗಳನ್ನು ಕಳುಹಿಸುತ್ತಲೇ ಇತ್ತು ಎಸ್ ಪಿ ರ ಇ ಮಿನಿ ಫ್ಯೂಚರ್ ಗಳು ರಷ್ಟು ಕುಸಿದವು ಮತ್ತು ಜಾಗತಿಕ ಬೆಳವಣಿಗೆಗೆ ಸೂಕ್ಷ್ಮವಾದ ತೈಲವು ತಿಂಗಳಲ್ಲಿ ಕ್ಕಿಂತಲೂ ಕಡಿಮೆಯಾಗಿದೆ ದಕ್ಷಿಣ ಕೊರಿಯಾದ ಷೇರುಗಳು ಗುರುವಾರ ಮುಕ್ತಾಯಗೊಳ್ಳಲಿದ್ದು ಕಳೆದ ತಿಂಗಳು ಮೊದಲ ಸೋಂಕಿನ ನಂತರ ಹೊಸ ವೈರಸ್ ಪ್ರಕರಣಗಳಲ್ಲಿ ಇದು ಅತಿದೊಡ್ಡ ದೈನಂದಿನ ಏರಿಕೆಯನ್ನು ವರದಿ ಮಾಡಿರುವುದರಿಂದ ನಾಲ್ಕು ತಿಂಗಳ ಕಡಿಮೆ ಸೂಚ್ಯಂಕ ಮುಗಿದಿದೆ ಕರೋನವೈರಸ್ ಉತ್ತರ ಇಟಲಿಯ ಪಟ್ಟಣಗಳನ್ನು ಲಾಕ್ ಮಾಡುತ್ತಿರುವಂತೆ ಪೋಪ್ ಫ್ರಾನ್ಸಿಸ್ ನಾನು ತೆಗೆದುಕೊಳ್ಳುತ್ತೇನೆ ಮತ್ತು ರೋಮ್ ಬೆಸಿಲಿಕಾದಲ್ಲಿ ನಡೆದ ಕಾರ್ಯಕ್ರಮವನ್ನು ರದ್ದುಗೊಳಿಸಿದ್ದೇನೆ ವ್ಯಾಟಿಕನ್ ಪೋಪ್ ಮತ್ತು ಕಾರ್ಡಿನಲ್ ಆಂಟೋನಿಯೊ ಟ್ಯಾಗಲ್ ಫಿಲಿಪಿನೋ ಅವರ ಚಿತ್ರವನ್ನು ಬಿಡುಗಡೆ ಮಾಡಿದೆ ಅವರು ಗುರುವಾರ ವ್ಯಾಟಿಕನ್ ಸಭೆಯಲ್ಲಿ ಹೊಸ ಪೋಸ್ಟ್ನಲ್ಲಿ ಪ್ರಾರಂಭಿಸಿದ್ದಾರೆ ಗ್ಲೋಬಲ್ ಕ್ಯಾಥೊಲಿಕ್ ಹವಾಮಾನ ಚಳವಳಿಯ ಸದಸ್ಯರೊಂದಿಗೆ ಬೆಳಿಗ್ಗೆ ಅಂತರರಾಷ್ಟ್ರೀಯ ಪರಿಸರ ಗುಂಪು ಪೋಪ್ ಶೀತದಿಂದ ಕಾಣಿಸಿಕೊಂಡರು ಮತ್ತು ಬುಧವಾರ ತಮ್ಮ ಸಾಮಾನ್ಯ ಪ್ರೇಕ್ಷಕರಲ್ಲಿ ಸ್ವಲ್ಪ ಗಟ್ಟಿಯಾದ ಧ್ವನಿಯಲ್ಲಿ ಮಾತನಾಡಿದರು ಮತ್ತು ರೋಮ್ ಚರ್ಚ್ನಲ್ಲಿ ಮಧ್ಯಾಹ್ನ ಬೂದಿ ಬುಧವಾರ ಸೇವೆಯ ಸಮಯದಲ್ಲಿ ಕೂಗಿದರು ಪೋಪ್ ಕಾರಣ ರೋಮನ್ ಪುರೋಹಿತರೊಂದಿಗಿನ ಲೆಂಟನ್ ಸೇವೆಗಾಗಿ ಗುರುವಾರ ಬೆಳಿಗ್ಗೆ ಲ್ಯಾಟೆರನ್ ನ ಸೇಂಟ್ ಜಾನ್ಸ್ ಬೆಸಿಲಿಕಾಕ್ಕೆ ಹೋಗಲು ಕೆಲವು ಲೆಂಟ್ ಬೂದಿ ಬುಧವಾರ ಸೇವೆಗಳನ್ನು ರದ್ದುಗೊಳಿಸಲಾಯಿತು ಅಥವಾ ಉತ್ತರ ಇಟಲಿಯ ಪ್ರದೇಶಗಳಲ್ಲಿ ಸೀಮಿತಗೊಳಿಸಲಾಯಿತು ಮತ್ತು ಕೊರೊನಾವೈರಸ್ ಹರಡಿತು ಕರೋನವೈರಸ್ನಿಂದ ಇರಾನ್ನ ಸಾವಿನ ಸಂಖ್ಯೆ ಆರೋಗ್ಯ ಸಚಿವಾಲಯವನ್ನು ತಲುಪಿದೆ ರಾಯಿಟರ್ಸ್ ಫೆಬ್ರವರಿ ಜಿಎಂಟಿ ಇರಾನಿನ ಮಹಿಳೆಯರು ಟೆಹ್ರಾನ್ ಇರಾನ್ನಲ್ಲಿ ಬೀದಿಯಲ್ಲಿ ನಡೆದುಕೊಂಡು ಹೋಗುವಾಗ ಕೊರೊನಾವೈರಸ್ ಅನ್ನು ತಡೆಗಟ್ಟಲು ರಕ್ಷಣಾತ್ಮಕ ಮುಖವಾಡಗಳನ್ನು ಧರಿಸುತ್ತಾರೆ ಫೆಬ್ರವರಿ ಇರಾನ್ ಗುರುವಾರ ಕರೋನವೈರಸ್ನಿಂದ ಸಾವನ್ನಪ್ಪಿದೆ ಎಂದು ಹೇಳಿದರು ಕ್ಕೆ ಏರಿದೆ ಮತ್ತು ಒಟ್ಟು ಸೋಂಕಿತರ ಸಂಖ್ಯೆ ಈಗ ರಷ್ಟಿದೆ ಕಳೆದ ಗಂಟೆಗಳಲ್ಲಿ ನಾವು ಹೊಸ ದೃ ಪಡಿಸಿದ ಪ್ರಕರಣಗಳನ್ನು ಹೊಂದಿದ್ದೇವೆ ಸಾವಿನ ಸಂಖ್ಯೆ ತಲುಪಿದೆ ಎಂದು ಆರೋಗ್ಯ ಸಚಿವಾಲಯದ ವಕ್ತಾರ ಕಿಯಾನುಷ್ ಜಹಾನ್ಪುರ್ ರಾಜ್ಯ ಟಿವಿಗೆ ತಿಳಿಸಿದ್ದಾರೆ ದೇಶದೊಳಗೆ ಅನಗತ್ಯ ಪ್ರವಾಸಗಳನ್ನು ತಪ್ಪಿಸಲು ಇರಾನಿಯನ್ನರಿಗೆ ಕರೆ ನೀಡಿದ್ದು ನ್ಯಾಯಾಲಯದ ಗೆಲುವಿನ ನಂತರ ಕ್ವಾಲೆ ಮಿಲ್ಲರ್ ಕಾರ್ಯಾಚರಣೆಯನ್ನು ಪುನರಾರಂಭಿಸಿ ಅಧ್ಯಕ್ಷ ಹಸನ್ ರೂಹಾನಿ ಸೇರಿದಂತೆ ಅಧಿಕಾರಿಗಳು ಬುಧವಾರ ಇರಾನ್ ಯಾವುದೇ ನಗರಗಳು ಮತ್ತು ಜಿಲ್ಲೆಗಳನ್ನು ಪ್ರತ್ಯೇಕಿಸಲು ಯಾವುದೇ ಯೋಜನೆಯನ್ನು ಹೊಂದಿಲ್ಲ ಎಂದು ಹೇಳಿದರು ಕಳೆದ ವಾರ ಇದ್ದಂತೆ ಕರೋನವೈರಸ್ನಿಂದ ಮೊದಲ ಸಾವುಗಳು ಮತ್ತು ಸೋಂಕುಗಳು ಆದಾಯವು ಕಳೆದ ವರ್ಷ ಮಿಲಿಯನ್ ನಿಂದ ಮಿಲಿಯನ್ ಹೆಚ್ಚಾಗಿದೆ ಮತ್ತು ಮಿಲಿಯನ್ ಫ್ಯಾಕ್ಟ್ ಸೆಟ್ ಒಮ್ಮತವನ್ನು ಸೋಲಿಸಿದೆ ಮೊದಲ ತ್ರೈಮಾಸಿಕದಲ್ಲಿ ಆದಾಯವು ಮಿಲಿಯನ್ ಮತ್ತು ಮಿಲಿಯನ್ ನಡುವೆ ಫ್ಯಾಕ್ಟ್ ಸೆಟ್ ಒಮ್ಮತಕ್ಕಿಂತ ಮಿಲಿಯನ್ ಕ್ರೋಕ್ ಗಳಿಗೆ ಆದಾಯವನ್ನು ನಿರೀಕ್ಷಿಸುತ್ತದೆ ಕರೋನವೈರಸ್ ನಿಂದ ಏಷ್ಯಾದಲ್ಲಿ ಉಂಟಾದ ಅಡೆತಡೆಗಳಿಂದಾಗಿ ಮಿಲಿಯನ್ ನಿಂದ ಮಿಲಿಯನ್ ವರೆಗೆ ಆದಾಯವು ರಿಂದ ಕ್ಕೆ ಏರಿಕೆಯಾಗಲಿದೆ ಎಂದು ಕ್ರೋಕ್ಸ್ ನಿರೀಕ್ಷಿಸುತ್ತಾನೆ ಫ್ಯಾಕ್ಟ್ ಸೆಟ್ ದೃಷ್ಟಿಕೋನವು ಬಿಲಿಯನ್ ಆದಾಯಕ್ಕಾಗಿ ಹೆಚ್ಚಳವನ್ನು ಸೂಚಿಸುತ್ತದೆ ಲಂಡನ್ ಫೆಬ್ರವರಿ ರಾಯಿಟರ್ಸ್ ಯುರೋಪಿಯನ್ ಸರ್ಕಾರದ ಬಾಂಡ್ ಇಳುವರಿ ಗುರುವಾರ ಜರ್ಮನಿಯ ಬೆಂಚ್ ಮಾರ್ಕ್ ಸಾಲ ಇಳುವರಿಯೊಂದಿಗೆ ನಾಲ್ಕು ತಿಂಗಳಿಗಿಂತಲೂ ಕಡಿಮೆ ಅವಧಿಯಲ್ಲಿ ಕುಸಿಯಿತು ಏಕೆಂದರೆ ಕರೋನವೈರಸ್ ಹರಡುವಿಕೆಯು ಅಪಾಯದ ಮನೋಭಾವವನ್ನು ದುರ್ಬಲಗೊಳಿಸಿತು ಜರ್ಮನಿಯ ವರ್ಷದ ಮೆಚುರಿಟಿಗಳು ಬಿಪಿಎಸ್ ಗಿಂತಲೂ ಕಡಿಮೆಯಾಗಿ ಕ್ಕೆ ತಲುಪಿದೆ ಹಿಂದಿನ ಅಧಿವೇಶನದಲ್ಲಿ ಅಕ್ಟೋಬರ್ ಆರಂಭದಲ್ಲಿ ರಷ್ಟನ್ನು ತಲುಪಿದೆ ಆದರೆ ಜರ್ಮನ್ ಬಾಂಡ್ ಗಳು ಸುರಕ್ಷತೆಯ ಭರಾಟೆಯಿಂದ ಪ್ರಯೋಜನ ಪಡೆದಿವೆ ಆದರೆ ಇಟಾಲಿಯನ್ ಸಾಲವು ಇಟಲಿಯ ಕೊರೊನಾವೈರಸ್ ಏಕಾಏಕಿ ಯುರೋಪಿನ ಕೆಟ್ಟದಾಗಿದೆ ಜರ್ಮನ್ ಸಾಲ ಮತ್ತು ಅನುಗುಣವಾದ ಇಟಾಲಿಯನ್ ಬಾಂಡ್ ಗಳ ನಡುವೆ ಇಳುವರಿ ಒಂದು ತಿಂಗಳ ಎತ್ತರಕ್ಕೆ ವಿಸ್ತರಿಸಿದೆ ಬೇಸಿಸ್ ಪಾಯಿಂಟ್ ಗಳು ಕೊರೊನಾವೈರಸ್ ಸುದ್ದಿ ಯುರೋಪಿಯನ್ ಸೆಂಟ್ರಲ್ ಬ್ಯಾಂಕ್ ನೀತಿ ನಿರೂಪಕರ ಯಾವುದೇ ಕಾಮೆಂಟ್ ಗಳನ್ನು ಮರೆಮಾಚುವ ಸಾಧ್ಯತೆಯಿದೆ ಅವರಲ್ಲಿ ಅನೇಕರು ಗುರುವಾರ ಮಾತನಾಡುತ್ತಿದ್ದರು ಸೆನೆಟ್ ಸೆನೆಟರ್ ಅಧ್ಯಕ್ಷ ಅಹ್ಮದ್ ಲಾವನ್ ಅವರ ಸಂದರ್ಭದಲ್ಲಿ ಗುರುವಾರ ಅಬುಜಾದಲ್ಲಿ ಮಾತನಾಡಿದ ಅವರು ಫೆಡರಲ್ ಸರ್ಕಾರವು ಕೆಲವು ಪೂರ್ವಭಾವಿ ಕ್ರಮಗಳನ್ನು ಕೈಗೊಳ್ಳುತ್ತಿರುವಾಗ ಅದು ಸಾಕಷ್ಟು ಮಾಡುತ್ತಿಲ್ಲ ಮತ್ತು ನೈಜೀರಿಯಾ ಸೋಂಕಿನಿಂದ ತಪ್ಪಿಸಿಕೊಳ್ಳಬೇಕಾದರೆ ಇದನ್ನು ಸುಧಾರಿಸಬೇಕು ಎಂದು ಉಪ ಸೆನೆಟ್ ನಾಯಕ ಸೆನೆಟರ್ ರಾಬರ್ಟ್ ಅಜಯ್ ಬೊರೊಫೈಸ್ ಎಲ್ಲಾ ಪ್ರಗತಿಪರ ಕಾಂಗ್ರೆಸ್ ಎಪಿಸಿ ಒಂಡೋ ನಾರ್ತ್ ಅವರು ದಕ್ಷಿಣ ಆಫ್ರಿಕಾದಲ್ಲಿ ಪಡೆಯುವದಕ್ಕೆ ಹೋಲಿಸಿದರೆ ಪರಿಸ್ಥಿತಿಯನ್ನು ಸರಿಯಾಗಿ ನಿಭಾಯಿಸುವುದು ಮತ್ತು ರಾಷ್ಟ್ರದ ವಿಮಾನ ನಿಲ್ದಾಣದಲ್ಲಿ ಸರಿಯಾದ ತಪಾಸಣೆಯ ಕೊರತೆ ಕುರಿತು ಆದೇಶವನ್ನು ಎತ್ತಿದ್ದಾರೆ ಇದರ ಪರಿಣಾಮವಾಗಿ ಸೆನೆಟ್ ತನ್ನ ಸೆನೆಟರ್ ಚುಕ್ವುಕಾ ಉಟಾಜಿ ಪೀಪಲ್ಸ್ ಡೆಮಾಕ್ರಟಿಕ್ ಪಾರ್ಟಿ ಪಿಡಿಪಿ ಎನುಗು ನಾರ್ತ್ ನೇತೃತ್ವದಲ್ಲಿ ಪ್ರಾಥಮಿಕ ಆರೋಗ್ಯ ಮತ್ತು ಸಾಂಕ್ರಾಮಿಕ ಕಾಯಿಲೆಗಳ ಸೆನೆಟ್ ಸಮಿತಿ ಮತ್ತು ಸೆನೆಟರ್ ಯಹಾಯಾ ಒಲೋರಿಗ್ಬೆ ಎಪಿಸಿ ಕ್ವಾರಾ ಸೆಂಟ್ರಲ್ ನೇತೃತ್ವದ ಆರೋಗ್ಯ ದ್ವಿತೀಯ ಮತ್ತು ತೃತೀಯ ಸಮಿತಿಯು ಆರೋಗ್ಯ ಸಚಿವ ಡಾ ಒಸಾಗಿ ಎಹಾನೈರ್ ಅವರನ್ನು ಮತ್ತೊಮ್ಮೆ ಅವರೊಂದಿಗೆ ತೊಡಗಿಸಿಕೊಳ್ಳಲು ಕರೆಸಿಕೊಂಡಿದೆ ಮಾಡಬೇಕಾದ ಸೆನೆಟ್ ಸ್ಟ್ಯಾಂಡಿಂಗ್ ಆದೇಶಗಳ ಆರ್ಡರ್ ರ ಅಡಿಯಲ್ಲಿ ಬಂದ ಬೊರೊಫೈಸ್ ವೈಯಕ್ತಿಕ ವಿವರಣೆಯೊಂದಿಗೆ ನಮ್ಡಿ ಅಜಿಕಿವೆ ವಿಮಾನ ನಿಲ್ದಾಣದ ಸಿಬ್ಬಂದಿ ಯಾವುದೇ ಸ್ಕ್ರೀನಿಂಗ್ ಇಲ್ಲದೆ ವರ್ತಿಸಿದ ರೀತಿ ಮತ್ತು ಆರೋಗ್ಯ ಸಚಿವ ಒಸಾಗಿ ಎಹಾನೈರ್ ಅವರು ಆರೋಗ್ಯದ ಬಗ್ಗೆ ಸೆನೆಟ್ ಸಮಿತಿಯ ಮುಂದೆ ಹಾಜರಾದಾಗ ಸೆನೆಟ್ ಸಮಿತಿಗೆ ತಮ್ಮ ಸಚಿವಾಲಯದ ಸಿದ್ಧತೆಯ ಮಟ್ಟವನ್ನು ವಿವರಿಸಿದಾಗ ಈ ವಿಷಯವನ್ನು ತಿಳಿಸಿದರು ದೇಶದಲ್ಲಿ ಕೊರೊನಾವೈರಸ್ ಏಕಾಏಕಿ ನಿರ್ವಹಿಸಲು ಕೆಲವೇ ತಿಂಗಳುಗಳ ಹಿಂದೆ ಪ್ರಮುಖ ಪ್ರವಾಹದ ಪರಿಣಾಮಗಳಿಂದ ತತ್ತರಿಸಿರುವ ವೆನಿಸ್ ಹೊಸ ತುರ್ತು ಪರಿಸ್ಥಿತಿಯನ್ನು ಎದುರಿಸುತ್ತಿದೆ ಇದು ಇಟಲಿಯಾದ್ಯಂತ ಹೊಸ ವೈರಸ್ ಹರಡುವ ಭೀತಿಯನ್ನು ಎದುರಿಸುತ್ತಿದೆ ಅದು ವಿಶ್ವದಾದ್ಯಂತ ಅಂತರರಾಷ್ಟ್ರೀಯ ಸಂದರ್ಶಕರನ್ನು ಹೆದರಿಸುತ್ತಿದೆ ಮತ್ತು ಆರ್ಥಿಕತೆಯನ್ನು ಕಠಿಣಗೊಳಿಸುತ್ತಿದೆ ಎಪಿ ಫೋಟೋ ರೆನಾಟಾ ಬ್ರಿಟೊ ವೆನಿಸ್ ಇಟಲಿ ಎಪಿ ಇನ್ನೂ ಹಿಮ್ಮೆಟ್ಟುತ್ತಿದೆ ಕೆಲವೇ ತಿಂಗಳುಗಳ ಹಿಂದೆ ಪ್ರಮುಖ ಪ್ರವಾಹದ ಪರಿಣಾಮಗಳು ವೆನಿಸ್ ಹೊಸ ತುರ್ತು ಪರಿಸ್ಥಿತಿಯನ್ನು ಎದುರಿಸುತ್ತಿದೆ ಇದು ಇಟಲಿಯಾದ್ಯಂತ ಹೊಸ ವೈರಸ್ ಹರಡುವ ಭೀತಿಯನ್ನು ಎದುರಿಸುತ್ತಿದೆ ಇದು ವಿಶ್ವಾದ್ಯಂತ ಅಂತರರಾಷ್ಟ್ರೀಯ ಪ್ರವಾಸಿಗರನ್ನು ಚಿಂತೆಗೀಡುಮಾಡುತ್ತಿದೆ ಮತ್ತು ಆರ್ಥಿಕತೆಯನ್ನು ತೀವ್ರವಾಗಿ ಹೊಡೆಯುತ್ತಿದೆ ಇಟಾಲಿಯನ್ ಸರ್ಕಾರವು ಎರಡು ಪ್ರಮುಖ ವೈರಸ್ ಏಕಾಏಕಿಗಳನ್ನು ಹೊಂದಲು ಅಸಾಧಾರಣ ಕ್ರಮಗಳನ್ನು ತೆಗೆದುಕೊಳ್ಳುತ್ತಿದೆ ವೆನೆಟೊ ಮತ್ತು ಲೊಂಬಾರ್ಡಿಯ ಎರಡು ಪ್ರದೇಶಗಳು ಒಟ್ಟಾಗಿ ಇಟಲಿಯ ಆರ್ಥಿಕ ಉತ್ಪಾದನೆಯ ಕ್ಕೂ ಹೆಚ್ಚು ಉತ್ಪಾದಿಸುವ ಎರಡು ಪ್ರದೇಶಗಳು ಆರ್ಥಿಕ ಅಭಿವೃದ್ಧಿಗಾಗಿ ವೆನಿಸ್ ನಗರ ಕೌನ್ಸಿಲರ್ ಸಿಮೋನೆ ವೆಂಚುರಿನಿ ಹೊಸ ವೈರಸ್ ಏಕಾಏಕಿ ಆರ್ಥಿಕ ಪರಿಣಾಮವು ಸಾರ್ವಜನಿಕ ಅಧಿಕಾರಿಗಳ ಮೇಲೆ ಎಷ್ಟು ಪರಿಣಾಮ ಬೀರುತ್ತದೆಯೋ ಅಷ್ಟೇ ರಾಷ್ಟ್ರೀಯ ಅಧಿಕಾರಿಗಳನ್ನು ಚಿಂತೆ ಮಾಡುತ್ತದೆ ಎಂದು ಹೇಳಿದರು ಆರ್ಥಿಕ ತಜ್ಞರು ಮತ್ತು ವ್ಯಾಪಾರ ಸಂಘಗಳು ವೈರಸ್ ಹರಡುವುದರಿಂದ ಇದರ ಮೇಲೆ ಹೆಚ್ಚಿನ ನಷ್ಟ ಉಂಟಾಗುತ್ತದೆ ಎಂದು ಹಿಸುತ್ತದೆ ಅಲಿಯ ಉತ್ಪಾದನೆಯು ಈ ವರ್ಷ ಮತ್ತು ರ ನಡುವೆ ಕುಸಿಯುತ್ತಿರುವುದು ಉದ್ಯೋಗಗಳ ನಷ್ಟಕ್ಕೆ ಕಾರಣವಾಗಿದೆ ಚಿತ್ರ ಹಕ್ಕುಸ್ವಾಮ್ಯ ಗೆಟ್ಟಿ ಇಮೇಜಸ್ ಕೊರೊನಾವೈರಸ್ ಏಕಾಏಕಿ ಮುಂದುವರಿಯುತ್ತಿರುವುದರಿಂದ ಕೆಲವು ಡೆಟೊಲ್ ಉತ್ಪನ್ನಗಳ ಬೇಡಿಕೆಯನ್ನು ಮೀರಿಸಿದೆ ಎಬಿ ಇನ್ ಬೆವ್ ನಲ್ಲಿನ ಷೇರುಗಳು ರಲ್ಲಿ ಮ್ಯೂಟ್ ಬೆಳವಣಿಗೆಯನ್ನು ಹಿಸಿದ ನಂತರ ವಿಶ್ವದ ಅತಿದೊಡ್ಡ ಬಿಯರ್ ತಯಾರಕ ಕುಸಿದಿದೆ ಏಕಾಏಕಿ ಆಸ್ಟನ್ ಮಾರ್ಟಿನ್ ಷೇರುಗಳು ದಾಖಲೆಯ ಮಟ್ಟಕ್ಕೆ ಕುಸಿದ ಕಾರಣ ತೆರಿಗೆಗೆ ಮುಂಚಿತವಾಗಿ ಮೀ ನಷ್ಟವನ್ನು ಪೋಸ್ಟ್ ಮಾಡಿದೆ ಮತ್ತು ವೈರಸ್ ನಿಂದಾಗಿ ಇದು ಬೇಡಿಕೆ ಕುಸಿತ ಕಂಡಿದೆ ಎಂದು ಎಚ್ಚರಿಸಿದ್ದಾರೆ ಚೀನಾದಲ್ಲಿ ನಮ್ಮ ಗ್ರಾಹಕರಿಗೆ ಆನ್ ಲೈನ್ ನಲ್ಲಿ ಹೆಚ್ಚಿನ ಚಟುವಟಿಕೆಯನ್ನು ನಾವು ನೋಡುತ್ತೇವೆ ಡೆಟೊಲ್ ಮಾಲೀಕ ರೆಕ್ಕಿಟ್ ಬೆನ್ ಕಿಸರ್ ಗುರುವಾರ ತನ್ನ ಫಲಿತಾಂಶದಲ್ಲಿ ತಿಳಿಸಿದ್ದಾರೆ ಏತನ್ಮಧ್ಯೆ ಎಬಿ ಇನ್ ಬೆವ್ ಮೊದಲ ತ್ರೈಮಾಸಿಕ ಲಾಭದಲ್ಲಿ ಕುಸಿತದ ಮುನ್ಸೂಚನೆ ನೀಡಿದೆ ಚೀನಾದ ಹೊಸ ವರ್ಷದ ಆಯ್ಸ್ಟನ್ ಮಾರ್ಟಿನ್ ಸಮಯದಲ್ಲಿ ಕರೋನವೈರಸ್ ಏಕಾಏಕಿ ಬಿಯರ್ ಮಾರಾಟವನ್ನು ನೋಯಿಸಿದೆ ಇದು ಚೀನಾವನ್ನು ತನ್ನ ವೇಗವಾಗಿ ಬೆಳೆಯುತ್ತಿರುವ ಮಾರುಕಟ್ಟೆಯೆಂದು ಪರಿಗಣಿಸುತ್ತದೆ ಮತ್ತು ಏಕಾಏಕಿ ತನ್ನ ಮಾರಾಟ ಮತ್ತು ಪೂರೈಕೆ ಸರಪಳಿಯ ಮೇಲೆ ಪರಿಣಾಮ ಬೀರುತ್ತಿದೆ ಎಂದು ಗುರುವಾರ ಹೇಳಿದೆ ಕೊರೊನಾವೈರಸ್ ಏಕಾಏಕಿ ಜಾಗತಿಕ ಬೆಳವಣಿಗೆಯನ್ನು ಬೇಸಿಸ್ ಪಾಯಿಂಟ್ ಅಥವಾ ಬಿಲಿಯನ್ ಕೈಗಾರಿಕಾ ಸಂಸ್ಥೆಯ ಮೇಲೆ ಣಾತ್ಮಕ ಪರಿಣಾಮ ಬೀರಬಹುದು ಎಂದು ಪಿಎಚ್ ಡಿಸಿಸಿಐ ಗುರುವಾರ ಪಿಎಚ್ ಡಿಸಿಸಿಐ ಅಧ್ಯಕ್ಷ ಡಿ ಕೆ ಅಗರ್ ವಾಲ್ ಹೇಳಿದ್ದಾರೆ ಜಾಗತಿಕ ಪೂರೈಕೆ ಸರಪಳಿಗಳಲ್ಲಿನ ಅಡೆತಡೆಗಳು ಚೀನಾದ ರಫ್ತಿಗೆ ಮಾತ್ರವಲ್ಲದೆ ಆಮದು ಮಾಡಿಕೊಳ್ಳುವ ದೇಶಗಳ ರಫ್ತುಗೂ ಸಹ ಪರಿಣಾಮ ಬೀರುತ್ತವೆ ಇತರ ಸ್ಥಳಗಳಿಗೆ ರಫ್ತು ಮಾಡುವಾಗ ಚೀನಾದಿಂದ ದೊಡ್ಡ ಪ್ರಮಾಣದ ಕಚ್ಚಾ ವಸ್ತುಗಳು ಮತ್ತು ಮಧ್ಯಂತರ ಸರಕುಗಳು ಈ ಸಮಯದಲ್ಲಿ ನಾವು ನಮ್ಮ ದೇಶೀಯ ಬಳಕೆ ಬೇಡಿಕೆ ಮತ್ತು ಜಾಗತಿಕ ವ್ಯಾಪಾರದ ಮೇಲೆ ಕೊರೊನಾವೈರಸ್ನ ಪ್ರಭಾವವನ್ನು ತಗ್ಗಿಸಲು ದೇಶೀಯ ಸಾಮರ್ಥ್ಯಗಳನ್ನು ಹೆಚ್ಚಿಸಬೇಕಾಗಿದೆ ಎಂದು ಅಗರ್ವಾಲ್ ಹೇಳಿದರು ಷಧೀಯ ಸೌರ ಮುಂತಾದ ಕ್ಷೇತ್ರಗಳು ಮತ್ತು ವೈರಸ್ ಹರಡಿದ ಕಾರಣ ಕಬ್ಬಿಣ ಮತ್ತು ಉಕ್ಕು ಚೀನಾದಿಂದ ಕಚ್ಚಾ ವಸ್ತುಗಳ ಆಮದಿನಲ್ಲಿ ಅಡೆತಡೆಗಳನ್ನು ಎದುರಿಸುತ್ತಿದೆ ಅಗರ್ ವಾಲ್ ಪ್ರಕಾರ ಜಾಗತಿಕ ವ್ಯಾಪಾರದಲ್ಲಿ ಚೀನಾ ಪ್ರಮುಖ ಪಾತ್ರ ವಹಿಸುತ್ತಿರುವುದರಿಂದ ವಿಶ್ವ ಸರಕು ರಫ್ತುಗಳಲ್ಲಿ ಪ್ರತಿಶತದಷ್ಟು ಕೊಡುಗೆಯನ್ನು ಯುಎಸ್ ಹಾಂಗ್ ಕಾಂಗ್ ಜಪಾನ್ ಗೆ ರಫ್ತು ಮಾಡುತ್ತದೆ ಕೊರಿಯಾ ವಿಯೆಟ್ನಾಂ ಜರ್ಮನಿ ಭಾರತ ನೆದರ್ಲ್ಯಾಂಡ್ಸ್ ಜಾಗತಿಕ ಟ್ರಾ ಮೇಲೆ ಪರಿಣಾಮ ಬೀರುತ್ತದೆ ವಿಶ್ವ ಆರ್ಥಿಕತೆಯ ಬೆಳವಣಿಗೆಯ ಭವಿಷ್ಯವನ್ನು ಹಾಳುಮಾಡುತ್ತದೆ ಕರೋನವೈರಸ್ನ ನಿರಂತರ ಹರಡುವಿಕೆಯು ಜಾಗತಿಕ ಬೆಳವಣಿಗೆಯನ್ನು ಶೇಕಡಾ ಅಂಕಗಳಿಂದ ಪರಿಣಾಮ ಬೀರಬಹುದು ಅದು ಬಿಲಿಯನ್ ಅಗರ್ವಾಲ್ ಆಗುತ್ತದೆ ಭಾರತದಲ್ಲಿ ವೇಗದ ಫ್ಯಾಷನ್ ಗೆ ಹೆಸರುವಾಸಿಯಾದ ಸ್ವೀಡಿಷ್ ಚಿಲ್ಲರೆ ವ್ಯಾಪಾರಿ ಹೆನ್ನೆಸ್ ಮೌರಿಟ್ಜ್ ಎಚ್ ಎಂ ತನ್ನ ಜಾಗತಿಕ ಪೀಠೋಪಕರಣ ವ್ಯವಹಾರವನ್ನು ಭಾರತಕ್ಕೆ ತರಲು ಯೋಜಿಸುತ್ತಿದೆ ಎಂದು ಜನ್ನೆ ಐನೊಲ ಸಿಇಒ ಮತ್ತು ಕಂಟ್ರಿ ಹೆಡ್ ಎಚ್ ಎಂ ಫೆಬ್ರವರಿ ರಂದು ಮಂಡಿಸಿದ ಕೇಂದ್ರ ಬಜೆಟ್ ನಲ್ಲಿ ಹಣಕಾಸು ಸಚಿವಾಲಯವು ಮರದ ಪೀಠೋಪಕರಣಗಳ ಮೇಲಿನ ಆಮದು ಸುಂಕವನ್ನು ಹೆಚ್ಚಿಸಲು ಪ್ರಸ್ತಾಪಿಸಿದೆ ಪ್ರಸ್ತುತ ಶೇಕಡಾದಿಂದ ಪ್ರತಿಶತದವರೆಗೆ ನಾವು ಇಲ್ಲಿಯವರೆಗೆ ಭಾರತಕ್ಕೆ ಮನೆ ಮತ್ತು ಸೌಂದರ್ಯ ವ್ಯವಹಾರಗಳನ್ನು ತರಲು ಯೋಜಿಸಿದ್ದೇವೆ ಐನೊಲಾ ಹೇಳಿದರು ಸೋರ್ಸಿಂಗ್ ಸರಕುಗಳ ಬಗ್ಗೆ ಕೇಳಿದಾಗ ಐನೊಲಾ ಹೇಳಿದರು ಮನೆ ಸೋರ್ಸಿಂಗ್ ಗೆ ಭಾರತವು ಒಂದು ದೊಡ್ಡ ಭಾಗವಾಗಿದೆ ಎಂದು ಜಾಗತಿಕವಾಗಿ ವಿಶೇಷವಾಗಿ ಕಠಿಣ ಸರಕುಗಳಾದ ಮರದ ಐನೊಲಾ ತಿಳಿಸಿದೆ ಕಂಪನಿಯು ಅಕ್ಟೋಬರ್ ರಲ್ಲಿ ಅಂಗಡಿ ಸ್ಥಾಪಿಸಿದಾಗಿನಿಂದ ಇದುವರೆಗೆ ಭಾರತದಲ್ಲಿ ತಿಂಗಳಿಗೆ ಒಂದು ಅಂಗಡಿಯನ್ನು ತೆರೆದಿದೆ ಕೌಲಾಲಂಪುರ್ ರಾಯಿಟರ್ಸ್ ಮಲೇಷ್ಯಾದ ಪ್ರಮುಖ ಬಜೆಟ್ ವಾಹಕ ಏರ್ ಏಷ್ಯಾ ಗ್ರೂಪ್ ಬಿಎಡಿ ಎಐಆರ್ಎ ಕೆಎಲ್ ಈ ವರ್ಷ ತನ್ನ ಆಂತರಿಕ ಪ್ರಕ್ಷೇಪಗಳನ್ನು ಸಾಧಿಸದಿರಬಹುದು ಏಕೆಂದರೆ ಉದ್ಯಮವು ಕರೋನವೈರಸ್ ಏಕಾಏಕಿ ತೀವ್ರ ಹೊಡೆತವನ್ನು ಅನುಭವಿಸುತ್ತದೆ ಎಂದು ಗುರುವಾರ ಹೇಳಿಕೆ ನೀಡಿದೆ ಎಂದು ರಾಯಿಟರ್ಸ್ ಲಿಮ್ ಹ್ಯೂಯಿ ಟೆಂಗ್ಏರ್ ಏಷ್ಯಾ ತಿಳಿಸಿದೆ ಈ ವರ್ಷ ವೈರಸ್ ವೇಗವಾಗಿ ಹರಡುವುದರಿಂದ ತೀವ್ರವಾಗಿ ಪರಿಣಾಮ ಬೀರಿದೆ ಮತ್ತು ಇದು ಸಾಮರ್ಥ್ಯ ಮತ್ತು ವೆಚ್ಚಗಳನ್ನು ನಿರ್ವಹಿಸುತ್ತಿದೆ ಎಂದು ಗುಂಪು ಹೇಳಿದೆ ಅಕ್ಟೋಬರ್ ಡಿಸೆಂಬರ್ ಅವಧಿಯ ಆರ್ಥಿಕ ಕಾರ್ಯಕ್ಷಮತೆಯನ್ನು ಸಹವರ್ತಿಗಳು ಮತ್ತು ಜಂಟಿ ಉದ್ಯಮಗಳ ಫಲಿತಾಂಶಗಳಿಂದ ಕೆಳಕ್ಕೆ ಎಳೆದಿದೆ ಇದರಲ್ಲಿ ಏರ್ ಏಷ್ಯಾ ಇಂಡಿಯಾ ನಷ್ಟಗಳನ್ನು ಗುರುತಿಸುವುದು ಸೇರಿದೆ ಒಂದು ವರ್ಷದ ಹಿಂದೆ ಮಿಲಿಯನ್ ರಿಂಗ್ ಗಿಟ್ ನಷ್ಟಕ್ಕೆ ಹೋಲಿಸಿದರೆ ಮಿಲಿಯನ್ ರಿಂಗ್ ಗಿಟ್ ನ ನಿವ್ವಳ ನಷ್ಟವನ್ನು ದಾಖಲಿಸಿದೆ ಎಂದು ಏರ್ ಏಶಿಯಾ ಎಕ್ಸ್ ಹೇಳಿದೆ ಜಪಾನ್ ಕೊರಿಯಾ ಮತ್ತು ಆಸ್ಟ್ರೇಲಿಯಾಕ್ಕೆ ಟಿಕೆಟ್ ಮಾರಾಟವು ಪರಿಣಾಮ ಬೀರಿದೆ ಆದರೆ ಚೀನಾದ ಮಾರುಕಟ್ಟೆಯಲ್ಲಿ ಹಿಟ್ ಆಗಿದೆ ವೈರಸ್ ಏಕಾಏಕಿ ಕಠಿಣ ಓರ್ಮರ್ ನ್ಯೂಯಾರ್ಕ್ ಮೇಯರ್ ಮೈಕ್ ಬ್ಲೂಮ್ ಬರ್ಗ್ ಮತ್ತು ಮಾಜಿ ಉಪಾಧ್ಯಕ್ಷ ಜೋ ಬಿಡೆನ್ ಜೋ ಬಿಡೆನ್ ಬಿಡೆನ್ ಎಸ್ ಸಿ ಹಿಲಿಕಾನ್ ವ್ಯಾಲಿ ಡೆಮ್ಸ್ ನಲ್ಲಿ ಮುನ್ನಡೆ ಸಾಧಿಸಲು ಮುಂದಾಗಿದ್ದಾರೆ ಕೆಲವು ಪರಿಧಮನಿಯ ಜಾಹೀರಾತುಗಳನ್ನು ನಿಷೇಧಿಸಲು ಫೇಸ್ ಬುಕ್ ತಿದ್ದುಪಡಿಗಳಿಗೆ ಪುಷ್ ಬ್ಯಾಕ್ ಮಾಡಿದ ನಂತರ ಕಣ್ಗಾವಲು ಮತವನ್ನು ರದ್ದುಗೊಳಿಸಿದ್ದಾರೆ ಶಾಸಕರು ಗ್ರಿಲ್ ಆನ್ ಲೈನ್ ಟಿಕೆಟಿಂಗ್ ಎಕ್ಸಿಕ್ಯೂಟ್ ಗಳು ಹ್ಯಾಕರ್ ಪ್ರವೇಶಿಸಿದ ಮುಖ ಗುರುತಿಸುವಿಕೆ ಕಂಪನಿಯ ಡೇಟಾಬೇಸ್ ದುರ್ಬಲ ಪ್ರಜಾಪ್ರಭುತ್ವವಾದಿಗಳು ಟಿಕೆಟ್ ಮೇಲೆ ಸ್ಯಾಂಡರ್ಸ್ ಗೆ ಬ್ರೇಸ್ ನೀಡುತ್ತಾರೆ ಡೆಮೋಕ್ರಾಟಿಕ್ ನಾಮನಿರ್ದೇಶನಕ್ಕೆ ನಾನು ಬೆಂಬಲಿಸುವ ಇಬ್ಬರು ಅಭ್ಯರ್ಥಿಗಳು ಮಂಗಳವಾರದ ಚರ್ಚೆಯನ್ನು ಬಳಸಬೇಕಾಗಿತ್ತು ಮತ್ತು ಅಧ್ಯಕ್ಷ ಟ್ರಂಪ್ ಡೊನಾಲ್ಡ್ ಜಾನ್ ಟ್ರಂಪ್ ಟ್ರಂಪ್ ರಚಿಸಿದ ಗಂಭೀರ ಅಪಾಯದ ಬಗ್ಗೆ ರಾಷ್ಟ್ರವನ್ನು ಎಚ್ಚರಿಸಲು ಇಂದು ಪ್ರತಿಯೊಂದು ಅವಕಾಶವನ್ನೂ ಬಳಸಿಕೊಳ್ಳಬೇಕು ಅಪಾಯಕಾರಿ ಬಕ್ ಓವರ್ ನೈಟ್ ಹೆಲ್ತ್ ಕೇರ್ ಅಮೆರಿಕನ್ ಹೆಲ್ತ್ ಕೇರ್ ಅಸೋಸಿಯೇಷನ್ ಪ್ರಸ್ತುತಪಡಿಸಿದ ಪೆರೋಸಿ ಪೆರೋಸಿ ಪ್ಯಾನಿಕ್ ರಚಿಸಲು ಪ್ರಯತ್ನಿಸುತ್ತಿದೆ ಎಂದು ಟ್ರಂಪ್ ಆರೋಪಿಸಿದ್ದಾರೆ ಸಿಡಿಸಿ ಅಪರಿಚಿತ ಮೂಲದ ಪ್ರಕರಣವನ್ನು ದೃ ಪಡಿಸುತ್ತದೆ ಶುಮರ್ ಬಿಲಿಯನ್ ತುರ್ತು ನಿಧಿಗಳನ್ನು ಬಯಸುತ್ತಾನೆ ಟ್ರಂಪ್ ಕರೋನವೈರಸ್ ಬ್ರೀಫಿಂಗ್ ಸಮಯದಲ್ಲಿ ಜರ್ಮಾಫೋಬ್ ಎಂದು ಖ್ಯಾತಿ ಪಡೆದಿದ್ದಾರೆ ಸಾಧ್ಯವಾದಷ್ಟು ಜಾಮೀನು ನೀಡಲು ಕರೋನವೈರಸ್ ಬಿಕ್ಕಟ್ಟಿಗೆ ಹೆಚ್ಚಿನ ಅಸಮರ್ಥ ಪ್ರತಿಕ್ರಿಯೆ ವೈರಸ್ ವಿಶ್ವದಾದ್ಯಂತದ ಮಾರಕ ಸಾಂಕ್ರಾಮಿಕ ರೋಗವಾಗಿ ಪರಿಣಮಿಸುತ್ತದೆ ಇದು ಅಸಂಖ್ಯಾತ ಸಾವುಗಳಿಗೆ ಕಾರಣವಾಗುತ್ತದೆ ಜಾಗತಿಕ ಆರ್ಥಿಕ ಹಿಂಜರಿತವು ಒಂದು ಪ್ರಮುಖ ಸ್ಟಾಕ್ ಮಾರುಕಟ್ಟೆ ಕುಸಿತ ಮತ್ತು ಅಮೆರಿಕಕ್ಕೆ ದುರಂತದ ಹಾನಿ ಮತ್ತು ರಾಜಕೀಯ ಭವಿಷ್ಯ ಮಾಜಿ ಅಧ್ಯಕ್ಷ ಜಾರ್ಜ್ ಡಬ್ಲ್ಯು ಬುಷ್ ಪ್ರಜಾಪ್ರಭುತ್ವವಾದಿಗಳ ನೇತೃತ್ವದಲ್ಲಿ ಕತ್ರಿನಾ ಚಂಡಮಾರುತವನ್ನು ರಾಜಕೀಯವಾಗಿ ನೆನಪಿಸುವ ಟ್ರಂಪ್ ಅವರು ಹಗರಣದ ಪ್ರಯತ್ನದ ನಂತರ ಸೈಬರ್ ಸುರಕ್ಷತೆಯ ಬಗ್ಗೆ ಅಭಿಯಾನಗಳನ್ನು ಎಚ್ಚರಿಸಿದ್ದಾರೆ ಅಮೆರಿಕನ್ ಹೆಲ್ತ್ ಕೇರ್ ಅಸೋಸಿಯೇಷನ್ ಪ್ರಸ್ತುತಪಡಿಸಿದ ಆರೋಗ್ಯ ರಕ್ಷಣೆ ಟ್ರಂಪ್ ಪೆರೋಸ್ ಅನ್ನು ಕರೋನವೈರಸ್ ಪ್ರತಿಕ್ರಿಯೆಯನ್ನು ಮುನ್ನಡೆಸಲು ಟ್ಯಾಪ್ ಮಾಡಿದ್ದಾರೆ ಪೆಲೋಸಿ ಭಯಭೀತರಾಗಲು ಪ್ರಯತ್ನಿಸುತ್ತಿದ್ದಾರೆ ಎಂದು ಟ್ರಂಪ್ ಆರೋಪಿಸಿದ್ದಾರೆ ಅಪರಿಚಿತ ಮೂಲದ ಷುಮರ್ ಬಿಲಿಯನ್ ತುರ್ತು ನಿಧಿಯನ್ನು ಬಯಸಿದ್ದಾರೆ ಎಂದು ಬಿಡೆನ್ ಎಸ್ ಸಿಯಲ್ಲಿ ಮುನ್ನಡೆ ಸಾಧಿಸಲು ತೋರುತ್ತಿದ್ದಾರೆ ಅವರು ಪ್ರಮುಖ ಚುನಾವಣಾ ರಾಜ್ಯಗಳನ್ನು ಗೆಲ್ಲಬಹುದು ಮತ್ತು ಸಮಾಜವಾದವನ್ನು ಗೆಲ್ಲುವ ಮೂಲಕ ಮತ್ತು ಪ್ರಶಂಸಿಸುವ ಮೂಲಕ ಕಾಂಗ್ರೆಸ್ಗೆ ಡೆಮೋಕ್ರಾಟ್ಗಳನ್ನು ಆಯ್ಕೆ ಮಾಡಬಹುದು ಎಂದು ಸೂಚಿಸಲು ಚರ್ಚೆಯನ್ನು ಬಳಸಿಕೊಳ್ಳುತ್ತಾರೆ ಫಿಡೆಲ್ ಕ್ಯಾಸ್ಟ್ರೋ ಮತ್ತು ಸೇನ್ ಎಲಿಜಬೆತ್ ವಾರೆನ್ ಎಲಿಜಾಬ್ ಅವರನ್ನು ನೋಡುತ್ತಿದ್ದಾರೆ ಎಥ್ ಆನ್ ವಾರೆನ್ಬಿಡೆನ್ ಎಸ್ಸಿ ಹಿಲಿಕಾನ್ ವ್ಯಾಲಿ ಡೆಮ್ಸ್ನಲ್ಲಿ ಕೆಲವು ಕರೋನವೈರಸ್ ಜಾಹೀರಾತುಗಳನ್ನು ನಿಷೇಧಿಸಲು ಫೇಸ್ಬುಕ್ಗೆ ತಿದ್ದುಪಡಿ ಮಾಡಿದ ನಂತರ ಕಣ್ಗಾವಲು ಮತವನ್ನು ರದ್ದುಗೊಳಿಸಿದ್ದಾರೆ ಶಾಸಕರು ಗ್ರಿಲ್ ಆನ್ ಲೈನ್ ಟಿಕೆಟಿಂಗ್ ಎಕ್ಸಿಕ್ಯೂಟ್ ಗಳು ಹ್ಯಾಕರ್ ಪ್ರವೇಶಿಸಿದ ಮುಖ ಗುರುತಿಸುವಿಕೆ ಕಂಪನಿಯ ಡೇಟಾಬೇಸ್ ರಾಷ್ಟ್ರೀಯ ಜನಪ್ರಿಯ ಮತ ಆಂದೋಲನಕ್ಕೆ ಪುಶ್ ಸಂಪ್ರದಾಯವಾದಿಗಳಿಂದ ಹೆಚ್ಚಿನದಾಗಿದೆ ಮಾಸ್ ಬಿಡೆನ್ ಬ್ಲೂಮ್ ಬರ್ಗ್ ಮತ್ತು ಇತರ ಡೆಮಾಕ್ರಟಿಕ್ ಅಭ್ಯರ್ಥಿಗಳು ಅಸಮರ್ಪಕ ನಿರೀಕ್ಷೆ ಸಿದ್ಧತೆ ಮತ್ತು ಮಾರಕ ಮತ್ತು ಆರ್ಥಿಕವಾಗಿ ದುರಂತದ ಕೊರೊನಾವೈರಸ್ ಸಾಂಕ್ರಾಮಿಕಕ್ಕೆ ಪ್ರತಿಕ್ರಿಯೆಯಿಂದ ಗಂಭೀರ ಅಪಾಯಗಳನ್ನು ಉಂಟುಮಾಡಲು ಈ ಎಲ್ಲಾ ಕ್ರಮಗಳು ಕಾರಣವಾಗುತ್ತವೆ ಎಂದು ಆರೋಪಿಸಬೇಕು ಪಿಎಚ್ ಡಿಸಿಸಿಐ ಅಧ್ಯಕ್ಷ ಡಿ ಕೆ ಅಗರ್ ವಾಲ್ ಮಾತನಾಡಿ ಜಾಗತಿಕ ಪೂರೈಕೆ ಸರಪಳಿಗಳಲ್ಲಿನ ಅಡೆತಡೆಗಳು ಚೀನಾದ ರಫ್ತಿಗೆ ಮಾತ್ರವಲ್ಲದೆ ಆಮದು ಮಾಡಿಕೊಳ್ಳುವ ದೇಶಗಳ ರಫ್ತುಗೂ ಸಹ ಪರಿಣಾಮ ಬೀರುತ್ತವೆ ಏಕೆಂದರೆ ಅವರು ಇತರ ಗಮ್ಯಸ್ಥಾನಗಳಿಗೆ ರಫ್ತು ಮಾಡುವಾಗ ಚೀನಾದಿಂದ ದೊಡ್ಡ ಪ್ರಮಾಣದ ಕಚ್ಚಾ ವಸ್ತುಗಳು ಮತ್ತು ಮಧ್ಯಂತರ ಸರಕುಗಳನ್ನು ಆಮದು ಮಾಡಿಕೊಳ್ಳುತ್ತಾರೆ ಜಾಗತಿಕ ವ್ಯಾಪಾರದ ಮೇಲೆ ಉಂಟಾಗುವ ಪರಿಣಾಮವನ್ನು ತಗ್ಗಿಸಲು ನಮ್ಮ ದೇಶೀಯ ಬಳಕೆ ಬೇಡಿಕೆ ಮತ್ತು ದೇಶೀಯ ಸಾಮರ್ಥ್ಯಗಳನ್ನು ಹೆಚ್ಚಿಸುವ ಅವಶ್ಯಕತೆಯಿದೆ ಎಂದು ಅಗರ್ ವಾಲ್ ಹೇಳಿದರು ವೈರಸ್ ಹರಡಿದ ಕಾರಣ ಚೀನಾದಿಂದ ಕಚ್ಚಾ ವಸ್ತುಗಳ ಆಮದಿನಲ್ಲಿ ಷಧೀಯ ಸೌರ ಮತ್ತು ಕಬ್ಬಿಣ ಮತ್ತು ಉಕ್ಕಿನಂತಹ ಕ್ಷೇತ್ರಗಳು ಅಡೆತಡೆಗಳನ್ನು ಎದುರಿಸುತ್ತಿವೆ ಅಗರ್ವಾಲ್ ಅವರ ಪ್ರಕಾರ ಯುಎಸ್ ವ್ಯಾಪಾರಕ್ಕೆ ರಫ್ತು ಮಾಡುವಲ್ಲಿ ಚೀನಾ ಜಾಗತಿಕ ವ್ಯಾಪಾರದಲ್ಲಿ ಶೇ ರಷ್ಟು ಕೊಡುಗೆ ನೀಡುತ್ತಿದೆ ಯುಎಸ್ ಹಾಂಗ್ ಕಾಂಗ್ ಜಪಾನ್ ಕೊರಿಯಾ ವಿಯೆಟ್ನಾಂ ಜರ್ಮನಿ ಭಾರತ ನೆದರ್ಲ್ಯಾಂಡ್ಸ್ ಜಾಗತಿಕ ವ್ಯಾಪಾರದ ಮೇಲಿನ ಪರಿಣಾಮವು ವಿಶ್ವ ಆರ್ಥಿಕತೆಯ ಬೆಳವಣಿಗೆಯ ಭವಿಷ್ಯವನ್ನು ಹಾಳು ಮಾಡುತ್ತದೆ ಏಕಾಏಕಿ ಜಾಗತಿಕ ಆರ್ಥಿಕತೆ ಮತ್ತು ಸಾಮರ್ಥ್ಯವನ್ನು ಹೊಂದಿದೆ ಎಂದು ಅವರು ಹೇಳಿದರು ಮಾರುಕಟ್ಟೆ ಸ್ಥಳಾಂತರಿಸುವುದು ಆದರೆ ರೋಗದ ಆರ್ಥಿಕ ಪರಿಣಾಮವು ಅದರ ಅವಧಿ ಮತ್ತು ತೀವ್ರತೆಯನ್ನು ಅವಲಂಬಿಸಿರುತ್ತದೆ ನಿರಂತರ ಹರಡುವಿಕೆಯು ಶೇಕಡಾವಾರು ಬಿಂದುಗಳಿಂದ ಪ್ರಭಾವ ಬೀರಬಹುದು ಅದು ಬಿಲಿಯನ್ ಅಗರ್ ವಾಲ್ ಆಗುತ್ತದೆ ಸೆನೆಟ್ ಸೆನೆಟರ್ ಅಧ್ಯಕ್ಷ ಅಹ್ಮದ್ ಲಾವನ್ ಅವರ ನಿನ್ನೆ ಅಬುಜಾದಲ್ಲಿ ಮಾತನಾಡಿದ ಅವರು ಫೆಡರಲ್ ಕೆಲವು ಪೂರ್ವಭಾವಿ ಕ್ರಮಗಳನ್ನು ಕೈಗೊಳ್ಳುತ್ತಿರುವಾಗ ಅದು ಸಾಕಷ್ಟು ಮಾಡುತ್ತಿಲ್ಲ ಮತ್ತು ನೈಜೀರಿಯಾ ಸೋಂಕಿನಿಂದ ತಪ್ಪಿಸಿಕೊಳ್ಳಬೇಕಾದರೆ ಇದನ್ನು ಸುಧಾರಿಸಬೇಕು ಎಂದು ಉಪ ಸೆನೆಟ್ ನಾಯಕ ಸೆನೆಟರ್ ರಾಬರ್ಟ್ ಅಜಯ್ ಬೊರೊಫೈಸ್ ಆಲ್ ಪ್ರೋಗ್ರೆಸ್ಸಿವ್ ಕಾಂಗ್ರೆಸ್ ಎಪಿಸಿ ಒಂಡೋ ನಾರ್ತ್ ಅವರು ದಕ್ಷಿಣ ಆಫ್ರಿಕಾದಲ್ಲಿ ಪಡೆಯುವದಕ್ಕೆ ಹೋಲಿಸಿದರೆ ಪರಿಸ್ಥಿತಿಯನ್ನು ಸರಿಯಾಗಿ ನಿಭಾಯಿಸುವುದು ಮತ್ತು ರಾಷ್ಟ್ರದ ವಿಮಾನ ನಿಲ್ದಾಣದಲ್ಲಿ ಸರಿಯಾದ ಸ್ಕ್ರೀನಿಂಗ್ ಕೊರತೆಯ ಬಗ್ಗೆ ಆದೇಶವನ್ನು ಎತ್ತಿದ್ದಾರೆ ಇದರ ಪರಿಣಾಮವಾಗಿ ಸೆನೆಟ್ ತನ್ನ ಸೆನೆಟರ್ ಚುಕ್ವುಕಾ ಉಟಾಜಿ ಪೀಪಲ್ಸ್ ಡೆಮಾಕ್ರಟಿಕ್ ಪಕ್ಷವನ್ನು ಆದೇಶಿಸಿದೆ ಪಿಡಿಪಿ ಎನುಗು ನಾರ್ತ್ ನೇತೃತ್ವದ ಪ್ರಾಥಮಿಕ ಆರೋಗ್ಯ ಮತ್ತು ಸಾಂಕ್ರಾಮಿಕ ಕಾಯಿಲೆಗಳ ಸೆನೆಟ್ ಸಮಿತಿ ಮತ್ತು ಸೆನೆಟರ್ ಯಹಾಯಾ ಒಲೋರಿಗ್ಬೆ ಎಪಿಸಿ ಕ್ವಾರಾ ಸೆಂಟ್ರಲ್ ನೇತೃತ್ವದ ಆರೋಗ್ಯ ದ್ವಿತೀಯ ಮತ್ತು ತೃತೀಯ ಸಮಿತಿಯು ಆರೋಗ್ಯ ಸಚಿವ ಡಾ ಒಸಾಗಿ ಎಹನೈರ್ ಅವರನ್ನು ಮತ್ತೊಮ್ಮೆ ಅವರೊಂದಿಗೆ ತೊಡಗಿಸಿಕೊಳ್ಳಲು ಕರೆಸಿಕೊಳ್ಳುವಂತೆ ಸೆನೆಟ್ ಅಧ್ಯಕ್ಷರು ಹೇಳಿದರು ಫೆಡರಲ್ ಆರೋಗ್ಯ ಸಚಿವಾಲಯ ಮತ್ತು ಸಂಬಂಧಿತ ಏಜೆನ್ಸಿಗಳು ತಮ್ಮ ಅತ್ಯುತ್ತಮ ಬುದ್ಧಿ ಮಾಡುತ್ತಿರಬಹುದು ಈ ವಿವರಣೆಯು ಫೆಡರಲ್ ಆರೋಗ್ಯ ಸಚಿವಾಲಯದೊಂದಿಗೆ ಮತ್ತೊಮ್ಮೆ ತೊಡಗಿಸಿಕೊಳ್ಳಲು ಪ್ರಾಥಮಿಕ ಆರೋಗ್ಯ ಮತ್ತು ಆರೋಗ್ಯದ ಸಮಿತಿಗಳನ್ನು ಒತ್ತಾಯಿಸಲು ನಾನು ಬಯಸುತ್ತೇನೆ ನಮ್ಮ ವಿಮಾನ ನಿಲ್ದಾಣಗಳು ಅಥವಾ ಬಂದರಿನಲ್ಲಿ ಮಾಡಿದ ಎಲ್ಲ ಪ್ರಯತ್ನಗಳನ್ನು ನೋಡಲು ನಾವು ಬಯಸುತ್ತೇವೆ ಮಾರ್ಚ್ ರಂದು ನಡೆಯಲಿರುವ ಚೀನಾ ಮತ್ತು ದಕ್ಷಿಣ ಕೊರಿಯಾ ನಡುವಿನ ಮಹಿಳಾ ಒಲಿಂಪಿಕ್ ಅರ್ಹತಾ ಪ್ಲೇಆಫ್ ಗೆ ಪರ್ಯಾಯ ದಿನಾಂಕಗಳನ್ನು ನೋಡುತ್ತಿರುವುದಾಗಿ ಎಎಫ್ ಸಿ ತಿಳಿಸಿದೆ ತೈವಾನ್ ನಲ್ಲಿ ಒಂದು ಮತ್ತು ಚೀನಾದಲ್ಲಿ ಮಾರ್ಚ್ ಮತ್ತು ಏಪ್ರಿಲ್ ನಲ್ಲಿ ನಡೆಯಲಿರುವ ಎರಡು ಪಂದ್ಯಗಳನ್ನು ಸಹ ಮುಂದೂಡಲಾಗಿದೆ ಮತ್ತು ಟೆನಿಸ್ ಅಂತರರಾಷ್ಟ್ರೀಯ ಟೆನಿಸ್ ಫೆಡರೇಶನ್ ಫೆಡ್ ಕಪ್ ಏಷ್ಯಾ ಓಷಿಯಾನಿಯಾ ಗ್ರೂಪ್ ಈವೆಂಟ್ ಅನ್ನು ಚೀನಾ ತೈವಾನ್ ಇಂಡೋನೇಷ್ಯಾ ದಕ್ಷಿಣ ಕೊರಿಯಾ ಮತ್ತು ಉಜ್ಬೇಕಿಸ್ತಾನ್ ಅನ್ನು ಚೀನಾದ ನಗರವಾದ ಡಾಂಗ್ಗುವಾನ್ ನಿಂದ ನೂರ್ ಸುಲ್ತಾನ್ಗೆ ಕ ಾಕಿಸ್ತಾನದಲ್ಲಿ ಹಿಂದೆ ಅಸ್ತಾನಾಗೆ ಸ್ಥಳಾಂತರಿಸಿತು ಮಹಿಳೆಯರ ಕ್ಸಿ ಓಪನ್ ಟೆನಿಸ್ ಪಂದ್ಯಾವಳಿ ಏಪ್ರಿಲ್ ರಂದು ನಡೆಯಲಿದೆ ರದ್ದಾಗಿದೆ ಮತ್ತು ಡಬ್ಲ್ಯುಟಿಎ ತುವಿನ ದ್ವಿತೀಯಾರ್ಧದಲ್ಲಿ ಚೀನಾದಲ್ಲಿ ನಡೆಯಲಿರುವ ಹಲವಾರು ಘಟನೆಗಳೊಂದಿಗೆ ಪರಿಸ್ಥಿತಿಯನ್ನು ಮೇಲ್ವಿಚಾರಣೆ ಮಾಡುತ್ತಿದೆ ಎಂದು ಹೇಳಿದರು ಬ್ಯಾಡ್ಮಿಂಟನ್ ಜರ್ಮನ್ ಓಪನ್ ಮಾರ್ಚ್ ರಿಂದ ಮುಯೆಲ್ಹೈಮ್ ಆನ್ ಡೆರ್ ರುಹ್ರ್ನಲ್ಲಿ ನಡೆಯಬೇಕಿತ್ತು ಮತ್ತು ಇದು ಒಲಿಂಪಿಕ್ ಅರ್ಹತಾ ಪಂದ್ಯವನ್ನು ರದ್ದುಪಡಿಸಲಾಗಿದೆ ಎಂದು ಬ್ಯಾಡ್ಮಿಂಟನ್ ವಿಶ್ವ ಫೆಡರೇಶನ್ ತಿಳಿಸಿದೆ ನಾವು ಮುಂದಿನ ವರ್ಷ ಬಜೆಟ್ ಅನ್ನು ಹೆಚ್ಚುವರಿ ಮೊತ್ತಕ್ಕೆ ತಂದಿದ್ದೇವೆ ಕಳೆದ ವರ್ಷದ ಚುನಾವಣೆಯ ಮುನ್ನಾದಿನದಂದು ಸ್ಕಾಟ್ ಮಾರಿಸನ್ ಘೋಷಿಸಿದ್ದು ಇತ್ತೀಚಿನ ಸ್ಮರಣೆಯಲ್ಲಿ ಹೆಚ್ಚು ಅಸಂಬದ್ಧ ರಾಜಕೀಯ ಹೇಳಿಕೆಗಳಲ್ಲಿ ಯಾವುದು ಎಂದು ಅವರು ಹೆಚ್ಚು ನಿಖರವಾಗಿ ಹೇಳಬಹುದಾಗಿತ್ತು ನಾವು ಬಜೆಟ್ ಅನ್ನು ಅಂತಹ ಸ್ಥಾನಕ್ಕೆ ಹಿಂದಿರುಗಿಸಿದ್ದೇವೆ ಮುಂದಿನ ವರ್ಷ ಅದು ಹೆಚ್ಚುವರಿ ಮೊತ್ತದಲ್ಲಿದೆ ಎಂದು ನಾವು ಈಗ ನಿರೀಕ್ಷಿಸುತ್ತೇವೆ ಆದರೆ ಪ್ರಚಾರದ ರ್ಯಾಲಿಯಲ್ಲಿ ಎಸಿ ಡಿಸಿ ಬ್ಯಾಕ್ ಇನ್ ಬ್ಲ್ಯಾಕ್ ಗೆ ಹೊರಹೋಗಲು ಇದು ನಿಜವಾಗಿಯೂ ನಿಮಗೆ ಅನುಮತಿಸುವುದಿಲ್ಲ ಜನರು ಎಷ್ಟು ಮುಖ್ಯವಾದ ಬಜೆಟ್ ಹೆಚ್ಚುವರಿಗಳಾಗಿದ್ದರೂ ಅದನ್ನು ಮುಂದುವರಿಸಲು ಯಾವುದೇ ಅರ್ಥವಿಲ್ಲ ಬಜೆಟ್ ನೋವುಗಿಂತ ಕೆಟ್ಟದಾದ ನೈಜ ಪ್ರಪಂಚದ ಪರಿಣಾಮಗಳನ್ನು ಮುಂದಿಡುವ ಮೂಲಕ ನಿಮ್ಮ ಸಮುದಾಯವು ನಾಶವಾದಾಗ ಅಥವಾ ನೀವು ಭೀಕರವಾಗಿ ಅಸ್ವಸ್ಥರಾಗಿರುವಿರಿ ಎಂದು ನೀವು ಭಾವಿಸಿದಾಗ ಬಜೆಟ್ ಹೆಚ್ಚುವರಿ ಏನಿದೆ ಮೋರಿಸನ್ ತನ್ನ ಹೆಚ್ಚುವರಿ ಕೊರತೆಯಿಂದಾಗಿ ಸಹಿಸಿಕೊಂಡಿದ್ದ ಯಾವುದೇ ರಾಜಕೀಯ ನೋವನ್ನು ಸರಾಗಗೊಳಿಸುವ ಎಲ್ಲ ಕಾದಂಬರಿ ಕೊರೊವೈರಸ್ ಅನ್ನು ಈಗ ಎಂದು ಹೆಸರಿಸಲಾಗಿದೆ ಇದು ಹೊಸ ವೈರಸ್ ಎಂದು ಡಾ ಮಾರ್ಕ್ ಫಾಕ್ಸ್ ಹೇಳಿದ್ದಾರೆ ಆದ್ದರಿಂದ ಪ್ರಸರಣವನ್ನು ಅರ್ಥಮಾಡಿಕೊಳ್ಳಲು ಸ್ವಲ್ಪ ಸಮಯ ತೆಗೆದುಕೊಳ್ಳುತ್ತದೆ ಫಾಕ್ಸ್ ಸೇಂಟ್ ಜೋಸೆಫ್ ಕೌಂಟಿ ಕೊರೊನಾವೈರಸ್ ಗಳ ಉಪ ಆರೋಗ್ಯ ಅಧಿಕಾರಿ ವಾಸ್ತವವಾಗಿ ವೈರಸ್ ಗಳ ಒಂದು ದೊಡ್ಡ ಕುಟುಂಬವಾಗಿದ್ದು ಅವು ಸಾಮಾನ್ಯವಾಗಿ ಹುಟ್ಟಿಕೊಂಡಿವೆ ಪ್ರಾಣಿಗಳು ಮತ್ತು ನಂತರ ಕೆಲವು ಸಂದರ್ಭಗಳಲ್ಲಿ ವಿಕಸನಗೊಂಡಿವೆ ಮತ್ತು ನಿಜವಾಗಿ ಮಾನವರಲ್ಲಿ ಹರಡುತ್ತವೆ ಎಂದು ಫಾಕ್ಸ್ ವಿವರಿಸಿದರು ಗಾಗಿ ನಮ್ಮಲ್ಲಿ ಇನ್ನೂ ಯಾವುದೂ ಇಲ್ಲ ಏಕೆಂದರೆ ಇದು ಹೊಚ್ಚ ಹೊಸ ವೈರಸ್ ಫಾಕ್ಸ್ ಹೇಳಿದರು ಈ ನಿಗೂ ಹೊಸ ವೈರಸ್ ಬಗ್ಗೆ ಪ್ರಪಂಚವು ಇನ್ನಷ್ಟು ತಿಳಿದುಕೊಳ್ಳುವುದನ್ನು ಮುಂದುವರಿಸಿದಂತೆ ಸೇಂಟ್ ಜೋಸೆಫ್ ಮನೆಯಲ್ಲಿ ಕಾಣಿಸಿಕೊಂಡಾಗ ಕೌಂಟಿ ಮುಂದೆ ಯೋಜಿಸುತ್ತಿದೆ ನಿಮ್ಮ ದಿನವನ್ನು ಪ್ರಾರಂಭಿಸಲು ನೀವು ತಿಳಿದುಕೊಳ್ಳಬೇಕಾದ ಕೆಲವು ಪ್ರಮುಖ ಕಥೆಗಳು ಇಲ್ಲಿವೆ ಮಿಲ್ವಾಕಿಯ ಮೊಲ್ಸನ್ ಕೂರ್ಸ್ ಬ್ರೂಯಿಂಗ್ ಕೋ ಕ್ಯಾಂಪಸ್ ನಲ್ಲಿ ಬುಧವಾರ ಸಕ್ರಿಯವಾಗಿ ನಡೆದ ಶೂಟಿಂಗ್ ವರದಿಗಳಿಗೆ ಪೊಲೀಸರು ಪ್ರತಿಕ್ರಿಯಿಸುತ್ತಾರೆ ಫೆಬ್ರವರಿ ಇಟಲಿಯಲ್ಲಿ ಕರೋನವೈರಸ್ ಪ್ರಕರಣಗಳ ಸಂಖ್ಯೆ ಇತ್ತೀಚಿನ ದಿನಗಳಲ್ಲಿ ಹೆಚ್ಚಾಗಿದೆ ಇಲಿನಾಯ್ಸ್ ಆರೋಗ್ಯ ಅಮೆರಿಕದ ಸಮುದಾಯಗಳಿಗೆ ರೋಗ ಹರಡುವುದು ಅನಿವಾರ್ಯ ಆದರೆ ರಾಷ್ಟ್ರೀಯ ತಜ್ಞರ ಎಚ್ಚರಿಕೆಯ ನಂತರ ಕರೋನವೈರಸ್ ನ ಯಾವುದೇ ಬೆದರಿಕೆಯನ್ನು ಕಾಪಾಡಲು ಲಭ್ಯವಿರುವ ಎಲ್ಲಾ ತಡೆಗಟ್ಟುವ ಕ್ರಮಗಳನ್ನು ಅವರು ತೆಗೆದುಕೊಳ್ಳುತ್ತಿದ್ದಾರೆ ಎಂದು ಅಧಿಕಾರಿಗಳು ಬುಧವಾರ ಹೇಳಿದ್ದಾರೆ ಆದರೆ ಚಿಕಾಗೊ ಮೇಯರ್ ಲೋರಿ ಲೈಟ್ ಫೂಟ್ ತಮ್ಮ ನಗರ ಅಸಾಧಾರಣವಾದ ಕ್ರಮಗಳನ್ನು ತೆಗೆದುಕೊಳ್ಳಲು ಸಿದ್ಧವಾಗಿದೆ ಎಂದು ಹೇಳಿದರು ಅಗತ್ಯವಿದ್ದರೆ ಕ್ರಮಗಳು ಬುಧವಾರ ರೋಗ ನಿಯಂತ್ರಣ ಮತ್ತು ತಡೆಗಟ್ಟುವಿಕೆ ಕೇಂದ್ರಗಳ ಎಚ್ಚರಿಕೆ ಜನರು ಭಯಭೀತರಾಗಲು ಕಾರಣವಾಗಬಾರದು ಎಂದು ಅಧ್ಯಕ್ಷ ಟ್ರಂಪ್ ಹೇಳಿದ್ದಾರೆ ಕರೋನವೈರಸ್ ಹೆಸರುಗಳಿಗೆ ಯುಎಸ್ ತುಂಬಾ ಸಿದ್ಧವಾಗಿದೆ ಎಂದು ಬೆದರಿಕೆಗಳಿಗೆ ಸರ್ಕಾರದ ಪ್ರತಿಕ್ರಿಯೆಯನ್ನು ಮುನ್ನಡೆಸಲು ಉಪಾಧ್ಯಕ್ಷ ಪೆನ್ಸ್ ಸಬರ್ಬನ್ ಶಾಲಾ ಅಧಿಕಾರಿಗಳು ನಿರೀಕ್ಷಿತ ಆಗಮನಕ್ಕೆ ಸಿದ್ಧರಾಗಿದ್ದಾರೆ ಕರೋನವೈರಸ್ ಇದು ಬಹುಶಃ ಮಾಜಿ ರಾಜ್ಯ ಸೇನ್ ಮಾರ್ ಚಂಡಮಾರುತದ ಮೊದಲು ಶಾಂತವಾಗಿದೆ ಜನವರಿ ರಂದು ಲಂಚ ಮತ್ತು ತೆರಿಗೆ ಶುಲ್ಕಗಳಿಗೆ ತಪ್ಪೊಪ್ಪಿಕೊಂಡ ನಂತರ ಟಿನ್ ಸ್ಯಾಂಡೋವಲ್ ಡಿರ್ಕ್ಸನ್ ಯು ಎಸ್ ಕೋರ್ಟ್ ಹೌಸ್ ನಿಂದ ಹೊರಹೊಮ್ಮಿದ್ದಾನೆ ರೆಡ್ ಲೈಟ್ ಕಂಪನಿ ಸೇಫ್ ಸ್ಪೀಡ್ ಇದು ಸ್ಯಾಂಡೋವಲ್ ನ ಫೆಡರಲ್ ಮನವಿ ಒಪ್ಪಂದದಲ್ಲಿ ಹೆಸರಿಸಲ್ಪಟ್ಟ ಸಂಸ್ಥೆಯಾಗಿದೆ ಎಂದು ಒಪ್ಪಿಕೊಂಡಿದೆ ಇಲಿನಾಯ್ಸ್ ಹೌಸ್ ಬುಧವಾರ ವಿವಾದಾತ್ಮಕ ಕೆಂಪು ದೀಪವನ್ನು ನಿಷೇಧಿಸುವ ಶಾಸನವನ್ನು ಜಾರಿಗೆ ತಂದಿದೆ ಅನೇಕ ಇಲಿನಾಯ್ಸ್ ಸಮುದಾಯಗಳಲ್ಲಿನ ಕ್ಯಾಮೆರಾಗಳು ರಲ್ಲಿ ನಿರ್ಬಂಧಿಸಿದಂತೆಯೇ ಹಿಂದಿನ ಸೆನ್ ಮಾರ್ಟಿನ್ ಸ್ಯಾಂಡೋವಲ್ ಅವರು ರಾಜೀನಾಮೆ ನೀಡಿದ್ದಾರೆ ಮತ್ತು ರೆಡ್ ಲೈಟ್ ಕ್ಯಾಮೆರಾ ಕಂಪನಿಯಿಂದ ಲಂಚ ಪಡೆದಿದ್ದಕ್ಕಾಗಿ ತಪ್ಪೊಪ್ಪಿಕೊಂಡಿದ್ದಾರೆ ಲೇನ್ ಟೆಕ್ ಕಾಲೇಜ್ ಪ್ರೆಪ್ ಹೈಸ್ಕೂಲ್ ನಲ್ಲಿ ಚಿತ್ರಿಸಿದ ಡಜನ್ಗಟ್ಟಲೆ ಭಿತ್ತಿಚಿತ್ರಗಳ ಸಂಗ್ರಹವಿದೆ ನೇ ಶತಮಾನದ ಆರಂಭ ಮತ್ತು ಮಧ್ಯಭಾಗದಲ್ಲಿ ಚಿಕಾಗೊ ಶಿಕ್ಷಣ ಮಂಡಳಿಯು ಅದರ ಕಟ್ಟಡಗಳನ್ನು ಅಲಂಕರಿಸುವ ಕಲಾಕೃತಿಗಳ ಬಗ್ಗೆ ಹೊಸ ನೀತಿಯನ್ನು ಪ್ರಸ್ತಾಪಿಸಿದಾಗ ಜನರು ಒಂದು ನಿರ್ದಿಷ್ಟವಾದ ತುಂಡುಗಳನ್ನು ತೂಗುತ್ತಾರೆ ಅವರು ಸ್ಥಳೀಯ ಜನರು ಮತ್ತು ಬಿಳಿ ವಸಾಹತುಗಾರರನ್ನು ಚಿತ್ರಿಸುವ ಜಿಲ್ಲಾ ಕಚೇರಿ ಕಟ್ಟಡದಲ್ಲಿ ಭಿತ್ತಿಚಿತ್ರಗಳನ್ನು ಹೋಗಬೇಕೆಂದು ಬಯಸುತ್ತಾರೆ ಚಾರ್ಲ್ಸ್ ಎಂ ನೆಟ್ಟರ್ ಸ್ಟ್ರಾಮ್ ಹೌಸ್ ಆಲ್ಡೈನ್ ಅವೆನ್ಯೂ ಅನ್ನು ಗ್ರೇಟ್ ಚಿಕಾಗೊ ಬೆಂಕಿಯ ನಂತರ ರಲ್ಲಿ ನಿರ್ಮಿಸಲಾಯಿತು ಮತ್ತು ಇದು ವಿಶಿಷ್ಟವಾದ ವಾಸ್ತುಶಿಲ್ಪದ ವಿವರಗಳು ಪ್ರತಿ ಕಟ್ಟಡವು ಒಂದು ಕಥೆಯನ್ನು ಹೊಂದಿದೆ ಮತ್ತು ಮ್ಯಾಟ್ ವಿಕ್ಲಂಡ್ ಯಾವಾಗಲೂ ಅವುಗಳನ್ನು ತಿಳಿದುಕೊಳ್ಳಲು ಬಯಸುತ್ತಾರೆ ವಾಸ್ತುಶಿಲ್ಪ ಇತಿಹಾಸದಲ್ಲಿ ವೃತ್ತಿಜೀವನ ಮತ್ತು ಗಮನಾರ್ಹವಾದ ಚಿಕಾಗೊ ಕಟ್ಟಡಗಳನ್ನು ಸಂರಕ್ಷಿಸುವ ಉತ್ಸಾಹದಿಂದ ವಿಕ್ಲಂಡ್ ನಗರದ ಮನೆಗಳ ಬಗ್ಗೆ ವಿವರಗಳನ್ನು ಹೇಗೆ ಅಗೆಯುವುದು ಎಂದು ತಿಳಿದಿದ್ದಾರೆ ಮುಂಭಾಗದಲ್ಲಿ ಸಂಕೀರ್ಣವಾದ ವಿವರ ಬೆಸ್ಟ್ ಬೈ ಎನ್ವೈಎಸ್ಇ ಬಿಬಿವೈ ವರದಿ ಮಾಡಿದೆ ದೇಶೀಯ ಹೋಲಿಕೆ ಮಾಡಬಹುದಾದ ಅಂಗಡಿಗಳ ಮಾರಾಟವು ಕ್ಯೂ ಮತ್ತು ಒಮ್ಮತದಲ್ಲಿ ಏರಿಕೆಯಾಗಿದೆ ದೇಶೀಯ ಹೋಲಿಕೆ ಮಾಡಬಹುದಾದ ಆನ್ ಲೈನ್ ಮಾರಾಟವು ತ್ರೈಮಾಸಿಕದಲ್ಲಿ ವರ್ಷಗಳು ಏರಿಕೆಯಾಗಿದೆ ತ್ರೈಮಾಸಿಕದಲ್ಲಿ ಒಟ್ಟು ಉದ್ಯಮ ಹೋಲಿಕೆ ಮಾಡಬಹುದಾದ ಮಾರಾಟವು ಏರಿಕೆಯಾಗಿದೆ ಬೆಸ್ಟ್ ಬೈ ಬಿ ಯಿಂದ ಬಿ ವರ್ಸಸ್ ಬಿ ಒಮ್ಮತ ಮತ್ತು ರಿಂದ ವರ್ಸಸ್ ರ ಒಮ್ಮತದ ಕ್ಯೂ ಎಂಟರ್ ಪ್ರೈಸ್ ಆದಾಯವನ್ನು ನೋಡುತ್ತದೆ ವಿಶ್ವ ಆರೋಗ್ಯ ಸಂಸ್ಥೆಯ ಮಹಾನಿರ್ದೇಶಕರ ಮಹಾನಿರ್ದೇಶಕರ ವಿಶೇಷ ಸಲಹೆಗಾರ ಡಾ ಎ ೆಕಿಯೆಲ್ ಇಮ್ಯಾನ್ಯುಯೆಲ್ ಅವರು ಬುಧವಾರ ಅಧ್ಯಕ್ಷ ಟ್ರಂಪ್ ಡೊನಾಲ್ಡ್ ಜಾನ್ ಟ್ರಂಪ್ ಟ್ರಂಪ್ ಪೆನ್ಸ್ ಅಪಾಯಕಾರಿ ಬಕ್ ಅನ್ನು ಹಾದುಹೋಗಿದ್ದಾರೆಂದು ಕಂಡುಹಿಡಿದಿದ್ದಾರೆ ಎಂದು ಅಮೆರಿಕನ್ ಹೆಲ್ತ್ ಕೇರ್ ಅಸೋಸಿಯೇಷನ್ ಪ್ರಸ್ತುತಪಡಿಸಿದ ರಾತ್ರಿಯ ಆರೋಗ್ಯ ರಕ್ಷಣೆ ಟ್ರಂಪ್ ಪೆರೋಸ್ ಅನ್ನು ಕರೋನವೈರಸ್ ಪ್ರತಿಕ್ರಿಯೆಯನ್ನು ಮುನ್ನಡೆಸಲು ಟ್ರಂಪ್ ಪೆಲೋಸಿ ಆರೋಪಿಸಿದ್ದಾರೆ ಪ್ಯಾನಿಕ್ ಸಿಡಿಸಿ ಸೃಷ್ಟಿಸಲು ಪ್ರಯತ್ನಿಸುವುದರಿಂದ ಅಪರಿಚಿತ ಮೂಲದ ಷುಮರ್ ಬಿಲಿಯನ್ ತುರ್ತು ನಿಧಿಯನ್ನು ಬಯಸುತ್ತಾನೆ ಎಂದು ದೃ ಪಡಿಸುತ್ತಾನೆ ಕರೋನವೈರಸ್ ಬ್ರೀಫಿಂಗ್ ಸಮಯದಲ್ಲಿ ಟ್ರಂಪ್ ಜರ್ಮಾಫೋಬ್ ಎಂದು ಖ್ಯಾತಿ ಪಡೆದಿದ್ದಾರೆ ಸೀನುವ ನಂತರ ನಾನು ಸಾಧ್ಯವಾದಷ್ಟು ಜಾಮೀನು ನೀಡಲು ಪ್ರಯತ್ನಿಸುತ್ತೇನೆ ಕರೋನವೈರಸ್ ಏಕಾಏಕಿ ಅವರ ಆಡಳಿತದ ಪ್ರತಿಕ್ರಿಯೆಯ ಕುರಿತು ಹೆಚ್ಚಿನ ಪತ್ರಿಕಾಗೋಷ್ಠಿಯನ್ನು ಸೀನುವ ನಂತರ ಸ್ವಲ್ಪ ಅಸಂಗತ ಎಂಎಸ್ಎನ್ ಬಿಸಿಯ ಹಾರ್ಡ್ ಬಾಲ್ ಕುರಿತು ಮಾತನಾಡಿದ ಒಬಾಮಾ ಆಡಳಿತದ ಮಾಜಿ ಆರೋಗ್ಯ ನೀತಿ ಸಲಹೆಗಾರ ಟ್ರಂಪ್ ಅವರ ಹೇಳಿಕೆಗಳು ಸಾರ್ವಜನಿಕ ಆರೋಗ್ಯದ ಬಗ್ಗೆ ತನಗೆ ಎಷ್ಟು ತಿಳಿದಿದೆ ಎಂದು ಸೂಚಿಸುತ್ತದೆ ಮತ್ತು ಚೀನಾದಲ್ಲಿ ಮೊದಲು ಕಾಣಿಸಿಕೊಂಡ ವೈರಸ್ ಬಗ್ಗೆ ಆರೋಗ್ಯ ಅಧಿಕಾರಿಗಳಿಗೆ ಇನ್ನೂ ಪ್ರಮುಖ ಮಾಹಿತಿ ತಿಳಿದಿಲ್ಲ ಎಂದು ಒತ್ತಿ ಹೇಳಿದರು ಮತ್ತು ನಂತರ ಕ್ಕೂ ಹೆಚ್ಚು ಜನರಿಗೆ ಹೆಚ್ಚು ಟಿ ಸೋಂಕು ತಗುಲಿತು ಹಾನ್ ಮೂರು ಡಜನ್ ದೇಶಗಳು ದೇಶದಲ್ಲಿ ಹರಡುವಿಕೆಯನ್ನು ಶ್ವೇತಭವನದ ನಿರ್ವಹಣೆಯಲ್ಲಿ ಎಸ್ ವಿಶ್ವಾಸವನ್ನು ಹೆಚ್ಚಿಸಲು ಅವರು ಉಪಾಧ್ಯಕ್ಷ ಪೆನ್ಸ್ ಆಡಳಿತದ ಕೊರೊನಾವೈರಸ್ ಪ್ರತಿಕ್ರಿಯೆಯನ್ನು ಮುನ್ನಡೆಸುತ್ತಾರೆ ಎಂದು ಟ್ರಂಪ್ ಘೋಷಿಸಿದ ಕೆಲವೇ ಕ್ಷಣಗಳಲ್ಲಿ ಈ ಅಭಿಪ್ರಾಯಗಳು ಬಂದವು ಬುಧವಾರ ರಾತ್ರಿ ಪತ್ರಿಕಾಗೋಷ್ಠಿ ಬಂದಿತು ನಿಮ್ಮ ಎಸ್ ನಲ್ಲಿ ಏಕಾಏಕಿ ಅನಿವಾರ್ಯ ಎಂಬ ಎಚ್ಚರಿಕೆಯ ಮಧ್ಯೆ ಮತ್ತು ಶಾಸಕರು ಟ್ರಂಪ್ ಅವರ ತುರ್ತು ನಿಧಿಯ ವಿನಂತಿಯನ್ನು ಸಾಕಷ್ಟಿಲ್ಲ ಎಂದು ಕರೆದಿದ್ದರಿಂದ ಟ್ರಂಪ್ ಆಡಳಿತವು ಈ ವಾರದ ಆರಂಭದಲ್ಲಿ ಕರೋನವೈರಸ್ ಪ್ರತಿಕ್ರಿಯೆಗಾಗಿ ಕಾಂಗ್ರೆಸ್ನಿಂದ ಬಿಲಿಯನ್ ಡಾಲರ್ ತುರ್ತು ಹಣವನ್ನು ಕೋರಿದೆ ಇದರ ಇತ್ತೀಚಿನ ತಾಂತ್ರಿಕ ಮಾದರಿಯು ಗುರಿಯನ್ನು ಸೂಚಿಸುತ್ತದೆ ಮತ್ತು ದೀರ್ಘ ಶ್ರೇಣಿಯು ಡಬ್ಲ್ಯೂಟಿಐ ಡೈಲಿ ಚಾರ್ಟ್ ಗಿಂತಲೂ ಕಡಿಮೆ ಗುರಿಯನ್ನು ಸೂಚಿಸುತ್ತದೆ ಜನವರಿ ರಿಂದ ರವರೆಗೆ ಕ್ಕಿಂತ ಹೆಚ್ಚು ಇರುವ ವ್ಯಾಪ್ತಿಯು ತಾಂತ್ರಿಕ ಸರಪಳಿ ಕ್ರಿಯೆಯು ಅಂದಾಜು ಗುರಿಯನ್ನು ಆಯ್ಕೆಮಾಡುವ ತೊಂದರೆಯಲ್ಲಿ ಅದೇ ಅಂತರವನ್ನು ಪುನರಾವರ್ತಿಸುತ್ತದೆ ಎಂದು ಸೂಚಿಸುತ್ತದೆ ಟ್ರೇಡ್ ಸ್ಟ್ರಾಟಜೀಸ್ ಕನ್ಸರ್ವೇಟಿವ್ ವ್ಯಾಪಾರಿಗಳು ಕಡಿಮೆ ಸ್ಥಾನಕ್ಕೆ ಬರುವ ಮೊದಲು ಪ್ರತಿರೋಧವನ್ನು ಮರುಪರಿಶೀಲಿಸಲು ಕಾಯಬೇಕು ಆಕ್ರಮಣಕಾರಿ ವ್ಯಾಪಾರಿಗಳು ಅಳತೆಯ ನಿಲುಗಡೆ ನಷ್ಟದೊಂದಿಗೆ ವ್ಯತಿರಿಕ್ತ ವ್ಯಾಪಾರವನ್ನು ಪ್ರವೇಶಿಸಬಹುದು ಏಕೆಂದರೆ ಅದು ಕಡಿಮೆ ವಹಿವಾಟು ಮಾದರಿ ಆಕ್ರಮಣಕಾರಿ ಟ್ರೇಡ್ ಎಂಟ್ರಿ ಸ್ಟಾಪ್ ಅನ್ನು ಮುಂದುವರಿಸುವ ಮೊದಲು ಬೆಲೆ ಹಿಂದಕ್ಕೆ ಎಳೆಯುವ ಸಾಧ್ಯತೆಯಿದೆ ನಷ್ಟ ರಿಸ್ಕ್ ಫೆಬ್ರವರಿ ರ ಕೆಳಗೆ ಟಾರ್ಗೆಟ್ ಹಿಂದಿನ ಮಾದರಿಯಲ್ಲಿ ಕಡಿಮೆ ಕಡಿಮೆ ರಿವಾರ್ಡ್ ರಿಸ್ಕ್ ರಿವಾರ್ಡ್ ಅನುಪಾತ ಡೌ ಜೋನ್ಸ್ ಕೈಗಾರಿಕಾ ಸರಾಸರಿ ರ ಭವಿಷ್ಯವು ಪಾಯಿಂಟ್ ಗಳು ಅಥವಾ ರಿಂದ ಕ್ಕೆ ತಲುಪಿದ್ದರೆ ಎಸ್ ಪಿ ಇಎಸ್ ಅವರು ಪಾಯಿಂಟ್ ಗಳು ಅಥವಾ ಅನ್ನು ಕ್ಕೆ ವಹಿವಾಟು ನಡೆಸುತ್ತಾರೆ ಓದಿ ಕರೋನವೈರಸ್ ಸರಬರಾಜು ಆಘಾತವನ್ನು ನೀಡುತ್ತದೆ ಕೇಂದ್ರ ಬ್ಯಾಂಕರ್ ಗಳು ಸರಿಪಡಿಸಲು ಸಾಧ್ಯವಿಲ್ಲ ಬುಧವಾರ ಡೌ ಡಿಜೆಐಎ ಮುಚ್ಚಿದ ಪಾಯಿಂಟ್ ಗಳು ನಷ್ಟವನ್ನು ಕ್ಕೆ ಇಳಿಸಿದರೆ ಎಸ್ ಪಿ ಪಾಯಿಂಟ್ ಗಳು ಅಥವಾ ಕ್ಕೆ ಇಳಿದು ಕ್ಕೆ ತಲುಪಿದೆ ಸೂಚ್ಯಂಕ ಭವಿಷ್ಯಗಳು ಬುಧವಾರ ರಾತ್ರಿ ಸುದ್ದಿಯ ನಂತರ ಹೊಸ ಒತ್ತಡವನ್ನು ಕಂಡವು ಅಧ್ಯಕ್ಷ ಡೊನಾಲ್ಡ್ ಟ್ರಂಪ್ ಅವರ ಸಮ್ಮೇಳನವು ಹೂಡಿಕೆದಾರರಿಗೆ ಧೈರ್ಯ ತುಂಬುವಲ್ಲಿ ವಿಫಲವಾಗಿದೆ ಮತ್ತು ಕ್ಯಾಲಿಫೋರ್ನಿಯಾದಲ್ಲಿ ಪರಿಚಿತ ಮೂಲವಿಲ್ಲದ ಕೊರೊನಾವೈರಸ್ನ ಹೊಸ ಪ್ರಕರಣ ಪತ್ತೆಯಾಗಿದೆ ಎಂದು ಓಂಡಾದ ಹಿರಿಯ ಏಷ್ಯಾ ಪೆಸಿಫಿಕ್ ಮಾರುಕಟ್ಟೆ ವಿಶ್ಲೇಷಕ ಜೆಫ್ರಿ ಹ್ಯಾಲಿ ಬರೆದಿದ್ದಾರೆ ಅದರ ಸಂಭಾವ್ಯ ಹರಡುವಿಕೆಯನ್ನು ನಿಯಂತ್ರಿಸುವಲ್ಲಿ ಸರ್ಕಾರದ ಪ್ರತಿಕ್ರಿಯೆ ಈಗಾಗಲೇ ಅಲುಗಾಡುತ್ತಿರುವ ಉತ್ತರ ಅಮೆರಿಕಾದ ಮಾರುಕಟ್ಟೆಯ ಗೋಲ್ಡ್ ಫ್ಯೂಚರ್ಸ್ ಗುಲಾಬಿ ರಷ್ಟನ್ನು ಪ್ರೇರೇಪಿಸಲಿಲ್ಲ ಆದರೆ ನಿಮಗಾಗಿ ಮುಂದುವರಿದ ರ್ಯಾಲಿಯು ಎಸ್ ಖಜಾನೆಗಳು ವೈ ಅನ್ನು ಕೆಳಕ್ಕೆ ತಳ್ಳಿತು ವರ್ಷದ ದರವು ಬೇಸಿಸ್ ಪಾಯಿಂಟ್ ಗಳನ್ನು ಕ್ಕೆ ಇಳಿಸಿ ಅದು ಸಾರ್ವಕಾಲಿಕ ಕಡಿಮೆಯಾಗಿದೆ ಟಿಂಗ್ ಶು ವಾಂಗ್ ರಾಯಿಟರ್ಸ್ ಚೀನಾದ ವಿದೇಶಿ ವ್ಯಾಪಾರವು ಸಣ್ಣ ಮತ್ತು ಮಧ್ಯಮ ಗಾತ್ರದ ಸಂಸ್ಥೆಗಳು ಅದರ ಪೂರೈಕೆ ಸರಪಳಿಗಳಲ್ಲಿ ಯುದ್ಧದ ಹಣಕಾಸಿನ ತೊಂದರೆಗಳನ್ನು ಎದುರಿಸುತ್ತಿದೆ ವ್ಯಾಪಾರ ನಿರ್ಬಂಧಗಳ ನಡುವೆ ಕಚ್ಚಾ ವಸ್ತುಗಳ ಕೊರತೆ ಮತ್ತು ಕೊರೊನಾವೈರಸ್ ಏಕಾಏಕಿ ಪಾವತಿ ವಿಳಂಬವಾಗಿದೆ ಎಂದು ವಾಣಿಜ್ಯ ಸಚಿವಾಲಯವು ಫೆಬ್ರವರಿ ರಂದು ತಿಳಿಸಿದೆ ಏಕಾಏಕಿ ಏಕಾಏಕಿ ವಿದೇಶಿ ವ್ಯಾಪಾರದಲ್ಲಿ ತೊಡಗಿರುವ ಸುಮಾರು ಕಂಪೆನಿಗಳಲ್ಲಿ ಪ್ರತಿಶತವು ಸಾಗಣೆ ಮತ್ತು ಪಾವತಿಗಳಲ್ಲಿ ವಿಳಂಬವನ್ನು ಎದುರಿಸಿದೆ ಎಂದು ಸಚಿವಾಲಯವು ಆನ್ ಲೈನ್ ಬ್ರೀಫಿಂಗ್ ನಲ್ಲಿ ಸುದ್ದಿಗಾರರಿಗೆ ತಿಳಿಸಿದೆ ರದ್ದಾದ ಆದೇಶಗಳು ಮತ್ತು ಉತ್ಪನ್ನ ವಿತರಣೆ ಮತ್ತು ಪಾವತಿಗಳಲ್ಲಿನ ನಿರಾಕರಣೆಗಳ ಗಮನಾರ್ಹ ಅಪಾಯಗಳನ್ನು ಅನೇಕ ಕಂಪನಿಗಳು ಎದುರಿಸುತ್ತಿವೆ ಎಂದು ಸಚಿವಾಲಯದ ನಿರ್ದೇಶಕ ಲಿ ಕ್ಸಿಂಗ್ ಕಿಯಾನ್ ಹೇಳಿದ್ದಾರೆ ವಿದೇಶಿ ವ್ಯಾಪಾರ ಇಲಾಖೆಯು ಅವರಿಗೆ ತುರ್ತಾಗಿ ಅಗತ್ಯವಿರುವ ರಫ್ತು ಸಾಲ ವಿಮೆಯನ್ನು ಕೋರಿದೆ ಆದರೆ ಚೀನಾ ಸಚಿವಾಲಯದ ಅಧಿಕಾರಿಗಳಿಂದ ಸರಬರಾಜು ಅಥವಾ ಉತ್ಪಾದನಾ ಸರಪಳಿಗಳ ಪ್ರಮುಖ ಬದಲಾವಣೆಯಾಗಿಲ್ಲ ಕೆಲವು ವಿದೇಶಿ ಕಂಪನಿಗಳು ಚೀನೀಯರ ದೀರ್ಘಾವಧಿಯ ಭವಿಷ್ಯದ ಮೇಲೆ ಬೆಟ್ಟಿಂಗ್ ಹೂಡಿಕೆ ಮಾಡುವುದನ್ನು ಮುಂದುವರಿಸುತ್ತಿವೆ ಎಂದು ಹೇಳಿದರು ಮಾರುಕಟ್ಟೆ ಕರೋನವೈರಸ್ ಏಕಾಏಕಿ ಸಪ್ ಮೇಲೆ ಪರಿಣಾಮ ಲೈ ಮತ್ತು ಕೈಗಾರಿಕಾ ಸರಪಳಿಗಳನ್ನು ತಾತ್ಕಾಲಿಕವಾಗಿ ಸೇರಿಸಲಾಗಿದೆ ಸಚಿವಾಲಯದ ವಿದೇಶಿ ಹೂಡಿಕೆ ವಿಭಾಗದ ನಿರ್ದೇಶಕ ಇರಾನ್ ನ ಸಂಸದೀಯ ಭದ್ರತೆ ಮತ್ತು ವಿದೇಶಾಂಗ ಸಂಬಂಧ ಆಯೋಗದ ಮುಖ್ಯಸ್ಥ ಮೊಜ್ತಾಬಾ ೊನೂರ್ ಅವರು ಕರೋನವೈರಸ್ ಗೆ ಧನಾತ್ಮಕ ಪರೀಕ್ಷೆ ಮಾಡಿದ್ದಾರೆ ಎಂದು ಹೇಳಿದ್ದಾರೆ ಈ ಹಿಂದೆ ಮತ್ತೊಬ್ಬ ಶಾಸಕರಾದ ಮಹಮೂದ್ ಸಾಡೆಘಿ ತಮ್ಮ ಕರೋನಾ ಪರೀಕ್ಷೆ ಸಕಾರಾತ್ಮಕವಾಗಿದೆ ಎಂದು ಟ್ವಿಟರ್ ನಲ್ಲಿ ಬರೆದಿದ್ದಾರೆ ಇರಾನ್ ನಲ್ಲಿ ಒಟ್ಟು ಕರೋನವೈರಸ್ ಪ್ರಕರಣಗಳು ಕ್ಕೆ ತಲುಪಿದ್ದು ರಲ್ಲಿ ಇಲ್ಲಿಯವರೆಗೆ ವೈರಸ್ ನಿಂದ ಸಾವುಗಳು ಎಂದು ಅಧಿಕೃತವಾಗಿ ಹೆಸರಿಸಲಾದ ಕೊರೊನಾವೈರಸ್ ಚೀನಾದ ನಗರವಾದ ವುಹಾನ್ ನಲ್ಲಿ ಡಿಸೆಂಬರ್ ಅಂತ್ಯದಲ್ಲಿ ಹುಟ್ಟಿಕೊಂಡಿತು ಮತ್ತು ಇದುವರೆಗೆ ಕ್ಕೂ ಹೆಚ್ಚು ಜನರಿಗೆ ಸೋಂಕು ತಗುಲಿದ್ದು ಇದರ ಪರಿಣಾಮವಾಗಿ ಕ್ಕೂ ಹೆಚ್ಚು ಜನರು ಸಾವನ್ನಪ್ಪಿದ್ದಾರೆ ಈ ಕಾಯಿಲೆಗೆ ತುತ್ತಾದವರಲ್ಲಿ ಮೂರನೇ ಒಂದು ಭಾಗದಷ್ಟು ಜನರು ಕಳೆದ ಗಂಟೆಗಳಲ್ಲಿ ಕ್ಕೂ ಹೆಚ್ಚು ಜನರನ್ನು ಒಳಗೊಂಡಂತೆ ಚೇತರಿಸಿಕೊಂಡಿದೆ ಜೆರೆಮಿ ಕ್ಯಾಪ್ರಾನ್ ಇಂದು ಆಸ್ಪತ್ರೆಗಳಲ್ಲಿನ ಮುಖ್ಯ ರೊಬೊಟಿಕ್ಸ್ ಅಪ್ಲಿಕೇಶನ್ ಅಂತರ್ಬೋಧೆಯ ಸರ್ಜಿಕಲ್ ಗ್ಲೋಬಸ್ ಮೆಡಿಕಲ್ ಸೀಮೆನ್ಸ್ ಹೆಲ್ತ್ ನೈರ್ಸ್ ಸ್ಟ್ರೈಕರ್ ಮೆಡ್ ಟ್ರಾನಿಕ್ ಮತ್ತು ಜೆಜೆ ಯಿಂದ ಶಸ್ತ್ರಚಿಕಿತ್ಸೆಯ ರೋಬೋಟ್ ಗಳಾಗಿ ಉಳಿದಿದೆ ಆದರೆ ಆಸ್ಪತ್ರೆಗಳಲ್ಲಿ ಅಭಿವೃದ್ಧಿ ಹೊಂದುತ್ತಿರುವ ಇತರ ರೊಬೊಟಿಕ್ಸ್ ಅಪ್ಲಿಕೇಶನ್ ಗಳನ್ನು ನಾವು ನೋಡುತ್ತೇವೆ ಸೌಲಭ್ಯಗಳು ನೀನಾ ಡೆಕಾ ಆಸ್ಪತ್ರೆಗಳು ಖಾಸಗಿ ಸ್ವಾಮ್ಯದ ಕ್ಸೆನೆಕ್ಸ್ ಸೋಂಕುಗಳೆತ ಸೇವೆಗಳಿಂದ ರೋಬೋಟ್ ಖರೀದಿಸಲು ತಮ್ಮ ವಿಪತ್ತು ಸಿದ್ಧತೆ ಬಜೆಟ್ ನಲ್ಲಿ ನಿಮಿಷಗಳಲ್ಲಿ ಸಾಂಕ್ರಾಮಿಕ ರೋಗಕಾರಕಗಳನ್ನು ಕೊಲ್ಲುತ್ತವೆ ಜಿಎನ್ ಸಾಂಕ್ರಾಮಿಕ ರೋಗಗಳಿಗೆ ಸಂಬಂಧಿಸಿದಂತೆ ಆರೋಗ್ಯ ರಕ್ಷಣೆಯಲ್ಲಿ ರೋಬೋಟ್ ಗಳ ದೃಷ್ಟಿಕೋನ ಏನು ಜೆರೆಮಿ ಕ್ಯಾಪ್ರಾನ್ ಹೆಚ್ಚು ಸಾಮಾನ್ಯವಾಗಿ ಶಸ್ತ್ರಚಿಕಿತ್ಸೆಯಲ್ಲಿ ರೋಬೋಟ್ ಗಳಿಗೆ ಶಕ್ತಿ ತುಂಬುವಿಕೆಯಿಂದ ಹಿಡಿದು ರೋಗನಿರ್ಣಯವನ್ನು ಓದುವ ವೈದ್ಯಕೀಯ ಚಿತ್ರಣವನ್ನು ವರ್ಚುವಲ್ ನರ್ಸಿಂಗ್ ಅಸಿಸ್ಟೆಂಟ್ಸ್ ಷಧಿ ನಿರ್ವಹಣೆ ಇತ್ಯಾದಿಗಳವರೆಗಿನ ಅಪ್ಲಿಕೇಶನ್ ಗಳೊಂದಿಗೆ ಆರೋಗ್ಯ ರಕ್ಷಣೆಯಲ್ಲಿ ನಿಯೋಜನೆಯು ವಿಶೇಷವಾಗಿ ರೋಮಾಂಚನಕಾರಿಯಾಗಿದೆ ರಾಯಿಟರ್ಸ್ ಸ್ವೀಡನ್ ನ ಐಕೆಇಎ ಅಲ್ಪಾವಧಿಯಲ್ಲಿ ಭಾರತದಲ್ಲಿ ಬೆಲೆಗಳನ್ನು ಹೆಚ್ಚಿಸಲು ಯೋಜಿಸುತ್ತಿಲ್ಲ ಪೀಠೋಪಕರಣಗಳಂತಹ ಸರಕುಗಳ ಮೇಲೆ ಆಮದು ತೆರಿಗೆಯನ್ನು ಹೆಚ್ಚಿಸುವ ಭಾರತದ ಕ್ರಮವನ್ನು ಅನುಸರಿಸಿ ಕಂಪನಿಯ ಕಾರ್ಯನಿರ್ವಾಹಕ ಗುರುವಾರ ಐಕೆಇಎ ತಾನು ಮಾರಾಟ ಮಾಡುವ ಸರಕುಗಳನ್ನು ಆಮದು ಮಾಡಿಕೊಳ್ಳುತ್ತದೆ ಭಾರತ ನಾವು ನಮ್ಮ ಬ್ರ್ಯಾಂಡ್ ಗ್ರಾಹಕರ ಕಡೆಗೆ ಬೆಲೆಗಳನ್ನು ಹೆಚ್ಚಿಸುವುದಿಲ್ಲ ಏಕೆಂದರೆ ನಾವು ಕೈಗೆಟುಕುವವರಾಗಿರುತ್ತೇವೆ ಎಂದು ನಾವು ಹೇಳುತ್ತೇವೆ ಐಕೆಇಎ ಭಾರತದ ವ್ಯವಸ್ಥಾಪಕ ನಿರ್ದೇಶಕ ಭಾರತದ ಆರ್ಥಿಕ ರಾಜಧಾನಿ ಮುಂಬೈ ಭಾರತದ ಸಮಾವೇಶದಲ್ಲಿ ಈ ತಿಂಗಳು ಎಲೆಕ್ಟ್ರಾನಿಕ್ ವಸ್ತುಗಳ ಆಟಿಕೆಗಳಂತಹ ಸರಕುಗಳ ಆಮದಿನ ಮೇಲೆ ಹೆಚ್ಚಿನ ತೆರಿಗೆ ವಿಧಿಸುವುದಾಗಿ ಘೋಷಿಸಿದರು ಮತ್ತು ದೇಶೀಯ ಉತ್ಪಾದನೆಯನ್ನು ಹೆಚ್ಚಿಸುವ ಗುರಿಯನ್ನು ಹೊಂದಿರುವ ಪೀಠೋಪಕರಣಗಳು ಐಕೆಇಎ ಸುಂಕದ ಬಗ್ಗೆ ಭಾರತದೊಂದಿಗೆ ಮಾತುಕತೆ ನಡೆಸುತ್ತಿದೆ ಎಂದು ಬೆಟ್ಜೆಲ್ ಹೇಳಿದರು ಕೊ ುಮೆಲ್ ಎಎಫ್ ಪಿ ಜನರನ್ನು ಹೊತ್ತೊಯ್ಯುವ ಕ್ರೂಸ್ ಹಡಗು ಜಮೈಕಾ ಮತ್ತು ಕೇಮನ್ ದ್ವೀಪಗಳಿಂದ ಹೊರಟುಹೋಯಿತು ಸಿಬ್ಬಂದಿಯೊಬ್ಬರು ಜ್ವರಕ್ಕೆ ಧನಾತ್ಮಕ ಪರೀಕ್ಷೆ ನಡೆಸಿದ ನಂತರ ಮೆಕ್ಸಿಕೊದಲ್ಲಿ ಡಾಕ್ ಮಾಡಲಾಗಿದೆ ಎಂದು ಕಂಪನಿ ಹೇಳಿದೆ ಕೇಮನ್ ದ್ವೀಪಗಳು ಮತ್ತು ಜಮೈಕಾ ಹಡಗಿನ ಹಡಗನ್ನು ಹಡಗಿನಲ್ಲಿ ಸಾಗಿಸಲು ಅನುಮತಿಸಲು ನಿರಾಕರಿಸಿದೆ ಹೊಸ ಕರೋನವೈರಸ್ ವೈದ್ಯಕೀಯ ದಾಖಲೆಗಳನ್ನು ಒದಗಿಸಿದ್ದರೂ ಸಹ ಜಮೈಕಾದ ಅಧಿಕಾರಿಗಳು ಹಡಗು ತೆರವುಗೊಳಿಸುವ ನಿರ್ಧಾರವನ್ನು ವಿಳಂಬ ಮಾಡಿರುವುದು ಅತ್ಯಂತ ನಿರಾಶೆಯಾಗಿದೆ ಎಂದು ಇದು ಹೇಳಿದೆ ಗ್ರ್ಯಾಂಡ್ ಕೇಮನ್ ಅಧಿಕಾರಿಗಳು ಸಹ ಹಡಗಿನ ವೈದ್ಯಕೀಯ ದಾಖಲೆಗಳನ್ನು ಪರಿಶೀಲಿಸದೆ ಹಡಗನ್ನು ತಿರುಗಿಸಿದ್ದಾರೆ ಎಂದು ಹೇಳಿದರು ಎಂಎಸ್ಸಿ ಮೆರಾವಿಗ್ಲಿಯಾ ಅಥವಾ ಎಂಎಸ್ಸಿ ಕ್ರೂಸಸ್ ಫ್ಲೀಟ್ನಲ್ಲಿರುವ ಯಾವುದೇ ಹಡಗಿನಲ್ಲಿ ವೈರಸ್ ವರದಿಯಾಗಿದೆ ಕನ್ಸರ್ವೇಟಿವ್ ಅಂಕಣಕಾರ ಮ್ಯಾಕ್ಸ್ ಬೂಟ್ ಅವರು ವಾಷಿಂಗ್ಟನ್ ಪೋಸ್ಟ್ ಗಾಗಿ ತಮ್ಮ ಇತ್ತೀಚಿನ ಅಭಿಪ್ರಾಯದ ತುಣುಕಿನಲ್ಲಿ ಕರೋನವೈರಸ್ ಏಕಾಏಕಿ ಟ್ರಂಪ್ ಶ್ವೇತಭವನದ ಕಾಯಿಲೆಗಳ ಕೆಟ್ಟ ಗುಣಲಕ್ಷಣಗಳನ್ನು ಯಾವುದೇ ಮಾನವ ಶತ್ರುಗಳು ನಿರ್ದಯವಾಗಿ ಬಹಿರಂಗಪಡಿಸುವ ಮತ್ತು ತಮ್ಮ ಬಲಿಪಶುಗಳ ದೌರ್ಬಲ್ಯಗಳನ್ನು ಬಹಿರಂಗಪಡಿಸುವದಕ್ಕಿಂತ ಹೆಚ್ಚಾಗಿ ಬಹಿರಂಗಪಡಿಸುತ್ತಿದ್ದಾರೆ ಎಂದು ವಾದಿಸಿದರು ಡೊನಾಲ್ಡ್ ಟ್ರಂಪ್ ಅವರ ರ ಚುನಾವಣಾ ಗೆಲುವು ಮತ್ತು ಈಗಿನಿಂದಲೂ ಅವರನ್ನು ತೀವ್ರವಾಗಿ ಟೀಕಿಸುತ್ತಿದೆ ಈಗ ಕರೋನವೈರಸ್ ಏಕಾಏಕಿ ಟ್ರಂಪ್ ಆಡಳಿತದ ರೋಗಶಾಸ್ತ್ರವನ್ನು ಬೇರ್ಪಡಿಸುತ್ತಿದೆ ಇದರಲ್ಲಿ ಕಡ್ಡಾಯವಾಗಿ ಸುಳ್ಳು ಹೇಳುವುದು ಸರ್ವಾಧಿಕಾರಿಗಳಿಗೆ ಸೈದ್ಧಾಂತಿಕ ದ್ವೇಷವನ್ನು ಜಾಗತಿಕತೆಗೆ ವಿರೋಧಿಸುತ್ತದೆ ಮತ್ತು ತಜ್ಞರು ಮತ್ತು ಪರಿಣತಿಯ ಬಗೆಗಿನ ದ್ವೇಷ ಮತ್ತು ಸಂಬಂಧಿತ ಅಭಿವೃದ್ಧಿಯಲ್ಲಿ ಸಂಪೂರ್ಣ ಅಸಮರ್ಥತೆ ಬೂಟ್ ಸೇರಿಸಲಾಗಿದೆ ಮಾಜಿ ಅಧ್ಯಕ್ಷ ಬರಾಕ್ ಒಬಾಮಾ ಅವರ ಪರಂಪರೆಯನ್ನು ಹಿಮ್ಮೆಟ್ಟಿಸುವ ಟ್ರಂಪ್ ಅವರ ಪ್ರಯತ್ನಗಳು ಕರೋನವೈರಸ್ ಹರಡುವಿಕೆಯನ್ನು ಒಳಗೊಂಡಿರುವ ಸರ್ಕಾರದ ಸಾಮರ್ಥ್ಯಕ್ಕೆ ಹೇಗೆ ಹಾನಿಯಾಗಬಹುದು ಎಂದು ಅವ್ಯವಸ್ಥೆಯ ಅಧ್ಯಕ್ಷರು ಬಲಿಪಶುಗಳನ್ನು ಹುಡುಕಲು ಪ್ರಯತ್ನಿಸುತ್ತಾರೆ ಆದರೆ ಇದಕ್ಕೆ ಯಾರೂ ಕಾರಣವಲ್ಲ ಅಸ್ತವ್ಯಸ್ತವಾಗಿರುವ ಪ್ರತಿಕ್ರಿಯೆ ಸಿ ಅನ್ನು ಹೇಗೆ ಉಚ್ಚರಿಸಬೇಕೆಂದು ಅವನು ಕಂಡುಹಿಡಿಯಲು ಸಾಧ್ಯವಿಲ್ಲ ಒರೊನವೈರಸ್ ಅದನ್ನು ಹೇಗೆ ಹೋರಾಡಬೇಕು ಎಂಬುದು ಟ್ವಿಟ್ಟರ್ನಲ್ಲಿ ಟ್ರಂಪ್ ಅವರ ಪದದ ಕಾಗುಣಿತವನ್ನು ಉಲ್ಲೇಖಿಸಿ ಬೂಟ್ ಸೇರಿಸಲಾಗಿದೆ ಕರೋನವೈರಸ್ ಏಕಾಏಕಿ ಸೋಫಿಯಾ ರಾಯಿಟರ್ಸ್ ಬಲ್ಗೇರಿಯಾದ ರಾಷ್ಟ್ರೀಯ ಪುರುಷರ ಬ್ಯಾಸ್ಕೆಟ್ ಬಾಲ್ ತಂಡವು ಚೀನಾದ ಬೇಸಿಗೆ ಪ್ರವಾಸವನ್ನು ರದ್ದುಗೊಳಿಸಿದೆ ಎಂದು ಅವರ ತರಬೇತುದಾರ ಗುರುವಾರ ಹೇಳಿದ್ದಾರೆ ನಾವು ಚೀನಾದಲ್ಲಿ ಆರು ಮತ್ತು ಒಂಬತ್ತು ಪಂದ್ಯಗಳ ನಡುವೆ ಪ್ರಬಲ ಕ್ಲಬ್ ಗಳ ವಿರುದ್ಧ ಆಡಬೇಕಾಗಿತ್ತು ಮತ್ತು ಎಸ್ಟೋನಿಯಾ ಸೇರಿದಂತೆ ರಾಷ್ಟ್ರೀಯ ತಂಡಗಳಿಗೆ ಭೇಟಿ ನೀಡಿದ್ದೇವೆ ಮತ್ತು ಅದು ಅದ್ಭುತವಾಗಿದೆ ಅಂತಹ ಪ್ರವಾಸಕ್ಕೆ ಹೋಗಲು ರೋಸೆನ್ ಬಾರ್ಚೊವ್ಸ್ಕಿ ಸ್ಥಳೀಯ ಮಾಧ್ಯಮಗಳಿಗೆ ಹೇಳಿದರು ಆದರೆ ಕರೋನವೈರಸ್ ಕಾರಣದಿಂದಾಗಿ ನಾವು ಅದನ್ನು ರದ್ದುಗೊಳಿಸಬೇಕಾಗಿದೆ ಮತ್ತು ನಾವು ಇನ್ನೊಂದು ಆಯ್ಕೆಯನ್ನು ಹುಡುಕುತ್ತೇವೆ ಚೀನಾದಲ್ಲಿ ಮೊದಲು ಹೊರಹೊಮ್ಮಿದ ಕರೋನವೈರಸ್ ಕ್ಕೂ ಹೆಚ್ಚು ಜನರಿಗೆ ಸೋಂಕು ತಗುಲಿ ಸುಮಾರು ಜನರನ್ನು ಕೊಂದಿದೆ ಯುಕೆಯಲ್ಲಿ ಇನ್ನೂ ಎರಡು ಕರೋನವೈರಸ್ ಪ್ರಕರಣಗಳು ದೃ ಪಟ್ಟಿದೆ ಅಂದರೆ ದೇಶದಲ್ಲಿ ಒಟ್ಟು ಜನರು ವೈರಸ್ ಗೆ ಧನಾತ್ಮಕ ಪರೀಕ್ಷೆ ಮಾಡಿದ್ದಾರೆ ಎಂದು ಇಂಗ್ಲೆಂಡ್ ನ ಮುಖ್ಯ ವೈದ್ಯಕೀಯ ಅಧಿಕಾರಿ ಪ್ರೊಫೆಸರ್ ಕ್ರಿಸ್ ವಿಟ್ಟಿ ಹೇಳಿದ್ದಾರೆ ಇಂಗ್ಲೆಂಡ್ ನಲ್ಲಿ ಇನ್ನೂ ಇಬ್ಬರು ರೋಗಿಗಳು ಗೆ ಧನಾತ್ಮಕ ಪರೀಕ್ಷೆ ಮಾಡಿದ್ದಾರೆ ಯುಕೆ ಪ್ರಕರಣಗಳಲ್ಲಿ ಕ್ಕೆ ದೃ ಪಡಿಸಿದ ಪ್ರಕರಣಗಳ ಸಂಖ್ಯೆಯೊಂದಿಗೆ ವೈರಸ್ ಹರಡುವಿಕೆಗೆ ಯುಕೆ ಎಷ್ಟು ಸಿದ್ಧವಾಗಿದೆ ಎಂಬುದರ ಬಗ್ಗೆ ನಮಗೆ ತಿಳಿದಿದೆ ಮತ್ತು ನಾವು ಎಷ್ಟು ಆತಂಕಕ್ಕೊಳಗಾಗಬೇಕು ಎಂಬುದರ ಬಗ್ಗೆ ತಜ್ಞರು ಏನು ಹೇಳಿದ್ದಾರೆ ಎಂದು ಯುಕೆ ಮುಖ್ಯ ವೈದ್ಯಕೀಯ ಅಧಿಕಾರಿಗಳು ಅಪಾಯವನ್ನು ಹೆಚ್ಚಿಸಿದ್ದಾರೆ ಕೊರೊನಾವೈರಸ್ ಅನ್ನು ಸಾರ್ವಜನಿಕರಿಗೆ ಮಧ್ಯಮ ಮಟ್ಟಕ್ಕೆ ಆದಾಗ್ಯೂ ಅವರು ಎಲ್ಲಾ ಸಂಭವನೀಯತೆಗಳಿಗೆ ಯೋಜನೆ ರೂಪಿಸಬೇಕು ಮತ್ತು ವ್ಯಕ್ತಿಗಳಿಗೆ ಅಪಾಯವು ಕಡಿಮೆ ಇದೆ ಎಂದು ಅವರು ಒತ್ತಿಹೇಳುತ್ತಾರೆ ಏತನ್ಮಧ್ಯೆ ಅಧ್ಯಕ್ಷ ಟ್ರಂಪ್ ಕರೋನವೈರಸ್ ಬೆದರಿಕೆಯನ್ನು ಕಡಿಮೆ ಮಾಡಿದ್ದಾರೆ ಮತ್ತು ಏಕಾಏಕಿ ನಿಭಾಯಿಸಲು ದೇಶವು ತುಂಬಾ ಸಿದ್ಧವಾಗಿದೆ ಎಂದು ಒತ್ತಾಯಿಸಿದ್ದಾರೆ ಈ ವ್ಯಕ್ತಿ ತನ್ನ ತಾಯ್ನಾಡಿನ ಇರಾನ್ ನಿಂದ ಕೇವಲ ಮಿಲಿಯನ್ ಜನರ ಬಾಲ್ಟಿಕ್ ರಾಷ್ಟ್ರಕ್ಕೆ ಮರಳಿದ ಒಂದು ದಿನದ ನಂತರ ಗುರುವಾರ ಎಸ್ಟೋನಿಯಾ ತನ್ನ ಮೊದಲ ಸಿಒವಿಐಡಿ ಪ್ರಕರಣವನ್ನು ವರದಿ ಮಾಡಿದೆ ನಾಗರಿಕನಲ್ಲದ ಎಸ್ಟೋನಿಯಾದ ಖಾಯಂ ನಿವಾಸಿ ಬುಧವಾರ ಸಂಜೆ ಎಸ್ಟೋನಿಯಾಗೆ ಆಗಮಿಸಿದ ಸಾಮಾಜಿಕ ವ್ಯವಹಾರಗಳ ಸಚಿವ ತಾನೆಲ್ ಕಿಕ್ ಸಾರ್ವಜನಿಕ ಪ್ರಸಾರ ಇಆರ್ಆರ್ಗೆ ರೋಗಿಯನ್ನು ಪ್ರತ್ಯೇಕಿಸಲಾಗಿದೆ ರೋಗ ಹರಡುವ ಅಪಾಯವಿಲ್ಲ ಈಗ ರೋಗಿಯನ್ನು ಇರಾನ್ ಸಂಪರ್ಕದಲ್ಲಿದ್ದ ಎಲ್ಲ ಜನರನ್ನು ನಾವು ಗುರುತಿಸಬೇಕಾಗಿದೆ ಒಟ್ಟು ಸಾವುಗಳು ಮತ್ತು ದೇಶದ ಉಪ ಸೇರಿದಂತೆ ಕ್ಕೂ ಹೆಚ್ಚು ಸೋಂಕುಗಳು ಆರೋಗ್ಯ ಸಚಿವ ಇರಾನ್ ನ ಕರೋನವೈರಸ್ ಸಾವಿನ ಸಂಖ್ಯೆ ಚೀನಾದ ನಂತರ ಅತಿ ಹೆಚ್ಚು ಈ ರೋಗದಿಂದ ಕ್ಕೂ ಹೆಚ್ಚು ಜನರು ಸಾವನ್ನಪ್ಪಿದ್ದಾರೆ ಈ ಫೋಟೋ ಗ್ಯಾಲರಿಯು ಮಧ್ಯಪ್ರಾಚ್ಯ ಅಫ್ಘಾನಿಸ್ತಾನ ಪಾಕಿಸ್ತಾನ ಪ್ರದೇಶದ ಅಸೋಸಿಯೇಟೆಡ್ ಪ್ರೆಸ್ ಾಯಾಗ್ರಾಹಕರು ತಯಾರಿಸಿದ ಅಥವಾ ಪ್ರಕಟಿಸಿದ ಕೆಲವು ಬಲವಾದ ಚಿತ್ರಗಳನ್ನು ಎತ್ತಿ ತೋರಿಸುತ್ತದೆ ಫೆಬ್ರವರಿ ಗ್ಯಾಲರಿಯನ್ನು ಎಪಿ ಮಿಡಲ್ ಈಸ್ಟ್ ಡೆಪ್ಯೂಟಿ ನ್ಯೂಸ್ ಡೈರೆಕ್ಟರ್ ಫಾರ್ ಫೋಟೋಗ್ರಫಿ ಡುಸಾನ್ ವ್ರಾನಿಕ್ ಮತ್ತು ಾಯಾಗ್ರಾಹಕ ಓಡೆಡ್ ಬಾಲಿಟಿ ಅನುಸರಿಸಿ ಎಪಿ ದೃಶ್ಯ ಪತ್ರಿಕೋದ್ಯಮ ಇನ್ಸ್ಟಾಗ್ರಾಮ್ ಎಪಿ ಚಿತ್ರಗಳು ಟ್ವಿಟರ್ ಎಪಿ ಚಿತ್ರಗಳು ಬ್ಲಾಗ್ನಲ್ಲಿ ಫೆಬ್ರವರಿ ರಾಯಿಟರ್ಸ್ ಬೆಸ್ಟ್ ಬೈ ಕೋ ಇಂಕ್ ಗುರುವಾರ ತ್ರೈಮಾಸಿಕ ಅದೇ ಅಂಗಡಿ ಮಾರಾಟದ ಅಂದಾಜುಗಳನ್ನು ಬಲವಾದ ಆನ್ ಲೈನ್ ಮತ್ತು ಅಪ್ಲಿಕೇಶನ್ ಮಾರಾಟದಲ್ಲಿ ಇಟ್ಟಿಗೆ ಮತ್ತು ಗಾರೆ ಚಿಲ್ಲರೆ ವ್ಯಾಪಾರಿಗಳಿಗೆ ಹೆಚ್ಚಾಗಿ ನಿರಾಶಾದಾಯಕ ರಜಾದಿನವನ್ನು ಮೀರಿದೆ ವರ್ಷದ ಮತ್ತು ಮುನ್ಸೂಚನೆಯ ಹಣಕಾಸು ವಾಲ್ ಸ್ಟ್ರೀಟ್ ನ ಹೆಚ್ಚಳದ ನಿರೀಕ್ಷೆಯೊಂದಿಗೆ ಹೋಲಿಸಿದರೆ ಫ್ಲಾಟ್ ನ ಅದೇ ಅಂಗಡಿ ಮಾರಾಟದ ಬೆಳವಣಿಗೆ ಕ್ಕೆ ಏರಿಕೆಯಾಗಿದೆ ಬೆಸ್ಟ್ ಬೈನ ಒಟ್ಟಾರೆ ಅದೇ ಅಂಗಡಿ ಮಾರಾಟವು ಫೆಬ್ರವರಿ ಕ್ಕೆ ಕೊನೆಗೊಂಡ ನಾಲ್ಕನೇ ತ್ರೈಮಾಸಿಕದಲ್ಲಿ ಏರಿಕೆಯಾಗಿದೆ ರಿಫಿನಿಟಿವ್ ನಿಂದ ಐಬಿಇಎಸ್ ಡೇಟಾದ ಪ್ರಕಾರ ಹೆಚ್ಚಳ ಈ ವಾರದ ಆಯ್ಕೆಯು ಈಜಿಪ್ಟ್ ನ ಉಚ್ ಾಟಿತ ನಿರಂಕುಶಾಧಿಕಾರಿ ಅಧ್ಯಕ್ಷ ಹೊಸ್ನಿ ಮುಬಾರಕ್ ಅವರ ಅಂತ್ಯಕ್ರಿಯೆಯನ್ನು ಸಿರಿಯಾದಲ್ಲಿ ಕರೋನವೈರಸ್ ಹರಡಿತು ಮತ್ತು ಇರಾನ್ ನಲ್ಲಿ ನಡೆದ ಚುನಾವಣೆಗಳು ಬಾಗ್ದಾದ್ ಪ್ಯಾಲೆಸ್ಟೀನಿಯಾದ ಪಶ್ಚಿಮ ಬ್ಯಾಂಕ್ ಯಹೂದಿ ವಸಾಹತುಗಳ ವಿರುದ್ಧ ಪ್ರತಿಭಟಿಸುತ್ತಾ ಗಾಜಾದ ದೈನಂದಿನ ಜೀವನದಲ್ಲಿ ಇಸ್ರೇಲ್ ತೊರೆದ ಪ್ರವಾಸಿಗರು ಮತ್ತು ಇಸ್ರೇಲಿ ಚುನಾವಣಾ ಪ್ರಚಾರದ ಜಾಹೀರಾತು ಫಲಕ ಎ ನ್ಯೂ ಕೈರೋ ಈಜಿಪ್ಟ್ ನಲ್ಲಿ ಅವರ ಅಂತ್ಯಕ್ರಿಯೆಗೆ ಮುನ್ನ ಮಸೀದಿಯ ಗೇಟ್ ಹೊರಗೆ ಅಳುತ್ತಿರುವಾಗ ಈಜಿಪ್ಟ್ ನ ಉಚ್ ಾಟಿತ ನಿರಂಕುಶಾಧಿಕಾರಿ ಅಧ್ಯಕ್ಷ ಹೊಸ್ನಿ ಮುಬಾರಕ್ ಅವರ ಫೋಟೋವನ್ನು ಬೆಂಬಲಿಗರು ಹೊಂದಿದ್ದಾರೆ ಬುಧವಾರ ಫೆಬ್ರವರಿ ಎಪಿ ಫೋಟೋ ಮಾಯಾ ಅಲ್ಲೆರು ೊ ಇಸ್ರೇಲಿ ಸೈನಿಕರು ಯಹೂದಿ ವಸಾಹತು ಬಳಿ ಪ್ಯಾಲೇಸ್ಟಿನಿಯನ್ ಪ್ರದರ್ಶನಕಾರರ ಮೇಲೆ ಪೆಪ್ಪರ್ ಸ್ಪ್ರೇ ಬಳಸುತ್ತಾರೆ ಶುಕ್ರವಾರ ಫೆಬ್ರವರಿ ರಂದು ವೆಸ್ಟ್ ಬ್ಯಾಂಕ್ ನಗರ ನಬ್ಲಸ್ ಬಳಿ ಯಿತ್ ಾರ್ ಎಪಿ ಫೋಟೋ ಇಬ್ರಾಹಿಂ ನೊರೂಜಿ ಮತದಾರರು ಟೆಹ್ರಾನ್ ಇರಾನ್ ನ ಮತದಾನ ಕೇಂದ್ರವೊಂದರಲ್ಲಿ ಸಂಸತ್ ಚುನಾವಣೆಯ ಸಂದರ್ಭದಲ್ಲಿ ಸೆಲ್ಫಿಗೆ ಪೋಸ್ ನೀಡಿದ್ದಾರೆ ಶುಕ್ರವಾರ ಫೆಬ್ರವರಿ ಎಪಿ ಫೋಟೋ ಇಬ್ರಾಹಿಂ ನೊರೂಜಿ ಪದಚ್ಯುತ ಅಧ್ಯಕ್ಷ ಹೊಸ್ನಿ ಮುಬಾರಕ್ ಅವರ ಬೆಂಬಲಿಗರು ಸ್ಮಶಾನದ ಬಳಿ ಅವರ ಾಯಾಚಿತ್ರವನ್ನು ಸಮಾಧಿ ಮಾಡಲಾಗುವುದು ಕೈರೋ ಈಜಿಪ್ಟ್ ನ ಹೆಲಿಯೊಪೊಲಿಸ್ ನೆರೆಹೊರೆ ಬುಧವಾರ ಫೆಬ್ರವರಿ ಕೊರೊನಾವೈರಸ್ ಕಾರಣದಿಂದಾಗಿ ಸ್ವಯಂ ಪ್ರತ್ಯೇಕಿಸಲು ಕೇಳಲಾಗುವ ಸಿಬ್ಬಂದಿಗಳು ಅನಾರೋಗ್ಯ ರಜೆ ತೆಗೆದುಕೊಳ್ಳಲು ಅರ್ಹರಾಗಿದ್ದಾರೆ ಎಂದು ಸರ್ಕಾರ ಹೇಳಿದೆ ಯಾರಾದರೂ ಕೊರೊನಾವೈರಸ್ ಹೊಂದಿದ್ದರೆ ಕೆಲಸದ ಸ್ಥಳದ ಸಾಮಾನ್ಯ ಅನಾರೋಗ್ಯ ವೇತನ ನೀತಿಗಳು ಅನ್ವಯಿಸುತ್ತವೆ ಆದರೆ ಯಾರಾದರೂ ಕೆಲಸಕ್ಕೆ ಬರಬಾರದೆಂದು ಹೇಳಿದರೆ ಅವರು ಹಿಂದಿರುಗಿದ್ದರೆ ಚೀನಾದಿಂದ ಅವರು ತಮ್ಮ ಸಾಮಾನ್ಯ ವೇತನವನ್ನು ಪಡೆಯಬೇಕು ಎಂದು ಶಿಫಾರಸು ಮಾಡಲಾಗಿದೆ ಅಕಾಸ್ ಮುಖ್ಯ ಕಾರ್ಯನಿರ್ವಾಹಕ ಸುಸಾನ್ ಕ್ಲೆವ್ಸ್ ಅವರು ನಮ್ಮ ಹೊಸ ಸಲಹೆಯು ಕೆಲಸದಲ್ಲಿ ಕರೋನವೈರಸ್ನ ಪರಿಣಾಮವನ್ನು ನಿಭಾಯಿಸಲು ಸಹಾಯ ಮಾಡುವ ಉದ್ದೇಶವನ್ನು ಹೊಂದಿದೆ ಎಂದು ಸಾರಿಗೆ ಕಾರ್ಯದರ್ಶಿ ಗ್ರಾಂಟ್ ಶಾಪ್ಸ್ ಅವರಿಗೆ ಬರೆದ ಪತ್ರದಲ್ಲಿ ಆರ್ಎಂಟಿ ಪ್ರಧಾನ ಕಾರ್ಯದರ್ಶಿ ಮಿಕ್ ಕ್ಯಾಶ್ ಸೇರಿಸಲಾಗಿದೆ ಇದು ಸ್ಪಷ್ಟವಾಗಿದೆ ಮತ್ತು ನಮ್ಮ ಸದಸ್ಯರು ತಮ್ಮಷ್ಟಕ್ಕೇ ಆರೋಗ್ಯ ಮತ್ತು ಯೋಗಕ್ಷೇಮವನ್ನು ನಿಭಾಯಿಸುತ್ತಿದ್ದಾರೆ ಆದರೆ ಪ್ರಯಾಣಿಕ ಸಾರ್ವಜನಿಕ ಉದ್ಯೋಗದಾತರು ಸಿಬ್ಬಂದಿಗಳು ಆರೋಗ್ಯ ಸಲಹೆಯನ್ನು ತೆಗೆದುಕೊಳ್ಳಲು ಸಮರ್ಥರಾಗಿದ್ದಾರೆ ಎಂದು ಖಚಿತಪಡಿಸಿಕೊಳ್ಳಲು ಕಾಳಜಿಯ ಕರ್ತವ್ಯವನ್ನು ಹೊಂದಿದ್ದಾರೆ ಎಂದು ತುರ್ತು ವಿಷಯವಾಗಿ ಸಾರಿಗೆ ಇಲಾಖೆಯಿಂದ ಸ್ಥಿರವಾದ ಸಲಹೆಯನ್ನು ನೀಡಲಾಗುತ್ತದೆ ಟೂರ್ ಬಸ್ ಗೈಡ್ ಆಗಿ ಕೆಲಸ ಮಾಡುತ್ತಿರುವ ಮಹಿಳೆಯೊಬ್ಬರು ಎರಡನೇ ಬಾರಿಗೆ ಕರೋನವೈರಸ್ಗೆ ಧನಾತ್ಮಕ ಪರೀಕ್ಷೆ ನಡೆಸಿದ ನಂತರ ಈ ಸುದ್ದಿ ಬಂದಿದೆ ಬುಧವಾರ ಅವರು ಒಸಾಕಾದಲ್ಲಿ ಎರಡನೇ ಬಾರಿಗೆ ಕರೋನವೈರಸ್ಗೆ ಧನಾತ್ಮಕ ಪರೀಕ್ಷೆ ನಡೆಸಿದರು ಡೈಮಂಡ್ ಪ್ರಿನ್ಸೆಸ್ ಕ್ರೂಸ್ ಹಡಗಿನಲ್ಲಿ ಸುಮಾರು ಜನರಿಗೆ ವೈರಸ್ ಇರುವುದು ಪತ್ತೆಯಾಗಿದೆ ಎಂದು ಹೇಳಿದರು ಇದನ್ನು ಜಪಾನ್ ನಿಂದ ನಿರ್ಬಂಧಿಸಲಾಗಿದೆ ಈಗ ರೋಗಲಕ್ಷಣಗಳನ್ನು ತೋರಿಸಲಾಗುತ್ತಿದೆ ಎಡಿನ್ಬರ್ಗ್ ವಿಶ್ವವಿದ್ಯಾಲಯದ ಪಶುವೈದ್ಯಕೀಯ ಸಾಂಕ್ರಾಮಿಕ ರೋಗಶಾಸ್ತ್ರ ಮತ್ತು ದತ್ತಾಂಶ ವಿಜ್ಞಾನದ ಪ್ರಾಧ್ಯಾಪಕ ಪ್ರೊ ರೋಲ್ಯಾಂಡ್ ಕಾವೊ ಅವರು ತಪ್ಪಾಗಿ ರೋಗನಿರ್ಣಯ ಮಾಡುವ ಸಾಧ್ಯತೆ ಇದೆ ಎಂದು ಹಿಸಿದರೆ ಪ್ರಕಟವಾದ ವರದಿಗಳಿಂದ ಇದು ಇನ್ನೂ ಸ್ಪಷ್ಟವಾಗಿಲ್ಲ ಭಾಗಶಃ ತೆರವುಗೊಳಿಸಿರಬಹುದು ಅಥವಾ ಬಹುಶಃ ಸುಪ್ತವಾಗಬಹುದು ಸೋಂಕು ಆದರೆ ಪ್ರೊಫೆಸರ್ ಪಾಲ್ ಹಂಟೆ ಈಸ್ಟ್ ಆಂಗ್ಲಿಯಾ ಮೆಡಿಸಿನ್ ವಿಶ್ವವಿದ್ಯಾಲಯದ ಪ್ರಾಧ್ಯಾಪಕ ಯುಇಎ ಹೆಚ್ಚಿನ ಮಾಹಿತಿ ಲಭ್ಯವಾಗುವವರೆಗೆ ಯಾವುದೇ ಆತುರದ ನಿರ್ಧಾರಗಳನ್ನು ತೆಗೆದುಕೊಳ್ಳದಂತೆ ಎಚ್ಚರಿಕೆ ನೀಡಿದೆ ಕರೋನವೈರಸ್ ಸಾವಿನ ಸಂಖ್ಯೆ ದಕ್ಷಿಣ ಕೊರಿಯಾವನ್ನು ಸಮೀಪಿಸುತ್ತಿರುವುದರಿಂದ ಮೈಕ್ರೋಸಾಫ್ಟ್ ನಂತಹ ಆರ್ಥಿಕ ಎಚ್ಚರಿಕೆಗಳು ಮತ್ತು ಆಸ್ಟ್ರೇಲಿಯಾದಲ್ಲಿ ತುರ್ತು ಪ್ರತಿಕ್ರಿಯೆ ಯೋಜನೆಯನ್ನು ಪ್ರಾರಂಭಿಸುವುದರಿಂದ ಗುರುವಾರ ಬೆಳಿಗ್ಗೆ ಒಂದು ಸೌಕರ್ಯವನ್ನು ಸಹ ಕಂಡುಹಿಡಿಯುವುದು ಕಷ್ಟಕರವಾಗಿತ್ತು ಮೈಕ್ ಪೆನ್ಸ್ ಅವರ ನೀತಿಗಳು ಇಂಡಿಯಾನಾದ ಕೆಟ್ಟ ಎಚ್ ಐವಿ ಏಕಾಏಕಿ ಬಿಕ್ಕಟ್ಟಿನ ಉತ್ತುಂಗಕ್ಕೆ ಕಾರಣವಾಗಲು ಸಹಾಯ ಮಾಡಿತು ಆದರೆ ರಲ್ಲಿ ಅನ್ನು ಕರೋನವೈರಸ್ ಗೆ ಯುಎಸ್ ಪ್ರತಿಕ್ರಿಯೆಯ ಉಸ್ತುವಾರಿ ವಹಿಸಲಾಗಿದೆ ಎಂಬುದು ಹೂಡಿಕೆದಾರರಿಗೆ ಒಂದು ಪ್ರಮುಖ ಅಂಶವಾಗಿದೆ ಎಂಬುದು ಬುಧವಾರ ಅಧ್ಯಕ್ಷರ ಅನುಮಾನಾಸ್ಪದ ಆಯ್ಕೆಯಾಗಿದೆ ಅಮೆರಿಕದ ಪ್ರಕರಣಗಳ ಉಲ್ಬಣವು ದೇಶವನ್ನು ಆರ್ಥಿಕ ಹಿಂಜರಿತಕ್ಕೆ ಒತ್ತಾಯಿಸುತ್ತದೆ ಎಂದು ಮಾಜಿ ಫೆಡ್ ಕುರ್ಚಿ ಜಾನೆಟ್ ಯೆಲೆನ್ ಹಿಸಿದಾಗಿನಿಂದ ಮಾರುಕಟ್ಟೆಯ ಇಚ್ ೆಯ ವಿಷಯದಲ್ಲಿ ರಾತ್ರಿಯು ತುಂಬಾ ಅಸಹ್ಯಕರವಾಗಿದೆ ಕೌಲಾಲಂಪುರ್ ರಾಯಿಟರ್ಸ್ ಮಲೇಷ್ಯಾ ಸಂಸತ್ತು ಸೋಮವಾರ ಪ್ರಧಾನ ಮಂತ್ರಿಯ ಹೊಸ ಅಭ್ಯರ್ಥಿಯ ಮೇಲೆ ಮತ ಚಲಾಯಿಸಲಿದೆ ಮತ್ತು ಯಾರೂ ಬಹುಮತದ ಬೆಂಬಲವನ್ನು ಗೆಲ್ಲಲು ಸಾಧ್ಯವಾಗದಿದ್ದರೆ ಶೀಘ್ರ ಚುನಾವಣೆ ನಡೆಯಲಿದೆ ಎಂದು ಮಧ್ಯಂತರ ಪ್ರಧಾನಿ ಮಹಾತಿರ್ ಮೊಹಮದ್ ಗುರುವಾರ ಮಲೇಷ್ಯಾದ ಮಧ್ಯಂತರ ಪ್ರಧಾನಿ ಮಹಾತಿರ್ ಮೊಹಮದ್ ಸುದ್ದಿಗೋಷ್ಠಿಯಲ್ಲಿ ಮಾತನಾಡಿದರು ಪುತ್ರಜಯ ಮಲೇಷ್ಯಾದಲ್ಲಿ ಫೆಬ್ರವರಿ ಮಹಾತಿರ್ ಅವರು ಪ್ರಧಾನ ಮಂತ್ರಿಯಾಗಲು ಯಾವುದೇ ಅಭ್ಯರ್ಥಿಯು ಸಾಕಷ್ಟು ಬೆಂಬಲವನ್ನು ನೀಡಿಲ್ಲ ಎಂದು ರಾಜ ಹೇಳಿದ ನಂತರ ಪ್ರಧಾನ ಮಂತ್ರಿಯ ಆಯ್ಕೆ ಸಂಸತ್ತಿಗೆ ಹೋಗುತ್ತದೆ ಎಂದು ಹೇಳಿದರು ಮಹಾತಿರ್ ಅವರ ರಾಜೀನಾಮೆ ಅನ್ವರ್ ಅವರೊಂದಿಗಿನ ಒಕ್ಕೂಟವನ್ನು ಮುರಿದು ಎರಡು ವರ್ಷಗಳ ಕಾಲ ಅಚ್ಚರಿಯ ಚುನಾವಣಾ ಗೆಲುವು ಸಾಧಿಸಿತು ಹಿಂದೆ ರಿಂದ ಮಲೇಷ್ಯಾವನ್ನು ಆಳಿದ ನಾಯಕನನ್ನು ಅಧಿಕಾರಕ್ಕೆ ತಂದುಕೊಟ್ಟರು ಅವರು ಒಂದು ದಿನ ಅನ್ವರ್ ಗೆ ಹಸ್ತಾಂತರಿಸುವುದಾಗಿ ಭರವಸೆ ನೀಡಿದರು ಲಿಮ್ ಹ್ಯೂಯಿ ತೆಂಗ್ಅನ್ವಾರ್ ಮಹಾತಿರ್ ಅವರ ಉಪ ಮತ್ತು ಮಹಾತಿರ್ ಮೊದಲ ಬಾರಿಗೆ ಪ್ರಧಾನಿಯಾಗಿದ್ದಾಗ ಉದಯೋನ್ಮುಖ ರಾಜಕೀಯ ತಾರೆ ಆದರೆ ಅವರು ಹೊರನಡೆದರು ಮಾರಾಟವು ಕುಸಿಯುತ್ತಿದ್ದಂತೆ ರಲ್ಲಿ ಆಯ್ಸ್ಟನ್ ಮಾರ್ಟಿನ್ ನಷ್ಟವು ವಿಸ್ತರಿಸಿತು ಮತ್ತು ಫ್ಯಾಶನ್ ಮೊಗಲ್ ಲಾರೆನ್ಸ್ ಸ್ಟ್ರೋಲ್ ನೇತೃತ್ವದ ಬೇಲ್ ಟ್ಗಾಗಿ ಹೆಣಗಾಡುತ್ತಿರುವ ಕಾರು ತಯಾರಕರ ಅಗತ್ಯವನ್ನು ಒತ್ತಿಹೇಳುವ ಕೊರೊನಾವೈರಸ್ ಏಕಾಏಕಿ ಸಂಭವನೀಯ ಅಡ್ಡಿ ಉಂಟಾಗುತ್ತದೆ ಎಂದು ಎಚ್ಚರಿಸಿದೆ ವಿತರಕರು ಹೊಂದಿರುವ ಕಾರುಗಳ ಸಂಖ್ಯೆ ಮತ್ತು ಕೋವಿಡ್ ಏಕಾಏಕಿ ಅದರ ಪೂರೈಕೆ ಸರಪಳಿ ಮತ್ತು ಮಾರಾಟವನ್ನು ಹೊಡೆಯಬಹುದು ಎಂದು ಎಚ್ಚರಿಸಿದೆ ರಲ್ಲಿ ಆಸ್ಟನ್ ಮಾರ್ಟಿನ್ ಅವರ ಚೀನೀ ಮಾರಾಟವು ರಷ್ಟು ಏರಿಕೆಯಾಗಿದೆ ಮತ್ತು ಯುಕೆ ಮತ್ತು ಯುರೋಪ್ನಲ್ಲಿನ ಮಾರಾಟವು ಚೀನಾದ ಅನೇಕ ಭಾಗಗಳಲ್ಲಿನ ಸಂಪರ್ಕತಡೆಯನ್ನು ಸೂಚಿಸುತ್ತದೆ ಇತ್ತೀಚಿನ ಜೇಮ್ಸ್ ಬಾಂಡ್ ಚಲನಚಿತ್ರ ಆಸ್ಟನ್ ಮಾರ್ಟಿನ್ ನಲ್ಲಿ ಕಾಣಿಸಿಕೊಂಡಿರುವ ಮೂರು ಕಾರುಗಳೊಂದಿಗೆ ಮಾರ್ಕೆಟಿಂಗ್ ವರ್ಧಕವನ್ನು ಹೊಂದಿದ್ದರೂ ಸಹ ಕಾರ್ ತಯಾರಕರ ಆದಾಯದ ಮೇಲೆ ಹೆಚ್ಚಿನ ತೂಕವನ್ನು ಹೊಂದಿರಿ ಚೀನಾ ಮತ್ತು ಇತರ ಮಾರುಕಟ್ಟೆಗಳಲ್ಲಿ ಪೂರೈಕೆ ಸರಪಳಿ ಮತ್ತು ಗ್ರಾಹಕರ ಬೇಡಿಕೆಯ ಮೇಲೆ ಪರಿಣಾಮ ಬೀರುವ ಸಾಮರ್ಥ್ಯವನ್ನು ಕೋವಿಡ್ ಹೊಂದಿದೆ ಎಂದು ಹೇಳಿದರು ಮೈಕೆಲ್ ಕಾರ್ಸ್ ನಂತಹ ಫ್ಯಾಶನ್ ಬ್ರ್ಯಾಂಡ್ ಗಳನ್ನು ಬೆಂಬಲಿಸಿದ ಕೆನಡಾದ ಬಿಲಿಯನೇರ್ ಸ್ಟ್ರೋಲ್ ನೇತೃತ್ವದ ಸಂಚಿಕೆ ಸಂಪೂರ್ಣ ಬದ್ಧವಾಗಿದೆ ಮತ್ತು ಕಾರು ತಯಾರಕನಿಗೆ ಪ್ರತಿ ಷೇರಿಗೆ ರಂತೆ ಅಂಡರ್ರೈಟ್ ಮಾಡಲಾಗಿದೆ ಜನವರಿ ಅಂತ್ಯದಲ್ಲಿ ಬೇಲ್ ಟ್ ಘೋಷಣೆಯಾದ ನಂತರ ಆಯ್ಸ್ಟನ್ ಮಾರ್ಟಿನ್ ಷೇರುಗಳ ಬೆಲೆ ಆ ಮಟ್ಟಕ್ಕಿಂತ ಕಡಿಮೆಯಾಗಿದ್ದರೂ ಘೋಷಿಸಲಾಗಿದೆ ಇರಾಕ್ ಮತ್ತು ಕುವೈತ್ ಏಕಾಏಕಿ ತಡೆಗಟ್ಟಲು ಶಾಲೆಗಳನ್ನು ಮುಚ್ಚಿದೆ ಎಂದು ಬೈರುತ್ ನಲ್ಲಿ ಕ್ಲೋ ಕಾರ್ನಿಷ್ ಮತ್ತು ದುಬೈನ ಸಿಮಿಯೋನ್ ಕೆರ್ ವರದಿ ಮಾಡಿದ್ದಾರೆ ಇರಾಕ್ ಮತ್ತು ಕುವೈತ್ ಶಿಕ್ಷಣ ಸಂಸ್ಥೆಗಳನ್ನು ಮುಚ್ಚುತ್ತಿವೆ ಏಕೆಂದರೆ ಮಧ್ಯಪ್ರಾಚ್ಯದ ಅಧಿಕಾರಿಗಳು ವೇಗವಾಗಿ ಹರಡುವ ಕರೋನವೈರಸ್ ಶಾಲೆಗಳು ಮತ್ತು ವಿಶ್ವವಿದ್ಯಾಲಯಗಳನ್ನು ಮಾರ್ಚ್ ರವರೆಗೆ ಮುಚ್ಚಲಾಗುತ್ತಿದೆ ಏತನ್ಮಧ್ಯೆ ಏಕಾಏಕಿ ಎದುರಿಸುತ್ತಿರುವ ದೇಶಗಳಿಂದ ಪ್ರಜೆಗಳನ್ನು ಸ್ಥಳಾಂತರಿಸಲು ಮತ್ತು ಅವರನ್ನು ಸಂಪರ್ಕತಡೆಗೆ ಒಳಪಡಿಸಲು ಕುವೈತ್ ಕೆಲಸ ಮಾಡುತ್ತಿದೆ ಸೌದಿ ಅರೇಬಿಯಾ ಉಮ್ರಾ ಯಾತ್ರಿಗಳನ್ನು ರಾಜ್ಯಕ್ಕೆ ನಿಷೇಧಿಸುವುದಾಗಿ ಘೋಷಿಸುವುದರ ಜೊತೆಗೆ ವೈರಸ್ ಪೀಡಿತ ದೇಶಗಳಿಂದ ಪ್ರವಾಸಿ ವೀಸಾಗಳಿಗೆ ಪ್ರವೇಶವನ್ನು ನಿರ್ಬಂಧಿಸುತ್ತದೆ ಚೀನಾ ಇರಾನ್ ಇಟಲಿ ಪಾಕಿಸ್ತಾನ ದಕ್ಷಿಣ ಕೊರಿಯಾ ಜಪಾನ್ ಮತ್ತು ಸಿಂಗಾಪುರ ಸೇರಿದಂತೆ ಕ್ಕೂ ಹೆಚ್ಚು ದೇಶಗಳ ವೀಸಾಗಳೊಂದಿಗೆ ಸೌದಿ ಪ್ರಯಾಣಿಕರನ್ನು ಸ್ವೀಕರಿಸುವುದಿಲ್ಲ ಎಂದು ಸರ್ಕಾರಿ ಸ್ವಾಮ್ಯದ ವಾಹಕವು ಘೋಷಿಸಿದೆ ಪ್ರಿನ್ಸ್ ಜಾರ್ಜ್ ಮತ್ತು ಪ್ರಿನ್ಸೆಸ್ ಷಾರ್ಲೆಟ್ ಶಾಲೆಯಲ್ಲಿನ ವಿದ್ಯಾರ್ಥಿಗಳು ಉತ್ತರ ಇಟಲಿಯನ್ನು ಕರೋನವೈರಸ್ನಿಂದ ಹಿಂದಿರುಗಿದ ನಂತರ ಸ್ವಯಂ ಪ್ರತ್ಯೇಕತೆ ಹೊಂದಿದವರಲ್ಲಿ ಸೇರಿದ್ದಾರೆ ಇಟಲಿಯಲ್ಲಿ ವೈರಸ್ ಹರಡಿದ ನಂತರ ಯುಕೆನಾದ್ಯಂತ ಹಲವಾರು ಶಾಲೆಗಳು ಮುಚ್ಚಲ್ಪಟ್ಟಿವೆ ರೋಗಲಕ್ಷಣಗಳಂತಹ ಜ್ವರ ಕಾಣಿಸಿಕೊಂಡರೆ ಅನಾರೋಗ್ಯದ ಹರಡುವಿಕೆಯನ್ನು ತಡೆಯುವ ಕ್ರಮಗಳ ಭಾಗವಾಗಿ ಉತ್ತರ ಇಟಲಿಯ ಯುಕೆ ಅವರಿಗೆ ಸ್ವಯಂ ಪ್ರತ್ಯೇಕಿಸುವ ಅಗತ್ಯವಿರುತ್ತದೆ ಎಂದು ಕಿಡ್ಡರ್ ಮಿನಿಸ್ಟರ್ ನ ಕಂಟಿನ್ಯು ಪ್ಲಸ್ ಅಕಾಡೆಮಿ ಬುಧವಾರ ಸಿಬ್ಬಂದಿಯೊಬ್ಬರು ಇದ್ದ ನಂತರ ಅದನ್ನು ಮುಚ್ಚಲಾಗಿದೆ ಎಂದು ಹೇಳಿದರು ಉತ್ತರ ಇಟಲಿಗೆ ಪ್ರವಾಸದ ನಂತರ ಸ್ವಯಂ ಪ್ರತ್ಯೇಕವಾಗಿದ್ದ ಕುಟುಂಬ ಸದಸ್ಯರೊಂದಿಗಿನ ನಿಕಟ ಸಂಪರ್ಕ ಇಟಲಿ ವಿರುದ್ಧ ಸಿಕ್ಸ್ ನೇಷನ್ಸ್ ರಗ್ಬಿ ಪಂದ್ಯವನ್ನು ಮುಂದೂಡುವ ನಿರ್ಧಾರವನ್ನು ಐರಿಶ್ ಆರೋಗ್ಯ ಸಚಿವ ಸೈಮನ್ ಹ್ಯಾರಿಸ್ ಅವರೊಂದಿಗಿನ ಸಭೆಯ ನಂತರ ಮಾಡಲಾಗಿದೆ ಎಂದು ಯೂನಿಯನ್ ಹೇಳಿದೆ ತಮ್ಮ ವಿಶ್ವಕಪ್ ಅಭಿಯಾನವನ್ನು ಚಂಡಮಾರುತದಿಂದ ಬೀಸಿದ ಬಗ್ಗೆ ಇಂಗ್ಲೆಂಡ್ ನ ಪ್ರತಿಕ್ರಿಯೆ ಅವರು ಯಾವುದೇ ಕರೋನವೈರಸ್ ಅಡ್ಡಿಗಳನ್ನು ನಿಭಾಯಿಸಬಲ್ಲದು ಎಂದು ಮನವರಿಕೆ ಮಾಡಿಕೊಟ್ಟಿದೆ ಎಂದು ಜೇಮಿ ಜಾರ್ಜ್ ಹೇಳಿದ್ದಾರೆ ಶನಿವಾರ ಇಟಲಿ ವಿರುದ್ಧ ಐರ್ಲೆಂಡ್ ನ ಹೋಮ್ ಸಿಕ್ಸ್ ನೇಷನ್ಸ್ ಪಂದ್ಯವನ್ನು ಮುಂದೂಡುವ ಐರಿಶ್ ಸರ್ಕಾರದ ನಿರ್ಧಾರವು ಶನಿವಾರದಂದು ಹೆಚ್ಚಾಗುತ್ತದೆ ಏಳು ದಿನಗಳ ನಂತರ ಇಟಲಿಯಲ್ಲಿ ನಡೆದ ಇಂಗ್ಲೆಂಡ್ ಪಂದ್ಯದ ಮೇಲೆ ಪ್ಲಗ್ ಅನ್ನು ಎಳೆಯಲಾಗಿದ್ದು ಹಗೀಬಿಸ್ ಜನರನ್ನು ಕೊಂದರು ಪೂರ್ವ ಜಪಾನ್ ನಾದ್ಯಂತ ದುರಂತದ ವಿನಾಶಕ್ಕೆ ಕಾರಣರಾದರು ಮತ್ತು ಫ್ರಾನ್ಸ್ ವಿರುದ್ಧದ ಇಂಗ್ಲೆಂಡ್ ನ ಪೂಲ್ ಘರ್ಷಣೆಯನ್ನು ರದ್ದುಗೊಳಿಸಲು ವಿಶ್ವಕಪ್ ಸಂಘಟಕರು ಕಾರಣರಾದರು ಜೋನ್ಸ್ ಮತ್ತೆ ಫಿಟ್ ಅನ್ನು ಇಂಗ್ಲೆಂಡ್ ಜೋಡಿ ಆಂಥೋನಿ ವ್ಯಾಟ್ಸನ್ ಮತ್ತು ಮಾರ್ಕ್ ವಿಲ್ಸನ್ ತಂಡಕ್ಕೆ ಪುನಃಸ್ಥಾಪಿಸಿದ್ದಾರೆ ಇದು ಆಕ್ಸ್ಫರ್ಡ್ಶೈರ್ನಲ್ಲಿ ಈ ಸಿಕ್ಸ್ ನೇಷನ್ಸ್ ಫಾಲೋ ವಾರ ತರಬೇತಿಯನ್ನು ಕಳೆಯುತ್ತಿದೆ ಬೆನ್ ಪಾಲಿಂಗ್ ತನ್ನ ಮುಖ್ಯ ಚೆಲ್ಟೆನ್ಹ್ಯಾಮ್ ಉತ್ಸವದ ಸ್ಪರ್ಧಿ ಗ್ಲೋಬಲ್ ಸಿಟಿಜನ್ ಗಾಗಿ ಹವಾಮಾನ ಮುನ್ಸೂಚನೆಯನ್ನು ಮೇಲ್ವಿಚಾರಣೆ ಮಾಡುತ್ತಿದ್ದಾನೆ ಎಂಟು ವರ್ಷದವನು ಮಾರ್ಚ್ ರಂದು ರೇಸಿಂಗ್ ಪೋಸ್ಟ್ ಆರ್ಕಲ್ ಚೇಸ್ ನಲ್ಲಿ ಓಡಲಿದ್ದಾನೆ ಕಳೆದ ವರ್ಷದ ಚಾಂಪಿಯನ್ ಹರ್ಡಲ್ ನಲ್ಲಿ ನಿರಾಶಾದಾಯಕವಾದ ನಂತರ ಗ್ರೇಡ್ ಒನ್ ಮಟ್ಟದಲ್ಲಿ ತನ್ನ ಮೊದಲ ಓಟದ ಸ್ಪರ್ಧೆ ನಡೆಯುತ್ತಿದೆ ಚಾಂಪಿಯನ್ ದಿನದಂದು ಟೇಪ್ ಗಳು ಹೆಚ್ಚಾಗುತ್ತಿದ್ದಂತೆ ಇದು ಮೃದುವಾಗಿರಬಹುದೆಂದು ನಿರೀಕ್ಷಿಸಲಾಗಿದೆ ಅದು ತುಂಬಾ ಮೃದುವಾದರೆ ನಾನು ಅದನ್ನು ತಿರುಗಿಸಿ ಐನ್ ಟ್ರೀ ಪಾಲಿಂಗ್ ಗೆ ಹೋಗುತ್ತೇನೆ ಶಾಟ್ ಜಾಗತಿಕ ನಾಗರಿಕ ನಾಗರಿಕ ಅಲ್ಕಾಡೆಮ್ ಮಗ ಗ್ರೇಡ್ ಗೆದ್ದನು ಕ್ರಿಸ್ ಮಸ್ ರೂಪದ ಮೇಲೆ ಕೆಂಪ್ಟನ್ ನಲ್ಲಿ ಎರಡು ಲ್ಯಾಡ್ ಬ್ರೋಕ್ಸ್ ವೇವರ್ಡ್ ಲಾಡ್ ನೊವೀಸ್ ಚೇಸ್ ಇದನ್ನು ರನ್ನರ್ ಅಪ್ ರೂಜ್ ವಿಫ್ ಅವರು ಸ್ಪಷ್ಟಪಡಿಸಿದ್ದಾರೆ ಕರೋನವೈರಸ್ನ ಎರಡು ಹೊಸ ಪ್ರಕರಣಗಳು ಇಂಗ್ಲೆಂಡ್ನಲ್ಲಿ ಒಟ್ಟು ಕ್ಕೆ ತಂದುಕೊಟ್ಟಿವೆ ಎಂದು ಆರೋಗ್ಯ ಇಲಾಖೆ ತಿಳಿಸಿದೆ ಸೋಂಕಿತರಲ್ಲಿ ಒಬ್ಬರು ಇಟಲಿಯಲ್ಲಿ ವೈರಸ್ ಅನ್ನು ಸೆಳೆದರೆ ಇನ್ನೊಬ್ಬರು ಅದನ್ನು ಟೆನೆರೈಫ್ನಲ್ಲಿ ತೆಗೆದುಕೊಂಡರು ಕ್ಯಾನರಿ ದ್ವೀಪಗಳಿಗೆ ಏತನ್ಮಧ್ಯೆ ಪೋಷಕರು ಕರೋನವೈರಸ್ ಅನ್ನು ಸಂಕುಚಿತಗೊಳಿಸಿದ ನಂತರ ಡರ್ಬಿಶೈರ್ನ ಶಾಲೆಯನ್ನು ಮುಚ್ಚಲಾಗಿದೆ ಆದರೆ ಈ ಪ್ರಕರಣವನ್ನು ಆರೋಗ್ಯ ಇಲಾಖೆಯಿಂದ ತಕ್ಷಣವೇ ದೃ ೀಕರಿಸಲಾಗಿಲ್ಲ ಟ್ರಂಪ್ ಕೊರೊನಾವೈರಸ್ ಬೆದರಿಕೆ ಮತ್ತು ಕಾರ್ಯಗಳನ್ನು ಮೈಕ್ ಪೆನ್ಸ್ ಮೇಲ್ವಿಚಾರಣೆಯೊಂದಿಗೆ ಕಡಿಮೆ ಮಾಡಿದ್ದಾರೆ ಡೊನಾಲ್ಡ್ ಟ್ರಂಪ್ ಬುಧವಾರ ರಾತ್ರಿ ಶ್ವೇತಭವನದ ಪತ್ರಿಕಾಗೋಷ್ಠಿಯಲ್ಲಿ ಕೊರೊನಾವೈರಸ್ ಎದುರಿಸುತ್ತಿರುವ ಬೆದರಿಕೆಯನ್ನು ಕಡಿಮೆ ಮಾಡಲು ಪ್ರಯತ್ನಿಸಿದರು ಆಡಳಿತದ ಪ್ರತಿಕ್ರಿಯೆ ಟ್ರಂಪ್ ತನ್ನ ಆಡಳಿತವನ್ನು ಜಾನ್ಸ್ ಹಾಪ್ಕಿನ್ಸ್ ವಿಶ್ವವಿದ್ಯಾಲಯದ ಸಾಂಕ್ರಾಮಿಕ ರೋಗವನ್ನು ಎದುರಿಸಲು ಉತ್ತಮವಾಗಿ ಸಿದ್ಧಪಡಿಸಿದ ದೇಶಗಳ ಅಧ್ಯಯನವನ್ನು ವೈರಸ್ ಅನ್ನು ಎದುರಿಸಲು ಬಹಳ ಸಿದ್ಧ ಎಂದು ಬಣ್ಣಿಸಿದ್ದಾರೆ ಅಧ್ಯಕ್ಷರ ಹೊಳಪಿನ ಆಶಾವಾದವು ತನ್ನ ಶತ್ರುಗಳ ಮೇಲೆ ದಿ ನ್ಯೂ ಅನ್ನು ಪ್ರತ್ಯೇಕವಾಗಿ ಹೊಡೆಯುವುದು ಸಾಮಾನ್ಯವಾಗಿದೆ ಟೀಕೆಗೆ ಯಾರ್ಕ್ ಟೈಮ್ಸ್ ಅವರು ಮಾನನಷ್ಟ ಮೊಕದ್ದಮೆ ಹೂಡಿದ್ದಾರೆ ಮತ್ತು ಹೌಸ್ ಸ್ಪೀಕರ್ ನ್ಯಾನ್ಸಿ ಪೆಲೋಸಿ ಅವರನ್ನು ಬೆದರಿಸುತ್ತಿದ್ದಾರೆ ಮತ್ತು ಭಯಭೀತರಾಗಲು ಪ್ರಯತ್ನಿಸುತ್ತಿದ್ದಾರೆ ಎಂದು ಪೆಲೋಸಿ ಹಿಂದಿನ ದಿನ ಅವರ ಪ್ರತಿಕ್ರಿಯೆಯನ್ನು ನಾಚಿಕೆಗೇಡಿನಂತೆ ಕರೆದರು ಮತ್ತು ಅಧ್ಯಕ್ಷರು ತಾವು ಏನು ಮಾತನಾಡುತ್ತಿದ್ದಾರೆಂದು ತಿಳಿದಿದ್ದಾರೆಂದು ಅವರು ಭಾವಿಸುವುದಿಲ್ಲ ಕ್ಯಾಲಿಫೋರ್ನಿಯಾ ಸಿಟ್ ನಂತರ ಸ್ಥಳೀಯರಿಗೆ ಧೈರ್ಯ ತುಂಬಲು ಸ್ಯಾನ್ ಫ್ರಾನ್ಸಿಸ್ಕೋದ ಚೈನಾಟೌನ್ ಜಿಲ್ಲೆಗೆ ಭೇಟಿ ನೀಡಿದ ನಂತರ ಸಂಚಿಕೆ ವೈ ತುರ್ತು ಪರಿಸ್ಥಿತಿಯನ್ನು ಘೋಷಿಸಿದರು ಸ್ಪೀಕರ್ ಪೆಲೋಸಿ ಅವರ ಅಸಮರ್ಥ ಟ್ರಂಪ್ ಹಿಡಿತದಲ್ಲಿದ್ದಾರೆ ಎಂದು ನಾನು ಭಾವಿಸುತ್ತೇನೆ ಹರಡುವಿಕೆ ಮತ್ತು ಸ್ಟಟರ್ ಮಾರ್ಕೆಟ್ ಗಳು ಕೋವಿಡ್ ರ ಪರಿಣಾಮಗಳಿಗೆ ತುತ್ತಾಗುತ್ತವೆ ಮಾರುಕಟ್ಟೆ ಪ್ರಕ್ಷುಬ್ಧತೆಯು ಆರ್ಥಿಕ ಅಡೆತಡೆಯನ್ನು ಹೆಚ್ಚಿಸುತ್ತದೆ ಅಮೆರಿಕಾ ಜಾಗತಿಕ ಬಂಡವಾಳದ ಕೇಂದ್ರವು ಆರ್ಥಿಕ ವಿಸ್ತರಣೆಯವರೆಗೆ ಮತ್ತು ಬುಲ್ ಮಾರುಕಟ್ಟೆ ಹೂಡಿಕೆದಾರರು ಎರಡು ಸಂಘರ್ಷದ ಪ್ರಚೋದನೆಗಳನ್ನು ಅನುಭವಿಸಿದಾಗ ಎರಡು ಚಿಂತೆಗಳು ಮನಸ್ಸಿನ ಮೇಲ್ಭಾಗದಲ್ಲಿವೆ ಕಡಿಮೆ ಚಂಚಲತೆ ಮತ್ತು ದಿಕೊಂಡ ಕ್ರೆಡಿಟ್ ಮಾರುಕಟ್ಟೆಗಳ ಮೇಲೆ ಅವಲಂಬಿತವಾಗಿರುವ ಹಣಕಾಸು ಸಾಧನಗಳ ಅಪಾರದರ್ಶಕ ಕಟ್ಟಡವು ಒಂದು ದೊಡ್ಡ ಚಿಂತೆ ಕ್ರೆಡಿಟ್ ಮಾರುಕಟ್ಟೆಗಳು ಮತ್ತು ನಿರ್ದಿಷ್ಟವಾಗಿ ಕಳೆದ ದಶಕದಲ್ಲಿ ಗಗನಕ್ಕೇರಿರುವ ಕಾರ್ಪೊರೇಟ್ ಸಾಲ ಕಾಗದವು ಶೇಕಡಾವಾರು ಬಿಂದುಗಳಿಗೆ ವಿಸ್ತರಿಸಿದೆ ಇಂಧನ ವಲಯದ ಬಾಂಡ್ ಗಳು ಅನುಭವಿಸಿದ ಹೆಚ್ಚಿನ ಪ್ರಭಾವವು ಚಾರ್ಟ್ ನೋಡಿ ಮಾಸ್ಕೋ ರಾಯಿಟರ್ಸ್ ಪ್ರಾಣಿಗಳ ಹಕ್ಕುಗಳ ಪ್ರಚಾರಕರು ಕ್ರೂರ ಮತ್ತು ವೈಜ್ಞಾನಿಕವಾಗಿ ಆಧಾರರಹಿತವೆಂದು ಘೋಷಿಸಿದ ಹೊಸ ಕರೋನವೈರಸ್ ಕ್ರಮಗಳ ವಿರುದ್ಧ ಮುನ್ನೆಚ್ಚರಿಕೆಯಾಗಿ ಮಾಸ್ಕೋ ಅಧಿಕಾರಿಗಳು ದಾರಿತಪ್ಪಿ ಪ್ರಾಣಿಗಳನ್ನು ಸುತ್ತುವರೆದಿದ್ದಾರೆ ಮತ್ತು ಇಲಿಗಳನ್ನು ನಿರ್ನಾಮ ಮಾಡುತ್ತಿದ್ದಾರೆ ರಷ್ಯಾದಾದ್ಯಂತ ನೂರಾರು ಜನರನ್ನು ನಿರ್ಬಂಧಿಸಲಾಗಿದೆ ಮತ್ತು ಮಾಸ್ಕೋದ ಅಧಿಕಾರಿಗಳು ಸಂಭಾವ್ಯ ವಾಹಕಗಳ ಮೇಲೆ ದಾಳಿ ನಡೆಸಿದ್ದಾರೆ ವೈರಸ್ ಮತ್ತು ಮೂಲೆಗುಂಪು ಕ್ರಮಗಳನ್ನು ಜಾರಿಗೊಳಿಸಲು ಮುಖ ಗುರುತಿಸುವಿಕೆ ತಂತ್ರಜ್ಞಾನವನ್ನು ಬಳಸಲಾಗಿದೆ ಬಾರ್ಕಿಂಗ್ ನ್ಯೂಸ್ ಪ್ರಾಣಿಗಳ ಬಗ್ಗೆ ಸುದ್ದಿಗಳನ್ನು ಒಳಗೊಂಡಿರುವ ರಷ್ಯಾದ ಮಾಧ್ಯಮವೊಂದು ದಾರಿತಪ್ಪಿ ನಾಯಿಗಳು ಮತ್ತು ಬೆಕ್ಕುಗಳ ವಿರುದ್ಧದ ಕ್ರಮವನ್ನು ಅವಿವೇಕಿ ಅವೈಜ್ಞಾನಿಕ ಮತ್ತು ಸರಳವಾಗಿ ಕ್ರೂರವೆಂದು ಘೋಷಿಸಿತು ಇದು ಮಾಸ್ಕೋ ಮೂಲದ ವೈರಾಲಜಿಸ್ಟ್ ನಿಕೊಲಾಯ್ ನಿಕಿಟಿನ್ ಅವರನ್ನು ಉಲ್ಲೇಖಿಸಿ ಯಾವುದೇ ಪುರಾವೆಗಳಿಲ್ಲ ದಾರಿತಪ್ಪಿ ನಾಯಿಗಳು ಮತ್ತು ಬೆಕ್ಕುಗಳು ಹೊಸ ಕರೋನವೈರಸ್ ಅನ್ನು ಸಂಕುಚಿತಗೊಳಿಸಬಹುದು ಅಥವಾ ತರುವಾಯ ಅದನ್ನು ಮಾಸ್ಕೋದಲ್ಲಿ ದಾರಿತಪ್ಪಿ ನಾಯಿಗಳು ಮತ್ತು ಬೆಕ್ಕುಗಳ ಹೆಚ್ಚಿನ ಜನಸಂಖ್ಯೆಯನ್ನು ಹೊಂದಿದ್ದವು ಆದರೆ ಅವು ಮಧ್ಯ ಮಾಸ್ಕೋದಲ್ಲಿ ಅಪರೂಪದ ದೃಶ್ಯವಾಗಿ ಮಾರ್ಪಟ್ಟಿವೆ ಆದರೂ ದಾರಿತಪ್ಪಿ ನಾಯಿಗಳ ಪ್ಯಾಕ್ ಗಳು ಕೆಲವೊಮ್ಮೆ ಕೇಂದ್ರದ ಹೊರಗೆ ಕಂಡುಬರುತ್ತವೆ ಹಣಕಾಸಿನ ಮೊದಲ ತ್ರೈಮಾಸಿಕದಲ್ಲಿ ಬೆಸ್ಟ್ ಬೈ ಉದ್ಯಮ ಆದಾಯವು ಬಿಲಿಯನ್ ನಿಂದ ಬಿಲಿಯನ್ ವರೆಗೆ ಫ್ಲಾಟ್ನ ರಿಂದ ರವರೆಗಿನ ಒಂದೇ ಅಂಗಡಿ ಮಾರಾಟದ ಬೆಳವಣಿಗೆಯನ್ನು ನಿರೀಕ್ಷಿಸುತ್ತದೆ ಮತ್ತು ರಿಂದ ರವರೆಗಿನ ಇಪಿಎಸ್ ಅನ್ನು ಸರಿಹೊಂದಿಸುತ್ತದೆ ಮತ್ತು ಇಪಿಎಸ್ ವರ್ಷಕ್ಕೆ ಬೆಸ್ಟ್ ಬೈ ಬಿಲಿಯನ್ ನಿಂದ ಬಿಲಿಯನ್ ಒಂದೇ ಅಂಗಡಿ ಮಾರಾಟದ ಬೆಳವಣಿಗೆಯನ್ನು ಫ್ಲಾಟ್ ನಿಂದ ಮತ್ತು ರಿಂದ ರವರೆಗೆ ಹೊಂದಿಸಿದ ಇಪಿಎಸ್ ಅನ್ನು ನಿರೀಕ್ಷಿಸುತ್ತದೆ ಫ್ಯಾಕ್ಟ್ ಸೆಟ್ ಮಾರ್ಗದರ್ಶನವು ಬಿಲಿಯನ್ ಅದೇ ಅಂಗಡಿ ಮಾರಾಟದ ಆದಾಯಕ್ಕಾಗಿ ರ ಬೆಳವಣಿಗೆ ಮತ್ತು ಬೆಸ್ಟ್ ಬೈ ಸ್ಟಾಕ್ನ ಇಪಿಎಸ್ ಕಳೆದ ವರ್ಷದಲ್ಲಿ ಗಳಿಸಿದೆ ಮತ್ತು ಎಸ್ಪಿ ಸೂಚ್ಯಂಕ ಎಸ್ಪಿಎಕ್ಸ್ ಈ ಅವಧಿಯಲ್ಲಿ ಏರಿಕೆಯಾಗಿದೆ ಚೀನಾದ ಹೊರಗಿನ ಕರೋನವೈರಸ್ ವೇಗವಾಗಿ ಹರಡುವುದು ಈ ವಾರ ಹಣಕಾಸು ಮಾರುಕಟ್ಟೆಗಳಲ್ಲಿ ಪ್ರಕ್ಷುಬ್ಧತೆಯನ್ನು ಉಂಟುಮಾಡಿದೆ ಎಂದು ಹೂಡಿಕೆದಾರರು ಹೇಳುತ್ತಾರೆ ಆಯ್ಕೆ ವ್ಯಾಪಾರಿಗಳ ಹೆಡ್ಜಿಂಗ್ ಚಟುವಟಿಕೆಯು ಅದನ್ನು ಇನ್ನಷ್ಟು ಹದಗೆಡಿಸಿರಬಹುದು ಎಂದು ಮಾರುಕಟ್ಟೆ ಚಂಚಲತೆ ಈ ವಾರ ಮತ್ತೆ ಘರ್ಜಿಸಿತು ದಿನಗಳ ಹಿಂದೆ ಎಸ್ ಪಿ ಆಗಸ್ಟ್ ರಿಂದ ಸೋಮವಾರ ಮತ್ತು ಮಂಗಳವಾರ ತನ್ನ ಅತಿದೊಡ್ಡ ಎರಡು ದಿನಗಳ ಸ್ಲೈಡ್ ಅನ್ನು ಅನುಭವಿಸಿತು ಆದರೆ ಪಟ್ಟಿಮಾಡಿದ ಆಯ್ಕೆಗಳ ಚಟುವಟಿಕೆ ಮಂಗಳವಾರ ಎರಡನೇ ಗರಿಷ್ಠ ಮಟ್ಟವನ್ನು ಮುಟ್ಟಿದೆ ಕರೋನವೈರಸ್ ಕಾರಣದಿಂದಾಗಿ ಬಾಸ್ಕೆಟ್ ಬಾಲ್ ಬಲ್ಗೇರಿಯಾದ ಚೀನಾ ಪ್ರವಾಸವನ್ನು ರದ್ದುಪಡಿಸಲಾಗಿದೆ ಸೋಫಿಯಾ ರಾಯಿಟರ್ಸ್ ಬಲ್ಗೇರಿಯಾದ ರಾಷ್ಟ್ರೀಯ ಪುರುಷರ ಬ್ಯಾಸ್ಕೆಟ್ ಬಾಲ್ ತಂಡವು ಕರೋನವೈರಸ್ ಏಕಾಏಕಿ ಚೀನಾದ ಬೇಸಿಗೆ ಪ್ರವಾಸವನ್ನು ರದ್ದುಗೊಳಿಸಿದೆ ಎಂದು ಅವರ ತರಬೇತುದಾರ ಗುರುವಾರ ಹೇಳಿದ್ದಾರೆ ಎಸ್ಟೋನಿಯಾ ಸೇರಿದಂತೆ ರಾಷ್ಟ್ರೀಯ ತಂಡಗಳು ಮತ್ತು ಅಂತಹ ಪ್ರವಾಸಕ್ಕೆ ಹೋಗುವುದು ಉತ್ತಮ ಎಂದು ರೋಸೆನ್ ಬಾರ್ಚೊವ್ಸ್ಕಿ ಸ್ಥಳೀಯ ಮಾಧ್ಯಮಗಳಿಗೆ ತಿಳಿಸಿದರು ಆದರೆ ಕರೋನವೈರಸ್ ಕಾರಣ ನಾವು ಅದನ್ನು ರದ್ದುಗೊಳಿಸಬೇಕಾಗಿದೆ ಮತ್ತು ನಾವು ಇನ್ನೊಂದು ಆಯ್ಕೆಯನ್ನು ಹುಡುಕುತ್ತೇವೆ ಚೀನಾದಲ್ಲಿ ಮೊದಲು ಹೊರಹೊಮ್ಮಿದ ಕರೋನವೈರಸ್ ಕ್ಕೂ ಹೆಚ್ಚು ಜನರಿಗೆ ಸೋಂಕು ತಗುಲಿತು ಮತ್ತು ಸುಮಾರು ಜನರನ್ನು ಕೊಂದರು ಹೊಸ ಕರೋನವೈರಸ್ನ ಸಂಭಾವ್ಯ ಬೆದರಿಕೆಗೆ ಸಿದ್ಧವಾಗಲು ಸ್ಯಾನ್ ಫ್ರಾನ್ಸಿಸ್ಕೋ ನಗರವು ತುರ್ತು ಪರಿಸ್ಥಿತಿಯನ್ನು ಘೋಷಿಸಿದೆ ಫೋಟೋ ಜೇಸನ್ಡೊಯಿ ಗೆಟ್ಟಿ ಇಮೇಜಸ್ ಫೋಟೋ ಜೇಸನ್ಡೊಯಿ ಗೆಟ್ಟಿ ಚಿತ್ರಗಳು ಹೊಸ ಕರೋನವೈರಸ್ನ ಸಂಭಾವ್ಯ ಬೆದರಿಕೆಗೆ ಸಿದ್ಧವಾಗಲು ಸ್ಯಾನ್ ಫ್ರಾನ್ಸಿಸ್ಕೋ ನಗರವು ತುರ್ತು ಪರಿಸ್ಥಿತಿಯನ್ನು ಘೋಷಿಸಿದೆ ಸ್ಯಾನ್ ಫ್ರಾನ್ಸಿಸ್ಕೋ ನಗರವು ಹೊಸ ಕರೋನವೈರಸ್ನ ಸಂಭಾವ್ಯ ಬೆದರಿಕೆಗೆ ಸಿದ್ಧವಾಗಲು ತುರ್ತು ಪರಿಸ್ಥಿತಿಯನ್ನು ಘೋಷಿಸಿದೆ ಫೋಟೋ ಜೇಸನ್ಡೊಯಿ ಗೆಟ್ಟಿ ಇಮೇಜಸ್ ಏಕೆ ಸ್ಯಾನ್ ಫ್ರಾನ್ಸಿಸ್ಕೊ ಕರೋನವೈರಸ್ ತುರ್ತು ಪರಿಸ್ಥಿತಿಯನ್ನು ಘೋಷಿಸಿದೆ ನಿಮ್ಮ ಪ್ರಶ್ನೆಗಳಿಗೆ ಉತ್ತರಿಸಿದ ಸ್ಯಾನ್ ಫ್ರಾನ್ಸಿಸ್ಕೊ ಮೇಯರ್ ಲಂಡನ್ ತಳಿ ತುರ್ತು ಪರಿಸ್ಥಿತಿಯನ್ನು ಘೋಷಿಸಿತು ನಗರವು ಮಂಗಳವಾರ ಜಗತ್ತಿನಾದ್ಯಂತ ಹರಡಿರುವ ಹೊಸ ಕರೋನವೈರಸ್ ಬಗ್ಗೆ ಹೆಚ್ಚಿನ ಕಾಳಜಿಯ ನಡುವೆ ನಾವು ನಗರವಾಗಿ ಏನು ಮಾಡುತ್ತಿದ್ದೇವೆ ಎಂಬುದರ ಕುರಿತು ಸಾಮಾನ್ಯ ಮಾಹಿತಿ ಬೇಕಾದರೆ ಸ್ಯಾನ್ ಫ್ರಾನ್ಸಿಸ್ಕೋ ಸಾರ್ವಜನಿಕ ಆರೋಗ್ಯ ಇಲಾಖೆಯ ವೆಬ್ ಸೈಟ್ ಗೆ ಅಥವಾ ಸ್ಯಾನ್ ಫ್ರಾನ್ಸಿಸ್ಕೋ ಡಿಪಾರ್ಟ್ಮೆಂಟ್ ಆಫ್ ಎಮರ್ಜೆನ್ಸಿ ಮ್ಯಾನೇಜ್ ಮೆಂಟ್ ವೆಬ್ ಸೈಟ್ ಗೆ ಭೇಟಿ ನೀಡಿ ಸೋಫಿಯಾ ಫೆಬ್ರವರಿ ರಾಯಿಟರ್ಸ್ ಬರೋಗೇರಿಯ ರಾಷ್ಟ್ರೀಯ ಪುರುಷರ ಬ್ಯಾಸ್ಕೆಟ್ ಬಾಲ್ ತಂಡವು ತಮ್ಮ ಚೀನಾ ಪ್ರವಾಸವನ್ನು ರದ್ದುಗೊಳಿಸಿದೆ ಎಂದು ಅವರ ತರಬೇತುದಾರ ಗುರುವಾರ ಹೇಳಿದ್ದಾರೆ ಚೀನಾದಲ್ಲಿ ನಾವು ಆರು ಮತ್ತು ಒಂಬತ್ತು ಪಂದ್ಯಗಳ ನಡುವೆ ಪ್ರಬಲ ಕ್ಲಬ್ ಗಳ ವಿರುದ್ಧ ಆಡಬೇಕಾಗಿತ್ತು ಮತ್ತು ಎಸ್ಟೋನಿಯಾ ಸೇರಿದಂತೆ ರಾಷ್ಟ್ರೀಯ ತಂಡಗಳಿಗೆ ಭೇಟಿ ನೀಡಬೇಕಾಗಿತ್ತು ಅಂತಹ ಪ್ರವಾಸಕ್ಕೆ ಹೋಗಲು ಉತ್ತಮವಾಗಿರಿ ರೋಸೆನ್ ಬಾರ್ಚೊವ್ಸ್ಕಿ ಸ್ಥಳೀಯ ಮಾಧ್ಯಮಗಳಿಗೆ ಹೇಳಿದರು ಆದರೆ ಕರೋನವೈರಸ್ ಕಾರಣದಿಂದಾಗಿ ನಾವು ಅದನ್ನು ರದ್ದುಗೊಳಿಸಬೇಕಾಗಿದೆ ಮತ್ತು ನಾವು ಇನ್ನೊಂದು ಆಯ್ಕೆಯನ್ನು ಹುಡುಕುತ್ತೇವೆ ಚೀನಾದಲ್ಲಿ ಮೊದಲು ಹೊರಹೊಮ್ಮಿದ ಕರೋನವೈರಸ್ ಕ್ಕೂ ಹೆಚ್ಚು ಜನರಿಗೆ ಸೋಂಕು ತಗುಲಿ ಸುಮಾರು ಜನರನ್ನು ಕೊಂದಿದೆ ಇತ್ತೀಚಿನ ದಿನಗಳಲ್ಲಿ ಬೀಜಿಂಗ್ ಹೊಸ ಸೋಂಕುಗಳ ಕುಸಿತವನ್ನು ವರದಿ ಮಾಡಿದೆ ಎಂಬುದು ಚೀನಾದಲ್ಲಿ ಏಕಾಏಕಿ ಸುಧಾರಿತ ಸ್ಥಿತಿಯನ್ನು ಸೂಚಿಸುತ್ತದೆ ಆದರೆ ನಿಧಾನಗತಿಯು ಎಷ್ಟು ವೇಗವಾಗಿದೆಯೆಂದರೆ ಅದು ಸಂದೇಹವಾದವನ್ನು ಉಂಟುಮಾಡುತ್ತಿದೆ ಬೀಳುವ ಸಂಖ್ಯೆಗಳು ವಾಸ್ತವವನ್ನು ಪ್ರತಿಬಿಂಬಿಸುತ್ತದೆಯೇ ಅಥವಾ ಇದು ಸಹಾಯಕವಾದ ನಿರೂಪಣೆಯಾಗಿದೆಯೇ ಎಂದು ತಜ್ಞರು ಆಶ್ಚರ್ಯ ಪಡುತ್ತಾರೆ ಚೀನಾದ ಆರ್ಥಿಕತೆಯನ್ನು ಮತ್ತೆ ಟ್ರ್ಯಾಕ್ ನಲ್ಲಿ ಪಡೆಯಿರಿ ಎಣಿಕೆಗಾಗಿ ಚೀನಾದಲ್ಲಿ ಕರೋನವೈರಸ್ ಹರಡುವಿಕೆಯು ಹುಬೈ ಪ್ರಾಂತ್ಯದ ಭೂಕಂಪದ ಹೊರಗಿನ ಪ್ರದೇಶಗಳಲ್ಲಿ ಸ್ಥಗಿತಗೊಂಡಿದೆ ಆದರೆ ಮಂಗಳವಾರ ಐದು ಹೊಸ ಪ್ರಕರಣಗಳು ದೃ ಪಟ್ಟಿದೆ ಮತ್ತು ಬುಧವಾರ ದೃ ಪಟ್ಟಿದೆ ಅಧಿಕೃತ ಪ್ರಕರಣಗಳು ಚೀನಾದ ರಾಷ್ಟ್ರೀಯ ಆರೋಗ್ಯ ಆಯೋಗದ ಪ್ರಕಾರ ಬುಧವಾರದಂದು ಚೀನಾದಲ್ಲಿ ಕೊರೊನಾವೈರಸ್ ಆದರೆ ಚೀನಾದ ರಾಷ್ಟ್ರೀಯ ಆರೋಗ್ಯ ಆಯೋಗವು ಒಂದು ವಾರದ ನಂತರ ಆ ನಿರ್ಧಾರವನ್ನು ಹಿಮ್ಮೆಟ್ಟಿಸಿತು ಮತ್ತು ಹೊಸ ದೃ ಪಡಿಸಿದ ಪ್ರಕರಣಗಳು ಹುಬೈ ಒಳಗೆ ಮೂರು ಅಂಕೆಗಳಿಗೆ ಮತ್ತು ಅದರ ಹೊರಗಿನ ಬೆರಳೆಣಿಕೆಯಷ್ಟು ಕಡಿಮೆಯಾಗಲು ಪ್ರಾರಂಭಿಸಿದವು ಫಾರ್ಚೂನ್ ಯುರೋಪಿನ ಕಥೆಗಳನ್ನು ಓದಬೇಕು ಮೊದಲ ದೊಡ್ಡ ಕೋವಿಡ್ ಏಕಾಏಕಿ ಜಾಗತಿಕ ಮಾರುಕಟ್ಟೆಗಳು ಬಿಲಿಯನೇರ್ ಗಳು ಚೀನಾದ ಕರೋನವೈರಸ್ ಫಾರ್ಚೂನ್ ರ ವಿರುದ್ಧ ಹೋರಾಡಲು ದೇಣಿಗೆ ನೀಡುತ್ತಿದ್ದಾರೆ ಕೊರೊನಾವೈರಸ್ ಪೂರೈಕೆ ಸರಪಳಿ ಅಡೆತಡೆಗಳು ಕರೋನವೈರಸ್ ತಪ್ಪು ಮಾಹಿತಿಯು ಸರ್ಕಾರದ ಅಪನಂಬಿಕೆಯಿಂದ ಉತ್ತೇಜಿಸಲ್ಪಟ್ಟಿದೆ ಕೊರೊನಾವೈರಸ್ ತೈಲ ಫ್ರ್ಯಾಕಿಂಗ್ ನ ಹಿಂಭಾಗವನ್ನು ಒಡೆಯುವ ಒಣಹುಲ್ಲಿನದ್ದಾಗಿರಬಹುದು ಏಷ್ಯಾದಲ್ಲಿ ವ್ಯವಹಾರದಲ್ಲಿ ಪ್ರಾಬಲ್ಯ ಏನು ಎಂಬುದರ ಕುರಿತು ತಜ್ಞರ ಒಳನೋಟಕ್ಕಾಗಿ ಫಾರ್ಚೂನ್ ನ ಮುಂಬರುವ ಈಸ್ಟ್ ವರ್ಲ್ಡ್ ಸುದ್ದಿಪತ್ರಕ್ಕೆ ಚಂದಾದಾರರಾಗಿ ಅನಾರೋಗ್ಯದ ಜನರಿಂದ ತುಂಬಿದ ಆಸ್ಪತ್ರೆಗೆ ಹೋಗಬೇಕೆಂದು ತಪ್ಪಾಗಿ ಹೇಳಿದ ನಂತರ ಸಸ್ಪೆಕ್ಟೆಡ್ ಕರೋನವೈರಸ್ ರೋಗಿಯೊಬ್ಬರು ಎನ್ ಎಚ್ ಎಸ್ ಅನ್ನು ಸ್ಫೋಟಿಸಿದ್ದಾರೆ ಪ್ರೊಫೆಸರ್ ವಿಟ್ಟಿ ಅವರು ಇಂಗ್ಲೆಂಡ್ ನಲ್ಲಿ ಇನ್ನೂ ಇಬ್ಬರು ರೋಗಿಗಳು ಕೋವಿಡ್ ಕ್ಕೆ ಧನಾತ್ಮಕ ಪರೀಕ್ಷೆ ನಡೆಸಿದ್ದಾರೆ ಒಟ್ಟು ಯುಕೆ ಪ್ರಕರಣಗಳನ್ನು ಕ್ಕೆ ತಂದುಕೊಟ್ಟಿದೆ ಉಚಿತ ಆಸ್ಪತ್ರೆ ಲಂಡನ್ ಯುಕೆನಾದ್ಯಂತ ಕನಿಷ್ಠ ಎಂಟು ಶಾಲೆಗಳು ಮುಚ್ಚಲ್ಪಟ್ಟವು ಮತ್ತು ಪ್ರಿನ್ಸ್ ಜಾರ್ಜ್ ಸೇರಿದಂತೆ ಇತರರು ವಿದ್ಯಾರ್ಥಿಗಳನ್ನು ಮನೆಗೆ ಕಳುಹಿಸಿದ್ದಾರೆ ಅವರು ಉತ್ತರ ಇಟಲಿಗೆ ಅರ್ಧಾವಧಿಯ ಪ್ರವಾಸದ ಸಮಯದಲ್ಲಿ ಕರೋನವೈರಸ್ಗೆ ಒಳಗಾಗಬಹುದು ಎಂಬ ಭಯದ ನಡುವೆ ವಾಟರ್ ಕೂಲೆಸ್ಟ್ ದೈನಂದಿನ ವ್ಯವಹಾರ ಸುದ್ದಿ ಮತ್ತು ವೃತ್ತಿಪರ ಸಲಹೆಯ ಇಮೇಲ್ ಸುದ್ದಿಪತ್ರವು ಬ್ರೋಸ್ ರೀಡ್ ಗೆ ಸಜ್ಜಾಗಿದೆ ಫಿಲ್ಟರ್ ಮಾಡದ ವ್ಯಾಖ್ಯಾನ ಮತ್ತು ಕೆಲಸದಲ್ಲಿ ಕಡಿಮೆ ಹೀರುವುದು ಹೇಗೆ ಎಂಬ ಸಲಹೆಯ ಹೃತ್ಪೂರ್ವಕ ಸಹಾಯವನ್ನು ನಿರೀಕ್ಷಿಸಬಹುದು ಪೆಲೋಟಾನ್ ಸ್ಟಾಕ್ ನಿನ್ನೆ ರಿಂದ ಕ್ಕೆ ಏರಿದೆ ಎಂಬ ನಿರೀಕ್ಷೆಯಲ್ಲಿ ಸೋಂಕಿತ ಅಪರಿಚಿತರು ನಿಮ್ಮ ಹತ್ತಿರ ಹೆಚ್ಚು ಉಸಿರಾಡುತ್ತಾರೆ ಏಕೆಂದರೆ ಜೂಮ್ ಈಗಾಗಲೇ ಹೆಚ್ಚಿನ ಮಾಸಿಕ ಸಕ್ರಿಯ ಬಳಕೆದಾರರನ್ನು ಎಂಎಯುಗಳನ್ನು ಮೊದಲ ಎರಡು ತಿಂಗಳಲ್ಲಿ ರಲ್ಲಿ ಸೇರಿಸಿದೆ ಕಳೆದ ವರ್ಷಕ್ಕೆ ಹೋಲಿಸಿದರೆ ಚಾಟ್ ರೌಲೆಟ್ ಪರ್ಯಾಯ ಷೇರುಗಳ ಬೆಲೆ ಫೆಬ್ರವರಿಯಲ್ಲಿ ಏರಿಕೆಯಾಗಿದೆ ಹೂಡಿಕೆದಾರರು ೂಮ್ ನ ಆದಾಯ ಮತ್ತು ಅದರ ಗಳ ದೈನಂದಿನ ಸಕ್ರಿಯ ಬಳಕೆದಾರರ ನಡುವಿನ ಬಲವಾದ ಸಂಬಂಧವು ಗಳು ಮತ್ತು ಡೌನ್ ಲೋಡ್ ಗಳೊಂದಿಗೆ ಗೊಂದಲಕ್ಕೀಡಾಗಬಾರದು ಜೂಮ್ ಇತ್ತೀಚೆಗೆ ಚೀನಾದಿಂದ ಉಚಿತ ಬಳಕೆದಾರರ ಮೇಲೆ ನಿಮಿಷಗಳ ಸಭೆಯ ಮಿತಿಯನ್ನು ತೆಗೆದುಹಾಕಿದೆ ಮತ್ತು ಅನೇಕ ಹೊಸ ಬಳಕೆದಾರರು ಉಚಿತವಾಗಿದ್ದರೂ ಸಹ ಆ ಅವಕಾಶವಿದೆ ಫ್ರೀಬಿಗಳನ್ನು ಪ್ರೀಮಿಯಂ ಸದಸ್ಯರನ್ನಾಗಿ ಪರಿವರ್ತಿಸಲಾಗುತ್ತದೆ ಡೌ ಜೋನ್ಸ್ ಕೈಗಾರಿಕಾ ಸರಾಸರಿ ಮತ್ತು ಎಸ್ ಪಿ ಕಳೆದ ತಿಂಗಳೊಳಗೆ ಹೆಚ್ಚಿನ ಕುಸಿತದೊಂದಿಗೆ ತೀವ್ರ ಕುಸಿತ ಕಂಡಿದೆ ಅಥವಾ ಕರೋನವೈರಸ್ ಹರಡುವಿಕೆಯ ಬಗ್ಗೆ ಆತಂಕಗಳು ವಿಶ್ವಾದ್ಯಂತ ಏರಿಕೆಯಾಗಿವೆ ಶ್ಲೋಸ್ ಬರ್ಗ್ ಈ ಪರಿಸರಕ್ಕಾಗಿ ಶಿಫಾರಸು ಮಾಡಿದ ಎರಡು ಜೋಡಿ ವಹಿವಾಟುಗಳು ದೀರ್ಘಕಾಲ ಸಾಗುತ್ತಿವೆ ಇನ್ವೆಸ್ಕೊ ಎಸ್ಪಿ ಕಡಿಮೆ ಚಂಚಲತೆ ಇಟಿಎಫ್ ಎಸ್ಪಿಎಲ್ವಿ ಮತ್ತು ಇನ್ವೆಸ್ಕೊ ಎಸ್ಪಿ ಹೈ ಬೀಟಾ ಇಟಿಎಫ್ ಎಸ್ಪಿಹೆಚ್ಬಿ ಅಥವಾ ಡೌಗೆ ಹೋಗುವ ಸರಳೀಕೃತ ಆವೃತ್ತಿಯು ಮತ್ತು ನಾಸ್ಡಾಕ್ ಅನ್ನು ಕಡಿಮೆಗೊಳಿಸುವುದು ಈ ವರ್ಷದ ದೀರ್ಘಾವಧಿಯ ದೃಷ್ಟಿಕೋನದಿಂದ ಮುಂದೆ ಹೋಗುವುದರಿಂದ ಇದು ಸಾಕಷ್ಟು ಅರ್ಥವನ್ನು ನೀಡುತ್ತದೆ ಡೌ ಶಾರ್ಟ್ ನಾಸ್ಡಾಕ್ ಅನ್ನು ಪಡೆಯಲು ನೀವು ಹರಡುವ ವ್ಯಾಪಾರವನ್ನು ಮಾಡಲು ಹೊರಟಿದ್ದರೆ ಮತ್ತು ಅದು ನಾವು ವರ್ಷಗಳ ನಾಸ್ಡಾಕ್ ಸಾಧನೆ ಹೊಂದಿದ್ದರಿಂದಾಗಿ ಶ್ಲೋಸ್ ಬರ್ಗ್ ಹೇಳಿದರು ಪೈಪರ್ ಸ್ಯಾಂಡ್ಲರ್ ನ ಹಿರಿಯ ತಾಂತ್ರಿಕ ಸಂಶೋಧನಾ ವಿಶ್ಲೇಷಕ ಕ್ರೇಗ್ ಜಾನ್ಸನ್ ಶ್ಲೋಸ್ ಬರ್ಗ್ ನೊಂದಿಗೆ ಒಪ್ಪಿಕೊಂಡರು ಷೇರುಗಳು ಇನ್ನೂ ಕೆಲವು ತೊಂದರೆಯನ್ನು ಸಹಿಸಿಕೊಳ್ಳಬಹುದು ಅವರು ನಿರ್ವಹಿಸಿದ್ದನ್ನು ಪುನರಾರಂಭಿಸುವ ಮೊದಲು ಅಖಂಡ ಜಾತ್ಯತೀತ ಬುಲ್ ಮಾರುಕಟ್ಟೆಯಾಗಿದೆ ವ್ಯಾಪಾರ ಕರೋನವೈರಸ್ ಕಾರ್ಯನಿರ್ವಾಹಕ ಬ್ರಸೆಲ್ಸ್ ರಾಯಿಟರ್ಸ್ ಮೇಲೆ ಈಗ ಯಾವುದೇ ಇಯು ದೇಶವು ಗಡಿ ತಪಾಸಣೆಗಳನ್ನು ಯೋಜಿಸಿಲ್ಲ ಯಾವುದೇ ಯುರೋಪಿಯನ್ ಯೂನಿಯನ್ ದೇಶವು ಪ್ರಸ್ತುತ ಕರೋನವೈರಸ್ ಏಕಾಏಕಿ ಮುಕ್ತ ಪ್ರಯಾಣದ ವಲಯದೊಳಗೆ ಗಡಿ ನಿಯಂತ್ರಣಗಳನ್ನು ಪುನಃ ಸ್ಥಾಪಿಸುವ ಯೋಜನೆಯನ್ನು ಹೊಂದಿಲ್ಲ ಎಂದು ಕಾರ್ಯನಿರ್ವಾಹಕ ಯುರೋಪಿಯನ್ ಕಮಿಷನ್ ಗುರುವಾರ ಹೇಳಿದೆ ಸೆಬಿ ಗೇಬ್ರಿಯೆಲಾ ಬ್ಯಾ ೈನ್ಸ್ಕಾ ಒಲುಸ್ವರ್ಲ್ಡ್ ರಾಯಿಟರ್ಸ್ ಯುಎಸ್ ಆನ್ ಲೈನ್ ವಿಶ್ವ ಸುದ್ದಿ ವರದಿ ಮಾಡಿ ಆದ್ದರಿಂದ ಕ್ಸಿ ಜಿನ್ ಪಿಂಗ್ ನ ಚೀನಾ ಮತ್ತು ವ್ಲಾಡಿಮಿರ್ ಪುಟಿನ್ ರಷ್ಯಾದ ದೇಶಗಳಲ್ಲಿ ಸರ್ವಾಧಿಕಾರವು ಹೇಗೆ ಕಾರ್ಯನಿರ್ವಹಿಸುತ್ತದೆ ಹೌದು ಚೀನಾ ಸರ್ವಾಧಿಕಾರವಾಗಿದೆ ಎಂದು ಬ್ಲೂಮ್ ಬರ್ಗ್ ಹೇಳಿಕೆಗೆ ಆಶ್ಚರ್ಯಚಕಿತರಾದರು ಎಂದು ಸ್ಯಾಂಡರ್ಸ್ ಹೇಳಿದ್ದಾರೆ ಚೀನಾ ಸರ್ಕಾರವು ಪೊಲಿಟ್ ಬ್ಯುರೊಗೆ ಸ್ಪಂದಿಸುತ್ತದೆ ಆದರೆ ಯಾರು ಪಾಲಿಟ್ ಬ್ಯುರೊ ಎಂದು ಹೇಳಿದರು ಸ್ಪಂದಿಸುವ ಆದರೆ ಸರ್ವಾಧಿಕಾರಿಗಳು ದೇಶೀಯ ಘಟಕಗಳಿಗೆ ಇನ್ನೂ ಉತ್ತರಿಸುತ್ತಾರೆ ಚೀನಾ ಮತ್ತು ರಷ್ಯಾವನ್ನು ಹೋಲಿಸುವ ನಮ್ಮ ಹೊಸ ಪುಸ್ತಕ ನಾಗರಿಕರು ಮತ್ತು ಸರ್ವಾಧಿಕಾರಿ ಆಡಳಿತದಲ್ಲಿ ನಮ್ಮ ಕೊಡುಗೆದಾರರು ನಾಗರಿಕರು ತಮ್ಮ ಸರ್ವಾಧಿಕಾರಿ ಆಡಳಿತಗಾರರನ್ನು ಜವಾಬ್ದಾರಿಯುತವಾಗಿ ಹಿಡಿದಿಟ್ಟುಕೊಳ್ಳಬಹುದು ಮತ್ತು ಪ್ರಜಾಪ್ರಭುತ್ವಗಳಿಗಿಂತ ವಿಭಿನ್ನ ಕಾರ್ಯವಿಧಾನಗಳು ಕಾರ್ಯನಿರ್ವಹಿಸುತ್ತಿವೆ ಎಂದು ತೋರಿಸುತ್ತದೆ ಚೀನಾದಲ್ಲಿ ಅಧಿಕಾರ ಮತ್ತು ರಷ್ಯಾ ಒಂದು ಗಾತ್ರವು ಎಲ್ಲರಿಗೂ ಹೊಂದಿಕೆಯಾಗುವುದಿಲ್ಲ ಎಲ್ಲಾ ನಿರಂಕುಶಾಧಿಕಾರಿಗಳು ಕ್ಸಿ ಜಿನ್ ಪಿಂಗ್ ರಾಜಕೀಯ ಸ್ಥಿರತೆ ಮತ್ತು ವಿಶ್ವಾಸಾರ್ಹ ಮಾಹಿತಿ ಎರಡನ್ನೂ ಒದಗಿಸುವ ಕಾರ್ಯತಂತ್ರವನ್ನು ರೂಪಿಸುವಲ್ಲಿ ತೊಂದರೆ ಎದುರಿಸುತ್ತಾರೆ ಈ ವ್ಯಾಪಾರ ವಹಿವಾಟುಗಳು ಚೀನಾ ರಷ್ಯಾ ಕ್ಯೂಬಾ ಮತ್ತು ಉತ್ತರ ಕೊರಿಯಾದಂತಹ ದೇಶಗಳು ಅನುಸರಿಸಿದ ಒಂದೇ ಒಂದು ಸರ್ವಾಧಿಕಾರಿ ಮಾದರಿ ಇಲ್ಲ ಇಟಲಿಯ ಸಿವಿಲ್ ಪ್ರೊಟೆಕ್ಷನ್ ಏಜೆನ್ಸಿಯ ಮುಖ್ಯಸ್ಥ ಏಂಜೆಲೊ ಬೊರೆಲ್ಲಿ ರೋಮ್ನಲ್ಲಿ ಇಟಲಿಯಲ್ಲಿ ಹೊಸ ಕರೋನವೈರಸ್ ಏಕಾಏಕಿ ಮಾಧ್ಯಮಕ್ಕೆ ನವೀಕರಣವನ್ನು ನೀಡಿದ್ದಾರೆ ಫೆಬ್ರವರಿ ರಾಯಿಟರ್ಸ್ ರೆಮೋ ಕ್ಯಾಸಿಲಿರೋಮ್ ರಾಯಿಟರ್ಸ್ ಇಟಲಿಯಲ್ಲಿ ಕರೋನವೈರಸ್ನಿಂದ ಇನ್ನೆರಡು ಜನರು ಸಾವನ್ನಪ್ಪಿದ್ದಾರೆ ಇನ್ನೂ ಯುರೋಪಿನಲ್ಲಿ ಕ್ಕೆ ಸಿವಿಲ್ ಪ್ರೊಟೆಕ್ಷನ್ ಏಜೆನ್ಸಿ ಗುರುವಾರ ಹೇಳಿಕೆಯಲ್ಲಿ ತಿಳಿಸಿದೆ ಇತ್ತೀಚಿನ ಎರಡು ಸಾವುಗಳಿಗೆ ಕರೋನವೈರಸ್ ಕಾರಣ ಎಂದು ಅಧಿಕಾರಿಗಳು ಇನ್ನೂ ದೃ ೀಕರಣವನ್ನು ಹುಡುಕುತ್ತಿದ್ದಾರೆ ಎಂದು ಏಜೆನ್ಸಿ ಮುಖ್ಯಸ್ಥ ಏಂಜೆಲೊ ಬೊರೆಲ್ಲಿ ಈ ಹಿಂದೆ ಸುದ್ದಿಗಾರರಿಗೆ ತಿಳಿಸಿದ್ದಾರೆ ದೃ ಪಡಿಸಿದ ಪ್ರಕರಣಗಳ ಸಂಖ್ಯೆ ಕ್ಕೆ ಏರಿದೆ ಸುಮಾರು ಬುಧವಾರ ಉತ್ತರ ಇಟಲಿಯ ಬಹುಪಾಲು ವರದಿಯನ್ನು ಕ್ರಿಸ್ಪಿಯನ್ ಬಾಲ್ಮರ್ ಅವರಿಂದ ಏಂಜೆಲೊ ಅಮಾಂಟೆ ಎಡಿಟಿಂಗ್ ವರದಿ ಮಾಡಿದೆ ಕೊರೋನವೈರಸ್ ಸಾಂಕ್ರಾಮಿಕ ರೋಗವಾಗಿ ಪರಿಣಮಿಸುತ್ತದೆ ಎಂಬ ಭಯದಿಂದ ಉದ್ಭವಿಸಿದ ದುರ್ಬಲ ಜಾಗತಿಕ ಮನೋಭಾವವನ್ನು ಪ್ರತಿಧ್ವನಿಸುವ ಮತ್ತು ಮುಕ್ತಾಯದ ದಿನದಂದು ಸತತ ಐದನೇ ಅಧಿವೇಶನಕ್ಕೆ ಸೂಚ್ಯಂಕವು ಕೆಳಮುಖ ಪ್ರವೃತ್ತಿಯನ್ನು ಮುಂದುವರೆಸಿತು ಮತ್ತು ದೈನಂದಿನ ಪಟ್ಟಿಯಲ್ಲಿ ಹ್ಯಾಮರ್ ಮಾದರಿಯನ್ನು ಹೋಲುವ ಸಣ್ಣ ದೇಹದ ಕೆಂಪು ಮೇಣದಬತ್ತಿಯನ್ನು ರೂಪಿಸಿತು ಕಳೆದ ದಿನಗಳ ಬೆಲೆ ಮಟ್ಟಗಳ ಕನಿಷ್ಠ ಮಟ್ಟದಿಂದ ನಿಫ್ಟಿ ಹಿಮ್ಮೆಟ್ಟಿದಂತೆ ಕಂಡುಬರುವ ಕ್ರಿಯೆಯಿಂದ ಕೆಲವು ರೀತಿಯ ಇಳಿಜಾರಿನ ಚಾನಲ್ ಅನ್ನು ಚಾಕ್ ಮಾಡಿದಂತೆ ಕಂಡುಬರುತ್ತದೆ ಆದ್ದರಿಂದ ಈ ಸೂಚ್ಯಂಕವು ಮಟ್ಟಕ್ಕಿಂತಲೂ ಹೆಚ್ಚಿರುವವರೆಗೂ ಧನಾತ್ಮಕ ಪಕ್ಷಪಾತದೊಂದಿಗೆ ಕೆಲವು ಪಕ್ಕದ ಬಲವರ್ಧನೆಯನ್ನು ನಿರೀಕ್ಷಿಸಬಹುದು ಕಳೆದ ಐದು ಸತತ ಅಧಿವೇಶನಗಳಲ್ಲಿ ನಿಫ್ಟಿ ಈಗಾಗಲೇ ರ ಗರಿಷ್ಠ ಮಟ್ಟದಿಂದ ಲಂಬವಾಗಿ ಕುಸಿದಿದೆ ಮ ಾರ್ ಮೊಹಮ್ಮದ್ ಮುಖ್ಯ ತಂತ್ರಜ್ಞ ತಾಂತ್ರಿಕ ಸಂಶೋಧನಾ ವ್ಯಾಪಾರ ಸಲಹಾ ಚಾರ್ಟ್ವ್ಯೂಂಡಿಯಾ ಮನಿ ಕಂಟ್ರೋಲ್ ಆಯ್ಕೆಗಳ ದತ್ತಾಂಶವನ್ನು ಹತ್ತಿರದ ಮುಷ್ಕರದಲ್ಲಿ ಚದುರಿಹೋಗಿದೆ ಆದ್ದರಿಂದ ತಕ್ಷಣದ ವ್ಯಾಪ್ತಿಗೆ ಯಾವುದೇ ಅರ್ಥವನ್ನು ನೀಡುವುದಿಲ್ಲ ಚಂಚಲತೆ ನಿಫ್ಟಿ ಚಂದನ್ ತಪರಿಯಾ ವಿಕ್ ಗೆ ವಿಶಾಲ ವ್ಯಾಪಾರ ಶ್ರೇಣಿ ರಿಂದ ವಲಯವಾಗಬಹುದು ಅಧ್ಯಕ್ಷ ವಿಶ್ಲೇಷಕ ಉತ್ಪನ್ನಗಳಾದ ಮೋತಿಲಾಲ್ ಓಸ್ವಾಲ್ ಫೈನಾನ್ಷಿಯಲ್ ಸರ್ವೀಸಸ್ ಸೂಚ್ಯಂಕವು ಕ್ಕೆ ರಷ್ಟು ಕುಸಿದಿದೆ ಮತ್ತು ದೈನಂದಿನ ಪಟ್ಟಿಯಲ್ಲಿ ಹ್ಯಾಮರ್ ಕ್ಯಾಂಡಲ್ ಅನ್ನು ರೂಪಿಸಿದೆ ಎಂದು ತಿಳಿಸಿದೆ ಶತಕೋಟಿ ಬಯೋಟೆಕ್ ಗಿಲ್ಯಾಡ್ ಸೈನ್ಸಸ್ ಗೆ ಚಿಕಿತ್ಸೆ ನೀಡುವ ಭರವಸೆಯ ಷಧಿಯನ್ನು ಪರೀಕ್ಷಿಸುವ ಪ್ರಯತ್ನವನ್ನು ಚುರುಕುಗೊಳಿಸುತ್ತಿದೆ ಹರಡುವ ಕರೋನವೈರಸ್ ಏಕಾಏಕಿ ಉಂಟಾಗುವ ರೋಗವನ್ನು ಅಧ್ಯಯನಗಳು ರೋಗಿಗಳಲ್ಲಿ ಸುಮಾರು ರೋಗಿಗಳಲ್ಲಿ ಪ್ರಾಯೋಗಿಕ ಆಂಟಿವೈರಲ್ ಷಧಿ ರಿಮೆಡಿವೈರ್ನ ವಿವಿಧ ಪ್ರಮಾಣಗಳು ಮತ್ತು ಚಿಕಿತ್ಸಾ ಕೋರ್ಸ್ ಗಳನ್ನು ನಿರ್ಣಯಿಸುತ್ತವೆ ನ್ಯಾಷನಲ್ ಇನ್ ಸ್ಟಿಟ್ಯೂಟ್ ಆಫ್ ಹೆಲ್ತ್ ನ ಸಾಂಕ್ರಾಮಿಕ ರೋಗ ಘಟಕವು ಇತ್ತೀಚೆಗೆ ಯುಎಸ್ ನಲ್ಲಿ ಸಿಒವಿಐಡಿ ರೋಗಿಗಳೊಂದಿಗೆ ರೆಮ್ ಡೆಸಿವಿರ್ ನ ಪ್ರಯೋಗವನ್ನು ಪ್ರಾರಂಭಿಸಿತು ಗಿಲ್ಯಾಡ್ ನ ಪ್ರಾಥಮಿಕ ಗಮನವು ಸಿಒವಿಐಡಿ ಗೆ ಸಂಭಾವ್ಯ ಚಿಕಿತ್ಸೆಯಾಗಿ ರೆಮ್ ಡೆಸಿವಿರ್ ನ ಸುರಕ್ಷತೆ ಮತ್ತು ಪರಿಣಾಮಕಾರಿತ್ವವನ್ನು ತ್ವರಿತವಾಗಿ ನಿರ್ಧರಿಸುವಲ್ಲಿ ಕೇಂದ್ರೀಕರಿಸಿದೆ ಮತ್ತು ಈ ಪೂರಕ ಶ್ರೇಣಿಯ ಅಧ್ಯಯನಗಳು ಸಹಾಯ ಮಾಡುತ್ತದೆ ಅಲ್ಪಾವಧಿಯಲ್ಲಿಯೇ ಷಧದ ಪ್ರೊಫೈಲ್ ನಲ್ಲಿ ಜಾಗತಿಕವಾಗಿ ಹೆಚ್ಚು ವಿಸ್ತಾರವಾದ ದತ್ತಾಂಶವನ್ನು ನಮಗೆ ನೀಡಿ ಮೆರ್ಡಾಡ್ ಪಾರ್ಸಿ ಗಿಲ್ಯಾಡ್ ನ ಮುಖ್ಯ ವೈದ್ಯಕೀಯ ಅಧಿಕಾರಿ ಹೇಳಿಕೆಯಲ್ಲಿ ತಿಳಿಸಿದ್ದು ಇದೀಗ ಒಂದೇ ಒಂದು ಷಧಿ ಇದೆ ಅದು ನಿಜವಾದ ಪರಿಣಾಮಕಾರಿತ್ವವನ್ನು ಹೊಂದಿರಬಹುದು ಎಂದು ನಾವು ಭಾವಿಸುತ್ತೇವೆ ಮತ್ತು ಅದು ರೆಮೆಡೆಸಿವಿರ್ ಬ್ರೂಸ್ ವಿಶ್ವ ಆರೋಗ್ಯ ಸಂಸ್ಥೆಯ ಸಹಾಯಕ ಮಹಾನಿರ್ದೇಶಕ ಐಲ್ವರ್ಡ್ ಇತ್ತೀಚಿನ ಪತ್ರಿಕಾಗೋಷ್ಠಿಯಲ್ಲಿ ಸಿಎನ್ಎನ್ ವರದಿಯಲ್ಲಿ ಹೇಳಿದರು ಆವೃತ್ತಿ ಗುರುವಾರ ಬೆಳಿಗ್ಗೆ ಡಬ್ಲ್ಯುಪಿಪಿಯಲ್ಲಿನ ಷೇರುಗಳು ಕಲ್ಲಿನಂತೆ ಕುಸಿದವು ಅದರ ಮೊದಲ ವರ್ಷದ ಯೋಜನೆಗಳು ವಿಶ್ಲೇಷಕರು ಏನು ಹುಡುಕುತ್ತಿವೆ ಎಂಬುದನ್ನು ವ್ಯಾಪಾರವು ಬಹಿರಂಗಪಡಿಸಿಲ್ಲ ಎಂದು ಜಾಹೀರಾತು ದೈತ್ಯ ಹೇಳಿದೆ ಅದರ ಹೆಚ್ಚು ವೀಕ್ಷಿಸಿದ ಆದಾಯದ ಅಳತೆಯು ವೆಚ್ಚಗಳ ಮೂಲಕ ಹಾದುಹೋಗುವಿಕೆಯನ್ನು ತೆಗೆದುಹಾಕುತ್ತದೆ ಬಿಲಿಯನ್ ಇದರ ಮೇಲೆ ಅದು ಮಿಲಿಯನ್ ತೆರಿಗೆಗೆ ಮುಂಚಿತವಾಗಿ ಲಾಭವನ್ನು ಗಳಿಸಿತು ಡ್ರಾಪ್ ಷೇರುಗಳು ಗುರುವಾರ ಬೆಳಿಗ್ಗೆ ಒಂದು ಹಂತದಲ್ಲಿ ಕ್ಕಿಂತಲೂ ಕಡಿಮೆಯಾಗದಂತೆ ಕುಸಿಯಿತು ನಂತರ ಅವರು ಕೆಲವು ನೆಲವನ್ನು ಕ್ಕೆ ಇಳಿಸಿದರು ವರ್ಷದ ಕೊನೆಯ ನಾಲ್ಕು ತಿಂಗಳುಗಳು ಹೂಡಿಕೆದಾರರು ಡಬ್ಲ್ಯುಪಿಪಿಗಾಗಿ ಆಶಿಸಿದ್ದಕ್ಕಿಂತ ಕೆಟ್ಟ ಫಲಿತಾಂಶವು ಕರೋನವೈರಸ್ನ ಸಂಭವನೀಯ ಪರಿಣಾಮವನ್ನು ಗಣನೆಗೆ ತೆಗೆದುಕೊಳ್ಳುವ ಮೊದಲೇ ರಲ್ಲಿ ಆದಾಯವು ಸಮತಟ್ಟಾಗಿರುತ್ತದೆ ಎಂದು ಹೇಳಿದರು ವೇಗವನ್ನು ಉಳಿಸಿಕೊಳ್ಳುವ ಸಾಮರ್ಥ್ಯವನ್ನು ಹೂಡಿಕೆದಾರರಿಗೆ ಮನವರಿಕೆ ಮಾಡಲು ಸಂಸ್ಥೆ ಉತ್ತಮವಾಗಿ ಮಾಡಬೇಕು ಕಳೆದ ತ್ರೈಮಾಸಿಕದಲ್ಲಿ ಎಲ್ ಎಫ್ ಎಲ್ ನಿವ್ವಳ ಮಾರಾಟದಂತೆಯೇ ಕುಸಿತವನ್ನು ಸಂಸ್ಥೆಯು ಬಹಿರಂಗಪಡಿಸಿದ ನಂತರ ಡಬ್ಲ್ಯುಪಿಪಿ ಷೇರುಗಳು ಇಂದು ಕುಸಿದಿವೆ ಎಂದು ಸಿಎಮ್ ಸಿ ಮಾರ್ಕೆಟ್ಸ್ ನ ವಿಶ್ಲೇಷಕ ಡೇವಿಡ್ ಮ್ಯಾಡೆನ್ ಹೇಳಿದ್ದಾರೆ ಹಿಂದಿನ ಮುನ್ಸೂಚನೆಗಳಿಗಿಂತ ಕಡಿಮೆಯಾಗುವ ವರ್ಷದಲ್ಲಿ ವಾರ್ಷಿಕ ಎಲ್ ಎಫ್ ಎಲ್ ನಿವ್ವಳ ಮಾರಾಟವು ಸಮತಟ್ಟಾಗಲಿದೆ ಎಂದು ಅವರು ಈಗ ನಿರೀಕ್ಷಿಸಿದ್ದಾರೆ ಕಳೆದ ವರ್ಷ ಮೂರು ವರ್ಷಗಳ ವಹಿವಾಟು ಯೋಜನೆಯ ಮೊದಲನೆಯದು ಇದನ್ನು ಸಂಸ್ಥಾಪಕ ಮತ್ತು ಮಾಜಿ ಮುಖ್ಯ ಕಾರ್ಯನಿರ್ವಾಹಕ ಸರ್ ಮಾರ್ಟಿನ್ ಸೊರೆಲ್ ತ್ಯಜಿಸಿದ ನಂತರ ಡಬ್ಲ್ಯುಪಿಪಿಗಳ ಹೊಸ ನಿರ್ವಹಣೆ ಪ್ರಾರಂಭಿಸಿತು ಅವರು ವೇಶ್ಯೆಯೊಬ್ಬರಿಗೆ ಕಂಪನಿಯ ಹಣವನ್ನು ಖರ್ಚು ಮಾಡಿದ್ದಾರೆಯೇ ಎಂಬ ಹಗರಣ ಈ ವಾರದ ಆರಂಭದಲ್ಲಿ ಸರ್ ಮಾರ್ಟಿನ್ ಅವರು ತಮ್ಮ ಎರಡನೇ ಪತ್ನಿ ಕ್ರಿಸ್ಟಿಯಾನಾಗೆ ವಿಚ್ ೇದನ ನೀಡುವುದಾಗಿ ಘೋಷಿಸಿದರು ಹೂಡಿಕೆದಾರರ ನಿರಾಶೆಯ ಹೊರತಾಗಿಯೂ ಮುಖ್ಯ ಕಾರ್ಯನಿರ್ವಾಹಕ ಮಾರ್ಕ್ ರೀಡ್ ಫಲಿತಾಂಶಗಳಿಗೆ ಸಕಾರಾತ್ಮಕ ಭಾಗವನ್ನು ಕಂಡರು ನಮ್ಮ ಎಲ್ಲ ಸಹೋದ್ಯೋಗಿಗಳ ಕಠಿಣ ಪರಿಶ್ರಮಕ್ಕೆ ಧನ್ಯವಾದಗಳು ಅಲ್ಪಾವಧಿಯಲ್ಲಿಯೇ ಗಣನೀಯ ಪ್ರಗತಿಯನ್ನು ಸಾಧಿಸಿದೆ ಎಂದು ಅವರು ಹೇಳಿದರು ತಂತ್ರಜ್ಞಾನದಿಂದ ನಡೆಸಲ್ಪಡುವ ನಮ್ಮ ಹೊಸ ಸೃಜನಶೀಲತೆಯ ಕೊಡುಗೆ ಗ್ರಾಹಕರೊಂದಿಗೆ ಪ್ರತಿಧ್ವನಿಸಿದೆ ಏಕೆಂದರೆ ನಾವು ಉತ್ತಮ ಧಾರಣ ದರಗಳು ಮತ್ತು ಪ್ರಮುಖ ಗೆಲುವುಗಳನ್ನು ನೋಡಿದ್ದೇವೆ ಮೊದಲ ಕ್ರಿಸ್ ಡಾಲಿ ಮುಖ್ಯ ಕಾರ್ಯನಿರ್ವಾಹಕರಿಗಿಂತ ದ್ವಿತೀಯಾರ್ಧವು ಉತ್ತಮವಾಗಿದೆ ಎಂದು ಅವರು ಹೇಳಿದರು ಚಾರ್ಟರ್ಡ್ ಇನ್ಸ್ಟಿಟ್ಯೂಟ್ ಆಫ್ ಮಾರ್ಕೆಟಿಂಗ್ ಹೇಳಿದೆ ಡಬ್ಲ್ಯುಪಿಪಿಗೆ ಅವಕಾಶವು ಮಹತ್ವದ್ದಾಗಿದೆ ಅದರಲ್ಲೂ ವಿಶೇಷವಾಗಿ ಮಾರ್ಕೆಟಿಂಗ್ ಬಜೆಟ್ ಹೆಚ್ಚಾಗಿದೆ ಇತ್ತೀಚಿನ ಐಪಿಎ ಬೆಲ್ ವೆಥರ್ ವರದಿಯ ಪ್ರಕಾರ ಅವರು ಜನವರಿ ರಿಂದ ಮೊದಲಿಗರು ಆದರೆ ಇದರ ಲಾಭ ಪಡೆಯಲು ಉದ್ಯಮದಲ್ಲಿ ಕ್ರಿಯಾತ್ಮಕ ಬದಲಾವಣೆಗಳೊಂದಿಗೆ ವೇಗವನ್ನು ಉಳಿಸಿಕೊಳ್ಳುವ ಸಾಮರ್ಥ್ಯವನ್ನು ಹೂಡಿಕೆದಾರರಿಗೆ ಮನವರಿಕೆ ಮಾಡಲು ಸಂಸ್ಥೆ ಉತ್ತಮವಾಗಿ ಕಾರ್ಯನಿರ್ವಹಿಸಬೇಕು ದೃಷ್ಟಿಕೋನವು ಸಂಭಾವ್ಯ ಪರಿಣಾಮಗಳನ್ನು ಗಣನೆಗೆ ತೆಗೆದುಕೊಳ್ಳುವುದಿಲ್ಲ ಕರೋನವೈರಸ್ ಹೇಳಿದರು ಆದರೆ ಟೆಕ್ ಪರಾಕ್ರಮದ ಈ ಪ್ರದರ್ಶನವು ಕ್ರೀಡಾಂಗಣಗಳಿಗೆ ಸೀಮಿತವಾಗಿಲ್ಲ ಎಲ್ಲಾ ನಿಪ್ಪಾನ್ ಏರ್ವೇಸ್ ಎಎನ್ಎ ಜಪಾನ್ ನ ಅತಿದೊಡ್ಡ ವಿಮಾನಯಾನವು ರಾಷ್ಟ್ರದ ವಿಮಾನ ನಿಲ್ದಾಣಗಳಲ್ಲಿ ಮತ್ತು ಟಾಯ್ಕೊದ ಶಾಪಿಂಗ್ ಕೇಂದ್ರಗಳು ಮತ್ತು ಪ್ರವಾಸಿ ಆಕರ್ಷಣೆಗಳಲ್ಲಿ ಬಳಸಬೇಕಾದ ವಿವಿಧ ಪ್ರಯಾಣ ಕೇಂದ್ರಿತ ತಂತ್ರಜ್ಞಾನಗಳನ್ನು ಅಭಿವೃದ್ಧಿಪಡಿಸುವಲ್ಲಿ ನಿರತವಾಗಿದೆ ಈ ಬೇಸಿಗೆಯಲ್ಲಿ ವಿದೇಶಿ ಪ್ರವಾಸಿಗರ ಹೆಚ್ಚಳಕ್ಕೆ ಕಾರಣವಾಗುವ ಆಟಗಳು ಕರೋನವೈರಸ್ ನಿಂದಾಗಿ ರದ್ದಾಗುವುದಿಲ್ಲವಾದ್ದರಿಂದ ಜಪಾನ್ ನ ವಿಮಾನ ನಿಲ್ದಾಣಗಳಲ್ಲಿನ ಎಲ್ಲಾ ಪ್ರಯಾಣಿಕರೊಂದಿಗೆ ಪರಿಣಾಮಕಾರಿಯಾಗಿ ಸಂವಹನ ನಡೆಸಲು ತನ್ನ ನೆಲದ ಸಿಬ್ಬಂದಿಗೆ ಹೆಚ್ಚಿನ ಪ್ರಯತ್ನಗಳು ಬೇಕಾಗುತ್ತವೆ ಎಂದು ಎಎನ್ ಎ ಗುರುತಿಸಿದೆ ಜಪಾನೀಸ್ ಅಥವಾ ಇಂಗ್ಲಿಷ್ ನಲ್ಲಿ ಮಾರ್ಚ್ ಅಂತ್ಯದ ವೇಳೆಗೆ ಸಾಧನವು ಜಪಾನ್ ನ ಎಲ್ಲಾ ವಿಮಾನ ನಿಲ್ದಾಣಗಳಲ್ಲಿ ಎಎನ್ ಎ ಸೇವೆ ಸಲ್ಲಿಸುತ್ತದೆ ಎಎನ್ ಎ ಸೇವೆ ಸಲ್ಲಿಸುತ್ತಿದ್ದರೆ ಪಾಕೆಟಾಕ್ ಉತ್ತಮವಾಗಿ ಕಾರ್ಯನಿರ್ವಹಿಸಿದರೆ ಎಎನ್ ಎ ವಿಮಾನಗಳಲ್ಲಿ ಮತ್ತು ಜಪಾನ್ ಹೊರಗಿನ ವಿಮಾನ ನಿಲ್ದಾಣಗಳಲ್ಲಿ ಸಾಧನವನ್ನು ಕಾರ್ಯಗತಗೊಳಿಸಲು ಎಎನ್ ಎ ಯೋಜಿಸಿದೆ ಟೋಕಿಯೊದ ನರಿಟಾ ವಿಮಾನ ನಿಲ್ದಾಣದಲ್ಲಿ ಗಾಲಿಕುರ್ಚಿಗಳಿಗಾಗಿ ಪ್ರಯಾಣಿಕರ ವಿನಂತಿಗಳ ಸಂಖ್ಯೆ ಹೆಚ್ಚಾಗುತ್ತಿದೆ ರಾಯಿಟರ್ಸ್ ಸ್ವೀಡನ್ ನ ಐಕೆಇಎ ಅಲ್ಪಾವಧಿಯಲ್ಲಿ ಭಾರತದಲ್ಲಿ ಬೆಲೆಗಳನ್ನು ಹೆಚ್ಚಿಸಲು ಯೋಜಿಸುತ್ತಿಲ್ಲ ಪೀಠೋಪಕರಣಗಳಂತಹ ಸರಕುಗಳ ಮೇಲೆ ಆಮದು ತೆರಿಗೆಯನ್ನು ಹೆಚ್ಚಿಸುವ ಭಾರತದ ಕ್ರಮವನ್ನು ಅನುಸರಿಸಿ ಕಂಪನಿಯ ಕಾರ್ಯನಿರ್ವಾಹಕ ಗುರುವಾರ ಐಕೆಇಎ ಭಾರತದಲ್ಲಿ ಮಾರಾಟ ಮಾಡುವ ಸರಕುಗಳನ್ನು ಆಮದು ಮಾಡಿಕೊಳ್ಳುತ್ತದೆ ನಾವು ನಮ್ಮ ಬ್ರ್ಯಾಂಡ್ ಗ್ರಾಹಕರ ಕಡೆಗೆ ಬೆಲೆಗಳನ್ನು ಹೆಚ್ಚಿಸುವುದಿಲ್ಲ ಏಕೆಂದರೆ ನಾವು ಕೈಗೆಟುಕುವೆವು ಎಂದು ನಾವು ಹೇಳುತ್ತೇವೆ ಐಕೆಇಎ ಭಾರತದ ವ್ಯವಸ್ಥಾಪಕ ನಿರ್ದೇಶಕ ಭಾರತದ ಆರ್ಥಿಕ ರಾಜಧಾನಿ ಮುಂಬೈ ಭಾರತದ ಸಮಾವೇಶದಲ್ಲಿ ಈ ತಿಂಗಳು ಎಲೆಕ್ಟ್ರಾನಿಕ್ ವಸ್ತುಗಳ ಆಟಿಕೆಗಳಂತಹ ಸರಕುಗಳ ಆಮದಿನ ಮೇಲೆ ಹೆಚ್ಚಿನ ತೆರಿಗೆಯನ್ನು ಘೋಷಿಸಿದರು ಮತ್ತು ದೇಶೀಯ ಉತ್ಪಾದನೆಯನ್ನು ಹೆಚ್ಚಿಸುವ ಗುರಿಯನ್ನು ಹೊಂದಿರುವ ಪೀಠೋಪಕರಣಗಳು ಐಕೆಇಎ ಸುಂಕದ ಬಗ್ಗೆ ಭಾರತದೊಂದಿಗೆ ಮಾತುಕತೆ ನಡೆಸುತ್ತಿದೆ ಬೆಟ್ಜೆಲ್ ಸರ್ಕಾರ ಬಹಳ ಮುಕ್ತವಾಗಿದೆ ಎಂದು ಹೇಳಿದರು ಕರೋನವೈರಸ್ ಭೀತಿ ಉಂಟಾಗುತ್ತಿದ್ದಂತೆ ಮಾರುಕಟ್ಟೆಗಳು ಭಯದಿಂದ ವಹಿವಾಟು ನಡೆಸುತ್ತಿವೆ ಕರೋನವೈರಸ್ ಏಕಾಏಕಿ ಗಮನಾರ್ಹವಾಗಿ ಕಡಿಮೆ ಗಳಿಕೆ ಮತ್ತು ರಕ್ತಹೀನತೆಯ ಜಾಗತಿಕ ಬೆಳವಣಿಗೆಗೆ ಅನುವಾದಿಸುತ್ತದೆ ಎಂದು ಮಾರುಕಟ್ಟೆ ಅರ್ಥೈಸಿಕೊಳ್ಳುತ್ತಿದೆ ಜಾಗತಿಕ ಪೂರೈಕೆ ಸರಪಳಿಗಳಿಗೆ ಲಾಭದಾಯಕವಾದ ಪ್ರಯಾಣದ ನಿರ್ಬಂಧಗಳು ಮದ್ಯದ ದೈತ್ಯವು ಪ್ರಮುಖ ಲಾಭದಲ್ಲಿ ಕುಸಿತವನ್ನು ಕಂಡಿತು ಮತ್ತು ಕರೋನವೈರಸ್ ತನ್ನ ದೃಷ್ಟಿಕೋನವನ್ನು ನೋಯಿಸಿದೆ ಎಂದು ಎಚ್ಚರಿಸಿದೆ ಬ್ರಿಟನ್ ವ್ಯಾಪಾರದ ಮೇಲೆ ಇಯು ಜೊತೆ ಘರ್ಷಣೆಯ ಹಾದಿಯಲ್ಲಿದೆ ಈ ವ್ಯಕ್ತಿ ತನ್ನ ತಾಯ್ನಾಡಿನ ವ್ಯಾಪಾರ ಪ್ರವಾಸದಿಂದ ಬಾಲ್ಟಿಕ್ ರಾಷ್ಟ್ರಕ್ಕೆ ಮರಳಿದ ಒಂದು ದಿನದ ನಂತರ ಗುರುವಾರ ಎಸ್ಟೋನಿಯಾ ತನ್ನ ಮೊದಲ ಕರೋನವೈರಸ್ ಪ್ರಕರಣವನ್ನು ವರದಿ ಮಾಡಿದೆ ಇರಾನ್ ಟ್ಯಾಲಿನ್ ಉರ್ದುಪಾಯಿಂಟ್ ಪಾಕಿಸ್ತಾನ ಪಾಯಿಂಟ್ ನ್ಯೂಸ್ ಫೆಬ್ರವರಿ ಎಸ್ಟೋನಿಯಾ ತನ್ನ ಮೊದಲ ಕರೋನವೈರಸ್ ಪ್ರಕರಣವನ್ನು ಗುರುವಾರ ವರದಿ ಮಾಡಿದೆ ತನ್ನ ತಾಯ್ನಾಡಿನ ವ್ಯಾಪಾರ ಪ್ರವಾಸದಿಂದ ಬಾಲ್ಟಿಕ್ ರಾಷ್ಟ್ರ ಇರಾನ್ ನ ಪ್ರಜೆಯಲ್ಲದ ಖಾಯಂ ನಿವಾಸಿ ಬುಧವಾರ ಸಂಜೆ ಎಸ್ಟೋನಿಯಾಗೆ ಬಂದರು ಎಂದು ಕಿಕ್ ಹೇಳಿದ್ದಾರೆ ಲಾಟ್ವಿಯನ್ ರಾಜಧಾನಿಯಿಂದ ಬಸ್ ಮೂಲಕ ಟ್ಯಾಲಿನ್ ಗೆ ಬಂದ ನಂತರ ಈ ವ್ಯಕ್ತಿ ಆರೋಗ್ಯ ಅಧಿಕಾರಿಗಳನ್ನು ಸಂಪರ್ಕಿಸಿದ್ದಾನೆ ಎಂದು ಸ್ಥಳೀಯ ಮಾಧ್ಯಮಗಳು ತಿಳಿಸಿವೆ ಇಸ್ತಾಂಬುಲ್ ಇರಾನ್ ನಿಂದ ಅವರು ಹಾರಾಟ ನಡೆಸಿದ ರಿಗಾ ಒಟ್ಟು ಸಾವುಗಳನ್ನು ಘೋಷಿಸಿದೆ ಮತ್ತು ದೇಶದ ಉಪ ಆರೋಗ್ಯ ಸಚಿವ ಇರಾನ್ ಅವರ ಕರೋನವೈರಸ್ ಸಾವಿನ ಸಂಖ್ಯೆ ಸೇರಿದಂತೆ ಕ್ಕೂ ಹೆಚ್ಚು ಸೋಂಕುಗಳು ಚೀನಾದ ನಂತರ ಅತಿ ಹೆಚ್ಚು ಎಂದು ಕ್ಕೂ ಹೆಚ್ಚು ಜನರು ಸಾವನ್ನಪ್ಪಿದ್ದಾರೆ ಯಿಂದ ಮಕ್ಕಳನ್ನು ರಕ್ಷಿಸಲು ಜಪಾನ್ ನ ಎಲ್ಲಾ ಶಾಲೆಗಳನ್ನು ತಾತ್ಕಾಲಿಕವಾಗಿ ಮುಚ್ಚುವಂತೆ ಅಬೆ ವಿನಂತಿಸಿದ್ದಾರೆ ನಿಮಿಷಗಳ ಹಿಂದೆ ಜಪಾನಿನ ಪ್ರಧಾನಿ ಶಿಂಜೊ ಅಬೆ ಗುರುವಾರ ಮಾರ್ಚ್ ರಿಂದ ವಸಂತ ವಿರಾಮದವರೆಗೆ ದೇಶದ ಎಲ್ಲಾ ಶಾಲೆಗಳನ್ನು ಮುಚ್ಚುವಂತೆ ಸೂಚನೆ ನೀಡಿದ್ದಾರೆ ಕೊರೊನಾವೈರಸ್ ಉಸಿರಾಟದ ಕಾಯಿಲೆಯ ಹರಡುವಿಕೆಯಿಂದ ಮಕ್ಕಳನ್ನು ರಕ್ಷಿಸಿ ಉರ್ದುಪಾಯಿಂಟ್ ನ್ಯೂಸ್ ಸ್ಪುಟ್ನಿಕ್ ಫೆಬ್ರವರಿ ಜಪಾನಿನ ಪ್ರಧಾನಿ ಶಿಂಜೊ ಅಬೆ ಗುರುವಾರ ದೇಶದ ಎಲ್ಲ ಶಾಲೆಗಳನ್ನು ಮಾರ್ಚ್ ರಿಂದ ವಸಂತಕಾಲದ ವಿರಾಮದವರೆಗೆ ಮುಚ್ಚುವಂತೆ ಸೂಚನೆ ನೀಡಿದ್ದಾರೆ ಕಾದಂಬರಿ ಕೊರೊನಾವೈರಸ್ ಉಸಿರಾಟದ ಕಾಯಿಲೆ ಮಕ್ಕಳ ಆರೋಗ್ಯ ಮತ್ತು ಸುರಕ್ಷತೆಯನ್ನು ಮೊದಲು ಇಡುವುದು ಮತ್ತು ಅನೇಕ ಮಕ್ಕಳು ಮತ್ತು ಶಿಕ್ಷಕರು ಪ್ರತಿದಿನ ಒಂದೇ ಸ್ಥಳದಲ್ಲಿ ಒಟ್ಟುಗೂಡಿಸುವುದರಿಂದ ಉಂಟಾಗುವ ಸೋಂಕಿನ ಅಪಾಯವನ್ನು ಪರಿಹರಿಸಲು ಪ್ರಾಥಮಿಕ ಕ್ರಮಗಳನ್ನು ತೆಗೆದುಕೊಳ್ಳುವ ದೃಷ್ಟಿಕೋನದಿಂದ ನಾನು ಎಲ್ಲರಿಗೂ ವಿನಂತಿಸುತ್ತೇನೆ ಪ್ರಾಥಮಿಕ ಕಿರಿಯ ಮತ್ತು ಪ್ರೌ ಶಾಲೆಗಳು ಮತ್ತು ವಿಶೇಷ ಅಗತ್ಯವಿರುವ ಶಾಲೆಗಳನ್ನು ಮಾರ್ಚ್ ರಿಂದ ತಾತ್ಕಾಲಿಕವಾಗಿ ಮುಚ್ಚಲಾಗುತ್ತದೆ ಸ್ಪ್ರಿಂಗ್ ಬ್ರೇಕ್ ಅಬೆ ಎನ್ ಎಚ್ ಕೆ ಬ್ರಾಡ್ ಕಾಸ್ಟರ್ ಪ್ರಸಾರ ಮಾಡಿದ ಕಾದಂಬರಿ ಕೊರೊನಾವೈರಸ್ ಪ್ರತಿಕ್ರಿಯೆ ಕೇಂದ್ರ ಕಚೇರಿಯೊಂದಕ್ಕೆ ತಿಳಿಸಿದರು ಜಪಾನ್ ನ ಉತ್ತರದ ದಿಕ್ಕಿನ ಹೊಕ್ಕೈಡೋ ಪ್ರಾಂತ್ಯದಲ್ಲಿ ವರ್ಷದೊಳಗಿನ ಇಬ್ಬರು ಬಾಲಕರು ವೈರಸ್ ಗೆ ಧನಾತ್ಮಕ ಪರೀಕ್ಷೆ ನಡೆಸಿದ ನಂತರ ಈ ಕ್ರಮವು ದೇಶದ ಒಟ್ಟು ಪ್ರಕರಣಗಳ ಸಂಖ್ಯೆಯನ್ನು ಹೊಂದಿದೆ ಈ ತಿಂಗಳ ಆರಂಭದಲ್ಲಿ ಯೊಕೊಹಾಮಾದಲ್ಲಿ ನಿರ್ಬಂಧಿಸಲಾದ ವೈರಸ್ ಪೀಡಿತ ಡೈಮಂಡ್ ಪ್ರಿನ್ಸೆಸ್ ಕ್ರೂಸ್ ಹಡಗಿನಿಂದ ಅನ್ನು ಹೊರತುಪಡಿಸಿ ಅನ್ನು ಈಗ ನಿಗ್ರಹಿಸಲಾಗಿದೆ ಎಂದು ಸ್ಥಳೀಯ ಅಧಿಕಾರಿಗಳನ್ನು ಉಲ್ಲೇಖಿಸಿ ಎನ್ಎಚ್ಕೆ ಪ್ರಸಾರ ಗುರುವಾರ ವರದಿ ಮಾಡಿದೆ ವಿದೇಶಿ ಕಚೇರಿ ವಕ್ತಾರ ಆಯಿಷಾ ಫಾರೂಕಿ ತನ್ನ ಸಾಪ್ತಾಹಿಕ ಸುದ್ದಿಗೋಷ್ಠಿಯಲ್ಲಿ ವೈರಸ್ ಹರಡುವಿಕೆಯನ್ನು ನಿರ್ವಹಿಸುವಲ್ಲಿ ಇರಾನಿನ ಅಧಿಕಾರಿಗಳ ಪ್ರಯತ್ನವನ್ನು ಪಾಕಿಸ್ತಾನ ಸಂಪೂರ್ಣವಾಗಿ ಬೆಂಬಲಿಸಿದೆ ಎಂದು ವಕ್ತಾರರು ಹೇಳಿದ್ದಾರೆ ಆದರೆ ಯುಎಸ್ ಮತ್ತು ಭಾರತದ ನಡುವಿನ ರಕ್ಷಣಾ ಒಪ್ಪಂದಗಳ ಬಗ್ಗೆ ಪಾಕಿಸ್ತಾನವು ಕಳವಳವನ್ನು ಹೊಂದಿದೆ ವಿಶೇಷವಾಗಿ ಅತ್ಯಾಧುನಿಕ ಶಸ್ತ್ರಾಸ್ತ್ರ ವ್ಯವಸ್ಥೆಯನ್ನು ಮಾರಾಟ ಮಾಡುವುದು ನವದೆಹಲಿ ಪಾಕಿಸ್ತಾನದ ಕಡೆಗೆ ಮಾತ್ರವಲ್ಲದೆ ಈ ಪ್ರದೇಶದ ಇತರ ದೇಶಗಳ ಬಗ್ಗೆಯೂ ಭಾರತದ ಆಕ್ರಮಣಕಾರಿ ವಿನ್ಯಾಸಗಳ ಬಗ್ಗೆ ನಾವು ಅನೇಕ ಬಾರಿ ಅಂತರರಾಷ್ಟ್ರೀಯ ಸಮುದಾಯವನ್ನು ಎಚ್ಚರಿಸಿದ್ದೇವೆ ಎಂದು ಅವರು ಹೇಳಿದರು ಪೂರ್ವ ಗಡಿಯಿಂದ ಹೊರಹೊಮ್ಮುವ ರಾಜ್ಯ ಭಯೋತ್ಪಾದನೆಗೆ ಪಾಕಿಸ್ತಾನ ಬಲಿಯಾಗಿದೆ ಎಂದು ಅವರು ಹೇಳಿದರು ಯುಎಸ್ ಮತ್ತು ಅಫಘಾನ್ ತಾಲಿಬಾನ್ ನಡುವೆ ಶನಿವಾರ ಮಾಡಿಕೊಳ್ಳಲಿರುವ ಶಾಂತಿ ಒಪ್ಪಂದವನ್ನು ಪಾಕಿಸ್ತಾನ ಸ್ವಾಗತಿಸುತ್ತಿದೆ ಎಂದು ಅಂತಾರಾಷ್ಟ್ರೀಯ ಸಮುದಾಯದ ಆಯಿಷಾ ಫಾರೂಕಿ ಹೇಳಿದ್ದಾರೆ ತಜ್ಞರ ಶಿಫಾರಸಿನ ಆಧಾರದ ಮೇಲೆ ಮತ್ತು ಸಾರ್ವಜನಿಕ ಆರೋಗ್ಯವನ್ನು ಕಾಪಾಡಲು ನಾವು ಇತರ ಗ್ರೀಸ್ ದೇಶಗಳಲ್ಲಿ ಕಾರ್ನೀವಲ್ ಘಟನೆಗಳನ್ನು ರದ್ದುಗೊಳಿಸಲು ನಿರ್ಧರಿಸಿದ್ದೇವೆ ಏಕೆಂದರೆ ಇತರ ಯುರೋಪಿಯನ್ ರಾಷ್ಟ್ರಗಳು ಆರೋಗ್ಯ ಸಚಿವ ವಾಸಿಲಿಸ್ ಕಿಕಿಲಿಯಾಸ್ ಸುದ್ದಿಗೋಷ್ಠಿಯಲ್ಲಿ ಹೇಳಿದರು ಮೂರನೇ ಪ್ರಕರಣ ಅಥೆನ್ಸ್ ನಲ್ಲಿದೆ ಮಹಿಳೆಯೊಬ್ಬರು ಇಟಲಿಗೆ ಪ್ರಯಾಣ ಬೆಳೆಸಿದರು ವೈರಸ್ ಬಗ್ಗೆ ಸಚಿವಾಲಯದ ವಕ್ತಾರ ಸೋತಿರಿಸ್ ಸಿಯೋಡ್ರಾಸ್ ಸುದ್ದಿಗಾರರಿಗೆ ತಿಳಿಸಿದರು ಸಾಮೂಹಿಕ ಏಕಾಏಕಿ ಸಂಭವಿಸಿದಲ್ಲಿ ಕೆಲವು ಸಾರ್ವಜನಿಕ ಪ್ರದೇಶಗಳನ್ನು ಸ್ಥಗಿತಗೊಳಿಸುವುದು ಮತ್ತು ಪ್ರಯಾಣ ನಿರ್ಬಂಧಗಳನ್ನು ಸಕ್ರಿಯಗೊಳಿಸಲಾಗುವುದು ಎಂದು ಗ್ರೀಕ್ ಸರ್ಕಾರ ಈ ವಾರ ಹೇಳಿದೆ ಶಾಲೆಗಳ ಸ್ಥಳಗಳಂತಹ ಒಳಾಂಗಣ ಸಾರ್ವಜನಿಕ ಸಭೆ ಪ್ರದೇಶಗಳನ್ನು ತಾತ್ಕಾಲಿಕವಾಗಿ ಮುಚ್ಚುವುದನ್ನು ಸಹ ಈ ತೀರ್ಪು ಮುನ್ಸೂಚಿಸುತ್ತದೆ ಪೂಜಾ ಚಿತ್ರಮಂದಿರಗಳ ಕ್ರೀಡಾ ಸಭಾಂಗಣಗಳು ಮತ್ತು ವ್ಯವಹಾರಗಳು ಸಾರ್ವಜನಿಕ ಆರೋಗ್ಯ ಸರ್ಕಾರದ ವಕ್ತಾರ ಸ್ಟೆಲಿಯೊಸ್ ಪೆಟ್ಸಾಸ್ ಸುದ್ದಿಗಾರರಿಗೆ ತಿಳಿಸಿದರು ಸಿಂಗಾಪುರ್ ದಿ ಬ್ಯುಸಿನೆಸ್ ಟೈಮ್ಸ್ ಎಸ್ ಪಿಹೆಚ್ ರೀಟ್ ತನ್ನ ಬಾಡಿಗೆದಾರರಿಗೆ ವೈಯಕ್ತಿಕ ಬಾಡಿಗೆದಾರರ ಸಂದರ್ಭಗಳಿಗೆ ಅನುಗುಣವಾಗಿ ಸಹಾಯ ಪ್ಯಾಕೇಜ್ ಗಳ ರೂಪದಲ್ಲಿ ಕೊರೊನಾವೈರಸ್ ಏಕಾಏಕಿ ಹವಾಮಾನವನ್ನು ಹೆಚ್ಚಿಸಲು ಹೆಚ್ಚುವರಿ ಸಹಾಯವನ್ನು ನೀಡಲಿದೆ ಎಂದು ಗುರುವಾರ ಫೆಬ್ರವರಿ ರಂದು ರಿಯಲ್ ಎಸ್ಟೇಟ್ ಇನ್ವೆಸ್ಟ್ಮೆಂಟ್ ಟ್ರಸ್ಟ್ ರೀಟ್ ತನ್ನ ಬಾಡಿಗೆದಾರರನ್ನು ತೊಡಗಿಸಿಕೊಳ್ಳಲು ಯೋಜಿಸಿದೆ ವಿವಿಧ ವ್ಯಾಪಾರ ಪ್ರಕಾರಗಳನ್ನು ಹೊಂದಿರುವ ಬಾಡಿಗೆದಾರರು ವಿಭಿನ್ನ ಆಪರೇಟಿಂಗ್ ಮೆಟ್ರಿಕ್ ಗಳನ್ನು ಹೊಂದಿರುವುದರಿಂದ ಕೋವಿಡ್ ರ ಪ್ರಕಾರ ಮತ್ತು ಪ್ಯಾಕೇಜ್ ಗಳನ್ನು ಹೊಂದಿಸಿ ಎಂದು ಎಸ್ ಪಿಹೆಚ್ ರೀಟ್ ಸಿಇಒ ಸುಸಾನ್ ಲೆಂಗ್ ಹೇಳಿದರು ಬಜೆಟ್ ರಲ್ಲಿ ಘೋಷಿಸಿದ ಪ್ರತಿಶತದಷ್ಟು ಆಸ್ತಿ ತೆರಿಗೆ ರಿಯಾಯಿತಿಯ ಮೇಲೆ ಪರಿಹಾರ ಪ್ಯಾಕೇಜುಗಳು ಎಸ್ ಪಿಹೆಚ್ ರೀಟ್ ಯೋಜಿಸಿದೆ ಅರ್ಹತಾ ಬಾಡಿಗೆದಾರರಿಗೆ ಹಾದುಹೋಗು ಎಸ್ ಪಿಹೆಚ್ ರೀಟ್ ನ ಅಡಿಯಲ್ಲಿರುವ ಮಾಲ್ ಗಳು ಪ್ರಮಾಣಿತ ಗಂಟೆಗಳಲ್ಲಿ ಕಾರ್ಯನಿರ್ವಹಿಸುವುದನ್ನು ಮುಂದುವರಿಸುತ್ತವೆ ಆದರೆ ಬಾಡಿಗೆದಾರರಿಗೆ ಸಿಬ್ಬಂದಿ ವೆಚ್ಚವನ್ನು ಕಡಿಮೆ ಮಾಡಲು ಮತ್ತು ಮಾನವಶಕ್ತಿ ಯೋಜನೆಯಲ್ಲಿ ಸಹಾಯವನ್ನು ಕಡಿಮೆ ಮಾಡಲು ಸಮಯವನ್ನು ಕಡಿಮೆ ಮಾಡಲು ಅನುಮತಿಸಲಾಗುವುದು ಎಸ್ ಪಿಹೆಚ್ ರೀಟ್ ನ ವ್ಯವಸ್ಥಾಪಕರು ಸ್ವಚ್ ಗೊಳಿಸುವಿಕೆ ಮತ್ತು ತೀವ್ರಗೊಳಿಸುವಂತಹ ಮುನ್ನೆಚ್ಚರಿಕೆ ಕ್ರಮಗಳನ್ನು ಜಾರಿಗೆ ತಂದಿದ್ದಾರೆ ಅದರ ಮಾಲ್ ಗಳನ್ನು ಸೋಂಕುರಹಿತಗೊಳಿಸುವುದು ವಿಶೇಷವಾಗಿ ಹೆಚ್ಚಿನ ಮಾನವ ಸಂಚಾರ ಸಂಪರ್ಕ ಕೇಂದ್ರಗಳಾದ ಟಾಯ್ಲೆಟ್ ಲಿಫ್ಟ್ ಗಳಲ್ಲಿ ಬಿನ್ ಗಳನ್ನು ನಿರಾಕರಿಸುತ್ತದೆ ಕೈ ಹಳಿಗಳು ಕಳೆದ ಒಂದು ತಿಂಗಳಲ್ಲಿ ಭಾರತದಲ್ಲಿ ನವದೆಹಲಿ ಚಿಕನ್ ಮಾರಾಟವು ಶೇಕಡಾ ಕ್ಕಿಂತಲೂ ಕಡಿಮೆಯಾಗಿದೆ ಮತ್ತು ಬೆಲೆಗಳು ಶೇಕಡಾ ರಷ್ಟು ಇಳಿಕೆಯಾಗಿವೆ ಎಂದು ಸಾಮಾಜಿಕ ಮಾಧ್ಯಮಗಳಲ್ಲಿ ಹಾಪೋಹಗಳು ಹರಡಿವೆ ವ್ಯವಸ್ಥಾಪಕ ನಿರ್ದೇಶಕ ಬಿ ಎಸ್ ಯಾದವ್ ಅದರ ಕೋಳಿ ತೋಳು ಗೋದ್ರೆಜ್ ಟೈಸನ್ ಫುಡ್ಸ್ ಸಹ ವಾರದಲ್ಲಿ ಪಕ್ಷಿಗಳಿಂದ ಕಳೆದ ಒಂದು ತಿಂಗಳಲ್ಲಿ ಮಾರಾಟವು ಶೇಕಡಾ ರಷ್ಟು ತೀವ್ರವಾಗಿ ಕುಸಿದಿದೆ ಎಂದು ಅವರು ಹೇಳಿದರು ಆದರೆ ಒಮ್ಮೆ ವದಂತಿಗಳು ಕಡಿಮೆಯಾಗಿ ಮುಂದಿನ ರಲ್ಲಿ ಬಳಕೆ ಹೆಚ್ಚಾಗುತ್ತದೆ ತಿಂಗಳುಗಳಲ್ಲಿ ದೇಶದಲ್ಲಿ ಕೋಳಿ ಕೊರತೆ ಉಂಟಾಗುತ್ತದೆ ಭಾರತದಲ್ಲಿ ಚಿಕನ್ ಸುರಕ್ಷಿತವಾಗಿದೆ ಎಂದು ಅವರು ಗಮನಿಸಿದರು ಆದರೆ ಕೋಳಿಯಿಂದ ಕರೋನವೈರಸ್ ಹರಡುವ ವದಂತಿಗಳು ನಮ್ಮ ದೇಶದಲ್ಲಿ ಕೇವಲ ಒಂದು ತಿಂಗಳಲ್ಲಿ ಪ್ರತಿಶತದಷ್ಟು ಬೇಡಿಕೆಯನ್ನು ತೀವ್ರವಾಗಿ ಹೆಚ್ಚಿಸಿವೆ ಮತ್ತು ಮಾಜಿ ಜಮೀನಿನಲ್ಲಿ ಗೇಟ್ ಬೆಲೆಗಳು ಸಹ ಶೇಕಡಾ ರಷ್ಟು ಕುಸಿದಿವೆ ಎಂದು ಯಾದವ್ ಸುದ್ದಿಗಾರರಿಗೆ ತಿಳಿಸಿದರು ದೇಶಾದ್ಯಂತ ವಾರಕ್ಕೆ ಪಕ್ಷಿಗಳಿಂದ ಕೋಳಿ ಮಾರಾಟವು ವಾರಕ್ಕೆ ಮಿಲಿಯನ್ ಪಕ್ಷಿಗಳಿಗೆ ಇಳಿದಿದೆ ಆದರೆ ಮಾಜಿ ಫಾರ್ಮ್ ಗೇಟ್ ಬೆಲೆಗಳು ಕಳೆದ ಒಂದು ತಿಂಗಳಲ್ಲಿ ಪ್ರತಿ ಕೆಜಿಗೆ ರೂ ನಿಂದ ಪ್ರತಿಶತದಷ್ಟು ಇಳಿದು ಕೆ ಜಿ ಗೆ ರೂ ಗೆ ಇಳಿದಿದ್ದರೂ ಉತ್ಪಾದನಾ ವೆಚ್ಚ ಪ್ರತಿ ಕೆ ಜಿ ಗೆ ರೂ ಭಾರತದ ದೇಶೀಯ ಅನಿಲ ಬೇಡಿಕೆಯು ಪ್ರತಿಫಲನ ಹಂತದಲ್ಲಿದೆ ಮತ್ತು ಮುಂದಿನ ಐದು ವರ್ಷಗಳಲ್ಲಿ ಶೇಕಡಾ ರಷ್ಟು ಪರಿಮಾಣದ ಬೆಳವಣಿಗೆಯನ್ನು ಕಾಣುವ ನಿರೀಕ್ಷೆಯಿದೆ ಮುಖ್ಯವಾಗಿ ವರದಿಯ ಪ್ರಕಾರ ನಿರಂತರ ದುರ್ಬಲ ಎಲ್ ಎನ್ ಜಿ ಬೆಲೆಗಳಿಂದ ಪ್ರೇರಿತವಾಗಿದೆ ಚಿಲ್ಲರೆ ವ್ಯಾಪಾರದಿಂದ ಎಂಎಂಸಿಎಮ್ ಡಿ ಹೆಚ್ಚುವರಿ ಬೇಡಿಕೆ ಬರುತ್ತದೆ ಕೈಗಾರಿಕೆಗಳಿಗೆ ಮತ್ತು ಮನೆಗಳಿಗೆ ಸಿಎನ್ ಜಿ ಮತ್ತು ನೈಸರ್ಗಿಕ ಅನಿಲವನ್ನು ಕೈಗಾರಿಕೆಗಳಿಗೆ ಮತ್ತು ಮನೆಗಳಿಗೆ ಪೈಪ್ ಮಾಡಲಾಗಿದೆ ಮತ್ತು ದೇಶೀಯ ಅನಿಲ ಬೇಡಿಕೆಯು ಉಬ್ಬರವಿಳಿತದ ಹಂತದಲ್ಲಿದೆ ಮತ್ತು ಜಾಗತಿಕ ಪೂರೈಕೆಯಿಂದಾಗಿ ನಿರಂತರ ದುರ್ಬಲ ಎಲ್ ಎನ್ ಜಿ ಬೆಲೆಗಳ ವಾತಾವರಣವನ್ನು ನೀಡಿ ಮುಂದಿನ ಐದು ವರ್ಷಗಳಲ್ಲಿ ಶೇಕಡಾ ರಷ್ಟು ಪರಿಮಾಣದ ಬೆಳವಣಿಗೆ ಅಥವಾ ಎಂಎಂಸಿಎಂಡಿ ನಿರೀಕ್ಷಿಸಲಾಗಿದೆ ಕರೋನವೈರಸ್ ಏಕಾಏಕಿ ಉಲ್ಬಣಗೊಂಡಿರುವ ಚೀನಾದಿಂದ ಹೊಳಪು ಮತ್ತು ಮ್ಯೂಟ್ ಬೇಡಿಕೆ ರ ಕ್ಯಾಲೆಂಡರ್ ವರ್ಷದಲ್ಲಿ ಮಿಲಿಯನ್ ಟನ್ ಹೊಸ ಎಲ್ಎನ್ಜಿ ಪೂರೈಕೆ ಸೇರ್ಪಡೆಯಿಂದಾಗಿ ಮುಂದಿನ ವರ್ಷಗಳಲ್ಲಿ ಎಲ್ಎನ್ಜಿ ಬೆಲೆಗಳು ದುರ್ಬಲವಾಗಿರುತ್ತವೆ ಎಂದು ನಾವು ನಿರೀಕ್ಷಿಸುತ್ತೇವೆ ಮತ್ತು ಚೀನಾವನ್ನು ನಿಗ್ರಹಿಸಿದೆ ಹೆಚ್ಚುತ್ತಿರುವ ಸ್ಥಳೀಯ ಅನಿಲ ಉತ್ಪಾದನೆ ಮತ್ತು ಎಂಎಂಸಿಎಂಡಿ ರಷ್ಯಾವನ್ನು ಚೀನಾ ಗ್ಯಾಸ್ ಪೈಪ್ ಲೈನ್ ಗೆ ನಿಯೋಜಿಸುವುದರ ಮೇಲೆ ಎಲ್ ಎನ್ ಜಿ ಬೇಡಿಕೆಯ ಬೆಳವಣಿಗೆ ಅದು ಹೆಚ್ಚುವರಿ ಬೇಡಿಕೆಯ ಎಲಾರಾ ಸೆಕ್ಯುರಿಟೀಸ್ ನ ಅಂದಾಜಿನ ವಿಘಟನೆಯನ್ನು ನೀಡುತ್ತದೆ ಕೈಗಾರಿಕಾ ಸಿಜಿಡಿ ಎಂಎಂಸಿಎಂಡಿ ಅನಿಲವನ್ನು ಮತ್ತು ಕೈಗಾರಿಕಾವಲ್ಲದ ಸಿಜಿಡಿ ಸಿಎನ್ ಜಿ ಮನೆಯ ಮತ್ತು ವಾಣಿಜ್ಯ ಪೈಪ್ಡ್ ಅನಿಲದಿಂದ ಎಂಎಂಸಿಎಂಡಿ ಸೇವಿಸುವ ಸಾಧ್ಯತೆಯಿದೆ ಎಂದು ಹೇಳಿದರು ವಾಲ್ ಸ್ಟ್ರೀಟ್ ನಲ್ಲಿ ಗುರುವಾರ ತೆರೆದಿದ್ದ ಡೌ ಜೋನ್ಸ್ ಕೈಗಾರಿಕಾ ಸರಾಸರಿಗೆ ನೀವು ಎಸ್ ಸ್ಟಾಕ್ ಫ್ಯೂಚರ್ ಗಳು ಸುಮಾರು ಪಾಯಿಂಟ್ ಗಳ ನಷ್ಟವನ್ನು ಸೂಚಿಸುತ್ತಿದ್ದೀರಿ ಸಿಡಿಸಿ ಅಪರಿಚಿತ ಮೂಲದ ದಕ್ಷಿಣ ಕೊರಿಯಾದ ಮೊದಲ ನೀವು ಎಸ್ ಕರೋನವೈರಸ್ ಪ್ರಕರಣವನ್ನು ರ ಒಟ್ಟು ಕರೋನವೈರಸ್ ಪ್ರಕರಣಗಳೊಂದಿಗೆ ಹೊಸ ಪ್ರಕರಣಗಳನ್ನು ವರದಿ ಮಾಡಿದೆ ಚೀನಾದಲ್ಲಿ ವರದಿಯಾದ ಹೊಸ ಪ್ರಕರಣಗಳನ್ನು ಮೀರಿಸಿದೆ ಎಂದು ಅಧ್ಯಕ್ಷ ಡೊನಾಲ್ಡ್ ಟ್ರಂಪ್ ಬುಧವಾರ ರಾತ್ರಿ ಶ್ವೇತಭವನದ ಸುದ್ದಿಗೋಷ್ಠಿಯಲ್ಲಿ ಈ ಘೋಷಣೆ ಮಾಡಿದ್ದಾರೆ ಅಮೆರಿಕದ ಮತ್ತೊಂದು ಪ್ರಮುಖ ಕಂಪನಿ ಮೈಕ್ರೋಸಾಫ್ಟ್ ಕರೋನವೈರಸ್ ಪ್ರಭಾವದ ಬಗ್ಗೆ ಎಚ್ಚರಿಕೆ ನೀಡಿದ್ದರಿಂದ ಪೂರೈಕೆಯಿಂದಾಗಿ ತನ್ನ ಪಿಸಿ ವಿಭಾಗಕ್ಕೆ ಪೂರ್ವ ಮಾರ್ಗದರ್ಶನ ನೀಡುವ ನಿರೀಕ್ಷೆಯಿಲ್ಲ ಎಂದು ಹೇಳಿದ್ದಾರೆ ಸರಪಳಿ ಅಡೆತಡೆಗಳು ಶನಿವಾರದ ದಕ್ಷಿಣ ಕೆರೊಲಿನಾ ಡೆಮಾಕ್ರಟಿಕ್ ಅಧ್ಯಕ್ಷೀಯ ಪ್ರಾಥಮಿಕ ಹಾಲಿ ಪ್ರತಿನಿಧಿ ನಾಯಕ ಸೆನ್ ಬರ್ನಿ ಸ್ಯಾಂಡರ್ಸ್ ಇಬ್ಬರೂ ಸಿಲಿಕಾನ್ ವ್ಯಾಲಿ ಕಾರ್ಮಿಕರ ಬೆಂಬಲವನ್ನು ಪಡೆಯಲು ಯೋಜಿಸಿದ್ದಾರೆ ಮತ್ತು ಕ್ಯಾಲಿಫೋರ್ನಿಯಾದ ಟೆಕ್ ಉಬ್ಬಿಕೊಂಡಿರುವ ವಸತಿ ಬಿಕ್ಕಟ್ಟಿನಿಂದ ಗಾಯಗೊಂಡವರು ಮಾಜಿ ಉಪಾಧ್ಯಕ್ಷ ಜೋ ಬಿಡನ್ ಶನಿವಾರ ದಕ್ಷಿಣ ಕೆರೊಲಿನಾವನ್ನು ನೋಡುತ್ತಿದ್ದಾರೆ ಅವರ ಹೋರಾಟದ ಅಭಿಯಾನವನ್ನು ಪುನರುಜ್ಜೀವನಗೊಳಿಸಲು ಸೂಪರ್ ಮಂಗಳವಾರದ ಪ್ರಾಥಮಿಕ ಮತ್ತು ಸ್ಪರ್ಧೆಗಳು'"
      ]
     },
     "execution_count": 178,
     "metadata": {},
     "output_type": "execute_result"
    }
   ],
   "source": [
    "extract_kannada_text(data['text'].iloc[1])"
   ]
  },
  {
   "cell_type": "code",
   "execution_count": 179,
   "id": "8118cee8-a607-4e8f-91e4-1d28f5428a99",
   "metadata": {},
   "outputs": [],
   "source": [
    "data['cleaned'] = data['text'].apply(extract_kannada_text)"
   ]
  },
  {
   "cell_type": "code",
   "execution_count": 180,
   "id": "b7b0999d-644b-4769-83ec-9751926d5d18",
   "metadata": {},
   "outputs": [
    {
     "data": {
      "text/html": [
       "<div>\n",
       "<style scoped>\n",
       "    .dataframe tbody tr th:only-of-type {\n",
       "        vertical-align: middle;\n",
       "    }\n",
       "\n",
       "    .dataframe tbody tr th {\n",
       "        vertical-align: top;\n",
       "    }\n",
       "\n",
       "    .dataframe thead th {\n",
       "        text-align: right;\n",
       "    }\n",
       "</style>\n",
       "<table border=\"1\" class=\"dataframe\">\n",
       "  <thead>\n",
       "    <tr style=\"text-align: right;\">\n",
       "      <th></th>\n",
       "      <th>text</th>\n",
       "      <th>cleaned</th>\n",
       "    </tr>\n",
       "  </thead>\n",
       "  <tbody>\n",
       "    <tr>\n",
       "      <th>0</th>\n",
       "      <td>\"ಕರೋನವೈರಸ್ನಿಂದ ವಿಸ್ಲ್ ಬ್ಲೋವರ್ ಡಾ. ಲಿ ವೆನ್ಲಿಯಾಂ...</td>\n",
       "      <td>ಕರೋನವೈರಸ್ನಿಂದ ವಿಸ್ಲ್ ಬ್ಲೋವರ್ ಡಾ ಲಿ ವೆನ್ಲಿಯಾಂಗ್...</td>\n",
       "    </tr>\n",
       "    <tr>\n",
       "      <th>1</th>\n",
       "      <td>\"ಮರೋಲಾ ಫಿಲಿಪೈನ್ಸ್ ಹೌಸ್ ಅಲ್ಪಸಂಖ್ಯಾತ ಮುಖಂಡ ಬಿಯೆನ...</td>\n",
       "      <td>ಮರೋಲಾ ಫಿಲಿಪೈನ್ಸ್ ಹೌಸ್ ಅಲ್ಪಸಂಖ್ಯಾತ ಮುಖಂಡ ಬಿಯೆನ್...</td>\n",
       "    </tr>\n",
       "    <tr>\n",
       "      <th>2</th>\n",
       "      <td>ಡೆಬೊರಾ ಫ್ರಾನ್ಸಿಸ್ ವೈಟ್ ಹಾಸ್ಯನಟ ಮತ್ತು ದಿ ಗಿಲ್ಟಿ...</td>\n",
       "      <td>ಡೆಬೊರಾ ಫ್ರಾನ್ಸಿಸ್ ವೈಟ್ ಹಾಸ್ಯನಟ ಮತ್ತು ದಿ ಗಿಲ್ಟಿ...</td>\n",
       "    </tr>\n",
       "    <tr>\n",
       "      <th>3</th>\n",
       "      <td>\"ವೈರಸ್ ಪ್ರಭಾವದ ಮೇಲೆ ಲಾಭದ ಎಚ್ಚರಿಕೆ ನೀಡಿದ ನಂತರ ಏ...</td>\n",
       "      <td>ವೈರಸ್ ಪ್ರಭಾವದ ಮೇಲೆ ಲಾಭದ ಎಚ್ಚರಿಕೆ ನೀಡಿದ ನಂತರ ಏರ...</td>\n",
       "    </tr>\n",
       "    <tr>\n",
       "      <th>4</th>\n",
       "      <td>\"ಸೋಮವಾರ ತೆಗೆದ ವೀಡಿಯೊವೊಂದರ ಈ ಚಿತ್ರದಲ್ಲಿ ನೀವು ಪ್...</td>\n",
       "      <td>ಸೋಮವಾರ ತೆಗೆದ ವೀಡಿಯೊವೊಂದರ ಈ ಚಿತ್ರದಲ್ಲಿ ನೀವು ಪ್ರ...</td>\n",
       "    </tr>\n",
       "  </tbody>\n",
       "</table>\n",
       "</div>"
      ],
      "text/plain": [
       "                                                text  \\\n",
       "0  \"ಕರೋನವೈರಸ್ನಿಂದ ವಿಸ್ಲ್ ಬ್ಲೋವರ್ ಡಾ. ಲಿ ವೆನ್ಲಿಯಾಂ...   \n",
       "1  \"ಮರೋಲಾ ಫಿಲಿಪೈನ್ಸ್ ಹೌಸ್ ಅಲ್ಪಸಂಖ್ಯಾತ ಮುಖಂಡ ಬಿಯೆನ...   \n",
       "2  ಡೆಬೊರಾ ಫ್ರಾನ್ಸಿಸ್ ವೈಟ್ ಹಾಸ್ಯನಟ ಮತ್ತು ದಿ ಗಿಲ್ಟಿ...   \n",
       "3  \"ವೈರಸ್ ಪ್ರಭಾವದ ಮೇಲೆ ಲಾಭದ ಎಚ್ಚರಿಕೆ ನೀಡಿದ ನಂತರ ಏ...   \n",
       "4  \"ಸೋಮವಾರ ತೆಗೆದ ವೀಡಿಯೊವೊಂದರ ಈ ಚಿತ್ರದಲ್ಲಿ ನೀವು ಪ್...   \n",
       "\n",
       "                                             cleaned  \n",
       "0  ಕರೋನವೈರಸ್ನಿಂದ ವಿಸ್ಲ್ ಬ್ಲೋವರ್ ಡಾ ಲಿ ವೆನ್ಲಿಯಾಂಗ್...  \n",
       "1  ಮರೋಲಾ ಫಿಲಿಪೈನ್ಸ್ ಹೌಸ್ ಅಲ್ಪಸಂಖ್ಯಾತ ಮುಖಂಡ ಬಿಯೆನ್...  \n",
       "2  ಡೆಬೊರಾ ಫ್ರಾನ್ಸಿಸ್ ವೈಟ್ ಹಾಸ್ಯನಟ ಮತ್ತು ದಿ ಗಿಲ್ಟಿ...  \n",
       "3  ವೈರಸ್ ಪ್ರಭಾವದ ಮೇಲೆ ಲಾಭದ ಎಚ್ಚರಿಕೆ ನೀಡಿದ ನಂತರ ಏರ...  \n",
       "4  ಸೋಮವಾರ ತೆಗೆದ ವೀಡಿಯೊವೊಂದರ ಈ ಚಿತ್ರದಲ್ಲಿ ನೀವು ಪ್ರ...  "
      ]
     },
     "execution_count": 180,
     "metadata": {},
     "output_type": "execute_result"
    }
   ],
   "source": [
    "data.head()"
   ]
  },
  {
   "cell_type": "code",
   "execution_count": 181,
   "id": "67b68dd4-1633-4f53-b8b0-34c25145d0cd",
   "metadata": {},
   "outputs": [],
   "source": [
    "data = data[['cleaned']]"
   ]
  },
  {
   "cell_type": "code",
   "execution_count": 182,
   "id": "91ee8478-c904-40b9-bd8c-e98b4292acef",
   "metadata": {},
   "outputs": [
    {
     "data": {
      "text/html": [
       "<div>\n",
       "<style scoped>\n",
       "    .dataframe tbody tr th:only-of-type {\n",
       "        vertical-align: middle;\n",
       "    }\n",
       "\n",
       "    .dataframe tbody tr th {\n",
       "        vertical-align: top;\n",
       "    }\n",
       "\n",
       "    .dataframe thead th {\n",
       "        text-align: right;\n",
       "    }\n",
       "</style>\n",
       "<table border=\"1\" class=\"dataframe\">\n",
       "  <thead>\n",
       "    <tr style=\"text-align: right;\">\n",
       "      <th></th>\n",
       "      <th>cleaned</th>\n",
       "    </tr>\n",
       "  </thead>\n",
       "  <tbody>\n",
       "    <tr>\n",
       "      <th>0</th>\n",
       "      <td>ಕರೋನವೈರಸ್ನಿಂದ ವಿಸ್ಲ್ ಬ್ಲೋವರ್ ಡಾ ಲಿ ವೆನ್ಲಿಯಾಂಗ್...</td>\n",
       "    </tr>\n",
       "    <tr>\n",
       "      <th>1</th>\n",
       "      <td>ಮರೋಲಾ ಫಿಲಿಪೈನ್ಸ್ ಹೌಸ್ ಅಲ್ಪಸಂಖ್ಯಾತ ಮುಖಂಡ ಬಿಯೆನ್...</td>\n",
       "    </tr>\n",
       "    <tr>\n",
       "      <th>2</th>\n",
       "      <td>ಡೆಬೊರಾ ಫ್ರಾನ್ಸಿಸ್ ವೈಟ್ ಹಾಸ್ಯನಟ ಮತ್ತು ದಿ ಗಿಲ್ಟಿ...</td>\n",
       "    </tr>\n",
       "    <tr>\n",
       "      <th>3</th>\n",
       "      <td>ವೈರಸ್ ಪ್ರಭಾವದ ಮೇಲೆ ಲಾಭದ ಎಚ್ಚರಿಕೆ ನೀಡಿದ ನಂತರ ಏರ...</td>\n",
       "    </tr>\n",
       "    <tr>\n",
       "      <th>4</th>\n",
       "      <td>ಸೋಮವಾರ ತೆಗೆದ ವೀಡಿಯೊವೊಂದರ ಈ ಚಿತ್ರದಲ್ಲಿ ನೀವು ಪ್ರ...</td>\n",
       "    </tr>\n",
       "  </tbody>\n",
       "</table>\n",
       "</div>"
      ],
      "text/plain": [
       "                                             cleaned\n",
       "0  ಕರೋನವೈರಸ್ನಿಂದ ವಿಸ್ಲ್ ಬ್ಲೋವರ್ ಡಾ ಲಿ ವೆನ್ಲಿಯಾಂಗ್...\n",
       "1  ಮರೋಲಾ ಫಿಲಿಪೈನ್ಸ್ ಹೌಸ್ ಅಲ್ಪಸಂಖ್ಯಾತ ಮುಖಂಡ ಬಿಯೆನ್...\n",
       "2  ಡೆಬೊರಾ ಫ್ರಾನ್ಸಿಸ್ ವೈಟ್ ಹಾಸ್ಯನಟ ಮತ್ತು ದಿ ಗಿಲ್ಟಿ...\n",
       "3  ವೈರಸ್ ಪ್ರಭಾವದ ಮೇಲೆ ಲಾಭದ ಎಚ್ಚರಿಕೆ ನೀಡಿದ ನಂತರ ಏರ...\n",
       "4  ಸೋಮವಾರ ತೆಗೆದ ವೀಡಿಯೊವೊಂದರ ಈ ಚಿತ್ರದಲ್ಲಿ ನೀವು ಪ್ರ..."
      ]
     },
     "execution_count": 182,
     "metadata": {},
     "output_type": "execute_result"
    }
   ],
   "source": [
    "data.head()"
   ]
  },
  {
   "cell_type": "code",
   "execution_count": 183,
   "id": "b0e522ff-83c5-4d4f-9526-67ff95e6fe90",
   "metadata": {},
   "outputs": [
    {
     "data": {
      "text/plain": [
       "cleaned    0\n",
       "dtype: int64"
      ]
     },
     "execution_count": 183,
     "metadata": {},
     "output_type": "execute_result"
    }
   ],
   "source": [
    "data.isna().sum()"
   ]
  },
  {
   "cell_type": "code",
   "execution_count": 184,
   "id": "0d015df0-fcaa-47c0-9947-d9d8fe7c0cb3",
   "metadata": {},
   "outputs": [
    {
     "data": {
      "text/plain": [
       "0"
      ]
     },
     "execution_count": 184,
     "metadata": {},
     "output_type": "execute_result"
    }
   ],
   "source": [
    "data.duplicated().sum()"
   ]
  },
  {
   "cell_type": "code",
   "execution_count": 185,
   "id": "e4859138-ae66-4747-9ca4-0db50aa0e3f4",
   "metadata": {},
   "outputs": [],
   "source": [
    "data.to_csv('final/Kannada.csv')"
   ]
  },
  {
   "cell_type": "markdown",
   "id": "f0873849-0a2e-4b5d-81d9-f7429215a668",
   "metadata": {},
   "source": [
    "## Kashmiri"
   ]
  },
  {
   "cell_type": "code",
   "execution_count": 186,
   "id": "d6e8fec1-fa74-4619-893d-a54f84d2b924",
   "metadata": {},
   "outputs": [],
   "source": [
    "data = pd.read_csv('datasets/Kashmiri.csv')"
   ]
  },
  {
   "cell_type": "code",
   "execution_count": 187,
   "id": "fbc662da-cedd-4b3f-b518-3c0ce48b8c89",
   "metadata": {},
   "outputs": [
    {
     "data": {
      "text/html": [
       "<div>\n",
       "<style scoped>\n",
       "    .dataframe tbody tr th:only-of-type {\n",
       "        vertical-align: middle;\n",
       "    }\n",
       "\n",
       "    .dataframe tbody tr th {\n",
       "        vertical-align: top;\n",
       "    }\n",
       "\n",
       "    .dataframe thead th {\n",
       "        text-align: right;\n",
       "    }\n",
       "</style>\n",
       "<table border=\"1\" class=\"dataframe\">\n",
       "  <thead>\n",
       "    <tr style=\"text-align: right;\">\n",
       "      <th></th>\n",
       "      <th>domain_name</th>\n",
       "      <th>file_name</th>\n",
       "      <th>file_urls</th>\n",
       "      <th>files</th>\n",
       "      <th>text_extracted</th>\n",
       "    </tr>\n",
       "  </thead>\n",
       "  <tbody>\n",
       "    <tr>\n",
       "      <th>0</th>\n",
       "      <td>kashmirilanguage</td>\n",
       "      <td>Surat_Khaneh</td>\n",
       "      <td>NaN</td>\n",
       "      <td>NaN</td>\n",
       "      <td>اسۍ\\n       ما وٲتِتھ\\n       پێے پتھ ون سۅرنے...</td>\n",
       "    </tr>\n",
       "    <tr>\n",
       "      <th>1</th>\n",
       "      <td>kashmirilanguage</td>\n",
       "      <td>Surat_Khane_Notes</td>\n",
       "      <td>NaN</td>\n",
       "      <td>NaN</td>\n",
       "      <td>۔ کیٚنہہ\\nاشارٕ ۔ پتۍمٮ۪ن پنژہن شیٹھن ورۍین ہن...</td>\n",
       "    </tr>\n",
       "    <tr>\n",
       "      <th>2</th>\n",
       "      <td>kashmirilanguage</td>\n",
       "      <td>Nisar-Azam</td>\n",
       "      <td>NaN</td>\n",
       "      <td>NaN</td>\n",
       "      <td>نعت</td>\n",
       "    </tr>\n",
       "    <tr>\n",
       "      <th>3</th>\n",
       "      <td>kashmirilanguage</td>\n",
       "      <td>Surat_Khane_Notes</td>\n",
       "      <td>NaN</td>\n",
       "      <td>NaN</td>\n",
       "      <td>۔ کیٚنہہ\\nاشارٕ ۔ پتۍمٮ۪ن پنژہن شیٹھن ورۍین ہن...</td>\n",
       "    </tr>\n",
       "    <tr>\n",
       "      <th>4</th>\n",
       "      <td>kashmirilanguage</td>\n",
       "      <td>Saze%20Salasil</td>\n",
       "      <td>NaN</td>\n",
       "      <td>NaN</td>\n",
       "      <td>تاثرات  جناب مخمور سعیدی کے ایک خط سے اقتباس ...</td>\n",
       "    </tr>\n",
       "  </tbody>\n",
       "</table>\n",
       "</div>"
      ],
      "text/plain": [
       "        domain_name          file_name  file_urls  files  \\\n",
       "0  kashmirilanguage       Surat_Khaneh        NaN    NaN   \n",
       "1  kashmirilanguage  Surat_Khane_Notes        NaN    NaN   \n",
       "2  kashmirilanguage         Nisar-Azam        NaN    NaN   \n",
       "3  kashmirilanguage  Surat_Khane_Notes        NaN    NaN   \n",
       "4  kashmirilanguage     Saze%20Salasil        NaN    NaN   \n",
       "\n",
       "                                      text_extracted  \n",
       "0  اسۍ\\n       ما وٲتِتھ\\n       پێے پتھ ون سۅرنے...  \n",
       "1  ۔ کیٚنہہ\\nاشارٕ ۔ پتۍمٮ۪ن پنژہن شیٹھن ورۍین ہن...  \n",
       "2                                                نعت  \n",
       "3  ۔ کیٚنہہ\\nاشارٕ ۔ پتۍمٮ۪ن پنژہن شیٹھن ورۍین ہن...  \n",
       "4   تاثرات  جناب مخمور سعیدی کے ایک خط سے اقتباس ...  "
      ]
     },
     "execution_count": 187,
     "metadata": {},
     "output_type": "execute_result"
    }
   ],
   "source": [
    "data.head()"
   ]
  },
  {
   "cell_type": "code",
   "execution_count": 188,
   "id": "52bfc0f2-260f-4650-a03d-bb249e5ba858",
   "metadata": {},
   "outputs": [
    {
     "data": {
      "text/plain": [
       "Series([], Name: count, dtype: int64)"
      ]
     },
     "execution_count": 188,
     "metadata": {},
     "output_type": "execute_result"
    }
   ],
   "source": [
    "data['files'].value_counts()"
   ]
  },
  {
   "cell_type": "code",
   "execution_count": 189,
   "id": "dedb63ca-b0c9-4c7e-b549-0c91ceb39df0",
   "metadata": {},
   "outputs": [],
   "source": [
    "data = data[['text_extracted']]"
   ]
  },
  {
   "cell_type": "code",
   "execution_count": 190,
   "id": "7350d9e4-d560-402a-b610-f96c05e04c92",
   "metadata": {},
   "outputs": [
    {
     "data": {
      "text/html": [
       "<div>\n",
       "<style scoped>\n",
       "    .dataframe tbody tr th:only-of-type {\n",
       "        vertical-align: middle;\n",
       "    }\n",
       "\n",
       "    .dataframe tbody tr th {\n",
       "        vertical-align: top;\n",
       "    }\n",
       "\n",
       "    .dataframe thead th {\n",
       "        text-align: right;\n",
       "    }\n",
       "</style>\n",
       "<table border=\"1\" class=\"dataframe\">\n",
       "  <thead>\n",
       "    <tr style=\"text-align: right;\">\n",
       "      <th></th>\n",
       "      <th>text_extracted</th>\n",
       "    </tr>\n",
       "  </thead>\n",
       "  <tbody>\n",
       "    <tr>\n",
       "      <th>0</th>\n",
       "      <td>اسۍ\\n       ما وٲتِتھ\\n       پێے پتھ ون سۅرنے...</td>\n",
       "    </tr>\n",
       "    <tr>\n",
       "      <th>1</th>\n",
       "      <td>۔ کیٚنہہ\\nاشارٕ ۔ پتۍمٮ۪ن پنژہن شیٹھن ورۍین ہن...</td>\n",
       "    </tr>\n",
       "    <tr>\n",
       "      <th>2</th>\n",
       "      <td>نعت</td>\n",
       "    </tr>\n",
       "    <tr>\n",
       "      <th>3</th>\n",
       "      <td>۔ کیٚنہہ\\nاشارٕ ۔ پتۍمٮ۪ن پنژہن شیٹھن ورۍین ہن...</td>\n",
       "    </tr>\n",
       "    <tr>\n",
       "      <th>4</th>\n",
       "      <td>تاثرات  جناب مخمور سعیدی کے ایک خط سے اقتباس ...</td>\n",
       "    </tr>\n",
       "  </tbody>\n",
       "</table>\n",
       "</div>"
      ],
      "text/plain": [
       "                                      text_extracted\n",
       "0  اسۍ\\n       ما وٲتِتھ\\n       پێے پتھ ون سۅرنے...\n",
       "1  ۔ کیٚنہہ\\nاشارٕ ۔ پتۍمٮ۪ن پنژہن شیٹھن ورۍین ہن...\n",
       "2                                                نعت\n",
       "3  ۔ کیٚنہہ\\nاشارٕ ۔ پتۍمٮ۪ن پنژہن شیٹھن ورۍین ہن...\n",
       "4   تاثرات  جناب مخمور سعیدی کے ایک خط سے اقتباس ..."
      ]
     },
     "execution_count": 190,
     "metadata": {},
     "output_type": "execute_result"
    }
   ],
   "source": [
    "data.head()"
   ]
  },
  {
   "cell_type": "code",
   "execution_count": 191,
   "id": "3aa695c9-df87-4d4b-81ae-65c4c9d14428",
   "metadata": {},
   "outputs": [],
   "source": [
    "def extract_kashmiri_text(text):\n",
    "    # Check if the input is not NaN\n",
    "    if pd.notnull(text):\n",
    "        # Regular expression pattern to match Kashmiri characters and newline\n",
    "        kashmiri_pattern = re.compile(r'[\\u0600-\\u06FF\\s\\n]+')\n",
    "        \n",
    "        # Find all matches of Kashmiri text in the input text\n",
    "        kashmiri_matches = kashmiri_pattern.findall(text)\n",
    "\n",
    "        # Filter out empty strings, whitespace characters, and newline characters\n",
    "        kashmiri_matches = [match.strip() for match in kashmiri_matches if match.strip() != '\\n']\n",
    "\n",
    "        # Join the matches to form the extracted Kashmiri text\n",
    "        kashmiri_text = ' '.join(kashmiri_matches)\n",
    "        \n",
    "        # Remove extra spaces\n",
    "        kashmiri_text = ' '.join(kashmiri_text.split())\n",
    "\n",
    "        return kashmiri_text\n",
    "    else:\n",
    "        return"
   ]
  },
  {
   "cell_type": "code",
   "execution_count": 192,
   "id": "8840146b-78b3-415a-99d0-2f945ccee6c2",
   "metadata": {
    "scrolled": true
   },
   "outputs": [
    {
     "data": {
      "text/plain": [
       "'۔ کیٚنہہ اشارٕ ۔ پتۍمٮ۪ن پنژہن شیٹھن ورۍین ہندٮ۪ن بدلونٮ۪ن دورن منز رودۍ کینہہ شٲعر پننہ قدمہ پۆد پۆد دوان تہٕ پننۍ منزل پۯاوان؛ تم تہ یمن پننہ رنگک احساس اوس ، تم تہ یمن بدلوٕنہ نہجن کُن ظۅن اوس نہٕ۔شاید اوس صرف اکھ شخص یُس زندگی منز أکس بیٚۍ سندۍ پٲٹھۍ مصروف روزتھ ،مقٲمی تہٕ عالمی ادبہٕ چن تۯاین وٲقف ٲستھ ، تہ وقتہ کٮ۪ن فٲشنن پرزٕنٲوتھ تہ، سٔرتھ سونچتھ پنن طرز پایہ بوٚڈ زٲنتھ تتھ گۅڈ بران اوس قاضی غلام محمد۔ صورت خانہ چھےٚ تمۍ سنز کٲشرِ شٲعری ہنز سۅمبرن۔ ییٚلہ سید محی الدین زورؔ تمۍ سنزِ اردو شٲرۍ پٮ۪ٹھ ونہ زِ امکۍ نقش و نگار چھہ کشیرِ ہندٮ۪ن فنکارن ہنزِ کٲرۍگری کھۅتہ زیادٕ پوشہ ونۍ؛ ڈاکٹر عروج زیدی ونہ تمۍ سندٮ۪ن فارسی شعرن پٮ۪ٹھ چھہ پھرۍ پھرۍ حافظ تہ سعدی سند گمان گژھان؛ تمۍ سنزِ ماجہ زٮ۪وِ ہنزِ شٲعرۍ پٮ۪ٹھ کیا تگہ مےٚ امہ کھۅتہ ونن۔ مگر کتابہ ہندٮ۪ن پننہ پسندٕ کینژن خاص نۅکتن کُن پرن وٲلٮ۪ن ہند توجہ پھرنہ خٲطرٕ چھہ یمن سطرن منز کیٚنہ اشارٕ پیش۔ قاضی گلام محمدنۍ حرف شیرین چھےٚ اردو، تہٕ حمام بادگرد چھےٚ اردو تہ فارسی شٲعری ہنز کتاب؛ کٲشرِ شٲعرۍ ہنز چھےٚ مےٚ صرف صورت خانہ نظرِ تل یۅسہٕ مےٚ فوزیہ قاضی صٲبس اجازت ہٮ۪تھ پننہ وٮ۪ب سایٹھ پٮ۪ٹھ پیش کرمٕژ چھےٚ۔ فارسی شٲعری پٮ۪ٹھ گژھۍتن حافظ تہٕ سعدی سند گمان؛ مگر تمۍ سنز کٲشر شٲعری چھےٚ تیژ کٲشِر ییژ نہ شاید تسندس کٲنسی زِٹھس یا کٲنسس کالہ بٲجۍ سنز چھےٚ۔ یہ چھےٚ لفظن، پیکرن تہٕ استعارن ہندِ حسابہ، پننہ روٲنی حسابہٕ، پننہ منظر نامہ حسابہ، موضوع تہ مضمون ژارنہ کہ حسابہ، زندگی ہند اکھ پنن فلسفہ آسنہ کہ حسابہ، تہٕ منظر نامس سٍتۍ شٲعرس دلی تہ ذہنی واٹھ آسنہ تہٕ تتھ باوتھ کرنہ کہ حسابہ کٲشر ۔تمس اوس کٲشرٮ۪و شعرو منزٕمحمود گٲمی پسند، مگر تمۍ سند پنن عالم چھہ تٔمس پنن، صرف پنن، تہٕ اتھ چھہ سُے پایہ بجر ییمچ کتھ تم ناماور عٲلم چھہ کران یہند مےٚ ناو ہیوٚت۔ قٲضی غلام محمد چھہ یادٕ وترس زٲلۍ دوان، صرف لۅکچارٕ پٮ۪ٹھہ کس نہٕ، پیٖرِ وادن ہندس، تتھ یادٕ وترس یُس سانہ منہٕ کٮ۪ن تہہ خانن منز رژھرتھ چھہ؛ یتھ مثلن یُنگ زٲلۍ دیہِ ہے، تکیازِ تم منظر چھہ پۯانٮ۪ن لکہ داستانن زٮ۪وان تہٕ خٲلص تخیلک رنگ رٹان۔تتھ عالمس منز چھہ تاپک تہٕ گاشک لول، تکیازِ گاش تہٕ وشنیر چھہ زندگی ہندۍ دوست؛ تتہ چھہ انہ گٹیُک خوف، تکیازِ انہ گۆٹ چھہ ترُن تہٕ زندگی ہند دشمن؛ تتہِ چھہ وصلک سۯیہہ، تکیاز زُوٕ ذٲژ چھےٚ امی مٲنتھرِ ستۍ نوان، پھۅلان تہٕ پھبان؛ تتہ چھےٚ فراقچ دگ، تکیاز دورٮ۪ر چھہ زندگی ہنز کۅل رٲسۍ کران؛ تتہ چھہ بیٮ۪سۅکھ لولک تہٕ بےٚ ٲنتھ حسنک ٲنہ خانہ یس تمام زندگی انسانس بے قرار تھاوان چھہ؛ تتہ چھہ منزلہ پتھ منزلہ بۯونٹھ کن قدم کڈنچ کل یتھ خاب ونان چھہ، یم زندگی ہندۍ رنگہ ولۍ انہار چھہ تہٕ یم مینتھ تولتھ آسان چھنہ۔ مگر اتھ سارے دولٔژ چھہ اکھ بے رحم پزرک احساس ہمیشہ لرِ لۆر روزان زِ سٲنۍ امار، سٲنۍ وۅتھ ژھانٹھ، سٲنۍ خاب چھہ موسمی پوش، کینژس کال وہۍ کران تہٕ پتہٕ چھہ یہند آفتاب لوسان۔ یمہ نٕے ٲنہٕ تاپہٕ ٹیٚکٮ۪ن پٮ۪ٹھ چھےٚ شٲعری ہٮ۪تھ سٲری فن دٔرتھ۔ شاید چھہ یمے فلسفکۍ تہ مذہبن ہندۍ اصلی موضوع تہ أکس بییِس آسہ یمو منزٕ کنہ أکس یا کینژن پاسن پٮ۪ٹھ نظر آسان؛ قٲضۍ صٲبنۍ شٲعری چھےٚ یمن لگ بگ سٲرنےٕ انہارن کۅم کٔرتھ؛ تمن نشہ چھہ یمن سٍتۍ واٹھ تھاون وٲلۍ سٲری وہۍ لبنہ یوان، سیٚدِ سیوٚد بیانن منز نہٕ، کلامہ کس ورگہ معنیس منز۔ کینہہ یٔژ پٲٹھۍ ورتٲوِ مژٕ علامٔژ چھےٚ پرون ، ناگ ، بونۍ ، ژونگ ، گام، ساز ، وتھ ، مندورٕ ، دیان تہٕ دیانُک سر ، تہٕ جوٗگۍ یُس پۆتس کار کرتھ گژھان چھہ۔ یہ داتھُر چھہ پانہ ونان زِ یہ وہراون وول کُس آسہِ۔ گۅڈنیُک صفت یس پران وٲلس اتھ شٲعری سٍتۍ آوراوان چھہ، تتھ ونو روٲنی تہ شبیہہ سٲزی یا پیکر ترٲشی۔ اکس اکس شعرس منز لفظ سوٚمۍ تہٕ کنہ جایہ نہٕ زٮ۪وِ روٚٹ گژھان۔ اتھ صفتس کن ظۅن تھاون چھہ امہ کنۍ ضروری زِ ییٚلہ گوٚب تہ معنے دار کتھ کرنۍ آسہ، روٲنی چھہ اکثر چھپہ لگنک خطرٕ آسان۔ کینژن ناماور شٲعرن ہندس کلامس منز چھہ واریاہہ لٹہ روٲنی ہنزِ کمی ہند احساس سپدان، خاص کر ییٚلہ کانہہ سنۍ کتھ وننۍ آسہ۔ اگر یہ بے حد ضروری صفت تیوتاہ نایاب تہ چھنہ، مگر وۅزم بدلہ شٲعرٕ سند پننہ منہ زامژ پیکر ترٲشی چھےٚ صورت خانہ کٮ۪ن شعرن ہنز اکھ ٹاکارٕ خصوصیت۔ زیادٕ تر پیکر چھہ بصری، یعنے یمن سٲنس وچھنہ کس حٮ۪سس سٍتۍ واٹھ چھہ، منہ آنگن منز راتھ وچھم کن زوٚن اکھ زونہ گندن ۔ یتھۍ پیکر چھہ پۯٮ۪تھ غزلس کٮ۪و نظمہ منز۔ نوۍ نوۍ تہ پرن وٲلس کل کڈن وٲلۍ تہٕ سوٚن اثر تۯاون وٲلۍ یم بصری پیکر چھہ تیتۍ وفوٗر زِ کانہہ شعر چھنہ یس نہٕ ولنہ ییہ۔ امہ کھۅتہ کم پہن، مگر یتھی زودار چھہ یمن اسۍ سمعی پیکر ونو، یعنے یمن سٲنس بوزنہ کس حٮ۪سس سٍتۍ وٹھ چھہ، اسۍ ما وٲتتھ پیٚے پتھ ون سۅرنے واینۍ ہش چھے گژھن ، یا ہیرِ گو ٹھس تہ دل ہیوٚتن راون ۔ ژمہ چھہۍ لگنکۍ لمسی ، زٮ۪وِ مزک باس دنکۍ پیکر چھہ لگ بگ غٲب۔ خابس منز تہ چھ یہ شٲعر یا تہ وچھان، یا بوزان یا کنہ وِزِ مشک ژٮ۪تران۔ یہ چھہ نفسیٲتی معاملہ، مگر میٲنۍ کنۍ چھے یہ حدٕ روٚس طلبگار آستھ تہ تھدۍ خاب وچھتھ، رٔچھتھ رٔژھرتھ تہٕ اچُھہہ تہ ابوس عالم پنن سٲلہ مٲدان بنٲوتھ بدنی لطفو نشہ بے نیاز آسنٕچ علامت۔ بنان چھہ بے نیازی ہند سبب آسہ ماحولک ثٹھنیار، یا آسہ شٲعرٕ سند خاص قسمک مزازٕ، مگر یہ چھے محض اکھ راے تہ بہٕ چھس نہ نفسیاتک مٲہر۔ مےٚ چھہ یہ نظرِ تل زِ وصلک ہاوس چھہ صورت خانہ کٮ۪ن شعرن منز ٹاکارٕ پٲٹھۍ موجود۔ ییٚلہ شٲعر یا غزلک کردار پۯانہ مندورِ کنۍ گژھا تہ تتہ تمس وچھان چھہ، سہ چھہ پانے پانس حٲرتن گژھتھ پۯژھان، نافہ اوسا تٔمس ہران جامن نظرٕ آسا تٔمس شراب وہان وۅنۍ نبا یور کن ژٕ پھیرکھ زانہہ پانہٕ کیٚہتام چانہ أچھ چھےٚ ونان یا اسہ وٕنہ ہۅنجہ اسۍ شیرِ أکس اکھ لاگو پوش بتھۍ وۅشلاوو تن شیٚہلاوو بونٮ۪ن تل یم شعر چھہ زوٗدار شبیہن منز بوزن وٲلس ونن وٲلس سٍتۍ تُلتھ نوان، أکس عجیب روبہ خانس منز واتناوان، تہٕ أچھ گاش تہٕ خوشبۅے سرنکۍ حٮ۪س آوراونس سٍتھ تن شیٚہلاونچ کل کڈان۔ اکھ کتھ چھےٚ شاید یہ زِ یہ شٲعر چھنہ صرف پیکر تراشی ہند فن مۅلناونہ خٲطرٕ یہ مرژٕگری کران، حالانکہ رٕژ شٲعری کیُت چھہ سُہ تہ اکھ شٲعرانہ کمال۔ صورت خانہ چھہ زیادٕ پہن شعری کردارن ہنز یا کنہ واقعچ کانہہ کٲفیت باونہٕ مۅکھہٕ کتھ صرف پیکرن ہنز زبٲنۍ کران۔ اتہ چھہ زندگی ہندۍ فلسفیانہ پزر تہٕ شٲعرۍ ہنز نزاکت رلان۔ قٲضۍ صٲبنۍ لفظ چھہ زیادٕ پہن دۅہ دشۍ ورتاونکۍ کٲشرۍ لفظ مگر یمے چھہ شبیہہ تہٕ استعارٕ بنان۔ تہند استعارٕ چھہ کنہ اۆگُن، کنہ دۆگن، تہٕ کنہ واریاہ گۆن آسان۔ یم استعارٕ چھہ تتھہٕ کنہ اکھ أکس سٍتۍ وٲٹھتھ آسان زِ وازٕ محمودن کتنس ابسن ور دِمہ یو چھہ یاد پٮ۪وان۔ سنتھ پرو تہٕ کتھ ، پٮ۪ٹھۍ ونۍ پرو تہ کتھہ ہنا ۔ قاضی چھہ حسابہٕ کہ علمک بوٚڈ وۅستاد بنتھ ینورسٹی ہنز ہیرن پھرۍ پھرۍ کھسان تہٕ وسان، پننہ علمہ کس روحس چھہ وٲتتھ، مگر تمہ چن لبن ہند روغن چھس نہ لاران ۔ اۆند پۆکھ چھہ خابک، شعر چھہ بالہ کۅلہ ہندۍ پٲٹھۍ روان تہٕ سۆدرٕ کھۅنہ پٲٹھۍ سوٚن۔ یندرازنہ دربارک یہ سوز بوزنہ باپتھ چھہِ کن گۅڈٕ خٲلی کرنۍ، تکیازِ یہ سوز چھہ سانہ رٮ۪واتک انگ ٲستھ تہ نۆو۔ یہ شٲعری پرنہ تہٕ امیُک رنگ چھاونہٕ خٲطرٕ چھہ واریا کینہ تۯٲوتھ، مشرٲوتھ تہ منسٲوتھ أمس شٲعرٕ سندِ کۅنگہ قہوُک نشہ کرن پٮ۪وان۔ دپان چھہ مٮ۪ون دل رنگہ مۆت چھہ موصم شُر چٲنۍ یاداؤری چھےٚ سبز الاو یہ رنگہ مۆت شُر چھہ پرون یاد پٮ۪تھ راوان، نۆو وچھتھ راوان، سونچتھ راوان، رٲوتھ راوان، تہٕ لٔبتھ راوان، تہ راونہٕ کس اتھ سفرس منز أتی اسان تہ أتی ودان۔ یہ چھہ مزازٕ کنۍ بوزۍتو شٲعر۔ مگر مےٚ ہیٚوت فلسفہ دگن، یہ شٲعر چھنہ فلسفہ دگان۔ سہ چھہ خاب ہاوان گۅڈہ ییٚتہ گاہ پٮ۪و افتابُک تتہ چُھس لر تۯٲوتھ سونچن تتہ چھنہٕ شۆنگتھ ، لر تۯٲوتھ چھہ سونچان، شایدسونچان سون سفر کتہ پٮ۪ٹھہ گو شروع۔ توے چھہ زندگی ہند آگُر، افتاب پھرۍ پھرۍ وشینرک تہ راحتک استعارٕ بنان۔ شٲعر چھہ تاپھ گاش، وشنیر سورُے ژٕہتھ یژہاں نیُن نٲگنہ بۆٹھ پۆت ہردک تاپھ پانو کوتاہ وہراوتھ ناگہ بٹھس پٮ۪ٹھ ہردک مزم مزم تاپھ چھاون چھہ سون اکھ خاص طمع، مگر یہ پانو کوتاہ وہراوتھ کل بل چھہ یم تۯےٚ لفظ،یمے چھہ سمُت کرتھ اکھ زوٗدار، سہل، سادٕ تہ روان، تہ نٮ۪رل کتھ بنان۔ ووںۍ اگر یہ تاپھ، یہ گاش نصیبہ آسہ نہ، تیٚلہ چھہ وقتک بیاکھ پاس انہ گۆٹ۔ انہ گٹس منز چھہ انسان وٹنہ یوان، کھوژان۔ کھوژان کتھ چھہ، تتھ ہیکہ نہ زٮ۪و دِتھ، مگر پھۯٹۍ چھہ گژھان۔ یہ چھہ سون تہ تجربہ، مگر شٲعر ییٚلہ اتھ خوفس باوتھ کرِ، سُہ چھہ ونان عجٲیبات چھہ انہ گۆٹ یتھُے چھہ دۅہ لوسان یہ میون کُٹھ تہ دوشوے چھہ اکھ أکس کھوژان بہٕ چھس کھوژان، تہ تۆر یکدم فکرِ، مگر کٹُھ تہ چھہ کھوژان۔تتھ پٮ۪ٹھ چھہ غور کرن۔اگر اسۍ بہٕ انسانہ سند استعارٕ مانو، کُٹھ چھہ تیٚلہ یہ دنیا، سون زمینہ ژکل یا سٲرٕے کٲینات۔ اسہ چھےٚ شوب امی زمینہ، امی میٚژِ سٍتۍ؛ اتھ زمینہ چھےٚ شوب سانہ سٍتۍ۔ تاپھ آسہ، وشنیر آسہ، تہٕ وۅتھ بو آسہ ، تیٚلہ چھہ اسۍ تہٕ یہ زمین اکھ أکس اکار بکار۔ انہ گوٹ کڈِ کاڈ تیٚلہ چھہ اسۍ دوشوے اکھ اکس دشمن۔ انہِ گٹس منز تہ چھےٚ یہے زمین، انہ گٹس منز تہ چھہ اتھ زمینہ اسۍ ، مگر خوف چھہ یوان اسہ دۅشٕنی ولنہ۔ اتھ دۅہ دشۍ محسوس سپدن واجنہ تبدیلی چھہ شٲعر نہ واہ واہ کران تہٕ نہ وۅہو کڈان، سہ چھہ صرف ونان عجٲیبات ۔ یہ اکھ لفظ چھہ سونچکۍ دراوزٕ وتھۍ تۯاوان، نتہٕ یہ اوس اکھ عام تجربہ۔ یہ گو اگر اسۍ آفتاب تہ رات تمن معنین منز نمو یہنز اسہ کتھ کٔر۔ مگر گاش چھہ اسۍ امنہ امانس تہ وناں تتھ ملکس منز چھہ گاش ، گاش چھ اسۍ اولادس تہ ونان یم اسہ وٲنجہ وشنیر آسان چھہ ، گاش چھہ اسۍ مثالہ پٲٹھۍ خبردٲری تہ علمس تہ ونان تہٕ بییہ واریاہن دلس ویہ ونٮ۪ن چیزن تہ؛ تتھے پٲٹھۍ چھہ اسۍ انہ گۆٹ تہ واریہن چیزن وناں یم سانہ زندگی ویہ ونۍ آسن نہٕ۔ اگر خیالکۍ یم پاس نظرِ تل روزن، شٲعرٕ سند گاشس خوش آسن تہٕ انہ گٹس کھوژن چھہ یمن شعرن ہندِ مدتہ سٍتۍ و ہراو رٹان۔ احمد بٹوٲرۍ وون یار ، یار باش آمے گاش آمے لتۍیے۔یہ چھہ وۅنۍ بیاکھ گاش، یارباش یارٕ سندِ ملاقاتک گاش، یتھ اسۍ وصل ونو۔ وصل چھہ ژکہ زوٗذٲژن ہندس تتھ سمُت سپدنس ونان یس زندگی ہند درۍیاو پکہٕ ون تھاونچ ضمانت چھہ، تہٕ فراق چھہ اسۍ تتھ دوٗررس ونان یس یہ سمُت ناممکن بناوان چھہ، یا دپو یُس زندگی ہنزِ وسوٕنہ وٮ۪تھہ ٹھۆر کران چھہ۔ وصلہ کس سرورس تہ دور ٮ۪ر کس عذابس چھےٚ زوٗذاژ ہندس کلہم نظامس منز اوے کنۍ اہمیت ۔ یہ جذبہ چھہ انسانس ازلے غٲلب۔ جذبہ چھہ زوراور تہٕ حدٕ روٚس، زبان چھےٚ اسہ تنگ دامن، اوے چھہ لولکۍ احوال وننس منز یٔژ پٲٹھۍ مٲنڈمٕژ زبان استعمال سپدان، اتھ حدس تٲنۍ زِ عام لولہ شٲعری چھہ لولو ونتھ کیٚنہ لکھ ٹسنہ کران؛تی شوبٮ۪س۔ توے کنۍ چھنہٕ لولہ شٲعری لگ بگ پۯٮ۪تھ شٲعرس نٲلۍ گژھان مگر کاپہ چھےٚ یوان کمنٕے؛ یہ چھےٚ جان شٲعرس فن ازماوان۔ اگر ادا گژھہ، یہ چھےٚ کلامس خۅدکفیل تہ باگہ بۆ رت شٲعری ہند فن بنان۔ اسۍ وچھو قاضی غلام محمد کتھہٕ کنۍ چھہ اتھ سمندرس تار لبان۔ دۯایکھ مےٚ نش تہٕ ٲنہ لبن دٕہ ہیۆتن وۅتھن آیکھ مےٚ نش تہ دٲن تھرٮ۪ن تل گنداں چھہ خاب دٲن تھرٮ۪ن تل خابن ہندِ گندنک عالم چھہ زندگی ہند جشن مناونچ سۅ کل یۅسہ سانٮ۪ن روحن ہندٮ۪ن تہہ خانن منز چھےٚ؛ ٲنہ لبن دُہ وۅتھنک تصور چھہ سانہ پتہ وتھ یادٕ وتریُک بیاکھ پاس، زندگی ہند ماتم کرنک۔ اکھ بیاکھ شٲعر ونہ ہے آیکھ مےٚ نش تہ خۅش گوس، دل پھوٰٚلم، بیترِ ، مگر یہ شٲعر دپان دٲن تھرٮ۪ن تل گندان چھہ خاب۔ یا بیٚیس جایہ ونان لولہ چانے کرۍ مےٚ ہوہس نالہ متۍ بونہ شہلس گٔے مےٚ سینس نارٕ تتۍ اکھ اکھ لفظ چھہ اکھ اکھ داستان، اکھ کتاب۔ ہوہس نالہ متۍ کرنکۍ لفظ چھہ آش ٲستھ یا نہ ٲستھ لول رچھنک تہٕ وتہٕ وچھان روزنک دنیا، بونہ شہل چھہ اتھۍ ہوہس تابع، چھہ تہٕ یہ شِہل مگر نار تتۍ چھہ امی خیالہ سٍتۍ ، یہے بوٗنۍ چھہ نار چنار ۔ کٔژن تانۍ لفظن منز یہ سورے ویٚپراون چھہ تھدِ پایہ چہ شٲعری ہنز علامت۔ یہ شٲعر چھہ خبر کتھ صحراوس منز، شاید چھس محبوب برونٹھ کنہ، تہ دوشوے رٲوۍ ، خابن تہٕ خیالن منز یا اکھ اکۍ سنز نزدیکی چھاونس منز، مگر بہر حال رٲوۍ۔ تٕرنٮ۪ن رٲژ ن منز الاو زٲلتھ بیٚہنک یہ دیوانگی ہند عالم چھہ اسہ یادٕ ؤترکس پتھ ونس منز، تہٕ ییٚلہ قٲضۍ صٲبنہ پسندک کٲشر شٲعر محمود گٲمی امہ راونچ کتھ کران چھہ، سُہ چھہ اکھ تازٕ پیکر بنٲوتھ ونان کُنزٕ ڈجہ قلفن الفتہٕ چانے ؛ صورت خانہ سجاون وول شٲعر چھہ ونان حٮ۪س رود نہٕ ۂر دِمو الاوس کۆت وٲتۍ خبر کتھن کتھن منز کتھن کتھن منز حٮ۪س نہٕ روزن، ۂر تہ الاو؛ لفظی معنے وچھو یا علامتی معنے سرَو، یہ چھہ بے مثال شعر۔ امہ تصور چہ سارے مثالہ کرو نہ صورت خانہ منزٕ نقل۔ مگر دۅن کتھن کُن چھہ توجہ دیُن۔ اکھ یہ زِ پننہ مۅچھہ منز چیرن وول یہ جنسی جذبہٕ چھہ کنہ وزِ خٲلص تصورن ہنز ارزتھ بناں بلکہ بظٲہر چھنہ جنسی روزانٕے، محض جذبہ چھہ روزان۔ محبتک یہ اکاے جذبہ چھہ محبوب سندِ کھۅتہ زیادٕ ولنہ یوان۔ تتھۍ سٕے کنہ موقس پٮ۪ٹھ چھہ صورت خانہ تمس صرف شیرِ گلاب لٲگتھ وچھن یژھاں، ادٕ یہندِ مۅکھہٕ لوگن تہ تہندِ ویرِ لوگُن یہ کہنزِ اور مہ سن شیرِ لٲگتھ تمس گلاب وچھو دویُم یہ زِ صورت خانک شٲعر چھہ گاشس تہ وصلس تتھے کنہ ملہ ون کران یتھہ کنہ اسہ ہیٚرمٮ۪ن سطرن منز بوو۔ یتھ ژھۆٹس مضمونس منز شعرٕ پتہٕ شعر نقل کرنک چھہ نہ کانہہ یرادٕ ، پرن وول پرِ کتاب تہٕ سرِ پانے، مگر گاشک، گٹہ ہند، فراقک تہ وصلک یہ پیٚٹھۍ ونۍ منظر نامہ ہیٚکو نہ ییٚمہ شعرٕ ورٲے بند کٔرتھ ییٚمہ کس دویمس مصرعس منز نار تہ شیٚہجار ہکچہ گندان سُہ ساز چھہ بنان یُس دلہ کٮ۪ن کنَن منز بسان چھہ کن مےٚ دژاو گوس دیوانے۔ ۔۔۔ پادشاہ یار وچھتہٕ کیا خۅش آس گاش ہٮ۪تھ دۯاو، گاش ہٮ۪تھ آیاو پادشاہ بے نیاز گاش، آو تہٕ دۯاو، سٲری سادہ لفظ چھہ اکھ تیُتھ پیکر بنان یُس ہوشس تھپھ تۯاوان چھہ۔ حسنک تہ فنکٲری ہند تصور چھہ امی لولہ کہ جذبہ پٮ۪ٹھہٕ وۅپدان۔ شٲعرس چھہ عرفکۍ رۅنہ ہٹۍ یاد پٮ۪تھ وُبوٚدر تلان۔ سہ چھہ تتھ پتھ کالس ونۍ دوان ییٚتہ لکہ بٲتھ تھنہ پیٚمتۍ چھہ، تہٕ یہ سورُے چھس یاد چانہ أچھ وچھتھ۔ کٲیناتکۍ رنگہ ولۍ انہار رٔلتھ یۅسہ کنۍ شیچھ یمہٕ أچھ یتھ دوٚیمس شعرس منز بوزناوان چھےٚ، ادبی دنۍیہس منز چھےٚ تمہ چھ مثالہ کم أچھ چانہ چھےٚ زن لُکہ بٲتچ لے ننہ وانہٕ دواں پتھ کالُک پے لکہ بٲتچ لے یتھ پتھ کال رۅنہ ہٹٮ۪و سٍتۍ رنزناوان اوس سۅے چھہ وچھن وول چانٮ۪ن أچھن منز وچھان۔ حسن چھہ أچھن منز تہ، حسن چھہ یادٕ وترس منز تہ، تہٕ حسن چھہ یتھ وسیع کایناتس منز ہلم وہرتھ تہِ۔اکھ مٲرۍمۆند منظر یس اسہ منزٕ واریہو وچھمت یا محسوس کوٚرمُت آسہ ، مگر شعر بنیوو صرف صورت خانہ کٮ۪ن صفن پٮ۪ٹھ ۔ یہ چھےٚ اکھ رٕژ مثال زِ تھدِ پایچ لولہ شٲعری کتھہ کنہ چھےٚ کرنہ یوان تِتھہ پٲٹھۍ ژٕ پیٚیہ ہم راتھ ژٮ۪تس زن کاوٕ قمیُر ژۆل بونٮ۪و تلۍ کٲیناتہٕ کہ حسنکۍ بٲتھ گٮ۪وِتھ نہ تھۆک انسان زانہہ، نہ تھکہ۔ ازیک انسان چھہ بلاین منز گیر تہ اتھ حالس منز چھہ بعضے خوبصورتی ہنز تہٕ نغمن ہنز کتھ بیقلٲزی باسان۔ مگر نہ گژھہ زوٕذاژن ہنز کۅل چھنبۍ تہٕ نہ روزِ سونتہٕ واوٕچ چھہۍ تن شیٚہلاونے۔ خوبصورتی ہندۍ سٲری رنگ یم بےٚ ٲنتھ کایناتس منز وہرتھ چھہ، تم سٲری چھہ معشوقہ سٕندس بدنس منز تتھے کن یتھہٕ کنہ اقبالؒ سندٮ۪ن لفظن منز اسمان منہِ پھلس منز چھہ۔ سٲنۍ زبان چھےٚ کلامہ کٮ۪ن سوٚدرن کۅم کٔرتھ تہِ اتھ ٲنہ خانس کِژ ژھرٔ تہٕ چھنۍ۔ صورت خانہ چھہ حسن لفظن منز وٮ۪پراونچ ناکٲمی ہاونہٕ مۅکھہ اکھ نایاب ٲنہٕ گران چانہ انہارٕ میون شعر ونن ٹوپہ تل تاپہ ٹیۆک کھٹتھ تھاون پوٚز ونیون امۍ لولہ متۍ مٮ۪ون دل رنگہ مۆت چھہ موصم شُر ۔ نہ تۯاوہ سٲنۍ ٹوپۍ یہ پوٚت کل زانہہ تہٕ نہ وٮ۪پہ تاپہٕ ٹیۆک سانہ ٹوپہ تل۔ یہ گردش روزِ ہر ہمیشہ تتھے کنہ سٲنۍ تن تہ سون من گرا تنبلاوان تہ گرا سنبلاوان یتھہ کنہ یہ پتھ وتھ اوسمت چھہ۔ اردو شٲعر فیض احمد فیض سند یہ شعر گو پننہ وقتہ سٮ۪ٹھا مشہور وہ تو وہ ہے تمہیں ہو جاۓ گی الفت مجھ سے اک نظر تم مرا محبوبِ نظر تو دیکھو۔ ، وچھن لایق چھہ قاضی غلام محمدن شعر کۆت چھہ عاشق تہ معشوق دۅشوٕنی ہند حال بٲوتھ لفظن ہنز وولٹیج واتناوان؛ تصورک عالم کوتا چھہ وہراونہ یوان کٲر نحقے بہٕ چھس نہ نۆمرٲوتھ تہۍ تہ زانہہ وُچھزہون سہ کارِ وۅگن مٲرۍمندیُت ژھانڈنچ، پرزناونچ ، للہ ناونچ تہ مۅلناونچ مالے، یہ ژھٮ۪نہ گژھنچ دٕے تہٕ اتھ سٍتۍ رل گژھنٕچ کل چھےٚ انسانس ہر ہمیشہ سۅ بے قرٲری دوان ییٚمہ ورٲے زندگی ہند یہ دریاو رٲسۍ گژھہ ہے، تہ ییٚمہ سٍتۍ انسان ہمیشہ نوٮ۪ن نوٮ۪ن دردٕ نیَن ہندۍ خاب وچھان چھہ۔ یہ خاب چھہ زندگی ہند ساروٕے کھۅتہ بۅڈ سِر۔ مےٚ کیا چھہ خوش کران، مےٚ کیا چھہ ویان، مےٚ کیا چھہ پرٕ تہٕ مےٚ کیا گۆژھ، اتھ سٲرۍ سٕے چھہ چھونپ لگان ییٚلہ اسۍ أچھ ؤٹتھ تتھ عالمس کُن پھیران چھہ یُس دپوَے تہٕ ابوس چھہ، مگر یتھ اسۍ اصلی اسۍ ونان چھہ۔ سٲنۍ أچھ چھےٚ سٲنۍ أچھ، سانۍ ارزتھ، مگر وچھن وٲلۍ چھہ اسۍ ، یہ گاش چھہ اسۍ ۔ یمن خابن ہند تعبیر ژھانڈنہ چھہ نیرُن أچھ مژرتھ۔ یۆتانۍ نہ تمہ تعبیرُک پے لگہ تۅتٲنۍ چھہ خابٕے سٲنۍ وسمتھ، تہ یہ وسمتھ چھےٚ سُہ وٲراگ سران یس یس ذٲژ کنۍ صحراو ٲستھ سانٮ۪ن ارمانن ہند سٲلہ مٲدان چھہ۔ صورت خانہ چھہ یہ رمز یتھہ کنہ بٲواں أچھ مُژرٲوتھ گوس وُبٲلۍ پھیران اوسس دردٕ نیَن صورت خانہ چھہ یٔژ پٲٹھۍ یمنےٕ خابن ہند ٲنہ خانہٕ۔ اتہ چھنہٕ کانہہ چیز ناممکن ۔ کتابہ ہنز زان کران چھہ امۍسٕے شٲعرٕ سند اردو شعر، غیر ممکن ہے جو اسباب و علل کی رو سر سے خواب میں شعر میں ممکن نظر آتا ہے میاں ۔ یِم شعر کمن کمن ہاوسن ہنز علامت چھہ اۆبُر ڈالُن اتھو تہٕ کاڈ کڈُن بالہٕ تیغس کھسن تہ زوٗنہ گندن تتھ مکانس نہ ٲسۍ دارِ نہ بر تتھ مکانس اندر مےٚ اوس اژن پانہ کُس پژھ کری اگر ژٕ ونکھ سبز رٲژن بہٕ چھس وُہان بعضے ٲنہ خانہ چھہ ٲنہ خانہ۔ مگر انسانہ سندۍ دم چھےٚ گٔنزرتھ، یم مۅکلن پننس وقتس پٮ۪ٹھ۔ نہ روزِ خاب تہ نہ خاب وچھن وول۔ سونچکس سفرس چھہ یہ ٹیٚٹھہ موٚدر پزر نٲلی نال۔ صورت خانہ چھہ اسہ اکھ مسلسل غزل دوان، یتھہٕ تتھہٕ ییٚلہ پیوس بہٕ توٚت وٲتتھ ۔ گۅدنٮ۪تھ چھہ بحرچ یہ ناگہ جۅے کمہ تانۍ کۯیٹھہ مانٹک ظۅن پٲدٕ کران۔ پتہ چھہ خۅدکلامی ہندس مۅڈس منز سون شٲعر تمس کستاں ہندۍ خاب وچھنک پے دوان۔ یہ چھہ یتھہٕ تتھہٕ تمۍ سند گرٕ نشہ واتاں تہٕ تتہِ چھس کوفوٗرٕچ بۅے یوان، یۅسہ تمۍ سندِ گزرنچ خبر دِوان چھےٚ۔ امس چھہ تہ پٮ۪وان سرُن یہ نہ امۍ ہرگز کونچھمت اوس کوفوٗرچ بۅے ٲس ہوہس منز وق جوگۍ گوٚمت اوس کار کٔرتھ جوگۍ چھہ سٲنہ تصورکس عالمس منز بٔسِتھ۔ جوگۍ، یس ہنگہ تہ منگہ آنگنس منز بوٗد گژھان تہٕ آلو جورا دتھ پننۍ وتھ رٹان چھہ، گژھٮ۪س تہ ژلہ کۅچھ منزٕ اکہ نندن ہٮ۪تھ، پژِ تہ دِیہ نندٕ بون بیٚہ واپس، تہٕٲخر کار ژلہِ کُنہ دۅہہ شوٗشہ نارِ منزٕ شہہ تہ دلہ منز دُبراے ہٮ۪تھ۔۔۔وق جوگۍ گوٚمت اوس کار کٔرتھ ۔۔۔؛ یہ چھہ خابہ کٮ۪ن وُڈون ہند سُہ انجام یس خابن ہندِ ٲخری تعبیر چھہ۔ اتھ مقامس کن گژھہ ظۅن تہٕ یہ خیال، یہ پزر تہ ولِہ سونچس نال کم پوشہ چمن؟ کِتھۍ سروٕ شہلۍ؟ بلۍ پاد بچارن لوکن پھلۍ امہ وِزِ چھہ سورُے کیٚنہ باسان سراب، تہٕ خابہٕ موٚت اگر حقیقت پسند آسہ، تیٚلہ چھنہ سُہ اورٕ کنہ تہِ غٲفل آسان۔ صورت خانہ چھہ غزلن تہ نظمن ہنز سوٚمبرن۔ واریاہ غزل چھہ مسلسل یہ چھےٚ فلسفیانہ سونچچ خٲصیت ، نظمہ چھےٚ سارے خاص، مگر بہٕ کرٕ صرف اکہ نظمہ ہنز کتھ، نذر حبہ خاتون ۔ فارسی، اردو تہٕ کٲشرِکٮ۪ن جان جان ادیبن ہند سٔنتھ مطالعہ کران وول شٲعر ییٚلہ حبہ خوتونہ ونان چھہ، رنبہ ونۍ خیال چٲنۍ دلس چھم وتش دوان یم یم غزل مےٚ لیکھۍ تمن گو بہانہ چون سہ چھہ یکوٹہٕ پۯٲنس سٍتۍ ، پننہ زمینہ تہ امہ چن پُھلیَن سٍتۍ ، شٲعری ہندس حسنس سٍتۍ، تہٕ موسیقی ہندس شیٚہجارس سٍتۍ پنن محبت ہاوان۔ تہٕ سیپارٕ تۯہ مرٕ پرٮ۪م اکہ آنے پھیرٕ نو کنہ گوم زیرٕ زبرے عشقن خط کٲنسہ پوٚر نہٕ یکبارو ونن واجنہ حبہ خوتونہ پنن حال باوان، پوٚز بوز خٲبۍ وچھہ مےٚ دۅہے کم نوینہ رنگ پوٚز بوز خٲبۍ وچھ مےٚ دۅہےٲنہ خانہ چون خاب وچھن تہ رچھن وٲلۍ امۍ زندٕ دلن چھےٚ اسنہ گندنہ چن گرٮ۪ن منز ظرافتکۍ باغ تہ پھۅلرٲوۍمتۍ مگر خبر کیاز چھنہ تتھۍ شہکار یتھ کتابہ منز شٲمل کرنہٕ آمتۍ ۔ مےٚ چھہ صرف زٕ چیز نظرِ تل یم ٹھس منز کٲشرِ اسن تۯایہ کتابہ منز چھپے یۅس امین کٲمل صٲبن ترتیب دژمژ چھےٚ۔ یم نظمہ صورت خانس منز نہ آسنہ سبہ کرکھ بہ ییٚتٮ۪ن نقل ۔ نذرِ محمود گٲمی پوٚژھ لٲگِتھ چھس آمت سالس ڈنگ داہ مرٕ کھیٚیہ مس ہے زن چھم ماتامال سِر بوونم لگٕہ ہا کلہ والس دال کتہ کھٔژ سیخس ہے پٮ۪ٹھ ییٚلی آصہ مہہ دال دوٗررک زر بہٕ کوتا ژالس ژھارنہ ونۍ نیرس ہے بوٗٹس لٲگتھ نال نٲگۍ راے بیوٹھم منز پاتالس بر بُکہٕ آمژ چھس ہے لوٗپ لٲگتھ ہی مال مرضی ییٚلہ گیہ تس لاابالس ہونۍ پیٚایہ منز آنگنس ہے کھسہٕ ون چھم اقبال قٲضی صٲبس صاحب حالس بتہٕ بانہٕ شیریامس ہے تمہ منزٕ دۯاس کہۍ وال ۔ گگرس چھس کھوژٲنی یے عالمس سوٗر کوٚر حسنن میٲنی گگرس چھس کھوژٲنی یے ہیرِ بوٚن پان مٮ۪ن شولہٕ مارٲنی گگرس چھس کھوژٲنی یے شیرِ چھم لٲگتھ گلِ ریحٲنی حورٕ چھے اتھہ موٗرٲنی یے مصرکہ بازرٕ چھس دردٲنی گگرس چھس کھوژٲنی یے تارکن سٍتھ چھس جورِ مارٲنی معرکن گاہ تۯاوٲنی یے مۅے چھم عنبر رۅے نوٗرٲنی گگرس چھس کھوژٲنی یے یم سٲری رنگ پننہ جایہ، مگر سٲنۍ اصلی وسمتھ چھےٚ خاب۔ امی سٍتۍ چھہ اسۍ اسۍ ۔ خاب چھہ اسۍ پننہ انجامک تصور ٲستھ تہ وچھان، یا شاید امہ کی برکتہٕ وچھان۔ خاب چھہ اسہ پۯون کانہہ سۅکھ یاد پٲوتھ نٔوس کنہ دۅکھس سینہ دارنچ تہ سفر جٲری تھاونچ ہٮ۪متھ دوان، خاب آے ولنہ تہٕ شوق دیہ پوشن سگ، خاب سوریاے تہٕ بدن زند ٲستھ تہ چھےٚ کوفورٕچ بۅے انجام۔ صورت خانہ کٮ۪ں کینژن سِرن ہنز یہ باوتھ کٔرتھ شوٗبہ امی کتابہ ہندس یتھ شعرس پٮ۪ٹھ کتھ اند واتناوۍ پھیران گہے چھہ دردٕ نیَن بازرن گہے اسۍ کِتھۍ چھہ خونہ ملۍ چھہ ہیواں غم کٕنان چھہ خاب مےٚ چھہ کشمیر ینورسٹی منز کینژن بیین ینورسٹی ہندٮ۪ن حسابہ کٮ۪ن مٲہرن سٍتھ اکھ کانفرنس یاد یتھ منز پروفیسر قاضی تمن أکس مٲہر ریاضیات یس شٲعر تہ اوس عمر خیان سند درۍیافت کوٚرمت اکھ قٲعدہ ویژھنتھ فکر تاران اوس۔ سٲری آسۍ دم کٔرتھ تمۍ سٕنز مہارت تہ تمۍ سند عشق وچھتھ حٲران۔ شاخ کٲتیا دۯاے میٚژِ دتہِ لولو انور وار انورؔ پروین شاکر ونان کمال ضبط کو میں خود بھی آزماؤں گی میں اپنے ہاتھ سے تیری دلہن سجاؤں گی ہر بار دانہ بہر ہما افگنیم، و مور آید بدام و دانہ رباید ز دام ما غالب ؔ فارسی زبٲنۍ منز چھےٚ زیر علامت اضافت خٲطرٕ ورتاونہ یوان، یتھہ کنہ نذرِ حبہ خوتون کس نذر لفظس منز ورتاونہ چھےٚ آمٕژ۔ اگر مےٚ کانہہ لفظ نظرِ ڈوٚلمت آسہ نہ تیٚلہ چھے قٲضۍ صٲبن یہ زیر علامت صرف یتھ عنوانس منز، تہ بیٚیہ اکس مصرعس منز استعمال کرمژ تہ سہ مصرع چھہ خٲلص فارسی۔ مےٚ چھہ باسان یہ چھےٚ اکھ خاص تعلیم سانہ خٲطرٕ ییٚلہ اسۍ پننۍ تھدۍ خیال باونہ خٲطرٕ دۅژھو دۅژھو فارسی لفظ تہ ترکیبہ وۅزم أنتھ پننۍ کنۍ کٲشرِ زبٲنۍ ہند ہلم بران چھہ تہ عام پٲٹھۍ استعمال سپدن والٮ۪و لفظو نشہ بےٚ خبر آسان چھہ۔ یہندس اردو مجموعس منز چھہ ظریفانہ کلام تہ شٲمل۔ ۔۔۔ یہ چھےٚ بذات خۅد اکھ تخلیق، خاہ کٲنسہ محمود گٲمی سنز یہ مشہور پد متہ ٲسۍتن پٔرمٕژ۔۔۔امین کامل کٲشرِ اسن تۯایہ'"
      ]
     },
     "execution_count": 192,
     "metadata": {},
     "output_type": "execute_result"
    }
   ],
   "source": [
    "extract_kashmiri_text(data.iloc[1]['text_extracted'])"
   ]
  },
  {
   "cell_type": "code",
   "execution_count": 193,
   "id": "34d10267-fd3f-4181-a060-37bffea65846",
   "metadata": {},
   "outputs": [],
   "source": [
    "data['text'] = data['text_extracted'].apply(extract_kashmiri_text)"
   ]
  },
  {
   "cell_type": "code",
   "execution_count": 194,
   "id": "18632c6e-32ba-46ba-8b6e-8840d840acdf",
   "metadata": {},
   "outputs": [
    {
     "data": {
      "text/html": [
       "<div>\n",
       "<style scoped>\n",
       "    .dataframe tbody tr th:only-of-type {\n",
       "        vertical-align: middle;\n",
       "    }\n",
       "\n",
       "    .dataframe tbody tr th {\n",
       "        vertical-align: top;\n",
       "    }\n",
       "\n",
       "    .dataframe thead th {\n",
       "        text-align: right;\n",
       "    }\n",
       "</style>\n",
       "<table border=\"1\" class=\"dataframe\">\n",
       "  <thead>\n",
       "    <tr style=\"text-align: right;\">\n",
       "      <th></th>\n",
       "      <th>text_extracted</th>\n",
       "      <th>text</th>\n",
       "    </tr>\n",
       "  </thead>\n",
       "  <tbody>\n",
       "    <tr>\n",
       "      <th>0</th>\n",
       "      <td>اسۍ\\n       ما وٲتِتھ\\n       پێے پتھ ون سۅرنے...</td>\n",
       "      <td>اسۍ ما وٲتِتھ پێے پتھ ون سۅرنے واینۍ ہش چھےٚ گ...</td>\n",
       "    </tr>\n",
       "    <tr>\n",
       "      <th>1</th>\n",
       "      <td>۔ کیٚنہہ\\nاشارٕ ۔ پتۍمٮ۪ن پنژہن شیٹھن ورۍین ہن...</td>\n",
       "      <td>۔ کیٚنہہ اشارٕ ۔ پتۍمٮ۪ن پنژہن شیٹھن ورۍین ہند...</td>\n",
       "    </tr>\n",
       "    <tr>\n",
       "      <th>2</th>\n",
       "      <td>نعت</td>\n",
       "      <td>نعت</td>\n",
       "    </tr>\n",
       "    <tr>\n",
       "      <th>3</th>\n",
       "      <td>۔ کیٚنہہ\\nاشارٕ ۔ پتۍمٮ۪ن پنژہن شیٹھن ورۍین ہن...</td>\n",
       "      <td>۔ کیٚنہہ اشارٕ ۔ پتۍمٮ۪ن پنژہن شیٹھن ورۍین ہند...</td>\n",
       "    </tr>\n",
       "    <tr>\n",
       "      <th>4</th>\n",
       "      <td>تاثرات  جناب مخمور سعیدی کے ایک خط سے اقتباس ...</td>\n",
       "      <td>تاثرات جناب مخمور سعیدی کے ایک خط سے اقتباس مخ...</td>\n",
       "    </tr>\n",
       "  </tbody>\n",
       "</table>\n",
       "</div>"
      ],
      "text/plain": [
       "                                      text_extracted  \\\n",
       "0  اسۍ\\n       ما وٲتِتھ\\n       پێے پتھ ون سۅرنے...   \n",
       "1  ۔ کیٚنہہ\\nاشارٕ ۔ پتۍمٮ۪ن پنژہن شیٹھن ورۍین ہن...   \n",
       "2                                                نعت   \n",
       "3  ۔ کیٚنہہ\\nاشارٕ ۔ پتۍمٮ۪ن پنژہن شیٹھن ورۍین ہن...   \n",
       "4   تاثرات  جناب مخمور سعیدی کے ایک خط سے اقتباس ...   \n",
       "\n",
       "                                                text  \n",
       "0  اسۍ ما وٲتِتھ پێے پتھ ون سۅرنے واینۍ ہش چھےٚ گ...  \n",
       "1  ۔ کیٚنہہ اشارٕ ۔ پتۍمٮ۪ن پنژہن شیٹھن ورۍین ہند...  \n",
       "2                                                نعت  \n",
       "3  ۔ کیٚنہہ اشارٕ ۔ پتۍمٮ۪ن پنژہن شیٹھن ورۍین ہند...  \n",
       "4  تاثرات جناب مخمور سعیدی کے ایک خط سے اقتباس مخ...  "
      ]
     },
     "execution_count": 194,
     "metadata": {},
     "output_type": "execute_result"
    }
   ],
   "source": [
    "data.head()"
   ]
  },
  {
   "cell_type": "code",
   "execution_count": 195,
   "id": "80d5abb5-a04c-400d-8b69-3ea665aae209",
   "metadata": {},
   "outputs": [],
   "source": [
    "data = data[['text']]"
   ]
  },
  {
   "cell_type": "code",
   "execution_count": 196,
   "id": "b45c16b3-8044-47b5-b1e9-3a19f35735ee",
   "metadata": {},
   "outputs": [
    {
     "data": {
      "text/plain": [
       "(22, 1)"
      ]
     },
     "execution_count": 196,
     "metadata": {},
     "output_type": "execute_result"
    }
   ],
   "source": [
    "data.shape"
   ]
  },
  {
   "cell_type": "code",
   "execution_count": 197,
   "id": "612afbde-996b-444e-85ea-8f6de7052516",
   "metadata": {},
   "outputs": [],
   "source": [
    "data.to_csv('final/Kashmiri.csv')"
   ]
  },
  {
   "cell_type": "markdown",
   "id": "bafe5036-a30c-43e2-b0d8-e74fe8f15daa",
   "metadata": {},
   "source": [
    "## Malayalam"
   ]
  },
  {
   "cell_type": "code",
   "execution_count": 198,
   "id": "d9ec6f24-e0ef-43e6-af5d-69b323929078",
   "metadata": {},
   "outputs": [],
   "source": [
    "data = pd.DataFrame(columns=['text'])"
   ]
  },
  {
   "cell_type": "code",
   "execution_count": 199,
   "id": "ef63724b-365d-46b1-ab30-e2e658034770",
   "metadata": {},
   "outputs": [],
   "source": [
    "for i in os.listdir('datasets/Malayalam/train/train'):\n",
    "    with open(f'datasets/Malayalam/train/train/{i}') as f:\n",
    "        data.loc[len(data.index)] = [f.read()]"
   ]
  },
  {
   "cell_type": "code",
   "execution_count": 200,
   "id": "7602f7b4-66fa-45c4-a555-339dae279282",
   "metadata": {},
   "outputs": [
    {
     "data": {
      "text/html": [
       "<div>\n",
       "<style scoped>\n",
       "    .dataframe tbody tr th:only-of-type {\n",
       "        vertical-align: middle;\n",
       "    }\n",
       "\n",
       "    .dataframe tbody tr th {\n",
       "        vertical-align: top;\n",
       "    }\n",
       "\n",
       "    .dataframe thead th {\n",
       "        text-align: right;\n",
       "    }\n",
       "</style>\n",
       "<table border=\"1\" class=\"dataframe\">\n",
       "  <thead>\n",
       "    <tr style=\"text-align: right;\">\n",
       "      <th></th>\n",
       "      <th>text</th>\n",
       "    </tr>\n",
       "  </thead>\n",
       "  <tbody>\n",
       "    <tr>\n",
       "      <th>0</th>\n",
       "      <td>\\nColuber stolatusLinnaeus, 1758Elaps bilineat...</td>\n",
       "    </tr>\n",
       "    <tr>\n",
       "      <th>1</th>\n",
       "      <td>സാമ്പത്തികശാസ്ത്രത്തിനുള്ള 2015-ലെ നോബേൽ പുരസ്...</td>\n",
       "    </tr>\n",
       "    <tr>\n",
       "      <th>2</th>\n",
       "      <td>ഒരു ഹിന്ദുസ്ഥാനി സംഗീതജ്ഞയായിരുന്നു ഗംഗുബായ്‌ ...</td>\n",
       "    </tr>\n",
       "    <tr>\n",
       "      <th>3</th>\n",
       "      <td>ലോകത്തുടനീളമുള്ള ജൈവവൈവിധ്യങ്ങളെ നിരീക്ഷിക്കുക...</td>\n",
       "    </tr>\n",
       "    <tr>\n",
       "      <th>4</th>\n",
       "      <td>ഇസ്ലാം മതത്തിലെ ഒരു വിഭാഗമാണ്‌ ഷിയാ മുസ്ലീം സമ...</td>\n",
       "    </tr>\n",
       "  </tbody>\n",
       "</table>\n",
       "</div>"
      ],
      "text/plain": [
       "                                                text\n",
       "0  \\nColuber stolatusLinnaeus, 1758Elaps bilineat...\n",
       "1  സാമ്പത്തികശാസ്ത്രത്തിനുള്ള 2015-ലെ നോബേൽ പുരസ്...\n",
       "2  ഒരു ഹിന്ദുസ്ഥാനി സംഗീതജ്ഞയായിരുന്നു ഗംഗുബായ്‌ ...\n",
       "3  ലോകത്തുടനീളമുള്ള ജൈവവൈവിധ്യങ്ങളെ നിരീക്ഷിക്കുക...\n",
       "4  ഇസ്ലാം മതത്തിലെ ഒരു വിഭാഗമാണ്‌ ഷിയാ മുസ്ലീം സമ..."
      ]
     },
     "execution_count": 200,
     "metadata": {},
     "output_type": "execute_result"
    }
   ],
   "source": [
    "data.head()"
   ]
  },
  {
   "cell_type": "code",
   "execution_count": 201,
   "id": "ab40dc1a-7f80-46e1-b03e-8ba15731df57",
   "metadata": {},
   "outputs": [
    {
     "data": {
      "text/plain": [
       "(8671, 1)"
      ]
     },
     "execution_count": 201,
     "metadata": {},
     "output_type": "execute_result"
    }
   ],
   "source": [
    "data.shape"
   ]
  },
  {
   "cell_type": "code",
   "execution_count": 202,
   "id": "32bb3e88-045a-435e-8f9e-87862b2954fa",
   "metadata": {},
   "outputs": [],
   "source": [
    "for i in os.listdir('datasets/Malayalam/valid/valid'):\n",
    "    with open(f'datasets/Malayalam/valid/valid/{i}') as f:\n",
    "        data.loc[len(data.index)] = [f.read()]"
   ]
  },
  {
   "cell_type": "code",
   "execution_count": 203,
   "id": "31df8aef-2423-440e-826a-5cefa1648923",
   "metadata": {},
   "outputs": [
    {
     "data": {
      "text/plain": [
       "(12388, 1)"
      ]
     },
     "execution_count": 203,
     "metadata": {},
     "output_type": "execute_result"
    }
   ],
   "source": [
    "data.shape"
   ]
  },
  {
   "cell_type": "code",
   "execution_count": 204,
   "id": "b63ef5c9-852f-47c6-ae33-02a24199a41c",
   "metadata": {},
   "outputs": [
    {
     "data": {
      "text/html": [
       "<div>\n",
       "<style scoped>\n",
       "    .dataframe tbody tr th:only-of-type {\n",
       "        vertical-align: middle;\n",
       "    }\n",
       "\n",
       "    .dataframe tbody tr th {\n",
       "        vertical-align: top;\n",
       "    }\n",
       "\n",
       "    .dataframe thead th {\n",
       "        text-align: right;\n",
       "    }\n",
       "</style>\n",
       "<table border=\"1\" class=\"dataframe\">\n",
       "  <thead>\n",
       "    <tr style=\"text-align: right;\">\n",
       "      <th></th>\n",
       "      <th>text</th>\n",
       "    </tr>\n",
       "  </thead>\n",
       "  <tbody>\n",
       "    <tr>\n",
       "      <th>0</th>\n",
       "      <td>\\nColuber stolatusLinnaeus, 1758Elaps bilineat...</td>\n",
       "    </tr>\n",
       "    <tr>\n",
       "      <th>1</th>\n",
       "      <td>സാമ്പത്തികശാസ്ത്രത്തിനുള്ള 2015-ലെ നോബേൽ പുരസ്...</td>\n",
       "    </tr>\n",
       "    <tr>\n",
       "      <th>2</th>\n",
       "      <td>ഒരു ഹിന്ദുസ്ഥാനി സംഗീതജ്ഞയായിരുന്നു ഗംഗുബായ്‌ ...</td>\n",
       "    </tr>\n",
       "    <tr>\n",
       "      <th>3</th>\n",
       "      <td>ലോകത്തുടനീളമുള്ള ജൈവവൈവിധ്യങ്ങളെ നിരീക്ഷിക്കുക...</td>\n",
       "    </tr>\n",
       "    <tr>\n",
       "      <th>4</th>\n",
       "      <td>ഇസ്ലാം മതത്തിലെ ഒരു വിഭാഗമാണ്‌ ഷിയാ മുസ്ലീം സമ...</td>\n",
       "    </tr>\n",
       "  </tbody>\n",
       "</table>\n",
       "</div>"
      ],
      "text/plain": [
       "                                                text\n",
       "0  \\nColuber stolatusLinnaeus, 1758Elaps bilineat...\n",
       "1  സാമ്പത്തികശാസ്ത്രത്തിനുള്ള 2015-ലെ നോബേൽ പുരസ്...\n",
       "2  ഒരു ഹിന്ദുസ്ഥാനി സംഗീതജ്ഞയായിരുന്നു ഗംഗുബായ്‌ ...\n",
       "3  ലോകത്തുടനീളമുള്ള ജൈവവൈവിധ്യങ്ങളെ നിരീക്ഷിക്കുക...\n",
       "4  ഇസ്ലാം മതത്തിലെ ഒരു വിഭാഗമാണ്‌ ഷിയാ മുസ്ലീം സമ..."
      ]
     },
     "execution_count": 204,
     "metadata": {},
     "output_type": "execute_result"
    }
   ],
   "source": [
    "data.head()"
   ]
  },
  {
   "cell_type": "code",
   "execution_count": 205,
   "id": "0e92984a-591c-46ea-9318-3a0517d16880",
   "metadata": {},
   "outputs": [],
   "source": [
    "def extract_malayalam_text(text):\n",
    "    # Regular expression pattern to match Malayalam characters and newline\n",
    "    malayalam_pattern = re.compile(r'[\\u0D00-\\u0D7F\\s\\n]+')\n",
    "    \n",
    "    # Find all matches of Malayalam text in the input text\n",
    "    malayalam_matches = malayalam_pattern.findall(text)\n",
    "\n",
    "    # Filter out empty strings, whitespace characters, and newline characters\n",
    "    malayalam_matches = [match.strip() for match in malayalam_matches if match.strip() != '\\n']\n",
    "\n",
    "    # Join the matches to form the extracted Malayalam text\n",
    "    malayalam_text = ' '.join(malayalam_matches)\n",
    "    \n",
    "    # Remove extra spaces\n",
    "    malayalam_text = ' '.join(malayalam_text.split())\n",
    "\n",
    "    return malayalam_text"
   ]
  },
  {
   "cell_type": "code",
   "execution_count": 206,
   "id": "82604937-9145-48d6-a11b-25105c1de395",
   "metadata": {},
   "outputs": [],
   "source": [
    "data['cleaned'] = data['text'].apply(extract_malayalam_text)"
   ]
  },
  {
   "cell_type": "code",
   "execution_count": 207,
   "id": "1b5f66ff-975d-4e0b-963b-390e852971e3",
   "metadata": {},
   "outputs": [
    {
     "data": {
      "text/html": [
       "<div>\n",
       "<style scoped>\n",
       "    .dataframe tbody tr th:only-of-type {\n",
       "        vertical-align: middle;\n",
       "    }\n",
       "\n",
       "    .dataframe tbody tr th {\n",
       "        vertical-align: top;\n",
       "    }\n",
       "\n",
       "    .dataframe thead th {\n",
       "        text-align: right;\n",
       "    }\n",
       "</style>\n",
       "<table border=\"1\" class=\"dataframe\">\n",
       "  <thead>\n",
       "    <tr style=\"text-align: right;\">\n",
       "      <th></th>\n",
       "      <th>text</th>\n",
       "      <th>cleaned</th>\n",
       "    </tr>\n",
       "  </thead>\n",
       "  <tbody>\n",
       "    <tr>\n",
       "      <th>0</th>\n",
       "      <td>\\nColuber stolatusLinnaeus, 1758Elaps bilineat...</td>\n",
       "      <td>നീർക്കോലിപ്പാമ്പിനോടു സാദൃശ്യമുള്ള വിഷമില്ലാത്...</td>\n",
       "    </tr>\n",
       "    <tr>\n",
       "      <th>1</th>\n",
       "      <td>സാമ്പത്തികശാസ്ത്രത്തിനുള്ള 2015-ലെ നോബേൽ പുരസ്...</td>\n",
       "      <td>സാമ്പത്തികശാസ്ത്രത്തിനുള്ള ലെ നോബേൽ പുരസ് കാരം...</td>\n",
       "    </tr>\n",
       "    <tr>\n",
       "      <th>2</th>\n",
       "      <td>ഒരു ഹിന്ദുസ്ഥാനി സംഗീതജ്ഞയായിരുന്നു ഗംഗുബായ്‌ ...</td>\n",
       "      <td>ഒരു ഹിന്ദുസ്ഥാനി സംഗീതജ്ഞയായിരുന്നു ഗംഗുബായ് ഹ...</td>\n",
       "    </tr>\n",
       "    <tr>\n",
       "      <th>3</th>\n",
       "      <td>ലോകത്തുടനീളമുള്ള ജൈവവൈവിധ്യങ്ങളെ നിരീക്ഷിക്കുക...</td>\n",
       "      <td>ലോകത്തുടനീളമുള്ള ജൈവവൈവിധ്യങ്ങളെ നിരീക്ഷിക്കുക...</td>\n",
       "    </tr>\n",
       "    <tr>\n",
       "      <th>4</th>\n",
       "      <td>ഇസ്ലാം മതത്തിലെ ഒരു വിഭാഗമാണ്‌ ഷിയാ മുസ്ലീം സമ...</td>\n",
       "      <td>ഇസ്ലാം മതത്തിലെ ഒരു വിഭാഗമാണ് ഷിയാ മുസ്ലീം സമൂ...</td>\n",
       "    </tr>\n",
       "  </tbody>\n",
       "</table>\n",
       "</div>"
      ],
      "text/plain": [
       "                                                text  \\\n",
       "0  \\nColuber stolatusLinnaeus, 1758Elaps bilineat...   \n",
       "1  സാമ്പത്തികശാസ്ത്രത്തിനുള്ള 2015-ലെ നോബേൽ പുരസ്...   \n",
       "2  ഒരു ഹിന്ദുസ്ഥാനി സംഗീതജ്ഞയായിരുന്നു ഗംഗുബായ്‌ ...   \n",
       "3  ലോകത്തുടനീളമുള്ള ജൈവവൈവിധ്യങ്ങളെ നിരീക്ഷിക്കുക...   \n",
       "4  ഇസ്ലാം മതത്തിലെ ഒരു വിഭാഗമാണ്‌ ഷിയാ മുസ്ലീം സമ...   \n",
       "\n",
       "                                             cleaned  \n",
       "0  നീർക്കോലിപ്പാമ്പിനോടു സാദൃശ്യമുള്ള വിഷമില്ലാത്...  \n",
       "1  സാമ്പത്തികശാസ്ത്രത്തിനുള്ള ലെ നോബേൽ പുരസ് കാരം...  \n",
       "2  ഒരു ഹിന്ദുസ്ഥാനി സംഗീതജ്ഞയായിരുന്നു ഗംഗുബായ് ഹ...  \n",
       "3  ലോകത്തുടനീളമുള്ള ജൈവവൈവിധ്യങ്ങളെ നിരീക്ഷിക്കുക...  \n",
       "4  ഇസ്ലാം മതത്തിലെ ഒരു വിഭാഗമാണ് ഷിയാ മുസ്ലീം സമൂ...  "
      ]
     },
     "execution_count": 207,
     "metadata": {},
     "output_type": "execute_result"
    }
   ],
   "source": [
    "data.head()"
   ]
  },
  {
   "cell_type": "code",
   "execution_count": 208,
   "id": "f3400f73-f6c3-415d-a314-c166832d4986",
   "metadata": {},
   "outputs": [],
   "source": [
    "data = data[['cleaned']]"
   ]
  },
  {
   "cell_type": "code",
   "execution_count": 209,
   "id": "a62fc9ea-c6b8-4417-abf5-f14d114b81be",
   "metadata": {},
   "outputs": [
    {
     "data": {
      "text/html": [
       "<div>\n",
       "<style scoped>\n",
       "    .dataframe tbody tr th:only-of-type {\n",
       "        vertical-align: middle;\n",
       "    }\n",
       "\n",
       "    .dataframe tbody tr th {\n",
       "        vertical-align: top;\n",
       "    }\n",
       "\n",
       "    .dataframe thead th {\n",
       "        text-align: right;\n",
       "    }\n",
       "</style>\n",
       "<table border=\"1\" class=\"dataframe\">\n",
       "  <thead>\n",
       "    <tr style=\"text-align: right;\">\n",
       "      <th></th>\n",
       "      <th>cleaned</th>\n",
       "    </tr>\n",
       "  </thead>\n",
       "  <tbody>\n",
       "    <tr>\n",
       "      <th>0</th>\n",
       "      <td>നീർക്കോലിപ്പാമ്പിനോടു സാദൃശ്യമുള്ള വിഷമില്ലാത്...</td>\n",
       "    </tr>\n",
       "    <tr>\n",
       "      <th>1</th>\n",
       "      <td>സാമ്പത്തികശാസ്ത്രത്തിനുള്ള ലെ നോബേൽ പുരസ് കാരം...</td>\n",
       "    </tr>\n",
       "    <tr>\n",
       "      <th>2</th>\n",
       "      <td>ഒരു ഹിന്ദുസ്ഥാനി സംഗീതജ്ഞയായിരുന്നു ഗംഗുബായ് ഹ...</td>\n",
       "    </tr>\n",
       "    <tr>\n",
       "      <th>3</th>\n",
       "      <td>ലോകത്തുടനീളമുള്ള ജൈവവൈവിധ്യങ്ങളെ നിരീക്ഷിക്കുക...</td>\n",
       "    </tr>\n",
       "    <tr>\n",
       "      <th>4</th>\n",
       "      <td>ഇസ്ലാം മതത്തിലെ ഒരു വിഭാഗമാണ് ഷിയാ മുസ്ലീം സമൂ...</td>\n",
       "    </tr>\n",
       "  </tbody>\n",
       "</table>\n",
       "</div>"
      ],
      "text/plain": [
       "                                             cleaned\n",
       "0  നീർക്കോലിപ്പാമ്പിനോടു സാദൃശ്യമുള്ള വിഷമില്ലാത്...\n",
       "1  സാമ്പത്തികശാസ്ത്രത്തിനുള്ള ലെ നോബേൽ പുരസ് കാരം...\n",
       "2  ഒരു ഹിന്ദുസ്ഥാനി സംഗീതജ്ഞയായിരുന്നു ഗംഗുബായ് ഹ...\n",
       "3  ലോകത്തുടനീളമുള്ള ജൈവവൈവിധ്യങ്ങളെ നിരീക്ഷിക്കുക...\n",
       "4  ഇസ്ലാം മതത്തിലെ ഒരു വിഭാഗമാണ് ഷിയാ മുസ്ലീം സമൂ..."
      ]
     },
     "execution_count": 209,
     "metadata": {},
     "output_type": "execute_result"
    }
   ],
   "source": [
    "data.head()"
   ]
  },
  {
   "cell_type": "code",
   "execution_count": 210,
   "id": "acdb43d4-8082-4152-85a8-4f642b66ea3d",
   "metadata": {},
   "outputs": [
    {
     "data": {
      "text/html": [
       "<div>\n",
       "<style scoped>\n",
       "    .dataframe tbody tr th:only-of-type {\n",
       "        vertical-align: middle;\n",
       "    }\n",
       "\n",
       "    .dataframe tbody tr th {\n",
       "        vertical-align: top;\n",
       "    }\n",
       "\n",
       "    .dataframe thead th {\n",
       "        text-align: right;\n",
       "    }\n",
       "</style>\n",
       "<table border=\"1\" class=\"dataframe\">\n",
       "  <thead>\n",
       "    <tr style=\"text-align: right;\">\n",
       "      <th></th>\n",
       "      <th>cleaned</th>\n",
       "    </tr>\n",
       "  </thead>\n",
       "  <tbody>\n",
       "    <tr>\n",
       "      <th>0</th>\n",
       "      <td>നീർക്കോലിപ്പാമ്പിനോടു സാദൃശ്യമുള്ള വിഷമില്ലാത്...</td>\n",
       "    </tr>\n",
       "    <tr>\n",
       "      <th>1</th>\n",
       "      <td>സാമ്പത്തികശാസ്ത്രത്തിനുള്ള ലെ നോബേൽ പുരസ് കാരം...</td>\n",
       "    </tr>\n",
       "    <tr>\n",
       "      <th>2</th>\n",
       "      <td>ഒരു ഹിന്ദുസ്ഥാനി സംഗീതജ്ഞയായിരുന്നു ഗംഗുബായ് ഹ...</td>\n",
       "    </tr>\n",
       "    <tr>\n",
       "      <th>3</th>\n",
       "      <td>ലോകത്തുടനീളമുള്ള ജൈവവൈവിധ്യങ്ങളെ നിരീക്ഷിക്കുക...</td>\n",
       "    </tr>\n",
       "    <tr>\n",
       "      <th>4</th>\n",
       "      <td>ഇസ്ലാം മതത്തിലെ ഒരു വിഭാഗമാണ് ഷിയാ മുസ്ലീം സമൂ...</td>\n",
       "    </tr>\n",
       "  </tbody>\n",
       "</table>\n",
       "</div>"
      ],
      "text/plain": [
       "                                             cleaned\n",
       "0  നീർക്കോലിപ്പാമ്പിനോടു സാദൃശ്യമുള്ള വിഷമില്ലാത്...\n",
       "1  സാമ്പത്തികശാസ്ത്രത്തിനുള്ള ലെ നോബേൽ പുരസ് കാരം...\n",
       "2  ഒരു ഹിന്ദുസ്ഥാനി സംഗീതജ്ഞയായിരുന്നു ഗംഗുബായ് ഹ...\n",
       "3  ലോകത്തുടനീളമുള്ള ജൈവവൈവിധ്യങ്ങളെ നിരീക്ഷിക്കുക...\n",
       "4  ഇസ്ലാം മതത്തിലെ ഒരു വിഭാഗമാണ് ഷിയാ മുസ്ലീം സമൂ..."
      ]
     },
     "execution_count": 210,
     "metadata": {},
     "output_type": "execute_result"
    }
   ],
   "source": [
    "data.head()"
   ]
  },
  {
   "cell_type": "code",
   "execution_count": 212,
   "id": "be6fe0cd-5ef3-444e-a36c-ce340078c462",
   "metadata": {},
   "outputs": [],
   "source": [
    "data.rename(columns={\n",
    "    'cleaned': 'text'\n",
    "}, inplace=True)"
   ]
  },
  {
   "cell_type": "code",
   "execution_count": 213,
   "id": "fa3116a4-69dc-4ff5-a7d8-bc0de182ef58",
   "metadata": {},
   "outputs": [
    {
     "data": {
      "text/html": [
       "<div>\n",
       "<style scoped>\n",
       "    .dataframe tbody tr th:only-of-type {\n",
       "        vertical-align: middle;\n",
       "    }\n",
       "\n",
       "    .dataframe tbody tr th {\n",
       "        vertical-align: top;\n",
       "    }\n",
       "\n",
       "    .dataframe thead th {\n",
       "        text-align: right;\n",
       "    }\n",
       "</style>\n",
       "<table border=\"1\" class=\"dataframe\">\n",
       "  <thead>\n",
       "    <tr style=\"text-align: right;\">\n",
       "      <th></th>\n",
       "      <th>text</th>\n",
       "    </tr>\n",
       "  </thead>\n",
       "  <tbody>\n",
       "    <tr>\n",
       "      <th>0</th>\n",
       "      <td>നീർക്കോലിപ്പാമ്പിനോടു സാദൃശ്യമുള്ള വിഷമില്ലാത്...</td>\n",
       "    </tr>\n",
       "    <tr>\n",
       "      <th>1</th>\n",
       "      <td>സാമ്പത്തികശാസ്ത്രത്തിനുള്ള ലെ നോബേൽ പുരസ് കാരം...</td>\n",
       "    </tr>\n",
       "    <tr>\n",
       "      <th>2</th>\n",
       "      <td>ഒരു ഹിന്ദുസ്ഥാനി സംഗീതജ്ഞയായിരുന്നു ഗംഗുബായ് ഹ...</td>\n",
       "    </tr>\n",
       "    <tr>\n",
       "      <th>3</th>\n",
       "      <td>ലോകത്തുടനീളമുള്ള ജൈവവൈവിധ്യങ്ങളെ നിരീക്ഷിക്കുക...</td>\n",
       "    </tr>\n",
       "    <tr>\n",
       "      <th>4</th>\n",
       "      <td>ഇസ്ലാം മതത്തിലെ ഒരു വിഭാഗമാണ് ഷിയാ മുസ്ലീം സമൂ...</td>\n",
       "    </tr>\n",
       "  </tbody>\n",
       "</table>\n",
       "</div>"
      ],
      "text/plain": [
       "                                                text\n",
       "0  നീർക്കോലിപ്പാമ്പിനോടു സാദൃശ്യമുള്ള വിഷമില്ലാത്...\n",
       "1  സാമ്പത്തികശാസ്ത്രത്തിനുള്ള ലെ നോബേൽ പുരസ് കാരം...\n",
       "2  ഒരു ഹിന്ദുസ്ഥാനി സംഗീതജ്ഞയായിരുന്നു ഗംഗുബായ് ഹ...\n",
       "3  ലോകത്തുടനീളമുള്ള ജൈവവൈവിധ്യങ്ങളെ നിരീക്ഷിക്കുക...\n",
       "4  ഇസ്ലാം മതത്തിലെ ഒരു വിഭാഗമാണ് ഷിയാ മുസ്ലീം സമൂ..."
      ]
     },
     "execution_count": 213,
     "metadata": {},
     "output_type": "execute_result"
    }
   ],
   "source": [
    "data.head()"
   ]
  },
  {
   "cell_type": "code",
   "execution_count": 214,
   "id": "0d297ce9-e0ff-433c-a0a4-5b569fbd0a73",
   "metadata": {},
   "outputs": [
    {
     "data": {
      "text/plain": [
       "text    0\n",
       "dtype: int64"
      ]
     },
     "execution_count": 214,
     "metadata": {},
     "output_type": "execute_result"
    }
   ],
   "source": [
    "data.isna().sum()"
   ]
  },
  {
   "cell_type": "code",
   "execution_count": 215,
   "id": "ed1cb949-fc0a-4fce-84a8-60d34c7aa09a",
   "metadata": {},
   "outputs": [
    {
     "data": {
      "text/plain": [
       "3255"
      ]
     },
     "execution_count": 215,
     "metadata": {},
     "output_type": "execute_result"
    }
   ],
   "source": [
    "data.duplicated().sum()"
   ]
  },
  {
   "cell_type": "code",
   "execution_count": 216,
   "id": "1b9e5dad-40fd-4744-a6ef-08cade0487b8",
   "metadata": {},
   "outputs": [],
   "source": [
    "data.drop_duplicates(inplace=True)"
   ]
  },
  {
   "cell_type": "code",
   "execution_count": 218,
   "id": "93ed24a9-a87c-4389-af9f-8e3250f41fe1",
   "metadata": {},
   "outputs": [
    {
     "data": {
      "text/plain": [
       "(9133, 1)"
      ]
     },
     "execution_count": 218,
     "metadata": {},
     "output_type": "execute_result"
    }
   ],
   "source": [
    "data.shape"
   ]
  },
  {
   "cell_type": "code",
   "execution_count": 219,
   "id": "593af126-3efd-4ffd-a09e-efafbf8349b1",
   "metadata": {},
   "outputs": [],
   "source": [
    "data.to_csv('final/Malayalam.csv')"
   ]
  },
  {
   "cell_type": "markdown",
   "id": "7323a86d-8642-4a0a-bbbd-04da13b79f68",
   "metadata": {},
   "source": [
    "## Marathi"
   ]
  },
  {
   "cell_type": "code",
   "execution_count": 220,
   "id": "7df5b73d-9795-460b-8ba2-3a913bc48261",
   "metadata": {},
   "outputs": [],
   "source": [
    "data = pd.DataFrame(columns=['text'])"
   ]
  },
  {
   "cell_type": "code",
   "execution_count": 221,
   "id": "f234c3d1-e39b-4a79-900c-fbedfa82210f",
   "metadata": {},
   "outputs": [],
   "source": [
    "for i in os.listdir('datasets/Marathi/train/train'):\n",
    "    with open(f'datasets/Marathi/train/train/{i}') as f:\n",
    "        data.loc[len(data.index)] = [f.read()]"
   ]
  },
  {
   "cell_type": "code",
   "execution_count": 222,
   "id": "1f33c06d-eeb2-428c-8c61-2a5dabe2723e",
   "metadata": {},
   "outputs": [
    {
     "data": {
      "text/html": [
       "<div>\n",
       "<style scoped>\n",
       "    .dataframe tbody tr th:only-of-type {\n",
       "        vertical-align: middle;\n",
       "    }\n",
       "\n",
       "    .dataframe tbody tr th {\n",
       "        vertical-align: top;\n",
       "    }\n",
       "\n",
       "    .dataframe thead th {\n",
       "        text-align: right;\n",
       "    }\n",
       "</style>\n",
       "<table border=\"1\" class=\"dataframe\">\n",
       "  <thead>\n",
       "    <tr style=\"text-align: right;\">\n",
       "      <th></th>\n",
       "      <th>text</th>\n",
       "    </tr>\n",
       "  </thead>\n",
       "  <tbody>\n",
       "    <tr>\n",
       "      <th>0</th>\n",
       "      <td>साप्ताहिक विवेक मराठी भाषेत प्रसिद्ध होणारे एक...</td>\n",
       "    </tr>\n",
       "    <tr>\n",
       "      <th>1</th>\n",
       "      <td>१० ऑगस्ट, इ.स. २००५दुवा: \\n\\nनवीन सदस्यांना मा...</td>\n",
       "    </tr>\n",
       "    <tr>\n",
       "      <th>2</th>\n",
       "      <td>हनुमंत मोरेश्वर मराठे  हे साधारणपणे ’हमो’ या न...</td>\n",
       "    </tr>\n",
       "    <tr>\n",
       "      <th>3</th>\n",
       "      <td>\\nगुलाम गौस सादिक शाह बाबा हे पाषाणगावचे सूफी ...</td>\n",
       "    </tr>\n",
       "    <tr>\n",
       "      <th>4</th>\n",
       "      <td>\\n\\n</td>\n",
       "    </tr>\n",
       "  </tbody>\n",
       "</table>\n",
       "</div>"
      ],
      "text/plain": [
       "                                                text\n",
       "0  साप्ताहिक विवेक मराठी भाषेत प्रसिद्ध होणारे एक...\n",
       "1  १० ऑगस्ट, इ.स. २००५दुवा: \\n\\nनवीन सदस्यांना मा...\n",
       "2  हनुमंत मोरेश्वर मराठे  हे साधारणपणे ’हमो’ या न...\n",
       "3  \\nगुलाम गौस सादिक शाह बाबा हे पाषाणगावचे सूफी ...\n",
       "4                                               \\n\\n"
      ]
     },
     "execution_count": 222,
     "metadata": {},
     "output_type": "execute_result"
    }
   ],
   "source": [
    "data.head()"
   ]
  },
  {
   "cell_type": "code",
   "execution_count": 223,
   "id": "9a63a9e4-6c28-48f9-af18-d2f3c4ba02b1",
   "metadata": {},
   "outputs": [
    {
     "data": {
      "text/plain": [
       "(59875, 1)"
      ]
     },
     "execution_count": 223,
     "metadata": {},
     "output_type": "execute_result"
    }
   ],
   "source": [
    "data.shape"
   ]
  },
  {
   "cell_type": "code",
   "execution_count": 224,
   "id": "f504b41d-ca58-4162-92c2-1bcd2ce94e7c",
   "metadata": {},
   "outputs": [
    {
     "data": {
      "text/plain": [
       "'१० ऑगस्ट, इ.स. २००५दुवा: \\n\\nनवीन सदस्यांना मार्गदर्शनहा साचा अशुद्धलेखन, अविश्वकोशीय मजकूर अथवा मजकुरात अविश्वकोशीय लेखनशैली व विना-संदर्भ लेखन आढळल्यास वापरला जातो. कृपया या संबंधीची चर्चा चर्चापानावर पहावी. \\nशस्त्रानी दाखवली जाते ती भीती आणि नजरेने बसते ती दहशत. तो तसाच होता. त्याच्या पळण्यात, तिरक्या बॉलिंग रनपमधे दहशत होती. त्याचा बाउंसर खतरनाक होता. साडेसहा फुटाच्या वेस्टइंडियन बॉलरमधे हा पाच फूट अकरा इंच म्हणजे बुटकाच वाटायचा. माल्कम मार्शलचा राग येईल इतका तो फास्ट होता. एवढं असूनही भारतीयच नव्हे तर समस्तं क्रिकेट जग अजूनही वेस्टइंडियन क्रिकेट बद्दल ममत्वं राखून आहे कारण जिगरबाज, खुल्या दिलाची माणसं होती ही सगळी. खेळाची मजा लुटणारे फक्तं तेच एक होते, बिनधास्तं खेळायचे सगळे.\\n१९८३च्या वर्ल्डकप पराजयानंतर विंडीज आपल्याकडे आलेली. धुमसत होते नुसते, वर्ल्डकपची हातातोंडाशी आलेली ह्याट-ट्रिक आपल्यामुळे गेली होती. आपल्या गल्लीत येउन त्यांनी आपल्याला मरेस्तोवर मारले अगदी. त्यांनी पाच टेस्टमधे ३-० आणि वनडेमधे ५-० धुतलं आपल्याला. माणसाची महानता आकड्यांवर कधी बघू नये, समोर कोण होतं, परिस्थिती काय होती त्यावर ठरवावी. महानता समजण्यासाठी, उजेडात येण्यासाठी प्रतिस्पर्धी पण तगडा असावा लागतो, तुमची महानता उजळायला त्याची मदतच होते. गावसकर विंडीजचा त्याअर्थानी ऋणी आहे, असायला हवा. गावसकरनी दिल्लीला ब्र्याडमनला इक्वल केलं होतं त्या सिरीजला आणि मद्रासला ओव्हरटेक. इक्वलचं एकोणतिसावं शतक मी पाहिलंय. हेल्मेट नाही, मार्शल राउंड द विकेट यायचा. गावसकरनी ब-याच कालावधीनंतर हूक मारत चौकार मिळवले होते. स्वत:च्या स्टाईलला काळिमा फासत त्यानी ९४ चेंडूत शतक काढलं होतं . समोर वेन ड्यानिअल, विन्स्टन डेविस, होल्डिंग आणि मार्शल. मार्शल, होल्डिंग समोर जलद शतक काढणं म्हणजे खायचं काम नाही. गावसकरला इझीली मिळालं नाही म्हणून तो महान आणि ते इझीली मिळू दिलं नाही म्हणून तेच मार्शललाही लागू.\\nत्या दौऱ्यात त्यानी ३३ विकेट्स घेतल्या. फक्तं बाउंसर टाकून विकेट नाही मिळत. तो दोन्ही स्विंग, इनस्विंगिंग यॉर्कर, लेगकटर पण टाकायचा. आधी तो तिरका रनप, मग वेग, मग स्विंग. आउट होणं किंवा धाव घेऊन समोर उभं रहाणं या दोन गोष्टीच सुखकारक होत्या. एकतर त्या टीममधे चार ते पाच आग्यावेताळ एकावेळी खेळायचे, त्यात दुस-याला पडायच्या आधी डल्ला मारल्यासारख्या विकेट पदरात पाडून घ्याव्या लागायच्या. न कुथता त्यानी ८१ टेस्ट मधे ३७६. १३६ वनडेमधे १५७ आणि फर्स्ट क्लास मधे २१७२ विकेटस काढल्यात. वाचून छाती दडपायला होते. त्याच्या डेब्यू म्याचला तो ब्याटिंग करत असताना वेंगसरकर स्लीप मधून काहीतरी लागेल असं त्याला बोलला, ती खुन्नस त्याने जाहीरपणे शेवटपर्यंत ठेवली. तो पळत यायचा तेंव्हाच जीव घेतो की काय फलंदाजाचा असं वाटायचं. माईक ग्याटिंगचं नाक मोडलं होतं त्यानी बाउंसरवर, मार्शलला त्याच्या नाकाच्या हाडाचा तुकडा चेंडूला चिकटलेला मिळाला असं वाचलंय.\\nपण माणूस चांगला होता. तेंव्हा बंदी असलेल्या दक्षिण आफ्रिकेला जाणा-या बंडखोर विंडीज टीममधे सहभागी होण्यासाठी दहा लाख युएस डॉलर्स नाकारणारा मार्शल. त्याला कर्करोग झाला. शेवटी चार नोव्हेंबर नव्याण्णवला वयाच्या अवघ्या एक्केचाळीसाव्या वर्षी तेंव्हा कसबसं पंचवीस किलो वजन भरेल असा नशिबापुढे हतबल झालेला बावीस यार्डातला टेरर माल्कम मार्शल शेवटचा आउट झाला.\\n--जयंत विद्वांस\\n\\n'"
      ]
     },
     "execution_count": 224,
     "metadata": {},
     "output_type": "execute_result"
    }
   ],
   "source": [
    "data.iloc[1]['text']"
   ]
  },
  {
   "cell_type": "code",
   "execution_count": 225,
   "id": "5c45cb58-5d10-48fb-8e4b-6a318d04f616",
   "metadata": {},
   "outputs": [],
   "source": [
    "def extract_marathi_text(text):\n",
    "    # Regular expression pattern to match Marathi characters and newline\n",
    "    marathi_pattern = re.compile(r'[\\u0900-\\u097F\\s\\n]+')\n",
    "    \n",
    "    # Find all matches of Marathi text in the input text\n",
    "    marathi_matches = marathi_pattern.findall(str(text))\n",
    "\n",
    "    # Filter out empty strings, whitespace characters, and newline characters\n",
    "    marathi_matches = [match.strip() for match in marathi_matches if match.strip() != '\\n']\n",
    "\n",
    "    # Join the matches to form the extracted Marathi text\n",
    "    marathi_text = ' '.join(marathi_matches)\n",
    "    \n",
    "    # Remove extra spaces\n",
    "    marathi_text = ' '.join(marathi_text.split())\n",
    "\n",
    "    return marathi_text"
   ]
  },
  {
   "cell_type": "code",
   "execution_count": 228,
   "id": "4f490855-9e44-40ed-bcee-a5955f0c442b",
   "metadata": {},
   "outputs": [],
   "source": [
    "data['cleaned'] = data['text'].apply(extract_marathi_text)"
   ]
  },
  {
   "cell_type": "code",
   "execution_count": 229,
   "id": "220442de-c8b4-4249-a745-b1e05542201b",
   "metadata": {},
   "outputs": [
    {
     "data": {
      "text/html": [
       "<div>\n",
       "<style scoped>\n",
       "    .dataframe tbody tr th:only-of-type {\n",
       "        vertical-align: middle;\n",
       "    }\n",
       "\n",
       "    .dataframe tbody tr th {\n",
       "        vertical-align: top;\n",
       "    }\n",
       "\n",
       "    .dataframe thead th {\n",
       "        text-align: right;\n",
       "    }\n",
       "</style>\n",
       "<table border=\"1\" class=\"dataframe\">\n",
       "  <thead>\n",
       "    <tr style=\"text-align: right;\">\n",
       "      <th></th>\n",
       "      <th>text</th>\n",
       "      <th>cleaned</th>\n",
       "    </tr>\n",
       "  </thead>\n",
       "  <tbody>\n",
       "    <tr>\n",
       "      <th>0</th>\n",
       "      <td>साप्ताहिक विवेक मराठी भाषेत प्रसिद्ध होणारे एक...</td>\n",
       "      <td>साप्ताहिक विवेक मराठी भाषेत प्रसिद्ध होणारे एक...</td>\n",
       "    </tr>\n",
       "    <tr>\n",
       "      <th>1</th>\n",
       "      <td>१० ऑगस्ट, इ.स. २००५दुवा: \\n\\nनवीन सदस्यांना मा...</td>\n",
       "      <td>१० ऑगस्ट इ स २००५दुवा नवीन सदस्यांना मार्गदर्श...</td>\n",
       "    </tr>\n",
       "    <tr>\n",
       "      <th>2</th>\n",
       "      <td>हनुमंत मोरेश्वर मराठे  हे साधारणपणे ’हमो’ या न...</td>\n",
       "      <td>हनुमंत मोरेश्वर मराठे हे साधारणपणे हमो या नावा...</td>\n",
       "    </tr>\n",
       "    <tr>\n",
       "      <th>3</th>\n",
       "      <td>\\nगुलाम गौस सादिक शाह बाबा हे पाषाणगावचे सूफी ...</td>\n",
       "      <td>गुलाम गौस सादिक शाह बाबा हे पाषाणगावचे सूफी सं...</td>\n",
       "    </tr>\n",
       "    <tr>\n",
       "      <th>4</th>\n",
       "      <td>\\n\\n</td>\n",
       "      <td></td>\n",
       "    </tr>\n",
       "  </tbody>\n",
       "</table>\n",
       "</div>"
      ],
      "text/plain": [
       "                                                text  \\\n",
       "0  साप्ताहिक विवेक मराठी भाषेत प्रसिद्ध होणारे एक...   \n",
       "1  १० ऑगस्ट, इ.स. २००५दुवा: \\n\\nनवीन सदस्यांना मा...   \n",
       "2  हनुमंत मोरेश्वर मराठे  हे साधारणपणे ’हमो’ या न...   \n",
       "3  \\nगुलाम गौस सादिक शाह बाबा हे पाषाणगावचे सूफी ...   \n",
       "4                                               \\n\\n   \n",
       "\n",
       "                                             cleaned  \n",
       "0  साप्ताहिक विवेक मराठी भाषेत प्रसिद्ध होणारे एक...  \n",
       "1  १० ऑगस्ट इ स २००५दुवा नवीन सदस्यांना मार्गदर्श...  \n",
       "2  हनुमंत मोरेश्वर मराठे हे साधारणपणे हमो या नावा...  \n",
       "3  गुलाम गौस सादिक शाह बाबा हे पाषाणगावचे सूफी सं...  \n",
       "4                                                     "
      ]
     },
     "execution_count": 229,
     "metadata": {},
     "output_type": "execute_result"
    }
   ],
   "source": [
    "data.head()"
   ]
  },
  {
   "cell_type": "code",
   "execution_count": 230,
   "id": "d689e0a8-1a1f-421e-8d8c-3e63a1e0041c",
   "metadata": {},
   "outputs": [],
   "source": [
    "data = data[['cleaned']]"
   ]
  },
  {
   "cell_type": "code",
   "execution_count": 231,
   "id": "4922b01d-d08f-4685-b1b7-515eca782f2d",
   "metadata": {},
   "outputs": [
    {
     "data": {
      "text/html": [
       "<div>\n",
       "<style scoped>\n",
       "    .dataframe tbody tr th:only-of-type {\n",
       "        vertical-align: middle;\n",
       "    }\n",
       "\n",
       "    .dataframe tbody tr th {\n",
       "        vertical-align: top;\n",
       "    }\n",
       "\n",
       "    .dataframe thead th {\n",
       "        text-align: right;\n",
       "    }\n",
       "</style>\n",
       "<table border=\"1\" class=\"dataframe\">\n",
       "  <thead>\n",
       "    <tr style=\"text-align: right;\">\n",
       "      <th></th>\n",
       "      <th>cleaned</th>\n",
       "    </tr>\n",
       "  </thead>\n",
       "  <tbody>\n",
       "    <tr>\n",
       "      <th>0</th>\n",
       "      <td>साप्ताहिक विवेक मराठी भाषेत प्रसिद्ध होणारे एक...</td>\n",
       "    </tr>\n",
       "    <tr>\n",
       "      <th>1</th>\n",
       "      <td>१० ऑगस्ट इ स २००५दुवा नवीन सदस्यांना मार्गदर्श...</td>\n",
       "    </tr>\n",
       "    <tr>\n",
       "      <th>2</th>\n",
       "      <td>हनुमंत मोरेश्वर मराठे हे साधारणपणे हमो या नावा...</td>\n",
       "    </tr>\n",
       "    <tr>\n",
       "      <th>3</th>\n",
       "      <td>गुलाम गौस सादिक शाह बाबा हे पाषाणगावचे सूफी सं...</td>\n",
       "    </tr>\n",
       "    <tr>\n",
       "      <th>4</th>\n",
       "      <td></td>\n",
       "    </tr>\n",
       "  </tbody>\n",
       "</table>\n",
       "</div>"
      ],
      "text/plain": [
       "                                             cleaned\n",
       "0  साप्ताहिक विवेक मराठी भाषेत प्रसिद्ध होणारे एक...\n",
       "1  १० ऑगस्ट इ स २००५दुवा नवीन सदस्यांना मार्गदर्श...\n",
       "2  हनुमंत मोरेश्वर मराठे हे साधारणपणे हमो या नावा...\n",
       "3  गुलाम गौस सादिक शाह बाबा हे पाषाणगावचे सूफी सं...\n",
       "4                                                   "
      ]
     },
     "execution_count": 231,
     "metadata": {},
     "output_type": "execute_result"
    }
   ],
   "source": [
    "data.head()"
   ]
  },
  {
   "cell_type": "code",
   "execution_count": 232,
   "id": "60014772-df02-4c69-bee9-c655425c5e71",
   "metadata": {},
   "outputs": [
    {
     "data": {
      "text/plain": [
       "cleaned    0\n",
       "dtype: int64"
      ]
     },
     "execution_count": 232,
     "metadata": {},
     "output_type": "execute_result"
    }
   ],
   "source": [
    "data.isna().sum()"
   ]
  },
  {
   "cell_type": "code",
   "execution_count": 235,
   "id": "ff6367b7-b463-4a8b-a150-84996a42681c",
   "metadata": {},
   "outputs": [
    {
     "data": {
      "text/plain": [
       "26715"
      ]
     },
     "execution_count": 235,
     "metadata": {},
     "output_type": "execute_result"
    }
   ],
   "source": [
    "data.duplicated().sum()"
   ]
  },
  {
   "cell_type": "code",
   "execution_count": 237,
   "id": "b4e29555-b387-4484-a015-2eee4157b06b",
   "metadata": {},
   "outputs": [
    {
     "name": "stderr",
     "output_type": "stream",
     "text": [
      "/tmp/ipykernel_32540/2282015914.py:1: SettingWithCopyWarning: \n",
      "A value is trying to be set on a copy of a slice from a DataFrame\n",
      "\n",
      "See the caveats in the documentation: https://pandas.pydata.org/pandas-docs/stable/user_guide/indexing.html#returning-a-view-versus-a-copy\n",
      "  data.drop_duplicates(inplace=True)\n"
     ]
    }
   ],
   "source": [
    "data.drop_duplicates(inplace=True)"
   ]
  },
  {
   "cell_type": "code",
   "execution_count": 238,
   "id": "025afab0-c7aa-4d92-b902-65bebd84f521",
   "metadata": {},
   "outputs": [
    {
     "data": {
      "text/plain": [
       "(33160, 1)"
      ]
     },
     "execution_count": 238,
     "metadata": {},
     "output_type": "execute_result"
    }
   ],
   "source": [
    "data.shape"
   ]
  },
  {
   "cell_type": "code",
   "execution_count": 239,
   "id": "7b754202-c39c-4cf1-b34b-40847c94ede7",
   "metadata": {},
   "outputs": [
    {
     "data": {
      "text/html": [
       "<div>\n",
       "<style scoped>\n",
       "    .dataframe tbody tr th:only-of-type {\n",
       "        vertical-align: middle;\n",
       "    }\n",
       "\n",
       "    .dataframe tbody tr th {\n",
       "        vertical-align: top;\n",
       "    }\n",
       "\n",
       "    .dataframe thead th {\n",
       "        text-align: right;\n",
       "    }\n",
       "</style>\n",
       "<table border=\"1\" class=\"dataframe\">\n",
       "  <thead>\n",
       "    <tr style=\"text-align: right;\">\n",
       "      <th></th>\n",
       "      <th>cleaned</th>\n",
       "    </tr>\n",
       "  </thead>\n",
       "  <tbody>\n",
       "    <tr>\n",
       "      <th>0</th>\n",
       "      <td>साप्ताहिक विवेक मराठी भाषेत प्रसिद्ध होणारे एक...</td>\n",
       "    </tr>\n",
       "    <tr>\n",
       "      <th>1</th>\n",
       "      <td>१० ऑगस्ट इ स २००५दुवा नवीन सदस्यांना मार्गदर्श...</td>\n",
       "    </tr>\n",
       "    <tr>\n",
       "      <th>2</th>\n",
       "      <td>हनुमंत मोरेश्वर मराठे हे साधारणपणे हमो या नावा...</td>\n",
       "    </tr>\n",
       "    <tr>\n",
       "      <th>3</th>\n",
       "      <td>गुलाम गौस सादिक शाह बाबा हे पाषाणगावचे सूफी सं...</td>\n",
       "    </tr>\n",
       "    <tr>\n",
       "      <th>4</th>\n",
       "      <td></td>\n",
       "    </tr>\n",
       "  </tbody>\n",
       "</table>\n",
       "</div>"
      ],
      "text/plain": [
       "                                             cleaned\n",
       "0  साप्ताहिक विवेक मराठी भाषेत प्रसिद्ध होणारे एक...\n",
       "1  १० ऑगस्ट इ स २००५दुवा नवीन सदस्यांना मार्गदर्श...\n",
       "2  हनुमंत मोरेश्वर मराठे हे साधारणपणे हमो या नावा...\n",
       "3  गुलाम गौस सादिक शाह बाबा हे पाषाणगावचे सूफी सं...\n",
       "4                                                   "
      ]
     },
     "execution_count": 239,
     "metadata": {},
     "output_type": "execute_result"
    }
   ],
   "source": [
    "data.head()"
   ]
  },
  {
   "cell_type": "code",
   "execution_count": 242,
   "id": "abf50830-ffd0-4d7e-8f7c-35898eaacdf3",
   "metadata": {},
   "outputs": [],
   "source": [
    "data = data[data['cleaned'] != '']"
   ]
  },
  {
   "cell_type": "code",
   "execution_count": 243,
   "id": "15ac22c0-2f8f-4740-8322-1ed050be3136",
   "metadata": {},
   "outputs": [
    {
     "data": {
      "text/html": [
       "<div>\n",
       "<style scoped>\n",
       "    .dataframe tbody tr th:only-of-type {\n",
       "        vertical-align: middle;\n",
       "    }\n",
       "\n",
       "    .dataframe tbody tr th {\n",
       "        vertical-align: top;\n",
       "    }\n",
       "\n",
       "    .dataframe thead th {\n",
       "        text-align: right;\n",
       "    }\n",
       "</style>\n",
       "<table border=\"1\" class=\"dataframe\">\n",
       "  <thead>\n",
       "    <tr style=\"text-align: right;\">\n",
       "      <th></th>\n",
       "      <th>cleaned</th>\n",
       "    </tr>\n",
       "  </thead>\n",
       "  <tbody>\n",
       "    <tr>\n",
       "      <th>0</th>\n",
       "      <td>साप्ताहिक विवेक मराठी भाषेत प्रसिद्ध होणारे एक...</td>\n",
       "    </tr>\n",
       "    <tr>\n",
       "      <th>1</th>\n",
       "      <td>१० ऑगस्ट इ स २००५दुवा नवीन सदस्यांना मार्गदर्श...</td>\n",
       "    </tr>\n",
       "    <tr>\n",
       "      <th>2</th>\n",
       "      <td>हनुमंत मोरेश्वर मराठे हे साधारणपणे हमो या नावा...</td>\n",
       "    </tr>\n",
       "    <tr>\n",
       "      <th>3</th>\n",
       "      <td>गुलाम गौस सादिक शाह बाबा हे पाषाणगावचे सूफी सं...</td>\n",
       "    </tr>\n",
       "    <tr>\n",
       "      <th>5</th>\n",
       "      <td>मध्यमवर्गीय कुटुंबात जन्मलेले वामनराव पै मुंबई...</td>\n",
       "    </tr>\n",
       "  </tbody>\n",
       "</table>\n",
       "</div>"
      ],
      "text/plain": [
       "                                             cleaned\n",
       "0  साप्ताहिक विवेक मराठी भाषेत प्रसिद्ध होणारे एक...\n",
       "1  १० ऑगस्ट इ स २००५दुवा नवीन सदस्यांना मार्गदर्श...\n",
       "2  हनुमंत मोरेश्वर मराठे हे साधारणपणे हमो या नावा...\n",
       "3  गुलाम गौस सादिक शाह बाबा हे पाषाणगावचे सूफी सं...\n",
       "5  मध्यमवर्गीय कुटुंबात जन्मलेले वामनराव पै मुंबई..."
      ]
     },
     "execution_count": 243,
     "metadata": {},
     "output_type": "execute_result"
    }
   ],
   "source": [
    "data.head()"
   ]
  },
  {
   "cell_type": "code",
   "execution_count": 244,
   "id": "c676fbe3-f721-4c65-ad53-d80f057d2f88",
   "metadata": {},
   "outputs": [],
   "source": [
    "data.to_csv('final/Marathi.csv')"
   ]
  },
  {
   "cell_type": "markdown",
   "id": "492a1dc8-6bb0-4955-96a1-2973d72dc122",
   "metadata": {},
   "source": [
    "## Nepali"
   ]
  },
  {
   "cell_type": "code",
   "execution_count": 24,
   "id": "c3488821-1ed2-40fb-ab19-0d28f4e1e17f",
   "metadata": {},
   "outputs": [],
   "source": [
    "import pandas as pd\n",
    "import os\n",
    "import re"
   ]
  },
  {
   "cell_type": "code",
   "execution_count": 25,
   "id": "78c98859-4963-46ff-b41f-a6fea81f80f3",
   "metadata": {},
   "outputs": [],
   "source": [
    "data = pd.DataFrame(columns=['text'])"
   ]
  },
  {
   "cell_type": "code",
   "execution_count": 26,
   "id": "4fbe2f21-be13-405b-9840-de67e2573a59",
   "metadata": {
    "scrolled": true
   },
   "outputs": [],
   "source": [
    "for i in os.listdir('datasets/Nepali'):\n",
    "    for folder in os.listdir(f'datasets/Nepali/{i}'):\n",
    "        for file in os.listdir(f'datasets/Nepali/{i}/{folder}'):\n",
    "            with open(f'datasets/Nepali/{i}/{folder}/{file}') as f:                    \n",
    "                data.loc[len(data.index)] = [f.read()]"
   ]
  },
  {
   "cell_type": "code",
   "execution_count": 27,
   "id": "d01a3d3a-ec4b-4c83-9ace-4dc4c6d4e984",
   "metadata": {},
   "outputs": [
    {
     "data": {
      "text/html": [
       "<div>\n",
       "<style scoped>\n",
       "    .dataframe tbody tr th:only-of-type {\n",
       "        vertical-align: middle;\n",
       "    }\n",
       "\n",
       "    .dataframe tbody tr th {\n",
       "        vertical-align: top;\n",
       "    }\n",
       "\n",
       "    .dataframe thead th {\n",
       "        text-align: right;\n",
       "    }\n",
       "</style>\n",
       "<table border=\"1\" class=\"dataframe\">\n",
       "  <thead>\n",
       "    <tr style=\"text-align: right;\">\n",
       "      <th></th>\n",
       "      <th>text</th>\n",
       "    </tr>\n",
       "  </thead>\n",
       "  <tbody>\n",
       "    <tr>\n",
       "      <th>0</th>\n",
       "      <td>\"\"\"बीपीले नारीभाव सजिलै बुझ्नुभयो\"\"\"झन्डै  चार...</td>\n",
       "    </tr>\n",
       "    <tr>\n",
       "      <th>1</th>\n",
       "      <td>पन्थीलाई भिक्षु साहित्यकार देवी पन्थीलाई भवानी...</td>\n",
       "    </tr>\n",
       "    <tr>\n",
       "      <th>2</th>\n",
       "      <td>शिरीषको फूल अब हलमासाहित्यकार पारिजातको चर्चित...</td>\n",
       "    </tr>\n",
       "    <tr>\n",
       "      <th>3</th>\n",
       "      <td>पत्रकार पारसले थपे परिचयपत्रकारितासँगै पुस्तक ...</td>\n",
       "    </tr>\n",
       "    <tr>\n",
       "      <th>4</th>\n",
       "      <td>गीतकार खरेल र भुमरी पुरस्कृतगीतकार संघ नेपालले...</td>\n",
       "    </tr>\n",
       "  </tbody>\n",
       "</table>\n",
       "</div>"
      ],
      "text/plain": [
       "                                                text\n",
       "0  \"\"\"बीपीले नारीभाव सजिलै बुझ्नुभयो\"\"\"झन्डै  चार...\n",
       "1  पन्थीलाई भिक्षु साहित्यकार देवी पन्थीलाई भवानी...\n",
       "2  शिरीषको फूल अब हलमासाहित्यकार पारिजातको चर्चित...\n",
       "3  पत्रकार पारसले थपे परिचयपत्रकारितासँगै पुस्तक ...\n",
       "4  गीतकार खरेल र भुमरी पुरस्कृतगीतकार संघ नेपालले..."
      ]
     },
     "execution_count": 27,
     "metadata": {},
     "output_type": "execute_result"
    }
   ],
   "source": [
    "data.head()"
   ]
  },
  {
   "cell_type": "code",
   "execution_count": 28,
   "id": "8f1e6eef-864a-46da-b729-651032c12e8f",
   "metadata": {},
   "outputs": [
    {
     "data": {
      "text/plain": [
       "(10000, 1)"
      ]
     },
     "execution_count": 28,
     "metadata": {},
     "output_type": "execute_result"
    }
   ],
   "source": [
    "data.shape"
   ]
  },
  {
   "cell_type": "code",
   "execution_count": 29,
   "id": "43e7a6b4-c50a-49f9-a5e5-eb859b03ee30",
   "metadata": {},
   "outputs": [],
   "source": [
    "def extract_nepali_text(text):\n",
    "    # Regular expression pattern to match Nepali characters and newline\n",
    "    nepali_pattern = re.compile(r'[\\u0900-\\u097F\\s\\n]+')\n",
    "    \n",
    "    # Find all matches of Nepali text in the input text\n",
    "    nepali_matches = nepali_pattern.findall(str(text))\n",
    "\n",
    "    # Filter out empty strings, whitespace characters, and newline characters\n",
    "    nepali_matches = [match.strip() for match in nepali_matches if match.strip() != '\\n']\n",
    "\n",
    "    # Join the matches to form the extracted Nepali text\n",
    "    nepali_text = ' '.join(nepali_matches)\n",
    "    \n",
    "    # Remove extra spaces\n",
    "    nepali_text = ' '.join(nepali_text.split())\n",
    "\n",
    "    return nepali_text"
   ]
  },
  {
   "cell_type": "code",
   "execution_count": 30,
   "id": "09d4ad3e-6e4c-4fda-8923-cec08726160c",
   "metadata": {},
   "outputs": [],
   "source": [
    "data['cleaned'] = data['text'].apply(extract_nepali_text)"
   ]
  },
  {
   "cell_type": "code",
   "execution_count": 31,
   "id": "343b906b-9edb-4e05-999e-997bae33f19f",
   "metadata": {},
   "outputs": [
    {
     "data": {
      "text/html": [
       "<div>\n",
       "<style scoped>\n",
       "    .dataframe tbody tr th:only-of-type {\n",
       "        vertical-align: middle;\n",
       "    }\n",
       "\n",
       "    .dataframe tbody tr th {\n",
       "        vertical-align: top;\n",
       "    }\n",
       "\n",
       "    .dataframe thead th {\n",
       "        text-align: right;\n",
       "    }\n",
       "</style>\n",
       "<table border=\"1\" class=\"dataframe\">\n",
       "  <thead>\n",
       "    <tr style=\"text-align: right;\">\n",
       "      <th></th>\n",
       "      <th>text</th>\n",
       "      <th>cleaned</th>\n",
       "    </tr>\n",
       "  </thead>\n",
       "  <tbody>\n",
       "    <tr>\n",
       "      <th>0</th>\n",
       "      <td>\"\"\"बीपीले नारीभाव सजिलै बुझ्नुभयो\"\"\"झन्डै  चार...</td>\n",
       "      <td>बीपीले नारीभाव सजिलै बुझ्नुभयो झन्डै चार दशक ल...</td>\n",
       "    </tr>\n",
       "    <tr>\n",
       "      <th>1</th>\n",
       "      <td>पन्थीलाई भिक्षु साहित्यकार देवी पन्थीलाई भवानी...</td>\n",
       "      <td>पन्थीलाई भिक्षु साहित्यकार देवी पन्थीलाई भवानी...</td>\n",
       "    </tr>\n",
       "    <tr>\n",
       "      <th>2</th>\n",
       "      <td>शिरीषको फूल अब हलमासाहित्यकार पारिजातको चर्चित...</td>\n",
       "      <td>शिरीषको फूल अब हलमासाहित्यकार पारिजातको चर्चित...</td>\n",
       "    </tr>\n",
       "    <tr>\n",
       "      <th>3</th>\n",
       "      <td>पत्रकार पारसले थपे परिचयपत्रकारितासँगै पुस्तक ...</td>\n",
       "      <td>पत्रकार पारसले थपे परिचयपत्रकारितासँगै पुस्तक ...</td>\n",
       "    </tr>\n",
       "    <tr>\n",
       "      <th>4</th>\n",
       "      <td>गीतकार खरेल र भुमरी पुरस्कृतगीतकार संघ नेपालले...</td>\n",
       "      <td>गीतकार खरेल र भुमरी पुरस्कृतगीतकार संघ नेपालले...</td>\n",
       "    </tr>\n",
       "  </tbody>\n",
       "</table>\n",
       "</div>"
      ],
      "text/plain": [
       "                                                text  \\\n",
       "0  \"\"\"बीपीले नारीभाव सजिलै बुझ्नुभयो\"\"\"झन्डै  चार...   \n",
       "1  पन्थीलाई भिक्षु साहित्यकार देवी पन्थीलाई भवानी...   \n",
       "2  शिरीषको फूल अब हलमासाहित्यकार पारिजातको चर्चित...   \n",
       "3  पत्रकार पारसले थपे परिचयपत्रकारितासँगै पुस्तक ...   \n",
       "4  गीतकार खरेल र भुमरी पुरस्कृतगीतकार संघ नेपालले...   \n",
       "\n",
       "                                             cleaned  \n",
       "0  बीपीले नारीभाव सजिलै बुझ्नुभयो झन्डै चार दशक ल...  \n",
       "1  पन्थीलाई भिक्षु साहित्यकार देवी पन्थीलाई भवानी...  \n",
       "2  शिरीषको फूल अब हलमासाहित्यकार पारिजातको चर्चित...  \n",
       "3  पत्रकार पारसले थपे परिचयपत्रकारितासँगै पुस्तक ...  \n",
       "4  गीतकार खरेल र भुमरी पुरस्कृतगीतकार संघ नेपालले...  "
      ]
     },
     "execution_count": 31,
     "metadata": {},
     "output_type": "execute_result"
    }
   ],
   "source": [
    "data.head()"
   ]
  },
  {
   "cell_type": "code",
   "execution_count": 33,
   "id": "e9606c99-1436-47db-a230-8e209268fc23",
   "metadata": {},
   "outputs": [],
   "source": [
    "data = data[['cleaned']]"
   ]
  },
  {
   "cell_type": "code",
   "execution_count": 34,
   "id": "a531a1b7-bd98-4eee-8c20-ffbc6cb89654",
   "metadata": {},
   "outputs": [
    {
     "data": {
      "text/html": [
       "<div>\n",
       "<style scoped>\n",
       "    .dataframe tbody tr th:only-of-type {\n",
       "        vertical-align: middle;\n",
       "    }\n",
       "\n",
       "    .dataframe tbody tr th {\n",
       "        vertical-align: top;\n",
       "    }\n",
       "\n",
       "    .dataframe thead th {\n",
       "        text-align: right;\n",
       "    }\n",
       "</style>\n",
       "<table border=\"1\" class=\"dataframe\">\n",
       "  <thead>\n",
       "    <tr style=\"text-align: right;\">\n",
       "      <th></th>\n",
       "      <th>cleaned</th>\n",
       "    </tr>\n",
       "  </thead>\n",
       "  <tbody>\n",
       "    <tr>\n",
       "      <th>0</th>\n",
       "      <td>बीपीले नारीभाव सजिलै बुझ्नुभयो झन्डै चार दशक ल...</td>\n",
       "    </tr>\n",
       "    <tr>\n",
       "      <th>1</th>\n",
       "      <td>पन्थीलाई भिक्षु साहित्यकार देवी पन्थीलाई भवानी...</td>\n",
       "    </tr>\n",
       "    <tr>\n",
       "      <th>2</th>\n",
       "      <td>शिरीषको फूल अब हलमासाहित्यकार पारिजातको चर्चित...</td>\n",
       "    </tr>\n",
       "    <tr>\n",
       "      <th>3</th>\n",
       "      <td>पत्रकार पारसले थपे परिचयपत्रकारितासँगै पुस्तक ...</td>\n",
       "    </tr>\n",
       "    <tr>\n",
       "      <th>4</th>\n",
       "      <td>गीतकार खरेल र भुमरी पुरस्कृतगीतकार संघ नेपालले...</td>\n",
       "    </tr>\n",
       "  </tbody>\n",
       "</table>\n",
       "</div>"
      ],
      "text/plain": [
       "                                             cleaned\n",
       "0  बीपीले नारीभाव सजिलै बुझ्नुभयो झन्डै चार दशक ल...\n",
       "1  पन्थीलाई भिक्षु साहित्यकार देवी पन्थीलाई भवानी...\n",
       "2  शिरीषको फूल अब हलमासाहित्यकार पारिजातको चर्चित...\n",
       "3  पत्रकार पारसले थपे परिचयपत्रकारितासँगै पुस्तक ...\n",
       "4  गीतकार खरेल र भुमरी पुरस्कृतगीतकार संघ नेपालले..."
      ]
     },
     "execution_count": 34,
     "metadata": {},
     "output_type": "execute_result"
    }
   ],
   "source": [
    "data.head()"
   ]
  },
  {
   "cell_type": "code",
   "execution_count": 35,
   "id": "6711b66f-a0b6-4b88-986a-1b1382021ac9",
   "metadata": {},
   "outputs": [],
   "source": [
    "data.rename(columns={\n",
    "    'cleaned': 'text'\n",
    "}, inplace=True)"
   ]
  },
  {
   "cell_type": "code",
   "execution_count": 38,
   "id": "507bc06c-cead-4fbb-a072-4177d8e69dbd",
   "metadata": {},
   "outputs": [
    {
     "data": {
      "text/html": [
       "<div>\n",
       "<style scoped>\n",
       "    .dataframe tbody tr th:only-of-type {\n",
       "        vertical-align: middle;\n",
       "    }\n",
       "\n",
       "    .dataframe tbody tr th {\n",
       "        vertical-align: top;\n",
       "    }\n",
       "\n",
       "    .dataframe thead th {\n",
       "        text-align: right;\n",
       "    }\n",
       "</style>\n",
       "<table border=\"1\" class=\"dataframe\">\n",
       "  <thead>\n",
       "    <tr style=\"text-align: right;\">\n",
       "      <th></th>\n",
       "      <th>text</th>\n",
       "    </tr>\n",
       "  </thead>\n",
       "  <tbody>\n",
       "    <tr>\n",
       "      <th>0</th>\n",
       "      <td>बीपीले नारीभाव सजिलै बुझ्नुभयो झन्डै चार दशक ल...</td>\n",
       "    </tr>\n",
       "    <tr>\n",
       "      <th>1</th>\n",
       "      <td>पन्थीलाई भिक्षु साहित्यकार देवी पन्थीलाई भवानी...</td>\n",
       "    </tr>\n",
       "    <tr>\n",
       "      <th>2</th>\n",
       "      <td>शिरीषको फूल अब हलमासाहित्यकार पारिजातको चर्चित...</td>\n",
       "    </tr>\n",
       "    <tr>\n",
       "      <th>3</th>\n",
       "      <td>पत्रकार पारसले थपे परिचयपत्रकारितासँगै पुस्तक ...</td>\n",
       "    </tr>\n",
       "    <tr>\n",
       "      <th>4</th>\n",
       "      <td>गीतकार खरेल र भुमरी पुरस्कृतगीतकार संघ नेपालले...</td>\n",
       "    </tr>\n",
       "  </tbody>\n",
       "</table>\n",
       "</div>"
      ],
      "text/plain": [
       "                                                text\n",
       "0  बीपीले नारीभाव सजिलै बुझ्नुभयो झन्डै चार दशक ल...\n",
       "1  पन्थीलाई भिक्षु साहित्यकार देवी पन्थीलाई भवानी...\n",
       "2  शिरीषको फूल अब हलमासाहित्यकार पारिजातको चर्चित...\n",
       "3  पत्रकार पारसले थपे परिचयपत्रकारितासँगै पुस्तक ...\n",
       "4  गीतकार खरेल र भुमरी पुरस्कृतगीतकार संघ नेपालले..."
      ]
     },
     "execution_count": 38,
     "metadata": {},
     "output_type": "execute_result"
    }
   ],
   "source": [
    "data.head()"
   ]
  },
  {
   "cell_type": "code",
   "execution_count": 39,
   "id": "93de6855-3e0b-4c4e-a3fb-b624e51160dd",
   "metadata": {},
   "outputs": [
    {
     "data": {
      "text/plain": [
       "text    0\n",
       "dtype: int64"
      ]
     },
     "execution_count": 39,
     "metadata": {},
     "output_type": "execute_result"
    }
   ],
   "source": [
    "data.isna().sum()"
   ]
  },
  {
   "cell_type": "code",
   "execution_count": 40,
   "id": "8864bc91-843b-4f9b-8d17-b5528013d6a9",
   "metadata": {},
   "outputs": [
    {
     "data": {
      "text/plain": [
       "4"
      ]
     },
     "execution_count": 40,
     "metadata": {},
     "output_type": "execute_result"
    }
   ],
   "source": [
    "data.duplicated().sum()"
   ]
  },
  {
   "cell_type": "code",
   "execution_count": 41,
   "id": "9cf8ddc4-e26f-442a-a1d6-aecd619976f1",
   "metadata": {},
   "outputs": [],
   "source": [
    "data.drop_duplicates(inplace=True)"
   ]
  },
  {
   "cell_type": "code",
   "execution_count": 42,
   "id": "c69ee4fa-75ee-44bb-b2c5-d8818a06a4f5",
   "metadata": {},
   "outputs": [],
   "source": [
    "data.to_csv('final/Nepali.csv')"
   ]
  },
  {
   "cell_type": "markdown",
   "id": "ef206620-dcdc-437c-ace3-d9136f0459fa",
   "metadata": {},
   "source": [
    "## Odia"
   ]
  },
  {
   "cell_type": "code",
   "execution_count": null,
   "id": "762f3e22-c565-4c20-a01d-45d63ef9423c",
   "metadata": {},
   "outputs": [],
   "source": []
  }
 ],
 "metadata": {
  "kernelspec": {
   "display_name": "language_detection",
   "language": "python",
   "name": "language_detection"
  },
  "language_info": {
   "codemirror_mode": {
    "name": "ipython",
    "version": 3
   },
   "file_extension": ".py",
   "mimetype": "text/x-python",
   "name": "python",
   "nbconvert_exporter": "python",
   "pygments_lexer": "ipython3",
   "version": "3.11.8"
  }
 },
 "nbformat": 4,
 "nbformat_minor": 5
}
