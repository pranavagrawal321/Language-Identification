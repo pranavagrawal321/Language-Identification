{
 "cells": [
  {
   "cell_type": "code",
   "execution_count": 1,
   "id": "4d7ae5d8-3225-476a-8c0d-08853d3a121e",
   "metadata": {},
   "outputs": [
    {
     "name": "stdout",
     "output_type": "stream",
     "text": [
      "\u001b[0m\u001b[01;34mAssamese\u001b[0m/  \u001b[01;34mEnglish\u001b[0m/   \u001b[01;34mHindi\u001b[0m/    Kashmiri.csv  \u001b[01;34mOdia\u001b[0m/     \u001b[01;34mTamil\u001b[0m/\n",
      "\u001b[01;34mBengali\u001b[0m/   \u001b[01;34mGujarati\u001b[0m/  \u001b[01;34mKannada\u001b[0m/  \u001b[01;34mMalayalam\u001b[0m/    \u001b[01;34mPunjabi\u001b[0m/  \u001b[01;34mTelugu\u001b[0m/\n"
     ]
    }
   ],
   "source": [
    "ls datasets"
   ]
  },
  {
   "cell_type": "code",
   "execution_count": 2,
   "id": "8a0bd50b-1872-45a3-8a52-5d4b78702099",
   "metadata": {},
   "outputs": [],
   "source": [
    "    import pandas as pd"
   ]
  },
  {
   "cell_type": "code",
   "execution_count": 3,
   "id": "7db73fa8-5aff-4d3f-8913-d0441b2090ac",
   "metadata": {},
   "outputs": [
    {
     "name": "stdout",
     "output_type": "stream",
     "text": [
      "mkdir: cannot create directory ‘final’: File exists\n"
     ]
    }
   ],
   "source": [
    "mkdir final"
   ]
  },
  {
   "cell_type": "markdown",
   "id": "1783d96c-0042-4b59-b8e6-95543b00a348",
   "metadata": {},
   "source": [
    "## Assamese"
   ]
  },
  {
   "cell_type": "code",
   "execution_count": 4,
   "id": "538e36ed-2286-412b-9ce6-be897e6f55df",
   "metadata": {},
   "outputs": [
    {
     "name": "stdout",
     "output_type": "stream",
     "text": [
      "nenow_dataset.txt       new18_dataset.txt\n",
      "nenow_preprocessed.csv  news18_preprocessed.csv\n"
     ]
    }
   ],
   "source": [
    "ls datasets/Assamese/"
   ]
  },
  {
   "cell_type": "code",
   "execution_count": 5,
   "id": "db53ad00-8c06-4e60-a1a7-b01e4034318b",
   "metadata": {},
   "outputs": [],
   "source": [
    "data = pd.read_csv(\"datasets/Assamese/nenow_preprocessed.csv\")"
   ]
  },
  {
   "cell_type": "code",
   "execution_count": 6,
   "id": "37f89e57-e009-41f8-bdfa-a19d60f79d9d",
   "metadata": {},
   "outputs": [
    {
     "data": {
      "text/html": [
       "<div>\n",
       "<style scoped>\n",
       "    .dataframe tbody tr th:only-of-type {\n",
       "        vertical-align: middle;\n",
       "    }\n",
       "\n",
       "    .dataframe tbody tr th {\n",
       "        vertical-align: top;\n",
       "    }\n",
       "\n",
       "    .dataframe thead th {\n",
       "        text-align: right;\n",
       "    }\n",
       "</style>\n",
       "<table border=\"1\" class=\"dataframe\">\n",
       "  <thead>\n",
       "    <tr style=\"text-align: right;\">\n",
       "      <th></th>\n",
       "      <th>S No.</th>\n",
       "      <th>summary</th>\n",
       "      <th>text</th>\n",
       "    </tr>\n",
       "  </thead>\n",
       "  <tbody>\n",
       "    <tr>\n",
       "      <th>0</th>\n",
       "      <td>1</td>\n",
       "      <td>কাৰাবন্দীৰ পৰা গৃহবন্দী হৈ উভতিল আং ছান ছু কী</td>\n",
       "      <td>আং ছান ছু কীফাইল ফটোসংগ্ৰহীতকাৰাগাৰৰ সূত্ৰই জন...</td>\n",
       "    </tr>\n",
       "    <tr>\n",
       "      <th>1</th>\n",
       "      <td>2</td>\n",
       "      <td>চীন কোৰিয়া ইণ্ডোনেছিয়াৰ পৰা আমদানি কৰা অপটিক...</td>\n",
       "      <td>ফটোসংগ্ৰহীতসস্তীয়া আমদানিৰ পৰা ঘৰুৱা উদ্যোগক ...</td>\n",
       "    </tr>\n",
       "    <tr>\n",
       "      <th>2</th>\n",
       "      <td>3</td>\n",
       "      <td>গ্ৰেপ্তাৰ হল ইমৰান খানদুৰ্নীতিৰ গোচৰত তিনিবছৰৰ...</td>\n",
       "      <td>বিপদে লগ নেৰা হৈছে পাকিস্তানৰ প্ৰাক্তন প্ৰধানম...</td>\n",
       "    </tr>\n",
       "    <tr>\n",
       "      <th>3</th>\n",
       "      <td>4</td>\n",
       "      <td>এইবাৰ পাকিস্তানৰ যুৱকৰ সৈতে বিয়াত বহিল দুই সন...</td>\n",
       "      <td>শচীনসীমা বিবাহ কাণ্ডই বিগত কিছুদিন ধৰি দুই চুব...</td>\n",
       "    </tr>\n",
       "    <tr>\n",
       "      <th>4</th>\n",
       "      <td>5</td>\n",
       "      <td>নিষেধাজ্ঞা নেওচি ভাৰতলৈ নেপালৰ বিলাহীঘোচ লৈ চা...</td>\n",
       "      <td>ভাৰতত আকাশলংঘী হৈছে বিলাহীৰ দামবিলাহীৰ এই অকল্...</td>\n",
       "    </tr>\n",
       "  </tbody>\n",
       "</table>\n",
       "</div>"
      ],
      "text/plain": [
       "   S No.                                            summary  \\\n",
       "0      1      কাৰাবন্দীৰ পৰা গৃহবন্দী হৈ উভতিল আং ছান ছু কী   \n",
       "1      2  চীন কোৰিয়া ইণ্ডোনেছিয়াৰ পৰা আমদানি কৰা অপটিক...   \n",
       "2      3  গ্ৰেপ্তাৰ হল ইমৰান খানদুৰ্নীতিৰ গোচৰত তিনিবছৰৰ...   \n",
       "3      4  এইবাৰ পাকিস্তানৰ যুৱকৰ সৈতে বিয়াত বহিল দুই সন...   \n",
       "4      5  নিষেধাজ্ঞা নেওচি ভাৰতলৈ নেপালৰ বিলাহীঘোচ লৈ চা...   \n",
       "\n",
       "                                                text  \n",
       "0  আং ছান ছু কীফাইল ফটোসংগ্ৰহীতকাৰাগাৰৰ সূত্ৰই জন...  \n",
       "1  ফটোসংগ্ৰহীতসস্তীয়া আমদানিৰ পৰা ঘৰুৱা উদ্যোগক ...  \n",
       "2  বিপদে লগ নেৰা হৈছে পাকিস্তানৰ প্ৰাক্তন প্ৰধানম...  \n",
       "3  শচীনসীমা বিবাহ কাণ্ডই বিগত কিছুদিন ধৰি দুই চুব...  \n",
       "4  ভাৰতত আকাশলংঘী হৈছে বিলাহীৰ দামবিলাহীৰ এই অকল্...  "
      ]
     },
     "execution_count": 6,
     "metadata": {},
     "output_type": "execute_result"
    }
   ],
   "source": [
    "data.head()"
   ]
  },
  {
   "cell_type": "code",
   "execution_count": 7,
   "id": "72ecf7b7-e8d8-4e50-bc24-a1e50528289b",
   "metadata": {},
   "outputs": [],
   "source": [
    "data = data[[\"summary\"]]"
   ]
  },
  {
   "cell_type": "code",
   "execution_count": 8,
   "id": "6c454e28-cf1f-4abe-965a-c3c8b282ebde",
   "metadata": {},
   "outputs": [
    {
     "data": {
      "text/html": [
       "<div>\n",
       "<style scoped>\n",
       "    .dataframe tbody tr th:only-of-type {\n",
       "        vertical-align: middle;\n",
       "    }\n",
       "\n",
       "    .dataframe tbody tr th {\n",
       "        vertical-align: top;\n",
       "    }\n",
       "\n",
       "    .dataframe thead th {\n",
       "        text-align: right;\n",
       "    }\n",
       "</style>\n",
       "<table border=\"1\" class=\"dataframe\">\n",
       "  <thead>\n",
       "    <tr style=\"text-align: right;\">\n",
       "      <th></th>\n",
       "      <th>summary</th>\n",
       "    </tr>\n",
       "  </thead>\n",
       "  <tbody>\n",
       "    <tr>\n",
       "      <th>0</th>\n",
       "      <td>কাৰাবন্দীৰ পৰা গৃহবন্দী হৈ উভতিল আং ছান ছু কী</td>\n",
       "    </tr>\n",
       "    <tr>\n",
       "      <th>1</th>\n",
       "      <td>চীন কোৰিয়া ইণ্ডোনেছিয়াৰ পৰা আমদানি কৰা অপটিক...</td>\n",
       "    </tr>\n",
       "    <tr>\n",
       "      <th>2</th>\n",
       "      <td>গ্ৰেপ্তাৰ হল ইমৰান খানদুৰ্নীতিৰ গোচৰত তিনিবছৰৰ...</td>\n",
       "    </tr>\n",
       "    <tr>\n",
       "      <th>3</th>\n",
       "      <td>এইবাৰ পাকিস্তানৰ যুৱকৰ সৈতে বিয়াত বহিল দুই সন...</td>\n",
       "    </tr>\n",
       "    <tr>\n",
       "      <th>4</th>\n",
       "      <td>নিষেধাজ্ঞা নেওচি ভাৰতলৈ নেপালৰ বিলাহীঘোচ লৈ চা...</td>\n",
       "    </tr>\n",
       "  </tbody>\n",
       "</table>\n",
       "</div>"
      ],
      "text/plain": [
       "                                             summary\n",
       "0      কাৰাবন্দীৰ পৰা গৃহবন্দী হৈ উভতিল আং ছান ছু কী\n",
       "1  চীন কোৰিয়া ইণ্ডোনেছিয়াৰ পৰা আমদানি কৰা অপটিক...\n",
       "2  গ্ৰেপ্তাৰ হল ইমৰান খানদুৰ্নীতিৰ গোচৰত তিনিবছৰৰ...\n",
       "3  এইবাৰ পাকিস্তানৰ যুৱকৰ সৈতে বিয়াত বহিল দুই সন...\n",
       "4  নিষেধাজ্ঞা নেওচি ভাৰতলৈ নেপালৰ বিলাহীঘোচ লৈ চা..."
      ]
     },
     "execution_count": 8,
     "metadata": {},
     "output_type": "execute_result"
    }
   ],
   "source": [
    "data.head()"
   ]
  },
  {
   "cell_type": "code",
   "execution_count": 9,
   "id": "000afa10-2a8d-41e2-8b96-ca944b1df436",
   "metadata": {},
   "outputs": [],
   "source": [
    "data['language'] = \"Assamese\""
   ]
  },
  {
   "cell_type": "code",
   "execution_count": 10,
   "id": "a923e5c9-daca-4e64-a677-1f7bb9dc2989",
   "metadata": {},
   "outputs": [
    {
     "data": {
      "text/html": [
       "<div>\n",
       "<style scoped>\n",
       "    .dataframe tbody tr th:only-of-type {\n",
       "        vertical-align: middle;\n",
       "    }\n",
       "\n",
       "    .dataframe tbody tr th {\n",
       "        vertical-align: top;\n",
       "    }\n",
       "\n",
       "    .dataframe thead th {\n",
       "        text-align: right;\n",
       "    }\n",
       "</style>\n",
       "<table border=\"1\" class=\"dataframe\">\n",
       "  <thead>\n",
       "    <tr style=\"text-align: right;\">\n",
       "      <th></th>\n",
       "      <th>summary</th>\n",
       "      <th>language</th>\n",
       "    </tr>\n",
       "  </thead>\n",
       "  <tbody>\n",
       "    <tr>\n",
       "      <th>0</th>\n",
       "      <td>কাৰাবন্দীৰ পৰা গৃহবন্দী হৈ উভতিল আং ছান ছু কী</td>\n",
       "      <td>Assamese</td>\n",
       "    </tr>\n",
       "    <tr>\n",
       "      <th>1</th>\n",
       "      <td>চীন কোৰিয়া ইণ্ডোনেছিয়াৰ পৰা আমদানি কৰা অপটিক...</td>\n",
       "      <td>Assamese</td>\n",
       "    </tr>\n",
       "    <tr>\n",
       "      <th>2</th>\n",
       "      <td>গ্ৰেপ্তাৰ হল ইমৰান খানদুৰ্নীতিৰ গোচৰত তিনিবছৰৰ...</td>\n",
       "      <td>Assamese</td>\n",
       "    </tr>\n",
       "    <tr>\n",
       "      <th>3</th>\n",
       "      <td>এইবাৰ পাকিস্তানৰ যুৱকৰ সৈতে বিয়াত বহিল দুই সন...</td>\n",
       "      <td>Assamese</td>\n",
       "    </tr>\n",
       "    <tr>\n",
       "      <th>4</th>\n",
       "      <td>নিষেধাজ্ঞা নেওচি ভাৰতলৈ নেপালৰ বিলাহীঘোচ লৈ চা...</td>\n",
       "      <td>Assamese</td>\n",
       "    </tr>\n",
       "  </tbody>\n",
       "</table>\n",
       "</div>"
      ],
      "text/plain": [
       "                                             summary  language\n",
       "0      কাৰাবন্দীৰ পৰা গৃহবন্দী হৈ উভতিল আং ছান ছু কী  Assamese\n",
       "1  চীন কোৰিয়া ইণ্ডোনেছিয়াৰ পৰা আমদানি কৰা অপটিক...  Assamese\n",
       "2  গ্ৰেপ্তাৰ হল ইমৰান খানদুৰ্নীতিৰ গোচৰত তিনিবছৰৰ...  Assamese\n",
       "3  এইবাৰ পাকিস্তানৰ যুৱকৰ সৈতে বিয়াত বহিল দুই সন...  Assamese\n",
       "4  নিষেধাজ্ঞা নেওচি ভাৰতলৈ নেপালৰ বিলাহীঘোচ লৈ চা...  Assamese"
      ]
     },
     "execution_count": 10,
     "metadata": {},
     "output_type": "execute_result"
    }
   ],
   "source": [
    "data.head()"
   ]
  },
  {
   "cell_type": "code",
   "execution_count": 11,
   "id": "ce9cab1c-3b74-406a-b81c-461cdd489fb3",
   "metadata": {},
   "outputs": [],
   "source": [
    "data.rename(columns={\n",
    "    'summary': 'text'\n",
    "}, inplace=True)"
   ]
  },
  {
   "cell_type": "code",
   "execution_count": 12,
   "id": "9ba6bdd2-736a-4e8e-a2f9-d79e4f8b19ac",
   "metadata": {},
   "outputs": [
    {
     "data": {
      "text/html": [
       "<div>\n",
       "<style scoped>\n",
       "    .dataframe tbody tr th:only-of-type {\n",
       "        vertical-align: middle;\n",
       "    }\n",
       "\n",
       "    .dataframe tbody tr th {\n",
       "        vertical-align: top;\n",
       "    }\n",
       "\n",
       "    .dataframe thead th {\n",
       "        text-align: right;\n",
       "    }\n",
       "</style>\n",
       "<table border=\"1\" class=\"dataframe\">\n",
       "  <thead>\n",
       "    <tr style=\"text-align: right;\">\n",
       "      <th></th>\n",
       "      <th>text</th>\n",
       "      <th>language</th>\n",
       "    </tr>\n",
       "  </thead>\n",
       "  <tbody>\n",
       "    <tr>\n",
       "      <th>0</th>\n",
       "      <td>কাৰাবন্দীৰ পৰা গৃহবন্দী হৈ উভতিল আং ছান ছু কী</td>\n",
       "      <td>Assamese</td>\n",
       "    </tr>\n",
       "    <tr>\n",
       "      <th>1</th>\n",
       "      <td>চীন কোৰিয়া ইণ্ডোনেছিয়াৰ পৰা আমদানি কৰা অপটিক...</td>\n",
       "      <td>Assamese</td>\n",
       "    </tr>\n",
       "    <tr>\n",
       "      <th>2</th>\n",
       "      <td>গ্ৰেপ্তাৰ হল ইমৰান খানদুৰ্নীতিৰ গোচৰত তিনিবছৰৰ...</td>\n",
       "      <td>Assamese</td>\n",
       "    </tr>\n",
       "    <tr>\n",
       "      <th>3</th>\n",
       "      <td>এইবাৰ পাকিস্তানৰ যুৱকৰ সৈতে বিয়াত বহিল দুই সন...</td>\n",
       "      <td>Assamese</td>\n",
       "    </tr>\n",
       "    <tr>\n",
       "      <th>4</th>\n",
       "      <td>নিষেধাজ্ঞা নেওচি ভাৰতলৈ নেপালৰ বিলাহীঘোচ লৈ চা...</td>\n",
       "      <td>Assamese</td>\n",
       "    </tr>\n",
       "  </tbody>\n",
       "</table>\n",
       "</div>"
      ],
      "text/plain": [
       "                                                text  language\n",
       "0      কাৰাবন্দীৰ পৰা গৃহবন্দী হৈ উভতিল আং ছান ছু কী  Assamese\n",
       "1  চীন কোৰিয়া ইণ্ডোনেছিয়াৰ পৰা আমদানি কৰা অপটিক...  Assamese\n",
       "2  গ্ৰেপ্তাৰ হল ইমৰান খানদুৰ্নীতিৰ গোচৰত তিনিবছৰৰ...  Assamese\n",
       "3  এইবাৰ পাকিস্তানৰ যুৱকৰ সৈতে বিয়াত বহিল দুই সন...  Assamese\n",
       "4  নিষেধাজ্ঞা নেওচি ভাৰতলৈ নেপালৰ বিলাহীঘোচ লৈ চা...  Assamese"
      ]
     },
     "execution_count": 12,
     "metadata": {},
     "output_type": "execute_result"
    }
   ],
   "source": [
    "data.head()"
   ]
  },
  {
   "cell_type": "code",
   "execution_count": 13,
   "id": "cacd4bf4-8e83-4ea5-a9c0-b24af5b06dc3",
   "metadata": {},
   "outputs": [],
   "source": [
    "assamese1 = data.copy()"
   ]
  },
  {
   "cell_type": "code",
   "execution_count": 14,
   "id": "ebc909af-b64f-4680-aa11-435410d113cb",
   "metadata": {},
   "outputs": [
    {
     "data": {
      "text/html": [
       "<div>\n",
       "<style scoped>\n",
       "    .dataframe tbody tr th:only-of-type {\n",
       "        vertical-align: middle;\n",
       "    }\n",
       "\n",
       "    .dataframe tbody tr th {\n",
       "        vertical-align: top;\n",
       "    }\n",
       "\n",
       "    .dataframe thead th {\n",
       "        text-align: right;\n",
       "    }\n",
       "</style>\n",
       "<table border=\"1\" class=\"dataframe\">\n",
       "  <thead>\n",
       "    <tr style=\"text-align: right;\">\n",
       "      <th></th>\n",
       "      <th>text</th>\n",
       "      <th>language</th>\n",
       "    </tr>\n",
       "  </thead>\n",
       "  <tbody>\n",
       "    <tr>\n",
       "      <th>0</th>\n",
       "      <td>কাৰাবন্দীৰ পৰা গৃহবন্দী হৈ উভতিল আং ছান ছু কী</td>\n",
       "      <td>Assamese</td>\n",
       "    </tr>\n",
       "    <tr>\n",
       "      <th>1</th>\n",
       "      <td>চীন কোৰিয়া ইণ্ডোনেছিয়াৰ পৰা আমদানি কৰা অপটিক...</td>\n",
       "      <td>Assamese</td>\n",
       "    </tr>\n",
       "    <tr>\n",
       "      <th>2</th>\n",
       "      <td>গ্ৰেপ্তাৰ হল ইমৰান খানদুৰ্নীতিৰ গোচৰত তিনিবছৰৰ...</td>\n",
       "      <td>Assamese</td>\n",
       "    </tr>\n",
       "    <tr>\n",
       "      <th>3</th>\n",
       "      <td>এইবাৰ পাকিস্তানৰ যুৱকৰ সৈতে বিয়াত বহিল দুই সন...</td>\n",
       "      <td>Assamese</td>\n",
       "    </tr>\n",
       "    <tr>\n",
       "      <th>4</th>\n",
       "      <td>নিষেধাজ্ঞা নেওচি ভাৰতলৈ নেপালৰ বিলাহীঘোচ লৈ চা...</td>\n",
       "      <td>Assamese</td>\n",
       "    </tr>\n",
       "  </tbody>\n",
       "</table>\n",
       "</div>"
      ],
      "text/plain": [
       "                                                text  language\n",
       "0      কাৰাবন্দীৰ পৰা গৃহবন্দী হৈ উভতিল আং ছান ছু কী  Assamese\n",
       "1  চীন কোৰিয়া ইণ্ডোনেছিয়াৰ পৰা আমদানি কৰা অপটিক...  Assamese\n",
       "2  গ্ৰেপ্তাৰ হল ইমৰান খানদুৰ্নীতিৰ গোচৰত তিনিবছৰৰ...  Assamese\n",
       "3  এইবাৰ পাকিস্তানৰ যুৱকৰ সৈতে বিয়াত বহিল দুই সন...  Assamese\n",
       "4  নিষেধাজ্ঞা নেওচি ভাৰতলৈ নেপালৰ বিলাহীঘোচ লৈ চা...  Assamese"
      ]
     },
     "execution_count": 14,
     "metadata": {},
     "output_type": "execute_result"
    }
   ],
   "source": [
    "assamese1.head()"
   ]
  },
  {
   "cell_type": "code",
   "execution_count": 15,
   "id": "81641465-c62e-4286-bd7f-47cbe35582ce",
   "metadata": {},
   "outputs": [],
   "source": [
    "data = pd.read_csv('datasets/Assamese/news18_preprocessed.csv')"
   ]
  },
  {
   "cell_type": "code",
   "execution_count": 16,
   "id": "0eb93ff1-b803-4583-9e95-2eb567dd8f4b",
   "metadata": {},
   "outputs": [
    {
     "data": {
      "text/html": [
       "<div>\n",
       "<style scoped>\n",
       "    .dataframe tbody tr th:only-of-type {\n",
       "        vertical-align: middle;\n",
       "    }\n",
       "\n",
       "    .dataframe tbody tr th {\n",
       "        vertical-align: top;\n",
       "    }\n",
       "\n",
       "    .dataframe thead th {\n",
       "        text-align: right;\n",
       "    }\n",
       "</style>\n",
       "<table border=\"1\" class=\"dataframe\">\n",
       "  <thead>\n",
       "    <tr style=\"text-align: right;\">\n",
       "      <th></th>\n",
       "      <th>S No.</th>\n",
       "      <th>summary</th>\n",
       "      <th>text</th>\n",
       "    </tr>\n",
       "  </thead>\n",
       "  <tbody>\n",
       "    <tr>\n",
       "      <th>0</th>\n",
       "      <td>1</td>\n",
       "      <td>জিলা আয়ুক্তৰ বাসভৱনৰ কাষতে মহিলাৰ পৰা থপিয়াই...</td>\n",
       "      <td>নিৰাপত্তাহীনতাত ভুগিছে যোৰহাট নগৰবাসীয়েযোৰহাট...</td>\n",
       "    </tr>\n",
       "    <tr>\n",
       "      <th>1</th>\n",
       "      <td>2</td>\n",
       "      <td>পুনৰ জালুকবাৰীৰ নতুন শৰাইঘাট দলঙত অঘটন</td>\n",
       "      <td>পুনৰ জালুকবাৰীৰ নতুন শৰাইঘাট দলঙত অঘটনদলঙৰ মাজ...</td>\n",
       "    </tr>\n",
       "    <tr>\n",
       "      <th>2</th>\n",
       "      <td>3</td>\n",
       "      <td>দিহানামেৰে বিশ্ব অভিলেখৰ প্ৰস্তুতি কিন্তু আৰম্...</td>\n",
       "      <td>বাপতিসাহোন বিহুৰ পিছত এইবাৰ দিহানাম পৰিৱেশনেৰে...</td>\n",
       "    </tr>\n",
       "    <tr>\n",
       "      <th>3</th>\n",
       "      <td>4</td>\n",
       "      <td>আন্তঃৰাষ্ট্ৰীয় গণিত অলিম্পিয়াডত ছয়টা বিষয়ত...</td>\n",
       "      <td>নতুন দিল্লীৰ চিলভাৰ জন অলিম্পিয়াডৰ উদ্যোগত অন...</td>\n",
       "    </tr>\n",
       "    <tr>\n",
       "      <th>4</th>\n",
       "      <td>5</td>\n",
       "      <td>দিল্লীতে কিয় কেবিনেট ছিংগাপুৰলণ্ডনম্যানমাৰতো প...</td>\n",
       "      <td>বুধবাৰে সন্ধিয়া পাঁচ বজাত নতুন দিল্লীত অনুষ্ঠি...</td>\n",
       "    </tr>\n",
       "  </tbody>\n",
       "</table>\n",
       "</div>"
      ],
      "text/plain": [
       "   S No.                                            summary  \\\n",
       "0      1  জিলা আয়ুক্তৰ বাসভৱনৰ কাষতে মহিলাৰ পৰা থপিয়াই...   \n",
       "1      2             পুনৰ জালুকবাৰীৰ নতুন শৰাইঘাট দলঙত অঘটন   \n",
       "2      3  দিহানামেৰে বিশ্ব অভিলেখৰ প্ৰস্তুতি কিন্তু আৰম্...   \n",
       "3      4  আন্তঃৰাষ্ট্ৰীয় গণিত অলিম্পিয়াডত ছয়টা বিষয়ত...   \n",
       "4      5  দিল্লীতে কিয় কেবিনেট ছিংগাপুৰলণ্ডনম্যানমাৰতো প...   \n",
       "\n",
       "                                                text  \n",
       "0  নিৰাপত্তাহীনতাত ভুগিছে যোৰহাট নগৰবাসীয়েযোৰহাট...  \n",
       "1  পুনৰ জালুকবাৰীৰ নতুন শৰাইঘাট দলঙত অঘটনদলঙৰ মাজ...  \n",
       "2  বাপতিসাহোন বিহুৰ পিছত এইবাৰ দিহানাম পৰিৱেশনেৰে...  \n",
       "3  নতুন দিল্লীৰ চিলভাৰ জন অলিম্পিয়াডৰ উদ্যোগত অন...  \n",
       "4  বুধবাৰে সন্ধিয়া পাঁচ বজাত নতুন দিল্লীত অনুষ্ঠি...  "
      ]
     },
     "execution_count": 16,
     "metadata": {},
     "output_type": "execute_result"
    }
   ],
   "source": [
    "data.head()"
   ]
  },
  {
   "cell_type": "code",
   "execution_count": 17,
   "id": "b3896d14-7b50-491c-bc24-39ba7ef9e467",
   "metadata": {},
   "outputs": [
    {
     "data": {
      "text/plain": [
       "'জিলা আয়ুক্তৰ বাসভৱনৰ কাষতে মহিলাৰ পৰা থপিয়াই নিলে বেগ'"
      ]
     },
     "execution_count": 17,
     "metadata": {},
     "output_type": "execute_result"
    }
   ],
   "source": [
    "data['summary'][0]"
   ]
  },
  {
   "cell_type": "code",
   "execution_count": 18,
   "id": "70d466c4-81f2-4f9a-8b38-8a5ae89b4e40",
   "metadata": {},
   "outputs": [],
   "source": [
    "data = data[['summary']]"
   ]
  },
  {
   "cell_type": "code",
   "execution_count": 19,
   "id": "8cd44e81-d28e-4dac-a89b-63797041ed73",
   "metadata": {},
   "outputs": [],
   "source": [
    "data['language'] = 'Assamese'"
   ]
  },
  {
   "cell_type": "code",
   "execution_count": 20,
   "id": "10f303cd-851b-4d4f-8ec4-dafb4e8f28d1",
   "metadata": {},
   "outputs": [
    {
     "data": {
      "text/html": [
       "<div>\n",
       "<style scoped>\n",
       "    .dataframe tbody tr th:only-of-type {\n",
       "        vertical-align: middle;\n",
       "    }\n",
       "\n",
       "    .dataframe tbody tr th {\n",
       "        vertical-align: top;\n",
       "    }\n",
       "\n",
       "    .dataframe thead th {\n",
       "        text-align: right;\n",
       "    }\n",
       "</style>\n",
       "<table border=\"1\" class=\"dataframe\">\n",
       "  <thead>\n",
       "    <tr style=\"text-align: right;\">\n",
       "      <th></th>\n",
       "      <th>summary</th>\n",
       "      <th>language</th>\n",
       "    </tr>\n",
       "  </thead>\n",
       "  <tbody>\n",
       "    <tr>\n",
       "      <th>0</th>\n",
       "      <td>জিলা আয়ুক্তৰ বাসভৱনৰ কাষতে মহিলাৰ পৰা থপিয়াই...</td>\n",
       "      <td>Assamese</td>\n",
       "    </tr>\n",
       "    <tr>\n",
       "      <th>1</th>\n",
       "      <td>পুনৰ জালুকবাৰীৰ নতুন শৰাইঘাট দলঙত অঘটন</td>\n",
       "      <td>Assamese</td>\n",
       "    </tr>\n",
       "    <tr>\n",
       "      <th>2</th>\n",
       "      <td>দিহানামেৰে বিশ্ব অভিলেখৰ প্ৰস্তুতি কিন্তু আৰম্...</td>\n",
       "      <td>Assamese</td>\n",
       "    </tr>\n",
       "    <tr>\n",
       "      <th>3</th>\n",
       "      <td>আন্তঃৰাষ্ট্ৰীয় গণিত অলিম্পিয়াডত ছয়টা বিষয়ত...</td>\n",
       "      <td>Assamese</td>\n",
       "    </tr>\n",
       "    <tr>\n",
       "      <th>4</th>\n",
       "      <td>দিল্লীতে কিয় কেবিনেট ছিংগাপুৰলণ্ডনম্যানমাৰতো প...</td>\n",
       "      <td>Assamese</td>\n",
       "    </tr>\n",
       "  </tbody>\n",
       "</table>\n",
       "</div>"
      ],
      "text/plain": [
       "                                             summary  language\n",
       "0  জিলা আয়ুক্তৰ বাসভৱনৰ কাষতে মহিলাৰ পৰা থপিয়াই...  Assamese\n",
       "1             পুনৰ জালুকবাৰীৰ নতুন শৰাইঘাট দলঙত অঘটন  Assamese\n",
       "2  দিহানামেৰে বিশ্ব অভিলেখৰ প্ৰস্তুতি কিন্তু আৰম্...  Assamese\n",
       "3  আন্তঃৰাষ্ট্ৰীয় গণিত অলিম্পিয়াডত ছয়টা বিষয়ত...  Assamese\n",
       "4  দিল্লীতে কিয় কেবিনেট ছিংগাপুৰলণ্ডনম্যানমাৰতো প...  Assamese"
      ]
     },
     "execution_count": 20,
     "metadata": {},
     "output_type": "execute_result"
    }
   ],
   "source": [
    "data.head()"
   ]
  },
  {
   "cell_type": "code",
   "execution_count": 21,
   "id": "fd0d3040-d2d7-4160-93f5-effc1439d8a4",
   "metadata": {},
   "outputs": [],
   "source": [
    "data.rename(columns={\n",
    "    'summary': 'text'\n",
    "}, inplace=True)"
   ]
  },
  {
   "cell_type": "code",
   "execution_count": 22,
   "id": "e1ee3bf1-15be-4255-8657-2fb0cc990024",
   "metadata": {},
   "outputs": [
    {
     "data": {
      "text/html": [
       "<div>\n",
       "<style scoped>\n",
       "    .dataframe tbody tr th:only-of-type {\n",
       "        vertical-align: middle;\n",
       "    }\n",
       "\n",
       "    .dataframe tbody tr th {\n",
       "        vertical-align: top;\n",
       "    }\n",
       "\n",
       "    .dataframe thead th {\n",
       "        text-align: right;\n",
       "    }\n",
       "</style>\n",
       "<table border=\"1\" class=\"dataframe\">\n",
       "  <thead>\n",
       "    <tr style=\"text-align: right;\">\n",
       "      <th></th>\n",
       "      <th>text</th>\n",
       "      <th>language</th>\n",
       "    </tr>\n",
       "  </thead>\n",
       "  <tbody>\n",
       "    <tr>\n",
       "      <th>0</th>\n",
       "      <td>জিলা আয়ুক্তৰ বাসভৱনৰ কাষতে মহিলাৰ পৰা থপিয়াই...</td>\n",
       "      <td>Assamese</td>\n",
       "    </tr>\n",
       "    <tr>\n",
       "      <th>1</th>\n",
       "      <td>পুনৰ জালুকবাৰীৰ নতুন শৰাইঘাট দলঙত অঘটন</td>\n",
       "      <td>Assamese</td>\n",
       "    </tr>\n",
       "    <tr>\n",
       "      <th>2</th>\n",
       "      <td>দিহানামেৰে বিশ্ব অভিলেখৰ প্ৰস্তুতি কিন্তু আৰম্...</td>\n",
       "      <td>Assamese</td>\n",
       "    </tr>\n",
       "    <tr>\n",
       "      <th>3</th>\n",
       "      <td>আন্তঃৰাষ্ট্ৰীয় গণিত অলিম্পিয়াডত ছয়টা বিষয়ত...</td>\n",
       "      <td>Assamese</td>\n",
       "    </tr>\n",
       "    <tr>\n",
       "      <th>4</th>\n",
       "      <td>দিল্লীতে কিয় কেবিনেট ছিংগাপুৰলণ্ডনম্যানমাৰতো প...</td>\n",
       "      <td>Assamese</td>\n",
       "    </tr>\n",
       "  </tbody>\n",
       "</table>\n",
       "</div>"
      ],
      "text/plain": [
       "                                                text  language\n",
       "0  জিলা আয়ুক্তৰ বাসভৱনৰ কাষতে মহিলাৰ পৰা থপিয়াই...  Assamese\n",
       "1             পুনৰ জালুকবাৰীৰ নতুন শৰাইঘাট দলঙত অঘটন  Assamese\n",
       "2  দিহানামেৰে বিশ্ব অভিলেখৰ প্ৰস্তুতি কিন্তু আৰম্...  Assamese\n",
       "3  আন্তঃৰাষ্ট্ৰীয় গণিত অলিম্পিয়াডত ছয়টা বিষয়ত...  Assamese\n",
       "4  দিল্লীতে কিয় কেবিনেট ছিংগাপুৰলণ্ডনম্যানমাৰতো প...  Assamese"
      ]
     },
     "execution_count": 22,
     "metadata": {},
     "output_type": "execute_result"
    }
   ],
   "source": [
    "data.head()"
   ]
  },
  {
   "cell_type": "code",
   "execution_count": 23,
   "id": "cf797bce-4dea-4bc5-9b66-9351037678aa",
   "metadata": {},
   "outputs": [],
   "source": [
    "final = pd.concat([assamese1, data])"
   ]
  },
  {
   "cell_type": "code",
   "execution_count": 24,
   "id": "eaa071be-6691-4959-80dc-2cbc1ef252b6",
   "metadata": {},
   "outputs": [
    {
     "data": {
      "text/html": [
       "<div>\n",
       "<style scoped>\n",
       "    .dataframe tbody tr th:only-of-type {\n",
       "        vertical-align: middle;\n",
       "    }\n",
       "\n",
       "    .dataframe tbody tr th {\n",
       "        vertical-align: top;\n",
       "    }\n",
       "\n",
       "    .dataframe thead th {\n",
       "        text-align: right;\n",
       "    }\n",
       "</style>\n",
       "<table border=\"1\" class=\"dataframe\">\n",
       "  <thead>\n",
       "    <tr style=\"text-align: right;\">\n",
       "      <th></th>\n",
       "      <th>text</th>\n",
       "      <th>language</th>\n",
       "    </tr>\n",
       "  </thead>\n",
       "  <tbody>\n",
       "    <tr>\n",
       "      <th>0</th>\n",
       "      <td>কাৰাবন্দীৰ পৰা গৃহবন্দী হৈ উভতিল আং ছান ছু কী</td>\n",
       "      <td>Assamese</td>\n",
       "    </tr>\n",
       "    <tr>\n",
       "      <th>1</th>\n",
       "      <td>চীন কোৰিয়া ইণ্ডোনেছিয়াৰ পৰা আমদানি কৰা অপটিক...</td>\n",
       "      <td>Assamese</td>\n",
       "    </tr>\n",
       "    <tr>\n",
       "      <th>2</th>\n",
       "      <td>গ্ৰেপ্তাৰ হল ইমৰান খানদুৰ্নীতিৰ গোচৰত তিনিবছৰৰ...</td>\n",
       "      <td>Assamese</td>\n",
       "    </tr>\n",
       "    <tr>\n",
       "      <th>3</th>\n",
       "      <td>এইবাৰ পাকিস্তানৰ যুৱকৰ সৈতে বিয়াত বহিল দুই সন...</td>\n",
       "      <td>Assamese</td>\n",
       "    </tr>\n",
       "    <tr>\n",
       "      <th>4</th>\n",
       "      <td>নিষেধাজ্ঞা নেওচি ভাৰতলৈ নেপালৰ বিলাহীঘোচ লৈ চা...</td>\n",
       "      <td>Assamese</td>\n",
       "    </tr>\n",
       "  </tbody>\n",
       "</table>\n",
       "</div>"
      ],
      "text/plain": [
       "                                                text  language\n",
       "0      কাৰাবন্দীৰ পৰা গৃহবন্দী হৈ উভতিল আং ছান ছু কী  Assamese\n",
       "1  চীন কোৰিয়া ইণ্ডোনেছিয়াৰ পৰা আমদানি কৰা অপটিক...  Assamese\n",
       "2  গ্ৰেপ্তাৰ হল ইমৰান খানদুৰ্নীতিৰ গোচৰত তিনিবছৰৰ...  Assamese\n",
       "3  এইবাৰ পাকিস্তানৰ যুৱকৰ সৈতে বিয়াত বহিল দুই সন...  Assamese\n",
       "4  নিষেধাজ্ঞা নেওচি ভাৰতলৈ নেপালৰ বিলাহীঘোচ লৈ চা...  Assamese"
      ]
     },
     "execution_count": 24,
     "metadata": {},
     "output_type": "execute_result"
    }
   ],
   "source": [
    "final.head()"
   ]
  },
  {
   "cell_type": "code",
   "execution_count": 25,
   "id": "3d48b549-f5eb-4a9f-abb7-6f7c6fc546e2",
   "metadata": {},
   "outputs": [
    {
     "data": {
      "text/plain": [
       "text        0\n",
       "language    0\n",
       "dtype: int64"
      ]
     },
     "execution_count": 25,
     "metadata": {},
     "output_type": "execute_result"
    }
   ],
   "source": [
    "final.isna().sum()"
   ]
  },
  {
   "cell_type": "code",
   "execution_count": 26,
   "id": "2258b057-a04e-4179-b7c5-4276cad6636a",
   "metadata": {},
   "outputs": [
    {
     "data": {
      "text/plain": [
       "77"
      ]
     },
     "execution_count": 26,
     "metadata": {},
     "output_type": "execute_result"
    }
   ],
   "source": [
    "final.duplicated().sum()"
   ]
  },
  {
   "cell_type": "code",
   "execution_count": 27,
   "id": "1472686f-2e7a-406c-9984-5d4bb066a246",
   "metadata": {},
   "outputs": [
    {
     "data": {
      "text/plain": [
       "(24357, 2)"
      ]
     },
     "execution_count": 27,
     "metadata": {},
     "output_type": "execute_result"
    }
   ],
   "source": [
    "final.shape"
   ]
  },
  {
   "cell_type": "code",
   "execution_count": 28,
   "id": "7d02da63-20c3-4088-b080-056de3538f3d",
   "metadata": {},
   "outputs": [],
   "source": [
    "final.drop_duplicates(inplace=True)"
   ]
  },
  {
   "cell_type": "code",
   "execution_count": 29,
   "id": "a62c5e81-a99d-4c18-a39d-65781386e5ed",
   "metadata": {},
   "outputs": [
    {
     "data": {
      "text/plain": [
       "(24280, 2)"
      ]
     },
     "execution_count": 29,
     "metadata": {},
     "output_type": "execute_result"
    }
   ],
   "source": [
    "final.shape"
   ]
  },
  {
   "cell_type": "code",
   "execution_count": 30,
   "id": "915f5e1b-101f-4dda-9356-0b707fdbe398",
   "metadata": {},
   "outputs": [
    {
     "data": {
      "text/plain": [
       "0"
      ]
     },
     "execution_count": 30,
     "metadata": {},
     "output_type": "execute_result"
    }
   ],
   "source": [
    "final['text'].duplicated().sum()"
   ]
  },
  {
   "cell_type": "code",
   "execution_count": 31,
   "id": "c357c882-f5ce-4866-b0d3-89800c1bb8ad",
   "metadata": {},
   "outputs": [],
   "source": [
    "final.to_csv('final/Assamese.csv', index=None)"
   ]
  },
  {
   "cell_type": "markdown",
   "id": "e52f75af-61af-4439-90c8-8df70c64345f",
   "metadata": {},
   "source": [
    "## Bengali"
   ]
  },
  {
   "cell_type": "code",
   "execution_count": 32,
   "id": "a02593ec-2ddf-43a3-bc8a-bef0dc0151c4",
   "metadata": {},
   "outputs": [
    {
     "name": "stdout",
     "output_type": "stream",
     "text": [
      "\u001b[0m\u001b[01;34mdata\u001b[0m/  \u001b[01;34mdata_v2\u001b[0m/\n"
     ]
    }
   ],
   "source": [
    "ls datasets/Bengali/"
   ]
  },
  {
   "cell_type": "code",
   "execution_count": 33,
   "id": "c25dc4d1-cd5d-4667-9cea-1b70f083ba21",
   "metadata": {},
   "outputs": [
    {
     "name": "stdout",
     "output_type": "stream",
     "text": [
      "data.json\n"
     ]
    }
   ],
   "source": [
    "ls datasets/Bengali/data"
   ]
  },
  {
   "cell_type": "code",
   "execution_count": 34,
   "id": "16070c15-ce9a-4d61-8287-c272bbf1d629",
   "metadata": {},
   "outputs": [],
   "source": [
    "data = pd.read_json(\"datasets/Bengali/data/data.json\")"
   ]
  },
  {
   "cell_type": "code",
   "execution_count": 35,
   "id": "60a4f51b-4405-4a28-93bb-48974610a113",
   "metadata": {},
   "outputs": [
    {
     "data": {
      "text/html": [
       "<div>\n",
       "<style scoped>\n",
       "    .dataframe tbody tr th:only-of-type {\n",
       "        vertical-align: middle;\n",
       "    }\n",
       "\n",
       "    .dataframe tbody tr th {\n",
       "        vertical-align: top;\n",
       "    }\n",
       "\n",
       "    .dataframe thead th {\n",
       "        text-align: right;\n",
       "    }\n",
       "</style>\n",
       "<table border=\"1\" class=\"dataframe\">\n",
       "  <thead>\n",
       "    <tr style=\"text-align: right;\">\n",
       "      <th></th>\n",
       "      <th>author</th>\n",
       "      <th>category</th>\n",
       "      <th>category_bn</th>\n",
       "      <th>published_date</th>\n",
       "      <th>modification_date</th>\n",
       "      <th>tag</th>\n",
       "      <th>comment_count</th>\n",
       "      <th>title</th>\n",
       "      <th>url</th>\n",
       "      <th>content</th>\n",
       "    </tr>\n",
       "  </thead>\n",
       "  <tbody>\n",
       "    <tr>\n",
       "      <th>0</th>\n",
       "      <td>গাজীপুর প্রতিনিধি</td>\n",
       "      <td>bangladesh</td>\n",
       "      <td>বাংলাদেশ</td>\n",
       "      <td>০৪ জুলাই ২০১৩, ২৩:২৬</td>\n",
       "      <td>০৪ জুলাই ২০১৩, ২৩:২৭</td>\n",
       "      <td>[গাজীপুর]</td>\n",
       "      <td>0</td>\n",
       "      <td>কালিয়াকৈরে টিফিন খেয়ে ৫০০ শ্রমিক অসুস্থ, বিক...</td>\n",
       "      <td>http://www.prothom-alo.com/bangladesh/article/...</td>\n",
       "      <td>গাজীপুরের কালিয়াকৈর উপজেলার তেলিরচালা এলাকায়...</td>\n",
       "    </tr>\n",
       "    <tr>\n",
       "      <th>1</th>\n",
       "      <td>অনলাইন ডেস্ক</td>\n",
       "      <td>sports</td>\n",
       "      <td>খেলা</td>\n",
       "      <td>০৪ জুলাই ২০১৩, ২৩:০৯</td>\n",
       "      <td>০৪ জুলাই ২০১৩, ২৩:১১</td>\n",
       "      <td>[টেনিস]</td>\n",
       "      <td>0</td>\n",
       "      <td>সেমিফাইনাল বাধাও পেরিয়ে গেলেন লিসিকি</td>\n",
       "      <td>http://www.prothom-alo.com/sports/article/19028</td>\n",
       "      <td>এবারের উইম্বলডনটা স্মরণীয় করে রাখার মিশনেই যে...</td>\n",
       "    </tr>\n",
       "    <tr>\n",
       "      <th>2</th>\n",
       "      <td>নিজস্ব প্রতিবেদক</td>\n",
       "      <td>bangladesh</td>\n",
       "      <td>বাংলাদেশ</td>\n",
       "      <td>০৪ জুলাই ২০১৩, ২২:২৫</td>\n",
       "      <td>০৪ জুলাই ২০১৩, ২৩:১২</td>\n",
       "      <td>[রাজনীতি]</td>\n",
       "      <td>0</td>\n",
       "      <td>সংসদে খালেদার অভিযোগের জবাব দিয়েছে ভারত</td>\n",
       "      <td>http://www.prothom-alo.com/bangladesh/article/...</td>\n",
       "      <td>জাতীয় সংসদে বিএনপি চেয়ারপারসন ও বিরোধীদলীয় ...</td>\n",
       "    </tr>\n",
       "    <tr>\n",
       "      <th>3</th>\n",
       "      <td>অনলাইন ডেস্ক</td>\n",
       "      <td>technology</td>\n",
       "      <td>বিজ্ঞান ও প্রযুক্তি</td>\n",
       "      <td>০৪ জুলাই ২০১৩, ২১:৩৭</td>\n",
       "      <td>০৪ জুলাই ২০১৩, ২১:৪৫</td>\n",
       "      <td>[গবেষণা]</td>\n",
       "      <td>0</td>\n",
       "      <td>পাসওয়ার্ড ভুলে যান!</td>\n",
       "      <td>http://www.prothom-alo.com/technology/article/...</td>\n",
       "      <td>সহজ পাসওয়ার্ডের কারণে অনলাইন অ্যাকাউন্ট সহজেই...</td>\n",
       "    </tr>\n",
       "    <tr>\n",
       "      <th>4</th>\n",
       "      <td>অনলাইন ডেস্ক</td>\n",
       "      <td>technology</td>\n",
       "      <td>বিজ্ঞান ও প্রযুক্তি</td>\n",
       "      <td>০৪ জুলাই ২০১৩, ২১:৩৫</td>\n",
       "      <td>০৪ জুলাই ২০১৩, ২১:৩৭</td>\n",
       "      <td>[কম্পিউটার]</td>\n",
       "      <td>0</td>\n",
       "      <td>চলে গেলেন মাউস উদ্ভাবক</td>\n",
       "      <td>http://www.prothom-alo.com/technology/article/...</td>\n",
       "      <td>কম্পিউটার মাউসের উদ্ভাবক ডগলাস অ্যাঙ্গেলবার্ট ...</td>\n",
       "    </tr>\n",
       "  </tbody>\n",
       "</table>\n",
       "</div>"
      ],
      "text/plain": [
       "              author    category          category_bn        published_date  \\\n",
       "0  গাজীপুর প্রতিনিধি  bangladesh             বাংলাদেশ  ০৪ জুলাই ২০১৩, ২৩:২৬   \n",
       "1       অনলাইন ডেস্ক      sports                 খেলা  ০৪ জুলাই ২০১৩, ২৩:০৯   \n",
       "2   নিজস্ব প্রতিবেদক  bangladesh             বাংলাদেশ  ০৪ জুলাই ২০১৩, ২২:২৫   \n",
       "3       অনলাইন ডেস্ক  technology  বিজ্ঞান ও প্রযুক্তি  ০৪ জুলাই ২০১৩, ২১:৩৭   \n",
       "4       অনলাইন ডেস্ক  technology  বিজ্ঞান ও প্রযুক্তি  ০৪ জুলাই ২০১৩, ২১:৩৫   \n",
       "\n",
       "      modification_date          tag comment_count  \\\n",
       "0  ০৪ জুলাই ২০১৩, ২৩:২৭    [গাজীপুর]             0   \n",
       "1  ০৪ জুলাই ২০১৩, ২৩:১১      [টেনিস]             0   \n",
       "2  ০৪ জুলাই ২০১৩, ২৩:১২    [রাজনীতি]             0   \n",
       "3  ০৪ জুলাই ২০১৩, ২১:৪৫     [গবেষণা]             0   \n",
       "4  ০৪ জুলাই ২০১৩, ২১:৩৭  [কম্পিউটার]             0   \n",
       "\n",
       "                                               title  \\\n",
       "0  কালিয়াকৈরে টিফিন খেয়ে ৫০০ শ্রমিক অসুস্থ, বিক...   \n",
       "1              সেমিফাইনাল বাধাও পেরিয়ে গেলেন লিসিকি   \n",
       "2           সংসদে খালেদার অভিযোগের জবাব দিয়েছে ভারত   \n",
       "3                               পাসওয়ার্ড ভুলে যান!   \n",
       "4                             চলে গেলেন মাউস উদ্ভাবক   \n",
       "\n",
       "                                                 url  \\\n",
       "0  http://www.prothom-alo.com/bangladesh/article/...   \n",
       "1    http://www.prothom-alo.com/sports/article/19028   \n",
       "2  http://www.prothom-alo.com/bangladesh/article/...   \n",
       "3  http://www.prothom-alo.com/technology/article/...   \n",
       "4  http://www.prothom-alo.com/technology/article/...   \n",
       "\n",
       "                                             content  \n",
       "0  গাজীপুরের কালিয়াকৈর উপজেলার তেলিরচালা এলাকায়...  \n",
       "1  এবারের উইম্বলডনটা স্মরণীয় করে রাখার মিশনেই যে...  \n",
       "2  জাতীয় সংসদে বিএনপি চেয়ারপারসন ও বিরোধীদলীয় ...  \n",
       "3  সহজ পাসওয়ার্ডের কারণে অনলাইন অ্যাকাউন্ট সহজেই...  \n",
       "4  কম্পিউটার মাউসের উদ্ভাবক ডগলাস অ্যাঙ্গেলবার্ট ...  "
      ]
     },
     "execution_count": 35,
     "metadata": {},
     "output_type": "execute_result"
    }
   ],
   "source": [
    "data.head()"
   ]
  },
  {
   "cell_type": "code",
   "execution_count": 36,
   "id": "39f0656f-90a9-439b-9104-35a7cb73ea10",
   "metadata": {},
   "outputs": [
    {
     "data": {
      "text/plain": [
       "'কালিয়াকৈরে টিফিন খেয়ে ৫০০ শ্রমিক অসুস্থ, বিক্ষোভ'"
      ]
     },
     "execution_count": 36,
     "metadata": {},
     "output_type": "execute_result"
    }
   ],
   "source": [
    "data['title'][0]"
   ]
  },
  {
   "cell_type": "code",
   "execution_count": 37,
   "id": "3db90f79-397f-4528-8b51-69f4000345dc",
   "metadata": {},
   "outputs": [],
   "source": [
    "data = data[['title']]"
   ]
  },
  {
   "cell_type": "code",
   "execution_count": 38,
   "id": "2f9ac373-291e-4735-9a50-98fcd201b073",
   "metadata": {},
   "outputs": [],
   "source": [
    "data['language'] = 'Bengali'"
   ]
  },
  {
   "cell_type": "code",
   "execution_count": 39,
   "id": "3e98c414-2463-4500-b1ce-78ad7595f87a",
   "metadata": {},
   "outputs": [
    {
     "data": {
      "text/html": [
       "<div>\n",
       "<style scoped>\n",
       "    .dataframe tbody tr th:only-of-type {\n",
       "        vertical-align: middle;\n",
       "    }\n",
       "\n",
       "    .dataframe tbody tr th {\n",
       "        vertical-align: top;\n",
       "    }\n",
       "\n",
       "    .dataframe thead th {\n",
       "        text-align: right;\n",
       "    }\n",
       "</style>\n",
       "<table border=\"1\" class=\"dataframe\">\n",
       "  <thead>\n",
       "    <tr style=\"text-align: right;\">\n",
       "      <th></th>\n",
       "      <th>title</th>\n",
       "      <th>language</th>\n",
       "    </tr>\n",
       "  </thead>\n",
       "  <tbody>\n",
       "    <tr>\n",
       "      <th>0</th>\n",
       "      <td>কালিয়াকৈরে টিফিন খেয়ে ৫০০ শ্রমিক অসুস্থ, বিক...</td>\n",
       "      <td>Bengali</td>\n",
       "    </tr>\n",
       "    <tr>\n",
       "      <th>1</th>\n",
       "      <td>সেমিফাইনাল বাধাও পেরিয়ে গেলেন লিসিকি</td>\n",
       "      <td>Bengali</td>\n",
       "    </tr>\n",
       "    <tr>\n",
       "      <th>2</th>\n",
       "      <td>সংসদে খালেদার অভিযোগের জবাব দিয়েছে ভারত</td>\n",
       "      <td>Bengali</td>\n",
       "    </tr>\n",
       "    <tr>\n",
       "      <th>3</th>\n",
       "      <td>পাসওয়ার্ড ভুলে যান!</td>\n",
       "      <td>Bengali</td>\n",
       "    </tr>\n",
       "    <tr>\n",
       "      <th>4</th>\n",
       "      <td>চলে গেলেন মাউস উদ্ভাবক</td>\n",
       "      <td>Bengali</td>\n",
       "    </tr>\n",
       "  </tbody>\n",
       "</table>\n",
       "</div>"
      ],
      "text/plain": [
       "                                               title language\n",
       "0  কালিয়াকৈরে টিফিন খেয়ে ৫০০ শ্রমিক অসুস্থ, বিক...  Bengali\n",
       "1              সেমিফাইনাল বাধাও পেরিয়ে গেলেন লিসিকি  Bengali\n",
       "2           সংসদে খালেদার অভিযোগের জবাব দিয়েছে ভারত  Bengali\n",
       "3                               পাসওয়ার্ড ভুলে যান!  Bengali\n",
       "4                             চলে গেলেন মাউস উদ্ভাবক  Bengali"
      ]
     },
     "execution_count": 39,
     "metadata": {},
     "output_type": "execute_result"
    }
   ],
   "source": [
    "data.head()"
   ]
  },
  {
   "cell_type": "code",
   "execution_count": 40,
   "id": "b32ef6ae-9605-43d4-b906-3052dc1e9a00",
   "metadata": {},
   "outputs": [],
   "source": [
    "data.rename(columns={\n",
    "    'title': 'text'\n",
    "}, inplace=True)"
   ]
  },
  {
   "cell_type": "code",
   "execution_count": 41,
   "id": "d95a4f1d-a8c7-4ac5-b364-1b9670dac189",
   "metadata": {},
   "outputs": [],
   "source": [
    "bengali1 = data.copy()"
   ]
  },
  {
   "cell_type": "code",
   "execution_count": 42,
   "id": "60f46018-76e2-4efb-8d57-343b9f1b8a8d",
   "metadata": {},
   "outputs": [
    {
     "data": {
      "text/html": [
       "<div>\n",
       "<style scoped>\n",
       "    .dataframe tbody tr th:only-of-type {\n",
       "        vertical-align: middle;\n",
       "    }\n",
       "\n",
       "    .dataframe tbody tr th {\n",
       "        vertical-align: top;\n",
       "    }\n",
       "\n",
       "    .dataframe thead th {\n",
       "        text-align: right;\n",
       "    }\n",
       "</style>\n",
       "<table border=\"1\" class=\"dataframe\">\n",
       "  <thead>\n",
       "    <tr style=\"text-align: right;\">\n",
       "      <th></th>\n",
       "      <th>text</th>\n",
       "      <th>language</th>\n",
       "    </tr>\n",
       "  </thead>\n",
       "  <tbody>\n",
       "    <tr>\n",
       "      <th>0</th>\n",
       "      <td>কালিয়াকৈরে টিফিন খেয়ে ৫০০ শ্রমিক অসুস্থ, বিক...</td>\n",
       "      <td>Bengali</td>\n",
       "    </tr>\n",
       "    <tr>\n",
       "      <th>1</th>\n",
       "      <td>সেমিফাইনাল বাধাও পেরিয়ে গেলেন লিসিকি</td>\n",
       "      <td>Bengali</td>\n",
       "    </tr>\n",
       "    <tr>\n",
       "      <th>2</th>\n",
       "      <td>সংসদে খালেদার অভিযোগের জবাব দিয়েছে ভারত</td>\n",
       "      <td>Bengali</td>\n",
       "    </tr>\n",
       "    <tr>\n",
       "      <th>3</th>\n",
       "      <td>পাসওয়ার্ড ভুলে যান!</td>\n",
       "      <td>Bengali</td>\n",
       "    </tr>\n",
       "    <tr>\n",
       "      <th>4</th>\n",
       "      <td>চলে গেলেন মাউস উদ্ভাবক</td>\n",
       "      <td>Bengali</td>\n",
       "    </tr>\n",
       "  </tbody>\n",
       "</table>\n",
       "</div>"
      ],
      "text/plain": [
       "                                                text language\n",
       "0  কালিয়াকৈরে টিফিন খেয়ে ৫০০ শ্রমিক অসুস্থ, বিক...  Bengali\n",
       "1              সেমিফাইনাল বাধাও পেরিয়ে গেলেন লিসিকি  Bengali\n",
       "2           সংসদে খালেদার অভিযোগের জবাব দিয়েছে ভারত  Bengali\n",
       "3                               পাসওয়ার্ড ভুলে যান!  Bengali\n",
       "4                             চলে গেলেন মাউস উদ্ভাবক  Bengali"
      ]
     },
     "execution_count": 42,
     "metadata": {},
     "output_type": "execute_result"
    }
   ],
   "source": [
    "bengali1.head()"
   ]
  },
  {
   "cell_type": "code",
   "execution_count": 43,
   "id": "a272a01b-7c52-4234-9c39-14cb9a1368cd",
   "metadata": {},
   "outputs": [],
   "source": [
    "data = pd.read_json(\"datasets/Bengali/data_v2/data_v2.json\")"
   ]
  },
  {
   "cell_type": "code",
   "execution_count": 44,
   "id": "8b909e0e-6570-42ca-a887-1c5fb5ee9edd",
   "metadata": {},
   "outputs": [
    {
     "data": {
      "text/html": [
       "<div>\n",
       "<style scoped>\n",
       "    .dataframe tbody tr th:only-of-type {\n",
       "        vertical-align: middle;\n",
       "    }\n",
       "\n",
       "    .dataframe tbody tr th {\n",
       "        vertical-align: top;\n",
       "    }\n",
       "\n",
       "    .dataframe thead th {\n",
       "        text-align: right;\n",
       "    }\n",
       "</style>\n",
       "<table border=\"1\" class=\"dataframe\">\n",
       "  <thead>\n",
       "    <tr style=\"text-align: right;\">\n",
       "      <th></th>\n",
       "      <th>author</th>\n",
       "      <th>category</th>\n",
       "      <th>category_bn</th>\n",
       "      <th>published_date</th>\n",
       "      <th>modification_date</th>\n",
       "      <th>tag</th>\n",
       "      <th>comment_count</th>\n",
       "      <th>title</th>\n",
       "      <th>url</th>\n",
       "      <th>content</th>\n",
       "    </tr>\n",
       "  </thead>\n",
       "  <tbody>\n",
       "    <tr>\n",
       "      <th>0</th>\n",
       "      <td>গাজীপুর প্রতিনিধি</td>\n",
       "      <td>bangladesh</td>\n",
       "      <td>বাংলাদেশ</td>\n",
       "      <td>০৪ জুলাই ২০১৩, ২৩:২৬</td>\n",
       "      <td>০৪ জুলাই ২০১৩, ২৩:২৭</td>\n",
       "      <td>[গাজীপুর]</td>\n",
       "      <td>0</td>\n",
       "      <td>কালিয়াকৈরে টিফিন খেয়ে ৫০০ শ্রমিক অসুস্থ, বিক...</td>\n",
       "      <td>http://www.prothom-alo.com/bangladesh/article/...</td>\n",
       "      <td>গাজীপুরের কালিয়াকৈর উপজেলার তেলিরচালা এলাকায়...</td>\n",
       "    </tr>\n",
       "    <tr>\n",
       "      <th>1</th>\n",
       "      <td>অনলাইন ডেস্ক</td>\n",
       "      <td>sports</td>\n",
       "      <td>খেলা</td>\n",
       "      <td>০৪ জুলাই ২০১৩, ২৩:০৯</td>\n",
       "      <td>০৪ জুলাই ২০১৩, ২৩:১১</td>\n",
       "      <td>[টেনিস]</td>\n",
       "      <td>0</td>\n",
       "      <td>সেমিফাইনাল বাধাও পেরিয়ে গেলেন লিসিকি</td>\n",
       "      <td>http://www.prothom-alo.com/sports/article/19028</td>\n",
       "      <td>এবারের উইম্বলডনটা স্মরণীয় করে রাখার মিশনেই যে...</td>\n",
       "    </tr>\n",
       "    <tr>\n",
       "      <th>2</th>\n",
       "      <td>নিজস্ব প্রতিবেদক</td>\n",
       "      <td>bangladesh</td>\n",
       "      <td>বাংলাদেশ</td>\n",
       "      <td>০৪ জুলাই ২০১৩, ২২:২৫</td>\n",
       "      <td>০৪ জুলাই ২০১৩, ২৩:১২</td>\n",
       "      <td>[রাজনীতি]</td>\n",
       "      <td>0</td>\n",
       "      <td>সংসদে খালেদার অভিযোগের জবাব দিয়েছে ভারত</td>\n",
       "      <td>http://www.prothom-alo.com/bangladesh/article/...</td>\n",
       "      <td>জাতীয় সংসদে বিএনপি চেয়ারপারসন ও বিরোধীদলীয় ...</td>\n",
       "    </tr>\n",
       "    <tr>\n",
       "      <th>3</th>\n",
       "      <td>অনলাইন ডেস্ক</td>\n",
       "      <td>technology</td>\n",
       "      <td>বিজ্ঞান ও প্রযুক্তি</td>\n",
       "      <td>০৪ জুলাই ২০১৩, ২১:৩৭</td>\n",
       "      <td>০৪ জুলাই ২০১৩, ২১:৪৫</td>\n",
       "      <td>[গবেষণা]</td>\n",
       "      <td>0</td>\n",
       "      <td>পাসওয়ার্ড ভুলে যান!</td>\n",
       "      <td>http://www.prothom-alo.com/technology/article/...</td>\n",
       "      <td>সহজ পাসওয়ার্ডের কারণে অনলাইন অ্যাকাউন্ট সহজেই...</td>\n",
       "    </tr>\n",
       "    <tr>\n",
       "      <th>4</th>\n",
       "      <td>অনলাইন ডেস্ক</td>\n",
       "      <td>technology</td>\n",
       "      <td>বিজ্ঞান ও প্রযুক্তি</td>\n",
       "      <td>০৪ জুলাই ২০১৩, ২১:৩৫</td>\n",
       "      <td>০৪ জুলাই ২০১৩, ২১:৩৭</td>\n",
       "      <td>[কম্পিউটার]</td>\n",
       "      <td>0</td>\n",
       "      <td>চলে গেলেন মাউস উদ্ভাবক</td>\n",
       "      <td>http://www.prothom-alo.com/technology/article/...</td>\n",
       "      <td>কম্পিউটার মাউসের উদ্ভাবক ডগলাস অ্যাঙ্গেলবার্ট ...</td>\n",
       "    </tr>\n",
       "  </tbody>\n",
       "</table>\n",
       "</div>"
      ],
      "text/plain": [
       "              author    category          category_bn        published_date  \\\n",
       "0  গাজীপুর প্রতিনিধি  bangladesh             বাংলাদেশ  ০৪ জুলাই ২০১৩, ২৩:২৬   \n",
       "1       অনলাইন ডেস্ক      sports                 খেলা  ০৪ জুলাই ২০১৩, ২৩:০৯   \n",
       "2   নিজস্ব প্রতিবেদক  bangladesh             বাংলাদেশ  ০৪ জুলাই ২০১৩, ২২:২৫   \n",
       "3       অনলাইন ডেস্ক  technology  বিজ্ঞান ও প্রযুক্তি  ০৪ জুলাই ২০১৩, ২১:৩৭   \n",
       "4       অনলাইন ডেস্ক  technology  বিজ্ঞান ও প্রযুক্তি  ০৪ জুলাই ২০১৩, ২১:৩৫   \n",
       "\n",
       "      modification_date          tag comment_count  \\\n",
       "0  ০৪ জুলাই ২০১৩, ২৩:২৭    [গাজীপুর]             0   \n",
       "1  ০৪ জুলাই ২০১৩, ২৩:১১      [টেনিস]             0   \n",
       "2  ০৪ জুলাই ২০১৩, ২৩:১২    [রাজনীতি]             0   \n",
       "3  ০৪ জুলাই ২০১৩, ২১:৪৫     [গবেষণা]             0   \n",
       "4  ০৪ জুলাই ২০১৩, ২১:৩৭  [কম্পিউটার]             0   \n",
       "\n",
       "                                               title  \\\n",
       "0  কালিয়াকৈরে টিফিন খেয়ে ৫০০ শ্রমিক অসুস্থ, বিক...   \n",
       "1              সেমিফাইনাল বাধাও পেরিয়ে গেলেন লিসিকি   \n",
       "2           সংসদে খালেদার অভিযোগের জবাব দিয়েছে ভারত   \n",
       "3                               পাসওয়ার্ড ভুলে যান!   \n",
       "4                             চলে গেলেন মাউস উদ্ভাবক   \n",
       "\n",
       "                                                 url  \\\n",
       "0  http://www.prothom-alo.com/bangladesh/article/...   \n",
       "1    http://www.prothom-alo.com/sports/article/19028   \n",
       "2  http://www.prothom-alo.com/bangladesh/article/...   \n",
       "3  http://www.prothom-alo.com/technology/article/...   \n",
       "4  http://www.prothom-alo.com/technology/article/...   \n",
       "\n",
       "                                             content  \n",
       "0  গাজীপুরের কালিয়াকৈর উপজেলার তেলিরচালা এলাকায়...  \n",
       "1  এবারের উইম্বলডনটা স্মরণীয় করে রাখার মিশনেই যে...  \n",
       "2  জাতীয় সংসদে বিএনপি চেয়ারপারসন ও বিরোধীদলীয় ...  \n",
       "3  সহজ পাসওয়ার্ডের কারণে অনলাইন অ্যাকাউন্ট সহজেই...  \n",
       "4  কম্পিউটার মাউসের উদ্ভাবক ডগলাস অ্যাঙ্গেলবার্ট ...  "
      ]
     },
     "execution_count": 44,
     "metadata": {},
     "output_type": "execute_result"
    }
   ],
   "source": [
    "data.head()"
   ]
  },
  {
   "cell_type": "code",
   "execution_count": 45,
   "id": "0b6c7ac0-2f40-47d4-a06a-5a849a83ef18",
   "metadata": {},
   "outputs": [
    {
     "data": {
      "text/plain": [
       "'কালিয়াকৈরে টিফিন খেয়ে ৫০০ শ্রমিক অসুস্থ, বিক্ষোভ'"
      ]
     },
     "execution_count": 45,
     "metadata": {},
     "output_type": "execute_result"
    }
   ],
   "source": [
    "data['title'][0]"
   ]
  },
  {
   "cell_type": "code",
   "execution_count": 46,
   "id": "9a773d95-0927-4770-9538-79305e30ac20",
   "metadata": {},
   "outputs": [],
   "source": [
    "data = data[['title']]"
   ]
  },
  {
   "cell_type": "code",
   "execution_count": 47,
   "id": "e4443b5b-8f53-4584-b66e-37b7917cea4e",
   "metadata": {},
   "outputs": [],
   "source": [
    "data['language'] = \"Bengali\""
   ]
  },
  {
   "cell_type": "code",
   "execution_count": 48,
   "id": "dd90de51-337f-4e99-b059-1f5f87b3a240",
   "metadata": {},
   "outputs": [],
   "source": [
    "data.rename(columns={\n",
    "    'title': 'text'\n",
    "}, inplace=True)"
   ]
  },
  {
   "cell_type": "code",
   "execution_count": 49,
   "id": "8bc9863c-3a20-4d8e-9387-0e8f24441066",
   "metadata": {},
   "outputs": [
    {
     "data": {
      "text/html": [
       "<div>\n",
       "<style scoped>\n",
       "    .dataframe tbody tr th:only-of-type {\n",
       "        vertical-align: middle;\n",
       "    }\n",
       "\n",
       "    .dataframe tbody tr th {\n",
       "        vertical-align: top;\n",
       "    }\n",
       "\n",
       "    .dataframe thead th {\n",
       "        text-align: right;\n",
       "    }\n",
       "</style>\n",
       "<table border=\"1\" class=\"dataframe\">\n",
       "  <thead>\n",
       "    <tr style=\"text-align: right;\">\n",
       "      <th></th>\n",
       "      <th>text</th>\n",
       "      <th>language</th>\n",
       "    </tr>\n",
       "  </thead>\n",
       "  <tbody>\n",
       "    <tr>\n",
       "      <th>0</th>\n",
       "      <td>কালিয়াকৈরে টিফিন খেয়ে ৫০০ শ্রমিক অসুস্থ, বিক...</td>\n",
       "      <td>Bengali</td>\n",
       "    </tr>\n",
       "    <tr>\n",
       "      <th>1</th>\n",
       "      <td>সেমিফাইনাল বাধাও পেরিয়ে গেলেন লিসিকি</td>\n",
       "      <td>Bengali</td>\n",
       "    </tr>\n",
       "    <tr>\n",
       "      <th>2</th>\n",
       "      <td>সংসদে খালেদার অভিযোগের জবাব দিয়েছে ভারত</td>\n",
       "      <td>Bengali</td>\n",
       "    </tr>\n",
       "    <tr>\n",
       "      <th>3</th>\n",
       "      <td>পাসওয়ার্ড ভুলে যান!</td>\n",
       "      <td>Bengali</td>\n",
       "    </tr>\n",
       "    <tr>\n",
       "      <th>4</th>\n",
       "      <td>চলে গেলেন মাউস উদ্ভাবক</td>\n",
       "      <td>Bengali</td>\n",
       "    </tr>\n",
       "  </tbody>\n",
       "</table>\n",
       "</div>"
      ],
      "text/plain": [
       "                                                text language\n",
       "0  কালিয়াকৈরে টিফিন খেয়ে ৫০০ শ্রমিক অসুস্থ, বিক...  Bengali\n",
       "1              সেমিফাইনাল বাধাও পেরিয়ে গেলেন লিসিকি  Bengali\n",
       "2           সংসদে খালেদার অভিযোগের জবাব দিয়েছে ভারত  Bengali\n",
       "3                               পাসওয়ার্ড ভুলে যান!  Bengali\n",
       "4                             চলে গেলেন মাউস উদ্ভাবক  Bengali"
      ]
     },
     "execution_count": 49,
     "metadata": {},
     "output_type": "execute_result"
    }
   ],
   "source": [
    "data.head()"
   ]
  },
  {
   "cell_type": "code",
   "execution_count": 50,
   "id": "1ddb7ee8-b0e3-4e06-bb55-977233f11479",
   "metadata": {},
   "outputs": [],
   "source": [
    "final = pd.concat([bengali1, data])"
   ]
  },
  {
   "cell_type": "code",
   "execution_count": 51,
   "id": "7aa8cf5f-2535-4178-b7a3-16f8ffcb3b71",
   "metadata": {},
   "outputs": [
    {
     "data": {
      "text/html": [
       "<div>\n",
       "<style scoped>\n",
       "    .dataframe tbody tr th:only-of-type {\n",
       "        vertical-align: middle;\n",
       "    }\n",
       "\n",
       "    .dataframe tbody tr th {\n",
       "        vertical-align: top;\n",
       "    }\n",
       "\n",
       "    .dataframe thead th {\n",
       "        text-align: right;\n",
       "    }\n",
       "</style>\n",
       "<table border=\"1\" class=\"dataframe\">\n",
       "  <thead>\n",
       "    <tr style=\"text-align: right;\">\n",
       "      <th></th>\n",
       "      <th>text</th>\n",
       "      <th>language</th>\n",
       "    </tr>\n",
       "  </thead>\n",
       "  <tbody>\n",
       "    <tr>\n",
       "      <th>0</th>\n",
       "      <td>কালিয়াকৈরে টিফিন খেয়ে ৫০০ শ্রমিক অসুস্থ, বিক...</td>\n",
       "      <td>Bengali</td>\n",
       "    </tr>\n",
       "    <tr>\n",
       "      <th>1</th>\n",
       "      <td>সেমিফাইনাল বাধাও পেরিয়ে গেলেন লিসিকি</td>\n",
       "      <td>Bengali</td>\n",
       "    </tr>\n",
       "    <tr>\n",
       "      <th>2</th>\n",
       "      <td>সংসদে খালেদার অভিযোগের জবাব দিয়েছে ভারত</td>\n",
       "      <td>Bengali</td>\n",
       "    </tr>\n",
       "    <tr>\n",
       "      <th>3</th>\n",
       "      <td>পাসওয়ার্ড ভুলে যান!</td>\n",
       "      <td>Bengali</td>\n",
       "    </tr>\n",
       "    <tr>\n",
       "      <th>4</th>\n",
       "      <td>চলে গেলেন মাউস উদ্ভাবক</td>\n",
       "      <td>Bengali</td>\n",
       "    </tr>\n",
       "  </tbody>\n",
       "</table>\n",
       "</div>"
      ],
      "text/plain": [
       "                                                text language\n",
       "0  কালিয়াকৈরে টিফিন খেয়ে ৫০০ শ্রমিক অসুস্থ, বিক...  Bengali\n",
       "1              সেমিফাইনাল বাধাও পেরিয়ে গেলেন লিসিকি  Bengali\n",
       "2           সংসদে খালেদার অভিযোগের জবাব দিয়েছে ভারত  Bengali\n",
       "3                               পাসওয়ার্ড ভুলে যান!  Bengali\n",
       "4                             চলে গেলেন মাউস উদ্ভাবক  Bengali"
      ]
     },
     "execution_count": 51,
     "metadata": {},
     "output_type": "execute_result"
    }
   ],
   "source": [
    "final.head()"
   ]
  },
  {
   "cell_type": "code",
   "execution_count": 52,
   "id": "22357f30-6dd2-445d-b54d-274436ff15a3",
   "metadata": {},
   "outputs": [
    {
     "data": {
      "text/plain": [
       "(846419, 2)"
      ]
     },
     "execution_count": 52,
     "metadata": {},
     "output_type": "execute_result"
    }
   ],
   "source": [
    "final.shape"
   ]
  },
  {
   "cell_type": "code",
   "execution_count": 53,
   "id": "dec9e54c-4a80-4e3f-a91b-f66b9b770fed",
   "metadata": {},
   "outputs": [
    {
     "data": {
      "text/plain": [
       "text        0\n",
       "language    0\n",
       "dtype: int64"
      ]
     },
     "execution_count": 53,
     "metadata": {},
     "output_type": "execute_result"
    }
   ],
   "source": [
    "final.isna().sum()"
   ]
  },
  {
   "cell_type": "code",
   "execution_count": 54,
   "id": "54401713-64c4-4a54-af44-1c80841e7c5d",
   "metadata": {},
   "outputs": [
    {
     "data": {
      "text/plain": [
       "449978"
      ]
     },
     "execution_count": 54,
     "metadata": {},
     "output_type": "execute_result"
    }
   ],
   "source": [
    "final.duplicated().sum()"
   ]
  },
  {
   "cell_type": "code",
   "execution_count": 55,
   "id": "e4a5d284-cb4f-49b2-96ac-8b32dadce82f",
   "metadata": {},
   "outputs": [],
   "source": [
    "final.drop_duplicates(inplace=True)"
   ]
  },
  {
   "cell_type": "code",
   "execution_count": 56,
   "id": "485ea91c-3965-4f34-a9ac-4c50b8f212f6",
   "metadata": {},
   "outputs": [
    {
     "data": {
      "text/plain": [
       "(396441, 2)"
      ]
     },
     "execution_count": 56,
     "metadata": {},
     "output_type": "execute_result"
    }
   ],
   "source": [
    "final.shape"
   ]
  },
  {
   "cell_type": "code",
   "execution_count": 57,
   "id": "9bcb0411-7bd4-44aa-b1b6-c21fdc60678d",
   "metadata": {},
   "outputs": [
    {
     "data": {
      "text/plain": [
       "0"
      ]
     },
     "execution_count": 57,
     "metadata": {},
     "output_type": "execute_result"
    }
   ],
   "source": [
    "final['text'].duplicated().sum()"
   ]
  },
  {
   "cell_type": "code",
   "execution_count": 58,
   "id": "c659c9c8-570f-465e-8472-0fab5e0b24fc",
   "metadata": {},
   "outputs": [],
   "source": [
    "final.to_csv(\"final/Bengali.csv\", index=None)"
   ]
  },
  {
   "cell_type": "markdown",
   "id": "78566472-c49c-45a7-a032-b0dc6c20db92",
   "metadata": {},
   "source": [
    "## English"
   ]
  },
  {
   "cell_type": "code",
   "execution_count": 64,
   "id": "157a153a-73d9-40ae-b036-425beda98051",
   "metadata": {},
   "outputs": [
    {
     "name": "stdout",
     "output_type": "stream",
     "text": [
      "metadata.csv\n"
     ]
    }
   ],
   "source": [
    "ls datasets/English/"
   ]
  },
  {
   "cell_type": "code",
   "execution_count": 65,
   "id": "4bf887bc-df95-4c1a-920d-5584c2b0b275",
   "metadata": {},
   "outputs": [],
   "source": [
    "import pandas as pd"
   ]
  },
  {
   "cell_type": "code",
   "execution_count": 66,
   "id": "75028936-3012-4883-870a-931b5b89510c",
   "metadata": {},
   "outputs": [
    {
     "name": "stderr",
     "output_type": "stream",
     "text": [
      "/tmp/ipykernel_24282/972192428.py:1: DtypeWarning: Columns (1,4,5,6,13,14,15,16) have mixed types. Specify dtype option on import or set low_memory=False.\n",
      "  data = pd.read_csv(\"datasets/English/metadata.csv\")\n"
     ]
    }
   ],
   "source": [
    "data = pd.read_csv(\"datasets/English/metadata.csv\")"
   ]
  },
  {
   "cell_type": "code",
   "execution_count": 67,
   "id": "96cc19ca-8e05-4d0f-a653-8f17e7279b90",
   "metadata": {},
   "outputs": [
    {
     "data": {
      "text/html": [
       "<div>\n",
       "<style scoped>\n",
       "    .dataframe tbody tr th:only-of-type {\n",
       "        vertical-align: middle;\n",
       "    }\n",
       "\n",
       "    .dataframe tbody tr th {\n",
       "        vertical-align: top;\n",
       "    }\n",
       "\n",
       "    .dataframe thead th {\n",
       "        text-align: right;\n",
       "    }\n",
       "</style>\n",
       "<table border=\"1\" class=\"dataframe\">\n",
       "  <thead>\n",
       "    <tr style=\"text-align: right;\">\n",
       "      <th></th>\n",
       "      <th>cord_uid</th>\n",
       "      <th>sha</th>\n",
       "      <th>source_x</th>\n",
       "      <th>title</th>\n",
       "      <th>doi</th>\n",
       "      <th>pmcid</th>\n",
       "      <th>pubmed_id</th>\n",
       "      <th>license</th>\n",
       "      <th>abstract</th>\n",
       "      <th>publish_time</th>\n",
       "      <th>authors</th>\n",
       "      <th>journal</th>\n",
       "      <th>mag_id</th>\n",
       "      <th>who_covidence_id</th>\n",
       "      <th>arxiv_id</th>\n",
       "      <th>pdf_json_files</th>\n",
       "      <th>pmc_json_files</th>\n",
       "      <th>url</th>\n",
       "      <th>s2_id</th>\n",
       "    </tr>\n",
       "  </thead>\n",
       "  <tbody>\n",
       "    <tr>\n",
       "      <th>0</th>\n",
       "      <td>ug7v899j</td>\n",
       "      <td>d1aafb70c066a2068b02786f8929fd9c900897fb</td>\n",
       "      <td>PMC</td>\n",
       "      <td>Clinical features of culture-proven Mycoplasma...</td>\n",
       "      <td>10.1186/1471-2334-1-6</td>\n",
       "      <td>PMC35282</td>\n",
       "      <td>11472636</td>\n",
       "      <td>no-cc</td>\n",
       "      <td>OBJECTIVE: This retrospective chart review des...</td>\n",
       "      <td>2001-07-04</td>\n",
       "      <td>Madani, Tariq A; Al-Ghamdi, Aisha A</td>\n",
       "      <td>BMC Infect Dis</td>\n",
       "      <td>NaN</td>\n",
       "      <td>NaN</td>\n",
       "      <td>NaN</td>\n",
       "      <td>document_parses/pdf_json/d1aafb70c066a2068b027...</td>\n",
       "      <td>document_parses/pmc_json/PMC35282.xml.json</td>\n",
       "      <td>https://www.ncbi.nlm.nih.gov/pmc/articles/PMC3...</td>\n",
       "      <td>NaN</td>\n",
       "    </tr>\n",
       "    <tr>\n",
       "      <th>1</th>\n",
       "      <td>02tnwd4m</td>\n",
       "      <td>6b0567729c2143a66d737eb0a2f63f2dce2e5a7d</td>\n",
       "      <td>PMC</td>\n",
       "      <td>Nitric oxide: a pro-inflammatory mediator in l...</td>\n",
       "      <td>10.1186/rr14</td>\n",
       "      <td>PMC59543</td>\n",
       "      <td>11667967</td>\n",
       "      <td>no-cc</td>\n",
       "      <td>Inflammatory diseases of the respiratory tract...</td>\n",
       "      <td>2000-08-15</td>\n",
       "      <td>Vliet, Albert van der; Eiserich, Jason P; Cros...</td>\n",
       "      <td>Respir Res</td>\n",
       "      <td>NaN</td>\n",
       "      <td>NaN</td>\n",
       "      <td>NaN</td>\n",
       "      <td>document_parses/pdf_json/6b0567729c2143a66d737...</td>\n",
       "      <td>document_parses/pmc_json/PMC59543.xml.json</td>\n",
       "      <td>https://www.ncbi.nlm.nih.gov/pmc/articles/PMC5...</td>\n",
       "      <td>NaN</td>\n",
       "    </tr>\n",
       "    <tr>\n",
       "      <th>2</th>\n",
       "      <td>ejv2xln0</td>\n",
       "      <td>06ced00a5fc04215949aa72528f2eeaae1d58927</td>\n",
       "      <td>PMC</td>\n",
       "      <td>Surfactant protein-D and pulmonary host defense</td>\n",
       "      <td>10.1186/rr19</td>\n",
       "      <td>PMC59549</td>\n",
       "      <td>11667972</td>\n",
       "      <td>no-cc</td>\n",
       "      <td>Surfactant protein-D (SP-D) participates in th...</td>\n",
       "      <td>2000-08-25</td>\n",
       "      <td>Crouch, Erika C</td>\n",
       "      <td>Respir Res</td>\n",
       "      <td>NaN</td>\n",
       "      <td>NaN</td>\n",
       "      <td>NaN</td>\n",
       "      <td>document_parses/pdf_json/06ced00a5fc04215949aa...</td>\n",
       "      <td>document_parses/pmc_json/PMC59549.xml.json</td>\n",
       "      <td>https://www.ncbi.nlm.nih.gov/pmc/articles/PMC5...</td>\n",
       "      <td>NaN</td>\n",
       "    </tr>\n",
       "    <tr>\n",
       "      <th>3</th>\n",
       "      <td>2b73a28n</td>\n",
       "      <td>348055649b6b8cf2b9a376498df9bf41f7123605</td>\n",
       "      <td>PMC</td>\n",
       "      <td>Role of endothelin-1 in lung disease</td>\n",
       "      <td>10.1186/rr44</td>\n",
       "      <td>PMC59574</td>\n",
       "      <td>11686871</td>\n",
       "      <td>no-cc</td>\n",
       "      <td>Endothelin-1 (ET-1) is a 21 amino acid peptide...</td>\n",
       "      <td>2001-02-22</td>\n",
       "      <td>Fagan, Karen A; McMurtry, Ivan F; Rodman, David M</td>\n",
       "      <td>Respir Res</td>\n",
       "      <td>NaN</td>\n",
       "      <td>NaN</td>\n",
       "      <td>NaN</td>\n",
       "      <td>document_parses/pdf_json/348055649b6b8cf2b9a37...</td>\n",
       "      <td>document_parses/pmc_json/PMC59574.xml.json</td>\n",
       "      <td>https://www.ncbi.nlm.nih.gov/pmc/articles/PMC5...</td>\n",
       "      <td>NaN</td>\n",
       "    </tr>\n",
       "    <tr>\n",
       "      <th>4</th>\n",
       "      <td>9785vg6d</td>\n",
       "      <td>5f48792a5fa08bed9f56016f4981ae2ca6031b32</td>\n",
       "      <td>PMC</td>\n",
       "      <td>Gene expression in epithelial cells in respons...</td>\n",
       "      <td>10.1186/rr61</td>\n",
       "      <td>PMC59580</td>\n",
       "      <td>11686888</td>\n",
       "      <td>no-cc</td>\n",
       "      <td>Respiratory syncytial virus (RSV) and pneumoni...</td>\n",
       "      <td>2001-05-11</td>\n",
       "      <td>Domachowske, Joseph B; Bonville, Cynthia A; Ro...</td>\n",
       "      <td>Respir Res</td>\n",
       "      <td>NaN</td>\n",
       "      <td>NaN</td>\n",
       "      <td>NaN</td>\n",
       "      <td>document_parses/pdf_json/5f48792a5fa08bed9f560...</td>\n",
       "      <td>document_parses/pmc_json/PMC59580.xml.json</td>\n",
       "      <td>https://www.ncbi.nlm.nih.gov/pmc/articles/PMC5...</td>\n",
       "      <td>NaN</td>\n",
       "    </tr>\n",
       "  </tbody>\n",
       "</table>\n",
       "</div>"
      ],
      "text/plain": [
       "   cord_uid                                       sha source_x  \\\n",
       "0  ug7v899j  d1aafb70c066a2068b02786f8929fd9c900897fb      PMC   \n",
       "1  02tnwd4m  6b0567729c2143a66d737eb0a2f63f2dce2e5a7d      PMC   \n",
       "2  ejv2xln0  06ced00a5fc04215949aa72528f2eeaae1d58927      PMC   \n",
       "3  2b73a28n  348055649b6b8cf2b9a376498df9bf41f7123605      PMC   \n",
       "4  9785vg6d  5f48792a5fa08bed9f56016f4981ae2ca6031b32      PMC   \n",
       "\n",
       "                                               title                    doi  \\\n",
       "0  Clinical features of culture-proven Mycoplasma...  10.1186/1471-2334-1-6   \n",
       "1  Nitric oxide: a pro-inflammatory mediator in l...           10.1186/rr14   \n",
       "2    Surfactant protein-D and pulmonary host defense           10.1186/rr19   \n",
       "3               Role of endothelin-1 in lung disease           10.1186/rr44   \n",
       "4  Gene expression in epithelial cells in respons...           10.1186/rr61   \n",
       "\n",
       "      pmcid pubmed_id license  \\\n",
       "0  PMC35282  11472636   no-cc   \n",
       "1  PMC59543  11667967   no-cc   \n",
       "2  PMC59549  11667972   no-cc   \n",
       "3  PMC59574  11686871   no-cc   \n",
       "4  PMC59580  11686888   no-cc   \n",
       "\n",
       "                                            abstract publish_time  \\\n",
       "0  OBJECTIVE: This retrospective chart review des...   2001-07-04   \n",
       "1  Inflammatory diseases of the respiratory tract...   2000-08-15   \n",
       "2  Surfactant protein-D (SP-D) participates in th...   2000-08-25   \n",
       "3  Endothelin-1 (ET-1) is a 21 amino acid peptide...   2001-02-22   \n",
       "4  Respiratory syncytial virus (RSV) and pneumoni...   2001-05-11   \n",
       "\n",
       "                                             authors         journal  mag_id  \\\n",
       "0                Madani, Tariq A; Al-Ghamdi, Aisha A  BMC Infect Dis     NaN   \n",
       "1  Vliet, Albert van der; Eiserich, Jason P; Cros...      Respir Res     NaN   \n",
       "2                                    Crouch, Erika C      Respir Res     NaN   \n",
       "3  Fagan, Karen A; McMurtry, Ivan F; Rodman, David M      Respir Res     NaN   \n",
       "4  Domachowske, Joseph B; Bonville, Cynthia A; Ro...      Respir Res     NaN   \n",
       "\n",
       "  who_covidence_id arxiv_id  \\\n",
       "0              NaN      NaN   \n",
       "1              NaN      NaN   \n",
       "2              NaN      NaN   \n",
       "3              NaN      NaN   \n",
       "4              NaN      NaN   \n",
       "\n",
       "                                      pdf_json_files  \\\n",
       "0  document_parses/pdf_json/d1aafb70c066a2068b027...   \n",
       "1  document_parses/pdf_json/6b0567729c2143a66d737...   \n",
       "2  document_parses/pdf_json/06ced00a5fc04215949aa...   \n",
       "3  document_parses/pdf_json/348055649b6b8cf2b9a37...   \n",
       "4  document_parses/pdf_json/5f48792a5fa08bed9f560...   \n",
       "\n",
       "                               pmc_json_files  \\\n",
       "0  document_parses/pmc_json/PMC35282.xml.json   \n",
       "1  document_parses/pmc_json/PMC59543.xml.json   \n",
       "2  document_parses/pmc_json/PMC59549.xml.json   \n",
       "3  document_parses/pmc_json/PMC59574.xml.json   \n",
       "4  document_parses/pmc_json/PMC59580.xml.json   \n",
       "\n",
       "                                                 url  s2_id  \n",
       "0  https://www.ncbi.nlm.nih.gov/pmc/articles/PMC3...    NaN  \n",
       "1  https://www.ncbi.nlm.nih.gov/pmc/articles/PMC5...    NaN  \n",
       "2  https://www.ncbi.nlm.nih.gov/pmc/articles/PMC5...    NaN  \n",
       "3  https://www.ncbi.nlm.nih.gov/pmc/articles/PMC5...    NaN  \n",
       "4  https://www.ncbi.nlm.nih.gov/pmc/articles/PMC5...    NaN  "
      ]
     },
     "execution_count": 67,
     "metadata": {},
     "output_type": "execute_result"
    }
   ],
   "source": [
    "data.head()"
   ]
  },
  {
   "cell_type": "code",
   "execution_count": 70,
   "id": "6571eca6-d915-4c5e-9af8-9e86abf27b64",
   "metadata": {},
   "outputs": [
    {
     "data": {
      "text/plain": [
       "'Transcript-level annotation of Affymetrix probesets improves the interpretation of gene expression data'"
      ]
     },
     "execution_count": 70,
     "metadata": {},
     "output_type": "execute_result"
    }
   ],
   "source": [
    "data['title'][99]"
   ]
  },
  {
   "cell_type": "code",
   "execution_count": 71,
   "id": "53abb47c-725e-4e26-98a1-305b291a13f7",
   "metadata": {},
   "outputs": [],
   "source": [
    "data = data[['title']]"
   ]
  },
  {
   "cell_type": "code",
   "execution_count": 72,
   "id": "7828792d-0ed6-4e1a-becb-661476d6bf89",
   "metadata": {},
   "outputs": [],
   "source": [
    "data['language'] = 'English'"
   ]
  },
  {
   "cell_type": "code",
   "execution_count": 73,
   "id": "36ce2788-6dd3-4e9a-9c90-57de62f2cb6a",
   "metadata": {},
   "outputs": [
    {
     "data": {
      "text/html": [
       "<div>\n",
       "<style scoped>\n",
       "    .dataframe tbody tr th:only-of-type {\n",
       "        vertical-align: middle;\n",
       "    }\n",
       "\n",
       "    .dataframe tbody tr th {\n",
       "        vertical-align: top;\n",
       "    }\n",
       "\n",
       "    .dataframe thead th {\n",
       "        text-align: right;\n",
       "    }\n",
       "</style>\n",
       "<table border=\"1\" class=\"dataframe\">\n",
       "  <thead>\n",
       "    <tr style=\"text-align: right;\">\n",
       "      <th></th>\n",
       "      <th>title</th>\n",
       "      <th>language</th>\n",
       "    </tr>\n",
       "  </thead>\n",
       "  <tbody>\n",
       "    <tr>\n",
       "      <th>0</th>\n",
       "      <td>Clinical features of culture-proven Mycoplasma...</td>\n",
       "      <td>English</td>\n",
       "    </tr>\n",
       "    <tr>\n",
       "      <th>1</th>\n",
       "      <td>Nitric oxide: a pro-inflammatory mediator in l...</td>\n",
       "      <td>English</td>\n",
       "    </tr>\n",
       "    <tr>\n",
       "      <th>2</th>\n",
       "      <td>Surfactant protein-D and pulmonary host defense</td>\n",
       "      <td>English</td>\n",
       "    </tr>\n",
       "    <tr>\n",
       "      <th>3</th>\n",
       "      <td>Role of endothelin-1 in lung disease</td>\n",
       "      <td>English</td>\n",
       "    </tr>\n",
       "    <tr>\n",
       "      <th>4</th>\n",
       "      <td>Gene expression in epithelial cells in respons...</td>\n",
       "      <td>English</td>\n",
       "    </tr>\n",
       "  </tbody>\n",
       "</table>\n",
       "</div>"
      ],
      "text/plain": [
       "                                               title language\n",
       "0  Clinical features of culture-proven Mycoplasma...  English\n",
       "1  Nitric oxide: a pro-inflammatory mediator in l...  English\n",
       "2    Surfactant protein-D and pulmonary host defense  English\n",
       "3               Role of endothelin-1 in lung disease  English\n",
       "4  Gene expression in epithelial cells in respons...  English"
      ]
     },
     "execution_count": 73,
     "metadata": {},
     "output_type": "execute_result"
    }
   ],
   "source": [
    "data.head()"
   ]
  },
  {
   "cell_type": "code",
   "execution_count": 74,
   "id": "8ce85b8b-2d07-4570-8efd-35fcc923e3f6",
   "metadata": {},
   "outputs": [
    {
     "data": {
      "text/plain": [
       "title       503\n",
       "language      0\n",
       "dtype: int64"
      ]
     },
     "execution_count": 74,
     "metadata": {},
     "output_type": "execute_result"
    }
   ],
   "source": [
    "data.isna().sum()"
   ]
  },
  {
   "cell_type": "code",
   "execution_count": 75,
   "id": "d0f9d3de-7d47-4fc7-8608-95a47d75f6db",
   "metadata": {},
   "outputs": [
    {
     "data": {
      "text/plain": [
       "(1056660, 2)"
      ]
     },
     "execution_count": 75,
     "metadata": {},
     "output_type": "execute_result"
    }
   ],
   "source": [
    "data.shape"
   ]
  },
  {
   "cell_type": "code",
   "execution_count": 78,
   "id": "e7aee986-292c-4428-916b-b0e6107bedb8",
   "metadata": {},
   "outputs": [],
   "source": [
    "data.dropna(inplace=True)"
   ]
  },
  {
   "cell_type": "code",
   "execution_count": 79,
   "id": "4b7c8950-c55a-4716-b177-167d9b9bae3e",
   "metadata": {},
   "outputs": [
    {
     "data": {
      "text/plain": [
       "(1056157, 2)"
      ]
     },
     "execution_count": 79,
     "metadata": {},
     "output_type": "execute_result"
    }
   ],
   "source": [
    "data.shape"
   ]
  },
  {
   "cell_type": "code",
   "execution_count": 80,
   "id": "841eff2a-68e0-492a-9756-18f8bd5ee23e",
   "metadata": {},
   "outputs": [
    {
     "data": {
      "text/plain": [
       "205791"
      ]
     },
     "execution_count": 80,
     "metadata": {},
     "output_type": "execute_result"
    }
   ],
   "source": [
    "data.duplicated().sum()"
   ]
  },
  {
   "cell_type": "code",
   "execution_count": 81,
   "id": "7c3a85e2-f764-45c9-8385-95e3d518699e",
   "metadata": {},
   "outputs": [],
   "source": [
    "data.drop_duplicates(inplace=True)"
   ]
  },
  {
   "cell_type": "code",
   "execution_count": 82,
   "id": "b2f7fe6b-7348-4c13-b177-b67d8b089fd3",
   "metadata": {},
   "outputs": [
    {
     "data": {
      "text/plain": [
       "(850366, 2)"
      ]
     },
     "execution_count": 82,
     "metadata": {},
     "output_type": "execute_result"
    }
   ],
   "source": [
    "data.shape"
   ]
  },
  {
   "cell_type": "code",
   "execution_count": 83,
   "id": "ff2511b0-df7b-463f-9d69-d6b8a783ba4e",
   "metadata": {},
   "outputs": [
    {
     "data": {
      "text/html": [
       "<div>\n",
       "<style scoped>\n",
       "    .dataframe tbody tr th:only-of-type {\n",
       "        vertical-align: middle;\n",
       "    }\n",
       "\n",
       "    .dataframe tbody tr th {\n",
       "        vertical-align: top;\n",
       "    }\n",
       "\n",
       "    .dataframe thead th {\n",
       "        text-align: right;\n",
       "    }\n",
       "</style>\n",
       "<table border=\"1\" class=\"dataframe\">\n",
       "  <thead>\n",
       "    <tr style=\"text-align: right;\">\n",
       "      <th></th>\n",
       "      <th>title</th>\n",
       "      <th>language</th>\n",
       "    </tr>\n",
       "  </thead>\n",
       "  <tbody>\n",
       "    <tr>\n",
       "      <th>0</th>\n",
       "      <td>Clinical features of culture-proven Mycoplasma...</td>\n",
       "      <td>English</td>\n",
       "    </tr>\n",
       "    <tr>\n",
       "      <th>1</th>\n",
       "      <td>Nitric oxide: a pro-inflammatory mediator in l...</td>\n",
       "      <td>English</td>\n",
       "    </tr>\n",
       "    <tr>\n",
       "      <th>2</th>\n",
       "      <td>Surfactant protein-D and pulmonary host defense</td>\n",
       "      <td>English</td>\n",
       "    </tr>\n",
       "    <tr>\n",
       "      <th>3</th>\n",
       "      <td>Role of endothelin-1 in lung disease</td>\n",
       "      <td>English</td>\n",
       "    </tr>\n",
       "    <tr>\n",
       "      <th>4</th>\n",
       "      <td>Gene expression in epithelial cells in respons...</td>\n",
       "      <td>English</td>\n",
       "    </tr>\n",
       "  </tbody>\n",
       "</table>\n",
       "</div>"
      ],
      "text/plain": [
       "                                               title language\n",
       "0  Clinical features of culture-proven Mycoplasma...  English\n",
       "1  Nitric oxide: a pro-inflammatory mediator in l...  English\n",
       "2    Surfactant protein-D and pulmonary host defense  English\n",
       "3               Role of endothelin-1 in lung disease  English\n",
       "4  Gene expression in epithelial cells in respons...  English"
      ]
     },
     "execution_count": 83,
     "metadata": {},
     "output_type": "execute_result"
    }
   ],
   "source": [
    "data.head()"
   ]
  },
  {
   "cell_type": "code",
   "execution_count": 84,
   "id": "75490991-f2e0-476a-87e2-4b69d7623384",
   "metadata": {},
   "outputs": [],
   "source": [
    "data.rename(columns={\n",
    "    'title': 'text'\n",
    "}, inplace=True)"
   ]
  },
  {
   "cell_type": "code",
   "execution_count": 85,
   "id": "b3203dcf-cbd0-47aa-a8e2-18269feff192",
   "metadata": {},
   "outputs": [
    {
     "data": {
      "text/html": [
       "<div>\n",
       "<style scoped>\n",
       "    .dataframe tbody tr th:only-of-type {\n",
       "        vertical-align: middle;\n",
       "    }\n",
       "\n",
       "    .dataframe tbody tr th {\n",
       "        vertical-align: top;\n",
       "    }\n",
       "\n",
       "    .dataframe thead th {\n",
       "        text-align: right;\n",
       "    }\n",
       "</style>\n",
       "<table border=\"1\" class=\"dataframe\">\n",
       "  <thead>\n",
       "    <tr style=\"text-align: right;\">\n",
       "      <th></th>\n",
       "      <th>text</th>\n",
       "      <th>language</th>\n",
       "    </tr>\n",
       "  </thead>\n",
       "  <tbody>\n",
       "    <tr>\n",
       "      <th>0</th>\n",
       "      <td>Clinical features of culture-proven Mycoplasma...</td>\n",
       "      <td>English</td>\n",
       "    </tr>\n",
       "    <tr>\n",
       "      <th>1</th>\n",
       "      <td>Nitric oxide: a pro-inflammatory mediator in l...</td>\n",
       "      <td>English</td>\n",
       "    </tr>\n",
       "    <tr>\n",
       "      <th>2</th>\n",
       "      <td>Surfactant protein-D and pulmonary host defense</td>\n",
       "      <td>English</td>\n",
       "    </tr>\n",
       "    <tr>\n",
       "      <th>3</th>\n",
       "      <td>Role of endothelin-1 in lung disease</td>\n",
       "      <td>English</td>\n",
       "    </tr>\n",
       "    <tr>\n",
       "      <th>4</th>\n",
       "      <td>Gene expression in epithelial cells in respons...</td>\n",
       "      <td>English</td>\n",
       "    </tr>\n",
       "  </tbody>\n",
       "</table>\n",
       "</div>"
      ],
      "text/plain": [
       "                                                text language\n",
       "0  Clinical features of culture-proven Mycoplasma...  English\n",
       "1  Nitric oxide: a pro-inflammatory mediator in l...  English\n",
       "2    Surfactant protein-D and pulmonary host defense  English\n",
       "3               Role of endothelin-1 in lung disease  English\n",
       "4  Gene expression in epithelial cells in respons...  English"
      ]
     },
     "execution_count": 85,
     "metadata": {},
     "output_type": "execute_result"
    }
   ],
   "source": [
    "data.head()"
   ]
  },
  {
   "cell_type": "code",
   "execution_count": 86,
   "id": "621cc52b-2690-44c8-bd0b-012e4846ac63",
   "metadata": {},
   "outputs": [],
   "source": [
    "data.to_csv('final/English.csv', index=None)"
   ]
  },
  {
   "cell_type": "markdown",
   "id": "c3a24777-7745-453a-a5c4-14287a277acc",
   "metadata": {},
   "source": [
    "## Gujarati"
   ]
  },
  {
   "cell_type": "code",
   "execution_count": 89,
   "id": "09a51d8f-b97d-4e9a-97e1-e75ff53af2af",
   "metadata": {},
   "outputs": [
    {
     "name": "stdout",
     "output_type": "stream",
     "text": [
      "Guj_train.csv\n"
     ]
    }
   ],
   "source": [
    "ls datasets/Gujarati/"
   ]
  },
  {
   "cell_type": "code",
   "execution_count": 90,
   "id": "bc6791ce-7d16-424a-9419-0c2cb7033d4b",
   "metadata": {},
   "outputs": [],
   "source": [
    "data = pd.read_csv('datasets/Gujarati/Guj_train.csv')"
   ]
  },
  {
   "cell_type": "code",
   "execution_count": 91,
   "id": "f4f55bf5-1a82-4b1e-863e-383190bb8b7e",
   "metadata": {},
   "outputs": [
    {
     "data": {
      "text/html": [
       "<div>\n",
       "<style scoped>\n",
       "    .dataframe tbody tr th:only-of-type {\n",
       "        vertical-align: middle;\n",
       "    }\n",
       "\n",
       "    .dataframe tbody tr th {\n",
       "        vertical-align: top;\n",
       "    }\n",
       "\n",
       "    .dataframe thead th {\n",
       "        text-align: right;\n",
       "    }\n",
       "</style>\n",
       "<table border=\"1\" class=\"dataframe\">\n",
       "  <thead>\n",
       "    <tr style=\"text-align: right;\">\n",
       "      <th></th>\n",
       "      <th>id</th>\n",
       "      <th>Link</th>\n",
       "      <th>Heading</th>\n",
       "      <th>Summary</th>\n",
       "      <th>Article</th>\n",
       "    </tr>\n",
       "  </thead>\n",
       "  <tbody>\n",
       "    <tr>\n",
       "      <th>0</th>\n",
       "      <td>b65e86e963ba642d1c4eb8d0d31c9edc</td>\n",
       "      <td>https://www.divyabhaskar.co.in/local/gujarat/s...</td>\n",
       "      <td>ગેરરીતિ મામલે કાર્યવાહી:મોરબીમાં ઈમ્પેક્ટ ફી વ...</td>\n",
       "      <td>વસુલાતનું સઘળું રેકોર્ડ રજૂ કરવા કર્મચારીઓને ત...</td>\n",
       "      <td>વિશ્વના બીજા નંબરના સૌથી મોટા સિરામીક ઉદ્યોગનુ...</td>\n",
       "    </tr>\n",
       "    <tr>\n",
       "      <th>1</th>\n",
       "      <td>656c3c9240508df5e761077b49c2ae3b</td>\n",
       "      <td>https://www.divyabhaskar.co.in/local/gujarat/m...</td>\n",
       "      <td>રજૂઆત:ભાગીને લગ્ન કરતી દીકરી માટે લગ્ન નોંધણીમ...</td>\n",
       "      <td>ચોરાસી કડવા પાટીદાર સમાજની કારોબારીમાં સરકારમા...</td>\n",
       "      <td>ચોરાસી કડવા પાટીદાર સમાજની કારોબારી સભામાં ભાગ...</td>\n",
       "    </tr>\n",
       "    <tr>\n",
       "      <th>2</th>\n",
       "      <td>b7e01e0d967b32358e89304a757154f1</td>\n",
       "      <td>https://www.divyabhaskar.co.in/local/gujarat/s...</td>\n",
       "      <td>રજૂઆત:લખતરથી ખેરવા જતી માઇનોર કેનાલ બિસ્માર હા...</td>\n",
       "      <td>અવારનવાર કેનાલ તૂટી જતી હોવાથી ખેતરોમાં પાણી વ...</td>\n",
       "      <td>ધ્રાંગધ્રા- સોખડા ગામ પાસેથી લખતરથી ખેરવા જતી ...</td>\n",
       "    </tr>\n",
       "    <tr>\n",
       "      <th>3</th>\n",
       "      <td>b1957ae63894b028fc4b3da17453f694</td>\n",
       "      <td>https://www.divyabhaskar.co.in/local/gujarat/v...</td>\n",
       "      <td>વડોદરામાં નર્સની ફરજ નિષ્ઠા:પતિ સરહદ પર દેશની ...</td>\n",
       "      <td>કારેલીબાગ વિસ્તારની ધનંજય સ્કૂલમાં દીકરીને સાથ...</td>\n",
       "      <td>જૂન-2020માં કોરોનાની મહામારી પરાકાષ્ઠાએ હતી, ત...</td>\n",
       "    </tr>\n",
       "    <tr>\n",
       "      <th>4</th>\n",
       "      <td>7c248d053dfe28ab92350f2099bca134</td>\n",
       "      <td>https://gujarati.news18.com/news/madhya-gujara...</td>\n",
       "      <td>Ahmedabad crime news: મંદિરના ગેટ આગળ બહાર દાર...</td>\n",
       "      <td>Ahmedabad crime news: સામાન્ય બાબતે ઉગ્ર સ્વરુ...</td>\n",
       "      <td>અમદાવાદઃ સુરતના (surat news) અમરોલીમાં પોલીસ સ...</td>\n",
       "    </tr>\n",
       "  </tbody>\n",
       "</table>\n",
       "</div>"
      ],
      "text/plain": [
       "                                 id  \\\n",
       "0  b65e86e963ba642d1c4eb8d0d31c9edc   \n",
       "1  656c3c9240508df5e761077b49c2ae3b   \n",
       "2  b7e01e0d967b32358e89304a757154f1   \n",
       "3  b1957ae63894b028fc4b3da17453f694   \n",
       "4  7c248d053dfe28ab92350f2099bca134   \n",
       "\n",
       "                                                Link  \\\n",
       "0  https://www.divyabhaskar.co.in/local/gujarat/s...   \n",
       "1  https://www.divyabhaskar.co.in/local/gujarat/m...   \n",
       "2  https://www.divyabhaskar.co.in/local/gujarat/s...   \n",
       "3  https://www.divyabhaskar.co.in/local/gujarat/v...   \n",
       "4  https://gujarati.news18.com/news/madhya-gujara...   \n",
       "\n",
       "                                             Heading  \\\n",
       "0  ગેરરીતિ મામલે કાર્યવાહી:મોરબીમાં ઈમ્પેક્ટ ફી વ...   \n",
       "1  રજૂઆત:ભાગીને લગ્ન કરતી દીકરી માટે લગ્ન નોંધણીમ...   \n",
       "2  રજૂઆત:લખતરથી ખેરવા જતી માઇનોર કેનાલ બિસ્માર હા...   \n",
       "3  વડોદરામાં નર્સની ફરજ નિષ્ઠા:પતિ સરહદ પર દેશની ...   \n",
       "4  Ahmedabad crime news: મંદિરના ગેટ આગળ બહાર દાર...   \n",
       "\n",
       "                                             Summary  \\\n",
       "0  વસુલાતનું સઘળું રેકોર્ડ રજૂ કરવા કર્મચારીઓને ત...   \n",
       "1  ચોરાસી કડવા પાટીદાર સમાજની કારોબારીમાં સરકારમા...   \n",
       "2  અવારનવાર કેનાલ તૂટી જતી હોવાથી ખેતરોમાં પાણી વ...   \n",
       "3  કારેલીબાગ વિસ્તારની ધનંજય સ્કૂલમાં દીકરીને સાથ...   \n",
       "4  Ahmedabad crime news: સામાન્ય બાબતે ઉગ્ર સ્વરુ...   \n",
       "\n",
       "                                             Article  \n",
       "0  વિશ્વના બીજા નંબરના સૌથી મોટા સિરામીક ઉદ્યોગનુ...  \n",
       "1  ચોરાસી કડવા પાટીદાર સમાજની કારોબારી સભામાં ભાગ...  \n",
       "2  ધ્રાંગધ્રા- સોખડા ગામ પાસેથી લખતરથી ખેરવા જતી ...  \n",
       "3  જૂન-2020માં કોરોનાની મહામારી પરાકાષ્ઠાએ હતી, ત...  \n",
       "4  અમદાવાદઃ સુરતના (surat news) અમરોલીમાં પોલીસ સ...  "
      ]
     },
     "execution_count": 91,
     "metadata": {},
     "output_type": "execute_result"
    }
   ],
   "source": [
    "data.head()"
   ]
  },
  {
   "cell_type": "code",
   "execution_count": 93,
   "id": "7bfaba6d-683f-4261-8954-9001ff800d7d",
   "metadata": {},
   "outputs": [
    {
     "data": {
      "text/plain": [
       "'અમદાવાદની ASTRAL કંપની પર આવકવેરાના દરોડા, બેનામી મિલકતોની આશંકા'"
      ]
     },
     "execution_count": 93,
     "metadata": {},
     "output_type": "execute_result"
    }
   ],
   "source": [
    "data['Heading'][99]"
   ]
  },
  {
   "cell_type": "code",
   "execution_count": 94,
   "id": "3985121c-f716-4c9a-a984-45334efbd0fe",
   "metadata": {},
   "outputs": [],
   "source": [
    "data = data[['Heading']]"
   ]
  },
  {
   "cell_type": "code",
   "execution_count": 95,
   "id": "39aab1f6-c296-4a2b-bdd9-4f6e5aea6eaa",
   "metadata": {},
   "outputs": [
    {
     "data": {
      "text/html": [
       "<div>\n",
       "<style scoped>\n",
       "    .dataframe tbody tr th:only-of-type {\n",
       "        vertical-align: middle;\n",
       "    }\n",
       "\n",
       "    .dataframe tbody tr th {\n",
       "        vertical-align: top;\n",
       "    }\n",
       "\n",
       "    .dataframe thead th {\n",
       "        text-align: right;\n",
       "    }\n",
       "</style>\n",
       "<table border=\"1\" class=\"dataframe\">\n",
       "  <thead>\n",
       "    <tr style=\"text-align: right;\">\n",
       "      <th></th>\n",
       "      <th>Heading</th>\n",
       "    </tr>\n",
       "  </thead>\n",
       "  <tbody>\n",
       "    <tr>\n",
       "      <th>0</th>\n",
       "      <td>ગેરરીતિ મામલે કાર્યવાહી:મોરબીમાં ઈમ્પેક્ટ ફી વ...</td>\n",
       "    </tr>\n",
       "    <tr>\n",
       "      <th>1</th>\n",
       "      <td>રજૂઆત:ભાગીને લગ્ન કરતી દીકરી માટે લગ્ન નોંધણીમ...</td>\n",
       "    </tr>\n",
       "    <tr>\n",
       "      <th>2</th>\n",
       "      <td>રજૂઆત:લખતરથી ખેરવા જતી માઇનોર કેનાલ બિસ્માર હા...</td>\n",
       "    </tr>\n",
       "    <tr>\n",
       "      <th>3</th>\n",
       "      <td>વડોદરામાં નર્સની ફરજ નિષ્ઠા:પતિ સરહદ પર દેશની ...</td>\n",
       "    </tr>\n",
       "    <tr>\n",
       "      <th>4</th>\n",
       "      <td>Ahmedabad crime news: મંદિરના ગેટ આગળ બહાર દાર...</td>\n",
       "    </tr>\n",
       "  </tbody>\n",
       "</table>\n",
       "</div>"
      ],
      "text/plain": [
       "                                             Heading\n",
       "0  ગેરરીતિ મામલે કાર્યવાહી:મોરબીમાં ઈમ્પેક્ટ ફી વ...\n",
       "1  રજૂઆત:ભાગીને લગ્ન કરતી દીકરી માટે લગ્ન નોંધણીમ...\n",
       "2  રજૂઆત:લખતરથી ખેરવા જતી માઇનોર કેનાલ બિસ્માર હા...\n",
       "3  વડોદરામાં નર્સની ફરજ નિષ્ઠા:પતિ સરહદ પર દેશની ...\n",
       "4  Ahmedabad crime news: મંદિરના ગેટ આગળ બહાર દાર..."
      ]
     },
     "execution_count": 95,
     "metadata": {},
     "output_type": "execute_result"
    }
   ],
   "source": [
    "data.head()"
   ]
  },
  {
   "cell_type": "code",
   "execution_count": 96,
   "id": "70c9542f-dd96-491f-91c4-3716f9525508",
   "metadata": {},
   "outputs": [
    {
     "data": {
      "text/plain": [
       "Heading    0\n",
       "dtype: int64"
      ]
     },
     "execution_count": 96,
     "metadata": {},
     "output_type": "execute_result"
    }
   ],
   "source": [
    "data.isna().sum()"
   ]
  },
  {
   "cell_type": "code",
   "execution_count": 97,
   "id": "3d1b3b7a-d767-4620-9384-a630f7fd1d6f",
   "metadata": {},
   "outputs": [
    {
     "data": {
      "text/plain": [
       "0"
      ]
     },
     "execution_count": 97,
     "metadata": {},
     "output_type": "execute_result"
    }
   ],
   "source": [
    "data.duplicated().sum()"
   ]
  },
  {
   "cell_type": "code",
   "execution_count": 98,
   "id": "442382a6-1471-4db3-a43b-5d28faf07604",
   "metadata": {},
   "outputs": [
    {
     "data": {
      "text/plain": [
       "(8457, 1)"
      ]
     },
     "execution_count": 98,
     "metadata": {},
     "output_type": "execute_result"
    }
   ],
   "source": [
    "data.shape"
   ]
  },
  {
   "cell_type": "code",
   "execution_count": 100,
   "id": "2c23e1ef-f987-441f-bf9c-e9324f753fe8",
   "metadata": {},
   "outputs": [],
   "source": [
    "data.rename(columns={\n",
    "    'Heading': 'text'\n",
    "}, inplace=True)"
   ]
  },
  {
   "cell_type": "code",
   "execution_count": 101,
   "id": "50c25f58-1194-4f09-b08f-cc43853a5133",
   "metadata": {},
   "outputs": [],
   "source": [
    "data['Language'] = 'Gujarati'"
   ]
  },
  {
   "cell_type": "code",
   "execution_count": 102,
   "id": "f8377858-2459-4e35-8145-482768aafb10",
   "metadata": {},
   "outputs": [
    {
     "data": {
      "text/html": [
       "<div>\n",
       "<style scoped>\n",
       "    .dataframe tbody tr th:only-of-type {\n",
       "        vertical-align: middle;\n",
       "    }\n",
       "\n",
       "    .dataframe tbody tr th {\n",
       "        vertical-align: top;\n",
       "    }\n",
       "\n",
       "    .dataframe thead th {\n",
       "        text-align: right;\n",
       "    }\n",
       "</style>\n",
       "<table border=\"1\" class=\"dataframe\">\n",
       "  <thead>\n",
       "    <tr style=\"text-align: right;\">\n",
       "      <th></th>\n",
       "      <th>text</th>\n",
       "      <th>Language</th>\n",
       "    </tr>\n",
       "  </thead>\n",
       "  <tbody>\n",
       "    <tr>\n",
       "      <th>0</th>\n",
       "      <td>ગેરરીતિ મામલે કાર્યવાહી:મોરબીમાં ઈમ્પેક્ટ ફી વ...</td>\n",
       "      <td>Gujarati</td>\n",
       "    </tr>\n",
       "    <tr>\n",
       "      <th>1</th>\n",
       "      <td>રજૂઆત:ભાગીને લગ્ન કરતી દીકરી માટે લગ્ન નોંધણીમ...</td>\n",
       "      <td>Gujarati</td>\n",
       "    </tr>\n",
       "    <tr>\n",
       "      <th>2</th>\n",
       "      <td>રજૂઆત:લખતરથી ખેરવા જતી માઇનોર કેનાલ બિસ્માર હા...</td>\n",
       "      <td>Gujarati</td>\n",
       "    </tr>\n",
       "    <tr>\n",
       "      <th>3</th>\n",
       "      <td>વડોદરામાં નર્સની ફરજ નિષ્ઠા:પતિ સરહદ પર દેશની ...</td>\n",
       "      <td>Gujarati</td>\n",
       "    </tr>\n",
       "    <tr>\n",
       "      <th>4</th>\n",
       "      <td>Ahmedabad crime news: મંદિરના ગેટ આગળ બહાર દાર...</td>\n",
       "      <td>Gujarati</td>\n",
       "    </tr>\n",
       "  </tbody>\n",
       "</table>\n",
       "</div>"
      ],
      "text/plain": [
       "                                                text  Language\n",
       "0  ગેરરીતિ મામલે કાર્યવાહી:મોરબીમાં ઈમ્પેક્ટ ફી વ...  Gujarati\n",
       "1  રજૂઆત:ભાગીને લગ્ન કરતી દીકરી માટે લગ્ન નોંધણીમ...  Gujarati\n",
       "2  રજૂઆત:લખતરથી ખેરવા જતી માઇનોર કેનાલ બિસ્માર હા...  Gujarati\n",
       "3  વડોદરામાં નર્સની ફરજ નિષ્ઠા:પતિ સરહદ પર દેશની ...  Gujarati\n",
       "4  Ahmedabad crime news: મંદિરના ગેટ આગળ બહાર દાર...  Gujarati"
      ]
     },
     "execution_count": 102,
     "metadata": {},
     "output_type": "execute_result"
    }
   ],
   "source": [
    "data.head()"
   ]
  },
  {
   "cell_type": "code",
   "execution_count": 103,
   "id": "89f5f589-040b-4be3-bb9f-eb097cb7a206",
   "metadata": {},
   "outputs": [],
   "source": [
    "data.to_csv('final/Gujarati.csv', index=None)"
   ]
  },
  {
   "cell_type": "markdown",
   "id": "4af162d3-63ef-4159-aa84-a5d05ff9fd88",
   "metadata": {},
   "source": [
    "## Hindi"
   ]
  },
  {
   "cell_type": "code",
   "execution_count": 104,
   "id": "00e42c6e-6660-422c-b1f1-4192a84c0987",
   "metadata": {},
   "outputs": [
    {
     "name": "stdout",
     "output_type": "stream",
     "text": [
      "hindi_news_dataset.csv\n"
     ]
    }
   ],
   "source": [
    "ls datasets/Hindi/"
   ]
  },
  {
   "cell_type": "code",
   "execution_count": 105,
   "id": "1960573a-3df1-4435-a8eb-93dbf13ba180",
   "metadata": {},
   "outputs": [],
   "source": [
    "data = pd.read_csv('datasets/Hindi/hindi_news_dataset.csv')"
   ]
  },
  {
   "cell_type": "code",
   "execution_count": 106,
   "id": "6e473858-c7da-4129-9562-599c8ec52546",
   "metadata": {},
   "outputs": [
    {
     "data": {
      "text/html": [
       "<div>\n",
       "<style scoped>\n",
       "    .dataframe tbody tr th:only-of-type {\n",
       "        vertical-align: middle;\n",
       "    }\n",
       "\n",
       "    .dataframe tbody tr th {\n",
       "        vertical-align: top;\n",
       "    }\n",
       "\n",
       "    .dataframe thead th {\n",
       "        text-align: right;\n",
       "    }\n",
       "</style>\n",
       "<table border=\"1\" class=\"dataframe\">\n",
       "  <thead>\n",
       "    <tr style=\"text-align: right;\">\n",
       "      <th></th>\n",
       "      <th>Headline</th>\n",
       "      <th>Content</th>\n",
       "      <th>News Categories</th>\n",
       "      <th>Date</th>\n",
       "    </tr>\n",
       "  </thead>\n",
       "  <tbody>\n",
       "    <tr>\n",
       "      <th>0</th>\n",
       "      <td>कांग्रेस नेता बलजिंदर सिंह की पंजाब में घर के ...</td>\n",
       "      <td>कांग्रेस नेता बलजिंदर सिंह की सोमवार को पंजाब ...</td>\n",
       "      <td>['national']</td>\n",
       "      <td>19-09-2023</td>\n",
       "    </tr>\n",
       "    <tr>\n",
       "      <th>1</th>\n",
       "      <td>केंद्रीय मंत्री बोले- महिला आरक्षण लाने का साह...</td>\n",
       "      <td>केंद्रीय मंत्री प्रह्लाद पटेल ने लोकसभा और विध...</td>\n",
       "      <td>['politics', 'national']</td>\n",
       "      <td>19-09-2023</td>\n",
       "    </tr>\n",
       "    <tr>\n",
       "      <th>2</th>\n",
       "      <td>ओपीएस लागू करने से अस्थिर हो सकती है राज्यों क...</td>\n",
       "      <td>आरबीआई के 5 अधिकारियों ने एक लेख में लिखा है क...</td>\n",
       "      <td>['business', 'national']</td>\n",
       "      <td>19-09-2023</td>\n",
       "    </tr>\n",
       "    <tr>\n",
       "      <th>3</th>\n",
       "      <td>तमिलनाडु में शावरमा खाने से 14 वर्षीय छात्रा क...</td>\n",
       "      <td>नामक्कल (तमिलनाडु) में शावरमा खाने से सोमवार क...</td>\n",
       "      <td>['national']</td>\n",
       "      <td>19-09-2023</td>\n",
       "    </tr>\n",
       "    <tr>\n",
       "      <th>4</th>\n",
       "      <td>मणिपुर में मुख्यमंत्री के आश्वासन के बाद मारे ...</td>\n",
       "      <td>मणिपुर के मुख्यमंत्री एन बीरेन सिंह के आश्वासन...</td>\n",
       "      <td>['national']</td>\n",
       "      <td>19-09-2023</td>\n",
       "    </tr>\n",
       "  </tbody>\n",
       "</table>\n",
       "</div>"
      ],
      "text/plain": [
       "                                            Headline  \\\n",
       "0  कांग्रेस नेता बलजिंदर सिंह की पंजाब में घर के ...   \n",
       "1  केंद्रीय मंत्री बोले- महिला आरक्षण लाने का साह...   \n",
       "2  ओपीएस लागू करने से अस्थिर हो सकती है राज्यों क...   \n",
       "3  तमिलनाडु में शावरमा खाने से 14 वर्षीय छात्रा क...   \n",
       "4  मणिपुर में मुख्यमंत्री के आश्वासन के बाद मारे ...   \n",
       "\n",
       "                                             Content  \\\n",
       "0  कांग्रेस नेता बलजिंदर सिंह की सोमवार को पंजाब ...   \n",
       "1  केंद्रीय मंत्री प्रह्लाद पटेल ने लोकसभा और विध...   \n",
       "2  आरबीआई के 5 अधिकारियों ने एक लेख में लिखा है क...   \n",
       "3  नामक्कल (तमिलनाडु) में शावरमा खाने से सोमवार क...   \n",
       "4  मणिपुर के मुख्यमंत्री एन बीरेन सिंह के आश्वासन...   \n",
       "\n",
       "            News Categories        Date  \n",
       "0              ['national']  19-09-2023  \n",
       "1  ['politics', 'national']  19-09-2023  \n",
       "2  ['business', 'national']  19-09-2023  \n",
       "3              ['national']  19-09-2023  \n",
       "4              ['national']  19-09-2023  "
      ]
     },
     "execution_count": 106,
     "metadata": {},
     "output_type": "execute_result"
    }
   ],
   "source": [
    "data.head()"
   ]
  },
  {
   "cell_type": "code",
   "execution_count": 108,
   "id": "481d7fc3-af35-444d-9c53-9df9570d915b",
   "metadata": {},
   "outputs": [
    {
     "data": {
      "text/plain": [
       "'भविष्य निर्माण के लिए प्रतिबद्ध मित्र: पीएम मोदी को जन्मदिन की बधाई देते हुए इटली की पीएम'"
      ]
     },
     "execution_count": 108,
     "metadata": {},
     "output_type": "execute_result"
    }
   ],
   "source": [
    "data['Headline'][99]"
   ]
  },
  {
   "cell_type": "code",
   "execution_count": 109,
   "id": "516b1cf9-fac7-4afb-abc8-2f43692c41b1",
   "metadata": {},
   "outputs": [],
   "source": [
    "data = data[['Headline']]"
   ]
  },
  {
   "cell_type": "code",
   "execution_count": 110,
   "id": "8a7fcd4a-7f8a-48ff-9a6c-98fb2af7c1e9",
   "metadata": {},
   "outputs": [
    {
     "data": {
      "text/html": [
       "<div>\n",
       "<style scoped>\n",
       "    .dataframe tbody tr th:only-of-type {\n",
       "        vertical-align: middle;\n",
       "    }\n",
       "\n",
       "    .dataframe tbody tr th {\n",
       "        vertical-align: top;\n",
       "    }\n",
       "\n",
       "    .dataframe thead th {\n",
       "        text-align: right;\n",
       "    }\n",
       "</style>\n",
       "<table border=\"1\" class=\"dataframe\">\n",
       "  <thead>\n",
       "    <tr style=\"text-align: right;\">\n",
       "      <th></th>\n",
       "      <th>Headline</th>\n",
       "    </tr>\n",
       "  </thead>\n",
       "  <tbody>\n",
       "    <tr>\n",
       "      <th>0</th>\n",
       "      <td>कांग्रेस नेता बलजिंदर सिंह की पंजाब में घर के ...</td>\n",
       "    </tr>\n",
       "    <tr>\n",
       "      <th>1</th>\n",
       "      <td>केंद्रीय मंत्री बोले- महिला आरक्षण लाने का साह...</td>\n",
       "    </tr>\n",
       "    <tr>\n",
       "      <th>2</th>\n",
       "      <td>ओपीएस लागू करने से अस्थिर हो सकती है राज्यों क...</td>\n",
       "    </tr>\n",
       "    <tr>\n",
       "      <th>3</th>\n",
       "      <td>तमिलनाडु में शावरमा खाने से 14 वर्षीय छात्रा क...</td>\n",
       "    </tr>\n",
       "    <tr>\n",
       "      <th>4</th>\n",
       "      <td>मणिपुर में मुख्यमंत्री के आश्वासन के बाद मारे ...</td>\n",
       "    </tr>\n",
       "  </tbody>\n",
       "</table>\n",
       "</div>"
      ],
      "text/plain": [
       "                                            Headline\n",
       "0  कांग्रेस नेता बलजिंदर सिंह की पंजाब में घर के ...\n",
       "1  केंद्रीय मंत्री बोले- महिला आरक्षण लाने का साह...\n",
       "2  ओपीएस लागू करने से अस्थिर हो सकती है राज्यों क...\n",
       "3  तमिलनाडु में शावरमा खाने से 14 वर्षीय छात्रा क...\n",
       "4  मणिपुर में मुख्यमंत्री के आश्वासन के बाद मारे ..."
      ]
     },
     "execution_count": 110,
     "metadata": {},
     "output_type": "execute_result"
    }
   ],
   "source": [
    "data.head()"
   ]
  },
  {
   "cell_type": "code",
   "execution_count": 111,
   "id": "e99b35f3-1e37-462f-9420-e0043b1fb99a",
   "metadata": {},
   "outputs": [
    {
     "data": {
      "text/plain": [
       "Headline    0\n",
       "dtype: int64"
      ]
     },
     "execution_count": 111,
     "metadata": {},
     "output_type": "execute_result"
    }
   ],
   "source": [
    "data.isna().sum()"
   ]
  },
  {
   "cell_type": "code",
   "execution_count": 112,
   "id": "1eb586ed-963e-4440-8261-07176a53359f",
   "metadata": {},
   "outputs": [
    {
     "data": {
      "text/plain": [
       "130043"
      ]
     },
     "execution_count": 112,
     "metadata": {},
     "output_type": "execute_result"
    }
   ],
   "source": [
    "data.duplicated().sum()"
   ]
  },
  {
   "cell_type": "code",
   "execution_count": 113,
   "id": "8cc4a147-8c55-4ee6-ad7e-3f98909172da",
   "metadata": {},
   "outputs": [
    {
     "data": {
      "text/plain": [
       "(152179, 1)"
      ]
     },
     "execution_count": 113,
     "metadata": {},
     "output_type": "execute_result"
    }
   ],
   "source": [
    "data.shape"
   ]
  },
  {
   "cell_type": "code",
   "execution_count": 114,
   "id": "a67f3f8d-0018-4009-aeba-e63dc544f509",
   "metadata": {},
   "outputs": [],
   "source": [
    "data.drop_duplicates(inplace=True)"
   ]
  },
  {
   "cell_type": "code",
   "execution_count": 115,
   "id": "754c9a34-3158-413c-873f-7fd4bbd6832e",
   "metadata": {},
   "outputs": [
    {
     "data": {
      "text/plain": [
       "(22136, 1)"
      ]
     },
     "execution_count": 115,
     "metadata": {},
     "output_type": "execute_result"
    }
   ],
   "source": [
    "data.shape"
   ]
  },
  {
   "cell_type": "code",
   "execution_count": 116,
   "id": "ad388dbe-2b7a-49a5-92cb-e4cf94f0c23f",
   "metadata": {},
   "outputs": [],
   "source": [
    "data.rename(columns={\n",
    "    'Headline': 'text'\n",
    "}, inplace=True)"
   ]
  },
  {
   "cell_type": "code",
   "execution_count": 117,
   "id": "78441fe2-7d93-45bd-bddb-a401b7af7457",
   "metadata": {},
   "outputs": [
    {
     "data": {
      "text/html": [
       "<div>\n",
       "<style scoped>\n",
       "    .dataframe tbody tr th:only-of-type {\n",
       "        vertical-align: middle;\n",
       "    }\n",
       "\n",
       "    .dataframe tbody tr th {\n",
       "        vertical-align: top;\n",
       "    }\n",
       "\n",
       "    .dataframe thead th {\n",
       "        text-align: right;\n",
       "    }\n",
       "</style>\n",
       "<table border=\"1\" class=\"dataframe\">\n",
       "  <thead>\n",
       "    <tr style=\"text-align: right;\">\n",
       "      <th></th>\n",
       "      <th>text</th>\n",
       "    </tr>\n",
       "  </thead>\n",
       "  <tbody>\n",
       "    <tr>\n",
       "      <th>0</th>\n",
       "      <td>कांग्रेस नेता बलजिंदर सिंह की पंजाब में घर के ...</td>\n",
       "    </tr>\n",
       "    <tr>\n",
       "      <th>1</th>\n",
       "      <td>केंद्रीय मंत्री बोले- महिला आरक्षण लाने का साह...</td>\n",
       "    </tr>\n",
       "    <tr>\n",
       "      <th>2</th>\n",
       "      <td>ओपीएस लागू करने से अस्थिर हो सकती है राज्यों क...</td>\n",
       "    </tr>\n",
       "    <tr>\n",
       "      <th>3</th>\n",
       "      <td>तमिलनाडु में शावरमा खाने से 14 वर्षीय छात्रा क...</td>\n",
       "    </tr>\n",
       "    <tr>\n",
       "      <th>4</th>\n",
       "      <td>मणिपुर में मुख्यमंत्री के आश्वासन के बाद मारे ...</td>\n",
       "    </tr>\n",
       "  </tbody>\n",
       "</table>\n",
       "</div>"
      ],
      "text/plain": [
       "                                                text\n",
       "0  कांग्रेस नेता बलजिंदर सिंह की पंजाब में घर के ...\n",
       "1  केंद्रीय मंत्री बोले- महिला आरक्षण लाने का साह...\n",
       "2  ओपीएस लागू करने से अस्थिर हो सकती है राज्यों क...\n",
       "3  तमिलनाडु में शावरमा खाने से 14 वर्षीय छात्रा क...\n",
       "4  मणिपुर में मुख्यमंत्री के आश्वासन के बाद मारे ..."
      ]
     },
     "execution_count": 117,
     "metadata": {},
     "output_type": "execute_result"
    }
   ],
   "source": [
    "data.head()"
   ]
  },
  {
   "cell_type": "code",
   "execution_count": 118,
   "id": "6882c73a-6fe2-44a4-9396-510e569430a4",
   "metadata": {},
   "outputs": [],
   "source": [
    "data['Language'] = 'Hindi'"
   ]
  },
  {
   "cell_type": "code",
   "execution_count": 119,
   "id": "8b0f6b46-1fd3-4fa2-9f8e-23d10ce638e6",
   "metadata": {},
   "outputs": [
    {
     "data": {
      "text/html": [
       "<div>\n",
       "<style scoped>\n",
       "    .dataframe tbody tr th:only-of-type {\n",
       "        vertical-align: middle;\n",
       "    }\n",
       "\n",
       "    .dataframe tbody tr th {\n",
       "        vertical-align: top;\n",
       "    }\n",
       "\n",
       "    .dataframe thead th {\n",
       "        text-align: right;\n",
       "    }\n",
       "</style>\n",
       "<table border=\"1\" class=\"dataframe\">\n",
       "  <thead>\n",
       "    <tr style=\"text-align: right;\">\n",
       "      <th></th>\n",
       "      <th>text</th>\n",
       "      <th>Language</th>\n",
       "    </tr>\n",
       "  </thead>\n",
       "  <tbody>\n",
       "    <tr>\n",
       "      <th>0</th>\n",
       "      <td>कांग्रेस नेता बलजिंदर सिंह की पंजाब में घर के ...</td>\n",
       "      <td>Hindi</td>\n",
       "    </tr>\n",
       "    <tr>\n",
       "      <th>1</th>\n",
       "      <td>केंद्रीय मंत्री बोले- महिला आरक्षण लाने का साह...</td>\n",
       "      <td>Hindi</td>\n",
       "    </tr>\n",
       "    <tr>\n",
       "      <th>2</th>\n",
       "      <td>ओपीएस लागू करने से अस्थिर हो सकती है राज्यों क...</td>\n",
       "      <td>Hindi</td>\n",
       "    </tr>\n",
       "    <tr>\n",
       "      <th>3</th>\n",
       "      <td>तमिलनाडु में शावरमा खाने से 14 वर्षीय छात्रा क...</td>\n",
       "      <td>Hindi</td>\n",
       "    </tr>\n",
       "    <tr>\n",
       "      <th>4</th>\n",
       "      <td>मणिपुर में मुख्यमंत्री के आश्वासन के बाद मारे ...</td>\n",
       "      <td>Hindi</td>\n",
       "    </tr>\n",
       "  </tbody>\n",
       "</table>\n",
       "</div>"
      ],
      "text/plain": [
       "                                                text Language\n",
       "0  कांग्रेस नेता बलजिंदर सिंह की पंजाब में घर के ...    Hindi\n",
       "1  केंद्रीय मंत्री बोले- महिला आरक्षण लाने का साह...    Hindi\n",
       "2  ओपीएस लागू करने से अस्थिर हो सकती है राज्यों क...    Hindi\n",
       "3  तमिलनाडु में शावरमा खाने से 14 वर्षीय छात्रा क...    Hindi\n",
       "4  मणिपुर में मुख्यमंत्री के आश्वासन के बाद मारे ...    Hindi"
      ]
     },
     "execution_count": 119,
     "metadata": {},
     "output_type": "execute_result"
    }
   ],
   "source": [
    "data.head()"
   ]
  },
  {
   "cell_type": "code",
   "execution_count": 121,
   "id": "12ba9939-75cc-4c55-aa8a-de163dfcc367",
   "metadata": {},
   "outputs": [],
   "source": [
    "data.to_csv('final/Hindi.csv', index=None)"
   ]
  },
  {
   "cell_type": "markdown",
   "id": "e3c5b539-a7c4-4817-9189-901b80ab030f",
   "metadata": {},
   "source": [
    "## Kannada"
   ]
  },
  {
   "cell_type": "code",
   "execution_count": 122,
   "id": "52c1b5cb-1f17-480d-ba11-98717f584a1b",
   "metadata": {},
   "outputs": [
    {
     "name": "stdout",
     "output_type": "stream",
     "text": [
      "train.csv  valid.csv\n"
     ]
    }
   ],
   "source": [
    "ls datasets/Kannada/"
   ]
  },
  {
   "cell_type": "code",
   "execution_count": 124,
   "id": "31af4a05-d4a2-4ecc-8331-eb3197b0f2db",
   "metadata": {},
   "outputs": [],
   "source": [
    "data = pd.read_csv('datasets/Kannada/train.csv')"
   ]
  },
  {
   "cell_type": "code",
   "execution_count": 125,
   "id": "55cda873-7446-4986-952b-b32e2d432f97",
   "metadata": {},
   "outputs": [
    {
     "data": {
      "text/html": [
       "<div>\n",
       "<style scoped>\n",
       "    .dataframe tbody tr th:only-of-type {\n",
       "        vertical-align: middle;\n",
       "    }\n",
       "\n",
       "    .dataframe tbody tr th {\n",
       "        vertical-align: top;\n",
       "    }\n",
       "\n",
       "    .dataframe thead th {\n",
       "        text-align: right;\n",
       "    }\n",
       "</style>\n",
       "<table border=\"1\" class=\"dataframe\">\n",
       "  <thead>\n",
       "    <tr style=\"text-align: right;\">\n",
       "      <th></th>\n",
       "      <th>headline</th>\n",
       "      <th>label</th>\n",
       "    </tr>\n",
       "  </thead>\n",
       "  <tbody>\n",
       "    <tr>\n",
       "      <th>0</th>\n",
       "      <td>CWG18; ಕುಸ್ತಿಯಲ್ಲಿ ಚಿನ್ನಗಳಿಸಿದ ರಾಹುಲ್ ಅವಾರೆ, ಸ...</td>\n",
       "      <td>sports</td>\n",
       "    </tr>\n",
       "    <tr>\n",
       "      <th>1</th>\n",
       "      <td>ಏಷ್ಯಾ ಕಪ್ 2018: ಪಾಕ್ ವಿರುದ್ಧ ಘರ್ಜಿಸಲು ರೋಹಿತ್ ಸ...</td>\n",
       "      <td>sports</td>\n",
       "    </tr>\n",
       "    <tr>\n",
       "      <th>2</th>\n",
       "      <td>ಸಮಂತಾ ವಿಷಯದಲ್ಲಿ 'ಯೂ ಟರ್ನ್'​ ಹೊಡೆದ ನಾಗ ಚೈತನ್ಯ..!</td>\n",
       "      <td>entertainment</td>\n",
       "    </tr>\n",
       "    <tr>\n",
       "      <th>3</th>\n",
       "      <td>PHOTOS: ಐಶ್ ಬೇಬಿ ಸೌಂದರ್ಯದ ಗುಟ್ಟು ರಟ್ಟು: 40 ದಾಟ...</td>\n",
       "      <td>entertainment</td>\n",
       "    </tr>\n",
       "    <tr>\n",
       "      <th>4</th>\n",
       "      <td>ಟೀಂ ಇಂಡಿಯಾ ಆಯ್ಕೆ ಸಮಿತಿ ಸದಸ್ಯರ ಸಂಭಾವನೆ ಎಷ್ಟು ಗೊ...</td>\n",
       "      <td>sports</td>\n",
       "    </tr>\n",
       "  </tbody>\n",
       "</table>\n",
       "</div>"
      ],
      "text/plain": [
       "                                            headline          label\n",
       "0  CWG18; ಕುಸ್ತಿಯಲ್ಲಿ ಚಿನ್ನಗಳಿಸಿದ ರಾಹುಲ್ ಅವಾರೆ, ಸ...         sports\n",
       "1  ಏಷ್ಯಾ ಕಪ್ 2018: ಪಾಕ್ ವಿರುದ್ಧ ಘರ್ಜಿಸಲು ರೋಹಿತ್ ಸ...         sports\n",
       "2    ಸಮಂತಾ ವಿಷಯದಲ್ಲಿ 'ಯೂ ಟರ್ನ್'​ ಹೊಡೆದ ನಾಗ ಚೈತನ್ಯ..!  entertainment\n",
       "3  PHOTOS: ಐಶ್ ಬೇಬಿ ಸೌಂದರ್ಯದ ಗುಟ್ಟು ರಟ್ಟು: 40 ದಾಟ...  entertainment\n",
       "4  ಟೀಂ ಇಂಡಿಯಾ ಆಯ್ಕೆ ಸಮಿತಿ ಸದಸ್ಯರ ಸಂಭಾವನೆ ಎಷ್ಟು ಗೊ...         sports"
      ]
     },
     "execution_count": 125,
     "metadata": {},
     "output_type": "execute_result"
    }
   ],
   "source": [
    "data.head()"
   ]
  },
  {
   "cell_type": "code",
   "execution_count": 127,
   "id": "dc314a87-f2ee-471e-ad36-7db2cba0f3d6",
   "metadata": {},
   "outputs": [
    {
     "data": {
      "text/plain": [
       "'CWG18; ಕುಸ್ತಿಯಲ್ಲಿ ಚಿನ್ನಗಳಿಸಿದ ರಾಹುಲ್ ಅವಾರೆ, ಸುಶೀಲ್ ಕುಮಾರ್ \\u200b'"
      ]
     },
     "execution_count": 127,
     "metadata": {},
     "output_type": "execute_result"
    }
   ],
   "source": [
    "data['headline'][0]"
   ]
  },
  {
   "cell_type": "code",
   "execution_count": 128,
   "id": "3f817a68-6832-48e9-85f3-507d9291f698",
   "metadata": {},
   "outputs": [],
   "source": [
    "data = data[['headline']]"
   ]
  },
  {
   "cell_type": "code",
   "execution_count": 129,
   "id": "5939373e-d2ca-444a-ac42-2f84acaf5583",
   "metadata": {},
   "outputs": [
    {
     "data": {
      "text/html": [
       "<div>\n",
       "<style scoped>\n",
       "    .dataframe tbody tr th:only-of-type {\n",
       "        vertical-align: middle;\n",
       "    }\n",
       "\n",
       "    .dataframe tbody tr th {\n",
       "        vertical-align: top;\n",
       "    }\n",
       "\n",
       "    .dataframe thead th {\n",
       "        text-align: right;\n",
       "    }\n",
       "</style>\n",
       "<table border=\"1\" class=\"dataframe\">\n",
       "  <thead>\n",
       "    <tr style=\"text-align: right;\">\n",
       "      <th></th>\n",
       "      <th>headline</th>\n",
       "    </tr>\n",
       "  </thead>\n",
       "  <tbody>\n",
       "    <tr>\n",
       "      <th>0</th>\n",
       "      <td>CWG18; ಕುಸ್ತಿಯಲ್ಲಿ ಚಿನ್ನಗಳಿಸಿದ ರಾಹುಲ್ ಅವಾರೆ, ಸ...</td>\n",
       "    </tr>\n",
       "    <tr>\n",
       "      <th>1</th>\n",
       "      <td>ಏಷ್ಯಾ ಕಪ್ 2018: ಪಾಕ್ ವಿರುದ್ಧ ಘರ್ಜಿಸಲು ರೋಹಿತ್ ಸ...</td>\n",
       "    </tr>\n",
       "    <tr>\n",
       "      <th>2</th>\n",
       "      <td>ಸಮಂತಾ ವಿಷಯದಲ್ಲಿ 'ಯೂ ಟರ್ನ್'​ ಹೊಡೆದ ನಾಗ ಚೈತನ್ಯ..!</td>\n",
       "    </tr>\n",
       "    <tr>\n",
       "      <th>3</th>\n",
       "      <td>PHOTOS: ಐಶ್ ಬೇಬಿ ಸೌಂದರ್ಯದ ಗುಟ್ಟು ರಟ್ಟು: 40 ದಾಟ...</td>\n",
       "    </tr>\n",
       "    <tr>\n",
       "      <th>4</th>\n",
       "      <td>ಟೀಂ ಇಂಡಿಯಾ ಆಯ್ಕೆ ಸಮಿತಿ ಸದಸ್ಯರ ಸಂಭಾವನೆ ಎಷ್ಟು ಗೊ...</td>\n",
       "    </tr>\n",
       "  </tbody>\n",
       "</table>\n",
       "</div>"
      ],
      "text/plain": [
       "                                            headline\n",
       "0  CWG18; ಕುಸ್ತಿಯಲ್ಲಿ ಚಿನ್ನಗಳಿಸಿದ ರಾಹುಲ್ ಅವಾರೆ, ಸ...\n",
       "1  ಏಷ್ಯಾ ಕಪ್ 2018: ಪಾಕ್ ವಿರುದ್ಧ ಘರ್ಜಿಸಲು ರೋಹಿತ್ ಸ...\n",
       "2    ಸಮಂತಾ ವಿಷಯದಲ್ಲಿ 'ಯೂ ಟರ್ನ್'​ ಹೊಡೆದ ನಾಗ ಚೈತನ್ಯ..!\n",
       "3  PHOTOS: ಐಶ್ ಬೇಬಿ ಸೌಂದರ್ಯದ ಗುಟ್ಟು ರಟ್ಟು: 40 ದಾಟ...\n",
       "4  ಟೀಂ ಇಂಡಿಯಾ ಆಯ್ಕೆ ಸಮಿತಿ ಸದಸ್ಯರ ಸಂಭಾವನೆ ಎಷ್ಟು ಗೊ..."
      ]
     },
     "execution_count": 129,
     "metadata": {},
     "output_type": "execute_result"
    }
   ],
   "source": [
    "data.head()"
   ]
  },
  {
   "cell_type": "code",
   "execution_count": 131,
   "id": "0afb5720-4aa5-45d1-ab62-43f3fe80fce1",
   "metadata": {},
   "outputs": [],
   "source": [
    "data.rename(columns={\n",
    "    'headline': 'text'\n",
    "}, inplace=True)"
   ]
  },
  {
   "cell_type": "code",
   "execution_count": 132,
   "id": "26c6a18e-1b98-4c2b-a724-418ba47360a0",
   "metadata": {},
   "outputs": [
    {
     "data": {
      "text/html": [
       "<div>\n",
       "<style scoped>\n",
       "    .dataframe tbody tr th:only-of-type {\n",
       "        vertical-align: middle;\n",
       "    }\n",
       "\n",
       "    .dataframe tbody tr th {\n",
       "        vertical-align: top;\n",
       "    }\n",
       "\n",
       "    .dataframe thead th {\n",
       "        text-align: right;\n",
       "    }\n",
       "</style>\n",
       "<table border=\"1\" class=\"dataframe\">\n",
       "  <thead>\n",
       "    <tr style=\"text-align: right;\">\n",
       "      <th></th>\n",
       "      <th>text</th>\n",
       "    </tr>\n",
       "  </thead>\n",
       "  <tbody>\n",
       "    <tr>\n",
       "      <th>0</th>\n",
       "      <td>CWG18; ಕುಸ್ತಿಯಲ್ಲಿ ಚಿನ್ನಗಳಿಸಿದ ರಾಹುಲ್ ಅವಾರೆ, ಸ...</td>\n",
       "    </tr>\n",
       "    <tr>\n",
       "      <th>1</th>\n",
       "      <td>ಏಷ್ಯಾ ಕಪ್ 2018: ಪಾಕ್ ವಿರುದ್ಧ ಘರ್ಜಿಸಲು ರೋಹಿತ್ ಸ...</td>\n",
       "    </tr>\n",
       "    <tr>\n",
       "      <th>2</th>\n",
       "      <td>ಸಮಂತಾ ವಿಷಯದಲ್ಲಿ 'ಯೂ ಟರ್ನ್'​ ಹೊಡೆದ ನಾಗ ಚೈತನ್ಯ..!</td>\n",
       "    </tr>\n",
       "    <tr>\n",
       "      <th>3</th>\n",
       "      <td>PHOTOS: ಐಶ್ ಬೇಬಿ ಸೌಂದರ್ಯದ ಗುಟ್ಟು ರಟ್ಟು: 40 ದಾಟ...</td>\n",
       "    </tr>\n",
       "    <tr>\n",
       "      <th>4</th>\n",
       "      <td>ಟೀಂ ಇಂಡಿಯಾ ಆಯ್ಕೆ ಸಮಿತಿ ಸದಸ್ಯರ ಸಂಭಾವನೆ ಎಷ್ಟು ಗೊ...</td>\n",
       "    </tr>\n",
       "  </tbody>\n",
       "</table>\n",
       "</div>"
      ],
      "text/plain": [
       "                                                text\n",
       "0  CWG18; ಕುಸ್ತಿಯಲ್ಲಿ ಚಿನ್ನಗಳಿಸಿದ ರಾಹುಲ್ ಅವಾರೆ, ಸ...\n",
       "1  ಏಷ್ಯಾ ಕಪ್ 2018: ಪಾಕ್ ವಿರುದ್ಧ ಘರ್ಜಿಸಲು ರೋಹಿತ್ ಸ...\n",
       "2    ಸಮಂತಾ ವಿಷಯದಲ್ಲಿ 'ಯೂ ಟರ್ನ್'​ ಹೊಡೆದ ನಾಗ ಚೈತನ್ಯ..!\n",
       "3  PHOTOS: ಐಶ್ ಬೇಬಿ ಸೌಂದರ್ಯದ ಗುಟ್ಟು ರಟ್ಟು: 40 ದಾಟ...\n",
       "4  ಟೀಂ ಇಂಡಿಯಾ ಆಯ್ಕೆ ಸಮಿತಿ ಸದಸ್ಯರ ಸಂಭಾವನೆ ಎಷ್ಟು ಗೊ..."
      ]
     },
     "execution_count": 132,
     "metadata": {},
     "output_type": "execute_result"
    }
   ],
   "source": [
    "data.head()"
   ]
  },
  {
   "cell_type": "code",
   "execution_count": 133,
   "id": "43223272-6eb9-485a-9893-d8c76fec1523",
   "metadata": {},
   "outputs": [
    {
     "data": {
      "text/plain": [
       "text    0\n",
       "dtype: int64"
      ]
     },
     "execution_count": 133,
     "metadata": {},
     "output_type": "execute_result"
    }
   ],
   "source": [
    "data.isna().sum()"
   ]
  },
  {
   "cell_type": "code",
   "execution_count": 134,
   "id": "358f50d4-e454-4b76-989c-a954261b6783",
   "metadata": {},
   "outputs": [
    {
     "data": {
      "text/plain": [
       "53"
      ]
     },
     "execution_count": 134,
     "metadata": {},
     "output_type": "execute_result"
    }
   ],
   "source": [
    "data.duplicated().sum()"
   ]
  },
  {
   "cell_type": "code",
   "execution_count": 135,
   "id": "8705aef1-0e56-4766-850e-076bcc6e89dc",
   "metadata": {},
   "outputs": [],
   "source": [
    "data.drop_duplicates(inplace=True)"
   ]
  },
  {
   "cell_type": "code",
   "execution_count": 136,
   "id": "fb277f33-c44c-4002-ad1e-69cb3030dea6",
   "metadata": {},
   "outputs": [
    {
     "data": {
      "text/plain": [
       "(5114, 1)"
      ]
     },
     "execution_count": 136,
     "metadata": {},
     "output_type": "execute_result"
    }
   ],
   "source": [
    "data.shape"
   ]
  },
  {
   "cell_type": "code",
   "execution_count": 137,
   "id": "9b633f19-d5b9-4716-b862-72c65abd6f60",
   "metadata": {},
   "outputs": [],
   "source": [
    "data['language'] = 'Kannada'"
   ]
  },
  {
   "cell_type": "code",
   "execution_count": 138,
   "id": "7d6bbfda-761d-4379-9531-a42075a99c22",
   "metadata": {},
   "outputs": [
    {
     "data": {
      "text/html": [
       "<div>\n",
       "<style scoped>\n",
       "    .dataframe tbody tr th:only-of-type {\n",
       "        vertical-align: middle;\n",
       "    }\n",
       "\n",
       "    .dataframe tbody tr th {\n",
       "        vertical-align: top;\n",
       "    }\n",
       "\n",
       "    .dataframe thead th {\n",
       "        text-align: right;\n",
       "    }\n",
       "</style>\n",
       "<table border=\"1\" class=\"dataframe\">\n",
       "  <thead>\n",
       "    <tr style=\"text-align: right;\">\n",
       "      <th></th>\n",
       "      <th>text</th>\n",
       "      <th>language</th>\n",
       "    </tr>\n",
       "  </thead>\n",
       "  <tbody>\n",
       "    <tr>\n",
       "      <th>0</th>\n",
       "      <td>CWG18; ಕುಸ್ತಿಯಲ್ಲಿ ಚಿನ್ನಗಳಿಸಿದ ರಾಹುಲ್ ಅವಾರೆ, ಸ...</td>\n",
       "      <td>Kannada</td>\n",
       "    </tr>\n",
       "    <tr>\n",
       "      <th>1</th>\n",
       "      <td>ಏಷ್ಯಾ ಕಪ್ 2018: ಪಾಕ್ ವಿರುದ್ಧ ಘರ್ಜಿಸಲು ರೋಹಿತ್ ಸ...</td>\n",
       "      <td>Kannada</td>\n",
       "    </tr>\n",
       "    <tr>\n",
       "      <th>2</th>\n",
       "      <td>ಸಮಂತಾ ವಿಷಯದಲ್ಲಿ 'ಯೂ ಟರ್ನ್'​ ಹೊಡೆದ ನಾಗ ಚೈತನ್ಯ..!</td>\n",
       "      <td>Kannada</td>\n",
       "    </tr>\n",
       "    <tr>\n",
       "      <th>3</th>\n",
       "      <td>PHOTOS: ಐಶ್ ಬೇಬಿ ಸೌಂದರ್ಯದ ಗುಟ್ಟು ರಟ್ಟು: 40 ದಾಟ...</td>\n",
       "      <td>Kannada</td>\n",
       "    </tr>\n",
       "    <tr>\n",
       "      <th>4</th>\n",
       "      <td>ಟೀಂ ಇಂಡಿಯಾ ಆಯ್ಕೆ ಸಮಿತಿ ಸದಸ್ಯರ ಸಂಭಾವನೆ ಎಷ್ಟು ಗೊ...</td>\n",
       "      <td>Kannada</td>\n",
       "    </tr>\n",
       "  </tbody>\n",
       "</table>\n",
       "</div>"
      ],
      "text/plain": [
       "                                                text language\n",
       "0  CWG18; ಕುಸ್ತಿಯಲ್ಲಿ ಚಿನ್ನಗಳಿಸಿದ ರಾಹುಲ್ ಅವಾರೆ, ಸ...  Kannada\n",
       "1  ಏಷ್ಯಾ ಕಪ್ 2018: ಪಾಕ್ ವಿರುದ್ಧ ಘರ್ಜಿಸಲು ರೋಹಿತ್ ಸ...  Kannada\n",
       "2    ಸಮಂತಾ ವಿಷಯದಲ್ಲಿ 'ಯೂ ಟರ್ನ್'​ ಹೊಡೆದ ನಾಗ ಚೈತನ್ಯ..!  Kannada\n",
       "3  PHOTOS: ಐಶ್ ಬೇಬಿ ಸೌಂದರ್ಯದ ಗುಟ್ಟು ರಟ್ಟು: 40 ದಾಟ...  Kannada\n",
       "4  ಟೀಂ ಇಂಡಿಯಾ ಆಯ್ಕೆ ಸಮಿತಿ ಸದಸ್ಯರ ಸಂಭಾವನೆ ಎಷ್ಟು ಗೊ...  Kannada"
      ]
     },
     "execution_count": 138,
     "metadata": {},
     "output_type": "execute_result"
    }
   ],
   "source": [
    "data.head()"
   ]
  },
  {
   "cell_type": "code",
   "execution_count": 140,
   "id": "697734d2-3d00-4ffb-a788-6a9ecc14b8c5",
   "metadata": {},
   "outputs": [],
   "source": [
    "data.to_csv('final/Kannada.csv', index=None)"
   ]
  },
  {
   "cell_type": "markdown",
   "id": "5cb9e5cc-d03f-49e0-8259-d93750267c95",
   "metadata": {},
   "source": [
    "## Malayalam"
   ]
  },
  {
   "cell_type": "code",
   "execution_count": 144,
   "id": "c9847382-13d4-4c48-823e-efe216edd6c4",
   "metadata": {},
   "outputs": [
    {
     "name": "stdout",
     "output_type": "stream",
     "text": [
      "news_90k.csv\n"
     ]
    }
   ],
   "source": [
    "ls datasets/Malayalam/"
   ]
  },
  {
   "cell_type": "code",
   "execution_count": 145,
   "id": "18c75ba4-7c3f-44be-a783-7745d24bb560",
   "metadata": {},
   "outputs": [],
   "source": [
    "data = pd.read_csv('datasets/Malayalam/news_90k.csv')"
   ]
  },
  {
   "cell_type": "code",
   "execution_count": 146,
   "id": "f6c5114d-b6a7-4326-865d-c80cbc81b130",
   "metadata": {},
   "outputs": [
    {
     "data": {
      "text/html": [
       "<div>\n",
       "<style scoped>\n",
       "    .dataframe tbody tr th:only-of-type {\n",
       "        vertical-align: middle;\n",
       "    }\n",
       "\n",
       "    .dataframe tbody tr th {\n",
       "        vertical-align: top;\n",
       "    }\n",
       "\n",
       "    .dataframe thead th {\n",
       "        text-align: right;\n",
       "    }\n",
       "</style>\n",
       "<table border=\"1\" class=\"dataframe\">\n",
       "  <thead>\n",
       "    <tr style=\"text-align: right;\">\n",
       "      <th></th>\n",
       "      <th>headline</th>\n",
       "      <th>para</th>\n",
       "    </tr>\n",
       "  </thead>\n",
       "  <tbody>\n",
       "    <tr>\n",
       "      <th>0</th>\n",
       "      <td>കനകദുർഗയും വിളയോടി ശിവൻകുട്ടിയും വിവാഹിതരായി</td>\n",
       "      <td>മലപ്പുറം∙യുവതികൾക്ക് പ്രവേശിക്കാമെന്ന സുപ്രീംക...</td>\n",
       "    </tr>\n",
       "    <tr>\n",
       "      <th>1</th>\n",
       "      <td>ശാരീരിക ബന്ധത്തിലേർപ്പെടുന്നതിനിടെ യുവാവ് മരിച...</td>\n",
       "      <td>നാഗ്പൂർ∙ ഹോട്ടൽ മുറിയിൽ കാമുകിക്കൊപ്പം ശാരീരിക...</td>\n",
       "    </tr>\n",
       "    <tr>\n",
       "      <th>2</th>\n",
       "      <td>ഗോവ മോഡലിൽ കശുമാങ്ങയിൽ നിന്നും ഫെനി ഉത്പാദിപ്പ...</td>\n",
       "      <td>കണ്ണൂർ ∙ സംസ്ഥാനത്ത് കശുമാങ്ങാനീരു വാറ്റിയുള്ള...</td>\n",
       "    </tr>\n",
       "    <tr>\n",
       "      <th>3</th>\n",
       "      <td>ഉമേഷിനെ കൊലയാളികൾ മുൻപും കാത്തിരുന്നു; തുടരെ ...</td>\n",
       "      <td>മുംബൈ∙ ജൂൺ 21നു മഹാരാഷ്ട്രയിലെ അമരാവതിയിൽ കൊല...</td>\n",
       "    </tr>\n",
       "    <tr>\n",
       "      <th>4</th>\n",
       "      <td>നൂപുർ ശർമയ്‌ക്കെതിരായ വിമർശനം: സുപ്രീം കോടതിക...</td>\n",
       "      <td>ന്യൂഡൽഹി ∙ ചാനൽ ചർച്ചയ്ക്കിടെ പ്രവാചകനെതിരെ നട...</td>\n",
       "    </tr>\n",
       "  </tbody>\n",
       "</table>\n",
       "</div>"
      ],
      "text/plain": [
       "                                            headline  \\\n",
       "0       കനകദുർഗയും വിളയോടി ശിവൻകുട്ടിയും വിവാഹിതരായി   \n",
       "1  ശാരീരിക ബന്ധത്തിലേർപ്പെടുന്നതിനിടെ യുവാവ് മരിച...   \n",
       "2  ഗോവ മോഡലിൽ കശുമാങ്ങയിൽ നിന്നും ഫെനി ഉത്പാദിപ്പ...   \n",
       "3  ഉമേഷിനെ കൊലയാളികൾ മുൻപും കാത്തിരുന്നു; തുടരെ ...   \n",
       "4  നൂപുർ ശർമയ്‌ക്കെതിരായ വിമർശനം: സുപ്രീം കോടതിക...   \n",
       "\n",
       "                                                para  \n",
       "0  മലപ്പുറം∙യുവതികൾക്ക് പ്രവേശിക്കാമെന്ന സുപ്രീംക...  \n",
       "1  നാഗ്പൂർ∙ ഹോട്ടൽ മുറിയിൽ കാമുകിക്കൊപ്പം ശാരീരിക...  \n",
       "2  കണ്ണൂർ ∙ സംസ്ഥാനത്ത് കശുമാങ്ങാനീരു വാറ്റിയുള്ള...  \n",
       "3  മുംബൈ∙ ജൂൺ 21നു മഹാരാഷ്ട്രയിലെ അമരാവതിയിൽ കൊല...  \n",
       "4  ന്യൂഡൽഹി ∙ ചാനൽ ചർച്ചയ്ക്കിടെ പ്രവാചകനെതിരെ നട...  "
      ]
     },
     "execution_count": 146,
     "metadata": {},
     "output_type": "execute_result"
    }
   ],
   "source": [
    "data.head()"
   ]
  },
  {
   "cell_type": "code",
   "execution_count": 148,
   "id": "fee7de4f-fb7e-4e9b-9028-f8fb7b3c8da6",
   "metadata": {},
   "outputs": [
    {
     "data": {
      "text/plain": [
       "'ഷോപ്പിങ് മാളിൽ റഷ്യൻ മിസൈൽ: 13 മരണം'"
      ]
     },
     "execution_count": 148,
     "metadata": {},
     "output_type": "execute_result"
    }
   ],
   "source": [
    "data['headline'][99]"
   ]
  },
  {
   "cell_type": "code",
   "execution_count": 149,
   "id": "d00a3adf-7a04-493c-9af3-1819f56732ca",
   "metadata": {},
   "outputs": [],
   "source": [
    "data = data[['headline']]"
   ]
  },
  {
   "cell_type": "code",
   "execution_count": 150,
   "id": "814a5bec-b0b7-4fbb-88a4-485cf00edf0b",
   "metadata": {},
   "outputs": [
    {
     "data": {
      "text/html": [
       "<div>\n",
       "<style scoped>\n",
       "    .dataframe tbody tr th:only-of-type {\n",
       "        vertical-align: middle;\n",
       "    }\n",
       "\n",
       "    .dataframe tbody tr th {\n",
       "        vertical-align: top;\n",
       "    }\n",
       "\n",
       "    .dataframe thead th {\n",
       "        text-align: right;\n",
       "    }\n",
       "</style>\n",
       "<table border=\"1\" class=\"dataframe\">\n",
       "  <thead>\n",
       "    <tr style=\"text-align: right;\">\n",
       "      <th></th>\n",
       "      <th>headline</th>\n",
       "    </tr>\n",
       "  </thead>\n",
       "  <tbody>\n",
       "    <tr>\n",
       "      <th>0</th>\n",
       "      <td>കനകദുർഗയും വിളയോടി ശിവൻകുട്ടിയും വിവാഹിതരായി</td>\n",
       "    </tr>\n",
       "    <tr>\n",
       "      <th>1</th>\n",
       "      <td>ശാരീരിക ബന്ധത്തിലേർപ്പെടുന്നതിനിടെ യുവാവ് മരിച...</td>\n",
       "    </tr>\n",
       "    <tr>\n",
       "      <th>2</th>\n",
       "      <td>ഗോവ മോഡലിൽ കശുമാങ്ങയിൽ നിന്നും ഫെനി ഉത്പാദിപ്പ...</td>\n",
       "    </tr>\n",
       "    <tr>\n",
       "      <th>3</th>\n",
       "      <td>ഉമേഷിനെ കൊലയാളികൾ മുൻപും കാത്തിരുന്നു; തുടരെ ...</td>\n",
       "    </tr>\n",
       "    <tr>\n",
       "      <th>4</th>\n",
       "      <td>നൂപുർ ശർമയ്‌ക്കെതിരായ വിമർശനം: സുപ്രീം കോടതിക...</td>\n",
       "    </tr>\n",
       "  </tbody>\n",
       "</table>\n",
       "</div>"
      ],
      "text/plain": [
       "                                            headline\n",
       "0       കനകദുർഗയും വിളയോടി ശിവൻകുട്ടിയും വിവാഹിതരായി\n",
       "1  ശാരീരിക ബന്ധത്തിലേർപ്പെടുന്നതിനിടെ യുവാവ് മരിച...\n",
       "2  ഗോവ മോഡലിൽ കശുമാങ്ങയിൽ നിന്നും ഫെനി ഉത്പാദിപ്പ...\n",
       "3  ഉമേഷിനെ കൊലയാളികൾ മുൻപും കാത്തിരുന്നു; തുടരെ ...\n",
       "4  നൂപുർ ശർമയ്‌ക്കെതിരായ വിമർശനം: സുപ്രീം കോടതിക..."
      ]
     },
     "execution_count": 150,
     "metadata": {},
     "output_type": "execute_result"
    }
   ],
   "source": [
    "data.head()"
   ]
  },
  {
   "cell_type": "code",
   "execution_count": 151,
   "id": "00133630-857f-4401-9607-5a12991f52ff",
   "metadata": {},
   "outputs": [
    {
     "data": {
      "text/plain": [
       "headline    0\n",
       "dtype: int64"
      ]
     },
     "execution_count": 151,
     "metadata": {},
     "output_type": "execute_result"
    }
   ],
   "source": [
    "data.isna().sum()"
   ]
  },
  {
   "cell_type": "code",
   "execution_count": 152,
   "id": "03a2d7ab-2fe7-45f3-a722-b59e6d21b6ad",
   "metadata": {},
   "outputs": [
    {
     "data": {
      "text/plain": [
       "0"
      ]
     },
     "execution_count": 152,
     "metadata": {},
     "output_type": "execute_result"
    }
   ],
   "source": [
    "data.duplicated().sum()"
   ]
  },
  {
   "cell_type": "code",
   "execution_count": 153,
   "id": "bf1e2069-b04b-4477-b12c-0b0f67840038",
   "metadata": {},
   "outputs": [
    {
     "data": {
      "text/plain": [
       "(89934, 1)"
      ]
     },
     "execution_count": 153,
     "metadata": {},
     "output_type": "execute_result"
    }
   ],
   "source": [
    "data.shape"
   ]
  },
  {
   "cell_type": "code",
   "execution_count": 154,
   "id": "b8ccb415-905d-495b-99b9-d4bc4cc88a66",
   "metadata": {},
   "outputs": [],
   "source": [
    "data['language'] = 'Malayalam'"
   ]
  },
  {
   "cell_type": "code",
   "execution_count": 155,
   "id": "b80db36d-b0db-4018-b507-2b834cfc9e2d",
   "metadata": {},
   "outputs": [
    {
     "data": {
      "text/html": [
       "<div>\n",
       "<style scoped>\n",
       "    .dataframe tbody tr th:only-of-type {\n",
       "        vertical-align: middle;\n",
       "    }\n",
       "\n",
       "    .dataframe tbody tr th {\n",
       "        vertical-align: top;\n",
       "    }\n",
       "\n",
       "    .dataframe thead th {\n",
       "        text-align: right;\n",
       "    }\n",
       "</style>\n",
       "<table border=\"1\" class=\"dataframe\">\n",
       "  <thead>\n",
       "    <tr style=\"text-align: right;\">\n",
       "      <th></th>\n",
       "      <th>headline</th>\n",
       "      <th>language</th>\n",
       "    </tr>\n",
       "  </thead>\n",
       "  <tbody>\n",
       "    <tr>\n",
       "      <th>0</th>\n",
       "      <td>കനകദുർഗയും വിളയോടി ശിവൻകുട്ടിയും വിവാഹിതരായി</td>\n",
       "      <td>Malayalam</td>\n",
       "    </tr>\n",
       "    <tr>\n",
       "      <th>1</th>\n",
       "      <td>ശാരീരിക ബന്ധത്തിലേർപ്പെടുന്നതിനിടെ യുവാവ് മരിച...</td>\n",
       "      <td>Malayalam</td>\n",
       "    </tr>\n",
       "    <tr>\n",
       "      <th>2</th>\n",
       "      <td>ഗോവ മോഡലിൽ കശുമാങ്ങയിൽ നിന്നും ഫെനി ഉത്പാദിപ്പ...</td>\n",
       "      <td>Malayalam</td>\n",
       "    </tr>\n",
       "    <tr>\n",
       "      <th>3</th>\n",
       "      <td>ഉമേഷിനെ കൊലയാളികൾ മുൻപും കാത്തിരുന്നു; തുടരെ ...</td>\n",
       "      <td>Malayalam</td>\n",
       "    </tr>\n",
       "    <tr>\n",
       "      <th>4</th>\n",
       "      <td>നൂപുർ ശർമയ്‌ക്കെതിരായ വിമർശനം: സുപ്രീം കോടതിക...</td>\n",
       "      <td>Malayalam</td>\n",
       "    </tr>\n",
       "  </tbody>\n",
       "</table>\n",
       "</div>"
      ],
      "text/plain": [
       "                                            headline   language\n",
       "0       കനകദുർഗയും വിളയോടി ശിവൻകുട്ടിയും വിവാഹിതരായി  Malayalam\n",
       "1  ശാരീരിക ബന്ധത്തിലേർപ്പെടുന്നതിനിടെ യുവാവ് മരിച...  Malayalam\n",
       "2  ഗോവ മോഡലിൽ കശുമാങ്ങയിൽ നിന്നും ഫെനി ഉത്പാദിപ്പ...  Malayalam\n",
       "3  ഉമേഷിനെ കൊലയാളികൾ മുൻപും കാത്തിരുന്നു; തുടരെ ...  Malayalam\n",
       "4  നൂപുർ ശർമയ്‌ക്കെതിരായ വിമർശനം: സുപ്രീം കോടതിക...  Malayalam"
      ]
     },
     "execution_count": 155,
     "metadata": {},
     "output_type": "execute_result"
    }
   ],
   "source": [
    "data.head()"
   ]
  },
  {
   "cell_type": "code",
   "execution_count": 157,
   "id": "ae42c603-ce5d-4c5c-a663-9d10d068ad3c",
   "metadata": {},
   "outputs": [],
   "source": [
    "data.to_csv('final/Malayalam.csv', index=None)"
   ]
  },
  {
   "cell_type": "markdown",
   "id": "1dbde6c4-a8c4-4bc3-bd39-2f26c2cdb64d",
   "metadata": {},
   "source": [
    "## Odiya"
   ]
  },
  {
   "cell_type": "code",
   "execution_count": 160,
   "id": "ac140757-312b-4475-b1a2-9f3bcdf787ed",
   "metadata": {},
   "outputs": [
    {
     "name": "stdout",
     "output_type": "stream",
     "text": [
      "train.csv  valid.csv\n"
     ]
    }
   ],
   "source": [
    "ls datasets/Odia/"
   ]
  },
  {
   "cell_type": "code",
   "execution_count": 161,
   "id": "341e3730-8e00-419b-9e72-bf76e4013380",
   "metadata": {},
   "outputs": [],
   "source": [
    "data = pd.read_csv('datasets/Odia/train.csv')"
   ]
  },
  {
   "cell_type": "code",
   "execution_count": 162,
   "id": "5b81b96f-5464-4505-8354-788b3c4d4790",
   "metadata": {},
   "outputs": [
    {
     "data": {
      "text/html": [
       "<div>\n",
       "<style scoped>\n",
       "    .dataframe tbody tr th:only-of-type {\n",
       "        vertical-align: middle;\n",
       "    }\n",
       "\n",
       "    .dataframe tbody tr th {\n",
       "        vertical-align: top;\n",
       "    }\n",
       "\n",
       "    .dataframe thead th {\n",
       "        text-align: right;\n",
       "    }\n",
       "</style>\n",
       "<table border=\"1\" class=\"dataframe\">\n",
       "  <thead>\n",
       "    <tr style=\"text-align: right;\">\n",
       "      <th></th>\n",
       "      <th>headings</th>\n",
       "      <th>label</th>\n",
       "    </tr>\n",
       "  </thead>\n",
       "  <tbody>\n",
       "    <tr>\n",
       "      <th>0</th>\n",
       "      <td>ଅବସର ପାଇଁ ଚିନ୍ତା ନାହିଁ: ମାତ୍ର ୩୩% ଲୋକ କରୁଛନ୍ତ...</td>\n",
       "      <td>business</td>\n",
       "    </tr>\n",
       "    <tr>\n",
       "      <th>1</th>\n",
       "      <td>‘ପଦ୍ମାବତ୍‌’ ରିଲିଜ୍‌ ଉପରେ କଟକଣା ଜାରି କଲା ହରିଆଣା…</td>\n",
       "      <td>entertainment</td>\n",
       "    </tr>\n",
       "    <tr>\n",
       "      <th>2</th>\n",
       "      <td>ହାମିଲଟନ୍‌ ଟେଷ୍ଟରେ େଓ୍ଵଷ୍ଟଇଣ୍ଡିଜ୍‌ ୨୪୦ ରନ୍‌ରେ ...</td>\n",
       "      <td>sports</td>\n",
       "    </tr>\n",
       "    <tr>\n",
       "      <th>3</th>\n",
       "      <td>ଏହି ବଲିଉଡ୍‌ ଅଭିନେତ୍ରୀଙ୍କ ନାଁରେ ରଖାଗଲା ଗଣ୍ଡାର ...</td>\n",
       "      <td>entertainment</td>\n",
       "    </tr>\n",
       "    <tr>\n",
       "      <th>4</th>\n",
       "      <td>ଗିଲ୍‌କ୍ରିଷ୍ଟ, ବାଉଚର ଓ ସାଙ୍ଗାକାରାଙ୍କ ପରେ ଚତୁର୍...</td>\n",
       "      <td>sports</td>\n",
       "    </tr>\n",
       "  </tbody>\n",
       "</table>\n",
       "</div>"
      ],
      "text/plain": [
       "                                            headings          label\n",
       "0   ଅବସର ପାଇଁ ଚିନ୍ତା ନାହିଁ: ମାତ୍ର ୩୩% ଲୋକ କରୁଛନ୍ତ...       business\n",
       "1   ‘ପଦ୍ମାବତ୍‌’ ରିଲିଜ୍‌ ଉପରେ କଟକଣା ଜାରି କଲା ହରିଆଣା…   entertainment\n",
       "2   ହାମିଲଟନ୍‌ ଟେଷ୍ଟରେ େଓ୍ଵଷ୍ଟଇଣ୍ଡିଜ୍‌ ୨୪୦ ରନ୍‌ରେ ...         sports\n",
       "3   ଏହି ବଲିଉଡ୍‌ ଅଭିନେତ୍ରୀଙ୍କ ନାଁରେ ରଖାଗଲା ଗଣ୍ଡାର ...  entertainment\n",
       "4   ଗିଲ୍‌କ୍ରିଷ୍ଟ, ବାଉଚର ଓ ସାଙ୍ଗାକାରାଙ୍କ ପରେ ଚତୁର୍...         sports"
      ]
     },
     "execution_count": 162,
     "metadata": {},
     "output_type": "execute_result"
    }
   ],
   "source": [
    "data.head()"
   ]
  },
  {
   "cell_type": "code",
   "execution_count": 164,
   "id": "179d4f57-088e-4a69-be44-4078459bb91d",
   "metadata": {},
   "outputs": [
    {
     "data": {
      "text/plain": [
       "' ଅନିଲଙ୍କୁ\\u200c ଜେଲ ଯିବାକୁ ଦେବନି ରିଲାଏନ୍ସ '"
      ]
     },
     "execution_count": 164,
     "metadata": {},
     "output_type": "execute_result"
    }
   ],
   "source": [
    "data['headings'][99]"
   ]
  },
  {
   "cell_type": "code",
   "execution_count": 166,
   "id": "21227ed8-7ba6-4af2-902d-7c46ae297347",
   "metadata": {},
   "outputs": [],
   "source": [
    "data = data[['headings']]"
   ]
  },
  {
   "cell_type": "code",
   "execution_count": 167,
   "id": "963a70b1-e7bd-410f-81c7-52c128adfb1b",
   "metadata": {},
   "outputs": [
    {
     "data": {
      "text/html": [
       "<div>\n",
       "<style scoped>\n",
       "    .dataframe tbody tr th:only-of-type {\n",
       "        vertical-align: middle;\n",
       "    }\n",
       "\n",
       "    .dataframe tbody tr th {\n",
       "        vertical-align: top;\n",
       "    }\n",
       "\n",
       "    .dataframe thead th {\n",
       "        text-align: right;\n",
       "    }\n",
       "</style>\n",
       "<table border=\"1\" class=\"dataframe\">\n",
       "  <thead>\n",
       "    <tr style=\"text-align: right;\">\n",
       "      <th></th>\n",
       "      <th>headings</th>\n",
       "    </tr>\n",
       "  </thead>\n",
       "  <tbody>\n",
       "    <tr>\n",
       "      <th>0</th>\n",
       "      <td>ଅବସର ପାଇଁ ଚିନ୍ତା ନାହିଁ: ମାତ୍ର ୩୩% ଲୋକ କରୁଛନ୍ତ...</td>\n",
       "    </tr>\n",
       "    <tr>\n",
       "      <th>1</th>\n",
       "      <td>‘ପଦ୍ମାବତ୍‌’ ରିଲିଜ୍‌ ଉପରେ କଟକଣା ଜାରି କଲା ହରିଆଣା…</td>\n",
       "    </tr>\n",
       "    <tr>\n",
       "      <th>2</th>\n",
       "      <td>ହାମିଲଟନ୍‌ ଟେଷ୍ଟରେ େଓ୍ଵଷ୍ଟଇଣ୍ଡିଜ୍‌ ୨୪୦ ରନ୍‌ରେ ...</td>\n",
       "    </tr>\n",
       "    <tr>\n",
       "      <th>3</th>\n",
       "      <td>ଏହି ବଲିଉଡ୍‌ ଅଭିନେତ୍ରୀଙ୍କ ନାଁରେ ରଖାଗଲା ଗଣ୍ଡାର ...</td>\n",
       "    </tr>\n",
       "    <tr>\n",
       "      <th>4</th>\n",
       "      <td>ଗିଲ୍‌କ୍ରିଷ୍ଟ, ବାଉଚର ଓ ସାଙ୍ଗାକାରାଙ୍କ ପରେ ଚତୁର୍...</td>\n",
       "    </tr>\n",
       "  </tbody>\n",
       "</table>\n",
       "</div>"
      ],
      "text/plain": [
       "                                            headings\n",
       "0   ଅବସର ପାଇଁ ଚିନ୍ତା ନାହିଁ: ମାତ୍ର ୩୩% ଲୋକ କରୁଛନ୍ତ...\n",
       "1   ‘ପଦ୍ମାବତ୍‌’ ରିଲିଜ୍‌ ଉପରେ କଟକଣା ଜାରି କଲା ହରିଆଣା… \n",
       "2   ହାମିଲଟନ୍‌ ଟେଷ୍ଟରେ େଓ୍ଵଷ୍ଟଇଣ୍ଡିଜ୍‌ ୨୪୦ ରନ୍‌ରେ ...\n",
       "3   ଏହି ବଲିଉଡ୍‌ ଅଭିନେତ୍ରୀଙ୍କ ନାଁରେ ରଖାଗଲା ଗଣ୍ଡାର ...\n",
       "4   ଗିଲ୍‌କ୍ରିଷ୍ଟ, ବାଉଚର ଓ ସାଙ୍ଗାକାରାଙ୍କ ପରେ ଚତୁର୍..."
      ]
     },
     "execution_count": 167,
     "metadata": {},
     "output_type": "execute_result"
    }
   ],
   "source": [
    "data.head()"
   ]
  },
  {
   "cell_type": "code",
   "execution_count": 168,
   "id": "5c1dc443-e60a-42fd-b759-fb53b377eedb",
   "metadata": {},
   "outputs": [
    {
     "name": "stderr",
     "output_type": "stream",
     "text": [
      "/tmp/ipykernel_24282/1337912800.py:1: SettingWithCopyWarning: \n",
      "A value is trying to be set on a copy of a slice from a DataFrame\n",
      "\n",
      "See the caveats in the documentation: https://pandas.pydata.org/pandas-docs/stable/user_guide/indexing.html#returning-a-view-versus-a-copy\n",
      "  data.rename(columns={\n"
     ]
    }
   ],
   "source": [
    "data.rename(columns={\n",
    "    'headings': 'text'\n",
    "}, inplace=True)"
   ]
  },
  {
   "cell_type": "code",
   "execution_count": 169,
   "id": "fe64e59f-651b-4450-93b9-91955d6409a9",
   "metadata": {},
   "outputs": [],
   "source": [
    "data['language'] = 'Odia'"
   ]
  },
  {
   "cell_type": "code",
   "execution_count": 170,
   "id": "eb5f9ba3-0d30-4886-9d4f-0bc4dab355a3",
   "metadata": {},
   "outputs": [
    {
     "data": {
      "text/html": [
       "<div>\n",
       "<style scoped>\n",
       "    .dataframe tbody tr th:only-of-type {\n",
       "        vertical-align: middle;\n",
       "    }\n",
       "\n",
       "    .dataframe tbody tr th {\n",
       "        vertical-align: top;\n",
       "    }\n",
       "\n",
       "    .dataframe thead th {\n",
       "        text-align: right;\n",
       "    }\n",
       "</style>\n",
       "<table border=\"1\" class=\"dataframe\">\n",
       "  <thead>\n",
       "    <tr style=\"text-align: right;\">\n",
       "      <th></th>\n",
       "      <th>text</th>\n",
       "      <th>language</th>\n",
       "    </tr>\n",
       "  </thead>\n",
       "  <tbody>\n",
       "    <tr>\n",
       "      <th>0</th>\n",
       "      <td>ଅବସର ପାଇଁ ଚିନ୍ତା ନାହିଁ: ମାତ୍ର ୩୩% ଲୋକ କରୁଛନ୍ତ...</td>\n",
       "      <td>Odia</td>\n",
       "    </tr>\n",
       "    <tr>\n",
       "      <th>1</th>\n",
       "      <td>‘ପଦ୍ମାବତ୍‌’ ରିଲିଜ୍‌ ଉପରେ କଟକଣା ଜାରି କଲା ହରିଆଣା…</td>\n",
       "      <td>Odia</td>\n",
       "    </tr>\n",
       "    <tr>\n",
       "      <th>2</th>\n",
       "      <td>ହାମିଲଟନ୍‌ ଟେଷ୍ଟରେ େଓ୍ଵଷ୍ଟଇଣ୍ଡିଜ୍‌ ୨୪୦ ରନ୍‌ରେ ...</td>\n",
       "      <td>Odia</td>\n",
       "    </tr>\n",
       "    <tr>\n",
       "      <th>3</th>\n",
       "      <td>ଏହି ବଲିଉଡ୍‌ ଅଭିନେତ୍ରୀଙ୍କ ନାଁରେ ରଖାଗଲା ଗଣ୍ଡାର ...</td>\n",
       "      <td>Odia</td>\n",
       "    </tr>\n",
       "    <tr>\n",
       "      <th>4</th>\n",
       "      <td>ଗିଲ୍‌କ୍ରିଷ୍ଟ, ବାଉଚର ଓ ସାଙ୍ଗାକାରାଙ୍କ ପରେ ଚତୁର୍...</td>\n",
       "      <td>Odia</td>\n",
       "    </tr>\n",
       "  </tbody>\n",
       "</table>\n",
       "</div>"
      ],
      "text/plain": [
       "                                                text language\n",
       "0   ଅବସର ପାଇଁ ଚିନ୍ତା ନାହିଁ: ମାତ୍ର ୩୩% ଲୋକ କରୁଛନ୍ତ...     Odia\n",
       "1   ‘ପଦ୍ମାବତ୍‌’ ରିଲିଜ୍‌ ଉପରେ କଟକଣା ଜାରି କଲା ହରିଆଣା…      Odia\n",
       "2   ହାମିଲଟନ୍‌ ଟେଷ୍ଟରେ େଓ୍ଵଷ୍ଟଇଣ୍ଡିଜ୍‌ ୨୪୦ ରନ୍‌ରେ ...     Odia\n",
       "3   ଏହି ବଲିଉଡ୍‌ ଅଭିନେତ୍ରୀଙ୍କ ନାଁରେ ରଖାଗଲା ଗଣ୍ଡାର ...     Odia\n",
       "4   ଗିଲ୍‌କ୍ରିଷ୍ଟ, ବାଉଚର ଓ ସାଙ୍ଗାକାରାଙ୍କ ପରେ ଚତୁର୍...     Odia"
      ]
     },
     "execution_count": 170,
     "metadata": {},
     "output_type": "execute_result"
    }
   ],
   "source": [
    "data.head()"
   ]
  },
  {
   "cell_type": "code",
   "execution_count": 171,
   "id": "d155f76a-0003-4bdb-a92a-56e60dfdad17",
   "metadata": {},
   "outputs": [
    {
     "data": {
      "text/plain": [
       "text        0\n",
       "language    0\n",
       "dtype: int64"
      ]
     },
     "execution_count": 171,
     "metadata": {},
     "output_type": "execute_result"
    }
   ],
   "source": [
    "data.isna().sum()"
   ]
  },
  {
   "cell_type": "code",
   "execution_count": 172,
   "id": "4f2d1d6d-1c47-4cfd-8448-7d9960b85aab",
   "metadata": {},
   "outputs": [
    {
     "data": {
      "text/plain": [
       "8"
      ]
     },
     "execution_count": 172,
     "metadata": {},
     "output_type": "execute_result"
    }
   ],
   "source": [
    "data.duplicated().sum()"
   ]
  },
  {
   "cell_type": "code",
   "execution_count": 173,
   "id": "35ba8b42-0884-45dd-87d1-b1ae2721a098",
   "metadata": {},
   "outputs": [
    {
     "data": {
      "text/plain": [
       "(15200, 2)"
      ]
     },
     "execution_count": 173,
     "metadata": {},
     "output_type": "execute_result"
    }
   ],
   "source": [
    "data.shape"
   ]
  },
  {
   "cell_type": "code",
   "execution_count": 174,
   "id": "6c4c7fb6-43b0-43ee-b887-0c488179999b",
   "metadata": {},
   "outputs": [],
   "source": [
    "data.drop_duplicates(inplace=True)"
   ]
  },
  {
   "cell_type": "code",
   "execution_count": 178,
   "id": "7b45cd61-272f-4d2d-ab12-5014ac525e0a",
   "metadata": {},
   "outputs": [
    {
     "data": {
      "text/plain": [
       "(15192, 2)"
      ]
     },
     "execution_count": 178,
     "metadata": {},
     "output_type": "execute_result"
    }
   ],
   "source": [
    "data.shape"
   ]
  },
  {
   "cell_type": "code",
   "execution_count": 179,
   "id": "3a189789-4ac9-4f35-ad23-f8d27f8bd715",
   "metadata": {},
   "outputs": [],
   "source": [
    "odia1 = data.copy()"
   ]
  },
  {
   "cell_type": "code",
   "execution_count": 181,
   "id": "4ae75493-64c6-48a9-a737-3dab6bf98278",
   "metadata": {},
   "outputs": [
    {
     "data": {
      "text/html": [
       "<div>\n",
       "<style scoped>\n",
       "    .dataframe tbody tr th:only-of-type {\n",
       "        vertical-align: middle;\n",
       "    }\n",
       "\n",
       "    .dataframe tbody tr th {\n",
       "        vertical-align: top;\n",
       "    }\n",
       "\n",
       "    .dataframe thead th {\n",
       "        text-align: right;\n",
       "    }\n",
       "</style>\n",
       "<table border=\"1\" class=\"dataframe\">\n",
       "  <thead>\n",
       "    <tr style=\"text-align: right;\">\n",
       "      <th></th>\n",
       "      <th>text</th>\n",
       "      <th>language</th>\n",
       "    </tr>\n",
       "  </thead>\n",
       "  <tbody>\n",
       "    <tr>\n",
       "      <th>0</th>\n",
       "      <td>ଅବସର ପାଇଁ ଚିନ୍ତା ନାହିଁ: ମାତ୍ର ୩୩% ଲୋକ କରୁଛନ୍ତ...</td>\n",
       "      <td>Odia</td>\n",
       "    </tr>\n",
       "    <tr>\n",
       "      <th>1</th>\n",
       "      <td>‘ପଦ୍ମାବତ୍‌’ ରିଲିଜ୍‌ ଉପରେ କଟକଣା ଜାରି କଲା ହରିଆଣା…</td>\n",
       "      <td>Odia</td>\n",
       "    </tr>\n",
       "    <tr>\n",
       "      <th>2</th>\n",
       "      <td>ହାମିଲଟନ୍‌ ଟେଷ୍ଟରେ େଓ୍ଵଷ୍ଟଇଣ୍ଡିଜ୍‌ ୨୪୦ ରନ୍‌ରେ ...</td>\n",
       "      <td>Odia</td>\n",
       "    </tr>\n",
       "    <tr>\n",
       "      <th>3</th>\n",
       "      <td>ଏହି ବଲିଉଡ୍‌ ଅଭିନେତ୍ରୀଙ୍କ ନାଁରେ ରଖାଗଲା ଗଣ୍ଡାର ...</td>\n",
       "      <td>Odia</td>\n",
       "    </tr>\n",
       "    <tr>\n",
       "      <th>4</th>\n",
       "      <td>ଗିଲ୍‌କ୍ରିଷ୍ଟ, ବାଉଚର ଓ ସାଙ୍ଗାକାରାଙ୍କ ପରେ ଚତୁର୍...</td>\n",
       "      <td>Odia</td>\n",
       "    </tr>\n",
       "  </tbody>\n",
       "</table>\n",
       "</div>"
      ],
      "text/plain": [
       "                                                text language\n",
       "0   ଅବସର ପାଇଁ ଚିନ୍ତା ନାହିଁ: ମାତ୍ର ୩୩% ଲୋକ କରୁଛନ୍ତ...     Odia\n",
       "1   ‘ପଦ୍ମାବତ୍‌’ ରିଲିଜ୍‌ ଉପରେ କଟକଣା ଜାରି କଲା ହରିଆଣା…      Odia\n",
       "2   ହାମିଲଟନ୍‌ ଟେଷ୍ଟରେ େଓ୍ଵଷ୍ଟଇଣ୍ଡିଜ୍‌ ୨୪୦ ରନ୍‌ରେ ...     Odia\n",
       "3   ଏହି ବଲିଉଡ୍‌ ଅଭିନେତ୍ରୀଙ୍କ ନାଁରେ ରଖାଗଲା ଗଣ୍ଡାର ...     Odia\n",
       "4   ଗିଲ୍‌କ୍ରିଷ୍ଟ, ବାଉଚର ଓ ସାଙ୍ଗାକାରାଙ୍କ ପରେ ଚତୁର୍...     Odia"
      ]
     },
     "execution_count": 181,
     "metadata": {},
     "output_type": "execute_result"
    }
   ],
   "source": [
    "odia1.head()"
   ]
  },
  {
   "cell_type": "code",
   "execution_count": 182,
   "id": "2df6fbba-5406-4acf-abcd-212f6406a41e",
   "metadata": {},
   "outputs": [],
   "source": [
    "data = pd.read_csv('datasets/Odia/valid.csv')"
   ]
  },
  {
   "cell_type": "code",
   "execution_count": 183,
   "id": "bbb7d0b9-038f-4f84-91a4-5c30a4cae395",
   "metadata": {},
   "outputs": [
    {
     "data": {
      "text/html": [
       "<div>\n",
       "<style scoped>\n",
       "    .dataframe tbody tr th:only-of-type {\n",
       "        vertical-align: middle;\n",
       "    }\n",
       "\n",
       "    .dataframe tbody tr th {\n",
       "        vertical-align: top;\n",
       "    }\n",
       "\n",
       "    .dataframe thead th {\n",
       "        text-align: right;\n",
       "    }\n",
       "</style>\n",
       "<table border=\"1\" class=\"dataframe\">\n",
       "  <thead>\n",
       "    <tr style=\"text-align: right;\">\n",
       "      <th></th>\n",
       "      <th>headings</th>\n",
       "      <th>label</th>\n",
       "    </tr>\n",
       "  </thead>\n",
       "  <tbody>\n",
       "    <tr>\n",
       "      <th>0</th>\n",
       "      <td>ପୂର୍ବାଞ୍ଚଳ ହ୍ୟାଣ୍ଡ୍‌ବଲ୍‌: ଓଡ଼ିଶାକୁ କାଂସ୍ୟ</td>\n",
       "      <td>sports</td>\n",
       "    </tr>\n",
       "    <tr>\n",
       "      <th>1</th>\n",
       "      <td>ବସ୍‌, ଟ୍ରେନ୍‌ ଗନ୍ତବ୍ୟ ସ୍ଥଳର ଆଗୁଆ ସୂଚନା ଦେବ ଗୁ...</td>\n",
       "      <td>business</td>\n",
       "    </tr>\n",
       "    <tr>\n",
       "      <th>2</th>\n",
       "      <td>ରିଭର୍ସ ଗିୟରରେ ଚାଲିବ ସ୍କୁଟର, ୨ ଘଂଟା ଚାର୍ଜ କଲେ ...</td>\n",
       "      <td>business</td>\n",
       "    </tr>\n",
       "    <tr>\n",
       "      <th>3</th>\n",
       "      <td>ବେଲଜିୟମ ଓ କାନାଡା ଦଳରେ ପରିବର୍ତନ</td>\n",
       "      <td>sports</td>\n",
       "    </tr>\n",
       "    <tr>\n",
       "      <th>4</th>\n",
       "      <td>ରୋନାଲ୍‌ଡୋଙ୍କୁ ପଞ୍ଚମ ଥର ବାଲନ୍‌ ଡି’ଓର୍‌ ସମ୍ମାନ</td>\n",
       "      <td>sports</td>\n",
       "    </tr>\n",
       "  </tbody>\n",
       "</table>\n",
       "</div>"
      ],
      "text/plain": [
       "                                            headings     label\n",
       "0          ପୂର୍ବାଞ୍ଚଳ ହ୍ୟାଣ୍ଡ୍‌ବଲ୍‌: ଓଡ଼ିଶାକୁ କାଂସ୍ୟ     sports\n",
       "1   ବସ୍‌, ଟ୍ରେନ୍‌ ଗନ୍ତବ୍ୟ ସ୍ଥଳର ଆଗୁଆ ସୂଚନା ଦେବ ଗୁ...  business\n",
       "2   ରିଭର୍ସ ଗିୟରରେ ଚାଲିବ ସ୍କୁଟର, ୨ ଘଂଟା ଚାର୍ଜ କଲେ ...  business\n",
       "3                    ବେଲଜିୟମ ଓ କାନାଡା ଦଳରେ ପରିବର୍ତନ     sports\n",
       "4      ରୋନାଲ୍‌ଡୋଙ୍କୁ ପଞ୍ଚମ ଥର ବାଲନ୍‌ ଡି’ଓର୍‌ ସମ୍ମାନ     sports"
      ]
     },
     "execution_count": 183,
     "metadata": {},
     "output_type": "execute_result"
    }
   ],
   "source": [
    "data.head()"
   ]
  },
  {
   "cell_type": "code",
   "execution_count": 186,
   "id": "9bbbc18e-f89c-47e2-aee9-5aacc9972157",
   "metadata": {},
   "outputs": [
    {
     "data": {
      "text/plain": [
       "' ଶାଶୁଙ୍କ ମୃତ୍ୟୁ ପରେ ଘର ସମ୍ଭାଳିବା ପାଇଁ ଚାକିରି ଛାଡ଼ି ଥିବା ବୋହୂ ହ୍ଵାଟସ୍\\u200c ଆପ୍\\u200c ଜରିଆରେ ଶାଢ଼ି ବ୍ୟବସାୟ କରି… '"
      ]
     },
     "execution_count": 186,
     "metadata": {},
     "output_type": "execute_result"
    }
   ],
   "source": [
    "data['headings'][99]"
   ]
  },
  {
   "cell_type": "code",
   "execution_count": 187,
   "id": "95a5c361-37e4-478c-b273-cf3aa0de4d93",
   "metadata": {},
   "outputs": [],
   "source": [
    "data = data[['headings']]"
   ]
  },
  {
   "cell_type": "code",
   "execution_count": 188,
   "id": "0542e79f-18ff-438e-bfe4-72c303a8d8a3",
   "metadata": {},
   "outputs": [
    {
     "data": {
      "text/html": [
       "<div>\n",
       "<style scoped>\n",
       "    .dataframe tbody tr th:only-of-type {\n",
       "        vertical-align: middle;\n",
       "    }\n",
       "\n",
       "    .dataframe tbody tr th {\n",
       "        vertical-align: top;\n",
       "    }\n",
       "\n",
       "    .dataframe thead th {\n",
       "        text-align: right;\n",
       "    }\n",
       "</style>\n",
       "<table border=\"1\" class=\"dataframe\">\n",
       "  <thead>\n",
       "    <tr style=\"text-align: right;\">\n",
       "      <th></th>\n",
       "      <th>headings</th>\n",
       "    </tr>\n",
       "  </thead>\n",
       "  <tbody>\n",
       "    <tr>\n",
       "      <th>0</th>\n",
       "      <td>ପୂର୍ବାଞ୍ଚଳ ହ୍ୟାଣ୍ଡ୍‌ବଲ୍‌: ଓଡ଼ିଶାକୁ କାଂସ୍ୟ</td>\n",
       "    </tr>\n",
       "    <tr>\n",
       "      <th>1</th>\n",
       "      <td>ବସ୍‌, ଟ୍ରେନ୍‌ ଗନ୍ତବ୍ୟ ସ୍ଥଳର ଆଗୁଆ ସୂଚନା ଦେବ ଗୁ...</td>\n",
       "    </tr>\n",
       "    <tr>\n",
       "      <th>2</th>\n",
       "      <td>ରିଭର୍ସ ଗିୟରରେ ଚାଲିବ ସ୍କୁଟର, ୨ ଘଂଟା ଚାର୍ଜ କଲେ ...</td>\n",
       "    </tr>\n",
       "    <tr>\n",
       "      <th>3</th>\n",
       "      <td>ବେଲଜିୟମ ଓ କାନାଡା ଦଳରେ ପରିବର୍ତନ</td>\n",
       "    </tr>\n",
       "    <tr>\n",
       "      <th>4</th>\n",
       "      <td>ରୋନାଲ୍‌ଡୋଙ୍କୁ ପଞ୍ଚମ ଥର ବାଲନ୍‌ ଡି’ଓର୍‌ ସମ୍ମାନ</td>\n",
       "    </tr>\n",
       "  </tbody>\n",
       "</table>\n",
       "</div>"
      ],
      "text/plain": [
       "                                            headings\n",
       "0          ପୂର୍ବାଞ୍ଚଳ ହ୍ୟାଣ୍ଡ୍‌ବଲ୍‌: ଓଡ଼ିଶାକୁ କାଂସ୍ୟ \n",
       "1   ବସ୍‌, ଟ୍ରେନ୍‌ ଗନ୍ତବ୍ୟ ସ୍ଥଳର ଆଗୁଆ ସୂଚନା ଦେବ ଗୁ...\n",
       "2   ରିଭର୍ସ ଗିୟରରେ ଚାଲିବ ସ୍କୁଟର, ୨ ଘଂଟା ଚାର୍ଜ କଲେ ...\n",
       "3                    ବେଲଜିୟମ ଓ କାନାଡା ଦଳରେ ପରିବର୍ତନ \n",
       "4      ରୋନାଲ୍‌ଡୋଙ୍କୁ ପଞ୍ଚମ ଥର ବାଲନ୍‌ ଡି’ଓର୍‌ ସମ୍ମାନ "
      ]
     },
     "execution_count": 188,
     "metadata": {},
     "output_type": "execute_result"
    }
   ],
   "source": [
    "data.head()"
   ]
  },
  {
   "cell_type": "code",
   "execution_count": 189,
   "id": "6547b39e-dc17-41c0-8c47-4b71ed43270f",
   "metadata": {},
   "outputs": [
    {
     "data": {
      "text/plain": [
       "(3801, 1)"
      ]
     },
     "execution_count": 189,
     "metadata": {},
     "output_type": "execute_result"
    }
   ],
   "source": [
    "data.shape"
   ]
  },
  {
   "cell_type": "code",
   "execution_count": 190,
   "id": "5ee42f3a-428b-498d-a149-3c185547eac9",
   "metadata": {},
   "outputs": [
    {
     "data": {
      "text/plain": [
       "headings    0\n",
       "dtype: int64"
      ]
     },
     "execution_count": 190,
     "metadata": {},
     "output_type": "execute_result"
    }
   ],
   "source": [
    "data.isna().sum()"
   ]
  },
  {
   "cell_type": "code",
   "execution_count": 191,
   "id": "6d311908-48b0-4e8e-9334-c8ed30ffd721",
   "metadata": {},
   "outputs": [
    {
     "data": {
      "text/plain": [
       "0"
      ]
     },
     "execution_count": 191,
     "metadata": {},
     "output_type": "execute_result"
    }
   ],
   "source": [
    "data.duplicated().sum()"
   ]
  },
  {
   "cell_type": "code",
   "execution_count": 192,
   "id": "673b70e7-8a8b-45b7-9c48-7851e55a5f08",
   "metadata": {},
   "outputs": [],
   "source": [
    "data['language'] = 'Odia'"
   ]
  },
  {
   "cell_type": "code",
   "execution_count": 196,
   "id": "975886db-35f0-4747-9599-1e79af35e759",
   "metadata": {},
   "outputs": [
    {
     "data": {
      "text/html": [
       "<div>\n",
       "<style scoped>\n",
       "    .dataframe tbody tr th:only-of-type {\n",
       "        vertical-align: middle;\n",
       "    }\n",
       "\n",
       "    .dataframe tbody tr th {\n",
       "        vertical-align: top;\n",
       "    }\n",
       "\n",
       "    .dataframe thead th {\n",
       "        text-align: right;\n",
       "    }\n",
       "</style>\n",
       "<table border=\"1\" class=\"dataframe\">\n",
       "  <thead>\n",
       "    <tr style=\"text-align: right;\">\n",
       "      <th></th>\n",
       "      <th>headings</th>\n",
       "      <th>language</th>\n",
       "    </tr>\n",
       "  </thead>\n",
       "  <tbody>\n",
       "    <tr>\n",
       "      <th>0</th>\n",
       "      <td>ପୂର୍ବାଞ୍ଚଳ ହ୍ୟାଣ୍ଡ୍‌ବଲ୍‌: ଓଡ଼ିଶାକୁ କାଂସ୍ୟ</td>\n",
       "      <td>Odia</td>\n",
       "    </tr>\n",
       "    <tr>\n",
       "      <th>1</th>\n",
       "      <td>ବସ୍‌, ଟ୍ରେନ୍‌ ଗନ୍ତବ୍ୟ ସ୍ଥଳର ଆଗୁଆ ସୂଚନା ଦେବ ଗୁ...</td>\n",
       "      <td>Odia</td>\n",
       "    </tr>\n",
       "    <tr>\n",
       "      <th>2</th>\n",
       "      <td>ରିଭର୍ସ ଗିୟରରେ ଚାଲିବ ସ୍କୁଟର, ୨ ଘଂଟା ଚାର୍ଜ କଲେ ...</td>\n",
       "      <td>Odia</td>\n",
       "    </tr>\n",
       "    <tr>\n",
       "      <th>3</th>\n",
       "      <td>ବେଲଜିୟମ ଓ କାନାଡା ଦଳରେ ପରିବର୍ତନ</td>\n",
       "      <td>Odia</td>\n",
       "    </tr>\n",
       "    <tr>\n",
       "      <th>4</th>\n",
       "      <td>ରୋନାଲ୍‌ଡୋଙ୍କୁ ପଞ୍ଚମ ଥର ବାଲନ୍‌ ଡି’ଓର୍‌ ସମ୍ମାନ</td>\n",
       "      <td>Odia</td>\n",
       "    </tr>\n",
       "  </tbody>\n",
       "</table>\n",
       "</div>"
      ],
      "text/plain": [
       "                                            headings language\n",
       "0          ପୂର୍ବାଞ୍ଚଳ ହ୍ୟାଣ୍ଡ୍‌ବଲ୍‌: ଓଡ଼ିଶାକୁ କାଂସ୍ୟ      Odia\n",
       "1   ବସ୍‌, ଟ୍ରେନ୍‌ ଗନ୍ତବ୍ୟ ସ୍ଥଳର ଆଗୁଆ ସୂଚନା ଦେବ ଗୁ...     Odia\n",
       "2   ରିଭର୍ସ ଗିୟରରେ ଚାଲିବ ସ୍କୁଟର, ୨ ଘଂଟା ଚାର୍ଜ କଲେ ...     Odia\n",
       "3                    ବେଲଜିୟମ ଓ କାନାଡା ଦଳରେ ପରିବର୍ତନ      Odia\n",
       "4      ରୋନାଲ୍‌ଡୋଙ୍କୁ ପଞ୍ଚମ ଥର ବାଲନ୍‌ ଡି’ଓର୍‌ ସମ୍ମାନ      Odia"
      ]
     },
     "execution_count": 196,
     "metadata": {},
     "output_type": "execute_result"
    }
   ],
   "source": [
    "data.head()"
   ]
  },
  {
   "cell_type": "code",
   "execution_count": 198,
   "id": "9bacf24d-f6e0-409b-ac51-70e55c6662bb",
   "metadata": {},
   "outputs": [],
   "source": [
    "data.rename(columns={\n",
    "    'headings': 'text'\n",
    "}, inplace=True)"
   ]
  },
  {
   "cell_type": "code",
   "execution_count": 199,
   "id": "335e08fa-aef6-4ae7-bfe1-37693a7b7a12",
   "metadata": {},
   "outputs": [],
   "source": [
    "final = pd.concat([odia1, data])"
   ]
  },
  {
   "cell_type": "code",
   "execution_count": 200,
   "id": "c29a5876-79fa-4715-b379-32939a1c0633",
   "metadata": {},
   "outputs": [
    {
     "data": {
      "text/html": [
       "<div>\n",
       "<style scoped>\n",
       "    .dataframe tbody tr th:only-of-type {\n",
       "        vertical-align: middle;\n",
       "    }\n",
       "\n",
       "    .dataframe tbody tr th {\n",
       "        vertical-align: top;\n",
       "    }\n",
       "\n",
       "    .dataframe thead th {\n",
       "        text-align: right;\n",
       "    }\n",
       "</style>\n",
       "<table border=\"1\" class=\"dataframe\">\n",
       "  <thead>\n",
       "    <tr style=\"text-align: right;\">\n",
       "      <th></th>\n",
       "      <th>text</th>\n",
       "      <th>language</th>\n",
       "    </tr>\n",
       "  </thead>\n",
       "  <tbody>\n",
       "    <tr>\n",
       "      <th>0</th>\n",
       "      <td>ଅବସର ପାଇଁ ଚିନ୍ତା ନାହିଁ: ମାତ୍ର ୩୩% ଲୋକ କରୁଛନ୍ତ...</td>\n",
       "      <td>Odia</td>\n",
       "    </tr>\n",
       "    <tr>\n",
       "      <th>1</th>\n",
       "      <td>‘ପଦ୍ମାବତ୍‌’ ରିଲିଜ୍‌ ଉପରେ କଟକଣା ଜାରି କଲା ହରିଆଣା…</td>\n",
       "      <td>Odia</td>\n",
       "    </tr>\n",
       "    <tr>\n",
       "      <th>2</th>\n",
       "      <td>ହାମିଲଟନ୍‌ ଟେଷ୍ଟରେ େଓ୍ଵଷ୍ଟଇଣ୍ଡିଜ୍‌ ୨୪୦ ରନ୍‌ରେ ...</td>\n",
       "      <td>Odia</td>\n",
       "    </tr>\n",
       "    <tr>\n",
       "      <th>3</th>\n",
       "      <td>ଏହି ବଲିଉଡ୍‌ ଅଭିନେତ୍ରୀଙ୍କ ନାଁରେ ରଖାଗଲା ଗଣ୍ଡାର ...</td>\n",
       "      <td>Odia</td>\n",
       "    </tr>\n",
       "    <tr>\n",
       "      <th>4</th>\n",
       "      <td>ଗିଲ୍‌କ୍ରିଷ୍ଟ, ବାଉଚର ଓ ସାଙ୍ଗାକାରାଙ୍କ ପରେ ଚତୁର୍...</td>\n",
       "      <td>Odia</td>\n",
       "    </tr>\n",
       "  </tbody>\n",
       "</table>\n",
       "</div>"
      ],
      "text/plain": [
       "                                                text language\n",
       "0   ଅବସର ପାଇଁ ଚିନ୍ତା ନାହିଁ: ମାତ୍ର ୩୩% ଲୋକ କରୁଛନ୍ତ...     Odia\n",
       "1   ‘ପଦ୍ମାବତ୍‌’ ରିଲିଜ୍‌ ଉପରେ କଟକଣା ଜାରି କଲା ହରିଆଣା…      Odia\n",
       "2   ହାମିଲଟନ୍‌ ଟେଷ୍ଟରେ େଓ୍ଵଷ୍ଟଇଣ୍ଡିଜ୍‌ ୨୪୦ ରନ୍‌ରେ ...     Odia\n",
       "3   ଏହି ବଲିଉଡ୍‌ ଅଭିନେତ୍ରୀଙ୍କ ନାଁରେ ରଖାଗଲା ଗଣ୍ଡାର ...     Odia\n",
       "4   ଗିଲ୍‌କ୍ରିଷ୍ଟ, ବାଉଚର ଓ ସାଙ୍ଗାକାରାଙ୍କ ପରେ ଚତୁର୍...     Odia"
      ]
     },
     "execution_count": 200,
     "metadata": {},
     "output_type": "execute_result"
    }
   ],
   "source": [
    "final.head()"
   ]
  },
  {
   "cell_type": "code",
   "execution_count": 201,
   "id": "546addcc-d480-4b00-913d-cd911f6a8d42",
   "metadata": {},
   "outputs": [
    {
     "data": {
      "text/plain": [
       "text        0\n",
       "language    0\n",
       "dtype: int64"
      ]
     },
     "execution_count": 201,
     "metadata": {},
     "output_type": "execute_result"
    }
   ],
   "source": [
    "data.isna().sum()"
   ]
  },
  {
   "cell_type": "code",
   "execution_count": 202,
   "id": "ff6cdee6-3e1c-4369-9b34-0ba793ff4b0e",
   "metadata": {},
   "outputs": [
    {
     "data": {
      "text/plain": [
       "0"
      ]
     },
     "execution_count": 202,
     "metadata": {},
     "output_type": "execute_result"
    }
   ],
   "source": [
    "data.duplicated().sum()"
   ]
  },
  {
   "cell_type": "code",
   "execution_count": 203,
   "id": "4c57f2b6-455c-451a-9cce-06b86a90111a",
   "metadata": {},
   "outputs": [],
   "source": [
    "data.to_csv('final/Odia.csv', index=None)"
   ]
  },
  {
   "cell_type": "markdown",
   "id": "bb749f83-ca97-45a4-b971-1837cc4489a6",
   "metadata": {},
   "source": [
    "## Tamil"
   ]
  },
  {
   "cell_type": "code",
   "execution_count": 218,
   "id": "580dff88-7e12-4348-8d87-752829bd18fd",
   "metadata": {},
   "outputs": [
    {
     "name": "stdout",
     "output_type": "stream",
     "text": [
      "tamilmurasu_dataset.csv\n"
     ]
    }
   ],
   "source": [
    "ls datasets/Tamil/"
   ]
  },
  {
   "cell_type": "code",
   "execution_count": 219,
   "id": "c2552c6a-7da5-4136-840c-7a908aa98115",
   "metadata": {},
   "outputs": [],
   "source": [
    "data = pd.read_csv('datasets/Tamil/tamilmurasu_dataset.csv')"
   ]
  },
  {
   "cell_type": "code",
   "execution_count": 221,
   "id": "7d589630-93f4-4eef-87a5-4d58842e8ecf",
   "metadata": {},
   "outputs": [
    {
     "data": {
      "text/html": [
       "<div>\n",
       "<style scoped>\n",
       "    .dataframe tbody tr th:only-of-type {\n",
       "        vertical-align: middle;\n",
       "    }\n",
       "\n",
       "    .dataframe tbody tr th {\n",
       "        vertical-align: top;\n",
       "    }\n",
       "\n",
       "    .dataframe thead th {\n",
       "        text-align: right;\n",
       "    }\n",
       "</style>\n",
       "<table border=\"1\" class=\"dataframe\">\n",
       "  <thead>\n",
       "    <tr style=\"text-align: right;\">\n",
       "      <th></th>\n",
       "      <th>news_id</th>\n",
       "      <th>news_date</th>\n",
       "      <th>news_category</th>\n",
       "      <th>news_title</th>\n",
       "      <th>news_article</th>\n",
       "    </tr>\n",
       "  </thead>\n",
       "  <tbody>\n",
       "    <tr>\n",
       "      <th>0</th>\n",
       "      <td>6</td>\n",
       "      <td>1/6/2011 2:45:49 PM</td>\n",
       "      <td>மர்மம்</td>\n",
       "      <td>தூக்கில் தொங்கும் சேவல்கள் திருடர்களை காவு வாங...</td>\n",
       "      <td>நாலு ஆள் உயரம், முறுக்கு மீசை, கையில் வீச்சரிவ...</td>\n",
       "    </tr>\n",
       "    <tr>\n",
       "      <th>1</th>\n",
       "      <td>9</td>\n",
       "      <td>1/6/2011 2:56:51 PM</td>\n",
       "      <td>மர்மம்</td>\n",
       "      <td>பவுர்ணமி ஜாமத்தில் மாயமான கர்ப்பிணி</td>\n",
       "      <td>அமானுஷ்யமான சம்பவங்கள் நம்மை சுற்றி ஆங்காங்கே ...</td>\n",
       "    </tr>\n",
       "    <tr>\n",
       "      <th>2</th>\n",
       "      <td>10</td>\n",
       "      <td>1/6/2011 3:02:00 PM</td>\n",
       "      <td>இந்தியா</td>\n",
       "      <td>காமன்வெல்த் ஊழல்: சுரேஷ் கல்மாடியிடம் 102 கேள்...</td>\n",
       "      <td>காமன்வெல்த் போட்டி ஏற்பாட்டில் நடைபெற்ற முறைகே...</td>\n",
       "    </tr>\n",
       "    <tr>\n",
       "      <th>3</th>\n",
       "      <td>11</td>\n",
       "      <td>1/6/2011 3:08:15 PM</td>\n",
       "      <td>மர்மம்</td>\n",
       "      <td>மச்சுபிச்சு மலை ரகசியம்</td>\n",
       "      <td>தென்அமெரிக்க நாடான பெருவில் காடுகள் மிகவும் பய...</td>\n",
       "    </tr>\n",
       "    <tr>\n",
       "      <th>4</th>\n",
       "      <td>12</td>\n",
       "      <td>1/6/2011 3:09:20 PM</td>\n",
       "      <td>மர்மம்</td>\n",
       "      <td>ரத்த பலி வாங்கும் விபரீத ஆவி!</td>\n",
       "      <td>கடந்த 18ம் தேதி சாயங்காலம்... அடைமழையை கிழித்த...</td>\n",
       "    </tr>\n",
       "  </tbody>\n",
       "</table>\n",
       "</div>"
      ],
      "text/plain": [
       "   news_id            news_date news_category  \\\n",
       "0        6  1/6/2011 2:45:49 PM        மர்மம்   \n",
       "1        9  1/6/2011 2:56:51 PM        மர்மம்   \n",
       "2       10  1/6/2011 3:02:00 PM       இந்தியா   \n",
       "3       11  1/6/2011 3:08:15 PM        மர்மம்   \n",
       "4       12  1/6/2011 3:09:20 PM        மர்மம்   \n",
       "\n",
       "                                          news_title  \\\n",
       "0  தூக்கில் தொங்கும் சேவல்கள் திருடர்களை காவு வாங...   \n",
       "1                பவுர்ணமி ஜாமத்தில் மாயமான கர்ப்பிணி   \n",
       "2  காமன்வெல்த் ஊழல்: சுரேஷ் கல்மாடியிடம் 102 கேள்...   \n",
       "3                            மச்சுபிச்சு மலை ரகசியம்   \n",
       "4                      ரத்த பலி வாங்கும் விபரீத ஆவி!   \n",
       "\n",
       "                                        news_article  \n",
       "0  நாலு ஆள் உயரம், முறுக்கு மீசை, கையில் வீச்சரிவ...  \n",
       "1  அமானுஷ்யமான சம்பவங்கள் நம்மை சுற்றி ஆங்காங்கே ...  \n",
       "2  காமன்வெல்த் போட்டி ஏற்பாட்டில் நடைபெற்ற முறைகே...  \n",
       "3  தென்அமெரிக்க நாடான பெருவில் காடுகள் மிகவும் பய...  \n",
       "4  கடந்த 18ம் தேதி சாயங்காலம்... அடைமழையை கிழித்த...  "
      ]
     },
     "execution_count": 221,
     "metadata": {},
     "output_type": "execute_result"
    }
   ],
   "source": [
    "data.head()"
   ]
  },
  {
   "cell_type": "code",
   "execution_count": 222,
   "id": "d48bcbcd-d711-473d-9cbb-02521d55ba4b",
   "metadata": {},
   "outputs": [
    {
     "data": {
      "text/plain": [
       "'தூக்கில் தொங்கும் சேவல்கள் திருடர்களை காவு வாங்கும் முனி'"
      ]
     },
     "execution_count": 222,
     "metadata": {},
     "output_type": "execute_result"
    }
   ],
   "source": [
    "data['news_title'][0]"
   ]
  },
  {
   "cell_type": "code",
   "execution_count": 223,
   "id": "5bd22c6d-ae09-478e-a479-37d819aa0b5e",
   "metadata": {},
   "outputs": [],
   "source": [
    "data = data[['news_title']]"
   ]
  },
  {
   "cell_type": "code",
   "execution_count": 225,
   "id": "f315daf4-c627-47fb-a4ac-e4e430321ee9",
   "metadata": {},
   "outputs": [
    {
     "data": {
      "text/html": [
       "<div>\n",
       "<style scoped>\n",
       "    .dataframe tbody tr th:only-of-type {\n",
       "        vertical-align: middle;\n",
       "    }\n",
       "\n",
       "    .dataframe tbody tr th {\n",
       "        vertical-align: top;\n",
       "    }\n",
       "\n",
       "    .dataframe thead th {\n",
       "        text-align: right;\n",
       "    }\n",
       "</style>\n",
       "<table border=\"1\" class=\"dataframe\">\n",
       "  <thead>\n",
       "    <tr style=\"text-align: right;\">\n",
       "      <th></th>\n",
       "      <th>news_title</th>\n",
       "    </tr>\n",
       "  </thead>\n",
       "  <tbody>\n",
       "    <tr>\n",
       "      <th>0</th>\n",
       "      <td>தூக்கில் தொங்கும் சேவல்கள் திருடர்களை காவு வாங...</td>\n",
       "    </tr>\n",
       "    <tr>\n",
       "      <th>1</th>\n",
       "      <td>பவுர்ணமி ஜாமத்தில் மாயமான கர்ப்பிணி</td>\n",
       "    </tr>\n",
       "    <tr>\n",
       "      <th>2</th>\n",
       "      <td>காமன்வெல்த் ஊழல்: சுரேஷ் கல்மாடியிடம் 102 கேள்...</td>\n",
       "    </tr>\n",
       "    <tr>\n",
       "      <th>3</th>\n",
       "      <td>மச்சுபிச்சு மலை ரகசியம்</td>\n",
       "    </tr>\n",
       "    <tr>\n",
       "      <th>4</th>\n",
       "      <td>ரத்த பலி வாங்கும் விபரீத ஆவி!</td>\n",
       "    </tr>\n",
       "  </tbody>\n",
       "</table>\n",
       "</div>"
      ],
      "text/plain": [
       "                                          news_title\n",
       "0  தூக்கில் தொங்கும் சேவல்கள் திருடர்களை காவு வாங...\n",
       "1                பவுர்ணமி ஜாமத்தில் மாயமான கர்ப்பிணி\n",
       "2  காமன்வெல்த் ஊழல்: சுரேஷ் கல்மாடியிடம் 102 கேள்...\n",
       "3                            மச்சுபிச்சு மலை ரகசியம்\n",
       "4                      ரத்த பலி வாங்கும் விபரீத ஆவி!"
      ]
     },
     "execution_count": 225,
     "metadata": {},
     "output_type": "execute_result"
    }
   ],
   "source": [
    "data.head()"
   ]
  },
  {
   "cell_type": "code",
   "execution_count": 226,
   "id": "45a05a15-4738-4e2c-98cd-549f5c3a1523",
   "metadata": {},
   "outputs": [
    {
     "data": {
      "text/plain": [
       "news_title    0\n",
       "dtype: int64"
      ]
     },
     "execution_count": 226,
     "metadata": {},
     "output_type": "execute_result"
    }
   ],
   "source": [
    "data.isna().sum()"
   ]
  },
  {
   "cell_type": "code",
   "execution_count": 227,
   "id": "41cb8848-5932-4788-bfcd-ad1f5192ca18",
   "metadata": {},
   "outputs": [
    {
     "data": {
      "text/plain": [
       "2080"
      ]
     },
     "execution_count": 227,
     "metadata": {},
     "output_type": "execute_result"
    }
   ],
   "source": [
    "data.duplicated().sum()"
   ]
  },
  {
   "cell_type": "code",
   "execution_count": 228,
   "id": "ba743c3d-a755-430a-a17f-7eaa44b01e9c",
   "metadata": {},
   "outputs": [
    {
     "data": {
      "text/plain": [
       "(126746, 1)"
      ]
     },
     "execution_count": 228,
     "metadata": {},
     "output_type": "execute_result"
    }
   ],
   "source": [
    "data.shape"
   ]
  },
  {
   "cell_type": "code",
   "execution_count": 229,
   "id": "fb86cd13-14bc-48e6-b134-4a4daa19a44a",
   "metadata": {},
   "outputs": [],
   "source": [
    "data.drop_duplicates(inplace=True)"
   ]
  },
  {
   "cell_type": "code",
   "execution_count": 230,
   "id": "3475426c-0790-4b3a-b60e-0737784ae186",
   "metadata": {},
   "outputs": [
    {
     "data": {
      "text/plain": [
       "(124666, 1)"
      ]
     },
     "execution_count": 230,
     "metadata": {},
     "output_type": "execute_result"
    }
   ],
   "source": [
    "data.shape"
   ]
  },
  {
   "cell_type": "code",
   "execution_count": 231,
   "id": "49668650-c32e-44b3-93c0-1fbb36fcff45",
   "metadata": {},
   "outputs": [],
   "source": [
    "data.rename(columns={\n",
    "    'news_title': 'text'\n",
    "}, inplace=True)"
   ]
  },
  {
   "cell_type": "code",
   "execution_count": 232,
   "id": "d16a5474-6ec7-4f37-8b32-b54982ec64c7",
   "metadata": {},
   "outputs": [
    {
     "data": {
      "text/html": [
       "<div>\n",
       "<style scoped>\n",
       "    .dataframe tbody tr th:only-of-type {\n",
       "        vertical-align: middle;\n",
       "    }\n",
       "\n",
       "    .dataframe tbody tr th {\n",
       "        vertical-align: top;\n",
       "    }\n",
       "\n",
       "    .dataframe thead th {\n",
       "        text-align: right;\n",
       "    }\n",
       "</style>\n",
       "<table border=\"1\" class=\"dataframe\">\n",
       "  <thead>\n",
       "    <tr style=\"text-align: right;\">\n",
       "      <th></th>\n",
       "      <th>text</th>\n",
       "    </tr>\n",
       "  </thead>\n",
       "  <tbody>\n",
       "    <tr>\n",
       "      <th>0</th>\n",
       "      <td>தூக்கில் தொங்கும் சேவல்கள் திருடர்களை காவு வாங...</td>\n",
       "    </tr>\n",
       "    <tr>\n",
       "      <th>1</th>\n",
       "      <td>பவுர்ணமி ஜாமத்தில் மாயமான கர்ப்பிணி</td>\n",
       "    </tr>\n",
       "    <tr>\n",
       "      <th>2</th>\n",
       "      <td>காமன்வெல்த் ஊழல்: சுரேஷ் கல்மாடியிடம் 102 கேள்...</td>\n",
       "    </tr>\n",
       "    <tr>\n",
       "      <th>3</th>\n",
       "      <td>மச்சுபிச்சு மலை ரகசியம்</td>\n",
       "    </tr>\n",
       "    <tr>\n",
       "      <th>4</th>\n",
       "      <td>ரத்த பலி வாங்கும் விபரீத ஆவி!</td>\n",
       "    </tr>\n",
       "  </tbody>\n",
       "</table>\n",
       "</div>"
      ],
      "text/plain": [
       "                                                text\n",
       "0  தூக்கில் தொங்கும் சேவல்கள் திருடர்களை காவு வாங...\n",
       "1                பவுர்ணமி ஜாமத்தில் மாயமான கர்ப்பிணி\n",
       "2  காமன்வெல்த் ஊழல்: சுரேஷ் கல்மாடியிடம் 102 கேள்...\n",
       "3                            மச்சுபிச்சு மலை ரகசியம்\n",
       "4                      ரத்த பலி வாங்கும் விபரீத ஆவி!"
      ]
     },
     "execution_count": 232,
     "metadata": {},
     "output_type": "execute_result"
    }
   ],
   "source": [
    "data.head()"
   ]
  },
  {
   "cell_type": "code",
   "execution_count": 233,
   "id": "646a5f4c-6473-47d2-9d5c-7be12c9678ba",
   "metadata": {},
   "outputs": [],
   "source": [
    "data['Language'] = 'Tamil'"
   ]
  },
  {
   "cell_type": "code",
   "execution_count": 234,
   "id": "98413ef0-a787-491f-a453-64a5a9be7906",
   "metadata": {},
   "outputs": [
    {
     "data": {
      "text/html": [
       "<div>\n",
       "<style scoped>\n",
       "    .dataframe tbody tr th:only-of-type {\n",
       "        vertical-align: middle;\n",
       "    }\n",
       "\n",
       "    .dataframe tbody tr th {\n",
       "        vertical-align: top;\n",
       "    }\n",
       "\n",
       "    .dataframe thead th {\n",
       "        text-align: right;\n",
       "    }\n",
       "</style>\n",
       "<table border=\"1\" class=\"dataframe\">\n",
       "  <thead>\n",
       "    <tr style=\"text-align: right;\">\n",
       "      <th></th>\n",
       "      <th>text</th>\n",
       "      <th>Language</th>\n",
       "    </tr>\n",
       "  </thead>\n",
       "  <tbody>\n",
       "    <tr>\n",
       "      <th>0</th>\n",
       "      <td>தூக்கில் தொங்கும் சேவல்கள் திருடர்களை காவு வாங...</td>\n",
       "      <td>Tamil</td>\n",
       "    </tr>\n",
       "    <tr>\n",
       "      <th>1</th>\n",
       "      <td>பவுர்ணமி ஜாமத்தில் மாயமான கர்ப்பிணி</td>\n",
       "      <td>Tamil</td>\n",
       "    </tr>\n",
       "    <tr>\n",
       "      <th>2</th>\n",
       "      <td>காமன்வெல்த் ஊழல்: சுரேஷ் கல்மாடியிடம் 102 கேள்...</td>\n",
       "      <td>Tamil</td>\n",
       "    </tr>\n",
       "    <tr>\n",
       "      <th>3</th>\n",
       "      <td>மச்சுபிச்சு மலை ரகசியம்</td>\n",
       "      <td>Tamil</td>\n",
       "    </tr>\n",
       "    <tr>\n",
       "      <th>4</th>\n",
       "      <td>ரத்த பலி வாங்கும் விபரீத ஆவி!</td>\n",
       "      <td>Tamil</td>\n",
       "    </tr>\n",
       "  </tbody>\n",
       "</table>\n",
       "</div>"
      ],
      "text/plain": [
       "                                                text Language\n",
       "0  தூக்கில் தொங்கும் சேவல்கள் திருடர்களை காவு வாங...    Tamil\n",
       "1                பவுர்ணமி ஜாமத்தில் மாயமான கர்ப்பிணி    Tamil\n",
       "2  காமன்வெல்த் ஊழல்: சுரேஷ் கல்மாடியிடம் 102 கேள்...    Tamil\n",
       "3                            மச்சுபிச்சு மலை ரகசியம்    Tamil\n",
       "4                      ரத்த பலி வாங்கும் விபரீத ஆவி!    Tamil"
      ]
     },
     "execution_count": 234,
     "metadata": {},
     "output_type": "execute_result"
    }
   ],
   "source": [
    "data.head()"
   ]
  },
  {
   "cell_type": "code",
   "execution_count": 235,
   "id": "2abe04bf-57ef-4ff6-a083-19f62874d5aa",
   "metadata": {},
   "outputs": [],
   "source": [
    "data.to_csv('final/Tamil.csv', index=None)"
   ]
  },
  {
   "cell_type": "markdown",
   "id": "6463b729-6b8c-456d-a406-aef5fef8b02f",
   "metadata": {},
   "source": [
    "## Telugu"
   ]
  },
  {
   "cell_type": "code",
   "execution_count": 245,
   "id": "5fe1a34f-6aef-4db6-979a-e66f36b5ac4e",
   "metadata": {},
   "outputs": [
    {
     "name": "stdout",
     "output_type": "stream",
     "text": [
      "'telugu_news_dataset (1).parquet'\n"
     ]
    }
   ],
   "source": [
    "ls datasets/Telugu/"
   ]
  },
  {
   "cell_type": "code",
   "execution_count": 247,
   "id": "99c639e4-12c2-4607-a354-ccbda3172f0b",
   "metadata": {},
   "outputs": [],
   "source": [
    "data = pd.read_parquet('datasets/Telugu/telugu_news_dataset (1).parquet')"
   ]
  },
  {
   "cell_type": "code",
   "execution_count": 248,
   "id": "44168213-9711-4aac-b61b-109c81c51044",
   "metadata": {},
   "outputs": [
    {
     "data": {
      "text/html": [
       "<div>\n",
       "<style scoped>\n",
       "    .dataframe tbody tr th:only-of-type {\n",
       "        vertical-align: middle;\n",
       "    }\n",
       "\n",
       "    .dataframe tbody tr th {\n",
       "        vertical-align: top;\n",
       "    }\n",
       "\n",
       "    .dataframe thead th {\n",
       "        text-align: right;\n",
       "    }\n",
       "</style>\n",
       "<table border=\"1\" class=\"dataframe\">\n",
       "  <thead>\n",
       "    <tr style=\"text-align: right;\">\n",
       "      <th></th>\n",
       "      <th>title</th>\n",
       "      <th>text</th>\n",
       "      <th>category</th>\n",
       "    </tr>\n",
       "  </thead>\n",
       "  <tbody>\n",
       "    <tr>\n",
       "      <th>0</th>\n",
       "      <td>పెళ్లి వార్తలను ఖండించిన కీర్తి సురేష్‌</td>\n",
       "      <td>\\n                \\n\\nచెన్నై : తనకు త్వరలో పెళ...</td>\n",
       "      <td>eenadu_cinema</td>\n",
       "    </tr>\n",
       "    <tr>\n",
       "      <th>1</th>\n",
       "      <td>ప్రభాస్‌ గురించి ఆ హీరోయిన్‌తో ఫ్యాన్స్‌ చర్చ</td>\n",
       "      <td>\\n                \\n\\nహైదరాబాద్‌: అభిమాన స్టార...</td>\n",
       "      <td>eenadu_cinema</td>\n",
       "    </tr>\n",
       "    <tr>\n",
       "      <th>2</th>\n",
       "      <td>250 మురికివాడ కుటుంబాలకు రకుల్‌ సాయం</td>\n",
       "      <td>\\n                లాక్‌డౌన్‌ ముగిసేంత వరకు ఫుడ...</td>\n",
       "      <td>eenadu_cinema</td>\n",
       "    </tr>\n",
       "    <tr>\n",
       "      <th>3</th>\n",
       "      <td>యువతలో మరో కోణాన్ని చూశా</td>\n",
       "      <td>\\n                \\n\\nయుద్ధం జరుగుతున్నప్పుడు ...</td>\n",
       "      <td>eenadu_cinema</td>\n",
       "    </tr>\n",
       "    <tr>\n",
       "      <th>4</th>\n",
       "      <td>మోదీ అభినందనలు</td>\n",
       "      <td>\\n                \\n\\nకరోనాపై పాటతో సందేశం ఇచ్...</td>\n",
       "      <td>eenadu_cinema</td>\n",
       "    </tr>\n",
       "  </tbody>\n",
       "</table>\n",
       "</div>"
      ],
      "text/plain": [
       "                                           title  \\\n",
       "0        పెళ్లి వార్తలను ఖండించిన కీర్తి సురేష్‌   \n",
       "1  ప్రభాస్‌ గురించి ఆ హీరోయిన్‌తో ఫ్యాన్స్‌ చర్చ   \n",
       "2           250 మురికివాడ కుటుంబాలకు రకుల్‌ సాయం   \n",
       "3                       యువతలో మరో కోణాన్ని చూశా   \n",
       "4                                 మోదీ అభినందనలు   \n",
       "\n",
       "                                                text       category  \n",
       "0  \\n                \\n\\nచెన్నై : తనకు త్వరలో పెళ...  eenadu_cinema  \n",
       "1  \\n                \\n\\nహైదరాబాద్‌: అభిమాన స్టార...  eenadu_cinema  \n",
       "2  \\n                లాక్‌డౌన్‌ ముగిసేంత వరకు ఫుడ...  eenadu_cinema  \n",
       "3  \\n                \\n\\nయుద్ధం జరుగుతున్నప్పుడు ...  eenadu_cinema  \n",
       "4  \\n                \\n\\nకరోనాపై పాటతో సందేశం ఇచ్...  eenadu_cinema  "
      ]
     },
     "execution_count": 248,
     "metadata": {},
     "output_type": "execute_result"
    }
   ],
   "source": [
    "data.head()"
   ]
  },
  {
   "cell_type": "code",
   "execution_count": 251,
   "id": "10a8dc72-03a5-450b-9adb-7868918e6bad",
   "metadata": {},
   "outputs": [
    {
     "data": {
      "text/plain": [
       "'సూపర్\\u200c ‘శక్తి’'"
      ]
     },
     "execution_count": 251,
     "metadata": {},
     "output_type": "execute_result"
    }
   ],
   "source": [
    "data['title'][99]"
   ]
  },
  {
   "cell_type": "code",
   "execution_count": 252,
   "id": "02481e4d-584d-4b63-b6a9-eb681244291c",
   "metadata": {},
   "outputs": [],
   "source": [
    "data = data[['title']]"
   ]
  },
  {
   "cell_type": "code",
   "execution_count": 253,
   "id": "aa745e51-503c-42f9-bad3-0c9d7d53a970",
   "metadata": {},
   "outputs": [
    {
     "data": {
      "text/html": [
       "<div>\n",
       "<style scoped>\n",
       "    .dataframe tbody tr th:only-of-type {\n",
       "        vertical-align: middle;\n",
       "    }\n",
       "\n",
       "    .dataframe tbody tr th {\n",
       "        vertical-align: top;\n",
       "    }\n",
       "\n",
       "    .dataframe thead th {\n",
       "        text-align: right;\n",
       "    }\n",
       "</style>\n",
       "<table border=\"1\" class=\"dataframe\">\n",
       "  <thead>\n",
       "    <tr style=\"text-align: right;\">\n",
       "      <th></th>\n",
       "      <th>title</th>\n",
       "    </tr>\n",
       "  </thead>\n",
       "  <tbody>\n",
       "    <tr>\n",
       "      <th>0</th>\n",
       "      <td>పెళ్లి వార్తలను ఖండించిన కీర్తి సురేష్‌</td>\n",
       "    </tr>\n",
       "    <tr>\n",
       "      <th>1</th>\n",
       "      <td>ప్రభాస్‌ గురించి ఆ హీరోయిన్‌తో ఫ్యాన్స్‌ చర్చ</td>\n",
       "    </tr>\n",
       "    <tr>\n",
       "      <th>2</th>\n",
       "      <td>250 మురికివాడ కుటుంబాలకు రకుల్‌ సాయం</td>\n",
       "    </tr>\n",
       "    <tr>\n",
       "      <th>3</th>\n",
       "      <td>యువతలో మరో కోణాన్ని చూశా</td>\n",
       "    </tr>\n",
       "    <tr>\n",
       "      <th>4</th>\n",
       "      <td>మోదీ అభినందనలు</td>\n",
       "    </tr>\n",
       "  </tbody>\n",
       "</table>\n",
       "</div>"
      ],
      "text/plain": [
       "                                           title\n",
       "0        పెళ్లి వార్తలను ఖండించిన కీర్తి సురేష్‌\n",
       "1  ప్రభాస్‌ గురించి ఆ హీరోయిన్‌తో ఫ్యాన్స్‌ చర్చ\n",
       "2           250 మురికివాడ కుటుంబాలకు రకుల్‌ సాయం\n",
       "3                       యువతలో మరో కోణాన్ని చూశా\n",
       "4                                 మోదీ అభినందనలు"
      ]
     },
     "execution_count": 253,
     "metadata": {},
     "output_type": "execute_result"
    }
   ],
   "source": [
    "data.head()"
   ]
  },
  {
   "cell_type": "code",
   "execution_count": 254,
   "id": "3174d979-4250-4151-8f72-1df244b709c5",
   "metadata": {},
   "outputs": [
    {
     "data": {
      "text/plain": [
       "title    0\n",
       "dtype: int64"
      ]
     },
     "execution_count": 254,
     "metadata": {},
     "output_type": "execute_result"
    }
   ],
   "source": [
    "data.isna().sum()"
   ]
  },
  {
   "cell_type": "code",
   "execution_count": 255,
   "id": "ddeaf40f-764c-4ff4-b3e6-9df3956d1a58",
   "metadata": {},
   "outputs": [
    {
     "data": {
      "text/plain": [
       "919"
      ]
     },
     "execution_count": 255,
     "metadata": {},
     "output_type": "execute_result"
    }
   ],
   "source": [
    "data.duplicated().sum()"
   ]
  },
  {
   "cell_type": "code",
   "execution_count": 256,
   "id": "c5b0aa92-eac9-48c7-bbae-a6f7cec506e5",
   "metadata": {},
   "outputs": [
    {
     "data": {
      "text/plain": [
       "(20527, 1)"
      ]
     },
     "execution_count": 256,
     "metadata": {},
     "output_type": "execute_result"
    }
   ],
   "source": [
    "data.shape"
   ]
  },
  {
   "cell_type": "code",
   "execution_count": 257,
   "id": "9bbc6732-8b91-42b1-bcdc-1302fc5dfeab",
   "metadata": {},
   "outputs": [],
   "source": [
    "data.drop_duplicates(inplace=True)"
   ]
  },
  {
   "cell_type": "code",
   "execution_count": 258,
   "id": "66cc183c-91ab-4459-9e08-2c25828efc95",
   "metadata": {},
   "outputs": [
    {
     "data": {
      "text/plain": [
       "(19608, 1)"
      ]
     },
     "execution_count": 258,
     "metadata": {},
     "output_type": "execute_result"
    }
   ],
   "source": [
    "data.shape"
   ]
  },
  {
   "cell_type": "code",
   "execution_count": 259,
   "id": "8e194e07-c2bb-4c61-9113-1603b1012009",
   "metadata": {},
   "outputs": [],
   "source": [
    "data.rename(columns={\n",
    "    'title': 'text'\n",
    "}, inplace=True)"
   ]
  },
  {
   "cell_type": "code",
   "execution_count": 260,
   "id": "89a3024e-8352-4c41-ac20-8ca64a9bb086",
   "metadata": {},
   "outputs": [],
   "source": [
    "data['language'] = 'Telugu'"
   ]
  },
  {
   "cell_type": "code",
   "execution_count": 261,
   "id": "2f90beef-887e-427c-951d-91b285282586",
   "metadata": {},
   "outputs": [
    {
     "data": {
      "text/html": [
       "<div>\n",
       "<style scoped>\n",
       "    .dataframe tbody tr th:only-of-type {\n",
       "        vertical-align: middle;\n",
       "    }\n",
       "\n",
       "    .dataframe tbody tr th {\n",
       "        vertical-align: top;\n",
       "    }\n",
       "\n",
       "    .dataframe thead th {\n",
       "        text-align: right;\n",
       "    }\n",
       "</style>\n",
       "<table border=\"1\" class=\"dataframe\">\n",
       "  <thead>\n",
       "    <tr style=\"text-align: right;\">\n",
       "      <th></th>\n",
       "      <th>text</th>\n",
       "      <th>language</th>\n",
       "    </tr>\n",
       "  </thead>\n",
       "  <tbody>\n",
       "    <tr>\n",
       "      <th>0</th>\n",
       "      <td>పెళ్లి వార్తలను ఖండించిన కీర్తి సురేష్‌</td>\n",
       "      <td>Telugu</td>\n",
       "    </tr>\n",
       "    <tr>\n",
       "      <th>1</th>\n",
       "      <td>ప్రభాస్‌ గురించి ఆ హీరోయిన్‌తో ఫ్యాన్స్‌ చర్చ</td>\n",
       "      <td>Telugu</td>\n",
       "    </tr>\n",
       "    <tr>\n",
       "      <th>2</th>\n",
       "      <td>250 మురికివాడ కుటుంబాలకు రకుల్‌ సాయం</td>\n",
       "      <td>Telugu</td>\n",
       "    </tr>\n",
       "    <tr>\n",
       "      <th>3</th>\n",
       "      <td>యువతలో మరో కోణాన్ని చూశా</td>\n",
       "      <td>Telugu</td>\n",
       "    </tr>\n",
       "    <tr>\n",
       "      <th>4</th>\n",
       "      <td>మోదీ అభినందనలు</td>\n",
       "      <td>Telugu</td>\n",
       "    </tr>\n",
       "  </tbody>\n",
       "</table>\n",
       "</div>"
      ],
      "text/plain": [
       "                                            text language\n",
       "0        పెళ్లి వార్తలను ఖండించిన కీర్తి సురేష్‌   Telugu\n",
       "1  ప్రభాస్‌ గురించి ఆ హీరోయిన్‌తో ఫ్యాన్స్‌ చర్చ   Telugu\n",
       "2           250 మురికివాడ కుటుంబాలకు రకుల్‌ సాయం   Telugu\n",
       "3                       యువతలో మరో కోణాన్ని చూశా   Telugu\n",
       "4                                 మోదీ అభినందనలు   Telugu"
      ]
     },
     "execution_count": 261,
     "metadata": {},
     "output_type": "execute_result"
    }
   ],
   "source": [
    "data.head()"
   ]
  },
  {
   "cell_type": "code",
   "execution_count": 262,
   "id": "8c93bb1d-889a-4e2b-a0bb-52d2bfca6e1c",
   "metadata": {},
   "outputs": [],
   "source": [
    "data.to_csv('final/Telugu.csv', index=None)"
   ]
  },
  {
   "cell_type": "code",
   "execution_count": null,
   "id": "5a7fe90f-30a9-4b20-9bd8-866965c51d40",
   "metadata": {},
   "outputs": [],
   "source": []
  }
 ],
 "metadata": {
  "kernelspec": {
   "display_name": "language_detection_env",
   "language": "python",
   "name": "language_detection_env"
  },
  "language_info": {
   "codemirror_mode": {
    "name": "ipython",
    "version": 3
   },
   "file_extension": ".py",
   "mimetype": "text/x-python",
   "name": "python",
   "nbconvert_exporter": "python",
   "pygments_lexer": "ipython3",
   "version": "3.12.3"
  }
 },
 "nbformat": 4,
 "nbformat_minor": 5
}
