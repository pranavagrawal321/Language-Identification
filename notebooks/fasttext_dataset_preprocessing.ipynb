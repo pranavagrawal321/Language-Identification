{
 "cells": [
  {
   "cell_type": "code",
   "execution_count": 1,
   "id": "44dc3264-d8ea-45c6-a117-a9d3700ee41d",
   "metadata": {},
   "outputs": [],
   "source": [
    "import pandas as pd"
   ]
  },
  {
   "cell_type": "code",
   "execution_count": 2,
   "id": "6a00d803-450d-480c-bbc9-e595fcccf712",
   "metadata": {},
   "outputs": [],
   "source": [
    "data = pd.read_csv('final_dataset.csv')"
   ]
  },
  {
   "cell_type": "code",
   "execution_count": 3,
   "id": "ee7d9782-6474-4b69-a8a1-9b377379fc5e",
   "metadata": {},
   "outputs": [
    {
     "data": {
      "text/html": [
       "<div>\n",
       "<style scoped>\n",
       "    .dataframe tbody tr th:only-of-type {\n",
       "        vertical-align: middle;\n",
       "    }\n",
       "\n",
       "    .dataframe tbody tr th {\n",
       "        vertical-align: top;\n",
       "    }\n",
       "\n",
       "    .dataframe thead th {\n",
       "        text-align: right;\n",
       "    }\n",
       "</style>\n",
       "<table border=\"1\" class=\"dataframe\">\n",
       "  <thead>\n",
       "    <tr style=\"text-align: right;\">\n",
       "      <th></th>\n",
       "      <th>text</th>\n",
       "      <th>language</th>\n",
       "    </tr>\n",
       "  </thead>\n",
       "  <tbody>\n",
       "    <tr>\n",
       "      <th>0</th>\n",
       "      <td>कांग्रेस नेता बलजिंदर सिंह की सोमवार को पंजाब ...</td>\n",
       "      <td>Hindi</td>\n",
       "    </tr>\n",
       "    <tr>\n",
       "      <th>1</th>\n",
       "      <td>केंद्रीय मंत्री प्रह्लाद पटेल ने लोकसभा और विध...</td>\n",
       "      <td>Hindi</td>\n",
       "    </tr>\n",
       "    <tr>\n",
       "      <th>2</th>\n",
       "      <td>आरबीआई के अधिकारियों ने एक लेख में लिखा है कि ...</td>\n",
       "      <td>Hindi</td>\n",
       "    </tr>\n",
       "    <tr>\n",
       "      <th>3</th>\n",
       "      <td>नामक्कल तमिलनाडु में शावरमा खाने से सोमवार को ...</td>\n",
       "      <td>Hindi</td>\n",
       "    </tr>\n",
       "    <tr>\n",
       "      <th>4</th>\n",
       "      <td>मणिपुर के मुख्यमंत्री एन बीरेन सिंह के आश्वासन...</td>\n",
       "      <td>Hindi</td>\n",
       "    </tr>\n",
       "  </tbody>\n",
       "</table>\n",
       "</div>"
      ],
      "text/plain": [
       "                                                text language\n",
       "0  कांग्रेस नेता बलजिंदर सिंह की सोमवार को पंजाब ...    Hindi\n",
       "1  केंद्रीय मंत्री प्रह्लाद पटेल ने लोकसभा और विध...    Hindi\n",
       "2  आरबीआई के अधिकारियों ने एक लेख में लिखा है कि ...    Hindi\n",
       "3  नामक्कल तमिलनाडु में शावरमा खाने से सोमवार को ...    Hindi\n",
       "4  मणिपुर के मुख्यमंत्री एन बीरेन सिंह के आश्वासन...    Hindi"
      ]
     },
     "execution_count": 3,
     "metadata": {},
     "output_type": "execute_result"
    }
   ],
   "source": [
    "data.head()"
   ]
  },
  {
   "cell_type": "code",
   "execution_count": 4,
   "id": "0dc6796b-560a-4b35-ba0a-1b4d5241e684",
   "metadata": {},
   "outputs": [],
   "source": [
    "with open('fasttext_dataset.txt', 'w', encoding='utf-8') as f:\n",
    "    for index, row in data.iterrows():\n",
    "        text = row['text']\n",
    "        language = row['language']\n",
    "        f.write(f'__label__{language} {text}\\n')"
   ]
  },
  {
   "cell_type": "code",
   "execution_count": 5,
   "id": "1dc89d02-26cb-4e62-a31f-ef7a83d14208",
   "metadata": {},
   "outputs": [
    {
     "name": "stdout",
     "output_type": "stream",
     "text": [
      "Defaulting to user installation because normal site-packages is not writeable\n",
      "Requirement already satisfied: fasttext in /home/pranav/.local/lib/python3.10/site-packages (0.9.2)\n",
      "Requirement already satisfied: numpy in /home/pranav/.local/lib/python3.10/site-packages (from fasttext) (1.26.4)\n",
      "Requirement already satisfied: setuptools>=0.7.0 in /usr/lib/python3/dist-packages (from fasttext) (59.6.0)\n",
      "Requirement already satisfied: pybind11>=2.2 in /home/pranav/.local/lib/python3.10/site-packages (from fasttext) (2.12.0)\n"
     ]
    }
   ],
   "source": [
    "!pip install fasttext"
   ]
  },
  {
   "cell_type": "code",
   "execution_count": 6,
   "id": "64a9c04a-90c6-4e17-85e6-4148a20c4b4e",
   "metadata": {},
   "outputs": [],
   "source": [
    "import fasttext"
   ]
  },
  {
   "cell_type": "code",
   "execution_count": 10,
   "id": "28f419cc-a8a2-41eb-b3bc-11572b6d9e2f",
   "metadata": {},
   "outputs": [],
   "source": [
    "training_data_path = 'fasttext_dataset.txt'"
   ]
  },
  {
   "cell_type": "code",
   "execution_count": 11,
   "id": "5e8132e4-620d-4faa-a166-85ebe5b15181",
   "metadata": {},
   "outputs": [],
   "source": [
    "model_save_path = 'fasttext_finetuned.bin'"
   ]
  },
  {
   "cell_type": "code",
   "execution_count": null,
   "id": "eb5f02bb-a9fe-49ec-bdac-5c399dd07392",
   "metadata": {},
   "outputs": [
    {
     "name": "stderr",
     "output_type": "stream",
     "text": [
      "Read 208M words\n",
      "Number of words:  4626144\n",
      "Number of labels: 12\n",
      "Progress:   3.2% words/sec/thread:  709814 lr:  0.967810 avg.loss:  0.000658 ETA:   0h43m 2s"
     ]
    }
   ],
   "source": [
    "model = fasttext.train_supervised(input=training_data_path, epoch=100, lr=1.0)"
   ]
  },
  {
   "cell_type": "code",
   "execution_count": null,
   "id": "6fa5d359-826c-46a8-90eb-20d4c35ef33b",
   "metadata": {},
   "outputs": [],
   "source": [
    "model.save_model(\"fasttext_finetuned.bin\")"
   ]
  },
  {
   "cell_type": "code",
   "execution_count": null,
   "id": "ff7c2769-6e95-4ea3-8ad8-618c1034926b",
   "metadata": {},
   "outputs": [],
   "source": [
    "loaded_model = fasttext.load_model(\"fasttext_finetuned.bin\")"
   ]
  },
  {
   "cell_type": "code",
   "execution_count": null,
   "id": "0925cffb-dd69-4e9f-b352-ca9985bb5251",
   "metadata": {},
   "outputs": [],
   "source": [
    "text = \"Inheritance Tax: जब अरुण जेटली ने लगाया था कुछ इसी तरह का टैक्‍स, भारी व‍िरोध के बाद मोदी सरकार को लेना पड़ा था वापस\"\n",
    "loaded_model.predict(text)"
   ]
  },
  {
   "cell_type": "code",
   "execution_count": null,
   "id": "78a36d83-2be9-4dc7-83e2-b80e5bac1077",
   "metadata": {},
   "outputs": [],
   "source": []
  }
 ],
 "metadata": {
  "kernelspec": {
   "display_name": "language_detection_env",
   "language": "python",
   "name": "language_detection_env"
  },
  "language_info": {
   "codemirror_mode": {
    "name": "ipython",
    "version": 3
   },
   "file_extension": ".py",
   "mimetype": "text/x-python",
   "name": "python",
   "nbconvert_exporter": "python",
   "pygments_lexer": "ipython3",
   "version": "3.10.12"
  }
 },
 "nbformat": 4,
 "nbformat_minor": 5
}
