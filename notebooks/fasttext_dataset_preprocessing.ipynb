{
 "cells": [
  {
   "cell_type": "code",
   "execution_count": 1,
   "id": "44dc3264-d8ea-45c6-a117-a9d3700ee41d",
   "metadata": {},
   "outputs": [],
   "source": [
    "import pandas as pd"
   ]
  },
  {
   "cell_type": "code",
   "execution_count": 2,
   "id": "6a00d803-450d-480c-bbc9-e595fcccf712",
   "metadata": {},
   "outputs": [],
   "source": [
    "data = pd.read_csv('../Languages.csv')"
   ]
  },
  {
   "cell_type": "code",
   "execution_count": 3,
   "id": "ee7d9782-6474-4b69-a8a1-9b377379fc5e",
   "metadata": {},
   "outputs": [
    {
     "data": {
      "text/html": [
       "<div>\n",
       "<style scoped>\n",
       "    .dataframe tbody tr th:only-of-type {\n",
       "        vertical-align: middle;\n",
       "    }\n",
       "\n",
       "    .dataframe tbody tr th {\n",
       "        vertical-align: top;\n",
       "    }\n",
       "\n",
       "    .dataframe thead th {\n",
       "        text-align: right;\n",
       "    }\n",
       "</style>\n",
       "<table border=\"1\" class=\"dataframe\">\n",
       "  <thead>\n",
       "    <tr style=\"text-align: right;\">\n",
       "      <th></th>\n",
       "      <th>text</th>\n",
       "      <th>language</th>\n",
       "    </tr>\n",
       "  </thead>\n",
       "  <tbody>\n",
       "    <tr>\n",
       "      <th>0</th>\n",
       "      <td>কাৰাবন্দীৰ পৰা গৃহবন্দী হৈ উভতিল আং ছান ছু কী</td>\n",
       "      <td>Assamese</td>\n",
       "    </tr>\n",
       "    <tr>\n",
       "      <th>1</th>\n",
       "      <td>চীন কোৰিয়া ইণ্ডোনেছিয়াৰ পৰা আমদানি কৰা অপটিক...</td>\n",
       "      <td>Assamese</td>\n",
       "    </tr>\n",
       "    <tr>\n",
       "      <th>2</th>\n",
       "      <td>গ্ৰেপ্তাৰ হল ইমৰান খানদুৰ্নীতিৰ গোচৰত তিনিবছৰৰ...</td>\n",
       "      <td>Assamese</td>\n",
       "    </tr>\n",
       "    <tr>\n",
       "      <th>3</th>\n",
       "      <td>এইবাৰ পাকিস্তানৰ যুৱকৰ সৈতে বিয়াত বহিল দুই সন...</td>\n",
       "      <td>Assamese</td>\n",
       "    </tr>\n",
       "    <tr>\n",
       "      <th>4</th>\n",
       "      <td>নিষেধাজ্ঞা নেওচি ভাৰতলৈ নেপালৰ বিলাহীঘোচ লৈ চা...</td>\n",
       "      <td>Assamese</td>\n",
       "    </tr>\n",
       "  </tbody>\n",
       "</table>\n",
       "</div>"
      ],
      "text/plain": [
       "                                                text  language\n",
       "0      কাৰাবন্দীৰ পৰা গৃহবন্দী হৈ উভতিল আং ছান ছু কী  Assamese\n",
       "1  চীন কোৰিয়া ইণ্ডোনেছিয়াৰ পৰা আমদানি কৰা অপটিক...  Assamese\n",
       "2  গ্ৰেপ্তাৰ হল ইমৰান খানদুৰ্নীতিৰ গোচৰত তিনিবছৰৰ...  Assamese\n",
       "3  এইবাৰ পাকিস্তানৰ যুৱকৰ সৈতে বিয়াত বহিল দুই সন...  Assamese\n",
       "4  নিষেধাজ্ঞা নেওচি ভাৰতলৈ নেপালৰ বিলাহীঘোচ লৈ চা...  Assamese"
      ]
     },
     "execution_count": 3,
     "metadata": {},
     "output_type": "execute_result"
    }
   ],
   "source": [
    "data.head()"
   ]
  },
  {
   "cell_type": "code",
   "execution_count": 4,
   "id": "0dc6796b-560a-4b35-ba0a-1b4d5241e684",
   "metadata": {},
   "outputs": [],
   "source": [
    "with open('../fasttext_dataset.txt', 'w', encoding='utf-8') as f:\n",
    "    for index, row in data.iterrows():\n",
    "        text = row['text']\n",
    "        language = row['language']\n",
    "        f.write(f'__label__{language} {text}\\n')"
   ]
  },
  {
   "cell_type": "code",
   "execution_count": 9,
   "id": "1dc89d02-26cb-4e62-a31f-ef7a83d14208",
   "metadata": {},
   "outputs": [
    {
     "name": "stdout",
     "output_type": "stream",
     "text": [
      "Requirement already satisfied: fasttext-wheel in /mnt/data/language_detection/language_detection_env/lib/python3.12/site-packages (0.9.2)\n",
      "Collecting scikit-learn\n",
      "  Downloading scikit_learn-1.5.0-cp312-cp312-manylinux_2_17_x86_64.manylinux2014_x86_64.whl.metadata (11 kB)\n",
      "Requirement already satisfied: pybind11>=2.2 in /mnt/data/language_detection/language_detection_env/lib/python3.12/site-packages (from fasttext-wheel) (2.12.0)\n",
      "Requirement already satisfied: setuptools>=0.7.0 in /mnt/data/language_detection/language_detection_env/lib/python3.12/site-packages (from fasttext-wheel) (69.5.1)\n",
      "Requirement already satisfied: numpy in /mnt/data/language_detection/language_detection_env/lib/python3.12/site-packages (from fasttext-wheel) (1.26.4)\n",
      "Collecting scipy>=1.6.0 (from scikit-learn)\n",
      "  Downloading scipy-1.13.1-cp312-cp312-manylinux_2_17_x86_64.manylinux2014_x86_64.whl.metadata (60 kB)\n",
      "\u001b[2K     \u001b[38;2;114;156;31m━━━━━━━━━━━━━━━━━━━━━━━━━━━━━━━━━━━━━━━━\u001b[0m \u001b[32m60.6/60.6 kB\u001b[0m \u001b[31m3.3 MB/s\u001b[0m eta \u001b[36m0:00:00\u001b[0m31m225.2 MB/s\u001b[0m eta \u001b[36m0:00:01\u001b[0m\n",
      "\u001b[?25hCollecting joblib>=1.2.0 (from scikit-learn)\n",
      "  Downloading joblib-1.4.2-py3-none-any.whl.metadata (5.4 kB)\n",
      "Collecting threadpoolctl>=3.1.0 (from scikit-learn)\n",
      "  Downloading threadpoolctl-3.5.0-py3-none-any.whl.metadata (13 kB)\n",
      "Downloading scikit_learn-1.5.0-cp312-cp312-manylinux_2_17_x86_64.manylinux2014_x86_64.whl (13.1 MB)\n",
      "\u001b[2K   \u001b[38;2;114;156;31m━━━━━━━━━━━━━━━━━━━━━━━━━━━━━━━━━━━━━━━━\u001b[0m \u001b[32m13.1/13.1 MB\u001b[0m \u001b[31m439.0 kB/s\u001b[0m eta \u001b[36m0:00:00\u001b[0mm eta \u001b[36m0:00:01\u001b[0m[36m0:00:01\u001b[0m\n",
      "\u001b[?25hDownloading joblib-1.4.2-py3-none-any.whl (301 kB)\n",
      "\u001b[2K   \u001b[38;2;114;156;31m━━━━━━━━━━━━━━━━━━━━━━━━━━━━━━━━━━━━━━━\u001b[0m \u001b[32m301.8/301.8 kB\u001b[0m \u001b[31m272.3 kB/s\u001b[0m eta \u001b[36m0:00:00\u001b[0m kB/s\u001b[0m eta \u001b[36m0:00:01\u001b[0m:01\u001b[0m\n",
      "\u001b[?25hDownloading scipy-1.13.1-cp312-cp312-manylinux_2_17_x86_64.manylinux2014_x86_64.whl (38.2 MB)\n",
      "\u001b[2K   \u001b[38;2;114;156;31m━━━━━━━━━━━━━━━━━━━━━━━━━━━━━━━━━━━━━━━━\u001b[0m \u001b[32m38.2/38.2 MB\u001b[0m \u001b[31m401.1 kB/s\u001b[0m eta \u001b[36m0:00:00\u001b[0mm eta \u001b[36m0:00:01\u001b[0m[36m0:00:03\u001b[0m\n",
      "\u001b[?25hDownloading threadpoolctl-3.5.0-py3-none-any.whl (18 kB)\n",
      "Installing collected packages: threadpoolctl, scipy, joblib, scikit-learn\n",
      "Successfully installed joblib-1.4.2 scikit-learn-1.5.0 scipy-1.13.1 threadpoolctl-3.5.0\n"
     ]
    }
   ],
   "source": [
    "!pip install fasttext-wheel scikit-learn"
   ]
  },
  {
   "cell_type": "code",
   "execution_count": 6,
   "id": "64a9c04a-90c6-4e17-85e6-4148a20c4b4e",
   "metadata": {},
   "outputs": [],
   "source": [
    "import fasttext"
   ]
  },
  {
   "cell_type": "code",
   "execution_count": 7,
   "id": "28f419cc-a8a2-41eb-b3bc-11572b6d9e2f",
   "metadata": {},
   "outputs": [],
   "source": [
    "training_data_path = '../fasttext_dataset.txt'"
   ]
  },
  {
   "cell_type": "code",
   "execution_count": 10,
   "id": "86f60984-9cb0-4edb-be0b-668d72687396",
   "metadata": {},
   "outputs": [],
   "source": [
    "from sklearn.model_selection import train_test_split"
   ]
  },
  {
   "cell_type": "code",
   "execution_count": 12,
   "id": "f496a9ec-0465-4731-8506-d0a29cb945e5",
   "metadata": {},
   "outputs": [],
   "source": [
    "X = data['text']\n",
    "y = data['language']"
   ]
  },
  {
   "cell_type": "code",
   "execution_count": 13,
   "id": "5c4051f1-9848-4124-9851-e0bf282f9fcd",
   "metadata": {},
   "outputs": [],
   "source": [
    "X_train, X_test, y_train, y_test = train_test_split(X, y, test_size=0.2, random_state=42)"
   ]
  },
  {
   "cell_type": "code",
   "execution_count": 15,
   "id": "447b807f-e380-4398-8263-1cf04642e906",
   "metadata": {},
   "outputs": [],
   "source": [
    "train = pd.DataFrame({'text': X_train, 'language': y_train})\n",
    "test = pd.DataFrame({'text': X_test, 'language': y_test})"
   ]
  },
  {
   "cell_type": "code",
   "execution_count": 16,
   "id": "974ef830-318e-4bdb-b81f-744b10feebc8",
   "metadata": {},
   "outputs": [],
   "source": [
    "with open('../fasttext_train.txt', 'w', encoding='utf-8') as f:\n",
    "    for index, row in train.iterrows():\n",
    "        text = row['text']\n",
    "        language = row['language']\n",
    "        f.write(f'__label__{language} {text}\\n')"
   ]
  },
  {
   "cell_type": "code",
   "execution_count": 17,
   "id": "eb4376b6-5430-4015-816d-574fe9afa869",
   "metadata": {},
   "outputs": [],
   "source": [
    "with open('../fasttext_test.txt', 'w', encoding='utf-8') as f:\n",
    "    for index, row in test.iterrows():\n",
    "        text = row['text']\n",
    "        language = row['language']\n",
    "        f.write(f'__label__{language} {text}\\n')"
   ]
  },
  {
   "cell_type": "code",
   "execution_count": 18,
   "id": "5e8132e4-620d-4faa-a166-85ebe5b15181",
   "metadata": {},
   "outputs": [],
   "source": [
    "model_save_path = '../models/fasttext_finetuned.bin'"
   ]
  },
  {
   "cell_type": "code",
   "execution_count": 19,
   "id": "eb5f02bb-a9fe-49ec-bdac-5c399dd07392",
   "metadata": {},
   "outputs": [
    {
     "name": "stderr",
     "output_type": "stream",
     "text": [
      "Read 15M words\n",
      "Number of words:  951567\n",
      "Number of labels: 10\n",
      "Progress: 100.0% words/sec/thread: 1212134 lr:  0.000000 avg.loss:  0.001210 ETA:   0h 0m 0s\n"
     ]
    }
   ],
   "source": [
    "model = fasttext.train_supervised(input=\"../fasttext_train.txt\", epoch=100, lr=1.0)"
   ]
  },
  {
   "cell_type": "code",
   "execution_count": 20,
   "id": "6fa5d359-826c-46a8-90eb-20d4c35ef33b",
   "metadata": {},
   "outputs": [],
   "source": [
    "model.save_model(model_save_path)"
   ]
  },
  {
   "cell_type": "code",
   "execution_count": 21,
   "id": "ff7c2769-6e95-4ea3-8ad8-618c1034926b",
   "metadata": {},
   "outputs": [
    {
     "name": "stderr",
     "output_type": "stream",
     "text": [
      "Warning : `load_model` does not return WordVectorModel or SupervisedModel any more, but a `FastText` object which is very similar.\n"
     ]
    }
   ],
   "source": [
    "loaded_model = fasttext.load_model(model_save_path)"
   ]
  },
  {
   "cell_type": "code",
   "execution_count": 22,
   "id": "35cf4f48-0c21-4f60-bdb5-8240583f2b37",
   "metadata": {},
   "outputs": [],
   "source": [
    "test_data_path = '../fasttext_test.txt'"
   ]
  },
  {
   "cell_type": "code",
   "execution_count": 23,
   "id": "a9ddf7b2-e3e7-436c-bed8-8c248efa565b",
   "metadata": {},
   "outputs": [],
   "source": [
    "result = loaded_model.test(test_data_path)"
   ]
  },
  {
   "cell_type": "code",
   "execution_count": 24,
   "id": "89045f4b-ecb9-43ae-b117-41bd0f1dc416",
   "metadata": {},
   "outputs": [
    {
     "data": {
      "text/plain": [
       "(311999, 0.9944967772332604, 0.9944967772332604)"
      ]
     },
     "execution_count": 24,
     "metadata": {},
     "output_type": "execute_result"
    }
   ],
   "source": [
    "result"
   ]
  },
  {
   "cell_type": "code",
   "execution_count": 25,
   "id": "0925cffb-dd69-4e9f-b352-ca9985bb5251",
   "metadata": {},
   "outputs": [
    {
     "data": {
      "text/plain": [
       "(('__label__Gujarati',), array([1.00001001]))"
      ]
     },
     "execution_count": 25,
     "metadata": {},
     "output_type": "execute_result"
    }
   ],
   "source": [
    "text = \"ગુજરાતી ‍(/ɡʊdʒəˈrɑːti/[૬], રોમન લિપિમાં: Gujarātī, ઉચ્ચાર: [ɡudʒəˈɾɑːtiː]) ભારત દેશના ગુજરાત રાજ્યની ઇન્ડો-આર્યન ભાષા છે અને મુખ્યત્વે ગુજરાતી લોકો દ્વારા બોલાય છે. તે બૃહદ ઇન્ડો-યુરોપિયન ભાષા કુટુંબનો ભાગ છે. ગુજરાતીનો ઉદ્ભવ જૂની ગુજરાતી ભાષા (આશરે ઇ.સ. ૧૧૦૦-૧૫૦૦)માંથી થયો છે. તે ગુજરાત રાજ્ય અને દીવ, દમણ અને દાદરા-નગર હવેલી કેન્દ્રશાસિત પ્રદેશોની અધિકૃત ભાષા છે.\"\n",
    "loaded_model.predict(text)"
   ]
  },
  {
   "cell_type": "code",
   "execution_count": null,
   "id": "78a36d83-2be9-4dc7-83e2-b80e5bac1077",
   "metadata": {},
   "outputs": [],
   "source": []
  }
 ],
 "metadata": {
  "kernelspec": {
   "display_name": "language_detection_env",
   "language": "python",
   "name": "language_detection_env"
  },
  "language_info": {
   "codemirror_mode": {
    "name": "ipython",
    "version": 3
   },
   "file_extension": ".py",
   "mimetype": "text/x-python",
   "name": "python",
   "nbconvert_exporter": "python",
   "pygments_lexer": "ipython3",
   "version": "3.12.3"
  }
 },
 "nbformat": 4,
 "nbformat_minor": 5
}
