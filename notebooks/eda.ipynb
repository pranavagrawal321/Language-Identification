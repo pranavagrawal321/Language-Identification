{
 "cells": [
  {
   "cell_type": "code",
   "execution_count": 1,
   "id": "25afcd63-5e45-4efb-84f8-f49cad9325f5",
   "metadata": {},
   "outputs": [],
   "source": [
    "import pandas as pd"
   ]
  },
  {
   "cell_type": "code",
   "execution_count": 2,
   "id": "1640fbc5-8c1a-4d70-8a05-f10f8d1a75f5",
   "metadata": {},
   "outputs": [],
   "source": [
    "data = pd.read_csv('final_dataset.csv')"
   ]
  },
  {
   "cell_type": "code",
   "execution_count": 3,
   "id": "b43c24e0-e602-4d35-aae6-1b877a71300c",
   "metadata": {},
   "outputs": [
    {
     "data": {
      "text/html": [
       "<div>\n",
       "<style scoped>\n",
       "    .dataframe tbody tr th:only-of-type {\n",
       "        vertical-align: middle;\n",
       "    }\n",
       "\n",
       "    .dataframe tbody tr th {\n",
       "        vertical-align: top;\n",
       "    }\n",
       "\n",
       "    .dataframe thead th {\n",
       "        text-align: right;\n",
       "    }\n",
       "</style>\n",
       "<table border=\"1\" class=\"dataframe\">\n",
       "  <thead>\n",
       "    <tr style=\"text-align: right;\">\n",
       "      <th></th>\n",
       "      <th>text</th>\n",
       "      <th>language</th>\n",
       "    </tr>\n",
       "  </thead>\n",
       "  <tbody>\n",
       "    <tr>\n",
       "      <th>0</th>\n",
       "      <td>which corresponds to a distance of Mly or Mpc</td>\n",
       "      <td>English</td>\n",
       "    </tr>\n",
       "    <tr>\n",
       "      <th>1</th>\n",
       "      <td>webhost is a free web hosting service operated...</td>\n",
       "      <td>English</td>\n",
       "    </tr>\n",
       "    <tr>\n",
       "      <th>2</th>\n",
       "      <td>x is a Dutch born audiovisual artist currently...</td>\n",
       "      <td>English</td>\n",
       "    </tr>\n",
       "    <tr>\n",
       "      <th>3</th>\n",
       "      <td>is an alcohol abuse prevention program develop...</td>\n",
       "      <td>English</td>\n",
       "    </tr>\n",
       "    <tr>\n",
       "      <th>4</th>\n",
       "      <td>is the debut studio album of H llb nt released...</td>\n",
       "      <td>English</td>\n",
       "    </tr>\n",
       "  </tbody>\n",
       "</table>\n",
       "</div>"
      ],
      "text/plain": [
       "                                                text language\n",
       "0      which corresponds to a distance of Mly or Mpc  English\n",
       "1  webhost is a free web hosting service operated...  English\n",
       "2  x is a Dutch born audiovisual artist currently...  English\n",
       "3  is an alcohol abuse prevention program develop...  English\n",
       "4  is the debut studio album of H llb nt released...  English"
      ]
     },
     "execution_count": 3,
     "metadata": {},
     "output_type": "execute_result"
    }
   ],
   "source": [
    "data.head()"
   ]
  },
  {
   "cell_type": "code",
   "execution_count": 4,
   "id": "bc0ebf38-8c7e-4125-a151-57d340c98c2d",
   "metadata": {},
   "outputs": [
    {
     "data": {
      "text/plain": [
       "(7935983, 2)"
      ]
     },
     "execution_count": 4,
     "metadata": {},
     "output_type": "execute_result"
    }
   ],
   "source": [
    "data.shape"
   ]
  },
  {
   "cell_type": "code",
   "execution_count": 5,
   "id": "d6ed5723-3875-49ed-a1a2-51b6e84ecdd1",
   "metadata": {},
   "outputs": [
    {
     "data": {
      "text/plain": [
       "English      7698142\n",
       "Bengali        82980\n",
       "Telugu         47415\n",
       "Gujarati       28363\n",
       "Assamese       24357\n",
       "Tamil          20083\n",
       "Hindi          14462\n",
       "Odia           10052\n",
       "Malayalam       9132\n",
       "Punjabi          784\n",
       "Kannada          203\n",
       "Kashmiri          10\n",
       "Name: language, dtype: int64"
      ]
     },
     "execution_count": 5,
     "metadata": {},
     "output_type": "execute_result"
    }
   ],
   "source": [
    "data['language'].value_counts()"
   ]
  },
  {
   "cell_type": "code",
   "execution_count": 6,
   "id": "8e6551d9-e848-488b-835f-2c0d3eb53f3f",
   "metadata": {},
   "outputs": [
    {
     "data": {
      "text/plain": [
       "text        0\n",
       "language    0\n",
       "dtype: int64"
      ]
     },
     "execution_count": 6,
     "metadata": {},
     "output_type": "execute_result"
    }
   ],
   "source": [
    "data.isna().sum()"
   ]
  },
  {
   "cell_type": "code",
   "execution_count": 7,
   "id": "718a51ea-cff7-4641-a904-eae3b0f6ad84",
   "metadata": {},
   "outputs": [],
   "source": [
    "from sklearn.feature_extraction.text import CountVectorizer\n",
    "from sklearn.model_selection import train_test_split\n",
    "from sklearn.naive_bayes import MultinomialNB"
   ]
  },
  {
   "cell_type": "code",
   "execution_count": 8,
   "id": "cded3e24-18a5-4f42-bdc7-3cca68925d2a",
   "metadata": {},
   "outputs": [],
   "source": [
    "import numpy as np"
   ]
  },
  {
   "cell_type": "code",
   "execution_count": 9,
   "id": "1e855e6b-3082-4d92-873d-3da0321e71d2",
   "metadata": {},
   "outputs": [],
   "source": [
    "x = np.array(data[\"text\"])\n",
    "y = np.array(data[\"language\"])"
   ]
  },
  {
   "cell_type": "code",
   "execution_count": 10,
   "id": "b57840c6-9d01-430c-b92d-dbb282a02cff",
   "metadata": {},
   "outputs": [],
   "source": [
    "cv = CountVectorizer()"
   ]
  },
  {
   "cell_type": "code",
   "execution_count": null,
   "id": "922120f0-67d7-4710-83e0-1cfcd6b045a1",
   "metadata": {},
   "outputs": [],
   "source": [
    "X = cv.fit_transform(x)"
   ]
  },
  {
   "cell_type": "code",
   "execution_count": null,
   "id": "710c0f5b-8d5f-4079-8c2b-710af2b56099",
   "metadata": {},
   "outputs": [],
   "source": [
    "X_train, X_test, y_train, y_test = train_test_split(X, y, test_size=0.33, random_state=42)"
   ]
  },
  {
   "cell_type": "code",
   "execution_count": null,
   "id": "a4671be5-bdf6-4d6a-82eb-e170627836f7",
   "metadata": {},
   "outputs": [],
   "source": [
    "model = MultinomialNB()"
   ]
  },
  {
   "cell_type": "code",
   "execution_count": null,
   "id": "fa6f3504-d47b-4b3a-8333-350d7d9c95e6",
   "metadata": {},
   "outputs": [],
   "source": [
    "model.fit(X_train,y_train)"
   ]
  },
  {
   "cell_type": "code",
   "execution_count": null,
   "id": "774211cc-5a5a-44c1-9532-2edba1c039b4",
   "metadata": {},
   "outputs": [],
   "source": [
    "model.score(X_test,y_test)"
   ]
  },
  {
   "cell_type": "code",
   "execution_count": null,
   "id": "37b0ef5e-676e-4013-9020-2b1796a80055",
   "metadata": {},
   "outputs": [],
   "source": [
    "text = 'hey'"
   ]
  },
  {
   "cell_type": "code",
   "execution_count": null,
   "id": "4af8a417-cbee-416b-a325-764050759785",
   "metadata": {},
   "outputs": [],
   "source": [
    "data = cv.transform([text]).toarray()"
   ]
  },
  {
   "cell_type": "code",
   "execution_count": null,
   "id": "20d4fffe-b459-4da4-972a-80eb0daa2982",
   "metadata": {},
   "outputs": [],
   "source": [
    "output = model.predict(data)"
   ]
  },
  {
   "cell_type": "code",
   "execution_count": null,
   "id": "51592e6f-a5c1-4537-8b29-a883d9dfed5f",
   "metadata": {},
   "outputs": [],
   "source": [
    "print(output)"
   ]
  },
  {
   "cell_type": "code",
   "execution_count": null,
   "id": "91c74843-4f6b-4812-930d-6f2484a9a779",
   "metadata": {},
   "outputs": [],
   "source": []
  }
 ],
 "metadata": {
  "kernelspec": {
   "display_name": "language_detection_env",
   "language": "python",
   "name": "language_detection_env"
  },
  "language_info": {
   "codemirror_mode": {
    "name": "ipython",
    "version": 3
   },
   "file_extension": ".py",
   "mimetype": "text/x-python",
   "name": "python",
   "nbconvert_exporter": "python",
   "pygments_lexer": "ipython3",
   "version": "3.8.19"
  }
 },
 "nbformat": 4,
 "nbformat_minor": 5
}
